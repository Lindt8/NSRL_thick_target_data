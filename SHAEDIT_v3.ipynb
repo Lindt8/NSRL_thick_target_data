{
 "cells": [
  {
   "cell_type": "markdown",
   "metadata": {},
   "source": [
    "<h1><center>SHAEDIT</center></h1>\n",
    "\n",
    "Welcome to SHAEDIT, the Space Hadron Accelerator Experiment Data Investigation Tool!  This is a Jupyter notebook for conveniently viewing and comparing the data collected from the measurements of double-differential secondary particle yields from intermediate-energy hadrons incident on thick-targets.  These experimental measurements were made at the NASA Space Radiation Laboratory on the Brookhaven National Laboratory campus.\n",
    "\n",
    "There are a few steps you need to take before using this tool if this is your first session of this Jupyter notebook.  Above and on the right side of this body of text should be a small box which either says 'Trusted' or 'Not Trusted' inside it.  If this notebook is already trusted, then great!  If not, click the 'Not Trusted' box and confirm that you trust this notebook in the menu that appears.  This Jupyter notebook uses HTML and JavaScript for a few things to make using this notebook as clean an experience as possible and to allow cells, the individual units containing all of the code and UI elements below, to update by just pressing the buttons on the page (rather than having to manually run the cells), making this page usable by anyone regardless of their proficiency in any of these languages.\n",
    "\n",
    "After the notebook is trusted, all of the following cells need to be initialized.  Either click the 'restart kernal and re-run whole notebook' button above ( &#9193; ) or run the first few cells manually by either clicking the 'Run' button above or pressing Shift+Enter a few times and then clicking the green \"Initialize code\" button below once it has been initialized.  This procedure will only need to be performed once for each time the Jupyter notebook is launched.\n",
    "\n",
    "\n",
    "There are a few particular notes to be made about the data to prevent any confusion.\n",
    " - While all three target thicknesses were sampled for the pure Al and pure HDPE targets, only 20 g/cm&#178; and 60 g/cm&#178; targets were sampled for the hybrid/combination AlPE target, meaning no results exist for a 40 g/cm&#178; AlPE target.\n",
    " - All charged particles were measured in both the OLS and NaI detectors.  Neutrons were only measured in the OLS detectors.\n",
    " - This code does allow the user to input combinations for nonexistent datasets.  Such cases include requests for neutrons in the NaI detectors, results from a 40 g/cm&#178; AlPE target, or any secondary particle not observed or for which sufficient statistics did not exist to warrant publishing a spectrum.  Fortunately, the code will gracefully ignore requests for nonexistent data and will print a warning message above the plot for each ignored case, but please be aware that this possibility exists.\n",
    " - In the secondary particles list, the second category of neutron labeled as 'nDC' are a special exception from all of the other particles.  While all other secondaries were measured with time-of-flight techniques as produced in the upstream target, the 'nDC' set of neutrons was obtained by a pulse height spectrum deconvolution technique to characterize neutrons produced in the downstream target or elsewhere which either traveled directly to or scattered into the OLS detectors.  Due to the unknown production points of these neutrons, they cannot be normalized to solid angle.  Thus, one should avoid plotting these deconvoluted neutrons (nDC) in conjunction with any other secondary particle listed (though, the code does allow it since it could be a useful excercise for comparing just spectral shapes, not magnitudes).  However, a special exception has been added which will undo the solid angle normalization of upstream target neutrons when plotted in conjunction with these deconvoluted downstream neutrons, allowing for fair comparison of the two sets.  Note that the solid angles used for this action are just approximate since a system and neutron energy dependent solid angle was calculated for the actual upstream target results.\n"
   ]
  },
  {
   "cell_type": "code",
   "execution_count": 23,
   "metadata": {},
   "outputs": [
    {
     "data": {
      "text/html": [
       "<script>\n",
       "  function code_toggle() {\n",
       "    if (code_shown){\n",
       "      $('div.input').hide('500');\n",
       "      $('#toggleButton').val('Show Code')\n",
       "    } else {\n",
       "      $('div.input').show('500');\n",
       "      $('#toggleButton').val('Hide Code')\n",
       "    }\n",
       "    code_shown = !code_shown\n",
       "  }\n",
       "\n",
       "  $( document ).ready(function(){\n",
       "    code_shown=false;\n",
       "    $('div.input').hide()\n",
       "  });\n",
       "</script>\n",
       "<form action=\"javascript:code_toggle()\"><input type=\"submit\" id=\"toggleButton\" value=\"Show Code\"></form>"
      ],
      "text/plain": [
       "<IPython.core.display.HTML object>"
      ]
     },
     "execution_count": 23,
     "metadata": {},
     "output_type": "execute_result"
    }
   ],
   "source": [
    "%matplotlib notebook\n",
    "from IPython.display import HTML\n",
    "import numpy as np\n",
    "import matplotlib.pyplot as plt\n",
    "from matplotlib.collections import PatchCollection\n",
    "from matplotlib.patches import Rectangle\n",
    "import re\n",
    "from IPython.display import display\n",
    "import ipywidgets as w\n",
    "from IPython.display import Javascript\n",
    "import unicodedata as ud\n",
    "\n",
    "#from IPython.display import set_matplotlib_formats\n",
    "#set_matplotlib_formats('png', 'pdf')\n",
    "#%matplotlib inline\n",
    "#%config InlineBackend.figure_format = 'svg'\n",
    "\n",
    "HTML('''<script>\n",
    "  function code_toggle() {\n",
    "    if (code_shown){\n",
    "      $('div.input').hide('500');\n",
    "      $('#toggleButton').val('Show Code')\n",
    "    } else {\n",
    "      $('div.input').show('500');\n",
    "      $('#toggleButton').val('Hide Code')\n",
    "    }\n",
    "    code_shown = !code_shown\n",
    "  }\n",
    "\n",
    "  $( document ).ready(function(){\n",
    "    code_shown=false;\n",
    "    $('div.input').hide()\n",
    "  });\n",
    "</script>\n",
    "<form action=\"javascript:code_toggle()\"><input type=\"submit\" id=\"toggleButton\" value=\"Show Code\"></form>''')"
   ]
  },
  {
   "cell_type": "code",
   "execution_count": 85,
   "metadata": {
    "scrolled": true
   },
   "outputs": [
    {
     "data": {
      "application/javascript": [
       "IPython.notebook.execute_cells_below()"
      ],
      "text/plain": [
       "<IPython.core.display.Javascript object>"
      ]
     },
     "metadata": {},
     "output_type": "display_data"
    },
    {
     "data": {
      "application/vnd.jupyter.widget-view+json": {
       "model_id": "d27f7a9236654dd5b0da82389f8098a6",
       "version_major": 2,
       "version_minor": 0
      },
      "text/plain": [
       "A Jupyter Widget"
      ]
     },
     "metadata": {},
     "output_type": "display_data"
    }
   ],
   "source": [
    "def find(target, myList):\n",
    "    for i in range(len(myList)):\n",
    "        if myList[i] == target:\n",
    "            return i       \n",
    "\n",
    "def slugify(value):\n",
    "    \"\"\"\n",
    "    Normalizes string, converts to lowercase, removes non-alpha characters,\n",
    "    and converts spaces to hyphens.\n",
    "    \"\"\"\n",
    "    value = str(ud.normalize('NFKD', value).encode('ascii', 'ignore'))\n",
    "    value = str(re.sub('[^\\w\\s-]', '', value).strip().lower())\n",
    "    value = str(re.sub('[-\\s]+', '-', value))\n",
    "    return value\n",
    "        \n",
    "def on_click(change):\n",
    "    #display(Javascript('IPython.notebook.execute_cells_below()'))  \n",
    "    #display(Javascript('IPython.notebook.execute_cell_range(IPython.notebook.get_selected_index()+1, IPython.notebook.ncells())'))\n",
    "    #display(Javascript('IPython.notebook.execute_cell_range(IPython.notebook.get_selected_index()+1, 6)'))\n",
    "    display(Javascript('IPython.notebook.execute_cells'))\n",
    "\n",
    "def on_click_next(change):\n",
    "    display(Javascript('IPython.notebook.execute_cells([IPython.notebook.get_selected_index()+1])'))\n",
    "    \n",
    "def on_click_217(change):\n",
    "    global checkTF\n",
    "    checkTF = False\n",
    "    display(Javascript('IPython.notebook.execute_cells([3,4,5,6,7,8,9,10,11,12,13,14,15,16,17,18])'))\n",
    "\n",
    "def on_click_67(change):\n",
    "    display(Javascript('IPython.notebook.execute_cells([6,7])'))\n",
    "    \n",
    "def on_click_next_67(change):\n",
    "    display(Javascript('IPython.notebook.execute_cells([IPython.notebook.get_selected_index()+1,6,7])'))\n",
    "    \n",
    "def on_click_add_combos(change):\n",
    "    global combos, all_combos, update_print_str, currently_updating_fig_dims, refresh_options, refresh_opts\n",
    "    currently_updating_fig_dims = False # this allows addition of new items to automatically rescale fig height\n",
    "    combos = update_combo_variable()\n",
    "    try:\n",
    "        nco = len(combos)\n",
    "    except:\n",
    "        nco = 0\n",
    "    for i in range(len(combos)):\n",
    "        if combos[i] not in all_combos: all_combos.append(combos[i]) # only add unique entries\n",
    "    update_print_str = \"Added the selected \"+str(nco)+' items/combinations.'\n",
    "    if refresh_options.value == refresh_opts[0]:\n",
    "        display(Javascript('IPython.notebook.execute_cells([20,21,22])')) # redraw plot\n",
    "    else:\n",
    "        display(Javascript('IPython.notebook.execute_cells([20])')) # print update string\n",
    "    #print(print_str)\n",
    "\n",
    "def on_click_remove_combos(change):\n",
    "    global combos, all_combos, update_print_str, currently_updating_fig_dims, refresh_options, refresh_opts\n",
    "    currently_updating_fig_dims = False # this allows removal of items to automatically rescale fig height\n",
    "    combos = update_combo_variable()\n",
    "    try:\n",
    "        nco = len(combos)\n",
    "    except:\n",
    "        nco = 0\n",
    "    for i in range(len(combos)):\n",
    "        if combos[i] in all_combos:\n",
    "            all_combos.remove(combos[i]) # remove entries which are already in all_combos list\n",
    "    update_print_str = \"Removed the selected \"+str(nco)+' items/combinations.'\n",
    "    if refresh_options.value == refresh_opts[0]:\n",
    "        display(Javascript('IPython.notebook.execute_cells([20,21,22])')) # redraw plot\n",
    "    else:\n",
    "        display(Javascript('IPython.notebook.execute_cells([20])')) # print update string\n",
    "    #print(print_str)\n",
    "\n",
    "def on_click_clear_plot(change):\n",
    "    global combos, all_combos, update_print_str, currently_updating_fig_dims, refresh_options, refresh_opts\n",
    "    all_combos = [] # reset variable controlling what gets plotted\n",
    "    currently_updating_fig_dims = False # reset to default fig size\n",
    "    update_print_str = 'All items/combinations removed from plot.'\n",
    "    if refresh_options.value == refresh_opts[0]:\n",
    "        display(Javascript('IPython.notebook.execute_cells([20,21,22])')) # update all_combos and redraw plot\n",
    "    else:\n",
    "        display(Javascript('IPython.notebook.execute_cells([20])')) # print update string\n",
    "\n",
    "def on_click_refresh_plot(change):\n",
    "    global combos, all_combos, update_print_str, currently_updating_fig_dims\n",
    "    if len(all_combos)==0:\n",
    "        currently_updating_fig_dims = False # refreshing an empty plot always causes next render to use default figure dimensions\n",
    "    else:\n",
    "        currently_updating_fig_dims = True\n",
    "    update_print_str = 'Plot has been updated/refreshed!'\n",
    "    display(Javascript('IPython.notebook.execute_cells([20,21,22])')) # update and redraw plot\n",
    "    \n",
    "    \n",
    "def on_click_save_plot(change):\n",
    "    global fig, window_title, update_print_str\n",
    "    fname = r'images\\\\'+window_title+'.pdf'\n",
    "    fig.savefig(fname)\n",
    "    update_print_str = 'Plot saved to: '+fname\n",
    "    print(update_print_str) # print saved note\n",
    "    \n",
    "def on_click_save_plot_wbg(change):\n",
    "    global fig, window_title, update_print_str, bg_color\n",
    "    fname = r'images\\\\'+window_title+'_gbg.pdf'\n",
    "    fig.savefig(fname,facecolor=bg_color)\n",
    "    update_print_str = 'Plot saved to: '+fname\n",
    "    print(update_print_str) # print saved note\n",
    "\n",
    "def on_click_reset_sliders(change):\n",
    "    global fig_x_in, fig_y_in, default_fig_x_in, default_fig_y_in\n",
    "    fig_x_in, fig_y_in = default_fig_x_in, default_fig_y_in\n",
    "    display(Javascript('IPython.notebook.execute_cells([22])')) # refresh sliders\n",
    "    \n",
    "def on_click_zoom_out(change):\n",
    "    global zoom_mult\n",
    "    zoom_mult = 8\n",
    "    update_print_str = 'Zoomed out!'\n",
    "    display(Javascript('IPython.notebook.execute_cells([20,21,22])')) # redraw plot\n",
    "    \n",
    "    \n",
    "def update_combo_variable():\n",
    "    global combos\n",
    "    #display(Javascript('IPython.notebook.execute_cells([18])')) # update all_combos\n",
    "    # get all checkbox values\n",
    "    lisi = []\n",
    "    for i in range(len(ion_species)):\n",
    "        if ion_species[i].value: lisi.append(i)\n",
    "    \n",
    "    liei = []\n",
    "    for i in range(len(ion_ergs)):\n",
    "        if ion_ergs[i].value: liei.append(i)\n",
    "            \n",
    "    lftmi = []\n",
    "    for i in range(len(ft_mats)):\n",
    "        if ft_mats[i].value: lftmi.append(i)\n",
    "            \n",
    "    lftti = []\n",
    "    for i in range(len(ft_thks)):\n",
    "        if ft_thks[i].value: lftti.append(i)\n",
    "    \n",
    "    ldeti = []\n",
    "    for i in range(len(dets)):\n",
    "        if dets[i].value: ldeti.append(i)\n",
    "    \n",
    "    langi = []\n",
    "    for i in range(len(angs)):\n",
    "        if angs[i].value: langi.append(i)\n",
    "    \n",
    "    lspi = []\n",
    "    for i in range(len(secs)):\n",
    "        if secs[i].value: lspi.append(i)\n",
    "            \n",
    "    ldsi = []\n",
    "    for i in range(len(dss)):\n",
    "        if dss[i].value: ldsi.append(i)\n",
    "    \n",
    "            \n",
    "    # Gather all combinations of isi, iei, ftmi, ftti, di (deti+angi), spi\n",
    "    combos = []\n",
    "    for isi in lisi:\n",
    "        for iei in liei:\n",
    "            for ftmi in lftmi:\n",
    "                for ftti in lftti:\n",
    "                    for deti in ldeti:\n",
    "                        for ai in langi:\n",
    "                            # convert to 0-11 index form\n",
    "                            di_in = 6*deti + ai\n",
    "                            # Fix NaI values from the earlier reordering which makes OLS/NaI comparison easier\n",
    "                            if di_in==6: # user selected NaI 10\n",
    "                                di=7\n",
    "                            elif di_in==7: # user selected NaI 30\n",
    "                                di=10\n",
    "                            elif di_in==8: # user selected NaI 7.2\n",
    "                                di=6\n",
    "                            elif di_in==9: # user selected NaI 12.7\n",
    "                                di=8\n",
    "                            elif di_in==10: # user selected NaI 27.2\n",
    "                                di=9\n",
    "                            else:\n",
    "                                di = di_in\n",
    "                            \n",
    "                            for spi in lspi:\n",
    "                                for dsi in ldsi:\n",
    "                                    combos.append([dsi,isi,iei,ftmi,ftti,spi,di])\n",
    "    \n",
    "    return combos\n",
    "    \n",
    "def on_click_run_all(change):\n",
    "    display(Javascript('IPython.notebook.execute_cells_below()'))\n",
    "    \n",
    "# Function to plot error boxes\n",
    "def makeErrorBoxes(xdata,ydata,xerror,yerror,fc='None',ec='k',alpha=1.0,lw=1):\n",
    "    # Create list for all the error patches\n",
    "    errorboxes = []\n",
    "\n",
    "    # Loop over data points; create box from errors at each point\n",
    "    for xc,yc,xe,ye in zip(xdata,ydata,xerror.T,yerror.T):\n",
    "        rect = Rectangle((xc-xe[0],yc-ye[0]),xe.sum(),ye.sum())\n",
    "        errorboxes.append(rect)\n",
    "\n",
    "    # Create patch collection with specified colour/alpha\n",
    "    pc = PatchCollection(errorboxes,facecolor=fc,alpha=alpha,edgecolor=ec,linewidth=lw)\n",
    "\n",
    "    # Add collection to axes\n",
    "    ax.add_collection(pc)    \n",
    "\n",
    "def detector_colors(di):\n",
    "    #colors_list = ['b','g','r','c','m','y'] # Python 3 old default\n",
    "    #colors_list = ['#b2182b','#d6604d','#f4a582','#92c5de','#4393c3','#2166ac'] # blue to red cold\n",
    "    #colors_list = ['#d73027','#f46d43','#fdae61','#abd9e9','#74add1','#4575b4'] # blue to red warm\n",
    "    #colors_list = ['#762a83','#9970ab','#c2a5cf','#a6dba0','#5aae61','#1b7837'] # purple to green\n",
    "    #colors_list = ['#40004b','#762a83','#9970ab','#5aae61','#1b7837','#00441b'] # purple to green darker\n",
    "    #colors_list = [\"#afa83a\",\"#7f63b8\",\"#56ae6c\",\"#b84c7d\",\"#ac863f\",\"#b94d3d\"] # iWantHue 1\n",
    "    #colors_list = ['#1b9e77','#d95f02','#7570b3','#e7298a','#66a61e','#e6ab02'] # qualitative dark 1\n",
    "    colors_list = ['#e41a1c','#377eb8','#4daf4a','#984ea3','#ff7f00','#a65628'] # qualitative dark 2\n",
    "    return colors_list[di]\n",
    "\n",
    "def detector_colors_12(di):\n",
    "    colors_list = ['#e41a1c','#377eb8','#4daf4a','#984ea3','#ff7f00','#a65628','#8dd3c7','#bebada','#fb8072','#80b1d3','#fdb462','#b3de69']\n",
    "    return colors_list[di]\n",
    "    \n",
    "def ion_colors_5(isi):\n",
    "    colors_list = ['#e41a1c','#377eb8','#4daf4a','#984ea3','#ff7f00'] # qualitative dark 2\n",
    "    return colors_list[isi]\n",
    "\n",
    "def colors_3(i):\n",
    "    colors_list = ['#e41a1c','#377eb8','#4daf4a',] # qualitative dark 2\n",
    "    return colors_list[i]\n",
    "\n",
    "def sp_colors_7(spi):\n",
    "    colors_list = ['#e41a1c','#377eb8','#4daf4a','#984ea3','#ff7f00','#a65628','#f781bf'] # qualitative dark 2\n",
    "    return colors_list[spi]\n",
    "\n",
    "def gen_all_none_buttons():\n",
    "    # uses ToggleButtons\n",
    "    global all_none_strings\n",
    "    select_all_none = w.ToggleButtons(\n",
    "        options=all_none_strings,\n",
    "        description='',\n",
    "        disabled=False,\n",
    "        button_style='', # 'success', 'info', 'warning', 'danger' or ''\n",
    "        tooltips=all_none_strings,\n",
    "    #     icons=['check'] * 5\n",
    "    )\n",
    "    return select_all_none\n",
    "\n",
    "def gen_all_none_buttons_v2():\n",
    "    # uses actual Buttons\n",
    "    global all_none_strings\n",
    "    select_all = w.Button(\n",
    "        description=all_none_strings[0],\n",
    "        disabled=False,\n",
    "        button_style='', # 'success', 'info', 'warning', 'danger' or ''\n",
    "        tooltips=all_none_strings,\n",
    "    #     icons=['check'] * 5\n",
    "    )\n",
    "    select_none = w.Button(\n",
    "        description=all_none_strings[1],\n",
    "        disabled=False,\n",
    "        button_style='', # 'success', 'info', 'warning', 'danger' or ''\n",
    "        tooltips=all_none_strings,\n",
    "    #     icons=['check'] * 5\n",
    "    )\n",
    "    select_all_none = [select_all,select_none]\n",
    "    return select_all_none\n",
    "\n",
    "def on_click_set_checkF(change):\n",
    "    global checkTF\n",
    "    checkTF = False\n",
    "    display(Javascript('IPython.notebook.execute_cells([IPython.notebook.get_selected_index()+1])'))\n",
    "\n",
    "def on_click_set_checkT(change):\n",
    "    global checkTF\n",
    "    checkTF = True\n",
    "    display(Javascript('IPython.notebook.execute_cells([IPython.notebook.get_selected_index()+1])'))\n",
    "    \n",
    "data_version = 'v8'\n",
    "\n",
    "metadata_file = 'metadata_matrix_' + data_version + '.npy'\n",
    "mm_metadata = np.load(metadata_file) # data set, ion species, ion energy, target material, target thickness, secondary particle, detector, header meta data\n",
    "exists_file = 'exists_matrix_' + data_version + '.npy'\n",
    "mm_exists = np.load(exists_file) # data set, ion species, ion energy, target material, target thickness, secondary particle, detector\n",
    "\n",
    "#values_file = 'values_matrix_' + data_version + '.npy'\n",
    "#mm_values = np.load(values_file) # data set, ion species, ion energy, target material, target thickness, secondary particle, detector, column values, energy bins\n",
    "projectile_sym_str = ['H', 'He', 'C', 'Si', 'Fe']\n",
    "mm_values_names_list = []\n",
    "mm_values_list = []\n",
    "for i in range(5):\n",
    "    mm_values_names_list.append('values_matrix_' + projectile_sym_str[i].lower() + \"_\" + data_version + '.npy')\n",
    "    mm_values_list.append(np.load(mm_values_names_list[i]))\n",
    "\n",
    "#print(mm_metadata[0,0,0,0,0,0,0,0])\n",
    "\n",
    "OLS_SA_vals = [1.3343e-3,1.3381e-3,1.3376e-3,1.9072e-3,1.9066e-3,2.9180e-3]\n",
    "\n",
    "# Initialize variables that will be called\n",
    "all_combos = []\n",
    "combos = []\n",
    "update_print_str = \"\"\n",
    "checkTF = False\n",
    "currently_updating_fig_dims = False\n",
    "zoom_mult = 1 # default zoom level to reset to\n",
    "\n",
    "all_none_strings = ['Deselect All','Select All']\n",
    "\n",
    "# Style options\n",
    "in_publisher_mode = False\n",
    "#legend_type = 'double_outside_right'\n",
    "legend_type = 'combined_inside'\n",
    "legend_type_list = ['combined_inside','double_outside_right']\n",
    "\n",
    "run_all_label = w.Label(value='(This button also resets everything in this code to its default state.)')\n",
    "\n",
    "run_all_cells_button = w.Button(\n",
    "    description='Initialize code',\n",
    "    disabled=False,\n",
    "    button_style='success', # 'success', 'info', 'warning', 'danger' or ''\n",
    "    tooltip='Click to load all of the code cells if not already loaded.',\n",
    "    icon='play' # pencil, rotate-right, paint-brush\n",
    ")\n",
    "\n",
    "display(w.HBox([run_all_cells_button,run_all_label]))\n",
    "run_all_cells_button.on_click(on_click_run_all)"
   ]
  },
  {
   "cell_type": "code",
   "execution_count": 86,
   "metadata": {},
   "outputs": [
    {
     "data": {
      "application/vnd.jupyter.widget-view+json": {
       "model_id": "00b68d97d14a4e67a73ee311df325b14",
       "version_major": 2,
       "version_minor": 0
      },
      "text/plain": [
       "A Jupyter Widget"
      ]
     },
     "metadata": {},
     "output_type": "display_data"
    }
   ],
   "source": [
    "ion_label = w.Label(value=\"Select projectile ion species.\")\n",
    "ion_an = gen_all_none_buttons_v2()\n",
    "display(w.HBox([ion_label,ion_an[0],ion_an[1]]))\n",
    "ion_an[0].on_click(on_click_set_checkF)\n",
    "ion_an[1].on_click(on_click_set_checkT)"
   ]
  },
  {
   "cell_type": "code",
   "execution_count": 87,
   "metadata": {},
   "outputs": [
    {
     "data": {
      "application/vnd.jupyter.widget-view+json": {
       "model_id": "a78fa63b395b4813807f93b5f745e3d7",
       "version_major": 2,
       "version_minor": 0
      },
      "text/plain": [
       "A Jupyter Widget"
      ]
     },
     "metadata": {},
     "output_type": "display_data"
    }
   ],
   "source": [
    "ion_anb = checkTF\n",
    "\n",
    "projectile_sym_str = ['H', 'He', 'C', 'Si', 'Fe']\n",
    "projectile_longnames_str = ['Hydrogen', 'Helium', 'Carbon', 'Silicon', 'Iron']\n",
    "\n",
    "ion_species = [w.Checkbox(description=projectile_sym_str[i],indent=False,value=ion_anb) for i in range(len(projectile_sym_str))]\n",
    "\n",
    "display(w.HBox((ion_species),layout=w.Layout(width='50ex')))"
   ]
  },
  {
   "cell_type": "code",
   "execution_count": 88,
   "metadata": {},
   "outputs": [
    {
     "data": {
      "application/vnd.jupyter.widget-view+json": {
       "model_id": "8d25fe45dc1443e7a4ae25beeb9d2dad",
       "version_major": 2,
       "version_minor": 0
      },
      "text/plain": [
       "A Jupyter Widget"
      ]
     },
     "metadata": {},
     "output_type": "display_data"
    }
   ],
   "source": [
    "erg_label = w.Label(value=\"Select projectile ion energy(ies).\")\n",
    "erg_an = gen_all_none_buttons_v2()\n",
    "display(w.HBox([erg_label,erg_an[0],erg_an[1]]))\n",
    "erg_an[0].on_click(on_click_set_checkF)\n",
    "erg_an[1].on_click(on_click_set_checkT)"
   ]
  },
  {
   "cell_type": "code",
   "execution_count": 89,
   "metadata": {},
   "outputs": [
    {
     "data": {
      "application/vnd.jupyter.widget-view+json": {
       "model_id": "bfc3b2c0e22f47f1a4bed89912ab697d",
       "version_major": 2,
       "version_minor": 0
      },
      "text/plain": [
       "A Jupyter Widget"
      ]
     },
     "metadata": {},
     "output_type": "display_data"
    }
   ],
   "source": [
    "erg_anb = checkTF\n",
    "\n",
    "proj_E = ['400 MeV/n','800 MeV/n','1500 MeV/n (2500 MeV for H)']\n",
    "proj_E_short = ['400 MeV/n','800 MeV/n','1500 MeV/n']\n",
    "\n",
    "ion_ergs = [w.Checkbox(description=proj_E[i],indent=False,value=erg_anb) for i in range(len(proj_E))]\n",
    "\n",
    "display(w.HBox((ion_ergs),layout=w.Layout(width='60ex')))"
   ]
  },
  {
   "cell_type": "code",
   "execution_count": 90,
   "metadata": {},
   "outputs": [
    {
     "data": {
      "application/vnd.jupyter.widget-view+json": {
       "model_id": "2b0de49aca774641bc03c026e09e4319",
       "version_major": 2,
       "version_minor": 0
      },
      "text/plain": [
       "A Jupyter Widget"
      ]
     },
     "metadata": {},
     "output_type": "display_data"
    }
   ],
   "source": [
    "mat_label = w.Label(value=\"Select upstream target material(s).\")\n",
    "mat_an = gen_all_none_buttons_v2()\n",
    "display(w.HBox([mat_label,mat_an[0],mat_an[1]]))\n",
    "mat_an[0].on_click(on_click_set_checkF)\n",
    "mat_an[1].on_click(on_click_set_checkT)"
   ]
  },
  {
   "cell_type": "code",
   "execution_count": 91,
   "metadata": {},
   "outputs": [
    {
     "data": {
      "application/vnd.jupyter.widget-view+json": {
       "model_id": "e018d0d48b6d400d90661defe5a228bf",
       "version_major": 2,
       "version_minor": 0
      },
      "text/plain": [
       "A Jupyter Widget"
      ]
     },
     "metadata": {},
     "output_type": "display_data"
    }
   ],
   "source": [
    "mat_anb = checkTF\n",
    "\n",
    "target_mats_long = ['Aluminum','Polyethylene','Combination of Al and HDPE']\n",
    "target_mats_short = ['Al','HDPE','AlPE']\n",
    "\n",
    "ft_mats = [w.Checkbox(description=target_mats_long[i],indent=False,value=mat_anb) for i in range(len(target_mats_long))]\n",
    "\n",
    "display(w.HBox((ft_mats),layout=w.Layout(width='60ex')))"
   ]
  },
  {
   "cell_type": "code",
   "execution_count": 92,
   "metadata": {},
   "outputs": [
    {
     "data": {
      "application/vnd.jupyter.widget-view+json": {
       "model_id": "7ba89a15dc8f4be2a044c581540380be",
       "version_major": 2,
       "version_minor": 0
      },
      "text/plain": [
       "A Jupyter Widget"
      ]
     },
     "metadata": {},
     "output_type": "display_data"
    }
   ],
   "source": [
    "thk_label = w.Label(value=\"Select upstream target thickness(es).\")\n",
    "thk_an = gen_all_none_buttons_v2()\n",
    "display(w.HBox([thk_label,thk_an[0],thk_an[1]]))\n",
    "thk_an[0].on_click(on_click_set_checkF)\n",
    "thk_an[1].on_click(on_click_set_checkT)"
   ]
  },
  {
   "cell_type": "code",
   "execution_count": 93,
   "metadata": {},
   "outputs": [
    {
     "data": {
      "application/vnd.jupyter.widget-view+json": {
       "model_id": "cab6d88ddefe40089141af6c1aba1097",
       "version_major": 2,
       "version_minor": 0
      },
      "text/plain": [
       "A Jupyter Widget"
      ]
     },
     "metadata": {},
     "output_type": "display_data"
    }
   ],
   "source": [
    "thk_anb = checkTF\n",
    "\n",
    "thicknesses = ['20 g/cm\\u00B2','40 g/cm\\u00B2','60 g/cm\\u00B2']\n",
    "thicknesses_pretty = [r'20 g/cm$^2$',r'40 g/cm$^2$',r'60 g/cm$^2$']\n",
    "\n",
    "ft_thks = [w.Checkbox(description=thicknesses[i],indent=False,value=thk_anb) for i in range(len(thicknesses))]\n",
    "\n",
    "display(w.HBox((ft_thks),layout=w.Layout(width='50ex')))"
   ]
  },
  {
   "cell_type": "code",
   "execution_count": 94,
   "metadata": {},
   "outputs": [
    {
     "data": {
      "application/vnd.jupyter.widget-view+json": {
       "model_id": "02f9c09642ef424186f34d7864d19c32",
       "version_major": 2,
       "version_minor": 0
      },
      "text/plain": [
       "A Jupyter Widget"
      ]
     },
     "metadata": {},
     "output_type": "display_data"
    }
   ],
   "source": [
    "det_label = w.Label(value=\"Select detector type(s).\")\n",
    "det_an = gen_all_none_buttons_v2()\n",
    "display(w.HBox([det_label,det_an[0],det_an[1]]))\n",
    "det_an[0].on_click(on_click_set_checkF)\n",
    "det_an[1].on_click(on_click_set_checkT)"
   ]
  },
  {
   "cell_type": "code",
   "execution_count": 95,
   "metadata": {},
   "outputs": [
    {
     "data": {
      "application/vnd.jupyter.widget-view+json": {
       "model_id": "e7683accc13941b9b65b7c8d0211eadd",
       "version_major": 2,
       "version_minor": 0
      },
      "text/plain": [
       "A Jupyter Widget"
      ]
     },
     "metadata": {},
     "output_type": "display_data"
    }
   ],
   "source": [
    "det_anb = checkTF\n",
    "\n",
    "detectors_short = ['OLS','NaI']\n",
    "detectors_long = ['Organic Liquid Scintillator','Sodium Iodide']\n",
    "\n",
    "dets = [w.Checkbox(description=detectors_long[i],indent=False,value=det_anb) for i in range(len(detectors_short))]\n",
    "\n",
    "display(w.HBox((dets),layout=w.Layout(width='55ex')))"
   ]
  },
  {
   "cell_type": "code",
   "execution_count": 96,
   "metadata": {},
   "outputs": [
    {
     "data": {
      "application/vnd.jupyter.widget-view+json": {
       "model_id": "653cb528333849288bf75212aff7be0b",
       "version_major": 2,
       "version_minor": 0
      },
      "text/plain": [
       "A Jupyter Widget"
      ]
     },
     "metadata": {},
     "output_type": "display_data"
    }
   ],
   "source": [
    "ang_label = w.Label(value=\"Select detector angle(s), detnoted as OLS/NaI.\")\n",
    "ang_an = gen_all_none_buttons_v2()\n",
    "display(w.HBox([ang_label,ang_an[0],ang_an[1]]))\n",
    "ang_an[0].on_click(on_click_set_checkF)\n",
    "ang_an[1].on_click(on_click_set_checkT)"
   ]
  },
  {
   "cell_type": "code",
   "execution_count": 97,
   "metadata": {},
   "outputs": [
    {
     "data": {
      "application/vnd.jupyter.widget-view+json": {
       "model_id": "af2bc99d993647399080b42c4d6bd20b",
       "version_major": 2,
       "version_minor": 0
      },
      "text/plain": [
       "A Jupyter Widget"
      ]
     },
     "metadata": {},
     "output_type": "display_data"
    }
   ],
   "source": [
    "ang_anb = checkTF\n",
    "\n",
    "#det_angles_raw = [['10\\u00B0','30\\u00B0','45\\u00B0','60\\u00B0','80\\u00B0','135\\u00B0'], ['7.2\\u00B0','10\\u00B0','12.7\\u00B0','28.2\\u00B0','30\\u00B0','32.7\\u00B0']]\n",
    "# adjusted to make OLS/NaI 10/30 comparison easier\n",
    "det_angles_raw = [['10\\u00B0','30\\u00B0','45\\u00B0','60\\u00B0','80\\u00B0','135\\u00B0'], ['10\\u00B0','30\\u00B0','7.2\\u00B0','12.7\\u00B0','28.2\\u00B0','32.7\\u00B0']]\n",
    "# maintains correct order since di will get fixed before this is called\n",
    "det_angles_12 = ['OLS 10\\u00B0','OLS 30\\u00B0','OLS 45\\u00B0','OLS 60\\u00B0','OLS 80\\u00B0','OLS 135\\u00B0','NaI 7.2\\u00B0','NaI 10\\u00B0','NaI 12.7\\u00B0','NaI 28.2\\u00B0','NaI 30\\u00B0','NaI 32.7\\u00B0']\n",
    "det_angs = []\n",
    "for i in range(6):\n",
    "    det_angs.append(det_angles_raw[0][i]+' OLS / '+det_angles_raw[1][i]+' NaI')\n",
    "\n",
    "angs = [w.Checkbox(description=det_angs[i],indent=False,value=ang_anb) for i in range(len(det_angs))]\n",
    "\n",
    "display(w.HBox((angs),layout=w.Layout(width='130ex')))"
   ]
  },
  {
   "cell_type": "code",
   "execution_count": 98,
   "metadata": {},
   "outputs": [
    {
     "data": {
      "application/vnd.jupyter.widget-view+json": {
       "model_id": "9ab09d11c4ab44d3b588b407b8b60e53",
       "version_major": 2,
       "version_minor": 0
      },
      "text/plain": [
       "A Jupyter Widget"
      ]
     },
     "metadata": {},
     "output_type": "display_data"
    }
   ],
   "source": [
    "sec_label = w.Label(value=\"Select secondary particle(s).\")\n",
    "sec_an = gen_all_none_buttons_v2()\n",
    "display(w.HBox([sec_label,sec_an[0],sec_an[1]]))\n",
    "sec_an[0].on_click(on_click_set_checkF)\n",
    "sec_an[1].on_click(on_click_set_checkT)"
   ]
  },
  {
   "cell_type": "code",
   "execution_count": 99,
   "metadata": {},
   "outputs": [
    {
     "data": {
      "application/vnd.jupyter.widget-view+json": {
       "model_id": "2fe4fae43a474c1d8391ac26aaef4161",
       "version_major": 2,
       "version_minor": 0
      },
      "text/plain": [
       "A Jupyter Widget"
      ]
     },
     "metadata": {},
     "output_type": "display_data"
    }
   ],
   "source": [
    "sec_anb = checkTF\n",
    "\n",
    "#particles_med = ['N (\\u00B9n)','NDC (\\u00B9n)','P (\\u00B9H)','D (\\u00B2H)','T (\\u00B3H)','S (\\u00B3He)','A (\\u2074He)']\n",
    "particles_med = ['n (\\u00B9n)','nDC (\\u00B9n)','p (\\u00B9H)','d (\\u00B2H)','t (\\u00B3H)','s (\\u00B3He)','\\u03B1 (\\u2074He)']\n",
    "# only to be used in plots\n",
    "particles_pretty = [r'$^1$n',r'deconvoluted $^1$n',r'$^1$p',r'$^2$d',r'$^3$t',r'$^3$He',r'$^4 \\alpha$']\n",
    "\n",
    "\n",
    "part_A = [1, 1, 1, 2, 3, 3, 4]\n",
    "\n",
    "secs = [w.Checkbox(description=particles_med[i],indent=False,value=sec_anb) for i in range(len(particles_med))]\n",
    "\n",
    "display(w.HBox((secs),layout=w.Layout(width='80ex')))"
   ]
  },
  {
   "cell_type": "code",
   "execution_count": 100,
   "metadata": {},
   "outputs": [
    {
     "data": {
      "application/vnd.jupyter.widget-view+json": {
       "model_id": "58c6a2db1a3b4a789dc71ac6024f3f49",
       "version_major": 2,
       "version_minor": 0
      },
      "text/plain": [
       "A Jupyter Widget"
      ]
     },
     "metadata": {},
     "output_type": "display_data"
    },
    {
     "data": {
      "application/javascript": [
       "IPython.notebook.execute_cells([IPython.notebook.get_selected_index()+1])"
      ],
      "text/plain": [
       "<IPython.core.display.Javascript object>"
      ]
     },
     "metadata": {},
     "output_type": "display_data"
    }
   ],
   "source": [
    "ds_label = w.Label(value=\"Select dataset(s) to display.\")\n",
    "ds_an = gen_all_none_buttons_v2()\n",
    "display(w.HBox([ds_label,ds_an[0],ds_an[1]]))\n",
    "ds_an[0].on_click(on_click_set_checkF)\n",
    "ds_an[1].on_click(on_click_set_checkT)"
   ]
  },
  {
   "cell_type": "code",
   "execution_count": 106,
   "metadata": {},
   "outputs": [
    {
     "data": {
      "application/vnd.jupyter.widget-view+json": {
       "model_id": "8265b592c833452cbc073c68263c33bc",
       "version_major": 2,
       "version_minor": 0
      },
      "text/plain": [
       "A Jupyter Widget"
      ]
     },
     "metadata": {},
     "output_type": "display_data"
    }
   ],
   "source": [
    "ds_anb = checkTF\n",
    "\n",
    "data_set_names = ['Experiment','MCNP simulated','PHITS simulated']\n",
    "dsn_short = ['Exp.','MCNP','PHITS']\n",
    "\n",
    "dss = [w.Checkbox(description=data_set_names[i],indent=False,value=ds_anb) for i in range(len(data_set_names))]\n",
    "\n",
    "display(w.HBox((dss),layout=w.Layout(width='60ex')))"
   ]
  },
  {
   "cell_type": "code",
   "execution_count": 102,
   "metadata": {},
   "outputs": [
    {
     "data": {
      "application/vnd.jupyter.widget-view+json": {
       "model_id": "274513890c874952b67d16be155f5e35",
       "version_major": 2,
       "version_minor": 0
      },
      "text/plain": [
       "A Jupyter Widget"
      ]
     },
     "metadata": {},
     "output_type": "display_data"
    },
    {
     "data": {
      "application/vnd.jupyter.widget-view+json": {
       "model_id": "daf0536adf7246e8aa918bb1a883da76",
       "version_major": 2,
       "version_minor": 0
      },
      "text/plain": [
       "A Jupyter Widget"
      ]
     },
     "metadata": {},
     "output_type": "display_data"
    },
    {
     "data": {
      "application/vnd.jupyter.widget-view+json": {
       "model_id": "a14e4fc305864f30a49263ef782c682d",
       "version_major": 2,
       "version_minor": 0
      },
      "text/plain": [
       "A Jupyter Widget"
      ]
     },
     "metadata": {},
     "output_type": "display_data"
    },
    {
     "data": {
      "application/vnd.jupyter.widget-view+json": {
       "model_id": "cb2a4308e3dc4845a6a433def70b77a8",
       "version_major": 2,
       "version_minor": 0
      },
      "text/plain": [
       "A Jupyter Widget"
      ]
     },
     "metadata": {},
     "output_type": "display_data"
    },
    {
     "data": {
      "application/vnd.jupyter.widget-view+json": {
       "model_id": "e91e5acaee594afd978df82588449d89",
       "version_major": 2,
       "version_minor": 0
      },
      "text/plain": [
       "A Jupyter Widget"
      ]
     },
     "metadata": {},
     "output_type": "display_data"
    },
    {
     "data": {
      "application/javascript": [
       "IPython.notebook.execute_cells([20,21,22])"
      ],
      "text/plain": [
       "<IPython.core.display.Javascript object>"
      ]
     },
     "metadata": {},
     "output_type": "display_data"
    },
    {
     "data": {
      "application/javascript": [
       "IPython.notebook.execute_cells([20])"
      ],
      "text/plain": [
       "<IPython.core.display.Javascript object>"
      ]
     },
     "metadata": {},
     "output_type": "display_data"
    },
    {
     "data": {
      "application/javascript": [
       "IPython.notebook.execute_cells([20])"
      ],
      "text/plain": [
       "<IPython.core.display.Javascript object>"
      ]
     },
     "metadata": {},
     "output_type": "display_data"
    },
    {
     "data": {
      "application/javascript": [
       "IPython.notebook.execute_cells([20,21,22])"
      ],
      "text/plain": [
       "<IPython.core.display.Javascript object>"
      ]
     },
     "metadata": {},
     "output_type": "display_data"
    }
   ],
   "source": [
    "# Determine what to do next                                \n",
    "\n",
    "hundred_times_label = w.Label(value=\"Select which axis, if any, across which plot should be separated by factors of 100 or 10.\")\n",
    "\n",
    "axis_scale_opts = ['None','Projectile','Energy','Material','Thickness','Secondary','Detector/Angle']\n",
    "axis_scale_opts_tt = ['Do not scale anything','Projectile species','Projectile energy','Upstream target material','Upstream target thickness','Secondary particle','Detector and angle']\n",
    "\n",
    "hundred_times_axis = w.ToggleButtons(\n",
    "    options=axis_scale_opts,\n",
    "    description='',\n",
    "    disabled=False,\n",
    "    button_style='', # 'success', 'info', 'warning', 'danger' or ''\n",
    "    tooltips=axis_scale_opts_tt,\n",
    "#    layout=w.Layout(width='120ex')\n",
    "#     icons=['check'] * 5\n",
    ")\n",
    "\n",
    "mult_pow_opts = ['100','10']\n",
    "mult_pow_opts_tts = ['lines of selected axis separated by powers of 100','lines of selected axis separated by powers of 10']\n",
    "mult_pow_options = w.ToggleButtons(\n",
    "    options=mult_pow_opts,\n",
    "    description='',\n",
    "    disabled=False,\n",
    "    button_style='', # 'success', 'info', 'warning', 'danger' or ''\n",
    "    tooltips=mult_pow_opts_tts,\n",
    "#    layout=w.Layout(width='120ex')\n",
    "#     icons=['check'] * 5\n",
    ")\n",
    "\n",
    "display(w.HBox([hundred_times_label,mult_pow_options]))\n",
    "display(hundred_times_axis)\n",
    "\n",
    "legend_opts_label = w.Label(value=\"Select legend placement.\")\n",
    "\n",
    "legend_opts = ['Inside plot','Outside plot']\n",
    "legend_opts_tts = ['Places legend in \"best\" location inside plot area','Places legend just outside of and to the right of the plot area']\n",
    "legend_placement = w.ToggleButtons(\n",
    "    options=legend_opts,\n",
    "    description='',\n",
    "    disabled=False,\n",
    "    button_style='', # 'success', 'info', 'warning', 'danger' or ''\n",
    "    tooltips=legend_opts_tts,\n",
    "#    layout=w.Layout(width='120ex')\n",
    "#     icons=['check'] * 5\n",
    ")\n",
    "\n",
    "display(w.HBox([legend_opts_label,legend_placement]))\n",
    "\n",
    "\n",
    "refresh_opts_label = w.Label(value=\"Automatically refresh plot when adding/removing/clearing?\")\n",
    "refresh_opts = ['Yes','No']\n",
    "refresh_opts_tts = ['Add/Remove/Clear options automatically update/redraw plot','Refresh plot button must be clicked after Add/Remove/Clear to update/redraw plot']\n",
    "refresh_options = w.ToggleButtons(\n",
    "    options=refresh_opts,\n",
    "    description='',\n",
    "    disabled=False,\n",
    "    button_style='', # 'success', 'info', 'warning', 'danger' or ''\n",
    "    tooltips=refresh_opts_tts,\n",
    "#    layout=w.Layout(width='120ex')\n",
    "#     icons=['check'] * 5\n",
    ")\n",
    "display(w.HBox([refresh_opts_label,refresh_options]))\n",
    "\n",
    "add_to_plot_button = w.Button(\n",
    "    description='Add to plot',\n",
    "    disabled=False,\n",
    "    button_style='success', # 'success', 'info', 'warning', 'danger' or ''\n",
    "    tooltip='Click to add selected options to current plot.',\n",
    "    icon='plus' # pencil, rotate-right\n",
    ")\n",
    "\n",
    "remove_to_plot_button = w.Button(\n",
    "    description='Remove from plot',\n",
    "    disabled=False,\n",
    "    button_style='warning', # 'success', 'info', 'warning', 'danger' or ''\n",
    "    tooltip='Click to remove selected options from current plot.',\n",
    "    icon='minus' # pencil, rotate-right\n",
    ")\n",
    "\n",
    "clear_plot_button = w.Button(\n",
    "    description='Clear plot',\n",
    "    disabled=False,\n",
    "    button_style='danger', # 'success', 'info', 'warning', 'danger' or ''\n",
    "    tooltip='Click to remove all data from and completely reset current plot.',\n",
    "    icon='remove' # pencil, rotate-right\n",
    ")\n",
    "\n",
    "reset_checkboxes_button = w.Button(\n",
    "    description='Reset checkboxes',\n",
    "    disabled=False,\n",
    "    button_style='info', # 'success', 'info', 'warning', 'danger' or ''\n",
    "    tooltip='Click to deselect all above checkboxes.',\n",
    "    icon='exclamation' # pencil, rotate-right\n",
    ")\n",
    "\n",
    "make_plot_button = w.Button(\n",
    "    description='Refresh plot',\n",
    "    disabled=False,\n",
    "    button_style='success', # 'success', 'info', 'warning', 'danger' or ''\n",
    "    tooltip='Click to redraw the plot below with updated options from above.',\n",
    "    icon='refresh' # pencil, rotate-right, paint-brush\n",
    ")\n",
    "\n",
    "\n",
    "\n",
    "#pre_plot_options.observe(on_click_next, 'value')\n",
    "\n",
    "display(w.HBox(([add_to_plot_button,remove_to_plot_button,clear_plot_button,reset_checkboxes_button,make_plot_button])))\n",
    "\n",
    "add_to_plot_button.on_click(on_click_add_combos)\n",
    "remove_to_plot_button.on_click(on_click_remove_combos)\n",
    "clear_plot_button.on_click(on_click_clear_plot)\n",
    "reset_checkboxes_button.on_click(on_click_217)\n",
    "make_plot_button.on_click(on_click_refresh_plot)\n",
    "\n",
    "\n"
   ]
  },
  {
   "cell_type": "code",
   "execution_count": 112,
   "metadata": {},
   "outputs": [
    {
     "name": "stdout",
     "output_type": "stream",
     "text": [
      "Plot has been updated/refreshed!\n"
     ]
    }
   ],
   "source": [
    "print(update_print_str)"
   ]
  },
  {
   "cell_type": "code",
   "execution_count": 113,
   "metadata": {
    "scrolled": false
   },
   "outputs": [
    {
     "data": {
      "application/javascript": [
       "/* Put everything inside the global mpl namespace */\n",
       "window.mpl = {};\n",
       "\n",
       "\n",
       "mpl.get_websocket_type = function() {\n",
       "    if (typeof(WebSocket) !== 'undefined') {\n",
       "        return WebSocket;\n",
       "    } else if (typeof(MozWebSocket) !== 'undefined') {\n",
       "        return MozWebSocket;\n",
       "    } else {\n",
       "        alert('Your browser does not have WebSocket support.' +\n",
       "              'Please try Chrome, Safari or Firefox ≥ 6. ' +\n",
       "              'Firefox 4 and 5 are also supported but you ' +\n",
       "              'have to enable WebSockets in about:config.');\n",
       "    };\n",
       "}\n",
       "\n",
       "mpl.figure = function(figure_id, websocket, ondownload, parent_element) {\n",
       "    this.id = figure_id;\n",
       "\n",
       "    this.ws = websocket;\n",
       "\n",
       "    this.supports_binary = (this.ws.binaryType != undefined);\n",
       "\n",
       "    if (!this.supports_binary) {\n",
       "        var warnings = document.getElementById(\"mpl-warnings\");\n",
       "        if (warnings) {\n",
       "            warnings.style.display = 'block';\n",
       "            warnings.textContent = (\n",
       "                \"This browser does not support binary websocket messages. \" +\n",
       "                    \"Performance may be slow.\");\n",
       "        }\n",
       "    }\n",
       "\n",
       "    this.imageObj = new Image();\n",
       "\n",
       "    this.context = undefined;\n",
       "    this.message = undefined;\n",
       "    this.canvas = undefined;\n",
       "    this.rubberband_canvas = undefined;\n",
       "    this.rubberband_context = undefined;\n",
       "    this.format_dropdown = undefined;\n",
       "\n",
       "    this.image_mode = 'full';\n",
       "\n",
       "    this.root = $('<div/>');\n",
       "    this._root_extra_style(this.root)\n",
       "    this.root.attr('style', 'display: inline-block');\n",
       "\n",
       "    $(parent_element).append(this.root);\n",
       "\n",
       "    this._init_header(this);\n",
       "    this._init_canvas(this);\n",
       "    this._init_toolbar(this);\n",
       "\n",
       "    var fig = this;\n",
       "\n",
       "    this.waiting = false;\n",
       "\n",
       "    this.ws.onopen =  function () {\n",
       "            fig.send_message(\"supports_binary\", {value: fig.supports_binary});\n",
       "            fig.send_message(\"send_image_mode\", {});\n",
       "            if (mpl.ratio != 1) {\n",
       "                fig.send_message(\"set_dpi_ratio\", {'dpi_ratio': mpl.ratio});\n",
       "            }\n",
       "            fig.send_message(\"refresh\", {});\n",
       "        }\n",
       "\n",
       "    this.imageObj.onload = function() {\n",
       "            if (fig.image_mode == 'full') {\n",
       "                // Full images could contain transparency (where diff images\n",
       "                // almost always do), so we need to clear the canvas so that\n",
       "                // there is no ghosting.\n",
       "                fig.context.clearRect(0, 0, fig.canvas.width, fig.canvas.height);\n",
       "            }\n",
       "            fig.context.drawImage(fig.imageObj, 0, 0);\n",
       "        };\n",
       "\n",
       "    this.imageObj.onunload = function() {\n",
       "        this.ws.close();\n",
       "    }\n",
       "\n",
       "    this.ws.onmessage = this._make_on_message_function(this);\n",
       "\n",
       "    this.ondownload = ondownload;\n",
       "}\n",
       "\n",
       "mpl.figure.prototype._init_header = function() {\n",
       "    var titlebar = $(\n",
       "        '<div class=\"ui-dialog-titlebar ui-widget-header ui-corner-all ' +\n",
       "        'ui-helper-clearfix\"/>');\n",
       "    var titletext = $(\n",
       "        '<div class=\"ui-dialog-title\" style=\"width: 100%; ' +\n",
       "        'text-align: center; padding: 3px;\"/>');\n",
       "    titlebar.append(titletext)\n",
       "    this.root.append(titlebar);\n",
       "    this.header = titletext[0];\n",
       "}\n",
       "\n",
       "\n",
       "\n",
       "mpl.figure.prototype._canvas_extra_style = function(canvas_div) {\n",
       "\n",
       "}\n",
       "\n",
       "\n",
       "mpl.figure.prototype._root_extra_style = function(canvas_div) {\n",
       "\n",
       "}\n",
       "\n",
       "mpl.figure.prototype._init_canvas = function() {\n",
       "    var fig = this;\n",
       "\n",
       "    var canvas_div = $('<div/>');\n",
       "\n",
       "    canvas_div.attr('style', 'position: relative; clear: both; outline: 0');\n",
       "\n",
       "    function canvas_keyboard_event(event) {\n",
       "        return fig.key_event(event, event['data']);\n",
       "    }\n",
       "\n",
       "    canvas_div.keydown('key_press', canvas_keyboard_event);\n",
       "    canvas_div.keyup('key_release', canvas_keyboard_event);\n",
       "    this.canvas_div = canvas_div\n",
       "    this._canvas_extra_style(canvas_div)\n",
       "    this.root.append(canvas_div);\n",
       "\n",
       "    var canvas = $('<canvas/>');\n",
       "    canvas.addClass('mpl-canvas');\n",
       "    canvas.attr('style', \"left: 0; top: 0; z-index: 0; outline: 0\")\n",
       "\n",
       "    this.canvas = canvas[0];\n",
       "    this.context = canvas[0].getContext(\"2d\");\n",
       "\n",
       "    var backingStore = this.context.backingStorePixelRatio ||\n",
       "\tthis.context.webkitBackingStorePixelRatio ||\n",
       "\tthis.context.mozBackingStorePixelRatio ||\n",
       "\tthis.context.msBackingStorePixelRatio ||\n",
       "\tthis.context.oBackingStorePixelRatio ||\n",
       "\tthis.context.backingStorePixelRatio || 1;\n",
       "\n",
       "    mpl.ratio = (window.devicePixelRatio || 1) / backingStore;\n",
       "\n",
       "    var rubberband = $('<canvas/>');\n",
       "    rubberband.attr('style', \"position: absolute; left: 0; top: 0; z-index: 1;\")\n",
       "\n",
       "    var pass_mouse_events = true;\n",
       "\n",
       "    canvas_div.resizable({\n",
       "        start: function(event, ui) {\n",
       "            pass_mouse_events = false;\n",
       "        },\n",
       "        resize: function(event, ui) {\n",
       "            fig.request_resize(ui.size.width, ui.size.height);\n",
       "        },\n",
       "        stop: function(event, ui) {\n",
       "            pass_mouse_events = true;\n",
       "            fig.request_resize(ui.size.width, ui.size.height);\n",
       "        },\n",
       "    });\n",
       "\n",
       "    function mouse_event_fn(event) {\n",
       "        if (pass_mouse_events)\n",
       "            return fig.mouse_event(event, event['data']);\n",
       "    }\n",
       "\n",
       "    rubberband.mousedown('button_press', mouse_event_fn);\n",
       "    rubberband.mouseup('button_release', mouse_event_fn);\n",
       "    // Throttle sequential mouse events to 1 every 20ms.\n",
       "    rubberband.mousemove('motion_notify', mouse_event_fn);\n",
       "\n",
       "    rubberband.mouseenter('figure_enter', mouse_event_fn);\n",
       "    rubberband.mouseleave('figure_leave', mouse_event_fn);\n",
       "\n",
       "    canvas_div.on(\"wheel\", function (event) {\n",
       "        event = event.originalEvent;\n",
       "        event['data'] = 'scroll'\n",
       "        if (event.deltaY < 0) {\n",
       "            event.step = 1;\n",
       "        } else {\n",
       "            event.step = -1;\n",
       "        }\n",
       "        mouse_event_fn(event);\n",
       "    });\n",
       "\n",
       "    canvas_div.append(canvas);\n",
       "    canvas_div.append(rubberband);\n",
       "\n",
       "    this.rubberband = rubberband;\n",
       "    this.rubberband_canvas = rubberband[0];\n",
       "    this.rubberband_context = rubberband[0].getContext(\"2d\");\n",
       "    this.rubberband_context.strokeStyle = \"#000000\";\n",
       "\n",
       "    this._resize_canvas = function(width, height) {\n",
       "        // Keep the size of the canvas, canvas container, and rubber band\n",
       "        // canvas in synch.\n",
       "        canvas_div.css('width', width)\n",
       "        canvas_div.css('height', height)\n",
       "\n",
       "        canvas.attr('width', width * mpl.ratio);\n",
       "        canvas.attr('height', height * mpl.ratio);\n",
       "        canvas.attr('style', 'width: ' + width + 'px; height: ' + height + 'px;');\n",
       "\n",
       "        rubberband.attr('width', width);\n",
       "        rubberband.attr('height', height);\n",
       "    }\n",
       "\n",
       "    // Set the figure to an initial 600x600px, this will subsequently be updated\n",
       "    // upon first draw.\n",
       "    this._resize_canvas(600, 600);\n",
       "\n",
       "    // Disable right mouse context menu.\n",
       "    $(this.rubberband_canvas).bind(\"contextmenu\",function(e){\n",
       "        return false;\n",
       "    });\n",
       "\n",
       "    function set_focus () {\n",
       "        canvas.focus();\n",
       "        canvas_div.focus();\n",
       "    }\n",
       "\n",
       "    window.setTimeout(set_focus, 100);\n",
       "}\n",
       "\n",
       "mpl.figure.prototype._init_toolbar = function() {\n",
       "    var fig = this;\n",
       "\n",
       "    var nav_element = $('<div/>')\n",
       "    nav_element.attr('style', 'width: 100%');\n",
       "    this.root.append(nav_element);\n",
       "\n",
       "    // Define a callback function for later on.\n",
       "    function toolbar_event(event) {\n",
       "        return fig.toolbar_button_onclick(event['data']);\n",
       "    }\n",
       "    function toolbar_mouse_event(event) {\n",
       "        return fig.toolbar_button_onmouseover(event['data']);\n",
       "    }\n",
       "\n",
       "    for(var toolbar_ind in mpl.toolbar_items) {\n",
       "        var name = mpl.toolbar_items[toolbar_ind][0];\n",
       "        var tooltip = mpl.toolbar_items[toolbar_ind][1];\n",
       "        var image = mpl.toolbar_items[toolbar_ind][2];\n",
       "        var method_name = mpl.toolbar_items[toolbar_ind][3];\n",
       "\n",
       "        if (!name) {\n",
       "            // put a spacer in here.\n",
       "            continue;\n",
       "        }\n",
       "        var button = $('<button/>');\n",
       "        button.addClass('ui-button ui-widget ui-state-default ui-corner-all ' +\n",
       "                        'ui-button-icon-only');\n",
       "        button.attr('role', 'button');\n",
       "        button.attr('aria-disabled', 'false');\n",
       "        button.click(method_name, toolbar_event);\n",
       "        button.mouseover(tooltip, toolbar_mouse_event);\n",
       "\n",
       "        var icon_img = $('<span/>');\n",
       "        icon_img.addClass('ui-button-icon-primary ui-icon');\n",
       "        icon_img.addClass(image);\n",
       "        icon_img.addClass('ui-corner-all');\n",
       "\n",
       "        var tooltip_span = $('<span/>');\n",
       "        tooltip_span.addClass('ui-button-text');\n",
       "        tooltip_span.html(tooltip);\n",
       "\n",
       "        button.append(icon_img);\n",
       "        button.append(tooltip_span);\n",
       "\n",
       "        nav_element.append(button);\n",
       "    }\n",
       "\n",
       "    var fmt_picker_span = $('<span/>');\n",
       "\n",
       "    var fmt_picker = $('<select/>');\n",
       "    fmt_picker.addClass('mpl-toolbar-option ui-widget ui-widget-content');\n",
       "    fmt_picker_span.append(fmt_picker);\n",
       "    nav_element.append(fmt_picker_span);\n",
       "    this.format_dropdown = fmt_picker[0];\n",
       "\n",
       "    for (var ind in mpl.extensions) {\n",
       "        var fmt = mpl.extensions[ind];\n",
       "        var option = $(\n",
       "            '<option/>', {selected: fmt === mpl.default_extension}).html(fmt);\n",
       "        fmt_picker.append(option)\n",
       "    }\n",
       "\n",
       "    // Add hover states to the ui-buttons\n",
       "    $( \".ui-button\" ).hover(\n",
       "        function() { $(this).addClass(\"ui-state-hover\");},\n",
       "        function() { $(this).removeClass(\"ui-state-hover\");}\n",
       "    );\n",
       "\n",
       "    var status_bar = $('<span class=\"mpl-message\"/>');\n",
       "    nav_element.append(status_bar);\n",
       "    this.message = status_bar[0];\n",
       "}\n",
       "\n",
       "mpl.figure.prototype.request_resize = function(x_pixels, y_pixels) {\n",
       "    // Request matplotlib to resize the figure. Matplotlib will then trigger a resize in the client,\n",
       "    // which will in turn request a refresh of the image.\n",
       "    this.send_message('resize', {'width': x_pixels, 'height': y_pixels});\n",
       "}\n",
       "\n",
       "mpl.figure.prototype.send_message = function(type, properties) {\n",
       "    properties['type'] = type;\n",
       "    properties['figure_id'] = this.id;\n",
       "    this.ws.send(JSON.stringify(properties));\n",
       "}\n",
       "\n",
       "mpl.figure.prototype.send_draw_message = function() {\n",
       "    if (!this.waiting) {\n",
       "        this.waiting = true;\n",
       "        this.ws.send(JSON.stringify({type: \"draw\", figure_id: this.id}));\n",
       "    }\n",
       "}\n",
       "\n",
       "\n",
       "mpl.figure.prototype.handle_save = function(fig, msg) {\n",
       "    var format_dropdown = fig.format_dropdown;\n",
       "    var format = format_dropdown.options[format_dropdown.selectedIndex].value;\n",
       "    fig.ondownload(fig, format);\n",
       "}\n",
       "\n",
       "\n",
       "mpl.figure.prototype.handle_resize = function(fig, msg) {\n",
       "    var size = msg['size'];\n",
       "    if (size[0] != fig.canvas.width || size[1] != fig.canvas.height) {\n",
       "        fig._resize_canvas(size[0], size[1]);\n",
       "        fig.send_message(\"refresh\", {});\n",
       "    };\n",
       "}\n",
       "\n",
       "mpl.figure.prototype.handle_rubberband = function(fig, msg) {\n",
       "    var x0 = msg['x0'] / mpl.ratio;\n",
       "    var y0 = (fig.canvas.height - msg['y0']) / mpl.ratio;\n",
       "    var x1 = msg['x1'] / mpl.ratio;\n",
       "    var y1 = (fig.canvas.height - msg['y1']) / mpl.ratio;\n",
       "    x0 = Math.floor(x0) + 0.5;\n",
       "    y0 = Math.floor(y0) + 0.5;\n",
       "    x1 = Math.floor(x1) + 0.5;\n",
       "    y1 = Math.floor(y1) + 0.5;\n",
       "    var min_x = Math.min(x0, x1);\n",
       "    var min_y = Math.min(y0, y1);\n",
       "    var width = Math.abs(x1 - x0);\n",
       "    var height = Math.abs(y1 - y0);\n",
       "\n",
       "    fig.rubberband_context.clearRect(\n",
       "        0, 0, fig.canvas.width, fig.canvas.height);\n",
       "\n",
       "    fig.rubberband_context.strokeRect(min_x, min_y, width, height);\n",
       "}\n",
       "\n",
       "mpl.figure.prototype.handle_figure_label = function(fig, msg) {\n",
       "    // Updates the figure title.\n",
       "    fig.header.textContent = msg['label'];\n",
       "}\n",
       "\n",
       "mpl.figure.prototype.handle_cursor = function(fig, msg) {\n",
       "    var cursor = msg['cursor'];\n",
       "    switch(cursor)\n",
       "    {\n",
       "    case 0:\n",
       "        cursor = 'pointer';\n",
       "        break;\n",
       "    case 1:\n",
       "        cursor = 'default';\n",
       "        break;\n",
       "    case 2:\n",
       "        cursor = 'crosshair';\n",
       "        break;\n",
       "    case 3:\n",
       "        cursor = 'move';\n",
       "        break;\n",
       "    }\n",
       "    fig.rubberband_canvas.style.cursor = cursor;\n",
       "}\n",
       "\n",
       "mpl.figure.prototype.handle_message = function(fig, msg) {\n",
       "    fig.message.textContent = msg['message'];\n",
       "}\n",
       "\n",
       "mpl.figure.prototype.handle_draw = function(fig, msg) {\n",
       "    // Request the server to send over a new figure.\n",
       "    fig.send_draw_message();\n",
       "}\n",
       "\n",
       "mpl.figure.prototype.handle_image_mode = function(fig, msg) {\n",
       "    fig.image_mode = msg['mode'];\n",
       "}\n",
       "\n",
       "mpl.figure.prototype.updated_canvas_event = function() {\n",
       "    // Called whenever the canvas gets updated.\n",
       "    this.send_message(\"ack\", {});\n",
       "}\n",
       "\n",
       "// A function to construct a web socket function for onmessage handling.\n",
       "// Called in the figure constructor.\n",
       "mpl.figure.prototype._make_on_message_function = function(fig) {\n",
       "    return function socket_on_message(evt) {\n",
       "        if (evt.data instanceof Blob) {\n",
       "            /* FIXME: We get \"Resource interpreted as Image but\n",
       "             * transferred with MIME type text/plain:\" errors on\n",
       "             * Chrome.  But how to set the MIME type?  It doesn't seem\n",
       "             * to be part of the websocket stream */\n",
       "            evt.data.type = \"image/png\";\n",
       "\n",
       "            /* Free the memory for the previous frames */\n",
       "            if (fig.imageObj.src) {\n",
       "                (window.URL || window.webkitURL).revokeObjectURL(\n",
       "                    fig.imageObj.src);\n",
       "            }\n",
       "\n",
       "            fig.imageObj.src = (window.URL || window.webkitURL).createObjectURL(\n",
       "                evt.data);\n",
       "            fig.updated_canvas_event();\n",
       "            fig.waiting = false;\n",
       "            return;\n",
       "        }\n",
       "        else if (typeof evt.data === 'string' && evt.data.slice(0, 21) == \"data:image/png;base64\") {\n",
       "            fig.imageObj.src = evt.data;\n",
       "            fig.updated_canvas_event();\n",
       "            fig.waiting = false;\n",
       "            return;\n",
       "        }\n",
       "\n",
       "        var msg = JSON.parse(evt.data);\n",
       "        var msg_type = msg['type'];\n",
       "\n",
       "        // Call the  \"handle_{type}\" callback, which takes\n",
       "        // the figure and JSON message as its only arguments.\n",
       "        try {\n",
       "            var callback = fig[\"handle_\" + msg_type];\n",
       "        } catch (e) {\n",
       "            console.log(\"No handler for the '\" + msg_type + \"' message type: \", msg);\n",
       "            return;\n",
       "        }\n",
       "\n",
       "        if (callback) {\n",
       "            try {\n",
       "                // console.log(\"Handling '\" + msg_type + \"' message: \", msg);\n",
       "                callback(fig, msg);\n",
       "            } catch (e) {\n",
       "                console.log(\"Exception inside the 'handler_\" + msg_type + \"' callback:\", e, e.stack, msg);\n",
       "            }\n",
       "        }\n",
       "    };\n",
       "}\n",
       "\n",
       "// from http://stackoverflow.com/questions/1114465/getting-mouse-location-in-canvas\n",
       "mpl.findpos = function(e) {\n",
       "    //this section is from http://www.quirksmode.org/js/events_properties.html\n",
       "    var targ;\n",
       "    if (!e)\n",
       "        e = window.event;\n",
       "    if (e.target)\n",
       "        targ = e.target;\n",
       "    else if (e.srcElement)\n",
       "        targ = e.srcElement;\n",
       "    if (targ.nodeType == 3) // defeat Safari bug\n",
       "        targ = targ.parentNode;\n",
       "\n",
       "    // jQuery normalizes the pageX and pageY\n",
       "    // pageX,Y are the mouse positions relative to the document\n",
       "    // offset() returns the position of the element relative to the document\n",
       "    var x = e.pageX - $(targ).offset().left;\n",
       "    var y = e.pageY - $(targ).offset().top;\n",
       "\n",
       "    return {\"x\": x, \"y\": y};\n",
       "};\n",
       "\n",
       "/*\n",
       " * return a copy of an object with only non-object keys\n",
       " * we need this to avoid circular references\n",
       " * http://stackoverflow.com/a/24161582/3208463\n",
       " */\n",
       "function simpleKeys (original) {\n",
       "  return Object.keys(original).reduce(function (obj, key) {\n",
       "    if (typeof original[key] !== 'object')\n",
       "        obj[key] = original[key]\n",
       "    return obj;\n",
       "  }, {});\n",
       "}\n",
       "\n",
       "mpl.figure.prototype.mouse_event = function(event, name) {\n",
       "    var canvas_pos = mpl.findpos(event)\n",
       "\n",
       "    if (name === 'button_press')\n",
       "    {\n",
       "        this.canvas.focus();\n",
       "        this.canvas_div.focus();\n",
       "    }\n",
       "\n",
       "    var x = canvas_pos.x * mpl.ratio;\n",
       "    var y = canvas_pos.y * mpl.ratio;\n",
       "\n",
       "    this.send_message(name, {x: x, y: y, button: event.button,\n",
       "                             step: event.step,\n",
       "                             guiEvent: simpleKeys(event)});\n",
       "\n",
       "    /* This prevents the web browser from automatically changing to\n",
       "     * the text insertion cursor when the button is pressed.  We want\n",
       "     * to control all of the cursor setting manually through the\n",
       "     * 'cursor' event from matplotlib */\n",
       "    event.preventDefault();\n",
       "    return false;\n",
       "}\n",
       "\n",
       "mpl.figure.prototype._key_event_extra = function(event, name) {\n",
       "    // Handle any extra behaviour associated with a key event\n",
       "}\n",
       "\n",
       "mpl.figure.prototype.key_event = function(event, name) {\n",
       "\n",
       "    // Prevent repeat events\n",
       "    if (name == 'key_press')\n",
       "    {\n",
       "        if (event.which === this._key)\n",
       "            return;\n",
       "        else\n",
       "            this._key = event.which;\n",
       "    }\n",
       "    if (name == 'key_release')\n",
       "        this._key = null;\n",
       "\n",
       "    var value = '';\n",
       "    if (event.ctrlKey && event.which != 17)\n",
       "        value += \"ctrl+\";\n",
       "    if (event.altKey && event.which != 18)\n",
       "        value += \"alt+\";\n",
       "    if (event.shiftKey && event.which != 16)\n",
       "        value += \"shift+\";\n",
       "\n",
       "    value += 'k';\n",
       "    value += event.which.toString();\n",
       "\n",
       "    this._key_event_extra(event, name);\n",
       "\n",
       "    this.send_message(name, {key: value,\n",
       "                             guiEvent: simpleKeys(event)});\n",
       "    return false;\n",
       "}\n",
       "\n",
       "mpl.figure.prototype.toolbar_button_onclick = function(name) {\n",
       "    if (name == 'download') {\n",
       "        this.handle_save(this, null);\n",
       "    } else {\n",
       "        this.send_message(\"toolbar_button\", {name: name});\n",
       "    }\n",
       "};\n",
       "\n",
       "mpl.figure.prototype.toolbar_button_onmouseover = function(tooltip) {\n",
       "    this.message.textContent = tooltip;\n",
       "};\n",
       "mpl.toolbar_items = [[\"Home\", \"Reset original view\", \"fa fa-home icon-home\", \"home\"], [\"Back\", \"Back to  previous view\", \"fa fa-arrow-left icon-arrow-left\", \"back\"], [\"Forward\", \"Forward to next view\", \"fa fa-arrow-right icon-arrow-right\", \"forward\"], [\"\", \"\", \"\", \"\"], [\"Pan\", \"Pan axes with left mouse, zoom with right\", \"fa fa-arrows icon-move\", \"pan\"], [\"Zoom\", \"Zoom to rectangle\", \"fa fa-square-o icon-check-empty\", \"zoom\"], [\"\", \"\", \"\", \"\"], [\"Download\", \"Download plot\", \"fa fa-floppy-o icon-save\", \"download\"]];\n",
       "\n",
       "mpl.extensions = [\"eps\", \"jpeg\", \"pdf\", \"png\", \"ps\", \"raw\", \"svg\", \"tif\"];\n",
       "\n",
       "mpl.default_extension = \"png\";var comm_websocket_adapter = function(comm) {\n",
       "    // Create a \"websocket\"-like object which calls the given IPython comm\n",
       "    // object with the appropriate methods. Currently this is a non binary\n",
       "    // socket, so there is still some room for performance tuning.\n",
       "    var ws = {};\n",
       "\n",
       "    ws.close = function() {\n",
       "        comm.close()\n",
       "    };\n",
       "    ws.send = function(m) {\n",
       "        //console.log('sending', m);\n",
       "        comm.send(m);\n",
       "    };\n",
       "    // Register the callback with on_msg.\n",
       "    comm.on_msg(function(msg) {\n",
       "        //console.log('receiving', msg['content']['data'], msg);\n",
       "        // Pass the mpl event to the overriden (by mpl) onmessage function.\n",
       "        ws.onmessage(msg['content']['data'])\n",
       "    });\n",
       "    return ws;\n",
       "}\n",
       "\n",
       "mpl.mpl_figure_comm = function(comm, msg) {\n",
       "    // This is the function which gets called when the mpl process\n",
       "    // starts-up an IPython Comm through the \"matplotlib\" channel.\n",
       "\n",
       "    var id = msg.content.data.id;\n",
       "    // Get hold of the div created by the display call when the Comm\n",
       "    // socket was opened in Python.\n",
       "    var element = $(\"#\" + id);\n",
       "    var ws_proxy = comm_websocket_adapter(comm)\n",
       "\n",
       "    function ondownload(figure, format) {\n",
       "        window.open(figure.imageObj.src);\n",
       "    }\n",
       "\n",
       "    var fig = new mpl.figure(id, ws_proxy,\n",
       "                           ondownload,\n",
       "                           element.get(0));\n",
       "\n",
       "    // Call onopen now - mpl needs it, as it is assuming we've passed it a real\n",
       "    // web socket which is closed, not our websocket->open comm proxy.\n",
       "    ws_proxy.onopen();\n",
       "\n",
       "    fig.parent_element = element.get(0);\n",
       "    fig.cell_info = mpl.find_output_cell(\"<div id='\" + id + \"'></div>\");\n",
       "    if (!fig.cell_info) {\n",
       "        console.error(\"Failed to find cell for figure\", id, fig);\n",
       "        return;\n",
       "    }\n",
       "\n",
       "    var output_index = fig.cell_info[2]\n",
       "    var cell = fig.cell_info[0];\n",
       "\n",
       "};\n",
       "\n",
       "mpl.figure.prototype.handle_close = function(fig, msg) {\n",
       "    var width = fig.canvas.width/mpl.ratio\n",
       "    fig.root.unbind('remove')\n",
       "\n",
       "    // Update the output cell to use the data from the current canvas.\n",
       "    fig.push_to_output();\n",
       "    var dataURL = fig.canvas.toDataURL();\n",
       "    // Re-enable the keyboard manager in IPython - without this line, in FF,\n",
       "    // the notebook keyboard shortcuts fail.\n",
       "    IPython.keyboard_manager.enable()\n",
       "    $(fig.parent_element).html('<img src=\"' + dataURL + '\" width=\"' + width + '\">');\n",
       "    fig.close_ws(fig, msg);\n",
       "}\n",
       "\n",
       "mpl.figure.prototype.close_ws = function(fig, msg){\n",
       "    fig.send_message('closing', msg);\n",
       "    // fig.ws.close()\n",
       "}\n",
       "\n",
       "mpl.figure.prototype.push_to_output = function(remove_interactive) {\n",
       "    // Turn the data on the canvas into data in the output cell.\n",
       "    var width = this.canvas.width/mpl.ratio\n",
       "    var dataURL = this.canvas.toDataURL();\n",
       "    this.cell_info[1]['text/html'] = '<img src=\"' + dataURL + '\" width=\"' + width + '\">';\n",
       "}\n",
       "\n",
       "mpl.figure.prototype.updated_canvas_event = function() {\n",
       "    // Tell IPython that the notebook contents must change.\n",
       "    IPython.notebook.set_dirty(true);\n",
       "    this.send_message(\"ack\", {});\n",
       "    var fig = this;\n",
       "    // Wait a second, then push the new image to the DOM so\n",
       "    // that it is saved nicely (might be nice to debounce this).\n",
       "    setTimeout(function () { fig.push_to_output() }, 1000);\n",
       "}\n",
       "\n",
       "mpl.figure.prototype._init_toolbar = function() {\n",
       "    var fig = this;\n",
       "\n",
       "    var nav_element = $('<div/>')\n",
       "    nav_element.attr('style', 'width: 100%');\n",
       "    this.root.append(nav_element);\n",
       "\n",
       "    // Define a callback function for later on.\n",
       "    function toolbar_event(event) {\n",
       "        return fig.toolbar_button_onclick(event['data']);\n",
       "    }\n",
       "    function toolbar_mouse_event(event) {\n",
       "        return fig.toolbar_button_onmouseover(event['data']);\n",
       "    }\n",
       "\n",
       "    for(var toolbar_ind in mpl.toolbar_items){\n",
       "        var name = mpl.toolbar_items[toolbar_ind][0];\n",
       "        var tooltip = mpl.toolbar_items[toolbar_ind][1];\n",
       "        var image = mpl.toolbar_items[toolbar_ind][2];\n",
       "        var method_name = mpl.toolbar_items[toolbar_ind][3];\n",
       "\n",
       "        if (!name) { continue; };\n",
       "\n",
       "        var button = $('<button class=\"btn btn-default\" href=\"#\" title=\"' + name + '\"><i class=\"fa ' + image + ' fa-lg\"></i></button>');\n",
       "        button.click(method_name, toolbar_event);\n",
       "        button.mouseover(tooltip, toolbar_mouse_event);\n",
       "        nav_element.append(button);\n",
       "    }\n",
       "\n",
       "    // Add the status bar.\n",
       "    var status_bar = $('<span class=\"mpl-message\" style=\"text-align:right; float: right;\"/>');\n",
       "    nav_element.append(status_bar);\n",
       "    this.message = status_bar[0];\n",
       "\n",
       "    // Add the close button to the window.\n",
       "    var buttongrp = $('<div class=\"btn-group inline pull-right\"></div>');\n",
       "    var button = $('<button class=\"btn btn-mini btn-primary\" href=\"#\" title=\"Stop Interaction\"><i class=\"fa fa-power-off icon-remove icon-large\"></i></button>');\n",
       "    button.click(function (evt) { fig.handle_close(fig, {}); } );\n",
       "    button.mouseover('Stop Interaction', toolbar_mouse_event);\n",
       "    buttongrp.append(button);\n",
       "    var titlebar = this.root.find($('.ui-dialog-titlebar'));\n",
       "    titlebar.prepend(buttongrp);\n",
       "}\n",
       "\n",
       "mpl.figure.prototype._root_extra_style = function(el){\n",
       "    var fig = this\n",
       "    el.on(\"remove\", function(){\n",
       "\tfig.close_ws(fig, {});\n",
       "    });\n",
       "}\n",
       "\n",
       "mpl.figure.prototype._canvas_extra_style = function(el){\n",
       "    // this is important to make the div 'focusable\n",
       "    el.attr('tabindex', 0)\n",
       "    // reach out to IPython and tell the keyboard manager to turn it's self\n",
       "    // off when our div gets focus\n",
       "\n",
       "    // location in version 3\n",
       "    if (IPython.notebook.keyboard_manager) {\n",
       "        IPython.notebook.keyboard_manager.register_events(el);\n",
       "    }\n",
       "    else {\n",
       "        // location in version 2\n",
       "        IPython.keyboard_manager.register_events(el);\n",
       "    }\n",
       "\n",
       "}\n",
       "\n",
       "mpl.figure.prototype._key_event_extra = function(event, name) {\n",
       "    var manager = IPython.notebook.keyboard_manager;\n",
       "    if (!manager)\n",
       "        manager = IPython.keyboard_manager;\n",
       "\n",
       "    // Check for shift+enter\n",
       "    if (event.shiftKey && event.which == 13) {\n",
       "        this.canvas_div.blur();\n",
       "        // select the cell after this one\n",
       "        var index = IPython.notebook.find_cell_index(this.cell_info[0]);\n",
       "        IPython.notebook.select(index + 1);\n",
       "    }\n",
       "}\n",
       "\n",
       "mpl.figure.prototype.handle_save = function(fig, msg) {\n",
       "    fig.ondownload(fig, null);\n",
       "}\n",
       "\n",
       "\n",
       "mpl.find_output_cell = function(html_output) {\n",
       "    // Return the cell and output element which can be found *uniquely* in the notebook.\n",
       "    // Note - this is a bit hacky, but it is done because the \"notebook_saving.Notebook\"\n",
       "    // IPython event is triggered only after the cells have been serialised, which for\n",
       "    // our purposes (turning an active figure into a static one), is too late.\n",
       "    var cells = IPython.notebook.get_cells();\n",
       "    var ncells = cells.length;\n",
       "    for (var i=0; i<ncells; i++) {\n",
       "        var cell = cells[i];\n",
       "        if (cell.cell_type === 'code'){\n",
       "            for (var j=0; j<cell.output_area.outputs.length; j++) {\n",
       "                var data = cell.output_area.outputs[j];\n",
       "                if (data.data) {\n",
       "                    // IPython >= 3 moved mimebundle to data attribute of output\n",
       "                    data = data.data;\n",
       "                }\n",
       "                if (data['text/html'] == html_output) {\n",
       "                    return [cell, data, j];\n",
       "                }\n",
       "            }\n",
       "        }\n",
       "    }\n",
       "}\n",
       "\n",
       "// Register the function which deals with the matplotlib target/channel.\n",
       "// The kernel may be null if the page has been refreshed.\n",
       "if (IPython.notebook.kernel != null) {\n",
       "    IPython.notebook.kernel.comm_manager.register_target('matplotlib', mpl.mpl_figure_comm);\n",
       "}\n"
      ],
      "text/plain": [
       "<IPython.core.display.Javascript object>"
      ]
     },
     "metadata": {},
     "output_type": "display_data"
    },
    {
     "data": {
      "text/html": [
       "<img src=\"data:image/png;base64,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\" width=\"949.6\">"
      ],
      "text/plain": [
       "<IPython.core.display.HTML object>"
      ]
     },
     "metadata": {},
     "output_type": "display_data"
    }
   ],
   "source": [
    "#print(update_print_str)\n",
    "#print(all_combos)\n",
    "\n",
    "# Generate plot\n",
    "fst = 16\n",
    "fs = 14\n",
    "abs_min_yield = 10**(-10)\n",
    "y_min = 1.000 # later used to set y-axis minimum\n",
    "y_max = 0.0001 # later used to set y-axis maximum\n",
    "x_min = 100 # later used to set x-axis minimum\n",
    "x_max = 10 # later used to set x-axis maximum\n",
    "mult_factor = 1 # default\n",
    "\n",
    "# determine which axes are being examined\n",
    "axis_names = [dsn_short,projectile_sym_str,proj_E_short,target_mats_short,thicknesses_pretty,particles_pretty,det_angles_12]\n",
    "axis_names_unc = [dsn_short,projectile_sym_str,proj_E_short,target_mats_short,thicknesses,particles_med,det_angles_12]\n",
    "compared_axes = [[],[],[],[],[],[],[]]\n",
    "multi_value_axes = [0,0,0,0,0,0,0]\n",
    "multi_value_axes_dims = [0,0,0,0,0,0,0]\n",
    "multi_value_axes_bools = [0,0,0,0,0,0,0]\n",
    "N_iter_each_axis = [0,0,0,0,0,0,0]\n",
    "axes_dims = np.shape(mm_exists)\n",
    "title_str = \"\"\n",
    "for i in range(len(axes_dims)):\n",
    "    # for each axis dimension - dsi,isi,iei,ftmi,ftti,spi,di\n",
    "    # compile all unique instances\n",
    "    for j in range(len(all_combos)):\n",
    "        if all_combos[j][i] not in compared_axes[i]:\n",
    "            compared_axes[i].append(all_combos[j][i])\n",
    "    multi_value_axes[i] = len(compared_axes[i]) - 1\n",
    "    multi_value_axes_dims[i] = len(compared_axes[i])\n",
    "    N_iter_each_axis[i] = int(bool(len(compared_axes[i]) - 1))\n",
    "    multi_value_axes_bools[i] = int(bool(len(compared_axes[i]) - 1))\n",
    "\n",
    "\n",
    "# determine if only looking at nDC and n\n",
    "if len(compared_axes[5])==2 and sum(compared_axes[5])==1:\n",
    "    looking_at_nDC_and_n_only = True\n",
    "else:\n",
    "    looking_at_nDC_and_n_only = False\n",
    "# determine if only looking at neutrons\n",
    "neutrons_only = True\n",
    "for i in range(len(all_combos)):\n",
    "    if all_combos[i][5] > 1:\n",
    "        neutrons_only = False\n",
    "        break\n",
    "    \n",
    "# determine number of legend entries  \n",
    "N_leg_entries = np.prod(multi_value_axes_dims[1:])\n",
    "        \n",
    "# Format title string according to unique axes compared\n",
    "proj_strs_it = 0\n",
    "targ_strs_it = 0\n",
    "spi_strs_it = 0\n",
    "det_strs_it = 0\n",
    "title_str_parts = ['','','','','','']\n",
    "for i in range(1,len(multi_value_axes)): # skip data set index since it has dedicated legend\n",
    "    if not multi_value_axes[i]:\n",
    "        # add to title string\n",
    "        if i==1 or i==2: proj_strs_it += 1\n",
    "        if i==3 or i==4: targ_strs_it += 1\n",
    "        if i==5: spi_strs_it += 1\n",
    "        if i==6: det_strs_it += 1\n",
    "        \n",
    "        title_str_parts[i-1] = axis_names[i][compared_axes[i][0]]\n",
    "        \n",
    "# Assemble fancy title from parts: SP from PROJ on TARG at DET\n",
    "title_str = \"\"\n",
    "if spi_strs_it>0:\n",
    "    title_str += title_str_parts[4]\n",
    "    if (targ_strs_it+spi_strs_it)>0:\n",
    "        title_str += \" from \"\n",
    "    elif det_strs_it>0:\n",
    "        title_str += \" at \"\n",
    "        \n",
    "if proj_strs_it>0:\n",
    "    if len(title_str_parts[1]) != 0:\n",
    "        title_str += title_str_parts[1] + \" \"\n",
    "    if len(title_str_parts[0]) != 0:\n",
    "        title_str += title_str_parts[0] + \" \"\n",
    "    if (len(title_str_parts[1]) != 0 or len(title_str_parts[0]) != 0) and not (len(title_str_parts[1]) != 0 and len(title_str_parts[0]) != 0):\n",
    "        title_str += \"projectiles \"\n",
    "    if targ_strs_it>0:\n",
    "        title_str += \"on \"\n",
    "    if det_strs_it>0 and targ_strs_it==0:\n",
    "        title_str += \"at \"\n",
    "        \n",
    "if targ_strs_it>0:\n",
    "    if len(title_str_parts[3]) != 0:\n",
    "        title_str += title_str_parts[3] + \" \"\n",
    "    if len(title_str_parts[2]) != 0:\n",
    "        title_str += title_str_parts[2] + \" \"\n",
    "    if (len(title_str_parts[3]) != 0 or len(title_str_parts[2]) != 0) and not (len(title_str_parts[3]) != 0 and len(title_str_parts[2]) != 0):\n",
    "        title_str += 'targets '\n",
    "    if det_strs_it>0:\n",
    "        title_str += \"at \"\n",
    "\n",
    "if det_strs_it>0:\n",
    "    title_str += title_str_parts[5]\n",
    "\n",
    "if looking_at_nDC_and_n_only:\n",
    "    title_str = axis_names[5][0] + ' from ' + title_str\n",
    "    \n",
    "# fix title for hydrogen cases\n",
    "if (' '+axis_names[1][0]+' ') in title_str and axis_names[2][2] in title_str:\n",
    "    title_str = title_str.replace('MeV/n','MeV')\n",
    "    title_str = title_str.replace('1500','2500')\n",
    "elif (' '+axis_names[1][0]+' ') in title_str in title_str:\n",
    "    title_str = title_str.replace('MeV/n','MeV')\n",
    "    \n",
    "if neutrons_only:\n",
    "    title_str = title_str.replace(' OLS','') # no need to mention detector if only looking at neutrons\n",
    "    \n",
    "# grab legend setting\n",
    "legend_type = legend_type_list[find(legend_placement.value,legend_opts)]\n",
    "    \n",
    "# grab multiplication factor info\n",
    "multset = find(hundred_times_axis.value,axis_scale_opts)\n",
    "multaxis = [0,0,0,0,0,0,0]\n",
    "multaxis_i = 0\n",
    "npows = 0\n",
    "if multset == 0:\n",
    "    base_mult_factor = 1 \n",
    "    scale_plots = False\n",
    "else:\n",
    "    npows = len(compared_axes[multset])\n",
    "    if npows > 1:\n",
    "        base_mult_factor = int(mult_pow_options.value)\n",
    "        exponent_multiplier = int(np.log10(base_mult_factor))\n",
    "        multaxis[multset] = 1\n",
    "        multaxis_i = multset\n",
    "        scale_plots = True\n",
    "    else:\n",
    "        # user attempted to scale axis with only 1 selected value\n",
    "        base_mult_factor = 1 \n",
    "        scale_plots = False    \n",
    "\n",
    "\n",
    "# Print warning messages above plot\n",
    "for i in range(len(all_combos)):\n",
    "    dsi,isi,iei,ftmi,ftti,spi,di = all_combos[i]\n",
    "    if not mm_exists[dsi,isi,iei,ftmi,ftti,spi,di]: \n",
    "        warning_str = 'Nonexistent dataset ignored: ' \n",
    "        warning_str += axis_names_unc[0][dsi]+\" \"+axis_names_unc[5][spi]+\" from \"+axis_names_unc[2][iei]+\" \"+axis_names_unc[1][isi]+\" on \"\n",
    "        warning_str += axis_names_unc[4][ftti]+\" \"+axis_names_unc[3][ftmi]+\" at \"+axis_names_unc[6][di]\n",
    "        if isi==0:\n",
    "            warning_str = warning_str.replace('MeV/n','MeV')\n",
    "            if iei==2:\n",
    "                warning_str = warning_str.replace('1500','2500')\n",
    "        print(warning_str)\n",
    "        continue # skip if it doesn't exist in set\n",
    "        \n",
    "        \n",
    "fig = plt.figure()\n",
    "bg_color = '#E1E4E6'\n",
    "fig.patch.set_facecolor(bg_color)\n",
    "fig.patch.set_alpha(1.0)\n",
    "l_corner_logo_text = 'plot generated by SHAEDIT'\n",
    "l_corner_logo_fs = 8\n",
    "r_corner_logo_text = 'github.com/Lindt8/SHAEDIT'\n",
    "r_corner_logo_fs = 6\n",
    "ax = plt.subplot(111)\n",
    "if not in_publisher_mode:\n",
    "    fig.text(0.005,0.005,l_corner_logo_text,fontsize=l_corner_logo_fs,horizontalalignment='left',verticalalignment='bottom')\n",
    "    fig.text(0.995,0.005,r_corner_logo_text,fontsize=r_corner_logo_fs,horizontalalignment='right',verticalalignment='bottom')\n",
    "# Axis labels\n",
    "plt.title(title_str)\n",
    "#plt.xlabel(\"Energy [MeV]\",fontsize=fs)\n",
    "#plt.ylabel(r\"Yield [#/(MeV$\\cdot$sr$\\cdot$s.p.)]\",fontsize=fs)\n",
    "x_label_str = \"Energy [MeV/n]\"\n",
    "y_label_str = r\"$\\partial^2Y$/$\\partial E\\partial\\Omega$ [#/(MeV/n$\\cdot$sr$\\cdot$s.p.)]\"\n",
    "#y_label_str = r\"Yield [#/(MeV/n$\\cdot$sr$\\cdot$s.p.)]\"\n",
    "exp_leg,  = plt.errorbar(np.NaN, np.NaN,xerr=0,yerr=0,marker=\".\",c='dimgrey',markersize=2,linestyle=\"\",elinewidth=0.5,markeredgewidth=0.5,capsize=0), # , label=r'Experimental (ToF)') \n",
    "MCNP_leg, = plt.errorbar(np.NaN, np.NaN,yerr=0, color='dimgrey', marker=\",\",markersize=3,linestyle=\"--\"), #, label=r'Simulated (MCNP)')\n",
    "PHITS_leg, = plt.errorbar(np.NaN, np.NaN,yerr=0, color='dimgrey', marker=\",\",markersize=3,linestyle=\":\"), #, label=r'Simulated (PHITS)')\n",
    "legs_for_ds_all = [exp_leg, MCNP_leg, PHITS_leg]\n",
    "leg_ds_strings_all = [r'Experimental',r'MCNP', r'PHITS']\n",
    "legs_for_ds = []\n",
    "leg_ds_strings = []\n",
    "for i in compared_axes[0]:\n",
    "    legs_for_ds.append(legs_for_ds_all[i])\n",
    "    leg_ds_strings.append(leg_ds_strings_all[i])\n",
    "    \n",
    "select_color = 'k' # default\n",
    "ci = 0 # color index\n",
    "sp_Aprod = 1 # multiply all secondaries' A together to see if MeV/n is warranted in x/y labels\n",
    "NDC_test_spi_prod = 1 # if product of all spi values is 1, only deconvoluted neutrons are present\n",
    "\n",
    "#print(all_combos)\n",
    "    \n",
    "for i in range(len(all_combos)):\n",
    "    dsi,isi,iei,ftmi,ftti,spi,di = all_combos[i]\n",
    "    if scale_plots:\n",
    "        # determine how much this plot needs to be scaled by\n",
    "        mai = [dsi,isi,iei,ftmi,ftti,spi,di][multaxis_i]\n",
    "        scfi = find(mai,compared_axes[multaxis_i])\n",
    "        scale_power = (len(compared_axes[multaxis_i])-scfi-1)\n",
    "        mult_factor = base_mult_factor**scale_power\n",
    "        scale_add_to_leg_str = r\" $\\times10^{{{0}}}$\".format(str(int(exponent_multiplier*scale_power)))\n",
    "    \n",
    "    # make legend string\n",
    "    legstr = \"\"\n",
    "    for j in range(1,len(multi_value_axes)):\n",
    "        if multi_value_axes[j]: # [dsi,isi,iei,ftmi,ftti,spi,di]\n",
    "            axis_info = [axis_names[0][dsi],axis_names[1][isi],axis_names[2][iei],axis_names[3][ftmi],axis_names[4][ftti],axis_names[5][spi],axis_names[6][di]]\n",
    "            legstr += axis_info[j] + \" \"\n",
    "    if scale_plots: legstr += scale_add_to_leg_str\n",
    "    if isi==0: \n",
    "        legstr = legstr.replace('MeV/n','MeV')\n",
    "        if iei == 2:\n",
    "            legstr = legstr.replace('1500','2500')\n",
    "    if looking_at_nDC_and_n_only:\n",
    "        if spi==0:\n",
    "            new_parname = 'ToF ' + axis_names[5][spi]\n",
    "            legstr = legstr.replace(axis_names[5][spi],new_parname)\n",
    "        if spi==1:\n",
    "            new_parname = 'DC ' + axis_names[5][0]\n",
    "            legstr = legstr.replace(axis_names[5][spi],new_parname)\n",
    "    if spi<=1: # neutrons\n",
    "        legstr = legstr.replace(' OLS','') # mentioning OLS for neutrons is redundant\n",
    "    if dsi != 0: legstr = \"\"  \n",
    "    \n",
    "    # select color\n",
    "    if dsi==0: # only update color choice when changing experimental data sets\n",
    "        if np.sum(multi_value_axes_bools[1:]) > 1:\n",
    "            # cycle through set of 12 colors used for detectors\n",
    "            select_color = detector_colors_12(ci%12)\n",
    "            ci += 1\n",
    "        elif multi_value_axes_bools[1]:\n",
    "            select_color = ion_colors_5(isi)\n",
    "        elif multi_value_axes_bools[2]:\n",
    "            select_color = colors_3(iei)\n",
    "        elif multi_value_axes_bools[3]:\n",
    "            select_color = colors_3(ftmi)\n",
    "        elif multi_value_axes_bools[4]:\n",
    "            select_color = colors_3(ftti)\n",
    "        elif multi_value_axes_bools[5]:\n",
    "            select_color = sp_colors_7(spi)\n",
    "        elif multi_value_axes_bools[6]:\n",
    "            select_color = detector_colors_12(di)\n",
    "    \n",
    "    if not mm_exists[dsi,isi,iei,ftmi,ftti,spi,di]: continue # skip if it doesn't exist in set\n",
    "    short_combo = [all_combos[i][0]] + all_combos[i][2:]\n",
    "    sp_Aprod = sp_Aprod*part_A[spi]\n",
    "    NDC_test_spi_prod = NDC_test_spi_prod*spi\n",
    "    \n",
    "    #legstr = mm_metadata[dsi,isi,iei,ftmi,ftti,spi,di,1] # pull file ID\n",
    "    #legstr = legstr[:-3]\n",
    "    #if dsi != 0:\n",
    "    #    legstr = legstr[0] + legstr[4:]\n",
    "    #legstr = legstr.replace(\"_\",\" \")\n",
    "    #legstr = legstr.replace(\"deg\",r\"$^\\circ$\")\n",
    "    #if dsi != 0 and ([0,isi,iei,ftmi,ftti,spi,di] in all_combos):\n",
    "    #    legstr = \"\"\n",
    "    \n",
    "    mm_values = mm_values_list[isi]\n",
    "    \n",
    "    # Enforce minimum yield value\n",
    "    trash_y_vals = mm_values[dsi,iei,ftmi,ftti,spi,di,3,:] < abs_min_yield\n",
    "    mm_values[dsi,iei,ftmi,ftti,spi,di,3,:][trash_y_vals] = 0\n",
    "        \n",
    "    nzi = np.nonzero(mm_values[dsi,iei,ftmi,ftti,spi,di,3,:])\n",
    "    xdata = mm_values[dsi,iei,ftmi,ftti,spi,di,1,:][nzi]/part_A[spi]\n",
    "    xbinw = [mm_values[dsi,iei,ftmi,ftti,spi,di,1,:][nzi]-mm_values[dsi,iei,ftmi,ftti,spi,di,0,:][nzi] , mm_values[dsi,iei,ftmi,ftti,spi,di,2,:][nzi]-mm_values[dsi,iei,ftmi,ftti,spi,di,1,:][nzi]]\n",
    "    ydata = mm_values[dsi,iei,ftmi,ftti,spi,di,3,:][nzi]\n",
    "    yerr_stat = mm_values[dsi,iei,ftmi,ftti,spi,di,4,:][nzi]\n",
    "    yerr_sys = mm_values[dsi,iei,ftmi,ftti,spi,di,5,:][nzi]\n",
    "    xerr = mm_values[dsi,iei,ftmi,ftti,spi,di,6,:][nzi]/part_A[spi]    \n",
    "    if spi==1: \n",
    "        xerr = 0.2*(mm_values[dsi,iei,ftmi,ftti,spi,di,2,:][nzi]-mm_values[dsi,iei,ftmi,ftti,spi,di,0,:][nzi])\n",
    "    \n",
    "    if looking_at_nDC_and_n_only and spi==0:\n",
    "        # undo solid angle normalization for neutrons\n",
    "        ydata = ydata*OLS_SA_vals[di]\n",
    "        yerr_stat = yerr_stat*OLS_SA_vals[di]\n",
    "        yerr_sys = yerr_sys*OLS_SA_vals[di]\n",
    "    \n",
    "    ydata = ydata*mult_factor\n",
    "    yerr_stat = yerr_stat*mult_factor\n",
    "    yerr_sys = yerr_sys*mult_factor\n",
    "    \n",
    "    \n",
    "    if len(ydata) != 0:\n",
    "        if min(ydata)<y_min: y_min = min(ydata)\n",
    "        if max(ydata)>y_max: y_max = max(ydata)\n",
    "        if min(mm_values[dsi,iei,ftmi,ftti,spi,di,0,:][nzi]/part_A[spi])<x_min: x_min = min(mm_values[dsi,iei,ftmi,ftti,spi,di,0,:][nzi])/part_A[spi]\n",
    "        if max(mm_values[dsi,iei,ftmi,ftti,spi,di,2,:][nzi]/part_A[spi])>x_max: x_max = max(mm_values[dsi,iei,ftmi,ftti,spi,di,2,:][nzi])/part_A[spi]\n",
    "    \n",
    "    # Generate plots\n",
    "    if dsi == 0: # experimental results\n",
    "        # x error bar (bin width)\n",
    "        xerrbar = xbinw\n",
    "        # x error box (energy resolution\n",
    "        xerrbox = xerr\n",
    "        xerrbox = np.array([xerrbox, xerrbox])\n",
    "        # y error bar (systematic uncertainty)\n",
    "        yerrbar = [yerr_sys, yerr_sys]\n",
    "        yerrbar[0][(ydata-yerrbar[0])<=0]=0 # get rid of negative error bars\n",
    "        yerrbar[1][(ydata)<=0]=0 # get rid of errorbars on negative points\n",
    "        # y error box (statistical uncertainty)\n",
    "        yerrbox = np.array([yerr_stat, yerr_stat])\n",
    "        \n",
    "        p = ax.errorbar(xdata,ydata,xerr=xerrbar,yerr=yerrbar,marker=\".\",c=select_color,markersize=2,linestyle=\"\",elinewidth=0.5,markeredgewidth=0.5,capsize=0,label=legstr)\n",
    "        nx_color = select_color #p[0].get_color()\n",
    "        makeErrorBoxes(xdata,ydata,xerrbox,yerrbox,fc='None',ec=nx_color,alpha=1.0,lw=0.5)\n",
    "        makeErrorBoxes(xdata,ydata,xerrbox,yerrbox,fc=nx_color,ec='None',alpha=0.1,lw=0.5)\n",
    "                \n",
    "    elif dsi == 1: # MCNP results\n",
    "        ebp = plt.errorbar(xdata,ydata,yerr=yerr_stat,c=select_color,marker=\",\",markersize=3,linestyle=\"--\",label=legstr) #,label='Simulated (MCNP)')\n",
    "    \n",
    "    elif dsi == 2: # PHITS results\n",
    "        ebp = plt.errorbar(xdata,ydata,yerr=yerr_stat,c=select_color,marker=\",\",markersize=3,linestyle=\":\",label=legstr) #,label='Simulated (PHITS)')\n",
    "        \n",
    "if sp_Aprod==1:\n",
    "    x_label_str = x_label_str.replace('MeV/n','MeV')\n",
    "    y_label_str = y_label_str.replace('MeV/n','MeV')\n",
    "\n",
    "if NDC_test_spi_prod==1 or looking_at_nDC_and_n_only:\n",
    "    y_label_str = y_label_str.replace(r'$\\cdot$sr','')\n",
    "    y_label_str = y_label_str.replace(r\"$\\partial^2Y$/$\\partial E\\partial\\Omega$\",r\"$\\partial Y$/$\\partial E$\")\n",
    "    \n",
    "plt.xlabel(x_label_str,fontsize=fs)\n",
    "plt.ylabel(y_label_str,fontsize=fs)\n",
    "\n",
    "\n",
    "# hangle figure/legend positioning/sizing\n",
    "# First, figure size\n",
    "default_fig_x_in = 9.5\n",
    "in_per_pow = 0.5\n",
    "if scale_plots:\n",
    "    default_fig_y_in = 6.5 + in_per_pow*npows\n",
    "else:\n",
    "    default_fig_y_in = 6.5\n",
    "\n",
    "# first, try getting widget widths from below; otherwise, use defaults\n",
    "if currently_updating_fig_dims:\n",
    "    fig_x_in = adjust_w_slider.value\n",
    "    fig_y_in = adjust_h_slider.value\n",
    "else:\n",
    "    fig_x_in = default_fig_x_in\n",
    "    fig_y_in = default_fig_y_in\n",
    "\n",
    "fig.set_size_inches(fig_x_in,fig_y_in)\n",
    "\n",
    "\n",
    "# Add legend(s)\n",
    "if legend_type == 'double_outside_right':\n",
    "    # Add primary legend\n",
    "    leg1_anchor = (1.0, 0.75) # varied items \n",
    "    handles_l1, labels_l1 = ax.get_legend_handles_labels()\n",
    "    # remove the errorbars\n",
    "    if len(handles_l1)>0:\n",
    "        handles_l1 = [h[0] for h in handles_l1]\n",
    "        legend1 = ax.legend(handles_l1, labels_l1,loc='upper left',bbox_to_anchor=leg1_anchor,ncol=1)\n",
    "        ax.add_artist(legend1)\n",
    "        # Change marker in legend\n",
    "        for l in legend1.get_lines():\n",
    "            #l.set_alpha(1)\n",
    "            l._legmarker.set_marker('s')\n",
    "            l._legmarker.set_markersize(12)\n",
    "        leg1_exists = True\n",
    "    else:\n",
    "        leg1_exists = False\n",
    "    \n",
    "    # Put a legend below current axis (only if comparing more than one data set)\n",
    "    if len(compared_axes[0])>1:\n",
    "        # data set legend at bottom of plot\n",
    "        #leg2_anchor = (0.5, 0.05) # data sets\n",
    "        #legend2 = ax.legend(legs_for_ds,leg_ds_strings,loc='upper center', bbox_to_anchor=leg2_anchor, bbox_transform=plt.gcf().transFigure, ncol=3)\n",
    "        \n",
    "        leg2_anchor = (1.0, 0.75) # data sets\n",
    "        legend2 = ax.legend(legs_for_ds,leg_ds_strings,loc='lower left', bbox_to_anchor=leg2_anchor, ncol=1)\n",
    "        leg2_exists = True\n",
    "    else:\n",
    "        leg2_exists = False\n",
    "    \n",
    "elif legend_type == 'combined_inside':\n",
    "    handles_l1, labels_l1 = ax.get_legend_handles_labels()\n",
    "    # remove the errorbars\n",
    "    if len(handles_l1)>0 or len(compared_axes[0])>1: # There will be a legend\n",
    "        if len(handles_l1)>0 and len(compared_axes[0])>1: # combined legend\n",
    "            handles_l1 = [h[0] for h in handles_l1]\n",
    "            handles_combined = legs_for_ds + handles_l1\n",
    "            labels_combined = leg_ds_strings + labels_l1\n",
    "        elif len(compared_axes[0])>1:\n",
    "            handles_combined = legs_for_ds\n",
    "            labels_combined = leg_ds_strings\n",
    "        elif len(handles_l1)>0:\n",
    "            handles_l1 = [h[0] for h in handles_l1]\n",
    "            handles_combined = handles_l1\n",
    "            labels_combined = labels_l1\n",
    "        \n",
    "        legend1 = ax.legend(handles_combined, labels_combined,loc='best',ncol=1)\n",
    "        ax.add_artist(legend1)\n",
    "        \n",
    "        # Change marker in legend for colored items\n",
    "        for l in legend1.get_lines():\n",
    "            #l.set_alpha(1)\n",
    "            l._legmarker.set_marker('s')\n",
    "            l._legmarker.set_markersize(12)\n",
    "\n",
    "        \n",
    "        # want leg. variables to be false since this legend won't affect plot area width\n",
    "        leg1_exists = False\n",
    "        leg2_exists = False\n",
    "    else:\n",
    "        leg1_exists = False\n",
    "        leg2_exists = False\n",
    "    \n",
    "    \n",
    "    \n",
    "    \n",
    "    \n",
    "if len(all_combos) != 0: # stuff that will error out code on first initialization\n",
    "    if leg1_exists or leg2_exists: fig.canvas.draw()  # draw to force legend dimensions to be calculated\n",
    "    if leg1_exists:\n",
    "        f1 = legend1.get_frame()\n",
    "        l1_w0_px, l1_h0_px = f1.get_width(), f1.get_height()\n",
    "    if leg2_exists:\n",
    "        f2 = legend2.get_frame()\n",
    "        l2_w0_px, l2_h0_px = f2.get_width(), f2.get_height()\n",
    "    if leg1_exists and leg2_exists:\n",
    "        l_w0_in, l_h0_in = max(l1_w0_px,l2_w0_px)/fig.dpi, max(l1_h0_px,l2_h0_px)/fig.dpi # max legend dimensions in inches\n",
    "    elif leg1_exists:\n",
    "        l_w0_in, l_h0_in = l1_w0_px/fig.dpi, l1_h0_px/fig.dpi # max legend dimensions in inches\n",
    "    elif leg2_exists:\n",
    "        l_w0_in, l_h0_in = l2_w0_px/fig.dpi, l2_h0_px/fig.dpi # max legend dimensions in inches\n",
    "    else:\n",
    "        l_w0_in, l_h0_in = 0 , 0 # no legends\n",
    "    \n",
    "    # Determine relative dimensions of plot\n",
    "    x0bar = 0.8075 # inches, horizontal space needed for ylabel\n",
    "    if len(compared_axes[0])>1:\n",
    "        #y0bar = 0.9500 # inches, vertical space needed for xlabel + bot legend, with data set legend below x axis\n",
    "        y0bar = 0.6500 # inches, vertical space needed for xlabel + bot legend\n",
    "    else:\n",
    "        y0bar = 0.6500 # inches, vertical space needed for xlabel alone\n",
    "    t0bar = 0.4000 # inches, vertical space needed for title\n",
    "    del_l_in = 0.15 # inches, extra horizontal padding right of legend\n",
    "\n",
    "    x0 = x0bar/fig_x_in\n",
    "    y0 = y0bar/fig_y_in\n",
    "    h0 = 1 - (y0bar+t0bar)/fig_y_in\n",
    "    w0 = 1 - x0 - (l_w0_in/fig_x_in) - (del_l_in/fig_x_in)\n",
    "    \n",
    "    # Set size and location of the plot on the canvas\n",
    "    box = ax.get_position()\n",
    "    # all vals in [0,1]: left, bottom, width, height\n",
    "    ax.set_position([x0, y0, w0, h0])\n",
    "\n",
    "\n",
    "# Put a legend below current axis\n",
    "#ax.legend(leg_handles1[:(len(det_angle_i_list))],leg_labels1[:(len(det_angle_i_list))],loc='upper center', bbox_to_anchor=leg1_anchor, ncol=3,handletextpad=0.1)\n",
    "#ax.add_artist(legend2)\n",
    "\n",
    "window_title = slugify(title_str) # \"comparison_fig\"\n",
    "fig.canvas.set_window_title(window_title)\n",
    "\n",
    "# color of box immediately surrounding plot area\n",
    "#ax.spines['bottom'].set_color('0.5')\n",
    "#ax.spines['top'].set_color('0.5')\n",
    "#ax.spines['right'].set_color('0.5')\n",
    "#ax.spines['left'].set_color('0.5')\n",
    "\n",
    "plt.xscale('log')\n",
    "plt.yscale('log')\n",
    "plt.grid(b=True, which='major', linestyle='-', alpha=0.25)\n",
    "plt.grid(b=True, which='minor', linestyle='-', alpha=0.10)\n",
    "#plt.xlim([5,2000])\n",
    "x_log_buffer = 0.15*zoom_mult\n",
    "y_log_buffer = 0.2*zoom_mult\n",
    "\n",
    "# ensure at least minimum number of decades are present on a plot by increasing padding if necessary\n",
    "min_x_decs = 2\n",
    "min_y_decs = 2\n",
    "if (np.log10(x_max)-np.log10(x_min)+2*x_log_buffer) < min_x_decs:\n",
    "    x_log_buffer = 0.5*(min_x_decs - (np.log10(x_max)-np.log10(x_min)))\n",
    "if (np.log10(y_max)-np.log10(y_min)+2*y_log_buffer) < min_y_decs:\n",
    "    y_log_buffer = 0.5*(min_y_decs - (np.log10(y_max)-np.log10(y_min)))\n",
    "\n",
    "if len(all_combos) != 0: # more stuff that will error out code on first initialization\n",
    "    plt.xlim([10**(np.log10(x_min)-x_log_buffer),10**(np.log10(x_max)+x_log_buffer)])\n",
    "    plt.ylim([10**(np.log10(y_min)-y_log_buffer),10**(np.log10(y_max)+y_log_buffer)])  \n",
    "#print(y_min,y_max)\n",
    "#plt.ylim([10**np.floor(np.log10(y_min)),10**np.ceil(np.log10(y_max))])  \n",
    "\n",
    "plt.show() \n",
    "\n",
    "\n"
   ]
  },
  {
   "cell_type": "code",
   "execution_count": 114,
   "metadata": {},
   "outputs": [
    {
     "data": {
      "application/vnd.jupyter.widget-view+json": {
       "model_id": "fb69f05ed4f247dd8f081c97cd449d0e",
       "version_major": 2,
       "version_minor": 0
      },
      "text/plain": [
       "A Jupyter Widget"
      ]
     },
     "metadata": {},
     "output_type": "display_data"
    },
    {
     "data": {
      "application/vnd.jupyter.widget-view+json": {
       "model_id": "4b9529512fe246c598f3f9cd7685c722",
       "version_major": 2,
       "version_minor": 0
      },
      "text/plain": [
       "A Jupyter Widget"
      ]
     },
     "metadata": {},
     "output_type": "display_data"
    },
    {
     "data": {
      "application/vnd.jupyter.widget-view+json": {
       "model_id": "cb9ed730bf894feaa54994dabaa72f1c",
       "version_major": 2,
       "version_minor": 0
      },
      "text/plain": [
       "A Jupyter Widget"
      ]
     },
     "metadata": {},
     "output_type": "display_data"
    },
    {
     "data": {
      "application/vnd.jupyter.widget-view+json": {
       "model_id": "0057baffbc7944a4a5e9796d53040419",
       "version_major": 2,
       "version_minor": 0
      },
      "text/plain": [
       "A Jupyter Widget"
      ]
     },
     "metadata": {},
     "output_type": "display_data"
    },
    {
     "data": {
      "application/vnd.jupyter.widget-view+json": {
       "model_id": "0461b1dabc8e448394f41e497b9c2d0d",
       "version_major": 2,
       "version_minor": 0
      },
      "text/plain": [
       "A Jupyter Widget"
      ]
     },
     "metadata": {},
     "output_type": "display_data"
    }
   ],
   "source": [
    "save_plot_button = w.Button(\n",
    "    description='Save plot (PDF)',\n",
    "    disabled=False,\n",
    "    button_style='success', # 'success', 'info', 'warning', 'danger' or ''\n",
    "    tooltip='Save plot as PDF in local images/ folder (white background)',\n",
    "    icon='save' # pencil, rotate-right\n",
    ")\n",
    "\n",
    "save_plot_button_wbg = w.Button(\n",
    "    description='(with gray BG)',\n",
    "    disabled=False,\n",
    "    button_style='success', # 'success', 'info', 'warning', 'danger' or ''\n",
    "    tooltip='Save plot as PDF in local images/ folder (gray background)',\n",
    "    icon='save' # pencil, rotate-right\n",
    ")\n",
    "\n",
    "save_plot_extra_label = w.Label(value='(Default save uses all white background; the second option keeps gray around the plot.)')\n",
    "\n",
    "adjust_label = w.Label(value=\"Adjust figure dimensions via sliders or text boxes (all units in inches, minimum dimension = 1\\\", maximum dimension = 10\\\").\")\n",
    "\n",
    "adjust_w_slider = w.FloatSlider(\n",
    "    description='width (in.)',\n",
    "    min=1,\n",
    "    max=10,\n",
    "    value = fig_x_in,\n",
    ")\n",
    "adjust_w_text = w.FloatText(step=0.1)\n",
    "\n",
    "adjust_h_slider = w.FloatSlider(\n",
    "    description='height (in.)',\n",
    "    min=1,\n",
    "    max=10,\n",
    "    value = fig_y_in,\n",
    ")\n",
    "\n",
    "reset_sliders_button = w.Button(\n",
    "    description='Reset sliders',\n",
    "    disabled=False,\n",
    "    button_style='info', # 'success', 'info', 'warning', 'danger' or ''\n",
    "    tooltip='Click to reset sliders to default values.',\n",
    "    icon='exclamation' # pencil, rotate-right, paint-brush\n",
    ")\n",
    "adjust_h_text = w.FloatText(step=0.1)\n",
    "\n",
    "refresh_plot_button2 = w.Button(\n",
    "    description='Refresh plot',\n",
    "    disabled=False,\n",
    "    button_style='success', # 'success', 'info', 'warning', 'danger' or ''\n",
    "    tooltip='Click to redraw the plot with updated dimensions.',\n",
    "    icon='refresh' # pencil, rotate-right, paint-brush\n",
    ")\n",
    "\n",
    "zoom_mult = 1 # reset zoom value\n",
    "zoom_out_label = w.Label(value='Zooming in can be freely done within the interactive plot.  This button zooms out the default view.')\n",
    "zoom_out_button = w.Button(\n",
    "    description='Zoom out',\n",
    "    disabled=False,\n",
    "    button_style='', # 'success', 'info', 'warning', 'danger' or ''\n",
    "    tooltip='While you can freely zoom in to any rectangle on the interactive plot, there is no way to zoom out from the starting view.  This solves that issue.',\n",
    "    icon='search-minus' # pencil, rotate-right\n",
    ")\n",
    "\n",
    "display(w.HBox([zoom_out_label,zoom_out_button]))\n",
    "zoom_out_button.on_click(on_click_zoom_out)\n",
    "\n",
    "display(adjust_label)\n",
    "display(w.HBox([adjust_w_slider,adjust_h_slider,reset_sliders_button,refresh_plot_button2]))\n",
    "display(w.HBox([adjust_w_text,adjust_h_text]))\n",
    "w_link = w.jslink((adjust_w_slider, 'value'), (adjust_w_text, 'value'))\n",
    "h_link = w.jslink((adjust_h_slider, 'value'), (adjust_h_text, 'value'))\n",
    "reset_sliders_button.on_click(on_click_reset_sliders)\n",
    "refresh_plot_button2.on_click(on_click_refresh_plot)\n",
    "\n",
    "display(w.HBox([save_plot_button,save_plot_button_wbg,save_plot_extra_label]))\n",
    "save_plot_button.on_click(on_click_save_plot)\n",
    "save_plot_button_wbg.on_click(on_click_save_plot_wbg)"
   ]
  },
  {
   "cell_type": "markdown",
   "metadata": {},
   "source": [
    "Note: \n",
    "\n",
    "If you wish to save a plot as a PDF with the above buttons and are running this Jupyter notebook locally (meaning your URL looks something like ``localhost:8888/notebooks/SHAEDIT.ipynb``), you must create a folder titled ``images`` within the main directory which holds this notebook and the data files it relies on; plots will be saved in that ``images`` folder with descriptive filenames resembling the plot title.   \n",
    "\n",
    "If you are viewing this online, the save buttons are not guaranteed to work.  If viewing this on Binder, the save buttons will generate the PDFs in the repository window (the page on which you clicked the ``SHAEDIT.ipynb`` link to arrive here), but you must download them locally yourself before you leave the site because they will be erased once your Binder session is ended.  \n",
    "\n",
    "If you wish to save the image as a PNG (regardless of where you are viewing the data from), you must click the little power button ( &#9211; ) in the top right of the figure, right click the image, and click \"Save image as...\" to save it to a local folder. "
   ]
  },
  {
   "cell_type": "markdown",
   "metadata": {},
   "source": [
    "<center>SHAEDIT was written by Hunter Ratliff at the University of Tennessee, Knoxville, Department of Nuclear Engineering. (2018)</center>"
   ]
  }
 ],
 "metadata": {
  "kernelspec": {
   "display_name": "Python 3",
   "language": "python",
   "name": "python3"
  },
  "language_info": {
   "codemirror_mode": {
    "name": "ipython",
    "version": 3
   },
   "file_extension": ".py",
   "mimetype": "text/x-python",
   "name": "python",
   "nbconvert_exporter": "python",
   "pygments_lexer": "ipython3",
   "version": "3.6.2"
  },
  "widgets": {
   "application/vnd.jupyter.widget-state+json": {
    "state": {
     "0017f825ac48419da4b51260e1acf358": {
      "model_module": "@jupyter-widgets/base",
      "model_module_version": "1.0.0",
      "model_name": "LayoutModel",
      "state": {}
     },
     "0070d4f6780e40d6b962f1dfc9e13934": {
      "model_module": "@jupyter-widgets/base",
      "model_module_version": "1.0.0",
      "model_name": "LayoutModel",
      "state": {}
     },
     "008a7696a1c74d4cb8ae1ca7c84e83e4": {
      "model_module": "@jupyter-widgets/controls",
      "model_module_version": "1.1.0",
      "model_name": "DescriptionStyleModel",
      "state": {
       "description_width": ""
      }
     },
     "008d4deaa4f24f778435821053645eab": {
      "model_module": "@jupyter-widgets/controls",
      "model_module_version": "1.1.0",
      "model_name": "DescriptionStyleModel",
      "state": {
       "description_width": ""
      }
     },
     "0097f451415149d5a8a5b91cd0fcde5b": {
      "model_module": "@jupyter-widgets/controls",
      "model_module_version": "1.1.0",
      "model_name": "DescriptionStyleModel",
      "state": {
       "description_width": ""
      }
     },
     "00ad944b06944d3ab809f24d2c5ca45d": {
      "model_module": "@jupyter-widgets/base",
      "model_module_version": "1.0.0",
      "model_name": "LayoutModel",
      "state": {}
     },
     "00d74a39d4c04a5fa369e9a5a81e7161": {
      "model_module": "@jupyter-widgets/controls",
      "model_module_version": "1.1.0",
      "model_name": "CheckboxModel",
      "state": {
       "description": "60°",
       "disabled": false,
       "layout": "IPY_MODEL_ff286a067c23439a868c7e18520be3c3",
       "style": "IPY_MODEL_b04672d85a424837b02b239fd6d93306",
       "value": false
      }
     },
     "00f95cd13fc5493dbd84db161aa668d2": {
      "model_module": "@jupyter-widgets/controls",
      "model_module_version": "1.1.0",
      "model_name": "ToggleButtonsStyleModel",
      "state": {
       "button_width": "",
       "description_width": ""
      }
     },
     "010886a935064dafbac5afac795dc090": {
      "model_module": "@jupyter-widgets/controls",
      "model_module_version": "1.1.0",
      "model_name": "ToggleButtonsModel",
      "state": {
       "_options_labels": [
        "20 g/cm²",
        "40 g/cm²",
        "60 g/cm²"
       ],
       "button_style": "",
       "description": "Thickness:",
       "icons": [],
       "index": 0,
       "layout": "IPY_MODEL_baf6d63299f54108a883c23ac2fe5f20",
       "style": "IPY_MODEL_cc8d38e0424c4fb483595feafc62784c",
       "tooltips": [
        "20 g/cm² Aluminum",
        "40 g/cm² Aluminum",
        "60 g/cm² Aluminum"
       ]
      }
     },
     "012702128d55420bb4f3a67906054542": {
      "model_module": "@jupyter-widgets/controls",
      "model_module_version": "1.1.0",
      "model_name": "ToggleButtonsStyleModel",
      "state": {
       "button_width": "",
       "description_width": ""
      }
     },
     "0134c3792d954a6fb8646afb9cd0529f": {
      "model_module": "@jupyter-widgets/controls",
      "model_module_version": "1.1.0",
      "model_name": "DescriptionStyleModel",
      "state": {
       "description_width": ""
      }
     },
     "01cfdf7a65f047b8a4c617630919767c": {
      "model_module": "@jupyter-widgets/controls",
      "model_module_version": "1.1.0",
      "model_name": "DescriptionStyleModel",
      "state": {
       "description_width": ""
      }
     },
     "01ffdb0f8e284eb5bc5ea005cd6710e7": {
      "model_module": "@jupyter-widgets/base",
      "model_module_version": "1.0.0",
      "model_name": "LayoutModel",
      "state": {}
     },
     "0216a4952183460e87f1704add98eb41": {
      "model_module": "@jupyter-widgets/controls",
      "model_module_version": "1.1.0",
      "model_name": "LabelModel",
      "state": {
       "layout": "IPY_MODEL_c4c4135d776f4acd9de51c55ac838f6e",
       "style": "IPY_MODEL_30f4d12206a246b7a77d5dc6a690b65f",
       "value": "Select which sets of data to display."
      }
     },
     "023d98986734416e92f986009753c584": {
      "model_module": "@jupyter-widgets/controls",
      "model_module_version": "1.1.0",
      "model_name": "DescriptionStyleModel",
      "state": {
       "description_width": ""
      }
     },
     "027fe3d5ff7043d781512933effbf2f7": {
      "model_module": "@jupyter-widgets/base",
      "model_module_version": "1.0.0",
      "model_name": "LayoutModel",
      "state": {}
     },
     "02aa7d90330a4b3696037f1f27886f8c": {
      "model_module": "@jupyter-widgets/controls",
      "model_module_version": "1.1.0",
      "model_name": "LabelModel",
      "state": {
       "layout": "IPY_MODEL_3cf480469a1c4902b53f1b2f7ff72c9d",
       "style": "IPY_MODEL_4e692a9a30684f1e9cf9f9eab12388e7",
       "value": "Select projectile ion energy."
      }
     },
     "02f0fec9ce024a018ce95422f807e9d9": {
      "model_module": "@jupyter-widgets/base",
      "model_module_version": "1.0.0",
      "model_name": "LayoutModel",
      "state": {}
     },
     "0325f1eb5b4447b2b246594279c8fe3a": {
      "model_module": "@jupyter-widgets/controls",
      "model_module_version": "1.1.0",
      "model_name": "CheckboxModel",
      "state": {
       "description": "80°",
       "disabled": false,
       "layout": "IPY_MODEL_a170331431ec446bb37fa1103c649671",
       "style": "IPY_MODEL_7b49faf0031b4bbd8bcfec5944e74490",
       "value": true
      }
     },
     "03712579db5b417eb16f345eff7e67a8": {
      "model_module": "@jupyter-widgets/controls",
      "model_module_version": "1.1.0",
      "model_name": "DescriptionStyleModel",
      "state": {
       "description_width": ""
      }
     },
     "038cd47bafb04d39a36cd5ab084c585d": {
      "model_module": "@jupyter-widgets/controls",
      "model_module_version": "1.1.0",
      "model_name": "DescriptionStyleModel",
      "state": {
       "description_width": ""
      }
     },
     "039f033d47cf409a828dd3e58c09ff31": {
      "model_module": "@jupyter-widgets/base",
      "model_module_version": "1.0.0",
      "model_name": "LayoutModel",
      "state": {}
     },
     "03a393a5b856453da2dc9e69bb9c625b": {
      "model_module": "@jupyter-widgets/controls",
      "model_module_version": "1.1.0",
      "model_name": "DescriptionStyleModel",
      "state": {
       "description_width": ""
      }
     },
     "03b19c06f12e4aadad7aec80c5d6b1ed": {
      "model_module": "@jupyter-widgets/base",
      "model_module_version": "1.0.0",
      "model_name": "LayoutModel",
      "state": {}
     },
     "03bce7f3e45942f3879e3634436c2d48": {
      "model_module": "@jupyter-widgets/controls",
      "model_module_version": "1.1.0",
      "model_name": "CheckboxModel",
      "state": {
       "description": "80°",
       "disabled": false,
       "layout": "IPY_MODEL_933c72475e084d81ac77d6da3209cd71",
       "style": "IPY_MODEL_19e0b081d42e4dccaf1e0c50fc67ddd5",
       "value": false
      }
     },
     "03fbf2b260454a4aba02e0841a431c22": {
      "model_module": "@jupyter-widgets/base",
      "model_module_version": "1.0.0",
      "model_name": "LayoutModel",
      "state": {}
     },
     "0405d139d80c4d2fb48d2bc080b29133": {
      "model_module": "@jupyter-widgets/base",
      "model_module_version": "1.0.0",
      "model_name": "LayoutModel",
      "state": {}
     },
     "0454756e6ff34fae97b8cbffb2800fb8": {
      "model_module": "@jupyter-widgets/controls",
      "model_module_version": "1.1.0",
      "model_name": "ToggleButtonsModel",
      "state": {
       "_options_labels": [
        "H",
        "He",
        "C",
        "Si",
        "Fe"
       ],
       "button_style": "",
       "description": "Ion:",
       "icons": [],
       "index": 0,
       "layout": "IPY_MODEL_6656e479c3aa402088a708dc7886b481",
       "style": "IPY_MODEL_ec4904e2908944e1b622c2574f0e912a",
       "tooltips": [
        "Hydrogen",
        "Helium",
        "Carbon",
        "Silicon",
        "Iron"
       ]
      }
     },
     "047a017af03e49b6b3d64477ccdbb467": {
      "model_module": "@jupyter-widgets/base",
      "model_module_version": "1.0.0",
      "model_name": "LayoutModel",
      "state": {}
     },
     "04856c4da0f8470b965e9c90face4351": {
      "model_module": "@jupyter-widgets/controls",
      "model_module_version": "1.1.0",
      "model_name": "ToggleButtonsModel",
      "state": {
       "_options_labels": [
        "P (¹H)",
        "D (²H)"
       ],
       "button_style": "",
       "description": "Type:",
       "icons": [],
       "index": 0,
       "layout": "IPY_MODEL_c5d36e086e9d4cc3b7d1557ef0f7fa5e",
       "style": "IPY_MODEL_967b141189f74ccab36ab8014846abc2",
       "tooltips": [
        "Proton",
        "Deuteron"
       ]
      }
     },
     "048b5560dcc54ec0965d27a0b4adde42": {
      "model_module": "@jupyter-widgets/controls",
      "model_module_version": "1.1.0",
      "model_name": "CheckboxModel",
      "state": {
       "description": "Experiment",
       "disabled": false,
       "layout": "IPY_MODEL_3cb589dd6b2345fa9a81a2223dc97ce9",
       "style": "IPY_MODEL_75d2183c47ac4eb8a8ab256a36a9db1d",
       "value": true
      }
     },
     "048c1bcecd1d40c0884a177d5a9871b8": {
      "model_module": "@jupyter-widgets/controls",
      "model_module_version": "1.1.0",
      "model_name": "CheckboxModel",
      "state": {
       "description": "10°",
       "disabled": false,
       "layout": "IPY_MODEL_922f9e22784b4ae2bb657e36623d08f7",
       "style": "IPY_MODEL_6432281fb9754f448a6ef8b536a3b412",
       "value": true
      }
     },
     "048c97d7f51846b8a8fb4df0561446da": {
      "model_module": "@jupyter-widgets/controls",
      "model_module_version": "1.1.0",
      "model_name": "ToggleButtonsStyleModel",
      "state": {
       "button_width": "",
       "description_width": ""
      }
     },
     "04d1efb4970542e8a1080845ae9e2928": {
      "model_module": "@jupyter-widgets/controls",
      "model_module_version": "1.1.0",
      "model_name": "ToggleButtonsStyleModel",
      "state": {
       "button_width": "",
       "description_width": ""
      }
     },
     "04f6f0b7ec3144c382a4cc7cc0382006": {
      "model_module": "@jupyter-widgets/controls",
      "model_module_version": "1.1.0",
      "model_name": "DescriptionStyleModel",
      "state": {
       "description_width": ""
      }
     },
     "053cbccbe0f4414bad85c180627d0aa8": {
      "model_module": "@jupyter-widgets/base",
      "model_module_version": "1.0.0",
      "model_name": "LayoutModel",
      "state": {}
     },
     "056247fa572144639545bed9724d980c": {
      "model_module": "@jupyter-widgets/base",
      "model_module_version": "1.0.0",
      "model_name": "LayoutModel",
      "state": {}
     },
     "05cb3d47b34d471a8df96e77a72f430b": {
      "model_module": "@jupyter-widgets/controls",
      "model_module_version": "1.1.0",
      "model_name": "DescriptionStyleModel",
      "state": {
       "description_width": ""
      }
     },
     "05d44f7bd9aa41a9b3174967dca3017e": {
      "model_module": "@jupyter-widgets/controls",
      "model_module_version": "1.1.0",
      "model_name": "DescriptionStyleModel",
      "state": {
       "description_width": ""
      }
     },
     "0686d3b5c5b84f9092d04cdafdc19e38": {
      "model_module": "@jupyter-widgets/controls",
      "model_module_version": "1.1.0",
      "model_name": "CheckboxModel",
      "state": {
       "description": "135°",
       "disabled": false,
       "layout": "IPY_MODEL_65dc34305d364cc9aec224dba5542416",
       "style": "IPY_MODEL_bf46a752abcc4d5fbf32245fdf95c4c6",
       "value": true
      }
     },
     "0690a3e1cbc74d7187623275273dfd04": {
      "model_module": "@jupyter-widgets/controls",
      "model_module_version": "1.1.0",
      "model_name": "CheckboxModel",
      "state": {
       "description": "28.2°",
       "disabled": false,
       "layout": "IPY_MODEL_d2d4748d7e4a474f915d0d74bdbdd997",
       "style": "IPY_MODEL_7d96e7efeee54fd8a36c0a044393d5b5",
       "value": true
      }
     },
     "06911039ed2b4f93bbec1f3465e4792f": {
      "model_module": "@jupyter-widgets/controls",
      "model_module_version": "1.1.0",
      "model_name": "DescriptionStyleModel",
      "state": {
       "description_width": ""
      }
     },
     "06d7392df2194c34bd81733ab0f8cac0": {
      "model_module": "@jupyter-widgets/controls",
      "model_module_version": "1.1.0",
      "model_name": "CheckboxModel",
      "state": {
       "description": "10°",
       "disabled": false,
       "layout": "IPY_MODEL_5f33917099b84db99530cfe19a797a09",
       "style": "IPY_MODEL_cc25001962124cd0b19df67981cb178d",
       "value": true
      }
     },
     "06ffd4f5627f4e9aa530d9ff2d701525": {
      "model_module": "@jupyter-widgets/controls",
      "model_module_version": "1.1.0",
      "model_name": "ToggleButtonsModel",
      "state": {
       "_options_labels": [
        "None",
        "Spaced by 10²"
       ],
       "button_style": "",
       "description": "Spacing:",
       "icons": [],
       "index": 0,
       "layout": "IPY_MODEL_5db4f40a4ff340c792d454c100ac3ca1",
       "style": "IPY_MODEL_10a9f39e18144bbb8a1579af3ea8665d",
       "tooltips": [
        "All values are presented as is.",
        "Plots for different detectors are multiplied by powers of 10² for easier viewing."
       ]
      }
     },
     "0746464c2c8941e88c580ec518a56bda": {
      "model_module": "@jupyter-widgets/base",
      "model_module_version": "1.0.0",
      "model_name": "LayoutModel",
      "state": {}
     },
     "0746ca285bc24b84bbfb25149be57bd6": {
      "model_module": "@jupyter-widgets/controls",
      "model_module_version": "1.1.0",
      "model_name": "DescriptionStyleModel",
      "state": {
       "description_width": ""
      }
     },
     "074cb167ae664aa1a749896d67cfd459": {
      "model_module": "@jupyter-widgets/controls",
      "model_module_version": "1.1.0",
      "model_name": "DescriptionStyleModel",
      "state": {
       "description_width": ""
      }
     },
     "078ada0077324c248ec853179331469f": {
      "model_module": "@jupyter-widgets/controls",
      "model_module_version": "1.1.0",
      "model_name": "DescriptionStyleModel",
      "state": {
       "description_width": ""
      }
     },
     "07a353fb216b4b9d82518cf8f40c9a26": {
      "model_module": "@jupyter-widgets/controls",
      "model_module_version": "1.1.0",
      "model_name": "LabelModel",
      "state": {
       "layout": "IPY_MODEL_eacf4b0c30b94827b8e74e51c200c853",
       "style": "IPY_MODEL_a5ab1f2937214bd09dec3d87590ba417",
       "value": "Select which secondary particle to plot spectra for."
      }
     },
     "07d75c2623a14acaac5b43e08e71b559": {
      "model_module": "@jupyter-widgets/controls",
      "model_module_version": "1.1.0",
      "model_name": "DescriptionStyleModel",
      "state": {
       "description_width": ""
      }
     },
     "08166d77b35f43fd8598f6c8612cbcaa": {
      "model_module": "@jupyter-widgets/controls",
      "model_module_version": "1.1.0",
      "model_name": "DescriptionStyleModel",
      "state": {
       "description_width": ""
      }
     },
     "081eed35ebd6477f95c3abb50281bf35": {
      "model_module": "@jupyter-widgets/controls",
      "model_module_version": "1.1.0",
      "model_name": "ToggleButtonsStyleModel",
      "state": {
       "button_width": "",
       "description_width": ""
      }
     },
     "083d6cdb707a4e63bf282c13b7456a14": {
      "model_module": "@jupyter-widgets/base",
      "model_module_version": "1.0.0",
      "model_name": "LayoutModel",
      "state": {}
     },
     "087c346b7f9149a5bcd28c50dd1b4483": {
      "model_module": "@jupyter-widgets/controls",
      "model_module_version": "1.1.0",
      "model_name": "CheckboxModel",
      "state": {
       "description": "10°",
       "disabled": false,
       "layout": "IPY_MODEL_0dfa11fe74624d75989c09fe7f864bfe",
       "style": "IPY_MODEL_19147c5420c549e0b2700c357babc0f8",
       "value": true
      }
     },
     "08874af4f11e4866a1c963a34f169b7b": {
      "model_module": "@jupyter-widgets/controls",
      "model_module_version": "1.1.0",
      "model_name": "DescriptionStyleModel",
      "state": {
       "description_width": ""
      }
     },
     "08a9fee61c6045c59bcc75c4bd20081c": {
      "model_module": "@jupyter-widgets/controls",
      "model_module_version": "1.1.0",
      "model_name": "DescriptionStyleModel",
      "state": {
       "description_width": ""
      }
     },
     "08f0b78c47574a45ac876371dff017db": {
      "model_module": "@jupyter-widgets/base",
      "model_module_version": "1.0.0",
      "model_name": "LayoutModel",
      "state": {}
     },
     "0904d5c615004520b4addc0afd8f11c6": {
      "model_module": "@jupyter-widgets/base",
      "model_module_version": "1.0.0",
      "model_name": "LayoutModel",
      "state": {}
     },
     "090598d5c0c24f1f90f63baa520df67a": {
      "model_module": "@jupyter-widgets/base",
      "model_module_version": "1.0.0",
      "model_name": "LayoutModel",
      "state": {}
     },
     "09361aa9b2214dcb930e3afa4c30b797": {
      "model_module": "@jupyter-widgets/controls",
      "model_module_version": "1.1.0",
      "model_name": "CheckboxModel",
      "state": {
       "description": "10°",
       "disabled": false,
       "layout": "IPY_MODEL_1749abe25a594d598be919bca214e8ae",
       "style": "IPY_MODEL_c2605c1cb60749a7b7270bcd75f72b79",
       "value": true
      }
     },
     "094e31aacf7e473a919b5a57d531f347": {
      "model_module": "@jupyter-widgets/base",
      "model_module_version": "1.0.0",
      "model_name": "LayoutModel",
      "state": {}
     },
     "095b4ce3a3364cbaa4c0dbd459814f9a": {
      "model_module": "@jupyter-widgets/controls",
      "model_module_version": "1.1.0",
      "model_name": "DescriptionStyleModel",
      "state": {
       "description_width": ""
      }
     },
     "096edd4c560a4a609841cd291ee98d00": {
      "model_module": "@jupyter-widgets/controls",
      "model_module_version": "1.1.0",
      "model_name": "CheckboxModel",
      "state": {
       "description": "10°",
       "disabled": false,
       "layout": "IPY_MODEL_665fc08931fc44619afd3e1014cef644",
       "style": "IPY_MODEL_a59b588a6e0b4502b50c251055bfb406",
       "value": true
      }
     },
     "09f1f55f355d408eb0e5a49eba19f462": {
      "model_module": "@jupyter-widgets/base",
      "model_module_version": "1.0.0",
      "model_name": "LayoutModel",
      "state": {}
     },
     "09f55ebe75614576bc59d2f1dc4acb99": {
      "model_module": "@jupyter-widgets/controls",
      "model_module_version": "1.1.0",
      "model_name": "LabelModel",
      "state": {
       "layout": "IPY_MODEL_a32596ccc6844d88beffb3e6617460f0",
       "style": "IPY_MODEL_d356f5cd30dd499481e6418c369bd94c",
       "value": "Select the detector angles to plot."
      }
     },
     "0a097c151ddc43b782d890c5da15407d": {
      "model_module": "@jupyter-widgets/controls",
      "model_module_version": "1.1.0",
      "model_name": "CheckboxModel",
      "state": {
       "description": "10°",
       "disabled": false,
       "layout": "IPY_MODEL_9871518fbb424f9fb82122b1118f1676",
       "style": "IPY_MODEL_64bcc39945b54dc3845c9c8a5f663971",
       "value": true
      }
     },
     "0a0d9cee4f61455e902848baa25f71d3": {
      "model_module": "@jupyter-widgets/controls",
      "model_module_version": "1.1.0",
      "model_name": "DescriptionStyleModel",
      "state": {
       "description_width": ""
      }
     },
     "0a2b6bf867184cf09ab1315bfa560c20": {
      "model_module": "@jupyter-widgets/controls",
      "model_module_version": "1.1.0",
      "model_name": "CheckboxModel",
      "state": {
       "description": "30°",
       "disabled": false,
       "layout": "IPY_MODEL_58077b879af64e7dbc37ed3f0b737f2b",
       "style": "IPY_MODEL_fafd0e3b04b4483f90d356ced0c29506",
       "value": true
      }
     },
     "0a3b209bcf6841b9a433d6e5c3b1a795": {
      "model_module": "@jupyter-widgets/controls",
      "model_module_version": "1.1.0",
      "model_name": "ToggleButtonsStyleModel",
      "state": {
       "button_width": "",
       "description_width": ""
      }
     },
     "0a4648394cbd457b8e85c232f793fa03": {
      "model_module": "@jupyter-widgets/controls",
      "model_module_version": "1.1.0",
      "model_name": "CheckboxModel",
      "state": {
       "description": "30°",
       "disabled": false,
       "layout": "IPY_MODEL_b1b2e4a172a0450c8398fd8c63426533",
       "style": "IPY_MODEL_94f922cfd08645dbadb59353c980e910",
       "value": true
      }
     },
     "0a82ab59695f43bab8f1746b3a2e4905": {
      "model_module": "@jupyter-widgets/base",
      "model_module_version": "1.0.0",
      "model_name": "LayoutModel",
      "state": {}
     },
     "0a892fe9e1af434dbee48a0fe6ed30f0": {
      "model_module": "@jupyter-widgets/base",
      "model_module_version": "1.0.0",
      "model_name": "LayoutModel",
      "state": {}
     },
     "0abffa0061eb431eadd0b537a048d95d": {
      "model_module": "@jupyter-widgets/base",
      "model_module_version": "1.0.0",
      "model_name": "LayoutModel",
      "state": {}
     },
     "0b10e77ea73949b88d3e9b00e33b7c0c": {
      "model_module": "@jupyter-widgets/controls",
      "model_module_version": "1.1.0",
      "model_name": "CheckboxModel",
      "state": {
       "description": "80°",
       "disabled": false,
       "layout": "IPY_MODEL_384c2f9e6a9240a7aac3d6b7beeb3c2e",
       "style": "IPY_MODEL_008a7696a1c74d4cb8ae1ca7c84e83e4",
       "value": true
      }
     },
     "0b259ca278e647fdae7df89f47deff34": {
      "model_module": "@jupyter-widgets/base",
      "model_module_version": "1.0.0",
      "model_name": "LayoutModel",
      "state": {}
     },
     "0b27835f9ef445558cc2f963f85d4f87": {
      "model_module": "@jupyter-widgets/controls",
      "model_module_version": "1.1.0",
      "model_name": "DescriptionStyleModel",
      "state": {
       "description_width": ""
      }
     },
     "0b6e65836b254ff49828fe5d8fdca69f": {
      "model_module": "@jupyter-widgets/controls",
      "model_module_version": "1.1.0",
      "model_name": "CheckboxModel",
      "state": {
       "description": "45°",
       "disabled": false,
       "layout": "IPY_MODEL_56eef3271bf545989ce729f658001984",
       "style": "IPY_MODEL_2ca819c4502f4d179b97705857a3cea9",
       "value": true
      }
     },
     "0ba15f02a3e241cfb5554239e37e8a39": {
      "model_module": "@jupyter-widgets/base",
      "model_module_version": "1.0.0",
      "model_name": "LayoutModel",
      "state": {}
     },
     "0bb45028a61a44e6912f4379e8479fb2": {
      "model_module": "@jupyter-widgets/controls",
      "model_module_version": "1.1.0",
      "model_name": "CheckboxModel",
      "state": {
       "description": "30°",
       "disabled": false,
       "layout": "IPY_MODEL_a9eb32704977437e852c288bee57f477",
       "style": "IPY_MODEL_efcb746359c4475e975c88a99c210c04",
       "value": true
      }
     },
     "0be0b15171fb44f1af5f90865579e69a": {
      "model_module": "@jupyter-widgets/controls",
      "model_module_version": "1.1.0",
      "model_name": "CheckboxModel",
      "state": {
       "description": "30°",
       "disabled": false,
       "layout": "IPY_MODEL_ae04b1d2163a40a8bc5de76789e0d27d",
       "style": "IPY_MODEL_dc6d91722d5c44ff8bff9b0db1e2cff7",
       "value": true
      }
     },
     "0bf4a0d53fc74f159eaa0fe9e9553c72": {
      "model_module": "@jupyter-widgets/controls",
      "model_module_version": "1.1.0",
      "model_name": "DescriptionStyleModel",
      "state": {
       "description_width": ""
      }
     },
     "0c132da78fcf4a549f39d30e06c640a9": {
      "model_module": "@jupyter-widgets/base",
      "model_module_version": "1.0.0",
      "model_name": "LayoutModel",
      "state": {}
     },
     "0c250d6154444cb5aaca2a60f583c229": {
      "model_module": "@jupyter-widgets/controls",
      "model_module_version": "1.1.0",
      "model_name": "ToggleButtonsStyleModel",
      "state": {
       "button_width": "",
       "description_width": ""
      }
     },
     "0c3297f4aa9948278ef3e5ba45d189d8": {
      "model_module": "@jupyter-widgets/controls",
      "model_module_version": "1.1.0",
      "model_name": "DescriptionStyleModel",
      "state": {
       "description_width": ""
      }
     },
     "0c4497ae6e61401f93ba222bb92a4bec": {
      "model_module": "@jupyter-widgets/controls",
      "model_module_version": "1.1.0",
      "model_name": "LabelModel",
      "state": {
       "layout": "IPY_MODEL_4b6fa27e982d4d39a045f12e95015ba9",
       "style": "IPY_MODEL_4cc39a6a644b45c2ae23f45f0791d40f",
       "value": "Select projectile ion energy."
      }
     },
     "0c95bdbf92084f04ab1fb8409bf086a9": {
      "model_module": "@jupyter-widgets/controls",
      "model_module_version": "1.1.0",
      "model_name": "CheckboxModel",
      "state": {
       "description": "135°",
       "disabled": false,
       "layout": "IPY_MODEL_b1f1994c3de742f98d80525a0dc6cdb8",
       "style": "IPY_MODEL_15c535b975a647e4bedb7e06e6a77381",
       "value": true
      }
     },
     "0cc5ed2fc18449fb9cdba5cdc70bab69": {
      "model_module": "@jupyter-widgets/controls",
      "model_module_version": "1.1.0",
      "model_name": "DescriptionStyleModel",
      "state": {
       "description_width": ""
      }
     },
     "0d0ef56dfa2143b8afbd9dfe27c424f4": {
      "model_module": "@jupyter-widgets/controls",
      "model_module_version": "1.1.0",
      "model_name": "CheckboxModel",
      "state": {
       "description": "12.7°",
       "disabled": false,
       "layout": "IPY_MODEL_e006b153e8c04f7981c6ddc8c3678b96",
       "style": "IPY_MODEL_f606adc961c44f8b9755d1e03eb8449a",
       "value": false
      }
     },
     "0d391190abd44d54b833e58e653dc40b": {
      "model_module": "@jupyter-widgets/base",
      "model_module_version": "1.0.0",
      "model_name": "LayoutModel",
      "state": {}
     },
     "0d5b2c31b6ba45a5b485646040acbc1c": {
      "model_module": "@jupyter-widgets/controls",
      "model_module_version": "1.1.0",
      "model_name": "DescriptionStyleModel",
      "state": {
       "description_width": ""
      }
     },
     "0d68d719bd2542f7a4a21bfdbf9e730f": {
      "model_module": "@jupyter-widgets/controls",
      "model_module_version": "1.1.0",
      "model_name": "DescriptionStyleModel",
      "state": {
       "description_width": ""
      }
     },
     "0d751cb4f6e548f4b8ce129fb2a1948f": {
      "model_module": "@jupyter-widgets/base",
      "model_module_version": "1.0.0",
      "model_name": "LayoutModel",
      "state": {}
     },
     "0d9a471588b04f9abc437e7e66b87771": {
      "model_module": "@jupyter-widgets/controls",
      "model_module_version": "1.1.0",
      "model_name": "CheckboxModel",
      "state": {
       "description": "45°",
       "disabled": false,
       "layout": "IPY_MODEL_274735463f814b4bb41f95977294b805",
       "style": "IPY_MODEL_ddd4c7730c2943e088922ab80047a48e",
       "value": true
      }
     },
     "0dc535502f544ef18cef129a43da4899": {
      "model_module": "@jupyter-widgets/controls",
      "model_module_version": "1.1.0",
      "model_name": "DescriptionStyleModel",
      "state": {
       "description_width": ""
      }
     },
     "0df35494584e4aa2ae0f69fa4df9264c": {
      "model_module": "@jupyter-widgets/base",
      "model_module_version": "1.0.0",
      "model_name": "LayoutModel",
      "state": {}
     },
     "0dfa11fe74624d75989c09fe7f864bfe": {
      "model_module": "@jupyter-widgets/base",
      "model_module_version": "1.0.0",
      "model_name": "LayoutModel",
      "state": {}
     },
     "0e32b3e38b3b49b8af1d0d38aad130b8": {
      "model_module": "@jupyter-widgets/controls",
      "model_module_version": "1.1.0",
      "model_name": "DescriptionStyleModel",
      "state": {
       "description_width": ""
      }
     },
     "0e4a60466a5a4a2e8b39e6aa0b0e9b1d": {
      "model_module": "@jupyter-widgets/controls",
      "model_module_version": "1.1.0",
      "model_name": "CheckboxModel",
      "state": {
       "description": "45°",
       "disabled": false,
       "layout": "IPY_MODEL_21f02ba46e614e60a7ef3d5ddcb58c4d",
       "style": "IPY_MODEL_379905cd5a194accbe7b7a843105614d",
       "value": true
      }
     },
     "0e58a76a942e4d48a53853067b866527": {
      "model_module": "@jupyter-widgets/controls",
      "model_module_version": "1.1.0",
      "model_name": "ToggleButtonsModel",
      "state": {
       "_options_labels": [
        "N (¹n)",
        "NDC (¹n)",
        "P (¹H)",
        "D (²H)",
        "T (³H)",
        "S (³He)",
        "A (⁴He)"
       ],
       "button_style": "",
       "description": "Particle:",
       "icons": [],
       "index": 1,
       "layout": "IPY_MODEL_cf507ac9b5704ecda923c74581b54fa9",
       "style": "IPY_MODEL_42da148a2a3e4f1f9716cd92540ea132",
       "tooltips": [
        "Neutron",
        "Back Target Neutron",
        "Proton",
        "Deuteron",
        "Triton",
        "Helium-3",
        "Helium-4"
       ]
      }
     },
     "0e7c74024ab7459c89e88c6a6c6d58c7": {
      "model_module": "@jupyter-widgets/controls",
      "model_module_version": "1.1.0",
      "model_name": "DescriptionStyleModel",
      "state": {
       "description_width": ""
      }
     },
     "0e990f10fa3a4299b2d8194a6469a2da": {
      "model_module": "@jupyter-widgets/controls",
      "model_module_version": "1.1.0",
      "model_name": "DescriptionStyleModel",
      "state": {
       "description_width": ""
      }
     },
     "0ebc3162b4da49f3a6d4f7aa043c52d9": {
      "model_module": "@jupyter-widgets/base",
      "model_module_version": "1.0.0",
      "model_name": "LayoutModel",
      "state": {}
     },
     "0ed75108efaa44f5b4e6d73404bdf8f4": {
      "model_module": "@jupyter-widgets/controls",
      "model_module_version": "1.1.0",
      "model_name": "CheckboxModel",
      "state": {
       "description": "60°",
       "disabled": false,
       "layout": "IPY_MODEL_8ea468f235574c918668b197248fbf7d",
       "style": "IPY_MODEL_14cfeddecba7482199b9ea67847f885f",
       "value": true
      }
     },
     "0f4d8e82915342dea9c99fdf5cf9559b": {
      "model_module": "@jupyter-widgets/base",
      "model_module_version": "1.0.0",
      "model_name": "LayoutModel",
      "state": {}
     },
     "0f64b367e84944c6bb9f39de60b04729": {
      "model_module": "@jupyter-widgets/controls",
      "model_module_version": "1.1.0",
      "model_name": "DescriptionStyleModel",
      "state": {
       "description_width": ""
      }
     },
     "0faaac1d69f34135b1b9e3cc6ffeb29c": {
      "model_module": "@jupyter-widgets/controls",
      "model_module_version": "1.1.0",
      "model_name": "DescriptionStyleModel",
      "state": {
       "description_width": ""
      }
     },
     "0fd4e4d9a1e24438beae0580eb21cd0a": {
      "model_module": "@jupyter-widgets/controls",
      "model_module_version": "1.1.0",
      "model_name": "DescriptionStyleModel",
      "state": {
       "description_width": ""
      }
     },
     "0fee5ca72fa14b4591a7f674fc17f243": {
      "model_module": "@jupyter-widgets/controls",
      "model_module_version": "1.1.0",
      "model_name": "CheckboxModel",
      "state": {
       "description": "7.2°",
       "disabled": false,
       "layout": "IPY_MODEL_bbb5f1f4d7e24b1a81fd951913eb0c43",
       "style": "IPY_MODEL_1963e7eec4ae4110934c80444a00a43c",
       "value": true
      }
     },
     "10187d260a8f420e86a01fdd246b3b19": {
      "model_module": "@jupyter-widgets/controls",
      "model_module_version": "1.1.0",
      "model_name": "LabelModel",
      "state": {
       "layout": "IPY_MODEL_69b8433c4d3c4ff2811205a7b366fe96",
       "style": "IPY_MODEL_3ba19ebc170b40f2b661526b1e62419f",
       "value": "Select the detector angles to plot."
      }
     },
     "104d58e9449e48749b05fefce343f075": {
      "model_module": "@jupyter-widgets/base",
      "model_module_version": "1.0.0",
      "model_name": "LayoutModel",
      "state": {}
     },
     "105f5d8a905f448a8019eaa894cb6f2a": {
      "model_module": "@jupyter-widgets/controls",
      "model_module_version": "1.1.0",
      "model_name": "CheckboxModel",
      "state": {
       "description": "7.2°",
       "disabled": false,
       "layout": "IPY_MODEL_97954afcbea94f4f9fc07ecfe9a9f91d",
       "style": "IPY_MODEL_a02fa49cb30d40c4823416bf6ad3c976",
       "value": false
      }
     },
     "107b2e5c7cb84655ad1c8e6c784e2697": {
      "model_module": "@jupyter-widgets/controls",
      "model_module_version": "1.1.0",
      "model_name": "CheckboxModel",
      "state": {
       "description": "30°",
       "disabled": false,
       "layout": "IPY_MODEL_e497490ce55a47528fa6a34bf8452d68",
       "style": "IPY_MODEL_a7823db7be3f4cd48902bd8f6cbba005",
       "value": true
      }
     },
     "10a9f39e18144bbb8a1579af3ea8665d": {
      "model_module": "@jupyter-widgets/controls",
      "model_module_version": "1.1.0",
      "model_name": "ToggleButtonsStyleModel",
      "state": {
       "button_width": "",
       "description_width": ""
      }
     },
     "10b4f99509df485689b185a6e77913a5": {
      "model_module": "@jupyter-widgets/controls",
      "model_module_version": "1.1.0",
      "model_name": "DescriptionStyleModel",
      "state": {
       "description_width": ""
      }
     },
     "10bde275d29e4c31ad1864d67cdf153c": {
      "model_module": "@jupyter-widgets/controls",
      "model_module_version": "1.1.0",
      "model_name": "ToggleButtonsModel",
      "state": {
       "_options_labels": [
        "N (¹n)",
        "NDC (¹n)",
        "P (¹H)",
        "D (²H)"
       ],
       "button_style": "",
       "description": "Type:",
       "icons": [],
       "index": 0,
       "layout": "IPY_MODEL_3fa835cdaf12418f909ab21e9778b253",
       "style": "IPY_MODEL_8916808f573642e7a06afcd05d759af7",
       "tooltips": [
        "Neutron",
        "Back Target Neutron",
        "Proton",
        "Deuteron"
       ]
      }
     },
     "10eb4b649ea049f6a6685d6b048edfea": {
      "model_module": "@jupyter-widgets/base",
      "model_module_version": "1.0.0",
      "model_name": "LayoutModel",
      "state": {}
     },
     "10f183f605ce403daad19007e941f595": {
      "model_module": "@jupyter-widgets/controls",
      "model_module_version": "1.1.0",
      "model_name": "DescriptionStyleModel",
      "state": {
       "description_width": ""
      }
     },
     "114b096c8d2849e88380a0216538768e": {
      "model_module": "@jupyter-widgets/controls",
      "model_module_version": "1.1.0",
      "model_name": "DescriptionStyleModel",
      "state": {
       "description_width": ""
      }
     },
     "11595e0a202141b1a1810a8271297d9a": {
      "model_module": "@jupyter-widgets/controls",
      "model_module_version": "1.1.0",
      "model_name": "LabelModel",
      "state": {
       "layout": "IPY_MODEL_2c677bde966440d1ab1d799e4a999cc7",
       "style": "IPY_MODEL_56109a4f301b4e7eaf085b954adad9c5",
       "value": "Select the detector angles to plot."
      }
     },
     "116ac127c33a4645b99fbacd4acffcea": {
      "model_module": "@jupyter-widgets/base",
      "model_module_version": "1.0.0",
      "model_name": "LayoutModel",
      "state": {}
     },
     "117cc8277ad9466798b31d944957c9ea": {
      "model_module": "@jupyter-widgets/controls",
      "model_module_version": "1.1.0",
      "model_name": "LabelModel",
      "state": {
       "layout": "IPY_MODEL_6b777fc2776b4640a564e258100c4073",
       "style": "IPY_MODEL_d09da5f86ec0486cb0fbeaad7d0b924a",
       "value": "Select the detector angles to plot."
      }
     },
     "11ac6cd2c4e0425181ae145c624bb8f7": {
      "model_module": "@jupyter-widgets/controls",
      "model_module_version": "1.1.0",
      "model_name": "LabelModel",
      "state": {
       "layout": "IPY_MODEL_4bbd72c1fa0b40e69f7b7a8bbda3f824",
       "style": "IPY_MODEL_43912211b5184688b8ce478f1efbc6ef",
       "value": "Select the detector angles to plot."
      }
     },
     "11aea78791f04ca6adbc4af597e72e71": {
      "model_module": "@jupyter-widgets/base",
      "model_module_version": "1.0.0",
      "model_name": "LayoutModel",
      "state": {}
     },
     "11d6702a7a5f4943902e8121864bb3b1": {
      "model_module": "@jupyter-widgets/controls",
      "model_module_version": "1.1.0",
      "model_name": "ButtonModel",
      "state": {
       "button_style": "success",
       "description": "Update plot",
       "icon": "paint-brush",
       "layout": "IPY_MODEL_550a8b4a444a4dc8979aaff27f9aea77",
       "style": "IPY_MODEL_47bb9e4681e444679e939c70b022b30b",
       "tooltip": "Click to redraw the plot below with updated options from above."
      }
     },
     "11df27aa5e3847d59b5cbdd1ed1e833d": {
      "model_module": "@jupyter-widgets/base",
      "model_module_version": "1.0.0",
      "model_name": "LayoutModel",
      "state": {}
     },
     "11e5620c07cc43d8a2786e3639005438": {
      "model_module": "@jupyter-widgets/controls",
      "model_module_version": "1.1.0",
      "model_name": "DescriptionStyleModel",
      "state": {
       "description_width": ""
      }
     },
     "11f48d37a535475ca688e0905db3162f": {
      "model_module": "@jupyter-widgets/base",
      "model_module_version": "1.0.0",
      "model_name": "LayoutModel",
      "state": {}
     },
     "1245431019ef4cbaa2e0848f14663203": {
      "model_module": "@jupyter-widgets/controls",
      "model_module_version": "1.1.0",
      "model_name": "DescriptionStyleModel",
      "state": {
       "description_width": ""
      }
     },
     "125eeccb2fdb4c41a531b1210628a84b": {
      "model_module": "@jupyter-widgets/controls",
      "model_module_version": "1.1.0",
      "model_name": "CheckboxModel",
      "state": {
       "description": "45°",
       "disabled": false,
       "layout": "IPY_MODEL_e4d804abadc14c74a33145526e02a3b7",
       "style": "IPY_MODEL_8e7f2696ab6a4fb79016841dd4e1fa51",
       "value": true
      }
     },
     "126979ad38054e0a8468ba5e307f9db5": {
      "model_module": "@jupyter-widgets/controls",
      "model_module_version": "1.1.0",
      "model_name": "ToggleButtonsModel",
      "state": {
       "_options_labels": [
        "N (¹n)",
        "NDC (¹n)",
        "P (¹H)",
        "D (²H)",
        "T (³H)",
        "S (³He)",
        "A (⁴He)"
       ],
       "button_style": "",
       "description": "Type:",
       "icons": [],
       "index": 5,
       "layout": "IPY_MODEL_f4a71d72724943bfaf0276bf593011e7",
       "style": "IPY_MODEL_4873b52e14fb4e01a2efc9b6ec9f4561",
       "tooltips": [
        "Neutron",
        "Back Target Neutron",
        "Proton",
        "Deuteron",
        "Triton",
        "Helium-3",
        "Helium-4"
       ]
      }
     },
     "128415027564430eb376c5398a76e9ed": {
      "model_module": "@jupyter-widgets/controls",
      "model_module_version": "1.1.0",
      "model_name": "CheckboxModel",
      "state": {
       "description": "80°",
       "disabled": false,
       "layout": "IPY_MODEL_7bd08e09b235419884b9026c8318d57b",
       "style": "IPY_MODEL_1d9e716883364df8a8ff753b2645afa2",
       "value": true
      }
     },
     "12cf0e3f5beb4e5db305b20b8628fea2": {
      "model_module": "@jupyter-widgets/controls",
      "model_module_version": "1.1.0",
      "model_name": "ToggleButtonsStyleModel",
      "state": {
       "button_width": "",
       "description_width": ""
      }
     },
     "12dad28b0128407b921fd9caa9fb30b1": {
      "model_module": "@jupyter-widgets/controls",
      "model_module_version": "1.1.0",
      "model_name": "CheckboxModel",
      "state": {
       "description": "80°",
       "disabled": false,
       "layout": "IPY_MODEL_f055cac736c0407b94d3e7ddcc082153",
       "style": "IPY_MODEL_1e81c5de21e34a69a2a2f8ab37580fa5",
       "value": true
      }
     },
     "134bc7054b404937bd3736cbe91e7b67": {
      "model_module": "@jupyter-widgets/base",
      "model_module_version": "1.0.0",
      "model_name": "LayoutModel",
      "state": {}
     },
     "134dbfaf626f4f0188ccfb5e92dc8b4c": {
      "model_module": "@jupyter-widgets/controls",
      "model_module_version": "1.1.0",
      "model_name": "DescriptionStyleModel",
      "state": {
       "description_width": ""
      }
     },
     "1365e00648e04d3e8ccd0cde2afb99d2": {
      "model_module": "@jupyter-widgets/controls",
      "model_module_version": "1.1.0",
      "model_name": "LabelModel",
      "state": {
       "layout": "IPY_MODEL_84775fd52f4349bfb087eae261842288",
       "style": "IPY_MODEL_aa3cfd405b92404eb2f19d71ca77330c",
       "value": "Select the detector angles to plot."
      }
     },
     "1390752cdc434e52b9f7bbcab6f4e297": {
      "model_module": "@jupyter-widgets/base",
      "model_module_version": "1.0.0",
      "model_name": "LayoutModel",
      "state": {}
     },
     "13ca9599e8a6458b9f877c77a465cadf": {
      "model_module": "@jupyter-widgets/base",
      "model_module_version": "1.0.0",
      "model_name": "LayoutModel",
      "state": {}
     },
     "13e8722c02124a1eb5386f71fef459c9": {
      "model_module": "@jupyter-widgets/base",
      "model_module_version": "1.0.0",
      "model_name": "LayoutModel",
      "state": {}
     },
     "1411d8279de942bcac29d5e365385d3c": {
      "model_module": "@jupyter-widgets/base",
      "model_module_version": "1.0.0",
      "model_name": "LayoutModel",
      "state": {}
     },
     "1438a40c9bcc4938b16e0f607404b957": {
      "model_module": "@jupyter-widgets/controls",
      "model_module_version": "1.1.0",
      "model_name": "ToggleButtonsModel",
      "state": {
       "_options_labels": [
        "400 MeV",
        "800 MeV",
        "2500 MeV"
       ],
       "button_style": "",
       "description": "Energy:",
       "icons": [],
       "index": 0,
       "layout": "IPY_MODEL_b897da7bbb4b482da822f91e6f777254",
       "style": "IPY_MODEL_6efc4b6151e242caaa8ab52d50bd5997",
       "tooltips": [
        "lowest energy",
        "middle energy",
        "highest energy"
       ]
      }
     },
     "1444a36731094071b713ff974db02236": {
      "model_module": "@jupyter-widgets/controls",
      "model_module_version": "1.1.0",
      "model_name": "DescriptionStyleModel",
      "state": {
       "description_width": ""
      }
     },
     "145a572af0524b2c966a392096088f62": {
      "model_module": "@jupyter-widgets/controls",
      "model_module_version": "1.1.0",
      "model_name": "CheckboxModel",
      "state": {
       "description": "30°",
       "disabled": false,
       "layout": "IPY_MODEL_1ffc5d883a454771a14c0ab9f328fcf3",
       "style": "IPY_MODEL_4ea59979a0084e069d4cfe7c617b86d8",
       "value": true
      }
     },
     "1464d343c35a4ef39cb521de45cc30a7": {
      "model_module": "@jupyter-widgets/base",
      "model_module_version": "1.0.0",
      "model_name": "LayoutModel",
      "state": {}
     },
     "14747b7132f64713b014ca83848cb75d": {
      "model_module": "@jupyter-widgets/base",
      "model_module_version": "1.0.0",
      "model_name": "LayoutModel",
      "state": {}
     },
     "1487e8abab6d47ebb0c49c2e27bd0fc5": {
      "model_module": "@jupyter-widgets/controls",
      "model_module_version": "1.1.0",
      "model_name": "DescriptionStyleModel",
      "state": {
       "description_width": ""
      }
     },
     "14a99f6b164c4d9299d9760d104c3d74": {
      "model_module": "@jupyter-widgets/base",
      "model_module_version": "1.0.0",
      "model_name": "LayoutModel",
      "state": {}
     },
     "14cfeddecba7482199b9ea67847f885f": {
      "model_module": "@jupyter-widgets/controls",
      "model_module_version": "1.1.0",
      "model_name": "DescriptionStyleModel",
      "state": {
       "description_width": ""
      }
     },
     "14fafc4eb4bf469cae61c06d8cce53bf": {
      "model_module": "@jupyter-widgets/base",
      "model_module_version": "1.0.0",
      "model_name": "LayoutModel",
      "state": {}
     },
     "150c190f1f854c3f99617e36a9d284b7": {
      "model_module": "@jupyter-widgets/controls",
      "model_module_version": "1.1.0",
      "model_name": "CheckboxModel",
      "state": {
       "description": "30°",
       "disabled": false,
       "layout": "IPY_MODEL_94435b3fbd774ecb9620eeafcda40e7b",
       "style": "IPY_MODEL_622b1dbaabd243b9843ca2f3fffb7666",
       "value": true
      }
     },
     "152c368039ae4f16b2ef95b826c218db": {
      "model_module": "@jupyter-widgets/controls",
      "model_module_version": "1.1.0",
      "model_name": "CheckboxModel",
      "state": {
       "description": "45°",
       "disabled": false,
       "layout": "IPY_MODEL_88c16b0b83314b6692444ec6c22caa7f",
       "style": "IPY_MODEL_4dc60796dc4d4b2fb291300a78b5e453",
       "value": true
      }
     },
     "156f2356d2f34394bd0ef2bbc9f4c5b0": {
      "model_module": "@jupyter-widgets/base",
      "model_module_version": "1.0.0",
      "model_name": "LayoutModel",
      "state": {}
     },
     "15be3f50cce94b91a4aa3def909f1e33": {
      "model_module": "@jupyter-widgets/base",
      "model_module_version": "1.0.0",
      "model_name": "LayoutModel",
      "state": {}
     },
     "15c535b975a647e4bedb7e06e6a77381": {
      "model_module": "@jupyter-widgets/controls",
      "model_module_version": "1.1.0",
      "model_name": "DescriptionStyleModel",
      "state": {
       "description_width": ""
      }
     },
     "15ee170653c240fb99340a790479ce12": {
      "model_module": "@jupyter-widgets/controls",
      "model_module_version": "1.1.0",
      "model_name": "DescriptionStyleModel",
      "state": {
       "description_width": ""
      }
     },
     "1611a7e4b1b04daa83ba9fbdf40a6b48": {
      "model_module": "@jupyter-widgets/controls",
      "model_module_version": "1.1.0",
      "model_name": "DescriptionStyleModel",
      "state": {
       "description_width": ""
      }
     },
     "16645c168df54931bd863473f3de34b4": {
      "model_module": "@jupyter-widgets/base",
      "model_module_version": "1.0.0",
      "model_name": "LayoutModel",
      "state": {}
     },
     "1672aa49f4314ddf92f6e8228632b8df": {
      "model_module": "@jupyter-widgets/base",
      "model_module_version": "1.0.0",
      "model_name": "LayoutModel",
      "state": {}
     },
     "16826bc0ce984138840e74701681d5b5": {
      "model_module": "@jupyter-widgets/base",
      "model_module_version": "1.0.0",
      "model_name": "LayoutModel",
      "state": {}
     },
     "169917404f5542f0acc9e96eb4383c57": {
      "model_module": "@jupyter-widgets/controls",
      "model_module_version": "1.1.0",
      "model_name": "LabelModel",
      "state": {
       "layout": "IPY_MODEL_2c74d1c741714f67aa3c29cd6db0295b",
       "style": "IPY_MODEL_4df1a3837fc04729974df5c9012b3dde",
       "value": "Select upstream target mass thickness."
      }
     },
     "16a0a785c08a4f329604b9d7b46e1730": {
      "model_module": "@jupyter-widgets/controls",
      "model_module_version": "1.1.0",
      "model_name": "ToggleButtonsStyleModel",
      "state": {
       "button_width": "",
       "description_width": ""
      }
     },
     "16f670a283904513995b6aa8c48c5375": {
      "model_module": "@jupyter-widgets/base",
      "model_module_version": "1.0.0",
      "model_name": "LayoutModel",
      "state": {}
     },
     "16f7563b15f24961b00e03182136e5e0": {
      "model_module": "@jupyter-widgets/base",
      "model_module_version": "1.0.0",
      "model_name": "LayoutModel",
      "state": {}
     },
     "16fa1374555044cb9b5eb597982fd0c0": {
      "model_module": "@jupyter-widgets/controls",
      "model_module_version": "1.1.0",
      "model_name": "ToggleButtonsModel",
      "state": {
       "_options_labels": [
        "P (¹H)",
        "D (²H)",
        "T (³H)",
        "S (³He)",
        "A (⁴He)"
       ],
       "button_style": "",
       "description": "Type:",
       "icons": [],
       "index": 1,
       "layout": "IPY_MODEL_4ef0084a078247899fe9c9e4946364ae",
       "style": "IPY_MODEL_77f0a240fb514069b6c89a150a7abac9",
       "tooltips": [
        "Proton",
        "Deuteron",
        "Triton",
        "Helium-3",
        "Helium-4"
       ]
      }
     },
     "1719a77f518142a39ecc0dced8ab027f": {
      "model_module": "@jupyter-widgets/base",
      "model_module_version": "1.0.0",
      "model_name": "LayoutModel",
      "state": {}
     },
     "1749abe25a594d598be919bca214e8ae": {
      "model_module": "@jupyter-widgets/base",
      "model_module_version": "1.0.0",
      "model_name": "LayoutModel",
      "state": {}
     },
     "1757cdb3a11c42869812c07a7a3a6d56": {
      "model_module": "@jupyter-widgets/controls",
      "model_module_version": "1.1.0",
      "model_name": "DescriptionStyleModel",
      "state": {
       "description_width": ""
      }
     },
     "17bae485d4da4ee1af714e9f524d5da1": {
      "model_module": "@jupyter-widgets/base",
      "model_module_version": "1.0.0",
      "model_name": "LayoutModel",
      "state": {}
     },
     "180b1185efac437da63d4e48062134ca": {
      "model_module": "@jupyter-widgets/controls",
      "model_module_version": "1.1.0",
      "model_name": "LabelModel",
      "state": {
       "layout": "IPY_MODEL_1a7a00b0f1c743d288a666ab80835582",
       "style": "IPY_MODEL_ff2f94b2546b423daf13837d3bd365ab",
       "value": "Select projectile ion species and energy."
      }
     },
     "181d532fcf664ac59ef38448d3ac215c": {
      "model_module": "@jupyter-widgets/base",
      "model_module_version": "1.0.0",
      "model_name": "LayoutModel",
      "state": {}
     },
     "18863704081745a6b44ce17d97071696": {
      "model_module": "@jupyter-widgets/base",
      "model_module_version": "1.0.0",
      "model_name": "LayoutModel",
      "state": {}
     },
     "18b8c3c6b1d2459ab250e28c7d51c293": {
      "model_module": "@jupyter-widgets/controls",
      "model_module_version": "1.1.0",
      "model_name": "DescriptionStyleModel",
      "state": {
       "description_width": ""
      }
     },
     "18b949db5fe34bef96f34c741ec2e158": {
      "model_module": "@jupyter-widgets/controls",
      "model_module_version": "1.1.0",
      "model_name": "DescriptionStyleModel",
      "state": {
       "description_width": ""
      }
     },
     "18ec9503a0314fdfb4fd82944a091077": {
      "model_module": "@jupyter-widgets/controls",
      "model_module_version": "1.1.0",
      "model_name": "ToggleButtonsStyleModel",
      "state": {
       "button_width": "",
       "description_width": ""
      }
     },
     "1902eba716b74c90bbd59002c4fa7e7e": {
      "model_module": "@jupyter-widgets/controls",
      "model_module_version": "1.1.0",
      "model_name": "LabelModel",
      "state": {
       "layout": "IPY_MODEL_7eb4d549ff354d1d97bf02337d3d4441",
       "style": "IPY_MODEL_5551224bca5049e7be23f28c01e1dd3b",
       "value": "Select upstream target material and thickness."
      }
     },
     "19147c5420c549e0b2700c357babc0f8": {
      "model_module": "@jupyter-widgets/controls",
      "model_module_version": "1.1.0",
      "model_name": "DescriptionStyleModel",
      "state": {
       "description_width": ""
      }
     },
     "1954fcd499e84497b4865b733f2fe9a4": {
      "model_module": "@jupyter-widgets/base",
      "model_module_version": "1.0.0",
      "model_name": "LayoutModel",
      "state": {}
     },
     "195d94cd3ae042f0960a238e7d83b52f": {
      "model_module": "@jupyter-widgets/base",
      "model_module_version": "1.0.0",
      "model_name": "LayoutModel",
      "state": {}
     },
     "1961e98b7ac3486ebc1961e8cfeef51c": {
      "model_module": "@jupyter-widgets/base",
      "model_module_version": "1.0.0",
      "model_name": "LayoutModel",
      "state": {}
     },
     "1963e7eec4ae4110934c80444a00a43c": {
      "model_module": "@jupyter-widgets/controls",
      "model_module_version": "1.1.0",
      "model_name": "DescriptionStyleModel",
      "state": {
       "description_width": ""
      }
     },
     "1969fd309e104c78be9910fab3e01e63": {
      "model_module": "@jupyter-widgets/controls",
      "model_module_version": "1.1.0",
      "model_name": "CheckboxModel",
      "state": {
       "description": "10°",
       "disabled": false,
       "layout": "IPY_MODEL_7361620793a041eb83e6cebabb392c82",
       "style": "IPY_MODEL_23dd98cd3a2f4af9b3fe95992b838186",
       "value": true
      }
     },
     "196b92fe93b14a5e9565d48f5aa1f5ce": {
      "model_module": "@jupyter-widgets/controls",
      "model_module_version": "1.1.0",
      "model_name": "ToggleButtonsStyleModel",
      "state": {
       "button_width": "",
       "description_width": ""
      }
     },
     "197075fb586e4734965179c897e4f958": {
      "model_module": "@jupyter-widgets/controls",
      "model_module_version": "1.1.0",
      "model_name": "DescriptionStyleModel",
      "state": {
       "description_width": ""
      }
     },
     "19ccf39af38349de8dfba6854f1eef09": {
      "model_module": "@jupyter-widgets/controls",
      "model_module_version": "1.1.0",
      "model_name": "CheckboxModel",
      "state": {
       "description": "30°",
       "disabled": false,
       "layout": "IPY_MODEL_f321083ddc564a30968b1d85bf33aa1b",
       "style": "IPY_MODEL_269da9fb17a54ca783dafdd295da5430",
       "value": true
      }
     },
     "19e0b081d42e4dccaf1e0c50fc67ddd5": {
      "model_module": "@jupyter-widgets/controls",
      "model_module_version": "1.1.0",
      "model_name": "DescriptionStyleModel",
      "state": {
       "description_width": ""
      }
     },
     "19ecf35209604accb1c26bee4e7667e4": {
      "model_module": "@jupyter-widgets/controls",
      "model_module_version": "1.1.0",
      "model_name": "ToggleButtonsModel",
      "state": {
       "_options_labels": [
        "OLS",
        "NaI"
       ],
       "button_style": "",
       "description": "Type:",
       "icons": [],
       "index": 0,
       "layout": "IPY_MODEL_053cbccbe0f4414bad85c180627d0aa8",
       "style": "IPY_MODEL_8e949d24e566410ab568643397076396",
       "tooltips": [
        "Organic Liquid Scintillator",
        "Sodium Iodide"
       ]
      }
     },
     "1a0b47557ddb471a9abef45ce46f53bc": {
      "model_module": "@jupyter-widgets/controls",
      "model_module_version": "1.1.0",
      "model_name": "DescriptionStyleModel",
      "state": {
       "description_width": ""
      }
     },
     "1a34ec5b142b45db90573b92d4c30f07": {
      "model_module": "@jupyter-widgets/controls",
      "model_module_version": "1.1.0",
      "model_name": "CheckboxModel",
      "state": {
       "description": "60°",
       "disabled": false,
       "layout": "IPY_MODEL_a86e995100d74316a3d0e3db7e535fcc",
       "style": "IPY_MODEL_a62492efc26142d39374db8dd98e3500",
       "value": true
      }
     },
     "1a377439799f4844b4b90a8aaa874093": {
      "model_module": "@jupyter-widgets/controls",
      "model_module_version": "1.1.0",
      "model_name": "LabelModel",
      "state": {
       "layout": "IPY_MODEL_1c2d0cb27cfc487392e4c839e8ece25f",
       "style": "IPY_MODEL_08166d77b35f43fd8598f6c8612cbcaa",
       "value": "Select projectile ion energy."
      }
     },
     "1a46dbed02354026a4326b00cab9b040": {
      "model_module": "@jupyter-widgets/controls",
      "model_module_version": "1.1.0",
      "model_name": "DescriptionStyleModel",
      "state": {
       "description_width": ""
      }
     },
     "1a5612b401944defb18e84f5e71fc199": {
      "model_module": "@jupyter-widgets/controls",
      "model_module_version": "1.1.0",
      "model_name": "ToggleButtonsStyleModel",
      "state": {
       "button_width": "",
       "description_width": ""
      }
     },
     "1a684b2eadf148cba283c44e38e6ec3c": {
      "model_module": "@jupyter-widgets/controls",
      "model_module_version": "1.1.0",
      "model_name": "ButtonStyleModel",
      "state": {}
     },
     "1a69e3aee3e14b7db2c3eaef0f27ff8c": {
      "model_module": "@jupyter-widgets/base",
      "model_module_version": "1.0.0",
      "model_name": "LayoutModel",
      "state": {}
     },
     "1a7a00b0f1c743d288a666ab80835582": {
      "model_module": "@jupyter-widgets/base",
      "model_module_version": "1.0.0",
      "model_name": "LayoutModel",
      "state": {}
     },
     "1a9341747b8a43e0a169c7d1d639c50f": {
      "model_module": "@jupyter-widgets/base",
      "model_module_version": "1.0.0",
      "model_name": "LayoutModel",
      "state": {}
     },
     "1aa273c7bdca4da191835a445d606065": {
      "model_module": "@jupyter-widgets/controls",
      "model_module_version": "1.1.0",
      "model_name": "DescriptionStyleModel",
      "state": {
       "description_width": ""
      }
     },
     "1abe2f30b79f4701a9f94cf1a438e122": {
      "model_module": "@jupyter-widgets/controls",
      "model_module_version": "1.1.0",
      "model_name": "ToggleButtonsStyleModel",
      "state": {
       "button_width": "",
       "description_width": ""
      }
     },
     "1acc6d4d97c0434783d57bd31fb7a9e1": {
      "model_module": "@jupyter-widgets/controls",
      "model_module_version": "1.1.0",
      "model_name": "DescriptionStyleModel",
      "state": {
       "description_width": ""
      }
     },
     "1aeb7dfc9e594c11861f86298ee1729a": {
      "model_module": "@jupyter-widgets/base",
      "model_module_version": "1.0.0",
      "model_name": "LayoutModel",
      "state": {}
     },
     "1af087b5218c4437920f90cb063ef0cb": {
      "model_module": "@jupyter-widgets/controls",
      "model_module_version": "1.1.0",
      "model_name": "DescriptionStyleModel",
      "state": {
       "description_width": ""
      }
     },
     "1b1c3c1a190840779c5277f754611eed": {
      "model_module": "@jupyter-widgets/controls",
      "model_module_version": "1.1.0",
      "model_name": "DescriptionStyleModel",
      "state": {
       "description_width": ""
      }
     },
     "1b3dff2e885b48e789134f537ebc787a": {
      "model_module": "@jupyter-widgets/controls",
      "model_module_version": "1.1.0",
      "model_name": "DescriptionStyleModel",
      "state": {
       "description_width": ""
      }
     },
     "1b46d062e7544ec0a153eeae4e600990": {
      "model_module": "@jupyter-widgets/controls",
      "model_module_version": "1.1.0",
      "model_name": "ToggleButtonsStyleModel",
      "state": {
       "button_width": "",
       "description_width": ""
      }
     },
     "1b7bbc4fc6784941b0bb170af22bc7b8": {
      "model_module": "@jupyter-widgets/base",
      "model_module_version": "1.0.0",
      "model_name": "LayoutModel",
      "state": {}
     },
     "1b864d38500245bc899a0f381f423c24": {
      "model_module": "@jupyter-widgets/base",
      "model_module_version": "1.0.0",
      "model_name": "LayoutModel",
      "state": {}
     },
     "1ba608492b364dd0bee498de820a823f": {
      "model_module": "@jupyter-widgets/controls",
      "model_module_version": "1.1.0",
      "model_name": "DescriptionStyleModel",
      "state": {
       "description_width": ""
      }
     },
     "1bbba88cc5794cd1ad6b502097c723e9": {
      "model_module": "@jupyter-widgets/base",
      "model_module_version": "1.0.0",
      "model_name": "LayoutModel",
      "state": {}
     },
     "1bc61067e7e84ec4893204250a69454a": {
      "model_module": "@jupyter-widgets/base",
      "model_module_version": "1.0.0",
      "model_name": "LayoutModel",
      "state": {}
     },
     "1bf04ec8e10246cc9d2df1f9e1f9e9b8": {
      "model_module": "@jupyter-widgets/base",
      "model_module_version": "1.0.0",
      "model_name": "LayoutModel",
      "state": {}
     },
     "1bf7f5567589498fa681752dbe53ef46": {
      "model_module": "@jupyter-widgets/base",
      "model_module_version": "1.0.0",
      "model_name": "LayoutModel",
      "state": {}
     },
     "1bfd2f44b7c2442090c992df698cee4c": {
      "model_module": "@jupyter-widgets/base",
      "model_module_version": "1.0.0",
      "model_name": "LayoutModel",
      "state": {}
     },
     "1c014d4e1a954966b4781964ef79ab9d": {
      "model_module": "@jupyter-widgets/base",
      "model_module_version": "1.0.0",
      "model_name": "LayoutModel",
      "state": {}
     },
     "1c2d0cb27cfc487392e4c839e8ece25f": {
      "model_module": "@jupyter-widgets/base",
      "model_module_version": "1.0.0",
      "model_name": "LayoutModel",
      "state": {}
     },
     "1c450c8f804a47ec8b0823ee81fcc1a9": {
      "model_module": "@jupyter-widgets/controls",
      "model_module_version": "1.1.0",
      "model_name": "DescriptionStyleModel",
      "state": {
       "description_width": ""
      }
     },
     "1c7c9c5e98b14f00b81925a5e964572c": {
      "model_module": "@jupyter-widgets/controls",
      "model_module_version": "1.1.0",
      "model_name": "CheckboxModel",
      "state": {
       "description": "60°",
       "disabled": false,
       "layout": "IPY_MODEL_ec294333971b4af4bb4a5d8b139ab91f",
       "style": "IPY_MODEL_add3906993124ea1b4e1b692d9bd831b",
       "value": true
      }
     },
     "1d393d3627de4b8b9c225452fc52406f": {
      "model_module": "@jupyter-widgets/base",
      "model_module_version": "1.0.0",
      "model_name": "LayoutModel",
      "state": {}
     },
     "1d68b934178f43fc98da9e81f818c1c2": {
      "model_module": "@jupyter-widgets/base",
      "model_module_version": "1.0.0",
      "model_name": "LayoutModel",
      "state": {}
     },
     "1d72fdf622c6443bb22fe880f8a2aa5c": {
      "model_module": "@jupyter-widgets/base",
      "model_module_version": "1.0.0",
      "model_name": "LayoutModel",
      "state": {}
     },
     "1d9e716883364df8a8ff753b2645afa2": {
      "model_module": "@jupyter-widgets/controls",
      "model_module_version": "1.1.0",
      "model_name": "DescriptionStyleModel",
      "state": {
       "description_width": ""
      }
     },
     "1dad1907f0694a15b1777d2307d3c28f": {
      "model_module": "@jupyter-widgets/base",
      "model_module_version": "1.0.0",
      "model_name": "LayoutModel",
      "state": {}
     },
     "1e04ec5a3cd042a4ac1c828623d14d2e": {
      "model_module": "@jupyter-widgets/controls",
      "model_module_version": "1.1.0",
      "model_name": "CheckboxModel",
      "state": {
       "description": "45°",
       "disabled": false,
       "layout": "IPY_MODEL_9f10af26b0b44a58a854ace8e990c731",
       "style": "IPY_MODEL_e4e76739afdd42159e7d70cd8e35073f",
       "value": true
      }
     },
     "1e0609842ad847aaa5d3b11714eb181b": {
      "model_module": "@jupyter-widgets/controls",
      "model_module_version": "1.1.0",
      "model_name": "CheckboxModel",
      "state": {
       "description": "45°",
       "disabled": false,
       "layout": "IPY_MODEL_9fc3301f6be746b3b12b26b043f73985",
       "style": "IPY_MODEL_9180d374d3b3454293724d57c1893023",
       "value": true
      }
     },
     "1e0c3eaa0d044be580b73c12fea09940": {
      "model_module": "@jupyter-widgets/controls",
      "model_module_version": "1.1.0",
      "model_name": "DescriptionStyleModel",
      "state": {
       "description_width": ""
      }
     },
     "1e18632789c64ad58c9bdccadd49f03f": {
      "model_module": "@jupyter-widgets/controls",
      "model_module_version": "1.1.0",
      "model_name": "ToggleButtonsModel",
      "state": {
       "_options_labels": [
        "400 MeV/n",
        "800 MeV/n",
        "1500 MeV/n"
       ],
       "button_style": "",
       "description": "Energy:",
       "icons": [],
       "index": 0,
       "layout": "IPY_MODEL_4bd4fb3548f34dbbab78ecd8e9853177",
       "style": "IPY_MODEL_4000278a9d364b9f8b0aa3f29b94c1be",
       "tooltips": [
        "lowest energy",
        "middle energy",
        "highest energy"
       ]
      }
     },
     "1e5116bf86be4f1882bf20fcf6a6c465": {
      "model_module": "@jupyter-widgets/controls",
      "model_module_version": "1.1.0",
      "model_name": "DescriptionStyleModel",
      "state": {
       "description_width": ""
      }
     },
     "1e7bec4752ff40afa2b30faaa9181f59": {
      "model_module": "@jupyter-widgets/controls",
      "model_module_version": "1.1.0",
      "model_name": "DescriptionStyleModel",
      "state": {
       "description_width": ""
      }
     },
     "1e80c9c610b14a8cbdf136d7def2e4a6": {
      "model_module": "@jupyter-widgets/controls",
      "model_module_version": "1.1.0",
      "model_name": "DescriptionStyleModel",
      "state": {
       "description_width": ""
      }
     },
     "1e81c5de21e34a69a2a2f8ab37580fa5": {
      "model_module": "@jupyter-widgets/controls",
      "model_module_version": "1.1.0",
      "model_name": "DescriptionStyleModel",
      "state": {
       "description_width": ""
      }
     },
     "1e89315c30e2428fa595d6b42ebd4592": {
      "model_module": "@jupyter-widgets/base",
      "model_module_version": "1.0.0",
      "model_name": "LayoutModel",
      "state": {}
     },
     "1ea81ce3204a4d4c865e413aa9de17b2": {
      "model_module": "@jupyter-widgets/base",
      "model_module_version": "1.0.0",
      "model_name": "LayoutModel",
      "state": {}
     },
     "1ed0243d19a140a795e7c835cce9e2ab": {
      "model_module": "@jupyter-widgets/controls",
      "model_module_version": "1.1.0",
      "model_name": "ToggleButtonsModel",
      "state": {
       "_options_labels": [
        "N (¹n)",
        "NDC (¹n)",
        "P (¹H)",
        "D (²H)"
       ],
       "button_style": "",
       "description": "Particle:",
       "icons": [],
       "index": 0,
       "layout": "IPY_MODEL_67649ac06c0d44b7ba8bc7ab44f13d98",
       "style": "IPY_MODEL_45c7f6aa82f24df694b77ec71789ab46",
       "tooltips": [
        "Neutron",
        "Back Target Neutron",
        "Proton",
        "Deuteron"
       ]
      }
     },
     "1f1eb4c094934fe49153eebb19d3e67a": {
      "model_module": "@jupyter-widgets/controls",
      "model_module_version": "1.1.0",
      "model_name": "CheckboxModel",
      "state": {
       "description": "30°",
       "disabled": false,
       "layout": "IPY_MODEL_f4b34bb605b642bc92cabd5815758446",
       "style": "IPY_MODEL_84e53c0a403b446f8596a153fde52f6a",
       "value": false
      }
     },
     "1f4ce312528a4c30b50ca96cd4811801": {
      "model_module": "@jupyter-widgets/controls",
      "model_module_version": "1.1.0",
      "model_name": "ToggleButtonsModel",
      "state": {
       "_options_labels": [
        "Al",
        "HDPE",
        "AlPE"
       ],
       "button_style": "",
       "description": "Material:",
       "icons": [],
       "index": 0,
       "layout": "IPY_MODEL_be7e7da3f74547e9b6d4c1ebe08afb4a",
       "style": "IPY_MODEL_7f4e7685ff92449696edc9899475e79a",
       "tooltips": [
        "Aluminum",
        "Polyethylene",
        "Combination of Al and HDPE"
       ]
      }
     },
     "1f7b1312a8a44dbaa6d3bae6912929db": {
      "model_module": "@jupyter-widgets/controls",
      "model_module_version": "1.1.0",
      "model_name": "DescriptionStyleModel",
      "state": {
       "description_width": ""
      }
     },
     "1f855d3c7c5042aab4a2fc134c58855e": {
      "model_module": "@jupyter-widgets/controls",
      "model_module_version": "1.1.0",
      "model_name": "LabelModel",
      "state": {
       "layout": "IPY_MODEL_87f9d71af0c142c7b5caf8e56b9b61ca",
       "style": "IPY_MODEL_42c81fe8612b454e8f3f3342eb8dd9b6",
       "value": "Select the detector angles to plot."
      }
     },
     "1fe86901ff6444339b517145bf3c3899": {
      "model_module": "@jupyter-widgets/controls",
      "model_module_version": "1.1.0",
      "model_name": "DescriptionStyleModel",
      "state": {
       "description_width": ""
      }
     },
     "1fec3a2bae25428490df10b6f9630f15": {
      "model_module": "@jupyter-widgets/controls",
      "model_module_version": "1.1.0",
      "model_name": "ToggleButtonsStyleModel",
      "state": {
       "button_width": "",
       "description_width": ""
      }
     },
     "1ff29871f05948588bf13aad8cfafb46": {
      "model_module": "@jupyter-widgets/controls",
      "model_module_version": "1.1.0",
      "model_name": "CheckboxModel",
      "state": {
       "description": "135°",
       "disabled": false,
       "layout": "IPY_MODEL_9068b5b316bf413bac4f0c0b2795de4c",
       "style": "IPY_MODEL_7fe93f0e92f445f2b9eb26c37bb33e12",
       "value": true
      }
     },
     "1ffc5d883a454771a14c0ab9f328fcf3": {
      "model_module": "@jupyter-widgets/base",
      "model_module_version": "1.0.0",
      "model_name": "LayoutModel",
      "state": {}
     },
     "200b72eb0f634c9cb9872c64c4e231f8": {
      "model_module": "@jupyter-widgets/base",
      "model_module_version": "1.0.0",
      "model_name": "LayoutModel",
      "state": {}
     },
     "2061e11c43264be5ac072294cb7e5fa3": {
      "model_module": "@jupyter-widgets/controls",
      "model_module_version": "1.1.0",
      "model_name": "ToggleButtonsStyleModel",
      "state": {
       "button_width": "",
       "description_width": ""
      }
     },
     "2067999da50a4acda922fbebaef4a1f0": {
      "model_module": "@jupyter-widgets/controls",
      "model_module_version": "1.1.0",
      "model_name": "CheckboxModel",
      "state": {
       "description": "135°",
       "disabled": false,
       "layout": "IPY_MODEL_8b54b65353c24895a98b93779b430b43",
       "style": "IPY_MODEL_849c532214cc497bb60d08a05f612cf5",
       "value": true
      }
     },
     "206e7eb772a54f929bdcf9f5a5e09536": {
      "model_module": "@jupyter-widgets/controls",
      "model_module_version": "1.1.0",
      "model_name": "LabelModel",
      "state": {
       "layout": "IPY_MODEL_55114e30eaef4a0baf0b2c8825f04423",
       "style": "IPY_MODEL_69ea7f91f62f4a098c14805203339114",
       "value": "Select how data sets for each detector should be spaced apart (if at all)."
      }
     },
     "2071846215ec4748bdf788719240d122": {
      "model_module": "@jupyter-widgets/controls",
      "model_module_version": "1.1.0",
      "model_name": "CheckboxModel",
      "state": {
       "description": "30°",
       "disabled": false,
       "layout": "IPY_MODEL_b1fc77d5024944e49d73df03a1d5033b",
       "style": "IPY_MODEL_63b8575a0be8460e9235b4700552459c",
       "value": true
      }
     },
     "2071960dfd52469f9263e30e6e9bf0ec": {
      "model_module": "@jupyter-widgets/controls",
      "model_module_version": "1.1.0",
      "model_name": "LabelModel",
      "state": {
       "layout": "IPY_MODEL_9c2341159be54ea0a13ff26b90f2c396",
       "style": "IPY_MODEL_669362fe01604699a1d455ddf43ff835",
       "value": "Select which secondary particle to plot spectra for."
      }
     },
     "207711b6611e4f40ac75df3879820dc6": {
      "model_module": "@jupyter-widgets/controls",
      "model_module_version": "1.1.0",
      "model_name": "ToggleButtonsModel",
      "state": {
       "_options_labels": [
        "N (¹n)",
        "NDC (¹n)",
        "P (¹H)",
        "D (²H)"
       ],
       "button_style": "",
       "description": "Type:",
       "icons": [],
       "index": 0,
       "layout": "IPY_MODEL_a91084f9d3494b6a940831af3dd58f88",
       "style": "IPY_MODEL_4cbffe1b274f49ce81322da62902dd9c",
       "tooltips": [
        "Neutron",
        "Back Target Neutron",
        "Proton",
        "Deuteron"
       ]
      }
     },
     "20aad4b157da4f91bcbe7e43af14ce8c": {
      "model_module": "@jupyter-widgets/base",
      "model_module_version": "1.0.0",
      "model_name": "LayoutModel",
      "state": {}
     },
     "20da3b71f3e3411983b211b99d20ec80": {
      "model_module": "@jupyter-widgets/base",
      "model_module_version": "1.0.0",
      "model_name": "LayoutModel",
      "state": {}
     },
     "20dc665dc20c4b0d804b2fd06aea5e1f": {
      "model_module": "@jupyter-widgets/controls",
      "model_module_version": "1.1.0",
      "model_name": "DescriptionStyleModel",
      "state": {
       "description_width": ""
      }
     },
     "215b0b190f52448c9781d9b9d17ba7cd": {
      "model_module": "@jupyter-widgets/controls",
      "model_module_version": "1.1.0",
      "model_name": "DescriptionStyleModel",
      "state": {
       "description_width": ""
      }
     },
     "21c98fa0b913448fa02f309f8618c074": {
      "model_module": "@jupyter-widgets/base",
      "model_module_version": "1.0.0",
      "model_name": "LayoutModel",
      "state": {}
     },
     "21f02ba46e614e60a7ef3d5ddcb58c4d": {
      "model_module": "@jupyter-widgets/base",
      "model_module_version": "1.0.0",
      "model_name": "LayoutModel",
      "state": {}
     },
     "2203b0e36dc448a6a364d02d9ddc7b10": {
      "model_module": "@jupyter-widgets/controls",
      "model_module_version": "1.1.0",
      "model_name": "DescriptionStyleModel",
      "state": {
       "description_width": ""
      }
     },
     "221bea030d1f40a2b9b84b5abf1b088f": {
      "model_module": "@jupyter-widgets/base",
      "model_module_version": "1.0.0",
      "model_name": "LayoutModel",
      "state": {}
     },
     "2225873d1fc84b7c8f4477065572bcf8": {
      "model_module": "@jupyter-widgets/controls",
      "model_module_version": "1.1.0",
      "model_name": "DescriptionStyleModel",
      "state": {
       "description_width": ""
      }
     },
     "229e8079ccf74a729fedb12eca55d771": {
      "model_module": "@jupyter-widgets/base",
      "model_module_version": "1.0.0",
      "model_name": "LayoutModel",
      "state": {}
     },
     "22aa899d612646b8a6ea754ddf783fa2": {
      "model_module": "@jupyter-widgets/controls",
      "model_module_version": "1.1.0",
      "model_name": "CheckboxModel",
      "state": {
       "description": "10°",
       "disabled": false,
       "layout": "IPY_MODEL_64e57371413542b59172c6948348cc08",
       "style": "IPY_MODEL_2ef1a56ae5bc45fba52f854ad3a9b76f",
       "value": true
      }
     },
     "22e34764293b49aa9522e3c37405d838": {
      "model_module": "@jupyter-widgets/controls",
      "model_module_version": "1.1.0",
      "model_name": "LabelModel",
      "state": {
       "layout": "IPY_MODEL_4e2a53e9f2794258a9dc672297ae031b",
       "style": "IPY_MODEL_a157ce7d887847e0a3fed77d2b0f750a",
       "value": "Select projectile ion energy."
      }
     },
     "22f5fcb0e7c14fb49e8408d1f2bb3cb6": {
      "model_module": "@jupyter-widgets/base",
      "model_module_version": "1.0.0",
      "model_name": "LayoutModel",
      "state": {}
     },
     "236665dcbcc84145aec131dc47a4833b": {
      "model_module": "@jupyter-widgets/controls",
      "model_module_version": "1.1.0",
      "model_name": "DescriptionStyleModel",
      "state": {
       "description_width": ""
      }
     },
     "237c8b13f52c471ebb970a663c67e096": {
      "model_module": "@jupyter-widgets/controls",
      "model_module_version": "1.1.0",
      "model_name": "DescriptionStyleModel",
      "state": {
       "description_width": ""
      }
     },
     "237ce633442a44248c4af8d83c850476": {
      "model_module": "@jupyter-widgets/controls",
      "model_module_version": "1.1.0",
      "model_name": "DescriptionStyleModel",
      "state": {
       "description_width": ""
      }
     },
     "2384053242f84433b39229fbf2e2de3c": {
      "model_module": "@jupyter-widgets/controls",
      "model_module_version": "1.1.0",
      "model_name": "LabelModel",
      "state": {
       "layout": "IPY_MODEL_c9096cce08064afe9a49ae9c2fa7066b",
       "style": "IPY_MODEL_6d7ee98cf6a1461ba5df20b026c4f1d4",
       "value": "Select projectile ion energy."
      }
     },
     "23907f89d8224d0d8f8b6dff967d5a79": {
      "model_module": "@jupyter-widgets/base",
      "model_module_version": "1.0.0",
      "model_name": "LayoutModel",
      "state": {}
     },
     "2390edd9b3c642169437648801af5220": {
      "model_module": "@jupyter-widgets/base",
      "model_module_version": "1.0.0",
      "model_name": "LayoutModel",
      "state": {}
     },
     "23acda008ed343d999adf0515f15bae6": {
      "model_module": "@jupyter-widgets/base",
      "model_module_version": "1.0.0",
      "model_name": "LayoutModel",
      "state": {}
     },
     "23ad429477be4fe7beb80dd502064ac7": {
      "model_module": "@jupyter-widgets/controls",
      "model_module_version": "1.1.0",
      "model_name": "DescriptionStyleModel",
      "state": {
       "description_width": ""
      }
     },
     "23c1b57dfe8f4761b1563240ada6a5b9": {
      "model_module": "@jupyter-widgets/controls",
      "model_module_version": "1.1.0",
      "model_name": "DescriptionStyleModel",
      "state": {
       "description_width": ""
      }
     },
     "23dd98cd3a2f4af9b3fe95992b838186": {
      "model_module": "@jupyter-widgets/controls",
      "model_module_version": "1.1.0",
      "model_name": "DescriptionStyleModel",
      "state": {
       "description_width": ""
      }
     },
     "240653d15a9b498d883a307d46eff2db": {
      "model_module": "@jupyter-widgets/controls",
      "model_module_version": "1.1.0",
      "model_name": "CheckboxModel",
      "state": {
       "description": "80°",
       "disabled": false,
       "layout": "IPY_MODEL_4f5a6e8389cc492184cdfa2a1335dec7",
       "style": "IPY_MODEL_3b0b8b295c814436aa521b533e2e56c8",
       "value": true
      }
     },
     "243c9ba949cf4de2bb60bac6e9decc8d": {
      "model_module": "@jupyter-widgets/controls",
      "model_module_version": "1.1.0",
      "model_name": "ToggleButtonsStyleModel",
      "state": {
       "button_width": "",
       "description_width": ""
      }
     },
     "24be490ab1f64504993213f8766981ce": {
      "model_module": "@jupyter-widgets/base",
      "model_module_version": "1.0.0",
      "model_name": "LayoutModel",
      "state": {}
     },
     "24c22eb0e4364a34aadda045254d1dd3": {
      "model_module": "@jupyter-widgets/controls",
      "model_module_version": "1.1.0",
      "model_name": "CheckboxModel",
      "state": {
       "description": "7.2°",
       "disabled": false,
       "layout": "IPY_MODEL_46b255cfc70a4c64812173744a44a5da",
       "style": "IPY_MODEL_3c181b41a2aa40508ceff12b39798aef",
       "value": true
      }
     },
     "2514ad8ffa01480e8bd6dd3eb68113a7": {
      "model_module": "@jupyter-widgets/controls",
      "model_module_version": "1.1.0",
      "model_name": "DescriptionStyleModel",
      "state": {
       "description_width": ""
      }
     },
     "251dbee8118e4833a50c38ca3bb755d4": {
      "model_module": "@jupyter-widgets/base",
      "model_module_version": "1.0.0",
      "model_name": "LayoutModel",
      "state": {}
     },
     "255bd2ea37c443cdbf7c13594324e3ea": {
      "model_module": "@jupyter-widgets/controls",
      "model_module_version": "1.1.0",
      "model_name": "DescriptionStyleModel",
      "state": {
       "description_width": ""
      }
     },
     "2592cff594e84589b5bf39c835496b59": {
      "model_module": "@jupyter-widgets/base",
      "model_module_version": "1.0.0",
      "model_name": "LayoutModel",
      "state": {}
     },
     "2593de92f9be4007b1f4d477fd4a25a2": {
      "model_module": "@jupyter-widgets/controls",
      "model_module_version": "1.1.0",
      "model_name": "ToggleButtonsStyleModel",
      "state": {
       "button_width": "",
       "description_width": ""
      }
     },
     "259821b2286b437e9e4fe75c6f3d9880": {
      "model_module": "@jupyter-widgets/controls",
      "model_module_version": "1.1.0",
      "model_name": "LabelModel",
      "state": {
       "layout": "IPY_MODEL_1a9341747b8a43e0a169c7d1d639c50f",
       "style": "IPY_MODEL_b190e7ee1cc6456b9d4bb6b79f1a5050",
       "value": "Select which secondary particle to plot spectra for."
      }
     },
     "25a2ab9d4a05493d9ee1a481e7e8e612": {
      "model_module": "@jupyter-widgets/controls",
      "model_module_version": "1.1.0",
      "model_name": "ToggleButtonsStyleModel",
      "state": {
       "button_width": "",
       "description_width": ""
      }
     },
     "25baf2c5edf945f4a344d597340c6131": {
      "model_module": "@jupyter-widgets/controls",
      "model_module_version": "1.1.0",
      "model_name": "LabelModel",
      "state": {
       "layout": "IPY_MODEL_a629492428ad48ee8eb25a68ad4c270b",
       "style": "IPY_MODEL_75704df72b5f482e83d8caa24c07eb4a",
       "value": "Select which secondary particle to plot spectra for."
      }
     },
     "25d96007033c46ebaa20fafb1a8eedb6": {
      "model_module": "@jupyter-widgets/base",
      "model_module_version": "1.0.0",
      "model_name": "LayoutModel",
      "state": {}
     },
     "25f899f8d0f04abf8212ea7933f21da4": {
      "model_module": "@jupyter-widgets/base",
      "model_module_version": "1.0.0",
      "model_name": "LayoutModel",
      "state": {}
     },
     "261a0838854d461eb78da06486178e37": {
      "model_module": "@jupyter-widgets/controls",
      "model_module_version": "1.1.0",
      "model_name": "ToggleButtonsModel",
      "state": {
       "_options_labels": [
        "P (¹H)",
        "D (²H)",
        "T (³H)",
        "S (³He)",
        "A (⁴He)"
       ],
       "button_style": "",
       "description": "Type:",
       "icons": [],
       "index": 0,
       "layout": "IPY_MODEL_3fd3b2faeb074380b2729da5cdd95564",
       "style": "IPY_MODEL_a70b0e978e594f1399789e761e60afbf",
       "tooltips": [
        "Proton",
        "Deuteron",
        "Triton",
        "Helium-3",
        "Helium-4"
       ]
      }
     },
     "261c847ff5c240b2931f0d21e32a7ac2": {
      "model_module": "@jupyter-widgets/controls",
      "model_module_version": "1.1.0",
      "model_name": "LabelModel",
      "state": {
       "layout": "IPY_MODEL_a04090affc934abca24a590fc6019c01",
       "style": "IPY_MODEL_1245431019ef4cbaa2e0848f14663203",
       "value": "Select upstream target mass thickness."
      }
     },
     "2676b29ceda14a4cafcf9ff791002a06": {
      "model_module": "@jupyter-widgets/controls",
      "model_module_version": "1.1.0",
      "model_name": "LabelModel",
      "state": {
       "layout": "IPY_MODEL_1411d8279de942bcac29d5e365385d3c",
       "style": "IPY_MODEL_0faaac1d69f34135b1b9e3cc6ffeb29c",
       "value": "Select the detector angles to plot."
      }
     },
     "268deff161c442f6baaa7d2a79d4c5a9": {
      "model_module": "@jupyter-widgets/base",
      "model_module_version": "1.0.0",
      "model_name": "LayoutModel",
      "state": {}
     },
     "269da9fb17a54ca783dafdd295da5430": {
      "model_module": "@jupyter-widgets/controls",
      "model_module_version": "1.1.0",
      "model_name": "DescriptionStyleModel",
      "state": {
       "description_width": ""
      }
     },
     "26c41cad8d4a41a7a7c9491a374f09c9": {
      "model_module": "@jupyter-widgets/controls",
      "model_module_version": "1.1.0",
      "model_name": "LabelModel",
      "state": {
       "layout": "IPY_MODEL_611f22c67c284b8a81ffc118bc58ad4b",
       "style": "IPY_MODEL_6e9bce0cd9c54094b088b7a7566773dd",
       "value": "Select projectile ion energy."
      }
     },
     "274735463f814b4bb41f95977294b805": {
      "model_module": "@jupyter-widgets/base",
      "model_module_version": "1.0.0",
      "model_name": "LayoutModel",
      "state": {}
     },
     "2791d37e0d2848a1a800234bdda11304": {
      "model_module": "@jupyter-widgets/base",
      "model_module_version": "1.0.0",
      "model_name": "LayoutModel",
      "state": {}
     },
     "27bf5f266f9f45508684476bec9b8a23": {
      "model_module": "@jupyter-widgets/controls",
      "model_module_version": "1.1.0",
      "model_name": "CheckboxModel",
      "state": {
       "description": "10°",
       "disabled": false,
       "layout": "IPY_MODEL_f812ebabef9146fbb976efd2dd979889",
       "style": "IPY_MODEL_35ebebb3f77f4229bcefca9d8c5b1045",
       "value": true
      }
     },
     "27d06d8380564f648b4eb15a37593a14": {
      "model_module": "@jupyter-widgets/controls",
      "model_module_version": "1.1.0",
      "model_name": "CheckboxModel",
      "state": {
       "description": "80°",
       "disabled": false,
       "layout": "IPY_MODEL_bf3f53a943e7415d8dcc29ce937d5d99",
       "style": "IPY_MODEL_4a159ef5829140938004cae24842987b",
       "value": true
      }
     },
     "27d5cb4b25674bd8b42472f81f0d63cb": {
      "model_module": "@jupyter-widgets/controls",
      "model_module_version": "1.1.0",
      "model_name": "CheckboxModel",
      "state": {
       "description": "10°",
       "disabled": false,
       "layout": "IPY_MODEL_0a82ab59695f43bab8f1746b3a2e4905",
       "style": "IPY_MODEL_ba8a10037e434f2aa71abde4f5d250dd",
       "value": true
      }
     },
     "27e3cf1e50b545d29cf16088973aa139": {
      "model_module": "@jupyter-widgets/controls",
      "model_module_version": "1.1.0",
      "model_name": "DescriptionStyleModel",
      "state": {
       "description_width": ""
      }
     },
     "28216aa714064d369f4eb48ecb4ef60f": {
      "model_module": "@jupyter-widgets/controls",
      "model_module_version": "1.1.0",
      "model_name": "DescriptionStyleModel",
      "state": {
       "description_width": ""
      }
     },
     "283922567ec24a658832eb328a06242b": {
      "model_module": "@jupyter-widgets/controls",
      "model_module_version": "1.1.0",
      "model_name": "CheckboxModel",
      "state": {
       "description": "Experiment",
       "disabled": false,
       "layout": "IPY_MODEL_ae7dcbfed4f64731b92fa302d76824a5",
       "style": "IPY_MODEL_634950df2f1743129effab1a202ebd6c",
       "value": true
      }
     },
     "2840e65aec3c47d3837a37a936e92cd1": {
      "model_module": "@jupyter-widgets/controls",
      "model_module_version": "1.1.0",
      "model_name": "DescriptionStyleModel",
      "state": {
       "description_width": ""
      }
     },
     "28915be44f144a8b8768044bbba38930": {
      "model_module": "@jupyter-widgets/controls",
      "model_module_version": "1.1.0",
      "model_name": "CheckboxModel",
      "state": {
       "description": "30°",
       "disabled": false,
       "layout": "IPY_MODEL_b4570addcf0d4ba69011271c073dbf3c",
       "style": "IPY_MODEL_ce1ca5fc584746ed8a4fe751652309bd",
       "value": true
      }
     },
     "2893d9b3ad6d43bf8b2cc018f9be7175": {
      "model_module": "@jupyter-widgets/controls",
      "model_module_version": "1.1.0",
      "model_name": "LabelModel",
      "state": {
       "layout": "IPY_MODEL_f2747acdaa6146c7bfbced92bc3f8313",
       "style": "IPY_MODEL_5d0203b4421942389bb57b1c40fb9970",
       "value": "Select upstream target mass thickness."
      }
     },
     "28bd2382bcf44b14bbe23a831490798c": {
      "model_module": "@jupyter-widgets/controls",
      "model_module_version": "1.1.0",
      "model_name": "CheckboxModel",
      "state": {
       "description": "10°",
       "disabled": false,
       "layout": "IPY_MODEL_fd601da03285408d9dab1b4e589015f8",
       "style": "IPY_MODEL_27e3cf1e50b545d29cf16088973aa139",
       "value": true
      }
     },
     "28c3fe0386cf482fae9099e6ae852596": {
      "model_module": "@jupyter-widgets/base",
      "model_module_version": "1.0.0",
      "model_name": "LayoutModel",
      "state": {}
     },
     "28c6e8a53b30499788d694073344f160": {
      "model_module": "@jupyter-widgets/controls",
      "model_module_version": "1.1.0",
      "model_name": "ToggleButtonsStyleModel",
      "state": {
       "button_width": "",
       "description_width": ""
      }
     },
     "28cb64bf993548d4ac314cacc750404a": {
      "model_module": "@jupyter-widgets/controls",
      "model_module_version": "1.1.0",
      "model_name": "DescriptionStyleModel",
      "state": {
       "description_width": ""
      }
     },
     "2946f28d1a3b4f0d82cce7206869c124": {
      "model_module": "@jupyter-widgets/controls",
      "model_module_version": "1.1.0",
      "model_name": "CheckboxModel",
      "state": {
       "description": "30°",
       "disabled": false,
       "layout": "IPY_MODEL_a1ba6864738b4cca8debf4d5215d5213",
       "style": "IPY_MODEL_1c450c8f804a47ec8b0823ee81fcc1a9",
       "value": true
      }
     },
     "2959c5f6f302430584bab3b78b19d816": {
      "model_module": "@jupyter-widgets/controls",
      "model_module_version": "1.1.0",
      "model_name": "CheckboxModel",
      "state": {
       "description": "28.2°",
       "disabled": false,
       "layout": "IPY_MODEL_32e719f97d234a248bcbaf5d96dfd4a6",
       "style": "IPY_MODEL_7b0520fc4f674c48beda1fd2174f737c",
       "value": true
      }
     },
     "295a0c1f17204f57beb0788ecce78f07": {
      "model_module": "@jupyter-widgets/controls",
      "model_module_version": "1.1.0",
      "model_name": "DescriptionStyleModel",
      "state": {
       "description_width": ""
      }
     },
     "298021c8e8b04b778ba3e3be8f36f9d6": {
      "model_module": "@jupyter-widgets/base",
      "model_module_version": "1.0.0",
      "model_name": "LayoutModel",
      "state": {}
     },
     "2a459902ad7c4a8298153c85b011898a": {
      "model_module": "@jupyter-widgets/controls",
      "model_module_version": "1.1.0",
      "model_name": "DescriptionStyleModel",
      "state": {
       "description_width": ""
      }
     },
     "2a4f94f6fc7342c99b7ed5068f1975d8": {
      "model_module": "@jupyter-widgets/controls",
      "model_module_version": "1.1.0",
      "model_name": "DescriptionStyleModel",
      "state": {
       "description_width": ""
      }
     },
     "2a6a5bce17a946f98b9b7c3a32c9d1cd": {
      "model_module": "@jupyter-widgets/base",
      "model_module_version": "1.0.0",
      "model_name": "LayoutModel",
      "state": {}
     },
     "2aa9e62ef0e34d62baf0e57cb97ecb73": {
      "model_module": "@jupyter-widgets/base",
      "model_module_version": "1.0.0",
      "model_name": "LayoutModel",
      "state": {}
     },
     "2aac0176a49544ad9d78d854909dc5a1": {
      "model_module": "@jupyter-widgets/controls",
      "model_module_version": "1.1.0",
      "model_name": "ToggleButtonsStyleModel",
      "state": {
       "button_width": "",
       "description_width": ""
      }
     },
     "2ae593c4383e45e9ae578cacbd91a07c": {
      "model_module": "@jupyter-widgets/base",
      "model_module_version": "1.0.0",
      "model_name": "LayoutModel",
      "state": {}
     },
     "2b911a2ee8294942a8efb25e06c96439": {
      "model_module": "@jupyter-widgets/controls",
      "model_module_version": "1.1.0",
      "model_name": "DescriptionStyleModel",
      "state": {
       "description_width": ""
      }
     },
     "2b9c12ef12d14a3f9eddbac713076099": {
      "model_module": "@jupyter-widgets/controls",
      "model_module_version": "1.1.0",
      "model_name": "CheckboxModel",
      "state": {
       "description": "135°",
       "disabled": false,
       "layout": "IPY_MODEL_fca467fbacda4366ac6d71ccd5b56cfc",
       "style": "IPY_MODEL_d47e2aa139ec4bc48fe1cd293fbfea06",
       "value": true
      }
     },
     "2ba975e5fd8f40309db408fb0721daff": {
      "model_module": "@jupyter-widgets/controls",
      "model_module_version": "1.1.0",
      "model_name": "CheckboxModel",
      "state": {
       "description": "30°",
       "disabled": false,
       "layout": "IPY_MODEL_ffc0f64b49c84d55873df730ed3f2593",
       "style": "IPY_MODEL_89466c02b68748f8a436e8f91ceaa1c8",
       "value": true
      }
     },
     "2bc9da5c0a8f480d89a14f33d0641517": {
      "model_module": "@jupyter-widgets/controls",
      "model_module_version": "1.1.0",
      "model_name": "CheckboxModel",
      "state": {
       "description": "PHITS simulated",
       "disabled": false,
       "layout": "IPY_MODEL_494dabc7ce2945f19239370be71cc656",
       "style": "IPY_MODEL_dc2fd02629da40079836a46a6d085d52",
       "value": true
      }
     },
     "2bfba8157b8447fca9e7126134d36d87": {
      "model_module": "@jupyter-widgets/base",
      "model_module_version": "1.0.0",
      "model_name": "LayoutModel",
      "state": {}
     },
     "2c1995101fa74608bb3c56edc2c8d1c6": {
      "model_module": "@jupyter-widgets/base",
      "model_module_version": "1.0.0",
      "model_name": "LayoutModel",
      "state": {}
     },
     "2c1a48858de5405496aade8f31332dc4": {
      "model_module": "@jupyter-widgets/controls",
      "model_module_version": "1.1.0",
      "model_name": "DescriptionStyleModel",
      "state": {
       "description_width": ""
      }
     },
     "2c23d7a990ae4a2684dd296d88e9d850": {
      "model_module": "@jupyter-widgets/controls",
      "model_module_version": "1.1.0",
      "model_name": "CheckboxModel",
      "state": {
       "description": "80°",
       "disabled": false,
       "layout": "IPY_MODEL_24be490ab1f64504993213f8766981ce",
       "style": "IPY_MODEL_ea8cf577676a4f5c815dc001591cca70",
       "value": true
      }
     },
     "2c283eac07974b8c9dc6bcd92671f261": {
      "model_module": "@jupyter-widgets/controls",
      "model_module_version": "1.1.0",
      "model_name": "DescriptionStyleModel",
      "state": {
       "description_width": ""
      }
     },
     "2c2d8136b99342bb82edb55ff49b1e88": {
      "model_module": "@jupyter-widgets/controls",
      "model_module_version": "1.1.0",
      "model_name": "CheckboxModel",
      "state": {
       "description": "45°",
       "disabled": false,
       "layout": "IPY_MODEL_605082e0f753458887d4cb323c5f3cab",
       "style": "IPY_MODEL_a6db707717084bd98e064729160813cb",
       "value": true
      }
     },
     "2c319db6eb8d471b971609779e6b519d": {
      "model_module": "@jupyter-widgets/controls",
      "model_module_version": "1.1.0",
      "model_name": "CheckboxModel",
      "state": {
       "description": "30°",
       "disabled": false,
       "layout": "IPY_MODEL_d6a7cc457e3742c183d9af3d1a0aacbd",
       "style": "IPY_MODEL_6902a3d0f5ed4573bc62d9ca3b441fe5",
       "value": true
      }
     },
     "2c4ef4f3e5e44b1fb9824dfee73d8afe": {
      "model_module": "@jupyter-widgets/controls",
      "model_module_version": "1.1.0",
      "model_name": "CheckboxModel",
      "state": {
       "description": "PHITS simulated",
       "disabled": false,
       "layout": "IPY_MODEL_785390cd756d49a19e9964c3010cb559",
       "style": "IPY_MODEL_e5735cc6219041ce86e8dd86b310dc02",
       "value": true
      }
     },
     "2c677bde966440d1ab1d799e4a999cc7": {
      "model_module": "@jupyter-widgets/base",
      "model_module_version": "1.0.0",
      "model_name": "LayoutModel",
      "state": {}
     },
     "2c74d1c741714f67aa3c29cd6db0295b": {
      "model_module": "@jupyter-widgets/base",
      "model_module_version": "1.0.0",
      "model_name": "LayoutModel",
      "state": {}
     },
     "2c7ef81276354c359d1e6d8d4d7f776f": {
      "model_module": "@jupyter-widgets/base",
      "model_module_version": "1.0.0",
      "model_name": "LayoutModel",
      "state": {}
     },
     "2ca819c4502f4d179b97705857a3cea9": {
      "model_module": "@jupyter-widgets/controls",
      "model_module_version": "1.1.0",
      "model_name": "DescriptionStyleModel",
      "state": {
       "description_width": ""
      }
     },
     "2cbce1b442a14338ac65ea260a0b4912": {
      "model_module": "@jupyter-widgets/controls",
      "model_module_version": "1.1.0",
      "model_name": "DescriptionStyleModel",
      "state": {
       "description_width": ""
      }
     },
     "2d24c806205140ef98e9efaaaec68b3d": {
      "model_module": "@jupyter-widgets/controls",
      "model_module_version": "1.1.0",
      "model_name": "CheckboxModel",
      "state": {
       "description": "60°",
       "disabled": false,
       "layout": "IPY_MODEL_b8344f383a404edcbad1b84fd6237079",
       "style": "IPY_MODEL_134dbfaf626f4f0188ccfb5e92dc8b4c",
       "value": true
      }
     },
     "2d4746af358c4294b09b4b45f64dc14c": {
      "model_module": "@jupyter-widgets/controls",
      "model_module_version": "1.1.0",
      "model_name": "CheckboxModel",
      "state": {
       "description": "135°",
       "disabled": false,
       "layout": "IPY_MODEL_407138ee5cd64b1f823f611486fac5ef",
       "style": "IPY_MODEL_b576ea33eaae4f5881e5e4345ac108c8",
       "value": true
      }
     },
     "2d7a0f4e9d9247759bfa556484a8b8e5": {
      "model_module": "@jupyter-widgets/controls",
      "model_module_version": "1.1.0",
      "model_name": "DescriptionStyleModel",
      "state": {
       "description_width": ""
      }
     },
     "2dc29aad853f45168fd248a8554269c5": {
      "model_module": "@jupyter-widgets/base",
      "model_module_version": "1.0.0",
      "model_name": "LayoutModel",
      "state": {}
     },
     "2df331ed0947481499b39951a8f811cd": {
      "model_module": "@jupyter-widgets/controls",
      "model_module_version": "1.1.0",
      "model_name": "ToggleButtonsStyleModel",
      "state": {
       "button_width": "",
       "description_width": ""
      }
     },
     "2e3a847b8cec4b5dbe367728c18d5a57": {
      "model_module": "@jupyter-widgets/controls",
      "model_module_version": "1.1.0",
      "model_name": "DescriptionStyleModel",
      "state": {
       "description_width": ""
      }
     },
     "2e3b0853fda640c6afe772d88c2b942d": {
      "model_module": "@jupyter-widgets/controls",
      "model_module_version": "1.1.0",
      "model_name": "LabelModel",
      "state": {
       "layout": "IPY_MODEL_b3986e02e21e4ee1a1966105d74846a0",
       "style": "IPY_MODEL_2d7a0f4e9d9247759bfa556484a8b8e5",
       "value": "Select which secondary particle to plot spectra for."
      }
     },
     "2e428f21ef224ed19a67939436536d65": {
      "model_module": "@jupyter-widgets/base",
      "model_module_version": "1.0.0",
      "model_name": "LayoutModel",
      "state": {}
     },
     "2e656e4db9bd4b2e92f145a36c270073": {
      "model_module": "@jupyter-widgets/controls",
      "model_module_version": "1.1.0",
      "model_name": "CheckboxModel",
      "state": {
       "description": "30°",
       "disabled": false,
       "layout": "IPY_MODEL_01ffdb0f8e284eb5bc5ea005cd6710e7",
       "style": "IPY_MODEL_95bf02f7406a4d3195351765c5517c43",
       "value": true
      }
     },
     "2e6eb0dd8f87479ab08dc9000d5723d2": {
      "model_module": "@jupyter-widgets/base",
      "model_module_version": "1.0.0",
      "model_name": "LayoutModel",
      "state": {}
     },
     "2e728ca3c2034b8086741be0d71e3946": {
      "model_module": "@jupyter-widgets/controls",
      "model_module_version": "1.1.0",
      "model_name": "DescriptionStyleModel",
      "state": {
       "description_width": ""
      }
     },
     "2e83bb0670b34e6faa903e7ec596b2c0": {
      "model_module": "@jupyter-widgets/controls",
      "model_module_version": "1.1.0",
      "model_name": "LabelModel",
      "state": {
       "layout": "IPY_MODEL_f71727a8872d46bfa0995c5545823cfc",
       "style": "IPY_MODEL_0746ca285bc24b84bbfb25149be57bd6",
       "value": "Select the detector angles to plot."
      }
     },
     "2ec3f5d8d41943d7aaab4f5b79048404": {
      "model_module": "@jupyter-widgets/controls",
      "model_module_version": "1.1.0",
      "model_name": "LabelModel",
      "state": {
       "layout": "IPY_MODEL_a3a4a3661a1245309cad93b6359eb7e0",
       "style": "IPY_MODEL_4259e31010e14417960adc84dabd8764",
       "value": "Select how data sets for each detector should be spaced apart (if at all)."
      }
     },
     "2ef0fbe0efa748768c719411257d997f": {
      "model_module": "@jupyter-widgets/controls",
      "model_module_version": "1.1.0",
      "model_name": "LabelModel",
      "state": {
       "layout": "IPY_MODEL_4ff00da7b2f240d1a374a3fc4e320df3",
       "style": "IPY_MODEL_ba69a78e6aeb4bbea77b34d2f431ded8",
       "value": "Select the detector angles to plot."
      }
     },
     "2ef1a56ae5bc45fba52f854ad3a9b76f": {
      "model_module": "@jupyter-widgets/controls",
      "model_module_version": "1.1.0",
      "model_name": "DescriptionStyleModel",
      "state": {
       "description_width": ""
      }
     },
     "2f00624ce4034144b2028ac5b987042f": {
      "model_module": "@jupyter-widgets/controls",
      "model_module_version": "1.1.0",
      "model_name": "CheckboxModel",
      "state": {
       "description": "45°",
       "disabled": false,
       "layout": "IPY_MODEL_e992d12a9729434d8f31fc94ade3e124",
       "style": "IPY_MODEL_884bb46f7a954ce38ebb5635c40a21d2",
       "value": true
      }
     },
     "2f0f1b0111db437d8dc6c27d468e6a66": {
      "model_module": "@jupyter-widgets/controls",
      "model_module_version": "1.1.0",
      "model_name": "DescriptionStyleModel",
      "state": {
       "description_width": ""
      }
     },
     "2f59f0148d4b4c318a233e7549c7a124": {
      "model_module": "@jupyter-widgets/controls",
      "model_module_version": "1.1.0",
      "model_name": "DescriptionStyleModel",
      "state": {
       "description_width": ""
      }
     },
     "2f9f375ed8694a78a0160c1848befb47": {
      "model_module": "@jupyter-widgets/base",
      "model_module_version": "1.0.0",
      "model_name": "LayoutModel",
      "state": {}
     },
     "2fcfc7521e804977b7d8840c05e78ec0": {
      "model_module": "@jupyter-widgets/controls",
      "model_module_version": "1.1.0",
      "model_name": "DescriptionStyleModel",
      "state": {
       "description_width": ""
      }
     },
     "2fdaee955b814f53adcb0097d9ca7d0a": {
      "model_module": "@jupyter-widgets/base",
      "model_module_version": "1.0.0",
      "model_name": "LayoutModel",
      "state": {}
     },
     "2fe070cfb385435db6261ac22e7b218f": {
      "model_module": "@jupyter-widgets/base",
      "model_module_version": "1.0.0",
      "model_name": "LayoutModel",
      "state": {}
     },
     "3011a48cf2e24233b89495b1c6d14e84": {
      "model_module": "@jupyter-widgets/controls",
      "model_module_version": "1.1.0",
      "model_name": "CheckboxModel",
      "state": {
       "description": "60°",
       "disabled": false,
       "layout": "IPY_MODEL_0b259ca278e647fdae7df89f47deff34",
       "style": "IPY_MODEL_10f183f605ce403daad19007e941f595",
       "value": true
      }
     },
     "3057daa3aeee4dd19e0ef7f89f0cf16c": {
      "model_module": "@jupyter-widgets/controls",
      "model_module_version": "1.1.0",
      "model_name": "DescriptionStyleModel",
      "state": {
       "description_width": ""
      }
     },
     "306d5473b29a48398ef0a64fa3a4e3b9": {
      "model_module": "@jupyter-widgets/controls",
      "model_module_version": "1.1.0",
      "model_name": "ToggleButtonsModel",
      "state": {
       "_options_labels": [
        "400 MeV",
        "800 MeV",
        "2500 MeV"
       ],
       "button_style": "",
       "description": "Energy:",
       "icons": [],
       "index": 0,
       "layout": "IPY_MODEL_c194486c042d403cbe2d0be71a136b56",
       "style": "IPY_MODEL_e366da6eff8946f28914cb82be8ba5eb",
       "tooltips": [
        "lowest energy",
        "middle energy",
        "highest energy"
       ]
      }
     },
     "30a95d8f1e9243a7b1ba9dabdd13c516": {
      "model_module": "@jupyter-widgets/controls",
      "model_module_version": "1.1.0",
      "model_name": "DescriptionStyleModel",
      "state": {
       "description_width": ""
      }
     },
     "30f4d12206a246b7a77d5dc6a690b65f": {
      "model_module": "@jupyter-widgets/controls",
      "model_module_version": "1.1.0",
      "model_name": "DescriptionStyleModel",
      "state": {
       "description_width": ""
      }
     },
     "31095c058b584486b014ec783168439c": {
      "model_module": "@jupyter-widgets/controls",
      "model_module_version": "1.1.0",
      "model_name": "CheckboxModel",
      "state": {
       "description": "10°",
       "disabled": false,
       "layout": "IPY_MODEL_2791d37e0d2848a1a800234bdda11304",
       "style": "IPY_MODEL_42b67d4ab06f47b4961cd3afdd00554c",
       "value": true
      }
     },
     "312d0650ec004f909b6f98ff9ccc158f": {
      "model_module": "@jupyter-widgets/base",
      "model_module_version": "1.0.0",
      "model_name": "LayoutModel",
      "state": {}
     },
     "3189369a0cac44e0a6e3b6b6d8657f93": {
      "model_module": "@jupyter-widgets/controls",
      "model_module_version": "1.1.0",
      "model_name": "ToggleButtonsStyleModel",
      "state": {
       "button_width": "",
       "description_width": ""
      }
     },
     "31903ee12cc046d4a5f3c48980d03de8": {
      "model_module": "@jupyter-widgets/base",
      "model_module_version": "1.0.0",
      "model_name": "LayoutModel",
      "state": {}
     },
     "31b5d3d06e6242c9b5a0fb11f5fd7319": {
      "model_module": "@jupyter-widgets/controls",
      "model_module_version": "1.1.0",
      "model_name": "CheckboxModel",
      "state": {
       "description": "60°",
       "disabled": false,
       "layout": "IPY_MODEL_e75e86304c0e43ab9315309c63aae2b6",
       "style": "IPY_MODEL_3e47058c1caa4142825ba25fd6d0dc58",
       "value": false
      }
     },
     "31bedefb041d45bc8089755ad4dee01e": {
      "model_module": "@jupyter-widgets/controls",
      "model_module_version": "1.1.0",
      "model_name": "DescriptionStyleModel",
      "state": {
       "description_width": ""
      }
     },
     "31e9545bb3694ca09a8d39eb049284a8": {
      "model_module": "@jupyter-widgets/base",
      "model_module_version": "1.0.0",
      "model_name": "LayoutModel",
      "state": {}
     },
     "31eccb51f3554686a99127acb7d976ab": {
      "model_module": "@jupyter-widgets/controls",
      "model_module_version": "1.1.0",
      "model_name": "DescriptionStyleModel",
      "state": {
       "description_width": ""
      }
     },
     "322ac2354e984c30b66e0b21793eded5": {
      "model_module": "@jupyter-widgets/controls",
      "model_module_version": "1.1.0",
      "model_name": "CheckboxModel",
      "state": {
       "description": "60°",
       "disabled": false,
       "layout": "IPY_MODEL_551f1768743d48d6b4d9eabce3889290",
       "style": "IPY_MODEL_4bfd016f6b254de38d2ec87c639a380d",
       "value": true
      }
     },
     "325e49be119544de8398173a30e3339c": {
      "model_module": "@jupyter-widgets/controls",
      "model_module_version": "1.1.0",
      "model_name": "DescriptionStyleModel",
      "state": {
       "description_width": ""
      }
     },
     "32ae16106a1c4496831fc9941be86476": {
      "model_module": "@jupyter-widgets/controls",
      "model_module_version": "1.1.0",
      "model_name": "DescriptionStyleModel",
      "state": {
       "description_width": ""
      }
     },
     "32e719f97d234a248bcbaf5d96dfd4a6": {
      "model_module": "@jupyter-widgets/base",
      "model_module_version": "1.0.0",
      "model_name": "LayoutModel",
      "state": {}
     },
     "33262a01067344d4b83158d52895aef4": {
      "model_module": "@jupyter-widgets/controls",
      "model_module_version": "1.1.0",
      "model_name": "CheckboxModel",
      "state": {
       "description": "28.2°",
       "disabled": false,
       "layout": "IPY_MODEL_71683c8b18754c3b99996c8c2f587ece",
       "style": "IPY_MODEL_f97258fbbb4c467ebb072327200c0105",
       "value": true
      }
     },
     "33472369a0234ea3a9dcf27c09cd7f7b": {
      "model_module": "@jupyter-widgets/base",
      "model_module_version": "1.0.0",
      "model_name": "LayoutModel",
      "state": {}
     },
     "3362abff56024a28bb3f806b1c8512b0": {
      "model_module": "@jupyter-widgets/base",
      "model_module_version": "1.0.0",
      "model_name": "LayoutModel",
      "state": {}
     },
     "3390f09b3a6d4015a170c63a418e3897": {
      "model_module": "@jupyter-widgets/base",
      "model_module_version": "1.0.0",
      "model_name": "LayoutModel",
      "state": {}
     },
     "3399a4c8e41742b19dc0a8b326200e48": {
      "model_module": "@jupyter-widgets/controls",
      "model_module_version": "1.1.0",
      "model_name": "DescriptionStyleModel",
      "state": {
       "description_width": ""
      }
     },
     "33c23a4720244974b92f5a5e7e3f3fd9": {
      "model_module": "@jupyter-widgets/controls",
      "model_module_version": "1.1.0",
      "model_name": "DescriptionStyleModel",
      "state": {
       "description_width": ""
      }
     },
     "3409f20a2b44478ca3f017d84b25150d": {
      "model_module": "@jupyter-widgets/controls",
      "model_module_version": "1.1.0",
      "model_name": "DescriptionStyleModel",
      "state": {
       "description_width": ""
      }
     },
     "340f34f609204242aa0bc073ad49ea85": {
      "model_module": "@jupyter-widgets/controls",
      "model_module_version": "1.1.0",
      "model_name": "CheckboxModel",
      "state": {
       "description": "32.7°",
       "disabled": false,
       "layout": "IPY_MODEL_20da3b71f3e3411983b211b99d20ec80",
       "style": "IPY_MODEL_f4ed453b5306419e94a21b49cba03d49",
       "value": true
      }
     },
     "3446711576864bc6be7fe4b295e27a95": {
      "model_module": "@jupyter-widgets/base",
      "model_module_version": "1.0.0",
      "model_name": "LayoutModel",
      "state": {}
     },
     "34c7f5a56df04a03a6dc535e5f75739a": {
      "model_module": "@jupyter-widgets/base",
      "model_module_version": "1.0.0",
      "model_name": "LayoutModel",
      "state": {}
     },
     "34ccd4af033749bbbecce75ec409970d": {
      "model_module": "@jupyter-widgets/controls",
      "model_module_version": "1.1.0",
      "model_name": "LabelModel",
      "state": {
       "layout": "IPY_MODEL_823ff30f4d3648aca3a0c04c4d588ac5",
       "style": "IPY_MODEL_6e5f793677974678bc6e7082c99effcc",
       "value": "Select the detector angles to plot."
      }
     },
     "34f5e5e0307f417ea79d6d97d9afd5f1": {
      "model_module": "@jupyter-widgets/base",
      "model_module_version": "1.0.0",
      "model_name": "LayoutModel",
      "state": {}
     },
     "35808e4c571c4f76a4628148a7a69c54": {
      "model_module": "@jupyter-widgets/controls",
      "model_module_version": "1.1.0",
      "model_name": "DescriptionStyleModel",
      "state": {
       "description_width": ""
      }
     },
     "358e4741551d4c4686ca6b750bcca1d4": {
      "model_module": "@jupyter-widgets/controls",
      "model_module_version": "1.1.0",
      "model_name": "DescriptionStyleModel",
      "state": {
       "description_width": ""
      }
     },
     "3593d7ffc1b94e93a5405f2cd90d0fa9": {
      "model_module": "@jupyter-widgets/controls",
      "model_module_version": "1.1.0",
      "model_name": "ToggleButtonsModel",
      "state": {
       "_options_labels": [
        "20 g/cm²",
        "40 g/cm²",
        "60 g/cm²"
       ],
       "button_style": "",
       "description": "Thickness:",
       "icons": [],
       "index": 0,
       "layout": "IPY_MODEL_a1c93c2d5f0a42e384fcdabc98b67ee2",
       "style": "IPY_MODEL_eefb103b46b840978229669dc9bbcdce",
       "tooltips": [
        "20 g/cm² Polyethylene",
        "40 g/cm² Polyethylene",
        "60 g/cm² Polyethylene"
       ]
      }
     },
     "35a028bfb2da4198a6a1346e8c14e8ab": {
      "model_module": "@jupyter-widgets/controls",
      "model_module_version": "1.1.0",
      "model_name": "CheckboxModel",
      "state": {
       "description": "45°",
       "disabled": false,
       "layout": "IPY_MODEL_98753889ae644f97a385da2841d81ec5",
       "style": "IPY_MODEL_b6ca782bee7b416ab05bbad8e0002595",
       "value": false
      }
     },
     "35c7769a9a5642218152dd0a873130f5": {
      "model_module": "@jupyter-widgets/base",
      "model_module_version": "1.0.0",
      "model_name": "LayoutModel",
      "state": {}
     },
     "35ced27b879c42d9b20e796e03c2f102": {
      "model_module": "@jupyter-widgets/controls",
      "model_module_version": "1.1.0",
      "model_name": "DescriptionStyleModel",
      "state": {
       "description_width": ""
      }
     },
     "35d60a1a4f4448bc854f51196b287f24": {
      "model_module": "@jupyter-widgets/controls",
      "model_module_version": "1.1.0",
      "model_name": "CheckboxModel",
      "state": {
       "description": "60°",
       "disabled": false,
       "layout": "IPY_MODEL_11df27aa5e3847d59b5cbdd1ed1e833d",
       "style": "IPY_MODEL_5c1891fc0f3e494bb2daac66c62f0605",
       "value": true
      }
     },
     "35ebebb3f77f4229bcefca9d8c5b1045": {
      "model_module": "@jupyter-widgets/controls",
      "model_module_version": "1.1.0",
      "model_name": "DescriptionStyleModel",
      "state": {
       "description_width": ""
      }
     },
     "35fa8266494c4442b543f10adf20caa1": {
      "model_module": "@jupyter-widgets/controls",
      "model_module_version": "1.1.0",
      "model_name": "CheckboxModel",
      "state": {
       "description": "30°",
       "disabled": false,
       "layout": "IPY_MODEL_b0850357b9f3483ebcb764038629e4b6",
       "style": "IPY_MODEL_ed728a04d4bc4e46bfe229bbe18d946c",
       "value": true
      }
     },
     "3619c3db11734ddeae8b2aa3f02f7023": {
      "model_module": "@jupyter-widgets/base",
      "model_module_version": "1.0.0",
      "model_name": "LayoutModel",
      "state": {}
     },
     "365cc349dabc4ae5a0219329152a8f57": {
      "model_module": "@jupyter-widgets/controls",
      "model_module_version": "1.1.0",
      "model_name": "ToggleButtonsStyleModel",
      "state": {
       "button_width": "",
       "description_width": ""
      }
     },
     "367b1a0957de43d1b458dacce96a2b0d": {
      "model_module": "@jupyter-widgets/controls",
      "model_module_version": "1.1.0",
      "model_name": "DescriptionStyleModel",
      "state": {
       "description_width": ""
      }
     },
     "36aaaf9c7c06486d942f2d4e58e395d1": {
      "model_module": "@jupyter-widgets/controls",
      "model_module_version": "1.1.0",
      "model_name": "ToggleButtonsModel",
      "state": {
       "_options_labels": [
        "N (¹n)",
        "NDC (¹n)",
        "P (¹H)",
        "D (²H)",
        "T (³H)",
        "S (³He)",
        "A (⁴He)"
       ],
       "button_style": "",
       "description": "Particle:",
       "icons": [],
       "index": 0,
       "layout": "IPY_MODEL_9a1f984c3c80443292067dab89b6fd20",
       "style": "IPY_MODEL_048c97d7f51846b8a8fb4df0561446da",
       "tooltips": [
        "Neutron",
        "Back Target Neutron",
        "Proton",
        "Deuteron",
        "Triton",
        "Helium-3",
        "Helium-4"
       ]
      }
     },
     "36edc3b7ec8a44099c8f8c0543d9f99a": {
      "model_module": "@jupyter-widgets/controls",
      "model_module_version": "1.1.0",
      "model_name": "DescriptionStyleModel",
      "state": {
       "description_width": ""
      }
     },
     "377f418dbd6a41b9b98c2d82f062e64e": {
      "model_module": "@jupyter-widgets/controls",
      "model_module_version": "1.1.0",
      "model_name": "ToggleButtonsStyleModel",
      "state": {
       "button_width": "",
       "description_width": ""
      }
     },
     "379905cd5a194accbe7b7a843105614d": {
      "model_module": "@jupyter-widgets/controls",
      "model_module_version": "1.1.0",
      "model_name": "DescriptionStyleModel",
      "state": {
       "description_width": ""
      }
     },
     "381a1152e0f54045a01f73deaa3a0891": {
      "model_module": "@jupyter-widgets/controls",
      "model_module_version": "1.1.0",
      "model_name": "DescriptionStyleModel",
      "state": {
       "description_width": ""
      }
     },
     "383081b3ad19498490196aa4c2e92f84": {
      "model_module": "@jupyter-widgets/base",
      "model_module_version": "1.0.0",
      "model_name": "LayoutModel",
      "state": {}
     },
     "384c2f9e6a9240a7aac3d6b7beeb3c2e": {
      "model_module": "@jupyter-widgets/base",
      "model_module_version": "1.0.0",
      "model_name": "LayoutModel",
      "state": {}
     },
     "38784f7386d84206aa346839bfd48dd1": {
      "model_module": "@jupyter-widgets/controls",
      "model_module_version": "1.1.0",
      "model_name": "CheckboxModel",
      "state": {
       "description": "MCNP simulated",
       "disabled": false,
       "layout": "IPY_MODEL_f41b887ee0d948018f442ae216d31f95",
       "style": "IPY_MODEL_92154e0fd2d046869b4d0e4406a04164",
       "value": true
      }
     },
     "38c4777f06d8457d84f1bb3212e9c5a4": {
      "model_module": "@jupyter-widgets/base",
      "model_module_version": "1.0.0",
      "model_name": "LayoutModel",
      "state": {}
     },
     "39282a4457f7401399ee1d29a15a961f": {
      "model_module": "@jupyter-widgets/controls",
      "model_module_version": "1.1.0",
      "model_name": "DescriptionStyleModel",
      "state": {
       "description_width": ""
      }
     },
     "395446e8e7c2410bb4bc4027eae2a0f3": {
      "model_module": "@jupyter-widgets/base",
      "model_module_version": "1.0.0",
      "model_name": "LayoutModel",
      "state": {}
     },
     "395f4ed1396f41599458d76bd4a9f8b9": {
      "model_module": "@jupyter-widgets/controls",
      "model_module_version": "1.1.0",
      "model_name": "DescriptionStyleModel",
      "state": {
       "description_width": ""
      }
     },
     "397f029dfdd045229aed31a970cb9de4": {
      "model_module": "@jupyter-widgets/controls",
      "model_module_version": "1.1.0",
      "model_name": "ToggleButtonsModel",
      "state": {
       "_options_labels": [
        "N (¹n)",
        "NDC (¹n)",
        "P (¹H)",
        "D (²H)",
        "T (³H)",
        "S (³He)",
        "A (⁴He)"
       ],
       "button_style": "",
       "description": "Type:",
       "icons": [],
       "index": 0,
       "layout": "IPY_MODEL_9872c102cabd49cdb5f48220b334548f",
       "style": "IPY_MODEL_fc5e76d7b0d54b7fb864f43147295e4d",
       "tooltips": [
        "Neutron",
        "Back Target Neutron",
        "Proton",
        "Deuteron",
        "Triton",
        "Helium-3",
        "Helium-4"
       ]
      }
     },
     "39b823192d424a1aab87bcddeee16b3d": {
      "model_module": "@jupyter-widgets/controls",
      "model_module_version": "1.1.0",
      "model_name": "DescriptionStyleModel",
      "state": {
       "description_width": ""
      }
     },
     "39db90205a6a4dc681303dcbcf010a95": {
      "model_module": "@jupyter-widgets/controls",
      "model_module_version": "1.1.0",
      "model_name": "LabelModel",
      "state": {
       "layout": "IPY_MODEL_666947855c7b4a45a47d2346e06c6163",
       "style": "IPY_MODEL_502f0671d23f460a8945d09d5b4bd79c",
       "value": "Select upstream target mass thickness."
      }
     },
     "3a75bad443c149f2a33f91a7d69e457b": {
      "model_module": "@jupyter-widgets/controls",
      "model_module_version": "1.1.0",
      "model_name": "CheckboxModel",
      "state": {
       "description": "10°",
       "disabled": false,
       "layout": "IPY_MODEL_c3f3fef894c94cb3a2fed42e5d4f1d51",
       "style": "IPY_MODEL_44c9f51553bf44a9a592856322fac6fb",
       "value": true
      }
     },
     "3ab053ea2b48422690ce68b194f7ddce": {
      "model_module": "@jupyter-widgets/base",
      "model_module_version": "1.0.0",
      "model_name": "LayoutModel",
      "state": {}
     },
     "3ab5122a8d864d1d9bbb389b35e1ab2d": {
      "model_module": "@jupyter-widgets/controls",
      "model_module_version": "1.1.0",
      "model_name": "DescriptionStyleModel",
      "state": {
       "description_width": ""
      }
     },
     "3ae7edf9282c4bb29262fc74ed7457c6": {
      "model_module": "@jupyter-widgets/controls",
      "model_module_version": "1.1.0",
      "model_name": "DescriptionStyleModel",
      "state": {
       "description_width": ""
      }
     },
     "3b0965cfea5647cda8732d9283755930": {
      "model_module": "@jupyter-widgets/base",
      "model_module_version": "1.0.0",
      "model_name": "LayoutModel",
      "state": {}
     },
     "3b0b8b295c814436aa521b533e2e56c8": {
      "model_module": "@jupyter-widgets/controls",
      "model_module_version": "1.1.0",
      "model_name": "DescriptionStyleModel",
      "state": {
       "description_width": ""
      }
     },
     "3b5db79cca144685915a4b267b98c18b": {
      "model_module": "@jupyter-widgets/controls",
      "model_module_version": "1.1.0",
      "model_name": "CheckboxModel",
      "state": {
       "description": "28.2°",
       "disabled": false,
       "layout": "IPY_MODEL_5a127a21a9244a47962c8a41005dc6b8",
       "style": "IPY_MODEL_7a41df7279be47f19ff549ed07da1077",
       "value": false
      }
     },
     "3ba19ebc170b40f2b661526b1e62419f": {
      "model_module": "@jupyter-widgets/controls",
      "model_module_version": "1.1.0",
      "model_name": "DescriptionStyleModel",
      "state": {
       "description_width": ""
      }
     },
     "3bd60948f1b348798290769e44107797": {
      "model_module": "@jupyter-widgets/controls",
      "model_module_version": "1.1.0",
      "model_name": "CheckboxModel",
      "state": {
       "description": "10°",
       "disabled": false,
       "layout": "IPY_MODEL_027fe3d5ff7043d781512933effbf2f7",
       "style": "IPY_MODEL_36edc3b7ec8a44099c8f8c0543d9f99a",
       "value": true
      }
     },
     "3c09a4f787f24fb882051c5bbbc36f4a": {
      "model_module": "@jupyter-widgets/base",
      "model_module_version": "1.0.0",
      "model_name": "LayoutModel",
      "state": {}
     },
     "3c0a2da75dd243fc8e9cabdd1f16b48c": {
      "model_module": "@jupyter-widgets/base",
      "model_module_version": "1.0.0",
      "model_name": "LayoutModel",
      "state": {}
     },
     "3c181b41a2aa40508ceff12b39798aef": {
      "model_module": "@jupyter-widgets/controls",
      "model_module_version": "1.1.0",
      "model_name": "DescriptionStyleModel",
      "state": {
       "description_width": ""
      }
     },
     "3c1b163dce6341669f6824f4534d5835": {
      "model_module": "@jupyter-widgets/base",
      "model_module_version": "1.0.0",
      "model_name": "LayoutModel",
      "state": {}
     },
     "3c1dc53a568949c483b00aa912e2840e": {
      "model_module": "@jupyter-widgets/base",
      "model_module_version": "1.0.0",
      "model_name": "LayoutModel",
      "state": {}
     },
     "3c1f3f08990e48fa8891fc336116f9c7": {
      "model_module": "@jupyter-widgets/controls",
      "model_module_version": "1.1.0",
      "model_name": "DescriptionStyleModel",
      "state": {
       "description_width": ""
      }
     },
     "3c2e68c03a494d0e964b3a51e06f82e8": {
      "model_module": "@jupyter-widgets/controls",
      "model_module_version": "1.1.0",
      "model_name": "DescriptionStyleModel",
      "state": {
       "description_width": ""
      }
     },
     "3c8c6a6665a64aec97d8773312827237": {
      "model_module": "@jupyter-widgets/base",
      "model_module_version": "1.0.0",
      "model_name": "LayoutModel",
      "state": {}
     },
     "3cb589dd6b2345fa9a81a2223dc97ce9": {
      "model_module": "@jupyter-widgets/base",
      "model_module_version": "1.0.0",
      "model_name": "LayoutModel",
      "state": {}
     },
     "3cd124f1e9e744878abd76ecc1d9d390": {
      "model_module": "@jupyter-widgets/base",
      "model_module_version": "1.0.0",
      "model_name": "LayoutModel",
      "state": {}
     },
     "3cf480469a1c4902b53f1b2f7ff72c9d": {
      "model_module": "@jupyter-widgets/base",
      "model_module_version": "1.0.0",
      "model_name": "LayoutModel",
      "state": {}
     },
     "3d06230ad2b44d069ab9f4e393b17e87": {
      "model_module": "@jupyter-widgets/controls",
      "model_module_version": "1.1.0",
      "model_name": "CheckboxModel",
      "state": {
       "description": "135°",
       "disabled": false,
       "layout": "IPY_MODEL_62005fa6af354d3abb3d96cdd98641ee",
       "style": "IPY_MODEL_b06735c61c254823b8261980ec3395a3",
       "value": true
      }
     },
     "3d0f3c678ae9413bb5af523f0949b7a3": {
      "model_module": "@jupyter-widgets/controls",
      "model_module_version": "1.1.0",
      "model_name": "DescriptionStyleModel",
      "state": {
       "description_width": ""
      }
     },
     "3d4543f1be52411fb91d2d09ef6d396a": {
      "model_module": "@jupyter-widgets/controls",
      "model_module_version": "1.1.0",
      "model_name": "ToggleButtonsModel",
      "state": {
       "_options_labels": [
        "P (¹H)",
        "D (²H)",
        "T (³H)",
        "A (⁴He)"
       ],
       "button_style": "",
       "description": "Type:",
       "icons": [],
       "index": 0,
       "layout": "IPY_MODEL_b159994f2523454c849777345beef154",
       "style": "IPY_MODEL_1b46d062e7544ec0a153eeae4e600990",
       "tooltips": [
        "Proton",
        "Deuteron",
        "Triton",
        "Helium-4"
       ]
      }
     },
     "3d8b79afcd5346e89411d87b293cd799": {
      "model_module": "@jupyter-widgets/controls",
      "model_module_version": "1.1.0",
      "model_name": "ButtonStyleModel",
      "state": {}
     },
     "3d95b66ff94d442283299aecf4512049": {
      "model_module": "@jupyter-widgets/controls",
      "model_module_version": "1.1.0",
      "model_name": "DescriptionStyleModel",
      "state": {
       "description_width": ""
      }
     },
     "3d97e80d1c424d3e854e2b2106a1b287": {
      "model_module": "@jupyter-widgets/base",
      "model_module_version": "1.0.0",
      "model_name": "LayoutModel",
      "state": {}
     },
     "3e26dbb23950401caf73c17a05277c77": {
      "model_module": "@jupyter-widgets/controls",
      "model_module_version": "1.1.0",
      "model_name": "DescriptionStyleModel",
      "state": {
       "description_width": ""
      }
     },
     "3e445967598a49b49aafcad0214a1c29": {
      "model_module": "@jupyter-widgets/controls",
      "model_module_version": "1.1.0",
      "model_name": "CheckboxModel",
      "state": {
       "description": "60°",
       "disabled": false,
       "layout": "IPY_MODEL_c1b4698aaec643bf83f637a29587f2b2",
       "style": "IPY_MODEL_038cd47bafb04d39a36cd5ab084c585d",
       "value": true
      }
     },
     "3e47058c1caa4142825ba25fd6d0dc58": {
      "model_module": "@jupyter-widgets/controls",
      "model_module_version": "1.1.0",
      "model_name": "DescriptionStyleModel",
      "state": {
       "description_width": ""
      }
     },
     "3e6868e05b4d42438e495a1ad59c565b": {
      "model_module": "@jupyter-widgets/controls",
      "model_module_version": "1.1.0",
      "model_name": "DescriptionStyleModel",
      "state": {
       "description_width": ""
      }
     },
     "3e6d3a7685ca4313a9d12b60f362146d": {
      "model_module": "@jupyter-widgets/controls",
      "model_module_version": "1.1.0",
      "model_name": "CheckboxModel",
      "state": {
       "description": "80°",
       "disabled": false,
       "layout": "IPY_MODEL_31e9545bb3694ca09a8d39eb049284a8",
       "style": "IPY_MODEL_4252cd15596c400f98a374d31439c20c",
       "value": false
      }
     },
     "3ed8a03b12234f1f96c21be5fc89dbbf": {
      "model_module": "@jupyter-widgets/base",
      "model_module_version": "1.0.0",
      "model_name": "LayoutModel",
      "state": {}
     },
     "3f3126e11c2e4b25ab2b7ec236bfd29a": {
      "model_module": "@jupyter-widgets/controls",
      "model_module_version": "1.1.0",
      "model_name": "CheckboxModel",
      "state": {
       "description": "135°",
       "disabled": false,
       "layout": "IPY_MODEL_9e70dabc9cec4089a4b8308037cdecb1",
       "style": "IPY_MODEL_5d9f1e4f52be41468c9737671db6eeb7",
       "value": true
      }
     },
     "3f65a85a160a4441a7874fdb881d8141": {
      "model_module": "@jupyter-widgets/base",
      "model_module_version": "1.0.0",
      "model_name": "LayoutModel",
      "state": {}
     },
     "3f9b30d802344f01a03d47bc911046d3": {
      "model_module": "@jupyter-widgets/controls",
      "model_module_version": "1.1.0",
      "model_name": "DescriptionStyleModel",
      "state": {
       "description_width": ""
      }
     },
     "3fa835cdaf12418f909ab21e9778b253": {
      "model_module": "@jupyter-widgets/base",
      "model_module_version": "1.0.0",
      "model_name": "LayoutModel",
      "state": {}
     },
     "3fd3b2faeb074380b2729da5cdd95564": {
      "model_module": "@jupyter-widgets/base",
      "model_module_version": "1.0.0",
      "model_name": "LayoutModel",
      "state": {}
     },
     "3fe9779ece614d6c962a1ee84983c997": {
      "model_module": "@jupyter-widgets/controls",
      "model_module_version": "1.1.0",
      "model_name": "CheckboxModel",
      "state": {
       "description": "135°",
       "disabled": false,
       "layout": "IPY_MODEL_b1e44077f2bb4e8c83ec53c33e3658c0",
       "style": "IPY_MODEL_6c5ed0a01f1f418aba1e82fb20332402",
       "value": true
      }
     },
     "4000278a9d364b9f8b0aa3f29b94c1be": {
      "model_module": "@jupyter-widgets/controls",
      "model_module_version": "1.1.0",
      "model_name": "ToggleButtonsStyleModel",
      "state": {
       "button_width": "",
       "description_width": ""
      }
     },
     "403956e3427d41e39e4ca6ce37a021f3": {
      "model_module": "@jupyter-widgets/controls",
      "model_module_version": "1.1.0",
      "model_name": "ToggleButtonsStyleModel",
      "state": {
       "button_width": "",
       "description_width": ""
      }
     },
     "405608c1d3cb4a39bb86ffc579e68bcf": {
      "model_module": "@jupyter-widgets/controls",
      "model_module_version": "1.1.0",
      "model_name": "ToggleButtonsModel",
      "state": {
       "_options_labels": [
        "20 g/cm²",
        "60 g/cm²"
       ],
       "button_style": "",
       "description": "Thickness:",
       "icons": [],
       "index": 0,
       "layout": "IPY_MODEL_00ad944b06944d3ab809f24d2c5ca45d",
       "style": "IPY_MODEL_1a5612b401944defb18e84f5e71fc199",
       "tooltips": [
        "10 g/cm² Al upstream + 10 g/cm² HDPE downstream",
        "10 g/cm² Al upstream + 50 g/cm² HDPE downstream"
       ]
      }
     },
     "407138ee5cd64b1f823f611486fac5ef": {
      "model_module": "@jupyter-widgets/base",
      "model_module_version": "1.0.0",
      "model_name": "LayoutModel",
      "state": {}
     },
     "409f8d96f1b84958a16c4d20848f7289": {
      "model_module": "@jupyter-widgets/base",
      "model_module_version": "1.0.0",
      "model_name": "LayoutModel",
      "state": {}
     },
     "40ed2e091b2b4081b4b6623db8dcc3c8": {
      "model_module": "@jupyter-widgets/controls",
      "model_module_version": "1.1.0",
      "model_name": "CheckboxModel",
      "state": {
       "description": "30°",
       "disabled": false,
       "layout": "IPY_MODEL_3c1dc53a568949c483b00aa912e2840e",
       "style": "IPY_MODEL_a05914b55e5d40649e03350e6eb3630a",
       "value": true
      }
     },
     "412ccd07feee49cd84638f59c245fbbd": {
      "model_module": "@jupyter-widgets/controls",
      "model_module_version": "1.1.0",
      "model_name": "LabelModel",
      "state": {
       "layout": "IPY_MODEL_9d7a1428bf78413ab9bb86941080f268",
       "style": "IPY_MODEL_abba099c8d2346e3b5455ba8b4be4d26",
       "value": "Select projectile ion energy."
      }
     },
     "41466c3bcded4d6f827a87637d762f9d": {
      "model_module": "@jupyter-widgets/controls",
      "model_module_version": "1.1.0",
      "model_name": "ToggleButtonsModel",
      "state": {
       "_options_labels": [
        "N (¹n)",
        "NDC (¹n)",
        "P (¹H)",
        "D (²H)",
        "T (³H)",
        "S (³He)",
        "A (⁴He)"
       ],
       "button_style": "",
       "description": "Type:",
       "icons": [],
       "index": 0,
       "layout": "IPY_MODEL_770ceff503154f0a865b91c4c5f39af8",
       "style": "IPY_MODEL_a2de60ea094a4b74a1566c0c53e204dc",
       "tooltips": [
        "Neutron",
        "Back Target Neutron",
        "Proton",
        "Deuteron",
        "Triton",
        "Helium-3",
        "Helium-4"
       ]
      }
     },
     "415c20f1bd384f6e9750930c8c6d5586": {
      "model_module": "@jupyter-widgets/controls",
      "model_module_version": "1.1.0",
      "model_name": "LabelModel",
      "state": {
       "layout": "IPY_MODEL_81425f7945044f9dacb6d4144985be36",
       "style": "IPY_MODEL_20dc665dc20c4b0d804b2fd06aea5e1f",
       "value": "Select which secondary particle to plot spectra for."
      }
     },
     "41a0197ea3864f2f96cd56564c88d629": {
      "model_module": "@jupyter-widgets/controls",
      "model_module_version": "1.1.0",
      "model_name": "CheckboxModel",
      "state": {
       "description": "80°",
       "disabled": false,
       "layout": "IPY_MODEL_cdbb0ba078c340cf92d6e7d7f2d48a90",
       "style": "IPY_MODEL_5032c0a28bb84678ba8f7c98434b2fb8",
       "value": true
      }
     },
     "41c781fe96f6436fa3362dfde8270771": {
      "model_module": "@jupyter-widgets/controls",
      "model_module_version": "1.1.0",
      "model_name": "CheckboxModel",
      "state": {
       "description": "135°",
       "disabled": false,
       "layout": "IPY_MODEL_5fc3f122bf5a4e9f81f5da4f559639cc",
       "style": "IPY_MODEL_aeeface96ece4888a98b7db93c45d416",
       "value": false
      }
     },
     "421425277dc24c669526e22b1bd57aa2": {
      "model_module": "@jupyter-widgets/controls",
      "model_module_version": "1.1.0",
      "model_name": "ToggleButtonsStyleModel",
      "state": {
       "button_width": "",
       "description_width": ""
      }
     },
     "422dba91792c4e14a40f86c2993d3b8d": {
      "model_module": "@jupyter-widgets/controls",
      "model_module_version": "1.1.0",
      "model_name": "LabelModel",
      "state": {
       "layout": "IPY_MODEL_cca342e79c6b4f2abd356205fe68475c",
       "style": "IPY_MODEL_0e990f10fa3a4299b2d8194a6469a2da",
       "value": "Select the detector angles to plot."
      }
     },
     "4252cd15596c400f98a374d31439c20c": {
      "model_module": "@jupyter-widgets/controls",
      "model_module_version": "1.1.0",
      "model_name": "DescriptionStyleModel",
      "state": {
       "description_width": ""
      }
     },
     "4259e31010e14417960adc84dabd8764": {
      "model_module": "@jupyter-widgets/controls",
      "model_module_version": "1.1.0",
      "model_name": "DescriptionStyleModel",
      "state": {
       "description_width": ""
      }
     },
     "428942ba674d46a2bf6cdd61a85e65eb": {
      "model_module": "@jupyter-widgets/base",
      "model_module_version": "1.0.0",
      "model_name": "LayoutModel",
      "state": {}
     },
     "42a55227a224471a814309854d725036": {
      "model_module": "@jupyter-widgets/controls",
      "model_module_version": "1.1.0",
      "model_name": "ToggleButtonsModel",
      "state": {
       "_options_labels": [
        "None",
        "Spaced by 10²"
       ],
       "button_style": "",
       "description": "Spacing:",
       "icons": [],
       "index": 0,
       "layout": "IPY_MODEL_a17e18225617407bad9ea54d14d3ff8f",
       "style": "IPY_MODEL_2593de92f9be4007b1f4d477fd4a25a2",
       "tooltips": [
        "All values are presented as is.",
        "Plots for different detectors are multiplied by powers of 10² for easier viewing."
       ]
      }
     },
     "42ac3994113648e7b1511b9da9417c54": {
      "model_module": "@jupyter-widgets/controls",
      "model_module_version": "1.1.0",
      "model_name": "DescriptionStyleModel",
      "state": {
       "description_width": ""
      }
     },
     "42b67d4ab06f47b4961cd3afdd00554c": {
      "model_module": "@jupyter-widgets/controls",
      "model_module_version": "1.1.0",
      "model_name": "DescriptionStyleModel",
      "state": {
       "description_width": ""
      }
     },
     "42c81fe8612b454e8f3f3342eb8dd9b6": {
      "model_module": "@jupyter-widgets/controls",
      "model_module_version": "1.1.0",
      "model_name": "DescriptionStyleModel",
      "state": {
       "description_width": ""
      }
     },
     "42da148a2a3e4f1f9716cd92540ea132": {
      "model_module": "@jupyter-widgets/controls",
      "model_module_version": "1.1.0",
      "model_name": "ToggleButtonsStyleModel",
      "state": {
       "button_width": "",
       "description_width": ""
      }
     },
     "4309eca1d42d41d0a0be80ee3ddcc7cf": {
      "model_module": "@jupyter-widgets/base",
      "model_module_version": "1.0.0",
      "model_name": "LayoutModel",
      "state": {}
     },
     "431cb5160efb42c1be6d872d56c3b795": {
      "model_module": "@jupyter-widgets/controls",
      "model_module_version": "1.1.0",
      "model_name": "DescriptionStyleModel",
      "state": {
       "description_width": ""
      }
     },
     "434eda9a3fdd4adc9d47d36d17c44992": {
      "model_module": "@jupyter-widgets/controls",
      "model_module_version": "1.1.0",
      "model_name": "DescriptionStyleModel",
      "state": {
       "description_width": ""
      }
     },
     "43912211b5184688b8ce478f1efbc6ef": {
      "model_module": "@jupyter-widgets/controls",
      "model_module_version": "1.1.0",
      "model_name": "DescriptionStyleModel",
      "state": {
       "description_width": ""
      }
     },
     "43db9ac0878c4c78b0c406c66ddf8b30": {
      "model_module": "@jupyter-widgets/controls",
      "model_module_version": "1.1.0",
      "model_name": "CheckboxModel",
      "state": {
       "description": "45°",
       "disabled": false,
       "layout": "IPY_MODEL_cf71b31f4cc440f89857fc5385661b21",
       "style": "IPY_MODEL_c364e5d45e4041ecb1b0e2902e992113",
       "value": true
      }
     },
     "442ac209cf4f4253a7d278fb37682d26": {
      "model_module": "@jupyter-widgets/controls",
      "model_module_version": "1.1.0",
      "model_name": "DescriptionStyleModel",
      "state": {
       "description_width": ""
      }
     },
     "4476cc8007dc41c292862aa4975e03ca": {
      "model_module": "@jupyter-widgets/controls",
      "model_module_version": "1.1.0",
      "model_name": "LabelModel",
      "state": {
       "layout": "IPY_MODEL_d7301efcfaf240e7a25f464811b3aaee",
       "style": "IPY_MODEL_e7c50db298be473eac5d8bfb179b664c",
       "value": "Select projectile ion species and energy."
      }
     },
     "447f53e19b2f4ddf9d2a3f12f6e5636f": {
      "model_module": "@jupyter-widgets/base",
      "model_module_version": "1.0.0",
      "model_name": "LayoutModel",
      "state": {}
     },
     "44c9f51553bf44a9a592856322fac6fb": {
      "model_module": "@jupyter-widgets/controls",
      "model_module_version": "1.1.0",
      "model_name": "DescriptionStyleModel",
      "state": {
       "description_width": ""
      }
     },
     "44d3c41f87914e6faf2379147d847721": {
      "model_module": "@jupyter-widgets/base",
      "model_module_version": "1.0.0",
      "model_name": "LayoutModel",
      "state": {}
     },
     "44e15962fb0a4f7c90805cc6a532bafd": {
      "model_module": "@jupyter-widgets/controls",
      "model_module_version": "1.1.0",
      "model_name": "CheckboxModel",
      "state": {
       "description": "80°",
       "disabled": false,
       "layout": "IPY_MODEL_f5265654bf1c43de820654cb0b360cae",
       "style": "IPY_MODEL_9b930e4743cd49ad892e2565cb83d894",
       "value": false
      }
     },
     "44e313e4526743ceb8af6da255f65ad1": {
      "model_module": "@jupyter-widgets/controls",
      "model_module_version": "1.1.0",
      "model_name": "DescriptionStyleModel",
      "state": {
       "description_width": ""
      }
     },
     "4511b1edad03417384805e5759312aa5": {
      "model_module": "@jupyter-widgets/controls",
      "model_module_version": "1.1.0",
      "model_name": "LabelModel",
      "state": {
       "layout": "IPY_MODEL_a430f5e1f8104030adc87152f743628c",
       "style": "IPY_MODEL_a0f8ff67cce34c4a927a05fb1ee2c88f",
       "value": "Select the detector angles to plot."
      }
     },
     "4517d2ec7e194ea2bbef18bb24682c51": {
      "model_module": "@jupyter-widgets/controls",
      "model_module_version": "1.1.0",
      "model_name": "CheckboxModel",
      "state": {
       "description": "80°",
       "disabled": false,
       "layout": "IPY_MODEL_bfd6c883ab654524b99c3f030206e901",
       "style": "IPY_MODEL_840cc699269c453caf5255b94c01977e",
       "value": true
      }
     },
     "4524981b64cd4317b83daa649d2fcda4": {
      "model_module": "@jupyter-widgets/controls",
      "model_module_version": "1.1.0",
      "model_name": "DescriptionStyleModel",
      "state": {
       "description_width": ""
      }
     },
     "453f31976f1745da8fe67203caf87d15": {
      "model_module": "@jupyter-widgets/controls",
      "model_module_version": "1.1.0",
      "model_name": "DescriptionStyleModel",
      "state": {
       "description_width": ""
      }
     },
     "458d0ff4e9c24a4fb84bc59a942eb7be": {
      "model_module": "@jupyter-widgets/controls",
      "model_module_version": "1.1.0",
      "model_name": "DescriptionStyleModel",
      "state": {
       "description_width": ""
      }
     },
     "45b9d236dbbf4356aafdb480f24a11d5": {
      "model_module": "@jupyter-widgets/controls",
      "model_module_version": "1.1.0",
      "model_name": "DescriptionStyleModel",
      "state": {
       "description_width": ""
      }
     },
     "45c7f6aa82f24df694b77ec71789ab46": {
      "model_module": "@jupyter-widgets/controls",
      "model_module_version": "1.1.0",
      "model_name": "ToggleButtonsStyleModel",
      "state": {
       "button_width": "",
       "description_width": ""
      }
     },
     "460c05ff88a1487bbc9076500df65cf9": {
      "model_module": "@jupyter-widgets/base",
      "model_module_version": "1.0.0",
      "model_name": "LayoutModel",
      "state": {}
     },
     "46158989dffc448fbbd4cbe5f5e4dd4f": {
      "model_module": "@jupyter-widgets/base",
      "model_module_version": "1.0.0",
      "model_name": "LayoutModel",
      "state": {}
     },
     "4624e853dfd54f939381d2e27047bb61": {
      "model_module": "@jupyter-widgets/controls",
      "model_module_version": "1.1.0",
      "model_name": "DescriptionStyleModel",
      "state": {
       "description_width": ""
      }
     },
     "4626e326d1fc43d4b1129ad66a98aade": {
      "model_module": "@jupyter-widgets/controls",
      "model_module_version": "1.1.0",
      "model_name": "CheckboxModel",
      "state": {
       "description": "45°",
       "disabled": false,
       "layout": "IPY_MODEL_84966235c9f94f55bd3807f3ac243f7c",
       "style": "IPY_MODEL_a8ff9a8265864ce6b8522a45b3a04d55",
       "value": true
      }
     },
     "462a79a9036144b8b3fe19cdc55eee8c": {
      "model_module": "@jupyter-widgets/controls",
      "model_module_version": "1.1.0",
      "model_name": "DescriptionStyleModel",
      "state": {
       "description_width": ""
      }
     },
     "4631bef8f06b44778e229ff134e96632": {
      "model_module": "@jupyter-widgets/controls",
      "model_module_version": "1.1.0",
      "model_name": "DescriptionStyleModel",
      "state": {
       "description_width": ""
      }
     },
     "46b255cfc70a4c64812173744a44a5da": {
      "model_module": "@jupyter-widgets/base",
      "model_module_version": "1.0.0",
      "model_name": "LayoutModel",
      "state": {}
     },
     "46da5a87136a4c1aab5938de6e45b620": {
      "model_module": "@jupyter-widgets/controls",
      "model_module_version": "1.1.0",
      "model_name": "DescriptionStyleModel",
      "state": {
       "description_width": ""
      }
     },
     "47059e5beca54edaad373a3aae00fc54": {
      "model_module": "@jupyter-widgets/controls",
      "model_module_version": "1.1.0",
      "model_name": "CheckboxModel",
      "state": {
       "description": "135°",
       "disabled": false,
       "layout": "IPY_MODEL_ba722835f7ba445792a8f5734717ca5e",
       "style": "IPY_MODEL_98237bf22d114ff39d165b4678e54734",
       "value": true
      }
     },
     "4723e6fd33cf4b678be4eff35656ddd8": {
      "model_module": "@jupyter-widgets/controls",
      "model_module_version": "1.1.0",
      "model_name": "CheckboxModel",
      "state": {
       "description": "12.7°",
       "disabled": false,
       "layout": "IPY_MODEL_d10acb0e71b24bb2b589371ee184085a",
       "style": "IPY_MODEL_c6e914b0c98940cfb5bdd881a7c06bf3",
       "value": true
      }
     },
     "4742d20d74b74d16b7c7a665f6dccd02": {
      "model_module": "@jupyter-widgets/controls",
      "model_module_version": "1.1.0",
      "model_name": "CheckboxModel",
      "state": {
       "description": "80°",
       "disabled": false,
       "layout": "IPY_MODEL_3c1b163dce6341669f6824f4534d5835",
       "style": "IPY_MODEL_b88e9620565a40ab941bc49f29829681",
       "value": true
      }
     },
     "47696c0e2de54cffb03295fdca3ba4f9": {
      "model_module": "@jupyter-widgets/controls",
      "model_module_version": "1.1.0",
      "model_name": "ButtonStyleModel",
      "state": {}
     },
     "47949500a1db4319892288bb8a0eaecd": {
      "model_module": "@jupyter-widgets/controls",
      "model_module_version": "1.1.0",
      "model_name": "LabelModel",
      "state": {
       "layout": "IPY_MODEL_1bfd2f44b7c2442090c992df698cee4c",
       "style": "IPY_MODEL_e79bd93ad5be4112858e8589b9072286",
       "value": "Select the detector angles to plot."
      }
     },
     "47bb9e4681e444679e939c70b022b30b": {
      "model_module": "@jupyter-widgets/controls",
      "model_module_version": "1.1.0",
      "model_name": "ButtonStyleModel",
      "state": {}
     },
     "48361456091047d39283a4c138e3abce": {
      "model_module": "@jupyter-widgets/controls",
      "model_module_version": "1.1.0",
      "model_name": "LabelModel",
      "state": {
       "layout": "IPY_MODEL_0017f825ac48419da4b51260e1acf358",
       "style": "IPY_MODEL_9b80b536f8134456afcfab7a234face8",
       "value": "Select projectile ion energy."
      }
     },
     "486a85212fc74b3c976559e6f202904e": {
      "model_module": "@jupyter-widgets/controls",
      "model_module_version": "1.1.0",
      "model_name": "DescriptionStyleModel",
      "state": {
       "description_width": ""
      }
     },
     "4873b52e14fb4e01a2efc9b6ec9f4561": {
      "model_module": "@jupyter-widgets/controls",
      "model_module_version": "1.1.0",
      "model_name": "ToggleButtonsStyleModel",
      "state": {
       "button_width": "",
       "description_width": ""
      }
     },
     "48a4c96a827e49d3beae6e2d1e8dace5": {
      "model_module": "@jupyter-widgets/controls",
      "model_module_version": "1.1.0",
      "model_name": "CheckboxModel",
      "state": {
       "description": "80°",
       "disabled": false,
       "layout": "IPY_MODEL_181d532fcf664ac59ef38448d3ac215c",
       "style": "IPY_MODEL_1b1c3c1a190840779c5277f754611eed",
       "value": true
      }
     },
     "48d3fdf0172048b78092b2e4fba35cc1": {
      "model_module": "@jupyter-widgets/base",
      "model_module_version": "1.0.0",
      "model_name": "LayoutModel",
      "state": {}
     },
     "48d6a29de3fe4b21a4933651013ca17c": {
      "model_module": "@jupyter-widgets/base",
      "model_module_version": "1.0.0",
      "model_name": "LayoutModel",
      "state": {}
     },
     "48dd3491bb6543ef97f3184f4dd04dc1": {
      "model_module": "@jupyter-widgets/base",
      "model_module_version": "1.0.0",
      "model_name": "LayoutModel",
      "state": {}
     },
     "494dabc7ce2945f19239370be71cc656": {
      "model_module": "@jupyter-widgets/base",
      "model_module_version": "1.0.0",
      "model_name": "LayoutModel",
      "state": {}
     },
     "496afe6a7255467882497c62a9934238": {
      "model_module": "@jupyter-widgets/controls",
      "model_module_version": "1.1.0",
      "model_name": "LabelModel",
      "state": {
       "layout": "IPY_MODEL_104d58e9449e48749b05fefce343f075",
       "style": "IPY_MODEL_5b022fe216604a93ac7675403a1dfe4f",
       "value": "Select which secondary particle to plot spectra for."
      }
     },
     "4983d2055aa540b09bf1671d230359fd": {
      "model_module": "@jupyter-widgets/base",
      "model_module_version": "1.0.0",
      "model_name": "LayoutModel",
      "state": {}
     },
     "49e9137e50f44813b72a45d69a659e96": {
      "model_module": "@jupyter-widgets/controls",
      "model_module_version": "1.1.0",
      "model_name": "CheckboxModel",
      "state": {
       "description": "60°",
       "disabled": false,
       "layout": "IPY_MODEL_6e5bfcd185424475abd072f9ff0da8ef",
       "style": "IPY_MODEL_07d75c2623a14acaac5b43e08e71b559",
       "value": false
      }
     },
     "4a159ef5829140938004cae24842987b": {
      "model_module": "@jupyter-widgets/controls",
      "model_module_version": "1.1.0",
      "model_name": "DescriptionStyleModel",
      "state": {
       "description_width": ""
      }
     },
     "4a48969b477c4bafabcfc6a9e4de6868": {
      "model_module": "@jupyter-widgets/controls",
      "model_module_version": "1.1.0",
      "model_name": "CheckboxModel",
      "state": {
       "description": "60°",
       "disabled": false,
       "layout": "IPY_MODEL_1d393d3627de4b8b9c225452fc52406f",
       "style": "IPY_MODEL_23ad429477be4fe7beb80dd502064ac7",
       "value": true
      }
     },
     "4aad6287ce5545179622eeec21873b28": {
      "model_module": "@jupyter-widgets/controls",
      "model_module_version": "1.1.0",
      "model_name": "CheckboxModel",
      "state": {
       "description": "80°",
       "disabled": false,
       "layout": "IPY_MODEL_dcac55fa47134e5a80e306325f646db6",
       "style": "IPY_MODEL_2c283eac07974b8c9dc6bcd92671f261",
       "value": true
      }
     },
     "4ad68fd1d95745479f05deef48a13dfe": {
      "model_module": "@jupyter-widgets/controls",
      "model_module_version": "1.1.0",
      "model_name": "CheckboxModel",
      "state": {
       "description": "80°",
       "disabled": false,
       "layout": "IPY_MODEL_268deff161c442f6baaa7d2a79d4c5a9",
       "style": "IPY_MODEL_3399a4c8e41742b19dc0a8b326200e48",
       "value": true
      }
     },
     "4aeafb61077d42808cef7e4da9b5abeb": {
      "model_module": "@jupyter-widgets/controls",
      "model_module_version": "1.1.0",
      "model_name": "CheckboxModel",
      "state": {
       "description": "28.2°",
       "disabled": false,
       "layout": "IPY_MODEL_0ba15f02a3e241cfb5554239e37e8a39",
       "style": "IPY_MODEL_3ae7edf9282c4bb29262fc74ed7457c6",
       "value": true
      }
     },
     "4b2dacfe18dc47e1a9d89b9d4d0d17ff": {
      "model_module": "@jupyter-widgets/base",
      "model_module_version": "1.0.0",
      "model_name": "LayoutModel",
      "state": {}
     },
     "4b313ade035346c08238c3d82576da2f": {
      "model_module": "@jupyter-widgets/base",
      "model_module_version": "1.0.0",
      "model_name": "LayoutModel",
      "state": {}
     },
     "4b395f57c6674e77b411277989eacd52": {
      "model_module": "@jupyter-widgets/controls",
      "model_module_version": "1.1.0",
      "model_name": "DescriptionStyleModel",
      "state": {
       "description_width": ""
      }
     },
     "4b3e0d7cc3a34cd19bab3b2ed36231f6": {
      "model_module": "@jupyter-widgets/base",
      "model_module_version": "1.0.0",
      "model_name": "LayoutModel",
      "state": {}
     },
     "4b6fa27e982d4d39a045f12e95015ba9": {
      "model_module": "@jupyter-widgets/base",
      "model_module_version": "1.0.0",
      "model_name": "LayoutModel",
      "state": {}
     },
     "4bbd72c1fa0b40e69f7b7a8bbda3f824": {
      "model_module": "@jupyter-widgets/base",
      "model_module_version": "1.0.0",
      "model_name": "LayoutModel",
      "state": {}
     },
     "4bd4fb3548f34dbbab78ecd8e9853177": {
      "model_module": "@jupyter-widgets/base",
      "model_module_version": "1.0.0",
      "model_name": "LayoutModel",
      "state": {}
     },
     "4be18702b7374d2bb6514893bc088c12": {
      "model_module": "@jupyter-widgets/controls",
      "model_module_version": "1.1.0",
      "model_name": "CheckboxModel",
      "state": {
       "description": "10°",
       "disabled": false,
       "layout": "IPY_MODEL_c3cab31f4d4f4a858cd9408d120aca09",
       "style": "IPY_MODEL_6e95f3508fc4499f871042d4040bd640",
       "value": true
      }
     },
     "4bfd016f6b254de38d2ec87c639a380d": {
      "model_module": "@jupyter-widgets/controls",
      "model_module_version": "1.1.0",
      "model_name": "DescriptionStyleModel",
      "state": {
       "description_width": ""
      }
     },
     "4c2d056166914a319f1aa0a32c67856d": {
      "model_module": "@jupyter-widgets/base",
      "model_module_version": "1.0.0",
      "model_name": "LayoutModel",
      "state": {}
     },
     "4c4d18aa051748ab9c29e91c88c13ed2": {
      "model_module": "@jupyter-widgets/controls",
      "model_module_version": "1.1.0",
      "model_name": "CheckboxModel",
      "state": {
       "description": "135°",
       "disabled": false,
       "layout": "IPY_MODEL_5ad7cb92db9f426599a612e6cdbeb1ae",
       "style": "IPY_MODEL_3c2e68c03a494d0e964b3a51e06f82e8",
       "value": true
      }
     },
     "4cbffe1b274f49ce81322da62902dd9c": {
      "model_module": "@jupyter-widgets/controls",
      "model_module_version": "1.1.0",
      "model_name": "ToggleButtonsStyleModel",
      "state": {
       "button_width": "",
       "description_width": ""
      }
     },
     "4cc39a6a644b45c2ae23f45f0791d40f": {
      "model_module": "@jupyter-widgets/controls",
      "model_module_version": "1.1.0",
      "model_name": "DescriptionStyleModel",
      "state": {
       "description_width": ""
      }
     },
     "4ce6a61031ce4b2ebb66154499226a6b": {
      "model_module": "@jupyter-widgets/controls",
      "model_module_version": "1.1.0",
      "model_name": "CheckboxModel",
      "state": {
       "description": "10°",
       "disabled": false,
       "layout": "IPY_MODEL_7db1c715c27c426f9a9b3a5820d79b0c",
       "style": "IPY_MODEL_f49081b81392490a9d44ed5eda297dfb",
       "value": true
      }
     },
     "4d36206d20a544589047cb8ec209f141": {
      "model_module": "@jupyter-widgets/controls",
      "model_module_version": "1.1.0",
      "model_name": "ToggleButtonsModel",
      "state": {
       "_options_labels": [
        "N (¹n)",
        "NDC (¹n)",
        "P (¹H)",
        "D (²H)",
        "T (³H)",
        "S (³He)",
        "A (⁴He)"
       ],
       "button_style": "",
       "description": "Type:",
       "icons": [],
       "index": 0,
       "layout": "IPY_MODEL_4309eca1d42d41d0a0be80ee3ddcc7cf",
       "style": "IPY_MODEL_012702128d55420bb4f3a67906054542",
       "tooltips": [
        "Neutron",
        "Back Target Neutron",
        "Proton",
        "Deuteron",
        "Triton",
        "Helium-3",
        "Helium-4"
       ]
      }
     },
     "4d4fcad406be4ae3ad2925c4cfe5d079": {
      "model_module": "@jupyter-widgets/base",
      "model_module_version": "1.0.0",
      "model_name": "LayoutModel",
      "state": {}
     },
     "4d5a6bf6a7c64ae28eec32fa0a0c12f3": {
      "model_module": "@jupyter-widgets/controls",
      "model_module_version": "1.1.0",
      "model_name": "CheckboxModel",
      "state": {
       "description": "80°",
       "disabled": false,
       "layout": "IPY_MODEL_7a606f3c1ab14cb9839909e63914dd28",
       "style": "IPY_MODEL_9bc2ba7a19f74af4ae4a126910a7c81b",
       "value": true
      }
     },
     "4dc60796dc4d4b2fb291300a78b5e453": {
      "model_module": "@jupyter-widgets/controls",
      "model_module_version": "1.1.0",
      "model_name": "DescriptionStyleModel",
      "state": {
       "description_width": ""
      }
     },
     "4de496bb8bbb4886a778a02e718a549f": {
      "model_module": "@jupyter-widgets/controls",
      "model_module_version": "1.1.0",
      "model_name": "ToggleButtonsStyleModel",
      "state": {
       "button_width": "",
       "description_width": ""
      }
     },
     "4deedfd0f766471687a33b4eabf2c502": {
      "model_module": "@jupyter-widgets/controls",
      "model_module_version": "1.1.0",
      "model_name": "CheckboxModel",
      "state": {
       "description": "60°",
       "disabled": false,
       "layout": "IPY_MODEL_e13fe1343d144c94a41936009565334f",
       "style": "IPY_MODEL_f1f935c3adf24e1bb45e6f19d25d81c5",
       "value": true
      }
     },
     "4df1a3837fc04729974df5c9012b3dde": {
      "model_module": "@jupyter-widgets/controls",
      "model_module_version": "1.1.0",
      "model_name": "DescriptionStyleModel",
      "state": {
       "description_width": ""
      }
     },
     "4e0a5c89d71144109d42b533d4f7926c": {
      "model_module": "@jupyter-widgets/controls",
      "model_module_version": "1.1.0",
      "model_name": "LabelModel",
      "state": {
       "layout": "IPY_MODEL_75647d063fd343279bf2691272c87b29",
       "style": "IPY_MODEL_9615104881154fcfa004fddcec99c116",
       "value": "Select which secondary particle to plot spectra for."
      }
     },
     "4e11908df70c4c1baa0a0a0701c3b483": {
      "model_module": "@jupyter-widgets/controls",
      "model_module_version": "1.1.0",
      "model_name": "CheckboxModel",
      "state": {
       "description": "135°",
       "disabled": false,
       "layout": "IPY_MODEL_648e2abce8bd44749de5e0704c4e0f8c",
       "style": "IPY_MODEL_8560a6f02b604d1bb2516e19618938a6",
       "value": false
      }
     },
     "4e2a53e9f2794258a9dc672297ae031b": {
      "model_module": "@jupyter-widgets/base",
      "model_module_version": "1.0.0",
      "model_name": "LayoutModel",
      "state": {}
     },
     "4e692a9a30684f1e9cf9f9eab12388e7": {
      "model_module": "@jupyter-widgets/controls",
      "model_module_version": "1.1.0",
      "model_name": "DescriptionStyleModel",
      "state": {
       "description_width": ""
      }
     },
     "4e95b30bf0064f74a6df13c94478640f": {
      "model_module": "@jupyter-widgets/controls",
      "model_module_version": "1.1.0",
      "model_name": "LabelModel",
      "state": {
       "layout": "IPY_MODEL_48d3fdf0172048b78092b2e4fba35cc1",
       "style": "IPY_MODEL_7459268c60e14cee93a95a83bb9c62cd",
       "value": "Select the detector angles to plot."
      }
     },
     "4ea59979a0084e069d4cfe7c617b86d8": {
      "model_module": "@jupyter-widgets/controls",
      "model_module_version": "1.1.0",
      "model_name": "DescriptionStyleModel",
      "state": {
       "description_width": ""
      }
     },
     "4ed288858c314b359ad89bbd11086fa4": {
      "model_module": "@jupyter-widgets/controls",
      "model_module_version": "1.1.0",
      "model_name": "LabelModel",
      "state": {
       "layout": "IPY_MODEL_25f899f8d0f04abf8212ea7933f21da4",
       "style": "IPY_MODEL_0fd4e4d9a1e24438beae0580eb21cd0a",
       "value": "Select which secondary particle to plot spectra for."
      }
     },
     "4ef0084a078247899fe9c9e4946364ae": {
      "model_module": "@jupyter-widgets/base",
      "model_module_version": "1.0.0",
      "model_name": "LayoutModel",
      "state": {}
     },
     "4ef169f780f5492d945394689c66c0f3": {
      "model_module": "@jupyter-widgets/controls",
      "model_module_version": "1.1.0",
      "model_name": "ToggleButtonsStyleModel",
      "state": {
       "button_width": "",
       "description_width": ""
      }
     },
     "4ef62c84f3b949ca9cc3d00b7cabcba9": {
      "model_module": "@jupyter-widgets/controls",
      "model_module_version": "1.1.0",
      "model_name": "CheckboxModel",
      "state": {
       "description": "30°",
       "disabled": false,
       "layout": "IPY_MODEL_1e89315c30e2428fa595d6b42ebd4592",
       "style": "IPY_MODEL_1b3dff2e885b48e789134f537ebc787a",
       "value": true
      }
     },
     "4f3f9f56808c4b14a26239ba5483cb60": {
      "model_module": "@jupyter-widgets/controls",
      "model_module_version": "1.1.0",
      "model_name": "ToggleButtonsModel",
      "state": {
       "_options_labels": [
        "400 MeV/n",
        "800 MeV/n",
        "1500 MeV/n"
       ],
       "button_style": "",
       "description": "Energy:",
       "icons": [],
       "index": 0,
       "layout": "IPY_MODEL_c427e3c1ea6549109d108f8a2ff7ce3d",
       "style": "IPY_MODEL_865a726d61fa47a29ff1bf6ab3cbb3c4",
       "tooltips": [
        "lowest energy",
        "middle energy",
        "highest energy"
       ]
      }
     },
     "4f5a6e8389cc492184cdfa2a1335dec7": {
      "model_module": "@jupyter-widgets/base",
      "model_module_version": "1.0.0",
      "model_name": "LayoutModel",
      "state": {}
     },
     "4fa6bd4d322749fe891b1e8b7edd436a": {
      "model_module": "@jupyter-widgets/controls",
      "model_module_version": "1.1.0",
      "model_name": "DescriptionStyleModel",
      "state": {
       "description_width": ""
      }
     },
     "4ff00da7b2f240d1a374a3fc4e320df3": {
      "model_module": "@jupyter-widgets/base",
      "model_module_version": "1.0.0",
      "model_name": "LayoutModel",
      "state": {}
     },
     "4ff53ed86afa4374ab630e0d485944b5": {
      "model_module": "@jupyter-widgets/controls",
      "model_module_version": "1.1.0",
      "model_name": "CheckboxModel",
      "state": {
       "description": "45°",
       "disabled": false,
       "layout": "IPY_MODEL_b65c01657bd649c8b8b1c5021cec090e",
       "style": "IPY_MODEL_fe1d1e90130247ac8121c825e79cb174",
       "value": true
      }
     },
     "501c96fa4327478bb850662111108f9e": {
      "model_module": "@jupyter-widgets/controls",
      "model_module_version": "1.1.0",
      "model_name": "CheckboxModel",
      "state": {
       "description": "60°",
       "disabled": false,
       "layout": "IPY_MODEL_7f6a97e5fbe24a3c9cbbb57009b519b5",
       "style": "IPY_MODEL_53b203c5bcf74a0689b75dca70294cd6",
       "value": false
      }
     },
     "502f0671d23f460a8945d09d5b4bd79c": {
      "model_module": "@jupyter-widgets/controls",
      "model_module_version": "1.1.0",
      "model_name": "DescriptionStyleModel",
      "state": {
       "description_width": ""
      }
     },
     "5032c0a28bb84678ba8f7c98434b2fb8": {
      "model_module": "@jupyter-widgets/controls",
      "model_module_version": "1.1.0",
      "model_name": "DescriptionStyleModel",
      "state": {
       "description_width": ""
      }
     },
     "5055ec73c4224306ade810760718b4c2": {
      "model_module": "@jupyter-widgets/controls",
      "model_module_version": "1.1.0",
      "model_name": "ToggleButtonsModel",
      "state": {
       "_options_labels": [
        "N (¹n)",
        "NDC (¹n)",
        "P (¹H)",
        "D (²H)",
        "T (³H)",
        "S (³He)",
        "A (⁴He)"
       ],
       "button_style": "",
       "description": "Type:",
       "icons": [],
       "index": 0,
       "layout": "IPY_MODEL_bdf78436e9c142c9a60aa393d33ca884",
       "style": "IPY_MODEL_12cf0e3f5beb4e5db305b20b8628fea2",
       "tooltips": [
        "Neutron",
        "Back Target Neutron",
        "Proton",
        "Deuteron",
        "Triton",
        "Helium-3",
        "Helium-4"
       ]
      }
     },
     "505d38a767e546989370b7597d6730a5": {
      "model_module": "@jupyter-widgets/controls",
      "model_module_version": "1.1.0",
      "model_name": "CheckboxModel",
      "state": {
       "description": "60°",
       "disabled": false,
       "layout": "IPY_MODEL_48dd3491bb6543ef97f3184f4dd04dc1",
       "style": "IPY_MODEL_095b4ce3a3364cbaa4c0dbd459814f9a",
       "value": true
      }
     },
     "50bb39ba82dd4e0f928548cbc1e56055": {
      "model_module": "@jupyter-widgets/controls",
      "model_module_version": "1.1.0",
      "model_name": "DescriptionStyleModel",
      "state": {
       "description_width": ""
      }
     },
     "5101c32fba2647e7b23b2c007b6a958d": {
      "model_module": "@jupyter-widgets/base",
      "model_module_version": "1.0.0",
      "model_name": "LayoutModel",
      "state": {}
     },
     "518cb1c97022473f8651c05ae7db2953": {
      "model_module": "@jupyter-widgets/controls",
      "model_module_version": "1.1.0",
      "model_name": "CheckboxModel",
      "state": {
       "description": "30°",
       "disabled": false,
       "layout": "IPY_MODEL_820dfd5d872b4d25b9c5ff1f806a7c09",
       "style": "IPY_MODEL_69ec8e82f79545b8b4db029164b7f4b6",
       "value": true
      }
     },
     "522fa2925391448985ebc11eba9e8583": {
      "model_module": "@jupyter-widgets/controls",
      "model_module_version": "1.1.0",
      "model_name": "CheckboxModel",
      "state": {
       "description": "60°",
       "disabled": false,
       "layout": "IPY_MODEL_4c2d056166914a319f1aa0a32c67856d",
       "style": "IPY_MODEL_3409f20a2b44478ca3f017d84b25150d",
       "value": true
      }
     },
     "525f48a576274f9ba23dc59a0dfa4897": {
      "model_module": "@jupyter-widgets/controls",
      "model_module_version": "1.1.0",
      "model_name": "CheckboxModel",
      "state": {
       "description": "60°",
       "disabled": false,
       "layout": "IPY_MODEL_3c8c6a6665a64aec97d8773312827237",
       "style": "IPY_MODEL_c341e551dd3f44e6b6220a52550cbe89",
       "value": true
      }
     },
     "52a96ac245a449098464e256ec1c8a46": {
      "model_module": "@jupyter-widgets/controls",
      "model_module_version": "1.1.0",
      "model_name": "CheckboxModel",
      "state": {
       "description": "10°",
       "disabled": false,
       "layout": "IPY_MODEL_6d7e8177703e4fc78b5724bb7c5f39e9",
       "style": "IPY_MODEL_c62d708d273e40c981235311559699b9",
       "value": true
      }
     },
     "52c16dd828a84e3c93385fd475420794": {
      "model_module": "@jupyter-widgets/base",
      "model_module_version": "1.0.0",
      "model_name": "LayoutModel",
      "state": {}
     },
     "52f2a682870d495c8df9b66819365ea9": {
      "model_module": "@jupyter-widgets/controls",
      "model_module_version": "1.1.0",
      "model_name": "CheckboxModel",
      "state": {
       "description": "80°",
       "disabled": false,
       "layout": "IPY_MODEL_71058c791b4b4cf791c34492ca167eab",
       "style": "IPY_MODEL_b3f675f793e84eb8af82213e3f6ecee1",
       "value": true
      }
     },
     "52f70f15ffa049e38c6a8b99a6efe1e2": {
      "model_module": "@jupyter-widgets/controls",
      "model_module_version": "1.1.0",
      "model_name": "CheckboxModel",
      "state": {
       "description": "10°",
       "disabled": false,
       "layout": "IPY_MODEL_c3ecc9526c494ff2a70d7aeab2d6a81a",
       "style": "IPY_MODEL_72e45cb336a54312a1aeef5f4c881553",
       "value": true
      }
     },
     "5334baa65f5a442abe5e6394834ac8d0": {
      "model_module": "@jupyter-widgets/controls",
      "model_module_version": "1.1.0",
      "model_name": "DescriptionStyleModel",
      "state": {
       "description_width": ""
      }
     },
     "53519e7ebbf249e681459daa23be4e3f": {
      "model_module": "@jupyter-widgets/base",
      "model_module_version": "1.0.0",
      "model_name": "LayoutModel",
      "state": {}
     },
     "53a07c9c5a044530a6200c5974dc52ca": {
      "model_module": "@jupyter-widgets/controls",
      "model_module_version": "1.1.0",
      "model_name": "ToggleButtonsModel",
      "state": {
       "_options_labels": [
        "N (¹n)",
        "NDC (¹n)",
        "P (¹H)",
        "D (²H)"
       ],
       "button_style": "",
       "description": "Type:",
       "icons": [],
       "index": 0,
       "layout": "IPY_MODEL_229e8079ccf74a729fedb12eca55d771",
       "style": "IPY_MODEL_2061e11c43264be5ac072294cb7e5fa3",
       "tooltips": [
        "Neutron",
        "Back Target Neutron",
        "Proton",
        "Deuteron"
       ]
      }
     },
     "53b203c5bcf74a0689b75dca70294cd6": {
      "model_module": "@jupyter-widgets/controls",
      "model_module_version": "1.1.0",
      "model_name": "DescriptionStyleModel",
      "state": {
       "description_width": ""
      }
     },
     "53f0713094b941d09069608eb0b7e26c": {
      "model_module": "@jupyter-widgets/base",
      "model_module_version": "1.0.0",
      "model_name": "LayoutModel",
      "state": {}
     },
     "54056f40661c4f7b81a0a27fb1dd94fd": {
      "model_module": "@jupyter-widgets/base",
      "model_module_version": "1.0.0",
      "model_name": "LayoutModel",
      "state": {}
     },
     "54255a5971c24871ac446ec831e675d5": {
      "model_module": "@jupyter-widgets/controls",
      "model_module_version": "1.1.0",
      "model_name": "ToggleButtonsModel",
      "state": {
       "_options_labels": [
        "400 MeV/n",
        "800 MeV/n",
        "1500 MeV/n"
       ],
       "button_style": "",
       "description": "Energy:",
       "icons": [],
       "index": 1,
       "layout": "IPY_MODEL_0d751cb4f6e548f4b8ce129fb2a1948f",
       "style": "IPY_MODEL_04d1efb4970542e8a1080845ae9e2928",
       "tooltips": [
        "lowest energy",
        "middle energy",
        "highest energy"
       ]
      }
     },
     "545ebc91c17c4aa6959b057a16b3ac92": {
      "model_module": "@jupyter-widgets/base",
      "model_module_version": "1.0.0",
      "model_name": "LayoutModel",
      "state": {}
     },
     "54de40efe30348c3a3f03c32f9a0bf20": {
      "model_module": "@jupyter-widgets/controls",
      "model_module_version": "1.1.0",
      "model_name": "CheckboxModel",
      "state": {
       "description": "135°",
       "disabled": false,
       "layout": "IPY_MODEL_eae064cb481f4388b3ecadccabebcbfd",
       "style": "IPY_MODEL_968d972512a14609a9d52d3d9e1341ca",
       "value": true
      }
     },
     "550a8b4a444a4dc8979aaff27f9aea77": {
      "model_module": "@jupyter-widgets/base",
      "model_module_version": "1.0.0",
      "model_name": "LayoutModel",
      "state": {}
     },
     "55114e30eaef4a0baf0b2c8825f04423": {
      "model_module": "@jupyter-widgets/base",
      "model_module_version": "1.0.0",
      "model_name": "LayoutModel",
      "state": {}
     },
     "551f1768743d48d6b4d9eabce3889290": {
      "model_module": "@jupyter-widgets/base",
      "model_module_version": "1.0.0",
      "model_name": "LayoutModel",
      "state": {}
     },
     "5551224bca5049e7be23f28c01e1dd3b": {
      "model_module": "@jupyter-widgets/controls",
      "model_module_version": "1.1.0",
      "model_name": "DescriptionStyleModel",
      "state": {
       "description_width": ""
      }
     },
     "55619c5dea094e449247ceb4ea2afc58": {
      "model_module": "@jupyter-widgets/base",
      "model_module_version": "1.0.0",
      "model_name": "LayoutModel",
      "state": {}
     },
     "558f3cbb74f44270a0a0ffb1405db605": {
      "model_module": "@jupyter-widgets/controls",
      "model_module_version": "1.1.0",
      "model_name": "LabelModel",
      "state": {
       "layout": "IPY_MODEL_4d4fcad406be4ae3ad2925c4cfe5d079",
       "style": "IPY_MODEL_237ce633442a44248c4af8d83c850476",
       "value": "Select projectile ion energy."
      }
     },
     "55ad60edc3cc48cf803fdd35c03e02a8": {
      "model_module": "@jupyter-widgets/controls",
      "model_module_version": "1.1.0",
      "model_name": "DescriptionStyleModel",
      "state": {
       "description_width": ""
      }
     },
     "55e1e3be375a42268d92b16cccceeff0": {
      "model_module": "@jupyter-widgets/controls",
      "model_module_version": "1.1.0",
      "model_name": "DescriptionStyleModel",
      "state": {
       "description_width": ""
      }
     },
     "55ee168d048141bda5ad42eb6648dab2": {
      "model_module": "@jupyter-widgets/base",
      "model_module_version": "1.0.0",
      "model_name": "LayoutModel",
      "state": {}
     },
     "56109a4f301b4e7eaf085b954adad9c5": {
      "model_module": "@jupyter-widgets/controls",
      "model_module_version": "1.1.0",
      "model_name": "DescriptionStyleModel",
      "state": {
       "description_width": ""
      }
     },
     "562a8ee6c510478180bbe9768376706b": {
      "model_module": "@jupyter-widgets/controls",
      "model_module_version": "1.1.0",
      "model_name": "DescriptionStyleModel",
      "state": {
       "description_width": ""
      }
     },
     "5683570204824c2babd1bd671d01df2d": {
      "model_module": "@jupyter-widgets/base",
      "model_module_version": "1.0.0",
      "model_name": "LayoutModel",
      "state": {}
     },
     "5694c32fad5348a7814ee2f1077654e8": {
      "model_module": "@jupyter-widgets/controls",
      "model_module_version": "1.1.0",
      "model_name": "CheckboxModel",
      "state": {
       "description": "30°",
       "disabled": false,
       "layout": "IPY_MODEL_e705eb676ca84ed7bac6301486cf3fec",
       "style": "IPY_MODEL_0d5b2c31b6ba45a5b485646040acbc1c",
       "value": true
      }
     },
     "56b2779a2a6e424f8432ddcecd18d2b3": {
      "model_module": "@jupyter-widgets/controls",
      "model_module_version": "1.1.0",
      "model_name": "CheckboxModel",
      "state": {
       "description": "10°",
       "disabled": false,
       "layout": "IPY_MODEL_7fee16546f4e4ce698bb3676bbfe16a6",
       "style": "IPY_MODEL_458d0ff4e9c24a4fb84bc59a942eb7be",
       "value": true
      }
     },
     "56cdac3fdd604828adeb8bd2ce656bff": {
      "model_module": "@jupyter-widgets/controls",
      "model_module_version": "1.1.0",
      "model_name": "CheckboxModel",
      "state": {
       "description": "10°",
       "disabled": false,
       "layout": "IPY_MODEL_e4da8aed076e41fabc020df45f79166e",
       "style": "IPY_MODEL_1757cdb3a11c42869812c07a7a3a6d56",
       "value": true
      }
     },
     "56eef3271bf545989ce729f658001984": {
      "model_module": "@jupyter-widgets/base",
      "model_module_version": "1.0.0",
      "model_name": "LayoutModel",
      "state": {}
     },
     "57323ccaaacc4124a9d793bad87745c4": {
      "model_module": "@jupyter-widgets/controls",
      "model_module_version": "1.1.0",
      "model_name": "CheckboxModel",
      "state": {
       "description": "30°",
       "disabled": false,
       "layout": "IPY_MODEL_ba7e0728ba3d417ca8231f82f6648646",
       "style": "IPY_MODEL_1e5116bf86be4f1882bf20fcf6a6c465",
       "value": true
      }
     },
     "57d7e399c05046a98adea902f1be7d58": {
      "model_module": "@jupyter-widgets/controls",
      "model_module_version": "1.1.0",
      "model_name": "LabelModel",
      "state": {
       "layout": "IPY_MODEL_b9fe73a9d00447f5a6611838aa68771a",
       "style": "IPY_MODEL_f4861ab2161a41a481d4efd27777288f",
       "value": "Select the detector angles to plot."
      }
     },
     "58077b879af64e7dbc37ed3f0b737f2b": {
      "model_module": "@jupyter-widgets/base",
      "model_module_version": "1.0.0",
      "model_name": "LayoutModel",
      "state": {}
     },
     "5811319f0fa94ee481a92fc5fe368815": {
      "model_module": "@jupyter-widgets/controls",
      "model_module_version": "1.1.0",
      "model_name": "DescriptionStyleModel",
      "state": {
       "description_width": ""
      }
     },
     "582bd3b8586f48da886d7a868cac290f": {
      "model_module": "@jupyter-widgets/controls",
      "model_module_version": "1.1.0",
      "model_name": "CheckboxModel",
      "state": {
       "description": "10°",
       "disabled": false,
       "layout": "IPY_MODEL_b6a6026f9a484957a255fc96600c9c14",
       "style": "IPY_MODEL_5d79d6a3b83a4115bb61fac8d665d5cb",
       "value": true
      }
     },
     "582ecf8a072f42a7b3c5823cfde9d18c": {
      "model_module": "@jupyter-widgets/controls",
      "model_module_version": "1.1.0",
      "model_name": "CheckboxModel",
      "state": {
       "description": "30°",
       "disabled": false,
       "layout": "IPY_MODEL_e7c7ff147f5e4b0f9de2d24756f931c5",
       "style": "IPY_MODEL_42ac3994113648e7b1511b9da9417c54",
       "value": true
      }
     },
     "583bbba8ce624dd496a72160cfce3e3c": {
      "model_module": "@jupyter-widgets/controls",
      "model_module_version": "1.1.0",
      "model_name": "CheckboxModel",
      "state": {
       "description": "80°",
       "disabled": false,
       "layout": "IPY_MODEL_94458a1ede7b40a59b7adde0d00b199b",
       "style": "IPY_MODEL_87e57776ce1f4fd38470996dfe8cf8a5",
       "value": true
      }
     },
     "5879180fc1bd49a09297167b29351d56": {
      "model_module": "@jupyter-widgets/controls",
      "model_module_version": "1.1.0",
      "model_name": "ButtonModel",
      "state": {
       "button_style": "success",
       "description": "Update plot",
       "icon": "paint-brush",
       "layout": "IPY_MODEL_82f4562ddb4f464a84af5973022cc115",
       "style": "IPY_MODEL_7e8f437c1a4f4cb2a43386174f683062",
       "tooltip": "Click to redraw the plot below with updated options from above."
      }
     },
     "58d1a5ed88374eb2bc1af82624b9c785": {
      "model_module": "@jupyter-widgets/controls",
      "model_module_version": "1.1.0",
      "model_name": "ButtonStyleModel",
      "state": {}
     },
     "590c75c872914897a0b6cde58cca7b15": {
      "model_module": "@jupyter-widgets/base",
      "model_module_version": "1.0.0",
      "model_name": "LayoutModel",
      "state": {}
     },
     "5929c186d9eb48c99b0e76d2f047ecee": {
      "model_module": "@jupyter-widgets/base",
      "model_module_version": "1.0.0",
      "model_name": "LayoutModel",
      "state": {}
     },
     "592d2c0aa7504792bede385126d23000": {
      "model_module": "@jupyter-widgets/controls",
      "model_module_version": "1.1.0",
      "model_name": "DescriptionStyleModel",
      "state": {
       "description_width": ""
      }
     },
     "594d7f47aa2f4f3590683c7b2106522b": {
      "model_module": "@jupyter-widgets/controls",
      "model_module_version": "1.1.0",
      "model_name": "DescriptionStyleModel",
      "state": {
       "description_width": ""
      }
     },
     "599ca6b319364d34b100c6e2dbf5108f": {
      "model_module": "@jupyter-widgets/controls",
      "model_module_version": "1.1.0",
      "model_name": "LabelModel",
      "state": {
       "layout": "IPY_MODEL_a6f9e3ee75754eecb9e07499d61a606d",
       "style": "IPY_MODEL_0c3297f4aa9948278ef3e5ba45d189d8",
       "value": "Select which sets of data to display."
      }
     },
     "59cfb89d37c64c54a570ec8a8383a52e": {
      "model_module": "@jupyter-widgets/controls",
      "model_module_version": "1.1.0",
      "model_name": "CheckboxModel",
      "state": {
       "description": "10°",
       "disabled": false,
       "layout": "IPY_MODEL_9e76e71b2ce946968f7ea2d6d5db2441",
       "style": "IPY_MODEL_9ff423d239b843e9837184497a85d68c",
       "value": true
      }
     },
     "5a127a21a9244a47962c8a41005dc6b8": {
      "model_module": "@jupyter-widgets/base",
      "model_module_version": "1.0.0",
      "model_name": "LayoutModel",
      "state": {}
     },
     "5a8e1e58eef240009f3eaae78d7272fc": {
      "model_module": "@jupyter-widgets/controls",
      "model_module_version": "1.1.0",
      "model_name": "DescriptionStyleModel",
      "state": {
       "description_width": ""
      }
     },
     "5aa7313937f347f2a4f94727e15b94c1": {
      "model_module": "@jupyter-widgets/controls",
      "model_module_version": "1.1.0",
      "model_name": "CheckboxModel",
      "state": {
       "description": "60°",
       "disabled": false,
       "layout": "IPY_MODEL_14747b7132f64713b014ca83848cb75d",
       "style": "IPY_MODEL_325e49be119544de8398173a30e3339c",
       "value": true
      }
     },
     "5ad7cb92db9f426599a612e6cdbeb1ae": {
      "model_module": "@jupyter-widgets/base",
      "model_module_version": "1.0.0",
      "model_name": "LayoutModel",
      "state": {}
     },
     "5b022fe216604a93ac7675403a1dfe4f": {
      "model_module": "@jupyter-widgets/controls",
      "model_module_version": "1.1.0",
      "model_name": "DescriptionStyleModel",
      "state": {
       "description_width": ""
      }
     },
     "5b07f342793d451f93155c3dd066662f": {
      "model_module": "@jupyter-widgets/controls",
      "model_module_version": "1.1.0",
      "model_name": "ToggleButtonsStyleModel",
      "state": {
       "button_width": "",
       "description_width": ""
      }
     },
     "5b0e90bad91540f7964f171a4fb45504": {
      "model_module": "@jupyter-widgets/controls",
      "model_module_version": "1.1.0",
      "model_name": "LabelModel",
      "state": {
       "layout": "IPY_MODEL_23acda008ed343d999adf0515f15bae6",
       "style": "IPY_MODEL_8872a1a9dadf4cab9a7f77f2ceab455d",
       "value": "Select which secondary particle to plot spectra for."
      }
     },
     "5b750e632456459db070733b106ef94d": {
      "model_module": "@jupyter-widgets/controls",
      "model_module_version": "1.1.0",
      "model_name": "CheckboxModel",
      "state": {
       "description": "45°",
       "disabled": false,
       "layout": "IPY_MODEL_2c7ef81276354c359d1e6d8d4d7f776f",
       "style": "IPY_MODEL_b42f68c91453466f98cc3c71ddde5df8",
       "value": true
      }
     },
     "5be950c9798a433eac7c50d421058a45": {
      "model_module": "@jupyter-widgets/controls",
      "model_module_version": "1.1.0",
      "model_name": "DescriptionStyleModel",
      "state": {
       "description_width": ""
      }
     },
     "5bea036262aa45f88bd611b6d17bbf2c": {
      "model_module": "@jupyter-widgets/controls",
      "model_module_version": "1.1.0",
      "model_name": "CheckboxModel",
      "state": {
       "description": "45°",
       "disabled": false,
       "layout": "IPY_MODEL_3362abff56024a28bb3f806b1c8512b0",
       "style": "IPY_MODEL_1aa273c7bdca4da191835a445d606065",
       "value": true
      }
     },
     "5c1891fc0f3e494bb2daac66c62f0605": {
      "model_module": "@jupyter-widgets/controls",
      "model_module_version": "1.1.0",
      "model_name": "DescriptionStyleModel",
      "state": {
       "description_width": ""
      }
     },
     "5c709c28e7b1473a829030631e766267": {
      "model_module": "@jupyter-widgets/controls",
      "model_module_version": "1.1.0",
      "model_name": "LabelModel",
      "state": {
       "layout": "IPY_MODEL_0904d5c615004520b4addc0afd8f11c6",
       "style": "IPY_MODEL_85a02b30514244aaaf4f8a6d2a2c855b",
       "value": "Select projectile ion energy."
      }
     },
     "5c8ae25629bb45bfa1828369ead77402": {
      "model_module": "@jupyter-widgets/base",
      "model_module_version": "1.0.0",
      "model_name": "LayoutModel",
      "state": {}
     },
     "5cd1a0fc8f2b419cba318f2759e84300": {
      "model_module": "@jupyter-widgets/controls",
      "model_module_version": "1.1.0",
      "model_name": "CheckboxModel",
      "state": {
       "description": "45°",
       "disabled": false,
       "layout": "IPY_MODEL_aca553dec049411a9613a1df049c60f2",
       "style": "IPY_MODEL_1611a7e4b1b04daa83ba9fbdf40a6b48",
       "value": true
      }
     },
     "5d0203b4421942389bb57b1c40fb9970": {
      "model_module": "@jupyter-widgets/controls",
      "model_module_version": "1.1.0",
      "model_name": "DescriptionStyleModel",
      "state": {
       "description_width": ""
      }
     },
     "5d11473ee0a449d0b93f46057bb10c7e": {
      "model_module": "@jupyter-widgets/base",
      "model_module_version": "1.0.0",
      "model_name": "LayoutModel",
      "state": {}
     },
     "5d2d2ef1e6f84956a3c03ae6b9da9860": {
      "model_module": "@jupyter-widgets/base",
      "model_module_version": "1.0.0",
      "model_name": "LayoutModel",
      "state": {}
     },
     "5d45e9bedef14a86a1f78bb791530cec": {
      "model_module": "@jupyter-widgets/base",
      "model_module_version": "1.0.0",
      "model_name": "LayoutModel",
      "state": {}
     },
     "5d6f9298364a4b61a3f6781fd3f90728": {
      "model_module": "@jupyter-widgets/controls",
      "model_module_version": "1.1.0",
      "model_name": "CheckboxModel",
      "state": {
       "description": "10°",
       "disabled": false,
       "layout": "IPY_MODEL_945fd25c30d0494197276661c03dc671",
       "style": "IPY_MODEL_06911039ed2b4f93bbec1f3465e4792f",
       "value": true
      }
     },
     "5d79d6a3b83a4115bb61fac8d665d5cb": {
      "model_module": "@jupyter-widgets/controls",
      "model_module_version": "1.1.0",
      "model_name": "DescriptionStyleModel",
      "state": {
       "description_width": ""
      }
     },
     "5d9f1e4f52be41468c9737671db6eeb7": {
      "model_module": "@jupyter-widgets/controls",
      "model_module_version": "1.1.0",
      "model_name": "DescriptionStyleModel",
      "state": {
       "description_width": ""
      }
     },
     "5db4f40a4ff340c792d454c100ac3ca1": {
      "model_module": "@jupyter-widgets/base",
      "model_module_version": "1.0.0",
      "model_name": "LayoutModel",
      "state": {}
     },
     "5dba777f3ad5495984d9747a4e2eb10a": {
      "model_module": "@jupyter-widgets/controls",
      "model_module_version": "1.1.0",
      "model_name": "CheckboxModel",
      "state": {
       "description": "30°",
       "disabled": false,
       "layout": "IPY_MODEL_66c336724b0c43bba23e9be0854b7b87",
       "style": "IPY_MODEL_11e5620c07cc43d8a2786e3639005438",
       "value": false
      }
     },
     "5e226b0f37f9402c8351fac92816df33": {
      "model_module": "@jupyter-widgets/controls",
      "model_module_version": "1.1.0",
      "model_name": "CheckboxModel",
      "state": {
       "description": "10°",
       "disabled": false,
       "layout": "IPY_MODEL_a1508f29519446cb89354baa0c079653",
       "style": "IPY_MODEL_f7321fc4b17d4e829257afd40af2d5c2",
       "value": true
      }
     },
     "5e3355da7b9848ccac220d67e4854e00": {
      "model_module": "@jupyter-widgets/base",
      "model_module_version": "1.0.0",
      "model_name": "LayoutModel",
      "state": {}
     },
     "5e7db865bbac4ad993bb71f9c9d3c32c": {
      "model_module": "@jupyter-widgets/controls",
      "model_module_version": "1.1.0",
      "model_name": "CheckboxModel",
      "state": {
       "description": "80°",
       "disabled": false,
       "layout": "IPY_MODEL_14a99f6b164c4d9299d9760d104c3d74",
       "style": "IPY_MODEL_74afdf280b99481c91ec8638fcafbb6c",
       "value": true
      }
     },
     "5eae71481201469a9f41f176634ff53e": {
      "model_module": "@jupyter-widgets/controls",
      "model_module_version": "1.1.0",
      "model_name": "DescriptionStyleModel",
      "state": {
       "description_width": ""
      }
     },
     "5f33917099b84db99530cfe19a797a09": {
      "model_module": "@jupyter-widgets/base",
      "model_module_version": "1.0.0",
      "model_name": "LayoutModel",
      "state": {}
     },
     "5f3628b512394296a21837d4baf0cae3": {
      "model_module": "@jupyter-widgets/controls",
      "model_module_version": "1.1.0",
      "model_name": "ToggleButtonsStyleModel",
      "state": {
       "button_width": "",
       "description_width": ""
      }
     },
     "5f37362934e14109951258ad79a49283": {
      "model_module": "@jupyter-widgets/controls",
      "model_module_version": "1.1.0",
      "model_name": "LabelModel",
      "state": {
       "layout": "IPY_MODEL_3ed8a03b12234f1f96c21be5fc89dbbf",
       "style": "IPY_MODEL_5a8e1e58eef240009f3eaae78d7272fc",
       "value": "Select the detector angles to plot."
      }
     },
     "5f3b3e9281414288a0c60d8369ef055b": {
      "model_module": "@jupyter-widgets/controls",
      "model_module_version": "1.1.0",
      "model_name": "CheckboxModel",
      "state": {
       "description": "10°",
       "disabled": false,
       "layout": "IPY_MODEL_c056e640edce4c269d8bbf0f54262eae",
       "style": "IPY_MODEL_434eda9a3fdd4adc9d47d36d17c44992",
       "value": true
      }
     },
     "5f6d3b5ab3f94a0d9af8dd6912b4767b": {
      "model_module": "@jupyter-widgets/base",
      "model_module_version": "1.0.0",
      "model_name": "LayoutModel",
      "state": {}
     },
     "5f80d1cf22234e7594f18187386c28aa": {
      "model_module": "@jupyter-widgets/base",
      "model_module_version": "1.0.0",
      "model_name": "LayoutModel",
      "state": {}
     },
     "5f81c44e3d4f4848891cd99623046fe3": {
      "model_module": "@jupyter-widgets/controls",
      "model_module_version": "1.1.0",
      "model_name": "DescriptionStyleModel",
      "state": {
       "description_width": ""
      }
     },
     "5fc3f122bf5a4e9f81f5da4f559639cc": {
      "model_module": "@jupyter-widgets/base",
      "model_module_version": "1.0.0",
      "model_name": "LayoutModel",
      "state": {}
     },
     "5ffcfd3693164356858a0cf7f7f49abf": {
      "model_module": "@jupyter-widgets/controls",
      "model_module_version": "1.1.0",
      "model_name": "ToggleButtonsModel",
      "state": {
       "_options_labels": [
        "400 MeV",
        "800 MeV",
        "2500 MeV"
       ],
       "button_style": "",
       "description": "Energy:",
       "icons": [],
       "index": 0,
       "layout": "IPY_MODEL_4983d2055aa540b09bf1671d230359fd",
       "style": "IPY_MODEL_4de496bb8bbb4886a778a02e718a549f",
       "tooltips": [
        "lowest energy",
        "middle energy",
        "highest energy"
       ]
      }
     },
     "6019f206380e40869a36e7ed7440ff63": {
      "model_module": "@jupyter-widgets/controls",
      "model_module_version": "1.1.0",
      "model_name": "CheckboxModel",
      "state": {
       "description": "30°",
       "disabled": false,
       "layout": "IPY_MODEL_fe14d7b10f2e4a5c8d43b25464f2f8af",
       "style": "IPY_MODEL_c5319387ee0f448b983f45fd842808da",
       "value": true
      }
     },
     "6043f70a44fd4a4ab3da05f2351f5d16": {
      "model_module": "@jupyter-widgets/base",
      "model_module_version": "1.0.0",
      "model_name": "LayoutModel",
      "state": {}
     },
     "604b16220d6048ea886bfe88261bdf85": {
      "model_module": "@jupyter-widgets/controls",
      "model_module_version": "1.1.0",
      "model_name": "DescriptionStyleModel",
      "state": {
       "description_width": ""
      }
     },
     "605082e0f753458887d4cb323c5f3cab": {
      "model_module": "@jupyter-widgets/base",
      "model_module_version": "1.0.0",
      "model_name": "LayoutModel",
      "state": {}
     },
     "60640bc143d7461fa221ade3e9a1babf": {
      "model_module": "@jupyter-widgets/base",
      "model_module_version": "1.0.0",
      "model_name": "LayoutModel",
      "state": {}
     },
     "6084ee82670b45f2b72a203c656729a7": {
      "model_module": "@jupyter-widgets/controls",
      "model_module_version": "1.1.0",
      "model_name": "CheckboxModel",
      "state": {
       "description": "45°",
       "disabled": false,
       "layout": "IPY_MODEL_1a69e3aee3e14b7db2c3eaef0f27ff8c",
       "style": "IPY_MODEL_a0fb516231fc4c46bebbabd867d9dd0e",
       "value": true
      }
     },
     "60c6db45211e4b37a236fe435da7fd4a": {
      "model_module": "@jupyter-widgets/controls",
      "model_module_version": "1.1.0",
      "model_name": "CheckboxModel",
      "state": {
       "description": "60°",
       "disabled": false,
       "layout": "IPY_MODEL_cc72e4f4aa744945b46d2989b2c8382b",
       "style": "IPY_MODEL_d8e79c82101d4d939d3b239c270edb50",
       "value": true
      }
     },
     "60da9f76f87747409e60a24d11f5064e": {
      "model_module": "@jupyter-widgets/controls",
      "model_module_version": "1.1.0",
      "model_name": "CheckboxModel",
      "state": {
       "description": "30°",
       "disabled": false,
       "layout": "IPY_MODEL_f8d1defbf04d4c329688c00ad9b82081",
       "style": "IPY_MODEL_bb0ee65ce4894fc79a7cad5d70b7b308",
       "value": true
      }
     },
     "60e28aaf83044e78b416a7e4140081f9": {
      "model_module": "@jupyter-widgets/controls",
      "model_module_version": "1.1.0",
      "model_name": "ToggleButtonsModel",
      "state": {
       "_options_labels": [
        "Al",
        "HDPE",
        "AlPE"
       ],
       "button_style": "",
       "description": "Material:",
       "icons": [],
       "index": 0,
       "layout": "IPY_MODEL_1464d343c35a4ef39cb521de45cc30a7",
       "style": "IPY_MODEL_28c6e8a53b30499788d694073344f160",
       "tooltips": [
        "Aluminum",
        "Polyethylene",
        "Combination of Al and HDPE"
       ]
      }
     },
     "60e581ed69f348ada1f183e02e3a1501": {
      "model_module": "@jupyter-widgets/controls",
      "model_module_version": "1.1.0",
      "model_name": "ToggleButtonsModel",
      "state": {
       "_options_labels": [
        "None",
        "Spaced by 10²"
       ],
       "button_style": "",
       "description": "Spacing:",
       "icons": [],
       "index": 0,
       "layout": "IPY_MODEL_978237f274d2476b8418648f0228b9e7",
       "style": "IPY_MODEL_365cc349dabc4ae5a0219329152a8f57",
       "tooltips": [
        "All values are presented as is.",
        "Plots for different detectors are multiplied by powers of 10² for easier viewing."
       ]
      }
     },
     "611f22c67c284b8a81ffc118bc58ad4b": {
      "model_module": "@jupyter-widgets/base",
      "model_module_version": "1.0.0",
      "model_name": "LayoutModel",
      "state": {}
     },
     "61335b6f99b3431594c37c7bacfd72c9": {
      "model_module": "@jupyter-widgets/base",
      "model_module_version": "1.0.0",
      "model_name": "LayoutModel",
      "state": {}
     },
     "61530f17cf0a4a869cc3326b3400bd36": {
      "model_module": "@jupyter-widgets/controls",
      "model_module_version": "1.1.0",
      "model_name": "ToggleButtonsModel",
      "state": {
       "_options_labels": [
        "20 g/cm²",
        "40 g/cm²",
        "60 g/cm²"
       ],
       "button_style": "",
       "description": "Thickness:",
       "icons": [],
       "index": 0,
       "layout": "IPY_MODEL_383081b3ad19498490196aa4c2e92f84",
       "style": "IPY_MODEL_f4e068f26b124e70aee3d4ed6f1a1f11",
       "tooltips": [
        "20 g/cm² Aluminum",
        "40 g/cm² Aluminum",
        "60 g/cm² Aluminum"
       ]
      }
     },
     "61906c76664a41d496cc06fad94da3da": {
      "model_module": "@jupyter-widgets/controls",
      "model_module_version": "1.1.0",
      "model_name": "DescriptionStyleModel",
      "state": {
       "description_width": ""
      }
     },
     "619eb7b1a8ab4a82a15314965e6fe9a2": {
      "model_module": "@jupyter-widgets/base",
      "model_module_version": "1.0.0",
      "model_name": "LayoutModel",
      "state": {}
     },
     "61e3b1d974f54bdb9c326faeee0c314d": {
      "model_module": "@jupyter-widgets/controls",
      "model_module_version": "1.1.0",
      "model_name": "CheckboxModel",
      "state": {
       "description": "30°",
       "disabled": false,
       "layout": "IPY_MODEL_a6c3f474e4fc44af9c36e8c0cf3f1b5a",
       "style": "IPY_MODEL_03a393a5b856453da2dc9e69bb9c625b",
       "value": true
      }
     },
     "62005fa6af354d3abb3d96cdd98641ee": {
      "model_module": "@jupyter-widgets/base",
      "model_module_version": "1.0.0",
      "model_name": "LayoutModel",
      "state": {}
     },
     "622b1dbaabd243b9843ca2f3fffb7666": {
      "model_module": "@jupyter-widgets/controls",
      "model_module_version": "1.1.0",
      "model_name": "DescriptionStyleModel",
      "state": {
       "description_width": ""
      }
     },
     "625f3971a6524e3384d247f8736ed41c": {
      "model_module": "@jupyter-widgets/controls",
      "model_module_version": "1.1.0",
      "model_name": "CheckboxModel",
      "state": {
       "description": "10°",
       "disabled": false,
       "layout": "IPY_MODEL_9ebc4e97c55b459f85d9b769bce74ce0",
       "style": "IPY_MODEL_f3f69e1081784e57b0f53a13152b39c0",
       "value": true
      }
     },
     "626dcd99f79b46e4b93f117fd4b1db37": {
      "model_module": "@jupyter-widgets/controls",
      "model_module_version": "1.1.0",
      "model_name": "CheckboxModel",
      "state": {
       "description": "135°",
       "disabled": false,
       "layout": "IPY_MODEL_251dbee8118e4833a50c38ca3bb755d4",
       "style": "IPY_MODEL_5811319f0fa94ee481a92fc5fe368815",
       "value": true
      }
     },
     "62c0dff630c54a339359f4468590031f": {
      "model_module": "@jupyter-widgets/base",
      "model_module_version": "1.0.0",
      "model_name": "LayoutModel",
      "state": {}
     },
     "6301ab8a9251463b9ae21da49e69bd8c": {
      "model_module": "@jupyter-widgets/controls",
      "model_module_version": "1.1.0",
      "model_name": "DescriptionStyleModel",
      "state": {
       "description_width": ""
      }
     },
     "630a75892166422cb5a31e63e1a6c742": {
      "model_module": "@jupyter-widgets/controls",
      "model_module_version": "1.1.0",
      "model_name": "DescriptionStyleModel",
      "state": {
       "description_width": ""
      }
     },
     "631536be399348008a03b762521caa26": {
      "model_module": "@jupyter-widgets/controls",
      "model_module_version": "1.1.0",
      "model_name": "LabelModel",
      "state": {
       "layout": "IPY_MODEL_0c132da78fcf4a549f39d30e06c640a9",
       "style": "IPY_MODEL_dcc580c163444356988ae2cd34110f94",
       "value": "Select the detector angles to plot."
      }
     },
     "634950df2f1743129effab1a202ebd6c": {
      "model_module": "@jupyter-widgets/controls",
      "model_module_version": "1.1.0",
      "model_name": "DescriptionStyleModel",
      "state": {
       "description_width": ""
      }
     },
     "638b9a043e1e4701abfe86496606c417": {
      "model_module": "@jupyter-widgets/base",
      "model_module_version": "1.0.0",
      "model_name": "LayoutModel",
      "state": {}
     },
     "63b8575a0be8460e9235b4700552459c": {
      "model_module": "@jupyter-widgets/controls",
      "model_module_version": "1.1.0",
      "model_name": "DescriptionStyleModel",
      "state": {
       "description_width": ""
      }
     },
     "63bc4d3d272049c5b9b3cdbb4723fb43": {
      "model_module": "@jupyter-widgets/controls",
      "model_module_version": "1.1.0",
      "model_name": "LabelModel",
      "state": {
       "layout": "IPY_MODEL_2dc29aad853f45168fd248a8554269c5",
       "style": "IPY_MODEL_0134c3792d954a6fb8646afb9cd0529f",
       "value": "Select how data sets for each detector should be spaced apart (if at all)."
      }
     },
     "63d35644410f496587d7e4afc765a7ad": {
      "model_module": "@jupyter-widgets/controls",
      "model_module_version": "1.1.0",
      "model_name": "LabelModel",
      "state": {
       "layout": "IPY_MODEL_e9876dad0d064a82bb3810f9daf6dc78",
       "style": "IPY_MODEL_395f4ed1396f41599458d76bd4a9f8b9",
       "value": "Select upstream target mass thickness."
      }
     },
     "63d86dafd39f4b03988a50402ac33d4c": {
      "model_module": "@jupyter-widgets/controls",
      "model_module_version": "1.1.0",
      "model_name": "DescriptionStyleModel",
      "state": {
       "description_width": ""
      }
     },
     "63f3673c4a8d4904b8b4957354acdb7a": {
      "model_module": "@jupyter-widgets/controls",
      "model_module_version": "1.1.0",
      "model_name": "DescriptionStyleModel",
      "state": {
       "description_width": ""
      }
     },
     "6432281fb9754f448a6ef8b536a3b412": {
      "model_module": "@jupyter-widgets/controls",
      "model_module_version": "1.1.0",
      "model_name": "DescriptionStyleModel",
      "state": {
       "description_width": ""
      }
     },
     "644ed6cc3d2144fdaa33e0de942764ca": {
      "model_module": "@jupyter-widgets/controls",
      "model_module_version": "1.1.0",
      "model_name": "DescriptionStyleModel",
      "state": {
       "description_width": ""
      }
     },
     "648e2abce8bd44749de5e0704c4e0f8c": {
      "model_module": "@jupyter-widgets/base",
      "model_module_version": "1.0.0",
      "model_name": "LayoutModel",
      "state": {}
     },
     "64a39e5952b74d7d9eb1a3cdc4a824d1": {
      "model_module": "@jupyter-widgets/controls",
      "model_module_version": "1.1.0",
      "model_name": "CheckboxModel",
      "state": {
       "description": "10°",
       "disabled": false,
       "layout": "IPY_MODEL_bec0a54e31b749e9ad4b1152e11a6e85",
       "style": "IPY_MODEL_18b8c3c6b1d2459ab250e28c7d51c293",
       "value": true
      }
     },
     "64bcc39945b54dc3845c9c8a5f663971": {
      "model_module": "@jupyter-widgets/controls",
      "model_module_version": "1.1.0",
      "model_name": "DescriptionStyleModel",
      "state": {
       "description_width": ""
      }
     },
     "64cddb3db5b6461d93882d622d7c74e2": {
      "model_module": "@jupyter-widgets/base",
      "model_module_version": "1.0.0",
      "model_name": "LayoutModel",
      "state": {}
     },
     "64e57371413542b59172c6948348cc08": {
      "model_module": "@jupyter-widgets/base",
      "model_module_version": "1.0.0",
      "model_name": "LayoutModel",
      "state": {}
     },
     "652dafb0d07046108b2c23f2fb75432c": {
      "model_module": "@jupyter-widgets/controls",
      "model_module_version": "1.1.0",
      "model_name": "DescriptionStyleModel",
      "state": {
       "description_width": ""
      }
     },
     "6534c2495cb84bcebdd805f461b0f732": {
      "model_module": "@jupyter-widgets/controls",
      "model_module_version": "1.1.0",
      "model_name": "ToggleButtonsStyleModel",
      "state": {
       "button_width": "",
       "description_width": ""
      }
     },
     "6592682b66da430baa3d52e6c03c9f70": {
      "model_module": "@jupyter-widgets/base",
      "model_module_version": "1.0.0",
      "model_name": "LayoutModel",
      "state": {}
     },
     "65ac9ffa46e74c519cea167a6f7c9e00": {
      "model_module": "@jupyter-widgets/controls",
      "model_module_version": "1.1.0",
      "model_name": "LabelModel",
      "state": {
       "layout": "IPY_MODEL_0a892fe9e1af434dbee48a0fe6ed30f0",
       "style": "IPY_MODEL_d7728d7f18734d9985528ec5cc7e6bb9",
       "value": "Select which secondary particle to plot spectra for."
      }
     },
     "65b9b514b21a4270bbe617e747d7d512": {
      "model_module": "@jupyter-widgets/controls",
      "model_module_version": "1.1.0",
      "model_name": "LabelModel",
      "state": {
       "layout": "IPY_MODEL_d787a6af00114089a18df01cc6832c33",
       "style": "IPY_MODEL_d6d67849279d4eec8fe5b047ef4db595",
       "value": "Select which secondary particle to plot spectra for."
      }
     },
     "65c67283abaa4187b143e98bc5c4bf8b": {
      "model_module": "@jupyter-widgets/controls",
      "model_module_version": "1.1.0",
      "model_name": "DescriptionStyleModel",
      "state": {
       "description_width": ""
      }
     },
     "65dc34305d364cc9aec224dba5542416": {
      "model_module": "@jupyter-widgets/base",
      "model_module_version": "1.0.0",
      "model_name": "LayoutModel",
      "state": {}
     },
     "65eb98388f3b425ca85e6efa4a4c4181": {
      "model_module": "@jupyter-widgets/controls",
      "model_module_version": "1.1.0",
      "model_name": "LabelModel",
      "state": {
       "layout": "IPY_MODEL_0f4d8e82915342dea9c99fdf5cf9559b",
       "style": "IPY_MODEL_ccb92fb4f4334ceab4beced3bde87ad2",
       "value": "Select the detector angles to plot."
      }
     },
     "6618fede54bc4ec88c1d1868043f5123": {
      "model_module": "@jupyter-widgets/controls",
      "model_module_version": "1.1.0",
      "model_name": "ToggleButtonsModel",
      "state": {
       "_options_labels": [
        "20 g/cm²",
        "40 g/cm²",
        "60 g/cm²"
       ],
       "button_style": "",
       "description": "Thickness:",
       "icons": [],
       "index": 0,
       "layout": "IPY_MODEL_c0771b671595474abd61daef2cdb5433",
       "style": "IPY_MODEL_c9cb879e1adc497faaf4f9487356048f",
       "tooltips": [
        "20 g/cm² Aluminum",
        "40 g/cm² Aluminum",
        "60 g/cm² Aluminum"
       ]
      }
     },
     "6656e479c3aa402088a708dc7886b481": {
      "model_module": "@jupyter-widgets/base",
      "model_module_version": "1.0.0",
      "model_name": "LayoutModel",
      "state": {}
     },
     "665fc08931fc44619afd3e1014cef644": {
      "model_module": "@jupyter-widgets/base",
      "model_module_version": "1.0.0",
      "model_name": "LayoutModel",
      "state": {}
     },
     "666947855c7b4a45a47d2346e06c6163": {
      "model_module": "@jupyter-widgets/base",
      "model_module_version": "1.0.0",
      "model_name": "LayoutModel",
      "state": {}
     },
     "6669aa29ed0549aca74d7019dc6c0e5f": {
      "model_module": "@jupyter-widgets/controls",
      "model_module_version": "1.1.0",
      "model_name": "DescriptionStyleModel",
      "state": {
       "description_width": ""
      }
     },
     "66780daaad254910a6361ece5f318824": {
      "model_module": "@jupyter-widgets/controls",
      "model_module_version": "1.1.0",
      "model_name": "CheckboxModel",
      "state": {
       "description": "80°",
       "disabled": false,
       "layout": "IPY_MODEL_71423ab69d8f4d27974054ce91340404",
       "style": "IPY_MODEL_8457014aa34643e0a25eff2ec3f6e208",
       "value": false
      }
     },
     "669362fe01604699a1d455ddf43ff835": {
      "model_module": "@jupyter-widgets/controls",
      "model_module_version": "1.1.0",
      "model_name": "DescriptionStyleModel",
      "state": {
       "description_width": ""
      }
     },
     "66c336724b0c43bba23e9be0854b7b87": {
      "model_module": "@jupyter-widgets/base",
      "model_module_version": "1.0.0",
      "model_name": "LayoutModel",
      "state": {}
     },
     "674ad855d31a46c995045aa6e30f60ca": {
      "model_module": "@jupyter-widgets/controls",
      "model_module_version": "1.1.0",
      "model_name": "LabelModel",
      "state": {
       "layout": "IPY_MODEL_2aa9e62ef0e34d62baf0e57cb97ecb73",
       "style": "IPY_MODEL_2e728ca3c2034b8086741be0d71e3946",
       "value": "Select upstream target mass thickness."
      }
     },
     "67649ac06c0d44b7ba8bc7ab44f13d98": {
      "model_module": "@jupyter-widgets/base",
      "model_module_version": "1.0.0",
      "model_name": "LayoutModel",
      "state": {}
     },
     "676c9ec4db9c4580a6d02dba2ee14cc3": {
      "model_module": "@jupyter-widgets/base",
      "model_module_version": "1.0.0",
      "model_name": "LayoutModel",
      "state": {}
     },
     "678505db90ca467f8138dcd59e60cab6": {
      "model_module": "@jupyter-widgets/controls",
      "model_module_version": "1.1.0",
      "model_name": "ToggleButtonsModel",
      "state": {
       "_options_labels": [
        "N (¹n)",
        "NDC (¹n)"
       ],
       "button_style": "",
       "description": "Type:",
       "icons": [],
       "index": 0,
       "layout": "IPY_MODEL_ff0752d0085a4a8693b2646507320ce7",
       "style": "IPY_MODEL_0c250d6154444cb5aaca2a60f583c229",
       "tooltips": [
        "Neutron",
        "Back Target Neutron"
       ]
      }
     },
     "67c7ff1eaa964102bb237a7e61175365": {
      "model_module": "@jupyter-widgets/base",
      "model_module_version": "1.0.0",
      "model_name": "LayoutModel",
      "state": {}
     },
     "6808932636854169abb96099d295094a": {
      "model_module": "@jupyter-widgets/controls",
      "model_module_version": "1.1.0",
      "model_name": "CheckboxModel",
      "state": {
       "description": "60°",
       "disabled": false,
       "layout": "IPY_MODEL_a8e63e1dcb4345d2b913355531ac989f",
       "style": "IPY_MODEL_7adde8f3afc7478e95f52a5ba89da941",
       "value": true
      }
     },
     "684604c74c48451cb8d88cce812fa285": {
      "model_module": "@jupyter-widgets/base",
      "model_module_version": "1.0.0",
      "model_name": "LayoutModel",
      "state": {}
     },
     "6860fc537c664772b30afb7ebfc841f2": {
      "model_module": "@jupyter-widgets/base",
      "model_module_version": "1.0.0",
      "model_name": "LayoutModel",
      "state": {}
     },
     "6863339bf1d24b64b0edd13d07bcda29": {
      "model_module": "@jupyter-widgets/controls",
      "model_module_version": "1.1.0",
      "model_name": "CheckboxModel",
      "state": {
       "description": "135°",
       "disabled": false,
       "layout": "IPY_MODEL_a918cb0bb85249d1b54b8565dad3f659",
       "style": "IPY_MODEL_35ced27b879c42d9b20e796e03c2f102",
       "value": true
      }
     },
     "6875058ca28d415ebf3402c09385b7de": {
      "model_module": "@jupyter-widgets/base",
      "model_module_version": "1.0.0",
      "model_name": "LayoutModel",
      "state": {}
     },
     "68933790a74a4b828811e6ca8c0609f0": {
      "model_module": "@jupyter-widgets/controls",
      "model_module_version": "1.1.0",
      "model_name": "CheckboxModel",
      "state": {
       "description": "MCNP simulated",
       "disabled": false,
       "layout": "IPY_MODEL_3d97e80d1c424d3e854e2b2106a1b287",
       "style": "IPY_MODEL_f808b8d841c64ede90b90c8d1d382ad7",
       "value": true
      }
     },
     "6896b4bd8afa4cdcbf69ee8bd652a294": {
      "model_module": "@jupyter-widgets/controls",
      "model_module_version": "1.1.0",
      "model_name": "DescriptionStyleModel",
      "state": {
       "description_width": ""
      }
     },
     "68ea0c8040b549ddbf28ba9ea85eccfa": {
      "model_module": "@jupyter-widgets/controls",
      "model_module_version": "1.1.0",
      "model_name": "DescriptionStyleModel",
      "state": {
       "description_width": ""
      }
     },
     "6902a3d0f5ed4573bc62d9ca3b441fe5": {
      "model_module": "@jupyter-widgets/controls",
      "model_module_version": "1.1.0",
      "model_name": "DescriptionStyleModel",
      "state": {
       "description_width": ""
      }
     },
     "6962c061d59045bb85f2b5cd341f4833": {
      "model_module": "@jupyter-widgets/controls",
      "model_module_version": "1.1.0",
      "model_name": "ToggleButtonsModel",
      "state": {
       "_options_labels": [
        "None",
        "Spaced by 10²"
       ],
       "button_style": "",
       "description": "Spacing:",
       "icons": [],
       "index": 0,
       "layout": "IPY_MODEL_c7cfcb5d67974ae0ba1f4bc0e90120d3",
       "style": "IPY_MODEL_5b07f342793d451f93155c3dd066662f",
       "tooltips": [
        "All values are presented as is.",
        "Plots for different detectors are multiplied by powers of 10² for easier viewing."
       ]
      }
     },
     "69a91690e7ca45c695f3d6199eae47b1": {
      "model_module": "@jupyter-widgets/controls",
      "model_module_version": "1.1.0",
      "model_name": "LabelModel",
      "state": {
       "layout": "IPY_MODEL_094e31aacf7e473a919b5a57d531f347",
       "style": "IPY_MODEL_8b743d4952b248f7a36eb844c64b0788",
       "value": "Select the detector angles to plot."
      }
     },
     "69b8433c4d3c4ff2811205a7b366fe96": {
      "model_module": "@jupyter-widgets/base",
      "model_module_version": "1.0.0",
      "model_name": "LayoutModel",
      "state": {}
     },
     "69bb322b76854ee69f4fe54e0100c26d": {
      "model_module": "@jupyter-widgets/controls",
      "model_module_version": "1.1.0",
      "model_name": "CheckboxModel",
      "state": {
       "description": "60°",
       "disabled": false,
       "layout": "IPY_MODEL_a736e35fa3074fa386911fcdb54f58e3",
       "style": "IPY_MODEL_0dc535502f544ef18cef129a43da4899",
       "value": true
      }
     },
     "69ccb38d5d6d4e90a6f6b4b35c0f2e8f": {
      "model_module": "@jupyter-widgets/controls",
      "model_module_version": "1.1.0",
      "model_name": "CheckboxModel",
      "state": {
       "description": "MCNP simulated",
       "disabled": false,
       "layout": "IPY_MODEL_195d94cd3ae042f0960a238e7d83b52f",
       "style": "IPY_MODEL_15ee170653c240fb99340a790479ce12",
       "value": true
      }
     },
     "69ea7f91f62f4a098c14805203339114": {
      "model_module": "@jupyter-widgets/controls",
      "model_module_version": "1.1.0",
      "model_name": "DescriptionStyleModel",
      "state": {
       "description_width": ""
      }
     },
     "69ec8e82f79545b8b4db029164b7f4b6": {
      "model_module": "@jupyter-widgets/controls",
      "model_module_version": "1.1.0",
      "model_name": "DescriptionStyleModel",
      "state": {
       "description_width": ""
      }
     },
     "6a2b921d39ac461dbc061b948af0ceea": {
      "model_module": "@jupyter-widgets/base",
      "model_module_version": "1.0.0",
      "model_name": "LayoutModel",
      "state": {}
     },
     "6b6887f98a3e425fb0be0ae08a8fee56": {
      "model_module": "@jupyter-widgets/base",
      "model_module_version": "1.0.0",
      "model_name": "LayoutModel",
      "state": {}
     },
     "6b777fc2776b4640a564e258100c4073": {
      "model_module": "@jupyter-widgets/base",
      "model_module_version": "1.0.0",
      "model_name": "LayoutModel",
      "state": {}
     },
     "6ba8174a3a714bbda95b620867e30c97": {
      "model_module": "@jupyter-widgets/controls",
      "model_module_version": "1.1.0",
      "model_name": "DescriptionStyleModel",
      "state": {
       "description_width": ""
      }
     },
     "6bbd384fbfe648a68d8e73cde9bacc5e": {
      "model_module": "@jupyter-widgets/controls",
      "model_module_version": "1.1.0",
      "model_name": "CheckboxModel",
      "state": {
       "description": "30°",
       "disabled": false,
       "layout": "IPY_MODEL_134bc7054b404937bd3736cbe91e7b67",
       "style": "IPY_MODEL_594d7f47aa2f4f3590683c7b2106522b",
       "value": true
      }
     },
     "6be0765a7f13412395f9dd9107685df5": {
      "model_module": "@jupyter-widgets/controls",
      "model_module_version": "1.1.0",
      "model_name": "CheckboxModel",
      "state": {
       "description": "80°",
       "disabled": false,
       "layout": "IPY_MODEL_b256a51a15734075b996a26f220eea7f",
       "style": "IPY_MODEL_3f9b30d802344f01a03d47bc911046d3",
       "value": true
      }
     },
     "6c11b79834094d31b0aff5194582caaf": {
      "model_module": "@jupyter-widgets/controls",
      "model_module_version": "1.1.0",
      "model_name": "CheckboxModel",
      "state": {
       "description": "135°",
       "disabled": false,
       "layout": "IPY_MODEL_64cddb3db5b6461d93882d622d7c74e2",
       "style": "IPY_MODEL_e7d5c0076bce489bb6ca680b9c77e9fb",
       "value": true
      }
     },
     "6c469ab7f87b44daa771ff9fc23ee140": {
      "model_module": "@jupyter-widgets/controls",
      "model_module_version": "1.1.0",
      "model_name": "LabelModel",
      "state": {
       "layout": "IPY_MODEL_b8dff6def2614a08a4261fa0559edf8f",
       "style": "IPY_MODEL_7b785eb9dea24458a4d1ac57bbfbe2fc",
       "value": "Select the detector angles to plot."
      }
     },
     "6c5ed0a01f1f418aba1e82fb20332402": {
      "model_module": "@jupyter-widgets/controls",
      "model_module_version": "1.1.0",
      "model_name": "DescriptionStyleModel",
      "state": {
       "description_width": ""
      }
     },
     "6c8998b14930415993effbd41bcf876c": {
      "model_module": "@jupyter-widgets/controls",
      "model_module_version": "1.1.0",
      "model_name": "ToggleButtonsModel",
      "state": {
       "_options_labels": [
        "400 MeV",
        "800 MeV",
        "2500 MeV"
       ],
       "button_style": "",
       "description": "Energy:",
       "icons": [],
       "index": 0,
       "layout": "IPY_MODEL_e8b1430b7a3246b5962a8ec757207553",
       "style": "IPY_MODEL_243c9ba949cf4de2bb60bac6e9decc8d",
       "tooltips": [
        "lowest energy",
        "middle energy",
        "highest energy"
       ]
      }
     },
     "6d7e8177703e4fc78b5724bb7c5f39e9": {
      "model_module": "@jupyter-widgets/base",
      "model_module_version": "1.0.0",
      "model_name": "LayoutModel",
      "state": {}
     },
     "6d7ee98cf6a1461ba5df20b026c4f1d4": {
      "model_module": "@jupyter-widgets/controls",
      "model_module_version": "1.1.0",
      "model_name": "DescriptionStyleModel",
      "state": {
       "description_width": ""
      }
     },
     "6d95059981624950879bdfebbe0d9296": {
      "model_module": "@jupyter-widgets/base",
      "model_module_version": "1.0.0",
      "model_name": "LayoutModel",
      "state": {}
     },
     "6db02d35a9c74e88ba5a58093a39757d": {
      "model_module": "@jupyter-widgets/controls",
      "model_module_version": "1.1.0",
      "model_name": "ToggleButtonsStyleModel",
      "state": {
       "button_width": "",
       "description_width": ""
      }
     },
     "6dc1d2dba536489e85ba12120a94c707": {
      "model_module": "@jupyter-widgets/base",
      "model_module_version": "1.0.0",
      "model_name": "LayoutModel",
      "state": {}
     },
     "6e2dd0d385234c758577ccd5cbbbcad0": {
      "model_module": "@jupyter-widgets/controls",
      "model_module_version": "1.1.0",
      "model_name": "DescriptionStyleModel",
      "state": {
       "description_width": ""
      }
     },
     "6e5bfcd185424475abd072f9ff0da8ef": {
      "model_module": "@jupyter-widgets/base",
      "model_module_version": "1.0.0",
      "model_name": "LayoutModel",
      "state": {}
     },
     "6e5f793677974678bc6e7082c99effcc": {
      "model_module": "@jupyter-widgets/controls",
      "model_module_version": "1.1.0",
      "model_name": "DescriptionStyleModel",
      "state": {
       "description_width": ""
      }
     },
     "6e95f3508fc4499f871042d4040bd640": {
      "model_module": "@jupyter-widgets/controls",
      "model_module_version": "1.1.0",
      "model_name": "DescriptionStyleModel",
      "state": {
       "description_width": ""
      }
     },
     "6e9bce0cd9c54094b088b7a7566773dd": {
      "model_module": "@jupyter-widgets/controls",
      "model_module_version": "1.1.0",
      "model_name": "DescriptionStyleModel",
      "state": {
       "description_width": ""
      }
     },
     "6e9fcd4b109c4f9bacdca54b688ff986": {
      "model_module": "@jupyter-widgets/controls",
      "model_module_version": "1.1.0",
      "model_name": "ToggleButtonsModel",
      "state": {
       "_options_labels": [
        "N (¹n)",
        "NDC (¹n)",
        "P (¹H)",
        "D (²H)"
       ],
       "button_style": "",
       "description": "Type:",
       "icons": [],
       "index": 0,
       "layout": "IPY_MODEL_5683570204824c2babd1bd671d01df2d",
       "style": "IPY_MODEL_c01c78719669455786f6a3d7f97a34f2",
       "tooltips": [
        "Neutron",
        "Back Target Neutron",
        "Proton",
        "Deuteron"
       ]
      }
     },
     "6eadeeb6bf074b6d8e522423bb2b05e9": {
      "model_module": "@jupyter-widgets/controls",
      "model_module_version": "1.1.0",
      "model_name": "ToggleButtonsModel",
      "state": {
       "_options_labels": [
        "N (¹n)",
        "NDC (¹n)",
        "P (¹H)",
        "D (²H)",
        "T (³H)",
        "S (³He)",
        "A (⁴He)"
       ],
       "button_style": "",
       "description": "Type:",
       "icons": [],
       "index": 0,
       "layout": "IPY_MODEL_c028581d290146adb6944ce81d6a8445",
       "style": "IPY_MODEL_081eed35ebd6477f95c3abb50281bf35",
       "tooltips": [
        "Neutron",
        "Back Target Neutron",
        "Proton",
        "Deuteron",
        "Triton",
        "Helium-3",
        "Helium-4"
       ]
      }
     },
     "6edb3e911d44441787d5be281679c7dd": {
      "model_module": "@jupyter-widgets/controls",
      "model_module_version": "1.1.0",
      "model_name": "ToggleButtonsStyleModel",
      "state": {
       "button_width": "",
       "description_width": ""
      }
     },
     "6efc4b6151e242caaa8ab52d50bd5997": {
      "model_module": "@jupyter-widgets/controls",
      "model_module_version": "1.1.0",
      "model_name": "ToggleButtonsStyleModel",
      "state": {
       "button_width": "",
       "description_width": ""
      }
     },
     "6f28b70a460e4dcc975c5927eef6500a": {
      "model_module": "@jupyter-widgets/controls",
      "model_module_version": "1.1.0",
      "model_name": "ToggleButtonsModel",
      "state": {
       "_options_labels": [
        "P (¹H)",
        "D (²H)",
        "T (³H)",
        "A (⁴He)"
       ],
       "button_style": "",
       "description": "Particle:",
       "icons": [],
       "index": 0,
       "layout": "IPY_MODEL_c0590248ff2b4526bf62006198a16f0e",
       "style": "IPY_MODEL_3189369a0cac44e0a6e3b6b6d8657f93",
       "tooltips": [
        "Proton",
        "Deuteron",
        "Triton",
        "Helium-4"
       ]
      }
     },
     "6f9154ad8ff347fd89ceb3941d61b861": {
      "model_module": "@jupyter-widgets/controls",
      "model_module_version": "1.1.0",
      "model_name": "CheckboxModel",
      "state": {
       "description": "30°",
       "disabled": false,
       "layout": "IPY_MODEL_31903ee12cc046d4a5f3c48980d03de8",
       "style": "IPY_MODEL_a6823a7ff4d644898a0521a67008d5ad",
       "value": true
      }
     },
     "6fb95e2154dd4900892693eac880a9bb": {
      "model_module": "@jupyter-widgets/base",
      "model_module_version": "1.0.0",
      "model_name": "LayoutModel",
      "state": {}
     },
     "701d737cb8f8401b810a0390210365f7": {
      "model_module": "@jupyter-widgets/base",
      "model_module_version": "1.0.0",
      "model_name": "LayoutModel",
      "state": {}
     },
     "703e3e569ff1498cb980c4dc4e985884": {
      "model_module": "@jupyter-widgets/base",
      "model_module_version": "1.0.0",
      "model_name": "LayoutModel",
      "state": {}
     },
     "708e8d7a766147bbbdf1d488d6ce12fb": {
      "model_module": "@jupyter-widgets/controls",
      "model_module_version": "1.1.0",
      "model_name": "DescriptionStyleModel",
      "state": {
       "description_width": ""
      }
     },
     "70b824cba41340ed8e61ad5455714f59": {
      "model_module": "@jupyter-widgets/controls",
      "model_module_version": "1.1.0",
      "model_name": "CheckboxModel",
      "state": {
       "description": "30°",
       "disabled": false,
       "layout": "IPY_MODEL_18863704081745a6b44ce17d97071696",
       "style": "IPY_MODEL_4624e853dfd54f939381d2e27047bb61",
       "value": true
      }
     },
     "71058c791b4b4cf791c34492ca167eab": {
      "model_module": "@jupyter-widgets/base",
      "model_module_version": "1.0.0",
      "model_name": "LayoutModel",
      "state": {}
     },
     "71423ab69d8f4d27974054ce91340404": {
      "model_module": "@jupyter-widgets/base",
      "model_module_version": "1.0.0",
      "model_name": "LayoutModel",
      "state": {}
     },
     "714e01f090034d61970e171f2b8e9078": {
      "model_module": "@jupyter-widgets/base",
      "model_module_version": "1.0.0",
      "model_name": "LayoutModel",
      "state": {}
     },
     "7152837967fc4c21933fab6a2245e295": {
      "model_module": "@jupyter-widgets/controls",
      "model_module_version": "1.1.0",
      "model_name": "CheckboxModel",
      "state": {
       "description": "60°",
       "disabled": false,
       "layout": "IPY_MODEL_b67cce65aca44fba99692642db417b07",
       "style": "IPY_MODEL_88b9e2d96d2b4c85b34b1b94c3341b79",
       "value": false
      }
     },
     "71683c8b18754c3b99996c8c2f587ece": {
      "model_module": "@jupyter-widgets/base",
      "model_module_version": "1.0.0",
      "model_name": "LayoutModel",
      "state": {}
     },
     "71895eaff71248569ce5c5c2395d428a": {
      "model_module": "@jupyter-widgets/controls",
      "model_module_version": "1.1.0",
      "model_name": "LabelModel",
      "state": {
       "layout": "IPY_MODEL_dacecf3f41d744dca9a326df46e03dc7",
       "style": "IPY_MODEL_782f8c48e0e94ab9987ffa22d3cd04eb",
       "value": "Select the detector angles to plot."
      }
     },
     "719506c3b9ad4f68ac43df3344c0f784": {
      "model_module": "@jupyter-widgets/controls",
      "model_module_version": "1.1.0",
      "model_name": "LabelModel",
      "state": {
       "layout": "IPY_MODEL_7de9b198346d4da2990ea6970b256c36",
       "style": "IPY_MODEL_de136a4347eb43718c46e90b77ba4eae",
       "value": "Select the detector angles to plot."
      }
     },
     "719a392596f7403392909a78c79f6fd3": {
      "model_module": "@jupyter-widgets/controls",
      "model_module_version": "1.1.0",
      "model_name": "CheckboxModel",
      "state": {
       "description": "7.2°",
       "disabled": false,
       "layout": "IPY_MODEL_dcd4ce5edb6c44989f20208388f10188",
       "style": "IPY_MODEL_28216aa714064d369f4eb48ecb4ef60f",
       "value": true
      }
     },
     "71a09e2397ff40e9a0688a8973dcf554": {
      "model_module": "@jupyter-widgets/base",
      "model_module_version": "1.0.0",
      "model_name": "LayoutModel",
      "state": {}
     },
     "71b7722d056a4b0f8361f2d9d50b1a9f": {
      "model_module": "@jupyter-widgets/base",
      "model_module_version": "1.0.0",
      "model_name": "LayoutModel",
      "state": {}
     },
     "71cef8f8d16d42af89b020492cc909ca": {
      "model_module": "@jupyter-widgets/controls",
      "model_module_version": "1.1.0",
      "model_name": "CheckboxModel",
      "state": {
       "description": "10°",
       "disabled": false,
       "layout": "IPY_MODEL_77e5cab77d8e412a837ede5657f7cae9",
       "style": "IPY_MODEL_ca45354f50c94677a51e2632ed6da418",
       "value": true
      }
     },
     "71ff93e143924a6cb887239f81683955": {
      "model_module": "@jupyter-widgets/controls",
      "model_module_version": "1.1.0",
      "model_name": "CheckboxModel",
      "state": {
       "description": "45°",
       "disabled": false,
       "layout": "IPY_MODEL_11aea78791f04ca6adbc4af597e72e71",
       "style": "IPY_MODEL_462a79a9036144b8b3fe19cdc55eee8c",
       "value": true
      }
     },
     "7226f67f91d7466385caf9785e71e0e7": {
      "model_module": "@jupyter-widgets/base",
      "model_module_version": "1.0.0",
      "model_name": "LayoutModel",
      "state": {}
     },
     "7266346fb06e49e89e893c7ad7383d17": {
      "model_module": "@jupyter-widgets/base",
      "model_module_version": "1.0.0",
      "model_name": "LayoutModel",
      "state": {}
     },
     "7267e33edf104e3d9d14f08c8907cb54": {
      "model_module": "@jupyter-widgets/controls",
      "model_module_version": "1.1.0",
      "model_name": "ToggleButtonsModel",
      "state": {
       "_options_labels": [
        "N (¹n)",
        "NDC (¹n)",
        "P (¹H)",
        "D (²H)",
        "T (³H)",
        "S (³He)",
        "A (⁴He)"
       ],
       "button_style": "",
       "description": "Type:",
       "icons": [],
       "index": 3,
       "layout": "IPY_MODEL_3c09a4f787f24fb882051c5bbbc36f4a",
       "style": "IPY_MODEL_4ef169f780f5492d945394689c66c0f3",
       "tooltips": [
        "Neutron",
        "Back Target Neutron",
        "Proton",
        "Deuteron",
        "Triton",
        "Helium-3",
        "Helium-4"
       ]
      }
     },
     "7269c215af174c58ad8c5c71aa27e07a": {
      "model_module": "@jupyter-widgets/controls",
      "model_module_version": "1.1.0",
      "model_name": "ToggleButtonsStyleModel",
      "state": {
       "button_width": "",
       "description_width": ""
      }
     },
     "72730742a22448ee8cf55b8b6858e93c": {
      "model_module": "@jupyter-widgets/controls",
      "model_module_version": "1.1.0",
      "model_name": "CheckboxModel",
      "state": {
       "description": "135°",
       "disabled": false,
       "layout": "IPY_MODEL_d89d57eeb9ee413baad1cb61dc3a999b",
       "style": "IPY_MODEL_88cc195b5f6e4901bf6a0871b8ac57ab",
       "value": true
      }
     },
     "727e71bf8dd74063b25c39b8c26aab20": {
      "model_module": "@jupyter-widgets/controls",
      "model_module_version": "1.1.0",
      "model_name": "CheckboxModel",
      "state": {
       "description": "32.7°",
       "disabled": false,
       "layout": "IPY_MODEL_02f0fec9ce024a018ce95422f807e9d9",
       "style": "IPY_MODEL_6669aa29ed0549aca74d7019dc6c0e5f",
       "value": false
      }
     },
     "72d50bc804df4ca38022315156eda644": {
      "model_module": "@jupyter-widgets/controls",
      "model_module_version": "1.1.0",
      "model_name": "DescriptionStyleModel",
      "state": {
       "description_width": ""
      }
     },
     "72e45cb336a54312a1aeef5f4c881553": {
      "model_module": "@jupyter-widgets/controls",
      "model_module_version": "1.1.0",
      "model_name": "DescriptionStyleModel",
      "state": {
       "description_width": ""
      }
     },
     "72e9a796ad4b465882749d9c1f88720d": {
      "model_module": "@jupyter-widgets/base",
      "model_module_version": "1.0.0",
      "model_name": "LayoutModel",
      "state": {}
     },
     "72fe73391da34aa7b16dcf466b9d7dcc": {
      "model_module": "@jupyter-widgets/base",
      "model_module_version": "1.0.0",
      "model_name": "LayoutModel",
      "state": {}
     },
     "73138b754209406a8c76f8b0357ac687": {
      "model_module": "@jupyter-widgets/controls",
      "model_module_version": "1.1.0",
      "model_name": "DescriptionStyleModel",
      "state": {
       "description_width": ""
      }
     },
     "7356676fed21406e8f081dbe6e0a505a": {
      "model_module": "@jupyter-widgets/controls",
      "model_module_version": "1.1.0",
      "model_name": "ButtonStyleModel",
      "state": {}
     },
     "7361620793a041eb83e6cebabb392c82": {
      "model_module": "@jupyter-widgets/base",
      "model_module_version": "1.0.0",
      "model_name": "LayoutModel",
      "state": {}
     },
     "73ade60795d64355b51bcedccc4f3f2c": {
      "model_module": "@jupyter-widgets/controls",
      "model_module_version": "1.1.0",
      "model_name": "DescriptionStyleModel",
      "state": {
       "description_width": ""
      }
     },
     "73b7636d409349d39069f1f9c4c8bf66": {
      "model_module": "@jupyter-widgets/controls",
      "model_module_version": "1.1.0",
      "model_name": "CheckboxModel",
      "state": {
       "description": "7.2°",
       "disabled": false,
       "layout": "IPY_MODEL_55ee168d048141bda5ad42eb6648dab2",
       "style": "IPY_MODEL_c3a04ceeb2e74e89bb7895f0f5657097",
       "value": true
      }
     },
     "73e20f453cf440ec997671f6f69ed6e9": {
      "model_module": "@jupyter-widgets/controls",
      "model_module_version": "1.1.0",
      "model_name": "ToggleButtonsModel",
      "state": {
       "_options_labels": [
        "400 MeV/n",
        "800 MeV/n",
        "1500 MeV/n"
       ],
       "button_style": "",
       "description": "Energy:",
       "icons": [],
       "index": 1,
       "layout": "IPY_MODEL_7b02a5288922431db259df2fe6b48f66",
       "style": "IPY_MODEL_2df331ed0947481499b39951a8f811cd",
       "tooltips": [
        "lowest energy",
        "middle energy",
        "highest energy"
       ]
      }
     },
     "740b6967cafc441d9d1016cb0a8da55f": {
      "model_module": "@jupyter-widgets/controls",
      "model_module_version": "1.1.0",
      "model_name": "ToggleButtonsModel",
      "state": {
       "_options_labels": [
        "400 MeV/n",
        "800 MeV/n",
        "1500 MeV/n"
       ],
       "button_style": "",
       "description": "Energy:",
       "icons": [],
       "index": 0,
       "layout": "IPY_MODEL_f6398df354bc4679b689033928f3f329",
       "style": "IPY_MODEL_d552c1b61ca04e5a85526db6807b5d18",
       "tooltips": [
        "lowest energy",
        "middle energy",
        "highest energy"
       ]
      }
     },
     "7459268c60e14cee93a95a83bb9c62cd": {
      "model_module": "@jupyter-widgets/controls",
      "model_module_version": "1.1.0",
      "model_name": "DescriptionStyleModel",
      "state": {
       "description_width": ""
      }
     },
     "74a62dfbb06d4bb8a6ba3f1404f53361": {
      "model_module": "@jupyter-widgets/controls",
      "model_module_version": "1.1.0",
      "model_name": "CheckboxModel",
      "state": {
       "description": "80°",
       "disabled": false,
       "layout": "IPY_MODEL_28c3fe0386cf482fae9099e6ae852596",
       "style": "IPY_MODEL_b3311dbc66674b6daaee1b5cd76ce614",
       "value": true
      }
     },
     "74afdf280b99481c91ec8638fcafbb6c": {
      "model_module": "@jupyter-widgets/controls",
      "model_module_version": "1.1.0",
      "model_name": "DescriptionStyleModel",
      "state": {
       "description_width": ""
      }
     },
     "74b6b5d9bd6f4001bb6cff315454d14d": {
      "model_module": "@jupyter-widgets/controls",
      "model_module_version": "1.1.0",
      "model_name": "LabelModel",
      "state": {
       "layout": "IPY_MODEL_824e7021966a43c2bf175463c7dccf1a",
       "style": "IPY_MODEL_2f0f1b0111db437d8dc6c27d468e6a66",
       "value": "Select which secondary particle to plot spectra for."
      }
     },
     "74e3d297a3dd4837a6940d54ccb2fc04": {
      "model_module": "@jupyter-widgets/controls",
      "model_module_version": "1.1.0",
      "model_name": "DescriptionStyleModel",
      "state": {
       "description_width": ""
      }
     },
     "74ea0dc61073468e9e0226a6ea33f180": {
      "model_module": "@jupyter-widgets/base",
      "model_module_version": "1.0.0",
      "model_name": "LayoutModel",
      "state": {}
     },
     "752f436956fe47a4adbe7186aead7787": {
      "model_module": "@jupyter-widgets/controls",
      "model_module_version": "1.1.0",
      "model_name": "DescriptionStyleModel",
      "state": {
       "description_width": ""
      }
     },
     "75647d063fd343279bf2691272c87b29": {
      "model_module": "@jupyter-widgets/base",
      "model_module_version": "1.0.0",
      "model_name": "LayoutModel",
      "state": {}
     },
     "75704df72b5f482e83d8caa24c07eb4a": {
      "model_module": "@jupyter-widgets/controls",
      "model_module_version": "1.1.0",
      "model_name": "DescriptionStyleModel",
      "state": {
       "description_width": ""
      }
     },
     "75a30c3beb1940bf992f9033eee96e34": {
      "model_module": "@jupyter-widgets/controls",
      "model_module_version": "1.1.0",
      "model_name": "DescriptionStyleModel",
      "state": {
       "description_width": ""
      }
     },
     "75b462689dd34b93816d80b241ce3836": {
      "model_module": "@jupyter-widgets/controls",
      "model_module_version": "1.1.0",
      "model_name": "DescriptionStyleModel",
      "state": {
       "description_width": ""
      }
     },
     "75c02e8a80754bd2b432497f85d747be": {
      "model_module": "@jupyter-widgets/base",
      "model_module_version": "1.0.0",
      "model_name": "LayoutModel",
      "state": {}
     },
     "75cf49c4dab14f3b84f7207de3fb21cd": {
      "model_module": "@jupyter-widgets/controls",
      "model_module_version": "1.1.0",
      "model_name": "CheckboxModel",
      "state": {
       "description": "10°",
       "disabled": false,
       "layout": "IPY_MODEL_11f48d37a535475ca688e0905db3162f",
       "style": "IPY_MODEL_72d50bc804df4ca38022315156eda644",
       "value": true
      }
     },
     "75d2183c47ac4eb8a8ab256a36a9db1d": {
      "model_module": "@jupyter-widgets/controls",
      "model_module_version": "1.1.0",
      "model_name": "DescriptionStyleModel",
      "state": {
       "description_width": ""
      }
     },
     "763c51d9be4c4ae09c6185e631146395": {
      "model_module": "@jupyter-widgets/controls",
      "model_module_version": "1.1.0",
      "model_name": "LabelModel",
      "state": {
       "layout": "IPY_MODEL_1c014d4e1a954966b4781964ef79ab9d",
       "style": "IPY_MODEL_197075fb586e4734965179c897e4f958",
       "value": "Select a detector type."
      }
     },
     "7685285fbaaa496d82510a494b9d0a08": {
      "model_module": "@jupyter-widgets/controls",
      "model_module_version": "1.1.0",
      "model_name": "LabelModel",
      "state": {
       "layout": "IPY_MODEL_116ac127c33a4645b99fbacd4acffcea",
       "style": "IPY_MODEL_b453f597f5f747879bbb7e51d7941077",
       "value": "Select the detector angles to plot."
      }
     },
     "76ae31eb7d5640b8875c43b23fa9160d": {
      "model_module": "@jupyter-widgets/controls",
      "model_module_version": "1.1.0",
      "model_name": "CheckboxModel",
      "state": {
       "description": "135°",
       "disabled": false,
       "layout": "IPY_MODEL_8822a20bc3f94d66ab0dbfabcd77d959",
       "style": "IPY_MODEL_73ade60795d64355b51bcedccc4f3f2c",
       "value": true
      }
     },
     "76dd25d0d7e1441183913f076f0b20a8": {
      "model_module": "@jupyter-widgets/controls",
      "model_module_version": "1.1.0",
      "model_name": "ToggleButtonsModel",
      "state": {
       "_options_labels": [
        "N (¹n)",
        "NDC (¹n)",
        "P (¹H)",
        "D (²H)",
        "T (³H)",
        "S (³He)",
        "A (⁴He)"
       ],
       "button_style": "",
       "description": "Type:",
       "icons": [],
       "index": 0,
       "layout": "IPY_MODEL_a01d9af1cbfb457ca40b4d16191dd9f8",
       "style": "IPY_MODEL_a73ea27787e845ec9d670ffc57d5fe34",
       "tooltips": [
        "Neutron",
        "Back Target Neutron",
        "Proton",
        "Deuteron",
        "Triton",
        "Helium-3",
        "Helium-4"
       ]
      }
     },
     "770ceff503154f0a865b91c4c5f39af8": {
      "model_module": "@jupyter-widgets/base",
      "model_module_version": "1.0.0",
      "model_name": "LayoutModel",
      "state": {}
     },
     "772e5375e9884cc59b06095fd14fa29c": {
      "model_module": "@jupyter-widgets/controls",
      "model_module_version": "1.1.0",
      "model_name": "DescriptionStyleModel",
      "state": {
       "description_width": ""
      }
     },
     "77325e05ad2b433c87a9d5728f7d5981": {
      "model_module": "@jupyter-widgets/base",
      "model_module_version": "1.0.0",
      "model_name": "LayoutModel",
      "state": {}
     },
     "77792603d0cb409aa6a765665db2f609": {
      "model_module": "@jupyter-widgets/controls",
      "model_module_version": "1.1.0",
      "model_name": "CheckboxModel",
      "state": {
       "description": "135°",
       "disabled": false,
       "layout": "IPY_MODEL_7edd62daaafc4fde86cd3bd06b52ead0",
       "style": "IPY_MODEL_486a85212fc74b3c976559e6f202904e",
       "value": true
      }
     },
     "777b6c6ba30941cba126cc00438dd02d": {
      "model_module": "@jupyter-widgets/controls",
      "model_module_version": "1.1.0",
      "model_name": "CheckboxModel",
      "state": {
       "description": "45°",
       "disabled": false,
       "layout": "IPY_MODEL_f7f38f23b33c4fc9bedd89b58ecf6c4c",
       "style": "IPY_MODEL_592d2c0aa7504792bede385126d23000",
       "value": false
      }
     },
     "77a5fc8d2bb44899b412f27dbfc2d0b2": {
      "model_module": "@jupyter-widgets/controls",
      "model_module_version": "1.1.0",
      "model_name": "CheckboxModel",
      "state": {
       "description": "45°",
       "disabled": false,
       "layout": "IPY_MODEL_1954fcd499e84497b4865b733f2fe9a4",
       "style": "IPY_MODEL_b8c1fc0e080f4c32b4e9b22cf32efc54",
       "value": true
      }
     },
     "77df7263787a480793999b2d1bfbd4c8": {
      "model_module": "@jupyter-widgets/controls",
      "model_module_version": "1.1.0",
      "model_name": "DescriptionStyleModel",
      "state": {
       "description_width": ""
      }
     },
     "77e5cab77d8e412a837ede5657f7cae9": {
      "model_module": "@jupyter-widgets/base",
      "model_module_version": "1.0.0",
      "model_name": "LayoutModel",
      "state": {}
     },
     "77f0a240fb514069b6c89a150a7abac9": {
      "model_module": "@jupyter-widgets/controls",
      "model_module_version": "1.1.0",
      "model_name": "ToggleButtonsStyleModel",
      "state": {
       "button_width": "",
       "description_width": ""
      }
     },
     "781aaddf039d4c1fb96c9e97b02b4a98": {
      "model_module": "@jupyter-widgets/controls",
      "model_module_version": "1.1.0",
      "model_name": "LabelModel",
      "state": {
       "layout": "IPY_MODEL_ab51b1419f7546d9adedc7d98370b3be",
       "style": "IPY_MODEL_ac9577885a6643f3acdf6df98032a935",
       "value": "Select which secondary particle to plot spectra for."
      }
     },
     "782b9bfbb81b460284294695228ba7de": {
      "model_module": "@jupyter-widgets/controls",
      "model_module_version": "1.1.0",
      "model_name": "DescriptionStyleModel",
      "state": {
       "description_width": ""
      }
     },
     "782f50c4fba44e5797352f1f889b2404": {
      "model_module": "@jupyter-widgets/controls",
      "model_module_version": "1.1.0",
      "model_name": "CheckboxModel",
      "state": {
       "description": "30°",
       "disabled": false,
       "layout": "IPY_MODEL_90d0ad0b2cd144658a89409c7d844d9d",
       "style": "IPY_MODEL_d3c2d5b482364a8388e43e20541a6253",
       "value": true
      }
     },
     "782f8c48e0e94ab9987ffa22d3cd04eb": {
      "model_module": "@jupyter-widgets/controls",
      "model_module_version": "1.1.0",
      "model_name": "DescriptionStyleModel",
      "state": {
       "description_width": ""
      }
     },
     "785390cd756d49a19e9964c3010cb559": {
      "model_module": "@jupyter-widgets/base",
      "model_module_version": "1.0.0",
      "model_name": "LayoutModel",
      "state": {}
     },
     "7875ecdeb20f48b79e1db2aab5fe21d6": {
      "model_module": "@jupyter-widgets/controls",
      "model_module_version": "1.1.0",
      "model_name": "ToggleButtonsModel",
      "state": {
       "_options_labels": [
        "N (¹n)",
        "NDC (¹n)",
        "P (¹H)",
        "D (²H)",
        "T (³H)",
        "S (³He)",
        "A (⁴He)"
       ],
       "button_style": "",
       "description": "Particle:",
       "icons": [],
       "index": 1,
       "layout": "IPY_MODEL_b7d90552fa1a42b7b0e7aee76ca65e5f",
       "style": "IPY_MODEL_18ec9503a0314fdfb4fd82944a091077",
       "tooltips": [
        "Neutron",
        "Back Target Neutron",
        "Proton",
        "Deuteron",
        "Triton",
        "Helium-3",
        "Helium-4"
       ]
      }
     },
     "790ea7929fa54d4992b2693b6c88b714": {
      "model_module": "@jupyter-widgets/controls",
      "model_module_version": "1.1.0",
      "model_name": "LabelModel",
      "state": {
       "layout": "IPY_MODEL_9eba4cf6274048188693b18ae48e4e52",
       "style": "IPY_MODEL_deef3cc23c9e47b1a27184acabc313ff",
       "value": "Select which secondary particle to plot spectra for."
      }
     },
     "7a207b3f9e534394bfd8e158d669b063": {
      "model_module": "@jupyter-widgets/base",
      "model_module_version": "1.0.0",
      "model_name": "LayoutModel",
      "state": {}
     },
     "7a2ce427dc1c456da7309111a2b59ea4": {
      "model_module": "@jupyter-widgets/controls",
      "model_module_version": "1.1.0",
      "model_name": "LabelModel",
      "state": {
       "layout": "IPY_MODEL_daa1eb14b20f48a5a9aba4450376ed13",
       "style": "IPY_MODEL_caa204e113d1449080e1c516dedcc235",
       "value": "Select which secondary particle to plot spectra for."
      }
     },
     "7a41df7279be47f19ff549ed07da1077": {
      "model_module": "@jupyter-widgets/controls",
      "model_module_version": "1.1.0",
      "model_name": "DescriptionStyleModel",
      "state": {
       "description_width": ""
      }
     },
     "7a606f3c1ab14cb9839909e63914dd28": {
      "model_module": "@jupyter-widgets/base",
      "model_module_version": "1.0.0",
      "model_name": "LayoutModel",
      "state": {}
     },
     "7a60d2682c3349b0b202edf010c6c96c": {
      "model_module": "@jupyter-widgets/base",
      "model_module_version": "1.0.0",
      "model_name": "LayoutModel",
      "state": {}
     },
     "7a7ba5dbc4044b0fa55b390b45f1c3b3": {
      "model_module": "@jupyter-widgets/controls",
      "model_module_version": "1.1.0",
      "model_name": "DescriptionStyleModel",
      "state": {
       "description_width": ""
      }
     },
     "7ac59b7eca6641c8bcb498673e9b27bd": {
      "model_module": "@jupyter-widgets/base",
      "model_module_version": "1.0.0",
      "model_name": "LayoutModel",
      "state": {}
     },
     "7adde8f3afc7478e95f52a5ba89da941": {
      "model_module": "@jupyter-widgets/controls",
      "model_module_version": "1.1.0",
      "model_name": "DescriptionStyleModel",
      "state": {
       "description_width": ""
      }
     },
     "7af51936891d4c43b32e0c844abbed7b": {
      "model_module": "@jupyter-widgets/controls",
      "model_module_version": "1.1.0",
      "model_name": "LabelModel",
      "state": {
       "layout": "IPY_MODEL_52c16dd828a84e3c93385fd475420794",
       "style": "IPY_MODEL_a6e4e615cf024c96b0b19a74e84d6cef",
       "value": "Select which secondary particle to plot spectra for."
      }
     },
     "7b02a5288922431db259df2fe6b48f66": {
      "model_module": "@jupyter-widgets/base",
      "model_module_version": "1.0.0",
      "model_name": "LayoutModel",
      "state": {}
     },
     "7b0520fc4f674c48beda1fd2174f737c": {
      "model_module": "@jupyter-widgets/controls",
      "model_module_version": "1.1.0",
      "model_name": "DescriptionStyleModel",
      "state": {
       "description_width": ""
      }
     },
     "7b3e842f80114890b82b120bf12a2673": {
      "model_module": "@jupyter-widgets/controls",
      "model_module_version": "1.1.0",
      "model_name": "DescriptionStyleModel",
      "state": {
       "description_width": ""
      }
     },
     "7b49faf0031b4bbd8bcfec5944e74490": {
      "model_module": "@jupyter-widgets/controls",
      "model_module_version": "1.1.0",
      "model_name": "DescriptionStyleModel",
      "state": {
       "description_width": ""
      }
     },
     "7b785eb9dea24458a4d1ac57bbfbe2fc": {
      "model_module": "@jupyter-widgets/controls",
      "model_module_version": "1.1.0",
      "model_name": "DescriptionStyleModel",
      "state": {
       "description_width": ""
      }
     },
     "7bad699392d842d3b757e4dbfb597dc1": {
      "model_module": "@jupyter-widgets/controls",
      "model_module_version": "1.1.0",
      "model_name": "CheckboxModel",
      "state": {
       "description": "30°",
       "disabled": false,
       "layout": "IPY_MODEL_090598d5c0c24f1f90f63baa520df67a",
       "style": "IPY_MODEL_5f81c44e3d4f4848891cd99623046fe3",
       "value": true
      }
     },
     "7bc3fbb9ab3f45348de818119b4edb4a": {
      "model_module": "@jupyter-widgets/controls",
      "model_module_version": "1.1.0",
      "model_name": "DescriptionStyleModel",
      "state": {
       "description_width": ""
      }
     },
     "7bd08e09b235419884b9026c8318d57b": {
      "model_module": "@jupyter-widgets/base",
      "model_module_version": "1.0.0",
      "model_name": "LayoutModel",
      "state": {}
     },
     "7bd7ac599ac74a43b9d70028a1cfbf6b": {
      "model_module": "@jupyter-widgets/base",
      "model_module_version": "1.0.0",
      "model_name": "LayoutModel",
      "state": {}
     },
     "7c43f2d5b3524a36bebde9aaefaf52eb": {
      "model_module": "@jupyter-widgets/controls",
      "model_module_version": "1.1.0",
      "model_name": "CheckboxModel",
      "state": {
       "description": "80°",
       "disabled": false,
       "layout": "IPY_MODEL_d380f760dcf04c08bc4b7e227caf8416",
       "style": "IPY_MODEL_8ec9509eb399439fb841e212539d7916",
       "value": true
      }
     },
     "7c8840e84d034bf79f54e73f4acdb1c8": {
      "model_module": "@jupyter-widgets/controls",
      "model_module_version": "1.1.0",
      "model_name": "CheckboxModel",
      "state": {
       "description": "30°",
       "disabled": false,
       "layout": "IPY_MODEL_6043f70a44fd4a4ab3da05f2351f5d16",
       "style": "IPY_MODEL_782b9bfbb81b460284294695228ba7de",
       "value": true
      }
     },
     "7cb91ccf4d284053ad9237a1ec68b134": {
      "model_module": "@jupyter-widgets/controls",
      "model_module_version": "1.1.0",
      "model_name": "LabelModel",
      "state": {
       "layout": "IPY_MODEL_b34c0b45a9364bf4a77dbe00b1b856bf",
       "style": "IPY_MODEL_10b4f99509df485689b185a6e77913a5",
       "value": "Select the detector angles to plot."
      }
     },
     "7cebe4c1a6574ff6880871b9e8a9045c": {
      "model_module": "@jupyter-widgets/controls",
      "model_module_version": "1.1.0",
      "model_name": "ToggleButtonsModel",
      "state": {
       "_options_labels": [
        "400 MeV",
        "800 MeV",
        "2500 MeV"
       ],
       "button_style": "",
       "description": "Energy:",
       "icons": [],
       "index": 0,
       "layout": "IPY_MODEL_f3b020ca5d8f4d98bd0f82640535936e",
       "style": "IPY_MODEL_ab08f3b531ee4b92bbbe6ee1c754c252",
       "tooltips": [
        "lowest energy",
        "middle energy",
        "highest energy"
       ]
      }
     },
     "7d315670ef4f4b77a3c4bdbb3d99313c": {
      "model_module": "@jupyter-widgets/controls",
      "model_module_version": "1.1.0",
      "model_name": "ToggleButtonsStyleModel",
      "state": {
       "button_width": "",
       "description_width": ""
      }
     },
     "7d5da29f61a44934bf2ea94bc7ee10bd": {
      "model_module": "@jupyter-widgets/controls",
      "model_module_version": "1.1.0",
      "model_name": "CheckboxModel",
      "state": {
       "description": "10°",
       "disabled": false,
       "layout": "IPY_MODEL_a08b30dbe8df48e1b9b7d32efe18f57e",
       "style": "IPY_MODEL_3057daa3aeee4dd19e0ef7f89f0cf16c",
       "value": true
      }
     },
     "7d80945944f749c38f55ca99a4d8e702": {
      "model_module": "@jupyter-widgets/controls",
      "model_module_version": "1.1.0",
      "model_name": "DescriptionStyleModel",
      "state": {
       "description_width": ""
      }
     },
     "7d96e7efeee54fd8a36c0a044393d5b5": {
      "model_module": "@jupyter-widgets/controls",
      "model_module_version": "1.1.0",
      "model_name": "DescriptionStyleModel",
      "state": {
       "description_width": ""
      }
     },
     "7db1c715c27c426f9a9b3a5820d79b0c": {
      "model_module": "@jupyter-widgets/base",
      "model_module_version": "1.0.0",
      "model_name": "LayoutModel",
      "state": {}
     },
     "7de9b198346d4da2990ea6970b256c36": {
      "model_module": "@jupyter-widgets/base",
      "model_module_version": "1.0.0",
      "model_name": "LayoutModel",
      "state": {}
     },
     "7df21e8d5f964ee6940895fc16107d6f": {
      "model_module": "@jupyter-widgets/base",
      "model_module_version": "1.0.0",
      "model_name": "LayoutModel",
      "state": {}
     },
     "7e2371361e60439b81f3c95a4c29b3b7": {
      "model_module": "@jupyter-widgets/controls",
      "model_module_version": "1.1.0",
      "model_name": "ToggleButtonsStyleModel",
      "state": {
       "button_width": "",
       "description_width": ""
      }
     },
     "7e75049786dd41599baa59cfbe1fc39b": {
      "model_module": "@jupyter-widgets/base",
      "model_module_version": "1.0.0",
      "model_name": "LayoutModel",
      "state": {}
     },
     "7e8f437c1a4f4cb2a43386174f683062": {
      "model_module": "@jupyter-widgets/controls",
      "model_module_version": "1.1.0",
      "model_name": "ButtonStyleModel",
      "state": {}
     },
     "7ea5137a008f4bbeb1cf1b1fb8b59231": {
      "model_module": "@jupyter-widgets/controls",
      "model_module_version": "1.1.0",
      "model_name": "LabelModel",
      "state": {
       "layout": "IPY_MODEL_0070d4f6780e40d6b962f1dfc9e13934",
       "style": "IPY_MODEL_bae7a6f7fe1a4131a2844ed828976a30",
       "value": "Select projectile ion energy."
      }
     },
     "7eb4d549ff354d1d97bf02337d3d4441": {
      "model_module": "@jupyter-widgets/base",
      "model_module_version": "1.0.0",
      "model_name": "LayoutModel",
      "state": {}
     },
     "7eb78729568f4494b7bae7e61224211a": {
      "model_module": "@jupyter-widgets/controls",
      "model_module_version": "1.1.0",
      "model_name": "DescriptionStyleModel",
      "state": {
       "description_width": ""
      }
     },
     "7ece3efc3e354dbfafc81f8f5768649d": {
      "model_module": "@jupyter-widgets/base",
      "model_module_version": "1.0.0",
      "model_name": "LayoutModel",
      "state": {}
     },
     "7ed71805849a4f218564899a9ad4f788": {
      "model_module": "@jupyter-widgets/base",
      "model_module_version": "1.0.0",
      "model_name": "LayoutModel",
      "state": {}
     },
     "7edd62daaafc4fde86cd3bd06b52ead0": {
      "model_module": "@jupyter-widgets/base",
      "model_module_version": "1.0.0",
      "model_name": "LayoutModel",
      "state": {}
     },
     "7f0241e1d61d443d945055442dd2c9ac": {
      "model_module": "@jupyter-widgets/controls",
      "model_module_version": "1.1.0",
      "model_name": "LabelModel",
      "state": {
       "layout": "IPY_MODEL_e5de52a649a44006a5e4cb9bac808b33",
       "style": "IPY_MODEL_114b096c8d2849e88380a0216538768e",
       "value": "Select which secondary particle to plot spectra for."
      }
     },
     "7f3291f11caf4a628d72ab41a793e5c1": {
      "model_module": "@jupyter-widgets/controls",
      "model_module_version": "1.1.0",
      "model_name": "CheckboxModel",
      "state": {
       "description": "45°",
       "disabled": false,
       "layout": "IPY_MODEL_db23ea9742d24a9eb53dca9df0670822",
       "style": "IPY_MODEL_cfd89952bf0f4bc58f55bb5e034a9751",
       "value": false
      }
     },
     "7f4e7685ff92449696edc9899475e79a": {
      "model_module": "@jupyter-widgets/controls",
      "model_module_version": "1.1.0",
      "model_name": "ToggleButtonsStyleModel",
      "state": {
       "button_width": "",
       "description_width": ""
      }
     },
     "7f6a97e5fbe24a3c9cbbb57009b519b5": {
      "model_module": "@jupyter-widgets/base",
      "model_module_version": "1.0.0",
      "model_name": "LayoutModel",
      "state": {}
     },
     "7fda445d7820403baadc8a73574b6efa": {
      "model_module": "@jupyter-widgets/controls",
      "model_module_version": "1.1.0",
      "model_name": "DescriptionStyleModel",
      "state": {
       "description_width": ""
      }
     },
     "7fe93f0e92f445f2b9eb26c37bb33e12": {
      "model_module": "@jupyter-widgets/controls",
      "model_module_version": "1.1.0",
      "model_name": "DescriptionStyleModel",
      "state": {
       "description_width": ""
      }
     },
     "7fee16546f4e4ce698bb3676bbfe16a6": {
      "model_module": "@jupyter-widgets/base",
      "model_module_version": "1.0.0",
      "model_name": "LayoutModel",
      "state": {}
     },
     "80283625d8bf4c69b8c889786437052f": {
      "model_module": "@jupyter-widgets/base",
      "model_module_version": "1.0.0",
      "model_name": "LayoutModel",
      "state": {}
     },
     "806a3c65ff964a2982d166fcff8bb411": {
      "model_module": "@jupyter-widgets/controls",
      "model_module_version": "1.1.0",
      "model_name": "ButtonStyleModel",
      "state": {}
     },
     "807ae0ee6a3e486aa3da11e93793c20d": {
      "model_module": "@jupyter-widgets/controls",
      "model_module_version": "1.1.0",
      "model_name": "ToggleButtonsModel",
      "state": {
       "_options_labels": [
        "400 MeV/n",
        "800 MeV/n",
        "1500 MeV/n"
       ],
       "button_style": "",
       "description": "Energy:",
       "icons": [],
       "index": 0,
       "layout": "IPY_MODEL_d37cc067f1304cf2bc31222f899ce506",
       "style": "IPY_MODEL_83ecc67c12c3465fb7265072610ef8c1",
       "tooltips": [
        "lowest energy",
        "middle energy",
        "highest energy"
       ]
      }
     },
     "81425f7945044f9dacb6d4144985be36": {
      "model_module": "@jupyter-widgets/base",
      "model_module_version": "1.0.0",
      "model_name": "LayoutModel",
      "state": {}
     },
     "8177f473e8f641b79269f0ae8dd689c0": {
      "model_module": "@jupyter-widgets/controls",
      "model_module_version": "1.1.0",
      "model_name": "LabelModel",
      "state": {
       "layout": "IPY_MODEL_cab1869c6d1a4ab0bb065fd99a0140ad",
       "style": "IPY_MODEL_604b16220d6048ea886bfe88261bdf85",
       "value": "Select the detector angles to plot."
      }
     },
     "818e25e4cb0b4fec929f25ceebdb701b": {
      "model_module": "@jupyter-widgets/controls",
      "model_module_version": "1.1.0",
      "model_name": "ToggleButtonsStyleModel",
      "state": {
       "button_width": "",
       "description_width": ""
      }
     },
     "81becc4e02154e5988583dc8e548ffe7": {
      "model_module": "@jupyter-widgets/controls",
      "model_module_version": "1.1.0",
      "model_name": "CheckboxModel",
      "state": {
       "description": "80°",
       "disabled": false,
       "layout": "IPY_MODEL_1bbba88cc5794cd1ad6b502097c723e9",
       "style": "IPY_MODEL_883d12cde93144b8aacc6b532828c93c",
       "value": true
      }
     },
     "81e8aa979cf448faa0b4652b1370aebf": {
      "model_module": "@jupyter-widgets/controls",
      "model_module_version": "1.1.0",
      "model_name": "LabelModel",
      "state": {
       "layout": "IPY_MODEL_44d3c41f87914e6faf2379147d847721",
       "style": "IPY_MODEL_ee9bc543bebf4a9d802fb91e73d1002f",
       "value": "Select the detector angles to plot."
      }
     },
     "820dfd5d872b4d25b9c5ff1f806a7c09": {
      "model_module": "@jupyter-widgets/base",
      "model_module_version": "1.0.0",
      "model_name": "LayoutModel",
      "state": {}
     },
     "823ff30f4d3648aca3a0c04c4d588ac5": {
      "model_module": "@jupyter-widgets/base",
      "model_module_version": "1.0.0",
      "model_name": "LayoutModel",
      "state": {}
     },
     "824e7021966a43c2bf175463c7dccf1a": {
      "model_module": "@jupyter-widgets/base",
      "model_module_version": "1.0.0",
      "model_name": "LayoutModel",
      "state": {}
     },
     "827c1636df9f4da3b9e26740c6b7ea19": {
      "model_module": "@jupyter-widgets/controls",
      "model_module_version": "1.1.0",
      "model_name": "ToggleButtonsStyleModel",
      "state": {
       "button_width": "",
       "description_width": ""
      }
     },
     "82f4562ddb4f464a84af5973022cc115": {
      "model_module": "@jupyter-widgets/base",
      "model_module_version": "1.0.0",
      "model_name": "LayoutModel",
      "state": {}
     },
     "82fdb15c3b674b6292666eda2a30a34b": {
      "model_module": "@jupyter-widgets/controls",
      "model_module_version": "1.1.0",
      "model_name": "DescriptionStyleModel",
      "state": {
       "description_width": ""
      }
     },
     "8343888407d44945ae56701f2e2d6087": {
      "model_module": "@jupyter-widgets/base",
      "model_module_version": "1.0.0",
      "model_name": "LayoutModel",
      "state": {}
     },
     "834837e439a34d1fa4c89cc1e7e18944": {
      "model_module": "@jupyter-widgets/controls",
      "model_module_version": "1.1.0",
      "model_name": "DescriptionStyleModel",
      "state": {
       "description_width": ""
      }
     },
     "8357b76f17874ba08f6bdb034c92d17c": {
      "model_module": "@jupyter-widgets/controls",
      "model_module_version": "1.1.0",
      "model_name": "CheckboxModel",
      "state": {
       "description": "30°",
       "disabled": false,
       "layout": "IPY_MODEL_b6afb6b7e2334252b59396dc1689c01a",
       "style": "IPY_MODEL_6301ab8a9251463b9ae21da49e69bd8c",
       "value": true
      }
     },
     "835d7d9788b141e0a8c4c72567a0dbba": {
      "model_module": "@jupyter-widgets/controls",
      "model_module_version": "1.1.0",
      "model_name": "CheckboxModel",
      "state": {
       "description": "135°",
       "disabled": false,
       "layout": "IPY_MODEL_156f2356d2f34394bd0ef2bbc9f4c5b0",
       "style": "IPY_MODEL_d31cfd5f4c5f4ce290a396164e3ede08",
       "value": true
      }
     },
     "8379ac78c8d5412a85b9e64f7b08a6f1": {
      "model_module": "@jupyter-widgets/controls",
      "model_module_version": "1.1.0",
      "model_name": "DescriptionStyleModel",
      "state": {
       "description_width": ""
      }
     },
     "83da75659ac840289928e9f49a3879c0": {
      "model_module": "@jupyter-widgets/controls",
      "model_module_version": "1.1.0",
      "model_name": "LabelModel",
      "state": {
       "layout": "IPY_MODEL_b430db24d0cc4ea682e31554dad28dba",
       "style": "IPY_MODEL_7eb78729568f4494b7bae7e61224211a",
       "value": "Select a detector type."
      }
     },
     "83ecc67c12c3465fb7265072610ef8c1": {
      "model_module": "@jupyter-widgets/controls",
      "model_module_version": "1.1.0",
      "model_name": "ToggleButtonsStyleModel",
      "state": {
       "button_width": "",
       "description_width": ""
      }
     },
     "840cc699269c453caf5255b94c01977e": {
      "model_module": "@jupyter-widgets/controls",
      "model_module_version": "1.1.0",
      "model_name": "DescriptionStyleModel",
      "state": {
       "description_width": ""
      }
     },
     "8457014aa34643e0a25eff2ec3f6e208": {
      "model_module": "@jupyter-widgets/controls",
      "model_module_version": "1.1.0",
      "model_name": "DescriptionStyleModel",
      "state": {
       "description_width": ""
      }
     },
     "846897d5be034873bc66dd9153ee457a": {
      "model_module": "@jupyter-widgets/controls",
      "model_module_version": "1.1.0",
      "model_name": "DescriptionStyleModel",
      "state": {
       "description_width": ""
      }
     },
     "84775fd52f4349bfb087eae261842288": {
      "model_module": "@jupyter-widgets/base",
      "model_module_version": "1.0.0",
      "model_name": "LayoutModel",
      "state": {}
     },
     "8477bf0938fe492299303381dfe3f762": {
      "model_module": "@jupyter-widgets/controls",
      "model_module_version": "1.1.0",
      "model_name": "DescriptionStyleModel",
      "state": {
       "description_width": ""
      }
     },
     "84966235c9f94f55bd3807f3ac243f7c": {
      "model_module": "@jupyter-widgets/base",
      "model_module_version": "1.0.0",
      "model_name": "LayoutModel",
      "state": {}
     },
     "849807397d89425fb0fc2d9642622f81": {
      "model_module": "@jupyter-widgets/controls",
      "model_module_version": "1.1.0",
      "model_name": "CheckboxModel",
      "state": {
       "description": "80°",
       "disabled": false,
       "layout": "IPY_MODEL_8842f6d0a5a0491caa3de1c702a30d3b",
       "style": "IPY_MODEL_be7c1d76834143be9f8d17152e78cf48",
       "value": true
      }
     },
     "849c532214cc497bb60d08a05f612cf5": {
      "model_module": "@jupyter-widgets/controls",
      "model_module_version": "1.1.0",
      "model_name": "DescriptionStyleModel",
      "state": {
       "description_width": ""
      }
     },
     "84bb49288518474f8493046eb8864d73": {
      "model_module": "@jupyter-widgets/controls",
      "model_module_version": "1.1.0",
      "model_name": "DescriptionStyleModel",
      "state": {
       "description_width": ""
      }
     },
     "84dfdf7825024918a2f24ccbc66d7913": {
      "model_module": "@jupyter-widgets/controls",
      "model_module_version": "1.1.0",
      "model_name": "CheckboxModel",
      "state": {
       "description": "12.7°",
       "disabled": false,
       "layout": "IPY_MODEL_20aad4b157da4f91bcbe7e43af14ce8c",
       "style": "IPY_MODEL_8379ac78c8d5412a85b9e64f7b08a6f1",
       "value": true
      }
     },
     "84e53c0a403b446f8596a153fde52f6a": {
      "model_module": "@jupyter-widgets/controls",
      "model_module_version": "1.1.0",
      "model_name": "DescriptionStyleModel",
      "state": {
       "description_width": ""
      }
     },
     "851d0803bb734f5cb54c8d637c457fd7": {
      "model_module": "@jupyter-widgets/base",
      "model_module_version": "1.0.0",
      "model_name": "LayoutModel",
      "state": {}
     },
     "8525d04351b346d6849bdfd4e5df9061": {
      "model_module": "@jupyter-widgets/controls",
      "model_module_version": "1.1.0",
      "model_name": "CheckboxModel",
      "state": {
       "description": "30°",
       "disabled": false,
       "layout": "IPY_MODEL_c15c7534a6b2413885d8a67c1a50e638",
       "style": "IPY_MODEL_68ea0c8040b549ddbf28ba9ea85eccfa",
       "value": true
      }
     },
     "8560a6f02b604d1bb2516e19618938a6": {
      "model_module": "@jupyter-widgets/controls",
      "model_module_version": "1.1.0",
      "model_name": "DescriptionStyleModel",
      "state": {
       "description_width": ""
      }
     },
     "858ff6cb153941629070dce3e8eab120": {
      "model_module": "@jupyter-widgets/base",
      "model_module_version": "1.0.0",
      "model_name": "LayoutModel",
      "state": {}
     },
     "85a02b30514244aaaf4f8a6d2a2c855b": {
      "model_module": "@jupyter-widgets/controls",
      "model_module_version": "1.1.0",
      "model_name": "DescriptionStyleModel",
      "state": {
       "description_width": ""
      }
     },
     "85abee9894c242df832fed752adf6975": {
      "model_module": "@jupyter-widgets/controls",
      "model_module_version": "1.1.0",
      "model_name": "CheckboxModel",
      "state": {
       "description": "30°",
       "disabled": false,
       "layout": "IPY_MODEL_71a09e2397ff40e9a0688a8973dcf554",
       "style": "IPY_MODEL_1acc6d4d97c0434783d57bd31fb7a9e1",
       "value": true
      }
     },
     "85f344bca2d2496c920f8d78b4cd6a77": {
      "model_module": "@jupyter-widgets/base",
      "model_module_version": "1.0.0",
      "model_name": "LayoutModel",
      "state": {}
     },
     "86238e72635d4f7cad9efa91d7a2965f": {
      "model_module": "@jupyter-widgets/controls",
      "model_module_version": "1.1.0",
      "model_name": "CheckboxModel",
      "state": {
       "description": "PHITS simulated",
       "disabled": false,
       "layout": "IPY_MODEL_62c0dff630c54a339359f4468590031f",
       "style": "IPY_MODEL_2fcfc7521e804977b7d8840c05e78ec0",
       "value": true
      }
     },
     "863893332e2e4a1ea3beeeb0e14183ca": {
      "model_module": "@jupyter-widgets/base",
      "model_module_version": "1.0.0",
      "model_name": "LayoutModel",
      "state": {}
     },
     "865a726d61fa47a29ff1bf6ab3cbb3c4": {
      "model_module": "@jupyter-widgets/controls",
      "model_module_version": "1.1.0",
      "model_name": "ToggleButtonsStyleModel",
      "state": {
       "button_width": "",
       "description_width": ""
      }
     },
     "868daa6a513c4483b385e724afc38db6": {
      "model_module": "@jupyter-widgets/base",
      "model_module_version": "1.0.0",
      "model_name": "LayoutModel",
      "state": {}
     },
     "86a57d3d44574ca59515581038955997": {
      "model_module": "@jupyter-widgets/controls",
      "model_module_version": "1.1.0",
      "model_name": "DescriptionStyleModel",
      "state": {
       "description_width": ""
      }
     },
     "86ed2da1ad2640358387caa4b333ce6a": {
      "model_module": "@jupyter-widgets/controls",
      "model_module_version": "1.1.0",
      "model_name": "CheckboxModel",
      "state": {
       "description": "60°",
       "disabled": false,
       "layout": "IPY_MODEL_0ebc3162b4da49f3a6d4f7aa043c52d9",
       "style": "IPY_MODEL_01cfdf7a65f047b8a4c617630919767c",
       "value": true
      }
     },
     "879adfc53a3c462a9c3d51cf55c1adbe": {
      "model_module": "@jupyter-widgets/base",
      "model_module_version": "1.0.0",
      "model_name": "LayoutModel",
      "state": {}
     },
     "87b03a1bc88941419b080527b7fd800c": {
      "model_module": "@jupyter-widgets/base",
      "model_module_version": "1.0.0",
      "model_name": "LayoutModel",
      "state": {}
     },
     "87b2e69948374bef9d1952c9e4a06f02": {
      "model_module": "@jupyter-widgets/base",
      "model_module_version": "1.0.0",
      "model_name": "LayoutModel",
      "state": {}
     },
     "87c459b78b604640909d7f732feb1b01": {
      "model_module": "@jupyter-widgets/base",
      "model_module_version": "1.0.0",
      "model_name": "LayoutModel",
      "state": {}
     },
     "87e57776ce1f4fd38470996dfe8cf8a5": {
      "model_module": "@jupyter-widgets/controls",
      "model_module_version": "1.1.0",
      "model_name": "DescriptionStyleModel",
      "state": {
       "description_width": ""
      }
     },
     "87e9155972b8434b99ed4584a1a99d02": {
      "model_module": "@jupyter-widgets/controls",
      "model_module_version": "1.1.0",
      "model_name": "DescriptionStyleModel",
      "state": {
       "description_width": ""
      }
     },
     "87f9d71af0c142c7b5caf8e56b9b61ca": {
      "model_module": "@jupyter-widgets/base",
      "model_module_version": "1.0.0",
      "model_name": "LayoutModel",
      "state": {}
     },
     "8822a20bc3f94d66ab0dbfabcd77d959": {
      "model_module": "@jupyter-widgets/base",
      "model_module_version": "1.0.0",
      "model_name": "LayoutModel",
      "state": {}
     },
     "883d12cde93144b8aacc6b532828c93c": {
      "model_module": "@jupyter-widgets/controls",
      "model_module_version": "1.1.0",
      "model_name": "DescriptionStyleModel",
      "state": {
       "description_width": ""
      }
     },
     "8842f6d0a5a0491caa3de1c702a30d3b": {
      "model_module": "@jupyter-widgets/base",
      "model_module_version": "1.0.0",
      "model_name": "LayoutModel",
      "state": {}
     },
     "884bb46f7a954ce38ebb5635c40a21d2": {
      "model_module": "@jupyter-widgets/controls",
      "model_module_version": "1.1.0",
      "model_name": "DescriptionStyleModel",
      "state": {
       "description_width": ""
      }
     },
     "8872a1a9dadf4cab9a7f77f2ceab455d": {
      "model_module": "@jupyter-widgets/controls",
      "model_module_version": "1.1.0",
      "model_name": "DescriptionStyleModel",
      "state": {
       "description_width": ""
      }
     },
     "88b9e2d96d2b4c85b34b1b94c3341b79": {
      "model_module": "@jupyter-widgets/controls",
      "model_module_version": "1.1.0",
      "model_name": "DescriptionStyleModel",
      "state": {
       "description_width": ""
      }
     },
     "88badcd0a32141a2ab5db6a4c4d052f2": {
      "model_module": "@jupyter-widgets/controls",
      "model_module_version": "1.1.0",
      "model_name": "ToggleButtonsModel",
      "state": {
       "_options_labels": [
        "N (¹n)",
        "NDC (¹n)",
        "P (¹H)",
        "D (²H)"
       ],
       "button_style": "",
       "description": "Particle:",
       "icons": [],
       "index": 0,
       "layout": "IPY_MODEL_a4943de1efff43359180753e2490e53e",
       "style": "IPY_MODEL_6edb3e911d44441787d5be281679c7dd",
       "tooltips": [
        "Neutron",
        "Back Target Neutron",
        "Proton",
        "Deuteron"
       ]
      }
     },
     "88c16b0b83314b6692444ec6c22caa7f": {
      "model_module": "@jupyter-widgets/base",
      "model_module_version": "1.0.0",
      "model_name": "LayoutModel",
      "state": {}
     },
     "88cc195b5f6e4901bf6a0871b8ac57ab": {
      "model_module": "@jupyter-widgets/controls",
      "model_module_version": "1.1.0",
      "model_name": "DescriptionStyleModel",
      "state": {
       "description_width": ""
      }
     },
     "88cfa02151b34707990f8b6da4262858": {
      "model_module": "@jupyter-widgets/base",
      "model_module_version": "1.0.0",
      "model_name": "LayoutModel",
      "state": {}
     },
     "88ec45f597ab4cb1bda495f8be2aab17": {
      "model_module": "@jupyter-widgets/controls",
      "model_module_version": "1.1.0",
      "model_name": "LabelModel",
      "state": {
       "layout": "IPY_MODEL_f5ba8d79d7ac4a828e421fac15ac3d7a",
       "style": "IPY_MODEL_bf33cefc9a6c478fadc7163128193859",
       "value": "Select upstream target mass thickness."
      }
     },
     "8916808f573642e7a06afcd05d759af7": {
      "model_module": "@jupyter-widgets/controls",
      "model_module_version": "1.1.0",
      "model_name": "ToggleButtonsStyleModel",
      "state": {
       "button_width": "",
       "description_width": ""
      }
     },
     "89466c02b68748f8a436e8f91ceaa1c8": {
      "model_module": "@jupyter-widgets/controls",
      "model_module_version": "1.1.0",
      "model_name": "DescriptionStyleModel",
      "state": {
       "description_width": ""
      }
     },
     "895dda77f3cb4de99e970f760d35c69c": {
      "model_module": "@jupyter-widgets/controls",
      "model_module_version": "1.1.0",
      "model_name": "LabelModel",
      "state": {
       "layout": "IPY_MODEL_f46e27ea0a14453184f192527874afb7",
       "style": "IPY_MODEL_4b395f57c6674e77b411277989eacd52",
       "value": "Select which secondary particle to plot spectra for."
      }
     },
     "89ba51ac47ff491199111cd3336fdf93": {
      "model_module": "@jupyter-widgets/controls",
      "model_module_version": "1.1.0",
      "model_name": "DescriptionStyleModel",
      "state": {
       "description_width": ""
      }
     },
     "89d72556cc82438b93784ed100e9f5fc": {
      "model_module": "@jupyter-widgets/base",
      "model_module_version": "1.0.0",
      "model_name": "LayoutModel",
      "state": {}
     },
     "89eda586ef094d9e9d2cbe3f9c364b32": {
      "model_module": "@jupyter-widgets/controls",
      "model_module_version": "1.1.0",
      "model_name": "DescriptionStyleModel",
      "state": {
       "description_width": ""
      }
     },
     "8a3b8c64c63d4cc69d1a3a9b9f3d1edb": {
      "model_module": "@jupyter-widgets/controls",
      "model_module_version": "1.1.0",
      "model_name": "DescriptionStyleModel",
      "state": {
       "description_width": ""
      }
     },
     "8a8a3c66e387487d94d40df8daf3abec": {
      "model_module": "@jupyter-widgets/controls",
      "model_module_version": "1.1.0",
      "model_name": "ToggleButtonsStyleModel",
      "state": {
       "button_width": "",
       "description_width": ""
      }
     },
     "8b0eefb472c1489c9499bfca2575e77e": {
      "model_module": "@jupyter-widgets/base",
      "model_module_version": "1.0.0",
      "model_name": "LayoutModel",
      "state": {}
     },
     "8b392c0326854e5f93df8f993af5595f": {
      "model_module": "@jupyter-widgets/base",
      "model_module_version": "1.0.0",
      "model_name": "LayoutModel",
      "state": {}
     },
     "8b54b65353c24895a98b93779b430b43": {
      "model_module": "@jupyter-widgets/base",
      "model_module_version": "1.0.0",
      "model_name": "LayoutModel",
      "state": {}
     },
     "8b743d4952b248f7a36eb844c64b0788": {
      "model_module": "@jupyter-widgets/controls",
      "model_module_version": "1.1.0",
      "model_name": "DescriptionStyleModel",
      "state": {
       "description_width": ""
      }
     },
     "8bf2cf1a62d347b9847c01e5c3ab98b8": {
      "model_module": "@jupyter-widgets/controls",
      "model_module_version": "1.1.0",
      "model_name": "LabelModel",
      "state": {
       "layout": "IPY_MODEL_e6eec0d2d30c40cf81d419a89626b114",
       "style": "IPY_MODEL_4524981b64cd4317b83daa649d2fcda4",
       "value": "Select the detector angles to plot."
      }
     },
     "8c34c6dc7c9546548bfd9254a9e4b92d": {
      "model_module": "@jupyter-widgets/controls",
      "model_module_version": "1.1.0",
      "model_name": "LabelModel",
      "state": {
       "layout": "IPY_MODEL_bbfdb7e282fb4cf7a8c4f45ee8f7158b",
       "style": "IPY_MODEL_61906c76664a41d496cc06fad94da3da",
       "value": "Select which secondary particle to plot spectra for."
      }
     },
     "8c95c3d262bc46fa8546c9b5b76e652e": {
      "model_module": "@jupyter-widgets/controls",
      "model_module_version": "1.1.0",
      "model_name": "ToggleButtonsStyleModel",
      "state": {
       "button_width": "",
       "description_width": ""
      }
     },
     "8d01d2f5c2274b13984798d5294ef8a5": {
      "model_module": "@jupyter-widgets/base",
      "model_module_version": "1.0.0",
      "model_name": "LayoutModel",
      "state": {}
     },
     "8d81ca9c965a499a8da95886d9bab78d": {
      "model_module": "@jupyter-widgets/controls",
      "model_module_version": "1.1.0",
      "model_name": "CheckboxModel",
      "state": {
       "description": "32.7°",
       "disabled": false,
       "layout": "IPY_MODEL_3619c3db11734ddeae8b2aa3f02f7023",
       "style": "IPY_MODEL_fe443f51af184df68b3c56cf06f77457",
       "value": true
      }
     },
     "8d940d9289e04dd1a510e39ef6872793": {
      "model_module": "@jupyter-widgets/base",
      "model_module_version": "1.0.0",
      "model_name": "LayoutModel",
      "state": {}
     },
     "8de4e7cb679a44798964a2c36f75b7a3": {
      "model_module": "@jupyter-widgets/base",
      "model_module_version": "1.0.0",
      "model_name": "LayoutModel",
      "state": {}
     },
     "8e0c320fd5734317bb5f0a4dcabe63e9": {
      "model_module": "@jupyter-widgets/controls",
      "model_module_version": "1.1.0",
      "model_name": "DescriptionStyleModel",
      "state": {
       "description_width": ""
      }
     },
     "8e7f2696ab6a4fb79016841dd4e1fa51": {
      "model_module": "@jupyter-widgets/controls",
      "model_module_version": "1.1.0",
      "model_name": "DescriptionStyleModel",
      "state": {
       "description_width": ""
      }
     },
     "8e949d24e566410ab568643397076396": {
      "model_module": "@jupyter-widgets/controls",
      "model_module_version": "1.1.0",
      "model_name": "ToggleButtonsStyleModel",
      "state": {
       "button_width": "",
       "description_width": ""
      }
     },
     "8ea468f235574c918668b197248fbf7d": {
      "model_module": "@jupyter-widgets/base",
      "model_module_version": "1.0.0",
      "model_name": "LayoutModel",
      "state": {}
     },
     "8ec9509eb399439fb841e212539d7916": {
      "model_module": "@jupyter-widgets/controls",
      "model_module_version": "1.1.0",
      "model_name": "DescriptionStyleModel",
      "state": {
       "description_width": ""
      }
     },
     "8ed8b650b26e42d68204f2548436e14e": {
      "model_module": "@jupyter-widgets/controls",
      "model_module_version": "1.1.0",
      "model_name": "LabelModel",
      "state": {
       "layout": "IPY_MODEL_96f8ada5036e47b0bc92769bee94fae2",
       "style": "IPY_MODEL_e9543b4dab854cd4b3dc337b87fddb83",
       "value": "Select which secondary particle to plot spectra for."
      }
     },
     "8f29115be0cc42ca9b36a84cc9c75532": {
      "model_module": "@jupyter-widgets/controls",
      "model_module_version": "1.1.0",
      "model_name": "DescriptionStyleModel",
      "state": {
       "description_width": ""
      }
     },
     "8f66d762f6184414a9714cfc226381c1": {
      "model_module": "@jupyter-widgets/base",
      "model_module_version": "1.0.0",
      "model_name": "LayoutModel",
      "state": {}
     },
     "901472da340a4126b55be6bd6bcbdd1e": {
      "model_module": "@jupyter-widgets/controls",
      "model_module_version": "1.1.0",
      "model_name": "CheckboxModel",
      "state": {
       "description": "Experiment",
       "disabled": false,
       "layout": "IPY_MODEL_ebf7af92aa6d4d2d90ea7cdae6b2bd84",
       "style": "IPY_MODEL_8a3b8c64c63d4cc69d1a3a9b9f3d1edb",
       "value": true
      }
     },
     "90182fc3b98247dda06477453d580c02": {
      "model_module": "@jupyter-widgets/controls",
      "model_module_version": "1.1.0",
      "model_name": "DescriptionStyleModel",
      "state": {
       "description_width": ""
      }
     },
     "9068b5b316bf413bac4f0c0b2795de4c": {
      "model_module": "@jupyter-widgets/base",
      "model_module_version": "1.0.0",
      "model_name": "LayoutModel",
      "state": {}
     },
     "90d0ad0b2cd144658a89409c7d844d9d": {
      "model_module": "@jupyter-widgets/base",
      "model_module_version": "1.0.0",
      "model_name": "LayoutModel",
      "state": {}
     },
     "90ffbeb101af4bbd90b16067566474bf": {
      "model_module": "@jupyter-widgets/controls",
      "model_module_version": "1.1.0",
      "model_name": "ToggleButtonsModel",
      "state": {
       "_options_labels": [
        "N (¹n)",
        "NDC (¹n)",
        "P (¹H)",
        "D (²H)"
       ],
       "button_style": "",
       "description": "Type:",
       "icons": [],
       "index": 0,
       "layout": "IPY_MODEL_b607a8a1011f41e79657979eed2d5d47",
       "style": "IPY_MODEL_25a2ab9d4a05493d9ee1a481e7e8e612",
       "tooltips": [
        "Neutron",
        "Back Target Neutron",
        "Proton",
        "Deuteron"
       ]
      }
     },
     "914b47eafde94b19a9df65661a32de0e": {
      "model_module": "@jupyter-widgets/controls",
      "model_module_version": "1.1.0",
      "model_name": "LabelModel",
      "state": {
       "layout": "IPY_MODEL_fa76e56acdcd41718e0b25ba2bd643c5",
       "style": "IPY_MODEL_d8795ba803974c8c92ae1d6df80faf43",
       "value": "Select upstream target material and thickness."
      }
     },
     "915d6af61552476999a0a8e8c145399a": {
      "model_module": "@jupyter-widgets/controls",
      "model_module_version": "1.1.0",
      "model_name": "CheckboxModel",
      "state": {
       "description": "PHITS simulated",
       "disabled": false,
       "layout": "IPY_MODEL_5d11473ee0a449d0b93f46057bb10c7e",
       "style": "IPY_MODEL_c0499be5ef594524a3196add15ece8df",
       "value": true
      }
     },
     "9168e8c662ad4823a334127694bb01e1": {
      "model_module": "@jupyter-widgets/controls",
      "model_module_version": "1.1.0",
      "model_name": "ButtonModel",
      "state": {
       "button_style": "success",
       "description": "Update plot",
       "icon": "paint-brush",
       "layout": "IPY_MODEL_c760664bc998443bb84932afb31eaad6",
       "style": "IPY_MODEL_7356676fed21406e8f081dbe6e0a505a",
       "tooltip": "Click to redraw the plot below with updated options from above."
      }
     },
     "9180d374d3b3454293724d57c1893023": {
      "model_module": "@jupyter-widgets/controls",
      "model_module_version": "1.1.0",
      "model_name": "DescriptionStyleModel",
      "state": {
       "description_width": ""
      }
     },
     "9205c477a1be4469b22d1997d942407d": {
      "model_module": "@jupyter-widgets/base",
      "model_module_version": "1.0.0",
      "model_name": "LayoutModel",
      "state": {}
     },
     "92154e0fd2d046869b4d0e4406a04164": {
      "model_module": "@jupyter-widgets/controls",
      "model_module_version": "1.1.0",
      "model_name": "DescriptionStyleModel",
      "state": {
       "description_width": ""
      }
     },
     "92189b9cf45c4ed08fd8dd8ba2c3c3cf": {
      "model_module": "@jupyter-widgets/controls",
      "model_module_version": "1.1.0",
      "model_name": "CheckboxModel",
      "state": {
       "description": "45°",
       "disabled": false,
       "layout": "IPY_MODEL_fb2e1b8ea9c74243b274d3c0c73fb9f8",
       "style": "IPY_MODEL_c8211cb6300e44fa966325786ab29b71",
       "value": true
      }
     },
     "922f9e22784b4ae2bb657e36623d08f7": {
      "model_module": "@jupyter-widgets/base",
      "model_module_version": "1.0.0",
      "model_name": "LayoutModel",
      "state": {}
     },
     "92968da7fb804ac7905e1727770190f9": {
      "model_module": "@jupyter-widgets/controls",
      "model_module_version": "1.1.0",
      "model_name": "CheckboxModel",
      "state": {
       "description": "30°",
       "disabled": false,
       "layout": "IPY_MODEL_4b313ade035346c08238c3d82576da2f",
       "style": "IPY_MODEL_bcb669779e704f5bbc7005e2a8fe5f34",
       "value": true
      }
     },
     "92f2d639f6fa407dbcd48928ff1edcf4": {
      "model_module": "@jupyter-widgets/controls",
      "model_module_version": "1.1.0",
      "model_name": "LabelModel",
      "state": {
       "layout": "IPY_MODEL_48d6a29de3fe4b21a4933651013ca17c",
       "style": "IPY_MODEL_a410023c692b43789d99c69fccbf3d0c",
       "value": "Select the detector angles to plot."
      }
     },
     "93187ff29a454bffa64ddd10403e4b64": {
      "model_module": "@jupyter-widgets/controls",
      "model_module_version": "1.1.0",
      "model_name": "DescriptionStyleModel",
      "state": {
       "description_width": ""
      }
     },
     "933c72475e084d81ac77d6da3209cd71": {
      "model_module": "@jupyter-widgets/base",
      "model_module_version": "1.0.0",
      "model_name": "LayoutModel",
      "state": {}
     },
     "93943ba745a54fbdb76d8f83ca68e798": {
      "model_module": "@jupyter-widgets/controls",
      "model_module_version": "1.1.0",
      "model_name": "CheckboxModel",
      "state": {
       "description": "60°",
       "disabled": false,
       "layout": "IPY_MODEL_35c7769a9a5642218152dd0a873130f5",
       "style": "IPY_MODEL_82fdb15c3b674b6292666eda2a30a34b",
       "value": true
      }
     },
     "94435b3fbd774ecb9620eeafcda40e7b": {
      "model_module": "@jupyter-widgets/base",
      "model_module_version": "1.0.0",
      "model_name": "LayoutModel",
      "state": {}
     },
     "94458a1ede7b40a59b7adde0d00b199b": {
      "model_module": "@jupyter-widgets/base",
      "model_module_version": "1.0.0",
      "model_name": "LayoutModel",
      "state": {}
     },
     "945fd25c30d0494197276661c03dc671": {
      "model_module": "@jupyter-widgets/base",
      "model_module_version": "1.0.0",
      "model_name": "LayoutModel",
      "state": {}
     },
     "94b023f46072463da950114129668831": {
      "model_module": "@jupyter-widgets/controls",
      "model_module_version": "1.1.0",
      "model_name": "DescriptionStyleModel",
      "state": {
       "description_width": ""
      }
     },
     "94cb113af46b4b27bba6ea5bb092f01a": {
      "model_module": "@jupyter-widgets/controls",
      "model_module_version": "1.1.0",
      "model_name": "LabelModel",
      "state": {
       "layout": "IPY_MODEL_17bae485d4da4ee1af714e9f524d5da1",
       "style": "IPY_MODEL_fcdc8c835ef542a39bbe81e117c15446",
       "value": "Select how data sets for each detector should be spaced apart (if at all)."
      }
     },
     "94d08ba6cbcb4a43af16990ab2c249cd": {
      "model_module": "@jupyter-widgets/controls",
      "model_module_version": "1.1.0",
      "model_name": "CheckboxModel",
      "state": {
       "description": "80°",
       "disabled": false,
       "layout": "IPY_MODEL_d9cc632b94b840ef8142b19040133b67",
       "style": "IPY_MODEL_44e313e4526743ceb8af6da255f65ad1",
       "value": true
      }
     },
     "94da22d978d74dd581dee928434555b2": {
      "model_module": "@jupyter-widgets/controls",
      "model_module_version": "1.1.0",
      "model_name": "CheckboxModel",
      "state": {
       "description": "80°",
       "disabled": false,
       "layout": "IPY_MODEL_6875058ca28d415ebf3402c09385b7de",
       "style": "IPY_MODEL_05d44f7bd9aa41a9b3174967dca3017e",
       "value": true
      }
     },
     "94f922cfd08645dbadb59353c980e910": {
      "model_module": "@jupyter-widgets/controls",
      "model_module_version": "1.1.0",
      "model_name": "DescriptionStyleModel",
      "state": {
       "description_width": ""
      }
     },
     "95bf02f7406a4d3195351765c5517c43": {
      "model_module": "@jupyter-widgets/controls",
      "model_module_version": "1.1.0",
      "model_name": "DescriptionStyleModel",
      "state": {
       "description_width": ""
      }
     },
     "95fa7347cc184ca68dc4e17717d1ea43": {
      "model_module": "@jupyter-widgets/controls",
      "model_module_version": "1.1.0",
      "model_name": "DescriptionStyleModel",
      "state": {
       "description_width": ""
      }
     },
     "9615104881154fcfa004fddcec99c116": {
      "model_module": "@jupyter-widgets/controls",
      "model_module_version": "1.1.0",
      "model_name": "DescriptionStyleModel",
      "state": {
       "description_width": ""
      }
     },
     "9628c678b21e4fbd866813c76412cb27": {
      "model_module": "@jupyter-widgets/controls",
      "model_module_version": "1.1.0",
      "model_name": "LabelModel",
      "state": {
       "layout": "IPY_MODEL_34f5e5e0307f417ea79d6d97d9afd5f1",
       "style": "IPY_MODEL_a3226dc7be214e14b368365138b0cf25",
       "value": "Select the detector angles to plot."
      }
     },
     "967b141189f74ccab36ab8014846abc2": {
      "model_module": "@jupyter-widgets/controls",
      "model_module_version": "1.1.0",
      "model_name": "ToggleButtonsStyleModel",
      "state": {
       "button_width": "",
       "description_width": ""
      }
     },
     "968d972512a14609a9d52d3d9e1341ca": {
      "model_module": "@jupyter-widgets/controls",
      "model_module_version": "1.1.0",
      "model_name": "DescriptionStyleModel",
      "state": {
       "description_width": ""
      }
     },
     "96da12b143364498a1f8e79fa09113ba": {
      "model_module": "@jupyter-widgets/base",
      "model_module_version": "1.0.0",
      "model_name": "LayoutModel",
      "state": {}
     },
     "96f8ada5036e47b0bc92769bee94fae2": {
      "model_module": "@jupyter-widgets/base",
      "model_module_version": "1.0.0",
      "model_name": "LayoutModel",
      "state": {}
     },
     "971f0dbff63f4d7081c8ea05f263b00d": {
      "model_module": "@jupyter-widgets/controls",
      "model_module_version": "1.1.0",
      "model_name": "ToggleButtonsModel",
      "state": {
       "_options_labels": [
        "N (¹n)",
        "NDC (¹n)",
        "P (¹H)",
        "D (²H)",
        "T (³H)",
        "S (³He)",
        "A (⁴He)"
       ],
       "button_style": "",
       "description": "Type:",
       "icons": [],
       "index": 3,
       "layout": "IPY_MODEL_1d72fdf622c6443bb22fe880f8a2aa5c",
       "style": "IPY_MODEL_8c95c3d262bc46fa8546c9b5b76e652e",
       "tooltips": [
        "Neutron",
        "Back Target Neutron",
        "Proton",
        "Deuteron",
        "Triton",
        "Helium-3",
        "Helium-4"
       ]
      }
     },
     "9730523592704f18b6013cd438afad49": {
      "model_module": "@jupyter-widgets/controls",
      "model_module_version": "1.1.0",
      "model_name": "LabelModel",
      "state": {
       "layout": "IPY_MODEL_89d72556cc82438b93784ed100e9f5fc",
       "style": "IPY_MODEL_078ada0077324c248ec853179331469f",
       "value": "Select projectile ion energy."
      }
     },
     "978237f274d2476b8418648f0228b9e7": {
      "model_module": "@jupyter-widgets/base",
      "model_module_version": "1.0.0",
      "model_name": "LayoutModel",
      "state": {}
     },
     "97943902601a413d9513a4e7bec6f8a8": {
      "model_module": "@jupyter-widgets/base",
      "model_module_version": "1.0.0",
      "model_name": "LayoutModel",
      "state": {}
     },
     "97954afcbea94f4f9fc07ecfe9a9f91d": {
      "model_module": "@jupyter-widgets/base",
      "model_module_version": "1.0.0",
      "model_name": "LayoutModel",
      "state": {}
     },
     "9796719f62764bd8bbf944fa40f90650": {
      "model_module": "@jupyter-widgets/controls",
      "model_module_version": "1.1.0",
      "model_name": "CheckboxModel",
      "state": {
       "description": "45°",
       "disabled": false,
       "layout": "IPY_MODEL_2fdaee955b814f53adcb0097d9ca7d0a",
       "style": "IPY_MODEL_03712579db5b417eb16f345eff7e67a8",
       "value": true
      }
     },
     "97998ff7c23540418583446728836fec": {
      "model_module": "@jupyter-widgets/controls",
      "model_module_version": "1.1.0",
      "model_name": "DescriptionStyleModel",
      "state": {
       "description_width": ""
      }
     },
     "97c4e769ee4341f494407bde8dbce5c5": {
      "model_module": "@jupyter-widgets/controls",
      "model_module_version": "1.1.0",
      "model_name": "LabelModel",
      "state": {
       "layout": "IPY_MODEL_fa1bd53915424fa1ab587c57ab48f080",
       "style": "IPY_MODEL_aa1a47aaec0f414d8480b69918503e93",
       "value": "Select upstream target mass thickness."
      }
     },
     "97e099afd8e64083a0da0bf3c9205a3b": {
      "model_module": "@jupyter-widgets/controls",
      "model_module_version": "1.1.0",
      "model_name": "CheckboxModel",
      "state": {
       "description": "60°",
       "disabled": false,
       "layout": "IPY_MODEL_2c1995101fa74608bb3c56edc2c8d1c6",
       "style": "IPY_MODEL_0f64b367e84944c6bb9f39de60b04729",
       "value": true
      }
     },
     "981cdde308eb4481983d9a466e0bac36": {
      "model_module": "@jupyter-widgets/base",
      "model_module_version": "1.0.0",
      "model_name": "LayoutModel",
      "state": {}
     },
     "98237bf22d114ff39d165b4678e54734": {
      "model_module": "@jupyter-widgets/controls",
      "model_module_version": "1.1.0",
      "model_name": "DescriptionStyleModel",
      "state": {
       "description_width": ""
      }
     },
     "9871518fbb424f9fb82122b1118f1676": {
      "model_module": "@jupyter-widgets/base",
      "model_module_version": "1.0.0",
      "model_name": "LayoutModel",
      "state": {}
     },
     "9872c102cabd49cdb5f48220b334548f": {
      "model_module": "@jupyter-widgets/base",
      "model_module_version": "1.0.0",
      "model_name": "LayoutModel",
      "state": {}
     },
     "98753889ae644f97a385da2841d81ec5": {
      "model_module": "@jupyter-widgets/base",
      "model_module_version": "1.0.0",
      "model_name": "LayoutModel",
      "state": {}
     },
     "98c085b49e204c9f976cb4af179fae94": {
      "model_module": "@jupyter-widgets/controls",
      "model_module_version": "1.1.0",
      "model_name": "DescriptionStyleModel",
      "state": {
       "description_width": ""
      }
     },
     "9935277d35c1402bb49416768a7b9ce1": {
      "model_module": "@jupyter-widgets/base",
      "model_module_version": "1.0.0",
      "model_name": "LayoutModel",
      "state": {}
     },
     "994c2a00c9b5436b91b975bafd760584": {
      "model_module": "@jupyter-widgets/base",
      "model_module_version": "1.0.0",
      "model_name": "LayoutModel",
      "state": {}
     },
     "99b698eb56d747a4b5796dc5533fe444": {
      "model_module": "@jupyter-widgets/base",
      "model_module_version": "1.0.0",
      "model_name": "LayoutModel",
      "state": {}
     },
     "9a0974ca170a48b6b4a0fcc84a2a35a4": {
      "model_module": "@jupyter-widgets/controls",
      "model_module_version": "1.1.0",
      "model_name": "ToggleButtonsStyleModel",
      "state": {
       "button_width": "",
       "description_width": ""
      }
     },
     "9a1f984c3c80443292067dab89b6fd20": {
      "model_module": "@jupyter-widgets/base",
      "model_module_version": "1.0.0",
      "model_name": "LayoutModel",
      "state": {}
     },
     "9a4aa930bbde477c81a91da2625757c7": {
      "model_module": "@jupyter-widgets/controls",
      "model_module_version": "1.1.0",
      "model_name": "CheckboxModel",
      "state": {
       "description": "60°",
       "disabled": false,
       "layout": "IPY_MODEL_aa9ce7dc21004692afd0bf9d3f368c59",
       "style": "IPY_MODEL_bb9f995dec93484fbc27fa706f5fd3f1",
       "value": true
      }
     },
     "9a782c49ef184e6187246afe41090552": {
      "model_module": "@jupyter-widgets/controls",
      "model_module_version": "1.1.0",
      "model_name": "DescriptionStyleModel",
      "state": {
       "description_width": ""
      }
     },
     "9b14279d18ab4f00abe0cb962671e9ff": {
      "model_module": "@jupyter-widgets/controls",
      "model_module_version": "1.1.0",
      "model_name": "CheckboxModel",
      "state": {
       "description": "10°",
       "disabled": false,
       "layout": "IPY_MODEL_1ea81ce3204a4d4c865e413aa9de17b2",
       "style": "IPY_MODEL_baa9ddbc265546269ba4c9d6de39ae5a",
       "value": true
      }
     },
     "9b80b536f8134456afcfab7a234face8": {
      "model_module": "@jupyter-widgets/controls",
      "model_module_version": "1.1.0",
      "model_name": "DescriptionStyleModel",
      "state": {
       "description_width": ""
      }
     },
     "9b930e4743cd49ad892e2565cb83d894": {
      "model_module": "@jupyter-widgets/controls",
      "model_module_version": "1.1.0",
      "model_name": "DescriptionStyleModel",
      "state": {
       "description_width": ""
      }
     },
     "9bc2ba7a19f74af4ae4a126910a7c81b": {
      "model_module": "@jupyter-widgets/controls",
      "model_module_version": "1.1.0",
      "model_name": "DescriptionStyleModel",
      "state": {
       "description_width": ""
      }
     },
     "9c0fbf4338534d459b3867084725c7ec": {
      "model_module": "@jupyter-widgets/controls",
      "model_module_version": "1.1.0",
      "model_name": "DescriptionStyleModel",
      "state": {
       "description_width": ""
      }
     },
     "9c2341159be54ea0a13ff26b90f2c396": {
      "model_module": "@jupyter-widgets/base",
      "model_module_version": "1.0.0",
      "model_name": "LayoutModel",
      "state": {}
     },
     "9c3d1a868c3744808e6abb20b62e5b3c": {
      "model_module": "@jupyter-widgets/base",
      "model_module_version": "1.0.0",
      "model_name": "LayoutModel",
      "state": {}
     },
     "9c67b4d755aa4501a1ed4aaaa4694fee": {
      "model_module": "@jupyter-widgets/controls",
      "model_module_version": "1.1.0",
      "model_name": "LabelModel",
      "state": {
       "layout": "IPY_MODEL_d656614de7e54e42afa5eab1410a0eca",
       "style": "IPY_MODEL_c55be318b618401aa49426e531b98d5a",
       "value": "Select which secondary particle to plot spectra for."
      }
     },
     "9c750331100c4339ba5cdad0d8689798": {
      "model_module": "@jupyter-widgets/controls",
      "model_module_version": "1.1.0",
      "model_name": "DescriptionStyleModel",
      "state": {
       "description_width": ""
      }
     },
     "9d2ca49e71084fcebda49271927b97a7": {
      "model_module": "@jupyter-widgets/controls",
      "model_module_version": "1.1.0",
      "model_name": "CheckboxModel",
      "state": {
       "description": "10°",
       "disabled": false,
       "layout": "IPY_MODEL_676c9ec4db9c4580a6d02dba2ee14cc3",
       "style": "IPY_MODEL_236665dcbcc84145aec131dc47a4833b",
       "value": true
      }
     },
     "9d4af918c79e4649b91b52b135f6205d": {
      "model_module": "@jupyter-widgets/controls",
      "model_module_version": "1.1.0",
      "model_name": "DescriptionStyleModel",
      "state": {
       "description_width": ""
      }
     },
     "9d7a1428bf78413ab9bb86941080f268": {
      "model_module": "@jupyter-widgets/base",
      "model_module_version": "1.0.0",
      "model_name": "LayoutModel",
      "state": {}
     },
     "9dd994dfe1494c828611dab8b7c1157e": {
      "model_module": "@jupyter-widgets/base",
      "model_module_version": "1.0.0",
      "model_name": "LayoutModel",
      "state": {}
     },
     "9de6726f2e004bd3877caf19cbe4426f": {
      "model_module": "@jupyter-widgets/controls",
      "model_module_version": "1.1.0",
      "model_name": "DescriptionStyleModel",
      "state": {
       "description_width": ""
      }
     },
     "9df5e30e52af4895a58f44d6d6a0c613": {
      "model_module": "@jupyter-widgets/controls",
      "model_module_version": "1.1.0",
      "model_name": "LabelModel",
      "state": {
       "layout": "IPY_MODEL_7226f67f91d7466385caf9785e71e0e7",
       "style": "IPY_MODEL_5eae71481201469a9f41f176634ff53e",
       "value": "Select which secondary particle to plot spectra for."
      }
     },
     "9e2c6f63a265431299c9ca9a10934306": {
      "model_module": "@jupyter-widgets/controls",
      "model_module_version": "1.1.0",
      "model_name": "ToggleButtonsModel",
      "state": {
       "_options_labels": [
        "400 MeV",
        "800 MeV",
        "2500 MeV"
       ],
       "button_style": "",
       "description": "Energy:",
       "icons": [],
       "index": 0,
       "layout": "IPY_MODEL_71b7722d056a4b0f8361f2d9d50b1a9f",
       "style": "IPY_MODEL_db5db616c7af47308fb873261c5e5e7b",
       "tooltips": [
        "lowest energy",
        "middle energy",
        "highest energy"
       ]
      }
     },
     "9e2e9bfe6f124f16b3ccb2a441fd477c": {
      "model_module": "@jupyter-widgets/controls",
      "model_module_version": "1.1.0",
      "model_name": "LabelModel",
      "state": {
       "layout": "IPY_MODEL_da1ae399ff994bd6917366e2a1af5b33",
       "style": "IPY_MODEL_431cb5160efb42c1be6d872d56c3b795",
       "value": "Select which secondary particle to plot spectra for."
      }
     },
     "9e70dabc9cec4089a4b8308037cdecb1": {
      "model_module": "@jupyter-widgets/base",
      "model_module_version": "1.0.0",
      "model_name": "LayoutModel",
      "state": {}
     },
     "9e76e71b2ce946968f7ea2d6d5db2441": {
      "model_module": "@jupyter-widgets/base",
      "model_module_version": "1.0.0",
      "model_name": "LayoutModel",
      "state": {}
     },
     "9e9d3da6a114417db755081c1119c914": {
      "model_module": "@jupyter-widgets/controls",
      "model_module_version": "1.1.0",
      "model_name": "ToggleButtonsModel",
      "state": {
       "_options_labels": [
        "N (¹n)",
        "NDC (¹n)",
        "P (¹H)",
        "D (²H)",
        "T (³H)",
        "S (³He)",
        "A (⁴He)"
       ],
       "button_style": "",
       "description": "Type:",
       "icons": [],
       "index": 0,
       "layout": "IPY_MODEL_61335b6f99b3431594c37c7bacfd72c9",
       "style": "IPY_MODEL_1abe2f30b79f4701a9f94cf1a438e122",
       "tooltips": [
        "Neutron",
        "Back Target Neutron",
        "Proton",
        "Deuteron",
        "Triton",
        "Helium-3",
        "Helium-4"
       ]
      }
     },
     "9eba4cf6274048188693b18ae48e4e52": {
      "model_module": "@jupyter-widgets/base",
      "model_module_version": "1.0.0",
      "model_name": "LayoutModel",
      "state": {}
     },
     "9ebc4e97c55b459f85d9b769bce74ce0": {
      "model_module": "@jupyter-widgets/base",
      "model_module_version": "1.0.0",
      "model_name": "LayoutModel",
      "state": {}
     },
     "9ecc5a915ae742e0a270e8e6ff0bf4bd": {
      "model_module": "@jupyter-widgets/base",
      "model_module_version": "1.0.0",
      "model_name": "LayoutModel",
      "state": {}
     },
     "9f10af26b0b44a58a854ace8e990c731": {
      "model_module": "@jupyter-widgets/base",
      "model_module_version": "1.0.0",
      "model_name": "LayoutModel",
      "state": {}
     },
     "9f147ccc43bd4e22aacf7fd9d70c69e9": {
      "model_module": "@jupyter-widgets/controls",
      "model_module_version": "1.1.0",
      "model_name": "LabelModel",
      "state": {
       "layout": "IPY_MODEL_de211141ed4840f4b0dbc62e00d0f764",
       "style": "IPY_MODEL_0cc5ed2fc18449fb9cdba5cdc70bab69",
       "value": "Select which secondary particle to plot spectra for."
      }
     },
     "9f3f0ab9fa1442c490c91b91cf27c121": {
      "model_module": "@jupyter-widgets/controls",
      "model_module_version": "1.1.0",
      "model_name": "LabelModel",
      "state": {
       "layout": "IPY_MODEL_2e428f21ef224ed19a67939436536d65",
       "style": "IPY_MODEL_1e80c9c610b14a8cbdf136d7def2e4a6",
       "value": "Select which secondary particle to plot spectra for."
      }
     },
     "9fb91dc68d1e42289c11d12858d52439": {
      "model_module": "@jupyter-widgets/controls",
      "model_module_version": "1.1.0",
      "model_name": "DescriptionStyleModel",
      "state": {
       "description_width": ""
      }
     },
     "9fc3301f6be746b3b12b26b043f73985": {
      "model_module": "@jupyter-widgets/base",
      "model_module_version": "1.0.0",
      "model_name": "LayoutModel",
      "state": {}
     },
     "9ff423d239b843e9837184497a85d68c": {
      "model_module": "@jupyter-widgets/controls",
      "model_module_version": "1.1.0",
      "model_name": "DescriptionStyleModel",
      "state": {
       "description_width": ""
      }
     },
     "a01d9af1cbfb457ca40b4d16191dd9f8": {
      "model_module": "@jupyter-widgets/base",
      "model_module_version": "1.0.0",
      "model_name": "LayoutModel",
      "state": {}
     },
     "a02324d66cae4bcdad77709c8ea30df5": {
      "model_module": "@jupyter-widgets/controls",
      "model_module_version": "1.1.0",
      "model_name": "DescriptionStyleModel",
      "state": {
       "description_width": ""
      }
     },
     "a02fa49cb30d40c4823416bf6ad3c976": {
      "model_module": "@jupyter-widgets/controls",
      "model_module_version": "1.1.0",
      "model_name": "DescriptionStyleModel",
      "state": {
       "description_width": ""
      }
     },
     "a03b342b4ee6435789e02660b392b643": {
      "model_module": "@jupyter-widgets/controls",
      "model_module_version": "1.1.0",
      "model_name": "CheckboxModel",
      "state": {
       "description": "32.7°",
       "disabled": false,
       "layout": "IPY_MODEL_5f80d1cf22234e7594f18187386c28aa",
       "style": "IPY_MODEL_7b3e842f80114890b82b120bf12a2673",
       "value": true
      }
     },
     "a04090affc934abca24a590fc6019c01": {
      "model_module": "@jupyter-widgets/base",
      "model_module_version": "1.0.0",
      "model_name": "LayoutModel",
      "state": {}
     },
     "a04b56b70c6047e7b67fb614b236f0a7": {
      "model_module": "@jupyter-widgets/controls",
      "model_module_version": "1.1.0",
      "model_name": "DescriptionStyleModel",
      "state": {
       "description_width": ""
      }
     },
     "a05914b55e5d40649e03350e6eb3630a": {
      "model_module": "@jupyter-widgets/controls",
      "model_module_version": "1.1.0",
      "model_name": "DescriptionStyleModel",
      "state": {
       "description_width": ""
      }
     },
     "a08b30dbe8df48e1b9b7d32efe18f57e": {
      "model_module": "@jupyter-widgets/base",
      "model_module_version": "1.0.0",
      "model_name": "LayoutModel",
      "state": {}
     },
     "a0f6ed37f9f14faeb429c96a040ff9f6": {
      "model_module": "@jupyter-widgets/controls",
      "model_module_version": "1.1.0",
      "model_name": "LabelModel",
      "state": {
       "layout": "IPY_MODEL_6d95059981624950879bdfebbe0d9296",
       "style": "IPY_MODEL_45b9d236dbbf4356aafdb480f24a11d5",
       "value": "Select projectile ion species and energy."
      }
     },
     "a0f8ff67cce34c4a927a05fb1ee2c88f": {
      "model_module": "@jupyter-widgets/controls",
      "model_module_version": "1.1.0",
      "model_name": "DescriptionStyleModel",
      "state": {
       "description_width": ""
      }
     },
     "a0fb516231fc4c46bebbabd867d9dd0e": {
      "model_module": "@jupyter-widgets/controls",
      "model_module_version": "1.1.0",
      "model_name": "DescriptionStyleModel",
      "state": {
       "description_width": ""
      }
     },
     "a0fb67ecb4a942b7a78ee7c2ecd1bea7": {
      "model_module": "@jupyter-widgets/controls",
      "model_module_version": "1.1.0",
      "model_name": "LabelModel",
      "state": {
       "layout": "IPY_MODEL_feb773bb2249497ab65e8cae32c67021",
       "style": "IPY_MODEL_39282a4457f7401399ee1d29a15a961f",
       "value": "Select the detector angles to plot."
      }
     },
     "a1508f29519446cb89354baa0c079653": {
      "model_module": "@jupyter-widgets/base",
      "model_module_version": "1.0.0",
      "model_name": "LayoutModel",
      "state": {}
     },
     "a157ce7d887847e0a3fed77d2b0f750a": {
      "model_module": "@jupyter-widgets/controls",
      "model_module_version": "1.1.0",
      "model_name": "DescriptionStyleModel",
      "state": {
       "description_width": ""
      }
     },
     "a170331431ec446bb37fa1103c649671": {
      "model_module": "@jupyter-widgets/base",
      "model_module_version": "1.0.0",
      "model_name": "LayoutModel",
      "state": {}
     },
     "a17e18225617407bad9ea54d14d3ff8f": {
      "model_module": "@jupyter-widgets/base",
      "model_module_version": "1.0.0",
      "model_name": "LayoutModel",
      "state": {}
     },
     "a17e5aded5b64ba3a833ad45ea3a34bf": {
      "model_module": "@jupyter-widgets/controls",
      "model_module_version": "1.1.0",
      "model_name": "DescriptionStyleModel",
      "state": {
       "description_width": ""
      }
     },
     "a1859d0bd77940e8bff854c9cf2fdc28": {
      "model_module": "@jupyter-widgets/controls",
      "model_module_version": "1.1.0",
      "model_name": "ToggleButtonsModel",
      "state": {
       "_options_labels": [
        "H",
        "He",
        "C",
        "Si",
        "Fe"
       ],
       "button_style": "",
       "description": "Ion:",
       "icons": [],
       "index": 0,
       "layout": "IPY_MODEL_87b03a1bc88941419b080527b7fd800c",
       "style": "IPY_MODEL_00f95cd13fc5493dbd84db161aa668d2",
       "tooltips": [
        "Hydrogen",
        "Helium",
        "Carbon",
        "Silicon",
        "Iron"
       ]
      }
     },
     "a1ba6864738b4cca8debf4d5215d5213": {
      "model_module": "@jupyter-widgets/base",
      "model_module_version": "1.0.0",
      "model_name": "LayoutModel",
      "state": {}
     },
     "a1c93c2d5f0a42e384fcdabc98b67ee2": {
      "model_module": "@jupyter-widgets/base",
      "model_module_version": "1.0.0",
      "model_name": "LayoutModel",
      "state": {}
     },
     "a1d7582a334b4f618aeba1959ba1afa2": {
      "model_module": "@jupyter-widgets/controls",
      "model_module_version": "1.1.0",
      "model_name": "LabelModel",
      "state": {
       "layout": "IPY_MODEL_60640bc143d7461fa221ade3e9a1babf",
       "style": "IPY_MODEL_50bb39ba82dd4e0f928548cbc1e56055",
       "value": "Select the detector angles to plot."
      }
     },
     "a1f8d073dfd248cea3df0a3525424b95": {
      "model_module": "@jupyter-widgets/base",
      "model_module_version": "1.0.0",
      "model_name": "LayoutModel",
      "state": {}
     },
     "a2086798ef484598952202fa5e9685c9": {
      "model_module": "@jupyter-widgets/controls",
      "model_module_version": "1.1.0",
      "model_name": "CheckboxModel",
      "state": {
       "description": "32.7°",
       "disabled": false,
       "layout": "IPY_MODEL_1961e98b7ac3486ebc1961e8cfeef51c",
       "style": "IPY_MODEL_63f3673c4a8d4904b8b4957354acdb7a",
       "value": true
      }
     },
     "a21733351934434e81f1b8634ffd4249": {
      "model_module": "@jupyter-widgets/controls",
      "model_module_version": "1.1.0",
      "model_name": "CheckboxModel",
      "state": {
       "description": "10°",
       "disabled": false,
       "layout": "IPY_MODEL_ce360aefa9294facabe1ee60bc0862de",
       "style": "IPY_MODEL_e2c1797b522b46c098590f29c80eda32",
       "value": true
      }
     },
     "a26a19e574a74b3aad7172dac323e62c": {
      "model_module": "@jupyter-widgets/controls",
      "model_module_version": "1.1.0",
      "model_name": "ToggleButtonsStyleModel",
      "state": {
       "button_width": "",
       "description_width": ""
      }
     },
     "a2733a53a33c469f9e74e92e8a087019": {
      "model_module": "@jupyter-widgets/controls",
      "model_module_version": "1.1.0",
      "model_name": "DescriptionStyleModel",
      "state": {
       "description_width": ""
      }
     },
     "a2a45a749e3a406aaddcaffab4403d71": {
      "model_module": "@jupyter-widgets/controls",
      "model_module_version": "1.1.0",
      "model_name": "LabelModel",
      "state": {
       "layout": "IPY_MODEL_13ca9599e8a6458b9f877c77a465cadf",
       "style": "IPY_MODEL_31bedefb041d45bc8089755ad4dee01e",
       "value": "Select the detector angles to plot."
      }
     },
     "a2bdbe1494814ef3a232b1d38c24af35": {
      "model_module": "@jupyter-widgets/base",
      "model_module_version": "1.0.0",
      "model_name": "LayoutModel",
      "state": {}
     },
     "a2de60ea094a4b74a1566c0c53e204dc": {
      "model_module": "@jupyter-widgets/controls",
      "model_module_version": "1.1.0",
      "model_name": "ToggleButtonsStyleModel",
      "state": {
       "button_width": "",
       "description_width": ""
      }
     },
     "a321347d4d5f4ecb987a829fce03e8c4": {
      "model_module": "@jupyter-widgets/controls",
      "model_module_version": "1.1.0",
      "model_name": "DescriptionStyleModel",
      "state": {
       "description_width": ""
      }
     },
     "a3226dc7be214e14b368365138b0cf25": {
      "model_module": "@jupyter-widgets/controls",
      "model_module_version": "1.1.0",
      "model_name": "DescriptionStyleModel",
      "state": {
       "description_width": ""
      }
     },
     "a32596ccc6844d88beffb3e6617460f0": {
      "model_module": "@jupyter-widgets/base",
      "model_module_version": "1.0.0",
      "model_name": "LayoutModel",
      "state": {}
     },
     "a34bddacd7c846048547679dac7f6991": {
      "model_module": "@jupyter-widgets/controls",
      "model_module_version": "1.1.0",
      "model_name": "LabelModel",
      "state": {
       "layout": "IPY_MODEL_545ebc91c17c4aa6959b057a16b3ac92",
       "style": "IPY_MODEL_a778cf604d174f4d9efe53ae6dfcc98b",
       "value": "Select upstream target mass thickness."
      }
     },
     "a369064e5b44428d8172adba0d439f70": {
      "model_module": "@jupyter-widgets/controls",
      "model_module_version": "1.1.0",
      "model_name": "DescriptionStyleModel",
      "state": {
       "description_width": ""
      }
     },
     "a37c33a2be514ce6b6365c51523ce460": {
      "model_module": "@jupyter-widgets/controls",
      "model_module_version": "1.1.0",
      "model_name": "LabelModel",
      "state": {
       "layout": "IPY_MODEL_f8187533cbd64b0f92011819d7ecc492",
       "style": "IPY_MODEL_442ac209cf4f4253a7d278fb37682d26",
       "value": "Select projectile ion energy."
      }
     },
     "a38c5526261a44588ed4a03810dd74de": {
      "model_module": "@jupyter-widgets/controls",
      "model_module_version": "1.1.0",
      "model_name": "ToggleButtonsModel",
      "state": {
       "_options_labels": [
        "N (¹n)",
        "NDC (¹n)",
        "P (¹H)",
        "D (²H)",
        "T (³H)",
        "S (³He)",
        "A (⁴He)"
       ],
       "button_style": "",
       "description": "Type:",
       "icons": [],
       "index": 0,
       "layout": "IPY_MODEL_14fafc4eb4bf469cae61c06d8cce53bf",
       "style": "IPY_MODEL_403956e3427d41e39e4ca6ce37a021f3",
       "tooltips": [
        "Neutron",
        "Back Target Neutron",
        "Proton",
        "Deuteron",
        "Triton",
        "Helium-3",
        "Helium-4"
       ]
      }
     },
     "a3a4a3661a1245309cad93b6359eb7e0": {
      "model_module": "@jupyter-widgets/base",
      "model_module_version": "1.0.0",
      "model_name": "LayoutModel",
      "state": {}
     },
     "a3f03c52452f4040b71e2bb824bf4b8b": {
      "model_module": "@jupyter-widgets/controls",
      "model_module_version": "1.1.0",
      "model_name": "DescriptionStyleModel",
      "state": {
       "description_width": ""
      }
     },
     "a410023c692b43789d99c69fccbf3d0c": {
      "model_module": "@jupyter-widgets/controls",
      "model_module_version": "1.1.0",
      "model_name": "DescriptionStyleModel",
      "state": {
       "description_width": ""
      }
     },
     "a430f5e1f8104030adc87152f743628c": {
      "model_module": "@jupyter-widgets/base",
      "model_module_version": "1.0.0",
      "model_name": "LayoutModel",
      "state": {}
     },
     "a46faac67e3c484db0c7d7646c36f03c": {
      "model_module": "@jupyter-widgets/controls",
      "model_module_version": "1.1.0",
      "model_name": "LabelModel",
      "state": {
       "layout": "IPY_MODEL_2f9f375ed8694a78a0160c1848befb47",
       "style": "IPY_MODEL_d48a7a058fb447fab5d67609ac3ff4e6",
       "value": "Select a detector type."
      }
     },
     "a492ac76f1b94b6a9eb892afe1c19c06": {
      "model_module": "@jupyter-widgets/base",
      "model_module_version": "1.0.0",
      "model_name": "LayoutModel",
      "state": {}
     },
     "a4943de1efff43359180753e2490e53e": {
      "model_module": "@jupyter-widgets/base",
      "model_module_version": "1.0.0",
      "model_name": "LayoutModel",
      "state": {}
     },
     "a4b0d07e296942e08a63cd4351a1ad3d": {
      "model_module": "@jupyter-widgets/controls",
      "model_module_version": "1.1.0",
      "model_name": "CheckboxModel",
      "state": {
       "description": "45°",
       "disabled": false,
       "layout": "IPY_MODEL_2a6a5bce17a946f98b9b7c3a32c9d1cd",
       "style": "IPY_MODEL_73138b754209406a8c76f8b0357ac687",
       "value": true
      }
     },
     "a53084ae74bf4682b26cbdd8f14db5c5": {
      "model_module": "@jupyter-widgets/controls",
      "model_module_version": "1.1.0",
      "model_name": "ToggleButtonsModel",
      "state": {
       "_options_labels": [
        "N (¹n)",
        "NDC (¹n)",
        "P (¹H)",
        "D (²H)"
       ],
       "button_style": "",
       "description": "Particle:",
       "icons": [],
       "index": 0,
       "layout": "IPY_MODEL_96da12b143364498a1f8e79fa09113ba",
       "style": "IPY_MODEL_7d315670ef4f4b77a3c4bdbb3d99313c",
       "tooltips": [
        "Neutron",
        "Back Target Neutron",
        "Proton",
        "Deuteron"
       ]
      }
     },
     "a59b588a6e0b4502b50c251055bfb406": {
      "model_module": "@jupyter-widgets/controls",
      "model_module_version": "1.1.0",
      "model_name": "DescriptionStyleModel",
      "state": {
       "description_width": ""
      }
     },
     "a5ab0bc8e4894abf9f3ae4671f61de35": {
      "model_module": "@jupyter-widgets/base",
      "model_module_version": "1.0.0",
      "model_name": "LayoutModel",
      "state": {}
     },
     "a5ab1f2937214bd09dec3d87590ba417": {
      "model_module": "@jupyter-widgets/controls",
      "model_module_version": "1.1.0",
      "model_name": "DescriptionStyleModel",
      "state": {
       "description_width": ""
      }
     },
     "a61a0cdb903c499d8ff1ce3dd7f8ab10": {
      "model_module": "@jupyter-widgets/controls",
      "model_module_version": "1.1.0",
      "model_name": "CheckboxModel",
      "state": {
       "description": "PHITS simulated",
       "disabled": false,
       "layout": "IPY_MODEL_f2ad27baf4764943a64930549184f148",
       "style": "IPY_MODEL_b55ba0c4ae6f4a6799d320c9b45bfdf5",
       "value": true
      }
     },
     "a62492efc26142d39374db8dd98e3500": {
      "model_module": "@jupyter-widgets/controls",
      "model_module_version": "1.1.0",
      "model_name": "DescriptionStyleModel",
      "state": {
       "description_width": ""
      }
     },
     "a629492428ad48ee8eb25a68ad4c270b": {
      "model_module": "@jupyter-widgets/base",
      "model_module_version": "1.0.0",
      "model_name": "LayoutModel",
      "state": {}
     },
     "a6823a7ff4d644898a0521a67008d5ad": {
      "model_module": "@jupyter-widgets/controls",
      "model_module_version": "1.1.0",
      "model_name": "DescriptionStyleModel",
      "state": {
       "description_width": ""
      }
     },
     "a69908d8073948cb894f81841a272daa": {
      "model_module": "@jupyter-widgets/controls",
      "model_module_version": "1.1.0",
      "model_name": "CheckboxModel",
      "state": {
       "description": "10°",
       "disabled": false,
       "layout": "IPY_MODEL_5c8ae25629bb45bfa1828369ead77402",
       "style": "IPY_MODEL_1af087b5218c4437920f90cb063ef0cb",
       "value": true
      }
     },
     "a6c3f474e4fc44af9c36e8c0cf3f1b5a": {
      "model_module": "@jupyter-widgets/base",
      "model_module_version": "1.0.0",
      "model_name": "LayoutModel",
      "state": {}
     },
     "a6cbe10f2dfc4c23a6128fed72630ac7": {
      "model_module": "@jupyter-widgets/controls",
      "model_module_version": "1.1.0",
      "model_name": "DescriptionStyleModel",
      "state": {
       "description_width": ""
      }
     },
     "a6db707717084bd98e064729160813cb": {
      "model_module": "@jupyter-widgets/controls",
      "model_module_version": "1.1.0",
      "model_name": "DescriptionStyleModel",
      "state": {
       "description_width": ""
      }
     },
     "a6dde0c38fef49efb25f733d549d75f7": {
      "model_module": "@jupyter-widgets/controls",
      "model_module_version": "1.1.0",
      "model_name": "DescriptionStyleModel",
      "state": {
       "description_width": ""
      }
     },
     "a6e4e615cf024c96b0b19a74e84d6cef": {
      "model_module": "@jupyter-widgets/controls",
      "model_module_version": "1.1.0",
      "model_name": "DescriptionStyleModel",
      "state": {
       "description_width": ""
      }
     },
     "a6f9e3ee75754eecb9e07499d61a606d": {
      "model_module": "@jupyter-widgets/base",
      "model_module_version": "1.0.0",
      "model_name": "LayoutModel",
      "state": {}
     },
     "a6fc76628f134e61baecc5b2f935b09d": {
      "model_module": "@jupyter-widgets/controls",
      "model_module_version": "1.1.0",
      "model_name": "ToggleButtonsModel",
      "state": {
       "_options_labels": [
        "400 MeV/n",
        "800 MeV/n",
        "1500 MeV/n"
       ],
       "button_style": "",
       "description": "Energy:",
       "icons": [],
       "index": 0,
       "layout": "IPY_MODEL_8de4e7cb679a44798964a2c36f75b7a3",
       "style": "IPY_MODEL_e52c9ad6f0f94c16a168ca41d44d2b05",
       "tooltips": [
        "lowest energy",
        "middle energy",
        "highest energy"
       ]
      }
     },
     "a70b0e978e594f1399789e761e60afbf": {
      "model_module": "@jupyter-widgets/controls",
      "model_module_version": "1.1.0",
      "model_name": "ToggleButtonsStyleModel",
      "state": {
       "button_width": "",
       "description_width": ""
      }
     },
     "a715567199b948ed9bf18629dce166b8": {
      "model_module": "@jupyter-widgets/base",
      "model_module_version": "1.0.0",
      "model_name": "LayoutModel",
      "state": {}
     },
     "a736e35fa3074fa386911fcdb54f58e3": {
      "model_module": "@jupyter-widgets/base",
      "model_module_version": "1.0.0",
      "model_name": "LayoutModel",
      "state": {}
     },
     "a73ea27787e845ec9d670ffc57d5fe34": {
      "model_module": "@jupyter-widgets/controls",
      "model_module_version": "1.1.0",
      "model_name": "ToggleButtonsStyleModel",
      "state": {
       "button_width": "",
       "description_width": ""
      }
     },
     "a7559b98612a40d2b03ff7835e62fce8": {
      "model_module": "@jupyter-widgets/controls",
      "model_module_version": "1.1.0",
      "model_name": "CheckboxModel",
      "state": {
       "description": "30°",
       "disabled": false,
       "layout": "IPY_MODEL_e855032a03ab41298ecbce490692b442",
       "style": "IPY_MODEL_3e6868e05b4d42438e495a1ad59c565b",
       "value": true
      }
     },
     "a75b6cfabe5f49bebbcfef46c37b3617": {
      "model_module": "@jupyter-widgets/controls",
      "model_module_version": "1.1.0",
      "model_name": "CheckboxModel",
      "state": {
       "description": "135°",
       "disabled": false,
       "layout": "IPY_MODEL_858ff6cb153941629070dce3e8eab120",
       "style": "IPY_MODEL_4631bef8f06b44778e229ff134e96632",
       "value": true
      }
     },
     "a778cf604d174f4d9efe53ae6dfcc98b": {
      "model_module": "@jupyter-widgets/controls",
      "model_module_version": "1.1.0",
      "model_name": "DescriptionStyleModel",
      "state": {
       "description_width": ""
      }
     },
     "a7823db7be3f4cd48902bd8f6cbba005": {
      "model_module": "@jupyter-widgets/controls",
      "model_module_version": "1.1.0",
      "model_name": "DescriptionStyleModel",
      "state": {
       "description_width": ""
      }
     },
     "a7ac061fcead4b22aea85bf9a2788c5c": {
      "model_module": "@jupyter-widgets/controls",
      "model_module_version": "1.1.0",
      "model_name": "CheckboxModel",
      "state": {
       "description": "135°",
       "disabled": false,
       "layout": "IPY_MODEL_083d6cdb707a4e63bf282c13b7456a14",
       "style": "IPY_MODEL_2203b0e36dc448a6a364d02d9ddc7b10",
       "value": false
      }
     },
     "a7cf71167764452e83be627357958e79": {
      "model_module": "@jupyter-widgets/controls",
      "model_module_version": "1.1.0",
      "model_name": "CheckboxModel",
      "state": {
       "description": "10°",
       "disabled": false,
       "layout": "IPY_MODEL_55619c5dea094e449247ceb4ea2afc58",
       "style": "IPY_MODEL_9c750331100c4339ba5cdad0d8689798",
       "value": true
      }
     },
     "a7e1100ec75e45979025dd2ef79f9371": {
      "model_module": "@jupyter-widgets/controls",
      "model_module_version": "1.1.0",
      "model_name": "LabelModel",
      "state": {
       "layout": "IPY_MODEL_15be3f50cce94b91a4aa3def909f1e33",
       "style": "IPY_MODEL_023d98986734416e92f986009753c584",
       "value": "Select which secondary particle to plot spectra for."
      }
     },
     "a8527311491441dd8de9b71ddc09213b": {
      "model_module": "@jupyter-widgets/controls",
      "model_module_version": "1.1.0",
      "model_name": "ToggleButtonsModel",
      "state": {
       "_options_labels": [
        "P (¹H)",
        "D (²H)",
        "T (³H)",
        "A (⁴He)"
       ],
       "button_style": "",
       "description": "Type:",
       "icons": [],
       "index": 0,
       "layout": "IPY_MODEL_34c7f5a56df04a03a6dc535e5f75739a",
       "style": "IPY_MODEL_2aac0176a49544ad9d78d854909dc5a1",
       "tooltips": [
        "Proton",
        "Deuteron",
        "Triton",
        "Helium-4"
       ]
      }
     },
     "a86e995100d74316a3d0e3db7e535fcc": {
      "model_module": "@jupyter-widgets/base",
      "model_module_version": "1.0.0",
      "model_name": "LayoutModel",
      "state": {}
     },
     "a8841feafea14d99b95f53187891f2ae": {
      "model_module": "@jupyter-widgets/controls",
      "model_module_version": "1.1.0",
      "model_name": "ToggleButtonsModel",
      "state": {
       "_options_labels": [
        "20 g/cm²",
        "40 g/cm²",
        "60 g/cm²"
       ],
       "button_style": "",
       "description": "Thickness:",
       "icons": [],
       "index": 0,
       "layout": "IPY_MODEL_2390edd9b3c642169437648801af5220",
       "style": "IPY_MODEL_f199881453b040ecba836e9210e1e2bd",
       "tooltips": [
        "20 g/cm² Aluminum",
        "40 g/cm² Aluminum",
        "60 g/cm² Aluminum"
       ]
      }
     },
     "a8a2ca2e021d4049b9d303d2eeca3e14": {
      "model_module": "@jupyter-widgets/controls",
      "model_module_version": "1.1.0",
      "model_name": "CheckboxModel",
      "state": {
       "description": "80°",
       "disabled": false,
       "layout": "IPY_MODEL_b134c9403fea4574bd2840c454cb26d7",
       "style": "IPY_MODEL_1e7bec4752ff40afa2b30faaa9181f59",
       "value": false
      }
     },
     "a8c7d47f1a484630a29733c5b4b79d98": {
      "model_module": "@jupyter-widgets/controls",
      "model_module_version": "1.1.0",
      "model_name": "ToggleButtonsModel",
      "state": {
       "_options_labels": [
        "H",
        "He",
        "C",
        "Si",
        "Fe"
       ],
       "button_style": "",
       "description": "Ion:",
       "icons": [],
       "index": 0,
       "layout": "IPY_MODEL_e58a8f5499a64d7d8362340324127d7d",
       "style": "IPY_MODEL_827c1636df9f4da3b9e26740c6b7ea19",
       "tooltips": [
        "Hydrogen",
        "Helium",
        "Carbon",
        "Silicon",
        "Iron"
       ]
      }
     },
     "a8e419868feb40a79cfca7b3f532a7fa": {
      "model_module": "@jupyter-widgets/base",
      "model_module_version": "1.0.0",
      "model_name": "LayoutModel",
      "state": {}
     },
     "a8e63e1dcb4345d2b913355531ac989f": {
      "model_module": "@jupyter-widgets/base",
      "model_module_version": "1.0.0",
      "model_name": "LayoutModel",
      "state": {}
     },
     "a8ff9a8265864ce6b8522a45b3a04d55": {
      "model_module": "@jupyter-widgets/controls",
      "model_module_version": "1.1.0",
      "model_name": "DescriptionStyleModel",
      "state": {
       "description_width": ""
      }
     },
     "a900600b456b46a681fcc9494b7ece95": {
      "model_module": "@jupyter-widgets/controls",
      "model_module_version": "1.1.0",
      "model_name": "DescriptionStyleModel",
      "state": {
       "description_width": ""
      }
     },
     "a909c92eb1cd48299d3eaffaf12d2cc4": {
      "model_module": "@jupyter-widgets/controls",
      "model_module_version": "1.1.0",
      "model_name": "CheckboxModel",
      "state": {
       "description": "10°",
       "disabled": false,
       "layout": "IPY_MODEL_447f53e19b2f4ddf9d2a3f12f6e5636f",
       "style": "IPY_MODEL_7bc3fbb9ab3f45348de818119b4edb4a",
       "value": true
      }
     },
     "a91084f9d3494b6a940831af3dd58f88": {
      "model_module": "@jupyter-widgets/base",
      "model_module_version": "1.0.0",
      "model_name": "LayoutModel",
      "state": {}
     },
     "a918cb0bb85249d1b54b8565dad3f659": {
      "model_module": "@jupyter-widgets/base",
      "model_module_version": "1.0.0",
      "model_name": "LayoutModel",
      "state": {}
     },
     "a9e42351c8da44b9ad978d46ab3d72ab": {
      "model_module": "@jupyter-widgets/controls",
      "model_module_version": "1.1.0",
      "model_name": "DescriptionStyleModel",
      "state": {
       "description_width": ""
      }
     },
     "a9eb32704977437e852c288bee57f477": {
      "model_module": "@jupyter-widgets/base",
      "model_module_version": "1.0.0",
      "model_name": "LayoutModel",
      "state": {}
     },
     "a9ff3c6349dd4e3aa5f9024c95be5218": {
      "model_module": "@jupyter-widgets/controls",
      "model_module_version": "1.1.0",
      "model_name": "CheckboxModel",
      "state": {
       "description": "135°",
       "disabled": false,
       "layout": "IPY_MODEL_d0712f64deb44255bae5800bafb719c0",
       "style": "IPY_MODEL_89eda586ef094d9e9d2cbe3f9c364b32",
       "value": true
      }
     },
     "aa131432c11c43cd9c947c59d810af25": {
      "model_module": "@jupyter-widgets/controls",
      "model_module_version": "1.1.0",
      "model_name": "ToggleButtonsStyleModel",
      "state": {
       "button_width": "",
       "description_width": ""
      }
     },
     "aa1a47aaec0f414d8480b69918503e93": {
      "model_module": "@jupyter-widgets/controls",
      "model_module_version": "1.1.0",
      "model_name": "DescriptionStyleModel",
      "state": {
       "description_width": ""
      }
     },
     "aa35185bf3a34092a2bd1af2cf00e408": {
      "model_module": "@jupyter-widgets/controls",
      "model_module_version": "1.1.0",
      "model_name": "DescriptionStyleModel",
      "state": {
       "description_width": ""
      }
     },
     "aa3cfd405b92404eb2f19d71ca77330c": {
      "model_module": "@jupyter-widgets/controls",
      "model_module_version": "1.1.0",
      "model_name": "DescriptionStyleModel",
      "state": {
       "description_width": ""
      }
     },
     "aa576a24ff1e4532a1ab8eb9fca802c4": {
      "model_module": "@jupyter-widgets/controls",
      "model_module_version": "1.1.0",
      "model_name": "ToggleButtonsStyleModel",
      "state": {
       "button_width": "",
       "description_width": ""
      }
     },
     "aa9ce7dc21004692afd0bf9d3f368c59": {
      "model_module": "@jupyter-widgets/base",
      "model_module_version": "1.0.0",
      "model_name": "LayoutModel",
      "state": {}
     },
     "aaa3a47d844c4b0dac0107764300dd71": {
      "model_module": "@jupyter-widgets/controls",
      "model_module_version": "1.1.0",
      "model_name": "CheckboxModel",
      "state": {
       "description": "80°",
       "disabled": false,
       "layout": "IPY_MODEL_ae9a6cf6bb114d679211456db7d47d11",
       "style": "IPY_MODEL_367b1a0957de43d1b458dacce96a2b0d",
       "value": true
      }
     },
     "aaa63bbb5eb54110b6564cd3b6e94182": {
      "model_module": "@jupyter-widgets/controls",
      "model_module_version": "1.1.0",
      "model_name": "CheckboxModel",
      "state": {
       "description": "32.7°",
       "disabled": false,
       "layout": "IPY_MODEL_d7d04417ef3a4532976d037d0a51da0c",
       "style": "IPY_MODEL_e859ff3fab7f425f9d5d51bb08bb0418",
       "value": true
      }
     },
     "aac3db4e5d1e4f98a69d1cf4938a87d6": {
      "model_module": "@jupyter-widgets/base",
      "model_module_version": "1.0.0",
      "model_name": "LayoutModel",
      "state": {}
     },
     "aacbd410ba604eb5bfa744c5cca3a829": {
      "model_module": "@jupyter-widgets/controls",
      "model_module_version": "1.1.0",
      "model_name": "CheckboxModel",
      "state": {
       "description": "60°",
       "disabled": false,
       "layout": "IPY_MODEL_590c75c872914897a0b6cde58cca7b15",
       "style": "IPY_MODEL_834837e439a34d1fa4c89cc1e7e18944",
       "value": true
      }
     },
     "aae004f179e247eca0f69c2e845884f5": {
      "model_module": "@jupyter-widgets/controls",
      "model_module_version": "1.1.0",
      "model_name": "LabelModel",
      "state": {
       "layout": "IPY_MODEL_ff775fb71b26478da0e11f8d03b303f6",
       "style": "IPY_MODEL_de4ee6f855d746ea968143e1a598b77b",
       "value": "Select the detector angles to plot."
      }
     },
     "aae4131894c542f9a8804e5109bd7c6f": {
      "model_module": "@jupyter-widgets/controls",
      "model_module_version": "1.1.0",
      "model_name": "ToggleButtonsModel",
      "state": {
       "_options_labels": [
        "400 MeV",
        "800 MeV",
        "2500 MeV"
       ],
       "button_style": "",
       "description": "Energy:",
       "icons": [],
       "index": 0,
       "layout": "IPY_MODEL_2fe070cfb385435db6261ac22e7b218f",
       "style": "IPY_MODEL_0a3b209bcf6841b9a433d6e5c3b1a795",
       "tooltips": [
        "lowest energy",
        "middle energy",
        "highest energy"
       ]
      }
     },
     "ab08f3b531ee4b92bbbe6ee1c754c252": {
      "model_module": "@jupyter-widgets/controls",
      "model_module_version": "1.1.0",
      "model_name": "ToggleButtonsStyleModel",
      "state": {
       "button_width": "",
       "description_width": ""
      }
     },
     "ab316c5666524946ae0c172d4473ccf4": {
      "model_module": "@jupyter-widgets/controls",
      "model_module_version": "1.1.0",
      "model_name": "DescriptionStyleModel",
      "state": {
       "description_width": ""
      }
     },
     "ab51b1419f7546d9adedc7d98370b3be": {
      "model_module": "@jupyter-widgets/base",
      "model_module_version": "1.0.0",
      "model_name": "LayoutModel",
      "state": {}
     },
     "ab60a82ccdee43e69c1d0426c2e4b712": {
      "model_module": "@jupyter-widgets/controls",
      "model_module_version": "1.1.0",
      "model_name": "CheckboxModel",
      "state": {
       "description": "60°",
       "disabled": false,
       "layout": "IPY_MODEL_f673c3750a714ce6b241908ebc147d4d",
       "style": "IPY_MODEL_a6cbe10f2dfc4c23a6128fed72630ac7",
       "value": true
      }
     },
     "abba099c8d2346e3b5455ba8b4be4d26": {
      "model_module": "@jupyter-widgets/controls",
      "model_module_version": "1.1.0",
      "model_name": "DescriptionStyleModel",
      "state": {
       "description_width": ""
      }
     },
     "ac1392c5e79241cabcbe2f0b9cdd133a": {
      "model_module": "@jupyter-widgets/base",
      "model_module_version": "1.0.0",
      "model_name": "LayoutModel",
      "state": {}
     },
     "ac178c9f1ab74b948336cbfb2630dc42": {
      "model_module": "@jupyter-widgets/controls",
      "model_module_version": "1.1.0",
      "model_name": "ButtonModel",
      "state": {
       "button_style": "success",
       "description": "Update plot",
       "icon": "paint-brush",
       "layout": "IPY_MODEL_c24a1cfb75f44d6392ee6ea2874d43d0",
       "style": "IPY_MODEL_3d8b79afcd5346e89411d87b293cd799",
       "tooltip": "Click to redraw the plot below with updated options from above."
      }
     },
     "ac2f0828c98f4d179cf83ddf27166b0b": {
      "model_module": "@jupyter-widgets/base",
      "model_module_version": "1.0.0",
      "model_name": "LayoutModel",
      "state": {}
     },
     "ac4aa1f1b1e8453d87f1df70ac524806": {
      "model_module": "@jupyter-widgets/controls",
      "model_module_version": "1.1.0",
      "model_name": "CheckboxModel",
      "state": {
       "description": "10°",
       "disabled": false,
       "layout": "IPY_MODEL_ac1392c5e79241cabcbe2f0b9cdd133a",
       "style": "IPY_MODEL_008d4deaa4f24f778435821053645eab",
       "value": true
      }
     },
     "ac5963eefc4a4f2787971df6efcec6f9": {
      "model_module": "@jupyter-widgets/controls",
      "model_module_version": "1.1.0",
      "model_name": "CheckboxModel",
      "state": {
       "description": "30°",
       "disabled": false,
       "layout": "IPY_MODEL_10eb4b649ea049f6a6685d6b048edfea",
       "style": "IPY_MODEL_b957fd9211284d609f9603993f986749",
       "value": false
      }
     },
     "ac824a4a151342f982e4269c702e3713": {
      "model_module": "@jupyter-widgets/controls",
      "model_module_version": "1.1.0",
      "model_name": "CheckboxModel",
      "state": {
       "description": "PHITS simulated",
       "disabled": false,
       "layout": "IPY_MODEL_87c459b78b604640909d7f732feb1b01",
       "style": "IPY_MODEL_93187ff29a454bffa64ddd10403e4b64",
       "value": true
      }
     },
     "ac9577885a6643f3acdf6df98032a935": {
      "model_module": "@jupyter-widgets/controls",
      "model_module_version": "1.1.0",
      "model_name": "DescriptionStyleModel",
      "state": {
       "description_width": ""
      }
     },
     "aca553dec049411a9613a1df049c60f2": {
      "model_module": "@jupyter-widgets/base",
      "model_module_version": "1.0.0",
      "model_name": "LayoutModel",
      "state": {}
     },
     "acbc4bb96b4c494ab595aaeafc032f58": {
      "model_module": "@jupyter-widgets/controls",
      "model_module_version": "1.1.0",
      "model_name": "CheckboxModel",
      "state": {
       "description": "10°",
       "disabled": false,
       "layout": "IPY_MODEL_6b6887f98a3e425fb0be0ae08a8fee56",
       "style": "IPY_MODEL_0097f451415149d5a8a5b91cd0fcde5b",
       "value": true
      }
     },
     "ad5645d902d742a1803f4b773391fcc6": {
      "model_module": "@jupyter-widgets/controls",
      "model_module_version": "1.1.0",
      "model_name": "CheckboxModel",
      "state": {
       "description": "60°",
       "disabled": false,
       "layout": "IPY_MODEL_e70fff3b1c7d496b87c0f5a08a5d3555",
       "style": "IPY_MODEL_f26b555c18674641ac56b038c0e17764",
       "value": true
      }
     },
     "ad97f50377b04667a22d5c1ff7f846a1": {
      "model_module": "@jupyter-widgets/controls",
      "model_module_version": "1.1.0",
      "model_name": "CheckboxModel",
      "state": {
       "description": "135°",
       "disabled": false,
       "layout": "IPY_MODEL_5929c186d9eb48c99b0e76d2f047ecee",
       "style": "IPY_MODEL_a6dde0c38fef49efb25f733d549d75f7",
       "value": true
      }
     },
     "adca284843d044cabca92fd491c10dac": {
      "model_module": "@jupyter-widgets/controls",
      "model_module_version": "1.1.0",
      "model_name": "CheckboxModel",
      "state": {
       "description": "30°",
       "disabled": false,
       "layout": "IPY_MODEL_ef4bd5c55a7c45cc9ef95a2d4270d9a7",
       "style": "IPY_MODEL_4fa6bd4d322749fe891b1e8b7edd436a",
       "value": false
      }
     },
     "add3906993124ea1b4e1b692d9bd831b": {
      "model_module": "@jupyter-widgets/controls",
      "model_module_version": "1.1.0",
      "model_name": "DescriptionStyleModel",
      "state": {
       "description_width": ""
      }
     },
     "adeb596f502d42449d8811e70bbae8b2": {
      "model_module": "@jupyter-widgets/base",
      "model_module_version": "1.0.0",
      "model_name": "LayoutModel",
      "state": {}
     },
     "ae00635134a94eb785d52a4eb527ed7a": {
      "model_module": "@jupyter-widgets/controls",
      "model_module_version": "1.1.0",
      "model_name": "DescriptionStyleModel",
      "state": {
       "description_width": ""
      }
     },
     "ae04b1d2163a40a8bc5de76789e0d27d": {
      "model_module": "@jupyter-widgets/base",
      "model_module_version": "1.0.0",
      "model_name": "LayoutModel",
      "state": {}
     },
     "ae7dcbfed4f64731b92fa302d76824a5": {
      "model_module": "@jupyter-widgets/base",
      "model_module_version": "1.0.0",
      "model_name": "LayoutModel",
      "state": {}
     },
     "ae817525d46844a189196d2f31d7ef57": {
      "model_module": "@jupyter-widgets/controls",
      "model_module_version": "1.1.0",
      "model_name": "ToggleButtonsModel",
      "state": {
       "_options_labels": [
        "N (¹n)",
        "NDC (¹n)",
        "P (¹H)",
        "D (²H)"
       ],
       "button_style": "",
       "description": "Particle:",
       "icons": [],
       "index": 0,
       "layout": "IPY_MODEL_46158989dffc448fbbd4cbe5f5e4dd4f",
       "style": "IPY_MODEL_b2a470e8f4a848a08760b7e4ce68216b",
       "tooltips": [
        "Neutron",
        "Back Target Neutron",
        "Proton",
        "Deuteron"
       ]
      }
     },
     "ae9a6cf6bb114d679211456db7d47d11": {
      "model_module": "@jupyter-widgets/base",
      "model_module_version": "1.0.0",
      "model_name": "LayoutModel",
      "state": {}
     },
     "aeeface96ece4888a98b7db93c45d416": {
      "model_module": "@jupyter-widgets/controls",
      "model_module_version": "1.1.0",
      "model_name": "DescriptionStyleModel",
      "state": {
       "description_width": ""
      }
     },
     "aef07b9a3bf543f0ad01653eb45d6240": {
      "model_module": "@jupyter-widgets/controls",
      "model_module_version": "1.1.0",
      "model_name": "CheckboxModel",
      "state": {
       "description": "12.7°",
       "disabled": false,
       "layout": "IPY_MODEL_e7354a7351dc4a3eb056a1ebe167219f",
       "style": "IPY_MODEL_295a0c1f17204f57beb0788ecce78f07",
       "value": true
      }
     },
     "aef4391aa0ee4ab78258b8820f439057": {
      "model_module": "@jupyter-widgets/base",
      "model_module_version": "1.0.0",
      "model_name": "LayoutModel",
      "state": {}
     },
     "af0482e6032a4b5c895c578b92a107b1": {
      "model_module": "@jupyter-widgets/base",
      "model_module_version": "1.0.0",
      "model_name": "LayoutModel",
      "state": {}
     },
     "af447f0dfaba4018b93633549c50a98c": {
      "model_module": "@jupyter-widgets/base",
      "model_module_version": "1.0.0",
      "model_name": "LayoutModel",
      "state": {}
     },
     "afd94890969542849d0014c83d9f710e": {
      "model_module": "@jupyter-widgets/controls",
      "model_module_version": "1.1.0",
      "model_name": "CheckboxModel",
      "state": {
       "description": "30°",
       "disabled": false,
       "layout": "IPY_MODEL_b8d668ae50cd4ec0b0e9768bf13ebaee",
       "style": "IPY_MODEL_644ed6cc3d2144fdaa33e0de942764ca",
       "value": false
      }
     },
     "b04672d85a424837b02b239fd6d93306": {
      "model_module": "@jupyter-widgets/controls",
      "model_module_version": "1.1.0",
      "model_name": "DescriptionStyleModel",
      "state": {
       "description_width": ""
      }
     },
     "b066e3a83ac34f1a8f7719e1454d5875": {
      "model_module": "@jupyter-widgets/base",
      "model_module_version": "1.0.0",
      "model_name": "LayoutModel",
      "state": {}
     },
     "b06735c61c254823b8261980ec3395a3": {
      "model_module": "@jupyter-widgets/controls",
      "model_module_version": "1.1.0",
      "model_name": "DescriptionStyleModel",
      "state": {
       "description_width": ""
      }
     },
     "b06e725ffc5a4f68af22e7bbbb5e9aa9": {
      "model_module": "@jupyter-widgets/controls",
      "model_module_version": "1.1.0",
      "model_name": "CheckboxModel",
      "state": {
       "description": "10°",
       "disabled": false,
       "layout": "IPY_MODEL_2ae593c4383e45e9ae578cacbd91a07c",
       "style": "IPY_MODEL_18b949db5fe34bef96f34c741ec2e158",
       "value": true
      }
     },
     "b0850357b9f3483ebcb764038629e4b6": {
      "model_module": "@jupyter-widgets/base",
      "model_module_version": "1.0.0",
      "model_name": "LayoutModel",
      "state": {}
     },
     "b134c9403fea4574bd2840c454cb26d7": {
      "model_module": "@jupyter-widgets/base",
      "model_module_version": "1.0.0",
      "model_name": "LayoutModel",
      "state": {}
     },
     "b156ec5fd56541f6830dddbad5917e66": {
      "model_module": "@jupyter-widgets/controls",
      "model_module_version": "1.1.0",
      "model_name": "CheckboxModel",
      "state": {
       "description": "80°",
       "disabled": false,
       "layout": "IPY_MODEL_1dad1907f0694a15b1777d2307d3c28f",
       "style": "IPY_MODEL_846897d5be034873bc66dd9153ee457a",
       "value": true
      }
     },
     "b159994f2523454c849777345beef154": {
      "model_module": "@jupyter-widgets/base",
      "model_module_version": "1.0.0",
      "model_name": "LayoutModel",
      "state": {}
     },
     "b190e7ee1cc6456b9d4bb6b79f1a5050": {
      "model_module": "@jupyter-widgets/controls",
      "model_module_version": "1.1.0",
      "model_name": "DescriptionStyleModel",
      "state": {
       "description_width": ""
      }
     },
     "b1b2e4a172a0450c8398fd8c63426533": {
      "model_module": "@jupyter-widgets/base",
      "model_module_version": "1.0.0",
      "model_name": "LayoutModel",
      "state": {}
     },
     "b1e44077f2bb4e8c83ec53c33e3658c0": {
      "model_module": "@jupyter-widgets/base",
      "model_module_version": "1.0.0",
      "model_name": "LayoutModel",
      "state": {}
     },
     "b1f1994c3de742f98d80525a0dc6cdb8": {
      "model_module": "@jupyter-widgets/base",
      "model_module_version": "1.0.0",
      "model_name": "LayoutModel",
      "state": {}
     },
     "b1fc77d5024944e49d73df03a1d5033b": {
      "model_module": "@jupyter-widgets/base",
      "model_module_version": "1.0.0",
      "model_name": "LayoutModel",
      "state": {}
     },
     "b256a51a15734075b996a26f220eea7f": {
      "model_module": "@jupyter-widgets/base",
      "model_module_version": "1.0.0",
      "model_name": "LayoutModel",
      "state": {}
     },
     "b25d8c8e0874442ab49817d2a1a7778b": {
      "model_module": "@jupyter-widgets/controls",
      "model_module_version": "1.1.0",
      "model_name": "LabelModel",
      "state": {
       "layout": "IPY_MODEL_8b0eefb472c1489c9499bfca2575e77e",
       "style": "IPY_MODEL_2840e65aec3c47d3837a37a936e92cd1",
       "value": "Select the detector angles to plot."
      }
     },
     "b27880a92be84b8ebaf17bc82d752646": {
      "model_module": "@jupyter-widgets/controls",
      "model_module_version": "1.1.0",
      "model_name": "CheckboxModel",
      "state": {
       "description": "135°",
       "disabled": false,
       "layout": "IPY_MODEL_428942ba674d46a2bf6cdd61a85e65eb",
       "style": "IPY_MODEL_33c23a4720244974b92f5a5e7e3f3fd9",
       "value": false
      }
     },
     "b29216362c6d460ab5757f977fc97956": {
      "model_module": "@jupyter-widgets/controls",
      "model_module_version": "1.1.0",
      "model_name": "LabelModel",
      "state": {
       "layout": "IPY_MODEL_0abffa0061eb431eadd0b537a048d95d",
       "style": "IPY_MODEL_1ba608492b364dd0bee498de820a823f",
       "value": "Select which sets of data to display."
      }
     },
     "b2a39a040a6544d99cfd7e4863d4a141": {
      "model_module": "@jupyter-widgets/base",
      "model_module_version": "1.0.0",
      "model_name": "LayoutModel",
      "state": {}
     },
     "b2a470e8f4a848a08760b7e4ce68216b": {
      "model_module": "@jupyter-widgets/controls",
      "model_module_version": "1.1.0",
      "model_name": "ToggleButtonsStyleModel",
      "state": {
       "button_width": "",
       "description_width": ""
      }
     },
     "b2c2393f3cc943afa4c0a599f866c96b": {
      "model_module": "@jupyter-widgets/base",
      "model_module_version": "1.0.0",
      "model_name": "LayoutModel",
      "state": {}
     },
     "b3311dbc66674b6daaee1b5cd76ce614": {
      "model_module": "@jupyter-widgets/controls",
      "model_module_version": "1.1.0",
      "model_name": "DescriptionStyleModel",
      "state": {
       "description_width": ""
      }
     },
     "b34c0b45a9364bf4a77dbe00b1b856bf": {
      "model_module": "@jupyter-widgets/base",
      "model_module_version": "1.0.0",
      "model_name": "LayoutModel",
      "state": {}
     },
     "b3660327e0444359a041733a7b545b85": {
      "model_module": "@jupyter-widgets/controls",
      "model_module_version": "1.1.0",
      "model_name": "LabelModel",
      "state": {
       "layout": "IPY_MODEL_1b7bbc4fc6784941b0bb170af22bc7b8",
       "style": "IPY_MODEL_46da5a87136a4c1aab5938de6e45b620",
       "value": "Select which secondary particle to plot spectra for."
      }
     },
     "b3986e02e21e4ee1a1966105d74846a0": {
      "model_module": "@jupyter-widgets/base",
      "model_module_version": "1.0.0",
      "model_name": "LayoutModel",
      "state": {}
     },
     "b3f675f793e84eb8af82213e3f6ecee1": {
      "model_module": "@jupyter-widgets/controls",
      "model_module_version": "1.1.0",
      "model_name": "DescriptionStyleModel",
      "state": {
       "description_width": ""
      }
     },
     "b3fd0342b9c746f09a3e932129aa511a": {
      "model_module": "@jupyter-widgets/controls",
      "model_module_version": "1.1.0",
      "model_name": "CheckboxModel",
      "state": {
       "description": "60°",
       "disabled": false,
       "layout": "IPY_MODEL_395446e8e7c2410bb4bc4027eae2a0f3",
       "style": "IPY_MODEL_0d68d719bd2542f7a4a21bfdbf9e730f",
       "value": true
      }
     },
     "b42f68c91453466f98cc3c71ddde5df8": {
      "model_module": "@jupyter-widgets/controls",
      "model_module_version": "1.1.0",
      "model_name": "DescriptionStyleModel",
      "state": {
       "description_width": ""
      }
     },
     "b430db24d0cc4ea682e31554dad28dba": {
      "model_module": "@jupyter-widgets/base",
      "model_module_version": "1.0.0",
      "model_name": "LayoutModel",
      "state": {}
     },
     "b453f597f5f747879bbb7e51d7941077": {
      "model_module": "@jupyter-widgets/controls",
      "model_module_version": "1.1.0",
      "model_name": "DescriptionStyleModel",
      "state": {
       "description_width": ""
      }
     },
     "b4570addcf0d4ba69011271c073dbf3c": {
      "model_module": "@jupyter-widgets/base",
      "model_module_version": "1.0.0",
      "model_name": "LayoutModel",
      "state": {}
     },
     "b47b0b519fa84394b5a2796345eee4c6": {
      "model_module": "@jupyter-widgets/base",
      "model_module_version": "1.0.0",
      "model_name": "LayoutModel",
      "state": {}
     },
     "b5217da0eb624c05840ab91ea1d96f4e": {
      "model_module": "@jupyter-widgets/controls",
      "model_module_version": "1.1.0",
      "model_name": "CheckboxModel",
      "state": {
       "description": "135°",
       "disabled": false,
       "layout": "IPY_MODEL_09f1f55f355d408eb0e5a49eba19f462",
       "style": "IPY_MODEL_23c1b57dfe8f4761b1563240ada6a5b9",
       "value": true
      }
     },
     "b53b7f65937342619cb1be0545c449f6": {
      "model_module": "@jupyter-widgets/controls",
      "model_module_version": "1.1.0",
      "model_name": "LabelModel",
      "state": {
       "layout": "IPY_MODEL_4b3e0d7cc3a34cd19bab3b2ed36231f6",
       "style": "IPY_MODEL_0a0d9cee4f61455e902848baa25f71d3",
       "value": "Select which secondary particle to plot spectra for."
      }
     },
     "b55ba0c4ae6f4a6799d320c9b45bfdf5": {
      "model_module": "@jupyter-widgets/controls",
      "model_module_version": "1.1.0",
      "model_name": "DescriptionStyleModel",
      "state": {
       "description_width": ""
      }
     },
     "b566ff860baa48be8cdc1426984241e2": {
      "model_module": "@jupyter-widgets/controls",
      "model_module_version": "1.1.0",
      "model_name": "CheckboxModel",
      "state": {
       "description": "12.7°",
       "disabled": false,
       "layout": "IPY_MODEL_047a017af03e49b6b3d64477ccdbb467",
       "style": "IPY_MODEL_237c8b13f52c471ebb970a663c67e096",
       "value": true
      }
     },
     "b576ea33eaae4f5881e5e4345ac108c8": {
      "model_module": "@jupyter-widgets/controls",
      "model_module_version": "1.1.0",
      "model_name": "DescriptionStyleModel",
      "state": {
       "description_width": ""
      }
     },
     "b57b30fb574d4bc390c13d021a91cb9f": {
      "model_module": "@jupyter-widgets/controls",
      "model_module_version": "1.1.0",
      "model_name": "ToggleButtonsStyleModel",
      "state": {
       "button_width": "",
       "description_width": ""
      }
     },
     "b5f2154c6ab6493891178428e440d1b4": {
      "model_module": "@jupyter-widgets/controls",
      "model_module_version": "1.1.0",
      "model_name": "LabelModel",
      "state": {
       "layout": "IPY_MODEL_9205c477a1be4469b22d1997d942407d",
       "style": "IPY_MODEL_7d80945944f749c38f55ca99a4d8e702",
       "value": "Select the detector angles to plot."
      }
     },
     "b607a8a1011f41e79657979eed2d5d47": {
      "model_module": "@jupyter-widgets/base",
      "model_module_version": "1.0.0",
      "model_name": "LayoutModel",
      "state": {}
     },
     "b61af8bb6c014c1685e4e5c56f1af885": {
      "model_module": "@jupyter-widgets/controls",
      "model_module_version": "1.1.0",
      "model_name": "CheckboxModel",
      "state": {
       "description": "45°",
       "disabled": false,
       "layout": "IPY_MODEL_0df35494584e4aa2ae0f69fa4df9264c",
       "style": "IPY_MODEL_772e5375e9884cc59b06095fd14fa29c",
       "value": true
      }
     },
     "b65c01657bd649c8b8b1c5021cec090e": {
      "model_module": "@jupyter-widgets/base",
      "model_module_version": "1.0.0",
      "model_name": "LayoutModel",
      "state": {}
     },
     "b674b2d7269d422ca8de761bb917d833": {
      "model_module": "@jupyter-widgets/controls",
      "model_module_version": "1.1.0",
      "model_name": "LabelModel",
      "state": {
       "layout": "IPY_MODEL_8d01d2f5c2274b13984798d5294ef8a5",
       "style": "IPY_MODEL_c8ae63bb7c01400db0e6029877fcd041",
       "value": "Select which secondary particle to plot spectra for."
      }
     },
     "b67cce65aca44fba99692642db417b07": {
      "model_module": "@jupyter-widgets/base",
      "model_module_version": "1.0.0",
      "model_name": "LayoutModel",
      "state": {}
     },
     "b6a6026f9a484957a255fc96600c9c14": {
      "model_module": "@jupyter-widgets/base",
      "model_module_version": "1.0.0",
      "model_name": "LayoutModel",
      "state": {}
     },
     "b6afb6b7e2334252b59396dc1689c01a": {
      "model_module": "@jupyter-widgets/base",
      "model_module_version": "1.0.0",
      "model_name": "LayoutModel",
      "state": {}
     },
     "b6c24efdc53a4660a49ce93bba5de96a": {
      "model_module": "@jupyter-widgets/controls",
      "model_module_version": "1.1.0",
      "model_name": "ToggleButtonsStyleModel",
      "state": {
       "button_width": "",
       "description_width": ""
      }
     },
     "b6ca782bee7b416ab05bbad8e0002595": {
      "model_module": "@jupyter-widgets/controls",
      "model_module_version": "1.1.0",
      "model_name": "DescriptionStyleModel",
      "state": {
       "description_width": ""
      }
     },
     "b7be33966ed84c308844b092b0c1794b": {
      "model_module": "@jupyter-widgets/controls",
      "model_module_version": "1.1.0",
      "model_name": "LabelModel",
      "state": {
       "layout": "IPY_MODEL_7e75049786dd41599baa59cfbe1fc39b",
       "style": "IPY_MODEL_c678569758de4f529b9236ee5c8403d5",
       "value": "Select which secondary particle to plot spectra for."
      }
     },
     "b7d90552fa1a42b7b0e7aee76ca65e5f": {
      "model_module": "@jupyter-widgets/base",
      "model_module_version": "1.0.0",
      "model_name": "LayoutModel",
      "state": {}
     },
     "b8108655ca854fd99c5f09e3351079e7": {
      "model_module": "@jupyter-widgets/controls",
      "model_module_version": "1.1.0",
      "model_name": "LabelModel",
      "state": {
       "layout": "IPY_MODEL_d5cea0698b5549ff91278b8edbf8403c",
       "style": "IPY_MODEL_94b023f46072463da950114129668831",
       "value": "Select which secondary particle to plot spectra for."
      }
     },
     "b8297bde69954b1fad28c2af975eeb32": {
      "model_module": "@jupyter-widgets/base",
      "model_module_version": "1.0.0",
      "model_name": "LayoutModel",
      "state": {}
     },
     "b8344f383a404edcbad1b84fd6237079": {
      "model_module": "@jupyter-widgets/base",
      "model_module_version": "1.0.0",
      "model_name": "LayoutModel",
      "state": {}
     },
     "b856131f1d914d269eb6add2af93b1da": {
      "model_module": "@jupyter-widgets/controls",
      "model_module_version": "1.1.0",
      "model_name": "CheckboxModel",
      "state": {
       "description": "45°",
       "disabled": false,
       "layout": "IPY_MODEL_056247fa572144639545bed9724d980c",
       "style": "IPY_MODEL_1444a36731094071b713ff974db02236",
       "value": true
      }
     },
     "b88e9620565a40ab941bc49f29829681": {
      "model_module": "@jupyter-widgets/controls",
      "model_module_version": "1.1.0",
      "model_name": "DescriptionStyleModel",
      "state": {
       "description_width": ""
      }
     },
     "b897da7bbb4b482da822f91e6f777254": {
      "model_module": "@jupyter-widgets/base",
      "model_module_version": "1.0.0",
      "model_name": "LayoutModel",
      "state": {}
     },
     "b8c1fc0e080f4c32b4e9b22cf32efc54": {
      "model_module": "@jupyter-widgets/controls",
      "model_module_version": "1.1.0",
      "model_name": "DescriptionStyleModel",
      "state": {
       "description_width": ""
      }
     },
     "b8d668ae50cd4ec0b0e9768bf13ebaee": {
      "model_module": "@jupyter-widgets/base",
      "model_module_version": "1.0.0",
      "model_name": "LayoutModel",
      "state": {}
     },
     "b8dff6def2614a08a4261fa0559edf8f": {
      "model_module": "@jupyter-widgets/base",
      "model_module_version": "1.0.0",
      "model_name": "LayoutModel",
      "state": {}
     },
     "b92f010ba6644ef09f689749aaef6c55": {
      "model_module": "@jupyter-widgets/controls",
      "model_module_version": "1.1.0",
      "model_name": "ToggleButtonsModel",
      "state": {
       "_options_labels": [
        "20 g/cm²",
        "40 g/cm²",
        "60 g/cm²"
       ],
       "button_style": "",
       "description": "Thickness:",
       "icons": [],
       "index": 0,
       "layout": "IPY_MODEL_684604c74c48451cb8d88cce812fa285",
       "style": "IPY_MODEL_a26a19e574a74b3aad7172dac323e62c",
       "tooltips": [
        "20 g/cm² Aluminum",
        "40 g/cm² Aluminum",
        "60 g/cm² Aluminum"
       ]
      }
     },
     "b9316152f11b4e6abb675239c77ba00d": {
      "model_module": "@jupyter-widgets/controls",
      "model_module_version": "1.1.0",
      "model_name": "CheckboxModel",
      "state": {
       "description": "60°",
       "disabled": false,
       "layout": "IPY_MODEL_c247e4d27db645cdbb1e7153192027f9",
       "style": "IPY_MODEL_d4b9f633fd8e436691e847affb28e00e",
       "value": true
      }
     },
     "b949026b8c67487686303947e66a0280": {
      "model_module": "@jupyter-widgets/controls",
      "model_module_version": "1.1.0",
      "model_name": "ToggleButtonsStyleModel",
      "state": {
       "button_width": "",
       "description_width": ""
      }
     },
     "b957fd9211284d609f9603993f986749": {
      "model_module": "@jupyter-widgets/controls",
      "model_module_version": "1.1.0",
      "model_name": "DescriptionStyleModel",
      "state": {
       "description_width": ""
      }
     },
     "b9990a2b49b6435698c983f95dffee98": {
      "model_module": "@jupyter-widgets/controls",
      "model_module_version": "1.1.0",
      "model_name": "CheckboxModel",
      "state": {
       "description": "45°",
       "disabled": false,
       "layout": "IPY_MODEL_c14dc0adba2447e4baf73e910a05fa09",
       "style": "IPY_MODEL_c215f301a28d414e99b205b3675a75b2",
       "value": true
      }
     },
     "b9a295703a434006a11d43612918cd24": {
      "model_module": "@jupyter-widgets/controls",
      "model_module_version": "1.1.0",
      "model_name": "LabelModel",
      "state": {
       "layout": "IPY_MODEL_d1ac398fa03e44a19539a04c4ceeade0",
       "style": "IPY_MODEL_562a8ee6c510478180bbe9768376706b",
       "value": "Select the detector angles to plot."
      }
     },
     "b9dab9d17bf64a35a64df1f99eb71dff": {
      "model_module": "@jupyter-widgets/controls",
      "model_module_version": "1.1.0",
      "model_name": "LabelModel",
      "state": {
       "layout": "IPY_MODEL_1bc61067e7e84ec4893204250a69454a",
       "style": "IPY_MODEL_75b462689dd34b93816d80b241ce3836",
       "value": "Select which secondary particle to plot spectra for."
      }
     },
     "b9fe73a9d00447f5a6611838aa68771a": {
      "model_module": "@jupyter-widgets/base",
      "model_module_version": "1.0.0",
      "model_name": "LayoutModel",
      "state": {}
     },
     "ba5974914274434e849a78b98524392b": {
      "model_module": "@jupyter-widgets/base",
      "model_module_version": "1.0.0",
      "model_name": "LayoutModel",
      "state": {}
     },
     "ba69a78e6aeb4bbea77b34d2f431ded8": {
      "model_module": "@jupyter-widgets/controls",
      "model_module_version": "1.1.0",
      "model_name": "DescriptionStyleModel",
      "state": {
       "description_width": ""
      }
     },
     "ba722835f7ba445792a8f5734717ca5e": {
      "model_module": "@jupyter-widgets/base",
      "model_module_version": "1.0.0",
      "model_name": "LayoutModel",
      "state": {}
     },
     "ba78bc8a1130442f9a4edeca1e7ac020": {
      "model_module": "@jupyter-widgets/controls",
      "model_module_version": "1.1.0",
      "model_name": "CheckboxModel",
      "state": {
       "description": "60°",
       "disabled": false,
       "layout": "IPY_MODEL_38c4777f06d8457d84f1bb3212e9c5a4",
       "style": "IPY_MODEL_2c1a48858de5405496aade8f31332dc4",
       "value": true
      }
     },
     "ba7e0728ba3d417ca8231f82f6648646": {
      "model_module": "@jupyter-widgets/base",
      "model_module_version": "1.0.0",
      "model_name": "LayoutModel",
      "state": {}
     },
     "ba8a10037e434f2aa71abde4f5d250dd": {
      "model_module": "@jupyter-widgets/controls",
      "model_module_version": "1.1.0",
      "model_name": "DescriptionStyleModel",
      "state": {
       "description_width": ""
      }
     },
     "baa9ddbc265546269ba4c9d6de39ae5a": {
      "model_module": "@jupyter-widgets/controls",
      "model_module_version": "1.1.0",
      "model_name": "DescriptionStyleModel",
      "state": {
       "description_width": ""
      }
     },
     "bae7a6f7fe1a4131a2844ed828976a30": {
      "model_module": "@jupyter-widgets/controls",
      "model_module_version": "1.1.0",
      "model_name": "DescriptionStyleModel",
      "state": {
       "description_width": ""
      }
     },
     "baf6d63299f54108a883c23ac2fe5f20": {
      "model_module": "@jupyter-widgets/base",
      "model_module_version": "1.0.0",
      "model_name": "LayoutModel",
      "state": {}
     },
     "bb0ee65ce4894fc79a7cad5d70b7b308": {
      "model_module": "@jupyter-widgets/controls",
      "model_module_version": "1.1.0",
      "model_name": "DescriptionStyleModel",
      "state": {
       "description_width": ""
      }
     },
     "bb2cd9b121534a8290c6451b95d7d29c": {
      "model_module": "@jupyter-widgets/controls",
      "model_module_version": "1.1.0",
      "model_name": "DescriptionStyleModel",
      "state": {
       "description_width": ""
      }
     },
     "bb9f995dec93484fbc27fa706f5fd3f1": {
      "model_module": "@jupyter-widgets/controls",
      "model_module_version": "1.1.0",
      "model_name": "DescriptionStyleModel",
      "state": {
       "description_width": ""
      }
     },
     "bbb5f1f4d7e24b1a81fd951913eb0c43": {
      "model_module": "@jupyter-widgets/base",
      "model_module_version": "1.0.0",
      "model_name": "LayoutModel",
      "state": {}
     },
     "bbfdb7e282fb4cf7a8c4f45ee8f7158b": {
      "model_module": "@jupyter-widgets/base",
      "model_module_version": "1.0.0",
      "model_name": "LayoutModel",
      "state": {}
     },
     "bc51dbf7d6b44cb0861568d60899abdf": {
      "model_module": "@jupyter-widgets/base",
      "model_module_version": "1.0.0",
      "model_name": "LayoutModel",
      "state": {}
     },
     "bc66069ba2424e408276de2b0e664572": {
      "model_module": "@jupyter-widgets/base",
      "model_module_version": "1.0.0",
      "model_name": "LayoutModel",
      "state": {}
     },
     "bcb669779e704f5bbc7005e2a8fe5f34": {
      "model_module": "@jupyter-widgets/controls",
      "model_module_version": "1.1.0",
      "model_name": "DescriptionStyleModel",
      "state": {
       "description_width": ""
      }
     },
     "bd362c07cd334d70bd7f4785fc3d74b8": {
      "model_module": "@jupyter-widgets/controls",
      "model_module_version": "1.1.0",
      "model_name": "LabelModel",
      "state": {
       "layout": "IPY_MODEL_3f65a85a160a4441a7874fdb881d8141",
       "style": "IPY_MODEL_9a782c49ef184e6187246afe41090552",
       "value": "Select projectile ion energy."
      }
     },
     "bd41122844de4aae8b4b30b5db539440": {
      "model_module": "@jupyter-widgets/controls",
      "model_module_version": "1.1.0",
      "model_name": "LabelModel",
      "state": {
       "layout": "IPY_MODEL_16826bc0ce984138840e74701681d5b5",
       "style": "IPY_MODEL_04f6f0b7ec3144c382a4cc7cc0382006",
       "value": "Select which secondary particle to plot spectra for."
      }
     },
     "bd483a3dc18d413ea212d738f4af43c7": {
      "model_module": "@jupyter-widgets/controls",
      "model_module_version": "1.1.0",
      "model_name": "LabelModel",
      "state": {
       "layout": "IPY_MODEL_16f7563b15f24961b00e03182136e5e0",
       "style": "IPY_MODEL_89ba51ac47ff491199111cd3336fdf93",
       "value": "Select projectile ion species and energy."
      }
     },
     "bd5febe9c93d4f3d9f7c0a2de919bdcd": {
      "model_module": "@jupyter-widgets/controls",
      "model_module_version": "1.1.0",
      "model_name": "LabelModel",
      "state": {
       "layout": "IPY_MODEL_7bd7ac599ac74a43b9d70028a1cfbf6b",
       "style": "IPY_MODEL_55e1e3be375a42268d92b16cccceeff0",
       "value": "Select projectile ion energy."
      }
     },
     "bda8a0b7dba3496ba7ce9e542d024565": {
      "model_module": "@jupyter-widgets/base",
      "model_module_version": "1.0.0",
      "model_name": "LayoutModel",
      "state": {}
     },
     "bdbce8b329e84bacadec6d2e96f30b1e": {
      "model_module": "@jupyter-widgets/base",
      "model_module_version": "1.0.0",
      "model_name": "LayoutModel",
      "state": {}
     },
     "bdf78436e9c142c9a60aa393d33ca884": {
      "model_module": "@jupyter-widgets/base",
      "model_module_version": "1.0.0",
      "model_name": "LayoutModel",
      "state": {}
     },
     "be7c1d76834143be9f8d17152e78cf48": {
      "model_module": "@jupyter-widgets/controls",
      "model_module_version": "1.1.0",
      "model_name": "DescriptionStyleModel",
      "state": {
       "description_width": ""
      }
     },
     "be7e7da3f74547e9b6d4c1ebe08afb4a": {
      "model_module": "@jupyter-widgets/base",
      "model_module_version": "1.0.0",
      "model_name": "LayoutModel",
      "state": {}
     },
     "beab15b6f69046b9a9896a6d4c041455": {
      "model_module": "@jupyter-widgets/controls",
      "model_module_version": "1.1.0",
      "model_name": "CheckboxModel",
      "state": {
       "description": "MCNP simulated",
       "disabled": false,
       "layout": "IPY_MODEL_85f344bca2d2496c920f8d78b4cd6a77",
       "style": "IPY_MODEL_3ab5122a8d864d1d9bbb389b35e1ab2d",
       "value": true
      }
     },
     "bec0a54e31b749e9ad4b1152e11a6e85": {
      "model_module": "@jupyter-widgets/base",
      "model_module_version": "1.0.0",
      "model_name": "LayoutModel",
      "state": {}
     },
     "bf33cefc9a6c478fadc7163128193859": {
      "model_module": "@jupyter-widgets/controls",
      "model_module_version": "1.1.0",
      "model_name": "DescriptionStyleModel",
      "state": {
       "description_width": ""
      }
     },
     "bf382fe9a9d94fe6afae769e4d07fb7e": {
      "model_module": "@jupyter-widgets/controls",
      "model_module_version": "1.1.0",
      "model_name": "DescriptionStyleModel",
      "state": {
       "description_width": ""
      }
     },
     "bf3f53a943e7415d8dcc29ce937d5d99": {
      "model_module": "@jupyter-widgets/base",
      "model_module_version": "1.0.0",
      "model_name": "LayoutModel",
      "state": {}
     },
     "bf46a752abcc4d5fbf32245fdf95c4c6": {
      "model_module": "@jupyter-widgets/controls",
      "model_module_version": "1.1.0",
      "model_name": "DescriptionStyleModel",
      "state": {
       "description_width": ""
      }
     },
     "bfa9678962414ce1a91370a38ecd8bea": {
      "model_module": "@jupyter-widgets/controls",
      "model_module_version": "1.1.0",
      "model_name": "CheckboxModel",
      "state": {
       "description": "45°",
       "disabled": false,
       "layout": "IPY_MODEL_72fe73391da34aa7b16dcf466b9d7dcc",
       "style": "IPY_MODEL_84bb49288518474f8493046eb8864d73",
       "value": true
      }
     },
     "bfd6c883ab654524b99c3f030206e901": {
      "model_module": "@jupyter-widgets/base",
      "model_module_version": "1.0.0",
      "model_name": "LayoutModel",
      "state": {}
     },
     "bffadc0fdad34452a4d2a071f33aced7": {
      "model_module": "@jupyter-widgets/controls",
      "model_module_version": "1.1.0",
      "model_name": "CheckboxModel",
      "state": {
       "description": "80°",
       "disabled": false,
       "layout": "IPY_MODEL_53f0713094b941d09069608eb0b7e26c",
       "style": "IPY_MODEL_e10661569efd495da1417ba600cbe9cb",
       "value": true
      }
     },
     "c0022b5007774bf79c4d4b1687aa6774": {
      "model_module": "@jupyter-widgets/controls",
      "model_module_version": "1.1.0",
      "model_name": "CheckboxModel",
      "state": {
       "description": "30°",
       "disabled": false,
       "layout": "IPY_MODEL_fb4e6dcac5164de5891986bbceb3509d",
       "style": "IPY_MODEL_3d95b66ff94d442283299aecf4512049",
       "value": false
      }
     },
     "c01c78719669455786f6a3d7f97a34f2": {
      "model_module": "@jupyter-widgets/controls",
      "model_module_version": "1.1.0",
      "model_name": "ToggleButtonsStyleModel",
      "state": {
       "button_width": "",
       "description_width": ""
      }
     },
     "c028581d290146adb6944ce81d6a8445": {
      "model_module": "@jupyter-widgets/base",
      "model_module_version": "1.0.0",
      "model_name": "LayoutModel",
      "state": {}
     },
     "c0499be5ef594524a3196add15ece8df": {
      "model_module": "@jupyter-widgets/controls",
      "model_module_version": "1.1.0",
      "model_name": "DescriptionStyleModel",
      "state": {
       "description_width": ""
      }
     },
     "c056e640edce4c269d8bbf0f54262eae": {
      "model_module": "@jupyter-widgets/base",
      "model_module_version": "1.0.0",
      "model_name": "LayoutModel",
      "state": {}
     },
     "c0590248ff2b4526bf62006198a16f0e": {
      "model_module": "@jupyter-widgets/base",
      "model_module_version": "1.0.0",
      "model_name": "LayoutModel",
      "state": {}
     },
     "c0771b671595474abd61daef2cdb5433": {
      "model_module": "@jupyter-widgets/base",
      "model_module_version": "1.0.0",
      "model_name": "LayoutModel",
      "state": {}
     },
     "c0f6777710504c2a9dc4db5719a18f44": {
      "model_module": "@jupyter-widgets/controls",
      "model_module_version": "1.1.0",
      "model_name": "LabelModel",
      "state": {
       "layout": "IPY_MODEL_9c3d1a868c3744808e6abb20b62e5b3c",
       "style": "IPY_MODEL_1487e8abab6d47ebb0c49c2e27bd0fc5",
       "value": "Select which secondary particle to plot spectra for."
      }
     },
     "c14dc0adba2447e4baf73e910a05fa09": {
      "model_module": "@jupyter-widgets/base",
      "model_module_version": "1.0.0",
      "model_name": "LayoutModel",
      "state": {}
     },
     "c15c7534a6b2413885d8a67c1a50e638": {
      "model_module": "@jupyter-widgets/base",
      "model_module_version": "1.0.0",
      "model_name": "LayoutModel",
      "state": {}
     },
     "c194486c042d403cbe2d0be71a136b56": {
      "model_module": "@jupyter-widgets/base",
      "model_module_version": "1.0.0",
      "model_name": "LayoutModel",
      "state": {}
     },
     "c1aebeaac9fa4ea282b7974dbfe4b85e": {
      "model_module": "@jupyter-widgets/base",
      "model_module_version": "1.0.0",
      "model_name": "LayoutModel",
      "state": {}
     },
     "c1b4698aaec643bf83f637a29587f2b2": {
      "model_module": "@jupyter-widgets/base",
      "model_module_version": "1.0.0",
      "model_name": "LayoutModel",
      "state": {}
     },
     "c1b9929aef52467a8cb15e30ab6a6022": {
      "model_module": "@jupyter-widgets/controls",
      "model_module_version": "1.1.0",
      "model_name": "ToggleButtonsModel",
      "state": {
       "_options_labels": [
        "N (¹n)",
        "NDC (¹n)",
        "P (¹H)",
        "D (²H)",
        "T (³H)",
        "S (³He)",
        "A (⁴He)"
       ],
       "button_style": "",
       "description": "Type:",
       "icons": [],
       "index": 0,
       "layout": "IPY_MODEL_ba5974914274434e849a78b98524392b",
       "style": "IPY_MODEL_b57b30fb574d4bc390c13d021a91cb9f",
       "tooltips": [
        "Neutron",
        "Back Target Neutron",
        "Proton",
        "Deuteron",
        "Triton",
        "Helium-3",
        "Helium-4"
       ]
      }
     },
     "c1c5f6f054eb47afa07f81d79557c135": {
      "model_module": "@jupyter-widgets/controls",
      "model_module_version": "1.1.0",
      "model_name": "CheckboxModel",
      "state": {
       "description": "80°",
       "disabled": false,
       "layout": "IPY_MODEL_eb377fa66aa746eb968995e2f2ab0fb4",
       "style": "IPY_MODEL_a321347d4d5f4ecb987a829fce03e8c4",
       "value": true
      }
     },
     "c1cd48b836b04ac39da55e011f815606": {
      "model_module": "@jupyter-widgets/controls",
      "model_module_version": "1.1.0",
      "model_name": "CheckboxModel",
      "state": {
       "description": "60°",
       "disabled": false,
       "layout": "IPY_MODEL_d64a6f169766417687bda1456c4afe74",
       "style": "IPY_MODEL_d9522eb135c94484ab8c6f8eead3da76",
       "value": true
      }
     },
     "c1f0fe0e0033488dbc36898ea42ec496": {
      "model_module": "@jupyter-widgets/controls",
      "model_module_version": "1.1.0",
      "model_name": "CheckboxModel",
      "state": {
       "description": "135°",
       "disabled": false,
       "layout": "IPY_MODEL_e4b014e21c154a99a472d17155e7609e",
       "style": "IPY_MODEL_2cbce1b442a14338ac65ea260a0b4912",
       "value": true
      }
     },
     "c1ffa3b527a14f749db3767d28b3376e": {
      "model_module": "@jupyter-widgets/controls",
      "model_module_version": "1.1.0",
      "model_name": "CheckboxModel",
      "state": {
       "description": "135°",
       "disabled": false,
       "layout": "IPY_MODEL_6592682b66da430baa3d52e6c03c9f70",
       "style": "IPY_MODEL_a04b56b70c6047e7b67fb614b236f0a7",
       "value": true
      }
     },
     "c215f301a28d414e99b205b3675a75b2": {
      "model_module": "@jupyter-widgets/controls",
      "model_module_version": "1.1.0",
      "model_name": "DescriptionStyleModel",
      "state": {
       "description_width": ""
      }
     },
     "c228732bfbf743af860c7684138408c2": {
      "model_module": "@jupyter-widgets/controls",
      "model_module_version": "1.1.0",
      "model_name": "CheckboxModel",
      "state": {
       "description": "135°",
       "disabled": false,
       "layout": "IPY_MODEL_f53498484d3e4625ba5faed05d104562",
       "style": "IPY_MODEL_2225873d1fc84b7c8f4477065572bcf8",
       "value": true
      }
     },
     "c247e4d27db645cdbb1e7153192027f9": {
      "model_module": "@jupyter-widgets/base",
      "model_module_version": "1.0.0",
      "model_name": "LayoutModel",
      "state": {}
     },
     "c24a1cfb75f44d6392ee6ea2874d43d0": {
      "model_module": "@jupyter-widgets/base",
      "model_module_version": "1.0.0",
      "model_name": "LayoutModel",
      "state": {}
     },
     "c2605c1cb60749a7b7270bcd75f72b79": {
      "model_module": "@jupyter-widgets/controls",
      "model_module_version": "1.1.0",
      "model_name": "DescriptionStyleModel",
      "state": {
       "description_width": ""
      }
     },
     "c2da93c1248a406e97cdbda52cd4353e": {
      "model_module": "@jupyter-widgets/base",
      "model_module_version": "1.0.0",
      "model_name": "LayoutModel",
      "state": {}
     },
     "c318953cfd4243008e86467387d08b65": {
      "model_module": "@jupyter-widgets/controls",
      "model_module_version": "1.1.0",
      "model_name": "ToggleButtonsModel",
      "state": {
       "_options_labels": [
        "N (¹n)",
        "NDC (¹n)",
        "P (¹H)",
        "D (²H)",
        "T (³H)",
        "S (³He)",
        "A (⁴He)"
       ],
       "button_style": "",
       "description": "Type:",
       "icons": [],
       "index": 0,
       "layout": "IPY_MODEL_0746464c2c8941e88c580ec518a56bda",
       "style": "IPY_MODEL_6534c2495cb84bcebdd805f461b0f732",
       "tooltips": [
        "Neutron",
        "Back Target Neutron",
        "Proton",
        "Deuteron",
        "Triton",
        "Helium-3",
        "Helium-4"
       ]
      }
     },
     "c3400ef1c4144ff0a3d3f80ad347eef2": {
      "model_module": "@jupyter-widgets/controls",
      "model_module_version": "1.1.0",
      "model_name": "CheckboxModel",
      "state": {
       "description": "30°",
       "disabled": false,
       "layout": "IPY_MODEL_dbebba09632b483a9b1a0034cee0d6a2",
       "style": "IPY_MODEL_7fda445d7820403baadc8a73574b6efa",
       "value": false
      }
     },
     "c341e551dd3f44e6b6220a52550cbe89": {
      "model_module": "@jupyter-widgets/controls",
      "model_module_version": "1.1.0",
      "model_name": "DescriptionStyleModel",
      "state": {
       "description_width": ""
      }
     },
     "c364e5d45e4041ecb1b0e2902e992113": {
      "model_module": "@jupyter-widgets/controls",
      "model_module_version": "1.1.0",
      "model_name": "DescriptionStyleModel",
      "state": {
       "description_width": ""
      }
     },
     "c36ab799793746f6bc03bf2334ab97d9": {
      "model_module": "@jupyter-widgets/base",
      "model_module_version": "1.0.0",
      "model_name": "LayoutModel",
      "state": {}
     },
     "c3a04ceeb2e74e89bb7895f0f5657097": {
      "model_module": "@jupyter-widgets/controls",
      "model_module_version": "1.1.0",
      "model_name": "DescriptionStyleModel",
      "state": {
       "description_width": ""
      }
     },
     "c3cab31f4d4f4a858cd9408d120aca09": {
      "model_module": "@jupyter-widgets/base",
      "model_module_version": "1.0.0",
      "model_name": "LayoutModel",
      "state": {}
     },
     "c3ecc9526c494ff2a70d7aeab2d6a81a": {
      "model_module": "@jupyter-widgets/base",
      "model_module_version": "1.0.0",
      "model_name": "LayoutModel",
      "state": {}
     },
     "c3f3fef894c94cb3a2fed42e5d4f1d51": {
      "model_module": "@jupyter-widgets/base",
      "model_module_version": "1.0.0",
      "model_name": "LayoutModel",
      "state": {}
     },
     "c427e3c1ea6549109d108f8a2ff7ce3d": {
      "model_module": "@jupyter-widgets/base",
      "model_module_version": "1.0.0",
      "model_name": "LayoutModel",
      "state": {}
     },
     "c43587bf18fc4df3aa6cd8e0c6462a00": {
      "model_module": "@jupyter-widgets/controls",
      "model_module_version": "1.1.0",
      "model_name": "CheckboxModel",
      "state": {
       "description": "45°",
       "disabled": false,
       "layout": "IPY_MODEL_3b0965cfea5647cda8732d9283755930",
       "style": "IPY_MODEL_708e8d7a766147bbbdf1d488d6ce12fb",
       "value": true
      }
     },
     "c459114639ed4bc5a71cb01a38c3b60d": {
      "model_module": "@jupyter-widgets/controls",
      "model_module_version": "1.1.0",
      "model_name": "DescriptionStyleModel",
      "state": {
       "description_width": ""
      }
     },
     "c467599e69bc488e82d4f38a5ff5f2cb": {
      "model_module": "@jupyter-widgets/controls",
      "model_module_version": "1.1.0",
      "model_name": "CheckboxModel",
      "state": {
       "description": "60°",
       "disabled": false,
       "layout": "IPY_MODEL_221bea030d1f40a2b9b84b5abf1b088f",
       "style": "IPY_MODEL_2a459902ad7c4a8298153c85b011898a",
       "value": true
      }
     },
     "c4a1b29d0fb141bdbb5de598c0f0303c": {
      "model_module": "@jupyter-widgets/controls",
      "model_module_version": "1.1.0",
      "model_name": "DescriptionStyleModel",
      "state": {
       "description_width": ""
      }
     },
     "c4a57c92eebd4810aa0aa71fd8bd643b": {
      "model_module": "@jupyter-widgets/controls",
      "model_module_version": "1.1.0",
      "model_name": "ToggleButtonsModel",
      "state": {
       "_options_labels": [
        "N (¹n)",
        "NDC (¹n)",
        "P (¹H)",
        "D (²H)",
        "T (³H)",
        "S (³He)",
        "A (⁴He)"
       ],
       "button_style": "",
       "description": "Secondary:",
       "icons": [],
       "index": 0,
       "layout": "IPY_MODEL_701d737cb8f8401b810a0390210365f7",
       "style": "IPY_MODEL_6db02d35a9c74e88ba5a58093a39757d",
       "tooltips": [
        "Neutron",
        "Back Target Neutron",
        "Proton",
        "Deuteron",
        "Triton",
        "Helium-3",
        "Helium-4"
       ]
      }
     },
     "c4c4135d776f4acd9de51c55ac838f6e": {
      "model_module": "@jupyter-widgets/base",
      "model_module_version": "1.0.0",
      "model_name": "LayoutModel",
      "state": {}
     },
     "c5319387ee0f448b983f45fd842808da": {
      "model_module": "@jupyter-widgets/controls",
      "model_module_version": "1.1.0",
      "model_name": "DescriptionStyleModel",
      "state": {
       "description_width": ""
      }
     },
     "c54c9d51da38459b8157bb4c4af075a8": {
      "model_module": "@jupyter-widgets/controls",
      "model_module_version": "1.1.0",
      "model_name": "ButtonModel",
      "state": {
       "button_style": "success",
       "description": "Update plot",
       "icon": "paint-brush",
       "layout": "IPY_MODEL_b066e3a83ac34f1a8f7719e1454d5875",
       "style": "IPY_MODEL_dad9cd6404314951aeb9cf470121a8d4",
       "tooltip": "Click to redraw the plot below with updated options from above."
      }
     },
     "c55be318b618401aa49426e531b98d5a": {
      "model_module": "@jupyter-widgets/controls",
      "model_module_version": "1.1.0",
      "model_name": "DescriptionStyleModel",
      "state": {
       "description_width": ""
      }
     },
     "c562ef4f47e44ba4a25a1214067302a6": {
      "model_module": "@jupyter-widgets/controls",
      "model_module_version": "1.1.0",
      "model_name": "ToggleButtonsModel",
      "state": {
       "_options_labels": [
        "N (¹n)",
        "NDC (¹n)",
        "P (¹H)",
        "D (²H)",
        "T (³H)",
        "S (³He)",
        "A (⁴He)"
       ],
       "button_style": "",
       "description": "Type:",
       "icons": [],
       "index": 0,
       "layout": "IPY_MODEL_c1aebeaac9fa4ea282b7974dbfe4b85e",
       "style": "IPY_MODEL_f5ec4bafce8a47389fc36bbf380ff089",
       "tooltips": [
        "Neutron",
        "Back Target Neutron",
        "Proton",
        "Deuteron",
        "Triton",
        "Helium-3",
        "Helium-4"
       ]
      }
     },
     "c56ced0041c94f55aaa3a317d34c1d09": {
      "model_module": "@jupyter-widgets/controls",
      "model_module_version": "1.1.0",
      "model_name": "CheckboxModel",
      "state": {
       "description": "10°",
       "disabled": false,
       "layout": "IPY_MODEL_851d0803bb734f5cb54c8d637c457fd7",
       "style": "IPY_MODEL_652dafb0d07046108b2c23f2fb75432c",
       "value": true
      }
     },
     "c5ba512b65544eac8892c3d40dc607c7": {
      "model_module": "@jupyter-widgets/controls",
      "model_module_version": "1.1.0",
      "model_name": "CheckboxModel",
      "state": {
       "description": "80°",
       "disabled": false,
       "layout": "IPY_MODEL_5d2d2ef1e6f84956a3c03ae6b9da9860",
       "style": "IPY_MODEL_63d86dafd39f4b03988a50402ac33d4c",
       "value": true
      }
     },
     "c5d36e086e9d4cc3b7d1557ef0f7fa5e": {
      "model_module": "@jupyter-widgets/base",
      "model_module_version": "1.0.0",
      "model_name": "LayoutModel",
      "state": {}
     },
     "c6149c9d664341eeb822611421881604": {
      "model_module": "@jupyter-widgets/base",
      "model_module_version": "1.0.0",
      "model_name": "LayoutModel",
      "state": {}
     },
     "c62d708d273e40c981235311559699b9": {
      "model_module": "@jupyter-widgets/controls",
      "model_module_version": "1.1.0",
      "model_name": "DescriptionStyleModel",
      "state": {
       "description_width": ""
      }
     },
     "c65b04ff06e647c3a975ba85789edcdd": {
      "model_module": "@jupyter-widgets/controls",
      "model_module_version": "1.1.0",
      "model_name": "DescriptionStyleModel",
      "state": {
       "description_width": ""
      }
     },
     "c678569758de4f529b9236ee5c8403d5": {
      "model_module": "@jupyter-widgets/controls",
      "model_module_version": "1.1.0",
      "model_name": "DescriptionStyleModel",
      "state": {
       "description_width": ""
      }
     },
     "c6d34a4b256b4c58bd95617ca18f265f": {
      "model_module": "@jupyter-widgets/controls",
      "model_module_version": "1.1.0",
      "model_name": "CheckboxModel",
      "state": {
       "description": "10°",
       "disabled": false,
       "layout": "IPY_MODEL_99b698eb56d747a4b5796dc5533fe444",
       "style": "IPY_MODEL_90182fc3b98247dda06477453d580c02",
       "value": true
      }
     },
     "c6e914b0c98940cfb5bdd881a7c06bf3": {
      "model_module": "@jupyter-widgets/controls",
      "model_module_version": "1.1.0",
      "model_name": "DescriptionStyleModel",
      "state": {
       "description_width": ""
      }
     },
     "c72ecd5963ba4d40907396c95939e1c6": {
      "model_module": "@jupyter-widgets/base",
      "model_module_version": "1.0.0",
      "model_name": "LayoutModel",
      "state": {}
     },
     "c7328194159f4f2d85a4bda0a8139429": {
      "model_module": "@jupyter-widgets/controls",
      "model_module_version": "1.1.0",
      "model_name": "ButtonModel",
      "state": {
       "button_style": "success",
       "description": "Update plot",
       "icon": "paint-brush",
       "layout": "IPY_MODEL_5d45e9bedef14a86a1f78bb791530cec",
       "style": "IPY_MODEL_47696c0e2de54cffb03295fdca3ba4f9",
       "tooltip": "Click to redraw the plot below with updated options from above."
      }
     },
     "c758b050ef9b47c8b35069f92aa067b8": {
      "model_module": "@jupyter-widgets/base",
      "model_module_version": "1.0.0",
      "model_name": "LayoutModel",
      "state": {}
     },
     "c760664bc998443bb84932afb31eaad6": {
      "model_module": "@jupyter-widgets/base",
      "model_module_version": "1.0.0",
      "model_name": "LayoutModel",
      "state": {}
     },
     "c781799eb21a4af9aa79ac3f284d2c6c": {
      "model_module": "@jupyter-widgets/controls",
      "model_module_version": "1.1.0",
      "model_name": "LabelModel",
      "state": {
       "layout": "IPY_MODEL_88cfa02151b34707990f8b6da4262858",
       "style": "IPY_MODEL_d21dcefe518440e3b2bc50573c012adc",
       "value": "Select which secondary particle to plot spectra for."
      }
     },
     "c7c074fc033c4dddb885c5dd94e89828": {
      "model_module": "@jupyter-widgets/controls",
      "model_module_version": "1.1.0",
      "model_name": "LabelModel",
      "state": {
       "layout": "IPY_MODEL_c36ab799793746f6bc03bf2334ab97d9",
       "style": "IPY_MODEL_c459114639ed4bc5a71cb01a38c3b60d",
       "value": "Select which sets of data to display."
      }
     },
     "c7cfcb5d67974ae0ba1f4bc0e90120d3": {
      "model_module": "@jupyter-widgets/base",
      "model_module_version": "1.0.0",
      "model_name": "LayoutModel",
      "state": {}
     },
     "c7efe43aa3db4c0ca7e119d893945ce5": {
      "model_module": "@jupyter-widgets/controls",
      "model_module_version": "1.1.0",
      "model_name": "DescriptionStyleModel",
      "state": {
       "description_width": ""
      }
     },
     "c816ae50e3264d988f545c5092782e7c": {
      "model_module": "@jupyter-widgets/controls",
      "model_module_version": "1.1.0",
      "model_name": "CheckboxModel",
      "state": {
       "description": "28.2°",
       "disabled": false,
       "layout": "IPY_MODEL_6860fc537c664772b30afb7ebfc841f2",
       "style": "IPY_MODEL_381a1152e0f54045a01f73deaa3a0891",
       "value": false
      }
     },
     "c8211cb6300e44fa966325786ab29b71": {
      "model_module": "@jupyter-widgets/controls",
      "model_module_version": "1.1.0",
      "model_name": "DescriptionStyleModel",
      "state": {
       "description_width": ""
      }
     },
     "c8511dd3661343c6858f5476e0b6fc22": {
      "model_module": "@jupyter-widgets/controls",
      "model_module_version": "1.1.0",
      "model_name": "CheckboxModel",
      "state": {
       "description": "45°",
       "disabled": false,
       "layout": "IPY_MODEL_7ece3efc3e354dbfafc81f8f5768649d",
       "style": "IPY_MODEL_3c1f3f08990e48fa8891fc336116f9c7",
       "value": true
      }
     },
     "c8572d550f764f4fa25c8affbd897b36": {
      "model_module": "@jupyter-widgets/controls",
      "model_module_version": "1.1.0",
      "model_name": "ButtonModel",
      "state": {
       "button_style": "success",
       "description": "Update plot",
       "icon": "paint-brush",
       "layout": "IPY_MODEL_aef4391aa0ee4ab78258b8820f439057",
       "style": "IPY_MODEL_1a684b2eadf148cba283c44e38e6ec3c",
       "tooltip": "Click to redraw the plot below with updated options from above."
      }
     },
     "c8ae63bb7c01400db0e6029877fcd041": {
      "model_module": "@jupyter-widgets/controls",
      "model_module_version": "1.1.0",
      "model_name": "DescriptionStyleModel",
      "state": {
       "description_width": ""
      }
     },
     "c9096cce08064afe9a49ae9c2fa7066b": {
      "model_module": "@jupyter-widgets/base",
      "model_module_version": "1.0.0",
      "model_name": "LayoutModel",
      "state": {}
     },
     "c91d206c71514e329592f5b2d7847ce1": {
      "model_module": "@jupyter-widgets/controls",
      "model_module_version": "1.1.0",
      "model_name": "ToggleButtonsModel",
      "state": {
       "_options_labels": [
        "OLS",
        "NaI"
       ],
       "button_style": "",
       "description": "Type:",
       "icons": [],
       "index": 0,
       "layout": "IPY_MODEL_bda8a0b7dba3496ba7ce9e542d024565",
       "style": "IPY_MODEL_5f3628b512394296a21837d4baf0cae3",
       "tooltips": [
        "Organic Liquid Scintillator",
        "Sodium Iodide"
       ]
      }
     },
     "c95e28d6844e45619a4a4d1857fd5165": {
      "model_module": "@jupyter-widgets/controls",
      "model_module_version": "1.1.0",
      "model_name": "DescriptionStyleModel",
      "state": {
       "description_width": ""
      }
     },
     "c9a56b89822e4c4fbe565ecbbd144637": {
      "model_module": "@jupyter-widgets/controls",
      "model_module_version": "1.1.0",
      "model_name": "DescriptionStyleModel",
      "state": {
       "description_width": ""
      }
     },
     "c9cb879e1adc497faaf4f9487356048f": {
      "model_module": "@jupyter-widgets/controls",
      "model_module_version": "1.1.0",
      "model_name": "ToggleButtonsStyleModel",
      "state": {
       "button_width": "",
       "description_width": ""
      }
     },
     "ca085263f9b244b0a4e6d635af9f2787": {
      "model_module": "@jupyter-widgets/controls",
      "model_module_version": "1.1.0",
      "model_name": "CheckboxModel",
      "state": {
       "description": "45°",
       "disabled": false,
       "layout": "IPY_MODEL_3c0a2da75dd243fc8e9cabdd1f16b48c",
       "style": "IPY_MODEL_6e2dd0d385234c758577ccd5cbbbcad0",
       "value": true
      }
     },
     "ca182e3a0f424fc68dfb41f48a7d9b02": {
      "model_module": "@jupyter-widgets/controls",
      "model_module_version": "1.1.0",
      "model_name": "ToggleButtonsModel",
      "state": {
       "_options_labels": [
        "N (¹n)",
        "NDC (¹n)"
       ],
       "button_style": "",
       "description": "Type:",
       "icons": [],
       "index": 0,
       "layout": "IPY_MODEL_5101c32fba2647e7b23b2c007b6a958d",
       "style": "IPY_MODEL_cc98f6ce25ae4f01a2d0186e181a2604",
       "tooltips": [
        "Neutron",
        "Back Target Neutron"
       ]
      }
     },
     "ca45354f50c94677a51e2632ed6da418": {
      "model_module": "@jupyter-widgets/controls",
      "model_module_version": "1.1.0",
      "model_name": "DescriptionStyleModel",
      "state": {
       "description_width": ""
      }
     },
     "ca4e9777b07947ecabbda0ab4c227933": {
      "model_module": "@jupyter-widgets/controls",
      "model_module_version": "1.1.0",
      "model_name": "ToggleButtonsModel",
      "state": {
       "_options_labels": [
        "OLS",
        "NaI"
       ],
       "button_style": "",
       "description": "Type:",
       "icons": [],
       "index": 0,
       "layout": "IPY_MODEL_863893332e2e4a1ea3beeeb0e14183ca",
       "style": "IPY_MODEL_421425277dc24c669526e22b1bd57aa2",
       "tooltips": [
        "Organic Liquid Scintillator",
        "Sodium Iodide"
       ]
      }
     },
     "ca97b7d91b494700a0f9d8dbcdc06288": {
      "model_module": "@jupyter-widgets/controls",
      "model_module_version": "1.1.0",
      "model_name": "CheckboxModel",
      "state": {
       "description": "45°",
       "disabled": false,
       "layout": "IPY_MODEL_3ab053ea2b48422690ce68b194f7ddce",
       "style": "IPY_MODEL_e68d8f144a094788886e98075cc5562e",
       "value": true
      }
     },
     "caa204e113d1449080e1c516dedcc235": {
      "model_module": "@jupyter-widgets/controls",
      "model_module_version": "1.1.0",
      "model_name": "DescriptionStyleModel",
      "state": {
       "description_width": ""
      }
     },
     "cab1869c6d1a4ab0bb065fd99a0140ad": {
      "model_module": "@jupyter-widgets/base",
      "model_module_version": "1.0.0",
      "model_name": "LayoutModel",
      "state": {}
     },
     "cb0a7974a4e34272921826b18fdb2d63": {
      "model_module": "@jupyter-widgets/controls",
      "model_module_version": "1.1.0",
      "model_name": "CheckboxModel",
      "state": {
       "description": "10°",
       "disabled": false,
       "layout": "IPY_MODEL_4b2dacfe18dc47e1a9d89b9d4d0d17ff",
       "style": "IPY_MODEL_6ba8174a3a714bbda95b620867e30c97",
       "value": true
      }
     },
     "cb181dab03d54ddba255fc96e4d2a1cd": {
      "model_module": "@jupyter-widgets/controls",
      "model_module_version": "1.1.0",
      "model_name": "LabelModel",
      "state": {
       "layout": "IPY_MODEL_298021c8e8b04b778ba3e3be8f36f9d6",
       "style": "IPY_MODEL_d9d5d8db352a493f88c715bae758c0a6",
       "value": "Select projectile ion energy."
      }
     },
     "cb570e4a32cf48c1b8b9eb2590302fbc": {
      "model_module": "@jupyter-widgets/controls",
      "model_module_version": "1.1.0",
      "model_name": "DescriptionStyleModel",
      "state": {
       "description_width": ""
      }
     },
     "cc25001962124cd0b19df67981cb178d": {
      "model_module": "@jupyter-widgets/controls",
      "model_module_version": "1.1.0",
      "model_name": "DescriptionStyleModel",
      "state": {
       "description_width": ""
      }
     },
     "cc5a322d499e45ec875485585e0187e8": {
      "model_module": "@jupyter-widgets/base",
      "model_module_version": "1.0.0",
      "model_name": "LayoutModel",
      "state": {}
     },
     "cc65ddbade114d65816325a44dc067e5": {
      "model_module": "@jupyter-widgets/controls",
      "model_module_version": "1.1.0",
      "model_name": "LabelModel",
      "state": {
       "layout": "IPY_MODEL_af0482e6032a4b5c895c578b92a107b1",
       "style": "IPY_MODEL_ef63fe9cf051472285a2119408a5362c",
       "value": "Select the detector angles to plot."
      }
     },
     "cc72e4f4aa744945b46d2989b2c8382b": {
      "model_module": "@jupyter-widgets/base",
      "model_module_version": "1.0.0",
      "model_name": "LayoutModel",
      "state": {}
     },
     "cc8d38e0424c4fb483595feafc62784c": {
      "model_module": "@jupyter-widgets/controls",
      "model_module_version": "1.1.0",
      "model_name": "ToggleButtonsStyleModel",
      "state": {
       "button_width": "",
       "description_width": ""
      }
     },
     "cc98f6ce25ae4f01a2d0186e181a2604": {
      "model_module": "@jupyter-widgets/controls",
      "model_module_version": "1.1.0",
      "model_name": "ToggleButtonsStyleModel",
      "state": {
       "button_width": "",
       "description_width": ""
      }
     },
     "cca342e79c6b4f2abd356205fe68475c": {
      "model_module": "@jupyter-widgets/base",
      "model_module_version": "1.0.0",
      "model_name": "LayoutModel",
      "state": {}
     },
     "cca5dfc34d4d45ccb86da44519b3d350": {
      "model_module": "@jupyter-widgets/controls",
      "model_module_version": "1.1.0",
      "model_name": "LabelModel",
      "state": {
       "layout": "IPY_MODEL_981cdde308eb4481983d9a466e0bac36",
       "style": "IPY_MODEL_a17e5aded5b64ba3a833ad45ea3a34bf",
       "value": "Select the detector angles to plot."
      }
     },
     "ccb28a988e3d4037916318232e82fdc2": {
      "model_module": "@jupyter-widgets/base",
      "model_module_version": "1.0.0",
      "model_name": "LayoutModel",
      "state": {}
     },
     "ccb92fb4f4334ceab4beced3bde87ad2": {
      "model_module": "@jupyter-widgets/controls",
      "model_module_version": "1.1.0",
      "model_name": "DescriptionStyleModel",
      "state": {
       "description_width": ""
      }
     },
     "ccc22dfa892845448f1f0d935789a00c": {
      "model_module": "@jupyter-widgets/controls",
      "model_module_version": "1.1.0",
      "model_name": "CheckboxModel",
      "state": {
       "description": "30°",
       "disabled": false,
       "layout": "IPY_MODEL_72e9a796ad4b465882749d9c1f88720d",
       "style": "IPY_MODEL_f4d47f670d944ed8aaa908b07c2eafa3",
       "value": true
      }
     },
     "cce19528bb244a56bb26001c0f9ab56b": {
      "model_module": "@jupyter-widgets/controls",
      "model_module_version": "1.1.0",
      "model_name": "LabelModel",
      "state": {
       "layout": "IPY_MODEL_7266346fb06e49e89e893c7ad7383d17",
       "style": "IPY_MODEL_752f436956fe47a4adbe7186aead7787",
       "value": "Select a detector type."
      }
     },
     "cd07564de7c04f08bf0f8be801547399": {
      "model_module": "@jupyter-widgets/controls",
      "model_module_version": "1.1.0",
      "model_name": "DescriptionStyleModel",
      "state": {
       "description_width": ""
      }
     },
     "cdbb0ba078c340cf92d6e7d7f2d48a90": {
      "model_module": "@jupyter-widgets/base",
      "model_module_version": "1.0.0",
      "model_name": "LayoutModel",
      "state": {}
     },
     "cdfea99b01064148b8409bc2880ccaac": {
      "model_module": "@jupyter-widgets/controls",
      "model_module_version": "1.1.0",
      "model_name": "CheckboxModel",
      "state": {
       "description": "135°",
       "disabled": false,
       "layout": "IPY_MODEL_a2bdbe1494814ef3a232b1d38c24af35",
       "style": "IPY_MODEL_5334baa65f5a442abe5e6394834ac8d0",
       "value": true
      }
     },
     "ce1ca5fc584746ed8a4fe751652309bd": {
      "model_module": "@jupyter-widgets/controls",
      "model_module_version": "1.1.0",
      "model_name": "DescriptionStyleModel",
      "state": {
       "description_width": ""
      }
     },
     "ce360aefa9294facabe1ee60bc0862de": {
      "model_module": "@jupyter-widgets/base",
      "model_module_version": "1.0.0",
      "model_name": "LayoutModel",
      "state": {}
     },
     "ce52ac3d56b948a78c6987a176d06f62": {
      "model_module": "@jupyter-widgets/controls",
      "model_module_version": "1.1.0",
      "model_name": "ToggleButtonsStyleModel",
      "state": {
       "button_width": "",
       "description_width": ""
      }
     },
     "ce59fc8fef4245e2920d77de606af00b": {
      "model_module": "@jupyter-widgets/controls",
      "model_module_version": "1.1.0",
      "model_name": "CheckboxModel",
      "state": {
       "description": "45°",
       "disabled": false,
       "layout": "IPY_MODEL_67c7ff1eaa964102bb237a7e61175365",
       "style": "IPY_MODEL_d0c61a6afc2348c698021a04935529b0",
       "value": true
      }
     },
     "ceb39673d4414fd298cd7f6f4aec66f0": {
      "model_module": "@jupyter-widgets/controls",
      "model_module_version": "1.1.0",
      "model_name": "DescriptionStyleModel",
      "state": {
       "description_width": ""
      }
     },
     "cf507ac9b5704ecda923c74581b54fa9": {
      "model_module": "@jupyter-widgets/base",
      "model_module_version": "1.0.0",
      "model_name": "LayoutModel",
      "state": {}
     },
     "cf5108288c424c15bfd42102e6b2c791": {
      "model_module": "@jupyter-widgets/controls",
      "model_module_version": "1.1.0",
      "model_name": "ToggleButtonsModel",
      "state": {
       "_options_labels": [
        "400 MeV/n",
        "800 MeV/n",
        "1500 MeV/n"
       ],
       "button_style": "",
       "description": "Energy:",
       "icons": [],
       "index": 0,
       "layout": "IPY_MODEL_16645c168df54931bd863473f3de34b4",
       "style": "IPY_MODEL_ce52ac3d56b948a78c6987a176d06f62",
       "tooltips": [
        "lowest energy",
        "middle energy",
        "highest energy"
       ]
      }
     },
     "cf71b31f4cc440f89857fc5385661b21": {
      "model_module": "@jupyter-widgets/base",
      "model_module_version": "1.0.0",
      "model_name": "LayoutModel",
      "state": {}
     },
     "cf8555f94a5a495ea3b65f53dda0e5e0": {
      "model_module": "@jupyter-widgets/controls",
      "model_module_version": "1.1.0",
      "model_name": "DescriptionStyleModel",
      "state": {
       "description_width": ""
      }
     },
     "cfd89952bf0f4bc58f55bb5e034a9751": {
      "model_module": "@jupyter-widgets/controls",
      "model_module_version": "1.1.0",
      "model_name": "DescriptionStyleModel",
      "state": {
       "description_width": ""
      }
     },
     "d03745aebfca42919e9524eda50fc4da": {
      "model_module": "@jupyter-widgets/controls",
      "model_module_version": "1.1.0",
      "model_name": "CheckboxModel",
      "state": {
       "description": "7.2°",
       "disabled": false,
       "layout": "IPY_MODEL_7df21e8d5f964ee6940895fc16107d6f",
       "style": "IPY_MODEL_1e0c3eaa0d044be580b73c12fea09940",
       "value": true
      }
     },
     "d06b4dfdfe6649a2ab46d63a4d205844": {
      "model_module": "@jupyter-widgets/controls",
      "model_module_version": "1.1.0",
      "model_name": "CheckboxModel",
      "state": {
       "description": "10°",
       "disabled": false,
       "layout": "IPY_MODEL_460c05ff88a1487bbc9076500df65cf9",
       "style": "IPY_MODEL_30a95d8f1e9243a7b1ba9dabdd13c516",
       "value": true
      }
     },
     "d0712f64deb44255bae5800bafb719c0": {
      "model_module": "@jupyter-widgets/base",
      "model_module_version": "1.0.0",
      "model_name": "LayoutModel",
      "state": {}
     },
     "d09da5f86ec0486cb0fbeaad7d0b924a": {
      "model_module": "@jupyter-widgets/controls",
      "model_module_version": "1.1.0",
      "model_name": "DescriptionStyleModel",
      "state": {
       "description_width": ""
      }
     },
     "d0b49198d9184be0be9fa847b872bf6a": {
      "model_module": "@jupyter-widgets/controls",
      "model_module_version": "1.1.0",
      "model_name": "CheckboxModel",
      "state": {
       "description": "32.7°",
       "disabled": false,
       "layout": "IPY_MODEL_eb4ab7313de148e7975c3fd05921afd6",
       "style": "IPY_MODEL_2a4f94f6fc7342c99b7ed5068f1975d8",
       "value": false
      }
     },
     "d0c61a6afc2348c698021a04935529b0": {
      "model_module": "@jupyter-widgets/controls",
      "model_module_version": "1.1.0",
      "model_name": "DescriptionStyleModel",
      "state": {
       "description_width": ""
      }
     },
     "d0e0b39e16a8469d991ae26667382082": {
      "model_module": "@jupyter-widgets/controls",
      "model_module_version": "1.1.0",
      "model_name": "LabelModel",
      "state": {
       "layout": "IPY_MODEL_21c98fa0b913448fa02f309f8618c074",
       "style": "IPY_MODEL_77df7263787a480793999b2d1bfbd4c8",
       "value": "Select the detector angles to plot."
      }
     },
     "d0e1fef06d624578ae9bcc6a340862b2": {
      "model_module": "@jupyter-widgets/controls",
      "model_module_version": "1.1.0",
      "model_name": "CheckboxModel",
      "state": {
       "description": "MCNP simulated",
       "disabled": false,
       "layout": "IPY_MODEL_f10bfd995f7d431d8b378fcd07b5c54e",
       "style": "IPY_MODEL_c4a1b29d0fb141bdbb5de598c0f0303c",
       "value": true
      }
     },
     "d10246cf9dd74b78a37796d6c119979c": {
      "model_module": "@jupyter-widgets/controls",
      "model_module_version": "1.1.0",
      "model_name": "DescriptionStyleModel",
      "state": {
       "description_width": ""
      }
     },
     "d10acb0e71b24bb2b589371ee184085a": {
      "model_module": "@jupyter-widgets/base",
      "model_module_version": "1.0.0",
      "model_name": "LayoutModel",
      "state": {}
     },
     "d11cbd2368a4449d85a3884279d92917": {
      "model_module": "@jupyter-widgets/controls",
      "model_module_version": "1.1.0",
      "model_name": "LabelModel",
      "state": {
       "layout": "IPY_MODEL_0405d139d80c4d2fb48d2bc080b29133",
       "style": "IPY_MODEL_ae00635134a94eb785d52a4eb527ed7a",
       "value": "Select projectile ion energy."
      }
     },
     "d12d91af368c443586afb28670757a6d": {
      "model_module": "@jupyter-widgets/controls",
      "model_module_version": "1.1.0",
      "model_name": "LabelModel",
      "state": {
       "layout": "IPY_MODEL_77325e05ad2b433c87a9d5728f7d5981",
       "style": "IPY_MODEL_f063c43e128244e0b1ce21cf847b324b",
       "value": "Select which secondary particle to plot spectra for."
      }
     },
     "d1331ffa41c94abdacbc2ece91c03a7e": {
      "model_module": "@jupyter-widgets/base",
      "model_module_version": "1.0.0",
      "model_name": "LayoutModel",
      "state": {}
     },
     "d141f9622d7a4604a2f6c62bfabf5669": {
      "model_module": "@jupyter-widgets/base",
      "model_module_version": "1.0.0",
      "model_name": "LayoutModel",
      "state": {}
     },
     "d1ac398fa03e44a19539a04c4ceeade0": {
      "model_module": "@jupyter-widgets/base",
      "model_module_version": "1.0.0",
      "model_name": "LayoutModel",
      "state": {}
     },
     "d21dcefe518440e3b2bc50573c012adc": {
      "model_module": "@jupyter-widgets/controls",
      "model_module_version": "1.1.0",
      "model_name": "DescriptionStyleModel",
      "state": {
       "description_width": ""
      }
     },
     "d25f491b0e884a14a2edd32657745a70": {
      "model_module": "@jupyter-widgets/controls",
      "model_module_version": "1.1.0",
      "model_name": "DescriptionStyleModel",
      "state": {
       "description_width": ""
      }
     },
     "d2d4748d7e4a474f915d0d74bdbdd997": {
      "model_module": "@jupyter-widgets/base",
      "model_module_version": "1.0.0",
      "model_name": "LayoutModel",
      "state": {}
     },
     "d31cfd5f4c5f4ce290a396164e3ede08": {
      "model_module": "@jupyter-widgets/controls",
      "model_module_version": "1.1.0",
      "model_name": "DescriptionStyleModel",
      "state": {
       "description_width": ""
      }
     },
     "d356f5cd30dd499481e6418c369bd94c": {
      "model_module": "@jupyter-widgets/controls",
      "model_module_version": "1.1.0",
      "model_name": "DescriptionStyleModel",
      "state": {
       "description_width": ""
      }
     },
     "d35e5f77b41c4814bb56e1036ae4fbfe": {
      "model_module": "@jupyter-widgets/controls",
      "model_module_version": "1.1.0",
      "model_name": "CheckboxModel",
      "state": {
       "description": "80°",
       "disabled": false,
       "layout": "IPY_MODEL_6dc1d2dba536489e85ba12120a94c707",
       "style": "IPY_MODEL_a369064e5b44428d8172adba0d439f70",
       "value": true
      }
     },
     "d36a66cbb06a49fc8b0bd0d5f5fbd66b": {
      "model_module": "@jupyter-widgets/controls",
      "model_module_version": "1.1.0",
      "model_name": "LabelModel",
      "state": {
       "layout": "IPY_MODEL_5e3355da7b9848ccac220d67e4854e00",
       "style": "IPY_MODEL_87e9155972b8434b99ed4584a1a99d02",
       "value": "Select projectile ion energy."
      }
     },
     "d37cc067f1304cf2bc31222f899ce506": {
      "model_module": "@jupyter-widgets/base",
      "model_module_version": "1.0.0",
      "model_name": "LayoutModel",
      "state": {}
     },
     "d380f760dcf04c08bc4b7e227caf8416": {
      "model_module": "@jupyter-widgets/base",
      "model_module_version": "1.0.0",
      "model_name": "LayoutModel",
      "state": {}
     },
     "d3c2d5b482364a8388e43e20541a6253": {
      "model_module": "@jupyter-widgets/controls",
      "model_module_version": "1.1.0",
      "model_name": "DescriptionStyleModel",
      "state": {
       "description_width": ""
      }
     },
     "d43db88bfe454f5cba401e106d89ffff": {
      "model_module": "@jupyter-widgets/controls",
      "model_module_version": "1.1.0",
      "model_name": "ToggleButtonsModel",
      "state": {
       "_options_labels": [
        "400 MeV",
        "800 MeV",
        "2500 MeV"
       ],
       "button_style": "",
       "description": "Energy:",
       "icons": [],
       "index": 0,
       "layout": "IPY_MODEL_c72ecd5963ba4d40907396c95939e1c6",
       "style": "IPY_MODEL_818e25e4cb0b4fec929f25ceebdb701b",
       "tooltips": [
        "lowest energy",
        "middle energy",
        "highest energy"
       ]
      }
     },
     "d46fa8a32302462a999d0a7f559585a5": {
      "model_module": "@jupyter-widgets/controls",
      "model_module_version": "1.1.0",
      "model_name": "ToggleButtonsModel",
      "state": {
       "_options_labels": [
        "N (¹n)",
        "NDC (¹n)",
        "P (¹H)",
        "D (²H)",
        "T (³H)",
        "S (³He)",
        "A (⁴He)"
       ],
       "button_style": "",
       "description": "Type:",
       "icons": [],
       "index": 0,
       "layout": "IPY_MODEL_c6149c9d664341eeb822611421881604",
       "style": "IPY_MODEL_aa131432c11c43cd9c947c59d810af25",
       "tooltips": [
        "Neutron",
        "Back Target Neutron",
        "Proton",
        "Deuteron",
        "Triton",
        "Helium-3",
        "Helium-4"
       ]
      }
     },
     "d47e2aa139ec4bc48fe1cd293fbfea06": {
      "model_module": "@jupyter-widgets/controls",
      "model_module_version": "1.1.0",
      "model_name": "DescriptionStyleModel",
      "state": {
       "description_width": ""
      }
     },
     "d48a7a058fb447fab5d67609ac3ff4e6": {
      "model_module": "@jupyter-widgets/controls",
      "model_module_version": "1.1.0",
      "model_name": "DescriptionStyleModel",
      "state": {
       "description_width": ""
      }
     },
     "d4acb5713705428ab1aceb1e8772a660": {
      "model_module": "@jupyter-widgets/controls",
      "model_module_version": "1.1.0",
      "model_name": "LabelModel",
      "state": {
       "layout": "IPY_MODEL_74ea0dc61073468e9e0226a6ea33f180",
       "style": "IPY_MODEL_fb46bc84044a4051b90c55b7d4fbb1ab",
       "value": "Select the detector angles to plot."
      }
     },
     "d4b9f633fd8e436691e847affb28e00e": {
      "model_module": "@jupyter-widgets/controls",
      "model_module_version": "1.1.0",
      "model_name": "DescriptionStyleModel",
      "state": {
       "description_width": ""
      }
     },
     "d505af3d2b874d91afabc23a4681c26c": {
      "model_module": "@jupyter-widgets/controls",
      "model_module_version": "1.1.0",
      "model_name": "DescriptionStyleModel",
      "state": {
       "description_width": ""
      }
     },
     "d529fa62e7e94894b3d5a2100c861933": {
      "model_module": "@jupyter-widgets/controls",
      "model_module_version": "1.1.0",
      "model_name": "ToggleButtonsStyleModel",
      "state": {
       "button_width": "",
       "description_width": ""
      }
     },
     "d54378043d464adeb0c417cdf20b4616": {
      "model_module": "@jupyter-widgets/controls",
      "model_module_version": "1.1.0",
      "model_name": "DescriptionStyleModel",
      "state": {
       "description_width": ""
      }
     },
     "d54854d800e84617aacf520cbd7df79d": {
      "model_module": "@jupyter-widgets/base",
      "model_module_version": "1.0.0",
      "model_name": "LayoutModel",
      "state": {}
     },
     "d552c1b61ca04e5a85526db6807b5d18": {
      "model_module": "@jupyter-widgets/controls",
      "model_module_version": "1.1.0",
      "model_name": "ToggleButtonsStyleModel",
      "state": {
       "button_width": "",
       "description_width": ""
      }
     },
     "d5740c9c717f42e7b4dfa1b1d430d732": {
      "model_module": "@jupyter-widgets/controls",
      "model_module_version": "1.1.0",
      "model_name": "CheckboxModel",
      "state": {
       "description": "60°",
       "disabled": false,
       "layout": "IPY_MODEL_e8b835b886ea4c968b92fde00e855c21",
       "style": "IPY_MODEL_7a7ba5dbc4044b0fa55b390b45f1c3b3",
       "value": true
      }
     },
     "d5a9329f81924f0ea96d106012f994ab": {
      "model_module": "@jupyter-widgets/controls",
      "model_module_version": "1.1.0",
      "model_name": "CheckboxModel",
      "state": {
       "description": "45°",
       "disabled": false,
       "layout": "IPY_MODEL_53519e7ebbf249e681459daa23be4e3f",
       "style": "IPY_MODEL_95fa7347cc184ca68dc4e17717d1ea43",
       "value": true
      }
     },
     "d5cea0698b5549ff91278b8edbf8403c": {
      "model_module": "@jupyter-widgets/base",
      "model_module_version": "1.0.0",
      "model_name": "LayoutModel",
      "state": {}
     },
     "d62ab8f41abe47f8859a1ed9e30b93eb": {
      "model_module": "@jupyter-widgets/controls",
      "model_module_version": "1.1.0",
      "model_name": "ToggleButtonsModel",
      "state": {
       "_options_labels": [
        "N (¹n)",
        "NDC (¹n)",
        "P (¹H)",
        "D (²H)"
       ],
       "button_style": "",
       "description": "Type:",
       "icons": [],
       "index": 0,
       "layout": "IPY_MODEL_54056f40661c4f7b81a0a27fb1dd94fd",
       "style": "IPY_MODEL_aa576a24ff1e4532a1ab8eb9fca802c4",
       "tooltips": [
        "Neutron",
        "Back Target Neutron",
        "Proton",
        "Deuteron"
       ]
      }
     },
     "d64a6f169766417687bda1456c4afe74": {
      "model_module": "@jupyter-widgets/base",
      "model_module_version": "1.0.0",
      "model_name": "LayoutModel",
      "state": {}
     },
     "d656614de7e54e42afa5eab1410a0eca": {
      "model_module": "@jupyter-widgets/base",
      "model_module_version": "1.0.0",
      "model_name": "LayoutModel",
      "state": {}
     },
     "d6a7cc457e3742c183d9af3d1a0aacbd": {
      "model_module": "@jupyter-widgets/base",
      "model_module_version": "1.0.0",
      "model_name": "LayoutModel",
      "state": {}
     },
     "d6d089e56ca14104aa87d92b54c8c5fd": {
      "model_module": "@jupyter-widgets/controls",
      "model_module_version": "1.1.0",
      "model_name": "CheckboxModel",
      "state": {
       "description": "30°",
       "disabled": false,
       "layout": "IPY_MODEL_8b392c0326854e5f93df8f993af5595f",
       "style": "IPY_MODEL_d10246cf9dd74b78a37796d6c119979c",
       "value": true
      }
     },
     "d6d67849279d4eec8fe5b047ef4db595": {
      "model_module": "@jupyter-widgets/controls",
      "model_module_version": "1.1.0",
      "model_name": "DescriptionStyleModel",
      "state": {
       "description_width": ""
      }
     },
     "d6eda2496fac475caf2e51fbacd7e9e4": {
      "model_module": "@jupyter-widgets/controls",
      "model_module_version": "1.1.0",
      "model_name": "CheckboxModel",
      "state": {
       "description": "12.7°",
       "disabled": false,
       "layout": "IPY_MODEL_75c02e8a80754bd2b432497f85d747be",
       "style": "IPY_MODEL_08a9fee61c6045c59bcc75c4bd20081c",
       "value": false
      }
     },
     "d7301efcfaf240e7a25f464811b3aaee": {
      "model_module": "@jupyter-widgets/base",
      "model_module_version": "1.0.0",
      "model_name": "LayoutModel",
      "state": {}
     },
     "d7728d7f18734d9985528ec5cc7e6bb9": {
      "model_module": "@jupyter-widgets/controls",
      "model_module_version": "1.1.0",
      "model_name": "DescriptionStyleModel",
      "state": {
       "description_width": ""
      }
     },
     "d787a6af00114089a18df01cc6832c33": {
      "model_module": "@jupyter-widgets/base",
      "model_module_version": "1.0.0",
      "model_name": "LayoutModel",
      "state": {}
     },
     "d7959efa2c654e6baf4d5e7d1100d24d": {
      "model_module": "@jupyter-widgets/controls",
      "model_module_version": "1.1.0",
      "model_name": "ToggleButtonsModel",
      "state": {
       "_options_labels": [
        "20 g/cm²",
        "40 g/cm²",
        "60 g/cm²"
       ],
       "button_style": "",
       "description": "Thickness:",
       "icons": [],
       "index": 1,
       "layout": "IPY_MODEL_8343888407d44945ae56701f2e2d6087",
       "style": "IPY_MODEL_9a0974ca170a48b6b4a0fcc84a2a35a4",
       "tooltips": [
        "20 g/cm² Aluminum",
        "40 g/cm² Aluminum",
        "60 g/cm² Aluminum"
       ]
      }
     },
     "d7c36f5ed1e24294ba35b69cf424710d": {
      "model_module": "@jupyter-widgets/controls",
      "model_module_version": "1.1.0",
      "model_name": "CheckboxModel",
      "state": {
       "description": "60°",
       "disabled": false,
       "layout": "IPY_MODEL_619eb7b1a8ab4a82a15314965e6fe9a2",
       "style": "IPY_MODEL_e325c6be398a42c2b945c5be78fb0c06",
       "value": true
      }
     },
     "d7c97b1ab1a3442b8d330c7f2321e3d2": {
      "model_module": "@jupyter-widgets/controls",
      "model_module_version": "1.1.0",
      "model_name": "CheckboxModel",
      "state": {
       "description": "30°",
       "disabled": false,
       "layout": "IPY_MODEL_fa831ea3f4b347af83e3d34696ccf9ba",
       "style": "IPY_MODEL_d7f5b22bf97648fc983661711776f422",
       "value": true
      }
     },
     "d7d04417ef3a4532976d037d0a51da0c": {
      "model_module": "@jupyter-widgets/base",
      "model_module_version": "1.0.0",
      "model_name": "LayoutModel",
      "state": {}
     },
     "d7e0e5a003b4402f8fbab141e943e4c4": {
      "model_module": "@jupyter-widgets/controls",
      "model_module_version": "1.1.0",
      "model_name": "DescriptionStyleModel",
      "state": {
       "description_width": ""
      }
     },
     "d7f5b22bf97648fc983661711776f422": {
      "model_module": "@jupyter-widgets/controls",
      "model_module_version": "1.1.0",
      "model_name": "DescriptionStyleModel",
      "state": {
       "description_width": ""
      }
     },
     "d8795ba803974c8c92ae1d6df80faf43": {
      "model_module": "@jupyter-widgets/controls",
      "model_module_version": "1.1.0",
      "model_name": "DescriptionStyleModel",
      "state": {
       "description_width": ""
      }
     },
     "d87a5ba2965a4af2a2608a1a3332edb6": {
      "model_module": "@jupyter-widgets/controls",
      "model_module_version": "1.1.0",
      "model_name": "LabelModel",
      "state": {
       "layout": "IPY_MODEL_e7ecb71a6c3a41c7a7e8bd0ae54eff62",
       "style": "IPY_MODEL_9c0fbf4338534d459b3867084725c7ec",
       "value": "Select the detector angles to plot."
      }
     },
     "d89d57eeb9ee413baad1cb61dc3a999b": {
      "model_module": "@jupyter-widgets/base",
      "model_module_version": "1.0.0",
      "model_name": "LayoutModel",
      "state": {}
     },
     "d8ce672d8dbd42eda9a634d6c3226882": {
      "model_module": "@jupyter-widgets/controls",
      "model_module_version": "1.1.0",
      "model_name": "ToggleButtonsModel",
      "state": {
       "_options_labels": [
        "OLS",
        "NaI"
       ],
       "button_style": "",
       "description": "Type:",
       "icons": [],
       "index": 0,
       "layout": "IPY_MODEL_e48a0655d50b42b683d86c150a6e7824",
       "style": "IPY_MODEL_fa868bfc1e314c0ebe3116aa8acc6ef2",
       "tooltips": [
        "Organic Liquid Scintillator",
        "Sodium Iodide"
       ]
      }
     },
     "d8cf82f7923240cb886a4c0be92a65b1": {
      "model_module": "@jupyter-widgets/controls",
      "model_module_version": "1.1.0",
      "model_name": "LabelModel",
      "state": {
       "layout": "IPY_MODEL_80283625d8bf4c69b8c889786437052f",
       "style": "IPY_MODEL_074cb167ae664aa1a749896d67cfd459",
       "value": "Select the detector angles to plot."
      }
     },
     "d8e79c82101d4d939d3b239c270edb50": {
      "model_module": "@jupyter-widgets/controls",
      "model_module_version": "1.1.0",
      "model_name": "DescriptionStyleModel",
      "state": {
       "description_width": ""
      }
     },
     "d8f2b0c985bc447299b6419e1ceb7075": {
      "model_module": "@jupyter-widgets/base",
      "model_module_version": "1.0.0",
      "model_name": "LayoutModel",
      "state": {}
     },
     "d9522eb135c94484ab8c6f8eead3da76": {
      "model_module": "@jupyter-widgets/controls",
      "model_module_version": "1.1.0",
      "model_name": "DescriptionStyleModel",
      "state": {
       "description_width": ""
      }
     },
     "d99aff9ae3da4c99b9fc05e9620edc89": {
      "model_module": "@jupyter-widgets/base",
      "model_module_version": "1.0.0",
      "model_name": "LayoutModel",
      "state": {}
     },
     "d9b6254a1030432bbedb4417d10e52ec": {
      "model_module": "@jupyter-widgets/controls",
      "model_module_version": "1.1.0",
      "model_name": "ToggleButtonsModel",
      "state": {
       "_options_labels": [
        "None",
        "Spaced by 10²"
       ],
       "button_style": "",
       "description": "Spacing:",
       "icons": [],
       "index": 0,
       "layout": "IPY_MODEL_1719a77f518142a39ecc0dced8ab027f",
       "style": "IPY_MODEL_b949026b8c67487686303947e66a0280",
       "tooltips": [
        "All values are presented as is.",
        "Plots for different detectors are multiplied by powers of 10² for easier viewing."
       ]
      }
     },
     "d9cc632b94b840ef8142b19040133b67": {
      "model_module": "@jupyter-widgets/base",
      "model_module_version": "1.0.0",
      "model_name": "LayoutModel",
      "state": {}
     },
     "d9d5d8db352a493f88c715bae758c0a6": {
      "model_module": "@jupyter-widgets/controls",
      "model_module_version": "1.1.0",
      "model_name": "DescriptionStyleModel",
      "state": {
       "description_width": ""
      }
     },
     "da1ae399ff994bd6917366e2a1af5b33": {
      "model_module": "@jupyter-widgets/base",
      "model_module_version": "1.0.0",
      "model_name": "LayoutModel",
      "state": {}
     },
     "daa1eb14b20f48a5a9aba4450376ed13": {
      "model_module": "@jupyter-widgets/base",
      "model_module_version": "1.0.0",
      "model_name": "LayoutModel",
      "state": {}
     },
     "dacecf3f41d744dca9a326df46e03dc7": {
      "model_module": "@jupyter-widgets/base",
      "model_module_version": "1.0.0",
      "model_name": "LayoutModel",
      "state": {}
     },
     "dad9cd6404314951aeb9cf470121a8d4": {
      "model_module": "@jupyter-widgets/controls",
      "model_module_version": "1.1.0",
      "model_name": "ButtonStyleModel",
      "state": {}
     },
     "db12b09ac5ee42478514531637af188e": {
      "model_module": "@jupyter-widgets/controls",
      "model_module_version": "1.1.0",
      "model_name": "CheckboxModel",
      "state": {
       "description": "45°",
       "disabled": false,
       "layout": "IPY_MODEL_3cd124f1e9e744878abd76ecc1d9d390",
       "style": "IPY_MODEL_dff6c18cf37c44c2bd38a2be79fedc22",
       "value": true
      }
     },
     "db23ea9742d24a9eb53dca9df0670822": {
      "model_module": "@jupyter-widgets/base",
      "model_module_version": "1.0.0",
      "model_name": "LayoutModel",
      "state": {}
     },
     "db2556a40a264b19be782f90ab5a18ba": {
      "model_module": "@jupyter-widgets/controls",
      "model_module_version": "1.1.0",
      "model_name": "CheckboxModel",
      "state": {
       "description": "10°",
       "disabled": false,
       "layout": "IPY_MODEL_25d96007033c46ebaa20fafb1a8eedb6",
       "style": "IPY_MODEL_c95e28d6844e45619a4a4d1857fd5165",
       "value": true
      }
     },
     "db5db616c7af47308fb873261c5e5e7b": {
      "model_module": "@jupyter-widgets/controls",
      "model_module_version": "1.1.0",
      "model_name": "ToggleButtonsStyleModel",
      "state": {
       "button_width": "",
       "description_width": ""
      }
     },
     "dbebba09632b483a9b1a0034cee0d6a2": {
      "model_module": "@jupyter-widgets/base",
      "model_module_version": "1.0.0",
      "model_name": "LayoutModel",
      "state": {}
     },
     "dc1b2f7af7544418b6a168a31f72d912": {
      "model_module": "@jupyter-widgets/controls",
      "model_module_version": "1.1.0",
      "model_name": "CheckboxModel",
      "state": {
       "description": "MCNP simulated",
       "disabled": false,
       "layout": "IPY_MODEL_d8f2b0c985bc447299b6419e1ceb7075",
       "style": "IPY_MODEL_cd07564de7c04f08bf0f8be801547399",
       "value": true
      }
     },
     "dc2fd02629da40079836a46a6d085d52": {
      "model_module": "@jupyter-widgets/controls",
      "model_module_version": "1.1.0",
      "model_name": "DescriptionStyleModel",
      "state": {
       "description_width": ""
      }
     },
     "dc4083201fbe4d7b947a7e16b3ea3e09": {
      "model_module": "@jupyter-widgets/controls",
      "model_module_version": "1.1.0",
      "model_name": "LabelModel",
      "state": {
       "layout": "IPY_MODEL_e535cc5b301040faa3ea82d0ab3d6376",
       "style": "IPY_MODEL_c7efe43aa3db4c0ca7e119d893945ce5",
       "value": "Select how data sets for each detector should be spaced apart (if at all)."
      }
     },
     "dc545899afba40ea8c875493c461fd48": {
      "model_module": "@jupyter-widgets/base",
      "model_module_version": "1.0.0",
      "model_name": "LayoutModel",
      "state": {}
     },
     "dc6d91722d5c44ff8bff9b0db1e2cff7": {
      "model_module": "@jupyter-widgets/controls",
      "model_module_version": "1.1.0",
      "model_name": "DescriptionStyleModel",
      "state": {
       "description_width": ""
      }
     },
     "dcac55fa47134e5a80e306325f646db6": {
      "model_module": "@jupyter-widgets/base",
      "model_module_version": "1.0.0",
      "model_name": "LayoutModel",
      "state": {}
     },
     "dcc580c163444356988ae2cd34110f94": {
      "model_module": "@jupyter-widgets/controls",
      "model_module_version": "1.1.0",
      "model_name": "DescriptionStyleModel",
      "state": {
       "description_width": ""
      }
     },
     "dcd4150ab35545e2ac72db780bab26ae": {
      "model_module": "@jupyter-widgets/controls",
      "model_module_version": "1.1.0",
      "model_name": "CheckboxModel",
      "state": {
       "description": "28.2°",
       "disabled": false,
       "layout": "IPY_MODEL_a1f8d073dfd248cea3df0a3525424b95",
       "style": "IPY_MODEL_e473009d463b4dd885e541ddf845313d",
       "value": true
      }
     },
     "dcd4ce5edb6c44989f20208388f10188": {
      "model_module": "@jupyter-widgets/base",
      "model_module_version": "1.0.0",
      "model_name": "LayoutModel",
      "state": {}
     },
     "ddd4c7730c2943e088922ab80047a48e": {
      "model_module": "@jupyter-widgets/controls",
      "model_module_version": "1.1.0",
      "model_name": "DescriptionStyleModel",
      "state": {
       "description_width": ""
      }
     },
     "de136a4347eb43718c46e90b77ba4eae": {
      "model_module": "@jupyter-widgets/controls",
      "model_module_version": "1.1.0",
      "model_name": "DescriptionStyleModel",
      "state": {
       "description_width": ""
      }
     },
     "de211141ed4840f4b0dbc62e00d0f764": {
      "model_module": "@jupyter-widgets/base",
      "model_module_version": "1.0.0",
      "model_name": "LayoutModel",
      "state": {}
     },
     "de4ee6f855d746ea968143e1a598b77b": {
      "model_module": "@jupyter-widgets/controls",
      "model_module_version": "1.1.0",
      "model_name": "DescriptionStyleModel",
      "state": {
       "description_width": ""
      }
     },
     "dea5b9bad1cd4b9db9b9fd149c0395ad": {
      "model_module": "@jupyter-widgets/controls",
      "model_module_version": "1.1.0",
      "model_name": "ToggleButtonsModel",
      "state": {
       "_options_labels": [
        "400 MeV/n",
        "800 MeV/n",
        "1500 MeV/n"
       ],
       "button_style": "",
       "description": "Energy:",
       "icons": [],
       "index": 0,
       "layout": "IPY_MODEL_2e6eb0dd8f87479ab08dc9000d5723d2",
       "style": "IPY_MODEL_d529fa62e7e94894b3d5a2100c861933",
       "tooltips": [
        "lowest energy",
        "middle energy",
        "highest energy"
       ]
      }
     },
     "deef3cc23c9e47b1a27184acabc313ff": {
      "model_module": "@jupyter-widgets/controls",
      "model_module_version": "1.1.0",
      "model_name": "DescriptionStyleModel",
      "state": {
       "description_width": ""
      }
     },
     "df026d70c59a450492e1245146cba983": {
      "model_module": "@jupyter-widgets/controls",
      "model_module_version": "1.1.0",
      "model_name": "LabelModel",
      "state": {
       "layout": "IPY_MODEL_e80e24a9feae43428877f7d17703b50b",
       "style": "IPY_MODEL_9fb91dc68d1e42289c11d12858d52439",
       "value": "Select the detector angles to plot."
      }
     },
     "df42854a99054e0ebb4bf73a9cf9e209": {
      "model_module": "@jupyter-widgets/base",
      "model_module_version": "1.0.0",
      "model_name": "LayoutModel",
      "state": {}
     },
     "df7a836d1bec4c7490c9e7f95433f9d2": {
      "model_module": "@jupyter-widgets/controls",
      "model_module_version": "1.1.0",
      "model_name": "LabelModel",
      "state": {
       "layout": "IPY_MODEL_3446711576864bc6be7fe4b295e27a95",
       "style": "IPY_MODEL_ab316c5666524946ae0c172d4473ccf4",
       "value": "Select the detector angles to plot."
      }
     },
     "dfd73c8a56494aa798b7a0969a38eaf1": {
      "model_module": "@jupyter-widgets/controls",
      "model_module_version": "1.1.0",
      "model_name": "LabelModel",
      "state": {
       "layout": "IPY_MODEL_f18d8c2733764bf5b324b901bc699368",
       "style": "IPY_MODEL_3d0f3c678ae9413bb5af523f0949b7a3",
       "value": "Select which secondary particle to plot spectra for."
      }
     },
     "dff6c18cf37c44c2bd38a2be79fedc22": {
      "model_module": "@jupyter-widgets/controls",
      "model_module_version": "1.1.0",
      "model_name": "DescriptionStyleModel",
      "state": {
       "description_width": ""
      }
     },
     "e006b153e8c04f7981c6ddc8c3678b96": {
      "model_module": "@jupyter-widgets/base",
      "model_module_version": "1.0.0",
      "model_name": "LayoutModel",
      "state": {}
     },
     "e042e945954041b693d6fc5b84ea9838": {
      "model_module": "@jupyter-widgets/controls",
      "model_module_version": "1.1.0",
      "model_name": "CheckboxModel",
      "state": {
       "description": "10°",
       "disabled": false,
       "layout": "IPY_MODEL_5f6d3b5ab3f94a0d9af8dd6912b4767b",
       "style": "IPY_MODEL_d54378043d464adeb0c417cdf20b4616",
       "value": true
      }
     },
     "e05c6d832beb42ca99a2ba56639c05f7": {
      "model_module": "@jupyter-widgets/controls",
      "model_module_version": "1.1.0",
      "model_name": "CheckboxModel",
      "state": {
       "description": "45°",
       "disabled": false,
       "layout": "IPY_MODEL_b47b0b519fa84394b5a2796345eee4c6",
       "style": "IPY_MODEL_a3f03c52452f4040b71e2bb824bf4b8b",
       "value": true
      }
     },
     "e07cc0fb0d2244aba73b172fc1d793fb": {
      "model_module": "@jupyter-widgets/controls",
      "model_module_version": "1.1.0",
      "model_name": "LabelModel",
      "state": {
       "layout": "IPY_MODEL_af447f0dfaba4018b93633549c50a98c",
       "style": "IPY_MODEL_2f59f0148d4b4c318a233e7549c7a124",
       "value": "Select upstream target material and thickness."
      }
     },
     "e0cffeab5479447b9f8f8b9db4a1f22c": {
      "model_module": "@jupyter-widgets/controls",
      "model_module_version": "1.1.0",
      "model_name": "LabelModel",
      "state": {
       "layout": "IPY_MODEL_8d940d9289e04dd1a510e39ef6872793",
       "style": "IPY_MODEL_c65b04ff06e647c3a975ba85789edcdd",
       "value": "Select the detector angles to plot."
      }
     },
     "e0d70ba7639749d2bd3e4f62eb617f72": {
      "model_module": "@jupyter-widgets/controls",
      "model_module_version": "1.1.0",
      "model_name": "CheckboxModel",
      "state": {
       "description": "30°",
       "disabled": false,
       "layout": "IPY_MODEL_1672aa49f4314ddf92f6e8228632b8df",
       "style": "IPY_MODEL_3e26dbb23950401caf73c17a05277c77",
       "value": true
      }
     },
     "e10661569efd495da1417ba600cbe9cb": {
      "model_module": "@jupyter-widgets/controls",
      "model_module_version": "1.1.0",
      "model_name": "DescriptionStyleModel",
      "state": {
       "description_width": ""
      }
     },
     "e108c6f8dc544560b790101082bb3f6d": {
      "model_module": "@jupyter-widgets/controls",
      "model_module_version": "1.1.0",
      "model_name": "CheckboxModel",
      "state": {
       "description": "10°",
       "disabled": false,
       "layout": "IPY_MODEL_d141f9622d7a4604a2f6c62bfabf5669",
       "style": "IPY_MODEL_d505af3d2b874d91afabc23a4681c26c",
       "value": true
      }
     },
     "e125556179c24374bb636b9f57260100": {
      "model_module": "@jupyter-widgets/base",
      "model_module_version": "1.0.0",
      "model_name": "LayoutModel",
      "state": {}
     },
     "e13fe1343d144c94a41936009565334f": {
      "model_module": "@jupyter-widgets/base",
      "model_module_version": "1.0.0",
      "model_name": "LayoutModel",
      "state": {}
     },
     "e1d70410966d4bf99a2e35490939c1d6": {
      "model_module": "@jupyter-widgets/controls",
      "model_module_version": "1.1.0",
      "model_name": "ToggleButtonsStyleModel",
      "state": {
       "button_width": "",
       "description_width": ""
      }
     },
     "e219c91422e84a828f877205b0db4d5b": {
      "model_module": "@jupyter-widgets/controls",
      "model_module_version": "1.1.0",
      "model_name": "ButtonModel",
      "state": {
       "button_style": "success",
       "description": "Update plot",
       "icon": "paint-brush",
       "layout": "IPY_MODEL_aac3db4e5d1e4f98a69d1cf4938a87d6",
       "style": "IPY_MODEL_58d1a5ed88374eb2bc1af82624b9c785",
       "tooltip": "Click to redraw the plot below with updated options from above."
      }
     },
     "e21af38f32404b8fa5826899896bb62e": {
      "model_module": "@jupyter-widgets/controls",
      "model_module_version": "1.1.0",
      "model_name": "CheckboxModel",
      "state": {
       "description": "135°",
       "disabled": false,
       "layout": "IPY_MODEL_e5e86d6c8dd849fc9f332d9f5d25bf96",
       "style": "IPY_MODEL_cb570e4a32cf48c1b8b9eb2590302fbc",
       "value": true
      }
     },
     "e2942bf36d6c4d1e9d9c1d946651f2dd": {
      "model_module": "@jupyter-widgets/controls",
      "model_module_version": "1.1.0",
      "model_name": "DescriptionStyleModel",
      "state": {
       "description_width": ""
      }
     },
     "e2c1797b522b46c098590f29c80eda32": {
      "model_module": "@jupyter-widgets/controls",
      "model_module_version": "1.1.0",
      "model_name": "DescriptionStyleModel",
      "state": {
       "description_width": ""
      }
     },
     "e2d01956c3e74b318902755915ffaa86": {
      "model_module": "@jupyter-widgets/controls",
      "model_module_version": "1.1.0",
      "model_name": "CheckboxModel",
      "state": {
       "description": "80°",
       "disabled": false,
       "layout": "IPY_MODEL_87b2e69948374bef9d1952c9e4a06f02",
       "style": "IPY_MODEL_a2733a53a33c469f9e74e92e8a087019",
       "value": true
      }
     },
     "e325c6be398a42c2b945c5be78fb0c06": {
      "model_module": "@jupyter-widgets/controls",
      "model_module_version": "1.1.0",
      "model_name": "DescriptionStyleModel",
      "state": {
       "description_width": ""
      }
     },
     "e366da6eff8946f28914cb82be8ba5eb": {
      "model_module": "@jupyter-widgets/controls",
      "model_module_version": "1.1.0",
      "model_name": "ToggleButtonsStyleModel",
      "state": {
       "button_width": "",
       "description_width": ""
      }
     },
     "e36c4c9a05f2445fa793ef47e228c482": {
      "model_module": "@jupyter-widgets/controls",
      "model_module_version": "1.1.0",
      "model_name": "CheckboxModel",
      "state": {
       "description": "135°",
       "disabled": false,
       "layout": "IPY_MODEL_2bfba8157b8447fca9e7126134d36d87",
       "style": "IPY_MODEL_bf382fe9a9d94fe6afae769e4d07fb7e",
       "value": true
      }
     },
     "e3c0b9d7264d4dd38eb1038c6ebcc18d": {
      "model_module": "@jupyter-widgets/controls",
      "model_module_version": "1.1.0",
      "model_name": "ToggleButtonsModel",
      "state": {
       "_options_labels": [
        "H",
        "He",
        "C",
        "Si",
        "Fe"
       ],
       "button_style": "",
       "description": "Ion:",
       "icons": [],
       "index": 0,
       "layout": "IPY_MODEL_039f033d47cf409a828dd3e58c09ff31",
       "style": "IPY_MODEL_7e2371361e60439b81f3c95a4c29b3b7",
       "tooltips": [
        "Hydrogen",
        "Helium",
        "Carbon",
        "Silicon",
        "Iron"
       ]
      }
     },
     "e3f7300c89714ab39e4ee81c1ffd5e96": {
      "model_module": "@jupyter-widgets/controls",
      "model_module_version": "1.1.0",
      "model_name": "ToggleButtonsModel",
      "state": {
       "_options_labels": [
        "400 MeV",
        "800 MeV",
        "2500 MeV"
       ],
       "button_style": "",
       "description": "Energy:",
       "icons": [],
       "index": 0,
       "layout": "IPY_MODEL_ccb28a988e3d4037916318232e82fdc2",
       "style": "IPY_MODEL_196b92fe93b14a5e9565d48f5aa1f5ce",
       "tooltips": [
        "lowest energy",
        "middle energy",
        "highest energy"
       ]
      }
     },
     "e473009d463b4dd885e541ddf845313d": {
      "model_module": "@jupyter-widgets/controls",
      "model_module_version": "1.1.0",
      "model_name": "DescriptionStyleModel",
      "state": {
       "description_width": ""
      }
     },
     "e48a0655d50b42b683d86c150a6e7824": {
      "model_module": "@jupyter-widgets/base",
      "model_module_version": "1.0.0",
      "model_name": "LayoutModel",
      "state": {}
     },
     "e497490ce55a47528fa6a34bf8452d68": {
      "model_module": "@jupyter-widgets/base",
      "model_module_version": "1.0.0",
      "model_name": "LayoutModel",
      "state": {}
     },
     "e4b014e21c154a99a472d17155e7609e": {
      "model_module": "@jupyter-widgets/base",
      "model_module_version": "1.0.0",
      "model_name": "LayoutModel",
      "state": {}
     },
     "e4d804abadc14c74a33145526e02a3b7": {
      "model_module": "@jupyter-widgets/base",
      "model_module_version": "1.0.0",
      "model_name": "LayoutModel",
      "state": {}
     },
     "e4da8aed076e41fabc020df45f79166e": {
      "model_module": "@jupyter-widgets/base",
      "model_module_version": "1.0.0",
      "model_name": "LayoutModel",
      "state": {}
     },
     "e4e76739afdd42159e7d70cd8e35073f": {
      "model_module": "@jupyter-widgets/controls",
      "model_module_version": "1.1.0",
      "model_name": "DescriptionStyleModel",
      "state": {
       "description_width": ""
      }
     },
     "e5156cf9dd3c4c19a057626002130589": {
      "model_module": "@jupyter-widgets/controls",
      "model_module_version": "1.1.0",
      "model_name": "ToggleButtonsModel",
      "state": {
       "_options_labels": [
        "400 MeV",
        "800 MeV",
        "2500 MeV"
       ],
       "button_style": "",
       "description": "Energy:",
       "icons": [],
       "index": 0,
       "layout": "IPY_MODEL_200b72eb0f634c9cb9872c64c4e231f8",
       "style": "IPY_MODEL_ffd7ce5689fb467b967c87d2b0dcf965",
       "tooltips": [
        "lowest energy",
        "middle energy",
        "highest energy"
       ]
      }
     },
     "e52c9ad6f0f94c16a168ca41d44d2b05": {
      "model_module": "@jupyter-widgets/controls",
      "model_module_version": "1.1.0",
      "model_name": "ToggleButtonsStyleModel",
      "state": {
       "button_width": "",
       "description_width": ""
      }
     },
     "e535cc5b301040faa3ea82d0ab3d6376": {
      "model_module": "@jupyter-widgets/base",
      "model_module_version": "1.0.0",
      "model_name": "LayoutModel",
      "state": {}
     },
     "e5735cc6219041ce86e8dd86b310dc02": {
      "model_module": "@jupyter-widgets/controls",
      "model_module_version": "1.1.0",
      "model_name": "DescriptionStyleModel",
      "state": {
       "description_width": ""
      }
     },
     "e58a8f5499a64d7d8362340324127d7d": {
      "model_module": "@jupyter-widgets/base",
      "model_module_version": "1.0.0",
      "model_name": "LayoutModel",
      "state": {}
     },
     "e58b5b6d58df46fd91e1820fc099502d": {
      "model_module": "@jupyter-widgets/controls",
      "model_module_version": "1.1.0",
      "model_name": "LabelModel",
      "state": {
       "layout": "IPY_MODEL_df42854a99054e0ebb4bf73a9cf9e209",
       "style": "IPY_MODEL_65c67283abaa4187b143e98bc5c4bf8b",
       "value": "Select which secondary particle to plot spectra for."
      }
     },
     "e5b497fc7daa4375b00b1836253b25d0": {
      "model_module": "@jupyter-widgets/controls",
      "model_module_version": "1.1.0",
      "model_name": "LabelModel",
      "state": {
       "layout": "IPY_MODEL_a5ab0bc8e4894abf9f3ae4671f61de35",
       "style": "IPY_MODEL_f143c1e1d37e4c3e80e186452ecaae07",
       "value": "Select which sets of data to display."
      }
     },
     "e5de52a649a44006a5e4cb9bac808b33": {
      "model_module": "@jupyter-widgets/base",
      "model_module_version": "1.0.0",
      "model_name": "LayoutModel",
      "state": {}
     },
     "e5e86d6c8dd849fc9f332d9f5d25bf96": {
      "model_module": "@jupyter-widgets/base",
      "model_module_version": "1.0.0",
      "model_name": "LayoutModel",
      "state": {}
     },
     "e5f74c8d52ba473a915226f341c5467e": {
      "model_module": "@jupyter-widgets/controls",
      "model_module_version": "1.1.0",
      "model_name": "LabelModel",
      "state": {
       "layout": "IPY_MODEL_eae5e238dfcd487eaeb1739326df0d12",
       "style": "IPY_MODEL_8e0c320fd5734317bb5f0a4dcabe63e9",
       "value": "Select the detector angles to plot."
      }
     },
     "e65acee7afc542d6ad03ff99c879b497": {
      "model_module": "@jupyter-widgets/controls",
      "model_module_version": "1.1.0",
      "model_name": "CheckboxModel",
      "state": {
       "description": "30°",
       "disabled": false,
       "layout": "IPY_MODEL_7a207b3f9e534394bfd8e158d669b063",
       "style": "IPY_MODEL_358e4741551d4c4686ca6b750bcca1d4",
       "value": true
      }
     },
     "e66423a8657740bf85d4739442117038": {
      "model_module": "@jupyter-widgets/controls",
      "model_module_version": "1.1.0",
      "model_name": "ToggleButtonsStyleModel",
      "state": {
       "button_width": "",
       "description_width": ""
      }
     },
     "e68d8f144a094788886e98075cc5562e": {
      "model_module": "@jupyter-widgets/controls",
      "model_module_version": "1.1.0",
      "model_name": "DescriptionStyleModel",
      "state": {
       "description_width": ""
      }
     },
     "e6ab800a2c384e36a3b43de9083679e4": {
      "model_module": "@jupyter-widgets/controls",
      "model_module_version": "1.1.0",
      "model_name": "ButtonModel",
      "state": {
       "button_style": "success",
       "description": "Update plot",
       "icon": "paint-brush",
       "layout": "IPY_MODEL_a8e419868feb40a79cfca7b3f532a7fa",
       "style": "IPY_MODEL_806a3c65ff964a2982d166fcff8bb411",
       "tooltip": "Click to redraw the plot below with updated options from above."
      }
     },
     "e6eec0d2d30c40cf81d419a89626b114": {
      "model_module": "@jupyter-widgets/base",
      "model_module_version": "1.0.0",
      "model_name": "LayoutModel",
      "state": {}
     },
     "e705eb676ca84ed7bac6301486cf3fec": {
      "model_module": "@jupyter-widgets/base",
      "model_module_version": "1.0.0",
      "model_name": "LayoutModel",
      "state": {}
     },
     "e70fff3b1c7d496b87c0f5a08a5d3555": {
      "model_module": "@jupyter-widgets/base",
      "model_module_version": "1.0.0",
      "model_name": "LayoutModel",
      "state": {}
     },
     "e7354a7351dc4a3eb056a1ebe167219f": {
      "model_module": "@jupyter-widgets/base",
      "model_module_version": "1.0.0",
      "model_name": "LayoutModel",
      "state": {}
     },
     "e75e86304c0e43ab9315309c63aae2b6": {
      "model_module": "@jupyter-widgets/base",
      "model_module_version": "1.0.0",
      "model_name": "LayoutModel",
      "state": {}
     },
     "e79bd93ad5be4112858e8589b9072286": {
      "model_module": "@jupyter-widgets/controls",
      "model_module_version": "1.1.0",
      "model_name": "DescriptionStyleModel",
      "state": {
       "description_width": ""
      }
     },
     "e7c50db298be473eac5d8bfb179b664c": {
      "model_module": "@jupyter-widgets/controls",
      "model_module_version": "1.1.0",
      "model_name": "DescriptionStyleModel",
      "state": {
       "description_width": ""
      }
     },
     "e7c7ff147f5e4b0f9de2d24756f931c5": {
      "model_module": "@jupyter-widgets/base",
      "model_module_version": "1.0.0",
      "model_name": "LayoutModel",
      "state": {}
     },
     "e7d5c0076bce489bb6ca680b9c77e9fb": {
      "model_module": "@jupyter-widgets/controls",
      "model_module_version": "1.1.0",
      "model_name": "DescriptionStyleModel",
      "state": {
       "description_width": ""
      }
     },
     "e7e3aa5f333c4515a07b33e75a21e3aa": {
      "model_module": "@jupyter-widgets/controls",
      "model_module_version": "1.1.0",
      "model_name": "CheckboxModel",
      "state": {
       "description": "45°",
       "disabled": false,
       "layout": "IPY_MODEL_bdbce8b329e84bacadec6d2e96f30b1e",
       "style": "IPY_MODEL_2b911a2ee8294942a8efb25e06c96439",
       "value": false
      }
     },
     "e7ecb71a6c3a41c7a7e8bd0ae54eff62": {
      "model_module": "@jupyter-widgets/base",
      "model_module_version": "1.0.0",
      "model_name": "LayoutModel",
      "state": {}
     },
     "e80e24a9feae43428877f7d17703b50b": {
      "model_module": "@jupyter-widgets/base",
      "model_module_version": "1.0.0",
      "model_name": "LayoutModel",
      "state": {}
     },
     "e81ace7a9c8c47519c4ccc7e7135a833": {
      "model_module": "@jupyter-widgets/controls",
      "model_module_version": "1.1.0",
      "model_name": "LabelModel",
      "state": {
       "layout": "IPY_MODEL_9ecc5a915ae742e0a270e8e6ff0bf4bd",
       "style": "IPY_MODEL_cf8555f94a5a495ea3b65f53dda0e5e0",
       "value": "Select the detector angles to plot."
      }
     },
     "e853e0e4b83c4027ae57a1c216404402": {
      "model_module": "@jupyter-widgets/controls",
      "model_module_version": "1.1.0",
      "model_name": "CheckboxModel",
      "state": {
       "description": "30°",
       "disabled": false,
       "layout": "IPY_MODEL_6a2b921d39ac461dbc061b948af0ceea",
       "style": "IPY_MODEL_05cb3d47b34d471a8df96e77a72f430b",
       "value": true
      }
     },
     "e855032a03ab41298ecbce490692b442": {
      "model_module": "@jupyter-widgets/base",
      "model_module_version": "1.0.0",
      "model_name": "LayoutModel",
      "state": {}
     },
     "e859ff3fab7f425f9d5d51bb08bb0418": {
      "model_module": "@jupyter-widgets/controls",
      "model_module_version": "1.1.0",
      "model_name": "DescriptionStyleModel",
      "state": {
       "description_width": ""
      }
     },
     "e87b980a30d44b798d1e28f010ac8725": {
      "model_module": "@jupyter-widgets/controls",
      "model_module_version": "1.1.0",
      "model_name": "ToggleButtonsModel",
      "state": {
       "_options_labels": [
        "N (¹n)",
        "NDC (¹n)",
        "P (¹H)",
        "D (²H)",
        "T (³H)",
        "S (³He)",
        "A (⁴He)"
       ],
       "button_style": "",
       "description": "Type:",
       "icons": [],
       "index": 0,
       "layout": "IPY_MODEL_22f5fcb0e7c14fb49e8408d1f2bb3cb6",
       "style": "IPY_MODEL_8a8a3c66e387487d94d40df8daf3abec",
       "tooltips": [
        "Neutron",
        "Back Target Neutron",
        "Proton",
        "Deuteron",
        "Triton",
        "Helium-3",
        "Helium-4"
       ]
      }
     },
     "e8b1430b7a3246b5962a8ec757207553": {
      "model_module": "@jupyter-widgets/base",
      "model_module_version": "1.0.0",
      "model_name": "LayoutModel",
      "state": {}
     },
     "e8b835b886ea4c968b92fde00e855c21": {
      "model_module": "@jupyter-widgets/base",
      "model_module_version": "1.0.0",
      "model_name": "LayoutModel",
      "state": {}
     },
     "e92d26a0bad1454b9eb0b6fcb4761631": {
      "model_module": "@jupyter-widgets/controls",
      "model_module_version": "1.1.0",
      "model_name": "CheckboxModel",
      "state": {
       "description": "135°",
       "disabled": false,
       "layout": "IPY_MODEL_7a60d2682c3349b0b202edf010c6c96c",
       "style": "IPY_MODEL_98c085b49e204c9f976cb4af179fae94",
       "value": true
      }
     },
     "e9543b4dab854cd4b3dc337b87fddb83": {
      "model_module": "@jupyter-widgets/controls",
      "model_module_version": "1.1.0",
      "model_name": "DescriptionStyleModel",
      "state": {
       "description_width": ""
      }
     },
     "e9876dad0d064a82bb3810f9daf6dc78": {
      "model_module": "@jupyter-widgets/base",
      "model_module_version": "1.0.0",
      "model_name": "LayoutModel",
      "state": {}
     },
     "e992d12a9729434d8f31fc94ade3e124": {
      "model_module": "@jupyter-widgets/base",
      "model_module_version": "1.0.0",
      "model_name": "LayoutModel",
      "state": {}
     },
     "e9985931202d404a85b352978ff371ec": {
      "model_module": "@jupyter-widgets/controls",
      "model_module_version": "1.1.0",
      "model_name": "CheckboxModel",
      "state": {
       "description": "45°",
       "disabled": false,
       "layout": "IPY_MODEL_d54854d800e84617aacf520cbd7df79d",
       "style": "IPY_MODEL_0bf4a0d53fc74f159eaa0fe9e9553c72",
       "value": true
      }
     },
     "e9c632d108ec4bc5b7df6ee17e225966": {
      "model_module": "@jupyter-widgets/base",
      "model_module_version": "1.0.0",
      "model_name": "LayoutModel",
      "state": {}
     },
     "ea30e5a524454e1594f24ddc7f7f64e4": {
      "model_module": "@jupyter-widgets/controls",
      "model_module_version": "1.1.0",
      "model_name": "CheckboxModel",
      "state": {
       "description": "45°",
       "disabled": false,
       "layout": "IPY_MODEL_97943902601a413d9513a4e7bec6f8a8",
       "style": "IPY_MODEL_1a0b47557ddb471a9abef45ce46f53bc",
       "value": true
      }
     },
     "ea4664c6390d4cf0904b45b2b1efb2c9": {
      "model_module": "@jupyter-widgets/controls",
      "model_module_version": "1.1.0",
      "model_name": "CheckboxModel",
      "state": {
       "description": "80°",
       "disabled": false,
       "layout": "IPY_MODEL_9935277d35c1402bb49416768a7b9ce1",
       "style": "IPY_MODEL_a900600b456b46a681fcc9494b7ece95",
       "value": true
      }
     },
     "ea8cf577676a4f5c815dc001591cca70": {
      "model_module": "@jupyter-widgets/controls",
      "model_module_version": "1.1.0",
      "model_name": "DescriptionStyleModel",
      "state": {
       "description_width": ""
      }
     },
     "eacf4b0c30b94827b8e74e51c200c853": {
      "model_module": "@jupyter-widgets/base",
      "model_module_version": "1.0.0",
      "model_name": "LayoutModel",
      "state": {}
     },
     "eada671a9877489896c776f602c3d693": {
      "model_module": "@jupyter-widgets/controls",
      "model_module_version": "1.1.0",
      "model_name": "ToggleButtonsModel",
      "state": {
       "_options_labels": [
        "400 MeV/n",
        "800 MeV/n",
        "1500 MeV/n"
       ],
       "button_style": "",
       "description": "Energy:",
       "icons": [],
       "index": 0,
       "layout": "IPY_MODEL_03b19c06f12e4aadad7aec80c5d6b1ed",
       "style": "IPY_MODEL_1fec3a2bae25428490df10b6f9630f15",
       "tooltips": [
        "lowest energy",
        "middle energy",
        "highest energy"
       ]
      }
     },
     "eadefaf457884e77b775d9e9cef345f2": {
      "model_module": "@jupyter-widgets/controls",
      "model_module_version": "1.1.0",
      "model_name": "CheckboxModel",
      "state": {
       "description": "10°",
       "disabled": false,
       "layout": "IPY_MODEL_9dd994dfe1494c828611dab8b7c1157e",
       "style": "IPY_MODEL_74e3d297a3dd4837a6940d54ccb2fc04",
       "value": true
      }
     },
     "eae064cb481f4388b3ecadccabebcbfd": {
      "model_module": "@jupyter-widgets/base",
      "model_module_version": "1.0.0",
      "model_name": "LayoutModel",
      "state": {}
     },
     "eae5e238dfcd487eaeb1739326df0d12": {
      "model_module": "@jupyter-widgets/base",
      "model_module_version": "1.0.0",
      "model_name": "LayoutModel",
      "state": {}
     },
     "eb377fa66aa746eb968995e2f2ab0fb4": {
      "model_module": "@jupyter-widgets/base",
      "model_module_version": "1.0.0",
      "model_name": "LayoutModel",
      "state": {}
     },
     "eb4ab7313de148e7975c3fd05921afd6": {
      "model_module": "@jupyter-widgets/base",
      "model_module_version": "1.0.0",
      "model_name": "LayoutModel",
      "state": {}
     },
     "ebf7af92aa6d4d2d90ea7cdae6b2bd84": {
      "model_module": "@jupyter-widgets/base",
      "model_module_version": "1.0.0",
      "model_name": "LayoutModel",
      "state": {}
     },
     "ec294333971b4af4bb4a5d8b139ab91f": {
      "model_module": "@jupyter-widgets/base",
      "model_module_version": "1.0.0",
      "model_name": "LayoutModel",
      "state": {}
     },
     "ec376c2c6592463696df681b11201528": {
      "model_module": "@jupyter-widgets/controls",
      "model_module_version": "1.1.0",
      "model_name": "ToggleButtonsModel",
      "state": {
       "_options_labels": [
        "20 g/cm²",
        "60 g/cm²"
       ],
       "button_style": "",
       "description": "Thickness:",
       "icons": [],
       "index": 0,
       "layout": "IPY_MODEL_7ed71805849a4f218564899a9ad4f788",
       "style": "IPY_MODEL_e1d70410966d4bf99a2e35490939c1d6",
       "tooltips": [
        "10 g/cm² Al upstream + 10 g/cm² HDPE downstream",
        "10 g/cm² Al upstream + 50 g/cm² HDPE downstream"
       ]
      }
     },
     "ec4904e2908944e1b622c2574f0e912a": {
      "model_module": "@jupyter-widgets/controls",
      "model_module_version": "1.1.0",
      "model_name": "ToggleButtonsStyleModel",
      "state": {
       "button_width": "",
       "description_width": ""
      }
     },
     "ec5aaa4b954a43a097770055de9b89ef": {
      "model_module": "@jupyter-widgets/controls",
      "model_module_version": "1.1.0",
      "model_name": "CheckboxModel",
      "state": {
       "description": "Experiment",
       "disabled": false,
       "layout": "IPY_MODEL_1bf04ec8e10246cc9d2df1f9e1f9e9b8",
       "style": "IPY_MODEL_1a46dbed02354026a4326b00cab9b040",
       "value": true
      }
     },
     "ec670dbcc8b94de5b4410087759261e7": {
      "model_module": "@jupyter-widgets/controls",
      "model_module_version": "1.1.0",
      "model_name": "LabelModel",
      "state": {
       "layout": "IPY_MODEL_8f66d762f6184414a9714cfc226381c1",
       "style": "IPY_MODEL_2514ad8ffa01480e8bd6dd3eb68113a7",
       "value": "Select the detector angles to plot."
      }
     },
     "ed728a04d4bc4e46bfe229bbe18d946c": {
      "model_module": "@jupyter-widgets/controls",
      "model_module_version": "1.1.0",
      "model_name": "DescriptionStyleModel",
      "state": {
       "description_width": ""
      }
     },
     "ed78636499c449529f4f4ab3dbc73bdd": {
      "model_module": "@jupyter-widgets/controls",
      "model_module_version": "1.1.0",
      "model_name": "CheckboxModel",
      "state": {
       "description": "60°",
       "disabled": false,
       "layout": "IPY_MODEL_703e3e569ff1498cb980c4dc4e985884",
       "style": "IPY_MODEL_5be950c9798a433eac7c50d421058a45",
       "value": false
      }
     },
     "edc5a9e57f44467797d8f3c8d1368d47": {
      "model_module": "@jupyter-widgets/controls",
      "model_module_version": "1.1.0",
      "model_name": "LabelModel",
      "state": {
       "layout": "IPY_MODEL_714e01f090034d61970e171f2b8e9078",
       "style": "IPY_MODEL_9d4af918c79e4649b91b52b135f6205d",
       "value": "Select the detector angles to plot."
      }
     },
     "ee873eda4511449cbd85792796e66667": {
      "model_module": "@jupyter-widgets/controls",
      "model_module_version": "1.1.0",
      "model_name": "CheckboxModel",
      "state": {
       "description": "135°",
       "disabled": false,
       "layout": "IPY_MODEL_e9c632d108ec4bc5b7df6ee17e225966",
       "style": "IPY_MODEL_55ad60edc3cc48cf803fdd35c03e02a8",
       "value": true
      }
     },
     "ee8be8f473e143408da35f093c0b6df3": {
      "model_module": "@jupyter-widgets/controls",
      "model_module_version": "1.1.0",
      "model_name": "LabelModel",
      "state": {
       "layout": "IPY_MODEL_638b9a043e1e4701abfe86496606c417",
       "style": "IPY_MODEL_6896b4bd8afa4cdcbf69ee8bd652a294",
       "value": "Select which secondary particle to plot spectra for."
      }
     },
     "ee9165206ff64fd98ebeb4be3a4a7b45": {
      "model_module": "@jupyter-widgets/controls",
      "model_module_version": "1.1.0",
      "model_name": "CheckboxModel",
      "state": {
       "description": "12.7°",
       "disabled": false,
       "layout": "IPY_MODEL_1b864d38500245bc899a0f381f423c24",
       "style": "IPY_MODEL_aa35185bf3a34092a2bd1af2cf00e408",
       "value": true
      }
     },
     "ee98a1b776164c5e9d2f3111d8008ef9": {
      "model_module": "@jupyter-widgets/controls",
      "model_module_version": "1.1.0",
      "model_name": "LabelModel",
      "state": {
       "layout": "IPY_MODEL_994c2a00c9b5436b91b975bafd760584",
       "style": "IPY_MODEL_9de6726f2e004bd3877caf19cbe4426f",
       "value": "Select upstream target material and thickness."
      }
     },
     "ee9bc543bebf4a9d802fb91e73d1002f": {
      "model_module": "@jupyter-widgets/controls",
      "model_module_version": "1.1.0",
      "model_name": "DescriptionStyleModel",
      "state": {
       "description_width": ""
      }
     },
     "eea40b60cb2d4ebbbbf40e8521ee4f87": {
      "model_module": "@jupyter-widgets/controls",
      "model_module_version": "1.1.0",
      "model_name": "CheckboxModel",
      "state": {
       "description": "30°",
       "disabled": false,
       "layout": "IPY_MODEL_868daa6a513c4483b385e724afc38db6",
       "style": "IPY_MODEL_a02324d66cae4bcdad77709c8ea30df5",
       "value": true
      }
     },
     "eef836b841c54aca80d97b09e12e4b2e": {
      "model_module": "@jupyter-widgets/controls",
      "model_module_version": "1.1.0",
      "model_name": "LabelModel",
      "state": {
       "layout": "IPY_MODEL_7ac59b7eca6641c8bcb498673e9b27bd",
       "style": "IPY_MODEL_1fe86901ff6444339b517145bf3c3899",
       "value": "Select projectile ion energy."
      }
     },
     "eefb103b46b840978229669dc9bbcdce": {
      "model_module": "@jupyter-widgets/controls",
      "model_module_version": "1.1.0",
      "model_name": "ToggleButtonsStyleModel",
      "state": {
       "button_width": "",
       "description_width": ""
      }
     },
     "ef4bd5c55a7c45cc9ef95a2d4270d9a7": {
      "model_module": "@jupyter-widgets/base",
      "model_module_version": "1.0.0",
      "model_name": "LayoutModel",
      "state": {}
     },
     "ef63fe9cf051472285a2119408a5362c": {
      "model_module": "@jupyter-widgets/controls",
      "model_module_version": "1.1.0",
      "model_name": "DescriptionStyleModel",
      "state": {
       "description_width": ""
      }
     },
     "ef7272546b44403e83a8e89ec335c49b": {
      "model_module": "@jupyter-widgets/controls",
      "model_module_version": "1.1.0",
      "model_name": "CheckboxModel",
      "state": {
       "description": "60°",
       "disabled": false,
       "layout": "IPY_MODEL_dc545899afba40ea8c875493c461fd48",
       "style": "IPY_MODEL_28cb64bf993548d4ac314cacc750404a",
       "value": true
      }
     },
     "efcb746359c4475e975c88a99c210c04": {
      "model_module": "@jupyter-widgets/controls",
      "model_module_version": "1.1.0",
      "model_name": "DescriptionStyleModel",
      "state": {
       "description_width": ""
      }
     },
     "efd911ce47884c2e847c7597db96f675": {
      "model_module": "@jupyter-widgets/controls",
      "model_module_version": "1.1.0",
      "model_name": "CheckboxModel",
      "state": {
       "description": "60°",
       "disabled": false,
       "layout": "IPY_MODEL_faff79a189964b2d9547eac49f10b416",
       "style": "IPY_MODEL_c9a56b89822e4c4fbe565ecbbd144637",
       "value": true
      }
     },
     "f02c0822dab04f28a080936218b5ede4": {
      "model_module": "@jupyter-widgets/controls",
      "model_module_version": "1.1.0",
      "model_name": "LabelModel",
      "state": {
       "layout": "IPY_MODEL_ac2f0828c98f4d179cf83ddf27166b0b",
       "style": "IPY_MODEL_0e32b3e38b3b49b8af1d0d38aad130b8",
       "value": "Select the detector angles to plot."
      }
     },
     "f055cac736c0407b94d3e7ddcc082153": {
      "model_module": "@jupyter-widgets/base",
      "model_module_version": "1.0.0",
      "model_name": "LayoutModel",
      "state": {}
     },
     "f0566eea34404ef8ad5d91547f7d07d4": {
      "model_module": "@jupyter-widgets/controls",
      "model_module_version": "1.1.0",
      "model_name": "ToggleButtonsModel",
      "state": {
       "_options_labels": [
        "Al",
        "HDPE",
        "AlPE"
       ],
       "button_style": "",
       "description": "Material:",
       "icons": [],
       "index": 0,
       "layout": "IPY_MODEL_b8297bde69954b1fad28c2af975eeb32",
       "style": "IPY_MODEL_b6c24efdc53a4660a49ce93bba5de96a",
       "tooltips": [
        "Aluminum",
        "Polyethylene",
        "Combination of Al and HDPE"
       ]
      }
     },
     "f063c43e128244e0b1ce21cf847b324b": {
      "model_module": "@jupyter-widgets/controls",
      "model_module_version": "1.1.0",
      "model_name": "DescriptionStyleModel",
      "state": {
       "description_width": ""
      }
     },
     "f080737c4e2841fa9081b9ed3051a0cc": {
      "model_module": "@jupyter-widgets/controls",
      "model_module_version": "1.1.0",
      "model_name": "CheckboxModel",
      "state": {
       "description": "30°",
       "disabled": false,
       "layout": "IPY_MODEL_b2a39a040a6544d99cfd7e4863d4a141",
       "style": "IPY_MODEL_e2942bf36d6c4d1e9d9c1d946651f2dd",
       "value": false
      }
     },
     "f0969a67e3cd4b4bb9df5309f32120c8": {
      "model_module": "@jupyter-widgets/controls",
      "model_module_version": "1.1.0",
      "model_name": "LabelModel",
      "state": {
       "layout": "IPY_MODEL_33472369a0234ea3a9dcf27c09cd7f7b",
       "style": "IPY_MODEL_39b823192d424a1aab87bcddeee16b3d",
       "value": "Select the detector angles to plot."
      }
     },
     "f10bfd995f7d431d8b378fcd07b5c54e": {
      "model_module": "@jupyter-widgets/base",
      "model_module_version": "1.0.0",
      "model_name": "LayoutModel",
      "state": {}
     },
     "f143c1e1d37e4c3e80e186452ecaae07": {
      "model_module": "@jupyter-widgets/controls",
      "model_module_version": "1.1.0",
      "model_name": "DescriptionStyleModel",
      "state": {
       "description_width": ""
      }
     },
     "f18d8c2733764bf5b324b901bc699368": {
      "model_module": "@jupyter-widgets/base",
      "model_module_version": "1.0.0",
      "model_name": "LayoutModel",
      "state": {}
     },
     "f199881453b040ecba836e9210e1e2bd": {
      "model_module": "@jupyter-widgets/controls",
      "model_module_version": "1.1.0",
      "model_name": "ToggleButtonsStyleModel",
      "state": {
       "button_width": "",
       "description_width": ""
      }
     },
     "f1afb8dc5d4142d693c8d42b97cebaad": {
      "model_module": "@jupyter-widgets/controls",
      "model_module_version": "1.1.0",
      "model_name": "CheckboxModel",
      "state": {
       "description": "10°",
       "disabled": false,
       "layout": "IPY_MODEL_23907f89d8224d0d8f8b6dff967d5a79",
       "style": "IPY_MODEL_1f7b1312a8a44dbaa6d3bae6912929db",
       "value": true
      }
     },
     "f1eedb76081f4458b9c9a8c9e76dfeef": {
      "model_module": "@jupyter-widgets/controls",
      "model_module_version": "1.1.0",
      "model_name": "CheckboxModel",
      "state": {
       "description": "80°",
       "disabled": false,
       "layout": "IPY_MODEL_adeb596f502d42449d8811e70bbae8b2",
       "style": "IPY_MODEL_255bd2ea37c443cdbf7c13594324e3ea",
       "value": true
      }
     },
     "f1f935c3adf24e1bb45e6f19d25d81c5": {
      "model_module": "@jupyter-widgets/controls",
      "model_module_version": "1.1.0",
      "model_name": "DescriptionStyleModel",
      "state": {
       "description_width": ""
      }
     },
     "f252dec002114f79992adfffb78289bb": {
      "model_module": "@jupyter-widgets/controls",
      "model_module_version": "1.1.0",
      "model_name": "ToggleButtonsStyleModel",
      "state": {
       "button_width": "",
       "description_width": ""
      }
     },
     "f262556b66da4635872be828bcdb1607": {
      "model_module": "@jupyter-widgets/controls",
      "model_module_version": "1.1.0",
      "model_name": "CheckboxModel",
      "state": {
       "description": "80°",
       "disabled": false,
       "layout": "IPY_MODEL_c758b050ef9b47c8b35069f92aa067b8",
       "style": "IPY_MODEL_75a30c3beb1940bf992f9033eee96e34",
       "value": true
      }
     },
     "f26b555c18674641ac56b038c0e17764": {
      "model_module": "@jupyter-widgets/controls",
      "model_module_version": "1.1.0",
      "model_name": "DescriptionStyleModel",
      "state": {
       "description_width": ""
      }
     },
     "f26e2ec7560a4e578564c54c53c981f3": {
      "model_module": "@jupyter-widgets/controls",
      "model_module_version": "1.1.0",
      "model_name": "LabelModel",
      "state": {
       "layout": "IPY_MODEL_0d391190abd44d54b833e58e653dc40b",
       "style": "IPY_MODEL_86a57d3d44574ca59515581038955997",
       "value": "Select projectile ion energy."
      }
     },
     "f2747acdaa6146c7bfbced92bc3f8313": {
      "model_module": "@jupyter-widgets/base",
      "model_module_version": "1.0.0",
      "model_name": "LayoutModel",
      "state": {}
     },
     "f2ad27baf4764943a64930549184f148": {
      "model_module": "@jupyter-widgets/base",
      "model_module_version": "1.0.0",
      "model_name": "LayoutModel",
      "state": {}
     },
     "f2d9fac9be214bb79549c85432c23998": {
      "model_module": "@jupyter-widgets/controls",
      "model_module_version": "1.1.0",
      "model_name": "CheckboxModel",
      "state": {
       "description": "135°",
       "disabled": false,
       "layout": "IPY_MODEL_1bf7f5567589498fa681752dbe53ef46",
       "style": "IPY_MODEL_bb2cd9b121534a8290c6451b95d7d29c",
       "value": true
      }
     },
     "f321083ddc564a30968b1d85bf33aa1b": {
      "model_module": "@jupyter-widgets/base",
      "model_module_version": "1.0.0",
      "model_name": "LayoutModel",
      "state": {}
     },
     "f33936238f9141c9994990d8d2bc665a": {
      "model_module": "@jupyter-widgets/controls",
      "model_module_version": "1.1.0",
      "model_name": "CheckboxModel",
      "state": {
       "description": "7.2°",
       "disabled": false,
       "layout": "IPY_MODEL_bc66069ba2424e408276de2b0e664572",
       "style": "IPY_MODEL_0b27835f9ef445558cc2f963f85d4f87",
       "value": false
      }
     },
     "f3b020ca5d8f4d98bd0f82640535936e": {
      "model_module": "@jupyter-widgets/base",
      "model_module_version": "1.0.0",
      "model_name": "LayoutModel",
      "state": {}
     },
     "f3b324d2ef314550aa0da8d17a9f0043": {
      "model_module": "@jupyter-widgets/controls",
      "model_module_version": "1.1.0",
      "model_name": "CheckboxModel",
      "state": {
       "description": "80°",
       "disabled": false,
       "layout": "IPY_MODEL_1390752cdc434e52b9f7bbcab6f4e297",
       "style": "IPY_MODEL_fa6823fad2d748e99617d54f76e63bc8",
       "value": false
      }
     },
     "f3c9ffbfb328454d98e6b2a5ed3f03b4": {
      "model_module": "@jupyter-widgets/controls",
      "model_module_version": "1.1.0",
      "model_name": "CheckboxModel",
      "state": {
       "description": "135°",
       "disabled": false,
       "layout": "IPY_MODEL_bc51dbf7d6b44cb0861568d60899abdf",
       "style": "IPY_MODEL_97998ff7c23540418583446728836fec",
       "value": true
      }
     },
     "f3f69e1081784e57b0f53a13152b39c0": {
      "model_module": "@jupyter-widgets/controls",
      "model_module_version": "1.1.0",
      "model_name": "DescriptionStyleModel",
      "state": {
       "description_width": ""
      }
     },
     "f41b887ee0d948018f442ae216d31f95": {
      "model_module": "@jupyter-widgets/base",
      "model_module_version": "1.0.0",
      "model_name": "LayoutModel",
      "state": {}
     },
     "f46e27ea0a14453184f192527874afb7": {
      "model_module": "@jupyter-widgets/base",
      "model_module_version": "1.0.0",
      "model_name": "LayoutModel",
      "state": {}
     },
     "f485120e55c14545ac5b3960df305b8f": {
      "model_module": "@jupyter-widgets/controls",
      "model_module_version": "1.1.0",
      "model_name": "LabelModel",
      "state": {
       "layout": "IPY_MODEL_879adfc53a3c462a9c3d51cf55c1adbe",
       "style": "IPY_MODEL_8477bf0938fe492299303381dfe3f762",
       "value": "Select which secondary particle to plot spectra for."
      }
     },
     "f4861ab2161a41a481d4efd27777288f": {
      "model_module": "@jupyter-widgets/controls",
      "model_module_version": "1.1.0",
      "model_name": "DescriptionStyleModel",
      "state": {
       "description_width": ""
      }
     },
     "f49081b81392490a9d44ed5eda297dfb": {
      "model_module": "@jupyter-widgets/controls",
      "model_module_version": "1.1.0",
      "model_name": "DescriptionStyleModel",
      "state": {
       "description_width": ""
      }
     },
     "f4a71d72724943bfaf0276bf593011e7": {
      "model_module": "@jupyter-widgets/base",
      "model_module_version": "1.0.0",
      "model_name": "LayoutModel",
      "state": {}
     },
     "f4b34bb605b642bc92cabd5815758446": {
      "model_module": "@jupyter-widgets/base",
      "model_module_version": "1.0.0",
      "model_name": "LayoutModel",
      "state": {}
     },
     "f4d47f670d944ed8aaa908b07c2eafa3": {
      "model_module": "@jupyter-widgets/controls",
      "model_module_version": "1.1.0",
      "model_name": "DescriptionStyleModel",
      "state": {
       "description_width": ""
      }
     },
     "f4e068f26b124e70aee3d4ed6f1a1f11": {
      "model_module": "@jupyter-widgets/controls",
      "model_module_version": "1.1.0",
      "model_name": "ToggleButtonsStyleModel",
      "state": {
       "button_width": "",
       "description_width": ""
      }
     },
     "f4ed453b5306419e94a21b49cba03d49": {
      "model_module": "@jupyter-widgets/controls",
      "model_module_version": "1.1.0",
      "model_name": "DescriptionStyleModel",
      "state": {
       "description_width": ""
      }
     },
     "f5265654bf1c43de820654cb0b360cae": {
      "model_module": "@jupyter-widgets/base",
      "model_module_version": "1.0.0",
      "model_name": "LayoutModel",
      "state": {}
     },
     "f53498484d3e4625ba5faed05d104562": {
      "model_module": "@jupyter-widgets/base",
      "model_module_version": "1.0.0",
      "model_name": "LayoutModel",
      "state": {}
     },
     "f5b30e748dcd4e67b51e4e670d0c23eb": {
      "model_module": "@jupyter-widgets/controls",
      "model_module_version": "1.1.0",
      "model_name": "CheckboxModel",
      "state": {
       "description": "45°",
       "disabled": false,
       "layout": "IPY_MODEL_b2c2393f3cc943afa4c0a599f866c96b",
       "style": "IPY_MODEL_630a75892166422cb5a31e63e1a6c742",
       "value": true
      }
     },
     "f5ba8d79d7ac4a828e421fac15ac3d7a": {
      "model_module": "@jupyter-widgets/base",
      "model_module_version": "1.0.0",
      "model_name": "LayoutModel",
      "state": {}
     },
     "f5d62b0a3491487ebc3bae565842b5c4": {
      "model_module": "@jupyter-widgets/controls",
      "model_module_version": "1.1.0",
      "model_name": "CheckboxModel",
      "state": {
       "description": "60°",
       "disabled": false,
       "layout": "IPY_MODEL_1aeb7dfc9e594c11861f86298ee1729a",
       "style": "IPY_MODEL_a9e42351c8da44b9ad978d46ab3d72ab",
       "value": true
      }
     },
     "f5dfd514d516400ba5747fb5cf8a6269": {
      "model_module": "@jupyter-widgets/controls",
      "model_module_version": "1.1.0",
      "model_name": "CheckboxModel",
      "state": {
       "description": "10°",
       "disabled": false,
       "layout": "IPY_MODEL_1d68b934178f43fc98da9e81f818c1c2",
       "style": "IPY_MODEL_08874af4f11e4866a1c963a34f169b7b",
       "value": true
      }
     },
     "f5ec4bafce8a47389fc36bbf380ff089": {
      "model_module": "@jupyter-widgets/controls",
      "model_module_version": "1.1.0",
      "model_name": "ToggleButtonsStyleModel",
      "state": {
       "button_width": "",
       "description_width": ""
      }
     },
     "f606adc961c44f8b9755d1e03eb8449a": {
      "model_module": "@jupyter-widgets/controls",
      "model_module_version": "1.1.0",
      "model_name": "DescriptionStyleModel",
      "state": {
       "description_width": ""
      }
     },
     "f6398df354bc4679b689033928f3f329": {
      "model_module": "@jupyter-widgets/base",
      "model_module_version": "1.0.0",
      "model_name": "LayoutModel",
      "state": {}
     },
     "f673c3750a714ce6b241908ebc147d4d": {
      "model_module": "@jupyter-widgets/base",
      "model_module_version": "1.0.0",
      "model_name": "LayoutModel",
      "state": {}
     },
     "f71727a8872d46bfa0995c5545823cfc": {
      "model_module": "@jupyter-widgets/base",
      "model_module_version": "1.0.0",
      "model_name": "LayoutModel",
      "state": {}
     },
     "f7321fc4b17d4e829257afd40af2d5c2": {
      "model_module": "@jupyter-widgets/controls",
      "model_module_version": "1.1.0",
      "model_name": "DescriptionStyleModel",
      "state": {
       "description_width": ""
      }
     },
     "f753c75e2f27484493aa367682daa366": {
      "model_module": "@jupyter-widgets/controls",
      "model_module_version": "1.1.0",
      "model_name": "CheckboxModel",
      "state": {
       "description": "10°",
       "disabled": false,
       "layout": "IPY_MODEL_08f0b78c47574a45ac876371dff017db",
       "style": "IPY_MODEL_31eccb51f3554686a99127acb7d976ab",
       "value": true
      }
     },
     "f757fbb5e99d4a2d8befd8c12209d3d3": {
      "model_module": "@jupyter-widgets/controls",
      "model_module_version": "1.1.0",
      "model_name": "CheckboxModel",
      "state": {
       "description": "45°",
       "disabled": false,
       "layout": "IPY_MODEL_d99aff9ae3da4c99b9fc05e9620edc89",
       "style": "IPY_MODEL_32ae16106a1c4496831fc9941be86476",
       "value": true
      }
     },
     "f7f38f23b33c4fc9bedd89b58ecf6c4c": {
      "model_module": "@jupyter-widgets/base",
      "model_module_version": "1.0.0",
      "model_name": "LayoutModel",
      "state": {}
     },
     "f808b8d841c64ede90b90c8d1d382ad7": {
      "model_module": "@jupyter-widgets/controls",
      "model_module_version": "1.1.0",
      "model_name": "DescriptionStyleModel",
      "state": {
       "description_width": ""
      }
     },
     "f812ebabef9146fbb976efd2dd979889": {
      "model_module": "@jupyter-widgets/base",
      "model_module_version": "1.0.0",
      "model_name": "LayoutModel",
      "state": {}
     },
     "f8160d7eb5ec4e9e9e9be412fce32fd9": {
      "model_module": "@jupyter-widgets/controls",
      "model_module_version": "1.1.0",
      "model_name": "ToggleButtonsModel",
      "state": {
       "_options_labels": [
        "N (¹n)",
        "NDC (¹n)",
        "P (¹H)",
        "D (²H)",
        "T (³H)",
        "S (³He)",
        "A (⁴He)"
       ],
       "button_style": "",
       "description": "Type:",
       "icons": [],
       "index": 0,
       "layout": "IPY_MODEL_16f670a283904513995b6aa8c48c5375",
       "style": "IPY_MODEL_f252dec002114f79992adfffb78289bb",
       "tooltips": [
        "Neutron",
        "Back Target Neutron",
        "Proton",
        "Deuteron",
        "Triton",
        "Helium-3",
        "Helium-4"
       ]
      }
     },
     "f8187533cbd64b0f92011819d7ecc492": {
      "model_module": "@jupyter-widgets/base",
      "model_module_version": "1.0.0",
      "model_name": "LayoutModel",
      "state": {}
     },
     "f81a967a4e904b57bc79fffca0847c4a": {
      "model_module": "@jupyter-widgets/controls",
      "model_module_version": "1.1.0",
      "model_name": "ToggleButtonsModel",
      "state": {
       "_options_labels": [
        "Al",
        "HDPE",
        "AlPE"
       ],
       "button_style": "",
       "description": "Material:",
       "icons": [],
       "index": 0,
       "layout": "IPY_MODEL_d1331ffa41c94abdacbc2ece91c03a7e",
       "style": "IPY_MODEL_7269c215af174c58ad8c5c71aa27e07a",
       "tooltips": [
        "Aluminum",
        "Polyethylene",
        "Combination of Al and HDPE"
       ]
      }
     },
     "f8d1defbf04d4c329688c00ad9b82081": {
      "model_module": "@jupyter-widgets/base",
      "model_module_version": "1.0.0",
      "model_name": "LayoutModel",
      "state": {}
     },
     "f9518e3aacac4605b4bb8e8e408a58f3": {
      "model_module": "@jupyter-widgets/controls",
      "model_module_version": "1.1.0",
      "model_name": "LabelModel",
      "state": {
       "layout": "IPY_MODEL_c2da93c1248a406e97cdbda52cd4353e",
       "style": "IPY_MODEL_8f29115be0cc42ca9b36a84cc9c75532",
       "value": "Select which secondary particle to plot spectra for."
      }
     },
     "f97258fbbb4c467ebb072327200c0105": {
      "model_module": "@jupyter-widgets/controls",
      "model_module_version": "1.1.0",
      "model_name": "DescriptionStyleModel",
      "state": {
       "description_width": ""
      }
     },
     "fa1bd53915424fa1ab587c57ab48f080": {
      "model_module": "@jupyter-widgets/base",
      "model_module_version": "1.0.0",
      "model_name": "LayoutModel",
      "state": {}
     },
     "fa6823fad2d748e99617d54f76e63bc8": {
      "model_module": "@jupyter-widgets/controls",
      "model_module_version": "1.1.0",
      "model_name": "DescriptionStyleModel",
      "state": {
       "description_width": ""
      }
     },
     "fa76e56acdcd41718e0b25ba2bd643c5": {
      "model_module": "@jupyter-widgets/base",
      "model_module_version": "1.0.0",
      "model_name": "LayoutModel",
      "state": {}
     },
     "fa831ea3f4b347af83e3d34696ccf9ba": {
      "model_module": "@jupyter-widgets/base",
      "model_module_version": "1.0.0",
      "model_name": "LayoutModel",
      "state": {}
     },
     "fa868bfc1e314c0ebe3116aa8acc6ef2": {
      "model_module": "@jupyter-widgets/controls",
      "model_module_version": "1.1.0",
      "model_name": "ToggleButtonsStyleModel",
      "state": {
       "button_width": "",
       "description_width": ""
      }
     },
     "fafd0e3b04b4483f90d356ced0c29506": {
      "model_module": "@jupyter-widgets/controls",
      "model_module_version": "1.1.0",
      "model_name": "DescriptionStyleModel",
      "state": {
       "description_width": ""
      }
     },
     "faff79a189964b2d9547eac49f10b416": {
      "model_module": "@jupyter-widgets/base",
      "model_module_version": "1.0.0",
      "model_name": "LayoutModel",
      "state": {}
     },
     "fb064c7310ef43abbedd84003a322ca9": {
      "model_module": "@jupyter-widgets/controls",
      "model_module_version": "1.1.0",
      "model_name": "CheckboxModel",
      "state": {
       "description": "135°",
       "disabled": false,
       "layout": "IPY_MODEL_6fb95e2154dd4900892693eac880a9bb",
       "style": "IPY_MODEL_2e3a847b8cec4b5dbe367728c18d5a57",
       "value": true
      }
     },
     "fb164e172ac540ac81fc0ad566192df8": {
      "model_module": "@jupyter-widgets/controls",
      "model_module_version": "1.1.0",
      "model_name": "ToggleButtonsModel",
      "state": {
       "_options_labels": [
        "N (¹n)",
        "NDC (¹n)",
        "P (¹H)",
        "D (²H)",
        "T (³H)",
        "S (³He)",
        "A (⁴He)"
       ],
       "button_style": "",
       "description": "Particle:",
       "icons": [],
       "index": 2,
       "layout": "IPY_MODEL_13e8722c02124a1eb5386f71fef459c9",
       "style": "IPY_MODEL_16a0a785c08a4f329604b9d7b46e1730",
       "tooltips": [
        "Neutron",
        "Back Target Neutron",
        "Proton",
        "Deuteron",
        "Triton",
        "Helium-3",
        "Helium-4"
       ]
      }
     },
     "fb2e1b8ea9c74243b274d3c0c73fb9f8": {
      "model_module": "@jupyter-widgets/base",
      "model_module_version": "1.0.0",
      "model_name": "LayoutModel",
      "state": {}
     },
     "fb46bc84044a4051b90c55b7d4fbb1ab": {
      "model_module": "@jupyter-widgets/controls",
      "model_module_version": "1.1.0",
      "model_name": "DescriptionStyleModel",
      "state": {
       "description_width": ""
      }
     },
     "fb4e6dcac5164de5891986bbceb3509d": {
      "model_module": "@jupyter-widgets/base",
      "model_module_version": "1.0.0",
      "model_name": "LayoutModel",
      "state": {}
     },
     "fbac0d7df1d84bce9086128e146d7b02": {
      "model_module": "@jupyter-widgets/controls",
      "model_module_version": "1.1.0",
      "model_name": "ToggleButtonsModel",
      "state": {
       "_options_labels": [
        "N (¹n)",
        "NDC (¹n)",
        "P (¹H)",
        "D (²H)"
       ],
       "button_style": "",
       "description": "Type:",
       "icons": [],
       "index": 2,
       "layout": "IPY_MODEL_03fbf2b260454a4aba02e0841a431c22",
       "style": "IPY_MODEL_e66423a8657740bf85d4739442117038",
       "tooltips": [
        "Neutron",
        "Back Target Neutron",
        "Proton",
        "Deuteron"
       ]
      }
     },
     "fc21e1f76d594bbfb368d28398b75880": {
      "model_module": "@jupyter-widgets/controls",
      "model_module_version": "1.1.0",
      "model_name": "CheckboxModel",
      "state": {
       "description": "Experiment",
       "disabled": false,
       "layout": "IPY_MODEL_312d0650ec004f909b6f98ff9ccc158f",
       "style": "IPY_MODEL_ceb39673d4414fd298cd7f6f4aec66f0",
       "value": true
      }
     },
     "fc5e76d7b0d54b7fb864f43147295e4d": {
      "model_module": "@jupyter-widgets/controls",
      "model_module_version": "1.1.0",
      "model_name": "ToggleButtonsStyleModel",
      "state": {
       "button_width": "",
       "description_width": ""
      }
     },
     "fc5ff637033d46a79d10c9f739554db6": {
      "model_module": "@jupyter-widgets/controls",
      "model_module_version": "1.1.0",
      "model_name": "CheckboxModel",
      "state": {
       "description": "10°",
       "disabled": false,
       "layout": "IPY_MODEL_e125556179c24374bb636b9f57260100",
       "style": "IPY_MODEL_0e7c74024ab7459c89e88c6a6c6d58c7",
       "value": true
      }
     },
     "fca467fbacda4366ac6d71ccd5b56cfc": {
      "model_module": "@jupyter-widgets/base",
      "model_module_version": "1.0.0",
      "model_name": "LayoutModel",
      "state": {}
     },
     "fcdc8c835ef542a39bbe81e117c15446": {
      "model_module": "@jupyter-widgets/controls",
      "model_module_version": "1.1.0",
      "model_name": "DescriptionStyleModel",
      "state": {
       "description_width": ""
      }
     },
     "fd601da03285408d9dab1b4e589015f8": {
      "model_module": "@jupyter-widgets/base",
      "model_module_version": "1.0.0",
      "model_name": "LayoutModel",
      "state": {}
     },
     "fe14d7b10f2e4a5c8d43b25464f2f8af": {
      "model_module": "@jupyter-widgets/base",
      "model_module_version": "1.0.0",
      "model_name": "LayoutModel",
      "state": {}
     },
     "fe1c6ef13b8c446280dbc572670306df": {
      "model_module": "@jupyter-widgets/controls",
      "model_module_version": "1.1.0",
      "model_name": "ToggleButtonsModel",
      "state": {
       "_options_labels": [
        "N (¹n)",
        "NDC (¹n)",
        "P (¹H)",
        "D (²H)",
        "T (³H)",
        "S (³He)",
        "A (⁴He)"
       ],
       "button_style": "",
       "description": "Type:",
       "icons": [],
       "index": 0,
       "layout": "IPY_MODEL_cc5a322d499e45ec875485585e0187e8",
       "style": "IPY_MODEL_377f418dbd6a41b9b98c2d82f062e64e",
       "tooltips": [
        "Neutron",
        "Back Target Neutron",
        "Proton",
        "Deuteron",
        "Triton",
        "Helium-3",
        "Helium-4"
       ]
      }
     },
     "fe1d1e90130247ac8121c825e79cb174": {
      "model_module": "@jupyter-widgets/controls",
      "model_module_version": "1.1.0",
      "model_name": "DescriptionStyleModel",
      "state": {
       "description_width": ""
      }
     },
     "fe443f51af184df68b3c56cf06f77457": {
      "model_module": "@jupyter-widgets/controls",
      "model_module_version": "1.1.0",
      "model_name": "DescriptionStyleModel",
      "state": {
       "description_width": ""
      }
     },
     "feb773bb2249497ab65e8cae32c67021": {
      "model_module": "@jupyter-widgets/base",
      "model_module_version": "1.0.0",
      "model_name": "LayoutModel",
      "state": {}
     },
     "fee1b4be948d47cb972a0796e53ef5ad": {
      "model_module": "@jupyter-widgets/controls",
      "model_module_version": "1.1.0",
      "model_name": "CheckboxModel",
      "state": {
       "description": "10°",
       "disabled": false,
       "layout": "IPY_MODEL_2592cff594e84589b5bf39c835496b59",
       "style": "IPY_MODEL_35808e4c571c4f76a4628148a7a69c54",
       "value": true
      }
     },
     "ff0752d0085a4a8693b2646507320ce7": {
      "model_module": "@jupyter-widgets/base",
      "model_module_version": "1.0.0",
      "model_name": "LayoutModel",
      "state": {}
     },
     "ff286a067c23439a868c7e18520be3c3": {
      "model_module": "@jupyter-widgets/base",
      "model_module_version": "1.0.0",
      "model_name": "LayoutModel",
      "state": {}
     },
     "ff2f94b2546b423daf13837d3bd365ab": {
      "model_module": "@jupyter-widgets/controls",
      "model_module_version": "1.1.0",
      "model_name": "DescriptionStyleModel",
      "state": {
       "description_width": ""
      }
     },
     "ff356545a116431bb725754b20b707f1": {
      "model_module": "@jupyter-widgets/controls",
      "model_module_version": "1.1.0",
      "model_name": "CheckboxModel",
      "state": {
       "description": "Experiment",
       "disabled": false,
       "layout": "IPY_MODEL_a492ac76f1b94b6a9eb892afe1c19c06",
       "style": "IPY_MODEL_453f31976f1745da8fe67203caf87d15",
       "value": true
      }
     },
     "ff4624ac0a444ec2a1650e86cf483e1b": {
      "model_module": "@jupyter-widgets/controls",
      "model_module_version": "1.1.0",
      "model_name": "LabelModel",
      "state": {
       "layout": "IPY_MODEL_3390f09b3a6d4015a170c63a418e3897",
       "style": "IPY_MODEL_d7e0e5a003b4402f8fbab141e943e4c4",
       "value": "Select which sets of data to display."
      }
     },
     "ff5a7bc49d2c426bba829600c3d89560": {
      "model_module": "@jupyter-widgets/controls",
      "model_module_version": "1.1.0",
      "model_name": "CheckboxModel",
      "state": {
       "description": "60°",
       "disabled": false,
       "layout": "IPY_MODEL_a715567199b948ed9bf18629dce166b8",
       "style": "IPY_MODEL_d25f491b0e884a14a2edd32657745a70",
       "value": true
      }
     },
     "ff775fb71b26478da0e11f8d03b303f6": {
      "model_module": "@jupyter-widgets/base",
      "model_module_version": "1.0.0",
      "model_name": "LayoutModel",
      "state": {}
     },
     "ffc0f64b49c84d55873df730ed3f2593": {
      "model_module": "@jupyter-widgets/base",
      "model_module_version": "1.0.0",
      "model_name": "LayoutModel",
      "state": {}
     },
     "ffd7ce5689fb467b967c87d2b0dcf965": {
      "model_module": "@jupyter-widgets/controls",
      "model_module_version": "1.1.0",
      "model_name": "ToggleButtonsStyleModel",
      "state": {
       "button_width": "",
       "description_width": ""
      }
     },
     "ffe283cda2964f5f85d8d9bed246eb8e": {
      "model_module": "@jupyter-widgets/controls",
      "model_module_version": "1.1.0",
      "model_name": "CheckboxModel",
      "state": {
       "description": "30°",
       "disabled": false,
       "layout": "IPY_MODEL_409f8d96f1b84958a16c4d20848f7289",
       "style": "IPY_MODEL_215b0b190f52448c9781d9b9d17ba7cd",
       "value": true
      }
     }
    },
    "version_major": 2,
    "version_minor": 0
   }
  }
 },
 "nbformat": 4,
 "nbformat_minor": 1
}
