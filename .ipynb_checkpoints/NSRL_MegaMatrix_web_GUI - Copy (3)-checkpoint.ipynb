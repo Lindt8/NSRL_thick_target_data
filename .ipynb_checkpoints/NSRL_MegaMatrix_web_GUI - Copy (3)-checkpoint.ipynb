{
 "cells": [
  {
   "cell_type": "code",
   "execution_count": 2,
   "metadata": {},
   "outputs": [
    {
     "data": {
      "text/html": [
       "<script>\n",
       "  function code_toggle() {\n",
       "    if (code_shown){\n",
       "      $('div.input').hide('500');\n",
       "      $('#toggleButton').val('Show Code')\n",
       "    } else {\n",
       "      $('div.input').show('500');\n",
       "      $('#toggleButton').val('Hide Code')\n",
       "    }\n",
       "    code_shown = !code_shown\n",
       "  }\n",
       "\n",
       "  $( document ).ready(function(){\n",
       "    code_shown=false;\n",
       "    $('div.input').hide()\n",
       "  });\n",
       "</script>\n",
       "<form action=\"javascript:code_toggle()\"><input type=\"submit\" id=\"toggleButton\" value=\"Show Code\"></form>"
      ],
      "text/plain": [
       "<IPython.core.display.HTML object>"
      ]
     },
     "execution_count": 2,
     "metadata": {},
     "output_type": "execute_result"
    }
   ],
   "source": [
    "%matplotlib notebook\n",
    "from IPython.display import HTML\n",
    "import numpy as np\n",
    "import matplotlib.pyplot as plt\n",
    "from matplotlib.collections import PatchCollection\n",
    "from matplotlib.patches import Rectangle\n",
    "import re\n",
    "from IPython.display import display\n",
    "import ipywidgets as widgets\n",
    "from IPython.display import Javascript\n",
    "\n",
    "HTML('''<script>\n",
    "  function code_toggle() {\n",
    "    if (code_shown){\n",
    "      $('div.input').hide('500');\n",
    "      $('#toggleButton').val('Show Code')\n",
    "    } else {\n",
    "      $('div.input').show('500');\n",
    "      $('#toggleButton').val('Hide Code')\n",
    "    }\n",
    "    code_shown = !code_shown\n",
    "  }\n",
    "\n",
    "  $( document ).ready(function(){\n",
    "    code_shown=false;\n",
    "    $('div.input').hide()\n",
    "  });\n",
    "</script>\n",
    "<form action=\"javascript:code_toggle()\"><input type=\"submit\" id=\"toggleButton\" value=\"Show Code\"></form>''')\n"
   ]
  },
  {
   "cell_type": "code",
   "execution_count": 3,
   "metadata": {
    "scrolled": true
   },
   "outputs": [
    {
     "data": {
      "application/vnd.jupyter.widget-view+json": {
       "model_id": "51a86fe8ef334dc6afae71de4a54be36",
       "version_major": 2,
       "version_minor": 0
      },
      "text/html": [
       "<p>Failed to display Jupyter Widget of type <code>Label</code>.</p>\n",
       "<p>\n",
       "  If you're reading this message in the Jupyter Notebook or JupyterLab Notebook, it may mean\n",
       "  that the widgets JavaScript is still loading. If this message persists, it\n",
       "  likely means that the widgets JavaScript library is either not installed or\n",
       "  not enabled. See the <a href=\"https://ipywidgets.readthedocs.io/en/stable/user_install.html\">Jupyter\n",
       "  Widgets Documentation</a> for setup instructions.\n",
       "</p>\n",
       "<p>\n",
       "  If you're reading this message in another frontend (for example, a static\n",
       "  rendering on GitHub or <a href=\"https://nbviewer.jupyter.org/\">NBViewer</a>),\n",
       "  it may mean that your frontend doesn't currently support widgets.\n",
       "</p>\n"
      ],
      "text/plain": [
       "Label(value='Select projectile ion species and energy.')"
      ]
     },
     "metadata": {},
     "output_type": "display_data"
    },
    {
     "data": {
      "application/vnd.jupyter.widget-view+json": {
       "model_id": "dbec719dfd5a4183a9c51e5b60d1b520",
       "version_major": 2,
       "version_minor": 0
      },
      "text/html": [
       "<p>Failed to display Jupyter Widget of type <code>ToggleButtons</code>.</p>\n",
       "<p>\n",
       "  If you're reading this message in the Jupyter Notebook or JupyterLab Notebook, it may mean\n",
       "  that the widgets JavaScript is still loading. If this message persists, it\n",
       "  likely means that the widgets JavaScript library is either not installed or\n",
       "  not enabled. See the <a href=\"https://ipywidgets.readthedocs.io/en/stable/user_install.html\">Jupyter\n",
       "  Widgets Documentation</a> for setup instructions.\n",
       "</p>\n",
       "<p>\n",
       "  If you're reading this message in another frontend (for example, a static\n",
       "  rendering on GitHub or <a href=\"https://nbviewer.jupyter.org/\">NBViewer</a>),\n",
       "  it may mean that your frontend doesn't currently support widgets.\n",
       "</p>\n"
      ],
      "text/plain": [
       "ToggleButtons(description='Ion:', options=('H', 'He', 'C', 'Si', 'Fe'), tooltips=['Hydrogen', 'Helium', 'Carbon', 'Silicon', 'Iron'], value='H')"
      ]
     },
     "metadata": {},
     "output_type": "display_data"
    },
    {
     "data": {
      "application/javascript": [
       "IPython.notebook.execute_cells([IPython.notebook.get_selected_index()+1,6,7])"
      ],
      "text/plain": [
       "<IPython.core.display.Javascript object>"
      ]
     },
     "metadata": {},
     "output_type": "display_data"
    },
    {
     "data": {
      "application/javascript": [
       "IPython.notebook.execute_cells([IPython.notebook.get_selected_index()+1,6,7])"
      ],
      "text/plain": [
       "<IPython.core.display.Javascript object>"
      ]
     },
     "metadata": {},
     "output_type": "display_data"
    },
    {
     "data": {
      "application/javascript": [
       "IPython.notebook.execute_cells([IPython.notebook.get_selected_index()+1,6,7])"
      ],
      "text/plain": [
       "<IPython.core.display.Javascript object>"
      ]
     },
     "metadata": {},
     "output_type": "display_data"
    },
    {
     "data": {
      "application/javascript": [
       "IPython.notebook.execute_cells([IPython.notebook.get_selected_index()+1,6,7])"
      ],
      "text/plain": [
       "<IPython.core.display.Javascript object>"
      ]
     },
     "metadata": {},
     "output_type": "display_data"
    },
    {
     "data": {
      "application/javascript": [
       "IPython.notebook.execute_cells([IPython.notebook.get_selected_index()+1,6,7])"
      ],
      "text/plain": [
       "<IPython.core.display.Javascript object>"
      ]
     },
     "metadata": {},
     "output_type": "display_data"
    },
    {
     "data": {
      "application/javascript": [
       "IPython.notebook.execute_cells([IPython.notebook.get_selected_index()+1,6,7])"
      ],
      "text/plain": [
       "<IPython.core.display.Javascript object>"
      ]
     },
     "metadata": {},
     "output_type": "display_data"
    }
   ],
   "source": [
    "def find(target, myList):\n",
    "    for i in range(len(myList)):\n",
    "        if myList[i] == target:\n",
    "            return i       \n",
    "\n",
    "def on_click(change):\n",
    "    #display(Javascript('IPython.notebook.execute_cells_below()'))  \n",
    "    #display(Javascript('IPython.notebook.execute_cell_range(IPython.notebook.get_selected_index()+1, IPython.notebook.ncells())'))\n",
    "    #display(Javascript('IPython.notebook.execute_cell_range(IPython.notebook.get_selected_index()+1, 6)'))\n",
    "    display(Javascript('IPython.notebook.execute_cells'))\n",
    "\n",
    "def on_click_next(change):\n",
    "    display(Javascript('IPython.notebook.execute_cells([IPython.notebook.get_selected_index()+1])'))\n",
    "    \n",
    "def on_click_7(change):\n",
    "    display(Javascript('IPython.notebook.execute_cells([7])'))\n",
    "\n",
    "def on_click_67(change):\n",
    "    display(Javascript('IPython.notebook.execute_cells([6,7])'))\n",
    "    \n",
    "def on_click_next_67(change):\n",
    "    display(Javascript('IPython.notebook.execute_cells([IPython.notebook.get_selected_index()+1,6,7])'))\n",
    "    \n",
    "# Function to plot error boxes\n",
    "def makeErrorBoxes(xdata,ydata,xerror,yerror,fc='None',ec='k',alpha=1.0,lw=1):\n",
    "    # Create list for all the error patches\n",
    "    errorboxes = []\n",
    "\n",
    "    # Loop over data points; create box from errors at each point\n",
    "    for xc,yc,xe,ye in zip(xdata,ydata,xerror.T,yerror.T):\n",
    "        rect = Rectangle((xc-xe[0],yc-ye[0]),xe.sum(),ye.sum())\n",
    "        errorboxes.append(rect)\n",
    "\n",
    "    # Create patch collection with specified colour/alpha\n",
    "    pc = PatchCollection(errorboxes,facecolor=fc,alpha=alpha,edgecolor=ec,linewidth=lw)\n",
    "\n",
    "    # Add collection to axes\n",
    "    ax.add_collection(pc)    \n",
    "\n",
    "def detector_colors(di):\n",
    "    #colors_list = ['b','g','r','c','m','y'] # Python 3 old default\n",
    "    #colors_list = ['#b2182b','#d6604d','#f4a582','#92c5de','#4393c3','#2166ac'] # blue to red cold\n",
    "    #colors_list = ['#d73027','#f46d43','#fdae61','#abd9e9','#74add1','#4575b4'] # blue to red warm\n",
    "    #colors_list = ['#762a83','#9970ab','#c2a5cf','#a6dba0','#5aae61','#1b7837'] # purple to green\n",
    "    #colors_list = ['#40004b','#762a83','#9970ab','#5aae61','#1b7837','#00441b'] # purple to green darker\n",
    "    #colors_list = [\"#afa83a\",\"#7f63b8\",\"#56ae6c\",\"#b84c7d\",\"#ac863f\",\"#b94d3d\"] # iWantHue 1\n",
    "    #colors_list = ['#1b9e77','#d95f02','#7570b3','#e7298a','#66a61e','#e6ab02'] # qualitative dark 1\n",
    "    colors_list = ['#e41a1c','#377eb8','#4daf4a','#984ea3','#ff7f00','#a65628'] # qualitative dark 2\n",
    "    return colors_list[di]\n",
    "    \n",
    "    \n",
    "    \n",
    "data_version = 'v8'\n",
    "\n",
    "metadata_file = 'metadata_matrix_' + data_version + '.npy'\n",
    "mm_metadata = np.load(metadata_file) # data set, ion species, ion energy, target material, target thickness, secondary particle, detector, header meta data\n",
    "exists_file = 'exists_matrix_' + data_version + '.npy'\n",
    "mm_exists = np.load(exists_file) # data set, ion species, ion energy, target material, target thickness, secondary particle, detector\n",
    "\n",
    "#values_file = 'values_matrix_' + data_version + '.npy'\n",
    "#mm_values = np.load(values_file) # data set, ion species, ion energy, target material, target thickness, secondary particle, detector, column values, energy bins\n",
    "\n",
    "#print(mm_metadata[0,0,0,0,0,0,0,0])\n",
    "\n",
    "projectile_sym_str = ['H', 'He', 'C', 'Si', 'Fe']\n",
    "projectile_longnames_str = ['Hydrogen', 'Helium', 'Carbon', 'Silicon', 'Iron']\n",
    "\n",
    "mm_values_names_list = []\n",
    "for i in range(5):\n",
    "    mm_values_names_list.append('values_matrix_' + projectile_sym_str[i].lower() + \"_\" + data_version + '.npy')\n",
    "\n",
    "is_label = widgets.Label(value=\"Select projectile ion species and energy.\")\n",
    "    \n",
    "ion_species = widgets.ToggleButtons(\n",
    "    options=projectile_sym_str,\n",
    "    description='Ion:',\n",
    "    disabled=False,\n",
    "    button_style='', # 'success', 'info', 'warning', 'danger' or ''\n",
    "    tooltips=projectile_longnames_str,\n",
    "#     icons=['check'] * 5\n",
    ")\n",
    "\n",
    "ion_species.observe(on_click_next_67, 'value')\n",
    "display(is_label,ion_species)\n"
   ]
  },
  {
   "cell_type": "code",
   "execution_count": 64,
   "metadata": {},
   "outputs": [
    {
     "data": {
      "application/vnd.jupyter.widget-view+json": {
       "model_id": "89e5b49e5bdf498084fc7ddfcf4a564a",
       "version_major": 2,
       "version_minor": 0
      },
      "text/html": [
       "<p>Failed to display Jupyter Widget of type <code>ToggleButtons</code>.</p>\n",
       "<p>\n",
       "  If you're reading this message in the Jupyter Notebook or JupyterLab Notebook, it may mean\n",
       "  that the widgets JavaScript is still loading. If this message persists, it\n",
       "  likely means that the widgets JavaScript library is either not installed or\n",
       "  not enabled. See the <a href=\"https://ipywidgets.readthedocs.io/en/stable/user_install.html\">Jupyter\n",
       "  Widgets Documentation</a> for setup instructions.\n",
       "</p>\n",
       "<p>\n",
       "  If you're reading this message in another frontend (for example, a static\n",
       "  rendering on GitHub or <a href=\"https://nbviewer.jupyter.org/\">NBViewer</a>),\n",
       "  it may mean that your frontend doesn't currently support widgets.\n",
       "</p>\n"
      ],
      "text/plain": [
       "ToggleButtons(description='Energy:', options=('400 MeV/n', '800 MeV/n', '1500 MeV/n'), tooltips=['lowest energy', 'middle energy', 'highest energy'], value='400 MeV/n')"
      ]
     },
     "metadata": {},
     "output_type": "display_data"
    }
   ],
   "source": [
    "isi = find(ion_species.value,projectile_sym_str)\n",
    "mm_values = np.load(mm_values_names_list[isi])\n",
    "\n",
    "def erg_options(isi):\n",
    "    if isi == 0:\n",
    "        proj_E = ['400 MeV','800 MeV','2500 MeV']\n",
    "    else:\n",
    "        proj_E = ['400 MeV/n','800 MeV/n','1500 MeV/n']\n",
    "    return proj_E\n",
    "\n",
    "Projectile_E_tooltips = ['lowest energy','middle energy', 'highest energy']\n",
    "\n",
    "ie_label = widgets.Label(value=\"Select projectile ion energy.\")\n",
    "\n",
    "ion_energy = widgets.ToggleButtons(\n",
    "    options=erg_options(isi),\n",
    "    description='Energy:',\n",
    "    disabled=False,\n",
    "    button_style='', # 'success', 'info', 'warning', 'danger' or ''\n",
    "    tooltips=Projectile_E_tooltips,\n",
    "#     icons=['check'] * 5\n",
    ")\n",
    "\n",
    "ion_energy.observe(on_click_67, 'value')\n",
    "#display(ie_label, ion_energy)\n",
    "display(ion_energy)\n"
   ]
  },
  {
   "cell_type": "code",
   "execution_count": 5,
   "metadata": {},
   "outputs": [
    {
     "data": {
      "application/vnd.jupyter.widget-view+json": {
       "model_id": "54c66b6b6d1f45628ad5c265ed7b676c",
       "version_major": 2,
       "version_minor": 0
      },
      "text/html": [
       "<p>Failed to display Jupyter Widget of type <code>Label</code>.</p>\n",
       "<p>\n",
       "  If you're reading this message in the Jupyter Notebook or JupyterLab Notebook, it may mean\n",
       "  that the widgets JavaScript is still loading. If this message persists, it\n",
       "  likely means that the widgets JavaScript library is either not installed or\n",
       "  not enabled. See the <a href=\"https://ipywidgets.readthedocs.io/en/stable/user_install.html\">Jupyter\n",
       "  Widgets Documentation</a> for setup instructions.\n",
       "</p>\n",
       "<p>\n",
       "  If you're reading this message in another frontend (for example, a static\n",
       "  rendering on GitHub or <a href=\"https://nbviewer.jupyter.org/\">NBViewer</a>),\n",
       "  it may mean that your frontend doesn't currently support widgets.\n",
       "</p>\n"
      ],
      "text/plain": [
       "Label(value='Select upstream target material and thickness.')"
      ]
     },
     "metadata": {},
     "output_type": "display_data"
    },
    {
     "data": {
      "application/vnd.jupyter.widget-view+json": {
       "model_id": "fdcadb6019874f36a9e9baf6950a8997",
       "version_major": 2,
       "version_minor": 0
      },
      "text/html": [
       "<p>Failed to display Jupyter Widget of type <code>ToggleButtons</code>.</p>\n",
       "<p>\n",
       "  If you're reading this message in the Jupyter Notebook or JupyterLab Notebook, it may mean\n",
       "  that the widgets JavaScript is still loading. If this message persists, it\n",
       "  likely means that the widgets JavaScript library is either not installed or\n",
       "  not enabled. See the <a href=\"https://ipywidgets.readthedocs.io/en/stable/user_install.html\">Jupyter\n",
       "  Widgets Documentation</a> for setup instructions.\n",
       "</p>\n",
       "<p>\n",
       "  If you're reading this message in another frontend (for example, a static\n",
       "  rendering on GitHub or <a href=\"https://nbviewer.jupyter.org/\">NBViewer</a>),\n",
       "  it may mean that your frontend doesn't currently support widgets.\n",
       "</p>\n"
      ],
      "text/plain": [
       "ToggleButtons(description='Material:', options=('Al', 'HDPE', 'AlPE'), tooltips=['Aluminum', 'Polyethylene', 'Combination of Al and HDPE'], value='Al')"
      ]
     },
     "metadata": {},
     "output_type": "display_data"
    },
    {
     "data": {
      "application/javascript": [
       "IPython.notebook.execute_cells([IPython.notebook.get_selected_index()+1,6,7])"
      ],
      "text/plain": [
       "<IPython.core.display.Javascript object>"
      ]
     },
     "metadata": {},
     "output_type": "display_data"
    }
   ],
   "source": [
    "isi = find(ion_species.value,projectile_sym_str)\n",
    "iei = find(ion_energy.value,erg_options(isi))\n",
    "\n",
    "target_mats_long = ['Aluminum','Polyethylene','Combination of Al and HDPE']\n",
    "target_mats_short = ['Al','HDPE','AlPE']\n",
    "\n",
    "tm_label = widgets.Label(value=\"Select upstream target material and thickness.\")\n",
    "\n",
    "target_material = widgets.ToggleButtons(\n",
    "    options=target_mats_short,\n",
    "    description='Material:',\n",
    "    disabled=False,\n",
    "    button_style='', # 'success', 'info', 'warning', 'danger' or ''\n",
    "    tooltips=target_mats_long,\n",
    "#     icons=['check'] * 3\n",
    ")\n",
    "\n",
    "target_material.observe(on_click_next_67, 'value')\n",
    "display(tm_label, target_material)"
   ]
  },
  {
   "cell_type": "code",
   "execution_count": 17,
   "metadata": {},
   "outputs": [
    {
     "data": {
      "application/vnd.jupyter.widget-view+json": {
       "model_id": "5eb5574b66304ff69e48fce3433d6170",
       "version_major": 2,
       "version_minor": 0
      },
      "text/html": [
       "<p>Failed to display Jupyter Widget of type <code>ToggleButtons</code>.</p>\n",
       "<p>\n",
       "  If you're reading this message in the Jupyter Notebook or JupyterLab Notebook, it may mean\n",
       "  that the widgets JavaScript is still loading. If this message persists, it\n",
       "  likely means that the widgets JavaScript library is either not installed or\n",
       "  not enabled. See the <a href=\"https://ipywidgets.readthedocs.io/en/stable/user_install.html\">Jupyter\n",
       "  Widgets Documentation</a> for setup instructions.\n",
       "</p>\n",
       "<p>\n",
       "  If you're reading this message in another frontend (for example, a static\n",
       "  rendering on GitHub or <a href=\"https://nbviewer.jupyter.org/\">NBViewer</a>),\n",
       "  it may mean that your frontend doesn't currently support widgets.\n",
       "</p>\n"
      ],
      "text/plain": [
       "ToggleButtons(description='Thickness:', options=('20 g/cm²', '60 g/cm²'), tooltips=['10 g/cm² Al upstream + 10 g/cm² HDPE downstream', '10 g/cm² Al upstream + 50 g/cm² HDPE downstream'], value='20 g/cm²')"
      ]
     },
     "metadata": {},
     "output_type": "display_data"
    },
    {
     "data": {
      "application/javascript": [
       "IPython.notebook.execute_cells([6,7])"
      ],
      "text/plain": [
       "<IPython.core.display.Javascript object>"
      ]
     },
     "metadata": {},
     "output_type": "display_data"
    }
   ],
   "source": [
    "isi = find(ion_species.value,projectile_sym_str)\n",
    "iei = find(ion_energy.value,erg_options(isi))\n",
    "ftmi = find(target_material.value,target_mats_short)\n",
    "thicknesses = ['20 g/cm\\u00B2','40 g/cm\\u00B2','60 g/cm\\u00B2']\n",
    "def thickness_options(ftmi):\n",
    "    if ftmi == 2:\n",
    "        thicknesses = ['20 g/cm\\u00B2','60 g/cm\\u00B2']\n",
    "        thick_mouseover = ['10 g/cm\\u00B2 Al upstream + 10 g/cm\\u00B2 HDPE downstream','10 g/cm\\u00B2 Al upstream + 50 g/cm\\u00B2 HDPE downstream']\n",
    "    else:\n",
    "        thicknesses = ['20 g/cm\\u00B2','40 g/cm\\u00B2','60 g/cm\\u00B2']\n",
    "        thick_mouseover = ['20 g/cm\\u00B2 '+target_mats_long[ftmi],'40 g/cm\\u00B2 '+target_mats_long[ftmi],'60 g/cm\\u00B2 '+target_mats_long[ftmi]]\n",
    "    return thicknesses, thick_mouseover\n",
    "\n",
    "tt_label = widgets.Label(value=\"Select upstream target mass thickness.\")\n",
    "\n",
    "target_thickness = widgets.ToggleButtons(\n",
    "    options=thickness_options(ftmi)[0],\n",
    "    description='Thickness:',\n",
    "    disabled=False,\n",
    "    button_style='', # 'success', 'info', 'warning', 'danger' or ''\n",
    "    tooltips=thickness_options(ftmi)[1],\n",
    "#     icons=['check'] * 3\n",
    ")\n",
    "\n",
    "target_thickness.observe(on_click_67, 'value')\n",
    "#display(tt_label, target_thickness)\n",
    "display(target_thickness)"
   ]
  },
  {
   "cell_type": "code",
   "execution_count": 7,
   "metadata": {},
   "outputs": [
    {
     "data": {
      "application/vnd.jupyter.widget-view+json": {
       "model_id": "95a0a8a2d4e247d1bbd39c9f50ff8cc8",
       "version_major": 2,
       "version_minor": 0
      },
      "text/html": [
       "<p>Failed to display Jupyter Widget of type <code>Label</code>.</p>\n",
       "<p>\n",
       "  If you're reading this message in the Jupyter Notebook or JupyterLab Notebook, it may mean\n",
       "  that the widgets JavaScript is still loading. If this message persists, it\n",
       "  likely means that the widgets JavaScript library is either not installed or\n",
       "  not enabled. See the <a href=\"https://ipywidgets.readthedocs.io/en/stable/user_install.html\">Jupyter\n",
       "  Widgets Documentation</a> for setup instructions.\n",
       "</p>\n",
       "<p>\n",
       "  If you're reading this message in another frontend (for example, a static\n",
       "  rendering on GitHub or <a href=\"https://nbviewer.jupyter.org/\">NBViewer</a>),\n",
       "  it may mean that your frontend doesn't currently support widgets.\n",
       "</p>\n"
      ],
      "text/plain": [
       "Label(value='Select a detector type.')"
      ]
     },
     "metadata": {},
     "output_type": "display_data"
    },
    {
     "data": {
      "application/vnd.jupyter.widget-view+json": {
       "model_id": "b4e8c3db5f1e44e0b7346e6e67cf9276",
       "version_major": 2,
       "version_minor": 0
      },
      "text/html": [
       "<p>Failed to display Jupyter Widget of type <code>ToggleButtons</code>.</p>\n",
       "<p>\n",
       "  If you're reading this message in the Jupyter Notebook or JupyterLab Notebook, it may mean\n",
       "  that the widgets JavaScript is still loading. If this message persists, it\n",
       "  likely means that the widgets JavaScript library is either not installed or\n",
       "  not enabled. See the <a href=\"https://ipywidgets.readthedocs.io/en/stable/user_install.html\">Jupyter\n",
       "  Widgets Documentation</a> for setup instructions.\n",
       "</p>\n",
       "<p>\n",
       "  If you're reading this message in another frontend (for example, a static\n",
       "  rendering on GitHub or <a href=\"https://nbviewer.jupyter.org/\">NBViewer</a>),\n",
       "  it may mean that your frontend doesn't currently support widgets.\n",
       "</p>\n"
      ],
      "text/plain": [
       "ToggleButtons(description='Type:', options=('OLS', 'NaI'), tooltips=['Organic Liquid Scintillator', 'Sodium Iodide'], value='OLS')"
      ]
     },
     "metadata": {},
     "output_type": "display_data"
    }
   ],
   "source": [
    "isi = find(ion_species.value,projectile_sym_str)\n",
    "iei = find(ion_energy.value,erg_options(isi))\n",
    "ftmi = find(target_material.value,target_mats_short)\n",
    "ftti = find(target_thickness.value,thicknesses)\n",
    "\n",
    "detectors_short = ['OLS','NaI']\n",
    "detectors_long = ['Organic Liquid Scintillator','Sodium Iodide']\n",
    "\n",
    "dt_label = widgets.Label(value=\"Select a detector type.\")\n",
    "\n",
    "detector_type = widgets.ToggleButtons(\n",
    "    options=detectors_short,\n",
    "    description='Type:',\n",
    "    disabled=False,\n",
    "    button_style='', # 'success', 'info', 'warning', 'danger' or ''\n",
    "    tooltips=detectors_long,\n",
    "#     icons=['check'] * 3\n",
    ")\n",
    "\n",
    "detector_type.observe(on_click_67, 'value')\n",
    "display(dt_label,detector_type)"
   ]
  },
  {
   "cell_type": "code",
   "execution_count": 65,
   "metadata": {},
   "outputs": [
    {
     "data": {
      "application/vnd.jupyter.widget-view+json": {
       "model_id": "896dfd1b3f974d339a6c38f264ed4660",
       "version_major": 2,
       "version_minor": 0
      },
      "text/html": [
       "<p>Failed to display Jupyter Widget of type <code>Label</code>.</p>\n",
       "<p>\n",
       "  If you're reading this message in the Jupyter Notebook or JupyterLab Notebook, it may mean\n",
       "  that the widgets JavaScript is still loading. If this message persists, it\n",
       "  likely means that the widgets JavaScript library is either not installed or\n",
       "  not enabled. See the <a href=\"https://ipywidgets.readthedocs.io/en/stable/user_install.html\">Jupyter\n",
       "  Widgets Documentation</a> for setup instructions.\n",
       "</p>\n",
       "<p>\n",
       "  If you're reading this message in another frontend (for example, a static\n",
       "  rendering on GitHub or <a href=\"https://nbviewer.jupyter.org/\">NBViewer</a>),\n",
       "  it may mean that your frontend doesn't currently support widgets.\n",
       "</p>\n"
      ],
      "text/plain": [
       "Label(value='Select which secondary particle to plot spectra for.')"
      ]
     },
     "metadata": {},
     "output_type": "display_data"
    },
    {
     "data": {
      "application/vnd.jupyter.widget-view+json": {
       "model_id": "6fa5f5194401473f8642b8eb2a6d39de",
       "version_major": 2,
       "version_minor": 0
      },
      "text/html": [
       "<p>Failed to display Jupyter Widget of type <code>ToggleButtons</code>.</p>\n",
       "<p>\n",
       "  If you're reading this message in the Jupyter Notebook or JupyterLab Notebook, it may mean\n",
       "  that the widgets JavaScript is still loading. If this message persists, it\n",
       "  likely means that the widgets JavaScript library is either not installed or\n",
       "  not enabled. See the <a href=\"https://ipywidgets.readthedocs.io/en/stable/user_install.html\">Jupyter\n",
       "  Widgets Documentation</a> for setup instructions.\n",
       "</p>\n",
       "<p>\n",
       "  If you're reading this message in another frontend (for example, a static\n",
       "  rendering on GitHub or <a href=\"https://nbviewer.jupyter.org/\">NBViewer</a>),\n",
       "  it may mean that your frontend doesn't currently support widgets.\n",
       "</p>\n"
      ],
      "text/plain": [
       "ToggleButtons(description='Particle:', options=('N (¹n)', 'NDC (¹n)', 'P (¹H)', 'D (²H)', 'T (³H)', 'S (³He)', 'A (⁴He)'), tooltips=['Neutron', 'Back Target Neutron', 'Proton', 'Deuteron', 'Triton', 'Helium-3', 'Helium-4'], value='N (¹n)')"
      ]
     },
     "metadata": {},
     "output_type": "display_data"
    },
    {
     "data": {
      "application/javascript": [
       "IPython.notebook.execute_cells([IPython.notebook.get_selected_index()+1])"
      ],
      "text/plain": [
       "<IPython.core.display.Javascript object>"
      ]
     },
     "metadata": {},
     "output_type": "display_data"
    }
   ],
   "source": [
    "isi = find(ion_species.value,projectile_sym_str)\n",
    "iei = find(ion_energy.value,erg_options(isi))\n",
    "ftmi = find(target_material.value,target_mats_short)\n",
    "ftti = find(target_thickness.value,thicknesses)\n",
    "detti = find(detector_type.value,detectors_short)\n",
    "if detti==1: \n",
    "    add2deti = 6 # offset in matrix for NaI detectors\n",
    "else:\n",
    "    add2deti = 0 \n",
    "\n",
    "# See which secondary particles exist\n",
    "existing_pars_i = []\n",
    "for i in range(np.shape(mm_exists[0,isi,iei,ftmi,ftti,:,add2deti:(add2deti+6)])[0]):\n",
    "    if np.any(mm_exists[0,isi,iei,ftmi,ftti,i,add2deti:(add2deti+6)]):\n",
    "        existing_pars_i.append(i)\n",
    "        \n",
    "particles_long = ['Neutron','Back Target Neutron','Proton','Deuteron','Triton','Helium-3','Helium-4'] # second 'Neutron' can be renamed to specify deconvoluted origin\n",
    "particles_short = ['N','NDC','H','D','T','S','A']\n",
    "particles_med = ['N (\\u00B9n)','NDC (\\u00B9n)','P (\\u00B9H)','D (\\u00B2H)','T (\\u00B3H)','S (\\u00B3He)','A (\\u2074He)']\n",
    "\n",
    "present_pars_long = [particles_long[i] for i in existing_pars_i]\n",
    "present_pars_med = [particles_med[i] for i in existing_pars_i]\n",
    "\n",
    "sp_label = widgets.Label(value=\"Select which secondary particle to plot spectra for.\")\n",
    "\n",
    "secondary_particle = widgets.ToggleButtons(\n",
    "    options=present_pars_med,\n",
    "    description='Particle:',\n",
    "    disabled=False,\n",
    "    button_style='', # 'success', 'info', 'warning', 'danger' or ''\n",
    "    tooltips=present_pars_long,\n",
    "#     icons=['check'] * 3\n",
    ")\n",
    "\n",
    "secondary_particle.observe(on_click_next, 'value')\n",
    "display(sp_label,secondary_particle)\n"
   ]
  },
  {
   "cell_type": "code",
   "execution_count": 67,
   "metadata": {},
   "outputs": [
    {
     "data": {
      "application/vnd.jupyter.widget-view+json": {
       "model_id": "3e72b721b75c45dc9b90549ce80ac86d",
       "version_major": 2,
       "version_minor": 0
      },
      "text/html": [
       "<p>Failed to display Jupyter Widget of type <code>Label</code>.</p>\n",
       "<p>\n",
       "  If you're reading this message in the Jupyter Notebook or JupyterLab Notebook, it may mean\n",
       "  that the widgets JavaScript is still loading. If this message persists, it\n",
       "  likely means that the widgets JavaScript library is either not installed or\n",
       "  not enabled. See the <a href=\"https://ipywidgets.readthedocs.io/en/stable/user_install.html\">Jupyter\n",
       "  Widgets Documentation</a> for setup instructions.\n",
       "</p>\n",
       "<p>\n",
       "  If you're reading this message in another frontend (for example, a static\n",
       "  rendering on GitHub or <a href=\"https://nbviewer.jupyter.org/\">NBViewer</a>),\n",
       "  it may mean that your frontend doesn't currently support widgets.\n",
       "</p>\n"
      ],
      "text/plain": [
       "Label(value='Select the detector angles to plot.')"
      ]
     },
     "metadata": {},
     "output_type": "display_data"
    },
    {
     "data": {
      "application/vnd.jupyter.widget-view+json": {
       "model_id": "6db9444dc9634e8c8fd8e92d8dac6d31",
       "version_major": 2,
       "version_minor": 0
      },
      "text/html": [
       "<p>Failed to display Jupyter Widget of type <code>Checkbox</code>.</p>\n",
       "<p>\n",
       "  If you're reading this message in the Jupyter Notebook or JupyterLab Notebook, it may mean\n",
       "  that the widgets JavaScript is still loading. If this message persists, it\n",
       "  likely means that the widgets JavaScript library is either not installed or\n",
       "  not enabled. See the <a href=\"https://ipywidgets.readthedocs.io/en/stable/user_install.html\">Jupyter\n",
       "  Widgets Documentation</a> for setup instructions.\n",
       "</p>\n",
       "<p>\n",
       "  If you're reading this message in another frontend (for example, a static\n",
       "  rendering on GitHub or <a href=\"https://nbviewer.jupyter.org/\">NBViewer</a>),\n",
       "  it may mean that your frontend doesn't currently support widgets.\n",
       "</p>\n"
      ],
      "text/plain": [
       "Checkbox(value=True, description='10°')"
      ]
     },
     "metadata": {},
     "output_type": "display_data"
    },
    {
     "data": {
      "application/vnd.jupyter.widget-view+json": {
       "model_id": "4aab952e1a384054883c03f1fa150a4a",
       "version_major": 2,
       "version_minor": 0
      },
      "text/html": [
       "<p>Failed to display Jupyter Widget of type <code>Checkbox</code>.</p>\n",
       "<p>\n",
       "  If you're reading this message in the Jupyter Notebook or JupyterLab Notebook, it may mean\n",
       "  that the widgets JavaScript is still loading. If this message persists, it\n",
       "  likely means that the widgets JavaScript library is either not installed or\n",
       "  not enabled. See the <a href=\"https://ipywidgets.readthedocs.io/en/stable/user_install.html\">Jupyter\n",
       "  Widgets Documentation</a> for setup instructions.\n",
       "</p>\n",
       "<p>\n",
       "  If you're reading this message in another frontend (for example, a static\n",
       "  rendering on GitHub or <a href=\"https://nbviewer.jupyter.org/\">NBViewer</a>),\n",
       "  it may mean that your frontend doesn't currently support widgets.\n",
       "</p>\n"
      ],
      "text/plain": [
       "Checkbox(value=True, description='30°')"
      ]
     },
     "metadata": {},
     "output_type": "display_data"
    },
    {
     "data": {
      "application/vnd.jupyter.widget-view+json": {
       "model_id": "5367feb00c614951928bca526bd21234",
       "version_major": 2,
       "version_minor": 0
      },
      "text/html": [
       "<p>Failed to display Jupyter Widget of type <code>Checkbox</code>.</p>\n",
       "<p>\n",
       "  If you're reading this message in the Jupyter Notebook or JupyterLab Notebook, it may mean\n",
       "  that the widgets JavaScript is still loading. If this message persists, it\n",
       "  likely means that the widgets JavaScript library is either not installed or\n",
       "  not enabled. See the <a href=\"https://ipywidgets.readthedocs.io/en/stable/user_install.html\">Jupyter\n",
       "  Widgets Documentation</a> for setup instructions.\n",
       "</p>\n",
       "<p>\n",
       "  If you're reading this message in another frontend (for example, a static\n",
       "  rendering on GitHub or <a href=\"https://nbviewer.jupyter.org/\">NBViewer</a>),\n",
       "  it may mean that your frontend doesn't currently support widgets.\n",
       "</p>\n"
      ],
      "text/plain": [
       "Checkbox(value=True, description='45°')"
      ]
     },
     "metadata": {},
     "output_type": "display_data"
    },
    {
     "data": {
      "application/vnd.jupyter.widget-view+json": {
       "model_id": "60ca6e2acec74f4eb5802cff5f40bcc8",
       "version_major": 2,
       "version_minor": 0
      },
      "text/html": [
       "<p>Failed to display Jupyter Widget of type <code>Checkbox</code>.</p>\n",
       "<p>\n",
       "  If you're reading this message in the Jupyter Notebook or JupyterLab Notebook, it may mean\n",
       "  that the widgets JavaScript is still loading. If this message persists, it\n",
       "  likely means that the widgets JavaScript library is either not installed or\n",
       "  not enabled. See the <a href=\"https://ipywidgets.readthedocs.io/en/stable/user_install.html\">Jupyter\n",
       "  Widgets Documentation</a> for setup instructions.\n",
       "</p>\n",
       "<p>\n",
       "  If you're reading this message in another frontend (for example, a static\n",
       "  rendering on GitHub or <a href=\"https://nbviewer.jupyter.org/\">NBViewer</a>),\n",
       "  it may mean that your frontend doesn't currently support widgets.\n",
       "</p>\n"
      ],
      "text/plain": [
       "Checkbox(value=True, description='60°')"
      ]
     },
     "metadata": {},
     "output_type": "display_data"
    },
    {
     "data": {
      "application/vnd.jupyter.widget-view+json": {
       "model_id": "cd86c986169d4439be1aa1154efeeb33",
       "version_major": 2,
       "version_minor": 0
      },
      "text/html": [
       "<p>Failed to display Jupyter Widget of type <code>Checkbox</code>.</p>\n",
       "<p>\n",
       "  If you're reading this message in the Jupyter Notebook or JupyterLab Notebook, it may mean\n",
       "  that the widgets JavaScript is still loading. If this message persists, it\n",
       "  likely means that the widgets JavaScript library is either not installed or\n",
       "  not enabled. See the <a href=\"https://ipywidgets.readthedocs.io/en/stable/user_install.html\">Jupyter\n",
       "  Widgets Documentation</a> for setup instructions.\n",
       "</p>\n",
       "<p>\n",
       "  If you're reading this message in another frontend (for example, a static\n",
       "  rendering on GitHub or <a href=\"https://nbviewer.jupyter.org/\">NBViewer</a>),\n",
       "  it may mean that your frontend doesn't currently support widgets.\n",
       "</p>\n"
      ],
      "text/plain": [
       "Checkbox(value=True, description='80°')"
      ]
     },
     "metadata": {},
     "output_type": "display_data"
    },
    {
     "data": {
      "application/vnd.jupyter.widget-view+json": {
       "model_id": "e1635ead8bab446295abdc3fc7248b1b",
       "version_major": 2,
       "version_minor": 0
      },
      "text/html": [
       "<p>Failed to display Jupyter Widget of type <code>Checkbox</code>.</p>\n",
       "<p>\n",
       "  If you're reading this message in the Jupyter Notebook or JupyterLab Notebook, it may mean\n",
       "  that the widgets JavaScript is still loading. If this message persists, it\n",
       "  likely means that the widgets JavaScript library is either not installed or\n",
       "  not enabled. See the <a href=\"https://ipywidgets.readthedocs.io/en/stable/user_install.html\">Jupyter\n",
       "  Widgets Documentation</a> for setup instructions.\n",
       "</p>\n",
       "<p>\n",
       "  If you're reading this message in another frontend (for example, a static\n",
       "  rendering on GitHub or <a href=\"https://nbviewer.jupyter.org/\">NBViewer</a>),\n",
       "  it may mean that your frontend doesn't currently support widgets.\n",
       "</p>\n"
      ],
      "text/plain": [
       "Checkbox(value=True, description='135°')"
      ]
     },
     "metadata": {},
     "output_type": "display_data"
    }
   ],
   "source": [
    "isi = find(ion_species.value,projectile_sym_str)\n",
    "iei = find(ion_energy.value,erg_options(isi))\n",
    "ftmi = find(target_material.value,target_mats_short)\n",
    "ftti = find(target_thickness.value,thicknesses)\n",
    "detti = find(detector_type.value,detectors_short)\n",
    "spi = find(secondary_particle.value,particles_med)\n",
    "\n",
    "detectors_angles = [['10\\u00B0','30\\u00B0','45\\u00B0','60\\u00B0','80\\u00B0','135\\u00B0'], ['7.2\\u00B0','10\\u00B0','12.7\\u00B0','28.2\\u00B0','30\\u00B0','32.7\\u00B0']]\n",
    "available_det_angles = []\n",
    "\n",
    "da_label = widgets.Label(value=\"Select the detector angles to plot.\")\n",
    "\n",
    "dets = []\n",
    "for i in range(6):\n",
    "    if mm_exists[0,isi,iei,ftmi,ftti,spi,(add2deti+i)]:\n",
    "        available_det_angles.append(detectors_angles[detti][i])\n",
    "        dets.append(widgets.Checkbox(\n",
    "            value=True,\n",
    "            description=detectors_angles[detti][i],\n",
    "            disabled=False\n",
    "        ))\n",
    "\n",
    "display(da_label)\n",
    "for i in range(len(dets)):\n",
    "    display(dets[i])"
   ]
  },
  {
   "cell_type": "code",
   "execution_count": 10,
   "metadata": {},
   "outputs": [
    {
     "data": {
      "application/vnd.jupyter.widget-view+json": {
       "model_id": "8e56187d062e4c6c8a6de1669ae60bb8",
       "version_major": 2,
       "version_minor": 0
      },
      "text/html": [
       "<p>Failed to display Jupyter Widget of type <code>Label</code>.</p>\n",
       "<p>\n",
       "  If you're reading this message in the Jupyter Notebook or JupyterLab Notebook, it may mean\n",
       "  that the widgets JavaScript is still loading. If this message persists, it\n",
       "  likely means that the widgets JavaScript library is either not installed or\n",
       "  not enabled. See the <a href=\"https://ipywidgets.readthedocs.io/en/stable/user_install.html\">Jupyter\n",
       "  Widgets Documentation</a> for setup instructions.\n",
       "</p>\n",
       "<p>\n",
       "  If you're reading this message in another frontend (for example, a static\n",
       "  rendering on GitHub or <a href=\"https://nbviewer.jupyter.org/\">NBViewer</a>),\n",
       "  it may mean that your frontend doesn't currently support widgets.\n",
       "</p>\n"
      ],
      "text/plain": [
       "Label(value='Select which sets of data to display.')"
      ]
     },
     "metadata": {},
     "output_type": "display_data"
    },
    {
     "data": {
      "application/vnd.jupyter.widget-view+json": {
       "model_id": "5ffc6e111a3c4fb58d3a806efdd2b98c",
       "version_major": 2,
       "version_minor": 0
      },
      "text/html": [
       "<p>Failed to display Jupyter Widget of type <code>Checkbox</code>.</p>\n",
       "<p>\n",
       "  If you're reading this message in the Jupyter Notebook or JupyterLab Notebook, it may mean\n",
       "  that the widgets JavaScript is still loading. If this message persists, it\n",
       "  likely means that the widgets JavaScript library is either not installed or\n",
       "  not enabled. See the <a href=\"https://ipywidgets.readthedocs.io/en/stable/user_install.html\">Jupyter\n",
       "  Widgets Documentation</a> for setup instructions.\n",
       "</p>\n",
       "<p>\n",
       "  If you're reading this message in another frontend (for example, a static\n",
       "  rendering on GitHub or <a href=\"https://nbviewer.jupyter.org/\">NBViewer</a>),\n",
       "  it may mean that your frontend doesn't currently support widgets.\n",
       "</p>\n"
      ],
      "text/plain": [
       "Checkbox(value=True, description='Experiment')"
      ]
     },
     "metadata": {},
     "output_type": "display_data"
    },
    {
     "data": {
      "application/vnd.jupyter.widget-view+json": {
       "model_id": "209809cd175747589c1b365f55fafa24",
       "version_major": 2,
       "version_minor": 0
      },
      "text/html": [
       "<p>Failed to display Jupyter Widget of type <code>Checkbox</code>.</p>\n",
       "<p>\n",
       "  If you're reading this message in the Jupyter Notebook or JupyterLab Notebook, it may mean\n",
       "  that the widgets JavaScript is still loading. If this message persists, it\n",
       "  likely means that the widgets JavaScript library is either not installed or\n",
       "  not enabled. See the <a href=\"https://ipywidgets.readthedocs.io/en/stable/user_install.html\">Jupyter\n",
       "  Widgets Documentation</a> for setup instructions.\n",
       "</p>\n",
       "<p>\n",
       "  If you're reading this message in another frontend (for example, a static\n",
       "  rendering on GitHub or <a href=\"https://nbviewer.jupyter.org/\">NBViewer</a>),\n",
       "  it may mean that your frontend doesn't currently support widgets.\n",
       "</p>\n"
      ],
      "text/plain": [
       "Checkbox(value=True, description='MCNP simulated')"
      ]
     },
     "metadata": {},
     "output_type": "display_data"
    },
    {
     "data": {
      "application/vnd.jupyter.widget-view+json": {
       "model_id": "342d59357cf449d6afad1051e5077421",
       "version_major": 2,
       "version_minor": 0
      },
      "text/html": [
       "<p>Failed to display Jupyter Widget of type <code>Checkbox</code>.</p>\n",
       "<p>\n",
       "  If you're reading this message in the Jupyter Notebook or JupyterLab Notebook, it may mean\n",
       "  that the widgets JavaScript is still loading. If this message persists, it\n",
       "  likely means that the widgets JavaScript library is either not installed or\n",
       "  not enabled. See the <a href=\"https://ipywidgets.readthedocs.io/en/stable/user_install.html\">Jupyter\n",
       "  Widgets Documentation</a> for setup instructions.\n",
       "</p>\n",
       "<p>\n",
       "  If you're reading this message in another frontend (for example, a static\n",
       "  rendering on GitHub or <a href=\"https://nbviewer.jupyter.org/\">NBViewer</a>),\n",
       "  it may mean that your frontend doesn't currently support widgets.\n",
       "</p>\n"
      ],
      "text/plain": [
       "Checkbox(value=True, description='PHITS simulated')"
      ]
     },
     "metadata": {},
     "output_type": "display_data"
    }
   ],
   "source": [
    "isi = find(ion_species.value,projectile_sym_str)\n",
    "iei = find(ion_energy.value,erg_options(isi))\n",
    "ftmi = find(target_material.value,target_mats_short)\n",
    "ftti = find(target_thickness.value,thicknesses)\n",
    "detti = find(detector_type.value,detectors_short)\n",
    "spi = find(secondary_particle.value,particles_med)\n",
    "\n",
    "det_angle_i_list = []\n",
    "for i in range(len(available_det_angles)):\n",
    "    if dets[i].value:\n",
    "        if detti == 0:\n",
    "            det_angle_i_list.append(find(available_det_angles[i],detectors_angles[detti]))\n",
    "        else:\n",
    "            det_angle_i_list.append(find(available_det_angles[i],detectors_angles[detti])+6) # for NaI\n",
    "\n",
    "ds_label = widgets.Label(value='Select which sets of data to display.')            \n",
    "\n",
    "data_set_names = ['Experiment','MCNP simulated','PHITS simulated']\n",
    "data_sets = []\n",
    "for i in range(3):\n",
    "    data_sets.append(widgets.Checkbox(\n",
    "        value=True,\n",
    "        description=data_set_names[i],\n",
    "        disabled=False\n",
    "    ))\n",
    "\n",
    "display(ds_label)\n",
    "for i in range(3):\n",
    "    display(data_sets[i])\n",
    "\n"
   ]
  },
  {
   "cell_type": "code",
   "execution_count": 11,
   "metadata": {},
   "outputs": [
    {
     "data": {
      "application/vnd.jupyter.widget-view+json": {
       "model_id": "5d97b6da313747d3aa4a70381272148b",
       "version_major": 2,
       "version_minor": 0
      },
      "text/html": [
       "<p>Failed to display Jupyter Widget of type <code>Label</code>.</p>\n",
       "<p>\n",
       "  If you're reading this message in the Jupyter Notebook or JupyterLab Notebook, it may mean\n",
       "  that the widgets JavaScript is still loading. If this message persists, it\n",
       "  likely means that the widgets JavaScript library is either not installed or\n",
       "  not enabled. See the <a href=\"https://ipywidgets.readthedocs.io/en/stable/user_install.html\">Jupyter\n",
       "  Widgets Documentation</a> for setup instructions.\n",
       "</p>\n",
       "<p>\n",
       "  If you're reading this message in another frontend (for example, a static\n",
       "  rendering on GitHub or <a href=\"https://nbviewer.jupyter.org/\">NBViewer</a>),\n",
       "  it may mean that your frontend doesn't currently support widgets.\n",
       "</p>\n"
      ],
      "text/plain": [
       "Label(value='Select how data sets for each detector should be spaced apart (if at all).')"
      ]
     },
     "metadata": {},
     "output_type": "display_data"
    },
    {
     "data": {
      "application/vnd.jupyter.widget-view+json": {
       "model_id": "4edf011187914945850738ab2f9944a3",
       "version_major": 2,
       "version_minor": 0
      },
      "text/html": [
       "<p>Failed to display Jupyter Widget of type <code>ToggleButtons</code>.</p>\n",
       "<p>\n",
       "  If you're reading this message in the Jupyter Notebook or JupyterLab Notebook, it may mean\n",
       "  that the widgets JavaScript is still loading. If this message persists, it\n",
       "  likely means that the widgets JavaScript library is either not installed or\n",
       "  not enabled. See the <a href=\"https://ipywidgets.readthedocs.io/en/stable/user_install.html\">Jupyter\n",
       "  Widgets Documentation</a> for setup instructions.\n",
       "</p>\n",
       "<p>\n",
       "  If you're reading this message in another frontend (for example, a static\n",
       "  rendering on GitHub or <a href=\"https://nbviewer.jupyter.org/\">NBViewer</a>),\n",
       "  it may mean that your frontend doesn't currently support widgets.\n",
       "</p>\n"
      ],
      "text/plain": [
       "ToggleButtons(description='Spacing:', options=('None', 'Spaced by 10²'), tooltips=['All values are presented as is.', 'Plots for different detectors are multiplied by powers of 10² for easier viewing.'], value='None')"
      ]
     },
     "metadata": {},
     "output_type": "display_data"
    },
    {
     "data": {
      "application/javascript": [
       "IPython.notebook.execute_cells([IPython.notebook.get_selected_index()+1])"
      ],
      "text/plain": [
       "<IPython.core.display.Javascript object>"
      ]
     },
     "metadata": {},
     "output_type": "display_data"
    },
    {
     "data": {
      "application/javascript": [
       "IPython.notebook.execute_cells([IPython.notebook.get_selected_index()+1])"
      ],
      "text/plain": [
       "<IPython.core.display.Javascript object>"
      ]
     },
     "metadata": {},
     "output_type": "display_data"
    },
    {
     "data": {
      "application/javascript": [
       "IPython.notebook.execute_cells([IPython.notebook.get_selected_index()+1])"
      ],
      "text/plain": [
       "<IPython.core.display.Javascript object>"
      ]
     },
     "metadata": {},
     "output_type": "display_data"
    },
    {
     "data": {
      "application/javascript": [
       "IPython.notebook.execute_cells([IPython.notebook.get_selected_index()+1])"
      ],
      "text/plain": [
       "<IPython.core.display.Javascript object>"
      ]
     },
     "metadata": {},
     "output_type": "display_data"
    },
    {
     "data": {
      "application/javascript": [
       "IPython.notebook.execute_cells([IPython.notebook.get_selected_index()+1])"
      ],
      "text/plain": [
       "<IPython.core.display.Javascript object>"
      ]
     },
     "metadata": {},
     "output_type": "display_data"
    }
   ],
   "source": [
    "isi = find(ion_species.value,projectile_sym_str)\n",
    "iei = find(ion_energy.value,erg_options(isi))\n",
    "ftmi = find(target_material.value,target_mats_short)\n",
    "ftti = find(target_thickness.value,thicknesses)\n",
    "detti = find(detector_type.value,detectors_short)\n",
    "spi = find(secondary_particle.value,particles_med)\n",
    "\n",
    "det_angle_i_list = []\n",
    "for i in range(len(available_det_angles)):\n",
    "    if dets[i].value:\n",
    "        if detti == 0:\n",
    "            det_angle_i_list.append(find(available_det_angles[i],detectors_angles[detti]))\n",
    "        else:\n",
    "            det_angle_i_list.append(find(available_det_angles[i],detectors_angles[detti])+6) # for NaI\n",
    "            \n",
    "data_set_i_list = []\n",
    "for i in range(3):\n",
    "    if data_sets[i].value:\n",
    "        data_set_i_list.append(i)\n",
    "\n",
    "spacing_short = ['None','Spaced by 10\\u00B2']\n",
    "spacing_long = ['All values are presented as is.','Plots for different detectors are multiplied by powers of 10\\u00B2 for easier viewing.']\n",
    "\n",
    "spacing_label = widgets.Label(value='Select how data sets for each detector should be spaced apart (if at all).')  \n",
    "\n",
    "spacing_choice = widgets.ToggleButtons(\n",
    "    options=spacing_short,\n",
    "    description='Spacing:',\n",
    "    disabled=False,\n",
    "    button_style='', # 'success', 'info', 'warning', 'danger' or ''\n",
    "    tooltips=spacing_long,\n",
    "#     icons=['check'] * 3\n",
    ")\n",
    "\n",
    "spacing_choice.observe(on_click_next, 'value')\n",
    "display(spacing_label, spacing_choice)"
   ]
  },
  {
   "cell_type": "code",
   "execution_count": 44,
   "metadata": {},
   "outputs": [
    {
     "data": {
      "application/vnd.jupyter.widget-view+json": {
       "model_id": "9ee86b3d4a474e2084a2e54cac8b20c8",
       "version_major": 2,
       "version_minor": 0
      },
      "text/html": [
       "<p>Failed to display Jupyter Widget of type <code>Button</code>.</p>\n",
       "<p>\n",
       "  If you're reading this message in the Jupyter Notebook or JupyterLab Notebook, it may mean\n",
       "  that the widgets JavaScript is still loading. If this message persists, it\n",
       "  likely means that the widgets JavaScript library is either not installed or\n",
       "  not enabled. See the <a href=\"https://ipywidgets.readthedocs.io/en/stable/user_install.html\">Jupyter\n",
       "  Widgets Documentation</a> for setup instructions.\n",
       "</p>\n",
       "<p>\n",
       "  If you're reading this message in another frontend (for example, a static\n",
       "  rendering on GitHub or <a href=\"https://nbviewer.jupyter.org/\">NBViewer</a>),\n",
       "  it may mean that your frontend doesn't currently support widgets.\n",
       "</p>\n"
      ],
      "text/plain": [
       "Button(button_style='success', description='Update plot', icon='paint-brush', style=ButtonStyle(), tooltip='Click to redraw the plot below with updated options from above.')"
      ]
     },
     "metadata": {},
     "output_type": "display_data"
    },
    {
     "data": {
      "application/javascript": [
       "IPython.notebook.execute_cells([IPython.notebook.get_selected_index()+1])"
      ],
      "text/plain": [
       "<IPython.core.display.Javascript object>"
      ]
     },
     "metadata": {},
     "output_type": "display_data"
    },
    {
     "data": {
      "application/javascript": [
       "IPython.notebook.execute_cells([IPython.notebook.get_selected_index()+1])"
      ],
      "text/plain": [
       "<IPython.core.display.Javascript object>"
      ]
     },
     "metadata": {},
     "output_type": "display_data"
    },
    {
     "data": {
      "application/javascript": [
       "IPython.notebook.execute_cells([IPython.notebook.get_selected_index()+1])"
      ],
      "text/plain": [
       "<IPython.core.display.Javascript object>"
      ]
     },
     "metadata": {},
     "output_type": "display_data"
    },
    {
     "data": {
      "application/javascript": [
       "IPython.notebook.execute_cells([IPython.notebook.get_selected_index()+1])"
      ],
      "text/plain": [
       "<IPython.core.display.Javascript object>"
      ]
     },
     "metadata": {},
     "output_type": "display_data"
    },
    {
     "data": {
      "application/javascript": [
       "IPython.notebook.execute_cells([IPython.notebook.get_selected_index()+1])"
      ],
      "text/plain": [
       "<IPython.core.display.Javascript object>"
      ]
     },
     "metadata": {},
     "output_type": "display_data"
    }
   ],
   "source": [
    "make_plot_button = widgets.Button(\n",
    "    description='Update plot',\n",
    "    disabled=False,\n",
    "    button_style='success', # 'success', 'info', 'warning', 'danger' or ''\n",
    "    tooltip='Click to redraw the plot below with updated options from above.',\n",
    "    icon='paint-brush' # pencil, rotate-right\n",
    ")\n",
    "\n",
    "#make_plot_button.observe(on_click_next, 'value')\n",
    "display(make_plot_button)\n",
    "make_plot_button.on_click(on_click_next)"
   ]
  },
  {
   "cell_type": "code",
   "execution_count": 69,
   "metadata": {},
   "outputs": [
    {
     "data": {
      "application/javascript": [
       "/* Put everything inside the global mpl namespace */\n",
       "window.mpl = {};\n",
       "\n",
       "\n",
       "mpl.get_websocket_type = function() {\n",
       "    if (typeof(WebSocket) !== 'undefined') {\n",
       "        return WebSocket;\n",
       "    } else if (typeof(MozWebSocket) !== 'undefined') {\n",
       "        return MozWebSocket;\n",
       "    } else {\n",
       "        alert('Your browser does not have WebSocket support.' +\n",
       "              'Please try Chrome, Safari or Firefox ≥ 6. ' +\n",
       "              'Firefox 4 and 5 are also supported but you ' +\n",
       "              'have to enable WebSockets in about:config.');\n",
       "    };\n",
       "}\n",
       "\n",
       "mpl.figure = function(figure_id, websocket, ondownload, parent_element) {\n",
       "    this.id = figure_id;\n",
       "\n",
       "    this.ws = websocket;\n",
       "\n",
       "    this.supports_binary = (this.ws.binaryType != undefined);\n",
       "\n",
       "    if (!this.supports_binary) {\n",
       "        var warnings = document.getElementById(\"mpl-warnings\");\n",
       "        if (warnings) {\n",
       "            warnings.style.display = 'block';\n",
       "            warnings.textContent = (\n",
       "                \"This browser does not support binary websocket messages. \" +\n",
       "                    \"Performance may be slow.\");\n",
       "        }\n",
       "    }\n",
       "\n",
       "    this.imageObj = new Image();\n",
       "\n",
       "    this.context = undefined;\n",
       "    this.message = undefined;\n",
       "    this.canvas = undefined;\n",
       "    this.rubberband_canvas = undefined;\n",
       "    this.rubberband_context = undefined;\n",
       "    this.format_dropdown = undefined;\n",
       "\n",
       "    this.image_mode = 'full';\n",
       "\n",
       "    this.root = $('<div/>');\n",
       "    this._root_extra_style(this.root)\n",
       "    this.root.attr('style', 'display: inline-block');\n",
       "\n",
       "    $(parent_element).append(this.root);\n",
       "\n",
       "    this._init_header(this);\n",
       "    this._init_canvas(this);\n",
       "    this._init_toolbar(this);\n",
       "\n",
       "    var fig = this;\n",
       "\n",
       "    this.waiting = false;\n",
       "\n",
       "    this.ws.onopen =  function () {\n",
       "            fig.send_message(\"supports_binary\", {value: fig.supports_binary});\n",
       "            fig.send_message(\"send_image_mode\", {});\n",
       "            if (mpl.ratio != 1) {\n",
       "                fig.send_message(\"set_dpi_ratio\", {'dpi_ratio': mpl.ratio});\n",
       "            }\n",
       "            fig.send_message(\"refresh\", {});\n",
       "        }\n",
       "\n",
       "    this.imageObj.onload = function() {\n",
       "            if (fig.image_mode == 'full') {\n",
       "                // Full images could contain transparency (where diff images\n",
       "                // almost always do), so we need to clear the canvas so that\n",
       "                // there is no ghosting.\n",
       "                fig.context.clearRect(0, 0, fig.canvas.width, fig.canvas.height);\n",
       "            }\n",
       "            fig.context.drawImage(fig.imageObj, 0, 0);\n",
       "        };\n",
       "\n",
       "    this.imageObj.onunload = function() {\n",
       "        fig.ws.close();\n",
       "    }\n",
       "\n",
       "    this.ws.onmessage = this._make_on_message_function(this);\n",
       "\n",
       "    this.ondownload = ondownload;\n",
       "}\n",
       "\n",
       "mpl.figure.prototype._init_header = function() {\n",
       "    var titlebar = $(\n",
       "        '<div class=\"ui-dialog-titlebar ui-widget-header ui-corner-all ' +\n",
       "        'ui-helper-clearfix\"/>');\n",
       "    var titletext = $(\n",
       "        '<div class=\"ui-dialog-title\" style=\"width: 100%; ' +\n",
       "        'text-align: center; padding: 3px;\"/>');\n",
       "    titlebar.append(titletext)\n",
       "    this.root.append(titlebar);\n",
       "    this.header = titletext[0];\n",
       "}\n",
       "\n",
       "\n",
       "\n",
       "mpl.figure.prototype._canvas_extra_style = function(canvas_div) {\n",
       "\n",
       "}\n",
       "\n",
       "\n",
       "mpl.figure.prototype._root_extra_style = function(canvas_div) {\n",
       "\n",
       "}\n",
       "\n",
       "mpl.figure.prototype._init_canvas = function() {\n",
       "    var fig = this;\n",
       "\n",
       "    var canvas_div = $('<div/>');\n",
       "\n",
       "    canvas_div.attr('style', 'position: relative; clear: both; outline: 0');\n",
       "\n",
       "    function canvas_keyboard_event(event) {\n",
       "        return fig.key_event(event, event['data']);\n",
       "    }\n",
       "\n",
       "    canvas_div.keydown('key_press', canvas_keyboard_event);\n",
       "    canvas_div.keyup('key_release', canvas_keyboard_event);\n",
       "    this.canvas_div = canvas_div\n",
       "    this._canvas_extra_style(canvas_div)\n",
       "    this.root.append(canvas_div);\n",
       "\n",
       "    var canvas = $('<canvas/>');\n",
       "    canvas.addClass('mpl-canvas');\n",
       "    canvas.attr('style', \"left: 0; top: 0; z-index: 0; outline: 0\")\n",
       "\n",
       "    this.canvas = canvas[0];\n",
       "    this.context = canvas[0].getContext(\"2d\");\n",
       "\n",
       "    var backingStore = this.context.backingStorePixelRatio ||\n",
       "\tthis.context.webkitBackingStorePixelRatio ||\n",
       "\tthis.context.mozBackingStorePixelRatio ||\n",
       "\tthis.context.msBackingStorePixelRatio ||\n",
       "\tthis.context.oBackingStorePixelRatio ||\n",
       "\tthis.context.backingStorePixelRatio || 1;\n",
       "\n",
       "    mpl.ratio = (window.devicePixelRatio || 1) / backingStore;\n",
       "\n",
       "    var rubberband = $('<canvas/>');\n",
       "    rubberband.attr('style', \"position: absolute; left: 0; top: 0; z-index: 1;\")\n",
       "\n",
       "    var pass_mouse_events = true;\n",
       "\n",
       "    canvas_div.resizable({\n",
       "        start: function(event, ui) {\n",
       "            pass_mouse_events = false;\n",
       "        },\n",
       "        resize: function(event, ui) {\n",
       "            fig.request_resize(ui.size.width, ui.size.height);\n",
       "        },\n",
       "        stop: function(event, ui) {\n",
       "            pass_mouse_events = true;\n",
       "            fig.request_resize(ui.size.width, ui.size.height);\n",
       "        },\n",
       "    });\n",
       "\n",
       "    function mouse_event_fn(event) {\n",
       "        if (pass_mouse_events)\n",
       "            return fig.mouse_event(event, event['data']);\n",
       "    }\n",
       "\n",
       "    rubberband.mousedown('button_press', mouse_event_fn);\n",
       "    rubberband.mouseup('button_release', mouse_event_fn);\n",
       "    // Throttle sequential mouse events to 1 every 20ms.\n",
       "    rubberband.mousemove('motion_notify', mouse_event_fn);\n",
       "\n",
       "    rubberband.mouseenter('figure_enter', mouse_event_fn);\n",
       "    rubberband.mouseleave('figure_leave', mouse_event_fn);\n",
       "\n",
       "    canvas_div.on(\"wheel\", function (event) {\n",
       "        event = event.originalEvent;\n",
       "        event['data'] = 'scroll'\n",
       "        if (event.deltaY < 0) {\n",
       "            event.step = 1;\n",
       "        } else {\n",
       "            event.step = -1;\n",
       "        }\n",
       "        mouse_event_fn(event);\n",
       "    });\n",
       "\n",
       "    canvas_div.append(canvas);\n",
       "    canvas_div.append(rubberband);\n",
       "\n",
       "    this.rubberband = rubberband;\n",
       "    this.rubberband_canvas = rubberband[0];\n",
       "    this.rubberband_context = rubberband[0].getContext(\"2d\");\n",
       "    this.rubberband_context.strokeStyle = \"#000000\";\n",
       "\n",
       "    this._resize_canvas = function(width, height) {\n",
       "        // Keep the size of the canvas, canvas container, and rubber band\n",
       "        // canvas in synch.\n",
       "        canvas_div.css('width', width)\n",
       "        canvas_div.css('height', height)\n",
       "\n",
       "        canvas.attr('width', width * mpl.ratio);\n",
       "        canvas.attr('height', height * mpl.ratio);\n",
       "        canvas.attr('style', 'width: ' + width + 'px; height: ' + height + 'px;');\n",
       "\n",
       "        rubberband.attr('width', width);\n",
       "        rubberband.attr('height', height);\n",
       "    }\n",
       "\n",
       "    // Set the figure to an initial 600x600px, this will subsequently be updated\n",
       "    // upon first draw.\n",
       "    this._resize_canvas(600, 600);\n",
       "\n",
       "    // Disable right mouse context menu.\n",
       "    $(this.rubberband_canvas).bind(\"contextmenu\",function(e){\n",
       "        return false;\n",
       "    });\n",
       "\n",
       "    function set_focus () {\n",
       "        canvas.focus();\n",
       "        canvas_div.focus();\n",
       "    }\n",
       "\n",
       "    window.setTimeout(set_focus, 100);\n",
       "}\n",
       "\n",
       "mpl.figure.prototype._init_toolbar = function() {\n",
       "    var fig = this;\n",
       "\n",
       "    var nav_element = $('<div/>')\n",
       "    nav_element.attr('style', 'width: 100%');\n",
       "    this.root.append(nav_element);\n",
       "\n",
       "    // Define a callback function for later on.\n",
       "    function toolbar_event(event) {\n",
       "        return fig.toolbar_button_onclick(event['data']);\n",
       "    }\n",
       "    function toolbar_mouse_event(event) {\n",
       "        return fig.toolbar_button_onmouseover(event['data']);\n",
       "    }\n",
       "\n",
       "    for(var toolbar_ind in mpl.toolbar_items) {\n",
       "        var name = mpl.toolbar_items[toolbar_ind][0];\n",
       "        var tooltip = mpl.toolbar_items[toolbar_ind][1];\n",
       "        var image = mpl.toolbar_items[toolbar_ind][2];\n",
       "        var method_name = mpl.toolbar_items[toolbar_ind][3];\n",
       "\n",
       "        if (!name) {\n",
       "            // put a spacer in here.\n",
       "            continue;\n",
       "        }\n",
       "        var button = $('<button/>');\n",
       "        button.addClass('ui-button ui-widget ui-state-default ui-corner-all ' +\n",
       "                        'ui-button-icon-only');\n",
       "        button.attr('role', 'button');\n",
       "        button.attr('aria-disabled', 'false');\n",
       "        button.click(method_name, toolbar_event);\n",
       "        button.mouseover(tooltip, toolbar_mouse_event);\n",
       "\n",
       "        var icon_img = $('<span/>');\n",
       "        icon_img.addClass('ui-button-icon-primary ui-icon');\n",
       "        icon_img.addClass(image);\n",
       "        icon_img.addClass('ui-corner-all');\n",
       "\n",
       "        var tooltip_span = $('<span/>');\n",
       "        tooltip_span.addClass('ui-button-text');\n",
       "        tooltip_span.html(tooltip);\n",
       "\n",
       "        button.append(icon_img);\n",
       "        button.append(tooltip_span);\n",
       "\n",
       "        nav_element.append(button);\n",
       "    }\n",
       "\n",
       "    var fmt_picker_span = $('<span/>');\n",
       "\n",
       "    var fmt_picker = $('<select/>');\n",
       "    fmt_picker.addClass('mpl-toolbar-option ui-widget ui-widget-content');\n",
       "    fmt_picker_span.append(fmt_picker);\n",
       "    nav_element.append(fmt_picker_span);\n",
       "    this.format_dropdown = fmt_picker[0];\n",
       "\n",
       "    for (var ind in mpl.extensions) {\n",
       "        var fmt = mpl.extensions[ind];\n",
       "        var option = $(\n",
       "            '<option/>', {selected: fmt === mpl.default_extension}).html(fmt);\n",
       "        fmt_picker.append(option)\n",
       "    }\n",
       "\n",
       "    // Add hover states to the ui-buttons\n",
       "    $( \".ui-button\" ).hover(\n",
       "        function() { $(this).addClass(\"ui-state-hover\");},\n",
       "        function() { $(this).removeClass(\"ui-state-hover\");}\n",
       "    );\n",
       "\n",
       "    var status_bar = $('<span class=\"mpl-message\"/>');\n",
       "    nav_element.append(status_bar);\n",
       "    this.message = status_bar[0];\n",
       "}\n",
       "\n",
       "mpl.figure.prototype.request_resize = function(x_pixels, y_pixels) {\n",
       "    // Request matplotlib to resize the figure. Matplotlib will then trigger a resize in the client,\n",
       "    // which will in turn request a refresh of the image.\n",
       "    this.send_message('resize', {'width': x_pixels, 'height': y_pixels});\n",
       "}\n",
       "\n",
       "mpl.figure.prototype.send_message = function(type, properties) {\n",
       "    properties['type'] = type;\n",
       "    properties['figure_id'] = this.id;\n",
       "    this.ws.send(JSON.stringify(properties));\n",
       "}\n",
       "\n",
       "mpl.figure.prototype.send_draw_message = function() {\n",
       "    if (!this.waiting) {\n",
       "        this.waiting = true;\n",
       "        this.ws.send(JSON.stringify({type: \"draw\", figure_id: this.id}));\n",
       "    }\n",
       "}\n",
       "\n",
       "\n",
       "mpl.figure.prototype.handle_save = function(fig, msg) {\n",
       "    var format_dropdown = fig.format_dropdown;\n",
       "    var format = format_dropdown.options[format_dropdown.selectedIndex].value;\n",
       "    fig.ondownload(fig, format);\n",
       "}\n",
       "\n",
       "\n",
       "mpl.figure.prototype.handle_resize = function(fig, msg) {\n",
       "    var size = msg['size'];\n",
       "    if (size[0] != fig.canvas.width || size[1] != fig.canvas.height) {\n",
       "        fig._resize_canvas(size[0], size[1]);\n",
       "        fig.send_message(\"refresh\", {});\n",
       "    };\n",
       "}\n",
       "\n",
       "mpl.figure.prototype.handle_rubberband = function(fig, msg) {\n",
       "    var x0 = msg['x0'] / mpl.ratio;\n",
       "    var y0 = (fig.canvas.height - msg['y0']) / mpl.ratio;\n",
       "    var x1 = msg['x1'] / mpl.ratio;\n",
       "    var y1 = (fig.canvas.height - msg['y1']) / mpl.ratio;\n",
       "    x0 = Math.floor(x0) + 0.5;\n",
       "    y0 = Math.floor(y0) + 0.5;\n",
       "    x1 = Math.floor(x1) + 0.5;\n",
       "    y1 = Math.floor(y1) + 0.5;\n",
       "    var min_x = Math.min(x0, x1);\n",
       "    var min_y = Math.min(y0, y1);\n",
       "    var width = Math.abs(x1 - x0);\n",
       "    var height = Math.abs(y1 - y0);\n",
       "\n",
       "    fig.rubberband_context.clearRect(\n",
       "        0, 0, fig.canvas.width, fig.canvas.height);\n",
       "\n",
       "    fig.rubberband_context.strokeRect(min_x, min_y, width, height);\n",
       "}\n",
       "\n",
       "mpl.figure.prototype.handle_figure_label = function(fig, msg) {\n",
       "    // Updates the figure title.\n",
       "    fig.header.textContent = msg['label'];\n",
       "}\n",
       "\n",
       "mpl.figure.prototype.handle_cursor = function(fig, msg) {\n",
       "    var cursor = msg['cursor'];\n",
       "    switch(cursor)\n",
       "    {\n",
       "    case 0:\n",
       "        cursor = 'pointer';\n",
       "        break;\n",
       "    case 1:\n",
       "        cursor = 'default';\n",
       "        break;\n",
       "    case 2:\n",
       "        cursor = 'crosshair';\n",
       "        break;\n",
       "    case 3:\n",
       "        cursor = 'move';\n",
       "        break;\n",
       "    }\n",
       "    fig.rubberband_canvas.style.cursor = cursor;\n",
       "}\n",
       "\n",
       "mpl.figure.prototype.handle_message = function(fig, msg) {\n",
       "    fig.message.textContent = msg['message'];\n",
       "}\n",
       "\n",
       "mpl.figure.prototype.handle_draw = function(fig, msg) {\n",
       "    // Request the server to send over a new figure.\n",
       "    fig.send_draw_message();\n",
       "}\n",
       "\n",
       "mpl.figure.prototype.handle_image_mode = function(fig, msg) {\n",
       "    fig.image_mode = msg['mode'];\n",
       "}\n",
       "\n",
       "mpl.figure.prototype.updated_canvas_event = function() {\n",
       "    // Called whenever the canvas gets updated.\n",
       "    this.send_message(\"ack\", {});\n",
       "}\n",
       "\n",
       "// A function to construct a web socket function for onmessage handling.\n",
       "// Called in the figure constructor.\n",
       "mpl.figure.prototype._make_on_message_function = function(fig) {\n",
       "    return function socket_on_message(evt) {\n",
       "        if (evt.data instanceof Blob) {\n",
       "            /* FIXME: We get \"Resource interpreted as Image but\n",
       "             * transferred with MIME type text/plain:\" errors on\n",
       "             * Chrome.  But how to set the MIME type?  It doesn't seem\n",
       "             * to be part of the websocket stream */\n",
       "            evt.data.type = \"image/png\";\n",
       "\n",
       "            /* Free the memory for the previous frames */\n",
       "            if (fig.imageObj.src) {\n",
       "                (window.URL || window.webkitURL).revokeObjectURL(\n",
       "                    fig.imageObj.src);\n",
       "            }\n",
       "\n",
       "            fig.imageObj.src = (window.URL || window.webkitURL).createObjectURL(\n",
       "                evt.data);\n",
       "            fig.updated_canvas_event();\n",
       "            fig.waiting = false;\n",
       "            return;\n",
       "        }\n",
       "        else if (typeof evt.data === 'string' && evt.data.slice(0, 21) == \"data:image/png;base64\") {\n",
       "            fig.imageObj.src = evt.data;\n",
       "            fig.updated_canvas_event();\n",
       "            fig.waiting = false;\n",
       "            return;\n",
       "        }\n",
       "\n",
       "        var msg = JSON.parse(evt.data);\n",
       "        var msg_type = msg['type'];\n",
       "\n",
       "        // Call the  \"handle_{type}\" callback, which takes\n",
       "        // the figure and JSON message as its only arguments.\n",
       "        try {\n",
       "            var callback = fig[\"handle_\" + msg_type];\n",
       "        } catch (e) {\n",
       "            console.log(\"No handler for the '\" + msg_type + \"' message type: \", msg);\n",
       "            return;\n",
       "        }\n",
       "\n",
       "        if (callback) {\n",
       "            try {\n",
       "                // console.log(\"Handling '\" + msg_type + \"' message: \", msg);\n",
       "                callback(fig, msg);\n",
       "            } catch (e) {\n",
       "                console.log(\"Exception inside the 'handler_\" + msg_type + \"' callback:\", e, e.stack, msg);\n",
       "            }\n",
       "        }\n",
       "    };\n",
       "}\n",
       "\n",
       "// from http://stackoverflow.com/questions/1114465/getting-mouse-location-in-canvas\n",
       "mpl.findpos = function(e) {\n",
       "    //this section is from http://www.quirksmode.org/js/events_properties.html\n",
       "    var targ;\n",
       "    if (!e)\n",
       "        e = window.event;\n",
       "    if (e.target)\n",
       "        targ = e.target;\n",
       "    else if (e.srcElement)\n",
       "        targ = e.srcElement;\n",
       "    if (targ.nodeType == 3) // defeat Safari bug\n",
       "        targ = targ.parentNode;\n",
       "\n",
       "    // jQuery normalizes the pageX and pageY\n",
       "    // pageX,Y are the mouse positions relative to the document\n",
       "    // offset() returns the position of the element relative to the document\n",
       "    var x = e.pageX - $(targ).offset().left;\n",
       "    var y = e.pageY - $(targ).offset().top;\n",
       "\n",
       "    return {\"x\": x, \"y\": y};\n",
       "};\n",
       "\n",
       "/*\n",
       " * return a copy of an object with only non-object keys\n",
       " * we need this to avoid circular references\n",
       " * http://stackoverflow.com/a/24161582/3208463\n",
       " */\n",
       "function simpleKeys (original) {\n",
       "  return Object.keys(original).reduce(function (obj, key) {\n",
       "    if (typeof original[key] !== 'object')\n",
       "        obj[key] = original[key]\n",
       "    return obj;\n",
       "  }, {});\n",
       "}\n",
       "\n",
       "mpl.figure.prototype.mouse_event = function(event, name) {\n",
       "    var canvas_pos = mpl.findpos(event)\n",
       "\n",
       "    if (name === 'button_press')\n",
       "    {\n",
       "        this.canvas.focus();\n",
       "        this.canvas_div.focus();\n",
       "    }\n",
       "\n",
       "    var x = canvas_pos.x * mpl.ratio;\n",
       "    var y = canvas_pos.y * mpl.ratio;\n",
       "\n",
       "    this.send_message(name, {x: x, y: y, button: event.button,\n",
       "                             step: event.step,\n",
       "                             guiEvent: simpleKeys(event)});\n",
       "\n",
       "    /* This prevents the web browser from automatically changing to\n",
       "     * the text insertion cursor when the button is pressed.  We want\n",
       "     * to control all of the cursor setting manually through the\n",
       "     * 'cursor' event from matplotlib */\n",
       "    event.preventDefault();\n",
       "    return false;\n",
       "}\n",
       "\n",
       "mpl.figure.prototype._key_event_extra = function(event, name) {\n",
       "    // Handle any extra behaviour associated with a key event\n",
       "}\n",
       "\n",
       "mpl.figure.prototype.key_event = function(event, name) {\n",
       "\n",
       "    // Prevent repeat events\n",
       "    if (name == 'key_press')\n",
       "    {\n",
       "        if (event.which === this._key)\n",
       "            return;\n",
       "        else\n",
       "            this._key = event.which;\n",
       "    }\n",
       "    if (name == 'key_release')\n",
       "        this._key = null;\n",
       "\n",
       "    var value = '';\n",
       "    if (event.ctrlKey && event.which != 17)\n",
       "        value += \"ctrl+\";\n",
       "    if (event.altKey && event.which != 18)\n",
       "        value += \"alt+\";\n",
       "    if (event.shiftKey && event.which != 16)\n",
       "        value += \"shift+\";\n",
       "\n",
       "    value += 'k';\n",
       "    value += event.which.toString();\n",
       "\n",
       "    this._key_event_extra(event, name);\n",
       "\n",
       "    this.send_message(name, {key: value,\n",
       "                             guiEvent: simpleKeys(event)});\n",
       "    return false;\n",
       "}\n",
       "\n",
       "mpl.figure.prototype.toolbar_button_onclick = function(name) {\n",
       "    if (name == 'download') {\n",
       "        this.handle_save(this, null);\n",
       "    } else {\n",
       "        this.send_message(\"toolbar_button\", {name: name});\n",
       "    }\n",
       "};\n",
       "\n",
       "mpl.figure.prototype.toolbar_button_onmouseover = function(tooltip) {\n",
       "    this.message.textContent = tooltip;\n",
       "};\n",
       "mpl.toolbar_items = [[\"Home\", \"Reset original view\", \"fa fa-home icon-home\", \"home\"], [\"Back\", \"Back to  previous view\", \"fa fa-arrow-left icon-arrow-left\", \"back\"], [\"Forward\", \"Forward to next view\", \"fa fa-arrow-right icon-arrow-right\", \"forward\"], [\"\", \"\", \"\", \"\"], [\"Pan\", \"Pan axes with left mouse, zoom with right\", \"fa fa-arrows icon-move\", \"pan\"], [\"Zoom\", \"Zoom to rectangle\", \"fa fa-square-o icon-check-empty\", \"zoom\"], [\"\", \"\", \"\", \"\"], [\"Download\", \"Download plot\", \"fa fa-floppy-o icon-save\", \"download\"]];\n",
       "\n",
       "mpl.extensions = [\"eps\", \"jpeg\", \"pdf\", \"png\", \"ps\", \"raw\", \"svg\", \"tif\"];\n",
       "\n",
       "mpl.default_extension = \"png\";var comm_websocket_adapter = function(comm) {\n",
       "    // Create a \"websocket\"-like object which calls the given IPython comm\n",
       "    // object with the appropriate methods. Currently this is a non binary\n",
       "    // socket, so there is still some room for performance tuning.\n",
       "    var ws = {};\n",
       "\n",
       "    ws.close = function() {\n",
       "        comm.close()\n",
       "    };\n",
       "    ws.send = function(m) {\n",
       "        //console.log('sending', m);\n",
       "        comm.send(m);\n",
       "    };\n",
       "    // Register the callback with on_msg.\n",
       "    comm.on_msg(function(msg) {\n",
       "        //console.log('receiving', msg['content']['data'], msg);\n",
       "        // Pass the mpl event to the overriden (by mpl) onmessage function.\n",
       "        ws.onmessage(msg['content']['data'])\n",
       "    });\n",
       "    return ws;\n",
       "}\n",
       "\n",
       "mpl.mpl_figure_comm = function(comm, msg) {\n",
       "    // This is the function which gets called when the mpl process\n",
       "    // starts-up an IPython Comm through the \"matplotlib\" channel.\n",
       "\n",
       "    var id = msg.content.data.id;\n",
       "    // Get hold of the div created by the display call when the Comm\n",
       "    // socket was opened in Python.\n",
       "    var element = $(\"#\" + id);\n",
       "    var ws_proxy = comm_websocket_adapter(comm)\n",
       "\n",
       "    function ondownload(figure, format) {\n",
       "        window.open(figure.imageObj.src);\n",
       "    }\n",
       "\n",
       "    var fig = new mpl.figure(id, ws_proxy,\n",
       "                           ondownload,\n",
       "                           element.get(0));\n",
       "\n",
       "    // Call onopen now - mpl needs it, as it is assuming we've passed it a real\n",
       "    // web socket which is closed, not our websocket->open comm proxy.\n",
       "    ws_proxy.onopen();\n",
       "\n",
       "    fig.parent_element = element.get(0);\n",
       "    fig.cell_info = mpl.find_output_cell(\"<div id='\" + id + \"'></div>\");\n",
       "    if (!fig.cell_info) {\n",
       "        console.error(\"Failed to find cell for figure\", id, fig);\n",
       "        return;\n",
       "    }\n",
       "\n",
       "    var output_index = fig.cell_info[2]\n",
       "    var cell = fig.cell_info[0];\n",
       "\n",
       "};\n",
       "\n",
       "mpl.figure.prototype.handle_close = function(fig, msg) {\n",
       "    var width = fig.canvas.width/mpl.ratio\n",
       "    fig.root.unbind('remove')\n",
       "\n",
       "    // Update the output cell to use the data from the current canvas.\n",
       "    fig.push_to_output();\n",
       "    var dataURL = fig.canvas.toDataURL();\n",
       "    // Re-enable the keyboard manager in IPython - without this line, in FF,\n",
       "    // the notebook keyboard shortcuts fail.\n",
       "    IPython.keyboard_manager.enable()\n",
       "    $(fig.parent_element).html('<img src=\"' + dataURL + '\" width=\"' + width + '\">');\n",
       "    fig.close_ws(fig, msg);\n",
       "}\n",
       "\n",
       "mpl.figure.prototype.close_ws = function(fig, msg){\n",
       "    fig.send_message('closing', msg);\n",
       "    // fig.ws.close()\n",
       "}\n",
       "\n",
       "mpl.figure.prototype.push_to_output = function(remove_interactive) {\n",
       "    // Turn the data on the canvas into data in the output cell.\n",
       "    var width = this.canvas.width/mpl.ratio\n",
       "    var dataURL = this.canvas.toDataURL();\n",
       "    this.cell_info[1]['text/html'] = '<img src=\"' + dataURL + '\" width=\"' + width + '\">';\n",
       "}\n",
       "\n",
       "mpl.figure.prototype.updated_canvas_event = function() {\n",
       "    // Tell IPython that the notebook contents must change.\n",
       "    IPython.notebook.set_dirty(true);\n",
       "    this.send_message(\"ack\", {});\n",
       "    var fig = this;\n",
       "    // Wait a second, then push the new image to the DOM so\n",
       "    // that it is saved nicely (might be nice to debounce this).\n",
       "    setTimeout(function () { fig.push_to_output() }, 1000);\n",
       "}\n",
       "\n",
       "mpl.figure.prototype._init_toolbar = function() {\n",
       "    var fig = this;\n",
       "\n",
       "    var nav_element = $('<div/>')\n",
       "    nav_element.attr('style', 'width: 100%');\n",
       "    this.root.append(nav_element);\n",
       "\n",
       "    // Define a callback function for later on.\n",
       "    function toolbar_event(event) {\n",
       "        return fig.toolbar_button_onclick(event['data']);\n",
       "    }\n",
       "    function toolbar_mouse_event(event) {\n",
       "        return fig.toolbar_button_onmouseover(event['data']);\n",
       "    }\n",
       "\n",
       "    for(var toolbar_ind in mpl.toolbar_items){\n",
       "        var name = mpl.toolbar_items[toolbar_ind][0];\n",
       "        var tooltip = mpl.toolbar_items[toolbar_ind][1];\n",
       "        var image = mpl.toolbar_items[toolbar_ind][2];\n",
       "        var method_name = mpl.toolbar_items[toolbar_ind][3];\n",
       "\n",
       "        if (!name) { continue; };\n",
       "\n",
       "        var button = $('<button class=\"btn btn-default\" href=\"#\" title=\"' + name + '\"><i class=\"fa ' + image + ' fa-lg\"></i></button>');\n",
       "        button.click(method_name, toolbar_event);\n",
       "        button.mouseover(tooltip, toolbar_mouse_event);\n",
       "        nav_element.append(button);\n",
       "    }\n",
       "\n",
       "    // Add the status bar.\n",
       "    var status_bar = $('<span class=\"mpl-message\" style=\"text-align:right; float: right;\"/>');\n",
       "    nav_element.append(status_bar);\n",
       "    this.message = status_bar[0];\n",
       "\n",
       "    // Add the close button to the window.\n",
       "    var buttongrp = $('<div class=\"btn-group inline pull-right\"></div>');\n",
       "    var button = $('<button class=\"btn btn-mini btn-primary\" href=\"#\" title=\"Stop Interaction\"><i class=\"fa fa-power-off icon-remove icon-large\"></i></button>');\n",
       "    button.click(function (evt) { fig.handle_close(fig, {}); } );\n",
       "    button.mouseover('Stop Interaction', toolbar_mouse_event);\n",
       "    buttongrp.append(button);\n",
       "    var titlebar = this.root.find($('.ui-dialog-titlebar'));\n",
       "    titlebar.prepend(buttongrp);\n",
       "}\n",
       "\n",
       "mpl.figure.prototype._root_extra_style = function(el){\n",
       "    var fig = this\n",
       "    el.on(\"remove\", function(){\n",
       "\tfig.close_ws(fig, {});\n",
       "    });\n",
       "}\n",
       "\n",
       "mpl.figure.prototype._canvas_extra_style = function(el){\n",
       "    // this is important to make the div 'focusable\n",
       "    el.attr('tabindex', 0)\n",
       "    // reach out to IPython and tell the keyboard manager to turn it's self\n",
       "    // off when our div gets focus\n",
       "\n",
       "    // location in version 3\n",
       "    if (IPython.notebook.keyboard_manager) {\n",
       "        IPython.notebook.keyboard_manager.register_events(el);\n",
       "    }\n",
       "    else {\n",
       "        // location in version 2\n",
       "        IPython.keyboard_manager.register_events(el);\n",
       "    }\n",
       "\n",
       "}\n",
       "\n",
       "mpl.figure.prototype._key_event_extra = function(event, name) {\n",
       "    var manager = IPython.notebook.keyboard_manager;\n",
       "    if (!manager)\n",
       "        manager = IPython.keyboard_manager;\n",
       "\n",
       "    // Check for shift+enter\n",
       "    if (event.shiftKey && event.which == 13) {\n",
       "        this.canvas_div.blur();\n",
       "        event.shiftKey = false;\n",
       "        // Send a \"J\" for go to next cell\n",
       "        event.which = 74;\n",
       "        event.keyCode = 74;\n",
       "        manager.command_mode();\n",
       "        manager.handle_keydown(event);\n",
       "    }\n",
       "}\n",
       "\n",
       "mpl.figure.prototype.handle_save = function(fig, msg) {\n",
       "    fig.ondownload(fig, null);\n",
       "}\n",
       "\n",
       "\n",
       "mpl.find_output_cell = function(html_output) {\n",
       "    // Return the cell and output element which can be found *uniquely* in the notebook.\n",
       "    // Note - this is a bit hacky, but it is done because the \"notebook_saving.Notebook\"\n",
       "    // IPython event is triggered only after the cells have been serialised, which for\n",
       "    // our purposes (turning an active figure into a static one), is too late.\n",
       "    var cells = IPython.notebook.get_cells();\n",
       "    var ncells = cells.length;\n",
       "    for (var i=0; i<ncells; i++) {\n",
       "        var cell = cells[i];\n",
       "        if (cell.cell_type === 'code'){\n",
       "            for (var j=0; j<cell.output_area.outputs.length; j++) {\n",
       "                var data = cell.output_area.outputs[j];\n",
       "                if (data.data) {\n",
       "                    // IPython >= 3 moved mimebundle to data attribute of output\n",
       "                    data = data.data;\n",
       "                }\n",
       "                if (data['text/html'] == html_output) {\n",
       "                    return [cell, data, j];\n",
       "                }\n",
       "            }\n",
       "        }\n",
       "    }\n",
       "}\n",
       "\n",
       "// Register the function which deals with the matplotlib target/channel.\n",
       "// The kernel may be null if the page has been refreshed.\n",
       "if (IPython.notebook.kernel != null) {\n",
       "    IPython.notebook.kernel.comm_manager.register_target('matplotlib', mpl.mpl_figure_comm);\n",
       "}\n"
      ],
      "text/plain": [
       "<IPython.core.display.Javascript object>"
      ]
     },
     "metadata": {},
     "output_type": "display_data"
    },
    {
     "data": {
      "text/html": [
       "<img src=\"data:image/png;base64,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\" width=\"525\">"
      ],
      "text/plain": [
       "<IPython.core.display.HTML object>"
      ]
     },
     "metadata": {},
     "output_type": "display_data"
    }
   ],
   "source": [
    "isi = find(ion_species.value,projectile_sym_str)\n",
    "iei = find(ion_energy.value,erg_options(isi))\n",
    "ftmi = find(target_material.value,target_mats_short)\n",
    "ftti = find(target_thickness.value,thicknesses)\n",
    "detti = find(detector_type.value,detectors_short)\n",
    "spi = find(secondary_particle.value,particles_med)\n",
    "\n",
    "det_angle_i_list = []\n",
    "for i in range(len(available_det_angles)):\n",
    "    if dets[i].value:\n",
    "        if detti == 0:\n",
    "            det_angle_i_list.append(find(available_det_angles[i],detectors_angles[detti]))\n",
    "        else:\n",
    "            det_angle_i_list.append(find(available_det_angles[i],detectors_angles[detti])+6) # for NaI\n",
    "            \n",
    "data_set_i_list = []\n",
    "for i in range(3):\n",
    "    if data_sets[i].value:\n",
    "        data_set_i_list.append(i)\n",
    "        \n",
    "spacing_condition = find(spacing_choice.value,spacing_short)\n",
    "if spacing_condition == 0:\n",
    "    mult_factor_base = 1\n",
    "else:\n",
    "    mult_factor_base = 100\n",
    "\n",
    "fst = 16\n",
    "fs = 14\n",
    "beam_energy_text = erg_options(isi)[iei]\n",
    "beam_species_text = projectile_sym_str[isi]\n",
    "\n",
    "fig = plt.figure()\n",
    "ax = plt.subplot(111)\n",
    "# Axis labels\n",
    "title_text = detectors_short[detti] + \" \" + particles_long[spi] + \" Energy Spectra for\" + \"\\n\" \n",
    "title_text += beam_energy_text +\" \"+ beam_species_text + \" on \"+ thicknesses[ftti] +\" \"+ target_mats_short[ftmi] \n",
    "plt.title(title_text,fontsize=fst)\n",
    "if spi <= 2:\n",
    "    plt.xlabel(\"Energy [MeV]\",fontsize=fs)\n",
    "else:\n",
    "    plt.xlabel(\"Energy [MeV/n]\",fontsize=fs)\n",
    "\n",
    "if spi == 1: # deconvoluted neutrons\n",
    "    #leg_strings = [r'Experimental (deconvoluted)',r'MCNP (simulated)', r'PHITS (simulated)']\n",
    "    leg_strings = [r'Experimental (deconvoluted)',r'MCNP', r'PHITS']\n",
    "    plt.ylabel(r\"Yield [#$\\cdot$/(MeV$\\cdot$s.p.)]\",fontsize=fs)\n",
    "else:\n",
    "    #leg_strings = [r'Experimental (time-of-flight)',r'MCNP (simulated)', r'PHITS (simulated)']\n",
    "    leg_strings = [r'Experimental (time-of-flight)',r'MCNP', r'PHITS']\n",
    "    if spi <= 2:\n",
    "        plt.ylabel(r\"Yield [#/(MeV$\\cdot$sr$\\cdot$s.p.)]\",fontsize=fs)\n",
    "    else:\n",
    "        plt.ylabel(r\"Yield [#/(MeV/n$\\cdot$sr$\\cdot$s.p.)]\",fontsize=fs)\n",
    "\n",
    "# Generate portion of legend specifying data sets\n",
    "if spi == 1:\n",
    "    exp_leg, = plt.errorbar(np.NaN, np.NaN,yerr=0, color='dimgrey', marker=\"o\",markersize=3,linestyle=\"-\",alpha=1.0), #, label=r'Deconvolued')\n",
    "else:\n",
    "    exp_leg,  = plt.errorbar(np.NaN, np.NaN,xerr=0,yerr=0,marker=\".\",c='dimgrey',markersize=2,linestyle=\"\",elinewidth=0.5,markeredgewidth=0.5,capsize=0), # , label=r'Experimental (ToF)') \n",
    "\n",
    "MCNP_leg, = plt.errorbar(np.NaN, np.NaN,yerr=0, color='dimgrey', marker=\",\",markersize=3,linestyle=\"--\"), #, label=r'Simulated (MCNP)')\n",
    "PHITS_leg, = plt.errorbar(np.NaN, np.NaN,yerr=0, color='dimgrey', marker=\",\",markersize=3,linestyle=\":\"), #, label=r'Simulated (PHITS)')\n",
    "\n",
    "n_data_sets = len(data_set_i_list)\n",
    "abs_min_yield = 10**(-10)\n",
    "\n",
    "legs_for_ds = [exp_leg, MCNP_leg, PHITS_leg]\n",
    "used_ds_legs = []\n",
    "used_ds_leg_strs = []\n",
    "leg_handles1 = []\n",
    "leg_labels1 = []\n",
    "\n",
    "y_min = 0.0001 # later used to set y-axis minimum\n",
    "y_max = 0.001 # later used to set y-axis maximum\n",
    "\n",
    "for dsi in data_set_i_list:\n",
    "    # make sure dataset is populated first\n",
    "    if np.sum(mm_values[dsi,iei,ftmi,ftti,spi,:,3,:]) == 0: \n",
    "        n_data_sets += -1\n",
    "        continue\n",
    "    used_ds_legs.append(legs_for_ds[dsi])\n",
    "    used_ds_leg_strs.append(leg_strings[dsi])\n",
    "    k=0\n",
    "    for di in det_angle_i_list:\n",
    "        ndet = str(di+1)\n",
    "        scale_power = 2*((len(det_angle_i_list)-1)-k)\n",
    "        mult_factor = mult_factor_base**scale_power\n",
    "        if spacing_condition == 0:\n",
    "            lab_text = detectors_angles[detti][di%6]\n",
    "        else:\n",
    "            lab_text = detectors_angles[detti][di%6] + r\" $\\times10^{{{0}}}$\".format(str(int(scale_power)))\n",
    "        k += 1\n",
    "        \n",
    "        # Make artificial legend for 6 detectors\n",
    "        ebp = ax.plot(np.NaN, np.NaN,c=detector_colors(di%6),marker=\"s\",markersize=8,linestyle=\"\") #,label=lab_text) #,label='Simulated (MCNP)')\n",
    "        leg_handles1.append(ebp[0])\n",
    "        leg_labels1.append(lab_text)\n",
    "        \n",
    "        # Enforce minimum yield value\n",
    "        trash_y_vals = mm_values[dsi,iei,ftmi,ftti,spi,di,3,:] < abs_min_yield\n",
    "        mm_values[dsi,iei,ftmi,ftti,spi,di,3,:][trash_y_vals] = 0\n",
    "        \n",
    "        nzi = np.nonzero(mm_values[dsi,iei,ftmi,ftti,spi,di,3,:])\n",
    "        xdata = mm_values[dsi,iei,ftmi,ftti,spi,di,1,:][nzi]\n",
    "        xbinw = [mm_values[dsi,iei,ftmi,ftti,spi,di,1,:][nzi]-mm_values[dsi,iei,ftmi,ftti,spi,di,0,:][nzi] , mm_values[dsi,iei,ftmi,ftti,spi,di,2,:][nzi]-mm_values[dsi,iei,ftmi,ftti,spi,di,1,:][nzi]]\n",
    "        ydata = mm_values[dsi,iei,ftmi,ftti,spi,di,3,:][nzi]\n",
    "        yerr_stat = mm_values[dsi,iei,ftmi,ftti,spi,di,4,:][nzi]\n",
    "        yerr_sys = mm_values[dsi,iei,ftmi,ftti,spi,di,5,:][nzi]\n",
    "        xerr = mm_values[dsi,iei,ftmi,ftti,spi,di,6,:][nzi]\n",
    "        \n",
    "        \n",
    "        \n",
    "        ydata = ydata*mult_factor\n",
    "        yerr_stat = yerr_stat*mult_factor\n",
    "        yerr_sys = yerr_sys*mult_factor\n",
    "        \n",
    "        if len(ydata) != 0:\n",
    "            if min(ydata)<y_min: y_min = min(ydata)\n",
    "            if max(ydata)>y_max: y_max = max(ydata)\n",
    "        \n",
    "        # Generate plots\n",
    "        if dsi == 0: # experimental results\n",
    "            if spi == 1: # deconvoluted neutrons\n",
    "                alpha_val=1.0\n",
    "                marker_val = \"o\"\n",
    "                p = plt.errorbar(xdata,ydata,yerr=yerr_stat,c=detector_colors(di%6),marker=marker_val,markersize=3,linestyle=\"-\",alpha=alpha_val,label=lab_text) #,label='Simulated (MCNP)')\n",
    "            else:\n",
    "                # x error bar (bin width)\n",
    "                xerrbar = xbinw\n",
    "                # x error box (energy resolution\n",
    "                xerrbox = xerr\n",
    "                xerrbox = np.array([xerrbox, xerrbox])\n",
    "                # y error bar (systematic uncertainty)\n",
    "                yerrbar = [yerr_sys, yerr_sys]\n",
    "                yerrbar[0][(ydata-yerrbar[0])<=0]=0 # get rid of negative error bars\n",
    "                yerrbar[1][(ydata)<=0]=0 # get rid of errorbars on negative points\n",
    "                # y error box (statistical uncertainty)\n",
    "                yerrbox = np.array([yerr_stat, yerr_stat])\n",
    "                \n",
    "                p = plt.errorbar(xdata,ydata,xerr=xerrbar,yerr=yerrbar,marker=\".\",c=detector_colors(di%6),markersize=2,linestyle=\"\",elinewidth=0.5,markeredgewidth=0.5,capsize=0,label=lab_text)\n",
    "                nx_color = detector_colors(di%6) #p[0].get_color()\n",
    "                makeErrorBoxes(xdata,ydata,xerrbox,yerrbox,fc='None',ec=nx_color,alpha=1.0,lw=0.5)\n",
    "                makeErrorBoxes(xdata,ydata,xerrbox,yerrbox,fc=nx_color,ec='None',alpha=0.1,lw=0.5)\n",
    "                \n",
    "        elif dsi == 1: # MCNP results\n",
    "            ebp = plt.errorbar(xdata,ydata,yerr=yerr_stat,c=detector_colors(di%6),marker=\",\",markersize=3,linestyle=\"--\") #,label=lab_text) #,label='Simulated (MCNP)')\n",
    "        \n",
    "        elif dsi == 2: # PHITS results\n",
    "            ebp = plt.errorbar(xdata,ydata,yerr=yerr_stat,c=detector_colors(di%6),marker=\",\",markersize=3,linestyle=\":\") #,label=lab_text) #,label='Simulated (PHITS)')\n",
    "        \n",
    "\n",
    "if spacing_condition == 1:\n",
    "    box_h_offset = 0.14 - 0.005*len(det_angle_i_list) # vertical offset left at the bottom for legend stuff\n",
    "    leg_minus_y = -0.01*(6-len(det_angle_i_list))\n",
    "    leg2_anchor = (0.45, -0.065+leg_minus_y) # data sets\n",
    "    leg1_anchor = (0.47, -0.115+leg_minus_y) # detectors \n",
    "else:\n",
    "    box_h_offset = 0.11 + 0.02*np.floor((len(det_angle_i_list)-1)/3) # vertical offset left at the bottom for legend stuff\n",
    "    leg2_anchor = (0.45, -0.115) # data sets\n",
    "    leg1_anchor = (0.47, -0.175) # detectors \n",
    "\n",
    "box_h_multiplier = 1-box_h_offset #0.92 # percentage of total height occupied by actual plot\n",
    "\n",
    "#handles, labels = ax.get_legend_handles_labels()\n",
    "#if len(data_set_i_list)==3: # Three rows in named legend\n",
    "#    box_h_multiplier = 0.92 # percentage of total height occupied by actual plot\n",
    "#    box_h_offset = 0.12 # vertical offset left at the bottom for legend stuff\n",
    "#    leg2_anchor = (0.5, -0.065)\n",
    "#    leg1_anchor = (0.47, -0.155)\n",
    "#elif len(data_set_i_list)==2: # Two rows of legend\n",
    "#    box_h_multiplier = 0.92 # percentage of total height occupied by actual plot\n",
    "#    box_h_offset = 0.12 # vertical offset left at the bottom for legend stuff\n",
    "#    leg2_anchor = (0.5, -0.065)\n",
    "#    leg1_anchor = (0.47, -0.155)\n",
    "#else: # One row of legend\n",
    "#    box_h_multiplier = 0.92 # percentage of total height occupied by actual plot\n",
    "#    box_h_offset = 0.12 # vertical offset left at the bottom for legend stuff\n",
    "#    leg2_anchor = (0.5, -0.065)\n",
    "#    leg1_anchor = (0.47, -0.155)\n",
    "\n",
    "# Set size and location of the plot on the canvas\n",
    "box = ax.get_position()\n",
    "ax.set_position([box.x0 + box.width * 0.025, box.y0 + box.height * box_h_offset,box.width * 0.95, box.height * box_h_multiplier])\n",
    "\n",
    "# Put a legend below current axis\n",
    "legend2 = ax.legend(used_ds_legs,used_ds_leg_strs,loc='upper center', bbox_to_anchor=leg2_anchor, ncol=n_data_sets)\n",
    "\n",
    "# Put a legend below current axis\n",
    "ax.legend(leg_handles1[:(len(det_angle_i_list))],leg_labels1[:(len(det_angle_i_list))],loc='upper center', bbox_to_anchor=leg1_anchor, ncol=3,handletextpad=0.1)\n",
    "ax.add_artist(legend2)\n",
    "\n",
    "window_title = mm_metadata[dsi,isi,iei,ftmi,ftti,spi,0,1] + \"_fig\"\n",
    "fig.canvas.set_window_title(window_title)\n",
    "if spacing_condition == 1: \n",
    "    height_val = 5.25 + len(det_angle_i_list)\n",
    "    fig.set_size_inches(5.25,height_val)\n",
    "else:\n",
    "    fig.set_size_inches(5.25,6.25)\n",
    "        \n",
    "plt.xscale('log')\n",
    "plt.yscale('log')\n",
    "plt.grid(b=True, which='major', linestyle='-', alpha=0.25)\n",
    "plt.grid(b=True, which='minor', linestyle='-', alpha=0.10)\n",
    "plt.xlim([5,2000])\n",
    "plt.ylim([10**np.floor(np.log10(y_min)),10**np.ceil(np.log10(y_max))])        \n",
    "\n",
    "plt.show()        \n",
    "        \n",
    "    \n",
    "    \n"
   ]
  },
  {
   "cell_type": "code",
   "execution_count": null,
   "metadata": {},
   "outputs": [],
   "source": []
  }
 ],
 "metadata": {
  "kernelspec": {
   "display_name": "Python 3",
   "language": "python",
   "name": "python3"
  },
  "language_info": {
   "codemirror_mode": {
    "name": "ipython",
    "version": 3
   },
   "file_extension": ".py",
   "mimetype": "text/x-python",
   "name": "python",
   "nbconvert_exporter": "python",
   "pygments_lexer": "ipython3",
   "version": "3.6.4"
  },
  "widgets": {
   "application/vnd.jupyter.widget-state+json": {
    "state": {
     "0017f825ac48419da4b51260e1acf358": {
      "model_module": "@jupyter-widgets/base",
      "model_module_version": "1.0.0",
      "model_name": "LayoutModel",
      "state": {}
     },
     "0070d4f6780e40d6b962f1dfc9e13934": {
      "model_module": "@jupyter-widgets/base",
      "model_module_version": "1.0.0",
      "model_name": "LayoutModel",
      "state": {}
     },
     "008a7696a1c74d4cb8ae1ca7c84e83e4": {
      "model_module": "@jupyter-widgets/controls",
      "model_module_version": "1.1.0",
      "model_name": "DescriptionStyleModel",
      "state": {
       "description_width": ""
      }
     },
     "008d4deaa4f24f778435821053645eab": {
      "model_module": "@jupyter-widgets/controls",
      "model_module_version": "1.1.0",
      "model_name": "DescriptionStyleModel",
      "state": {
       "description_width": ""
      }
     },
     "0097f451415149d5a8a5b91cd0fcde5b": {
      "model_module": "@jupyter-widgets/controls",
      "model_module_version": "1.1.0",
      "model_name": "DescriptionStyleModel",
      "state": {
       "description_width": ""
      }
     },
     "00ad944b06944d3ab809f24d2c5ca45d": {
      "model_module": "@jupyter-widgets/base",
      "model_module_version": "1.0.0",
      "model_name": "LayoutModel",
      "state": {}
     },
     "00d74a39d4c04a5fa369e9a5a81e7161": {
      "model_module": "@jupyter-widgets/controls",
      "model_module_version": "1.1.0",
      "model_name": "CheckboxModel",
      "state": {
       "description": "60°",
       "disabled": false,
       "layout": "IPY_MODEL_ff286a067c23439a868c7e18520be3c3",
       "style": "IPY_MODEL_b04672d85a424837b02b239fd6d93306",
       "value": false
      }
     },
     "00f95cd13fc5493dbd84db161aa668d2": {
      "model_module": "@jupyter-widgets/controls",
      "model_module_version": "1.1.0",
      "model_name": "ToggleButtonsStyleModel",
      "state": {
       "button_width": "",
       "description_width": ""
      }
     },
     "010886a935064dafbac5afac795dc090": {
      "model_module": "@jupyter-widgets/controls",
      "model_module_version": "1.1.0",
      "model_name": "ToggleButtonsModel",
      "state": {
       "_options_labels": [
        "20 g/cm²",
        "40 g/cm²",
        "60 g/cm²"
       ],
       "button_style": "",
       "description": "Thickness:",
       "icons": [],
       "index": 0,
       "layout": "IPY_MODEL_baf6d63299f54108a883c23ac2fe5f20",
       "style": "IPY_MODEL_cc8d38e0424c4fb483595feafc62784c",
       "tooltips": [
        "20 g/cm² Aluminum",
        "40 g/cm² Aluminum",
        "60 g/cm² Aluminum"
       ]
      }
     },
     "012702128d55420bb4f3a67906054542": {
      "model_module": "@jupyter-widgets/controls",
      "model_module_version": "1.1.0",
      "model_name": "ToggleButtonsStyleModel",
      "state": {
       "button_width": "",
       "description_width": ""
      }
     },
     "0134c3792d954a6fb8646afb9cd0529f": {
      "model_module": "@jupyter-widgets/controls",
      "model_module_version": "1.1.0",
      "model_name": "DescriptionStyleModel",
      "state": {
       "description_width": ""
      }
     },
     "01cfdf7a65f047b8a4c617630919767c": {
      "model_module": "@jupyter-widgets/controls",
      "model_module_version": "1.1.0",
      "model_name": "DescriptionStyleModel",
      "state": {
       "description_width": ""
      }
     },
     "01ffdb0f8e284eb5bc5ea005cd6710e7": {
      "model_module": "@jupyter-widgets/base",
      "model_module_version": "1.0.0",
      "model_name": "LayoutModel",
      "state": {}
     },
     "0216a4952183460e87f1704add98eb41": {
      "model_module": "@jupyter-widgets/controls",
      "model_module_version": "1.1.0",
      "model_name": "LabelModel",
      "state": {
       "layout": "IPY_MODEL_c4c4135d776f4acd9de51c55ac838f6e",
       "style": "IPY_MODEL_30f4d12206a246b7a77d5dc6a690b65f",
       "value": "Select which sets of data to display."
      }
     },
     "023d98986734416e92f986009753c584": {
      "model_module": "@jupyter-widgets/controls",
      "model_module_version": "1.1.0",
      "model_name": "DescriptionStyleModel",
      "state": {
       "description_width": ""
      }
     },
     "027fe3d5ff7043d781512933effbf2f7": {
      "model_module": "@jupyter-widgets/base",
      "model_module_version": "1.0.0",
      "model_name": "LayoutModel",
      "state": {}
     },
     "02aa7d90330a4b3696037f1f27886f8c": {
      "model_module": "@jupyter-widgets/controls",
      "model_module_version": "1.1.0",
      "model_name": "LabelModel",
      "state": {
       "layout": "IPY_MODEL_3cf480469a1c4902b53f1b2f7ff72c9d",
       "style": "IPY_MODEL_4e692a9a30684f1e9cf9f9eab12388e7",
       "value": "Select projectile ion energy."
      }
     },
     "02f0fec9ce024a018ce95422f807e9d9": {
      "model_module": "@jupyter-widgets/base",
      "model_module_version": "1.0.0",
      "model_name": "LayoutModel",
      "state": {}
     },
     "0325f1eb5b4447b2b246594279c8fe3a": {
      "model_module": "@jupyter-widgets/controls",
      "model_module_version": "1.1.0",
      "model_name": "CheckboxModel",
      "state": {
       "description": "80°",
       "disabled": false,
       "layout": "IPY_MODEL_a170331431ec446bb37fa1103c649671",
       "style": "IPY_MODEL_7b49faf0031b4bbd8bcfec5944e74490",
       "value": true
      }
     },
     "03712579db5b417eb16f345eff7e67a8": {
      "model_module": "@jupyter-widgets/controls",
      "model_module_version": "1.1.0",
      "model_name": "DescriptionStyleModel",
      "state": {
       "description_width": ""
      }
     },
     "038cd47bafb04d39a36cd5ab084c585d": {
      "model_module": "@jupyter-widgets/controls",
      "model_module_version": "1.1.0",
      "model_name": "DescriptionStyleModel",
      "state": {
       "description_width": ""
      }
     },
     "039f033d47cf409a828dd3e58c09ff31": {
      "model_module": "@jupyter-widgets/base",
      "model_module_version": "1.0.0",
      "model_name": "LayoutModel",
      "state": {}
     },
     "03a393a5b856453da2dc9e69bb9c625b": {
      "model_module": "@jupyter-widgets/controls",
      "model_module_version": "1.1.0",
      "model_name": "DescriptionStyleModel",
      "state": {
       "description_width": ""
      }
     },
     "03b19c06f12e4aadad7aec80c5d6b1ed": {
      "model_module": "@jupyter-widgets/base",
      "model_module_version": "1.0.0",
      "model_name": "LayoutModel",
      "state": {}
     },
     "03bce7f3e45942f3879e3634436c2d48": {
      "model_module": "@jupyter-widgets/controls",
      "model_module_version": "1.1.0",
      "model_name": "CheckboxModel",
      "state": {
       "description": "80°",
       "disabled": false,
       "layout": "IPY_MODEL_933c72475e084d81ac77d6da3209cd71",
       "style": "IPY_MODEL_19e0b081d42e4dccaf1e0c50fc67ddd5",
       "value": false
      }
     },
     "03fbf2b260454a4aba02e0841a431c22": {
      "model_module": "@jupyter-widgets/base",
      "model_module_version": "1.0.0",
      "model_name": "LayoutModel",
      "state": {}
     },
     "0405d139d80c4d2fb48d2bc080b29133": {
      "model_module": "@jupyter-widgets/base",
      "model_module_version": "1.0.0",
      "model_name": "LayoutModel",
      "state": {}
     },
     "0454756e6ff34fae97b8cbffb2800fb8": {
      "model_module": "@jupyter-widgets/controls",
      "model_module_version": "1.1.0",
      "model_name": "ToggleButtonsModel",
      "state": {
       "_options_labels": [
        "H",
        "He",
        "C",
        "Si",
        "Fe"
       ],
       "button_style": "",
       "description": "Ion:",
       "icons": [],
       "index": 0,
       "layout": "IPY_MODEL_6656e479c3aa402088a708dc7886b481",
       "style": "IPY_MODEL_ec4904e2908944e1b622c2574f0e912a",
       "tooltips": [
        "Hydrogen",
        "Helium",
        "Carbon",
        "Silicon",
        "Iron"
       ]
      }
     },
     "047a017af03e49b6b3d64477ccdbb467": {
      "model_module": "@jupyter-widgets/base",
      "model_module_version": "1.0.0",
      "model_name": "LayoutModel",
      "state": {}
     },
     "04856c4da0f8470b965e9c90face4351": {
      "model_module": "@jupyter-widgets/controls",
      "model_module_version": "1.1.0",
      "model_name": "ToggleButtonsModel",
      "state": {
       "_options_labels": [
        "P (¹H)",
        "D (²H)"
       ],
       "button_style": "",
       "description": "Type:",
       "icons": [],
       "index": 0,
       "layout": "IPY_MODEL_c5d36e086e9d4cc3b7d1557ef0f7fa5e",
       "style": "IPY_MODEL_967b141189f74ccab36ab8014846abc2",
       "tooltips": [
        "Proton",
        "Deuteron"
       ]
      }
     },
     "048b5560dcc54ec0965d27a0b4adde42": {
      "model_module": "@jupyter-widgets/controls",
      "model_module_version": "1.1.0",
      "model_name": "CheckboxModel",
      "state": {
       "description": "Experiment",
       "disabled": false,
       "layout": "IPY_MODEL_3cb589dd6b2345fa9a81a2223dc97ce9",
       "style": "IPY_MODEL_75d2183c47ac4eb8a8ab256a36a9db1d",
       "value": true
      }
     },
     "048c1bcecd1d40c0884a177d5a9871b8": {
      "model_module": "@jupyter-widgets/controls",
      "model_module_version": "1.1.0",
      "model_name": "CheckboxModel",
      "state": {
       "description": "10°",
       "disabled": false,
       "layout": "IPY_MODEL_922f9e22784b4ae2bb657e36623d08f7",
       "style": "IPY_MODEL_6432281fb9754f448a6ef8b536a3b412",
       "value": true
      }
     },
     "048c97d7f51846b8a8fb4df0561446da": {
      "model_module": "@jupyter-widgets/controls",
      "model_module_version": "1.1.0",
      "model_name": "ToggleButtonsStyleModel",
      "state": {
       "button_width": "",
       "description_width": ""
      }
     },
     "04d1efb4970542e8a1080845ae9e2928": {
      "model_module": "@jupyter-widgets/controls",
      "model_module_version": "1.1.0",
      "model_name": "ToggleButtonsStyleModel",
      "state": {
       "button_width": "",
       "description_width": ""
      }
     },
     "04f6f0b7ec3144c382a4cc7cc0382006": {
      "model_module": "@jupyter-widgets/controls",
      "model_module_version": "1.1.0",
      "model_name": "DescriptionStyleModel",
      "state": {
       "description_width": ""
      }
     },
     "053cbccbe0f4414bad85c180627d0aa8": {
      "model_module": "@jupyter-widgets/base",
      "model_module_version": "1.0.0",
      "model_name": "LayoutModel",
      "state": {}
     },
     "056247fa572144639545bed9724d980c": {
      "model_module": "@jupyter-widgets/base",
      "model_module_version": "1.0.0",
      "model_name": "LayoutModel",
      "state": {}
     },
     "05cb3d47b34d471a8df96e77a72f430b": {
      "model_module": "@jupyter-widgets/controls",
      "model_module_version": "1.1.0",
      "model_name": "DescriptionStyleModel",
      "state": {
       "description_width": ""
      }
     },
     "05d44f7bd9aa41a9b3174967dca3017e": {
      "model_module": "@jupyter-widgets/controls",
      "model_module_version": "1.1.0",
      "model_name": "DescriptionStyleModel",
      "state": {
       "description_width": ""
      }
     },
     "0686d3b5c5b84f9092d04cdafdc19e38": {
      "model_module": "@jupyter-widgets/controls",
      "model_module_version": "1.1.0",
      "model_name": "CheckboxModel",
      "state": {
       "description": "135°",
       "disabled": false,
       "layout": "IPY_MODEL_65dc34305d364cc9aec224dba5542416",
       "style": "IPY_MODEL_bf46a752abcc4d5fbf32245fdf95c4c6",
       "value": true
      }
     },
     "0690a3e1cbc74d7187623275273dfd04": {
      "model_module": "@jupyter-widgets/controls",
      "model_module_version": "1.1.0",
      "model_name": "CheckboxModel",
      "state": {
       "description": "28.2°",
       "disabled": false,
       "layout": "IPY_MODEL_d2d4748d7e4a474f915d0d74bdbdd997",
       "style": "IPY_MODEL_7d96e7efeee54fd8a36c0a044393d5b5",
       "value": true
      }
     },
     "06911039ed2b4f93bbec1f3465e4792f": {
      "model_module": "@jupyter-widgets/controls",
      "model_module_version": "1.1.0",
      "model_name": "DescriptionStyleModel",
      "state": {
       "description_width": ""
      }
     },
     "06d7392df2194c34bd81733ab0f8cac0": {
      "model_module": "@jupyter-widgets/controls",
      "model_module_version": "1.1.0",
      "model_name": "CheckboxModel",
      "state": {
       "description": "10°",
       "disabled": false,
       "layout": "IPY_MODEL_5f33917099b84db99530cfe19a797a09",
       "style": "IPY_MODEL_cc25001962124cd0b19df67981cb178d",
       "value": true
      }
     },
     "06ffd4f5627f4e9aa530d9ff2d701525": {
      "model_module": "@jupyter-widgets/controls",
      "model_module_version": "1.1.0",
      "model_name": "ToggleButtonsModel",
      "state": {
       "_options_labels": [
        "None",
        "Spaced by 10²"
       ],
       "button_style": "",
       "description": "Spacing:",
       "icons": [],
       "index": 0,
       "layout": "IPY_MODEL_5db4f40a4ff340c792d454c100ac3ca1",
       "style": "IPY_MODEL_10a9f39e18144bbb8a1579af3ea8665d",
       "tooltips": [
        "All values are presented as is.",
        "Plots for different detectors are multiplied by powers of 10² for easier viewing."
       ]
      }
     },
     "0746464c2c8941e88c580ec518a56bda": {
      "model_module": "@jupyter-widgets/base",
      "model_module_version": "1.0.0",
      "model_name": "LayoutModel",
      "state": {}
     },
     "0746ca285bc24b84bbfb25149be57bd6": {
      "model_module": "@jupyter-widgets/controls",
      "model_module_version": "1.1.0",
      "model_name": "DescriptionStyleModel",
      "state": {
       "description_width": ""
      }
     },
     "074cb167ae664aa1a749896d67cfd459": {
      "model_module": "@jupyter-widgets/controls",
      "model_module_version": "1.1.0",
      "model_name": "DescriptionStyleModel",
      "state": {
       "description_width": ""
      }
     },
     "078ada0077324c248ec853179331469f": {
      "model_module": "@jupyter-widgets/controls",
      "model_module_version": "1.1.0",
      "model_name": "DescriptionStyleModel",
      "state": {
       "description_width": ""
      }
     },
     "07a353fb216b4b9d82518cf8f40c9a26": {
      "model_module": "@jupyter-widgets/controls",
      "model_module_version": "1.1.0",
      "model_name": "LabelModel",
      "state": {
       "layout": "IPY_MODEL_eacf4b0c30b94827b8e74e51c200c853",
       "style": "IPY_MODEL_a5ab1f2937214bd09dec3d87590ba417",
       "value": "Select which secondary particle to plot spectra for."
      }
     },
     "07d75c2623a14acaac5b43e08e71b559": {
      "model_module": "@jupyter-widgets/controls",
      "model_module_version": "1.1.0",
      "model_name": "DescriptionStyleModel",
      "state": {
       "description_width": ""
      }
     },
     "08166d77b35f43fd8598f6c8612cbcaa": {
      "model_module": "@jupyter-widgets/controls",
      "model_module_version": "1.1.0",
      "model_name": "DescriptionStyleModel",
      "state": {
       "description_width": ""
      }
     },
     "081eed35ebd6477f95c3abb50281bf35": {
      "model_module": "@jupyter-widgets/controls",
      "model_module_version": "1.1.0",
      "model_name": "ToggleButtonsStyleModel",
      "state": {
       "button_width": "",
       "description_width": ""
      }
     },
     "083d6cdb707a4e63bf282c13b7456a14": {
      "model_module": "@jupyter-widgets/base",
      "model_module_version": "1.0.0",
      "model_name": "LayoutModel",
      "state": {}
     },
     "087c346b7f9149a5bcd28c50dd1b4483": {
      "model_module": "@jupyter-widgets/controls",
      "model_module_version": "1.1.0",
      "model_name": "CheckboxModel",
      "state": {
       "description": "10°",
       "disabled": false,
       "layout": "IPY_MODEL_0dfa11fe74624d75989c09fe7f864bfe",
       "style": "IPY_MODEL_19147c5420c549e0b2700c357babc0f8",
       "value": true
      }
     },
     "08874af4f11e4866a1c963a34f169b7b": {
      "model_module": "@jupyter-widgets/controls",
      "model_module_version": "1.1.0",
      "model_name": "DescriptionStyleModel",
      "state": {
       "description_width": ""
      }
     },
     "08a9fee61c6045c59bcc75c4bd20081c": {
      "model_module": "@jupyter-widgets/controls",
      "model_module_version": "1.1.0",
      "model_name": "DescriptionStyleModel",
      "state": {
       "description_width": ""
      }
     },
     "08f0b78c47574a45ac876371dff017db": {
      "model_module": "@jupyter-widgets/base",
      "model_module_version": "1.0.0",
      "model_name": "LayoutModel",
      "state": {}
     },
     "0904d5c615004520b4addc0afd8f11c6": {
      "model_module": "@jupyter-widgets/base",
      "model_module_version": "1.0.0",
      "model_name": "LayoutModel",
      "state": {}
     },
     "090598d5c0c24f1f90f63baa520df67a": {
      "model_module": "@jupyter-widgets/base",
      "model_module_version": "1.0.0",
      "model_name": "LayoutModel",
      "state": {}
     },
     "09361aa9b2214dcb930e3afa4c30b797": {
      "model_module": "@jupyter-widgets/controls",
      "model_module_version": "1.1.0",
      "model_name": "CheckboxModel",
      "state": {
       "description": "10°",
       "disabled": false,
       "layout": "IPY_MODEL_1749abe25a594d598be919bca214e8ae",
       "style": "IPY_MODEL_c2605c1cb60749a7b7270bcd75f72b79",
       "value": true
      }
     },
     "094e31aacf7e473a919b5a57d531f347": {
      "model_module": "@jupyter-widgets/base",
      "model_module_version": "1.0.0",
      "model_name": "LayoutModel",
      "state": {}
     },
     "095b4ce3a3364cbaa4c0dbd459814f9a": {
      "model_module": "@jupyter-widgets/controls",
      "model_module_version": "1.1.0",
      "model_name": "DescriptionStyleModel",
      "state": {
       "description_width": ""
      }
     },
     "096edd4c560a4a609841cd291ee98d00": {
      "model_module": "@jupyter-widgets/controls",
      "model_module_version": "1.1.0",
      "model_name": "CheckboxModel",
      "state": {
       "description": "10°",
       "disabled": false,
       "layout": "IPY_MODEL_665fc08931fc44619afd3e1014cef644",
       "style": "IPY_MODEL_a59b588a6e0b4502b50c251055bfb406",
       "value": true
      }
     },
     "09f1f55f355d408eb0e5a49eba19f462": {
      "model_module": "@jupyter-widgets/base",
      "model_module_version": "1.0.0",
      "model_name": "LayoutModel",
      "state": {}
     },
     "09f55ebe75614576bc59d2f1dc4acb99": {
      "model_module": "@jupyter-widgets/controls",
      "model_module_version": "1.1.0",
      "model_name": "LabelModel",
      "state": {
       "layout": "IPY_MODEL_a32596ccc6844d88beffb3e6617460f0",
       "style": "IPY_MODEL_d356f5cd30dd499481e6418c369bd94c",
       "value": "Select the detector angles to plot."
      }
     },
     "0a097c151ddc43b782d890c5da15407d": {
      "model_module": "@jupyter-widgets/controls",
      "model_module_version": "1.1.0",
      "model_name": "CheckboxModel",
      "state": {
       "description": "10°",
       "disabled": false,
       "layout": "IPY_MODEL_9871518fbb424f9fb82122b1118f1676",
       "style": "IPY_MODEL_64bcc39945b54dc3845c9c8a5f663971",
       "value": true
      }
     },
     "0a0d9cee4f61455e902848baa25f71d3": {
      "model_module": "@jupyter-widgets/controls",
      "model_module_version": "1.1.0",
      "model_name": "DescriptionStyleModel",
      "state": {
       "description_width": ""
      }
     },
     "0a2b6bf867184cf09ab1315bfa560c20": {
      "model_module": "@jupyter-widgets/controls",
      "model_module_version": "1.1.0",
      "model_name": "CheckboxModel",
      "state": {
       "description": "30°",
       "disabled": false,
       "layout": "IPY_MODEL_58077b879af64e7dbc37ed3f0b737f2b",
       "style": "IPY_MODEL_fafd0e3b04b4483f90d356ced0c29506",
       "value": true
      }
     },
     "0a3b209bcf6841b9a433d6e5c3b1a795": {
      "model_module": "@jupyter-widgets/controls",
      "model_module_version": "1.1.0",
      "model_name": "ToggleButtonsStyleModel",
      "state": {
       "button_width": "",
       "description_width": ""
      }
     },
     "0a4648394cbd457b8e85c232f793fa03": {
      "model_module": "@jupyter-widgets/controls",
      "model_module_version": "1.1.0",
      "model_name": "CheckboxModel",
      "state": {
       "description": "30°",
       "disabled": false,
       "layout": "IPY_MODEL_b1b2e4a172a0450c8398fd8c63426533",
       "style": "IPY_MODEL_94f922cfd08645dbadb59353c980e910",
       "value": true
      }
     },
     "0a82ab59695f43bab8f1746b3a2e4905": {
      "model_module": "@jupyter-widgets/base",
      "model_module_version": "1.0.0",
      "model_name": "LayoutModel",
      "state": {}
     },
     "0a892fe9e1af434dbee48a0fe6ed30f0": {
      "model_module": "@jupyter-widgets/base",
      "model_module_version": "1.0.0",
      "model_name": "LayoutModel",
      "state": {}
     },
     "0abffa0061eb431eadd0b537a048d95d": {
      "model_module": "@jupyter-widgets/base",
      "model_module_version": "1.0.0",
      "model_name": "LayoutModel",
      "state": {}
     },
     "0b10e77ea73949b88d3e9b00e33b7c0c": {
      "model_module": "@jupyter-widgets/controls",
      "model_module_version": "1.1.0",
      "model_name": "CheckboxModel",
      "state": {
       "description": "80°",
       "disabled": false,
       "layout": "IPY_MODEL_384c2f9e6a9240a7aac3d6b7beeb3c2e",
       "style": "IPY_MODEL_008a7696a1c74d4cb8ae1ca7c84e83e4",
       "value": true
      }
     },
     "0b259ca278e647fdae7df89f47deff34": {
      "model_module": "@jupyter-widgets/base",
      "model_module_version": "1.0.0",
      "model_name": "LayoutModel",
      "state": {}
     },
     "0b27835f9ef445558cc2f963f85d4f87": {
      "model_module": "@jupyter-widgets/controls",
      "model_module_version": "1.1.0",
      "model_name": "DescriptionStyleModel",
      "state": {
       "description_width": ""
      }
     },
     "0b6e65836b254ff49828fe5d8fdca69f": {
      "model_module": "@jupyter-widgets/controls",
      "model_module_version": "1.1.0",
      "model_name": "CheckboxModel",
      "state": {
       "description": "45°",
       "disabled": false,
       "layout": "IPY_MODEL_56eef3271bf545989ce729f658001984",
       "style": "IPY_MODEL_2ca819c4502f4d179b97705857a3cea9",
       "value": true
      }
     },
     "0ba15f02a3e241cfb5554239e37e8a39": {
      "model_module": "@jupyter-widgets/base",
      "model_module_version": "1.0.0",
      "model_name": "LayoutModel",
      "state": {}
     },
     "0bb45028a61a44e6912f4379e8479fb2": {
      "model_module": "@jupyter-widgets/controls",
      "model_module_version": "1.1.0",
      "model_name": "CheckboxModel",
      "state": {
       "description": "30°",
       "disabled": false,
       "layout": "IPY_MODEL_a9eb32704977437e852c288bee57f477",
       "style": "IPY_MODEL_efcb746359c4475e975c88a99c210c04",
       "value": true
      }
     },
     "0be0b15171fb44f1af5f90865579e69a": {
      "model_module": "@jupyter-widgets/controls",
      "model_module_version": "1.1.0",
      "model_name": "CheckboxModel",
      "state": {
       "description": "30°",
       "disabled": false,
       "layout": "IPY_MODEL_ae04b1d2163a40a8bc5de76789e0d27d",
       "style": "IPY_MODEL_dc6d91722d5c44ff8bff9b0db1e2cff7",
       "value": true
      }
     },
     "0bf4a0d53fc74f159eaa0fe9e9553c72": {
      "model_module": "@jupyter-widgets/controls",
      "model_module_version": "1.1.0",
      "model_name": "DescriptionStyleModel",
      "state": {
       "description_width": ""
      }
     },
     "0c132da78fcf4a549f39d30e06c640a9": {
      "model_module": "@jupyter-widgets/base",
      "model_module_version": "1.0.0",
      "model_name": "LayoutModel",
      "state": {}
     },
     "0c250d6154444cb5aaca2a60f583c229": {
      "model_module": "@jupyter-widgets/controls",
      "model_module_version": "1.1.0",
      "model_name": "ToggleButtonsStyleModel",
      "state": {
       "button_width": "",
       "description_width": ""
      }
     },
     "0c3297f4aa9948278ef3e5ba45d189d8": {
      "model_module": "@jupyter-widgets/controls",
      "model_module_version": "1.1.0",
      "model_name": "DescriptionStyleModel",
      "state": {
       "description_width": ""
      }
     },
     "0c4497ae6e61401f93ba222bb92a4bec": {
      "model_module": "@jupyter-widgets/controls",
      "model_module_version": "1.1.0",
      "model_name": "LabelModel",
      "state": {
       "layout": "IPY_MODEL_4b6fa27e982d4d39a045f12e95015ba9",
       "style": "IPY_MODEL_4cc39a6a644b45c2ae23f45f0791d40f",
       "value": "Select projectile ion energy."
      }
     },
     "0c95bdbf92084f04ab1fb8409bf086a9": {
      "model_module": "@jupyter-widgets/controls",
      "model_module_version": "1.1.0",
      "model_name": "CheckboxModel",
      "state": {
       "description": "135°",
       "disabled": false,
       "layout": "IPY_MODEL_b1f1994c3de742f98d80525a0dc6cdb8",
       "style": "IPY_MODEL_15c535b975a647e4bedb7e06e6a77381",
       "value": true
      }
     },
     "0cc5ed2fc18449fb9cdba5cdc70bab69": {
      "model_module": "@jupyter-widgets/controls",
      "model_module_version": "1.1.0",
      "model_name": "DescriptionStyleModel",
      "state": {
       "description_width": ""
      }
     },
     "0d0ef56dfa2143b8afbd9dfe27c424f4": {
      "model_module": "@jupyter-widgets/controls",
      "model_module_version": "1.1.0",
      "model_name": "CheckboxModel",
      "state": {
       "description": "12.7°",
       "disabled": false,
       "layout": "IPY_MODEL_e006b153e8c04f7981c6ddc8c3678b96",
       "style": "IPY_MODEL_f606adc961c44f8b9755d1e03eb8449a",
       "value": false
      }
     },
     "0d391190abd44d54b833e58e653dc40b": {
      "model_module": "@jupyter-widgets/base",
      "model_module_version": "1.0.0",
      "model_name": "LayoutModel",
      "state": {}
     },
     "0d5b2c31b6ba45a5b485646040acbc1c": {
      "model_module": "@jupyter-widgets/controls",
      "model_module_version": "1.1.0",
      "model_name": "DescriptionStyleModel",
      "state": {
       "description_width": ""
      }
     },
     "0d68d719bd2542f7a4a21bfdbf9e730f": {
      "model_module": "@jupyter-widgets/controls",
      "model_module_version": "1.1.0",
      "model_name": "DescriptionStyleModel",
      "state": {
       "description_width": ""
      }
     },
     "0d751cb4f6e548f4b8ce129fb2a1948f": {
      "model_module": "@jupyter-widgets/base",
      "model_module_version": "1.0.0",
      "model_name": "LayoutModel",
      "state": {}
     },
     "0d9a471588b04f9abc437e7e66b87771": {
      "model_module": "@jupyter-widgets/controls",
      "model_module_version": "1.1.0",
      "model_name": "CheckboxModel",
      "state": {
       "description": "45°",
       "disabled": false,
       "layout": "IPY_MODEL_274735463f814b4bb41f95977294b805",
       "style": "IPY_MODEL_ddd4c7730c2943e088922ab80047a48e",
       "value": true
      }
     },
     "0dc535502f544ef18cef129a43da4899": {
      "model_module": "@jupyter-widgets/controls",
      "model_module_version": "1.1.0",
      "model_name": "DescriptionStyleModel",
      "state": {
       "description_width": ""
      }
     },
     "0df35494584e4aa2ae0f69fa4df9264c": {
      "model_module": "@jupyter-widgets/base",
      "model_module_version": "1.0.0",
      "model_name": "LayoutModel",
      "state": {}
     },
     "0dfa11fe74624d75989c09fe7f864bfe": {
      "model_module": "@jupyter-widgets/base",
      "model_module_version": "1.0.0",
      "model_name": "LayoutModel",
      "state": {}
     },
     "0e32b3e38b3b49b8af1d0d38aad130b8": {
      "model_module": "@jupyter-widgets/controls",
      "model_module_version": "1.1.0",
      "model_name": "DescriptionStyleModel",
      "state": {
       "description_width": ""
      }
     },
     "0e4a60466a5a4a2e8b39e6aa0b0e9b1d": {
      "model_module": "@jupyter-widgets/controls",
      "model_module_version": "1.1.0",
      "model_name": "CheckboxModel",
      "state": {
       "description": "45°",
       "disabled": false,
       "layout": "IPY_MODEL_21f02ba46e614e60a7ef3d5ddcb58c4d",
       "style": "IPY_MODEL_379905cd5a194accbe7b7a843105614d",
       "value": true
      }
     },
     "0e58a76a942e4d48a53853067b866527": {
      "model_module": "@jupyter-widgets/controls",
      "model_module_version": "1.1.0",
      "model_name": "ToggleButtonsModel",
      "state": {
       "_options_labels": [
        "N (¹n)",
        "NDC (¹n)",
        "P (¹H)",
        "D (²H)",
        "T (³H)",
        "S (³He)",
        "A (⁴He)"
       ],
       "button_style": "",
       "description": "Particle:",
       "icons": [],
       "index": 1,
       "layout": "IPY_MODEL_cf507ac9b5704ecda923c74581b54fa9",
       "style": "IPY_MODEL_42da148a2a3e4f1f9716cd92540ea132",
       "tooltips": [
        "Neutron",
        "Back Target Neutron",
        "Proton",
        "Deuteron",
        "Triton",
        "Helium-3",
        "Helium-4"
       ]
      }
     },
     "0e7c74024ab7459c89e88c6a6c6d58c7": {
      "model_module": "@jupyter-widgets/controls",
      "model_module_version": "1.1.0",
      "model_name": "DescriptionStyleModel",
      "state": {
       "description_width": ""
      }
     },
     "0e990f10fa3a4299b2d8194a6469a2da": {
      "model_module": "@jupyter-widgets/controls",
      "model_module_version": "1.1.0",
      "model_name": "DescriptionStyleModel",
      "state": {
       "description_width": ""
      }
     },
     "0ebc3162b4da49f3a6d4f7aa043c52d9": {
      "model_module": "@jupyter-widgets/base",
      "model_module_version": "1.0.0",
      "model_name": "LayoutModel",
      "state": {}
     },
     "0ed75108efaa44f5b4e6d73404bdf8f4": {
      "model_module": "@jupyter-widgets/controls",
      "model_module_version": "1.1.0",
      "model_name": "CheckboxModel",
      "state": {
       "description": "60°",
       "disabled": false,
       "layout": "IPY_MODEL_8ea468f235574c918668b197248fbf7d",
       "style": "IPY_MODEL_14cfeddecba7482199b9ea67847f885f",
       "value": true
      }
     },
     "0f4d8e82915342dea9c99fdf5cf9559b": {
      "model_module": "@jupyter-widgets/base",
      "model_module_version": "1.0.0",
      "model_name": "LayoutModel",
      "state": {}
     },
     "0f64b367e84944c6bb9f39de60b04729": {
      "model_module": "@jupyter-widgets/controls",
      "model_module_version": "1.1.0",
      "model_name": "DescriptionStyleModel",
      "state": {
       "description_width": ""
      }
     },
     "0faaac1d69f34135b1b9e3cc6ffeb29c": {
      "model_module": "@jupyter-widgets/controls",
      "model_module_version": "1.1.0",
      "model_name": "DescriptionStyleModel",
      "state": {
       "description_width": ""
      }
     },
     "0fd4e4d9a1e24438beae0580eb21cd0a": {
      "model_module": "@jupyter-widgets/controls",
      "model_module_version": "1.1.0",
      "model_name": "DescriptionStyleModel",
      "state": {
       "description_width": ""
      }
     },
     "0fee5ca72fa14b4591a7f674fc17f243": {
      "model_module": "@jupyter-widgets/controls",
      "model_module_version": "1.1.0",
      "model_name": "CheckboxModel",
      "state": {
       "description": "7.2°",
       "disabled": false,
       "layout": "IPY_MODEL_bbb5f1f4d7e24b1a81fd951913eb0c43",
       "style": "IPY_MODEL_1963e7eec4ae4110934c80444a00a43c",
       "value": true
      }
     },
     "10187d260a8f420e86a01fdd246b3b19": {
      "model_module": "@jupyter-widgets/controls",
      "model_module_version": "1.1.0",
      "model_name": "LabelModel",
      "state": {
       "layout": "IPY_MODEL_69b8433c4d3c4ff2811205a7b366fe96",
       "style": "IPY_MODEL_3ba19ebc170b40f2b661526b1e62419f",
       "value": "Select the detector angles to plot."
      }
     },
     "104d58e9449e48749b05fefce343f075": {
      "model_module": "@jupyter-widgets/base",
      "model_module_version": "1.0.0",
      "model_name": "LayoutModel",
      "state": {}
     },
     "105f5d8a905f448a8019eaa894cb6f2a": {
      "model_module": "@jupyter-widgets/controls",
      "model_module_version": "1.1.0",
      "model_name": "CheckboxModel",
      "state": {
       "description": "7.2°",
       "disabled": false,
       "layout": "IPY_MODEL_97954afcbea94f4f9fc07ecfe9a9f91d",
       "style": "IPY_MODEL_a02fa49cb30d40c4823416bf6ad3c976",
       "value": false
      }
     },
     "107b2e5c7cb84655ad1c8e6c784e2697": {
      "model_module": "@jupyter-widgets/controls",
      "model_module_version": "1.1.0",
      "model_name": "CheckboxModel",
      "state": {
       "description": "30°",
       "disabled": false,
       "layout": "IPY_MODEL_e497490ce55a47528fa6a34bf8452d68",
       "style": "IPY_MODEL_a7823db7be3f4cd48902bd8f6cbba005",
       "value": true
      }
     },
     "10a9f39e18144bbb8a1579af3ea8665d": {
      "model_module": "@jupyter-widgets/controls",
      "model_module_version": "1.1.0",
      "model_name": "ToggleButtonsStyleModel",
      "state": {
       "button_width": "",
       "description_width": ""
      }
     },
     "10b4f99509df485689b185a6e77913a5": {
      "model_module": "@jupyter-widgets/controls",
      "model_module_version": "1.1.0",
      "model_name": "DescriptionStyleModel",
      "state": {
       "description_width": ""
      }
     },
     "10bde275d29e4c31ad1864d67cdf153c": {
      "model_module": "@jupyter-widgets/controls",
      "model_module_version": "1.1.0",
      "model_name": "ToggleButtonsModel",
      "state": {
       "_options_labels": [
        "N (¹n)",
        "NDC (¹n)",
        "P (¹H)",
        "D (²H)"
       ],
       "button_style": "",
       "description": "Type:",
       "icons": [],
       "index": 0,
       "layout": "IPY_MODEL_3fa835cdaf12418f909ab21e9778b253",
       "style": "IPY_MODEL_8916808f573642e7a06afcd05d759af7",
       "tooltips": [
        "Neutron",
        "Back Target Neutron",
        "Proton",
        "Deuteron"
       ]
      }
     },
     "10eb4b649ea049f6a6685d6b048edfea": {
      "model_module": "@jupyter-widgets/base",
      "model_module_version": "1.0.0",
      "model_name": "LayoutModel",
      "state": {}
     },
     "10f183f605ce403daad19007e941f595": {
      "model_module": "@jupyter-widgets/controls",
      "model_module_version": "1.1.0",
      "model_name": "DescriptionStyleModel",
      "state": {
       "description_width": ""
      }
     },
     "114b096c8d2849e88380a0216538768e": {
      "model_module": "@jupyter-widgets/controls",
      "model_module_version": "1.1.0",
      "model_name": "DescriptionStyleModel",
      "state": {
       "description_width": ""
      }
     },
     "11595e0a202141b1a1810a8271297d9a": {
      "model_module": "@jupyter-widgets/controls",
      "model_module_version": "1.1.0",
      "model_name": "LabelModel",
      "state": {
       "layout": "IPY_MODEL_2c677bde966440d1ab1d799e4a999cc7",
       "style": "IPY_MODEL_56109a4f301b4e7eaf085b954adad9c5",
       "value": "Select the detector angles to plot."
      }
     },
     "116ac127c33a4645b99fbacd4acffcea": {
      "model_module": "@jupyter-widgets/base",
      "model_module_version": "1.0.0",
      "model_name": "LayoutModel",
      "state": {}
     },
     "117cc8277ad9466798b31d944957c9ea": {
      "model_module": "@jupyter-widgets/controls",
      "model_module_version": "1.1.0",
      "model_name": "LabelModel",
      "state": {
       "layout": "IPY_MODEL_6b777fc2776b4640a564e258100c4073",
       "style": "IPY_MODEL_d09da5f86ec0486cb0fbeaad7d0b924a",
       "value": "Select the detector angles to plot."
      }
     },
     "11ac6cd2c4e0425181ae145c624bb8f7": {
      "model_module": "@jupyter-widgets/controls",
      "model_module_version": "1.1.0",
      "model_name": "LabelModel",
      "state": {
       "layout": "IPY_MODEL_4bbd72c1fa0b40e69f7b7a8bbda3f824",
       "style": "IPY_MODEL_43912211b5184688b8ce478f1efbc6ef",
       "value": "Select the detector angles to plot."
      }
     },
     "11aea78791f04ca6adbc4af597e72e71": {
      "model_module": "@jupyter-widgets/base",
      "model_module_version": "1.0.0",
      "model_name": "LayoutModel",
      "state": {}
     },
     "11d6702a7a5f4943902e8121864bb3b1": {
      "model_module": "@jupyter-widgets/controls",
      "model_module_version": "1.1.0",
      "model_name": "ButtonModel",
      "state": {
       "button_style": "success",
       "description": "Update plot",
       "icon": "paint-brush",
       "layout": "IPY_MODEL_550a8b4a444a4dc8979aaff27f9aea77",
       "style": "IPY_MODEL_47bb9e4681e444679e939c70b022b30b",
       "tooltip": "Click to redraw the plot below with updated options from above."
      }
     },
     "11df27aa5e3847d59b5cbdd1ed1e833d": {
      "model_module": "@jupyter-widgets/base",
      "model_module_version": "1.0.0",
      "model_name": "LayoutModel",
      "state": {}
     },
     "11e5620c07cc43d8a2786e3639005438": {
      "model_module": "@jupyter-widgets/controls",
      "model_module_version": "1.1.0",
      "model_name": "DescriptionStyleModel",
      "state": {
       "description_width": ""
      }
     },
     "11f48d37a535475ca688e0905db3162f": {
      "model_module": "@jupyter-widgets/base",
      "model_module_version": "1.0.0",
      "model_name": "LayoutModel",
      "state": {}
     },
     "1245431019ef4cbaa2e0848f14663203": {
      "model_module": "@jupyter-widgets/controls",
      "model_module_version": "1.1.0",
      "model_name": "DescriptionStyleModel",
      "state": {
       "description_width": ""
      }
     },
     "125eeccb2fdb4c41a531b1210628a84b": {
      "model_module": "@jupyter-widgets/controls",
      "model_module_version": "1.1.0",
      "model_name": "CheckboxModel",
      "state": {
       "description": "45°",
       "disabled": false,
       "layout": "IPY_MODEL_e4d804abadc14c74a33145526e02a3b7",
       "style": "IPY_MODEL_8e7f2696ab6a4fb79016841dd4e1fa51",
       "value": true
      }
     },
     "126979ad38054e0a8468ba5e307f9db5": {
      "model_module": "@jupyter-widgets/controls",
      "model_module_version": "1.1.0",
      "model_name": "ToggleButtonsModel",
      "state": {
       "_options_labels": [
        "N (¹n)",
        "NDC (¹n)",
        "P (¹H)",
        "D (²H)",
        "T (³H)",
        "S (³He)",
        "A (⁴He)"
       ],
       "button_style": "",
       "description": "Type:",
       "icons": [],
       "index": 5,
       "layout": "IPY_MODEL_f4a71d72724943bfaf0276bf593011e7",
       "style": "IPY_MODEL_4873b52e14fb4e01a2efc9b6ec9f4561",
       "tooltips": [
        "Neutron",
        "Back Target Neutron",
        "Proton",
        "Deuteron",
        "Triton",
        "Helium-3",
        "Helium-4"
       ]
      }
     },
     "128415027564430eb376c5398a76e9ed": {
      "model_module": "@jupyter-widgets/controls",
      "model_module_version": "1.1.0",
      "model_name": "CheckboxModel",
      "state": {
       "description": "80°",
       "disabled": false,
       "layout": "IPY_MODEL_7bd08e09b235419884b9026c8318d57b",
       "style": "IPY_MODEL_1d9e716883364df8a8ff753b2645afa2",
       "value": true
      }
     },
     "12cf0e3f5beb4e5db305b20b8628fea2": {
      "model_module": "@jupyter-widgets/controls",
      "model_module_version": "1.1.0",
      "model_name": "ToggleButtonsStyleModel",
      "state": {
       "button_width": "",
       "description_width": ""
      }
     },
     "12dad28b0128407b921fd9caa9fb30b1": {
      "model_module": "@jupyter-widgets/controls",
      "model_module_version": "1.1.0",
      "model_name": "CheckboxModel",
      "state": {
       "description": "80°",
       "disabled": false,
       "layout": "IPY_MODEL_f055cac736c0407b94d3e7ddcc082153",
       "style": "IPY_MODEL_1e81c5de21e34a69a2a2f8ab37580fa5",
       "value": true
      }
     },
     "134bc7054b404937bd3736cbe91e7b67": {
      "model_module": "@jupyter-widgets/base",
      "model_module_version": "1.0.0",
      "model_name": "LayoutModel",
      "state": {}
     },
     "134dbfaf626f4f0188ccfb5e92dc8b4c": {
      "model_module": "@jupyter-widgets/controls",
      "model_module_version": "1.1.0",
      "model_name": "DescriptionStyleModel",
      "state": {
       "description_width": ""
      }
     },
     "1365e00648e04d3e8ccd0cde2afb99d2": {
      "model_module": "@jupyter-widgets/controls",
      "model_module_version": "1.1.0",
      "model_name": "LabelModel",
      "state": {
       "layout": "IPY_MODEL_84775fd52f4349bfb087eae261842288",
       "style": "IPY_MODEL_aa3cfd405b92404eb2f19d71ca77330c",
       "value": "Select the detector angles to plot."
      }
     },
     "1390752cdc434e52b9f7bbcab6f4e297": {
      "model_module": "@jupyter-widgets/base",
      "model_module_version": "1.0.0",
      "model_name": "LayoutModel",
      "state": {}
     },
     "13ca9599e8a6458b9f877c77a465cadf": {
      "model_module": "@jupyter-widgets/base",
      "model_module_version": "1.0.0",
      "model_name": "LayoutModel",
      "state": {}
     },
     "13e8722c02124a1eb5386f71fef459c9": {
      "model_module": "@jupyter-widgets/base",
      "model_module_version": "1.0.0",
      "model_name": "LayoutModel",
      "state": {}
     },
     "1411d8279de942bcac29d5e365385d3c": {
      "model_module": "@jupyter-widgets/base",
      "model_module_version": "1.0.0",
      "model_name": "LayoutModel",
      "state": {}
     },
     "1438a40c9bcc4938b16e0f607404b957": {
      "model_module": "@jupyter-widgets/controls",
      "model_module_version": "1.1.0",
      "model_name": "ToggleButtonsModel",
      "state": {
       "_options_labels": [
        "400 MeV",
        "800 MeV",
        "2500 MeV"
       ],
       "button_style": "",
       "description": "Energy:",
       "icons": [],
       "index": 0,
       "layout": "IPY_MODEL_b897da7bbb4b482da822f91e6f777254",
       "style": "IPY_MODEL_6efc4b6151e242caaa8ab52d50bd5997",
       "tooltips": [
        "lowest energy",
        "middle energy",
        "highest energy"
       ]
      }
     },
     "1444a36731094071b713ff974db02236": {
      "model_module": "@jupyter-widgets/controls",
      "model_module_version": "1.1.0",
      "model_name": "DescriptionStyleModel",
      "state": {
       "description_width": ""
      }
     },
     "145a572af0524b2c966a392096088f62": {
      "model_module": "@jupyter-widgets/controls",
      "model_module_version": "1.1.0",
      "model_name": "CheckboxModel",
      "state": {
       "description": "30°",
       "disabled": false,
       "layout": "IPY_MODEL_1ffc5d883a454771a14c0ab9f328fcf3",
       "style": "IPY_MODEL_4ea59979a0084e069d4cfe7c617b86d8",
       "value": true
      }
     },
     "1464d343c35a4ef39cb521de45cc30a7": {
      "model_module": "@jupyter-widgets/base",
      "model_module_version": "1.0.0",
      "model_name": "LayoutModel",
      "state": {}
     },
     "14747b7132f64713b014ca83848cb75d": {
      "model_module": "@jupyter-widgets/base",
      "model_module_version": "1.0.0",
      "model_name": "LayoutModel",
      "state": {}
     },
     "1487e8abab6d47ebb0c49c2e27bd0fc5": {
      "model_module": "@jupyter-widgets/controls",
      "model_module_version": "1.1.0",
      "model_name": "DescriptionStyleModel",
      "state": {
       "description_width": ""
      }
     },
     "14a99f6b164c4d9299d9760d104c3d74": {
      "model_module": "@jupyter-widgets/base",
      "model_module_version": "1.0.0",
      "model_name": "LayoutModel",
      "state": {}
     },
     "14cfeddecba7482199b9ea67847f885f": {
      "model_module": "@jupyter-widgets/controls",
      "model_module_version": "1.1.0",
      "model_name": "DescriptionStyleModel",
      "state": {
       "description_width": ""
      }
     },
     "14fafc4eb4bf469cae61c06d8cce53bf": {
      "model_module": "@jupyter-widgets/base",
      "model_module_version": "1.0.0",
      "model_name": "LayoutModel",
      "state": {}
     },
     "150c190f1f854c3f99617e36a9d284b7": {
      "model_module": "@jupyter-widgets/controls",
      "model_module_version": "1.1.0",
      "model_name": "CheckboxModel",
      "state": {
       "description": "30°",
       "disabled": false,
       "layout": "IPY_MODEL_94435b3fbd774ecb9620eeafcda40e7b",
       "style": "IPY_MODEL_622b1dbaabd243b9843ca2f3fffb7666",
       "value": true
      }
     },
     "152c368039ae4f16b2ef95b826c218db": {
      "model_module": "@jupyter-widgets/controls",
      "model_module_version": "1.1.0",
      "model_name": "CheckboxModel",
      "state": {
       "description": "45°",
       "disabled": false,
       "layout": "IPY_MODEL_88c16b0b83314b6692444ec6c22caa7f",
       "style": "IPY_MODEL_4dc60796dc4d4b2fb291300a78b5e453",
       "value": true
      }
     },
     "156f2356d2f34394bd0ef2bbc9f4c5b0": {
      "model_module": "@jupyter-widgets/base",
      "model_module_version": "1.0.0",
      "model_name": "LayoutModel",
      "state": {}
     },
     "15be3f50cce94b91a4aa3def909f1e33": {
      "model_module": "@jupyter-widgets/base",
      "model_module_version": "1.0.0",
      "model_name": "LayoutModel",
      "state": {}
     },
     "15c535b975a647e4bedb7e06e6a77381": {
      "model_module": "@jupyter-widgets/controls",
      "model_module_version": "1.1.0",
      "model_name": "DescriptionStyleModel",
      "state": {
       "description_width": ""
      }
     },
     "15ee170653c240fb99340a790479ce12": {
      "model_module": "@jupyter-widgets/controls",
      "model_module_version": "1.1.0",
      "model_name": "DescriptionStyleModel",
      "state": {
       "description_width": ""
      }
     },
     "1611a7e4b1b04daa83ba9fbdf40a6b48": {
      "model_module": "@jupyter-widgets/controls",
      "model_module_version": "1.1.0",
      "model_name": "DescriptionStyleModel",
      "state": {
       "description_width": ""
      }
     },
     "16645c168df54931bd863473f3de34b4": {
      "model_module": "@jupyter-widgets/base",
      "model_module_version": "1.0.0",
      "model_name": "LayoutModel",
      "state": {}
     },
     "1672aa49f4314ddf92f6e8228632b8df": {
      "model_module": "@jupyter-widgets/base",
      "model_module_version": "1.0.0",
      "model_name": "LayoutModel",
      "state": {}
     },
     "16826bc0ce984138840e74701681d5b5": {
      "model_module": "@jupyter-widgets/base",
      "model_module_version": "1.0.0",
      "model_name": "LayoutModel",
      "state": {}
     },
     "169917404f5542f0acc9e96eb4383c57": {
      "model_module": "@jupyter-widgets/controls",
      "model_module_version": "1.1.0",
      "model_name": "LabelModel",
      "state": {
       "layout": "IPY_MODEL_2c74d1c741714f67aa3c29cd6db0295b",
       "style": "IPY_MODEL_4df1a3837fc04729974df5c9012b3dde",
       "value": "Select upstream target mass thickness."
      }
     },
     "16a0a785c08a4f329604b9d7b46e1730": {
      "model_module": "@jupyter-widgets/controls",
      "model_module_version": "1.1.0",
      "model_name": "ToggleButtonsStyleModel",
      "state": {
       "button_width": "",
       "description_width": ""
      }
     },
     "16f670a283904513995b6aa8c48c5375": {
      "model_module": "@jupyter-widgets/base",
      "model_module_version": "1.0.0",
      "model_name": "LayoutModel",
      "state": {}
     },
     "16f7563b15f24961b00e03182136e5e0": {
      "model_module": "@jupyter-widgets/base",
      "model_module_version": "1.0.0",
      "model_name": "LayoutModel",
      "state": {}
     },
     "16fa1374555044cb9b5eb597982fd0c0": {
      "model_module": "@jupyter-widgets/controls",
      "model_module_version": "1.1.0",
      "model_name": "ToggleButtonsModel",
      "state": {
       "_options_labels": [
        "P (¹H)",
        "D (²H)",
        "T (³H)",
        "S (³He)",
        "A (⁴He)"
       ],
       "button_style": "",
       "description": "Type:",
       "icons": [],
       "index": 1,
       "layout": "IPY_MODEL_4ef0084a078247899fe9c9e4946364ae",
       "style": "IPY_MODEL_77f0a240fb514069b6c89a150a7abac9",
       "tooltips": [
        "Proton",
        "Deuteron",
        "Triton",
        "Helium-3",
        "Helium-4"
       ]
      }
     },
     "1719a77f518142a39ecc0dced8ab027f": {
      "model_module": "@jupyter-widgets/base",
      "model_module_version": "1.0.0",
      "model_name": "LayoutModel",
      "state": {}
     },
     "1749abe25a594d598be919bca214e8ae": {
      "model_module": "@jupyter-widgets/base",
      "model_module_version": "1.0.0",
      "model_name": "LayoutModel",
      "state": {}
     },
     "1757cdb3a11c42869812c07a7a3a6d56": {
      "model_module": "@jupyter-widgets/controls",
      "model_module_version": "1.1.0",
      "model_name": "DescriptionStyleModel",
      "state": {
       "description_width": ""
      }
     },
     "17bae485d4da4ee1af714e9f524d5da1": {
      "model_module": "@jupyter-widgets/base",
      "model_module_version": "1.0.0",
      "model_name": "LayoutModel",
      "state": {}
     },
     "180b1185efac437da63d4e48062134ca": {
      "model_module": "@jupyter-widgets/controls",
      "model_module_version": "1.1.0",
      "model_name": "LabelModel",
      "state": {
       "layout": "IPY_MODEL_1a7a00b0f1c743d288a666ab80835582",
       "style": "IPY_MODEL_ff2f94b2546b423daf13837d3bd365ab",
       "value": "Select projectile ion species and energy."
      }
     },
     "181d532fcf664ac59ef38448d3ac215c": {
      "model_module": "@jupyter-widgets/base",
      "model_module_version": "1.0.0",
      "model_name": "LayoutModel",
      "state": {}
     },
     "18863704081745a6b44ce17d97071696": {
      "model_module": "@jupyter-widgets/base",
      "model_module_version": "1.0.0",
      "model_name": "LayoutModel",
      "state": {}
     },
     "18b8c3c6b1d2459ab250e28c7d51c293": {
      "model_module": "@jupyter-widgets/controls",
      "model_module_version": "1.1.0",
      "model_name": "DescriptionStyleModel",
      "state": {
       "description_width": ""
      }
     },
     "18b949db5fe34bef96f34c741ec2e158": {
      "model_module": "@jupyter-widgets/controls",
      "model_module_version": "1.1.0",
      "model_name": "DescriptionStyleModel",
      "state": {
       "description_width": ""
      }
     },
     "18ec9503a0314fdfb4fd82944a091077": {
      "model_module": "@jupyter-widgets/controls",
      "model_module_version": "1.1.0",
      "model_name": "ToggleButtonsStyleModel",
      "state": {
       "button_width": "",
       "description_width": ""
      }
     },
     "1902eba716b74c90bbd59002c4fa7e7e": {
      "model_module": "@jupyter-widgets/controls",
      "model_module_version": "1.1.0",
      "model_name": "LabelModel",
      "state": {
       "layout": "IPY_MODEL_7eb4d549ff354d1d97bf02337d3d4441",
       "style": "IPY_MODEL_5551224bca5049e7be23f28c01e1dd3b",
       "value": "Select upstream target material and thickness."
      }
     },
     "19147c5420c549e0b2700c357babc0f8": {
      "model_module": "@jupyter-widgets/controls",
      "model_module_version": "1.1.0",
      "model_name": "DescriptionStyleModel",
      "state": {
       "description_width": ""
      }
     },
     "1954fcd499e84497b4865b733f2fe9a4": {
      "model_module": "@jupyter-widgets/base",
      "model_module_version": "1.0.0",
      "model_name": "LayoutModel",
      "state": {}
     },
     "195d94cd3ae042f0960a238e7d83b52f": {
      "model_module": "@jupyter-widgets/base",
      "model_module_version": "1.0.0",
      "model_name": "LayoutModel",
      "state": {}
     },
     "1961e98b7ac3486ebc1961e8cfeef51c": {
      "model_module": "@jupyter-widgets/base",
      "model_module_version": "1.0.0",
      "model_name": "LayoutModel",
      "state": {}
     },
     "1963e7eec4ae4110934c80444a00a43c": {
      "model_module": "@jupyter-widgets/controls",
      "model_module_version": "1.1.0",
      "model_name": "DescriptionStyleModel",
      "state": {
       "description_width": ""
      }
     },
     "1969fd309e104c78be9910fab3e01e63": {
      "model_module": "@jupyter-widgets/controls",
      "model_module_version": "1.1.0",
      "model_name": "CheckboxModel",
      "state": {
       "description": "10°",
       "disabled": false,
       "layout": "IPY_MODEL_7361620793a041eb83e6cebabb392c82",
       "style": "IPY_MODEL_23dd98cd3a2f4af9b3fe95992b838186",
       "value": true
      }
     },
     "196b92fe93b14a5e9565d48f5aa1f5ce": {
      "model_module": "@jupyter-widgets/controls",
      "model_module_version": "1.1.0",
      "model_name": "ToggleButtonsStyleModel",
      "state": {
       "button_width": "",
       "description_width": ""
      }
     },
     "197075fb586e4734965179c897e4f958": {
      "model_module": "@jupyter-widgets/controls",
      "model_module_version": "1.1.0",
      "model_name": "DescriptionStyleModel",
      "state": {
       "description_width": ""
      }
     },
     "19ccf39af38349de8dfba6854f1eef09": {
      "model_module": "@jupyter-widgets/controls",
      "model_module_version": "1.1.0",
      "model_name": "CheckboxModel",
      "state": {
       "description": "30°",
       "disabled": false,
       "layout": "IPY_MODEL_f321083ddc564a30968b1d85bf33aa1b",
       "style": "IPY_MODEL_269da9fb17a54ca783dafdd295da5430",
       "value": true
      }
     },
     "19e0b081d42e4dccaf1e0c50fc67ddd5": {
      "model_module": "@jupyter-widgets/controls",
      "model_module_version": "1.1.0",
      "model_name": "DescriptionStyleModel",
      "state": {
       "description_width": ""
      }
     },
     "19ecf35209604accb1c26bee4e7667e4": {
      "model_module": "@jupyter-widgets/controls",
      "model_module_version": "1.1.0",
      "model_name": "ToggleButtonsModel",
      "state": {
       "_options_labels": [
        "OLS",
        "NaI"
       ],
       "button_style": "",
       "description": "Type:",
       "icons": [],
       "index": 0,
       "layout": "IPY_MODEL_053cbccbe0f4414bad85c180627d0aa8",
       "style": "IPY_MODEL_8e949d24e566410ab568643397076396",
       "tooltips": [
        "Organic Liquid Scintillator",
        "Sodium Iodide"
       ]
      }
     },
     "1a0b47557ddb471a9abef45ce46f53bc": {
      "model_module": "@jupyter-widgets/controls",
      "model_module_version": "1.1.0",
      "model_name": "DescriptionStyleModel",
      "state": {
       "description_width": ""
      }
     },
     "1a34ec5b142b45db90573b92d4c30f07": {
      "model_module": "@jupyter-widgets/controls",
      "model_module_version": "1.1.0",
      "model_name": "CheckboxModel",
      "state": {
       "description": "60°",
       "disabled": false,
       "layout": "IPY_MODEL_a86e995100d74316a3d0e3db7e535fcc",
       "style": "IPY_MODEL_a62492efc26142d39374db8dd98e3500",
       "value": true
      }
     },
     "1a377439799f4844b4b90a8aaa874093": {
      "model_module": "@jupyter-widgets/controls",
      "model_module_version": "1.1.0",
      "model_name": "LabelModel",
      "state": {
       "layout": "IPY_MODEL_1c2d0cb27cfc487392e4c839e8ece25f",
       "style": "IPY_MODEL_08166d77b35f43fd8598f6c8612cbcaa",
       "value": "Select projectile ion energy."
      }
     },
     "1a46dbed02354026a4326b00cab9b040": {
      "model_module": "@jupyter-widgets/controls",
      "model_module_version": "1.1.0",
      "model_name": "DescriptionStyleModel",
      "state": {
       "description_width": ""
      }
     },
     "1a5612b401944defb18e84f5e71fc199": {
      "model_module": "@jupyter-widgets/controls",
      "model_module_version": "1.1.0",
      "model_name": "ToggleButtonsStyleModel",
      "state": {
       "button_width": "",
       "description_width": ""
      }
     },
     "1a684b2eadf148cba283c44e38e6ec3c": {
      "model_module": "@jupyter-widgets/controls",
      "model_module_version": "1.1.0",
      "model_name": "ButtonStyleModel",
      "state": {}
     },
     "1a69e3aee3e14b7db2c3eaef0f27ff8c": {
      "model_module": "@jupyter-widgets/base",
      "model_module_version": "1.0.0",
      "model_name": "LayoutModel",
      "state": {}
     },
     "1a7a00b0f1c743d288a666ab80835582": {
      "model_module": "@jupyter-widgets/base",
      "model_module_version": "1.0.0",
      "model_name": "LayoutModel",
      "state": {}
     },
     "1a9341747b8a43e0a169c7d1d639c50f": {
      "model_module": "@jupyter-widgets/base",
      "model_module_version": "1.0.0",
      "model_name": "LayoutModel",
      "state": {}
     },
     "1aa273c7bdca4da191835a445d606065": {
      "model_module": "@jupyter-widgets/controls",
      "model_module_version": "1.1.0",
      "model_name": "DescriptionStyleModel",
      "state": {
       "description_width": ""
      }
     },
     "1abe2f30b79f4701a9f94cf1a438e122": {
      "model_module": "@jupyter-widgets/controls",
      "model_module_version": "1.1.0",
      "model_name": "ToggleButtonsStyleModel",
      "state": {
       "button_width": "",
       "description_width": ""
      }
     },
     "1acc6d4d97c0434783d57bd31fb7a9e1": {
      "model_module": "@jupyter-widgets/controls",
      "model_module_version": "1.1.0",
      "model_name": "DescriptionStyleModel",
      "state": {
       "description_width": ""
      }
     },
     "1aeb7dfc9e594c11861f86298ee1729a": {
      "model_module": "@jupyter-widgets/base",
      "model_module_version": "1.0.0",
      "model_name": "LayoutModel",
      "state": {}
     },
     "1af087b5218c4437920f90cb063ef0cb": {
      "model_module": "@jupyter-widgets/controls",
      "model_module_version": "1.1.0",
      "model_name": "DescriptionStyleModel",
      "state": {
       "description_width": ""
      }
     },
     "1b1c3c1a190840779c5277f754611eed": {
      "model_module": "@jupyter-widgets/controls",
      "model_module_version": "1.1.0",
      "model_name": "DescriptionStyleModel",
      "state": {
       "description_width": ""
      }
     },
     "1b3dff2e885b48e789134f537ebc787a": {
      "model_module": "@jupyter-widgets/controls",
      "model_module_version": "1.1.0",
      "model_name": "DescriptionStyleModel",
      "state": {
       "description_width": ""
      }
     },
     "1b46d062e7544ec0a153eeae4e600990": {
      "model_module": "@jupyter-widgets/controls",
      "model_module_version": "1.1.0",
      "model_name": "ToggleButtonsStyleModel",
      "state": {
       "button_width": "",
       "description_width": ""
      }
     },
     "1b7bbc4fc6784941b0bb170af22bc7b8": {
      "model_module": "@jupyter-widgets/base",
      "model_module_version": "1.0.0",
      "model_name": "LayoutModel",
      "state": {}
     },
     "1b864d38500245bc899a0f381f423c24": {
      "model_module": "@jupyter-widgets/base",
      "model_module_version": "1.0.0",
      "model_name": "LayoutModel",
      "state": {}
     },
     "1ba608492b364dd0bee498de820a823f": {
      "model_module": "@jupyter-widgets/controls",
      "model_module_version": "1.1.0",
      "model_name": "DescriptionStyleModel",
      "state": {
       "description_width": ""
      }
     },
     "1bbba88cc5794cd1ad6b502097c723e9": {
      "model_module": "@jupyter-widgets/base",
      "model_module_version": "1.0.0",
      "model_name": "LayoutModel",
      "state": {}
     },
     "1bc61067e7e84ec4893204250a69454a": {
      "model_module": "@jupyter-widgets/base",
      "model_module_version": "1.0.0",
      "model_name": "LayoutModel",
      "state": {}
     },
     "1bf04ec8e10246cc9d2df1f9e1f9e9b8": {
      "model_module": "@jupyter-widgets/base",
      "model_module_version": "1.0.0",
      "model_name": "LayoutModel",
      "state": {}
     },
     "1bf7f5567589498fa681752dbe53ef46": {
      "model_module": "@jupyter-widgets/base",
      "model_module_version": "1.0.0",
      "model_name": "LayoutModel",
      "state": {}
     },
     "1bfd2f44b7c2442090c992df698cee4c": {
      "model_module": "@jupyter-widgets/base",
      "model_module_version": "1.0.0",
      "model_name": "LayoutModel",
      "state": {}
     },
     "1c014d4e1a954966b4781964ef79ab9d": {
      "model_module": "@jupyter-widgets/base",
      "model_module_version": "1.0.0",
      "model_name": "LayoutModel",
      "state": {}
     },
     "1c2d0cb27cfc487392e4c839e8ece25f": {
      "model_module": "@jupyter-widgets/base",
      "model_module_version": "1.0.0",
      "model_name": "LayoutModel",
      "state": {}
     },
     "1c450c8f804a47ec8b0823ee81fcc1a9": {
      "model_module": "@jupyter-widgets/controls",
      "model_module_version": "1.1.0",
      "model_name": "DescriptionStyleModel",
      "state": {
       "description_width": ""
      }
     },
     "1c7c9c5e98b14f00b81925a5e964572c": {
      "model_module": "@jupyter-widgets/controls",
      "model_module_version": "1.1.0",
      "model_name": "CheckboxModel",
      "state": {
       "description": "60°",
       "disabled": false,
       "layout": "IPY_MODEL_ec294333971b4af4bb4a5d8b139ab91f",
       "style": "IPY_MODEL_add3906993124ea1b4e1b692d9bd831b",
       "value": true
      }
     },
     "1d393d3627de4b8b9c225452fc52406f": {
      "model_module": "@jupyter-widgets/base",
      "model_module_version": "1.0.0",
      "model_name": "LayoutModel",
      "state": {}
     },
     "1d68b934178f43fc98da9e81f818c1c2": {
      "model_module": "@jupyter-widgets/base",
      "model_module_version": "1.0.0",
      "model_name": "LayoutModel",
      "state": {}
     },
     "1d72fdf622c6443bb22fe880f8a2aa5c": {
      "model_module": "@jupyter-widgets/base",
      "model_module_version": "1.0.0",
      "model_name": "LayoutModel",
      "state": {}
     },
     "1d9e716883364df8a8ff753b2645afa2": {
      "model_module": "@jupyter-widgets/controls",
      "model_module_version": "1.1.0",
      "model_name": "DescriptionStyleModel",
      "state": {
       "description_width": ""
      }
     },
     "1dad1907f0694a15b1777d2307d3c28f": {
      "model_module": "@jupyter-widgets/base",
      "model_module_version": "1.0.0",
      "model_name": "LayoutModel",
      "state": {}
     },
     "1e04ec5a3cd042a4ac1c828623d14d2e": {
      "model_module": "@jupyter-widgets/controls",
      "model_module_version": "1.1.0",
      "model_name": "CheckboxModel",
      "state": {
       "description": "45°",
       "disabled": false,
       "layout": "IPY_MODEL_9f10af26b0b44a58a854ace8e990c731",
       "style": "IPY_MODEL_e4e76739afdd42159e7d70cd8e35073f",
       "value": true
      }
     },
     "1e0609842ad847aaa5d3b11714eb181b": {
      "model_module": "@jupyter-widgets/controls",
      "model_module_version": "1.1.0",
      "model_name": "CheckboxModel",
      "state": {
       "description": "45°",
       "disabled": false,
       "layout": "IPY_MODEL_9fc3301f6be746b3b12b26b043f73985",
       "style": "IPY_MODEL_9180d374d3b3454293724d57c1893023",
       "value": true
      }
     },
     "1e0c3eaa0d044be580b73c12fea09940": {
      "model_module": "@jupyter-widgets/controls",
      "model_module_version": "1.1.0",
      "model_name": "DescriptionStyleModel",
      "state": {
       "description_width": ""
      }
     },
     "1e18632789c64ad58c9bdccadd49f03f": {
      "model_module": "@jupyter-widgets/controls",
      "model_module_version": "1.1.0",
      "model_name": "ToggleButtonsModel",
      "state": {
       "_options_labels": [
        "400 MeV/n",
        "800 MeV/n",
        "1500 MeV/n"
       ],
       "button_style": "",
       "description": "Energy:",
       "icons": [],
       "index": 0,
       "layout": "IPY_MODEL_4bd4fb3548f34dbbab78ecd8e9853177",
       "style": "IPY_MODEL_4000278a9d364b9f8b0aa3f29b94c1be",
       "tooltips": [
        "lowest energy",
        "middle energy",
        "highest energy"
       ]
      }
     },
     "1e5116bf86be4f1882bf20fcf6a6c465": {
      "model_module": "@jupyter-widgets/controls",
      "model_module_version": "1.1.0",
      "model_name": "DescriptionStyleModel",
      "state": {
       "description_width": ""
      }
     },
     "1e7bec4752ff40afa2b30faaa9181f59": {
      "model_module": "@jupyter-widgets/controls",
      "model_module_version": "1.1.0",
      "model_name": "DescriptionStyleModel",
      "state": {
       "description_width": ""
      }
     },
     "1e80c9c610b14a8cbdf136d7def2e4a6": {
      "model_module": "@jupyter-widgets/controls",
      "model_module_version": "1.1.0",
      "model_name": "DescriptionStyleModel",
      "state": {
       "description_width": ""
      }
     },
     "1e81c5de21e34a69a2a2f8ab37580fa5": {
      "model_module": "@jupyter-widgets/controls",
      "model_module_version": "1.1.0",
      "model_name": "DescriptionStyleModel",
      "state": {
       "description_width": ""
      }
     },
     "1e89315c30e2428fa595d6b42ebd4592": {
      "model_module": "@jupyter-widgets/base",
      "model_module_version": "1.0.0",
      "model_name": "LayoutModel",
      "state": {}
     },
     "1ea81ce3204a4d4c865e413aa9de17b2": {
      "model_module": "@jupyter-widgets/base",
      "model_module_version": "1.0.0",
      "model_name": "LayoutModel",
      "state": {}
     },
     "1ed0243d19a140a795e7c835cce9e2ab": {
      "model_module": "@jupyter-widgets/controls",
      "model_module_version": "1.1.0",
      "model_name": "ToggleButtonsModel",
      "state": {
       "_options_labels": [
        "N (¹n)",
        "NDC (¹n)",
        "P (¹H)",
        "D (²H)"
       ],
       "button_style": "",
       "description": "Particle:",
       "icons": [],
       "index": 0,
       "layout": "IPY_MODEL_67649ac06c0d44b7ba8bc7ab44f13d98",
       "style": "IPY_MODEL_45c7f6aa82f24df694b77ec71789ab46",
       "tooltips": [
        "Neutron",
        "Back Target Neutron",
        "Proton",
        "Deuteron"
       ]
      }
     },
     "1f1eb4c094934fe49153eebb19d3e67a": {
      "model_module": "@jupyter-widgets/controls",
      "model_module_version": "1.1.0",
      "model_name": "CheckboxModel",
      "state": {
       "description": "30°",
       "disabled": false,
       "layout": "IPY_MODEL_f4b34bb605b642bc92cabd5815758446",
       "style": "IPY_MODEL_84e53c0a403b446f8596a153fde52f6a",
       "value": false
      }
     },
     "1f4ce312528a4c30b50ca96cd4811801": {
      "model_module": "@jupyter-widgets/controls",
      "model_module_version": "1.1.0",
      "model_name": "ToggleButtonsModel",
      "state": {
       "_options_labels": [
        "Al",
        "HDPE",
        "AlPE"
       ],
       "button_style": "",
       "description": "Material:",
       "icons": [],
       "index": 0,
       "layout": "IPY_MODEL_be7e7da3f74547e9b6d4c1ebe08afb4a",
       "style": "IPY_MODEL_7f4e7685ff92449696edc9899475e79a",
       "tooltips": [
        "Aluminum",
        "Polyethylene",
        "Combination of Al and HDPE"
       ]
      }
     },
     "1f7b1312a8a44dbaa6d3bae6912929db": {
      "model_module": "@jupyter-widgets/controls",
      "model_module_version": "1.1.0",
      "model_name": "DescriptionStyleModel",
      "state": {
       "description_width": ""
      }
     },
     "1f855d3c7c5042aab4a2fc134c58855e": {
      "model_module": "@jupyter-widgets/controls",
      "model_module_version": "1.1.0",
      "model_name": "LabelModel",
      "state": {
       "layout": "IPY_MODEL_87f9d71af0c142c7b5caf8e56b9b61ca",
       "style": "IPY_MODEL_42c81fe8612b454e8f3f3342eb8dd9b6",
       "value": "Select the detector angles to plot."
      }
     },
     "1fe86901ff6444339b517145bf3c3899": {
      "model_module": "@jupyter-widgets/controls",
      "model_module_version": "1.1.0",
      "model_name": "DescriptionStyleModel",
      "state": {
       "description_width": ""
      }
     },
     "1fec3a2bae25428490df10b6f9630f15": {
      "model_module": "@jupyter-widgets/controls",
      "model_module_version": "1.1.0",
      "model_name": "ToggleButtonsStyleModel",
      "state": {
       "button_width": "",
       "description_width": ""
      }
     },
     "1ff29871f05948588bf13aad8cfafb46": {
      "model_module": "@jupyter-widgets/controls",
      "model_module_version": "1.1.0",
      "model_name": "CheckboxModel",
      "state": {
       "description": "135°",
       "disabled": false,
       "layout": "IPY_MODEL_9068b5b316bf413bac4f0c0b2795de4c",
       "style": "IPY_MODEL_7fe93f0e92f445f2b9eb26c37bb33e12",
       "value": true
      }
     },
     "1ffc5d883a454771a14c0ab9f328fcf3": {
      "model_module": "@jupyter-widgets/base",
      "model_module_version": "1.0.0",
      "model_name": "LayoutModel",
      "state": {}
     },
     "200b72eb0f634c9cb9872c64c4e231f8": {
      "model_module": "@jupyter-widgets/base",
      "model_module_version": "1.0.0",
      "model_name": "LayoutModel",
      "state": {}
     },
     "2061e11c43264be5ac072294cb7e5fa3": {
      "model_module": "@jupyter-widgets/controls",
      "model_module_version": "1.1.0",
      "model_name": "ToggleButtonsStyleModel",
      "state": {
       "button_width": "",
       "description_width": ""
      }
     },
     "2067999da50a4acda922fbebaef4a1f0": {
      "model_module": "@jupyter-widgets/controls",
      "model_module_version": "1.1.0",
      "model_name": "CheckboxModel",
      "state": {
       "description": "135°",
       "disabled": false,
       "layout": "IPY_MODEL_8b54b65353c24895a98b93779b430b43",
       "style": "IPY_MODEL_849c532214cc497bb60d08a05f612cf5",
       "value": true
      }
     },
     "206e7eb772a54f929bdcf9f5a5e09536": {
      "model_module": "@jupyter-widgets/controls",
      "model_module_version": "1.1.0",
      "model_name": "LabelModel",
      "state": {
       "layout": "IPY_MODEL_55114e30eaef4a0baf0b2c8825f04423",
       "style": "IPY_MODEL_69ea7f91f62f4a098c14805203339114",
       "value": "Select how data sets for each detector should be spaced apart (if at all)."
      }
     },
     "2071846215ec4748bdf788719240d122": {
      "model_module": "@jupyter-widgets/controls",
      "model_module_version": "1.1.0",
      "model_name": "CheckboxModel",
      "state": {
       "description": "30°",
       "disabled": false,
       "layout": "IPY_MODEL_b1fc77d5024944e49d73df03a1d5033b",
       "style": "IPY_MODEL_63b8575a0be8460e9235b4700552459c",
       "value": true
      }
     },
     "2071960dfd52469f9263e30e6e9bf0ec": {
      "model_module": "@jupyter-widgets/controls",
      "model_module_version": "1.1.0",
      "model_name": "LabelModel",
      "state": {
       "layout": "IPY_MODEL_9c2341159be54ea0a13ff26b90f2c396",
       "style": "IPY_MODEL_669362fe01604699a1d455ddf43ff835",
       "value": "Select which secondary particle to plot spectra for."
      }
     },
     "207711b6611e4f40ac75df3879820dc6": {
      "model_module": "@jupyter-widgets/controls",
      "model_module_version": "1.1.0",
      "model_name": "ToggleButtonsModel",
      "state": {
       "_options_labels": [
        "N (¹n)",
        "NDC (¹n)",
        "P (¹H)",
        "D (²H)"
       ],
       "button_style": "",
       "description": "Type:",
       "icons": [],
       "index": 0,
       "layout": "IPY_MODEL_a91084f9d3494b6a940831af3dd58f88",
       "style": "IPY_MODEL_4cbffe1b274f49ce81322da62902dd9c",
       "tooltips": [
        "Neutron",
        "Back Target Neutron",
        "Proton",
        "Deuteron"
       ]
      }
     },
     "20aad4b157da4f91bcbe7e43af14ce8c": {
      "model_module": "@jupyter-widgets/base",
      "model_module_version": "1.0.0",
      "model_name": "LayoutModel",
      "state": {}
     },
     "20da3b71f3e3411983b211b99d20ec80": {
      "model_module": "@jupyter-widgets/base",
      "model_module_version": "1.0.0",
      "model_name": "LayoutModel",
      "state": {}
     },
     "20dc665dc20c4b0d804b2fd06aea5e1f": {
      "model_module": "@jupyter-widgets/controls",
      "model_module_version": "1.1.0",
      "model_name": "DescriptionStyleModel",
      "state": {
       "description_width": ""
      }
     },
     "215b0b190f52448c9781d9b9d17ba7cd": {
      "model_module": "@jupyter-widgets/controls",
      "model_module_version": "1.1.0",
      "model_name": "DescriptionStyleModel",
      "state": {
       "description_width": ""
      }
     },
     "21c98fa0b913448fa02f309f8618c074": {
      "model_module": "@jupyter-widgets/base",
      "model_module_version": "1.0.0",
      "model_name": "LayoutModel",
      "state": {}
     },
     "21f02ba46e614e60a7ef3d5ddcb58c4d": {
      "model_module": "@jupyter-widgets/base",
      "model_module_version": "1.0.0",
      "model_name": "LayoutModel",
      "state": {}
     },
     "2203b0e36dc448a6a364d02d9ddc7b10": {
      "model_module": "@jupyter-widgets/controls",
      "model_module_version": "1.1.0",
      "model_name": "DescriptionStyleModel",
      "state": {
       "description_width": ""
      }
     },
     "221bea030d1f40a2b9b84b5abf1b088f": {
      "model_module": "@jupyter-widgets/base",
      "model_module_version": "1.0.0",
      "model_name": "LayoutModel",
      "state": {}
     },
     "2225873d1fc84b7c8f4477065572bcf8": {
      "model_module": "@jupyter-widgets/controls",
      "model_module_version": "1.1.0",
      "model_name": "DescriptionStyleModel",
      "state": {
       "description_width": ""
      }
     },
     "229e8079ccf74a729fedb12eca55d771": {
      "model_module": "@jupyter-widgets/base",
      "model_module_version": "1.0.0",
      "model_name": "LayoutModel",
      "state": {}
     },
     "22aa899d612646b8a6ea754ddf783fa2": {
      "model_module": "@jupyter-widgets/controls",
      "model_module_version": "1.1.0",
      "model_name": "CheckboxModel",
      "state": {
       "description": "10°",
       "disabled": false,
       "layout": "IPY_MODEL_64e57371413542b59172c6948348cc08",
       "style": "IPY_MODEL_2ef1a56ae5bc45fba52f854ad3a9b76f",
       "value": true
      }
     },
     "22e34764293b49aa9522e3c37405d838": {
      "model_module": "@jupyter-widgets/controls",
      "model_module_version": "1.1.0",
      "model_name": "LabelModel",
      "state": {
       "layout": "IPY_MODEL_4e2a53e9f2794258a9dc672297ae031b",
       "style": "IPY_MODEL_a157ce7d887847e0a3fed77d2b0f750a",
       "value": "Select projectile ion energy."
      }
     },
     "22f5fcb0e7c14fb49e8408d1f2bb3cb6": {
      "model_module": "@jupyter-widgets/base",
      "model_module_version": "1.0.0",
      "model_name": "LayoutModel",
      "state": {}
     },
     "236665dcbcc84145aec131dc47a4833b": {
      "model_module": "@jupyter-widgets/controls",
      "model_module_version": "1.1.0",
      "model_name": "DescriptionStyleModel",
      "state": {
       "description_width": ""
      }
     },
     "237c8b13f52c471ebb970a663c67e096": {
      "model_module": "@jupyter-widgets/controls",
      "model_module_version": "1.1.0",
      "model_name": "DescriptionStyleModel",
      "state": {
       "description_width": ""
      }
     },
     "237ce633442a44248c4af8d83c850476": {
      "model_module": "@jupyter-widgets/controls",
      "model_module_version": "1.1.0",
      "model_name": "DescriptionStyleModel",
      "state": {
       "description_width": ""
      }
     },
     "2384053242f84433b39229fbf2e2de3c": {
      "model_module": "@jupyter-widgets/controls",
      "model_module_version": "1.1.0",
      "model_name": "LabelModel",
      "state": {
       "layout": "IPY_MODEL_c9096cce08064afe9a49ae9c2fa7066b",
       "style": "IPY_MODEL_6d7ee98cf6a1461ba5df20b026c4f1d4",
       "value": "Select projectile ion energy."
      }
     },
     "23907f89d8224d0d8f8b6dff967d5a79": {
      "model_module": "@jupyter-widgets/base",
      "model_module_version": "1.0.0",
      "model_name": "LayoutModel",
      "state": {}
     },
     "2390edd9b3c642169437648801af5220": {
      "model_module": "@jupyter-widgets/base",
      "model_module_version": "1.0.0",
      "model_name": "LayoutModel",
      "state": {}
     },
     "23acda008ed343d999adf0515f15bae6": {
      "model_module": "@jupyter-widgets/base",
      "model_module_version": "1.0.0",
      "model_name": "LayoutModel",
      "state": {}
     },
     "23ad429477be4fe7beb80dd502064ac7": {
      "model_module": "@jupyter-widgets/controls",
      "model_module_version": "1.1.0",
      "model_name": "DescriptionStyleModel",
      "state": {
       "description_width": ""
      }
     },
     "23c1b57dfe8f4761b1563240ada6a5b9": {
      "model_module": "@jupyter-widgets/controls",
      "model_module_version": "1.1.0",
      "model_name": "DescriptionStyleModel",
      "state": {
       "description_width": ""
      }
     },
     "23dd98cd3a2f4af9b3fe95992b838186": {
      "model_module": "@jupyter-widgets/controls",
      "model_module_version": "1.1.0",
      "model_name": "DescriptionStyleModel",
      "state": {
       "description_width": ""
      }
     },
     "240653d15a9b498d883a307d46eff2db": {
      "model_module": "@jupyter-widgets/controls",
      "model_module_version": "1.1.0",
      "model_name": "CheckboxModel",
      "state": {
       "description": "80°",
       "disabled": false,
       "layout": "IPY_MODEL_4f5a6e8389cc492184cdfa2a1335dec7",
       "style": "IPY_MODEL_3b0b8b295c814436aa521b533e2e56c8",
       "value": true
      }
     },
     "243c9ba949cf4de2bb60bac6e9decc8d": {
      "model_module": "@jupyter-widgets/controls",
      "model_module_version": "1.1.0",
      "model_name": "ToggleButtonsStyleModel",
      "state": {
       "button_width": "",
       "description_width": ""
      }
     },
     "24be490ab1f64504993213f8766981ce": {
      "model_module": "@jupyter-widgets/base",
      "model_module_version": "1.0.0",
      "model_name": "LayoutModel",
      "state": {}
     },
     "24c22eb0e4364a34aadda045254d1dd3": {
      "model_module": "@jupyter-widgets/controls",
      "model_module_version": "1.1.0",
      "model_name": "CheckboxModel",
      "state": {
       "description": "7.2°",
       "disabled": false,
       "layout": "IPY_MODEL_46b255cfc70a4c64812173744a44a5da",
       "style": "IPY_MODEL_3c181b41a2aa40508ceff12b39798aef",
       "value": true
      }
     },
     "2514ad8ffa01480e8bd6dd3eb68113a7": {
      "model_module": "@jupyter-widgets/controls",
      "model_module_version": "1.1.0",
      "model_name": "DescriptionStyleModel",
      "state": {
       "description_width": ""
      }
     },
     "251dbee8118e4833a50c38ca3bb755d4": {
      "model_module": "@jupyter-widgets/base",
      "model_module_version": "1.0.0",
      "model_name": "LayoutModel",
      "state": {}
     },
     "255bd2ea37c443cdbf7c13594324e3ea": {
      "model_module": "@jupyter-widgets/controls",
      "model_module_version": "1.1.0",
      "model_name": "DescriptionStyleModel",
      "state": {
       "description_width": ""
      }
     },
     "2592cff594e84589b5bf39c835496b59": {
      "model_module": "@jupyter-widgets/base",
      "model_module_version": "1.0.0",
      "model_name": "LayoutModel",
      "state": {}
     },
     "2593de92f9be4007b1f4d477fd4a25a2": {
      "model_module": "@jupyter-widgets/controls",
      "model_module_version": "1.1.0",
      "model_name": "ToggleButtonsStyleModel",
      "state": {
       "button_width": "",
       "description_width": ""
      }
     },
     "259821b2286b437e9e4fe75c6f3d9880": {
      "model_module": "@jupyter-widgets/controls",
      "model_module_version": "1.1.0",
      "model_name": "LabelModel",
      "state": {
       "layout": "IPY_MODEL_1a9341747b8a43e0a169c7d1d639c50f",
       "style": "IPY_MODEL_b190e7ee1cc6456b9d4bb6b79f1a5050",
       "value": "Select which secondary particle to plot spectra for."
      }
     },
     "25a2ab9d4a05493d9ee1a481e7e8e612": {
      "model_module": "@jupyter-widgets/controls",
      "model_module_version": "1.1.0",
      "model_name": "ToggleButtonsStyleModel",
      "state": {
       "button_width": "",
       "description_width": ""
      }
     },
     "25baf2c5edf945f4a344d597340c6131": {
      "model_module": "@jupyter-widgets/controls",
      "model_module_version": "1.1.0",
      "model_name": "LabelModel",
      "state": {
       "layout": "IPY_MODEL_a629492428ad48ee8eb25a68ad4c270b",
       "style": "IPY_MODEL_75704df72b5f482e83d8caa24c07eb4a",
       "value": "Select which secondary particle to plot spectra for."
      }
     },
     "25d96007033c46ebaa20fafb1a8eedb6": {
      "model_module": "@jupyter-widgets/base",
      "model_module_version": "1.0.0",
      "model_name": "LayoutModel",
      "state": {}
     },
     "25f899f8d0f04abf8212ea7933f21da4": {
      "model_module": "@jupyter-widgets/base",
      "model_module_version": "1.0.0",
      "model_name": "LayoutModel",
      "state": {}
     },
     "261a0838854d461eb78da06486178e37": {
      "model_module": "@jupyter-widgets/controls",
      "model_module_version": "1.1.0",
      "model_name": "ToggleButtonsModel",
      "state": {
       "_options_labels": [
        "P (¹H)",
        "D (²H)",
        "T (³H)",
        "S (³He)",
        "A (⁴He)"
       ],
       "button_style": "",
       "description": "Type:",
       "icons": [],
       "index": 0,
       "layout": "IPY_MODEL_3fd3b2faeb074380b2729da5cdd95564",
       "style": "IPY_MODEL_a70b0e978e594f1399789e761e60afbf",
       "tooltips": [
        "Proton",
        "Deuteron",
        "Triton",
        "Helium-3",
        "Helium-4"
       ]
      }
     },
     "261c847ff5c240b2931f0d21e32a7ac2": {
      "model_module": "@jupyter-widgets/controls",
      "model_module_version": "1.1.0",
      "model_name": "LabelModel",
      "state": {
       "layout": "IPY_MODEL_a04090affc934abca24a590fc6019c01",
       "style": "IPY_MODEL_1245431019ef4cbaa2e0848f14663203",
       "value": "Select upstream target mass thickness."
      }
     },
     "2676b29ceda14a4cafcf9ff791002a06": {
      "model_module": "@jupyter-widgets/controls",
      "model_module_version": "1.1.0",
      "model_name": "LabelModel",
      "state": {
       "layout": "IPY_MODEL_1411d8279de942bcac29d5e365385d3c",
       "style": "IPY_MODEL_0faaac1d69f34135b1b9e3cc6ffeb29c",
       "value": "Select the detector angles to plot."
      }
     },
     "268deff161c442f6baaa7d2a79d4c5a9": {
      "model_module": "@jupyter-widgets/base",
      "model_module_version": "1.0.0",
      "model_name": "LayoutModel",
      "state": {}
     },
     "269da9fb17a54ca783dafdd295da5430": {
      "model_module": "@jupyter-widgets/controls",
      "model_module_version": "1.1.0",
      "model_name": "DescriptionStyleModel",
      "state": {
       "description_width": ""
      }
     },
     "26c41cad8d4a41a7a7c9491a374f09c9": {
      "model_module": "@jupyter-widgets/controls",
      "model_module_version": "1.1.0",
      "model_name": "LabelModel",
      "state": {
       "layout": "IPY_MODEL_611f22c67c284b8a81ffc118bc58ad4b",
       "style": "IPY_MODEL_6e9bce0cd9c54094b088b7a7566773dd",
       "value": "Select projectile ion energy."
      }
     },
     "274735463f814b4bb41f95977294b805": {
      "model_module": "@jupyter-widgets/base",
      "model_module_version": "1.0.0",
      "model_name": "LayoutModel",
      "state": {}
     },
     "2791d37e0d2848a1a800234bdda11304": {
      "model_module": "@jupyter-widgets/base",
      "model_module_version": "1.0.0",
      "model_name": "LayoutModel",
      "state": {}
     },
     "27bf5f266f9f45508684476bec9b8a23": {
      "model_module": "@jupyter-widgets/controls",
      "model_module_version": "1.1.0",
      "model_name": "CheckboxModel",
      "state": {
       "description": "10°",
       "disabled": false,
       "layout": "IPY_MODEL_f812ebabef9146fbb976efd2dd979889",
       "style": "IPY_MODEL_35ebebb3f77f4229bcefca9d8c5b1045",
       "value": true
      }
     },
     "27d06d8380564f648b4eb15a37593a14": {
      "model_module": "@jupyter-widgets/controls",
      "model_module_version": "1.1.0",
      "model_name": "CheckboxModel",
      "state": {
       "description": "80°",
       "disabled": false,
       "layout": "IPY_MODEL_bf3f53a943e7415d8dcc29ce937d5d99",
       "style": "IPY_MODEL_4a159ef5829140938004cae24842987b",
       "value": true
      }
     },
     "27d5cb4b25674bd8b42472f81f0d63cb": {
      "model_module": "@jupyter-widgets/controls",
      "model_module_version": "1.1.0",
      "model_name": "CheckboxModel",
      "state": {
       "description": "10°",
       "disabled": false,
       "layout": "IPY_MODEL_0a82ab59695f43bab8f1746b3a2e4905",
       "style": "IPY_MODEL_ba8a10037e434f2aa71abde4f5d250dd",
       "value": true
      }
     },
     "27e3cf1e50b545d29cf16088973aa139": {
      "model_module": "@jupyter-widgets/controls",
      "model_module_version": "1.1.0",
      "model_name": "DescriptionStyleModel",
      "state": {
       "description_width": ""
      }
     },
     "28216aa714064d369f4eb48ecb4ef60f": {
      "model_module": "@jupyter-widgets/controls",
      "model_module_version": "1.1.0",
      "model_name": "DescriptionStyleModel",
      "state": {
       "description_width": ""
      }
     },
     "283922567ec24a658832eb328a06242b": {
      "model_module": "@jupyter-widgets/controls",
      "model_module_version": "1.1.0",
      "model_name": "CheckboxModel",
      "state": {
       "description": "Experiment",
       "disabled": false,
       "layout": "IPY_MODEL_ae7dcbfed4f64731b92fa302d76824a5",
       "style": "IPY_MODEL_634950df2f1743129effab1a202ebd6c",
       "value": true
      }
     },
     "2840e65aec3c47d3837a37a936e92cd1": {
      "model_module": "@jupyter-widgets/controls",
      "model_module_version": "1.1.0",
      "model_name": "DescriptionStyleModel",
      "state": {
       "description_width": ""
      }
     },
     "28915be44f144a8b8768044bbba38930": {
      "model_module": "@jupyter-widgets/controls",
      "model_module_version": "1.1.0",
      "model_name": "CheckboxModel",
      "state": {
       "description": "30°",
       "disabled": false,
       "layout": "IPY_MODEL_b4570addcf0d4ba69011271c073dbf3c",
       "style": "IPY_MODEL_ce1ca5fc584746ed8a4fe751652309bd",
       "value": true
      }
     },
     "2893d9b3ad6d43bf8b2cc018f9be7175": {
      "model_module": "@jupyter-widgets/controls",
      "model_module_version": "1.1.0",
      "model_name": "LabelModel",
      "state": {
       "layout": "IPY_MODEL_f2747acdaa6146c7bfbced92bc3f8313",
       "style": "IPY_MODEL_5d0203b4421942389bb57b1c40fb9970",
       "value": "Select upstream target mass thickness."
      }
     },
     "28bd2382bcf44b14bbe23a831490798c": {
      "model_module": "@jupyter-widgets/controls",
      "model_module_version": "1.1.0",
      "model_name": "CheckboxModel",
      "state": {
       "description": "10°",
       "disabled": false,
       "layout": "IPY_MODEL_fd601da03285408d9dab1b4e589015f8",
       "style": "IPY_MODEL_27e3cf1e50b545d29cf16088973aa139",
       "value": true
      }
     },
     "28c3fe0386cf482fae9099e6ae852596": {
      "model_module": "@jupyter-widgets/base",
      "model_module_version": "1.0.0",
      "model_name": "LayoutModel",
      "state": {}
     },
     "28c6e8a53b30499788d694073344f160": {
      "model_module": "@jupyter-widgets/controls",
      "model_module_version": "1.1.0",
      "model_name": "ToggleButtonsStyleModel",
      "state": {
       "button_width": "",
       "description_width": ""
      }
     },
     "28cb64bf993548d4ac314cacc750404a": {
      "model_module": "@jupyter-widgets/controls",
      "model_module_version": "1.1.0",
      "model_name": "DescriptionStyleModel",
      "state": {
       "description_width": ""
      }
     },
     "2946f28d1a3b4f0d82cce7206869c124": {
      "model_module": "@jupyter-widgets/controls",
      "model_module_version": "1.1.0",
      "model_name": "CheckboxModel",
      "state": {
       "description": "30°",
       "disabled": false,
       "layout": "IPY_MODEL_a1ba6864738b4cca8debf4d5215d5213",
       "style": "IPY_MODEL_1c450c8f804a47ec8b0823ee81fcc1a9",
       "value": true
      }
     },
     "2959c5f6f302430584bab3b78b19d816": {
      "model_module": "@jupyter-widgets/controls",
      "model_module_version": "1.1.0",
      "model_name": "CheckboxModel",
      "state": {
       "description": "28.2°",
       "disabled": false,
       "layout": "IPY_MODEL_32e719f97d234a248bcbaf5d96dfd4a6",
       "style": "IPY_MODEL_7b0520fc4f674c48beda1fd2174f737c",
       "value": true
      }
     },
     "295a0c1f17204f57beb0788ecce78f07": {
      "model_module": "@jupyter-widgets/controls",
      "model_module_version": "1.1.0",
      "model_name": "DescriptionStyleModel",
      "state": {
       "description_width": ""
      }
     },
     "298021c8e8b04b778ba3e3be8f36f9d6": {
      "model_module": "@jupyter-widgets/base",
      "model_module_version": "1.0.0",
      "model_name": "LayoutModel",
      "state": {}
     },
     "2a459902ad7c4a8298153c85b011898a": {
      "model_module": "@jupyter-widgets/controls",
      "model_module_version": "1.1.0",
      "model_name": "DescriptionStyleModel",
      "state": {
       "description_width": ""
      }
     },
     "2a4f94f6fc7342c99b7ed5068f1975d8": {
      "model_module": "@jupyter-widgets/controls",
      "model_module_version": "1.1.0",
      "model_name": "DescriptionStyleModel",
      "state": {
       "description_width": ""
      }
     },
     "2a6a5bce17a946f98b9b7c3a32c9d1cd": {
      "model_module": "@jupyter-widgets/base",
      "model_module_version": "1.0.0",
      "model_name": "LayoutModel",
      "state": {}
     },
     "2aa9e62ef0e34d62baf0e57cb97ecb73": {
      "model_module": "@jupyter-widgets/base",
      "model_module_version": "1.0.0",
      "model_name": "LayoutModel",
      "state": {}
     },
     "2aac0176a49544ad9d78d854909dc5a1": {
      "model_module": "@jupyter-widgets/controls",
      "model_module_version": "1.1.0",
      "model_name": "ToggleButtonsStyleModel",
      "state": {
       "button_width": "",
       "description_width": ""
      }
     },
     "2ae593c4383e45e9ae578cacbd91a07c": {
      "model_module": "@jupyter-widgets/base",
      "model_module_version": "1.0.0",
      "model_name": "LayoutModel",
      "state": {}
     },
     "2b911a2ee8294942a8efb25e06c96439": {
      "model_module": "@jupyter-widgets/controls",
      "model_module_version": "1.1.0",
      "model_name": "DescriptionStyleModel",
      "state": {
       "description_width": ""
      }
     },
     "2b9c12ef12d14a3f9eddbac713076099": {
      "model_module": "@jupyter-widgets/controls",
      "model_module_version": "1.1.0",
      "model_name": "CheckboxModel",
      "state": {
       "description": "135°",
       "disabled": false,
       "layout": "IPY_MODEL_fca467fbacda4366ac6d71ccd5b56cfc",
       "style": "IPY_MODEL_d47e2aa139ec4bc48fe1cd293fbfea06",
       "value": true
      }
     },
     "2ba975e5fd8f40309db408fb0721daff": {
      "model_module": "@jupyter-widgets/controls",
      "model_module_version": "1.1.0",
      "model_name": "CheckboxModel",
      "state": {
       "description": "30°",
       "disabled": false,
       "layout": "IPY_MODEL_ffc0f64b49c84d55873df730ed3f2593",
       "style": "IPY_MODEL_89466c02b68748f8a436e8f91ceaa1c8",
       "value": true
      }
     },
     "2bc9da5c0a8f480d89a14f33d0641517": {
      "model_module": "@jupyter-widgets/controls",
      "model_module_version": "1.1.0",
      "model_name": "CheckboxModel",
      "state": {
       "description": "PHITS simulated",
       "disabled": false,
       "layout": "IPY_MODEL_494dabc7ce2945f19239370be71cc656",
       "style": "IPY_MODEL_dc2fd02629da40079836a46a6d085d52",
       "value": true
      }
     },
     "2bfba8157b8447fca9e7126134d36d87": {
      "model_module": "@jupyter-widgets/base",
      "model_module_version": "1.0.0",
      "model_name": "LayoutModel",
      "state": {}
     },
     "2c1995101fa74608bb3c56edc2c8d1c6": {
      "model_module": "@jupyter-widgets/base",
      "model_module_version": "1.0.0",
      "model_name": "LayoutModel",
      "state": {}
     },
     "2c1a48858de5405496aade8f31332dc4": {
      "model_module": "@jupyter-widgets/controls",
      "model_module_version": "1.1.0",
      "model_name": "DescriptionStyleModel",
      "state": {
       "description_width": ""
      }
     },
     "2c23d7a990ae4a2684dd296d88e9d850": {
      "model_module": "@jupyter-widgets/controls",
      "model_module_version": "1.1.0",
      "model_name": "CheckboxModel",
      "state": {
       "description": "80°",
       "disabled": false,
       "layout": "IPY_MODEL_24be490ab1f64504993213f8766981ce",
       "style": "IPY_MODEL_ea8cf577676a4f5c815dc001591cca70",
       "value": true
      }
     },
     "2c283eac07974b8c9dc6bcd92671f261": {
      "model_module": "@jupyter-widgets/controls",
      "model_module_version": "1.1.0",
      "model_name": "DescriptionStyleModel",
      "state": {
       "description_width": ""
      }
     },
     "2c2d8136b99342bb82edb55ff49b1e88": {
      "model_module": "@jupyter-widgets/controls",
      "model_module_version": "1.1.0",
      "model_name": "CheckboxModel",
      "state": {
       "description": "45°",
       "disabled": false,
       "layout": "IPY_MODEL_605082e0f753458887d4cb323c5f3cab",
       "style": "IPY_MODEL_a6db707717084bd98e064729160813cb",
       "value": true
      }
     },
     "2c319db6eb8d471b971609779e6b519d": {
      "model_module": "@jupyter-widgets/controls",
      "model_module_version": "1.1.0",
      "model_name": "CheckboxModel",
      "state": {
       "description": "30°",
       "disabled": false,
       "layout": "IPY_MODEL_d6a7cc457e3742c183d9af3d1a0aacbd",
       "style": "IPY_MODEL_6902a3d0f5ed4573bc62d9ca3b441fe5",
       "value": true
      }
     },
     "2c4ef4f3e5e44b1fb9824dfee73d8afe": {
      "model_module": "@jupyter-widgets/controls",
      "model_module_version": "1.1.0",
      "model_name": "CheckboxModel",
      "state": {
       "description": "PHITS simulated",
       "disabled": false,
       "layout": "IPY_MODEL_785390cd756d49a19e9964c3010cb559",
       "style": "IPY_MODEL_e5735cc6219041ce86e8dd86b310dc02",
       "value": true
      }
     },
     "2c677bde966440d1ab1d799e4a999cc7": {
      "model_module": "@jupyter-widgets/base",
      "model_module_version": "1.0.0",
      "model_name": "LayoutModel",
      "state": {}
     },
     "2c74d1c741714f67aa3c29cd6db0295b": {
      "model_module": "@jupyter-widgets/base",
      "model_module_version": "1.0.0",
      "model_name": "LayoutModel",
      "state": {}
     },
     "2c7ef81276354c359d1e6d8d4d7f776f": {
      "model_module": "@jupyter-widgets/base",
      "model_module_version": "1.0.0",
      "model_name": "LayoutModel",
      "state": {}
     },
     "2ca819c4502f4d179b97705857a3cea9": {
      "model_module": "@jupyter-widgets/controls",
      "model_module_version": "1.1.0",
      "model_name": "DescriptionStyleModel",
      "state": {
       "description_width": ""
      }
     },
     "2cbce1b442a14338ac65ea260a0b4912": {
      "model_module": "@jupyter-widgets/controls",
      "model_module_version": "1.1.0",
      "model_name": "DescriptionStyleModel",
      "state": {
       "description_width": ""
      }
     },
     "2d24c806205140ef98e9efaaaec68b3d": {
      "model_module": "@jupyter-widgets/controls",
      "model_module_version": "1.1.0",
      "model_name": "CheckboxModel",
      "state": {
       "description": "60°",
       "disabled": false,
       "layout": "IPY_MODEL_b8344f383a404edcbad1b84fd6237079",
       "style": "IPY_MODEL_134dbfaf626f4f0188ccfb5e92dc8b4c",
       "value": true
      }
     },
     "2d4746af358c4294b09b4b45f64dc14c": {
      "model_module": "@jupyter-widgets/controls",
      "model_module_version": "1.1.0",
      "model_name": "CheckboxModel",
      "state": {
       "description": "135°",
       "disabled": false,
       "layout": "IPY_MODEL_407138ee5cd64b1f823f611486fac5ef",
       "style": "IPY_MODEL_b576ea33eaae4f5881e5e4345ac108c8",
       "value": true
      }
     },
     "2d7a0f4e9d9247759bfa556484a8b8e5": {
      "model_module": "@jupyter-widgets/controls",
      "model_module_version": "1.1.0",
      "model_name": "DescriptionStyleModel",
      "state": {
       "description_width": ""
      }
     },
     "2dc29aad853f45168fd248a8554269c5": {
      "model_module": "@jupyter-widgets/base",
      "model_module_version": "1.0.0",
      "model_name": "LayoutModel",
      "state": {}
     },
     "2df331ed0947481499b39951a8f811cd": {
      "model_module": "@jupyter-widgets/controls",
      "model_module_version": "1.1.0",
      "model_name": "ToggleButtonsStyleModel",
      "state": {
       "button_width": "",
       "description_width": ""
      }
     },
     "2e3a847b8cec4b5dbe367728c18d5a57": {
      "model_module": "@jupyter-widgets/controls",
      "model_module_version": "1.1.0",
      "model_name": "DescriptionStyleModel",
      "state": {
       "description_width": ""
      }
     },
     "2e3b0853fda640c6afe772d88c2b942d": {
      "model_module": "@jupyter-widgets/controls",
      "model_module_version": "1.1.0",
      "model_name": "LabelModel",
      "state": {
       "layout": "IPY_MODEL_b3986e02e21e4ee1a1966105d74846a0",
       "style": "IPY_MODEL_2d7a0f4e9d9247759bfa556484a8b8e5",
       "value": "Select which secondary particle to plot spectra for."
      }
     },
     "2e428f21ef224ed19a67939436536d65": {
      "model_module": "@jupyter-widgets/base",
      "model_module_version": "1.0.0",
      "model_name": "LayoutModel",
      "state": {}
     },
     "2e656e4db9bd4b2e92f145a36c270073": {
      "model_module": "@jupyter-widgets/controls",
      "model_module_version": "1.1.0",
      "model_name": "CheckboxModel",
      "state": {
       "description": "30°",
       "disabled": false,
       "layout": "IPY_MODEL_01ffdb0f8e284eb5bc5ea005cd6710e7",
       "style": "IPY_MODEL_95bf02f7406a4d3195351765c5517c43",
       "value": true
      }
     },
     "2e6eb0dd8f87479ab08dc9000d5723d2": {
      "model_module": "@jupyter-widgets/base",
      "model_module_version": "1.0.0",
      "model_name": "LayoutModel",
      "state": {}
     },
     "2e728ca3c2034b8086741be0d71e3946": {
      "model_module": "@jupyter-widgets/controls",
      "model_module_version": "1.1.0",
      "model_name": "DescriptionStyleModel",
      "state": {
       "description_width": ""
      }
     },
     "2e83bb0670b34e6faa903e7ec596b2c0": {
      "model_module": "@jupyter-widgets/controls",
      "model_module_version": "1.1.0",
      "model_name": "LabelModel",
      "state": {
       "layout": "IPY_MODEL_f71727a8872d46bfa0995c5545823cfc",
       "style": "IPY_MODEL_0746ca285bc24b84bbfb25149be57bd6",
       "value": "Select the detector angles to plot."
      }
     },
     "2ec3f5d8d41943d7aaab4f5b79048404": {
      "model_module": "@jupyter-widgets/controls",
      "model_module_version": "1.1.0",
      "model_name": "LabelModel",
      "state": {
       "layout": "IPY_MODEL_a3a4a3661a1245309cad93b6359eb7e0",
       "style": "IPY_MODEL_4259e31010e14417960adc84dabd8764",
       "value": "Select how data sets for each detector should be spaced apart (if at all)."
      }
     },
     "2ef0fbe0efa748768c719411257d997f": {
      "model_module": "@jupyter-widgets/controls",
      "model_module_version": "1.1.0",
      "model_name": "LabelModel",
      "state": {
       "layout": "IPY_MODEL_4ff00da7b2f240d1a374a3fc4e320df3",
       "style": "IPY_MODEL_ba69a78e6aeb4bbea77b34d2f431ded8",
       "value": "Select the detector angles to plot."
      }
     },
     "2ef1a56ae5bc45fba52f854ad3a9b76f": {
      "model_module": "@jupyter-widgets/controls",
      "model_module_version": "1.1.0",
      "model_name": "DescriptionStyleModel",
      "state": {
       "description_width": ""
      }
     },
     "2f00624ce4034144b2028ac5b987042f": {
      "model_module": "@jupyter-widgets/controls",
      "model_module_version": "1.1.0",
      "model_name": "CheckboxModel",
      "state": {
       "description": "45°",
       "disabled": false,
       "layout": "IPY_MODEL_e992d12a9729434d8f31fc94ade3e124",
       "style": "IPY_MODEL_884bb46f7a954ce38ebb5635c40a21d2",
       "value": true
      }
     },
     "2f0f1b0111db437d8dc6c27d468e6a66": {
      "model_module": "@jupyter-widgets/controls",
      "model_module_version": "1.1.0",
      "model_name": "DescriptionStyleModel",
      "state": {
       "description_width": ""
      }
     },
     "2f59f0148d4b4c318a233e7549c7a124": {
      "model_module": "@jupyter-widgets/controls",
      "model_module_version": "1.1.0",
      "model_name": "DescriptionStyleModel",
      "state": {
       "description_width": ""
      }
     },
     "2f9f375ed8694a78a0160c1848befb47": {
      "model_module": "@jupyter-widgets/base",
      "model_module_version": "1.0.0",
      "model_name": "LayoutModel",
      "state": {}
     },
     "2fcfc7521e804977b7d8840c05e78ec0": {
      "model_module": "@jupyter-widgets/controls",
      "model_module_version": "1.1.0",
      "model_name": "DescriptionStyleModel",
      "state": {
       "description_width": ""
      }
     },
     "2fdaee955b814f53adcb0097d9ca7d0a": {
      "model_module": "@jupyter-widgets/base",
      "model_module_version": "1.0.0",
      "model_name": "LayoutModel",
      "state": {}
     },
     "2fe070cfb385435db6261ac22e7b218f": {
      "model_module": "@jupyter-widgets/base",
      "model_module_version": "1.0.0",
      "model_name": "LayoutModel",
      "state": {}
     },
     "3011a48cf2e24233b89495b1c6d14e84": {
      "model_module": "@jupyter-widgets/controls",
      "model_module_version": "1.1.0",
      "model_name": "CheckboxModel",
      "state": {
       "description": "60°",
       "disabled": false,
       "layout": "IPY_MODEL_0b259ca278e647fdae7df89f47deff34",
       "style": "IPY_MODEL_10f183f605ce403daad19007e941f595",
       "value": true
      }
     },
     "3057daa3aeee4dd19e0ef7f89f0cf16c": {
      "model_module": "@jupyter-widgets/controls",
      "model_module_version": "1.1.0",
      "model_name": "DescriptionStyleModel",
      "state": {
       "description_width": ""
      }
     },
     "306d5473b29a48398ef0a64fa3a4e3b9": {
      "model_module": "@jupyter-widgets/controls",
      "model_module_version": "1.1.0",
      "model_name": "ToggleButtonsModel",
      "state": {
       "_options_labels": [
        "400 MeV",
        "800 MeV",
        "2500 MeV"
       ],
       "button_style": "",
       "description": "Energy:",
       "icons": [],
       "index": 0,
       "layout": "IPY_MODEL_c194486c042d403cbe2d0be71a136b56",
       "style": "IPY_MODEL_e366da6eff8946f28914cb82be8ba5eb",
       "tooltips": [
        "lowest energy",
        "middle energy",
        "highest energy"
       ]
      }
     },
     "30a95d8f1e9243a7b1ba9dabdd13c516": {
      "model_module": "@jupyter-widgets/controls",
      "model_module_version": "1.1.0",
      "model_name": "DescriptionStyleModel",
      "state": {
       "description_width": ""
      }
     },
     "30f4d12206a246b7a77d5dc6a690b65f": {
      "model_module": "@jupyter-widgets/controls",
      "model_module_version": "1.1.0",
      "model_name": "DescriptionStyleModel",
      "state": {
       "description_width": ""
      }
     },
     "31095c058b584486b014ec783168439c": {
      "model_module": "@jupyter-widgets/controls",
      "model_module_version": "1.1.0",
      "model_name": "CheckboxModel",
      "state": {
       "description": "10°",
       "disabled": false,
       "layout": "IPY_MODEL_2791d37e0d2848a1a800234bdda11304",
       "style": "IPY_MODEL_42b67d4ab06f47b4961cd3afdd00554c",
       "value": true
      }
     },
     "312d0650ec004f909b6f98ff9ccc158f": {
      "model_module": "@jupyter-widgets/base",
      "model_module_version": "1.0.0",
      "model_name": "LayoutModel",
      "state": {}
     },
     "3189369a0cac44e0a6e3b6b6d8657f93": {
      "model_module": "@jupyter-widgets/controls",
      "model_module_version": "1.1.0",
      "model_name": "ToggleButtonsStyleModel",
      "state": {
       "button_width": "",
       "description_width": ""
      }
     },
     "31903ee12cc046d4a5f3c48980d03de8": {
      "model_module": "@jupyter-widgets/base",
      "model_module_version": "1.0.0",
      "model_name": "LayoutModel",
      "state": {}
     },
     "31b5d3d06e6242c9b5a0fb11f5fd7319": {
      "model_module": "@jupyter-widgets/controls",
      "model_module_version": "1.1.0",
      "model_name": "CheckboxModel",
      "state": {
       "description": "60°",
       "disabled": false,
       "layout": "IPY_MODEL_e75e86304c0e43ab9315309c63aae2b6",
       "style": "IPY_MODEL_3e47058c1caa4142825ba25fd6d0dc58",
       "value": false
      }
     },
     "31bedefb041d45bc8089755ad4dee01e": {
      "model_module": "@jupyter-widgets/controls",
      "model_module_version": "1.1.0",
      "model_name": "DescriptionStyleModel",
      "state": {
       "description_width": ""
      }
     },
     "31e9545bb3694ca09a8d39eb049284a8": {
      "model_module": "@jupyter-widgets/base",
      "model_module_version": "1.0.0",
      "model_name": "LayoutModel",
      "state": {}
     },
     "31eccb51f3554686a99127acb7d976ab": {
      "model_module": "@jupyter-widgets/controls",
      "model_module_version": "1.1.0",
      "model_name": "DescriptionStyleModel",
      "state": {
       "description_width": ""
      }
     },
     "322ac2354e984c30b66e0b21793eded5": {
      "model_module": "@jupyter-widgets/controls",
      "model_module_version": "1.1.0",
      "model_name": "CheckboxModel",
      "state": {
       "description": "60°",
       "disabled": false,
       "layout": "IPY_MODEL_551f1768743d48d6b4d9eabce3889290",
       "style": "IPY_MODEL_4bfd016f6b254de38d2ec87c639a380d",
       "value": true
      }
     },
     "325e49be119544de8398173a30e3339c": {
      "model_module": "@jupyter-widgets/controls",
      "model_module_version": "1.1.0",
      "model_name": "DescriptionStyleModel",
      "state": {
       "description_width": ""
      }
     },
     "32ae16106a1c4496831fc9941be86476": {
      "model_module": "@jupyter-widgets/controls",
      "model_module_version": "1.1.0",
      "model_name": "DescriptionStyleModel",
      "state": {
       "description_width": ""
      }
     },
     "32e719f97d234a248bcbaf5d96dfd4a6": {
      "model_module": "@jupyter-widgets/base",
      "model_module_version": "1.0.0",
      "model_name": "LayoutModel",
      "state": {}
     },
     "33262a01067344d4b83158d52895aef4": {
      "model_module": "@jupyter-widgets/controls",
      "model_module_version": "1.1.0",
      "model_name": "CheckboxModel",
      "state": {
       "description": "28.2°",
       "disabled": false,
       "layout": "IPY_MODEL_71683c8b18754c3b99996c8c2f587ece",
       "style": "IPY_MODEL_f97258fbbb4c467ebb072327200c0105",
       "value": true
      }
     },
     "33472369a0234ea3a9dcf27c09cd7f7b": {
      "model_module": "@jupyter-widgets/base",
      "model_module_version": "1.0.0",
      "model_name": "LayoutModel",
      "state": {}
     },
     "3362abff56024a28bb3f806b1c8512b0": {
      "model_module": "@jupyter-widgets/base",
      "model_module_version": "1.0.0",
      "model_name": "LayoutModel",
      "state": {}
     },
     "3390f09b3a6d4015a170c63a418e3897": {
      "model_module": "@jupyter-widgets/base",
      "model_module_version": "1.0.0",
      "model_name": "LayoutModel",
      "state": {}
     },
     "3399a4c8e41742b19dc0a8b326200e48": {
      "model_module": "@jupyter-widgets/controls",
      "model_module_version": "1.1.0",
      "model_name": "DescriptionStyleModel",
      "state": {
       "description_width": ""
      }
     },
     "33c23a4720244974b92f5a5e7e3f3fd9": {
      "model_module": "@jupyter-widgets/controls",
      "model_module_version": "1.1.0",
      "model_name": "DescriptionStyleModel",
      "state": {
       "description_width": ""
      }
     },
     "3409f20a2b44478ca3f017d84b25150d": {
      "model_module": "@jupyter-widgets/controls",
      "model_module_version": "1.1.0",
      "model_name": "DescriptionStyleModel",
      "state": {
       "description_width": ""
      }
     },
     "340f34f609204242aa0bc073ad49ea85": {
      "model_module": "@jupyter-widgets/controls",
      "model_module_version": "1.1.0",
      "model_name": "CheckboxModel",
      "state": {
       "description": "32.7°",
       "disabled": false,
       "layout": "IPY_MODEL_20da3b71f3e3411983b211b99d20ec80",
       "style": "IPY_MODEL_f4ed453b5306419e94a21b49cba03d49",
       "value": true
      }
     },
     "3446711576864bc6be7fe4b295e27a95": {
      "model_module": "@jupyter-widgets/base",
      "model_module_version": "1.0.0",
      "model_name": "LayoutModel",
      "state": {}
     },
     "34c7f5a56df04a03a6dc535e5f75739a": {
      "model_module": "@jupyter-widgets/base",
      "model_module_version": "1.0.0",
      "model_name": "LayoutModel",
      "state": {}
     },
     "34ccd4af033749bbbecce75ec409970d": {
      "model_module": "@jupyter-widgets/controls",
      "model_module_version": "1.1.0",
      "model_name": "LabelModel",
      "state": {
       "layout": "IPY_MODEL_823ff30f4d3648aca3a0c04c4d588ac5",
       "style": "IPY_MODEL_6e5f793677974678bc6e7082c99effcc",
       "value": "Select the detector angles to plot."
      }
     },
     "34f5e5e0307f417ea79d6d97d9afd5f1": {
      "model_module": "@jupyter-widgets/base",
      "model_module_version": "1.0.0",
      "model_name": "LayoutModel",
      "state": {}
     },
     "35808e4c571c4f76a4628148a7a69c54": {
      "model_module": "@jupyter-widgets/controls",
      "model_module_version": "1.1.0",
      "model_name": "DescriptionStyleModel",
      "state": {
       "description_width": ""
      }
     },
     "358e4741551d4c4686ca6b750bcca1d4": {
      "model_module": "@jupyter-widgets/controls",
      "model_module_version": "1.1.0",
      "model_name": "DescriptionStyleModel",
      "state": {
       "description_width": ""
      }
     },
     "3593d7ffc1b94e93a5405f2cd90d0fa9": {
      "model_module": "@jupyter-widgets/controls",
      "model_module_version": "1.1.0",
      "model_name": "ToggleButtonsModel",
      "state": {
       "_options_labels": [
        "20 g/cm²",
        "40 g/cm²",
        "60 g/cm²"
       ],
       "button_style": "",
       "description": "Thickness:",
       "icons": [],
       "index": 0,
       "layout": "IPY_MODEL_a1c93c2d5f0a42e384fcdabc98b67ee2",
       "style": "IPY_MODEL_eefb103b46b840978229669dc9bbcdce",
       "tooltips": [
        "20 g/cm² Polyethylene",
        "40 g/cm² Polyethylene",
        "60 g/cm² Polyethylene"
       ]
      }
     },
     "35a028bfb2da4198a6a1346e8c14e8ab": {
      "model_module": "@jupyter-widgets/controls",
      "model_module_version": "1.1.0",
      "model_name": "CheckboxModel",
      "state": {
       "description": "45°",
       "disabled": false,
       "layout": "IPY_MODEL_98753889ae644f97a385da2841d81ec5",
       "style": "IPY_MODEL_b6ca782bee7b416ab05bbad8e0002595",
       "value": false
      }
     },
     "35c7769a9a5642218152dd0a873130f5": {
      "model_module": "@jupyter-widgets/base",
      "model_module_version": "1.0.0",
      "model_name": "LayoutModel",
      "state": {}
     },
     "35ced27b879c42d9b20e796e03c2f102": {
      "model_module": "@jupyter-widgets/controls",
      "model_module_version": "1.1.0",
      "model_name": "DescriptionStyleModel",
      "state": {
       "description_width": ""
      }
     },
     "35d60a1a4f4448bc854f51196b287f24": {
      "model_module": "@jupyter-widgets/controls",
      "model_module_version": "1.1.0",
      "model_name": "CheckboxModel",
      "state": {
       "description": "60°",
       "disabled": false,
       "layout": "IPY_MODEL_11df27aa5e3847d59b5cbdd1ed1e833d",
       "style": "IPY_MODEL_5c1891fc0f3e494bb2daac66c62f0605",
       "value": true
      }
     },
     "35ebebb3f77f4229bcefca9d8c5b1045": {
      "model_module": "@jupyter-widgets/controls",
      "model_module_version": "1.1.0",
      "model_name": "DescriptionStyleModel",
      "state": {
       "description_width": ""
      }
     },
     "35fa8266494c4442b543f10adf20caa1": {
      "model_module": "@jupyter-widgets/controls",
      "model_module_version": "1.1.0",
      "model_name": "CheckboxModel",
      "state": {
       "description": "30°",
       "disabled": false,
       "layout": "IPY_MODEL_b0850357b9f3483ebcb764038629e4b6",
       "style": "IPY_MODEL_ed728a04d4bc4e46bfe229bbe18d946c",
       "value": true
      }
     },
     "3619c3db11734ddeae8b2aa3f02f7023": {
      "model_module": "@jupyter-widgets/base",
      "model_module_version": "1.0.0",
      "model_name": "LayoutModel",
      "state": {}
     },
     "365cc349dabc4ae5a0219329152a8f57": {
      "model_module": "@jupyter-widgets/controls",
      "model_module_version": "1.1.0",
      "model_name": "ToggleButtonsStyleModel",
      "state": {
       "button_width": "",
       "description_width": ""
      }
     },
     "367b1a0957de43d1b458dacce96a2b0d": {
      "model_module": "@jupyter-widgets/controls",
      "model_module_version": "1.1.0",
      "model_name": "DescriptionStyleModel",
      "state": {
       "description_width": ""
      }
     },
     "36aaaf9c7c06486d942f2d4e58e395d1": {
      "model_module": "@jupyter-widgets/controls",
      "model_module_version": "1.1.0",
      "model_name": "ToggleButtonsModel",
      "state": {
       "_options_labels": [
        "N (¹n)",
        "NDC (¹n)",
        "P (¹H)",
        "D (²H)",
        "T (³H)",
        "S (³He)",
        "A (⁴He)"
       ],
       "button_style": "",
       "description": "Particle:",
       "icons": [],
       "index": 0,
       "layout": "IPY_MODEL_9a1f984c3c80443292067dab89b6fd20",
       "style": "IPY_MODEL_048c97d7f51846b8a8fb4df0561446da",
       "tooltips": [
        "Neutron",
        "Back Target Neutron",
        "Proton",
        "Deuteron",
        "Triton",
        "Helium-3",
        "Helium-4"
       ]
      }
     },
     "36edc3b7ec8a44099c8f8c0543d9f99a": {
      "model_module": "@jupyter-widgets/controls",
      "model_module_version": "1.1.0",
      "model_name": "DescriptionStyleModel",
      "state": {
       "description_width": ""
      }
     },
     "377f418dbd6a41b9b98c2d82f062e64e": {
      "model_module": "@jupyter-widgets/controls",
      "model_module_version": "1.1.0",
      "model_name": "ToggleButtonsStyleModel",
      "state": {
       "button_width": "",
       "description_width": ""
      }
     },
     "379905cd5a194accbe7b7a843105614d": {
      "model_module": "@jupyter-widgets/controls",
      "model_module_version": "1.1.0",
      "model_name": "DescriptionStyleModel",
      "state": {
       "description_width": ""
      }
     },
     "381a1152e0f54045a01f73deaa3a0891": {
      "model_module": "@jupyter-widgets/controls",
      "model_module_version": "1.1.0",
      "model_name": "DescriptionStyleModel",
      "state": {
       "description_width": ""
      }
     },
     "383081b3ad19498490196aa4c2e92f84": {
      "model_module": "@jupyter-widgets/base",
      "model_module_version": "1.0.0",
      "model_name": "LayoutModel",
      "state": {}
     },
     "384c2f9e6a9240a7aac3d6b7beeb3c2e": {
      "model_module": "@jupyter-widgets/base",
      "model_module_version": "1.0.0",
      "model_name": "LayoutModel",
      "state": {}
     },
     "38784f7386d84206aa346839bfd48dd1": {
      "model_module": "@jupyter-widgets/controls",
      "model_module_version": "1.1.0",
      "model_name": "CheckboxModel",
      "state": {
       "description": "MCNP simulated",
       "disabled": false,
       "layout": "IPY_MODEL_f41b887ee0d948018f442ae216d31f95",
       "style": "IPY_MODEL_92154e0fd2d046869b4d0e4406a04164",
       "value": true
      }
     },
     "38c4777f06d8457d84f1bb3212e9c5a4": {
      "model_module": "@jupyter-widgets/base",
      "model_module_version": "1.0.0",
      "model_name": "LayoutModel",
      "state": {}
     },
     "39282a4457f7401399ee1d29a15a961f": {
      "model_module": "@jupyter-widgets/controls",
      "model_module_version": "1.1.0",
      "model_name": "DescriptionStyleModel",
      "state": {
       "description_width": ""
      }
     },
     "395446e8e7c2410bb4bc4027eae2a0f3": {
      "model_module": "@jupyter-widgets/base",
      "model_module_version": "1.0.0",
      "model_name": "LayoutModel",
      "state": {}
     },
     "395f4ed1396f41599458d76bd4a9f8b9": {
      "model_module": "@jupyter-widgets/controls",
      "model_module_version": "1.1.0",
      "model_name": "DescriptionStyleModel",
      "state": {
       "description_width": ""
      }
     },
     "397f029dfdd045229aed31a970cb9de4": {
      "model_module": "@jupyter-widgets/controls",
      "model_module_version": "1.1.0",
      "model_name": "ToggleButtonsModel",
      "state": {
       "_options_labels": [
        "N (¹n)",
        "NDC (¹n)",
        "P (¹H)",
        "D (²H)",
        "T (³H)",
        "S (³He)",
        "A (⁴He)"
       ],
       "button_style": "",
       "description": "Type:",
       "icons": [],
       "index": 0,
       "layout": "IPY_MODEL_9872c102cabd49cdb5f48220b334548f",
       "style": "IPY_MODEL_fc5e76d7b0d54b7fb864f43147295e4d",
       "tooltips": [
        "Neutron",
        "Back Target Neutron",
        "Proton",
        "Deuteron",
        "Triton",
        "Helium-3",
        "Helium-4"
       ]
      }
     },
     "39b823192d424a1aab87bcddeee16b3d": {
      "model_module": "@jupyter-widgets/controls",
      "model_module_version": "1.1.0",
      "model_name": "DescriptionStyleModel",
      "state": {
       "description_width": ""
      }
     },
     "39db90205a6a4dc681303dcbcf010a95": {
      "model_module": "@jupyter-widgets/controls",
      "model_module_version": "1.1.0",
      "model_name": "LabelModel",
      "state": {
       "layout": "IPY_MODEL_666947855c7b4a45a47d2346e06c6163",
       "style": "IPY_MODEL_502f0671d23f460a8945d09d5b4bd79c",
       "value": "Select upstream target mass thickness."
      }
     },
     "3a75bad443c149f2a33f91a7d69e457b": {
      "model_module": "@jupyter-widgets/controls",
      "model_module_version": "1.1.0",
      "model_name": "CheckboxModel",
      "state": {
       "description": "10°",
       "disabled": false,
       "layout": "IPY_MODEL_c3f3fef894c94cb3a2fed42e5d4f1d51",
       "style": "IPY_MODEL_44c9f51553bf44a9a592856322fac6fb",
       "value": true
      }
     },
     "3ab053ea2b48422690ce68b194f7ddce": {
      "model_module": "@jupyter-widgets/base",
      "model_module_version": "1.0.0",
      "model_name": "LayoutModel",
      "state": {}
     },
     "3ab5122a8d864d1d9bbb389b35e1ab2d": {
      "model_module": "@jupyter-widgets/controls",
      "model_module_version": "1.1.0",
      "model_name": "DescriptionStyleModel",
      "state": {
       "description_width": ""
      }
     },
     "3ae7edf9282c4bb29262fc74ed7457c6": {
      "model_module": "@jupyter-widgets/controls",
      "model_module_version": "1.1.0",
      "model_name": "DescriptionStyleModel",
      "state": {
       "description_width": ""
      }
     },
     "3b0965cfea5647cda8732d9283755930": {
      "model_module": "@jupyter-widgets/base",
      "model_module_version": "1.0.0",
      "model_name": "LayoutModel",
      "state": {}
     },
     "3b0b8b295c814436aa521b533e2e56c8": {
      "model_module": "@jupyter-widgets/controls",
      "model_module_version": "1.1.0",
      "model_name": "DescriptionStyleModel",
      "state": {
       "description_width": ""
      }
     },
     "3b5db79cca144685915a4b267b98c18b": {
      "model_module": "@jupyter-widgets/controls",
      "model_module_version": "1.1.0",
      "model_name": "CheckboxModel",
      "state": {
       "description": "28.2°",
       "disabled": false,
       "layout": "IPY_MODEL_5a127a21a9244a47962c8a41005dc6b8",
       "style": "IPY_MODEL_7a41df7279be47f19ff549ed07da1077",
       "value": false
      }
     },
     "3ba19ebc170b40f2b661526b1e62419f": {
      "model_module": "@jupyter-widgets/controls",
      "model_module_version": "1.1.0",
      "model_name": "DescriptionStyleModel",
      "state": {
       "description_width": ""
      }
     },
     "3bd60948f1b348798290769e44107797": {
      "model_module": "@jupyter-widgets/controls",
      "model_module_version": "1.1.0",
      "model_name": "CheckboxModel",
      "state": {
       "description": "10°",
       "disabled": false,
       "layout": "IPY_MODEL_027fe3d5ff7043d781512933effbf2f7",
       "style": "IPY_MODEL_36edc3b7ec8a44099c8f8c0543d9f99a",
       "value": true
      }
     },
     "3c09a4f787f24fb882051c5bbbc36f4a": {
      "model_module": "@jupyter-widgets/base",
      "model_module_version": "1.0.0",
      "model_name": "LayoutModel",
      "state": {}
     },
     "3c0a2da75dd243fc8e9cabdd1f16b48c": {
      "model_module": "@jupyter-widgets/base",
      "model_module_version": "1.0.0",
      "model_name": "LayoutModel",
      "state": {}
     },
     "3c181b41a2aa40508ceff12b39798aef": {
      "model_module": "@jupyter-widgets/controls",
      "model_module_version": "1.1.0",
      "model_name": "DescriptionStyleModel",
      "state": {
       "description_width": ""
      }
     },
     "3c1b163dce6341669f6824f4534d5835": {
      "model_module": "@jupyter-widgets/base",
      "model_module_version": "1.0.0",
      "model_name": "LayoutModel",
      "state": {}
     },
     "3c1dc53a568949c483b00aa912e2840e": {
      "model_module": "@jupyter-widgets/base",
      "model_module_version": "1.0.0",
      "model_name": "LayoutModel",
      "state": {}
     },
     "3c1f3f08990e48fa8891fc336116f9c7": {
      "model_module": "@jupyter-widgets/controls",
      "model_module_version": "1.1.0",
      "model_name": "DescriptionStyleModel",
      "state": {
       "description_width": ""
      }
     },
     "3c2e68c03a494d0e964b3a51e06f82e8": {
      "model_module": "@jupyter-widgets/controls",
      "model_module_version": "1.1.0",
      "model_name": "DescriptionStyleModel",
      "state": {
       "description_width": ""
      }
     },
     "3c8c6a6665a64aec97d8773312827237": {
      "model_module": "@jupyter-widgets/base",
      "model_module_version": "1.0.0",
      "model_name": "LayoutModel",
      "state": {}
     },
     "3cb589dd6b2345fa9a81a2223dc97ce9": {
      "model_module": "@jupyter-widgets/base",
      "model_module_version": "1.0.0",
      "model_name": "LayoutModel",
      "state": {}
     },
     "3cd124f1e9e744878abd76ecc1d9d390": {
      "model_module": "@jupyter-widgets/base",
      "model_module_version": "1.0.0",
      "model_name": "LayoutModel",
      "state": {}
     },
     "3cf480469a1c4902b53f1b2f7ff72c9d": {
      "model_module": "@jupyter-widgets/base",
      "model_module_version": "1.0.0",
      "model_name": "LayoutModel",
      "state": {}
     },
     "3d06230ad2b44d069ab9f4e393b17e87": {
      "model_module": "@jupyter-widgets/controls",
      "model_module_version": "1.1.0",
      "model_name": "CheckboxModel",
      "state": {
       "description": "135°",
       "disabled": false,
       "layout": "IPY_MODEL_62005fa6af354d3abb3d96cdd98641ee",
       "style": "IPY_MODEL_b06735c61c254823b8261980ec3395a3",
       "value": true
      }
     },
     "3d0f3c678ae9413bb5af523f0949b7a3": {
      "model_module": "@jupyter-widgets/controls",
      "model_module_version": "1.1.0",
      "model_name": "DescriptionStyleModel",
      "state": {
       "description_width": ""
      }
     },
     "3d4543f1be52411fb91d2d09ef6d396a": {
      "model_module": "@jupyter-widgets/controls",
      "model_module_version": "1.1.0",
      "model_name": "ToggleButtonsModel",
      "state": {
       "_options_labels": [
        "P (¹H)",
        "D (²H)",
        "T (³H)",
        "A (⁴He)"
       ],
       "button_style": "",
       "description": "Type:",
       "icons": [],
       "index": 0,
       "layout": "IPY_MODEL_b159994f2523454c849777345beef154",
       "style": "IPY_MODEL_1b46d062e7544ec0a153eeae4e600990",
       "tooltips": [
        "Proton",
        "Deuteron",
        "Triton",
        "Helium-4"
       ]
      }
     },
     "3d8b79afcd5346e89411d87b293cd799": {
      "model_module": "@jupyter-widgets/controls",
      "model_module_version": "1.1.0",
      "model_name": "ButtonStyleModel",
      "state": {}
     },
     "3d95b66ff94d442283299aecf4512049": {
      "model_module": "@jupyter-widgets/controls",
      "model_module_version": "1.1.0",
      "model_name": "DescriptionStyleModel",
      "state": {
       "description_width": ""
      }
     },
     "3d97e80d1c424d3e854e2b2106a1b287": {
      "model_module": "@jupyter-widgets/base",
      "model_module_version": "1.0.0",
      "model_name": "LayoutModel",
      "state": {}
     },
     "3e26dbb23950401caf73c17a05277c77": {
      "model_module": "@jupyter-widgets/controls",
      "model_module_version": "1.1.0",
      "model_name": "DescriptionStyleModel",
      "state": {
       "description_width": ""
      }
     },
     "3e445967598a49b49aafcad0214a1c29": {
      "model_module": "@jupyter-widgets/controls",
      "model_module_version": "1.1.0",
      "model_name": "CheckboxModel",
      "state": {
       "description": "60°",
       "disabled": false,
       "layout": "IPY_MODEL_c1b4698aaec643bf83f637a29587f2b2",
       "style": "IPY_MODEL_038cd47bafb04d39a36cd5ab084c585d",
       "value": true
      }
     },
     "3e47058c1caa4142825ba25fd6d0dc58": {
      "model_module": "@jupyter-widgets/controls",
      "model_module_version": "1.1.0",
      "model_name": "DescriptionStyleModel",
      "state": {
       "description_width": ""
      }
     },
     "3e6868e05b4d42438e495a1ad59c565b": {
      "model_module": "@jupyter-widgets/controls",
      "model_module_version": "1.1.0",
      "model_name": "DescriptionStyleModel",
      "state": {
       "description_width": ""
      }
     },
     "3e6d3a7685ca4313a9d12b60f362146d": {
      "model_module": "@jupyter-widgets/controls",
      "model_module_version": "1.1.0",
      "model_name": "CheckboxModel",
      "state": {
       "description": "80°",
       "disabled": false,
       "layout": "IPY_MODEL_31e9545bb3694ca09a8d39eb049284a8",
       "style": "IPY_MODEL_4252cd15596c400f98a374d31439c20c",
       "value": false
      }
     },
     "3ed8a03b12234f1f96c21be5fc89dbbf": {
      "model_module": "@jupyter-widgets/base",
      "model_module_version": "1.0.0",
      "model_name": "LayoutModel",
      "state": {}
     },
     "3f3126e11c2e4b25ab2b7ec236bfd29a": {
      "model_module": "@jupyter-widgets/controls",
      "model_module_version": "1.1.0",
      "model_name": "CheckboxModel",
      "state": {
       "description": "135°",
       "disabled": false,
       "layout": "IPY_MODEL_9e70dabc9cec4089a4b8308037cdecb1",
       "style": "IPY_MODEL_5d9f1e4f52be41468c9737671db6eeb7",
       "value": true
      }
     },
     "3f65a85a160a4441a7874fdb881d8141": {
      "model_module": "@jupyter-widgets/base",
      "model_module_version": "1.0.0",
      "model_name": "LayoutModel",
      "state": {}
     },
     "3f9b30d802344f01a03d47bc911046d3": {
      "model_module": "@jupyter-widgets/controls",
      "model_module_version": "1.1.0",
      "model_name": "DescriptionStyleModel",
      "state": {
       "description_width": ""
      }
     },
     "3fa835cdaf12418f909ab21e9778b253": {
      "model_module": "@jupyter-widgets/base",
      "model_module_version": "1.0.0",
      "model_name": "LayoutModel",
      "state": {}
     },
     "3fd3b2faeb074380b2729da5cdd95564": {
      "model_module": "@jupyter-widgets/base",
      "model_module_version": "1.0.0",
      "model_name": "LayoutModel",
      "state": {}
     },
     "3fe9779ece614d6c962a1ee84983c997": {
      "model_module": "@jupyter-widgets/controls",
      "model_module_version": "1.1.0",
      "model_name": "CheckboxModel",
      "state": {
       "description": "135°",
       "disabled": false,
       "layout": "IPY_MODEL_b1e44077f2bb4e8c83ec53c33e3658c0",
       "style": "IPY_MODEL_6c5ed0a01f1f418aba1e82fb20332402",
       "value": true
      }
     },
     "4000278a9d364b9f8b0aa3f29b94c1be": {
      "model_module": "@jupyter-widgets/controls",
      "model_module_version": "1.1.0",
      "model_name": "ToggleButtonsStyleModel",
      "state": {
       "button_width": "",
       "description_width": ""
      }
     },
     "403956e3427d41e39e4ca6ce37a021f3": {
      "model_module": "@jupyter-widgets/controls",
      "model_module_version": "1.1.0",
      "model_name": "ToggleButtonsStyleModel",
      "state": {
       "button_width": "",
       "description_width": ""
      }
     },
     "405608c1d3cb4a39bb86ffc579e68bcf": {
      "model_module": "@jupyter-widgets/controls",
      "model_module_version": "1.1.0",
      "model_name": "ToggleButtonsModel",
      "state": {
       "_options_labels": [
        "20 g/cm²",
        "60 g/cm²"
       ],
       "button_style": "",
       "description": "Thickness:",
       "icons": [],
       "index": 0,
       "layout": "IPY_MODEL_00ad944b06944d3ab809f24d2c5ca45d",
       "style": "IPY_MODEL_1a5612b401944defb18e84f5e71fc199",
       "tooltips": [
        "10 g/cm² Al upstream + 10 g/cm² HDPE downstream",
        "10 g/cm² Al upstream + 50 g/cm² HDPE downstream"
       ]
      }
     },
     "407138ee5cd64b1f823f611486fac5ef": {
      "model_module": "@jupyter-widgets/base",
      "model_module_version": "1.0.0",
      "model_name": "LayoutModel",
      "state": {}
     },
     "409f8d96f1b84958a16c4d20848f7289": {
      "model_module": "@jupyter-widgets/base",
      "model_module_version": "1.0.0",
      "model_name": "LayoutModel",
      "state": {}
     },
     "40ed2e091b2b4081b4b6623db8dcc3c8": {
      "model_module": "@jupyter-widgets/controls",
      "model_module_version": "1.1.0",
      "model_name": "CheckboxModel",
      "state": {
       "description": "30°",
       "disabled": false,
       "layout": "IPY_MODEL_3c1dc53a568949c483b00aa912e2840e",
       "style": "IPY_MODEL_a05914b55e5d40649e03350e6eb3630a",
       "value": true
      }
     },
     "412ccd07feee49cd84638f59c245fbbd": {
      "model_module": "@jupyter-widgets/controls",
      "model_module_version": "1.1.0",
      "model_name": "LabelModel",
      "state": {
       "layout": "IPY_MODEL_9d7a1428bf78413ab9bb86941080f268",
       "style": "IPY_MODEL_abba099c8d2346e3b5455ba8b4be4d26",
       "value": "Select projectile ion energy."
      }
     },
     "41466c3bcded4d6f827a87637d762f9d": {
      "model_module": "@jupyter-widgets/controls",
      "model_module_version": "1.1.0",
      "model_name": "ToggleButtonsModel",
      "state": {
       "_options_labels": [
        "N (¹n)",
        "NDC (¹n)",
        "P (¹H)",
        "D (²H)",
        "T (³H)",
        "S (³He)",
        "A (⁴He)"
       ],
       "button_style": "",
       "description": "Type:",
       "icons": [],
       "index": 0,
       "layout": "IPY_MODEL_770ceff503154f0a865b91c4c5f39af8",
       "style": "IPY_MODEL_a2de60ea094a4b74a1566c0c53e204dc",
       "tooltips": [
        "Neutron",
        "Back Target Neutron",
        "Proton",
        "Deuteron",
        "Triton",
        "Helium-3",
        "Helium-4"
       ]
      }
     },
     "415c20f1bd384f6e9750930c8c6d5586": {
      "model_module": "@jupyter-widgets/controls",
      "model_module_version": "1.1.0",
      "model_name": "LabelModel",
      "state": {
       "layout": "IPY_MODEL_81425f7945044f9dacb6d4144985be36",
       "style": "IPY_MODEL_20dc665dc20c4b0d804b2fd06aea5e1f",
       "value": "Select which secondary particle to plot spectra for."
      }
     },
     "41a0197ea3864f2f96cd56564c88d629": {
      "model_module": "@jupyter-widgets/controls",
      "model_module_version": "1.1.0",
      "model_name": "CheckboxModel",
      "state": {
       "description": "80°",
       "disabled": false,
       "layout": "IPY_MODEL_cdbb0ba078c340cf92d6e7d7f2d48a90",
       "style": "IPY_MODEL_5032c0a28bb84678ba8f7c98434b2fb8",
       "value": true
      }
     },
     "41c781fe96f6436fa3362dfde8270771": {
      "model_module": "@jupyter-widgets/controls",
      "model_module_version": "1.1.0",
      "model_name": "CheckboxModel",
      "state": {
       "description": "135°",
       "disabled": false,
       "layout": "IPY_MODEL_5fc3f122bf5a4e9f81f5da4f559639cc",
       "style": "IPY_MODEL_aeeface96ece4888a98b7db93c45d416",
       "value": false
      }
     },
     "421425277dc24c669526e22b1bd57aa2": {
      "model_module": "@jupyter-widgets/controls",
      "model_module_version": "1.1.0",
      "model_name": "ToggleButtonsStyleModel",
      "state": {
       "button_width": "",
       "description_width": ""
      }
     },
     "422dba91792c4e14a40f86c2993d3b8d": {
      "model_module": "@jupyter-widgets/controls",
      "model_module_version": "1.1.0",
      "model_name": "LabelModel",
      "state": {
       "layout": "IPY_MODEL_cca342e79c6b4f2abd356205fe68475c",
       "style": "IPY_MODEL_0e990f10fa3a4299b2d8194a6469a2da",
       "value": "Select the detector angles to plot."
      }
     },
     "4252cd15596c400f98a374d31439c20c": {
      "model_module": "@jupyter-widgets/controls",
      "model_module_version": "1.1.0",
      "model_name": "DescriptionStyleModel",
      "state": {
       "description_width": ""
      }
     },
     "4259e31010e14417960adc84dabd8764": {
      "model_module": "@jupyter-widgets/controls",
      "model_module_version": "1.1.0",
      "model_name": "DescriptionStyleModel",
      "state": {
       "description_width": ""
      }
     },
     "428942ba674d46a2bf6cdd61a85e65eb": {
      "model_module": "@jupyter-widgets/base",
      "model_module_version": "1.0.0",
      "model_name": "LayoutModel",
      "state": {}
     },
     "42a55227a224471a814309854d725036": {
      "model_module": "@jupyter-widgets/controls",
      "model_module_version": "1.1.0",
      "model_name": "ToggleButtonsModel",
      "state": {
       "_options_labels": [
        "None",
        "Spaced by 10²"
       ],
       "button_style": "",
       "description": "Spacing:",
       "icons": [],
       "index": 0,
       "layout": "IPY_MODEL_a17e18225617407bad9ea54d14d3ff8f",
       "style": "IPY_MODEL_2593de92f9be4007b1f4d477fd4a25a2",
       "tooltips": [
        "All values are presented as is.",
        "Plots for different detectors are multiplied by powers of 10² for easier viewing."
       ]
      }
     },
     "42ac3994113648e7b1511b9da9417c54": {
      "model_module": "@jupyter-widgets/controls",
      "model_module_version": "1.1.0",
      "model_name": "DescriptionStyleModel",
      "state": {
       "description_width": ""
      }
     },
     "42b67d4ab06f47b4961cd3afdd00554c": {
      "model_module": "@jupyter-widgets/controls",
      "model_module_version": "1.1.0",
      "model_name": "DescriptionStyleModel",
      "state": {
       "description_width": ""
      }
     },
     "42c81fe8612b454e8f3f3342eb8dd9b6": {
      "model_module": "@jupyter-widgets/controls",
      "model_module_version": "1.1.0",
      "model_name": "DescriptionStyleModel",
      "state": {
       "description_width": ""
      }
     },
     "42da148a2a3e4f1f9716cd92540ea132": {
      "model_module": "@jupyter-widgets/controls",
      "model_module_version": "1.1.0",
      "model_name": "ToggleButtonsStyleModel",
      "state": {
       "button_width": "",
       "description_width": ""
      }
     },
     "4309eca1d42d41d0a0be80ee3ddcc7cf": {
      "model_module": "@jupyter-widgets/base",
      "model_module_version": "1.0.0",
      "model_name": "LayoutModel",
      "state": {}
     },
     "431cb5160efb42c1be6d872d56c3b795": {
      "model_module": "@jupyter-widgets/controls",
      "model_module_version": "1.1.0",
      "model_name": "DescriptionStyleModel",
      "state": {
       "description_width": ""
      }
     },
     "434eda9a3fdd4adc9d47d36d17c44992": {
      "model_module": "@jupyter-widgets/controls",
      "model_module_version": "1.1.0",
      "model_name": "DescriptionStyleModel",
      "state": {
       "description_width": ""
      }
     },
     "43912211b5184688b8ce478f1efbc6ef": {
      "model_module": "@jupyter-widgets/controls",
      "model_module_version": "1.1.0",
      "model_name": "DescriptionStyleModel",
      "state": {
       "description_width": ""
      }
     },
     "43db9ac0878c4c78b0c406c66ddf8b30": {
      "model_module": "@jupyter-widgets/controls",
      "model_module_version": "1.1.0",
      "model_name": "CheckboxModel",
      "state": {
       "description": "45°",
       "disabled": false,
       "layout": "IPY_MODEL_cf71b31f4cc440f89857fc5385661b21",
       "style": "IPY_MODEL_c364e5d45e4041ecb1b0e2902e992113",
       "value": true
      }
     },
     "442ac209cf4f4253a7d278fb37682d26": {
      "model_module": "@jupyter-widgets/controls",
      "model_module_version": "1.1.0",
      "model_name": "DescriptionStyleModel",
      "state": {
       "description_width": ""
      }
     },
     "4476cc8007dc41c292862aa4975e03ca": {
      "model_module": "@jupyter-widgets/controls",
      "model_module_version": "1.1.0",
      "model_name": "LabelModel",
      "state": {
       "layout": "IPY_MODEL_d7301efcfaf240e7a25f464811b3aaee",
       "style": "IPY_MODEL_e7c50db298be473eac5d8bfb179b664c",
       "value": "Select projectile ion species and energy."
      }
     },
     "447f53e19b2f4ddf9d2a3f12f6e5636f": {
      "model_module": "@jupyter-widgets/base",
      "model_module_version": "1.0.0",
      "model_name": "LayoutModel",
      "state": {}
     },
     "44c9f51553bf44a9a592856322fac6fb": {
      "model_module": "@jupyter-widgets/controls",
      "model_module_version": "1.1.0",
      "model_name": "DescriptionStyleModel",
      "state": {
       "description_width": ""
      }
     },
     "44d3c41f87914e6faf2379147d847721": {
      "model_module": "@jupyter-widgets/base",
      "model_module_version": "1.0.0",
      "model_name": "LayoutModel",
      "state": {}
     },
     "44e15962fb0a4f7c90805cc6a532bafd": {
      "model_module": "@jupyter-widgets/controls",
      "model_module_version": "1.1.0",
      "model_name": "CheckboxModel",
      "state": {
       "description": "80°",
       "disabled": false,
       "layout": "IPY_MODEL_f5265654bf1c43de820654cb0b360cae",
       "style": "IPY_MODEL_9b930e4743cd49ad892e2565cb83d894",
       "value": false
      }
     },
     "44e313e4526743ceb8af6da255f65ad1": {
      "model_module": "@jupyter-widgets/controls",
      "model_module_version": "1.1.0",
      "model_name": "DescriptionStyleModel",
      "state": {
       "description_width": ""
      }
     },
     "4511b1edad03417384805e5759312aa5": {
      "model_module": "@jupyter-widgets/controls",
      "model_module_version": "1.1.0",
      "model_name": "LabelModel",
      "state": {
       "layout": "IPY_MODEL_a430f5e1f8104030adc87152f743628c",
       "style": "IPY_MODEL_a0f8ff67cce34c4a927a05fb1ee2c88f",
       "value": "Select the detector angles to plot."
      }
     },
     "4517d2ec7e194ea2bbef18bb24682c51": {
      "model_module": "@jupyter-widgets/controls",
      "model_module_version": "1.1.0",
      "model_name": "CheckboxModel",
      "state": {
       "description": "80°",
       "disabled": false,
       "layout": "IPY_MODEL_bfd6c883ab654524b99c3f030206e901",
       "style": "IPY_MODEL_840cc699269c453caf5255b94c01977e",
       "value": true
      }
     },
     "4524981b64cd4317b83daa649d2fcda4": {
      "model_module": "@jupyter-widgets/controls",
      "model_module_version": "1.1.0",
      "model_name": "DescriptionStyleModel",
      "state": {
       "description_width": ""
      }
     },
     "453f31976f1745da8fe67203caf87d15": {
      "model_module": "@jupyter-widgets/controls",
      "model_module_version": "1.1.0",
      "model_name": "DescriptionStyleModel",
      "state": {
       "description_width": ""
      }
     },
     "458d0ff4e9c24a4fb84bc59a942eb7be": {
      "model_module": "@jupyter-widgets/controls",
      "model_module_version": "1.1.0",
      "model_name": "DescriptionStyleModel",
      "state": {
       "description_width": ""
      }
     },
     "45b9d236dbbf4356aafdb480f24a11d5": {
      "model_module": "@jupyter-widgets/controls",
      "model_module_version": "1.1.0",
      "model_name": "DescriptionStyleModel",
      "state": {
       "description_width": ""
      }
     },
     "45c7f6aa82f24df694b77ec71789ab46": {
      "model_module": "@jupyter-widgets/controls",
      "model_module_version": "1.1.0",
      "model_name": "ToggleButtonsStyleModel",
      "state": {
       "button_width": "",
       "description_width": ""
      }
     },
     "460c05ff88a1487bbc9076500df65cf9": {
      "model_module": "@jupyter-widgets/base",
      "model_module_version": "1.0.0",
      "model_name": "LayoutModel",
      "state": {}
     },
     "46158989dffc448fbbd4cbe5f5e4dd4f": {
      "model_module": "@jupyter-widgets/base",
      "model_module_version": "1.0.0",
      "model_name": "LayoutModel",
      "state": {}
     },
     "4624e853dfd54f939381d2e27047bb61": {
      "model_module": "@jupyter-widgets/controls",
      "model_module_version": "1.1.0",
      "model_name": "DescriptionStyleModel",
      "state": {
       "description_width": ""
      }
     },
     "4626e326d1fc43d4b1129ad66a98aade": {
      "model_module": "@jupyter-widgets/controls",
      "model_module_version": "1.1.0",
      "model_name": "CheckboxModel",
      "state": {
       "description": "45°",
       "disabled": false,
       "layout": "IPY_MODEL_84966235c9f94f55bd3807f3ac243f7c",
       "style": "IPY_MODEL_a8ff9a8265864ce6b8522a45b3a04d55",
       "value": true
      }
     },
     "462a79a9036144b8b3fe19cdc55eee8c": {
      "model_module": "@jupyter-widgets/controls",
      "model_module_version": "1.1.0",
      "model_name": "DescriptionStyleModel",
      "state": {
       "description_width": ""
      }
     },
     "4631bef8f06b44778e229ff134e96632": {
      "model_module": "@jupyter-widgets/controls",
      "model_module_version": "1.1.0",
      "model_name": "DescriptionStyleModel",
      "state": {
       "description_width": ""
      }
     },
     "46b255cfc70a4c64812173744a44a5da": {
      "model_module": "@jupyter-widgets/base",
      "model_module_version": "1.0.0",
      "model_name": "LayoutModel",
      "state": {}
     },
     "46da5a87136a4c1aab5938de6e45b620": {
      "model_module": "@jupyter-widgets/controls",
      "model_module_version": "1.1.0",
      "model_name": "DescriptionStyleModel",
      "state": {
       "description_width": ""
      }
     },
     "47059e5beca54edaad373a3aae00fc54": {
      "model_module": "@jupyter-widgets/controls",
      "model_module_version": "1.1.0",
      "model_name": "CheckboxModel",
      "state": {
       "description": "135°",
       "disabled": false,
       "layout": "IPY_MODEL_ba722835f7ba445792a8f5734717ca5e",
       "style": "IPY_MODEL_98237bf22d114ff39d165b4678e54734",
       "value": true
      }
     },
     "4723e6fd33cf4b678be4eff35656ddd8": {
      "model_module": "@jupyter-widgets/controls",
      "model_module_version": "1.1.0",
      "model_name": "CheckboxModel",
      "state": {
       "description": "12.7°",
       "disabled": false,
       "layout": "IPY_MODEL_d10acb0e71b24bb2b589371ee184085a",
       "style": "IPY_MODEL_c6e914b0c98940cfb5bdd881a7c06bf3",
       "value": true
      }
     },
     "4742d20d74b74d16b7c7a665f6dccd02": {
      "model_module": "@jupyter-widgets/controls",
      "model_module_version": "1.1.0",
      "model_name": "CheckboxModel",
      "state": {
       "description": "80°",
       "disabled": false,
       "layout": "IPY_MODEL_3c1b163dce6341669f6824f4534d5835",
       "style": "IPY_MODEL_b88e9620565a40ab941bc49f29829681",
       "value": true
      }
     },
     "47696c0e2de54cffb03295fdca3ba4f9": {
      "model_module": "@jupyter-widgets/controls",
      "model_module_version": "1.1.0",
      "model_name": "ButtonStyleModel",
      "state": {}
     },
     "47949500a1db4319892288bb8a0eaecd": {
      "model_module": "@jupyter-widgets/controls",
      "model_module_version": "1.1.0",
      "model_name": "LabelModel",
      "state": {
       "layout": "IPY_MODEL_1bfd2f44b7c2442090c992df698cee4c",
       "style": "IPY_MODEL_e79bd93ad5be4112858e8589b9072286",
       "value": "Select the detector angles to plot."
      }
     },
     "47bb9e4681e444679e939c70b022b30b": {
      "model_module": "@jupyter-widgets/controls",
      "model_module_version": "1.1.0",
      "model_name": "ButtonStyleModel",
      "state": {}
     },
     "48361456091047d39283a4c138e3abce": {
      "model_module": "@jupyter-widgets/controls",
      "model_module_version": "1.1.0",
      "model_name": "LabelModel",
      "state": {
       "layout": "IPY_MODEL_0017f825ac48419da4b51260e1acf358",
       "style": "IPY_MODEL_9b80b536f8134456afcfab7a234face8",
       "value": "Select projectile ion energy."
      }
     },
     "486a85212fc74b3c976559e6f202904e": {
      "model_module": "@jupyter-widgets/controls",
      "model_module_version": "1.1.0",
      "model_name": "DescriptionStyleModel",
      "state": {
       "description_width": ""
      }
     },
     "4873b52e14fb4e01a2efc9b6ec9f4561": {
      "model_module": "@jupyter-widgets/controls",
      "model_module_version": "1.1.0",
      "model_name": "ToggleButtonsStyleModel",
      "state": {
       "button_width": "",
       "description_width": ""
      }
     },
     "48a4c96a827e49d3beae6e2d1e8dace5": {
      "model_module": "@jupyter-widgets/controls",
      "model_module_version": "1.1.0",
      "model_name": "CheckboxModel",
      "state": {
       "description": "80°",
       "disabled": false,
       "layout": "IPY_MODEL_181d532fcf664ac59ef38448d3ac215c",
       "style": "IPY_MODEL_1b1c3c1a190840779c5277f754611eed",
       "value": true
      }
     },
     "48d3fdf0172048b78092b2e4fba35cc1": {
      "model_module": "@jupyter-widgets/base",
      "model_module_version": "1.0.0",
      "model_name": "LayoutModel",
      "state": {}
     },
     "48d6a29de3fe4b21a4933651013ca17c": {
      "model_module": "@jupyter-widgets/base",
      "model_module_version": "1.0.0",
      "model_name": "LayoutModel",
      "state": {}
     },
     "48dd3491bb6543ef97f3184f4dd04dc1": {
      "model_module": "@jupyter-widgets/base",
      "model_module_version": "1.0.0",
      "model_name": "LayoutModel",
      "state": {}
     },
     "494dabc7ce2945f19239370be71cc656": {
      "model_module": "@jupyter-widgets/base",
      "model_module_version": "1.0.0",
      "model_name": "LayoutModel",
      "state": {}
     },
     "496afe6a7255467882497c62a9934238": {
      "model_module": "@jupyter-widgets/controls",
      "model_module_version": "1.1.0",
      "model_name": "LabelModel",
      "state": {
       "layout": "IPY_MODEL_104d58e9449e48749b05fefce343f075",
       "style": "IPY_MODEL_5b022fe216604a93ac7675403a1dfe4f",
       "value": "Select which secondary particle to plot spectra for."
      }
     },
     "4983d2055aa540b09bf1671d230359fd": {
      "model_module": "@jupyter-widgets/base",
      "model_module_version": "1.0.0",
      "model_name": "LayoutModel",
      "state": {}
     },
     "49e9137e50f44813b72a45d69a659e96": {
      "model_module": "@jupyter-widgets/controls",
      "model_module_version": "1.1.0",
      "model_name": "CheckboxModel",
      "state": {
       "description": "60°",
       "disabled": false,
       "layout": "IPY_MODEL_6e5bfcd185424475abd072f9ff0da8ef",
       "style": "IPY_MODEL_07d75c2623a14acaac5b43e08e71b559",
       "value": false
      }
     },
     "4a159ef5829140938004cae24842987b": {
      "model_module": "@jupyter-widgets/controls",
      "model_module_version": "1.1.0",
      "model_name": "DescriptionStyleModel",
      "state": {
       "description_width": ""
      }
     },
     "4a48969b477c4bafabcfc6a9e4de6868": {
      "model_module": "@jupyter-widgets/controls",
      "model_module_version": "1.1.0",
      "model_name": "CheckboxModel",
      "state": {
       "description": "60°",
       "disabled": false,
       "layout": "IPY_MODEL_1d393d3627de4b8b9c225452fc52406f",
       "style": "IPY_MODEL_23ad429477be4fe7beb80dd502064ac7",
       "value": true
      }
     },
     "4aad6287ce5545179622eeec21873b28": {
      "model_module": "@jupyter-widgets/controls",
      "model_module_version": "1.1.0",
      "model_name": "CheckboxModel",
      "state": {
       "description": "80°",
       "disabled": false,
       "layout": "IPY_MODEL_dcac55fa47134e5a80e306325f646db6",
       "style": "IPY_MODEL_2c283eac07974b8c9dc6bcd92671f261",
       "value": true
      }
     },
     "4ad68fd1d95745479f05deef48a13dfe": {
      "model_module": "@jupyter-widgets/controls",
      "model_module_version": "1.1.0",
      "model_name": "CheckboxModel",
      "state": {
       "description": "80°",
       "disabled": false,
       "layout": "IPY_MODEL_268deff161c442f6baaa7d2a79d4c5a9",
       "style": "IPY_MODEL_3399a4c8e41742b19dc0a8b326200e48",
       "value": true
      }
     },
     "4aeafb61077d42808cef7e4da9b5abeb": {
      "model_module": "@jupyter-widgets/controls",
      "model_module_version": "1.1.0",
      "model_name": "CheckboxModel",
      "state": {
       "description": "28.2°",
       "disabled": false,
       "layout": "IPY_MODEL_0ba15f02a3e241cfb5554239e37e8a39",
       "style": "IPY_MODEL_3ae7edf9282c4bb29262fc74ed7457c6",
       "value": true
      }
     },
     "4b2dacfe18dc47e1a9d89b9d4d0d17ff": {
      "model_module": "@jupyter-widgets/base",
      "model_module_version": "1.0.0",
      "model_name": "LayoutModel",
      "state": {}
     },
     "4b313ade035346c08238c3d82576da2f": {
      "model_module": "@jupyter-widgets/base",
      "model_module_version": "1.0.0",
      "model_name": "LayoutModel",
      "state": {}
     },
     "4b395f57c6674e77b411277989eacd52": {
      "model_module": "@jupyter-widgets/controls",
      "model_module_version": "1.1.0",
      "model_name": "DescriptionStyleModel",
      "state": {
       "description_width": ""
      }
     },
     "4b3e0d7cc3a34cd19bab3b2ed36231f6": {
      "model_module": "@jupyter-widgets/base",
      "model_module_version": "1.0.0",
      "model_name": "LayoutModel",
      "state": {}
     },
     "4b6fa27e982d4d39a045f12e95015ba9": {
      "model_module": "@jupyter-widgets/base",
      "model_module_version": "1.0.0",
      "model_name": "LayoutModel",
      "state": {}
     },
     "4bbd72c1fa0b40e69f7b7a8bbda3f824": {
      "model_module": "@jupyter-widgets/base",
      "model_module_version": "1.0.0",
      "model_name": "LayoutModel",
      "state": {}
     },
     "4bd4fb3548f34dbbab78ecd8e9853177": {
      "model_module": "@jupyter-widgets/base",
      "model_module_version": "1.0.0",
      "model_name": "LayoutModel",
      "state": {}
     },
     "4be18702b7374d2bb6514893bc088c12": {
      "model_module": "@jupyter-widgets/controls",
      "model_module_version": "1.1.0",
      "model_name": "CheckboxModel",
      "state": {
       "description": "10°",
       "disabled": false,
       "layout": "IPY_MODEL_c3cab31f4d4f4a858cd9408d120aca09",
       "style": "IPY_MODEL_6e95f3508fc4499f871042d4040bd640",
       "value": true
      }
     },
     "4bfd016f6b254de38d2ec87c639a380d": {
      "model_module": "@jupyter-widgets/controls",
      "model_module_version": "1.1.0",
      "model_name": "DescriptionStyleModel",
      "state": {
       "description_width": ""
      }
     },
     "4c2d056166914a319f1aa0a32c67856d": {
      "model_module": "@jupyter-widgets/base",
      "model_module_version": "1.0.0",
      "model_name": "LayoutModel",
      "state": {}
     },
     "4c4d18aa051748ab9c29e91c88c13ed2": {
      "model_module": "@jupyter-widgets/controls",
      "model_module_version": "1.1.0",
      "model_name": "CheckboxModel",
      "state": {
       "description": "135°",
       "disabled": false,
       "layout": "IPY_MODEL_5ad7cb92db9f426599a612e6cdbeb1ae",
       "style": "IPY_MODEL_3c2e68c03a494d0e964b3a51e06f82e8",
       "value": true
      }
     },
     "4cbffe1b274f49ce81322da62902dd9c": {
      "model_module": "@jupyter-widgets/controls",
      "model_module_version": "1.1.0",
      "model_name": "ToggleButtonsStyleModel",
      "state": {
       "button_width": "",
       "description_width": ""
      }
     },
     "4cc39a6a644b45c2ae23f45f0791d40f": {
      "model_module": "@jupyter-widgets/controls",
      "model_module_version": "1.1.0",
      "model_name": "DescriptionStyleModel",
      "state": {
       "description_width": ""
      }
     },
     "4ce6a61031ce4b2ebb66154499226a6b": {
      "model_module": "@jupyter-widgets/controls",
      "model_module_version": "1.1.0",
      "model_name": "CheckboxModel",
      "state": {
       "description": "10°",
       "disabled": false,
       "layout": "IPY_MODEL_7db1c715c27c426f9a9b3a5820d79b0c",
       "style": "IPY_MODEL_f49081b81392490a9d44ed5eda297dfb",
       "value": true
      }
     },
     "4d36206d20a544589047cb8ec209f141": {
      "model_module": "@jupyter-widgets/controls",
      "model_module_version": "1.1.0",
      "model_name": "ToggleButtonsModel",
      "state": {
       "_options_labels": [
        "N (¹n)",
        "NDC (¹n)",
        "P (¹H)",
        "D (²H)",
        "T (³H)",
        "S (³He)",
        "A (⁴He)"
       ],
       "button_style": "",
       "description": "Type:",
       "icons": [],
       "index": 0,
       "layout": "IPY_MODEL_4309eca1d42d41d0a0be80ee3ddcc7cf",
       "style": "IPY_MODEL_012702128d55420bb4f3a67906054542",
       "tooltips": [
        "Neutron",
        "Back Target Neutron",
        "Proton",
        "Deuteron",
        "Triton",
        "Helium-3",
        "Helium-4"
       ]
      }
     },
     "4d4fcad406be4ae3ad2925c4cfe5d079": {
      "model_module": "@jupyter-widgets/base",
      "model_module_version": "1.0.0",
      "model_name": "LayoutModel",
      "state": {}
     },
     "4d5a6bf6a7c64ae28eec32fa0a0c12f3": {
      "model_module": "@jupyter-widgets/controls",
      "model_module_version": "1.1.0",
      "model_name": "CheckboxModel",
      "state": {
       "description": "80°",
       "disabled": false,
       "layout": "IPY_MODEL_7a606f3c1ab14cb9839909e63914dd28",
       "style": "IPY_MODEL_9bc2ba7a19f74af4ae4a126910a7c81b",
       "value": true
      }
     },
     "4dc60796dc4d4b2fb291300a78b5e453": {
      "model_module": "@jupyter-widgets/controls",
      "model_module_version": "1.1.0",
      "model_name": "DescriptionStyleModel",
      "state": {
       "description_width": ""
      }
     },
     "4de496bb8bbb4886a778a02e718a549f": {
      "model_module": "@jupyter-widgets/controls",
      "model_module_version": "1.1.0",
      "model_name": "ToggleButtonsStyleModel",
      "state": {
       "button_width": "",
       "description_width": ""
      }
     },
     "4deedfd0f766471687a33b4eabf2c502": {
      "model_module": "@jupyter-widgets/controls",
      "model_module_version": "1.1.0",
      "model_name": "CheckboxModel",
      "state": {
       "description": "60°",
       "disabled": false,
       "layout": "IPY_MODEL_e13fe1343d144c94a41936009565334f",
       "style": "IPY_MODEL_f1f935c3adf24e1bb45e6f19d25d81c5",
       "value": true
      }
     },
     "4df1a3837fc04729974df5c9012b3dde": {
      "model_module": "@jupyter-widgets/controls",
      "model_module_version": "1.1.0",
      "model_name": "DescriptionStyleModel",
      "state": {
       "description_width": ""
      }
     },
     "4e0a5c89d71144109d42b533d4f7926c": {
      "model_module": "@jupyter-widgets/controls",
      "model_module_version": "1.1.0",
      "model_name": "LabelModel",
      "state": {
       "layout": "IPY_MODEL_75647d063fd343279bf2691272c87b29",
       "style": "IPY_MODEL_9615104881154fcfa004fddcec99c116",
       "value": "Select which secondary particle to plot spectra for."
      }
     },
     "4e11908df70c4c1baa0a0a0701c3b483": {
      "model_module": "@jupyter-widgets/controls",
      "model_module_version": "1.1.0",
      "model_name": "CheckboxModel",
      "state": {
       "description": "135°",
       "disabled": false,
       "layout": "IPY_MODEL_648e2abce8bd44749de5e0704c4e0f8c",
       "style": "IPY_MODEL_8560a6f02b604d1bb2516e19618938a6",
       "value": false
      }
     },
     "4e2a53e9f2794258a9dc672297ae031b": {
      "model_module": "@jupyter-widgets/base",
      "model_module_version": "1.0.0",
      "model_name": "LayoutModel",
      "state": {}
     },
     "4e692a9a30684f1e9cf9f9eab12388e7": {
      "model_module": "@jupyter-widgets/controls",
      "model_module_version": "1.1.0",
      "model_name": "DescriptionStyleModel",
      "state": {
       "description_width": ""
      }
     },
     "4e95b30bf0064f74a6df13c94478640f": {
      "model_module": "@jupyter-widgets/controls",
      "model_module_version": "1.1.0",
      "model_name": "LabelModel",
      "state": {
       "layout": "IPY_MODEL_48d3fdf0172048b78092b2e4fba35cc1",
       "style": "IPY_MODEL_7459268c60e14cee93a95a83bb9c62cd",
       "value": "Select the detector angles to plot."
      }
     },
     "4ea59979a0084e069d4cfe7c617b86d8": {
      "model_module": "@jupyter-widgets/controls",
      "model_module_version": "1.1.0",
      "model_name": "DescriptionStyleModel",
      "state": {
       "description_width": ""
      }
     },
     "4ed288858c314b359ad89bbd11086fa4": {
      "model_module": "@jupyter-widgets/controls",
      "model_module_version": "1.1.0",
      "model_name": "LabelModel",
      "state": {
       "layout": "IPY_MODEL_25f899f8d0f04abf8212ea7933f21da4",
       "style": "IPY_MODEL_0fd4e4d9a1e24438beae0580eb21cd0a",
       "value": "Select which secondary particle to plot spectra for."
      }
     },
     "4ef0084a078247899fe9c9e4946364ae": {
      "model_module": "@jupyter-widgets/base",
      "model_module_version": "1.0.0",
      "model_name": "LayoutModel",
      "state": {}
     },
     "4ef169f780f5492d945394689c66c0f3": {
      "model_module": "@jupyter-widgets/controls",
      "model_module_version": "1.1.0",
      "model_name": "ToggleButtonsStyleModel",
      "state": {
       "button_width": "",
       "description_width": ""
      }
     },
     "4ef62c84f3b949ca9cc3d00b7cabcba9": {
      "model_module": "@jupyter-widgets/controls",
      "model_module_version": "1.1.0",
      "model_name": "CheckboxModel",
      "state": {
       "description": "30°",
       "disabled": false,
       "layout": "IPY_MODEL_1e89315c30e2428fa595d6b42ebd4592",
       "style": "IPY_MODEL_1b3dff2e885b48e789134f537ebc787a",
       "value": true
      }
     },
     "4f3f9f56808c4b14a26239ba5483cb60": {
      "model_module": "@jupyter-widgets/controls",
      "model_module_version": "1.1.0",
      "model_name": "ToggleButtonsModel",
      "state": {
       "_options_labels": [
        "400 MeV/n",
        "800 MeV/n",
        "1500 MeV/n"
       ],
       "button_style": "",
       "description": "Energy:",
       "icons": [],
       "index": 0,
       "layout": "IPY_MODEL_c427e3c1ea6549109d108f8a2ff7ce3d",
       "style": "IPY_MODEL_865a726d61fa47a29ff1bf6ab3cbb3c4",
       "tooltips": [
        "lowest energy",
        "middle energy",
        "highest energy"
       ]
      }
     },
     "4f5a6e8389cc492184cdfa2a1335dec7": {
      "model_module": "@jupyter-widgets/base",
      "model_module_version": "1.0.0",
      "model_name": "LayoutModel",
      "state": {}
     },
     "4fa6bd4d322749fe891b1e8b7edd436a": {
      "model_module": "@jupyter-widgets/controls",
      "model_module_version": "1.1.0",
      "model_name": "DescriptionStyleModel",
      "state": {
       "description_width": ""
      }
     },
     "4ff00da7b2f240d1a374a3fc4e320df3": {
      "model_module": "@jupyter-widgets/base",
      "model_module_version": "1.0.0",
      "model_name": "LayoutModel",
      "state": {}
     },
     "4ff53ed86afa4374ab630e0d485944b5": {
      "model_module": "@jupyter-widgets/controls",
      "model_module_version": "1.1.0",
      "model_name": "CheckboxModel",
      "state": {
       "description": "45°",
       "disabled": false,
       "layout": "IPY_MODEL_b65c01657bd649c8b8b1c5021cec090e",
       "style": "IPY_MODEL_fe1d1e90130247ac8121c825e79cb174",
       "value": true
      }
     },
     "501c96fa4327478bb850662111108f9e": {
      "model_module": "@jupyter-widgets/controls",
      "model_module_version": "1.1.0",
      "model_name": "CheckboxModel",
      "state": {
       "description": "60°",
       "disabled": false,
       "layout": "IPY_MODEL_7f6a97e5fbe24a3c9cbbb57009b519b5",
       "style": "IPY_MODEL_53b203c5bcf74a0689b75dca70294cd6",
       "value": false
      }
     },
     "502f0671d23f460a8945d09d5b4bd79c": {
      "model_module": "@jupyter-widgets/controls",
      "model_module_version": "1.1.0",
      "model_name": "DescriptionStyleModel",
      "state": {
       "description_width": ""
      }
     },
     "5032c0a28bb84678ba8f7c98434b2fb8": {
      "model_module": "@jupyter-widgets/controls",
      "model_module_version": "1.1.0",
      "model_name": "DescriptionStyleModel",
      "state": {
       "description_width": ""
      }
     },
     "5055ec73c4224306ade810760718b4c2": {
      "model_module": "@jupyter-widgets/controls",
      "model_module_version": "1.1.0",
      "model_name": "ToggleButtonsModel",
      "state": {
       "_options_labels": [
        "N (¹n)",
        "NDC (¹n)",
        "P (¹H)",
        "D (²H)",
        "T (³H)",
        "S (³He)",
        "A (⁴He)"
       ],
       "button_style": "",
       "description": "Type:",
       "icons": [],
       "index": 0,
       "layout": "IPY_MODEL_bdf78436e9c142c9a60aa393d33ca884",
       "style": "IPY_MODEL_12cf0e3f5beb4e5db305b20b8628fea2",
       "tooltips": [
        "Neutron",
        "Back Target Neutron",
        "Proton",
        "Deuteron",
        "Triton",
        "Helium-3",
        "Helium-4"
       ]
      }
     },
     "505d38a767e546989370b7597d6730a5": {
      "model_module": "@jupyter-widgets/controls",
      "model_module_version": "1.1.0",
      "model_name": "CheckboxModel",
      "state": {
       "description": "60°",
       "disabled": false,
       "layout": "IPY_MODEL_48dd3491bb6543ef97f3184f4dd04dc1",
       "style": "IPY_MODEL_095b4ce3a3364cbaa4c0dbd459814f9a",
       "value": true
      }
     },
     "50bb39ba82dd4e0f928548cbc1e56055": {
      "model_module": "@jupyter-widgets/controls",
      "model_module_version": "1.1.0",
      "model_name": "DescriptionStyleModel",
      "state": {
       "description_width": ""
      }
     },
     "5101c32fba2647e7b23b2c007b6a958d": {
      "model_module": "@jupyter-widgets/base",
      "model_module_version": "1.0.0",
      "model_name": "LayoutModel",
      "state": {}
     },
     "518cb1c97022473f8651c05ae7db2953": {
      "model_module": "@jupyter-widgets/controls",
      "model_module_version": "1.1.0",
      "model_name": "CheckboxModel",
      "state": {
       "description": "30°",
       "disabled": false,
       "layout": "IPY_MODEL_820dfd5d872b4d25b9c5ff1f806a7c09",
       "style": "IPY_MODEL_69ec8e82f79545b8b4db029164b7f4b6",
       "value": true
      }
     },
     "522fa2925391448985ebc11eba9e8583": {
      "model_module": "@jupyter-widgets/controls",
      "model_module_version": "1.1.0",
      "model_name": "CheckboxModel",
      "state": {
       "description": "60°",
       "disabled": false,
       "layout": "IPY_MODEL_4c2d056166914a319f1aa0a32c67856d",
       "style": "IPY_MODEL_3409f20a2b44478ca3f017d84b25150d",
       "value": true
      }
     },
     "525f48a576274f9ba23dc59a0dfa4897": {
      "model_module": "@jupyter-widgets/controls",
      "model_module_version": "1.1.0",
      "model_name": "CheckboxModel",
      "state": {
       "description": "60°",
       "disabled": false,
       "layout": "IPY_MODEL_3c8c6a6665a64aec97d8773312827237",
       "style": "IPY_MODEL_c341e551dd3f44e6b6220a52550cbe89",
       "value": true
      }
     },
     "52a96ac245a449098464e256ec1c8a46": {
      "model_module": "@jupyter-widgets/controls",
      "model_module_version": "1.1.0",
      "model_name": "CheckboxModel",
      "state": {
       "description": "10°",
       "disabled": false,
       "layout": "IPY_MODEL_6d7e8177703e4fc78b5724bb7c5f39e9",
       "style": "IPY_MODEL_c62d708d273e40c981235311559699b9",
       "value": true
      }
     },
     "52c16dd828a84e3c93385fd475420794": {
      "model_module": "@jupyter-widgets/base",
      "model_module_version": "1.0.0",
      "model_name": "LayoutModel",
      "state": {}
     },
     "52f2a682870d495c8df9b66819365ea9": {
      "model_module": "@jupyter-widgets/controls",
      "model_module_version": "1.1.0",
      "model_name": "CheckboxModel",
      "state": {
       "description": "80°",
       "disabled": false,
       "layout": "IPY_MODEL_71058c791b4b4cf791c34492ca167eab",
       "style": "IPY_MODEL_b3f675f793e84eb8af82213e3f6ecee1",
       "value": true
      }
     },
     "52f70f15ffa049e38c6a8b99a6efe1e2": {
      "model_module": "@jupyter-widgets/controls",
      "model_module_version": "1.1.0",
      "model_name": "CheckboxModel",
      "state": {
       "description": "10°",
       "disabled": false,
       "layout": "IPY_MODEL_c3ecc9526c494ff2a70d7aeab2d6a81a",
       "style": "IPY_MODEL_72e45cb336a54312a1aeef5f4c881553",
       "value": true
      }
     },
     "5334baa65f5a442abe5e6394834ac8d0": {
      "model_module": "@jupyter-widgets/controls",
      "model_module_version": "1.1.0",
      "model_name": "DescriptionStyleModel",
      "state": {
       "description_width": ""
      }
     },
     "53519e7ebbf249e681459daa23be4e3f": {
      "model_module": "@jupyter-widgets/base",
      "model_module_version": "1.0.0",
      "model_name": "LayoutModel",
      "state": {}
     },
     "53a07c9c5a044530a6200c5974dc52ca": {
      "model_module": "@jupyter-widgets/controls",
      "model_module_version": "1.1.0",
      "model_name": "ToggleButtonsModel",
      "state": {
       "_options_labels": [
        "N (¹n)",
        "NDC (¹n)",
        "P (¹H)",
        "D (²H)"
       ],
       "button_style": "",
       "description": "Type:",
       "icons": [],
       "index": 0,
       "layout": "IPY_MODEL_229e8079ccf74a729fedb12eca55d771",
       "style": "IPY_MODEL_2061e11c43264be5ac072294cb7e5fa3",
       "tooltips": [
        "Neutron",
        "Back Target Neutron",
        "Proton",
        "Deuteron"
       ]
      }
     },
     "53b203c5bcf74a0689b75dca70294cd6": {
      "model_module": "@jupyter-widgets/controls",
      "model_module_version": "1.1.0",
      "model_name": "DescriptionStyleModel",
      "state": {
       "description_width": ""
      }
     },
     "53f0713094b941d09069608eb0b7e26c": {
      "model_module": "@jupyter-widgets/base",
      "model_module_version": "1.0.0",
      "model_name": "LayoutModel",
      "state": {}
     },
     "54056f40661c4f7b81a0a27fb1dd94fd": {
      "model_module": "@jupyter-widgets/base",
      "model_module_version": "1.0.0",
      "model_name": "LayoutModel",
      "state": {}
     },
     "54255a5971c24871ac446ec831e675d5": {
      "model_module": "@jupyter-widgets/controls",
      "model_module_version": "1.1.0",
      "model_name": "ToggleButtonsModel",
      "state": {
       "_options_labels": [
        "400 MeV/n",
        "800 MeV/n",
        "1500 MeV/n"
       ],
       "button_style": "",
       "description": "Energy:",
       "icons": [],
       "index": 1,
       "layout": "IPY_MODEL_0d751cb4f6e548f4b8ce129fb2a1948f",
       "style": "IPY_MODEL_04d1efb4970542e8a1080845ae9e2928",
       "tooltips": [
        "lowest energy",
        "middle energy",
        "highest energy"
       ]
      }
     },
     "545ebc91c17c4aa6959b057a16b3ac92": {
      "model_module": "@jupyter-widgets/base",
      "model_module_version": "1.0.0",
      "model_name": "LayoutModel",
      "state": {}
     },
     "54de40efe30348c3a3f03c32f9a0bf20": {
      "model_module": "@jupyter-widgets/controls",
      "model_module_version": "1.1.0",
      "model_name": "CheckboxModel",
      "state": {
       "description": "135°",
       "disabled": false,
       "layout": "IPY_MODEL_eae064cb481f4388b3ecadccabebcbfd",
       "style": "IPY_MODEL_968d972512a14609a9d52d3d9e1341ca",
       "value": true
      }
     },
     "550a8b4a444a4dc8979aaff27f9aea77": {
      "model_module": "@jupyter-widgets/base",
      "model_module_version": "1.0.0",
      "model_name": "LayoutModel",
      "state": {}
     },
     "55114e30eaef4a0baf0b2c8825f04423": {
      "model_module": "@jupyter-widgets/base",
      "model_module_version": "1.0.0",
      "model_name": "LayoutModel",
      "state": {}
     },
     "551f1768743d48d6b4d9eabce3889290": {
      "model_module": "@jupyter-widgets/base",
      "model_module_version": "1.0.0",
      "model_name": "LayoutModel",
      "state": {}
     },
     "5551224bca5049e7be23f28c01e1dd3b": {
      "model_module": "@jupyter-widgets/controls",
      "model_module_version": "1.1.0",
      "model_name": "DescriptionStyleModel",
      "state": {
       "description_width": ""
      }
     },
     "55619c5dea094e449247ceb4ea2afc58": {
      "model_module": "@jupyter-widgets/base",
      "model_module_version": "1.0.0",
      "model_name": "LayoutModel",
      "state": {}
     },
     "558f3cbb74f44270a0a0ffb1405db605": {
      "model_module": "@jupyter-widgets/controls",
      "model_module_version": "1.1.0",
      "model_name": "LabelModel",
      "state": {
       "layout": "IPY_MODEL_4d4fcad406be4ae3ad2925c4cfe5d079",
       "style": "IPY_MODEL_237ce633442a44248c4af8d83c850476",
       "value": "Select projectile ion energy."
      }
     },
     "55ad60edc3cc48cf803fdd35c03e02a8": {
      "model_module": "@jupyter-widgets/controls",
      "model_module_version": "1.1.0",
      "model_name": "DescriptionStyleModel",
      "state": {
       "description_width": ""
      }
     },
     "55e1e3be375a42268d92b16cccceeff0": {
      "model_module": "@jupyter-widgets/controls",
      "model_module_version": "1.1.0",
      "model_name": "DescriptionStyleModel",
      "state": {
       "description_width": ""
      }
     },
     "55ee168d048141bda5ad42eb6648dab2": {
      "model_module": "@jupyter-widgets/base",
      "model_module_version": "1.0.0",
      "model_name": "LayoutModel",
      "state": {}
     },
     "56109a4f301b4e7eaf085b954adad9c5": {
      "model_module": "@jupyter-widgets/controls",
      "model_module_version": "1.1.0",
      "model_name": "DescriptionStyleModel",
      "state": {
       "description_width": ""
      }
     },
     "562a8ee6c510478180bbe9768376706b": {
      "model_module": "@jupyter-widgets/controls",
      "model_module_version": "1.1.0",
      "model_name": "DescriptionStyleModel",
      "state": {
       "description_width": ""
      }
     },
     "5683570204824c2babd1bd671d01df2d": {
      "model_module": "@jupyter-widgets/base",
      "model_module_version": "1.0.0",
      "model_name": "LayoutModel",
      "state": {}
     },
     "5694c32fad5348a7814ee2f1077654e8": {
      "model_module": "@jupyter-widgets/controls",
      "model_module_version": "1.1.0",
      "model_name": "CheckboxModel",
      "state": {
       "description": "30°",
       "disabled": false,
       "layout": "IPY_MODEL_e705eb676ca84ed7bac6301486cf3fec",
       "style": "IPY_MODEL_0d5b2c31b6ba45a5b485646040acbc1c",
       "value": true
      }
     },
     "56b2779a2a6e424f8432ddcecd18d2b3": {
      "model_module": "@jupyter-widgets/controls",
      "model_module_version": "1.1.0",
      "model_name": "CheckboxModel",
      "state": {
       "description": "10°",
       "disabled": false,
       "layout": "IPY_MODEL_7fee16546f4e4ce698bb3676bbfe16a6",
       "style": "IPY_MODEL_458d0ff4e9c24a4fb84bc59a942eb7be",
       "value": true
      }
     },
     "56cdac3fdd604828adeb8bd2ce656bff": {
      "model_module": "@jupyter-widgets/controls",
      "model_module_version": "1.1.0",
      "model_name": "CheckboxModel",
      "state": {
       "description": "10°",
       "disabled": false,
       "layout": "IPY_MODEL_e4da8aed076e41fabc020df45f79166e",
       "style": "IPY_MODEL_1757cdb3a11c42869812c07a7a3a6d56",
       "value": true
      }
     },
     "56eef3271bf545989ce729f658001984": {
      "model_module": "@jupyter-widgets/base",
      "model_module_version": "1.0.0",
      "model_name": "LayoutModel",
      "state": {}
     },
     "57323ccaaacc4124a9d793bad87745c4": {
      "model_module": "@jupyter-widgets/controls",
      "model_module_version": "1.1.0",
      "model_name": "CheckboxModel",
      "state": {
       "description": "30°",
       "disabled": false,
       "layout": "IPY_MODEL_ba7e0728ba3d417ca8231f82f6648646",
       "style": "IPY_MODEL_1e5116bf86be4f1882bf20fcf6a6c465",
       "value": true
      }
     },
     "57d7e399c05046a98adea902f1be7d58": {
      "model_module": "@jupyter-widgets/controls",
      "model_module_version": "1.1.0",
      "model_name": "LabelModel",
      "state": {
       "layout": "IPY_MODEL_b9fe73a9d00447f5a6611838aa68771a",
       "style": "IPY_MODEL_f4861ab2161a41a481d4efd27777288f",
       "value": "Select the detector angles to plot."
      }
     },
     "58077b879af64e7dbc37ed3f0b737f2b": {
      "model_module": "@jupyter-widgets/base",
      "model_module_version": "1.0.0",
      "model_name": "LayoutModel",
      "state": {}
     },
     "5811319f0fa94ee481a92fc5fe368815": {
      "model_module": "@jupyter-widgets/controls",
      "model_module_version": "1.1.0",
      "model_name": "DescriptionStyleModel",
      "state": {
       "description_width": ""
      }
     },
     "582bd3b8586f48da886d7a868cac290f": {
      "model_module": "@jupyter-widgets/controls",
      "model_module_version": "1.1.0",
      "model_name": "CheckboxModel",
      "state": {
       "description": "10°",
       "disabled": false,
       "layout": "IPY_MODEL_b6a6026f9a484957a255fc96600c9c14",
       "style": "IPY_MODEL_5d79d6a3b83a4115bb61fac8d665d5cb",
       "value": true
      }
     },
     "582ecf8a072f42a7b3c5823cfde9d18c": {
      "model_module": "@jupyter-widgets/controls",
      "model_module_version": "1.1.0",
      "model_name": "CheckboxModel",
      "state": {
       "description": "30°",
       "disabled": false,
       "layout": "IPY_MODEL_e7c7ff147f5e4b0f9de2d24756f931c5",
       "style": "IPY_MODEL_42ac3994113648e7b1511b9da9417c54",
       "value": true
      }
     },
     "583bbba8ce624dd496a72160cfce3e3c": {
      "model_module": "@jupyter-widgets/controls",
      "model_module_version": "1.1.0",
      "model_name": "CheckboxModel",
      "state": {
       "description": "80°",
       "disabled": false,
       "layout": "IPY_MODEL_94458a1ede7b40a59b7adde0d00b199b",
       "style": "IPY_MODEL_87e57776ce1f4fd38470996dfe8cf8a5",
       "value": true
      }
     },
     "5879180fc1bd49a09297167b29351d56": {
      "model_module": "@jupyter-widgets/controls",
      "model_module_version": "1.1.0",
      "model_name": "ButtonModel",
      "state": {
       "button_style": "success",
       "description": "Update plot",
       "icon": "paint-brush",
       "layout": "IPY_MODEL_82f4562ddb4f464a84af5973022cc115",
       "style": "IPY_MODEL_7e8f437c1a4f4cb2a43386174f683062",
       "tooltip": "Click to redraw the plot below with updated options from above."
      }
     },
     "58d1a5ed88374eb2bc1af82624b9c785": {
      "model_module": "@jupyter-widgets/controls",
      "model_module_version": "1.1.0",
      "model_name": "ButtonStyleModel",
      "state": {}
     },
     "590c75c872914897a0b6cde58cca7b15": {
      "model_module": "@jupyter-widgets/base",
      "model_module_version": "1.0.0",
      "model_name": "LayoutModel",
      "state": {}
     },
     "5929c186d9eb48c99b0e76d2f047ecee": {
      "model_module": "@jupyter-widgets/base",
      "model_module_version": "1.0.0",
      "model_name": "LayoutModel",
      "state": {}
     },
     "592d2c0aa7504792bede385126d23000": {
      "model_module": "@jupyter-widgets/controls",
      "model_module_version": "1.1.0",
      "model_name": "DescriptionStyleModel",
      "state": {
       "description_width": ""
      }
     },
     "594d7f47aa2f4f3590683c7b2106522b": {
      "model_module": "@jupyter-widgets/controls",
      "model_module_version": "1.1.0",
      "model_name": "DescriptionStyleModel",
      "state": {
       "description_width": ""
      }
     },
     "599ca6b319364d34b100c6e2dbf5108f": {
      "model_module": "@jupyter-widgets/controls",
      "model_module_version": "1.1.0",
      "model_name": "LabelModel",
      "state": {
       "layout": "IPY_MODEL_a6f9e3ee75754eecb9e07499d61a606d",
       "style": "IPY_MODEL_0c3297f4aa9948278ef3e5ba45d189d8",
       "value": "Select which sets of data to display."
      }
     },
     "59cfb89d37c64c54a570ec8a8383a52e": {
      "model_module": "@jupyter-widgets/controls",
      "model_module_version": "1.1.0",
      "model_name": "CheckboxModel",
      "state": {
       "description": "10°",
       "disabled": false,
       "layout": "IPY_MODEL_9e76e71b2ce946968f7ea2d6d5db2441",
       "style": "IPY_MODEL_9ff423d239b843e9837184497a85d68c",
       "value": true
      }
     },
     "5a127a21a9244a47962c8a41005dc6b8": {
      "model_module": "@jupyter-widgets/base",
      "model_module_version": "1.0.0",
      "model_name": "LayoutModel",
      "state": {}
     },
     "5a8e1e58eef240009f3eaae78d7272fc": {
      "model_module": "@jupyter-widgets/controls",
      "model_module_version": "1.1.0",
      "model_name": "DescriptionStyleModel",
      "state": {
       "description_width": ""
      }
     },
     "5aa7313937f347f2a4f94727e15b94c1": {
      "model_module": "@jupyter-widgets/controls",
      "model_module_version": "1.1.0",
      "model_name": "CheckboxModel",
      "state": {
       "description": "60°",
       "disabled": false,
       "layout": "IPY_MODEL_14747b7132f64713b014ca83848cb75d",
       "style": "IPY_MODEL_325e49be119544de8398173a30e3339c",
       "value": true
      }
     },
     "5ad7cb92db9f426599a612e6cdbeb1ae": {
      "model_module": "@jupyter-widgets/base",
      "model_module_version": "1.0.0",
      "model_name": "LayoutModel",
      "state": {}
     },
     "5b022fe216604a93ac7675403a1dfe4f": {
      "model_module": "@jupyter-widgets/controls",
      "model_module_version": "1.1.0",
      "model_name": "DescriptionStyleModel",
      "state": {
       "description_width": ""
      }
     },
     "5b07f342793d451f93155c3dd066662f": {
      "model_module": "@jupyter-widgets/controls",
      "model_module_version": "1.1.0",
      "model_name": "ToggleButtonsStyleModel",
      "state": {
       "button_width": "",
       "description_width": ""
      }
     },
     "5b0e90bad91540f7964f171a4fb45504": {
      "model_module": "@jupyter-widgets/controls",
      "model_module_version": "1.1.0",
      "model_name": "LabelModel",
      "state": {
       "layout": "IPY_MODEL_23acda008ed343d999adf0515f15bae6",
       "style": "IPY_MODEL_8872a1a9dadf4cab9a7f77f2ceab455d",
       "value": "Select which secondary particle to plot spectra for."
      }
     },
     "5b750e632456459db070733b106ef94d": {
      "model_module": "@jupyter-widgets/controls",
      "model_module_version": "1.1.0",
      "model_name": "CheckboxModel",
      "state": {
       "description": "45°",
       "disabled": false,
       "layout": "IPY_MODEL_2c7ef81276354c359d1e6d8d4d7f776f",
       "style": "IPY_MODEL_b42f68c91453466f98cc3c71ddde5df8",
       "value": true
      }
     },
     "5be950c9798a433eac7c50d421058a45": {
      "model_module": "@jupyter-widgets/controls",
      "model_module_version": "1.1.0",
      "model_name": "DescriptionStyleModel",
      "state": {
       "description_width": ""
      }
     },
     "5bea036262aa45f88bd611b6d17bbf2c": {
      "model_module": "@jupyter-widgets/controls",
      "model_module_version": "1.1.0",
      "model_name": "CheckboxModel",
      "state": {
       "description": "45°",
       "disabled": false,
       "layout": "IPY_MODEL_3362abff56024a28bb3f806b1c8512b0",
       "style": "IPY_MODEL_1aa273c7bdca4da191835a445d606065",
       "value": true
      }
     },
     "5c1891fc0f3e494bb2daac66c62f0605": {
      "model_module": "@jupyter-widgets/controls",
      "model_module_version": "1.1.0",
      "model_name": "DescriptionStyleModel",
      "state": {
       "description_width": ""
      }
     },
     "5c709c28e7b1473a829030631e766267": {
      "model_module": "@jupyter-widgets/controls",
      "model_module_version": "1.1.0",
      "model_name": "LabelModel",
      "state": {
       "layout": "IPY_MODEL_0904d5c615004520b4addc0afd8f11c6",
       "style": "IPY_MODEL_85a02b30514244aaaf4f8a6d2a2c855b",
       "value": "Select projectile ion energy."
      }
     },
     "5c8ae25629bb45bfa1828369ead77402": {
      "model_module": "@jupyter-widgets/base",
      "model_module_version": "1.0.0",
      "model_name": "LayoutModel",
      "state": {}
     },
     "5cd1a0fc8f2b419cba318f2759e84300": {
      "model_module": "@jupyter-widgets/controls",
      "model_module_version": "1.1.0",
      "model_name": "CheckboxModel",
      "state": {
       "description": "45°",
       "disabled": false,
       "layout": "IPY_MODEL_aca553dec049411a9613a1df049c60f2",
       "style": "IPY_MODEL_1611a7e4b1b04daa83ba9fbdf40a6b48",
       "value": true
      }
     },
     "5d0203b4421942389bb57b1c40fb9970": {
      "model_module": "@jupyter-widgets/controls",
      "model_module_version": "1.1.0",
      "model_name": "DescriptionStyleModel",
      "state": {
       "description_width": ""
      }
     },
     "5d11473ee0a449d0b93f46057bb10c7e": {
      "model_module": "@jupyter-widgets/base",
      "model_module_version": "1.0.0",
      "model_name": "LayoutModel",
      "state": {}
     },
     "5d2d2ef1e6f84956a3c03ae6b9da9860": {
      "model_module": "@jupyter-widgets/base",
      "model_module_version": "1.0.0",
      "model_name": "LayoutModel",
      "state": {}
     },
     "5d45e9bedef14a86a1f78bb791530cec": {
      "model_module": "@jupyter-widgets/base",
      "model_module_version": "1.0.0",
      "model_name": "LayoutModel",
      "state": {}
     },
     "5d6f9298364a4b61a3f6781fd3f90728": {
      "model_module": "@jupyter-widgets/controls",
      "model_module_version": "1.1.0",
      "model_name": "CheckboxModel",
      "state": {
       "description": "10°",
       "disabled": false,
       "layout": "IPY_MODEL_945fd25c30d0494197276661c03dc671",
       "style": "IPY_MODEL_06911039ed2b4f93bbec1f3465e4792f",
       "value": true
      }
     },
     "5d79d6a3b83a4115bb61fac8d665d5cb": {
      "model_module": "@jupyter-widgets/controls",
      "model_module_version": "1.1.0",
      "model_name": "DescriptionStyleModel",
      "state": {
       "description_width": ""
      }
     },
     "5d9f1e4f52be41468c9737671db6eeb7": {
      "model_module": "@jupyter-widgets/controls",
      "model_module_version": "1.1.0",
      "model_name": "DescriptionStyleModel",
      "state": {
       "description_width": ""
      }
     },
     "5db4f40a4ff340c792d454c100ac3ca1": {
      "model_module": "@jupyter-widgets/base",
      "model_module_version": "1.0.0",
      "model_name": "LayoutModel",
      "state": {}
     },
     "5dba777f3ad5495984d9747a4e2eb10a": {
      "model_module": "@jupyter-widgets/controls",
      "model_module_version": "1.1.0",
      "model_name": "CheckboxModel",
      "state": {
       "description": "30°",
       "disabled": false,
       "layout": "IPY_MODEL_66c336724b0c43bba23e9be0854b7b87",
       "style": "IPY_MODEL_11e5620c07cc43d8a2786e3639005438",
       "value": false
      }
     },
     "5e226b0f37f9402c8351fac92816df33": {
      "model_module": "@jupyter-widgets/controls",
      "model_module_version": "1.1.0",
      "model_name": "CheckboxModel",
      "state": {
       "description": "10°",
       "disabled": false,
       "layout": "IPY_MODEL_a1508f29519446cb89354baa0c079653",
       "style": "IPY_MODEL_f7321fc4b17d4e829257afd40af2d5c2",
       "value": true
      }
     },
     "5e3355da7b9848ccac220d67e4854e00": {
      "model_module": "@jupyter-widgets/base",
      "model_module_version": "1.0.0",
      "model_name": "LayoutModel",
      "state": {}
     },
     "5e7db865bbac4ad993bb71f9c9d3c32c": {
      "model_module": "@jupyter-widgets/controls",
      "model_module_version": "1.1.0",
      "model_name": "CheckboxModel",
      "state": {
       "description": "80°",
       "disabled": false,
       "layout": "IPY_MODEL_14a99f6b164c4d9299d9760d104c3d74",
       "style": "IPY_MODEL_74afdf280b99481c91ec8638fcafbb6c",
       "value": true
      }
     },
     "5eae71481201469a9f41f176634ff53e": {
      "model_module": "@jupyter-widgets/controls",
      "model_module_version": "1.1.0",
      "model_name": "DescriptionStyleModel",
      "state": {
       "description_width": ""
      }
     },
     "5f33917099b84db99530cfe19a797a09": {
      "model_module": "@jupyter-widgets/base",
      "model_module_version": "1.0.0",
      "model_name": "LayoutModel",
      "state": {}
     },
     "5f3628b512394296a21837d4baf0cae3": {
      "model_module": "@jupyter-widgets/controls",
      "model_module_version": "1.1.0",
      "model_name": "ToggleButtonsStyleModel",
      "state": {
       "button_width": "",
       "description_width": ""
      }
     },
     "5f37362934e14109951258ad79a49283": {
      "model_module": "@jupyter-widgets/controls",
      "model_module_version": "1.1.0",
      "model_name": "LabelModel",
      "state": {
       "layout": "IPY_MODEL_3ed8a03b12234f1f96c21be5fc89dbbf",
       "style": "IPY_MODEL_5a8e1e58eef240009f3eaae78d7272fc",
       "value": "Select the detector angles to plot."
      }
     },
     "5f3b3e9281414288a0c60d8369ef055b": {
      "model_module": "@jupyter-widgets/controls",
      "model_module_version": "1.1.0",
      "model_name": "CheckboxModel",
      "state": {
       "description": "10°",
       "disabled": false,
       "layout": "IPY_MODEL_c056e640edce4c269d8bbf0f54262eae",
       "style": "IPY_MODEL_434eda9a3fdd4adc9d47d36d17c44992",
       "value": true
      }
     },
     "5f6d3b5ab3f94a0d9af8dd6912b4767b": {
      "model_module": "@jupyter-widgets/base",
      "model_module_version": "1.0.0",
      "model_name": "LayoutModel",
      "state": {}
     },
     "5f80d1cf22234e7594f18187386c28aa": {
      "model_module": "@jupyter-widgets/base",
      "model_module_version": "1.0.0",
      "model_name": "LayoutModel",
      "state": {}
     },
     "5f81c44e3d4f4848891cd99623046fe3": {
      "model_module": "@jupyter-widgets/controls",
      "model_module_version": "1.1.0",
      "model_name": "DescriptionStyleModel",
      "state": {
       "description_width": ""
      }
     },
     "5fc3f122bf5a4e9f81f5da4f559639cc": {
      "model_module": "@jupyter-widgets/base",
      "model_module_version": "1.0.0",
      "model_name": "LayoutModel",
      "state": {}
     },
     "5ffcfd3693164356858a0cf7f7f49abf": {
      "model_module": "@jupyter-widgets/controls",
      "model_module_version": "1.1.0",
      "model_name": "ToggleButtonsModel",
      "state": {
       "_options_labels": [
        "400 MeV",
        "800 MeV",
        "2500 MeV"
       ],
       "button_style": "",
       "description": "Energy:",
       "icons": [],
       "index": 0,
       "layout": "IPY_MODEL_4983d2055aa540b09bf1671d230359fd",
       "style": "IPY_MODEL_4de496bb8bbb4886a778a02e718a549f",
       "tooltips": [
        "lowest energy",
        "middle energy",
        "highest energy"
       ]
      }
     },
     "6019f206380e40869a36e7ed7440ff63": {
      "model_module": "@jupyter-widgets/controls",
      "model_module_version": "1.1.0",
      "model_name": "CheckboxModel",
      "state": {
       "description": "30°",
       "disabled": false,
       "layout": "IPY_MODEL_fe14d7b10f2e4a5c8d43b25464f2f8af",
       "style": "IPY_MODEL_c5319387ee0f448b983f45fd842808da",
       "value": true
      }
     },
     "6043f70a44fd4a4ab3da05f2351f5d16": {
      "model_module": "@jupyter-widgets/base",
      "model_module_version": "1.0.0",
      "model_name": "LayoutModel",
      "state": {}
     },
     "604b16220d6048ea886bfe88261bdf85": {
      "model_module": "@jupyter-widgets/controls",
      "model_module_version": "1.1.0",
      "model_name": "DescriptionStyleModel",
      "state": {
       "description_width": ""
      }
     },
     "605082e0f753458887d4cb323c5f3cab": {
      "model_module": "@jupyter-widgets/base",
      "model_module_version": "1.0.0",
      "model_name": "LayoutModel",
      "state": {}
     },
     "60640bc143d7461fa221ade3e9a1babf": {
      "model_module": "@jupyter-widgets/base",
      "model_module_version": "1.0.0",
      "model_name": "LayoutModel",
      "state": {}
     },
     "6084ee82670b45f2b72a203c656729a7": {
      "model_module": "@jupyter-widgets/controls",
      "model_module_version": "1.1.0",
      "model_name": "CheckboxModel",
      "state": {
       "description": "45°",
       "disabled": false,
       "layout": "IPY_MODEL_1a69e3aee3e14b7db2c3eaef0f27ff8c",
       "style": "IPY_MODEL_a0fb516231fc4c46bebbabd867d9dd0e",
       "value": true
      }
     },
     "60c6db45211e4b37a236fe435da7fd4a": {
      "model_module": "@jupyter-widgets/controls",
      "model_module_version": "1.1.0",
      "model_name": "CheckboxModel",
      "state": {
       "description": "60°",
       "disabled": false,
       "layout": "IPY_MODEL_cc72e4f4aa744945b46d2989b2c8382b",
       "style": "IPY_MODEL_d8e79c82101d4d939d3b239c270edb50",
       "value": true
      }
     },
     "60da9f76f87747409e60a24d11f5064e": {
      "model_module": "@jupyter-widgets/controls",
      "model_module_version": "1.1.0",
      "model_name": "CheckboxModel",
      "state": {
       "description": "30°",
       "disabled": false,
       "layout": "IPY_MODEL_f8d1defbf04d4c329688c00ad9b82081",
       "style": "IPY_MODEL_bb0ee65ce4894fc79a7cad5d70b7b308",
       "value": true
      }
     },
     "60e28aaf83044e78b416a7e4140081f9": {
      "model_module": "@jupyter-widgets/controls",
      "model_module_version": "1.1.0",
      "model_name": "ToggleButtonsModel",
      "state": {
       "_options_labels": [
        "Al",
        "HDPE",
        "AlPE"
       ],
       "button_style": "",
       "description": "Material:",
       "icons": [],
       "index": 0,
       "layout": "IPY_MODEL_1464d343c35a4ef39cb521de45cc30a7",
       "style": "IPY_MODEL_28c6e8a53b30499788d694073344f160",
       "tooltips": [
        "Aluminum",
        "Polyethylene",
        "Combination of Al and HDPE"
       ]
      }
     },
     "60e581ed69f348ada1f183e02e3a1501": {
      "model_module": "@jupyter-widgets/controls",
      "model_module_version": "1.1.0",
      "model_name": "ToggleButtonsModel",
      "state": {
       "_options_labels": [
        "None",
        "Spaced by 10²"
       ],
       "button_style": "",
       "description": "Spacing:",
       "icons": [],
       "index": 0,
       "layout": "IPY_MODEL_978237f274d2476b8418648f0228b9e7",
       "style": "IPY_MODEL_365cc349dabc4ae5a0219329152a8f57",
       "tooltips": [
        "All values are presented as is.",
        "Plots for different detectors are multiplied by powers of 10² for easier viewing."
       ]
      }
     },
     "611f22c67c284b8a81ffc118bc58ad4b": {
      "model_module": "@jupyter-widgets/base",
      "model_module_version": "1.0.0",
      "model_name": "LayoutModel",
      "state": {}
     },
     "61335b6f99b3431594c37c7bacfd72c9": {
      "model_module": "@jupyter-widgets/base",
      "model_module_version": "1.0.0",
      "model_name": "LayoutModel",
      "state": {}
     },
     "61530f17cf0a4a869cc3326b3400bd36": {
      "model_module": "@jupyter-widgets/controls",
      "model_module_version": "1.1.0",
      "model_name": "ToggleButtonsModel",
      "state": {
       "_options_labels": [
        "20 g/cm²",
        "40 g/cm²",
        "60 g/cm²"
       ],
       "button_style": "",
       "description": "Thickness:",
       "icons": [],
       "index": 0,
       "layout": "IPY_MODEL_383081b3ad19498490196aa4c2e92f84",
       "style": "IPY_MODEL_f4e068f26b124e70aee3d4ed6f1a1f11",
       "tooltips": [
        "20 g/cm² Aluminum",
        "40 g/cm² Aluminum",
        "60 g/cm² Aluminum"
       ]
      }
     },
     "61906c76664a41d496cc06fad94da3da": {
      "model_module": "@jupyter-widgets/controls",
      "model_module_version": "1.1.0",
      "model_name": "DescriptionStyleModel",
      "state": {
       "description_width": ""
      }
     },
     "619eb7b1a8ab4a82a15314965e6fe9a2": {
      "model_module": "@jupyter-widgets/base",
      "model_module_version": "1.0.0",
      "model_name": "LayoutModel",
      "state": {}
     },
     "61e3b1d974f54bdb9c326faeee0c314d": {
      "model_module": "@jupyter-widgets/controls",
      "model_module_version": "1.1.0",
      "model_name": "CheckboxModel",
      "state": {
       "description": "30°",
       "disabled": false,
       "layout": "IPY_MODEL_a6c3f474e4fc44af9c36e8c0cf3f1b5a",
       "style": "IPY_MODEL_03a393a5b856453da2dc9e69bb9c625b",
       "value": true
      }
     },
     "62005fa6af354d3abb3d96cdd98641ee": {
      "model_module": "@jupyter-widgets/base",
      "model_module_version": "1.0.0",
      "model_name": "LayoutModel",
      "state": {}
     },
     "622b1dbaabd243b9843ca2f3fffb7666": {
      "model_module": "@jupyter-widgets/controls",
      "model_module_version": "1.1.0",
      "model_name": "DescriptionStyleModel",
      "state": {
       "description_width": ""
      }
     },
     "625f3971a6524e3384d247f8736ed41c": {
      "model_module": "@jupyter-widgets/controls",
      "model_module_version": "1.1.0",
      "model_name": "CheckboxModel",
      "state": {
       "description": "10°",
       "disabled": false,
       "layout": "IPY_MODEL_9ebc4e97c55b459f85d9b769bce74ce0",
       "style": "IPY_MODEL_f3f69e1081784e57b0f53a13152b39c0",
       "value": true
      }
     },
     "626dcd99f79b46e4b93f117fd4b1db37": {
      "model_module": "@jupyter-widgets/controls",
      "model_module_version": "1.1.0",
      "model_name": "CheckboxModel",
      "state": {
       "description": "135°",
       "disabled": false,
       "layout": "IPY_MODEL_251dbee8118e4833a50c38ca3bb755d4",
       "style": "IPY_MODEL_5811319f0fa94ee481a92fc5fe368815",
       "value": true
      }
     },
     "62c0dff630c54a339359f4468590031f": {
      "model_module": "@jupyter-widgets/base",
      "model_module_version": "1.0.0",
      "model_name": "LayoutModel",
      "state": {}
     },
     "6301ab8a9251463b9ae21da49e69bd8c": {
      "model_module": "@jupyter-widgets/controls",
      "model_module_version": "1.1.0",
      "model_name": "DescriptionStyleModel",
      "state": {
       "description_width": ""
      }
     },
     "630a75892166422cb5a31e63e1a6c742": {
      "model_module": "@jupyter-widgets/controls",
      "model_module_version": "1.1.0",
      "model_name": "DescriptionStyleModel",
      "state": {
       "description_width": ""
      }
     },
     "631536be399348008a03b762521caa26": {
      "model_module": "@jupyter-widgets/controls",
      "model_module_version": "1.1.0",
      "model_name": "LabelModel",
      "state": {
       "layout": "IPY_MODEL_0c132da78fcf4a549f39d30e06c640a9",
       "style": "IPY_MODEL_dcc580c163444356988ae2cd34110f94",
       "value": "Select the detector angles to plot."
      }
     },
     "634950df2f1743129effab1a202ebd6c": {
      "model_module": "@jupyter-widgets/controls",
      "model_module_version": "1.1.0",
      "model_name": "DescriptionStyleModel",
      "state": {
       "description_width": ""
      }
     },
     "638b9a043e1e4701abfe86496606c417": {
      "model_module": "@jupyter-widgets/base",
      "model_module_version": "1.0.0",
      "model_name": "LayoutModel",
      "state": {}
     },
     "63b8575a0be8460e9235b4700552459c": {
      "model_module": "@jupyter-widgets/controls",
      "model_module_version": "1.1.0",
      "model_name": "DescriptionStyleModel",
      "state": {
       "description_width": ""
      }
     },
     "63bc4d3d272049c5b9b3cdbb4723fb43": {
      "model_module": "@jupyter-widgets/controls",
      "model_module_version": "1.1.0",
      "model_name": "LabelModel",
      "state": {
       "layout": "IPY_MODEL_2dc29aad853f45168fd248a8554269c5",
       "style": "IPY_MODEL_0134c3792d954a6fb8646afb9cd0529f",
       "value": "Select how data sets for each detector should be spaced apart (if at all)."
      }
     },
     "63d35644410f496587d7e4afc765a7ad": {
      "model_module": "@jupyter-widgets/controls",
      "model_module_version": "1.1.0",
      "model_name": "LabelModel",
      "state": {
       "layout": "IPY_MODEL_e9876dad0d064a82bb3810f9daf6dc78",
       "style": "IPY_MODEL_395f4ed1396f41599458d76bd4a9f8b9",
       "value": "Select upstream target mass thickness."
      }
     },
     "63d86dafd39f4b03988a50402ac33d4c": {
      "model_module": "@jupyter-widgets/controls",
      "model_module_version": "1.1.0",
      "model_name": "DescriptionStyleModel",
      "state": {
       "description_width": ""
      }
     },
     "63f3673c4a8d4904b8b4957354acdb7a": {
      "model_module": "@jupyter-widgets/controls",
      "model_module_version": "1.1.0",
      "model_name": "DescriptionStyleModel",
      "state": {
       "description_width": ""
      }
     },
     "6432281fb9754f448a6ef8b536a3b412": {
      "model_module": "@jupyter-widgets/controls",
      "model_module_version": "1.1.0",
      "model_name": "DescriptionStyleModel",
      "state": {
       "description_width": ""
      }
     },
     "644ed6cc3d2144fdaa33e0de942764ca": {
      "model_module": "@jupyter-widgets/controls",
      "model_module_version": "1.1.0",
      "model_name": "DescriptionStyleModel",
      "state": {
       "description_width": ""
      }
     },
     "648e2abce8bd44749de5e0704c4e0f8c": {
      "model_module": "@jupyter-widgets/base",
      "model_module_version": "1.0.0",
      "model_name": "LayoutModel",
      "state": {}
     },
     "64a39e5952b74d7d9eb1a3cdc4a824d1": {
      "model_module": "@jupyter-widgets/controls",
      "model_module_version": "1.1.0",
      "model_name": "CheckboxModel",
      "state": {
       "description": "10°",
       "disabled": false,
       "layout": "IPY_MODEL_bec0a54e31b749e9ad4b1152e11a6e85",
       "style": "IPY_MODEL_18b8c3c6b1d2459ab250e28c7d51c293",
       "value": true
      }
     },
     "64bcc39945b54dc3845c9c8a5f663971": {
      "model_module": "@jupyter-widgets/controls",
      "model_module_version": "1.1.0",
      "model_name": "DescriptionStyleModel",
      "state": {
       "description_width": ""
      }
     },
     "64cddb3db5b6461d93882d622d7c74e2": {
      "model_module": "@jupyter-widgets/base",
      "model_module_version": "1.0.0",
      "model_name": "LayoutModel",
      "state": {}
     },
     "64e57371413542b59172c6948348cc08": {
      "model_module": "@jupyter-widgets/base",
      "model_module_version": "1.0.0",
      "model_name": "LayoutModel",
      "state": {}
     },
     "652dafb0d07046108b2c23f2fb75432c": {
      "model_module": "@jupyter-widgets/controls",
      "model_module_version": "1.1.0",
      "model_name": "DescriptionStyleModel",
      "state": {
       "description_width": ""
      }
     },
     "6534c2495cb84bcebdd805f461b0f732": {
      "model_module": "@jupyter-widgets/controls",
      "model_module_version": "1.1.0",
      "model_name": "ToggleButtonsStyleModel",
      "state": {
       "button_width": "",
       "description_width": ""
      }
     },
     "6592682b66da430baa3d52e6c03c9f70": {
      "model_module": "@jupyter-widgets/base",
      "model_module_version": "1.0.0",
      "model_name": "LayoutModel",
      "state": {}
     },
     "65ac9ffa46e74c519cea167a6f7c9e00": {
      "model_module": "@jupyter-widgets/controls",
      "model_module_version": "1.1.0",
      "model_name": "LabelModel",
      "state": {
       "layout": "IPY_MODEL_0a892fe9e1af434dbee48a0fe6ed30f0",
       "style": "IPY_MODEL_d7728d7f18734d9985528ec5cc7e6bb9",
       "value": "Select which secondary particle to plot spectra for."
      }
     },
     "65b9b514b21a4270bbe617e747d7d512": {
      "model_module": "@jupyter-widgets/controls",
      "model_module_version": "1.1.0",
      "model_name": "LabelModel",
      "state": {
       "layout": "IPY_MODEL_d787a6af00114089a18df01cc6832c33",
       "style": "IPY_MODEL_d6d67849279d4eec8fe5b047ef4db595",
       "value": "Select which secondary particle to plot spectra for."
      }
     },
     "65c67283abaa4187b143e98bc5c4bf8b": {
      "model_module": "@jupyter-widgets/controls",
      "model_module_version": "1.1.0",
      "model_name": "DescriptionStyleModel",
      "state": {
       "description_width": ""
      }
     },
     "65dc34305d364cc9aec224dba5542416": {
      "model_module": "@jupyter-widgets/base",
      "model_module_version": "1.0.0",
      "model_name": "LayoutModel",
      "state": {}
     },
     "65eb98388f3b425ca85e6efa4a4c4181": {
      "model_module": "@jupyter-widgets/controls",
      "model_module_version": "1.1.0",
      "model_name": "LabelModel",
      "state": {
       "layout": "IPY_MODEL_0f4d8e82915342dea9c99fdf5cf9559b",
       "style": "IPY_MODEL_ccb92fb4f4334ceab4beced3bde87ad2",
       "value": "Select the detector angles to plot."
      }
     },
     "6618fede54bc4ec88c1d1868043f5123": {
      "model_module": "@jupyter-widgets/controls",
      "model_module_version": "1.1.0",
      "model_name": "ToggleButtonsModel",
      "state": {
       "_options_labels": [
        "20 g/cm²",
        "40 g/cm²",
        "60 g/cm²"
       ],
       "button_style": "",
       "description": "Thickness:",
       "icons": [],
       "index": 0,
       "layout": "IPY_MODEL_c0771b671595474abd61daef2cdb5433",
       "style": "IPY_MODEL_c9cb879e1adc497faaf4f9487356048f",
       "tooltips": [
        "20 g/cm² Aluminum",
        "40 g/cm² Aluminum",
        "60 g/cm² Aluminum"
       ]
      }
     },
     "6656e479c3aa402088a708dc7886b481": {
      "model_module": "@jupyter-widgets/base",
      "model_module_version": "1.0.0",
      "model_name": "LayoutModel",
      "state": {}
     },
     "665fc08931fc44619afd3e1014cef644": {
      "model_module": "@jupyter-widgets/base",
      "model_module_version": "1.0.0",
      "model_name": "LayoutModel",
      "state": {}
     },
     "666947855c7b4a45a47d2346e06c6163": {
      "model_module": "@jupyter-widgets/base",
      "model_module_version": "1.0.0",
      "model_name": "LayoutModel",
      "state": {}
     },
     "6669aa29ed0549aca74d7019dc6c0e5f": {
      "model_module": "@jupyter-widgets/controls",
      "model_module_version": "1.1.0",
      "model_name": "DescriptionStyleModel",
      "state": {
       "description_width": ""
      }
     },
     "66780daaad254910a6361ece5f318824": {
      "model_module": "@jupyter-widgets/controls",
      "model_module_version": "1.1.0",
      "model_name": "CheckboxModel",
      "state": {
       "description": "80°",
       "disabled": false,
       "layout": "IPY_MODEL_71423ab69d8f4d27974054ce91340404",
       "style": "IPY_MODEL_8457014aa34643e0a25eff2ec3f6e208",
       "value": false
      }
     },
     "669362fe01604699a1d455ddf43ff835": {
      "model_module": "@jupyter-widgets/controls",
      "model_module_version": "1.1.0",
      "model_name": "DescriptionStyleModel",
      "state": {
       "description_width": ""
      }
     },
     "66c336724b0c43bba23e9be0854b7b87": {
      "model_module": "@jupyter-widgets/base",
      "model_module_version": "1.0.0",
      "model_name": "LayoutModel",
      "state": {}
     },
     "674ad855d31a46c995045aa6e30f60ca": {
      "model_module": "@jupyter-widgets/controls",
      "model_module_version": "1.1.0",
      "model_name": "LabelModel",
      "state": {
       "layout": "IPY_MODEL_2aa9e62ef0e34d62baf0e57cb97ecb73",
       "style": "IPY_MODEL_2e728ca3c2034b8086741be0d71e3946",
       "value": "Select upstream target mass thickness."
      }
     },
     "67649ac06c0d44b7ba8bc7ab44f13d98": {
      "model_module": "@jupyter-widgets/base",
      "model_module_version": "1.0.0",
      "model_name": "LayoutModel",
      "state": {}
     },
     "676c9ec4db9c4580a6d02dba2ee14cc3": {
      "model_module": "@jupyter-widgets/base",
      "model_module_version": "1.0.0",
      "model_name": "LayoutModel",
      "state": {}
     },
     "678505db90ca467f8138dcd59e60cab6": {
      "model_module": "@jupyter-widgets/controls",
      "model_module_version": "1.1.0",
      "model_name": "ToggleButtonsModel",
      "state": {
       "_options_labels": [
        "N (¹n)",
        "NDC (¹n)"
       ],
       "button_style": "",
       "description": "Type:",
       "icons": [],
       "index": 0,
       "layout": "IPY_MODEL_ff0752d0085a4a8693b2646507320ce7",
       "style": "IPY_MODEL_0c250d6154444cb5aaca2a60f583c229",
       "tooltips": [
        "Neutron",
        "Back Target Neutron"
       ]
      }
     },
     "67c7ff1eaa964102bb237a7e61175365": {
      "model_module": "@jupyter-widgets/base",
      "model_module_version": "1.0.0",
      "model_name": "LayoutModel",
      "state": {}
     },
     "6808932636854169abb96099d295094a": {
      "model_module": "@jupyter-widgets/controls",
      "model_module_version": "1.1.0",
      "model_name": "CheckboxModel",
      "state": {
       "description": "60°",
       "disabled": false,
       "layout": "IPY_MODEL_a8e63e1dcb4345d2b913355531ac989f",
       "style": "IPY_MODEL_7adde8f3afc7478e95f52a5ba89da941",
       "value": true
      }
     },
     "684604c74c48451cb8d88cce812fa285": {
      "model_module": "@jupyter-widgets/base",
      "model_module_version": "1.0.0",
      "model_name": "LayoutModel",
      "state": {}
     },
     "6860fc537c664772b30afb7ebfc841f2": {
      "model_module": "@jupyter-widgets/base",
      "model_module_version": "1.0.0",
      "model_name": "LayoutModel",
      "state": {}
     },
     "6863339bf1d24b64b0edd13d07bcda29": {
      "model_module": "@jupyter-widgets/controls",
      "model_module_version": "1.1.0",
      "model_name": "CheckboxModel",
      "state": {
       "description": "135°",
       "disabled": false,
       "layout": "IPY_MODEL_a918cb0bb85249d1b54b8565dad3f659",
       "style": "IPY_MODEL_35ced27b879c42d9b20e796e03c2f102",
       "value": true
      }
     },
     "6875058ca28d415ebf3402c09385b7de": {
      "model_module": "@jupyter-widgets/base",
      "model_module_version": "1.0.0",
      "model_name": "LayoutModel",
      "state": {}
     },
     "68933790a74a4b828811e6ca8c0609f0": {
      "model_module": "@jupyter-widgets/controls",
      "model_module_version": "1.1.0",
      "model_name": "CheckboxModel",
      "state": {
       "description": "MCNP simulated",
       "disabled": false,
       "layout": "IPY_MODEL_3d97e80d1c424d3e854e2b2106a1b287",
       "style": "IPY_MODEL_f808b8d841c64ede90b90c8d1d382ad7",
       "value": true
      }
     },
     "6896b4bd8afa4cdcbf69ee8bd652a294": {
      "model_module": "@jupyter-widgets/controls",
      "model_module_version": "1.1.0",
      "model_name": "DescriptionStyleModel",
      "state": {
       "description_width": ""
      }
     },
     "68ea0c8040b549ddbf28ba9ea85eccfa": {
      "model_module": "@jupyter-widgets/controls",
      "model_module_version": "1.1.0",
      "model_name": "DescriptionStyleModel",
      "state": {
       "description_width": ""
      }
     },
     "6902a3d0f5ed4573bc62d9ca3b441fe5": {
      "model_module": "@jupyter-widgets/controls",
      "model_module_version": "1.1.0",
      "model_name": "DescriptionStyleModel",
      "state": {
       "description_width": ""
      }
     },
     "6962c061d59045bb85f2b5cd341f4833": {
      "model_module": "@jupyter-widgets/controls",
      "model_module_version": "1.1.0",
      "model_name": "ToggleButtonsModel",
      "state": {
       "_options_labels": [
        "None",
        "Spaced by 10²"
       ],
       "button_style": "",
       "description": "Spacing:",
       "icons": [],
       "index": 0,
       "layout": "IPY_MODEL_c7cfcb5d67974ae0ba1f4bc0e90120d3",
       "style": "IPY_MODEL_5b07f342793d451f93155c3dd066662f",
       "tooltips": [
        "All values are presented as is.",
        "Plots for different detectors are multiplied by powers of 10² for easier viewing."
       ]
      }
     },
     "69a91690e7ca45c695f3d6199eae47b1": {
      "model_module": "@jupyter-widgets/controls",
      "model_module_version": "1.1.0",
      "model_name": "LabelModel",
      "state": {
       "layout": "IPY_MODEL_094e31aacf7e473a919b5a57d531f347",
       "style": "IPY_MODEL_8b743d4952b248f7a36eb844c64b0788",
       "value": "Select the detector angles to plot."
      }
     },
     "69b8433c4d3c4ff2811205a7b366fe96": {
      "model_module": "@jupyter-widgets/base",
      "model_module_version": "1.0.0",
      "model_name": "LayoutModel",
      "state": {}
     },
     "69bb322b76854ee69f4fe54e0100c26d": {
      "model_module": "@jupyter-widgets/controls",
      "model_module_version": "1.1.0",
      "model_name": "CheckboxModel",
      "state": {
       "description": "60°",
       "disabled": false,
       "layout": "IPY_MODEL_a736e35fa3074fa386911fcdb54f58e3",
       "style": "IPY_MODEL_0dc535502f544ef18cef129a43da4899",
       "value": true
      }
     },
     "69ccb38d5d6d4e90a6f6b4b35c0f2e8f": {
      "model_module": "@jupyter-widgets/controls",
      "model_module_version": "1.1.0",
      "model_name": "CheckboxModel",
      "state": {
       "description": "MCNP simulated",
       "disabled": false,
       "layout": "IPY_MODEL_195d94cd3ae042f0960a238e7d83b52f",
       "style": "IPY_MODEL_15ee170653c240fb99340a790479ce12",
       "value": true
      }
     },
     "69ea7f91f62f4a098c14805203339114": {
      "model_module": "@jupyter-widgets/controls",
      "model_module_version": "1.1.0",
      "model_name": "DescriptionStyleModel",
      "state": {
       "description_width": ""
      }
     },
     "69ec8e82f79545b8b4db029164b7f4b6": {
      "model_module": "@jupyter-widgets/controls",
      "model_module_version": "1.1.0",
      "model_name": "DescriptionStyleModel",
      "state": {
       "description_width": ""
      }
     },
     "6a2b921d39ac461dbc061b948af0ceea": {
      "model_module": "@jupyter-widgets/base",
      "model_module_version": "1.0.0",
      "model_name": "LayoutModel",
      "state": {}
     },
     "6b6887f98a3e425fb0be0ae08a8fee56": {
      "model_module": "@jupyter-widgets/base",
      "model_module_version": "1.0.0",
      "model_name": "LayoutModel",
      "state": {}
     },
     "6b777fc2776b4640a564e258100c4073": {
      "model_module": "@jupyter-widgets/base",
      "model_module_version": "1.0.0",
      "model_name": "LayoutModel",
      "state": {}
     },
     "6ba8174a3a714bbda95b620867e30c97": {
      "model_module": "@jupyter-widgets/controls",
      "model_module_version": "1.1.0",
      "model_name": "DescriptionStyleModel",
      "state": {
       "description_width": ""
      }
     },
     "6bbd384fbfe648a68d8e73cde9bacc5e": {
      "model_module": "@jupyter-widgets/controls",
      "model_module_version": "1.1.0",
      "model_name": "CheckboxModel",
      "state": {
       "description": "30°",
       "disabled": false,
       "layout": "IPY_MODEL_134bc7054b404937bd3736cbe91e7b67",
       "style": "IPY_MODEL_594d7f47aa2f4f3590683c7b2106522b",
       "value": true
      }
     },
     "6be0765a7f13412395f9dd9107685df5": {
      "model_module": "@jupyter-widgets/controls",
      "model_module_version": "1.1.0",
      "model_name": "CheckboxModel",
      "state": {
       "description": "80°",
       "disabled": false,
       "layout": "IPY_MODEL_b256a51a15734075b996a26f220eea7f",
       "style": "IPY_MODEL_3f9b30d802344f01a03d47bc911046d3",
       "value": true
      }
     },
     "6c11b79834094d31b0aff5194582caaf": {
      "model_module": "@jupyter-widgets/controls",
      "model_module_version": "1.1.0",
      "model_name": "CheckboxModel",
      "state": {
       "description": "135°",
       "disabled": false,
       "layout": "IPY_MODEL_64cddb3db5b6461d93882d622d7c74e2",
       "style": "IPY_MODEL_e7d5c0076bce489bb6ca680b9c77e9fb",
       "value": true
      }
     },
     "6c469ab7f87b44daa771ff9fc23ee140": {
      "model_module": "@jupyter-widgets/controls",
      "model_module_version": "1.1.0",
      "model_name": "LabelModel",
      "state": {
       "layout": "IPY_MODEL_b8dff6def2614a08a4261fa0559edf8f",
       "style": "IPY_MODEL_7b785eb9dea24458a4d1ac57bbfbe2fc",
       "value": "Select the detector angles to plot."
      }
     },
     "6c5ed0a01f1f418aba1e82fb20332402": {
      "model_module": "@jupyter-widgets/controls",
      "model_module_version": "1.1.0",
      "model_name": "DescriptionStyleModel",
      "state": {
       "description_width": ""
      }
     },
     "6c8998b14930415993effbd41bcf876c": {
      "model_module": "@jupyter-widgets/controls",
      "model_module_version": "1.1.0",
      "model_name": "ToggleButtonsModel",
      "state": {
       "_options_labels": [
        "400 MeV",
        "800 MeV",
        "2500 MeV"
       ],
       "button_style": "",
       "description": "Energy:",
       "icons": [],
       "index": 0,
       "layout": "IPY_MODEL_e8b1430b7a3246b5962a8ec757207553",
       "style": "IPY_MODEL_243c9ba949cf4de2bb60bac6e9decc8d",
       "tooltips": [
        "lowest energy",
        "middle energy",
        "highest energy"
       ]
      }
     },
     "6d7e8177703e4fc78b5724bb7c5f39e9": {
      "model_module": "@jupyter-widgets/base",
      "model_module_version": "1.0.0",
      "model_name": "LayoutModel",
      "state": {}
     },
     "6d7ee98cf6a1461ba5df20b026c4f1d4": {
      "model_module": "@jupyter-widgets/controls",
      "model_module_version": "1.1.0",
      "model_name": "DescriptionStyleModel",
      "state": {
       "description_width": ""
      }
     },
     "6d95059981624950879bdfebbe0d9296": {
      "model_module": "@jupyter-widgets/base",
      "model_module_version": "1.0.0",
      "model_name": "LayoutModel",
      "state": {}
     },
     "6db02d35a9c74e88ba5a58093a39757d": {
      "model_module": "@jupyter-widgets/controls",
      "model_module_version": "1.1.0",
      "model_name": "ToggleButtonsStyleModel",
      "state": {
       "button_width": "",
       "description_width": ""
      }
     },
     "6dc1d2dba536489e85ba12120a94c707": {
      "model_module": "@jupyter-widgets/base",
      "model_module_version": "1.0.0",
      "model_name": "LayoutModel",
      "state": {}
     },
     "6e2dd0d385234c758577ccd5cbbbcad0": {
      "model_module": "@jupyter-widgets/controls",
      "model_module_version": "1.1.0",
      "model_name": "DescriptionStyleModel",
      "state": {
       "description_width": ""
      }
     },
     "6e5bfcd185424475abd072f9ff0da8ef": {
      "model_module": "@jupyter-widgets/base",
      "model_module_version": "1.0.0",
      "model_name": "LayoutModel",
      "state": {}
     },
     "6e5f793677974678bc6e7082c99effcc": {
      "model_module": "@jupyter-widgets/controls",
      "model_module_version": "1.1.0",
      "model_name": "DescriptionStyleModel",
      "state": {
       "description_width": ""
      }
     },
     "6e95f3508fc4499f871042d4040bd640": {
      "model_module": "@jupyter-widgets/controls",
      "model_module_version": "1.1.0",
      "model_name": "DescriptionStyleModel",
      "state": {
       "description_width": ""
      }
     },
     "6e9bce0cd9c54094b088b7a7566773dd": {
      "model_module": "@jupyter-widgets/controls",
      "model_module_version": "1.1.0",
      "model_name": "DescriptionStyleModel",
      "state": {
       "description_width": ""
      }
     },
     "6e9fcd4b109c4f9bacdca54b688ff986": {
      "model_module": "@jupyter-widgets/controls",
      "model_module_version": "1.1.0",
      "model_name": "ToggleButtonsModel",
      "state": {
       "_options_labels": [
        "N (¹n)",
        "NDC (¹n)",
        "P (¹H)",
        "D (²H)"
       ],
       "button_style": "",
       "description": "Type:",
       "icons": [],
       "index": 0,
       "layout": "IPY_MODEL_5683570204824c2babd1bd671d01df2d",
       "style": "IPY_MODEL_c01c78719669455786f6a3d7f97a34f2",
       "tooltips": [
        "Neutron",
        "Back Target Neutron",
        "Proton",
        "Deuteron"
       ]
      }
     },
     "6eadeeb6bf074b6d8e522423bb2b05e9": {
      "model_module": "@jupyter-widgets/controls",
      "model_module_version": "1.1.0",
      "model_name": "ToggleButtonsModel",
      "state": {
       "_options_labels": [
        "N (¹n)",
        "NDC (¹n)",
        "P (¹H)",
        "D (²H)",
        "T (³H)",
        "S (³He)",
        "A (⁴He)"
       ],
       "button_style": "",
       "description": "Type:",
       "icons": [],
       "index": 0,
       "layout": "IPY_MODEL_c028581d290146adb6944ce81d6a8445",
       "style": "IPY_MODEL_081eed35ebd6477f95c3abb50281bf35",
       "tooltips": [
        "Neutron",
        "Back Target Neutron",
        "Proton",
        "Deuteron",
        "Triton",
        "Helium-3",
        "Helium-4"
       ]
      }
     },
     "6edb3e911d44441787d5be281679c7dd": {
      "model_module": "@jupyter-widgets/controls",
      "model_module_version": "1.1.0",
      "model_name": "ToggleButtonsStyleModel",
      "state": {
       "button_width": "",
       "description_width": ""
      }
     },
     "6efc4b6151e242caaa8ab52d50bd5997": {
      "model_module": "@jupyter-widgets/controls",
      "model_module_version": "1.1.0",
      "model_name": "ToggleButtonsStyleModel",
      "state": {
       "button_width": "",
       "description_width": ""
      }
     },
     "6f28b70a460e4dcc975c5927eef6500a": {
      "model_module": "@jupyter-widgets/controls",
      "model_module_version": "1.1.0",
      "model_name": "ToggleButtonsModel",
      "state": {
       "_options_labels": [
        "P (¹H)",
        "D (²H)",
        "T (³H)",
        "A (⁴He)"
       ],
       "button_style": "",
       "description": "Particle:",
       "icons": [],
       "index": 0,
       "layout": "IPY_MODEL_c0590248ff2b4526bf62006198a16f0e",
       "style": "IPY_MODEL_3189369a0cac44e0a6e3b6b6d8657f93",
       "tooltips": [
        "Proton",
        "Deuteron",
        "Triton",
        "Helium-4"
       ]
      }
     },
     "6f9154ad8ff347fd89ceb3941d61b861": {
      "model_module": "@jupyter-widgets/controls",
      "model_module_version": "1.1.0",
      "model_name": "CheckboxModel",
      "state": {
       "description": "30°",
       "disabled": false,
       "layout": "IPY_MODEL_31903ee12cc046d4a5f3c48980d03de8",
       "style": "IPY_MODEL_a6823a7ff4d644898a0521a67008d5ad",
       "value": true
      }
     },
     "6fb95e2154dd4900892693eac880a9bb": {
      "model_module": "@jupyter-widgets/base",
      "model_module_version": "1.0.0",
      "model_name": "LayoutModel",
      "state": {}
     },
     "701d737cb8f8401b810a0390210365f7": {
      "model_module": "@jupyter-widgets/base",
      "model_module_version": "1.0.0",
      "model_name": "LayoutModel",
      "state": {}
     },
     "703e3e569ff1498cb980c4dc4e985884": {
      "model_module": "@jupyter-widgets/base",
      "model_module_version": "1.0.0",
      "model_name": "LayoutModel",
      "state": {}
     },
     "708e8d7a766147bbbdf1d488d6ce12fb": {
      "model_module": "@jupyter-widgets/controls",
      "model_module_version": "1.1.0",
      "model_name": "DescriptionStyleModel",
      "state": {
       "description_width": ""
      }
     },
     "70b824cba41340ed8e61ad5455714f59": {
      "model_module": "@jupyter-widgets/controls",
      "model_module_version": "1.1.0",
      "model_name": "CheckboxModel",
      "state": {
       "description": "30°",
       "disabled": false,
       "layout": "IPY_MODEL_18863704081745a6b44ce17d97071696",
       "style": "IPY_MODEL_4624e853dfd54f939381d2e27047bb61",
       "value": true
      }
     },
     "71058c791b4b4cf791c34492ca167eab": {
      "model_module": "@jupyter-widgets/base",
      "model_module_version": "1.0.0",
      "model_name": "LayoutModel",
      "state": {}
     },
     "71423ab69d8f4d27974054ce91340404": {
      "model_module": "@jupyter-widgets/base",
      "model_module_version": "1.0.0",
      "model_name": "LayoutModel",
      "state": {}
     },
     "714e01f090034d61970e171f2b8e9078": {
      "model_module": "@jupyter-widgets/base",
      "model_module_version": "1.0.0",
      "model_name": "LayoutModel",
      "state": {}
     },
     "7152837967fc4c21933fab6a2245e295": {
      "model_module": "@jupyter-widgets/controls",
      "model_module_version": "1.1.0",
      "model_name": "CheckboxModel",
      "state": {
       "description": "60°",
       "disabled": false,
       "layout": "IPY_MODEL_b67cce65aca44fba99692642db417b07",
       "style": "IPY_MODEL_88b9e2d96d2b4c85b34b1b94c3341b79",
       "value": false
      }
     },
     "71683c8b18754c3b99996c8c2f587ece": {
      "model_module": "@jupyter-widgets/base",
      "model_module_version": "1.0.0",
      "model_name": "LayoutModel",
      "state": {}
     },
     "71895eaff71248569ce5c5c2395d428a": {
      "model_module": "@jupyter-widgets/controls",
      "model_module_version": "1.1.0",
      "model_name": "LabelModel",
      "state": {
       "layout": "IPY_MODEL_dacecf3f41d744dca9a326df46e03dc7",
       "style": "IPY_MODEL_782f8c48e0e94ab9987ffa22d3cd04eb",
       "value": "Select the detector angles to plot."
      }
     },
     "719506c3b9ad4f68ac43df3344c0f784": {
      "model_module": "@jupyter-widgets/controls",
      "model_module_version": "1.1.0",
      "model_name": "LabelModel",
      "state": {
       "layout": "IPY_MODEL_7de9b198346d4da2990ea6970b256c36",
       "style": "IPY_MODEL_de136a4347eb43718c46e90b77ba4eae",
       "value": "Select the detector angles to plot."
      }
     },
     "719a392596f7403392909a78c79f6fd3": {
      "model_module": "@jupyter-widgets/controls",
      "model_module_version": "1.1.0",
      "model_name": "CheckboxModel",
      "state": {
       "description": "7.2°",
       "disabled": false,
       "layout": "IPY_MODEL_dcd4ce5edb6c44989f20208388f10188",
       "style": "IPY_MODEL_28216aa714064d369f4eb48ecb4ef60f",
       "value": true
      }
     },
     "71a09e2397ff40e9a0688a8973dcf554": {
      "model_module": "@jupyter-widgets/base",
      "model_module_version": "1.0.0",
      "model_name": "LayoutModel",
      "state": {}
     },
     "71b7722d056a4b0f8361f2d9d50b1a9f": {
      "model_module": "@jupyter-widgets/base",
      "model_module_version": "1.0.0",
      "model_name": "LayoutModel",
      "state": {}
     },
     "71cef8f8d16d42af89b020492cc909ca": {
      "model_module": "@jupyter-widgets/controls",
      "model_module_version": "1.1.0",
      "model_name": "CheckboxModel",
      "state": {
       "description": "10°",
       "disabled": false,
       "layout": "IPY_MODEL_77e5cab77d8e412a837ede5657f7cae9",
       "style": "IPY_MODEL_ca45354f50c94677a51e2632ed6da418",
       "value": true
      }
     },
     "71ff93e143924a6cb887239f81683955": {
      "model_module": "@jupyter-widgets/controls",
      "model_module_version": "1.1.0",
      "model_name": "CheckboxModel",
      "state": {
       "description": "45°",
       "disabled": false,
       "layout": "IPY_MODEL_11aea78791f04ca6adbc4af597e72e71",
       "style": "IPY_MODEL_462a79a9036144b8b3fe19cdc55eee8c",
       "value": true
      }
     },
     "7226f67f91d7466385caf9785e71e0e7": {
      "model_module": "@jupyter-widgets/base",
      "model_module_version": "1.0.0",
      "model_name": "LayoutModel",
      "state": {}
     },
     "7266346fb06e49e89e893c7ad7383d17": {
      "model_module": "@jupyter-widgets/base",
      "model_module_version": "1.0.0",
      "model_name": "LayoutModel",
      "state": {}
     },
     "7267e33edf104e3d9d14f08c8907cb54": {
      "model_module": "@jupyter-widgets/controls",
      "model_module_version": "1.1.0",
      "model_name": "ToggleButtonsModel",
      "state": {
       "_options_labels": [
        "N (¹n)",
        "NDC (¹n)",
        "P (¹H)",
        "D (²H)",
        "T (³H)",
        "S (³He)",
        "A (⁴He)"
       ],
       "button_style": "",
       "description": "Type:",
       "icons": [],
       "index": 3,
       "layout": "IPY_MODEL_3c09a4f787f24fb882051c5bbbc36f4a",
       "style": "IPY_MODEL_4ef169f780f5492d945394689c66c0f3",
       "tooltips": [
        "Neutron",
        "Back Target Neutron",
        "Proton",
        "Deuteron",
        "Triton",
        "Helium-3",
        "Helium-4"
       ]
      }
     },
     "7269c215af174c58ad8c5c71aa27e07a": {
      "model_module": "@jupyter-widgets/controls",
      "model_module_version": "1.1.0",
      "model_name": "ToggleButtonsStyleModel",
      "state": {
       "button_width": "",
       "description_width": ""
      }
     },
     "72730742a22448ee8cf55b8b6858e93c": {
      "model_module": "@jupyter-widgets/controls",
      "model_module_version": "1.1.0",
      "model_name": "CheckboxModel",
      "state": {
       "description": "135°",
       "disabled": false,
       "layout": "IPY_MODEL_d89d57eeb9ee413baad1cb61dc3a999b",
       "style": "IPY_MODEL_88cc195b5f6e4901bf6a0871b8ac57ab",
       "value": true
      }
     },
     "727e71bf8dd74063b25c39b8c26aab20": {
      "model_module": "@jupyter-widgets/controls",
      "model_module_version": "1.1.0",
      "model_name": "CheckboxModel",
      "state": {
       "description": "32.7°",
       "disabled": false,
       "layout": "IPY_MODEL_02f0fec9ce024a018ce95422f807e9d9",
       "style": "IPY_MODEL_6669aa29ed0549aca74d7019dc6c0e5f",
       "value": false
      }
     },
     "72d50bc804df4ca38022315156eda644": {
      "model_module": "@jupyter-widgets/controls",
      "model_module_version": "1.1.0",
      "model_name": "DescriptionStyleModel",
      "state": {
       "description_width": ""
      }
     },
     "72e45cb336a54312a1aeef5f4c881553": {
      "model_module": "@jupyter-widgets/controls",
      "model_module_version": "1.1.0",
      "model_name": "DescriptionStyleModel",
      "state": {
       "description_width": ""
      }
     },
     "72e9a796ad4b465882749d9c1f88720d": {
      "model_module": "@jupyter-widgets/base",
      "model_module_version": "1.0.0",
      "model_name": "LayoutModel",
      "state": {}
     },
     "72fe73391da34aa7b16dcf466b9d7dcc": {
      "model_module": "@jupyter-widgets/base",
      "model_module_version": "1.0.0",
      "model_name": "LayoutModel",
      "state": {}
     },
     "73138b754209406a8c76f8b0357ac687": {
      "model_module": "@jupyter-widgets/controls",
      "model_module_version": "1.1.0",
      "model_name": "DescriptionStyleModel",
      "state": {
       "description_width": ""
      }
     },
     "7356676fed21406e8f081dbe6e0a505a": {
      "model_module": "@jupyter-widgets/controls",
      "model_module_version": "1.1.0",
      "model_name": "ButtonStyleModel",
      "state": {}
     },
     "7361620793a041eb83e6cebabb392c82": {
      "model_module": "@jupyter-widgets/base",
      "model_module_version": "1.0.0",
      "model_name": "LayoutModel",
      "state": {}
     },
     "73ade60795d64355b51bcedccc4f3f2c": {
      "model_module": "@jupyter-widgets/controls",
      "model_module_version": "1.1.0",
      "model_name": "DescriptionStyleModel",
      "state": {
       "description_width": ""
      }
     },
     "73b7636d409349d39069f1f9c4c8bf66": {
      "model_module": "@jupyter-widgets/controls",
      "model_module_version": "1.1.0",
      "model_name": "CheckboxModel",
      "state": {
       "description": "7.2°",
       "disabled": false,
       "layout": "IPY_MODEL_55ee168d048141bda5ad42eb6648dab2",
       "style": "IPY_MODEL_c3a04ceeb2e74e89bb7895f0f5657097",
       "value": true
      }
     },
     "73e20f453cf440ec997671f6f69ed6e9": {
      "model_module": "@jupyter-widgets/controls",
      "model_module_version": "1.1.0",
      "model_name": "ToggleButtonsModel",
      "state": {
       "_options_labels": [
        "400 MeV/n",
        "800 MeV/n",
        "1500 MeV/n"
       ],
       "button_style": "",
       "description": "Energy:",
       "icons": [],
       "index": 1,
       "layout": "IPY_MODEL_7b02a5288922431db259df2fe6b48f66",
       "style": "IPY_MODEL_2df331ed0947481499b39951a8f811cd",
       "tooltips": [
        "lowest energy",
        "middle energy",
        "highest energy"
       ]
      }
     },
     "740b6967cafc441d9d1016cb0a8da55f": {
      "model_module": "@jupyter-widgets/controls",
      "model_module_version": "1.1.0",
      "model_name": "ToggleButtonsModel",
      "state": {
       "_options_labels": [
        "400 MeV/n",
        "800 MeV/n",
        "1500 MeV/n"
       ],
       "button_style": "",
       "description": "Energy:",
       "icons": [],
       "index": 0,
       "layout": "IPY_MODEL_f6398df354bc4679b689033928f3f329",
       "style": "IPY_MODEL_d552c1b61ca04e5a85526db6807b5d18",
       "tooltips": [
        "lowest energy",
        "middle energy",
        "highest energy"
       ]
      }
     },
     "7459268c60e14cee93a95a83bb9c62cd": {
      "model_module": "@jupyter-widgets/controls",
      "model_module_version": "1.1.0",
      "model_name": "DescriptionStyleModel",
      "state": {
       "description_width": ""
      }
     },
     "74a62dfbb06d4bb8a6ba3f1404f53361": {
      "model_module": "@jupyter-widgets/controls",
      "model_module_version": "1.1.0",
      "model_name": "CheckboxModel",
      "state": {
       "description": "80°",
       "disabled": false,
       "layout": "IPY_MODEL_28c3fe0386cf482fae9099e6ae852596",
       "style": "IPY_MODEL_b3311dbc66674b6daaee1b5cd76ce614",
       "value": true
      }
     },
     "74afdf280b99481c91ec8638fcafbb6c": {
      "model_module": "@jupyter-widgets/controls",
      "model_module_version": "1.1.0",
      "model_name": "DescriptionStyleModel",
      "state": {
       "description_width": ""
      }
     },
     "74b6b5d9bd6f4001bb6cff315454d14d": {
      "model_module": "@jupyter-widgets/controls",
      "model_module_version": "1.1.0",
      "model_name": "LabelModel",
      "state": {
       "layout": "IPY_MODEL_824e7021966a43c2bf175463c7dccf1a",
       "style": "IPY_MODEL_2f0f1b0111db437d8dc6c27d468e6a66",
       "value": "Select which secondary particle to plot spectra for."
      }
     },
     "74e3d297a3dd4837a6940d54ccb2fc04": {
      "model_module": "@jupyter-widgets/controls",
      "model_module_version": "1.1.0",
      "model_name": "DescriptionStyleModel",
      "state": {
       "description_width": ""
      }
     },
     "74ea0dc61073468e9e0226a6ea33f180": {
      "model_module": "@jupyter-widgets/base",
      "model_module_version": "1.0.0",
      "model_name": "LayoutModel",
      "state": {}
     },
     "752f436956fe47a4adbe7186aead7787": {
      "model_module": "@jupyter-widgets/controls",
      "model_module_version": "1.1.0",
      "model_name": "DescriptionStyleModel",
      "state": {
       "description_width": ""
      }
     },
     "75647d063fd343279bf2691272c87b29": {
      "model_module": "@jupyter-widgets/base",
      "model_module_version": "1.0.0",
      "model_name": "LayoutModel",
      "state": {}
     },
     "75704df72b5f482e83d8caa24c07eb4a": {
      "model_module": "@jupyter-widgets/controls",
      "model_module_version": "1.1.0",
      "model_name": "DescriptionStyleModel",
      "state": {
       "description_width": ""
      }
     },
     "75a30c3beb1940bf992f9033eee96e34": {
      "model_module": "@jupyter-widgets/controls",
      "model_module_version": "1.1.0",
      "model_name": "DescriptionStyleModel",
      "state": {
       "description_width": ""
      }
     },
     "75b462689dd34b93816d80b241ce3836": {
      "model_module": "@jupyter-widgets/controls",
      "model_module_version": "1.1.0",
      "model_name": "DescriptionStyleModel",
      "state": {
       "description_width": ""
      }
     },
     "75c02e8a80754bd2b432497f85d747be": {
      "model_module": "@jupyter-widgets/base",
      "model_module_version": "1.0.0",
      "model_name": "LayoutModel",
      "state": {}
     },
     "75cf49c4dab14f3b84f7207de3fb21cd": {
      "model_module": "@jupyter-widgets/controls",
      "model_module_version": "1.1.0",
      "model_name": "CheckboxModel",
      "state": {
       "description": "10°",
       "disabled": false,
       "layout": "IPY_MODEL_11f48d37a535475ca688e0905db3162f",
       "style": "IPY_MODEL_72d50bc804df4ca38022315156eda644",
       "value": true
      }
     },
     "75d2183c47ac4eb8a8ab256a36a9db1d": {
      "model_module": "@jupyter-widgets/controls",
      "model_module_version": "1.1.0",
      "model_name": "DescriptionStyleModel",
      "state": {
       "description_width": ""
      }
     },
     "763c51d9be4c4ae09c6185e631146395": {
      "model_module": "@jupyter-widgets/controls",
      "model_module_version": "1.1.0",
      "model_name": "LabelModel",
      "state": {
       "layout": "IPY_MODEL_1c014d4e1a954966b4781964ef79ab9d",
       "style": "IPY_MODEL_197075fb586e4734965179c897e4f958",
       "value": "Select a detector type."
      }
     },
     "7685285fbaaa496d82510a494b9d0a08": {
      "model_module": "@jupyter-widgets/controls",
      "model_module_version": "1.1.0",
      "model_name": "LabelModel",
      "state": {
       "layout": "IPY_MODEL_116ac127c33a4645b99fbacd4acffcea",
       "style": "IPY_MODEL_b453f597f5f747879bbb7e51d7941077",
       "value": "Select the detector angles to plot."
      }
     },
     "76ae31eb7d5640b8875c43b23fa9160d": {
      "model_module": "@jupyter-widgets/controls",
      "model_module_version": "1.1.0",
      "model_name": "CheckboxModel",
      "state": {
       "description": "135°",
       "disabled": false,
       "layout": "IPY_MODEL_8822a20bc3f94d66ab0dbfabcd77d959",
       "style": "IPY_MODEL_73ade60795d64355b51bcedccc4f3f2c",
       "value": true
      }
     },
     "76dd25d0d7e1441183913f076f0b20a8": {
      "model_module": "@jupyter-widgets/controls",
      "model_module_version": "1.1.0",
      "model_name": "ToggleButtonsModel",
      "state": {
       "_options_labels": [
        "N (¹n)",
        "NDC (¹n)",
        "P (¹H)",
        "D (²H)",
        "T (³H)",
        "S (³He)",
        "A (⁴He)"
       ],
       "button_style": "",
       "description": "Type:",
       "icons": [],
       "index": 0,
       "layout": "IPY_MODEL_a01d9af1cbfb457ca40b4d16191dd9f8",
       "style": "IPY_MODEL_a73ea27787e845ec9d670ffc57d5fe34",
       "tooltips": [
        "Neutron",
        "Back Target Neutron",
        "Proton",
        "Deuteron",
        "Triton",
        "Helium-3",
        "Helium-4"
       ]
      }
     },
     "770ceff503154f0a865b91c4c5f39af8": {
      "model_module": "@jupyter-widgets/base",
      "model_module_version": "1.0.0",
      "model_name": "LayoutModel",
      "state": {}
     },
     "772e5375e9884cc59b06095fd14fa29c": {
      "model_module": "@jupyter-widgets/controls",
      "model_module_version": "1.1.0",
      "model_name": "DescriptionStyleModel",
      "state": {
       "description_width": ""
      }
     },
     "77325e05ad2b433c87a9d5728f7d5981": {
      "model_module": "@jupyter-widgets/base",
      "model_module_version": "1.0.0",
      "model_name": "LayoutModel",
      "state": {}
     },
     "77792603d0cb409aa6a765665db2f609": {
      "model_module": "@jupyter-widgets/controls",
      "model_module_version": "1.1.0",
      "model_name": "CheckboxModel",
      "state": {
       "description": "135°",
       "disabled": false,
       "layout": "IPY_MODEL_7edd62daaafc4fde86cd3bd06b52ead0",
       "style": "IPY_MODEL_486a85212fc74b3c976559e6f202904e",
       "value": true
      }
     },
     "777b6c6ba30941cba126cc00438dd02d": {
      "model_module": "@jupyter-widgets/controls",
      "model_module_version": "1.1.0",
      "model_name": "CheckboxModel",
      "state": {
       "description": "45°",
       "disabled": false,
       "layout": "IPY_MODEL_f7f38f23b33c4fc9bedd89b58ecf6c4c",
       "style": "IPY_MODEL_592d2c0aa7504792bede385126d23000",
       "value": false
      }
     },
     "77a5fc8d2bb44899b412f27dbfc2d0b2": {
      "model_module": "@jupyter-widgets/controls",
      "model_module_version": "1.1.0",
      "model_name": "CheckboxModel",
      "state": {
       "description": "45°",
       "disabled": false,
       "layout": "IPY_MODEL_1954fcd499e84497b4865b733f2fe9a4",
       "style": "IPY_MODEL_b8c1fc0e080f4c32b4e9b22cf32efc54",
       "value": true
      }
     },
     "77df7263787a480793999b2d1bfbd4c8": {
      "model_module": "@jupyter-widgets/controls",
      "model_module_version": "1.1.0",
      "model_name": "DescriptionStyleModel",
      "state": {
       "description_width": ""
      }
     },
     "77e5cab77d8e412a837ede5657f7cae9": {
      "model_module": "@jupyter-widgets/base",
      "model_module_version": "1.0.0",
      "model_name": "LayoutModel",
      "state": {}
     },
     "77f0a240fb514069b6c89a150a7abac9": {
      "model_module": "@jupyter-widgets/controls",
      "model_module_version": "1.1.0",
      "model_name": "ToggleButtonsStyleModel",
      "state": {
       "button_width": "",
       "description_width": ""
      }
     },
     "781aaddf039d4c1fb96c9e97b02b4a98": {
      "model_module": "@jupyter-widgets/controls",
      "model_module_version": "1.1.0",
      "model_name": "LabelModel",
      "state": {
       "layout": "IPY_MODEL_ab51b1419f7546d9adedc7d98370b3be",
       "style": "IPY_MODEL_ac9577885a6643f3acdf6df98032a935",
       "value": "Select which secondary particle to plot spectra for."
      }
     },
     "782b9bfbb81b460284294695228ba7de": {
      "model_module": "@jupyter-widgets/controls",
      "model_module_version": "1.1.0",
      "model_name": "DescriptionStyleModel",
      "state": {
       "description_width": ""
      }
     },
     "782f50c4fba44e5797352f1f889b2404": {
      "model_module": "@jupyter-widgets/controls",
      "model_module_version": "1.1.0",
      "model_name": "CheckboxModel",
      "state": {
       "description": "30°",
       "disabled": false,
       "layout": "IPY_MODEL_90d0ad0b2cd144658a89409c7d844d9d",
       "style": "IPY_MODEL_d3c2d5b482364a8388e43e20541a6253",
       "value": true
      }
     },
     "782f8c48e0e94ab9987ffa22d3cd04eb": {
      "model_module": "@jupyter-widgets/controls",
      "model_module_version": "1.1.0",
      "model_name": "DescriptionStyleModel",
      "state": {
       "description_width": ""
      }
     },
     "785390cd756d49a19e9964c3010cb559": {
      "model_module": "@jupyter-widgets/base",
      "model_module_version": "1.0.0",
      "model_name": "LayoutModel",
      "state": {}
     },
     "7875ecdeb20f48b79e1db2aab5fe21d6": {
      "model_module": "@jupyter-widgets/controls",
      "model_module_version": "1.1.0",
      "model_name": "ToggleButtonsModel",
      "state": {
       "_options_labels": [
        "N (¹n)",
        "NDC (¹n)",
        "P (¹H)",
        "D (²H)",
        "T (³H)",
        "S (³He)",
        "A (⁴He)"
       ],
       "button_style": "",
       "description": "Particle:",
       "icons": [],
       "index": 1,
       "layout": "IPY_MODEL_b7d90552fa1a42b7b0e7aee76ca65e5f",
       "style": "IPY_MODEL_18ec9503a0314fdfb4fd82944a091077",
       "tooltips": [
        "Neutron",
        "Back Target Neutron",
        "Proton",
        "Deuteron",
        "Triton",
        "Helium-3",
        "Helium-4"
       ]
      }
     },
     "790ea7929fa54d4992b2693b6c88b714": {
      "model_module": "@jupyter-widgets/controls",
      "model_module_version": "1.1.0",
      "model_name": "LabelModel",
      "state": {
       "layout": "IPY_MODEL_9eba4cf6274048188693b18ae48e4e52",
       "style": "IPY_MODEL_deef3cc23c9e47b1a27184acabc313ff",
       "value": "Select which secondary particle to plot spectra for."
      }
     },
     "7a207b3f9e534394bfd8e158d669b063": {
      "model_module": "@jupyter-widgets/base",
      "model_module_version": "1.0.0",
      "model_name": "LayoutModel",
      "state": {}
     },
     "7a2ce427dc1c456da7309111a2b59ea4": {
      "model_module": "@jupyter-widgets/controls",
      "model_module_version": "1.1.0",
      "model_name": "LabelModel",
      "state": {
       "layout": "IPY_MODEL_daa1eb14b20f48a5a9aba4450376ed13",
       "style": "IPY_MODEL_caa204e113d1449080e1c516dedcc235",
       "value": "Select which secondary particle to plot spectra for."
      }
     },
     "7a41df7279be47f19ff549ed07da1077": {
      "model_module": "@jupyter-widgets/controls",
      "model_module_version": "1.1.0",
      "model_name": "DescriptionStyleModel",
      "state": {
       "description_width": ""
      }
     },
     "7a606f3c1ab14cb9839909e63914dd28": {
      "model_module": "@jupyter-widgets/base",
      "model_module_version": "1.0.0",
      "model_name": "LayoutModel",
      "state": {}
     },
     "7a60d2682c3349b0b202edf010c6c96c": {
      "model_module": "@jupyter-widgets/base",
      "model_module_version": "1.0.0",
      "model_name": "LayoutModel",
      "state": {}
     },
     "7a7ba5dbc4044b0fa55b390b45f1c3b3": {
      "model_module": "@jupyter-widgets/controls",
      "model_module_version": "1.1.0",
      "model_name": "DescriptionStyleModel",
      "state": {
       "description_width": ""
      }
     },
     "7ac59b7eca6641c8bcb498673e9b27bd": {
      "model_module": "@jupyter-widgets/base",
      "model_module_version": "1.0.0",
      "model_name": "LayoutModel",
      "state": {}
     },
     "7adde8f3afc7478e95f52a5ba89da941": {
      "model_module": "@jupyter-widgets/controls",
      "model_module_version": "1.1.0",
      "model_name": "DescriptionStyleModel",
      "state": {
       "description_width": ""
      }
     },
     "7af51936891d4c43b32e0c844abbed7b": {
      "model_module": "@jupyter-widgets/controls",
      "model_module_version": "1.1.0",
      "model_name": "LabelModel",
      "state": {
       "layout": "IPY_MODEL_52c16dd828a84e3c93385fd475420794",
       "style": "IPY_MODEL_a6e4e615cf024c96b0b19a74e84d6cef",
       "value": "Select which secondary particle to plot spectra for."
      }
     },
     "7b02a5288922431db259df2fe6b48f66": {
      "model_module": "@jupyter-widgets/base",
      "model_module_version": "1.0.0",
      "model_name": "LayoutModel",
      "state": {}
     },
     "7b0520fc4f674c48beda1fd2174f737c": {
      "model_module": "@jupyter-widgets/controls",
      "model_module_version": "1.1.0",
      "model_name": "DescriptionStyleModel",
      "state": {
       "description_width": ""
      }
     },
     "7b3e842f80114890b82b120bf12a2673": {
      "model_module": "@jupyter-widgets/controls",
      "model_module_version": "1.1.0",
      "model_name": "DescriptionStyleModel",
      "state": {
       "description_width": ""
      }
     },
     "7b49faf0031b4bbd8bcfec5944e74490": {
      "model_module": "@jupyter-widgets/controls",
      "model_module_version": "1.1.0",
      "model_name": "DescriptionStyleModel",
      "state": {
       "description_width": ""
      }
     },
     "7b785eb9dea24458a4d1ac57bbfbe2fc": {
      "model_module": "@jupyter-widgets/controls",
      "model_module_version": "1.1.0",
      "model_name": "DescriptionStyleModel",
      "state": {
       "description_width": ""
      }
     },
     "7bad699392d842d3b757e4dbfb597dc1": {
      "model_module": "@jupyter-widgets/controls",
      "model_module_version": "1.1.0",
      "model_name": "CheckboxModel",
      "state": {
       "description": "30°",
       "disabled": false,
       "layout": "IPY_MODEL_090598d5c0c24f1f90f63baa520df67a",
       "style": "IPY_MODEL_5f81c44e3d4f4848891cd99623046fe3",
       "value": true
      }
     },
     "7bc3fbb9ab3f45348de818119b4edb4a": {
      "model_module": "@jupyter-widgets/controls",
      "model_module_version": "1.1.0",
      "model_name": "DescriptionStyleModel",
      "state": {
       "description_width": ""
      }
     },
     "7bd08e09b235419884b9026c8318d57b": {
      "model_module": "@jupyter-widgets/base",
      "model_module_version": "1.0.0",
      "model_name": "LayoutModel",
      "state": {}
     },
     "7bd7ac599ac74a43b9d70028a1cfbf6b": {
      "model_module": "@jupyter-widgets/base",
      "model_module_version": "1.0.0",
      "model_name": "LayoutModel",
      "state": {}
     },
     "7c43f2d5b3524a36bebde9aaefaf52eb": {
      "model_module": "@jupyter-widgets/controls",
      "model_module_version": "1.1.0",
      "model_name": "CheckboxModel",
      "state": {
       "description": "80°",
       "disabled": false,
       "layout": "IPY_MODEL_d380f760dcf04c08bc4b7e227caf8416",
       "style": "IPY_MODEL_8ec9509eb399439fb841e212539d7916",
       "value": true
      }
     },
     "7c8840e84d034bf79f54e73f4acdb1c8": {
      "model_module": "@jupyter-widgets/controls",
      "model_module_version": "1.1.0",
      "model_name": "CheckboxModel",
      "state": {
       "description": "30°",
       "disabled": false,
       "layout": "IPY_MODEL_6043f70a44fd4a4ab3da05f2351f5d16",
       "style": "IPY_MODEL_782b9bfbb81b460284294695228ba7de",
       "value": true
      }
     },
     "7cb91ccf4d284053ad9237a1ec68b134": {
      "model_module": "@jupyter-widgets/controls",
      "model_module_version": "1.1.0",
      "model_name": "LabelModel",
      "state": {
       "layout": "IPY_MODEL_b34c0b45a9364bf4a77dbe00b1b856bf",
       "style": "IPY_MODEL_10b4f99509df485689b185a6e77913a5",
       "value": "Select the detector angles to plot."
      }
     },
     "7cebe4c1a6574ff6880871b9e8a9045c": {
      "model_module": "@jupyter-widgets/controls",
      "model_module_version": "1.1.0",
      "model_name": "ToggleButtonsModel",
      "state": {
       "_options_labels": [
        "400 MeV",
        "800 MeV",
        "2500 MeV"
       ],
       "button_style": "",
       "description": "Energy:",
       "icons": [],
       "index": 0,
       "layout": "IPY_MODEL_f3b020ca5d8f4d98bd0f82640535936e",
       "style": "IPY_MODEL_ab08f3b531ee4b92bbbe6ee1c754c252",
       "tooltips": [
        "lowest energy",
        "middle energy",
        "highest energy"
       ]
      }
     },
     "7d315670ef4f4b77a3c4bdbb3d99313c": {
      "model_module": "@jupyter-widgets/controls",
      "model_module_version": "1.1.0",
      "model_name": "ToggleButtonsStyleModel",
      "state": {
       "button_width": "",
       "description_width": ""
      }
     },
     "7d5da29f61a44934bf2ea94bc7ee10bd": {
      "model_module": "@jupyter-widgets/controls",
      "model_module_version": "1.1.0",
      "model_name": "CheckboxModel",
      "state": {
       "description": "10°",
       "disabled": false,
       "layout": "IPY_MODEL_a08b30dbe8df48e1b9b7d32efe18f57e",
       "style": "IPY_MODEL_3057daa3aeee4dd19e0ef7f89f0cf16c",
       "value": true
      }
     },
     "7d80945944f749c38f55ca99a4d8e702": {
      "model_module": "@jupyter-widgets/controls",
      "model_module_version": "1.1.0",
      "model_name": "DescriptionStyleModel",
      "state": {
       "description_width": ""
      }
     },
     "7d96e7efeee54fd8a36c0a044393d5b5": {
      "model_module": "@jupyter-widgets/controls",
      "model_module_version": "1.1.0",
      "model_name": "DescriptionStyleModel",
      "state": {
       "description_width": ""
      }
     },
     "7db1c715c27c426f9a9b3a5820d79b0c": {
      "model_module": "@jupyter-widgets/base",
      "model_module_version": "1.0.0",
      "model_name": "LayoutModel",
      "state": {}
     },
     "7de9b198346d4da2990ea6970b256c36": {
      "model_module": "@jupyter-widgets/base",
      "model_module_version": "1.0.0",
      "model_name": "LayoutModel",
      "state": {}
     },
     "7df21e8d5f964ee6940895fc16107d6f": {
      "model_module": "@jupyter-widgets/base",
      "model_module_version": "1.0.0",
      "model_name": "LayoutModel",
      "state": {}
     },
     "7e2371361e60439b81f3c95a4c29b3b7": {
      "model_module": "@jupyter-widgets/controls",
      "model_module_version": "1.1.0",
      "model_name": "ToggleButtonsStyleModel",
      "state": {
       "button_width": "",
       "description_width": ""
      }
     },
     "7e75049786dd41599baa59cfbe1fc39b": {
      "model_module": "@jupyter-widgets/base",
      "model_module_version": "1.0.0",
      "model_name": "LayoutModel",
      "state": {}
     },
     "7e8f437c1a4f4cb2a43386174f683062": {
      "model_module": "@jupyter-widgets/controls",
      "model_module_version": "1.1.0",
      "model_name": "ButtonStyleModel",
      "state": {}
     },
     "7ea5137a008f4bbeb1cf1b1fb8b59231": {
      "model_module": "@jupyter-widgets/controls",
      "model_module_version": "1.1.0",
      "model_name": "LabelModel",
      "state": {
       "layout": "IPY_MODEL_0070d4f6780e40d6b962f1dfc9e13934",
       "style": "IPY_MODEL_bae7a6f7fe1a4131a2844ed828976a30",
       "value": "Select projectile ion energy."
      }
     },
     "7eb4d549ff354d1d97bf02337d3d4441": {
      "model_module": "@jupyter-widgets/base",
      "model_module_version": "1.0.0",
      "model_name": "LayoutModel",
      "state": {}
     },
     "7eb78729568f4494b7bae7e61224211a": {
      "model_module": "@jupyter-widgets/controls",
      "model_module_version": "1.1.0",
      "model_name": "DescriptionStyleModel",
      "state": {
       "description_width": ""
      }
     },
     "7ece3efc3e354dbfafc81f8f5768649d": {
      "model_module": "@jupyter-widgets/base",
      "model_module_version": "1.0.0",
      "model_name": "LayoutModel",
      "state": {}
     },
     "7ed71805849a4f218564899a9ad4f788": {
      "model_module": "@jupyter-widgets/base",
      "model_module_version": "1.0.0",
      "model_name": "LayoutModel",
      "state": {}
     },
     "7edd62daaafc4fde86cd3bd06b52ead0": {
      "model_module": "@jupyter-widgets/base",
      "model_module_version": "1.0.0",
      "model_name": "LayoutModel",
      "state": {}
     },
     "7f0241e1d61d443d945055442dd2c9ac": {
      "model_module": "@jupyter-widgets/controls",
      "model_module_version": "1.1.0",
      "model_name": "LabelModel",
      "state": {
       "layout": "IPY_MODEL_e5de52a649a44006a5e4cb9bac808b33",
       "style": "IPY_MODEL_114b096c8d2849e88380a0216538768e",
       "value": "Select which secondary particle to plot spectra for."
      }
     },
     "7f3291f11caf4a628d72ab41a793e5c1": {
      "model_module": "@jupyter-widgets/controls",
      "model_module_version": "1.1.0",
      "model_name": "CheckboxModel",
      "state": {
       "description": "45°",
       "disabled": false,
       "layout": "IPY_MODEL_db23ea9742d24a9eb53dca9df0670822",
       "style": "IPY_MODEL_cfd89952bf0f4bc58f55bb5e034a9751",
       "value": false
      }
     },
     "7f4e7685ff92449696edc9899475e79a": {
      "model_module": "@jupyter-widgets/controls",
      "model_module_version": "1.1.0",
      "model_name": "ToggleButtonsStyleModel",
      "state": {
       "button_width": "",
       "description_width": ""
      }
     },
     "7f6a97e5fbe24a3c9cbbb57009b519b5": {
      "model_module": "@jupyter-widgets/base",
      "model_module_version": "1.0.0",
      "model_name": "LayoutModel",
      "state": {}
     },
     "7fda445d7820403baadc8a73574b6efa": {
      "model_module": "@jupyter-widgets/controls",
      "model_module_version": "1.1.0",
      "model_name": "DescriptionStyleModel",
      "state": {
       "description_width": ""
      }
     },
     "7fe93f0e92f445f2b9eb26c37bb33e12": {
      "model_module": "@jupyter-widgets/controls",
      "model_module_version": "1.1.0",
      "model_name": "DescriptionStyleModel",
      "state": {
       "description_width": ""
      }
     },
     "7fee16546f4e4ce698bb3676bbfe16a6": {
      "model_module": "@jupyter-widgets/base",
      "model_module_version": "1.0.0",
      "model_name": "LayoutModel",
      "state": {}
     },
     "80283625d8bf4c69b8c889786437052f": {
      "model_module": "@jupyter-widgets/base",
      "model_module_version": "1.0.0",
      "model_name": "LayoutModel",
      "state": {}
     },
     "806a3c65ff964a2982d166fcff8bb411": {
      "model_module": "@jupyter-widgets/controls",
      "model_module_version": "1.1.0",
      "model_name": "ButtonStyleModel",
      "state": {}
     },
     "807ae0ee6a3e486aa3da11e93793c20d": {
      "model_module": "@jupyter-widgets/controls",
      "model_module_version": "1.1.0",
      "model_name": "ToggleButtonsModel",
      "state": {
       "_options_labels": [
        "400 MeV/n",
        "800 MeV/n",
        "1500 MeV/n"
       ],
       "button_style": "",
       "description": "Energy:",
       "icons": [],
       "index": 0,
       "layout": "IPY_MODEL_d37cc067f1304cf2bc31222f899ce506",
       "style": "IPY_MODEL_83ecc67c12c3465fb7265072610ef8c1",
       "tooltips": [
        "lowest energy",
        "middle energy",
        "highest energy"
       ]
      }
     },
     "81425f7945044f9dacb6d4144985be36": {
      "model_module": "@jupyter-widgets/base",
      "model_module_version": "1.0.0",
      "model_name": "LayoutModel",
      "state": {}
     },
     "8177f473e8f641b79269f0ae8dd689c0": {
      "model_module": "@jupyter-widgets/controls",
      "model_module_version": "1.1.0",
      "model_name": "LabelModel",
      "state": {
       "layout": "IPY_MODEL_cab1869c6d1a4ab0bb065fd99a0140ad",
       "style": "IPY_MODEL_604b16220d6048ea886bfe88261bdf85",
       "value": "Select the detector angles to plot."
      }
     },
     "818e25e4cb0b4fec929f25ceebdb701b": {
      "model_module": "@jupyter-widgets/controls",
      "model_module_version": "1.1.0",
      "model_name": "ToggleButtonsStyleModel",
      "state": {
       "button_width": "",
       "description_width": ""
      }
     },
     "81becc4e02154e5988583dc8e548ffe7": {
      "model_module": "@jupyter-widgets/controls",
      "model_module_version": "1.1.0",
      "model_name": "CheckboxModel",
      "state": {
       "description": "80°",
       "disabled": false,
       "layout": "IPY_MODEL_1bbba88cc5794cd1ad6b502097c723e9",
       "style": "IPY_MODEL_883d12cde93144b8aacc6b532828c93c",
       "value": true
      }
     },
     "81e8aa979cf448faa0b4652b1370aebf": {
      "model_module": "@jupyter-widgets/controls",
      "model_module_version": "1.1.0",
      "model_name": "LabelModel",
      "state": {
       "layout": "IPY_MODEL_44d3c41f87914e6faf2379147d847721",
       "style": "IPY_MODEL_ee9bc543bebf4a9d802fb91e73d1002f",
       "value": "Select the detector angles to plot."
      }
     },
     "820dfd5d872b4d25b9c5ff1f806a7c09": {
      "model_module": "@jupyter-widgets/base",
      "model_module_version": "1.0.0",
      "model_name": "LayoutModel",
      "state": {}
     },
     "823ff30f4d3648aca3a0c04c4d588ac5": {
      "model_module": "@jupyter-widgets/base",
      "model_module_version": "1.0.0",
      "model_name": "LayoutModel",
      "state": {}
     },
     "824e7021966a43c2bf175463c7dccf1a": {
      "model_module": "@jupyter-widgets/base",
      "model_module_version": "1.0.0",
      "model_name": "LayoutModel",
      "state": {}
     },
     "827c1636df9f4da3b9e26740c6b7ea19": {
      "model_module": "@jupyter-widgets/controls",
      "model_module_version": "1.1.0",
      "model_name": "ToggleButtonsStyleModel",
      "state": {
       "button_width": "",
       "description_width": ""
      }
     },
     "82f4562ddb4f464a84af5973022cc115": {
      "model_module": "@jupyter-widgets/base",
      "model_module_version": "1.0.0",
      "model_name": "LayoutModel",
      "state": {}
     },
     "82fdb15c3b674b6292666eda2a30a34b": {
      "model_module": "@jupyter-widgets/controls",
      "model_module_version": "1.1.0",
      "model_name": "DescriptionStyleModel",
      "state": {
       "description_width": ""
      }
     },
     "8343888407d44945ae56701f2e2d6087": {
      "model_module": "@jupyter-widgets/base",
      "model_module_version": "1.0.0",
      "model_name": "LayoutModel",
      "state": {}
     },
     "834837e439a34d1fa4c89cc1e7e18944": {
      "model_module": "@jupyter-widgets/controls",
      "model_module_version": "1.1.0",
      "model_name": "DescriptionStyleModel",
      "state": {
       "description_width": ""
      }
     },
     "8357b76f17874ba08f6bdb034c92d17c": {
      "model_module": "@jupyter-widgets/controls",
      "model_module_version": "1.1.0",
      "model_name": "CheckboxModel",
      "state": {
       "description": "30°",
       "disabled": false,
       "layout": "IPY_MODEL_b6afb6b7e2334252b59396dc1689c01a",
       "style": "IPY_MODEL_6301ab8a9251463b9ae21da49e69bd8c",
       "value": true
      }
     },
     "835d7d9788b141e0a8c4c72567a0dbba": {
      "model_module": "@jupyter-widgets/controls",
      "model_module_version": "1.1.0",
      "model_name": "CheckboxModel",
      "state": {
       "description": "135°",
       "disabled": false,
       "layout": "IPY_MODEL_156f2356d2f34394bd0ef2bbc9f4c5b0",
       "style": "IPY_MODEL_d31cfd5f4c5f4ce290a396164e3ede08",
       "value": true
      }
     },
     "8379ac78c8d5412a85b9e64f7b08a6f1": {
      "model_module": "@jupyter-widgets/controls",
      "model_module_version": "1.1.0",
      "model_name": "DescriptionStyleModel",
      "state": {
       "description_width": ""
      }
     },
     "83da75659ac840289928e9f49a3879c0": {
      "model_module": "@jupyter-widgets/controls",
      "model_module_version": "1.1.0",
      "model_name": "LabelModel",
      "state": {
       "layout": "IPY_MODEL_b430db24d0cc4ea682e31554dad28dba",
       "style": "IPY_MODEL_7eb78729568f4494b7bae7e61224211a",
       "value": "Select a detector type."
      }
     },
     "83ecc67c12c3465fb7265072610ef8c1": {
      "model_module": "@jupyter-widgets/controls",
      "model_module_version": "1.1.0",
      "model_name": "ToggleButtonsStyleModel",
      "state": {
       "button_width": "",
       "description_width": ""
      }
     },
     "840cc699269c453caf5255b94c01977e": {
      "model_module": "@jupyter-widgets/controls",
      "model_module_version": "1.1.0",
      "model_name": "DescriptionStyleModel",
      "state": {
       "description_width": ""
      }
     },
     "8457014aa34643e0a25eff2ec3f6e208": {
      "model_module": "@jupyter-widgets/controls",
      "model_module_version": "1.1.0",
      "model_name": "DescriptionStyleModel",
      "state": {
       "description_width": ""
      }
     },
     "846897d5be034873bc66dd9153ee457a": {
      "model_module": "@jupyter-widgets/controls",
      "model_module_version": "1.1.0",
      "model_name": "DescriptionStyleModel",
      "state": {
       "description_width": ""
      }
     },
     "84775fd52f4349bfb087eae261842288": {
      "model_module": "@jupyter-widgets/base",
      "model_module_version": "1.0.0",
      "model_name": "LayoutModel",
      "state": {}
     },
     "8477bf0938fe492299303381dfe3f762": {
      "model_module": "@jupyter-widgets/controls",
      "model_module_version": "1.1.0",
      "model_name": "DescriptionStyleModel",
      "state": {
       "description_width": ""
      }
     },
     "84966235c9f94f55bd3807f3ac243f7c": {
      "model_module": "@jupyter-widgets/base",
      "model_module_version": "1.0.0",
      "model_name": "LayoutModel",
      "state": {}
     },
     "849807397d89425fb0fc2d9642622f81": {
      "model_module": "@jupyter-widgets/controls",
      "model_module_version": "1.1.0",
      "model_name": "CheckboxModel",
      "state": {
       "description": "80°",
       "disabled": false,
       "layout": "IPY_MODEL_8842f6d0a5a0491caa3de1c702a30d3b",
       "style": "IPY_MODEL_be7c1d76834143be9f8d17152e78cf48",
       "value": true
      }
     },
     "849c532214cc497bb60d08a05f612cf5": {
      "model_module": "@jupyter-widgets/controls",
      "model_module_version": "1.1.0",
      "model_name": "DescriptionStyleModel",
      "state": {
       "description_width": ""
      }
     },
     "84bb49288518474f8493046eb8864d73": {
      "model_module": "@jupyter-widgets/controls",
      "model_module_version": "1.1.0",
      "model_name": "DescriptionStyleModel",
      "state": {
       "description_width": ""
      }
     },
     "84dfdf7825024918a2f24ccbc66d7913": {
      "model_module": "@jupyter-widgets/controls",
      "model_module_version": "1.1.0",
      "model_name": "CheckboxModel",
      "state": {
       "description": "12.7°",
       "disabled": false,
       "layout": "IPY_MODEL_20aad4b157da4f91bcbe7e43af14ce8c",
       "style": "IPY_MODEL_8379ac78c8d5412a85b9e64f7b08a6f1",
       "value": true
      }
     },
     "84e53c0a403b446f8596a153fde52f6a": {
      "model_module": "@jupyter-widgets/controls",
      "model_module_version": "1.1.0",
      "model_name": "DescriptionStyleModel",
      "state": {
       "description_width": ""
      }
     },
     "851d0803bb734f5cb54c8d637c457fd7": {
      "model_module": "@jupyter-widgets/base",
      "model_module_version": "1.0.0",
      "model_name": "LayoutModel",
      "state": {}
     },
     "8525d04351b346d6849bdfd4e5df9061": {
      "model_module": "@jupyter-widgets/controls",
      "model_module_version": "1.1.0",
      "model_name": "CheckboxModel",
      "state": {
       "description": "30°",
       "disabled": false,
       "layout": "IPY_MODEL_c15c7534a6b2413885d8a67c1a50e638",
       "style": "IPY_MODEL_68ea0c8040b549ddbf28ba9ea85eccfa",
       "value": true
      }
     },
     "8560a6f02b604d1bb2516e19618938a6": {
      "model_module": "@jupyter-widgets/controls",
      "model_module_version": "1.1.0",
      "model_name": "DescriptionStyleModel",
      "state": {
       "description_width": ""
      }
     },
     "858ff6cb153941629070dce3e8eab120": {
      "model_module": "@jupyter-widgets/base",
      "model_module_version": "1.0.0",
      "model_name": "LayoutModel",
      "state": {}
     },
     "85a02b30514244aaaf4f8a6d2a2c855b": {
      "model_module": "@jupyter-widgets/controls",
      "model_module_version": "1.1.0",
      "model_name": "DescriptionStyleModel",
      "state": {
       "description_width": ""
      }
     },
     "85abee9894c242df832fed752adf6975": {
      "model_module": "@jupyter-widgets/controls",
      "model_module_version": "1.1.0",
      "model_name": "CheckboxModel",
      "state": {
       "description": "30°",
       "disabled": false,
       "layout": "IPY_MODEL_71a09e2397ff40e9a0688a8973dcf554",
       "style": "IPY_MODEL_1acc6d4d97c0434783d57bd31fb7a9e1",
       "value": true
      }
     },
     "85f344bca2d2496c920f8d78b4cd6a77": {
      "model_module": "@jupyter-widgets/base",
      "model_module_version": "1.0.0",
      "model_name": "LayoutModel",
      "state": {}
     },
     "86238e72635d4f7cad9efa91d7a2965f": {
      "model_module": "@jupyter-widgets/controls",
      "model_module_version": "1.1.0",
      "model_name": "CheckboxModel",
      "state": {
       "description": "PHITS simulated",
       "disabled": false,
       "layout": "IPY_MODEL_62c0dff630c54a339359f4468590031f",
       "style": "IPY_MODEL_2fcfc7521e804977b7d8840c05e78ec0",
       "value": true
      }
     },
     "863893332e2e4a1ea3beeeb0e14183ca": {
      "model_module": "@jupyter-widgets/base",
      "model_module_version": "1.0.0",
      "model_name": "LayoutModel",
      "state": {}
     },
     "865a726d61fa47a29ff1bf6ab3cbb3c4": {
      "model_module": "@jupyter-widgets/controls",
      "model_module_version": "1.1.0",
      "model_name": "ToggleButtonsStyleModel",
      "state": {
       "button_width": "",
       "description_width": ""
      }
     },
     "868daa6a513c4483b385e724afc38db6": {
      "model_module": "@jupyter-widgets/base",
      "model_module_version": "1.0.0",
      "model_name": "LayoutModel",
      "state": {}
     },
     "86a57d3d44574ca59515581038955997": {
      "model_module": "@jupyter-widgets/controls",
      "model_module_version": "1.1.0",
      "model_name": "DescriptionStyleModel",
      "state": {
       "description_width": ""
      }
     },
     "86ed2da1ad2640358387caa4b333ce6a": {
      "model_module": "@jupyter-widgets/controls",
      "model_module_version": "1.1.0",
      "model_name": "CheckboxModel",
      "state": {
       "description": "60°",
       "disabled": false,
       "layout": "IPY_MODEL_0ebc3162b4da49f3a6d4f7aa043c52d9",
       "style": "IPY_MODEL_01cfdf7a65f047b8a4c617630919767c",
       "value": true
      }
     },
     "879adfc53a3c462a9c3d51cf55c1adbe": {
      "model_module": "@jupyter-widgets/base",
      "model_module_version": "1.0.0",
      "model_name": "LayoutModel",
      "state": {}
     },
     "87b03a1bc88941419b080527b7fd800c": {
      "model_module": "@jupyter-widgets/base",
      "model_module_version": "1.0.0",
      "model_name": "LayoutModel",
      "state": {}
     },
     "87b2e69948374bef9d1952c9e4a06f02": {
      "model_module": "@jupyter-widgets/base",
      "model_module_version": "1.0.0",
      "model_name": "LayoutModel",
      "state": {}
     },
     "87c459b78b604640909d7f732feb1b01": {
      "model_module": "@jupyter-widgets/base",
      "model_module_version": "1.0.0",
      "model_name": "LayoutModel",
      "state": {}
     },
     "87e57776ce1f4fd38470996dfe8cf8a5": {
      "model_module": "@jupyter-widgets/controls",
      "model_module_version": "1.1.0",
      "model_name": "DescriptionStyleModel",
      "state": {
       "description_width": ""
      }
     },
     "87e9155972b8434b99ed4584a1a99d02": {
      "model_module": "@jupyter-widgets/controls",
      "model_module_version": "1.1.0",
      "model_name": "DescriptionStyleModel",
      "state": {
       "description_width": ""
      }
     },
     "87f9d71af0c142c7b5caf8e56b9b61ca": {
      "model_module": "@jupyter-widgets/base",
      "model_module_version": "1.0.0",
      "model_name": "LayoutModel",
      "state": {}
     },
     "8822a20bc3f94d66ab0dbfabcd77d959": {
      "model_module": "@jupyter-widgets/base",
      "model_module_version": "1.0.0",
      "model_name": "LayoutModel",
      "state": {}
     },
     "883d12cde93144b8aacc6b532828c93c": {
      "model_module": "@jupyter-widgets/controls",
      "model_module_version": "1.1.0",
      "model_name": "DescriptionStyleModel",
      "state": {
       "description_width": ""
      }
     },
     "8842f6d0a5a0491caa3de1c702a30d3b": {
      "model_module": "@jupyter-widgets/base",
      "model_module_version": "1.0.0",
      "model_name": "LayoutModel",
      "state": {}
     },
     "884bb46f7a954ce38ebb5635c40a21d2": {
      "model_module": "@jupyter-widgets/controls",
      "model_module_version": "1.1.0",
      "model_name": "DescriptionStyleModel",
      "state": {
       "description_width": ""
      }
     },
     "8872a1a9dadf4cab9a7f77f2ceab455d": {
      "model_module": "@jupyter-widgets/controls",
      "model_module_version": "1.1.0",
      "model_name": "DescriptionStyleModel",
      "state": {
       "description_width": ""
      }
     },
     "88b9e2d96d2b4c85b34b1b94c3341b79": {
      "model_module": "@jupyter-widgets/controls",
      "model_module_version": "1.1.0",
      "model_name": "DescriptionStyleModel",
      "state": {
       "description_width": ""
      }
     },
     "88badcd0a32141a2ab5db6a4c4d052f2": {
      "model_module": "@jupyter-widgets/controls",
      "model_module_version": "1.1.0",
      "model_name": "ToggleButtonsModel",
      "state": {
       "_options_labels": [
        "N (¹n)",
        "NDC (¹n)",
        "P (¹H)",
        "D (²H)"
       ],
       "button_style": "",
       "description": "Particle:",
       "icons": [],
       "index": 0,
       "layout": "IPY_MODEL_a4943de1efff43359180753e2490e53e",
       "style": "IPY_MODEL_6edb3e911d44441787d5be281679c7dd",
       "tooltips": [
        "Neutron",
        "Back Target Neutron",
        "Proton",
        "Deuteron"
       ]
      }
     },
     "88c16b0b83314b6692444ec6c22caa7f": {
      "model_module": "@jupyter-widgets/base",
      "model_module_version": "1.0.0",
      "model_name": "LayoutModel",
      "state": {}
     },
     "88cc195b5f6e4901bf6a0871b8ac57ab": {
      "model_module": "@jupyter-widgets/controls",
      "model_module_version": "1.1.0",
      "model_name": "DescriptionStyleModel",
      "state": {
       "description_width": ""
      }
     },
     "88cfa02151b34707990f8b6da4262858": {
      "model_module": "@jupyter-widgets/base",
      "model_module_version": "1.0.0",
      "model_name": "LayoutModel",
      "state": {}
     },
     "88ec45f597ab4cb1bda495f8be2aab17": {
      "model_module": "@jupyter-widgets/controls",
      "model_module_version": "1.1.0",
      "model_name": "LabelModel",
      "state": {
       "layout": "IPY_MODEL_f5ba8d79d7ac4a828e421fac15ac3d7a",
       "style": "IPY_MODEL_bf33cefc9a6c478fadc7163128193859",
       "value": "Select upstream target mass thickness."
      }
     },
     "8916808f573642e7a06afcd05d759af7": {
      "model_module": "@jupyter-widgets/controls",
      "model_module_version": "1.1.0",
      "model_name": "ToggleButtonsStyleModel",
      "state": {
       "button_width": "",
       "description_width": ""
      }
     },
     "89466c02b68748f8a436e8f91ceaa1c8": {
      "model_module": "@jupyter-widgets/controls",
      "model_module_version": "1.1.0",
      "model_name": "DescriptionStyleModel",
      "state": {
       "description_width": ""
      }
     },
     "895dda77f3cb4de99e970f760d35c69c": {
      "model_module": "@jupyter-widgets/controls",
      "model_module_version": "1.1.0",
      "model_name": "LabelModel",
      "state": {
       "layout": "IPY_MODEL_f46e27ea0a14453184f192527874afb7",
       "style": "IPY_MODEL_4b395f57c6674e77b411277989eacd52",
       "value": "Select which secondary particle to plot spectra for."
      }
     },
     "89ba51ac47ff491199111cd3336fdf93": {
      "model_module": "@jupyter-widgets/controls",
      "model_module_version": "1.1.0",
      "model_name": "DescriptionStyleModel",
      "state": {
       "description_width": ""
      }
     },
     "89d72556cc82438b93784ed100e9f5fc": {
      "model_module": "@jupyter-widgets/base",
      "model_module_version": "1.0.0",
      "model_name": "LayoutModel",
      "state": {}
     },
     "89eda586ef094d9e9d2cbe3f9c364b32": {
      "model_module": "@jupyter-widgets/controls",
      "model_module_version": "1.1.0",
      "model_name": "DescriptionStyleModel",
      "state": {
       "description_width": ""
      }
     },
     "8a3b8c64c63d4cc69d1a3a9b9f3d1edb": {
      "model_module": "@jupyter-widgets/controls",
      "model_module_version": "1.1.0",
      "model_name": "DescriptionStyleModel",
      "state": {
       "description_width": ""
      }
     },
     "8a8a3c66e387487d94d40df8daf3abec": {
      "model_module": "@jupyter-widgets/controls",
      "model_module_version": "1.1.0",
      "model_name": "ToggleButtonsStyleModel",
      "state": {
       "button_width": "",
       "description_width": ""
      }
     },
     "8b0eefb472c1489c9499bfca2575e77e": {
      "model_module": "@jupyter-widgets/base",
      "model_module_version": "1.0.0",
      "model_name": "LayoutModel",
      "state": {}
     },
     "8b392c0326854e5f93df8f993af5595f": {
      "model_module": "@jupyter-widgets/base",
      "model_module_version": "1.0.0",
      "model_name": "LayoutModel",
      "state": {}
     },
     "8b54b65353c24895a98b93779b430b43": {
      "model_module": "@jupyter-widgets/base",
      "model_module_version": "1.0.0",
      "model_name": "LayoutModel",
      "state": {}
     },
     "8b743d4952b248f7a36eb844c64b0788": {
      "model_module": "@jupyter-widgets/controls",
      "model_module_version": "1.1.0",
      "model_name": "DescriptionStyleModel",
      "state": {
       "description_width": ""
      }
     },
     "8bf2cf1a62d347b9847c01e5c3ab98b8": {
      "model_module": "@jupyter-widgets/controls",
      "model_module_version": "1.1.0",
      "model_name": "LabelModel",
      "state": {
       "layout": "IPY_MODEL_e6eec0d2d30c40cf81d419a89626b114",
       "style": "IPY_MODEL_4524981b64cd4317b83daa649d2fcda4",
       "value": "Select the detector angles to plot."
      }
     },
     "8c34c6dc7c9546548bfd9254a9e4b92d": {
      "model_module": "@jupyter-widgets/controls",
      "model_module_version": "1.1.0",
      "model_name": "LabelModel",
      "state": {
       "layout": "IPY_MODEL_bbfdb7e282fb4cf7a8c4f45ee8f7158b",
       "style": "IPY_MODEL_61906c76664a41d496cc06fad94da3da",
       "value": "Select which secondary particle to plot spectra for."
      }
     },
     "8c95c3d262bc46fa8546c9b5b76e652e": {
      "model_module": "@jupyter-widgets/controls",
      "model_module_version": "1.1.0",
      "model_name": "ToggleButtonsStyleModel",
      "state": {
       "button_width": "",
       "description_width": ""
      }
     },
     "8d01d2f5c2274b13984798d5294ef8a5": {
      "model_module": "@jupyter-widgets/base",
      "model_module_version": "1.0.0",
      "model_name": "LayoutModel",
      "state": {}
     },
     "8d81ca9c965a499a8da95886d9bab78d": {
      "model_module": "@jupyter-widgets/controls",
      "model_module_version": "1.1.0",
      "model_name": "CheckboxModel",
      "state": {
       "description": "32.7°",
       "disabled": false,
       "layout": "IPY_MODEL_3619c3db11734ddeae8b2aa3f02f7023",
       "style": "IPY_MODEL_fe443f51af184df68b3c56cf06f77457",
       "value": true
      }
     },
     "8d940d9289e04dd1a510e39ef6872793": {
      "model_module": "@jupyter-widgets/base",
      "model_module_version": "1.0.0",
      "model_name": "LayoutModel",
      "state": {}
     },
     "8de4e7cb679a44798964a2c36f75b7a3": {
      "model_module": "@jupyter-widgets/base",
      "model_module_version": "1.0.0",
      "model_name": "LayoutModel",
      "state": {}
     },
     "8e0c320fd5734317bb5f0a4dcabe63e9": {
      "model_module": "@jupyter-widgets/controls",
      "model_module_version": "1.1.0",
      "model_name": "DescriptionStyleModel",
      "state": {
       "description_width": ""
      }
     },
     "8e7f2696ab6a4fb79016841dd4e1fa51": {
      "model_module": "@jupyter-widgets/controls",
      "model_module_version": "1.1.0",
      "model_name": "DescriptionStyleModel",
      "state": {
       "description_width": ""
      }
     },
     "8e949d24e566410ab568643397076396": {
      "model_module": "@jupyter-widgets/controls",
      "model_module_version": "1.1.0",
      "model_name": "ToggleButtonsStyleModel",
      "state": {
       "button_width": "",
       "description_width": ""
      }
     },
     "8ea468f235574c918668b197248fbf7d": {
      "model_module": "@jupyter-widgets/base",
      "model_module_version": "1.0.0",
      "model_name": "LayoutModel",
      "state": {}
     },
     "8ec9509eb399439fb841e212539d7916": {
      "model_module": "@jupyter-widgets/controls",
      "model_module_version": "1.1.0",
      "model_name": "DescriptionStyleModel",
      "state": {
       "description_width": ""
      }
     },
     "8ed8b650b26e42d68204f2548436e14e": {
      "model_module": "@jupyter-widgets/controls",
      "model_module_version": "1.1.0",
      "model_name": "LabelModel",
      "state": {
       "layout": "IPY_MODEL_96f8ada5036e47b0bc92769bee94fae2",
       "style": "IPY_MODEL_e9543b4dab854cd4b3dc337b87fddb83",
       "value": "Select which secondary particle to plot spectra for."
      }
     },
     "8f29115be0cc42ca9b36a84cc9c75532": {
      "model_module": "@jupyter-widgets/controls",
      "model_module_version": "1.1.0",
      "model_name": "DescriptionStyleModel",
      "state": {
       "description_width": ""
      }
     },
     "8f66d762f6184414a9714cfc226381c1": {
      "model_module": "@jupyter-widgets/base",
      "model_module_version": "1.0.0",
      "model_name": "LayoutModel",
      "state": {}
     },
     "901472da340a4126b55be6bd6bcbdd1e": {
      "model_module": "@jupyter-widgets/controls",
      "model_module_version": "1.1.0",
      "model_name": "CheckboxModel",
      "state": {
       "description": "Experiment",
       "disabled": false,
       "layout": "IPY_MODEL_ebf7af92aa6d4d2d90ea7cdae6b2bd84",
       "style": "IPY_MODEL_8a3b8c64c63d4cc69d1a3a9b9f3d1edb",
       "value": true
      }
     },
     "90182fc3b98247dda06477453d580c02": {
      "model_module": "@jupyter-widgets/controls",
      "model_module_version": "1.1.0",
      "model_name": "DescriptionStyleModel",
      "state": {
       "description_width": ""
      }
     },
     "9068b5b316bf413bac4f0c0b2795de4c": {
      "model_module": "@jupyter-widgets/base",
      "model_module_version": "1.0.0",
      "model_name": "LayoutModel",
      "state": {}
     },
     "90d0ad0b2cd144658a89409c7d844d9d": {
      "model_module": "@jupyter-widgets/base",
      "model_module_version": "1.0.0",
      "model_name": "LayoutModel",
      "state": {}
     },
     "90ffbeb101af4bbd90b16067566474bf": {
      "model_module": "@jupyter-widgets/controls",
      "model_module_version": "1.1.0",
      "model_name": "ToggleButtonsModel",
      "state": {
       "_options_labels": [
        "N (¹n)",
        "NDC (¹n)",
        "P (¹H)",
        "D (²H)"
       ],
       "button_style": "",
       "description": "Type:",
       "icons": [],
       "index": 0,
       "layout": "IPY_MODEL_b607a8a1011f41e79657979eed2d5d47",
       "style": "IPY_MODEL_25a2ab9d4a05493d9ee1a481e7e8e612",
       "tooltips": [
        "Neutron",
        "Back Target Neutron",
        "Proton",
        "Deuteron"
       ]
      }
     },
     "914b47eafde94b19a9df65661a32de0e": {
      "model_module": "@jupyter-widgets/controls",
      "model_module_version": "1.1.0",
      "model_name": "LabelModel",
      "state": {
       "layout": "IPY_MODEL_fa76e56acdcd41718e0b25ba2bd643c5",
       "style": "IPY_MODEL_d8795ba803974c8c92ae1d6df80faf43",
       "value": "Select upstream target material and thickness."
      }
     },
     "915d6af61552476999a0a8e8c145399a": {
      "model_module": "@jupyter-widgets/controls",
      "model_module_version": "1.1.0",
      "model_name": "CheckboxModel",
      "state": {
       "description": "PHITS simulated",
       "disabled": false,
       "layout": "IPY_MODEL_5d11473ee0a449d0b93f46057bb10c7e",
       "style": "IPY_MODEL_c0499be5ef594524a3196add15ece8df",
       "value": true
      }
     },
     "9168e8c662ad4823a334127694bb01e1": {
      "model_module": "@jupyter-widgets/controls",
      "model_module_version": "1.1.0",
      "model_name": "ButtonModel",
      "state": {
       "button_style": "success",
       "description": "Update plot",
       "icon": "paint-brush",
       "layout": "IPY_MODEL_c760664bc998443bb84932afb31eaad6",
       "style": "IPY_MODEL_7356676fed21406e8f081dbe6e0a505a",
       "tooltip": "Click to redraw the plot below with updated options from above."
      }
     },
     "9180d374d3b3454293724d57c1893023": {
      "model_module": "@jupyter-widgets/controls",
      "model_module_version": "1.1.0",
      "model_name": "DescriptionStyleModel",
      "state": {
       "description_width": ""
      }
     },
     "9205c477a1be4469b22d1997d942407d": {
      "model_module": "@jupyter-widgets/base",
      "model_module_version": "1.0.0",
      "model_name": "LayoutModel",
      "state": {}
     },
     "92154e0fd2d046869b4d0e4406a04164": {
      "model_module": "@jupyter-widgets/controls",
      "model_module_version": "1.1.0",
      "model_name": "DescriptionStyleModel",
      "state": {
       "description_width": ""
      }
     },
     "92189b9cf45c4ed08fd8dd8ba2c3c3cf": {
      "model_module": "@jupyter-widgets/controls",
      "model_module_version": "1.1.0",
      "model_name": "CheckboxModel",
      "state": {
       "description": "45°",
       "disabled": false,
       "layout": "IPY_MODEL_fb2e1b8ea9c74243b274d3c0c73fb9f8",
       "style": "IPY_MODEL_c8211cb6300e44fa966325786ab29b71",
       "value": true
      }
     },
     "922f9e22784b4ae2bb657e36623d08f7": {
      "model_module": "@jupyter-widgets/base",
      "model_module_version": "1.0.0",
      "model_name": "LayoutModel",
      "state": {}
     },
     "92968da7fb804ac7905e1727770190f9": {
      "model_module": "@jupyter-widgets/controls",
      "model_module_version": "1.1.0",
      "model_name": "CheckboxModel",
      "state": {
       "description": "30°",
       "disabled": false,
       "layout": "IPY_MODEL_4b313ade035346c08238c3d82576da2f",
       "style": "IPY_MODEL_bcb669779e704f5bbc7005e2a8fe5f34",
       "value": true
      }
     },
     "92f2d639f6fa407dbcd48928ff1edcf4": {
      "model_module": "@jupyter-widgets/controls",
      "model_module_version": "1.1.0",
      "model_name": "LabelModel",
      "state": {
       "layout": "IPY_MODEL_48d6a29de3fe4b21a4933651013ca17c",
       "style": "IPY_MODEL_a410023c692b43789d99c69fccbf3d0c",
       "value": "Select the detector angles to plot."
      }
     },
     "93187ff29a454bffa64ddd10403e4b64": {
      "model_module": "@jupyter-widgets/controls",
      "model_module_version": "1.1.0",
      "model_name": "DescriptionStyleModel",
      "state": {
       "description_width": ""
      }
     },
     "933c72475e084d81ac77d6da3209cd71": {
      "model_module": "@jupyter-widgets/base",
      "model_module_version": "1.0.0",
      "model_name": "LayoutModel",
      "state": {}
     },
     "93943ba745a54fbdb76d8f83ca68e798": {
      "model_module": "@jupyter-widgets/controls",
      "model_module_version": "1.1.0",
      "model_name": "CheckboxModel",
      "state": {
       "description": "60°",
       "disabled": false,
       "layout": "IPY_MODEL_35c7769a9a5642218152dd0a873130f5",
       "style": "IPY_MODEL_82fdb15c3b674b6292666eda2a30a34b",
       "value": true
      }
     },
     "94435b3fbd774ecb9620eeafcda40e7b": {
      "model_module": "@jupyter-widgets/base",
      "model_module_version": "1.0.0",
      "model_name": "LayoutModel",
      "state": {}
     },
     "94458a1ede7b40a59b7adde0d00b199b": {
      "model_module": "@jupyter-widgets/base",
      "model_module_version": "1.0.0",
      "model_name": "LayoutModel",
      "state": {}
     },
     "945fd25c30d0494197276661c03dc671": {
      "model_module": "@jupyter-widgets/base",
      "model_module_version": "1.0.0",
      "model_name": "LayoutModel",
      "state": {}
     },
     "94b023f46072463da950114129668831": {
      "model_module": "@jupyter-widgets/controls",
      "model_module_version": "1.1.0",
      "model_name": "DescriptionStyleModel",
      "state": {
       "description_width": ""
      }
     },
     "94cb113af46b4b27bba6ea5bb092f01a": {
      "model_module": "@jupyter-widgets/controls",
      "model_module_version": "1.1.0",
      "model_name": "LabelModel",
      "state": {
       "layout": "IPY_MODEL_17bae485d4da4ee1af714e9f524d5da1",
       "style": "IPY_MODEL_fcdc8c835ef542a39bbe81e117c15446",
       "value": "Select how data sets for each detector should be spaced apart (if at all)."
      }
     },
     "94d08ba6cbcb4a43af16990ab2c249cd": {
      "model_module": "@jupyter-widgets/controls",
      "model_module_version": "1.1.0",
      "model_name": "CheckboxModel",
      "state": {
       "description": "80°",
       "disabled": false,
       "layout": "IPY_MODEL_d9cc632b94b840ef8142b19040133b67",
       "style": "IPY_MODEL_44e313e4526743ceb8af6da255f65ad1",
       "value": true
      }
     },
     "94da22d978d74dd581dee928434555b2": {
      "model_module": "@jupyter-widgets/controls",
      "model_module_version": "1.1.0",
      "model_name": "CheckboxModel",
      "state": {
       "description": "80°",
       "disabled": false,
       "layout": "IPY_MODEL_6875058ca28d415ebf3402c09385b7de",
       "style": "IPY_MODEL_05d44f7bd9aa41a9b3174967dca3017e",
       "value": true
      }
     },
     "94f922cfd08645dbadb59353c980e910": {
      "model_module": "@jupyter-widgets/controls",
      "model_module_version": "1.1.0",
      "model_name": "DescriptionStyleModel",
      "state": {
       "description_width": ""
      }
     },
     "95bf02f7406a4d3195351765c5517c43": {
      "model_module": "@jupyter-widgets/controls",
      "model_module_version": "1.1.0",
      "model_name": "DescriptionStyleModel",
      "state": {
       "description_width": ""
      }
     },
     "95fa7347cc184ca68dc4e17717d1ea43": {
      "model_module": "@jupyter-widgets/controls",
      "model_module_version": "1.1.0",
      "model_name": "DescriptionStyleModel",
      "state": {
       "description_width": ""
      }
     },
     "9615104881154fcfa004fddcec99c116": {
      "model_module": "@jupyter-widgets/controls",
      "model_module_version": "1.1.0",
      "model_name": "DescriptionStyleModel",
      "state": {
       "description_width": ""
      }
     },
     "9628c678b21e4fbd866813c76412cb27": {
      "model_module": "@jupyter-widgets/controls",
      "model_module_version": "1.1.0",
      "model_name": "LabelModel",
      "state": {
       "layout": "IPY_MODEL_34f5e5e0307f417ea79d6d97d9afd5f1",
       "style": "IPY_MODEL_a3226dc7be214e14b368365138b0cf25",
       "value": "Select the detector angles to plot."
      }
     },
     "967b141189f74ccab36ab8014846abc2": {
      "model_module": "@jupyter-widgets/controls",
      "model_module_version": "1.1.0",
      "model_name": "ToggleButtonsStyleModel",
      "state": {
       "button_width": "",
       "description_width": ""
      }
     },
     "968d972512a14609a9d52d3d9e1341ca": {
      "model_module": "@jupyter-widgets/controls",
      "model_module_version": "1.1.0",
      "model_name": "DescriptionStyleModel",
      "state": {
       "description_width": ""
      }
     },
     "96da12b143364498a1f8e79fa09113ba": {
      "model_module": "@jupyter-widgets/base",
      "model_module_version": "1.0.0",
      "model_name": "LayoutModel",
      "state": {}
     },
     "96f8ada5036e47b0bc92769bee94fae2": {
      "model_module": "@jupyter-widgets/base",
      "model_module_version": "1.0.0",
      "model_name": "LayoutModel",
      "state": {}
     },
     "971f0dbff63f4d7081c8ea05f263b00d": {
      "model_module": "@jupyter-widgets/controls",
      "model_module_version": "1.1.0",
      "model_name": "ToggleButtonsModel",
      "state": {
       "_options_labels": [
        "N (¹n)",
        "NDC (¹n)",
        "P (¹H)",
        "D (²H)",
        "T (³H)",
        "S (³He)",
        "A (⁴He)"
       ],
       "button_style": "",
       "description": "Type:",
       "icons": [],
       "index": 3,
       "layout": "IPY_MODEL_1d72fdf622c6443bb22fe880f8a2aa5c",
       "style": "IPY_MODEL_8c95c3d262bc46fa8546c9b5b76e652e",
       "tooltips": [
        "Neutron",
        "Back Target Neutron",
        "Proton",
        "Deuteron",
        "Triton",
        "Helium-3",
        "Helium-4"
       ]
      }
     },
     "9730523592704f18b6013cd438afad49": {
      "model_module": "@jupyter-widgets/controls",
      "model_module_version": "1.1.0",
      "model_name": "LabelModel",
      "state": {
       "layout": "IPY_MODEL_89d72556cc82438b93784ed100e9f5fc",
       "style": "IPY_MODEL_078ada0077324c248ec853179331469f",
       "value": "Select projectile ion energy."
      }
     },
     "978237f274d2476b8418648f0228b9e7": {
      "model_module": "@jupyter-widgets/base",
      "model_module_version": "1.0.0",
      "model_name": "LayoutModel",
      "state": {}
     },
     "97943902601a413d9513a4e7bec6f8a8": {
      "model_module": "@jupyter-widgets/base",
      "model_module_version": "1.0.0",
      "model_name": "LayoutModel",
      "state": {}
     },
     "97954afcbea94f4f9fc07ecfe9a9f91d": {
      "model_module": "@jupyter-widgets/base",
      "model_module_version": "1.0.0",
      "model_name": "LayoutModel",
      "state": {}
     },
     "9796719f62764bd8bbf944fa40f90650": {
      "model_module": "@jupyter-widgets/controls",
      "model_module_version": "1.1.0",
      "model_name": "CheckboxModel",
      "state": {
       "description": "45°",
       "disabled": false,
       "layout": "IPY_MODEL_2fdaee955b814f53adcb0097d9ca7d0a",
       "style": "IPY_MODEL_03712579db5b417eb16f345eff7e67a8",
       "value": true
      }
     },
     "97998ff7c23540418583446728836fec": {
      "model_module": "@jupyter-widgets/controls",
      "model_module_version": "1.1.0",
      "model_name": "DescriptionStyleModel",
      "state": {
       "description_width": ""
      }
     },
     "97c4e769ee4341f494407bde8dbce5c5": {
      "model_module": "@jupyter-widgets/controls",
      "model_module_version": "1.1.0",
      "model_name": "LabelModel",
      "state": {
       "layout": "IPY_MODEL_fa1bd53915424fa1ab587c57ab48f080",
       "style": "IPY_MODEL_aa1a47aaec0f414d8480b69918503e93",
       "value": "Select upstream target mass thickness."
      }
     },
     "97e099afd8e64083a0da0bf3c9205a3b": {
      "model_module": "@jupyter-widgets/controls",
      "model_module_version": "1.1.0",
      "model_name": "CheckboxModel",
      "state": {
       "description": "60°",
       "disabled": false,
       "layout": "IPY_MODEL_2c1995101fa74608bb3c56edc2c8d1c6",
       "style": "IPY_MODEL_0f64b367e84944c6bb9f39de60b04729",
       "value": true
      }
     },
     "981cdde308eb4481983d9a466e0bac36": {
      "model_module": "@jupyter-widgets/base",
      "model_module_version": "1.0.0",
      "model_name": "LayoutModel",
      "state": {}
     },
     "98237bf22d114ff39d165b4678e54734": {
      "model_module": "@jupyter-widgets/controls",
      "model_module_version": "1.1.0",
      "model_name": "DescriptionStyleModel",
      "state": {
       "description_width": ""
      }
     },
     "9871518fbb424f9fb82122b1118f1676": {
      "model_module": "@jupyter-widgets/base",
      "model_module_version": "1.0.0",
      "model_name": "LayoutModel",
      "state": {}
     },
     "9872c102cabd49cdb5f48220b334548f": {
      "model_module": "@jupyter-widgets/base",
      "model_module_version": "1.0.0",
      "model_name": "LayoutModel",
      "state": {}
     },
     "98753889ae644f97a385da2841d81ec5": {
      "model_module": "@jupyter-widgets/base",
      "model_module_version": "1.0.0",
      "model_name": "LayoutModel",
      "state": {}
     },
     "98c085b49e204c9f976cb4af179fae94": {
      "model_module": "@jupyter-widgets/controls",
      "model_module_version": "1.1.0",
      "model_name": "DescriptionStyleModel",
      "state": {
       "description_width": ""
      }
     },
     "9935277d35c1402bb49416768a7b9ce1": {
      "model_module": "@jupyter-widgets/base",
      "model_module_version": "1.0.0",
      "model_name": "LayoutModel",
      "state": {}
     },
     "994c2a00c9b5436b91b975bafd760584": {
      "model_module": "@jupyter-widgets/base",
      "model_module_version": "1.0.0",
      "model_name": "LayoutModel",
      "state": {}
     },
     "99b698eb56d747a4b5796dc5533fe444": {
      "model_module": "@jupyter-widgets/base",
      "model_module_version": "1.0.0",
      "model_name": "LayoutModel",
      "state": {}
     },
     "9a0974ca170a48b6b4a0fcc84a2a35a4": {
      "model_module": "@jupyter-widgets/controls",
      "model_module_version": "1.1.0",
      "model_name": "ToggleButtonsStyleModel",
      "state": {
       "button_width": "",
       "description_width": ""
      }
     },
     "9a1f984c3c80443292067dab89b6fd20": {
      "model_module": "@jupyter-widgets/base",
      "model_module_version": "1.0.0",
      "model_name": "LayoutModel",
      "state": {}
     },
     "9a4aa930bbde477c81a91da2625757c7": {
      "model_module": "@jupyter-widgets/controls",
      "model_module_version": "1.1.0",
      "model_name": "CheckboxModel",
      "state": {
       "description": "60°",
       "disabled": false,
       "layout": "IPY_MODEL_aa9ce7dc21004692afd0bf9d3f368c59",
       "style": "IPY_MODEL_bb9f995dec93484fbc27fa706f5fd3f1",
       "value": true
      }
     },
     "9a782c49ef184e6187246afe41090552": {
      "model_module": "@jupyter-widgets/controls",
      "model_module_version": "1.1.0",
      "model_name": "DescriptionStyleModel",
      "state": {
       "description_width": ""
      }
     },
     "9b14279d18ab4f00abe0cb962671e9ff": {
      "model_module": "@jupyter-widgets/controls",
      "model_module_version": "1.1.0",
      "model_name": "CheckboxModel",
      "state": {
       "description": "10°",
       "disabled": false,
       "layout": "IPY_MODEL_1ea81ce3204a4d4c865e413aa9de17b2",
       "style": "IPY_MODEL_baa9ddbc265546269ba4c9d6de39ae5a",
       "value": true
      }
     },
     "9b80b536f8134456afcfab7a234face8": {
      "model_module": "@jupyter-widgets/controls",
      "model_module_version": "1.1.0",
      "model_name": "DescriptionStyleModel",
      "state": {
       "description_width": ""
      }
     },
     "9b930e4743cd49ad892e2565cb83d894": {
      "model_module": "@jupyter-widgets/controls",
      "model_module_version": "1.1.0",
      "model_name": "DescriptionStyleModel",
      "state": {
       "description_width": ""
      }
     },
     "9bc2ba7a19f74af4ae4a126910a7c81b": {
      "model_module": "@jupyter-widgets/controls",
      "model_module_version": "1.1.0",
      "model_name": "DescriptionStyleModel",
      "state": {
       "description_width": ""
      }
     },
     "9c0fbf4338534d459b3867084725c7ec": {
      "model_module": "@jupyter-widgets/controls",
      "model_module_version": "1.1.0",
      "model_name": "DescriptionStyleModel",
      "state": {
       "description_width": ""
      }
     },
     "9c2341159be54ea0a13ff26b90f2c396": {
      "model_module": "@jupyter-widgets/base",
      "model_module_version": "1.0.0",
      "model_name": "LayoutModel",
      "state": {}
     },
     "9c3d1a868c3744808e6abb20b62e5b3c": {
      "model_module": "@jupyter-widgets/base",
      "model_module_version": "1.0.0",
      "model_name": "LayoutModel",
      "state": {}
     },
     "9c67b4d755aa4501a1ed4aaaa4694fee": {
      "model_module": "@jupyter-widgets/controls",
      "model_module_version": "1.1.0",
      "model_name": "LabelModel",
      "state": {
       "layout": "IPY_MODEL_d656614de7e54e42afa5eab1410a0eca",
       "style": "IPY_MODEL_c55be318b618401aa49426e531b98d5a",
       "value": "Select which secondary particle to plot spectra for."
      }
     },
     "9c750331100c4339ba5cdad0d8689798": {
      "model_module": "@jupyter-widgets/controls",
      "model_module_version": "1.1.0",
      "model_name": "DescriptionStyleModel",
      "state": {
       "description_width": ""
      }
     },
     "9d2ca49e71084fcebda49271927b97a7": {
      "model_module": "@jupyter-widgets/controls",
      "model_module_version": "1.1.0",
      "model_name": "CheckboxModel",
      "state": {
       "description": "10°",
       "disabled": false,
       "layout": "IPY_MODEL_676c9ec4db9c4580a6d02dba2ee14cc3",
       "style": "IPY_MODEL_236665dcbcc84145aec131dc47a4833b",
       "value": true
      }
     },
     "9d4af918c79e4649b91b52b135f6205d": {
      "model_module": "@jupyter-widgets/controls",
      "model_module_version": "1.1.0",
      "model_name": "DescriptionStyleModel",
      "state": {
       "description_width": ""
      }
     },
     "9d7a1428bf78413ab9bb86941080f268": {
      "model_module": "@jupyter-widgets/base",
      "model_module_version": "1.0.0",
      "model_name": "LayoutModel",
      "state": {}
     },
     "9dd994dfe1494c828611dab8b7c1157e": {
      "model_module": "@jupyter-widgets/base",
      "model_module_version": "1.0.0",
      "model_name": "LayoutModel",
      "state": {}
     },
     "9de6726f2e004bd3877caf19cbe4426f": {
      "model_module": "@jupyter-widgets/controls",
      "model_module_version": "1.1.0",
      "model_name": "DescriptionStyleModel",
      "state": {
       "description_width": ""
      }
     },
     "9df5e30e52af4895a58f44d6d6a0c613": {
      "model_module": "@jupyter-widgets/controls",
      "model_module_version": "1.1.0",
      "model_name": "LabelModel",
      "state": {
       "layout": "IPY_MODEL_7226f67f91d7466385caf9785e71e0e7",
       "style": "IPY_MODEL_5eae71481201469a9f41f176634ff53e",
       "value": "Select which secondary particle to plot spectra for."
      }
     },
     "9e2c6f63a265431299c9ca9a10934306": {
      "model_module": "@jupyter-widgets/controls",
      "model_module_version": "1.1.0",
      "model_name": "ToggleButtonsModel",
      "state": {
       "_options_labels": [
        "400 MeV",
        "800 MeV",
        "2500 MeV"
       ],
       "button_style": "",
       "description": "Energy:",
       "icons": [],
       "index": 0,
       "layout": "IPY_MODEL_71b7722d056a4b0f8361f2d9d50b1a9f",
       "style": "IPY_MODEL_db5db616c7af47308fb873261c5e5e7b",
       "tooltips": [
        "lowest energy",
        "middle energy",
        "highest energy"
       ]
      }
     },
     "9e2e9bfe6f124f16b3ccb2a441fd477c": {
      "model_module": "@jupyter-widgets/controls",
      "model_module_version": "1.1.0",
      "model_name": "LabelModel",
      "state": {
       "layout": "IPY_MODEL_da1ae399ff994bd6917366e2a1af5b33",
       "style": "IPY_MODEL_431cb5160efb42c1be6d872d56c3b795",
       "value": "Select which secondary particle to plot spectra for."
      }
     },
     "9e70dabc9cec4089a4b8308037cdecb1": {
      "model_module": "@jupyter-widgets/base",
      "model_module_version": "1.0.0",
      "model_name": "LayoutModel",
      "state": {}
     },
     "9e76e71b2ce946968f7ea2d6d5db2441": {
      "model_module": "@jupyter-widgets/base",
      "model_module_version": "1.0.0",
      "model_name": "LayoutModel",
      "state": {}
     },
     "9e9d3da6a114417db755081c1119c914": {
      "model_module": "@jupyter-widgets/controls",
      "model_module_version": "1.1.0",
      "model_name": "ToggleButtonsModel",
      "state": {
       "_options_labels": [
        "N (¹n)",
        "NDC (¹n)",
        "P (¹H)",
        "D (²H)",
        "T (³H)",
        "S (³He)",
        "A (⁴He)"
       ],
       "button_style": "",
       "description": "Type:",
       "icons": [],
       "index": 0,
       "layout": "IPY_MODEL_61335b6f99b3431594c37c7bacfd72c9",
       "style": "IPY_MODEL_1abe2f30b79f4701a9f94cf1a438e122",
       "tooltips": [
        "Neutron",
        "Back Target Neutron",
        "Proton",
        "Deuteron",
        "Triton",
        "Helium-3",
        "Helium-4"
       ]
      }
     },
     "9eba4cf6274048188693b18ae48e4e52": {
      "model_module": "@jupyter-widgets/base",
      "model_module_version": "1.0.0",
      "model_name": "LayoutModel",
      "state": {}
     },
     "9ebc4e97c55b459f85d9b769bce74ce0": {
      "model_module": "@jupyter-widgets/base",
      "model_module_version": "1.0.0",
      "model_name": "LayoutModel",
      "state": {}
     },
     "9ecc5a915ae742e0a270e8e6ff0bf4bd": {
      "model_module": "@jupyter-widgets/base",
      "model_module_version": "1.0.0",
      "model_name": "LayoutModel",
      "state": {}
     },
     "9f10af26b0b44a58a854ace8e990c731": {
      "model_module": "@jupyter-widgets/base",
      "model_module_version": "1.0.0",
      "model_name": "LayoutModel",
      "state": {}
     },
     "9f147ccc43bd4e22aacf7fd9d70c69e9": {
      "model_module": "@jupyter-widgets/controls",
      "model_module_version": "1.1.0",
      "model_name": "LabelModel",
      "state": {
       "layout": "IPY_MODEL_de211141ed4840f4b0dbc62e00d0f764",
       "style": "IPY_MODEL_0cc5ed2fc18449fb9cdba5cdc70bab69",
       "value": "Select which secondary particle to plot spectra for."
      }
     },
     "9f3f0ab9fa1442c490c91b91cf27c121": {
      "model_module": "@jupyter-widgets/controls",
      "model_module_version": "1.1.0",
      "model_name": "LabelModel",
      "state": {
       "layout": "IPY_MODEL_2e428f21ef224ed19a67939436536d65",
       "style": "IPY_MODEL_1e80c9c610b14a8cbdf136d7def2e4a6",
       "value": "Select which secondary particle to plot spectra for."
      }
     },
     "9fb91dc68d1e42289c11d12858d52439": {
      "model_module": "@jupyter-widgets/controls",
      "model_module_version": "1.1.0",
      "model_name": "DescriptionStyleModel",
      "state": {
       "description_width": ""
      }
     },
     "9fc3301f6be746b3b12b26b043f73985": {
      "model_module": "@jupyter-widgets/base",
      "model_module_version": "1.0.0",
      "model_name": "LayoutModel",
      "state": {}
     },
     "9ff423d239b843e9837184497a85d68c": {
      "model_module": "@jupyter-widgets/controls",
      "model_module_version": "1.1.0",
      "model_name": "DescriptionStyleModel",
      "state": {
       "description_width": ""
      }
     },
     "a01d9af1cbfb457ca40b4d16191dd9f8": {
      "model_module": "@jupyter-widgets/base",
      "model_module_version": "1.0.0",
      "model_name": "LayoutModel",
      "state": {}
     },
     "a02324d66cae4bcdad77709c8ea30df5": {
      "model_module": "@jupyter-widgets/controls",
      "model_module_version": "1.1.0",
      "model_name": "DescriptionStyleModel",
      "state": {
       "description_width": ""
      }
     },
     "a02fa49cb30d40c4823416bf6ad3c976": {
      "model_module": "@jupyter-widgets/controls",
      "model_module_version": "1.1.0",
      "model_name": "DescriptionStyleModel",
      "state": {
       "description_width": ""
      }
     },
     "a03b342b4ee6435789e02660b392b643": {
      "model_module": "@jupyter-widgets/controls",
      "model_module_version": "1.1.0",
      "model_name": "CheckboxModel",
      "state": {
       "description": "32.7°",
       "disabled": false,
       "layout": "IPY_MODEL_5f80d1cf22234e7594f18187386c28aa",
       "style": "IPY_MODEL_7b3e842f80114890b82b120bf12a2673",
       "value": true
      }
     },
     "a04090affc934abca24a590fc6019c01": {
      "model_module": "@jupyter-widgets/base",
      "model_module_version": "1.0.0",
      "model_name": "LayoutModel",
      "state": {}
     },
     "a04b56b70c6047e7b67fb614b236f0a7": {
      "model_module": "@jupyter-widgets/controls",
      "model_module_version": "1.1.0",
      "model_name": "DescriptionStyleModel",
      "state": {
       "description_width": ""
      }
     },
     "a05914b55e5d40649e03350e6eb3630a": {
      "model_module": "@jupyter-widgets/controls",
      "model_module_version": "1.1.0",
      "model_name": "DescriptionStyleModel",
      "state": {
       "description_width": ""
      }
     },
     "a08b30dbe8df48e1b9b7d32efe18f57e": {
      "model_module": "@jupyter-widgets/base",
      "model_module_version": "1.0.0",
      "model_name": "LayoutModel",
      "state": {}
     },
     "a0f6ed37f9f14faeb429c96a040ff9f6": {
      "model_module": "@jupyter-widgets/controls",
      "model_module_version": "1.1.0",
      "model_name": "LabelModel",
      "state": {
       "layout": "IPY_MODEL_6d95059981624950879bdfebbe0d9296",
       "style": "IPY_MODEL_45b9d236dbbf4356aafdb480f24a11d5",
       "value": "Select projectile ion species and energy."
      }
     },
     "a0f8ff67cce34c4a927a05fb1ee2c88f": {
      "model_module": "@jupyter-widgets/controls",
      "model_module_version": "1.1.0",
      "model_name": "DescriptionStyleModel",
      "state": {
       "description_width": ""
      }
     },
     "a0fb516231fc4c46bebbabd867d9dd0e": {
      "model_module": "@jupyter-widgets/controls",
      "model_module_version": "1.1.0",
      "model_name": "DescriptionStyleModel",
      "state": {
       "description_width": ""
      }
     },
     "a0fb67ecb4a942b7a78ee7c2ecd1bea7": {
      "model_module": "@jupyter-widgets/controls",
      "model_module_version": "1.1.0",
      "model_name": "LabelModel",
      "state": {
       "layout": "IPY_MODEL_feb773bb2249497ab65e8cae32c67021",
       "style": "IPY_MODEL_39282a4457f7401399ee1d29a15a961f",
       "value": "Select the detector angles to plot."
      }
     },
     "a1508f29519446cb89354baa0c079653": {
      "model_module": "@jupyter-widgets/base",
      "model_module_version": "1.0.0",
      "model_name": "LayoutModel",
      "state": {}
     },
     "a157ce7d887847e0a3fed77d2b0f750a": {
      "model_module": "@jupyter-widgets/controls",
      "model_module_version": "1.1.0",
      "model_name": "DescriptionStyleModel",
      "state": {
       "description_width": ""
      }
     },
     "a170331431ec446bb37fa1103c649671": {
      "model_module": "@jupyter-widgets/base",
      "model_module_version": "1.0.0",
      "model_name": "LayoutModel",
      "state": {}
     },
     "a17e18225617407bad9ea54d14d3ff8f": {
      "model_module": "@jupyter-widgets/base",
      "model_module_version": "1.0.0",
      "model_name": "LayoutModel",
      "state": {}
     },
     "a17e5aded5b64ba3a833ad45ea3a34bf": {
      "model_module": "@jupyter-widgets/controls",
      "model_module_version": "1.1.0",
      "model_name": "DescriptionStyleModel",
      "state": {
       "description_width": ""
      }
     },
     "a1859d0bd77940e8bff854c9cf2fdc28": {
      "model_module": "@jupyter-widgets/controls",
      "model_module_version": "1.1.0",
      "model_name": "ToggleButtonsModel",
      "state": {
       "_options_labels": [
        "H",
        "He",
        "C",
        "Si",
        "Fe"
       ],
       "button_style": "",
       "description": "Ion:",
       "icons": [],
       "index": 0,
       "layout": "IPY_MODEL_87b03a1bc88941419b080527b7fd800c",
       "style": "IPY_MODEL_00f95cd13fc5493dbd84db161aa668d2",
       "tooltips": [
        "Hydrogen",
        "Helium",
        "Carbon",
        "Silicon",
        "Iron"
       ]
      }
     },
     "a1ba6864738b4cca8debf4d5215d5213": {
      "model_module": "@jupyter-widgets/base",
      "model_module_version": "1.0.0",
      "model_name": "LayoutModel",
      "state": {}
     },
     "a1c93c2d5f0a42e384fcdabc98b67ee2": {
      "model_module": "@jupyter-widgets/base",
      "model_module_version": "1.0.0",
      "model_name": "LayoutModel",
      "state": {}
     },
     "a1d7582a334b4f618aeba1959ba1afa2": {
      "model_module": "@jupyter-widgets/controls",
      "model_module_version": "1.1.0",
      "model_name": "LabelModel",
      "state": {
       "layout": "IPY_MODEL_60640bc143d7461fa221ade3e9a1babf",
       "style": "IPY_MODEL_50bb39ba82dd4e0f928548cbc1e56055",
       "value": "Select the detector angles to plot."
      }
     },
     "a1f8d073dfd248cea3df0a3525424b95": {
      "model_module": "@jupyter-widgets/base",
      "model_module_version": "1.0.0",
      "model_name": "LayoutModel",
      "state": {}
     },
     "a2086798ef484598952202fa5e9685c9": {
      "model_module": "@jupyter-widgets/controls",
      "model_module_version": "1.1.0",
      "model_name": "CheckboxModel",
      "state": {
       "description": "32.7°",
       "disabled": false,
       "layout": "IPY_MODEL_1961e98b7ac3486ebc1961e8cfeef51c",
       "style": "IPY_MODEL_63f3673c4a8d4904b8b4957354acdb7a",
       "value": true
      }
     },
     "a21733351934434e81f1b8634ffd4249": {
      "model_module": "@jupyter-widgets/controls",
      "model_module_version": "1.1.0",
      "model_name": "CheckboxModel",
      "state": {
       "description": "10°",
       "disabled": false,
       "layout": "IPY_MODEL_ce360aefa9294facabe1ee60bc0862de",
       "style": "IPY_MODEL_e2c1797b522b46c098590f29c80eda32",
       "value": true
      }
     },
     "a26a19e574a74b3aad7172dac323e62c": {
      "model_module": "@jupyter-widgets/controls",
      "model_module_version": "1.1.0",
      "model_name": "ToggleButtonsStyleModel",
      "state": {
       "button_width": "",
       "description_width": ""
      }
     },
     "a2733a53a33c469f9e74e92e8a087019": {
      "model_module": "@jupyter-widgets/controls",
      "model_module_version": "1.1.0",
      "model_name": "DescriptionStyleModel",
      "state": {
       "description_width": ""
      }
     },
     "a2a45a749e3a406aaddcaffab4403d71": {
      "model_module": "@jupyter-widgets/controls",
      "model_module_version": "1.1.0",
      "model_name": "LabelModel",
      "state": {
       "layout": "IPY_MODEL_13ca9599e8a6458b9f877c77a465cadf",
       "style": "IPY_MODEL_31bedefb041d45bc8089755ad4dee01e",
       "value": "Select the detector angles to plot."
      }
     },
     "a2bdbe1494814ef3a232b1d38c24af35": {
      "model_module": "@jupyter-widgets/base",
      "model_module_version": "1.0.0",
      "model_name": "LayoutModel",
      "state": {}
     },
     "a2de60ea094a4b74a1566c0c53e204dc": {
      "model_module": "@jupyter-widgets/controls",
      "model_module_version": "1.1.0",
      "model_name": "ToggleButtonsStyleModel",
      "state": {
       "button_width": "",
       "description_width": ""
      }
     },
     "a321347d4d5f4ecb987a829fce03e8c4": {
      "model_module": "@jupyter-widgets/controls",
      "model_module_version": "1.1.0",
      "model_name": "DescriptionStyleModel",
      "state": {
       "description_width": ""
      }
     },
     "a3226dc7be214e14b368365138b0cf25": {
      "model_module": "@jupyter-widgets/controls",
      "model_module_version": "1.1.0",
      "model_name": "DescriptionStyleModel",
      "state": {
       "description_width": ""
      }
     },
     "a32596ccc6844d88beffb3e6617460f0": {
      "model_module": "@jupyter-widgets/base",
      "model_module_version": "1.0.0",
      "model_name": "LayoutModel",
      "state": {}
     },
     "a34bddacd7c846048547679dac7f6991": {
      "model_module": "@jupyter-widgets/controls",
      "model_module_version": "1.1.0",
      "model_name": "LabelModel",
      "state": {
       "layout": "IPY_MODEL_545ebc91c17c4aa6959b057a16b3ac92",
       "style": "IPY_MODEL_a778cf604d174f4d9efe53ae6dfcc98b",
       "value": "Select upstream target mass thickness."
      }
     },
     "a369064e5b44428d8172adba0d439f70": {
      "model_module": "@jupyter-widgets/controls",
      "model_module_version": "1.1.0",
      "model_name": "DescriptionStyleModel",
      "state": {
       "description_width": ""
      }
     },
     "a37c33a2be514ce6b6365c51523ce460": {
      "model_module": "@jupyter-widgets/controls",
      "model_module_version": "1.1.0",
      "model_name": "LabelModel",
      "state": {
       "layout": "IPY_MODEL_f8187533cbd64b0f92011819d7ecc492",
       "style": "IPY_MODEL_442ac209cf4f4253a7d278fb37682d26",
       "value": "Select projectile ion energy."
      }
     },
     "a38c5526261a44588ed4a03810dd74de": {
      "model_module": "@jupyter-widgets/controls",
      "model_module_version": "1.1.0",
      "model_name": "ToggleButtonsModel",
      "state": {
       "_options_labels": [
        "N (¹n)",
        "NDC (¹n)",
        "P (¹H)",
        "D (²H)",
        "T (³H)",
        "S (³He)",
        "A (⁴He)"
       ],
       "button_style": "",
       "description": "Type:",
       "icons": [],
       "index": 0,
       "layout": "IPY_MODEL_14fafc4eb4bf469cae61c06d8cce53bf",
       "style": "IPY_MODEL_403956e3427d41e39e4ca6ce37a021f3",
       "tooltips": [
        "Neutron",
        "Back Target Neutron",
        "Proton",
        "Deuteron",
        "Triton",
        "Helium-3",
        "Helium-4"
       ]
      }
     },
     "a3a4a3661a1245309cad93b6359eb7e0": {
      "model_module": "@jupyter-widgets/base",
      "model_module_version": "1.0.0",
      "model_name": "LayoutModel",
      "state": {}
     },
     "a3f03c52452f4040b71e2bb824bf4b8b": {
      "model_module": "@jupyter-widgets/controls",
      "model_module_version": "1.1.0",
      "model_name": "DescriptionStyleModel",
      "state": {
       "description_width": ""
      }
     },
     "a410023c692b43789d99c69fccbf3d0c": {
      "model_module": "@jupyter-widgets/controls",
      "model_module_version": "1.1.0",
      "model_name": "DescriptionStyleModel",
      "state": {
       "description_width": ""
      }
     },
     "a430f5e1f8104030adc87152f743628c": {
      "model_module": "@jupyter-widgets/base",
      "model_module_version": "1.0.0",
      "model_name": "LayoutModel",
      "state": {}
     },
     "a46faac67e3c484db0c7d7646c36f03c": {
      "model_module": "@jupyter-widgets/controls",
      "model_module_version": "1.1.0",
      "model_name": "LabelModel",
      "state": {
       "layout": "IPY_MODEL_2f9f375ed8694a78a0160c1848befb47",
       "style": "IPY_MODEL_d48a7a058fb447fab5d67609ac3ff4e6",
       "value": "Select a detector type."
      }
     },
     "a492ac76f1b94b6a9eb892afe1c19c06": {
      "model_module": "@jupyter-widgets/base",
      "model_module_version": "1.0.0",
      "model_name": "LayoutModel",
      "state": {}
     },
     "a4943de1efff43359180753e2490e53e": {
      "model_module": "@jupyter-widgets/base",
      "model_module_version": "1.0.0",
      "model_name": "LayoutModel",
      "state": {}
     },
     "a4b0d07e296942e08a63cd4351a1ad3d": {
      "model_module": "@jupyter-widgets/controls",
      "model_module_version": "1.1.0",
      "model_name": "CheckboxModel",
      "state": {
       "description": "45°",
       "disabled": false,
       "layout": "IPY_MODEL_2a6a5bce17a946f98b9b7c3a32c9d1cd",
       "style": "IPY_MODEL_73138b754209406a8c76f8b0357ac687",
       "value": true
      }
     },
     "a53084ae74bf4682b26cbdd8f14db5c5": {
      "model_module": "@jupyter-widgets/controls",
      "model_module_version": "1.1.0",
      "model_name": "ToggleButtonsModel",
      "state": {
       "_options_labels": [
        "N (¹n)",
        "NDC (¹n)",
        "P (¹H)",
        "D (²H)"
       ],
       "button_style": "",
       "description": "Particle:",
       "icons": [],
       "index": 0,
       "layout": "IPY_MODEL_96da12b143364498a1f8e79fa09113ba",
       "style": "IPY_MODEL_7d315670ef4f4b77a3c4bdbb3d99313c",
       "tooltips": [
        "Neutron",
        "Back Target Neutron",
        "Proton",
        "Deuteron"
       ]
      }
     },
     "a59b588a6e0b4502b50c251055bfb406": {
      "model_module": "@jupyter-widgets/controls",
      "model_module_version": "1.1.0",
      "model_name": "DescriptionStyleModel",
      "state": {
       "description_width": ""
      }
     },
     "a5ab0bc8e4894abf9f3ae4671f61de35": {
      "model_module": "@jupyter-widgets/base",
      "model_module_version": "1.0.0",
      "model_name": "LayoutModel",
      "state": {}
     },
     "a5ab1f2937214bd09dec3d87590ba417": {
      "model_module": "@jupyter-widgets/controls",
      "model_module_version": "1.1.0",
      "model_name": "DescriptionStyleModel",
      "state": {
       "description_width": ""
      }
     },
     "a61a0cdb903c499d8ff1ce3dd7f8ab10": {
      "model_module": "@jupyter-widgets/controls",
      "model_module_version": "1.1.0",
      "model_name": "CheckboxModel",
      "state": {
       "description": "PHITS simulated",
       "disabled": false,
       "layout": "IPY_MODEL_f2ad27baf4764943a64930549184f148",
       "style": "IPY_MODEL_b55ba0c4ae6f4a6799d320c9b45bfdf5",
       "value": true
      }
     },
     "a62492efc26142d39374db8dd98e3500": {
      "model_module": "@jupyter-widgets/controls",
      "model_module_version": "1.1.0",
      "model_name": "DescriptionStyleModel",
      "state": {
       "description_width": ""
      }
     },
     "a629492428ad48ee8eb25a68ad4c270b": {
      "model_module": "@jupyter-widgets/base",
      "model_module_version": "1.0.0",
      "model_name": "LayoutModel",
      "state": {}
     },
     "a6823a7ff4d644898a0521a67008d5ad": {
      "model_module": "@jupyter-widgets/controls",
      "model_module_version": "1.1.0",
      "model_name": "DescriptionStyleModel",
      "state": {
       "description_width": ""
      }
     },
     "a69908d8073948cb894f81841a272daa": {
      "model_module": "@jupyter-widgets/controls",
      "model_module_version": "1.1.0",
      "model_name": "CheckboxModel",
      "state": {
       "description": "10°",
       "disabled": false,
       "layout": "IPY_MODEL_5c8ae25629bb45bfa1828369ead77402",
       "style": "IPY_MODEL_1af087b5218c4437920f90cb063ef0cb",
       "value": true
      }
     },
     "a6c3f474e4fc44af9c36e8c0cf3f1b5a": {
      "model_module": "@jupyter-widgets/base",
      "model_module_version": "1.0.0",
      "model_name": "LayoutModel",
      "state": {}
     },
     "a6cbe10f2dfc4c23a6128fed72630ac7": {
      "model_module": "@jupyter-widgets/controls",
      "model_module_version": "1.1.0",
      "model_name": "DescriptionStyleModel",
      "state": {
       "description_width": ""
      }
     },
     "a6db707717084bd98e064729160813cb": {
      "model_module": "@jupyter-widgets/controls",
      "model_module_version": "1.1.0",
      "model_name": "DescriptionStyleModel",
      "state": {
       "description_width": ""
      }
     },
     "a6dde0c38fef49efb25f733d549d75f7": {
      "model_module": "@jupyter-widgets/controls",
      "model_module_version": "1.1.0",
      "model_name": "DescriptionStyleModel",
      "state": {
       "description_width": ""
      }
     },
     "a6e4e615cf024c96b0b19a74e84d6cef": {
      "model_module": "@jupyter-widgets/controls",
      "model_module_version": "1.1.0",
      "model_name": "DescriptionStyleModel",
      "state": {
       "description_width": ""
      }
     },
     "a6f9e3ee75754eecb9e07499d61a606d": {
      "model_module": "@jupyter-widgets/base",
      "model_module_version": "1.0.0",
      "model_name": "LayoutModel",
      "state": {}
     },
     "a6fc76628f134e61baecc5b2f935b09d": {
      "model_module": "@jupyter-widgets/controls",
      "model_module_version": "1.1.0",
      "model_name": "ToggleButtonsModel",
      "state": {
       "_options_labels": [
        "400 MeV/n",
        "800 MeV/n",
        "1500 MeV/n"
       ],
       "button_style": "",
       "description": "Energy:",
       "icons": [],
       "index": 0,
       "layout": "IPY_MODEL_8de4e7cb679a44798964a2c36f75b7a3",
       "style": "IPY_MODEL_e52c9ad6f0f94c16a168ca41d44d2b05",
       "tooltips": [
        "lowest energy",
        "middle energy",
        "highest energy"
       ]
      }
     },
     "a70b0e978e594f1399789e761e60afbf": {
      "model_module": "@jupyter-widgets/controls",
      "model_module_version": "1.1.0",
      "model_name": "ToggleButtonsStyleModel",
      "state": {
       "button_width": "",
       "description_width": ""
      }
     },
     "a715567199b948ed9bf18629dce166b8": {
      "model_module": "@jupyter-widgets/base",
      "model_module_version": "1.0.0",
      "model_name": "LayoutModel",
      "state": {}
     },
     "a736e35fa3074fa386911fcdb54f58e3": {
      "model_module": "@jupyter-widgets/base",
      "model_module_version": "1.0.0",
      "model_name": "LayoutModel",
      "state": {}
     },
     "a73ea27787e845ec9d670ffc57d5fe34": {
      "model_module": "@jupyter-widgets/controls",
      "model_module_version": "1.1.0",
      "model_name": "ToggleButtonsStyleModel",
      "state": {
       "button_width": "",
       "description_width": ""
      }
     },
     "a7559b98612a40d2b03ff7835e62fce8": {
      "model_module": "@jupyter-widgets/controls",
      "model_module_version": "1.1.0",
      "model_name": "CheckboxModel",
      "state": {
       "description": "30°",
       "disabled": false,
       "layout": "IPY_MODEL_e855032a03ab41298ecbce490692b442",
       "style": "IPY_MODEL_3e6868e05b4d42438e495a1ad59c565b",
       "value": true
      }
     },
     "a75b6cfabe5f49bebbcfef46c37b3617": {
      "model_module": "@jupyter-widgets/controls",
      "model_module_version": "1.1.0",
      "model_name": "CheckboxModel",
      "state": {
       "description": "135°",
       "disabled": false,
       "layout": "IPY_MODEL_858ff6cb153941629070dce3e8eab120",
       "style": "IPY_MODEL_4631bef8f06b44778e229ff134e96632",
       "value": true
      }
     },
     "a778cf604d174f4d9efe53ae6dfcc98b": {
      "model_module": "@jupyter-widgets/controls",
      "model_module_version": "1.1.0",
      "model_name": "DescriptionStyleModel",
      "state": {
       "description_width": ""
      }
     },
     "a7823db7be3f4cd48902bd8f6cbba005": {
      "model_module": "@jupyter-widgets/controls",
      "model_module_version": "1.1.0",
      "model_name": "DescriptionStyleModel",
      "state": {
       "description_width": ""
      }
     },
     "a7ac061fcead4b22aea85bf9a2788c5c": {
      "model_module": "@jupyter-widgets/controls",
      "model_module_version": "1.1.0",
      "model_name": "CheckboxModel",
      "state": {
       "description": "135°",
       "disabled": false,
       "layout": "IPY_MODEL_083d6cdb707a4e63bf282c13b7456a14",
       "style": "IPY_MODEL_2203b0e36dc448a6a364d02d9ddc7b10",
       "value": false
      }
     },
     "a7cf71167764452e83be627357958e79": {
      "model_module": "@jupyter-widgets/controls",
      "model_module_version": "1.1.0",
      "model_name": "CheckboxModel",
      "state": {
       "description": "10°",
       "disabled": false,
       "layout": "IPY_MODEL_55619c5dea094e449247ceb4ea2afc58",
       "style": "IPY_MODEL_9c750331100c4339ba5cdad0d8689798",
       "value": true
      }
     },
     "a7e1100ec75e45979025dd2ef79f9371": {
      "model_module": "@jupyter-widgets/controls",
      "model_module_version": "1.1.0",
      "model_name": "LabelModel",
      "state": {
       "layout": "IPY_MODEL_15be3f50cce94b91a4aa3def909f1e33",
       "style": "IPY_MODEL_023d98986734416e92f986009753c584",
       "value": "Select which secondary particle to plot spectra for."
      }
     },
     "a8527311491441dd8de9b71ddc09213b": {
      "model_module": "@jupyter-widgets/controls",
      "model_module_version": "1.1.0",
      "model_name": "ToggleButtonsModel",
      "state": {
       "_options_labels": [
        "P (¹H)",
        "D (²H)",
        "T (³H)",
        "A (⁴He)"
       ],
       "button_style": "",
       "description": "Type:",
       "icons": [],
       "index": 0,
       "layout": "IPY_MODEL_34c7f5a56df04a03a6dc535e5f75739a",
       "style": "IPY_MODEL_2aac0176a49544ad9d78d854909dc5a1",
       "tooltips": [
        "Proton",
        "Deuteron",
        "Triton",
        "Helium-4"
       ]
      }
     },
     "a86e995100d74316a3d0e3db7e535fcc": {
      "model_module": "@jupyter-widgets/base",
      "model_module_version": "1.0.0",
      "model_name": "LayoutModel",
      "state": {}
     },
     "a8841feafea14d99b95f53187891f2ae": {
      "model_module": "@jupyter-widgets/controls",
      "model_module_version": "1.1.0",
      "model_name": "ToggleButtonsModel",
      "state": {
       "_options_labels": [
        "20 g/cm²",
        "40 g/cm²",
        "60 g/cm²"
       ],
       "button_style": "",
       "description": "Thickness:",
       "icons": [],
       "index": 0,
       "layout": "IPY_MODEL_2390edd9b3c642169437648801af5220",
       "style": "IPY_MODEL_f199881453b040ecba836e9210e1e2bd",
       "tooltips": [
        "20 g/cm² Aluminum",
        "40 g/cm² Aluminum",
        "60 g/cm² Aluminum"
       ]
      }
     },
     "a8a2ca2e021d4049b9d303d2eeca3e14": {
      "model_module": "@jupyter-widgets/controls",
      "model_module_version": "1.1.0",
      "model_name": "CheckboxModel",
      "state": {
       "description": "80°",
       "disabled": false,
       "layout": "IPY_MODEL_b134c9403fea4574bd2840c454cb26d7",
       "style": "IPY_MODEL_1e7bec4752ff40afa2b30faaa9181f59",
       "value": false
      }
     },
     "a8c7d47f1a484630a29733c5b4b79d98": {
      "model_module": "@jupyter-widgets/controls",
      "model_module_version": "1.1.0",
      "model_name": "ToggleButtonsModel",
      "state": {
       "_options_labels": [
        "H",
        "He",
        "C",
        "Si",
        "Fe"
       ],
       "button_style": "",
       "description": "Ion:",
       "icons": [],
       "index": 0,
       "layout": "IPY_MODEL_e58a8f5499a64d7d8362340324127d7d",
       "style": "IPY_MODEL_827c1636df9f4da3b9e26740c6b7ea19",
       "tooltips": [
        "Hydrogen",
        "Helium",
        "Carbon",
        "Silicon",
        "Iron"
       ]
      }
     },
     "a8e419868feb40a79cfca7b3f532a7fa": {
      "model_module": "@jupyter-widgets/base",
      "model_module_version": "1.0.0",
      "model_name": "LayoutModel",
      "state": {}
     },
     "a8e63e1dcb4345d2b913355531ac989f": {
      "model_module": "@jupyter-widgets/base",
      "model_module_version": "1.0.0",
      "model_name": "LayoutModel",
      "state": {}
     },
     "a8ff9a8265864ce6b8522a45b3a04d55": {
      "model_module": "@jupyter-widgets/controls",
      "model_module_version": "1.1.0",
      "model_name": "DescriptionStyleModel",
      "state": {
       "description_width": ""
      }
     },
     "a900600b456b46a681fcc9494b7ece95": {
      "model_module": "@jupyter-widgets/controls",
      "model_module_version": "1.1.0",
      "model_name": "DescriptionStyleModel",
      "state": {
       "description_width": ""
      }
     },
     "a909c92eb1cd48299d3eaffaf12d2cc4": {
      "model_module": "@jupyter-widgets/controls",
      "model_module_version": "1.1.0",
      "model_name": "CheckboxModel",
      "state": {
       "description": "10°",
       "disabled": false,
       "layout": "IPY_MODEL_447f53e19b2f4ddf9d2a3f12f6e5636f",
       "style": "IPY_MODEL_7bc3fbb9ab3f45348de818119b4edb4a",
       "value": true
      }
     },
     "a91084f9d3494b6a940831af3dd58f88": {
      "model_module": "@jupyter-widgets/base",
      "model_module_version": "1.0.0",
      "model_name": "LayoutModel",
      "state": {}
     },
     "a918cb0bb85249d1b54b8565dad3f659": {
      "model_module": "@jupyter-widgets/base",
      "model_module_version": "1.0.0",
      "model_name": "LayoutModel",
      "state": {}
     },
     "a9e42351c8da44b9ad978d46ab3d72ab": {
      "model_module": "@jupyter-widgets/controls",
      "model_module_version": "1.1.0",
      "model_name": "DescriptionStyleModel",
      "state": {
       "description_width": ""
      }
     },
     "a9eb32704977437e852c288bee57f477": {
      "model_module": "@jupyter-widgets/base",
      "model_module_version": "1.0.0",
      "model_name": "LayoutModel",
      "state": {}
     },
     "a9ff3c6349dd4e3aa5f9024c95be5218": {
      "model_module": "@jupyter-widgets/controls",
      "model_module_version": "1.1.0",
      "model_name": "CheckboxModel",
      "state": {
       "description": "135°",
       "disabled": false,
       "layout": "IPY_MODEL_d0712f64deb44255bae5800bafb719c0",
       "style": "IPY_MODEL_89eda586ef094d9e9d2cbe3f9c364b32",
       "value": true
      }
     },
     "aa131432c11c43cd9c947c59d810af25": {
      "model_module": "@jupyter-widgets/controls",
      "model_module_version": "1.1.0",
      "model_name": "ToggleButtonsStyleModel",
      "state": {
       "button_width": "",
       "description_width": ""
      }
     },
     "aa1a47aaec0f414d8480b69918503e93": {
      "model_module": "@jupyter-widgets/controls",
      "model_module_version": "1.1.0",
      "model_name": "DescriptionStyleModel",
      "state": {
       "description_width": ""
      }
     },
     "aa35185bf3a34092a2bd1af2cf00e408": {
      "model_module": "@jupyter-widgets/controls",
      "model_module_version": "1.1.0",
      "model_name": "DescriptionStyleModel",
      "state": {
       "description_width": ""
      }
     },
     "aa3cfd405b92404eb2f19d71ca77330c": {
      "model_module": "@jupyter-widgets/controls",
      "model_module_version": "1.1.0",
      "model_name": "DescriptionStyleModel",
      "state": {
       "description_width": ""
      }
     },
     "aa576a24ff1e4532a1ab8eb9fca802c4": {
      "model_module": "@jupyter-widgets/controls",
      "model_module_version": "1.1.0",
      "model_name": "ToggleButtonsStyleModel",
      "state": {
       "button_width": "",
       "description_width": ""
      }
     },
     "aa9ce7dc21004692afd0bf9d3f368c59": {
      "model_module": "@jupyter-widgets/base",
      "model_module_version": "1.0.0",
      "model_name": "LayoutModel",
      "state": {}
     },
     "aaa3a47d844c4b0dac0107764300dd71": {
      "model_module": "@jupyter-widgets/controls",
      "model_module_version": "1.1.0",
      "model_name": "CheckboxModel",
      "state": {
       "description": "80°",
       "disabled": false,
       "layout": "IPY_MODEL_ae9a6cf6bb114d679211456db7d47d11",
       "style": "IPY_MODEL_367b1a0957de43d1b458dacce96a2b0d",
       "value": true
      }
     },
     "aaa63bbb5eb54110b6564cd3b6e94182": {
      "model_module": "@jupyter-widgets/controls",
      "model_module_version": "1.1.0",
      "model_name": "CheckboxModel",
      "state": {
       "description": "32.7°",
       "disabled": false,
       "layout": "IPY_MODEL_d7d04417ef3a4532976d037d0a51da0c",
       "style": "IPY_MODEL_e859ff3fab7f425f9d5d51bb08bb0418",
       "value": true
      }
     },
     "aac3db4e5d1e4f98a69d1cf4938a87d6": {
      "model_module": "@jupyter-widgets/base",
      "model_module_version": "1.0.0",
      "model_name": "LayoutModel",
      "state": {}
     },
     "aacbd410ba604eb5bfa744c5cca3a829": {
      "model_module": "@jupyter-widgets/controls",
      "model_module_version": "1.1.0",
      "model_name": "CheckboxModel",
      "state": {
       "description": "60°",
       "disabled": false,
       "layout": "IPY_MODEL_590c75c872914897a0b6cde58cca7b15",
       "style": "IPY_MODEL_834837e439a34d1fa4c89cc1e7e18944",
       "value": true
      }
     },
     "aae004f179e247eca0f69c2e845884f5": {
      "model_module": "@jupyter-widgets/controls",
      "model_module_version": "1.1.0",
      "model_name": "LabelModel",
      "state": {
       "layout": "IPY_MODEL_ff775fb71b26478da0e11f8d03b303f6",
       "style": "IPY_MODEL_de4ee6f855d746ea968143e1a598b77b",
       "value": "Select the detector angles to plot."
      }
     },
     "aae4131894c542f9a8804e5109bd7c6f": {
      "model_module": "@jupyter-widgets/controls",
      "model_module_version": "1.1.0",
      "model_name": "ToggleButtonsModel",
      "state": {
       "_options_labels": [
        "400 MeV",
        "800 MeV",
        "2500 MeV"
       ],
       "button_style": "",
       "description": "Energy:",
       "icons": [],
       "index": 0,
       "layout": "IPY_MODEL_2fe070cfb385435db6261ac22e7b218f",
       "style": "IPY_MODEL_0a3b209bcf6841b9a433d6e5c3b1a795",
       "tooltips": [
        "lowest energy",
        "middle energy",
        "highest energy"
       ]
      }
     },
     "ab08f3b531ee4b92bbbe6ee1c754c252": {
      "model_module": "@jupyter-widgets/controls",
      "model_module_version": "1.1.0",
      "model_name": "ToggleButtonsStyleModel",
      "state": {
       "button_width": "",
       "description_width": ""
      }
     },
     "ab316c5666524946ae0c172d4473ccf4": {
      "model_module": "@jupyter-widgets/controls",
      "model_module_version": "1.1.0",
      "model_name": "DescriptionStyleModel",
      "state": {
       "description_width": ""
      }
     },
     "ab51b1419f7546d9adedc7d98370b3be": {
      "model_module": "@jupyter-widgets/base",
      "model_module_version": "1.0.0",
      "model_name": "LayoutModel",
      "state": {}
     },
     "ab60a82ccdee43e69c1d0426c2e4b712": {
      "model_module": "@jupyter-widgets/controls",
      "model_module_version": "1.1.0",
      "model_name": "CheckboxModel",
      "state": {
       "description": "60°",
       "disabled": false,
       "layout": "IPY_MODEL_f673c3750a714ce6b241908ebc147d4d",
       "style": "IPY_MODEL_a6cbe10f2dfc4c23a6128fed72630ac7",
       "value": true
      }
     },
     "abba099c8d2346e3b5455ba8b4be4d26": {
      "model_module": "@jupyter-widgets/controls",
      "model_module_version": "1.1.0",
      "model_name": "DescriptionStyleModel",
      "state": {
       "description_width": ""
      }
     },
     "ac1392c5e79241cabcbe2f0b9cdd133a": {
      "model_module": "@jupyter-widgets/base",
      "model_module_version": "1.0.0",
      "model_name": "LayoutModel",
      "state": {}
     },
     "ac178c9f1ab74b948336cbfb2630dc42": {
      "model_module": "@jupyter-widgets/controls",
      "model_module_version": "1.1.0",
      "model_name": "ButtonModel",
      "state": {
       "button_style": "success",
       "description": "Update plot",
       "icon": "paint-brush",
       "layout": "IPY_MODEL_c24a1cfb75f44d6392ee6ea2874d43d0",
       "style": "IPY_MODEL_3d8b79afcd5346e89411d87b293cd799",
       "tooltip": "Click to redraw the plot below with updated options from above."
      }
     },
     "ac2f0828c98f4d179cf83ddf27166b0b": {
      "model_module": "@jupyter-widgets/base",
      "model_module_version": "1.0.0",
      "model_name": "LayoutModel",
      "state": {}
     },
     "ac4aa1f1b1e8453d87f1df70ac524806": {
      "model_module": "@jupyter-widgets/controls",
      "model_module_version": "1.1.0",
      "model_name": "CheckboxModel",
      "state": {
       "description": "10°",
       "disabled": false,
       "layout": "IPY_MODEL_ac1392c5e79241cabcbe2f0b9cdd133a",
       "style": "IPY_MODEL_008d4deaa4f24f778435821053645eab",
       "value": true
      }
     },
     "ac5963eefc4a4f2787971df6efcec6f9": {
      "model_module": "@jupyter-widgets/controls",
      "model_module_version": "1.1.0",
      "model_name": "CheckboxModel",
      "state": {
       "description": "30°",
       "disabled": false,
       "layout": "IPY_MODEL_10eb4b649ea049f6a6685d6b048edfea",
       "style": "IPY_MODEL_b957fd9211284d609f9603993f986749",
       "value": false
      }
     },
     "ac824a4a151342f982e4269c702e3713": {
      "model_module": "@jupyter-widgets/controls",
      "model_module_version": "1.1.0",
      "model_name": "CheckboxModel",
      "state": {
       "description": "PHITS simulated",
       "disabled": false,
       "layout": "IPY_MODEL_87c459b78b604640909d7f732feb1b01",
       "style": "IPY_MODEL_93187ff29a454bffa64ddd10403e4b64",
       "value": true
      }
     },
     "ac9577885a6643f3acdf6df98032a935": {
      "model_module": "@jupyter-widgets/controls",
      "model_module_version": "1.1.0",
      "model_name": "DescriptionStyleModel",
      "state": {
       "description_width": ""
      }
     },
     "aca553dec049411a9613a1df049c60f2": {
      "model_module": "@jupyter-widgets/base",
      "model_module_version": "1.0.0",
      "model_name": "LayoutModel",
      "state": {}
     },
     "acbc4bb96b4c494ab595aaeafc032f58": {
      "model_module": "@jupyter-widgets/controls",
      "model_module_version": "1.1.0",
      "model_name": "CheckboxModel",
      "state": {
       "description": "10°",
       "disabled": false,
       "layout": "IPY_MODEL_6b6887f98a3e425fb0be0ae08a8fee56",
       "style": "IPY_MODEL_0097f451415149d5a8a5b91cd0fcde5b",
       "value": true
      }
     },
     "ad5645d902d742a1803f4b773391fcc6": {
      "model_module": "@jupyter-widgets/controls",
      "model_module_version": "1.1.0",
      "model_name": "CheckboxModel",
      "state": {
       "description": "60°",
       "disabled": false,
       "layout": "IPY_MODEL_e70fff3b1c7d496b87c0f5a08a5d3555",
       "style": "IPY_MODEL_f26b555c18674641ac56b038c0e17764",
       "value": true
      }
     },
     "ad97f50377b04667a22d5c1ff7f846a1": {
      "model_module": "@jupyter-widgets/controls",
      "model_module_version": "1.1.0",
      "model_name": "CheckboxModel",
      "state": {
       "description": "135°",
       "disabled": false,
       "layout": "IPY_MODEL_5929c186d9eb48c99b0e76d2f047ecee",
       "style": "IPY_MODEL_a6dde0c38fef49efb25f733d549d75f7",
       "value": true
      }
     },
     "adca284843d044cabca92fd491c10dac": {
      "model_module": "@jupyter-widgets/controls",
      "model_module_version": "1.1.0",
      "model_name": "CheckboxModel",
      "state": {
       "description": "30°",
       "disabled": false,
       "layout": "IPY_MODEL_ef4bd5c55a7c45cc9ef95a2d4270d9a7",
       "style": "IPY_MODEL_4fa6bd4d322749fe891b1e8b7edd436a",
       "value": false
      }
     },
     "add3906993124ea1b4e1b692d9bd831b": {
      "model_module": "@jupyter-widgets/controls",
      "model_module_version": "1.1.0",
      "model_name": "DescriptionStyleModel",
      "state": {
       "description_width": ""
      }
     },
     "adeb596f502d42449d8811e70bbae8b2": {
      "model_module": "@jupyter-widgets/base",
      "model_module_version": "1.0.0",
      "model_name": "LayoutModel",
      "state": {}
     },
     "ae00635134a94eb785d52a4eb527ed7a": {
      "model_module": "@jupyter-widgets/controls",
      "model_module_version": "1.1.0",
      "model_name": "DescriptionStyleModel",
      "state": {
       "description_width": ""
      }
     },
     "ae04b1d2163a40a8bc5de76789e0d27d": {
      "model_module": "@jupyter-widgets/base",
      "model_module_version": "1.0.0",
      "model_name": "LayoutModel",
      "state": {}
     },
     "ae7dcbfed4f64731b92fa302d76824a5": {
      "model_module": "@jupyter-widgets/base",
      "model_module_version": "1.0.0",
      "model_name": "LayoutModel",
      "state": {}
     },
     "ae817525d46844a189196d2f31d7ef57": {
      "model_module": "@jupyter-widgets/controls",
      "model_module_version": "1.1.0",
      "model_name": "ToggleButtonsModel",
      "state": {
       "_options_labels": [
        "N (¹n)",
        "NDC (¹n)",
        "P (¹H)",
        "D (²H)"
       ],
       "button_style": "",
       "description": "Particle:",
       "icons": [],
       "index": 0,
       "layout": "IPY_MODEL_46158989dffc448fbbd4cbe5f5e4dd4f",
       "style": "IPY_MODEL_b2a470e8f4a848a08760b7e4ce68216b",
       "tooltips": [
        "Neutron",
        "Back Target Neutron",
        "Proton",
        "Deuteron"
       ]
      }
     },
     "ae9a6cf6bb114d679211456db7d47d11": {
      "model_module": "@jupyter-widgets/base",
      "model_module_version": "1.0.0",
      "model_name": "LayoutModel",
      "state": {}
     },
     "aeeface96ece4888a98b7db93c45d416": {
      "model_module": "@jupyter-widgets/controls",
      "model_module_version": "1.1.0",
      "model_name": "DescriptionStyleModel",
      "state": {
       "description_width": ""
      }
     },
     "aef07b9a3bf543f0ad01653eb45d6240": {
      "model_module": "@jupyter-widgets/controls",
      "model_module_version": "1.1.0",
      "model_name": "CheckboxModel",
      "state": {
       "description": "12.7°",
       "disabled": false,
       "layout": "IPY_MODEL_e7354a7351dc4a3eb056a1ebe167219f",
       "style": "IPY_MODEL_295a0c1f17204f57beb0788ecce78f07",
       "value": true
      }
     },
     "aef4391aa0ee4ab78258b8820f439057": {
      "model_module": "@jupyter-widgets/base",
      "model_module_version": "1.0.0",
      "model_name": "LayoutModel",
      "state": {}
     },
     "af0482e6032a4b5c895c578b92a107b1": {
      "model_module": "@jupyter-widgets/base",
      "model_module_version": "1.0.0",
      "model_name": "LayoutModel",
      "state": {}
     },
     "af447f0dfaba4018b93633549c50a98c": {
      "model_module": "@jupyter-widgets/base",
      "model_module_version": "1.0.0",
      "model_name": "LayoutModel",
      "state": {}
     },
     "afd94890969542849d0014c83d9f710e": {
      "model_module": "@jupyter-widgets/controls",
      "model_module_version": "1.1.0",
      "model_name": "CheckboxModel",
      "state": {
       "description": "30°",
       "disabled": false,
       "layout": "IPY_MODEL_b8d668ae50cd4ec0b0e9768bf13ebaee",
       "style": "IPY_MODEL_644ed6cc3d2144fdaa33e0de942764ca",
       "value": false
      }
     },
     "b04672d85a424837b02b239fd6d93306": {
      "model_module": "@jupyter-widgets/controls",
      "model_module_version": "1.1.0",
      "model_name": "DescriptionStyleModel",
      "state": {
       "description_width": ""
      }
     },
     "b066e3a83ac34f1a8f7719e1454d5875": {
      "model_module": "@jupyter-widgets/base",
      "model_module_version": "1.0.0",
      "model_name": "LayoutModel",
      "state": {}
     },
     "b06735c61c254823b8261980ec3395a3": {
      "model_module": "@jupyter-widgets/controls",
      "model_module_version": "1.1.0",
      "model_name": "DescriptionStyleModel",
      "state": {
       "description_width": ""
      }
     },
     "b06e725ffc5a4f68af22e7bbbb5e9aa9": {
      "model_module": "@jupyter-widgets/controls",
      "model_module_version": "1.1.0",
      "model_name": "CheckboxModel",
      "state": {
       "description": "10°",
       "disabled": false,
       "layout": "IPY_MODEL_2ae593c4383e45e9ae578cacbd91a07c",
       "style": "IPY_MODEL_18b949db5fe34bef96f34c741ec2e158",
       "value": true
      }
     },
     "b0850357b9f3483ebcb764038629e4b6": {
      "model_module": "@jupyter-widgets/base",
      "model_module_version": "1.0.0",
      "model_name": "LayoutModel",
      "state": {}
     },
     "b134c9403fea4574bd2840c454cb26d7": {
      "model_module": "@jupyter-widgets/base",
      "model_module_version": "1.0.0",
      "model_name": "LayoutModel",
      "state": {}
     },
     "b156ec5fd56541f6830dddbad5917e66": {
      "model_module": "@jupyter-widgets/controls",
      "model_module_version": "1.1.0",
      "model_name": "CheckboxModel",
      "state": {
       "description": "80°",
       "disabled": false,
       "layout": "IPY_MODEL_1dad1907f0694a15b1777d2307d3c28f",
       "style": "IPY_MODEL_846897d5be034873bc66dd9153ee457a",
       "value": true
      }
     },
     "b159994f2523454c849777345beef154": {
      "model_module": "@jupyter-widgets/base",
      "model_module_version": "1.0.0",
      "model_name": "LayoutModel",
      "state": {}
     },
     "b190e7ee1cc6456b9d4bb6b79f1a5050": {
      "model_module": "@jupyter-widgets/controls",
      "model_module_version": "1.1.0",
      "model_name": "DescriptionStyleModel",
      "state": {
       "description_width": ""
      }
     },
     "b1b2e4a172a0450c8398fd8c63426533": {
      "model_module": "@jupyter-widgets/base",
      "model_module_version": "1.0.0",
      "model_name": "LayoutModel",
      "state": {}
     },
     "b1e44077f2bb4e8c83ec53c33e3658c0": {
      "model_module": "@jupyter-widgets/base",
      "model_module_version": "1.0.0",
      "model_name": "LayoutModel",
      "state": {}
     },
     "b1f1994c3de742f98d80525a0dc6cdb8": {
      "model_module": "@jupyter-widgets/base",
      "model_module_version": "1.0.0",
      "model_name": "LayoutModel",
      "state": {}
     },
     "b1fc77d5024944e49d73df03a1d5033b": {
      "model_module": "@jupyter-widgets/base",
      "model_module_version": "1.0.0",
      "model_name": "LayoutModel",
      "state": {}
     },
     "b256a51a15734075b996a26f220eea7f": {
      "model_module": "@jupyter-widgets/base",
      "model_module_version": "1.0.0",
      "model_name": "LayoutModel",
      "state": {}
     },
     "b25d8c8e0874442ab49817d2a1a7778b": {
      "model_module": "@jupyter-widgets/controls",
      "model_module_version": "1.1.0",
      "model_name": "LabelModel",
      "state": {
       "layout": "IPY_MODEL_8b0eefb472c1489c9499bfca2575e77e",
       "style": "IPY_MODEL_2840e65aec3c47d3837a37a936e92cd1",
       "value": "Select the detector angles to plot."
      }
     },
     "b27880a92be84b8ebaf17bc82d752646": {
      "model_module": "@jupyter-widgets/controls",
      "model_module_version": "1.1.0",
      "model_name": "CheckboxModel",
      "state": {
       "description": "135°",
       "disabled": false,
       "layout": "IPY_MODEL_428942ba674d46a2bf6cdd61a85e65eb",
       "style": "IPY_MODEL_33c23a4720244974b92f5a5e7e3f3fd9",
       "value": false
      }
     },
     "b29216362c6d460ab5757f977fc97956": {
      "model_module": "@jupyter-widgets/controls",
      "model_module_version": "1.1.0",
      "model_name": "LabelModel",
      "state": {
       "layout": "IPY_MODEL_0abffa0061eb431eadd0b537a048d95d",
       "style": "IPY_MODEL_1ba608492b364dd0bee498de820a823f",
       "value": "Select which sets of data to display."
      }
     },
     "b2a39a040a6544d99cfd7e4863d4a141": {
      "model_module": "@jupyter-widgets/base",
      "model_module_version": "1.0.0",
      "model_name": "LayoutModel",
      "state": {}
     },
     "b2a470e8f4a848a08760b7e4ce68216b": {
      "model_module": "@jupyter-widgets/controls",
      "model_module_version": "1.1.0",
      "model_name": "ToggleButtonsStyleModel",
      "state": {
       "button_width": "",
       "description_width": ""
      }
     },
     "b2c2393f3cc943afa4c0a599f866c96b": {
      "model_module": "@jupyter-widgets/base",
      "model_module_version": "1.0.0",
      "model_name": "LayoutModel",
      "state": {}
     },
     "b3311dbc66674b6daaee1b5cd76ce614": {
      "model_module": "@jupyter-widgets/controls",
      "model_module_version": "1.1.0",
      "model_name": "DescriptionStyleModel",
      "state": {
       "description_width": ""
      }
     },
     "b34c0b45a9364bf4a77dbe00b1b856bf": {
      "model_module": "@jupyter-widgets/base",
      "model_module_version": "1.0.0",
      "model_name": "LayoutModel",
      "state": {}
     },
     "b3660327e0444359a041733a7b545b85": {
      "model_module": "@jupyter-widgets/controls",
      "model_module_version": "1.1.0",
      "model_name": "LabelModel",
      "state": {
       "layout": "IPY_MODEL_1b7bbc4fc6784941b0bb170af22bc7b8",
       "style": "IPY_MODEL_46da5a87136a4c1aab5938de6e45b620",
       "value": "Select which secondary particle to plot spectra for."
      }
     },
     "b3986e02e21e4ee1a1966105d74846a0": {
      "model_module": "@jupyter-widgets/base",
      "model_module_version": "1.0.0",
      "model_name": "LayoutModel",
      "state": {}
     },
     "b3f675f793e84eb8af82213e3f6ecee1": {
      "model_module": "@jupyter-widgets/controls",
      "model_module_version": "1.1.0",
      "model_name": "DescriptionStyleModel",
      "state": {
       "description_width": ""
      }
     },
     "b3fd0342b9c746f09a3e932129aa511a": {
      "model_module": "@jupyter-widgets/controls",
      "model_module_version": "1.1.0",
      "model_name": "CheckboxModel",
      "state": {
       "description": "60°",
       "disabled": false,
       "layout": "IPY_MODEL_395446e8e7c2410bb4bc4027eae2a0f3",
       "style": "IPY_MODEL_0d68d719bd2542f7a4a21bfdbf9e730f",
       "value": true
      }
     },
     "b42f68c91453466f98cc3c71ddde5df8": {
      "model_module": "@jupyter-widgets/controls",
      "model_module_version": "1.1.0",
      "model_name": "DescriptionStyleModel",
      "state": {
       "description_width": ""
      }
     },
     "b430db24d0cc4ea682e31554dad28dba": {
      "model_module": "@jupyter-widgets/base",
      "model_module_version": "1.0.0",
      "model_name": "LayoutModel",
      "state": {}
     },
     "b453f597f5f747879bbb7e51d7941077": {
      "model_module": "@jupyter-widgets/controls",
      "model_module_version": "1.1.0",
      "model_name": "DescriptionStyleModel",
      "state": {
       "description_width": ""
      }
     },
     "b4570addcf0d4ba69011271c073dbf3c": {
      "model_module": "@jupyter-widgets/base",
      "model_module_version": "1.0.0",
      "model_name": "LayoutModel",
      "state": {}
     },
     "b47b0b519fa84394b5a2796345eee4c6": {
      "model_module": "@jupyter-widgets/base",
      "model_module_version": "1.0.0",
      "model_name": "LayoutModel",
      "state": {}
     },
     "b5217da0eb624c05840ab91ea1d96f4e": {
      "model_module": "@jupyter-widgets/controls",
      "model_module_version": "1.1.0",
      "model_name": "CheckboxModel",
      "state": {
       "description": "135°",
       "disabled": false,
       "layout": "IPY_MODEL_09f1f55f355d408eb0e5a49eba19f462",
       "style": "IPY_MODEL_23c1b57dfe8f4761b1563240ada6a5b9",
       "value": true
      }
     },
     "b53b7f65937342619cb1be0545c449f6": {
      "model_module": "@jupyter-widgets/controls",
      "model_module_version": "1.1.0",
      "model_name": "LabelModel",
      "state": {
       "layout": "IPY_MODEL_4b3e0d7cc3a34cd19bab3b2ed36231f6",
       "style": "IPY_MODEL_0a0d9cee4f61455e902848baa25f71d3",
       "value": "Select which secondary particle to plot spectra for."
      }
     },
     "b55ba0c4ae6f4a6799d320c9b45bfdf5": {
      "model_module": "@jupyter-widgets/controls",
      "model_module_version": "1.1.0",
      "model_name": "DescriptionStyleModel",
      "state": {
       "description_width": ""
      }
     },
     "b566ff860baa48be8cdc1426984241e2": {
      "model_module": "@jupyter-widgets/controls",
      "model_module_version": "1.1.0",
      "model_name": "CheckboxModel",
      "state": {
       "description": "12.7°",
       "disabled": false,
       "layout": "IPY_MODEL_047a017af03e49b6b3d64477ccdbb467",
       "style": "IPY_MODEL_237c8b13f52c471ebb970a663c67e096",
       "value": true
      }
     },
     "b576ea33eaae4f5881e5e4345ac108c8": {
      "model_module": "@jupyter-widgets/controls",
      "model_module_version": "1.1.0",
      "model_name": "DescriptionStyleModel",
      "state": {
       "description_width": ""
      }
     },
     "b57b30fb574d4bc390c13d021a91cb9f": {
      "model_module": "@jupyter-widgets/controls",
      "model_module_version": "1.1.0",
      "model_name": "ToggleButtonsStyleModel",
      "state": {
       "button_width": "",
       "description_width": ""
      }
     },
     "b5f2154c6ab6493891178428e440d1b4": {
      "model_module": "@jupyter-widgets/controls",
      "model_module_version": "1.1.0",
      "model_name": "LabelModel",
      "state": {
       "layout": "IPY_MODEL_9205c477a1be4469b22d1997d942407d",
       "style": "IPY_MODEL_7d80945944f749c38f55ca99a4d8e702",
       "value": "Select the detector angles to plot."
      }
     },
     "b607a8a1011f41e79657979eed2d5d47": {
      "model_module": "@jupyter-widgets/base",
      "model_module_version": "1.0.0",
      "model_name": "LayoutModel",
      "state": {}
     },
     "b61af8bb6c014c1685e4e5c56f1af885": {
      "model_module": "@jupyter-widgets/controls",
      "model_module_version": "1.1.0",
      "model_name": "CheckboxModel",
      "state": {
       "description": "45°",
       "disabled": false,
       "layout": "IPY_MODEL_0df35494584e4aa2ae0f69fa4df9264c",
       "style": "IPY_MODEL_772e5375e9884cc59b06095fd14fa29c",
       "value": true
      }
     },
     "b65c01657bd649c8b8b1c5021cec090e": {
      "model_module": "@jupyter-widgets/base",
      "model_module_version": "1.0.0",
      "model_name": "LayoutModel",
      "state": {}
     },
     "b674b2d7269d422ca8de761bb917d833": {
      "model_module": "@jupyter-widgets/controls",
      "model_module_version": "1.1.0",
      "model_name": "LabelModel",
      "state": {
       "layout": "IPY_MODEL_8d01d2f5c2274b13984798d5294ef8a5",
       "style": "IPY_MODEL_c8ae63bb7c01400db0e6029877fcd041",
       "value": "Select which secondary particle to plot spectra for."
      }
     },
     "b67cce65aca44fba99692642db417b07": {
      "model_module": "@jupyter-widgets/base",
      "model_module_version": "1.0.0",
      "model_name": "LayoutModel",
      "state": {}
     },
     "b6a6026f9a484957a255fc96600c9c14": {
      "model_module": "@jupyter-widgets/base",
      "model_module_version": "1.0.0",
      "model_name": "LayoutModel",
      "state": {}
     },
     "b6afb6b7e2334252b59396dc1689c01a": {
      "model_module": "@jupyter-widgets/base",
      "model_module_version": "1.0.0",
      "model_name": "LayoutModel",
      "state": {}
     },
     "b6c24efdc53a4660a49ce93bba5de96a": {
      "model_module": "@jupyter-widgets/controls",
      "model_module_version": "1.1.0",
      "model_name": "ToggleButtonsStyleModel",
      "state": {
       "button_width": "",
       "description_width": ""
      }
     },
     "b6ca782bee7b416ab05bbad8e0002595": {
      "model_module": "@jupyter-widgets/controls",
      "model_module_version": "1.1.0",
      "model_name": "DescriptionStyleModel",
      "state": {
       "description_width": ""
      }
     },
     "b7be33966ed84c308844b092b0c1794b": {
      "model_module": "@jupyter-widgets/controls",
      "model_module_version": "1.1.0",
      "model_name": "LabelModel",
      "state": {
       "layout": "IPY_MODEL_7e75049786dd41599baa59cfbe1fc39b",
       "style": "IPY_MODEL_c678569758de4f529b9236ee5c8403d5",
       "value": "Select which secondary particle to plot spectra for."
      }
     },
     "b7d90552fa1a42b7b0e7aee76ca65e5f": {
      "model_module": "@jupyter-widgets/base",
      "model_module_version": "1.0.0",
      "model_name": "LayoutModel",
      "state": {}
     },
     "b8108655ca854fd99c5f09e3351079e7": {
      "model_module": "@jupyter-widgets/controls",
      "model_module_version": "1.1.0",
      "model_name": "LabelModel",
      "state": {
       "layout": "IPY_MODEL_d5cea0698b5549ff91278b8edbf8403c",
       "style": "IPY_MODEL_94b023f46072463da950114129668831",
       "value": "Select which secondary particle to plot spectra for."
      }
     },
     "b8297bde69954b1fad28c2af975eeb32": {
      "model_module": "@jupyter-widgets/base",
      "model_module_version": "1.0.0",
      "model_name": "LayoutModel",
      "state": {}
     },
     "b8344f383a404edcbad1b84fd6237079": {
      "model_module": "@jupyter-widgets/base",
      "model_module_version": "1.0.0",
      "model_name": "LayoutModel",
      "state": {}
     },
     "b856131f1d914d269eb6add2af93b1da": {
      "model_module": "@jupyter-widgets/controls",
      "model_module_version": "1.1.0",
      "model_name": "CheckboxModel",
      "state": {
       "description": "45°",
       "disabled": false,
       "layout": "IPY_MODEL_056247fa572144639545bed9724d980c",
       "style": "IPY_MODEL_1444a36731094071b713ff974db02236",
       "value": true
      }
     },
     "b88e9620565a40ab941bc49f29829681": {
      "model_module": "@jupyter-widgets/controls",
      "model_module_version": "1.1.0",
      "model_name": "DescriptionStyleModel",
      "state": {
       "description_width": ""
      }
     },
     "b897da7bbb4b482da822f91e6f777254": {
      "model_module": "@jupyter-widgets/base",
      "model_module_version": "1.0.0",
      "model_name": "LayoutModel",
      "state": {}
     },
     "b8c1fc0e080f4c32b4e9b22cf32efc54": {
      "model_module": "@jupyter-widgets/controls",
      "model_module_version": "1.1.0",
      "model_name": "DescriptionStyleModel",
      "state": {
       "description_width": ""
      }
     },
     "b8d668ae50cd4ec0b0e9768bf13ebaee": {
      "model_module": "@jupyter-widgets/base",
      "model_module_version": "1.0.0",
      "model_name": "LayoutModel",
      "state": {}
     },
     "b8dff6def2614a08a4261fa0559edf8f": {
      "model_module": "@jupyter-widgets/base",
      "model_module_version": "1.0.0",
      "model_name": "LayoutModel",
      "state": {}
     },
     "b92f010ba6644ef09f689749aaef6c55": {
      "model_module": "@jupyter-widgets/controls",
      "model_module_version": "1.1.0",
      "model_name": "ToggleButtonsModel",
      "state": {
       "_options_labels": [
        "20 g/cm²",
        "40 g/cm²",
        "60 g/cm²"
       ],
       "button_style": "",
       "description": "Thickness:",
       "icons": [],
       "index": 0,
       "layout": "IPY_MODEL_684604c74c48451cb8d88cce812fa285",
       "style": "IPY_MODEL_a26a19e574a74b3aad7172dac323e62c",
       "tooltips": [
        "20 g/cm² Aluminum",
        "40 g/cm² Aluminum",
        "60 g/cm² Aluminum"
       ]
      }
     },
     "b9316152f11b4e6abb675239c77ba00d": {
      "model_module": "@jupyter-widgets/controls",
      "model_module_version": "1.1.0",
      "model_name": "CheckboxModel",
      "state": {
       "description": "60°",
       "disabled": false,
       "layout": "IPY_MODEL_c247e4d27db645cdbb1e7153192027f9",
       "style": "IPY_MODEL_d4b9f633fd8e436691e847affb28e00e",
       "value": true
      }
     },
     "b949026b8c67487686303947e66a0280": {
      "model_module": "@jupyter-widgets/controls",
      "model_module_version": "1.1.0",
      "model_name": "ToggleButtonsStyleModel",
      "state": {
       "button_width": "",
       "description_width": ""
      }
     },
     "b957fd9211284d609f9603993f986749": {
      "model_module": "@jupyter-widgets/controls",
      "model_module_version": "1.1.0",
      "model_name": "DescriptionStyleModel",
      "state": {
       "description_width": ""
      }
     },
     "b9990a2b49b6435698c983f95dffee98": {
      "model_module": "@jupyter-widgets/controls",
      "model_module_version": "1.1.0",
      "model_name": "CheckboxModel",
      "state": {
       "description": "45°",
       "disabled": false,
       "layout": "IPY_MODEL_c14dc0adba2447e4baf73e910a05fa09",
       "style": "IPY_MODEL_c215f301a28d414e99b205b3675a75b2",
       "value": true
      }
     },
     "b9a295703a434006a11d43612918cd24": {
      "model_module": "@jupyter-widgets/controls",
      "model_module_version": "1.1.0",
      "model_name": "LabelModel",
      "state": {
       "layout": "IPY_MODEL_d1ac398fa03e44a19539a04c4ceeade0",
       "style": "IPY_MODEL_562a8ee6c510478180bbe9768376706b",
       "value": "Select the detector angles to plot."
      }
     },
     "b9dab9d17bf64a35a64df1f99eb71dff": {
      "model_module": "@jupyter-widgets/controls",
      "model_module_version": "1.1.0",
      "model_name": "LabelModel",
      "state": {
       "layout": "IPY_MODEL_1bc61067e7e84ec4893204250a69454a",
       "style": "IPY_MODEL_75b462689dd34b93816d80b241ce3836",
       "value": "Select which secondary particle to plot spectra for."
      }
     },
     "b9fe73a9d00447f5a6611838aa68771a": {
      "model_module": "@jupyter-widgets/base",
      "model_module_version": "1.0.0",
      "model_name": "LayoutModel",
      "state": {}
     },
     "ba5974914274434e849a78b98524392b": {
      "model_module": "@jupyter-widgets/base",
      "model_module_version": "1.0.0",
      "model_name": "LayoutModel",
      "state": {}
     },
     "ba69a78e6aeb4bbea77b34d2f431ded8": {
      "model_module": "@jupyter-widgets/controls",
      "model_module_version": "1.1.0",
      "model_name": "DescriptionStyleModel",
      "state": {
       "description_width": ""
      }
     },
     "ba722835f7ba445792a8f5734717ca5e": {
      "model_module": "@jupyter-widgets/base",
      "model_module_version": "1.0.0",
      "model_name": "LayoutModel",
      "state": {}
     },
     "ba78bc8a1130442f9a4edeca1e7ac020": {
      "model_module": "@jupyter-widgets/controls",
      "model_module_version": "1.1.0",
      "model_name": "CheckboxModel",
      "state": {
       "description": "60°",
       "disabled": false,
       "layout": "IPY_MODEL_38c4777f06d8457d84f1bb3212e9c5a4",
       "style": "IPY_MODEL_2c1a48858de5405496aade8f31332dc4",
       "value": true
      }
     },
     "ba7e0728ba3d417ca8231f82f6648646": {
      "model_module": "@jupyter-widgets/base",
      "model_module_version": "1.0.0",
      "model_name": "LayoutModel",
      "state": {}
     },
     "ba8a10037e434f2aa71abde4f5d250dd": {
      "model_module": "@jupyter-widgets/controls",
      "model_module_version": "1.1.0",
      "model_name": "DescriptionStyleModel",
      "state": {
       "description_width": ""
      }
     },
     "baa9ddbc265546269ba4c9d6de39ae5a": {
      "model_module": "@jupyter-widgets/controls",
      "model_module_version": "1.1.0",
      "model_name": "DescriptionStyleModel",
      "state": {
       "description_width": ""
      }
     },
     "bae7a6f7fe1a4131a2844ed828976a30": {
      "model_module": "@jupyter-widgets/controls",
      "model_module_version": "1.1.0",
      "model_name": "DescriptionStyleModel",
      "state": {
       "description_width": ""
      }
     },
     "baf6d63299f54108a883c23ac2fe5f20": {
      "model_module": "@jupyter-widgets/base",
      "model_module_version": "1.0.0",
      "model_name": "LayoutModel",
      "state": {}
     },
     "bb0ee65ce4894fc79a7cad5d70b7b308": {
      "model_module": "@jupyter-widgets/controls",
      "model_module_version": "1.1.0",
      "model_name": "DescriptionStyleModel",
      "state": {
       "description_width": ""
      }
     },
     "bb2cd9b121534a8290c6451b95d7d29c": {
      "model_module": "@jupyter-widgets/controls",
      "model_module_version": "1.1.0",
      "model_name": "DescriptionStyleModel",
      "state": {
       "description_width": ""
      }
     },
     "bb9f995dec93484fbc27fa706f5fd3f1": {
      "model_module": "@jupyter-widgets/controls",
      "model_module_version": "1.1.0",
      "model_name": "DescriptionStyleModel",
      "state": {
       "description_width": ""
      }
     },
     "bbb5f1f4d7e24b1a81fd951913eb0c43": {
      "model_module": "@jupyter-widgets/base",
      "model_module_version": "1.0.0",
      "model_name": "LayoutModel",
      "state": {}
     },
     "bbfdb7e282fb4cf7a8c4f45ee8f7158b": {
      "model_module": "@jupyter-widgets/base",
      "model_module_version": "1.0.0",
      "model_name": "LayoutModel",
      "state": {}
     },
     "bc51dbf7d6b44cb0861568d60899abdf": {
      "model_module": "@jupyter-widgets/base",
      "model_module_version": "1.0.0",
      "model_name": "LayoutModel",
      "state": {}
     },
     "bc66069ba2424e408276de2b0e664572": {
      "model_module": "@jupyter-widgets/base",
      "model_module_version": "1.0.0",
      "model_name": "LayoutModel",
      "state": {}
     },
     "bcb669779e704f5bbc7005e2a8fe5f34": {
      "model_module": "@jupyter-widgets/controls",
      "model_module_version": "1.1.0",
      "model_name": "DescriptionStyleModel",
      "state": {
       "description_width": ""
      }
     },
     "bd362c07cd334d70bd7f4785fc3d74b8": {
      "model_module": "@jupyter-widgets/controls",
      "model_module_version": "1.1.0",
      "model_name": "LabelModel",
      "state": {
       "layout": "IPY_MODEL_3f65a85a160a4441a7874fdb881d8141",
       "style": "IPY_MODEL_9a782c49ef184e6187246afe41090552",
       "value": "Select projectile ion energy."
      }
     },
     "bd41122844de4aae8b4b30b5db539440": {
      "model_module": "@jupyter-widgets/controls",
      "model_module_version": "1.1.0",
      "model_name": "LabelModel",
      "state": {
       "layout": "IPY_MODEL_16826bc0ce984138840e74701681d5b5",
       "style": "IPY_MODEL_04f6f0b7ec3144c382a4cc7cc0382006",
       "value": "Select which secondary particle to plot spectra for."
      }
     },
     "bd483a3dc18d413ea212d738f4af43c7": {
      "model_module": "@jupyter-widgets/controls",
      "model_module_version": "1.1.0",
      "model_name": "LabelModel",
      "state": {
       "layout": "IPY_MODEL_16f7563b15f24961b00e03182136e5e0",
       "style": "IPY_MODEL_89ba51ac47ff491199111cd3336fdf93",
       "value": "Select projectile ion species and energy."
      }
     },
     "bd5febe9c93d4f3d9f7c0a2de919bdcd": {
      "model_module": "@jupyter-widgets/controls",
      "model_module_version": "1.1.0",
      "model_name": "LabelModel",
      "state": {
       "layout": "IPY_MODEL_7bd7ac599ac74a43b9d70028a1cfbf6b",
       "style": "IPY_MODEL_55e1e3be375a42268d92b16cccceeff0",
       "value": "Select projectile ion energy."
      }
     },
     "bda8a0b7dba3496ba7ce9e542d024565": {
      "model_module": "@jupyter-widgets/base",
      "model_module_version": "1.0.0",
      "model_name": "LayoutModel",
      "state": {}
     },
     "bdbce8b329e84bacadec6d2e96f30b1e": {
      "model_module": "@jupyter-widgets/base",
      "model_module_version": "1.0.0",
      "model_name": "LayoutModel",
      "state": {}
     },
     "bdf78436e9c142c9a60aa393d33ca884": {
      "model_module": "@jupyter-widgets/base",
      "model_module_version": "1.0.0",
      "model_name": "LayoutModel",
      "state": {}
     },
     "be7c1d76834143be9f8d17152e78cf48": {
      "model_module": "@jupyter-widgets/controls",
      "model_module_version": "1.1.0",
      "model_name": "DescriptionStyleModel",
      "state": {
       "description_width": ""
      }
     },
     "be7e7da3f74547e9b6d4c1ebe08afb4a": {
      "model_module": "@jupyter-widgets/base",
      "model_module_version": "1.0.0",
      "model_name": "LayoutModel",
      "state": {}
     },
     "beab15b6f69046b9a9896a6d4c041455": {
      "model_module": "@jupyter-widgets/controls",
      "model_module_version": "1.1.0",
      "model_name": "CheckboxModel",
      "state": {
       "description": "MCNP simulated",
       "disabled": false,
       "layout": "IPY_MODEL_85f344bca2d2496c920f8d78b4cd6a77",
       "style": "IPY_MODEL_3ab5122a8d864d1d9bbb389b35e1ab2d",
       "value": true
      }
     },
     "bec0a54e31b749e9ad4b1152e11a6e85": {
      "model_module": "@jupyter-widgets/base",
      "model_module_version": "1.0.0",
      "model_name": "LayoutModel",
      "state": {}
     },
     "bf33cefc9a6c478fadc7163128193859": {
      "model_module": "@jupyter-widgets/controls",
      "model_module_version": "1.1.0",
      "model_name": "DescriptionStyleModel",
      "state": {
       "description_width": ""
      }
     },
     "bf382fe9a9d94fe6afae769e4d07fb7e": {
      "model_module": "@jupyter-widgets/controls",
      "model_module_version": "1.1.0",
      "model_name": "DescriptionStyleModel",
      "state": {
       "description_width": ""
      }
     },
     "bf3f53a943e7415d8dcc29ce937d5d99": {
      "model_module": "@jupyter-widgets/base",
      "model_module_version": "1.0.0",
      "model_name": "LayoutModel",
      "state": {}
     },
     "bf46a752abcc4d5fbf32245fdf95c4c6": {
      "model_module": "@jupyter-widgets/controls",
      "model_module_version": "1.1.0",
      "model_name": "DescriptionStyleModel",
      "state": {
       "description_width": ""
      }
     },
     "bfa9678962414ce1a91370a38ecd8bea": {
      "model_module": "@jupyter-widgets/controls",
      "model_module_version": "1.1.0",
      "model_name": "CheckboxModel",
      "state": {
       "description": "45°",
       "disabled": false,
       "layout": "IPY_MODEL_72fe73391da34aa7b16dcf466b9d7dcc",
       "style": "IPY_MODEL_84bb49288518474f8493046eb8864d73",
       "value": true
      }
     },
     "bfd6c883ab654524b99c3f030206e901": {
      "model_module": "@jupyter-widgets/base",
      "model_module_version": "1.0.0",
      "model_name": "LayoutModel",
      "state": {}
     },
     "bffadc0fdad34452a4d2a071f33aced7": {
      "model_module": "@jupyter-widgets/controls",
      "model_module_version": "1.1.0",
      "model_name": "CheckboxModel",
      "state": {
       "description": "80°",
       "disabled": false,
       "layout": "IPY_MODEL_53f0713094b941d09069608eb0b7e26c",
       "style": "IPY_MODEL_e10661569efd495da1417ba600cbe9cb",
       "value": true
      }
     },
     "c0022b5007774bf79c4d4b1687aa6774": {
      "model_module": "@jupyter-widgets/controls",
      "model_module_version": "1.1.0",
      "model_name": "CheckboxModel",
      "state": {
       "description": "30°",
       "disabled": false,
       "layout": "IPY_MODEL_fb4e6dcac5164de5891986bbceb3509d",
       "style": "IPY_MODEL_3d95b66ff94d442283299aecf4512049",
       "value": false
      }
     },
     "c01c78719669455786f6a3d7f97a34f2": {
      "model_module": "@jupyter-widgets/controls",
      "model_module_version": "1.1.0",
      "model_name": "ToggleButtonsStyleModel",
      "state": {
       "button_width": "",
       "description_width": ""
      }
     },
     "c028581d290146adb6944ce81d6a8445": {
      "model_module": "@jupyter-widgets/base",
      "model_module_version": "1.0.0",
      "model_name": "LayoutModel",
      "state": {}
     },
     "c0499be5ef594524a3196add15ece8df": {
      "model_module": "@jupyter-widgets/controls",
      "model_module_version": "1.1.0",
      "model_name": "DescriptionStyleModel",
      "state": {
       "description_width": ""
      }
     },
     "c056e640edce4c269d8bbf0f54262eae": {
      "model_module": "@jupyter-widgets/base",
      "model_module_version": "1.0.0",
      "model_name": "LayoutModel",
      "state": {}
     },
     "c0590248ff2b4526bf62006198a16f0e": {
      "model_module": "@jupyter-widgets/base",
      "model_module_version": "1.0.0",
      "model_name": "LayoutModel",
      "state": {}
     },
     "c0771b671595474abd61daef2cdb5433": {
      "model_module": "@jupyter-widgets/base",
      "model_module_version": "1.0.0",
      "model_name": "LayoutModel",
      "state": {}
     },
     "c0f6777710504c2a9dc4db5719a18f44": {
      "model_module": "@jupyter-widgets/controls",
      "model_module_version": "1.1.0",
      "model_name": "LabelModel",
      "state": {
       "layout": "IPY_MODEL_9c3d1a868c3744808e6abb20b62e5b3c",
       "style": "IPY_MODEL_1487e8abab6d47ebb0c49c2e27bd0fc5",
       "value": "Select which secondary particle to plot spectra for."
      }
     },
     "c14dc0adba2447e4baf73e910a05fa09": {
      "model_module": "@jupyter-widgets/base",
      "model_module_version": "1.0.0",
      "model_name": "LayoutModel",
      "state": {}
     },
     "c15c7534a6b2413885d8a67c1a50e638": {
      "model_module": "@jupyter-widgets/base",
      "model_module_version": "1.0.0",
      "model_name": "LayoutModel",
      "state": {}
     },
     "c194486c042d403cbe2d0be71a136b56": {
      "model_module": "@jupyter-widgets/base",
      "model_module_version": "1.0.0",
      "model_name": "LayoutModel",
      "state": {}
     },
     "c1aebeaac9fa4ea282b7974dbfe4b85e": {
      "model_module": "@jupyter-widgets/base",
      "model_module_version": "1.0.0",
      "model_name": "LayoutModel",
      "state": {}
     },
     "c1b4698aaec643bf83f637a29587f2b2": {
      "model_module": "@jupyter-widgets/base",
      "model_module_version": "1.0.0",
      "model_name": "LayoutModel",
      "state": {}
     },
     "c1b9929aef52467a8cb15e30ab6a6022": {
      "model_module": "@jupyter-widgets/controls",
      "model_module_version": "1.1.0",
      "model_name": "ToggleButtonsModel",
      "state": {
       "_options_labels": [
        "N (¹n)",
        "NDC (¹n)",
        "P (¹H)",
        "D (²H)",
        "T (³H)",
        "S (³He)",
        "A (⁴He)"
       ],
       "button_style": "",
       "description": "Type:",
       "icons": [],
       "index": 0,
       "layout": "IPY_MODEL_ba5974914274434e849a78b98524392b",
       "style": "IPY_MODEL_b57b30fb574d4bc390c13d021a91cb9f",
       "tooltips": [
        "Neutron",
        "Back Target Neutron",
        "Proton",
        "Deuteron",
        "Triton",
        "Helium-3",
        "Helium-4"
       ]
      }
     },
     "c1c5f6f054eb47afa07f81d79557c135": {
      "model_module": "@jupyter-widgets/controls",
      "model_module_version": "1.1.0",
      "model_name": "CheckboxModel",
      "state": {
       "description": "80°",
       "disabled": false,
       "layout": "IPY_MODEL_eb377fa66aa746eb968995e2f2ab0fb4",
       "style": "IPY_MODEL_a321347d4d5f4ecb987a829fce03e8c4",
       "value": true
      }
     },
     "c1cd48b836b04ac39da55e011f815606": {
      "model_module": "@jupyter-widgets/controls",
      "model_module_version": "1.1.0",
      "model_name": "CheckboxModel",
      "state": {
       "description": "60°",
       "disabled": false,
       "layout": "IPY_MODEL_d64a6f169766417687bda1456c4afe74",
       "style": "IPY_MODEL_d9522eb135c94484ab8c6f8eead3da76",
       "value": true
      }
     },
     "c1f0fe0e0033488dbc36898ea42ec496": {
      "model_module": "@jupyter-widgets/controls",
      "model_module_version": "1.1.0",
      "model_name": "CheckboxModel",
      "state": {
       "description": "135°",
       "disabled": false,
       "layout": "IPY_MODEL_e4b014e21c154a99a472d17155e7609e",
       "style": "IPY_MODEL_2cbce1b442a14338ac65ea260a0b4912",
       "value": true
      }
     },
     "c1ffa3b527a14f749db3767d28b3376e": {
      "model_module": "@jupyter-widgets/controls",
      "model_module_version": "1.1.0",
      "model_name": "CheckboxModel",
      "state": {
       "description": "135°",
       "disabled": false,
       "layout": "IPY_MODEL_6592682b66da430baa3d52e6c03c9f70",
       "style": "IPY_MODEL_a04b56b70c6047e7b67fb614b236f0a7",
       "value": true
      }
     },
     "c215f301a28d414e99b205b3675a75b2": {
      "model_module": "@jupyter-widgets/controls",
      "model_module_version": "1.1.0",
      "model_name": "DescriptionStyleModel",
      "state": {
       "description_width": ""
      }
     },
     "c228732bfbf743af860c7684138408c2": {
      "model_module": "@jupyter-widgets/controls",
      "model_module_version": "1.1.0",
      "model_name": "CheckboxModel",
      "state": {
       "description": "135°",
       "disabled": false,
       "layout": "IPY_MODEL_f53498484d3e4625ba5faed05d104562",
       "style": "IPY_MODEL_2225873d1fc84b7c8f4477065572bcf8",
       "value": true
      }
     },
     "c247e4d27db645cdbb1e7153192027f9": {
      "model_module": "@jupyter-widgets/base",
      "model_module_version": "1.0.0",
      "model_name": "LayoutModel",
      "state": {}
     },
     "c24a1cfb75f44d6392ee6ea2874d43d0": {
      "model_module": "@jupyter-widgets/base",
      "model_module_version": "1.0.0",
      "model_name": "LayoutModel",
      "state": {}
     },
     "c2605c1cb60749a7b7270bcd75f72b79": {
      "model_module": "@jupyter-widgets/controls",
      "model_module_version": "1.1.0",
      "model_name": "DescriptionStyleModel",
      "state": {
       "description_width": ""
      }
     },
     "c2da93c1248a406e97cdbda52cd4353e": {
      "model_module": "@jupyter-widgets/base",
      "model_module_version": "1.0.0",
      "model_name": "LayoutModel",
      "state": {}
     },
     "c318953cfd4243008e86467387d08b65": {
      "model_module": "@jupyter-widgets/controls",
      "model_module_version": "1.1.0",
      "model_name": "ToggleButtonsModel",
      "state": {
       "_options_labels": [
        "N (¹n)",
        "NDC (¹n)",
        "P (¹H)",
        "D (²H)",
        "T (³H)",
        "S (³He)",
        "A (⁴He)"
       ],
       "button_style": "",
       "description": "Type:",
       "icons": [],
       "index": 0,
       "layout": "IPY_MODEL_0746464c2c8941e88c580ec518a56bda",
       "style": "IPY_MODEL_6534c2495cb84bcebdd805f461b0f732",
       "tooltips": [
        "Neutron",
        "Back Target Neutron",
        "Proton",
        "Deuteron",
        "Triton",
        "Helium-3",
        "Helium-4"
       ]
      }
     },
     "c3400ef1c4144ff0a3d3f80ad347eef2": {
      "model_module": "@jupyter-widgets/controls",
      "model_module_version": "1.1.0",
      "model_name": "CheckboxModel",
      "state": {
       "description": "30°",
       "disabled": false,
       "layout": "IPY_MODEL_dbebba09632b483a9b1a0034cee0d6a2",
       "style": "IPY_MODEL_7fda445d7820403baadc8a73574b6efa",
       "value": false
      }
     },
     "c341e551dd3f44e6b6220a52550cbe89": {
      "model_module": "@jupyter-widgets/controls",
      "model_module_version": "1.1.0",
      "model_name": "DescriptionStyleModel",
      "state": {
       "description_width": ""
      }
     },
     "c364e5d45e4041ecb1b0e2902e992113": {
      "model_module": "@jupyter-widgets/controls",
      "model_module_version": "1.1.0",
      "model_name": "DescriptionStyleModel",
      "state": {
       "description_width": ""
      }
     },
     "c36ab799793746f6bc03bf2334ab97d9": {
      "model_module": "@jupyter-widgets/base",
      "model_module_version": "1.0.0",
      "model_name": "LayoutModel",
      "state": {}
     },
     "c3a04ceeb2e74e89bb7895f0f5657097": {
      "model_module": "@jupyter-widgets/controls",
      "model_module_version": "1.1.0",
      "model_name": "DescriptionStyleModel",
      "state": {
       "description_width": ""
      }
     },
     "c3cab31f4d4f4a858cd9408d120aca09": {
      "model_module": "@jupyter-widgets/base",
      "model_module_version": "1.0.0",
      "model_name": "LayoutModel",
      "state": {}
     },
     "c3ecc9526c494ff2a70d7aeab2d6a81a": {
      "model_module": "@jupyter-widgets/base",
      "model_module_version": "1.0.0",
      "model_name": "LayoutModel",
      "state": {}
     },
     "c3f3fef894c94cb3a2fed42e5d4f1d51": {
      "model_module": "@jupyter-widgets/base",
      "model_module_version": "1.0.0",
      "model_name": "LayoutModel",
      "state": {}
     },
     "c427e3c1ea6549109d108f8a2ff7ce3d": {
      "model_module": "@jupyter-widgets/base",
      "model_module_version": "1.0.0",
      "model_name": "LayoutModel",
      "state": {}
     },
     "c43587bf18fc4df3aa6cd8e0c6462a00": {
      "model_module": "@jupyter-widgets/controls",
      "model_module_version": "1.1.0",
      "model_name": "CheckboxModel",
      "state": {
       "description": "45°",
       "disabled": false,
       "layout": "IPY_MODEL_3b0965cfea5647cda8732d9283755930",
       "style": "IPY_MODEL_708e8d7a766147bbbdf1d488d6ce12fb",
       "value": true
      }
     },
     "c459114639ed4bc5a71cb01a38c3b60d": {
      "model_module": "@jupyter-widgets/controls",
      "model_module_version": "1.1.0",
      "model_name": "DescriptionStyleModel",
      "state": {
       "description_width": ""
      }
     },
     "c467599e69bc488e82d4f38a5ff5f2cb": {
      "model_module": "@jupyter-widgets/controls",
      "model_module_version": "1.1.0",
      "model_name": "CheckboxModel",
      "state": {
       "description": "60°",
       "disabled": false,
       "layout": "IPY_MODEL_221bea030d1f40a2b9b84b5abf1b088f",
       "style": "IPY_MODEL_2a459902ad7c4a8298153c85b011898a",
       "value": true
      }
     },
     "c4a1b29d0fb141bdbb5de598c0f0303c": {
      "model_module": "@jupyter-widgets/controls",
      "model_module_version": "1.1.0",
      "model_name": "DescriptionStyleModel",
      "state": {
       "description_width": ""
      }
     },
     "c4a57c92eebd4810aa0aa71fd8bd643b": {
      "model_module": "@jupyter-widgets/controls",
      "model_module_version": "1.1.0",
      "model_name": "ToggleButtonsModel",
      "state": {
       "_options_labels": [
        "N (¹n)",
        "NDC (¹n)",
        "P (¹H)",
        "D (²H)",
        "T (³H)",
        "S (³He)",
        "A (⁴He)"
       ],
       "button_style": "",
       "description": "Secondary:",
       "icons": [],
       "index": 0,
       "layout": "IPY_MODEL_701d737cb8f8401b810a0390210365f7",
       "style": "IPY_MODEL_6db02d35a9c74e88ba5a58093a39757d",
       "tooltips": [
        "Neutron",
        "Back Target Neutron",
        "Proton",
        "Deuteron",
        "Triton",
        "Helium-3",
        "Helium-4"
       ]
      }
     },
     "c4c4135d776f4acd9de51c55ac838f6e": {
      "model_module": "@jupyter-widgets/base",
      "model_module_version": "1.0.0",
      "model_name": "LayoutModel",
      "state": {}
     },
     "c5319387ee0f448b983f45fd842808da": {
      "model_module": "@jupyter-widgets/controls",
      "model_module_version": "1.1.0",
      "model_name": "DescriptionStyleModel",
      "state": {
       "description_width": ""
      }
     },
     "c54c9d51da38459b8157bb4c4af075a8": {
      "model_module": "@jupyter-widgets/controls",
      "model_module_version": "1.1.0",
      "model_name": "ButtonModel",
      "state": {
       "button_style": "success",
       "description": "Update plot",
       "icon": "paint-brush",
       "layout": "IPY_MODEL_b066e3a83ac34f1a8f7719e1454d5875",
       "style": "IPY_MODEL_dad9cd6404314951aeb9cf470121a8d4",
       "tooltip": "Click to redraw the plot below with updated options from above."
      }
     },
     "c55be318b618401aa49426e531b98d5a": {
      "model_module": "@jupyter-widgets/controls",
      "model_module_version": "1.1.0",
      "model_name": "DescriptionStyleModel",
      "state": {
       "description_width": ""
      }
     },
     "c562ef4f47e44ba4a25a1214067302a6": {
      "model_module": "@jupyter-widgets/controls",
      "model_module_version": "1.1.0",
      "model_name": "ToggleButtonsModel",
      "state": {
       "_options_labels": [
        "N (¹n)",
        "NDC (¹n)",
        "P (¹H)",
        "D (²H)",
        "T (³H)",
        "S (³He)",
        "A (⁴He)"
       ],
       "button_style": "",
       "description": "Type:",
       "icons": [],
       "index": 0,
       "layout": "IPY_MODEL_c1aebeaac9fa4ea282b7974dbfe4b85e",
       "style": "IPY_MODEL_f5ec4bafce8a47389fc36bbf380ff089",
       "tooltips": [
        "Neutron",
        "Back Target Neutron",
        "Proton",
        "Deuteron",
        "Triton",
        "Helium-3",
        "Helium-4"
       ]
      }
     },
     "c56ced0041c94f55aaa3a317d34c1d09": {
      "model_module": "@jupyter-widgets/controls",
      "model_module_version": "1.1.0",
      "model_name": "CheckboxModel",
      "state": {
       "description": "10°",
       "disabled": false,
       "layout": "IPY_MODEL_851d0803bb734f5cb54c8d637c457fd7",
       "style": "IPY_MODEL_652dafb0d07046108b2c23f2fb75432c",
       "value": true
      }
     },
     "c5ba512b65544eac8892c3d40dc607c7": {
      "model_module": "@jupyter-widgets/controls",
      "model_module_version": "1.1.0",
      "model_name": "CheckboxModel",
      "state": {
       "description": "80°",
       "disabled": false,
       "layout": "IPY_MODEL_5d2d2ef1e6f84956a3c03ae6b9da9860",
       "style": "IPY_MODEL_63d86dafd39f4b03988a50402ac33d4c",
       "value": true
      }
     },
     "c5d36e086e9d4cc3b7d1557ef0f7fa5e": {
      "model_module": "@jupyter-widgets/base",
      "model_module_version": "1.0.0",
      "model_name": "LayoutModel",
      "state": {}
     },
     "c6149c9d664341eeb822611421881604": {
      "model_module": "@jupyter-widgets/base",
      "model_module_version": "1.0.0",
      "model_name": "LayoutModel",
      "state": {}
     },
     "c62d708d273e40c981235311559699b9": {
      "model_module": "@jupyter-widgets/controls",
      "model_module_version": "1.1.0",
      "model_name": "DescriptionStyleModel",
      "state": {
       "description_width": ""
      }
     },
     "c65b04ff06e647c3a975ba85789edcdd": {
      "model_module": "@jupyter-widgets/controls",
      "model_module_version": "1.1.0",
      "model_name": "DescriptionStyleModel",
      "state": {
       "description_width": ""
      }
     },
     "c678569758de4f529b9236ee5c8403d5": {
      "model_module": "@jupyter-widgets/controls",
      "model_module_version": "1.1.0",
      "model_name": "DescriptionStyleModel",
      "state": {
       "description_width": ""
      }
     },
     "c6d34a4b256b4c58bd95617ca18f265f": {
      "model_module": "@jupyter-widgets/controls",
      "model_module_version": "1.1.0",
      "model_name": "CheckboxModel",
      "state": {
       "description": "10°",
       "disabled": false,
       "layout": "IPY_MODEL_99b698eb56d747a4b5796dc5533fe444",
       "style": "IPY_MODEL_90182fc3b98247dda06477453d580c02",
       "value": true
      }
     },
     "c6e914b0c98940cfb5bdd881a7c06bf3": {
      "model_module": "@jupyter-widgets/controls",
      "model_module_version": "1.1.0",
      "model_name": "DescriptionStyleModel",
      "state": {
       "description_width": ""
      }
     },
     "c72ecd5963ba4d40907396c95939e1c6": {
      "model_module": "@jupyter-widgets/base",
      "model_module_version": "1.0.0",
      "model_name": "LayoutModel",
      "state": {}
     },
     "c7328194159f4f2d85a4bda0a8139429": {
      "model_module": "@jupyter-widgets/controls",
      "model_module_version": "1.1.0",
      "model_name": "ButtonModel",
      "state": {
       "button_style": "success",
       "description": "Update plot",
       "icon": "paint-brush",
       "layout": "IPY_MODEL_5d45e9bedef14a86a1f78bb791530cec",
       "style": "IPY_MODEL_47696c0e2de54cffb03295fdca3ba4f9",
       "tooltip": "Click to redraw the plot below with updated options from above."
      }
     },
     "c758b050ef9b47c8b35069f92aa067b8": {
      "model_module": "@jupyter-widgets/base",
      "model_module_version": "1.0.0",
      "model_name": "LayoutModel",
      "state": {}
     },
     "c760664bc998443bb84932afb31eaad6": {
      "model_module": "@jupyter-widgets/base",
      "model_module_version": "1.0.0",
      "model_name": "LayoutModel",
      "state": {}
     },
     "c781799eb21a4af9aa79ac3f284d2c6c": {
      "model_module": "@jupyter-widgets/controls",
      "model_module_version": "1.1.0",
      "model_name": "LabelModel",
      "state": {
       "layout": "IPY_MODEL_88cfa02151b34707990f8b6da4262858",
       "style": "IPY_MODEL_d21dcefe518440e3b2bc50573c012adc",
       "value": "Select which secondary particle to plot spectra for."
      }
     },
     "c7c074fc033c4dddb885c5dd94e89828": {
      "model_module": "@jupyter-widgets/controls",
      "model_module_version": "1.1.0",
      "model_name": "LabelModel",
      "state": {
       "layout": "IPY_MODEL_c36ab799793746f6bc03bf2334ab97d9",
       "style": "IPY_MODEL_c459114639ed4bc5a71cb01a38c3b60d",
       "value": "Select which sets of data to display."
      }
     },
     "c7cfcb5d67974ae0ba1f4bc0e90120d3": {
      "model_module": "@jupyter-widgets/base",
      "model_module_version": "1.0.0",
      "model_name": "LayoutModel",
      "state": {}
     },
     "c7efe43aa3db4c0ca7e119d893945ce5": {
      "model_module": "@jupyter-widgets/controls",
      "model_module_version": "1.1.0",
      "model_name": "DescriptionStyleModel",
      "state": {
       "description_width": ""
      }
     },
     "c816ae50e3264d988f545c5092782e7c": {
      "model_module": "@jupyter-widgets/controls",
      "model_module_version": "1.1.0",
      "model_name": "CheckboxModel",
      "state": {
       "description": "28.2°",
       "disabled": false,
       "layout": "IPY_MODEL_6860fc537c664772b30afb7ebfc841f2",
       "style": "IPY_MODEL_381a1152e0f54045a01f73deaa3a0891",
       "value": false
      }
     },
     "c8211cb6300e44fa966325786ab29b71": {
      "model_module": "@jupyter-widgets/controls",
      "model_module_version": "1.1.0",
      "model_name": "DescriptionStyleModel",
      "state": {
       "description_width": ""
      }
     },
     "c8511dd3661343c6858f5476e0b6fc22": {
      "model_module": "@jupyter-widgets/controls",
      "model_module_version": "1.1.0",
      "model_name": "CheckboxModel",
      "state": {
       "description": "45°",
       "disabled": false,
       "layout": "IPY_MODEL_7ece3efc3e354dbfafc81f8f5768649d",
       "style": "IPY_MODEL_3c1f3f08990e48fa8891fc336116f9c7",
       "value": true
      }
     },
     "c8572d550f764f4fa25c8affbd897b36": {
      "model_module": "@jupyter-widgets/controls",
      "model_module_version": "1.1.0",
      "model_name": "ButtonModel",
      "state": {
       "button_style": "success",
       "description": "Update plot",
       "icon": "paint-brush",
       "layout": "IPY_MODEL_aef4391aa0ee4ab78258b8820f439057",
       "style": "IPY_MODEL_1a684b2eadf148cba283c44e38e6ec3c",
       "tooltip": "Click to redraw the plot below with updated options from above."
      }
     },
     "c8ae63bb7c01400db0e6029877fcd041": {
      "model_module": "@jupyter-widgets/controls",
      "model_module_version": "1.1.0",
      "model_name": "DescriptionStyleModel",
      "state": {
       "description_width": ""
      }
     },
     "c9096cce08064afe9a49ae9c2fa7066b": {
      "model_module": "@jupyter-widgets/base",
      "model_module_version": "1.0.0",
      "model_name": "LayoutModel",
      "state": {}
     },
     "c91d206c71514e329592f5b2d7847ce1": {
      "model_module": "@jupyter-widgets/controls",
      "model_module_version": "1.1.0",
      "model_name": "ToggleButtonsModel",
      "state": {
       "_options_labels": [
        "OLS",
        "NaI"
       ],
       "button_style": "",
       "description": "Type:",
       "icons": [],
       "index": 0,
       "layout": "IPY_MODEL_bda8a0b7dba3496ba7ce9e542d024565",
       "style": "IPY_MODEL_5f3628b512394296a21837d4baf0cae3",
       "tooltips": [
        "Organic Liquid Scintillator",
        "Sodium Iodide"
       ]
      }
     },
     "c95e28d6844e45619a4a4d1857fd5165": {
      "model_module": "@jupyter-widgets/controls",
      "model_module_version": "1.1.0",
      "model_name": "DescriptionStyleModel",
      "state": {
       "description_width": ""
      }
     },
     "c9a56b89822e4c4fbe565ecbbd144637": {
      "model_module": "@jupyter-widgets/controls",
      "model_module_version": "1.1.0",
      "model_name": "DescriptionStyleModel",
      "state": {
       "description_width": ""
      }
     },
     "c9cb879e1adc497faaf4f9487356048f": {
      "model_module": "@jupyter-widgets/controls",
      "model_module_version": "1.1.0",
      "model_name": "ToggleButtonsStyleModel",
      "state": {
       "button_width": "",
       "description_width": ""
      }
     },
     "ca085263f9b244b0a4e6d635af9f2787": {
      "model_module": "@jupyter-widgets/controls",
      "model_module_version": "1.1.0",
      "model_name": "CheckboxModel",
      "state": {
       "description": "45°",
       "disabled": false,
       "layout": "IPY_MODEL_3c0a2da75dd243fc8e9cabdd1f16b48c",
       "style": "IPY_MODEL_6e2dd0d385234c758577ccd5cbbbcad0",
       "value": true
      }
     },
     "ca182e3a0f424fc68dfb41f48a7d9b02": {
      "model_module": "@jupyter-widgets/controls",
      "model_module_version": "1.1.0",
      "model_name": "ToggleButtonsModel",
      "state": {
       "_options_labels": [
        "N (¹n)",
        "NDC (¹n)"
       ],
       "button_style": "",
       "description": "Type:",
       "icons": [],
       "index": 0,
       "layout": "IPY_MODEL_5101c32fba2647e7b23b2c007b6a958d",
       "style": "IPY_MODEL_cc98f6ce25ae4f01a2d0186e181a2604",
       "tooltips": [
        "Neutron",
        "Back Target Neutron"
       ]
      }
     },
     "ca45354f50c94677a51e2632ed6da418": {
      "model_module": "@jupyter-widgets/controls",
      "model_module_version": "1.1.0",
      "model_name": "DescriptionStyleModel",
      "state": {
       "description_width": ""
      }
     },
     "ca4e9777b07947ecabbda0ab4c227933": {
      "model_module": "@jupyter-widgets/controls",
      "model_module_version": "1.1.0",
      "model_name": "ToggleButtonsModel",
      "state": {
       "_options_labels": [
        "OLS",
        "NaI"
       ],
       "button_style": "",
       "description": "Type:",
       "icons": [],
       "index": 0,
       "layout": "IPY_MODEL_863893332e2e4a1ea3beeeb0e14183ca",
       "style": "IPY_MODEL_421425277dc24c669526e22b1bd57aa2",
       "tooltips": [
        "Organic Liquid Scintillator",
        "Sodium Iodide"
       ]
      }
     },
     "ca97b7d91b494700a0f9d8dbcdc06288": {
      "model_module": "@jupyter-widgets/controls",
      "model_module_version": "1.1.0",
      "model_name": "CheckboxModel",
      "state": {
       "description": "45°",
       "disabled": false,
       "layout": "IPY_MODEL_3ab053ea2b48422690ce68b194f7ddce",
       "style": "IPY_MODEL_e68d8f144a094788886e98075cc5562e",
       "value": true
      }
     },
     "caa204e113d1449080e1c516dedcc235": {
      "model_module": "@jupyter-widgets/controls",
      "model_module_version": "1.1.0",
      "model_name": "DescriptionStyleModel",
      "state": {
       "description_width": ""
      }
     },
     "cab1869c6d1a4ab0bb065fd99a0140ad": {
      "model_module": "@jupyter-widgets/base",
      "model_module_version": "1.0.0",
      "model_name": "LayoutModel",
      "state": {}
     },
     "cb0a7974a4e34272921826b18fdb2d63": {
      "model_module": "@jupyter-widgets/controls",
      "model_module_version": "1.1.0",
      "model_name": "CheckboxModel",
      "state": {
       "description": "10°",
       "disabled": false,
       "layout": "IPY_MODEL_4b2dacfe18dc47e1a9d89b9d4d0d17ff",
       "style": "IPY_MODEL_6ba8174a3a714bbda95b620867e30c97",
       "value": true
      }
     },
     "cb181dab03d54ddba255fc96e4d2a1cd": {
      "model_module": "@jupyter-widgets/controls",
      "model_module_version": "1.1.0",
      "model_name": "LabelModel",
      "state": {
       "layout": "IPY_MODEL_298021c8e8b04b778ba3e3be8f36f9d6",
       "style": "IPY_MODEL_d9d5d8db352a493f88c715bae758c0a6",
       "value": "Select projectile ion energy."
      }
     },
     "cb570e4a32cf48c1b8b9eb2590302fbc": {
      "model_module": "@jupyter-widgets/controls",
      "model_module_version": "1.1.0",
      "model_name": "DescriptionStyleModel",
      "state": {
       "description_width": ""
      }
     },
     "cc25001962124cd0b19df67981cb178d": {
      "model_module": "@jupyter-widgets/controls",
      "model_module_version": "1.1.0",
      "model_name": "DescriptionStyleModel",
      "state": {
       "description_width": ""
      }
     },
     "cc5a322d499e45ec875485585e0187e8": {
      "model_module": "@jupyter-widgets/base",
      "model_module_version": "1.0.0",
      "model_name": "LayoutModel",
      "state": {}
     },
     "cc65ddbade114d65816325a44dc067e5": {
      "model_module": "@jupyter-widgets/controls",
      "model_module_version": "1.1.0",
      "model_name": "LabelModel",
      "state": {
       "layout": "IPY_MODEL_af0482e6032a4b5c895c578b92a107b1",
       "style": "IPY_MODEL_ef63fe9cf051472285a2119408a5362c",
       "value": "Select the detector angles to plot."
      }
     },
     "cc72e4f4aa744945b46d2989b2c8382b": {
      "model_module": "@jupyter-widgets/base",
      "model_module_version": "1.0.0",
      "model_name": "LayoutModel",
      "state": {}
     },
     "cc8d38e0424c4fb483595feafc62784c": {
      "model_module": "@jupyter-widgets/controls",
      "model_module_version": "1.1.0",
      "model_name": "ToggleButtonsStyleModel",
      "state": {
       "button_width": "",
       "description_width": ""
      }
     },
     "cc98f6ce25ae4f01a2d0186e181a2604": {
      "model_module": "@jupyter-widgets/controls",
      "model_module_version": "1.1.0",
      "model_name": "ToggleButtonsStyleModel",
      "state": {
       "button_width": "",
       "description_width": ""
      }
     },
     "cca342e79c6b4f2abd356205fe68475c": {
      "model_module": "@jupyter-widgets/base",
      "model_module_version": "1.0.0",
      "model_name": "LayoutModel",
      "state": {}
     },
     "cca5dfc34d4d45ccb86da44519b3d350": {
      "model_module": "@jupyter-widgets/controls",
      "model_module_version": "1.1.0",
      "model_name": "LabelModel",
      "state": {
       "layout": "IPY_MODEL_981cdde308eb4481983d9a466e0bac36",
       "style": "IPY_MODEL_a17e5aded5b64ba3a833ad45ea3a34bf",
       "value": "Select the detector angles to plot."
      }
     },
     "ccb28a988e3d4037916318232e82fdc2": {
      "model_module": "@jupyter-widgets/base",
      "model_module_version": "1.0.0",
      "model_name": "LayoutModel",
      "state": {}
     },
     "ccb92fb4f4334ceab4beced3bde87ad2": {
      "model_module": "@jupyter-widgets/controls",
      "model_module_version": "1.1.0",
      "model_name": "DescriptionStyleModel",
      "state": {
       "description_width": ""
      }
     },
     "ccc22dfa892845448f1f0d935789a00c": {
      "model_module": "@jupyter-widgets/controls",
      "model_module_version": "1.1.0",
      "model_name": "CheckboxModel",
      "state": {
       "description": "30°",
       "disabled": false,
       "layout": "IPY_MODEL_72e9a796ad4b465882749d9c1f88720d",
       "style": "IPY_MODEL_f4d47f670d944ed8aaa908b07c2eafa3",
       "value": true
      }
     },
     "cce19528bb244a56bb26001c0f9ab56b": {
      "model_module": "@jupyter-widgets/controls",
      "model_module_version": "1.1.0",
      "model_name": "LabelModel",
      "state": {
       "layout": "IPY_MODEL_7266346fb06e49e89e893c7ad7383d17",
       "style": "IPY_MODEL_752f436956fe47a4adbe7186aead7787",
       "value": "Select a detector type."
      }
     },
     "cd07564de7c04f08bf0f8be801547399": {
      "model_module": "@jupyter-widgets/controls",
      "model_module_version": "1.1.0",
      "model_name": "DescriptionStyleModel",
      "state": {
       "description_width": ""
      }
     },
     "cdbb0ba078c340cf92d6e7d7f2d48a90": {
      "model_module": "@jupyter-widgets/base",
      "model_module_version": "1.0.0",
      "model_name": "LayoutModel",
      "state": {}
     },
     "cdfea99b01064148b8409bc2880ccaac": {
      "model_module": "@jupyter-widgets/controls",
      "model_module_version": "1.1.0",
      "model_name": "CheckboxModel",
      "state": {
       "description": "135°",
       "disabled": false,
       "layout": "IPY_MODEL_a2bdbe1494814ef3a232b1d38c24af35",
       "style": "IPY_MODEL_5334baa65f5a442abe5e6394834ac8d0",
       "value": true
      }
     },
     "ce1ca5fc584746ed8a4fe751652309bd": {
      "model_module": "@jupyter-widgets/controls",
      "model_module_version": "1.1.0",
      "model_name": "DescriptionStyleModel",
      "state": {
       "description_width": ""
      }
     },
     "ce360aefa9294facabe1ee60bc0862de": {
      "model_module": "@jupyter-widgets/base",
      "model_module_version": "1.0.0",
      "model_name": "LayoutModel",
      "state": {}
     },
     "ce52ac3d56b948a78c6987a176d06f62": {
      "model_module": "@jupyter-widgets/controls",
      "model_module_version": "1.1.0",
      "model_name": "ToggleButtonsStyleModel",
      "state": {
       "button_width": "",
       "description_width": ""
      }
     },
     "ce59fc8fef4245e2920d77de606af00b": {
      "model_module": "@jupyter-widgets/controls",
      "model_module_version": "1.1.0",
      "model_name": "CheckboxModel",
      "state": {
       "description": "45°",
       "disabled": false,
       "layout": "IPY_MODEL_67c7ff1eaa964102bb237a7e61175365",
       "style": "IPY_MODEL_d0c61a6afc2348c698021a04935529b0",
       "value": true
      }
     },
     "ceb39673d4414fd298cd7f6f4aec66f0": {
      "model_module": "@jupyter-widgets/controls",
      "model_module_version": "1.1.0",
      "model_name": "DescriptionStyleModel",
      "state": {
       "description_width": ""
      }
     },
     "cf507ac9b5704ecda923c74581b54fa9": {
      "model_module": "@jupyter-widgets/base",
      "model_module_version": "1.0.0",
      "model_name": "LayoutModel",
      "state": {}
     },
     "cf5108288c424c15bfd42102e6b2c791": {
      "model_module": "@jupyter-widgets/controls",
      "model_module_version": "1.1.0",
      "model_name": "ToggleButtonsModel",
      "state": {
       "_options_labels": [
        "400 MeV/n",
        "800 MeV/n",
        "1500 MeV/n"
       ],
       "button_style": "",
       "description": "Energy:",
       "icons": [],
       "index": 0,
       "layout": "IPY_MODEL_16645c168df54931bd863473f3de34b4",
       "style": "IPY_MODEL_ce52ac3d56b948a78c6987a176d06f62",
       "tooltips": [
        "lowest energy",
        "middle energy",
        "highest energy"
       ]
      }
     },
     "cf71b31f4cc440f89857fc5385661b21": {
      "model_module": "@jupyter-widgets/base",
      "model_module_version": "1.0.0",
      "model_name": "LayoutModel",
      "state": {}
     },
     "cf8555f94a5a495ea3b65f53dda0e5e0": {
      "model_module": "@jupyter-widgets/controls",
      "model_module_version": "1.1.0",
      "model_name": "DescriptionStyleModel",
      "state": {
       "description_width": ""
      }
     },
     "cfd89952bf0f4bc58f55bb5e034a9751": {
      "model_module": "@jupyter-widgets/controls",
      "model_module_version": "1.1.0",
      "model_name": "DescriptionStyleModel",
      "state": {
       "description_width": ""
      }
     },
     "d03745aebfca42919e9524eda50fc4da": {
      "model_module": "@jupyter-widgets/controls",
      "model_module_version": "1.1.0",
      "model_name": "CheckboxModel",
      "state": {
       "description": "7.2°",
       "disabled": false,
       "layout": "IPY_MODEL_7df21e8d5f964ee6940895fc16107d6f",
       "style": "IPY_MODEL_1e0c3eaa0d044be580b73c12fea09940",
       "value": true
      }
     },
     "d06b4dfdfe6649a2ab46d63a4d205844": {
      "model_module": "@jupyter-widgets/controls",
      "model_module_version": "1.1.0",
      "model_name": "CheckboxModel",
      "state": {
       "description": "10°",
       "disabled": false,
       "layout": "IPY_MODEL_460c05ff88a1487bbc9076500df65cf9",
       "style": "IPY_MODEL_30a95d8f1e9243a7b1ba9dabdd13c516",
       "value": true
      }
     },
     "d0712f64deb44255bae5800bafb719c0": {
      "model_module": "@jupyter-widgets/base",
      "model_module_version": "1.0.0",
      "model_name": "LayoutModel",
      "state": {}
     },
     "d09da5f86ec0486cb0fbeaad7d0b924a": {
      "model_module": "@jupyter-widgets/controls",
      "model_module_version": "1.1.0",
      "model_name": "DescriptionStyleModel",
      "state": {
       "description_width": ""
      }
     },
     "d0b49198d9184be0be9fa847b872bf6a": {
      "model_module": "@jupyter-widgets/controls",
      "model_module_version": "1.1.0",
      "model_name": "CheckboxModel",
      "state": {
       "description": "32.7°",
       "disabled": false,
       "layout": "IPY_MODEL_eb4ab7313de148e7975c3fd05921afd6",
       "style": "IPY_MODEL_2a4f94f6fc7342c99b7ed5068f1975d8",
       "value": false
      }
     },
     "d0c61a6afc2348c698021a04935529b0": {
      "model_module": "@jupyter-widgets/controls",
      "model_module_version": "1.1.0",
      "model_name": "DescriptionStyleModel",
      "state": {
       "description_width": ""
      }
     },
     "d0e0b39e16a8469d991ae26667382082": {
      "model_module": "@jupyter-widgets/controls",
      "model_module_version": "1.1.0",
      "model_name": "LabelModel",
      "state": {
       "layout": "IPY_MODEL_21c98fa0b913448fa02f309f8618c074",
       "style": "IPY_MODEL_77df7263787a480793999b2d1bfbd4c8",
       "value": "Select the detector angles to plot."
      }
     },
     "d0e1fef06d624578ae9bcc6a340862b2": {
      "model_module": "@jupyter-widgets/controls",
      "model_module_version": "1.1.0",
      "model_name": "CheckboxModel",
      "state": {
       "description": "MCNP simulated",
       "disabled": false,
       "layout": "IPY_MODEL_f10bfd995f7d431d8b378fcd07b5c54e",
       "style": "IPY_MODEL_c4a1b29d0fb141bdbb5de598c0f0303c",
       "value": true
      }
     },
     "d10246cf9dd74b78a37796d6c119979c": {
      "model_module": "@jupyter-widgets/controls",
      "model_module_version": "1.1.0",
      "model_name": "DescriptionStyleModel",
      "state": {
       "description_width": ""
      }
     },
     "d10acb0e71b24bb2b589371ee184085a": {
      "model_module": "@jupyter-widgets/base",
      "model_module_version": "1.0.0",
      "model_name": "LayoutModel",
      "state": {}
     },
     "d11cbd2368a4449d85a3884279d92917": {
      "model_module": "@jupyter-widgets/controls",
      "model_module_version": "1.1.0",
      "model_name": "LabelModel",
      "state": {
       "layout": "IPY_MODEL_0405d139d80c4d2fb48d2bc080b29133",
       "style": "IPY_MODEL_ae00635134a94eb785d52a4eb527ed7a",
       "value": "Select projectile ion energy."
      }
     },
     "d12d91af368c443586afb28670757a6d": {
      "model_module": "@jupyter-widgets/controls",
      "model_module_version": "1.1.0",
      "model_name": "LabelModel",
      "state": {
       "layout": "IPY_MODEL_77325e05ad2b433c87a9d5728f7d5981",
       "style": "IPY_MODEL_f063c43e128244e0b1ce21cf847b324b",
       "value": "Select which secondary particle to plot spectra for."
      }
     },
     "d1331ffa41c94abdacbc2ece91c03a7e": {
      "model_module": "@jupyter-widgets/base",
      "model_module_version": "1.0.0",
      "model_name": "LayoutModel",
      "state": {}
     },
     "d141f9622d7a4604a2f6c62bfabf5669": {
      "model_module": "@jupyter-widgets/base",
      "model_module_version": "1.0.0",
      "model_name": "LayoutModel",
      "state": {}
     },
     "d1ac398fa03e44a19539a04c4ceeade0": {
      "model_module": "@jupyter-widgets/base",
      "model_module_version": "1.0.0",
      "model_name": "LayoutModel",
      "state": {}
     },
     "d21dcefe518440e3b2bc50573c012adc": {
      "model_module": "@jupyter-widgets/controls",
      "model_module_version": "1.1.0",
      "model_name": "DescriptionStyleModel",
      "state": {
       "description_width": ""
      }
     },
     "d25f491b0e884a14a2edd32657745a70": {
      "model_module": "@jupyter-widgets/controls",
      "model_module_version": "1.1.0",
      "model_name": "DescriptionStyleModel",
      "state": {
       "description_width": ""
      }
     },
     "d2d4748d7e4a474f915d0d74bdbdd997": {
      "model_module": "@jupyter-widgets/base",
      "model_module_version": "1.0.0",
      "model_name": "LayoutModel",
      "state": {}
     },
     "d31cfd5f4c5f4ce290a396164e3ede08": {
      "model_module": "@jupyter-widgets/controls",
      "model_module_version": "1.1.0",
      "model_name": "DescriptionStyleModel",
      "state": {
       "description_width": ""
      }
     },
     "d356f5cd30dd499481e6418c369bd94c": {
      "model_module": "@jupyter-widgets/controls",
      "model_module_version": "1.1.0",
      "model_name": "DescriptionStyleModel",
      "state": {
       "description_width": ""
      }
     },
     "d35e5f77b41c4814bb56e1036ae4fbfe": {
      "model_module": "@jupyter-widgets/controls",
      "model_module_version": "1.1.0",
      "model_name": "CheckboxModel",
      "state": {
       "description": "80°",
       "disabled": false,
       "layout": "IPY_MODEL_6dc1d2dba536489e85ba12120a94c707",
       "style": "IPY_MODEL_a369064e5b44428d8172adba0d439f70",
       "value": true
      }
     },
     "d36a66cbb06a49fc8b0bd0d5f5fbd66b": {
      "model_module": "@jupyter-widgets/controls",
      "model_module_version": "1.1.0",
      "model_name": "LabelModel",
      "state": {
       "layout": "IPY_MODEL_5e3355da7b9848ccac220d67e4854e00",
       "style": "IPY_MODEL_87e9155972b8434b99ed4584a1a99d02",
       "value": "Select projectile ion energy."
      }
     },
     "d37cc067f1304cf2bc31222f899ce506": {
      "model_module": "@jupyter-widgets/base",
      "model_module_version": "1.0.0",
      "model_name": "LayoutModel",
      "state": {}
     },
     "d380f760dcf04c08bc4b7e227caf8416": {
      "model_module": "@jupyter-widgets/base",
      "model_module_version": "1.0.0",
      "model_name": "LayoutModel",
      "state": {}
     },
     "d3c2d5b482364a8388e43e20541a6253": {
      "model_module": "@jupyter-widgets/controls",
      "model_module_version": "1.1.0",
      "model_name": "DescriptionStyleModel",
      "state": {
       "description_width": ""
      }
     },
     "d43db88bfe454f5cba401e106d89ffff": {
      "model_module": "@jupyter-widgets/controls",
      "model_module_version": "1.1.0",
      "model_name": "ToggleButtonsModel",
      "state": {
       "_options_labels": [
        "400 MeV",
        "800 MeV",
        "2500 MeV"
       ],
       "button_style": "",
       "description": "Energy:",
       "icons": [],
       "index": 0,
       "layout": "IPY_MODEL_c72ecd5963ba4d40907396c95939e1c6",
       "style": "IPY_MODEL_818e25e4cb0b4fec929f25ceebdb701b",
       "tooltips": [
        "lowest energy",
        "middle energy",
        "highest energy"
       ]
      }
     },
     "d46fa8a32302462a999d0a7f559585a5": {
      "model_module": "@jupyter-widgets/controls",
      "model_module_version": "1.1.0",
      "model_name": "ToggleButtonsModel",
      "state": {
       "_options_labels": [
        "N (¹n)",
        "NDC (¹n)",
        "P (¹H)",
        "D (²H)",
        "T (³H)",
        "S (³He)",
        "A (⁴He)"
       ],
       "button_style": "",
       "description": "Type:",
       "icons": [],
       "index": 0,
       "layout": "IPY_MODEL_c6149c9d664341eeb822611421881604",
       "style": "IPY_MODEL_aa131432c11c43cd9c947c59d810af25",
       "tooltips": [
        "Neutron",
        "Back Target Neutron",
        "Proton",
        "Deuteron",
        "Triton",
        "Helium-3",
        "Helium-4"
       ]
      }
     },
     "d47e2aa139ec4bc48fe1cd293fbfea06": {
      "model_module": "@jupyter-widgets/controls",
      "model_module_version": "1.1.0",
      "model_name": "DescriptionStyleModel",
      "state": {
       "description_width": ""
      }
     },
     "d48a7a058fb447fab5d67609ac3ff4e6": {
      "model_module": "@jupyter-widgets/controls",
      "model_module_version": "1.1.0",
      "model_name": "DescriptionStyleModel",
      "state": {
       "description_width": ""
      }
     },
     "d4acb5713705428ab1aceb1e8772a660": {
      "model_module": "@jupyter-widgets/controls",
      "model_module_version": "1.1.0",
      "model_name": "LabelModel",
      "state": {
       "layout": "IPY_MODEL_74ea0dc61073468e9e0226a6ea33f180",
       "style": "IPY_MODEL_fb46bc84044a4051b90c55b7d4fbb1ab",
       "value": "Select the detector angles to plot."
      }
     },
     "d4b9f633fd8e436691e847affb28e00e": {
      "model_module": "@jupyter-widgets/controls",
      "model_module_version": "1.1.0",
      "model_name": "DescriptionStyleModel",
      "state": {
       "description_width": ""
      }
     },
     "d505af3d2b874d91afabc23a4681c26c": {
      "model_module": "@jupyter-widgets/controls",
      "model_module_version": "1.1.0",
      "model_name": "DescriptionStyleModel",
      "state": {
       "description_width": ""
      }
     },
     "d529fa62e7e94894b3d5a2100c861933": {
      "model_module": "@jupyter-widgets/controls",
      "model_module_version": "1.1.0",
      "model_name": "ToggleButtonsStyleModel",
      "state": {
       "button_width": "",
       "description_width": ""
      }
     },
     "d54378043d464adeb0c417cdf20b4616": {
      "model_module": "@jupyter-widgets/controls",
      "model_module_version": "1.1.0",
      "model_name": "DescriptionStyleModel",
      "state": {
       "description_width": ""
      }
     },
     "d54854d800e84617aacf520cbd7df79d": {
      "model_module": "@jupyter-widgets/base",
      "model_module_version": "1.0.0",
      "model_name": "LayoutModel",
      "state": {}
     },
     "d552c1b61ca04e5a85526db6807b5d18": {
      "model_module": "@jupyter-widgets/controls",
      "model_module_version": "1.1.0",
      "model_name": "ToggleButtonsStyleModel",
      "state": {
       "button_width": "",
       "description_width": ""
      }
     },
     "d5740c9c717f42e7b4dfa1b1d430d732": {
      "model_module": "@jupyter-widgets/controls",
      "model_module_version": "1.1.0",
      "model_name": "CheckboxModel",
      "state": {
       "description": "60°",
       "disabled": false,
       "layout": "IPY_MODEL_e8b835b886ea4c968b92fde00e855c21",
       "style": "IPY_MODEL_7a7ba5dbc4044b0fa55b390b45f1c3b3",
       "value": true
      }
     },
     "d5a9329f81924f0ea96d106012f994ab": {
      "model_module": "@jupyter-widgets/controls",
      "model_module_version": "1.1.0",
      "model_name": "CheckboxModel",
      "state": {
       "description": "45°",
       "disabled": false,
       "layout": "IPY_MODEL_53519e7ebbf249e681459daa23be4e3f",
       "style": "IPY_MODEL_95fa7347cc184ca68dc4e17717d1ea43",
       "value": true
      }
     },
     "d5cea0698b5549ff91278b8edbf8403c": {
      "model_module": "@jupyter-widgets/base",
      "model_module_version": "1.0.0",
      "model_name": "LayoutModel",
      "state": {}
     },
     "d62ab8f41abe47f8859a1ed9e30b93eb": {
      "model_module": "@jupyter-widgets/controls",
      "model_module_version": "1.1.0",
      "model_name": "ToggleButtonsModel",
      "state": {
       "_options_labels": [
        "N (¹n)",
        "NDC (¹n)",
        "P (¹H)",
        "D (²H)"
       ],
       "button_style": "",
       "description": "Type:",
       "icons": [],
       "index": 0,
       "layout": "IPY_MODEL_54056f40661c4f7b81a0a27fb1dd94fd",
       "style": "IPY_MODEL_aa576a24ff1e4532a1ab8eb9fca802c4",
       "tooltips": [
        "Neutron",
        "Back Target Neutron",
        "Proton",
        "Deuteron"
       ]
      }
     },
     "d64a6f169766417687bda1456c4afe74": {
      "model_module": "@jupyter-widgets/base",
      "model_module_version": "1.0.0",
      "model_name": "LayoutModel",
      "state": {}
     },
     "d656614de7e54e42afa5eab1410a0eca": {
      "model_module": "@jupyter-widgets/base",
      "model_module_version": "1.0.0",
      "model_name": "LayoutModel",
      "state": {}
     },
     "d6a7cc457e3742c183d9af3d1a0aacbd": {
      "model_module": "@jupyter-widgets/base",
      "model_module_version": "1.0.0",
      "model_name": "LayoutModel",
      "state": {}
     },
     "d6d089e56ca14104aa87d92b54c8c5fd": {
      "model_module": "@jupyter-widgets/controls",
      "model_module_version": "1.1.0",
      "model_name": "CheckboxModel",
      "state": {
       "description": "30°",
       "disabled": false,
       "layout": "IPY_MODEL_8b392c0326854e5f93df8f993af5595f",
       "style": "IPY_MODEL_d10246cf9dd74b78a37796d6c119979c",
       "value": true
      }
     },
     "d6d67849279d4eec8fe5b047ef4db595": {
      "model_module": "@jupyter-widgets/controls",
      "model_module_version": "1.1.0",
      "model_name": "DescriptionStyleModel",
      "state": {
       "description_width": ""
      }
     },
     "d6eda2496fac475caf2e51fbacd7e9e4": {
      "model_module": "@jupyter-widgets/controls",
      "model_module_version": "1.1.0",
      "model_name": "CheckboxModel",
      "state": {
       "description": "12.7°",
       "disabled": false,
       "layout": "IPY_MODEL_75c02e8a80754bd2b432497f85d747be",
       "style": "IPY_MODEL_08a9fee61c6045c59bcc75c4bd20081c",
       "value": false
      }
     },
     "d7301efcfaf240e7a25f464811b3aaee": {
      "model_module": "@jupyter-widgets/base",
      "model_module_version": "1.0.0",
      "model_name": "LayoutModel",
      "state": {}
     },
     "d7728d7f18734d9985528ec5cc7e6bb9": {
      "model_module": "@jupyter-widgets/controls",
      "model_module_version": "1.1.0",
      "model_name": "DescriptionStyleModel",
      "state": {
       "description_width": ""
      }
     },
     "d787a6af00114089a18df01cc6832c33": {
      "model_module": "@jupyter-widgets/base",
      "model_module_version": "1.0.0",
      "model_name": "LayoutModel",
      "state": {}
     },
     "d7959efa2c654e6baf4d5e7d1100d24d": {
      "model_module": "@jupyter-widgets/controls",
      "model_module_version": "1.1.0",
      "model_name": "ToggleButtonsModel",
      "state": {
       "_options_labels": [
        "20 g/cm²",
        "40 g/cm²",
        "60 g/cm²"
       ],
       "button_style": "",
       "description": "Thickness:",
       "icons": [],
       "index": 1,
       "layout": "IPY_MODEL_8343888407d44945ae56701f2e2d6087",
       "style": "IPY_MODEL_9a0974ca170a48b6b4a0fcc84a2a35a4",
       "tooltips": [
        "20 g/cm² Aluminum",
        "40 g/cm² Aluminum",
        "60 g/cm² Aluminum"
       ]
      }
     },
     "d7c36f5ed1e24294ba35b69cf424710d": {
      "model_module": "@jupyter-widgets/controls",
      "model_module_version": "1.1.0",
      "model_name": "CheckboxModel",
      "state": {
       "description": "60°",
       "disabled": false,
       "layout": "IPY_MODEL_619eb7b1a8ab4a82a15314965e6fe9a2",
       "style": "IPY_MODEL_e325c6be398a42c2b945c5be78fb0c06",
       "value": true
      }
     },
     "d7c97b1ab1a3442b8d330c7f2321e3d2": {
      "model_module": "@jupyter-widgets/controls",
      "model_module_version": "1.1.0",
      "model_name": "CheckboxModel",
      "state": {
       "description": "30°",
       "disabled": false,
       "layout": "IPY_MODEL_fa831ea3f4b347af83e3d34696ccf9ba",
       "style": "IPY_MODEL_d7f5b22bf97648fc983661711776f422",
       "value": true
      }
     },
     "d7d04417ef3a4532976d037d0a51da0c": {
      "model_module": "@jupyter-widgets/base",
      "model_module_version": "1.0.0",
      "model_name": "LayoutModel",
      "state": {}
     },
     "d7e0e5a003b4402f8fbab141e943e4c4": {
      "model_module": "@jupyter-widgets/controls",
      "model_module_version": "1.1.0",
      "model_name": "DescriptionStyleModel",
      "state": {
       "description_width": ""
      }
     },
     "d7f5b22bf97648fc983661711776f422": {
      "model_module": "@jupyter-widgets/controls",
      "model_module_version": "1.1.0",
      "model_name": "DescriptionStyleModel",
      "state": {
       "description_width": ""
      }
     },
     "d8795ba803974c8c92ae1d6df80faf43": {
      "model_module": "@jupyter-widgets/controls",
      "model_module_version": "1.1.0",
      "model_name": "DescriptionStyleModel",
      "state": {
       "description_width": ""
      }
     },
     "d87a5ba2965a4af2a2608a1a3332edb6": {
      "model_module": "@jupyter-widgets/controls",
      "model_module_version": "1.1.0",
      "model_name": "LabelModel",
      "state": {
       "layout": "IPY_MODEL_e7ecb71a6c3a41c7a7e8bd0ae54eff62",
       "style": "IPY_MODEL_9c0fbf4338534d459b3867084725c7ec",
       "value": "Select the detector angles to plot."
      }
     },
     "d89d57eeb9ee413baad1cb61dc3a999b": {
      "model_module": "@jupyter-widgets/base",
      "model_module_version": "1.0.0",
      "model_name": "LayoutModel",
      "state": {}
     },
     "d8ce672d8dbd42eda9a634d6c3226882": {
      "model_module": "@jupyter-widgets/controls",
      "model_module_version": "1.1.0",
      "model_name": "ToggleButtonsModel",
      "state": {
       "_options_labels": [
        "OLS",
        "NaI"
       ],
       "button_style": "",
       "description": "Type:",
       "icons": [],
       "index": 0,
       "layout": "IPY_MODEL_e48a0655d50b42b683d86c150a6e7824",
       "style": "IPY_MODEL_fa868bfc1e314c0ebe3116aa8acc6ef2",
       "tooltips": [
        "Organic Liquid Scintillator",
        "Sodium Iodide"
       ]
      }
     },
     "d8cf82f7923240cb886a4c0be92a65b1": {
      "model_module": "@jupyter-widgets/controls",
      "model_module_version": "1.1.0",
      "model_name": "LabelModel",
      "state": {
       "layout": "IPY_MODEL_80283625d8bf4c69b8c889786437052f",
       "style": "IPY_MODEL_074cb167ae664aa1a749896d67cfd459",
       "value": "Select the detector angles to plot."
      }
     },
     "d8e79c82101d4d939d3b239c270edb50": {
      "model_module": "@jupyter-widgets/controls",
      "model_module_version": "1.1.0",
      "model_name": "DescriptionStyleModel",
      "state": {
       "description_width": ""
      }
     },
     "d8f2b0c985bc447299b6419e1ceb7075": {
      "model_module": "@jupyter-widgets/base",
      "model_module_version": "1.0.0",
      "model_name": "LayoutModel",
      "state": {}
     },
     "d9522eb135c94484ab8c6f8eead3da76": {
      "model_module": "@jupyter-widgets/controls",
      "model_module_version": "1.1.0",
      "model_name": "DescriptionStyleModel",
      "state": {
       "description_width": ""
      }
     },
     "d99aff9ae3da4c99b9fc05e9620edc89": {
      "model_module": "@jupyter-widgets/base",
      "model_module_version": "1.0.0",
      "model_name": "LayoutModel",
      "state": {}
     },
     "d9b6254a1030432bbedb4417d10e52ec": {
      "model_module": "@jupyter-widgets/controls",
      "model_module_version": "1.1.0",
      "model_name": "ToggleButtonsModel",
      "state": {
       "_options_labels": [
        "None",
        "Spaced by 10²"
       ],
       "button_style": "",
       "description": "Spacing:",
       "icons": [],
       "index": 0,
       "layout": "IPY_MODEL_1719a77f518142a39ecc0dced8ab027f",
       "style": "IPY_MODEL_b949026b8c67487686303947e66a0280",
       "tooltips": [
        "All values are presented as is.",
        "Plots for different detectors are multiplied by powers of 10² for easier viewing."
       ]
      }
     },
     "d9cc632b94b840ef8142b19040133b67": {
      "model_module": "@jupyter-widgets/base",
      "model_module_version": "1.0.0",
      "model_name": "LayoutModel",
      "state": {}
     },
     "d9d5d8db352a493f88c715bae758c0a6": {
      "model_module": "@jupyter-widgets/controls",
      "model_module_version": "1.1.0",
      "model_name": "DescriptionStyleModel",
      "state": {
       "description_width": ""
      }
     },
     "da1ae399ff994bd6917366e2a1af5b33": {
      "model_module": "@jupyter-widgets/base",
      "model_module_version": "1.0.0",
      "model_name": "LayoutModel",
      "state": {}
     },
     "daa1eb14b20f48a5a9aba4450376ed13": {
      "model_module": "@jupyter-widgets/base",
      "model_module_version": "1.0.0",
      "model_name": "LayoutModel",
      "state": {}
     },
     "dacecf3f41d744dca9a326df46e03dc7": {
      "model_module": "@jupyter-widgets/base",
      "model_module_version": "1.0.0",
      "model_name": "LayoutModel",
      "state": {}
     },
     "dad9cd6404314951aeb9cf470121a8d4": {
      "model_module": "@jupyter-widgets/controls",
      "model_module_version": "1.1.0",
      "model_name": "ButtonStyleModel",
      "state": {}
     },
     "db12b09ac5ee42478514531637af188e": {
      "model_module": "@jupyter-widgets/controls",
      "model_module_version": "1.1.0",
      "model_name": "CheckboxModel",
      "state": {
       "description": "45°",
       "disabled": false,
       "layout": "IPY_MODEL_3cd124f1e9e744878abd76ecc1d9d390",
       "style": "IPY_MODEL_dff6c18cf37c44c2bd38a2be79fedc22",
       "value": true
      }
     },
     "db23ea9742d24a9eb53dca9df0670822": {
      "model_module": "@jupyter-widgets/base",
      "model_module_version": "1.0.0",
      "model_name": "LayoutModel",
      "state": {}
     },
     "db2556a40a264b19be782f90ab5a18ba": {
      "model_module": "@jupyter-widgets/controls",
      "model_module_version": "1.1.0",
      "model_name": "CheckboxModel",
      "state": {
       "description": "10°",
       "disabled": false,
       "layout": "IPY_MODEL_25d96007033c46ebaa20fafb1a8eedb6",
       "style": "IPY_MODEL_c95e28d6844e45619a4a4d1857fd5165",
       "value": true
      }
     },
     "db5db616c7af47308fb873261c5e5e7b": {
      "model_module": "@jupyter-widgets/controls",
      "model_module_version": "1.1.0",
      "model_name": "ToggleButtonsStyleModel",
      "state": {
       "button_width": "",
       "description_width": ""
      }
     },
     "dbebba09632b483a9b1a0034cee0d6a2": {
      "model_module": "@jupyter-widgets/base",
      "model_module_version": "1.0.0",
      "model_name": "LayoutModel",
      "state": {}
     },
     "dc1b2f7af7544418b6a168a31f72d912": {
      "model_module": "@jupyter-widgets/controls",
      "model_module_version": "1.1.0",
      "model_name": "CheckboxModel",
      "state": {
       "description": "MCNP simulated",
       "disabled": false,
       "layout": "IPY_MODEL_d8f2b0c985bc447299b6419e1ceb7075",
       "style": "IPY_MODEL_cd07564de7c04f08bf0f8be801547399",
       "value": true
      }
     },
     "dc2fd02629da40079836a46a6d085d52": {
      "model_module": "@jupyter-widgets/controls",
      "model_module_version": "1.1.0",
      "model_name": "DescriptionStyleModel",
      "state": {
       "description_width": ""
      }
     },
     "dc4083201fbe4d7b947a7e16b3ea3e09": {
      "model_module": "@jupyter-widgets/controls",
      "model_module_version": "1.1.0",
      "model_name": "LabelModel",
      "state": {
       "layout": "IPY_MODEL_e535cc5b301040faa3ea82d0ab3d6376",
       "style": "IPY_MODEL_c7efe43aa3db4c0ca7e119d893945ce5",
       "value": "Select how data sets for each detector should be spaced apart (if at all)."
      }
     },
     "dc545899afba40ea8c875493c461fd48": {
      "model_module": "@jupyter-widgets/base",
      "model_module_version": "1.0.0",
      "model_name": "LayoutModel",
      "state": {}
     },
     "dc6d91722d5c44ff8bff9b0db1e2cff7": {
      "model_module": "@jupyter-widgets/controls",
      "model_module_version": "1.1.0",
      "model_name": "DescriptionStyleModel",
      "state": {
       "description_width": ""
      }
     },
     "dcac55fa47134e5a80e306325f646db6": {
      "model_module": "@jupyter-widgets/base",
      "model_module_version": "1.0.0",
      "model_name": "LayoutModel",
      "state": {}
     },
     "dcc580c163444356988ae2cd34110f94": {
      "model_module": "@jupyter-widgets/controls",
      "model_module_version": "1.1.0",
      "model_name": "DescriptionStyleModel",
      "state": {
       "description_width": ""
      }
     },
     "dcd4150ab35545e2ac72db780bab26ae": {
      "model_module": "@jupyter-widgets/controls",
      "model_module_version": "1.1.0",
      "model_name": "CheckboxModel",
      "state": {
       "description": "28.2°",
       "disabled": false,
       "layout": "IPY_MODEL_a1f8d073dfd248cea3df0a3525424b95",
       "style": "IPY_MODEL_e473009d463b4dd885e541ddf845313d",
       "value": true
      }
     },
     "dcd4ce5edb6c44989f20208388f10188": {
      "model_module": "@jupyter-widgets/base",
      "model_module_version": "1.0.0",
      "model_name": "LayoutModel",
      "state": {}
     },
     "ddd4c7730c2943e088922ab80047a48e": {
      "model_module": "@jupyter-widgets/controls",
      "model_module_version": "1.1.0",
      "model_name": "DescriptionStyleModel",
      "state": {
       "description_width": ""
      }
     },
     "de136a4347eb43718c46e90b77ba4eae": {
      "model_module": "@jupyter-widgets/controls",
      "model_module_version": "1.1.0",
      "model_name": "DescriptionStyleModel",
      "state": {
       "description_width": ""
      }
     },
     "de211141ed4840f4b0dbc62e00d0f764": {
      "model_module": "@jupyter-widgets/base",
      "model_module_version": "1.0.0",
      "model_name": "LayoutModel",
      "state": {}
     },
     "de4ee6f855d746ea968143e1a598b77b": {
      "model_module": "@jupyter-widgets/controls",
      "model_module_version": "1.1.0",
      "model_name": "DescriptionStyleModel",
      "state": {
       "description_width": ""
      }
     },
     "dea5b9bad1cd4b9db9b9fd149c0395ad": {
      "model_module": "@jupyter-widgets/controls",
      "model_module_version": "1.1.0",
      "model_name": "ToggleButtonsModel",
      "state": {
       "_options_labels": [
        "400 MeV/n",
        "800 MeV/n",
        "1500 MeV/n"
       ],
       "button_style": "",
       "description": "Energy:",
       "icons": [],
       "index": 0,
       "layout": "IPY_MODEL_2e6eb0dd8f87479ab08dc9000d5723d2",
       "style": "IPY_MODEL_d529fa62e7e94894b3d5a2100c861933",
       "tooltips": [
        "lowest energy",
        "middle energy",
        "highest energy"
       ]
      }
     },
     "deef3cc23c9e47b1a27184acabc313ff": {
      "model_module": "@jupyter-widgets/controls",
      "model_module_version": "1.1.0",
      "model_name": "DescriptionStyleModel",
      "state": {
       "description_width": ""
      }
     },
     "df026d70c59a450492e1245146cba983": {
      "model_module": "@jupyter-widgets/controls",
      "model_module_version": "1.1.0",
      "model_name": "LabelModel",
      "state": {
       "layout": "IPY_MODEL_e80e24a9feae43428877f7d17703b50b",
       "style": "IPY_MODEL_9fb91dc68d1e42289c11d12858d52439",
       "value": "Select the detector angles to plot."
      }
     },
     "df42854a99054e0ebb4bf73a9cf9e209": {
      "model_module": "@jupyter-widgets/base",
      "model_module_version": "1.0.0",
      "model_name": "LayoutModel",
      "state": {}
     },
     "df7a836d1bec4c7490c9e7f95433f9d2": {
      "model_module": "@jupyter-widgets/controls",
      "model_module_version": "1.1.0",
      "model_name": "LabelModel",
      "state": {
       "layout": "IPY_MODEL_3446711576864bc6be7fe4b295e27a95",
       "style": "IPY_MODEL_ab316c5666524946ae0c172d4473ccf4",
       "value": "Select the detector angles to plot."
      }
     },
     "dfd73c8a56494aa798b7a0969a38eaf1": {
      "model_module": "@jupyter-widgets/controls",
      "model_module_version": "1.1.0",
      "model_name": "LabelModel",
      "state": {
       "layout": "IPY_MODEL_f18d8c2733764bf5b324b901bc699368",
       "style": "IPY_MODEL_3d0f3c678ae9413bb5af523f0949b7a3",
       "value": "Select which secondary particle to plot spectra for."
      }
     },
     "dff6c18cf37c44c2bd38a2be79fedc22": {
      "model_module": "@jupyter-widgets/controls",
      "model_module_version": "1.1.0",
      "model_name": "DescriptionStyleModel",
      "state": {
       "description_width": ""
      }
     },
     "e006b153e8c04f7981c6ddc8c3678b96": {
      "model_module": "@jupyter-widgets/base",
      "model_module_version": "1.0.0",
      "model_name": "LayoutModel",
      "state": {}
     },
     "e042e945954041b693d6fc5b84ea9838": {
      "model_module": "@jupyter-widgets/controls",
      "model_module_version": "1.1.0",
      "model_name": "CheckboxModel",
      "state": {
       "description": "10°",
       "disabled": false,
       "layout": "IPY_MODEL_5f6d3b5ab3f94a0d9af8dd6912b4767b",
       "style": "IPY_MODEL_d54378043d464adeb0c417cdf20b4616",
       "value": true
      }
     },
     "e05c6d832beb42ca99a2ba56639c05f7": {
      "model_module": "@jupyter-widgets/controls",
      "model_module_version": "1.1.0",
      "model_name": "CheckboxModel",
      "state": {
       "description": "45°",
       "disabled": false,
       "layout": "IPY_MODEL_b47b0b519fa84394b5a2796345eee4c6",
       "style": "IPY_MODEL_a3f03c52452f4040b71e2bb824bf4b8b",
       "value": true
      }
     },
     "e07cc0fb0d2244aba73b172fc1d793fb": {
      "model_module": "@jupyter-widgets/controls",
      "model_module_version": "1.1.0",
      "model_name": "LabelModel",
      "state": {
       "layout": "IPY_MODEL_af447f0dfaba4018b93633549c50a98c",
       "style": "IPY_MODEL_2f59f0148d4b4c318a233e7549c7a124",
       "value": "Select upstream target material and thickness."
      }
     },
     "e0cffeab5479447b9f8f8b9db4a1f22c": {
      "model_module": "@jupyter-widgets/controls",
      "model_module_version": "1.1.0",
      "model_name": "LabelModel",
      "state": {
       "layout": "IPY_MODEL_8d940d9289e04dd1a510e39ef6872793",
       "style": "IPY_MODEL_c65b04ff06e647c3a975ba85789edcdd",
       "value": "Select the detector angles to plot."
      }
     },
     "e0d70ba7639749d2bd3e4f62eb617f72": {
      "model_module": "@jupyter-widgets/controls",
      "model_module_version": "1.1.0",
      "model_name": "CheckboxModel",
      "state": {
       "description": "30°",
       "disabled": false,
       "layout": "IPY_MODEL_1672aa49f4314ddf92f6e8228632b8df",
       "style": "IPY_MODEL_3e26dbb23950401caf73c17a05277c77",
       "value": true
      }
     },
     "e10661569efd495da1417ba600cbe9cb": {
      "model_module": "@jupyter-widgets/controls",
      "model_module_version": "1.1.0",
      "model_name": "DescriptionStyleModel",
      "state": {
       "description_width": ""
      }
     },
     "e108c6f8dc544560b790101082bb3f6d": {
      "model_module": "@jupyter-widgets/controls",
      "model_module_version": "1.1.0",
      "model_name": "CheckboxModel",
      "state": {
       "description": "10°",
       "disabled": false,
       "layout": "IPY_MODEL_d141f9622d7a4604a2f6c62bfabf5669",
       "style": "IPY_MODEL_d505af3d2b874d91afabc23a4681c26c",
       "value": true
      }
     },
     "e125556179c24374bb636b9f57260100": {
      "model_module": "@jupyter-widgets/base",
      "model_module_version": "1.0.0",
      "model_name": "LayoutModel",
      "state": {}
     },
     "e13fe1343d144c94a41936009565334f": {
      "model_module": "@jupyter-widgets/base",
      "model_module_version": "1.0.0",
      "model_name": "LayoutModel",
      "state": {}
     },
     "e1d70410966d4bf99a2e35490939c1d6": {
      "model_module": "@jupyter-widgets/controls",
      "model_module_version": "1.1.0",
      "model_name": "ToggleButtonsStyleModel",
      "state": {
       "button_width": "",
       "description_width": ""
      }
     },
     "e219c91422e84a828f877205b0db4d5b": {
      "model_module": "@jupyter-widgets/controls",
      "model_module_version": "1.1.0",
      "model_name": "ButtonModel",
      "state": {
       "button_style": "success",
       "description": "Update plot",
       "icon": "paint-brush",
       "layout": "IPY_MODEL_aac3db4e5d1e4f98a69d1cf4938a87d6",
       "style": "IPY_MODEL_58d1a5ed88374eb2bc1af82624b9c785",
       "tooltip": "Click to redraw the plot below with updated options from above."
      }
     },
     "e21af38f32404b8fa5826899896bb62e": {
      "model_module": "@jupyter-widgets/controls",
      "model_module_version": "1.1.0",
      "model_name": "CheckboxModel",
      "state": {
       "description": "135°",
       "disabled": false,
       "layout": "IPY_MODEL_e5e86d6c8dd849fc9f332d9f5d25bf96",
       "style": "IPY_MODEL_cb570e4a32cf48c1b8b9eb2590302fbc",
       "value": true
      }
     },
     "e2942bf36d6c4d1e9d9c1d946651f2dd": {
      "model_module": "@jupyter-widgets/controls",
      "model_module_version": "1.1.0",
      "model_name": "DescriptionStyleModel",
      "state": {
       "description_width": ""
      }
     },
     "e2c1797b522b46c098590f29c80eda32": {
      "model_module": "@jupyter-widgets/controls",
      "model_module_version": "1.1.0",
      "model_name": "DescriptionStyleModel",
      "state": {
       "description_width": ""
      }
     },
     "e2d01956c3e74b318902755915ffaa86": {
      "model_module": "@jupyter-widgets/controls",
      "model_module_version": "1.1.0",
      "model_name": "CheckboxModel",
      "state": {
       "description": "80°",
       "disabled": false,
       "layout": "IPY_MODEL_87b2e69948374bef9d1952c9e4a06f02",
       "style": "IPY_MODEL_a2733a53a33c469f9e74e92e8a087019",
       "value": true
      }
     },
     "e325c6be398a42c2b945c5be78fb0c06": {
      "model_module": "@jupyter-widgets/controls",
      "model_module_version": "1.1.0",
      "model_name": "DescriptionStyleModel",
      "state": {
       "description_width": ""
      }
     },
     "e366da6eff8946f28914cb82be8ba5eb": {
      "model_module": "@jupyter-widgets/controls",
      "model_module_version": "1.1.0",
      "model_name": "ToggleButtonsStyleModel",
      "state": {
       "button_width": "",
       "description_width": ""
      }
     },
     "e36c4c9a05f2445fa793ef47e228c482": {
      "model_module": "@jupyter-widgets/controls",
      "model_module_version": "1.1.0",
      "model_name": "CheckboxModel",
      "state": {
       "description": "135°",
       "disabled": false,
       "layout": "IPY_MODEL_2bfba8157b8447fca9e7126134d36d87",
       "style": "IPY_MODEL_bf382fe9a9d94fe6afae769e4d07fb7e",
       "value": true
      }
     },
     "e3c0b9d7264d4dd38eb1038c6ebcc18d": {
      "model_module": "@jupyter-widgets/controls",
      "model_module_version": "1.1.0",
      "model_name": "ToggleButtonsModel",
      "state": {
       "_options_labels": [
        "H",
        "He",
        "C",
        "Si",
        "Fe"
       ],
       "button_style": "",
       "description": "Ion:",
       "icons": [],
       "index": 0,
       "layout": "IPY_MODEL_039f033d47cf409a828dd3e58c09ff31",
       "style": "IPY_MODEL_7e2371361e60439b81f3c95a4c29b3b7",
       "tooltips": [
        "Hydrogen",
        "Helium",
        "Carbon",
        "Silicon",
        "Iron"
       ]
      }
     },
     "e3f7300c89714ab39e4ee81c1ffd5e96": {
      "model_module": "@jupyter-widgets/controls",
      "model_module_version": "1.1.0",
      "model_name": "ToggleButtonsModel",
      "state": {
       "_options_labels": [
        "400 MeV",
        "800 MeV",
        "2500 MeV"
       ],
       "button_style": "",
       "description": "Energy:",
       "icons": [],
       "index": 0,
       "layout": "IPY_MODEL_ccb28a988e3d4037916318232e82fdc2",
       "style": "IPY_MODEL_196b92fe93b14a5e9565d48f5aa1f5ce",
       "tooltips": [
        "lowest energy",
        "middle energy",
        "highest energy"
       ]
      }
     },
     "e473009d463b4dd885e541ddf845313d": {
      "model_module": "@jupyter-widgets/controls",
      "model_module_version": "1.1.0",
      "model_name": "DescriptionStyleModel",
      "state": {
       "description_width": ""
      }
     },
     "e48a0655d50b42b683d86c150a6e7824": {
      "model_module": "@jupyter-widgets/base",
      "model_module_version": "1.0.0",
      "model_name": "LayoutModel",
      "state": {}
     },
     "e497490ce55a47528fa6a34bf8452d68": {
      "model_module": "@jupyter-widgets/base",
      "model_module_version": "1.0.0",
      "model_name": "LayoutModel",
      "state": {}
     },
     "e4b014e21c154a99a472d17155e7609e": {
      "model_module": "@jupyter-widgets/base",
      "model_module_version": "1.0.0",
      "model_name": "LayoutModel",
      "state": {}
     },
     "e4d804abadc14c74a33145526e02a3b7": {
      "model_module": "@jupyter-widgets/base",
      "model_module_version": "1.0.0",
      "model_name": "LayoutModel",
      "state": {}
     },
     "e4da8aed076e41fabc020df45f79166e": {
      "model_module": "@jupyter-widgets/base",
      "model_module_version": "1.0.0",
      "model_name": "LayoutModel",
      "state": {}
     },
     "e4e76739afdd42159e7d70cd8e35073f": {
      "model_module": "@jupyter-widgets/controls",
      "model_module_version": "1.1.0",
      "model_name": "DescriptionStyleModel",
      "state": {
       "description_width": ""
      }
     },
     "e5156cf9dd3c4c19a057626002130589": {
      "model_module": "@jupyter-widgets/controls",
      "model_module_version": "1.1.0",
      "model_name": "ToggleButtonsModel",
      "state": {
       "_options_labels": [
        "400 MeV",
        "800 MeV",
        "2500 MeV"
       ],
       "button_style": "",
       "description": "Energy:",
       "icons": [],
       "index": 0,
       "layout": "IPY_MODEL_200b72eb0f634c9cb9872c64c4e231f8",
       "style": "IPY_MODEL_ffd7ce5689fb467b967c87d2b0dcf965",
       "tooltips": [
        "lowest energy",
        "middle energy",
        "highest energy"
       ]
      }
     },
     "e52c9ad6f0f94c16a168ca41d44d2b05": {
      "model_module": "@jupyter-widgets/controls",
      "model_module_version": "1.1.0",
      "model_name": "ToggleButtonsStyleModel",
      "state": {
       "button_width": "",
       "description_width": ""
      }
     },
     "e535cc5b301040faa3ea82d0ab3d6376": {
      "model_module": "@jupyter-widgets/base",
      "model_module_version": "1.0.0",
      "model_name": "LayoutModel",
      "state": {}
     },
     "e5735cc6219041ce86e8dd86b310dc02": {
      "model_module": "@jupyter-widgets/controls",
      "model_module_version": "1.1.0",
      "model_name": "DescriptionStyleModel",
      "state": {
       "description_width": ""
      }
     },
     "e58a8f5499a64d7d8362340324127d7d": {
      "model_module": "@jupyter-widgets/base",
      "model_module_version": "1.0.0",
      "model_name": "LayoutModel",
      "state": {}
     },
     "e58b5b6d58df46fd91e1820fc099502d": {
      "model_module": "@jupyter-widgets/controls",
      "model_module_version": "1.1.0",
      "model_name": "LabelModel",
      "state": {
       "layout": "IPY_MODEL_df42854a99054e0ebb4bf73a9cf9e209",
       "style": "IPY_MODEL_65c67283abaa4187b143e98bc5c4bf8b",
       "value": "Select which secondary particle to plot spectra for."
      }
     },
     "e5b497fc7daa4375b00b1836253b25d0": {
      "model_module": "@jupyter-widgets/controls",
      "model_module_version": "1.1.0",
      "model_name": "LabelModel",
      "state": {
       "layout": "IPY_MODEL_a5ab0bc8e4894abf9f3ae4671f61de35",
       "style": "IPY_MODEL_f143c1e1d37e4c3e80e186452ecaae07",
       "value": "Select which sets of data to display."
      }
     },
     "e5de52a649a44006a5e4cb9bac808b33": {
      "model_module": "@jupyter-widgets/base",
      "model_module_version": "1.0.0",
      "model_name": "LayoutModel",
      "state": {}
     },
     "e5e86d6c8dd849fc9f332d9f5d25bf96": {
      "model_module": "@jupyter-widgets/base",
      "model_module_version": "1.0.0",
      "model_name": "LayoutModel",
      "state": {}
     },
     "e5f74c8d52ba473a915226f341c5467e": {
      "model_module": "@jupyter-widgets/controls",
      "model_module_version": "1.1.0",
      "model_name": "LabelModel",
      "state": {
       "layout": "IPY_MODEL_eae5e238dfcd487eaeb1739326df0d12",
       "style": "IPY_MODEL_8e0c320fd5734317bb5f0a4dcabe63e9",
       "value": "Select the detector angles to plot."
      }
     },
     "e65acee7afc542d6ad03ff99c879b497": {
      "model_module": "@jupyter-widgets/controls",
      "model_module_version": "1.1.0",
      "model_name": "CheckboxModel",
      "state": {
       "description": "30°",
       "disabled": false,
       "layout": "IPY_MODEL_7a207b3f9e534394bfd8e158d669b063",
       "style": "IPY_MODEL_358e4741551d4c4686ca6b750bcca1d4",
       "value": true
      }
     },
     "e66423a8657740bf85d4739442117038": {
      "model_module": "@jupyter-widgets/controls",
      "model_module_version": "1.1.0",
      "model_name": "ToggleButtonsStyleModel",
      "state": {
       "button_width": "",
       "description_width": ""
      }
     },
     "e68d8f144a094788886e98075cc5562e": {
      "model_module": "@jupyter-widgets/controls",
      "model_module_version": "1.1.0",
      "model_name": "DescriptionStyleModel",
      "state": {
       "description_width": ""
      }
     },
     "e6ab800a2c384e36a3b43de9083679e4": {
      "model_module": "@jupyter-widgets/controls",
      "model_module_version": "1.1.0",
      "model_name": "ButtonModel",
      "state": {
       "button_style": "success",
       "description": "Update plot",
       "icon": "paint-brush",
       "layout": "IPY_MODEL_a8e419868feb40a79cfca7b3f532a7fa",
       "style": "IPY_MODEL_806a3c65ff964a2982d166fcff8bb411",
       "tooltip": "Click to redraw the plot below with updated options from above."
      }
     },
     "e6eec0d2d30c40cf81d419a89626b114": {
      "model_module": "@jupyter-widgets/base",
      "model_module_version": "1.0.0",
      "model_name": "LayoutModel",
      "state": {}
     },
     "e705eb676ca84ed7bac6301486cf3fec": {
      "model_module": "@jupyter-widgets/base",
      "model_module_version": "1.0.0",
      "model_name": "LayoutModel",
      "state": {}
     },
     "e70fff3b1c7d496b87c0f5a08a5d3555": {
      "model_module": "@jupyter-widgets/base",
      "model_module_version": "1.0.0",
      "model_name": "LayoutModel",
      "state": {}
     },
     "e7354a7351dc4a3eb056a1ebe167219f": {
      "model_module": "@jupyter-widgets/base",
      "model_module_version": "1.0.0",
      "model_name": "LayoutModel",
      "state": {}
     },
     "e75e86304c0e43ab9315309c63aae2b6": {
      "model_module": "@jupyter-widgets/base",
      "model_module_version": "1.0.0",
      "model_name": "LayoutModel",
      "state": {}
     },
     "e79bd93ad5be4112858e8589b9072286": {
      "model_module": "@jupyter-widgets/controls",
      "model_module_version": "1.1.0",
      "model_name": "DescriptionStyleModel",
      "state": {
       "description_width": ""
      }
     },
     "e7c50db298be473eac5d8bfb179b664c": {
      "model_module": "@jupyter-widgets/controls",
      "model_module_version": "1.1.0",
      "model_name": "DescriptionStyleModel",
      "state": {
       "description_width": ""
      }
     },
     "e7c7ff147f5e4b0f9de2d24756f931c5": {
      "model_module": "@jupyter-widgets/base",
      "model_module_version": "1.0.0",
      "model_name": "LayoutModel",
      "state": {}
     },
     "e7d5c0076bce489bb6ca680b9c77e9fb": {
      "model_module": "@jupyter-widgets/controls",
      "model_module_version": "1.1.0",
      "model_name": "DescriptionStyleModel",
      "state": {
       "description_width": ""
      }
     },
     "e7e3aa5f333c4515a07b33e75a21e3aa": {
      "model_module": "@jupyter-widgets/controls",
      "model_module_version": "1.1.0",
      "model_name": "CheckboxModel",
      "state": {
       "description": "45°",
       "disabled": false,
       "layout": "IPY_MODEL_bdbce8b329e84bacadec6d2e96f30b1e",
       "style": "IPY_MODEL_2b911a2ee8294942a8efb25e06c96439",
       "value": false
      }
     },
     "e7ecb71a6c3a41c7a7e8bd0ae54eff62": {
      "model_module": "@jupyter-widgets/base",
      "model_module_version": "1.0.0",
      "model_name": "LayoutModel",
      "state": {}
     },
     "e80e24a9feae43428877f7d17703b50b": {
      "model_module": "@jupyter-widgets/base",
      "model_module_version": "1.0.0",
      "model_name": "LayoutModel",
      "state": {}
     },
     "e81ace7a9c8c47519c4ccc7e7135a833": {
      "model_module": "@jupyter-widgets/controls",
      "model_module_version": "1.1.0",
      "model_name": "LabelModel",
      "state": {
       "layout": "IPY_MODEL_9ecc5a915ae742e0a270e8e6ff0bf4bd",
       "style": "IPY_MODEL_cf8555f94a5a495ea3b65f53dda0e5e0",
       "value": "Select the detector angles to plot."
      }
     },
     "e853e0e4b83c4027ae57a1c216404402": {
      "model_module": "@jupyter-widgets/controls",
      "model_module_version": "1.1.0",
      "model_name": "CheckboxModel",
      "state": {
       "description": "30°",
       "disabled": false,
       "layout": "IPY_MODEL_6a2b921d39ac461dbc061b948af0ceea",
       "style": "IPY_MODEL_05cb3d47b34d471a8df96e77a72f430b",
       "value": true
      }
     },
     "e855032a03ab41298ecbce490692b442": {
      "model_module": "@jupyter-widgets/base",
      "model_module_version": "1.0.0",
      "model_name": "LayoutModel",
      "state": {}
     },
     "e859ff3fab7f425f9d5d51bb08bb0418": {
      "model_module": "@jupyter-widgets/controls",
      "model_module_version": "1.1.0",
      "model_name": "DescriptionStyleModel",
      "state": {
       "description_width": ""
      }
     },
     "e87b980a30d44b798d1e28f010ac8725": {
      "model_module": "@jupyter-widgets/controls",
      "model_module_version": "1.1.0",
      "model_name": "ToggleButtonsModel",
      "state": {
       "_options_labels": [
        "N (¹n)",
        "NDC (¹n)",
        "P (¹H)",
        "D (²H)",
        "T (³H)",
        "S (³He)",
        "A (⁴He)"
       ],
       "button_style": "",
       "description": "Type:",
       "icons": [],
       "index": 0,
       "layout": "IPY_MODEL_22f5fcb0e7c14fb49e8408d1f2bb3cb6",
       "style": "IPY_MODEL_8a8a3c66e387487d94d40df8daf3abec",
       "tooltips": [
        "Neutron",
        "Back Target Neutron",
        "Proton",
        "Deuteron",
        "Triton",
        "Helium-3",
        "Helium-4"
       ]
      }
     },
     "e8b1430b7a3246b5962a8ec757207553": {
      "model_module": "@jupyter-widgets/base",
      "model_module_version": "1.0.0",
      "model_name": "LayoutModel",
      "state": {}
     },
     "e8b835b886ea4c968b92fde00e855c21": {
      "model_module": "@jupyter-widgets/base",
      "model_module_version": "1.0.0",
      "model_name": "LayoutModel",
      "state": {}
     },
     "e92d26a0bad1454b9eb0b6fcb4761631": {
      "model_module": "@jupyter-widgets/controls",
      "model_module_version": "1.1.0",
      "model_name": "CheckboxModel",
      "state": {
       "description": "135°",
       "disabled": false,
       "layout": "IPY_MODEL_7a60d2682c3349b0b202edf010c6c96c",
       "style": "IPY_MODEL_98c085b49e204c9f976cb4af179fae94",
       "value": true
      }
     },
     "e9543b4dab854cd4b3dc337b87fddb83": {
      "model_module": "@jupyter-widgets/controls",
      "model_module_version": "1.1.0",
      "model_name": "DescriptionStyleModel",
      "state": {
       "description_width": ""
      }
     },
     "e9876dad0d064a82bb3810f9daf6dc78": {
      "model_module": "@jupyter-widgets/base",
      "model_module_version": "1.0.0",
      "model_name": "LayoutModel",
      "state": {}
     },
     "e992d12a9729434d8f31fc94ade3e124": {
      "model_module": "@jupyter-widgets/base",
      "model_module_version": "1.0.0",
      "model_name": "LayoutModel",
      "state": {}
     },
     "e9985931202d404a85b352978ff371ec": {
      "model_module": "@jupyter-widgets/controls",
      "model_module_version": "1.1.0",
      "model_name": "CheckboxModel",
      "state": {
       "description": "45°",
       "disabled": false,
       "layout": "IPY_MODEL_d54854d800e84617aacf520cbd7df79d",
       "style": "IPY_MODEL_0bf4a0d53fc74f159eaa0fe9e9553c72",
       "value": true
      }
     },
     "e9c632d108ec4bc5b7df6ee17e225966": {
      "model_module": "@jupyter-widgets/base",
      "model_module_version": "1.0.0",
      "model_name": "LayoutModel",
      "state": {}
     },
     "ea30e5a524454e1594f24ddc7f7f64e4": {
      "model_module": "@jupyter-widgets/controls",
      "model_module_version": "1.1.0",
      "model_name": "CheckboxModel",
      "state": {
       "description": "45°",
       "disabled": false,
       "layout": "IPY_MODEL_97943902601a413d9513a4e7bec6f8a8",
       "style": "IPY_MODEL_1a0b47557ddb471a9abef45ce46f53bc",
       "value": true
      }
     },
     "ea4664c6390d4cf0904b45b2b1efb2c9": {
      "model_module": "@jupyter-widgets/controls",
      "model_module_version": "1.1.0",
      "model_name": "CheckboxModel",
      "state": {
       "description": "80°",
       "disabled": false,
       "layout": "IPY_MODEL_9935277d35c1402bb49416768a7b9ce1",
       "style": "IPY_MODEL_a900600b456b46a681fcc9494b7ece95",
       "value": true
      }
     },
     "ea8cf577676a4f5c815dc001591cca70": {
      "model_module": "@jupyter-widgets/controls",
      "model_module_version": "1.1.0",
      "model_name": "DescriptionStyleModel",
      "state": {
       "description_width": ""
      }
     },
     "eacf4b0c30b94827b8e74e51c200c853": {
      "model_module": "@jupyter-widgets/base",
      "model_module_version": "1.0.0",
      "model_name": "LayoutModel",
      "state": {}
     },
     "eada671a9877489896c776f602c3d693": {
      "model_module": "@jupyter-widgets/controls",
      "model_module_version": "1.1.0",
      "model_name": "ToggleButtonsModel",
      "state": {
       "_options_labels": [
        "400 MeV/n",
        "800 MeV/n",
        "1500 MeV/n"
       ],
       "button_style": "",
       "description": "Energy:",
       "icons": [],
       "index": 0,
       "layout": "IPY_MODEL_03b19c06f12e4aadad7aec80c5d6b1ed",
       "style": "IPY_MODEL_1fec3a2bae25428490df10b6f9630f15",
       "tooltips": [
        "lowest energy",
        "middle energy",
        "highest energy"
       ]
      }
     },
     "eadefaf457884e77b775d9e9cef345f2": {
      "model_module": "@jupyter-widgets/controls",
      "model_module_version": "1.1.0",
      "model_name": "CheckboxModel",
      "state": {
       "description": "10°",
       "disabled": false,
       "layout": "IPY_MODEL_9dd994dfe1494c828611dab8b7c1157e",
       "style": "IPY_MODEL_74e3d297a3dd4837a6940d54ccb2fc04",
       "value": true
      }
     },
     "eae064cb481f4388b3ecadccabebcbfd": {
      "model_module": "@jupyter-widgets/base",
      "model_module_version": "1.0.0",
      "model_name": "LayoutModel",
      "state": {}
     },
     "eae5e238dfcd487eaeb1739326df0d12": {
      "model_module": "@jupyter-widgets/base",
      "model_module_version": "1.0.0",
      "model_name": "LayoutModel",
      "state": {}
     },
     "eb377fa66aa746eb968995e2f2ab0fb4": {
      "model_module": "@jupyter-widgets/base",
      "model_module_version": "1.0.0",
      "model_name": "LayoutModel",
      "state": {}
     },
     "eb4ab7313de148e7975c3fd05921afd6": {
      "model_module": "@jupyter-widgets/base",
      "model_module_version": "1.0.0",
      "model_name": "LayoutModel",
      "state": {}
     },
     "ebf7af92aa6d4d2d90ea7cdae6b2bd84": {
      "model_module": "@jupyter-widgets/base",
      "model_module_version": "1.0.0",
      "model_name": "LayoutModel",
      "state": {}
     },
     "ec294333971b4af4bb4a5d8b139ab91f": {
      "model_module": "@jupyter-widgets/base",
      "model_module_version": "1.0.0",
      "model_name": "LayoutModel",
      "state": {}
     },
     "ec376c2c6592463696df681b11201528": {
      "model_module": "@jupyter-widgets/controls",
      "model_module_version": "1.1.0",
      "model_name": "ToggleButtonsModel",
      "state": {
       "_options_labels": [
        "20 g/cm²",
        "60 g/cm²"
       ],
       "button_style": "",
       "description": "Thickness:",
       "icons": [],
       "index": 0,
       "layout": "IPY_MODEL_7ed71805849a4f218564899a9ad4f788",
       "style": "IPY_MODEL_e1d70410966d4bf99a2e35490939c1d6",
       "tooltips": [
        "10 g/cm² Al upstream + 10 g/cm² HDPE downstream",
        "10 g/cm² Al upstream + 50 g/cm² HDPE downstream"
       ]
      }
     },
     "ec4904e2908944e1b622c2574f0e912a": {
      "model_module": "@jupyter-widgets/controls",
      "model_module_version": "1.1.0",
      "model_name": "ToggleButtonsStyleModel",
      "state": {
       "button_width": "",
       "description_width": ""
      }
     },
     "ec5aaa4b954a43a097770055de9b89ef": {
      "model_module": "@jupyter-widgets/controls",
      "model_module_version": "1.1.0",
      "model_name": "CheckboxModel",
      "state": {
       "description": "Experiment",
       "disabled": false,
       "layout": "IPY_MODEL_1bf04ec8e10246cc9d2df1f9e1f9e9b8",
       "style": "IPY_MODEL_1a46dbed02354026a4326b00cab9b040",
       "value": true
      }
     },
     "ec670dbcc8b94de5b4410087759261e7": {
      "model_module": "@jupyter-widgets/controls",
      "model_module_version": "1.1.0",
      "model_name": "LabelModel",
      "state": {
       "layout": "IPY_MODEL_8f66d762f6184414a9714cfc226381c1",
       "style": "IPY_MODEL_2514ad8ffa01480e8bd6dd3eb68113a7",
       "value": "Select the detector angles to plot."
      }
     },
     "ed728a04d4bc4e46bfe229bbe18d946c": {
      "model_module": "@jupyter-widgets/controls",
      "model_module_version": "1.1.0",
      "model_name": "DescriptionStyleModel",
      "state": {
       "description_width": ""
      }
     },
     "ed78636499c449529f4f4ab3dbc73bdd": {
      "model_module": "@jupyter-widgets/controls",
      "model_module_version": "1.1.0",
      "model_name": "CheckboxModel",
      "state": {
       "description": "60°",
       "disabled": false,
       "layout": "IPY_MODEL_703e3e569ff1498cb980c4dc4e985884",
       "style": "IPY_MODEL_5be950c9798a433eac7c50d421058a45",
       "value": false
      }
     },
     "edc5a9e57f44467797d8f3c8d1368d47": {
      "model_module": "@jupyter-widgets/controls",
      "model_module_version": "1.1.0",
      "model_name": "LabelModel",
      "state": {
       "layout": "IPY_MODEL_714e01f090034d61970e171f2b8e9078",
       "style": "IPY_MODEL_9d4af918c79e4649b91b52b135f6205d",
       "value": "Select the detector angles to plot."
      }
     },
     "ee873eda4511449cbd85792796e66667": {
      "model_module": "@jupyter-widgets/controls",
      "model_module_version": "1.1.0",
      "model_name": "CheckboxModel",
      "state": {
       "description": "135°",
       "disabled": false,
       "layout": "IPY_MODEL_e9c632d108ec4bc5b7df6ee17e225966",
       "style": "IPY_MODEL_55ad60edc3cc48cf803fdd35c03e02a8",
       "value": true
      }
     },
     "ee8be8f473e143408da35f093c0b6df3": {
      "model_module": "@jupyter-widgets/controls",
      "model_module_version": "1.1.0",
      "model_name": "LabelModel",
      "state": {
       "layout": "IPY_MODEL_638b9a043e1e4701abfe86496606c417",
       "style": "IPY_MODEL_6896b4bd8afa4cdcbf69ee8bd652a294",
       "value": "Select which secondary particle to plot spectra for."
      }
     },
     "ee9165206ff64fd98ebeb4be3a4a7b45": {
      "model_module": "@jupyter-widgets/controls",
      "model_module_version": "1.1.0",
      "model_name": "CheckboxModel",
      "state": {
       "description": "12.7°",
       "disabled": false,
       "layout": "IPY_MODEL_1b864d38500245bc899a0f381f423c24",
       "style": "IPY_MODEL_aa35185bf3a34092a2bd1af2cf00e408",
       "value": true
      }
     },
     "ee98a1b776164c5e9d2f3111d8008ef9": {
      "model_module": "@jupyter-widgets/controls",
      "model_module_version": "1.1.0",
      "model_name": "LabelModel",
      "state": {
       "layout": "IPY_MODEL_994c2a00c9b5436b91b975bafd760584",
       "style": "IPY_MODEL_9de6726f2e004bd3877caf19cbe4426f",
       "value": "Select upstream target material and thickness."
      }
     },
     "ee9bc543bebf4a9d802fb91e73d1002f": {
      "model_module": "@jupyter-widgets/controls",
      "model_module_version": "1.1.0",
      "model_name": "DescriptionStyleModel",
      "state": {
       "description_width": ""
      }
     },
     "eea40b60cb2d4ebbbbf40e8521ee4f87": {
      "model_module": "@jupyter-widgets/controls",
      "model_module_version": "1.1.0",
      "model_name": "CheckboxModel",
      "state": {
       "description": "30°",
       "disabled": false,
       "layout": "IPY_MODEL_868daa6a513c4483b385e724afc38db6",
       "style": "IPY_MODEL_a02324d66cae4bcdad77709c8ea30df5",
       "value": true
      }
     },
     "eef836b841c54aca80d97b09e12e4b2e": {
      "model_module": "@jupyter-widgets/controls",
      "model_module_version": "1.1.0",
      "model_name": "LabelModel",
      "state": {
       "layout": "IPY_MODEL_7ac59b7eca6641c8bcb498673e9b27bd",
       "style": "IPY_MODEL_1fe86901ff6444339b517145bf3c3899",
       "value": "Select projectile ion energy."
      }
     },
     "eefb103b46b840978229669dc9bbcdce": {
      "model_module": "@jupyter-widgets/controls",
      "model_module_version": "1.1.0",
      "model_name": "ToggleButtonsStyleModel",
      "state": {
       "button_width": "",
       "description_width": ""
      }
     },
     "ef4bd5c55a7c45cc9ef95a2d4270d9a7": {
      "model_module": "@jupyter-widgets/base",
      "model_module_version": "1.0.0",
      "model_name": "LayoutModel",
      "state": {}
     },
     "ef63fe9cf051472285a2119408a5362c": {
      "model_module": "@jupyter-widgets/controls",
      "model_module_version": "1.1.0",
      "model_name": "DescriptionStyleModel",
      "state": {
       "description_width": ""
      }
     },
     "ef7272546b44403e83a8e89ec335c49b": {
      "model_module": "@jupyter-widgets/controls",
      "model_module_version": "1.1.0",
      "model_name": "CheckboxModel",
      "state": {
       "description": "60°",
       "disabled": false,
       "layout": "IPY_MODEL_dc545899afba40ea8c875493c461fd48",
       "style": "IPY_MODEL_28cb64bf993548d4ac314cacc750404a",
       "value": true
      }
     },
     "efcb746359c4475e975c88a99c210c04": {
      "model_module": "@jupyter-widgets/controls",
      "model_module_version": "1.1.0",
      "model_name": "DescriptionStyleModel",
      "state": {
       "description_width": ""
      }
     },
     "efd911ce47884c2e847c7597db96f675": {
      "model_module": "@jupyter-widgets/controls",
      "model_module_version": "1.1.0",
      "model_name": "CheckboxModel",
      "state": {
       "description": "60°",
       "disabled": false,
       "layout": "IPY_MODEL_faff79a189964b2d9547eac49f10b416",
       "style": "IPY_MODEL_c9a56b89822e4c4fbe565ecbbd144637",
       "value": true
      }
     },
     "f02c0822dab04f28a080936218b5ede4": {
      "model_module": "@jupyter-widgets/controls",
      "model_module_version": "1.1.0",
      "model_name": "LabelModel",
      "state": {
       "layout": "IPY_MODEL_ac2f0828c98f4d179cf83ddf27166b0b",
       "style": "IPY_MODEL_0e32b3e38b3b49b8af1d0d38aad130b8",
       "value": "Select the detector angles to plot."
      }
     },
     "f055cac736c0407b94d3e7ddcc082153": {
      "model_module": "@jupyter-widgets/base",
      "model_module_version": "1.0.0",
      "model_name": "LayoutModel",
      "state": {}
     },
     "f0566eea34404ef8ad5d91547f7d07d4": {
      "model_module": "@jupyter-widgets/controls",
      "model_module_version": "1.1.0",
      "model_name": "ToggleButtonsModel",
      "state": {
       "_options_labels": [
        "Al",
        "HDPE",
        "AlPE"
       ],
       "button_style": "",
       "description": "Material:",
       "icons": [],
       "index": 0,
       "layout": "IPY_MODEL_b8297bde69954b1fad28c2af975eeb32",
       "style": "IPY_MODEL_b6c24efdc53a4660a49ce93bba5de96a",
       "tooltips": [
        "Aluminum",
        "Polyethylene",
        "Combination of Al and HDPE"
       ]
      }
     },
     "f063c43e128244e0b1ce21cf847b324b": {
      "model_module": "@jupyter-widgets/controls",
      "model_module_version": "1.1.0",
      "model_name": "DescriptionStyleModel",
      "state": {
       "description_width": ""
      }
     },
     "f080737c4e2841fa9081b9ed3051a0cc": {
      "model_module": "@jupyter-widgets/controls",
      "model_module_version": "1.1.0",
      "model_name": "CheckboxModel",
      "state": {
       "description": "30°",
       "disabled": false,
       "layout": "IPY_MODEL_b2a39a040a6544d99cfd7e4863d4a141",
       "style": "IPY_MODEL_e2942bf36d6c4d1e9d9c1d946651f2dd",
       "value": false
      }
     },
     "f0969a67e3cd4b4bb9df5309f32120c8": {
      "model_module": "@jupyter-widgets/controls",
      "model_module_version": "1.1.0",
      "model_name": "LabelModel",
      "state": {
       "layout": "IPY_MODEL_33472369a0234ea3a9dcf27c09cd7f7b",
       "style": "IPY_MODEL_39b823192d424a1aab87bcddeee16b3d",
       "value": "Select the detector angles to plot."
      }
     },
     "f10bfd995f7d431d8b378fcd07b5c54e": {
      "model_module": "@jupyter-widgets/base",
      "model_module_version": "1.0.0",
      "model_name": "LayoutModel",
      "state": {}
     },
     "f143c1e1d37e4c3e80e186452ecaae07": {
      "model_module": "@jupyter-widgets/controls",
      "model_module_version": "1.1.0",
      "model_name": "DescriptionStyleModel",
      "state": {
       "description_width": ""
      }
     },
     "f18d8c2733764bf5b324b901bc699368": {
      "model_module": "@jupyter-widgets/base",
      "model_module_version": "1.0.0",
      "model_name": "LayoutModel",
      "state": {}
     },
     "f199881453b040ecba836e9210e1e2bd": {
      "model_module": "@jupyter-widgets/controls",
      "model_module_version": "1.1.0",
      "model_name": "ToggleButtonsStyleModel",
      "state": {
       "button_width": "",
       "description_width": ""
      }
     },
     "f1afb8dc5d4142d693c8d42b97cebaad": {
      "model_module": "@jupyter-widgets/controls",
      "model_module_version": "1.1.0",
      "model_name": "CheckboxModel",
      "state": {
       "description": "10°",
       "disabled": false,
       "layout": "IPY_MODEL_23907f89d8224d0d8f8b6dff967d5a79",
       "style": "IPY_MODEL_1f7b1312a8a44dbaa6d3bae6912929db",
       "value": true
      }
     },
     "f1eedb76081f4458b9c9a8c9e76dfeef": {
      "model_module": "@jupyter-widgets/controls",
      "model_module_version": "1.1.0",
      "model_name": "CheckboxModel",
      "state": {
       "description": "80°",
       "disabled": false,
       "layout": "IPY_MODEL_adeb596f502d42449d8811e70bbae8b2",
       "style": "IPY_MODEL_255bd2ea37c443cdbf7c13594324e3ea",
       "value": true
      }
     },
     "f1f935c3adf24e1bb45e6f19d25d81c5": {
      "model_module": "@jupyter-widgets/controls",
      "model_module_version": "1.1.0",
      "model_name": "DescriptionStyleModel",
      "state": {
       "description_width": ""
      }
     },
     "f252dec002114f79992adfffb78289bb": {
      "model_module": "@jupyter-widgets/controls",
      "model_module_version": "1.1.0",
      "model_name": "ToggleButtonsStyleModel",
      "state": {
       "button_width": "",
       "description_width": ""
      }
     },
     "f262556b66da4635872be828bcdb1607": {
      "model_module": "@jupyter-widgets/controls",
      "model_module_version": "1.1.0",
      "model_name": "CheckboxModel",
      "state": {
       "description": "80°",
       "disabled": false,
       "layout": "IPY_MODEL_c758b050ef9b47c8b35069f92aa067b8",
       "style": "IPY_MODEL_75a30c3beb1940bf992f9033eee96e34",
       "value": true
      }
     },
     "f26b555c18674641ac56b038c0e17764": {
      "model_module": "@jupyter-widgets/controls",
      "model_module_version": "1.1.0",
      "model_name": "DescriptionStyleModel",
      "state": {
       "description_width": ""
      }
     },
     "f26e2ec7560a4e578564c54c53c981f3": {
      "model_module": "@jupyter-widgets/controls",
      "model_module_version": "1.1.0",
      "model_name": "LabelModel",
      "state": {
       "layout": "IPY_MODEL_0d391190abd44d54b833e58e653dc40b",
       "style": "IPY_MODEL_86a57d3d44574ca59515581038955997",
       "value": "Select projectile ion energy."
      }
     },
     "f2747acdaa6146c7bfbced92bc3f8313": {
      "model_module": "@jupyter-widgets/base",
      "model_module_version": "1.0.0",
      "model_name": "LayoutModel",
      "state": {}
     },
     "f2ad27baf4764943a64930549184f148": {
      "model_module": "@jupyter-widgets/base",
      "model_module_version": "1.0.0",
      "model_name": "LayoutModel",
      "state": {}
     },
     "f2d9fac9be214bb79549c85432c23998": {
      "model_module": "@jupyter-widgets/controls",
      "model_module_version": "1.1.0",
      "model_name": "CheckboxModel",
      "state": {
       "description": "135°",
       "disabled": false,
       "layout": "IPY_MODEL_1bf7f5567589498fa681752dbe53ef46",
       "style": "IPY_MODEL_bb2cd9b121534a8290c6451b95d7d29c",
       "value": true
      }
     },
     "f321083ddc564a30968b1d85bf33aa1b": {
      "model_module": "@jupyter-widgets/base",
      "model_module_version": "1.0.0",
      "model_name": "LayoutModel",
      "state": {}
     },
     "f33936238f9141c9994990d8d2bc665a": {
      "model_module": "@jupyter-widgets/controls",
      "model_module_version": "1.1.0",
      "model_name": "CheckboxModel",
      "state": {
       "description": "7.2°",
       "disabled": false,
       "layout": "IPY_MODEL_bc66069ba2424e408276de2b0e664572",
       "style": "IPY_MODEL_0b27835f9ef445558cc2f963f85d4f87",
       "value": false
      }
     },
     "f3b020ca5d8f4d98bd0f82640535936e": {
      "model_module": "@jupyter-widgets/base",
      "model_module_version": "1.0.0",
      "model_name": "LayoutModel",
      "state": {}
     },
     "f3b324d2ef314550aa0da8d17a9f0043": {
      "model_module": "@jupyter-widgets/controls",
      "model_module_version": "1.1.0",
      "model_name": "CheckboxModel",
      "state": {
       "description": "80°",
       "disabled": false,
       "layout": "IPY_MODEL_1390752cdc434e52b9f7bbcab6f4e297",
       "style": "IPY_MODEL_fa6823fad2d748e99617d54f76e63bc8",
       "value": false
      }
     },
     "f3c9ffbfb328454d98e6b2a5ed3f03b4": {
      "model_module": "@jupyter-widgets/controls",
      "model_module_version": "1.1.0",
      "model_name": "CheckboxModel",
      "state": {
       "description": "135°",
       "disabled": false,
       "layout": "IPY_MODEL_bc51dbf7d6b44cb0861568d60899abdf",
       "style": "IPY_MODEL_97998ff7c23540418583446728836fec",
       "value": true
      }
     },
     "f3f69e1081784e57b0f53a13152b39c0": {
      "model_module": "@jupyter-widgets/controls",
      "model_module_version": "1.1.0",
      "model_name": "DescriptionStyleModel",
      "state": {
       "description_width": ""
      }
     },
     "f41b887ee0d948018f442ae216d31f95": {
      "model_module": "@jupyter-widgets/base",
      "model_module_version": "1.0.0",
      "model_name": "LayoutModel",
      "state": {}
     },
     "f46e27ea0a14453184f192527874afb7": {
      "model_module": "@jupyter-widgets/base",
      "model_module_version": "1.0.0",
      "model_name": "LayoutModel",
      "state": {}
     },
     "f485120e55c14545ac5b3960df305b8f": {
      "model_module": "@jupyter-widgets/controls",
      "model_module_version": "1.1.0",
      "model_name": "LabelModel",
      "state": {
       "layout": "IPY_MODEL_879adfc53a3c462a9c3d51cf55c1adbe",
       "style": "IPY_MODEL_8477bf0938fe492299303381dfe3f762",
       "value": "Select which secondary particle to plot spectra for."
      }
     },
     "f4861ab2161a41a481d4efd27777288f": {
      "model_module": "@jupyter-widgets/controls",
      "model_module_version": "1.1.0",
      "model_name": "DescriptionStyleModel",
      "state": {
       "description_width": ""
      }
     },
     "f49081b81392490a9d44ed5eda297dfb": {
      "model_module": "@jupyter-widgets/controls",
      "model_module_version": "1.1.0",
      "model_name": "DescriptionStyleModel",
      "state": {
       "description_width": ""
      }
     },
     "f4a71d72724943bfaf0276bf593011e7": {
      "model_module": "@jupyter-widgets/base",
      "model_module_version": "1.0.0",
      "model_name": "LayoutModel",
      "state": {}
     },
     "f4b34bb605b642bc92cabd5815758446": {
      "model_module": "@jupyter-widgets/base",
      "model_module_version": "1.0.0",
      "model_name": "LayoutModel",
      "state": {}
     },
     "f4d47f670d944ed8aaa908b07c2eafa3": {
      "model_module": "@jupyter-widgets/controls",
      "model_module_version": "1.1.0",
      "model_name": "DescriptionStyleModel",
      "state": {
       "description_width": ""
      }
     },
     "f4e068f26b124e70aee3d4ed6f1a1f11": {
      "model_module": "@jupyter-widgets/controls",
      "model_module_version": "1.1.0",
      "model_name": "ToggleButtonsStyleModel",
      "state": {
       "button_width": "",
       "description_width": ""
      }
     },
     "f4ed453b5306419e94a21b49cba03d49": {
      "model_module": "@jupyter-widgets/controls",
      "model_module_version": "1.1.0",
      "model_name": "DescriptionStyleModel",
      "state": {
       "description_width": ""
      }
     },
     "f5265654bf1c43de820654cb0b360cae": {
      "model_module": "@jupyter-widgets/base",
      "model_module_version": "1.0.0",
      "model_name": "LayoutModel",
      "state": {}
     },
     "f53498484d3e4625ba5faed05d104562": {
      "model_module": "@jupyter-widgets/base",
      "model_module_version": "1.0.0",
      "model_name": "LayoutModel",
      "state": {}
     },
     "f5b30e748dcd4e67b51e4e670d0c23eb": {
      "model_module": "@jupyter-widgets/controls",
      "model_module_version": "1.1.0",
      "model_name": "CheckboxModel",
      "state": {
       "description": "45°",
       "disabled": false,
       "layout": "IPY_MODEL_b2c2393f3cc943afa4c0a599f866c96b",
       "style": "IPY_MODEL_630a75892166422cb5a31e63e1a6c742",
       "value": true
      }
     },
     "f5ba8d79d7ac4a828e421fac15ac3d7a": {
      "model_module": "@jupyter-widgets/base",
      "model_module_version": "1.0.0",
      "model_name": "LayoutModel",
      "state": {}
     },
     "f5d62b0a3491487ebc3bae565842b5c4": {
      "model_module": "@jupyter-widgets/controls",
      "model_module_version": "1.1.0",
      "model_name": "CheckboxModel",
      "state": {
       "description": "60°",
       "disabled": false,
       "layout": "IPY_MODEL_1aeb7dfc9e594c11861f86298ee1729a",
       "style": "IPY_MODEL_a9e42351c8da44b9ad978d46ab3d72ab",
       "value": true
      }
     },
     "f5dfd514d516400ba5747fb5cf8a6269": {
      "model_module": "@jupyter-widgets/controls",
      "model_module_version": "1.1.0",
      "model_name": "CheckboxModel",
      "state": {
       "description": "10°",
       "disabled": false,
       "layout": "IPY_MODEL_1d68b934178f43fc98da9e81f818c1c2",
       "style": "IPY_MODEL_08874af4f11e4866a1c963a34f169b7b",
       "value": true
      }
     },
     "f5ec4bafce8a47389fc36bbf380ff089": {
      "model_module": "@jupyter-widgets/controls",
      "model_module_version": "1.1.0",
      "model_name": "ToggleButtonsStyleModel",
      "state": {
       "button_width": "",
       "description_width": ""
      }
     },
     "f606adc961c44f8b9755d1e03eb8449a": {
      "model_module": "@jupyter-widgets/controls",
      "model_module_version": "1.1.0",
      "model_name": "DescriptionStyleModel",
      "state": {
       "description_width": ""
      }
     },
     "f6398df354bc4679b689033928f3f329": {
      "model_module": "@jupyter-widgets/base",
      "model_module_version": "1.0.0",
      "model_name": "LayoutModel",
      "state": {}
     },
     "f673c3750a714ce6b241908ebc147d4d": {
      "model_module": "@jupyter-widgets/base",
      "model_module_version": "1.0.0",
      "model_name": "LayoutModel",
      "state": {}
     },
     "f71727a8872d46bfa0995c5545823cfc": {
      "model_module": "@jupyter-widgets/base",
      "model_module_version": "1.0.0",
      "model_name": "LayoutModel",
      "state": {}
     },
     "f7321fc4b17d4e829257afd40af2d5c2": {
      "model_module": "@jupyter-widgets/controls",
      "model_module_version": "1.1.0",
      "model_name": "DescriptionStyleModel",
      "state": {
       "description_width": ""
      }
     },
     "f753c75e2f27484493aa367682daa366": {
      "model_module": "@jupyter-widgets/controls",
      "model_module_version": "1.1.0",
      "model_name": "CheckboxModel",
      "state": {
       "description": "10°",
       "disabled": false,
       "layout": "IPY_MODEL_08f0b78c47574a45ac876371dff017db",
       "style": "IPY_MODEL_31eccb51f3554686a99127acb7d976ab",
       "value": true
      }
     },
     "f757fbb5e99d4a2d8befd8c12209d3d3": {
      "model_module": "@jupyter-widgets/controls",
      "model_module_version": "1.1.0",
      "model_name": "CheckboxModel",
      "state": {
       "description": "45°",
       "disabled": false,
       "layout": "IPY_MODEL_d99aff9ae3da4c99b9fc05e9620edc89",
       "style": "IPY_MODEL_32ae16106a1c4496831fc9941be86476",
       "value": true
      }
     },
     "f7f38f23b33c4fc9bedd89b58ecf6c4c": {
      "model_module": "@jupyter-widgets/base",
      "model_module_version": "1.0.0",
      "model_name": "LayoutModel",
      "state": {}
     },
     "f808b8d841c64ede90b90c8d1d382ad7": {
      "model_module": "@jupyter-widgets/controls",
      "model_module_version": "1.1.0",
      "model_name": "DescriptionStyleModel",
      "state": {
       "description_width": ""
      }
     },
     "f812ebabef9146fbb976efd2dd979889": {
      "model_module": "@jupyter-widgets/base",
      "model_module_version": "1.0.0",
      "model_name": "LayoutModel",
      "state": {}
     },
     "f8160d7eb5ec4e9e9e9be412fce32fd9": {
      "model_module": "@jupyter-widgets/controls",
      "model_module_version": "1.1.0",
      "model_name": "ToggleButtonsModel",
      "state": {
       "_options_labels": [
        "N (¹n)",
        "NDC (¹n)",
        "P (¹H)",
        "D (²H)",
        "T (³H)",
        "S (³He)",
        "A (⁴He)"
       ],
       "button_style": "",
       "description": "Type:",
       "icons": [],
       "index": 0,
       "layout": "IPY_MODEL_16f670a283904513995b6aa8c48c5375",
       "style": "IPY_MODEL_f252dec002114f79992adfffb78289bb",
       "tooltips": [
        "Neutron",
        "Back Target Neutron",
        "Proton",
        "Deuteron",
        "Triton",
        "Helium-3",
        "Helium-4"
       ]
      }
     },
     "f8187533cbd64b0f92011819d7ecc492": {
      "model_module": "@jupyter-widgets/base",
      "model_module_version": "1.0.0",
      "model_name": "LayoutModel",
      "state": {}
     },
     "f81a967a4e904b57bc79fffca0847c4a": {
      "model_module": "@jupyter-widgets/controls",
      "model_module_version": "1.1.0",
      "model_name": "ToggleButtonsModel",
      "state": {
       "_options_labels": [
        "Al",
        "HDPE",
        "AlPE"
       ],
       "button_style": "",
       "description": "Material:",
       "icons": [],
       "index": 0,
       "layout": "IPY_MODEL_d1331ffa41c94abdacbc2ece91c03a7e",
       "style": "IPY_MODEL_7269c215af174c58ad8c5c71aa27e07a",
       "tooltips": [
        "Aluminum",
        "Polyethylene",
        "Combination of Al and HDPE"
       ]
      }
     },
     "f8d1defbf04d4c329688c00ad9b82081": {
      "model_module": "@jupyter-widgets/base",
      "model_module_version": "1.0.0",
      "model_name": "LayoutModel",
      "state": {}
     },
     "f9518e3aacac4605b4bb8e8e408a58f3": {
      "model_module": "@jupyter-widgets/controls",
      "model_module_version": "1.1.0",
      "model_name": "LabelModel",
      "state": {
       "layout": "IPY_MODEL_c2da93c1248a406e97cdbda52cd4353e",
       "style": "IPY_MODEL_8f29115be0cc42ca9b36a84cc9c75532",
       "value": "Select which secondary particle to plot spectra for."
      }
     },
     "f97258fbbb4c467ebb072327200c0105": {
      "model_module": "@jupyter-widgets/controls",
      "model_module_version": "1.1.0",
      "model_name": "DescriptionStyleModel",
      "state": {
       "description_width": ""
      }
     },
     "fa1bd53915424fa1ab587c57ab48f080": {
      "model_module": "@jupyter-widgets/base",
      "model_module_version": "1.0.0",
      "model_name": "LayoutModel",
      "state": {}
     },
     "fa6823fad2d748e99617d54f76e63bc8": {
      "model_module": "@jupyter-widgets/controls",
      "model_module_version": "1.1.0",
      "model_name": "DescriptionStyleModel",
      "state": {
       "description_width": ""
      }
     },
     "fa76e56acdcd41718e0b25ba2bd643c5": {
      "model_module": "@jupyter-widgets/base",
      "model_module_version": "1.0.0",
      "model_name": "LayoutModel",
      "state": {}
     },
     "fa831ea3f4b347af83e3d34696ccf9ba": {
      "model_module": "@jupyter-widgets/base",
      "model_module_version": "1.0.0",
      "model_name": "LayoutModel",
      "state": {}
     },
     "fa868bfc1e314c0ebe3116aa8acc6ef2": {
      "model_module": "@jupyter-widgets/controls",
      "model_module_version": "1.1.0",
      "model_name": "ToggleButtonsStyleModel",
      "state": {
       "button_width": "",
       "description_width": ""
      }
     },
     "fafd0e3b04b4483f90d356ced0c29506": {
      "model_module": "@jupyter-widgets/controls",
      "model_module_version": "1.1.0",
      "model_name": "DescriptionStyleModel",
      "state": {
       "description_width": ""
      }
     },
     "faff79a189964b2d9547eac49f10b416": {
      "model_module": "@jupyter-widgets/base",
      "model_module_version": "1.0.0",
      "model_name": "LayoutModel",
      "state": {}
     },
     "fb064c7310ef43abbedd84003a322ca9": {
      "model_module": "@jupyter-widgets/controls",
      "model_module_version": "1.1.0",
      "model_name": "CheckboxModel",
      "state": {
       "description": "135°",
       "disabled": false,
       "layout": "IPY_MODEL_6fb95e2154dd4900892693eac880a9bb",
       "style": "IPY_MODEL_2e3a847b8cec4b5dbe367728c18d5a57",
       "value": true
      }
     },
     "fb164e172ac540ac81fc0ad566192df8": {
      "model_module": "@jupyter-widgets/controls",
      "model_module_version": "1.1.0",
      "model_name": "ToggleButtonsModel",
      "state": {
       "_options_labels": [
        "N (¹n)",
        "NDC (¹n)",
        "P (¹H)",
        "D (²H)",
        "T (³H)",
        "S (³He)",
        "A (⁴He)"
       ],
       "button_style": "",
       "description": "Particle:",
       "icons": [],
       "index": 2,
       "layout": "IPY_MODEL_13e8722c02124a1eb5386f71fef459c9",
       "style": "IPY_MODEL_16a0a785c08a4f329604b9d7b46e1730",
       "tooltips": [
        "Neutron",
        "Back Target Neutron",
        "Proton",
        "Deuteron",
        "Triton",
        "Helium-3",
        "Helium-4"
       ]
      }
     },
     "fb2e1b8ea9c74243b274d3c0c73fb9f8": {
      "model_module": "@jupyter-widgets/base",
      "model_module_version": "1.0.0",
      "model_name": "LayoutModel",
      "state": {}
     },
     "fb46bc84044a4051b90c55b7d4fbb1ab": {
      "model_module": "@jupyter-widgets/controls",
      "model_module_version": "1.1.0",
      "model_name": "DescriptionStyleModel",
      "state": {
       "description_width": ""
      }
     },
     "fb4e6dcac5164de5891986bbceb3509d": {
      "model_module": "@jupyter-widgets/base",
      "model_module_version": "1.0.0",
      "model_name": "LayoutModel",
      "state": {}
     },
     "fbac0d7df1d84bce9086128e146d7b02": {
      "model_module": "@jupyter-widgets/controls",
      "model_module_version": "1.1.0",
      "model_name": "ToggleButtonsModel",
      "state": {
       "_options_labels": [
        "N (¹n)",
        "NDC (¹n)",
        "P (¹H)",
        "D (²H)"
       ],
       "button_style": "",
       "description": "Type:",
       "icons": [],
       "index": 2,
       "layout": "IPY_MODEL_03fbf2b260454a4aba02e0841a431c22",
       "style": "IPY_MODEL_e66423a8657740bf85d4739442117038",
       "tooltips": [
        "Neutron",
        "Back Target Neutron",
        "Proton",
        "Deuteron"
       ]
      }
     },
     "fc21e1f76d594bbfb368d28398b75880": {
      "model_module": "@jupyter-widgets/controls",
      "model_module_version": "1.1.0",
      "model_name": "CheckboxModel",
      "state": {
       "description": "Experiment",
       "disabled": false,
       "layout": "IPY_MODEL_312d0650ec004f909b6f98ff9ccc158f",
       "style": "IPY_MODEL_ceb39673d4414fd298cd7f6f4aec66f0",
       "value": true
      }
     },
     "fc5e76d7b0d54b7fb864f43147295e4d": {
      "model_module": "@jupyter-widgets/controls",
      "model_module_version": "1.1.0",
      "model_name": "ToggleButtonsStyleModel",
      "state": {
       "button_width": "",
       "description_width": ""
      }
     },
     "fc5ff637033d46a79d10c9f739554db6": {
      "model_module": "@jupyter-widgets/controls",
      "model_module_version": "1.1.0",
      "model_name": "CheckboxModel",
      "state": {
       "description": "10°",
       "disabled": false,
       "layout": "IPY_MODEL_e125556179c24374bb636b9f57260100",
       "style": "IPY_MODEL_0e7c74024ab7459c89e88c6a6c6d58c7",
       "value": true
      }
     },
     "fca467fbacda4366ac6d71ccd5b56cfc": {
      "model_module": "@jupyter-widgets/base",
      "model_module_version": "1.0.0",
      "model_name": "LayoutModel",
      "state": {}
     },
     "fcdc8c835ef542a39bbe81e117c15446": {
      "model_module": "@jupyter-widgets/controls",
      "model_module_version": "1.1.0",
      "model_name": "DescriptionStyleModel",
      "state": {
       "description_width": ""
      }
     },
     "fd601da03285408d9dab1b4e589015f8": {
      "model_module": "@jupyter-widgets/base",
      "model_module_version": "1.0.0",
      "model_name": "LayoutModel",
      "state": {}
     },
     "fe14d7b10f2e4a5c8d43b25464f2f8af": {
      "model_module": "@jupyter-widgets/base",
      "model_module_version": "1.0.0",
      "model_name": "LayoutModel",
      "state": {}
     },
     "fe1c6ef13b8c446280dbc572670306df": {
      "model_module": "@jupyter-widgets/controls",
      "model_module_version": "1.1.0",
      "model_name": "ToggleButtonsModel",
      "state": {
       "_options_labels": [
        "N (¹n)",
        "NDC (¹n)",
        "P (¹H)",
        "D (²H)",
        "T (³H)",
        "S (³He)",
        "A (⁴He)"
       ],
       "button_style": "",
       "description": "Type:",
       "icons": [],
       "index": 0,
       "layout": "IPY_MODEL_cc5a322d499e45ec875485585e0187e8",
       "style": "IPY_MODEL_377f418dbd6a41b9b98c2d82f062e64e",
       "tooltips": [
        "Neutron",
        "Back Target Neutron",
        "Proton",
        "Deuteron",
        "Triton",
        "Helium-3",
        "Helium-4"
       ]
      }
     },
     "fe1d1e90130247ac8121c825e79cb174": {
      "model_module": "@jupyter-widgets/controls",
      "model_module_version": "1.1.0",
      "model_name": "DescriptionStyleModel",
      "state": {
       "description_width": ""
      }
     },
     "fe443f51af184df68b3c56cf06f77457": {
      "model_module": "@jupyter-widgets/controls",
      "model_module_version": "1.1.0",
      "model_name": "DescriptionStyleModel",
      "state": {
       "description_width": ""
      }
     },
     "feb773bb2249497ab65e8cae32c67021": {
      "model_module": "@jupyter-widgets/base",
      "model_module_version": "1.0.0",
      "model_name": "LayoutModel",
      "state": {}
     },
     "fee1b4be948d47cb972a0796e53ef5ad": {
      "model_module": "@jupyter-widgets/controls",
      "model_module_version": "1.1.0",
      "model_name": "CheckboxModel",
      "state": {
       "description": "10°",
       "disabled": false,
       "layout": "IPY_MODEL_2592cff594e84589b5bf39c835496b59",
       "style": "IPY_MODEL_35808e4c571c4f76a4628148a7a69c54",
       "value": true
      }
     },
     "ff0752d0085a4a8693b2646507320ce7": {
      "model_module": "@jupyter-widgets/base",
      "model_module_version": "1.0.0",
      "model_name": "LayoutModel",
      "state": {}
     },
     "ff286a067c23439a868c7e18520be3c3": {
      "model_module": "@jupyter-widgets/base",
      "model_module_version": "1.0.0",
      "model_name": "LayoutModel",
      "state": {}
     },
     "ff2f94b2546b423daf13837d3bd365ab": {
      "model_module": "@jupyter-widgets/controls",
      "model_module_version": "1.1.0",
      "model_name": "DescriptionStyleModel",
      "state": {
       "description_width": ""
      }
     },
     "ff356545a116431bb725754b20b707f1": {
      "model_module": "@jupyter-widgets/controls",
      "model_module_version": "1.1.0",
      "model_name": "CheckboxModel",
      "state": {
       "description": "Experiment",
       "disabled": false,
       "layout": "IPY_MODEL_a492ac76f1b94b6a9eb892afe1c19c06",
       "style": "IPY_MODEL_453f31976f1745da8fe67203caf87d15",
       "value": true
      }
     },
     "ff4624ac0a444ec2a1650e86cf483e1b": {
      "model_module": "@jupyter-widgets/controls",
      "model_module_version": "1.1.0",
      "model_name": "LabelModel",
      "state": {
       "layout": "IPY_MODEL_3390f09b3a6d4015a170c63a418e3897",
       "style": "IPY_MODEL_d7e0e5a003b4402f8fbab141e943e4c4",
       "value": "Select which sets of data to display."
      }
     },
     "ff5a7bc49d2c426bba829600c3d89560": {
      "model_module": "@jupyter-widgets/controls",
      "model_module_version": "1.1.0",
      "model_name": "CheckboxModel",
      "state": {
       "description": "60°",
       "disabled": false,
       "layout": "IPY_MODEL_a715567199b948ed9bf18629dce166b8",
       "style": "IPY_MODEL_d25f491b0e884a14a2edd32657745a70",
       "value": true
      }
     },
     "ff775fb71b26478da0e11f8d03b303f6": {
      "model_module": "@jupyter-widgets/base",
      "model_module_version": "1.0.0",
      "model_name": "LayoutModel",
      "state": {}
     },
     "ffc0f64b49c84d55873df730ed3f2593": {
      "model_module": "@jupyter-widgets/base",
      "model_module_version": "1.0.0",
      "model_name": "LayoutModel",
      "state": {}
     },
     "ffd7ce5689fb467b967c87d2b0dcf965": {
      "model_module": "@jupyter-widgets/controls",
      "model_module_version": "1.1.0",
      "model_name": "ToggleButtonsStyleModel",
      "state": {
       "button_width": "",
       "description_width": ""
      }
     },
     "ffe283cda2964f5f85d8d9bed246eb8e": {
      "model_module": "@jupyter-widgets/controls",
      "model_module_version": "1.1.0",
      "model_name": "CheckboxModel",
      "state": {
       "description": "30°",
       "disabled": false,
       "layout": "IPY_MODEL_409f8d96f1b84958a16c4d20848f7289",
       "style": "IPY_MODEL_215b0b190f52448c9781d9b9d17ba7cd",
       "value": true
      }
     }
    },
    "version_major": 2,
    "version_minor": 0
   }
  }
 },
 "nbformat": 4,
 "nbformat_minor": 1
}
