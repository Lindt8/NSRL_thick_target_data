{
 "cells": [
  {
   "cell_type": "code",
   "execution_count": 1,
   "metadata": {},
   "outputs": [
    {
     "data": {
      "text/html": [
       "<script>\n",
       "  function code_toggle() {\n",
       "    if (code_shown){\n",
       "      $('div.input').hide('500');\n",
       "      $('#toggleButton').val('Show Code')\n",
       "    } else {\n",
       "      $('div.input').show('500');\n",
       "      $('#toggleButton').val('Hide Code')\n",
       "    }\n",
       "    code_shown = !code_shown\n",
       "  }\n",
       "\n",
       "  $( document ).ready(function(){\n",
       "    code_shown=false;\n",
       "    $('div.input').hide()\n",
       "  });\n",
       "</script>\n",
       "<form action=\"javascript:code_toggle()\"><input type=\"submit\" id=\"toggleButton\" value=\"Show Code\"></form>"
      ],
      "text/plain": [
       "<IPython.core.display.HTML object>"
      ]
     },
     "execution_count": 1,
     "metadata": {},
     "output_type": "execute_result"
    }
   ],
   "source": [
    "%matplotlib notebook\n",
    "from IPython.display import HTML\n",
    "import numpy as np\n",
    "import matplotlib.pyplot as plt\n",
    "from matplotlib.collections import PatchCollection\n",
    "from matplotlib.patches import Rectangle\n",
    "import re\n",
    "from IPython.display import display\n",
    "import ipywidgets as widgets\n",
    "from IPython.display import Javascript\n",
    "\n",
    "HTML('''<script>\n",
    "  function code_toggle() {\n",
    "    if (code_shown){\n",
    "      $('div.input').hide('500');\n",
    "      $('#toggleButton').val('Show Code')\n",
    "    } else {\n",
    "      $('div.input').show('500');\n",
    "      $('#toggleButton').val('Hide Code')\n",
    "    }\n",
    "    code_shown = !code_shown\n",
    "  }\n",
    "\n",
    "  $( document ).ready(function(){\n",
    "    code_shown=false;\n",
    "    $('div.input').hide()\n",
    "  });\n",
    "</script>\n",
    "<form action=\"javascript:code_toggle()\"><input type=\"submit\" id=\"toggleButton\" value=\"Show Code\"></form>''')\n"
   ]
  },
  {
   "cell_type": "code",
   "execution_count": 2,
   "metadata": {
    "scrolled": true
   },
   "outputs": [
    {
     "ename": "FileNotFoundError",
     "evalue": "[Errno 2] No such file or directory: 'metadata_matrix_v7b.npy'",
     "output_type": "error",
     "traceback": [
      "\u001b[1;31m---------------------------------------------------------------------------\u001b[0m",
      "\u001b[1;31mFileNotFoundError\u001b[0m                         Traceback (most recent call last)",
      "\u001b[1;32m<ipython-input-2-1754392389ce>\u001b[0m in \u001b[0;36m<module>\u001b[1;34m()\u001b[0m\n\u001b[0;32m     54\u001b[0m \u001b[1;33m\u001b[0m\u001b[0m\n\u001b[0;32m     55\u001b[0m \u001b[0mmetadata_file\u001b[0m \u001b[1;33m=\u001b[0m \u001b[1;34m'metadata_matrix_'\u001b[0m \u001b[1;33m+\u001b[0m \u001b[0mdata_version\u001b[0m \u001b[1;33m+\u001b[0m \u001b[1;34m'.npy'\u001b[0m\u001b[1;33m\u001b[0m\u001b[0m\n\u001b[1;32m---> 56\u001b[1;33m \u001b[0mmm_metadata\u001b[0m \u001b[1;33m=\u001b[0m \u001b[0mnp\u001b[0m\u001b[1;33m.\u001b[0m\u001b[0mload\u001b[0m\u001b[1;33m(\u001b[0m\u001b[0mmetadata_file\u001b[0m\u001b[1;33m)\u001b[0m \u001b[1;31m# data set, ion species, ion energy, target material, target thickness, secondary particle, detector, header meta data\u001b[0m\u001b[1;33m\u001b[0m\u001b[0m\n\u001b[0m\u001b[0;32m     57\u001b[0m \u001b[0mexists_file\u001b[0m \u001b[1;33m=\u001b[0m \u001b[1;34m'exists_matrix_'\u001b[0m \u001b[1;33m+\u001b[0m \u001b[0mdata_version\u001b[0m \u001b[1;33m+\u001b[0m \u001b[1;34m'.npy'\u001b[0m\u001b[1;33m\u001b[0m\u001b[0m\n\u001b[0;32m     58\u001b[0m \u001b[0mmm_exists\u001b[0m \u001b[1;33m=\u001b[0m \u001b[0mnp\u001b[0m\u001b[1;33m.\u001b[0m\u001b[0mload\u001b[0m\u001b[1;33m(\u001b[0m\u001b[0mexists_file\u001b[0m\u001b[1;33m)\u001b[0m \u001b[1;31m# data set, ion species, ion energy, target material, target thickness, secondary particle, detector\u001b[0m\u001b[1;33m\u001b[0m\u001b[0m\n",
      "\u001b[1;32m~\\Anaconda3\\lib\\site-packages\\numpy\\lib\\npyio.py\u001b[0m in \u001b[0;36mload\u001b[1;34m(file, mmap_mode, allow_pickle, fix_imports, encoding)\u001b[0m\n\u001b[0;32m    368\u001b[0m     \u001b[0mown_fid\u001b[0m \u001b[1;33m=\u001b[0m \u001b[1;32mFalse\u001b[0m\u001b[1;33m\u001b[0m\u001b[0m\n\u001b[0;32m    369\u001b[0m     \u001b[1;32mif\u001b[0m \u001b[0misinstance\u001b[0m\u001b[1;33m(\u001b[0m\u001b[0mfile\u001b[0m\u001b[1;33m,\u001b[0m \u001b[0mbasestring\u001b[0m\u001b[1;33m)\u001b[0m\u001b[1;33m:\u001b[0m\u001b[1;33m\u001b[0m\u001b[0m\n\u001b[1;32m--> 370\u001b[1;33m         \u001b[0mfid\u001b[0m \u001b[1;33m=\u001b[0m \u001b[0mopen\u001b[0m\u001b[1;33m(\u001b[0m\u001b[0mfile\u001b[0m\u001b[1;33m,\u001b[0m \u001b[1;34m\"rb\"\u001b[0m\u001b[1;33m)\u001b[0m\u001b[1;33m\u001b[0m\u001b[0m\n\u001b[0m\u001b[0;32m    371\u001b[0m         \u001b[0mown_fid\u001b[0m \u001b[1;33m=\u001b[0m \u001b[1;32mTrue\u001b[0m\u001b[1;33m\u001b[0m\u001b[0m\n\u001b[0;32m    372\u001b[0m     \u001b[1;32melif\u001b[0m \u001b[0mis_pathlib_path\u001b[0m\u001b[1;33m(\u001b[0m\u001b[0mfile\u001b[0m\u001b[1;33m)\u001b[0m\u001b[1;33m:\u001b[0m\u001b[1;33m\u001b[0m\u001b[0m\n",
      "\u001b[1;31mFileNotFoundError\u001b[0m: [Errno 2] No such file or directory: 'metadata_matrix_v7b.npy'"
     ]
    }
   ],
   "source": [
    "def find(target, myList):\n",
    "    for i in range(len(myList)):\n",
    "        if myList[i] == target:\n",
    "            return i       \n",
    "\n",
    "def on_click(change):\n",
    "    #display(Javascript('IPython.notebook.execute_cells_below()'))  \n",
    "    #display(Javascript('IPython.notebook.execute_cell_range(IPython.notebook.get_selected_index()+1, IPython.notebook.ncells())'))\n",
    "    #display(Javascript('IPython.notebook.execute_cell_range(IPython.notebook.get_selected_index()+1, 6)'))\n",
    "    display(Javascript('IPython.notebook.execute_cells'))\n",
    "\n",
    "def on_click_next(change):\n",
    "    display(Javascript('IPython.notebook.execute_cells([IPython.notebook.get_selected_index()+1])'))\n",
    "    \n",
    "def on_click_7(change):\n",
    "    display(Javascript('IPython.notebook.execute_cells([7])'))\n",
    "\n",
    "def on_click_67(change):\n",
    "    display(Javascript('IPython.notebook.execute_cells([6,7])'))\n",
    "    \n",
    "def on_click_next_67(change):\n",
    "    display(Javascript('IPython.notebook.execute_cells([IPython.notebook.get_selected_index()+1,6,7])'))\n",
    "    \n",
    "# Function to plot error boxes\n",
    "def makeErrorBoxes(xdata,ydata,xerror,yerror,fc='None',ec='k',alpha=1.0,lw=1):\n",
    "    # Create list for all the error patches\n",
    "    errorboxes = []\n",
    "\n",
    "    # Loop over data points; create box from errors at each point\n",
    "    for xc,yc,xe,ye in zip(xdata,ydata,xerror.T,yerror.T):\n",
    "        rect = Rectangle((xc-xe[0],yc-ye[0]),xe.sum(),ye.sum())\n",
    "        errorboxes.append(rect)\n",
    "\n",
    "    # Create patch collection with specified colour/alpha\n",
    "    pc = PatchCollection(errorboxes,facecolor=fc,alpha=alpha,edgecolor=ec,linewidth=lw)\n",
    "\n",
    "    # Add collection to axes\n",
    "    ax.add_collection(pc)    \n",
    "\n",
    "def detector_colors(di):\n",
    "    #colors_list = ['b','g','r','c','m','y'] # Python 3 old default\n",
    "    #colors_list = ['#b2182b','#d6604d','#f4a582','#92c5de','#4393c3','#2166ac'] # blue to red cold\n",
    "    #colors_list = ['#d73027','#f46d43','#fdae61','#abd9e9','#74add1','#4575b4'] # blue to red warm\n",
    "    #colors_list = ['#762a83','#9970ab','#c2a5cf','#a6dba0','#5aae61','#1b7837'] # purple to green\n",
    "    #colors_list = ['#40004b','#762a83','#9970ab','#5aae61','#1b7837','#00441b'] # purple to green darker\n",
    "    #colors_list = [\"#afa83a\",\"#7f63b8\",\"#56ae6c\",\"#b84c7d\",\"#ac863f\",\"#b94d3d\"] # iWantHue 1\n",
    "    #colors_list = ['#1b9e77','#d95f02','#7570b3','#e7298a','#66a61e','#e6ab02'] # qualitative dark 1\n",
    "    colors_list = ['#e41a1c','#377eb8','#4daf4a','#984ea3','#ff7f00','#a65628'] # qualitative dark 2\n",
    "    return colors_list[di]\n",
    "    \n",
    "    \n",
    "    \n",
    "data_version = 'v7b'\n",
    "\n",
    "metadata_file = 'metadata_matrix_' + data_version + '.npy'\n",
    "mm_metadata = np.load(metadata_file) # data set, ion species, ion energy, target material, target thickness, secondary particle, detector, header meta data\n",
    "exists_file = 'exists_matrix_' + data_version + '.npy'\n",
    "mm_exists = np.load(exists_file) # data set, ion species, ion energy, target material, target thickness, secondary particle, detector\n",
    "\n",
    "#values_file = 'values_matrix_' + data_version + '.npy'\n",
    "#mm_values = np.load(values_file) # data set, ion species, ion energy, target material, target thickness, secondary particle, detector, column values, energy bins\n",
    "\n",
    "#print(mm_metadata[0,0,0,0,0,0,0,0])\n",
    "\n",
    "projectile_sym_str = ['H', 'He', 'C', 'Si', 'Fe']\n",
    "projectile_longnames_str = ['Hydrogen', 'Helium', 'Carbon', 'Silicon', 'Iron']\n",
    "\n",
    "mm_values_names_list = []\n",
    "for i in range(5):\n",
    "    mm_values_names_list.append('values_matrix_' + projectile_sym_str[i].lower() + \"_\" + data_version + '.npy')\n",
    "\n",
    "is_label = widgets.Label(value=\"Select projectile ion species and energy.\")\n",
    "    \n",
    "ion_species = widgets.ToggleButtons(\n",
    "    options=projectile_sym_str,\n",
    "    description='Ion:',\n",
    "    disabled=False,\n",
    "    button_style='', # 'success', 'info', 'warning', 'danger' or ''\n",
    "    tooltips=projectile_longnames_str,\n",
    "#     icons=['check'] * 5\n",
    ")\n",
    "\n",
    "ion_species.observe(on_click_next_67, 'value')\n",
    "display(is_label,ion_species)\n"
   ]
  },
  {
   "cell_type": "code",
   "execution_count": null,
   "metadata": {},
   "outputs": [],
   "source": [
    "isi = find(ion_species.value,projectile_sym_str)\n",
    "mm_values = np.load(mm_values_names_list[isi])\n",
    "\n",
    "def erg_options(isi):\n",
    "    if isi == 0:\n",
    "        proj_E = ['400 MeV','800 MeV','2500 MeV']\n",
    "    else:\n",
    "        proj_E = ['400 MeV/n','800 MeV/n','1500 MeV/n']\n",
    "    return proj_E\n",
    "\n",
    "Projectile_E_tooltips = ['lowest energy','middle energy', 'highest energy']\n",
    "\n",
    "ie_label = widgets.Label(value=\"Select projectile ion energy.\")\n",
    "\n",
    "ion_energy = widgets.ToggleButtons(\n",
    "    options=erg_options(isi),\n",
    "    description='Energy:',\n",
    "    disabled=False,\n",
    "    button_style='', # 'success', 'info', 'warning', 'danger' or ''\n",
    "    tooltips=Projectile_E_tooltips,\n",
    "#     icons=['check'] * 5\n",
    ")\n",
    "\n",
    "ion_energy.observe(on_click_67, 'value')\n",
    "#display(ie_label, ion_energy)\n",
    "display(ion_energy)\n"
   ]
  },
  {
   "cell_type": "code",
   "execution_count": 3,
   "metadata": {},
   "outputs": [
    {
     "ename": "NameError",
     "evalue": "name 'ion_species' is not defined",
     "output_type": "error",
     "traceback": [
      "\u001b[1;31m---------------------------------------------------------------------------\u001b[0m",
      "\u001b[1;31mNameError\u001b[0m                                 Traceback (most recent call last)",
      "\u001b[1;32m<ipython-input-3-bf306133c5a1>\u001b[0m in \u001b[0;36m<module>\u001b[1;34m()\u001b[0m\n\u001b[1;32m----> 1\u001b[1;33m \u001b[0misi\u001b[0m \u001b[1;33m=\u001b[0m \u001b[0mfind\u001b[0m\u001b[1;33m(\u001b[0m\u001b[0mion_species\u001b[0m\u001b[1;33m.\u001b[0m\u001b[0mvalue\u001b[0m\u001b[1;33m,\u001b[0m\u001b[0mprojectile_sym_str\u001b[0m\u001b[1;33m)\u001b[0m\u001b[1;33m\u001b[0m\u001b[0m\n\u001b[0m\u001b[0;32m      2\u001b[0m \u001b[0miei\u001b[0m \u001b[1;33m=\u001b[0m \u001b[0mfind\u001b[0m\u001b[1;33m(\u001b[0m\u001b[0mion_energy\u001b[0m\u001b[1;33m.\u001b[0m\u001b[0mvalue\u001b[0m\u001b[1;33m,\u001b[0m\u001b[0merg_options\u001b[0m\u001b[1;33m(\u001b[0m\u001b[0misi\u001b[0m\u001b[1;33m)\u001b[0m\u001b[1;33m)\u001b[0m\u001b[1;33m\u001b[0m\u001b[0m\n\u001b[0;32m      3\u001b[0m \u001b[1;33m\u001b[0m\u001b[0m\n\u001b[0;32m      4\u001b[0m \u001b[0mtarget_mats_long\u001b[0m \u001b[1;33m=\u001b[0m \u001b[1;33m[\u001b[0m\u001b[1;34m'Aluminum'\u001b[0m\u001b[1;33m,\u001b[0m\u001b[1;34m'Polyethylene'\u001b[0m\u001b[1;33m,\u001b[0m\u001b[1;34m'Combination of Al and HDPE'\u001b[0m\u001b[1;33m]\u001b[0m\u001b[1;33m\u001b[0m\u001b[0m\n\u001b[0;32m      5\u001b[0m \u001b[0mtarget_mats_short\u001b[0m \u001b[1;33m=\u001b[0m \u001b[1;33m[\u001b[0m\u001b[1;34m'Al'\u001b[0m\u001b[1;33m,\u001b[0m\u001b[1;34m'HDPE'\u001b[0m\u001b[1;33m,\u001b[0m\u001b[1;34m'AlPE'\u001b[0m\u001b[1;33m]\u001b[0m\u001b[1;33m\u001b[0m\u001b[0m\n",
      "\u001b[1;31mNameError\u001b[0m: name 'ion_species' is not defined"
     ]
    }
   ],
   "source": [
    "isi = find(ion_species.value,projectile_sym_str)\n",
    "iei = find(ion_energy.value,erg_options(isi))\n",
    "\n",
    "target_mats_long = ['Aluminum','Polyethylene','Combination of Al and HDPE']\n",
    "target_mats_short = ['Al','HDPE','AlPE']\n",
    "\n",
    "tm_label = widgets.Label(value=\"Select upstream target material and thickness.\")\n",
    "\n",
    "target_material = widgets.ToggleButtons(\n",
    "    options=target_mats_short,\n",
    "    description='Material:',\n",
    "    disabled=False,\n",
    "    button_style='', # 'success', 'info', 'warning', 'danger' or ''\n",
    "    tooltips=target_mats_long,\n",
    "#     icons=['check'] * 3\n",
    ")\n",
    "\n",
    "target_material.observe(on_click_next_67, 'value')\n",
    "display(tm_label, target_material)"
   ]
  },
  {
   "cell_type": "code",
   "execution_count": 4,
   "metadata": {},
   "outputs": [
    {
     "ename": "NameError",
     "evalue": "name 'ion_species' is not defined",
     "output_type": "error",
     "traceback": [
      "\u001b[1;31m---------------------------------------------------------------------------\u001b[0m",
      "\u001b[1;31mNameError\u001b[0m                                 Traceback (most recent call last)",
      "\u001b[1;32m<ipython-input-4-3f42b09dc577>\u001b[0m in \u001b[0;36m<module>\u001b[1;34m()\u001b[0m\n\u001b[1;32m----> 1\u001b[1;33m \u001b[0misi\u001b[0m \u001b[1;33m=\u001b[0m \u001b[0mfind\u001b[0m\u001b[1;33m(\u001b[0m\u001b[0mion_species\u001b[0m\u001b[1;33m.\u001b[0m\u001b[0mvalue\u001b[0m\u001b[1;33m,\u001b[0m\u001b[0mprojectile_sym_str\u001b[0m\u001b[1;33m)\u001b[0m\u001b[1;33m\u001b[0m\u001b[0m\n\u001b[0m\u001b[0;32m      2\u001b[0m \u001b[0miei\u001b[0m \u001b[1;33m=\u001b[0m \u001b[0mfind\u001b[0m\u001b[1;33m(\u001b[0m\u001b[0mion_energy\u001b[0m\u001b[1;33m.\u001b[0m\u001b[0mvalue\u001b[0m\u001b[1;33m,\u001b[0m\u001b[0merg_options\u001b[0m\u001b[1;33m(\u001b[0m\u001b[0misi\u001b[0m\u001b[1;33m)\u001b[0m\u001b[1;33m)\u001b[0m\u001b[1;33m\u001b[0m\u001b[0m\n\u001b[0;32m      3\u001b[0m \u001b[0mftmi\u001b[0m \u001b[1;33m=\u001b[0m \u001b[0mfind\u001b[0m\u001b[1;33m(\u001b[0m\u001b[0mtarget_material\u001b[0m\u001b[1;33m.\u001b[0m\u001b[0mvalue\u001b[0m\u001b[1;33m,\u001b[0m\u001b[0mtarget_mats_short\u001b[0m\u001b[1;33m)\u001b[0m\u001b[1;33m\u001b[0m\u001b[0m\n\u001b[0;32m      4\u001b[0m \u001b[0mthicknesses\u001b[0m \u001b[1;33m=\u001b[0m \u001b[1;33m[\u001b[0m\u001b[1;34m'20 g/cm\\u00B2'\u001b[0m\u001b[1;33m,\u001b[0m\u001b[1;34m'40 g/cm\\u00B2'\u001b[0m\u001b[1;33m,\u001b[0m\u001b[1;34m'60 g/cm\\u00B2'\u001b[0m\u001b[1;33m]\u001b[0m\u001b[1;33m\u001b[0m\u001b[0m\n\u001b[0;32m      5\u001b[0m \u001b[1;32mdef\u001b[0m \u001b[0mthickness_options\u001b[0m\u001b[1;33m(\u001b[0m\u001b[0mftmi\u001b[0m\u001b[1;33m)\u001b[0m\u001b[1;33m:\u001b[0m\u001b[1;33m\u001b[0m\u001b[0m\n",
      "\u001b[1;31mNameError\u001b[0m: name 'ion_species' is not defined"
     ]
    }
   ],
   "source": [
    "isi = find(ion_species.value,projectile_sym_str)\n",
    "iei = find(ion_energy.value,erg_options(isi))\n",
    "ftmi = find(target_material.value,target_mats_short)\n",
    "thicknesses = ['20 g/cm\\u00B2','40 g/cm\\u00B2','60 g/cm\\u00B2']\n",
    "def thickness_options(ftmi):\n",
    "    if ftmi == 2:\n",
    "        thicknesses = ['20 g/cm\\u00B2','60 g/cm\\u00B2']\n",
    "        thick_mouseover = ['10 g/cm\\u00B2 Al upstream + 10 g/cm\\u00B2 HDPE downstream','10 g/cm\\u00B2 Al upstream + 50 g/cm\\u00B2 HDPE downstream']\n",
    "    else:\n",
    "        thicknesses = ['20 g/cm\\u00B2','40 g/cm\\u00B2','60 g/cm\\u00B2']\n",
    "        thick_mouseover = ['20 g/cm\\u00B2 '+target_mats_long[ftmi],'40 g/cm\\u00B2 '+target_mats_long[ftmi],'60 g/cm\\u00B2 '+target_mats_long[ftmi]]\n",
    "    return thicknesses, thick_mouseover\n",
    "\n",
    "tt_label = widgets.Label(value=\"Select upstream target mass thickness.\")\n",
    "\n",
    "target_thickness = widgets.ToggleButtons(\n",
    "    options=thickness_options(ftmi)[0],\n",
    "    description='Thickness:',\n",
    "    disabled=False,\n",
    "    button_style='', # 'success', 'info', 'warning', 'danger' or ''\n",
    "    tooltips=thickness_options(ftmi)[1],\n",
    "#     icons=['check'] * 3\n",
    ")\n",
    "\n",
    "target_thickness.observe(on_click_67, 'value')\n",
    "#display(tt_label, target_thickness)\n",
    "display(target_thickness)"
   ]
  },
  {
   "cell_type": "code",
   "execution_count": 5,
   "metadata": {},
   "outputs": [
    {
     "ename": "NameError",
     "evalue": "name 'ion_species' is not defined",
     "output_type": "error",
     "traceback": [
      "\u001b[1;31m---------------------------------------------------------------------------\u001b[0m",
      "\u001b[1;31mNameError\u001b[0m                                 Traceback (most recent call last)",
      "\u001b[1;32m<ipython-input-5-06a3defa9d64>\u001b[0m in \u001b[0;36m<module>\u001b[1;34m()\u001b[0m\n\u001b[1;32m----> 1\u001b[1;33m \u001b[0misi\u001b[0m \u001b[1;33m=\u001b[0m \u001b[0mfind\u001b[0m\u001b[1;33m(\u001b[0m\u001b[0mion_species\u001b[0m\u001b[1;33m.\u001b[0m\u001b[0mvalue\u001b[0m\u001b[1;33m,\u001b[0m\u001b[0mprojectile_sym_str\u001b[0m\u001b[1;33m)\u001b[0m\u001b[1;33m\u001b[0m\u001b[0m\n\u001b[0m\u001b[0;32m      2\u001b[0m \u001b[0miei\u001b[0m \u001b[1;33m=\u001b[0m \u001b[0mfind\u001b[0m\u001b[1;33m(\u001b[0m\u001b[0mion_energy\u001b[0m\u001b[1;33m.\u001b[0m\u001b[0mvalue\u001b[0m\u001b[1;33m,\u001b[0m\u001b[0merg_options\u001b[0m\u001b[1;33m(\u001b[0m\u001b[0misi\u001b[0m\u001b[1;33m)\u001b[0m\u001b[1;33m)\u001b[0m\u001b[1;33m\u001b[0m\u001b[0m\n\u001b[0;32m      3\u001b[0m \u001b[0mftmi\u001b[0m \u001b[1;33m=\u001b[0m \u001b[0mfind\u001b[0m\u001b[1;33m(\u001b[0m\u001b[0mtarget_material\u001b[0m\u001b[1;33m.\u001b[0m\u001b[0mvalue\u001b[0m\u001b[1;33m,\u001b[0m\u001b[0mtarget_mats_short\u001b[0m\u001b[1;33m)\u001b[0m\u001b[1;33m\u001b[0m\u001b[0m\n\u001b[0;32m      4\u001b[0m \u001b[0mftti\u001b[0m \u001b[1;33m=\u001b[0m \u001b[0mfind\u001b[0m\u001b[1;33m(\u001b[0m\u001b[0mtarget_thickness\u001b[0m\u001b[1;33m.\u001b[0m\u001b[0mvalue\u001b[0m\u001b[1;33m,\u001b[0m\u001b[0mthicknesses\u001b[0m\u001b[1;33m)\u001b[0m\u001b[1;33m\u001b[0m\u001b[0m\n\u001b[0;32m      5\u001b[0m \u001b[1;33m\u001b[0m\u001b[0m\n",
      "\u001b[1;31mNameError\u001b[0m: name 'ion_species' is not defined"
     ]
    }
   ],
   "source": [
    "isi = find(ion_species.value,projectile_sym_str)\n",
    "iei = find(ion_energy.value,erg_options(isi))\n",
    "ftmi = find(target_material.value,target_mats_short)\n",
    "ftti = find(target_thickness.value,thicknesses)\n",
    "\n",
    "detectors_short = ['OLS','NaI']\n",
    "detectors_long = ['Organic Liquid Scintillator','Sodium Iodide']\n",
    "\n",
    "dt_label = widgets.Label(value=\"Select a detector type.\")\n",
    "\n",
    "detector_type = widgets.ToggleButtons(\n",
    "    options=detectors_short,\n",
    "    description='Type:',\n",
    "    disabled=False,\n",
    "    button_style='', # 'success', 'info', 'warning', 'danger' or ''\n",
    "    tooltips=detectors_long,\n",
    "#     icons=['check'] * 3\n",
    ")\n",
    "\n",
    "detector_type.observe(on_click_67, 'value')\n",
    "display(dt_label,detector_type)"
   ]
  },
  {
   "cell_type": "code",
   "execution_count": 6,
   "metadata": {},
   "outputs": [
    {
     "ename": "NameError",
     "evalue": "name 'ion_species' is not defined",
     "output_type": "error",
     "traceback": [
      "\u001b[1;31m---------------------------------------------------------------------------\u001b[0m",
      "\u001b[1;31mNameError\u001b[0m                                 Traceback (most recent call last)",
      "\u001b[1;32m<ipython-input-6-0e5171f73044>\u001b[0m in \u001b[0;36m<module>\u001b[1;34m()\u001b[0m\n\u001b[1;32m----> 1\u001b[1;33m \u001b[0misi\u001b[0m \u001b[1;33m=\u001b[0m \u001b[0mfind\u001b[0m\u001b[1;33m(\u001b[0m\u001b[0mion_species\u001b[0m\u001b[1;33m.\u001b[0m\u001b[0mvalue\u001b[0m\u001b[1;33m,\u001b[0m\u001b[0mprojectile_sym_str\u001b[0m\u001b[1;33m)\u001b[0m\u001b[1;33m\u001b[0m\u001b[0m\n\u001b[0m\u001b[0;32m      2\u001b[0m \u001b[0miei\u001b[0m \u001b[1;33m=\u001b[0m \u001b[0mfind\u001b[0m\u001b[1;33m(\u001b[0m\u001b[0mion_energy\u001b[0m\u001b[1;33m.\u001b[0m\u001b[0mvalue\u001b[0m\u001b[1;33m,\u001b[0m\u001b[0merg_options\u001b[0m\u001b[1;33m(\u001b[0m\u001b[0misi\u001b[0m\u001b[1;33m)\u001b[0m\u001b[1;33m)\u001b[0m\u001b[1;33m\u001b[0m\u001b[0m\n\u001b[0;32m      3\u001b[0m \u001b[0mftmi\u001b[0m \u001b[1;33m=\u001b[0m \u001b[0mfind\u001b[0m\u001b[1;33m(\u001b[0m\u001b[0mtarget_material\u001b[0m\u001b[1;33m.\u001b[0m\u001b[0mvalue\u001b[0m\u001b[1;33m,\u001b[0m\u001b[0mtarget_mats_short\u001b[0m\u001b[1;33m)\u001b[0m\u001b[1;33m\u001b[0m\u001b[0m\n\u001b[0;32m      4\u001b[0m \u001b[0mftti\u001b[0m \u001b[1;33m=\u001b[0m \u001b[0mfind\u001b[0m\u001b[1;33m(\u001b[0m\u001b[0mtarget_thickness\u001b[0m\u001b[1;33m.\u001b[0m\u001b[0mvalue\u001b[0m\u001b[1;33m,\u001b[0m\u001b[0mthicknesses\u001b[0m\u001b[1;33m)\u001b[0m\u001b[1;33m\u001b[0m\u001b[0m\n\u001b[0;32m      5\u001b[0m \u001b[0mdetti\u001b[0m \u001b[1;33m=\u001b[0m \u001b[0mfind\u001b[0m\u001b[1;33m(\u001b[0m\u001b[0mdetector_type\u001b[0m\u001b[1;33m.\u001b[0m\u001b[0mvalue\u001b[0m\u001b[1;33m,\u001b[0m\u001b[0mdetectors_short\u001b[0m\u001b[1;33m)\u001b[0m\u001b[1;33m\u001b[0m\u001b[0m\n",
      "\u001b[1;31mNameError\u001b[0m: name 'ion_species' is not defined"
     ]
    }
   ],
   "source": [
    "isi = find(ion_species.value,projectile_sym_str)\n",
    "iei = find(ion_energy.value,erg_options(isi))\n",
    "ftmi = find(target_material.value,target_mats_short)\n",
    "ftti = find(target_thickness.value,thicknesses)\n",
    "detti = find(detector_type.value,detectors_short)\n",
    "if detti==1: \n",
    "    add2deti = 6 # offset in matrix for NaI detectors\n",
    "else:\n",
    "    add2deti = 0 \n",
    "\n",
    "# See which secondary particles exist\n",
    "existing_pars_i = []\n",
    "for i in range(np.shape(mm_exists[0,isi,iei,ftmi,ftti,:,add2deti:(add2deti+6)])[0]):\n",
    "    if np.any(mm_exists[0,isi,iei,ftmi,ftti,i,add2deti:(add2deti+6)]):\n",
    "        existing_pars_i.append(i)\n",
    "        \n",
    "particles_long = ['Neutron','Back Target Neutron','Proton','Deuteron','Triton','Helium-3','Helium-4'] # second 'Neutron' can be renamed to specify deconvoluted origin\n",
    "particles_short = ['N','NDC','H','D','T','S','A']\n",
    "particles_med = ['N (\\u00B9n)','NDC (\\u00B9n)','P (\\u00B9H)','D (\\u00B2H)','T (\\u00B3H)','S (\\u00B3He)','A (\\u2074He)']\n",
    "\n",
    "present_pars_long = [particles_long[i] for i in existing_pars_i]\n",
    "present_pars_med = [particles_med[i] for i in existing_pars_i]\n",
    "\n",
    "sp_label = widgets.Label(value=\"Select which secondary particle to plot spectra for.\")\n",
    "\n",
    "secondary_particle = widgets.ToggleButtons(\n",
    "    options=present_pars_med,\n",
    "    description='Particle:',\n",
    "    disabled=False,\n",
    "    button_style='', # 'success', 'info', 'warning', 'danger' or ''\n",
    "    tooltips=present_pars_long,\n",
    "#     icons=['check'] * 3\n",
    ")\n",
    "\n",
    "secondary_particle.observe(on_click_next, 'value')\n",
    "display(sp_label,secondary_particle)\n"
   ]
  },
  {
   "cell_type": "code",
   "execution_count": 7,
   "metadata": {},
   "outputs": [
    {
     "ename": "NameError",
     "evalue": "name 'ion_species' is not defined",
     "output_type": "error",
     "traceback": [
      "\u001b[1;31m---------------------------------------------------------------------------\u001b[0m",
      "\u001b[1;31mNameError\u001b[0m                                 Traceback (most recent call last)",
      "\u001b[1;32m<ipython-input-7-03de0c42cbe5>\u001b[0m in \u001b[0;36m<module>\u001b[1;34m()\u001b[0m\n\u001b[1;32m----> 1\u001b[1;33m \u001b[0misi\u001b[0m \u001b[1;33m=\u001b[0m \u001b[0mfind\u001b[0m\u001b[1;33m(\u001b[0m\u001b[0mion_species\u001b[0m\u001b[1;33m.\u001b[0m\u001b[0mvalue\u001b[0m\u001b[1;33m,\u001b[0m\u001b[0mprojectile_sym_str\u001b[0m\u001b[1;33m)\u001b[0m\u001b[1;33m\u001b[0m\u001b[0m\n\u001b[0m\u001b[0;32m      2\u001b[0m \u001b[0miei\u001b[0m \u001b[1;33m=\u001b[0m \u001b[0mfind\u001b[0m\u001b[1;33m(\u001b[0m\u001b[0mion_energy\u001b[0m\u001b[1;33m.\u001b[0m\u001b[0mvalue\u001b[0m\u001b[1;33m,\u001b[0m\u001b[0merg_options\u001b[0m\u001b[1;33m(\u001b[0m\u001b[0misi\u001b[0m\u001b[1;33m)\u001b[0m\u001b[1;33m)\u001b[0m\u001b[1;33m\u001b[0m\u001b[0m\n\u001b[0;32m      3\u001b[0m \u001b[0mftmi\u001b[0m \u001b[1;33m=\u001b[0m \u001b[0mfind\u001b[0m\u001b[1;33m(\u001b[0m\u001b[0mtarget_material\u001b[0m\u001b[1;33m.\u001b[0m\u001b[0mvalue\u001b[0m\u001b[1;33m,\u001b[0m\u001b[0mtarget_mats_short\u001b[0m\u001b[1;33m)\u001b[0m\u001b[1;33m\u001b[0m\u001b[0m\n\u001b[0;32m      4\u001b[0m \u001b[0mftti\u001b[0m \u001b[1;33m=\u001b[0m \u001b[0mfind\u001b[0m\u001b[1;33m(\u001b[0m\u001b[0mtarget_thickness\u001b[0m\u001b[1;33m.\u001b[0m\u001b[0mvalue\u001b[0m\u001b[1;33m,\u001b[0m\u001b[0mthicknesses\u001b[0m\u001b[1;33m)\u001b[0m\u001b[1;33m\u001b[0m\u001b[0m\n\u001b[0;32m      5\u001b[0m \u001b[0mdetti\u001b[0m \u001b[1;33m=\u001b[0m \u001b[0mfind\u001b[0m\u001b[1;33m(\u001b[0m\u001b[0mdetector_type\u001b[0m\u001b[1;33m.\u001b[0m\u001b[0mvalue\u001b[0m\u001b[1;33m,\u001b[0m\u001b[0mdetectors_short\u001b[0m\u001b[1;33m)\u001b[0m\u001b[1;33m\u001b[0m\u001b[0m\n",
      "\u001b[1;31mNameError\u001b[0m: name 'ion_species' is not defined"
     ]
    }
   ],
   "source": [
    "isi = find(ion_species.value,projectile_sym_str)\n",
    "iei = find(ion_energy.value,erg_options(isi))\n",
    "ftmi = find(target_material.value,target_mats_short)\n",
    "ftti = find(target_thickness.value,thicknesses)\n",
    "detti = find(detector_type.value,detectors_short)\n",
    "spi = find(secondary_particle.value,particles_med)\n",
    "\n",
    "detectors_angles = [['10\\u00B0','30\\u00B0','45\\u00B0','60\\u00B0','80\\u00B0','135\\u00B0'], ['7.2\\u00B0','10\\u00B0','12.7\\u00B0','28.2\\u00B0','30\\u00B0','32.7\\u00B0']]\n",
    "available_det_angles = []\n",
    "\n",
    "da_label = widgets.Label(value=\"Select the detector angles to plot.\")\n",
    "\n",
    "dets = []\n",
    "for i in range(6):\n",
    "    if mm_exists[0,isi,iei,ftmi,ftti,spi,(add2deti+i)]:\n",
    "        available_det_angles.append(detectors_angles[detti][i])\n",
    "        dets.append(widgets.Checkbox(\n",
    "            value=True,\n",
    "            description=detectors_angles[detti][i],\n",
    "            disabled=False\n",
    "        ))\n",
    "\n",
    "display(da_label)\n",
    "for i in range(len(dets)):\n",
    "    display(dets[i])"
   ]
  },
  {
   "cell_type": "code",
   "execution_count": 8,
   "metadata": {},
   "outputs": [
    {
     "ename": "NameError",
     "evalue": "name 'ion_species' is not defined",
     "output_type": "error",
     "traceback": [
      "\u001b[1;31m---------------------------------------------------------------------------\u001b[0m",
      "\u001b[1;31mNameError\u001b[0m                                 Traceback (most recent call last)",
      "\u001b[1;32m<ipython-input-8-18f5e23fb943>\u001b[0m in \u001b[0;36m<module>\u001b[1;34m()\u001b[0m\n\u001b[1;32m----> 1\u001b[1;33m \u001b[0misi\u001b[0m \u001b[1;33m=\u001b[0m \u001b[0mfind\u001b[0m\u001b[1;33m(\u001b[0m\u001b[0mion_species\u001b[0m\u001b[1;33m.\u001b[0m\u001b[0mvalue\u001b[0m\u001b[1;33m,\u001b[0m\u001b[0mprojectile_sym_str\u001b[0m\u001b[1;33m)\u001b[0m\u001b[1;33m\u001b[0m\u001b[0m\n\u001b[0m\u001b[0;32m      2\u001b[0m \u001b[0miei\u001b[0m \u001b[1;33m=\u001b[0m \u001b[0mfind\u001b[0m\u001b[1;33m(\u001b[0m\u001b[0mion_energy\u001b[0m\u001b[1;33m.\u001b[0m\u001b[0mvalue\u001b[0m\u001b[1;33m,\u001b[0m\u001b[0merg_options\u001b[0m\u001b[1;33m(\u001b[0m\u001b[0misi\u001b[0m\u001b[1;33m)\u001b[0m\u001b[1;33m)\u001b[0m\u001b[1;33m\u001b[0m\u001b[0m\n\u001b[0;32m      3\u001b[0m \u001b[0mftmi\u001b[0m \u001b[1;33m=\u001b[0m \u001b[0mfind\u001b[0m\u001b[1;33m(\u001b[0m\u001b[0mtarget_material\u001b[0m\u001b[1;33m.\u001b[0m\u001b[0mvalue\u001b[0m\u001b[1;33m,\u001b[0m\u001b[0mtarget_mats_short\u001b[0m\u001b[1;33m)\u001b[0m\u001b[1;33m\u001b[0m\u001b[0m\n\u001b[0;32m      4\u001b[0m \u001b[0mftti\u001b[0m \u001b[1;33m=\u001b[0m \u001b[0mfind\u001b[0m\u001b[1;33m(\u001b[0m\u001b[0mtarget_thickness\u001b[0m\u001b[1;33m.\u001b[0m\u001b[0mvalue\u001b[0m\u001b[1;33m,\u001b[0m\u001b[0mthicknesses\u001b[0m\u001b[1;33m)\u001b[0m\u001b[1;33m\u001b[0m\u001b[0m\n\u001b[0;32m      5\u001b[0m \u001b[0mdetti\u001b[0m \u001b[1;33m=\u001b[0m \u001b[0mfind\u001b[0m\u001b[1;33m(\u001b[0m\u001b[0mdetector_type\u001b[0m\u001b[1;33m.\u001b[0m\u001b[0mvalue\u001b[0m\u001b[1;33m,\u001b[0m\u001b[0mdetectors_short\u001b[0m\u001b[1;33m)\u001b[0m\u001b[1;33m\u001b[0m\u001b[0m\n",
      "\u001b[1;31mNameError\u001b[0m: name 'ion_species' is not defined"
     ]
    }
   ],
   "source": [
    "isi = find(ion_species.value,projectile_sym_str)\n",
    "iei = find(ion_energy.value,erg_options(isi))\n",
    "ftmi = find(target_material.value,target_mats_short)\n",
    "ftti = find(target_thickness.value,thicknesses)\n",
    "detti = find(detector_type.value,detectors_short)\n",
    "spi = find(secondary_particle.value,particles_med)\n",
    "\n",
    "det_angle_i_list = []\n",
    "for i in range(len(available_det_angles)):\n",
    "    if dets[i].value:\n",
    "        if detti == 0:\n",
    "            det_angle_i_list.append(find(available_det_angles[i],detectors_angles[detti]))\n",
    "        else:\n",
    "            det_angle_i_list.append(find(available_det_angles[i],detectors_angles[detti])+6) # for NaI\n",
    "\n",
    "ds_label = widgets.Label(value='Select which sets of data to display.')            \n",
    "\n",
    "data_set_names = ['Experiment','MCNP simulated','PHITS simulated']\n",
    "data_sets = []\n",
    "for i in range(3):\n",
    "    data_sets.append(widgets.Checkbox(\n",
    "        value=True,\n",
    "        description=data_set_names[i],\n",
    "        disabled=False\n",
    "    ))\n",
    "\n",
    "display(ds_label)\n",
    "for i in range(3):\n",
    "    display(data_sets[i])\n",
    "\n"
   ]
  },
  {
   "cell_type": "code",
   "execution_count": 11,
   "metadata": {},
   "outputs": [
    {
     "data": {
      "application/vnd.jupyter.widget-view+json": {
       "model_id": "18831149b5e545f7be2aa49e0f7c5e5f",
       "version_major": 2,
       "version_minor": 0
      },
      "text/html": [
       "<p>Failed to display Jupyter Widget of type <code>Label</code>.</p>\n",
       "<p>\n",
       "  If you're reading this message in the Jupyter Notebook or JupyterLab Notebook, it may mean\n",
       "  that the widgets JavaScript is still loading. If this message persists, it\n",
       "  likely means that the widgets JavaScript library is either not installed or\n",
       "  not enabled. See the <a href=\"https://ipywidgets.readthedocs.io/en/stable/user_install.html\">Jupyter\n",
       "  Widgets Documentation</a> for setup instructions.\n",
       "</p>\n",
       "<p>\n",
       "  If you're reading this message in another frontend (for example, a static\n",
       "  rendering on GitHub or <a href=\"https://nbviewer.jupyter.org/\">NBViewer</a>),\n",
       "  it may mean that your frontend doesn't currently support widgets.\n",
       "</p>\n"
      ],
      "text/plain": [
       "Label(value='Select how data sets for each detector should be spaced apart (if at all).')"
      ]
     },
     "metadata": {},
     "output_type": "display_data"
    },
    {
     "data": {
      "application/vnd.jupyter.widget-view+json": {
       "model_id": "616819b698344ad3ae9a4742862a6506",
       "version_major": 2,
       "version_minor": 0
      },
      "text/html": [
       "<p>Failed to display Jupyter Widget of type <code>ToggleButtons</code>.</p>\n",
       "<p>\n",
       "  If you're reading this message in the Jupyter Notebook or JupyterLab Notebook, it may mean\n",
       "  that the widgets JavaScript is still loading. If this message persists, it\n",
       "  likely means that the widgets JavaScript library is either not installed or\n",
       "  not enabled. See the <a href=\"https://ipywidgets.readthedocs.io/en/stable/user_install.html\">Jupyter\n",
       "  Widgets Documentation</a> for setup instructions.\n",
       "</p>\n",
       "<p>\n",
       "  If you're reading this message in another frontend (for example, a static\n",
       "  rendering on GitHub or <a href=\"https://nbviewer.jupyter.org/\">NBViewer</a>),\n",
       "  it may mean that your frontend doesn't currently support widgets.\n",
       "</p>\n"
      ],
      "text/plain": [
       "ToggleButtons(description='Spacing:', options=('None', 'Spaced by 10²'), tooltips=['All values are presented as is.', 'Plots for different detectors are multiplied by powers of 10² for easier viewing.'], value='None')"
      ]
     },
     "metadata": {},
     "output_type": "display_data"
    }
   ],
   "source": [
    "isi = find(ion_species.value,projectile_sym_str)\n",
    "iei = find(ion_energy.value,erg_options(isi))\n",
    "ftmi = find(target_material.value,target_mats_short)\n",
    "ftti = find(target_thickness.value,thicknesses)\n",
    "detti = find(detector_type.value,detectors_short)\n",
    "spi = find(secondary_particle.value,particles_med)\n",
    "\n",
    "det_angle_i_list = []\n",
    "for i in range(len(available_det_angles)):\n",
    "    if dets[i].value:\n",
    "        if detti == 0:\n",
    "            det_angle_i_list.append(find(available_det_angles[i],detectors_angles[detti]))\n",
    "        else:\n",
    "            det_angle_i_list.append(find(available_det_angles[i],detectors_angles[detti])+6) # for NaI\n",
    "            \n",
    "data_set_i_list = []\n",
    "for i in range(3):\n",
    "    if data_sets[i].value:\n",
    "        data_set_i_list.append(i)\n",
    "\n",
    "spacing_short = ['None','Spaced by 10\\u00B2']\n",
    "spacing_long = ['All values are presented as is.','Plots for different detectors are multiplied by powers of 10\\u00B2 for easier viewing.']\n",
    "\n",
    "spacing_label = widgets.Label(value='Select how data sets for each detector should be spaced apart (if at all).')  \n",
    "\n",
    "spacing_choice = widgets.ToggleButtons(\n",
    "    options=spacing_short,\n",
    "    description='Spacing:',\n",
    "    disabled=False,\n",
    "    button_style='', # 'success', 'info', 'warning', 'danger' or ''\n",
    "    tooltips=spacing_long,\n",
    "#     icons=['check'] * 3\n",
    ")\n",
    "\n",
    "spacing_choice.observe(on_click_next, 'value')\n",
    "display(spacing_label, spacing_choice)"
   ]
  },
  {
   "cell_type": "code",
   "execution_count": 12,
   "metadata": {},
   "outputs": [
    {
     "data": {
      "application/vnd.jupyter.widget-view+json": {
       "model_id": "11092f527e844917a4c6ca447d2df2dc",
       "version_major": 2,
       "version_minor": 0
      },
      "text/html": [
       "<p>Failed to display Jupyter Widget of type <code>Button</code>.</p>\n",
       "<p>\n",
       "  If you're reading this message in the Jupyter Notebook or JupyterLab Notebook, it may mean\n",
       "  that the widgets JavaScript is still loading. If this message persists, it\n",
       "  likely means that the widgets JavaScript library is either not installed or\n",
       "  not enabled. See the <a href=\"https://ipywidgets.readthedocs.io/en/stable/user_install.html\">Jupyter\n",
       "  Widgets Documentation</a> for setup instructions.\n",
       "</p>\n",
       "<p>\n",
       "  If you're reading this message in another frontend (for example, a static\n",
       "  rendering on GitHub or <a href=\"https://nbviewer.jupyter.org/\">NBViewer</a>),\n",
       "  it may mean that your frontend doesn't currently support widgets.\n",
       "</p>\n"
      ],
      "text/plain": [
       "Button(button_style='success', description='Update plot', icon='paint-brush', style=ButtonStyle(), tooltip='Click to redraw the plot below with updated options from above.')"
      ]
     },
     "metadata": {},
     "output_type": "display_data"
    },
    {
     "data": {
      "application/javascript": [
       "IPython.notebook.execute_cells([IPython.notebook.get_selected_index()+1])"
      ],
      "text/plain": [
       "<IPython.core.display.Javascript object>"
      ]
     },
     "metadata": {},
     "output_type": "display_data"
    }
   ],
   "source": [
    "make_plot_button = widgets.Button(\n",
    "    description='Update plot',\n",
    "    disabled=False,\n",
    "    button_style='success', # 'success', 'info', 'warning', 'danger' or ''\n",
    "    tooltip='Click to redraw the plot below with updated options from above.',\n",
    "    icon='paint-brush' # pencil, rotate-right\n",
    ")\n",
    "\n",
    "#make_plot_button.observe(on_click_next, 'value')\n",
    "display(make_plot_button)\n",
    "make_plot_button.on_click(on_click_next)"
   ]
  },
  {
   "cell_type": "code",
   "execution_count": 38,
   "metadata": {},
   "outputs": [
    {
     "data": {
      "application/javascript": [
       "/* Put everything inside the global mpl namespace */\n",
       "window.mpl = {};\n",
       "\n",
       "\n",
       "mpl.get_websocket_type = function() {\n",
       "    if (typeof(WebSocket) !== 'undefined') {\n",
       "        return WebSocket;\n",
       "    } else if (typeof(MozWebSocket) !== 'undefined') {\n",
       "        return MozWebSocket;\n",
       "    } else {\n",
       "        alert('Your browser does not have WebSocket support.' +\n",
       "              'Please try Chrome, Safari or Firefox ≥ 6. ' +\n",
       "              'Firefox 4 and 5 are also supported but you ' +\n",
       "              'have to enable WebSockets in about:config.');\n",
       "    };\n",
       "}\n",
       "\n",
       "mpl.figure = function(figure_id, websocket, ondownload, parent_element) {\n",
       "    this.id = figure_id;\n",
       "\n",
       "    this.ws = websocket;\n",
       "\n",
       "    this.supports_binary = (this.ws.binaryType != undefined);\n",
       "\n",
       "    if (!this.supports_binary) {\n",
       "        var warnings = document.getElementById(\"mpl-warnings\");\n",
       "        if (warnings) {\n",
       "            warnings.style.display = 'block';\n",
       "            warnings.textContent = (\n",
       "                \"This browser does not support binary websocket messages. \" +\n",
       "                    \"Performance may be slow.\");\n",
       "        }\n",
       "    }\n",
       "\n",
       "    this.imageObj = new Image();\n",
       "\n",
       "    this.context = undefined;\n",
       "    this.message = undefined;\n",
       "    this.canvas = undefined;\n",
       "    this.rubberband_canvas = undefined;\n",
       "    this.rubberband_context = undefined;\n",
       "    this.format_dropdown = undefined;\n",
       "\n",
       "    this.image_mode = 'full';\n",
       "\n",
       "    this.root = $('<div/>');\n",
       "    this._root_extra_style(this.root)\n",
       "    this.root.attr('style', 'display: inline-block');\n",
       "\n",
       "    $(parent_element).append(this.root);\n",
       "\n",
       "    this._init_header(this);\n",
       "    this._init_canvas(this);\n",
       "    this._init_toolbar(this);\n",
       "\n",
       "    var fig = this;\n",
       "\n",
       "    this.waiting = false;\n",
       "\n",
       "    this.ws.onopen =  function () {\n",
       "            fig.send_message(\"supports_binary\", {value: fig.supports_binary});\n",
       "            fig.send_message(\"send_image_mode\", {});\n",
       "            if (mpl.ratio != 1) {\n",
       "                fig.send_message(\"set_dpi_ratio\", {'dpi_ratio': mpl.ratio});\n",
       "            }\n",
       "            fig.send_message(\"refresh\", {});\n",
       "        }\n",
       "\n",
       "    this.imageObj.onload = function() {\n",
       "            if (fig.image_mode == 'full') {\n",
       "                // Full images could contain transparency (where diff images\n",
       "                // almost always do), so we need to clear the canvas so that\n",
       "                // there is no ghosting.\n",
       "                fig.context.clearRect(0, 0, fig.canvas.width, fig.canvas.height);\n",
       "            }\n",
       "            fig.context.drawImage(fig.imageObj, 0, 0);\n",
       "        };\n",
       "\n",
       "    this.imageObj.onunload = function() {\n",
       "        fig.ws.close();\n",
       "    }\n",
       "\n",
       "    this.ws.onmessage = this._make_on_message_function(this);\n",
       "\n",
       "    this.ondownload = ondownload;\n",
       "}\n",
       "\n",
       "mpl.figure.prototype._init_header = function() {\n",
       "    var titlebar = $(\n",
       "        '<div class=\"ui-dialog-titlebar ui-widget-header ui-corner-all ' +\n",
       "        'ui-helper-clearfix\"/>');\n",
       "    var titletext = $(\n",
       "        '<div class=\"ui-dialog-title\" style=\"width: 100%; ' +\n",
       "        'text-align: center; padding: 3px;\"/>');\n",
       "    titlebar.append(titletext)\n",
       "    this.root.append(titlebar);\n",
       "    this.header = titletext[0];\n",
       "}\n",
       "\n",
       "\n",
       "\n",
       "mpl.figure.prototype._canvas_extra_style = function(canvas_div) {\n",
       "\n",
       "}\n",
       "\n",
       "\n",
       "mpl.figure.prototype._root_extra_style = function(canvas_div) {\n",
       "\n",
       "}\n",
       "\n",
       "mpl.figure.prototype._init_canvas = function() {\n",
       "    var fig = this;\n",
       "\n",
       "    var canvas_div = $('<div/>');\n",
       "\n",
       "    canvas_div.attr('style', 'position: relative; clear: both; outline: 0');\n",
       "\n",
       "    function canvas_keyboard_event(event) {\n",
       "        return fig.key_event(event, event['data']);\n",
       "    }\n",
       "\n",
       "    canvas_div.keydown('key_press', canvas_keyboard_event);\n",
       "    canvas_div.keyup('key_release', canvas_keyboard_event);\n",
       "    this.canvas_div = canvas_div\n",
       "    this._canvas_extra_style(canvas_div)\n",
       "    this.root.append(canvas_div);\n",
       "\n",
       "    var canvas = $('<canvas/>');\n",
       "    canvas.addClass('mpl-canvas');\n",
       "    canvas.attr('style', \"left: 0; top: 0; z-index: 0; outline: 0\")\n",
       "\n",
       "    this.canvas = canvas[0];\n",
       "    this.context = canvas[0].getContext(\"2d\");\n",
       "\n",
       "    var backingStore = this.context.backingStorePixelRatio ||\n",
       "\tthis.context.webkitBackingStorePixelRatio ||\n",
       "\tthis.context.mozBackingStorePixelRatio ||\n",
       "\tthis.context.msBackingStorePixelRatio ||\n",
       "\tthis.context.oBackingStorePixelRatio ||\n",
       "\tthis.context.backingStorePixelRatio || 1;\n",
       "\n",
       "    mpl.ratio = (window.devicePixelRatio || 1) / backingStore;\n",
       "\n",
       "    var rubberband = $('<canvas/>');\n",
       "    rubberband.attr('style', \"position: absolute; left: 0; top: 0; z-index: 1;\")\n",
       "\n",
       "    var pass_mouse_events = true;\n",
       "\n",
       "    canvas_div.resizable({\n",
       "        start: function(event, ui) {\n",
       "            pass_mouse_events = false;\n",
       "        },\n",
       "        resize: function(event, ui) {\n",
       "            fig.request_resize(ui.size.width, ui.size.height);\n",
       "        },\n",
       "        stop: function(event, ui) {\n",
       "            pass_mouse_events = true;\n",
       "            fig.request_resize(ui.size.width, ui.size.height);\n",
       "        },\n",
       "    });\n",
       "\n",
       "    function mouse_event_fn(event) {\n",
       "        if (pass_mouse_events)\n",
       "            return fig.mouse_event(event, event['data']);\n",
       "    }\n",
       "\n",
       "    rubberband.mousedown('button_press', mouse_event_fn);\n",
       "    rubberband.mouseup('button_release', mouse_event_fn);\n",
       "    // Throttle sequential mouse events to 1 every 20ms.\n",
       "    rubberband.mousemove('motion_notify', mouse_event_fn);\n",
       "\n",
       "    rubberband.mouseenter('figure_enter', mouse_event_fn);\n",
       "    rubberband.mouseleave('figure_leave', mouse_event_fn);\n",
       "\n",
       "    canvas_div.on(\"wheel\", function (event) {\n",
       "        event = event.originalEvent;\n",
       "        event['data'] = 'scroll'\n",
       "        if (event.deltaY < 0) {\n",
       "            event.step = 1;\n",
       "        } else {\n",
       "            event.step = -1;\n",
       "        }\n",
       "        mouse_event_fn(event);\n",
       "    });\n",
       "\n",
       "    canvas_div.append(canvas);\n",
       "    canvas_div.append(rubberband);\n",
       "\n",
       "    this.rubberband = rubberband;\n",
       "    this.rubberband_canvas = rubberband[0];\n",
       "    this.rubberband_context = rubberband[0].getContext(\"2d\");\n",
       "    this.rubberband_context.strokeStyle = \"#000000\";\n",
       "\n",
       "    this._resize_canvas = function(width, height) {\n",
       "        // Keep the size of the canvas, canvas container, and rubber band\n",
       "        // canvas in synch.\n",
       "        canvas_div.css('width', width)\n",
       "        canvas_div.css('height', height)\n",
       "\n",
       "        canvas.attr('width', width * mpl.ratio);\n",
       "        canvas.attr('height', height * mpl.ratio);\n",
       "        canvas.attr('style', 'width: ' + width + 'px; height: ' + height + 'px;');\n",
       "\n",
       "        rubberband.attr('width', width);\n",
       "        rubberband.attr('height', height);\n",
       "    }\n",
       "\n",
       "    // Set the figure to an initial 600x600px, this will subsequently be updated\n",
       "    // upon first draw.\n",
       "    this._resize_canvas(600, 600);\n",
       "\n",
       "    // Disable right mouse context menu.\n",
       "    $(this.rubberband_canvas).bind(\"contextmenu\",function(e){\n",
       "        return false;\n",
       "    });\n",
       "\n",
       "    function set_focus () {\n",
       "        canvas.focus();\n",
       "        canvas_div.focus();\n",
       "    }\n",
       "\n",
       "    window.setTimeout(set_focus, 100);\n",
       "}\n",
       "\n",
       "mpl.figure.prototype._init_toolbar = function() {\n",
       "    var fig = this;\n",
       "\n",
       "    var nav_element = $('<div/>')\n",
       "    nav_element.attr('style', 'width: 100%');\n",
       "    this.root.append(nav_element);\n",
       "\n",
       "    // Define a callback function for later on.\n",
       "    function toolbar_event(event) {\n",
       "        return fig.toolbar_button_onclick(event['data']);\n",
       "    }\n",
       "    function toolbar_mouse_event(event) {\n",
       "        return fig.toolbar_button_onmouseover(event['data']);\n",
       "    }\n",
       "\n",
       "    for(var toolbar_ind in mpl.toolbar_items) {\n",
       "        var name = mpl.toolbar_items[toolbar_ind][0];\n",
       "        var tooltip = mpl.toolbar_items[toolbar_ind][1];\n",
       "        var image = mpl.toolbar_items[toolbar_ind][2];\n",
       "        var method_name = mpl.toolbar_items[toolbar_ind][3];\n",
       "\n",
       "        if (!name) {\n",
       "            // put a spacer in here.\n",
       "            continue;\n",
       "        }\n",
       "        var button = $('<button/>');\n",
       "        button.addClass('ui-button ui-widget ui-state-default ui-corner-all ' +\n",
       "                        'ui-button-icon-only');\n",
       "        button.attr('role', 'button');\n",
       "        button.attr('aria-disabled', 'false');\n",
       "        button.click(method_name, toolbar_event);\n",
       "        button.mouseover(tooltip, toolbar_mouse_event);\n",
       "\n",
       "        var icon_img = $('<span/>');\n",
       "        icon_img.addClass('ui-button-icon-primary ui-icon');\n",
       "        icon_img.addClass(image);\n",
       "        icon_img.addClass('ui-corner-all');\n",
       "\n",
       "        var tooltip_span = $('<span/>');\n",
       "        tooltip_span.addClass('ui-button-text');\n",
       "        tooltip_span.html(tooltip);\n",
       "\n",
       "        button.append(icon_img);\n",
       "        button.append(tooltip_span);\n",
       "\n",
       "        nav_element.append(button);\n",
       "    }\n",
       "\n",
       "    var fmt_picker_span = $('<span/>');\n",
       "\n",
       "    var fmt_picker = $('<select/>');\n",
       "    fmt_picker.addClass('mpl-toolbar-option ui-widget ui-widget-content');\n",
       "    fmt_picker_span.append(fmt_picker);\n",
       "    nav_element.append(fmt_picker_span);\n",
       "    this.format_dropdown = fmt_picker[0];\n",
       "\n",
       "    for (var ind in mpl.extensions) {\n",
       "        var fmt = mpl.extensions[ind];\n",
       "        var option = $(\n",
       "            '<option/>', {selected: fmt === mpl.default_extension}).html(fmt);\n",
       "        fmt_picker.append(option)\n",
       "    }\n",
       "\n",
       "    // Add hover states to the ui-buttons\n",
       "    $( \".ui-button\" ).hover(\n",
       "        function() { $(this).addClass(\"ui-state-hover\");},\n",
       "        function() { $(this).removeClass(\"ui-state-hover\");}\n",
       "    );\n",
       "\n",
       "    var status_bar = $('<span class=\"mpl-message\"/>');\n",
       "    nav_element.append(status_bar);\n",
       "    this.message = status_bar[0];\n",
       "}\n",
       "\n",
       "mpl.figure.prototype.request_resize = function(x_pixels, y_pixels) {\n",
       "    // Request matplotlib to resize the figure. Matplotlib will then trigger a resize in the client,\n",
       "    // which will in turn request a refresh of the image.\n",
       "    this.send_message('resize', {'width': x_pixels, 'height': y_pixels});\n",
       "}\n",
       "\n",
       "mpl.figure.prototype.send_message = function(type, properties) {\n",
       "    properties['type'] = type;\n",
       "    properties['figure_id'] = this.id;\n",
       "    this.ws.send(JSON.stringify(properties));\n",
       "}\n",
       "\n",
       "mpl.figure.prototype.send_draw_message = function() {\n",
       "    if (!this.waiting) {\n",
       "        this.waiting = true;\n",
       "        this.ws.send(JSON.stringify({type: \"draw\", figure_id: this.id}));\n",
       "    }\n",
       "}\n",
       "\n",
       "\n",
       "mpl.figure.prototype.handle_save = function(fig, msg) {\n",
       "    var format_dropdown = fig.format_dropdown;\n",
       "    var format = format_dropdown.options[format_dropdown.selectedIndex].value;\n",
       "    fig.ondownload(fig, format);\n",
       "}\n",
       "\n",
       "\n",
       "mpl.figure.prototype.handle_resize = function(fig, msg) {\n",
       "    var size = msg['size'];\n",
       "    if (size[0] != fig.canvas.width || size[1] != fig.canvas.height) {\n",
       "        fig._resize_canvas(size[0], size[1]);\n",
       "        fig.send_message(\"refresh\", {});\n",
       "    };\n",
       "}\n",
       "\n",
       "mpl.figure.prototype.handle_rubberband = function(fig, msg) {\n",
       "    var x0 = msg['x0'] / mpl.ratio;\n",
       "    var y0 = (fig.canvas.height - msg['y0']) / mpl.ratio;\n",
       "    var x1 = msg['x1'] / mpl.ratio;\n",
       "    var y1 = (fig.canvas.height - msg['y1']) / mpl.ratio;\n",
       "    x0 = Math.floor(x0) + 0.5;\n",
       "    y0 = Math.floor(y0) + 0.5;\n",
       "    x1 = Math.floor(x1) + 0.5;\n",
       "    y1 = Math.floor(y1) + 0.5;\n",
       "    var min_x = Math.min(x0, x1);\n",
       "    var min_y = Math.min(y0, y1);\n",
       "    var width = Math.abs(x1 - x0);\n",
       "    var height = Math.abs(y1 - y0);\n",
       "\n",
       "    fig.rubberband_context.clearRect(\n",
       "        0, 0, fig.canvas.width, fig.canvas.height);\n",
       "\n",
       "    fig.rubberband_context.strokeRect(min_x, min_y, width, height);\n",
       "}\n",
       "\n",
       "mpl.figure.prototype.handle_figure_label = function(fig, msg) {\n",
       "    // Updates the figure title.\n",
       "    fig.header.textContent = msg['label'];\n",
       "}\n",
       "\n",
       "mpl.figure.prototype.handle_cursor = function(fig, msg) {\n",
       "    var cursor = msg['cursor'];\n",
       "    switch(cursor)\n",
       "    {\n",
       "    case 0:\n",
       "        cursor = 'pointer';\n",
       "        break;\n",
       "    case 1:\n",
       "        cursor = 'default';\n",
       "        break;\n",
       "    case 2:\n",
       "        cursor = 'crosshair';\n",
       "        break;\n",
       "    case 3:\n",
       "        cursor = 'move';\n",
       "        break;\n",
       "    }\n",
       "    fig.rubberband_canvas.style.cursor = cursor;\n",
       "}\n",
       "\n",
       "mpl.figure.prototype.handle_message = function(fig, msg) {\n",
       "    fig.message.textContent = msg['message'];\n",
       "}\n",
       "\n",
       "mpl.figure.prototype.handle_draw = function(fig, msg) {\n",
       "    // Request the server to send over a new figure.\n",
       "    fig.send_draw_message();\n",
       "}\n",
       "\n",
       "mpl.figure.prototype.handle_image_mode = function(fig, msg) {\n",
       "    fig.image_mode = msg['mode'];\n",
       "}\n",
       "\n",
       "mpl.figure.prototype.updated_canvas_event = function() {\n",
       "    // Called whenever the canvas gets updated.\n",
       "    this.send_message(\"ack\", {});\n",
       "}\n",
       "\n",
       "// A function to construct a web socket function for onmessage handling.\n",
       "// Called in the figure constructor.\n",
       "mpl.figure.prototype._make_on_message_function = function(fig) {\n",
       "    return function socket_on_message(evt) {\n",
       "        if (evt.data instanceof Blob) {\n",
       "            /* FIXME: We get \"Resource interpreted as Image but\n",
       "             * transferred with MIME type text/plain:\" errors on\n",
       "             * Chrome.  But how to set the MIME type?  It doesn't seem\n",
       "             * to be part of the websocket stream */\n",
       "            evt.data.type = \"image/png\";\n",
       "\n",
       "            /* Free the memory for the previous frames */\n",
       "            if (fig.imageObj.src) {\n",
       "                (window.URL || window.webkitURL).revokeObjectURL(\n",
       "                    fig.imageObj.src);\n",
       "            }\n",
       "\n",
       "            fig.imageObj.src = (window.URL || window.webkitURL).createObjectURL(\n",
       "                evt.data);\n",
       "            fig.updated_canvas_event();\n",
       "            fig.waiting = false;\n",
       "            return;\n",
       "        }\n",
       "        else if (typeof evt.data === 'string' && evt.data.slice(0, 21) == \"data:image/png;base64\") {\n",
       "            fig.imageObj.src = evt.data;\n",
       "            fig.updated_canvas_event();\n",
       "            fig.waiting = false;\n",
       "            return;\n",
       "        }\n",
       "\n",
       "        var msg = JSON.parse(evt.data);\n",
       "        var msg_type = msg['type'];\n",
       "\n",
       "        // Call the  \"handle_{type}\" callback, which takes\n",
       "        // the figure and JSON message as its only arguments.\n",
       "        try {\n",
       "            var callback = fig[\"handle_\" + msg_type];\n",
       "        } catch (e) {\n",
       "            console.log(\"No handler for the '\" + msg_type + \"' message type: \", msg);\n",
       "            return;\n",
       "        }\n",
       "\n",
       "        if (callback) {\n",
       "            try {\n",
       "                // console.log(\"Handling '\" + msg_type + \"' message: \", msg);\n",
       "                callback(fig, msg);\n",
       "            } catch (e) {\n",
       "                console.log(\"Exception inside the 'handler_\" + msg_type + \"' callback:\", e, e.stack, msg);\n",
       "            }\n",
       "        }\n",
       "    };\n",
       "}\n",
       "\n",
       "// from http://stackoverflow.com/questions/1114465/getting-mouse-location-in-canvas\n",
       "mpl.findpos = function(e) {\n",
       "    //this section is from http://www.quirksmode.org/js/events_properties.html\n",
       "    var targ;\n",
       "    if (!e)\n",
       "        e = window.event;\n",
       "    if (e.target)\n",
       "        targ = e.target;\n",
       "    else if (e.srcElement)\n",
       "        targ = e.srcElement;\n",
       "    if (targ.nodeType == 3) // defeat Safari bug\n",
       "        targ = targ.parentNode;\n",
       "\n",
       "    // jQuery normalizes the pageX and pageY\n",
       "    // pageX,Y are the mouse positions relative to the document\n",
       "    // offset() returns the position of the element relative to the document\n",
       "    var x = e.pageX - $(targ).offset().left;\n",
       "    var y = e.pageY - $(targ).offset().top;\n",
       "\n",
       "    return {\"x\": x, \"y\": y};\n",
       "};\n",
       "\n",
       "/*\n",
       " * return a copy of an object with only non-object keys\n",
       " * we need this to avoid circular references\n",
       " * http://stackoverflow.com/a/24161582/3208463\n",
       " */\n",
       "function simpleKeys (original) {\n",
       "  return Object.keys(original).reduce(function (obj, key) {\n",
       "    if (typeof original[key] !== 'object')\n",
       "        obj[key] = original[key]\n",
       "    return obj;\n",
       "  }, {});\n",
       "}\n",
       "\n",
       "mpl.figure.prototype.mouse_event = function(event, name) {\n",
       "    var canvas_pos = mpl.findpos(event)\n",
       "\n",
       "    if (name === 'button_press')\n",
       "    {\n",
       "        this.canvas.focus();\n",
       "        this.canvas_div.focus();\n",
       "    }\n",
       "\n",
       "    var x = canvas_pos.x * mpl.ratio;\n",
       "    var y = canvas_pos.y * mpl.ratio;\n",
       "\n",
       "    this.send_message(name, {x: x, y: y, button: event.button,\n",
       "                             step: event.step,\n",
       "                             guiEvent: simpleKeys(event)});\n",
       "\n",
       "    /* This prevents the web browser from automatically changing to\n",
       "     * the text insertion cursor when the button is pressed.  We want\n",
       "     * to control all of the cursor setting manually through the\n",
       "     * 'cursor' event from matplotlib */\n",
       "    event.preventDefault();\n",
       "    return false;\n",
       "}\n",
       "\n",
       "mpl.figure.prototype._key_event_extra = function(event, name) {\n",
       "    // Handle any extra behaviour associated with a key event\n",
       "}\n",
       "\n",
       "mpl.figure.prototype.key_event = function(event, name) {\n",
       "\n",
       "    // Prevent repeat events\n",
       "    if (name == 'key_press')\n",
       "    {\n",
       "        if (event.which === this._key)\n",
       "            return;\n",
       "        else\n",
       "            this._key = event.which;\n",
       "    }\n",
       "    if (name == 'key_release')\n",
       "        this._key = null;\n",
       "\n",
       "    var value = '';\n",
       "    if (event.ctrlKey && event.which != 17)\n",
       "        value += \"ctrl+\";\n",
       "    if (event.altKey && event.which != 18)\n",
       "        value += \"alt+\";\n",
       "    if (event.shiftKey && event.which != 16)\n",
       "        value += \"shift+\";\n",
       "\n",
       "    value += 'k';\n",
       "    value += event.which.toString();\n",
       "\n",
       "    this._key_event_extra(event, name);\n",
       "\n",
       "    this.send_message(name, {key: value,\n",
       "                             guiEvent: simpleKeys(event)});\n",
       "    return false;\n",
       "}\n",
       "\n",
       "mpl.figure.prototype.toolbar_button_onclick = function(name) {\n",
       "    if (name == 'download') {\n",
       "        this.handle_save(this, null);\n",
       "    } else {\n",
       "        this.send_message(\"toolbar_button\", {name: name});\n",
       "    }\n",
       "};\n",
       "\n",
       "mpl.figure.prototype.toolbar_button_onmouseover = function(tooltip) {\n",
       "    this.message.textContent = tooltip;\n",
       "};\n",
       "mpl.toolbar_items = [[\"Home\", \"Reset original view\", \"fa fa-home icon-home\", \"home\"], [\"Back\", \"Back to  previous view\", \"fa fa-arrow-left icon-arrow-left\", \"back\"], [\"Forward\", \"Forward to next view\", \"fa fa-arrow-right icon-arrow-right\", \"forward\"], [\"\", \"\", \"\", \"\"], [\"Pan\", \"Pan axes with left mouse, zoom with right\", \"fa fa-arrows icon-move\", \"pan\"], [\"Zoom\", \"Zoom to rectangle\", \"fa fa-square-o icon-check-empty\", \"zoom\"], [\"\", \"\", \"\", \"\"], [\"Download\", \"Download plot\", \"fa fa-floppy-o icon-save\", \"download\"]];\n",
       "\n",
       "mpl.extensions = [\"eps\", \"jpeg\", \"pdf\", \"png\", \"ps\", \"raw\", \"svg\", \"tif\"];\n",
       "\n",
       "mpl.default_extension = \"png\";var comm_websocket_adapter = function(comm) {\n",
       "    // Create a \"websocket\"-like object which calls the given IPython comm\n",
       "    // object with the appropriate methods. Currently this is a non binary\n",
       "    // socket, so there is still some room for performance tuning.\n",
       "    var ws = {};\n",
       "\n",
       "    ws.close = function() {\n",
       "        comm.close()\n",
       "    };\n",
       "    ws.send = function(m) {\n",
       "        //console.log('sending', m);\n",
       "        comm.send(m);\n",
       "    };\n",
       "    // Register the callback with on_msg.\n",
       "    comm.on_msg(function(msg) {\n",
       "        //console.log('receiving', msg['content']['data'], msg);\n",
       "        // Pass the mpl event to the overriden (by mpl) onmessage function.\n",
       "        ws.onmessage(msg['content']['data'])\n",
       "    });\n",
       "    return ws;\n",
       "}\n",
       "\n",
       "mpl.mpl_figure_comm = function(comm, msg) {\n",
       "    // This is the function which gets called when the mpl process\n",
       "    // starts-up an IPython Comm through the \"matplotlib\" channel.\n",
       "\n",
       "    var id = msg.content.data.id;\n",
       "    // Get hold of the div created by the display call when the Comm\n",
       "    // socket was opened in Python.\n",
       "    var element = $(\"#\" + id);\n",
       "    var ws_proxy = comm_websocket_adapter(comm)\n",
       "\n",
       "    function ondownload(figure, format) {\n",
       "        window.open(figure.imageObj.src);\n",
       "    }\n",
       "\n",
       "    var fig = new mpl.figure(id, ws_proxy,\n",
       "                           ondownload,\n",
       "                           element.get(0));\n",
       "\n",
       "    // Call onopen now - mpl needs it, as it is assuming we've passed it a real\n",
       "    // web socket which is closed, not our websocket->open comm proxy.\n",
       "    ws_proxy.onopen();\n",
       "\n",
       "    fig.parent_element = element.get(0);\n",
       "    fig.cell_info = mpl.find_output_cell(\"<div id='\" + id + \"'></div>\");\n",
       "    if (!fig.cell_info) {\n",
       "        console.error(\"Failed to find cell for figure\", id, fig);\n",
       "        return;\n",
       "    }\n",
       "\n",
       "    var output_index = fig.cell_info[2]\n",
       "    var cell = fig.cell_info[0];\n",
       "\n",
       "};\n",
       "\n",
       "mpl.figure.prototype.handle_close = function(fig, msg) {\n",
       "    var width = fig.canvas.width/mpl.ratio\n",
       "    fig.root.unbind('remove')\n",
       "\n",
       "    // Update the output cell to use the data from the current canvas.\n",
       "    fig.push_to_output();\n",
       "    var dataURL = fig.canvas.toDataURL();\n",
       "    // Re-enable the keyboard manager in IPython - without this line, in FF,\n",
       "    // the notebook keyboard shortcuts fail.\n",
       "    IPython.keyboard_manager.enable()\n",
       "    $(fig.parent_element).html('<img src=\"' + dataURL + '\" width=\"' + width + '\">');\n",
       "    fig.close_ws(fig, msg);\n",
       "}\n",
       "\n",
       "mpl.figure.prototype.close_ws = function(fig, msg){\n",
       "    fig.send_message('closing', msg);\n",
       "    // fig.ws.close()\n",
       "}\n",
       "\n",
       "mpl.figure.prototype.push_to_output = function(remove_interactive) {\n",
       "    // Turn the data on the canvas into data in the output cell.\n",
       "    var width = this.canvas.width/mpl.ratio\n",
       "    var dataURL = this.canvas.toDataURL();\n",
       "    this.cell_info[1]['text/html'] = '<img src=\"' + dataURL + '\" width=\"' + width + '\">';\n",
       "}\n",
       "\n",
       "mpl.figure.prototype.updated_canvas_event = function() {\n",
       "    // Tell IPython that the notebook contents must change.\n",
       "    IPython.notebook.set_dirty(true);\n",
       "    this.send_message(\"ack\", {});\n",
       "    var fig = this;\n",
       "    // Wait a second, then push the new image to the DOM so\n",
       "    // that it is saved nicely (might be nice to debounce this).\n",
       "    setTimeout(function () { fig.push_to_output() }, 1000);\n",
       "}\n",
       "\n",
       "mpl.figure.prototype._init_toolbar = function() {\n",
       "    var fig = this;\n",
       "\n",
       "    var nav_element = $('<div/>')\n",
       "    nav_element.attr('style', 'width: 100%');\n",
       "    this.root.append(nav_element);\n",
       "\n",
       "    // Define a callback function for later on.\n",
       "    function toolbar_event(event) {\n",
       "        return fig.toolbar_button_onclick(event['data']);\n",
       "    }\n",
       "    function toolbar_mouse_event(event) {\n",
       "        return fig.toolbar_button_onmouseover(event['data']);\n",
       "    }\n",
       "\n",
       "    for(var toolbar_ind in mpl.toolbar_items){\n",
       "        var name = mpl.toolbar_items[toolbar_ind][0];\n",
       "        var tooltip = mpl.toolbar_items[toolbar_ind][1];\n",
       "        var image = mpl.toolbar_items[toolbar_ind][2];\n",
       "        var method_name = mpl.toolbar_items[toolbar_ind][3];\n",
       "\n",
       "        if (!name) { continue; };\n",
       "\n",
       "        var button = $('<button class=\"btn btn-default\" href=\"#\" title=\"' + name + '\"><i class=\"fa ' + image + ' fa-lg\"></i></button>');\n",
       "        button.click(method_name, toolbar_event);\n",
       "        button.mouseover(tooltip, toolbar_mouse_event);\n",
       "        nav_element.append(button);\n",
       "    }\n",
       "\n",
       "    // Add the status bar.\n",
       "    var status_bar = $('<span class=\"mpl-message\" style=\"text-align:right; float: right;\"/>');\n",
       "    nav_element.append(status_bar);\n",
       "    this.message = status_bar[0];\n",
       "\n",
       "    // Add the close button to the window.\n",
       "    var buttongrp = $('<div class=\"btn-group inline pull-right\"></div>');\n",
       "    var button = $('<button class=\"btn btn-mini btn-primary\" href=\"#\" title=\"Stop Interaction\"><i class=\"fa fa-power-off icon-remove icon-large\"></i></button>');\n",
       "    button.click(function (evt) { fig.handle_close(fig, {}); } );\n",
       "    button.mouseover('Stop Interaction', toolbar_mouse_event);\n",
       "    buttongrp.append(button);\n",
       "    var titlebar = this.root.find($('.ui-dialog-titlebar'));\n",
       "    titlebar.prepend(buttongrp);\n",
       "}\n",
       "\n",
       "mpl.figure.prototype._root_extra_style = function(el){\n",
       "    var fig = this\n",
       "    el.on(\"remove\", function(){\n",
       "\tfig.close_ws(fig, {});\n",
       "    });\n",
       "}\n",
       "\n",
       "mpl.figure.prototype._canvas_extra_style = function(el){\n",
       "    // this is important to make the div 'focusable\n",
       "    el.attr('tabindex', 0)\n",
       "    // reach out to IPython and tell the keyboard manager to turn it's self\n",
       "    // off when our div gets focus\n",
       "\n",
       "    // location in version 3\n",
       "    if (IPython.notebook.keyboard_manager) {\n",
       "        IPython.notebook.keyboard_manager.register_events(el);\n",
       "    }\n",
       "    else {\n",
       "        // location in version 2\n",
       "        IPython.keyboard_manager.register_events(el);\n",
       "    }\n",
       "\n",
       "}\n",
       "\n",
       "mpl.figure.prototype._key_event_extra = function(event, name) {\n",
       "    var manager = IPython.notebook.keyboard_manager;\n",
       "    if (!manager)\n",
       "        manager = IPython.keyboard_manager;\n",
       "\n",
       "    // Check for shift+enter\n",
       "    if (event.shiftKey && event.which == 13) {\n",
       "        this.canvas_div.blur();\n",
       "        event.shiftKey = false;\n",
       "        // Send a \"J\" for go to next cell\n",
       "        event.which = 74;\n",
       "        event.keyCode = 74;\n",
       "        manager.command_mode();\n",
       "        manager.handle_keydown(event);\n",
       "    }\n",
       "}\n",
       "\n",
       "mpl.figure.prototype.handle_save = function(fig, msg) {\n",
       "    fig.ondownload(fig, null);\n",
       "}\n",
       "\n",
       "\n",
       "mpl.find_output_cell = function(html_output) {\n",
       "    // Return the cell and output element which can be found *uniquely* in the notebook.\n",
       "    // Note - this is a bit hacky, but it is done because the \"notebook_saving.Notebook\"\n",
       "    // IPython event is triggered only after the cells have been serialised, which for\n",
       "    // our purposes (turning an active figure into a static one), is too late.\n",
       "    var cells = IPython.notebook.get_cells();\n",
       "    var ncells = cells.length;\n",
       "    for (var i=0; i<ncells; i++) {\n",
       "        var cell = cells[i];\n",
       "        if (cell.cell_type === 'code'){\n",
       "            for (var j=0; j<cell.output_area.outputs.length; j++) {\n",
       "                var data = cell.output_area.outputs[j];\n",
       "                if (data.data) {\n",
       "                    // IPython >= 3 moved mimebundle to data attribute of output\n",
       "                    data = data.data;\n",
       "                }\n",
       "                if (data['text/html'] == html_output) {\n",
       "                    return [cell, data, j];\n",
       "                }\n",
       "            }\n",
       "        }\n",
       "    }\n",
       "}\n",
       "\n",
       "// Register the function which deals with the matplotlib target/channel.\n",
       "// The kernel may be null if the page has been refreshed.\n",
       "if (IPython.notebook.kernel != null) {\n",
       "    IPython.notebook.kernel.comm_manager.register_target('matplotlib', mpl.mpl_figure_comm);\n",
       "}\n"
      ],
      "text/plain": [
       "<IPython.core.display.Javascript object>"
      ]
     },
     "metadata": {},
     "output_type": "display_data"
    },
    {
     "data": {
      "text/html": [
       "<img src=\"data:image/png;base64,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\" width=\"525\">"
      ],
      "text/plain": [
       "<IPython.core.display.HTML object>"
      ]
     },
     "metadata": {},
     "output_type": "display_data"
    }
   ],
   "source": [
    "isi = find(ion_species.value,projectile_sym_str)\n",
    "iei = find(ion_energy.value,erg_options(isi))\n",
    "ftmi = find(target_material.value,target_mats_short)\n",
    "ftti = find(target_thickness.value,thicknesses)\n",
    "detti = find(detector_type.value,detectors_short)\n",
    "spi = find(secondary_particle.value,particles_med)\n",
    "\n",
    "det_angle_i_list = []\n",
    "for i in range(len(available_det_angles)):\n",
    "    if dets[i].value:\n",
    "        if detti == 0:\n",
    "            det_angle_i_list.append(find(available_det_angles[i],detectors_angles[detti]))\n",
    "        else:\n",
    "            det_angle_i_list.append(find(available_det_angles[i],detectors_angles[detti])+6) # for NaI\n",
    "            \n",
    "data_set_i_list = []\n",
    "for i in range(3):\n",
    "    if data_sets[i].value:\n",
    "        data_set_i_list.append(i)\n",
    "        \n",
    "spacing_condition = find(spacing_choice.value,spacing_short)\n",
    "if spacing_condition == 0:\n",
    "    mult_factor_base = 1\n",
    "else:\n",
    "    mult_factor_base = 100\n",
    "\n",
    "fst = 16\n",
    "fs = 14\n",
    "beam_energy_text = erg_options(isi)[iei]\n",
    "beam_species_text = projectile_sym_str[isi]\n",
    "\n",
    "fig = plt.figure()\n",
    "ax = plt.subplot(111)\n",
    "# Axis labels\n",
    "title_text = detectors_short[detti] + \" \" + particles_long[spi] + \" Energy Spectra for\" + \"\\n\" \n",
    "title_text += beam_energy_text +\" \"+ beam_species_text + \" on \"+ thicknesses[ftti] +\" \"+ target_mats_short[ftmi] \n",
    "plt.title(title_text,fontsize=fst)\n",
    "if spi <= 2:\n",
    "    plt.xlabel(\"Energy [MeV]\",fontsize=fs)\n",
    "else:\n",
    "    plt.xlabel(\"Energy [MeV/n]\",fontsize=fs)\n",
    "\n",
    "if spi == 1: # deconvoluted neutrons\n",
    "    #leg_strings = [r'Experimental (deconvoluted)',r'MCNP (simulated)', r'PHITS (simulated)']\n",
    "    leg_strings = [r'Experimental (deconvoluted)',r'MCNP', r'PHITS']\n",
    "    plt.ylabel(r\"Yield [#$\\cdot$/(MeV$\\cdot$s.p.)]\",fontsize=fs)\n",
    "else:\n",
    "    #leg_strings = [r'Experimental (time-of-flight)',r'MCNP (simulated)', r'PHITS (simulated)']\n",
    "    leg_strings = [r'Experimental (time-of-flight)',r'MCNP', r'PHITS']\n",
    "    if spi <= 2:\n",
    "        plt.ylabel(r\"Yield [#/(MeV$\\cdot$sr$\\cdot$s.p.)]\",fontsize=fs)\n",
    "    else:\n",
    "        plt.ylabel(r\"Yield [#/(MeV/n$\\cdot$sr$\\cdot$s.p.)]\",fontsize=fs)\n",
    "\n",
    "# Generate portion of legend specifying data sets\n",
    "if spi == 1:\n",
    "    exp_leg, = plt.errorbar(np.NaN, np.NaN,yerr=0, color='dimgrey', marker=\".\",markersize=3,linestyle=\":\",alpha=1.0), #, label=r'Deconvolued')\n",
    "else:\n",
    "    exp_leg,  = plt.errorbar(np.NaN, np.NaN,xerr=0,yerr=0,marker=\".\",c='dimgrey',markersize=2,linestyle=\"\",elinewidth=0.5,markeredgewidth=0.5,capsize=0), # , label=r'Experimental (ToF)') \n",
    "\n",
    "MCNP_leg, = plt.errorbar(np.NaN, np.NaN,yerr=0, color='dimgrey', marker=\"^\",markersize=3,linestyle=\"--\"), #, label=r'Simulated (MCNP)')\n",
    "PHITS_leg, = plt.errorbar(np.NaN, np.NaN,yerr=0, color='dimgrey', marker=\"s\",markersize=3,linestyle=\"--\"), #, label=r'Simulated (PHITS)')\n",
    "\n",
    "n_data_sets = len(data_set_i_list)\n",
    "abs_min_yield = 10**(-10)\n",
    "\n",
    "legs_for_ds = [exp_leg, MCNP_leg, PHITS_leg]\n",
    "used_ds_legs = []\n",
    "used_ds_leg_strs = []\n",
    "leg_handles1 = []\n",
    "leg_labels1 = []\n",
    "\n",
    "y_min = 0.0001 # later used to set y-axis minimum\n",
    "y_max = 0.001 # later used to set y-axis maximum\n",
    "\n",
    "for dsi in data_set_i_list:\n",
    "    # make sure dataset is populated first\n",
    "    if np.sum(mm_values[dsi,iei,ftmi,ftti,spi,:,3,:]) == 0: \n",
    "        n_data_sets += -1\n",
    "        continue\n",
    "    used_ds_legs.append(legs_for_ds[dsi])\n",
    "    used_ds_leg_strs.append(leg_strings[dsi])\n",
    "    k=0\n",
    "    for di in det_angle_i_list:\n",
    "        ndet = str(di+1)\n",
    "        scale_power = 2*((len(det_angle_i_list)-1)-k)\n",
    "        mult_factor = mult_factor_base**scale_power\n",
    "        if spacing_condition == 0:\n",
    "            lab_text = detectors_angles[detti][di%6]\n",
    "        else:\n",
    "            lab_text = detectors_angles[detti][di%6] + r\" $\\times10^{{{0}}}$\".format(str(int(scale_power)))\n",
    "        k += 1\n",
    "        \n",
    "        # Make artificial legend for 6 detectors\n",
    "        ebp = ax.plot(np.NaN, np.NaN,c=detector_colors(di%6),marker=\"s\",markersize=8,linestyle=\"\") #,label=lab_text) #,label='Simulated (MCNP)')\n",
    "        leg_handles1.append(ebp[0])\n",
    "        leg_labels1.append(lab_text)\n",
    "        \n",
    "        # Enforce minimum yield value\n",
    "        trash_y_vals = mm_values[dsi,iei,ftmi,ftti,spi,di,3,:] < abs_min_yield\n",
    "        mm_values[dsi,iei,ftmi,ftti,spi,di,3,:][trash_y_vals] = 0\n",
    "        \n",
    "        nzi = np.nonzero(mm_values[dsi,iei,ftmi,ftti,spi,di,3,:])\n",
    "        xdata = mm_values[dsi,iei,ftmi,ftti,spi,di,1,:][nzi]\n",
    "        xbinw = [mm_values[dsi,iei,ftmi,ftti,spi,di,1,:][nzi]-mm_values[dsi,iei,ftmi,ftti,spi,di,0,:][nzi] , mm_values[dsi,iei,ftmi,ftti,spi,di,2,:][nzi]-mm_values[dsi,iei,ftmi,ftti,spi,di,1,:][nzi]]\n",
    "        ydata = mm_values[dsi,iei,ftmi,ftti,spi,di,3,:][nzi]\n",
    "        yerr_stat = mm_values[dsi,iei,ftmi,ftti,spi,di,4,:][nzi]\n",
    "        yerr_sys = mm_values[dsi,iei,ftmi,ftti,spi,di,5,:][nzi]\n",
    "        xerr = mm_values[dsi,iei,ftmi,ftti,spi,di,6,:][nzi]\n",
    "        \n",
    "        \n",
    "        \n",
    "        ydata = ydata*mult_factor\n",
    "        yerr_stat = yerr_stat*mult_factor\n",
    "        yerr_sys = yerr_sys*mult_factor\n",
    "        \n",
    "        if len(ydata) != 0:\n",
    "            if min(ydata)<y_min: y_min = min(ydata)\n",
    "            if max(ydata)>y_max: y_max = max(ydata)\n",
    "        \n",
    "        # Generate plots\n",
    "        if dsi == 0: # experimental results\n",
    "            if spi == 1: # deconvoluted neutrons\n",
    "                alpha_val=1.0\n",
    "                marker_val = \".\"\n",
    "                p = plt.errorbar(xdata,ydata,yerr=yerr_stat,c=detector_colors(di%6),marker=marker_val,markersize=3,linestyle=\":\",alpha=alpha_val,label=lab_text) #,label='Simulated (MCNP)')\n",
    "            else:\n",
    "                # x error bar (bin width)\n",
    "                xerrbar = xbinw\n",
    "                # x error box (energy resolution\n",
    "                xerrbox = xerr\n",
    "                xerrbox = np.array([xerrbox, xerrbox])\n",
    "                # y error bar (systematic uncertainty)\n",
    "                yerrbar = [yerr_sys, yerr_sys]\n",
    "                yerrbar[0][(ydata-yerrbar[0])<=0]=0 # get rid of negative error bars\n",
    "                yerrbar[1][(ydata)<=0]=0 # get rid of errorbars on negative points\n",
    "                # y error box (statistical uncertainty)\n",
    "                yerrbox = np.array([yerr_stat, yerr_stat])\n",
    "                \n",
    "                p = plt.errorbar(xdata,ydata,xerr=xerrbar,yerr=yerrbar,marker=\".\",c=detector_colors(di%6),markersize=2,linestyle=\"\",elinewidth=0.5,markeredgewidth=0.5,capsize=0,label=lab_text)\n",
    "                nx_color = detector_colors(di%6) #p[0].get_color()\n",
    "                makeErrorBoxes(xdata,ydata,xerrbox,yerrbox,fc='None',ec=nx_color,alpha=1.0,lw=0.5)\n",
    "                makeErrorBoxes(xdata,ydata,xerrbox,yerrbox,fc=nx_color,ec='None',alpha=0.1,lw=0.5)\n",
    "                \n",
    "        elif dsi == 1: # MCNP results\n",
    "            ebp = plt.errorbar(xdata,ydata,yerr=yerr_stat,c=detector_colors(di%6),marker=\"^\",markersize=3,linestyle=\"--\") #,label=lab_text) #,label='Simulated (MCNP)')\n",
    "        \n",
    "        elif dsi == 2: # PHITS results\n",
    "            ebp = plt.errorbar(xdata,ydata,yerr=yerr_stat,c=detector_colors(di%6),marker=\"s\",markersize=3,linestyle=\"--\") #,label=lab_text) #,label='Simulated (PHITS)')\n",
    "        \n",
    "\n",
    "if spacing_condition == 1:\n",
    "    box_h_offset = 0.14 - 0.005*len(det_angle_i_list) # vertical offset left at the bottom for legend stuff\n",
    "    leg_minus_y = -0.01*(6-len(det_angle_i_list))\n",
    "    leg2_anchor = (0.45, -0.065+leg_minus_y) # data sets\n",
    "    leg1_anchor = (0.47, -0.115+leg_minus_y) # detectors \n",
    "else:\n",
    "    box_h_offset = 0.11 + 0.02*np.floor((len(det_angle_i_list)-1)/3) # vertical offset left at the bottom for legend stuff\n",
    "    leg2_anchor = (0.45, -0.115) # data sets\n",
    "    leg1_anchor = (0.47, -0.175) # detectors \n",
    "\n",
    "box_h_multiplier = 1-box_h_offset #0.92 # percentage of total height occupied by actual plot\n",
    "\n",
    "#handles, labels = ax.get_legend_handles_labels()\n",
    "#if len(data_set_i_list)==3: # Three rows in named legend\n",
    "#    box_h_multiplier = 0.92 # percentage of total height occupied by actual plot\n",
    "#    box_h_offset = 0.12 # vertical offset left at the bottom for legend stuff\n",
    "#    leg2_anchor = (0.5, -0.065)\n",
    "#    leg1_anchor = (0.47, -0.155)\n",
    "#elif len(data_set_i_list)==2: # Two rows of legend\n",
    "#    box_h_multiplier = 0.92 # percentage of total height occupied by actual plot\n",
    "#    box_h_offset = 0.12 # vertical offset left at the bottom for legend stuff\n",
    "#    leg2_anchor = (0.5, -0.065)\n",
    "#    leg1_anchor = (0.47, -0.155)\n",
    "#else: # One row of legend\n",
    "#    box_h_multiplier = 0.92 # percentage of total height occupied by actual plot\n",
    "#    box_h_offset = 0.12 # vertical offset left at the bottom for legend stuff\n",
    "#    leg2_anchor = (0.5, -0.065)\n",
    "#    leg1_anchor = (0.47, -0.155)\n",
    "\n",
    "# Set size and location of the plot on the canvas\n",
    "box = ax.get_position()\n",
    "ax.set_position([box.x0 + box.width * 0.025, box.y0 + box.height * box_h_offset,box.width * 0.95, box.height * box_h_multiplier])\n",
    "\n",
    "# Put a legend below current axis\n",
    "legend2 = ax.legend(used_ds_legs,used_ds_leg_strs,loc='upper center', bbox_to_anchor=leg2_anchor, ncol=n_data_sets)\n",
    "\n",
    "# Put a legend below current axis\n",
    "ax.legend(leg_handles1[:(len(det_angle_i_list))],leg_labels1[:(len(det_angle_i_list))],loc='upper center', bbox_to_anchor=leg1_anchor, ncol=3,handletextpad=0.1)\n",
    "ax.add_artist(legend2)\n",
    "\n",
    "window_title = mm_metadata[dsi,isi,iei,ftmi,ftti,spi,0,1] + \"_fig\"\n",
    "fig.canvas.set_window_title(window_title)\n",
    "if spacing_condition == 1: \n",
    "    height_val = 5.25 + len(det_angle_i_list)\n",
    "    fig.set_size_inches(5.25,height_val)\n",
    "else:\n",
    "    fig.set_size_inches(5.25,6.25)\n",
    "        \n",
    "plt.xscale('log')\n",
    "plt.yscale('log')\n",
    "plt.grid(b=True, which='major', linestyle='-', alpha=0.25)\n",
    "plt.grid(b=True, which='minor', linestyle='-', alpha=0.10)\n",
    "plt.xlim([5,2000])\n",
    "plt.ylim([10**np.floor(np.log10(y_min)),10**np.ceil(np.log10(y_max))])        \n",
    "\n",
    "plt.show()        \n",
    "        \n",
    "    \n",
    "    \n"
   ]
  },
  {
   "cell_type": "code",
   "execution_count": null,
   "metadata": {
    "collapsed": true
   },
   "outputs": [],
   "source": []
  }
 ],
 "metadata": {
  "kernelspec": {
   "display_name": "Python 3",
   "language": "python",
   "name": "python3"
  },
  "language_info": {
   "codemirror_mode": {
    "name": "ipython",
    "version": 3
   },
   "file_extension": ".py",
   "mimetype": "text/x-python",
   "name": "python",
   "nbconvert_exporter": "python",
   "pygments_lexer": "ipython3",
   "version": "3.6.2"
  },
  "widgets": {
   "application/vnd.jupyter.widget-state+json": {
    "state": {
     "0017f825ac48419da4b51260e1acf358": {
      "model_module": "@jupyter-widgets/base",
      "model_module_version": "1.0.0",
      "model_name": "LayoutModel",
      "state": {}
     },
     "0070d4f6780e40d6b962f1dfc9e13934": {
      "model_module": "@jupyter-widgets/base",
      "model_module_version": "1.0.0",
      "model_name": "LayoutModel",
      "state": {}
     },
     "008a7696a1c74d4cb8ae1ca7c84e83e4": {
      "model_module": "@jupyter-widgets/controls",
      "model_module_version": "1.1.0",
      "model_name": "DescriptionStyleModel",
      "state": {
       "description_width": ""
      }
     },
     "008d4deaa4f24f778435821053645eab": {
      "model_module": "@jupyter-widgets/controls",
      "model_module_version": "1.1.0",
      "model_name": "DescriptionStyleModel",
      "state": {
       "description_width": ""
      }
     },
     "0097f451415149d5a8a5b91cd0fcde5b": {
      "model_module": "@jupyter-widgets/controls",
      "model_module_version": "1.1.0",
      "model_name": "DescriptionStyleModel",
      "state": {
       "description_width": ""
      }
     },
     "00ad944b06944d3ab809f24d2c5ca45d": {
      "model_module": "@jupyter-widgets/base",
      "model_module_version": "1.0.0",
      "model_name": "LayoutModel",
      "state": {}
     },
     "00d74a39d4c04a5fa369e9a5a81e7161": {
      "model_module": "@jupyter-widgets/controls",
      "model_module_version": "1.1.0",
      "model_name": "CheckboxModel",
      "state": {
       "description": "60°",
       "disabled": false,
       "layout": "IPY_MODEL_ff286a067c23439a868c7e18520be3c3",
       "style": "IPY_MODEL_b04672d85a424837b02b239fd6d93306",
       "value": false
      }
     },
     "00f95cd13fc5493dbd84db161aa668d2": {
      "model_module": "@jupyter-widgets/controls",
      "model_module_version": "1.1.0",
      "model_name": "ToggleButtonsStyleModel",
      "state": {
       "button_width": "",
       "description_width": ""
      }
     },
     "010886a935064dafbac5afac795dc090": {
      "model_module": "@jupyter-widgets/controls",
      "model_module_version": "1.1.0",
      "model_name": "ToggleButtonsModel",
      "state": {
       "_options_labels": [
        "20 g/cm²",
        "40 g/cm²",
        "60 g/cm²"
       ],
       "button_style": "",
       "description": "Thickness:",
       "icons": [],
       "index": 0,
       "layout": "IPY_MODEL_baf6d63299f54108a883c23ac2fe5f20",
       "style": "IPY_MODEL_cc8d38e0424c4fb483595feafc62784c",
       "tooltips": [
        "20 g/cm² Aluminum",
        "40 g/cm² Aluminum",
        "60 g/cm² Aluminum"
       ]
      }
     },
     "012702128d55420bb4f3a67906054542": {
      "model_module": "@jupyter-widgets/controls",
      "model_module_version": "1.1.0",
      "model_name": "ToggleButtonsStyleModel",
      "state": {
       "button_width": "",
       "description_width": ""
      }
     },
     "0134c3792d954a6fb8646afb9cd0529f": {
      "model_module": "@jupyter-widgets/controls",
      "model_module_version": "1.1.0",
      "model_name": "DescriptionStyleModel",
      "state": {
       "description_width": ""
      }
     },
     "01cfdf7a65f047b8a4c617630919767c": {
      "model_module": "@jupyter-widgets/controls",
      "model_module_version": "1.1.0",
      "model_name": "DescriptionStyleModel",
      "state": {
       "description_width": ""
      }
     },
     "01ffdb0f8e284eb5bc5ea005cd6710e7": {
      "model_module": "@jupyter-widgets/base",
      "model_module_version": "1.0.0",
      "model_name": "LayoutModel",
      "state": {}
     },
     "0216a4952183460e87f1704add98eb41": {
      "model_module": "@jupyter-widgets/controls",
      "model_module_version": "1.1.0",
      "model_name": "LabelModel",
      "state": {
       "layout": "IPY_MODEL_c4c4135d776f4acd9de51c55ac838f6e",
       "style": "IPY_MODEL_30f4d12206a246b7a77d5dc6a690b65f",
       "value": "Select which sets of data to display."
      }
     },
     "023d98986734416e92f986009753c584": {
      "model_module": "@jupyter-widgets/controls",
      "model_module_version": "1.1.0",
      "model_name": "DescriptionStyleModel",
      "state": {
       "description_width": ""
      }
     },
     "027fe3d5ff7043d781512933effbf2f7": {
      "model_module": "@jupyter-widgets/base",
      "model_module_version": "1.0.0",
      "model_name": "LayoutModel",
      "state": {}
     },
     "02aa7d90330a4b3696037f1f27886f8c": {
      "model_module": "@jupyter-widgets/controls",
      "model_module_version": "1.1.0",
      "model_name": "LabelModel",
      "state": {
       "layout": "IPY_MODEL_3cf480469a1c4902b53f1b2f7ff72c9d",
       "style": "IPY_MODEL_4e692a9a30684f1e9cf9f9eab12388e7",
       "value": "Select projectile ion energy."
      }
     },
     "02f0fec9ce024a018ce95422f807e9d9": {
      "model_module": "@jupyter-widgets/base",
      "model_module_version": "1.0.0",
      "model_name": "LayoutModel",
      "state": {}
     },
     "0325f1eb5b4447b2b246594279c8fe3a": {
      "model_module": "@jupyter-widgets/controls",
      "model_module_version": "1.1.0",
      "model_name": "CheckboxModel",
      "state": {
       "description": "80°",
       "disabled": false,
       "layout": "IPY_MODEL_a170331431ec446bb37fa1103c649671",
       "style": "IPY_MODEL_7b49faf0031b4bbd8bcfec5944e74490",
       "value": true
      }
     },
     "03712579db5b417eb16f345eff7e67a8": {
      "model_module": "@jupyter-widgets/controls",
      "model_module_version": "1.1.0",
      "model_name": "DescriptionStyleModel",
      "state": {
       "description_width": ""
      }
     },
     "038cd47bafb04d39a36cd5ab084c585d": {
      "model_module": "@jupyter-widgets/controls",
      "model_module_version": "1.1.0",
      "model_name": "DescriptionStyleModel",
      "state": {
       "description_width": ""
      }
     },
     "039f033d47cf409a828dd3e58c09ff31": {
      "model_module": "@jupyter-widgets/base",
      "model_module_version": "1.0.0",
      "model_name": "LayoutModel",
      "state": {}
     },
     "03a393a5b856453da2dc9e69bb9c625b": {
      "model_module": "@jupyter-widgets/controls",
      "model_module_version": "1.1.0",
      "model_name": "DescriptionStyleModel",
      "state": {
       "description_width": ""
      }
     },
     "03b19c06f12e4aadad7aec80c5d6b1ed": {
      "model_module": "@jupyter-widgets/base",
      "model_module_version": "1.0.0",
      "model_name": "LayoutModel",
      "state": {}
     },
     "03bce7f3e45942f3879e3634436c2d48": {
      "model_module": "@jupyter-widgets/controls",
      "model_module_version": "1.1.0",
      "model_name": "CheckboxModel",
      "state": {
       "description": "80°",
       "disabled": false,
       "layout": "IPY_MODEL_933c72475e084d81ac77d6da3209cd71",
       "style": "IPY_MODEL_19e0b081d42e4dccaf1e0c50fc67ddd5",
       "value": false
      }
     },
     "03fbf2b260454a4aba02e0841a431c22": {
      "model_module": "@jupyter-widgets/base",
      "model_module_version": "1.0.0",
      "model_name": "LayoutModel",
      "state": {}
     },
     "0405d139d80c4d2fb48d2bc080b29133": {
      "model_module": "@jupyter-widgets/base",
      "model_module_version": "1.0.0",
      "model_name": "LayoutModel",
      "state": {}
     },
     "0454756e6ff34fae97b8cbffb2800fb8": {
      "model_module": "@jupyter-widgets/controls",
      "model_module_version": "1.1.0",
      "model_name": "ToggleButtonsModel",
      "state": {
       "_options_labels": [
        "H",
        "He",
        "C",
        "Si",
        "Fe"
       ],
       "button_style": "",
       "description": "Ion:",
       "icons": [],
       "index": 0,
       "layout": "IPY_MODEL_6656e479c3aa402088a708dc7886b481",
       "style": "IPY_MODEL_ec4904e2908944e1b622c2574f0e912a",
       "tooltips": [
        "Hydrogen",
        "Helium",
        "Carbon",
        "Silicon",
        "Iron"
       ]
      }
     },
     "047a017af03e49b6b3d64477ccdbb467": {
      "model_module": "@jupyter-widgets/base",
      "model_module_version": "1.0.0",
      "model_name": "LayoutModel",
      "state": {}
     },
     "04856c4da0f8470b965e9c90face4351": {
      "model_module": "@jupyter-widgets/controls",
      "model_module_version": "1.1.0",
      "model_name": "ToggleButtonsModel",
      "state": {
       "_options_labels": [
        "P (¹H)",
        "D (²H)"
       ],
       "button_style": "",
       "description": "Type:",
       "icons": [],
       "index": 0,
       "layout": "IPY_MODEL_c5d36e086e9d4cc3b7d1557ef0f7fa5e",
       "style": "IPY_MODEL_967b141189f74ccab36ab8014846abc2",
       "tooltips": [
        "Proton",
        "Deuteron"
       ]
      }
     },
     "048b5560dcc54ec0965d27a0b4adde42": {
      "model_module": "@jupyter-widgets/controls",
      "model_module_version": "1.1.0",
      "model_name": "CheckboxModel",
      "state": {
       "description": "Experiment",
       "disabled": false,
       "layout": "IPY_MODEL_3cb589dd6b2345fa9a81a2223dc97ce9",
       "style": "IPY_MODEL_75d2183c47ac4eb8a8ab256a36a9db1d",
       "value": true
      }
     },
     "048c1bcecd1d40c0884a177d5a9871b8": {
      "model_module": "@jupyter-widgets/controls",
      "model_module_version": "1.1.0",
      "model_name": "CheckboxModel",
      "state": {
       "description": "10°",
       "disabled": false,
       "layout": "IPY_MODEL_922f9e22784b4ae2bb657e36623d08f7",
       "style": "IPY_MODEL_6432281fb9754f448a6ef8b536a3b412",
       "value": true
      }
     },
     "048c97d7f51846b8a8fb4df0561446da": {
      "model_module": "@jupyter-widgets/controls",
      "model_module_version": "1.1.0",
      "model_name": "ToggleButtonsStyleModel",
      "state": {
       "button_width": "",
       "description_width": ""
      }
     },
     "04d1efb4970542e8a1080845ae9e2928": {
      "model_module": "@jupyter-widgets/controls",
      "model_module_version": "1.1.0",
      "model_name": "ToggleButtonsStyleModel",
      "state": {
       "button_width": "",
       "description_width": ""
      }
     },
     "04f6f0b7ec3144c382a4cc7cc0382006": {
      "model_module": "@jupyter-widgets/controls",
      "model_module_version": "1.1.0",
      "model_name": "DescriptionStyleModel",
      "state": {
       "description_width": ""
      }
     },
     "053cbccbe0f4414bad85c180627d0aa8": {
      "model_module": "@jupyter-widgets/base",
      "model_module_version": "1.0.0",
      "model_name": "LayoutModel",
      "state": {}
     },
     "056247fa572144639545bed9724d980c": {
      "model_module": "@jupyter-widgets/base",
      "model_module_version": "1.0.0",
      "model_name": "LayoutModel",
      "state": {}
     },
     "05cb3d47b34d471a8df96e77a72f430b": {
      "model_module": "@jupyter-widgets/controls",
      "model_module_version": "1.1.0",
      "model_name": "DescriptionStyleModel",
      "state": {
       "description_width": ""
      }
     },
     "05d44f7bd9aa41a9b3174967dca3017e": {
      "model_module": "@jupyter-widgets/controls",
      "model_module_version": "1.1.0",
      "model_name": "DescriptionStyleModel",
      "state": {
       "description_width": ""
      }
     },
     "0686d3b5c5b84f9092d04cdafdc19e38": {
      "model_module": "@jupyter-widgets/controls",
      "model_module_version": "1.1.0",
      "model_name": "CheckboxModel",
      "state": {
       "description": "135°",
       "disabled": false,
       "layout": "IPY_MODEL_65dc34305d364cc9aec224dba5542416",
       "style": "IPY_MODEL_bf46a752abcc4d5fbf32245fdf95c4c6",
       "value": true
      }
     },
     "0690a3e1cbc74d7187623275273dfd04": {
      "model_module": "@jupyter-widgets/controls",
      "model_module_version": "1.1.0",
      "model_name": "CheckboxModel",
      "state": {
       "description": "28.2°",
       "disabled": false,
       "layout": "IPY_MODEL_d2d4748d7e4a474f915d0d74bdbdd997",
       "style": "IPY_MODEL_7d96e7efeee54fd8a36c0a044393d5b5",
       "value": true
      }
     },
     "06911039ed2b4f93bbec1f3465e4792f": {
      "model_module": "@jupyter-widgets/controls",
      "model_module_version": "1.1.0",
      "model_name": "DescriptionStyleModel",
      "state": {
       "description_width": ""
      }
     },
     "06d7392df2194c34bd81733ab0f8cac0": {
      "model_module": "@jupyter-widgets/controls",
      "model_module_version": "1.1.0",
      "model_name": "CheckboxModel",
      "state": {
       "description": "10°",
       "disabled": false,
       "layout": "IPY_MODEL_5f33917099b84db99530cfe19a797a09",
       "style": "IPY_MODEL_cc25001962124cd0b19df67981cb178d",
       "value": true
      }
     },
     "06ffd4f5627f4e9aa530d9ff2d701525": {
      "model_module": "@jupyter-widgets/controls",
      "model_module_version": "1.1.0",
      "model_name": "ToggleButtonsModel",
      "state": {
       "_options_labels": [
        "None",
        "Spaced by 10²"
       ],
       "button_style": "",
       "description": "Spacing:",
       "icons": [],
       "index": 0,
       "layout": "IPY_MODEL_5db4f40a4ff340c792d454c100ac3ca1",
       "style": "IPY_MODEL_10a9f39e18144bbb8a1579af3ea8665d",
       "tooltips": [
        "All values are presented as is.",
        "Plots for different detectors are multiplied by powers of 10² for easier viewing."
       ]
      }
     },
     "0746464c2c8941e88c580ec518a56bda": {
      "model_module": "@jupyter-widgets/base",
      "model_module_version": "1.0.0",
      "model_name": "LayoutModel",
      "state": {}
     },
     "0746ca285bc24b84bbfb25149be57bd6": {
      "model_module": "@jupyter-widgets/controls",
      "model_module_version": "1.1.0",
      "model_name": "DescriptionStyleModel",
      "state": {
       "description_width": ""
      }
     },
     "074cb167ae664aa1a749896d67cfd459": {
      "model_module": "@jupyter-widgets/controls",
      "model_module_version": "1.1.0",
      "model_name": "DescriptionStyleModel",
      "state": {
       "description_width": ""
      }
     },
     "078ada0077324c248ec853179331469f": {
      "model_module": "@jupyter-widgets/controls",
      "model_module_version": "1.1.0",
      "model_name": "DescriptionStyleModel",
      "state": {
       "description_width": ""
      }
     },
     "07a353fb216b4b9d82518cf8f40c9a26": {
      "model_module": "@jupyter-widgets/controls",
      "model_module_version": "1.1.0",
      "model_name": "LabelModel",
      "state": {
       "layout": "IPY_MODEL_eacf4b0c30b94827b8e74e51c200c853",
       "style": "IPY_MODEL_a5ab1f2937214bd09dec3d87590ba417",
       "value": "Select which secondary particle to plot spectra for."
      }
     },
     "07d75c2623a14acaac5b43e08e71b559": {
      "model_module": "@jupyter-widgets/controls",
      "model_module_version": "1.1.0",
      "model_name": "DescriptionStyleModel",
      "state": {
       "description_width": ""
      }
     },
     "08166d77b35f43fd8598f6c8612cbcaa": {
      "model_module": "@jupyter-widgets/controls",
      "model_module_version": "1.1.0",
      "model_name": "DescriptionStyleModel",
      "state": {
       "description_width": ""
      }
     },
     "081eed35ebd6477f95c3abb50281bf35": {
      "model_module": "@jupyter-widgets/controls",
      "model_module_version": "1.1.0",
      "model_name": "ToggleButtonsStyleModel",
      "state": {
       "button_width": "",
       "description_width": ""
      }
     },
     "083d6cdb707a4e63bf282c13b7456a14": {
      "model_module": "@jupyter-widgets/base",
      "model_module_version": "1.0.0",
      "model_name": "LayoutModel",
      "state": {}
     },
     "087c346b7f9149a5bcd28c50dd1b4483": {
      "model_module": "@jupyter-widgets/controls",
      "model_module_version": "1.1.0",
      "model_name": "CheckboxModel",
      "state": {
       "description": "10°",
       "disabled": false,
       "layout": "IPY_MODEL_0dfa11fe74624d75989c09fe7f864bfe",
       "style": "IPY_MODEL_19147c5420c549e0b2700c357babc0f8",
       "value": true
      }
     },
     "08874af4f11e4866a1c963a34f169b7b": {
      "model_module": "@jupyter-widgets/controls",
      "model_module_version": "1.1.0",
      "model_name": "DescriptionStyleModel",
      "state": {
       "description_width": ""
      }
     },
     "08a9fee61c6045c59bcc75c4bd20081c": {
      "model_module": "@jupyter-widgets/controls",
      "model_module_version": "1.1.0",
      "model_name": "DescriptionStyleModel",
      "state": {
       "description_width": ""
      }
     },
     "08f0b78c47574a45ac876371dff017db": {
      "model_module": "@jupyter-widgets/base",
      "model_module_version": "1.0.0",
      "model_name": "LayoutModel",
      "state": {}
     },
     "0904d5c615004520b4addc0afd8f11c6": {
      "model_module": "@jupyter-widgets/base",
      "model_module_version": "1.0.0",
      "model_name": "LayoutModel",
      "state": {}
     },
     "090598d5c0c24f1f90f63baa520df67a": {
      "model_module": "@jupyter-widgets/base",
      "model_module_version": "1.0.0",
      "model_name": "LayoutModel",
      "state": {}
     },
     "09361aa9b2214dcb930e3afa4c30b797": {
      "model_module": "@jupyter-widgets/controls",
      "model_module_version": "1.1.0",
      "model_name": "CheckboxModel",
      "state": {
       "description": "10°",
       "disabled": false,
       "layout": "IPY_MODEL_1749abe25a594d598be919bca214e8ae",
       "style": "IPY_MODEL_c2605c1cb60749a7b7270bcd75f72b79",
       "value": true
      }
     },
     "094e31aacf7e473a919b5a57d531f347": {
      "model_module": "@jupyter-widgets/base",
      "model_module_version": "1.0.0",
      "model_name": "LayoutModel",
      "state": {}
     },
     "095b4ce3a3364cbaa4c0dbd459814f9a": {
      "model_module": "@jupyter-widgets/controls",
      "model_module_version": "1.1.0",
      "model_name": "DescriptionStyleModel",
      "state": {
       "description_width": ""
      }
     },
     "096edd4c560a4a609841cd291ee98d00": {
      "model_module": "@jupyter-widgets/controls",
      "model_module_version": "1.1.0",
      "model_name": "CheckboxModel",
      "state": {
       "description": "10°",
       "disabled": false,
       "layout": "IPY_MODEL_665fc08931fc44619afd3e1014cef644",
       "style": "IPY_MODEL_a59b588a6e0b4502b50c251055bfb406",
       "value": true
      }
     },
     "09f1f55f355d408eb0e5a49eba19f462": {
      "model_module": "@jupyter-widgets/base",
      "model_module_version": "1.0.0",
      "model_name": "LayoutModel",
      "state": {}
     },
     "09f55ebe75614576bc59d2f1dc4acb99": {
      "model_module": "@jupyter-widgets/controls",
      "model_module_version": "1.1.0",
      "model_name": "LabelModel",
      "state": {
       "layout": "IPY_MODEL_a32596ccc6844d88beffb3e6617460f0",
       "style": "IPY_MODEL_d356f5cd30dd499481e6418c369bd94c",
       "value": "Select the detector angles to plot."
      }
     },
     "0a097c151ddc43b782d890c5da15407d": {
      "model_module": "@jupyter-widgets/controls",
      "model_module_version": "1.1.0",
      "model_name": "CheckboxModel",
      "state": {
       "description": "10°",
       "disabled": false,
       "layout": "IPY_MODEL_9871518fbb424f9fb82122b1118f1676",
       "style": "IPY_MODEL_64bcc39945b54dc3845c9c8a5f663971",
       "value": true
      }
     },
     "0a0d9cee4f61455e902848baa25f71d3": {
      "model_module": "@jupyter-widgets/controls",
      "model_module_version": "1.1.0",
      "model_name": "DescriptionStyleModel",
      "state": {
       "description_width": ""
      }
     },
     "0a2b6bf867184cf09ab1315bfa560c20": {
      "model_module": "@jupyter-widgets/controls",
      "model_module_version": "1.1.0",
      "model_name": "CheckboxModel",
      "state": {
       "description": "30°",
       "disabled": false,
       "layout": "IPY_MODEL_58077b879af64e7dbc37ed3f0b737f2b",
       "style": "IPY_MODEL_fafd0e3b04b4483f90d356ced0c29506",
       "value": true
      }
     },
     "0a3b209bcf6841b9a433d6e5c3b1a795": {
      "model_module": "@jupyter-widgets/controls",
      "model_module_version": "1.1.0",
      "model_name": "ToggleButtonsStyleModel",
      "state": {
       "button_width": "",
       "description_width": ""
      }
     },
     "0a4648394cbd457b8e85c232f793fa03": {
      "model_module": "@jupyter-widgets/controls",
      "model_module_version": "1.1.0",
      "model_name": "CheckboxModel",
      "state": {
       "description": "30°",
       "disabled": false,
       "layout": "IPY_MODEL_b1b2e4a172a0450c8398fd8c63426533",
       "style": "IPY_MODEL_94f922cfd08645dbadb59353c980e910",
       "value": true
      }
     },
     "0a82ab59695f43bab8f1746b3a2e4905": {
      "model_module": "@jupyter-widgets/base",
      "model_module_version": "1.0.0",
      "model_name": "LayoutModel",
      "state": {}
     },
     "0a892fe9e1af434dbee48a0fe6ed30f0": {
      "model_module": "@jupyter-widgets/base",
      "model_module_version": "1.0.0",
      "model_name": "LayoutModel",
      "state": {}
     },
     "0abffa0061eb431eadd0b537a048d95d": {
      "model_module": "@jupyter-widgets/base",
      "model_module_version": "1.0.0",
      "model_name": "LayoutModel",
      "state": {}
     },
     "0b10e77ea73949b88d3e9b00e33b7c0c": {
      "model_module": "@jupyter-widgets/controls",
      "model_module_version": "1.1.0",
      "model_name": "CheckboxModel",
      "state": {
       "description": "80°",
       "disabled": false,
       "layout": "IPY_MODEL_384c2f9e6a9240a7aac3d6b7beeb3c2e",
       "style": "IPY_MODEL_008a7696a1c74d4cb8ae1ca7c84e83e4",
       "value": true
      }
     },
     "0b259ca278e647fdae7df89f47deff34": {
      "model_module": "@jupyter-widgets/base",
      "model_module_version": "1.0.0",
      "model_name": "LayoutModel",
      "state": {}
     },
     "0b27835f9ef445558cc2f963f85d4f87": {
      "model_module": "@jupyter-widgets/controls",
      "model_module_version": "1.1.0",
      "model_name": "DescriptionStyleModel",
      "state": {
       "description_width": ""
      }
     },
     "0b6e65836b254ff49828fe5d8fdca69f": {
      "model_module": "@jupyter-widgets/controls",
      "model_module_version": "1.1.0",
      "model_name": "CheckboxModel",
      "state": {
       "description": "45°",
       "disabled": false,
       "layout": "IPY_MODEL_56eef3271bf545989ce729f658001984",
       "style": "IPY_MODEL_2ca819c4502f4d179b97705857a3cea9",
       "value": true
      }
     },
     "0ba15f02a3e241cfb5554239e37e8a39": {
      "model_module": "@jupyter-widgets/base",
      "model_module_version": "1.0.0",
      "model_name": "LayoutModel",
      "state": {}
     },
     "0bb45028a61a44e6912f4379e8479fb2": {
      "model_module": "@jupyter-widgets/controls",
      "model_module_version": "1.1.0",
      "model_name": "CheckboxModel",
      "state": {
       "description": "30°",
       "disabled": false,
       "layout": "IPY_MODEL_a9eb32704977437e852c288bee57f477",
       "style": "IPY_MODEL_efcb746359c4475e975c88a99c210c04",
       "value": true
      }
     },
     "0be0b15171fb44f1af5f90865579e69a": {
      "model_module": "@jupyter-widgets/controls",
      "model_module_version": "1.1.0",
      "model_name": "CheckboxModel",
      "state": {
       "description": "30°",
       "disabled": false,
       "layout": "IPY_MODEL_ae04b1d2163a40a8bc5de76789e0d27d",
       "style": "IPY_MODEL_dc6d91722d5c44ff8bff9b0db1e2cff7",
       "value": true
      }
     },
     "0bf4a0d53fc74f159eaa0fe9e9553c72": {
      "model_module": "@jupyter-widgets/controls",
      "model_module_version": "1.1.0",
      "model_name": "DescriptionStyleModel",
      "state": {
       "description_width": ""
      }
     },
     "0c132da78fcf4a549f39d30e06c640a9": {
      "model_module": "@jupyter-widgets/base",
      "model_module_version": "1.0.0",
      "model_name": "LayoutModel",
      "state": {}
     },
     "0c250d6154444cb5aaca2a60f583c229": {
      "model_module": "@jupyter-widgets/controls",
      "model_module_version": "1.1.0",
      "model_name": "ToggleButtonsStyleModel",
      "state": {
       "button_width": "",
       "description_width": ""
      }
     },
     "0c3297f4aa9948278ef3e5ba45d189d8": {
      "model_module": "@jupyter-widgets/controls",
      "model_module_version": "1.1.0",
      "model_name": "DescriptionStyleModel",
      "state": {
       "description_width": ""
      }
     },
     "0c4497ae6e61401f93ba222bb92a4bec": {
      "model_module": "@jupyter-widgets/controls",
      "model_module_version": "1.1.0",
      "model_name": "LabelModel",
      "state": {
       "layout": "IPY_MODEL_4b6fa27e982d4d39a045f12e95015ba9",
       "style": "IPY_MODEL_4cc39a6a644b45c2ae23f45f0791d40f",
       "value": "Select projectile ion energy."
      }
     },
     "0c95bdbf92084f04ab1fb8409bf086a9": {
      "model_module": "@jupyter-widgets/controls",
      "model_module_version": "1.1.0",
      "model_name": "CheckboxModel",
      "state": {
       "description": "135°",
       "disabled": false,
       "layout": "IPY_MODEL_b1f1994c3de742f98d80525a0dc6cdb8",
       "style": "IPY_MODEL_15c535b975a647e4bedb7e06e6a77381",
       "value": true
      }
     },
     "0cc5ed2fc18449fb9cdba5cdc70bab69": {
      "model_module": "@jupyter-widgets/controls",
      "model_module_version": "1.1.0",
      "model_name": "DescriptionStyleModel",
      "state": {
       "description_width": ""
      }
     },
     "0d0ef56dfa2143b8afbd9dfe27c424f4": {
      "model_module": "@jupyter-widgets/controls",
      "model_module_version": "1.1.0",
      "model_name": "CheckboxModel",
      "state": {
       "description": "12.7°",
       "disabled": false,
       "layout": "IPY_MODEL_e006b153e8c04f7981c6ddc8c3678b96",
       "style": "IPY_MODEL_f606adc961c44f8b9755d1e03eb8449a",
       "value": false
      }
     },
     "0d391190abd44d54b833e58e653dc40b": {
      "model_module": "@jupyter-widgets/base",
      "model_module_version": "1.0.0",
      "model_name": "LayoutModel",
      "state": {}
     },
     "0d5b2c31b6ba45a5b485646040acbc1c": {
      "model_module": "@jupyter-widgets/controls",
      "model_module_version": "1.1.0",
      "model_name": "DescriptionStyleModel",
      "state": {
       "description_width": ""
      }
     },
     "0d68d719bd2542f7a4a21bfdbf9e730f": {
      "model_module": "@jupyter-widgets/controls",
      "model_module_version": "1.1.0",
      "model_name": "DescriptionStyleModel",
      "state": {
       "description_width": ""
      }
     },
     "0d751cb4f6e548f4b8ce129fb2a1948f": {
      "model_module": "@jupyter-widgets/base",
      "model_module_version": "1.0.0",
      "model_name": "LayoutModel",
      "state": {}
     },
     "0d9a471588b04f9abc437e7e66b87771": {
      "model_module": "@jupyter-widgets/controls",
      "model_module_version": "1.1.0",
      "model_name": "CheckboxModel",
      "state": {
       "description": "45°",
       "disabled": false,
       "layout": "IPY_MODEL_274735463f814b4bb41f95977294b805",
       "style": "IPY_MODEL_ddd4c7730c2943e088922ab80047a48e",
       "value": true
      }
     },
     "0dc535502f544ef18cef129a43da4899": {
      "model_module": "@jupyter-widgets/controls",
      "model_module_version": "1.1.0",
      "model_name": "DescriptionStyleModel",
      "state": {
       "description_width": ""
      }
     },
     "0df35494584e4aa2ae0f69fa4df9264c": {
      "model_module": "@jupyter-widgets/base",
      "model_module_version": "1.0.0",
      "model_name": "LayoutModel",
      "state": {}
     },
     "0dfa11fe74624d75989c09fe7f864bfe": {
      "model_module": "@jupyter-widgets/base",
      "model_module_version": "1.0.0",
      "model_name": "LayoutModel",
      "state": {}
     },
     "0e32b3e38b3b49b8af1d0d38aad130b8": {
      "model_module": "@jupyter-widgets/controls",
      "model_module_version": "1.1.0",
      "model_name": "DescriptionStyleModel",
      "state": {
       "description_width": ""
      }
     },
     "0e4a60466a5a4a2e8b39e6aa0b0e9b1d": {
      "model_module": "@jupyter-widgets/controls",
      "model_module_version": "1.1.0",
      "model_name": "CheckboxModel",
      "state": {
       "description": "45°",
       "disabled": false,
       "layout": "IPY_MODEL_21f02ba46e614e60a7ef3d5ddcb58c4d",
       "style": "IPY_MODEL_379905cd5a194accbe7b7a843105614d",
       "value": true
      }
     },
     "0e58a76a942e4d48a53853067b866527": {
      "model_module": "@jupyter-widgets/controls",
      "model_module_version": "1.1.0",
      "model_name": "ToggleButtonsModel",
      "state": {
       "_options_labels": [
        "N (¹n)",
        "NDC (¹n)",
        "P (¹H)",
        "D (²H)",
        "T (³H)",
        "S (³He)",
        "A (⁴He)"
       ],
       "button_style": "",
       "description": "Particle:",
       "icons": [],
       "index": 1,
       "layout": "IPY_MODEL_cf507ac9b5704ecda923c74581b54fa9",
       "style": "IPY_MODEL_42da148a2a3e4f1f9716cd92540ea132",
       "tooltips": [
        "Neutron",
        "Back Target Neutron",
        "Proton",
        "Deuteron",
        "Triton",
        "Helium-3",
        "Helium-4"
       ]
      }
     },
     "0e7c74024ab7459c89e88c6a6c6d58c7": {
      "model_module": "@jupyter-widgets/controls",
      "model_module_version": "1.1.0",
      "model_name": "DescriptionStyleModel",
      "state": {
       "description_width": ""
      }
     },
     "0e990f10fa3a4299b2d8194a6469a2da": {
      "model_module": "@jupyter-widgets/controls",
      "model_module_version": "1.1.0",
      "model_name": "DescriptionStyleModel",
      "state": {
       "description_width": ""
      }
     },
     "0ebc3162b4da49f3a6d4f7aa043c52d9": {
      "model_module": "@jupyter-widgets/base",
      "model_module_version": "1.0.0",
      "model_name": "LayoutModel",
      "state": {}
     },
     "0ed75108efaa44f5b4e6d73404bdf8f4": {
      "model_module": "@jupyter-widgets/controls",
      "model_module_version": "1.1.0",
      "model_name": "CheckboxModel",
      "state": {
       "description": "60°",
       "disabled": false,
       "layout": "IPY_MODEL_8ea468f235574c918668b197248fbf7d",
       "style": "IPY_MODEL_14cfeddecba7482199b9ea67847f885f",
       "value": true
      }
     },
     "0f4d8e82915342dea9c99fdf5cf9559b": {
      "model_module": "@jupyter-widgets/base",
      "model_module_version": "1.0.0",
      "model_name": "LayoutModel",
      "state": {}
     },
     "0f64b367e84944c6bb9f39de60b04729": {
      "model_module": "@jupyter-widgets/controls",
      "model_module_version": "1.1.0",
      "model_name": "DescriptionStyleModel",
      "state": {
       "description_width": ""
      }
     },
     "0faaac1d69f34135b1b9e3cc6ffeb29c": {
      "model_module": "@jupyter-widgets/controls",
      "model_module_version": "1.1.0",
      "model_name": "DescriptionStyleModel",
      "state": {
       "description_width": ""
      }
     },
     "0fd4e4d9a1e24438beae0580eb21cd0a": {
      "model_module": "@jupyter-widgets/controls",
      "model_module_version": "1.1.0",
      "model_name": "DescriptionStyleModel",
      "state": {
       "description_width": ""
      }
     },
     "0fee5ca72fa14b4591a7f674fc17f243": {
      "model_module": "@jupyter-widgets/controls",
      "model_module_version": "1.1.0",
      "model_name": "CheckboxModel",
      "state": {
       "description": "7.2°",
       "disabled": false,
       "layout": "IPY_MODEL_bbb5f1f4d7e24b1a81fd951913eb0c43",
       "style": "IPY_MODEL_1963e7eec4ae4110934c80444a00a43c",
       "value": true
      }
     },
     "10187d260a8f420e86a01fdd246b3b19": {
      "model_module": "@jupyter-widgets/controls",
      "model_module_version": "1.1.0",
      "model_name": "LabelModel",
      "state": {
       "layout": "IPY_MODEL_69b8433c4d3c4ff2811205a7b366fe96",
       "style": "IPY_MODEL_3ba19ebc170b40f2b661526b1e62419f",
       "value": "Select the detector angles to plot."
      }
     },
     "104d58e9449e48749b05fefce343f075": {
      "model_module": "@jupyter-widgets/base",
      "model_module_version": "1.0.0",
      "model_name": "LayoutModel",
      "state": {}
     },
     "105f5d8a905f448a8019eaa894cb6f2a": {
      "model_module": "@jupyter-widgets/controls",
      "model_module_version": "1.1.0",
      "model_name": "CheckboxModel",
      "state": {
       "description": "7.2°",
       "disabled": false,
       "layout": "IPY_MODEL_97954afcbea94f4f9fc07ecfe9a9f91d",
       "style": "IPY_MODEL_a02fa49cb30d40c4823416bf6ad3c976",
       "value": false
      }
     },
     "107b2e5c7cb84655ad1c8e6c784e2697": {
      "model_module": "@jupyter-widgets/controls",
      "model_module_version": "1.1.0",
      "model_name": "CheckboxModel",
      "state": {
       "description": "30°",
       "disabled": false,
       "layout": "IPY_MODEL_e497490ce55a47528fa6a34bf8452d68",
       "style": "IPY_MODEL_a7823db7be3f4cd48902bd8f6cbba005",
       "value": true
      }
     },
     "10a9f39e18144bbb8a1579af3ea8665d": {
      "model_module": "@jupyter-widgets/controls",
      "model_module_version": "1.1.0",
      "model_name": "ToggleButtonsStyleModel",
      "state": {
       "button_width": "",
       "description_width": ""
      }
     },
     "10b4f99509df485689b185a6e77913a5": {
      "model_module": "@jupyter-widgets/controls",
      "model_module_version": "1.1.0",
      "model_name": "DescriptionStyleModel",
      "state": {
       "description_width": ""
      }
     },
     "10bde275d29e4c31ad1864d67cdf153c": {
      "model_module": "@jupyter-widgets/controls",
      "model_module_version": "1.1.0",
      "model_name": "ToggleButtonsModel",
      "state": {
       "_options_labels": [
        "N (¹n)",
        "NDC (¹n)",
        "P (¹H)",
        "D (²H)"
       ],
       "button_style": "",
       "description": "Type:",
       "icons": [],
       "index": 0,
       "layout": "IPY_MODEL_3fa835cdaf12418f909ab21e9778b253",
       "style": "IPY_MODEL_8916808f573642e7a06afcd05d759af7",
       "tooltips": [
        "Neutron",
        "Back Target Neutron",
        "Proton",
        "Deuteron"
       ]
      }
     },
     "10eb4b649ea049f6a6685d6b048edfea": {
      "model_module": "@jupyter-widgets/base",
      "model_module_version": "1.0.0",
      "model_name": "LayoutModel",
      "state": {}
     },
     "10f183f605ce403daad19007e941f595": {
      "model_module": "@jupyter-widgets/controls",
      "model_module_version": "1.1.0",
      "model_name": "DescriptionStyleModel",
      "state": {
       "description_width": ""
      }
     },
     "114b096c8d2849e88380a0216538768e": {
      "model_module": "@jupyter-widgets/controls",
      "model_module_version": "1.1.0",
      "model_name": "DescriptionStyleModel",
      "state": {
       "description_width": ""
      }
     },
     "11595e0a202141b1a1810a8271297d9a": {
      "model_module": "@jupyter-widgets/controls",
      "model_module_version": "1.1.0",
      "model_name": "LabelModel",
      "state": {
       "layout": "IPY_MODEL_2c677bde966440d1ab1d799e4a999cc7",
       "style": "IPY_MODEL_56109a4f301b4e7eaf085b954adad9c5",
       "value": "Select the detector angles to plot."
      }
     },
     "116ac127c33a4645b99fbacd4acffcea": {
      "model_module": "@jupyter-widgets/base",
      "model_module_version": "1.0.0",
      "model_name": "LayoutModel",
      "state": {}
     },
     "117cc8277ad9466798b31d944957c9ea": {
      "model_module": "@jupyter-widgets/controls",
      "model_module_version": "1.1.0",
      "model_name": "LabelModel",
      "state": {
       "layout": "IPY_MODEL_6b777fc2776b4640a564e258100c4073",
       "style": "IPY_MODEL_d09da5f86ec0486cb0fbeaad7d0b924a",
       "value": "Select the detector angles to plot."
      }
     },
     "11ac6cd2c4e0425181ae145c624bb8f7": {
      "model_module": "@jupyter-widgets/controls",
      "model_module_version": "1.1.0",
      "model_name": "LabelModel",
      "state": {
       "layout": "IPY_MODEL_4bbd72c1fa0b40e69f7b7a8bbda3f824",
       "style": "IPY_MODEL_43912211b5184688b8ce478f1efbc6ef",
       "value": "Select the detector angles to plot."
      }
     },
     "11aea78791f04ca6adbc4af597e72e71": {
      "model_module": "@jupyter-widgets/base",
      "model_module_version": "1.0.0",
      "model_name": "LayoutModel",
      "state": {}
     },
     "11d6702a7a5f4943902e8121864bb3b1": {
      "model_module": "@jupyter-widgets/controls",
      "model_module_version": "1.1.0",
      "model_name": "ButtonModel",
      "state": {
       "button_style": "success",
       "description": "Update plot",
       "icon": "paint-brush",
       "layout": "IPY_MODEL_550a8b4a444a4dc8979aaff27f9aea77",
       "style": "IPY_MODEL_47bb9e4681e444679e939c70b022b30b",
       "tooltip": "Click to redraw the plot below with updated options from above."
      }
     },
     "11df27aa5e3847d59b5cbdd1ed1e833d": {
      "model_module": "@jupyter-widgets/base",
      "model_module_version": "1.0.0",
      "model_name": "LayoutModel",
      "state": {}
     },
     "11e5620c07cc43d8a2786e3639005438": {
      "model_module": "@jupyter-widgets/controls",
      "model_module_version": "1.1.0",
      "model_name": "DescriptionStyleModel",
      "state": {
       "description_width": ""
      }
     },
     "11f48d37a535475ca688e0905db3162f": {
      "model_module": "@jupyter-widgets/base",
      "model_module_version": "1.0.0",
      "model_name": "LayoutModel",
      "state": {}
     },
     "1245431019ef4cbaa2e0848f14663203": {
      "model_module": "@jupyter-widgets/controls",
      "model_module_version": "1.1.0",
      "model_name": "DescriptionStyleModel",
      "state": {
       "description_width": ""
      }
     },
     "125eeccb2fdb4c41a531b1210628a84b": {
      "model_module": "@jupyter-widgets/controls",
      "model_module_version": "1.1.0",
      "model_name": "CheckboxModel",
      "state": {
       "description": "45°",
       "disabled": false,
       "layout": "IPY_MODEL_e4d804abadc14c74a33145526e02a3b7",
       "style": "IPY_MODEL_8e7f2696ab6a4fb79016841dd4e1fa51",
       "value": true
      }
     },
     "126979ad38054e0a8468ba5e307f9db5": {
      "model_module": "@jupyter-widgets/controls",
      "model_module_version": "1.1.0",
      "model_name": "ToggleButtonsModel",
      "state": {
       "_options_labels": [
        "N (¹n)",
        "NDC (¹n)",
        "P (¹H)",
        "D (²H)",
        "T (³H)",
        "S (³He)",
        "A (⁴He)"
       ],
       "button_style": "",
       "description": "Type:",
       "icons": [],
       "index": 5,
       "layout": "IPY_MODEL_f4a71d72724943bfaf0276bf593011e7",
       "style": "IPY_MODEL_4873b52e14fb4e01a2efc9b6ec9f4561",
       "tooltips": [
        "Neutron",
        "Back Target Neutron",
        "Proton",
        "Deuteron",
        "Triton",
        "Helium-3",
        "Helium-4"
       ]
      }
     },
     "128415027564430eb376c5398a76e9ed": {
      "model_module": "@jupyter-widgets/controls",
      "model_module_version": "1.1.0",
      "model_name": "CheckboxModel",
      "state": {
       "description": "80°",
       "disabled": false,
       "layout": "IPY_MODEL_7bd08e09b235419884b9026c8318d57b",
       "style": "IPY_MODEL_1d9e716883364df8a8ff753b2645afa2",
       "value": true
      }
     },
     "12cf0e3f5beb4e5db305b20b8628fea2": {
      "model_module": "@jupyter-widgets/controls",
      "model_module_version": "1.1.0",
      "model_name": "ToggleButtonsStyleModel",
      "state": {
       "button_width": "",
       "description_width": ""
      }
     },
     "12dad28b0128407b921fd9caa9fb30b1": {
      "model_module": "@jupyter-widgets/controls",
      "model_module_version": "1.1.0",
      "model_name": "CheckboxModel",
      "state": {
       "description": "80°",
       "disabled": false,
       "layout": "IPY_MODEL_f055cac736c0407b94d3e7ddcc082153",
       "style": "IPY_MODEL_1e81c5de21e34a69a2a2f8ab37580fa5",
       "value": true
      }
     },
     "134bc7054b404937bd3736cbe91e7b67": {
      "model_module": "@jupyter-widgets/base",
      "model_module_version": "1.0.0",
      "model_name": "LayoutModel",
      "state": {}
     },
     "134dbfaf626f4f0188ccfb5e92dc8b4c": {
      "model_module": "@jupyter-widgets/controls",
      "model_module_version": "1.1.0",
      "model_name": "DescriptionStyleModel",
      "state": {
       "description_width": ""
      }
     },
     "1365e00648e04d3e8ccd0cde2afb99d2": {
      "model_module": "@jupyter-widgets/controls",
      "model_module_version": "1.1.0",
      "model_name": "LabelModel",
      "state": {
       "layout": "IPY_MODEL_84775fd52f4349bfb087eae261842288",
       "style": "IPY_MODEL_aa3cfd405b92404eb2f19d71ca77330c",
       "value": "Select the detector angles to plot."
      }
     },
     "1390752cdc434e52b9f7bbcab6f4e297": {
      "model_module": "@jupyter-widgets/base",
      "model_module_version": "1.0.0",
      "model_name": "LayoutModel",
      "state": {}
     },
     "13ca9599e8a6458b9f877c77a465cadf": {
      "model_module": "@jupyter-widgets/base",
      "model_module_version": "1.0.0",
      "model_name": "LayoutModel",
      "state": {}
     },
     "13e8722c02124a1eb5386f71fef459c9": {
      "model_module": "@jupyter-widgets/base",
      "model_module_version": "1.0.0",
      "model_name": "LayoutModel",
      "state": {}
     },
     "1411d8279de942bcac29d5e365385d3c": {
      "model_module": "@jupyter-widgets/base",
      "model_module_version": "1.0.0",
      "model_name": "LayoutModel",
      "state": {}
     },
     "1438a40c9bcc4938b16e0f607404b957": {
      "model_module": "@jupyter-widgets/controls",
      "model_module_version": "1.1.0",
      "model_name": "ToggleButtonsModel",
      "state": {
       "_options_labels": [
        "400 MeV",
        "800 MeV",
        "2500 MeV"
       ],
       "button_style": "",
       "description": "Energy:",
       "icons": [],
       "index": 0,
       "layout": "IPY_MODEL_b897da7bbb4b482da822f91e6f777254",
       "style": "IPY_MODEL_6efc4b6151e242caaa8ab52d50bd5997",
       "tooltips": [
        "lowest energy",
        "middle energy",
        "highest energy"
       ]
      }
     },
     "1444a36731094071b713ff974db02236": {
      "model_module": "@jupyter-widgets/controls",
      "model_module_version": "1.1.0",
      "model_name": "DescriptionStyleModel",
      "state": {
       "description_width": ""
      }
     },
     "145a572af0524b2c966a392096088f62": {
      "model_module": "@jupyter-widgets/controls",
      "model_module_version": "1.1.0",
      "model_name": "CheckboxModel",
      "state": {
       "description": "30°",
       "disabled": false,
       "layout": "IPY_MODEL_1ffc5d883a454771a14c0ab9f328fcf3",
       "style": "IPY_MODEL_4ea59979a0084e069d4cfe7c617b86d8",
       "value": true
      }
     },
     "1464d343c35a4ef39cb521de45cc30a7": {
      "model_module": "@jupyter-widgets/base",
      "model_module_version": "1.0.0",
      "model_name": "LayoutModel",
      "state": {}
     },
     "14747b7132f64713b014ca83848cb75d": {
      "model_module": "@jupyter-widgets/base",
      "model_module_version": "1.0.0",
      "model_name": "LayoutModel",
      "state": {}
     },
     "1487e8abab6d47ebb0c49c2e27bd0fc5": {
      "model_module": "@jupyter-widgets/controls",
      "model_module_version": "1.1.0",
      "model_name": "DescriptionStyleModel",
      "state": {
       "description_width": ""
      }
     },
     "14a99f6b164c4d9299d9760d104c3d74": {
      "model_module": "@jupyter-widgets/base",
      "model_module_version": "1.0.0",
      "model_name": "LayoutModel",
      "state": {}
     },
     "14cfeddecba7482199b9ea67847f885f": {
      "model_module": "@jupyter-widgets/controls",
      "model_module_version": "1.1.0",
      "model_name": "DescriptionStyleModel",
      "state": {
       "description_width": ""
      }
     },
     "14fafc4eb4bf469cae61c06d8cce53bf": {
      "model_module": "@jupyter-widgets/base",
      "model_module_version": "1.0.0",
      "model_name": "LayoutModel",
      "state": {}
     },
     "150c190f1f854c3f99617e36a9d284b7": {
      "model_module": "@jupyter-widgets/controls",
      "model_module_version": "1.1.0",
      "model_name": "CheckboxModel",
      "state": {
       "description": "30°",
       "disabled": false,
       "layout": "IPY_MODEL_94435b3fbd774ecb9620eeafcda40e7b",
       "style": "IPY_MODEL_622b1dbaabd243b9843ca2f3fffb7666",
       "value": true
      }
     },
     "152c368039ae4f16b2ef95b826c218db": {
      "model_module": "@jupyter-widgets/controls",
      "model_module_version": "1.1.0",
      "model_name": "CheckboxModel",
      "state": {
       "description": "45°",
       "disabled": false,
       "layout": "IPY_MODEL_88c16b0b83314b6692444ec6c22caa7f",
       "style": "IPY_MODEL_4dc60796dc4d4b2fb291300a78b5e453",
       "value": true
      }
     },
     "156f2356d2f34394bd0ef2bbc9f4c5b0": {
      "model_module": "@jupyter-widgets/base",
      "model_module_version": "1.0.0",
      "model_name": "LayoutModel",
      "state": {}
     },
     "15be3f50cce94b91a4aa3def909f1e33": {
      "model_module": "@jupyter-widgets/base",
      "model_module_version": "1.0.0",
      "model_name": "LayoutModel",
      "state": {}
     },
     "15c535b975a647e4bedb7e06e6a77381": {
      "model_module": "@jupyter-widgets/controls",
      "model_module_version": "1.1.0",
      "model_name": "DescriptionStyleModel",
      "state": {
       "description_width": ""
      }
     },
     "15ee170653c240fb99340a790479ce12": {
      "model_module": "@jupyter-widgets/controls",
      "model_module_version": "1.1.0",
      "model_name": "DescriptionStyleModel",
      "state": {
       "description_width": ""
      }
     },
     "1611a7e4b1b04daa83ba9fbdf40a6b48": {
      "model_module": "@jupyter-widgets/controls",
      "model_module_version": "1.1.0",
      "model_name": "DescriptionStyleModel",
      "state": {
       "description_width": ""
      }
     },
     "16645c168df54931bd863473f3de34b4": {
      "model_module": "@jupyter-widgets/base",
      "model_module_version": "1.0.0",
      "model_name": "LayoutModel",
      "state": {}
     },
     "1672aa49f4314ddf92f6e8228632b8df": {
      "model_module": "@jupyter-widgets/base",
      "model_module_version": "1.0.0",
      "model_name": "LayoutModel",
      "state": {}
     },
     "16826bc0ce984138840e74701681d5b5": {
      "model_module": "@jupyter-widgets/base",
      "model_module_version": "1.0.0",
      "model_name": "LayoutModel",
      "state": {}
     },
     "169917404f5542f0acc9e96eb4383c57": {
      "model_module": "@jupyter-widgets/controls",
      "model_module_version": "1.1.0",
      "model_name": "LabelModel",
      "state": {
       "layout": "IPY_MODEL_2c74d1c741714f67aa3c29cd6db0295b",
       "style": "IPY_MODEL_4df1a3837fc04729974df5c9012b3dde",
       "value": "Select upstream target mass thickness."
      }
     },
     "16a0a785c08a4f329604b9d7b46e1730": {
      "model_module": "@jupyter-widgets/controls",
      "model_module_version": "1.1.0",
      "model_name": "ToggleButtonsStyleModel",
      "state": {
       "button_width": "",
       "description_width": ""
      }
     },
     "16f670a283904513995b6aa8c48c5375": {
      "model_module": "@jupyter-widgets/base",
      "model_module_version": "1.0.0",
      "model_name": "LayoutModel",
      "state": {}
     },
     "16f7563b15f24961b00e03182136e5e0": {
      "model_module": "@jupyter-widgets/base",
      "model_module_version": "1.0.0",
      "model_name": "LayoutModel",
      "state": {}
     },
     "16fa1374555044cb9b5eb597982fd0c0": {
      "model_module": "@jupyter-widgets/controls",
      "model_module_version": "1.1.0",
      "model_name": "ToggleButtonsModel",
      "state": {
       "_options_labels": [
        "P (¹H)",
        "D (²H)",
        "T (³H)",
        "S (³He)",
        "A (⁴He)"
       ],
       "button_style": "",
       "description": "Type:",
       "icons": [],
       "index": 1,
       "layout": "IPY_MODEL_4ef0084a078247899fe9c9e4946364ae",
       "style": "IPY_MODEL_77f0a240fb514069b6c89a150a7abac9",
       "tooltips": [
        "Proton",
        "Deuteron",
        "Triton",
        "Helium-3",
        "Helium-4"
       ]
      }
     },
     "1719a77f518142a39ecc0dced8ab027f": {
      "model_module": "@jupyter-widgets/base",
      "model_module_version": "1.0.0",
      "model_name": "LayoutModel",
      "state": {}
     },
     "1749abe25a594d598be919bca214e8ae": {
      "model_module": "@jupyter-widgets/base",
      "model_module_version": "1.0.0",
      "model_name": "LayoutModel",
      "state": {}
     },
     "1757cdb3a11c42869812c07a7a3a6d56": {
      "model_module": "@jupyter-widgets/controls",
      "model_module_version": "1.1.0",
      "model_name": "DescriptionStyleModel",
      "state": {
       "description_width": ""
      }
     },
     "17bae485d4da4ee1af714e9f524d5da1": {
      "model_module": "@jupyter-widgets/base",
      "model_module_version": "1.0.0",
      "model_name": "LayoutModel",
      "state": {}
     },
     "180b1185efac437da63d4e48062134ca": {
      "model_module": "@jupyter-widgets/controls",
      "model_module_version": "1.1.0",
      "model_name": "LabelModel",
      "state": {
       "layout": "IPY_MODEL_1a7a00b0f1c743d288a666ab80835582",
       "style": "IPY_MODEL_ff2f94b2546b423daf13837d3bd365ab",
       "value": "Select projectile ion species and energy."
      }
     },
     "181d532fcf664ac59ef38448d3ac215c": {
      "model_module": "@jupyter-widgets/base",
      "model_module_version": "1.0.0",
      "model_name": "LayoutModel",
      "state": {}
     },
     "18863704081745a6b44ce17d97071696": {
      "model_module": "@jupyter-widgets/base",
      "model_module_version": "1.0.0",
      "model_name": "LayoutModel",
      "state": {}
     },
     "18b8c3c6b1d2459ab250e28c7d51c293": {
      "model_module": "@jupyter-widgets/controls",
      "model_module_version": "1.1.0",
      "model_name": "DescriptionStyleModel",
      "state": {
       "description_width": ""
      }
     },
     "18b949db5fe34bef96f34c741ec2e158": {
      "model_module": "@jupyter-widgets/controls",
      "model_module_version": "1.1.0",
      "model_name": "DescriptionStyleModel",
      "state": {
       "description_width": ""
      }
     },
     "18ec9503a0314fdfb4fd82944a091077": {
      "model_module": "@jupyter-widgets/controls",
      "model_module_version": "1.1.0",
      "model_name": "ToggleButtonsStyleModel",
      "state": {
       "button_width": "",
       "description_width": ""
      }
     },
     "1902eba716b74c90bbd59002c4fa7e7e": {
      "model_module": "@jupyter-widgets/controls",
      "model_module_version": "1.1.0",
      "model_name": "LabelModel",
      "state": {
       "layout": "IPY_MODEL_7eb4d549ff354d1d97bf02337d3d4441",
       "style": "IPY_MODEL_5551224bca5049e7be23f28c01e1dd3b",
       "value": "Select upstream target material and thickness."
      }
     },
     "19147c5420c549e0b2700c357babc0f8": {
      "model_module": "@jupyter-widgets/controls",
      "model_module_version": "1.1.0",
      "model_name": "DescriptionStyleModel",
      "state": {
       "description_width": ""
      }
     },
     "1954fcd499e84497b4865b733f2fe9a4": {
      "model_module": "@jupyter-widgets/base",
      "model_module_version": "1.0.0",
      "model_name": "LayoutModel",
      "state": {}
     },
     "195d94cd3ae042f0960a238e7d83b52f": {
      "model_module": "@jupyter-widgets/base",
      "model_module_version": "1.0.0",
      "model_name": "LayoutModel",
      "state": {}
     },
     "1961e98b7ac3486ebc1961e8cfeef51c": {
      "model_module": "@jupyter-widgets/base",
      "model_module_version": "1.0.0",
      "model_name": "LayoutModel",
      "state": {}
     },
     "1963e7eec4ae4110934c80444a00a43c": {
      "model_module": "@jupyter-widgets/controls",
      "model_module_version": "1.1.0",
      "model_name": "DescriptionStyleModel",
      "state": {
       "description_width": ""
      }
     },
     "1969fd309e104c78be9910fab3e01e63": {
      "model_module": "@jupyter-widgets/controls",
      "model_module_version": "1.1.0",
      "model_name": "CheckboxModel",
      "state": {
       "description": "10°",
       "disabled": false,
       "layout": "IPY_MODEL_7361620793a041eb83e6cebabb392c82",
       "style": "IPY_MODEL_23dd98cd3a2f4af9b3fe95992b838186",
       "value": true
      }
     },
     "196b92fe93b14a5e9565d48f5aa1f5ce": {
      "model_module": "@jupyter-widgets/controls",
      "model_module_version": "1.1.0",
      "model_name": "ToggleButtonsStyleModel",
      "state": {
       "button_width": "",
       "description_width": ""
      }
     },
     "197075fb586e4734965179c897e4f958": {
      "model_module": "@jupyter-widgets/controls",
      "model_module_version": "1.1.0",
      "model_name": "DescriptionStyleModel",
      "state": {
       "description_width": ""
      }
     },
     "19ccf39af38349de8dfba6854f1eef09": {
      "model_module": "@jupyter-widgets/controls",
      "model_module_version": "1.1.0",
      "model_name": "CheckboxModel",
      "state": {
       "description": "30°",
       "disabled": false,
       "layout": "IPY_MODEL_f321083ddc564a30968b1d85bf33aa1b",
       "style": "IPY_MODEL_269da9fb17a54ca783dafdd295da5430",
       "value": true
      }
     },
     "19e0b081d42e4dccaf1e0c50fc67ddd5": {
      "model_module": "@jupyter-widgets/controls",
      "model_module_version": "1.1.0",
      "model_name": "DescriptionStyleModel",
      "state": {
       "description_width": ""
      }
     },
     "19ecf35209604accb1c26bee4e7667e4": {
      "model_module": "@jupyter-widgets/controls",
      "model_module_version": "1.1.0",
      "model_name": "ToggleButtonsModel",
      "state": {
       "_options_labels": [
        "OLS",
        "NaI"
       ],
       "button_style": "",
       "description": "Type:",
       "icons": [],
       "index": 0,
       "layout": "IPY_MODEL_053cbccbe0f4414bad85c180627d0aa8",
       "style": "IPY_MODEL_8e949d24e566410ab568643397076396",
       "tooltips": [
        "Organic Liquid Scintillator",
        "Sodium Iodide"
       ]
      }
     },
     "1a0b47557ddb471a9abef45ce46f53bc": {
      "model_module": "@jupyter-widgets/controls",
      "model_module_version": "1.1.0",
      "model_name": "DescriptionStyleModel",
      "state": {
       "description_width": ""
      }
     },
     "1a34ec5b142b45db90573b92d4c30f07": {
      "model_module": "@jupyter-widgets/controls",
      "model_module_version": "1.1.0",
      "model_name": "CheckboxModel",
      "state": {
       "description": "60°",
       "disabled": false,
       "layout": "IPY_MODEL_a86e995100d74316a3d0e3db7e535fcc",
       "style": "IPY_MODEL_a62492efc26142d39374db8dd98e3500",
       "value": true
      }
     },
     "1a377439799f4844b4b90a8aaa874093": {
      "model_module": "@jupyter-widgets/controls",
      "model_module_version": "1.1.0",
      "model_name": "LabelModel",
      "state": {
       "layout": "IPY_MODEL_1c2d0cb27cfc487392e4c839e8ece25f",
       "style": "IPY_MODEL_08166d77b35f43fd8598f6c8612cbcaa",
       "value": "Select projectile ion energy."
      }
     },
     "1a46dbed02354026a4326b00cab9b040": {
      "model_module": "@jupyter-widgets/controls",
      "model_module_version": "1.1.0",
      "model_name": "DescriptionStyleModel",
      "state": {
       "description_width": ""
      }
     },
     "1a5612b401944defb18e84f5e71fc199": {
      "model_module": "@jupyter-widgets/controls",
      "model_module_version": "1.1.0",
      "model_name": "ToggleButtonsStyleModel",
      "state": {
       "button_width": "",
       "description_width": ""
      }
     },
     "1a684b2eadf148cba283c44e38e6ec3c": {
      "model_module": "@jupyter-widgets/controls",
      "model_module_version": "1.1.0",
      "model_name": "ButtonStyleModel",
      "state": {}
     },
     "1a69e3aee3e14b7db2c3eaef0f27ff8c": {
      "model_module": "@jupyter-widgets/base",
      "model_module_version": "1.0.0",
      "model_name": "LayoutModel",
      "state": {}
     },
     "1a7a00b0f1c743d288a666ab80835582": {
      "model_module": "@jupyter-widgets/base",
      "model_module_version": "1.0.0",
      "model_name": "LayoutModel",
      "state": {}
     },
     "1a9341747b8a43e0a169c7d1d639c50f": {
      "model_module": "@jupyter-widgets/base",
      "model_module_version": "1.0.0",
      "model_name": "LayoutModel",
      "state": {}
     },
     "1aa273c7bdca4da191835a445d606065": {
      "model_module": "@jupyter-widgets/controls",
      "model_module_version": "1.1.0",
      "model_name": "DescriptionStyleModel",
      "state": {
       "description_width": ""
      }
     },
     "1abe2f30b79f4701a9f94cf1a438e122": {
      "model_module": "@jupyter-widgets/controls",
      "model_module_version": "1.1.0",
      "model_name": "ToggleButtonsStyleModel",
      "state": {
       "button_width": "",
       "description_width": ""
      }
     },
     "1acc6d4d97c0434783d57bd31fb7a9e1": {
      "model_module": "@jupyter-widgets/controls",
      "model_module_version": "1.1.0",
      "model_name": "DescriptionStyleModel",
      "state": {
       "description_width": ""
      }
     },
     "1aeb7dfc9e594c11861f86298ee1729a": {
      "model_module": "@jupyter-widgets/base",
      "model_module_version": "1.0.0",
      "model_name": "LayoutModel",
      "state": {}
     },
     "1af087b5218c4437920f90cb063ef0cb": {
      "model_module": "@jupyter-widgets/controls",
      "model_module_version": "1.1.0",
      "model_name": "DescriptionStyleModel",
      "state": {
       "description_width": ""
      }
     },
     "1b1c3c1a190840779c5277f754611eed": {
      "model_module": "@jupyter-widgets/controls",
      "model_module_version": "1.1.0",
      "model_name": "DescriptionStyleModel",
      "state": {
       "description_width": ""
      }
     },
     "1b3dff2e885b48e789134f537ebc787a": {
      "model_module": "@jupyter-widgets/controls",
      "model_module_version": "1.1.0",
      "model_name": "DescriptionStyleModel",
      "state": {
       "description_width": ""
      }
     },
     "1b46d062e7544ec0a153eeae4e600990": {
      "model_module": "@jupyter-widgets/controls",
      "model_module_version": "1.1.0",
      "model_name": "ToggleButtonsStyleModel",
      "state": {
       "button_width": "",
       "description_width": ""
      }
     },
     "1b7bbc4fc6784941b0bb170af22bc7b8": {
      "model_module": "@jupyter-widgets/base",
      "model_module_version": "1.0.0",
      "model_name": "LayoutModel",
      "state": {}
     },
     "1b864d38500245bc899a0f381f423c24": {
      "model_module": "@jupyter-widgets/base",
      "model_module_version": "1.0.0",
      "model_name": "LayoutModel",
      "state": {}
     },
     "1ba608492b364dd0bee498de820a823f": {
      "model_module": "@jupyter-widgets/controls",
      "model_module_version": "1.1.0",
      "model_name": "DescriptionStyleModel",
      "state": {
       "description_width": ""
      }
     },
     "1bbba88cc5794cd1ad6b502097c723e9": {
      "model_module": "@jupyter-widgets/base",
      "model_module_version": "1.0.0",
      "model_name": "LayoutModel",
      "state": {}
     },
     "1bc61067e7e84ec4893204250a69454a": {
      "model_module": "@jupyter-widgets/base",
      "model_module_version": "1.0.0",
      "model_name": "LayoutModel",
      "state": {}
     },
     "1bf04ec8e10246cc9d2df1f9e1f9e9b8": {
      "model_module": "@jupyter-widgets/base",
      "model_module_version": "1.0.0",
      "model_name": "LayoutModel",
      "state": {}
     },
     "1bf7f5567589498fa681752dbe53ef46": {
      "model_module": "@jupyter-widgets/base",
      "model_module_version": "1.0.0",
      "model_name": "LayoutModel",
      "state": {}
     },
     "1bfd2f44b7c2442090c992df698cee4c": {
      "model_module": "@jupyter-widgets/base",
      "model_module_version": "1.0.0",
      "model_name": "LayoutModel",
      "state": {}
     },
     "1c014d4e1a954966b4781964ef79ab9d": {
      "model_module": "@jupyter-widgets/base",
      "model_module_version": "1.0.0",
      "model_name": "LayoutModel",
      "state": {}
     },
     "1c2d0cb27cfc487392e4c839e8ece25f": {
      "model_module": "@jupyter-widgets/base",
      "model_module_version": "1.0.0",
      "model_name": "LayoutModel",
      "state": {}
     },
     "1c450c8f804a47ec8b0823ee81fcc1a9": {
      "model_module": "@jupyter-widgets/controls",
      "model_module_version": "1.1.0",
      "model_name": "DescriptionStyleModel",
      "state": {
       "description_width": ""
      }
     },
     "1c7c9c5e98b14f00b81925a5e964572c": {
      "model_module": "@jupyter-widgets/controls",
      "model_module_version": "1.1.0",
      "model_name": "CheckboxModel",
      "state": {
       "description": "60°",
       "disabled": false,
       "layout": "IPY_MODEL_ec294333971b4af4bb4a5d8b139ab91f",
       "style": "IPY_MODEL_add3906993124ea1b4e1b692d9bd831b",
       "value": true
      }
     },
     "1d393d3627de4b8b9c225452fc52406f": {
      "model_module": "@jupyter-widgets/base",
      "model_module_version": "1.0.0",
      "model_name": "LayoutModel",
      "state": {}
     },
     "1d68b934178f43fc98da9e81f818c1c2": {
      "model_module": "@jupyter-widgets/base",
      "model_module_version": "1.0.0",
      "model_name": "LayoutModel",
      "state": {}
     },
     "1d72fdf622c6443bb22fe880f8a2aa5c": {
      "model_module": "@jupyter-widgets/base",
      "model_module_version": "1.0.0",
      "model_name": "LayoutModel",
      "state": {}
     },
     "1d9e716883364df8a8ff753b2645afa2": {
      "model_module": "@jupyter-widgets/controls",
      "model_module_version": "1.1.0",
      "model_name": "DescriptionStyleModel",
      "state": {
       "description_width": ""
      }
     },
     "1dad1907f0694a15b1777d2307d3c28f": {
      "model_module": "@jupyter-widgets/base",
      "model_module_version": "1.0.0",
      "model_name": "LayoutModel",
      "state": {}
     },
     "1e04ec5a3cd042a4ac1c828623d14d2e": {
      "model_module": "@jupyter-widgets/controls",
      "model_module_version": "1.1.0",
      "model_name": "CheckboxModel",
      "state": {
       "description": "45°",
       "disabled": false,
       "layout": "IPY_MODEL_9f10af26b0b44a58a854ace8e990c731",
       "style": "IPY_MODEL_e4e76739afdd42159e7d70cd8e35073f",
       "value": true
      }
     },
     "1e0609842ad847aaa5d3b11714eb181b": {
      "model_module": "@jupyter-widgets/controls",
      "model_module_version": "1.1.0",
      "model_name": "CheckboxModel",
      "state": {
       "description": "45°",
       "disabled": false,
       "layout": "IPY_MODEL_9fc3301f6be746b3b12b26b043f73985",
       "style": "IPY_MODEL_9180d374d3b3454293724d57c1893023",
       "value": true
      }
     },
     "1e0c3eaa0d044be580b73c12fea09940": {
      "model_module": "@jupyter-widgets/controls",
      "model_module_version": "1.1.0",
      "model_name": "DescriptionStyleModel",
      "state": {
       "description_width": ""
      }
     },
     "1e18632789c64ad58c9bdccadd49f03f": {
      "model_module": "@jupyter-widgets/controls",
      "model_module_version": "1.1.0",
      "model_name": "ToggleButtonsModel",
      "state": {
       "_options_labels": [
        "400 MeV/n",
        "800 MeV/n",
        "1500 MeV/n"
       ],
       "button_style": "",
       "description": "Energy:",
       "icons": [],
       "index": 0,
       "layout": "IPY_MODEL_4bd4fb3548f34dbbab78ecd8e9853177",
       "style": "IPY_MODEL_4000278a9d364b9f8b0aa3f29b94c1be",
       "tooltips": [
        "lowest energy",
        "middle energy",
        "highest energy"
       ]
      }
     },
     "1e5116bf86be4f1882bf20fcf6a6c465": {
      "model_module": "@jupyter-widgets/controls",
      "model_module_version": "1.1.0",
      "model_name": "DescriptionStyleModel",
      "state": {
       "description_width": ""
      }
     },
     "1e7bec4752ff40afa2b30faaa9181f59": {
      "model_module": "@jupyter-widgets/controls",
      "model_module_version": "1.1.0",
      "model_name": "DescriptionStyleModel",
      "state": {
       "description_width": ""
      }
     },
     "1e80c9c610b14a8cbdf136d7def2e4a6": {
      "model_module": "@jupyter-widgets/controls",
      "model_module_version": "1.1.0",
      "model_name": "DescriptionStyleModel",
      "state": {
       "description_width": ""
      }
     },
     "1e81c5de21e34a69a2a2f8ab37580fa5": {
      "model_module": "@jupyter-widgets/controls",
      "model_module_version": "1.1.0",
      "model_name": "DescriptionStyleModel",
      "state": {
       "description_width": ""
      }
     },
     "1e89315c30e2428fa595d6b42ebd4592": {
      "model_module": "@jupyter-widgets/base",
      "model_module_version": "1.0.0",
      "model_name": "LayoutModel",
      "state": {}
     },
     "1ea81ce3204a4d4c865e413aa9de17b2": {
      "model_module": "@jupyter-widgets/base",
      "model_module_version": "1.0.0",
      "model_name": "LayoutModel",
      "state": {}
     },
     "1ed0243d19a140a795e7c835cce9e2ab": {
      "model_module": "@jupyter-widgets/controls",
      "model_module_version": "1.1.0",
      "model_name": "ToggleButtonsModel",
      "state": {
       "_options_labels": [
        "N (¹n)",
        "NDC (¹n)",
        "P (¹H)",
        "D (²H)"
       ],
       "button_style": "",
       "description": "Particle:",
       "icons": [],
       "index": 0,
       "layout": "IPY_MODEL_67649ac06c0d44b7ba8bc7ab44f13d98",
       "style": "IPY_MODEL_45c7f6aa82f24df694b77ec71789ab46",
       "tooltips": [
        "Neutron",
        "Back Target Neutron",
        "Proton",
        "Deuteron"
       ]
      }
     },
     "1f1eb4c094934fe49153eebb19d3e67a": {
      "model_module": "@jupyter-widgets/controls",
      "model_module_version": "1.1.0",
      "model_name": "CheckboxModel",
      "state": {
       "description": "30°",
       "disabled": false,
       "layout": "IPY_MODEL_f4b34bb605b642bc92cabd5815758446",
       "style": "IPY_MODEL_84e53c0a403b446f8596a153fde52f6a",
       "value": false
      }
     },
     "1f4ce312528a4c30b50ca96cd4811801": {
      "model_module": "@jupyter-widgets/controls",
      "model_module_version": "1.1.0",
      "model_name": "ToggleButtonsModel",
      "state": {
       "_options_labels": [
        "Al",
        "HDPE",
        "AlPE"
       ],
       "button_style": "",
       "description": "Material:",
       "icons": [],
       "index": 0,
       "layout": "IPY_MODEL_be7e7da3f74547e9b6d4c1ebe08afb4a",
       "style": "IPY_MODEL_7f4e7685ff92449696edc9899475e79a",
       "tooltips": [
        "Aluminum",
        "Polyethylene",
        "Combination of Al and HDPE"
       ]
      }
     },
     "1f7b1312a8a44dbaa6d3bae6912929db": {
      "model_module": "@jupyter-widgets/controls",
      "model_module_version": "1.1.0",
      "model_name": "DescriptionStyleModel",
      "state": {
       "description_width": ""
      }
     },
     "1f855d3c7c5042aab4a2fc134c58855e": {
      "model_module": "@jupyter-widgets/controls",
      "model_module_version": "1.1.0",
      "model_name": "LabelModel",
      "state": {
       "layout": "IPY_MODEL_87f9d71af0c142c7b5caf8e56b9b61ca",
       "style": "IPY_MODEL_42c81fe8612b454e8f3f3342eb8dd9b6",
       "value": "Select the detector angles to plot."
      }
     },
     "1fe86901ff6444339b517145bf3c3899": {
      "model_module": "@jupyter-widgets/controls",
      "model_module_version": "1.1.0",
      "model_name": "DescriptionStyleModel",
      "state": {
       "description_width": ""
      }
     },
     "1fec3a2bae25428490df10b6f9630f15": {
      "model_module": "@jupyter-widgets/controls",
      "model_module_version": "1.1.0",
      "model_name": "ToggleButtonsStyleModel",
      "state": {
       "button_width": "",
       "description_width": ""
      }
     },
     "1ff29871f05948588bf13aad8cfafb46": {
      "model_module": "@jupyter-widgets/controls",
      "model_module_version": "1.1.0",
      "model_name": "CheckboxModel",
      "state": {
       "description": "135°",
       "disabled": false,
       "layout": "IPY_MODEL_9068b5b316bf413bac4f0c0b2795de4c",
       "style": "IPY_MODEL_7fe93f0e92f445f2b9eb26c37bb33e12",
       "value": true
      }
     },
     "1ffc5d883a454771a14c0ab9f328fcf3": {
      "model_module": "@jupyter-widgets/base",
      "model_module_version": "1.0.0",
      "model_name": "LayoutModel",
      "state": {}
     },
     "200b72eb0f634c9cb9872c64c4e231f8": {
      "model_module": "@jupyter-widgets/base",
      "model_module_version": "1.0.0",
      "model_name": "LayoutModel",
      "state": {}
     },
     "2061e11c43264be5ac072294cb7e5fa3": {
      "model_module": "@jupyter-widgets/controls",
      "model_module_version": "1.1.0",
      "model_name": "ToggleButtonsStyleModel",
      "state": {
       "button_width": "",
       "description_width": ""
      }
     },
     "2067999da50a4acda922fbebaef4a1f0": {
      "model_module": "@jupyter-widgets/controls",
      "model_module_version": "1.1.0",
      "model_name": "CheckboxModel",
      "state": {
       "description": "135°",
       "disabled": false,
       "layout": "IPY_MODEL_8b54b65353c24895a98b93779b430b43",
       "style": "IPY_MODEL_849c532214cc497bb60d08a05f612cf5",
       "value": true
      }
     },
     "206e7eb772a54f929bdcf9f5a5e09536": {
      "model_module": "@jupyter-widgets/controls",
      "model_module_version": "1.1.0",
      "model_name": "LabelModel",
      "state": {
       "layout": "IPY_MODEL_55114e30eaef4a0baf0b2c8825f04423",
       "style": "IPY_MODEL_69ea7f91f62f4a098c14805203339114",
       "value": "Select how data sets for each detector should be spaced apart (if at all)."
      }
     },
     "2071846215ec4748bdf788719240d122": {
      "model_module": "@jupyter-widgets/controls",
      "model_module_version": "1.1.0",
      "model_name": "CheckboxModel",
      "state": {
       "description": "30°",
       "disabled": false,
       "layout": "IPY_MODEL_b1fc77d5024944e49d73df03a1d5033b",
       "style": "IPY_MODEL_63b8575a0be8460e9235b4700552459c",
       "value": true
      }
     },
     "2071960dfd52469f9263e30e6e9bf0ec": {
      "model_module": "@jupyter-widgets/controls",
      "model_module_version": "1.1.0",
      "model_name": "LabelModel",
      "state": {
       "layout": "IPY_MODEL_9c2341159be54ea0a13ff26b90f2c396",
       "style": "IPY_MODEL_669362fe01604699a1d455ddf43ff835",
       "value": "Select which secondary particle to plot spectra for."
      }
     },
     "207711b6611e4f40ac75df3879820dc6": {
      "model_module": "@jupyter-widgets/controls",
      "model_module_version": "1.1.0",
      "model_name": "ToggleButtonsModel",
      "state": {
       "_options_labels": [
        "N (¹n)",
        "NDC (¹n)",
        "P (¹H)",
        "D (²H)"
       ],
       "button_style": "",
       "description": "Type:",
       "icons": [],
       "index": 0,
       "layout": "IPY_MODEL_a91084f9d3494b6a940831af3dd58f88",
       "style": "IPY_MODEL_4cbffe1b274f49ce81322da62902dd9c",
       "tooltips": [
        "Neutron",
        "Back Target Neutron",
        "Proton",
        "Deuteron"
       ]
      }
     },
     "20aad4b157da4f91bcbe7e43af14ce8c": {
      "model_module": "@jupyter-widgets/base",
      "model_module_version": "1.0.0",
      "model_name": "LayoutModel",
      "state": {}
     },
     "20da3b71f3e3411983b211b99d20ec80": {
      "model_module": "@jupyter-widgets/base",
      "model_module_version": "1.0.0",
      "model_name": "LayoutModel",
      "state": {}
     },
     "20dc665dc20c4b0d804b2fd06aea5e1f": {
      "model_module": "@jupyter-widgets/controls",
      "model_module_version": "1.1.0",
      "model_name": "DescriptionStyleModel",
      "state": {
       "description_width": ""
      }
     },
     "215b0b190f52448c9781d9b9d17ba7cd": {
      "model_module": "@jupyter-widgets/controls",
      "model_module_version": "1.1.0",
      "model_name": "DescriptionStyleModel",
      "state": {
       "description_width": ""
      }
     },
     "21c98fa0b913448fa02f309f8618c074": {
      "model_module": "@jupyter-widgets/base",
      "model_module_version": "1.0.0",
      "model_name": "LayoutModel",
      "state": {}
     },
     "21f02ba46e614e60a7ef3d5ddcb58c4d": {
      "model_module": "@jupyter-widgets/base",
      "model_module_version": "1.0.0",
      "model_name": "LayoutModel",
      "state": {}
     },
     "2203b0e36dc448a6a364d02d9ddc7b10": {
      "model_module": "@jupyter-widgets/controls",
      "model_module_version": "1.1.0",
      "model_name": "DescriptionStyleModel",
      "state": {
       "description_width": ""
      }
     },
     "221bea030d1f40a2b9b84b5abf1b088f": {
      "model_module": "@jupyter-widgets/base",
      "model_module_version": "1.0.0",
      "model_name": "LayoutModel",
      "state": {}
     },
     "2225873d1fc84b7c8f4477065572bcf8": {
      "model_module": "@jupyter-widgets/controls",
      "model_module_version": "1.1.0",
      "model_name": "DescriptionStyleModel",
      "state": {
       "description_width": ""
      }
     },
     "229e8079ccf74a729fedb12eca55d771": {
      "model_module": "@jupyter-widgets/base",
      "model_module_version": "1.0.0",
      "model_name": "LayoutModel",
      "state": {}
     },
     "22aa899d612646b8a6ea754ddf783fa2": {
      "model_module": "@jupyter-widgets/controls",
      "model_module_version": "1.1.0",
      "model_name": "CheckboxModel",
      "state": {
       "description": "10°",
       "disabled": false,
       "layout": "IPY_MODEL_64e57371413542b59172c6948348cc08",
       "style": "IPY_MODEL_2ef1a56ae5bc45fba52f854ad3a9b76f",
       "value": true
      }
     },
     "22e34764293b49aa9522e3c37405d838": {
      "model_module": "@jupyter-widgets/controls",
      "model_module_version": "1.1.0",
      "model_name": "LabelModel",
      "state": {
       "layout": "IPY_MODEL_4e2a53e9f2794258a9dc672297ae031b",
       "style": "IPY_MODEL_a157ce7d887847e0a3fed77d2b0f750a",
       "value": "Select projectile ion energy."
      }
     },
     "22f5fcb0e7c14fb49e8408d1f2bb3cb6": {
      "model_module": "@jupyter-widgets/base",
      "model_module_version": "1.0.0",
      "model_name": "LayoutModel",
      "state": {}
     },
     "236665dcbcc84145aec131dc47a4833b": {
      "model_module": "@jupyter-widgets/controls",
      "model_module_version": "1.1.0",
      "model_name": "DescriptionStyleModel",
      "state": {
       "description_width": ""
      }
     },
     "237c8b13f52c471ebb970a663c67e096": {
      "model_module": "@jupyter-widgets/controls",
      "model_module_version": "1.1.0",
      "model_name": "DescriptionStyleModel",
      "state": {
       "description_width": ""
      }
     },
     "237ce633442a44248c4af8d83c850476": {
      "model_module": "@jupyter-widgets/controls",
      "model_module_version": "1.1.0",
      "model_name": "DescriptionStyleModel",
      "state": {
       "description_width": ""
      }
     },
     "2384053242f84433b39229fbf2e2de3c": {
      "model_module": "@jupyter-widgets/controls",
      "model_module_version": "1.1.0",
      "model_name": "LabelModel",
      "state": {
       "layout": "IPY_MODEL_c9096cce08064afe9a49ae9c2fa7066b",
       "style": "IPY_MODEL_6d7ee98cf6a1461ba5df20b026c4f1d4",
       "value": "Select projectile ion energy."
      }
     },
     "23907f89d8224d0d8f8b6dff967d5a79": {
      "model_module": "@jupyter-widgets/base",
      "model_module_version": "1.0.0",
      "model_name": "LayoutModel",
      "state": {}
     },
     "2390edd9b3c642169437648801af5220": {
      "model_module": "@jupyter-widgets/base",
      "model_module_version": "1.0.0",
      "model_name": "LayoutModel",
      "state": {}
     },
     "23acda008ed343d999adf0515f15bae6": {
      "model_module": "@jupyter-widgets/base",
      "model_module_version": "1.0.0",
      "model_name": "LayoutModel",
      "state": {}
     },
     "23ad429477be4fe7beb80dd502064ac7": {
      "model_module": "@jupyter-widgets/controls",
      "model_module_version": "1.1.0",
      "model_name": "DescriptionStyleModel",
      "state": {
       "description_width": ""
      }
     },
     "23c1b57dfe8f4761b1563240ada6a5b9": {
      "model_module": "@jupyter-widgets/controls",
      "model_module_version": "1.1.0",
      "model_name": "DescriptionStyleModel",
      "state": {
       "description_width": ""
      }
     },
     "23dd98cd3a2f4af9b3fe95992b838186": {
      "model_module": "@jupyter-widgets/controls",
      "model_module_version": "1.1.0",
      "model_name": "DescriptionStyleModel",
      "state": {
       "description_width": ""
      }
     },
     "240653d15a9b498d883a307d46eff2db": {
      "model_module": "@jupyter-widgets/controls",
      "model_module_version": "1.1.0",
      "model_name": "CheckboxModel",
      "state": {
       "description": "80°",
       "disabled": false,
       "layout": "IPY_MODEL_4f5a6e8389cc492184cdfa2a1335dec7",
       "style": "IPY_MODEL_3b0b8b295c814436aa521b533e2e56c8",
       "value": true
      }
     },
     "243c9ba949cf4de2bb60bac6e9decc8d": {
      "model_module": "@jupyter-widgets/controls",
      "model_module_version": "1.1.0",
      "model_name": "ToggleButtonsStyleModel",
      "state": {
       "button_width": "",
       "description_width": ""
      }
     },
     "24be490ab1f64504993213f8766981ce": {
      "model_module": "@jupyter-widgets/base",
      "model_module_version": "1.0.0",
      "model_name": "LayoutModel",
      "state": {}
     },
     "24c22eb0e4364a34aadda045254d1dd3": {
      "model_module": "@jupyter-widgets/controls",
      "model_module_version": "1.1.0",
      "model_name": "CheckboxModel",
      "state": {
       "description": "7.2°",
       "disabled": false,
       "layout": "IPY_MODEL_46b255cfc70a4c64812173744a44a5da",
       "style": "IPY_MODEL_3c181b41a2aa40508ceff12b39798aef",
       "value": true
      }
     },
     "2514ad8ffa01480e8bd6dd3eb68113a7": {
      "model_module": "@jupyter-widgets/controls",
      "model_module_version": "1.1.0",
      "model_name": "DescriptionStyleModel",
      "state": {
       "description_width": ""
      }
     },
     "251dbee8118e4833a50c38ca3bb755d4": {
      "model_module": "@jupyter-widgets/base",
      "model_module_version": "1.0.0",
      "model_name": "LayoutModel",
      "state": {}
     },
     "255bd2ea37c443cdbf7c13594324e3ea": {
      "model_module": "@jupyter-widgets/controls",
      "model_module_version": "1.1.0",
      "model_name": "DescriptionStyleModel",
      "state": {
       "description_width": ""
      }
     },
     "2592cff594e84589b5bf39c835496b59": {
      "model_module": "@jupyter-widgets/base",
      "model_module_version": "1.0.0",
      "model_name": "LayoutModel",
      "state": {}
     },
     "2593de92f9be4007b1f4d477fd4a25a2": {
      "model_module": "@jupyter-widgets/controls",
      "model_module_version": "1.1.0",
      "model_name": "ToggleButtonsStyleModel",
      "state": {
       "button_width": "",
       "description_width": ""
      }
     },
     "259821b2286b437e9e4fe75c6f3d9880": {
      "model_module": "@jupyter-widgets/controls",
      "model_module_version": "1.1.0",
      "model_name": "LabelModel",
      "state": {
       "layout": "IPY_MODEL_1a9341747b8a43e0a169c7d1d639c50f",
       "style": "IPY_MODEL_b190e7ee1cc6456b9d4bb6b79f1a5050",
       "value": "Select which secondary particle to plot spectra for."
      }
     },
     "25a2ab9d4a05493d9ee1a481e7e8e612": {
      "model_module": "@jupyter-widgets/controls",
      "model_module_version": "1.1.0",
      "model_name": "ToggleButtonsStyleModel",
      "state": {
       "button_width": "",
       "description_width": ""
      }
     },
     "25baf2c5edf945f4a344d597340c6131": {
      "model_module": "@jupyter-widgets/controls",
      "model_module_version": "1.1.0",
      "model_name": "LabelModel",
      "state": {
       "layout": "IPY_MODEL_a629492428ad48ee8eb25a68ad4c270b",
       "style": "IPY_MODEL_75704df72b5f482e83d8caa24c07eb4a",
       "value": "Select which secondary particle to plot spectra for."
      }
     },
     "25d96007033c46ebaa20fafb1a8eedb6": {
      "model_module": "@jupyter-widgets/base",
      "model_module_version": "1.0.0",
      "model_name": "LayoutModel",
      "state": {}
     },
     "25f899f8d0f04abf8212ea7933f21da4": {
      "model_module": "@jupyter-widgets/base",
      "model_module_version": "1.0.0",
      "model_name": "LayoutModel",
      "state": {}
     },
     "261a0838854d461eb78da06486178e37": {
      "model_module": "@jupyter-widgets/controls",
      "model_module_version": "1.1.0",
      "model_name": "ToggleButtonsModel",
      "state": {
       "_options_labels": [
        "P (¹H)",
        "D (²H)",
        "T (³H)",
        "S (³He)",
        "A (⁴He)"
       ],
       "button_style": "",
       "description": "Type:",
       "icons": [],
       "index": 0,
       "layout": "IPY_MODEL_3fd3b2faeb074380b2729da5cdd95564",
       "style": "IPY_MODEL_a70b0e978e594f1399789e761e60afbf",
       "tooltips": [
        "Proton",
        "Deuteron",
        "Triton",
        "Helium-3",
        "Helium-4"
       ]
      }
     },
     "261c847ff5c240b2931f0d21e32a7ac2": {
      "model_module": "@jupyter-widgets/controls",
      "model_module_version": "1.1.0",
      "model_name": "LabelModel",
      "state": {
       "layout": "IPY_MODEL_a04090affc934abca24a590fc6019c01",
       "style": "IPY_MODEL_1245431019ef4cbaa2e0848f14663203",
       "value": "Select upstream target mass thickness."
      }
     },
     "2676b29ceda14a4cafcf9ff791002a06": {
      "model_module": "@jupyter-widgets/controls",
      "model_module_version": "1.1.0",
      "model_name": "LabelModel",
      "state": {
       "layout": "IPY_MODEL_1411d8279de942bcac29d5e365385d3c",
       "style": "IPY_MODEL_0faaac1d69f34135b1b9e3cc6ffeb29c",
       "value": "Select the detector angles to plot."
      }
     },
     "268deff161c442f6baaa7d2a79d4c5a9": {
      "model_module": "@jupyter-widgets/base",
      "model_module_version": "1.0.0",
      "model_name": "LayoutModel",
      "state": {}
     },
     "269da9fb17a54ca783dafdd295da5430": {
      "model_module": "@jupyter-widgets/controls",
      "model_module_version": "1.1.0",
      "model_name": "DescriptionStyleModel",
      "state": {
       "description_width": ""
      }
     },
     "26c41cad8d4a41a7a7c9491a374f09c9": {
      "model_module": "@jupyter-widgets/controls",
      "model_module_version": "1.1.0",
      "model_name": "LabelModel",
      "state": {
       "layout": "IPY_MODEL_611f22c67c284b8a81ffc118bc58ad4b",
       "style": "IPY_MODEL_6e9bce0cd9c54094b088b7a7566773dd",
       "value": "Select projectile ion energy."
      }
     },
     "274735463f814b4bb41f95977294b805": {
      "model_module": "@jupyter-widgets/base",
      "model_module_version": "1.0.0",
      "model_name": "LayoutModel",
      "state": {}
     },
     "2791d37e0d2848a1a800234bdda11304": {
      "model_module": "@jupyter-widgets/base",
      "model_module_version": "1.0.0",
      "model_name": "LayoutModel",
      "state": {}
     },
     "27bf5f266f9f45508684476bec9b8a23": {
      "model_module": "@jupyter-widgets/controls",
      "model_module_version": "1.1.0",
      "model_name": "CheckboxModel",
      "state": {
       "description": "10°",
       "disabled": false,
       "layout": "IPY_MODEL_f812ebabef9146fbb976efd2dd979889",
       "style": "IPY_MODEL_35ebebb3f77f4229bcefca9d8c5b1045",
       "value": true
      }
     },
     "27d06d8380564f648b4eb15a37593a14": {
      "model_module": "@jupyter-widgets/controls",
      "model_module_version": "1.1.0",
      "model_name": "CheckboxModel",
      "state": {
       "description": "80°",
       "disabled": false,
       "layout": "IPY_MODEL_bf3f53a943e7415d8dcc29ce937d5d99",
       "style": "IPY_MODEL_4a159ef5829140938004cae24842987b",
       "value": true
      }
     },
     "27d5cb4b25674bd8b42472f81f0d63cb": {
      "model_module": "@jupyter-widgets/controls",
      "model_module_version": "1.1.0",
      "model_name": "CheckboxModel",
      "state": {
       "description": "10°",
       "disabled": false,
       "layout": "IPY_MODEL_0a82ab59695f43bab8f1746b3a2e4905",
       "style": "IPY_MODEL_ba8a10037e434f2aa71abde4f5d250dd",
       "value": true
      }
     },
     "27e3cf1e50b545d29cf16088973aa139": {
      "model_module": "@jupyter-widgets/controls",
      "model_module_version": "1.1.0",
      "model_name": "DescriptionStyleModel",
      "state": {
       "description_width": ""
      }
     },
     "28216aa714064d369f4eb48ecb4ef60f": {
      "model_module": "@jupyter-widgets/controls",
      "model_module_version": "1.1.0",
      "model_name": "DescriptionStyleModel",
      "state": {
       "description_width": ""
      }
     },
     "283922567ec24a658832eb328a06242b": {
      "model_module": "@jupyter-widgets/controls",
      "model_module_version": "1.1.0",
      "model_name": "CheckboxModel",
      "state": {
       "description": "Experiment",
       "disabled": false,
       "layout": "IPY_MODEL_ae7dcbfed4f64731b92fa302d76824a5",
       "style": "IPY_MODEL_634950df2f1743129effab1a202ebd6c",
       "value": true
      }
     },
     "2840e65aec3c47d3837a37a936e92cd1": {
      "model_module": "@jupyter-widgets/controls",
      "model_module_version": "1.1.0",
      "model_name": "DescriptionStyleModel",
      "state": {
       "description_width": ""
      }
     },
     "28915be44f144a8b8768044bbba38930": {
      "model_module": "@jupyter-widgets/controls",
      "model_module_version": "1.1.0",
      "model_name": "CheckboxModel",
      "state": {
       "description": "30°",
       "disabled": false,
       "layout": "IPY_MODEL_b4570addcf0d4ba69011271c073dbf3c",
       "style": "IPY_MODEL_ce1ca5fc584746ed8a4fe751652309bd",
       "value": true
      }
     },
     "2893d9b3ad6d43bf8b2cc018f9be7175": {
      "model_module": "@jupyter-widgets/controls",
      "model_module_version": "1.1.0",
      "model_name": "LabelModel",
      "state": {
       "layout": "IPY_MODEL_f2747acdaa6146c7bfbced92bc3f8313",
       "style": "IPY_MODEL_5d0203b4421942389bb57b1c40fb9970",
       "value": "Select upstream target mass thickness."
      }
     },
     "28bd2382bcf44b14bbe23a831490798c": {
      "model_module": "@jupyter-widgets/controls",
      "model_module_version": "1.1.0",
      "model_name": "CheckboxModel",
      "state": {
       "description": "10°",
       "disabled": false,
       "layout": "IPY_MODEL_fd601da03285408d9dab1b4e589015f8",
       "style": "IPY_MODEL_27e3cf1e50b545d29cf16088973aa139",
       "value": true
      }
     },
     "28c3fe0386cf482fae9099e6ae852596": {
      "model_module": "@jupyter-widgets/base",
      "model_module_version": "1.0.0",
      "model_name": "LayoutModel",
      "state": {}
     },
     "28c6e8a53b30499788d694073344f160": {
      "model_module": "@jupyter-widgets/controls",
      "model_module_version": "1.1.0",
      "model_name": "ToggleButtonsStyleModel",
      "state": {
       "button_width": "",
       "description_width": ""
      }
     },
     "28cb64bf993548d4ac314cacc750404a": {
      "model_module": "@jupyter-widgets/controls",
      "model_module_version": "1.1.0",
      "model_name": "DescriptionStyleModel",
      "state": {
       "description_width": ""
      }
     },
     "2946f28d1a3b4f0d82cce7206869c124": {
      "model_module": "@jupyter-widgets/controls",
      "model_module_version": "1.1.0",
      "model_name": "CheckboxModel",
      "state": {
       "description": "30°",
       "disabled": false,
       "layout": "IPY_MODEL_a1ba6864738b4cca8debf4d5215d5213",
       "style": "IPY_MODEL_1c450c8f804a47ec8b0823ee81fcc1a9",
       "value": true
      }
     },
     "2959c5f6f302430584bab3b78b19d816": {
      "model_module": "@jupyter-widgets/controls",
      "model_module_version": "1.1.0",
      "model_name": "CheckboxModel",
      "state": {
       "description": "28.2°",
       "disabled": false,
       "layout": "IPY_MODEL_32e719f97d234a248bcbaf5d96dfd4a6",
       "style": "IPY_MODEL_7b0520fc4f674c48beda1fd2174f737c",
       "value": true
      }
     },
     "295a0c1f17204f57beb0788ecce78f07": {
      "model_module": "@jupyter-widgets/controls",
      "model_module_version": "1.1.0",
      "model_name": "DescriptionStyleModel",
      "state": {
       "description_width": ""
      }
     },
     "298021c8e8b04b778ba3e3be8f36f9d6": {
      "model_module": "@jupyter-widgets/base",
      "model_module_version": "1.0.0",
      "model_name": "LayoutModel",
      "state": {}
     },
     "2a459902ad7c4a8298153c85b011898a": {
      "model_module": "@jupyter-widgets/controls",
      "model_module_version": "1.1.0",
      "model_name": "DescriptionStyleModel",
      "state": {
       "description_width": ""
      }
     },
     "2a4f94f6fc7342c99b7ed5068f1975d8": {
      "model_module": "@jupyter-widgets/controls",
      "model_module_version": "1.1.0",
      "model_name": "DescriptionStyleModel",
      "state": {
       "description_width": ""
      }
     },
     "2a6a5bce17a946f98b9b7c3a32c9d1cd": {
      "model_module": "@jupyter-widgets/base",
      "model_module_version": "1.0.0",
      "model_name": "LayoutModel",
      "state": {}
     },
     "2aa9e62ef0e34d62baf0e57cb97ecb73": {
      "model_module": "@jupyter-widgets/base",
      "model_module_version": "1.0.0",
      "model_name": "LayoutModel",
      "state": {}
     },
     "2aac0176a49544ad9d78d854909dc5a1": {
      "model_module": "@jupyter-widgets/controls",
      "model_module_version": "1.1.0",
      "model_name": "ToggleButtonsStyleModel",
      "state": {
       "button_width": "",
       "description_width": ""
      }
     },
     "2ae593c4383e45e9ae578cacbd91a07c": {
      "model_module": "@jupyter-widgets/base",
      "model_module_version": "1.0.0",
      "model_name": "LayoutModel",
      "state": {}
     },
     "2b911a2ee8294942a8efb25e06c96439": {
      "model_module": "@jupyter-widgets/controls",
      "model_module_version": "1.1.0",
      "model_name": "DescriptionStyleModel",
      "state": {
       "description_width": ""
      }
     },
     "2b9c12ef12d14a3f9eddbac713076099": {
      "model_module": "@jupyter-widgets/controls",
      "model_module_version": "1.1.0",
      "model_name": "CheckboxModel",
      "state": {
       "description": "135°",
       "disabled": false,
       "layout": "IPY_MODEL_fca467fbacda4366ac6d71ccd5b56cfc",
       "style": "IPY_MODEL_d47e2aa139ec4bc48fe1cd293fbfea06",
       "value": true
      }
     },
     "2ba975e5fd8f40309db408fb0721daff": {
      "model_module": "@jupyter-widgets/controls",
      "model_module_version": "1.1.0",
      "model_name": "CheckboxModel",
      "state": {
       "description": "30°",
       "disabled": false,
       "layout": "IPY_MODEL_ffc0f64b49c84d55873df730ed3f2593",
       "style": "IPY_MODEL_89466c02b68748f8a436e8f91ceaa1c8",
       "value": true
      }
     },
     "2bc9da5c0a8f480d89a14f33d0641517": {
      "model_module": "@jupyter-widgets/controls",
      "model_module_version": "1.1.0",
      "model_name": "CheckboxModel",
      "state": {
       "description": "PHITS simulated",
       "disabled": false,
       "layout": "IPY_MODEL_494dabc7ce2945f19239370be71cc656",
       "style": "IPY_MODEL_dc2fd02629da40079836a46a6d085d52",
       "value": true
      }
     },
     "2bfba8157b8447fca9e7126134d36d87": {
      "model_module": "@jupyter-widgets/base",
      "model_module_version": "1.0.0",
      "model_name": "LayoutModel",
      "state": {}
     },
     "2c1995101fa74608bb3c56edc2c8d1c6": {
      "model_module": "@jupyter-widgets/base",
      "model_module_version": "1.0.0",
      "model_name": "LayoutModel",
      "state": {}
     },
     "2c1a48858de5405496aade8f31332dc4": {
      "model_module": "@jupyter-widgets/controls",
      "model_module_version": "1.1.0",
      "model_name": "DescriptionStyleModel",
      "state": {
       "description_width": ""
      }
     },
     "2c23d7a990ae4a2684dd296d88e9d850": {
      "model_module": "@jupyter-widgets/controls",
      "model_module_version": "1.1.0",
      "model_name": "CheckboxModel",
      "state": {
       "description": "80°",
       "disabled": false,
       "layout": "IPY_MODEL_24be490ab1f64504993213f8766981ce",
       "style": "IPY_MODEL_ea8cf577676a4f5c815dc001591cca70",
       "value": true
      }
     },
     "2c283eac07974b8c9dc6bcd92671f261": {
      "model_module": "@jupyter-widgets/controls",
      "model_module_version": "1.1.0",
      "model_name": "DescriptionStyleModel",
      "state": {
       "description_width": ""
      }
     },
     "2c2d8136b99342bb82edb55ff49b1e88": {
      "model_module": "@jupyter-widgets/controls",
      "model_module_version": "1.1.0",
      "model_name": "CheckboxModel",
      "state": {
       "description": "45°",
       "disabled": false,
       "layout": "IPY_MODEL_605082e0f753458887d4cb323c5f3cab",
       "style": "IPY_MODEL_a6db707717084bd98e064729160813cb",
       "value": true
      }
     },
     "2c319db6eb8d471b971609779e6b519d": {
      "model_module": "@jupyter-widgets/controls",
      "model_module_version": "1.1.0",
      "model_name": "CheckboxModel",
      "state": {
       "description": "30°",
       "disabled": false,
       "layout": "IPY_MODEL_d6a7cc457e3742c183d9af3d1a0aacbd",
       "style": "IPY_MODEL_6902a3d0f5ed4573bc62d9ca3b441fe5",
       "value": true
      }
     },
     "2c4ef4f3e5e44b1fb9824dfee73d8afe": {
      "model_module": "@jupyter-widgets/controls",
      "model_module_version": "1.1.0",
      "model_name": "CheckboxModel",
      "state": {
       "description": "PHITS simulated",
       "disabled": false,
       "layout": "IPY_MODEL_785390cd756d49a19e9964c3010cb559",
       "style": "IPY_MODEL_e5735cc6219041ce86e8dd86b310dc02",
       "value": true
      }
     },
     "2c677bde966440d1ab1d799e4a999cc7": {
      "model_module": "@jupyter-widgets/base",
      "model_module_version": "1.0.0",
      "model_name": "LayoutModel",
      "state": {}
     },
     "2c74d1c741714f67aa3c29cd6db0295b": {
      "model_module": "@jupyter-widgets/base",
      "model_module_version": "1.0.0",
      "model_name": "LayoutModel",
      "state": {}
     },
     "2c7ef81276354c359d1e6d8d4d7f776f": {
      "model_module": "@jupyter-widgets/base",
      "model_module_version": "1.0.0",
      "model_name": "LayoutModel",
      "state": {}
     },
     "2ca819c4502f4d179b97705857a3cea9": {
      "model_module": "@jupyter-widgets/controls",
      "model_module_version": "1.1.0",
      "model_name": "DescriptionStyleModel",
      "state": {
       "description_width": ""
      }
     },
     "2cbce1b442a14338ac65ea260a0b4912": {
      "model_module": "@jupyter-widgets/controls",
      "model_module_version": "1.1.0",
      "model_name": "DescriptionStyleModel",
      "state": {
       "description_width": ""
      }
     },
     "2d24c806205140ef98e9efaaaec68b3d": {
      "model_module": "@jupyter-widgets/controls",
      "model_module_version": "1.1.0",
      "model_name": "CheckboxModel",
      "state": {
       "description": "60°",
       "disabled": false,
       "layout": "IPY_MODEL_b8344f383a404edcbad1b84fd6237079",
       "style": "IPY_MODEL_134dbfaf626f4f0188ccfb5e92dc8b4c",
       "value": true
      }
     },
     "2d4746af358c4294b09b4b45f64dc14c": {
      "model_module": "@jupyter-widgets/controls",
      "model_module_version": "1.1.0",
      "model_name": "CheckboxModel",
      "state": {
       "description": "135°",
       "disabled": false,
       "layout": "IPY_MODEL_407138ee5cd64b1f823f611486fac5ef",
       "style": "IPY_MODEL_b576ea33eaae4f5881e5e4345ac108c8",
       "value": true
      }
     },
     "2d7a0f4e9d9247759bfa556484a8b8e5": {
      "model_module": "@jupyter-widgets/controls",
      "model_module_version": "1.1.0",
      "model_name": "DescriptionStyleModel",
      "state": {
       "description_width": ""
      }
     },
     "2dc29aad853f45168fd248a8554269c5": {
      "model_module": "@jupyter-widgets/base",
      "model_module_version": "1.0.0",
      "model_name": "LayoutModel",
      "state": {}
     },
     "2df331ed0947481499b39951a8f811cd": {
      "model_module": "@jupyter-widgets/controls",
      "model_module_version": "1.1.0",
      "model_name": "ToggleButtonsStyleModel",
      "state": {
       "button_width": "",
       "description_width": ""
      }
     },
     "2e3a847b8cec4b5dbe367728c18d5a57": {
      "model_module": "@jupyter-widgets/controls",
      "model_module_version": "1.1.0",
      "model_name": "DescriptionStyleModel",
      "state": {
       "description_width": ""
      }
     },
     "2e3b0853fda640c6afe772d88c2b942d": {
      "model_module": "@jupyter-widgets/controls",
      "model_module_version": "1.1.0",
      "model_name": "LabelModel",
      "state": {
       "layout": "IPY_MODEL_b3986e02e21e4ee1a1966105d74846a0",
       "style": "IPY_MODEL_2d7a0f4e9d9247759bfa556484a8b8e5",
       "value": "Select which secondary particle to plot spectra for."
      }
     },
     "2e428f21ef224ed19a67939436536d65": {
      "model_module": "@jupyter-widgets/base",
      "model_module_version": "1.0.0",
      "model_name": "LayoutModel",
      "state": {}
     },
     "2e656e4db9bd4b2e92f145a36c270073": {
      "model_module": "@jupyter-widgets/controls",
      "model_module_version": "1.1.0",
      "model_name": "CheckboxModel",
      "state": {
       "description": "30°",
       "disabled": false,
       "layout": "IPY_MODEL_01ffdb0f8e284eb5bc5ea005cd6710e7",
       "style": "IPY_MODEL_95bf02f7406a4d3195351765c5517c43",
       "value": true
      }
     },
     "2e6eb0dd8f87479ab08dc9000d5723d2": {
      "model_module": "@jupyter-widgets/base",
      "model_module_version": "1.0.0",
      "model_name": "LayoutModel",
      "state": {}
     },
     "2e728ca3c2034b8086741be0d71e3946": {
      "model_module": "@jupyter-widgets/controls",
      "model_module_version": "1.1.0",
      "model_name": "DescriptionStyleModel",
      "state": {
       "description_width": ""
      }
     },
     "2e83bb0670b34e6faa903e7ec596b2c0": {
      "model_module": "@jupyter-widgets/controls",
      "model_module_version": "1.1.0",
      "model_name": "LabelModel",
      "state": {
       "layout": "IPY_MODEL_f71727a8872d46bfa0995c5545823cfc",
       "style": "IPY_MODEL_0746ca285bc24b84bbfb25149be57bd6",
       "value": "Select the detector angles to plot."
      }
     },
     "2ec3f5d8d41943d7aaab4f5b79048404": {
      "model_module": "@jupyter-widgets/controls",
      "model_module_version": "1.1.0",
      "model_name": "LabelModel",
      "state": {
       "layout": "IPY_MODEL_a3a4a3661a1245309cad93b6359eb7e0",
       "style": "IPY_MODEL_4259e31010e14417960adc84dabd8764",
       "value": "Select how data sets for each detector should be spaced apart (if at all)."
      }
     },
     "2ef0fbe0efa748768c719411257d997f": {
      "model_module": "@jupyter-widgets/controls",
      "model_module_version": "1.1.0",
      "model_name": "LabelModel",
      "state": {
       "layout": "IPY_MODEL_4ff00da7b2f240d1a374a3fc4e320df3",
       "style": "IPY_MODEL_ba69a78e6aeb4bbea77b34d2f431ded8",
       "value": "Select the detector angles to plot."
      }
     },
     "2ef1a56ae5bc45fba52f854ad3a9b76f": {
      "model_module": "@jupyter-widgets/controls",
      "model_module_version": "1.1.0",
      "model_name": "DescriptionStyleModel",
      "state": {
       "description_width": ""
      }
     },
     "2f00624ce4034144b2028ac5b987042f": {
      "model_module": "@jupyter-widgets/controls",
      "model_module_version": "1.1.0",
      "model_name": "CheckboxModel",
      "state": {
       "description": "45°",
       "disabled": false,
       "layout": "IPY_MODEL_e992d12a9729434d8f31fc94ade3e124",
       "style": "IPY_MODEL_884bb46f7a954ce38ebb5635c40a21d2",
       "value": true
      }
     },
     "2f0f1b0111db437d8dc6c27d468e6a66": {
      "model_module": "@jupyter-widgets/controls",
      "model_module_version": "1.1.0",
      "model_name": "DescriptionStyleModel",
      "state": {
       "description_width": ""
      }
     },
     "2f59f0148d4b4c318a233e7549c7a124": {
      "model_module": "@jupyter-widgets/controls",
      "model_module_version": "1.1.0",
      "model_name": "DescriptionStyleModel",
      "state": {
       "description_width": ""
      }
     },
     "2f9f375ed8694a78a0160c1848befb47": {
      "model_module": "@jupyter-widgets/base",
      "model_module_version": "1.0.0",
      "model_name": "LayoutModel",
      "state": {}
     },
     "2fcfc7521e804977b7d8840c05e78ec0": {
      "model_module": "@jupyter-widgets/controls",
      "model_module_version": "1.1.0",
      "model_name": "DescriptionStyleModel",
      "state": {
       "description_width": ""
      }
     },
     "2fdaee955b814f53adcb0097d9ca7d0a": {
      "model_module": "@jupyter-widgets/base",
      "model_module_version": "1.0.0",
      "model_name": "LayoutModel",
      "state": {}
     },
     "2fe070cfb385435db6261ac22e7b218f": {
      "model_module": "@jupyter-widgets/base",
      "model_module_version": "1.0.0",
      "model_name": "LayoutModel",
      "state": {}
     },
     "3011a48cf2e24233b89495b1c6d14e84": {
      "model_module": "@jupyter-widgets/controls",
      "model_module_version": "1.1.0",
      "model_name": "CheckboxModel",
      "state": {
       "description": "60°",
       "disabled": false,
       "layout": "IPY_MODEL_0b259ca278e647fdae7df89f47deff34",
       "style": "IPY_MODEL_10f183f605ce403daad19007e941f595",
       "value": true
      }
     },
     "3057daa3aeee4dd19e0ef7f89f0cf16c": {
      "model_module": "@jupyter-widgets/controls",
      "model_module_version": "1.1.0",
      "model_name": "DescriptionStyleModel",
      "state": {
       "description_width": ""
      }
     },
     "306d5473b29a48398ef0a64fa3a4e3b9": {
      "model_module": "@jupyter-widgets/controls",
      "model_module_version": "1.1.0",
      "model_name": "ToggleButtonsModel",
      "state": {
       "_options_labels": [
        "400 MeV",
        "800 MeV",
        "2500 MeV"
       ],
       "button_style": "",
       "description": "Energy:",
       "icons": [],
       "index": 0,
       "layout": "IPY_MODEL_c194486c042d403cbe2d0be71a136b56",
       "style": "IPY_MODEL_e366da6eff8946f28914cb82be8ba5eb",
       "tooltips": [
        "lowest energy",
        "middle energy",
        "highest energy"
       ]
      }
     },
     "30a95d8f1e9243a7b1ba9dabdd13c516": {
      "model_module": "@jupyter-widgets/controls",
      "model_module_version": "1.1.0",
      "model_name": "DescriptionStyleModel",
      "state": {
       "description_width": ""
      }
     },
     "30f4d12206a246b7a77d5dc6a690b65f": {
      "model_module": "@jupyter-widgets/controls",
      "model_module_version": "1.1.0",
      "model_name": "DescriptionStyleModel",
      "state": {
       "description_width": ""
      }
     },
     "31095c058b584486b014ec783168439c": {
      "model_module": "@jupyter-widgets/controls",
      "model_module_version": "1.1.0",
      "model_name": "CheckboxModel",
      "state": {
       "description": "10°",
       "disabled": false,
       "layout": "IPY_MODEL_2791d37e0d2848a1a800234bdda11304",
       "style": "IPY_MODEL_42b67d4ab06f47b4961cd3afdd00554c",
       "value": true
      }
     },
     "312d0650ec004f909b6f98ff9ccc158f": {
      "model_module": "@jupyter-widgets/base",
      "model_module_version": "1.0.0",
      "model_name": "LayoutModel",
      "state": {}
     },
     "3189369a0cac44e0a6e3b6b6d8657f93": {
      "model_module": "@jupyter-widgets/controls",
      "model_module_version": "1.1.0",
      "model_name": "ToggleButtonsStyleModel",
      "state": {
       "button_width": "",
       "description_width": ""
      }
     },
     "31903ee12cc046d4a5f3c48980d03de8": {
      "model_module": "@jupyter-widgets/base",
      "model_module_version": "1.0.0",
      "model_name": "LayoutModel",
      "state": {}
     },
     "31b5d3d06e6242c9b5a0fb11f5fd7319": {
      "model_module": "@jupyter-widgets/controls",
      "model_module_version": "1.1.0",
      "model_name": "CheckboxModel",
      "state": {
       "description": "60°",
       "disabled": false,
       "layout": "IPY_MODEL_e75e86304c0e43ab9315309c63aae2b6",
       "style": "IPY_MODEL_3e47058c1caa4142825ba25fd6d0dc58",
       "value": false
      }
     },
     "31bedefb041d45bc8089755ad4dee01e": {
      "model_module": "@jupyter-widgets/controls",
      "model_module_version": "1.1.0",
      "model_name": "DescriptionStyleModel",
      "state": {
       "description_width": ""
      }
     },
     "31e9545bb3694ca09a8d39eb049284a8": {
      "model_module": "@jupyter-widgets/base",
      "model_module_version": "1.0.0",
      "model_name": "LayoutModel",
      "state": {}
     },
     "31eccb51f3554686a99127acb7d976ab": {
      "model_module": "@jupyter-widgets/controls",
      "model_module_version": "1.1.0",
      "model_name": "DescriptionStyleModel",
      "state": {
       "description_width": ""
      }
     },
     "322ac2354e984c30b66e0b21793eded5": {
      "model_module": "@jupyter-widgets/controls",
      "model_module_version": "1.1.0",
      "model_name": "CheckboxModel",
      "state": {
       "description": "60°",
       "disabled": false,
       "layout": "IPY_MODEL_551f1768743d48d6b4d9eabce3889290",
       "style": "IPY_MODEL_4bfd016f6b254de38d2ec87c639a380d",
       "value": true
      }
     },
     "325e49be119544de8398173a30e3339c": {
      "model_module": "@jupyter-widgets/controls",
      "model_module_version": "1.1.0",
      "model_name": "DescriptionStyleModel",
      "state": {
       "description_width": ""
      }
     },
     "32ae16106a1c4496831fc9941be86476": {
      "model_module": "@jupyter-widgets/controls",
      "model_module_version": "1.1.0",
      "model_name": "DescriptionStyleModel",
      "state": {
       "description_width": ""
      }
     },
     "32e719f97d234a248bcbaf5d96dfd4a6": {
      "model_module": "@jupyter-widgets/base",
      "model_module_version": "1.0.0",
      "model_name": "LayoutModel",
      "state": {}
     },
     "33262a01067344d4b83158d52895aef4": {
      "model_module": "@jupyter-widgets/controls",
      "model_module_version": "1.1.0",
      "model_name": "CheckboxModel",
      "state": {
       "description": "28.2°",
       "disabled": false,
       "layout": "IPY_MODEL_71683c8b18754c3b99996c8c2f587ece",
       "style": "IPY_MODEL_f97258fbbb4c467ebb072327200c0105",
       "value": true
      }
     },
     "33472369a0234ea3a9dcf27c09cd7f7b": {
      "model_module": "@jupyter-widgets/base",
      "model_module_version": "1.0.0",
      "model_name": "LayoutModel",
      "state": {}
     },
     "3362abff56024a28bb3f806b1c8512b0": {
      "model_module": "@jupyter-widgets/base",
      "model_module_version": "1.0.0",
      "model_name": "LayoutModel",
      "state": {}
     },
     "3390f09b3a6d4015a170c63a418e3897": {
      "model_module": "@jupyter-widgets/base",
      "model_module_version": "1.0.0",
      "model_name": "LayoutModel",
      "state": {}
     },
     "3399a4c8e41742b19dc0a8b326200e48": {
      "model_module": "@jupyter-widgets/controls",
      "model_module_version": "1.1.0",
      "model_name": "DescriptionStyleModel",
      "state": {
       "description_width": ""
      }
     },
     "33c23a4720244974b92f5a5e7e3f3fd9": {
      "model_module": "@jupyter-widgets/controls",
      "model_module_version": "1.1.0",
      "model_name": "DescriptionStyleModel",
      "state": {
       "description_width": ""
      }
     },
     "3409f20a2b44478ca3f017d84b25150d": {
      "model_module": "@jupyter-widgets/controls",
      "model_module_version": "1.1.0",
      "model_name": "DescriptionStyleModel",
      "state": {
       "description_width": ""
      }
     },
     "340f34f609204242aa0bc073ad49ea85": {
      "model_module": "@jupyter-widgets/controls",
      "model_module_version": "1.1.0",
      "model_name": "CheckboxModel",
      "state": {
       "description": "32.7°",
       "disabled": false,
       "layout": "IPY_MODEL_20da3b71f3e3411983b211b99d20ec80",
       "style": "IPY_MODEL_f4ed453b5306419e94a21b49cba03d49",
       "value": true
      }
     },
     "3446711576864bc6be7fe4b295e27a95": {
      "model_module": "@jupyter-widgets/base",
      "model_module_version": "1.0.0",
      "model_name": "LayoutModel",
      "state": {}
     },
     "34c7f5a56df04a03a6dc535e5f75739a": {
      "model_module": "@jupyter-widgets/base",
      "model_module_version": "1.0.0",
      "model_name": "LayoutModel",
      "state": {}
     },
     "34ccd4af033749bbbecce75ec409970d": {
      "model_module": "@jupyter-widgets/controls",
      "model_module_version": "1.1.0",
      "model_name": "LabelModel",
      "state": {
       "layout": "IPY_MODEL_823ff30f4d3648aca3a0c04c4d588ac5",
       "style": "IPY_MODEL_6e5f793677974678bc6e7082c99effcc",
       "value": "Select the detector angles to plot."
      }
     },
     "34f5e5e0307f417ea79d6d97d9afd5f1": {
      "model_module": "@jupyter-widgets/base",
      "model_module_version": "1.0.0",
      "model_name": "LayoutModel",
      "state": {}
     },
     "35808e4c571c4f76a4628148a7a69c54": {
      "model_module": "@jupyter-widgets/controls",
      "model_module_version": "1.1.0",
      "model_name": "DescriptionStyleModel",
      "state": {
       "description_width": ""
      }
     },
     "358e4741551d4c4686ca6b750bcca1d4": {
      "model_module": "@jupyter-widgets/controls",
      "model_module_version": "1.1.0",
      "model_name": "DescriptionStyleModel",
      "state": {
       "description_width": ""
      }
     },
     "3593d7ffc1b94e93a5405f2cd90d0fa9": {
      "model_module": "@jupyter-widgets/controls",
      "model_module_version": "1.1.0",
      "model_name": "ToggleButtonsModel",
      "state": {
       "_options_labels": [
        "20 g/cm²",
        "40 g/cm²",
        "60 g/cm²"
       ],
       "button_style": "",
       "description": "Thickness:",
       "icons": [],
       "index": 0,
       "layout": "IPY_MODEL_a1c93c2d5f0a42e384fcdabc98b67ee2",
       "style": "IPY_MODEL_eefb103b46b840978229669dc9bbcdce",
       "tooltips": [
        "20 g/cm² Polyethylene",
        "40 g/cm² Polyethylene",
        "60 g/cm² Polyethylene"
       ]
      }
     },
     "35a028bfb2da4198a6a1346e8c14e8ab": {
      "model_module": "@jupyter-widgets/controls",
      "model_module_version": "1.1.0",
      "model_name": "CheckboxModel",
      "state": {
       "description": "45°",
       "disabled": false,
       "layout": "IPY_MODEL_98753889ae644f97a385da2841d81ec5",
       "style": "IPY_MODEL_b6ca782bee7b416ab05bbad8e0002595",
       "value": false
      }
     },
     "35c7769a9a5642218152dd0a873130f5": {
      "model_module": "@jupyter-widgets/base",
      "model_module_version": "1.0.0",
      "model_name": "LayoutModel",
      "state": {}
     },
     "35ced27b879c42d9b20e796e03c2f102": {
      "model_module": "@jupyter-widgets/controls",
      "model_module_version": "1.1.0",
      "model_name": "DescriptionStyleModel",
      "state": {
       "description_width": ""
      }
     },
     "35d60a1a4f4448bc854f51196b287f24": {
      "model_module": "@jupyter-widgets/controls",
      "model_module_version": "1.1.0",
      "model_name": "CheckboxModel",
      "state": {
       "description": "60°",
       "disabled": false,
       "layout": "IPY_MODEL_11df27aa5e3847d59b5cbdd1ed1e833d",
       "style": "IPY_MODEL_5c1891fc0f3e494bb2daac66c62f0605",
       "value": true
      }
     },
     "35ebebb3f77f4229bcefca9d8c5b1045": {
      "model_module": "@jupyter-widgets/controls",
      "model_module_version": "1.1.0",
      "model_name": "DescriptionStyleModel",
      "state": {
       "description_width": ""
      }
     },
     "35fa8266494c4442b543f10adf20caa1": {
      "model_module": "@jupyter-widgets/controls",
      "model_module_version": "1.1.0",
      "model_name": "CheckboxModel",
      "state": {
       "description": "30°",
       "disabled": false,
       "layout": "IPY_MODEL_b0850357b9f3483ebcb764038629e4b6",
       "style": "IPY_MODEL_ed728a04d4bc4e46bfe229bbe18d946c",
       "value": true
      }
     },
     "3619c3db11734ddeae8b2aa3f02f7023": {
      "model_module": "@jupyter-widgets/base",
      "model_module_version": "1.0.0",
      "model_name": "LayoutModel",
      "state": {}
     },
     "365cc349dabc4ae5a0219329152a8f57": {
      "model_module": "@jupyter-widgets/controls",
      "model_module_version": "1.1.0",
      "model_name": "ToggleButtonsStyleModel",
      "state": {
       "button_width": "",
       "description_width": ""
      }
     },
     "367b1a0957de43d1b458dacce96a2b0d": {
      "model_module": "@jupyter-widgets/controls",
      "model_module_version": "1.1.0",
      "model_name": "DescriptionStyleModel",
      "state": {
       "description_width": ""
      }
     },
     "36aaaf9c7c06486d942f2d4e58e395d1": {
      "model_module": "@jupyter-widgets/controls",
      "model_module_version": "1.1.0",
      "model_name": "ToggleButtonsModel",
      "state": {
       "_options_labels": [
        "N (¹n)",
        "NDC (¹n)",
        "P (¹H)",
        "D (²H)",
        "T (³H)",
        "S (³He)",
        "A (⁴He)"
       ],
       "button_style": "",
       "description": "Particle:",
       "icons": [],
       "index": 0,
       "layout": "IPY_MODEL_9a1f984c3c80443292067dab89b6fd20",
       "style": "IPY_MODEL_048c97d7f51846b8a8fb4df0561446da",
       "tooltips": [
        "Neutron",
        "Back Target Neutron",
        "Proton",
        "Deuteron",
        "Triton",
        "Helium-3",
        "Helium-4"
       ]
      }
     },
     "36edc3b7ec8a44099c8f8c0543d9f99a": {
      "model_module": "@jupyter-widgets/controls",
      "model_module_version": "1.1.0",
      "model_name": "DescriptionStyleModel",
      "state": {
       "description_width": ""
      }
     },
     "377f418dbd6a41b9b98c2d82f062e64e": {
      "model_module": "@jupyter-widgets/controls",
      "model_module_version": "1.1.0",
      "model_name": "ToggleButtonsStyleModel",
      "state": {
       "button_width": "",
       "description_width": ""
      }
     },
     "379905cd5a194accbe7b7a843105614d": {
      "model_module": "@jupyter-widgets/controls",
      "model_module_version": "1.1.0",
      "model_name": "DescriptionStyleModel",
      "state": {
       "description_width": ""
      }
     },
     "381a1152e0f54045a01f73deaa3a0891": {
      "model_module": "@jupyter-widgets/controls",
      "model_module_version": "1.1.0",
      "model_name": "DescriptionStyleModel",
      "state": {
       "description_width": ""
      }
     },
     "383081b3ad19498490196aa4c2e92f84": {
      "model_module": "@jupyter-widgets/base",
      "model_module_version": "1.0.0",
      "model_name": "LayoutModel",
      "state": {}
     },
     "384c2f9e6a9240a7aac3d6b7beeb3c2e": {
      "model_module": "@jupyter-widgets/base",
      "model_module_version": "1.0.0",
      "model_name": "LayoutModel",
      "state": {}
     },
     "38784f7386d84206aa346839bfd48dd1": {
      "model_module": "@jupyter-widgets/controls",
      "model_module_version": "1.1.0",
      "model_name": "CheckboxModel",
      "state": {
       "description": "MCNP simulated",
       "disabled": false,
       "layout": "IPY_MODEL_f41b887ee0d948018f442ae216d31f95",
       "style": "IPY_MODEL_92154e0fd2d046869b4d0e4406a04164",
       "value": true
      }
     },
     "38c4777f06d8457d84f1bb3212e9c5a4": {
      "model_module": "@jupyter-widgets/base",
      "model_module_version": "1.0.0",
      "model_name": "LayoutModel",
      "state": {}
     },
     "39282a4457f7401399ee1d29a15a961f": {
      "model_module": "@jupyter-widgets/controls",
      "model_module_version": "1.1.0",
      "model_name": "DescriptionStyleModel",
      "state": {
       "description_width": ""
      }
     },
     "395446e8e7c2410bb4bc4027eae2a0f3": {
      "model_module": "@jupyter-widgets/base",
      "model_module_version": "1.0.0",
      "model_name": "LayoutModel",
      "state": {}
     },
     "395f4ed1396f41599458d76bd4a9f8b9": {
      "model_module": "@jupyter-widgets/controls",
      "model_module_version": "1.1.0",
      "model_name": "DescriptionStyleModel",
      "state": {
       "description_width": ""
      }
     },
     "397f029dfdd045229aed31a970cb9de4": {
      "model_module": "@jupyter-widgets/controls",
      "model_module_version": "1.1.0",
      "model_name": "ToggleButtonsModel",
      "state": {
       "_options_labels": [
        "N (¹n)",
        "NDC (¹n)",
        "P (¹H)",
        "D (²H)",
        "T (³H)",
        "S (³He)",
        "A (⁴He)"
       ],
       "button_style": "",
       "description": "Type:",
       "icons": [],
       "index": 0,
       "layout": "IPY_MODEL_9872c102cabd49cdb5f48220b334548f",
       "style": "IPY_MODEL_fc5e76d7b0d54b7fb864f43147295e4d",
       "tooltips": [
        "Neutron",
        "Back Target Neutron",
        "Proton",
        "Deuteron",
        "Triton",
        "Helium-3",
        "Helium-4"
       ]
      }
     },
     "39b823192d424a1aab87bcddeee16b3d": {
      "model_module": "@jupyter-widgets/controls",
      "model_module_version": "1.1.0",
      "model_name": "DescriptionStyleModel",
      "state": {
       "description_width": ""
      }
     },
     "39db90205a6a4dc681303dcbcf010a95": {
      "model_module": "@jupyter-widgets/controls",
      "model_module_version": "1.1.0",
      "model_name": "LabelModel",
      "state": {
       "layout": "IPY_MODEL_666947855c7b4a45a47d2346e06c6163",
       "style": "IPY_MODEL_502f0671d23f460a8945d09d5b4bd79c",
       "value": "Select upstream target mass thickness."
      }
     },
     "3a75bad443c149f2a33f91a7d69e457b": {
      "model_module": "@jupyter-widgets/controls",
      "model_module_version": "1.1.0",
      "model_name": "CheckboxModel",
      "state": {
       "description": "10°",
       "disabled": false,
       "layout": "IPY_MODEL_c3f3fef894c94cb3a2fed42e5d4f1d51",
       "style": "IPY_MODEL_44c9f51553bf44a9a592856322fac6fb",
       "value": true
      }
     },
     "3ab053ea2b48422690ce68b194f7ddce": {
      "model_module": "@jupyter-widgets/base",
      "model_module_version": "1.0.0",
      "model_name": "LayoutModel",
      "state": {}
     },
     "3ab5122a8d864d1d9bbb389b35e1ab2d": {
      "model_module": "@jupyter-widgets/controls",
      "model_module_version": "1.1.0",
      "model_name": "DescriptionStyleModel",
      "state": {
       "description_width": ""
      }
     },
     "3ae7edf9282c4bb29262fc74ed7457c6": {
      "model_module": "@jupyter-widgets/controls",
      "model_module_version": "1.1.0",
      "model_name": "DescriptionStyleModel",
      "state": {
       "description_width": ""
      }
     },
     "3b0965cfea5647cda8732d9283755930": {
      "model_module": "@jupyter-widgets/base",
      "model_module_version": "1.0.0",
      "model_name": "LayoutModel",
      "state": {}
     },
     "3b0b8b295c814436aa521b533e2e56c8": {
      "model_module": "@jupyter-widgets/controls",
      "model_module_version": "1.1.0",
      "model_name": "DescriptionStyleModel",
      "state": {
       "description_width": ""
      }
     },
     "3b5db79cca144685915a4b267b98c18b": {
      "model_module": "@jupyter-widgets/controls",
      "model_module_version": "1.1.0",
      "model_name": "CheckboxModel",
      "state": {
       "description": "28.2°",
       "disabled": false,
       "layout": "IPY_MODEL_5a127a21a9244a47962c8a41005dc6b8",
       "style": "IPY_MODEL_7a41df7279be47f19ff549ed07da1077",
       "value": false
      }
     },
     "3ba19ebc170b40f2b661526b1e62419f": {
      "model_module": "@jupyter-widgets/controls",
      "model_module_version": "1.1.0",
      "model_name": "DescriptionStyleModel",
      "state": {
       "description_width": ""
      }
     },
     "3bd60948f1b348798290769e44107797": {
      "model_module": "@jupyter-widgets/controls",
      "model_module_version": "1.1.0",
      "model_name": "CheckboxModel",
      "state": {
       "description": "10°",
       "disabled": false,
       "layout": "IPY_MODEL_027fe3d5ff7043d781512933effbf2f7",
       "style": "IPY_MODEL_36edc3b7ec8a44099c8f8c0543d9f99a",
       "value": true
      }
     },
     "3c09a4f787f24fb882051c5bbbc36f4a": {
      "model_module": "@jupyter-widgets/base",
      "model_module_version": "1.0.0",
      "model_name": "LayoutModel",
      "state": {}
     },
     "3c0a2da75dd243fc8e9cabdd1f16b48c": {
      "model_module": "@jupyter-widgets/base",
      "model_module_version": "1.0.0",
      "model_name": "LayoutModel",
      "state": {}
     },
     "3c181b41a2aa40508ceff12b39798aef": {
      "model_module": "@jupyter-widgets/controls",
      "model_module_version": "1.1.0",
      "model_name": "DescriptionStyleModel",
      "state": {
       "description_width": ""
      }
     },
     "3c1b163dce6341669f6824f4534d5835": {
      "model_module": "@jupyter-widgets/base",
      "model_module_version": "1.0.0",
      "model_name": "LayoutModel",
      "state": {}
     },
     "3c1dc53a568949c483b00aa912e2840e": {
      "model_module": "@jupyter-widgets/base",
      "model_module_version": "1.0.0",
      "model_name": "LayoutModel",
      "state": {}
     },
     "3c1f3f08990e48fa8891fc336116f9c7": {
      "model_module": "@jupyter-widgets/controls",
      "model_module_version": "1.1.0",
      "model_name": "DescriptionStyleModel",
      "state": {
       "description_width": ""
      }
     },
     "3c2e68c03a494d0e964b3a51e06f82e8": {
      "model_module": "@jupyter-widgets/controls",
      "model_module_version": "1.1.0",
      "model_name": "DescriptionStyleModel",
      "state": {
       "description_width": ""
      }
     },
     "3c8c6a6665a64aec97d8773312827237": {
      "model_module": "@jupyter-widgets/base",
      "model_module_version": "1.0.0",
      "model_name": "LayoutModel",
      "state": {}
     },
     "3cb589dd6b2345fa9a81a2223dc97ce9": {
      "model_module": "@jupyter-widgets/base",
      "model_module_version": "1.0.0",
      "model_name": "LayoutModel",
      "state": {}
     },
     "3cd124f1e9e744878abd76ecc1d9d390": {
      "model_module": "@jupyter-widgets/base",
      "model_module_version": "1.0.0",
      "model_name": "LayoutModel",
      "state": {}
     },
     "3cf480469a1c4902b53f1b2f7ff72c9d": {
      "model_module": "@jupyter-widgets/base",
      "model_module_version": "1.0.0",
      "model_name": "LayoutModel",
      "state": {}
     },
     "3d06230ad2b44d069ab9f4e393b17e87": {
      "model_module": "@jupyter-widgets/controls",
      "model_module_version": "1.1.0",
      "model_name": "CheckboxModel",
      "state": {
       "description": "135°",
       "disabled": false,
       "layout": "IPY_MODEL_62005fa6af354d3abb3d96cdd98641ee",
       "style": "IPY_MODEL_b06735c61c254823b8261980ec3395a3",
       "value": true
      }
     },
     "3d0f3c678ae9413bb5af523f0949b7a3": {
      "model_module": "@jupyter-widgets/controls",
      "model_module_version": "1.1.0",
      "model_name": "DescriptionStyleModel",
      "state": {
       "description_width": ""
      }
     },
     "3d4543f1be52411fb91d2d09ef6d396a": {
      "model_module": "@jupyter-widgets/controls",
      "model_module_version": "1.1.0",
      "model_name": "ToggleButtonsModel",
      "state": {
       "_options_labels": [
        "P (¹H)",
        "D (²H)",
        "T (³H)",
        "A (⁴He)"
       ],
       "button_style": "",
       "description": "Type:",
       "icons": [],
       "index": 0,
       "layout": "IPY_MODEL_b159994f2523454c849777345beef154",
       "style": "IPY_MODEL_1b46d062e7544ec0a153eeae4e600990",
       "tooltips": [
        "Proton",
        "Deuteron",
        "Triton",
        "Helium-4"
       ]
      }
     },
     "3d8b79afcd5346e89411d87b293cd799": {
      "model_module": "@jupyter-widgets/controls",
      "model_module_version": "1.1.0",
      "model_name": "ButtonStyleModel",
      "state": {}
     },
     "3d95b66ff94d442283299aecf4512049": {
      "model_module": "@jupyter-widgets/controls",
      "model_module_version": "1.1.0",
      "model_name": "DescriptionStyleModel",
      "state": {
       "description_width": ""
      }
     },
     "3d97e80d1c424d3e854e2b2106a1b287": {
      "model_module": "@jupyter-widgets/base",
      "model_module_version": "1.0.0",
      "model_name": "LayoutModel",
      "state": {}
     },
     "3e26dbb23950401caf73c17a05277c77": {
      "model_module": "@jupyter-widgets/controls",
      "model_module_version": "1.1.0",
      "model_name": "DescriptionStyleModel",
      "state": {
       "description_width": ""
      }
     },
     "3e445967598a49b49aafcad0214a1c29": {
      "model_module": "@jupyter-widgets/controls",
      "model_module_version": "1.1.0",
      "model_name": "CheckboxModel",
      "state": {
       "description": "60°",
       "disabled": false,
       "layout": "IPY_MODEL_c1b4698aaec643bf83f637a29587f2b2",
       "style": "IPY_MODEL_038cd47bafb04d39a36cd5ab084c585d",
       "value": true
      }
     },
     "3e47058c1caa4142825ba25fd6d0dc58": {
      "model_module": "@jupyter-widgets/controls",
      "model_module_version": "1.1.0",
      "model_name": "DescriptionStyleModel",
      "state": {
       "description_width": ""
      }
     },
     "3e6868e05b4d42438e495a1ad59c565b": {
      "model_module": "@jupyter-widgets/controls",
      "model_module_version": "1.1.0",
      "model_name": "DescriptionStyleModel",
      "state": {
       "description_width": ""
      }
     },
     "3e6d3a7685ca4313a9d12b60f362146d": {
      "model_module": "@jupyter-widgets/controls",
      "model_module_version": "1.1.0",
      "model_name": "CheckboxModel",
      "state": {
       "description": "80°",
       "disabled": false,
       "layout": "IPY_MODEL_31e9545bb3694ca09a8d39eb049284a8",
       "style": "IPY_MODEL_4252cd15596c400f98a374d31439c20c",
       "value": false
      }
     },
     "3ed8a03b12234f1f96c21be5fc89dbbf": {
      "model_module": "@jupyter-widgets/base",
      "model_module_version": "1.0.0",
      "model_name": "LayoutModel",
      "state": {}
     },
     "3f3126e11c2e4b25ab2b7ec236bfd29a": {
      "model_module": "@jupyter-widgets/controls",
      "model_module_version": "1.1.0",
      "model_name": "CheckboxModel",
      "state": {
       "description": "135°",
       "disabled": false,
       "layout": "IPY_MODEL_9e70dabc9cec4089a4b8308037cdecb1",
       "style": "IPY_MODEL_5d9f1e4f52be41468c9737671db6eeb7",
       "value": true
      }
     },
     "3f65a85a160a4441a7874fdb881d8141": {
      "model_module": "@jupyter-widgets/base",
      "model_module_version": "1.0.0",
      "model_name": "LayoutModel",
      "state": {}
     },
     "3f9b30d802344f01a03d47bc911046d3": {
      "model_module": "@jupyter-widgets/controls",
      "model_module_version": "1.1.0",
      "model_name": "DescriptionStyleModel",
      "state": {
       "description_width": ""
      }
     },
     "3fa835cdaf12418f909ab21e9778b253": {
      "model_module": "@jupyter-widgets/base",
      "model_module_version": "1.0.0",
      "model_name": "LayoutModel",
      "state": {}
     },
     "3fd3b2faeb074380b2729da5cdd95564": {
      "model_module": "@jupyter-widgets/base",
      "model_module_version": "1.0.0",
      "model_name": "LayoutModel",
      "state": {}
     },
     "3fe9779ece614d6c962a1ee84983c997": {
      "model_module": "@jupyter-widgets/controls",
      "model_module_version": "1.1.0",
      "model_name": "CheckboxModel",
      "state": {
       "description": "135°",
       "disabled": false,
       "layout": "IPY_MODEL_b1e44077f2bb4e8c83ec53c33e3658c0",
       "style": "IPY_MODEL_6c5ed0a01f1f418aba1e82fb20332402",
       "value": true
      }
     },
     "4000278a9d364b9f8b0aa3f29b94c1be": {
      "model_module": "@jupyter-widgets/controls",
      "model_module_version": "1.1.0",
      "model_name": "ToggleButtonsStyleModel",
      "state": {
       "button_width": "",
       "description_width": ""
      }
     },
     "403956e3427d41e39e4ca6ce37a021f3": {
      "model_module": "@jupyter-widgets/controls",
      "model_module_version": "1.1.0",
      "model_name": "ToggleButtonsStyleModel",
      "state": {
       "button_width": "",
       "description_width": ""
      }
     },
     "405608c1d3cb4a39bb86ffc579e68bcf": {
      "model_module": "@jupyter-widgets/controls",
      "model_module_version": "1.1.0",
      "model_name": "ToggleButtonsModel",
      "state": {
       "_options_labels": [
        "20 g/cm²",
        "60 g/cm²"
       ],
       "button_style": "",
       "description": "Thickness:",
       "icons": [],
       "index": 0,
       "layout": "IPY_MODEL_00ad944b06944d3ab809f24d2c5ca45d",
       "style": "IPY_MODEL_1a5612b401944defb18e84f5e71fc199",
       "tooltips": [
        "10 g/cm² Al upstream + 10 g/cm² HDPE downstream",
        "10 g/cm² Al upstream + 50 g/cm² HDPE downstream"
       ]
      }
     },
     "407138ee5cd64b1f823f611486fac5ef": {
      "model_module": "@jupyter-widgets/base",
      "model_module_version": "1.0.0",
      "model_name": "LayoutModel",
      "state": {}
     },
     "409f8d96f1b84958a16c4d20848f7289": {
      "model_module": "@jupyter-widgets/base",
      "model_module_version": "1.0.0",
      "model_name": "LayoutModel",
      "state": {}
     },
     "40ed2e091b2b4081b4b6623db8dcc3c8": {
      "model_module": "@jupyter-widgets/controls",
      "model_module_version": "1.1.0",
      "model_name": "CheckboxModel",
      "state": {
       "description": "30°",
       "disabled": false,
       "layout": "IPY_MODEL_3c1dc53a568949c483b00aa912e2840e",
       "style": "IPY_MODEL_a05914b55e5d40649e03350e6eb3630a",
       "value": true
      }
     },
     "412ccd07feee49cd84638f59c245fbbd": {
      "model_module": "@jupyter-widgets/controls",
      "model_module_version": "1.1.0",
      "model_name": "LabelModel",
      "state": {
       "layout": "IPY_MODEL_9d7a1428bf78413ab9bb86941080f268",
       "style": "IPY_MODEL_abba099c8d2346e3b5455ba8b4be4d26",
       "value": "Select projectile ion energy."
      }
     },
     "41466c3bcded4d6f827a87637d762f9d": {
      "model_module": "@jupyter-widgets/controls",
      "model_module_version": "1.1.0",
      "model_name": "ToggleButtonsModel",
      "state": {
       "_options_labels": [
        "N (¹n)",
        "NDC (¹n)",
        "P (¹H)",
        "D (²H)",
        "T (³H)",
        "S (³He)",
        "A (⁴He)"
       ],
       "button_style": "",
       "description": "Type:",
       "icons": [],
       "index": 0,
       "layout": "IPY_MODEL_770ceff503154f0a865b91c4c5f39af8",
       "style": "IPY_MODEL_a2de60ea094a4b74a1566c0c53e204dc",
       "tooltips": [
        "Neutron",
        "Back Target Neutron",
        "Proton",
        "Deuteron",
        "Triton",
        "Helium-3",
        "Helium-4"
       ]
      }
     },
     "415c20f1bd384f6e9750930c8c6d5586": {
      "model_module": "@jupyter-widgets/controls",
      "model_module_version": "1.1.0",
      "model_name": "LabelModel",
      "state": {
       "layout": "IPY_MODEL_81425f7945044f9dacb6d4144985be36",
       "style": "IPY_MODEL_20dc665dc20c4b0d804b2fd06aea5e1f",
       "value": "Select which secondary particle to plot spectra for."
      }
     },
     "41a0197ea3864f2f96cd56564c88d629": {
      "model_module": "@jupyter-widgets/controls",
      "model_module_version": "1.1.0",
      "model_name": "CheckboxModel",
      "state": {
       "description": "80°",
       "disabled": false,
       "layout": "IPY_MODEL_cdbb0ba078c340cf92d6e7d7f2d48a90",
       "style": "IPY_MODEL_5032c0a28bb84678ba8f7c98434b2fb8",
       "value": true
      }
     },
     "41c781fe96f6436fa3362dfde8270771": {
      "model_module": "@jupyter-widgets/controls",
      "model_module_version": "1.1.0",
      "model_name": "CheckboxModel",
      "state": {
       "description": "135°",
       "disabled": false,
       "layout": "IPY_MODEL_5fc3f122bf5a4e9f81f5da4f559639cc",
       "style": "IPY_MODEL_aeeface96ece4888a98b7db93c45d416",
       "value": false
      }
     },
     "421425277dc24c669526e22b1bd57aa2": {
      "model_module": "@jupyter-widgets/controls",
      "model_module_version": "1.1.0",
      "model_name": "ToggleButtonsStyleModel",
      "state": {
       "button_width": "",
       "description_width": ""
      }
     },
     "422dba91792c4e14a40f86c2993d3b8d": {
      "model_module": "@jupyter-widgets/controls",
      "model_module_version": "1.1.0",
      "model_name": "LabelModel",
      "state": {
       "layout": "IPY_MODEL_cca342e79c6b4f2abd356205fe68475c",
       "style": "IPY_MODEL_0e990f10fa3a4299b2d8194a6469a2da",
       "value": "Select the detector angles to plot."
      }
     },
     "4252cd15596c400f98a374d31439c20c": {
      "model_module": "@jupyter-widgets/controls",
      "model_module_version": "1.1.0",
      "model_name": "DescriptionStyleModel",
      "state": {
       "description_width": ""
      }
     },
     "4259e31010e14417960adc84dabd8764": {
      "model_module": "@jupyter-widgets/controls",
      "model_module_version": "1.1.0",
      "model_name": "DescriptionStyleModel",
      "state": {
       "description_width": ""
      }
     },
     "428942ba674d46a2bf6cdd61a85e65eb": {
      "model_module": "@jupyter-widgets/base",
      "model_module_version": "1.0.0",
      "model_name": "LayoutModel",
      "state": {}
     },
     "42a55227a224471a814309854d725036": {
      "model_module": "@jupyter-widgets/controls",
      "model_module_version": "1.1.0",
      "model_name": "ToggleButtonsModel",
      "state": {
       "_options_labels": [
        "None",
        "Spaced by 10²"
       ],
       "button_style": "",
       "description": "Spacing:",
       "icons": [],
       "index": 0,
       "layout": "IPY_MODEL_a17e18225617407bad9ea54d14d3ff8f",
       "style": "IPY_MODEL_2593de92f9be4007b1f4d477fd4a25a2",
       "tooltips": [
        "All values are presented as is.",
        "Plots for different detectors are multiplied by powers of 10² for easier viewing."
       ]
      }
     },
     "42ac3994113648e7b1511b9da9417c54": {
      "model_module": "@jupyter-widgets/controls",
      "model_module_version": "1.1.0",
      "model_name": "DescriptionStyleModel",
      "state": {
       "description_width": ""
      }
     },
     "42b67d4ab06f47b4961cd3afdd00554c": {
      "model_module": "@jupyter-widgets/controls",
      "model_module_version": "1.1.0",
      "model_name": "DescriptionStyleModel",
      "state": {
       "description_width": ""
      }
     },
     "42c81fe8612b454e8f3f3342eb8dd9b6": {
      "model_module": "@jupyter-widgets/controls",
      "model_module_version": "1.1.0",
      "model_name": "DescriptionStyleModel",
      "state": {
       "description_width": ""
      }
     },
     "42da148a2a3e4f1f9716cd92540ea132": {
      "model_module": "@jupyter-widgets/controls",
      "model_module_version": "1.1.0",
      "model_name": "ToggleButtonsStyleModel",
      "state": {
       "button_width": "",
       "description_width": ""
      }
     },
     "4309eca1d42d41d0a0be80ee3ddcc7cf": {
      "model_module": "@jupyter-widgets/base",
      "model_module_version": "1.0.0",
      "model_name": "LayoutModel",
      "state": {}
     },
     "431cb5160efb42c1be6d872d56c3b795": {
      "model_module": "@jupyter-widgets/controls",
      "model_module_version": "1.1.0",
      "model_name": "DescriptionStyleModel",
      "state": {
       "description_width": ""
      }
     },
     "434eda9a3fdd4adc9d47d36d17c44992": {
      "model_module": "@jupyter-widgets/controls",
      "model_module_version": "1.1.0",
      "model_name": "DescriptionStyleModel",
      "state": {
       "description_width": ""
      }
     },
     "43912211b5184688b8ce478f1efbc6ef": {
      "model_module": "@jupyter-widgets/controls",
      "model_module_version": "1.1.0",
      "model_name": "DescriptionStyleModel",
      "state": {
       "description_width": ""
      }
     },
     "43db9ac0878c4c78b0c406c66ddf8b30": {
      "model_module": "@jupyter-widgets/controls",
      "model_module_version": "1.1.0",
      "model_name": "CheckboxModel",
      "state": {
       "description": "45°",
       "disabled": false,
       "layout": "IPY_MODEL_cf71b31f4cc440f89857fc5385661b21",
       "style": "IPY_MODEL_c364e5d45e4041ecb1b0e2902e992113",
       "value": true
      }
     },
     "442ac209cf4f4253a7d278fb37682d26": {
      "model_module": "@jupyter-widgets/controls",
      "model_module_version": "1.1.0",
      "model_name": "DescriptionStyleModel",
      "state": {
       "description_width": ""
      }
     },
     "4476cc8007dc41c292862aa4975e03ca": {
      "model_module": "@jupyter-widgets/controls",
      "model_module_version": "1.1.0",
      "model_name": "LabelModel",
      "state": {
       "layout": "IPY_MODEL_d7301efcfaf240e7a25f464811b3aaee",
       "style": "IPY_MODEL_e7c50db298be473eac5d8bfb179b664c",
       "value": "Select projectile ion species and energy."
      }
     },
     "447f53e19b2f4ddf9d2a3f12f6e5636f": {
      "model_module": "@jupyter-widgets/base",
      "model_module_version": "1.0.0",
      "model_name": "LayoutModel",
      "state": {}
     },
     "44c9f51553bf44a9a592856322fac6fb": {
      "model_module": "@jupyter-widgets/controls",
      "model_module_version": "1.1.0",
      "model_name": "DescriptionStyleModel",
      "state": {
       "description_width": ""
      }
     },
     "44d3c41f87914e6faf2379147d847721": {
      "model_module": "@jupyter-widgets/base",
      "model_module_version": "1.0.0",
      "model_name": "LayoutModel",
      "state": {}
     },
     "44e15962fb0a4f7c90805cc6a532bafd": {
      "model_module": "@jupyter-widgets/controls",
      "model_module_version": "1.1.0",
      "model_name": "CheckboxModel",
      "state": {
       "description": "80°",
       "disabled": false,
       "layout": "IPY_MODEL_f5265654bf1c43de820654cb0b360cae",
       "style": "IPY_MODEL_9b930e4743cd49ad892e2565cb83d894",
       "value": false
      }
     },
     "44e313e4526743ceb8af6da255f65ad1": {
      "model_module": "@jupyter-widgets/controls",
      "model_module_version": "1.1.0",
      "model_name": "DescriptionStyleModel",
      "state": {
       "description_width": ""
      }
     },
     "4511b1edad03417384805e5759312aa5": {
      "model_module": "@jupyter-widgets/controls",
      "model_module_version": "1.1.0",
      "model_name": "LabelModel",
      "state": {
       "layout": "IPY_MODEL_a430f5e1f8104030adc87152f743628c",
       "style": "IPY_MODEL_a0f8ff67cce34c4a927a05fb1ee2c88f",
       "value": "Select the detector angles to plot."
      }
     },
     "4517d2ec7e194ea2bbef18bb24682c51": {
      "model_module": "@jupyter-widgets/controls",
      "model_module_version": "1.1.0",
      "model_name": "CheckboxModel",
      "state": {
       "description": "80°",
       "disabled": false,
       "layout": "IPY_MODEL_bfd6c883ab654524b99c3f030206e901",
       "style": "IPY_MODEL_840cc699269c453caf5255b94c01977e",
       "value": true
      }
     },
     "4524981b64cd4317b83daa649d2fcda4": {
      "model_module": "@jupyter-widgets/controls",
      "model_module_version": "1.1.0",
      "model_name": "DescriptionStyleModel",
      "state": {
       "description_width": ""
      }
     },
     "453f31976f1745da8fe67203caf87d15": {
      "model_module": "@jupyter-widgets/controls",
      "model_module_version": "1.1.0",
      "model_name": "DescriptionStyleModel",
      "state": {
       "description_width": ""
      }
     },
     "458d0ff4e9c24a4fb84bc59a942eb7be": {
      "model_module": "@jupyter-widgets/controls",
      "model_module_version": "1.1.0",
      "model_name": "DescriptionStyleModel",
      "state": {
       "description_width": ""
      }
     },
     "45b9d236dbbf4356aafdb480f24a11d5": {
      "model_module": "@jupyter-widgets/controls",
      "model_module_version": "1.1.0",
      "model_name": "DescriptionStyleModel",
      "state": {
       "description_width": ""
      }
     },
     "45c7f6aa82f24df694b77ec71789ab46": {
      "model_module": "@jupyter-widgets/controls",
      "model_module_version": "1.1.0",
      "model_name": "ToggleButtonsStyleModel",
      "state": {
       "button_width": "",
       "description_width": ""
      }
     },
     "460c05ff88a1487bbc9076500df65cf9": {
      "model_module": "@jupyter-widgets/base",
      "model_module_version": "1.0.0",
      "model_name": "LayoutModel",
      "state": {}
     },
     "46158989dffc448fbbd4cbe5f5e4dd4f": {
      "model_module": "@jupyter-widgets/base",
      "model_module_version": "1.0.0",
      "model_name": "LayoutModel",
      "state": {}
     },
     "4624e853dfd54f939381d2e27047bb61": {
      "model_module": "@jupyter-widgets/controls",
      "model_module_version": "1.1.0",
      "model_name": "DescriptionStyleModel",
      "state": {
       "description_width": ""
      }
     },
     "4626e326d1fc43d4b1129ad66a98aade": {
      "model_module": "@jupyter-widgets/controls",
      "model_module_version": "1.1.0",
      "model_name": "CheckboxModel",
      "state": {
       "description": "45°",
       "disabled": false,
       "layout": "IPY_MODEL_84966235c9f94f55bd3807f3ac243f7c",
       "style": "IPY_MODEL_a8ff9a8265864ce6b8522a45b3a04d55",
       "value": true
      }
     },
     "462a79a9036144b8b3fe19cdc55eee8c": {
      "model_module": "@jupyter-widgets/controls",
      "model_module_version": "1.1.0",
      "model_name": "DescriptionStyleModel",
      "state": {
       "description_width": ""
      }
     },
     "4631bef8f06b44778e229ff134e96632": {
      "model_module": "@jupyter-widgets/controls",
      "model_module_version": "1.1.0",
      "model_name": "DescriptionStyleModel",
      "state": {
       "description_width": ""
      }
     },
     "46b255cfc70a4c64812173744a44a5da": {
      "model_module": "@jupyter-widgets/base",
      "model_module_version": "1.0.0",
      "model_name": "LayoutModel",
      "state": {}
     },
     "46da5a87136a4c1aab5938de6e45b620": {
      "model_module": "@jupyter-widgets/controls",
      "model_module_version": "1.1.0",
      "model_name": "DescriptionStyleModel",
      "state": {
       "description_width": ""
      }
     },
     "47059e5beca54edaad373a3aae00fc54": {
      "model_module": "@jupyter-widgets/controls",
      "model_module_version": "1.1.0",
      "model_name": "CheckboxModel",
      "state": {
       "description": "135°",
       "disabled": false,
       "layout": "IPY_MODEL_ba722835f7ba445792a8f5734717ca5e",
       "style": "IPY_MODEL_98237bf22d114ff39d165b4678e54734",
       "value": true
      }
     },
     "4723e6fd33cf4b678be4eff35656ddd8": {
      "model_module": "@jupyter-widgets/controls",
      "model_module_version": "1.1.0",
      "model_name": "CheckboxModel",
      "state": {
       "description": "12.7°",
       "disabled": false,
       "layout": "IPY_MODEL_d10acb0e71b24bb2b589371ee184085a",
       "style": "IPY_MODEL_c6e914b0c98940cfb5bdd881a7c06bf3",
       "value": true
      }
     },
     "4742d20d74b74d16b7c7a665f6dccd02": {
      "model_module": "@jupyter-widgets/controls",
      "model_module_version": "1.1.0",
      "model_name": "CheckboxModel",
      "state": {
       "description": "80°",
       "disabled": false,
       "layout": "IPY_MODEL_3c1b163dce6341669f6824f4534d5835",
       "style": "IPY_MODEL_b88e9620565a40ab941bc49f29829681",
       "value": true
      }
     },
     "47696c0e2de54cffb03295fdca3ba4f9": {
      "model_module": "@jupyter-widgets/controls",
      "model_module_version": "1.1.0",
      "model_name": "ButtonStyleModel",
      "state": {}
     },
     "47949500a1db4319892288bb8a0eaecd": {
      "model_module": "@jupyter-widgets/controls",
      "model_module_version": "1.1.0",
      "model_name": "LabelModel",
      "state": {
       "layout": "IPY_MODEL_1bfd2f44b7c2442090c992df698cee4c",
       "style": "IPY_MODEL_e79bd93ad5be4112858e8589b9072286",
       "value": "Select the detector angles to plot."
      }
     },
     "47bb9e4681e444679e939c70b022b30b": {
      "model_module": "@jupyter-widgets/controls",
      "model_module_version": "1.1.0",
      "model_name": "ButtonStyleModel",
      "state": {}
     },
     "48361456091047d39283a4c138e3abce": {
      "model_module": "@jupyter-widgets/controls",
      "model_module_version": "1.1.0",
      "model_name": "LabelModel",
      "state": {
       "layout": "IPY_MODEL_0017f825ac48419da4b51260e1acf358",
       "style": "IPY_MODEL_9b80b536f8134456afcfab7a234face8",
       "value": "Select projectile ion energy."
      }
     },
     "486a85212fc74b3c976559e6f202904e": {
      "model_module": "@jupyter-widgets/controls",
      "model_module_version": "1.1.0",
      "model_name": "DescriptionStyleModel",
      "state": {
       "description_width": ""
      }
     },
     "4873b52e14fb4e01a2efc9b6ec9f4561": {
      "model_module": "@jupyter-widgets/controls",
      "model_module_version": "1.1.0",
      "model_name": "ToggleButtonsStyleModel",
      "state": {
       "button_width": "",
       "description_width": ""
      }
     },
     "48a4c96a827e49d3beae6e2d1e8dace5": {
      "model_module": "@jupyter-widgets/controls",
      "model_module_version": "1.1.0",
      "model_name": "CheckboxModel",
      "state": {
       "description": "80°",
       "disabled": false,
       "layout": "IPY_MODEL_181d532fcf664ac59ef38448d3ac215c",
       "style": "IPY_MODEL_1b1c3c1a190840779c5277f754611eed",
       "value": true
      }
     },
     "48d3fdf0172048b78092b2e4fba35cc1": {
      "model_module": "@jupyter-widgets/base",
      "model_module_version": "1.0.0",
      "model_name": "LayoutModel",
      "state": {}
     },
     "48d6a29de3fe4b21a4933651013ca17c": {
      "model_module": "@jupyter-widgets/base",
      "model_module_version": "1.0.0",
      "model_name": "LayoutModel",
      "state": {}
     },
     "48dd3491bb6543ef97f3184f4dd04dc1": {
      "model_module": "@jupyter-widgets/base",
      "model_module_version": "1.0.0",
      "model_name": "LayoutModel",
      "state": {}
     },
     "494dabc7ce2945f19239370be71cc656": {
      "model_module": "@jupyter-widgets/base",
      "model_module_version": "1.0.0",
      "model_name": "LayoutModel",
      "state": {}
     },
     "496afe6a7255467882497c62a9934238": {
      "model_module": "@jupyter-widgets/controls",
      "model_module_version": "1.1.0",
      "model_name": "LabelModel",
      "state": {
       "layout": "IPY_MODEL_104d58e9449e48749b05fefce343f075",
       "style": "IPY_MODEL_5b022fe216604a93ac7675403a1dfe4f",
       "value": "Select which secondary particle to plot spectra for."
      }
     },
     "4983d2055aa540b09bf1671d230359fd": {
      "model_module": "@jupyter-widgets/base",
      "model_module_version": "1.0.0",
      "model_name": "LayoutModel",
      "state": {}
     },
     "49e9137e50f44813b72a45d69a659e96": {
      "model_module": "@jupyter-widgets/controls",
      "model_module_version": "1.1.0",
      "model_name": "CheckboxModel",
      "state": {
       "description": "60°",
       "disabled": false,
       "layout": "IPY_MODEL_6e5bfcd185424475abd072f9ff0da8ef",
       "style": "IPY_MODEL_07d75c2623a14acaac5b43e08e71b559",
       "value": false
      }
     },
     "4a159ef5829140938004cae24842987b": {
      "model_module": "@jupyter-widgets/controls",
      "model_module_version": "1.1.0",
      "model_name": "DescriptionStyleModel",
      "state": {
       "description_width": ""
      }
     },
     "4a48969b477c4bafabcfc6a9e4de6868": {
      "model_module": "@jupyter-widgets/controls",
      "model_module_version": "1.1.0",
      "model_name": "CheckboxModel",
      "state": {
       "description": "60°",
       "disabled": false,
       "layout": "IPY_MODEL_1d393d3627de4b8b9c225452fc52406f",
       "style": "IPY_MODEL_23ad429477be4fe7beb80dd502064ac7",
       "value": true
      }
     },
     "4aad6287ce5545179622eeec21873b28": {
      "model_module": "@jupyter-widgets/controls",
      "model_module_version": "1.1.0",
      "model_name": "CheckboxModel",
      "state": {
       "description": "80°",
       "disabled": false,
       "layout": "IPY_MODEL_dcac55fa47134e5a80e306325f646db6",
       "style": "IPY_MODEL_2c283eac07974b8c9dc6bcd92671f261",
       "value": true
      }
     },
     "4ad68fd1d95745479f05deef48a13dfe": {
      "model_module": "@jupyter-widgets/controls",
      "model_module_version": "1.1.0",
      "model_name": "CheckboxModel",
      "state": {
       "description": "80°",
       "disabled": false,
       "layout": "IPY_MODEL_268deff161c442f6baaa7d2a79d4c5a9",
       "style": "IPY_MODEL_3399a4c8e41742b19dc0a8b326200e48",
       "value": true
      }
     },
     "4aeafb61077d42808cef7e4da9b5abeb": {
      "model_module": "@jupyter-widgets/controls",
      "model_module_version": "1.1.0",
      "model_name": "CheckboxModel",
      "state": {
       "description": "28.2°",
       "disabled": false,
       "layout": "IPY_MODEL_0ba15f02a3e241cfb5554239e37e8a39",
       "style": "IPY_MODEL_3ae7edf9282c4bb29262fc74ed7457c6",
       "value": true
      }
     },
     "4b2dacfe18dc47e1a9d89b9d4d0d17ff": {
      "model_module": "@jupyter-widgets/base",
      "model_module_version": "1.0.0",
      "model_name": "LayoutModel",
      "state": {}
     },
     "4b313ade035346c08238c3d82576da2f": {
      "model_module": "@jupyter-widgets/base",
      "model_module_version": "1.0.0",
      "model_name": "LayoutModel",
      "state": {}
     },
     "4b395f57c6674e77b411277989eacd52": {
      "model_module": "@jupyter-widgets/controls",
      "model_module_version": "1.1.0",
      "model_name": "DescriptionStyleModel",
      "state": {
       "description_width": ""
      }
     },
     "4b3e0d7cc3a34cd19bab3b2ed36231f6": {
      "model_module": "@jupyter-widgets/base",
      "model_module_version": "1.0.0",
      "model_name": "LayoutModel",
      "state": {}
     },
     "4b6fa27e982d4d39a045f12e95015ba9": {
      "model_module": "@jupyter-widgets/base",
      "model_module_version": "1.0.0",
      "model_name": "LayoutModel",
      "state": {}
     },
     "4bbd72c1fa0b40e69f7b7a8bbda3f824": {
      "model_module": "@jupyter-widgets/base",
      "model_module_version": "1.0.0",
      "model_name": "LayoutModel",
      "state": {}
     },
     "4bd4fb3548f34dbbab78ecd8e9853177": {
      "model_module": "@jupyter-widgets/base",
      "model_module_version": "1.0.0",
      "model_name": "LayoutModel",
      "state": {}
     },
     "4be18702b7374d2bb6514893bc088c12": {
      "model_module": "@jupyter-widgets/controls",
      "model_module_version": "1.1.0",
      "model_name": "CheckboxModel",
      "state": {
       "description": "10°",
       "disabled": false,
       "layout": "IPY_MODEL_c3cab31f4d4f4a858cd9408d120aca09",
       "style": "IPY_MODEL_6e95f3508fc4499f871042d4040bd640",
       "value": true
      }
     },
     "4bfd016f6b254de38d2ec87c639a380d": {
      "model_module": "@jupyter-widgets/controls",
      "model_module_version": "1.1.0",
      "model_name": "DescriptionStyleModel",
      "state": {
       "description_width": ""
      }
     },
     "4c2d056166914a319f1aa0a32c67856d": {
      "model_module": "@jupyter-widgets/base",
      "model_module_version": "1.0.0",
      "model_name": "LayoutModel",
      "state": {}
     },
     "4c4d18aa051748ab9c29e91c88c13ed2": {
      "model_module": "@jupyter-widgets/controls",
      "model_module_version": "1.1.0",
      "model_name": "CheckboxModel",
      "state": {
       "description": "135°",
       "disabled": false,
       "layout": "IPY_MODEL_5ad7cb92db9f426599a612e6cdbeb1ae",
       "style": "IPY_MODEL_3c2e68c03a494d0e964b3a51e06f82e8",
       "value": true
      }
     },
     "4cbffe1b274f49ce81322da62902dd9c": {
      "model_module": "@jupyter-widgets/controls",
      "model_module_version": "1.1.0",
      "model_name": "ToggleButtonsStyleModel",
      "state": {
       "button_width": "",
       "description_width": ""
      }
     },
     "4cc39a6a644b45c2ae23f45f0791d40f": {
      "model_module": "@jupyter-widgets/controls",
      "model_module_version": "1.1.0",
      "model_name": "DescriptionStyleModel",
      "state": {
       "description_width": ""
      }
     },
     "4ce6a61031ce4b2ebb66154499226a6b": {
      "model_module": "@jupyter-widgets/controls",
      "model_module_version": "1.1.0",
      "model_name": "CheckboxModel",
      "state": {
       "description": "10°",
       "disabled": false,
       "layout": "IPY_MODEL_7db1c715c27c426f9a9b3a5820d79b0c",
       "style": "IPY_MODEL_f49081b81392490a9d44ed5eda297dfb",
       "value": true
      }
     },
     "4d36206d20a544589047cb8ec209f141": {
      "model_module": "@jupyter-widgets/controls",
      "model_module_version": "1.1.0",
      "model_name": "ToggleButtonsModel",
      "state": {
       "_options_labels": [
        "N (¹n)",
        "NDC (¹n)",
        "P (¹H)",
        "D (²H)",
        "T (³H)",
        "S (³He)",
        "A (⁴He)"
       ],
       "button_style": "",
       "description": "Type:",
       "icons": [],
       "index": 0,
       "layout": "IPY_MODEL_4309eca1d42d41d0a0be80ee3ddcc7cf",
       "style": "IPY_MODEL_012702128d55420bb4f3a67906054542",
       "tooltips": [
        "Neutron",
        "Back Target Neutron",
        "Proton",
        "Deuteron",
        "Triton",
        "Helium-3",
        "Helium-4"
       ]
      }
     },
     "4d4fcad406be4ae3ad2925c4cfe5d079": {
      "model_module": "@jupyter-widgets/base",
      "model_module_version": "1.0.0",
      "model_name": "LayoutModel",
      "state": {}
     },
     "4d5a6bf6a7c64ae28eec32fa0a0c12f3": {
      "model_module": "@jupyter-widgets/controls",
      "model_module_version": "1.1.0",
      "model_name": "CheckboxModel",
      "state": {
       "description": "80°",
       "disabled": false,
       "layout": "IPY_MODEL_7a606f3c1ab14cb9839909e63914dd28",
       "style": "IPY_MODEL_9bc2ba7a19f74af4ae4a126910a7c81b",
       "value": true
      }
     },
     "4dc60796dc4d4b2fb291300a78b5e453": {
      "model_module": "@jupyter-widgets/controls",
      "model_module_version": "1.1.0",
      "model_name": "DescriptionStyleModel",
      "state": {
       "description_width": ""
      }
     },
     "4de496bb8bbb4886a778a02e718a549f": {
      "model_module": "@jupyter-widgets/controls",
      "model_module_version": "1.1.0",
      "model_name": "ToggleButtonsStyleModel",
      "state": {
       "button_width": "",
       "description_width": ""
      }
     },
     "4deedfd0f766471687a33b4eabf2c502": {
      "model_module": "@jupyter-widgets/controls",
      "model_module_version": "1.1.0",
      "model_name": "CheckboxModel",
      "state": {
       "description": "60°",
       "disabled": false,
       "layout": "IPY_MODEL_e13fe1343d144c94a41936009565334f",
       "style": "IPY_MODEL_f1f935c3adf24e1bb45e6f19d25d81c5",
       "value": true
      }
     },
     "4df1a3837fc04729974df5c9012b3dde": {
      "model_module": "@jupyter-widgets/controls",
      "model_module_version": "1.1.0",
      "model_name": "DescriptionStyleModel",
      "state": {
       "description_width": ""
      }
     },
     "4e0a5c89d71144109d42b533d4f7926c": {
      "model_module": "@jupyter-widgets/controls",
      "model_module_version": "1.1.0",
      "model_name": "LabelModel",
      "state": {
       "layout": "IPY_MODEL_75647d063fd343279bf2691272c87b29",
       "style": "IPY_MODEL_9615104881154fcfa004fddcec99c116",
       "value": "Select which secondary particle to plot spectra for."
      }
     },
     "4e11908df70c4c1baa0a0a0701c3b483": {
      "model_module": "@jupyter-widgets/controls",
      "model_module_version": "1.1.0",
      "model_name": "CheckboxModel",
      "state": {
       "description": "135°",
       "disabled": false,
       "layout": "IPY_MODEL_648e2abce8bd44749de5e0704c4e0f8c",
       "style": "IPY_MODEL_8560a6f02b604d1bb2516e19618938a6",
       "value": false
      }
     },
     "4e2a53e9f2794258a9dc672297ae031b": {
      "model_module": "@jupyter-widgets/base",
      "model_module_version": "1.0.0",
      "model_name": "LayoutModel",
      "state": {}
     },
     "4e692a9a30684f1e9cf9f9eab12388e7": {
      "model_module": "@jupyter-widgets/controls",
      "model_module_version": "1.1.0",
      "model_name": "DescriptionStyleModel",
      "state": {
       "description_width": ""
      }
     },
     "4e95b30bf0064f74a6df13c94478640f": {
      "model_module": "@jupyter-widgets/controls",
      "model_module_version": "1.1.0",
      "model_name": "LabelModel",
      "state": {
       "layout": "IPY_MODEL_48d3fdf0172048b78092b2e4fba35cc1",
       "style": "IPY_MODEL_7459268c60e14cee93a95a83bb9c62cd",
       "value": "Select the detector angles to plot."
      }
     },
     "4ea59979a0084e069d4cfe7c617b86d8": {
      "model_module": "@jupyter-widgets/controls",
      "model_module_version": "1.1.0",
      "model_name": "DescriptionStyleModel",
      "state": {
       "description_width": ""
      }
     },
     "4ed288858c314b359ad89bbd11086fa4": {
      "model_module": "@jupyter-widgets/controls",
      "model_module_version": "1.1.0",
      "model_name": "LabelModel",
      "state": {
       "layout": "IPY_MODEL_25f899f8d0f04abf8212ea7933f21da4",
       "style": "IPY_MODEL_0fd4e4d9a1e24438beae0580eb21cd0a",
       "value": "Select which secondary particle to plot spectra for."
      }
     },
     "4ef0084a078247899fe9c9e4946364ae": {
      "model_module": "@jupyter-widgets/base",
      "model_module_version": "1.0.0",
      "model_name": "LayoutModel",
      "state": {}
     },
     "4ef169f780f5492d945394689c66c0f3": {
      "model_module": "@jupyter-widgets/controls",
      "model_module_version": "1.1.0",
      "model_name": "ToggleButtonsStyleModel",
      "state": {
       "button_width": "",
       "description_width": ""
      }
     },
     "4ef62c84f3b949ca9cc3d00b7cabcba9": {
      "model_module": "@jupyter-widgets/controls",
      "model_module_version": "1.1.0",
      "model_name": "CheckboxModel",
      "state": {
       "description": "30°",
       "disabled": false,
       "layout": "IPY_MODEL_1e89315c30e2428fa595d6b42ebd4592",
       "style": "IPY_MODEL_1b3dff2e885b48e789134f537ebc787a",
       "value": true
      }
     },
     "4f3f9f56808c4b14a26239ba5483cb60": {
      "model_module": "@jupyter-widgets/controls",
      "model_module_version": "1.1.0",
      "model_name": "ToggleButtonsModel",
      "state": {
       "_options_labels": [
        "400 MeV/n",
        "800 MeV/n",
        "1500 MeV/n"
       ],
       "button_style": "",
       "description": "Energy:",
       "icons": [],
       "index": 0,
       "layout": "IPY_MODEL_c427e3c1ea6549109d108f8a2ff7ce3d",
       "style": "IPY_MODEL_865a726d61fa47a29ff1bf6ab3cbb3c4",
       "tooltips": [
        "lowest energy",
        "middle energy",
        "highest energy"
       ]
      }
     },
     "4f5a6e8389cc492184cdfa2a1335dec7": {
      "model_module": "@jupyter-widgets/base",
      "model_module_version": "1.0.0",
      "model_name": "LayoutModel",
      "state": {}
     },
     "4fa6bd4d322749fe891b1e8b7edd436a": {
      "model_module": "@jupyter-widgets/controls",
      "model_module_version": "1.1.0",
      "model_name": "DescriptionStyleModel",
      "state": {
       "description_width": ""
      }
     },
     "4ff00da7b2f240d1a374a3fc4e320df3": {
      "model_module": "@jupyter-widgets/base",
      "model_module_version": "1.0.0",
      "model_name": "LayoutModel",
      "state": {}
     },
     "4ff53ed86afa4374ab630e0d485944b5": {
      "model_module": "@jupyter-widgets/controls",
      "model_module_version": "1.1.0",
      "model_name": "CheckboxModel",
      "state": {
       "description": "45°",
       "disabled": false,
       "layout": "IPY_MODEL_b65c01657bd649c8b8b1c5021cec090e",
       "style": "IPY_MODEL_fe1d1e90130247ac8121c825e79cb174",
       "value": true
      }
     },
     "501c96fa4327478bb850662111108f9e": {
      "model_module": "@jupyter-widgets/controls",
      "model_module_version": "1.1.0",
      "model_name": "CheckboxModel",
      "state": {
       "description": "60°",
       "disabled": false,
       "layout": "IPY_MODEL_7f6a97e5fbe24a3c9cbbb57009b519b5",
       "style": "IPY_MODEL_53b203c5bcf74a0689b75dca70294cd6",
       "value": false
      }
     },
     "502f0671d23f460a8945d09d5b4bd79c": {
      "model_module": "@jupyter-widgets/controls",
      "model_module_version": "1.1.0",
      "model_name": "DescriptionStyleModel",
      "state": {
       "description_width": ""
      }
     },
     "5032c0a28bb84678ba8f7c98434b2fb8": {
      "model_module": "@jupyter-widgets/controls",
      "model_module_version": "1.1.0",
      "model_name": "DescriptionStyleModel",
      "state": {
       "description_width": ""
      }
     },
     "5055ec73c4224306ade810760718b4c2": {
      "model_module": "@jupyter-widgets/controls",
      "model_module_version": "1.1.0",
      "model_name": "ToggleButtonsModel",
      "state": {
       "_options_labels": [
        "N (¹n)",
        "NDC (¹n)",
        "P (¹H)",
        "D (²H)",
        "T (³H)",
        "S (³He)",
        "A (⁴He)"
       ],
       "button_style": "",
       "description": "Type:",
       "icons": [],
       "index": 0,
       "layout": "IPY_MODEL_bdf78436e9c142c9a60aa393d33ca884",
       "style": "IPY_MODEL_12cf0e3f5beb4e5db305b20b8628fea2",
       "tooltips": [
        "Neutron",
        "Back Target Neutron",
        "Proton",
        "Deuteron",
        "Triton",
        "Helium-3",
        "Helium-4"
       ]
      }
     },
     "505d38a767e546989370b7597d6730a5": {
      "model_module": "@jupyter-widgets/controls",
      "model_module_version": "1.1.0",
      "model_name": "CheckboxModel",
      "state": {
       "description": "60°",
       "disabled": false,
       "layout": "IPY_MODEL_48dd3491bb6543ef97f3184f4dd04dc1",
       "style": "IPY_MODEL_095b4ce3a3364cbaa4c0dbd459814f9a",
       "value": true
      }
     },
     "50bb39ba82dd4e0f928548cbc1e56055": {
      "model_module": "@jupyter-widgets/controls",
      "model_module_version": "1.1.0",
      "model_name": "DescriptionStyleModel",
      "state": {
       "description_width": ""
      }
     },
     "5101c32fba2647e7b23b2c007b6a958d": {
      "model_module": "@jupyter-widgets/base",
      "model_module_version": "1.0.0",
      "model_name": "LayoutModel",
      "state": {}
     },
     "518cb1c97022473f8651c05ae7db2953": {
      "model_module": "@jupyter-widgets/controls",
      "model_module_version": "1.1.0",
      "model_name": "CheckboxModel",
      "state": {
       "description": "30°",
       "disabled": false,
       "layout": "IPY_MODEL_820dfd5d872b4d25b9c5ff1f806a7c09",
       "style": "IPY_MODEL_69ec8e82f79545b8b4db029164b7f4b6",
       "value": true
      }
     },
     "522fa2925391448985ebc11eba9e8583": {
      "model_module": "@jupyter-widgets/controls",
      "model_module_version": "1.1.0",
      "model_name": "CheckboxModel",
      "state": {
       "description": "60°",
       "disabled": false,
       "layout": "IPY_MODEL_4c2d056166914a319f1aa0a32c67856d",
       "style": "IPY_MODEL_3409f20a2b44478ca3f017d84b25150d",
       "value": true
      }
     },
     "525f48a576274f9ba23dc59a0dfa4897": {
      "model_module": "@jupyter-widgets/controls",
      "model_module_version": "1.1.0",
      "model_name": "CheckboxModel",
      "state": {
       "description": "60°",
       "disabled": false,
       "layout": "IPY_MODEL_3c8c6a6665a64aec97d8773312827237",
       "style": "IPY_MODEL_c341e551dd3f44e6b6220a52550cbe89",
       "value": true
      }
     },
     "52a96ac245a449098464e256ec1c8a46": {
      "model_module": "@jupyter-widgets/controls",
      "model_module_version": "1.1.0",
      "model_name": "CheckboxModel",
      "state": {
       "description": "10°",
       "disabled": false,
       "layout": "IPY_MODEL_6d7e8177703e4fc78b5724bb7c5f39e9",
       "style": "IPY_MODEL_c62d708d273e40c981235311559699b9",
       "value": true
      }
     },
     "52c16dd828a84e3c93385fd475420794": {
      "model_module": "@jupyter-widgets/base",
      "model_module_version": "1.0.0",
      "model_name": "LayoutModel",
      "state": {}
     },
     "52f2a682870d495c8df9b66819365ea9": {
      "model_module": "@jupyter-widgets/controls",
      "model_module_version": "1.1.0",
      "model_name": "CheckboxModel",
      "state": {
       "description": "80°",
       "disabled": false,
       "layout": "IPY_MODEL_71058c791b4b4cf791c34492ca167eab",
       "style": "IPY_MODEL_b3f675f793e84eb8af82213e3f6ecee1",
       "value": true
      }
     },
     "52f70f15ffa049e38c6a8b99a6efe1e2": {
      "model_module": "@jupyter-widgets/controls",
      "model_module_version": "1.1.0",
      "model_name": "CheckboxModel",
      "state": {
       "description": "10°",
       "disabled": false,
       "layout": "IPY_MODEL_c3ecc9526c494ff2a70d7aeab2d6a81a",
       "style": "IPY_MODEL_72e45cb336a54312a1aeef5f4c881553",
       "value": true
      }
     },
     "5334baa65f5a442abe5e6394834ac8d0": {
      "model_module": "@jupyter-widgets/controls",
      "model_module_version": "1.1.0",
      "model_name": "DescriptionStyleModel",
      "state": {
       "description_width": ""
      }
     },
     "53519e7ebbf249e681459daa23be4e3f": {
      "model_module": "@jupyter-widgets/base",
      "model_module_version": "1.0.0",
      "model_name": "LayoutModel",
      "state": {}
     },
     "53a07c9c5a044530a6200c5974dc52ca": {
      "model_module": "@jupyter-widgets/controls",
      "model_module_version": "1.1.0",
      "model_name": "ToggleButtonsModel",
      "state": {
       "_options_labels": [
        "N (¹n)",
        "NDC (¹n)",
        "P (¹H)",
        "D (²H)"
       ],
       "button_style": "",
       "description": "Type:",
       "icons": [],
       "index": 0,
       "layout": "IPY_MODEL_229e8079ccf74a729fedb12eca55d771",
       "style": "IPY_MODEL_2061e11c43264be5ac072294cb7e5fa3",
       "tooltips": [
        "Neutron",
        "Back Target Neutron",
        "Proton",
        "Deuteron"
       ]
      }
     },
     "53b203c5bcf74a0689b75dca70294cd6": {
      "model_module": "@jupyter-widgets/controls",
      "model_module_version": "1.1.0",
      "model_name": "DescriptionStyleModel",
      "state": {
       "description_width": ""
      }
     },
     "53f0713094b941d09069608eb0b7e26c": {
      "model_module": "@jupyter-widgets/base",
      "model_module_version": "1.0.0",
      "model_name": "LayoutModel",
      "state": {}
     },
     "54056f40661c4f7b81a0a27fb1dd94fd": {
      "model_module": "@jupyter-widgets/base",
      "model_module_version": "1.0.0",
      "model_name": "LayoutModel",
      "state": {}
     },
     "54255a5971c24871ac446ec831e675d5": {
      "model_module": "@jupyter-widgets/controls",
      "model_module_version": "1.1.0",
      "model_name": "ToggleButtonsModel",
      "state": {
       "_options_labels": [
        "400 MeV/n",
        "800 MeV/n",
        "1500 MeV/n"
       ],
       "button_style": "",
       "description": "Energy:",
       "icons": [],
       "index": 1,
       "layout": "IPY_MODEL_0d751cb4f6e548f4b8ce129fb2a1948f",
       "style": "IPY_MODEL_04d1efb4970542e8a1080845ae9e2928",
       "tooltips": [
        "lowest energy",
        "middle energy",
        "highest energy"
       ]
      }
     },
     "545ebc91c17c4aa6959b057a16b3ac92": {
      "model_module": "@jupyter-widgets/base",
      "model_module_version": "1.0.0",
      "model_name": "LayoutModel",
      "state": {}
     },
     "54de40efe30348c3a3f03c32f9a0bf20": {
      "model_module": "@jupyter-widgets/controls",
      "model_module_version": "1.1.0",
      "model_name": "CheckboxModel",
      "state": {
       "description": "135°",
       "disabled": false,
       "layout": "IPY_MODEL_eae064cb481f4388b3ecadccabebcbfd",
       "style": "IPY_MODEL_968d972512a14609a9d52d3d9e1341ca",
       "value": true
      }
     },
     "550a8b4a444a4dc8979aaff27f9aea77": {
      "model_module": "@jupyter-widgets/base",
      "model_module_version": "1.0.0",
      "model_name": "LayoutModel",
      "state": {}
     },
     "55114e30eaef4a0baf0b2c8825f04423": {
      "model_module": "@jupyter-widgets/base",
      "model_module_version": "1.0.0",
      "model_name": "LayoutModel",
      "state": {}
     },
     "551f1768743d48d6b4d9eabce3889290": {
      "model_module": "@jupyter-widgets/base",
      "model_module_version": "1.0.0",
      "model_name": "LayoutModel",
      "state": {}
     },
     "5551224bca5049e7be23f28c01e1dd3b": {
      "model_module": "@jupyter-widgets/controls",
      "model_module_version": "1.1.0",
      "model_name": "DescriptionStyleModel",
      "state": {
       "description_width": ""
      }
     },
     "55619c5dea094e449247ceb4ea2afc58": {
      "model_module": "@jupyter-widgets/base",
      "model_module_version": "1.0.0",
      "model_name": "LayoutModel",
      "state": {}
     },
     "558f3cbb74f44270a0a0ffb1405db605": {
      "model_module": "@jupyter-widgets/controls",
      "model_module_version": "1.1.0",
      "model_name": "LabelModel",
      "state": {
       "layout": "IPY_MODEL_4d4fcad406be4ae3ad2925c4cfe5d079",
       "style": "IPY_MODEL_237ce633442a44248c4af8d83c850476",
       "value": "Select projectile ion energy."
      }
     },
     "55ad60edc3cc48cf803fdd35c03e02a8": {
      "model_module": "@jupyter-widgets/controls",
      "model_module_version": "1.1.0",
      "model_name": "DescriptionStyleModel",
      "state": {
       "description_width": ""
      }
     },
     "55e1e3be375a42268d92b16cccceeff0": {
      "model_module": "@jupyter-widgets/controls",
      "model_module_version": "1.1.0",
      "model_name": "DescriptionStyleModel",
      "state": {
       "description_width": ""
      }
     },
     "55ee168d048141bda5ad42eb6648dab2": {
      "model_module": "@jupyter-widgets/base",
      "model_module_version": "1.0.0",
      "model_name": "LayoutModel",
      "state": {}
     },
     "56109a4f301b4e7eaf085b954adad9c5": {
      "model_module": "@jupyter-widgets/controls",
      "model_module_version": "1.1.0",
      "model_name": "DescriptionStyleModel",
      "state": {
       "description_width": ""
      }
     },
     "562a8ee6c510478180bbe9768376706b": {
      "model_module": "@jupyter-widgets/controls",
      "model_module_version": "1.1.0",
      "model_name": "DescriptionStyleModel",
      "state": {
       "description_width": ""
      }
     },
     "5683570204824c2babd1bd671d01df2d": {
      "model_module": "@jupyter-widgets/base",
      "model_module_version": "1.0.0",
      "model_name": "LayoutModel",
      "state": {}
     },
     "5694c32fad5348a7814ee2f1077654e8": {
      "model_module": "@jupyter-widgets/controls",
      "model_module_version": "1.1.0",
      "model_name": "CheckboxModel",
      "state": {
       "description": "30°",
       "disabled": false,
       "layout": "IPY_MODEL_e705eb676ca84ed7bac6301486cf3fec",
       "style": "IPY_MODEL_0d5b2c31b6ba45a5b485646040acbc1c",
       "value": true
      }
     },
     "56b2779a2a6e424f8432ddcecd18d2b3": {
      "model_module": "@jupyter-widgets/controls",
      "model_module_version": "1.1.0",
      "model_name": "CheckboxModel",
      "state": {
       "description": "10°",
       "disabled": false,
       "layout": "IPY_MODEL_7fee16546f4e4ce698bb3676bbfe16a6",
       "style": "IPY_MODEL_458d0ff4e9c24a4fb84bc59a942eb7be",
       "value": true
      }
     },
     "56cdac3fdd604828adeb8bd2ce656bff": {
      "model_module": "@jupyter-widgets/controls",
      "model_module_version": "1.1.0",
      "model_name": "CheckboxModel",
      "state": {
       "description": "10°",
       "disabled": false,
       "layout": "IPY_MODEL_e4da8aed076e41fabc020df45f79166e",
       "style": "IPY_MODEL_1757cdb3a11c42869812c07a7a3a6d56",
       "value": true
      }
     },
     "56eef3271bf545989ce729f658001984": {
      "model_module": "@jupyter-widgets/base",
      "model_module_version": "1.0.0",
      "model_name": "LayoutModel",
      "state": {}
     },
     "57323ccaaacc4124a9d793bad87745c4": {
      "model_module": "@jupyter-widgets/controls",
      "model_module_version": "1.1.0",
      "model_name": "CheckboxModel",
      "state": {
       "description": "30°",
       "disabled": false,
       "layout": "IPY_MODEL_ba7e0728ba3d417ca8231f82f6648646",
       "style": "IPY_MODEL_1e5116bf86be4f1882bf20fcf6a6c465",
       "value": true
      }
     },
     "57d7e399c05046a98adea902f1be7d58": {
      "model_module": "@jupyter-widgets/controls",
      "model_module_version": "1.1.0",
      "model_name": "LabelModel",
      "state": {
       "layout": "IPY_MODEL_b9fe73a9d00447f5a6611838aa68771a",
       "style": "IPY_MODEL_f4861ab2161a41a481d4efd27777288f",
       "value": "Select the detector angles to plot."
      }
     },
     "58077b879af64e7dbc37ed3f0b737f2b": {
      "model_module": "@jupyter-widgets/base",
      "model_module_version": "1.0.0",
      "model_name": "LayoutModel",
      "state": {}
     },
     "5811319f0fa94ee481a92fc5fe368815": {
      "model_module": "@jupyter-widgets/controls",
      "model_module_version": "1.1.0",
      "model_name": "DescriptionStyleModel",
      "state": {
       "description_width": ""
      }
     },
     "582bd3b8586f48da886d7a868cac290f": {
      "model_module": "@jupyter-widgets/controls",
      "model_module_version": "1.1.0",
      "model_name": "CheckboxModel",
      "state": {
       "description": "10°",
       "disabled": false,
       "layout": "IPY_MODEL_b6a6026f9a484957a255fc96600c9c14",
       "style": "IPY_MODEL_5d79d6a3b83a4115bb61fac8d665d5cb",
       "value": true
      }
     },
     "582ecf8a072f42a7b3c5823cfde9d18c": {
      "model_module": "@jupyter-widgets/controls",
      "model_module_version": "1.1.0",
      "model_name": "CheckboxModel",
      "state": {
       "description": "30°",
       "disabled": false,
       "layout": "IPY_MODEL_e7c7ff147f5e4b0f9de2d24756f931c5",
       "style": "IPY_MODEL_42ac3994113648e7b1511b9da9417c54",
       "value": true
      }
     },
     "583bbba8ce624dd496a72160cfce3e3c": {
      "model_module": "@jupyter-widgets/controls",
      "model_module_version": "1.1.0",
      "model_name": "CheckboxModel",
      "state": {
       "description": "80°",
       "disabled": false,
       "layout": "IPY_MODEL_94458a1ede7b40a59b7adde0d00b199b",
       "style": "IPY_MODEL_87e57776ce1f4fd38470996dfe8cf8a5",
       "value": true
      }
     },
     "5879180fc1bd49a09297167b29351d56": {
      "model_module": "@jupyter-widgets/controls",
      "model_module_version": "1.1.0",
      "model_name": "ButtonModel",
      "state": {
       "button_style": "success",
       "description": "Update plot",
       "icon": "paint-brush",
       "layout": "IPY_MODEL_82f4562ddb4f464a84af5973022cc115",
       "style": "IPY_MODEL_7e8f437c1a4f4cb2a43386174f683062",
       "tooltip": "Click to redraw the plot below with updated options from above."
      }
     },
     "58d1a5ed88374eb2bc1af82624b9c785": {
      "model_module": "@jupyter-widgets/controls",
      "model_module_version": "1.1.0",
      "model_name": "ButtonStyleModel",
      "state": {}
     },
     "590c75c872914897a0b6cde58cca7b15": {
      "model_module": "@jupyter-widgets/base",
      "model_module_version": "1.0.0",
      "model_name": "LayoutModel",
      "state": {}
     },
     "5929c186d9eb48c99b0e76d2f047ecee": {
      "model_module": "@jupyter-widgets/base",
      "model_module_version": "1.0.0",
      "model_name": "LayoutModel",
      "state": {}
     },
     "592d2c0aa7504792bede385126d23000": {
      "model_module": "@jupyter-widgets/controls",
      "model_module_version": "1.1.0",
      "model_name": "DescriptionStyleModel",
      "state": {
       "description_width": ""
      }
     },
     "594d7f47aa2f4f3590683c7b2106522b": {
      "model_module": "@jupyter-widgets/controls",
      "model_module_version": "1.1.0",
      "model_name": "DescriptionStyleModel",
      "state": {
       "description_width": ""
      }
     },
     "599ca6b319364d34b100c6e2dbf5108f": {
      "model_module": "@jupyter-widgets/controls",
      "model_module_version": "1.1.0",
      "model_name": "LabelModel",
      "state": {
       "layout": "IPY_MODEL_a6f9e3ee75754eecb9e07499d61a606d",
       "style": "IPY_MODEL_0c3297f4aa9948278ef3e5ba45d189d8",
       "value": "Select which sets of data to display."
      }
     },
     "59cfb89d37c64c54a570ec8a8383a52e": {
      "model_module": "@jupyter-widgets/controls",
      "model_module_version": "1.1.0",
      "model_name": "CheckboxModel",
      "state": {
       "description": "10°",
       "disabled": false,
       "layout": "IPY_MODEL_9e76e71b2ce946968f7ea2d6d5db2441",
       "style": "IPY_MODEL_9ff423d239b843e9837184497a85d68c",
       "value": true
      }
     },
     "5a127a21a9244a47962c8a41005dc6b8": {
      "model_module": "@jupyter-widgets/base",
      "model_module_version": "1.0.0",
      "model_name": "LayoutModel",
      "state": {}
     },
     "5a8e1e58eef240009f3eaae78d7272fc": {
      "model_module": "@jupyter-widgets/controls",
      "model_module_version": "1.1.0",
      "model_name": "DescriptionStyleModel",
      "state": {
       "description_width": ""
      }
     },
     "5aa7313937f347f2a4f94727e15b94c1": {
      "model_module": "@jupyter-widgets/controls",
      "model_module_version": "1.1.0",
      "model_name": "CheckboxModel",
      "state": {
       "description": "60°",
       "disabled": false,
       "layout": "IPY_MODEL_14747b7132f64713b014ca83848cb75d",
       "style": "IPY_MODEL_325e49be119544de8398173a30e3339c",
       "value": true
      }
     },
     "5ad7cb92db9f426599a612e6cdbeb1ae": {
      "model_module": "@jupyter-widgets/base",
      "model_module_version": "1.0.0",
      "model_name": "LayoutModel",
      "state": {}
     },
     "5b022fe216604a93ac7675403a1dfe4f": {
      "model_module": "@jupyter-widgets/controls",
      "model_module_version": "1.1.0",
      "model_name": "DescriptionStyleModel",
      "state": {
       "description_width": ""
      }
     },
     "5b07f342793d451f93155c3dd066662f": {
      "model_module": "@jupyter-widgets/controls",
      "model_module_version": "1.1.0",
      "model_name": "ToggleButtonsStyleModel",
      "state": {
       "button_width": "",
       "description_width": ""
      }
     },
     "5b0e90bad91540f7964f171a4fb45504": {
      "model_module": "@jupyter-widgets/controls",
      "model_module_version": "1.1.0",
      "model_name": "LabelModel",
      "state": {
       "layout": "IPY_MODEL_23acda008ed343d999adf0515f15bae6",
       "style": "IPY_MODEL_8872a1a9dadf4cab9a7f77f2ceab455d",
       "value": "Select which secondary particle to plot spectra for."
      }
     },
     "5b750e632456459db070733b106ef94d": {
      "model_module": "@jupyter-widgets/controls",
      "model_module_version": "1.1.0",
      "model_name": "CheckboxModel",
      "state": {
       "description": "45°",
       "disabled": false,
       "layout": "IPY_MODEL_2c7ef81276354c359d1e6d8d4d7f776f",
       "style": "IPY_MODEL_b42f68c91453466f98cc3c71ddde5df8",
       "value": true
      }
     },
     "5be950c9798a433eac7c50d421058a45": {
      "model_module": "@jupyter-widgets/controls",
      "model_module_version": "1.1.0",
      "model_name": "DescriptionStyleModel",
      "state": {
       "description_width": ""
      }
     },
     "5bea036262aa45f88bd611b6d17bbf2c": {
      "model_module": "@jupyter-widgets/controls",
      "model_module_version": "1.1.0",
      "model_name": "CheckboxModel",
      "state": {
       "description": "45°",
       "disabled": false,
       "layout": "IPY_MODEL_3362abff56024a28bb3f806b1c8512b0",
       "style": "IPY_MODEL_1aa273c7bdca4da191835a445d606065",
       "value": true
      }
     },
     "5c1891fc0f3e494bb2daac66c62f0605": {
      "model_module": "@jupyter-widgets/controls",
      "model_module_version": "1.1.0",
      "model_name": "DescriptionStyleModel",
      "state": {
       "description_width": ""
      }
     },
     "5c709c28e7b1473a829030631e766267": {
      "model_module": "@jupyter-widgets/controls",
      "model_module_version": "1.1.0",
      "model_name": "LabelModel",
      "state": {
       "layout": "IPY_MODEL_0904d5c615004520b4addc0afd8f11c6",
       "style": "IPY_MODEL_85a02b30514244aaaf4f8a6d2a2c855b",
       "value": "Select projectile ion energy."
      }
     },
     "5c8ae25629bb45bfa1828369ead77402": {
      "model_module": "@jupyter-widgets/base",
      "model_module_version": "1.0.0",
      "model_name": "LayoutModel",
      "state": {}
     },
     "5cd1a0fc8f2b419cba318f2759e84300": {
      "model_module": "@jupyter-widgets/controls",
      "model_module_version": "1.1.0",
      "model_name": "CheckboxModel",
      "state": {
       "description": "45°",
       "disabled": false,
       "layout": "IPY_MODEL_aca553dec049411a9613a1df049c60f2",
       "style": "IPY_MODEL_1611a7e4b1b04daa83ba9fbdf40a6b48",
       "value": true
      }
     },
     "5d0203b4421942389bb57b1c40fb9970": {
      "model_module": "@jupyter-widgets/controls",
      "model_module_version": "1.1.0",
      "model_name": "DescriptionStyleModel",
      "state": {
       "description_width": ""
      }
     },
     "5d11473ee0a449d0b93f46057bb10c7e": {
      "model_module": "@jupyter-widgets/base",
      "model_module_version": "1.0.0",
      "model_name": "LayoutModel",
      "state": {}
     },
     "5d2d2ef1e6f84956a3c03ae6b9da9860": {
      "model_module": "@jupyter-widgets/base",
      "model_module_version": "1.0.0",
      "model_name": "LayoutModel",
      "state": {}
     },
     "5d45e9bedef14a86a1f78bb791530cec": {
      "model_module": "@jupyter-widgets/base",
      "model_module_version": "1.0.0",
      "model_name": "LayoutModel",
      "state": {}
     },
     "5d6f9298364a4b61a3f6781fd3f90728": {
      "model_module": "@jupyter-widgets/controls",
      "model_module_version": "1.1.0",
      "model_name": "CheckboxModel",
      "state": {
       "description": "10°",
       "disabled": false,
       "layout": "IPY_MODEL_945fd25c30d0494197276661c03dc671",
       "style": "IPY_MODEL_06911039ed2b4f93bbec1f3465e4792f",
       "value": true
      }
     },
     "5d79d6a3b83a4115bb61fac8d665d5cb": {
      "model_module": "@jupyter-widgets/controls",
      "model_module_version": "1.1.0",
      "model_name": "DescriptionStyleModel",
      "state": {
       "description_width": ""
      }
     },
     "5d9f1e4f52be41468c9737671db6eeb7": {
      "model_module": "@jupyter-widgets/controls",
      "model_module_version": "1.1.0",
      "model_name": "DescriptionStyleModel",
      "state": {
       "description_width": ""
      }
     },
     "5db4f40a4ff340c792d454c100ac3ca1": {
      "model_module": "@jupyter-widgets/base",
      "model_module_version": "1.0.0",
      "model_name": "LayoutModel",
      "state": {}
     },
     "5dba777f3ad5495984d9747a4e2eb10a": {
      "model_module": "@jupyter-widgets/controls",
      "model_module_version": "1.1.0",
      "model_name": "CheckboxModel",
      "state": {
       "description": "30°",
       "disabled": false,
       "layout": "IPY_MODEL_66c336724b0c43bba23e9be0854b7b87",
       "style": "IPY_MODEL_11e5620c07cc43d8a2786e3639005438",
       "value": false
      }
     },
     "5e226b0f37f9402c8351fac92816df33": {
      "model_module": "@jupyter-widgets/controls",
      "model_module_version": "1.1.0",
      "model_name": "CheckboxModel",
      "state": {
       "description": "10°",
       "disabled": false,
       "layout": "IPY_MODEL_a1508f29519446cb89354baa0c079653",
       "style": "IPY_MODEL_f7321fc4b17d4e829257afd40af2d5c2",
       "value": true
      }
     },
     "5e3355da7b9848ccac220d67e4854e00": {
      "model_module": "@jupyter-widgets/base",
      "model_module_version": "1.0.0",
      "model_name": "LayoutModel",
      "state": {}
     },
     "5e7db865bbac4ad993bb71f9c9d3c32c": {
      "model_module": "@jupyter-widgets/controls",
      "model_module_version": "1.1.0",
      "model_name": "CheckboxModel",
      "state": {
       "description": "80°",
       "disabled": false,
       "layout": "IPY_MODEL_14a99f6b164c4d9299d9760d104c3d74",
       "style": "IPY_MODEL_74afdf280b99481c91ec8638fcafbb6c",
       "value": true
      }
     },
     "5eae71481201469a9f41f176634ff53e": {
      "model_module": "@jupyter-widgets/controls",
      "model_module_version": "1.1.0",
      "model_name": "DescriptionStyleModel",
      "state": {
       "description_width": ""
      }
     },
     "5f33917099b84db99530cfe19a797a09": {
      "model_module": "@jupyter-widgets/base",
      "model_module_version": "1.0.0",
      "model_name": "LayoutModel",
      "state": {}
     },
     "5f3628b512394296a21837d4baf0cae3": {
      "model_module": "@jupyter-widgets/controls",
      "model_module_version": "1.1.0",
      "model_name": "ToggleButtonsStyleModel",
      "state": {
       "button_width": "",
       "description_width": ""
      }
     },
     "5f37362934e14109951258ad79a49283": {
      "model_module": "@jupyter-widgets/controls",
      "model_module_version": "1.1.0",
      "model_name": "LabelModel",
      "state": {
       "layout": "IPY_MODEL_3ed8a03b12234f1f96c21be5fc89dbbf",
       "style": "IPY_MODEL_5a8e1e58eef240009f3eaae78d7272fc",
       "value": "Select the detector angles to plot."
      }
     },
     "5f3b3e9281414288a0c60d8369ef055b": {
      "model_module": "@jupyter-widgets/controls",
      "model_module_version": "1.1.0",
      "model_name": "CheckboxModel",
      "state": {
       "description": "10°",
       "disabled": false,
       "layout": "IPY_MODEL_c056e640edce4c269d8bbf0f54262eae",
       "style": "IPY_MODEL_434eda9a3fdd4adc9d47d36d17c44992",
       "value": true
      }
     },
     "5f6d3b5ab3f94a0d9af8dd6912b4767b": {
      "model_module": "@jupyter-widgets/base",
      "model_module_version": "1.0.0",
      "model_name": "LayoutModel",
      "state": {}
     },
     "5f80d1cf22234e7594f18187386c28aa": {
      "model_module": "@jupyter-widgets/base",
      "model_module_version": "1.0.0",
      "model_name": "LayoutModel",
      "state": {}
     },
     "5f81c44e3d4f4848891cd99623046fe3": {
      "model_module": "@jupyter-widgets/controls",
      "model_module_version": "1.1.0",
      "model_name": "DescriptionStyleModel",
      "state": {
       "description_width": ""
      }
     },
     "5fc3f122bf5a4e9f81f5da4f559639cc": {
      "model_module": "@jupyter-widgets/base",
      "model_module_version": "1.0.0",
      "model_name": "LayoutModel",
      "state": {}
     },
     "5ffcfd3693164356858a0cf7f7f49abf": {
      "model_module": "@jupyter-widgets/controls",
      "model_module_version": "1.1.0",
      "model_name": "ToggleButtonsModel",
      "state": {
       "_options_labels": [
        "400 MeV",
        "800 MeV",
        "2500 MeV"
       ],
       "button_style": "",
       "description": "Energy:",
       "icons": [],
       "index": 0,
       "layout": "IPY_MODEL_4983d2055aa540b09bf1671d230359fd",
       "style": "IPY_MODEL_4de496bb8bbb4886a778a02e718a549f",
       "tooltips": [
        "lowest energy",
        "middle energy",
        "highest energy"
       ]
      }
     },
     "6019f206380e40869a36e7ed7440ff63": {
      "model_module": "@jupyter-widgets/controls",
      "model_module_version": "1.1.0",
      "model_name": "CheckboxModel",
      "state": {
       "description": "30°",
       "disabled": false,
       "layout": "IPY_MODEL_fe14d7b10f2e4a5c8d43b25464f2f8af",
       "style": "IPY_MODEL_c5319387ee0f448b983f45fd842808da",
       "value": true
      }
     },
     "6043f70a44fd4a4ab3da05f2351f5d16": {
      "model_module": "@jupyter-widgets/base",
      "model_module_version": "1.0.0",
      "model_name": "LayoutModel",
      "state": {}
     },
     "604b16220d6048ea886bfe88261bdf85": {
      "model_module": "@jupyter-widgets/controls",
      "model_module_version": "1.1.0",
      "model_name": "DescriptionStyleModel",
      "state": {
       "description_width": ""
      }
     },
     "605082e0f753458887d4cb323c5f3cab": {
      "model_module": "@jupyter-widgets/base",
      "model_module_version": "1.0.0",
      "model_name": "LayoutModel",
      "state": {}
     },
     "60640bc143d7461fa221ade3e9a1babf": {
      "model_module": "@jupyter-widgets/base",
      "model_module_version": "1.0.0",
      "model_name": "LayoutModel",
      "state": {}
     },
     "6084ee82670b45f2b72a203c656729a7": {
      "model_module": "@jupyter-widgets/controls",
      "model_module_version": "1.1.0",
      "model_name": "CheckboxModel",
      "state": {
       "description": "45°",
       "disabled": false,
       "layout": "IPY_MODEL_1a69e3aee3e14b7db2c3eaef0f27ff8c",
       "style": "IPY_MODEL_a0fb516231fc4c46bebbabd867d9dd0e",
       "value": true
      }
     },
     "60c6db45211e4b37a236fe435da7fd4a": {
      "model_module": "@jupyter-widgets/controls",
      "model_module_version": "1.1.0",
      "model_name": "CheckboxModel",
      "state": {
       "description": "60°",
       "disabled": false,
       "layout": "IPY_MODEL_cc72e4f4aa744945b46d2989b2c8382b",
       "style": "IPY_MODEL_d8e79c82101d4d939d3b239c270edb50",
       "value": true
      }
     },
     "60da9f76f87747409e60a24d11f5064e": {
      "model_module": "@jupyter-widgets/controls",
      "model_module_version": "1.1.0",
      "model_name": "CheckboxModel",
      "state": {
       "description": "30°",
       "disabled": false,
       "layout": "IPY_MODEL_f8d1defbf04d4c329688c00ad9b82081",
       "style": "IPY_MODEL_bb0ee65ce4894fc79a7cad5d70b7b308",
       "value": true
      }
     },
     "60e28aaf83044e78b416a7e4140081f9": {
      "model_module": "@jupyter-widgets/controls",
      "model_module_version": "1.1.0",
      "model_name": "ToggleButtonsModel",
      "state": {
       "_options_labels": [
        "Al",
        "HDPE",
        "AlPE"
       ],
       "button_style": "",
       "description": "Material:",
       "icons": [],
       "index": 0,
       "layout": "IPY_MODEL_1464d343c35a4ef39cb521de45cc30a7",
       "style": "IPY_MODEL_28c6e8a53b30499788d694073344f160",
       "tooltips": [
        "Aluminum",
        "Polyethylene",
        "Combination of Al and HDPE"
       ]
      }
     },
     "60e581ed69f348ada1f183e02e3a1501": {
      "model_module": "@jupyter-widgets/controls",
      "model_module_version": "1.1.0",
      "model_name": "ToggleButtonsModel",
      "state": {
       "_options_labels": [
        "None",
        "Spaced by 10²"
       ],
       "button_style": "",
       "description": "Spacing:",
       "icons": [],
       "index": 0,
       "layout": "IPY_MODEL_978237f274d2476b8418648f0228b9e7",
       "style": "IPY_MODEL_365cc349dabc4ae5a0219329152a8f57",
       "tooltips": [
        "All values are presented as is.",
        "Plots for different detectors are multiplied by powers of 10² for easier viewing."
       ]
      }
     },
     "611f22c67c284b8a81ffc118bc58ad4b": {
      "model_module": "@jupyter-widgets/base",
      "model_module_version": "1.0.0",
      "model_name": "LayoutModel",
      "state": {}
     },
     "61335b6f99b3431594c37c7bacfd72c9": {
      "model_module": "@jupyter-widgets/base",
      "model_module_version": "1.0.0",
      "model_name": "LayoutModel",
      "state": {}
     },
     "61530f17cf0a4a869cc3326b3400bd36": {
      "model_module": "@jupyter-widgets/controls",
      "model_module_version": "1.1.0",
      "model_name": "ToggleButtonsModel",
      "state": {
       "_options_labels": [
        "20 g/cm²",
        "40 g/cm²",
        "60 g/cm²"
       ],
       "button_style": "",
       "description": "Thickness:",
       "icons": [],
       "index": 0,
       "layout": "IPY_MODEL_383081b3ad19498490196aa4c2e92f84",
       "style": "IPY_MODEL_f4e068f26b124e70aee3d4ed6f1a1f11",
       "tooltips": [
        "20 g/cm² Aluminum",
        "40 g/cm² Aluminum",
        "60 g/cm² Aluminum"
       ]
      }
     },
     "61906c76664a41d496cc06fad94da3da": {
      "model_module": "@jupyter-widgets/controls",
      "model_module_version": "1.1.0",
      "model_name": "DescriptionStyleModel",
      "state": {
       "description_width": ""
      }
     },
     "619eb7b1a8ab4a82a15314965e6fe9a2": {
      "model_module": "@jupyter-widgets/base",
      "model_module_version": "1.0.0",
      "model_name": "LayoutModel",
      "state": {}
     },
     "61e3b1d974f54bdb9c326faeee0c314d": {
      "model_module": "@jupyter-widgets/controls",
      "model_module_version": "1.1.0",
      "model_name": "CheckboxModel",
      "state": {
       "description": "30°",
       "disabled": false,
       "layout": "IPY_MODEL_a6c3f474e4fc44af9c36e8c0cf3f1b5a",
       "style": "IPY_MODEL_03a393a5b856453da2dc9e69bb9c625b",
       "value": true
      }
     },
     "62005fa6af354d3abb3d96cdd98641ee": {
      "model_module": "@jupyter-widgets/base",
      "model_module_version": "1.0.0",
      "model_name": "LayoutModel",
      "state": {}
     },
     "622b1dbaabd243b9843ca2f3fffb7666": {
      "model_module": "@jupyter-widgets/controls",
      "model_module_version": "1.1.0",
      "model_name": "DescriptionStyleModel",
      "state": {
       "description_width": ""
      }
     },
     "625f3971a6524e3384d247f8736ed41c": {
      "model_module": "@jupyter-widgets/controls",
      "model_module_version": "1.1.0",
      "model_name": "CheckboxModel",
      "state": {
       "description": "10°",
       "disabled": false,
       "layout": "IPY_MODEL_9ebc4e97c55b459f85d9b769bce74ce0",
       "style": "IPY_MODEL_f3f69e1081784e57b0f53a13152b39c0",
       "value": true
      }
     },
     "626dcd99f79b46e4b93f117fd4b1db37": {
      "model_module": "@jupyter-widgets/controls",
      "model_module_version": "1.1.0",
      "model_name": "CheckboxModel",
      "state": {
       "description": "135°",
       "disabled": false,
       "layout": "IPY_MODEL_251dbee8118e4833a50c38ca3bb755d4",
       "style": "IPY_MODEL_5811319f0fa94ee481a92fc5fe368815",
       "value": true
      }
     },
     "62c0dff630c54a339359f4468590031f": {
      "model_module": "@jupyter-widgets/base",
      "model_module_version": "1.0.0",
      "model_name": "LayoutModel",
      "state": {}
     },
     "6301ab8a9251463b9ae21da49e69bd8c": {
      "model_module": "@jupyter-widgets/controls",
      "model_module_version": "1.1.0",
      "model_name": "DescriptionStyleModel",
      "state": {
       "description_width": ""
      }
     },
     "630a75892166422cb5a31e63e1a6c742": {
      "model_module": "@jupyter-widgets/controls",
      "model_module_version": "1.1.0",
      "model_name": "DescriptionStyleModel",
      "state": {
       "description_width": ""
      }
     },
     "631536be399348008a03b762521caa26": {
      "model_module": "@jupyter-widgets/controls",
      "model_module_version": "1.1.0",
      "model_name": "LabelModel",
      "state": {
       "layout": "IPY_MODEL_0c132da78fcf4a549f39d30e06c640a9",
       "style": "IPY_MODEL_dcc580c163444356988ae2cd34110f94",
       "value": "Select the detector angles to plot."
      }
     },
     "634950df2f1743129effab1a202ebd6c": {
      "model_module": "@jupyter-widgets/controls",
      "model_module_version": "1.1.0",
      "model_name": "DescriptionStyleModel",
      "state": {
       "description_width": ""
      }
     },
     "638b9a043e1e4701abfe86496606c417": {
      "model_module": "@jupyter-widgets/base",
      "model_module_version": "1.0.0",
      "model_name": "LayoutModel",
      "state": {}
     },
     "63b8575a0be8460e9235b4700552459c": {
      "model_module": "@jupyter-widgets/controls",
      "model_module_version": "1.1.0",
      "model_name": "DescriptionStyleModel",
      "state": {
       "description_width": ""
      }
     },
     "63bc4d3d272049c5b9b3cdbb4723fb43": {
      "model_module": "@jupyter-widgets/controls",
      "model_module_version": "1.1.0",
      "model_name": "LabelModel",
      "state": {
       "layout": "IPY_MODEL_2dc29aad853f45168fd248a8554269c5",
       "style": "IPY_MODEL_0134c3792d954a6fb8646afb9cd0529f",
       "value": "Select how data sets for each detector should be spaced apart (if at all)."
      }
     },
     "63d35644410f496587d7e4afc765a7ad": {
      "model_module": "@jupyter-widgets/controls",
      "model_module_version": "1.1.0",
      "model_name": "LabelModel",
      "state": {
       "layout": "IPY_MODEL_e9876dad0d064a82bb3810f9daf6dc78",
       "style": "IPY_MODEL_395f4ed1396f41599458d76bd4a9f8b9",
       "value": "Select upstream target mass thickness."
      }
     },
     "63d86dafd39f4b03988a50402ac33d4c": {
      "model_module": "@jupyter-widgets/controls",
      "model_module_version": "1.1.0",
      "model_name": "DescriptionStyleModel",
      "state": {
       "description_width": ""
      }
     },
     "63f3673c4a8d4904b8b4957354acdb7a": {
      "model_module": "@jupyter-widgets/controls",
      "model_module_version": "1.1.0",
      "model_name": "DescriptionStyleModel",
      "state": {
       "description_width": ""
      }
     },
     "6432281fb9754f448a6ef8b536a3b412": {
      "model_module": "@jupyter-widgets/controls",
      "model_module_version": "1.1.0",
      "model_name": "DescriptionStyleModel",
      "state": {
       "description_width": ""
      }
     },
     "644ed6cc3d2144fdaa33e0de942764ca": {
      "model_module": "@jupyter-widgets/controls",
      "model_module_version": "1.1.0",
      "model_name": "DescriptionStyleModel",
      "state": {
       "description_width": ""
      }
     },
     "648e2abce8bd44749de5e0704c4e0f8c": {
      "model_module": "@jupyter-widgets/base",
      "model_module_version": "1.0.0",
      "model_name": "LayoutModel",
      "state": {}
     },
     "64a39e5952b74d7d9eb1a3cdc4a824d1": {
      "model_module": "@jupyter-widgets/controls",
      "model_module_version": "1.1.0",
      "model_name": "CheckboxModel",
      "state": {
       "description": "10°",
       "disabled": false,
       "layout": "IPY_MODEL_bec0a54e31b749e9ad4b1152e11a6e85",
       "style": "IPY_MODEL_18b8c3c6b1d2459ab250e28c7d51c293",
       "value": true
      }
     },
     "64bcc39945b54dc3845c9c8a5f663971": {
      "model_module": "@jupyter-widgets/controls",
      "model_module_version": "1.1.0",
      "model_name": "DescriptionStyleModel",
      "state": {
       "description_width": ""
      }
     },
     "64cddb3db5b6461d93882d622d7c74e2": {
      "model_module": "@jupyter-widgets/base",
      "model_module_version": "1.0.0",
      "model_name": "LayoutModel",
      "state": {}
     },
     "64e57371413542b59172c6948348cc08": {
      "model_module": "@jupyter-widgets/base",
      "model_module_version": "1.0.0",
      "model_name": "LayoutModel",
      "state": {}
     },
     "652dafb0d07046108b2c23f2fb75432c": {
      "model_module": "@jupyter-widgets/controls",
      "model_module_version": "1.1.0",
      "model_name": "DescriptionStyleModel",
      "state": {
       "description_width": ""
      }
     },
     "6534c2495cb84bcebdd805f461b0f732": {
      "model_module": "@jupyter-widgets/controls",
      "model_module_version": "1.1.0",
      "model_name": "ToggleButtonsStyleModel",
      "state": {
       "button_width": "",
       "description_width": ""
      }
     },
     "6592682b66da430baa3d52e6c03c9f70": {
      "model_module": "@jupyter-widgets/base",
      "model_module_version": "1.0.0",
      "model_name": "LayoutModel",
      "state": {}
     },
     "65ac9ffa46e74c519cea167a6f7c9e00": {
      "model_module": "@jupyter-widgets/controls",
      "model_module_version": "1.1.0",
      "model_name": "LabelModel",
      "state": {
       "layout": "IPY_MODEL_0a892fe9e1af434dbee48a0fe6ed30f0",
       "style": "IPY_MODEL_d7728d7f18734d9985528ec5cc7e6bb9",
       "value": "Select which secondary particle to plot spectra for."
      }
     },
     "65b9b514b21a4270bbe617e747d7d512": {
      "model_module": "@jupyter-widgets/controls",
      "model_module_version": "1.1.0",
      "model_name": "LabelModel",
      "state": {
       "layout": "IPY_MODEL_d787a6af00114089a18df01cc6832c33",
       "style": "IPY_MODEL_d6d67849279d4eec8fe5b047ef4db595",
       "value": "Select which secondary particle to plot spectra for."
      }
     },
     "65c67283abaa4187b143e98bc5c4bf8b": {
      "model_module": "@jupyter-widgets/controls",
      "model_module_version": "1.1.0",
      "model_name": "DescriptionStyleModel",
      "state": {
       "description_width": ""
      }
     },
     "65dc34305d364cc9aec224dba5542416": {
      "model_module": "@jupyter-widgets/base",
      "model_module_version": "1.0.0",
      "model_name": "LayoutModel",
      "state": {}
     },
     "65eb98388f3b425ca85e6efa4a4c4181": {
      "model_module": "@jupyter-widgets/controls",
      "model_module_version": "1.1.0",
      "model_name": "LabelModel",
      "state": {
       "layout": "IPY_MODEL_0f4d8e82915342dea9c99fdf5cf9559b",
       "style": "IPY_MODEL_ccb92fb4f4334ceab4beced3bde87ad2",
       "value": "Select the detector angles to plot."
      }
     },
     "6618fede54bc4ec88c1d1868043f5123": {
      "model_module": "@jupyter-widgets/controls",
      "model_module_version": "1.1.0",
      "model_name": "ToggleButtonsModel",
      "state": {
       "_options_labels": [
        "20 g/cm²",
        "40 g/cm²",
        "60 g/cm²"
       ],
       "button_style": "",
       "description": "Thickness:",
       "icons": [],
       "index": 0,
       "layout": "IPY_MODEL_c0771b671595474abd61daef2cdb5433",
       "style": "IPY_MODEL_c9cb879e1adc497faaf4f9487356048f",
       "tooltips": [
        "20 g/cm² Aluminum",
        "40 g/cm² Aluminum",
        "60 g/cm² Aluminum"
       ]
      }
     },
     "6656e479c3aa402088a708dc7886b481": {
      "model_module": "@jupyter-widgets/base",
      "model_module_version": "1.0.0",
      "model_name": "LayoutModel",
      "state": {}
     },
     "665fc08931fc44619afd3e1014cef644": {
      "model_module": "@jupyter-widgets/base",
      "model_module_version": "1.0.0",
      "model_name": "LayoutModel",
      "state": {}
     },
     "666947855c7b4a45a47d2346e06c6163": {
      "model_module": "@jupyter-widgets/base",
      "model_module_version": "1.0.0",
      "model_name": "LayoutModel",
      "state": {}
     },
     "6669aa29ed0549aca74d7019dc6c0e5f": {
      "model_module": "@jupyter-widgets/controls",
      "model_module_version": "1.1.0",
      "model_name": "DescriptionStyleModel",
      "state": {
       "description_width": ""
      }
     },
     "66780daaad254910a6361ece5f318824": {
      "model_module": "@jupyter-widgets/controls",
      "model_module_version": "1.1.0",
      "model_name": "CheckboxModel",
      "state": {
       "description": "80°",
       "disabled": false,
       "layout": "IPY_MODEL_71423ab69d8f4d27974054ce91340404",
       "style": "IPY_MODEL_8457014aa34643e0a25eff2ec3f6e208",
       "value": false
      }
     },
     "669362fe01604699a1d455ddf43ff835": {
      "model_module": "@jupyter-widgets/controls",
      "model_module_version": "1.1.0",
      "model_name": "DescriptionStyleModel",
      "state": {
       "description_width": ""
      }
     },
     "66c336724b0c43bba23e9be0854b7b87": {
      "model_module": "@jupyter-widgets/base",
      "model_module_version": "1.0.0",
      "model_name": "LayoutModel",
      "state": {}
     },
     "674ad855d31a46c995045aa6e30f60ca": {
      "model_module": "@jupyter-widgets/controls",
      "model_module_version": "1.1.0",
      "model_name": "LabelModel",
      "state": {
       "layout": "IPY_MODEL_2aa9e62ef0e34d62baf0e57cb97ecb73",
       "style": "IPY_MODEL_2e728ca3c2034b8086741be0d71e3946",
       "value": "Select upstream target mass thickness."
      }
     },
     "67649ac06c0d44b7ba8bc7ab44f13d98": {
      "model_module": "@jupyter-widgets/base",
      "model_module_version": "1.0.0",
      "model_name": "LayoutModel",
      "state": {}
     },
     "676c9ec4db9c4580a6d02dba2ee14cc3": {
      "model_module": "@jupyter-widgets/base",
      "model_module_version": "1.0.0",
      "model_name": "LayoutModel",
      "state": {}
     },
     "678505db90ca467f8138dcd59e60cab6": {
      "model_module": "@jupyter-widgets/controls",
      "model_module_version": "1.1.0",
      "model_name": "ToggleButtonsModel",
      "state": {
       "_options_labels": [
        "N (¹n)",
        "NDC (¹n)"
       ],
       "button_style": "",
       "description": "Type:",
       "icons": [],
       "index": 0,
       "layout": "IPY_MODEL_ff0752d0085a4a8693b2646507320ce7",
       "style": "IPY_MODEL_0c250d6154444cb5aaca2a60f583c229",
       "tooltips": [
        "Neutron",
        "Back Target Neutron"
       ]
      }
     },
     "67c7ff1eaa964102bb237a7e61175365": {
      "model_module": "@jupyter-widgets/base",
      "model_module_version": "1.0.0",
      "model_name": "LayoutModel",
      "state": {}
     },
     "6808932636854169abb96099d295094a": {
      "model_module": "@jupyter-widgets/controls",
      "model_module_version": "1.1.0",
      "model_name": "CheckboxModel",
      "state": {
       "description": "60°",
       "disabled": false,
       "layout": "IPY_MODEL_a8e63e1dcb4345d2b913355531ac989f",
       "style": "IPY_MODEL_7adde8f3afc7478e95f52a5ba89da941",
       "value": true
      }
     },
     "684604c74c48451cb8d88cce812fa285": {
      "model_module": "@jupyter-widgets/base",
      "model_module_version": "1.0.0",
      "model_name": "LayoutModel",
      "state": {}
     },
     "6860fc537c664772b30afb7ebfc841f2": {
      "model_module": "@jupyter-widgets/base",
      "model_module_version": "1.0.0",
      "model_name": "LayoutModel",
      "state": {}
     },
     "6863339bf1d24b64b0edd13d07bcda29": {
      "model_module": "@jupyter-widgets/controls",
      "model_module_version": "1.1.0",
      "model_name": "CheckboxModel",
      "state": {
       "description": "135°",
       "disabled": false,
       "layout": "IPY_MODEL_a918cb0bb85249d1b54b8565dad3f659",
       "style": "IPY_MODEL_35ced27b879c42d9b20e796e03c2f102",
       "value": true
      }
     },
     "6875058ca28d415ebf3402c09385b7de": {
      "model_module": "@jupyter-widgets/base",
      "model_module_version": "1.0.0",
      "model_name": "LayoutModel",
      "state": {}
     },
     "68933790a74a4b828811e6ca8c0609f0": {
      "model_module": "@jupyter-widgets/controls",
      "model_module_version": "1.1.0",
      "model_name": "CheckboxModel",
      "state": {
       "description": "MCNP simulated",
       "disabled": false,
       "layout": "IPY_MODEL_3d97e80d1c424d3e854e2b2106a1b287",
       "style": "IPY_MODEL_f808b8d841c64ede90b90c8d1d382ad7",
       "value": true
      }
     },
     "6896b4bd8afa4cdcbf69ee8bd652a294": {
      "model_module": "@jupyter-widgets/controls",
      "model_module_version": "1.1.0",
      "model_name": "DescriptionStyleModel",
      "state": {
       "description_width": ""
      }
     },
     "68ea0c8040b549ddbf28ba9ea85eccfa": {
      "model_module": "@jupyter-widgets/controls",
      "model_module_version": "1.1.0",
      "model_name": "DescriptionStyleModel",
      "state": {
       "description_width": ""
      }
     },
     "6902a3d0f5ed4573bc62d9ca3b441fe5": {
      "model_module": "@jupyter-widgets/controls",
      "model_module_version": "1.1.0",
      "model_name": "DescriptionStyleModel",
      "state": {
       "description_width": ""
      }
     },
     "6962c061d59045bb85f2b5cd341f4833": {
      "model_module": "@jupyter-widgets/controls",
      "model_module_version": "1.1.0",
      "model_name": "ToggleButtonsModel",
      "state": {
       "_options_labels": [
        "None",
        "Spaced by 10²"
       ],
       "button_style": "",
       "description": "Spacing:",
       "icons": [],
       "index": 0,
       "layout": "IPY_MODEL_c7cfcb5d67974ae0ba1f4bc0e90120d3",
       "style": "IPY_MODEL_5b07f342793d451f93155c3dd066662f",
       "tooltips": [
        "All values are presented as is.",
        "Plots for different detectors are multiplied by powers of 10² for easier viewing."
       ]
      }
     },
     "69a91690e7ca45c695f3d6199eae47b1": {
      "model_module": "@jupyter-widgets/controls",
      "model_module_version": "1.1.0",
      "model_name": "LabelModel",
      "state": {
       "layout": "IPY_MODEL_094e31aacf7e473a919b5a57d531f347",
       "style": "IPY_MODEL_8b743d4952b248f7a36eb844c64b0788",
       "value": "Select the detector angles to plot."
      }
     },
     "69b8433c4d3c4ff2811205a7b366fe96": {
      "model_module": "@jupyter-widgets/base",
      "model_module_version": "1.0.0",
      "model_name": "LayoutModel",
      "state": {}
     },
     "69bb322b76854ee69f4fe54e0100c26d": {
      "model_module": "@jupyter-widgets/controls",
      "model_module_version": "1.1.0",
      "model_name": "CheckboxModel",
      "state": {
       "description": "60°",
       "disabled": false,
       "layout": "IPY_MODEL_a736e35fa3074fa386911fcdb54f58e3",
       "style": "IPY_MODEL_0dc535502f544ef18cef129a43da4899",
       "value": true
      }
     },
     "69ccb38d5d6d4e90a6f6b4b35c0f2e8f": {
      "model_module": "@jupyter-widgets/controls",
      "model_module_version": "1.1.0",
      "model_name": "CheckboxModel",
      "state": {
       "description": "MCNP simulated",
       "disabled": false,
       "layout": "IPY_MODEL_195d94cd3ae042f0960a238e7d83b52f",
       "style": "IPY_MODEL_15ee170653c240fb99340a790479ce12",
       "value": true
      }
     },
     "69ea7f91f62f4a098c14805203339114": {
      "model_module": "@jupyter-widgets/controls",
      "model_module_version": "1.1.0",
      "model_name": "DescriptionStyleModel",
      "state": {
       "description_width": ""
      }
     },
     "69ec8e82f79545b8b4db029164b7f4b6": {
      "model_module": "@jupyter-widgets/controls",
      "model_module_version": "1.1.0",
      "model_name": "DescriptionStyleModel",
      "state": {
       "description_width": ""
      }
     },
     "6a2b921d39ac461dbc061b948af0ceea": {
      "model_module": "@jupyter-widgets/base",
      "model_module_version": "1.0.0",
      "model_name": "LayoutModel",
      "state": {}
     },
     "6b6887f98a3e425fb0be0ae08a8fee56": {
      "model_module": "@jupyter-widgets/base",
      "model_module_version": "1.0.0",
      "model_name": "LayoutModel",
      "state": {}
     },
     "6b777fc2776b4640a564e258100c4073": {
      "model_module": "@jupyter-widgets/base",
      "model_module_version": "1.0.0",
      "model_name": "LayoutModel",
      "state": {}
     },
     "6ba8174a3a714bbda95b620867e30c97": {
      "model_module": "@jupyter-widgets/controls",
      "model_module_version": "1.1.0",
      "model_name": "DescriptionStyleModel",
      "state": {
       "description_width": ""
      }
     },
     "6bbd384fbfe648a68d8e73cde9bacc5e": {
      "model_module": "@jupyter-widgets/controls",
      "model_module_version": "1.1.0",
      "model_name": "CheckboxModel",
      "state": {
       "description": "30°",
       "disabled": false,
       "layout": "IPY_MODEL_134bc7054b404937bd3736cbe91e7b67",
       "style": "IPY_MODEL_594d7f47aa2f4f3590683c7b2106522b",
       "value": true
      }
     },
     "6be0765a7f13412395f9dd9107685df5": {
      "model_module": "@jupyter-widgets/controls",
      "model_module_version": "1.1.0",
      "model_name": "CheckboxModel",
      "state": {
       "description": "80°",
       "disabled": false,
       "layout": "IPY_MODEL_b256a51a15734075b996a26f220eea7f",
       "style": "IPY_MODEL_3f9b30d802344f01a03d47bc911046d3",
       "value": true
      }
     },
     "6c11b79834094d31b0aff5194582caaf": {
      "model_module": "@jupyter-widgets/controls",
      "model_module_version": "1.1.0",
      "model_name": "CheckboxModel",
      "state": {
       "description": "135°",
       "disabled": false,
       "layout": "IPY_MODEL_64cddb3db5b6461d93882d622d7c74e2",
       "style": "IPY_MODEL_e7d5c0076bce489bb6ca680b9c77e9fb",
       "value": true
      }
     },
     "6c469ab7f87b44daa771ff9fc23ee140": {
      "model_module": "@jupyter-widgets/controls",
      "model_module_version": "1.1.0",
      "model_name": "LabelModel",
      "state": {
       "layout": "IPY_MODEL_b8dff6def2614a08a4261fa0559edf8f",
       "style": "IPY_MODEL_7b785eb9dea24458a4d1ac57bbfbe2fc",
       "value": "Select the detector angles to plot."
      }
     },
     "6c5ed0a01f1f418aba1e82fb20332402": {
      "model_module": "@jupyter-widgets/controls",
      "model_module_version": "1.1.0",
      "model_name": "DescriptionStyleModel",
      "state": {
       "description_width": ""
      }
     },
     "6c8998b14930415993effbd41bcf876c": {
      "model_module": "@jupyter-widgets/controls",
      "model_module_version": "1.1.0",
      "model_name": "ToggleButtonsModel",
      "state": {
       "_options_labels": [
        "400 MeV",
        "800 MeV",
        "2500 MeV"
       ],
       "button_style": "",
       "description": "Energy:",
       "icons": [],
       "index": 0,
       "layout": "IPY_MODEL_e8b1430b7a3246b5962a8ec757207553",
       "style": "IPY_MODEL_243c9ba949cf4de2bb60bac6e9decc8d",
       "tooltips": [
        "lowest energy",
        "middle energy",
        "highest energy"
       ]
      }
     },
     "6d7e8177703e4fc78b5724bb7c5f39e9": {
      "model_module": "@jupyter-widgets/base",
      "model_module_version": "1.0.0",
      "model_name": "LayoutModel",
      "state": {}
     },
     "6d7ee98cf6a1461ba5df20b026c4f1d4": {
      "model_module": "@jupyter-widgets/controls",
      "model_module_version": "1.1.0",
      "model_name": "DescriptionStyleModel",
      "state": {
       "description_width": ""
      }
     },
     "6d95059981624950879bdfebbe0d9296": {
      "model_module": "@jupyter-widgets/base",
      "model_module_version": "1.0.0",
      "model_name": "LayoutModel",
      "state": {}
     },
     "6db02d35a9c74e88ba5a58093a39757d": {
      "model_module": "@jupyter-widgets/controls",
      "model_module_version": "1.1.0",
      "model_name": "ToggleButtonsStyleModel",
      "state": {
       "button_width": "",
       "description_width": ""
      }
     },
     "6dc1d2dba536489e85ba12120a94c707": {
      "model_module": "@jupyter-widgets/base",
      "model_module_version": "1.0.0",
      "model_name": "LayoutModel",
      "state": {}
     },
     "6e2dd0d385234c758577ccd5cbbbcad0": {
      "model_module": "@jupyter-widgets/controls",
      "model_module_version": "1.1.0",
      "model_name": "DescriptionStyleModel",
      "state": {
       "description_width": ""
      }
     },
     "6e5bfcd185424475abd072f9ff0da8ef": {
      "model_module": "@jupyter-widgets/base",
      "model_module_version": "1.0.0",
      "model_name": "LayoutModel",
      "state": {}
     },
     "6e5f793677974678bc6e7082c99effcc": {
      "model_module": "@jupyter-widgets/controls",
      "model_module_version": "1.1.0",
      "model_name": "DescriptionStyleModel",
      "state": {
       "description_width": ""
      }
     },
     "6e95f3508fc4499f871042d4040bd640": {
      "model_module": "@jupyter-widgets/controls",
      "model_module_version": "1.1.0",
      "model_name": "DescriptionStyleModel",
      "state": {
       "description_width": ""
      }
     },
     "6e9bce0cd9c54094b088b7a7566773dd": {
      "model_module": "@jupyter-widgets/controls",
      "model_module_version": "1.1.0",
      "model_name": "DescriptionStyleModel",
      "state": {
       "description_width": ""
      }
     },
     "6e9fcd4b109c4f9bacdca54b688ff986": {
      "model_module": "@jupyter-widgets/controls",
      "model_module_version": "1.1.0",
      "model_name": "ToggleButtonsModel",
      "state": {
       "_options_labels": [
        "N (¹n)",
        "NDC (¹n)",
        "P (¹H)",
        "D (²H)"
       ],
       "button_style": "",
       "description": "Type:",
       "icons": [],
       "index": 0,
       "layout": "IPY_MODEL_5683570204824c2babd1bd671d01df2d",
       "style": "IPY_MODEL_c01c78719669455786f6a3d7f97a34f2",
       "tooltips": [
        "Neutron",
        "Back Target Neutron",
        "Proton",
        "Deuteron"
       ]
      }
     },
     "6eadeeb6bf074b6d8e522423bb2b05e9": {
      "model_module": "@jupyter-widgets/controls",
      "model_module_version": "1.1.0",
      "model_name": "ToggleButtonsModel",
      "state": {
       "_options_labels": [
        "N (¹n)",
        "NDC (¹n)",
        "P (¹H)",
        "D (²H)",
        "T (³H)",
        "S (³He)",
        "A (⁴He)"
       ],
       "button_style": "",
       "description": "Type:",
       "icons": [],
       "index": 0,
       "layout": "IPY_MODEL_c028581d290146adb6944ce81d6a8445",
       "style": "IPY_MODEL_081eed35ebd6477f95c3abb50281bf35",
       "tooltips": [
        "Neutron",
        "Back Target Neutron",
        "Proton",
        "Deuteron",
        "Triton",
        "Helium-3",
        "Helium-4"
       ]
      }
     },
     "6edb3e911d44441787d5be281679c7dd": {
      "model_module": "@jupyter-widgets/controls",
      "model_module_version": "1.1.0",
      "model_name": "ToggleButtonsStyleModel",
      "state": {
       "button_width": "",
       "description_width": ""
      }
     },
     "6efc4b6151e242caaa8ab52d50bd5997": {
      "model_module": "@jupyter-widgets/controls",
      "model_module_version": "1.1.0",
      "model_name": "ToggleButtonsStyleModel",
      "state": {
       "button_width": "",
       "description_width": ""
      }
     },
     "6f28b70a460e4dcc975c5927eef6500a": {
      "model_module": "@jupyter-widgets/controls",
      "model_module_version": "1.1.0",
      "model_name": "ToggleButtonsModel",
      "state": {
       "_options_labels": [
        "P (¹H)",
        "D (²H)",
        "T (³H)",
        "A (⁴He)"
       ],
       "button_style": "",
       "description": "Particle:",
       "icons": [],
       "index": 0,
       "layout": "IPY_MODEL_c0590248ff2b4526bf62006198a16f0e",
       "style": "IPY_MODEL_3189369a0cac44e0a6e3b6b6d8657f93",
       "tooltips": [
        "Proton",
        "Deuteron",
        "Triton",
        "Helium-4"
       ]
      }
     },
     "6f9154ad8ff347fd89ceb3941d61b861": {
      "model_module": "@jupyter-widgets/controls",
      "model_module_version": "1.1.0",
      "model_name": "CheckboxModel",
      "state": {
       "description": "30°",
       "disabled": false,
       "layout": "IPY_MODEL_31903ee12cc046d4a5f3c48980d03de8",
       "style": "IPY_MODEL_a6823a7ff4d644898a0521a67008d5ad",
       "value": true
      }
     },
     "6fb95e2154dd4900892693eac880a9bb": {
      "model_module": "@jupyter-widgets/base",
      "model_module_version": "1.0.0",
      "model_name": "LayoutModel",
      "state": {}
     },
     "701d737cb8f8401b810a0390210365f7": {
      "model_module": "@jupyter-widgets/base",
      "model_module_version": "1.0.0",
      "model_name": "LayoutModel",
      "state": {}
     },
     "703e3e569ff1498cb980c4dc4e985884": {
      "model_module": "@jupyter-widgets/base",
      "model_module_version": "1.0.0",
      "model_name": "LayoutModel",
      "state": {}
     },
     "708e8d7a766147bbbdf1d488d6ce12fb": {
      "model_module": "@jupyter-widgets/controls",
      "model_module_version": "1.1.0",
      "model_name": "DescriptionStyleModel",
      "state": {
       "description_width": ""
      }
     },
     "70b824cba41340ed8e61ad5455714f59": {
      "model_module": "@jupyter-widgets/controls",
      "model_module_version": "1.1.0",
      "model_name": "CheckboxModel",
      "state": {
       "description": "30°",
       "disabled": false,
       "layout": "IPY_MODEL_18863704081745a6b44ce17d97071696",
       "style": "IPY_MODEL_4624e853dfd54f939381d2e27047bb61",
       "value": true
      }
     },
     "71058c791b4b4cf791c34492ca167eab": {
      "model_module": "@jupyter-widgets/base",
      "model_module_version": "1.0.0",
      "model_name": "LayoutModel",
      "state": {}
     },
     "71423ab69d8f4d27974054ce91340404": {
      "model_module": "@jupyter-widgets/base",
      "model_module_version": "1.0.0",
      "model_name": "LayoutModel",
      "state": {}
     },
     "714e01f090034d61970e171f2b8e9078": {
      "model_module": "@jupyter-widgets/base",
      "model_module_version": "1.0.0",
      "model_name": "LayoutModel",
      "state": {}
     },
     "7152837967fc4c21933fab6a2245e295": {
      "model_module": "@jupyter-widgets/controls",
      "model_module_version": "1.1.0",
      "model_name": "CheckboxModel",
      "state": {
       "description": "60°",
       "disabled": false,
       "layout": "IPY_MODEL_b67cce65aca44fba99692642db417b07",
       "style": "IPY_MODEL_88b9e2d96d2b4c85b34b1b94c3341b79",
       "value": false
      }
     },
     "71683c8b18754c3b99996c8c2f587ece": {
      "model_module": "@jupyter-widgets/base",
      "model_module_version": "1.0.0",
      "model_name": "LayoutModel",
      "state": {}
     },
     "71895eaff71248569ce5c5c2395d428a": {
      "model_module": "@jupyter-widgets/controls",
      "model_module_version": "1.1.0",
      "model_name": "LabelModel",
      "state": {
       "layout": "IPY_MODEL_dacecf3f41d744dca9a326df46e03dc7",
       "style": "IPY_MODEL_782f8c48e0e94ab9987ffa22d3cd04eb",
       "value": "Select the detector angles to plot."
      }
     },
     "719506c3b9ad4f68ac43df3344c0f784": {
      "model_module": "@jupyter-widgets/controls",
      "model_module_version": "1.1.0",
      "model_name": "LabelModel",
      "state": {
       "layout": "IPY_MODEL_7de9b198346d4da2990ea6970b256c36",
       "style": "IPY_MODEL_de136a4347eb43718c46e90b77ba4eae",
       "value": "Select the detector angles to plot."
      }
     },
     "719a392596f7403392909a78c79f6fd3": {
      "model_module": "@jupyter-widgets/controls",
      "model_module_version": "1.1.0",
      "model_name": "CheckboxModel",
      "state": {
       "description": "7.2°",
       "disabled": false,
       "layout": "IPY_MODEL_dcd4ce5edb6c44989f20208388f10188",
       "style": "IPY_MODEL_28216aa714064d369f4eb48ecb4ef60f",
       "value": true
      }
     },
     "71a09e2397ff40e9a0688a8973dcf554": {
      "model_module": "@jupyter-widgets/base",
      "model_module_version": "1.0.0",
      "model_name": "LayoutModel",
      "state": {}
     },
     "71b7722d056a4b0f8361f2d9d50b1a9f": {
      "model_module": "@jupyter-widgets/base",
      "model_module_version": "1.0.0",
      "model_name": "LayoutModel",
      "state": {}
     },
     "71cef8f8d16d42af89b020492cc909ca": {
      "model_module": "@jupyter-widgets/controls",
      "model_module_version": "1.1.0",
      "model_name": "CheckboxModel",
      "state": {
       "description": "10°",
       "disabled": false,
       "layout": "IPY_MODEL_77e5cab77d8e412a837ede5657f7cae9",
       "style": "IPY_MODEL_ca45354f50c94677a51e2632ed6da418",
       "value": true
      }
     },
     "71ff93e143924a6cb887239f81683955": {
      "model_module": "@jupyter-widgets/controls",
      "model_module_version": "1.1.0",
      "model_name": "CheckboxModel",
      "state": {
       "description": "45°",
       "disabled": false,
       "layout": "IPY_MODEL_11aea78791f04ca6adbc4af597e72e71",
       "style": "IPY_MODEL_462a79a9036144b8b3fe19cdc55eee8c",
       "value": true
      }
     },
     "7226f67f91d7466385caf9785e71e0e7": {
      "model_module": "@jupyter-widgets/base",
      "model_module_version": "1.0.0",
      "model_name": "LayoutModel",
      "state": {}
     },
     "7266346fb06e49e89e893c7ad7383d17": {
      "model_module": "@jupyter-widgets/base",
      "model_module_version": "1.0.0",
      "model_name": "LayoutModel",
      "state": {}
     },
     "7267e33edf104e3d9d14f08c8907cb54": {
      "model_module": "@jupyter-widgets/controls",
      "model_module_version": "1.1.0",
      "model_name": "ToggleButtonsModel",
      "state": {
       "_options_labels": [
        "N (¹n)",
        "NDC (¹n)",
        "P (¹H)",
        "D (²H)",
        "T (³H)",
        "S (³He)",
        "A (⁴He)"
       ],
       "button_style": "",
       "description": "Type:",
       "icons": [],
       "index": 3,
       "layout": "IPY_MODEL_3c09a4f787f24fb882051c5bbbc36f4a",
       "style": "IPY_MODEL_4ef169f780f5492d945394689c66c0f3",
       "tooltips": [
        "Neutron",
        "Back Target Neutron",
        "Proton",
        "Deuteron",
        "Triton",
        "Helium-3",
        "Helium-4"
       ]
      }
     },
     "7269c215af174c58ad8c5c71aa27e07a": {
      "model_module": "@jupyter-widgets/controls",
      "model_module_version": "1.1.0",
      "model_name": "ToggleButtonsStyleModel",
      "state": {
       "button_width": "",
       "description_width": ""
      }
     },
     "72730742a22448ee8cf55b8b6858e93c": {
      "model_module": "@jupyter-widgets/controls",
      "model_module_version": "1.1.0",
      "model_name": "CheckboxModel",
      "state": {
       "description": "135°",
       "disabled": false,
       "layout": "IPY_MODEL_d89d57eeb9ee413baad1cb61dc3a999b",
       "style": "IPY_MODEL_88cc195b5f6e4901bf6a0871b8ac57ab",
       "value": true
      }
     },
     "727e71bf8dd74063b25c39b8c26aab20": {
      "model_module": "@jupyter-widgets/controls",
      "model_module_version": "1.1.0",
      "model_name": "CheckboxModel",
      "state": {
       "description": "32.7°",
       "disabled": false,
       "layout": "IPY_MODEL_02f0fec9ce024a018ce95422f807e9d9",
       "style": "IPY_MODEL_6669aa29ed0549aca74d7019dc6c0e5f",
       "value": false
      }
     },
     "72d50bc804df4ca38022315156eda644": {
      "model_module": "@jupyter-widgets/controls",
      "model_module_version": "1.1.0",
      "model_name": "DescriptionStyleModel",
      "state": {
       "description_width": ""
      }
     },
     "72e45cb336a54312a1aeef5f4c881553": {
      "model_module": "@jupyter-widgets/controls",
      "model_module_version": "1.1.0",
      "model_name": "DescriptionStyleModel",
      "state": {
       "description_width": ""
      }
     },
     "72e9a796ad4b465882749d9c1f88720d": {
      "model_module": "@jupyter-widgets/base",
      "model_module_version": "1.0.0",
      "model_name": "LayoutModel",
      "state": {}
     },
     "72fe73391da34aa7b16dcf466b9d7dcc": {
      "model_module": "@jupyter-widgets/base",
      "model_module_version": "1.0.0",
      "model_name": "LayoutModel",
      "state": {}
     },
     "73138b754209406a8c76f8b0357ac687": {
      "model_module": "@jupyter-widgets/controls",
      "model_module_version": "1.1.0",
      "model_name": "DescriptionStyleModel",
      "state": {
       "description_width": ""
      }
     },
     "7356676fed21406e8f081dbe6e0a505a": {
      "model_module": "@jupyter-widgets/controls",
      "model_module_version": "1.1.0",
      "model_name": "ButtonStyleModel",
      "state": {}
     },
     "7361620793a041eb83e6cebabb392c82": {
      "model_module": "@jupyter-widgets/base",
      "model_module_version": "1.0.0",
      "model_name": "LayoutModel",
      "state": {}
     },
     "73ade60795d64355b51bcedccc4f3f2c": {
      "model_module": "@jupyter-widgets/controls",
      "model_module_version": "1.1.0",
      "model_name": "DescriptionStyleModel",
      "state": {
       "description_width": ""
      }
     },
     "73b7636d409349d39069f1f9c4c8bf66": {
      "model_module": "@jupyter-widgets/controls",
      "model_module_version": "1.1.0",
      "model_name": "CheckboxModel",
      "state": {
       "description": "7.2°",
       "disabled": false,
       "layout": "IPY_MODEL_55ee168d048141bda5ad42eb6648dab2",
       "style": "IPY_MODEL_c3a04ceeb2e74e89bb7895f0f5657097",
       "value": true
      }
     },
     "73e20f453cf440ec997671f6f69ed6e9": {
      "model_module": "@jupyter-widgets/controls",
      "model_module_version": "1.1.0",
      "model_name": "ToggleButtonsModel",
      "state": {
       "_options_labels": [
        "400 MeV/n",
        "800 MeV/n",
        "1500 MeV/n"
       ],
       "button_style": "",
       "description": "Energy:",
       "icons": [],
       "index": 1,
       "layout": "IPY_MODEL_7b02a5288922431db259df2fe6b48f66",
       "style": "IPY_MODEL_2df331ed0947481499b39951a8f811cd",
       "tooltips": [
        "lowest energy",
        "middle energy",
        "highest energy"
       ]
      }
     },
     "740b6967cafc441d9d1016cb0a8da55f": {
      "model_module": "@jupyter-widgets/controls",
      "model_module_version": "1.1.0",
      "model_name": "ToggleButtonsModel",
      "state": {
       "_options_labels": [
        "400 MeV/n",
        "800 MeV/n",
        "1500 MeV/n"
       ],
       "button_style": "",
       "description": "Energy:",
       "icons": [],
       "index": 0,
       "layout": "IPY_MODEL_f6398df354bc4679b689033928f3f329",
       "style": "IPY_MODEL_d552c1b61ca04e5a85526db6807b5d18",
       "tooltips": [
        "lowest energy",
        "middle energy",
        "highest energy"
       ]
      }
     },
     "7459268c60e14cee93a95a83bb9c62cd": {
      "model_module": "@jupyter-widgets/controls",
      "model_module_version": "1.1.0",
      "model_name": "DescriptionStyleModel",
      "state": {
       "description_width": ""
      }
     },
     "74a62dfbb06d4bb8a6ba3f1404f53361": {
      "model_module": "@jupyter-widgets/controls",
      "model_module_version": "1.1.0",
      "model_name": "CheckboxModel",
      "state": {
       "description": "80°",
       "disabled": false,
       "layout": "IPY_MODEL_28c3fe0386cf482fae9099e6ae852596",
       "style": "IPY_MODEL_b3311dbc66674b6daaee1b5cd76ce614",
       "value": true
      }
     },
     "74afdf280b99481c91ec8638fcafbb6c": {
      "model_module": "@jupyter-widgets/controls",
      "model_module_version": "1.1.0",
      "model_name": "DescriptionStyleModel",
      "state": {
       "description_width": ""
      }
     },
     "74b6b5d9bd6f4001bb6cff315454d14d": {
      "model_module": "@jupyter-widgets/controls",
      "model_module_version": "1.1.0",
      "model_name": "LabelModel",
      "state": {
       "layout": "IPY_MODEL_824e7021966a43c2bf175463c7dccf1a",
       "style": "IPY_MODEL_2f0f1b0111db437d8dc6c27d468e6a66",
       "value": "Select which secondary particle to plot spectra for."
      }
     },
     "74e3d297a3dd4837a6940d54ccb2fc04": {
      "model_module": "@jupyter-widgets/controls",
      "model_module_version": "1.1.0",
      "model_name": "DescriptionStyleModel",
      "state": {
       "description_width": ""
      }
     },
     "74ea0dc61073468e9e0226a6ea33f180": {
      "model_module": "@jupyter-widgets/base",
      "model_module_version": "1.0.0",
      "model_name": "LayoutModel",
      "state": {}
     },
     "752f436956fe47a4adbe7186aead7787": {
      "model_module": "@jupyter-widgets/controls",
      "model_module_version": "1.1.0",
      "model_name": "DescriptionStyleModel",
      "state": {
       "description_width": ""
      }
     },
     "75647d063fd343279bf2691272c87b29": {
      "model_module": "@jupyter-widgets/base",
      "model_module_version": "1.0.0",
      "model_name": "LayoutModel",
      "state": {}
     },
     "75704df72b5f482e83d8caa24c07eb4a": {
      "model_module": "@jupyter-widgets/controls",
      "model_module_version": "1.1.0",
      "model_name": "DescriptionStyleModel",
      "state": {
       "description_width": ""
      }
     },
     "75a30c3beb1940bf992f9033eee96e34": {
      "model_module": "@jupyter-widgets/controls",
      "model_module_version": "1.1.0",
      "model_name": "DescriptionStyleModel",
      "state": {
       "description_width": ""
      }
     },
     "75b462689dd34b93816d80b241ce3836": {
      "model_module": "@jupyter-widgets/controls",
      "model_module_version": "1.1.0",
      "model_name": "DescriptionStyleModel",
      "state": {
       "description_width": ""
      }
     },
     "75c02e8a80754bd2b432497f85d747be": {
      "model_module": "@jupyter-widgets/base",
      "model_module_version": "1.0.0",
      "model_name": "LayoutModel",
      "state": {}
     },
     "75cf49c4dab14f3b84f7207de3fb21cd": {
      "model_module": "@jupyter-widgets/controls",
      "model_module_version": "1.1.0",
      "model_name": "CheckboxModel",
      "state": {
       "description": "10°",
       "disabled": false,
       "layout": "IPY_MODEL_11f48d37a535475ca688e0905db3162f",
       "style": "IPY_MODEL_72d50bc804df4ca38022315156eda644",
       "value": true
      }
     },
     "75d2183c47ac4eb8a8ab256a36a9db1d": {
      "model_module": "@jupyter-widgets/controls",
      "model_module_version": "1.1.0",
      "model_name": "DescriptionStyleModel",
      "state": {
       "description_width": ""
      }
     },
     "763c51d9be4c4ae09c6185e631146395": {
      "model_module": "@jupyter-widgets/controls",
      "model_module_version": "1.1.0",
      "model_name": "LabelModel",
      "state": {
       "layout": "IPY_MODEL_1c014d4e1a954966b4781964ef79ab9d",
       "style": "IPY_MODEL_197075fb586e4734965179c897e4f958",
       "value": "Select a detector type."
      }
     },
     "7685285fbaaa496d82510a494b9d0a08": {
      "model_module": "@jupyter-widgets/controls",
      "model_module_version": "1.1.0",
      "model_name": "LabelModel",
      "state": {
       "layout": "IPY_MODEL_116ac127c33a4645b99fbacd4acffcea",
       "style": "IPY_MODEL_b453f597f5f747879bbb7e51d7941077",
       "value": "Select the detector angles to plot."
      }
     },
     "76ae31eb7d5640b8875c43b23fa9160d": {
      "model_module": "@jupyter-widgets/controls",
      "model_module_version": "1.1.0",
      "model_name": "CheckboxModel",
      "state": {
       "description": "135°",
       "disabled": false,
       "layout": "IPY_MODEL_8822a20bc3f94d66ab0dbfabcd77d959",
       "style": "IPY_MODEL_73ade60795d64355b51bcedccc4f3f2c",
       "value": true
      }
     },
     "76dd25d0d7e1441183913f076f0b20a8": {
      "model_module": "@jupyter-widgets/controls",
      "model_module_version": "1.1.0",
      "model_name": "ToggleButtonsModel",
      "state": {
       "_options_labels": [
        "N (¹n)",
        "NDC (¹n)",
        "P (¹H)",
        "D (²H)",
        "T (³H)",
        "S (³He)",
        "A (⁴He)"
       ],
       "button_style": "",
       "description": "Type:",
       "icons": [],
       "index": 0,
       "layout": "IPY_MODEL_a01d9af1cbfb457ca40b4d16191dd9f8",
       "style": "IPY_MODEL_a73ea27787e845ec9d670ffc57d5fe34",
       "tooltips": [
        "Neutron",
        "Back Target Neutron",
        "Proton",
        "Deuteron",
        "Triton",
        "Helium-3",
        "Helium-4"
       ]
      }
     },
     "770ceff503154f0a865b91c4c5f39af8": {
      "model_module": "@jupyter-widgets/base",
      "model_module_version": "1.0.0",
      "model_name": "LayoutModel",
      "state": {}
     },
     "772e5375e9884cc59b06095fd14fa29c": {
      "model_module": "@jupyter-widgets/controls",
      "model_module_version": "1.1.0",
      "model_name": "DescriptionStyleModel",
      "state": {
       "description_width": ""
      }
     },
     "77325e05ad2b433c87a9d5728f7d5981": {
      "model_module": "@jupyter-widgets/base",
      "model_module_version": "1.0.0",
      "model_name": "LayoutModel",
      "state": {}
     },
     "77792603d0cb409aa6a765665db2f609": {
      "model_module": "@jupyter-widgets/controls",
      "model_module_version": "1.1.0",
      "model_name": "CheckboxModel",
      "state": {
       "description": "135°",
       "disabled": false,
       "layout": "IPY_MODEL_7edd62daaafc4fde86cd3bd06b52ead0",
       "style": "IPY_MODEL_486a85212fc74b3c976559e6f202904e",
       "value": true
      }
     },
     "777b6c6ba30941cba126cc00438dd02d": {
      "model_module": "@jupyter-widgets/controls",
      "model_module_version": "1.1.0",
      "model_name": "CheckboxModel",
      "state": {
       "description": "45°",
       "disabled": false,
       "layout": "IPY_MODEL_f7f38f23b33c4fc9bedd89b58ecf6c4c",
       "style": "IPY_MODEL_592d2c0aa7504792bede385126d23000",
       "value": false
      }
     },
     "77a5fc8d2bb44899b412f27dbfc2d0b2": {
      "model_module": "@jupyter-widgets/controls",
      "model_module_version": "1.1.0",
      "model_name": "CheckboxModel",
      "state": {
       "description": "45°",
       "disabled": false,
       "layout": "IPY_MODEL_1954fcd499e84497b4865b733f2fe9a4",
       "style": "IPY_MODEL_b8c1fc0e080f4c32b4e9b22cf32efc54",
       "value": true
      }
     },
     "77df7263787a480793999b2d1bfbd4c8": {
      "model_module": "@jupyter-widgets/controls",
      "model_module_version": "1.1.0",
      "model_name": "DescriptionStyleModel",
      "state": {
       "description_width": ""
      }
     },
     "77e5cab77d8e412a837ede5657f7cae9": {
      "model_module": "@jupyter-widgets/base",
      "model_module_version": "1.0.0",
      "model_name": "LayoutModel",
      "state": {}
     },
     "77f0a240fb514069b6c89a150a7abac9": {
      "model_module": "@jupyter-widgets/controls",
      "model_module_version": "1.1.0",
      "model_name": "ToggleButtonsStyleModel",
      "state": {
       "button_width": "",
       "description_width": ""
      }
     },
     "781aaddf039d4c1fb96c9e97b02b4a98": {
      "model_module": "@jupyter-widgets/controls",
      "model_module_version": "1.1.0",
      "model_name": "LabelModel",
      "state": {
       "layout": "IPY_MODEL_ab51b1419f7546d9adedc7d98370b3be",
       "style": "IPY_MODEL_ac9577885a6643f3acdf6df98032a935",
       "value": "Select which secondary particle to plot spectra for."
      }
     },
     "782b9bfbb81b460284294695228ba7de": {
      "model_module": "@jupyter-widgets/controls",
      "model_module_version": "1.1.0",
      "model_name": "DescriptionStyleModel",
      "state": {
       "description_width": ""
      }
     },
     "782f50c4fba44e5797352f1f889b2404": {
      "model_module": "@jupyter-widgets/controls",
      "model_module_version": "1.1.0",
      "model_name": "CheckboxModel",
      "state": {
       "description": "30°",
       "disabled": false,
       "layout": "IPY_MODEL_90d0ad0b2cd144658a89409c7d844d9d",
       "style": "IPY_MODEL_d3c2d5b482364a8388e43e20541a6253",
       "value": true
      }
     },
     "782f8c48e0e94ab9987ffa22d3cd04eb": {
      "model_module": "@jupyter-widgets/controls",
      "model_module_version": "1.1.0",
      "model_name": "DescriptionStyleModel",
      "state": {
       "description_width": ""
      }
     },
     "785390cd756d49a19e9964c3010cb559": {
      "model_module": "@jupyter-widgets/base",
      "model_module_version": "1.0.0",
      "model_name": "LayoutModel",
      "state": {}
     },
     "7875ecdeb20f48b79e1db2aab5fe21d6": {
      "model_module": "@jupyter-widgets/controls",
      "model_module_version": "1.1.0",
      "model_name": "ToggleButtonsModel",
      "state": {
       "_options_labels": [
        "N (¹n)",
        "NDC (¹n)",
        "P (¹H)",
        "D (²H)",
        "T (³H)",
        "S (³He)",
        "A (⁴He)"
       ],
       "button_style": "",
       "description": "Particle:",
       "icons": [],
       "index": 1,
       "layout": "IPY_MODEL_b7d90552fa1a42b7b0e7aee76ca65e5f",
       "style": "IPY_MODEL_18ec9503a0314fdfb4fd82944a091077",
       "tooltips": [
        "Neutron",
        "Back Target Neutron",
        "Proton",
        "Deuteron",
        "Triton",
        "Helium-3",
        "Helium-4"
       ]
      }
     },
     "790ea7929fa54d4992b2693b6c88b714": {
      "model_module": "@jupyter-widgets/controls",
      "model_module_version": "1.1.0",
      "model_name": "LabelModel",
      "state": {
       "layout": "IPY_MODEL_9eba4cf6274048188693b18ae48e4e52",
       "style": "IPY_MODEL_deef3cc23c9e47b1a27184acabc313ff",
       "value": "Select which secondary particle to plot spectra for."
      }
     },
     "7a207b3f9e534394bfd8e158d669b063": {
      "model_module": "@jupyter-widgets/base",
      "model_module_version": "1.0.0",
      "model_name": "LayoutModel",
      "state": {}
     },
     "7a2ce427dc1c456da7309111a2b59ea4": {
      "model_module": "@jupyter-widgets/controls",
      "model_module_version": "1.1.0",
      "model_name": "LabelModel",
      "state": {
       "layout": "IPY_MODEL_daa1eb14b20f48a5a9aba4450376ed13",
       "style": "IPY_MODEL_caa204e113d1449080e1c516dedcc235",
       "value": "Select which secondary particle to plot spectra for."
      }
     },
     "7a41df7279be47f19ff549ed07da1077": {
      "model_module": "@jupyter-widgets/controls",
      "model_module_version": "1.1.0",
      "model_name": "DescriptionStyleModel",
      "state": {
       "description_width": ""
      }
     },
     "7a606f3c1ab14cb9839909e63914dd28": {
      "model_module": "@jupyter-widgets/base",
      "model_module_version": "1.0.0",
      "model_name": "LayoutModel",
      "state": {}
     },
     "7a60d2682c3349b0b202edf010c6c96c": {
      "model_module": "@jupyter-widgets/base",
      "model_module_version": "1.0.0",
      "model_name": "LayoutModel",
      "state": {}
     },
     "7a7ba5dbc4044b0fa55b390b45f1c3b3": {
      "model_module": "@jupyter-widgets/controls",
      "model_module_version": "1.1.0",
      "model_name": "DescriptionStyleModel",
      "state": {
       "description_width": ""
      }
     },
     "7ac59b7eca6641c8bcb498673e9b27bd": {
      "model_module": "@jupyter-widgets/base",
      "model_module_version": "1.0.0",
      "model_name": "LayoutModel",
      "state": {}
     },
     "7adde8f3afc7478e95f52a5ba89da941": {
      "model_module": "@jupyter-widgets/controls",
      "model_module_version": "1.1.0",
      "model_name": "DescriptionStyleModel",
      "state": {
       "description_width": ""
      }
     },
     "7af51936891d4c43b32e0c844abbed7b": {
      "model_module": "@jupyter-widgets/controls",
      "model_module_version": "1.1.0",
      "model_name": "LabelModel",
      "state": {
       "layout": "IPY_MODEL_52c16dd828a84e3c93385fd475420794",
       "style": "IPY_MODEL_a6e4e615cf024c96b0b19a74e84d6cef",
       "value": "Select which secondary particle to plot spectra for."
      }
     },
     "7b02a5288922431db259df2fe6b48f66": {
      "model_module": "@jupyter-widgets/base",
      "model_module_version": "1.0.0",
      "model_name": "LayoutModel",
      "state": {}
     },
     "7b0520fc4f674c48beda1fd2174f737c": {
      "model_module": "@jupyter-widgets/controls",
      "model_module_version": "1.1.0",
      "model_name": "DescriptionStyleModel",
      "state": {
       "description_width": ""
      }
     },
     "7b3e842f80114890b82b120bf12a2673": {
      "model_module": "@jupyter-widgets/controls",
      "model_module_version": "1.1.0",
      "model_name": "DescriptionStyleModel",
      "state": {
       "description_width": ""
      }
     },
     "7b49faf0031b4bbd8bcfec5944e74490": {
      "model_module": "@jupyter-widgets/controls",
      "model_module_version": "1.1.0",
      "model_name": "DescriptionStyleModel",
      "state": {
       "description_width": ""
      }
     },
     "7b785eb9dea24458a4d1ac57bbfbe2fc": {
      "model_module": "@jupyter-widgets/controls",
      "model_module_version": "1.1.0",
      "model_name": "DescriptionStyleModel",
      "state": {
       "description_width": ""
      }
     },
     "7bad699392d842d3b757e4dbfb597dc1": {
      "model_module": "@jupyter-widgets/controls",
      "model_module_version": "1.1.0",
      "model_name": "CheckboxModel",
      "state": {
       "description": "30°",
       "disabled": false,
       "layout": "IPY_MODEL_090598d5c0c24f1f90f63baa520df67a",
       "style": "IPY_MODEL_5f81c44e3d4f4848891cd99623046fe3",
       "value": true
      }
     },
     "7bc3fbb9ab3f45348de818119b4edb4a": {
      "model_module": "@jupyter-widgets/controls",
      "model_module_version": "1.1.0",
      "model_name": "DescriptionStyleModel",
      "state": {
       "description_width": ""
      }
     },
     "7bd08e09b235419884b9026c8318d57b": {
      "model_module": "@jupyter-widgets/base",
      "model_module_version": "1.0.0",
      "model_name": "LayoutModel",
      "state": {}
     },
     "7bd7ac599ac74a43b9d70028a1cfbf6b": {
      "model_module": "@jupyter-widgets/base",
      "model_module_version": "1.0.0",
      "model_name": "LayoutModel",
      "state": {}
     },
     "7c43f2d5b3524a36bebde9aaefaf52eb": {
      "model_module": "@jupyter-widgets/controls",
      "model_module_version": "1.1.0",
      "model_name": "CheckboxModel",
      "state": {
       "description": "80°",
       "disabled": false,
       "layout": "IPY_MODEL_d380f760dcf04c08bc4b7e227caf8416",
       "style": "IPY_MODEL_8ec9509eb399439fb841e212539d7916",
       "value": true
      }
     },
     "7c8840e84d034bf79f54e73f4acdb1c8": {
      "model_module": "@jupyter-widgets/controls",
      "model_module_version": "1.1.0",
      "model_name": "CheckboxModel",
      "state": {
       "description": "30°",
       "disabled": false,
       "layout": "IPY_MODEL_6043f70a44fd4a4ab3da05f2351f5d16",
       "style": "IPY_MODEL_782b9bfbb81b460284294695228ba7de",
       "value": true
      }
     },
     "7cb91ccf4d284053ad9237a1ec68b134": {
      "model_module": "@jupyter-widgets/controls",
      "model_module_version": "1.1.0",
      "model_name": "LabelModel",
      "state": {
       "layout": "IPY_MODEL_b34c0b45a9364bf4a77dbe00b1b856bf",
       "style": "IPY_MODEL_10b4f99509df485689b185a6e77913a5",
       "value": "Select the detector angles to plot."
      }
     },
     "7cebe4c1a6574ff6880871b9e8a9045c": {
      "model_module": "@jupyter-widgets/controls",
      "model_module_version": "1.1.0",
      "model_name": "ToggleButtonsModel",
      "state": {
       "_options_labels": [
        "400 MeV",
        "800 MeV",
        "2500 MeV"
       ],
       "button_style": "",
       "description": "Energy:",
       "icons": [],
       "index": 0,
       "layout": "IPY_MODEL_f3b020ca5d8f4d98bd0f82640535936e",
       "style": "IPY_MODEL_ab08f3b531ee4b92bbbe6ee1c754c252",
       "tooltips": [
        "lowest energy",
        "middle energy",
        "highest energy"
       ]
      }
     },
     "7d315670ef4f4b77a3c4bdbb3d99313c": {
      "model_module": "@jupyter-widgets/controls",
      "model_module_version": "1.1.0",
      "model_name": "ToggleButtonsStyleModel",
      "state": {
       "button_width": "",
       "description_width": ""
      }
     },
     "7d5da29f61a44934bf2ea94bc7ee10bd": {
      "model_module": "@jupyter-widgets/controls",
      "model_module_version": "1.1.0",
      "model_name": "CheckboxModel",
      "state": {
       "description": "10°",
       "disabled": false,
       "layout": "IPY_MODEL_a08b30dbe8df48e1b9b7d32efe18f57e",
       "style": "IPY_MODEL_3057daa3aeee4dd19e0ef7f89f0cf16c",
       "value": true
      }
     },
     "7d80945944f749c38f55ca99a4d8e702": {
      "model_module": "@jupyter-widgets/controls",
      "model_module_version": "1.1.0",
      "model_name": "DescriptionStyleModel",
      "state": {
       "description_width": ""
      }
     },
     "7d96e7efeee54fd8a36c0a044393d5b5": {
      "model_module": "@jupyter-widgets/controls",
      "model_module_version": "1.1.0",
      "model_name": "DescriptionStyleModel",
      "state": {
       "description_width": ""
      }
     },
     "7db1c715c27c426f9a9b3a5820d79b0c": {
      "model_module": "@jupyter-widgets/base",
      "model_module_version": "1.0.0",
      "model_name": "LayoutModel",
      "state": {}
     },
     "7de9b198346d4da2990ea6970b256c36": {
      "model_module": "@jupyter-widgets/base",
      "model_module_version": "1.0.0",
      "model_name": "LayoutModel",
      "state": {}
     },
     "7df21e8d5f964ee6940895fc16107d6f": {
      "model_module": "@jupyter-widgets/base",
      "model_module_version": "1.0.0",
      "model_name": "LayoutModel",
      "state": {}
     },
     "7e2371361e60439b81f3c95a4c29b3b7": {
      "model_module": "@jupyter-widgets/controls",
      "model_module_version": "1.1.0",
      "model_name": "ToggleButtonsStyleModel",
      "state": {
       "button_width": "",
       "description_width": ""
      }
     },
     "7e75049786dd41599baa59cfbe1fc39b": {
      "model_module": "@jupyter-widgets/base",
      "model_module_version": "1.0.0",
      "model_name": "LayoutModel",
      "state": {}
     },
     "7e8f437c1a4f4cb2a43386174f683062": {
      "model_module": "@jupyter-widgets/controls",
      "model_module_version": "1.1.0",
      "model_name": "ButtonStyleModel",
      "state": {}
     },
     "7ea5137a008f4bbeb1cf1b1fb8b59231": {
      "model_module": "@jupyter-widgets/controls",
      "model_module_version": "1.1.0",
      "model_name": "LabelModel",
      "state": {
       "layout": "IPY_MODEL_0070d4f6780e40d6b962f1dfc9e13934",
       "style": "IPY_MODEL_bae7a6f7fe1a4131a2844ed828976a30",
       "value": "Select projectile ion energy."
      }
     },
     "7eb4d549ff354d1d97bf02337d3d4441": {
      "model_module": "@jupyter-widgets/base",
      "model_module_version": "1.0.0",
      "model_name": "LayoutModel",
      "state": {}
     },
     "7eb78729568f4494b7bae7e61224211a": {
      "model_module": "@jupyter-widgets/controls",
      "model_module_version": "1.1.0",
      "model_name": "DescriptionStyleModel",
      "state": {
       "description_width": ""
      }
     },
     "7ece3efc3e354dbfafc81f8f5768649d": {
      "model_module": "@jupyter-widgets/base",
      "model_module_version": "1.0.0",
      "model_name": "LayoutModel",
      "state": {}
     },
     "7ed71805849a4f218564899a9ad4f788": {
      "model_module": "@jupyter-widgets/base",
      "model_module_version": "1.0.0",
      "model_name": "LayoutModel",
      "state": {}
     },
     "7edd62daaafc4fde86cd3bd06b52ead0": {
      "model_module": "@jupyter-widgets/base",
      "model_module_version": "1.0.0",
      "model_name": "LayoutModel",
      "state": {}
     },
     "7f0241e1d61d443d945055442dd2c9ac": {
      "model_module": "@jupyter-widgets/controls",
      "model_module_version": "1.1.0",
      "model_name": "LabelModel",
      "state": {
       "layout": "IPY_MODEL_e5de52a649a44006a5e4cb9bac808b33",
       "style": "IPY_MODEL_114b096c8d2849e88380a0216538768e",
       "value": "Select which secondary particle to plot spectra for."
      }
     },
     "7f3291f11caf4a628d72ab41a793e5c1": {
      "model_module": "@jupyter-widgets/controls",
      "model_module_version": "1.1.0",
      "model_name": "CheckboxModel",
      "state": {
       "description": "45°",
       "disabled": false,
       "layout": "IPY_MODEL_db23ea9742d24a9eb53dca9df0670822",
       "style": "IPY_MODEL_cfd89952bf0f4bc58f55bb5e034a9751",
       "value": false
      }
     },
     "7f4e7685ff92449696edc9899475e79a": {
      "model_module": "@jupyter-widgets/controls",
      "model_module_version": "1.1.0",
      "model_name": "ToggleButtonsStyleModel",
      "state": {
       "button_width": "",
       "description_width": ""
      }
     },
     "7f6a97e5fbe24a3c9cbbb57009b519b5": {
      "model_module": "@jupyter-widgets/base",
      "model_module_version": "1.0.0",
      "model_name": "LayoutModel",
      "state": {}
     },
     "7fda445d7820403baadc8a73574b6efa": {
      "model_module": "@jupyter-widgets/controls",
      "model_module_version": "1.1.0",
      "model_name": "DescriptionStyleModel",
      "state": {
       "description_width": ""
      }
     },
     "7fe93f0e92f445f2b9eb26c37bb33e12": {
      "model_module": "@jupyter-widgets/controls",
      "model_module_version": "1.1.0",
      "model_name": "DescriptionStyleModel",
      "state": {
       "description_width": ""
      }
     },
     "7fee16546f4e4ce698bb3676bbfe16a6": {
      "model_module": "@jupyter-widgets/base",
      "model_module_version": "1.0.0",
      "model_name": "LayoutModel",
      "state": {}
     },
     "80283625d8bf4c69b8c889786437052f": {
      "model_module": "@jupyter-widgets/base",
      "model_module_version": "1.0.0",
      "model_name": "LayoutModel",
      "state": {}
     },
     "806a3c65ff964a2982d166fcff8bb411": {
      "model_module": "@jupyter-widgets/controls",
      "model_module_version": "1.1.0",
      "model_name": "ButtonStyleModel",
      "state": {}
     },
     "807ae0ee6a3e486aa3da11e93793c20d": {
      "model_module": "@jupyter-widgets/controls",
      "model_module_version": "1.1.0",
      "model_name": "ToggleButtonsModel",
      "state": {
       "_options_labels": [
        "400 MeV/n",
        "800 MeV/n",
        "1500 MeV/n"
       ],
       "button_style": "",
       "description": "Energy:",
       "icons": [],
       "index": 0,
       "layout": "IPY_MODEL_d37cc067f1304cf2bc31222f899ce506",
       "style": "IPY_MODEL_83ecc67c12c3465fb7265072610ef8c1",
       "tooltips": [
        "lowest energy",
        "middle energy",
        "highest energy"
       ]
      }
     },
     "81425f7945044f9dacb6d4144985be36": {
      "model_module": "@jupyter-widgets/base",
      "model_module_version": "1.0.0",
      "model_name": "LayoutModel",
      "state": {}
     },
     "8177f473e8f641b79269f0ae8dd689c0": {
      "model_module": "@jupyter-widgets/controls",
      "model_module_version": "1.1.0",
      "model_name": "LabelModel",
      "state": {
       "layout": "IPY_MODEL_cab1869c6d1a4ab0bb065fd99a0140ad",
       "style": "IPY_MODEL_604b16220d6048ea886bfe88261bdf85",
       "value": "Select the detector angles to plot."
      }
     },
     "818e25e4cb0b4fec929f25ceebdb701b": {
      "model_module": "@jupyter-widgets/controls",
      "model_module_version": "1.1.0",
      "model_name": "ToggleButtonsStyleModel",
      "state": {
       "button_width": "",
       "description_width": ""
      }
     },
     "81becc4e02154e5988583dc8e548ffe7": {
      "model_module": "@jupyter-widgets/controls",
      "model_module_version": "1.1.0",
      "model_name": "CheckboxModel",
      "state": {
       "description": "80°",
       "disabled": false,
       "layout": "IPY_MODEL_1bbba88cc5794cd1ad6b502097c723e9",
       "style": "IPY_MODEL_883d12cde93144b8aacc6b532828c93c",
       "value": true
      }
     },
     "81e8aa979cf448faa0b4652b1370aebf": {
      "model_module": "@jupyter-widgets/controls",
      "model_module_version": "1.1.0",
      "model_name": "LabelModel",
      "state": {
       "layout": "IPY_MODEL_44d3c41f87914e6faf2379147d847721",
       "style": "IPY_MODEL_ee9bc543bebf4a9d802fb91e73d1002f",
       "value": "Select the detector angles to plot."
      }
     },
     "820dfd5d872b4d25b9c5ff1f806a7c09": {
      "model_module": "@jupyter-widgets/base",
      "model_module_version": "1.0.0",
      "model_name": "LayoutModel",
      "state": {}
     },
     "823ff30f4d3648aca3a0c04c4d588ac5": {
      "model_module": "@jupyter-widgets/base",
      "model_module_version": "1.0.0",
      "model_name": "LayoutModel",
      "state": {}
     },
     "824e7021966a43c2bf175463c7dccf1a": {
      "model_module": "@jupyter-widgets/base",
      "model_module_version": "1.0.0",
      "model_name": "LayoutModel",
      "state": {}
     },
     "827c1636df9f4da3b9e26740c6b7ea19": {
      "model_module": "@jupyter-widgets/controls",
      "model_module_version": "1.1.0",
      "model_name": "ToggleButtonsStyleModel",
      "state": {
       "button_width": "",
       "description_width": ""
      }
     },
     "82f4562ddb4f464a84af5973022cc115": {
      "model_module": "@jupyter-widgets/base",
      "model_module_version": "1.0.0",
      "model_name": "LayoutModel",
      "state": {}
     },
     "82fdb15c3b674b6292666eda2a30a34b": {
      "model_module": "@jupyter-widgets/controls",
      "model_module_version": "1.1.0",
      "model_name": "DescriptionStyleModel",
      "state": {
       "description_width": ""
      }
     },
     "8343888407d44945ae56701f2e2d6087": {
      "model_module": "@jupyter-widgets/base",
      "model_module_version": "1.0.0",
      "model_name": "LayoutModel",
      "state": {}
     },
     "834837e439a34d1fa4c89cc1e7e18944": {
      "model_module": "@jupyter-widgets/controls",
      "model_module_version": "1.1.0",
      "model_name": "DescriptionStyleModel",
      "state": {
       "description_width": ""
      }
     },
     "8357b76f17874ba08f6bdb034c92d17c": {
      "model_module": "@jupyter-widgets/controls",
      "model_module_version": "1.1.0",
      "model_name": "CheckboxModel",
      "state": {
       "description": "30°",
       "disabled": false,
       "layout": "IPY_MODEL_b6afb6b7e2334252b59396dc1689c01a",
       "style": "IPY_MODEL_6301ab8a9251463b9ae21da49e69bd8c",
       "value": true
      }
     },
     "835d7d9788b141e0a8c4c72567a0dbba": {
      "model_module": "@jupyter-widgets/controls",
      "model_module_version": "1.1.0",
      "model_name": "CheckboxModel",
      "state": {
       "description": "135°",
       "disabled": false,
       "layout": "IPY_MODEL_156f2356d2f34394bd0ef2bbc9f4c5b0",
       "style": "IPY_MODEL_d31cfd5f4c5f4ce290a396164e3ede08",
       "value": true
      }
     },
     "8379ac78c8d5412a85b9e64f7b08a6f1": {
      "model_module": "@jupyter-widgets/controls",
      "model_module_version": "1.1.0",
      "model_name": "DescriptionStyleModel",
      "state": {
       "description_width": ""
      }
     },
     "83da75659ac840289928e9f49a3879c0": {
      "model_module": "@jupyter-widgets/controls",
      "model_module_version": "1.1.0",
      "model_name": "LabelModel",
      "state": {
       "layout": "IPY_MODEL_b430db24d0cc4ea682e31554dad28dba",
       "style": "IPY_MODEL_7eb78729568f4494b7bae7e61224211a",
       "value": "Select a detector type."
      }
     },
     "83ecc67c12c3465fb7265072610ef8c1": {
      "model_module": "@jupyter-widgets/controls",
      "model_module_version": "1.1.0",
      "model_name": "ToggleButtonsStyleModel",
      "state": {
       "button_width": "",
       "description_width": ""
      }
     },
     "840cc699269c453caf5255b94c01977e": {
      "model_module": "@jupyter-widgets/controls",
      "model_module_version": "1.1.0",
      "model_name": "DescriptionStyleModel",
      "state": {
       "description_width": ""
      }
     },
     "8457014aa34643e0a25eff2ec3f6e208": {
      "model_module": "@jupyter-widgets/controls",
      "model_module_version": "1.1.0",
      "model_name": "DescriptionStyleModel",
      "state": {
       "description_width": ""
      }
     },
     "846897d5be034873bc66dd9153ee457a": {
      "model_module": "@jupyter-widgets/controls",
      "model_module_version": "1.1.0",
      "model_name": "DescriptionStyleModel",
      "state": {
       "description_width": ""
      }
     },
     "84775fd52f4349bfb087eae261842288": {
      "model_module": "@jupyter-widgets/base",
      "model_module_version": "1.0.0",
      "model_name": "LayoutModel",
      "state": {}
     },
     "8477bf0938fe492299303381dfe3f762": {
      "model_module": "@jupyter-widgets/controls",
      "model_module_version": "1.1.0",
      "model_name": "DescriptionStyleModel",
      "state": {
       "description_width": ""
      }
     },
     "84966235c9f94f55bd3807f3ac243f7c": {
      "model_module": "@jupyter-widgets/base",
      "model_module_version": "1.0.0",
      "model_name": "LayoutModel",
      "state": {}
     },
     "849807397d89425fb0fc2d9642622f81": {
      "model_module": "@jupyter-widgets/controls",
      "model_module_version": "1.1.0",
      "model_name": "CheckboxModel",
      "state": {
       "description": "80°",
       "disabled": false,
       "layout": "IPY_MODEL_8842f6d0a5a0491caa3de1c702a30d3b",
       "style": "IPY_MODEL_be7c1d76834143be9f8d17152e78cf48",
       "value": true
      }
     },
     "849c532214cc497bb60d08a05f612cf5": {
      "model_module": "@jupyter-widgets/controls",
      "model_module_version": "1.1.0",
      "model_name": "DescriptionStyleModel",
      "state": {
       "description_width": ""
      }
     },
     "84bb49288518474f8493046eb8864d73": {
      "model_module": "@jupyter-widgets/controls",
      "model_module_version": "1.1.0",
      "model_name": "DescriptionStyleModel",
      "state": {
       "description_width": ""
      }
     },
     "84dfdf7825024918a2f24ccbc66d7913": {
      "model_module": "@jupyter-widgets/controls",
      "model_module_version": "1.1.0",
      "model_name": "CheckboxModel",
      "state": {
       "description": "12.7°",
       "disabled": false,
       "layout": "IPY_MODEL_20aad4b157da4f91bcbe7e43af14ce8c",
       "style": "IPY_MODEL_8379ac78c8d5412a85b9e64f7b08a6f1",
       "value": true
      }
     },
     "84e53c0a403b446f8596a153fde52f6a": {
      "model_module": "@jupyter-widgets/controls",
      "model_module_version": "1.1.0",
      "model_name": "DescriptionStyleModel",
      "state": {
       "description_width": ""
      }
     },
     "851d0803bb734f5cb54c8d637c457fd7": {
      "model_module": "@jupyter-widgets/base",
      "model_module_version": "1.0.0",
      "model_name": "LayoutModel",
      "state": {}
     },
     "8525d04351b346d6849bdfd4e5df9061": {
      "model_module": "@jupyter-widgets/controls",
      "model_module_version": "1.1.0",
      "model_name": "CheckboxModel",
      "state": {
       "description": "30°",
       "disabled": false,
       "layout": "IPY_MODEL_c15c7534a6b2413885d8a67c1a50e638",
       "style": "IPY_MODEL_68ea0c8040b549ddbf28ba9ea85eccfa",
       "value": true
      }
     },
     "8560a6f02b604d1bb2516e19618938a6": {
      "model_module": "@jupyter-widgets/controls",
      "model_module_version": "1.1.0",
      "model_name": "DescriptionStyleModel",
      "state": {
       "description_width": ""
      }
     },
     "858ff6cb153941629070dce3e8eab120": {
      "model_module": "@jupyter-widgets/base",
      "model_module_version": "1.0.0",
      "model_name": "LayoutModel",
      "state": {}
     },
     "85a02b30514244aaaf4f8a6d2a2c855b": {
      "model_module": "@jupyter-widgets/controls",
      "model_module_version": "1.1.0",
      "model_name": "DescriptionStyleModel",
      "state": {
       "description_width": ""
      }
     },
     "85abee9894c242df832fed752adf6975": {
      "model_module": "@jupyter-widgets/controls",
      "model_module_version": "1.1.0",
      "model_name": "CheckboxModel",
      "state": {
       "description": "30°",
       "disabled": false,
       "layout": "IPY_MODEL_71a09e2397ff40e9a0688a8973dcf554",
       "style": "IPY_MODEL_1acc6d4d97c0434783d57bd31fb7a9e1",
       "value": true
      }
     },
     "85f344bca2d2496c920f8d78b4cd6a77": {
      "model_module": "@jupyter-widgets/base",
      "model_module_version": "1.0.0",
      "model_name": "LayoutModel",
      "state": {}
     },
     "86238e72635d4f7cad9efa91d7a2965f": {
      "model_module": "@jupyter-widgets/controls",
      "model_module_version": "1.1.0",
      "model_name": "CheckboxModel",
      "state": {
       "description": "PHITS simulated",
       "disabled": false,
       "layout": "IPY_MODEL_62c0dff630c54a339359f4468590031f",
       "style": "IPY_MODEL_2fcfc7521e804977b7d8840c05e78ec0",
       "value": true
      }
     },
     "863893332e2e4a1ea3beeeb0e14183ca": {
      "model_module": "@jupyter-widgets/base",
      "model_module_version": "1.0.0",
      "model_name": "LayoutModel",
      "state": {}
     },
     "865a726d61fa47a29ff1bf6ab3cbb3c4": {
      "model_module": "@jupyter-widgets/controls",
      "model_module_version": "1.1.0",
      "model_name": "ToggleButtonsStyleModel",
      "state": {
       "button_width": "",
       "description_width": ""
      }
     },
     "868daa6a513c4483b385e724afc38db6": {
      "model_module": "@jupyter-widgets/base",
      "model_module_version": "1.0.0",
      "model_name": "LayoutModel",
      "state": {}
     },
     "86a57d3d44574ca59515581038955997": {
      "model_module": "@jupyter-widgets/controls",
      "model_module_version": "1.1.0",
      "model_name": "DescriptionStyleModel",
      "state": {
       "description_width": ""
      }
     },
     "86ed2da1ad2640358387caa4b333ce6a": {
      "model_module": "@jupyter-widgets/controls",
      "model_module_version": "1.1.0",
      "model_name": "CheckboxModel",
      "state": {
       "description": "60°",
       "disabled": false,
       "layout": "IPY_MODEL_0ebc3162b4da49f3a6d4f7aa043c52d9",
       "style": "IPY_MODEL_01cfdf7a65f047b8a4c617630919767c",
       "value": true
      }
     },
     "879adfc53a3c462a9c3d51cf55c1adbe": {
      "model_module": "@jupyter-widgets/base",
      "model_module_version": "1.0.0",
      "model_name": "LayoutModel",
      "state": {}
     },
     "87b03a1bc88941419b080527b7fd800c": {
      "model_module": "@jupyter-widgets/base",
      "model_module_version": "1.0.0",
      "model_name": "LayoutModel",
      "state": {}
     },
     "87b2e69948374bef9d1952c9e4a06f02": {
      "model_module": "@jupyter-widgets/base",
      "model_module_version": "1.0.0",
      "model_name": "LayoutModel",
      "state": {}
     },
     "87c459b78b604640909d7f732feb1b01": {
      "model_module": "@jupyter-widgets/base",
      "model_module_version": "1.0.0",
      "model_name": "LayoutModel",
      "state": {}
     },
     "87e57776ce1f4fd38470996dfe8cf8a5": {
      "model_module": "@jupyter-widgets/controls",
      "model_module_version": "1.1.0",
      "model_name": "DescriptionStyleModel",
      "state": {
       "description_width": ""
      }
     },
     "87e9155972b8434b99ed4584a1a99d02": {
      "model_module": "@jupyter-widgets/controls",
      "model_module_version": "1.1.0",
      "model_name": "DescriptionStyleModel",
      "state": {
       "description_width": ""
      }
     },
     "87f9d71af0c142c7b5caf8e56b9b61ca": {
      "model_module": "@jupyter-widgets/base",
      "model_module_version": "1.0.0",
      "model_name": "LayoutModel",
      "state": {}
     },
     "8822a20bc3f94d66ab0dbfabcd77d959": {
      "model_module": "@jupyter-widgets/base",
      "model_module_version": "1.0.0",
      "model_name": "LayoutModel",
      "state": {}
     },
     "883d12cde93144b8aacc6b532828c93c": {
      "model_module": "@jupyter-widgets/controls",
      "model_module_version": "1.1.0",
      "model_name": "DescriptionStyleModel",
      "state": {
       "description_width": ""
      }
     },
     "8842f6d0a5a0491caa3de1c702a30d3b": {
      "model_module": "@jupyter-widgets/base",
      "model_module_version": "1.0.0",
      "model_name": "LayoutModel",
      "state": {}
     },
     "884bb46f7a954ce38ebb5635c40a21d2": {
      "model_module": "@jupyter-widgets/controls",
      "model_module_version": "1.1.0",
      "model_name": "DescriptionStyleModel",
      "state": {
       "description_width": ""
      }
     },
     "8872a1a9dadf4cab9a7f77f2ceab455d": {
      "model_module": "@jupyter-widgets/controls",
      "model_module_version": "1.1.0",
      "model_name": "DescriptionStyleModel",
      "state": {
       "description_width": ""
      }
     },
     "88b9e2d96d2b4c85b34b1b94c3341b79": {
      "model_module": "@jupyter-widgets/controls",
      "model_module_version": "1.1.0",
      "model_name": "DescriptionStyleModel",
      "state": {
       "description_width": ""
      }
     },
     "88badcd0a32141a2ab5db6a4c4d052f2": {
      "model_module": "@jupyter-widgets/controls",
      "model_module_version": "1.1.0",
      "model_name": "ToggleButtonsModel",
      "state": {
       "_options_labels": [
        "N (¹n)",
        "NDC (¹n)",
        "P (¹H)",
        "D (²H)"
       ],
       "button_style": "",
       "description": "Particle:",
       "icons": [],
       "index": 0,
       "layout": "IPY_MODEL_a4943de1efff43359180753e2490e53e",
       "style": "IPY_MODEL_6edb3e911d44441787d5be281679c7dd",
       "tooltips": [
        "Neutron",
        "Back Target Neutron",
        "Proton",
        "Deuteron"
       ]
      }
     },
     "88c16b0b83314b6692444ec6c22caa7f": {
      "model_module": "@jupyter-widgets/base",
      "model_module_version": "1.0.0",
      "model_name": "LayoutModel",
      "state": {}
     },
     "88cc195b5f6e4901bf6a0871b8ac57ab": {
      "model_module": "@jupyter-widgets/controls",
      "model_module_version": "1.1.0",
      "model_name": "DescriptionStyleModel",
      "state": {
       "description_width": ""
      }
     },
     "88cfa02151b34707990f8b6da4262858": {
      "model_module": "@jupyter-widgets/base",
      "model_module_version": "1.0.0",
      "model_name": "LayoutModel",
      "state": {}
     },
     "88ec45f597ab4cb1bda495f8be2aab17": {
      "model_module": "@jupyter-widgets/controls",
      "model_module_version": "1.1.0",
      "model_name": "LabelModel",
      "state": {
       "layout": "IPY_MODEL_f5ba8d79d7ac4a828e421fac15ac3d7a",
       "style": "IPY_MODEL_bf33cefc9a6c478fadc7163128193859",
       "value": "Select upstream target mass thickness."
      }
     },
     "8916808f573642e7a06afcd05d759af7": {
      "model_module": "@jupyter-widgets/controls",
      "model_module_version": "1.1.0",
      "model_name": "ToggleButtonsStyleModel",
      "state": {
       "button_width": "",
       "description_width": ""
      }
     },
     "89466c02b68748f8a436e8f91ceaa1c8": {
      "model_module": "@jupyter-widgets/controls",
      "model_module_version": "1.1.0",
      "model_name": "DescriptionStyleModel",
      "state": {
       "description_width": ""
      }
     },
     "895dda77f3cb4de99e970f760d35c69c": {
      "model_module": "@jupyter-widgets/controls",
      "model_module_version": "1.1.0",
      "model_name": "LabelModel",
      "state": {
       "layout": "IPY_MODEL_f46e27ea0a14453184f192527874afb7",
       "style": "IPY_MODEL_4b395f57c6674e77b411277989eacd52",
       "value": "Select which secondary particle to plot spectra for."
      }
     },
     "89ba51ac47ff491199111cd3336fdf93": {
      "model_module": "@jupyter-widgets/controls",
      "model_module_version": "1.1.0",
      "model_name": "DescriptionStyleModel",
      "state": {
       "description_width": ""
      }
     },
     "89d72556cc82438b93784ed100e9f5fc": {
      "model_module": "@jupyter-widgets/base",
      "model_module_version": "1.0.0",
      "model_name": "LayoutModel",
      "state": {}
     },
     "89eda586ef094d9e9d2cbe3f9c364b32": {
      "model_module": "@jupyter-widgets/controls",
      "model_module_version": "1.1.0",
      "model_name": "DescriptionStyleModel",
      "state": {
       "description_width": ""
      }
     },
     "8a3b8c64c63d4cc69d1a3a9b9f3d1edb": {
      "model_module": "@jupyter-widgets/controls",
      "model_module_version": "1.1.0",
      "model_name": "DescriptionStyleModel",
      "state": {
       "description_width": ""
      }
     },
     "8a8a3c66e387487d94d40df8daf3abec": {
      "model_module": "@jupyter-widgets/controls",
      "model_module_version": "1.1.0",
      "model_name": "ToggleButtonsStyleModel",
      "state": {
       "button_width": "",
       "description_width": ""
      }
     },
     "8b0eefb472c1489c9499bfca2575e77e": {
      "model_module": "@jupyter-widgets/base",
      "model_module_version": "1.0.0",
      "model_name": "LayoutModel",
      "state": {}
     },
     "8b392c0326854e5f93df8f993af5595f": {
      "model_module": "@jupyter-widgets/base",
      "model_module_version": "1.0.0",
      "model_name": "LayoutModel",
      "state": {}
     },
     "8b54b65353c24895a98b93779b430b43": {
      "model_module": "@jupyter-widgets/base",
      "model_module_version": "1.0.0",
      "model_name": "LayoutModel",
      "state": {}
     },
     "8b743d4952b248f7a36eb844c64b0788": {
      "model_module": "@jupyter-widgets/controls",
      "model_module_version": "1.1.0",
      "model_name": "DescriptionStyleModel",
      "state": {
       "description_width": ""
      }
     },
     "8bf2cf1a62d347b9847c01e5c3ab98b8": {
      "model_module": "@jupyter-widgets/controls",
      "model_module_version": "1.1.0",
      "model_name": "LabelModel",
      "state": {
       "layout": "IPY_MODEL_e6eec0d2d30c40cf81d419a89626b114",
       "style": "IPY_MODEL_4524981b64cd4317b83daa649d2fcda4",
       "value": "Select the detector angles to plot."
      }
     },
     "8c34c6dc7c9546548bfd9254a9e4b92d": {
      "model_module": "@jupyter-widgets/controls",
      "model_module_version": "1.1.0",
      "model_name": "LabelModel",
      "state": {
       "layout": "IPY_MODEL_bbfdb7e282fb4cf7a8c4f45ee8f7158b",
       "style": "IPY_MODEL_61906c76664a41d496cc06fad94da3da",
       "value": "Select which secondary particle to plot spectra for."
      }
     },
     "8c95c3d262bc46fa8546c9b5b76e652e": {
      "model_module": "@jupyter-widgets/controls",
      "model_module_version": "1.1.0",
      "model_name": "ToggleButtonsStyleModel",
      "state": {
       "button_width": "",
       "description_width": ""
      }
     },
     "8d01d2f5c2274b13984798d5294ef8a5": {
      "model_module": "@jupyter-widgets/base",
      "model_module_version": "1.0.0",
      "model_name": "LayoutModel",
      "state": {}
     },
     "8d81ca9c965a499a8da95886d9bab78d": {
      "model_module": "@jupyter-widgets/controls",
      "model_module_version": "1.1.0",
      "model_name": "CheckboxModel",
      "state": {
       "description": "32.7°",
       "disabled": false,
       "layout": "IPY_MODEL_3619c3db11734ddeae8b2aa3f02f7023",
       "style": "IPY_MODEL_fe443f51af184df68b3c56cf06f77457",
       "value": true
      }
     },
     "8d940d9289e04dd1a510e39ef6872793": {
      "model_module": "@jupyter-widgets/base",
      "model_module_version": "1.0.0",
      "model_name": "LayoutModel",
      "state": {}
     },
     "8de4e7cb679a44798964a2c36f75b7a3": {
      "model_module": "@jupyter-widgets/base",
      "model_module_version": "1.0.0",
      "model_name": "LayoutModel",
      "state": {}
     },
     "8e0c320fd5734317bb5f0a4dcabe63e9": {
      "model_module": "@jupyter-widgets/controls",
      "model_module_version": "1.1.0",
      "model_name": "DescriptionStyleModel",
      "state": {
       "description_width": ""
      }
     },
     "8e7f2696ab6a4fb79016841dd4e1fa51": {
      "model_module": "@jupyter-widgets/controls",
      "model_module_version": "1.1.0",
      "model_name": "DescriptionStyleModel",
      "state": {
       "description_width": ""
      }
     },
     "8e949d24e566410ab568643397076396": {
      "model_module": "@jupyter-widgets/controls",
      "model_module_version": "1.1.0",
      "model_name": "ToggleButtonsStyleModel",
      "state": {
       "button_width": "",
       "description_width": ""
      }
     },
     "8ea468f235574c918668b197248fbf7d": {
      "model_module": "@jupyter-widgets/base",
      "model_module_version": "1.0.0",
      "model_name": "LayoutModel",
      "state": {}
     },
     "8ec9509eb399439fb841e212539d7916": {
      "model_module": "@jupyter-widgets/controls",
      "model_module_version": "1.1.0",
      "model_name": "DescriptionStyleModel",
      "state": {
       "description_width": ""
      }
     },
     "8ed8b650b26e42d68204f2548436e14e": {
      "model_module": "@jupyter-widgets/controls",
      "model_module_version": "1.1.0",
      "model_name": "LabelModel",
      "state": {
       "layout": "IPY_MODEL_96f8ada5036e47b0bc92769bee94fae2",
       "style": "IPY_MODEL_e9543b4dab854cd4b3dc337b87fddb83",
       "value": "Select which secondary particle to plot spectra for."
      }
     },
     "8f29115be0cc42ca9b36a84cc9c75532": {
      "model_module": "@jupyter-widgets/controls",
      "model_module_version": "1.1.0",
      "model_name": "DescriptionStyleModel",
      "state": {
       "description_width": ""
      }
     },
     "8f66d762f6184414a9714cfc226381c1": {
      "model_module": "@jupyter-widgets/base",
      "model_module_version": "1.0.0",
      "model_name": "LayoutModel",
      "state": {}
     },
     "901472da340a4126b55be6bd6bcbdd1e": {
      "model_module": "@jupyter-widgets/controls",
      "model_module_version": "1.1.0",
      "model_name": "CheckboxModel",
      "state": {
       "description": "Experiment",
       "disabled": false,
       "layout": "IPY_MODEL_ebf7af92aa6d4d2d90ea7cdae6b2bd84",
       "style": "IPY_MODEL_8a3b8c64c63d4cc69d1a3a9b9f3d1edb",
       "value": true
      }
     },
     "90182fc3b98247dda06477453d580c02": {
      "model_module": "@jupyter-widgets/controls",
      "model_module_version": "1.1.0",
      "model_name": "DescriptionStyleModel",
      "state": {
       "description_width": ""
      }
     },
     "9068b5b316bf413bac4f0c0b2795de4c": {
      "model_module": "@jupyter-widgets/base",
      "model_module_version": "1.0.0",
      "model_name": "LayoutModel",
      "state": {}
     },
     "90d0ad0b2cd144658a89409c7d844d9d": {
      "model_module": "@jupyter-widgets/base",
      "model_module_version": "1.0.0",
      "model_name": "LayoutModel",
      "state": {}
     },
     "90ffbeb101af4bbd90b16067566474bf": {
      "model_module": "@jupyter-widgets/controls",
      "model_module_version": "1.1.0",
      "model_name": "ToggleButtonsModel",
      "state": {
       "_options_labels": [
        "N (¹n)",
        "NDC (¹n)",
        "P (¹H)",
        "D (²H)"
       ],
       "button_style": "",
       "description": "Type:",
       "icons": [],
       "index": 0,
       "layout": "IPY_MODEL_b607a8a1011f41e79657979eed2d5d47",
       "style": "IPY_MODEL_25a2ab9d4a05493d9ee1a481e7e8e612",
       "tooltips": [
        "Neutron",
        "Back Target Neutron",
        "Proton",
        "Deuteron"
       ]
      }
     },
     "914b47eafde94b19a9df65661a32de0e": {
      "model_module": "@jupyter-widgets/controls",
      "model_module_version": "1.1.0",
      "model_name": "LabelModel",
      "state": {
       "layout": "IPY_MODEL_fa76e56acdcd41718e0b25ba2bd643c5",
       "style": "IPY_MODEL_d8795ba803974c8c92ae1d6df80faf43",
       "value": "Select upstream target material and thickness."
      }
     },
     "915d6af61552476999a0a8e8c145399a": {
      "model_module": "@jupyter-widgets/controls",
      "model_module_version": "1.1.0",
      "model_name": "CheckboxModel",
      "state": {
       "description": "PHITS simulated",
       "disabled": false,
       "layout": "IPY_MODEL_5d11473ee0a449d0b93f46057bb10c7e",
       "style": "IPY_MODEL_c0499be5ef594524a3196add15ece8df",
       "value": true
      }
     },
     "9168e8c662ad4823a334127694bb01e1": {
      "model_module": "@jupyter-widgets/controls",
      "model_module_version": "1.1.0",
      "model_name": "ButtonModel",
      "state": {
       "button_style": "success",
       "description": "Update plot",
       "icon": "paint-brush",
       "layout": "IPY_MODEL_c760664bc998443bb84932afb31eaad6",
       "style": "IPY_MODEL_7356676fed21406e8f081dbe6e0a505a",
       "tooltip": "Click to redraw the plot below with updated options from above."
      }
     },
     "9180d374d3b3454293724d57c1893023": {
      "model_module": "@jupyter-widgets/controls",
      "model_module_version": "1.1.0",
      "model_name": "DescriptionStyleModel",
      "state": {
       "description_width": ""
      }
     },
     "9205c477a1be4469b22d1997d942407d": {
      "model_module": "@jupyter-widgets/base",
      "model_module_version": "1.0.0",
      "model_name": "LayoutModel",
      "state": {}
     },
     "92154e0fd2d046869b4d0e4406a04164": {
      "model_module": "@jupyter-widgets/controls",
      "model_module_version": "1.1.0",
      "model_name": "DescriptionStyleModel",
      "state": {
       "description_width": ""
      }
     },
     "92189b9cf45c4ed08fd8dd8ba2c3c3cf": {
      "model_module": "@jupyter-widgets/controls",
      "model_module_version": "1.1.0",
      "model_name": "CheckboxModel",
      "state": {
       "description": "45°",
       "disabled": false,
       "layout": "IPY_MODEL_fb2e1b8ea9c74243b274d3c0c73fb9f8",
       "style": "IPY_MODEL_c8211cb6300e44fa966325786ab29b71",
       "value": true
      }
     },
     "922f9e22784b4ae2bb657e36623d08f7": {
      "model_module": "@jupyter-widgets/base",
      "model_module_version": "1.0.0",
      "model_name": "LayoutModel",
      "state": {}
     },
     "92968da7fb804ac7905e1727770190f9": {
      "model_module": "@jupyter-widgets/controls",
      "model_module_version": "1.1.0",
      "model_name": "CheckboxModel",
      "state": {
       "description": "30°",
       "disabled": false,
       "layout": "IPY_MODEL_4b313ade035346c08238c3d82576da2f",
       "style": "IPY_MODEL_bcb669779e704f5bbc7005e2a8fe5f34",
       "value": true
      }
     },
     "92f2d639f6fa407dbcd48928ff1edcf4": {
      "model_module": "@jupyter-widgets/controls",
      "model_module_version": "1.1.0",
      "model_name": "LabelModel",
      "state": {
       "layout": "IPY_MODEL_48d6a29de3fe4b21a4933651013ca17c",
       "style": "IPY_MODEL_a410023c692b43789d99c69fccbf3d0c",
       "value": "Select the detector angles to plot."
      }
     },
     "93187ff29a454bffa64ddd10403e4b64": {
      "model_module": "@jupyter-widgets/controls",
      "model_module_version": "1.1.0",
      "model_name": "DescriptionStyleModel",
      "state": {
       "description_width": ""
      }
     },
     "933c72475e084d81ac77d6da3209cd71": {
      "model_module": "@jupyter-widgets/base",
      "model_module_version": "1.0.0",
      "model_name": "LayoutModel",
      "state": {}
     },
     "93943ba745a54fbdb76d8f83ca68e798": {
      "model_module": "@jupyter-widgets/controls",
      "model_module_version": "1.1.0",
      "model_name": "CheckboxModel",
      "state": {
       "description": "60°",
       "disabled": false,
       "layout": "IPY_MODEL_35c7769a9a5642218152dd0a873130f5",
       "style": "IPY_MODEL_82fdb15c3b674b6292666eda2a30a34b",
       "value": true
      }
     },
     "94435b3fbd774ecb9620eeafcda40e7b": {
      "model_module": "@jupyter-widgets/base",
      "model_module_version": "1.0.0",
      "model_name": "LayoutModel",
      "state": {}
     },
     "94458a1ede7b40a59b7adde0d00b199b": {
      "model_module": "@jupyter-widgets/base",
      "model_module_version": "1.0.0",
      "model_name": "LayoutModel",
      "state": {}
     },
     "945fd25c30d0494197276661c03dc671": {
      "model_module": "@jupyter-widgets/base",
      "model_module_version": "1.0.0",
      "model_name": "LayoutModel",
      "state": {}
     },
     "94b023f46072463da950114129668831": {
      "model_module": "@jupyter-widgets/controls",
      "model_module_version": "1.1.0",
      "model_name": "DescriptionStyleModel",
      "state": {
       "description_width": ""
      }
     },
     "94cb113af46b4b27bba6ea5bb092f01a": {
      "model_module": "@jupyter-widgets/controls",
      "model_module_version": "1.1.0",
      "model_name": "LabelModel",
      "state": {
       "layout": "IPY_MODEL_17bae485d4da4ee1af714e9f524d5da1",
       "style": "IPY_MODEL_fcdc8c835ef542a39bbe81e117c15446",
       "value": "Select how data sets for each detector should be spaced apart (if at all)."
      }
     },
     "94d08ba6cbcb4a43af16990ab2c249cd": {
      "model_module": "@jupyter-widgets/controls",
      "model_module_version": "1.1.0",
      "model_name": "CheckboxModel",
      "state": {
       "description": "80°",
       "disabled": false,
       "layout": "IPY_MODEL_d9cc632b94b840ef8142b19040133b67",
       "style": "IPY_MODEL_44e313e4526743ceb8af6da255f65ad1",
       "value": true
      }
     },
     "94da22d978d74dd581dee928434555b2": {
      "model_module": "@jupyter-widgets/controls",
      "model_module_version": "1.1.0",
      "model_name": "CheckboxModel",
      "state": {
       "description": "80°",
       "disabled": false,
       "layout": "IPY_MODEL_6875058ca28d415ebf3402c09385b7de",
       "style": "IPY_MODEL_05d44f7bd9aa41a9b3174967dca3017e",
       "value": true
      }
     },
     "94f922cfd08645dbadb59353c980e910": {
      "model_module": "@jupyter-widgets/controls",
      "model_module_version": "1.1.0",
      "model_name": "DescriptionStyleModel",
      "state": {
       "description_width": ""
      }
     },
     "95bf02f7406a4d3195351765c5517c43": {
      "model_module": "@jupyter-widgets/controls",
      "model_module_version": "1.1.0",
      "model_name": "DescriptionStyleModel",
      "state": {
       "description_width": ""
      }
     },
     "95fa7347cc184ca68dc4e17717d1ea43": {
      "model_module": "@jupyter-widgets/controls",
      "model_module_version": "1.1.0",
      "model_name": "DescriptionStyleModel",
      "state": {
       "description_width": ""
      }
     },
     "9615104881154fcfa004fddcec99c116": {
      "model_module": "@jupyter-widgets/controls",
      "model_module_version": "1.1.0",
      "model_name": "DescriptionStyleModel",
      "state": {
       "description_width": ""
      }
     },
     "9628c678b21e4fbd866813c76412cb27": {
      "model_module": "@jupyter-widgets/controls",
      "model_module_version": "1.1.0",
      "model_name": "LabelModel",
      "state": {
       "layout": "IPY_MODEL_34f5e5e0307f417ea79d6d97d9afd5f1",
       "style": "IPY_MODEL_a3226dc7be214e14b368365138b0cf25",
       "value": "Select the detector angles to plot."
      }
     },
     "967b141189f74ccab36ab8014846abc2": {
      "model_module": "@jupyter-widgets/controls",
      "model_module_version": "1.1.0",
      "model_name": "ToggleButtonsStyleModel",
      "state": {
       "button_width": "",
       "description_width": ""
      }
     },
     "968d972512a14609a9d52d3d9e1341ca": {
      "model_module": "@jupyter-widgets/controls",
      "model_module_version": "1.1.0",
      "model_name": "DescriptionStyleModel",
      "state": {
       "description_width": ""
      }
     },
     "96da12b143364498a1f8e79fa09113ba": {
      "model_module": "@jupyter-widgets/base",
      "model_module_version": "1.0.0",
      "model_name": "LayoutModel",
      "state": {}
     },
     "96f8ada5036e47b0bc92769bee94fae2": {
      "model_module": "@jupyter-widgets/base",
      "model_module_version": "1.0.0",
      "model_name": "LayoutModel",
      "state": {}
     },
     "971f0dbff63f4d7081c8ea05f263b00d": {
      "model_module": "@jupyter-widgets/controls",
      "model_module_version": "1.1.0",
      "model_name": "ToggleButtonsModel",
      "state": {
       "_options_labels": [
        "N (¹n)",
        "NDC (¹n)",
        "P (¹H)",
        "D (²H)",
        "T (³H)",
        "S (³He)",
        "A (⁴He)"
       ],
       "button_style": "",
       "description": "Type:",
       "icons": [],
       "index": 3,
       "layout": "IPY_MODEL_1d72fdf622c6443bb22fe880f8a2aa5c",
       "style": "IPY_MODEL_8c95c3d262bc46fa8546c9b5b76e652e",
       "tooltips": [
        "Neutron",
        "Back Target Neutron",
        "Proton",
        "Deuteron",
        "Triton",
        "Helium-3",
        "Helium-4"
       ]
      }
     },
     "9730523592704f18b6013cd438afad49": {
      "model_module": "@jupyter-widgets/controls",
      "model_module_version": "1.1.0",
      "model_name": "LabelModel",
      "state": {
       "layout": "IPY_MODEL_89d72556cc82438b93784ed100e9f5fc",
       "style": "IPY_MODEL_078ada0077324c248ec853179331469f",
       "value": "Select projectile ion energy."
      }
     },
     "978237f274d2476b8418648f0228b9e7": {
      "model_module": "@jupyter-widgets/base",
      "model_module_version": "1.0.0",
      "model_name": "LayoutModel",
      "state": {}
     },
     "97943902601a413d9513a4e7bec6f8a8": {
      "model_module": "@jupyter-widgets/base",
      "model_module_version": "1.0.0",
      "model_name": "LayoutModel",
      "state": {}
     },
     "97954afcbea94f4f9fc07ecfe9a9f91d": {
      "model_module": "@jupyter-widgets/base",
      "model_module_version": "1.0.0",
      "model_name": "LayoutModel",
      "state": {}
     },
     "9796719f62764bd8bbf944fa40f90650": {
      "model_module": "@jupyter-widgets/controls",
      "model_module_version": "1.1.0",
      "model_name": "CheckboxModel",
      "state": {
       "description": "45°",
       "disabled": false,
       "layout": "IPY_MODEL_2fdaee955b814f53adcb0097d9ca7d0a",
       "style": "IPY_MODEL_03712579db5b417eb16f345eff7e67a8",
       "value": true
      }
     },
     "97998ff7c23540418583446728836fec": {
      "model_module": "@jupyter-widgets/controls",
      "model_module_version": "1.1.0",
      "model_name": "DescriptionStyleModel",
      "state": {
       "description_width": ""
      }
     },
     "97c4e769ee4341f494407bde8dbce5c5": {
      "model_module": "@jupyter-widgets/controls",
      "model_module_version": "1.1.0",
      "model_name": "LabelModel",
      "state": {
       "layout": "IPY_MODEL_fa1bd53915424fa1ab587c57ab48f080",
       "style": "IPY_MODEL_aa1a47aaec0f414d8480b69918503e93",
       "value": "Select upstream target mass thickness."
      }
     },
     "97e099afd8e64083a0da0bf3c9205a3b": {
      "model_module": "@jupyter-widgets/controls",
      "model_module_version": "1.1.0",
      "model_name": "CheckboxModel",
      "state": {
       "description": "60°",
       "disabled": false,
       "layout": "IPY_MODEL_2c1995101fa74608bb3c56edc2c8d1c6",
       "style": "IPY_MODEL_0f64b367e84944c6bb9f39de60b04729",
       "value": true
      }
     },
     "981cdde308eb4481983d9a466e0bac36": {
      "model_module": "@jupyter-widgets/base",
      "model_module_version": "1.0.0",
      "model_name": "LayoutModel",
      "state": {}
     },
     "98237bf22d114ff39d165b4678e54734": {
      "model_module": "@jupyter-widgets/controls",
      "model_module_version": "1.1.0",
      "model_name": "DescriptionStyleModel",
      "state": {
       "description_width": ""
      }
     },
     "9871518fbb424f9fb82122b1118f1676": {
      "model_module": "@jupyter-widgets/base",
      "model_module_version": "1.0.0",
      "model_name": "LayoutModel",
      "state": {}
     },
     "9872c102cabd49cdb5f48220b334548f": {
      "model_module": "@jupyter-widgets/base",
      "model_module_version": "1.0.0",
      "model_name": "LayoutModel",
      "state": {}
     },
     "98753889ae644f97a385da2841d81ec5": {
      "model_module": "@jupyter-widgets/base",
      "model_module_version": "1.0.0",
      "model_name": "LayoutModel",
      "state": {}
     },
     "98c085b49e204c9f976cb4af179fae94": {
      "model_module": "@jupyter-widgets/controls",
      "model_module_version": "1.1.0",
      "model_name": "DescriptionStyleModel",
      "state": {
       "description_width": ""
      }
     },
     "9935277d35c1402bb49416768a7b9ce1": {
      "model_module": "@jupyter-widgets/base",
      "model_module_version": "1.0.0",
      "model_name": "LayoutModel",
      "state": {}
     },
     "994c2a00c9b5436b91b975bafd760584": {
      "model_module": "@jupyter-widgets/base",
      "model_module_version": "1.0.0",
      "model_name": "LayoutModel",
      "state": {}
     },
     "99b698eb56d747a4b5796dc5533fe444": {
      "model_module": "@jupyter-widgets/base",
      "model_module_version": "1.0.0",
      "model_name": "LayoutModel",
      "state": {}
     },
     "9a0974ca170a48b6b4a0fcc84a2a35a4": {
      "model_module": "@jupyter-widgets/controls",
      "model_module_version": "1.1.0",
      "model_name": "ToggleButtonsStyleModel",
      "state": {
       "button_width": "",
       "description_width": ""
      }
     },
     "9a1f984c3c80443292067dab89b6fd20": {
      "model_module": "@jupyter-widgets/base",
      "model_module_version": "1.0.0",
      "model_name": "LayoutModel",
      "state": {}
     },
     "9a4aa930bbde477c81a91da2625757c7": {
      "model_module": "@jupyter-widgets/controls",
      "model_module_version": "1.1.0",
      "model_name": "CheckboxModel",
      "state": {
       "description": "60°",
       "disabled": false,
       "layout": "IPY_MODEL_aa9ce7dc21004692afd0bf9d3f368c59",
       "style": "IPY_MODEL_bb9f995dec93484fbc27fa706f5fd3f1",
       "value": true
      }
     },
     "9a782c49ef184e6187246afe41090552": {
      "model_module": "@jupyter-widgets/controls",
      "model_module_version": "1.1.0",
      "model_name": "DescriptionStyleModel",
      "state": {
       "description_width": ""
      }
     },
     "9b14279d18ab4f00abe0cb962671e9ff": {
      "model_module": "@jupyter-widgets/controls",
      "model_module_version": "1.1.0",
      "model_name": "CheckboxModel",
      "state": {
       "description": "10°",
       "disabled": false,
       "layout": "IPY_MODEL_1ea81ce3204a4d4c865e413aa9de17b2",
       "style": "IPY_MODEL_baa9ddbc265546269ba4c9d6de39ae5a",
       "value": true
      }
     },
     "9b80b536f8134456afcfab7a234face8": {
      "model_module": "@jupyter-widgets/controls",
      "model_module_version": "1.1.0",
      "model_name": "DescriptionStyleModel",
      "state": {
       "description_width": ""
      }
     },
     "9b930e4743cd49ad892e2565cb83d894": {
      "model_module": "@jupyter-widgets/controls",
      "model_module_version": "1.1.0",
      "model_name": "DescriptionStyleModel",
      "state": {
       "description_width": ""
      }
     },
     "9bc2ba7a19f74af4ae4a126910a7c81b": {
      "model_module": "@jupyter-widgets/controls",
      "model_module_version": "1.1.0",
      "model_name": "DescriptionStyleModel",
      "state": {
       "description_width": ""
      }
     },
     "9c0fbf4338534d459b3867084725c7ec": {
      "model_module": "@jupyter-widgets/controls",
      "model_module_version": "1.1.0",
      "model_name": "DescriptionStyleModel",
      "state": {
       "description_width": ""
      }
     },
     "9c2341159be54ea0a13ff26b90f2c396": {
      "model_module": "@jupyter-widgets/base",
      "model_module_version": "1.0.0",
      "model_name": "LayoutModel",
      "state": {}
     },
     "9c3d1a868c3744808e6abb20b62e5b3c": {
      "model_module": "@jupyter-widgets/base",
      "model_module_version": "1.0.0",
      "model_name": "LayoutModel",
      "state": {}
     },
     "9c67b4d755aa4501a1ed4aaaa4694fee": {
      "model_module": "@jupyter-widgets/controls",
      "model_module_version": "1.1.0",
      "model_name": "LabelModel",
      "state": {
       "layout": "IPY_MODEL_d656614de7e54e42afa5eab1410a0eca",
       "style": "IPY_MODEL_c55be318b618401aa49426e531b98d5a",
       "value": "Select which secondary particle to plot spectra for."
      }
     },
     "9c750331100c4339ba5cdad0d8689798": {
      "model_module": "@jupyter-widgets/controls",
      "model_module_version": "1.1.0",
      "model_name": "DescriptionStyleModel",
      "state": {
       "description_width": ""
      }
     },
     "9d2ca49e71084fcebda49271927b97a7": {
      "model_module": "@jupyter-widgets/controls",
      "model_module_version": "1.1.0",
      "model_name": "CheckboxModel",
      "state": {
       "description": "10°",
       "disabled": false,
       "layout": "IPY_MODEL_676c9ec4db9c4580a6d02dba2ee14cc3",
       "style": "IPY_MODEL_236665dcbcc84145aec131dc47a4833b",
       "value": true
      }
     },
     "9d4af918c79e4649b91b52b135f6205d": {
      "model_module": "@jupyter-widgets/controls",
      "model_module_version": "1.1.0",
      "model_name": "DescriptionStyleModel",
      "state": {
       "description_width": ""
      }
     },
     "9d7a1428bf78413ab9bb86941080f268": {
      "model_module": "@jupyter-widgets/base",
      "model_module_version": "1.0.0",
      "model_name": "LayoutModel",
      "state": {}
     },
     "9dd994dfe1494c828611dab8b7c1157e": {
      "model_module": "@jupyter-widgets/base",
      "model_module_version": "1.0.0",
      "model_name": "LayoutModel",
      "state": {}
     },
     "9de6726f2e004bd3877caf19cbe4426f": {
      "model_module": "@jupyter-widgets/controls",
      "model_module_version": "1.1.0",
      "model_name": "DescriptionStyleModel",
      "state": {
       "description_width": ""
      }
     },
     "9df5e30e52af4895a58f44d6d6a0c613": {
      "model_module": "@jupyter-widgets/controls",
      "model_module_version": "1.1.0",
      "model_name": "LabelModel",
      "state": {
       "layout": "IPY_MODEL_7226f67f91d7466385caf9785e71e0e7",
       "style": "IPY_MODEL_5eae71481201469a9f41f176634ff53e",
       "value": "Select which secondary particle to plot spectra for."
      }
     },
     "9e2c6f63a265431299c9ca9a10934306": {
      "model_module": "@jupyter-widgets/controls",
      "model_module_version": "1.1.0",
      "model_name": "ToggleButtonsModel",
      "state": {
       "_options_labels": [
        "400 MeV",
        "800 MeV",
        "2500 MeV"
       ],
       "button_style": "",
       "description": "Energy:",
       "icons": [],
       "index": 0,
       "layout": "IPY_MODEL_71b7722d056a4b0f8361f2d9d50b1a9f",
       "style": "IPY_MODEL_db5db616c7af47308fb873261c5e5e7b",
       "tooltips": [
        "lowest energy",
        "middle energy",
        "highest energy"
       ]
      }
     },
     "9e2e9bfe6f124f16b3ccb2a441fd477c": {
      "model_module": "@jupyter-widgets/controls",
      "model_module_version": "1.1.0",
      "model_name": "LabelModel",
      "state": {
       "layout": "IPY_MODEL_da1ae399ff994bd6917366e2a1af5b33",
       "style": "IPY_MODEL_431cb5160efb42c1be6d872d56c3b795",
       "value": "Select which secondary particle to plot spectra for."
      }
     },
     "9e70dabc9cec4089a4b8308037cdecb1": {
      "model_module": "@jupyter-widgets/base",
      "model_module_version": "1.0.0",
      "model_name": "LayoutModel",
      "state": {}
     },
     "9e76e71b2ce946968f7ea2d6d5db2441": {
      "model_module": "@jupyter-widgets/base",
      "model_module_version": "1.0.0",
      "model_name": "LayoutModel",
      "state": {}
     },
     "9e9d3da6a114417db755081c1119c914": {
      "model_module": "@jupyter-widgets/controls",
      "model_module_version": "1.1.0",
      "model_name": "ToggleButtonsModel",
      "state": {
       "_options_labels": [
        "N (¹n)",
        "NDC (¹n)",
        "P (¹H)",
        "D (²H)",
        "T (³H)",
        "S (³He)",
        "A (⁴He)"
       ],
       "button_style": "",
       "description": "Type:",
       "icons": [],
       "index": 0,
       "layout": "IPY_MODEL_61335b6f99b3431594c37c7bacfd72c9",
       "style": "IPY_MODEL_1abe2f30b79f4701a9f94cf1a438e122",
       "tooltips": [
        "Neutron",
        "Back Target Neutron",
        "Proton",
        "Deuteron",
        "Triton",
        "Helium-3",
        "Helium-4"
       ]
      }
     },
     "9eba4cf6274048188693b18ae48e4e52": {
      "model_module": "@jupyter-widgets/base",
      "model_module_version": "1.0.0",
      "model_name": "LayoutModel",
      "state": {}
     },
     "9ebc4e97c55b459f85d9b769bce74ce0": {
      "model_module": "@jupyter-widgets/base",
      "model_module_version": "1.0.0",
      "model_name": "LayoutModel",
      "state": {}
     },
     "9ecc5a915ae742e0a270e8e6ff0bf4bd": {
      "model_module": "@jupyter-widgets/base",
      "model_module_version": "1.0.0",
      "model_name": "LayoutModel",
      "state": {}
     },
     "9f10af26b0b44a58a854ace8e990c731": {
      "model_module": "@jupyter-widgets/base",
      "model_module_version": "1.0.0",
      "model_name": "LayoutModel",
      "state": {}
     },
     "9f147ccc43bd4e22aacf7fd9d70c69e9": {
      "model_module": "@jupyter-widgets/controls",
      "model_module_version": "1.1.0",
      "model_name": "LabelModel",
      "state": {
       "layout": "IPY_MODEL_de211141ed4840f4b0dbc62e00d0f764",
       "style": "IPY_MODEL_0cc5ed2fc18449fb9cdba5cdc70bab69",
       "value": "Select which secondary particle to plot spectra for."
      }
     },
     "9f3f0ab9fa1442c490c91b91cf27c121": {
      "model_module": "@jupyter-widgets/controls",
      "model_module_version": "1.1.0",
      "model_name": "LabelModel",
      "state": {
       "layout": "IPY_MODEL_2e428f21ef224ed19a67939436536d65",
       "style": "IPY_MODEL_1e80c9c610b14a8cbdf136d7def2e4a6",
       "value": "Select which secondary particle to plot spectra for."
      }
     },
     "9fb91dc68d1e42289c11d12858d52439": {
      "model_module": "@jupyter-widgets/controls",
      "model_module_version": "1.1.0",
      "model_name": "DescriptionStyleModel",
      "state": {
       "description_width": ""
      }
     },
     "9fc3301f6be746b3b12b26b043f73985": {
      "model_module": "@jupyter-widgets/base",
      "model_module_version": "1.0.0",
      "model_name": "LayoutModel",
      "state": {}
     },
     "9ff423d239b843e9837184497a85d68c": {
      "model_module": "@jupyter-widgets/controls",
      "model_module_version": "1.1.0",
      "model_name": "DescriptionStyleModel",
      "state": {
       "description_width": ""
      }
     },
     "a01d9af1cbfb457ca40b4d16191dd9f8": {
      "model_module": "@jupyter-widgets/base",
      "model_module_version": "1.0.0",
      "model_name": "LayoutModel",
      "state": {}
     },
     "a02324d66cae4bcdad77709c8ea30df5": {
      "model_module": "@jupyter-widgets/controls",
      "model_module_version": "1.1.0",
      "model_name": "DescriptionStyleModel",
      "state": {
       "description_width": ""
      }
     },
     "a02fa49cb30d40c4823416bf6ad3c976": {
      "model_module": "@jupyter-widgets/controls",
      "model_module_version": "1.1.0",
      "model_name": "DescriptionStyleModel",
      "state": {
       "description_width": ""
      }
     },
     "a03b342b4ee6435789e02660b392b643": {
      "model_module": "@jupyter-widgets/controls",
      "model_module_version": "1.1.0",
      "model_name": "CheckboxModel",
      "state": {
       "description": "32.7°",
       "disabled": false,
       "layout": "IPY_MODEL_5f80d1cf22234e7594f18187386c28aa",
       "style": "IPY_MODEL_7b3e842f80114890b82b120bf12a2673",
       "value": true
      }
     },
     "a04090affc934abca24a590fc6019c01": {
      "model_module": "@jupyter-widgets/base",
      "model_module_version": "1.0.0",
      "model_name": "LayoutModel",
      "state": {}
     },
     "a04b56b70c6047e7b67fb614b236f0a7": {
      "model_module": "@jupyter-widgets/controls",
      "model_module_version": "1.1.0",
      "model_name": "DescriptionStyleModel",
      "state": {
       "description_width": ""
      }
     },
     "a05914b55e5d40649e03350e6eb3630a": {
      "model_module": "@jupyter-widgets/controls",
      "model_module_version": "1.1.0",
      "model_name": "DescriptionStyleModel",
      "state": {
       "description_width": ""
      }
     },
     "a08b30dbe8df48e1b9b7d32efe18f57e": {
      "model_module": "@jupyter-widgets/base",
      "model_module_version": "1.0.0",
      "model_name": "LayoutModel",
      "state": {}
     },
     "a0f6ed37f9f14faeb429c96a040ff9f6": {
      "model_module": "@jupyter-widgets/controls",
      "model_module_version": "1.1.0",
      "model_name": "LabelModel",
      "state": {
       "layout": "IPY_MODEL_6d95059981624950879bdfebbe0d9296",
       "style": "IPY_MODEL_45b9d236dbbf4356aafdb480f24a11d5",
       "value": "Select projectile ion species and energy."
      }
     },
     "a0f8ff67cce34c4a927a05fb1ee2c88f": {
      "model_module": "@jupyter-widgets/controls",
      "model_module_version": "1.1.0",
      "model_name": "DescriptionStyleModel",
      "state": {
       "description_width": ""
      }
     },
     "a0fb516231fc4c46bebbabd867d9dd0e": {
      "model_module": "@jupyter-widgets/controls",
      "model_module_version": "1.1.0",
      "model_name": "DescriptionStyleModel",
      "state": {
       "description_width": ""
      }
     },
     "a0fb67ecb4a942b7a78ee7c2ecd1bea7": {
      "model_module": "@jupyter-widgets/controls",
      "model_module_version": "1.1.0",
      "model_name": "LabelModel",
      "state": {
       "layout": "IPY_MODEL_feb773bb2249497ab65e8cae32c67021",
       "style": "IPY_MODEL_39282a4457f7401399ee1d29a15a961f",
       "value": "Select the detector angles to plot."
      }
     },
     "a1508f29519446cb89354baa0c079653": {
      "model_module": "@jupyter-widgets/base",
      "model_module_version": "1.0.0",
      "model_name": "LayoutModel",
      "state": {}
     },
     "a157ce7d887847e0a3fed77d2b0f750a": {
      "model_module": "@jupyter-widgets/controls",
      "model_module_version": "1.1.0",
      "model_name": "DescriptionStyleModel",
      "state": {
       "description_width": ""
      }
     },
     "a170331431ec446bb37fa1103c649671": {
      "model_module": "@jupyter-widgets/base",
      "model_module_version": "1.0.0",
      "model_name": "LayoutModel",
      "state": {}
     },
     "a17e18225617407bad9ea54d14d3ff8f": {
      "model_module": "@jupyter-widgets/base",
      "model_module_version": "1.0.0",
      "model_name": "LayoutModel",
      "state": {}
     },
     "a17e5aded5b64ba3a833ad45ea3a34bf": {
      "model_module": "@jupyter-widgets/controls",
      "model_module_version": "1.1.0",
      "model_name": "DescriptionStyleModel",
      "state": {
       "description_width": ""
      }
     },
     "a1859d0bd77940e8bff854c9cf2fdc28": {
      "model_module": "@jupyter-widgets/controls",
      "model_module_version": "1.1.0",
      "model_name": "ToggleButtonsModel",
      "state": {
       "_options_labels": [
        "H",
        "He",
        "C",
        "Si",
        "Fe"
       ],
       "button_style": "",
       "description": "Ion:",
       "icons": [],
       "index": 0,
       "layout": "IPY_MODEL_87b03a1bc88941419b080527b7fd800c",
       "style": "IPY_MODEL_00f95cd13fc5493dbd84db161aa668d2",
       "tooltips": [
        "Hydrogen",
        "Helium",
        "Carbon",
        "Silicon",
        "Iron"
       ]
      }
     },
     "a1ba6864738b4cca8debf4d5215d5213": {
      "model_module": "@jupyter-widgets/base",
      "model_module_version": "1.0.0",
      "model_name": "LayoutModel",
      "state": {}
     },
     "a1c93c2d5f0a42e384fcdabc98b67ee2": {
      "model_module": "@jupyter-widgets/base",
      "model_module_version": "1.0.0",
      "model_name": "LayoutModel",
      "state": {}
     },
     "a1d7582a334b4f618aeba1959ba1afa2": {
      "model_module": "@jupyter-widgets/controls",
      "model_module_version": "1.1.0",
      "model_name": "LabelModel",
      "state": {
       "layout": "IPY_MODEL_60640bc143d7461fa221ade3e9a1babf",
       "style": "IPY_MODEL_50bb39ba82dd4e0f928548cbc1e56055",
       "value": "Select the detector angles to plot."
      }
     },
     "a1f8d073dfd248cea3df0a3525424b95": {
      "model_module": "@jupyter-widgets/base",
      "model_module_version": "1.0.0",
      "model_name": "LayoutModel",
      "state": {}
     },
     "a2086798ef484598952202fa5e9685c9": {
      "model_module": "@jupyter-widgets/controls",
      "model_module_version": "1.1.0",
      "model_name": "CheckboxModel",
      "state": {
       "description": "32.7°",
       "disabled": false,
       "layout": "IPY_MODEL_1961e98b7ac3486ebc1961e8cfeef51c",
       "style": "IPY_MODEL_63f3673c4a8d4904b8b4957354acdb7a",
       "value": true
      }
     },
     "a21733351934434e81f1b8634ffd4249": {
      "model_module": "@jupyter-widgets/controls",
      "model_module_version": "1.1.0",
      "model_name": "CheckboxModel",
      "state": {
       "description": "10°",
       "disabled": false,
       "layout": "IPY_MODEL_ce360aefa9294facabe1ee60bc0862de",
       "style": "IPY_MODEL_e2c1797b522b46c098590f29c80eda32",
       "value": true
      }
     },
     "a26a19e574a74b3aad7172dac323e62c": {
      "model_module": "@jupyter-widgets/controls",
      "model_module_version": "1.1.0",
      "model_name": "ToggleButtonsStyleModel",
      "state": {
       "button_width": "",
       "description_width": ""
      }
     },
     "a2733a53a33c469f9e74e92e8a087019": {
      "model_module": "@jupyter-widgets/controls",
      "model_module_version": "1.1.0",
      "model_name": "DescriptionStyleModel",
      "state": {
       "description_width": ""
      }
     },
     "a2a45a749e3a406aaddcaffab4403d71": {
      "model_module": "@jupyter-widgets/controls",
      "model_module_version": "1.1.0",
      "model_name": "LabelModel",
      "state": {
       "layout": "IPY_MODEL_13ca9599e8a6458b9f877c77a465cadf",
       "style": "IPY_MODEL_31bedefb041d45bc8089755ad4dee01e",
       "value": "Select the detector angles to plot."
      }
     },
     "a2bdbe1494814ef3a232b1d38c24af35": {
      "model_module": "@jupyter-widgets/base",
      "model_module_version": "1.0.0",
      "model_name": "LayoutModel",
      "state": {}
     },
     "a2de60ea094a4b74a1566c0c53e204dc": {
      "model_module": "@jupyter-widgets/controls",
      "model_module_version": "1.1.0",
      "model_name": "ToggleButtonsStyleModel",
      "state": {
       "button_width": "",
       "description_width": ""
      }
     },
     "a321347d4d5f4ecb987a829fce03e8c4": {
      "model_module": "@jupyter-widgets/controls",
      "model_module_version": "1.1.0",
      "model_name": "DescriptionStyleModel",
      "state": {
       "description_width": ""
      }
     },
     "a3226dc7be214e14b368365138b0cf25": {
      "model_module": "@jupyter-widgets/controls",
      "model_module_version": "1.1.0",
      "model_name": "DescriptionStyleModel",
      "state": {
       "description_width": ""
      }
     },
     "a32596ccc6844d88beffb3e6617460f0": {
      "model_module": "@jupyter-widgets/base",
      "model_module_version": "1.0.0",
      "model_name": "LayoutModel",
      "state": {}
     },
     "a34bddacd7c846048547679dac7f6991": {
      "model_module": "@jupyter-widgets/controls",
      "model_module_version": "1.1.0",
      "model_name": "LabelModel",
      "state": {
       "layout": "IPY_MODEL_545ebc91c17c4aa6959b057a16b3ac92",
       "style": "IPY_MODEL_a778cf604d174f4d9efe53ae6dfcc98b",
       "value": "Select upstream target mass thickness."
      }
     },
     "a369064e5b44428d8172adba0d439f70": {
      "model_module": "@jupyter-widgets/controls",
      "model_module_version": "1.1.0",
      "model_name": "DescriptionStyleModel",
      "state": {
       "description_width": ""
      }
     },
     "a37c33a2be514ce6b6365c51523ce460": {
      "model_module": "@jupyter-widgets/controls",
      "model_module_version": "1.1.0",
      "model_name": "LabelModel",
      "state": {
       "layout": "IPY_MODEL_f8187533cbd64b0f92011819d7ecc492",
       "style": "IPY_MODEL_442ac209cf4f4253a7d278fb37682d26",
       "value": "Select projectile ion energy."
      }
     },
     "a38c5526261a44588ed4a03810dd74de": {
      "model_module": "@jupyter-widgets/controls",
      "model_module_version": "1.1.0",
      "model_name": "ToggleButtonsModel",
      "state": {
       "_options_labels": [
        "N (¹n)",
        "NDC (¹n)",
        "P (¹H)",
        "D (²H)",
        "T (³H)",
        "S (³He)",
        "A (⁴He)"
       ],
       "button_style": "",
       "description": "Type:",
       "icons": [],
       "index": 0,
       "layout": "IPY_MODEL_14fafc4eb4bf469cae61c06d8cce53bf",
       "style": "IPY_MODEL_403956e3427d41e39e4ca6ce37a021f3",
       "tooltips": [
        "Neutron",
        "Back Target Neutron",
        "Proton",
        "Deuteron",
        "Triton",
        "Helium-3",
        "Helium-4"
       ]
      }
     },
     "a3a4a3661a1245309cad93b6359eb7e0": {
      "model_module": "@jupyter-widgets/base",
      "model_module_version": "1.0.0",
      "model_name": "LayoutModel",
      "state": {}
     },
     "a3f03c52452f4040b71e2bb824bf4b8b": {
      "model_module": "@jupyter-widgets/controls",
      "model_module_version": "1.1.0",
      "model_name": "DescriptionStyleModel",
      "state": {
       "description_width": ""
      }
     },
     "a410023c692b43789d99c69fccbf3d0c": {
      "model_module": "@jupyter-widgets/controls",
      "model_module_version": "1.1.0",
      "model_name": "DescriptionStyleModel",
      "state": {
       "description_width": ""
      }
     },
     "a430f5e1f8104030adc87152f743628c": {
      "model_module": "@jupyter-widgets/base",
      "model_module_version": "1.0.0",
      "model_name": "LayoutModel",
      "state": {}
     },
     "a46faac67e3c484db0c7d7646c36f03c": {
      "model_module": "@jupyter-widgets/controls",
      "model_module_version": "1.1.0",
      "model_name": "LabelModel",
      "state": {
       "layout": "IPY_MODEL_2f9f375ed8694a78a0160c1848befb47",
       "style": "IPY_MODEL_d48a7a058fb447fab5d67609ac3ff4e6",
       "value": "Select a detector type."
      }
     },
     "a492ac76f1b94b6a9eb892afe1c19c06": {
      "model_module": "@jupyter-widgets/base",
      "model_module_version": "1.0.0",
      "model_name": "LayoutModel",
      "state": {}
     },
     "a4943de1efff43359180753e2490e53e": {
      "model_module": "@jupyter-widgets/base",
      "model_module_version": "1.0.0",
      "model_name": "LayoutModel",
      "state": {}
     },
     "a4b0d07e296942e08a63cd4351a1ad3d": {
      "model_module": "@jupyter-widgets/controls",
      "model_module_version": "1.1.0",
      "model_name": "CheckboxModel",
      "state": {
       "description": "45°",
       "disabled": false,
       "layout": "IPY_MODEL_2a6a5bce17a946f98b9b7c3a32c9d1cd",
       "style": "IPY_MODEL_73138b754209406a8c76f8b0357ac687",
       "value": true
      }
     },
     "a53084ae74bf4682b26cbdd8f14db5c5": {
      "model_module": "@jupyter-widgets/controls",
      "model_module_version": "1.1.0",
      "model_name": "ToggleButtonsModel",
      "state": {
       "_options_labels": [
        "N (¹n)",
        "NDC (¹n)",
        "P (¹H)",
        "D (²H)"
       ],
       "button_style": "",
       "description": "Particle:",
       "icons": [],
       "index": 0,
       "layout": "IPY_MODEL_96da12b143364498a1f8e79fa09113ba",
       "style": "IPY_MODEL_7d315670ef4f4b77a3c4bdbb3d99313c",
       "tooltips": [
        "Neutron",
        "Back Target Neutron",
        "Proton",
        "Deuteron"
       ]
      }
     },
     "a59b588a6e0b4502b50c251055bfb406": {
      "model_module": "@jupyter-widgets/controls",
      "model_module_version": "1.1.0",
      "model_name": "DescriptionStyleModel",
      "state": {
       "description_width": ""
      }
     },
     "a5ab0bc8e4894abf9f3ae4671f61de35": {
      "model_module": "@jupyter-widgets/base",
      "model_module_version": "1.0.0",
      "model_name": "LayoutModel",
      "state": {}
     },
     "a5ab1f2937214bd09dec3d87590ba417": {
      "model_module": "@jupyter-widgets/controls",
      "model_module_version": "1.1.0",
      "model_name": "DescriptionStyleModel",
      "state": {
       "description_width": ""
      }
     },
     "a61a0cdb903c499d8ff1ce3dd7f8ab10": {
      "model_module": "@jupyter-widgets/controls",
      "model_module_version": "1.1.0",
      "model_name": "CheckboxModel",
      "state": {
       "description": "PHITS simulated",
       "disabled": false,
       "layout": "IPY_MODEL_f2ad27baf4764943a64930549184f148",
       "style": "IPY_MODEL_b55ba0c4ae6f4a6799d320c9b45bfdf5",
       "value": true
      }
     },
     "a62492efc26142d39374db8dd98e3500": {
      "model_module": "@jupyter-widgets/controls",
      "model_module_version": "1.1.0",
      "model_name": "DescriptionStyleModel",
      "state": {
       "description_width": ""
      }
     },
     "a629492428ad48ee8eb25a68ad4c270b": {
      "model_module": "@jupyter-widgets/base",
      "model_module_version": "1.0.0",
      "model_name": "LayoutModel",
      "state": {}
     },
     "a6823a7ff4d644898a0521a67008d5ad": {
      "model_module": "@jupyter-widgets/controls",
      "model_module_version": "1.1.0",
      "model_name": "DescriptionStyleModel",
      "state": {
       "description_width": ""
      }
     },
     "a69908d8073948cb894f81841a272daa": {
      "model_module": "@jupyter-widgets/controls",
      "model_module_version": "1.1.0",
      "model_name": "CheckboxModel",
      "state": {
       "description": "10°",
       "disabled": false,
       "layout": "IPY_MODEL_5c8ae25629bb45bfa1828369ead77402",
       "style": "IPY_MODEL_1af087b5218c4437920f90cb063ef0cb",
       "value": true
      }
     },
     "a6c3f474e4fc44af9c36e8c0cf3f1b5a": {
      "model_module": "@jupyter-widgets/base",
      "model_module_version": "1.0.0",
      "model_name": "LayoutModel",
      "state": {}
     },
     "a6cbe10f2dfc4c23a6128fed72630ac7": {
      "model_module": "@jupyter-widgets/controls",
      "model_module_version": "1.1.0",
      "model_name": "DescriptionStyleModel",
      "state": {
       "description_width": ""
      }
     },
     "a6db707717084bd98e064729160813cb": {
      "model_module": "@jupyter-widgets/controls",
      "model_module_version": "1.1.0",
      "model_name": "DescriptionStyleModel",
      "state": {
       "description_width": ""
      }
     },
     "a6dde0c38fef49efb25f733d549d75f7": {
      "model_module": "@jupyter-widgets/controls",
      "model_module_version": "1.1.0",
      "model_name": "DescriptionStyleModel",
      "state": {
       "description_width": ""
      }
     },
     "a6e4e615cf024c96b0b19a74e84d6cef": {
      "model_module": "@jupyter-widgets/controls",
      "model_module_version": "1.1.0",
      "model_name": "DescriptionStyleModel",
      "state": {
       "description_width": ""
      }
     },
     "a6f9e3ee75754eecb9e07499d61a606d": {
      "model_module": "@jupyter-widgets/base",
      "model_module_version": "1.0.0",
      "model_name": "LayoutModel",
      "state": {}
     },
     "a6fc76628f134e61baecc5b2f935b09d": {
      "model_module": "@jupyter-widgets/controls",
      "model_module_version": "1.1.0",
      "model_name": "ToggleButtonsModel",
      "state": {
       "_options_labels": [
        "400 MeV/n",
        "800 MeV/n",
        "1500 MeV/n"
       ],
       "button_style": "",
       "description": "Energy:",
       "icons": [],
       "index": 0,
       "layout": "IPY_MODEL_8de4e7cb679a44798964a2c36f75b7a3",
       "style": "IPY_MODEL_e52c9ad6f0f94c16a168ca41d44d2b05",
       "tooltips": [
        "lowest energy",
        "middle energy",
        "highest energy"
       ]
      }
     },
     "a70b0e978e594f1399789e761e60afbf": {
      "model_module": "@jupyter-widgets/controls",
      "model_module_version": "1.1.0",
      "model_name": "ToggleButtonsStyleModel",
      "state": {
       "button_width": "",
       "description_width": ""
      }
     },
     "a715567199b948ed9bf18629dce166b8": {
      "model_module": "@jupyter-widgets/base",
      "model_module_version": "1.0.0",
      "model_name": "LayoutModel",
      "state": {}
     },
     "a736e35fa3074fa386911fcdb54f58e3": {
      "model_module": "@jupyter-widgets/base",
      "model_module_version": "1.0.0",
      "model_name": "LayoutModel",
      "state": {}
     },
     "a73ea27787e845ec9d670ffc57d5fe34": {
      "model_module": "@jupyter-widgets/controls",
      "model_module_version": "1.1.0",
      "model_name": "ToggleButtonsStyleModel",
      "state": {
       "button_width": "",
       "description_width": ""
      }
     },
     "a7559b98612a40d2b03ff7835e62fce8": {
      "model_module": "@jupyter-widgets/controls",
      "model_module_version": "1.1.0",
      "model_name": "CheckboxModel",
      "state": {
       "description": "30°",
       "disabled": false,
       "layout": "IPY_MODEL_e855032a03ab41298ecbce490692b442",
       "style": "IPY_MODEL_3e6868e05b4d42438e495a1ad59c565b",
       "value": true
      }
     },
     "a75b6cfabe5f49bebbcfef46c37b3617": {
      "model_module": "@jupyter-widgets/controls",
      "model_module_version": "1.1.0",
      "model_name": "CheckboxModel",
      "state": {
       "description": "135°",
       "disabled": false,
       "layout": "IPY_MODEL_858ff6cb153941629070dce3e8eab120",
       "style": "IPY_MODEL_4631bef8f06b44778e229ff134e96632",
       "value": true
      }
     },
     "a778cf604d174f4d9efe53ae6dfcc98b": {
      "model_module": "@jupyter-widgets/controls",
      "model_module_version": "1.1.0",
      "model_name": "DescriptionStyleModel",
      "state": {
       "description_width": ""
      }
     },
     "a7823db7be3f4cd48902bd8f6cbba005": {
      "model_module": "@jupyter-widgets/controls",
      "model_module_version": "1.1.0",
      "model_name": "DescriptionStyleModel",
      "state": {
       "description_width": ""
      }
     },
     "a7ac061fcead4b22aea85bf9a2788c5c": {
      "model_module": "@jupyter-widgets/controls",
      "model_module_version": "1.1.0",
      "model_name": "CheckboxModel",
      "state": {
       "description": "135°",
       "disabled": false,
       "layout": "IPY_MODEL_083d6cdb707a4e63bf282c13b7456a14",
       "style": "IPY_MODEL_2203b0e36dc448a6a364d02d9ddc7b10",
       "value": false
      }
     },
     "a7cf71167764452e83be627357958e79": {
      "model_module": "@jupyter-widgets/controls",
      "model_module_version": "1.1.0",
      "model_name": "CheckboxModel",
      "state": {
       "description": "10°",
       "disabled": false,
       "layout": "IPY_MODEL_55619c5dea094e449247ceb4ea2afc58",
       "style": "IPY_MODEL_9c750331100c4339ba5cdad0d8689798",
       "value": true
      }
     },
     "a7e1100ec75e45979025dd2ef79f9371": {
      "model_module": "@jupyter-widgets/controls",
      "model_module_version": "1.1.0",
      "model_name": "LabelModel",
      "state": {
       "layout": "IPY_MODEL_15be3f50cce94b91a4aa3def909f1e33",
       "style": "IPY_MODEL_023d98986734416e92f986009753c584",
       "value": "Select which secondary particle to plot spectra for."
      }
     },
     "a8527311491441dd8de9b71ddc09213b": {
      "model_module": "@jupyter-widgets/controls",
      "model_module_version": "1.1.0",
      "model_name": "ToggleButtonsModel",
      "state": {
       "_options_labels": [
        "P (¹H)",
        "D (²H)",
        "T (³H)",
        "A (⁴He)"
       ],
       "button_style": "",
       "description": "Type:",
       "icons": [],
       "index": 0,
       "layout": "IPY_MODEL_34c7f5a56df04a03a6dc535e5f75739a",
       "style": "IPY_MODEL_2aac0176a49544ad9d78d854909dc5a1",
       "tooltips": [
        "Proton",
        "Deuteron",
        "Triton",
        "Helium-4"
       ]
      }
     },
     "a86e995100d74316a3d0e3db7e535fcc": {
      "model_module": "@jupyter-widgets/base",
      "model_module_version": "1.0.0",
      "model_name": "LayoutModel",
      "state": {}
     },
     "a8841feafea14d99b95f53187891f2ae": {
      "model_module": "@jupyter-widgets/controls",
      "model_module_version": "1.1.0",
      "model_name": "ToggleButtonsModel",
      "state": {
       "_options_labels": [
        "20 g/cm²",
        "40 g/cm²",
        "60 g/cm²"
       ],
       "button_style": "",
       "description": "Thickness:",
       "icons": [],
       "index": 0,
       "layout": "IPY_MODEL_2390edd9b3c642169437648801af5220",
       "style": "IPY_MODEL_f199881453b040ecba836e9210e1e2bd",
       "tooltips": [
        "20 g/cm² Aluminum",
        "40 g/cm² Aluminum",
        "60 g/cm² Aluminum"
       ]
      }
     },
     "a8a2ca2e021d4049b9d303d2eeca3e14": {
      "model_module": "@jupyter-widgets/controls",
      "model_module_version": "1.1.0",
      "model_name": "CheckboxModel",
      "state": {
       "description": "80°",
       "disabled": false,
       "layout": "IPY_MODEL_b134c9403fea4574bd2840c454cb26d7",
       "style": "IPY_MODEL_1e7bec4752ff40afa2b30faaa9181f59",
       "value": false
      }
     },
     "a8c7d47f1a484630a29733c5b4b79d98": {
      "model_module": "@jupyter-widgets/controls",
      "model_module_version": "1.1.0",
      "model_name": "ToggleButtonsModel",
      "state": {
       "_options_labels": [
        "H",
        "He",
        "C",
        "Si",
        "Fe"
       ],
       "button_style": "",
       "description": "Ion:",
       "icons": [],
       "index": 0,
       "layout": "IPY_MODEL_e58a8f5499a64d7d8362340324127d7d",
       "style": "IPY_MODEL_827c1636df9f4da3b9e26740c6b7ea19",
       "tooltips": [
        "Hydrogen",
        "Helium",
        "Carbon",
        "Silicon",
        "Iron"
       ]
      }
     },
     "a8e419868feb40a79cfca7b3f532a7fa": {
      "model_module": "@jupyter-widgets/base",
      "model_module_version": "1.0.0",
      "model_name": "LayoutModel",
      "state": {}
     },
     "a8e63e1dcb4345d2b913355531ac989f": {
      "model_module": "@jupyter-widgets/base",
      "model_module_version": "1.0.0",
      "model_name": "LayoutModel",
      "state": {}
     },
     "a8ff9a8265864ce6b8522a45b3a04d55": {
      "model_module": "@jupyter-widgets/controls",
      "model_module_version": "1.1.0",
      "model_name": "DescriptionStyleModel",
      "state": {
       "description_width": ""
      }
     },
     "a900600b456b46a681fcc9494b7ece95": {
      "model_module": "@jupyter-widgets/controls",
      "model_module_version": "1.1.0",
      "model_name": "DescriptionStyleModel",
      "state": {
       "description_width": ""
      }
     },
     "a909c92eb1cd48299d3eaffaf12d2cc4": {
      "model_module": "@jupyter-widgets/controls",
      "model_module_version": "1.1.0",
      "model_name": "CheckboxModel",
      "state": {
       "description": "10°",
       "disabled": false,
       "layout": "IPY_MODEL_447f53e19b2f4ddf9d2a3f12f6e5636f",
       "style": "IPY_MODEL_7bc3fbb9ab3f45348de818119b4edb4a",
       "value": true
      }
     },
     "a91084f9d3494b6a940831af3dd58f88": {
      "model_module": "@jupyter-widgets/base",
      "model_module_version": "1.0.0",
      "model_name": "LayoutModel",
      "state": {}
     },
     "a918cb0bb85249d1b54b8565dad3f659": {
      "model_module": "@jupyter-widgets/base",
      "model_module_version": "1.0.0",
      "model_name": "LayoutModel",
      "state": {}
     },
     "a9e42351c8da44b9ad978d46ab3d72ab": {
      "model_module": "@jupyter-widgets/controls",
      "model_module_version": "1.1.0",
      "model_name": "DescriptionStyleModel",
      "state": {
       "description_width": ""
      }
     },
     "a9eb32704977437e852c288bee57f477": {
      "model_module": "@jupyter-widgets/base",
      "model_module_version": "1.0.0",
      "model_name": "LayoutModel",
      "state": {}
     },
     "a9ff3c6349dd4e3aa5f9024c95be5218": {
      "model_module": "@jupyter-widgets/controls",
      "model_module_version": "1.1.0",
      "model_name": "CheckboxModel",
      "state": {
       "description": "135°",
       "disabled": false,
       "layout": "IPY_MODEL_d0712f64deb44255bae5800bafb719c0",
       "style": "IPY_MODEL_89eda586ef094d9e9d2cbe3f9c364b32",
       "value": true
      }
     },
     "aa131432c11c43cd9c947c59d810af25": {
      "model_module": "@jupyter-widgets/controls",
      "model_module_version": "1.1.0",
      "model_name": "ToggleButtonsStyleModel",
      "state": {
       "button_width": "",
       "description_width": ""
      }
     },
     "aa1a47aaec0f414d8480b69918503e93": {
      "model_module": "@jupyter-widgets/controls",
      "model_module_version": "1.1.0",
      "model_name": "DescriptionStyleModel",
      "state": {
       "description_width": ""
      }
     },
     "aa35185bf3a34092a2bd1af2cf00e408": {
      "model_module": "@jupyter-widgets/controls",
      "model_module_version": "1.1.0",
      "model_name": "DescriptionStyleModel",
      "state": {
       "description_width": ""
      }
     },
     "aa3cfd405b92404eb2f19d71ca77330c": {
      "model_module": "@jupyter-widgets/controls",
      "model_module_version": "1.1.0",
      "model_name": "DescriptionStyleModel",
      "state": {
       "description_width": ""
      }
     },
     "aa576a24ff1e4532a1ab8eb9fca802c4": {
      "model_module": "@jupyter-widgets/controls",
      "model_module_version": "1.1.0",
      "model_name": "ToggleButtonsStyleModel",
      "state": {
       "button_width": "",
       "description_width": ""
      }
     },
     "aa9ce7dc21004692afd0bf9d3f368c59": {
      "model_module": "@jupyter-widgets/base",
      "model_module_version": "1.0.0",
      "model_name": "LayoutModel",
      "state": {}
     },
     "aaa3a47d844c4b0dac0107764300dd71": {
      "model_module": "@jupyter-widgets/controls",
      "model_module_version": "1.1.0",
      "model_name": "CheckboxModel",
      "state": {
       "description": "80°",
       "disabled": false,
       "layout": "IPY_MODEL_ae9a6cf6bb114d679211456db7d47d11",
       "style": "IPY_MODEL_367b1a0957de43d1b458dacce96a2b0d",
       "value": true
      }
     },
     "aaa63bbb5eb54110b6564cd3b6e94182": {
      "model_module": "@jupyter-widgets/controls",
      "model_module_version": "1.1.0",
      "model_name": "CheckboxModel",
      "state": {
       "description": "32.7°",
       "disabled": false,
       "layout": "IPY_MODEL_d7d04417ef3a4532976d037d0a51da0c",
       "style": "IPY_MODEL_e859ff3fab7f425f9d5d51bb08bb0418",
       "value": true
      }
     },
     "aac3db4e5d1e4f98a69d1cf4938a87d6": {
      "model_module": "@jupyter-widgets/base",
      "model_module_version": "1.0.0",
      "model_name": "LayoutModel",
      "state": {}
     },
     "aacbd410ba604eb5bfa744c5cca3a829": {
      "model_module": "@jupyter-widgets/controls",
      "model_module_version": "1.1.0",
      "model_name": "CheckboxModel",
      "state": {
       "description": "60°",
       "disabled": false,
       "layout": "IPY_MODEL_590c75c872914897a0b6cde58cca7b15",
       "style": "IPY_MODEL_834837e439a34d1fa4c89cc1e7e18944",
       "value": true
      }
     },
     "aae004f179e247eca0f69c2e845884f5": {
      "model_module": "@jupyter-widgets/controls",
      "model_module_version": "1.1.0",
      "model_name": "LabelModel",
      "state": {
       "layout": "IPY_MODEL_ff775fb71b26478da0e11f8d03b303f6",
       "style": "IPY_MODEL_de4ee6f855d746ea968143e1a598b77b",
       "value": "Select the detector angles to plot."
      }
     },
     "aae4131894c542f9a8804e5109bd7c6f": {
      "model_module": "@jupyter-widgets/controls",
      "model_module_version": "1.1.0",
      "model_name": "ToggleButtonsModel",
      "state": {
       "_options_labels": [
        "400 MeV",
        "800 MeV",
        "2500 MeV"
       ],
       "button_style": "",
       "description": "Energy:",
       "icons": [],
       "index": 0,
       "layout": "IPY_MODEL_2fe070cfb385435db6261ac22e7b218f",
       "style": "IPY_MODEL_0a3b209bcf6841b9a433d6e5c3b1a795",
       "tooltips": [
        "lowest energy",
        "middle energy",
        "highest energy"
       ]
      }
     },
     "ab08f3b531ee4b92bbbe6ee1c754c252": {
      "model_module": "@jupyter-widgets/controls",
      "model_module_version": "1.1.0",
      "model_name": "ToggleButtonsStyleModel",
      "state": {
       "button_width": "",
       "description_width": ""
      }
     },
     "ab316c5666524946ae0c172d4473ccf4": {
      "model_module": "@jupyter-widgets/controls",
      "model_module_version": "1.1.0",
      "model_name": "DescriptionStyleModel",
      "state": {
       "description_width": ""
      }
     },
     "ab51b1419f7546d9adedc7d98370b3be": {
      "model_module": "@jupyter-widgets/base",
      "model_module_version": "1.0.0",
      "model_name": "LayoutModel",
      "state": {}
     },
     "ab60a82ccdee43e69c1d0426c2e4b712": {
      "model_module": "@jupyter-widgets/controls",
      "model_module_version": "1.1.0",
      "model_name": "CheckboxModel",
      "state": {
       "description": "60°",
       "disabled": false,
       "layout": "IPY_MODEL_f673c3750a714ce6b241908ebc147d4d",
       "style": "IPY_MODEL_a6cbe10f2dfc4c23a6128fed72630ac7",
       "value": true
      }
     },
     "abba099c8d2346e3b5455ba8b4be4d26": {
      "model_module": "@jupyter-widgets/controls",
      "model_module_version": "1.1.0",
      "model_name": "DescriptionStyleModel",
      "state": {
       "description_width": ""
      }
     },
     "ac1392c5e79241cabcbe2f0b9cdd133a": {
      "model_module": "@jupyter-widgets/base",
      "model_module_version": "1.0.0",
      "model_name": "LayoutModel",
      "state": {}
     },
     "ac178c9f1ab74b948336cbfb2630dc42": {
      "model_module": "@jupyter-widgets/controls",
      "model_module_version": "1.1.0",
      "model_name": "ButtonModel",
      "state": {
       "button_style": "success",
       "description": "Update plot",
       "icon": "paint-brush",
       "layout": "IPY_MODEL_c24a1cfb75f44d6392ee6ea2874d43d0",
       "style": "IPY_MODEL_3d8b79afcd5346e89411d87b293cd799",
       "tooltip": "Click to redraw the plot below with updated options from above."
      }
     },
     "ac2f0828c98f4d179cf83ddf27166b0b": {
      "model_module": "@jupyter-widgets/base",
      "model_module_version": "1.0.0",
      "model_name": "LayoutModel",
      "state": {}
     },
     "ac4aa1f1b1e8453d87f1df70ac524806": {
      "model_module": "@jupyter-widgets/controls",
      "model_module_version": "1.1.0",
      "model_name": "CheckboxModel",
      "state": {
       "description": "10°",
       "disabled": false,
       "layout": "IPY_MODEL_ac1392c5e79241cabcbe2f0b9cdd133a",
       "style": "IPY_MODEL_008d4deaa4f24f778435821053645eab",
       "value": true
      }
     },
     "ac5963eefc4a4f2787971df6efcec6f9": {
      "model_module": "@jupyter-widgets/controls",
      "model_module_version": "1.1.0",
      "model_name": "CheckboxModel",
      "state": {
       "description": "30°",
       "disabled": false,
       "layout": "IPY_MODEL_10eb4b649ea049f6a6685d6b048edfea",
       "style": "IPY_MODEL_b957fd9211284d609f9603993f986749",
       "value": false
      }
     },
     "ac824a4a151342f982e4269c702e3713": {
      "model_module": "@jupyter-widgets/controls",
      "model_module_version": "1.1.0",
      "model_name": "CheckboxModel",
      "state": {
       "description": "PHITS simulated",
       "disabled": false,
       "layout": "IPY_MODEL_87c459b78b604640909d7f732feb1b01",
       "style": "IPY_MODEL_93187ff29a454bffa64ddd10403e4b64",
       "value": true
      }
     },
     "ac9577885a6643f3acdf6df98032a935": {
      "model_module": "@jupyter-widgets/controls",
      "model_module_version": "1.1.0",
      "model_name": "DescriptionStyleModel",
      "state": {
       "description_width": ""
      }
     },
     "aca553dec049411a9613a1df049c60f2": {
      "model_module": "@jupyter-widgets/base",
      "model_module_version": "1.0.0",
      "model_name": "LayoutModel",
      "state": {}
     },
     "acbc4bb96b4c494ab595aaeafc032f58": {
      "model_module": "@jupyter-widgets/controls",
      "model_module_version": "1.1.0",
      "model_name": "CheckboxModel",
      "state": {
       "description": "10°",
       "disabled": false,
       "layout": "IPY_MODEL_6b6887f98a3e425fb0be0ae08a8fee56",
       "style": "IPY_MODEL_0097f451415149d5a8a5b91cd0fcde5b",
       "value": true
      }
     },
     "ad5645d902d742a1803f4b773391fcc6": {
      "model_module": "@jupyter-widgets/controls",
      "model_module_version": "1.1.0",
      "model_name": "CheckboxModel",
      "state": {
       "description": "60°",
       "disabled": false,
       "layout": "IPY_MODEL_e70fff3b1c7d496b87c0f5a08a5d3555",
       "style": "IPY_MODEL_f26b555c18674641ac56b038c0e17764",
       "value": true
      }
     },
     "ad97f50377b04667a22d5c1ff7f846a1": {
      "model_module": "@jupyter-widgets/controls",
      "model_module_version": "1.1.0",
      "model_name": "CheckboxModel",
      "state": {
       "description": "135°",
       "disabled": false,
       "layout": "IPY_MODEL_5929c186d9eb48c99b0e76d2f047ecee",
       "style": "IPY_MODEL_a6dde0c38fef49efb25f733d549d75f7",
       "value": true
      }
     },
     "adca284843d044cabca92fd491c10dac": {
      "model_module": "@jupyter-widgets/controls",
      "model_module_version": "1.1.0",
      "model_name": "CheckboxModel",
      "state": {
       "description": "30°",
       "disabled": false,
       "layout": "IPY_MODEL_ef4bd5c55a7c45cc9ef95a2d4270d9a7",
       "style": "IPY_MODEL_4fa6bd4d322749fe891b1e8b7edd436a",
       "value": false
      }
     },
     "add3906993124ea1b4e1b692d9bd831b": {
      "model_module": "@jupyter-widgets/controls",
      "model_module_version": "1.1.0",
      "model_name": "DescriptionStyleModel",
      "state": {
       "description_width": ""
      }
     },
     "adeb596f502d42449d8811e70bbae8b2": {
      "model_module": "@jupyter-widgets/base",
      "model_module_version": "1.0.0",
      "model_name": "LayoutModel",
      "state": {}
     },
     "ae00635134a94eb785d52a4eb527ed7a": {
      "model_module": "@jupyter-widgets/controls",
      "model_module_version": "1.1.0",
      "model_name": "DescriptionStyleModel",
      "state": {
       "description_width": ""
      }
     },
     "ae04b1d2163a40a8bc5de76789e0d27d": {
      "model_module": "@jupyter-widgets/base",
      "model_module_version": "1.0.0",
      "model_name": "LayoutModel",
      "state": {}
     },
     "ae7dcbfed4f64731b92fa302d76824a5": {
      "model_module": "@jupyter-widgets/base",
      "model_module_version": "1.0.0",
      "model_name": "LayoutModel",
      "state": {}
     },
     "ae817525d46844a189196d2f31d7ef57": {
      "model_module": "@jupyter-widgets/controls",
      "model_module_version": "1.1.0",
      "model_name": "ToggleButtonsModel",
      "state": {
       "_options_labels": [
        "N (¹n)",
        "NDC (¹n)",
        "P (¹H)",
        "D (²H)"
       ],
       "button_style": "",
       "description": "Particle:",
       "icons": [],
       "index": 0,
       "layout": "IPY_MODEL_46158989dffc448fbbd4cbe5f5e4dd4f",
       "style": "IPY_MODEL_b2a470e8f4a848a08760b7e4ce68216b",
       "tooltips": [
        "Neutron",
        "Back Target Neutron",
        "Proton",
        "Deuteron"
       ]
      }
     },
     "ae9a6cf6bb114d679211456db7d47d11": {
      "model_module": "@jupyter-widgets/base",
      "model_module_version": "1.0.0",
      "model_name": "LayoutModel",
      "state": {}
     },
     "aeeface96ece4888a98b7db93c45d416": {
      "model_module": "@jupyter-widgets/controls",
      "model_module_version": "1.1.0",
      "model_name": "DescriptionStyleModel",
      "state": {
       "description_width": ""
      }
     },
     "aef07b9a3bf543f0ad01653eb45d6240": {
      "model_module": "@jupyter-widgets/controls",
      "model_module_version": "1.1.0",
      "model_name": "CheckboxModel",
      "state": {
       "description": "12.7°",
       "disabled": false,
       "layout": "IPY_MODEL_e7354a7351dc4a3eb056a1ebe167219f",
       "style": "IPY_MODEL_295a0c1f17204f57beb0788ecce78f07",
       "value": true
      }
     },
     "aef4391aa0ee4ab78258b8820f439057": {
      "model_module": "@jupyter-widgets/base",
      "model_module_version": "1.0.0",
      "model_name": "LayoutModel",
      "state": {}
     },
     "af0482e6032a4b5c895c578b92a107b1": {
      "model_module": "@jupyter-widgets/base",
      "model_module_version": "1.0.0",
      "model_name": "LayoutModel",
      "state": {}
     },
     "af447f0dfaba4018b93633549c50a98c": {
      "model_module": "@jupyter-widgets/base",
      "model_module_version": "1.0.0",
      "model_name": "LayoutModel",
      "state": {}
     },
     "afd94890969542849d0014c83d9f710e": {
      "model_module": "@jupyter-widgets/controls",
      "model_module_version": "1.1.0",
      "model_name": "CheckboxModel",
      "state": {
       "description": "30°",
       "disabled": false,
       "layout": "IPY_MODEL_b8d668ae50cd4ec0b0e9768bf13ebaee",
       "style": "IPY_MODEL_644ed6cc3d2144fdaa33e0de942764ca",
       "value": false
      }
     },
     "b04672d85a424837b02b239fd6d93306": {
      "model_module": "@jupyter-widgets/controls",
      "model_module_version": "1.1.0",
      "model_name": "DescriptionStyleModel",
      "state": {
       "description_width": ""
      }
     },
     "b066e3a83ac34f1a8f7719e1454d5875": {
      "model_module": "@jupyter-widgets/base",
      "model_module_version": "1.0.0",
      "model_name": "LayoutModel",
      "state": {}
     },
     "b06735c61c254823b8261980ec3395a3": {
      "model_module": "@jupyter-widgets/controls",
      "model_module_version": "1.1.0",
      "model_name": "DescriptionStyleModel",
      "state": {
       "description_width": ""
      }
     },
     "b06e725ffc5a4f68af22e7bbbb5e9aa9": {
      "model_module": "@jupyter-widgets/controls",
      "model_module_version": "1.1.0",
      "model_name": "CheckboxModel",
      "state": {
       "description": "10°",
       "disabled": false,
       "layout": "IPY_MODEL_2ae593c4383e45e9ae578cacbd91a07c",
       "style": "IPY_MODEL_18b949db5fe34bef96f34c741ec2e158",
       "value": true
      }
     },
     "b0850357b9f3483ebcb764038629e4b6": {
      "model_module": "@jupyter-widgets/base",
      "model_module_version": "1.0.0",
      "model_name": "LayoutModel",
      "state": {}
     },
     "b134c9403fea4574bd2840c454cb26d7": {
      "model_module": "@jupyter-widgets/base",
      "model_module_version": "1.0.0",
      "model_name": "LayoutModel",
      "state": {}
     },
     "b156ec5fd56541f6830dddbad5917e66": {
      "model_module": "@jupyter-widgets/controls",
      "model_module_version": "1.1.0",
      "model_name": "CheckboxModel",
      "state": {
       "description": "80°",
       "disabled": false,
       "layout": "IPY_MODEL_1dad1907f0694a15b1777d2307d3c28f",
       "style": "IPY_MODEL_846897d5be034873bc66dd9153ee457a",
       "value": true
      }
     },
     "b159994f2523454c849777345beef154": {
      "model_module": "@jupyter-widgets/base",
      "model_module_version": "1.0.0",
      "model_name": "LayoutModel",
      "state": {}
     },
     "b190e7ee1cc6456b9d4bb6b79f1a5050": {
      "model_module": "@jupyter-widgets/controls",
      "model_module_version": "1.1.0",
      "model_name": "DescriptionStyleModel",
      "state": {
       "description_width": ""
      }
     },
     "b1b2e4a172a0450c8398fd8c63426533": {
      "model_module": "@jupyter-widgets/base",
      "model_module_version": "1.0.0",
      "model_name": "LayoutModel",
      "state": {}
     },
     "b1e44077f2bb4e8c83ec53c33e3658c0": {
      "model_module": "@jupyter-widgets/base",
      "model_module_version": "1.0.0",
      "model_name": "LayoutModel",
      "state": {}
     },
     "b1f1994c3de742f98d80525a0dc6cdb8": {
      "model_module": "@jupyter-widgets/base",
      "model_module_version": "1.0.0",
      "model_name": "LayoutModel",
      "state": {}
     },
     "b1fc77d5024944e49d73df03a1d5033b": {
      "model_module": "@jupyter-widgets/base",
      "model_module_version": "1.0.0",
      "model_name": "LayoutModel",
      "state": {}
     },
     "b256a51a15734075b996a26f220eea7f": {
      "model_module": "@jupyter-widgets/base",
      "model_module_version": "1.0.0",
      "model_name": "LayoutModel",
      "state": {}
     },
     "b25d8c8e0874442ab49817d2a1a7778b": {
      "model_module": "@jupyter-widgets/controls",
      "model_module_version": "1.1.0",
      "model_name": "LabelModel",
      "state": {
       "layout": "IPY_MODEL_8b0eefb472c1489c9499bfca2575e77e",
       "style": "IPY_MODEL_2840e65aec3c47d3837a37a936e92cd1",
       "value": "Select the detector angles to plot."
      }
     },
     "b27880a92be84b8ebaf17bc82d752646": {
      "model_module": "@jupyter-widgets/controls",
      "model_module_version": "1.1.0",
      "model_name": "CheckboxModel",
      "state": {
       "description": "135°",
       "disabled": false,
       "layout": "IPY_MODEL_428942ba674d46a2bf6cdd61a85e65eb",
       "style": "IPY_MODEL_33c23a4720244974b92f5a5e7e3f3fd9",
       "value": false
      }
     },
     "b29216362c6d460ab5757f977fc97956": {
      "model_module": "@jupyter-widgets/controls",
      "model_module_version": "1.1.0",
      "model_name": "LabelModel",
      "state": {
       "layout": "IPY_MODEL_0abffa0061eb431eadd0b537a048d95d",
       "style": "IPY_MODEL_1ba608492b364dd0bee498de820a823f",
       "value": "Select which sets of data to display."
      }
     },
     "b2a39a040a6544d99cfd7e4863d4a141": {
      "model_module": "@jupyter-widgets/base",
      "model_module_version": "1.0.0",
      "model_name": "LayoutModel",
      "state": {}
     },
     "b2a470e8f4a848a08760b7e4ce68216b": {
      "model_module": "@jupyter-widgets/controls",
      "model_module_version": "1.1.0",
      "model_name": "ToggleButtonsStyleModel",
      "state": {
       "button_width": "",
       "description_width": ""
      }
     },
     "b2c2393f3cc943afa4c0a599f866c96b": {
      "model_module": "@jupyter-widgets/base",
      "model_module_version": "1.0.0",
      "model_name": "LayoutModel",
      "state": {}
     },
     "b3311dbc66674b6daaee1b5cd76ce614": {
      "model_module": "@jupyter-widgets/controls",
      "model_module_version": "1.1.0",
      "model_name": "DescriptionStyleModel",
      "state": {
       "description_width": ""
      }
     },
     "b34c0b45a9364bf4a77dbe00b1b856bf": {
      "model_module": "@jupyter-widgets/base",
      "model_module_version": "1.0.0",
      "model_name": "LayoutModel",
      "state": {}
     },
     "b3660327e0444359a041733a7b545b85": {
      "model_module": "@jupyter-widgets/controls",
      "model_module_version": "1.1.0",
      "model_name": "LabelModel",
      "state": {
       "layout": "IPY_MODEL_1b7bbc4fc6784941b0bb170af22bc7b8",
       "style": "IPY_MODEL_46da5a87136a4c1aab5938de6e45b620",
       "value": "Select which secondary particle to plot spectra for."
      }
     },
     "b3986e02e21e4ee1a1966105d74846a0": {
      "model_module": "@jupyter-widgets/base",
      "model_module_version": "1.0.0",
      "model_name": "LayoutModel",
      "state": {}
     },
     "b3f675f793e84eb8af82213e3f6ecee1": {
      "model_module": "@jupyter-widgets/controls",
      "model_module_version": "1.1.0",
      "model_name": "DescriptionStyleModel",
      "state": {
       "description_width": ""
      }
     },
     "b3fd0342b9c746f09a3e932129aa511a": {
      "model_module": "@jupyter-widgets/controls",
      "model_module_version": "1.1.0",
      "model_name": "CheckboxModel",
      "state": {
       "description": "60°",
       "disabled": false,
       "layout": "IPY_MODEL_395446e8e7c2410bb4bc4027eae2a0f3",
       "style": "IPY_MODEL_0d68d719bd2542f7a4a21bfdbf9e730f",
       "value": true
      }
     },
     "b42f68c91453466f98cc3c71ddde5df8": {
      "model_module": "@jupyter-widgets/controls",
      "model_module_version": "1.1.0",
      "model_name": "DescriptionStyleModel",
      "state": {
       "description_width": ""
      }
     },
     "b430db24d0cc4ea682e31554dad28dba": {
      "model_module": "@jupyter-widgets/base",
      "model_module_version": "1.0.0",
      "model_name": "LayoutModel",
      "state": {}
     },
     "b453f597f5f747879bbb7e51d7941077": {
      "model_module": "@jupyter-widgets/controls",
      "model_module_version": "1.1.0",
      "model_name": "DescriptionStyleModel",
      "state": {
       "description_width": ""
      }
     },
     "b4570addcf0d4ba69011271c073dbf3c": {
      "model_module": "@jupyter-widgets/base",
      "model_module_version": "1.0.0",
      "model_name": "LayoutModel",
      "state": {}
     },
     "b47b0b519fa84394b5a2796345eee4c6": {
      "model_module": "@jupyter-widgets/base",
      "model_module_version": "1.0.0",
      "model_name": "LayoutModel",
      "state": {}
     },
     "b5217da0eb624c05840ab91ea1d96f4e": {
      "model_module": "@jupyter-widgets/controls",
      "model_module_version": "1.1.0",
      "model_name": "CheckboxModel",
      "state": {
       "description": "135°",
       "disabled": false,
       "layout": "IPY_MODEL_09f1f55f355d408eb0e5a49eba19f462",
       "style": "IPY_MODEL_23c1b57dfe8f4761b1563240ada6a5b9",
       "value": true
      }
     },
     "b53b7f65937342619cb1be0545c449f6": {
      "model_module": "@jupyter-widgets/controls",
      "model_module_version": "1.1.0",
      "model_name": "LabelModel",
      "state": {
       "layout": "IPY_MODEL_4b3e0d7cc3a34cd19bab3b2ed36231f6",
       "style": "IPY_MODEL_0a0d9cee4f61455e902848baa25f71d3",
       "value": "Select which secondary particle to plot spectra for."
      }
     },
     "b55ba0c4ae6f4a6799d320c9b45bfdf5": {
      "model_module": "@jupyter-widgets/controls",
      "model_module_version": "1.1.0",
      "model_name": "DescriptionStyleModel",
      "state": {
       "description_width": ""
      }
     },
     "b566ff860baa48be8cdc1426984241e2": {
      "model_module": "@jupyter-widgets/controls",
      "model_module_version": "1.1.0",
      "model_name": "CheckboxModel",
      "state": {
       "description": "12.7°",
       "disabled": false,
       "layout": "IPY_MODEL_047a017af03e49b6b3d64477ccdbb467",
       "style": "IPY_MODEL_237c8b13f52c471ebb970a663c67e096",
       "value": true
      }
     },
     "b576ea33eaae4f5881e5e4345ac108c8": {
      "model_module": "@jupyter-widgets/controls",
      "model_module_version": "1.1.0",
      "model_name": "DescriptionStyleModel",
      "state": {
       "description_width": ""
      }
     },
     "b57b30fb574d4bc390c13d021a91cb9f": {
      "model_module": "@jupyter-widgets/controls",
      "model_module_version": "1.1.0",
      "model_name": "ToggleButtonsStyleModel",
      "state": {
       "button_width": "",
       "description_width": ""
      }
     },
     "b5f2154c6ab6493891178428e440d1b4": {
      "model_module": "@jupyter-widgets/controls",
      "model_module_version": "1.1.0",
      "model_name": "LabelModel",
      "state": {
       "layout": "IPY_MODEL_9205c477a1be4469b22d1997d942407d",
       "style": "IPY_MODEL_7d80945944f749c38f55ca99a4d8e702",
       "value": "Select the detector angles to plot."
      }
     },
     "b607a8a1011f41e79657979eed2d5d47": {
      "model_module": "@jupyter-widgets/base",
      "model_module_version": "1.0.0",
      "model_name": "LayoutModel",
      "state": {}
     },
     "b61af8bb6c014c1685e4e5c56f1af885": {
      "model_module": "@jupyter-widgets/controls",
      "model_module_version": "1.1.0",
      "model_name": "CheckboxModel",
      "state": {
       "description": "45°",
       "disabled": false,
       "layout": "IPY_MODEL_0df35494584e4aa2ae0f69fa4df9264c",
       "style": "IPY_MODEL_772e5375e9884cc59b06095fd14fa29c",
       "value": true
      }
     },
     "b65c01657bd649c8b8b1c5021cec090e": {
      "model_module": "@jupyter-widgets/base",
      "model_module_version": "1.0.0",
      "model_name": "LayoutModel",
      "state": {}
     },
     "b674b2d7269d422ca8de761bb917d833": {
      "model_module": "@jupyter-widgets/controls",
      "model_module_version": "1.1.0",
      "model_name": "LabelModel",
      "state": {
       "layout": "IPY_MODEL_8d01d2f5c2274b13984798d5294ef8a5",
       "style": "IPY_MODEL_c8ae63bb7c01400db0e6029877fcd041",
       "value": "Select which secondary particle to plot spectra for."
      }
     },
     "b67cce65aca44fba99692642db417b07": {
      "model_module": "@jupyter-widgets/base",
      "model_module_version": "1.0.0",
      "model_name": "LayoutModel",
      "state": {}
     },
     "b6a6026f9a484957a255fc96600c9c14": {
      "model_module": "@jupyter-widgets/base",
      "model_module_version": "1.0.0",
      "model_name": "LayoutModel",
      "state": {}
     },
     "b6afb6b7e2334252b59396dc1689c01a": {
      "model_module": "@jupyter-widgets/base",
      "model_module_version": "1.0.0",
      "model_name": "LayoutModel",
      "state": {}
     },
     "b6c24efdc53a4660a49ce93bba5de96a": {
      "model_module": "@jupyter-widgets/controls",
      "model_module_version": "1.1.0",
      "model_name": "ToggleButtonsStyleModel",
      "state": {
       "button_width": "",
       "description_width": ""
      }
     },
     "b6ca782bee7b416ab05bbad8e0002595": {
      "model_module": "@jupyter-widgets/controls",
      "model_module_version": "1.1.0",
      "model_name": "DescriptionStyleModel",
      "state": {
       "description_width": ""
      }
     },
     "b7be33966ed84c308844b092b0c1794b": {
      "model_module": "@jupyter-widgets/controls",
      "model_module_version": "1.1.0",
      "model_name": "LabelModel",
      "state": {
       "layout": "IPY_MODEL_7e75049786dd41599baa59cfbe1fc39b",
       "style": "IPY_MODEL_c678569758de4f529b9236ee5c8403d5",
       "value": "Select which secondary particle to plot spectra for."
      }
     },
     "b7d90552fa1a42b7b0e7aee76ca65e5f": {
      "model_module": "@jupyter-widgets/base",
      "model_module_version": "1.0.0",
      "model_name": "LayoutModel",
      "state": {}
     },
     "b8108655ca854fd99c5f09e3351079e7": {
      "model_module": "@jupyter-widgets/controls",
      "model_module_version": "1.1.0",
      "model_name": "LabelModel",
      "state": {
       "layout": "IPY_MODEL_d5cea0698b5549ff91278b8edbf8403c",
       "style": "IPY_MODEL_94b023f46072463da950114129668831",
       "value": "Select which secondary particle to plot spectra for."
      }
     },
     "b8297bde69954b1fad28c2af975eeb32": {
      "model_module": "@jupyter-widgets/base",
      "model_module_version": "1.0.0",
      "model_name": "LayoutModel",
      "state": {}
     },
     "b8344f383a404edcbad1b84fd6237079": {
      "model_module": "@jupyter-widgets/base",
      "model_module_version": "1.0.0",
      "model_name": "LayoutModel",
      "state": {}
     },
     "b856131f1d914d269eb6add2af93b1da": {
      "model_module": "@jupyter-widgets/controls",
      "model_module_version": "1.1.0",
      "model_name": "CheckboxModel",
      "state": {
       "description": "45°",
       "disabled": false,
       "layout": "IPY_MODEL_056247fa572144639545bed9724d980c",
       "style": "IPY_MODEL_1444a36731094071b713ff974db02236",
       "value": true
      }
     },
     "b88e9620565a40ab941bc49f29829681": {
      "model_module": "@jupyter-widgets/controls",
      "model_module_version": "1.1.0",
      "model_name": "DescriptionStyleModel",
      "state": {
       "description_width": ""
      }
     },
     "b897da7bbb4b482da822f91e6f777254": {
      "model_module": "@jupyter-widgets/base",
      "model_module_version": "1.0.0",
      "model_name": "LayoutModel",
      "state": {}
     },
     "b8c1fc0e080f4c32b4e9b22cf32efc54": {
      "model_module": "@jupyter-widgets/controls",
      "model_module_version": "1.1.0",
      "model_name": "DescriptionStyleModel",
      "state": {
       "description_width": ""
      }
     },
     "b8d668ae50cd4ec0b0e9768bf13ebaee": {
      "model_module": "@jupyter-widgets/base",
      "model_module_version": "1.0.0",
      "model_name": "LayoutModel",
      "state": {}
     },
     "b8dff6def2614a08a4261fa0559edf8f": {
      "model_module": "@jupyter-widgets/base",
      "model_module_version": "1.0.0",
      "model_name": "LayoutModel",
      "state": {}
     },
     "b92f010ba6644ef09f689749aaef6c55": {
      "model_module": "@jupyter-widgets/controls",
      "model_module_version": "1.1.0",
      "model_name": "ToggleButtonsModel",
      "state": {
       "_options_labels": [
        "20 g/cm²",
        "40 g/cm²",
        "60 g/cm²"
       ],
       "button_style": "",
       "description": "Thickness:",
       "icons": [],
       "index": 0,
       "layout": "IPY_MODEL_684604c74c48451cb8d88cce812fa285",
       "style": "IPY_MODEL_a26a19e574a74b3aad7172dac323e62c",
       "tooltips": [
        "20 g/cm² Aluminum",
        "40 g/cm² Aluminum",
        "60 g/cm² Aluminum"
       ]
      }
     },
     "b9316152f11b4e6abb675239c77ba00d": {
      "model_module": "@jupyter-widgets/controls",
      "model_module_version": "1.1.0",
      "model_name": "CheckboxModel",
      "state": {
       "description": "60°",
       "disabled": false,
       "layout": "IPY_MODEL_c247e4d27db645cdbb1e7153192027f9",
       "style": "IPY_MODEL_d4b9f633fd8e436691e847affb28e00e",
       "value": true
      }
     },
     "b949026b8c67487686303947e66a0280": {
      "model_module": "@jupyter-widgets/controls",
      "model_module_version": "1.1.0",
      "model_name": "ToggleButtonsStyleModel",
      "state": {
       "button_width": "",
       "description_width": ""
      }
     },
     "b957fd9211284d609f9603993f986749": {
      "model_module": "@jupyter-widgets/controls",
      "model_module_version": "1.1.0",
      "model_name": "DescriptionStyleModel",
      "state": {
       "description_width": ""
      }
     },
     "b9990a2b49b6435698c983f95dffee98": {
      "model_module": "@jupyter-widgets/controls",
      "model_module_version": "1.1.0",
      "model_name": "CheckboxModel",
      "state": {
       "description": "45°",
       "disabled": false,
       "layout": "IPY_MODEL_c14dc0adba2447e4baf73e910a05fa09",
       "style": "IPY_MODEL_c215f301a28d414e99b205b3675a75b2",
       "value": true
      }
     },
     "b9a295703a434006a11d43612918cd24": {
      "model_module": "@jupyter-widgets/controls",
      "model_module_version": "1.1.0",
      "model_name": "LabelModel",
      "state": {
       "layout": "IPY_MODEL_d1ac398fa03e44a19539a04c4ceeade0",
       "style": "IPY_MODEL_562a8ee6c510478180bbe9768376706b",
       "value": "Select the detector angles to plot."
      }
     },
     "b9dab9d17bf64a35a64df1f99eb71dff": {
      "model_module": "@jupyter-widgets/controls",
      "model_module_version": "1.1.0",
      "model_name": "LabelModel",
      "state": {
       "layout": "IPY_MODEL_1bc61067e7e84ec4893204250a69454a",
       "style": "IPY_MODEL_75b462689dd34b93816d80b241ce3836",
       "value": "Select which secondary particle to plot spectra for."
      }
     },
     "b9fe73a9d00447f5a6611838aa68771a": {
      "model_module": "@jupyter-widgets/base",
      "model_module_version": "1.0.0",
      "model_name": "LayoutModel",
      "state": {}
     },
     "ba5974914274434e849a78b98524392b": {
      "model_module": "@jupyter-widgets/base",
      "model_module_version": "1.0.0",
      "model_name": "LayoutModel",
      "state": {}
     },
     "ba69a78e6aeb4bbea77b34d2f431ded8": {
      "model_module": "@jupyter-widgets/controls",
      "model_module_version": "1.1.0",
      "model_name": "DescriptionStyleModel",
      "state": {
       "description_width": ""
      }
     },
     "ba722835f7ba445792a8f5734717ca5e": {
      "model_module": "@jupyter-widgets/base",
      "model_module_version": "1.0.0",
      "model_name": "LayoutModel",
      "state": {}
     },
     "ba78bc8a1130442f9a4edeca1e7ac020": {
      "model_module": "@jupyter-widgets/controls",
      "model_module_version": "1.1.0",
      "model_name": "CheckboxModel",
      "state": {
       "description": "60°",
       "disabled": false,
       "layout": "IPY_MODEL_38c4777f06d8457d84f1bb3212e9c5a4",
       "style": "IPY_MODEL_2c1a48858de5405496aade8f31332dc4",
       "value": true
      }
     },
     "ba7e0728ba3d417ca8231f82f6648646": {
      "model_module": "@jupyter-widgets/base",
      "model_module_version": "1.0.0",
      "model_name": "LayoutModel",
      "state": {}
     },
     "ba8a10037e434f2aa71abde4f5d250dd": {
      "model_module": "@jupyter-widgets/controls",
      "model_module_version": "1.1.0",
      "model_name": "DescriptionStyleModel",
      "state": {
       "description_width": ""
      }
     },
     "baa9ddbc265546269ba4c9d6de39ae5a": {
      "model_module": "@jupyter-widgets/controls",
      "model_module_version": "1.1.0",
      "model_name": "DescriptionStyleModel",
      "state": {
       "description_width": ""
      }
     },
     "bae7a6f7fe1a4131a2844ed828976a30": {
      "model_module": "@jupyter-widgets/controls",
      "model_module_version": "1.1.0",
      "model_name": "DescriptionStyleModel",
      "state": {
       "description_width": ""
      }
     },
     "baf6d63299f54108a883c23ac2fe5f20": {
      "model_module": "@jupyter-widgets/base",
      "model_module_version": "1.0.0",
      "model_name": "LayoutModel",
      "state": {}
     },
     "bb0ee65ce4894fc79a7cad5d70b7b308": {
      "model_module": "@jupyter-widgets/controls",
      "model_module_version": "1.1.0",
      "model_name": "DescriptionStyleModel",
      "state": {
       "description_width": ""
      }
     },
     "bb2cd9b121534a8290c6451b95d7d29c": {
      "model_module": "@jupyter-widgets/controls",
      "model_module_version": "1.1.0",
      "model_name": "DescriptionStyleModel",
      "state": {
       "description_width": ""
      }
     },
     "bb9f995dec93484fbc27fa706f5fd3f1": {
      "model_module": "@jupyter-widgets/controls",
      "model_module_version": "1.1.0",
      "model_name": "DescriptionStyleModel",
      "state": {
       "description_width": ""
      }
     },
     "bbb5f1f4d7e24b1a81fd951913eb0c43": {
      "model_module": "@jupyter-widgets/base",
      "model_module_version": "1.0.0",
      "model_name": "LayoutModel",
      "state": {}
     },
     "bbfdb7e282fb4cf7a8c4f45ee8f7158b": {
      "model_module": "@jupyter-widgets/base",
      "model_module_version": "1.0.0",
      "model_name": "LayoutModel",
      "state": {}
     },
     "bc51dbf7d6b44cb0861568d60899abdf": {
      "model_module": "@jupyter-widgets/base",
      "model_module_version": "1.0.0",
      "model_name": "LayoutModel",
      "state": {}
     },
     "bc66069ba2424e408276de2b0e664572": {
      "model_module": "@jupyter-widgets/base",
      "model_module_version": "1.0.0",
      "model_name": "LayoutModel",
      "state": {}
     },
     "bcb669779e704f5bbc7005e2a8fe5f34": {
      "model_module": "@jupyter-widgets/controls",
      "model_module_version": "1.1.0",
      "model_name": "DescriptionStyleModel",
      "state": {
       "description_width": ""
      }
     },
     "bd362c07cd334d70bd7f4785fc3d74b8": {
      "model_module": "@jupyter-widgets/controls",
      "model_module_version": "1.1.0",
      "model_name": "LabelModel",
      "state": {
       "layout": "IPY_MODEL_3f65a85a160a4441a7874fdb881d8141",
       "style": "IPY_MODEL_9a782c49ef184e6187246afe41090552",
       "value": "Select projectile ion energy."
      }
     },
     "bd41122844de4aae8b4b30b5db539440": {
      "model_module": "@jupyter-widgets/controls",
      "model_module_version": "1.1.0",
      "model_name": "LabelModel",
      "state": {
       "layout": "IPY_MODEL_16826bc0ce984138840e74701681d5b5",
       "style": "IPY_MODEL_04f6f0b7ec3144c382a4cc7cc0382006",
       "value": "Select which secondary particle to plot spectra for."
      }
     },
     "bd483a3dc18d413ea212d738f4af43c7": {
      "model_module": "@jupyter-widgets/controls",
      "model_module_version": "1.1.0",
      "model_name": "LabelModel",
      "state": {
       "layout": "IPY_MODEL_16f7563b15f24961b00e03182136e5e0",
       "style": "IPY_MODEL_89ba51ac47ff491199111cd3336fdf93",
       "value": "Select projectile ion species and energy."
      }
     },
     "bd5febe9c93d4f3d9f7c0a2de919bdcd": {
      "model_module": "@jupyter-widgets/controls",
      "model_module_version": "1.1.0",
      "model_name": "LabelModel",
      "state": {
       "layout": "IPY_MODEL_7bd7ac599ac74a43b9d70028a1cfbf6b",
       "style": "IPY_MODEL_55e1e3be375a42268d92b16cccceeff0",
       "value": "Select projectile ion energy."
      }
     },
     "bda8a0b7dba3496ba7ce9e542d024565": {
      "model_module": "@jupyter-widgets/base",
      "model_module_version": "1.0.0",
      "model_name": "LayoutModel",
      "state": {}
     },
     "bdbce8b329e84bacadec6d2e96f30b1e": {
      "model_module": "@jupyter-widgets/base",
      "model_module_version": "1.0.0",
      "model_name": "LayoutModel",
      "state": {}
     },
     "bdf78436e9c142c9a60aa393d33ca884": {
      "model_module": "@jupyter-widgets/base",
      "model_module_version": "1.0.0",
      "model_name": "LayoutModel",
      "state": {}
     },
     "be7c1d76834143be9f8d17152e78cf48": {
      "model_module": "@jupyter-widgets/controls",
      "model_module_version": "1.1.0",
      "model_name": "DescriptionStyleModel",
      "state": {
       "description_width": ""
      }
     },
     "be7e7da3f74547e9b6d4c1ebe08afb4a": {
      "model_module": "@jupyter-widgets/base",
      "model_module_version": "1.0.0",
      "model_name": "LayoutModel",
      "state": {}
     },
     "beab15b6f69046b9a9896a6d4c041455": {
      "model_module": "@jupyter-widgets/controls",
      "model_module_version": "1.1.0",
      "model_name": "CheckboxModel",
      "state": {
       "description": "MCNP simulated",
       "disabled": false,
       "layout": "IPY_MODEL_85f344bca2d2496c920f8d78b4cd6a77",
       "style": "IPY_MODEL_3ab5122a8d864d1d9bbb389b35e1ab2d",
       "value": true
      }
     },
     "bec0a54e31b749e9ad4b1152e11a6e85": {
      "model_module": "@jupyter-widgets/base",
      "model_module_version": "1.0.0",
      "model_name": "LayoutModel",
      "state": {}
     },
     "bf33cefc9a6c478fadc7163128193859": {
      "model_module": "@jupyter-widgets/controls",
      "model_module_version": "1.1.0",
      "model_name": "DescriptionStyleModel",
      "state": {
       "description_width": ""
      }
     },
     "bf382fe9a9d94fe6afae769e4d07fb7e": {
      "model_module": "@jupyter-widgets/controls",
      "model_module_version": "1.1.0",
      "model_name": "DescriptionStyleModel",
      "state": {
       "description_width": ""
      }
     },
     "bf3f53a943e7415d8dcc29ce937d5d99": {
      "model_module": "@jupyter-widgets/base",
      "model_module_version": "1.0.0",
      "model_name": "LayoutModel",
      "state": {}
     },
     "bf46a752abcc4d5fbf32245fdf95c4c6": {
      "model_module": "@jupyter-widgets/controls",
      "model_module_version": "1.1.0",
      "model_name": "DescriptionStyleModel",
      "state": {
       "description_width": ""
      }
     },
     "bfa9678962414ce1a91370a38ecd8bea": {
      "model_module": "@jupyter-widgets/controls",
      "model_module_version": "1.1.0",
      "model_name": "CheckboxModel",
      "state": {
       "description": "45°",
       "disabled": false,
       "layout": "IPY_MODEL_72fe73391da34aa7b16dcf466b9d7dcc",
       "style": "IPY_MODEL_84bb49288518474f8493046eb8864d73",
       "value": true
      }
     },
     "bfd6c883ab654524b99c3f030206e901": {
      "model_module": "@jupyter-widgets/base",
      "model_module_version": "1.0.0",
      "model_name": "LayoutModel",
      "state": {}
     },
     "bffadc0fdad34452a4d2a071f33aced7": {
      "model_module": "@jupyter-widgets/controls",
      "model_module_version": "1.1.0",
      "model_name": "CheckboxModel",
      "state": {
       "description": "80°",
       "disabled": false,
       "layout": "IPY_MODEL_53f0713094b941d09069608eb0b7e26c",
       "style": "IPY_MODEL_e10661569efd495da1417ba600cbe9cb",
       "value": true
      }
     },
     "c0022b5007774bf79c4d4b1687aa6774": {
      "model_module": "@jupyter-widgets/controls",
      "model_module_version": "1.1.0",
      "model_name": "CheckboxModel",
      "state": {
       "description": "30°",
       "disabled": false,
       "layout": "IPY_MODEL_fb4e6dcac5164de5891986bbceb3509d",
       "style": "IPY_MODEL_3d95b66ff94d442283299aecf4512049",
       "value": false
      }
     },
     "c01c78719669455786f6a3d7f97a34f2": {
      "model_module": "@jupyter-widgets/controls",
      "model_module_version": "1.1.0",
      "model_name": "ToggleButtonsStyleModel",
      "state": {
       "button_width": "",
       "description_width": ""
      }
     },
     "c028581d290146adb6944ce81d6a8445": {
      "model_module": "@jupyter-widgets/base",
      "model_module_version": "1.0.0",
      "model_name": "LayoutModel",
      "state": {}
     },
     "c0499be5ef594524a3196add15ece8df": {
      "model_module": "@jupyter-widgets/controls",
      "model_module_version": "1.1.0",
      "model_name": "DescriptionStyleModel",
      "state": {
       "description_width": ""
      }
     },
     "c056e640edce4c269d8bbf0f54262eae": {
      "model_module": "@jupyter-widgets/base",
      "model_module_version": "1.0.0",
      "model_name": "LayoutModel",
      "state": {}
     },
     "c0590248ff2b4526bf62006198a16f0e": {
      "model_module": "@jupyter-widgets/base",
      "model_module_version": "1.0.0",
      "model_name": "LayoutModel",
      "state": {}
     },
     "c0771b671595474abd61daef2cdb5433": {
      "model_module": "@jupyter-widgets/base",
      "model_module_version": "1.0.0",
      "model_name": "LayoutModel",
      "state": {}
     },
     "c0f6777710504c2a9dc4db5719a18f44": {
      "model_module": "@jupyter-widgets/controls",
      "model_module_version": "1.1.0",
      "model_name": "LabelModel",
      "state": {
       "layout": "IPY_MODEL_9c3d1a868c3744808e6abb20b62e5b3c",
       "style": "IPY_MODEL_1487e8abab6d47ebb0c49c2e27bd0fc5",
       "value": "Select which secondary particle to plot spectra for."
      }
     },
     "c14dc0adba2447e4baf73e910a05fa09": {
      "model_module": "@jupyter-widgets/base",
      "model_module_version": "1.0.0",
      "model_name": "LayoutModel",
      "state": {}
     },
     "c15c7534a6b2413885d8a67c1a50e638": {
      "model_module": "@jupyter-widgets/base",
      "model_module_version": "1.0.0",
      "model_name": "LayoutModel",
      "state": {}
     },
     "c194486c042d403cbe2d0be71a136b56": {
      "model_module": "@jupyter-widgets/base",
      "model_module_version": "1.0.0",
      "model_name": "LayoutModel",
      "state": {}
     },
     "c1aebeaac9fa4ea282b7974dbfe4b85e": {
      "model_module": "@jupyter-widgets/base",
      "model_module_version": "1.0.0",
      "model_name": "LayoutModel",
      "state": {}
     },
     "c1b4698aaec643bf83f637a29587f2b2": {
      "model_module": "@jupyter-widgets/base",
      "model_module_version": "1.0.0",
      "model_name": "LayoutModel",
      "state": {}
     },
     "c1b9929aef52467a8cb15e30ab6a6022": {
      "model_module": "@jupyter-widgets/controls",
      "model_module_version": "1.1.0",
      "model_name": "ToggleButtonsModel",
      "state": {
       "_options_labels": [
        "N (¹n)",
        "NDC (¹n)",
        "P (¹H)",
        "D (²H)",
        "T (³H)",
        "S (³He)",
        "A (⁴He)"
       ],
       "button_style": "",
       "description": "Type:",
       "icons": [],
       "index": 0,
       "layout": "IPY_MODEL_ba5974914274434e849a78b98524392b",
       "style": "IPY_MODEL_b57b30fb574d4bc390c13d021a91cb9f",
       "tooltips": [
        "Neutron",
        "Back Target Neutron",
        "Proton",
        "Deuteron",
        "Triton",
        "Helium-3",
        "Helium-4"
       ]
      }
     },
     "c1c5f6f054eb47afa07f81d79557c135": {
      "model_module": "@jupyter-widgets/controls",
      "model_module_version": "1.1.0",
      "model_name": "CheckboxModel",
      "state": {
       "description": "80°",
       "disabled": false,
       "layout": "IPY_MODEL_eb377fa66aa746eb968995e2f2ab0fb4",
       "style": "IPY_MODEL_a321347d4d5f4ecb987a829fce03e8c4",
       "value": true
      }
     },
     "c1cd48b836b04ac39da55e011f815606": {
      "model_module": "@jupyter-widgets/controls",
      "model_module_version": "1.1.0",
      "model_name": "CheckboxModel",
      "state": {
       "description": "60°",
       "disabled": false,
       "layout": "IPY_MODEL_d64a6f169766417687bda1456c4afe74",
       "style": "IPY_MODEL_d9522eb135c94484ab8c6f8eead3da76",
       "value": true
      }
     },
     "c1f0fe0e0033488dbc36898ea42ec496": {
      "model_module": "@jupyter-widgets/controls",
      "model_module_version": "1.1.0",
      "model_name": "CheckboxModel",
      "state": {
       "description": "135°",
       "disabled": false,
       "layout": "IPY_MODEL_e4b014e21c154a99a472d17155e7609e",
       "style": "IPY_MODEL_2cbce1b442a14338ac65ea260a0b4912",
       "value": true
      }
     },
     "c1ffa3b527a14f749db3767d28b3376e": {
      "model_module": "@jupyter-widgets/controls",
      "model_module_version": "1.1.0",
      "model_name": "CheckboxModel",
      "state": {
       "description": "135°",
       "disabled": false,
       "layout": "IPY_MODEL_6592682b66da430baa3d52e6c03c9f70",
       "style": "IPY_MODEL_a04b56b70c6047e7b67fb614b236f0a7",
       "value": true
      }
     },
     "c215f301a28d414e99b205b3675a75b2": {
      "model_module": "@jupyter-widgets/controls",
      "model_module_version": "1.1.0",
      "model_name": "DescriptionStyleModel",
      "state": {
       "description_width": ""
      }
     },
     "c228732bfbf743af860c7684138408c2": {
      "model_module": "@jupyter-widgets/controls",
      "model_module_version": "1.1.0",
      "model_name": "CheckboxModel",
      "state": {
       "description": "135°",
       "disabled": false,
       "layout": "IPY_MODEL_f53498484d3e4625ba5faed05d104562",
       "style": "IPY_MODEL_2225873d1fc84b7c8f4477065572bcf8",
       "value": true
      }
     },
     "c247e4d27db645cdbb1e7153192027f9": {
      "model_module": "@jupyter-widgets/base",
      "model_module_version": "1.0.0",
      "model_name": "LayoutModel",
      "state": {}
     },
     "c24a1cfb75f44d6392ee6ea2874d43d0": {
      "model_module": "@jupyter-widgets/base",
      "model_module_version": "1.0.0",
      "model_name": "LayoutModel",
      "state": {}
     },
     "c2605c1cb60749a7b7270bcd75f72b79": {
      "model_module": "@jupyter-widgets/controls",
      "model_module_version": "1.1.0",
      "model_name": "DescriptionStyleModel",
      "state": {
       "description_width": ""
      }
     },
     "c2da93c1248a406e97cdbda52cd4353e": {
      "model_module": "@jupyter-widgets/base",
      "model_module_version": "1.0.0",
      "model_name": "LayoutModel",
      "state": {}
     },
     "c318953cfd4243008e86467387d08b65": {
      "model_module": "@jupyter-widgets/controls",
      "model_module_version": "1.1.0",
      "model_name": "ToggleButtonsModel",
      "state": {
       "_options_labels": [
        "N (¹n)",
        "NDC (¹n)",
        "P (¹H)",
        "D (²H)",
        "T (³H)",
        "S (³He)",
        "A (⁴He)"
       ],
       "button_style": "",
       "description": "Type:",
       "icons": [],
       "index": 0,
       "layout": "IPY_MODEL_0746464c2c8941e88c580ec518a56bda",
       "style": "IPY_MODEL_6534c2495cb84bcebdd805f461b0f732",
       "tooltips": [
        "Neutron",
        "Back Target Neutron",
        "Proton",
        "Deuteron",
        "Triton",
        "Helium-3",
        "Helium-4"
       ]
      }
     },
     "c3400ef1c4144ff0a3d3f80ad347eef2": {
      "model_module": "@jupyter-widgets/controls",
      "model_module_version": "1.1.0",
      "model_name": "CheckboxModel",
      "state": {
       "description": "30°",
       "disabled": false,
       "layout": "IPY_MODEL_dbebba09632b483a9b1a0034cee0d6a2",
       "style": "IPY_MODEL_7fda445d7820403baadc8a73574b6efa",
       "value": false
      }
     },
     "c341e551dd3f44e6b6220a52550cbe89": {
      "model_module": "@jupyter-widgets/controls",
      "model_module_version": "1.1.0",
      "model_name": "DescriptionStyleModel",
      "state": {
       "description_width": ""
      }
     },
     "c364e5d45e4041ecb1b0e2902e992113": {
      "model_module": "@jupyter-widgets/controls",
      "model_module_version": "1.1.0",
      "model_name": "DescriptionStyleModel",
      "state": {
       "description_width": ""
      }
     },
     "c36ab799793746f6bc03bf2334ab97d9": {
      "model_module": "@jupyter-widgets/base",
      "model_module_version": "1.0.0",
      "model_name": "LayoutModel",
      "state": {}
     },
     "c3a04ceeb2e74e89bb7895f0f5657097": {
      "model_module": "@jupyter-widgets/controls",
      "model_module_version": "1.1.0",
      "model_name": "DescriptionStyleModel",
      "state": {
       "description_width": ""
      }
     },
     "c3cab31f4d4f4a858cd9408d120aca09": {
      "model_module": "@jupyter-widgets/base",
      "model_module_version": "1.0.0",
      "model_name": "LayoutModel",
      "state": {}
     },
     "c3ecc9526c494ff2a70d7aeab2d6a81a": {
      "model_module": "@jupyter-widgets/base",
      "model_module_version": "1.0.0",
      "model_name": "LayoutModel",
      "state": {}
     },
     "c3f3fef894c94cb3a2fed42e5d4f1d51": {
      "model_module": "@jupyter-widgets/base",
      "model_module_version": "1.0.0",
      "model_name": "LayoutModel",
      "state": {}
     },
     "c427e3c1ea6549109d108f8a2ff7ce3d": {
      "model_module": "@jupyter-widgets/base",
      "model_module_version": "1.0.0",
      "model_name": "LayoutModel",
      "state": {}
     },
     "c43587bf18fc4df3aa6cd8e0c6462a00": {
      "model_module": "@jupyter-widgets/controls",
      "model_module_version": "1.1.0",
      "model_name": "CheckboxModel",
      "state": {
       "description": "45°",
       "disabled": false,
       "layout": "IPY_MODEL_3b0965cfea5647cda8732d9283755930",
       "style": "IPY_MODEL_708e8d7a766147bbbdf1d488d6ce12fb",
       "value": true
      }
     },
     "c459114639ed4bc5a71cb01a38c3b60d": {
      "model_module": "@jupyter-widgets/controls",
      "model_module_version": "1.1.0",
      "model_name": "DescriptionStyleModel",
      "state": {
       "description_width": ""
      }
     },
     "c467599e69bc488e82d4f38a5ff5f2cb": {
      "model_module": "@jupyter-widgets/controls",
      "model_module_version": "1.1.0",
      "model_name": "CheckboxModel",
      "state": {
       "description": "60°",
       "disabled": false,
       "layout": "IPY_MODEL_221bea030d1f40a2b9b84b5abf1b088f",
       "style": "IPY_MODEL_2a459902ad7c4a8298153c85b011898a",
       "value": true
      }
     },
     "c4a1b29d0fb141bdbb5de598c0f0303c": {
      "model_module": "@jupyter-widgets/controls",
      "model_module_version": "1.1.0",
      "model_name": "DescriptionStyleModel",
      "state": {
       "description_width": ""
      }
     },
     "c4a57c92eebd4810aa0aa71fd8bd643b": {
      "model_module": "@jupyter-widgets/controls",
      "model_module_version": "1.1.0",
      "model_name": "ToggleButtonsModel",
      "state": {
       "_options_labels": [
        "N (¹n)",
        "NDC (¹n)",
        "P (¹H)",
        "D (²H)",
        "T (³H)",
        "S (³He)",
        "A (⁴He)"
       ],
       "button_style": "",
       "description": "Secondary:",
       "icons": [],
       "index": 0,
       "layout": "IPY_MODEL_701d737cb8f8401b810a0390210365f7",
       "style": "IPY_MODEL_6db02d35a9c74e88ba5a58093a39757d",
       "tooltips": [
        "Neutron",
        "Back Target Neutron",
        "Proton",
        "Deuteron",
        "Triton",
        "Helium-3",
        "Helium-4"
       ]
      }
     },
     "c4c4135d776f4acd9de51c55ac838f6e": {
      "model_module": "@jupyter-widgets/base",
      "model_module_version": "1.0.0",
      "model_name": "LayoutModel",
      "state": {}
     },
     "c5319387ee0f448b983f45fd842808da": {
      "model_module": "@jupyter-widgets/controls",
      "model_module_version": "1.1.0",
      "model_name": "DescriptionStyleModel",
      "state": {
       "description_width": ""
      }
     },
     "c54c9d51da38459b8157bb4c4af075a8": {
      "model_module": "@jupyter-widgets/controls",
      "model_module_version": "1.1.0",
      "model_name": "ButtonModel",
      "state": {
       "button_style": "success",
       "description": "Update plot",
       "icon": "paint-brush",
       "layout": "IPY_MODEL_b066e3a83ac34f1a8f7719e1454d5875",
       "style": "IPY_MODEL_dad9cd6404314951aeb9cf470121a8d4",
       "tooltip": "Click to redraw the plot below with updated options from above."
      }
     },
     "c55be318b618401aa49426e531b98d5a": {
      "model_module": "@jupyter-widgets/controls",
      "model_module_version": "1.1.0",
      "model_name": "DescriptionStyleModel",
      "state": {
       "description_width": ""
      }
     },
     "c562ef4f47e44ba4a25a1214067302a6": {
      "model_module": "@jupyter-widgets/controls",
      "model_module_version": "1.1.0",
      "model_name": "ToggleButtonsModel",
      "state": {
       "_options_labels": [
        "N (¹n)",
        "NDC (¹n)",
        "P (¹H)",
        "D (²H)",
        "T (³H)",
        "S (³He)",
        "A (⁴He)"
       ],
       "button_style": "",
       "description": "Type:",
       "icons": [],
       "index": 0,
       "layout": "IPY_MODEL_c1aebeaac9fa4ea282b7974dbfe4b85e",
       "style": "IPY_MODEL_f5ec4bafce8a47389fc36bbf380ff089",
       "tooltips": [
        "Neutron",
        "Back Target Neutron",
        "Proton",
        "Deuteron",
        "Triton",
        "Helium-3",
        "Helium-4"
       ]
      }
     },
     "c56ced0041c94f55aaa3a317d34c1d09": {
      "model_module": "@jupyter-widgets/controls",
      "model_module_version": "1.1.0",
      "model_name": "CheckboxModel",
      "state": {
       "description": "10°",
       "disabled": false,
       "layout": "IPY_MODEL_851d0803bb734f5cb54c8d637c457fd7",
       "style": "IPY_MODEL_652dafb0d07046108b2c23f2fb75432c",
       "value": true
      }
     },
     "c5ba512b65544eac8892c3d40dc607c7": {
      "model_module": "@jupyter-widgets/controls",
      "model_module_version": "1.1.0",
      "model_name": "CheckboxModel",
      "state": {
       "description": "80°",
       "disabled": false,
       "layout": "IPY_MODEL_5d2d2ef1e6f84956a3c03ae6b9da9860",
       "style": "IPY_MODEL_63d86dafd39f4b03988a50402ac33d4c",
       "value": true
      }
     },
     "c5d36e086e9d4cc3b7d1557ef0f7fa5e": {
      "model_module": "@jupyter-widgets/base",
      "model_module_version": "1.0.0",
      "model_name": "LayoutModel",
      "state": {}
     },
     "c6149c9d664341eeb822611421881604": {
      "model_module": "@jupyter-widgets/base",
      "model_module_version": "1.0.0",
      "model_name": "LayoutModel",
      "state": {}
     },
     "c62d708d273e40c981235311559699b9": {
      "model_module": "@jupyter-widgets/controls",
      "model_module_version": "1.1.0",
      "model_name": "DescriptionStyleModel",
      "state": {
       "description_width": ""
      }
     },
     "c65b04ff06e647c3a975ba85789edcdd": {
      "model_module": "@jupyter-widgets/controls",
      "model_module_version": "1.1.0",
      "model_name": "DescriptionStyleModel",
      "state": {
       "description_width": ""
      }
     },
     "c678569758de4f529b9236ee5c8403d5": {
      "model_module": "@jupyter-widgets/controls",
      "model_module_version": "1.1.0",
      "model_name": "DescriptionStyleModel",
      "state": {
       "description_width": ""
      }
     },
     "c6d34a4b256b4c58bd95617ca18f265f": {
      "model_module": "@jupyter-widgets/controls",
      "model_module_version": "1.1.0",
      "model_name": "CheckboxModel",
      "state": {
       "description": "10°",
       "disabled": false,
       "layout": "IPY_MODEL_99b698eb56d747a4b5796dc5533fe444",
       "style": "IPY_MODEL_90182fc3b98247dda06477453d580c02",
       "value": true
      }
     },
     "c6e914b0c98940cfb5bdd881a7c06bf3": {
      "model_module": "@jupyter-widgets/controls",
      "model_module_version": "1.1.0",
      "model_name": "DescriptionStyleModel",
      "state": {
       "description_width": ""
      }
     },
     "c72ecd5963ba4d40907396c95939e1c6": {
      "model_module": "@jupyter-widgets/base",
      "model_module_version": "1.0.0",
      "model_name": "LayoutModel",
      "state": {}
     },
     "c7328194159f4f2d85a4bda0a8139429": {
      "model_module": "@jupyter-widgets/controls",
      "model_module_version": "1.1.0",
      "model_name": "ButtonModel",
      "state": {
       "button_style": "success",
       "description": "Update plot",
       "icon": "paint-brush",
       "layout": "IPY_MODEL_5d45e9bedef14a86a1f78bb791530cec",
       "style": "IPY_MODEL_47696c0e2de54cffb03295fdca3ba4f9",
       "tooltip": "Click to redraw the plot below with updated options from above."
      }
     },
     "c758b050ef9b47c8b35069f92aa067b8": {
      "model_module": "@jupyter-widgets/base",
      "model_module_version": "1.0.0",
      "model_name": "LayoutModel",
      "state": {}
     },
     "c760664bc998443bb84932afb31eaad6": {
      "model_module": "@jupyter-widgets/base",
      "model_module_version": "1.0.0",
      "model_name": "LayoutModel",
      "state": {}
     },
     "c781799eb21a4af9aa79ac3f284d2c6c": {
      "model_module": "@jupyter-widgets/controls",
      "model_module_version": "1.1.0",
      "model_name": "LabelModel",
      "state": {
       "layout": "IPY_MODEL_88cfa02151b34707990f8b6da4262858",
       "style": "IPY_MODEL_d21dcefe518440e3b2bc50573c012adc",
       "value": "Select which secondary particle to plot spectra for."
      }
     },
     "c7c074fc033c4dddb885c5dd94e89828": {
      "model_module": "@jupyter-widgets/controls",
      "model_module_version": "1.1.0",
      "model_name": "LabelModel",
      "state": {
       "layout": "IPY_MODEL_c36ab799793746f6bc03bf2334ab97d9",
       "style": "IPY_MODEL_c459114639ed4bc5a71cb01a38c3b60d",
       "value": "Select which sets of data to display."
      }
     },
     "c7cfcb5d67974ae0ba1f4bc0e90120d3": {
      "model_module": "@jupyter-widgets/base",
      "model_module_version": "1.0.0",
      "model_name": "LayoutModel",
      "state": {}
     },
     "c7efe43aa3db4c0ca7e119d893945ce5": {
      "model_module": "@jupyter-widgets/controls",
      "model_module_version": "1.1.0",
      "model_name": "DescriptionStyleModel",
      "state": {
       "description_width": ""
      }
     },
     "c816ae50e3264d988f545c5092782e7c": {
      "model_module": "@jupyter-widgets/controls",
      "model_module_version": "1.1.0",
      "model_name": "CheckboxModel",
      "state": {
       "description": "28.2°",
       "disabled": false,
       "layout": "IPY_MODEL_6860fc537c664772b30afb7ebfc841f2",
       "style": "IPY_MODEL_381a1152e0f54045a01f73deaa3a0891",
       "value": false
      }
     },
     "c8211cb6300e44fa966325786ab29b71": {
      "model_module": "@jupyter-widgets/controls",
      "model_module_version": "1.1.0",
      "model_name": "DescriptionStyleModel",
      "state": {
       "description_width": ""
      }
     },
     "c8511dd3661343c6858f5476e0b6fc22": {
      "model_module": "@jupyter-widgets/controls",
      "model_module_version": "1.1.0",
      "model_name": "CheckboxModel",
      "state": {
       "description": "45°",
       "disabled": false,
       "layout": "IPY_MODEL_7ece3efc3e354dbfafc81f8f5768649d",
       "style": "IPY_MODEL_3c1f3f08990e48fa8891fc336116f9c7",
       "value": true
      }
     },
     "c8572d550f764f4fa25c8affbd897b36": {
      "model_module": "@jupyter-widgets/controls",
      "model_module_version": "1.1.0",
      "model_name": "ButtonModel",
      "state": {
       "button_style": "success",
       "description": "Update plot",
       "icon": "paint-brush",
       "layout": "IPY_MODEL_aef4391aa0ee4ab78258b8820f439057",
       "style": "IPY_MODEL_1a684b2eadf148cba283c44e38e6ec3c",
       "tooltip": "Click to redraw the plot below with updated options from above."
      }
     },
     "c8ae63bb7c01400db0e6029877fcd041": {
      "model_module": "@jupyter-widgets/controls",
      "model_module_version": "1.1.0",
      "model_name": "DescriptionStyleModel",
      "state": {
       "description_width": ""
      }
     },
     "c9096cce08064afe9a49ae9c2fa7066b": {
      "model_module": "@jupyter-widgets/base",
      "model_module_version": "1.0.0",
      "model_name": "LayoutModel",
      "state": {}
     },
     "c91d206c71514e329592f5b2d7847ce1": {
      "model_module": "@jupyter-widgets/controls",
      "model_module_version": "1.1.0",
      "model_name": "ToggleButtonsModel",
      "state": {
       "_options_labels": [
        "OLS",
        "NaI"
       ],
       "button_style": "",
       "description": "Type:",
       "icons": [],
       "index": 0,
       "layout": "IPY_MODEL_bda8a0b7dba3496ba7ce9e542d024565",
       "style": "IPY_MODEL_5f3628b512394296a21837d4baf0cae3",
       "tooltips": [
        "Organic Liquid Scintillator",
        "Sodium Iodide"
       ]
      }
     },
     "c95e28d6844e45619a4a4d1857fd5165": {
      "model_module": "@jupyter-widgets/controls",
      "model_module_version": "1.1.0",
      "model_name": "DescriptionStyleModel",
      "state": {
       "description_width": ""
      }
     },
     "c9a56b89822e4c4fbe565ecbbd144637": {
      "model_module": "@jupyter-widgets/controls",
      "model_module_version": "1.1.0",
      "model_name": "DescriptionStyleModel",
      "state": {
       "description_width": ""
      }
     },
     "c9cb879e1adc497faaf4f9487356048f": {
      "model_module": "@jupyter-widgets/controls",
      "model_module_version": "1.1.0",
      "model_name": "ToggleButtonsStyleModel",
      "state": {
       "button_width": "",
       "description_width": ""
      }
     },
     "ca085263f9b244b0a4e6d635af9f2787": {
      "model_module": "@jupyter-widgets/controls",
      "model_module_version": "1.1.0",
      "model_name": "CheckboxModel",
      "state": {
       "description": "45°",
       "disabled": false,
       "layout": "IPY_MODEL_3c0a2da75dd243fc8e9cabdd1f16b48c",
       "style": "IPY_MODEL_6e2dd0d385234c758577ccd5cbbbcad0",
       "value": true
      }
     },
     "ca182e3a0f424fc68dfb41f48a7d9b02": {
      "model_module": "@jupyter-widgets/controls",
      "model_module_version": "1.1.0",
      "model_name": "ToggleButtonsModel",
      "state": {
       "_options_labels": [
        "N (¹n)",
        "NDC (¹n)"
       ],
       "button_style": "",
       "description": "Type:",
       "icons": [],
       "index": 0,
       "layout": "IPY_MODEL_5101c32fba2647e7b23b2c007b6a958d",
       "style": "IPY_MODEL_cc98f6ce25ae4f01a2d0186e181a2604",
       "tooltips": [
        "Neutron",
        "Back Target Neutron"
       ]
      }
     },
     "ca45354f50c94677a51e2632ed6da418": {
      "model_module": "@jupyter-widgets/controls",
      "model_module_version": "1.1.0",
      "model_name": "DescriptionStyleModel",
      "state": {
       "description_width": ""
      }
     },
     "ca4e9777b07947ecabbda0ab4c227933": {
      "model_module": "@jupyter-widgets/controls",
      "model_module_version": "1.1.0",
      "model_name": "ToggleButtonsModel",
      "state": {
       "_options_labels": [
        "OLS",
        "NaI"
       ],
       "button_style": "",
       "description": "Type:",
       "icons": [],
       "index": 0,
       "layout": "IPY_MODEL_863893332e2e4a1ea3beeeb0e14183ca",
       "style": "IPY_MODEL_421425277dc24c669526e22b1bd57aa2",
       "tooltips": [
        "Organic Liquid Scintillator",
        "Sodium Iodide"
       ]
      }
     },
     "ca97b7d91b494700a0f9d8dbcdc06288": {
      "model_module": "@jupyter-widgets/controls",
      "model_module_version": "1.1.0",
      "model_name": "CheckboxModel",
      "state": {
       "description": "45°",
       "disabled": false,
       "layout": "IPY_MODEL_3ab053ea2b48422690ce68b194f7ddce",
       "style": "IPY_MODEL_e68d8f144a094788886e98075cc5562e",
       "value": true
      }
     },
     "caa204e113d1449080e1c516dedcc235": {
      "model_module": "@jupyter-widgets/controls",
      "model_module_version": "1.1.0",
      "model_name": "DescriptionStyleModel",
      "state": {
       "description_width": ""
      }
     },
     "cab1869c6d1a4ab0bb065fd99a0140ad": {
      "model_module": "@jupyter-widgets/base",
      "model_module_version": "1.0.0",
      "model_name": "LayoutModel",
      "state": {}
     },
     "cb0a7974a4e34272921826b18fdb2d63": {
      "model_module": "@jupyter-widgets/controls",
      "model_module_version": "1.1.0",
      "model_name": "CheckboxModel",
      "state": {
       "description": "10°",
       "disabled": false,
       "layout": "IPY_MODEL_4b2dacfe18dc47e1a9d89b9d4d0d17ff",
       "style": "IPY_MODEL_6ba8174a3a714bbda95b620867e30c97",
       "value": true
      }
     },
     "cb181dab03d54ddba255fc96e4d2a1cd": {
      "model_module": "@jupyter-widgets/controls",
      "model_module_version": "1.1.0",
      "model_name": "LabelModel",
      "state": {
       "layout": "IPY_MODEL_298021c8e8b04b778ba3e3be8f36f9d6",
       "style": "IPY_MODEL_d9d5d8db352a493f88c715bae758c0a6",
       "value": "Select projectile ion energy."
      }
     },
     "cb570e4a32cf48c1b8b9eb2590302fbc": {
      "model_module": "@jupyter-widgets/controls",
      "model_module_version": "1.1.0",
      "model_name": "DescriptionStyleModel",
      "state": {
       "description_width": ""
      }
     },
     "cc25001962124cd0b19df67981cb178d": {
      "model_module": "@jupyter-widgets/controls",
      "model_module_version": "1.1.0",
      "model_name": "DescriptionStyleModel",
      "state": {
       "description_width": ""
      }
     },
     "cc5a322d499e45ec875485585e0187e8": {
      "model_module": "@jupyter-widgets/base",
      "model_module_version": "1.0.0",
      "model_name": "LayoutModel",
      "state": {}
     },
     "cc65ddbade114d65816325a44dc067e5": {
      "model_module": "@jupyter-widgets/controls",
      "model_module_version": "1.1.0",
      "model_name": "LabelModel",
      "state": {
       "layout": "IPY_MODEL_af0482e6032a4b5c895c578b92a107b1",
       "style": "IPY_MODEL_ef63fe9cf051472285a2119408a5362c",
       "value": "Select the detector angles to plot."
      }
     },
     "cc72e4f4aa744945b46d2989b2c8382b": {
      "model_module": "@jupyter-widgets/base",
      "model_module_version": "1.0.0",
      "model_name": "LayoutModel",
      "state": {}
     },
     "cc8d38e0424c4fb483595feafc62784c": {
      "model_module": "@jupyter-widgets/controls",
      "model_module_version": "1.1.0",
      "model_name": "ToggleButtonsStyleModel",
      "state": {
       "button_width": "",
       "description_width": ""
      }
     },
     "cc98f6ce25ae4f01a2d0186e181a2604": {
      "model_module": "@jupyter-widgets/controls",
      "model_module_version": "1.1.0",
      "model_name": "ToggleButtonsStyleModel",
      "state": {
       "button_width": "",
       "description_width": ""
      }
     },
     "cca342e79c6b4f2abd356205fe68475c": {
      "model_module": "@jupyter-widgets/base",
      "model_module_version": "1.0.0",
      "model_name": "LayoutModel",
      "state": {}
     },
     "cca5dfc34d4d45ccb86da44519b3d350": {
      "model_module": "@jupyter-widgets/controls",
      "model_module_version": "1.1.0",
      "model_name": "LabelModel",
      "state": {
       "layout": "IPY_MODEL_981cdde308eb4481983d9a466e0bac36",
       "style": "IPY_MODEL_a17e5aded5b64ba3a833ad45ea3a34bf",
       "value": "Select the detector angles to plot."
      }
     },
     "ccb28a988e3d4037916318232e82fdc2": {
      "model_module": "@jupyter-widgets/base",
      "model_module_version": "1.0.0",
      "model_name": "LayoutModel",
      "state": {}
     },
     "ccb92fb4f4334ceab4beced3bde87ad2": {
      "model_module": "@jupyter-widgets/controls",
      "model_module_version": "1.1.0",
      "model_name": "DescriptionStyleModel",
      "state": {
       "description_width": ""
      }
     },
     "ccc22dfa892845448f1f0d935789a00c": {
      "model_module": "@jupyter-widgets/controls",
      "model_module_version": "1.1.0",
      "model_name": "CheckboxModel",
      "state": {
       "description": "30°",
       "disabled": false,
       "layout": "IPY_MODEL_72e9a796ad4b465882749d9c1f88720d",
       "style": "IPY_MODEL_f4d47f670d944ed8aaa908b07c2eafa3",
       "value": true
      }
     },
     "cce19528bb244a56bb26001c0f9ab56b": {
      "model_module": "@jupyter-widgets/controls",
      "model_module_version": "1.1.0",
      "model_name": "LabelModel",
      "state": {
       "layout": "IPY_MODEL_7266346fb06e49e89e893c7ad7383d17",
       "style": "IPY_MODEL_752f436956fe47a4adbe7186aead7787",
       "value": "Select a detector type."
      }
     },
     "cd07564de7c04f08bf0f8be801547399": {
      "model_module": "@jupyter-widgets/controls",
      "model_module_version": "1.1.0",
      "model_name": "DescriptionStyleModel",
      "state": {
       "description_width": ""
      }
     },
     "cdbb0ba078c340cf92d6e7d7f2d48a90": {
      "model_module": "@jupyter-widgets/base",
      "model_module_version": "1.0.0",
      "model_name": "LayoutModel",
      "state": {}
     },
     "cdfea99b01064148b8409bc2880ccaac": {
      "model_module": "@jupyter-widgets/controls",
      "model_module_version": "1.1.0",
      "model_name": "CheckboxModel",
      "state": {
       "description": "135°",
       "disabled": false,
       "layout": "IPY_MODEL_a2bdbe1494814ef3a232b1d38c24af35",
       "style": "IPY_MODEL_5334baa65f5a442abe5e6394834ac8d0",
       "value": true
      }
     },
     "ce1ca5fc584746ed8a4fe751652309bd": {
      "model_module": "@jupyter-widgets/controls",
      "model_module_version": "1.1.0",
      "model_name": "DescriptionStyleModel",
      "state": {
       "description_width": ""
      }
     },
     "ce360aefa9294facabe1ee60bc0862de": {
      "model_module": "@jupyter-widgets/base",
      "model_module_version": "1.0.0",
      "model_name": "LayoutModel",
      "state": {}
     },
     "ce52ac3d56b948a78c6987a176d06f62": {
      "model_module": "@jupyter-widgets/controls",
      "model_module_version": "1.1.0",
      "model_name": "ToggleButtonsStyleModel",
      "state": {
       "button_width": "",
       "description_width": ""
      }
     },
     "ce59fc8fef4245e2920d77de606af00b": {
      "model_module": "@jupyter-widgets/controls",
      "model_module_version": "1.1.0",
      "model_name": "CheckboxModel",
      "state": {
       "description": "45°",
       "disabled": false,
       "layout": "IPY_MODEL_67c7ff1eaa964102bb237a7e61175365",
       "style": "IPY_MODEL_d0c61a6afc2348c698021a04935529b0",
       "value": true
      }
     },
     "ceb39673d4414fd298cd7f6f4aec66f0": {
      "model_module": "@jupyter-widgets/controls",
      "model_module_version": "1.1.0",
      "model_name": "DescriptionStyleModel",
      "state": {
       "description_width": ""
      }
     },
     "cf507ac9b5704ecda923c74581b54fa9": {
      "model_module": "@jupyter-widgets/base",
      "model_module_version": "1.0.0",
      "model_name": "LayoutModel",
      "state": {}
     },
     "cf5108288c424c15bfd42102e6b2c791": {
      "model_module": "@jupyter-widgets/controls",
      "model_module_version": "1.1.0",
      "model_name": "ToggleButtonsModel",
      "state": {
       "_options_labels": [
        "400 MeV/n",
        "800 MeV/n",
        "1500 MeV/n"
       ],
       "button_style": "",
       "description": "Energy:",
       "icons": [],
       "index": 0,
       "layout": "IPY_MODEL_16645c168df54931bd863473f3de34b4",
       "style": "IPY_MODEL_ce52ac3d56b948a78c6987a176d06f62",
       "tooltips": [
        "lowest energy",
        "middle energy",
        "highest energy"
       ]
      }
     },
     "cf71b31f4cc440f89857fc5385661b21": {
      "model_module": "@jupyter-widgets/base",
      "model_module_version": "1.0.0",
      "model_name": "LayoutModel",
      "state": {}
     },
     "cf8555f94a5a495ea3b65f53dda0e5e0": {
      "model_module": "@jupyter-widgets/controls",
      "model_module_version": "1.1.0",
      "model_name": "DescriptionStyleModel",
      "state": {
       "description_width": ""
      }
     },
     "cfd89952bf0f4bc58f55bb5e034a9751": {
      "model_module": "@jupyter-widgets/controls",
      "model_module_version": "1.1.0",
      "model_name": "DescriptionStyleModel",
      "state": {
       "description_width": ""
      }
     },
     "d03745aebfca42919e9524eda50fc4da": {
      "model_module": "@jupyter-widgets/controls",
      "model_module_version": "1.1.0",
      "model_name": "CheckboxModel",
      "state": {
       "description": "7.2°",
       "disabled": false,
       "layout": "IPY_MODEL_7df21e8d5f964ee6940895fc16107d6f",
       "style": "IPY_MODEL_1e0c3eaa0d044be580b73c12fea09940",
       "value": true
      }
     },
     "d06b4dfdfe6649a2ab46d63a4d205844": {
      "model_module": "@jupyter-widgets/controls",
      "model_module_version": "1.1.0",
      "model_name": "CheckboxModel",
      "state": {
       "description": "10°",
       "disabled": false,
       "layout": "IPY_MODEL_460c05ff88a1487bbc9076500df65cf9",
       "style": "IPY_MODEL_30a95d8f1e9243a7b1ba9dabdd13c516",
       "value": true
      }
     },
     "d0712f64deb44255bae5800bafb719c0": {
      "model_module": "@jupyter-widgets/base",
      "model_module_version": "1.0.0",
      "model_name": "LayoutModel",
      "state": {}
     },
     "d09da5f86ec0486cb0fbeaad7d0b924a": {
      "model_module": "@jupyter-widgets/controls",
      "model_module_version": "1.1.0",
      "model_name": "DescriptionStyleModel",
      "state": {
       "description_width": ""
      }
     },
     "d0b49198d9184be0be9fa847b872bf6a": {
      "model_module": "@jupyter-widgets/controls",
      "model_module_version": "1.1.0",
      "model_name": "CheckboxModel",
      "state": {
       "description": "32.7°",
       "disabled": false,
       "layout": "IPY_MODEL_eb4ab7313de148e7975c3fd05921afd6",
       "style": "IPY_MODEL_2a4f94f6fc7342c99b7ed5068f1975d8",
       "value": false
      }
     },
     "d0c61a6afc2348c698021a04935529b0": {
      "model_module": "@jupyter-widgets/controls",
      "model_module_version": "1.1.0",
      "model_name": "DescriptionStyleModel",
      "state": {
       "description_width": ""
      }
     },
     "d0e0b39e16a8469d991ae26667382082": {
      "model_module": "@jupyter-widgets/controls",
      "model_module_version": "1.1.0",
      "model_name": "LabelModel",
      "state": {
       "layout": "IPY_MODEL_21c98fa0b913448fa02f309f8618c074",
       "style": "IPY_MODEL_77df7263787a480793999b2d1bfbd4c8",
       "value": "Select the detector angles to plot."
      }
     },
     "d0e1fef06d624578ae9bcc6a340862b2": {
      "model_module": "@jupyter-widgets/controls",
      "model_module_version": "1.1.0",
      "model_name": "CheckboxModel",
      "state": {
       "description": "MCNP simulated",
       "disabled": false,
       "layout": "IPY_MODEL_f10bfd995f7d431d8b378fcd07b5c54e",
       "style": "IPY_MODEL_c4a1b29d0fb141bdbb5de598c0f0303c",
       "value": true
      }
     },
     "d10246cf9dd74b78a37796d6c119979c": {
      "model_module": "@jupyter-widgets/controls",
      "model_module_version": "1.1.0",
      "model_name": "DescriptionStyleModel",
      "state": {
       "description_width": ""
      }
     },
     "d10acb0e71b24bb2b589371ee184085a": {
      "model_module": "@jupyter-widgets/base",
      "model_module_version": "1.0.0",
      "model_name": "LayoutModel",
      "state": {}
     },
     "d11cbd2368a4449d85a3884279d92917": {
      "model_module": "@jupyter-widgets/controls",
      "model_module_version": "1.1.0",
      "model_name": "LabelModel",
      "state": {
       "layout": "IPY_MODEL_0405d139d80c4d2fb48d2bc080b29133",
       "style": "IPY_MODEL_ae00635134a94eb785d52a4eb527ed7a",
       "value": "Select projectile ion energy."
      }
     },
     "d12d91af368c443586afb28670757a6d": {
      "model_module": "@jupyter-widgets/controls",
      "model_module_version": "1.1.0",
      "model_name": "LabelModel",
      "state": {
       "layout": "IPY_MODEL_77325e05ad2b433c87a9d5728f7d5981",
       "style": "IPY_MODEL_f063c43e128244e0b1ce21cf847b324b",
       "value": "Select which secondary particle to plot spectra for."
      }
     },
     "d1331ffa41c94abdacbc2ece91c03a7e": {
      "model_module": "@jupyter-widgets/base",
      "model_module_version": "1.0.0",
      "model_name": "LayoutModel",
      "state": {}
     },
     "d141f9622d7a4604a2f6c62bfabf5669": {
      "model_module": "@jupyter-widgets/base",
      "model_module_version": "1.0.0",
      "model_name": "LayoutModel",
      "state": {}
     },
     "d1ac398fa03e44a19539a04c4ceeade0": {
      "model_module": "@jupyter-widgets/base",
      "model_module_version": "1.0.0",
      "model_name": "LayoutModel",
      "state": {}
     },
     "d21dcefe518440e3b2bc50573c012adc": {
      "model_module": "@jupyter-widgets/controls",
      "model_module_version": "1.1.0",
      "model_name": "DescriptionStyleModel",
      "state": {
       "description_width": ""
      }
     },
     "d25f491b0e884a14a2edd32657745a70": {
      "model_module": "@jupyter-widgets/controls",
      "model_module_version": "1.1.0",
      "model_name": "DescriptionStyleModel",
      "state": {
       "description_width": ""
      }
     },
     "d2d4748d7e4a474f915d0d74bdbdd997": {
      "model_module": "@jupyter-widgets/base",
      "model_module_version": "1.0.0",
      "model_name": "LayoutModel",
      "state": {}
     },
     "d31cfd5f4c5f4ce290a396164e3ede08": {
      "model_module": "@jupyter-widgets/controls",
      "model_module_version": "1.1.0",
      "model_name": "DescriptionStyleModel",
      "state": {
       "description_width": ""
      }
     },
     "d356f5cd30dd499481e6418c369bd94c": {
      "model_module": "@jupyter-widgets/controls",
      "model_module_version": "1.1.0",
      "model_name": "DescriptionStyleModel",
      "state": {
       "description_width": ""
      }
     },
     "d35e5f77b41c4814bb56e1036ae4fbfe": {
      "model_module": "@jupyter-widgets/controls",
      "model_module_version": "1.1.0",
      "model_name": "CheckboxModel",
      "state": {
       "description": "80°",
       "disabled": false,
       "layout": "IPY_MODEL_6dc1d2dba536489e85ba12120a94c707",
       "style": "IPY_MODEL_a369064e5b44428d8172adba0d439f70",
       "value": true
      }
     },
     "d36a66cbb06a49fc8b0bd0d5f5fbd66b": {
      "model_module": "@jupyter-widgets/controls",
      "model_module_version": "1.1.0",
      "model_name": "LabelModel",
      "state": {
       "layout": "IPY_MODEL_5e3355da7b9848ccac220d67e4854e00",
       "style": "IPY_MODEL_87e9155972b8434b99ed4584a1a99d02",
       "value": "Select projectile ion energy."
      }
     },
     "d37cc067f1304cf2bc31222f899ce506": {
      "model_module": "@jupyter-widgets/base",
      "model_module_version": "1.0.0",
      "model_name": "LayoutModel",
      "state": {}
     },
     "d380f760dcf04c08bc4b7e227caf8416": {
      "model_module": "@jupyter-widgets/base",
      "model_module_version": "1.0.0",
      "model_name": "LayoutModel",
      "state": {}
     },
     "d3c2d5b482364a8388e43e20541a6253": {
      "model_module": "@jupyter-widgets/controls",
      "model_module_version": "1.1.0",
      "model_name": "DescriptionStyleModel",
      "state": {
       "description_width": ""
      }
     },
     "d43db88bfe454f5cba401e106d89ffff": {
      "model_module": "@jupyter-widgets/controls",
      "model_module_version": "1.1.0",
      "model_name": "ToggleButtonsModel",
      "state": {
       "_options_labels": [
        "400 MeV",
        "800 MeV",
        "2500 MeV"
       ],
       "button_style": "",
       "description": "Energy:",
       "icons": [],
       "index": 0,
       "layout": "IPY_MODEL_c72ecd5963ba4d40907396c95939e1c6",
       "style": "IPY_MODEL_818e25e4cb0b4fec929f25ceebdb701b",
       "tooltips": [
        "lowest energy",
        "middle energy",
        "highest energy"
       ]
      }
     },
     "d46fa8a32302462a999d0a7f559585a5": {
      "model_module": "@jupyter-widgets/controls",
      "model_module_version": "1.1.0",
      "model_name": "ToggleButtonsModel",
      "state": {
       "_options_labels": [
        "N (¹n)",
        "NDC (¹n)",
        "P (¹H)",
        "D (²H)",
        "T (³H)",
        "S (³He)",
        "A (⁴He)"
       ],
       "button_style": "",
       "description": "Type:",
       "icons": [],
       "index": 0,
       "layout": "IPY_MODEL_c6149c9d664341eeb822611421881604",
       "style": "IPY_MODEL_aa131432c11c43cd9c947c59d810af25",
       "tooltips": [
        "Neutron",
        "Back Target Neutron",
        "Proton",
        "Deuteron",
        "Triton",
        "Helium-3",
        "Helium-4"
       ]
      }
     },
     "d47e2aa139ec4bc48fe1cd293fbfea06": {
      "model_module": "@jupyter-widgets/controls",
      "model_module_version": "1.1.0",
      "model_name": "DescriptionStyleModel",
      "state": {
       "description_width": ""
      }
     },
     "d48a7a058fb447fab5d67609ac3ff4e6": {
      "model_module": "@jupyter-widgets/controls",
      "model_module_version": "1.1.0",
      "model_name": "DescriptionStyleModel",
      "state": {
       "description_width": ""
      }
     },
     "d4acb5713705428ab1aceb1e8772a660": {
      "model_module": "@jupyter-widgets/controls",
      "model_module_version": "1.1.0",
      "model_name": "LabelModel",
      "state": {
       "layout": "IPY_MODEL_74ea0dc61073468e9e0226a6ea33f180",
       "style": "IPY_MODEL_fb46bc84044a4051b90c55b7d4fbb1ab",
       "value": "Select the detector angles to plot."
      }
     },
     "d4b9f633fd8e436691e847affb28e00e": {
      "model_module": "@jupyter-widgets/controls",
      "model_module_version": "1.1.0",
      "model_name": "DescriptionStyleModel",
      "state": {
       "description_width": ""
      }
     },
     "d505af3d2b874d91afabc23a4681c26c": {
      "model_module": "@jupyter-widgets/controls",
      "model_module_version": "1.1.0",
      "model_name": "DescriptionStyleModel",
      "state": {
       "description_width": ""
      }
     },
     "d529fa62e7e94894b3d5a2100c861933": {
      "model_module": "@jupyter-widgets/controls",
      "model_module_version": "1.1.0",
      "model_name": "ToggleButtonsStyleModel",
      "state": {
       "button_width": "",
       "description_width": ""
      }
     },
     "d54378043d464adeb0c417cdf20b4616": {
      "model_module": "@jupyter-widgets/controls",
      "model_module_version": "1.1.0",
      "model_name": "DescriptionStyleModel",
      "state": {
       "description_width": ""
      }
     },
     "d54854d800e84617aacf520cbd7df79d": {
      "model_module": "@jupyter-widgets/base",
      "model_module_version": "1.0.0",
      "model_name": "LayoutModel",
      "state": {}
     },
     "d552c1b61ca04e5a85526db6807b5d18": {
      "model_module": "@jupyter-widgets/controls",
      "model_module_version": "1.1.0",
      "model_name": "ToggleButtonsStyleModel",
      "state": {
       "button_width": "",
       "description_width": ""
      }
     },
     "d5740c9c717f42e7b4dfa1b1d430d732": {
      "model_module": "@jupyter-widgets/controls",
      "model_module_version": "1.1.0",
      "model_name": "CheckboxModel",
      "state": {
       "description": "60°",
       "disabled": false,
       "layout": "IPY_MODEL_e8b835b886ea4c968b92fde00e855c21",
       "style": "IPY_MODEL_7a7ba5dbc4044b0fa55b390b45f1c3b3",
       "value": true
      }
     },
     "d5a9329f81924f0ea96d106012f994ab": {
      "model_module": "@jupyter-widgets/controls",
      "model_module_version": "1.1.0",
      "model_name": "CheckboxModel",
      "state": {
       "description": "45°",
       "disabled": false,
       "layout": "IPY_MODEL_53519e7ebbf249e681459daa23be4e3f",
       "style": "IPY_MODEL_95fa7347cc184ca68dc4e17717d1ea43",
       "value": true
      }
     },
     "d5cea0698b5549ff91278b8edbf8403c": {
      "model_module": "@jupyter-widgets/base",
      "model_module_version": "1.0.0",
      "model_name": "LayoutModel",
      "state": {}
     },
     "d62ab8f41abe47f8859a1ed9e30b93eb": {
      "model_module": "@jupyter-widgets/controls",
      "model_module_version": "1.1.0",
      "model_name": "ToggleButtonsModel",
      "state": {
       "_options_labels": [
        "N (¹n)",
        "NDC (¹n)",
        "P (¹H)",
        "D (²H)"
       ],
       "button_style": "",
       "description": "Type:",
       "icons": [],
       "index": 0,
       "layout": "IPY_MODEL_54056f40661c4f7b81a0a27fb1dd94fd",
       "style": "IPY_MODEL_aa576a24ff1e4532a1ab8eb9fca802c4",
       "tooltips": [
        "Neutron",
        "Back Target Neutron",
        "Proton",
        "Deuteron"
       ]
      }
     },
     "d64a6f169766417687bda1456c4afe74": {
      "model_module": "@jupyter-widgets/base",
      "model_module_version": "1.0.0",
      "model_name": "LayoutModel",
      "state": {}
     },
     "d656614de7e54e42afa5eab1410a0eca": {
      "model_module": "@jupyter-widgets/base",
      "model_module_version": "1.0.0",
      "model_name": "LayoutModel",
      "state": {}
     },
     "d6a7cc457e3742c183d9af3d1a0aacbd": {
      "model_module": "@jupyter-widgets/base",
      "model_module_version": "1.0.0",
      "model_name": "LayoutModel",
      "state": {}
     },
     "d6d089e56ca14104aa87d92b54c8c5fd": {
      "model_module": "@jupyter-widgets/controls",
      "model_module_version": "1.1.0",
      "model_name": "CheckboxModel",
      "state": {
       "description": "30°",
       "disabled": false,
       "layout": "IPY_MODEL_8b392c0326854e5f93df8f993af5595f",
       "style": "IPY_MODEL_d10246cf9dd74b78a37796d6c119979c",
       "value": true
      }
     },
     "d6d67849279d4eec8fe5b047ef4db595": {
      "model_module": "@jupyter-widgets/controls",
      "model_module_version": "1.1.0",
      "model_name": "DescriptionStyleModel",
      "state": {
       "description_width": ""
      }
     },
     "d6eda2496fac475caf2e51fbacd7e9e4": {
      "model_module": "@jupyter-widgets/controls",
      "model_module_version": "1.1.0",
      "model_name": "CheckboxModel",
      "state": {
       "description": "12.7°",
       "disabled": false,
       "layout": "IPY_MODEL_75c02e8a80754bd2b432497f85d747be",
       "style": "IPY_MODEL_08a9fee61c6045c59bcc75c4bd20081c",
       "value": false
      }
     },
     "d7301efcfaf240e7a25f464811b3aaee": {
      "model_module": "@jupyter-widgets/base",
      "model_module_version": "1.0.0",
      "model_name": "LayoutModel",
      "state": {}
     },
     "d7728d7f18734d9985528ec5cc7e6bb9": {
      "model_module": "@jupyter-widgets/controls",
      "model_module_version": "1.1.0",
      "model_name": "DescriptionStyleModel",
      "state": {
       "description_width": ""
      }
     },
     "d787a6af00114089a18df01cc6832c33": {
      "model_module": "@jupyter-widgets/base",
      "model_module_version": "1.0.0",
      "model_name": "LayoutModel",
      "state": {}
     },
     "d7959efa2c654e6baf4d5e7d1100d24d": {
      "model_module": "@jupyter-widgets/controls",
      "model_module_version": "1.1.0",
      "model_name": "ToggleButtonsModel",
      "state": {
       "_options_labels": [
        "20 g/cm²",
        "40 g/cm²",
        "60 g/cm²"
       ],
       "button_style": "",
       "description": "Thickness:",
       "icons": [],
       "index": 1,
       "layout": "IPY_MODEL_8343888407d44945ae56701f2e2d6087",
       "style": "IPY_MODEL_9a0974ca170a48b6b4a0fcc84a2a35a4",
       "tooltips": [
        "20 g/cm² Aluminum",
        "40 g/cm² Aluminum",
        "60 g/cm² Aluminum"
       ]
      }
     },
     "d7c36f5ed1e24294ba35b69cf424710d": {
      "model_module": "@jupyter-widgets/controls",
      "model_module_version": "1.1.0",
      "model_name": "CheckboxModel",
      "state": {
       "description": "60°",
       "disabled": false,
       "layout": "IPY_MODEL_619eb7b1a8ab4a82a15314965e6fe9a2",
       "style": "IPY_MODEL_e325c6be398a42c2b945c5be78fb0c06",
       "value": true
      }
     },
     "d7c97b1ab1a3442b8d330c7f2321e3d2": {
      "model_module": "@jupyter-widgets/controls",
      "model_module_version": "1.1.0",
      "model_name": "CheckboxModel",
      "state": {
       "description": "30°",
       "disabled": false,
       "layout": "IPY_MODEL_fa831ea3f4b347af83e3d34696ccf9ba",
       "style": "IPY_MODEL_d7f5b22bf97648fc983661711776f422",
       "value": true
      }
     },
     "d7d04417ef3a4532976d037d0a51da0c": {
      "model_module": "@jupyter-widgets/base",
      "model_module_version": "1.0.0",
      "model_name": "LayoutModel",
      "state": {}
     },
     "d7e0e5a003b4402f8fbab141e943e4c4": {
      "model_module": "@jupyter-widgets/controls",
      "model_module_version": "1.1.0",
      "model_name": "DescriptionStyleModel",
      "state": {
       "description_width": ""
      }
     },
     "d7f5b22bf97648fc983661711776f422": {
      "model_module": "@jupyter-widgets/controls",
      "model_module_version": "1.1.0",
      "model_name": "DescriptionStyleModel",
      "state": {
       "description_width": ""
      }
     },
     "d8795ba803974c8c92ae1d6df80faf43": {
      "model_module": "@jupyter-widgets/controls",
      "model_module_version": "1.1.0",
      "model_name": "DescriptionStyleModel",
      "state": {
       "description_width": ""
      }
     },
     "d87a5ba2965a4af2a2608a1a3332edb6": {
      "model_module": "@jupyter-widgets/controls",
      "model_module_version": "1.1.0",
      "model_name": "LabelModel",
      "state": {
       "layout": "IPY_MODEL_e7ecb71a6c3a41c7a7e8bd0ae54eff62",
       "style": "IPY_MODEL_9c0fbf4338534d459b3867084725c7ec",
       "value": "Select the detector angles to plot."
      }
     },
     "d89d57eeb9ee413baad1cb61dc3a999b": {
      "model_module": "@jupyter-widgets/base",
      "model_module_version": "1.0.0",
      "model_name": "LayoutModel",
      "state": {}
     },
     "d8ce672d8dbd42eda9a634d6c3226882": {
      "model_module": "@jupyter-widgets/controls",
      "model_module_version": "1.1.0",
      "model_name": "ToggleButtonsModel",
      "state": {
       "_options_labels": [
        "OLS",
        "NaI"
       ],
       "button_style": "",
       "description": "Type:",
       "icons": [],
       "index": 0,
       "layout": "IPY_MODEL_e48a0655d50b42b683d86c150a6e7824",
       "style": "IPY_MODEL_fa868bfc1e314c0ebe3116aa8acc6ef2",
       "tooltips": [
        "Organic Liquid Scintillator",
        "Sodium Iodide"
       ]
      }
     },
     "d8cf82f7923240cb886a4c0be92a65b1": {
      "model_module": "@jupyter-widgets/controls",
      "model_module_version": "1.1.0",
      "model_name": "LabelModel",
      "state": {
       "layout": "IPY_MODEL_80283625d8bf4c69b8c889786437052f",
       "style": "IPY_MODEL_074cb167ae664aa1a749896d67cfd459",
       "value": "Select the detector angles to plot."
      }
     },
     "d8e79c82101d4d939d3b239c270edb50": {
      "model_module": "@jupyter-widgets/controls",
      "model_module_version": "1.1.0",
      "model_name": "DescriptionStyleModel",
      "state": {
       "description_width": ""
      }
     },
     "d8f2b0c985bc447299b6419e1ceb7075": {
      "model_module": "@jupyter-widgets/base",
      "model_module_version": "1.0.0",
      "model_name": "LayoutModel",
      "state": {}
     },
     "d9522eb135c94484ab8c6f8eead3da76": {
      "model_module": "@jupyter-widgets/controls",
      "model_module_version": "1.1.0",
      "model_name": "DescriptionStyleModel",
      "state": {
       "description_width": ""
      }
     },
     "d99aff9ae3da4c99b9fc05e9620edc89": {
      "model_module": "@jupyter-widgets/base",
      "model_module_version": "1.0.0",
      "model_name": "LayoutModel",
      "state": {}
     },
     "d9b6254a1030432bbedb4417d10e52ec": {
      "model_module": "@jupyter-widgets/controls",
      "model_module_version": "1.1.0",
      "model_name": "ToggleButtonsModel",
      "state": {
       "_options_labels": [
        "None",
        "Spaced by 10²"
       ],
       "button_style": "",
       "description": "Spacing:",
       "icons": [],
       "index": 0,
       "layout": "IPY_MODEL_1719a77f518142a39ecc0dced8ab027f",
       "style": "IPY_MODEL_b949026b8c67487686303947e66a0280",
       "tooltips": [
        "All values are presented as is.",
        "Plots for different detectors are multiplied by powers of 10² for easier viewing."
       ]
      }
     },
     "d9cc632b94b840ef8142b19040133b67": {
      "model_module": "@jupyter-widgets/base",
      "model_module_version": "1.0.0",
      "model_name": "LayoutModel",
      "state": {}
     },
     "d9d5d8db352a493f88c715bae758c0a6": {
      "model_module": "@jupyter-widgets/controls",
      "model_module_version": "1.1.0",
      "model_name": "DescriptionStyleModel",
      "state": {
       "description_width": ""
      }
     },
     "da1ae399ff994bd6917366e2a1af5b33": {
      "model_module": "@jupyter-widgets/base",
      "model_module_version": "1.0.0",
      "model_name": "LayoutModel",
      "state": {}
     },
     "daa1eb14b20f48a5a9aba4450376ed13": {
      "model_module": "@jupyter-widgets/base",
      "model_module_version": "1.0.0",
      "model_name": "LayoutModel",
      "state": {}
     },
     "dacecf3f41d744dca9a326df46e03dc7": {
      "model_module": "@jupyter-widgets/base",
      "model_module_version": "1.0.0",
      "model_name": "LayoutModel",
      "state": {}
     },
     "dad9cd6404314951aeb9cf470121a8d4": {
      "model_module": "@jupyter-widgets/controls",
      "model_module_version": "1.1.0",
      "model_name": "ButtonStyleModel",
      "state": {}
     },
     "db12b09ac5ee42478514531637af188e": {
      "model_module": "@jupyter-widgets/controls",
      "model_module_version": "1.1.0",
      "model_name": "CheckboxModel",
      "state": {
       "description": "45°",
       "disabled": false,
       "layout": "IPY_MODEL_3cd124f1e9e744878abd76ecc1d9d390",
       "style": "IPY_MODEL_dff6c18cf37c44c2bd38a2be79fedc22",
       "value": true
      }
     },
     "db23ea9742d24a9eb53dca9df0670822": {
      "model_module": "@jupyter-widgets/base",
      "model_module_version": "1.0.0",
      "model_name": "LayoutModel",
      "state": {}
     },
     "db2556a40a264b19be782f90ab5a18ba": {
      "model_module": "@jupyter-widgets/controls",
      "model_module_version": "1.1.0",
      "model_name": "CheckboxModel",
      "state": {
       "description": "10°",
       "disabled": false,
       "layout": "IPY_MODEL_25d96007033c46ebaa20fafb1a8eedb6",
       "style": "IPY_MODEL_c95e28d6844e45619a4a4d1857fd5165",
       "value": true
      }
     },
     "db5db616c7af47308fb873261c5e5e7b": {
      "model_module": "@jupyter-widgets/controls",
      "model_module_version": "1.1.0",
      "model_name": "ToggleButtonsStyleModel",
      "state": {
       "button_width": "",
       "description_width": ""
      }
     },
     "dbebba09632b483a9b1a0034cee0d6a2": {
      "model_module": "@jupyter-widgets/base",
      "model_module_version": "1.0.0",
      "model_name": "LayoutModel",
      "state": {}
     },
     "dc1b2f7af7544418b6a168a31f72d912": {
      "model_module": "@jupyter-widgets/controls",
      "model_module_version": "1.1.0",
      "model_name": "CheckboxModel",
      "state": {
       "description": "MCNP simulated",
       "disabled": false,
       "layout": "IPY_MODEL_d8f2b0c985bc447299b6419e1ceb7075",
       "style": "IPY_MODEL_cd07564de7c04f08bf0f8be801547399",
       "value": true
      }
     },
     "dc2fd02629da40079836a46a6d085d52": {
      "model_module": "@jupyter-widgets/controls",
      "model_module_version": "1.1.0",
      "model_name": "DescriptionStyleModel",
      "state": {
       "description_width": ""
      }
     },
     "dc4083201fbe4d7b947a7e16b3ea3e09": {
      "model_module": "@jupyter-widgets/controls",
      "model_module_version": "1.1.0",
      "model_name": "LabelModel",
      "state": {
       "layout": "IPY_MODEL_e535cc5b301040faa3ea82d0ab3d6376",
       "style": "IPY_MODEL_c7efe43aa3db4c0ca7e119d893945ce5",
       "value": "Select how data sets for each detector should be spaced apart (if at all)."
      }
     },
     "dc545899afba40ea8c875493c461fd48": {
      "model_module": "@jupyter-widgets/base",
      "model_module_version": "1.0.0",
      "model_name": "LayoutModel",
      "state": {}
     },
     "dc6d91722d5c44ff8bff9b0db1e2cff7": {
      "model_module": "@jupyter-widgets/controls",
      "model_module_version": "1.1.0",
      "model_name": "DescriptionStyleModel",
      "state": {
       "description_width": ""
      }
     },
     "dcac55fa47134e5a80e306325f646db6": {
      "model_module": "@jupyter-widgets/base",
      "model_module_version": "1.0.0",
      "model_name": "LayoutModel",
      "state": {}
     },
     "dcc580c163444356988ae2cd34110f94": {
      "model_module": "@jupyter-widgets/controls",
      "model_module_version": "1.1.0",
      "model_name": "DescriptionStyleModel",
      "state": {
       "description_width": ""
      }
     },
     "dcd4150ab35545e2ac72db780bab26ae": {
      "model_module": "@jupyter-widgets/controls",
      "model_module_version": "1.1.0",
      "model_name": "CheckboxModel",
      "state": {
       "description": "28.2°",
       "disabled": false,
       "layout": "IPY_MODEL_a1f8d073dfd248cea3df0a3525424b95",
       "style": "IPY_MODEL_e473009d463b4dd885e541ddf845313d",
       "value": true
      }
     },
     "dcd4ce5edb6c44989f20208388f10188": {
      "model_module": "@jupyter-widgets/base",
      "model_module_version": "1.0.0",
      "model_name": "LayoutModel",
      "state": {}
     },
     "ddd4c7730c2943e088922ab80047a48e": {
      "model_module": "@jupyter-widgets/controls",
      "model_module_version": "1.1.0",
      "model_name": "DescriptionStyleModel",
      "state": {
       "description_width": ""
      }
     },
     "de136a4347eb43718c46e90b77ba4eae": {
      "model_module": "@jupyter-widgets/controls",
      "model_module_version": "1.1.0",
      "model_name": "DescriptionStyleModel",
      "state": {
       "description_width": ""
      }
     },
     "de211141ed4840f4b0dbc62e00d0f764": {
      "model_module": "@jupyter-widgets/base",
      "model_module_version": "1.0.0",
      "model_name": "LayoutModel",
      "state": {}
     },
     "de4ee6f855d746ea968143e1a598b77b": {
      "model_module": "@jupyter-widgets/controls",
      "model_module_version": "1.1.0",
      "model_name": "DescriptionStyleModel",
      "state": {
       "description_width": ""
      }
     },
     "dea5b9bad1cd4b9db9b9fd149c0395ad": {
      "model_module": "@jupyter-widgets/controls",
      "model_module_version": "1.1.0",
      "model_name": "ToggleButtonsModel",
      "state": {
       "_options_labels": [
        "400 MeV/n",
        "800 MeV/n",
        "1500 MeV/n"
       ],
       "button_style": "",
       "description": "Energy:",
       "icons": [],
       "index": 0,
       "layout": "IPY_MODEL_2e6eb0dd8f87479ab08dc9000d5723d2",
       "style": "IPY_MODEL_d529fa62e7e94894b3d5a2100c861933",
       "tooltips": [
        "lowest energy",
        "middle energy",
        "highest energy"
       ]
      }
     },
     "deef3cc23c9e47b1a27184acabc313ff": {
      "model_module": "@jupyter-widgets/controls",
      "model_module_version": "1.1.0",
      "model_name": "DescriptionStyleModel",
      "state": {
       "description_width": ""
      }
     },
     "df026d70c59a450492e1245146cba983": {
      "model_module": "@jupyter-widgets/controls",
      "model_module_version": "1.1.0",
      "model_name": "LabelModel",
      "state": {
       "layout": "IPY_MODEL_e80e24a9feae43428877f7d17703b50b",
       "style": "IPY_MODEL_9fb91dc68d1e42289c11d12858d52439",
       "value": "Select the detector angles to plot."
      }
     },
     "df42854a99054e0ebb4bf73a9cf9e209": {
      "model_module": "@jupyter-widgets/base",
      "model_module_version": "1.0.0",
      "model_name": "LayoutModel",
      "state": {}
     },
     "df7a836d1bec4c7490c9e7f95433f9d2": {
      "model_module": "@jupyter-widgets/controls",
      "model_module_version": "1.1.0",
      "model_name": "LabelModel",
      "state": {
       "layout": "IPY_MODEL_3446711576864bc6be7fe4b295e27a95",
       "style": "IPY_MODEL_ab316c5666524946ae0c172d4473ccf4",
       "value": "Select the detector angles to plot."
      }
     },
     "dfd73c8a56494aa798b7a0969a38eaf1": {
      "model_module": "@jupyter-widgets/controls",
      "model_module_version": "1.1.0",
      "model_name": "LabelModel",
      "state": {
       "layout": "IPY_MODEL_f18d8c2733764bf5b324b901bc699368",
       "style": "IPY_MODEL_3d0f3c678ae9413bb5af523f0949b7a3",
       "value": "Select which secondary particle to plot spectra for."
      }
     },
     "dff6c18cf37c44c2bd38a2be79fedc22": {
      "model_module": "@jupyter-widgets/controls",
      "model_module_version": "1.1.0",
      "model_name": "DescriptionStyleModel",
      "state": {
       "description_width": ""
      }
     },
     "e006b153e8c04f7981c6ddc8c3678b96": {
      "model_module": "@jupyter-widgets/base",
      "model_module_version": "1.0.0",
      "model_name": "LayoutModel",
      "state": {}
     },
     "e042e945954041b693d6fc5b84ea9838": {
      "model_module": "@jupyter-widgets/controls",
      "model_module_version": "1.1.0",
      "model_name": "CheckboxModel",
      "state": {
       "description": "10°",
       "disabled": false,
       "layout": "IPY_MODEL_5f6d3b5ab3f94a0d9af8dd6912b4767b",
       "style": "IPY_MODEL_d54378043d464adeb0c417cdf20b4616",
       "value": true
      }
     },
     "e05c6d832beb42ca99a2ba56639c05f7": {
      "model_module": "@jupyter-widgets/controls",
      "model_module_version": "1.1.0",
      "model_name": "CheckboxModel",
      "state": {
       "description": "45°",
       "disabled": false,
       "layout": "IPY_MODEL_b47b0b519fa84394b5a2796345eee4c6",
       "style": "IPY_MODEL_a3f03c52452f4040b71e2bb824bf4b8b",
       "value": true
      }
     },
     "e07cc0fb0d2244aba73b172fc1d793fb": {
      "model_module": "@jupyter-widgets/controls",
      "model_module_version": "1.1.0",
      "model_name": "LabelModel",
      "state": {
       "layout": "IPY_MODEL_af447f0dfaba4018b93633549c50a98c",
       "style": "IPY_MODEL_2f59f0148d4b4c318a233e7549c7a124",
       "value": "Select upstream target material and thickness."
      }
     },
     "e0cffeab5479447b9f8f8b9db4a1f22c": {
      "model_module": "@jupyter-widgets/controls",
      "model_module_version": "1.1.0",
      "model_name": "LabelModel",
      "state": {
       "layout": "IPY_MODEL_8d940d9289e04dd1a510e39ef6872793",
       "style": "IPY_MODEL_c65b04ff06e647c3a975ba85789edcdd",
       "value": "Select the detector angles to plot."
      }
     },
     "e0d70ba7639749d2bd3e4f62eb617f72": {
      "model_module": "@jupyter-widgets/controls",
      "model_module_version": "1.1.0",
      "model_name": "CheckboxModel",
      "state": {
       "description": "30°",
       "disabled": false,
       "layout": "IPY_MODEL_1672aa49f4314ddf92f6e8228632b8df",
       "style": "IPY_MODEL_3e26dbb23950401caf73c17a05277c77",
       "value": true
      }
     },
     "e10661569efd495da1417ba600cbe9cb": {
      "model_module": "@jupyter-widgets/controls",
      "model_module_version": "1.1.0",
      "model_name": "DescriptionStyleModel",
      "state": {
       "description_width": ""
      }
     },
     "e108c6f8dc544560b790101082bb3f6d": {
      "model_module": "@jupyter-widgets/controls",
      "model_module_version": "1.1.0",
      "model_name": "CheckboxModel",
      "state": {
       "description": "10°",
       "disabled": false,
       "layout": "IPY_MODEL_d141f9622d7a4604a2f6c62bfabf5669",
       "style": "IPY_MODEL_d505af3d2b874d91afabc23a4681c26c",
       "value": true
      }
     },
     "e125556179c24374bb636b9f57260100": {
      "model_module": "@jupyter-widgets/base",
      "model_module_version": "1.0.0",
      "model_name": "LayoutModel",
      "state": {}
     },
     "e13fe1343d144c94a41936009565334f": {
      "model_module": "@jupyter-widgets/base",
      "model_module_version": "1.0.0",
      "model_name": "LayoutModel",
      "state": {}
     },
     "e1d70410966d4bf99a2e35490939c1d6": {
      "model_module": "@jupyter-widgets/controls",
      "model_module_version": "1.1.0",
      "model_name": "ToggleButtonsStyleModel",
      "state": {
       "button_width": "",
       "description_width": ""
      }
     },
     "e219c91422e84a828f877205b0db4d5b": {
      "model_module": "@jupyter-widgets/controls",
      "model_module_version": "1.1.0",
      "model_name": "ButtonModel",
      "state": {
       "button_style": "success",
       "description": "Update plot",
       "icon": "paint-brush",
       "layout": "IPY_MODEL_aac3db4e5d1e4f98a69d1cf4938a87d6",
       "style": "IPY_MODEL_58d1a5ed88374eb2bc1af82624b9c785",
       "tooltip": "Click to redraw the plot below with updated options from above."
      }
     },
     "e21af38f32404b8fa5826899896bb62e": {
      "model_module": "@jupyter-widgets/controls",
      "model_module_version": "1.1.0",
      "model_name": "CheckboxModel",
      "state": {
       "description": "135°",
       "disabled": false,
       "layout": "IPY_MODEL_e5e86d6c8dd849fc9f332d9f5d25bf96",
       "style": "IPY_MODEL_cb570e4a32cf48c1b8b9eb2590302fbc",
       "value": true
      }
     },
     "e2942bf36d6c4d1e9d9c1d946651f2dd": {
      "model_module": "@jupyter-widgets/controls",
      "model_module_version": "1.1.0",
      "model_name": "DescriptionStyleModel",
      "state": {
       "description_width": ""
      }
     },
     "e2c1797b522b46c098590f29c80eda32": {
      "model_module": "@jupyter-widgets/controls",
      "model_module_version": "1.1.0",
      "model_name": "DescriptionStyleModel",
      "state": {
       "description_width": ""
      }
     },
     "e2d01956c3e74b318902755915ffaa86": {
      "model_module": "@jupyter-widgets/controls",
      "model_module_version": "1.1.0",
      "model_name": "CheckboxModel",
      "state": {
       "description": "80°",
       "disabled": false,
       "layout": "IPY_MODEL_87b2e69948374bef9d1952c9e4a06f02",
       "style": "IPY_MODEL_a2733a53a33c469f9e74e92e8a087019",
       "value": true
      }
     },
     "e325c6be398a42c2b945c5be78fb0c06": {
      "model_module": "@jupyter-widgets/controls",
      "model_module_version": "1.1.0",
      "model_name": "DescriptionStyleModel",
      "state": {
       "description_width": ""
      }
     },
     "e366da6eff8946f28914cb82be8ba5eb": {
      "model_module": "@jupyter-widgets/controls",
      "model_module_version": "1.1.0",
      "model_name": "ToggleButtonsStyleModel",
      "state": {
       "button_width": "",
       "description_width": ""
      }
     },
     "e36c4c9a05f2445fa793ef47e228c482": {
      "model_module": "@jupyter-widgets/controls",
      "model_module_version": "1.1.0",
      "model_name": "CheckboxModel",
      "state": {
       "description": "135°",
       "disabled": false,
       "layout": "IPY_MODEL_2bfba8157b8447fca9e7126134d36d87",
       "style": "IPY_MODEL_bf382fe9a9d94fe6afae769e4d07fb7e",
       "value": true
      }
     },
     "e3c0b9d7264d4dd38eb1038c6ebcc18d": {
      "model_module": "@jupyter-widgets/controls",
      "model_module_version": "1.1.0",
      "model_name": "ToggleButtonsModel",
      "state": {
       "_options_labels": [
        "H",
        "He",
        "C",
        "Si",
        "Fe"
       ],
       "button_style": "",
       "description": "Ion:",
       "icons": [],
       "index": 0,
       "layout": "IPY_MODEL_039f033d47cf409a828dd3e58c09ff31",
       "style": "IPY_MODEL_7e2371361e60439b81f3c95a4c29b3b7",
       "tooltips": [
        "Hydrogen",
        "Helium",
        "Carbon",
        "Silicon",
        "Iron"
       ]
      }
     },
     "e3f7300c89714ab39e4ee81c1ffd5e96": {
      "model_module": "@jupyter-widgets/controls",
      "model_module_version": "1.1.0",
      "model_name": "ToggleButtonsModel",
      "state": {
       "_options_labels": [
        "400 MeV",
        "800 MeV",
        "2500 MeV"
       ],
       "button_style": "",
       "description": "Energy:",
       "icons": [],
       "index": 0,
       "layout": "IPY_MODEL_ccb28a988e3d4037916318232e82fdc2",
       "style": "IPY_MODEL_196b92fe93b14a5e9565d48f5aa1f5ce",
       "tooltips": [
        "lowest energy",
        "middle energy",
        "highest energy"
       ]
      }
     },
     "e473009d463b4dd885e541ddf845313d": {
      "model_module": "@jupyter-widgets/controls",
      "model_module_version": "1.1.0",
      "model_name": "DescriptionStyleModel",
      "state": {
       "description_width": ""
      }
     },
     "e48a0655d50b42b683d86c150a6e7824": {
      "model_module": "@jupyter-widgets/base",
      "model_module_version": "1.0.0",
      "model_name": "LayoutModel",
      "state": {}
     },
     "e497490ce55a47528fa6a34bf8452d68": {
      "model_module": "@jupyter-widgets/base",
      "model_module_version": "1.0.0",
      "model_name": "LayoutModel",
      "state": {}
     },
     "e4b014e21c154a99a472d17155e7609e": {
      "model_module": "@jupyter-widgets/base",
      "model_module_version": "1.0.0",
      "model_name": "LayoutModel",
      "state": {}
     },
     "e4d804abadc14c74a33145526e02a3b7": {
      "model_module": "@jupyter-widgets/base",
      "model_module_version": "1.0.0",
      "model_name": "LayoutModel",
      "state": {}
     },
     "e4da8aed076e41fabc020df45f79166e": {
      "model_module": "@jupyter-widgets/base",
      "model_module_version": "1.0.0",
      "model_name": "LayoutModel",
      "state": {}
     },
     "e4e76739afdd42159e7d70cd8e35073f": {
      "model_module": "@jupyter-widgets/controls",
      "model_module_version": "1.1.0",
      "model_name": "DescriptionStyleModel",
      "state": {
       "description_width": ""
      }
     },
     "e5156cf9dd3c4c19a057626002130589": {
      "model_module": "@jupyter-widgets/controls",
      "model_module_version": "1.1.0",
      "model_name": "ToggleButtonsModel",
      "state": {
       "_options_labels": [
        "400 MeV",
        "800 MeV",
        "2500 MeV"
       ],
       "button_style": "",
       "description": "Energy:",
       "icons": [],
       "index": 0,
       "layout": "IPY_MODEL_200b72eb0f634c9cb9872c64c4e231f8",
       "style": "IPY_MODEL_ffd7ce5689fb467b967c87d2b0dcf965",
       "tooltips": [
        "lowest energy",
        "middle energy",
        "highest energy"
       ]
      }
     },
     "e52c9ad6f0f94c16a168ca41d44d2b05": {
      "model_module": "@jupyter-widgets/controls",
      "model_module_version": "1.1.0",
      "model_name": "ToggleButtonsStyleModel",
      "state": {
       "button_width": "",
       "description_width": ""
      }
     },
     "e535cc5b301040faa3ea82d0ab3d6376": {
      "model_module": "@jupyter-widgets/base",
      "model_module_version": "1.0.0",
      "model_name": "LayoutModel",
      "state": {}
     },
     "e5735cc6219041ce86e8dd86b310dc02": {
      "model_module": "@jupyter-widgets/controls",
      "model_module_version": "1.1.0",
      "model_name": "DescriptionStyleModel",
      "state": {
       "description_width": ""
      }
     },
     "e58a8f5499a64d7d8362340324127d7d": {
      "model_module": "@jupyter-widgets/base",
      "model_module_version": "1.0.0",
      "model_name": "LayoutModel",
      "state": {}
     },
     "e58b5b6d58df46fd91e1820fc099502d": {
      "model_module": "@jupyter-widgets/controls",
      "model_module_version": "1.1.0",
      "model_name": "LabelModel",
      "state": {
       "layout": "IPY_MODEL_df42854a99054e0ebb4bf73a9cf9e209",
       "style": "IPY_MODEL_65c67283abaa4187b143e98bc5c4bf8b",
       "value": "Select which secondary particle to plot spectra for."
      }
     },
     "e5b497fc7daa4375b00b1836253b25d0": {
      "model_module": "@jupyter-widgets/controls",
      "model_module_version": "1.1.0",
      "model_name": "LabelModel",
      "state": {
       "layout": "IPY_MODEL_a5ab0bc8e4894abf9f3ae4671f61de35",
       "style": "IPY_MODEL_f143c1e1d37e4c3e80e186452ecaae07",
       "value": "Select which sets of data to display."
      }
     },
     "e5de52a649a44006a5e4cb9bac808b33": {
      "model_module": "@jupyter-widgets/base",
      "model_module_version": "1.0.0",
      "model_name": "LayoutModel",
      "state": {}
     },
     "e5e86d6c8dd849fc9f332d9f5d25bf96": {
      "model_module": "@jupyter-widgets/base",
      "model_module_version": "1.0.0",
      "model_name": "LayoutModel",
      "state": {}
     },
     "e5f74c8d52ba473a915226f341c5467e": {
      "model_module": "@jupyter-widgets/controls",
      "model_module_version": "1.1.0",
      "model_name": "LabelModel",
      "state": {
       "layout": "IPY_MODEL_eae5e238dfcd487eaeb1739326df0d12",
       "style": "IPY_MODEL_8e0c320fd5734317bb5f0a4dcabe63e9",
       "value": "Select the detector angles to plot."
      }
     },
     "e65acee7afc542d6ad03ff99c879b497": {
      "model_module": "@jupyter-widgets/controls",
      "model_module_version": "1.1.0",
      "model_name": "CheckboxModel",
      "state": {
       "description": "30°",
       "disabled": false,
       "layout": "IPY_MODEL_7a207b3f9e534394bfd8e158d669b063",
       "style": "IPY_MODEL_358e4741551d4c4686ca6b750bcca1d4",
       "value": true
      }
     },
     "e66423a8657740bf85d4739442117038": {
      "model_module": "@jupyter-widgets/controls",
      "model_module_version": "1.1.0",
      "model_name": "ToggleButtonsStyleModel",
      "state": {
       "button_width": "",
       "description_width": ""
      }
     },
     "e68d8f144a094788886e98075cc5562e": {
      "model_module": "@jupyter-widgets/controls",
      "model_module_version": "1.1.0",
      "model_name": "DescriptionStyleModel",
      "state": {
       "description_width": ""
      }
     },
     "e6ab800a2c384e36a3b43de9083679e4": {
      "model_module": "@jupyter-widgets/controls",
      "model_module_version": "1.1.0",
      "model_name": "ButtonModel",
      "state": {
       "button_style": "success",
       "description": "Update plot",
       "icon": "paint-brush",
       "layout": "IPY_MODEL_a8e419868feb40a79cfca7b3f532a7fa",
       "style": "IPY_MODEL_806a3c65ff964a2982d166fcff8bb411",
       "tooltip": "Click to redraw the plot below with updated options from above."
      }
     },
     "e6eec0d2d30c40cf81d419a89626b114": {
      "model_module": "@jupyter-widgets/base",
      "model_module_version": "1.0.0",
      "model_name": "LayoutModel",
      "state": {}
     },
     "e705eb676ca84ed7bac6301486cf3fec": {
      "model_module": "@jupyter-widgets/base",
      "model_module_version": "1.0.0",
      "model_name": "LayoutModel",
      "state": {}
     },
     "e70fff3b1c7d496b87c0f5a08a5d3555": {
      "model_module": "@jupyter-widgets/base",
      "model_module_version": "1.0.0",
      "model_name": "LayoutModel",
      "state": {}
     },
     "e7354a7351dc4a3eb056a1ebe167219f": {
      "model_module": "@jupyter-widgets/base",
      "model_module_version": "1.0.0",
      "model_name": "LayoutModel",
      "state": {}
     },
     "e75e86304c0e43ab9315309c63aae2b6": {
      "model_module": "@jupyter-widgets/base",
      "model_module_version": "1.0.0",
      "model_name": "LayoutModel",
      "state": {}
     },
     "e79bd93ad5be4112858e8589b9072286": {
      "model_module": "@jupyter-widgets/controls",
      "model_module_version": "1.1.0",
      "model_name": "DescriptionStyleModel",
      "state": {
       "description_width": ""
      }
     },
     "e7c50db298be473eac5d8bfb179b664c": {
      "model_module": "@jupyter-widgets/controls",
      "model_module_version": "1.1.0",
      "model_name": "DescriptionStyleModel",
      "state": {
       "description_width": ""
      }
     },
     "e7c7ff147f5e4b0f9de2d24756f931c5": {
      "model_module": "@jupyter-widgets/base",
      "model_module_version": "1.0.0",
      "model_name": "LayoutModel",
      "state": {}
     },
     "e7d5c0076bce489bb6ca680b9c77e9fb": {
      "model_module": "@jupyter-widgets/controls",
      "model_module_version": "1.1.0",
      "model_name": "DescriptionStyleModel",
      "state": {
       "description_width": ""
      }
     },
     "e7e3aa5f333c4515a07b33e75a21e3aa": {
      "model_module": "@jupyter-widgets/controls",
      "model_module_version": "1.1.0",
      "model_name": "CheckboxModel",
      "state": {
       "description": "45°",
       "disabled": false,
       "layout": "IPY_MODEL_bdbce8b329e84bacadec6d2e96f30b1e",
       "style": "IPY_MODEL_2b911a2ee8294942a8efb25e06c96439",
       "value": false
      }
     },
     "e7ecb71a6c3a41c7a7e8bd0ae54eff62": {
      "model_module": "@jupyter-widgets/base",
      "model_module_version": "1.0.0",
      "model_name": "LayoutModel",
      "state": {}
     },
     "e80e24a9feae43428877f7d17703b50b": {
      "model_module": "@jupyter-widgets/base",
      "model_module_version": "1.0.0",
      "model_name": "LayoutModel",
      "state": {}
     },
     "e81ace7a9c8c47519c4ccc7e7135a833": {
      "model_module": "@jupyter-widgets/controls",
      "model_module_version": "1.1.0",
      "model_name": "LabelModel",
      "state": {
       "layout": "IPY_MODEL_9ecc5a915ae742e0a270e8e6ff0bf4bd",
       "style": "IPY_MODEL_cf8555f94a5a495ea3b65f53dda0e5e0",
       "value": "Select the detector angles to plot."
      }
     },
     "e853e0e4b83c4027ae57a1c216404402": {
      "model_module": "@jupyter-widgets/controls",
      "model_module_version": "1.1.0",
      "model_name": "CheckboxModel",
      "state": {
       "description": "30°",
       "disabled": false,
       "layout": "IPY_MODEL_6a2b921d39ac461dbc061b948af0ceea",
       "style": "IPY_MODEL_05cb3d47b34d471a8df96e77a72f430b",
       "value": true
      }
     },
     "e855032a03ab41298ecbce490692b442": {
      "model_module": "@jupyter-widgets/base",
      "model_module_version": "1.0.0",
      "model_name": "LayoutModel",
      "state": {}
     },
     "e859ff3fab7f425f9d5d51bb08bb0418": {
      "model_module": "@jupyter-widgets/controls",
      "model_module_version": "1.1.0",
      "model_name": "DescriptionStyleModel",
      "state": {
       "description_width": ""
      }
     },
     "e87b980a30d44b798d1e28f010ac8725": {
      "model_module": "@jupyter-widgets/controls",
      "model_module_version": "1.1.0",
      "model_name": "ToggleButtonsModel",
      "state": {
       "_options_labels": [
        "N (¹n)",
        "NDC (¹n)",
        "P (¹H)",
        "D (²H)",
        "T (³H)",
        "S (³He)",
        "A (⁴He)"
       ],
       "button_style": "",
       "description": "Type:",
       "icons": [],
       "index": 0,
       "layout": "IPY_MODEL_22f5fcb0e7c14fb49e8408d1f2bb3cb6",
       "style": "IPY_MODEL_8a8a3c66e387487d94d40df8daf3abec",
       "tooltips": [
        "Neutron",
        "Back Target Neutron",
        "Proton",
        "Deuteron",
        "Triton",
        "Helium-3",
        "Helium-4"
       ]
      }
     },
     "e8b1430b7a3246b5962a8ec757207553": {
      "model_module": "@jupyter-widgets/base",
      "model_module_version": "1.0.0",
      "model_name": "LayoutModel",
      "state": {}
     },
     "e8b835b886ea4c968b92fde00e855c21": {
      "model_module": "@jupyter-widgets/base",
      "model_module_version": "1.0.0",
      "model_name": "LayoutModel",
      "state": {}
     },
     "e92d26a0bad1454b9eb0b6fcb4761631": {
      "model_module": "@jupyter-widgets/controls",
      "model_module_version": "1.1.0",
      "model_name": "CheckboxModel",
      "state": {
       "description": "135°",
       "disabled": false,
       "layout": "IPY_MODEL_7a60d2682c3349b0b202edf010c6c96c",
       "style": "IPY_MODEL_98c085b49e204c9f976cb4af179fae94",
       "value": true
      }
     },
     "e9543b4dab854cd4b3dc337b87fddb83": {
      "model_module": "@jupyter-widgets/controls",
      "model_module_version": "1.1.0",
      "model_name": "DescriptionStyleModel",
      "state": {
       "description_width": ""
      }
     },
     "e9876dad0d064a82bb3810f9daf6dc78": {
      "model_module": "@jupyter-widgets/base",
      "model_module_version": "1.0.0",
      "model_name": "LayoutModel",
      "state": {}
     },
     "e992d12a9729434d8f31fc94ade3e124": {
      "model_module": "@jupyter-widgets/base",
      "model_module_version": "1.0.0",
      "model_name": "LayoutModel",
      "state": {}
     },
     "e9985931202d404a85b352978ff371ec": {
      "model_module": "@jupyter-widgets/controls",
      "model_module_version": "1.1.0",
      "model_name": "CheckboxModel",
      "state": {
       "description": "45°",
       "disabled": false,
       "layout": "IPY_MODEL_d54854d800e84617aacf520cbd7df79d",
       "style": "IPY_MODEL_0bf4a0d53fc74f159eaa0fe9e9553c72",
       "value": true
      }
     },
     "e9c632d108ec4bc5b7df6ee17e225966": {
      "model_module": "@jupyter-widgets/base",
      "model_module_version": "1.0.0",
      "model_name": "LayoutModel",
      "state": {}
     },
     "ea30e5a524454e1594f24ddc7f7f64e4": {
      "model_module": "@jupyter-widgets/controls",
      "model_module_version": "1.1.0",
      "model_name": "CheckboxModel",
      "state": {
       "description": "45°",
       "disabled": false,
       "layout": "IPY_MODEL_97943902601a413d9513a4e7bec6f8a8",
       "style": "IPY_MODEL_1a0b47557ddb471a9abef45ce46f53bc",
       "value": true
      }
     },
     "ea4664c6390d4cf0904b45b2b1efb2c9": {
      "model_module": "@jupyter-widgets/controls",
      "model_module_version": "1.1.0",
      "model_name": "CheckboxModel",
      "state": {
       "description": "80°",
       "disabled": false,
       "layout": "IPY_MODEL_9935277d35c1402bb49416768a7b9ce1",
       "style": "IPY_MODEL_a900600b456b46a681fcc9494b7ece95",
       "value": true
      }
     },
     "ea8cf577676a4f5c815dc001591cca70": {
      "model_module": "@jupyter-widgets/controls",
      "model_module_version": "1.1.0",
      "model_name": "DescriptionStyleModel",
      "state": {
       "description_width": ""
      }
     },
     "eacf4b0c30b94827b8e74e51c200c853": {
      "model_module": "@jupyter-widgets/base",
      "model_module_version": "1.0.0",
      "model_name": "LayoutModel",
      "state": {}
     },
     "eada671a9877489896c776f602c3d693": {
      "model_module": "@jupyter-widgets/controls",
      "model_module_version": "1.1.0",
      "model_name": "ToggleButtonsModel",
      "state": {
       "_options_labels": [
        "400 MeV/n",
        "800 MeV/n",
        "1500 MeV/n"
       ],
       "button_style": "",
       "description": "Energy:",
       "icons": [],
       "index": 0,
       "layout": "IPY_MODEL_03b19c06f12e4aadad7aec80c5d6b1ed",
       "style": "IPY_MODEL_1fec3a2bae25428490df10b6f9630f15",
       "tooltips": [
        "lowest energy",
        "middle energy",
        "highest energy"
       ]
      }
     },
     "eadefaf457884e77b775d9e9cef345f2": {
      "model_module": "@jupyter-widgets/controls",
      "model_module_version": "1.1.0",
      "model_name": "CheckboxModel",
      "state": {
       "description": "10°",
       "disabled": false,
       "layout": "IPY_MODEL_9dd994dfe1494c828611dab8b7c1157e",
       "style": "IPY_MODEL_74e3d297a3dd4837a6940d54ccb2fc04",
       "value": true
      }
     },
     "eae064cb481f4388b3ecadccabebcbfd": {
      "model_module": "@jupyter-widgets/base",
      "model_module_version": "1.0.0",
      "model_name": "LayoutModel",
      "state": {}
     },
     "eae5e238dfcd487eaeb1739326df0d12": {
      "model_module": "@jupyter-widgets/base",
      "model_module_version": "1.0.0",
      "model_name": "LayoutModel",
      "state": {}
     },
     "eb377fa66aa746eb968995e2f2ab0fb4": {
      "model_module": "@jupyter-widgets/base",
      "model_module_version": "1.0.0",
      "model_name": "LayoutModel",
      "state": {}
     },
     "eb4ab7313de148e7975c3fd05921afd6": {
      "model_module": "@jupyter-widgets/base",
      "model_module_version": "1.0.0",
      "model_name": "LayoutModel",
      "state": {}
     },
     "ebf7af92aa6d4d2d90ea7cdae6b2bd84": {
      "model_module": "@jupyter-widgets/base",
      "model_module_version": "1.0.0",
      "model_name": "LayoutModel",
      "state": {}
     },
     "ec294333971b4af4bb4a5d8b139ab91f": {
      "model_module": "@jupyter-widgets/base",
      "model_module_version": "1.0.0",
      "model_name": "LayoutModel",
      "state": {}
     },
     "ec376c2c6592463696df681b11201528": {
      "model_module": "@jupyter-widgets/controls",
      "model_module_version": "1.1.0",
      "model_name": "ToggleButtonsModel",
      "state": {
       "_options_labels": [
        "20 g/cm²",
        "60 g/cm²"
       ],
       "button_style": "",
       "description": "Thickness:",
       "icons": [],
       "index": 0,
       "layout": "IPY_MODEL_7ed71805849a4f218564899a9ad4f788",
       "style": "IPY_MODEL_e1d70410966d4bf99a2e35490939c1d6",
       "tooltips": [
        "10 g/cm² Al upstream + 10 g/cm² HDPE downstream",
        "10 g/cm² Al upstream + 50 g/cm² HDPE downstream"
       ]
      }
     },
     "ec4904e2908944e1b622c2574f0e912a": {
      "model_module": "@jupyter-widgets/controls",
      "model_module_version": "1.1.0",
      "model_name": "ToggleButtonsStyleModel",
      "state": {
       "button_width": "",
       "description_width": ""
      }
     },
     "ec5aaa4b954a43a097770055de9b89ef": {
      "model_module": "@jupyter-widgets/controls",
      "model_module_version": "1.1.0",
      "model_name": "CheckboxModel",
      "state": {
       "description": "Experiment",
       "disabled": false,
       "layout": "IPY_MODEL_1bf04ec8e10246cc9d2df1f9e1f9e9b8",
       "style": "IPY_MODEL_1a46dbed02354026a4326b00cab9b040",
       "value": true
      }
     },
     "ec670dbcc8b94de5b4410087759261e7": {
      "model_module": "@jupyter-widgets/controls",
      "model_module_version": "1.1.0",
      "model_name": "LabelModel",
      "state": {
       "layout": "IPY_MODEL_8f66d762f6184414a9714cfc226381c1",
       "style": "IPY_MODEL_2514ad8ffa01480e8bd6dd3eb68113a7",
       "value": "Select the detector angles to plot."
      }
     },
     "ed728a04d4bc4e46bfe229bbe18d946c": {
      "model_module": "@jupyter-widgets/controls",
      "model_module_version": "1.1.0",
      "model_name": "DescriptionStyleModel",
      "state": {
       "description_width": ""
      }
     },
     "ed78636499c449529f4f4ab3dbc73bdd": {
      "model_module": "@jupyter-widgets/controls",
      "model_module_version": "1.1.0",
      "model_name": "CheckboxModel",
      "state": {
       "description": "60°",
       "disabled": false,
       "layout": "IPY_MODEL_703e3e569ff1498cb980c4dc4e985884",
       "style": "IPY_MODEL_5be950c9798a433eac7c50d421058a45",
       "value": false
      }
     },
     "edc5a9e57f44467797d8f3c8d1368d47": {
      "model_module": "@jupyter-widgets/controls",
      "model_module_version": "1.1.0",
      "model_name": "LabelModel",
      "state": {
       "layout": "IPY_MODEL_714e01f090034d61970e171f2b8e9078",
       "style": "IPY_MODEL_9d4af918c79e4649b91b52b135f6205d",
       "value": "Select the detector angles to plot."
      }
     },
     "ee873eda4511449cbd85792796e66667": {
      "model_module": "@jupyter-widgets/controls",
      "model_module_version": "1.1.0",
      "model_name": "CheckboxModel",
      "state": {
       "description": "135°",
       "disabled": false,
       "layout": "IPY_MODEL_e9c632d108ec4bc5b7df6ee17e225966",
       "style": "IPY_MODEL_55ad60edc3cc48cf803fdd35c03e02a8",
       "value": true
      }
     },
     "ee8be8f473e143408da35f093c0b6df3": {
      "model_module": "@jupyter-widgets/controls",
      "model_module_version": "1.1.0",
      "model_name": "LabelModel",
      "state": {
       "layout": "IPY_MODEL_638b9a043e1e4701abfe86496606c417",
       "style": "IPY_MODEL_6896b4bd8afa4cdcbf69ee8bd652a294",
       "value": "Select which secondary particle to plot spectra for."
      }
     },
     "ee9165206ff64fd98ebeb4be3a4a7b45": {
      "model_module": "@jupyter-widgets/controls",
      "model_module_version": "1.1.0",
      "model_name": "CheckboxModel",
      "state": {
       "description": "12.7°",
       "disabled": false,
       "layout": "IPY_MODEL_1b864d38500245bc899a0f381f423c24",
       "style": "IPY_MODEL_aa35185bf3a34092a2bd1af2cf00e408",
       "value": true
      }
     },
     "ee98a1b776164c5e9d2f3111d8008ef9": {
      "model_module": "@jupyter-widgets/controls",
      "model_module_version": "1.1.0",
      "model_name": "LabelModel",
      "state": {
       "layout": "IPY_MODEL_994c2a00c9b5436b91b975bafd760584",
       "style": "IPY_MODEL_9de6726f2e004bd3877caf19cbe4426f",
       "value": "Select upstream target material and thickness."
      }
     },
     "ee9bc543bebf4a9d802fb91e73d1002f": {
      "model_module": "@jupyter-widgets/controls",
      "model_module_version": "1.1.0",
      "model_name": "DescriptionStyleModel",
      "state": {
       "description_width": ""
      }
     },
     "eea40b60cb2d4ebbbbf40e8521ee4f87": {
      "model_module": "@jupyter-widgets/controls",
      "model_module_version": "1.1.0",
      "model_name": "CheckboxModel",
      "state": {
       "description": "30°",
       "disabled": false,
       "layout": "IPY_MODEL_868daa6a513c4483b385e724afc38db6",
       "style": "IPY_MODEL_a02324d66cae4bcdad77709c8ea30df5",
       "value": true
      }
     },
     "eef836b841c54aca80d97b09e12e4b2e": {
      "model_module": "@jupyter-widgets/controls",
      "model_module_version": "1.1.0",
      "model_name": "LabelModel",
      "state": {
       "layout": "IPY_MODEL_7ac59b7eca6641c8bcb498673e9b27bd",
       "style": "IPY_MODEL_1fe86901ff6444339b517145bf3c3899",
       "value": "Select projectile ion energy."
      }
     },
     "eefb103b46b840978229669dc9bbcdce": {
      "model_module": "@jupyter-widgets/controls",
      "model_module_version": "1.1.0",
      "model_name": "ToggleButtonsStyleModel",
      "state": {
       "button_width": "",
       "description_width": ""
      }
     },
     "ef4bd5c55a7c45cc9ef95a2d4270d9a7": {
      "model_module": "@jupyter-widgets/base",
      "model_module_version": "1.0.0",
      "model_name": "LayoutModel",
      "state": {}
     },
     "ef63fe9cf051472285a2119408a5362c": {
      "model_module": "@jupyter-widgets/controls",
      "model_module_version": "1.1.0",
      "model_name": "DescriptionStyleModel",
      "state": {
       "description_width": ""
      }
     },
     "ef7272546b44403e83a8e89ec335c49b": {
      "model_module": "@jupyter-widgets/controls",
      "model_module_version": "1.1.0",
      "model_name": "CheckboxModel",
      "state": {
       "description": "60°",
       "disabled": false,
       "layout": "IPY_MODEL_dc545899afba40ea8c875493c461fd48",
       "style": "IPY_MODEL_28cb64bf993548d4ac314cacc750404a",
       "value": true
      }
     },
     "efcb746359c4475e975c88a99c210c04": {
      "model_module": "@jupyter-widgets/controls",
      "model_module_version": "1.1.0",
      "model_name": "DescriptionStyleModel",
      "state": {
       "description_width": ""
      }
     },
     "efd911ce47884c2e847c7597db96f675": {
      "model_module": "@jupyter-widgets/controls",
      "model_module_version": "1.1.0",
      "model_name": "CheckboxModel",
      "state": {
       "description": "60°",
       "disabled": false,
       "layout": "IPY_MODEL_faff79a189964b2d9547eac49f10b416",
       "style": "IPY_MODEL_c9a56b89822e4c4fbe565ecbbd144637",
       "value": true
      }
     },
     "f02c0822dab04f28a080936218b5ede4": {
      "model_module": "@jupyter-widgets/controls",
      "model_module_version": "1.1.0",
      "model_name": "LabelModel",
      "state": {
       "layout": "IPY_MODEL_ac2f0828c98f4d179cf83ddf27166b0b",
       "style": "IPY_MODEL_0e32b3e38b3b49b8af1d0d38aad130b8",
       "value": "Select the detector angles to plot."
      }
     },
     "f055cac736c0407b94d3e7ddcc082153": {
      "model_module": "@jupyter-widgets/base",
      "model_module_version": "1.0.0",
      "model_name": "LayoutModel",
      "state": {}
     },
     "f0566eea34404ef8ad5d91547f7d07d4": {
      "model_module": "@jupyter-widgets/controls",
      "model_module_version": "1.1.0",
      "model_name": "ToggleButtonsModel",
      "state": {
       "_options_labels": [
        "Al",
        "HDPE",
        "AlPE"
       ],
       "button_style": "",
       "description": "Material:",
       "icons": [],
       "index": 0,
       "layout": "IPY_MODEL_b8297bde69954b1fad28c2af975eeb32",
       "style": "IPY_MODEL_b6c24efdc53a4660a49ce93bba5de96a",
       "tooltips": [
        "Aluminum",
        "Polyethylene",
        "Combination of Al and HDPE"
       ]
      }
     },
     "f063c43e128244e0b1ce21cf847b324b": {
      "model_module": "@jupyter-widgets/controls",
      "model_module_version": "1.1.0",
      "model_name": "DescriptionStyleModel",
      "state": {
       "description_width": ""
      }
     },
     "f080737c4e2841fa9081b9ed3051a0cc": {
      "model_module": "@jupyter-widgets/controls",
      "model_module_version": "1.1.0",
      "model_name": "CheckboxModel",
      "state": {
       "description": "30°",
       "disabled": false,
       "layout": "IPY_MODEL_b2a39a040a6544d99cfd7e4863d4a141",
       "style": "IPY_MODEL_e2942bf36d6c4d1e9d9c1d946651f2dd",
       "value": false
      }
     },
     "f0969a67e3cd4b4bb9df5309f32120c8": {
      "model_module": "@jupyter-widgets/controls",
      "model_module_version": "1.1.0",
      "model_name": "LabelModel",
      "state": {
       "layout": "IPY_MODEL_33472369a0234ea3a9dcf27c09cd7f7b",
       "style": "IPY_MODEL_39b823192d424a1aab87bcddeee16b3d",
       "value": "Select the detector angles to plot."
      }
     },
     "f10bfd995f7d431d8b378fcd07b5c54e": {
      "model_module": "@jupyter-widgets/base",
      "model_module_version": "1.0.0",
      "model_name": "LayoutModel",
      "state": {}
     },
     "f143c1e1d37e4c3e80e186452ecaae07": {
      "model_module": "@jupyter-widgets/controls",
      "model_module_version": "1.1.0",
      "model_name": "DescriptionStyleModel",
      "state": {
       "description_width": ""
      }
     },
     "f18d8c2733764bf5b324b901bc699368": {
      "model_module": "@jupyter-widgets/base",
      "model_module_version": "1.0.0",
      "model_name": "LayoutModel",
      "state": {}
     },
     "f199881453b040ecba836e9210e1e2bd": {
      "model_module": "@jupyter-widgets/controls",
      "model_module_version": "1.1.0",
      "model_name": "ToggleButtonsStyleModel",
      "state": {
       "button_width": "",
       "description_width": ""
      }
     },
     "f1afb8dc5d4142d693c8d42b97cebaad": {
      "model_module": "@jupyter-widgets/controls",
      "model_module_version": "1.1.0",
      "model_name": "CheckboxModel",
      "state": {
       "description": "10°",
       "disabled": false,
       "layout": "IPY_MODEL_23907f89d8224d0d8f8b6dff967d5a79",
       "style": "IPY_MODEL_1f7b1312a8a44dbaa6d3bae6912929db",
       "value": true
      }
     },
     "f1eedb76081f4458b9c9a8c9e76dfeef": {
      "model_module": "@jupyter-widgets/controls",
      "model_module_version": "1.1.0",
      "model_name": "CheckboxModel",
      "state": {
       "description": "80°",
       "disabled": false,
       "layout": "IPY_MODEL_adeb596f502d42449d8811e70bbae8b2",
       "style": "IPY_MODEL_255bd2ea37c443cdbf7c13594324e3ea",
       "value": true
      }
     },
     "f1f935c3adf24e1bb45e6f19d25d81c5": {
      "model_module": "@jupyter-widgets/controls",
      "model_module_version": "1.1.0",
      "model_name": "DescriptionStyleModel",
      "state": {
       "description_width": ""
      }
     },
     "f252dec002114f79992adfffb78289bb": {
      "model_module": "@jupyter-widgets/controls",
      "model_module_version": "1.1.0",
      "model_name": "ToggleButtonsStyleModel",
      "state": {
       "button_width": "",
       "description_width": ""
      }
     },
     "f262556b66da4635872be828bcdb1607": {
      "model_module": "@jupyter-widgets/controls",
      "model_module_version": "1.1.0",
      "model_name": "CheckboxModel",
      "state": {
       "description": "80°",
       "disabled": false,
       "layout": "IPY_MODEL_c758b050ef9b47c8b35069f92aa067b8",
       "style": "IPY_MODEL_75a30c3beb1940bf992f9033eee96e34",
       "value": true
      }
     },
     "f26b555c18674641ac56b038c0e17764": {
      "model_module": "@jupyter-widgets/controls",
      "model_module_version": "1.1.0",
      "model_name": "DescriptionStyleModel",
      "state": {
       "description_width": ""
      }
     },
     "f26e2ec7560a4e578564c54c53c981f3": {
      "model_module": "@jupyter-widgets/controls",
      "model_module_version": "1.1.0",
      "model_name": "LabelModel",
      "state": {
       "layout": "IPY_MODEL_0d391190abd44d54b833e58e653dc40b",
       "style": "IPY_MODEL_86a57d3d44574ca59515581038955997",
       "value": "Select projectile ion energy."
      }
     },
     "f2747acdaa6146c7bfbced92bc3f8313": {
      "model_module": "@jupyter-widgets/base",
      "model_module_version": "1.0.0",
      "model_name": "LayoutModel",
      "state": {}
     },
     "f2ad27baf4764943a64930549184f148": {
      "model_module": "@jupyter-widgets/base",
      "model_module_version": "1.0.0",
      "model_name": "LayoutModel",
      "state": {}
     },
     "f2d9fac9be214bb79549c85432c23998": {
      "model_module": "@jupyter-widgets/controls",
      "model_module_version": "1.1.0",
      "model_name": "CheckboxModel",
      "state": {
       "description": "135°",
       "disabled": false,
       "layout": "IPY_MODEL_1bf7f5567589498fa681752dbe53ef46",
       "style": "IPY_MODEL_bb2cd9b121534a8290c6451b95d7d29c",
       "value": true
      }
     },
     "f321083ddc564a30968b1d85bf33aa1b": {
      "model_module": "@jupyter-widgets/base",
      "model_module_version": "1.0.0",
      "model_name": "LayoutModel",
      "state": {}
     },
     "f33936238f9141c9994990d8d2bc665a": {
      "model_module": "@jupyter-widgets/controls",
      "model_module_version": "1.1.0",
      "model_name": "CheckboxModel",
      "state": {
       "description": "7.2°",
       "disabled": false,
       "layout": "IPY_MODEL_bc66069ba2424e408276de2b0e664572",
       "style": "IPY_MODEL_0b27835f9ef445558cc2f963f85d4f87",
       "value": false
      }
     },
     "f3b020ca5d8f4d98bd0f82640535936e": {
      "model_module": "@jupyter-widgets/base",
      "model_module_version": "1.0.0",
      "model_name": "LayoutModel",
      "state": {}
     },
     "f3b324d2ef314550aa0da8d17a9f0043": {
      "model_module": "@jupyter-widgets/controls",
      "model_module_version": "1.1.0",
      "model_name": "CheckboxModel",
      "state": {
       "description": "80°",
       "disabled": false,
       "layout": "IPY_MODEL_1390752cdc434e52b9f7bbcab6f4e297",
       "style": "IPY_MODEL_fa6823fad2d748e99617d54f76e63bc8",
       "value": false
      }
     },
     "f3c9ffbfb328454d98e6b2a5ed3f03b4": {
      "model_module": "@jupyter-widgets/controls",
      "model_module_version": "1.1.0",
      "model_name": "CheckboxModel",
      "state": {
       "description": "135°",
       "disabled": false,
       "layout": "IPY_MODEL_bc51dbf7d6b44cb0861568d60899abdf",
       "style": "IPY_MODEL_97998ff7c23540418583446728836fec",
       "value": true
      }
     },
     "f3f69e1081784e57b0f53a13152b39c0": {
      "model_module": "@jupyter-widgets/controls",
      "model_module_version": "1.1.0",
      "model_name": "DescriptionStyleModel",
      "state": {
       "description_width": ""
      }
     },
     "f41b887ee0d948018f442ae216d31f95": {
      "model_module": "@jupyter-widgets/base",
      "model_module_version": "1.0.0",
      "model_name": "LayoutModel",
      "state": {}
     },
     "f46e27ea0a14453184f192527874afb7": {
      "model_module": "@jupyter-widgets/base",
      "model_module_version": "1.0.0",
      "model_name": "LayoutModel",
      "state": {}
     },
     "f485120e55c14545ac5b3960df305b8f": {
      "model_module": "@jupyter-widgets/controls",
      "model_module_version": "1.1.0",
      "model_name": "LabelModel",
      "state": {
       "layout": "IPY_MODEL_879adfc53a3c462a9c3d51cf55c1adbe",
       "style": "IPY_MODEL_8477bf0938fe492299303381dfe3f762",
       "value": "Select which secondary particle to plot spectra for."
      }
     },
     "f4861ab2161a41a481d4efd27777288f": {
      "model_module": "@jupyter-widgets/controls",
      "model_module_version": "1.1.0",
      "model_name": "DescriptionStyleModel",
      "state": {
       "description_width": ""
      }
     },
     "f49081b81392490a9d44ed5eda297dfb": {
      "model_module": "@jupyter-widgets/controls",
      "model_module_version": "1.1.0",
      "model_name": "DescriptionStyleModel",
      "state": {
       "description_width": ""
      }
     },
     "f4a71d72724943bfaf0276bf593011e7": {
      "model_module": "@jupyter-widgets/base",
      "model_module_version": "1.0.0",
      "model_name": "LayoutModel",
      "state": {}
     },
     "f4b34bb605b642bc92cabd5815758446": {
      "model_module": "@jupyter-widgets/base",
      "model_module_version": "1.0.0",
      "model_name": "LayoutModel",
      "state": {}
     },
     "f4d47f670d944ed8aaa908b07c2eafa3": {
      "model_module": "@jupyter-widgets/controls",
      "model_module_version": "1.1.0",
      "model_name": "DescriptionStyleModel",
      "state": {
       "description_width": ""
      }
     },
     "f4e068f26b124e70aee3d4ed6f1a1f11": {
      "model_module": "@jupyter-widgets/controls",
      "model_module_version": "1.1.0",
      "model_name": "ToggleButtonsStyleModel",
      "state": {
       "button_width": "",
       "description_width": ""
      }
     },
     "f4ed453b5306419e94a21b49cba03d49": {
      "model_module": "@jupyter-widgets/controls",
      "model_module_version": "1.1.0",
      "model_name": "DescriptionStyleModel",
      "state": {
       "description_width": ""
      }
     },
     "f5265654bf1c43de820654cb0b360cae": {
      "model_module": "@jupyter-widgets/base",
      "model_module_version": "1.0.0",
      "model_name": "LayoutModel",
      "state": {}
     },
     "f53498484d3e4625ba5faed05d104562": {
      "model_module": "@jupyter-widgets/base",
      "model_module_version": "1.0.0",
      "model_name": "LayoutModel",
      "state": {}
     },
     "f5b30e748dcd4e67b51e4e670d0c23eb": {
      "model_module": "@jupyter-widgets/controls",
      "model_module_version": "1.1.0",
      "model_name": "CheckboxModel",
      "state": {
       "description": "45°",
       "disabled": false,
       "layout": "IPY_MODEL_b2c2393f3cc943afa4c0a599f866c96b",
       "style": "IPY_MODEL_630a75892166422cb5a31e63e1a6c742",
       "value": true
      }
     },
     "f5ba8d79d7ac4a828e421fac15ac3d7a": {
      "model_module": "@jupyter-widgets/base",
      "model_module_version": "1.0.0",
      "model_name": "LayoutModel",
      "state": {}
     },
     "f5d62b0a3491487ebc3bae565842b5c4": {
      "model_module": "@jupyter-widgets/controls",
      "model_module_version": "1.1.0",
      "model_name": "CheckboxModel",
      "state": {
       "description": "60°",
       "disabled": false,
       "layout": "IPY_MODEL_1aeb7dfc9e594c11861f86298ee1729a",
       "style": "IPY_MODEL_a9e42351c8da44b9ad978d46ab3d72ab",
       "value": true
      }
     },
     "f5dfd514d516400ba5747fb5cf8a6269": {
      "model_module": "@jupyter-widgets/controls",
      "model_module_version": "1.1.0",
      "model_name": "CheckboxModel",
      "state": {
       "description": "10°",
       "disabled": false,
       "layout": "IPY_MODEL_1d68b934178f43fc98da9e81f818c1c2",
       "style": "IPY_MODEL_08874af4f11e4866a1c963a34f169b7b",
       "value": true
      }
     },
     "f5ec4bafce8a47389fc36bbf380ff089": {
      "model_module": "@jupyter-widgets/controls",
      "model_module_version": "1.1.0",
      "model_name": "ToggleButtonsStyleModel",
      "state": {
       "button_width": "",
       "description_width": ""
      }
     },
     "f606adc961c44f8b9755d1e03eb8449a": {
      "model_module": "@jupyter-widgets/controls",
      "model_module_version": "1.1.0",
      "model_name": "DescriptionStyleModel",
      "state": {
       "description_width": ""
      }
     },
     "f6398df354bc4679b689033928f3f329": {
      "model_module": "@jupyter-widgets/base",
      "model_module_version": "1.0.0",
      "model_name": "LayoutModel",
      "state": {}
     },
     "f673c3750a714ce6b241908ebc147d4d": {
      "model_module": "@jupyter-widgets/base",
      "model_module_version": "1.0.0",
      "model_name": "LayoutModel",
      "state": {}
     },
     "f71727a8872d46bfa0995c5545823cfc": {
      "model_module": "@jupyter-widgets/base",
      "model_module_version": "1.0.0",
      "model_name": "LayoutModel",
      "state": {}
     },
     "f7321fc4b17d4e829257afd40af2d5c2": {
      "model_module": "@jupyter-widgets/controls",
      "model_module_version": "1.1.0",
      "model_name": "DescriptionStyleModel",
      "state": {
       "description_width": ""
      }
     },
     "f753c75e2f27484493aa367682daa366": {
      "model_module": "@jupyter-widgets/controls",
      "model_module_version": "1.1.0",
      "model_name": "CheckboxModel",
      "state": {
       "description": "10°",
       "disabled": false,
       "layout": "IPY_MODEL_08f0b78c47574a45ac876371dff017db",
       "style": "IPY_MODEL_31eccb51f3554686a99127acb7d976ab",
       "value": true
      }
     },
     "f757fbb5e99d4a2d8befd8c12209d3d3": {
      "model_module": "@jupyter-widgets/controls",
      "model_module_version": "1.1.0",
      "model_name": "CheckboxModel",
      "state": {
       "description": "45°",
       "disabled": false,
       "layout": "IPY_MODEL_d99aff9ae3da4c99b9fc05e9620edc89",
       "style": "IPY_MODEL_32ae16106a1c4496831fc9941be86476",
       "value": true
      }
     },
     "f7f38f23b33c4fc9bedd89b58ecf6c4c": {
      "model_module": "@jupyter-widgets/base",
      "model_module_version": "1.0.0",
      "model_name": "LayoutModel",
      "state": {}
     },
     "f808b8d841c64ede90b90c8d1d382ad7": {
      "model_module": "@jupyter-widgets/controls",
      "model_module_version": "1.1.0",
      "model_name": "DescriptionStyleModel",
      "state": {
       "description_width": ""
      }
     },
     "f812ebabef9146fbb976efd2dd979889": {
      "model_module": "@jupyter-widgets/base",
      "model_module_version": "1.0.0",
      "model_name": "LayoutModel",
      "state": {}
     },
     "f8160d7eb5ec4e9e9e9be412fce32fd9": {
      "model_module": "@jupyter-widgets/controls",
      "model_module_version": "1.1.0",
      "model_name": "ToggleButtonsModel",
      "state": {
       "_options_labels": [
        "N (¹n)",
        "NDC (¹n)",
        "P (¹H)",
        "D (²H)",
        "T (³H)",
        "S (³He)",
        "A (⁴He)"
       ],
       "button_style": "",
       "description": "Type:",
       "icons": [],
       "index": 0,
       "layout": "IPY_MODEL_16f670a283904513995b6aa8c48c5375",
       "style": "IPY_MODEL_f252dec002114f79992adfffb78289bb",
       "tooltips": [
        "Neutron",
        "Back Target Neutron",
        "Proton",
        "Deuteron",
        "Triton",
        "Helium-3",
        "Helium-4"
       ]
      }
     },
     "f8187533cbd64b0f92011819d7ecc492": {
      "model_module": "@jupyter-widgets/base",
      "model_module_version": "1.0.0",
      "model_name": "LayoutModel",
      "state": {}
     },
     "f81a967a4e904b57bc79fffca0847c4a": {
      "model_module": "@jupyter-widgets/controls",
      "model_module_version": "1.1.0",
      "model_name": "ToggleButtonsModel",
      "state": {
       "_options_labels": [
        "Al",
        "HDPE",
        "AlPE"
       ],
       "button_style": "",
       "description": "Material:",
       "icons": [],
       "index": 0,
       "layout": "IPY_MODEL_d1331ffa41c94abdacbc2ece91c03a7e",
       "style": "IPY_MODEL_7269c215af174c58ad8c5c71aa27e07a",
       "tooltips": [
        "Aluminum",
        "Polyethylene",
        "Combination of Al and HDPE"
       ]
      }
     },
     "f8d1defbf04d4c329688c00ad9b82081": {
      "model_module": "@jupyter-widgets/base",
      "model_module_version": "1.0.0",
      "model_name": "LayoutModel",
      "state": {}
     },
     "f9518e3aacac4605b4bb8e8e408a58f3": {
      "model_module": "@jupyter-widgets/controls",
      "model_module_version": "1.1.0",
      "model_name": "LabelModel",
      "state": {
       "layout": "IPY_MODEL_c2da93c1248a406e97cdbda52cd4353e",
       "style": "IPY_MODEL_8f29115be0cc42ca9b36a84cc9c75532",
       "value": "Select which secondary particle to plot spectra for."
      }
     },
     "f97258fbbb4c467ebb072327200c0105": {
      "model_module": "@jupyter-widgets/controls",
      "model_module_version": "1.1.0",
      "model_name": "DescriptionStyleModel",
      "state": {
       "description_width": ""
      }
     },
     "fa1bd53915424fa1ab587c57ab48f080": {
      "model_module": "@jupyter-widgets/base",
      "model_module_version": "1.0.0",
      "model_name": "LayoutModel",
      "state": {}
     },
     "fa6823fad2d748e99617d54f76e63bc8": {
      "model_module": "@jupyter-widgets/controls",
      "model_module_version": "1.1.0",
      "model_name": "DescriptionStyleModel",
      "state": {
       "description_width": ""
      }
     },
     "fa76e56acdcd41718e0b25ba2bd643c5": {
      "model_module": "@jupyter-widgets/base",
      "model_module_version": "1.0.0",
      "model_name": "LayoutModel",
      "state": {}
     },
     "fa831ea3f4b347af83e3d34696ccf9ba": {
      "model_module": "@jupyter-widgets/base",
      "model_module_version": "1.0.0",
      "model_name": "LayoutModel",
      "state": {}
     },
     "fa868bfc1e314c0ebe3116aa8acc6ef2": {
      "model_module": "@jupyter-widgets/controls",
      "model_module_version": "1.1.0",
      "model_name": "ToggleButtonsStyleModel",
      "state": {
       "button_width": "",
       "description_width": ""
      }
     },
     "fafd0e3b04b4483f90d356ced0c29506": {
      "model_module": "@jupyter-widgets/controls",
      "model_module_version": "1.1.0",
      "model_name": "DescriptionStyleModel",
      "state": {
       "description_width": ""
      }
     },
     "faff79a189964b2d9547eac49f10b416": {
      "model_module": "@jupyter-widgets/base",
      "model_module_version": "1.0.0",
      "model_name": "LayoutModel",
      "state": {}
     },
     "fb064c7310ef43abbedd84003a322ca9": {
      "model_module": "@jupyter-widgets/controls",
      "model_module_version": "1.1.0",
      "model_name": "CheckboxModel",
      "state": {
       "description": "135°",
       "disabled": false,
       "layout": "IPY_MODEL_6fb95e2154dd4900892693eac880a9bb",
       "style": "IPY_MODEL_2e3a847b8cec4b5dbe367728c18d5a57",
       "value": true
      }
     },
     "fb164e172ac540ac81fc0ad566192df8": {
      "model_module": "@jupyter-widgets/controls",
      "model_module_version": "1.1.0",
      "model_name": "ToggleButtonsModel",
      "state": {
       "_options_labels": [
        "N (¹n)",
        "NDC (¹n)",
        "P (¹H)",
        "D (²H)",
        "T (³H)",
        "S (³He)",
        "A (⁴He)"
       ],
       "button_style": "",
       "description": "Particle:",
       "icons": [],
       "index": 2,
       "layout": "IPY_MODEL_13e8722c02124a1eb5386f71fef459c9",
       "style": "IPY_MODEL_16a0a785c08a4f329604b9d7b46e1730",
       "tooltips": [
        "Neutron",
        "Back Target Neutron",
        "Proton",
        "Deuteron",
        "Triton",
        "Helium-3",
        "Helium-4"
       ]
      }
     },
     "fb2e1b8ea9c74243b274d3c0c73fb9f8": {
      "model_module": "@jupyter-widgets/base",
      "model_module_version": "1.0.0",
      "model_name": "LayoutModel",
      "state": {}
     },
     "fb46bc84044a4051b90c55b7d4fbb1ab": {
      "model_module": "@jupyter-widgets/controls",
      "model_module_version": "1.1.0",
      "model_name": "DescriptionStyleModel",
      "state": {
       "description_width": ""
      }
     },
     "fb4e6dcac5164de5891986bbceb3509d": {
      "model_module": "@jupyter-widgets/base",
      "model_module_version": "1.0.0",
      "model_name": "LayoutModel",
      "state": {}
     },
     "fbac0d7df1d84bce9086128e146d7b02": {
      "model_module": "@jupyter-widgets/controls",
      "model_module_version": "1.1.0",
      "model_name": "ToggleButtonsModel",
      "state": {
       "_options_labels": [
        "N (¹n)",
        "NDC (¹n)",
        "P (¹H)",
        "D (²H)"
       ],
       "button_style": "",
       "description": "Type:",
       "icons": [],
       "index": 2,
       "layout": "IPY_MODEL_03fbf2b260454a4aba02e0841a431c22",
       "style": "IPY_MODEL_e66423a8657740bf85d4739442117038",
       "tooltips": [
        "Neutron",
        "Back Target Neutron",
        "Proton",
        "Deuteron"
       ]
      }
     },
     "fc21e1f76d594bbfb368d28398b75880": {
      "model_module": "@jupyter-widgets/controls",
      "model_module_version": "1.1.0",
      "model_name": "CheckboxModel",
      "state": {
       "description": "Experiment",
       "disabled": false,
       "layout": "IPY_MODEL_312d0650ec004f909b6f98ff9ccc158f",
       "style": "IPY_MODEL_ceb39673d4414fd298cd7f6f4aec66f0",
       "value": true
      }
     },
     "fc5e76d7b0d54b7fb864f43147295e4d": {
      "model_module": "@jupyter-widgets/controls",
      "model_module_version": "1.1.0",
      "model_name": "ToggleButtonsStyleModel",
      "state": {
       "button_width": "",
       "description_width": ""
      }
     },
     "fc5ff637033d46a79d10c9f739554db6": {
      "model_module": "@jupyter-widgets/controls",
      "model_module_version": "1.1.0",
      "model_name": "CheckboxModel",
      "state": {
       "description": "10°",
       "disabled": false,
       "layout": "IPY_MODEL_e125556179c24374bb636b9f57260100",
       "style": "IPY_MODEL_0e7c74024ab7459c89e88c6a6c6d58c7",
       "value": true
      }
     },
     "fca467fbacda4366ac6d71ccd5b56cfc": {
      "model_module": "@jupyter-widgets/base",
      "model_module_version": "1.0.0",
      "model_name": "LayoutModel",
      "state": {}
     },
     "fcdc8c835ef542a39bbe81e117c15446": {
      "model_module": "@jupyter-widgets/controls",
      "model_module_version": "1.1.0",
      "model_name": "DescriptionStyleModel",
      "state": {
       "description_width": ""
      }
     },
     "fd601da03285408d9dab1b4e589015f8": {
      "model_module": "@jupyter-widgets/base",
      "model_module_version": "1.0.0",
      "model_name": "LayoutModel",
      "state": {}
     },
     "fe14d7b10f2e4a5c8d43b25464f2f8af": {
      "model_module": "@jupyter-widgets/base",
      "model_module_version": "1.0.0",
      "model_name": "LayoutModel",
      "state": {}
     },
     "fe1c6ef13b8c446280dbc572670306df": {
      "model_module": "@jupyter-widgets/controls",
      "model_module_version": "1.1.0",
      "model_name": "ToggleButtonsModel",
      "state": {
       "_options_labels": [
        "N (¹n)",
        "NDC (¹n)",
        "P (¹H)",
        "D (²H)",
        "T (³H)",
        "S (³He)",
        "A (⁴He)"
       ],
       "button_style": "",
       "description": "Type:",
       "icons": [],
       "index": 0,
       "layout": "IPY_MODEL_cc5a322d499e45ec875485585e0187e8",
       "style": "IPY_MODEL_377f418dbd6a41b9b98c2d82f062e64e",
       "tooltips": [
        "Neutron",
        "Back Target Neutron",
        "Proton",
        "Deuteron",
        "Triton",
        "Helium-3",
        "Helium-4"
       ]
      }
     },
     "fe1d1e90130247ac8121c825e79cb174": {
      "model_module": "@jupyter-widgets/controls",
      "model_module_version": "1.1.0",
      "model_name": "DescriptionStyleModel",
      "state": {
       "description_width": ""
      }
     },
     "fe443f51af184df68b3c56cf06f77457": {
      "model_module": "@jupyter-widgets/controls",
      "model_module_version": "1.1.0",
      "model_name": "DescriptionStyleModel",
      "state": {
       "description_width": ""
      }
     },
     "feb773bb2249497ab65e8cae32c67021": {
      "model_module": "@jupyter-widgets/base",
      "model_module_version": "1.0.0",
      "model_name": "LayoutModel",
      "state": {}
     },
     "fee1b4be948d47cb972a0796e53ef5ad": {
      "model_module": "@jupyter-widgets/controls",
      "model_module_version": "1.1.0",
      "model_name": "CheckboxModel",
      "state": {
       "description": "10°",
       "disabled": false,
       "layout": "IPY_MODEL_2592cff594e84589b5bf39c835496b59",
       "style": "IPY_MODEL_35808e4c571c4f76a4628148a7a69c54",
       "value": true
      }
     },
     "ff0752d0085a4a8693b2646507320ce7": {
      "model_module": "@jupyter-widgets/base",
      "model_module_version": "1.0.0",
      "model_name": "LayoutModel",
      "state": {}
     },
     "ff286a067c23439a868c7e18520be3c3": {
      "model_module": "@jupyter-widgets/base",
      "model_module_version": "1.0.0",
      "model_name": "LayoutModel",
      "state": {}
     },
     "ff2f94b2546b423daf13837d3bd365ab": {
      "model_module": "@jupyter-widgets/controls",
      "model_module_version": "1.1.0",
      "model_name": "DescriptionStyleModel",
      "state": {
       "description_width": ""
      }
     },
     "ff356545a116431bb725754b20b707f1": {
      "model_module": "@jupyter-widgets/controls",
      "model_module_version": "1.1.0",
      "model_name": "CheckboxModel",
      "state": {
       "description": "Experiment",
       "disabled": false,
       "layout": "IPY_MODEL_a492ac76f1b94b6a9eb892afe1c19c06",
       "style": "IPY_MODEL_453f31976f1745da8fe67203caf87d15",
       "value": true
      }
     },
     "ff4624ac0a444ec2a1650e86cf483e1b": {
      "model_module": "@jupyter-widgets/controls",
      "model_module_version": "1.1.0",
      "model_name": "LabelModel",
      "state": {
       "layout": "IPY_MODEL_3390f09b3a6d4015a170c63a418e3897",
       "style": "IPY_MODEL_d7e0e5a003b4402f8fbab141e943e4c4",
       "value": "Select which sets of data to display."
      }
     },
     "ff5a7bc49d2c426bba829600c3d89560": {
      "model_module": "@jupyter-widgets/controls",
      "model_module_version": "1.1.0",
      "model_name": "CheckboxModel",
      "state": {
       "description": "60°",
       "disabled": false,
       "layout": "IPY_MODEL_a715567199b948ed9bf18629dce166b8",
       "style": "IPY_MODEL_d25f491b0e884a14a2edd32657745a70",
       "value": true
      }
     },
     "ff775fb71b26478da0e11f8d03b303f6": {
      "model_module": "@jupyter-widgets/base",
      "model_module_version": "1.0.0",
      "model_name": "LayoutModel",
      "state": {}
     },
     "ffc0f64b49c84d55873df730ed3f2593": {
      "model_module": "@jupyter-widgets/base",
      "model_module_version": "1.0.0",
      "model_name": "LayoutModel",
      "state": {}
     },
     "ffd7ce5689fb467b967c87d2b0dcf965": {
      "model_module": "@jupyter-widgets/controls",
      "model_module_version": "1.1.0",
      "model_name": "ToggleButtonsStyleModel",
      "state": {
       "button_width": "",
       "description_width": ""
      }
     },
     "ffe283cda2964f5f85d8d9bed246eb8e": {
      "model_module": "@jupyter-widgets/controls",
      "model_module_version": "1.1.0",
      "model_name": "CheckboxModel",
      "state": {
       "description": "30°",
       "disabled": false,
       "layout": "IPY_MODEL_409f8d96f1b84958a16c4d20848f7289",
       "style": "IPY_MODEL_215b0b190f52448c9781d9b9d17ba7cd",
       "value": true
      }
     }
    },
    "version_major": 2,
    "version_minor": 0
   }
  }
 },
 "nbformat": 4,
 "nbformat_minor": 1
}
