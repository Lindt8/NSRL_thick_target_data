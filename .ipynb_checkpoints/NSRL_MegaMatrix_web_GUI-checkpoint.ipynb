{
 "cells": [
  {
   "cell_type": "code",
   "execution_count": 271,
   "metadata": {},
   "outputs": [
    {
     "data": {
      "application/vnd.jupyter.widget-view+json": {
       "model_id": "99eb7eaf47ad4aaaab6200662bf41d7f",
       "version_major": 2,
       "version_minor": 0
      },
      "text/html": [
       "<p>Failed to display Jupyter Widget of type <code>Label</code>.</p>\n",
       "<p>\n",
       "  If you're reading this message in the Jupyter Notebook or JupyterLab Notebook, it may mean\n",
       "  that the widgets JavaScript is still loading. If this message persists, it\n",
       "  likely means that the widgets JavaScript library is either not installed or\n",
       "  not enabled. See the <a href=\"https://ipywidgets.readthedocs.io/en/stable/user_install.html\">Jupyter\n",
       "  Widgets Documentation</a> for setup instructions.\n",
       "</p>\n",
       "<p>\n",
       "  If you're reading this message in another frontend (for example, a static\n",
       "  rendering on GitHub or <a href=\"https://nbviewer.jupyter.org/\">NBViewer</a>),\n",
       "  it may mean that your frontend doesn't currently support widgets.\n",
       "</p>\n"
      ],
      "text/plain": [
       "Label(value='Select projectile ion species.')"
      ]
     },
     "metadata": {},
     "output_type": "display_data"
    },
    {
     "data": {
      "application/vnd.jupyter.widget-view+json": {
       "model_id": "b52374ae726c4448b2b3b2ca2e6fc651",
       "version_major": 2,
       "version_minor": 0
      },
      "text/html": [
       "<p>Failed to display Jupyter Widget of type <code>ToggleButtons</code>.</p>\n",
       "<p>\n",
       "  If you're reading this message in the Jupyter Notebook or JupyterLab Notebook, it may mean\n",
       "  that the widgets JavaScript is still loading. If this message persists, it\n",
       "  likely means that the widgets JavaScript library is either not installed or\n",
       "  not enabled. See the <a href=\"https://ipywidgets.readthedocs.io/en/stable/user_install.html\">Jupyter\n",
       "  Widgets Documentation</a> for setup instructions.\n",
       "</p>\n",
       "<p>\n",
       "  If you're reading this message in another frontend (for example, a static\n",
       "  rendering on GitHub or <a href=\"https://nbviewer.jupyter.org/\">NBViewer</a>),\n",
       "  it may mean that your frontend doesn't currently support widgets.\n",
       "</p>\n"
      ],
      "text/plain": [
       "ToggleButtons(description='Ion:', options=('H', 'He', 'C', 'Si', 'Fe'), tooltips=['Hydrogen', 'Helium', 'Carbon', 'Silicon', 'Iron'], value='H')"
      ]
     },
     "metadata": {},
     "output_type": "display_data"
    }
   ],
   "source": [
    "%matplotlib notebook\n",
    "\n",
    "import numpy as np\n",
    "import matplotlib.pyplot as plt\n",
    "from matplotlib.collections import PatchCollection\n",
    "from matplotlib.patches import Rectangle\n",
    "import re\n",
    "from IPython.display import display\n",
    "from ipywidgets import interact, interactive, fixed, interact_manual\n",
    "import ipywidgets as widgets\n",
    "from IPython.display import Javascript\n",
    "\n",
    "def find(target, myList):\n",
    "    for i in range(len(myList)):\n",
    "        if myList[i] == target:\n",
    "            return i       \n",
    "\n",
    "def on_click(change):\n",
    "    #display(Javascript('IPython.notebook.execute_cells_below()'))  \n",
    "    display(Javascript('IPython.notebook.execute_cell_range(IPython.notebook.get_selected_index()+1, IPython.notebook.ncells())'))\n",
    "\n",
    "# Function to plot error boxes\n",
    "def makeErrorBoxes(xdata,ydata,xerror,yerror,fc='None',ec='k',alpha=1.0,lw=1):\n",
    "    # Create list for all the error patches\n",
    "    errorboxes = []\n",
    "\n",
    "    # Loop over data points; create box from errors at each point\n",
    "    for xc,yc,xe,ye in zip(xdata,ydata,xerror.T,yerror.T):\n",
    "        rect = Rectangle((xc-xe[0],yc-ye[0]),xe.sum(),ye.sum())\n",
    "        errorboxes.append(rect)\n",
    "\n",
    "    # Create patch collection with specified colour/alpha\n",
    "    pc = PatchCollection(errorboxes,facecolor=fc,alpha=alpha,edgecolor=ec,linewidth=lw)\n",
    "\n",
    "    # Add collection to axes\n",
    "    ax.add_collection(pc)    \n",
    "\n",
    "def detector_colors(di):\n",
    "    #colors_list = ['b','g','r','c','m','y'] # Python 3 old default\n",
    "    #colors_list = ['#b2182b','#d6604d','#f4a582','#92c5de','#4393c3','#2166ac'] # blue to red cold\n",
    "    #colors_list = ['#d73027','#f46d43','#fdae61','#abd9e9','#74add1','#4575b4'] # blue to red warm\n",
    "    #colors_list = ['#762a83','#9970ab','#c2a5cf','#a6dba0','#5aae61','#1b7837'] # purple to green\n",
    "    #colors_list = ['#40004b','#762a83','#9970ab','#5aae61','#1b7837','#00441b'] # purple to green darker\n",
    "    #colors_list = [\"#afa83a\",\"#7f63b8\",\"#56ae6c\",\"#b84c7d\",\"#ac863f\",\"#b94d3d\"] # iWantHue 1\n",
    "    #colors_list = ['#1b9e77','#d95f02','#7570b3','#e7298a','#66a61e','#e6ab02'] # qualitative dark 1\n",
    "    colors_list = ['#e41a1c','#377eb8','#4daf4a','#984ea3','#ff7f00','#a65628'] # qualitative dark 2\n",
    "    return colors_list[di]\n",
    "    \n",
    "data_version = 'v7'\n",
    "\n",
    "metadata_file = 'metadata_matrix_' + data_version + '.npy'\n",
    "mm_metadata = np.load(metadata_file) # data set, ion species, ion energy, target material, target thickness, secondary particle, detector, header meta data\n",
    "exists_file = 'exists_matrix_' + data_version + '.npy'\n",
    "mm_exists = np.load(exists_file) # data set, ion species, ion energy, target material, target thickness, secondary particle, detector\n",
    "\n",
    "#values_file = 'values_matrix_' + data_version + '.npy'\n",
    "#mm_values = np.load(values_file) # data set, ion species, ion energy, target material, target thickness, secondary particle, detector, column values, energy bins\n",
    "\n",
    "#print(mm_metadata[0,0,0,0,0,0,0,0])\n",
    "\n",
    "projectile_sym_str = ['H', 'He', 'C', 'Si', 'Fe']\n",
    "projectile_longnames_str = ['Hydrogen', 'Helium', 'Carbon', 'Silicon', 'Iron']\n",
    "\n",
    "mm_values_names_list = []\n",
    "for i in range(5):\n",
    "    mm_values_names_list.append('values_matrix_' + projectile_sym_str[i].lower() + \"_\" + data_version + '.npy')\n",
    "\n",
    "is_label = widgets.Label(value=\"Select projectile ion species.\")\n",
    "    \n",
    "ion_species = widgets.ToggleButtons(\n",
    "    options=projectile_sym_str,\n",
    "    description='Ion:',\n",
    "    disabled=False,\n",
    "    button_style='', # 'success', 'info', 'warning', 'danger' or ''\n",
    "    tooltips=projectile_longnames_str,\n",
    "#     icons=['check'] * 5\n",
    ")\n",
    "\n",
    "ion_species.observe(on_click, 'value')\n",
    "display(is_label,ion_species)\n"
   ]
  },
  {
   "cell_type": "code",
   "execution_count": 272,
   "metadata": {},
   "outputs": [
    {
     "data": {
      "application/vnd.jupyter.widget-view+json": {
       "model_id": "75d0c10260994b5c9b09037f34d05c40",
       "version_major": 2,
       "version_minor": 0
      },
      "text/html": [
       "<p>Failed to display Jupyter Widget of type <code>Label</code>.</p>\n",
       "<p>\n",
       "  If you're reading this message in the Jupyter Notebook or JupyterLab Notebook, it may mean\n",
       "  that the widgets JavaScript is still loading. If this message persists, it\n",
       "  likely means that the widgets JavaScript library is either not installed or\n",
       "  not enabled. See the <a href=\"https://ipywidgets.readthedocs.io/en/stable/user_install.html\">Jupyter\n",
       "  Widgets Documentation</a> for setup instructions.\n",
       "</p>\n",
       "<p>\n",
       "  If you're reading this message in another frontend (for example, a static\n",
       "  rendering on GitHub or <a href=\"https://nbviewer.jupyter.org/\">NBViewer</a>),\n",
       "  it may mean that your frontend doesn't currently support widgets.\n",
       "</p>\n"
      ],
      "text/plain": [
       "Label(value='Select projectile ion energy.')"
      ]
     },
     "metadata": {},
     "output_type": "display_data"
    },
    {
     "data": {
      "application/vnd.jupyter.widget-view+json": {
       "model_id": "2b6c9a7e3d954d6c94a2ce493118a3d9",
       "version_major": 2,
       "version_minor": 0
      },
      "text/html": [
       "<p>Failed to display Jupyter Widget of type <code>ToggleButtons</code>.</p>\n",
       "<p>\n",
       "  If you're reading this message in the Jupyter Notebook or JupyterLab Notebook, it may mean\n",
       "  that the widgets JavaScript is still loading. If this message persists, it\n",
       "  likely means that the widgets JavaScript library is either not installed or\n",
       "  not enabled. See the <a href=\"https://ipywidgets.readthedocs.io/en/stable/user_install.html\">Jupyter\n",
       "  Widgets Documentation</a> for setup instructions.\n",
       "</p>\n",
       "<p>\n",
       "  If you're reading this message in another frontend (for example, a static\n",
       "  rendering on GitHub or <a href=\"https://nbviewer.jupyter.org/\">NBViewer</a>),\n",
       "  it may mean that your frontend doesn't currently support widgets.\n",
       "</p>\n"
      ],
      "text/plain": [
       "ToggleButtons(description='Energy:', options=('400 MeV', '800 MeV', '2500 MeV'), tooltips=['lowest energy', 'middle energy', 'highest energy'], value='400 MeV')"
      ]
     },
     "metadata": {},
     "output_type": "display_data"
    }
   ],
   "source": [
    "isi = find(ion_species.value,projectile_sym_str)\n",
    "mm_values = np.load(mm_values_names_list[isi])\n",
    "\n",
    "def erg_options(isi):\n",
    "    if isi == 0:\n",
    "        proj_E = ['400 MeV','800 MeV','2500 MeV']\n",
    "    else:\n",
    "        proj_E = ['400 MeV/n','800 MeV/n','1500 MeV/n']\n",
    "    return proj_E\n",
    "\n",
    "Projectile_E_tooltips = ['lowest energy','middle energy', 'highest energy']\n",
    "\n",
    "ie_label = widgets.Label(value=\"Select projectile ion energy.\")\n",
    "\n",
    "ion_energy = widgets.ToggleButtons(\n",
    "    options=erg_options(isi),\n",
    "    description='Energy:',\n",
    "    disabled=False,\n",
    "    button_style='', # 'success', 'info', 'warning', 'danger' or ''\n",
    "    tooltips=Projectile_E_tooltips,\n",
    "#     icons=['check'] * 5\n",
    ")\n",
    "\n",
    "ion_energy.observe(on_click, 'value')\n",
    "display(ie_label, ion_energy)\n"
   ]
  },
  {
   "cell_type": "code",
   "execution_count": 273,
   "metadata": {},
   "outputs": [
    {
     "data": {
      "application/vnd.jupyter.widget-view+json": {
       "model_id": "b83ee4a9712b419ea8635acea4debc2f",
       "version_major": 2,
       "version_minor": 0
      },
      "text/html": [
       "<p>Failed to display Jupyter Widget of type <code>Label</code>.</p>\n",
       "<p>\n",
       "  If you're reading this message in the Jupyter Notebook or JupyterLab Notebook, it may mean\n",
       "  that the widgets JavaScript is still loading. If this message persists, it\n",
       "  likely means that the widgets JavaScript library is either not installed or\n",
       "  not enabled. See the <a href=\"https://ipywidgets.readthedocs.io/en/stable/user_install.html\">Jupyter\n",
       "  Widgets Documentation</a> for setup instructions.\n",
       "</p>\n",
       "<p>\n",
       "  If you're reading this message in another frontend (for example, a static\n",
       "  rendering on GitHub or <a href=\"https://nbviewer.jupyter.org/\">NBViewer</a>),\n",
       "  it may mean that your frontend doesn't currently support widgets.\n",
       "</p>\n"
      ],
      "text/plain": [
       "Label(value='Select upstream target material.')"
      ]
     },
     "metadata": {},
     "output_type": "display_data"
    },
    {
     "data": {
      "application/vnd.jupyter.widget-view+json": {
       "model_id": "ecbabcb0a1a54cf8b93c7cdb33238c18",
       "version_major": 2,
       "version_minor": 0
      },
      "text/html": [
       "<p>Failed to display Jupyter Widget of type <code>ToggleButtons</code>.</p>\n",
       "<p>\n",
       "  If you're reading this message in the Jupyter Notebook or JupyterLab Notebook, it may mean\n",
       "  that the widgets JavaScript is still loading. If this message persists, it\n",
       "  likely means that the widgets JavaScript library is either not installed or\n",
       "  not enabled. See the <a href=\"https://ipywidgets.readthedocs.io/en/stable/user_install.html\">Jupyter\n",
       "  Widgets Documentation</a> for setup instructions.\n",
       "</p>\n",
       "<p>\n",
       "  If you're reading this message in another frontend (for example, a static\n",
       "  rendering on GitHub or <a href=\"https://nbviewer.jupyter.org/\">NBViewer</a>),\n",
       "  it may mean that your frontend doesn't currently support widgets.\n",
       "</p>\n"
      ],
      "text/plain": [
       "ToggleButtons(description='Material:', options=('Al', 'HDPE', 'AlPE'), tooltips=['Aluminum', 'Polyethylene', 'Combination of Al and HDPE'], value='Al')"
      ]
     },
     "metadata": {},
     "output_type": "display_data"
    }
   ],
   "source": [
    "iei = find(ion_energy.value,erg_options(isi))\n",
    "\n",
    "target_mats_long = ['Aluminum','Polyethylene','Combination of Al and HDPE']\n",
    "target_mats_short = ['Al','HDPE','AlPE']\n",
    "\n",
    "tm_label = widgets.Label(value=\"Select upstream target material.\")\n",
    "\n",
    "target_material = widgets.ToggleButtons(\n",
    "    options=target_mats_short,\n",
    "    description='Material:',\n",
    "    disabled=False,\n",
    "    button_style='', # 'success', 'info', 'warning', 'danger' or ''\n",
    "    tooltips=target_mats_long,\n",
    "#     icons=['check'] * 3\n",
    ")\n",
    "\n",
    "target_material.observe(on_click, 'value')\n",
    "display(tm_label, target_material)"
   ]
  },
  {
   "cell_type": "code",
   "execution_count": 274,
   "metadata": {},
   "outputs": [
    {
     "data": {
      "application/vnd.jupyter.widget-view+json": {
       "model_id": "fd262ee758d54551b2f54508e963bf54",
       "version_major": 2,
       "version_minor": 0
      },
      "text/html": [
       "<p>Failed to display Jupyter Widget of type <code>Label</code>.</p>\n",
       "<p>\n",
       "  If you're reading this message in the Jupyter Notebook or JupyterLab Notebook, it may mean\n",
       "  that the widgets JavaScript is still loading. If this message persists, it\n",
       "  likely means that the widgets JavaScript library is either not installed or\n",
       "  not enabled. See the <a href=\"https://ipywidgets.readthedocs.io/en/stable/user_install.html\">Jupyter\n",
       "  Widgets Documentation</a> for setup instructions.\n",
       "</p>\n",
       "<p>\n",
       "  If you're reading this message in another frontend (for example, a static\n",
       "  rendering on GitHub or <a href=\"https://nbviewer.jupyter.org/\">NBViewer</a>),\n",
       "  it may mean that your frontend doesn't currently support widgets.\n",
       "</p>\n"
      ],
      "text/plain": [
       "Label(value='Select upstream target mass thickness.')"
      ]
     },
     "metadata": {},
     "output_type": "display_data"
    },
    {
     "data": {
      "application/vnd.jupyter.widget-view+json": {
       "model_id": "227fb4c83fea448596dd9c076251a0ea",
       "version_major": 2,
       "version_minor": 0
      },
      "text/html": [
       "<p>Failed to display Jupyter Widget of type <code>ToggleButtons</code>.</p>\n",
       "<p>\n",
       "  If you're reading this message in the Jupyter Notebook or JupyterLab Notebook, it may mean\n",
       "  that the widgets JavaScript is still loading. If this message persists, it\n",
       "  likely means that the widgets JavaScript library is either not installed or\n",
       "  not enabled. See the <a href=\"https://ipywidgets.readthedocs.io/en/stable/user_install.html\">Jupyter\n",
       "  Widgets Documentation</a> for setup instructions.\n",
       "</p>\n",
       "<p>\n",
       "  If you're reading this message in another frontend (for example, a static\n",
       "  rendering on GitHub or <a href=\"https://nbviewer.jupyter.org/\">NBViewer</a>),\n",
       "  it may mean that your frontend doesn't currently support widgets.\n",
       "</p>\n"
      ],
      "text/plain": [
       "ToggleButtons(description='Thickness:', options=('20 g/cm²', '40 g/cm²', '60 g/cm²'), tooltips=['20 g/cm²', '40 g/cm²', '60 g/cm²'], value='20 g/cm²')"
      ]
     },
     "metadata": {},
     "output_type": "display_data"
    }
   ],
   "source": [
    "ftmi = find(target_material.value,target_mats_short)\n",
    "thicknesses = ['20 g/cm\\u00B2','40 g/cm\\u00B2','60 g/cm\\u00B2']\n",
    "def thickness_options(ftmi):\n",
    "    if ftmi == 2:\n",
    "        thicknesses = ['20 g/cm\\u00B2','60 g/cm\\u00B2']\n",
    "    else:\n",
    "        thicknesses = ['20 g/cm\\u00B2','40 g/cm\\u00B2','60 g/cm\\u00B2']\n",
    "    return thicknesses\n",
    "\n",
    "tt_label = widgets.Label(value=\"Select upstream target mass thickness.\")\n",
    "\n",
    "target_thickness = widgets.ToggleButtons(\n",
    "    options=thickness_options(ftmi),\n",
    "    description='Thickness:',\n",
    "    disabled=False,\n",
    "    button_style='', # 'success', 'info', 'warning', 'danger' or ''\n",
    "    tooltips=thickness_options(ftmi),\n",
    "#     icons=['check'] * 3\n",
    ")\n",
    "\n",
    "target_thickness.observe(on_click, 'value')\n",
    "display(tt_label, target_thickness)"
   ]
  },
  {
   "cell_type": "code",
   "execution_count": 275,
   "metadata": {},
   "outputs": [
    {
     "data": {
      "application/vnd.jupyter.widget-view+json": {
       "model_id": "8306524ce65147f2a5df372d969665a6",
       "version_major": 2,
       "version_minor": 0
      },
      "text/html": [
       "<p>Failed to display Jupyter Widget of type <code>Label</code>.</p>\n",
       "<p>\n",
       "  If you're reading this message in the Jupyter Notebook or JupyterLab Notebook, it may mean\n",
       "  that the widgets JavaScript is still loading. If this message persists, it\n",
       "  likely means that the widgets JavaScript library is either not installed or\n",
       "  not enabled. See the <a href=\"https://ipywidgets.readthedocs.io/en/stable/user_install.html\">Jupyter\n",
       "  Widgets Documentation</a> for setup instructions.\n",
       "</p>\n",
       "<p>\n",
       "  If you're reading this message in another frontend (for example, a static\n",
       "  rendering on GitHub or <a href=\"https://nbviewer.jupyter.org/\">NBViewer</a>),\n",
       "  it may mean that your frontend doesn't currently support widgets.\n",
       "</p>\n"
      ],
      "text/plain": [
       "Label(value='Select a detector type.')"
      ]
     },
     "metadata": {},
     "output_type": "display_data"
    },
    {
     "data": {
      "application/vnd.jupyter.widget-view+json": {
       "model_id": "737ee1e6f42e46d1b15a3b0f5bfe76ee",
       "version_major": 2,
       "version_minor": 0
      },
      "text/html": [
       "<p>Failed to display Jupyter Widget of type <code>ToggleButtons</code>.</p>\n",
       "<p>\n",
       "  If you're reading this message in the Jupyter Notebook or JupyterLab Notebook, it may mean\n",
       "  that the widgets JavaScript is still loading. If this message persists, it\n",
       "  likely means that the widgets JavaScript library is either not installed or\n",
       "  not enabled. See the <a href=\"https://ipywidgets.readthedocs.io/en/stable/user_install.html\">Jupyter\n",
       "  Widgets Documentation</a> for setup instructions.\n",
       "</p>\n",
       "<p>\n",
       "  If you're reading this message in another frontend (for example, a static\n",
       "  rendering on GitHub or <a href=\"https://nbviewer.jupyter.org/\">NBViewer</a>),\n",
       "  it may mean that your frontend doesn't currently support widgets.\n",
       "</p>\n"
      ],
      "text/plain": [
       "ToggleButtons(description='Type:', options=('OLS', 'NaI'), tooltips=['Organic Liquid Scintillator', 'Sodium Iodide'], value='OLS')"
      ]
     },
     "metadata": {},
     "output_type": "display_data"
    }
   ],
   "source": [
    "ftti = find(target_thickness.value,thicknesses)\n",
    "\n",
    "detectors_short = ['OLS','NaI']\n",
    "detectors_long = ['Organic Liquid Scintillator','Sodium Iodide']\n",
    "\n",
    "dt_label = widgets.Label(value=\"Select a detector type.\")\n",
    "\n",
    "detector_type = widgets.ToggleButtons(\n",
    "    options=detectors_short,\n",
    "    description='Type:',\n",
    "    disabled=False,\n",
    "    button_style='', # 'success', 'info', 'warning', 'danger' or ''\n",
    "    tooltips=detectors_long,\n",
    "#     icons=['check'] * 3\n",
    ")\n",
    "\n",
    "detector_type.observe(on_click, 'value')\n",
    "display(dt_label,detector_type)"
   ]
  },
  {
   "cell_type": "code",
   "execution_count": 276,
   "metadata": {},
   "outputs": [
    {
     "data": {
      "application/vnd.jupyter.widget-view+json": {
       "model_id": "69e8eb42d5eb47cda9858a7eb393e96c",
       "version_major": 2,
       "version_minor": 0
      },
      "text/html": [
       "<p>Failed to display Jupyter Widget of type <code>Label</code>.</p>\n",
       "<p>\n",
       "  If you're reading this message in the Jupyter Notebook or JupyterLab Notebook, it may mean\n",
       "  that the widgets JavaScript is still loading. If this message persists, it\n",
       "  likely means that the widgets JavaScript library is either not installed or\n",
       "  not enabled. See the <a href=\"https://ipywidgets.readthedocs.io/en/stable/user_install.html\">Jupyter\n",
       "  Widgets Documentation</a> for setup instructions.\n",
       "</p>\n",
       "<p>\n",
       "  If you're reading this message in another frontend (for example, a static\n",
       "  rendering on GitHub or <a href=\"https://nbviewer.jupyter.org/\">NBViewer</a>),\n",
       "  it may mean that your frontend doesn't currently support widgets.\n",
       "</p>\n"
      ],
      "text/plain": [
       "Label(value='Select which secondary particle to plot spectra for.')"
      ]
     },
     "metadata": {},
     "output_type": "display_data"
    },
    {
     "data": {
      "application/vnd.jupyter.widget-view+json": {
       "model_id": "d709e148d92e40bf96fd8f29bee3dd04",
       "version_major": 2,
       "version_minor": 0
      },
      "text/html": [
       "<p>Failed to display Jupyter Widget of type <code>ToggleButtons</code>.</p>\n",
       "<p>\n",
       "  If you're reading this message in the Jupyter Notebook or JupyterLab Notebook, it may mean\n",
       "  that the widgets JavaScript is still loading. If this message persists, it\n",
       "  likely means that the widgets JavaScript library is either not installed or\n",
       "  not enabled. See the <a href=\"https://ipywidgets.readthedocs.io/en/stable/user_install.html\">Jupyter\n",
       "  Widgets Documentation</a> for setup instructions.\n",
       "</p>\n",
       "<p>\n",
       "  If you're reading this message in another frontend (for example, a static\n",
       "  rendering on GitHub or <a href=\"https://nbviewer.jupyter.org/\">NBViewer</a>),\n",
       "  it may mean that your frontend doesn't currently support widgets.\n",
       "</p>\n"
      ],
      "text/plain": [
       "ToggleButtons(description='Type:', options=('N', 'NDC', 'P (¹H)', 'D (²H)'), tooltips=['Neutron', 'Back Target Neutron', 'Proton', 'Deuteron'], value='N')"
      ]
     },
     "metadata": {},
     "output_type": "display_data"
    }
   ],
   "source": [
    "detti = find(detector_type.value,detectors_short)\n",
    "if detti==1: \n",
    "    add2deti = 6 # offset in matrix for NaI detectors\n",
    "else:\n",
    "    add2deti = 0 \n",
    "\n",
    "# See which secondary particles exist\n",
    "existing_pars_i = []\n",
    "for i in range(np.shape(mm_exists[0,isi,iei,ftmi,ftti,:,add2deti:(add2deti+6)])[0]):\n",
    "    if np.any(mm_exists[0,isi,iei,ftmi,ftti,i,add2deti:(add2deti+6)]):\n",
    "        existing_pars_i.append(i)\n",
    "        \n",
    "particles_long = ['Neutron','Back Target Neutron','Proton','Deuteron','Triton','Helium-3','Helium-4'] # second 'Neutron' can be renamed to specify deconvoluted origin\n",
    "particles_short = ['N','NDC','H','D','T','S','A']\n",
    "particles_med = ['N','NDC','P (\\u00B9H)','D (\\u00B2H)','T (\\u00B3H)','S (\\u00B3He)','A (\\u2074He)']\n",
    "\n",
    "present_pars_long = [particles_long[i] for i in existing_pars_i]\n",
    "present_pars_med = [particles_med[i] for i in existing_pars_i]\n",
    "\n",
    "sp_label = widgets.Label(value=\"Select which secondary particle to plot spectra for.\")\n",
    "\n",
    "secondary_particle = widgets.ToggleButtons(\n",
    "    options=present_pars_med,\n",
    "    description='Type:',\n",
    "    disabled=False,\n",
    "    button_style='', # 'success', 'info', 'warning', 'danger' or ''\n",
    "    tooltips=present_pars_long,\n",
    "#     icons=['check'] * 3\n",
    ")\n",
    "\n",
    "secondary_particle.observe(on_click, 'value')\n",
    "display(sp_label,secondary_particle)\n"
   ]
  },
  {
   "cell_type": "code",
   "execution_count": 277,
   "metadata": {},
   "outputs": [
    {
     "data": {
      "application/vnd.jupyter.widget-view+json": {
       "model_id": "5c825f30024b4704b02250bc19328d25",
       "version_major": 2,
       "version_minor": 0
      },
      "text/html": [
       "<p>Failed to display Jupyter Widget of type <code>Label</code>.</p>\n",
       "<p>\n",
       "  If you're reading this message in the Jupyter Notebook or JupyterLab Notebook, it may mean\n",
       "  that the widgets JavaScript is still loading. If this message persists, it\n",
       "  likely means that the widgets JavaScript library is either not installed or\n",
       "  not enabled. See the <a href=\"https://ipywidgets.readthedocs.io/en/stable/user_install.html\">Jupyter\n",
       "  Widgets Documentation</a> for setup instructions.\n",
       "</p>\n",
       "<p>\n",
       "  If you're reading this message in another frontend (for example, a static\n",
       "  rendering on GitHub or <a href=\"https://nbviewer.jupyter.org/\">NBViewer</a>),\n",
       "  it may mean that your frontend doesn't currently support widgets.\n",
       "</p>\n"
      ],
      "text/plain": [
       "Label(value='Select the detector angles to plot.')"
      ]
     },
     "metadata": {},
     "output_type": "display_data"
    },
    {
     "data": {
      "application/vnd.jupyter.widget-view+json": {
       "model_id": "ac8bfde900c049e1b0342f2bb0c262cc",
       "version_major": 2,
       "version_minor": 0
      },
      "text/html": [
       "<p>Failed to display Jupyter Widget of type <code>Checkbox</code>.</p>\n",
       "<p>\n",
       "  If you're reading this message in the Jupyter Notebook or JupyterLab Notebook, it may mean\n",
       "  that the widgets JavaScript is still loading. If this message persists, it\n",
       "  likely means that the widgets JavaScript library is either not installed or\n",
       "  not enabled. See the <a href=\"https://ipywidgets.readthedocs.io/en/stable/user_install.html\">Jupyter\n",
       "  Widgets Documentation</a> for setup instructions.\n",
       "</p>\n",
       "<p>\n",
       "  If you're reading this message in another frontend (for example, a static\n",
       "  rendering on GitHub or <a href=\"https://nbviewer.jupyter.org/\">NBViewer</a>),\n",
       "  it may mean that your frontend doesn't currently support widgets.\n",
       "</p>\n"
      ],
      "text/plain": [
       "Checkbox(value=True, description='10°')"
      ]
     },
     "metadata": {},
     "output_type": "display_data"
    },
    {
     "data": {
      "application/vnd.jupyter.widget-view+json": {
       "model_id": "c8b06e2c0e0140fe89743704f7027783",
       "version_major": 2,
       "version_minor": 0
      },
      "text/html": [
       "<p>Failed to display Jupyter Widget of type <code>Checkbox</code>.</p>\n",
       "<p>\n",
       "  If you're reading this message in the Jupyter Notebook or JupyterLab Notebook, it may mean\n",
       "  that the widgets JavaScript is still loading. If this message persists, it\n",
       "  likely means that the widgets JavaScript library is either not installed or\n",
       "  not enabled. See the <a href=\"https://ipywidgets.readthedocs.io/en/stable/user_install.html\">Jupyter\n",
       "  Widgets Documentation</a> for setup instructions.\n",
       "</p>\n",
       "<p>\n",
       "  If you're reading this message in another frontend (for example, a static\n",
       "  rendering on GitHub or <a href=\"https://nbviewer.jupyter.org/\">NBViewer</a>),\n",
       "  it may mean that your frontend doesn't currently support widgets.\n",
       "</p>\n"
      ],
      "text/plain": [
       "Checkbox(value=True, description='30°')"
      ]
     },
     "metadata": {},
     "output_type": "display_data"
    },
    {
     "data": {
      "application/vnd.jupyter.widget-view+json": {
       "model_id": "8f70f848eddf413aa0601bc323853613",
       "version_major": 2,
       "version_minor": 0
      },
      "text/html": [
       "<p>Failed to display Jupyter Widget of type <code>Checkbox</code>.</p>\n",
       "<p>\n",
       "  If you're reading this message in the Jupyter Notebook or JupyterLab Notebook, it may mean\n",
       "  that the widgets JavaScript is still loading. If this message persists, it\n",
       "  likely means that the widgets JavaScript library is either not installed or\n",
       "  not enabled. See the <a href=\"https://ipywidgets.readthedocs.io/en/stable/user_install.html\">Jupyter\n",
       "  Widgets Documentation</a> for setup instructions.\n",
       "</p>\n",
       "<p>\n",
       "  If you're reading this message in another frontend (for example, a static\n",
       "  rendering on GitHub or <a href=\"https://nbviewer.jupyter.org/\">NBViewer</a>),\n",
       "  it may mean that your frontend doesn't currently support widgets.\n",
       "</p>\n"
      ],
      "text/plain": [
       "Checkbox(value=True, description='45°')"
      ]
     },
     "metadata": {},
     "output_type": "display_data"
    },
    {
     "data": {
      "application/vnd.jupyter.widget-view+json": {
       "model_id": "9bf8762c18064cbeb00a50e42bad1382",
       "version_major": 2,
       "version_minor": 0
      },
      "text/html": [
       "<p>Failed to display Jupyter Widget of type <code>Checkbox</code>.</p>\n",
       "<p>\n",
       "  If you're reading this message in the Jupyter Notebook or JupyterLab Notebook, it may mean\n",
       "  that the widgets JavaScript is still loading. If this message persists, it\n",
       "  likely means that the widgets JavaScript library is either not installed or\n",
       "  not enabled. See the <a href=\"https://ipywidgets.readthedocs.io/en/stable/user_install.html\">Jupyter\n",
       "  Widgets Documentation</a> for setup instructions.\n",
       "</p>\n",
       "<p>\n",
       "  If you're reading this message in another frontend (for example, a static\n",
       "  rendering on GitHub or <a href=\"https://nbviewer.jupyter.org/\">NBViewer</a>),\n",
       "  it may mean that your frontend doesn't currently support widgets.\n",
       "</p>\n"
      ],
      "text/plain": [
       "Checkbox(value=True, description='60°')"
      ]
     },
     "metadata": {},
     "output_type": "display_data"
    },
    {
     "data": {
      "application/vnd.jupyter.widget-view+json": {
       "model_id": "9e74af4487c144139b501765082ff002",
       "version_major": 2,
       "version_minor": 0
      },
      "text/html": [
       "<p>Failed to display Jupyter Widget of type <code>Checkbox</code>.</p>\n",
       "<p>\n",
       "  If you're reading this message in the Jupyter Notebook or JupyterLab Notebook, it may mean\n",
       "  that the widgets JavaScript is still loading. If this message persists, it\n",
       "  likely means that the widgets JavaScript library is either not installed or\n",
       "  not enabled. See the <a href=\"https://ipywidgets.readthedocs.io/en/stable/user_install.html\">Jupyter\n",
       "  Widgets Documentation</a> for setup instructions.\n",
       "</p>\n",
       "<p>\n",
       "  If you're reading this message in another frontend (for example, a static\n",
       "  rendering on GitHub or <a href=\"https://nbviewer.jupyter.org/\">NBViewer</a>),\n",
       "  it may mean that your frontend doesn't currently support widgets.\n",
       "</p>\n"
      ],
      "text/plain": [
       "Checkbox(value=True, description='80°')"
      ]
     },
     "metadata": {},
     "output_type": "display_data"
    },
    {
     "data": {
      "application/vnd.jupyter.widget-view+json": {
       "model_id": "062a143c1eab44df9dac274db88da67e",
       "version_major": 2,
       "version_minor": 0
      },
      "text/html": [
       "<p>Failed to display Jupyter Widget of type <code>Checkbox</code>.</p>\n",
       "<p>\n",
       "  If you're reading this message in the Jupyter Notebook or JupyterLab Notebook, it may mean\n",
       "  that the widgets JavaScript is still loading. If this message persists, it\n",
       "  likely means that the widgets JavaScript library is either not installed or\n",
       "  not enabled. See the <a href=\"https://ipywidgets.readthedocs.io/en/stable/user_install.html\">Jupyter\n",
       "  Widgets Documentation</a> for setup instructions.\n",
       "</p>\n",
       "<p>\n",
       "  If you're reading this message in another frontend (for example, a static\n",
       "  rendering on GitHub or <a href=\"https://nbviewer.jupyter.org/\">NBViewer</a>),\n",
       "  it may mean that your frontend doesn't currently support widgets.\n",
       "</p>\n"
      ],
      "text/plain": [
       "Checkbox(value=True, description='135°')"
      ]
     },
     "metadata": {},
     "output_type": "display_data"
    }
   ],
   "source": [
    "spi = find(secondary_particle.value,particles_med)\n",
    "\n",
    "detectors_angles = [['10\\u00B0','30\\u00B0','45\\u00B0','60\\u00B0','80\\u00B0','135\\u00B0'], ['7.2\\u00B0','10\\u00B0','12.7\\u00B0','28.2\\u00B0','30\\u00B0','32.7\\u00B0']]\n",
    "available_det_angles = []\n",
    "\n",
    "da_label = widgets.Label(value=\"Select the detector angles to plot.\")\n",
    "\n",
    "dets = []\n",
    "for i in range(6):\n",
    "    if mm_exists[0,isi,iei,ftmi,ftti,spi,(add2deti+i)]:\n",
    "        available_det_angles.append(detectors_angles[detti][i])\n",
    "        dets.append(widgets.Checkbox(\n",
    "            value=True,\n",
    "            description=detectors_angles[detti][i],\n",
    "            disabled=False\n",
    "        ))\n",
    "\n",
    "display(da_label)\n",
    "for i in range(6):\n",
    "    if mm_exists[0,isi,iei,ftmi,ftti,spi,(add2deti+i)]:\n",
    "        display(dets[i])"
   ]
  },
  {
   "cell_type": "code",
   "execution_count": 278,
   "metadata": {},
   "outputs": [
    {
     "data": {
      "application/vnd.jupyter.widget-view+json": {
       "model_id": "4c03208244cc4c4c86d4ca138e9b5755",
       "version_major": 2,
       "version_minor": 0
      },
      "text/html": [
       "<p>Failed to display Jupyter Widget of type <code>Label</code>.</p>\n",
       "<p>\n",
       "  If you're reading this message in the Jupyter Notebook or JupyterLab Notebook, it may mean\n",
       "  that the widgets JavaScript is still loading. If this message persists, it\n",
       "  likely means that the widgets JavaScript library is either not installed or\n",
       "  not enabled. See the <a href=\"https://ipywidgets.readthedocs.io/en/stable/user_install.html\">Jupyter\n",
       "  Widgets Documentation</a> for setup instructions.\n",
       "</p>\n",
       "<p>\n",
       "  If you're reading this message in another frontend (for example, a static\n",
       "  rendering on GitHub or <a href=\"https://nbviewer.jupyter.org/\">NBViewer</a>),\n",
       "  it may mean that your frontend doesn't currently support widgets.\n",
       "</p>\n"
      ],
      "text/plain": [
       "Label(value='Select which sets of data to display.')"
      ]
     },
     "metadata": {},
     "output_type": "display_data"
    },
    {
     "data": {
      "application/vnd.jupyter.widget-view+json": {
       "model_id": "b84c812e30404c278f7056b962c7ab8d",
       "version_major": 2,
       "version_minor": 0
      },
      "text/html": [
       "<p>Failed to display Jupyter Widget of type <code>Checkbox</code>.</p>\n",
       "<p>\n",
       "  If you're reading this message in the Jupyter Notebook or JupyterLab Notebook, it may mean\n",
       "  that the widgets JavaScript is still loading. If this message persists, it\n",
       "  likely means that the widgets JavaScript library is either not installed or\n",
       "  not enabled. See the <a href=\"https://ipywidgets.readthedocs.io/en/stable/user_install.html\">Jupyter\n",
       "  Widgets Documentation</a> for setup instructions.\n",
       "</p>\n",
       "<p>\n",
       "  If you're reading this message in another frontend (for example, a static\n",
       "  rendering on GitHub or <a href=\"https://nbviewer.jupyter.org/\">NBViewer</a>),\n",
       "  it may mean that your frontend doesn't currently support widgets.\n",
       "</p>\n"
      ],
      "text/plain": [
       "Checkbox(value=True, description='Experiment')"
      ]
     },
     "metadata": {},
     "output_type": "display_data"
    },
    {
     "data": {
      "application/vnd.jupyter.widget-view+json": {
       "model_id": "5c9908ffb5194076b789cc731497352f",
       "version_major": 2,
       "version_minor": 0
      },
      "text/html": [
       "<p>Failed to display Jupyter Widget of type <code>Checkbox</code>.</p>\n",
       "<p>\n",
       "  If you're reading this message in the Jupyter Notebook or JupyterLab Notebook, it may mean\n",
       "  that the widgets JavaScript is still loading. If this message persists, it\n",
       "  likely means that the widgets JavaScript library is either not installed or\n",
       "  not enabled. See the <a href=\"https://ipywidgets.readthedocs.io/en/stable/user_install.html\">Jupyter\n",
       "  Widgets Documentation</a> for setup instructions.\n",
       "</p>\n",
       "<p>\n",
       "  If you're reading this message in another frontend (for example, a static\n",
       "  rendering on GitHub or <a href=\"https://nbviewer.jupyter.org/\">NBViewer</a>),\n",
       "  it may mean that your frontend doesn't currently support widgets.\n",
       "</p>\n"
      ],
      "text/plain": [
       "Checkbox(value=True, description='MCNP simulated')"
      ]
     },
     "metadata": {},
     "output_type": "display_data"
    },
    {
     "data": {
      "application/vnd.jupyter.widget-view+json": {
       "model_id": "f344e0410f7a411c8aca635b3166795a",
       "version_major": 2,
       "version_minor": 0
      },
      "text/html": [
       "<p>Failed to display Jupyter Widget of type <code>Checkbox</code>.</p>\n",
       "<p>\n",
       "  If you're reading this message in the Jupyter Notebook or JupyterLab Notebook, it may mean\n",
       "  that the widgets JavaScript is still loading. If this message persists, it\n",
       "  likely means that the widgets JavaScript library is either not installed or\n",
       "  not enabled. See the <a href=\"https://ipywidgets.readthedocs.io/en/stable/user_install.html\">Jupyter\n",
       "  Widgets Documentation</a> for setup instructions.\n",
       "</p>\n",
       "<p>\n",
       "  If you're reading this message in another frontend (for example, a static\n",
       "  rendering on GitHub or <a href=\"https://nbviewer.jupyter.org/\">NBViewer</a>),\n",
       "  it may mean that your frontend doesn't currently support widgets.\n",
       "</p>\n"
      ],
      "text/plain": [
       "Checkbox(value=True, description='PHITS simulated')"
      ]
     },
     "metadata": {},
     "output_type": "display_data"
    }
   ],
   "source": [
    "det_angle_i_list = []\n",
    "for i in range(len(available_det_angles)):\n",
    "    if dets[i].value:\n",
    "        if detti == 0:\n",
    "            det_angle_i_list.append(find(available_det_angles[i],detectors_angles[detti]))\n",
    "        else:\n",
    "            det_angle_i_list.append(find(available_det_angles[i],detectors_angles[detti])+6) # for NaI\n",
    "\n",
    "ds_label = widgets.Label(value='Select which sets of data to display.')            \n",
    "\n",
    "data_set_names = ['Experiment','MCNP simulated','PHITS simulated']\n",
    "data_sets = []\n",
    "for i in range(3):\n",
    "    data_sets.append(widgets.Checkbox(\n",
    "        value=True,\n",
    "        description=data_set_names[i],\n",
    "        disabled=False\n",
    "    ))\n",
    "\n",
    "display(ds_label)\n",
    "for i in range(3):\n",
    "    display(data_sets[i])\n",
    "\n"
   ]
  },
  {
   "cell_type": "code",
   "execution_count": 295,
   "metadata": {},
   "outputs": [
    {
     "data": {
      "application/vnd.jupyter.widget-view+json": {
       "model_id": "8f459654e2fc487182420fdb5c739c15",
       "version_major": 2,
       "version_minor": 0
      },
      "text/html": [
       "<p>Failed to display Jupyter Widget of type <code>Label</code>.</p>\n",
       "<p>\n",
       "  If you're reading this message in the Jupyter Notebook or JupyterLab Notebook, it may mean\n",
       "  that the widgets JavaScript is still loading. If this message persists, it\n",
       "  likely means that the widgets JavaScript library is either not installed or\n",
       "  not enabled. See the <a href=\"https://ipywidgets.readthedocs.io/en/stable/user_install.html\">Jupyter\n",
       "  Widgets Documentation</a> for setup instructions.\n",
       "</p>\n",
       "<p>\n",
       "  If you're reading this message in another frontend (for example, a static\n",
       "  rendering on GitHub or <a href=\"https://nbviewer.jupyter.org/\">NBViewer</a>),\n",
       "  it may mean that your frontend doesn't currently support widgets.\n",
       "</p>\n"
      ],
      "text/plain": [
       "Label(value='Select how data sets for each detector should be spaced apart (if at all).')"
      ]
     },
     "metadata": {},
     "output_type": "display_data"
    },
    {
     "data": {
      "application/vnd.jupyter.widget-view+json": {
       "model_id": "2fbf611ba8b64d9fbd57598cde353ad1",
       "version_major": 2,
       "version_minor": 0
      },
      "text/html": [
       "<p>Failed to display Jupyter Widget of type <code>ToggleButtons</code>.</p>\n",
       "<p>\n",
       "  If you're reading this message in the Jupyter Notebook or JupyterLab Notebook, it may mean\n",
       "  that the widgets JavaScript is still loading. If this message persists, it\n",
       "  likely means that the widgets JavaScript library is either not installed or\n",
       "  not enabled. See the <a href=\"https://ipywidgets.readthedocs.io/en/stable/user_install.html\">Jupyter\n",
       "  Widgets Documentation</a> for setup instructions.\n",
       "</p>\n",
       "<p>\n",
       "  If you're reading this message in another frontend (for example, a static\n",
       "  rendering on GitHub or <a href=\"https://nbviewer.jupyter.org/\">NBViewer</a>),\n",
       "  it may mean that your frontend doesn't currently support widgets.\n",
       "</p>\n"
      ],
      "text/plain": [
       "ToggleButtons(description='Spacing:', options=('None', 'Spaced by 10²'), tooltips=['All values are presented as is.', 'Plots for different detectors are multiplied by powers of 10² for easier viewing.'], value='None')"
      ]
     },
     "metadata": {},
     "output_type": "display_data"
    },
    {
     "data": {
      "application/javascript": [
       "IPython.notebook.execute_cell_range(IPython.notebook.get_selected_index()+1, IPython.notebook.ncells())"
      ],
      "text/plain": [
       "<IPython.core.display.Javascript object>"
      ]
     },
     "metadata": {},
     "output_type": "display_data"
    },
    {
     "data": {
      "application/javascript": [
       "IPython.notebook.execute_cell_range(IPython.notebook.get_selected_index()+1, IPython.notebook.ncells())"
      ],
      "text/plain": [
       "<IPython.core.display.Javascript object>"
      ]
     },
     "metadata": {},
     "output_type": "display_data"
    },
    {
     "data": {
      "application/javascript": [
       "IPython.notebook.execute_cell_range(IPython.notebook.get_selected_index()+1, IPython.notebook.ncells())"
      ],
      "text/plain": [
       "<IPython.core.display.Javascript object>"
      ]
     },
     "metadata": {},
     "output_type": "display_data"
    },
    {
     "data": {
      "application/javascript": [
       "IPython.notebook.execute_cell_range(IPython.notebook.get_selected_index()+1, IPython.notebook.ncells())"
      ],
      "text/plain": [
       "<IPython.core.display.Javascript object>"
      ]
     },
     "metadata": {},
     "output_type": "display_data"
    },
    {
     "data": {
      "application/javascript": [
       "IPython.notebook.execute_cell_range(IPython.notebook.get_selected_index()+1, IPython.notebook.ncells())"
      ],
      "text/plain": [
       "<IPython.core.display.Javascript object>"
      ]
     },
     "metadata": {},
     "output_type": "display_data"
    }
   ],
   "source": [
    "data_set_i_list = []\n",
    "for i in range(3):\n",
    "    if data_sets[i].value:\n",
    "        data_set_i_list.append(i)\n",
    "\n",
    "spacing_short = ['None','Spaced by 10\\u00B2']\n",
    "spacing_long = ['All values are presented as is.','Plots for different detectors are multiplied by powers of 10\\u00B2 for easier viewing.']\n",
    "\n",
    "spacing_label = widgets.Label(value='Select how data sets for each detector should be spaced apart (if at all).')  \n",
    "\n",
    "spacing_choice = widgets.ToggleButtons(\n",
    "    options=spacing_short,\n",
    "    description='Spacing:',\n",
    "    disabled=False,\n",
    "    button_style='', # 'success', 'info', 'warning', 'danger' or ''\n",
    "    tooltips=spacing_long,\n",
    "#     icons=['check'] * 3\n",
    ")\n",
    "\n",
    "spacing_choice.observe(on_click, 'value')\n",
    "display(spacing_label, spacing_choice)"
   ]
  },
  {
   "cell_type": "code",
   "execution_count": 296,
   "metadata": {},
   "outputs": [
    {
     "name": "stdout",
     "output_type": "stream",
     "text": [
      "None\n"
     ]
    },
    {
     "data": {
      "application/javascript": [
       "/* Put everything inside the global mpl namespace */\n",
       "window.mpl = {};\n",
       "\n",
       "\n",
       "mpl.get_websocket_type = function() {\n",
       "    if (typeof(WebSocket) !== 'undefined') {\n",
       "        return WebSocket;\n",
       "    } else if (typeof(MozWebSocket) !== 'undefined') {\n",
       "        return MozWebSocket;\n",
       "    } else {\n",
       "        alert('Your browser does not have WebSocket support.' +\n",
       "              'Please try Chrome, Safari or Firefox ≥ 6. ' +\n",
       "              'Firefox 4 and 5 are also supported but you ' +\n",
       "              'have to enable WebSockets in about:config.');\n",
       "    };\n",
       "}\n",
       "\n",
       "mpl.figure = function(figure_id, websocket, ondownload, parent_element) {\n",
       "    this.id = figure_id;\n",
       "\n",
       "    this.ws = websocket;\n",
       "\n",
       "    this.supports_binary = (this.ws.binaryType != undefined);\n",
       "\n",
       "    if (!this.supports_binary) {\n",
       "        var warnings = document.getElementById(\"mpl-warnings\");\n",
       "        if (warnings) {\n",
       "            warnings.style.display = 'block';\n",
       "            warnings.textContent = (\n",
       "                \"This browser does not support binary websocket messages. \" +\n",
       "                    \"Performance may be slow.\");\n",
       "        }\n",
       "    }\n",
       "\n",
       "    this.imageObj = new Image();\n",
       "\n",
       "    this.context = undefined;\n",
       "    this.message = undefined;\n",
       "    this.canvas = undefined;\n",
       "    this.rubberband_canvas = undefined;\n",
       "    this.rubberband_context = undefined;\n",
       "    this.format_dropdown = undefined;\n",
       "\n",
       "    this.image_mode = 'full';\n",
       "\n",
       "    this.root = $('<div/>');\n",
       "    this._root_extra_style(this.root)\n",
       "    this.root.attr('style', 'display: inline-block');\n",
       "\n",
       "    $(parent_element).append(this.root);\n",
       "\n",
       "    this._init_header(this);\n",
       "    this._init_canvas(this);\n",
       "    this._init_toolbar(this);\n",
       "\n",
       "    var fig = this;\n",
       "\n",
       "    this.waiting = false;\n",
       "\n",
       "    this.ws.onopen =  function () {\n",
       "            fig.send_message(\"supports_binary\", {value: fig.supports_binary});\n",
       "            fig.send_message(\"send_image_mode\", {});\n",
       "            if (mpl.ratio != 1) {\n",
       "                fig.send_message(\"set_dpi_ratio\", {'dpi_ratio': mpl.ratio});\n",
       "            }\n",
       "            fig.send_message(\"refresh\", {});\n",
       "        }\n",
       "\n",
       "    this.imageObj.onload = function() {\n",
       "            if (fig.image_mode == 'full') {\n",
       "                // Full images could contain transparency (where diff images\n",
       "                // almost always do), so we need to clear the canvas so that\n",
       "                // there is no ghosting.\n",
       "                fig.context.clearRect(0, 0, fig.canvas.width, fig.canvas.height);\n",
       "            }\n",
       "            fig.context.drawImage(fig.imageObj, 0, 0);\n",
       "        };\n",
       "\n",
       "    this.imageObj.onunload = function() {\n",
       "        fig.ws.close();\n",
       "    }\n",
       "\n",
       "    this.ws.onmessage = this._make_on_message_function(this);\n",
       "\n",
       "    this.ondownload = ondownload;\n",
       "}\n",
       "\n",
       "mpl.figure.prototype._init_header = function() {\n",
       "    var titlebar = $(\n",
       "        '<div class=\"ui-dialog-titlebar ui-widget-header ui-corner-all ' +\n",
       "        'ui-helper-clearfix\"/>');\n",
       "    var titletext = $(\n",
       "        '<div class=\"ui-dialog-title\" style=\"width: 100%; ' +\n",
       "        'text-align: center; padding: 3px;\"/>');\n",
       "    titlebar.append(titletext)\n",
       "    this.root.append(titlebar);\n",
       "    this.header = titletext[0];\n",
       "}\n",
       "\n",
       "\n",
       "\n",
       "mpl.figure.prototype._canvas_extra_style = function(canvas_div) {\n",
       "\n",
       "}\n",
       "\n",
       "\n",
       "mpl.figure.prototype._root_extra_style = function(canvas_div) {\n",
       "\n",
       "}\n",
       "\n",
       "mpl.figure.prototype._init_canvas = function() {\n",
       "    var fig = this;\n",
       "\n",
       "    var canvas_div = $('<div/>');\n",
       "\n",
       "    canvas_div.attr('style', 'position: relative; clear: both; outline: 0');\n",
       "\n",
       "    function canvas_keyboard_event(event) {\n",
       "        return fig.key_event(event, event['data']);\n",
       "    }\n",
       "\n",
       "    canvas_div.keydown('key_press', canvas_keyboard_event);\n",
       "    canvas_div.keyup('key_release', canvas_keyboard_event);\n",
       "    this.canvas_div = canvas_div\n",
       "    this._canvas_extra_style(canvas_div)\n",
       "    this.root.append(canvas_div);\n",
       "\n",
       "    var canvas = $('<canvas/>');\n",
       "    canvas.addClass('mpl-canvas');\n",
       "    canvas.attr('style', \"left: 0; top: 0; z-index: 0; outline: 0\")\n",
       "\n",
       "    this.canvas = canvas[0];\n",
       "    this.context = canvas[0].getContext(\"2d\");\n",
       "\n",
       "    var backingStore = this.context.backingStorePixelRatio ||\n",
       "\tthis.context.webkitBackingStorePixelRatio ||\n",
       "\tthis.context.mozBackingStorePixelRatio ||\n",
       "\tthis.context.msBackingStorePixelRatio ||\n",
       "\tthis.context.oBackingStorePixelRatio ||\n",
       "\tthis.context.backingStorePixelRatio || 1;\n",
       "\n",
       "    mpl.ratio = (window.devicePixelRatio || 1) / backingStore;\n",
       "\n",
       "    var rubberband = $('<canvas/>');\n",
       "    rubberband.attr('style', \"position: absolute; left: 0; top: 0; z-index: 1;\")\n",
       "\n",
       "    var pass_mouse_events = true;\n",
       "\n",
       "    canvas_div.resizable({\n",
       "        start: function(event, ui) {\n",
       "            pass_mouse_events = false;\n",
       "        },\n",
       "        resize: function(event, ui) {\n",
       "            fig.request_resize(ui.size.width, ui.size.height);\n",
       "        },\n",
       "        stop: function(event, ui) {\n",
       "            pass_mouse_events = true;\n",
       "            fig.request_resize(ui.size.width, ui.size.height);\n",
       "        },\n",
       "    });\n",
       "\n",
       "    function mouse_event_fn(event) {\n",
       "        if (pass_mouse_events)\n",
       "            return fig.mouse_event(event, event['data']);\n",
       "    }\n",
       "\n",
       "    rubberband.mousedown('button_press', mouse_event_fn);\n",
       "    rubberband.mouseup('button_release', mouse_event_fn);\n",
       "    // Throttle sequential mouse events to 1 every 20ms.\n",
       "    rubberband.mousemove('motion_notify', mouse_event_fn);\n",
       "\n",
       "    rubberband.mouseenter('figure_enter', mouse_event_fn);\n",
       "    rubberband.mouseleave('figure_leave', mouse_event_fn);\n",
       "\n",
       "    canvas_div.on(\"wheel\", function (event) {\n",
       "        event = event.originalEvent;\n",
       "        event['data'] = 'scroll'\n",
       "        if (event.deltaY < 0) {\n",
       "            event.step = 1;\n",
       "        } else {\n",
       "            event.step = -1;\n",
       "        }\n",
       "        mouse_event_fn(event);\n",
       "    });\n",
       "\n",
       "    canvas_div.append(canvas);\n",
       "    canvas_div.append(rubberband);\n",
       "\n",
       "    this.rubberband = rubberband;\n",
       "    this.rubberband_canvas = rubberband[0];\n",
       "    this.rubberband_context = rubberband[0].getContext(\"2d\");\n",
       "    this.rubberband_context.strokeStyle = \"#000000\";\n",
       "\n",
       "    this._resize_canvas = function(width, height) {\n",
       "        // Keep the size of the canvas, canvas container, and rubber band\n",
       "        // canvas in synch.\n",
       "        canvas_div.css('width', width)\n",
       "        canvas_div.css('height', height)\n",
       "\n",
       "        canvas.attr('width', width * mpl.ratio);\n",
       "        canvas.attr('height', height * mpl.ratio);\n",
       "        canvas.attr('style', 'width: ' + width + 'px; height: ' + height + 'px;');\n",
       "\n",
       "        rubberband.attr('width', width);\n",
       "        rubberband.attr('height', height);\n",
       "    }\n",
       "\n",
       "    // Set the figure to an initial 600x600px, this will subsequently be updated\n",
       "    // upon first draw.\n",
       "    this._resize_canvas(600, 600);\n",
       "\n",
       "    // Disable right mouse context menu.\n",
       "    $(this.rubberband_canvas).bind(\"contextmenu\",function(e){\n",
       "        return false;\n",
       "    });\n",
       "\n",
       "    function set_focus () {\n",
       "        canvas.focus();\n",
       "        canvas_div.focus();\n",
       "    }\n",
       "\n",
       "    window.setTimeout(set_focus, 100);\n",
       "}\n",
       "\n",
       "mpl.figure.prototype._init_toolbar = function() {\n",
       "    var fig = this;\n",
       "\n",
       "    var nav_element = $('<div/>')\n",
       "    nav_element.attr('style', 'width: 100%');\n",
       "    this.root.append(nav_element);\n",
       "\n",
       "    // Define a callback function for later on.\n",
       "    function toolbar_event(event) {\n",
       "        return fig.toolbar_button_onclick(event['data']);\n",
       "    }\n",
       "    function toolbar_mouse_event(event) {\n",
       "        return fig.toolbar_button_onmouseover(event['data']);\n",
       "    }\n",
       "\n",
       "    for(var toolbar_ind in mpl.toolbar_items) {\n",
       "        var name = mpl.toolbar_items[toolbar_ind][0];\n",
       "        var tooltip = mpl.toolbar_items[toolbar_ind][1];\n",
       "        var image = mpl.toolbar_items[toolbar_ind][2];\n",
       "        var method_name = mpl.toolbar_items[toolbar_ind][3];\n",
       "\n",
       "        if (!name) {\n",
       "            // put a spacer in here.\n",
       "            continue;\n",
       "        }\n",
       "        var button = $('<button/>');\n",
       "        button.addClass('ui-button ui-widget ui-state-default ui-corner-all ' +\n",
       "                        'ui-button-icon-only');\n",
       "        button.attr('role', 'button');\n",
       "        button.attr('aria-disabled', 'false');\n",
       "        button.click(method_name, toolbar_event);\n",
       "        button.mouseover(tooltip, toolbar_mouse_event);\n",
       "\n",
       "        var icon_img = $('<span/>');\n",
       "        icon_img.addClass('ui-button-icon-primary ui-icon');\n",
       "        icon_img.addClass(image);\n",
       "        icon_img.addClass('ui-corner-all');\n",
       "\n",
       "        var tooltip_span = $('<span/>');\n",
       "        tooltip_span.addClass('ui-button-text');\n",
       "        tooltip_span.html(tooltip);\n",
       "\n",
       "        button.append(icon_img);\n",
       "        button.append(tooltip_span);\n",
       "\n",
       "        nav_element.append(button);\n",
       "    }\n",
       "\n",
       "    var fmt_picker_span = $('<span/>');\n",
       "\n",
       "    var fmt_picker = $('<select/>');\n",
       "    fmt_picker.addClass('mpl-toolbar-option ui-widget ui-widget-content');\n",
       "    fmt_picker_span.append(fmt_picker);\n",
       "    nav_element.append(fmt_picker_span);\n",
       "    this.format_dropdown = fmt_picker[0];\n",
       "\n",
       "    for (var ind in mpl.extensions) {\n",
       "        var fmt = mpl.extensions[ind];\n",
       "        var option = $(\n",
       "            '<option/>', {selected: fmt === mpl.default_extension}).html(fmt);\n",
       "        fmt_picker.append(option)\n",
       "    }\n",
       "\n",
       "    // Add hover states to the ui-buttons\n",
       "    $( \".ui-button\" ).hover(\n",
       "        function() { $(this).addClass(\"ui-state-hover\");},\n",
       "        function() { $(this).removeClass(\"ui-state-hover\");}\n",
       "    );\n",
       "\n",
       "    var status_bar = $('<span class=\"mpl-message\"/>');\n",
       "    nav_element.append(status_bar);\n",
       "    this.message = status_bar[0];\n",
       "}\n",
       "\n",
       "mpl.figure.prototype.request_resize = function(x_pixels, y_pixels) {\n",
       "    // Request matplotlib to resize the figure. Matplotlib will then trigger a resize in the client,\n",
       "    // which will in turn request a refresh of the image.\n",
       "    this.send_message('resize', {'width': x_pixels, 'height': y_pixels});\n",
       "}\n",
       "\n",
       "mpl.figure.prototype.send_message = function(type, properties) {\n",
       "    properties['type'] = type;\n",
       "    properties['figure_id'] = this.id;\n",
       "    this.ws.send(JSON.stringify(properties));\n",
       "}\n",
       "\n",
       "mpl.figure.prototype.send_draw_message = function() {\n",
       "    if (!this.waiting) {\n",
       "        this.waiting = true;\n",
       "        this.ws.send(JSON.stringify({type: \"draw\", figure_id: this.id}));\n",
       "    }\n",
       "}\n",
       "\n",
       "\n",
       "mpl.figure.prototype.handle_save = function(fig, msg) {\n",
       "    var format_dropdown = fig.format_dropdown;\n",
       "    var format = format_dropdown.options[format_dropdown.selectedIndex].value;\n",
       "    fig.ondownload(fig, format);\n",
       "}\n",
       "\n",
       "\n",
       "mpl.figure.prototype.handle_resize = function(fig, msg) {\n",
       "    var size = msg['size'];\n",
       "    if (size[0] != fig.canvas.width || size[1] != fig.canvas.height) {\n",
       "        fig._resize_canvas(size[0], size[1]);\n",
       "        fig.send_message(\"refresh\", {});\n",
       "    };\n",
       "}\n",
       "\n",
       "mpl.figure.prototype.handle_rubberband = function(fig, msg) {\n",
       "    var x0 = msg['x0'] / mpl.ratio;\n",
       "    var y0 = (fig.canvas.height - msg['y0']) / mpl.ratio;\n",
       "    var x1 = msg['x1'] / mpl.ratio;\n",
       "    var y1 = (fig.canvas.height - msg['y1']) / mpl.ratio;\n",
       "    x0 = Math.floor(x0) + 0.5;\n",
       "    y0 = Math.floor(y0) + 0.5;\n",
       "    x1 = Math.floor(x1) + 0.5;\n",
       "    y1 = Math.floor(y1) + 0.5;\n",
       "    var min_x = Math.min(x0, x1);\n",
       "    var min_y = Math.min(y0, y1);\n",
       "    var width = Math.abs(x1 - x0);\n",
       "    var height = Math.abs(y1 - y0);\n",
       "\n",
       "    fig.rubberband_context.clearRect(\n",
       "        0, 0, fig.canvas.width, fig.canvas.height);\n",
       "\n",
       "    fig.rubberband_context.strokeRect(min_x, min_y, width, height);\n",
       "}\n",
       "\n",
       "mpl.figure.prototype.handle_figure_label = function(fig, msg) {\n",
       "    // Updates the figure title.\n",
       "    fig.header.textContent = msg['label'];\n",
       "}\n",
       "\n",
       "mpl.figure.prototype.handle_cursor = function(fig, msg) {\n",
       "    var cursor = msg['cursor'];\n",
       "    switch(cursor)\n",
       "    {\n",
       "    case 0:\n",
       "        cursor = 'pointer';\n",
       "        break;\n",
       "    case 1:\n",
       "        cursor = 'default';\n",
       "        break;\n",
       "    case 2:\n",
       "        cursor = 'crosshair';\n",
       "        break;\n",
       "    case 3:\n",
       "        cursor = 'move';\n",
       "        break;\n",
       "    }\n",
       "    fig.rubberband_canvas.style.cursor = cursor;\n",
       "}\n",
       "\n",
       "mpl.figure.prototype.handle_message = function(fig, msg) {\n",
       "    fig.message.textContent = msg['message'];\n",
       "}\n",
       "\n",
       "mpl.figure.prototype.handle_draw = function(fig, msg) {\n",
       "    // Request the server to send over a new figure.\n",
       "    fig.send_draw_message();\n",
       "}\n",
       "\n",
       "mpl.figure.prototype.handle_image_mode = function(fig, msg) {\n",
       "    fig.image_mode = msg['mode'];\n",
       "}\n",
       "\n",
       "mpl.figure.prototype.updated_canvas_event = function() {\n",
       "    // Called whenever the canvas gets updated.\n",
       "    this.send_message(\"ack\", {});\n",
       "}\n",
       "\n",
       "// A function to construct a web socket function for onmessage handling.\n",
       "// Called in the figure constructor.\n",
       "mpl.figure.prototype._make_on_message_function = function(fig) {\n",
       "    return function socket_on_message(evt) {\n",
       "        if (evt.data instanceof Blob) {\n",
       "            /* FIXME: We get \"Resource interpreted as Image but\n",
       "             * transferred with MIME type text/plain:\" errors on\n",
       "             * Chrome.  But how to set the MIME type?  It doesn't seem\n",
       "             * to be part of the websocket stream */\n",
       "            evt.data.type = \"image/png\";\n",
       "\n",
       "            /* Free the memory for the previous frames */\n",
       "            if (fig.imageObj.src) {\n",
       "                (window.URL || window.webkitURL).revokeObjectURL(\n",
       "                    fig.imageObj.src);\n",
       "            }\n",
       "\n",
       "            fig.imageObj.src = (window.URL || window.webkitURL).createObjectURL(\n",
       "                evt.data);\n",
       "            fig.updated_canvas_event();\n",
       "            fig.waiting = false;\n",
       "            return;\n",
       "        }\n",
       "        else if (typeof evt.data === 'string' && evt.data.slice(0, 21) == \"data:image/png;base64\") {\n",
       "            fig.imageObj.src = evt.data;\n",
       "            fig.updated_canvas_event();\n",
       "            fig.waiting = false;\n",
       "            return;\n",
       "        }\n",
       "\n",
       "        var msg = JSON.parse(evt.data);\n",
       "        var msg_type = msg['type'];\n",
       "\n",
       "        // Call the  \"handle_{type}\" callback, which takes\n",
       "        // the figure and JSON message as its only arguments.\n",
       "        try {\n",
       "            var callback = fig[\"handle_\" + msg_type];\n",
       "        } catch (e) {\n",
       "            console.log(\"No handler for the '\" + msg_type + \"' message type: \", msg);\n",
       "            return;\n",
       "        }\n",
       "\n",
       "        if (callback) {\n",
       "            try {\n",
       "                // console.log(\"Handling '\" + msg_type + \"' message: \", msg);\n",
       "                callback(fig, msg);\n",
       "            } catch (e) {\n",
       "                console.log(\"Exception inside the 'handler_\" + msg_type + \"' callback:\", e, e.stack, msg);\n",
       "            }\n",
       "        }\n",
       "    };\n",
       "}\n",
       "\n",
       "// from http://stackoverflow.com/questions/1114465/getting-mouse-location-in-canvas\n",
       "mpl.findpos = function(e) {\n",
       "    //this section is from http://www.quirksmode.org/js/events_properties.html\n",
       "    var targ;\n",
       "    if (!e)\n",
       "        e = window.event;\n",
       "    if (e.target)\n",
       "        targ = e.target;\n",
       "    else if (e.srcElement)\n",
       "        targ = e.srcElement;\n",
       "    if (targ.nodeType == 3) // defeat Safari bug\n",
       "        targ = targ.parentNode;\n",
       "\n",
       "    // jQuery normalizes the pageX and pageY\n",
       "    // pageX,Y are the mouse positions relative to the document\n",
       "    // offset() returns the position of the element relative to the document\n",
       "    var x = e.pageX - $(targ).offset().left;\n",
       "    var y = e.pageY - $(targ).offset().top;\n",
       "\n",
       "    return {\"x\": x, \"y\": y};\n",
       "};\n",
       "\n",
       "/*\n",
       " * return a copy of an object with only non-object keys\n",
       " * we need this to avoid circular references\n",
       " * http://stackoverflow.com/a/24161582/3208463\n",
       " */\n",
       "function simpleKeys (original) {\n",
       "  return Object.keys(original).reduce(function (obj, key) {\n",
       "    if (typeof original[key] !== 'object')\n",
       "        obj[key] = original[key]\n",
       "    return obj;\n",
       "  }, {});\n",
       "}\n",
       "\n",
       "mpl.figure.prototype.mouse_event = function(event, name) {\n",
       "    var canvas_pos = mpl.findpos(event)\n",
       "\n",
       "    if (name === 'button_press')\n",
       "    {\n",
       "        this.canvas.focus();\n",
       "        this.canvas_div.focus();\n",
       "    }\n",
       "\n",
       "    var x = canvas_pos.x * mpl.ratio;\n",
       "    var y = canvas_pos.y * mpl.ratio;\n",
       "\n",
       "    this.send_message(name, {x: x, y: y, button: event.button,\n",
       "                             step: event.step,\n",
       "                             guiEvent: simpleKeys(event)});\n",
       "\n",
       "    /* This prevents the web browser from automatically changing to\n",
       "     * the text insertion cursor when the button is pressed.  We want\n",
       "     * to control all of the cursor setting manually through the\n",
       "     * 'cursor' event from matplotlib */\n",
       "    event.preventDefault();\n",
       "    return false;\n",
       "}\n",
       "\n",
       "mpl.figure.prototype._key_event_extra = function(event, name) {\n",
       "    // Handle any extra behaviour associated with a key event\n",
       "}\n",
       "\n",
       "mpl.figure.prototype.key_event = function(event, name) {\n",
       "\n",
       "    // Prevent repeat events\n",
       "    if (name == 'key_press')\n",
       "    {\n",
       "        if (event.which === this._key)\n",
       "            return;\n",
       "        else\n",
       "            this._key = event.which;\n",
       "    }\n",
       "    if (name == 'key_release')\n",
       "        this._key = null;\n",
       "\n",
       "    var value = '';\n",
       "    if (event.ctrlKey && event.which != 17)\n",
       "        value += \"ctrl+\";\n",
       "    if (event.altKey && event.which != 18)\n",
       "        value += \"alt+\";\n",
       "    if (event.shiftKey && event.which != 16)\n",
       "        value += \"shift+\";\n",
       "\n",
       "    value += 'k';\n",
       "    value += event.which.toString();\n",
       "\n",
       "    this._key_event_extra(event, name);\n",
       "\n",
       "    this.send_message(name, {key: value,\n",
       "                             guiEvent: simpleKeys(event)});\n",
       "    return false;\n",
       "}\n",
       "\n",
       "mpl.figure.prototype.toolbar_button_onclick = function(name) {\n",
       "    if (name == 'download') {\n",
       "        this.handle_save(this, null);\n",
       "    } else {\n",
       "        this.send_message(\"toolbar_button\", {name: name});\n",
       "    }\n",
       "};\n",
       "\n",
       "mpl.figure.prototype.toolbar_button_onmouseover = function(tooltip) {\n",
       "    this.message.textContent = tooltip;\n",
       "};\n",
       "mpl.toolbar_items = [[\"Home\", \"Reset original view\", \"fa fa-home icon-home\", \"home\"], [\"Back\", \"Back to  previous view\", \"fa fa-arrow-left icon-arrow-left\", \"back\"], [\"Forward\", \"Forward to next view\", \"fa fa-arrow-right icon-arrow-right\", \"forward\"], [\"\", \"\", \"\", \"\"], [\"Pan\", \"Pan axes with left mouse, zoom with right\", \"fa fa-arrows icon-move\", \"pan\"], [\"Zoom\", \"Zoom to rectangle\", \"fa fa-square-o icon-check-empty\", \"zoom\"], [\"\", \"\", \"\", \"\"], [\"Download\", \"Download plot\", \"fa fa-floppy-o icon-save\", \"download\"]];\n",
       "\n",
       "mpl.extensions = [\"eps\", \"jpeg\", \"pdf\", \"png\", \"ps\", \"raw\", \"svg\", \"tif\"];\n",
       "\n",
       "mpl.default_extension = \"png\";var comm_websocket_adapter = function(comm) {\n",
       "    // Create a \"websocket\"-like object which calls the given IPython comm\n",
       "    // object with the appropriate methods. Currently this is a non binary\n",
       "    // socket, so there is still some room for performance tuning.\n",
       "    var ws = {};\n",
       "\n",
       "    ws.close = function() {\n",
       "        comm.close()\n",
       "    };\n",
       "    ws.send = function(m) {\n",
       "        //console.log('sending', m);\n",
       "        comm.send(m);\n",
       "    };\n",
       "    // Register the callback with on_msg.\n",
       "    comm.on_msg(function(msg) {\n",
       "        //console.log('receiving', msg['content']['data'], msg);\n",
       "        // Pass the mpl event to the overriden (by mpl) onmessage function.\n",
       "        ws.onmessage(msg['content']['data'])\n",
       "    });\n",
       "    return ws;\n",
       "}\n",
       "\n",
       "mpl.mpl_figure_comm = function(comm, msg) {\n",
       "    // This is the function which gets called when the mpl process\n",
       "    // starts-up an IPython Comm through the \"matplotlib\" channel.\n",
       "\n",
       "    var id = msg.content.data.id;\n",
       "    // Get hold of the div created by the display call when the Comm\n",
       "    // socket was opened in Python.\n",
       "    var element = $(\"#\" + id);\n",
       "    var ws_proxy = comm_websocket_adapter(comm)\n",
       "\n",
       "    function ondownload(figure, format) {\n",
       "        window.open(figure.imageObj.src);\n",
       "    }\n",
       "\n",
       "    var fig = new mpl.figure(id, ws_proxy,\n",
       "                           ondownload,\n",
       "                           element.get(0));\n",
       "\n",
       "    // Call onopen now - mpl needs it, as it is assuming we've passed it a real\n",
       "    // web socket which is closed, not our websocket->open comm proxy.\n",
       "    ws_proxy.onopen();\n",
       "\n",
       "    fig.parent_element = element.get(0);\n",
       "    fig.cell_info = mpl.find_output_cell(\"<div id='\" + id + \"'></div>\");\n",
       "    if (!fig.cell_info) {\n",
       "        console.error(\"Failed to find cell for figure\", id, fig);\n",
       "        return;\n",
       "    }\n",
       "\n",
       "    var output_index = fig.cell_info[2]\n",
       "    var cell = fig.cell_info[0];\n",
       "\n",
       "};\n",
       "\n",
       "mpl.figure.prototype.handle_close = function(fig, msg) {\n",
       "    var width = fig.canvas.width/mpl.ratio\n",
       "    fig.root.unbind('remove')\n",
       "\n",
       "    // Update the output cell to use the data from the current canvas.\n",
       "    fig.push_to_output();\n",
       "    var dataURL = fig.canvas.toDataURL();\n",
       "    // Re-enable the keyboard manager in IPython - without this line, in FF,\n",
       "    // the notebook keyboard shortcuts fail.\n",
       "    IPython.keyboard_manager.enable()\n",
       "    $(fig.parent_element).html('<img src=\"' + dataURL + '\" width=\"' + width + '\">');\n",
       "    fig.close_ws(fig, msg);\n",
       "}\n",
       "\n",
       "mpl.figure.prototype.close_ws = function(fig, msg){\n",
       "    fig.send_message('closing', msg);\n",
       "    // fig.ws.close()\n",
       "}\n",
       "\n",
       "mpl.figure.prototype.push_to_output = function(remove_interactive) {\n",
       "    // Turn the data on the canvas into data in the output cell.\n",
       "    var width = this.canvas.width/mpl.ratio\n",
       "    var dataURL = this.canvas.toDataURL();\n",
       "    this.cell_info[1]['text/html'] = '<img src=\"' + dataURL + '\" width=\"' + width + '\">';\n",
       "}\n",
       "\n",
       "mpl.figure.prototype.updated_canvas_event = function() {\n",
       "    // Tell IPython that the notebook contents must change.\n",
       "    IPython.notebook.set_dirty(true);\n",
       "    this.send_message(\"ack\", {});\n",
       "    var fig = this;\n",
       "    // Wait a second, then push the new image to the DOM so\n",
       "    // that it is saved nicely (might be nice to debounce this).\n",
       "    setTimeout(function () { fig.push_to_output() }, 1000);\n",
       "}\n",
       "\n",
       "mpl.figure.prototype._init_toolbar = function() {\n",
       "    var fig = this;\n",
       "\n",
       "    var nav_element = $('<div/>')\n",
       "    nav_element.attr('style', 'width: 100%');\n",
       "    this.root.append(nav_element);\n",
       "\n",
       "    // Define a callback function for later on.\n",
       "    function toolbar_event(event) {\n",
       "        return fig.toolbar_button_onclick(event['data']);\n",
       "    }\n",
       "    function toolbar_mouse_event(event) {\n",
       "        return fig.toolbar_button_onmouseover(event['data']);\n",
       "    }\n",
       "\n",
       "    for(var toolbar_ind in mpl.toolbar_items){\n",
       "        var name = mpl.toolbar_items[toolbar_ind][0];\n",
       "        var tooltip = mpl.toolbar_items[toolbar_ind][1];\n",
       "        var image = mpl.toolbar_items[toolbar_ind][2];\n",
       "        var method_name = mpl.toolbar_items[toolbar_ind][3];\n",
       "\n",
       "        if (!name) { continue; };\n",
       "\n",
       "        var button = $('<button class=\"btn btn-default\" href=\"#\" title=\"' + name + '\"><i class=\"fa ' + image + ' fa-lg\"></i></button>');\n",
       "        button.click(method_name, toolbar_event);\n",
       "        button.mouseover(tooltip, toolbar_mouse_event);\n",
       "        nav_element.append(button);\n",
       "    }\n",
       "\n",
       "    // Add the status bar.\n",
       "    var status_bar = $('<span class=\"mpl-message\" style=\"text-align:right; float: right;\"/>');\n",
       "    nav_element.append(status_bar);\n",
       "    this.message = status_bar[0];\n",
       "\n",
       "    // Add the close button to the window.\n",
       "    var buttongrp = $('<div class=\"btn-group inline pull-right\"></div>');\n",
       "    var button = $('<button class=\"btn btn-mini btn-primary\" href=\"#\" title=\"Stop Interaction\"><i class=\"fa fa-power-off icon-remove icon-large\"></i></button>');\n",
       "    button.click(function (evt) { fig.handle_close(fig, {}); } );\n",
       "    button.mouseover('Stop Interaction', toolbar_mouse_event);\n",
       "    buttongrp.append(button);\n",
       "    var titlebar = this.root.find($('.ui-dialog-titlebar'));\n",
       "    titlebar.prepend(buttongrp);\n",
       "}\n",
       "\n",
       "mpl.figure.prototype._root_extra_style = function(el){\n",
       "    var fig = this\n",
       "    el.on(\"remove\", function(){\n",
       "\tfig.close_ws(fig, {});\n",
       "    });\n",
       "}\n",
       "\n",
       "mpl.figure.prototype._canvas_extra_style = function(el){\n",
       "    // this is important to make the div 'focusable\n",
       "    el.attr('tabindex', 0)\n",
       "    // reach out to IPython and tell the keyboard manager to turn it's self\n",
       "    // off when our div gets focus\n",
       "\n",
       "    // location in version 3\n",
       "    if (IPython.notebook.keyboard_manager) {\n",
       "        IPython.notebook.keyboard_manager.register_events(el);\n",
       "    }\n",
       "    else {\n",
       "        // location in version 2\n",
       "        IPython.keyboard_manager.register_events(el);\n",
       "    }\n",
       "\n",
       "}\n",
       "\n",
       "mpl.figure.prototype._key_event_extra = function(event, name) {\n",
       "    var manager = IPython.notebook.keyboard_manager;\n",
       "    if (!manager)\n",
       "        manager = IPython.keyboard_manager;\n",
       "\n",
       "    // Check for shift+enter\n",
       "    if (event.shiftKey && event.which == 13) {\n",
       "        this.canvas_div.blur();\n",
       "        event.shiftKey = false;\n",
       "        // Send a \"J\" for go to next cell\n",
       "        event.which = 74;\n",
       "        event.keyCode = 74;\n",
       "        manager.command_mode();\n",
       "        manager.handle_keydown(event);\n",
       "    }\n",
       "}\n",
       "\n",
       "mpl.figure.prototype.handle_save = function(fig, msg) {\n",
       "    fig.ondownload(fig, null);\n",
       "}\n",
       "\n",
       "\n",
       "mpl.find_output_cell = function(html_output) {\n",
       "    // Return the cell and output element which can be found *uniquely* in the notebook.\n",
       "    // Note - this is a bit hacky, but it is done because the \"notebook_saving.Notebook\"\n",
       "    // IPython event is triggered only after the cells have been serialised, which for\n",
       "    // our purposes (turning an active figure into a static one), is too late.\n",
       "    var cells = IPython.notebook.get_cells();\n",
       "    var ncells = cells.length;\n",
       "    for (var i=0; i<ncells; i++) {\n",
       "        var cell = cells[i];\n",
       "        if (cell.cell_type === 'code'){\n",
       "            for (var j=0; j<cell.output_area.outputs.length; j++) {\n",
       "                var data = cell.output_area.outputs[j];\n",
       "                if (data.data) {\n",
       "                    // IPython >= 3 moved mimebundle to data attribute of output\n",
       "                    data = data.data;\n",
       "                }\n",
       "                if (data['text/html'] == html_output) {\n",
       "                    return [cell, data, j];\n",
       "                }\n",
       "            }\n",
       "        }\n",
       "    }\n",
       "}\n",
       "\n",
       "// Register the function which deals with the matplotlib target/channel.\n",
       "// The kernel may be null if the page has been refreshed.\n",
       "if (IPython.notebook.kernel != null) {\n",
       "    IPython.notebook.kernel.comm_manager.register_target('matplotlib', mpl.mpl_figure_comm);\n",
       "}\n"
      ],
      "text/plain": [
       "<IPython.core.display.Javascript object>"
      ]
     },
     "metadata": {},
     "output_type": "display_data"
    },
    {
     "data": {
      "text/html": [
       "<img src=\"data:image/png;base64,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\" width=\"640\">"
      ],
      "text/plain": [
       "<IPython.core.display.HTML object>"
      ]
     },
     "metadata": {},
     "output_type": "display_data"
    }
   ],
   "source": [
    "spacing_condition = find(spacing_label.value,spacing_short)\n",
    "if spacing_condition == 0:\n",
    "    mult_factor_base = 1\n",
    "else:\n",
    "    mult_factor_base = 100\n",
    "print(spacing_condition)\n",
    "fst = 16\n",
    "fs = 14\n",
    "beam_energy_text = erg_options(isi)[iei]\n",
    "beam_species_text = projectile_sym_str[isi]\n",
    "\n",
    "fig = plt.figure()\n",
    "ax = plt.subplot(111)\n",
    "# Axis labels\n",
    "title_text = particles_long[spi] + \" Energy Spectra for\" + \"\\n\" \n",
    "title_text += beam_energy_text +\" \"+ beam_species_text + \" on \"+ thicknesses[ftti] +\" \"+ target_mats_short[ftmi] \n",
    "plt.title(title_text,fontsize=fst)\n",
    "if spi <= 2:\n",
    "    plt.xlabel(\"Energy [MeV]\",fontsize=fs)\n",
    "else:\n",
    "    plt.xlabel(\"Energy [MeV/n]\",fontsize=fs)\n",
    "\n",
    "if spi == 1: # deconvoluted neutrons\n",
    "    leg_strings = [r'Experimental (deconvoluted)',r'MCNP (simulated)', r'PHITS (simulated)']\n",
    "    plt.ylabel(r\"Yield [#$\\cdot$/(MeV$\\cdot$s.p.)]\",fontsize=fs)\n",
    "else:\n",
    "    leg_strings = [r'Experimental (time-of-flight)',r'MCNP (simulated)', r'PHITS (simulated)']\n",
    "    if spi <= 2:\n",
    "        plt.ylabel(r\"Yield [#/(MeV$\\cdot$sr$\\cdot$s.p.)]\",fontsize=fs)\n",
    "    else:\n",
    "        plt.ylabel(r\"Yield [#/(MeV/n$\\cdot$sr$\\cdot$s.p.)]\",fontsize=fs)\n",
    "\n",
    "# Generate portion of legend specifying data sets\n",
    "if spi == 1:\n",
    "    exp_leg, = plt.errorbar(np.NaN, np.NaN,yerr=0, color='dimgrey', marker=\".\",markersize=3,linestyle=\":\",alpha=1.0), #, label=r'Deconvolued')\n",
    "else:\n",
    "    exp_leg,  = plt.errorbar(np.NaN, np.NaN,xerr=0,yerr=0,marker=\".\",c='dimgrey',markersize=2,linestyle=\"\",elinewidth=0.5,markeredgewidth=0.5,capsize=0), # , label=r'Experimental (ToF)') \n",
    "\n",
    "MCNP_leg, = plt.errorbar(np.NaN, np.NaN,yerr=0, color='dimgrey', marker=\"^\",markersize=3,linestyle=\"--\"), #, label=r'Simulated (MCNP)')\n",
    "PHITS_leg, = plt.errorbar(np.NaN, np.NaN,yerr=0, color='dimgrey', marker=\"s\",markersize=3,linestyle=\"--\"), #, label=r'Simulated (PHITS)')\n",
    "\n",
    "legs_for_ds = [exp_leg, MCNP_leg, PHITS_leg]\n",
    "used_ds_legs = []\n",
    "used_ds_leg_strs = []\n",
    "\n",
    "for dsi in data_set_i_list:\n",
    "    used_ds_legs.append(legs_for_ds[dsi])\n",
    "    used_ds_leg_strs.append(leg_strings[dsi])\n",
    "    k=5\n",
    "    leg_handles1 = []\n",
    "    leg_labels1 = []\n",
    "    for di in det_angle_i_list:\n",
    "        ndet = str(di+1)\n",
    "        scale_power = 2*(5-k)\n",
    "        mult_factor = mult_factor_base**(2*(5-k))\n",
    "        if spacing_condition == 0:\n",
    "            lab_text = detectors_angles[detti][di]\n",
    "        else:\n",
    "            lab_text = detectors_angles[detti][di] + r\" $\\times10^{{{0}}}$\".format(str(int(scale_power)))\n",
    "        k += -1\n",
    "        \n",
    "        nzi = np.nonzero(mm_values[dsi,iei,ftmi,ftti,spi,di,1,:])\n",
    "        xdata = mm_values[dsi,iei,ftmi,ftti,spi,di,1,:][nzi]\n",
    "        xbinw = [mm_values[dsi,iei,ftmi,ftti,spi,di,1,:][nzi]-mm_values[dsi,iei,ftmi,ftti,spi,di,0,:][nzi] , mm_values[dsi,iei,ftmi,ftti,spi,di,2,:][nzi]-mm_values[dsi,iei,ftmi,ftti,spi,di,1,:][nzi]]\n",
    "        ydata = mm_values[dsi,iei,ftmi,ftti,spi,di,3,:][nzi]\n",
    "        yerr_stat = mm_values[dsi,iei,ftmi,ftti,spi,di,4,:][nzi]\n",
    "        yerr_sys = mm_values[dsi,iei,ftmi,ftti,spi,di,5,:][nzi]\n",
    "        xerr = mm_values[dsi,iei,ftmi,ftti,spi,di,6,:][nzi]\n",
    "        \n",
    "        # Generate plots\n",
    "        if dsi == 0: # experimental results\n",
    "            if spi == 1: # deconvoluted neutrons\n",
    "                alpha_val=1.0\n",
    "                marker_val = \".\"\n",
    "                p = plt.errorbar(xdata,ydata,yerr=yerr,c=detector_colors(di),marker=marker_val,markersize=3,linestyle=\":\",alpha=alpha_val,label=lab_text) #,label='Simulated (MCNP)')\n",
    "                leg_handles1.append(p[0])\n",
    "                leg_labels1.append(lab_text)\n",
    "            else:\n",
    "                # x error bar (bin width)\n",
    "                xerrbar = xbinw\n",
    "                # x error box (energy resolution\n",
    "                xerrbox = xerr\n",
    "                xerrbox = np.array([xerrbox, xerrbox])\n",
    "                # y error bar (systematic uncertainty)\n",
    "                yerrbar = [yerr_sys, yerr_sys]\n",
    "                yerrbar[0][(ydata-yerrbar[0])<=0]=0 # get rid of negative error bars\n",
    "                yerrbar[1][(ydata)<=0]=0 # get rid of errorbars on negative points\n",
    "                # y error box (statistical uncertainty)\n",
    "                yerrbox = np.array([yerr_stat, yerr_stat])\n",
    "                \n",
    "                p = plt.errorbar(xdata,ydata,xerr=xerrbar,yerr=yerrbar,marker=\".\",c=detector_colors(di),markersize=2,linestyle=\"\",elinewidth=0.5,markeredgewidth=0.5,capsize=0,label=lab_text)\n",
    "                nx_color = detector_colors(di) #p[0].get_color()\n",
    "                makeErrorBoxes(xdata,ydata,xerrbox,yerrbox,fc='None',ec=nx_color,alpha=1.0,lw=0.5)\n",
    "                makeErrorBoxes(xdata,ydata,xerrbox,yerrbox,fc=nx_color,ec='None',alpha=0.1,lw=0.5)\n",
    "                \n",
    "                leg_handles1.append(p[0])\n",
    "                leg_labels1.append(lab_text)\n",
    "                \n",
    "        elif dsi == 1: # MCNP results\n",
    "            ebp = plt.errorbar(xdata,ydata,yerr=yerr_stat,c=detector_colors(di),marker=\"^\",markersize=3,linestyle=\"--\") #,label=lab_text) #,label='Simulated (MCNP)')\n",
    "        \n",
    "        elif dsi == 2: # PHITS results\n",
    "            ebp = plt.errorbar(xdata,ydata,yerr=yerr_stat,c=detector_colors(di),marker=\"s\",markersize=3,linestyle=\"--\") #,label=lab_text) #,label='Simulated (MCNP)')\n",
    "        \n",
    "        \n",
    "#handles, labels = ax.get_legend_handles_labels()\n",
    "if len(data_set_i_list)==3: # Three rows in named legend\n",
    "    box_h_multiplier = 0.88 # percentage of total height occupied by actual plot\n",
    "    box_h_offset = 0.16 # vertical offset left at the bottom for legend stuff\n",
    "    leg2_anchor = (0.5, -0.065)\n",
    "    leg1_anchor = (0.47, -0.21)\n",
    "elif len(data_set_i_list)==2: # Two rows of legend\n",
    "    box_h_multiplier = 0.92 # percentage of total height occupied by actual plot\n",
    "    box_h_offset = 0.12 # vertical offset left at the bottom for legend stuff\n",
    "    leg2_anchor = (0.5, -0.065)\n",
    "    leg1_anchor = (0.47, -0.155)\n",
    "else: # One row of legend\n",
    "    box_h_multiplier = 0.92 # percentage of total height occupied by actual plot\n",
    "    box_h_offset = 0.12 # vertical offset left at the bottom for legend stuff\n",
    "    leg2_anchor = (0.5, -0.065)\n",
    "    leg1_anchor = (0.47, -0.155)\n",
    "\n",
    "# Set size and location of the plot on the canvas\n",
    "box = ax.get_position()\n",
    "ax.set_position([box.x0 + box.width * 0.025, box.y0 + box.height * box_h_offset,box.width * 0.95, box.height * box_h_multiplier])\n",
    "\n",
    "# Put a legend below current axis\n",
    "legend2 = ax.legend(used_ds_legs,used_ds_leg_strs,loc='upper center', bbox_to_anchor=leg2_anchor, ncol=len(data_set_i_list))\n",
    "\n",
    "# Put a legend below current axis\n",
    "ax.legend(leg_handles1,leg_labels1,loc='upper center', bbox_to_anchor=leg1_anchor, ncol=3,handletextpad=0.1)\n",
    "ax.add_artist(legend2)\n",
    "\n",
    "window_title = mm_metadata[dsi,isi,iei,ftmi,ftti,spi,0,1] + \"_fig\"\n",
    "fig.canvas.set_window_title(window_title)\n",
    "if spacing_condition == 1: \n",
    "    fig.set_size_inches(5.25,10.25)\n",
    "        \n",
    "plt.xscale('log')\n",
    "plt.yscale('log')\n",
    "plt.grid(b=True, which='major', linestyle='-', alpha=0.25)\n",
    "plt.grid(b=True, which='minor', linestyle='-', alpha=0.10)\n",
    "plt.xlim([5,2000])\n",
    "        \n",
    "        \n",
    "        \n",
    "plt.show()        \n",
    "        \n",
    "    \n",
    "    \n"
   ]
  },
  {
   "cell_type": "code",
   "execution_count": null,
   "metadata": {},
   "outputs": [],
   "source": []
  }
 ],
 "metadata": {
  "kernelspec": {
   "display_name": "Python 3",
   "language": "python",
   "name": "python3"
  },
  "language_info": {
   "codemirror_mode": {
    "name": "ipython",
    "version": 3
   },
   "file_extension": ".py",
   "mimetype": "text/x-python",
   "name": "python",
   "nbconvert_exporter": "python",
   "pygments_lexer": "ipython3",
   "version": "3.6.4"
  },
  "widgets": {
   "application/vnd.jupyter.widget-state+json": {
    "state": {
     "015a24742f1046a68c1d4db057c366cf": {
      "model_module": "@jupyter-widgets/controls",
      "model_module_version": "1.1.0",
      "model_name": "CheckboxModel",
      "state": {
       "description": "MCNP sim.",
       "disabled": false,
       "layout": "IPY_MODEL_f4c2d755906e4acc82b4b2022cb7d83e",
       "style": "IPY_MODEL_59d88d47bdd14c89a862b29a2a531ba7",
       "value": true
      }
     },
     "016af3617c1540cb8e02cb71fbe0670e": {
      "model_module": "@jupyter-widgets/base",
      "model_module_version": "1.0.0",
      "model_name": "LayoutModel",
      "state": {}
     },
     "016af7d1f94149218d11f66c4a091e97": {
      "model_module": "@jupyter-widgets/controls",
      "model_module_version": "1.1.0",
      "model_name": "CheckboxModel",
      "state": {
       "description": "80°",
       "disabled": false,
       "layout": "IPY_MODEL_d7fa1e0a970542dfa0bcacd0af564385",
       "style": "IPY_MODEL_5fd143974646441e9efb80cf682ca8a5",
       "value": true
      }
     },
     "01d7e586b2a44ccb8a530a82fbf83230": {
      "model_module": "@jupyter-widgets/controls",
      "model_module_version": "1.1.0",
      "model_name": "ToggleButtonsModel",
      "state": {
       "_options_labels": [
        "20 g/cm²",
        "40 g/cm²",
        "60 g/cm²"
       ],
       "button_style": "",
       "description": "Upstream target thickness:",
       "icons": [],
       "index": 0,
       "layout": "IPY_MODEL_596ea217ac164fedaf51f67142124c58",
       "style": "IPY_MODEL_55a5703aec6e4ddf86fb580bdcbfe484",
       "tooltips": [
        "20 g/cm²",
        "40 g/cm²",
        "60 g/cm²"
       ]
      }
     },
     "01f72b147b784cc9ba5906f2ca107057": {
      "model_module": "@jupyter-widgets/controls",
      "model_module_version": "1.1.0",
      "model_name": "ToggleButtonsStyleModel",
      "state": {
       "button_width": "",
       "description_width": ""
      }
     },
     "02127c50231e4972b41b1271ccf9305d": {
      "model_module": "@jupyter-widgets/controls",
      "model_module_version": "1.1.0",
      "model_name": "DescriptionStyleModel",
      "state": {
       "description_width": ""
      }
     },
     "0212a0076bfb4fe9b444a577f12be42d": {
      "model_module": "@jupyter-widgets/controls",
      "model_module_version": "1.1.0",
      "model_name": "CheckboxModel",
      "state": {
       "description": "30°",
       "disabled": false,
       "layout": "IPY_MODEL_51b6948d26ac4208adc465035d6b9140",
       "style": "IPY_MODEL_4f1190b8cbda46f889e0baa7d9929de6",
       "value": true
      }
     },
     "0337ce54a5744c2592c741f8bf0da893": {
      "model_module": "@jupyter-widgets/base",
      "model_module_version": "1.0.0",
      "model_name": "LayoutModel",
      "state": {}
     },
     "03ae5818f0e94776ac03fe0d71608a92": {
      "model_module": "@jupyter-widgets/controls",
      "model_module_version": "1.1.0",
      "model_name": "LabelModel",
      "state": {
       "layout": "IPY_MODEL_637ed75ddebd43dbb94e0c153d7585d5",
       "style": "IPY_MODEL_085dff56f3114ea8938afe829535393f",
       "value": "Select upstream target material."
      }
     },
     "03dcf3cd83ed429284cfc87240c360b6": {
      "model_module": "@jupyter-widgets/base",
      "model_module_version": "1.0.0",
      "model_name": "LayoutModel",
      "state": {}
     },
     "046224b054b0448ea8e0ed8ad64c4b05": {
      "model_module": "@jupyter-widgets/base",
      "model_module_version": "1.0.0",
      "model_name": "LayoutModel",
      "state": {}
     },
     "04a447586dda4ee698d2fb2937a163eb": {
      "model_module": "@jupyter-widgets/controls",
      "model_module_version": "1.1.0",
      "model_name": "CheckboxModel",
      "state": {
       "description": "135°",
       "disabled": false,
       "layout": "IPY_MODEL_a692bd63ab7c48f295ccea4406aef904",
       "style": "IPY_MODEL_343114b504ce43fda824ef0816453850",
       "value": true
      }
     },
     "04e0e02fd9424300a282ee8e21e6a088": {
      "model_module": "@jupyter-widgets/base",
      "model_module_version": "1.0.0",
      "model_name": "LayoutModel",
      "state": {}
     },
     "0661377c3ce84078b39d999e286c34f4": {
      "model_module": "@jupyter-widgets/controls",
      "model_module_version": "1.1.0",
      "model_name": "CheckboxModel",
      "state": {
       "description": "10°",
       "disabled": false,
       "layout": "IPY_MODEL_80c974a6982d4c27bab83c49568cae82",
       "style": "IPY_MODEL_02127c50231e4972b41b1271ccf9305d",
       "value": true
      }
     },
     "06b2f62874494d339bb90eea19176892": {
      "model_module": "@jupyter-widgets/controls",
      "model_module_version": "1.1.0",
      "model_name": "ToggleButtonsStyleModel",
      "state": {
       "button_width": "",
       "description_width": ""
      }
     },
     "06c0c365322742f782334733d0d37345": {
      "model_module": "@jupyter-widgets/base",
      "model_module_version": "1.0.0",
      "model_name": "LayoutModel",
      "state": {}
     },
     "0758ae860a9c4504adc31a0935c7f733": {
      "model_module": "@jupyter-widgets/base",
      "model_module_version": "1.0.0",
      "model_name": "LayoutModel",
      "state": {}
     },
     "07755daa83fe4274b62c67d067d8f5c2": {
      "model_module": "@jupyter-widgets/controls",
      "model_module_version": "1.1.0",
      "model_name": "ToggleButtonsModel",
      "state": {
       "_options_labels": [
        "20 g/cm²",
        "40 g/cm²",
        "60 g/cm²"
       ],
       "button_style": "",
       "description": "Thickness:",
       "icons": [],
       "index": 0,
       "layout": "IPY_MODEL_40ddbb06e0014ae08ff988866adf07c1",
       "style": "IPY_MODEL_90e4cb21488d410886e5f278df600e84",
       "tooltips": [
        "20 g/cm²",
        "40 g/cm²",
        "60 g/cm²"
       ]
      }
     },
     "07757186b124423b90b6fc4a321a3839": {
      "model_module": "@jupyter-widgets/controls",
      "model_module_version": "1.1.0",
      "model_name": "DescriptionStyleModel",
      "state": {
       "description_width": ""
      }
     },
     "077e109affea4d699a6c5e1910bcab11": {
      "model_module": "@jupyter-widgets/controls",
      "model_module_version": "1.1.0",
      "model_name": "ToggleButtonsStyleModel",
      "state": {
       "button_width": "",
       "description_width": ""
      }
     },
     "07e26bfbdd264c5caa86997cd380255c": {
      "model_module": "@jupyter-widgets/controls",
      "model_module_version": "1.1.0",
      "model_name": "DescriptionStyleModel",
      "state": {
       "description_width": ""
      }
     },
     "0839726bcf934b2a8cabd4c883d639f1": {
      "model_module": "@jupyter-widgets/controls",
      "model_module_version": "1.1.0",
      "model_name": "LabelModel",
      "state": {
       "layout": "IPY_MODEL_325639152adf4b15b3b1051041ae68eb",
       "style": "IPY_MODEL_72b2eebf41ac4c2db75c3a52ac89f3c9",
       "value": "Select a detector type."
      }
     },
     "085dff56f3114ea8938afe829535393f": {
      "model_module": "@jupyter-widgets/controls",
      "model_module_version": "1.1.0",
      "model_name": "DescriptionStyleModel",
      "state": {
       "description_width": ""
      }
     },
     "093c5b828de249c78fddec2d5a864ef9": {
      "model_module": "@jupyter-widgets/base",
      "model_module_version": "1.0.0",
      "model_name": "LayoutModel",
      "state": {}
     },
     "0a00a4e4a38943d1be4af74db92ec146": {
      "model_module": "@jupyter-widgets/controls",
      "model_module_version": "1.1.0",
      "model_name": "DescriptionStyleModel",
      "state": {
       "description_width": ""
      }
     },
     "0a15630079c4457195034b328b2a52c7": {
      "model_module": "@jupyter-widgets/controls",
      "model_module_version": "1.1.0",
      "model_name": "ToggleButtonsModel",
      "state": {
       "_options_labels": [
        "H",
        "He",
        "C",
        "Si",
        "Fe"
       ],
       "button_style": "",
       "description": "Ion:",
       "icons": [],
       "index": 1,
       "layout": "IPY_MODEL_cdd7b460ab6d497e89a40e54704e0405",
       "style": "IPY_MODEL_2600d26c307b4d64b61cddbb1c9c8bf9",
       "tooltips": [
        "Hydrogen",
        "Helium",
        "Carbon",
        "Silicon",
        "Iron"
       ]
      }
     },
     "0a4e49250d1b4f6f98897b6d82eeb9a1": {
      "model_module": "@jupyter-widgets/controls",
      "model_module_version": "1.1.0",
      "model_name": "CheckboxModel",
      "state": {
       "description": "10°",
       "disabled": false,
       "layout": "IPY_MODEL_99bd68cb67c647a19d309a72f54f1d43",
       "style": "IPY_MODEL_1825297813484bcdac34bff4130870cc",
       "value": true
      }
     },
     "0a70fb9ba1734f81bf40a0d762dae042": {
      "model_module": "@jupyter-widgets/base",
      "model_module_version": "1.0.0",
      "model_name": "LayoutModel",
      "state": {}
     },
     "0a9707392c6b4c3282af3dc874884ff5": {
      "model_module": "@jupyter-widgets/base",
      "model_module_version": "1.0.0",
      "model_name": "LayoutModel",
      "state": {}
     },
     "0a991623230c4b9c9ef64ab68ea5d54d": {
      "model_module": "@jupyter-widgets/controls",
      "model_module_version": "1.1.0",
      "model_name": "DescriptionStyleModel",
      "state": {
       "description_width": ""
      }
     },
     "0b494dc80487406a9b61c6f01741dc0a": {
      "model_module": "@jupyter-widgets/base",
      "model_module_version": "1.0.0",
      "model_name": "LayoutModel",
      "state": {}
     },
     "0b9ff29894144d61b66453698de74215": {
      "model_module": "@jupyter-widgets/controls",
      "model_module_version": "1.1.0",
      "model_name": "DescriptionStyleModel",
      "state": {
       "description_width": ""
      }
     },
     "0c5612b8ca424f38baede82fdba62a08": {
      "model_module": "@jupyter-widgets/controls",
      "model_module_version": "1.1.0",
      "model_name": "DescriptionStyleModel",
      "state": {
       "description_width": ""
      }
     },
     "0c5d38b2439f4de1b6158b9ce2c2de5c": {
      "model_module": "@jupyter-widgets/controls",
      "model_module_version": "1.1.0",
      "model_name": "DescriptionStyleModel",
      "state": {
       "description_width": ""
      }
     },
     "0ce14b6fac51407f83c6f33e8133ce9d": {
      "model_module": "@jupyter-widgets/base",
      "model_module_version": "1.0.0",
      "model_name": "LayoutModel",
      "state": {}
     },
     "0d2323b67db544279e9b9cca4b235141": {
      "model_module": "@jupyter-widgets/controls",
      "model_module_version": "1.1.0",
      "model_name": "ToggleButtonsModel",
      "state": {
       "_options_labels": [
        "Al",
        "HDPE",
        "AlPE"
       ],
       "button_style": "",
       "description": "Upstream target material:",
       "icons": [],
       "index": 0,
       "layout": "IPY_MODEL_0f9a3a7ea3274908a4ba07dfeee17777",
       "style": "IPY_MODEL_c6a1b9433eb64e99a0423142484aa85c",
       "tooltips": [
        "Aluminum",
        "Polyethylene",
        "Combination of Al and HDPE"
       ]
      }
     },
     "0eefed4c26c24fdd9b4b7a338ffa2d06": {
      "model_module": "@jupyter-widgets/base",
      "model_module_version": "1.0.0",
      "model_name": "LayoutModel",
      "state": {}
     },
     "0f09a72e9f9f4937bd8a9ecae88876c4": {
      "model_module": "@jupyter-widgets/controls",
      "model_module_version": "1.1.0",
      "model_name": "DescriptionStyleModel",
      "state": {
       "description_width": ""
      }
     },
     "0f4bb8f40098437a8daeb753c0da2516": {
      "model_module": "@jupyter-widgets/controls",
      "model_module_version": "1.1.0",
      "model_name": "ToggleButtonsModel",
      "state": {
       "_options_labels": [
        "N",
        "NDC",
        "P (¹H)",
        "D (²H)",
        "T (³H)",
        "S (³He)",
        "A (⁴He)"
       ],
       "button_style": "",
       "description": "Type:",
       "icons": [],
       "index": 4,
       "layout": "IPY_MODEL_edf26b31a5c04ae5ac5eb9360ccd15ef",
       "style": "IPY_MODEL_13271da540d24704a926fec8f665e358",
       "tooltips": [
        "Neutron",
        "Neutron (deconvoluted)",
        "Proton",
        "Deuteron",
        "Triton",
        "Helium-3",
        "Helium-4"
       ]
      }
     },
     "0f76e3888d8341d28dd5fed39c244e0e": {
      "model_module": "@jupyter-widgets/base",
      "model_module_version": "1.0.0",
      "model_name": "LayoutModel",
      "state": {}
     },
     "0f9a3a7ea3274908a4ba07dfeee17777": {
      "model_module": "@jupyter-widgets/base",
      "model_module_version": "1.0.0",
      "model_name": "LayoutModel",
      "state": {}
     },
     "10ca3d80274042888db9704121729f77": {
      "model_module": "@jupyter-widgets/controls",
      "model_module_version": "1.1.0",
      "model_name": "LabelModel",
      "state": {
       "layout": "IPY_MODEL_ae22be5c28e94de696808e167388ef1f",
       "style": "IPY_MODEL_2e747fb81d244092853eacf0aec85b3a",
       "value": "Select projectile ion species."
      }
     },
     "10fad7c03c90440a974d7f485df8d67e": {
      "model_module": "@jupyter-widgets/controls",
      "model_module_version": "1.1.0",
      "model_name": "CheckboxModel",
      "state": {
       "description": "10°",
       "disabled": false,
       "layout": "IPY_MODEL_0a70fb9ba1734f81bf40a0d762dae042",
       "style": "IPY_MODEL_0a00a4e4a38943d1be4af74db92ec146",
       "value": true
      }
     },
     "120e79b40cc1437caea92ee8f745a440": {
      "model_module": "@jupyter-widgets/controls",
      "model_module_version": "1.1.0",
      "model_name": "ToggleButtonsStyleModel",
      "state": {
       "button_width": "",
       "description_width": ""
      }
     },
     "1211d6f9f9e04653a3a58fdd718ac1ef": {
      "model_module": "@jupyter-widgets/base",
      "model_module_version": "1.0.0",
      "model_name": "LayoutModel",
      "state": {}
     },
     "124b0a83e56f43c3afd1d745a3842523": {
      "model_module": "@jupyter-widgets/controls",
      "model_module_version": "1.1.0",
      "model_name": "CheckboxModel",
      "state": {
       "description": "7.2°",
       "disabled": false,
       "layout": "IPY_MODEL_9d4f6d8efe3e403b85e88c1a136d41e8",
       "style": "IPY_MODEL_0a991623230c4b9c9ef64ab68ea5d54d",
       "value": true
      }
     },
     "1266e2d15f2c4ed1a6ccfe7dfca2b24e": {
      "model_module": "@jupyter-widgets/controls",
      "model_module_version": "1.1.0",
      "model_name": "CheckboxModel",
      "state": {
       "description": "60°",
       "disabled": false,
       "layout": "IPY_MODEL_f198b3453e774f70bf273162d5d01d64",
       "style": "IPY_MODEL_dd3a3b31398e4a0e9aa1cddadb32dcea",
       "value": true
      }
     },
     "126934ddfa8e4192b3fd5ece72e96b59": {
      "model_module": "@jupyter-widgets/controls",
      "model_module_version": "1.1.0",
      "model_name": "CheckboxModel",
      "state": {
       "description": "30°",
       "disabled": false,
       "layout": "IPY_MODEL_a39a0b6219a04e33ac8128e88b31eec9",
       "style": "IPY_MODEL_aa2c1f5ef7a94d079d5ed5026d0aaa7c",
       "value": true
      }
     },
     "12d7b13808f14eada5e484820d7ef00e": {
      "model_module": "@jupyter-widgets/controls",
      "model_module_version": "1.1.0",
      "model_name": "CheckboxModel",
      "state": {
       "description": "45°",
       "disabled": false,
       "layout": "IPY_MODEL_1f0011445a274e36af5ba0d2d546cdf0",
       "style": "IPY_MODEL_0c5612b8ca424f38baede82fdba62a08",
       "value": true
      }
     },
     "13271da540d24704a926fec8f665e358": {
      "model_module": "@jupyter-widgets/controls",
      "model_module_version": "1.1.0",
      "model_name": "ToggleButtonsStyleModel",
      "state": {
       "button_width": "",
       "description_width": ""
      }
     },
     "1343ff4e746c4800991407de65ac09e2": {
      "model_module": "@jupyter-widgets/base",
      "model_module_version": "1.0.0",
      "model_name": "LayoutModel",
      "state": {}
     },
     "143c0b0a8ded453daf70a006d44b7880": {
      "model_module": "@jupyter-widgets/controls",
      "model_module_version": "1.1.0",
      "model_name": "DescriptionStyleModel",
      "state": {
       "description_width": ""
      }
     },
     "14656cbd39454997b90ef16224d21acc": {
      "model_module": "@jupyter-widgets/controls",
      "model_module_version": "1.1.0",
      "model_name": "LabelModel",
      "state": {
       "layout": "IPY_MODEL_5b62b7eeb86143959158e4085d77bb88",
       "style": "IPY_MODEL_de514ac198ee4f96a23947a300d166c6",
       "value": "Select upstream target material."
      }
     },
     "148bb584f6ef4e5e878a1b381fe79254": {
      "model_module": "@jupyter-widgets/controls",
      "model_module_version": "1.1.0",
      "model_name": "LabelModel",
      "state": {
       "layout": "IPY_MODEL_5c0314f0e2ae4326abd5d4ac63c8dc35",
       "style": "IPY_MODEL_370f4ee7c2e44db992d620b6a6ceb2dd",
       "value": "Select how data sets for each detector should be spaced apart (if at all)."
      }
     },
     "151abc60134044d5a94d1ed2cc538c10": {
      "model_module": "@jupyter-widgets/base",
      "model_module_version": "1.0.0",
      "model_name": "LayoutModel",
      "state": {}
     },
     "154fea893a0347a9b41097a0151ff2a7": {
      "model_module": "@jupyter-widgets/controls",
      "model_module_version": "1.1.0",
      "model_name": "LabelModel",
      "state": {
       "layout": "IPY_MODEL_494ed35864824a06877c2dfcc5d747f6",
       "style": "IPY_MODEL_e18a396c81f740bcb8fd470324b131d6",
       "value": "Select projectile ion energy."
      }
     },
     "15689425cbfc4a4c971397446beb65e8": {
      "model_module": "@jupyter-widgets/base",
      "model_module_version": "1.0.0",
      "model_name": "LayoutModel",
      "state": {}
     },
     "15a35212efc8475aaf0e98cf2b28246a": {
      "model_module": "@jupyter-widgets/controls",
      "model_module_version": "1.1.0",
      "model_name": "ToggleButtonsStyleModel",
      "state": {
       "button_width": "",
       "description_width": ""
      }
     },
     "15e42c4133524de2b2ea86582941de1f": {
      "model_module": "@jupyter-widgets/base",
      "model_module_version": "1.0.0",
      "model_name": "LayoutModel",
      "state": {}
     },
     "16315db0526c431084ebae78a9d1afad": {
      "model_module": "@jupyter-widgets/controls",
      "model_module_version": "1.1.0",
      "model_name": "DescriptionStyleModel",
      "state": {
       "description_width": ""
      }
     },
     "1825297813484bcdac34bff4130870cc": {
      "model_module": "@jupyter-widgets/controls",
      "model_module_version": "1.1.0",
      "model_name": "DescriptionStyleModel",
      "state": {
       "description_width": ""
      }
     },
     "1875e3dd5067473f88a51b8845b141ac": {
      "model_module": "@jupyter-widgets/controls",
      "model_module_version": "1.1.0",
      "model_name": "ToggleButtonsModel",
      "state": {
       "_options_labels": [
        "OLS",
        "NaI"
       ],
       "button_style": "",
       "description": "Type:",
       "icons": [],
       "index": 0,
       "layout": "IPY_MODEL_91a8c6d91411460a994e09b91adedd71",
       "style": "IPY_MODEL_bfd76b866fce44aa921ab72cc6d1c12f",
       "tooltips": [
        "Organic Liquid Scintillator",
        "Sodium Iodide"
       ]
      }
     },
     "188b644e780e4203a6132e97b46d6a85": {
      "model_module": "@jupyter-widgets/controls",
      "model_module_version": "1.1.0",
      "model_name": "CheckboxModel",
      "state": {
       "description": "45°",
       "disabled": false,
       "layout": "IPY_MODEL_7b67634f3b2e4352a0589661be000b81",
       "style": "IPY_MODEL_7c06d94c93634ca3ba27341ff8025071",
       "value": true
      }
     },
     "1895e3bc6f044bb8afff35cdcfbc7aab": {
      "model_module": "@jupyter-widgets/base",
      "model_module_version": "1.0.0",
      "model_name": "LayoutModel",
      "state": {}
     },
     "193853f9a1684ec88fc80445d79e0ba9": {
      "model_module": "@jupyter-widgets/base",
      "model_module_version": "1.0.0",
      "model_name": "LayoutModel",
      "state": {}
     },
     "19bd98574c554e07b4b537e9e84ecf7d": {
      "model_module": "@jupyter-widgets/controls",
      "model_module_version": "1.1.0",
      "model_name": "CheckboxModel",
      "state": {
       "description": "28.2°",
       "disabled": false,
       "layout": "IPY_MODEL_889762aa4e644d949a48ea2d57dac50e",
       "style": "IPY_MODEL_6223168c1f55461595981e5ec71396fd",
       "value": true
      }
     },
     "1bb7f2c06922441089584949384b0a0c": {
      "model_module": "@jupyter-widgets/base",
      "model_module_version": "1.0.0",
      "model_name": "LayoutModel",
      "state": {}
     },
     "1bc0fe1be6aa4c15aa1668a0dca5fca8": {
      "model_module": "@jupyter-widgets/base",
      "model_module_version": "1.0.0",
      "model_name": "LayoutModel",
      "state": {}
     },
     "1c30df6baca14be9b804620d10110d72": {
      "model_module": "@jupyter-widgets/base",
      "model_module_version": "1.0.0",
      "model_name": "LayoutModel",
      "state": {}
     },
     "1cb269111fbe40189e9390668bf98904": {
      "model_module": "@jupyter-widgets/controls",
      "model_module_version": "1.1.0",
      "model_name": "LabelModel",
      "state": {
       "layout": "IPY_MODEL_388644282a824885afb9277afeea4f70",
       "style": "IPY_MODEL_9f6c28c005314a9b83e039513ce02007",
       "value": "Select the detector angles to plot."
      }
     },
     "1ccf22597e434af5bab9dad773320ed1": {
      "model_module": "@jupyter-widgets/base",
      "model_module_version": "1.0.0",
      "model_name": "LayoutModel",
      "state": {}
     },
     "1d26bbdb345e4228a599082eb1877107": {
      "model_module": "@jupyter-widgets/base",
      "model_module_version": "1.0.0",
      "model_name": "LayoutModel",
      "state": {}
     },
     "1daced6103c9424ab2254a318ff9985a": {
      "model_module": "@jupyter-widgets/controls",
      "model_module_version": "1.1.0",
      "model_name": "CheckboxModel",
      "state": {
       "description": "30°",
       "disabled": false,
       "layout": "IPY_MODEL_9cd3e6c6e5e242f89758ccc80cb5a2e7",
       "style": "IPY_MODEL_a41aefaded0c42d8b1f36b278b07e298",
       "value": true
      }
     },
     "1ead81b4709043c994909a2b2b093b5f": {
      "model_module": "@jupyter-widgets/controls",
      "model_module_version": "1.1.0",
      "model_name": "ToggleButtonsStyleModel",
      "state": {
       "button_width": "",
       "description_width": ""
      }
     },
     "1ebf963a3f6c45cf90efcce937720a07": {
      "model_module": "@jupyter-widgets/controls",
      "model_module_version": "1.1.0",
      "model_name": "DescriptionStyleModel",
      "state": {
       "description_width": ""
      }
     },
     "1f0011445a274e36af5ba0d2d546cdf0": {
      "model_module": "@jupyter-widgets/base",
      "model_module_version": "1.0.0",
      "model_name": "LayoutModel",
      "state": {}
     },
     "1f772ee58afb4bd29003d5804c7a5fa8": {
      "model_module": "@jupyter-widgets/controls",
      "model_module_version": "1.1.0",
      "model_name": "ToggleButtonsStyleModel",
      "state": {
       "button_width": "",
       "description_width": ""
      }
     },
     "208ce91453bd48d9944ef67cb52ea58e": {
      "model_module": "@jupyter-widgets/controls",
      "model_module_version": "1.1.0",
      "model_name": "LabelModel",
      "state": {
       "layout": "IPY_MODEL_093c5b828de249c78fddec2d5a864ef9",
       "style": "IPY_MODEL_ead1f9378a724f3fac29c1cdad541101",
       "value": "Select the detector angles to plot."
      }
     },
     "2166ce61f48441109f67d654dd830c66": {
      "model_module": "@jupyter-widgets/base",
      "model_module_version": "1.0.0",
      "model_name": "LayoutModel",
      "state": {}
     },
     "21f5849d07b3473885fecce53d0e112c": {
      "model_module": "@jupyter-widgets/controls",
      "model_module_version": "1.1.0",
      "model_name": "DescriptionStyleModel",
      "state": {
       "description_width": ""
      }
     },
     "22f66ed53e8e423593a80dfdbe42d767": {
      "model_module": "@jupyter-widgets/controls",
      "model_module_version": "1.1.0",
      "model_name": "LabelModel",
      "state": {
       "layout": "IPY_MODEL_3072555a9e1f4fdba977666bb7ebfa77",
       "style": "IPY_MODEL_fff6cf548d564635b9b9146c8655a150",
       "value": "Select which secondary particle to plot spectra for."
      }
     },
     "234bc26d1bdc454db32ce045f42ba194": {
      "model_module": "@jupyter-widgets/base",
      "model_module_version": "1.0.0",
      "model_name": "LayoutModel",
      "state": {}
     },
     "239861f2318746d8bd9cb83702437d0e": {
      "model_module": "@jupyter-widgets/controls",
      "model_module_version": "1.1.0",
      "model_name": "DescriptionStyleModel",
      "state": {
       "description_width": ""
      }
     },
     "23c05b24f4314aa78519265ec6bd84df": {
      "model_module": "@jupyter-widgets/base",
      "model_module_version": "1.0.0",
      "model_name": "LayoutModel",
      "state": {}
     },
     "23fb7853f7e54cb294e395420afca9f4": {
      "model_module": "@jupyter-widgets/controls",
      "model_module_version": "1.1.0",
      "model_name": "ToggleButtonsStyleModel",
      "state": {
       "button_width": "",
       "description_width": ""
      }
     },
     "24ba17d9774d4073a4e994a25d40d51d": {
      "model_module": "@jupyter-widgets/controls",
      "model_module_version": "1.1.0",
      "model_name": "CheckboxModel",
      "state": {
       "description": "45°",
       "disabled": false,
       "layout": "IPY_MODEL_41c6123353a245d989a8bde1b0c20baa",
       "style": "IPY_MODEL_d0cf31ea782242468beb9758d21f489e",
       "value": true
      }
     },
     "25054629341f40a6af0ec20bd4256753": {
      "model_module": "@jupyter-widgets/controls",
      "model_module_version": "1.1.0",
      "model_name": "ToggleButtonsStyleModel",
      "state": {
       "button_width": "",
       "description_width": ""
      }
     },
     "25e876c3f90c4f3f8dfd969e5d91c1a4": {
      "model_module": "@jupyter-widgets/controls",
      "model_module_version": "1.1.0",
      "model_name": "DescriptionStyleModel",
      "state": {
       "description_width": ""
      }
     },
     "2600d26c307b4d64b61cddbb1c9c8bf9": {
      "model_module": "@jupyter-widgets/controls",
      "model_module_version": "1.1.0",
      "model_name": "ToggleButtonsStyleModel",
      "state": {
       "button_width": "",
       "description_width": ""
      }
     },
     "2696caeb870d4dfaaa013481d2df2f9b": {
      "model_module": "@jupyter-widgets/controls",
      "model_module_version": "1.1.0",
      "model_name": "DescriptionStyleModel",
      "state": {
       "description_width": ""
      }
     },
     "28327983a7144dda802785386bf344e5": {
      "model_module": "@jupyter-widgets/controls",
      "model_module_version": "1.1.0",
      "model_name": "DescriptionStyleModel",
      "state": {
       "description_width": ""
      }
     },
     "2858d126397546b8be1f6caa310f86de": {
      "model_module": "@jupyter-widgets/controls",
      "model_module_version": "1.1.0",
      "model_name": "LabelModel",
      "state": {
       "layout": "IPY_MODEL_0ce14b6fac51407f83c6f33e8133ce9d",
       "style": "IPY_MODEL_2bbc794ed60648fab66a3d5753df3d8d",
       "value": "Select which secondary particle to plot spectra for."
      }
     },
     "290f6517a4974413ac77c8839dbff117": {
      "model_module": "@jupyter-widgets/controls",
      "model_module_version": "1.1.0",
      "model_name": "LabelModel",
      "state": {
       "layout": "IPY_MODEL_30407ff8bcd242f292717ae55fc69e0f",
       "style": "IPY_MODEL_6efdb2340e02451a9552572577528872",
       "value": "Select the detector angles to plot."
      }
     },
     "295d5bb3ce65469a9acd54ef9b27d655": {
      "model_module": "@jupyter-widgets/base",
      "model_module_version": "1.0.0",
      "model_name": "LayoutModel",
      "state": {}
     },
     "29d3db93db314a9b95c0d4046ba54a75": {
      "model_module": "@jupyter-widgets/controls",
      "model_module_version": "1.1.0",
      "model_name": "LabelModel",
      "state": {
       "layout": "IPY_MODEL_a2c7c3cfda034156a7273cf99e275eaa",
       "style": "IPY_MODEL_b71cf0c8c619417dbee68c5f6ac1d3c4",
       "value": "Select which secondary particle to plot spectra for."
      }
     },
     "29f318090a064ca9b5eec01d4439e4e1": {
      "model_module": "@jupyter-widgets/controls",
      "model_module_version": "1.1.0",
      "model_name": "DescriptionStyleModel",
      "state": {
       "description_width": ""
      }
     },
     "2a0913dcf72e411ca80f20d125322405": {
      "model_module": "@jupyter-widgets/base",
      "model_module_version": "1.0.0",
      "model_name": "LayoutModel",
      "state": {}
     },
     "2a56e738a39c42b7ae89d38553519993": {
      "model_module": "@jupyter-widgets/controls",
      "model_module_version": "1.1.0",
      "model_name": "DescriptionStyleModel",
      "state": {
       "description_width": ""
      }
     },
     "2b77daaeab2946b6ae613f67e7e60193": {
      "model_module": "@jupyter-widgets/base",
      "model_module_version": "1.0.0",
      "model_name": "LayoutModel",
      "state": {}
     },
     "2bbc794ed60648fab66a3d5753df3d8d": {
      "model_module": "@jupyter-widgets/controls",
      "model_module_version": "1.1.0",
      "model_name": "DescriptionStyleModel",
      "state": {
       "description_width": ""
      }
     },
     "2bd1282aaefa4b4a9f8b526e7564db41": {
      "model_module": "@jupyter-widgets/base",
      "model_module_version": "1.0.0",
      "model_name": "LayoutModel",
      "state": {}
     },
     "2be8b6480e1545259a4a3740279c1431": {
      "model_module": "@jupyter-widgets/controls",
      "model_module_version": "1.1.0",
      "model_name": "ToggleButtonsModel",
      "state": {
       "_options_labels": [
        "OLS",
        "NaI"
       ],
       "button_style": "",
       "description": "Type:",
       "icons": [],
       "index": 1,
       "layout": "IPY_MODEL_1bc0fe1be6aa4c15aa1668a0dca5fca8",
       "style": "IPY_MODEL_7c5ed978785a429b9b206f69e356bafc",
       "tooltips": [
        "Organic Liquid Scintillator",
        "Sodium Iodide"
       ]
      }
     },
     "2c85b3e482da47e086ca2c80ce8a29bb": {
      "model_module": "@jupyter-widgets/base",
      "model_module_version": "1.0.0",
      "model_name": "LayoutModel",
      "state": {}
     },
     "2e747fb81d244092853eacf0aec85b3a": {
      "model_module": "@jupyter-widgets/controls",
      "model_module_version": "1.1.0",
      "model_name": "DescriptionStyleModel",
      "state": {
       "description_width": ""
      }
     },
     "2f5368399fa8407bae759281254513f9": {
      "model_module": "@jupyter-widgets/controls",
      "model_module_version": "1.1.0",
      "model_name": "DescriptionStyleModel",
      "state": {
       "description_width": ""
      }
     },
     "2f90a84a8e5c4438a30a321412b6b726": {
      "model_module": "@jupyter-widgets/controls",
      "model_module_version": "1.1.0",
      "model_name": "CheckboxModel",
      "state": {
       "description": "MCNP simulated",
       "disabled": false,
       "layout": "IPY_MODEL_e2afa7cfcc1a41298897da78530a081d",
       "style": "IPY_MODEL_c7742e8a78a045c891f17eec533ac65f",
       "value": true
      }
     },
     "3036287ca66040449e0295f0336a10af": {
      "model_module": "@jupyter-widgets/controls",
      "model_module_version": "1.1.0",
      "model_name": "LabelModel",
      "state": {
       "layout": "IPY_MODEL_62f47ee6e3cb4a56973a12d78275a05a",
       "style": "IPY_MODEL_c664c34b4b654a61976bd21113e6d4e2",
       "value": "Select projectile ion species."
      }
     },
     "30407ff8bcd242f292717ae55fc69e0f": {
      "model_module": "@jupyter-widgets/base",
      "model_module_version": "1.0.0",
      "model_name": "LayoutModel",
      "state": {}
     },
     "3063300bc4d141a08987333120dcb617": {
      "model_module": "@jupyter-widgets/controls",
      "model_module_version": "1.1.0",
      "model_name": "CheckboxModel",
      "state": {
       "description": "135°",
       "disabled": false,
       "layout": "IPY_MODEL_6f33bde3f7e847a7afdbce2b29b2dce2",
       "style": "IPY_MODEL_16315db0526c431084ebae78a9d1afad",
       "value": true
      }
     },
     "3072555a9e1f4fdba977666bb7ebfa77": {
      "model_module": "@jupyter-widgets/base",
      "model_module_version": "1.0.0",
      "model_name": "LayoutModel",
      "state": {}
     },
     "30eed5373ec5436fbf0a748621ee4f21": {
      "model_module": "@jupyter-widgets/controls",
      "model_module_version": "1.1.0",
      "model_name": "CheckboxModel",
      "state": {
       "description": "30°",
       "disabled": false,
       "layout": "IPY_MODEL_4a5c8be0fd00483fa1bdf40cefc5198e",
       "style": "IPY_MODEL_74d5f9b4ab8d4302a37bd20f9f9f0e08",
       "value": true
      }
     },
     "325639152adf4b15b3b1051041ae68eb": {
      "model_module": "@jupyter-widgets/base",
      "model_module_version": "1.0.0",
      "model_name": "LayoutModel",
      "state": {}
     },
     "340227b1db3b4b7e99a991a1fcad0316": {
      "model_module": "@jupyter-widgets/base",
      "model_module_version": "1.0.0",
      "model_name": "LayoutModel",
      "state": {}
     },
     "343114b504ce43fda824ef0816453850": {
      "model_module": "@jupyter-widgets/controls",
      "model_module_version": "1.1.0",
      "model_name": "DescriptionStyleModel",
      "state": {
       "description_width": ""
      }
     },
     "351ce5e01dad43c699861b74f5ad7e01": {
      "model_module": "@jupyter-widgets/base",
      "model_module_version": "1.0.0",
      "model_name": "LayoutModel",
      "state": {}
     },
     "35931f67715d4c6a9251af2ea03c446a": {
      "model_module": "@jupyter-widgets/controls",
      "model_module_version": "1.1.0",
      "model_name": "DescriptionStyleModel",
      "state": {
       "description_width": ""
      }
     },
     "370f4ee7c2e44db992d620b6a6ceb2dd": {
      "model_module": "@jupyter-widgets/controls",
      "model_module_version": "1.1.0",
      "model_name": "DescriptionStyleModel",
      "state": {
       "description_width": ""
      }
     },
     "37dbef5250e14c26b5ef5bd7f3fa56d6": {
      "model_module": "@jupyter-widgets/controls",
      "model_module_version": "1.1.0",
      "model_name": "ToggleButtonsModel",
      "state": {
       "_options_labels": [
        "OLS",
        "NaI"
       ],
       "button_style": "",
       "description": "Type:",
       "icons": [],
       "index": 0,
       "layout": "IPY_MODEL_a7271008a8924a56badb7451ba5fb3db",
       "style": "IPY_MODEL_f8c6878758504288a4ef98490a7bf179",
       "tooltips": [
        "Organic Liquid Scintillator",
        "Sodium Iodide"
       ]
      }
     },
     "3804a43a83904c60a62391076b5dbb2c": {
      "model_module": "@jupyter-widgets/base",
      "model_module_version": "1.0.0",
      "model_name": "LayoutModel",
      "state": {}
     },
     "387c26afccf64375a0a6f06243572aea": {
      "model_module": "@jupyter-widgets/controls",
      "model_module_version": "1.1.0",
      "model_name": "DescriptionStyleModel",
      "state": {
       "description_width": ""
      }
     },
     "388644282a824885afb9277afeea4f70": {
      "model_module": "@jupyter-widgets/base",
      "model_module_version": "1.0.0",
      "model_name": "LayoutModel",
      "state": {}
     },
     "38d579e3bb154fefb863b0dac675d366": {
      "model_module": "@jupyter-widgets/controls",
      "model_module_version": "1.1.0",
      "model_name": "CheckboxModel",
      "state": {
       "description": "30°",
       "disabled": false,
       "layout": "IPY_MODEL_52ad8bb78cee422c90dad374940fe913",
       "style": "IPY_MODEL_c011c67b02e846f88f4fa9afc9ba4323",
       "value": true
      }
     },
     "38e556317afc4ef3b3e660e02239fc61": {
      "model_module": "@jupyter-widgets/base",
      "model_module_version": "1.0.0",
      "model_name": "LayoutModel",
      "state": {}
     },
     "399c7aed982148b7812e34ed0bb543ff": {
      "model_module": "@jupyter-widgets/controls",
      "model_module_version": "1.1.0",
      "model_name": "ToggleButtonsModel",
      "state": {
       "_options_labels": [
        "OLS",
        "NaI"
       ],
       "button_style": "",
       "description": "Detectory type:",
       "icons": [],
       "index": 0,
       "layout": "IPY_MODEL_295d5bb3ce65469a9acd54ef9b27d655",
       "style": "IPY_MODEL_89a398c8217f431ea4a51d7fbe9f240e",
       "tooltips": [
        "Organic Liquid Scintillator",
        "Sodium Iodide"
       ]
      }
     },
     "39d8364dc2564b2ebd83bafec9c69e43": {
      "model_module": "@jupyter-widgets/controls",
      "model_module_version": "1.1.0",
      "model_name": "CheckboxModel",
      "state": {
       "description": "PHITS simulated",
       "disabled": false,
       "layout": "IPY_MODEL_f6f17ed301d94057a0bc97f27e6b7024",
       "style": "IPY_MODEL_465429e0249e4ed895c7a339c506965d",
       "value": true
      }
     },
     "3a19cc5c39f047ad823d1c15fd11c6ba": {
      "model_module": "@jupyter-widgets/controls",
      "model_module_version": "1.1.0",
      "model_name": "DescriptionStyleModel",
      "state": {
       "description_width": ""
      }
     },
     "3a28181ffb7c48c8a0db5f7b94a0b7b9": {
      "model_module": "@jupyter-widgets/base",
      "model_module_version": "1.0.0",
      "model_name": "LayoutModel",
      "state": {}
     },
     "3aabbbe295924549ad6199485064a91b": {
      "model_module": "@jupyter-widgets/controls",
      "model_module_version": "1.1.0",
      "model_name": "DescriptionStyleModel",
      "state": {
       "description_width": ""
      }
     },
     "3b19f73ad74f454db3d139044ffae906": {
      "model_module": "@jupyter-widgets/controls",
      "model_module_version": "1.1.0",
      "model_name": "CheckboxModel",
      "state": {
       "description": "7.2°",
       "disabled": false,
       "layout": "IPY_MODEL_a809e08561f34af1bf29fb92f9f1b6c2",
       "style": "IPY_MODEL_21f5849d07b3473885fecce53d0e112c",
       "value": true
      }
     },
     "3c1a1d7cb0484238a4722a24501e0519": {
      "model_module": "@jupyter-widgets/controls",
      "model_module_version": "1.1.0",
      "model_name": "ToggleButtonsModel",
      "state": {
       "_options_labels": [
        "H",
        "He",
        "C",
        "Si",
        "Fe"
       ],
       "button_style": "",
       "description": "Ion:",
       "icons": [],
       "index": 1,
       "layout": "IPY_MODEL_87129d9865714036ae427bf5d22d6393",
       "style": "IPY_MODEL_65e71b95a6c041509430f4fb06897811",
       "tooltips": [
        "Hydrogen",
        "Helium",
        "Carbon",
        "Silicon",
        "Iron"
       ]
      }
     },
     "3cb83558997740aeb1dbac5417186059": {
      "model_module": "@jupyter-widgets/controls",
      "model_module_version": "1.1.0",
      "model_name": "DescriptionStyleModel",
      "state": {
       "description_width": ""
      }
     },
     "3ea7154df9b74a139506c0f40dc800f4": {
      "model_module": "@jupyter-widgets/controls",
      "model_module_version": "1.1.0",
      "model_name": "LabelModel",
      "state": {
       "layout": "IPY_MODEL_d7eefa870f8c4d0e9c21967a295082e0",
       "style": "IPY_MODEL_995e5fbf85fb4011ade0b12ae8d72130",
       "value": "Select a detector type."
      }
     },
     "3f11f31719bb4615b8e63eafeabda928": {
      "model_module": "@jupyter-widgets/base",
      "model_module_version": "1.0.0",
      "model_name": "LayoutModel",
      "state": {}
     },
     "3f3603034f324ad993c0645e021adfa3": {
      "model_module": "@jupyter-widgets/base",
      "model_module_version": "1.0.0",
      "model_name": "LayoutModel",
      "state": {}
     },
     "3f593129ac0c4ef0a9f064af47474b22": {
      "model_module": "@jupyter-widgets/base",
      "model_module_version": "1.0.0",
      "model_name": "LayoutModel",
      "state": {}
     },
     "3fa0dbfe0fbf4acf816f9fe48781f1e6": {
      "model_module": "@jupyter-widgets/controls",
      "model_module_version": "1.1.0",
      "model_name": "DescriptionStyleModel",
      "state": {
       "description_width": ""
      }
     },
     "3fa362803ddd4c109c430794792cdfe2": {
      "model_module": "@jupyter-widgets/controls",
      "model_module_version": "1.1.0",
      "model_name": "ToggleButtonsModel",
      "state": {
       "_options_labels": [
        "OLS",
        "NaI"
       ],
       "button_style": "",
       "description": "Type:",
       "icons": [],
       "index": 0,
       "layout": "IPY_MODEL_046224b054b0448ea8e0ed8ad64c4b05",
       "style": "IPY_MODEL_caccc658e39e4d8eab1327632eccbe34",
       "tooltips": [
        "Organic Liquid Scintillator",
        "Sodium Iodide"
       ]
      }
     },
     "4088ba6d018e4e63a876d816450947aa": {
      "model_module": "@jupyter-widgets/controls",
      "model_module_version": "1.1.0",
      "model_name": "DescriptionStyleModel",
      "state": {
       "description_width": ""
      }
     },
     "40ddbb06e0014ae08ff988866adf07c1": {
      "model_module": "@jupyter-widgets/base",
      "model_module_version": "1.0.0",
      "model_name": "LayoutModel",
      "state": {}
     },
     "41c6123353a245d989a8bde1b0c20baa": {
      "model_module": "@jupyter-widgets/base",
      "model_module_version": "1.0.0",
      "model_name": "LayoutModel",
      "state": {}
     },
     "41e3926362f243e19a8320c94d209953": {
      "model_module": "@jupyter-widgets/base",
      "model_module_version": "1.0.0",
      "model_name": "LayoutModel",
      "state": {}
     },
     "45ced6062b084a298ed3dcf78ffa98a6": {
      "model_module": "@jupyter-widgets/controls",
      "model_module_version": "1.1.0",
      "model_name": "CheckboxModel",
      "state": {
       "description": "30°",
       "disabled": false,
       "layout": "IPY_MODEL_93c0c364b777479483d8dde8303cd5c9",
       "style": "IPY_MODEL_d489953aa27748ca809f2bfa6fcbdbf6",
       "value": true
      }
     },
     "4613f06e102346389509918e945271e4": {
      "model_module": "@jupyter-widgets/base",
      "model_module_version": "1.0.0",
      "model_name": "LayoutModel",
      "state": {}
     },
     "465429e0249e4ed895c7a339c506965d": {
      "model_module": "@jupyter-widgets/controls",
      "model_module_version": "1.1.0",
      "model_name": "DescriptionStyleModel",
      "state": {
       "description_width": ""
      }
     },
     "4693c63a28be4976a31169004a8d002b": {
      "model_module": "@jupyter-widgets/base",
      "model_module_version": "1.0.0",
      "model_name": "LayoutModel",
      "state": {}
     },
     "46e450b0cee34e4fa614f8ded0109b65": {
      "model_module": "@jupyter-widgets/controls",
      "model_module_version": "1.1.0",
      "model_name": "CheckboxModel",
      "state": {
       "description": "60°",
       "disabled": false,
       "layout": "IPY_MODEL_151abc60134044d5a94d1ed2cc538c10",
       "style": "IPY_MODEL_c13fad6c897e49fc95a5190bb1a14f16",
       "value": true
      }
     },
     "47b451d0705f4e5a99278ecb7a32fa14": {
      "model_module": "@jupyter-widgets/controls",
      "model_module_version": "1.1.0",
      "model_name": "DescriptionStyleModel",
      "state": {
       "description_width": ""
      }
     },
     "47ba5787fa4d46a29489a5bff9350ee7": {
      "model_module": "@jupyter-widgets/controls",
      "model_module_version": "1.1.0",
      "model_name": "CheckboxModel",
      "state": {
       "description": "30°",
       "disabled": false,
       "layout": "IPY_MODEL_9c713958352b42d49e7d241ff01017a5",
       "style": "IPY_MODEL_7286703e5c1347568193beac71fefb31",
       "value": true
      }
     },
     "49015ebd8031493a918323f27b6acefc": {
      "model_module": "@jupyter-widgets/controls",
      "model_module_version": "1.1.0",
      "model_name": "ToggleButtonsModel",
      "state": {
       "_options_labels": [
        "OLS",
        "NaI"
       ],
       "button_style": "",
       "description": "Type:",
       "icons": [],
       "index": 1,
       "layout": "IPY_MODEL_0eefed4c26c24fdd9b4b7a338ffa2d06",
       "style": "IPY_MODEL_e975e26b0362471590a595e5711b6a02",
       "tooltips": [
        "Organic Liquid Scintillator",
        "Sodium Iodide"
       ]
      }
     },
     "491c68a6d7dc4e31a54fc9b25206b9e1": {
      "model_module": "@jupyter-widgets/controls",
      "model_module_version": "1.1.0",
      "model_name": "CheckboxModel",
      "state": {
       "description": "30°",
       "disabled": false,
       "layout": "IPY_MODEL_a6d31dec6d624b0f98c06300248662ea",
       "style": "IPY_MODEL_f8a211f64f1f4f378bcaa6dd3f50b1db",
       "value": true
      }
     },
     "494ed35864824a06877c2dfcc5d747f6": {
      "model_module": "@jupyter-widgets/base",
      "model_module_version": "1.0.0",
      "model_name": "LayoutModel",
      "state": {}
     },
     "49d97c629783467eaf05427d54689f46": {
      "model_module": "@jupyter-widgets/controls",
      "model_module_version": "1.1.0",
      "model_name": "DescriptionStyleModel",
      "state": {
       "description_width": ""
      }
     },
     "4a4c72c0f9b94ba490d720133e36dbf4": {
      "model_module": "@jupyter-widgets/controls",
      "model_module_version": "1.1.0",
      "model_name": "CheckboxModel",
      "state": {
       "description": "12.7°",
       "disabled": false,
       "layout": "IPY_MODEL_d045ed28e7f443a492a3b0a8c145e6bd",
       "style": "IPY_MODEL_29f318090a064ca9b5eec01d4439e4e1",
       "value": true
      }
     },
     "4a5c8be0fd00483fa1bdf40cefc5198e": {
      "model_module": "@jupyter-widgets/base",
      "model_module_version": "1.0.0",
      "model_name": "LayoutModel",
      "state": {}
     },
     "4aa68107177a4fe48b628bb095f66180": {
      "model_module": "@jupyter-widgets/controls",
      "model_module_version": "1.1.0",
      "model_name": "DescriptionStyleModel",
      "state": {
       "description_width": ""
      }
     },
     "4b22a219bb39429aadfbe3662ab9344e": {
      "model_module": "@jupyter-widgets/controls",
      "model_module_version": "1.1.0",
      "model_name": "ToggleButtonsStyleModel",
      "state": {
       "button_width": "",
       "description_width": ""
      }
     },
     "4b60212ad09e40aa9508e02ca4d54fdc": {
      "model_module": "@jupyter-widgets/base",
      "model_module_version": "1.0.0",
      "model_name": "LayoutModel",
      "state": {}
     },
     "4b608a358fb24ba08d1a806019468afe": {
      "model_module": "@jupyter-widgets/controls",
      "model_module_version": "1.1.0",
      "model_name": "DescriptionStyleModel",
      "state": {
       "description_width": ""
      }
     },
     "4e376709764449dcb347924ebfde00e6": {
      "model_module": "@jupyter-widgets/controls",
      "model_module_version": "1.1.0",
      "model_name": "DescriptionStyleModel",
      "state": {
       "description_width": ""
      }
     },
     "4f1190b8cbda46f889e0baa7d9929de6": {
      "model_module": "@jupyter-widgets/controls",
      "model_module_version": "1.1.0",
      "model_name": "DescriptionStyleModel",
      "state": {
       "description_width": ""
      }
     },
     "4f7ecca2fa244146b4cb33d2ca6396d3": {
      "model_module": "@jupyter-widgets/controls",
      "model_module_version": "1.1.0",
      "model_name": "ToggleButtonsModel",
      "state": {
       "_options_labels": [
        "Al",
        "HDPE",
        "AlPE"
       ],
       "button_style": "",
       "description": "Material:",
       "icons": [],
       "index": 0,
       "layout": "IPY_MODEL_a17c6908c7eb480ea1cd7598a0c8cf81",
       "style": "IPY_MODEL_943d6b62d3784ae79ad92e1c89bec15d",
       "tooltips": [
        "Aluminum",
        "Polyethylene",
        "Combination of Al and HDPE"
       ]
      }
     },
     "4ffd4cfb70074db8ac07d1d8cf7325d6": {
      "model_module": "@jupyter-widgets/base",
      "model_module_version": "1.0.0",
      "model_name": "LayoutModel",
      "state": {}
     },
     "5014b7d0d7cd4fffb76abe2230de4cc7": {
      "model_module": "@jupyter-widgets/controls",
      "model_module_version": "1.1.0",
      "model_name": "CheckboxModel",
      "state": {
       "description": "60°",
       "disabled": false,
       "layout": "IPY_MODEL_99c2da3db1304b69bdb9ff3d14c51e3e",
       "style": "IPY_MODEL_e276e5c685494292b6190b0bad23e9f6",
       "value": true
      }
     },
     "507aa9e67bd74d07bc90b72a6b489cb3": {
      "model_module": "@jupyter-widgets/controls",
      "model_module_version": "1.1.0",
      "model_name": "CheckboxModel",
      "state": {
       "description": "Experiment",
       "disabled": false,
       "layout": "IPY_MODEL_dddc16ed883246f0815715672f5991bf",
       "style": "IPY_MODEL_2a56e738a39c42b7ae89d38553519993",
       "value": true
      }
     },
     "50ac177e718e4ad88a72239deb018207": {
      "model_module": "@jupyter-widgets/controls",
      "model_module_version": "1.1.0",
      "model_name": "CheckboxModel",
      "state": {
       "description": "10°",
       "disabled": false,
       "layout": "IPY_MODEL_5bce7c35e254453d81e41fcc938c00ac",
       "style": "IPY_MODEL_fc3c7d1c3a824bc4a7ab4ae7d3a76502",
       "value": true
      }
     },
     "50bf5b82fdcf40549f30bc8f10000f32": {
      "model_module": "@jupyter-widgets/base",
      "model_module_version": "1.0.0",
      "model_name": "LayoutModel",
      "state": {}
     },
     "511397ef520f48a1bd18a902ecf23138": {
      "model_module": "@jupyter-widgets/controls",
      "model_module_version": "1.1.0",
      "model_name": "LabelModel",
      "state": {
       "layout": "IPY_MODEL_d921a36675004b3d9263529f7b8473c8",
       "style": "IPY_MODEL_4b608a358fb24ba08d1a806019468afe",
       "value": "Select which secondary particle to plot spectra for."
      }
     },
     "517769533b984abe859dc81af6864c67": {
      "model_module": "@jupyter-widgets/controls",
      "model_module_version": "1.1.0",
      "model_name": "DescriptionStyleModel",
      "state": {
       "description_width": ""
      }
     },
     "51b6948d26ac4208adc465035d6b9140": {
      "model_module": "@jupyter-widgets/base",
      "model_module_version": "1.0.0",
      "model_name": "LayoutModel",
      "state": {}
     },
     "5245f077e25a410482d2210652e901bf": {
      "model_module": "@jupyter-widgets/base",
      "model_module_version": "1.0.0",
      "model_name": "LayoutModel",
      "state": {}
     },
     "52ad8bb78cee422c90dad374940fe913": {
      "model_module": "@jupyter-widgets/base",
      "model_module_version": "1.0.0",
      "model_name": "LayoutModel",
      "state": {}
     },
     "53cb2360d4f441c387b3d5e6a9f15d9b": {
      "model_module": "@jupyter-widgets/controls",
      "model_module_version": "1.1.0",
      "model_name": "CheckboxModel",
      "state": {
       "description": "Experiment",
       "disabled": false,
       "layout": "IPY_MODEL_2166ce61f48441109f67d654dd830c66",
       "style": "IPY_MODEL_765e107b085741a78596fb1663fbafdb",
       "value": true
      }
     },
     "548e6d09d18b4f059585b74202e21847": {
      "model_module": "@jupyter-widgets/controls",
      "model_module_version": "1.1.0",
      "model_name": "CheckboxModel",
      "state": {
       "description": "30°",
       "disabled": false,
       "layout": "IPY_MODEL_9de1a2aa769f47d29e37631d7962d1c9",
       "style": "IPY_MODEL_6c4eb150c9cf4b37b964232ca3b5107b",
       "value": true
      }
     },
     "54a5c06de8ce4adcbd71df8fd771b4c4": {
      "model_module": "@jupyter-widgets/controls",
      "model_module_version": "1.1.0",
      "model_name": "CheckboxModel",
      "state": {
       "description": "Experiment",
       "disabled": false,
       "layout": "IPY_MODEL_fe5af945dcef46c08027357980776cea",
       "style": "IPY_MODEL_af90e3c5f03a4a37aec96c93311885e7",
       "value": true
      }
     },
     "54a6008ce254488abca9239c5aee6363": {
      "model_module": "@jupyter-widgets/controls",
      "model_module_version": "1.1.0",
      "model_name": "DescriptionStyleModel",
      "state": {
       "description_width": ""
      }
     },
     "54bb34b4459744c28505bd086292de89": {
      "model_module": "@jupyter-widgets/controls",
      "model_module_version": "1.1.0",
      "model_name": "LabelModel",
      "state": {
       "layout": "IPY_MODEL_38e556317afc4ef3b3e660e02239fc61",
       "style": "IPY_MODEL_69cb1aa93beb4082943a60af9ea045db",
       "value": "Select which secondary particle to plot spectra for."
      }
     },
     "55a5703aec6e4ddf86fb580bdcbfe484": {
      "model_module": "@jupyter-widgets/controls",
      "model_module_version": "1.1.0",
      "model_name": "ToggleButtonsStyleModel",
      "state": {
       "button_width": "",
       "description_width": ""
      }
     },
     "56c41aa0c12e46e6981fa32b272843b1": {
      "model_module": "@jupyter-widgets/controls",
      "model_module_version": "1.1.0",
      "model_name": "LabelModel",
      "state": {
       "layout": "IPY_MODEL_bd7e163492cd48788cd5ed22903d5cb0",
       "style": "IPY_MODEL_8481447982d94de88852576479b803bf",
       "value": "Select upstream target mass thickness."
      }
     },
     "571570d1fdb24024b81f8c526ee80215": {
      "model_module": "@jupyter-widgets/base",
      "model_module_version": "1.0.0",
      "model_name": "LayoutModel",
      "state": {}
     },
     "579b23b91a274968b23c4c340dc437c9": {
      "model_module": "@jupyter-widgets/controls",
      "model_module_version": "1.1.0",
      "model_name": "LabelModel",
      "state": {
       "layout": "IPY_MODEL_0337ce54a5744c2592c741f8bf0da893",
       "style": "IPY_MODEL_aa55f5a5dd764cc8a6295cbe1e5903bd",
       "value": "Select the detector angles to plot."
      }
     },
     "591983d72d9a4707a025102bf48ee6a2": {
      "model_module": "@jupyter-widgets/base",
      "model_module_version": "1.0.0",
      "model_name": "LayoutModel",
      "state": {}
     },
     "593b60d7d69a4650828cd601b908e6b9": {
      "model_module": "@jupyter-widgets/controls",
      "model_module_version": "1.1.0",
      "model_name": "DescriptionStyleModel",
      "state": {
       "description_width": ""
      }
     },
     "596ea217ac164fedaf51f67142124c58": {
      "model_module": "@jupyter-widgets/base",
      "model_module_version": "1.0.0",
      "model_name": "LayoutModel",
      "state": {}
     },
     "59d88d47bdd14c89a862b29a2a531ba7": {
      "model_module": "@jupyter-widgets/controls",
      "model_module_version": "1.1.0",
      "model_name": "DescriptionStyleModel",
      "state": {
       "description_width": ""
      }
     },
     "5a1015870ae041e78d2db8b9d6e4d69b": {
      "model_module": "@jupyter-widgets/controls",
      "model_module_version": "1.1.0",
      "model_name": "DescriptionStyleModel",
      "state": {
       "description_width": ""
      }
     },
     "5af719f86866423986c2dfaf7aaf50e7": {
      "model_module": "@jupyter-widgets/controls",
      "model_module_version": "1.1.0",
      "model_name": "DescriptionStyleModel",
      "state": {
       "description_width": ""
      }
     },
     "5b62b7eeb86143959158e4085d77bb88": {
      "model_module": "@jupyter-widgets/base",
      "model_module_version": "1.0.0",
      "model_name": "LayoutModel",
      "state": {}
     },
     "5bce7c35e254453d81e41fcc938c00ac": {
      "model_module": "@jupyter-widgets/base",
      "model_module_version": "1.0.0",
      "model_name": "LayoutModel",
      "state": {}
     },
     "5c0314f0e2ae4326abd5d4ac63c8dc35": {
      "model_module": "@jupyter-widgets/base",
      "model_module_version": "1.0.0",
      "model_name": "LayoutModel",
      "state": {}
     },
     "5db4a76a5eaf4c35be662857f3463261": {
      "model_module": "@jupyter-widgets/controls",
      "model_module_version": "1.1.0",
      "model_name": "ToggleButtonsStyleModel",
      "state": {
       "button_width": "",
       "description_width": ""
      }
     },
     "5ddedfa45f4d484bbf9c56c2604ab531": {
      "model_module": "@jupyter-widgets/base",
      "model_module_version": "1.0.0",
      "model_name": "LayoutModel",
      "state": {}
     },
     "5ddfe0cd2fbd43968f57d4aeffbcbffc": {
      "model_module": "@jupyter-widgets/controls",
      "model_module_version": "1.1.0",
      "model_name": "LabelModel",
      "state": {
       "layout": "IPY_MODEL_6fa780b99cce4d4dbb5783b0de1bf822",
       "style": "IPY_MODEL_eefe43499ee44524b93df0bdab9d7141",
       "value": "Select a detector type."
      }
     },
     "5de24e98135c4d4e84d09043ba2038ef": {
      "model_module": "@jupyter-widgets/controls",
      "model_module_version": "1.1.0",
      "model_name": "DescriptionStyleModel",
      "state": {
       "description_width": ""
      }
     },
     "5e26460dacad4849ad851395b6f30865": {
      "model_module": "@jupyter-widgets/base",
      "model_module_version": "1.0.0",
      "model_name": "LayoutModel",
      "state": {}
     },
     "5e4cae0c677c4d1292f81af524b4844e": {
      "model_module": "@jupyter-widgets/controls",
      "model_module_version": "1.1.0",
      "model_name": "ToggleButtonsModel",
      "state": {
       "_options_labels": [
        "Al",
        "HDPE",
        "AlPE"
       ],
       "button_style": "",
       "description": "Material:",
       "icons": [],
       "index": 0,
       "layout": "IPY_MODEL_9087e4c8a51d43b89f7b2d48774e20ca",
       "style": "IPY_MODEL_25054629341f40a6af0ec20bd4256753",
       "tooltips": [
        "Aluminum",
        "Polyethylene",
        "Combination of Al and HDPE"
       ]
      }
     },
     "5e74ab53a2d343b3b07119aa26b13b7a": {
      "model_module": "@jupyter-widgets/controls",
      "model_module_version": "1.1.0",
      "model_name": "ToggleButtonsModel",
      "state": {
       "_options_labels": [
        "20 g/cm²",
        "60 g/cm²"
       ],
       "button_style": "",
       "description": "Thickness:",
       "icons": [],
       "index": 0,
       "layout": "IPY_MODEL_c294a3be598c47f8aa914edf0fe7cf51",
       "style": "IPY_MODEL_909cf672f04645239c0c033e57f32d23",
       "tooltips": [
        "20 g/cm²",
        "60 g/cm²"
       ]
      }
     },
     "5eeab73556e944f6a02fc3c6602ab6db": {
      "model_module": "@jupyter-widgets/controls",
      "model_module_version": "1.1.0",
      "model_name": "CheckboxModel",
      "state": {
       "description": "Experiment",
       "disabled": false,
       "layout": "IPY_MODEL_b696018911824f1c86ca2809ef37ad9b",
       "style": "IPY_MODEL_ad36910402d448bea2dfcd829d332606",
       "value": true
      }
     },
     "5f3a3cd484814c62a6b32cfe26e22d07": {
      "model_module": "@jupyter-widgets/controls",
      "model_module_version": "1.1.0",
      "model_name": "DescriptionStyleModel",
      "state": {
       "description_width": ""
      }
     },
     "5f9da68bc4a6436881daf25b2d7fbca9": {
      "model_module": "@jupyter-widgets/controls",
      "model_module_version": "1.1.0",
      "model_name": "CheckboxModel",
      "state": {
       "description": "12.7°",
       "disabled": false,
       "layout": "IPY_MODEL_5fccd6f8a2e0437eb337d964df7d8bf8",
       "style": "IPY_MODEL_eb3bc749b5bd437384de45b0ff78c72e",
       "value": true
      }
     },
     "5fccd6f8a2e0437eb337d964df7d8bf8": {
      "model_module": "@jupyter-widgets/base",
      "model_module_version": "1.0.0",
      "model_name": "LayoutModel",
      "state": {}
     },
     "5fd143974646441e9efb80cf682ca8a5": {
      "model_module": "@jupyter-widgets/controls",
      "model_module_version": "1.1.0",
      "model_name": "DescriptionStyleModel",
      "state": {
       "description_width": ""
      }
     },
     "5fef06c9b18146629b8db9e6d8647388": {
      "model_module": "@jupyter-widgets/controls",
      "model_module_version": "1.1.0",
      "model_name": "CheckboxModel",
      "state": {
       "description": "MCNP simulated",
       "disabled": false,
       "layout": "IPY_MODEL_ee9508ad87874fd7b8be8d0efe9d98ad",
       "style": "IPY_MODEL_91d7a13d93c940ee9ac51d72694f32fa",
       "value": true
      }
     },
     "603f8ff406b4486193714d0ccbb23ada": {
      "model_module": "@jupyter-widgets/controls",
      "model_module_version": "1.1.0",
      "model_name": "LabelModel",
      "state": {
       "layout": "IPY_MODEL_f4bcbe0acbd54ece9fa7bc6babb7c729",
       "style": "IPY_MODEL_3fa0dbfe0fbf4acf816f9fe48781f1e6",
       "value": "Select how data sets for each detector should be spaced apart (if at all)."
      }
     },
     "60f108fd0bbb440a9b33994693046154": {
      "model_module": "@jupyter-widgets/base",
      "model_module_version": "1.0.0",
      "model_name": "LayoutModel",
      "state": {}
     },
     "6223168c1f55461595981e5ec71396fd": {
      "model_module": "@jupyter-widgets/controls",
      "model_module_version": "1.1.0",
      "model_name": "DescriptionStyleModel",
      "state": {
       "description_width": ""
      }
     },
     "62f47ee6e3cb4a56973a12d78275a05a": {
      "model_module": "@jupyter-widgets/base",
      "model_module_version": "1.0.0",
      "model_name": "LayoutModel",
      "state": {}
     },
     "637ed75ddebd43dbb94e0c153d7585d5": {
      "model_module": "@jupyter-widgets/base",
      "model_module_version": "1.0.0",
      "model_name": "LayoutModel",
      "state": {}
     },
     "63928daf6d25409caff26b7ab36d100a": {
      "model_module": "@jupyter-widgets/controls",
      "model_module_version": "1.1.0",
      "model_name": "DescriptionStyleModel",
      "state": {
       "description_width": ""
      }
     },
     "63fe9245ac9b425e8a327547db9f4687": {
      "model_module": "@jupyter-widgets/controls",
      "model_module_version": "1.1.0",
      "model_name": "DescriptionStyleModel",
      "state": {
       "description_width": ""
      }
     },
     "64153a858c854c5487553455c4b6aa81": {
      "model_module": "@jupyter-widgets/controls",
      "model_module_version": "1.1.0",
      "model_name": "LabelModel",
      "state": {
       "layout": "IPY_MODEL_92067cbd444b473d85b3f7076739fd9c",
       "style": "IPY_MODEL_7e3ae6fd17d4407687fec65ec250680a",
       "value": "Select upstream target mass thickness."
      }
     },
     "650cb3c7e70a4b00a1783df8732a0810": {
      "model_module": "@jupyter-widgets/controls",
      "model_module_version": "1.1.0",
      "model_name": "ToggleButtonsStyleModel",
      "state": {
       "button_width": "",
       "description_width": ""
      }
     },
     "65e71b95a6c041509430f4fb06897811": {
      "model_module": "@jupyter-widgets/controls",
      "model_module_version": "1.1.0",
      "model_name": "ToggleButtonsStyleModel",
      "state": {
       "button_width": "",
       "description_width": ""
      }
     },
     "66d22769793246faba407f3ea4cf3da2": {
      "model_module": "@jupyter-widgets/controls",
      "model_module_version": "1.1.0",
      "model_name": "CheckboxModel",
      "state": {
       "description": "28.2°",
       "disabled": false,
       "layout": "IPY_MODEL_016af3617c1540cb8e02cb71fbe0670e",
       "style": "IPY_MODEL_4e376709764449dcb347924ebfde00e6",
       "value": true
      }
     },
     "6724eacf71144ea5a9f173472ac5361d": {
      "model_module": "@jupyter-widgets/controls",
      "model_module_version": "1.1.0",
      "model_name": "ToggleButtonsModel",
      "state": {
       "_options_labels": [
        "H",
        "He",
        "C",
        "Si",
        "Fe"
       ],
       "button_style": "",
       "description": "Projectile ion:",
       "icons": [],
       "index": 0,
       "layout": "IPY_MODEL_3f593129ac0c4ef0a9f064af47474b22",
       "style": "IPY_MODEL_fa9b0c391269426f8023ac94e5b71181",
       "tooltips": [
        "Hydrogen",
        "Helium",
        "Carbon",
        "Silicon",
        "Iron"
       ]
      }
     },
     "68536405184d4a60ae304a6d135c72e0": {
      "model_module": "@jupyter-widgets/controls",
      "model_module_version": "1.1.0",
      "model_name": "ToggleButtonsModel",
      "state": {
       "_options_labels": [
        "OLS",
        "NaI"
       ],
       "button_style": "",
       "description": "Type:",
       "icons": [],
       "index": 0,
       "layout": "IPY_MODEL_3f3603034f324ad993c0645e021adfa3",
       "style": "IPY_MODEL_a2cdfab85bf5429c9102f70b25547dac",
       "tooltips": [
        "Organic Liquid Scintillator",
        "Sodium Iodide"
       ]
      }
     },
     "6883ad24f900455e8b32a6daa8bef498": {
      "model_module": "@jupyter-widgets/controls",
      "model_module_version": "1.1.0",
      "model_name": "LabelModel",
      "state": {
       "layout": "IPY_MODEL_95f6017c88ec4e5fa9ec9304f81b5c97",
       "style": "IPY_MODEL_e858a2e6bfff44c9a787a49521f4d6a5",
       "value": "Select the detector angles to plot."
      }
     },
     "69cb1aa93beb4082943a60af9ea045db": {
      "model_module": "@jupyter-widgets/controls",
      "model_module_version": "1.1.0",
      "model_name": "DescriptionStyleModel",
      "state": {
       "description_width": ""
      }
     },
     "69d6fc1b35cd4fd4889f882511b76af2": {
      "model_module": "@jupyter-widgets/base",
      "model_module_version": "1.0.0",
      "model_name": "LayoutModel",
      "state": {}
     },
     "6c4eb150c9cf4b37b964232ca3b5107b": {
      "model_module": "@jupyter-widgets/controls",
      "model_module_version": "1.1.0",
      "model_name": "DescriptionStyleModel",
      "state": {
       "description_width": ""
      }
     },
     "6d3d9cc92a434c7a8a960f204f02c617": {
      "model_module": "@jupyter-widgets/controls",
      "model_module_version": "1.1.0",
      "model_name": "CheckboxModel",
      "state": {
       "description": "80°",
       "disabled": false,
       "layout": "IPY_MODEL_340227b1db3b4b7e99a991a1fcad0316",
       "style": "IPY_MODEL_3cb83558997740aeb1dbac5417186059",
       "value": true
      }
     },
     "6d9d797b2c9e4b87a9e458e95b7feada": {
      "model_module": "@jupyter-widgets/controls",
      "model_module_version": "1.1.0",
      "model_name": "CheckboxModel",
      "state": {
       "description": "80°",
       "disabled": false,
       "layout": "IPY_MODEL_d2bfdaf8796e4f56a2b6c2179e47f23d",
       "style": "IPY_MODEL_a63bb1524dbf4b9bbf3bdf8f5fe2f5d3",
       "value": true
      }
     },
     "6ec086756d0f429ba60e593c5186f95a": {
      "model_module": "@jupyter-widgets/controls",
      "model_module_version": "1.1.0",
      "model_name": "CheckboxModel",
      "state": {
       "description": "30°",
       "disabled": false,
       "layout": "IPY_MODEL_8b7e46866cea4c38a77d25c015daca50",
       "style": "IPY_MODEL_3aabbbe295924549ad6199485064a91b",
       "value": true
      }
     },
     "6ed641be538448b99d6974cecabf6f90": {
      "model_module": "@jupyter-widgets/base",
      "model_module_version": "1.0.0",
      "model_name": "LayoutModel",
      "state": {}
     },
     "6efdb2340e02451a9552572577528872": {
      "model_module": "@jupyter-widgets/controls",
      "model_module_version": "1.1.0",
      "model_name": "DescriptionStyleModel",
      "state": {
       "description_width": ""
      }
     },
     "6f1323d47deb4b9686d9df89c7d7ac6f": {
      "model_module": "@jupyter-widgets/controls",
      "model_module_version": "1.1.0",
      "model_name": "LabelModel",
      "state": {
       "layout": "IPY_MODEL_1211d6f9f9e04653a3a58fdd718ac1ef",
       "style": "IPY_MODEL_c1389914301242d88e0eb8c9f2d979db",
       "value": "Select upstream target mass thickness."
      }
     },
     "6f33bde3f7e847a7afdbce2b29b2dce2": {
      "model_module": "@jupyter-widgets/base",
      "model_module_version": "1.0.0",
      "model_name": "LayoutModel",
      "state": {}
     },
     "6fa780b99cce4d4dbb5783b0de1bf822": {
      "model_module": "@jupyter-widgets/base",
      "model_module_version": "1.0.0",
      "model_name": "LayoutModel",
      "state": {}
     },
     "70e3e49badd545ee81554cf95865dfb5": {
      "model_module": "@jupyter-widgets/controls",
      "model_module_version": "1.1.0",
      "model_name": "DescriptionStyleModel",
      "state": {
       "description_width": ""
      }
     },
     "723b720721b24c5a8434a7ef826a2854": {
      "model_module": "@jupyter-widgets/controls",
      "model_module_version": "1.1.0",
      "model_name": "ToggleButtonsModel",
      "state": {
       "_options_labels": [
        "None",
        "Spaced by 10²"
       ],
       "button_style": "",
       "description": "Extra spectra spacing:",
       "icons": [],
       "index": 0,
       "layout": "IPY_MODEL_6ed641be538448b99d6974cecabf6f90",
       "style": "IPY_MODEL_1f772ee58afb4bd29003d5804c7a5fa8",
       "tooltips": [
        "All values are presented as is.",
        "Plots for different detectors are multiplied by powers of 10² for easier viewing."
       ]
      }
     },
     "7286703e5c1347568193beac71fefb31": {
      "model_module": "@jupyter-widgets/controls",
      "model_module_version": "1.1.0",
      "model_name": "DescriptionStyleModel",
      "state": {
       "description_width": ""
      }
     },
     "72b2eebf41ac4c2db75c3a52ac89f3c9": {
      "model_module": "@jupyter-widgets/controls",
      "model_module_version": "1.1.0",
      "model_name": "DescriptionStyleModel",
      "state": {
       "description_width": ""
      }
     },
     "74c570f03064412d9cf963cde7af81de": {
      "model_module": "@jupyter-widgets/base",
      "model_module_version": "1.0.0",
      "model_name": "LayoutModel",
      "state": {}
     },
     "74d5f9b4ab8d4302a37bd20f9f9f0e08": {
      "model_module": "@jupyter-widgets/controls",
      "model_module_version": "1.1.0",
      "model_name": "DescriptionStyleModel",
      "state": {
       "description_width": ""
      }
     },
     "765e107b085741a78596fb1663fbafdb": {
      "model_module": "@jupyter-widgets/controls",
      "model_module_version": "1.1.0",
      "model_name": "DescriptionStyleModel",
      "state": {
       "description_width": ""
      }
     },
     "7751e08282f645879d45fa1ef176160c": {
      "model_module": "@jupyter-widgets/base",
      "model_module_version": "1.0.0",
      "model_name": "LayoutModel",
      "state": {}
     },
     "782db87c193d436fa1ecbad3207aeda2": {
      "model_module": "@jupyter-widgets/controls",
      "model_module_version": "1.1.0",
      "model_name": "DescriptionStyleModel",
      "state": {
       "description_width": ""
      }
     },
     "78b356ec0e924239a93e39437f8718b1": {
      "model_module": "@jupyter-widgets/controls",
      "model_module_version": "1.1.0",
      "model_name": "DescriptionStyleModel",
      "state": {
       "description_width": ""
      }
     },
     "7b1bc3e9163a46f486adaca5822da113": {
      "model_module": "@jupyter-widgets/controls",
      "model_module_version": "1.1.0",
      "model_name": "CheckboxModel",
      "state": {
       "description": "45°",
       "disabled": false,
       "layout": "IPY_MODEL_2c85b3e482da47e086ca2c80ce8a29bb",
       "style": "IPY_MODEL_387c26afccf64375a0a6f06243572aea",
       "value": true
      }
     },
     "7b67634f3b2e4352a0589661be000b81": {
      "model_module": "@jupyter-widgets/base",
      "model_module_version": "1.0.0",
      "model_name": "LayoutModel",
      "state": {}
     },
     "7b9d7b7cf9c04c9a82cd16d7e2bb05b0": {
      "model_module": "@jupyter-widgets/base",
      "model_module_version": "1.0.0",
      "model_name": "LayoutModel",
      "state": {}
     },
     "7c06d94c93634ca3ba27341ff8025071": {
      "model_module": "@jupyter-widgets/controls",
      "model_module_version": "1.1.0",
      "model_name": "DescriptionStyleModel",
      "state": {
       "description_width": ""
      }
     },
     "7c5ed978785a429b9b206f69e356bafc": {
      "model_module": "@jupyter-widgets/controls",
      "model_module_version": "1.1.0",
      "model_name": "ToggleButtonsStyleModel",
      "state": {
       "button_width": "",
       "description_width": ""
      }
     },
     "7c70579abf784376b1a554b329e8f7fa": {
      "model_module": "@jupyter-widgets/controls",
      "model_module_version": "1.1.0",
      "model_name": "ToggleButtonsModel",
      "state": {
       "_options_labels": [
        "N",
        "NDC",
        "P (¹H)",
        "D (²H)",
        "T (³H)",
        "S (³He)",
        "A (⁴He)"
       ],
       "button_style": "",
       "description": "Type:",
       "icons": [],
       "index": 0,
       "layout": "IPY_MODEL_a9dc937c56c4411caf59d9830da98a11",
       "style": "IPY_MODEL_7e0c4c4bc7b84a30acea838ccc642b24",
       "tooltips": [
        "Neutron",
        "Neutron (deconvoluted)",
        "Proton",
        "Deuteron",
        "Triton",
        "Helium-3",
        "Helium-4"
       ]
      }
     },
     "7d2256d3eb4345e9aeaf404c39e8ce44": {
      "model_module": "@jupyter-widgets/base",
      "model_module_version": "1.0.0",
      "model_name": "LayoutModel",
      "state": {}
     },
     "7e0c4c4bc7b84a30acea838ccc642b24": {
      "model_module": "@jupyter-widgets/controls",
      "model_module_version": "1.1.0",
      "model_name": "ToggleButtonsStyleModel",
      "state": {
       "button_width": "",
       "description_width": ""
      }
     },
     "7e3ae6fd17d4407687fec65ec250680a": {
      "model_module": "@jupyter-widgets/controls",
      "model_module_version": "1.1.0",
      "model_name": "DescriptionStyleModel",
      "state": {
       "description_width": ""
      }
     },
     "7f1320fdde3a4eb58bb722ad2e189b3c": {
      "model_module": "@jupyter-widgets/controls",
      "model_module_version": "1.1.0",
      "model_name": "DescriptionStyleModel",
      "state": {
       "description_width": ""
      }
     },
     "8075994223b34609a39d25c6f20d044e": {
      "model_module": "@jupyter-widgets/controls",
      "model_module_version": "1.1.0",
      "model_name": "CheckboxModel",
      "state": {
       "description": "10°",
       "disabled": false,
       "layout": "IPY_MODEL_c4f62b72adc1452e8968212e837e738e",
       "style": "IPY_MODEL_a98d4fcb2b8848f49b8fe75c7e6d9315",
       "value": true
      }
     },
     "80c974a6982d4c27bab83c49568cae82": {
      "model_module": "@jupyter-widgets/base",
      "model_module_version": "1.0.0",
      "model_name": "LayoutModel",
      "state": {}
     },
     "81e2e55fa6dd422b914850ac73a26643": {
      "model_module": "@jupyter-widgets/controls",
      "model_module_version": "1.1.0",
      "model_name": "CheckboxModel",
      "state": {
       "description": "45°",
       "disabled": false,
       "layout": "IPY_MODEL_cfa5fbf828834cb7b861c2382ce6a0a5",
       "style": "IPY_MODEL_782db87c193d436fa1ecbad3207aeda2",
       "value": true
      }
     },
     "829f31e9b0c8410493c37e562657e989": {
      "model_module": "@jupyter-widgets/base",
      "model_module_version": "1.0.0",
      "model_name": "LayoutModel",
      "state": {}
     },
     "831f0e2103974ca39855e891d8bf9214": {
      "model_module": "@jupyter-widgets/controls",
      "model_module_version": "1.1.0",
      "model_name": "DescriptionStyleModel",
      "state": {
       "description_width": ""
      }
     },
     "832f07517fa54c4890183cf7f1373e1c": {
      "model_module": "@jupyter-widgets/base",
      "model_module_version": "1.0.0",
      "model_name": "LayoutModel",
      "state": {}
     },
     "834dbdd244e6451687709413ee684e3d": {
      "model_module": "@jupyter-widgets/base",
      "model_module_version": "1.0.0",
      "model_name": "LayoutModel",
      "state": {}
     },
     "83a3795ebf384c3b924e161522508d10": {
      "model_module": "@jupyter-widgets/base",
      "model_module_version": "1.0.0",
      "model_name": "LayoutModel",
      "state": {}
     },
     "8481447982d94de88852576479b803bf": {
      "model_module": "@jupyter-widgets/controls",
      "model_module_version": "1.1.0",
      "model_name": "DescriptionStyleModel",
      "state": {
       "description_width": ""
      }
     },
     "8619e2f92fc84b56bf2befcf9a623a64": {
      "model_module": "@jupyter-widgets/controls",
      "model_module_version": "1.1.0",
      "model_name": "ToggleButtonsModel",
      "state": {
       "_options_labels": [
        "H",
        "He",
        "C",
        "Si",
        "Fe"
       ],
       "button_style": "",
       "description": "Projectile ion:",
       "icons": [],
       "index": 0,
       "layout": "IPY_MODEL_1d26bbdb345e4228a599082eb1877107",
       "style": "IPY_MODEL_5db4a76a5eaf4c35be662857f3463261",
       "tooltips": [
        "Hydrogen",
        "Helium",
        "Carbon",
        "Silicon",
        "Iron"
       ]
      }
     },
     "8658947a8ee0460091989d36cf0c0b43": {
      "model_module": "@jupyter-widgets/controls",
      "model_module_version": "1.1.0",
      "model_name": "DescriptionStyleModel",
      "state": {
       "description_width": ""
      }
     },
     "87129d9865714036ae427bf5d22d6393": {
      "model_module": "@jupyter-widgets/base",
      "model_module_version": "1.0.0",
      "model_name": "LayoutModel",
      "state": {}
     },
     "889762aa4e644d949a48ea2d57dac50e": {
      "model_module": "@jupyter-widgets/base",
      "model_module_version": "1.0.0",
      "model_name": "LayoutModel",
      "state": {}
     },
     "88e010f0de57407a93a089228c7f5554": {
      "model_module": "@jupyter-widgets/controls",
      "model_module_version": "1.1.0",
      "model_name": "ToggleButtonsModel",
      "state": {
       "_options_labels": [
        "None",
        "Spaced by 10²"
       ],
       "button_style": "",
       "description": "Spacing:",
       "icons": [],
       "index": 0,
       "layout": "IPY_MODEL_e791ef4198404877b20852aa1f1999dd",
       "style": "IPY_MODEL_650cb3c7e70a4b00a1783df8732a0810",
       "tooltips": [
        "All values are presented as is.",
        "Plots for different detectors are multiplied by powers of 10² for easier viewing."
       ]
      }
     },
     "89059b10c6a14f46805eb8fe0deb3ddc": {
      "model_module": "@jupyter-widgets/controls",
      "model_module_version": "1.1.0",
      "model_name": "DescriptionStyleModel",
      "state": {
       "description_width": ""
      }
     },
     "89a398c8217f431ea4a51d7fbe9f240e": {
      "model_module": "@jupyter-widgets/controls",
      "model_module_version": "1.1.0",
      "model_name": "ToggleButtonsStyleModel",
      "state": {
       "button_width": "",
       "description_width": ""
      }
     },
     "89cf2fbe8d64429093636459b336560c": {
      "model_module": "@jupyter-widgets/base",
      "model_module_version": "1.0.0",
      "model_name": "LayoutModel",
      "state": {}
     },
     "8b103e180fa240dcbbf2cf875917e3e5": {
      "model_module": "@jupyter-widgets/controls",
      "model_module_version": "1.1.0",
      "model_name": "DescriptionStyleModel",
      "state": {
       "description_width": ""
      }
     },
     "8b7e46866cea4c38a77d25c015daca50": {
      "model_module": "@jupyter-widgets/base",
      "model_module_version": "1.0.0",
      "model_name": "LayoutModel",
      "state": {}
     },
     "8d13dbb28bb64adbb64c88da5363cfb1": {
      "model_module": "@jupyter-widgets/controls",
      "model_module_version": "1.1.0",
      "model_name": "LabelModel",
      "state": {
       "layout": "IPY_MODEL_ef12815c062c4b8abf7c166758a426b0",
       "style": "IPY_MODEL_9f3e98c443e24294963f92cb15216426",
       "value": "Select a detector type."
      }
     },
     "8edf04c32e7e45bf8d019403cd1fbd3e": {
      "model_module": "@jupyter-widgets/base",
      "model_module_version": "1.0.0",
      "model_name": "LayoutModel",
      "state": {}
     },
     "8ee2d601aedd46efac0ad7e07770d5af": {
      "model_module": "@jupyter-widgets/controls",
      "model_module_version": "1.1.0",
      "model_name": "CheckboxModel",
      "state": {
       "description": "10°",
       "disabled": false,
       "layout": "IPY_MODEL_0758ae860a9c4504adc31a0935c7f733",
       "style": "IPY_MODEL_fe09287dcce44265aedb2fbe5024622d",
       "value": true
      }
     },
     "904b2190653a462db698f9ee5d0e4b14": {
      "model_module": "@jupyter-widgets/controls",
      "model_module_version": "1.1.0",
      "model_name": "LabelModel",
      "state": {
       "layout": "IPY_MODEL_eb182ea4bdca40d1807c6f191db4fefa",
       "style": "IPY_MODEL_4aa68107177a4fe48b628bb095f66180",
       "value": "Select which secondary particle to plot spectra for."
      }
     },
     "904eb487b2aa4e4d9684c47cc7d7daa6": {
      "model_module": "@jupyter-widgets/controls",
      "model_module_version": "1.1.0",
      "model_name": "CheckboxModel",
      "state": {
       "description": "45°",
       "disabled": false,
       "layout": "IPY_MODEL_4b60212ad09e40aa9508e02ca4d54fdc",
       "style": "IPY_MODEL_5f3a3cd484814c62a6b32cfe26e22d07",
       "value": true
      }
     },
     "9078c4bcddb24a0c80ee96dce02c78cc": {
      "model_module": "@jupyter-widgets/base",
      "model_module_version": "1.0.0",
      "model_name": "LayoutModel",
      "state": {}
     },
     "9087e4c8a51d43b89f7b2d48774e20ca": {
      "model_module": "@jupyter-widgets/base",
      "model_module_version": "1.0.0",
      "model_name": "LayoutModel",
      "state": {}
     },
     "909cf672f04645239c0c033e57f32d23": {
      "model_module": "@jupyter-widgets/controls",
      "model_module_version": "1.1.0",
      "model_name": "ToggleButtonsStyleModel",
      "state": {
       "button_width": "",
       "description_width": ""
      }
     },
     "90e4cb21488d410886e5f278df600e84": {
      "model_module": "@jupyter-widgets/controls",
      "model_module_version": "1.1.0",
      "model_name": "ToggleButtonsStyleModel",
      "state": {
       "button_width": "",
       "description_width": ""
      }
     },
     "9179ac75c4824b0881dc3523718301e3": {
      "model_module": "@jupyter-widgets/controls",
      "model_module_version": "1.1.0",
      "model_name": "LabelModel",
      "state": {
       "layout": "IPY_MODEL_3f11f31719bb4615b8e63eafeabda928",
       "style": "IPY_MODEL_e4375cfc8ff54701b364e8158c74eebf",
       "value": "Select which sets of data to display."
      }
     },
     "91a8c6d91411460a994e09b91adedd71": {
      "model_module": "@jupyter-widgets/base",
      "model_module_version": "1.0.0",
      "model_name": "LayoutModel",
      "state": {}
     },
     "91d7a13d93c940ee9ac51d72694f32fa": {
      "model_module": "@jupyter-widgets/controls",
      "model_module_version": "1.1.0",
      "model_name": "DescriptionStyleModel",
      "state": {
       "description_width": ""
      }
     },
     "92067cbd444b473d85b3f7076739fd9c": {
      "model_module": "@jupyter-widgets/base",
      "model_module_version": "1.0.0",
      "model_name": "LayoutModel",
      "state": {}
     },
     "932eaf835f994e5d948a089f2d35674d": {
      "model_module": "@jupyter-widgets/controls",
      "model_module_version": "1.1.0",
      "model_name": "LabelModel",
      "state": {
       "layout": "IPY_MODEL_7d2256d3eb4345e9aeaf404c39e8ce44",
       "style": "IPY_MODEL_e02a6cabb30a4011baa7c08d86cd7266",
       "value": "Select projectile ion species."
      }
     },
     "9393d654bc5842bc8bb61310d8ae3c22": {
      "model_module": "@jupyter-widgets/base",
      "model_module_version": "1.0.0",
      "model_name": "LayoutModel",
      "state": {}
     },
     "93c0c364b777479483d8dde8303cd5c9": {
      "model_module": "@jupyter-widgets/base",
      "model_module_version": "1.0.0",
      "model_name": "LayoutModel",
      "state": {}
     },
     "943d6b62d3784ae79ad92e1c89bec15d": {
      "model_module": "@jupyter-widgets/controls",
      "model_module_version": "1.1.0",
      "model_name": "ToggleButtonsStyleModel",
      "state": {
       "button_width": "",
       "description_width": ""
      }
     },
     "94c73072c0264f19bd9cf1d113837836": {
      "model_module": "@jupyter-widgets/controls",
      "model_module_version": "1.1.0",
      "model_name": "CheckboxModel",
      "state": {
       "description": "80°",
       "disabled": false,
       "layout": "IPY_MODEL_03dcf3cd83ed429284cfc87240c360b6",
       "style": "IPY_MODEL_aef05aca02d349d3812d463aa0f14160",
       "value": true
      }
     },
     "94ec80295ac74b229dd0a7533a8c5bcd": {
      "model_module": "@jupyter-widgets/controls",
      "model_module_version": "1.1.0",
      "model_name": "DescriptionStyleModel",
      "state": {
       "description_width": ""
      }
     },
     "95f6017c88ec4e5fa9ec9304f81b5c97": {
      "model_module": "@jupyter-widgets/base",
      "model_module_version": "1.0.0",
      "model_name": "LayoutModel",
      "state": {}
     },
     "962bbe88146244f392152c1670e57a12": {
      "model_module": "@jupyter-widgets/controls",
      "model_module_version": "1.1.0",
      "model_name": "LabelModel",
      "state": {
       "layout": "IPY_MODEL_50bf5b82fdcf40549f30bc8f10000f32",
       "style": "IPY_MODEL_239861f2318746d8bd9cb83702437d0e",
       "value": "Select projectile ion species."
      }
     },
     "988a393cd5994582bb58756c59a2cec4": {
      "model_module": "@jupyter-widgets/base",
      "model_module_version": "1.0.0",
      "model_name": "LayoutModel",
      "state": {}
     },
     "995e5fbf85fb4011ade0b12ae8d72130": {
      "model_module": "@jupyter-widgets/controls",
      "model_module_version": "1.1.0",
      "model_name": "DescriptionStyleModel",
      "state": {
       "description_width": ""
      }
     },
     "99bd68cb67c647a19d309a72f54f1d43": {
      "model_module": "@jupyter-widgets/base",
      "model_module_version": "1.0.0",
      "model_name": "LayoutModel",
      "state": {}
     },
     "99c2da3db1304b69bdb9ff3d14c51e3e": {
      "model_module": "@jupyter-widgets/base",
      "model_module_version": "1.0.0",
      "model_name": "LayoutModel",
      "state": {}
     },
     "9a89e80c78b2450b85b47d51a615f9af": {
      "model_module": "@jupyter-widgets/controls",
      "model_module_version": "1.1.0",
      "model_name": "LabelModel",
      "state": {
       "layout": "IPY_MODEL_351ce5e01dad43c699861b74f5ad7e01",
       "style": "IPY_MODEL_befdd3e1c2ea49caa630c9a4812ac374",
       "value": "Select how data sets for each detector should be spaced apart (if at all)."
      }
     },
     "9b7f563911a44030b0c98b1e2b72fb10": {
      "model_module": "@jupyter-widgets/controls",
      "model_module_version": "1.1.0",
      "model_name": "LabelModel",
      "state": {
       "layout": "IPY_MODEL_e38bb0cddc9d419990656dfcee6803a8",
       "style": "IPY_MODEL_f13b3349550249a7a8a8925ed41d5a03",
       "value": "Select a detector type."
      }
     },
     "9bbc77fdd4154a78b93848e63b9411c7": {
      "model_module": "@jupyter-widgets/controls",
      "model_module_version": "1.1.0",
      "model_name": "DescriptionStyleModel",
      "state": {
       "description_width": ""
      }
     },
     "9c713958352b42d49e7d241ff01017a5": {
      "model_module": "@jupyter-widgets/base",
      "model_module_version": "1.0.0",
      "model_name": "LayoutModel",
      "state": {}
     },
     "9ca2baab08d14cfbbc0b308d87b7cf99": {
      "model_module": "@jupyter-widgets/controls",
      "model_module_version": "1.1.0",
      "model_name": "ToggleButtonsStyleModel",
      "state": {
       "button_width": "",
       "description_width": ""
      }
     },
     "9cb56a4403474b9f9d4b8590a8b207c0": {
      "model_module": "@jupyter-widgets/controls",
      "model_module_version": "1.1.0",
      "model_name": "DescriptionStyleModel",
      "state": {
       "description_width": ""
      }
     },
     "9cd3e6c6e5e242f89758ccc80cb5a2e7": {
      "model_module": "@jupyter-widgets/base",
      "model_module_version": "1.0.0",
      "model_name": "LayoutModel",
      "state": {}
     },
     "9d4f6d8efe3e403b85e88c1a136d41e8": {
      "model_module": "@jupyter-widgets/base",
      "model_module_version": "1.0.0",
      "model_name": "LayoutModel",
      "state": {}
     },
     "9de1a2aa769f47d29e37631d7962d1c9": {
      "model_module": "@jupyter-widgets/base",
      "model_module_version": "1.0.0",
      "model_name": "LayoutModel",
      "state": {}
     },
     "9e124599713245f492fe46f1ea8d03f2": {
      "model_module": "@jupyter-widgets/controls",
      "model_module_version": "1.1.0",
      "model_name": "DescriptionStyleModel",
      "state": {
       "description_width": ""
      }
     },
     "9e46b393d2354c6ab0055faf999d3900": {
      "model_module": "@jupyter-widgets/controls",
      "model_module_version": "1.1.0",
      "model_name": "LabelModel",
      "state": {
       "layout": "IPY_MODEL_2bd1282aaefa4b4a9f8b526e7564db41",
       "style": "IPY_MODEL_49d97c629783467eaf05427d54689f46",
       "value": "Select a detector type."
      }
     },
     "9e59dc885fa6447cbd7dd77fe6517959": {
      "model_module": "@jupyter-widgets/controls",
      "model_module_version": "1.1.0",
      "model_name": "CheckboxModel",
      "state": {
       "description": "12.7°",
       "disabled": false,
       "layout": "IPY_MODEL_c703ec114cbc40e39240096c9f44dd1e",
       "style": "IPY_MODEL_ab8cb460c1fc404e9ff28cce88456bd2",
       "value": true
      }
     },
     "9f3e98c443e24294963f92cb15216426": {
      "model_module": "@jupyter-widgets/controls",
      "model_module_version": "1.1.0",
      "model_name": "DescriptionStyleModel",
      "state": {
       "description_width": ""
      }
     },
     "9f6c28c005314a9b83e039513ce02007": {
      "model_module": "@jupyter-widgets/controls",
      "model_module_version": "1.1.0",
      "model_name": "DescriptionStyleModel",
      "state": {
       "description_width": ""
      }
     },
     "9f763b7c89ca49f8aea9558c5b5601d5": {
      "model_module": "@jupyter-widgets/controls",
      "model_module_version": "1.1.0",
      "model_name": "CheckboxModel",
      "state": {
       "description": "10°",
       "disabled": false,
       "layout": "IPY_MODEL_8edf04c32e7e45bf8d019403cd1fbd3e",
       "style": "IPY_MODEL_2696caeb870d4dfaaa013481d2df2f9b",
       "value": true
      }
     },
     "9f7e1d47276241ba979dbbfe1b08cad0": {
      "model_module": "@jupyter-widgets/controls",
      "model_module_version": "1.1.0",
      "model_name": "CheckboxModel",
      "state": {
       "description": "135°",
       "disabled": false,
       "layout": "IPY_MODEL_ac503fd9ea97473ea3b44c542ac48fab",
       "style": "IPY_MODEL_f7cd482253f94585a80d6bb115ec989f",
       "value": true
      }
     },
     "9f963bc2800f44bbbdd7bfbc77349a64": {
      "model_module": "@jupyter-widgets/base",
      "model_module_version": "1.0.0",
      "model_name": "LayoutModel",
      "state": {}
     },
     "9fa76948a41e42ddba6a054a4b238c5d": {
      "model_module": "@jupyter-widgets/controls",
      "model_module_version": "1.1.0",
      "model_name": "ToggleButtonsModel",
      "state": {
       "_options_labels": [
        "H",
        "He",
        "C",
        "Si",
        "Fe"
       ],
       "button_style": "",
       "description": "Ion:",
       "icons": [],
       "index": 3,
       "layout": "IPY_MODEL_1c30df6baca14be9b804620d10110d72",
       "style": "IPY_MODEL_e504e3870f2d434b9b3ce8047fb6ce6a",
       "tooltips": [
        "Hydrogen",
        "Helium",
        "Carbon",
        "Silicon",
        "Iron"
       ]
      }
     },
     "9fc2d2b3192b45b1aec9b17232629d68": {
      "model_module": "@jupyter-widgets/controls",
      "model_module_version": "1.1.0",
      "model_name": "ToggleButtonsModel",
      "state": {
       "_options_labels": [
        "OLS",
        "NaI"
       ],
       "button_style": "",
       "description": "Type:",
       "icons": [],
       "index": 0,
       "layout": "IPY_MODEL_2a0913dcf72e411ca80f20d125322405",
       "style": "IPY_MODEL_077e109affea4d699a6c5e1910bcab11",
       "tooltips": [
        "Organic Liquid Scintillator",
        "Sodium Iodide"
       ]
      }
     },
     "a0a70b01bf0f4416b4512dfbe503b768": {
      "model_module": "@jupyter-widgets/controls",
      "model_module_version": "1.1.0",
      "model_name": "LabelModel",
      "state": {
       "layout": "IPY_MODEL_15e42c4133524de2b2ea86582941de1f",
       "style": "IPY_MODEL_517769533b984abe859dc81af6864c67",
       "value": "Select the detector angles to plot."
      }
     },
     "a141122ae577468f8b3f1c79b03dc382": {
      "model_module": "@jupyter-widgets/controls",
      "model_module_version": "1.1.0",
      "model_name": "DescriptionStyleModel",
      "state": {
       "description_width": ""
      }
     },
     "a1568ebb0c4740f5bfb67411bb4921e5": {
      "model_module": "@jupyter-widgets/controls",
      "model_module_version": "1.1.0",
      "model_name": "ToggleButtonsModel",
      "state": {
       "_options_labels": [
        "400 MeV",
        "800 MeV",
        "2500 MeV"
       ],
       "button_style": "",
       "description": "Projectile energy:",
       "icons": [],
       "index": 0,
       "layout": "IPY_MODEL_d59349eafc6d4521ae99554754cf77ee",
       "style": "IPY_MODEL_23fb7853f7e54cb294e395420afca9f4",
       "tooltips": [
        "lowest energy",
        "middle energy",
        "highest energy"
       ]
      }
     },
     "a17c6908c7eb480ea1cd7598a0c8cf81": {
      "model_module": "@jupyter-widgets/base",
      "model_module_version": "1.0.0",
      "model_name": "LayoutModel",
      "state": {}
     },
     "a20b631d661f4e6a9754ccdd1b8279ae": {
      "model_module": "@jupyter-widgets/base",
      "model_module_version": "1.0.0",
      "model_name": "LayoutModel",
      "state": {}
     },
     "a2c7c3cfda034156a7273cf99e275eaa": {
      "model_module": "@jupyter-widgets/base",
      "model_module_version": "1.0.0",
      "model_name": "LayoutModel",
      "state": {}
     },
     "a2cdfab85bf5429c9102f70b25547dac": {
      "model_module": "@jupyter-widgets/controls",
      "model_module_version": "1.1.0",
      "model_name": "ToggleButtonsStyleModel",
      "state": {
       "button_width": "",
       "description_width": ""
      }
     },
     "a311037077c543ca9c84276971387c3d": {
      "model_module": "@jupyter-widgets/controls",
      "model_module_version": "1.1.0",
      "model_name": "DescriptionStyleModel",
      "state": {
       "description_width": ""
      }
     },
     "a3110c2fdc194605b45afce71bc335ff": {
      "model_module": "@jupyter-widgets/controls",
      "model_module_version": "1.1.0",
      "model_name": "ToggleButtonsStyleModel",
      "state": {
       "button_width": "",
       "description_width": ""
      }
     },
     "a39a0b6219a04e33ac8128e88b31eec9": {
      "model_module": "@jupyter-widgets/base",
      "model_module_version": "1.0.0",
      "model_name": "LayoutModel",
      "state": {}
     },
     "a3d9fd0254bb40da9e7e0e1e29c3dc3c": {
      "model_module": "@jupyter-widgets/base",
      "model_module_version": "1.0.0",
      "model_name": "LayoutModel",
      "state": {}
     },
     "a3f67666026247e1a13bf7408630e849": {
      "model_module": "@jupyter-widgets/controls",
      "model_module_version": "1.1.0",
      "model_name": "CheckboxModel",
      "state": {
       "description": "PHITS simulated",
       "disabled": false,
       "layout": "IPY_MODEL_4613f06e102346389509918e945271e4",
       "style": "IPY_MODEL_9cb56a4403474b9f9d4b8590a8b207c0",
       "value": true
      }
     },
     "a41aefaded0c42d8b1f36b278b07e298": {
      "model_module": "@jupyter-widgets/controls",
      "model_module_version": "1.1.0",
      "model_name": "DescriptionStyleModel",
      "state": {
       "description_width": ""
      }
     },
     "a43aaf853fea4dc18647a4ff3ec3114d": {
      "model_module": "@jupyter-widgets/base",
      "model_module_version": "1.0.0",
      "model_name": "LayoutModel",
      "state": {}
     },
     "a5371a7f7e1c47cfb165de66a8ce1d9c": {
      "model_module": "@jupyter-widgets/controls",
      "model_module_version": "1.1.0",
      "model_name": "DescriptionStyleModel",
      "state": {
       "description_width": ""
      }
     },
     "a5d0018f08da4128b67b1780ae21704a": {
      "model_module": "@jupyter-widgets/controls",
      "model_module_version": "1.1.0",
      "model_name": "DescriptionStyleModel",
      "state": {
       "description_width": ""
      }
     },
     "a63bb1524dbf4b9bbf3bdf8f5fe2f5d3": {
      "model_module": "@jupyter-widgets/controls",
      "model_module_version": "1.1.0",
      "model_name": "DescriptionStyleModel",
      "state": {
       "description_width": ""
      }
     },
     "a6511527a3ec4002aa89520eafdabe73": {
      "model_module": "@jupyter-widgets/base",
      "model_module_version": "1.0.0",
      "model_name": "LayoutModel",
      "state": {}
     },
     "a692bd63ab7c48f295ccea4406aef904": {
      "model_module": "@jupyter-widgets/base",
      "model_module_version": "1.0.0",
      "model_name": "LayoutModel",
      "state": {}
     },
     "a6d31dec6d624b0f98c06300248662ea": {
      "model_module": "@jupyter-widgets/base",
      "model_module_version": "1.0.0",
      "model_name": "LayoutModel",
      "state": {}
     },
     "a7271008a8924a56badb7451ba5fb3db": {
      "model_module": "@jupyter-widgets/base",
      "model_module_version": "1.0.0",
      "model_name": "LayoutModel",
      "state": {}
     },
     "a76fc7e48def40c6a67df56445524233": {
      "model_module": "@jupyter-widgets/controls",
      "model_module_version": "1.1.0",
      "model_name": "LabelModel",
      "state": {
       "layout": "IPY_MODEL_5ddedfa45f4d484bbf9c56c2604ab531",
       "style": "IPY_MODEL_8b103e180fa240dcbbf2cf875917e3e5",
       "value": "Select projectile ion species."
      }
     },
     "a7996541a0784400a55ad34301b75938": {
      "model_module": "@jupyter-widgets/controls",
      "model_module_version": "1.1.0",
      "model_name": "CheckboxModel",
      "state": {
       "description": "MCNP sim.",
       "disabled": false,
       "layout": "IPY_MODEL_3804a43a83904c60a62391076b5dbb2c",
       "style": "IPY_MODEL_89059b10c6a14f46805eb8fe0deb3ddc",
       "value": true
      }
     },
     "a809e08561f34af1bf29fb92f9f1b6c2": {
      "model_module": "@jupyter-widgets/base",
      "model_module_version": "1.0.0",
      "model_name": "LayoutModel",
      "state": {}
     },
     "a8e1f7f6b2d14d089727dea96ddd4fca": {
      "model_module": "@jupyter-widgets/controls",
      "model_module_version": "1.1.0",
      "model_name": "CheckboxModel",
      "state": {
       "description": "28.2°",
       "disabled": false,
       "layout": "IPY_MODEL_cc70111a19d94fc791c02b7ec4bbe159",
       "style": "IPY_MODEL_dc0ae02645da44c493796fb07d1b0888",
       "value": true
      }
     },
     "a98d4fcb2b8848f49b8fe75c7e6d9315": {
      "model_module": "@jupyter-widgets/controls",
      "model_module_version": "1.1.0",
      "model_name": "DescriptionStyleModel",
      "state": {
       "description_width": ""
      }
     },
     "a9dc937c56c4411caf59d9830da98a11": {
      "model_module": "@jupyter-widgets/base",
      "model_module_version": "1.0.0",
      "model_name": "LayoutModel",
      "state": {}
     },
     "aa2c1f5ef7a94d079d5ed5026d0aaa7c": {
      "model_module": "@jupyter-widgets/controls",
      "model_module_version": "1.1.0",
      "model_name": "DescriptionStyleModel",
      "state": {
       "description_width": ""
      }
     },
     "aa55f5a5dd764cc8a6295cbe1e5903bd": {
      "model_module": "@jupyter-widgets/controls",
      "model_module_version": "1.1.0",
      "model_name": "DescriptionStyleModel",
      "state": {
       "description_width": ""
      }
     },
     "aae4adf9553e4a9096373ce3db4ba1e4": {
      "model_module": "@jupyter-widgets/base",
      "model_module_version": "1.0.0",
      "model_name": "LayoutModel",
      "state": {}
     },
     "ab8cb460c1fc404e9ff28cce88456bd2": {
      "model_module": "@jupyter-widgets/controls",
      "model_module_version": "1.1.0",
      "model_name": "DescriptionStyleModel",
      "state": {
       "description_width": ""
      }
     },
     "ac503fd9ea97473ea3b44c542ac48fab": {
      "model_module": "@jupyter-widgets/base",
      "model_module_version": "1.0.0",
      "model_name": "LayoutModel",
      "state": {}
     },
     "acbc4eec12c84b1a95db9c9ea2c9b226": {
      "model_module": "@jupyter-widgets/base",
      "model_module_version": "1.0.0",
      "model_name": "LayoutModel",
      "state": {}
     },
     "ad0b604d2d204b1d89b67b5906a1102a": {
      "model_module": "@jupyter-widgets/controls",
      "model_module_version": "1.1.0",
      "model_name": "CheckboxModel",
      "state": {
       "description": "30°",
       "disabled": false,
       "layout": "IPY_MODEL_89cf2fbe8d64429093636459b336560c",
       "style": "IPY_MODEL_a5d0018f08da4128b67b1780ae21704a",
       "value": true
      }
     },
     "ad36910402d448bea2dfcd829d332606": {
      "model_module": "@jupyter-widgets/controls",
      "model_module_version": "1.1.0",
      "model_name": "DescriptionStyleModel",
      "state": {
       "description_width": ""
      }
     },
     "adef8af3dbef49b5bf0fe6ddeef89d06": {
      "model_module": "@jupyter-widgets/controls",
      "model_module_version": "1.1.0",
      "model_name": "DescriptionStyleModel",
      "state": {
       "description_width": ""
      }
     },
     "ae22be5c28e94de696808e167388ef1f": {
      "model_module": "@jupyter-widgets/base",
      "model_module_version": "1.0.0",
      "model_name": "LayoutModel",
      "state": {}
     },
     "ae58877b32bd4dd5ba8bfdb979bee38a": {
      "model_module": "@jupyter-widgets/base",
      "model_module_version": "1.0.0",
      "model_name": "LayoutModel",
      "state": {}
     },
     "ae5e40e17b574b05bbb72848898cb6a1": {
      "model_module": "@jupyter-widgets/controls",
      "model_module_version": "1.1.0",
      "model_name": "CheckboxModel",
      "state": {
       "description": "10°",
       "disabled": false,
       "layout": "IPY_MODEL_3a28181ffb7c48c8a0db5f7b94a0b7b9",
       "style": "IPY_MODEL_ecb67a303385458cb0a68adc15ac1fc7",
       "value": true
      }
     },
     "ae7c46f2f69f4776accd5fb7c29f2382": {
      "model_module": "@jupyter-widgets/controls",
      "model_module_version": "1.1.0",
      "model_name": "DescriptionStyleModel",
      "state": {
       "description_width": ""
      }
     },
     "aef05aca02d349d3812d463aa0f14160": {
      "model_module": "@jupyter-widgets/controls",
      "model_module_version": "1.1.0",
      "model_name": "DescriptionStyleModel",
      "state": {
       "description_width": ""
      }
     },
     "af5c2f359c3243a8ae68a070a614e44e": {
      "model_module": "@jupyter-widgets/controls",
      "model_module_version": "1.1.0",
      "model_name": "CheckboxModel",
      "state": {
       "description": "135°",
       "disabled": false,
       "layout": "IPY_MODEL_d5e2e35deb844291b27a458a0dc4ce24",
       "style": "IPY_MODEL_f233b0f7df684cf19f9a4b1a0e80fc0f",
       "value": true
      }
     },
     "af90e3c5f03a4a37aec96c93311885e7": {
      "model_module": "@jupyter-widgets/controls",
      "model_module_version": "1.1.0",
      "model_name": "DescriptionStyleModel",
      "state": {
       "description_width": ""
      }
     },
     "b1062ded5fbc4a64bd7545d7c37d46b0": {
      "model_module": "@jupyter-widgets/controls",
      "model_module_version": "1.1.0",
      "model_name": "CheckboxModel",
      "state": {
       "description": "60°",
       "disabled": false,
       "layout": "IPY_MODEL_1ccf22597e434af5bab9dad773320ed1",
       "style": "IPY_MODEL_63fe9245ac9b425e8a327547db9f4687",
       "value": true
      }
     },
     "b4224b2fafed4dcfadcf9665d1ea7e3d": {
      "model_module": "@jupyter-widgets/controls",
      "model_module_version": "1.1.0",
      "model_name": "LabelModel",
      "state": {
       "layout": "IPY_MODEL_0f76e3888d8341d28dd5fed39c244e0e",
       "style": "IPY_MODEL_35931f67715d4c6a9251af2ea03c446a",
       "value": "Select a detector type."
      }
     },
     "b5a3eda61acd460b9dd2c0c55b28a91f": {
      "model_module": "@jupyter-widgets/controls",
      "model_module_version": "1.1.0",
      "model_name": "CheckboxModel",
      "state": {
       "description": "10°",
       "disabled": false,
       "layout": "IPY_MODEL_15689425cbfc4a4c971397446beb65e8",
       "style": "IPY_MODEL_5de24e98135c4d4e84d09043ba2038ef",
       "value": true
      }
     },
     "b67d9bc72cb3401ea3dfc1053440b044": {
      "model_module": "@jupyter-widgets/controls",
      "model_module_version": "1.1.0",
      "model_name": "CheckboxModel",
      "state": {
       "description": "80°",
       "disabled": false,
       "layout": "IPY_MODEL_5245f077e25a410482d2210652e901bf",
       "style": "IPY_MODEL_ece4d2aad3f0431485bdbeb4ca86c6d4",
       "value": true
      }
     },
     "b696018911824f1c86ca2809ef37ad9b": {
      "model_module": "@jupyter-widgets/base",
      "model_module_version": "1.0.0",
      "model_name": "LayoutModel",
      "state": {}
     },
     "b6a2edf235af46d7b7886ef150bcd0a3": {
      "model_module": "@jupyter-widgets/controls",
      "model_module_version": "1.1.0",
      "model_name": "LabelModel",
      "state": {
       "layout": "IPY_MODEL_60f108fd0bbb440a9b33994693046154",
       "style": "IPY_MODEL_9e124599713245f492fe46f1ea8d03f2",
       "value": "Select the detector angles to plot."
      }
     },
     "b71c3a8d9a2f48ea8113db14d33ee897": {
      "model_module": "@jupyter-widgets/controls",
      "model_module_version": "1.1.0",
      "model_name": "DescriptionStyleModel",
      "state": {
       "description_width": ""
      }
     },
     "b71cf0c8c619417dbee68c5f6ac1d3c4": {
      "model_module": "@jupyter-widgets/controls",
      "model_module_version": "1.1.0",
      "model_name": "DescriptionStyleModel",
      "state": {
       "description_width": ""
      }
     },
     "b80eff2ecb82408c8635136c0345cbc7": {
      "model_module": "@jupyter-widgets/controls",
      "model_module_version": "1.1.0",
      "model_name": "CheckboxModel",
      "state": {
       "description": "60°",
       "disabled": false,
       "layout": "IPY_MODEL_74c570f03064412d9cf963cde7af81de",
       "style": "IPY_MODEL_63928daf6d25409caff26b7ab36d100a",
       "value": true
      }
     },
     "bb37a85d2fc24a6ab83c4651f26ddbbd": {
      "model_module": "@jupyter-widgets/controls",
      "model_module_version": "1.1.0",
      "model_name": "CheckboxModel",
      "state": {
       "description": "10°",
       "disabled": false,
       "layout": "IPY_MODEL_832f07517fa54c4890183cf7f1373e1c",
       "style": "IPY_MODEL_1ebf963a3f6c45cf90efcce937720a07",
       "value": true
      }
     },
     "bba782140ef64349a4ec8fbbe71012ab": {
      "model_module": "@jupyter-widgets/controls",
      "model_module_version": "1.1.0",
      "model_name": "LabelModel",
      "state": {
       "layout": "IPY_MODEL_4ffd4cfb70074db8ac07d1d8cf7325d6",
       "style": "IPY_MODEL_831f0e2103974ca39855e891d8bf9214",
       "value": "Select the detector angles to plot."
      }
     },
     "bba8bdcec8ad4732b08dec40c092396f": {
      "model_module": "@jupyter-widgets/controls",
      "model_module_version": "1.1.0",
      "model_name": "ToggleButtonsModel",
      "state": {
       "_options_labels": [
        "H",
        "He",
        "C",
        "Si",
        "Fe"
       ],
       "button_style": "",
       "description": "Ion:",
       "icons": [],
       "index": 1,
       "layout": "IPY_MODEL_a43aaf853fea4dc18647a4ff3ec3114d",
       "style": "IPY_MODEL_a3110c2fdc194605b45afce71bc335ff",
       "tooltips": [
        "Hydrogen",
        "Helium",
        "Carbon",
        "Silicon",
        "Iron"
       ]
      }
     },
     "bccc581e49014ff18c58effdb72679b3": {
      "model_module": "@jupyter-widgets/base",
      "model_module_version": "1.0.0",
      "model_name": "LayoutModel",
      "state": {}
     },
     "bd7e163492cd48788cd5ed22903d5cb0": {
      "model_module": "@jupyter-widgets/base",
      "model_module_version": "1.0.0",
      "model_name": "LayoutModel",
      "state": {}
     },
     "bdc22a99975b43b482241a7f79ff85ce": {
      "model_module": "@jupyter-widgets/controls",
      "model_module_version": "1.1.0",
      "model_name": "LabelModel",
      "state": {
       "layout": "IPY_MODEL_f3ad70d074f14fb29d3e3e092c92e272",
       "style": "IPY_MODEL_2f5368399fa8407bae759281254513f9",
       "value": "Select the detector angles to plot."
      }
     },
     "befdd3e1c2ea49caa630c9a4812ac374": {
      "model_module": "@jupyter-widgets/controls",
      "model_module_version": "1.1.0",
      "model_name": "DescriptionStyleModel",
      "state": {
       "description_width": ""
      }
     },
     "bfd76b866fce44aa921ab72cc6d1c12f": {
      "model_module": "@jupyter-widgets/controls",
      "model_module_version": "1.1.0",
      "model_name": "ToggleButtonsStyleModel",
      "state": {
       "button_width": "",
       "description_width": ""
      }
     },
     "c011c67b02e846f88f4fa9afc9ba4323": {
      "model_module": "@jupyter-widgets/controls",
      "model_module_version": "1.1.0",
      "model_name": "DescriptionStyleModel",
      "state": {
       "description_width": ""
      }
     },
     "c1389914301242d88e0eb8c9f2d979db": {
      "model_module": "@jupyter-widgets/controls",
      "model_module_version": "1.1.0",
      "model_name": "DescriptionStyleModel",
      "state": {
       "description_width": ""
      }
     },
     "c13fad6c897e49fc95a5190bb1a14f16": {
      "model_module": "@jupyter-widgets/controls",
      "model_module_version": "1.1.0",
      "model_name": "DescriptionStyleModel",
      "state": {
       "description_width": ""
      }
     },
     "c1b5218451a5463aaba4be6b444620f8": {
      "model_module": "@jupyter-widgets/controls",
      "model_module_version": "1.1.0",
      "model_name": "DescriptionStyleModel",
      "state": {
       "description_width": ""
      }
     },
     "c294a3be598c47f8aa914edf0fe7cf51": {
      "model_module": "@jupyter-widgets/base",
      "model_module_version": "1.0.0",
      "model_name": "LayoutModel",
      "state": {}
     },
     "c29cc05323c04386b96f17e5e883f3bb": {
      "model_module": "@jupyter-widgets/controls",
      "model_module_version": "1.1.0",
      "model_name": "CheckboxModel",
      "state": {
       "description": "45°",
       "disabled": false,
       "layout": "IPY_MODEL_23c05b24f4314aa78519265ec6bd84df",
       "style": "IPY_MODEL_94ec80295ac74b229dd0a7533a8c5bcd",
       "value": true
      }
     },
     "c4f62b72adc1452e8968212e837e738e": {
      "model_module": "@jupyter-widgets/base",
      "model_module_version": "1.0.0",
      "model_name": "LayoutModel",
      "state": {}
     },
     "c5651626f653475389ff56bd6d859053": {
      "model_module": "@jupyter-widgets/controls",
      "model_module_version": "1.1.0",
      "model_name": "LabelModel",
      "state": {
       "layout": "IPY_MODEL_834dbdd244e6451687709413ee684e3d",
       "style": "IPY_MODEL_47b451d0705f4e5a99278ecb7a32fa14",
       "value": "Select projectile ion energy."
      }
     },
     "c572f07533824369b06f5405baa71387": {
      "model_module": "@jupyter-widgets/controls",
      "model_module_version": "1.1.0",
      "model_name": "ToggleButtonsModel",
      "state": {
       "_options_labels": [
        "None",
        "Spaced by powers of 10²"
       ],
       "button_style": "",
       "description": "Extra spectra spacing:",
       "icons": [],
       "index": 0,
       "layout": "IPY_MODEL_9f963bc2800f44bbbdd7bfbc77349a64",
       "style": "IPY_MODEL_01f72b147b784cc9ba5906f2ca107057",
       "tooltips": [
        "All values are presented as is.",
        "Plots for different detectors are multiplied by powers of 10² for easier viewing."
       ]
      }
     },
     "c61e1f7869294918b86cef1ee53ffcf6": {
      "model_module": "@jupyter-widgets/controls",
      "model_module_version": "1.1.0",
      "model_name": "CheckboxModel",
      "state": {
       "description": "45°",
       "disabled": false,
       "layout": "IPY_MODEL_cea380802af2442091b4df88b4870f06",
       "style": "IPY_MODEL_a141122ae577468f8b3f1c79b03dc382",
       "value": true
      }
     },
     "c664c34b4b654a61976bd21113e6d4e2": {
      "model_module": "@jupyter-widgets/controls",
      "model_module_version": "1.1.0",
      "model_name": "DescriptionStyleModel",
      "state": {
       "description_width": ""
      }
     },
     "c669a7878a2f4b5998664f3d1a967d02": {
      "model_module": "@jupyter-widgets/base",
      "model_module_version": "1.0.0",
      "model_name": "LayoutModel",
      "state": {}
     },
     "c6a1b9433eb64e99a0423142484aa85c": {
      "model_module": "@jupyter-widgets/controls",
      "model_module_version": "1.1.0",
      "model_name": "ToggleButtonsStyleModel",
      "state": {
       "button_width": "",
       "description_width": ""
      }
     },
     "c703ec114cbc40e39240096c9f44dd1e": {
      "model_module": "@jupyter-widgets/base",
      "model_module_version": "1.0.0",
      "model_name": "LayoutModel",
      "state": {}
     },
     "c7742e8a78a045c891f17eec533ac65f": {
      "model_module": "@jupyter-widgets/controls",
      "model_module_version": "1.1.0",
      "model_name": "DescriptionStyleModel",
      "state": {
       "description_width": ""
      }
     },
     "c7f45aab52e94b24a10bf88e9e868291": {
      "model_module": "@jupyter-widgets/controls",
      "model_module_version": "1.1.0",
      "model_name": "CheckboxModel",
      "state": {
       "description": "80°",
       "disabled": false,
       "layout": "IPY_MODEL_1343ff4e746c4800991407de65ac09e2",
       "style": "IPY_MODEL_78b356ec0e924239a93e39437f8718b1",
       "value": true
      }
     },
     "ca0976282fdc4ea9a9e31a9f92113509": {
      "model_module": "@jupyter-widgets/controls",
      "model_module_version": "1.1.0",
      "model_name": "ToggleButtonsModel",
      "state": {
       "_options_labels": [
        "400 MeV",
        "800 MeV",
        "2500 MeV"
       ],
       "button_style": "",
       "description": "Energy:",
       "icons": [],
       "index": 0,
       "layout": "IPY_MODEL_d104df1b93dc4adead945d61dd03d6fe",
       "style": "IPY_MODEL_06b2f62874494d339bb90eea19176892",
       "tooltips": [
        "lowest energy",
        "middle energy",
        "highest energy"
       ]
      }
     },
     "caccc658e39e4d8eab1327632eccbe34": {
      "model_module": "@jupyter-widgets/controls",
      "model_module_version": "1.1.0",
      "model_name": "ToggleButtonsStyleModel",
      "state": {
       "button_width": "",
       "description_width": ""
      }
     },
     "cadd83c3db964467ad0683e6c33d3471": {
      "model_module": "@jupyter-widgets/controls",
      "model_module_version": "1.1.0",
      "model_name": "CheckboxModel",
      "state": {
       "description": "PHITS sim.",
       "disabled": false,
       "layout": "IPY_MODEL_06c0c365322742f782334733d0d37345",
       "style": "IPY_MODEL_54a6008ce254488abca9239c5aee6363",
       "value": true
      }
     },
     "cb43928a574448eca437bc4c9aa2a8d2": {
      "model_module": "@jupyter-widgets/controls",
      "model_module_version": "1.1.0",
      "model_name": "ToggleButtonsStyleModel",
      "state": {
       "button_width": "",
       "description_width": ""
      }
     },
     "cc70111a19d94fc791c02b7ec4bbe159": {
      "model_module": "@jupyter-widgets/base",
      "model_module_version": "1.0.0",
      "model_name": "LayoutModel",
      "state": {}
     },
     "cda96481692a4dd9a76548e1689bc85b": {
      "model_module": "@jupyter-widgets/controls",
      "model_module_version": "1.1.0",
      "model_name": "ToggleButtonsModel",
      "state": {
       "_options_labels": [
        "N",
        "NDC"
       ],
       "button_style": "",
       "description": "Type:",
       "icons": [],
       "index": 0,
       "layout": "IPY_MODEL_e1d61a68240847fcb89a97fa2945bff1",
       "style": "IPY_MODEL_4b22a219bb39429aadfbe3662ab9344e",
       "tooltips": [
        "Neutron",
        "Neutron (deconvoluted)"
       ]
      }
     },
     "cdd7b460ab6d497e89a40e54704e0405": {
      "model_module": "@jupyter-widgets/base",
      "model_module_version": "1.0.0",
      "model_name": "LayoutModel",
      "state": {}
     },
     "cea380802af2442091b4df88b4870f06": {
      "model_module": "@jupyter-widgets/base",
      "model_module_version": "1.0.0",
      "model_name": "LayoutModel",
      "state": {}
     },
     "cee140c0cf9e4148bdc534250e77adfa": {
      "model_module": "@jupyter-widgets/controls",
      "model_module_version": "1.1.0",
      "model_name": "LabelModel",
      "state": {
       "layout": "IPY_MODEL_591983d72d9a4707a025102bf48ee6a2",
       "style": "IPY_MODEL_d3829c4f0a5a42b1be5c79bdf71816d0",
       "value": "Select projectile ion species."
      }
     },
     "ceff1e71ac8a41e9a0f7e8232abb7060": {
      "model_module": "@jupyter-widgets/controls",
      "model_module_version": "1.1.0",
      "model_name": "CheckboxModel",
      "state": {
       "description": "60°",
       "disabled": false,
       "layout": "IPY_MODEL_d5d0d2ddcdd242f98557194e3bd76c0e",
       "style": "IPY_MODEL_07e26bfbdd264c5caa86997cd380255c",
       "value": true
      }
     },
     "cfa5fbf828834cb7b861c2382ce6a0a5": {
      "model_module": "@jupyter-widgets/base",
      "model_module_version": "1.0.0",
      "model_name": "LayoutModel",
      "state": {}
     },
     "d045ed28e7f443a492a3b0a8c145e6bd": {
      "model_module": "@jupyter-widgets/base",
      "model_module_version": "1.0.0",
      "model_name": "LayoutModel",
      "state": {}
     },
     "d0cf31ea782242468beb9758d21f489e": {
      "model_module": "@jupyter-widgets/controls",
      "model_module_version": "1.1.0",
      "model_name": "DescriptionStyleModel",
      "state": {
       "description_width": ""
      }
     },
     "d0e6052d8faf4b2698480ee34caee7d4": {
      "model_module": "@jupyter-widgets/base",
      "model_module_version": "1.0.0",
      "model_name": "LayoutModel",
      "state": {}
     },
     "d104df1b93dc4adead945d61dd03d6fe": {
      "model_module": "@jupyter-widgets/base",
      "model_module_version": "1.0.0",
      "model_name": "LayoutModel",
      "state": {}
     },
     "d1ffdb144a5d4c4c8c847ce9410f9e9a": {
      "model_module": "@jupyter-widgets/controls",
      "model_module_version": "1.1.0",
      "model_name": "CheckboxModel",
      "state": {
       "description": "10°",
       "disabled": false,
       "layout": "IPY_MODEL_9393d654bc5842bc8bb61310d8ae3c22",
       "style": "IPY_MODEL_8658947a8ee0460091989d36cf0c0b43",
       "value": true
      }
     },
     "d204c1db0c0a4f7dac17511c7217c255": {
      "model_module": "@jupyter-widgets/controls",
      "model_module_version": "1.1.0",
      "model_name": "CheckboxModel",
      "state": {
       "description": "30°",
       "disabled": false,
       "layout": "IPY_MODEL_69d6fc1b35cd4fd4889f882511b76af2",
       "style": "IPY_MODEL_f6ec50c9f8d14d6f8261e916602e59c9",
       "value": true
      }
     },
     "d254eb2e271643e3acda524c4794ccbf": {
      "model_module": "@jupyter-widgets/controls",
      "model_module_version": "1.1.0",
      "model_name": "CheckboxModel",
      "state": {
       "description": "32.7°",
       "disabled": false,
       "layout": "IPY_MODEL_fec67650c81745c4b3f268ff4c7b72a6",
       "style": "IPY_MODEL_ae7c46f2f69f4776accd5fb7c29f2382",
       "value": true
      }
     },
     "d2bfdaf8796e4f56a2b6c2179e47f23d": {
      "model_module": "@jupyter-widgets/base",
      "model_module_version": "1.0.0",
      "model_name": "LayoutModel",
      "state": {}
     },
     "d3829c4f0a5a42b1be5c79bdf71816d0": {
      "model_module": "@jupyter-widgets/controls",
      "model_module_version": "1.1.0",
      "model_name": "DescriptionStyleModel",
      "state": {
       "description_width": ""
      }
     },
     "d489953aa27748ca809f2bfa6fcbdbf6": {
      "model_module": "@jupyter-widgets/controls",
      "model_module_version": "1.1.0",
      "model_name": "DescriptionStyleModel",
      "state": {
       "description_width": ""
      }
     },
     "d59349eafc6d4521ae99554754cf77ee": {
      "model_module": "@jupyter-widgets/base",
      "model_module_version": "1.0.0",
      "model_name": "LayoutModel",
      "state": {}
     },
     "d5b795a688d941aaa9b25e3f0bb33293": {
      "model_module": "@jupyter-widgets/controls",
      "model_module_version": "1.1.0",
      "model_name": "CheckboxModel",
      "state": {
       "description": "80°",
       "disabled": false,
       "layout": "IPY_MODEL_0a9707392c6b4c3282af3dc874884ff5",
       "style": "IPY_MODEL_7f1320fdde3a4eb58bb722ad2e189b3c",
       "value": true
      }
     },
     "d5d0d2ddcdd242f98557194e3bd76c0e": {
      "model_module": "@jupyter-widgets/base",
      "model_module_version": "1.0.0",
      "model_name": "LayoutModel",
      "state": {}
     },
     "d5e2e35deb844291b27a458a0dc4ce24": {
      "model_module": "@jupyter-widgets/base",
      "model_module_version": "1.0.0",
      "model_name": "LayoutModel",
      "state": {}
     },
     "d6d4eecf671144bca4ba7e9fb9934af7": {
      "model_module": "@jupyter-widgets/controls",
      "model_module_version": "1.1.0",
      "model_name": "CheckboxModel",
      "state": {
       "description": "135°",
       "disabled": false,
       "layout": "IPY_MODEL_83a3795ebf384c3b924e161522508d10",
       "style": "IPY_MODEL_07757186b124423b90b6fc4a321a3839",
       "value": true
      }
     },
     "d7eefa870f8c4d0e9c21967a295082e0": {
      "model_module": "@jupyter-widgets/base",
      "model_module_version": "1.0.0",
      "model_name": "LayoutModel",
      "state": {}
     },
     "d7fa1e0a970542dfa0bcacd0af564385": {
      "model_module": "@jupyter-widgets/base",
      "model_module_version": "1.0.0",
      "model_name": "LayoutModel",
      "state": {}
     },
     "d921a36675004b3d9263529f7b8473c8": {
      "model_module": "@jupyter-widgets/base",
      "model_module_version": "1.0.0",
      "model_name": "LayoutModel",
      "state": {}
     },
     "da3c66a604a64b85afa9e3a60e7b1a1a": {
      "model_module": "@jupyter-widgets/controls",
      "model_module_version": "1.1.0",
      "model_name": "ToggleButtonsModel",
      "state": {
       "_options_labels": [
        "None",
        "Spaced by 10²"
       ],
       "button_style": "",
       "description": "Spacing:",
       "icons": [],
       "index": 0,
       "layout": "IPY_MODEL_a3d9fd0254bb40da9e7e0e1e29c3dc3c",
       "style": "IPY_MODEL_e6203a22b2264fb9805146732da77ef7",
       "tooltips": [
        "All values are presented as is.",
        "Plots for different detectors are multiplied by powers of 10² for easier viewing."
       ]
      }
     },
     "dbf31784806148b18cf007b56b054246": {
      "model_module": "@jupyter-widgets/controls",
      "model_module_version": "1.1.0",
      "model_name": "DescriptionStyleModel",
      "state": {
       "description_width": ""
      }
     },
     "dc0ae02645da44c493796fb07d1b0888": {
      "model_module": "@jupyter-widgets/controls",
      "model_module_version": "1.1.0",
      "model_name": "DescriptionStyleModel",
      "state": {
       "description_width": ""
      }
     },
     "dd243fe614ab4786a6036ba1cd7274c6": {
      "model_module": "@jupyter-widgets/controls",
      "model_module_version": "1.1.0",
      "model_name": "CheckboxModel",
      "state": {
       "description": "32.7°",
       "disabled": false,
       "layout": "IPY_MODEL_7b9d7b7cf9c04c9a82cd16d7e2bb05b0",
       "style": "IPY_MODEL_4088ba6d018e4e63a876d816450947aa",
       "value": true
      }
     },
     "dd3a3b31398e4a0e9aa1cddadb32dcea": {
      "model_module": "@jupyter-widgets/controls",
      "model_module_version": "1.1.0",
      "model_name": "DescriptionStyleModel",
      "state": {
       "description_width": ""
      }
     },
     "dd754a0dd2b94406836938aa9d8da6e9": {
      "model_module": "@jupyter-widgets/controls",
      "model_module_version": "1.1.0",
      "model_name": "CheckboxModel",
      "state": {
       "description": "135°",
       "disabled": false,
       "layout": "IPY_MODEL_1bb7f2c06922441089584949384b0a0c",
       "style": "IPY_MODEL_a5371a7f7e1c47cfb165de66a8ce1d9c",
       "value": true
      }
     },
     "dddc16ed883246f0815715672f5991bf": {
      "model_module": "@jupyter-widgets/base",
      "model_module_version": "1.0.0",
      "model_name": "LayoutModel",
      "state": {}
     },
     "de514ac198ee4f96a23947a300d166c6": {
      "model_module": "@jupyter-widgets/controls",
      "model_module_version": "1.1.0",
      "model_name": "DescriptionStyleModel",
      "state": {
       "description_width": ""
      }
     },
     "de8ca3a9d700404db62e943cbc02e6ce": {
      "model_module": "@jupyter-widgets/controls",
      "model_module_version": "1.1.0",
      "model_name": "ToggleButtonsModel",
      "state": {
       "_options_labels": [
        "20 g/cm²",
        "60 g/cm²"
       ],
       "button_style": "",
       "description": "Thickness:",
       "icons": [],
       "index": 0,
       "layout": "IPY_MODEL_9078c4bcddb24a0c80ee96dce02c78cc",
       "style": "IPY_MODEL_e3f0c8fd96aa4ab99322b59567b8161e",
       "tooltips": [
        "20 g/cm²",
        "60 g/cm²"
       ]
      }
     },
     "dfae9acdbe3d409db72fdff9ac916fc9": {
      "model_module": "@jupyter-widgets/controls",
      "model_module_version": "1.1.0",
      "model_name": "LabelModel",
      "state": {
       "layout": "IPY_MODEL_bccc581e49014ff18c58effdb72679b3",
       "style": "IPY_MODEL_0c5d38b2439f4de1b6158b9ce2c2de5c",
       "value": "Select the detector angles to plot."
      }
     },
     "dfb560290e0e403c9fccbde569a8aebc": {
      "model_module": "@jupyter-widgets/controls",
      "model_module_version": "1.1.0",
      "model_name": "LabelModel",
      "state": {
       "layout": "IPY_MODEL_acbc4eec12c84b1a95db9c9ea2c9b226",
       "style": "IPY_MODEL_5a1015870ae041e78d2db8b9d6e4d69b",
       "value": "Select the detector angles to plot."
      }
     },
     "e02a6cabb30a4011baa7c08d86cd7266": {
      "model_module": "@jupyter-widgets/controls",
      "model_module_version": "1.1.0",
      "model_name": "DescriptionStyleModel",
      "state": {
       "description_width": ""
      }
     },
     "e163e474f57f41afb1c80d3c76fe7cc2": {
      "model_module": "@jupyter-widgets/controls",
      "model_module_version": "1.1.0",
      "model_name": "ToggleButtonsModel",
      "state": {
       "_options_labels": [
        "OLS",
        "NaI"
       ],
       "button_style": "",
       "description": "Type:",
       "icons": [],
       "index": 0,
       "layout": "IPY_MODEL_988a393cd5994582bb58756c59a2cec4",
       "style": "IPY_MODEL_cb43928a574448eca437bc4c9aa2a8d2",
       "tooltips": [
        "Organic Liquid Scintillator",
        "Sodium Iodide"
       ]
      }
     },
     "e18a396c81f740bcb8fd470324b131d6": {
      "model_module": "@jupyter-widgets/controls",
      "model_module_version": "1.1.0",
      "model_name": "DescriptionStyleModel",
      "state": {
       "description_width": ""
      }
     },
     "e1d61a68240847fcb89a97fa2945bff1": {
      "model_module": "@jupyter-widgets/base",
      "model_module_version": "1.0.0",
      "model_name": "LayoutModel",
      "state": {}
     },
     "e276e5c685494292b6190b0bad23e9f6": {
      "model_module": "@jupyter-widgets/controls",
      "model_module_version": "1.1.0",
      "model_name": "DescriptionStyleModel",
      "state": {
       "description_width": ""
      }
     },
     "e2afa7cfcc1a41298897da78530a081d": {
      "model_module": "@jupyter-widgets/base",
      "model_module_version": "1.0.0",
      "model_name": "LayoutModel",
      "state": {}
     },
     "e38bb0cddc9d419990656dfcee6803a8": {
      "model_module": "@jupyter-widgets/base",
      "model_module_version": "1.0.0",
      "model_name": "LayoutModel",
      "state": {}
     },
     "e3c058a88a5b46e7a21cca77776b6f7b": {
      "model_module": "@jupyter-widgets/controls",
      "model_module_version": "1.1.0",
      "model_name": "CheckboxModel",
      "state": {
       "description": "135°",
       "disabled": false,
       "layout": "IPY_MODEL_571570d1fdb24024b81f8c526ee80215",
       "style": "IPY_MODEL_593b60d7d69a4650828cd601b908e6b9",
       "value": true
      }
     },
     "e3f0c8fd96aa4ab99322b59567b8161e": {
      "model_module": "@jupyter-widgets/controls",
      "model_module_version": "1.1.0",
      "model_name": "ToggleButtonsStyleModel",
      "state": {
       "button_width": "",
       "description_width": ""
      }
     },
     "e4375cfc8ff54701b364e8158c74eebf": {
      "model_module": "@jupyter-widgets/controls",
      "model_module_version": "1.1.0",
      "model_name": "DescriptionStyleModel",
      "state": {
       "description_width": ""
      }
     },
     "e47dd9537dee4e0a961986192547775b": {
      "model_module": "@jupyter-widgets/controls",
      "model_module_version": "1.1.0",
      "model_name": "CheckboxModel",
      "state": {
       "description": "10°",
       "disabled": false,
       "layout": "IPY_MODEL_c669a7878a2f4b5998664f3d1a967d02",
       "style": "IPY_MODEL_9bbc77fdd4154a78b93848e63b9411c7",
       "value": true
      }
     },
     "e4d4ee40e9634060ada1b1c42c9d84de": {
      "model_module": "@jupyter-widgets/controls",
      "model_module_version": "1.1.0",
      "model_name": "LabelModel",
      "state": {
       "layout": "IPY_MODEL_a20b631d661f4e6a9754ccdd1b8279ae",
       "style": "IPY_MODEL_b71c3a8d9a2f48ea8113db14d33ee897",
       "value": "Select which sets of data to display."
      }
     },
     "e504e3870f2d434b9b3ce8047fb6ce6a": {
      "model_module": "@jupyter-widgets/controls",
      "model_module_version": "1.1.0",
      "model_name": "ToggleButtonsStyleModel",
      "state": {
       "button_width": "",
       "description_width": ""
      }
     },
     "e6203a22b2264fb9805146732da77ef7": {
      "model_module": "@jupyter-widgets/controls",
      "model_module_version": "1.1.0",
      "model_name": "ToggleButtonsStyleModel",
      "state": {
       "button_width": "",
       "description_width": ""
      }
     },
     "e72b472b555f44c68890ff54d24fd189": {
      "model_module": "@jupyter-widgets/controls",
      "model_module_version": "1.1.0",
      "model_name": "ToggleButtonsModel",
      "state": {
       "_options_labels": [
        "400 MeV/n",
        "800 MeV/n",
        "1500 MeV/n"
       ],
       "button_style": "",
       "description": "Energy:",
       "icons": [],
       "index": 0,
       "layout": "IPY_MODEL_d0e6052d8faf4b2698480ee34caee7d4",
       "style": "IPY_MODEL_1ead81b4709043c994909a2b2b093b5f",
       "tooltips": [
        "lowest energy",
        "middle energy",
        "highest energy"
       ]
      }
     },
     "e791ef4198404877b20852aa1f1999dd": {
      "model_module": "@jupyter-widgets/base",
      "model_module_version": "1.0.0",
      "model_name": "LayoutModel",
      "state": {}
     },
     "e858a2e6bfff44c9a787a49521f4d6a5": {
      "model_module": "@jupyter-widgets/controls",
      "model_module_version": "1.1.0",
      "model_name": "DescriptionStyleModel",
      "state": {
       "description_width": ""
      }
     },
     "e9502940170d4e94abc6619254f97d23": {
      "model_module": "@jupyter-widgets/controls",
      "model_module_version": "1.1.0",
      "model_name": "CheckboxModel",
      "state": {
       "description": "45°",
       "disabled": false,
       "layout": "IPY_MODEL_4693c63a28be4976a31169004a8d002b",
       "style": "IPY_MODEL_143c0b0a8ded453daf70a006d44b7880",
       "value": true
      }
     },
     "e975e26b0362471590a595e5711b6a02": {
      "model_module": "@jupyter-widgets/controls",
      "model_module_version": "1.1.0",
      "model_name": "ToggleButtonsStyleModel",
      "state": {
       "button_width": "",
       "description_width": ""
      }
     },
     "ead1f9378a724f3fac29c1cdad541101": {
      "model_module": "@jupyter-widgets/controls",
      "model_module_version": "1.1.0",
      "model_name": "DescriptionStyleModel",
      "state": {
       "description_width": ""
      }
     },
     "eb182ea4bdca40d1807c6f191db4fefa": {
      "model_module": "@jupyter-widgets/base",
      "model_module_version": "1.0.0",
      "model_name": "LayoutModel",
      "state": {}
     },
     "eb3bc749b5bd437384de45b0ff78c72e": {
      "model_module": "@jupyter-widgets/controls",
      "model_module_version": "1.1.0",
      "model_name": "DescriptionStyleModel",
      "state": {
       "description_width": ""
      }
     },
     "ecb67a303385458cb0a68adc15ac1fc7": {
      "model_module": "@jupyter-widgets/controls",
      "model_module_version": "1.1.0",
      "model_name": "DescriptionStyleModel",
      "state": {
       "description_width": ""
      }
     },
     "ece4d2aad3f0431485bdbeb4ca86c6d4": {
      "model_module": "@jupyter-widgets/controls",
      "model_module_version": "1.1.0",
      "model_name": "DescriptionStyleModel",
      "state": {
       "description_width": ""
      }
     },
     "ecf53ae7c0fb4039bf6f58762a521630": {
      "model_module": "@jupyter-widgets/controls",
      "model_module_version": "1.1.0",
      "model_name": "LabelModel",
      "state": {
       "layout": "IPY_MODEL_f96537a5e7dc4e1a98b108b6f8434a3b",
       "style": "IPY_MODEL_28327983a7144dda802785386bf344e5",
       "value": "Select a detector type."
      }
     },
     "ed3c3afe7bb04260aa2cda37f2e479db": {
      "model_module": "@jupyter-widgets/controls",
      "model_module_version": "1.1.0",
      "model_name": "CheckboxModel",
      "state": {
       "description": "60°",
       "disabled": false,
       "layout": "IPY_MODEL_41e3926362f243e19a8320c94d209953",
       "style": "IPY_MODEL_25e876c3f90c4f3f8dfd969e5d91c1a4",
       "value": true
      }
     },
     "ed9b8aca428d4bfeb7962d86e3245961": {
      "model_module": "@jupyter-widgets/controls",
      "model_module_version": "1.1.0",
      "model_name": "CheckboxModel",
      "state": {
       "description": "80°",
       "disabled": false,
       "layout": "IPY_MODEL_234bc26d1bdc454db32ce045f42ba194",
       "style": "IPY_MODEL_0f09a72e9f9f4937bd8a9ecae88876c4",
       "value": true
      }
     },
     "edf26b31a5c04ae5ac5eb9360ccd15ef": {
      "model_module": "@jupyter-widgets/base",
      "model_module_version": "1.0.0",
      "model_name": "LayoutModel",
      "state": {}
     },
     "ee9508ad87874fd7b8be8d0efe9d98ad": {
      "model_module": "@jupyter-widgets/base",
      "model_module_version": "1.0.0",
      "model_name": "LayoutModel",
      "state": {}
     },
     "eefe43499ee44524b93df0bdab9d7141": {
      "model_module": "@jupyter-widgets/controls",
      "model_module_version": "1.1.0",
      "model_name": "DescriptionStyleModel",
      "state": {
       "description_width": ""
      }
     },
     "ef12815c062c4b8abf7c166758a426b0": {
      "model_module": "@jupyter-widgets/base",
      "model_module_version": "1.0.0",
      "model_name": "LayoutModel",
      "state": {}
     },
     "efdebc32c6d14475963f81083af48fc6": {
      "model_module": "@jupyter-widgets/controls",
      "model_module_version": "1.1.0",
      "model_name": "DescriptionStyleModel",
      "state": {
       "description_width": ""
      }
     },
     "f05a57fc2398413dacc5792e327cfeba": {
      "model_module": "@jupyter-widgets/controls",
      "model_module_version": "1.1.0",
      "model_name": "ToggleButtonsStyleModel",
      "state": {
       "button_width": "",
       "description_width": ""
      }
     },
     "f075aaa215ec4cfe944ca2bc67718f64": {
      "model_module": "@jupyter-widgets/base",
      "model_module_version": "1.0.0",
      "model_name": "LayoutModel",
      "state": {}
     },
     "f13b3349550249a7a8a8925ed41d5a03": {
      "model_module": "@jupyter-widgets/controls",
      "model_module_version": "1.1.0",
      "model_name": "DescriptionStyleModel",
      "state": {
       "description_width": ""
      }
     },
     "f198b3453e774f70bf273162d5d01d64": {
      "model_module": "@jupyter-widgets/base",
      "model_module_version": "1.0.0",
      "model_name": "LayoutModel",
      "state": {}
     },
     "f233b0f7df684cf19f9a4b1a0e80fc0f": {
      "model_module": "@jupyter-widgets/controls",
      "model_module_version": "1.1.0",
      "model_name": "DescriptionStyleModel",
      "state": {
       "description_width": ""
      }
     },
     "f2456de050614fe7ae7c3b92f8de9a80": {
      "model_module": "@jupyter-widgets/controls",
      "model_module_version": "1.1.0",
      "model_name": "LabelModel",
      "state": {
       "layout": "IPY_MODEL_1895e3bc6f044bb8afff35cdcfbc7aab",
       "style": "IPY_MODEL_efdebc32c6d14475963f81083af48fc6",
       "value": "Select upstream target mass thickness."
      }
     },
     "f2a30b5b168d4442829ced54e22cba51": {
      "model_module": "@jupyter-widgets/controls",
      "model_module_version": "1.1.0",
      "model_name": "CheckboxModel",
      "state": {
       "description": "32.7°",
       "disabled": false,
       "layout": "IPY_MODEL_5e26460dacad4849ad851395b6f30865",
       "style": "IPY_MODEL_70e3e49badd545ee81554cf95865dfb5",
       "value": true
      }
     },
     "f3ad70d074f14fb29d3e3e092c92e272": {
      "model_module": "@jupyter-widgets/base",
      "model_module_version": "1.0.0",
      "model_name": "LayoutModel",
      "state": {}
     },
     "f4124d13f85b4c338da0a16a8d35183d": {
      "model_module": "@jupyter-widgets/controls",
      "model_module_version": "1.1.0",
      "model_name": "ToggleButtonsModel",
      "state": {
       "_options_labels": [
        "20 g/cm²",
        "40 g/cm²",
        "60 g/cm²"
       ],
       "button_style": "",
       "description": "Thickness:",
       "icons": [],
       "index": 0,
       "layout": "IPY_MODEL_7751e08282f645879d45fa1ef176160c",
       "style": "IPY_MODEL_15a35212efc8475aaf0e98cf2b28246a",
       "tooltips": [
        "20 g/cm²",
        "40 g/cm²",
        "60 g/cm²"
       ]
      }
     },
     "f4462351516b49a5afd9a3b87837f79c": {
      "model_module": "@jupyter-widgets/controls",
      "model_module_version": "1.1.0",
      "model_name": "LabelModel",
      "state": {
       "layout": "IPY_MODEL_829f31e9b0c8410493c37e562657e989",
       "style": "IPY_MODEL_a311037077c543ca9c84276971387c3d",
       "value": "Select which sets of data to display."
      }
     },
     "f4bcbe0acbd54ece9fa7bc6babb7c729": {
      "model_module": "@jupyter-widgets/base",
      "model_module_version": "1.0.0",
      "model_name": "LayoutModel",
      "state": {}
     },
     "f4c2d755906e4acc82b4b2022cb7d83e": {
      "model_module": "@jupyter-widgets/base",
      "model_module_version": "1.0.0",
      "model_name": "LayoutModel",
      "state": {}
     },
     "f629ac463075401a82db4055047c696a": {
      "model_module": "@jupyter-widgets/controls",
      "model_module_version": "1.1.0",
      "model_name": "LabelModel",
      "state": {
       "layout": "IPY_MODEL_2b77daaeab2946b6ae613f67e7e60193",
       "style": "IPY_MODEL_dbf31784806148b18cf007b56b054246",
       "value": "Select which secondary particle to plot spectra for."
      }
     },
     "f6ec50c9f8d14d6f8261e916602e59c9": {
      "model_module": "@jupyter-widgets/controls",
      "model_module_version": "1.1.0",
      "model_name": "DescriptionStyleModel",
      "state": {
       "description_width": ""
      }
     },
     "f6f17ed301d94057a0bc97f27e6b7024": {
      "model_module": "@jupyter-widgets/base",
      "model_module_version": "1.0.0",
      "model_name": "LayoutModel",
      "state": {}
     },
     "f7774ba6a05344b1a3ec5335eb66bab7": {
      "model_module": "@jupyter-widgets/controls",
      "model_module_version": "1.1.0",
      "model_name": "ToggleButtonsModel",
      "state": {
       "_options_labels": [
        "N",
        "NDC",
        "P (¹ H)",
        "D (² H)",
        "T (³ H)",
        "S (³ He)",
        "A (⁴ He)"
       ],
       "button_style": "",
       "description": "Type:",
       "icons": [],
       "index": 0,
       "layout": "IPY_MODEL_193853f9a1684ec88fc80445d79e0ba9",
       "style": "IPY_MODEL_f05a57fc2398413dacc5792e327cfeba",
       "tooltips": [
        "Neutron",
        "Neutron (deconvoluted)",
        "Proton",
        "Deuteron",
        "Triton",
        "Helium-3",
        "Helium-4"
       ]
      }
     },
     "f7cd482253f94585a80d6bb115ec989f": {
      "model_module": "@jupyter-widgets/controls",
      "model_module_version": "1.1.0",
      "model_name": "DescriptionStyleModel",
      "state": {
       "description_width": ""
      }
     },
     "f8a211f64f1f4f378bcaa6dd3f50b1db": {
      "model_module": "@jupyter-widgets/controls",
      "model_module_version": "1.1.0",
      "model_name": "DescriptionStyleModel",
      "state": {
       "description_width": ""
      }
     },
     "f8c6878758504288a4ef98490a7bf179": {
      "model_module": "@jupyter-widgets/controls",
      "model_module_version": "1.1.0",
      "model_name": "ToggleButtonsStyleModel",
      "state": {
       "button_width": "",
       "description_width": ""
      }
     },
     "f96537a5e7dc4e1a98b108b6f8434a3b": {
      "model_module": "@jupyter-widgets/base",
      "model_module_version": "1.0.0",
      "model_name": "LayoutModel",
      "state": {}
     },
     "f9f8c52f431345f698c281574d22506e": {
      "model_module": "@jupyter-widgets/controls",
      "model_module_version": "1.1.0",
      "model_name": "CheckboxModel",
      "state": {
       "description": "60°",
       "disabled": false,
       "layout": "IPY_MODEL_a6511527a3ec4002aa89520eafdabe73",
       "style": "IPY_MODEL_adef8af3dbef49b5bf0fe6ddeef89d06",
       "value": true
      }
     },
     "fa9b0c391269426f8023ac94e5b71181": {
      "model_module": "@jupyter-widgets/controls",
      "model_module_version": "1.1.0",
      "model_name": "ToggleButtonsStyleModel",
      "state": {
       "button_width": "",
       "description_width": ""
      }
     },
     "fa9e86f21a4f40b6896d4d4df3581ea5": {
      "model_module": "@jupyter-widgets/base",
      "model_module_version": "1.0.0",
      "model_name": "LayoutModel",
      "state": {}
     },
     "fb4682e938f54eb68cf31372aa27daa2": {
      "model_module": "@jupyter-widgets/controls",
      "model_module_version": "1.1.0",
      "model_name": "CheckboxModel",
      "state": {
       "description": "7.2°",
       "disabled": false,
       "layout": "IPY_MODEL_fa9e86f21a4f40b6896d4d4df3581ea5",
       "style": "IPY_MODEL_3a19cc5c39f047ad823d1c15fd11c6ba",
       "value": true
      }
     },
     "fb9d46eb2d9f40789e7030ae2320e2fc": {
      "model_module": "@jupyter-widgets/controls",
      "model_module_version": "1.1.0",
      "model_name": "CheckboxModel",
      "state": {
       "description": "PHITS sim.",
       "disabled": false,
       "layout": "IPY_MODEL_ae58877b32bd4dd5ba8bfdb979bee38a",
       "style": "IPY_MODEL_0b9ff29894144d61b66453698de74215",
       "value": true
      }
     },
     "fbbb3d5744dd4f179f3cc78433cba9c1": {
      "model_module": "@jupyter-widgets/controls",
      "model_module_version": "1.1.0",
      "model_name": "LabelModel",
      "state": {
       "layout": "IPY_MODEL_04e0e02fd9424300a282ee8e21e6a088",
       "style": "IPY_MODEL_5af719f86866423986c2dfaf7aaf50e7",
       "value": "Select upstream target mass thickness."
      }
     },
     "fc3c7d1c3a824bc4a7ab4ae7d3a76502": {
      "model_module": "@jupyter-widgets/controls",
      "model_module_version": "1.1.0",
      "model_name": "DescriptionStyleModel",
      "state": {
       "description_width": ""
      }
     },
     "fe09287dcce44265aedb2fbe5024622d": {
      "model_module": "@jupyter-widgets/controls",
      "model_module_version": "1.1.0",
      "model_name": "DescriptionStyleModel",
      "state": {
       "description_width": ""
      }
     },
     "fe444945620d4fd68f0f58c5bde35180": {
      "model_module": "@jupyter-widgets/controls",
      "model_module_version": "1.1.0",
      "model_name": "CheckboxModel",
      "state": {
       "description": "135°",
       "disabled": false,
       "layout": "IPY_MODEL_f075aaa215ec4cfe944ca2bc67718f64",
       "style": "IPY_MODEL_c1b5218451a5463aaba4be6b444620f8",
       "value": true
      }
     },
     "fe5af945dcef46c08027357980776cea": {
      "model_module": "@jupyter-widgets/base",
      "model_module_version": "1.0.0",
      "model_name": "LayoutModel",
      "state": {}
     },
     "fec67650c81745c4b3f268ff4c7b72a6": {
      "model_module": "@jupyter-widgets/base",
      "model_module_version": "1.0.0",
      "model_name": "LayoutModel",
      "state": {}
     },
     "ff08751772c74d82b2870c4b2b9d7ac7": {
      "model_module": "@jupyter-widgets/controls",
      "model_module_version": "1.1.0",
      "model_name": "ToggleButtonsModel",
      "state": {
       "_options_labels": [
        "20 g/cm²",
        "60 g/cm²"
       ],
       "button_style": "",
       "description": "Thickness:",
       "icons": [],
       "index": 0,
       "layout": "IPY_MODEL_aae4adf9553e4a9096373ce3db4ba1e4",
       "style": "IPY_MODEL_9ca2baab08d14cfbbc0b308d87b7cf99",
       "tooltips": [
        "20 g/cm²",
        "60 g/cm²"
       ]
      }
     },
     "fff3f5f35d4b40bb988303683eb78bbb": {
      "model_module": "@jupyter-widgets/controls",
      "model_module_version": "1.1.0",
      "model_name": "ToggleButtonsModel",
      "state": {
       "_options_labels": [
        "H",
        "He",
        "C",
        "Si",
        "Fe"
       ],
       "button_style": "",
       "description": "Ion:",
       "icons": [],
       "index": 2,
       "layout": "IPY_MODEL_0b494dc80487406a9b61c6f01741dc0a",
       "style": "IPY_MODEL_120e79b40cc1437caea92ee8f745a440",
       "tooltips": [
        "Hydrogen",
        "Helium",
        "Carbon",
        "Silicon",
        "Iron"
       ]
      }
     },
     "fff6cf548d564635b9b9146c8655a150": {
      "model_module": "@jupyter-widgets/controls",
      "model_module_version": "1.1.0",
      "model_name": "DescriptionStyleModel",
      "state": {
       "description_width": ""
      }
     }
    },
    "version_major": 2,
    "version_minor": 0
   }
  }
 },
 "nbformat": 4,
 "nbformat_minor": 1
}
