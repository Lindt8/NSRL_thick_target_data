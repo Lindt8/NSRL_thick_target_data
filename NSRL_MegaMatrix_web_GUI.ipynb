{
 "cells": [
  {
   "cell_type": "code",
   "execution_count": 31,
   "metadata": {},
   "outputs": [
    {
     "data": {
      "application/vnd.jupyter.widget-view+json": {
       "model_id": "6cf38f41c28f49a48cefa2526d581737",
       "version_major": 2,
       "version_minor": 0
      },
      "text/html": [
       "<p>Failed to display Jupyter Widget of type <code>Label</code>.</p>\n",
       "<p>\n",
       "  If you're reading this message in the Jupyter Notebook or JupyterLab Notebook, it may mean\n",
       "  that the widgets JavaScript is still loading. If this message persists, it\n",
       "  likely means that the widgets JavaScript library is either not installed or\n",
       "  not enabled. See the <a href=\"https://ipywidgets.readthedocs.io/en/stable/user_install.html\">Jupyter\n",
       "  Widgets Documentation</a> for setup instructions.\n",
       "</p>\n",
       "<p>\n",
       "  If you're reading this message in another frontend (for example, a static\n",
       "  rendering on GitHub or <a href=\"https://nbviewer.jupyter.org/\">NBViewer</a>),\n",
       "  it may mean that your frontend doesn't currently support widgets.\n",
       "</p>\n"
      ],
      "text/plain": [
       "Label(value='Select projectile ion species.')"
      ]
     },
     "metadata": {},
     "output_type": "display_data"
    },
    {
     "data": {
      "application/vnd.jupyter.widget-view+json": {
       "model_id": "0dca18407d8c4cc0af3b786878a46fcd",
       "version_major": 2,
       "version_minor": 0
      },
      "text/html": [
       "<p>Failed to display Jupyter Widget of type <code>ToggleButtons</code>.</p>\n",
       "<p>\n",
       "  If you're reading this message in the Jupyter Notebook or JupyterLab Notebook, it may mean\n",
       "  that the widgets JavaScript is still loading. If this message persists, it\n",
       "  likely means that the widgets JavaScript library is either not installed or\n",
       "  not enabled. See the <a href=\"https://ipywidgets.readthedocs.io/en/stable/user_install.html\">Jupyter\n",
       "  Widgets Documentation</a> for setup instructions.\n",
       "</p>\n",
       "<p>\n",
       "  If you're reading this message in another frontend (for example, a static\n",
       "  rendering on GitHub or <a href=\"https://nbviewer.jupyter.org/\">NBViewer</a>),\n",
       "  it may mean that your frontend doesn't currently support widgets.\n",
       "</p>\n"
      ],
      "text/plain": [
       "ToggleButtons(description='Ion:', options=('H', 'He', 'C', 'Si', 'Fe'), tooltips=['Hydrogen', 'Helium', 'Carbon', 'Silicon', 'Iron'], value='H')"
      ]
     },
     "metadata": {},
     "output_type": "display_data"
    }
   ],
   "source": [
    "%matplotlib notebook\n",
    "\n",
    "import numpy as np\n",
    "import matplotlib.pyplot as plt\n",
    "from matplotlib.collections import PatchCollection\n",
    "from matplotlib.patches import Rectangle\n",
    "import re\n",
    "from IPython.display import display\n",
    "from ipywidgets import interact, interactive, fixed, interact_manual\n",
    "import ipywidgets as widgets\n",
    "from IPython.display import Javascript\n",
    "\n",
    "def find(target, myList):\n",
    "    for i in range(len(myList)):\n",
    "        if myList[i] == target:\n",
    "            return i       \n",
    "\n",
    "def on_click(change):\n",
    "    #display(Javascript('IPython.notebook.execute_cells_below()'))  \n",
    "    display(Javascript('IPython.notebook.execute_cell_range(IPython.notebook.get_selected_index()+1, IPython.notebook.ncells())'))\n",
    "\n",
    "# Function to plot error boxes\n",
    "def makeErrorBoxes(xdata,ydata,xerror,yerror,fc='None',ec='k',alpha=1.0,lw=1):\n",
    "    # Create list for all the error patches\n",
    "    errorboxes = []\n",
    "\n",
    "    # Loop over data points; create box from errors at each point\n",
    "    for xc,yc,xe,ye in zip(xdata,ydata,xerror.T,yerror.T):\n",
    "        rect = Rectangle((xc-xe[0],yc-ye[0]),xe.sum(),ye.sum())\n",
    "        errorboxes.append(rect)\n",
    "\n",
    "    # Create patch collection with specified colour/alpha\n",
    "    pc = PatchCollection(errorboxes,facecolor=fc,alpha=alpha,edgecolor=ec,linewidth=lw)\n",
    "\n",
    "    # Add collection to axes\n",
    "    ax.add_collection(pc)    \n",
    "\n",
    "def detector_colors(di):\n",
    "    #colors_list = ['b','g','r','c','m','y'] # Python 3 old default\n",
    "    #colors_list = ['#b2182b','#d6604d','#f4a582','#92c5de','#4393c3','#2166ac'] # blue to red cold\n",
    "    #colors_list = ['#d73027','#f46d43','#fdae61','#abd9e9','#74add1','#4575b4'] # blue to red warm\n",
    "    #colors_list = ['#762a83','#9970ab','#c2a5cf','#a6dba0','#5aae61','#1b7837'] # purple to green\n",
    "    #colors_list = ['#40004b','#762a83','#9970ab','#5aae61','#1b7837','#00441b'] # purple to green darker\n",
    "    #colors_list = [\"#afa83a\",\"#7f63b8\",\"#56ae6c\",\"#b84c7d\",\"#ac863f\",\"#b94d3d\"] # iWantHue 1\n",
    "    #colors_list = ['#1b9e77','#d95f02','#7570b3','#e7298a','#66a61e','#e6ab02'] # qualitative dark 1\n",
    "    colors_list = ['#e41a1c','#377eb8','#4daf4a','#984ea3','#ff7f00','#a65628'] # qualitative dark 2\n",
    "    return colors_list[di]\n",
    "    \n",
    "data_version = 'v7'\n",
    "\n",
    "metadata_file = 'metadata_matrix_' + data_version + '.npy'\n",
    "mm_metadata = np.load(metadata_file) # data set, ion species, ion energy, target material, target thickness, secondary particle, detector, header meta data\n",
    "exists_file = 'exists_matrix_' + data_version + '.npy'\n",
    "mm_exists = np.load(exists_file) # data set, ion species, ion energy, target material, target thickness, secondary particle, detector\n",
    "\n",
    "#values_file = 'values_matrix_' + data_version + '.npy'\n",
    "#mm_values = np.load(values_file) # data set, ion species, ion energy, target material, target thickness, secondary particle, detector, column values, energy bins\n",
    "\n",
    "#print(mm_metadata[0,0,0,0,0,0,0,0])\n",
    "\n",
    "projectile_sym_str = ['H', 'He', 'C', 'Si', 'Fe']\n",
    "projectile_longnames_str = ['Hydrogen', 'Helium', 'Carbon', 'Silicon', 'Iron']\n",
    "\n",
    "mm_values_names_list = []\n",
    "for i in range(5):\n",
    "    mm_values_names_list.append('values_matrix_' + projectile_sym_str[i].lower() + \"_\" + data_version + '.npy')\n",
    "\n",
    "is_label = widgets.Label(value=\"Select projectile ion species.\")\n",
    "display(is_label)\n",
    "    \n",
    "ion_species = widgets.ToggleButtons(\n",
    "    options=projectile_sym_str,\n",
    "    description='Ion:',\n",
    "    disabled=False,\n",
    "    button_style='', # 'success', 'info', 'warning', 'danger' or ''\n",
    "    tooltips=projectile_longnames_str,\n",
    "#     icons=['check'] * 5\n",
    ")\n",
    "\n",
    "ion_species.observe(on_click, 'value')\n",
    "ion_species\n"
   ]
  },
  {
   "cell_type": "code",
   "execution_count": 21,
   "metadata": {},
   "outputs": [
    {
     "data": {
      "application/vnd.jupyter.widget-view+json": {
       "model_id": "da9c892a9c9c40b18430cac3e890a6e3",
       "version_major": 2,
       "version_minor": 0
      },
      "text/html": [
       "<p>Failed to display Jupyter Widget of type <code>Label</code>.</p>\n",
       "<p>\n",
       "  If you're reading this message in the Jupyter Notebook or JupyterLab Notebook, it may mean\n",
       "  that the widgets JavaScript is still loading. If this message persists, it\n",
       "  likely means that the widgets JavaScript library is either not installed or\n",
       "  not enabled. See the <a href=\"https://ipywidgets.readthedocs.io/en/stable/user_install.html\">Jupyter\n",
       "  Widgets Documentation</a> for setup instructions.\n",
       "</p>\n",
       "<p>\n",
       "  If you're reading this message in another frontend (for example, a static\n",
       "  rendering on GitHub or <a href=\"https://nbviewer.jupyter.org/\">NBViewer</a>),\n",
       "  it may mean that your frontend doesn't currently support widgets.\n",
       "</p>\n"
      ],
      "text/plain": [
       "Label(value='Select projectile ion energy.')"
      ]
     },
     "metadata": {},
     "output_type": "display_data"
    },
    {
     "data": {
      "application/vnd.jupyter.widget-view+json": {
       "model_id": "dead3d00ca7f46bcbdd8cc8157652d40",
       "version_major": 2,
       "version_minor": 0
      },
      "text/html": [
       "<p>Failed to display Jupyter Widget of type <code>ToggleButtons</code>.</p>\n",
       "<p>\n",
       "  If you're reading this message in the Jupyter Notebook or JupyterLab Notebook, it may mean\n",
       "  that the widgets JavaScript is still loading. If this message persists, it\n",
       "  likely means that the widgets JavaScript library is either not installed or\n",
       "  not enabled. See the <a href=\"https://ipywidgets.readthedocs.io/en/stable/user_install.html\">Jupyter\n",
       "  Widgets Documentation</a> for setup instructions.\n",
       "</p>\n",
       "<p>\n",
       "  If you're reading this message in another frontend (for example, a static\n",
       "  rendering on GitHub or <a href=\"https://nbviewer.jupyter.org/\">NBViewer</a>),\n",
       "  it may mean that your frontend doesn't currently support widgets.\n",
       "</p>\n"
      ],
      "text/plain": [
       "ToggleButtons(description='Energy:', options=('400 MeV/n', '800 MeV/n', '1500 MeV/n'), tooltips=['lowest energy', 'middle energy', 'highest energy'], value='400 MeV/n')"
      ]
     },
     "metadata": {},
     "output_type": "display_data"
    }
   ],
   "source": [
    "isi = find(ion_species.value,projectile_sym_str)\n",
    "mm_values = np.load(mm_values_names_list[isi])\n",
    "\n",
    "def erg_options(isi):\n",
    "    if isi == 0:\n",
    "        proj_E = ['400 MeV','800 MeV','2500 MeV']\n",
    "    else:\n",
    "        proj_E = ['400 MeV/n','800 MeV/n','1500 MeV/n']\n",
    "    return proj_E\n",
    "\n",
    "Projectile_E_tooltips = ['lowest energy','middle energy', 'highest energy']\n",
    "\n",
    "ie_label = widgets.Label(value=\"Select projectile ion energy.\")\n",
    "\n",
    "ion_energy = widgets.ToggleButtons(\n",
    "    options=erg_options(isi),\n",
    "    description='Energy:',\n",
    "    disabled=False,\n",
    "    button_style='', # 'success', 'info', 'warning', 'danger' or ''\n",
    "    tooltips=Projectile_E_tooltips,\n",
    "#     icons=['check'] * 5\n",
    ")\n",
    "\n",
    "ion_energy.observe(on_click, 'value')\n",
    "display(ie_label, ion_energy)\n"
   ]
  },
  {
   "cell_type": "code",
   "execution_count": 22,
   "metadata": {},
   "outputs": [
    {
     "data": {
      "application/vnd.jupyter.widget-view+json": {
       "model_id": "d93de38aa5dc401081c7d24c7c8352a1",
       "version_major": 2,
       "version_minor": 0
      },
      "text/html": [
       "<p>Failed to display Jupyter Widget of type <code>Label</code>.</p>\n",
       "<p>\n",
       "  If you're reading this message in the Jupyter Notebook or JupyterLab Notebook, it may mean\n",
       "  that the widgets JavaScript is still loading. If this message persists, it\n",
       "  likely means that the widgets JavaScript library is either not installed or\n",
       "  not enabled. See the <a href=\"https://ipywidgets.readthedocs.io/en/stable/user_install.html\">Jupyter\n",
       "  Widgets Documentation</a> for setup instructions.\n",
       "</p>\n",
       "<p>\n",
       "  If you're reading this message in another frontend (for example, a static\n",
       "  rendering on GitHub or <a href=\"https://nbviewer.jupyter.org/\">NBViewer</a>),\n",
       "  it may mean that your frontend doesn't currently support widgets.\n",
       "</p>\n"
      ],
      "text/plain": [
       "Label(value='Select upstream target material.')"
      ]
     },
     "metadata": {},
     "output_type": "display_data"
    },
    {
     "data": {
      "application/vnd.jupyter.widget-view+json": {
       "model_id": "b8b2e574d68242ec94bf467390e57e74",
       "version_major": 2,
       "version_minor": 0
      },
      "text/html": [
       "<p>Failed to display Jupyter Widget of type <code>ToggleButtons</code>.</p>\n",
       "<p>\n",
       "  If you're reading this message in the Jupyter Notebook or JupyterLab Notebook, it may mean\n",
       "  that the widgets JavaScript is still loading. If this message persists, it\n",
       "  likely means that the widgets JavaScript library is either not installed or\n",
       "  not enabled. See the <a href=\"https://ipywidgets.readthedocs.io/en/stable/user_install.html\">Jupyter\n",
       "  Widgets Documentation</a> for setup instructions.\n",
       "</p>\n",
       "<p>\n",
       "  If you're reading this message in another frontend (for example, a static\n",
       "  rendering on GitHub or <a href=\"https://nbviewer.jupyter.org/\">NBViewer</a>),\n",
       "  it may mean that your frontend doesn't currently support widgets.\n",
       "</p>\n"
      ],
      "text/plain": [
       "ToggleButtons(description='Material:', options=('Al', 'HDPE', 'AlPE'), tooltips=['Aluminum', 'Polyethylene', 'Combination of Al and HDPE'], value='Al')"
      ]
     },
     "metadata": {},
     "output_type": "display_data"
    }
   ],
   "source": [
    "iei = find(ion_energy.value,erg_options(isi))\n",
    "\n",
    "target_mats_long = ['Aluminum','Polyethylene','Combination of Al and HDPE']\n",
    "target_mats_short = ['Al','HDPE','AlPE']\n",
    "\n",
    "tm_label = widgets.Label(value=\"Select upstream target material.\")\n",
    "\n",
    "target_material = widgets.ToggleButtons(\n",
    "    options=target_mats_short,\n",
    "    description='Material:',\n",
    "    disabled=False,\n",
    "    button_style='', # 'success', 'info', 'warning', 'danger' or ''\n",
    "    tooltips=target_mats_long,\n",
    "#     icons=['check'] * 3\n",
    ")\n",
    "\n",
    "target_material.observe(on_click, 'value')\n",
    "display(tm_label, target_material)"
   ]
  },
  {
   "cell_type": "code",
   "execution_count": 23,
   "metadata": {},
   "outputs": [
    {
     "data": {
      "application/vnd.jupyter.widget-view+json": {
       "model_id": "c8a099cb91974a4bad6d20e4b7254605",
       "version_major": 2,
       "version_minor": 0
      },
      "text/html": [
       "<p>Failed to display Jupyter Widget of type <code>Label</code>.</p>\n",
       "<p>\n",
       "  If you're reading this message in the Jupyter Notebook or JupyterLab Notebook, it may mean\n",
       "  that the widgets JavaScript is still loading. If this message persists, it\n",
       "  likely means that the widgets JavaScript library is either not installed or\n",
       "  not enabled. See the <a href=\"https://ipywidgets.readthedocs.io/en/stable/user_install.html\">Jupyter\n",
       "  Widgets Documentation</a> for setup instructions.\n",
       "</p>\n",
       "<p>\n",
       "  If you're reading this message in another frontend (for example, a static\n",
       "  rendering on GitHub or <a href=\"https://nbviewer.jupyter.org/\">NBViewer</a>),\n",
       "  it may mean that your frontend doesn't currently support widgets.\n",
       "</p>\n"
      ],
      "text/plain": [
       "Label(value='Select upstream target mass thickness.')"
      ]
     },
     "metadata": {},
     "output_type": "display_data"
    },
    {
     "data": {
      "application/vnd.jupyter.widget-view+json": {
       "model_id": "a55907db68044ddb8b7d0686690a54b3",
       "version_major": 2,
       "version_minor": 0
      },
      "text/html": [
       "<p>Failed to display Jupyter Widget of type <code>ToggleButtons</code>.</p>\n",
       "<p>\n",
       "  If you're reading this message in the Jupyter Notebook or JupyterLab Notebook, it may mean\n",
       "  that the widgets JavaScript is still loading. If this message persists, it\n",
       "  likely means that the widgets JavaScript library is either not installed or\n",
       "  not enabled. See the <a href=\"https://ipywidgets.readthedocs.io/en/stable/user_install.html\">Jupyter\n",
       "  Widgets Documentation</a> for setup instructions.\n",
       "</p>\n",
       "<p>\n",
       "  If you're reading this message in another frontend (for example, a static\n",
       "  rendering on GitHub or <a href=\"https://nbviewer.jupyter.org/\">NBViewer</a>),\n",
       "  it may mean that your frontend doesn't currently support widgets.\n",
       "</p>\n"
      ],
      "text/plain": [
       "ToggleButtons(description='Thickness:', options=('20 g/cm²', '40 g/cm²', '60 g/cm²'), tooltips=['20 g/cm²', '40 g/cm²', '60 g/cm²'], value='20 g/cm²')"
      ]
     },
     "metadata": {},
     "output_type": "display_data"
    }
   ],
   "source": [
    "ftmi = find(target_material.value,target_mats_short)\n",
    "thicknesses = ['20 g/cm\\u00B2','40 g/cm\\u00B2','60 g/cm\\u00B2']\n",
    "def thickness_options(ftmi):\n",
    "    if ftmi == 2:\n",
    "        thicknesses = ['20 g/cm\\u00B2','60 g/cm\\u00B2']\n",
    "    else:\n",
    "        thicknesses = ['20 g/cm\\u00B2','40 g/cm\\u00B2','60 g/cm\\u00B2']\n",
    "    return thicknesses\n",
    "\n",
    "tt_label = widgets.Label(value=\"Select upstream target mass thickness.\")\n",
    "\n",
    "target_thickness = widgets.ToggleButtons(\n",
    "    options=thickness_options(ftmi),\n",
    "    description='Thickness:',\n",
    "    disabled=False,\n",
    "    button_style='', # 'success', 'info', 'warning', 'danger' or ''\n",
    "    tooltips=thickness_options(ftmi),\n",
    "#     icons=['check'] * 3\n",
    ")\n",
    "\n",
    "target_thickness.observe(on_click, 'value')\n",
    "display(tt_label, target_thickness)"
   ]
  },
  {
   "cell_type": "code",
   "execution_count": 24,
   "metadata": {},
   "outputs": [
    {
     "data": {
      "application/vnd.jupyter.widget-view+json": {
       "model_id": "c89a4f64f9e94d15aba2cbfcf4b1b45c",
       "version_major": 2,
       "version_minor": 0
      },
      "text/html": [
       "<p>Failed to display Jupyter Widget of type <code>Label</code>.</p>\n",
       "<p>\n",
       "  If you're reading this message in the Jupyter Notebook or JupyterLab Notebook, it may mean\n",
       "  that the widgets JavaScript is still loading. If this message persists, it\n",
       "  likely means that the widgets JavaScript library is either not installed or\n",
       "  not enabled. See the <a href=\"https://ipywidgets.readthedocs.io/en/stable/user_install.html\">Jupyter\n",
       "  Widgets Documentation</a> for setup instructions.\n",
       "</p>\n",
       "<p>\n",
       "  If you're reading this message in another frontend (for example, a static\n",
       "  rendering on GitHub or <a href=\"https://nbviewer.jupyter.org/\">NBViewer</a>),\n",
       "  it may mean that your frontend doesn't currently support widgets.\n",
       "</p>\n"
      ],
      "text/plain": [
       "Label(value='Select a detector type.')"
      ]
     },
     "metadata": {},
     "output_type": "display_data"
    },
    {
     "data": {
      "application/vnd.jupyter.widget-view+json": {
       "model_id": "bdb6bf337e0a4bdda4421b82314ea486",
       "version_major": 2,
       "version_minor": 0
      },
      "text/html": [
       "<p>Failed to display Jupyter Widget of type <code>ToggleButtons</code>.</p>\n",
       "<p>\n",
       "  If you're reading this message in the Jupyter Notebook or JupyterLab Notebook, it may mean\n",
       "  that the widgets JavaScript is still loading. If this message persists, it\n",
       "  likely means that the widgets JavaScript library is either not installed or\n",
       "  not enabled. See the <a href=\"https://ipywidgets.readthedocs.io/en/stable/user_install.html\">Jupyter\n",
       "  Widgets Documentation</a> for setup instructions.\n",
       "</p>\n",
       "<p>\n",
       "  If you're reading this message in another frontend (for example, a static\n",
       "  rendering on GitHub or <a href=\"https://nbviewer.jupyter.org/\">NBViewer</a>),\n",
       "  it may mean that your frontend doesn't currently support widgets.\n",
       "</p>\n"
      ],
      "text/plain": [
       "ToggleButtons(description='Type:', options=('OLS', 'NaI'), tooltips=['Organic Liquid Scintillator', 'Sodium Iodide'], value='OLS')"
      ]
     },
     "metadata": {},
     "output_type": "display_data"
    }
   ],
   "source": [
    "ftti = find(target_thickness.value,thicknesses)\n",
    "\n",
    "detectors_short = ['OLS','NaI']\n",
    "detectors_long = ['Organic Liquid Scintillator','Sodium Iodide']\n",
    "\n",
    "dt_label = widgets.Label(value=\"Select a detector type.\")\n",
    "\n",
    "detector_type = widgets.ToggleButtons(\n",
    "    options=detectors_short,\n",
    "    description='Type:',\n",
    "    disabled=False,\n",
    "    button_style='', # 'success', 'info', 'warning', 'danger' or ''\n",
    "    tooltips=detectors_long,\n",
    "#     icons=['check'] * 3\n",
    ")\n",
    "\n",
    "detector_type.observe(on_click, 'value')\n",
    "display(dt_label,detector_type)"
   ]
  },
  {
   "cell_type": "code",
   "execution_count": 25,
   "metadata": {},
   "outputs": [
    {
     "data": {
      "application/vnd.jupyter.widget-view+json": {
       "model_id": "93b85ff5d16042a5b14c9fa3a4920f92",
       "version_major": 2,
       "version_minor": 0
      },
      "text/html": [
       "<p>Failed to display Jupyter Widget of type <code>Label</code>.</p>\n",
       "<p>\n",
       "  If you're reading this message in the Jupyter Notebook or JupyterLab Notebook, it may mean\n",
       "  that the widgets JavaScript is still loading. If this message persists, it\n",
       "  likely means that the widgets JavaScript library is either not installed or\n",
       "  not enabled. See the <a href=\"https://ipywidgets.readthedocs.io/en/stable/user_install.html\">Jupyter\n",
       "  Widgets Documentation</a> for setup instructions.\n",
       "</p>\n",
       "<p>\n",
       "  If you're reading this message in another frontend (for example, a static\n",
       "  rendering on GitHub or <a href=\"https://nbviewer.jupyter.org/\">NBViewer</a>),\n",
       "  it may mean that your frontend doesn't currently support widgets.\n",
       "</p>\n"
      ],
      "text/plain": [
       "Label(value='Select which secondary particle to plot spectra for.')"
      ]
     },
     "metadata": {},
     "output_type": "display_data"
    },
    {
     "data": {
      "application/vnd.jupyter.widget-view+json": {
       "model_id": "68719dfd2e8940ee939dd3eaf476e180",
       "version_major": 2,
       "version_minor": 0
      },
      "text/html": [
       "<p>Failed to display Jupyter Widget of type <code>ToggleButtons</code>.</p>\n",
       "<p>\n",
       "  If you're reading this message in the Jupyter Notebook or JupyterLab Notebook, it may mean\n",
       "  that the widgets JavaScript is still loading. If this message persists, it\n",
       "  likely means that the widgets JavaScript library is either not installed or\n",
       "  not enabled. See the <a href=\"https://ipywidgets.readthedocs.io/en/stable/user_install.html\">Jupyter\n",
       "  Widgets Documentation</a> for setup instructions.\n",
       "</p>\n",
       "<p>\n",
       "  If you're reading this message in another frontend (for example, a static\n",
       "  rendering on GitHub or <a href=\"https://nbviewer.jupyter.org/\">NBViewer</a>),\n",
       "  it may mean that your frontend doesn't currently support widgets.\n",
       "</p>\n"
      ],
      "text/plain": [
       "ToggleButtons(description='Type:', options=('N', 'NDC', 'P (¹H)', 'D (²H)', 'T (³H)', 'S (³He)', 'A (⁴He)'), tooltips=['Neutron', 'Back Target Neutron', 'Proton', 'Deuteron', 'Triton', 'Helium-3', 'Helium-4'], value='N')"
      ]
     },
     "metadata": {},
     "output_type": "display_data"
    }
   ],
   "source": [
    "detti = find(detector_type.value,detectors_short)\n",
    "if detti==1: \n",
    "    add2deti = 6 # offset in matrix for NaI detectors\n",
    "else:\n",
    "    add2deti = 0 \n",
    "\n",
    "# See which secondary particles exist\n",
    "existing_pars_i = []\n",
    "for i in range(np.shape(mm_exists[0,isi,iei,ftmi,ftti,:,add2deti:(add2deti+6)])[0]):\n",
    "    if np.any(mm_exists[0,isi,iei,ftmi,ftti,i,add2deti:(add2deti+6)]):\n",
    "        existing_pars_i.append(i)\n",
    "        \n",
    "particles_long = ['Neutron','Back Target Neutron','Proton','Deuteron','Triton','Helium-3','Helium-4'] # second 'Neutron' can be renamed to specify deconvoluted origin\n",
    "particles_short = ['N','NDC','H','D','T','S','A']\n",
    "particles_med = ['N','NDC','P (\\u00B9H)','D (\\u00B2H)','T (\\u00B3H)','S (\\u00B3He)','A (\\u2074He)']\n",
    "\n",
    "present_pars_long = [particles_long[i] for i in existing_pars_i]\n",
    "present_pars_med = [particles_med[i] for i in existing_pars_i]\n",
    "\n",
    "sp_label = widgets.Label(value=\"Select which secondary particle to plot spectra for.\")\n",
    "\n",
    "secondary_particle = widgets.ToggleButtons(\n",
    "    options=present_pars_med,\n",
    "    description='Type:',\n",
    "    disabled=False,\n",
    "    button_style='', # 'success', 'info', 'warning', 'danger' or ''\n",
    "    tooltips=present_pars_long,\n",
    "#     icons=['check'] * 3\n",
    ")\n",
    "\n",
    "secondary_particle.observe(on_click, 'value')\n",
    "display(sp_label,secondary_particle)\n"
   ]
  },
  {
   "cell_type": "code",
   "execution_count": 26,
   "metadata": {},
   "outputs": [
    {
     "data": {
      "application/vnd.jupyter.widget-view+json": {
       "model_id": "751cff8d39e44f599a525fe9a178f0e7",
       "version_major": 2,
       "version_minor": 0
      },
      "text/html": [
       "<p>Failed to display Jupyter Widget of type <code>Label</code>.</p>\n",
       "<p>\n",
       "  If you're reading this message in the Jupyter Notebook or JupyterLab Notebook, it may mean\n",
       "  that the widgets JavaScript is still loading. If this message persists, it\n",
       "  likely means that the widgets JavaScript library is either not installed or\n",
       "  not enabled. See the <a href=\"https://ipywidgets.readthedocs.io/en/stable/user_install.html\">Jupyter\n",
       "  Widgets Documentation</a> for setup instructions.\n",
       "</p>\n",
       "<p>\n",
       "  If you're reading this message in another frontend (for example, a static\n",
       "  rendering on GitHub or <a href=\"https://nbviewer.jupyter.org/\">NBViewer</a>),\n",
       "  it may mean that your frontend doesn't currently support widgets.\n",
       "</p>\n"
      ],
      "text/plain": [
       "Label(value='Select the detector angles to plot.')"
      ]
     },
     "metadata": {},
     "output_type": "display_data"
    },
    {
     "data": {
      "application/vnd.jupyter.widget-view+json": {
       "model_id": "baa21123b8d44dd39c7367d2f2cb9231",
       "version_major": 2,
       "version_minor": 0
      },
      "text/html": [
       "<p>Failed to display Jupyter Widget of type <code>Checkbox</code>.</p>\n",
       "<p>\n",
       "  If you're reading this message in the Jupyter Notebook or JupyterLab Notebook, it may mean\n",
       "  that the widgets JavaScript is still loading. If this message persists, it\n",
       "  likely means that the widgets JavaScript library is either not installed or\n",
       "  not enabled. See the <a href=\"https://ipywidgets.readthedocs.io/en/stable/user_install.html\">Jupyter\n",
       "  Widgets Documentation</a> for setup instructions.\n",
       "</p>\n",
       "<p>\n",
       "  If you're reading this message in another frontend (for example, a static\n",
       "  rendering on GitHub or <a href=\"https://nbviewer.jupyter.org/\">NBViewer</a>),\n",
       "  it may mean that your frontend doesn't currently support widgets.\n",
       "</p>\n"
      ],
      "text/plain": [
       "Checkbox(value=True, description='10°')"
      ]
     },
     "metadata": {},
     "output_type": "display_data"
    },
    {
     "data": {
      "application/vnd.jupyter.widget-view+json": {
       "model_id": "146683803fd84b72a2aa676e0f1207ea",
       "version_major": 2,
       "version_minor": 0
      },
      "text/html": [
       "<p>Failed to display Jupyter Widget of type <code>Checkbox</code>.</p>\n",
       "<p>\n",
       "  If you're reading this message in the Jupyter Notebook or JupyterLab Notebook, it may mean\n",
       "  that the widgets JavaScript is still loading. If this message persists, it\n",
       "  likely means that the widgets JavaScript library is either not installed or\n",
       "  not enabled. See the <a href=\"https://ipywidgets.readthedocs.io/en/stable/user_install.html\">Jupyter\n",
       "  Widgets Documentation</a> for setup instructions.\n",
       "</p>\n",
       "<p>\n",
       "  If you're reading this message in another frontend (for example, a static\n",
       "  rendering on GitHub or <a href=\"https://nbviewer.jupyter.org/\">NBViewer</a>),\n",
       "  it may mean that your frontend doesn't currently support widgets.\n",
       "</p>\n"
      ],
      "text/plain": [
       "Checkbox(value=True, description='30°')"
      ]
     },
     "metadata": {},
     "output_type": "display_data"
    },
    {
     "data": {
      "application/vnd.jupyter.widget-view+json": {
       "model_id": "a8a2566831a64c64bfcf3283c299303a",
       "version_major": 2,
       "version_minor": 0
      },
      "text/html": [
       "<p>Failed to display Jupyter Widget of type <code>Checkbox</code>.</p>\n",
       "<p>\n",
       "  If you're reading this message in the Jupyter Notebook or JupyterLab Notebook, it may mean\n",
       "  that the widgets JavaScript is still loading. If this message persists, it\n",
       "  likely means that the widgets JavaScript library is either not installed or\n",
       "  not enabled. See the <a href=\"https://ipywidgets.readthedocs.io/en/stable/user_install.html\">Jupyter\n",
       "  Widgets Documentation</a> for setup instructions.\n",
       "</p>\n",
       "<p>\n",
       "  If you're reading this message in another frontend (for example, a static\n",
       "  rendering on GitHub or <a href=\"https://nbviewer.jupyter.org/\">NBViewer</a>),\n",
       "  it may mean that your frontend doesn't currently support widgets.\n",
       "</p>\n"
      ],
      "text/plain": [
       "Checkbox(value=True, description='45°')"
      ]
     },
     "metadata": {},
     "output_type": "display_data"
    },
    {
     "data": {
      "application/vnd.jupyter.widget-view+json": {
       "model_id": "643ec10de2dd4fe9a4ed02f015477e60",
       "version_major": 2,
       "version_minor": 0
      },
      "text/html": [
       "<p>Failed to display Jupyter Widget of type <code>Checkbox</code>.</p>\n",
       "<p>\n",
       "  If you're reading this message in the Jupyter Notebook or JupyterLab Notebook, it may mean\n",
       "  that the widgets JavaScript is still loading. If this message persists, it\n",
       "  likely means that the widgets JavaScript library is either not installed or\n",
       "  not enabled. See the <a href=\"https://ipywidgets.readthedocs.io/en/stable/user_install.html\">Jupyter\n",
       "  Widgets Documentation</a> for setup instructions.\n",
       "</p>\n",
       "<p>\n",
       "  If you're reading this message in another frontend (for example, a static\n",
       "  rendering on GitHub or <a href=\"https://nbviewer.jupyter.org/\">NBViewer</a>),\n",
       "  it may mean that your frontend doesn't currently support widgets.\n",
       "</p>\n"
      ],
      "text/plain": [
       "Checkbox(value=True, description='60°')"
      ]
     },
     "metadata": {},
     "output_type": "display_data"
    },
    {
     "data": {
      "application/vnd.jupyter.widget-view+json": {
       "model_id": "8cbad2f2c9fa4479ab0bccaa6a591bfa",
       "version_major": 2,
       "version_minor": 0
      },
      "text/html": [
       "<p>Failed to display Jupyter Widget of type <code>Checkbox</code>.</p>\n",
       "<p>\n",
       "  If you're reading this message in the Jupyter Notebook or JupyterLab Notebook, it may mean\n",
       "  that the widgets JavaScript is still loading. If this message persists, it\n",
       "  likely means that the widgets JavaScript library is either not installed or\n",
       "  not enabled. See the <a href=\"https://ipywidgets.readthedocs.io/en/stable/user_install.html\">Jupyter\n",
       "  Widgets Documentation</a> for setup instructions.\n",
       "</p>\n",
       "<p>\n",
       "  If you're reading this message in another frontend (for example, a static\n",
       "  rendering on GitHub or <a href=\"https://nbviewer.jupyter.org/\">NBViewer</a>),\n",
       "  it may mean that your frontend doesn't currently support widgets.\n",
       "</p>\n"
      ],
      "text/plain": [
       "Checkbox(value=True, description='80°')"
      ]
     },
     "metadata": {},
     "output_type": "display_data"
    },
    {
     "data": {
      "application/vnd.jupyter.widget-view+json": {
       "model_id": "29107b8decf6471f8263adfaa132189d",
       "version_major": 2,
       "version_minor": 0
      },
      "text/html": [
       "<p>Failed to display Jupyter Widget of type <code>Checkbox</code>.</p>\n",
       "<p>\n",
       "  If you're reading this message in the Jupyter Notebook or JupyterLab Notebook, it may mean\n",
       "  that the widgets JavaScript is still loading. If this message persists, it\n",
       "  likely means that the widgets JavaScript library is either not installed or\n",
       "  not enabled. See the <a href=\"https://ipywidgets.readthedocs.io/en/stable/user_install.html\">Jupyter\n",
       "  Widgets Documentation</a> for setup instructions.\n",
       "</p>\n",
       "<p>\n",
       "  If you're reading this message in another frontend (for example, a static\n",
       "  rendering on GitHub or <a href=\"https://nbviewer.jupyter.org/\">NBViewer</a>),\n",
       "  it may mean that your frontend doesn't currently support widgets.\n",
       "</p>\n"
      ],
      "text/plain": [
       "Checkbox(value=True, description='135°')"
      ]
     },
     "metadata": {},
     "output_type": "display_data"
    }
   ],
   "source": [
    "spi = find(secondary_particle.value,particles_med)\n",
    "\n",
    "detectors_angles = [['10\\u00B0','30\\u00B0','45\\u00B0','60\\u00B0','80\\u00B0','135\\u00B0'], ['7.2\\u00B0','10\\u00B0','12.7\\u00B0','28.2\\u00B0','30\\u00B0','32.7\\u00B0']]\n",
    "available_det_angles = []\n",
    "\n",
    "da_label = widgets.Label(value=\"Select the detector angles to plot.\")\n",
    "\n",
    "dets = []\n",
    "for i in range(6):\n",
    "    if mm_exists[0,isi,iei,ftmi,ftti,spi,(add2deti+i)]:\n",
    "        available_det_angles.append(detectors_angles[detti][i])\n",
    "        dets.append(widgets.Checkbox(\n",
    "            value=True,\n",
    "            description=detectors_angles[detti][i],\n",
    "            disabled=False\n",
    "        ))\n",
    "\n",
    "display(da_label)\n",
    "for i in range(6):\n",
    "    if mm_exists[0,isi,iei,ftmi,ftti,spi,(add2deti+i)]:\n",
    "        display(dets[i])"
   ]
  },
  {
   "cell_type": "code",
   "execution_count": 27,
   "metadata": {},
   "outputs": [
    {
     "data": {
      "application/vnd.jupyter.widget-view+json": {
       "model_id": "ec2f96ed478645d484f10500a0fe574a",
       "version_major": 2,
       "version_minor": 0
      },
      "text/html": [
       "<p>Failed to display Jupyter Widget of type <code>Label</code>.</p>\n",
       "<p>\n",
       "  If you're reading this message in the Jupyter Notebook or JupyterLab Notebook, it may mean\n",
       "  that the widgets JavaScript is still loading. If this message persists, it\n",
       "  likely means that the widgets JavaScript library is either not installed or\n",
       "  not enabled. See the <a href=\"https://ipywidgets.readthedocs.io/en/stable/user_install.html\">Jupyter\n",
       "  Widgets Documentation</a> for setup instructions.\n",
       "</p>\n",
       "<p>\n",
       "  If you're reading this message in another frontend (for example, a static\n",
       "  rendering on GitHub or <a href=\"https://nbviewer.jupyter.org/\">NBViewer</a>),\n",
       "  it may mean that your frontend doesn't currently support widgets.\n",
       "</p>\n"
      ],
      "text/plain": [
       "Label(value='Select which sets of data to display.')"
      ]
     },
     "metadata": {},
     "output_type": "display_data"
    },
    {
     "data": {
      "application/vnd.jupyter.widget-view+json": {
       "model_id": "9af17249e1584010b6d059ea0c98cb69",
       "version_major": 2,
       "version_minor": 0
      },
      "text/html": [
       "<p>Failed to display Jupyter Widget of type <code>Checkbox</code>.</p>\n",
       "<p>\n",
       "  If you're reading this message in the Jupyter Notebook or JupyterLab Notebook, it may mean\n",
       "  that the widgets JavaScript is still loading. If this message persists, it\n",
       "  likely means that the widgets JavaScript library is either not installed or\n",
       "  not enabled. See the <a href=\"https://ipywidgets.readthedocs.io/en/stable/user_install.html\">Jupyter\n",
       "  Widgets Documentation</a> for setup instructions.\n",
       "</p>\n",
       "<p>\n",
       "  If you're reading this message in another frontend (for example, a static\n",
       "  rendering on GitHub or <a href=\"https://nbviewer.jupyter.org/\">NBViewer</a>),\n",
       "  it may mean that your frontend doesn't currently support widgets.\n",
       "</p>\n"
      ],
      "text/plain": [
       "Checkbox(value=True, description='Experiment')"
      ]
     },
     "metadata": {},
     "output_type": "display_data"
    },
    {
     "data": {
      "application/vnd.jupyter.widget-view+json": {
       "model_id": "201af0e682b6479f8091f47bfdda107b",
       "version_major": 2,
       "version_minor": 0
      },
      "text/html": [
       "<p>Failed to display Jupyter Widget of type <code>Checkbox</code>.</p>\n",
       "<p>\n",
       "  If you're reading this message in the Jupyter Notebook or JupyterLab Notebook, it may mean\n",
       "  that the widgets JavaScript is still loading. If this message persists, it\n",
       "  likely means that the widgets JavaScript library is either not installed or\n",
       "  not enabled. See the <a href=\"https://ipywidgets.readthedocs.io/en/stable/user_install.html\">Jupyter\n",
       "  Widgets Documentation</a> for setup instructions.\n",
       "</p>\n",
       "<p>\n",
       "  If you're reading this message in another frontend (for example, a static\n",
       "  rendering on GitHub or <a href=\"https://nbviewer.jupyter.org/\">NBViewer</a>),\n",
       "  it may mean that your frontend doesn't currently support widgets.\n",
       "</p>\n"
      ],
      "text/plain": [
       "Checkbox(value=True, description='MCNP simulated')"
      ]
     },
     "metadata": {},
     "output_type": "display_data"
    },
    {
     "data": {
      "application/vnd.jupyter.widget-view+json": {
       "model_id": "62006f5f0b224f82859e2914b70c1f74",
       "version_major": 2,
       "version_minor": 0
      },
      "text/html": [
       "<p>Failed to display Jupyter Widget of type <code>Checkbox</code>.</p>\n",
       "<p>\n",
       "  If you're reading this message in the Jupyter Notebook or JupyterLab Notebook, it may mean\n",
       "  that the widgets JavaScript is still loading. If this message persists, it\n",
       "  likely means that the widgets JavaScript library is either not installed or\n",
       "  not enabled. See the <a href=\"https://ipywidgets.readthedocs.io/en/stable/user_install.html\">Jupyter\n",
       "  Widgets Documentation</a> for setup instructions.\n",
       "</p>\n",
       "<p>\n",
       "  If you're reading this message in another frontend (for example, a static\n",
       "  rendering on GitHub or <a href=\"https://nbviewer.jupyter.org/\">NBViewer</a>),\n",
       "  it may mean that your frontend doesn't currently support widgets.\n",
       "</p>\n"
      ],
      "text/plain": [
       "Checkbox(value=True, description='PHITS simulated')"
      ]
     },
     "metadata": {},
     "output_type": "display_data"
    }
   ],
   "source": [
    "det_angle_i_list = []\n",
    "for i in range(len(available_det_angles)):\n",
    "    if dets[i].value:\n",
    "        if detti == 0:\n",
    "            det_angle_i_list.append(find(available_det_angles[i],detectors_angles[detti]))\n",
    "        else:\n",
    "            det_angle_i_list.append(find(available_det_angles[i],detectors_angles[detti])+6) # for NaI\n",
    "\n",
    "ds_label = widgets.Label(value='Select which sets of data to display.')            \n",
    "\n",
    "data_set_names = ['Experiment','MCNP simulated','PHITS simulated']\n",
    "data_sets = []\n",
    "for i in range(3):\n",
    "    data_sets.append(widgets.Checkbox(\n",
    "        value=True,\n",
    "        description=data_set_names[i],\n",
    "        disabled=False\n",
    "    ))\n",
    "\n",
    "display(ds_label)\n",
    "for i in range(3):\n",
    "    display(data_sets[i])\n",
    "\n"
   ]
  },
  {
   "cell_type": "code",
   "execution_count": 28,
   "metadata": {},
   "outputs": [
    {
     "data": {
      "application/vnd.jupyter.widget-view+json": {
       "model_id": "d3cb8a54e0294a45a1bbe2eec9d027aa",
       "version_major": 2,
       "version_minor": 0
      },
      "text/html": [
       "<p>Failed to display Jupyter Widget of type <code>Label</code>.</p>\n",
       "<p>\n",
       "  If you're reading this message in the Jupyter Notebook or JupyterLab Notebook, it may mean\n",
       "  that the widgets JavaScript is still loading. If this message persists, it\n",
       "  likely means that the widgets JavaScript library is either not installed or\n",
       "  not enabled. See the <a href=\"https://ipywidgets.readthedocs.io/en/stable/user_install.html\">Jupyter\n",
       "  Widgets Documentation</a> for setup instructions.\n",
       "</p>\n",
       "<p>\n",
       "  If you're reading this message in another frontend (for example, a static\n",
       "  rendering on GitHub or <a href=\"https://nbviewer.jupyter.org/\">NBViewer</a>),\n",
       "  it may mean that your frontend doesn't currently support widgets.\n",
       "</p>\n"
      ],
      "text/plain": [
       "Label(value='Select how data sets for each detector should be spaced apart (if at all).')"
      ]
     },
     "metadata": {},
     "output_type": "display_data"
    },
    {
     "data": {
      "application/vnd.jupyter.widget-view+json": {
       "model_id": "f583c44f519445ad8c017dcbdc237b6d",
       "version_major": 2,
       "version_minor": 0
      },
      "text/html": [
       "<p>Failed to display Jupyter Widget of type <code>ToggleButtons</code>.</p>\n",
       "<p>\n",
       "  If you're reading this message in the Jupyter Notebook or JupyterLab Notebook, it may mean\n",
       "  that the widgets JavaScript is still loading. If this message persists, it\n",
       "  likely means that the widgets JavaScript library is either not installed or\n",
       "  not enabled. See the <a href=\"https://ipywidgets.readthedocs.io/en/stable/user_install.html\">Jupyter\n",
       "  Widgets Documentation</a> for setup instructions.\n",
       "</p>\n",
       "<p>\n",
       "  If you're reading this message in another frontend (for example, a static\n",
       "  rendering on GitHub or <a href=\"https://nbviewer.jupyter.org/\">NBViewer</a>),\n",
       "  it may mean that your frontend doesn't currently support widgets.\n",
       "</p>\n"
      ],
      "text/plain": [
       "ToggleButtons(description='Spacing:', options=('None', 'Spaced by 10²'), tooltips=['All values are presented as is.', 'Plots for different detectors are multiplied by powers of 10² for easier viewing.'], value='None')"
      ]
     },
     "metadata": {},
     "output_type": "display_data"
    }
   ],
   "source": [
    "data_set_i_list = []\n",
    "for i in range(3):\n",
    "    if data_sets[i].value:\n",
    "        data_set_i_list.append(i)\n",
    "\n",
    "spacing_short = ['None','Spaced by 10\\u00B2']\n",
    "spacing_long = ['All values are presented as is.','Plots for different detectors are multiplied by powers of 10\\u00B2 for easier viewing.']\n",
    "\n",
    "spacing_label = widgets.Label(value='Select how data sets for each detector should be spaced apart (if at all).')  \n",
    "\n",
    "spacing_choice = widgets.ToggleButtons(\n",
    "    options=spacing_short,\n",
    "    description='Spacing:',\n",
    "    disabled=False,\n",
    "    button_style='', # 'success', 'info', 'warning', 'danger' or ''\n",
    "    tooltips=spacing_long,\n",
    "#     icons=['check'] * 3\n",
    ")\n",
    "\n",
    "spacing_choice.observe(on_click, 'value')\n",
    "display(spacing_label, spacing_choice)"
   ]
  },
  {
   "cell_type": "code",
   "execution_count": 29,
   "metadata": {},
   "outputs": [
    {
     "data": {
      "application/javascript": [
       "/* Put everything inside the global mpl namespace */\n",
       "window.mpl = {};\n",
       "\n",
       "\n",
       "mpl.get_websocket_type = function() {\n",
       "    if (typeof(WebSocket) !== 'undefined') {\n",
       "        return WebSocket;\n",
       "    } else if (typeof(MozWebSocket) !== 'undefined') {\n",
       "        return MozWebSocket;\n",
       "    } else {\n",
       "        alert('Your browser does not have WebSocket support.' +\n",
       "              'Please try Chrome, Safari or Firefox ≥ 6. ' +\n",
       "              'Firefox 4 and 5 are also supported but you ' +\n",
       "              'have to enable WebSockets in about:config.');\n",
       "    };\n",
       "}\n",
       "\n",
       "mpl.figure = function(figure_id, websocket, ondownload, parent_element) {\n",
       "    this.id = figure_id;\n",
       "\n",
       "    this.ws = websocket;\n",
       "\n",
       "    this.supports_binary = (this.ws.binaryType != undefined);\n",
       "\n",
       "    if (!this.supports_binary) {\n",
       "        var warnings = document.getElementById(\"mpl-warnings\");\n",
       "        if (warnings) {\n",
       "            warnings.style.display = 'block';\n",
       "            warnings.textContent = (\n",
       "                \"This browser does not support binary websocket messages. \" +\n",
       "                    \"Performance may be slow.\");\n",
       "        }\n",
       "    }\n",
       "\n",
       "    this.imageObj = new Image();\n",
       "\n",
       "    this.context = undefined;\n",
       "    this.message = undefined;\n",
       "    this.canvas = undefined;\n",
       "    this.rubberband_canvas = undefined;\n",
       "    this.rubberband_context = undefined;\n",
       "    this.format_dropdown = undefined;\n",
       "\n",
       "    this.image_mode = 'full';\n",
       "\n",
       "    this.root = $('<div/>');\n",
       "    this._root_extra_style(this.root)\n",
       "    this.root.attr('style', 'display: inline-block');\n",
       "\n",
       "    $(parent_element).append(this.root);\n",
       "\n",
       "    this._init_header(this);\n",
       "    this._init_canvas(this);\n",
       "    this._init_toolbar(this);\n",
       "\n",
       "    var fig = this;\n",
       "\n",
       "    this.waiting = false;\n",
       "\n",
       "    this.ws.onopen =  function () {\n",
       "            fig.send_message(\"supports_binary\", {value: fig.supports_binary});\n",
       "            fig.send_message(\"send_image_mode\", {});\n",
       "            if (mpl.ratio != 1) {\n",
       "                fig.send_message(\"set_dpi_ratio\", {'dpi_ratio': mpl.ratio});\n",
       "            }\n",
       "            fig.send_message(\"refresh\", {});\n",
       "        }\n",
       "\n",
       "    this.imageObj.onload = function() {\n",
       "            if (fig.image_mode == 'full') {\n",
       "                // Full images could contain transparency (where diff images\n",
       "                // almost always do), so we need to clear the canvas so that\n",
       "                // there is no ghosting.\n",
       "                fig.context.clearRect(0, 0, fig.canvas.width, fig.canvas.height);\n",
       "            }\n",
       "            fig.context.drawImage(fig.imageObj, 0, 0);\n",
       "        };\n",
       "\n",
       "    this.imageObj.onunload = function() {\n",
       "        fig.ws.close();\n",
       "    }\n",
       "\n",
       "    this.ws.onmessage = this._make_on_message_function(this);\n",
       "\n",
       "    this.ondownload = ondownload;\n",
       "}\n",
       "\n",
       "mpl.figure.prototype._init_header = function() {\n",
       "    var titlebar = $(\n",
       "        '<div class=\"ui-dialog-titlebar ui-widget-header ui-corner-all ' +\n",
       "        'ui-helper-clearfix\"/>');\n",
       "    var titletext = $(\n",
       "        '<div class=\"ui-dialog-title\" style=\"width: 100%; ' +\n",
       "        'text-align: center; padding: 3px;\"/>');\n",
       "    titlebar.append(titletext)\n",
       "    this.root.append(titlebar);\n",
       "    this.header = titletext[0];\n",
       "}\n",
       "\n",
       "\n",
       "\n",
       "mpl.figure.prototype._canvas_extra_style = function(canvas_div) {\n",
       "\n",
       "}\n",
       "\n",
       "\n",
       "mpl.figure.prototype._root_extra_style = function(canvas_div) {\n",
       "\n",
       "}\n",
       "\n",
       "mpl.figure.prototype._init_canvas = function() {\n",
       "    var fig = this;\n",
       "\n",
       "    var canvas_div = $('<div/>');\n",
       "\n",
       "    canvas_div.attr('style', 'position: relative; clear: both; outline: 0');\n",
       "\n",
       "    function canvas_keyboard_event(event) {\n",
       "        return fig.key_event(event, event['data']);\n",
       "    }\n",
       "\n",
       "    canvas_div.keydown('key_press', canvas_keyboard_event);\n",
       "    canvas_div.keyup('key_release', canvas_keyboard_event);\n",
       "    this.canvas_div = canvas_div\n",
       "    this._canvas_extra_style(canvas_div)\n",
       "    this.root.append(canvas_div);\n",
       "\n",
       "    var canvas = $('<canvas/>');\n",
       "    canvas.addClass('mpl-canvas');\n",
       "    canvas.attr('style', \"left: 0; top: 0; z-index: 0; outline: 0\")\n",
       "\n",
       "    this.canvas = canvas[0];\n",
       "    this.context = canvas[0].getContext(\"2d\");\n",
       "\n",
       "    var backingStore = this.context.backingStorePixelRatio ||\n",
       "\tthis.context.webkitBackingStorePixelRatio ||\n",
       "\tthis.context.mozBackingStorePixelRatio ||\n",
       "\tthis.context.msBackingStorePixelRatio ||\n",
       "\tthis.context.oBackingStorePixelRatio ||\n",
       "\tthis.context.backingStorePixelRatio || 1;\n",
       "\n",
       "    mpl.ratio = (window.devicePixelRatio || 1) / backingStore;\n",
       "\n",
       "    var rubberband = $('<canvas/>');\n",
       "    rubberband.attr('style', \"position: absolute; left: 0; top: 0; z-index: 1;\")\n",
       "\n",
       "    var pass_mouse_events = true;\n",
       "\n",
       "    canvas_div.resizable({\n",
       "        start: function(event, ui) {\n",
       "            pass_mouse_events = false;\n",
       "        },\n",
       "        resize: function(event, ui) {\n",
       "            fig.request_resize(ui.size.width, ui.size.height);\n",
       "        },\n",
       "        stop: function(event, ui) {\n",
       "            pass_mouse_events = true;\n",
       "            fig.request_resize(ui.size.width, ui.size.height);\n",
       "        },\n",
       "    });\n",
       "\n",
       "    function mouse_event_fn(event) {\n",
       "        if (pass_mouse_events)\n",
       "            return fig.mouse_event(event, event['data']);\n",
       "    }\n",
       "\n",
       "    rubberband.mousedown('button_press', mouse_event_fn);\n",
       "    rubberband.mouseup('button_release', mouse_event_fn);\n",
       "    // Throttle sequential mouse events to 1 every 20ms.\n",
       "    rubberband.mousemove('motion_notify', mouse_event_fn);\n",
       "\n",
       "    rubberband.mouseenter('figure_enter', mouse_event_fn);\n",
       "    rubberband.mouseleave('figure_leave', mouse_event_fn);\n",
       "\n",
       "    canvas_div.on(\"wheel\", function (event) {\n",
       "        event = event.originalEvent;\n",
       "        event['data'] = 'scroll'\n",
       "        if (event.deltaY < 0) {\n",
       "            event.step = 1;\n",
       "        } else {\n",
       "            event.step = -1;\n",
       "        }\n",
       "        mouse_event_fn(event);\n",
       "    });\n",
       "\n",
       "    canvas_div.append(canvas);\n",
       "    canvas_div.append(rubberband);\n",
       "\n",
       "    this.rubberband = rubberband;\n",
       "    this.rubberband_canvas = rubberband[0];\n",
       "    this.rubberband_context = rubberband[0].getContext(\"2d\");\n",
       "    this.rubberband_context.strokeStyle = \"#000000\";\n",
       "\n",
       "    this._resize_canvas = function(width, height) {\n",
       "        // Keep the size of the canvas, canvas container, and rubber band\n",
       "        // canvas in synch.\n",
       "        canvas_div.css('width', width)\n",
       "        canvas_div.css('height', height)\n",
       "\n",
       "        canvas.attr('width', width * mpl.ratio);\n",
       "        canvas.attr('height', height * mpl.ratio);\n",
       "        canvas.attr('style', 'width: ' + width + 'px; height: ' + height + 'px;');\n",
       "\n",
       "        rubberband.attr('width', width);\n",
       "        rubberband.attr('height', height);\n",
       "    }\n",
       "\n",
       "    // Set the figure to an initial 600x600px, this will subsequently be updated\n",
       "    // upon first draw.\n",
       "    this._resize_canvas(600, 600);\n",
       "\n",
       "    // Disable right mouse context menu.\n",
       "    $(this.rubberband_canvas).bind(\"contextmenu\",function(e){\n",
       "        return false;\n",
       "    });\n",
       "\n",
       "    function set_focus () {\n",
       "        canvas.focus();\n",
       "        canvas_div.focus();\n",
       "    }\n",
       "\n",
       "    window.setTimeout(set_focus, 100);\n",
       "}\n",
       "\n",
       "mpl.figure.prototype._init_toolbar = function() {\n",
       "    var fig = this;\n",
       "\n",
       "    var nav_element = $('<div/>')\n",
       "    nav_element.attr('style', 'width: 100%');\n",
       "    this.root.append(nav_element);\n",
       "\n",
       "    // Define a callback function for later on.\n",
       "    function toolbar_event(event) {\n",
       "        return fig.toolbar_button_onclick(event['data']);\n",
       "    }\n",
       "    function toolbar_mouse_event(event) {\n",
       "        return fig.toolbar_button_onmouseover(event['data']);\n",
       "    }\n",
       "\n",
       "    for(var toolbar_ind in mpl.toolbar_items) {\n",
       "        var name = mpl.toolbar_items[toolbar_ind][0];\n",
       "        var tooltip = mpl.toolbar_items[toolbar_ind][1];\n",
       "        var image = mpl.toolbar_items[toolbar_ind][2];\n",
       "        var method_name = mpl.toolbar_items[toolbar_ind][3];\n",
       "\n",
       "        if (!name) {\n",
       "            // put a spacer in here.\n",
       "            continue;\n",
       "        }\n",
       "        var button = $('<button/>');\n",
       "        button.addClass('ui-button ui-widget ui-state-default ui-corner-all ' +\n",
       "                        'ui-button-icon-only');\n",
       "        button.attr('role', 'button');\n",
       "        button.attr('aria-disabled', 'false');\n",
       "        button.click(method_name, toolbar_event);\n",
       "        button.mouseover(tooltip, toolbar_mouse_event);\n",
       "\n",
       "        var icon_img = $('<span/>');\n",
       "        icon_img.addClass('ui-button-icon-primary ui-icon');\n",
       "        icon_img.addClass(image);\n",
       "        icon_img.addClass('ui-corner-all');\n",
       "\n",
       "        var tooltip_span = $('<span/>');\n",
       "        tooltip_span.addClass('ui-button-text');\n",
       "        tooltip_span.html(tooltip);\n",
       "\n",
       "        button.append(icon_img);\n",
       "        button.append(tooltip_span);\n",
       "\n",
       "        nav_element.append(button);\n",
       "    }\n",
       "\n",
       "    var fmt_picker_span = $('<span/>');\n",
       "\n",
       "    var fmt_picker = $('<select/>');\n",
       "    fmt_picker.addClass('mpl-toolbar-option ui-widget ui-widget-content');\n",
       "    fmt_picker_span.append(fmt_picker);\n",
       "    nav_element.append(fmt_picker_span);\n",
       "    this.format_dropdown = fmt_picker[0];\n",
       "\n",
       "    for (var ind in mpl.extensions) {\n",
       "        var fmt = mpl.extensions[ind];\n",
       "        var option = $(\n",
       "            '<option/>', {selected: fmt === mpl.default_extension}).html(fmt);\n",
       "        fmt_picker.append(option)\n",
       "    }\n",
       "\n",
       "    // Add hover states to the ui-buttons\n",
       "    $( \".ui-button\" ).hover(\n",
       "        function() { $(this).addClass(\"ui-state-hover\");},\n",
       "        function() { $(this).removeClass(\"ui-state-hover\");}\n",
       "    );\n",
       "\n",
       "    var status_bar = $('<span class=\"mpl-message\"/>');\n",
       "    nav_element.append(status_bar);\n",
       "    this.message = status_bar[0];\n",
       "}\n",
       "\n",
       "mpl.figure.prototype.request_resize = function(x_pixels, y_pixels) {\n",
       "    // Request matplotlib to resize the figure. Matplotlib will then trigger a resize in the client,\n",
       "    // which will in turn request a refresh of the image.\n",
       "    this.send_message('resize', {'width': x_pixels, 'height': y_pixels});\n",
       "}\n",
       "\n",
       "mpl.figure.prototype.send_message = function(type, properties) {\n",
       "    properties['type'] = type;\n",
       "    properties['figure_id'] = this.id;\n",
       "    this.ws.send(JSON.stringify(properties));\n",
       "}\n",
       "\n",
       "mpl.figure.prototype.send_draw_message = function() {\n",
       "    if (!this.waiting) {\n",
       "        this.waiting = true;\n",
       "        this.ws.send(JSON.stringify({type: \"draw\", figure_id: this.id}));\n",
       "    }\n",
       "}\n",
       "\n",
       "\n",
       "mpl.figure.prototype.handle_save = function(fig, msg) {\n",
       "    var format_dropdown = fig.format_dropdown;\n",
       "    var format = format_dropdown.options[format_dropdown.selectedIndex].value;\n",
       "    fig.ondownload(fig, format);\n",
       "}\n",
       "\n",
       "\n",
       "mpl.figure.prototype.handle_resize = function(fig, msg) {\n",
       "    var size = msg['size'];\n",
       "    if (size[0] != fig.canvas.width || size[1] != fig.canvas.height) {\n",
       "        fig._resize_canvas(size[0], size[1]);\n",
       "        fig.send_message(\"refresh\", {});\n",
       "    };\n",
       "}\n",
       "\n",
       "mpl.figure.prototype.handle_rubberband = function(fig, msg) {\n",
       "    var x0 = msg['x0'] / mpl.ratio;\n",
       "    var y0 = (fig.canvas.height - msg['y0']) / mpl.ratio;\n",
       "    var x1 = msg['x1'] / mpl.ratio;\n",
       "    var y1 = (fig.canvas.height - msg['y1']) / mpl.ratio;\n",
       "    x0 = Math.floor(x0) + 0.5;\n",
       "    y0 = Math.floor(y0) + 0.5;\n",
       "    x1 = Math.floor(x1) + 0.5;\n",
       "    y1 = Math.floor(y1) + 0.5;\n",
       "    var min_x = Math.min(x0, x1);\n",
       "    var min_y = Math.min(y0, y1);\n",
       "    var width = Math.abs(x1 - x0);\n",
       "    var height = Math.abs(y1 - y0);\n",
       "\n",
       "    fig.rubberband_context.clearRect(\n",
       "        0, 0, fig.canvas.width, fig.canvas.height);\n",
       "\n",
       "    fig.rubberband_context.strokeRect(min_x, min_y, width, height);\n",
       "}\n",
       "\n",
       "mpl.figure.prototype.handle_figure_label = function(fig, msg) {\n",
       "    // Updates the figure title.\n",
       "    fig.header.textContent = msg['label'];\n",
       "}\n",
       "\n",
       "mpl.figure.prototype.handle_cursor = function(fig, msg) {\n",
       "    var cursor = msg['cursor'];\n",
       "    switch(cursor)\n",
       "    {\n",
       "    case 0:\n",
       "        cursor = 'pointer';\n",
       "        break;\n",
       "    case 1:\n",
       "        cursor = 'default';\n",
       "        break;\n",
       "    case 2:\n",
       "        cursor = 'crosshair';\n",
       "        break;\n",
       "    case 3:\n",
       "        cursor = 'move';\n",
       "        break;\n",
       "    }\n",
       "    fig.rubberband_canvas.style.cursor = cursor;\n",
       "}\n",
       "\n",
       "mpl.figure.prototype.handle_message = function(fig, msg) {\n",
       "    fig.message.textContent = msg['message'];\n",
       "}\n",
       "\n",
       "mpl.figure.prototype.handle_draw = function(fig, msg) {\n",
       "    // Request the server to send over a new figure.\n",
       "    fig.send_draw_message();\n",
       "}\n",
       "\n",
       "mpl.figure.prototype.handle_image_mode = function(fig, msg) {\n",
       "    fig.image_mode = msg['mode'];\n",
       "}\n",
       "\n",
       "mpl.figure.prototype.updated_canvas_event = function() {\n",
       "    // Called whenever the canvas gets updated.\n",
       "    this.send_message(\"ack\", {});\n",
       "}\n",
       "\n",
       "// A function to construct a web socket function for onmessage handling.\n",
       "// Called in the figure constructor.\n",
       "mpl.figure.prototype._make_on_message_function = function(fig) {\n",
       "    return function socket_on_message(evt) {\n",
       "        if (evt.data instanceof Blob) {\n",
       "            /* FIXME: We get \"Resource interpreted as Image but\n",
       "             * transferred with MIME type text/plain:\" errors on\n",
       "             * Chrome.  But how to set the MIME type?  It doesn't seem\n",
       "             * to be part of the websocket stream */\n",
       "            evt.data.type = \"image/png\";\n",
       "\n",
       "            /* Free the memory for the previous frames */\n",
       "            if (fig.imageObj.src) {\n",
       "                (window.URL || window.webkitURL).revokeObjectURL(\n",
       "                    fig.imageObj.src);\n",
       "            }\n",
       "\n",
       "            fig.imageObj.src = (window.URL || window.webkitURL).createObjectURL(\n",
       "                evt.data);\n",
       "            fig.updated_canvas_event();\n",
       "            fig.waiting = false;\n",
       "            return;\n",
       "        }\n",
       "        else if (typeof evt.data === 'string' && evt.data.slice(0, 21) == \"data:image/png;base64\") {\n",
       "            fig.imageObj.src = evt.data;\n",
       "            fig.updated_canvas_event();\n",
       "            fig.waiting = false;\n",
       "            return;\n",
       "        }\n",
       "\n",
       "        var msg = JSON.parse(evt.data);\n",
       "        var msg_type = msg['type'];\n",
       "\n",
       "        // Call the  \"handle_{type}\" callback, which takes\n",
       "        // the figure and JSON message as its only arguments.\n",
       "        try {\n",
       "            var callback = fig[\"handle_\" + msg_type];\n",
       "        } catch (e) {\n",
       "            console.log(\"No handler for the '\" + msg_type + \"' message type: \", msg);\n",
       "            return;\n",
       "        }\n",
       "\n",
       "        if (callback) {\n",
       "            try {\n",
       "                // console.log(\"Handling '\" + msg_type + \"' message: \", msg);\n",
       "                callback(fig, msg);\n",
       "            } catch (e) {\n",
       "                console.log(\"Exception inside the 'handler_\" + msg_type + \"' callback:\", e, e.stack, msg);\n",
       "            }\n",
       "        }\n",
       "    };\n",
       "}\n",
       "\n",
       "// from http://stackoverflow.com/questions/1114465/getting-mouse-location-in-canvas\n",
       "mpl.findpos = function(e) {\n",
       "    //this section is from http://www.quirksmode.org/js/events_properties.html\n",
       "    var targ;\n",
       "    if (!e)\n",
       "        e = window.event;\n",
       "    if (e.target)\n",
       "        targ = e.target;\n",
       "    else if (e.srcElement)\n",
       "        targ = e.srcElement;\n",
       "    if (targ.nodeType == 3) // defeat Safari bug\n",
       "        targ = targ.parentNode;\n",
       "\n",
       "    // jQuery normalizes the pageX and pageY\n",
       "    // pageX,Y are the mouse positions relative to the document\n",
       "    // offset() returns the position of the element relative to the document\n",
       "    var x = e.pageX - $(targ).offset().left;\n",
       "    var y = e.pageY - $(targ).offset().top;\n",
       "\n",
       "    return {\"x\": x, \"y\": y};\n",
       "};\n",
       "\n",
       "/*\n",
       " * return a copy of an object with only non-object keys\n",
       " * we need this to avoid circular references\n",
       " * http://stackoverflow.com/a/24161582/3208463\n",
       " */\n",
       "function simpleKeys (original) {\n",
       "  return Object.keys(original).reduce(function (obj, key) {\n",
       "    if (typeof original[key] !== 'object')\n",
       "        obj[key] = original[key]\n",
       "    return obj;\n",
       "  }, {});\n",
       "}\n",
       "\n",
       "mpl.figure.prototype.mouse_event = function(event, name) {\n",
       "    var canvas_pos = mpl.findpos(event)\n",
       "\n",
       "    if (name === 'button_press')\n",
       "    {\n",
       "        this.canvas.focus();\n",
       "        this.canvas_div.focus();\n",
       "    }\n",
       "\n",
       "    var x = canvas_pos.x * mpl.ratio;\n",
       "    var y = canvas_pos.y * mpl.ratio;\n",
       "\n",
       "    this.send_message(name, {x: x, y: y, button: event.button,\n",
       "                             step: event.step,\n",
       "                             guiEvent: simpleKeys(event)});\n",
       "\n",
       "    /* This prevents the web browser from automatically changing to\n",
       "     * the text insertion cursor when the button is pressed.  We want\n",
       "     * to control all of the cursor setting manually through the\n",
       "     * 'cursor' event from matplotlib */\n",
       "    event.preventDefault();\n",
       "    return false;\n",
       "}\n",
       "\n",
       "mpl.figure.prototype._key_event_extra = function(event, name) {\n",
       "    // Handle any extra behaviour associated with a key event\n",
       "}\n",
       "\n",
       "mpl.figure.prototype.key_event = function(event, name) {\n",
       "\n",
       "    // Prevent repeat events\n",
       "    if (name == 'key_press')\n",
       "    {\n",
       "        if (event.which === this._key)\n",
       "            return;\n",
       "        else\n",
       "            this._key = event.which;\n",
       "    }\n",
       "    if (name == 'key_release')\n",
       "        this._key = null;\n",
       "\n",
       "    var value = '';\n",
       "    if (event.ctrlKey && event.which != 17)\n",
       "        value += \"ctrl+\";\n",
       "    if (event.altKey && event.which != 18)\n",
       "        value += \"alt+\";\n",
       "    if (event.shiftKey && event.which != 16)\n",
       "        value += \"shift+\";\n",
       "\n",
       "    value += 'k';\n",
       "    value += event.which.toString();\n",
       "\n",
       "    this._key_event_extra(event, name);\n",
       "\n",
       "    this.send_message(name, {key: value,\n",
       "                             guiEvent: simpleKeys(event)});\n",
       "    return false;\n",
       "}\n",
       "\n",
       "mpl.figure.prototype.toolbar_button_onclick = function(name) {\n",
       "    if (name == 'download') {\n",
       "        this.handle_save(this, null);\n",
       "    } else {\n",
       "        this.send_message(\"toolbar_button\", {name: name});\n",
       "    }\n",
       "};\n",
       "\n",
       "mpl.figure.prototype.toolbar_button_onmouseover = function(tooltip) {\n",
       "    this.message.textContent = tooltip;\n",
       "};\n",
       "mpl.toolbar_items = [[\"Home\", \"Reset original view\", \"fa fa-home icon-home\", \"home\"], [\"Back\", \"Back to  previous view\", \"fa fa-arrow-left icon-arrow-left\", \"back\"], [\"Forward\", \"Forward to next view\", \"fa fa-arrow-right icon-arrow-right\", \"forward\"], [\"\", \"\", \"\", \"\"], [\"Pan\", \"Pan axes with left mouse, zoom with right\", \"fa fa-arrows icon-move\", \"pan\"], [\"Zoom\", \"Zoom to rectangle\", \"fa fa-square-o icon-check-empty\", \"zoom\"], [\"\", \"\", \"\", \"\"], [\"Download\", \"Download plot\", \"fa fa-floppy-o icon-save\", \"download\"]];\n",
       "\n",
       "mpl.extensions = [\"eps\", \"jpeg\", \"pdf\", \"png\", \"ps\", \"raw\", \"svg\", \"tif\"];\n",
       "\n",
       "mpl.default_extension = \"png\";var comm_websocket_adapter = function(comm) {\n",
       "    // Create a \"websocket\"-like object which calls the given IPython comm\n",
       "    // object with the appropriate methods. Currently this is a non binary\n",
       "    // socket, so there is still some room for performance tuning.\n",
       "    var ws = {};\n",
       "\n",
       "    ws.close = function() {\n",
       "        comm.close()\n",
       "    };\n",
       "    ws.send = function(m) {\n",
       "        //console.log('sending', m);\n",
       "        comm.send(m);\n",
       "    };\n",
       "    // Register the callback with on_msg.\n",
       "    comm.on_msg(function(msg) {\n",
       "        //console.log('receiving', msg['content']['data'], msg);\n",
       "        // Pass the mpl event to the overriden (by mpl) onmessage function.\n",
       "        ws.onmessage(msg['content']['data'])\n",
       "    });\n",
       "    return ws;\n",
       "}\n",
       "\n",
       "mpl.mpl_figure_comm = function(comm, msg) {\n",
       "    // This is the function which gets called when the mpl process\n",
       "    // starts-up an IPython Comm through the \"matplotlib\" channel.\n",
       "\n",
       "    var id = msg.content.data.id;\n",
       "    // Get hold of the div created by the display call when the Comm\n",
       "    // socket was opened in Python.\n",
       "    var element = $(\"#\" + id);\n",
       "    var ws_proxy = comm_websocket_adapter(comm)\n",
       "\n",
       "    function ondownload(figure, format) {\n",
       "        window.open(figure.imageObj.src);\n",
       "    }\n",
       "\n",
       "    var fig = new mpl.figure(id, ws_proxy,\n",
       "                           ondownload,\n",
       "                           element.get(0));\n",
       "\n",
       "    // Call onopen now - mpl needs it, as it is assuming we've passed it a real\n",
       "    // web socket which is closed, not our websocket->open comm proxy.\n",
       "    ws_proxy.onopen();\n",
       "\n",
       "    fig.parent_element = element.get(0);\n",
       "    fig.cell_info = mpl.find_output_cell(\"<div id='\" + id + \"'></div>\");\n",
       "    if (!fig.cell_info) {\n",
       "        console.error(\"Failed to find cell for figure\", id, fig);\n",
       "        return;\n",
       "    }\n",
       "\n",
       "    var output_index = fig.cell_info[2]\n",
       "    var cell = fig.cell_info[0];\n",
       "\n",
       "};\n",
       "\n",
       "mpl.figure.prototype.handle_close = function(fig, msg) {\n",
       "    var width = fig.canvas.width/mpl.ratio\n",
       "    fig.root.unbind('remove')\n",
       "\n",
       "    // Update the output cell to use the data from the current canvas.\n",
       "    fig.push_to_output();\n",
       "    var dataURL = fig.canvas.toDataURL();\n",
       "    // Re-enable the keyboard manager in IPython - without this line, in FF,\n",
       "    // the notebook keyboard shortcuts fail.\n",
       "    IPython.keyboard_manager.enable()\n",
       "    $(fig.parent_element).html('<img src=\"' + dataURL + '\" width=\"' + width + '\">');\n",
       "    fig.close_ws(fig, msg);\n",
       "}\n",
       "\n",
       "mpl.figure.prototype.close_ws = function(fig, msg){\n",
       "    fig.send_message('closing', msg);\n",
       "    // fig.ws.close()\n",
       "}\n",
       "\n",
       "mpl.figure.prototype.push_to_output = function(remove_interactive) {\n",
       "    // Turn the data on the canvas into data in the output cell.\n",
       "    var width = this.canvas.width/mpl.ratio\n",
       "    var dataURL = this.canvas.toDataURL();\n",
       "    this.cell_info[1]['text/html'] = '<img src=\"' + dataURL + '\" width=\"' + width + '\">';\n",
       "}\n",
       "\n",
       "mpl.figure.prototype.updated_canvas_event = function() {\n",
       "    // Tell IPython that the notebook contents must change.\n",
       "    IPython.notebook.set_dirty(true);\n",
       "    this.send_message(\"ack\", {});\n",
       "    var fig = this;\n",
       "    // Wait a second, then push the new image to the DOM so\n",
       "    // that it is saved nicely (might be nice to debounce this).\n",
       "    setTimeout(function () { fig.push_to_output() }, 1000);\n",
       "}\n",
       "\n",
       "mpl.figure.prototype._init_toolbar = function() {\n",
       "    var fig = this;\n",
       "\n",
       "    var nav_element = $('<div/>')\n",
       "    nav_element.attr('style', 'width: 100%');\n",
       "    this.root.append(nav_element);\n",
       "\n",
       "    // Define a callback function for later on.\n",
       "    function toolbar_event(event) {\n",
       "        return fig.toolbar_button_onclick(event['data']);\n",
       "    }\n",
       "    function toolbar_mouse_event(event) {\n",
       "        return fig.toolbar_button_onmouseover(event['data']);\n",
       "    }\n",
       "\n",
       "    for(var toolbar_ind in mpl.toolbar_items){\n",
       "        var name = mpl.toolbar_items[toolbar_ind][0];\n",
       "        var tooltip = mpl.toolbar_items[toolbar_ind][1];\n",
       "        var image = mpl.toolbar_items[toolbar_ind][2];\n",
       "        var method_name = mpl.toolbar_items[toolbar_ind][3];\n",
       "\n",
       "        if (!name) { continue; };\n",
       "\n",
       "        var button = $('<button class=\"btn btn-default\" href=\"#\" title=\"' + name + '\"><i class=\"fa ' + image + ' fa-lg\"></i></button>');\n",
       "        button.click(method_name, toolbar_event);\n",
       "        button.mouseover(tooltip, toolbar_mouse_event);\n",
       "        nav_element.append(button);\n",
       "    }\n",
       "\n",
       "    // Add the status bar.\n",
       "    var status_bar = $('<span class=\"mpl-message\" style=\"text-align:right; float: right;\"/>');\n",
       "    nav_element.append(status_bar);\n",
       "    this.message = status_bar[0];\n",
       "\n",
       "    // Add the close button to the window.\n",
       "    var buttongrp = $('<div class=\"btn-group inline pull-right\"></div>');\n",
       "    var button = $('<button class=\"btn btn-mini btn-primary\" href=\"#\" title=\"Stop Interaction\"><i class=\"fa fa-power-off icon-remove icon-large\"></i></button>');\n",
       "    button.click(function (evt) { fig.handle_close(fig, {}); } );\n",
       "    button.mouseover('Stop Interaction', toolbar_mouse_event);\n",
       "    buttongrp.append(button);\n",
       "    var titlebar = this.root.find($('.ui-dialog-titlebar'));\n",
       "    titlebar.prepend(buttongrp);\n",
       "}\n",
       "\n",
       "mpl.figure.prototype._root_extra_style = function(el){\n",
       "    var fig = this\n",
       "    el.on(\"remove\", function(){\n",
       "\tfig.close_ws(fig, {});\n",
       "    });\n",
       "}\n",
       "\n",
       "mpl.figure.prototype._canvas_extra_style = function(el){\n",
       "    // this is important to make the div 'focusable\n",
       "    el.attr('tabindex', 0)\n",
       "    // reach out to IPython and tell the keyboard manager to turn it's self\n",
       "    // off when our div gets focus\n",
       "\n",
       "    // location in version 3\n",
       "    if (IPython.notebook.keyboard_manager) {\n",
       "        IPython.notebook.keyboard_manager.register_events(el);\n",
       "    }\n",
       "    else {\n",
       "        // location in version 2\n",
       "        IPython.keyboard_manager.register_events(el);\n",
       "    }\n",
       "\n",
       "}\n",
       "\n",
       "mpl.figure.prototype._key_event_extra = function(event, name) {\n",
       "    var manager = IPython.notebook.keyboard_manager;\n",
       "    if (!manager)\n",
       "        manager = IPython.keyboard_manager;\n",
       "\n",
       "    // Check for shift+enter\n",
       "    if (event.shiftKey && event.which == 13) {\n",
       "        this.canvas_div.blur();\n",
       "        event.shiftKey = false;\n",
       "        // Send a \"J\" for go to next cell\n",
       "        event.which = 74;\n",
       "        event.keyCode = 74;\n",
       "        manager.command_mode();\n",
       "        manager.handle_keydown(event);\n",
       "    }\n",
       "}\n",
       "\n",
       "mpl.figure.prototype.handle_save = function(fig, msg) {\n",
       "    fig.ondownload(fig, null);\n",
       "}\n",
       "\n",
       "\n",
       "mpl.find_output_cell = function(html_output) {\n",
       "    // Return the cell and output element which can be found *uniquely* in the notebook.\n",
       "    // Note - this is a bit hacky, but it is done because the \"notebook_saving.Notebook\"\n",
       "    // IPython event is triggered only after the cells have been serialised, which for\n",
       "    // our purposes (turning an active figure into a static one), is too late.\n",
       "    var cells = IPython.notebook.get_cells();\n",
       "    var ncells = cells.length;\n",
       "    for (var i=0; i<ncells; i++) {\n",
       "        var cell = cells[i];\n",
       "        if (cell.cell_type === 'code'){\n",
       "            for (var j=0; j<cell.output_area.outputs.length; j++) {\n",
       "                var data = cell.output_area.outputs[j];\n",
       "                if (data.data) {\n",
       "                    // IPython >= 3 moved mimebundle to data attribute of output\n",
       "                    data = data.data;\n",
       "                }\n",
       "                if (data['text/html'] == html_output) {\n",
       "                    return [cell, data, j];\n",
       "                }\n",
       "            }\n",
       "        }\n",
       "    }\n",
       "}\n",
       "\n",
       "// Register the function which deals with the matplotlib target/channel.\n",
       "// The kernel may be null if the page has been refreshed.\n",
       "if (IPython.notebook.kernel != null) {\n",
       "    IPython.notebook.kernel.comm_manager.register_target('matplotlib', mpl.mpl_figure_comm);\n",
       "}\n"
      ],
      "text/plain": [
       "<IPython.core.display.Javascript object>"
      ]
     },
     "metadata": {},
     "output_type": "display_data"
    },
    {
     "data": {
      "text/html": [
       "<img src=\"data:image/png;base64,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\" width=\"640\">"
      ],
      "text/plain": [
       "<IPython.core.display.HTML object>"
      ]
     },
     "metadata": {},
     "output_type": "display_data"
    }
   ],
   "source": [
    "spacing_condition = find(spacing_choice.value,spacing_short)\n",
    "if spacing_condition == 0:\n",
    "    mult_factor_base = 1\n",
    "else:\n",
    "    mult_factor_base = 100\n",
    "\n",
    "fst = 16\n",
    "fs = 14\n",
    "beam_energy_text = erg_options(isi)[iei]\n",
    "beam_species_text = projectile_sym_str[isi]\n",
    "\n",
    "fig = plt.figure()\n",
    "ax = plt.subplot(111)\n",
    "# Axis labels\n",
    "title_text = particles_long[spi] + \" Energy Spectra for\" + \"\\n\" \n",
    "title_text += beam_energy_text +\" \"+ beam_species_text + \" on \"+ thicknesses[ftti] +\" \"+ target_mats_short[ftmi] \n",
    "plt.title(title_text,fontsize=fst)\n",
    "if spi <= 2:\n",
    "    plt.xlabel(\"Energy [MeV]\",fontsize=fs)\n",
    "else:\n",
    "    plt.xlabel(\"Energy [MeV/n]\",fontsize=fs)\n",
    "\n",
    "if spi == 1: # deconvoluted neutrons\n",
    "    leg_strings = [r'Experimental (deconvoluted)',r'MCNP (simulated)', r'PHITS (simulated)']\n",
    "    plt.ylabel(r\"Yield [#$\\cdot$/(MeV$\\cdot$s.p.)]\",fontsize=fs)\n",
    "else:\n",
    "    leg_strings = [r'Experimental (time-of-flight)',r'MCNP (simulated)', r'PHITS (simulated)']\n",
    "    if spi <= 2:\n",
    "        plt.ylabel(r\"Yield [#/(MeV$\\cdot$sr$\\cdot$s.p.)]\",fontsize=fs)\n",
    "    else:\n",
    "        plt.ylabel(r\"Yield [#/(MeV/n$\\cdot$sr$\\cdot$s.p.)]\",fontsize=fs)\n",
    "\n",
    "# Generate portion of legend specifying data sets\n",
    "if spi == 1:\n",
    "    exp_leg, = plt.errorbar(np.NaN, np.NaN,yerr=0, color='dimgrey', marker=\".\",markersize=3,linestyle=\":\",alpha=1.0), #, label=r'Deconvolued')\n",
    "else:\n",
    "    exp_leg,  = plt.errorbar(np.NaN, np.NaN,xerr=0,yerr=0,marker=\".\",c='dimgrey',markersize=2,linestyle=\"\",elinewidth=0.5,markeredgewidth=0.5,capsize=0), # , label=r'Experimental (ToF)') \n",
    "\n",
    "MCNP_leg, = plt.errorbar(np.NaN, np.NaN,yerr=0, color='dimgrey', marker=\"^\",markersize=3,linestyle=\"--\"), #, label=r'Simulated (MCNP)')\n",
    "PHITS_leg, = plt.errorbar(np.NaN, np.NaN,yerr=0, color='dimgrey', marker=\"s\",markersize=3,linestyle=\"--\"), #, label=r'Simulated (PHITS)')\n",
    "\n",
    "legs_for_ds = [exp_leg, MCNP_leg, PHITS_leg]\n",
    "used_ds_legs = []\n",
    "used_ds_leg_strs = []\n",
    "leg_handles1 = []\n",
    "leg_labels1 = []\n",
    "    \n",
    "for dsi in data_set_i_list:\n",
    "    used_ds_legs.append(legs_for_ds[dsi])\n",
    "    used_ds_leg_strs.append(leg_strings[dsi])\n",
    "    k=0\n",
    "    for di in det_angle_i_list:\n",
    "        ndet = str(di+1)\n",
    "        scale_power = 2*((len(det_angle_i_list)-1)-k)\n",
    "        mult_factor = mult_factor_base**scale_power\n",
    "        if spacing_condition == 0:\n",
    "            lab_text = detectors_angles[detti][di]\n",
    "        else:\n",
    "            lab_text = detectors_angles[detti][di] + r\" $\\times10^{{{0}}}$\".format(str(int(scale_power)))\n",
    "        k += 1\n",
    "        \n",
    "        # Make artificial legend for 6 detectors\n",
    "        ebp = ax.plot(np.NaN, np.NaN,c=detector_colors(di),marker=\"s\",markersize=8,linestyle=\"\") #,label=lab_text) #,label='Simulated (MCNP)')\n",
    "        leg_handles1.append(ebp[0])\n",
    "        leg_labels1.append(lab_text)\n",
    "        \n",
    "        nzi = np.nonzero(mm_values[dsi,iei,ftmi,ftti,spi,di,1,:])\n",
    "        xdata = mm_values[dsi,iei,ftmi,ftti,spi,di,1,:][nzi]\n",
    "        xbinw = [mm_values[dsi,iei,ftmi,ftti,spi,di,1,:][nzi]-mm_values[dsi,iei,ftmi,ftti,spi,di,0,:][nzi] , mm_values[dsi,iei,ftmi,ftti,spi,di,2,:][nzi]-mm_values[dsi,iei,ftmi,ftti,spi,di,1,:][nzi]]\n",
    "        ydata = mm_values[dsi,iei,ftmi,ftti,spi,di,3,:][nzi]\n",
    "        yerr_stat = mm_values[dsi,iei,ftmi,ftti,spi,di,4,:][nzi]\n",
    "        yerr_sys = mm_values[dsi,iei,ftmi,ftti,spi,di,5,:][nzi]\n",
    "        xerr = mm_values[dsi,iei,ftmi,ftti,spi,di,6,:][nzi]\n",
    "        \n",
    "        ydata = ydata*mult_factor\n",
    "        yerr_stat = yerr_stat*mult_factor\n",
    "        yerr_sys = yerr_sys*mult_factor\n",
    "        \n",
    "        # Generate plots\n",
    "        if dsi == 0: # experimental results\n",
    "            if spi == 1: # deconvoluted neutrons\n",
    "                alpha_val=1.0\n",
    "                marker_val = \".\"\n",
    "                p = plt.errorbar(xdata,ydata,yerr=yerr,c=detector_colors(di),marker=marker_val,markersize=3,linestyle=\":\",alpha=alpha_val,label=lab_text) #,label='Simulated (MCNP)')\n",
    "            else:\n",
    "                # x error bar (bin width)\n",
    "                xerrbar = xbinw\n",
    "                # x error box (energy resolution\n",
    "                xerrbox = xerr\n",
    "                xerrbox = np.array([xerrbox, xerrbox])\n",
    "                # y error bar (systematic uncertainty)\n",
    "                yerrbar = [yerr_sys, yerr_sys]\n",
    "                yerrbar[0][(ydata-yerrbar[0])<=0]=0 # get rid of negative error bars\n",
    "                yerrbar[1][(ydata)<=0]=0 # get rid of errorbars on negative points\n",
    "                # y error box (statistical uncertainty)\n",
    "                yerrbox = np.array([yerr_stat, yerr_stat])\n",
    "                \n",
    "                p = plt.errorbar(xdata,ydata,xerr=xerrbar,yerr=yerrbar,marker=\".\",c=detector_colors(di),markersize=2,linestyle=\"\",elinewidth=0.5,markeredgewidth=0.5,capsize=0,label=lab_text)\n",
    "                nx_color = detector_colors(di) #p[0].get_color()\n",
    "                makeErrorBoxes(xdata,ydata,xerrbox,yerrbox,fc='None',ec=nx_color,alpha=1.0,lw=0.5)\n",
    "                makeErrorBoxes(xdata,ydata,xerrbox,yerrbox,fc=nx_color,ec='None',alpha=0.1,lw=0.5)\n",
    "                \n",
    "        elif dsi == 1: # MCNP results\n",
    "            ebp = plt.errorbar(xdata,ydata,yerr=yerr_stat,c=detector_colors(di),marker=\"^\",markersize=3,linestyle=\"--\") #,label=lab_text) #,label='Simulated (MCNP)')\n",
    "        \n",
    "        elif dsi == 2: # PHITS results\n",
    "            ebp = plt.errorbar(xdata,ydata,yerr=yerr_stat,c=detector_colors(di),marker=\"s\",markersize=3,linestyle=\"--\") #,label=lab_text) #,label='Simulated (MCNP)')\n",
    "        \n",
    "        \n",
    "#handles, labels = ax.get_legend_handles_labels()\n",
    "if len(data_set_i_list)==3: # Three rows in named legend\n",
    "    box_h_multiplier = 0.92 # percentage of total height occupied by actual plot\n",
    "    box_h_offset = 0.12 # vertical offset left at the bottom for legend stuff\n",
    "    leg2_anchor = (0.5, -0.065)\n",
    "    leg1_anchor = (0.47, -0.155)\n",
    "elif len(data_set_i_list)==2: # Two rows of legend\n",
    "    box_h_multiplier = 0.92 # percentage of total height occupied by actual plot\n",
    "    box_h_offset = 0.12 # vertical offset left at the bottom for legend stuff\n",
    "    leg2_anchor = (0.5, -0.065)\n",
    "    leg1_anchor = (0.47, -0.155)\n",
    "else: # One row of legend\n",
    "    box_h_multiplier = 0.92 # percentage of total height occupied by actual plot\n",
    "    box_h_offset = 0.12 # vertical offset left at the bottom for legend stuff\n",
    "    leg2_anchor = (0.5, -0.065)\n",
    "    leg1_anchor = (0.47, -0.155)\n",
    "\n",
    "# Set size and location of the plot on the canvas\n",
    "box = ax.get_position()\n",
    "ax.set_position([box.x0 + box.width * 0.025, box.y0 + box.height * box_h_offset,box.width * 0.95, box.height * box_h_multiplier])\n",
    "\n",
    "# Put a legend below current axis\n",
    "legend2 = ax.legend(used_ds_legs,used_ds_leg_strs,loc='upper center', bbox_to_anchor=leg2_anchor, ncol=1)\n",
    "\n",
    "# Put a legend below current axis\n",
    "ax.legend(leg_handles1[:6],leg_labels1[:6],loc='upper center', bbox_to_anchor=leg1_anchor, ncol=3,handletextpad=0.1)\n",
    "ax.add_artist(legend2)\n",
    "\n",
    "window_title = mm_metadata[dsi,isi,iei,ftmi,ftti,spi,0,1] + \"_fig\"\n",
    "fig.canvas.set_window_title(window_title)\n",
    "if spacing_condition == 1: \n",
    "    fig.set_size_inches(5.25,10.25)\n",
    "        \n",
    "plt.xscale('log')\n",
    "plt.yscale('log')\n",
    "plt.grid(b=True, which='major', linestyle='-', alpha=0.25)\n",
    "plt.grid(b=True, which='minor', linestyle='-', alpha=0.10)\n",
    "plt.xlim([5,2000])\n",
    "        \n",
    "        \n",
    "        \n",
    "plt.show()        \n",
    "        \n",
    "    \n",
    "    \n"
   ]
  },
  {
   "cell_type": "code",
   "execution_count": null,
   "metadata": {},
   "outputs": [],
   "source": []
  }
 ],
 "metadata": {
  "kernelspec": {
   "display_name": "Python 3",
   "language": "python",
   "name": "python3"
  },
  "language_info": {
   "codemirror_mode": {
    "name": "ipython",
    "version": 3
   },
   "file_extension": ".py",
   "mimetype": "text/x-python",
   "name": "python",
   "nbconvert_exporter": "python",
   "pygments_lexer": "ipython3",
   "version": "3.6.4"
  },
  "widgets": {
   "application/vnd.jupyter.widget-state+json": {
    "state": {
     "015a24742f1046a68c1d4db057c366cf": {
      "model_module": "@jupyter-widgets/controls",
      "model_module_version": "1.1.0",
      "model_name": "CheckboxModel",
      "state": {
       "description": "MCNP sim.",
       "disabled": false,
       "layout": "IPY_MODEL_f4c2d755906e4acc82b4b2022cb7d83e",
       "style": "IPY_MODEL_59d88d47bdd14c89a862b29a2a531ba7",
       "value": true
      }
     },
     "016af3617c1540cb8e02cb71fbe0670e": {
      "model_module": "@jupyter-widgets/base",
      "model_module_version": "1.0.0",
      "model_name": "LayoutModel",
      "state": {}
     },
     "016af7d1f94149218d11f66c4a091e97": {
      "model_module": "@jupyter-widgets/controls",
      "model_module_version": "1.1.0",
      "model_name": "CheckboxModel",
      "state": {
       "description": "80°",
       "disabled": false,
       "layout": "IPY_MODEL_d7fa1e0a970542dfa0bcacd0af564385",
       "style": "IPY_MODEL_5fd143974646441e9efb80cf682ca8a5",
       "value": true
      }
     },
     "01d7e586b2a44ccb8a530a82fbf83230": {
      "model_module": "@jupyter-widgets/controls",
      "model_module_version": "1.1.0",
      "model_name": "ToggleButtonsModel",
      "state": {
       "_options_labels": [
        "20 g/cm²",
        "40 g/cm²",
        "60 g/cm²"
       ],
       "button_style": "",
       "description": "Upstream target thickness:",
       "icons": [],
       "index": 0,
       "layout": "IPY_MODEL_596ea217ac164fedaf51f67142124c58",
       "style": "IPY_MODEL_55a5703aec6e4ddf86fb580bdcbfe484",
       "tooltips": [
        "20 g/cm²",
        "40 g/cm²",
        "60 g/cm²"
       ]
      }
     },
     "01f72b147b784cc9ba5906f2ca107057": {
      "model_module": "@jupyter-widgets/controls",
      "model_module_version": "1.1.0",
      "model_name": "ToggleButtonsStyleModel",
      "state": {
       "button_width": "",
       "description_width": ""
      }
     },
     "02127c50231e4972b41b1271ccf9305d": {
      "model_module": "@jupyter-widgets/controls",
      "model_module_version": "1.1.0",
      "model_name": "DescriptionStyleModel",
      "state": {
       "description_width": ""
      }
     },
     "0212a0076bfb4fe9b444a577f12be42d": {
      "model_module": "@jupyter-widgets/controls",
      "model_module_version": "1.1.0",
      "model_name": "CheckboxModel",
      "state": {
       "description": "30°",
       "disabled": false,
       "layout": "IPY_MODEL_51b6948d26ac4208adc465035d6b9140",
       "style": "IPY_MODEL_4f1190b8cbda46f889e0baa7d9929de6",
       "value": true
      }
     },
     "0337ce54a5744c2592c741f8bf0da893": {
      "model_module": "@jupyter-widgets/base",
      "model_module_version": "1.0.0",
      "model_name": "LayoutModel",
      "state": {}
     },
     "03ae5818f0e94776ac03fe0d71608a92": {
      "model_module": "@jupyter-widgets/controls",
      "model_module_version": "1.1.0",
      "model_name": "LabelModel",
      "state": {
       "layout": "IPY_MODEL_637ed75ddebd43dbb94e0c153d7585d5",
       "style": "IPY_MODEL_085dff56f3114ea8938afe829535393f",
       "value": "Select upstream target material."
      }
     },
     "03dcf3cd83ed429284cfc87240c360b6": {
      "model_module": "@jupyter-widgets/base",
      "model_module_version": "1.0.0",
      "model_name": "LayoutModel",
      "state": {}
     },
     "046224b054b0448ea8e0ed8ad64c4b05": {
      "model_module": "@jupyter-widgets/base",
      "model_module_version": "1.0.0",
      "model_name": "LayoutModel",
      "state": {}
     },
     "04a447586dda4ee698d2fb2937a163eb": {
      "model_module": "@jupyter-widgets/controls",
      "model_module_version": "1.1.0",
      "model_name": "CheckboxModel",
      "state": {
       "description": "135°",
       "disabled": false,
       "layout": "IPY_MODEL_a692bd63ab7c48f295ccea4406aef904",
       "style": "IPY_MODEL_343114b504ce43fda824ef0816453850",
       "value": true
      }
     },
     "04e0e02fd9424300a282ee8e21e6a088": {
      "model_module": "@jupyter-widgets/base",
      "model_module_version": "1.0.0",
      "model_name": "LayoutModel",
      "state": {}
     },
     "0661377c3ce84078b39d999e286c34f4": {
      "model_module": "@jupyter-widgets/controls",
      "model_module_version": "1.1.0",
      "model_name": "CheckboxModel",
      "state": {
       "description": "10°",
       "disabled": false,
       "layout": "IPY_MODEL_80c974a6982d4c27bab83c49568cae82",
       "style": "IPY_MODEL_02127c50231e4972b41b1271ccf9305d",
       "value": true
      }
     },
     "06b2f62874494d339bb90eea19176892": {
      "model_module": "@jupyter-widgets/controls",
      "model_module_version": "1.1.0",
      "model_name": "ToggleButtonsStyleModel",
      "state": {
       "button_width": "",
       "description_width": ""
      }
     },
     "06c0c365322742f782334733d0d37345": {
      "model_module": "@jupyter-widgets/base",
      "model_module_version": "1.0.0",
      "model_name": "LayoutModel",
      "state": {}
     },
     "0758ae860a9c4504adc31a0935c7f733": {
      "model_module": "@jupyter-widgets/base",
      "model_module_version": "1.0.0",
      "model_name": "LayoutModel",
      "state": {}
     },
     "07755daa83fe4274b62c67d067d8f5c2": {
      "model_module": "@jupyter-widgets/controls",
      "model_module_version": "1.1.0",
      "model_name": "ToggleButtonsModel",
      "state": {
       "_options_labels": [
        "20 g/cm²",
        "40 g/cm²",
        "60 g/cm²"
       ],
       "button_style": "",
       "description": "Thickness:",
       "icons": [],
       "index": 0,
       "layout": "IPY_MODEL_40ddbb06e0014ae08ff988866adf07c1",
       "style": "IPY_MODEL_90e4cb21488d410886e5f278df600e84",
       "tooltips": [
        "20 g/cm²",
        "40 g/cm²",
        "60 g/cm²"
       ]
      }
     },
     "07757186b124423b90b6fc4a321a3839": {
      "model_module": "@jupyter-widgets/controls",
      "model_module_version": "1.1.0",
      "model_name": "DescriptionStyleModel",
      "state": {
       "description_width": ""
      }
     },
     "077e109affea4d699a6c5e1910bcab11": {
      "model_module": "@jupyter-widgets/controls",
      "model_module_version": "1.1.0",
      "model_name": "ToggleButtonsStyleModel",
      "state": {
       "button_width": "",
       "description_width": ""
      }
     },
     "07e26bfbdd264c5caa86997cd380255c": {
      "model_module": "@jupyter-widgets/controls",
      "model_module_version": "1.1.0",
      "model_name": "DescriptionStyleModel",
      "state": {
       "description_width": ""
      }
     },
     "0839726bcf934b2a8cabd4c883d639f1": {
      "model_module": "@jupyter-widgets/controls",
      "model_module_version": "1.1.0",
      "model_name": "LabelModel",
      "state": {
       "layout": "IPY_MODEL_325639152adf4b15b3b1051041ae68eb",
       "style": "IPY_MODEL_72b2eebf41ac4c2db75c3a52ac89f3c9",
       "value": "Select a detector type."
      }
     },
     "085dff56f3114ea8938afe829535393f": {
      "model_module": "@jupyter-widgets/controls",
      "model_module_version": "1.1.0",
      "model_name": "DescriptionStyleModel",
      "state": {
       "description_width": ""
      }
     },
     "093c5b828de249c78fddec2d5a864ef9": {
      "model_module": "@jupyter-widgets/base",
      "model_module_version": "1.0.0",
      "model_name": "LayoutModel",
      "state": {}
     },
     "0a00a4e4a38943d1be4af74db92ec146": {
      "model_module": "@jupyter-widgets/controls",
      "model_module_version": "1.1.0",
      "model_name": "DescriptionStyleModel",
      "state": {
       "description_width": ""
      }
     },
     "0a15630079c4457195034b328b2a52c7": {
      "model_module": "@jupyter-widgets/controls",
      "model_module_version": "1.1.0",
      "model_name": "ToggleButtonsModel",
      "state": {
       "_options_labels": [
        "H",
        "He",
        "C",
        "Si",
        "Fe"
       ],
       "button_style": "",
       "description": "Ion:",
       "icons": [],
       "index": 1,
       "layout": "IPY_MODEL_cdd7b460ab6d497e89a40e54704e0405",
       "style": "IPY_MODEL_2600d26c307b4d64b61cddbb1c9c8bf9",
       "tooltips": [
        "Hydrogen",
        "Helium",
        "Carbon",
        "Silicon",
        "Iron"
       ]
      }
     },
     "0a4e49250d1b4f6f98897b6d82eeb9a1": {
      "model_module": "@jupyter-widgets/controls",
      "model_module_version": "1.1.0",
      "model_name": "CheckboxModel",
      "state": {
       "description": "10°",
       "disabled": false,
       "layout": "IPY_MODEL_99bd68cb67c647a19d309a72f54f1d43",
       "style": "IPY_MODEL_1825297813484bcdac34bff4130870cc",
       "value": true
      }
     },
     "0a70fb9ba1734f81bf40a0d762dae042": {
      "model_module": "@jupyter-widgets/base",
      "model_module_version": "1.0.0",
      "model_name": "LayoutModel",
      "state": {}
     },
     "0a9707392c6b4c3282af3dc874884ff5": {
      "model_module": "@jupyter-widgets/base",
      "model_module_version": "1.0.0",
      "model_name": "LayoutModel",
      "state": {}
     },
     "0a991623230c4b9c9ef64ab68ea5d54d": {
      "model_module": "@jupyter-widgets/controls",
      "model_module_version": "1.1.0",
      "model_name": "DescriptionStyleModel",
      "state": {
       "description_width": ""
      }
     },
     "0b494dc80487406a9b61c6f01741dc0a": {
      "model_module": "@jupyter-widgets/base",
      "model_module_version": "1.0.0",
      "model_name": "LayoutModel",
      "state": {}
     },
     "0b9ff29894144d61b66453698de74215": {
      "model_module": "@jupyter-widgets/controls",
      "model_module_version": "1.1.0",
      "model_name": "DescriptionStyleModel",
      "state": {
       "description_width": ""
      }
     },
     "0c5612b8ca424f38baede82fdba62a08": {
      "model_module": "@jupyter-widgets/controls",
      "model_module_version": "1.1.0",
      "model_name": "DescriptionStyleModel",
      "state": {
       "description_width": ""
      }
     },
     "0c5d38b2439f4de1b6158b9ce2c2de5c": {
      "model_module": "@jupyter-widgets/controls",
      "model_module_version": "1.1.0",
      "model_name": "DescriptionStyleModel",
      "state": {
       "description_width": ""
      }
     },
     "0ce14b6fac51407f83c6f33e8133ce9d": {
      "model_module": "@jupyter-widgets/base",
      "model_module_version": "1.0.0",
      "model_name": "LayoutModel",
      "state": {}
     },
     "0d2323b67db544279e9b9cca4b235141": {
      "model_module": "@jupyter-widgets/controls",
      "model_module_version": "1.1.0",
      "model_name": "ToggleButtonsModel",
      "state": {
       "_options_labels": [
        "Al",
        "HDPE",
        "AlPE"
       ],
       "button_style": "",
       "description": "Upstream target material:",
       "icons": [],
       "index": 0,
       "layout": "IPY_MODEL_0f9a3a7ea3274908a4ba07dfeee17777",
       "style": "IPY_MODEL_c6a1b9433eb64e99a0423142484aa85c",
       "tooltips": [
        "Aluminum",
        "Polyethylene",
        "Combination of Al and HDPE"
       ]
      }
     },
     "0eefed4c26c24fdd9b4b7a338ffa2d06": {
      "model_module": "@jupyter-widgets/base",
      "model_module_version": "1.0.0",
      "model_name": "LayoutModel",
      "state": {}
     },
     "0f09a72e9f9f4937bd8a9ecae88876c4": {
      "model_module": "@jupyter-widgets/controls",
      "model_module_version": "1.1.0",
      "model_name": "DescriptionStyleModel",
      "state": {
       "description_width": ""
      }
     },
     "0f4bb8f40098437a8daeb753c0da2516": {
      "model_module": "@jupyter-widgets/controls",
      "model_module_version": "1.1.0",
      "model_name": "ToggleButtonsModel",
      "state": {
       "_options_labels": [
        "N",
        "NDC",
        "P (¹H)",
        "D (²H)",
        "T (³H)",
        "S (³He)",
        "A (⁴He)"
       ],
       "button_style": "",
       "description": "Type:",
       "icons": [],
       "index": 4,
       "layout": "IPY_MODEL_edf26b31a5c04ae5ac5eb9360ccd15ef",
       "style": "IPY_MODEL_13271da540d24704a926fec8f665e358",
       "tooltips": [
        "Neutron",
        "Neutron (deconvoluted)",
        "Proton",
        "Deuteron",
        "Triton",
        "Helium-3",
        "Helium-4"
       ]
      }
     },
     "0f76e3888d8341d28dd5fed39c244e0e": {
      "model_module": "@jupyter-widgets/base",
      "model_module_version": "1.0.0",
      "model_name": "LayoutModel",
      "state": {}
     },
     "0f9a3a7ea3274908a4ba07dfeee17777": {
      "model_module": "@jupyter-widgets/base",
      "model_module_version": "1.0.0",
      "model_name": "LayoutModel",
      "state": {}
     },
     "10ca3d80274042888db9704121729f77": {
      "model_module": "@jupyter-widgets/controls",
      "model_module_version": "1.1.0",
      "model_name": "LabelModel",
      "state": {
       "layout": "IPY_MODEL_ae22be5c28e94de696808e167388ef1f",
       "style": "IPY_MODEL_2e747fb81d244092853eacf0aec85b3a",
       "value": "Select projectile ion species."
      }
     },
     "10fad7c03c90440a974d7f485df8d67e": {
      "model_module": "@jupyter-widgets/controls",
      "model_module_version": "1.1.0",
      "model_name": "CheckboxModel",
      "state": {
       "description": "10°",
       "disabled": false,
       "layout": "IPY_MODEL_0a70fb9ba1734f81bf40a0d762dae042",
       "style": "IPY_MODEL_0a00a4e4a38943d1be4af74db92ec146",
       "value": true
      }
     },
     "120e79b40cc1437caea92ee8f745a440": {
      "model_module": "@jupyter-widgets/controls",
      "model_module_version": "1.1.0",
      "model_name": "ToggleButtonsStyleModel",
      "state": {
       "button_width": "",
       "description_width": ""
      }
     },
     "1211d6f9f9e04653a3a58fdd718ac1ef": {
      "model_module": "@jupyter-widgets/base",
      "model_module_version": "1.0.0",
      "model_name": "LayoutModel",
      "state": {}
     },
     "124b0a83e56f43c3afd1d745a3842523": {
      "model_module": "@jupyter-widgets/controls",
      "model_module_version": "1.1.0",
      "model_name": "CheckboxModel",
      "state": {
       "description": "7.2°",
       "disabled": false,
       "layout": "IPY_MODEL_9d4f6d8efe3e403b85e88c1a136d41e8",
       "style": "IPY_MODEL_0a991623230c4b9c9ef64ab68ea5d54d",
       "value": true
      }
     },
     "1266e2d15f2c4ed1a6ccfe7dfca2b24e": {
      "model_module": "@jupyter-widgets/controls",
      "model_module_version": "1.1.0",
      "model_name": "CheckboxModel",
      "state": {
       "description": "60°",
       "disabled": false,
       "layout": "IPY_MODEL_f198b3453e774f70bf273162d5d01d64",
       "style": "IPY_MODEL_dd3a3b31398e4a0e9aa1cddadb32dcea",
       "value": true
      }
     },
     "126934ddfa8e4192b3fd5ece72e96b59": {
      "model_module": "@jupyter-widgets/controls",
      "model_module_version": "1.1.0",
      "model_name": "CheckboxModel",
      "state": {
       "description": "30°",
       "disabled": false,
       "layout": "IPY_MODEL_a39a0b6219a04e33ac8128e88b31eec9",
       "style": "IPY_MODEL_aa2c1f5ef7a94d079d5ed5026d0aaa7c",
       "value": true
      }
     },
     "12d7b13808f14eada5e484820d7ef00e": {
      "model_module": "@jupyter-widgets/controls",
      "model_module_version": "1.1.0",
      "model_name": "CheckboxModel",
      "state": {
       "description": "45°",
       "disabled": false,
       "layout": "IPY_MODEL_1f0011445a274e36af5ba0d2d546cdf0",
       "style": "IPY_MODEL_0c5612b8ca424f38baede82fdba62a08",
       "value": true
      }
     },
     "13271da540d24704a926fec8f665e358": {
      "model_module": "@jupyter-widgets/controls",
      "model_module_version": "1.1.0",
      "model_name": "ToggleButtonsStyleModel",
      "state": {
       "button_width": "",
       "description_width": ""
      }
     },
     "1343ff4e746c4800991407de65ac09e2": {
      "model_module": "@jupyter-widgets/base",
      "model_module_version": "1.0.0",
      "model_name": "LayoutModel",
      "state": {}
     },
     "143c0b0a8ded453daf70a006d44b7880": {
      "model_module": "@jupyter-widgets/controls",
      "model_module_version": "1.1.0",
      "model_name": "DescriptionStyleModel",
      "state": {
       "description_width": ""
      }
     },
     "14656cbd39454997b90ef16224d21acc": {
      "model_module": "@jupyter-widgets/controls",
      "model_module_version": "1.1.0",
      "model_name": "LabelModel",
      "state": {
       "layout": "IPY_MODEL_5b62b7eeb86143959158e4085d77bb88",
       "style": "IPY_MODEL_de514ac198ee4f96a23947a300d166c6",
       "value": "Select upstream target material."
      }
     },
     "148bb584f6ef4e5e878a1b381fe79254": {
      "model_module": "@jupyter-widgets/controls",
      "model_module_version": "1.1.0",
      "model_name": "LabelModel",
      "state": {
       "layout": "IPY_MODEL_5c0314f0e2ae4326abd5d4ac63c8dc35",
       "style": "IPY_MODEL_370f4ee7c2e44db992d620b6a6ceb2dd",
       "value": "Select how data sets for each detector should be spaced apart (if at all)."
      }
     },
     "151abc60134044d5a94d1ed2cc538c10": {
      "model_module": "@jupyter-widgets/base",
      "model_module_version": "1.0.0",
      "model_name": "LayoutModel",
      "state": {}
     },
     "154fea893a0347a9b41097a0151ff2a7": {
      "model_module": "@jupyter-widgets/controls",
      "model_module_version": "1.1.0",
      "model_name": "LabelModel",
      "state": {
       "layout": "IPY_MODEL_494ed35864824a06877c2dfcc5d747f6",
       "style": "IPY_MODEL_e18a396c81f740bcb8fd470324b131d6",
       "value": "Select projectile ion energy."
      }
     },
     "15689425cbfc4a4c971397446beb65e8": {
      "model_module": "@jupyter-widgets/base",
      "model_module_version": "1.0.0",
      "model_name": "LayoutModel",
      "state": {}
     },
     "15a35212efc8475aaf0e98cf2b28246a": {
      "model_module": "@jupyter-widgets/controls",
      "model_module_version": "1.1.0",
      "model_name": "ToggleButtonsStyleModel",
      "state": {
       "button_width": "",
       "description_width": ""
      }
     },
     "15e42c4133524de2b2ea86582941de1f": {
      "model_module": "@jupyter-widgets/base",
      "model_module_version": "1.0.0",
      "model_name": "LayoutModel",
      "state": {}
     },
     "16315db0526c431084ebae78a9d1afad": {
      "model_module": "@jupyter-widgets/controls",
      "model_module_version": "1.1.0",
      "model_name": "DescriptionStyleModel",
      "state": {
       "description_width": ""
      }
     },
     "1825297813484bcdac34bff4130870cc": {
      "model_module": "@jupyter-widgets/controls",
      "model_module_version": "1.1.0",
      "model_name": "DescriptionStyleModel",
      "state": {
       "description_width": ""
      }
     },
     "1875e3dd5067473f88a51b8845b141ac": {
      "model_module": "@jupyter-widgets/controls",
      "model_module_version": "1.1.0",
      "model_name": "ToggleButtonsModel",
      "state": {
       "_options_labels": [
        "OLS",
        "NaI"
       ],
       "button_style": "",
       "description": "Type:",
       "icons": [],
       "index": 0,
       "layout": "IPY_MODEL_91a8c6d91411460a994e09b91adedd71",
       "style": "IPY_MODEL_bfd76b866fce44aa921ab72cc6d1c12f",
       "tooltips": [
        "Organic Liquid Scintillator",
        "Sodium Iodide"
       ]
      }
     },
     "188b644e780e4203a6132e97b46d6a85": {
      "model_module": "@jupyter-widgets/controls",
      "model_module_version": "1.1.0",
      "model_name": "CheckboxModel",
      "state": {
       "description": "45°",
       "disabled": false,
       "layout": "IPY_MODEL_7b67634f3b2e4352a0589661be000b81",
       "style": "IPY_MODEL_7c06d94c93634ca3ba27341ff8025071",
       "value": true
      }
     },
     "1895e3bc6f044bb8afff35cdcfbc7aab": {
      "model_module": "@jupyter-widgets/base",
      "model_module_version": "1.0.0",
      "model_name": "LayoutModel",
      "state": {}
     },
     "193853f9a1684ec88fc80445d79e0ba9": {
      "model_module": "@jupyter-widgets/base",
      "model_module_version": "1.0.0",
      "model_name": "LayoutModel",
      "state": {}
     },
     "19bd98574c554e07b4b537e9e84ecf7d": {
      "model_module": "@jupyter-widgets/controls",
      "model_module_version": "1.1.0",
      "model_name": "CheckboxModel",
      "state": {
       "description": "28.2°",
       "disabled": false,
       "layout": "IPY_MODEL_889762aa4e644d949a48ea2d57dac50e",
       "style": "IPY_MODEL_6223168c1f55461595981e5ec71396fd",
       "value": true
      }
     },
     "1bb7f2c06922441089584949384b0a0c": {
      "model_module": "@jupyter-widgets/base",
      "model_module_version": "1.0.0",
      "model_name": "LayoutModel",
      "state": {}
     },
     "1bc0fe1be6aa4c15aa1668a0dca5fca8": {
      "model_module": "@jupyter-widgets/base",
      "model_module_version": "1.0.0",
      "model_name": "LayoutModel",
      "state": {}
     },
     "1c30df6baca14be9b804620d10110d72": {
      "model_module": "@jupyter-widgets/base",
      "model_module_version": "1.0.0",
      "model_name": "LayoutModel",
      "state": {}
     },
     "1cb269111fbe40189e9390668bf98904": {
      "model_module": "@jupyter-widgets/controls",
      "model_module_version": "1.1.0",
      "model_name": "LabelModel",
      "state": {
       "layout": "IPY_MODEL_388644282a824885afb9277afeea4f70",
       "style": "IPY_MODEL_9f6c28c005314a9b83e039513ce02007",
       "value": "Select the detector angles to plot."
      }
     },
     "1ccf22597e434af5bab9dad773320ed1": {
      "model_module": "@jupyter-widgets/base",
      "model_module_version": "1.0.0",
      "model_name": "LayoutModel",
      "state": {}
     },
     "1d26bbdb345e4228a599082eb1877107": {
      "model_module": "@jupyter-widgets/base",
      "model_module_version": "1.0.0",
      "model_name": "LayoutModel",
      "state": {}
     },
     "1daced6103c9424ab2254a318ff9985a": {
      "model_module": "@jupyter-widgets/controls",
      "model_module_version": "1.1.0",
      "model_name": "CheckboxModel",
      "state": {
       "description": "30°",
       "disabled": false,
       "layout": "IPY_MODEL_9cd3e6c6e5e242f89758ccc80cb5a2e7",
       "style": "IPY_MODEL_a41aefaded0c42d8b1f36b278b07e298",
       "value": true
      }
     },
     "1ead81b4709043c994909a2b2b093b5f": {
      "model_module": "@jupyter-widgets/controls",
      "model_module_version": "1.1.0",
      "model_name": "ToggleButtonsStyleModel",
      "state": {
       "button_width": "",
       "description_width": ""
      }
     },
     "1ebf963a3f6c45cf90efcce937720a07": {
      "model_module": "@jupyter-widgets/controls",
      "model_module_version": "1.1.0",
      "model_name": "DescriptionStyleModel",
      "state": {
       "description_width": ""
      }
     },
     "1f0011445a274e36af5ba0d2d546cdf0": {
      "model_module": "@jupyter-widgets/base",
      "model_module_version": "1.0.0",
      "model_name": "LayoutModel",
      "state": {}
     },
     "1f772ee58afb4bd29003d5804c7a5fa8": {
      "model_module": "@jupyter-widgets/controls",
      "model_module_version": "1.1.0",
      "model_name": "ToggleButtonsStyleModel",
      "state": {
       "button_width": "",
       "description_width": ""
      }
     },
     "208ce91453bd48d9944ef67cb52ea58e": {
      "model_module": "@jupyter-widgets/controls",
      "model_module_version": "1.1.0",
      "model_name": "LabelModel",
      "state": {
       "layout": "IPY_MODEL_093c5b828de249c78fddec2d5a864ef9",
       "style": "IPY_MODEL_ead1f9378a724f3fac29c1cdad541101",
       "value": "Select the detector angles to plot."
      }
     },
     "2166ce61f48441109f67d654dd830c66": {
      "model_module": "@jupyter-widgets/base",
      "model_module_version": "1.0.0",
      "model_name": "LayoutModel",
      "state": {}
     },
     "21f5849d07b3473885fecce53d0e112c": {
      "model_module": "@jupyter-widgets/controls",
      "model_module_version": "1.1.0",
      "model_name": "DescriptionStyleModel",
      "state": {
       "description_width": ""
      }
     },
     "22f66ed53e8e423593a80dfdbe42d767": {
      "model_module": "@jupyter-widgets/controls",
      "model_module_version": "1.1.0",
      "model_name": "LabelModel",
      "state": {
       "layout": "IPY_MODEL_3072555a9e1f4fdba977666bb7ebfa77",
       "style": "IPY_MODEL_fff6cf548d564635b9b9146c8655a150",
       "value": "Select which secondary particle to plot spectra for."
      }
     },
     "234bc26d1bdc454db32ce045f42ba194": {
      "model_module": "@jupyter-widgets/base",
      "model_module_version": "1.0.0",
      "model_name": "LayoutModel",
      "state": {}
     },
     "239861f2318746d8bd9cb83702437d0e": {
      "model_module": "@jupyter-widgets/controls",
      "model_module_version": "1.1.0",
      "model_name": "DescriptionStyleModel",
      "state": {
       "description_width": ""
      }
     },
     "23c05b24f4314aa78519265ec6bd84df": {
      "model_module": "@jupyter-widgets/base",
      "model_module_version": "1.0.0",
      "model_name": "LayoutModel",
      "state": {}
     },
     "23fb7853f7e54cb294e395420afca9f4": {
      "model_module": "@jupyter-widgets/controls",
      "model_module_version": "1.1.0",
      "model_name": "ToggleButtonsStyleModel",
      "state": {
       "button_width": "",
       "description_width": ""
      }
     },
     "24ba17d9774d4073a4e994a25d40d51d": {
      "model_module": "@jupyter-widgets/controls",
      "model_module_version": "1.1.0",
      "model_name": "CheckboxModel",
      "state": {
       "description": "45°",
       "disabled": false,
       "layout": "IPY_MODEL_41c6123353a245d989a8bde1b0c20baa",
       "style": "IPY_MODEL_d0cf31ea782242468beb9758d21f489e",
       "value": true
      }
     },
     "25054629341f40a6af0ec20bd4256753": {
      "model_module": "@jupyter-widgets/controls",
      "model_module_version": "1.1.0",
      "model_name": "ToggleButtonsStyleModel",
      "state": {
       "button_width": "",
       "description_width": ""
      }
     },
     "25e876c3f90c4f3f8dfd969e5d91c1a4": {
      "model_module": "@jupyter-widgets/controls",
      "model_module_version": "1.1.0",
      "model_name": "DescriptionStyleModel",
      "state": {
       "description_width": ""
      }
     },
     "2600d26c307b4d64b61cddbb1c9c8bf9": {
      "model_module": "@jupyter-widgets/controls",
      "model_module_version": "1.1.0",
      "model_name": "ToggleButtonsStyleModel",
      "state": {
       "button_width": "",
       "description_width": ""
      }
     },
     "2696caeb870d4dfaaa013481d2df2f9b": {
      "model_module": "@jupyter-widgets/controls",
      "model_module_version": "1.1.0",
      "model_name": "DescriptionStyleModel",
      "state": {
       "description_width": ""
      }
     },
     "28327983a7144dda802785386bf344e5": {
      "model_module": "@jupyter-widgets/controls",
      "model_module_version": "1.1.0",
      "model_name": "DescriptionStyleModel",
      "state": {
       "description_width": ""
      }
     },
     "2858d126397546b8be1f6caa310f86de": {
      "model_module": "@jupyter-widgets/controls",
      "model_module_version": "1.1.0",
      "model_name": "LabelModel",
      "state": {
       "layout": "IPY_MODEL_0ce14b6fac51407f83c6f33e8133ce9d",
       "style": "IPY_MODEL_2bbc794ed60648fab66a3d5753df3d8d",
       "value": "Select which secondary particle to plot spectra for."
      }
     },
     "290f6517a4974413ac77c8839dbff117": {
      "model_module": "@jupyter-widgets/controls",
      "model_module_version": "1.1.0",
      "model_name": "LabelModel",
      "state": {
       "layout": "IPY_MODEL_30407ff8bcd242f292717ae55fc69e0f",
       "style": "IPY_MODEL_6efdb2340e02451a9552572577528872",
       "value": "Select the detector angles to plot."
      }
     },
     "295d5bb3ce65469a9acd54ef9b27d655": {
      "model_module": "@jupyter-widgets/base",
      "model_module_version": "1.0.0",
      "model_name": "LayoutModel",
      "state": {}
     },
     "29d3db93db314a9b95c0d4046ba54a75": {
      "model_module": "@jupyter-widgets/controls",
      "model_module_version": "1.1.0",
      "model_name": "LabelModel",
      "state": {
       "layout": "IPY_MODEL_a2c7c3cfda034156a7273cf99e275eaa",
       "style": "IPY_MODEL_b71cf0c8c619417dbee68c5f6ac1d3c4",
       "value": "Select which secondary particle to plot spectra for."
      }
     },
     "29f318090a064ca9b5eec01d4439e4e1": {
      "model_module": "@jupyter-widgets/controls",
      "model_module_version": "1.1.0",
      "model_name": "DescriptionStyleModel",
      "state": {
       "description_width": ""
      }
     },
     "2a0913dcf72e411ca80f20d125322405": {
      "model_module": "@jupyter-widgets/base",
      "model_module_version": "1.0.0",
      "model_name": "LayoutModel",
      "state": {}
     },
     "2a56e738a39c42b7ae89d38553519993": {
      "model_module": "@jupyter-widgets/controls",
      "model_module_version": "1.1.0",
      "model_name": "DescriptionStyleModel",
      "state": {
       "description_width": ""
      }
     },
     "2b77daaeab2946b6ae613f67e7e60193": {
      "model_module": "@jupyter-widgets/base",
      "model_module_version": "1.0.0",
      "model_name": "LayoutModel",
      "state": {}
     },
     "2bbc794ed60648fab66a3d5753df3d8d": {
      "model_module": "@jupyter-widgets/controls",
      "model_module_version": "1.1.0",
      "model_name": "DescriptionStyleModel",
      "state": {
       "description_width": ""
      }
     },
     "2bd1282aaefa4b4a9f8b526e7564db41": {
      "model_module": "@jupyter-widgets/base",
      "model_module_version": "1.0.0",
      "model_name": "LayoutModel",
      "state": {}
     },
     "2be8b6480e1545259a4a3740279c1431": {
      "model_module": "@jupyter-widgets/controls",
      "model_module_version": "1.1.0",
      "model_name": "ToggleButtonsModel",
      "state": {
       "_options_labels": [
        "OLS",
        "NaI"
       ],
       "button_style": "",
       "description": "Type:",
       "icons": [],
       "index": 1,
       "layout": "IPY_MODEL_1bc0fe1be6aa4c15aa1668a0dca5fca8",
       "style": "IPY_MODEL_7c5ed978785a429b9b206f69e356bafc",
       "tooltips": [
        "Organic Liquid Scintillator",
        "Sodium Iodide"
       ]
      }
     },
     "2c85b3e482da47e086ca2c80ce8a29bb": {
      "model_module": "@jupyter-widgets/base",
      "model_module_version": "1.0.0",
      "model_name": "LayoutModel",
      "state": {}
     },
     "2e747fb81d244092853eacf0aec85b3a": {
      "model_module": "@jupyter-widgets/controls",
      "model_module_version": "1.1.0",
      "model_name": "DescriptionStyleModel",
      "state": {
       "description_width": ""
      }
     },
     "2f5368399fa8407bae759281254513f9": {
      "model_module": "@jupyter-widgets/controls",
      "model_module_version": "1.1.0",
      "model_name": "DescriptionStyleModel",
      "state": {
       "description_width": ""
      }
     },
     "2f90a84a8e5c4438a30a321412b6b726": {
      "model_module": "@jupyter-widgets/controls",
      "model_module_version": "1.1.0",
      "model_name": "CheckboxModel",
      "state": {
       "description": "MCNP simulated",
       "disabled": false,
       "layout": "IPY_MODEL_e2afa7cfcc1a41298897da78530a081d",
       "style": "IPY_MODEL_c7742e8a78a045c891f17eec533ac65f",
       "value": true
      }
     },
     "3036287ca66040449e0295f0336a10af": {
      "model_module": "@jupyter-widgets/controls",
      "model_module_version": "1.1.0",
      "model_name": "LabelModel",
      "state": {
       "layout": "IPY_MODEL_62f47ee6e3cb4a56973a12d78275a05a",
       "style": "IPY_MODEL_c664c34b4b654a61976bd21113e6d4e2",
       "value": "Select projectile ion species."
      }
     },
     "30407ff8bcd242f292717ae55fc69e0f": {
      "model_module": "@jupyter-widgets/base",
      "model_module_version": "1.0.0",
      "model_name": "LayoutModel",
      "state": {}
     },
     "3063300bc4d141a08987333120dcb617": {
      "model_module": "@jupyter-widgets/controls",
      "model_module_version": "1.1.0",
      "model_name": "CheckboxModel",
      "state": {
       "description": "135°",
       "disabled": false,
       "layout": "IPY_MODEL_6f33bde3f7e847a7afdbce2b29b2dce2",
       "style": "IPY_MODEL_16315db0526c431084ebae78a9d1afad",
       "value": true
      }
     },
     "3072555a9e1f4fdba977666bb7ebfa77": {
      "model_module": "@jupyter-widgets/base",
      "model_module_version": "1.0.0",
      "model_name": "LayoutModel",
      "state": {}
     },
     "30eed5373ec5436fbf0a748621ee4f21": {
      "model_module": "@jupyter-widgets/controls",
      "model_module_version": "1.1.0",
      "model_name": "CheckboxModel",
      "state": {
       "description": "30°",
       "disabled": false,
       "layout": "IPY_MODEL_4a5c8be0fd00483fa1bdf40cefc5198e",
       "style": "IPY_MODEL_74d5f9b4ab8d4302a37bd20f9f9f0e08",
       "value": true
      }
     },
     "325639152adf4b15b3b1051041ae68eb": {
      "model_module": "@jupyter-widgets/base",
      "model_module_version": "1.0.0",
      "model_name": "LayoutModel",
      "state": {}
     },
     "340227b1db3b4b7e99a991a1fcad0316": {
      "model_module": "@jupyter-widgets/base",
      "model_module_version": "1.0.0",
      "model_name": "LayoutModel",
      "state": {}
     },
     "343114b504ce43fda824ef0816453850": {
      "model_module": "@jupyter-widgets/controls",
      "model_module_version": "1.1.0",
      "model_name": "DescriptionStyleModel",
      "state": {
       "description_width": ""
      }
     },
     "351ce5e01dad43c699861b74f5ad7e01": {
      "model_module": "@jupyter-widgets/base",
      "model_module_version": "1.0.0",
      "model_name": "LayoutModel",
      "state": {}
     },
     "35931f67715d4c6a9251af2ea03c446a": {
      "model_module": "@jupyter-widgets/controls",
      "model_module_version": "1.1.0",
      "model_name": "DescriptionStyleModel",
      "state": {
       "description_width": ""
      }
     },
     "370f4ee7c2e44db992d620b6a6ceb2dd": {
      "model_module": "@jupyter-widgets/controls",
      "model_module_version": "1.1.0",
      "model_name": "DescriptionStyleModel",
      "state": {
       "description_width": ""
      }
     },
     "37dbef5250e14c26b5ef5bd7f3fa56d6": {
      "model_module": "@jupyter-widgets/controls",
      "model_module_version": "1.1.0",
      "model_name": "ToggleButtonsModel",
      "state": {
       "_options_labels": [
        "OLS",
        "NaI"
       ],
       "button_style": "",
       "description": "Type:",
       "icons": [],
       "index": 0,
       "layout": "IPY_MODEL_a7271008a8924a56badb7451ba5fb3db",
       "style": "IPY_MODEL_f8c6878758504288a4ef98490a7bf179",
       "tooltips": [
        "Organic Liquid Scintillator",
        "Sodium Iodide"
       ]
      }
     },
     "3804a43a83904c60a62391076b5dbb2c": {
      "model_module": "@jupyter-widgets/base",
      "model_module_version": "1.0.0",
      "model_name": "LayoutModel",
      "state": {}
     },
     "387c26afccf64375a0a6f06243572aea": {
      "model_module": "@jupyter-widgets/controls",
      "model_module_version": "1.1.0",
      "model_name": "DescriptionStyleModel",
      "state": {
       "description_width": ""
      }
     },
     "388644282a824885afb9277afeea4f70": {
      "model_module": "@jupyter-widgets/base",
      "model_module_version": "1.0.0",
      "model_name": "LayoutModel",
      "state": {}
     },
     "38d579e3bb154fefb863b0dac675d366": {
      "model_module": "@jupyter-widgets/controls",
      "model_module_version": "1.1.0",
      "model_name": "CheckboxModel",
      "state": {
       "description": "30°",
       "disabled": false,
       "layout": "IPY_MODEL_52ad8bb78cee422c90dad374940fe913",
       "style": "IPY_MODEL_c011c67b02e846f88f4fa9afc9ba4323",
       "value": true
      }
     },
     "38e556317afc4ef3b3e660e02239fc61": {
      "model_module": "@jupyter-widgets/base",
      "model_module_version": "1.0.0",
      "model_name": "LayoutModel",
      "state": {}
     },
     "399c7aed982148b7812e34ed0bb543ff": {
      "model_module": "@jupyter-widgets/controls",
      "model_module_version": "1.1.0",
      "model_name": "ToggleButtonsModel",
      "state": {
       "_options_labels": [
        "OLS",
        "NaI"
       ],
       "button_style": "",
       "description": "Detectory type:",
       "icons": [],
       "index": 0,
       "layout": "IPY_MODEL_295d5bb3ce65469a9acd54ef9b27d655",
       "style": "IPY_MODEL_89a398c8217f431ea4a51d7fbe9f240e",
       "tooltips": [
        "Organic Liquid Scintillator",
        "Sodium Iodide"
       ]
      }
     },
     "39d8364dc2564b2ebd83bafec9c69e43": {
      "model_module": "@jupyter-widgets/controls",
      "model_module_version": "1.1.0",
      "model_name": "CheckboxModel",
      "state": {
       "description": "PHITS simulated",
       "disabled": false,
       "layout": "IPY_MODEL_f6f17ed301d94057a0bc97f27e6b7024",
       "style": "IPY_MODEL_465429e0249e4ed895c7a339c506965d",
       "value": true
      }
     },
     "3a19cc5c39f047ad823d1c15fd11c6ba": {
      "model_module": "@jupyter-widgets/controls",
      "model_module_version": "1.1.0",
      "model_name": "DescriptionStyleModel",
      "state": {
       "description_width": ""
      }
     },
     "3a28181ffb7c48c8a0db5f7b94a0b7b9": {
      "model_module": "@jupyter-widgets/base",
      "model_module_version": "1.0.0",
      "model_name": "LayoutModel",
      "state": {}
     },
     "3aabbbe295924549ad6199485064a91b": {
      "model_module": "@jupyter-widgets/controls",
      "model_module_version": "1.1.0",
      "model_name": "DescriptionStyleModel",
      "state": {
       "description_width": ""
      }
     },
     "3b19f73ad74f454db3d139044ffae906": {
      "model_module": "@jupyter-widgets/controls",
      "model_module_version": "1.1.0",
      "model_name": "CheckboxModel",
      "state": {
       "description": "7.2°",
       "disabled": false,
       "layout": "IPY_MODEL_a809e08561f34af1bf29fb92f9f1b6c2",
       "style": "IPY_MODEL_21f5849d07b3473885fecce53d0e112c",
       "value": true
      }
     },
     "3c1a1d7cb0484238a4722a24501e0519": {
      "model_module": "@jupyter-widgets/controls",
      "model_module_version": "1.1.0",
      "model_name": "ToggleButtonsModel",
      "state": {
       "_options_labels": [
        "H",
        "He",
        "C",
        "Si",
        "Fe"
       ],
       "button_style": "",
       "description": "Ion:",
       "icons": [],
       "index": 1,
       "layout": "IPY_MODEL_87129d9865714036ae427bf5d22d6393",
       "style": "IPY_MODEL_65e71b95a6c041509430f4fb06897811",
       "tooltips": [
        "Hydrogen",
        "Helium",
        "Carbon",
        "Silicon",
        "Iron"
       ]
      }
     },
     "3cb83558997740aeb1dbac5417186059": {
      "model_module": "@jupyter-widgets/controls",
      "model_module_version": "1.1.0",
      "model_name": "DescriptionStyleModel",
      "state": {
       "description_width": ""
      }
     },
     "3ea7154df9b74a139506c0f40dc800f4": {
      "model_module": "@jupyter-widgets/controls",
      "model_module_version": "1.1.0",
      "model_name": "LabelModel",
      "state": {
       "layout": "IPY_MODEL_d7eefa870f8c4d0e9c21967a295082e0",
       "style": "IPY_MODEL_995e5fbf85fb4011ade0b12ae8d72130",
       "value": "Select a detector type."
      }
     },
     "3f11f31719bb4615b8e63eafeabda928": {
      "model_module": "@jupyter-widgets/base",
      "model_module_version": "1.0.0",
      "model_name": "LayoutModel",
      "state": {}
     },
     "3f3603034f324ad993c0645e021adfa3": {
      "model_module": "@jupyter-widgets/base",
      "model_module_version": "1.0.0",
      "model_name": "LayoutModel",
      "state": {}
     },
     "3f593129ac0c4ef0a9f064af47474b22": {
      "model_module": "@jupyter-widgets/base",
      "model_module_version": "1.0.0",
      "model_name": "LayoutModel",
      "state": {}
     },
     "3fa0dbfe0fbf4acf816f9fe48781f1e6": {
      "model_module": "@jupyter-widgets/controls",
      "model_module_version": "1.1.0",
      "model_name": "DescriptionStyleModel",
      "state": {
       "description_width": ""
      }
     },
     "3fa362803ddd4c109c430794792cdfe2": {
      "model_module": "@jupyter-widgets/controls",
      "model_module_version": "1.1.0",
      "model_name": "ToggleButtonsModel",
      "state": {
       "_options_labels": [
        "OLS",
        "NaI"
       ],
       "button_style": "",
       "description": "Type:",
       "icons": [],
       "index": 0,
       "layout": "IPY_MODEL_046224b054b0448ea8e0ed8ad64c4b05",
       "style": "IPY_MODEL_caccc658e39e4d8eab1327632eccbe34",
       "tooltips": [
        "Organic Liquid Scintillator",
        "Sodium Iodide"
       ]
      }
     },
     "4088ba6d018e4e63a876d816450947aa": {
      "model_module": "@jupyter-widgets/controls",
      "model_module_version": "1.1.0",
      "model_name": "DescriptionStyleModel",
      "state": {
       "description_width": ""
      }
     },
     "40ddbb06e0014ae08ff988866adf07c1": {
      "model_module": "@jupyter-widgets/base",
      "model_module_version": "1.0.0",
      "model_name": "LayoutModel",
      "state": {}
     },
     "41c6123353a245d989a8bde1b0c20baa": {
      "model_module": "@jupyter-widgets/base",
      "model_module_version": "1.0.0",
      "model_name": "LayoutModel",
      "state": {}
     },
     "41e3926362f243e19a8320c94d209953": {
      "model_module": "@jupyter-widgets/base",
      "model_module_version": "1.0.0",
      "model_name": "LayoutModel",
      "state": {}
     },
     "45ced6062b084a298ed3dcf78ffa98a6": {
      "model_module": "@jupyter-widgets/controls",
      "model_module_version": "1.1.0",
      "model_name": "CheckboxModel",
      "state": {
       "description": "30°",
       "disabled": false,
       "layout": "IPY_MODEL_93c0c364b777479483d8dde8303cd5c9",
       "style": "IPY_MODEL_d489953aa27748ca809f2bfa6fcbdbf6",
       "value": true
      }
     },
     "4613f06e102346389509918e945271e4": {
      "model_module": "@jupyter-widgets/base",
      "model_module_version": "1.0.0",
      "model_name": "LayoutModel",
      "state": {}
     },
     "465429e0249e4ed895c7a339c506965d": {
      "model_module": "@jupyter-widgets/controls",
      "model_module_version": "1.1.0",
      "model_name": "DescriptionStyleModel",
      "state": {
       "description_width": ""
      }
     },
     "4693c63a28be4976a31169004a8d002b": {
      "model_module": "@jupyter-widgets/base",
      "model_module_version": "1.0.0",
      "model_name": "LayoutModel",
      "state": {}
     },
     "46e450b0cee34e4fa614f8ded0109b65": {
      "model_module": "@jupyter-widgets/controls",
      "model_module_version": "1.1.0",
      "model_name": "CheckboxModel",
      "state": {
       "description": "60°",
       "disabled": false,
       "layout": "IPY_MODEL_151abc60134044d5a94d1ed2cc538c10",
       "style": "IPY_MODEL_c13fad6c897e49fc95a5190bb1a14f16",
       "value": true
      }
     },
     "47b451d0705f4e5a99278ecb7a32fa14": {
      "model_module": "@jupyter-widgets/controls",
      "model_module_version": "1.1.0",
      "model_name": "DescriptionStyleModel",
      "state": {
       "description_width": ""
      }
     },
     "47ba5787fa4d46a29489a5bff9350ee7": {
      "model_module": "@jupyter-widgets/controls",
      "model_module_version": "1.1.0",
      "model_name": "CheckboxModel",
      "state": {
       "description": "30°",
       "disabled": false,
       "layout": "IPY_MODEL_9c713958352b42d49e7d241ff01017a5",
       "style": "IPY_MODEL_7286703e5c1347568193beac71fefb31",
       "value": true
      }
     },
     "49015ebd8031493a918323f27b6acefc": {
      "model_module": "@jupyter-widgets/controls",
      "model_module_version": "1.1.0",
      "model_name": "ToggleButtonsModel",
      "state": {
       "_options_labels": [
        "OLS",
        "NaI"
       ],
       "button_style": "",
       "description": "Type:",
       "icons": [],
       "index": 1,
       "layout": "IPY_MODEL_0eefed4c26c24fdd9b4b7a338ffa2d06",
       "style": "IPY_MODEL_e975e26b0362471590a595e5711b6a02",
       "tooltips": [
        "Organic Liquid Scintillator",
        "Sodium Iodide"
       ]
      }
     },
     "491c68a6d7dc4e31a54fc9b25206b9e1": {
      "model_module": "@jupyter-widgets/controls",
      "model_module_version": "1.1.0",
      "model_name": "CheckboxModel",
      "state": {
       "description": "30°",
       "disabled": false,
       "layout": "IPY_MODEL_a6d31dec6d624b0f98c06300248662ea",
       "style": "IPY_MODEL_f8a211f64f1f4f378bcaa6dd3f50b1db",
       "value": true
      }
     },
     "494ed35864824a06877c2dfcc5d747f6": {
      "model_module": "@jupyter-widgets/base",
      "model_module_version": "1.0.0",
      "model_name": "LayoutModel",
      "state": {}
     },
     "49d97c629783467eaf05427d54689f46": {
      "model_module": "@jupyter-widgets/controls",
      "model_module_version": "1.1.0",
      "model_name": "DescriptionStyleModel",
      "state": {
       "description_width": ""
      }
     },
     "4a4c72c0f9b94ba490d720133e36dbf4": {
      "model_module": "@jupyter-widgets/controls",
      "model_module_version": "1.1.0",
      "model_name": "CheckboxModel",
      "state": {
       "description": "12.7°",
       "disabled": false,
       "layout": "IPY_MODEL_d045ed28e7f443a492a3b0a8c145e6bd",
       "style": "IPY_MODEL_29f318090a064ca9b5eec01d4439e4e1",
       "value": true
      }
     },
     "4a5c8be0fd00483fa1bdf40cefc5198e": {
      "model_module": "@jupyter-widgets/base",
      "model_module_version": "1.0.0",
      "model_name": "LayoutModel",
      "state": {}
     },
     "4aa68107177a4fe48b628bb095f66180": {
      "model_module": "@jupyter-widgets/controls",
      "model_module_version": "1.1.0",
      "model_name": "DescriptionStyleModel",
      "state": {
       "description_width": ""
      }
     },
     "4b22a219bb39429aadfbe3662ab9344e": {
      "model_module": "@jupyter-widgets/controls",
      "model_module_version": "1.1.0",
      "model_name": "ToggleButtonsStyleModel",
      "state": {
       "button_width": "",
       "description_width": ""
      }
     },
     "4b60212ad09e40aa9508e02ca4d54fdc": {
      "model_module": "@jupyter-widgets/base",
      "model_module_version": "1.0.0",
      "model_name": "LayoutModel",
      "state": {}
     },
     "4b608a358fb24ba08d1a806019468afe": {
      "model_module": "@jupyter-widgets/controls",
      "model_module_version": "1.1.0",
      "model_name": "DescriptionStyleModel",
      "state": {
       "description_width": ""
      }
     },
     "4e376709764449dcb347924ebfde00e6": {
      "model_module": "@jupyter-widgets/controls",
      "model_module_version": "1.1.0",
      "model_name": "DescriptionStyleModel",
      "state": {
       "description_width": ""
      }
     },
     "4f1190b8cbda46f889e0baa7d9929de6": {
      "model_module": "@jupyter-widgets/controls",
      "model_module_version": "1.1.0",
      "model_name": "DescriptionStyleModel",
      "state": {
       "description_width": ""
      }
     },
     "4f7ecca2fa244146b4cb33d2ca6396d3": {
      "model_module": "@jupyter-widgets/controls",
      "model_module_version": "1.1.0",
      "model_name": "ToggleButtonsModel",
      "state": {
       "_options_labels": [
        "Al",
        "HDPE",
        "AlPE"
       ],
       "button_style": "",
       "description": "Material:",
       "icons": [],
       "index": 0,
       "layout": "IPY_MODEL_a17c6908c7eb480ea1cd7598a0c8cf81",
       "style": "IPY_MODEL_943d6b62d3784ae79ad92e1c89bec15d",
       "tooltips": [
        "Aluminum",
        "Polyethylene",
        "Combination of Al and HDPE"
       ]
      }
     },
     "4ffd4cfb70074db8ac07d1d8cf7325d6": {
      "model_module": "@jupyter-widgets/base",
      "model_module_version": "1.0.0",
      "model_name": "LayoutModel",
      "state": {}
     },
     "5014b7d0d7cd4fffb76abe2230de4cc7": {
      "model_module": "@jupyter-widgets/controls",
      "model_module_version": "1.1.0",
      "model_name": "CheckboxModel",
      "state": {
       "description": "60°",
       "disabled": false,
       "layout": "IPY_MODEL_99c2da3db1304b69bdb9ff3d14c51e3e",
       "style": "IPY_MODEL_e276e5c685494292b6190b0bad23e9f6",
       "value": true
      }
     },
     "507aa9e67bd74d07bc90b72a6b489cb3": {
      "model_module": "@jupyter-widgets/controls",
      "model_module_version": "1.1.0",
      "model_name": "CheckboxModel",
      "state": {
       "description": "Experiment",
       "disabled": false,
       "layout": "IPY_MODEL_dddc16ed883246f0815715672f5991bf",
       "style": "IPY_MODEL_2a56e738a39c42b7ae89d38553519993",
       "value": true
      }
     },
     "50ac177e718e4ad88a72239deb018207": {
      "model_module": "@jupyter-widgets/controls",
      "model_module_version": "1.1.0",
      "model_name": "CheckboxModel",
      "state": {
       "description": "10°",
       "disabled": false,
       "layout": "IPY_MODEL_5bce7c35e254453d81e41fcc938c00ac",
       "style": "IPY_MODEL_fc3c7d1c3a824bc4a7ab4ae7d3a76502",
       "value": true
      }
     },
     "50bf5b82fdcf40549f30bc8f10000f32": {
      "model_module": "@jupyter-widgets/base",
      "model_module_version": "1.0.0",
      "model_name": "LayoutModel",
      "state": {}
     },
     "511397ef520f48a1bd18a902ecf23138": {
      "model_module": "@jupyter-widgets/controls",
      "model_module_version": "1.1.0",
      "model_name": "LabelModel",
      "state": {
       "layout": "IPY_MODEL_d921a36675004b3d9263529f7b8473c8",
       "style": "IPY_MODEL_4b608a358fb24ba08d1a806019468afe",
       "value": "Select which secondary particle to plot spectra for."
      }
     },
     "517769533b984abe859dc81af6864c67": {
      "model_module": "@jupyter-widgets/controls",
      "model_module_version": "1.1.0",
      "model_name": "DescriptionStyleModel",
      "state": {
       "description_width": ""
      }
     },
     "51b6948d26ac4208adc465035d6b9140": {
      "model_module": "@jupyter-widgets/base",
      "model_module_version": "1.0.0",
      "model_name": "LayoutModel",
      "state": {}
     },
     "5245f077e25a410482d2210652e901bf": {
      "model_module": "@jupyter-widgets/base",
      "model_module_version": "1.0.0",
      "model_name": "LayoutModel",
      "state": {}
     },
     "52ad8bb78cee422c90dad374940fe913": {
      "model_module": "@jupyter-widgets/base",
      "model_module_version": "1.0.0",
      "model_name": "LayoutModel",
      "state": {}
     },
     "53cb2360d4f441c387b3d5e6a9f15d9b": {
      "model_module": "@jupyter-widgets/controls",
      "model_module_version": "1.1.0",
      "model_name": "CheckboxModel",
      "state": {
       "description": "Experiment",
       "disabled": false,
       "layout": "IPY_MODEL_2166ce61f48441109f67d654dd830c66",
       "style": "IPY_MODEL_765e107b085741a78596fb1663fbafdb",
       "value": true
      }
     },
     "548e6d09d18b4f059585b74202e21847": {
      "model_module": "@jupyter-widgets/controls",
      "model_module_version": "1.1.0",
      "model_name": "CheckboxModel",
      "state": {
       "description": "30°",
       "disabled": false,
       "layout": "IPY_MODEL_9de1a2aa769f47d29e37631d7962d1c9",
       "style": "IPY_MODEL_6c4eb150c9cf4b37b964232ca3b5107b",
       "value": true
      }
     },
     "54a5c06de8ce4adcbd71df8fd771b4c4": {
      "model_module": "@jupyter-widgets/controls",
      "model_module_version": "1.1.0",
      "model_name": "CheckboxModel",
      "state": {
       "description": "Experiment",
       "disabled": false,
       "layout": "IPY_MODEL_fe5af945dcef46c08027357980776cea",
       "style": "IPY_MODEL_af90e3c5f03a4a37aec96c93311885e7",
       "value": true
      }
     },
     "54a6008ce254488abca9239c5aee6363": {
      "model_module": "@jupyter-widgets/controls",
      "model_module_version": "1.1.0",
      "model_name": "DescriptionStyleModel",
      "state": {
       "description_width": ""
      }
     },
     "54bb34b4459744c28505bd086292de89": {
      "model_module": "@jupyter-widgets/controls",
      "model_module_version": "1.1.0",
      "model_name": "LabelModel",
      "state": {
       "layout": "IPY_MODEL_38e556317afc4ef3b3e660e02239fc61",
       "style": "IPY_MODEL_69cb1aa93beb4082943a60af9ea045db",
       "value": "Select which secondary particle to plot spectra for."
      }
     },
     "55a5703aec6e4ddf86fb580bdcbfe484": {
      "model_module": "@jupyter-widgets/controls",
      "model_module_version": "1.1.0",
      "model_name": "ToggleButtonsStyleModel",
      "state": {
       "button_width": "",
       "description_width": ""
      }
     },
     "56c41aa0c12e46e6981fa32b272843b1": {
      "model_module": "@jupyter-widgets/controls",
      "model_module_version": "1.1.0",
      "model_name": "LabelModel",
      "state": {
       "layout": "IPY_MODEL_bd7e163492cd48788cd5ed22903d5cb0",
       "style": "IPY_MODEL_8481447982d94de88852576479b803bf",
       "value": "Select upstream target mass thickness."
      }
     },
     "571570d1fdb24024b81f8c526ee80215": {
      "model_module": "@jupyter-widgets/base",
      "model_module_version": "1.0.0",
      "model_name": "LayoutModel",
      "state": {}
     },
     "579b23b91a274968b23c4c340dc437c9": {
      "model_module": "@jupyter-widgets/controls",
      "model_module_version": "1.1.0",
      "model_name": "LabelModel",
      "state": {
       "layout": "IPY_MODEL_0337ce54a5744c2592c741f8bf0da893",
       "style": "IPY_MODEL_aa55f5a5dd764cc8a6295cbe1e5903bd",
       "value": "Select the detector angles to plot."
      }
     },
     "591983d72d9a4707a025102bf48ee6a2": {
      "model_module": "@jupyter-widgets/base",
      "model_module_version": "1.0.0",
      "model_name": "LayoutModel",
      "state": {}
     },
     "593b60d7d69a4650828cd601b908e6b9": {
      "model_module": "@jupyter-widgets/controls",
      "model_module_version": "1.1.0",
      "model_name": "DescriptionStyleModel",
      "state": {
       "description_width": ""
      }
     },
     "596ea217ac164fedaf51f67142124c58": {
      "model_module": "@jupyter-widgets/base",
      "model_module_version": "1.0.0",
      "model_name": "LayoutModel",
      "state": {}
     },
     "59d88d47bdd14c89a862b29a2a531ba7": {
      "model_module": "@jupyter-widgets/controls",
      "model_module_version": "1.1.0",
      "model_name": "DescriptionStyleModel",
      "state": {
       "description_width": ""
      }
     },
     "5a1015870ae041e78d2db8b9d6e4d69b": {
      "model_module": "@jupyter-widgets/controls",
      "model_module_version": "1.1.0",
      "model_name": "DescriptionStyleModel",
      "state": {
       "description_width": ""
      }
     },
     "5af719f86866423986c2dfaf7aaf50e7": {
      "model_module": "@jupyter-widgets/controls",
      "model_module_version": "1.1.0",
      "model_name": "DescriptionStyleModel",
      "state": {
       "description_width": ""
      }
     },
     "5b62b7eeb86143959158e4085d77bb88": {
      "model_module": "@jupyter-widgets/base",
      "model_module_version": "1.0.0",
      "model_name": "LayoutModel",
      "state": {}
     },
     "5bce7c35e254453d81e41fcc938c00ac": {
      "model_module": "@jupyter-widgets/base",
      "model_module_version": "1.0.0",
      "model_name": "LayoutModel",
      "state": {}
     },
     "5c0314f0e2ae4326abd5d4ac63c8dc35": {
      "model_module": "@jupyter-widgets/base",
      "model_module_version": "1.0.0",
      "model_name": "LayoutModel",
      "state": {}
     },
     "5db4a76a5eaf4c35be662857f3463261": {
      "model_module": "@jupyter-widgets/controls",
      "model_module_version": "1.1.0",
      "model_name": "ToggleButtonsStyleModel",
      "state": {
       "button_width": "",
       "description_width": ""
      }
     },
     "5ddedfa45f4d484bbf9c56c2604ab531": {
      "model_module": "@jupyter-widgets/base",
      "model_module_version": "1.0.0",
      "model_name": "LayoutModel",
      "state": {}
     },
     "5ddfe0cd2fbd43968f57d4aeffbcbffc": {
      "model_module": "@jupyter-widgets/controls",
      "model_module_version": "1.1.0",
      "model_name": "LabelModel",
      "state": {
       "layout": "IPY_MODEL_6fa780b99cce4d4dbb5783b0de1bf822",
       "style": "IPY_MODEL_eefe43499ee44524b93df0bdab9d7141",
       "value": "Select a detector type."
      }
     },
     "5de24e98135c4d4e84d09043ba2038ef": {
      "model_module": "@jupyter-widgets/controls",
      "model_module_version": "1.1.0",
      "model_name": "DescriptionStyleModel",
      "state": {
       "description_width": ""
      }
     },
     "5e26460dacad4849ad851395b6f30865": {
      "model_module": "@jupyter-widgets/base",
      "model_module_version": "1.0.0",
      "model_name": "LayoutModel",
      "state": {}
     },
     "5e4cae0c677c4d1292f81af524b4844e": {
      "model_module": "@jupyter-widgets/controls",
      "model_module_version": "1.1.0",
      "model_name": "ToggleButtonsModel",
      "state": {
       "_options_labels": [
        "Al",
        "HDPE",
        "AlPE"
       ],
       "button_style": "",
       "description": "Material:",
       "icons": [],
       "index": 0,
       "layout": "IPY_MODEL_9087e4c8a51d43b89f7b2d48774e20ca",
       "style": "IPY_MODEL_25054629341f40a6af0ec20bd4256753",
       "tooltips": [
        "Aluminum",
        "Polyethylene",
        "Combination of Al and HDPE"
       ]
      }
     },
     "5e74ab53a2d343b3b07119aa26b13b7a": {
      "model_module": "@jupyter-widgets/controls",
      "model_module_version": "1.1.0",
      "model_name": "ToggleButtonsModel",
      "state": {
       "_options_labels": [
        "20 g/cm²",
        "60 g/cm²"
       ],
       "button_style": "",
       "description": "Thickness:",
       "icons": [],
       "index": 0,
       "layout": "IPY_MODEL_c294a3be598c47f8aa914edf0fe7cf51",
       "style": "IPY_MODEL_909cf672f04645239c0c033e57f32d23",
       "tooltips": [
        "20 g/cm²",
        "60 g/cm²"
       ]
      }
     },
     "5eeab73556e944f6a02fc3c6602ab6db": {
      "model_module": "@jupyter-widgets/controls",
      "model_module_version": "1.1.0",
      "model_name": "CheckboxModel",
      "state": {
       "description": "Experiment",
       "disabled": false,
       "layout": "IPY_MODEL_b696018911824f1c86ca2809ef37ad9b",
       "style": "IPY_MODEL_ad36910402d448bea2dfcd829d332606",
       "value": true
      }
     },
     "5f3a3cd484814c62a6b32cfe26e22d07": {
      "model_module": "@jupyter-widgets/controls",
      "model_module_version": "1.1.0",
      "model_name": "DescriptionStyleModel",
      "state": {
       "description_width": ""
      }
     },
     "5f9da68bc4a6436881daf25b2d7fbca9": {
      "model_module": "@jupyter-widgets/controls",
      "model_module_version": "1.1.0",
      "model_name": "CheckboxModel",
      "state": {
       "description": "12.7°",
       "disabled": false,
       "layout": "IPY_MODEL_5fccd6f8a2e0437eb337d964df7d8bf8",
       "style": "IPY_MODEL_eb3bc749b5bd437384de45b0ff78c72e",
       "value": true
      }
     },
     "5fccd6f8a2e0437eb337d964df7d8bf8": {
      "model_module": "@jupyter-widgets/base",
      "model_module_version": "1.0.0",
      "model_name": "LayoutModel",
      "state": {}
     },
     "5fd143974646441e9efb80cf682ca8a5": {
      "model_module": "@jupyter-widgets/controls",
      "model_module_version": "1.1.0",
      "model_name": "DescriptionStyleModel",
      "state": {
       "description_width": ""
      }
     },
     "5fef06c9b18146629b8db9e6d8647388": {
      "model_module": "@jupyter-widgets/controls",
      "model_module_version": "1.1.0",
      "model_name": "CheckboxModel",
      "state": {
       "description": "MCNP simulated",
       "disabled": false,
       "layout": "IPY_MODEL_ee9508ad87874fd7b8be8d0efe9d98ad",
       "style": "IPY_MODEL_91d7a13d93c940ee9ac51d72694f32fa",
       "value": true
      }
     },
     "603f8ff406b4486193714d0ccbb23ada": {
      "model_module": "@jupyter-widgets/controls",
      "model_module_version": "1.1.0",
      "model_name": "LabelModel",
      "state": {
       "layout": "IPY_MODEL_f4bcbe0acbd54ece9fa7bc6babb7c729",
       "style": "IPY_MODEL_3fa0dbfe0fbf4acf816f9fe48781f1e6",
       "value": "Select how data sets for each detector should be spaced apart (if at all)."
      }
     },
     "60f108fd0bbb440a9b33994693046154": {
      "model_module": "@jupyter-widgets/base",
      "model_module_version": "1.0.0",
      "model_name": "LayoutModel",
      "state": {}
     },
     "6223168c1f55461595981e5ec71396fd": {
      "model_module": "@jupyter-widgets/controls",
      "model_module_version": "1.1.0",
      "model_name": "DescriptionStyleModel",
      "state": {
       "description_width": ""
      }
     },
     "62f47ee6e3cb4a56973a12d78275a05a": {
      "model_module": "@jupyter-widgets/base",
      "model_module_version": "1.0.0",
      "model_name": "LayoutModel",
      "state": {}
     },
     "637ed75ddebd43dbb94e0c153d7585d5": {
      "model_module": "@jupyter-widgets/base",
      "model_module_version": "1.0.0",
      "model_name": "LayoutModel",
      "state": {}
     },
     "63928daf6d25409caff26b7ab36d100a": {
      "model_module": "@jupyter-widgets/controls",
      "model_module_version": "1.1.0",
      "model_name": "DescriptionStyleModel",
      "state": {
       "description_width": ""
      }
     },
     "63fe9245ac9b425e8a327547db9f4687": {
      "model_module": "@jupyter-widgets/controls",
      "model_module_version": "1.1.0",
      "model_name": "DescriptionStyleModel",
      "state": {
       "description_width": ""
      }
     },
     "64153a858c854c5487553455c4b6aa81": {
      "model_module": "@jupyter-widgets/controls",
      "model_module_version": "1.1.0",
      "model_name": "LabelModel",
      "state": {
       "layout": "IPY_MODEL_92067cbd444b473d85b3f7076739fd9c",
       "style": "IPY_MODEL_7e3ae6fd17d4407687fec65ec250680a",
       "value": "Select upstream target mass thickness."
      }
     },
     "650cb3c7e70a4b00a1783df8732a0810": {
      "model_module": "@jupyter-widgets/controls",
      "model_module_version": "1.1.0",
      "model_name": "ToggleButtonsStyleModel",
      "state": {
       "button_width": "",
       "description_width": ""
      }
     },
     "65e71b95a6c041509430f4fb06897811": {
      "model_module": "@jupyter-widgets/controls",
      "model_module_version": "1.1.0",
      "model_name": "ToggleButtonsStyleModel",
      "state": {
       "button_width": "",
       "description_width": ""
      }
     },
     "66d22769793246faba407f3ea4cf3da2": {
      "model_module": "@jupyter-widgets/controls",
      "model_module_version": "1.1.0",
      "model_name": "CheckboxModel",
      "state": {
       "description": "28.2°",
       "disabled": false,
       "layout": "IPY_MODEL_016af3617c1540cb8e02cb71fbe0670e",
       "style": "IPY_MODEL_4e376709764449dcb347924ebfde00e6",
       "value": true
      }
     },
     "6724eacf71144ea5a9f173472ac5361d": {
      "model_module": "@jupyter-widgets/controls",
      "model_module_version": "1.1.0",
      "model_name": "ToggleButtonsModel",
      "state": {
       "_options_labels": [
        "H",
        "He",
        "C",
        "Si",
        "Fe"
       ],
       "button_style": "",
       "description": "Projectile ion:",
       "icons": [],
       "index": 0,
       "layout": "IPY_MODEL_3f593129ac0c4ef0a9f064af47474b22",
       "style": "IPY_MODEL_fa9b0c391269426f8023ac94e5b71181",
       "tooltips": [
        "Hydrogen",
        "Helium",
        "Carbon",
        "Silicon",
        "Iron"
       ]
      }
     },
     "68536405184d4a60ae304a6d135c72e0": {
      "model_module": "@jupyter-widgets/controls",
      "model_module_version": "1.1.0",
      "model_name": "ToggleButtonsModel",
      "state": {
       "_options_labels": [
        "OLS",
        "NaI"
       ],
       "button_style": "",
       "description": "Type:",
       "icons": [],
       "index": 0,
       "layout": "IPY_MODEL_3f3603034f324ad993c0645e021adfa3",
       "style": "IPY_MODEL_a2cdfab85bf5429c9102f70b25547dac",
       "tooltips": [
        "Organic Liquid Scintillator",
        "Sodium Iodide"
       ]
      }
     },
     "6883ad24f900455e8b32a6daa8bef498": {
      "model_module": "@jupyter-widgets/controls",
      "model_module_version": "1.1.0",
      "model_name": "LabelModel",
      "state": {
       "layout": "IPY_MODEL_95f6017c88ec4e5fa9ec9304f81b5c97",
       "style": "IPY_MODEL_e858a2e6bfff44c9a787a49521f4d6a5",
       "value": "Select the detector angles to plot."
      }
     },
     "69cb1aa93beb4082943a60af9ea045db": {
      "model_module": "@jupyter-widgets/controls",
      "model_module_version": "1.1.0",
      "model_name": "DescriptionStyleModel",
      "state": {
       "description_width": ""
      }
     },
     "69d6fc1b35cd4fd4889f882511b76af2": {
      "model_module": "@jupyter-widgets/base",
      "model_module_version": "1.0.0",
      "model_name": "LayoutModel",
      "state": {}
     },
     "6c4eb150c9cf4b37b964232ca3b5107b": {
      "model_module": "@jupyter-widgets/controls",
      "model_module_version": "1.1.0",
      "model_name": "DescriptionStyleModel",
      "state": {
       "description_width": ""
      }
     },
     "6d3d9cc92a434c7a8a960f204f02c617": {
      "model_module": "@jupyter-widgets/controls",
      "model_module_version": "1.1.0",
      "model_name": "CheckboxModel",
      "state": {
       "description": "80°",
       "disabled": false,
       "layout": "IPY_MODEL_340227b1db3b4b7e99a991a1fcad0316",
       "style": "IPY_MODEL_3cb83558997740aeb1dbac5417186059",
       "value": true
      }
     },
     "6d9d797b2c9e4b87a9e458e95b7feada": {
      "model_module": "@jupyter-widgets/controls",
      "model_module_version": "1.1.0",
      "model_name": "CheckboxModel",
      "state": {
       "description": "80°",
       "disabled": false,
       "layout": "IPY_MODEL_d2bfdaf8796e4f56a2b6c2179e47f23d",
       "style": "IPY_MODEL_a63bb1524dbf4b9bbf3bdf8f5fe2f5d3",
       "value": true
      }
     },
     "6ec086756d0f429ba60e593c5186f95a": {
      "model_module": "@jupyter-widgets/controls",
      "model_module_version": "1.1.0",
      "model_name": "CheckboxModel",
      "state": {
       "description": "30°",
       "disabled": false,
       "layout": "IPY_MODEL_8b7e46866cea4c38a77d25c015daca50",
       "style": "IPY_MODEL_3aabbbe295924549ad6199485064a91b",
       "value": true
      }
     },
     "6ed641be538448b99d6974cecabf6f90": {
      "model_module": "@jupyter-widgets/base",
      "model_module_version": "1.0.0",
      "model_name": "LayoutModel",
      "state": {}
     },
     "6efdb2340e02451a9552572577528872": {
      "model_module": "@jupyter-widgets/controls",
      "model_module_version": "1.1.0",
      "model_name": "DescriptionStyleModel",
      "state": {
       "description_width": ""
      }
     },
     "6f1323d47deb4b9686d9df89c7d7ac6f": {
      "model_module": "@jupyter-widgets/controls",
      "model_module_version": "1.1.0",
      "model_name": "LabelModel",
      "state": {
       "layout": "IPY_MODEL_1211d6f9f9e04653a3a58fdd718ac1ef",
       "style": "IPY_MODEL_c1389914301242d88e0eb8c9f2d979db",
       "value": "Select upstream target mass thickness."
      }
     },
     "6f33bde3f7e847a7afdbce2b29b2dce2": {
      "model_module": "@jupyter-widgets/base",
      "model_module_version": "1.0.0",
      "model_name": "LayoutModel",
      "state": {}
     },
     "6fa780b99cce4d4dbb5783b0de1bf822": {
      "model_module": "@jupyter-widgets/base",
      "model_module_version": "1.0.0",
      "model_name": "LayoutModel",
      "state": {}
     },
     "70e3e49badd545ee81554cf95865dfb5": {
      "model_module": "@jupyter-widgets/controls",
      "model_module_version": "1.1.0",
      "model_name": "DescriptionStyleModel",
      "state": {
       "description_width": ""
      }
     },
     "723b720721b24c5a8434a7ef826a2854": {
      "model_module": "@jupyter-widgets/controls",
      "model_module_version": "1.1.0",
      "model_name": "ToggleButtonsModel",
      "state": {
       "_options_labels": [
        "None",
        "Spaced by 10²"
       ],
       "button_style": "",
       "description": "Extra spectra spacing:",
       "icons": [],
       "index": 0,
       "layout": "IPY_MODEL_6ed641be538448b99d6974cecabf6f90",
       "style": "IPY_MODEL_1f772ee58afb4bd29003d5804c7a5fa8",
       "tooltips": [
        "All values are presented as is.",
        "Plots for different detectors are multiplied by powers of 10² for easier viewing."
       ]
      }
     },
     "7286703e5c1347568193beac71fefb31": {
      "model_module": "@jupyter-widgets/controls",
      "model_module_version": "1.1.0",
      "model_name": "DescriptionStyleModel",
      "state": {
       "description_width": ""
      }
     },
     "72b2eebf41ac4c2db75c3a52ac89f3c9": {
      "model_module": "@jupyter-widgets/controls",
      "model_module_version": "1.1.0",
      "model_name": "DescriptionStyleModel",
      "state": {
       "description_width": ""
      }
     },
     "74c570f03064412d9cf963cde7af81de": {
      "model_module": "@jupyter-widgets/base",
      "model_module_version": "1.0.0",
      "model_name": "LayoutModel",
      "state": {}
     },
     "74d5f9b4ab8d4302a37bd20f9f9f0e08": {
      "model_module": "@jupyter-widgets/controls",
      "model_module_version": "1.1.0",
      "model_name": "DescriptionStyleModel",
      "state": {
       "description_width": ""
      }
     },
     "765e107b085741a78596fb1663fbafdb": {
      "model_module": "@jupyter-widgets/controls",
      "model_module_version": "1.1.0",
      "model_name": "DescriptionStyleModel",
      "state": {
       "description_width": ""
      }
     },
     "7751e08282f645879d45fa1ef176160c": {
      "model_module": "@jupyter-widgets/base",
      "model_module_version": "1.0.0",
      "model_name": "LayoutModel",
      "state": {}
     },
     "782db87c193d436fa1ecbad3207aeda2": {
      "model_module": "@jupyter-widgets/controls",
      "model_module_version": "1.1.0",
      "model_name": "DescriptionStyleModel",
      "state": {
       "description_width": ""
      }
     },
     "78b356ec0e924239a93e39437f8718b1": {
      "model_module": "@jupyter-widgets/controls",
      "model_module_version": "1.1.0",
      "model_name": "DescriptionStyleModel",
      "state": {
       "description_width": ""
      }
     },
     "7b1bc3e9163a46f486adaca5822da113": {
      "model_module": "@jupyter-widgets/controls",
      "model_module_version": "1.1.0",
      "model_name": "CheckboxModel",
      "state": {
       "description": "45°",
       "disabled": false,
       "layout": "IPY_MODEL_2c85b3e482da47e086ca2c80ce8a29bb",
       "style": "IPY_MODEL_387c26afccf64375a0a6f06243572aea",
       "value": true
      }
     },
     "7b67634f3b2e4352a0589661be000b81": {
      "model_module": "@jupyter-widgets/base",
      "model_module_version": "1.0.0",
      "model_name": "LayoutModel",
      "state": {}
     },
     "7b9d7b7cf9c04c9a82cd16d7e2bb05b0": {
      "model_module": "@jupyter-widgets/base",
      "model_module_version": "1.0.0",
      "model_name": "LayoutModel",
      "state": {}
     },
     "7c06d94c93634ca3ba27341ff8025071": {
      "model_module": "@jupyter-widgets/controls",
      "model_module_version": "1.1.0",
      "model_name": "DescriptionStyleModel",
      "state": {
       "description_width": ""
      }
     },
     "7c5ed978785a429b9b206f69e356bafc": {
      "model_module": "@jupyter-widgets/controls",
      "model_module_version": "1.1.0",
      "model_name": "ToggleButtonsStyleModel",
      "state": {
       "button_width": "",
       "description_width": ""
      }
     },
     "7c70579abf784376b1a554b329e8f7fa": {
      "model_module": "@jupyter-widgets/controls",
      "model_module_version": "1.1.0",
      "model_name": "ToggleButtonsModel",
      "state": {
       "_options_labels": [
        "N",
        "NDC",
        "P (¹H)",
        "D (²H)",
        "T (³H)",
        "S (³He)",
        "A (⁴He)"
       ],
       "button_style": "",
       "description": "Type:",
       "icons": [],
       "index": 0,
       "layout": "IPY_MODEL_a9dc937c56c4411caf59d9830da98a11",
       "style": "IPY_MODEL_7e0c4c4bc7b84a30acea838ccc642b24",
       "tooltips": [
        "Neutron",
        "Neutron (deconvoluted)",
        "Proton",
        "Deuteron",
        "Triton",
        "Helium-3",
        "Helium-4"
       ]
      }
     },
     "7d2256d3eb4345e9aeaf404c39e8ce44": {
      "model_module": "@jupyter-widgets/base",
      "model_module_version": "1.0.0",
      "model_name": "LayoutModel",
      "state": {}
     },
     "7e0c4c4bc7b84a30acea838ccc642b24": {
      "model_module": "@jupyter-widgets/controls",
      "model_module_version": "1.1.0",
      "model_name": "ToggleButtonsStyleModel",
      "state": {
       "button_width": "",
       "description_width": ""
      }
     },
     "7e3ae6fd17d4407687fec65ec250680a": {
      "model_module": "@jupyter-widgets/controls",
      "model_module_version": "1.1.0",
      "model_name": "DescriptionStyleModel",
      "state": {
       "description_width": ""
      }
     },
     "7f1320fdde3a4eb58bb722ad2e189b3c": {
      "model_module": "@jupyter-widgets/controls",
      "model_module_version": "1.1.0",
      "model_name": "DescriptionStyleModel",
      "state": {
       "description_width": ""
      }
     },
     "8075994223b34609a39d25c6f20d044e": {
      "model_module": "@jupyter-widgets/controls",
      "model_module_version": "1.1.0",
      "model_name": "CheckboxModel",
      "state": {
       "description": "10°",
       "disabled": false,
       "layout": "IPY_MODEL_c4f62b72adc1452e8968212e837e738e",
       "style": "IPY_MODEL_a98d4fcb2b8848f49b8fe75c7e6d9315",
       "value": true
      }
     },
     "80c974a6982d4c27bab83c49568cae82": {
      "model_module": "@jupyter-widgets/base",
      "model_module_version": "1.0.0",
      "model_name": "LayoutModel",
      "state": {}
     },
     "81e2e55fa6dd422b914850ac73a26643": {
      "model_module": "@jupyter-widgets/controls",
      "model_module_version": "1.1.0",
      "model_name": "CheckboxModel",
      "state": {
       "description": "45°",
       "disabled": false,
       "layout": "IPY_MODEL_cfa5fbf828834cb7b861c2382ce6a0a5",
       "style": "IPY_MODEL_782db87c193d436fa1ecbad3207aeda2",
       "value": true
      }
     },
     "829f31e9b0c8410493c37e562657e989": {
      "model_module": "@jupyter-widgets/base",
      "model_module_version": "1.0.0",
      "model_name": "LayoutModel",
      "state": {}
     },
     "831f0e2103974ca39855e891d8bf9214": {
      "model_module": "@jupyter-widgets/controls",
      "model_module_version": "1.1.0",
      "model_name": "DescriptionStyleModel",
      "state": {
       "description_width": ""
      }
     },
     "832f07517fa54c4890183cf7f1373e1c": {
      "model_module": "@jupyter-widgets/base",
      "model_module_version": "1.0.0",
      "model_name": "LayoutModel",
      "state": {}
     },
     "834dbdd244e6451687709413ee684e3d": {
      "model_module": "@jupyter-widgets/base",
      "model_module_version": "1.0.0",
      "model_name": "LayoutModel",
      "state": {}
     },
     "83a3795ebf384c3b924e161522508d10": {
      "model_module": "@jupyter-widgets/base",
      "model_module_version": "1.0.0",
      "model_name": "LayoutModel",
      "state": {}
     },
     "8481447982d94de88852576479b803bf": {
      "model_module": "@jupyter-widgets/controls",
      "model_module_version": "1.1.0",
      "model_name": "DescriptionStyleModel",
      "state": {
       "description_width": ""
      }
     },
     "8619e2f92fc84b56bf2befcf9a623a64": {
      "model_module": "@jupyter-widgets/controls",
      "model_module_version": "1.1.0",
      "model_name": "ToggleButtonsModel",
      "state": {
       "_options_labels": [
        "H",
        "He",
        "C",
        "Si",
        "Fe"
       ],
       "button_style": "",
       "description": "Projectile ion:",
       "icons": [],
       "index": 0,
       "layout": "IPY_MODEL_1d26bbdb345e4228a599082eb1877107",
       "style": "IPY_MODEL_5db4a76a5eaf4c35be662857f3463261",
       "tooltips": [
        "Hydrogen",
        "Helium",
        "Carbon",
        "Silicon",
        "Iron"
       ]
      }
     },
     "8658947a8ee0460091989d36cf0c0b43": {
      "model_module": "@jupyter-widgets/controls",
      "model_module_version": "1.1.0",
      "model_name": "DescriptionStyleModel",
      "state": {
       "description_width": ""
      }
     },
     "87129d9865714036ae427bf5d22d6393": {
      "model_module": "@jupyter-widgets/base",
      "model_module_version": "1.0.0",
      "model_name": "LayoutModel",
      "state": {}
     },
     "889762aa4e644d949a48ea2d57dac50e": {
      "model_module": "@jupyter-widgets/base",
      "model_module_version": "1.0.0",
      "model_name": "LayoutModel",
      "state": {}
     },
     "88e010f0de57407a93a089228c7f5554": {
      "model_module": "@jupyter-widgets/controls",
      "model_module_version": "1.1.0",
      "model_name": "ToggleButtonsModel",
      "state": {
       "_options_labels": [
        "None",
        "Spaced by 10²"
       ],
       "button_style": "",
       "description": "Spacing:",
       "icons": [],
       "index": 0,
       "layout": "IPY_MODEL_e791ef4198404877b20852aa1f1999dd",
       "style": "IPY_MODEL_650cb3c7e70a4b00a1783df8732a0810",
       "tooltips": [
        "All values are presented as is.",
        "Plots for different detectors are multiplied by powers of 10² for easier viewing."
       ]
      }
     },
     "89059b10c6a14f46805eb8fe0deb3ddc": {
      "model_module": "@jupyter-widgets/controls",
      "model_module_version": "1.1.0",
      "model_name": "DescriptionStyleModel",
      "state": {
       "description_width": ""
      }
     },
     "89a398c8217f431ea4a51d7fbe9f240e": {
      "model_module": "@jupyter-widgets/controls",
      "model_module_version": "1.1.0",
      "model_name": "ToggleButtonsStyleModel",
      "state": {
       "button_width": "",
       "description_width": ""
      }
     },
     "89cf2fbe8d64429093636459b336560c": {
      "model_module": "@jupyter-widgets/base",
      "model_module_version": "1.0.0",
      "model_name": "LayoutModel",
      "state": {}
     },
     "8b103e180fa240dcbbf2cf875917e3e5": {
      "model_module": "@jupyter-widgets/controls",
      "model_module_version": "1.1.0",
      "model_name": "DescriptionStyleModel",
      "state": {
       "description_width": ""
      }
     },
     "8b7e46866cea4c38a77d25c015daca50": {
      "model_module": "@jupyter-widgets/base",
      "model_module_version": "1.0.0",
      "model_name": "LayoutModel",
      "state": {}
     },
     "8d13dbb28bb64adbb64c88da5363cfb1": {
      "model_module": "@jupyter-widgets/controls",
      "model_module_version": "1.1.0",
      "model_name": "LabelModel",
      "state": {
       "layout": "IPY_MODEL_ef12815c062c4b8abf7c166758a426b0",
       "style": "IPY_MODEL_9f3e98c443e24294963f92cb15216426",
       "value": "Select a detector type."
      }
     },
     "8edf04c32e7e45bf8d019403cd1fbd3e": {
      "model_module": "@jupyter-widgets/base",
      "model_module_version": "1.0.0",
      "model_name": "LayoutModel",
      "state": {}
     },
     "8ee2d601aedd46efac0ad7e07770d5af": {
      "model_module": "@jupyter-widgets/controls",
      "model_module_version": "1.1.0",
      "model_name": "CheckboxModel",
      "state": {
       "description": "10°",
       "disabled": false,
       "layout": "IPY_MODEL_0758ae860a9c4504adc31a0935c7f733",
       "style": "IPY_MODEL_fe09287dcce44265aedb2fbe5024622d",
       "value": true
      }
     },
     "904b2190653a462db698f9ee5d0e4b14": {
      "model_module": "@jupyter-widgets/controls",
      "model_module_version": "1.1.0",
      "model_name": "LabelModel",
      "state": {
       "layout": "IPY_MODEL_eb182ea4bdca40d1807c6f191db4fefa",
       "style": "IPY_MODEL_4aa68107177a4fe48b628bb095f66180",
       "value": "Select which secondary particle to plot spectra for."
      }
     },
     "904eb487b2aa4e4d9684c47cc7d7daa6": {
      "model_module": "@jupyter-widgets/controls",
      "model_module_version": "1.1.0",
      "model_name": "CheckboxModel",
      "state": {
       "description": "45°",
       "disabled": false,
       "layout": "IPY_MODEL_4b60212ad09e40aa9508e02ca4d54fdc",
       "style": "IPY_MODEL_5f3a3cd484814c62a6b32cfe26e22d07",
       "value": true
      }
     },
     "9078c4bcddb24a0c80ee96dce02c78cc": {
      "model_module": "@jupyter-widgets/base",
      "model_module_version": "1.0.0",
      "model_name": "LayoutModel",
      "state": {}
     },
     "9087e4c8a51d43b89f7b2d48774e20ca": {
      "model_module": "@jupyter-widgets/base",
      "model_module_version": "1.0.0",
      "model_name": "LayoutModel",
      "state": {}
     },
     "909cf672f04645239c0c033e57f32d23": {
      "model_module": "@jupyter-widgets/controls",
      "model_module_version": "1.1.0",
      "model_name": "ToggleButtonsStyleModel",
      "state": {
       "button_width": "",
       "description_width": ""
      }
     },
     "90e4cb21488d410886e5f278df600e84": {
      "model_module": "@jupyter-widgets/controls",
      "model_module_version": "1.1.0",
      "model_name": "ToggleButtonsStyleModel",
      "state": {
       "button_width": "",
       "description_width": ""
      }
     },
     "9179ac75c4824b0881dc3523718301e3": {
      "model_module": "@jupyter-widgets/controls",
      "model_module_version": "1.1.0",
      "model_name": "LabelModel",
      "state": {
       "layout": "IPY_MODEL_3f11f31719bb4615b8e63eafeabda928",
       "style": "IPY_MODEL_e4375cfc8ff54701b364e8158c74eebf",
       "value": "Select which sets of data to display."
      }
     },
     "91a8c6d91411460a994e09b91adedd71": {
      "model_module": "@jupyter-widgets/base",
      "model_module_version": "1.0.0",
      "model_name": "LayoutModel",
      "state": {}
     },
     "91d7a13d93c940ee9ac51d72694f32fa": {
      "model_module": "@jupyter-widgets/controls",
      "model_module_version": "1.1.0",
      "model_name": "DescriptionStyleModel",
      "state": {
       "description_width": ""
      }
     },
     "92067cbd444b473d85b3f7076739fd9c": {
      "model_module": "@jupyter-widgets/base",
      "model_module_version": "1.0.0",
      "model_name": "LayoutModel",
      "state": {}
     },
     "932eaf835f994e5d948a089f2d35674d": {
      "model_module": "@jupyter-widgets/controls",
      "model_module_version": "1.1.0",
      "model_name": "LabelModel",
      "state": {
       "layout": "IPY_MODEL_7d2256d3eb4345e9aeaf404c39e8ce44",
       "style": "IPY_MODEL_e02a6cabb30a4011baa7c08d86cd7266",
       "value": "Select projectile ion species."
      }
     },
     "9393d654bc5842bc8bb61310d8ae3c22": {
      "model_module": "@jupyter-widgets/base",
      "model_module_version": "1.0.0",
      "model_name": "LayoutModel",
      "state": {}
     },
     "93c0c364b777479483d8dde8303cd5c9": {
      "model_module": "@jupyter-widgets/base",
      "model_module_version": "1.0.0",
      "model_name": "LayoutModel",
      "state": {}
     },
     "943d6b62d3784ae79ad92e1c89bec15d": {
      "model_module": "@jupyter-widgets/controls",
      "model_module_version": "1.1.0",
      "model_name": "ToggleButtonsStyleModel",
      "state": {
       "button_width": "",
       "description_width": ""
      }
     },
     "94c73072c0264f19bd9cf1d113837836": {
      "model_module": "@jupyter-widgets/controls",
      "model_module_version": "1.1.0",
      "model_name": "CheckboxModel",
      "state": {
       "description": "80°",
       "disabled": false,
       "layout": "IPY_MODEL_03dcf3cd83ed429284cfc87240c360b6",
       "style": "IPY_MODEL_aef05aca02d349d3812d463aa0f14160",
       "value": true
      }
     },
     "94ec80295ac74b229dd0a7533a8c5bcd": {
      "model_module": "@jupyter-widgets/controls",
      "model_module_version": "1.1.0",
      "model_name": "DescriptionStyleModel",
      "state": {
       "description_width": ""
      }
     },
     "95f6017c88ec4e5fa9ec9304f81b5c97": {
      "model_module": "@jupyter-widgets/base",
      "model_module_version": "1.0.0",
      "model_name": "LayoutModel",
      "state": {}
     },
     "962bbe88146244f392152c1670e57a12": {
      "model_module": "@jupyter-widgets/controls",
      "model_module_version": "1.1.0",
      "model_name": "LabelModel",
      "state": {
       "layout": "IPY_MODEL_50bf5b82fdcf40549f30bc8f10000f32",
       "style": "IPY_MODEL_239861f2318746d8bd9cb83702437d0e",
       "value": "Select projectile ion species."
      }
     },
     "988a393cd5994582bb58756c59a2cec4": {
      "model_module": "@jupyter-widgets/base",
      "model_module_version": "1.0.0",
      "model_name": "LayoutModel",
      "state": {}
     },
     "995e5fbf85fb4011ade0b12ae8d72130": {
      "model_module": "@jupyter-widgets/controls",
      "model_module_version": "1.1.0",
      "model_name": "DescriptionStyleModel",
      "state": {
       "description_width": ""
      }
     },
     "99bd68cb67c647a19d309a72f54f1d43": {
      "model_module": "@jupyter-widgets/base",
      "model_module_version": "1.0.0",
      "model_name": "LayoutModel",
      "state": {}
     },
     "99c2da3db1304b69bdb9ff3d14c51e3e": {
      "model_module": "@jupyter-widgets/base",
      "model_module_version": "1.0.0",
      "model_name": "LayoutModel",
      "state": {}
     },
     "9a89e80c78b2450b85b47d51a615f9af": {
      "model_module": "@jupyter-widgets/controls",
      "model_module_version": "1.1.0",
      "model_name": "LabelModel",
      "state": {
       "layout": "IPY_MODEL_351ce5e01dad43c699861b74f5ad7e01",
       "style": "IPY_MODEL_befdd3e1c2ea49caa630c9a4812ac374",
       "value": "Select how data sets for each detector should be spaced apart (if at all)."
      }
     },
     "9b7f563911a44030b0c98b1e2b72fb10": {
      "model_module": "@jupyter-widgets/controls",
      "model_module_version": "1.1.0",
      "model_name": "LabelModel",
      "state": {
       "layout": "IPY_MODEL_e38bb0cddc9d419990656dfcee6803a8",
       "style": "IPY_MODEL_f13b3349550249a7a8a8925ed41d5a03",
       "value": "Select a detector type."
      }
     },
     "9bbc77fdd4154a78b93848e63b9411c7": {
      "model_module": "@jupyter-widgets/controls",
      "model_module_version": "1.1.0",
      "model_name": "DescriptionStyleModel",
      "state": {
       "description_width": ""
      }
     },
     "9c713958352b42d49e7d241ff01017a5": {
      "model_module": "@jupyter-widgets/base",
      "model_module_version": "1.0.0",
      "model_name": "LayoutModel",
      "state": {}
     },
     "9ca2baab08d14cfbbc0b308d87b7cf99": {
      "model_module": "@jupyter-widgets/controls",
      "model_module_version": "1.1.0",
      "model_name": "ToggleButtonsStyleModel",
      "state": {
       "button_width": "",
       "description_width": ""
      }
     },
     "9cb56a4403474b9f9d4b8590a8b207c0": {
      "model_module": "@jupyter-widgets/controls",
      "model_module_version": "1.1.0",
      "model_name": "DescriptionStyleModel",
      "state": {
       "description_width": ""
      }
     },
     "9cd3e6c6e5e242f89758ccc80cb5a2e7": {
      "model_module": "@jupyter-widgets/base",
      "model_module_version": "1.0.0",
      "model_name": "LayoutModel",
      "state": {}
     },
     "9d4f6d8efe3e403b85e88c1a136d41e8": {
      "model_module": "@jupyter-widgets/base",
      "model_module_version": "1.0.0",
      "model_name": "LayoutModel",
      "state": {}
     },
     "9de1a2aa769f47d29e37631d7962d1c9": {
      "model_module": "@jupyter-widgets/base",
      "model_module_version": "1.0.0",
      "model_name": "LayoutModel",
      "state": {}
     },
     "9e124599713245f492fe46f1ea8d03f2": {
      "model_module": "@jupyter-widgets/controls",
      "model_module_version": "1.1.0",
      "model_name": "DescriptionStyleModel",
      "state": {
       "description_width": ""
      }
     },
     "9e46b393d2354c6ab0055faf999d3900": {
      "model_module": "@jupyter-widgets/controls",
      "model_module_version": "1.1.0",
      "model_name": "LabelModel",
      "state": {
       "layout": "IPY_MODEL_2bd1282aaefa4b4a9f8b526e7564db41",
       "style": "IPY_MODEL_49d97c629783467eaf05427d54689f46",
       "value": "Select a detector type."
      }
     },
     "9e59dc885fa6447cbd7dd77fe6517959": {
      "model_module": "@jupyter-widgets/controls",
      "model_module_version": "1.1.0",
      "model_name": "CheckboxModel",
      "state": {
       "description": "12.7°",
       "disabled": false,
       "layout": "IPY_MODEL_c703ec114cbc40e39240096c9f44dd1e",
       "style": "IPY_MODEL_ab8cb460c1fc404e9ff28cce88456bd2",
       "value": true
      }
     },
     "9f3e98c443e24294963f92cb15216426": {
      "model_module": "@jupyter-widgets/controls",
      "model_module_version": "1.1.0",
      "model_name": "DescriptionStyleModel",
      "state": {
       "description_width": ""
      }
     },
     "9f6c28c005314a9b83e039513ce02007": {
      "model_module": "@jupyter-widgets/controls",
      "model_module_version": "1.1.0",
      "model_name": "DescriptionStyleModel",
      "state": {
       "description_width": ""
      }
     },
     "9f763b7c89ca49f8aea9558c5b5601d5": {
      "model_module": "@jupyter-widgets/controls",
      "model_module_version": "1.1.0",
      "model_name": "CheckboxModel",
      "state": {
       "description": "10°",
       "disabled": false,
       "layout": "IPY_MODEL_8edf04c32e7e45bf8d019403cd1fbd3e",
       "style": "IPY_MODEL_2696caeb870d4dfaaa013481d2df2f9b",
       "value": true
      }
     },
     "9f7e1d47276241ba979dbbfe1b08cad0": {
      "model_module": "@jupyter-widgets/controls",
      "model_module_version": "1.1.0",
      "model_name": "CheckboxModel",
      "state": {
       "description": "135°",
       "disabled": false,
       "layout": "IPY_MODEL_ac503fd9ea97473ea3b44c542ac48fab",
       "style": "IPY_MODEL_f7cd482253f94585a80d6bb115ec989f",
       "value": true
      }
     },
     "9f963bc2800f44bbbdd7bfbc77349a64": {
      "model_module": "@jupyter-widgets/base",
      "model_module_version": "1.0.0",
      "model_name": "LayoutModel",
      "state": {}
     },
     "9fa76948a41e42ddba6a054a4b238c5d": {
      "model_module": "@jupyter-widgets/controls",
      "model_module_version": "1.1.0",
      "model_name": "ToggleButtonsModel",
      "state": {
       "_options_labels": [
        "H",
        "He",
        "C",
        "Si",
        "Fe"
       ],
       "button_style": "",
       "description": "Ion:",
       "icons": [],
       "index": 3,
       "layout": "IPY_MODEL_1c30df6baca14be9b804620d10110d72",
       "style": "IPY_MODEL_e504e3870f2d434b9b3ce8047fb6ce6a",
       "tooltips": [
        "Hydrogen",
        "Helium",
        "Carbon",
        "Silicon",
        "Iron"
       ]
      }
     },
     "9fc2d2b3192b45b1aec9b17232629d68": {
      "model_module": "@jupyter-widgets/controls",
      "model_module_version": "1.1.0",
      "model_name": "ToggleButtonsModel",
      "state": {
       "_options_labels": [
        "OLS",
        "NaI"
       ],
       "button_style": "",
       "description": "Type:",
       "icons": [],
       "index": 0,
       "layout": "IPY_MODEL_2a0913dcf72e411ca80f20d125322405",
       "style": "IPY_MODEL_077e109affea4d699a6c5e1910bcab11",
       "tooltips": [
        "Organic Liquid Scintillator",
        "Sodium Iodide"
       ]
      }
     },
     "a0a70b01bf0f4416b4512dfbe503b768": {
      "model_module": "@jupyter-widgets/controls",
      "model_module_version": "1.1.0",
      "model_name": "LabelModel",
      "state": {
       "layout": "IPY_MODEL_15e42c4133524de2b2ea86582941de1f",
       "style": "IPY_MODEL_517769533b984abe859dc81af6864c67",
       "value": "Select the detector angles to plot."
      }
     },
     "a141122ae577468f8b3f1c79b03dc382": {
      "model_module": "@jupyter-widgets/controls",
      "model_module_version": "1.1.0",
      "model_name": "DescriptionStyleModel",
      "state": {
       "description_width": ""
      }
     },
     "a1568ebb0c4740f5bfb67411bb4921e5": {
      "model_module": "@jupyter-widgets/controls",
      "model_module_version": "1.1.0",
      "model_name": "ToggleButtonsModel",
      "state": {
       "_options_labels": [
        "400 MeV",
        "800 MeV",
        "2500 MeV"
       ],
       "button_style": "",
       "description": "Projectile energy:",
       "icons": [],
       "index": 0,
       "layout": "IPY_MODEL_d59349eafc6d4521ae99554754cf77ee",
       "style": "IPY_MODEL_23fb7853f7e54cb294e395420afca9f4",
       "tooltips": [
        "lowest energy",
        "middle energy",
        "highest energy"
       ]
      }
     },
     "a17c6908c7eb480ea1cd7598a0c8cf81": {
      "model_module": "@jupyter-widgets/base",
      "model_module_version": "1.0.0",
      "model_name": "LayoutModel",
      "state": {}
     },
     "a20b631d661f4e6a9754ccdd1b8279ae": {
      "model_module": "@jupyter-widgets/base",
      "model_module_version": "1.0.0",
      "model_name": "LayoutModel",
      "state": {}
     },
     "a2c7c3cfda034156a7273cf99e275eaa": {
      "model_module": "@jupyter-widgets/base",
      "model_module_version": "1.0.0",
      "model_name": "LayoutModel",
      "state": {}
     },
     "a2cdfab85bf5429c9102f70b25547dac": {
      "model_module": "@jupyter-widgets/controls",
      "model_module_version": "1.1.0",
      "model_name": "ToggleButtonsStyleModel",
      "state": {
       "button_width": "",
       "description_width": ""
      }
     },
     "a311037077c543ca9c84276971387c3d": {
      "model_module": "@jupyter-widgets/controls",
      "model_module_version": "1.1.0",
      "model_name": "DescriptionStyleModel",
      "state": {
       "description_width": ""
      }
     },
     "a3110c2fdc194605b45afce71bc335ff": {
      "model_module": "@jupyter-widgets/controls",
      "model_module_version": "1.1.0",
      "model_name": "ToggleButtonsStyleModel",
      "state": {
       "button_width": "",
       "description_width": ""
      }
     },
     "a39a0b6219a04e33ac8128e88b31eec9": {
      "model_module": "@jupyter-widgets/base",
      "model_module_version": "1.0.0",
      "model_name": "LayoutModel",
      "state": {}
     },
     "a3d9fd0254bb40da9e7e0e1e29c3dc3c": {
      "model_module": "@jupyter-widgets/base",
      "model_module_version": "1.0.0",
      "model_name": "LayoutModel",
      "state": {}
     },
     "a3f67666026247e1a13bf7408630e849": {
      "model_module": "@jupyter-widgets/controls",
      "model_module_version": "1.1.0",
      "model_name": "CheckboxModel",
      "state": {
       "description": "PHITS simulated",
       "disabled": false,
       "layout": "IPY_MODEL_4613f06e102346389509918e945271e4",
       "style": "IPY_MODEL_9cb56a4403474b9f9d4b8590a8b207c0",
       "value": true
      }
     },
     "a41aefaded0c42d8b1f36b278b07e298": {
      "model_module": "@jupyter-widgets/controls",
      "model_module_version": "1.1.0",
      "model_name": "DescriptionStyleModel",
      "state": {
       "description_width": ""
      }
     },
     "a43aaf853fea4dc18647a4ff3ec3114d": {
      "model_module": "@jupyter-widgets/base",
      "model_module_version": "1.0.0",
      "model_name": "LayoutModel",
      "state": {}
     },
     "a5371a7f7e1c47cfb165de66a8ce1d9c": {
      "model_module": "@jupyter-widgets/controls",
      "model_module_version": "1.1.0",
      "model_name": "DescriptionStyleModel",
      "state": {
       "description_width": ""
      }
     },
     "a5d0018f08da4128b67b1780ae21704a": {
      "model_module": "@jupyter-widgets/controls",
      "model_module_version": "1.1.0",
      "model_name": "DescriptionStyleModel",
      "state": {
       "description_width": ""
      }
     },
     "a63bb1524dbf4b9bbf3bdf8f5fe2f5d3": {
      "model_module": "@jupyter-widgets/controls",
      "model_module_version": "1.1.0",
      "model_name": "DescriptionStyleModel",
      "state": {
       "description_width": ""
      }
     },
     "a6511527a3ec4002aa89520eafdabe73": {
      "model_module": "@jupyter-widgets/base",
      "model_module_version": "1.0.0",
      "model_name": "LayoutModel",
      "state": {}
     },
     "a692bd63ab7c48f295ccea4406aef904": {
      "model_module": "@jupyter-widgets/base",
      "model_module_version": "1.0.0",
      "model_name": "LayoutModel",
      "state": {}
     },
     "a6d31dec6d624b0f98c06300248662ea": {
      "model_module": "@jupyter-widgets/base",
      "model_module_version": "1.0.0",
      "model_name": "LayoutModel",
      "state": {}
     },
     "a7271008a8924a56badb7451ba5fb3db": {
      "model_module": "@jupyter-widgets/base",
      "model_module_version": "1.0.0",
      "model_name": "LayoutModel",
      "state": {}
     },
     "a76fc7e48def40c6a67df56445524233": {
      "model_module": "@jupyter-widgets/controls",
      "model_module_version": "1.1.0",
      "model_name": "LabelModel",
      "state": {
       "layout": "IPY_MODEL_5ddedfa45f4d484bbf9c56c2604ab531",
       "style": "IPY_MODEL_8b103e180fa240dcbbf2cf875917e3e5",
       "value": "Select projectile ion species."
      }
     },
     "a7996541a0784400a55ad34301b75938": {
      "model_module": "@jupyter-widgets/controls",
      "model_module_version": "1.1.0",
      "model_name": "CheckboxModel",
      "state": {
       "description": "MCNP sim.",
       "disabled": false,
       "layout": "IPY_MODEL_3804a43a83904c60a62391076b5dbb2c",
       "style": "IPY_MODEL_89059b10c6a14f46805eb8fe0deb3ddc",
       "value": true
      }
     },
     "a809e08561f34af1bf29fb92f9f1b6c2": {
      "model_module": "@jupyter-widgets/base",
      "model_module_version": "1.0.0",
      "model_name": "LayoutModel",
      "state": {}
     },
     "a8e1f7f6b2d14d089727dea96ddd4fca": {
      "model_module": "@jupyter-widgets/controls",
      "model_module_version": "1.1.0",
      "model_name": "CheckboxModel",
      "state": {
       "description": "28.2°",
       "disabled": false,
       "layout": "IPY_MODEL_cc70111a19d94fc791c02b7ec4bbe159",
       "style": "IPY_MODEL_dc0ae02645da44c493796fb07d1b0888",
       "value": true
      }
     },
     "a98d4fcb2b8848f49b8fe75c7e6d9315": {
      "model_module": "@jupyter-widgets/controls",
      "model_module_version": "1.1.0",
      "model_name": "DescriptionStyleModel",
      "state": {
       "description_width": ""
      }
     },
     "a9dc937c56c4411caf59d9830da98a11": {
      "model_module": "@jupyter-widgets/base",
      "model_module_version": "1.0.0",
      "model_name": "LayoutModel",
      "state": {}
     },
     "aa2c1f5ef7a94d079d5ed5026d0aaa7c": {
      "model_module": "@jupyter-widgets/controls",
      "model_module_version": "1.1.0",
      "model_name": "DescriptionStyleModel",
      "state": {
       "description_width": ""
      }
     },
     "aa55f5a5dd764cc8a6295cbe1e5903bd": {
      "model_module": "@jupyter-widgets/controls",
      "model_module_version": "1.1.0",
      "model_name": "DescriptionStyleModel",
      "state": {
       "description_width": ""
      }
     },
     "aae4adf9553e4a9096373ce3db4ba1e4": {
      "model_module": "@jupyter-widgets/base",
      "model_module_version": "1.0.0",
      "model_name": "LayoutModel",
      "state": {}
     },
     "ab8cb460c1fc404e9ff28cce88456bd2": {
      "model_module": "@jupyter-widgets/controls",
      "model_module_version": "1.1.0",
      "model_name": "DescriptionStyleModel",
      "state": {
       "description_width": ""
      }
     },
     "ac503fd9ea97473ea3b44c542ac48fab": {
      "model_module": "@jupyter-widgets/base",
      "model_module_version": "1.0.0",
      "model_name": "LayoutModel",
      "state": {}
     },
     "acbc4eec12c84b1a95db9c9ea2c9b226": {
      "model_module": "@jupyter-widgets/base",
      "model_module_version": "1.0.0",
      "model_name": "LayoutModel",
      "state": {}
     },
     "ad0b604d2d204b1d89b67b5906a1102a": {
      "model_module": "@jupyter-widgets/controls",
      "model_module_version": "1.1.0",
      "model_name": "CheckboxModel",
      "state": {
       "description": "30°",
       "disabled": false,
       "layout": "IPY_MODEL_89cf2fbe8d64429093636459b336560c",
       "style": "IPY_MODEL_a5d0018f08da4128b67b1780ae21704a",
       "value": true
      }
     },
     "ad36910402d448bea2dfcd829d332606": {
      "model_module": "@jupyter-widgets/controls",
      "model_module_version": "1.1.0",
      "model_name": "DescriptionStyleModel",
      "state": {
       "description_width": ""
      }
     },
     "adef8af3dbef49b5bf0fe6ddeef89d06": {
      "model_module": "@jupyter-widgets/controls",
      "model_module_version": "1.1.0",
      "model_name": "DescriptionStyleModel",
      "state": {
       "description_width": ""
      }
     },
     "ae22be5c28e94de696808e167388ef1f": {
      "model_module": "@jupyter-widgets/base",
      "model_module_version": "1.0.0",
      "model_name": "LayoutModel",
      "state": {}
     },
     "ae58877b32bd4dd5ba8bfdb979bee38a": {
      "model_module": "@jupyter-widgets/base",
      "model_module_version": "1.0.0",
      "model_name": "LayoutModel",
      "state": {}
     },
     "ae5e40e17b574b05bbb72848898cb6a1": {
      "model_module": "@jupyter-widgets/controls",
      "model_module_version": "1.1.0",
      "model_name": "CheckboxModel",
      "state": {
       "description": "10°",
       "disabled": false,
       "layout": "IPY_MODEL_3a28181ffb7c48c8a0db5f7b94a0b7b9",
       "style": "IPY_MODEL_ecb67a303385458cb0a68adc15ac1fc7",
       "value": true
      }
     },
     "ae7c46f2f69f4776accd5fb7c29f2382": {
      "model_module": "@jupyter-widgets/controls",
      "model_module_version": "1.1.0",
      "model_name": "DescriptionStyleModel",
      "state": {
       "description_width": ""
      }
     },
     "aef05aca02d349d3812d463aa0f14160": {
      "model_module": "@jupyter-widgets/controls",
      "model_module_version": "1.1.0",
      "model_name": "DescriptionStyleModel",
      "state": {
       "description_width": ""
      }
     },
     "af5c2f359c3243a8ae68a070a614e44e": {
      "model_module": "@jupyter-widgets/controls",
      "model_module_version": "1.1.0",
      "model_name": "CheckboxModel",
      "state": {
       "description": "135°",
       "disabled": false,
       "layout": "IPY_MODEL_d5e2e35deb844291b27a458a0dc4ce24",
       "style": "IPY_MODEL_f233b0f7df684cf19f9a4b1a0e80fc0f",
       "value": true
      }
     },
     "af90e3c5f03a4a37aec96c93311885e7": {
      "model_module": "@jupyter-widgets/controls",
      "model_module_version": "1.1.0",
      "model_name": "DescriptionStyleModel",
      "state": {
       "description_width": ""
      }
     },
     "b1062ded5fbc4a64bd7545d7c37d46b0": {
      "model_module": "@jupyter-widgets/controls",
      "model_module_version": "1.1.0",
      "model_name": "CheckboxModel",
      "state": {
       "description": "60°",
       "disabled": false,
       "layout": "IPY_MODEL_1ccf22597e434af5bab9dad773320ed1",
       "style": "IPY_MODEL_63fe9245ac9b425e8a327547db9f4687",
       "value": true
      }
     },
     "b4224b2fafed4dcfadcf9665d1ea7e3d": {
      "model_module": "@jupyter-widgets/controls",
      "model_module_version": "1.1.0",
      "model_name": "LabelModel",
      "state": {
       "layout": "IPY_MODEL_0f76e3888d8341d28dd5fed39c244e0e",
       "style": "IPY_MODEL_35931f67715d4c6a9251af2ea03c446a",
       "value": "Select a detector type."
      }
     },
     "b5a3eda61acd460b9dd2c0c55b28a91f": {
      "model_module": "@jupyter-widgets/controls",
      "model_module_version": "1.1.0",
      "model_name": "CheckboxModel",
      "state": {
       "description": "10°",
       "disabled": false,
       "layout": "IPY_MODEL_15689425cbfc4a4c971397446beb65e8",
       "style": "IPY_MODEL_5de24e98135c4d4e84d09043ba2038ef",
       "value": true
      }
     },
     "b67d9bc72cb3401ea3dfc1053440b044": {
      "model_module": "@jupyter-widgets/controls",
      "model_module_version": "1.1.0",
      "model_name": "CheckboxModel",
      "state": {
       "description": "80°",
       "disabled": false,
       "layout": "IPY_MODEL_5245f077e25a410482d2210652e901bf",
       "style": "IPY_MODEL_ece4d2aad3f0431485bdbeb4ca86c6d4",
       "value": true
      }
     },
     "b696018911824f1c86ca2809ef37ad9b": {
      "model_module": "@jupyter-widgets/base",
      "model_module_version": "1.0.0",
      "model_name": "LayoutModel",
      "state": {}
     },
     "b6a2edf235af46d7b7886ef150bcd0a3": {
      "model_module": "@jupyter-widgets/controls",
      "model_module_version": "1.1.0",
      "model_name": "LabelModel",
      "state": {
       "layout": "IPY_MODEL_60f108fd0bbb440a9b33994693046154",
       "style": "IPY_MODEL_9e124599713245f492fe46f1ea8d03f2",
       "value": "Select the detector angles to plot."
      }
     },
     "b71c3a8d9a2f48ea8113db14d33ee897": {
      "model_module": "@jupyter-widgets/controls",
      "model_module_version": "1.1.0",
      "model_name": "DescriptionStyleModel",
      "state": {
       "description_width": ""
      }
     },
     "b71cf0c8c619417dbee68c5f6ac1d3c4": {
      "model_module": "@jupyter-widgets/controls",
      "model_module_version": "1.1.0",
      "model_name": "DescriptionStyleModel",
      "state": {
       "description_width": ""
      }
     },
     "b80eff2ecb82408c8635136c0345cbc7": {
      "model_module": "@jupyter-widgets/controls",
      "model_module_version": "1.1.0",
      "model_name": "CheckboxModel",
      "state": {
       "description": "60°",
       "disabled": false,
       "layout": "IPY_MODEL_74c570f03064412d9cf963cde7af81de",
       "style": "IPY_MODEL_63928daf6d25409caff26b7ab36d100a",
       "value": true
      }
     },
     "bb37a85d2fc24a6ab83c4651f26ddbbd": {
      "model_module": "@jupyter-widgets/controls",
      "model_module_version": "1.1.0",
      "model_name": "CheckboxModel",
      "state": {
       "description": "10°",
       "disabled": false,
       "layout": "IPY_MODEL_832f07517fa54c4890183cf7f1373e1c",
       "style": "IPY_MODEL_1ebf963a3f6c45cf90efcce937720a07",
       "value": true
      }
     },
     "bba782140ef64349a4ec8fbbe71012ab": {
      "model_module": "@jupyter-widgets/controls",
      "model_module_version": "1.1.0",
      "model_name": "LabelModel",
      "state": {
       "layout": "IPY_MODEL_4ffd4cfb70074db8ac07d1d8cf7325d6",
       "style": "IPY_MODEL_831f0e2103974ca39855e891d8bf9214",
       "value": "Select the detector angles to plot."
      }
     },
     "bba8bdcec8ad4732b08dec40c092396f": {
      "model_module": "@jupyter-widgets/controls",
      "model_module_version": "1.1.0",
      "model_name": "ToggleButtonsModel",
      "state": {
       "_options_labels": [
        "H",
        "He",
        "C",
        "Si",
        "Fe"
       ],
       "button_style": "",
       "description": "Ion:",
       "icons": [],
       "index": 1,
       "layout": "IPY_MODEL_a43aaf853fea4dc18647a4ff3ec3114d",
       "style": "IPY_MODEL_a3110c2fdc194605b45afce71bc335ff",
       "tooltips": [
        "Hydrogen",
        "Helium",
        "Carbon",
        "Silicon",
        "Iron"
       ]
      }
     },
     "bccc581e49014ff18c58effdb72679b3": {
      "model_module": "@jupyter-widgets/base",
      "model_module_version": "1.0.0",
      "model_name": "LayoutModel",
      "state": {}
     },
     "bd7e163492cd48788cd5ed22903d5cb0": {
      "model_module": "@jupyter-widgets/base",
      "model_module_version": "1.0.0",
      "model_name": "LayoutModel",
      "state": {}
     },
     "bdc22a99975b43b482241a7f79ff85ce": {
      "model_module": "@jupyter-widgets/controls",
      "model_module_version": "1.1.0",
      "model_name": "LabelModel",
      "state": {
       "layout": "IPY_MODEL_f3ad70d074f14fb29d3e3e092c92e272",
       "style": "IPY_MODEL_2f5368399fa8407bae759281254513f9",
       "value": "Select the detector angles to plot."
      }
     },
     "befdd3e1c2ea49caa630c9a4812ac374": {
      "model_module": "@jupyter-widgets/controls",
      "model_module_version": "1.1.0",
      "model_name": "DescriptionStyleModel",
      "state": {
       "description_width": ""
      }
     },
     "bfd76b866fce44aa921ab72cc6d1c12f": {
      "model_module": "@jupyter-widgets/controls",
      "model_module_version": "1.1.0",
      "model_name": "ToggleButtonsStyleModel",
      "state": {
       "button_width": "",
       "description_width": ""
      }
     },
     "c011c67b02e846f88f4fa9afc9ba4323": {
      "model_module": "@jupyter-widgets/controls",
      "model_module_version": "1.1.0",
      "model_name": "DescriptionStyleModel",
      "state": {
       "description_width": ""
      }
     },
     "c1389914301242d88e0eb8c9f2d979db": {
      "model_module": "@jupyter-widgets/controls",
      "model_module_version": "1.1.0",
      "model_name": "DescriptionStyleModel",
      "state": {
       "description_width": ""
      }
     },
     "c13fad6c897e49fc95a5190bb1a14f16": {
      "model_module": "@jupyter-widgets/controls",
      "model_module_version": "1.1.0",
      "model_name": "DescriptionStyleModel",
      "state": {
       "description_width": ""
      }
     },
     "c1b5218451a5463aaba4be6b444620f8": {
      "model_module": "@jupyter-widgets/controls",
      "model_module_version": "1.1.0",
      "model_name": "DescriptionStyleModel",
      "state": {
       "description_width": ""
      }
     },
     "c294a3be598c47f8aa914edf0fe7cf51": {
      "model_module": "@jupyter-widgets/base",
      "model_module_version": "1.0.0",
      "model_name": "LayoutModel",
      "state": {}
     },
     "c29cc05323c04386b96f17e5e883f3bb": {
      "model_module": "@jupyter-widgets/controls",
      "model_module_version": "1.1.0",
      "model_name": "CheckboxModel",
      "state": {
       "description": "45°",
       "disabled": false,
       "layout": "IPY_MODEL_23c05b24f4314aa78519265ec6bd84df",
       "style": "IPY_MODEL_94ec80295ac74b229dd0a7533a8c5bcd",
       "value": true
      }
     },
     "c4f62b72adc1452e8968212e837e738e": {
      "model_module": "@jupyter-widgets/base",
      "model_module_version": "1.0.0",
      "model_name": "LayoutModel",
      "state": {}
     },
     "c5651626f653475389ff56bd6d859053": {
      "model_module": "@jupyter-widgets/controls",
      "model_module_version": "1.1.0",
      "model_name": "LabelModel",
      "state": {
       "layout": "IPY_MODEL_834dbdd244e6451687709413ee684e3d",
       "style": "IPY_MODEL_47b451d0705f4e5a99278ecb7a32fa14",
       "value": "Select projectile ion energy."
      }
     },
     "c572f07533824369b06f5405baa71387": {
      "model_module": "@jupyter-widgets/controls",
      "model_module_version": "1.1.0",
      "model_name": "ToggleButtonsModel",
      "state": {
       "_options_labels": [
        "None",
        "Spaced by powers of 10²"
       ],
       "button_style": "",
       "description": "Extra spectra spacing:",
       "icons": [],
       "index": 0,
       "layout": "IPY_MODEL_9f963bc2800f44bbbdd7bfbc77349a64",
       "style": "IPY_MODEL_01f72b147b784cc9ba5906f2ca107057",
       "tooltips": [
        "All values are presented as is.",
        "Plots for different detectors are multiplied by powers of 10² for easier viewing."
       ]
      }
     },
     "c61e1f7869294918b86cef1ee53ffcf6": {
      "model_module": "@jupyter-widgets/controls",
      "model_module_version": "1.1.0",
      "model_name": "CheckboxModel",
      "state": {
       "description": "45°",
       "disabled": false,
       "layout": "IPY_MODEL_cea380802af2442091b4df88b4870f06",
       "style": "IPY_MODEL_a141122ae577468f8b3f1c79b03dc382",
       "value": true
      }
     },
     "c664c34b4b654a61976bd21113e6d4e2": {
      "model_module": "@jupyter-widgets/controls",
      "model_module_version": "1.1.0",
      "model_name": "DescriptionStyleModel",
      "state": {
       "description_width": ""
      }
     },
     "c669a7878a2f4b5998664f3d1a967d02": {
      "model_module": "@jupyter-widgets/base",
      "model_module_version": "1.0.0",
      "model_name": "LayoutModel",
      "state": {}
     },
     "c6a1b9433eb64e99a0423142484aa85c": {
      "model_module": "@jupyter-widgets/controls",
      "model_module_version": "1.1.0",
      "model_name": "ToggleButtonsStyleModel",
      "state": {
       "button_width": "",
       "description_width": ""
      }
     },
     "c703ec114cbc40e39240096c9f44dd1e": {
      "model_module": "@jupyter-widgets/base",
      "model_module_version": "1.0.0",
      "model_name": "LayoutModel",
      "state": {}
     },
     "c7742e8a78a045c891f17eec533ac65f": {
      "model_module": "@jupyter-widgets/controls",
      "model_module_version": "1.1.0",
      "model_name": "DescriptionStyleModel",
      "state": {
       "description_width": ""
      }
     },
     "c7f45aab52e94b24a10bf88e9e868291": {
      "model_module": "@jupyter-widgets/controls",
      "model_module_version": "1.1.0",
      "model_name": "CheckboxModel",
      "state": {
       "description": "80°",
       "disabled": false,
       "layout": "IPY_MODEL_1343ff4e746c4800991407de65ac09e2",
       "style": "IPY_MODEL_78b356ec0e924239a93e39437f8718b1",
       "value": true
      }
     },
     "ca0976282fdc4ea9a9e31a9f92113509": {
      "model_module": "@jupyter-widgets/controls",
      "model_module_version": "1.1.0",
      "model_name": "ToggleButtonsModel",
      "state": {
       "_options_labels": [
        "400 MeV",
        "800 MeV",
        "2500 MeV"
       ],
       "button_style": "",
       "description": "Energy:",
       "icons": [],
       "index": 0,
       "layout": "IPY_MODEL_d104df1b93dc4adead945d61dd03d6fe",
       "style": "IPY_MODEL_06b2f62874494d339bb90eea19176892",
       "tooltips": [
        "lowest energy",
        "middle energy",
        "highest energy"
       ]
      }
     },
     "caccc658e39e4d8eab1327632eccbe34": {
      "model_module": "@jupyter-widgets/controls",
      "model_module_version": "1.1.0",
      "model_name": "ToggleButtonsStyleModel",
      "state": {
       "button_width": "",
       "description_width": ""
      }
     },
     "cadd83c3db964467ad0683e6c33d3471": {
      "model_module": "@jupyter-widgets/controls",
      "model_module_version": "1.1.0",
      "model_name": "CheckboxModel",
      "state": {
       "description": "PHITS sim.",
       "disabled": false,
       "layout": "IPY_MODEL_06c0c365322742f782334733d0d37345",
       "style": "IPY_MODEL_54a6008ce254488abca9239c5aee6363",
       "value": true
      }
     },
     "cb43928a574448eca437bc4c9aa2a8d2": {
      "model_module": "@jupyter-widgets/controls",
      "model_module_version": "1.1.0",
      "model_name": "ToggleButtonsStyleModel",
      "state": {
       "button_width": "",
       "description_width": ""
      }
     },
     "cc70111a19d94fc791c02b7ec4bbe159": {
      "model_module": "@jupyter-widgets/base",
      "model_module_version": "1.0.0",
      "model_name": "LayoutModel",
      "state": {}
     },
     "cda96481692a4dd9a76548e1689bc85b": {
      "model_module": "@jupyter-widgets/controls",
      "model_module_version": "1.1.0",
      "model_name": "ToggleButtonsModel",
      "state": {
       "_options_labels": [
        "N",
        "NDC"
       ],
       "button_style": "",
       "description": "Type:",
       "icons": [],
       "index": 0,
       "layout": "IPY_MODEL_e1d61a68240847fcb89a97fa2945bff1",
       "style": "IPY_MODEL_4b22a219bb39429aadfbe3662ab9344e",
       "tooltips": [
        "Neutron",
        "Neutron (deconvoluted)"
       ]
      }
     },
     "cdd7b460ab6d497e89a40e54704e0405": {
      "model_module": "@jupyter-widgets/base",
      "model_module_version": "1.0.0",
      "model_name": "LayoutModel",
      "state": {}
     },
     "cea380802af2442091b4df88b4870f06": {
      "model_module": "@jupyter-widgets/base",
      "model_module_version": "1.0.0",
      "model_name": "LayoutModel",
      "state": {}
     },
     "cee140c0cf9e4148bdc534250e77adfa": {
      "model_module": "@jupyter-widgets/controls",
      "model_module_version": "1.1.0",
      "model_name": "LabelModel",
      "state": {
       "layout": "IPY_MODEL_591983d72d9a4707a025102bf48ee6a2",
       "style": "IPY_MODEL_d3829c4f0a5a42b1be5c79bdf71816d0",
       "value": "Select projectile ion species."
      }
     },
     "ceff1e71ac8a41e9a0f7e8232abb7060": {
      "model_module": "@jupyter-widgets/controls",
      "model_module_version": "1.1.0",
      "model_name": "CheckboxModel",
      "state": {
       "description": "60°",
       "disabled": false,
       "layout": "IPY_MODEL_d5d0d2ddcdd242f98557194e3bd76c0e",
       "style": "IPY_MODEL_07e26bfbdd264c5caa86997cd380255c",
       "value": true
      }
     },
     "cfa5fbf828834cb7b861c2382ce6a0a5": {
      "model_module": "@jupyter-widgets/base",
      "model_module_version": "1.0.0",
      "model_name": "LayoutModel",
      "state": {}
     },
     "d045ed28e7f443a492a3b0a8c145e6bd": {
      "model_module": "@jupyter-widgets/base",
      "model_module_version": "1.0.0",
      "model_name": "LayoutModel",
      "state": {}
     },
     "d0cf31ea782242468beb9758d21f489e": {
      "model_module": "@jupyter-widgets/controls",
      "model_module_version": "1.1.0",
      "model_name": "DescriptionStyleModel",
      "state": {
       "description_width": ""
      }
     },
     "d0e6052d8faf4b2698480ee34caee7d4": {
      "model_module": "@jupyter-widgets/base",
      "model_module_version": "1.0.0",
      "model_name": "LayoutModel",
      "state": {}
     },
     "d104df1b93dc4adead945d61dd03d6fe": {
      "model_module": "@jupyter-widgets/base",
      "model_module_version": "1.0.0",
      "model_name": "LayoutModel",
      "state": {}
     },
     "d1ffdb144a5d4c4c8c847ce9410f9e9a": {
      "model_module": "@jupyter-widgets/controls",
      "model_module_version": "1.1.0",
      "model_name": "CheckboxModel",
      "state": {
       "description": "10°",
       "disabled": false,
       "layout": "IPY_MODEL_9393d654bc5842bc8bb61310d8ae3c22",
       "style": "IPY_MODEL_8658947a8ee0460091989d36cf0c0b43",
       "value": true
      }
     },
     "d204c1db0c0a4f7dac17511c7217c255": {
      "model_module": "@jupyter-widgets/controls",
      "model_module_version": "1.1.0",
      "model_name": "CheckboxModel",
      "state": {
       "description": "30°",
       "disabled": false,
       "layout": "IPY_MODEL_69d6fc1b35cd4fd4889f882511b76af2",
       "style": "IPY_MODEL_f6ec50c9f8d14d6f8261e916602e59c9",
       "value": true
      }
     },
     "d254eb2e271643e3acda524c4794ccbf": {
      "model_module": "@jupyter-widgets/controls",
      "model_module_version": "1.1.0",
      "model_name": "CheckboxModel",
      "state": {
       "description": "32.7°",
       "disabled": false,
       "layout": "IPY_MODEL_fec67650c81745c4b3f268ff4c7b72a6",
       "style": "IPY_MODEL_ae7c46f2f69f4776accd5fb7c29f2382",
       "value": true
      }
     },
     "d2bfdaf8796e4f56a2b6c2179e47f23d": {
      "model_module": "@jupyter-widgets/base",
      "model_module_version": "1.0.0",
      "model_name": "LayoutModel",
      "state": {}
     },
     "d3829c4f0a5a42b1be5c79bdf71816d0": {
      "model_module": "@jupyter-widgets/controls",
      "model_module_version": "1.1.0",
      "model_name": "DescriptionStyleModel",
      "state": {
       "description_width": ""
      }
     },
     "d489953aa27748ca809f2bfa6fcbdbf6": {
      "model_module": "@jupyter-widgets/controls",
      "model_module_version": "1.1.0",
      "model_name": "DescriptionStyleModel",
      "state": {
       "description_width": ""
      }
     },
     "d59349eafc6d4521ae99554754cf77ee": {
      "model_module": "@jupyter-widgets/base",
      "model_module_version": "1.0.0",
      "model_name": "LayoutModel",
      "state": {}
     },
     "d5b795a688d941aaa9b25e3f0bb33293": {
      "model_module": "@jupyter-widgets/controls",
      "model_module_version": "1.1.0",
      "model_name": "CheckboxModel",
      "state": {
       "description": "80°",
       "disabled": false,
       "layout": "IPY_MODEL_0a9707392c6b4c3282af3dc874884ff5",
       "style": "IPY_MODEL_7f1320fdde3a4eb58bb722ad2e189b3c",
       "value": true
      }
     },
     "d5d0d2ddcdd242f98557194e3bd76c0e": {
      "model_module": "@jupyter-widgets/base",
      "model_module_version": "1.0.0",
      "model_name": "LayoutModel",
      "state": {}
     },
     "d5e2e35deb844291b27a458a0dc4ce24": {
      "model_module": "@jupyter-widgets/base",
      "model_module_version": "1.0.0",
      "model_name": "LayoutModel",
      "state": {}
     },
     "d6d4eecf671144bca4ba7e9fb9934af7": {
      "model_module": "@jupyter-widgets/controls",
      "model_module_version": "1.1.0",
      "model_name": "CheckboxModel",
      "state": {
       "description": "135°",
       "disabled": false,
       "layout": "IPY_MODEL_83a3795ebf384c3b924e161522508d10",
       "style": "IPY_MODEL_07757186b124423b90b6fc4a321a3839",
       "value": true
      }
     },
     "d7eefa870f8c4d0e9c21967a295082e0": {
      "model_module": "@jupyter-widgets/base",
      "model_module_version": "1.0.0",
      "model_name": "LayoutModel",
      "state": {}
     },
     "d7fa1e0a970542dfa0bcacd0af564385": {
      "model_module": "@jupyter-widgets/base",
      "model_module_version": "1.0.0",
      "model_name": "LayoutModel",
      "state": {}
     },
     "d921a36675004b3d9263529f7b8473c8": {
      "model_module": "@jupyter-widgets/base",
      "model_module_version": "1.0.0",
      "model_name": "LayoutModel",
      "state": {}
     },
     "da3c66a604a64b85afa9e3a60e7b1a1a": {
      "model_module": "@jupyter-widgets/controls",
      "model_module_version": "1.1.0",
      "model_name": "ToggleButtonsModel",
      "state": {
       "_options_labels": [
        "None",
        "Spaced by 10²"
       ],
       "button_style": "",
       "description": "Spacing:",
       "icons": [],
       "index": 0,
       "layout": "IPY_MODEL_a3d9fd0254bb40da9e7e0e1e29c3dc3c",
       "style": "IPY_MODEL_e6203a22b2264fb9805146732da77ef7",
       "tooltips": [
        "All values are presented as is.",
        "Plots for different detectors are multiplied by powers of 10² for easier viewing."
       ]
      }
     },
     "dbf31784806148b18cf007b56b054246": {
      "model_module": "@jupyter-widgets/controls",
      "model_module_version": "1.1.0",
      "model_name": "DescriptionStyleModel",
      "state": {
       "description_width": ""
      }
     },
     "dc0ae02645da44c493796fb07d1b0888": {
      "model_module": "@jupyter-widgets/controls",
      "model_module_version": "1.1.0",
      "model_name": "DescriptionStyleModel",
      "state": {
       "description_width": ""
      }
     },
     "dd243fe614ab4786a6036ba1cd7274c6": {
      "model_module": "@jupyter-widgets/controls",
      "model_module_version": "1.1.0",
      "model_name": "CheckboxModel",
      "state": {
       "description": "32.7°",
       "disabled": false,
       "layout": "IPY_MODEL_7b9d7b7cf9c04c9a82cd16d7e2bb05b0",
       "style": "IPY_MODEL_4088ba6d018e4e63a876d816450947aa",
       "value": true
      }
     },
     "dd3a3b31398e4a0e9aa1cddadb32dcea": {
      "model_module": "@jupyter-widgets/controls",
      "model_module_version": "1.1.0",
      "model_name": "DescriptionStyleModel",
      "state": {
       "description_width": ""
      }
     },
     "dd754a0dd2b94406836938aa9d8da6e9": {
      "model_module": "@jupyter-widgets/controls",
      "model_module_version": "1.1.0",
      "model_name": "CheckboxModel",
      "state": {
       "description": "135°",
       "disabled": false,
       "layout": "IPY_MODEL_1bb7f2c06922441089584949384b0a0c",
       "style": "IPY_MODEL_a5371a7f7e1c47cfb165de66a8ce1d9c",
       "value": true
      }
     },
     "dddc16ed883246f0815715672f5991bf": {
      "model_module": "@jupyter-widgets/base",
      "model_module_version": "1.0.0",
      "model_name": "LayoutModel",
      "state": {}
     },
     "de514ac198ee4f96a23947a300d166c6": {
      "model_module": "@jupyter-widgets/controls",
      "model_module_version": "1.1.0",
      "model_name": "DescriptionStyleModel",
      "state": {
       "description_width": ""
      }
     },
     "de8ca3a9d700404db62e943cbc02e6ce": {
      "model_module": "@jupyter-widgets/controls",
      "model_module_version": "1.1.0",
      "model_name": "ToggleButtonsModel",
      "state": {
       "_options_labels": [
        "20 g/cm²",
        "60 g/cm²"
       ],
       "button_style": "",
       "description": "Thickness:",
       "icons": [],
       "index": 0,
       "layout": "IPY_MODEL_9078c4bcddb24a0c80ee96dce02c78cc",
       "style": "IPY_MODEL_e3f0c8fd96aa4ab99322b59567b8161e",
       "tooltips": [
        "20 g/cm²",
        "60 g/cm²"
       ]
      }
     },
     "dfae9acdbe3d409db72fdff9ac916fc9": {
      "model_module": "@jupyter-widgets/controls",
      "model_module_version": "1.1.0",
      "model_name": "LabelModel",
      "state": {
       "layout": "IPY_MODEL_bccc581e49014ff18c58effdb72679b3",
       "style": "IPY_MODEL_0c5d38b2439f4de1b6158b9ce2c2de5c",
       "value": "Select the detector angles to plot."
      }
     },
     "dfb560290e0e403c9fccbde569a8aebc": {
      "model_module": "@jupyter-widgets/controls",
      "model_module_version": "1.1.0",
      "model_name": "LabelModel",
      "state": {
       "layout": "IPY_MODEL_acbc4eec12c84b1a95db9c9ea2c9b226",
       "style": "IPY_MODEL_5a1015870ae041e78d2db8b9d6e4d69b",
       "value": "Select the detector angles to plot."
      }
     },
     "e02a6cabb30a4011baa7c08d86cd7266": {
      "model_module": "@jupyter-widgets/controls",
      "model_module_version": "1.1.0",
      "model_name": "DescriptionStyleModel",
      "state": {
       "description_width": ""
      }
     },
     "e163e474f57f41afb1c80d3c76fe7cc2": {
      "model_module": "@jupyter-widgets/controls",
      "model_module_version": "1.1.0",
      "model_name": "ToggleButtonsModel",
      "state": {
       "_options_labels": [
        "OLS",
        "NaI"
       ],
       "button_style": "",
       "description": "Type:",
       "icons": [],
       "index": 0,
       "layout": "IPY_MODEL_988a393cd5994582bb58756c59a2cec4",
       "style": "IPY_MODEL_cb43928a574448eca437bc4c9aa2a8d2",
       "tooltips": [
        "Organic Liquid Scintillator",
        "Sodium Iodide"
       ]
      }
     },
     "e18a396c81f740bcb8fd470324b131d6": {
      "model_module": "@jupyter-widgets/controls",
      "model_module_version": "1.1.0",
      "model_name": "DescriptionStyleModel",
      "state": {
       "description_width": ""
      }
     },
     "e1d61a68240847fcb89a97fa2945bff1": {
      "model_module": "@jupyter-widgets/base",
      "model_module_version": "1.0.0",
      "model_name": "LayoutModel",
      "state": {}
     },
     "e276e5c685494292b6190b0bad23e9f6": {
      "model_module": "@jupyter-widgets/controls",
      "model_module_version": "1.1.0",
      "model_name": "DescriptionStyleModel",
      "state": {
       "description_width": ""
      }
     },
     "e2afa7cfcc1a41298897da78530a081d": {
      "model_module": "@jupyter-widgets/base",
      "model_module_version": "1.0.0",
      "model_name": "LayoutModel",
      "state": {}
     },
     "e38bb0cddc9d419990656dfcee6803a8": {
      "model_module": "@jupyter-widgets/base",
      "model_module_version": "1.0.0",
      "model_name": "LayoutModel",
      "state": {}
     },
     "e3c058a88a5b46e7a21cca77776b6f7b": {
      "model_module": "@jupyter-widgets/controls",
      "model_module_version": "1.1.0",
      "model_name": "CheckboxModel",
      "state": {
       "description": "135°",
       "disabled": false,
       "layout": "IPY_MODEL_571570d1fdb24024b81f8c526ee80215",
       "style": "IPY_MODEL_593b60d7d69a4650828cd601b908e6b9",
       "value": true
      }
     },
     "e3f0c8fd96aa4ab99322b59567b8161e": {
      "model_module": "@jupyter-widgets/controls",
      "model_module_version": "1.1.0",
      "model_name": "ToggleButtonsStyleModel",
      "state": {
       "button_width": "",
       "description_width": ""
      }
     },
     "e4375cfc8ff54701b364e8158c74eebf": {
      "model_module": "@jupyter-widgets/controls",
      "model_module_version": "1.1.0",
      "model_name": "DescriptionStyleModel",
      "state": {
       "description_width": ""
      }
     },
     "e47dd9537dee4e0a961986192547775b": {
      "model_module": "@jupyter-widgets/controls",
      "model_module_version": "1.1.0",
      "model_name": "CheckboxModel",
      "state": {
       "description": "10°",
       "disabled": false,
       "layout": "IPY_MODEL_c669a7878a2f4b5998664f3d1a967d02",
       "style": "IPY_MODEL_9bbc77fdd4154a78b93848e63b9411c7",
       "value": true
      }
     },
     "e4d4ee40e9634060ada1b1c42c9d84de": {
      "model_module": "@jupyter-widgets/controls",
      "model_module_version": "1.1.0",
      "model_name": "LabelModel",
      "state": {
       "layout": "IPY_MODEL_a20b631d661f4e6a9754ccdd1b8279ae",
       "style": "IPY_MODEL_b71c3a8d9a2f48ea8113db14d33ee897",
       "value": "Select which sets of data to display."
      }
     },
     "e504e3870f2d434b9b3ce8047fb6ce6a": {
      "model_module": "@jupyter-widgets/controls",
      "model_module_version": "1.1.0",
      "model_name": "ToggleButtonsStyleModel",
      "state": {
       "button_width": "",
       "description_width": ""
      }
     },
     "e6203a22b2264fb9805146732da77ef7": {
      "model_module": "@jupyter-widgets/controls",
      "model_module_version": "1.1.0",
      "model_name": "ToggleButtonsStyleModel",
      "state": {
       "button_width": "",
       "description_width": ""
      }
     },
     "e72b472b555f44c68890ff54d24fd189": {
      "model_module": "@jupyter-widgets/controls",
      "model_module_version": "1.1.0",
      "model_name": "ToggleButtonsModel",
      "state": {
       "_options_labels": [
        "400 MeV/n",
        "800 MeV/n",
        "1500 MeV/n"
       ],
       "button_style": "",
       "description": "Energy:",
       "icons": [],
       "index": 0,
       "layout": "IPY_MODEL_d0e6052d8faf4b2698480ee34caee7d4",
       "style": "IPY_MODEL_1ead81b4709043c994909a2b2b093b5f",
       "tooltips": [
        "lowest energy",
        "middle energy",
        "highest energy"
       ]
      }
     },
     "e791ef4198404877b20852aa1f1999dd": {
      "model_module": "@jupyter-widgets/base",
      "model_module_version": "1.0.0",
      "model_name": "LayoutModel",
      "state": {}
     },
     "e858a2e6bfff44c9a787a49521f4d6a5": {
      "model_module": "@jupyter-widgets/controls",
      "model_module_version": "1.1.0",
      "model_name": "DescriptionStyleModel",
      "state": {
       "description_width": ""
      }
     },
     "e9502940170d4e94abc6619254f97d23": {
      "model_module": "@jupyter-widgets/controls",
      "model_module_version": "1.1.0",
      "model_name": "CheckboxModel",
      "state": {
       "description": "45°",
       "disabled": false,
       "layout": "IPY_MODEL_4693c63a28be4976a31169004a8d002b",
       "style": "IPY_MODEL_143c0b0a8ded453daf70a006d44b7880",
       "value": true
      }
     },
     "e975e26b0362471590a595e5711b6a02": {
      "model_module": "@jupyter-widgets/controls",
      "model_module_version": "1.1.0",
      "model_name": "ToggleButtonsStyleModel",
      "state": {
       "button_width": "",
       "description_width": ""
      }
     },
     "ead1f9378a724f3fac29c1cdad541101": {
      "model_module": "@jupyter-widgets/controls",
      "model_module_version": "1.1.0",
      "model_name": "DescriptionStyleModel",
      "state": {
       "description_width": ""
      }
     },
     "eb182ea4bdca40d1807c6f191db4fefa": {
      "model_module": "@jupyter-widgets/base",
      "model_module_version": "1.0.0",
      "model_name": "LayoutModel",
      "state": {}
     },
     "eb3bc749b5bd437384de45b0ff78c72e": {
      "model_module": "@jupyter-widgets/controls",
      "model_module_version": "1.1.0",
      "model_name": "DescriptionStyleModel",
      "state": {
       "description_width": ""
      }
     },
     "ecb67a303385458cb0a68adc15ac1fc7": {
      "model_module": "@jupyter-widgets/controls",
      "model_module_version": "1.1.0",
      "model_name": "DescriptionStyleModel",
      "state": {
       "description_width": ""
      }
     },
     "ece4d2aad3f0431485bdbeb4ca86c6d4": {
      "model_module": "@jupyter-widgets/controls",
      "model_module_version": "1.1.0",
      "model_name": "DescriptionStyleModel",
      "state": {
       "description_width": ""
      }
     },
     "ecf53ae7c0fb4039bf6f58762a521630": {
      "model_module": "@jupyter-widgets/controls",
      "model_module_version": "1.1.0",
      "model_name": "LabelModel",
      "state": {
       "layout": "IPY_MODEL_f96537a5e7dc4e1a98b108b6f8434a3b",
       "style": "IPY_MODEL_28327983a7144dda802785386bf344e5",
       "value": "Select a detector type."
      }
     },
     "ed3c3afe7bb04260aa2cda37f2e479db": {
      "model_module": "@jupyter-widgets/controls",
      "model_module_version": "1.1.0",
      "model_name": "CheckboxModel",
      "state": {
       "description": "60°",
       "disabled": false,
       "layout": "IPY_MODEL_41e3926362f243e19a8320c94d209953",
       "style": "IPY_MODEL_25e876c3f90c4f3f8dfd969e5d91c1a4",
       "value": true
      }
     },
     "ed9b8aca428d4bfeb7962d86e3245961": {
      "model_module": "@jupyter-widgets/controls",
      "model_module_version": "1.1.0",
      "model_name": "CheckboxModel",
      "state": {
       "description": "80°",
       "disabled": false,
       "layout": "IPY_MODEL_234bc26d1bdc454db32ce045f42ba194",
       "style": "IPY_MODEL_0f09a72e9f9f4937bd8a9ecae88876c4",
       "value": true
      }
     },
     "edf26b31a5c04ae5ac5eb9360ccd15ef": {
      "model_module": "@jupyter-widgets/base",
      "model_module_version": "1.0.0",
      "model_name": "LayoutModel",
      "state": {}
     },
     "ee9508ad87874fd7b8be8d0efe9d98ad": {
      "model_module": "@jupyter-widgets/base",
      "model_module_version": "1.0.0",
      "model_name": "LayoutModel",
      "state": {}
     },
     "eefe43499ee44524b93df0bdab9d7141": {
      "model_module": "@jupyter-widgets/controls",
      "model_module_version": "1.1.0",
      "model_name": "DescriptionStyleModel",
      "state": {
       "description_width": ""
      }
     },
     "ef12815c062c4b8abf7c166758a426b0": {
      "model_module": "@jupyter-widgets/base",
      "model_module_version": "1.0.0",
      "model_name": "LayoutModel",
      "state": {}
     },
     "efdebc32c6d14475963f81083af48fc6": {
      "model_module": "@jupyter-widgets/controls",
      "model_module_version": "1.1.0",
      "model_name": "DescriptionStyleModel",
      "state": {
       "description_width": ""
      }
     },
     "f05a57fc2398413dacc5792e327cfeba": {
      "model_module": "@jupyter-widgets/controls",
      "model_module_version": "1.1.0",
      "model_name": "ToggleButtonsStyleModel",
      "state": {
       "button_width": "",
       "description_width": ""
      }
     },
     "f075aaa215ec4cfe944ca2bc67718f64": {
      "model_module": "@jupyter-widgets/base",
      "model_module_version": "1.0.0",
      "model_name": "LayoutModel",
      "state": {}
     },
     "f13b3349550249a7a8a8925ed41d5a03": {
      "model_module": "@jupyter-widgets/controls",
      "model_module_version": "1.1.0",
      "model_name": "DescriptionStyleModel",
      "state": {
       "description_width": ""
      }
     },
     "f198b3453e774f70bf273162d5d01d64": {
      "model_module": "@jupyter-widgets/base",
      "model_module_version": "1.0.0",
      "model_name": "LayoutModel",
      "state": {}
     },
     "f233b0f7df684cf19f9a4b1a0e80fc0f": {
      "model_module": "@jupyter-widgets/controls",
      "model_module_version": "1.1.0",
      "model_name": "DescriptionStyleModel",
      "state": {
       "description_width": ""
      }
     },
     "f2456de050614fe7ae7c3b92f8de9a80": {
      "model_module": "@jupyter-widgets/controls",
      "model_module_version": "1.1.0",
      "model_name": "LabelModel",
      "state": {
       "layout": "IPY_MODEL_1895e3bc6f044bb8afff35cdcfbc7aab",
       "style": "IPY_MODEL_efdebc32c6d14475963f81083af48fc6",
       "value": "Select upstream target mass thickness."
      }
     },
     "f2a30b5b168d4442829ced54e22cba51": {
      "model_module": "@jupyter-widgets/controls",
      "model_module_version": "1.1.0",
      "model_name": "CheckboxModel",
      "state": {
       "description": "32.7°",
       "disabled": false,
       "layout": "IPY_MODEL_5e26460dacad4849ad851395b6f30865",
       "style": "IPY_MODEL_70e3e49badd545ee81554cf95865dfb5",
       "value": true
      }
     },
     "f3ad70d074f14fb29d3e3e092c92e272": {
      "model_module": "@jupyter-widgets/base",
      "model_module_version": "1.0.0",
      "model_name": "LayoutModel",
      "state": {}
     },
     "f4124d13f85b4c338da0a16a8d35183d": {
      "model_module": "@jupyter-widgets/controls",
      "model_module_version": "1.1.0",
      "model_name": "ToggleButtonsModel",
      "state": {
       "_options_labels": [
        "20 g/cm²",
        "40 g/cm²",
        "60 g/cm²"
       ],
       "button_style": "",
       "description": "Thickness:",
       "icons": [],
       "index": 0,
       "layout": "IPY_MODEL_7751e08282f645879d45fa1ef176160c",
       "style": "IPY_MODEL_15a35212efc8475aaf0e98cf2b28246a",
       "tooltips": [
        "20 g/cm²",
        "40 g/cm²",
        "60 g/cm²"
       ]
      }
     },
     "f4462351516b49a5afd9a3b87837f79c": {
      "model_module": "@jupyter-widgets/controls",
      "model_module_version": "1.1.0",
      "model_name": "LabelModel",
      "state": {
       "layout": "IPY_MODEL_829f31e9b0c8410493c37e562657e989",
       "style": "IPY_MODEL_a311037077c543ca9c84276971387c3d",
       "value": "Select which sets of data to display."
      }
     },
     "f4bcbe0acbd54ece9fa7bc6babb7c729": {
      "model_module": "@jupyter-widgets/base",
      "model_module_version": "1.0.0",
      "model_name": "LayoutModel",
      "state": {}
     },
     "f4c2d755906e4acc82b4b2022cb7d83e": {
      "model_module": "@jupyter-widgets/base",
      "model_module_version": "1.0.0",
      "model_name": "LayoutModel",
      "state": {}
     },
     "f629ac463075401a82db4055047c696a": {
      "model_module": "@jupyter-widgets/controls",
      "model_module_version": "1.1.0",
      "model_name": "LabelModel",
      "state": {
       "layout": "IPY_MODEL_2b77daaeab2946b6ae613f67e7e60193",
       "style": "IPY_MODEL_dbf31784806148b18cf007b56b054246",
       "value": "Select which secondary particle to plot spectra for."
      }
     },
     "f6ec50c9f8d14d6f8261e916602e59c9": {
      "model_module": "@jupyter-widgets/controls",
      "model_module_version": "1.1.0",
      "model_name": "DescriptionStyleModel",
      "state": {
       "description_width": ""
      }
     },
     "f6f17ed301d94057a0bc97f27e6b7024": {
      "model_module": "@jupyter-widgets/base",
      "model_module_version": "1.0.0",
      "model_name": "LayoutModel",
      "state": {}
     },
     "f7774ba6a05344b1a3ec5335eb66bab7": {
      "model_module": "@jupyter-widgets/controls",
      "model_module_version": "1.1.0",
      "model_name": "ToggleButtonsModel",
      "state": {
       "_options_labels": [
        "N",
        "NDC",
        "P (¹ H)",
        "D (² H)",
        "T (³ H)",
        "S (³ He)",
        "A (⁴ He)"
       ],
       "button_style": "",
       "description": "Type:",
       "icons": [],
       "index": 0,
       "layout": "IPY_MODEL_193853f9a1684ec88fc80445d79e0ba9",
       "style": "IPY_MODEL_f05a57fc2398413dacc5792e327cfeba",
       "tooltips": [
        "Neutron",
        "Neutron (deconvoluted)",
        "Proton",
        "Deuteron",
        "Triton",
        "Helium-3",
        "Helium-4"
       ]
      }
     },
     "f7cd482253f94585a80d6bb115ec989f": {
      "model_module": "@jupyter-widgets/controls",
      "model_module_version": "1.1.0",
      "model_name": "DescriptionStyleModel",
      "state": {
       "description_width": ""
      }
     },
     "f8a211f64f1f4f378bcaa6dd3f50b1db": {
      "model_module": "@jupyter-widgets/controls",
      "model_module_version": "1.1.0",
      "model_name": "DescriptionStyleModel",
      "state": {
       "description_width": ""
      }
     },
     "f8c6878758504288a4ef98490a7bf179": {
      "model_module": "@jupyter-widgets/controls",
      "model_module_version": "1.1.0",
      "model_name": "ToggleButtonsStyleModel",
      "state": {
       "button_width": "",
       "description_width": ""
      }
     },
     "f96537a5e7dc4e1a98b108b6f8434a3b": {
      "model_module": "@jupyter-widgets/base",
      "model_module_version": "1.0.0",
      "model_name": "LayoutModel",
      "state": {}
     },
     "f9f8c52f431345f698c281574d22506e": {
      "model_module": "@jupyter-widgets/controls",
      "model_module_version": "1.1.0",
      "model_name": "CheckboxModel",
      "state": {
       "description": "60°",
       "disabled": false,
       "layout": "IPY_MODEL_a6511527a3ec4002aa89520eafdabe73",
       "style": "IPY_MODEL_adef8af3dbef49b5bf0fe6ddeef89d06",
       "value": true
      }
     },
     "fa9b0c391269426f8023ac94e5b71181": {
      "model_module": "@jupyter-widgets/controls",
      "model_module_version": "1.1.0",
      "model_name": "ToggleButtonsStyleModel",
      "state": {
       "button_width": "",
       "description_width": ""
      }
     },
     "fa9e86f21a4f40b6896d4d4df3581ea5": {
      "model_module": "@jupyter-widgets/base",
      "model_module_version": "1.0.0",
      "model_name": "LayoutModel",
      "state": {}
     },
     "fb4682e938f54eb68cf31372aa27daa2": {
      "model_module": "@jupyter-widgets/controls",
      "model_module_version": "1.1.0",
      "model_name": "CheckboxModel",
      "state": {
       "description": "7.2°",
       "disabled": false,
       "layout": "IPY_MODEL_fa9e86f21a4f40b6896d4d4df3581ea5",
       "style": "IPY_MODEL_3a19cc5c39f047ad823d1c15fd11c6ba",
       "value": true
      }
     },
     "fb9d46eb2d9f40789e7030ae2320e2fc": {
      "model_module": "@jupyter-widgets/controls",
      "model_module_version": "1.1.0",
      "model_name": "CheckboxModel",
      "state": {
       "description": "PHITS sim.",
       "disabled": false,
       "layout": "IPY_MODEL_ae58877b32bd4dd5ba8bfdb979bee38a",
       "style": "IPY_MODEL_0b9ff29894144d61b66453698de74215",
       "value": true
      }
     },
     "fbbb3d5744dd4f179f3cc78433cba9c1": {
      "model_module": "@jupyter-widgets/controls",
      "model_module_version": "1.1.0",
      "model_name": "LabelModel",
      "state": {
       "layout": "IPY_MODEL_04e0e02fd9424300a282ee8e21e6a088",
       "style": "IPY_MODEL_5af719f86866423986c2dfaf7aaf50e7",
       "value": "Select upstream target mass thickness."
      }
     },
     "fc3c7d1c3a824bc4a7ab4ae7d3a76502": {
      "model_module": "@jupyter-widgets/controls",
      "model_module_version": "1.1.0",
      "model_name": "DescriptionStyleModel",
      "state": {
       "description_width": ""
      }
     },
     "fe09287dcce44265aedb2fbe5024622d": {
      "model_module": "@jupyter-widgets/controls",
      "model_module_version": "1.1.0",
      "model_name": "DescriptionStyleModel",
      "state": {
       "description_width": ""
      }
     },
     "fe444945620d4fd68f0f58c5bde35180": {
      "model_module": "@jupyter-widgets/controls",
      "model_module_version": "1.1.0",
      "model_name": "CheckboxModel",
      "state": {
       "description": "135°",
       "disabled": false,
       "layout": "IPY_MODEL_f075aaa215ec4cfe944ca2bc67718f64",
       "style": "IPY_MODEL_c1b5218451a5463aaba4be6b444620f8",
       "value": true
      }
     },
     "fe5af945dcef46c08027357980776cea": {
      "model_module": "@jupyter-widgets/base",
      "model_module_version": "1.0.0",
      "model_name": "LayoutModel",
      "state": {}
     },
     "fec67650c81745c4b3f268ff4c7b72a6": {
      "model_module": "@jupyter-widgets/base",
      "model_module_version": "1.0.0",
      "model_name": "LayoutModel",
      "state": {}
     },
     "ff08751772c74d82b2870c4b2b9d7ac7": {
      "model_module": "@jupyter-widgets/controls",
      "model_module_version": "1.1.0",
      "model_name": "ToggleButtonsModel",
      "state": {
       "_options_labels": [
        "20 g/cm²",
        "60 g/cm²"
       ],
       "button_style": "",
       "description": "Thickness:",
       "icons": [],
       "index": 0,
       "layout": "IPY_MODEL_aae4adf9553e4a9096373ce3db4ba1e4",
       "style": "IPY_MODEL_9ca2baab08d14cfbbc0b308d87b7cf99",
       "tooltips": [
        "20 g/cm²",
        "60 g/cm²"
       ]
      }
     },
     "fff3f5f35d4b40bb988303683eb78bbb": {
      "model_module": "@jupyter-widgets/controls",
      "model_module_version": "1.1.0",
      "model_name": "ToggleButtonsModel",
      "state": {
       "_options_labels": [
        "H",
        "He",
        "C",
        "Si",
        "Fe"
       ],
       "button_style": "",
       "description": "Ion:",
       "icons": [],
       "index": 2,
       "layout": "IPY_MODEL_0b494dc80487406a9b61c6f01741dc0a",
       "style": "IPY_MODEL_120e79b40cc1437caea92ee8f745a440",
       "tooltips": [
        "Hydrogen",
        "Helium",
        "Carbon",
        "Silicon",
        "Iron"
       ]
      }
     },
     "fff6cf548d564635b9b9146c8655a150": {
      "model_module": "@jupyter-widgets/controls",
      "model_module_version": "1.1.0",
      "model_name": "DescriptionStyleModel",
      "state": {
       "description_width": ""
      }
     }
    },
    "version_major": 2,
    "version_minor": 0
   }
  }
 },
 "nbformat": 4,
 "nbformat_minor": 1
}
