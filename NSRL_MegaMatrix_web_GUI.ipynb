{
 "cells": [
  {
   "cell_type": "code",
   "execution_count": 2,
   "metadata": {},
   "outputs": [
    {
     "data": {
      "application/vnd.jupyter.widget-view+json": {
       "model_id": "523c4828105b4a638cd9191c11de0ee4",
       "version_major": 2,
       "version_minor": 0
      },
      "text/html": [
       "<p>Failed to display Jupyter Widget of type <code>Label</code>.</p>\n",
       "<p>\n",
       "  If you're reading this message in the Jupyter Notebook or JupyterLab Notebook, it may mean\n",
       "  that the widgets JavaScript is still loading. If this message persists, it\n",
       "  likely means that the widgets JavaScript library is either not installed or\n",
       "  not enabled. See the <a href=\"https://ipywidgets.readthedocs.io/en/stable/user_install.html\">Jupyter\n",
       "  Widgets Documentation</a> for setup instructions.\n",
       "</p>\n",
       "<p>\n",
       "  If you're reading this message in another frontend (for example, a static\n",
       "  rendering on GitHub or <a href=\"https://nbviewer.jupyter.org/\">NBViewer</a>),\n",
       "  it may mean that your frontend doesn't currently support widgets.\n",
       "</p>\n"
      ],
      "text/plain": [
       "Label(value='Select projectile ion species.')"
      ]
     },
     "metadata": {},
     "output_type": "display_data"
    },
    {
     "data": {
      "application/vnd.jupyter.widget-view+json": {
       "model_id": "dabeade01efb4c9193577d90f5412812",
       "version_major": 2,
       "version_minor": 0
      },
      "text/html": [
       "<p>Failed to display Jupyter Widget of type <code>ToggleButtons</code>.</p>\n",
       "<p>\n",
       "  If you're reading this message in the Jupyter Notebook or JupyterLab Notebook, it may mean\n",
       "  that the widgets JavaScript is still loading. If this message persists, it\n",
       "  likely means that the widgets JavaScript library is either not installed or\n",
       "  not enabled. See the <a href=\"https://ipywidgets.readthedocs.io/en/stable/user_install.html\">Jupyter\n",
       "  Widgets Documentation</a> for setup instructions.\n",
       "</p>\n",
       "<p>\n",
       "  If you're reading this message in another frontend (for example, a static\n",
       "  rendering on GitHub or <a href=\"https://nbviewer.jupyter.org/\">NBViewer</a>),\n",
       "  it may mean that your frontend doesn't currently support widgets.\n",
       "</p>\n"
      ],
      "text/plain": [
       "ToggleButtons(description='Ion:', options=('H', 'He', 'C', 'Si', 'Fe'), tooltips=['Hydrogen', 'Helium', 'Carbon', 'Silicon', 'Iron'], value='H')"
      ]
     },
     "metadata": {},
     "output_type": "display_data"
    }
   ],
   "source": [
    "%matplotlib notebook\n",
    "\n",
    "import numpy as np\n",
    "import matplotlib.pyplot as plt\n",
    "from matplotlib.collections import PatchCollection\n",
    "from matplotlib.patches import Rectangle\n",
    "import re\n",
    "from IPython.display import display\n",
    "from ipywidgets import interact, interactive, fixed, interact_manual\n",
    "import ipywidgets as widgets\n",
    "from IPython.display import Javascript\n",
    "\n",
    "def find(target, myList):\n",
    "    for i in range(len(myList)):\n",
    "        if myList[i] == target:\n",
    "            return i       \n",
    "\n",
    "def on_click(change):\n",
    "    #display(Javascript('IPython.notebook.execute_cells_below()'))  \n",
    "    display(Javascript('IPython.notebook.execute_cell_range(IPython.notebook.get_selected_index()+1, IPython.notebook.ncells())'))\n",
    "\n",
    "# Function to plot error boxes\n",
    "def makeErrorBoxes(xdata,ydata,xerror,yerror,fc='None',ec='k',alpha=1.0,lw=1):\n",
    "    # Create list for all the error patches\n",
    "    errorboxes = []\n",
    "\n",
    "    # Loop over data points; create box from errors at each point\n",
    "    for xc,yc,xe,ye in zip(xdata,ydata,xerror.T,yerror.T):\n",
    "        rect = Rectangle((xc-xe[0],yc-ye[0]),xe.sum(),ye.sum())\n",
    "        errorboxes.append(rect)\n",
    "\n",
    "    # Create patch collection with specified colour/alpha\n",
    "    pc = PatchCollection(errorboxes,facecolor=fc,alpha=alpha,edgecolor=ec,linewidth=lw)\n",
    "\n",
    "    # Add collection to axes\n",
    "    ax.add_collection(pc)    \n",
    "\n",
    "def detector_colors(di):\n",
    "    #colors_list = ['b','g','r','c','m','y'] # Python 3 old default\n",
    "    #colors_list = ['#b2182b','#d6604d','#f4a582','#92c5de','#4393c3','#2166ac'] # blue to red cold\n",
    "    #colors_list = ['#d73027','#f46d43','#fdae61','#abd9e9','#74add1','#4575b4'] # blue to red warm\n",
    "    #colors_list = ['#762a83','#9970ab','#c2a5cf','#a6dba0','#5aae61','#1b7837'] # purple to green\n",
    "    #colors_list = ['#40004b','#762a83','#9970ab','#5aae61','#1b7837','#00441b'] # purple to green darker\n",
    "    #colors_list = [\"#afa83a\",\"#7f63b8\",\"#56ae6c\",\"#b84c7d\",\"#ac863f\",\"#b94d3d\"] # iWantHue 1\n",
    "    #colors_list = ['#1b9e77','#d95f02','#7570b3','#e7298a','#66a61e','#e6ab02'] # qualitative dark 1\n",
    "    colors_list = ['#e41a1c','#377eb8','#4daf4a','#984ea3','#ff7f00','#a65628'] # qualitative dark 2\n",
    "    return colors_list[di]\n",
    "    \n",
    "data_version = 'v7'\n",
    "\n",
    "metadata_file = 'metadata_matrix_' + data_version + '.npy'\n",
    "mm_metadata = np.load(metadata_file) # data set, ion species, ion energy, target material, target thickness, secondary particle, detector, header meta data\n",
    "exists_file = 'exists_matrix_' + data_version + '.npy'\n",
    "mm_exists = np.load(exists_file) # data set, ion species, ion energy, target material, target thickness, secondary particle, detector\n",
    "\n",
    "#values_file = 'values_matrix_' + data_version + '.npy'\n",
    "#mm_values = np.load(values_file) # data set, ion species, ion energy, target material, target thickness, secondary particle, detector, column values, energy bins\n",
    "\n",
    "#print(mm_metadata[0,0,0,0,0,0,0,0])\n",
    "\n",
    "projectile_sym_str = ['H', 'He', 'C', 'Si', 'Fe']\n",
    "projectile_longnames_str = ['Hydrogen', 'Helium', 'Carbon', 'Silicon', 'Iron']\n",
    "\n",
    "mm_values_names_list = []\n",
    "for i in range(5):\n",
    "    mm_values_names_list.append('values_matrix_' + projectile_sym_str[i].lower() + \"_\" + data_version + '.npy')\n",
    "\n",
    "is_label = widgets.Label(value=\"Select projectile ion species.\")\n",
    "    \n",
    "ion_species = widgets.ToggleButtons(\n",
    "    options=projectile_sym_str,\n",
    "    description='Ion:',\n",
    "    disabled=False,\n",
    "    button_style='', # 'success', 'info', 'warning', 'danger' or ''\n",
    "    tooltips=projectile_longnames_str,\n",
    "#     icons=['check'] * 5\n",
    ")\n",
    "\n",
    "ion_species.observe(on_click, 'value')\n",
    "display(is_label,ion_species)\n"
   ]
  },
  {
   "cell_type": "code",
   "execution_count": 3,
   "metadata": {},
   "outputs": [
    {
     "data": {
      "application/vnd.jupyter.widget-view+json": {
       "model_id": "cb350f65b87c47b78cdb65b6e951f426",
       "version_major": 2,
       "version_minor": 0
      },
      "text/html": [
       "<p>Failed to display Jupyter Widget of type <code>Label</code>.</p>\n",
       "<p>\n",
       "  If you're reading this message in the Jupyter Notebook or JupyterLab Notebook, it may mean\n",
       "  that the widgets JavaScript is still loading. If this message persists, it\n",
       "  likely means that the widgets JavaScript library is either not installed or\n",
       "  not enabled. See the <a href=\"https://ipywidgets.readthedocs.io/en/stable/user_install.html\">Jupyter\n",
       "  Widgets Documentation</a> for setup instructions.\n",
       "</p>\n",
       "<p>\n",
       "  If you're reading this message in another frontend (for example, a static\n",
       "  rendering on GitHub or <a href=\"https://nbviewer.jupyter.org/\">NBViewer</a>),\n",
       "  it may mean that your frontend doesn't currently support widgets.\n",
       "</p>\n"
      ],
      "text/plain": [
       "Label(value='Select projectile ion energy.')"
      ]
     },
     "metadata": {},
     "output_type": "display_data"
    },
    {
     "data": {
      "application/vnd.jupyter.widget-view+json": {
       "model_id": "4d997723c08e4689867b589a31521fa2",
       "version_major": 2,
       "version_minor": 0
      },
      "text/html": [
       "<p>Failed to display Jupyter Widget of type <code>ToggleButtons</code>.</p>\n",
       "<p>\n",
       "  If you're reading this message in the Jupyter Notebook or JupyterLab Notebook, it may mean\n",
       "  that the widgets JavaScript is still loading. If this message persists, it\n",
       "  likely means that the widgets JavaScript library is either not installed or\n",
       "  not enabled. See the <a href=\"https://ipywidgets.readthedocs.io/en/stable/user_install.html\">Jupyter\n",
       "  Widgets Documentation</a> for setup instructions.\n",
       "</p>\n",
       "<p>\n",
       "  If you're reading this message in another frontend (for example, a static\n",
       "  rendering on GitHub or <a href=\"https://nbviewer.jupyter.org/\">NBViewer</a>),\n",
       "  it may mean that your frontend doesn't currently support widgets.\n",
       "</p>\n"
      ],
      "text/plain": [
       "ToggleButtons(description='Energy:', options=('400 MeV', '800 MeV', '2500 MeV'), tooltips=['lowest energy', 'middle energy', 'highest energy'], value='400 MeV')"
      ]
     },
     "metadata": {},
     "output_type": "display_data"
    }
   ],
   "source": [
    "isi = find(ion_species.value,projectile_sym_str)\n",
    "mm_values = np.load(mm_values_names_list[isi])\n",
    "\n",
    "def erg_options(isi):\n",
    "    if isi == 0:\n",
    "        proj_E = ['400 MeV','800 MeV','2500 MeV']\n",
    "    else:\n",
    "        proj_E = ['400 MeV/n','800 MeV/n','1500 MeV/n']\n",
    "    return proj_E\n",
    "\n",
    "Projectile_E_tooltips = ['lowest energy','middle energy', 'highest energy']\n",
    "\n",
    "ie_label = widgets.Label(value=\"Select projectile ion energy.\")\n",
    "\n",
    "ion_energy = widgets.ToggleButtons(\n",
    "    options=erg_options(isi),\n",
    "    description='Energy:',\n",
    "    disabled=False,\n",
    "    button_style='', # 'success', 'info', 'warning', 'danger' or ''\n",
    "    tooltips=Projectile_E_tooltips,\n",
    "#     icons=['check'] * 5\n",
    ")\n",
    "\n",
    "ion_energy.observe(on_click, 'value')\n",
    "display(ie_label, ion_energy)\n"
   ]
  },
  {
   "cell_type": "code",
   "execution_count": 4,
   "metadata": {},
   "outputs": [
    {
     "data": {
      "application/vnd.jupyter.widget-view+json": {
       "model_id": "a07caaddf6764ac883c73b6c9d3776da",
       "version_major": 2,
       "version_minor": 0
      },
      "text/html": [
       "<p>Failed to display Jupyter Widget of type <code>Label</code>.</p>\n",
       "<p>\n",
       "  If you're reading this message in the Jupyter Notebook or JupyterLab Notebook, it may mean\n",
       "  that the widgets JavaScript is still loading. If this message persists, it\n",
       "  likely means that the widgets JavaScript library is either not installed or\n",
       "  not enabled. See the <a href=\"https://ipywidgets.readthedocs.io/en/stable/user_install.html\">Jupyter\n",
       "  Widgets Documentation</a> for setup instructions.\n",
       "</p>\n",
       "<p>\n",
       "  If you're reading this message in another frontend (for example, a static\n",
       "  rendering on GitHub or <a href=\"https://nbviewer.jupyter.org/\">NBViewer</a>),\n",
       "  it may mean that your frontend doesn't currently support widgets.\n",
       "</p>\n"
      ],
      "text/plain": [
       "Label(value='Select upstream target material.')"
      ]
     },
     "metadata": {},
     "output_type": "display_data"
    },
    {
     "data": {
      "application/vnd.jupyter.widget-view+json": {
       "model_id": "197544176eb942488d470089bb926066",
       "version_major": 2,
       "version_minor": 0
      },
      "text/html": [
       "<p>Failed to display Jupyter Widget of type <code>ToggleButtons</code>.</p>\n",
       "<p>\n",
       "  If you're reading this message in the Jupyter Notebook or JupyterLab Notebook, it may mean\n",
       "  that the widgets JavaScript is still loading. If this message persists, it\n",
       "  likely means that the widgets JavaScript library is either not installed or\n",
       "  not enabled. See the <a href=\"https://ipywidgets.readthedocs.io/en/stable/user_install.html\">Jupyter\n",
       "  Widgets Documentation</a> for setup instructions.\n",
       "</p>\n",
       "<p>\n",
       "  If you're reading this message in another frontend (for example, a static\n",
       "  rendering on GitHub or <a href=\"https://nbviewer.jupyter.org/\">NBViewer</a>),\n",
       "  it may mean that your frontend doesn't currently support widgets.\n",
       "</p>\n"
      ],
      "text/plain": [
       "ToggleButtons(description='Material:', options=('Al', 'HDPE', 'AlPE'), tooltips=['Aluminum', 'Polyethylene', 'Combination of Al and HDPE'], value='Al')"
      ]
     },
     "metadata": {},
     "output_type": "display_data"
    }
   ],
   "source": [
    "iei = find(ion_energy.value,erg_options(isi))\n",
    "\n",
    "target_mats_long = ['Aluminum','Polyethylene','Combination of Al and HDPE']\n",
    "target_mats_short = ['Al','HDPE','AlPE']\n",
    "\n",
    "tm_label = widgets.Label(value=\"Select upstream target material.\")\n",
    "\n",
    "target_material = widgets.ToggleButtons(\n",
    "    options=target_mats_short,\n",
    "    description='Material:',\n",
    "    disabled=False,\n",
    "    button_style='', # 'success', 'info', 'warning', 'danger' or ''\n",
    "    tooltips=target_mats_long,\n",
    "#     icons=['check'] * 3\n",
    ")\n",
    "\n",
    "target_material.observe(on_click, 'value')\n",
    "display(tm_label, target_material)"
   ]
  },
  {
   "cell_type": "code",
   "execution_count": 5,
   "metadata": {},
   "outputs": [
    {
     "data": {
      "application/vnd.jupyter.widget-view+json": {
       "model_id": "b71a210569a140dc99b9633e6a674812",
       "version_major": 2,
       "version_minor": 0
      },
      "text/html": [
       "<p>Failed to display Jupyter Widget of type <code>Label</code>.</p>\n",
       "<p>\n",
       "  If you're reading this message in the Jupyter Notebook or JupyterLab Notebook, it may mean\n",
       "  that the widgets JavaScript is still loading. If this message persists, it\n",
       "  likely means that the widgets JavaScript library is either not installed or\n",
       "  not enabled. See the <a href=\"https://ipywidgets.readthedocs.io/en/stable/user_install.html\">Jupyter\n",
       "  Widgets Documentation</a> for setup instructions.\n",
       "</p>\n",
       "<p>\n",
       "  If you're reading this message in another frontend (for example, a static\n",
       "  rendering on GitHub or <a href=\"https://nbviewer.jupyter.org/\">NBViewer</a>),\n",
       "  it may mean that your frontend doesn't currently support widgets.\n",
       "</p>\n"
      ],
      "text/plain": [
       "Label(value='Select upstream target mass thickness.')"
      ]
     },
     "metadata": {},
     "output_type": "display_data"
    },
    {
     "data": {
      "application/vnd.jupyter.widget-view+json": {
       "model_id": "a0e6288f03444d2fbb376d115a8b8ab3",
       "version_major": 2,
       "version_minor": 0
      },
      "text/html": [
       "<p>Failed to display Jupyter Widget of type <code>ToggleButtons</code>.</p>\n",
       "<p>\n",
       "  If you're reading this message in the Jupyter Notebook or JupyterLab Notebook, it may mean\n",
       "  that the widgets JavaScript is still loading. If this message persists, it\n",
       "  likely means that the widgets JavaScript library is either not installed or\n",
       "  not enabled. See the <a href=\"https://ipywidgets.readthedocs.io/en/stable/user_install.html\">Jupyter\n",
       "  Widgets Documentation</a> for setup instructions.\n",
       "</p>\n",
       "<p>\n",
       "  If you're reading this message in another frontend (for example, a static\n",
       "  rendering on GitHub or <a href=\"https://nbviewer.jupyter.org/\">NBViewer</a>),\n",
       "  it may mean that your frontend doesn't currently support widgets.\n",
       "</p>\n"
      ],
      "text/plain": [
       "ToggleButtons(description='Thickness:', options=('20 g/cm²', '40 g/cm²', '60 g/cm²'), tooltips=['20 g/cm²', '40 g/cm²', '60 g/cm²'], value='20 g/cm²')"
      ]
     },
     "metadata": {},
     "output_type": "display_data"
    }
   ],
   "source": [
    "ftmi = find(target_material.value,target_mats_short)\n",
    "thicknesses = ['20 g/cm\\u00B2','40 g/cm\\u00B2','60 g/cm\\u00B2']\n",
    "def thickness_options(ftmi):\n",
    "    if ftmi == 2:\n",
    "        thicknesses = ['20 g/cm\\u00B2','60 g/cm\\u00B2']\n",
    "    else:\n",
    "        thicknesses = ['20 g/cm\\u00B2','40 g/cm\\u00B2','60 g/cm\\u00B2']\n",
    "    return thicknesses\n",
    "\n",
    "tt_label = widgets.Label(value=\"Select upstream target mass thickness.\")\n",
    "\n",
    "target_thickness = widgets.ToggleButtons(\n",
    "    options=thickness_options(ftmi),\n",
    "    description='Thickness:',\n",
    "    disabled=False,\n",
    "    button_style='', # 'success', 'info', 'warning', 'danger' or ''\n",
    "    tooltips=thickness_options(ftmi),\n",
    "#     icons=['check'] * 3\n",
    ")\n",
    "\n",
    "target_thickness.observe(on_click, 'value')\n",
    "display(tt_label, target_thickness)"
   ]
  },
  {
   "cell_type": "code",
   "execution_count": 6,
   "metadata": {},
   "outputs": [
    {
     "data": {
      "application/vnd.jupyter.widget-view+json": {
       "model_id": "cc67756b7cd04556b924582d2311468f",
       "version_major": 2,
       "version_minor": 0
      },
      "text/html": [
       "<p>Failed to display Jupyter Widget of type <code>Label</code>.</p>\n",
       "<p>\n",
       "  If you're reading this message in the Jupyter Notebook or JupyterLab Notebook, it may mean\n",
       "  that the widgets JavaScript is still loading. If this message persists, it\n",
       "  likely means that the widgets JavaScript library is either not installed or\n",
       "  not enabled. See the <a href=\"https://ipywidgets.readthedocs.io/en/stable/user_install.html\">Jupyter\n",
       "  Widgets Documentation</a> for setup instructions.\n",
       "</p>\n",
       "<p>\n",
       "  If you're reading this message in another frontend (for example, a static\n",
       "  rendering on GitHub or <a href=\"https://nbviewer.jupyter.org/\">NBViewer</a>),\n",
       "  it may mean that your frontend doesn't currently support widgets.\n",
       "</p>\n"
      ],
      "text/plain": [
       "Label(value='Select a detector type.')"
      ]
     },
     "metadata": {},
     "output_type": "display_data"
    },
    {
     "data": {
      "application/vnd.jupyter.widget-view+json": {
       "model_id": "115f3a4e352447faa5154cdf48b151f0",
       "version_major": 2,
       "version_minor": 0
      },
      "text/html": [
       "<p>Failed to display Jupyter Widget of type <code>ToggleButtons</code>.</p>\n",
       "<p>\n",
       "  If you're reading this message in the Jupyter Notebook or JupyterLab Notebook, it may mean\n",
       "  that the widgets JavaScript is still loading. If this message persists, it\n",
       "  likely means that the widgets JavaScript library is either not installed or\n",
       "  not enabled. See the <a href=\"https://ipywidgets.readthedocs.io/en/stable/user_install.html\">Jupyter\n",
       "  Widgets Documentation</a> for setup instructions.\n",
       "</p>\n",
       "<p>\n",
       "  If you're reading this message in another frontend (for example, a static\n",
       "  rendering on GitHub or <a href=\"https://nbviewer.jupyter.org/\">NBViewer</a>),\n",
       "  it may mean that your frontend doesn't currently support widgets.\n",
       "</p>\n"
      ],
      "text/plain": [
       "ToggleButtons(description='Type:', options=('OLS', 'NaI'), tooltips=['Organic Liquid Scintillator', 'Sodium Iodide'], value='OLS')"
      ]
     },
     "metadata": {},
     "output_type": "display_data"
    }
   ],
   "source": [
    "ftti = find(target_thickness.value,thicknesses)\n",
    "\n",
    "detectors_short = ['OLS','NaI']\n",
    "detectors_long = ['Organic Liquid Scintillator','Sodium Iodide']\n",
    "\n",
    "dt_label = widgets.Label(value=\"Select a detector type.\")\n",
    "\n",
    "detector_type = widgets.ToggleButtons(\n",
    "    options=detectors_short,\n",
    "    description='Type:',\n",
    "    disabled=False,\n",
    "    button_style='', # 'success', 'info', 'warning', 'danger' or ''\n",
    "    tooltips=detectors_long,\n",
    "#     icons=['check'] * 3\n",
    ")\n",
    "\n",
    "detector_type.observe(on_click, 'value')\n",
    "display(dt_label,detector_type)"
   ]
  },
  {
   "cell_type": "code",
   "execution_count": 7,
   "metadata": {},
   "outputs": [
    {
     "data": {
      "application/vnd.jupyter.widget-view+json": {
       "model_id": "d69c272590854527a593a671b668465d",
       "version_major": 2,
       "version_minor": 0
      },
      "text/html": [
       "<p>Failed to display Jupyter Widget of type <code>Label</code>.</p>\n",
       "<p>\n",
       "  If you're reading this message in the Jupyter Notebook or JupyterLab Notebook, it may mean\n",
       "  that the widgets JavaScript is still loading. If this message persists, it\n",
       "  likely means that the widgets JavaScript library is either not installed or\n",
       "  not enabled. See the <a href=\"https://ipywidgets.readthedocs.io/en/stable/user_install.html\">Jupyter\n",
       "  Widgets Documentation</a> for setup instructions.\n",
       "</p>\n",
       "<p>\n",
       "  If you're reading this message in another frontend (for example, a static\n",
       "  rendering on GitHub or <a href=\"https://nbviewer.jupyter.org/\">NBViewer</a>),\n",
       "  it may mean that your frontend doesn't currently support widgets.\n",
       "</p>\n"
      ],
      "text/plain": [
       "Label(value='Select which secondary particle to plot spectra for.')"
      ]
     },
     "metadata": {},
     "output_type": "display_data"
    },
    {
     "data": {
      "application/vnd.jupyter.widget-view+json": {
       "model_id": "4d5be00d49434dbf96d0b22b55cddc09",
       "version_major": 2,
       "version_minor": 0
      },
      "text/html": [
       "<p>Failed to display Jupyter Widget of type <code>ToggleButtons</code>.</p>\n",
       "<p>\n",
       "  If you're reading this message in the Jupyter Notebook or JupyterLab Notebook, it may mean\n",
       "  that the widgets JavaScript is still loading. If this message persists, it\n",
       "  likely means that the widgets JavaScript library is either not installed or\n",
       "  not enabled. See the <a href=\"https://ipywidgets.readthedocs.io/en/stable/user_install.html\">Jupyter\n",
       "  Widgets Documentation</a> for setup instructions.\n",
       "</p>\n",
       "<p>\n",
       "  If you're reading this message in another frontend (for example, a static\n",
       "  rendering on GitHub or <a href=\"https://nbviewer.jupyter.org/\">NBViewer</a>),\n",
       "  it may mean that your frontend doesn't currently support widgets.\n",
       "</p>\n"
      ],
      "text/plain": [
       "ToggleButtons(description='Type:', options=('N', 'NDC', 'P (¹H)', 'D (²H)'), tooltips=['Neutron', 'Back Target Neutron', 'Proton', 'Deuteron'], value='N')"
      ]
     },
     "metadata": {},
     "output_type": "display_data"
    }
   ],
   "source": [
    "detti = find(detector_type.value,detectors_short)\n",
    "if detti==1: \n",
    "    add2deti = 6 # offset in matrix for NaI detectors\n",
    "else:\n",
    "    add2deti = 0 \n",
    "\n",
    "# See which secondary particles exist\n",
    "existing_pars_i = []\n",
    "for i in range(np.shape(mm_exists[0,isi,iei,ftmi,ftti,:,add2deti:(add2deti+6)])[0]):\n",
    "    if np.any(mm_exists[0,isi,iei,ftmi,ftti,i,add2deti:(add2deti+6)]):\n",
    "        existing_pars_i.append(i)\n",
    "        \n",
    "particles_long = ['Neutron','Back Target Neutron','Proton','Deuteron','Triton','Helium-3','Helium-4'] # second 'Neutron' can be renamed to specify deconvoluted origin\n",
    "particles_short = ['N','NDC','H','D','T','S','A']\n",
    "particles_med = ['N','NDC','P (\\u00B9H)','D (\\u00B2H)','T (\\u00B3H)','S (\\u00B3He)','A (\\u2074He)']\n",
    "\n",
    "present_pars_long = [particles_long[i] for i in existing_pars_i]\n",
    "present_pars_med = [particles_med[i] for i in existing_pars_i]\n",
    "\n",
    "sp_label = widgets.Label(value=\"Select which secondary particle to plot spectra for.\")\n",
    "\n",
    "secondary_particle = widgets.ToggleButtons(\n",
    "    options=present_pars_med,\n",
    "    description='Type:',\n",
    "    disabled=False,\n",
    "    button_style='', # 'success', 'info', 'warning', 'danger' or ''\n",
    "    tooltips=present_pars_long,\n",
    "#     icons=['check'] * 3\n",
    ")\n",
    "\n",
    "secondary_particle.observe(on_click, 'value')\n",
    "display(sp_label,secondary_particle)\n"
   ]
  },
  {
   "cell_type": "code",
   "execution_count": 8,
   "metadata": {},
   "outputs": [
    {
     "data": {
      "application/vnd.jupyter.widget-view+json": {
       "model_id": "d80d8ef3448d451da16b14c863c0b58c",
       "version_major": 2,
       "version_minor": 0
      },
      "text/html": [
       "<p>Failed to display Jupyter Widget of type <code>Label</code>.</p>\n",
       "<p>\n",
       "  If you're reading this message in the Jupyter Notebook or JupyterLab Notebook, it may mean\n",
       "  that the widgets JavaScript is still loading. If this message persists, it\n",
       "  likely means that the widgets JavaScript library is either not installed or\n",
       "  not enabled. See the <a href=\"https://ipywidgets.readthedocs.io/en/stable/user_install.html\">Jupyter\n",
       "  Widgets Documentation</a> for setup instructions.\n",
       "</p>\n",
       "<p>\n",
       "  If you're reading this message in another frontend (for example, a static\n",
       "  rendering on GitHub or <a href=\"https://nbviewer.jupyter.org/\">NBViewer</a>),\n",
       "  it may mean that your frontend doesn't currently support widgets.\n",
       "</p>\n"
      ],
      "text/plain": [
       "Label(value='Select the detector angles to plot.')"
      ]
     },
     "metadata": {},
     "output_type": "display_data"
    },
    {
     "data": {
      "application/vnd.jupyter.widget-view+json": {
       "model_id": "36d81c893dea4519bc0db07600b5b23f",
       "version_major": 2,
       "version_minor": 0
      },
      "text/html": [
       "<p>Failed to display Jupyter Widget of type <code>Checkbox</code>.</p>\n",
       "<p>\n",
       "  If you're reading this message in the Jupyter Notebook or JupyterLab Notebook, it may mean\n",
       "  that the widgets JavaScript is still loading. If this message persists, it\n",
       "  likely means that the widgets JavaScript library is either not installed or\n",
       "  not enabled. See the <a href=\"https://ipywidgets.readthedocs.io/en/stable/user_install.html\">Jupyter\n",
       "  Widgets Documentation</a> for setup instructions.\n",
       "</p>\n",
       "<p>\n",
       "  If you're reading this message in another frontend (for example, a static\n",
       "  rendering on GitHub or <a href=\"https://nbviewer.jupyter.org/\">NBViewer</a>),\n",
       "  it may mean that your frontend doesn't currently support widgets.\n",
       "</p>\n"
      ],
      "text/plain": [
       "Checkbox(value=True, description='10°')"
      ]
     },
     "metadata": {},
     "output_type": "display_data"
    },
    {
     "data": {
      "application/vnd.jupyter.widget-view+json": {
       "model_id": "0d8f1f2a62a641ab95f656dd7e04f14c",
       "version_major": 2,
       "version_minor": 0
      },
      "text/html": [
       "<p>Failed to display Jupyter Widget of type <code>Checkbox</code>.</p>\n",
       "<p>\n",
       "  If you're reading this message in the Jupyter Notebook or JupyterLab Notebook, it may mean\n",
       "  that the widgets JavaScript is still loading. If this message persists, it\n",
       "  likely means that the widgets JavaScript library is either not installed or\n",
       "  not enabled. See the <a href=\"https://ipywidgets.readthedocs.io/en/stable/user_install.html\">Jupyter\n",
       "  Widgets Documentation</a> for setup instructions.\n",
       "</p>\n",
       "<p>\n",
       "  If you're reading this message in another frontend (for example, a static\n",
       "  rendering on GitHub or <a href=\"https://nbviewer.jupyter.org/\">NBViewer</a>),\n",
       "  it may mean that your frontend doesn't currently support widgets.\n",
       "</p>\n"
      ],
      "text/plain": [
       "Checkbox(value=True, description='30°')"
      ]
     },
     "metadata": {},
     "output_type": "display_data"
    },
    {
     "data": {
      "application/vnd.jupyter.widget-view+json": {
       "model_id": "45d46919df3e4301a5b8a02e6b333208",
       "version_major": 2,
       "version_minor": 0
      },
      "text/html": [
       "<p>Failed to display Jupyter Widget of type <code>Checkbox</code>.</p>\n",
       "<p>\n",
       "  If you're reading this message in the Jupyter Notebook or JupyterLab Notebook, it may mean\n",
       "  that the widgets JavaScript is still loading. If this message persists, it\n",
       "  likely means that the widgets JavaScript library is either not installed or\n",
       "  not enabled. See the <a href=\"https://ipywidgets.readthedocs.io/en/stable/user_install.html\">Jupyter\n",
       "  Widgets Documentation</a> for setup instructions.\n",
       "</p>\n",
       "<p>\n",
       "  If you're reading this message in another frontend (for example, a static\n",
       "  rendering on GitHub or <a href=\"https://nbviewer.jupyter.org/\">NBViewer</a>),\n",
       "  it may mean that your frontend doesn't currently support widgets.\n",
       "</p>\n"
      ],
      "text/plain": [
       "Checkbox(value=True, description='45°')"
      ]
     },
     "metadata": {},
     "output_type": "display_data"
    },
    {
     "data": {
      "application/vnd.jupyter.widget-view+json": {
       "model_id": "605e078576f3484cb05ca9ac01c384b0",
       "version_major": 2,
       "version_minor": 0
      },
      "text/html": [
       "<p>Failed to display Jupyter Widget of type <code>Checkbox</code>.</p>\n",
       "<p>\n",
       "  If you're reading this message in the Jupyter Notebook or JupyterLab Notebook, it may mean\n",
       "  that the widgets JavaScript is still loading. If this message persists, it\n",
       "  likely means that the widgets JavaScript library is either not installed or\n",
       "  not enabled. See the <a href=\"https://ipywidgets.readthedocs.io/en/stable/user_install.html\">Jupyter\n",
       "  Widgets Documentation</a> for setup instructions.\n",
       "</p>\n",
       "<p>\n",
       "  If you're reading this message in another frontend (for example, a static\n",
       "  rendering on GitHub or <a href=\"https://nbviewer.jupyter.org/\">NBViewer</a>),\n",
       "  it may mean that your frontend doesn't currently support widgets.\n",
       "</p>\n"
      ],
      "text/plain": [
       "Checkbox(value=True, description='60°')"
      ]
     },
     "metadata": {},
     "output_type": "display_data"
    },
    {
     "data": {
      "application/vnd.jupyter.widget-view+json": {
       "model_id": "d9ede0e454d34a12b8b923174fffe2ab",
       "version_major": 2,
       "version_minor": 0
      },
      "text/html": [
       "<p>Failed to display Jupyter Widget of type <code>Checkbox</code>.</p>\n",
       "<p>\n",
       "  If you're reading this message in the Jupyter Notebook or JupyterLab Notebook, it may mean\n",
       "  that the widgets JavaScript is still loading. If this message persists, it\n",
       "  likely means that the widgets JavaScript library is either not installed or\n",
       "  not enabled. See the <a href=\"https://ipywidgets.readthedocs.io/en/stable/user_install.html\">Jupyter\n",
       "  Widgets Documentation</a> for setup instructions.\n",
       "</p>\n",
       "<p>\n",
       "  If you're reading this message in another frontend (for example, a static\n",
       "  rendering on GitHub or <a href=\"https://nbviewer.jupyter.org/\">NBViewer</a>),\n",
       "  it may mean that your frontend doesn't currently support widgets.\n",
       "</p>\n"
      ],
      "text/plain": [
       "Checkbox(value=True, description='80°')"
      ]
     },
     "metadata": {},
     "output_type": "display_data"
    },
    {
     "data": {
      "application/vnd.jupyter.widget-view+json": {
       "model_id": "32a20d459ca24dc3b8c0e00caa62d629",
       "version_major": 2,
       "version_minor": 0
      },
      "text/html": [
       "<p>Failed to display Jupyter Widget of type <code>Checkbox</code>.</p>\n",
       "<p>\n",
       "  If you're reading this message in the Jupyter Notebook or JupyterLab Notebook, it may mean\n",
       "  that the widgets JavaScript is still loading. If this message persists, it\n",
       "  likely means that the widgets JavaScript library is either not installed or\n",
       "  not enabled. See the <a href=\"https://ipywidgets.readthedocs.io/en/stable/user_install.html\">Jupyter\n",
       "  Widgets Documentation</a> for setup instructions.\n",
       "</p>\n",
       "<p>\n",
       "  If you're reading this message in another frontend (for example, a static\n",
       "  rendering on GitHub or <a href=\"https://nbviewer.jupyter.org/\">NBViewer</a>),\n",
       "  it may mean that your frontend doesn't currently support widgets.\n",
       "</p>\n"
      ],
      "text/plain": [
       "Checkbox(value=True, description='135°')"
      ]
     },
     "metadata": {},
     "output_type": "display_data"
    }
   ],
   "source": [
    "spi = find(secondary_particle.value,particles_med)\n",
    "\n",
    "detectors_angles = [['10\\u00B0','30\\u00B0','45\\u00B0','60\\u00B0','80\\u00B0','135\\u00B0'], ['7.2\\u00B0','10\\u00B0','12.7\\u00B0','28.2\\u00B0','30\\u00B0','32.7\\u00B0']]\n",
    "available_det_angles = []\n",
    "\n",
    "da_label = widgets.Label(value=\"Select the detector angles to plot.\")\n",
    "\n",
    "dets = []\n",
    "for i in range(6):\n",
    "    if mm_exists[0,isi,iei,ftmi,ftti,spi,(add2deti+i)]:\n",
    "        available_det_angles.append(detectors_angles[detti][i])\n",
    "        dets.append(widgets.Checkbox(\n",
    "            value=True,\n",
    "            description=detectors_angles[detti][i],\n",
    "            disabled=False\n",
    "        ))\n",
    "\n",
    "display(da_label)\n",
    "for i in range(6):\n",
    "    if mm_exists[0,isi,iei,ftmi,ftti,spi,(add2deti+i)]:\n",
    "        display(dets[i])"
   ]
  },
  {
   "cell_type": "code",
   "execution_count": 9,
   "metadata": {},
   "outputs": [
    {
     "data": {
      "application/vnd.jupyter.widget-view+json": {
       "model_id": "f55943a94f5344469332052bf0094a8c",
       "version_major": 2,
       "version_minor": 0
      },
      "text/html": [
       "<p>Failed to display Jupyter Widget of type <code>Label</code>.</p>\n",
       "<p>\n",
       "  If you're reading this message in the Jupyter Notebook or JupyterLab Notebook, it may mean\n",
       "  that the widgets JavaScript is still loading. If this message persists, it\n",
       "  likely means that the widgets JavaScript library is either not installed or\n",
       "  not enabled. See the <a href=\"https://ipywidgets.readthedocs.io/en/stable/user_install.html\">Jupyter\n",
       "  Widgets Documentation</a> for setup instructions.\n",
       "</p>\n",
       "<p>\n",
       "  If you're reading this message in another frontend (for example, a static\n",
       "  rendering on GitHub or <a href=\"https://nbviewer.jupyter.org/\">NBViewer</a>),\n",
       "  it may mean that your frontend doesn't currently support widgets.\n",
       "</p>\n"
      ],
      "text/plain": [
       "Label(value='Select which sets of data to display.')"
      ]
     },
     "metadata": {},
     "output_type": "display_data"
    },
    {
     "data": {
      "application/vnd.jupyter.widget-view+json": {
       "model_id": "a61af90c1f3c465cb635bdeb20df65a2",
       "version_major": 2,
       "version_minor": 0
      },
      "text/html": [
       "<p>Failed to display Jupyter Widget of type <code>Checkbox</code>.</p>\n",
       "<p>\n",
       "  If you're reading this message in the Jupyter Notebook or JupyterLab Notebook, it may mean\n",
       "  that the widgets JavaScript is still loading. If this message persists, it\n",
       "  likely means that the widgets JavaScript library is either not installed or\n",
       "  not enabled. See the <a href=\"https://ipywidgets.readthedocs.io/en/stable/user_install.html\">Jupyter\n",
       "  Widgets Documentation</a> for setup instructions.\n",
       "</p>\n",
       "<p>\n",
       "  If you're reading this message in another frontend (for example, a static\n",
       "  rendering on GitHub or <a href=\"https://nbviewer.jupyter.org/\">NBViewer</a>),\n",
       "  it may mean that your frontend doesn't currently support widgets.\n",
       "</p>\n"
      ],
      "text/plain": [
       "Checkbox(value=True, description='Experiment')"
      ]
     },
     "metadata": {},
     "output_type": "display_data"
    },
    {
     "data": {
      "application/vnd.jupyter.widget-view+json": {
       "model_id": "fc71a774baae4276bf3e6383c6a84f70",
       "version_major": 2,
       "version_minor": 0
      },
      "text/html": [
       "<p>Failed to display Jupyter Widget of type <code>Checkbox</code>.</p>\n",
       "<p>\n",
       "  If you're reading this message in the Jupyter Notebook or JupyterLab Notebook, it may mean\n",
       "  that the widgets JavaScript is still loading. If this message persists, it\n",
       "  likely means that the widgets JavaScript library is either not installed or\n",
       "  not enabled. See the <a href=\"https://ipywidgets.readthedocs.io/en/stable/user_install.html\">Jupyter\n",
       "  Widgets Documentation</a> for setup instructions.\n",
       "</p>\n",
       "<p>\n",
       "  If you're reading this message in another frontend (for example, a static\n",
       "  rendering on GitHub or <a href=\"https://nbviewer.jupyter.org/\">NBViewer</a>),\n",
       "  it may mean that your frontend doesn't currently support widgets.\n",
       "</p>\n"
      ],
      "text/plain": [
       "Checkbox(value=True, description='MCNP simulated')"
      ]
     },
     "metadata": {},
     "output_type": "display_data"
    },
    {
     "data": {
      "application/vnd.jupyter.widget-view+json": {
       "model_id": "2b63a0ba120548febd718bcd1a9d1b73",
       "version_major": 2,
       "version_minor": 0
      },
      "text/html": [
       "<p>Failed to display Jupyter Widget of type <code>Checkbox</code>.</p>\n",
       "<p>\n",
       "  If you're reading this message in the Jupyter Notebook or JupyterLab Notebook, it may mean\n",
       "  that the widgets JavaScript is still loading. If this message persists, it\n",
       "  likely means that the widgets JavaScript library is either not installed or\n",
       "  not enabled. See the <a href=\"https://ipywidgets.readthedocs.io/en/stable/user_install.html\">Jupyter\n",
       "  Widgets Documentation</a> for setup instructions.\n",
       "</p>\n",
       "<p>\n",
       "  If you're reading this message in another frontend (for example, a static\n",
       "  rendering on GitHub or <a href=\"https://nbviewer.jupyter.org/\">NBViewer</a>),\n",
       "  it may mean that your frontend doesn't currently support widgets.\n",
       "</p>\n"
      ],
      "text/plain": [
       "Checkbox(value=True, description='PHITS simulated')"
      ]
     },
     "metadata": {},
     "output_type": "display_data"
    }
   ],
   "source": [
    "det_angle_i_list = []\n",
    "for i in range(len(available_det_angles)):\n",
    "    if dets[i].value:\n",
    "        if detti == 0:\n",
    "            det_angle_i_list.append(find(available_det_angles[i],detectors_angles[detti]))\n",
    "        else:\n",
    "            det_angle_i_list.append(find(available_det_angles[i],detectors_angles[detti])+6) # for NaI\n",
    "\n",
    "ds_label = widgets.Label(value='Select which sets of data to display.')            \n",
    "\n",
    "data_set_names = ['Experiment','MCNP simulated','PHITS simulated']\n",
    "data_sets = []\n",
    "for i in range(3):\n",
    "    data_sets.append(widgets.Checkbox(\n",
    "        value=True,\n",
    "        description=data_set_names[i],\n",
    "        disabled=False\n",
    "    ))\n",
    "\n",
    "display(ds_label)\n",
    "for i in range(3):\n",
    "    display(data_sets[i])\n",
    "\n"
   ]
  },
  {
   "cell_type": "code",
   "execution_count": 10,
   "metadata": {},
   "outputs": [
    {
     "data": {
      "application/vnd.jupyter.widget-view+json": {
       "model_id": "66fb37528c9443cd8dc7d282167b4ea7",
       "version_major": 2,
       "version_minor": 0
      },
      "text/html": [
       "<p>Failed to display Jupyter Widget of type <code>Label</code>.</p>\n",
       "<p>\n",
       "  If you're reading this message in the Jupyter Notebook or JupyterLab Notebook, it may mean\n",
       "  that the widgets JavaScript is still loading. If this message persists, it\n",
       "  likely means that the widgets JavaScript library is either not installed or\n",
       "  not enabled. See the <a href=\"https://ipywidgets.readthedocs.io/en/stable/user_install.html\">Jupyter\n",
       "  Widgets Documentation</a> for setup instructions.\n",
       "</p>\n",
       "<p>\n",
       "  If you're reading this message in another frontend (for example, a static\n",
       "  rendering on GitHub or <a href=\"https://nbviewer.jupyter.org/\">NBViewer</a>),\n",
       "  it may mean that your frontend doesn't currently support widgets.\n",
       "</p>\n"
      ],
      "text/plain": [
       "Label(value='Select how data sets for each detector should be spaced apart (if at all).')"
      ]
     },
     "metadata": {},
     "output_type": "display_data"
    },
    {
     "data": {
      "application/vnd.jupyter.widget-view+json": {
       "model_id": "76b2c6f2e00e4c04829bd8afb73c80bc",
       "version_major": 2,
       "version_minor": 0
      },
      "text/html": [
       "<p>Failed to display Jupyter Widget of type <code>ToggleButtons</code>.</p>\n",
       "<p>\n",
       "  If you're reading this message in the Jupyter Notebook or JupyterLab Notebook, it may mean\n",
       "  that the widgets JavaScript is still loading. If this message persists, it\n",
       "  likely means that the widgets JavaScript library is either not installed or\n",
       "  not enabled. See the <a href=\"https://ipywidgets.readthedocs.io/en/stable/user_install.html\">Jupyter\n",
       "  Widgets Documentation</a> for setup instructions.\n",
       "</p>\n",
       "<p>\n",
       "  If you're reading this message in another frontend (for example, a static\n",
       "  rendering on GitHub or <a href=\"https://nbviewer.jupyter.org/\">NBViewer</a>),\n",
       "  it may mean that your frontend doesn't currently support widgets.\n",
       "</p>\n"
      ],
      "text/plain": [
       "ToggleButtons(description='Spacing:', options=('None', 'Spaced by 10²'), tooltips=['All values are presented as is.', 'Plots for different detectors are multiplied by powers of 10² for easier viewing.'], value='None')"
      ]
     },
     "metadata": {},
     "output_type": "display_data"
    },
    {
     "data": {
      "application/javascript": [
       "IPython.notebook.execute_cell_range(IPython.notebook.get_selected_index()+1, IPython.notebook.ncells())"
      ],
      "text/plain": [
       "<IPython.core.display.Javascript object>"
      ]
     },
     "metadata": {},
     "output_type": "display_data"
    }
   ],
   "source": [
    "data_set_i_list = []\n",
    "for i in range(3):\n",
    "    if data_sets[i].value:\n",
    "        data_set_i_list.append(i)\n",
    "\n",
    "spacing_short = ['None','Spaced by 10\\u00B2']\n",
    "spacing_long = ['All values are presented as is.','Plots for different detectors are multiplied by powers of 10\\u00B2 for easier viewing.']\n",
    "\n",
    "spacing_label = widgets.Label(value='Select how data sets for each detector should be spaced apart (if at all).')  \n",
    "\n",
    "spacing_choice = widgets.ToggleButtons(\n",
    "    options=spacing_short,\n",
    "    description='Spacing:',\n",
    "    disabled=False,\n",
    "    button_style='', # 'success', 'info', 'warning', 'danger' or ''\n",
    "    tooltips=spacing_long,\n",
    "#     icons=['check'] * 3\n",
    ")\n",
    "\n",
    "spacing_choice.observe(on_click, 'value')\n",
    "display(spacing_label, spacing_choice)"
   ]
  },
  {
   "cell_type": "code",
   "execution_count": 14,
   "metadata": {},
   "outputs": [
    {
     "data": {
      "application/javascript": [
       "/* Put everything inside the global mpl namespace */\n",
       "window.mpl = {};\n",
       "\n",
       "\n",
       "mpl.get_websocket_type = function() {\n",
       "    if (typeof(WebSocket) !== 'undefined') {\n",
       "        return WebSocket;\n",
       "    } else if (typeof(MozWebSocket) !== 'undefined') {\n",
       "        return MozWebSocket;\n",
       "    } else {\n",
       "        alert('Your browser does not have WebSocket support.' +\n",
       "              'Please try Chrome, Safari or Firefox ≥ 6. ' +\n",
       "              'Firefox 4 and 5 are also supported but you ' +\n",
       "              'have to enable WebSockets in about:config.');\n",
       "    };\n",
       "}\n",
       "\n",
       "mpl.figure = function(figure_id, websocket, ondownload, parent_element) {\n",
       "    this.id = figure_id;\n",
       "\n",
       "    this.ws = websocket;\n",
       "\n",
       "    this.supports_binary = (this.ws.binaryType != undefined);\n",
       "\n",
       "    if (!this.supports_binary) {\n",
       "        var warnings = document.getElementById(\"mpl-warnings\");\n",
       "        if (warnings) {\n",
       "            warnings.style.display = 'block';\n",
       "            warnings.textContent = (\n",
       "                \"This browser does not support binary websocket messages. \" +\n",
       "                    \"Performance may be slow.\");\n",
       "        }\n",
       "    }\n",
       "\n",
       "    this.imageObj = new Image();\n",
       "\n",
       "    this.context = undefined;\n",
       "    this.message = undefined;\n",
       "    this.canvas = undefined;\n",
       "    this.rubberband_canvas = undefined;\n",
       "    this.rubberband_context = undefined;\n",
       "    this.format_dropdown = undefined;\n",
       "\n",
       "    this.image_mode = 'full';\n",
       "\n",
       "    this.root = $('<div/>');\n",
       "    this._root_extra_style(this.root)\n",
       "    this.root.attr('style', 'display: inline-block');\n",
       "\n",
       "    $(parent_element).append(this.root);\n",
       "\n",
       "    this._init_header(this);\n",
       "    this._init_canvas(this);\n",
       "    this._init_toolbar(this);\n",
       "\n",
       "    var fig = this;\n",
       "\n",
       "    this.waiting = false;\n",
       "\n",
       "    this.ws.onopen =  function () {\n",
       "            fig.send_message(\"supports_binary\", {value: fig.supports_binary});\n",
       "            fig.send_message(\"send_image_mode\", {});\n",
       "            if (mpl.ratio != 1) {\n",
       "                fig.send_message(\"set_dpi_ratio\", {'dpi_ratio': mpl.ratio});\n",
       "            }\n",
       "            fig.send_message(\"refresh\", {});\n",
       "        }\n",
       "\n",
       "    this.imageObj.onload = function() {\n",
       "            if (fig.image_mode == 'full') {\n",
       "                // Full images could contain transparency (where diff images\n",
       "                // almost always do), so we need to clear the canvas so that\n",
       "                // there is no ghosting.\n",
       "                fig.context.clearRect(0, 0, fig.canvas.width, fig.canvas.height);\n",
       "            }\n",
       "            fig.context.drawImage(fig.imageObj, 0, 0);\n",
       "        };\n",
       "\n",
       "    this.imageObj.onunload = function() {\n",
       "        fig.ws.close();\n",
       "    }\n",
       "\n",
       "    this.ws.onmessage = this._make_on_message_function(this);\n",
       "\n",
       "    this.ondownload = ondownload;\n",
       "}\n",
       "\n",
       "mpl.figure.prototype._init_header = function() {\n",
       "    var titlebar = $(\n",
       "        '<div class=\"ui-dialog-titlebar ui-widget-header ui-corner-all ' +\n",
       "        'ui-helper-clearfix\"/>');\n",
       "    var titletext = $(\n",
       "        '<div class=\"ui-dialog-title\" style=\"width: 100%; ' +\n",
       "        'text-align: center; padding: 3px;\"/>');\n",
       "    titlebar.append(titletext)\n",
       "    this.root.append(titlebar);\n",
       "    this.header = titletext[0];\n",
       "}\n",
       "\n",
       "\n",
       "\n",
       "mpl.figure.prototype._canvas_extra_style = function(canvas_div) {\n",
       "\n",
       "}\n",
       "\n",
       "\n",
       "mpl.figure.prototype._root_extra_style = function(canvas_div) {\n",
       "\n",
       "}\n",
       "\n",
       "mpl.figure.prototype._init_canvas = function() {\n",
       "    var fig = this;\n",
       "\n",
       "    var canvas_div = $('<div/>');\n",
       "\n",
       "    canvas_div.attr('style', 'position: relative; clear: both; outline: 0');\n",
       "\n",
       "    function canvas_keyboard_event(event) {\n",
       "        return fig.key_event(event, event['data']);\n",
       "    }\n",
       "\n",
       "    canvas_div.keydown('key_press', canvas_keyboard_event);\n",
       "    canvas_div.keyup('key_release', canvas_keyboard_event);\n",
       "    this.canvas_div = canvas_div\n",
       "    this._canvas_extra_style(canvas_div)\n",
       "    this.root.append(canvas_div);\n",
       "\n",
       "    var canvas = $('<canvas/>');\n",
       "    canvas.addClass('mpl-canvas');\n",
       "    canvas.attr('style', \"left: 0; top: 0; z-index: 0; outline: 0\")\n",
       "\n",
       "    this.canvas = canvas[0];\n",
       "    this.context = canvas[0].getContext(\"2d\");\n",
       "\n",
       "    var backingStore = this.context.backingStorePixelRatio ||\n",
       "\tthis.context.webkitBackingStorePixelRatio ||\n",
       "\tthis.context.mozBackingStorePixelRatio ||\n",
       "\tthis.context.msBackingStorePixelRatio ||\n",
       "\tthis.context.oBackingStorePixelRatio ||\n",
       "\tthis.context.backingStorePixelRatio || 1;\n",
       "\n",
       "    mpl.ratio = (window.devicePixelRatio || 1) / backingStore;\n",
       "\n",
       "    var rubberband = $('<canvas/>');\n",
       "    rubberband.attr('style', \"position: absolute; left: 0; top: 0; z-index: 1;\")\n",
       "\n",
       "    var pass_mouse_events = true;\n",
       "\n",
       "    canvas_div.resizable({\n",
       "        start: function(event, ui) {\n",
       "            pass_mouse_events = false;\n",
       "        },\n",
       "        resize: function(event, ui) {\n",
       "            fig.request_resize(ui.size.width, ui.size.height);\n",
       "        },\n",
       "        stop: function(event, ui) {\n",
       "            pass_mouse_events = true;\n",
       "            fig.request_resize(ui.size.width, ui.size.height);\n",
       "        },\n",
       "    });\n",
       "\n",
       "    function mouse_event_fn(event) {\n",
       "        if (pass_mouse_events)\n",
       "            return fig.mouse_event(event, event['data']);\n",
       "    }\n",
       "\n",
       "    rubberband.mousedown('button_press', mouse_event_fn);\n",
       "    rubberband.mouseup('button_release', mouse_event_fn);\n",
       "    // Throttle sequential mouse events to 1 every 20ms.\n",
       "    rubberband.mousemove('motion_notify', mouse_event_fn);\n",
       "\n",
       "    rubberband.mouseenter('figure_enter', mouse_event_fn);\n",
       "    rubberband.mouseleave('figure_leave', mouse_event_fn);\n",
       "\n",
       "    canvas_div.on(\"wheel\", function (event) {\n",
       "        event = event.originalEvent;\n",
       "        event['data'] = 'scroll'\n",
       "        if (event.deltaY < 0) {\n",
       "            event.step = 1;\n",
       "        } else {\n",
       "            event.step = -1;\n",
       "        }\n",
       "        mouse_event_fn(event);\n",
       "    });\n",
       "\n",
       "    canvas_div.append(canvas);\n",
       "    canvas_div.append(rubberband);\n",
       "\n",
       "    this.rubberband = rubberband;\n",
       "    this.rubberband_canvas = rubberband[0];\n",
       "    this.rubberband_context = rubberband[0].getContext(\"2d\");\n",
       "    this.rubberband_context.strokeStyle = \"#000000\";\n",
       "\n",
       "    this._resize_canvas = function(width, height) {\n",
       "        // Keep the size of the canvas, canvas container, and rubber band\n",
       "        // canvas in synch.\n",
       "        canvas_div.css('width', width)\n",
       "        canvas_div.css('height', height)\n",
       "\n",
       "        canvas.attr('width', width * mpl.ratio);\n",
       "        canvas.attr('height', height * mpl.ratio);\n",
       "        canvas.attr('style', 'width: ' + width + 'px; height: ' + height + 'px;');\n",
       "\n",
       "        rubberband.attr('width', width);\n",
       "        rubberband.attr('height', height);\n",
       "    }\n",
       "\n",
       "    // Set the figure to an initial 600x600px, this will subsequently be updated\n",
       "    // upon first draw.\n",
       "    this._resize_canvas(600, 600);\n",
       "\n",
       "    // Disable right mouse context menu.\n",
       "    $(this.rubberband_canvas).bind(\"contextmenu\",function(e){\n",
       "        return false;\n",
       "    });\n",
       "\n",
       "    function set_focus () {\n",
       "        canvas.focus();\n",
       "        canvas_div.focus();\n",
       "    }\n",
       "\n",
       "    window.setTimeout(set_focus, 100);\n",
       "}\n",
       "\n",
       "mpl.figure.prototype._init_toolbar = function() {\n",
       "    var fig = this;\n",
       "\n",
       "    var nav_element = $('<div/>')\n",
       "    nav_element.attr('style', 'width: 100%');\n",
       "    this.root.append(nav_element);\n",
       "\n",
       "    // Define a callback function for later on.\n",
       "    function toolbar_event(event) {\n",
       "        return fig.toolbar_button_onclick(event['data']);\n",
       "    }\n",
       "    function toolbar_mouse_event(event) {\n",
       "        return fig.toolbar_button_onmouseover(event['data']);\n",
       "    }\n",
       "\n",
       "    for(var toolbar_ind in mpl.toolbar_items) {\n",
       "        var name = mpl.toolbar_items[toolbar_ind][0];\n",
       "        var tooltip = mpl.toolbar_items[toolbar_ind][1];\n",
       "        var image = mpl.toolbar_items[toolbar_ind][2];\n",
       "        var method_name = mpl.toolbar_items[toolbar_ind][3];\n",
       "\n",
       "        if (!name) {\n",
       "            // put a spacer in here.\n",
       "            continue;\n",
       "        }\n",
       "        var button = $('<button/>');\n",
       "        button.addClass('ui-button ui-widget ui-state-default ui-corner-all ' +\n",
       "                        'ui-button-icon-only');\n",
       "        button.attr('role', 'button');\n",
       "        button.attr('aria-disabled', 'false');\n",
       "        button.click(method_name, toolbar_event);\n",
       "        button.mouseover(tooltip, toolbar_mouse_event);\n",
       "\n",
       "        var icon_img = $('<span/>');\n",
       "        icon_img.addClass('ui-button-icon-primary ui-icon');\n",
       "        icon_img.addClass(image);\n",
       "        icon_img.addClass('ui-corner-all');\n",
       "\n",
       "        var tooltip_span = $('<span/>');\n",
       "        tooltip_span.addClass('ui-button-text');\n",
       "        tooltip_span.html(tooltip);\n",
       "\n",
       "        button.append(icon_img);\n",
       "        button.append(tooltip_span);\n",
       "\n",
       "        nav_element.append(button);\n",
       "    }\n",
       "\n",
       "    var fmt_picker_span = $('<span/>');\n",
       "\n",
       "    var fmt_picker = $('<select/>');\n",
       "    fmt_picker.addClass('mpl-toolbar-option ui-widget ui-widget-content');\n",
       "    fmt_picker_span.append(fmt_picker);\n",
       "    nav_element.append(fmt_picker_span);\n",
       "    this.format_dropdown = fmt_picker[0];\n",
       "\n",
       "    for (var ind in mpl.extensions) {\n",
       "        var fmt = mpl.extensions[ind];\n",
       "        var option = $(\n",
       "            '<option/>', {selected: fmt === mpl.default_extension}).html(fmt);\n",
       "        fmt_picker.append(option)\n",
       "    }\n",
       "\n",
       "    // Add hover states to the ui-buttons\n",
       "    $( \".ui-button\" ).hover(\n",
       "        function() { $(this).addClass(\"ui-state-hover\");},\n",
       "        function() { $(this).removeClass(\"ui-state-hover\");}\n",
       "    );\n",
       "\n",
       "    var status_bar = $('<span class=\"mpl-message\"/>');\n",
       "    nav_element.append(status_bar);\n",
       "    this.message = status_bar[0];\n",
       "}\n",
       "\n",
       "mpl.figure.prototype.request_resize = function(x_pixels, y_pixels) {\n",
       "    // Request matplotlib to resize the figure. Matplotlib will then trigger a resize in the client,\n",
       "    // which will in turn request a refresh of the image.\n",
       "    this.send_message('resize', {'width': x_pixels, 'height': y_pixels});\n",
       "}\n",
       "\n",
       "mpl.figure.prototype.send_message = function(type, properties) {\n",
       "    properties['type'] = type;\n",
       "    properties['figure_id'] = this.id;\n",
       "    this.ws.send(JSON.stringify(properties));\n",
       "}\n",
       "\n",
       "mpl.figure.prototype.send_draw_message = function() {\n",
       "    if (!this.waiting) {\n",
       "        this.waiting = true;\n",
       "        this.ws.send(JSON.stringify({type: \"draw\", figure_id: this.id}));\n",
       "    }\n",
       "}\n",
       "\n",
       "\n",
       "mpl.figure.prototype.handle_save = function(fig, msg) {\n",
       "    var format_dropdown = fig.format_dropdown;\n",
       "    var format = format_dropdown.options[format_dropdown.selectedIndex].value;\n",
       "    fig.ondownload(fig, format);\n",
       "}\n",
       "\n",
       "\n",
       "mpl.figure.prototype.handle_resize = function(fig, msg) {\n",
       "    var size = msg['size'];\n",
       "    if (size[0] != fig.canvas.width || size[1] != fig.canvas.height) {\n",
       "        fig._resize_canvas(size[0], size[1]);\n",
       "        fig.send_message(\"refresh\", {});\n",
       "    };\n",
       "}\n",
       "\n",
       "mpl.figure.prototype.handle_rubberband = function(fig, msg) {\n",
       "    var x0 = msg['x0'] / mpl.ratio;\n",
       "    var y0 = (fig.canvas.height - msg['y0']) / mpl.ratio;\n",
       "    var x1 = msg['x1'] / mpl.ratio;\n",
       "    var y1 = (fig.canvas.height - msg['y1']) / mpl.ratio;\n",
       "    x0 = Math.floor(x0) + 0.5;\n",
       "    y0 = Math.floor(y0) + 0.5;\n",
       "    x1 = Math.floor(x1) + 0.5;\n",
       "    y1 = Math.floor(y1) + 0.5;\n",
       "    var min_x = Math.min(x0, x1);\n",
       "    var min_y = Math.min(y0, y1);\n",
       "    var width = Math.abs(x1 - x0);\n",
       "    var height = Math.abs(y1 - y0);\n",
       "\n",
       "    fig.rubberband_context.clearRect(\n",
       "        0, 0, fig.canvas.width, fig.canvas.height);\n",
       "\n",
       "    fig.rubberband_context.strokeRect(min_x, min_y, width, height);\n",
       "}\n",
       "\n",
       "mpl.figure.prototype.handle_figure_label = function(fig, msg) {\n",
       "    // Updates the figure title.\n",
       "    fig.header.textContent = msg['label'];\n",
       "}\n",
       "\n",
       "mpl.figure.prototype.handle_cursor = function(fig, msg) {\n",
       "    var cursor = msg['cursor'];\n",
       "    switch(cursor)\n",
       "    {\n",
       "    case 0:\n",
       "        cursor = 'pointer';\n",
       "        break;\n",
       "    case 1:\n",
       "        cursor = 'default';\n",
       "        break;\n",
       "    case 2:\n",
       "        cursor = 'crosshair';\n",
       "        break;\n",
       "    case 3:\n",
       "        cursor = 'move';\n",
       "        break;\n",
       "    }\n",
       "    fig.rubberband_canvas.style.cursor = cursor;\n",
       "}\n",
       "\n",
       "mpl.figure.prototype.handle_message = function(fig, msg) {\n",
       "    fig.message.textContent = msg['message'];\n",
       "}\n",
       "\n",
       "mpl.figure.prototype.handle_draw = function(fig, msg) {\n",
       "    // Request the server to send over a new figure.\n",
       "    fig.send_draw_message();\n",
       "}\n",
       "\n",
       "mpl.figure.prototype.handle_image_mode = function(fig, msg) {\n",
       "    fig.image_mode = msg['mode'];\n",
       "}\n",
       "\n",
       "mpl.figure.prototype.updated_canvas_event = function() {\n",
       "    // Called whenever the canvas gets updated.\n",
       "    this.send_message(\"ack\", {});\n",
       "}\n",
       "\n",
       "// A function to construct a web socket function for onmessage handling.\n",
       "// Called in the figure constructor.\n",
       "mpl.figure.prototype._make_on_message_function = function(fig) {\n",
       "    return function socket_on_message(evt) {\n",
       "        if (evt.data instanceof Blob) {\n",
       "            /* FIXME: We get \"Resource interpreted as Image but\n",
       "             * transferred with MIME type text/plain:\" errors on\n",
       "             * Chrome.  But how to set the MIME type?  It doesn't seem\n",
       "             * to be part of the websocket stream */\n",
       "            evt.data.type = \"image/png\";\n",
       "\n",
       "            /* Free the memory for the previous frames */\n",
       "            if (fig.imageObj.src) {\n",
       "                (window.URL || window.webkitURL).revokeObjectURL(\n",
       "                    fig.imageObj.src);\n",
       "            }\n",
       "\n",
       "            fig.imageObj.src = (window.URL || window.webkitURL).createObjectURL(\n",
       "                evt.data);\n",
       "            fig.updated_canvas_event();\n",
       "            fig.waiting = false;\n",
       "            return;\n",
       "        }\n",
       "        else if (typeof evt.data === 'string' && evt.data.slice(0, 21) == \"data:image/png;base64\") {\n",
       "            fig.imageObj.src = evt.data;\n",
       "            fig.updated_canvas_event();\n",
       "            fig.waiting = false;\n",
       "            return;\n",
       "        }\n",
       "\n",
       "        var msg = JSON.parse(evt.data);\n",
       "        var msg_type = msg['type'];\n",
       "\n",
       "        // Call the  \"handle_{type}\" callback, which takes\n",
       "        // the figure and JSON message as its only arguments.\n",
       "        try {\n",
       "            var callback = fig[\"handle_\" + msg_type];\n",
       "        } catch (e) {\n",
       "            console.log(\"No handler for the '\" + msg_type + \"' message type: \", msg);\n",
       "            return;\n",
       "        }\n",
       "\n",
       "        if (callback) {\n",
       "            try {\n",
       "                // console.log(\"Handling '\" + msg_type + \"' message: \", msg);\n",
       "                callback(fig, msg);\n",
       "            } catch (e) {\n",
       "                console.log(\"Exception inside the 'handler_\" + msg_type + \"' callback:\", e, e.stack, msg);\n",
       "            }\n",
       "        }\n",
       "    };\n",
       "}\n",
       "\n",
       "// from http://stackoverflow.com/questions/1114465/getting-mouse-location-in-canvas\n",
       "mpl.findpos = function(e) {\n",
       "    //this section is from http://www.quirksmode.org/js/events_properties.html\n",
       "    var targ;\n",
       "    if (!e)\n",
       "        e = window.event;\n",
       "    if (e.target)\n",
       "        targ = e.target;\n",
       "    else if (e.srcElement)\n",
       "        targ = e.srcElement;\n",
       "    if (targ.nodeType == 3) // defeat Safari bug\n",
       "        targ = targ.parentNode;\n",
       "\n",
       "    // jQuery normalizes the pageX and pageY\n",
       "    // pageX,Y are the mouse positions relative to the document\n",
       "    // offset() returns the position of the element relative to the document\n",
       "    var x = e.pageX - $(targ).offset().left;\n",
       "    var y = e.pageY - $(targ).offset().top;\n",
       "\n",
       "    return {\"x\": x, \"y\": y};\n",
       "};\n",
       "\n",
       "/*\n",
       " * return a copy of an object with only non-object keys\n",
       " * we need this to avoid circular references\n",
       " * http://stackoverflow.com/a/24161582/3208463\n",
       " */\n",
       "function simpleKeys (original) {\n",
       "  return Object.keys(original).reduce(function (obj, key) {\n",
       "    if (typeof original[key] !== 'object')\n",
       "        obj[key] = original[key]\n",
       "    return obj;\n",
       "  }, {});\n",
       "}\n",
       "\n",
       "mpl.figure.prototype.mouse_event = function(event, name) {\n",
       "    var canvas_pos = mpl.findpos(event)\n",
       "\n",
       "    if (name === 'button_press')\n",
       "    {\n",
       "        this.canvas.focus();\n",
       "        this.canvas_div.focus();\n",
       "    }\n",
       "\n",
       "    var x = canvas_pos.x * mpl.ratio;\n",
       "    var y = canvas_pos.y * mpl.ratio;\n",
       "\n",
       "    this.send_message(name, {x: x, y: y, button: event.button,\n",
       "                             step: event.step,\n",
       "                             guiEvent: simpleKeys(event)});\n",
       "\n",
       "    /* This prevents the web browser from automatically changing to\n",
       "     * the text insertion cursor when the button is pressed.  We want\n",
       "     * to control all of the cursor setting manually through the\n",
       "     * 'cursor' event from matplotlib */\n",
       "    event.preventDefault();\n",
       "    return false;\n",
       "}\n",
       "\n",
       "mpl.figure.prototype._key_event_extra = function(event, name) {\n",
       "    // Handle any extra behaviour associated with a key event\n",
       "}\n",
       "\n",
       "mpl.figure.prototype.key_event = function(event, name) {\n",
       "\n",
       "    // Prevent repeat events\n",
       "    if (name == 'key_press')\n",
       "    {\n",
       "        if (event.which === this._key)\n",
       "            return;\n",
       "        else\n",
       "            this._key = event.which;\n",
       "    }\n",
       "    if (name == 'key_release')\n",
       "        this._key = null;\n",
       "\n",
       "    var value = '';\n",
       "    if (event.ctrlKey && event.which != 17)\n",
       "        value += \"ctrl+\";\n",
       "    if (event.altKey && event.which != 18)\n",
       "        value += \"alt+\";\n",
       "    if (event.shiftKey && event.which != 16)\n",
       "        value += \"shift+\";\n",
       "\n",
       "    value += 'k';\n",
       "    value += event.which.toString();\n",
       "\n",
       "    this._key_event_extra(event, name);\n",
       "\n",
       "    this.send_message(name, {key: value,\n",
       "                             guiEvent: simpleKeys(event)});\n",
       "    return false;\n",
       "}\n",
       "\n",
       "mpl.figure.prototype.toolbar_button_onclick = function(name) {\n",
       "    if (name == 'download') {\n",
       "        this.handle_save(this, null);\n",
       "    } else {\n",
       "        this.send_message(\"toolbar_button\", {name: name});\n",
       "    }\n",
       "};\n",
       "\n",
       "mpl.figure.prototype.toolbar_button_onmouseover = function(tooltip) {\n",
       "    this.message.textContent = tooltip;\n",
       "};\n",
       "mpl.toolbar_items = [[\"Home\", \"Reset original view\", \"fa fa-home icon-home\", \"home\"], [\"Back\", \"Back to  previous view\", \"fa fa-arrow-left icon-arrow-left\", \"back\"], [\"Forward\", \"Forward to next view\", \"fa fa-arrow-right icon-arrow-right\", \"forward\"], [\"\", \"\", \"\", \"\"], [\"Pan\", \"Pan axes with left mouse, zoom with right\", \"fa fa-arrows icon-move\", \"pan\"], [\"Zoom\", \"Zoom to rectangle\", \"fa fa-square-o icon-check-empty\", \"zoom\"], [\"\", \"\", \"\", \"\"], [\"Download\", \"Download plot\", \"fa fa-floppy-o icon-save\", \"download\"]];\n",
       "\n",
       "mpl.extensions = [\"eps\", \"jpeg\", \"pdf\", \"png\", \"ps\", \"raw\", \"svg\", \"tif\"];\n",
       "\n",
       "mpl.default_extension = \"png\";var comm_websocket_adapter = function(comm) {\n",
       "    // Create a \"websocket\"-like object which calls the given IPython comm\n",
       "    // object with the appropriate methods. Currently this is a non binary\n",
       "    // socket, so there is still some room for performance tuning.\n",
       "    var ws = {};\n",
       "\n",
       "    ws.close = function() {\n",
       "        comm.close()\n",
       "    };\n",
       "    ws.send = function(m) {\n",
       "        //console.log('sending', m);\n",
       "        comm.send(m);\n",
       "    };\n",
       "    // Register the callback with on_msg.\n",
       "    comm.on_msg(function(msg) {\n",
       "        //console.log('receiving', msg['content']['data'], msg);\n",
       "        // Pass the mpl event to the overriden (by mpl) onmessage function.\n",
       "        ws.onmessage(msg['content']['data'])\n",
       "    });\n",
       "    return ws;\n",
       "}\n",
       "\n",
       "mpl.mpl_figure_comm = function(comm, msg) {\n",
       "    // This is the function which gets called when the mpl process\n",
       "    // starts-up an IPython Comm through the \"matplotlib\" channel.\n",
       "\n",
       "    var id = msg.content.data.id;\n",
       "    // Get hold of the div created by the display call when the Comm\n",
       "    // socket was opened in Python.\n",
       "    var element = $(\"#\" + id);\n",
       "    var ws_proxy = comm_websocket_adapter(comm)\n",
       "\n",
       "    function ondownload(figure, format) {\n",
       "        window.open(figure.imageObj.src);\n",
       "    }\n",
       "\n",
       "    var fig = new mpl.figure(id, ws_proxy,\n",
       "                           ondownload,\n",
       "                           element.get(0));\n",
       "\n",
       "    // Call onopen now - mpl needs it, as it is assuming we've passed it a real\n",
       "    // web socket which is closed, not our websocket->open comm proxy.\n",
       "    ws_proxy.onopen();\n",
       "\n",
       "    fig.parent_element = element.get(0);\n",
       "    fig.cell_info = mpl.find_output_cell(\"<div id='\" + id + \"'></div>\");\n",
       "    if (!fig.cell_info) {\n",
       "        console.error(\"Failed to find cell for figure\", id, fig);\n",
       "        return;\n",
       "    }\n",
       "\n",
       "    var output_index = fig.cell_info[2]\n",
       "    var cell = fig.cell_info[0];\n",
       "\n",
       "};\n",
       "\n",
       "mpl.figure.prototype.handle_close = function(fig, msg) {\n",
       "    var width = fig.canvas.width/mpl.ratio\n",
       "    fig.root.unbind('remove')\n",
       "\n",
       "    // Update the output cell to use the data from the current canvas.\n",
       "    fig.push_to_output();\n",
       "    var dataURL = fig.canvas.toDataURL();\n",
       "    // Re-enable the keyboard manager in IPython - without this line, in FF,\n",
       "    // the notebook keyboard shortcuts fail.\n",
       "    IPython.keyboard_manager.enable()\n",
       "    $(fig.parent_element).html('<img src=\"' + dataURL + '\" width=\"' + width + '\">');\n",
       "    fig.close_ws(fig, msg);\n",
       "}\n",
       "\n",
       "mpl.figure.prototype.close_ws = function(fig, msg){\n",
       "    fig.send_message('closing', msg);\n",
       "    // fig.ws.close()\n",
       "}\n",
       "\n",
       "mpl.figure.prototype.push_to_output = function(remove_interactive) {\n",
       "    // Turn the data on the canvas into data in the output cell.\n",
       "    var width = this.canvas.width/mpl.ratio\n",
       "    var dataURL = this.canvas.toDataURL();\n",
       "    this.cell_info[1]['text/html'] = '<img src=\"' + dataURL + '\" width=\"' + width + '\">';\n",
       "}\n",
       "\n",
       "mpl.figure.prototype.updated_canvas_event = function() {\n",
       "    // Tell IPython that the notebook contents must change.\n",
       "    IPython.notebook.set_dirty(true);\n",
       "    this.send_message(\"ack\", {});\n",
       "    var fig = this;\n",
       "    // Wait a second, then push the new image to the DOM so\n",
       "    // that it is saved nicely (might be nice to debounce this).\n",
       "    setTimeout(function () { fig.push_to_output() }, 1000);\n",
       "}\n",
       "\n",
       "mpl.figure.prototype._init_toolbar = function() {\n",
       "    var fig = this;\n",
       "\n",
       "    var nav_element = $('<div/>')\n",
       "    nav_element.attr('style', 'width: 100%');\n",
       "    this.root.append(nav_element);\n",
       "\n",
       "    // Define a callback function for later on.\n",
       "    function toolbar_event(event) {\n",
       "        return fig.toolbar_button_onclick(event['data']);\n",
       "    }\n",
       "    function toolbar_mouse_event(event) {\n",
       "        return fig.toolbar_button_onmouseover(event['data']);\n",
       "    }\n",
       "\n",
       "    for(var toolbar_ind in mpl.toolbar_items){\n",
       "        var name = mpl.toolbar_items[toolbar_ind][0];\n",
       "        var tooltip = mpl.toolbar_items[toolbar_ind][1];\n",
       "        var image = mpl.toolbar_items[toolbar_ind][2];\n",
       "        var method_name = mpl.toolbar_items[toolbar_ind][3];\n",
       "\n",
       "        if (!name) { continue; };\n",
       "\n",
       "        var button = $('<button class=\"btn btn-default\" href=\"#\" title=\"' + name + '\"><i class=\"fa ' + image + ' fa-lg\"></i></button>');\n",
       "        button.click(method_name, toolbar_event);\n",
       "        button.mouseover(tooltip, toolbar_mouse_event);\n",
       "        nav_element.append(button);\n",
       "    }\n",
       "\n",
       "    // Add the status bar.\n",
       "    var status_bar = $('<span class=\"mpl-message\" style=\"text-align:right; float: right;\"/>');\n",
       "    nav_element.append(status_bar);\n",
       "    this.message = status_bar[0];\n",
       "\n",
       "    // Add the close button to the window.\n",
       "    var buttongrp = $('<div class=\"btn-group inline pull-right\"></div>');\n",
       "    var button = $('<button class=\"btn btn-mini btn-primary\" href=\"#\" title=\"Stop Interaction\"><i class=\"fa fa-power-off icon-remove icon-large\"></i></button>');\n",
       "    button.click(function (evt) { fig.handle_close(fig, {}); } );\n",
       "    button.mouseover('Stop Interaction', toolbar_mouse_event);\n",
       "    buttongrp.append(button);\n",
       "    var titlebar = this.root.find($('.ui-dialog-titlebar'));\n",
       "    titlebar.prepend(buttongrp);\n",
       "}\n",
       "\n",
       "mpl.figure.prototype._root_extra_style = function(el){\n",
       "    var fig = this\n",
       "    el.on(\"remove\", function(){\n",
       "\tfig.close_ws(fig, {});\n",
       "    });\n",
       "}\n",
       "\n",
       "mpl.figure.prototype._canvas_extra_style = function(el){\n",
       "    // this is important to make the div 'focusable\n",
       "    el.attr('tabindex', 0)\n",
       "    // reach out to IPython and tell the keyboard manager to turn it's self\n",
       "    // off when our div gets focus\n",
       "\n",
       "    // location in version 3\n",
       "    if (IPython.notebook.keyboard_manager) {\n",
       "        IPython.notebook.keyboard_manager.register_events(el);\n",
       "    }\n",
       "    else {\n",
       "        // location in version 2\n",
       "        IPython.keyboard_manager.register_events(el);\n",
       "    }\n",
       "\n",
       "}\n",
       "\n",
       "mpl.figure.prototype._key_event_extra = function(event, name) {\n",
       "    var manager = IPython.notebook.keyboard_manager;\n",
       "    if (!manager)\n",
       "        manager = IPython.keyboard_manager;\n",
       "\n",
       "    // Check for shift+enter\n",
       "    if (event.shiftKey && event.which == 13) {\n",
       "        this.canvas_div.blur();\n",
       "        event.shiftKey = false;\n",
       "        // Send a \"J\" for go to next cell\n",
       "        event.which = 74;\n",
       "        event.keyCode = 74;\n",
       "        manager.command_mode();\n",
       "        manager.handle_keydown(event);\n",
       "    }\n",
       "}\n",
       "\n",
       "mpl.figure.prototype.handle_save = function(fig, msg) {\n",
       "    fig.ondownload(fig, null);\n",
       "}\n",
       "\n",
       "\n",
       "mpl.find_output_cell = function(html_output) {\n",
       "    // Return the cell and output element which can be found *uniquely* in the notebook.\n",
       "    // Note - this is a bit hacky, but it is done because the \"notebook_saving.Notebook\"\n",
       "    // IPython event is triggered only after the cells have been serialised, which for\n",
       "    // our purposes (turning an active figure into a static one), is too late.\n",
       "    var cells = IPython.notebook.get_cells();\n",
       "    var ncells = cells.length;\n",
       "    for (var i=0; i<ncells; i++) {\n",
       "        var cell = cells[i];\n",
       "        if (cell.cell_type === 'code'){\n",
       "            for (var j=0; j<cell.output_area.outputs.length; j++) {\n",
       "                var data = cell.output_area.outputs[j];\n",
       "                if (data.data) {\n",
       "                    // IPython >= 3 moved mimebundle to data attribute of output\n",
       "                    data = data.data;\n",
       "                }\n",
       "                if (data['text/html'] == html_output) {\n",
       "                    return [cell, data, j];\n",
       "                }\n",
       "            }\n",
       "        }\n",
       "    }\n",
       "}\n",
       "\n",
       "// Register the function which deals with the matplotlib target/channel.\n",
       "// The kernel may be null if the page has been refreshed.\n",
       "if (IPython.notebook.kernel != null) {\n",
       "    IPython.notebook.kernel.comm_manager.register_target('matplotlib', mpl.mpl_figure_comm);\n",
       "}\n"
      ],
      "text/plain": [
       "<IPython.core.display.Javascript object>"
      ]
     },
     "metadata": {},
     "output_type": "display_data"
    },
    {
     "data": {
      "text/html": [
       "<img src=\"data:image/png;base64,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\" width=\"525\">"
      ],
      "text/plain": [
       "<IPython.core.display.HTML object>"
      ]
     },
     "metadata": {},
     "output_type": "display_data"
    }
   ],
   "source": [
    "spacing_condition = find(spacing_choice.value,spacing_short)\n",
    "if spacing_condition == 0:\n",
    "    mult_factor_base = 1\n",
    "else:\n",
    "    mult_factor_base = 100\n",
    "\n",
    "fst = 16\n",
    "fs = 14\n",
    "beam_energy_text = erg_options(isi)[iei]\n",
    "beam_species_text = projectile_sym_str[isi]\n",
    "\n",
    "fig = plt.figure()\n",
    "ax = plt.subplot(111)\n",
    "# Axis labels\n",
    "title_text = particles_long[spi] + \" Energy Spectra for\" + \"\\n\" \n",
    "title_text += beam_energy_text +\" \"+ beam_species_text + \" on \"+ thicknesses[ftti] +\" \"+ target_mats_short[ftmi] \n",
    "plt.title(title_text,fontsize=fst)\n",
    "if spi <= 2:\n",
    "    plt.xlabel(\"Energy [MeV]\",fontsize=fs)\n",
    "else:\n",
    "    plt.xlabel(\"Energy [MeV/n]\",fontsize=fs)\n",
    "\n",
    "if spi == 1: # deconvoluted neutrons\n",
    "    leg_strings = [r'Experimental (deconvoluted)',r'MCNP (simulated)', r'PHITS (simulated)']\n",
    "    plt.ylabel(r\"Yield [#$\\cdot$/(MeV$\\cdot$s.p.)]\",fontsize=fs)\n",
    "else:\n",
    "    leg_strings = [r'Experimental (time-of-flight)',r'MCNP (simulated)', r'PHITS (simulated)']\n",
    "    if spi <= 2:\n",
    "        plt.ylabel(r\"Yield [#/(MeV$\\cdot$sr$\\cdot$s.p.)]\",fontsize=fs)\n",
    "    else:\n",
    "        plt.ylabel(r\"Yield [#/(MeV/n$\\cdot$sr$\\cdot$s.p.)]\",fontsize=fs)\n",
    "\n",
    "# Generate portion of legend specifying data sets\n",
    "if spi == 1:\n",
    "    exp_leg, = plt.errorbar(np.NaN, np.NaN,yerr=0, color='dimgrey', marker=\".\",markersize=3,linestyle=\":\",alpha=1.0), #, label=r'Deconvolued')\n",
    "else:\n",
    "    exp_leg,  = plt.errorbar(np.NaN, np.NaN,xerr=0,yerr=0,marker=\".\",c='dimgrey',markersize=2,linestyle=\"\",elinewidth=0.5,markeredgewidth=0.5,capsize=0), # , label=r'Experimental (ToF)') \n",
    "\n",
    "MCNP_leg, = plt.errorbar(np.NaN, np.NaN,yerr=0, color='dimgrey', marker=\"^\",markersize=3,linestyle=\"--\"), #, label=r'Simulated (MCNP)')\n",
    "PHITS_leg, = plt.errorbar(np.NaN, np.NaN,yerr=0, color='dimgrey', marker=\"s\",markersize=3,linestyle=\"--\"), #, label=r'Simulated (PHITS)')\n",
    "\n",
    "legs_for_ds = [exp_leg, MCNP_leg, PHITS_leg]\n",
    "used_ds_legs = []\n",
    "used_ds_leg_strs = []\n",
    "leg_handles1 = []\n",
    "leg_labels1 = []\n",
    "    \n",
    "for dsi in data_set_i_list:\n",
    "    used_ds_legs.append(legs_for_ds[dsi])\n",
    "    used_ds_leg_strs.append(leg_strings[dsi])\n",
    "    k=0\n",
    "    for di in det_angle_i_list:\n",
    "        ndet = str(di+1)\n",
    "        scale_power = 2*((len(det_angle_i_list)-1)-k)\n",
    "        mult_factor = mult_factor_base**scale_power\n",
    "        if spacing_condition == 0:\n",
    "            lab_text = detectors_angles[detti][di]\n",
    "        else:\n",
    "            lab_text = detectors_angles[detti][di] + r\" $\\times10^{{{0}}}$\".format(str(int(scale_power)))\n",
    "        k += 1\n",
    "        \n",
    "        # Make artificial legend for 6 detectors\n",
    "        ebp = ax.plot(np.NaN, np.NaN,c=detector_colors(di),marker=\"s\",markersize=8,linestyle=\"\") #,label=lab_text) #,label='Simulated (MCNP)')\n",
    "        leg_handles1.append(ebp[0])\n",
    "        leg_labels1.append(lab_text)\n",
    "        \n",
    "        nzi = np.nonzero(mm_values[dsi,iei,ftmi,ftti,spi,di,1,:])\n",
    "        xdata = mm_values[dsi,iei,ftmi,ftti,spi,di,1,:][nzi]\n",
    "        xbinw = [mm_values[dsi,iei,ftmi,ftti,spi,di,1,:][nzi]-mm_values[dsi,iei,ftmi,ftti,spi,di,0,:][nzi] , mm_values[dsi,iei,ftmi,ftti,spi,di,2,:][nzi]-mm_values[dsi,iei,ftmi,ftti,spi,di,1,:][nzi]]\n",
    "        ydata = mm_values[dsi,iei,ftmi,ftti,spi,di,3,:][nzi]\n",
    "        yerr_stat = mm_values[dsi,iei,ftmi,ftti,spi,di,4,:][nzi]\n",
    "        yerr_sys = mm_values[dsi,iei,ftmi,ftti,spi,di,5,:][nzi]\n",
    "        xerr = mm_values[dsi,iei,ftmi,ftti,spi,di,6,:][nzi]\n",
    "        \n",
    "        ydata = ydata*mult_factor\n",
    "        yerr_stat = yerr_stat*mult_factor\n",
    "        yerr_sys = yerr_sys*mult_factor\n",
    "        \n",
    "        # Generate plots\n",
    "        if dsi == 0: # experimental results\n",
    "            if spi == 1: # deconvoluted neutrons\n",
    "                alpha_val=1.0\n",
    "                marker_val = \".\"\n",
    "                p = plt.errorbar(xdata,ydata,yerr=yerr,c=detector_colors(di),marker=marker_val,markersize=3,linestyle=\":\",alpha=alpha_val,label=lab_text) #,label='Simulated (MCNP)')\n",
    "            else:\n",
    "                # x error bar (bin width)\n",
    "                xerrbar = xbinw\n",
    "                # x error box (energy resolution\n",
    "                xerrbox = xerr\n",
    "                xerrbox = np.array([xerrbox, xerrbox])\n",
    "                # y error bar (systematic uncertainty)\n",
    "                yerrbar = [yerr_sys, yerr_sys]\n",
    "                yerrbar[0][(ydata-yerrbar[0])<=0]=0 # get rid of negative error bars\n",
    "                yerrbar[1][(ydata)<=0]=0 # get rid of errorbars on negative points\n",
    "                # y error box (statistical uncertainty)\n",
    "                yerrbox = np.array([yerr_stat, yerr_stat])\n",
    "                \n",
    "                p = plt.errorbar(xdata,ydata,xerr=xerrbar,yerr=yerrbar,marker=\".\",c=detector_colors(di),markersize=2,linestyle=\"\",elinewidth=0.5,markeredgewidth=0.5,capsize=0,label=lab_text)\n",
    "                nx_color = detector_colors(di) #p[0].get_color()\n",
    "                makeErrorBoxes(xdata,ydata,xerrbox,yerrbox,fc='None',ec=nx_color,alpha=1.0,lw=0.5)\n",
    "                makeErrorBoxes(xdata,ydata,xerrbox,yerrbox,fc=nx_color,ec='None',alpha=0.1,lw=0.5)\n",
    "                \n",
    "        elif dsi == 1: # MCNP results\n",
    "            ebp = plt.errorbar(xdata,ydata,yerr=yerr_stat,c=detector_colors(di),marker=\"^\",markersize=3,linestyle=\"--\") #,label=lab_text) #,label='Simulated (MCNP)')\n",
    "        \n",
    "        elif dsi == 2: # PHITS results\n",
    "            ebp = plt.errorbar(xdata,ydata,yerr=yerr_stat,c=detector_colors(di),marker=\"s\",markersize=3,linestyle=\"--\") #,label=lab_text) #,label='Simulated (MCNP)')\n",
    "        \n",
    "        \n",
    "#handles, labels = ax.get_legend_handles_labels()\n",
    "if len(data_set_i_list)==3: # Three rows in named legend\n",
    "    box_h_multiplier = 0.92 # percentage of total height occupied by actual plot\n",
    "    box_h_offset = 0.12 # vertical offset left at the bottom for legend stuff\n",
    "    leg2_anchor = (0.5, -0.065)\n",
    "    leg1_anchor = (0.47, -0.155)\n",
    "elif len(data_set_i_list)==2: # Two rows of legend\n",
    "    box_h_multiplier = 0.92 # percentage of total height occupied by actual plot\n",
    "    box_h_offset = 0.12 # vertical offset left at the bottom for legend stuff\n",
    "    leg2_anchor = (0.5, -0.065)\n",
    "    leg1_anchor = (0.47, -0.155)\n",
    "else: # One row of legend\n",
    "    box_h_multiplier = 0.92 # percentage of total height occupied by actual plot\n",
    "    box_h_offset = 0.12 # vertical offset left at the bottom for legend stuff\n",
    "    leg2_anchor = (0.5, -0.065)\n",
    "    leg1_anchor = (0.47, -0.155)\n",
    "\n",
    "# Set size and location of the plot on the canvas\n",
    "box = ax.get_position()\n",
    "ax.set_position([box.x0 + box.width * 0.025, box.y0 + box.height * box_h_offset,box.width * 0.95, box.height * box_h_multiplier])\n",
    "\n",
    "# Put a legend below current axis\n",
    "legend2 = ax.legend(used_ds_legs,used_ds_leg_strs,loc='upper center', bbox_to_anchor=leg2_anchor, ncol=1)\n",
    "\n",
    "# Put a legend below current axis\n",
    "ax.legend(leg_handles1[:6],leg_labels1[:6],loc='upper center', bbox_to_anchor=leg1_anchor, ncol=3,handletextpad=0.1)\n",
    "ax.add_artist(legend2)\n",
    "\n",
    "window_title = mm_metadata[dsi,isi,iei,ftmi,ftti,spi,0,1] + \"_fig\"\n",
    "fig.canvas.set_window_title(window_title)\n",
    "if spacing_condition == 1: \n",
    "    fig.set_size_inches(5.25,10.25)\n",
    "        \n",
    "plt.xscale('log')\n",
    "plt.yscale('log')\n",
    "plt.grid(b=True, which='major', linestyle='-', alpha=0.25)\n",
    "plt.grid(b=True, which='minor', linestyle='-', alpha=0.10)\n",
    "plt.xlim([5,2000])\n",
    "        \n",
    "        \n",
    "        \n",
    "plt.show()        \n",
    "        \n",
    "    \n",
    "    \n"
   ]
  },
  {
   "cell_type": "code",
   "execution_count": null,
   "metadata": {},
   "outputs": [],
   "source": []
  }
 ],
 "metadata": {
  "kernelspec": {
   "display_name": "Python 3",
   "language": "python",
   "name": "python3"
  },
  "language_info": {
   "codemirror_mode": {
    "name": "ipython",
    "version": 3
   },
   "file_extension": ".py",
   "mimetype": "text/x-python",
   "name": "python",
   "nbconvert_exporter": "python",
   "pygments_lexer": "ipython3",
   "version": "3.6.4"
  },
  "widgets": {
   "application/vnd.jupyter.widget-state+json": {
    "state": {
     "015a24742f1046a68c1d4db057c366cf": {
      "model_module": "@jupyter-widgets/controls",
      "model_module_version": "1.1.0",
      "model_name": "CheckboxModel",
      "state": {
       "description": "MCNP sim.",
       "disabled": false,
       "layout": "IPY_MODEL_f4c2d755906e4acc82b4b2022cb7d83e",
       "style": "IPY_MODEL_59d88d47bdd14c89a862b29a2a531ba7",
       "value": true
      }
     },
     "016af3617c1540cb8e02cb71fbe0670e": {
      "model_module": "@jupyter-widgets/base",
      "model_module_version": "1.0.0",
      "model_name": "LayoutModel",
      "state": {}
     },
     "016af7d1f94149218d11f66c4a091e97": {
      "model_module": "@jupyter-widgets/controls",
      "model_module_version": "1.1.0",
      "model_name": "CheckboxModel",
      "state": {
       "description": "80°",
       "disabled": false,
       "layout": "IPY_MODEL_d7fa1e0a970542dfa0bcacd0af564385",
       "style": "IPY_MODEL_5fd143974646441e9efb80cf682ca8a5",
       "value": true
      }
     },
     "01d7e586b2a44ccb8a530a82fbf83230": {
      "model_module": "@jupyter-widgets/controls",
      "model_module_version": "1.1.0",
      "model_name": "ToggleButtonsModel",
      "state": {
       "_options_labels": [
        "20 g/cm²",
        "40 g/cm²",
        "60 g/cm²"
       ],
       "button_style": "",
       "description": "Upstream target thickness:",
       "icons": [],
       "index": 0,
       "layout": "IPY_MODEL_596ea217ac164fedaf51f67142124c58",
       "style": "IPY_MODEL_55a5703aec6e4ddf86fb580bdcbfe484",
       "tooltips": [
        "20 g/cm²",
        "40 g/cm²",
        "60 g/cm²"
       ]
      }
     },
     "01f72b147b784cc9ba5906f2ca107057": {
      "model_module": "@jupyter-widgets/controls",
      "model_module_version": "1.1.0",
      "model_name": "ToggleButtonsStyleModel",
      "state": {
       "button_width": "",
       "description_width": ""
      }
     },
     "02127c50231e4972b41b1271ccf9305d": {
      "model_module": "@jupyter-widgets/controls",
      "model_module_version": "1.1.0",
      "model_name": "DescriptionStyleModel",
      "state": {
       "description_width": ""
      }
     },
     "0212a0076bfb4fe9b444a577f12be42d": {
      "model_module": "@jupyter-widgets/controls",
      "model_module_version": "1.1.0",
      "model_name": "CheckboxModel",
      "state": {
       "description": "30°",
       "disabled": false,
       "layout": "IPY_MODEL_51b6948d26ac4208adc465035d6b9140",
       "style": "IPY_MODEL_4f1190b8cbda46f889e0baa7d9929de6",
       "value": true
      }
     },
     "0337ce54a5744c2592c741f8bf0da893": {
      "model_module": "@jupyter-widgets/base",
      "model_module_version": "1.0.0",
      "model_name": "LayoutModel",
      "state": {}
     },
     "03ae5818f0e94776ac03fe0d71608a92": {
      "model_module": "@jupyter-widgets/controls",
      "model_module_version": "1.1.0",
      "model_name": "LabelModel",
      "state": {
       "layout": "IPY_MODEL_637ed75ddebd43dbb94e0c153d7585d5",
       "style": "IPY_MODEL_085dff56f3114ea8938afe829535393f",
       "value": "Select upstream target material."
      }
     },
     "03dcf3cd83ed429284cfc87240c360b6": {
      "model_module": "@jupyter-widgets/base",
      "model_module_version": "1.0.0",
      "model_name": "LayoutModel",
      "state": {}
     },
     "046224b054b0448ea8e0ed8ad64c4b05": {
      "model_module": "@jupyter-widgets/base",
      "model_module_version": "1.0.0",
      "model_name": "LayoutModel",
      "state": {}
     },
     "04a447586dda4ee698d2fb2937a163eb": {
      "model_module": "@jupyter-widgets/controls",
      "model_module_version": "1.1.0",
      "model_name": "CheckboxModel",
      "state": {
       "description": "135°",
       "disabled": false,
       "layout": "IPY_MODEL_a692bd63ab7c48f295ccea4406aef904",
       "style": "IPY_MODEL_343114b504ce43fda824ef0816453850",
       "value": true
      }
     },
     "04e0e02fd9424300a282ee8e21e6a088": {
      "model_module": "@jupyter-widgets/base",
      "model_module_version": "1.0.0",
      "model_name": "LayoutModel",
      "state": {}
     },
     "0661377c3ce84078b39d999e286c34f4": {
      "model_module": "@jupyter-widgets/controls",
      "model_module_version": "1.1.0",
      "model_name": "CheckboxModel",
      "state": {
       "description": "10°",
       "disabled": false,
       "layout": "IPY_MODEL_80c974a6982d4c27bab83c49568cae82",
       "style": "IPY_MODEL_02127c50231e4972b41b1271ccf9305d",
       "value": true
      }
     },
     "06b2f62874494d339bb90eea19176892": {
      "model_module": "@jupyter-widgets/controls",
      "model_module_version": "1.1.0",
      "model_name": "ToggleButtonsStyleModel",
      "state": {
       "button_width": "",
       "description_width": ""
      }
     },
     "06c0c365322742f782334733d0d37345": {
      "model_module": "@jupyter-widgets/base",
      "model_module_version": "1.0.0",
      "model_name": "LayoutModel",
      "state": {}
     },
     "0758ae860a9c4504adc31a0935c7f733": {
      "model_module": "@jupyter-widgets/base",
      "model_module_version": "1.0.0",
      "model_name": "LayoutModel",
      "state": {}
     },
     "07755daa83fe4274b62c67d067d8f5c2": {
      "model_module": "@jupyter-widgets/controls",
      "model_module_version": "1.1.0",
      "model_name": "ToggleButtonsModel",
      "state": {
       "_options_labels": [
        "20 g/cm²",
        "40 g/cm²",
        "60 g/cm²"
       ],
       "button_style": "",
       "description": "Thickness:",
       "icons": [],
       "index": 0,
       "layout": "IPY_MODEL_40ddbb06e0014ae08ff988866adf07c1",
       "style": "IPY_MODEL_90e4cb21488d410886e5f278df600e84",
       "tooltips": [
        "20 g/cm²",
        "40 g/cm²",
        "60 g/cm²"
       ]
      }
     },
     "07757186b124423b90b6fc4a321a3839": {
      "model_module": "@jupyter-widgets/controls",
      "model_module_version": "1.1.0",
      "model_name": "DescriptionStyleModel",
      "state": {
       "description_width": ""
      }
     },
     "077e109affea4d699a6c5e1910bcab11": {
      "model_module": "@jupyter-widgets/controls",
      "model_module_version": "1.1.0",
      "model_name": "ToggleButtonsStyleModel",
      "state": {
       "button_width": "",
       "description_width": ""
      }
     },
     "07e26bfbdd264c5caa86997cd380255c": {
      "model_module": "@jupyter-widgets/controls",
      "model_module_version": "1.1.0",
      "model_name": "DescriptionStyleModel",
      "state": {
       "description_width": ""
      }
     },
     "0839726bcf934b2a8cabd4c883d639f1": {
      "model_module": "@jupyter-widgets/controls",
      "model_module_version": "1.1.0",
      "model_name": "LabelModel",
      "state": {
       "layout": "IPY_MODEL_325639152adf4b15b3b1051041ae68eb",
       "style": "IPY_MODEL_72b2eebf41ac4c2db75c3a52ac89f3c9",
       "value": "Select a detector type."
      }
     },
     "085dff56f3114ea8938afe829535393f": {
      "model_module": "@jupyter-widgets/controls",
      "model_module_version": "1.1.0",
      "model_name": "DescriptionStyleModel",
      "state": {
       "description_width": ""
      }
     },
     "093c5b828de249c78fddec2d5a864ef9": {
      "model_module": "@jupyter-widgets/base",
      "model_module_version": "1.0.0",
      "model_name": "LayoutModel",
      "state": {}
     },
     "0a00a4e4a38943d1be4af74db92ec146": {
      "model_module": "@jupyter-widgets/controls",
      "model_module_version": "1.1.0",
      "model_name": "DescriptionStyleModel",
      "state": {
       "description_width": ""
      }
     },
     "0a15630079c4457195034b328b2a52c7": {
      "model_module": "@jupyter-widgets/controls",
      "model_module_version": "1.1.0",
      "model_name": "ToggleButtonsModel",
      "state": {
       "_options_labels": [
        "H",
        "He",
        "C",
        "Si",
        "Fe"
       ],
       "button_style": "",
       "description": "Ion:",
       "icons": [],
       "index": 1,
       "layout": "IPY_MODEL_cdd7b460ab6d497e89a40e54704e0405",
       "style": "IPY_MODEL_2600d26c307b4d64b61cddbb1c9c8bf9",
       "tooltips": [
        "Hydrogen",
        "Helium",
        "Carbon",
        "Silicon",
        "Iron"
       ]
      }
     },
     "0a4e49250d1b4f6f98897b6d82eeb9a1": {
      "model_module": "@jupyter-widgets/controls",
      "model_module_version": "1.1.0",
      "model_name": "CheckboxModel",
      "state": {
       "description": "10°",
       "disabled": false,
       "layout": "IPY_MODEL_99bd68cb67c647a19d309a72f54f1d43",
       "style": "IPY_MODEL_1825297813484bcdac34bff4130870cc",
       "value": true
      }
     },
     "0a70fb9ba1734f81bf40a0d762dae042": {
      "model_module": "@jupyter-widgets/base",
      "model_module_version": "1.0.0",
      "model_name": "LayoutModel",
      "state": {}
     },
     "0a9707392c6b4c3282af3dc874884ff5": {
      "model_module": "@jupyter-widgets/base",
      "model_module_version": "1.0.0",
      "model_name": "LayoutModel",
      "state": {}
     },
     "0a991623230c4b9c9ef64ab68ea5d54d": {
      "model_module": "@jupyter-widgets/controls",
      "model_module_version": "1.1.0",
      "model_name": "DescriptionStyleModel",
      "state": {
       "description_width": ""
      }
     },
     "0b494dc80487406a9b61c6f01741dc0a": {
      "model_module": "@jupyter-widgets/base",
      "model_module_version": "1.0.0",
      "model_name": "LayoutModel",
      "state": {}
     },
     "0b9ff29894144d61b66453698de74215": {
      "model_module": "@jupyter-widgets/controls",
      "model_module_version": "1.1.0",
      "model_name": "DescriptionStyleModel",
      "state": {
       "description_width": ""
      }
     },
     "0c5612b8ca424f38baede82fdba62a08": {
      "model_module": "@jupyter-widgets/controls",
      "model_module_version": "1.1.0",
      "model_name": "DescriptionStyleModel",
      "state": {
       "description_width": ""
      }
     },
     "0c5d38b2439f4de1b6158b9ce2c2de5c": {
      "model_module": "@jupyter-widgets/controls",
      "model_module_version": "1.1.0",
      "model_name": "DescriptionStyleModel",
      "state": {
       "description_width": ""
      }
     },
     "0ce14b6fac51407f83c6f33e8133ce9d": {
      "model_module": "@jupyter-widgets/base",
      "model_module_version": "1.0.0",
      "model_name": "LayoutModel",
      "state": {}
     },
     "0d2323b67db544279e9b9cca4b235141": {
      "model_module": "@jupyter-widgets/controls",
      "model_module_version": "1.1.0",
      "model_name": "ToggleButtonsModel",
      "state": {
       "_options_labels": [
        "Al",
        "HDPE",
        "AlPE"
       ],
       "button_style": "",
       "description": "Upstream target material:",
       "icons": [],
       "index": 0,
       "layout": "IPY_MODEL_0f9a3a7ea3274908a4ba07dfeee17777",
       "style": "IPY_MODEL_c6a1b9433eb64e99a0423142484aa85c",
       "tooltips": [
        "Aluminum",
        "Polyethylene",
        "Combination of Al and HDPE"
       ]
      }
     },
     "0eefed4c26c24fdd9b4b7a338ffa2d06": {
      "model_module": "@jupyter-widgets/base",
      "model_module_version": "1.0.0",
      "model_name": "LayoutModel",
      "state": {}
     },
     "0f09a72e9f9f4937bd8a9ecae88876c4": {
      "model_module": "@jupyter-widgets/controls",
      "model_module_version": "1.1.0",
      "model_name": "DescriptionStyleModel",
      "state": {
       "description_width": ""
      }
     },
     "0f4bb8f40098437a8daeb753c0da2516": {
      "model_module": "@jupyter-widgets/controls",
      "model_module_version": "1.1.0",
      "model_name": "ToggleButtonsModel",
      "state": {
       "_options_labels": [
        "N",
        "NDC",
        "P (¹H)",
        "D (²H)",
        "T (³H)",
        "S (³He)",
        "A (⁴He)"
       ],
       "button_style": "",
       "description": "Type:",
       "icons": [],
       "index": 4,
       "layout": "IPY_MODEL_edf26b31a5c04ae5ac5eb9360ccd15ef",
       "style": "IPY_MODEL_13271da540d24704a926fec8f665e358",
       "tooltips": [
        "Neutron",
        "Neutron (deconvoluted)",
        "Proton",
        "Deuteron",
        "Triton",
        "Helium-3",
        "Helium-4"
       ]
      }
     },
     "0f76e3888d8341d28dd5fed39c244e0e": {
      "model_module": "@jupyter-widgets/base",
      "model_module_version": "1.0.0",
      "model_name": "LayoutModel",
      "state": {}
     },
     "0f9a3a7ea3274908a4ba07dfeee17777": {
      "model_module": "@jupyter-widgets/base",
      "model_module_version": "1.0.0",
      "model_name": "LayoutModel",
      "state": {}
     },
     "10ca3d80274042888db9704121729f77": {
      "model_module": "@jupyter-widgets/controls",
      "model_module_version": "1.1.0",
      "model_name": "LabelModel",
      "state": {
       "layout": "IPY_MODEL_ae22be5c28e94de696808e167388ef1f",
       "style": "IPY_MODEL_2e747fb81d244092853eacf0aec85b3a",
       "value": "Select projectile ion species."
      }
     },
     "10fad7c03c90440a974d7f485df8d67e": {
      "model_module": "@jupyter-widgets/controls",
      "model_module_version": "1.1.0",
      "model_name": "CheckboxModel",
      "state": {
       "description": "10°",
       "disabled": false,
       "layout": "IPY_MODEL_0a70fb9ba1734f81bf40a0d762dae042",
       "style": "IPY_MODEL_0a00a4e4a38943d1be4af74db92ec146",
       "value": true
      }
     },
     "120e79b40cc1437caea92ee8f745a440": {
      "model_module": "@jupyter-widgets/controls",
      "model_module_version": "1.1.0",
      "model_name": "ToggleButtonsStyleModel",
      "state": {
       "button_width": "",
       "description_width": ""
      }
     },
     "1211d6f9f9e04653a3a58fdd718ac1ef": {
      "model_module": "@jupyter-widgets/base",
      "model_module_version": "1.0.0",
      "model_name": "LayoutModel",
      "state": {}
     },
     "124b0a83e56f43c3afd1d745a3842523": {
      "model_module": "@jupyter-widgets/controls",
      "model_module_version": "1.1.0",
      "model_name": "CheckboxModel",
      "state": {
       "description": "7.2°",
       "disabled": false,
       "layout": "IPY_MODEL_9d4f6d8efe3e403b85e88c1a136d41e8",
       "style": "IPY_MODEL_0a991623230c4b9c9ef64ab68ea5d54d",
       "value": true
      }
     },
     "1266e2d15f2c4ed1a6ccfe7dfca2b24e": {
      "model_module": "@jupyter-widgets/controls",
      "model_module_version": "1.1.0",
      "model_name": "CheckboxModel",
      "state": {
       "description": "60°",
       "disabled": false,
       "layout": "IPY_MODEL_f198b3453e774f70bf273162d5d01d64",
       "style": "IPY_MODEL_dd3a3b31398e4a0e9aa1cddadb32dcea",
       "value": true
      }
     },
     "126934ddfa8e4192b3fd5ece72e96b59": {
      "model_module": "@jupyter-widgets/controls",
      "model_module_version": "1.1.0",
      "model_name": "CheckboxModel",
      "state": {
       "description": "30°",
       "disabled": false,
       "layout": "IPY_MODEL_a39a0b6219a04e33ac8128e88b31eec9",
       "style": "IPY_MODEL_aa2c1f5ef7a94d079d5ed5026d0aaa7c",
       "value": true
      }
     },
     "12d7b13808f14eada5e484820d7ef00e": {
      "model_module": "@jupyter-widgets/controls",
      "model_module_version": "1.1.0",
      "model_name": "CheckboxModel",
      "state": {
       "description": "45°",
       "disabled": false,
       "layout": "IPY_MODEL_1f0011445a274e36af5ba0d2d546cdf0",
       "style": "IPY_MODEL_0c5612b8ca424f38baede82fdba62a08",
       "value": true
      }
     },
     "13271da540d24704a926fec8f665e358": {
      "model_module": "@jupyter-widgets/controls",
      "model_module_version": "1.1.0",
      "model_name": "ToggleButtonsStyleModel",
      "state": {
       "button_width": "",
       "description_width": ""
      }
     },
     "1343ff4e746c4800991407de65ac09e2": {
      "model_module": "@jupyter-widgets/base",
      "model_module_version": "1.0.0",
      "model_name": "LayoutModel",
      "state": {}
     },
     "143c0b0a8ded453daf70a006d44b7880": {
      "model_module": "@jupyter-widgets/controls",
      "model_module_version": "1.1.0",
      "model_name": "DescriptionStyleModel",
      "state": {
       "description_width": ""
      }
     },
     "14656cbd39454997b90ef16224d21acc": {
      "model_module": "@jupyter-widgets/controls",
      "model_module_version": "1.1.0",
      "model_name": "LabelModel",
      "state": {
       "layout": "IPY_MODEL_5b62b7eeb86143959158e4085d77bb88",
       "style": "IPY_MODEL_de514ac198ee4f96a23947a300d166c6",
       "value": "Select upstream target material."
      }
     },
     "148bb584f6ef4e5e878a1b381fe79254": {
      "model_module": "@jupyter-widgets/controls",
      "model_module_version": "1.1.0",
      "model_name": "LabelModel",
      "state": {
       "layout": "IPY_MODEL_5c0314f0e2ae4326abd5d4ac63c8dc35",
       "style": "IPY_MODEL_370f4ee7c2e44db992d620b6a6ceb2dd",
       "value": "Select how data sets for each detector should be spaced apart (if at all)."
      }
     },
     "151abc60134044d5a94d1ed2cc538c10": {
      "model_module": "@jupyter-widgets/base",
      "model_module_version": "1.0.0",
      "model_name": "LayoutModel",
      "state": {}
     },
     "154fea893a0347a9b41097a0151ff2a7": {
      "model_module": "@jupyter-widgets/controls",
      "model_module_version": "1.1.0",
      "model_name": "LabelModel",
      "state": {
       "layout": "IPY_MODEL_494ed35864824a06877c2dfcc5d747f6",
       "style": "IPY_MODEL_e18a396c81f740bcb8fd470324b131d6",
       "value": "Select projectile ion energy."
      }
     },
     "15689425cbfc4a4c971397446beb65e8": {
      "model_module": "@jupyter-widgets/base",
      "model_module_version": "1.0.0",
      "model_name": "LayoutModel",
      "state": {}
     },
     "15a35212efc8475aaf0e98cf2b28246a": {
      "model_module": "@jupyter-widgets/controls",
      "model_module_version": "1.1.0",
      "model_name": "ToggleButtonsStyleModel",
      "state": {
       "button_width": "",
       "description_width": ""
      }
     },
     "15e42c4133524de2b2ea86582941de1f": {
      "model_module": "@jupyter-widgets/base",
      "model_module_version": "1.0.0",
      "model_name": "LayoutModel",
      "state": {}
     },
     "16315db0526c431084ebae78a9d1afad": {
      "model_module": "@jupyter-widgets/controls",
      "model_module_version": "1.1.0",
      "model_name": "DescriptionStyleModel",
      "state": {
       "description_width": ""
      }
     },
     "1825297813484bcdac34bff4130870cc": {
      "model_module": "@jupyter-widgets/controls",
      "model_module_version": "1.1.0",
      "model_name": "DescriptionStyleModel",
      "state": {
       "description_width": ""
      }
     },
     "1875e3dd5067473f88a51b8845b141ac": {
      "model_module": "@jupyter-widgets/controls",
      "model_module_version": "1.1.0",
      "model_name": "ToggleButtonsModel",
      "state": {
       "_options_labels": [
        "OLS",
        "NaI"
       ],
       "button_style": "",
       "description": "Type:",
       "icons": [],
       "index": 0,
       "layout": "IPY_MODEL_91a8c6d91411460a994e09b91adedd71",
       "style": "IPY_MODEL_bfd76b866fce44aa921ab72cc6d1c12f",
       "tooltips": [
        "Organic Liquid Scintillator",
        "Sodium Iodide"
       ]
      }
     },
     "188b644e780e4203a6132e97b46d6a85": {
      "model_module": "@jupyter-widgets/controls",
      "model_module_version": "1.1.0",
      "model_name": "CheckboxModel",
      "state": {
       "description": "45°",
       "disabled": false,
       "layout": "IPY_MODEL_7b67634f3b2e4352a0589661be000b81",
       "style": "IPY_MODEL_7c06d94c93634ca3ba27341ff8025071",
       "value": true
      }
     },
     "1895e3bc6f044bb8afff35cdcfbc7aab": {
      "model_module": "@jupyter-widgets/base",
      "model_module_version": "1.0.0",
      "model_name": "LayoutModel",
      "state": {}
     },
     "193853f9a1684ec88fc80445d79e0ba9": {
      "model_module": "@jupyter-widgets/base",
      "model_module_version": "1.0.0",
      "model_name": "LayoutModel",
      "state": {}
     },
     "19bd98574c554e07b4b537e9e84ecf7d": {
      "model_module": "@jupyter-widgets/controls",
      "model_module_version": "1.1.0",
      "model_name": "CheckboxModel",
      "state": {
       "description": "28.2°",
       "disabled": false,
       "layout": "IPY_MODEL_889762aa4e644d949a48ea2d57dac50e",
       "style": "IPY_MODEL_6223168c1f55461595981e5ec71396fd",
       "value": true
      }
     },
     "1bb7f2c06922441089584949384b0a0c": {
      "model_module": "@jupyter-widgets/base",
      "model_module_version": "1.0.0",
      "model_name": "LayoutModel",
      "state": {}
     },
     "1bc0fe1be6aa4c15aa1668a0dca5fca8": {
      "model_module": "@jupyter-widgets/base",
      "model_module_version": "1.0.0",
      "model_name": "LayoutModel",
      "state": {}
     },
     "1c30df6baca14be9b804620d10110d72": {
      "model_module": "@jupyter-widgets/base",
      "model_module_version": "1.0.0",
      "model_name": "LayoutModel",
      "state": {}
     },
     "1cb269111fbe40189e9390668bf98904": {
      "model_module": "@jupyter-widgets/controls",
      "model_module_version": "1.1.0",
      "model_name": "LabelModel",
      "state": {
       "layout": "IPY_MODEL_388644282a824885afb9277afeea4f70",
       "style": "IPY_MODEL_9f6c28c005314a9b83e039513ce02007",
       "value": "Select the detector angles to plot."
      }
     },
     "1ccf22597e434af5bab9dad773320ed1": {
      "model_module": "@jupyter-widgets/base",
      "model_module_version": "1.0.0",
      "model_name": "LayoutModel",
      "state": {}
     },
     "1d26bbdb345e4228a599082eb1877107": {
      "model_module": "@jupyter-widgets/base",
      "model_module_version": "1.0.0",
      "model_name": "LayoutModel",
      "state": {}
     },
     "1daced6103c9424ab2254a318ff9985a": {
      "model_module": "@jupyter-widgets/controls",
      "model_module_version": "1.1.0",
      "model_name": "CheckboxModel",
      "state": {
       "description": "30°",
       "disabled": false,
       "layout": "IPY_MODEL_9cd3e6c6e5e242f89758ccc80cb5a2e7",
       "style": "IPY_MODEL_a41aefaded0c42d8b1f36b278b07e298",
       "value": true
      }
     },
     "1ead81b4709043c994909a2b2b093b5f": {
      "model_module": "@jupyter-widgets/controls",
      "model_module_version": "1.1.0",
      "model_name": "ToggleButtonsStyleModel",
      "state": {
       "button_width": "",
       "description_width": ""
      }
     },
     "1ebf963a3f6c45cf90efcce937720a07": {
      "model_module": "@jupyter-widgets/controls",
      "model_module_version": "1.1.0",
      "model_name": "DescriptionStyleModel",
      "state": {
       "description_width": ""
      }
     },
     "1f0011445a274e36af5ba0d2d546cdf0": {
      "model_module": "@jupyter-widgets/base",
      "model_module_version": "1.0.0",
      "model_name": "LayoutModel",
      "state": {}
     },
     "1f772ee58afb4bd29003d5804c7a5fa8": {
      "model_module": "@jupyter-widgets/controls",
      "model_module_version": "1.1.0",
      "model_name": "ToggleButtonsStyleModel",
      "state": {
       "button_width": "",
       "description_width": ""
      }
     },
     "208ce91453bd48d9944ef67cb52ea58e": {
      "model_module": "@jupyter-widgets/controls",
      "model_module_version": "1.1.0",
      "model_name": "LabelModel",
      "state": {
       "layout": "IPY_MODEL_093c5b828de249c78fddec2d5a864ef9",
       "style": "IPY_MODEL_ead1f9378a724f3fac29c1cdad541101",
       "value": "Select the detector angles to plot."
      }
     },
     "2166ce61f48441109f67d654dd830c66": {
      "model_module": "@jupyter-widgets/base",
      "model_module_version": "1.0.0",
      "model_name": "LayoutModel",
      "state": {}
     },
     "21f5849d07b3473885fecce53d0e112c": {
      "model_module": "@jupyter-widgets/controls",
      "model_module_version": "1.1.0",
      "model_name": "DescriptionStyleModel",
      "state": {
       "description_width": ""
      }
     },
     "22f66ed53e8e423593a80dfdbe42d767": {
      "model_module": "@jupyter-widgets/controls",
      "model_module_version": "1.1.0",
      "model_name": "LabelModel",
      "state": {
       "layout": "IPY_MODEL_3072555a9e1f4fdba977666bb7ebfa77",
       "style": "IPY_MODEL_fff6cf548d564635b9b9146c8655a150",
       "value": "Select which secondary particle to plot spectra for."
      }
     },
     "234bc26d1bdc454db32ce045f42ba194": {
      "model_module": "@jupyter-widgets/base",
      "model_module_version": "1.0.0",
      "model_name": "LayoutModel",
      "state": {}
     },
     "239861f2318746d8bd9cb83702437d0e": {
      "model_module": "@jupyter-widgets/controls",
      "model_module_version": "1.1.0",
      "model_name": "DescriptionStyleModel",
      "state": {
       "description_width": ""
      }
     },
     "23c05b24f4314aa78519265ec6bd84df": {
      "model_module": "@jupyter-widgets/base",
      "model_module_version": "1.0.0",
      "model_name": "LayoutModel",
      "state": {}
     },
     "23fb7853f7e54cb294e395420afca9f4": {
      "model_module": "@jupyter-widgets/controls",
      "model_module_version": "1.1.0",
      "model_name": "ToggleButtonsStyleModel",
      "state": {
       "button_width": "",
       "description_width": ""
      }
     },
     "24ba17d9774d4073a4e994a25d40d51d": {
      "model_module": "@jupyter-widgets/controls",
      "model_module_version": "1.1.0",
      "model_name": "CheckboxModel",
      "state": {
       "description": "45°",
       "disabled": false,
       "layout": "IPY_MODEL_41c6123353a245d989a8bde1b0c20baa",
       "style": "IPY_MODEL_d0cf31ea782242468beb9758d21f489e",
       "value": true
      }
     },
     "25054629341f40a6af0ec20bd4256753": {
      "model_module": "@jupyter-widgets/controls",
      "model_module_version": "1.1.0",
      "model_name": "ToggleButtonsStyleModel",
      "state": {
       "button_width": "",
       "description_width": ""
      }
     },
     "25e876c3f90c4f3f8dfd969e5d91c1a4": {
      "model_module": "@jupyter-widgets/controls",
      "model_module_version": "1.1.0",
      "model_name": "DescriptionStyleModel",
      "state": {
       "description_width": ""
      }
     },
     "2600d26c307b4d64b61cddbb1c9c8bf9": {
      "model_module": "@jupyter-widgets/controls",
      "model_module_version": "1.1.0",
      "model_name": "ToggleButtonsStyleModel",
      "state": {
       "button_width": "",
       "description_width": ""
      }
     },
     "2696caeb870d4dfaaa013481d2df2f9b": {
      "model_module": "@jupyter-widgets/controls",
      "model_module_version": "1.1.0",
      "model_name": "DescriptionStyleModel",
      "state": {
       "description_width": ""
      }
     },
     "28327983a7144dda802785386bf344e5": {
      "model_module": "@jupyter-widgets/controls",
      "model_module_version": "1.1.0",
      "model_name": "DescriptionStyleModel",
      "state": {
       "description_width": ""
      }
     },
     "2858d126397546b8be1f6caa310f86de": {
      "model_module": "@jupyter-widgets/controls",
      "model_module_version": "1.1.0",
      "model_name": "LabelModel",
      "state": {
       "layout": "IPY_MODEL_0ce14b6fac51407f83c6f33e8133ce9d",
       "style": "IPY_MODEL_2bbc794ed60648fab66a3d5753df3d8d",
       "value": "Select which secondary particle to plot spectra for."
      }
     },
     "290f6517a4974413ac77c8839dbff117": {
      "model_module": "@jupyter-widgets/controls",
      "model_module_version": "1.1.0",
      "model_name": "LabelModel",
      "state": {
       "layout": "IPY_MODEL_30407ff8bcd242f292717ae55fc69e0f",
       "style": "IPY_MODEL_6efdb2340e02451a9552572577528872",
       "value": "Select the detector angles to plot."
      }
     },
     "295d5bb3ce65469a9acd54ef9b27d655": {
      "model_module": "@jupyter-widgets/base",
      "model_module_version": "1.0.0",
      "model_name": "LayoutModel",
      "state": {}
     },
     "29d3db93db314a9b95c0d4046ba54a75": {
      "model_module": "@jupyter-widgets/controls",
      "model_module_version": "1.1.0",
      "model_name": "LabelModel",
      "state": {
       "layout": "IPY_MODEL_a2c7c3cfda034156a7273cf99e275eaa",
       "style": "IPY_MODEL_b71cf0c8c619417dbee68c5f6ac1d3c4",
       "value": "Select which secondary particle to plot spectra for."
      }
     },
     "29f318090a064ca9b5eec01d4439e4e1": {
      "model_module": "@jupyter-widgets/controls",
      "model_module_version": "1.1.0",
      "model_name": "DescriptionStyleModel",
      "state": {
       "description_width": ""
      }
     },
     "2a0913dcf72e411ca80f20d125322405": {
      "model_module": "@jupyter-widgets/base",
      "model_module_version": "1.0.0",
      "model_name": "LayoutModel",
      "state": {}
     },
     "2a56e738a39c42b7ae89d38553519993": {
      "model_module": "@jupyter-widgets/controls",
      "model_module_version": "1.1.0",
      "model_name": "DescriptionStyleModel",
      "state": {
       "description_width": ""
      }
     },
     "2b77daaeab2946b6ae613f67e7e60193": {
      "model_module": "@jupyter-widgets/base",
      "model_module_version": "1.0.0",
      "model_name": "LayoutModel",
      "state": {}
     },
     "2bbc794ed60648fab66a3d5753df3d8d": {
      "model_module": "@jupyter-widgets/controls",
      "model_module_version": "1.1.0",
      "model_name": "DescriptionStyleModel",
      "state": {
       "description_width": ""
      }
     },
     "2bd1282aaefa4b4a9f8b526e7564db41": {
      "model_module": "@jupyter-widgets/base",
      "model_module_version": "1.0.0",
      "model_name": "LayoutModel",
      "state": {}
     },
     "2be8b6480e1545259a4a3740279c1431": {
      "model_module": "@jupyter-widgets/controls",
      "model_module_version": "1.1.0",
      "model_name": "ToggleButtonsModel",
      "state": {
       "_options_labels": [
        "OLS",
        "NaI"
       ],
       "button_style": "",
       "description": "Type:",
       "icons": [],
       "index": 1,
       "layout": "IPY_MODEL_1bc0fe1be6aa4c15aa1668a0dca5fca8",
       "style": "IPY_MODEL_7c5ed978785a429b9b206f69e356bafc",
       "tooltips": [
        "Organic Liquid Scintillator",
        "Sodium Iodide"
       ]
      }
     },
     "2c85b3e482da47e086ca2c80ce8a29bb": {
      "model_module": "@jupyter-widgets/base",
      "model_module_version": "1.0.0",
      "model_name": "LayoutModel",
      "state": {}
     },
     "2e747fb81d244092853eacf0aec85b3a": {
      "model_module": "@jupyter-widgets/controls",
      "model_module_version": "1.1.0",
      "model_name": "DescriptionStyleModel",
      "state": {
       "description_width": ""
      }
     },
     "2f5368399fa8407bae759281254513f9": {
      "model_module": "@jupyter-widgets/controls",
      "model_module_version": "1.1.0",
      "model_name": "DescriptionStyleModel",
      "state": {
       "description_width": ""
      }
     },
     "2f90a84a8e5c4438a30a321412b6b726": {
      "model_module": "@jupyter-widgets/controls",
      "model_module_version": "1.1.0",
      "model_name": "CheckboxModel",
      "state": {
       "description": "MCNP simulated",
       "disabled": false,
       "layout": "IPY_MODEL_e2afa7cfcc1a41298897da78530a081d",
       "style": "IPY_MODEL_c7742e8a78a045c891f17eec533ac65f",
       "value": true
      }
     },
     "3036287ca66040449e0295f0336a10af": {
      "model_module": "@jupyter-widgets/controls",
      "model_module_version": "1.1.0",
      "model_name": "LabelModel",
      "state": {
       "layout": "IPY_MODEL_62f47ee6e3cb4a56973a12d78275a05a",
       "style": "IPY_MODEL_c664c34b4b654a61976bd21113e6d4e2",
       "value": "Select projectile ion species."
      }
     },
     "30407ff8bcd242f292717ae55fc69e0f": {
      "model_module": "@jupyter-widgets/base",
      "model_module_version": "1.0.0",
      "model_name": "LayoutModel",
      "state": {}
     },
     "3063300bc4d141a08987333120dcb617": {
      "model_module": "@jupyter-widgets/controls",
      "model_module_version": "1.1.0",
      "model_name": "CheckboxModel",
      "state": {
       "description": "135°",
       "disabled": false,
       "layout": "IPY_MODEL_6f33bde3f7e847a7afdbce2b29b2dce2",
       "style": "IPY_MODEL_16315db0526c431084ebae78a9d1afad",
       "value": true
      }
     },
     "3072555a9e1f4fdba977666bb7ebfa77": {
      "model_module": "@jupyter-widgets/base",
      "model_module_version": "1.0.0",
      "model_name": "LayoutModel",
      "state": {}
     },
     "30eed5373ec5436fbf0a748621ee4f21": {
      "model_module": "@jupyter-widgets/controls",
      "model_module_version": "1.1.0",
      "model_name": "CheckboxModel",
      "state": {
       "description": "30°",
       "disabled": false,
       "layout": "IPY_MODEL_4a5c8be0fd00483fa1bdf40cefc5198e",
       "style": "IPY_MODEL_74d5f9b4ab8d4302a37bd20f9f9f0e08",
       "value": true
      }
     },
     "325639152adf4b15b3b1051041ae68eb": {
      "model_module": "@jupyter-widgets/base",
      "model_module_version": "1.0.0",
      "model_name": "LayoutModel",
      "state": {}
     },
     "340227b1db3b4b7e99a991a1fcad0316": {
      "model_module": "@jupyter-widgets/base",
      "model_module_version": "1.0.0",
      "model_name": "LayoutModel",
      "state": {}
     },
     "343114b504ce43fda824ef0816453850": {
      "model_module": "@jupyter-widgets/controls",
      "model_module_version": "1.1.0",
      "model_name": "DescriptionStyleModel",
      "state": {
       "description_width": ""
      }
     },
     "351ce5e01dad43c699861b74f5ad7e01": {
      "model_module": "@jupyter-widgets/base",
      "model_module_version": "1.0.0",
      "model_name": "LayoutModel",
      "state": {}
     },
     "35931f67715d4c6a9251af2ea03c446a": {
      "model_module": "@jupyter-widgets/controls",
      "model_module_version": "1.1.0",
      "model_name": "DescriptionStyleModel",
      "state": {
       "description_width": ""
      }
     },
     "370f4ee7c2e44db992d620b6a6ceb2dd": {
      "model_module": "@jupyter-widgets/controls",
      "model_module_version": "1.1.0",
      "model_name": "DescriptionStyleModel",
      "state": {
       "description_width": ""
      }
     },
     "37dbef5250e14c26b5ef5bd7f3fa56d6": {
      "model_module": "@jupyter-widgets/controls",
      "model_module_version": "1.1.0",
      "model_name": "ToggleButtonsModel",
      "state": {
       "_options_labels": [
        "OLS",
        "NaI"
       ],
       "button_style": "",
       "description": "Type:",
       "icons": [],
       "index": 0,
       "layout": "IPY_MODEL_a7271008a8924a56badb7451ba5fb3db",
       "style": "IPY_MODEL_f8c6878758504288a4ef98490a7bf179",
       "tooltips": [
        "Organic Liquid Scintillator",
        "Sodium Iodide"
       ]
      }
     },
     "3804a43a83904c60a62391076b5dbb2c": {
      "model_module": "@jupyter-widgets/base",
      "model_module_version": "1.0.0",
      "model_name": "LayoutModel",
      "state": {}
     },
     "387c26afccf64375a0a6f06243572aea": {
      "model_module": "@jupyter-widgets/controls",
      "model_module_version": "1.1.0",
      "model_name": "DescriptionStyleModel",
      "state": {
       "description_width": ""
      }
     },
     "388644282a824885afb9277afeea4f70": {
      "model_module": "@jupyter-widgets/base",
      "model_module_version": "1.0.0",
      "model_name": "LayoutModel",
      "state": {}
     },
     "38d579e3bb154fefb863b0dac675d366": {
      "model_module": "@jupyter-widgets/controls",
      "model_module_version": "1.1.0",
      "model_name": "CheckboxModel",
      "state": {
       "description": "30°",
       "disabled": false,
       "layout": "IPY_MODEL_52ad8bb78cee422c90dad374940fe913",
       "style": "IPY_MODEL_c011c67b02e846f88f4fa9afc9ba4323",
       "value": true
      }
     },
     "38e556317afc4ef3b3e660e02239fc61": {
      "model_module": "@jupyter-widgets/base",
      "model_module_version": "1.0.0",
      "model_name": "LayoutModel",
      "state": {}
     },
     "399c7aed982148b7812e34ed0bb543ff": {
      "model_module": "@jupyter-widgets/controls",
      "model_module_version": "1.1.0",
      "model_name": "ToggleButtonsModel",
      "state": {
       "_options_labels": [
        "OLS",
        "NaI"
       ],
       "button_style": "",
       "description": "Detectory type:",
       "icons": [],
       "index": 0,
       "layout": "IPY_MODEL_295d5bb3ce65469a9acd54ef9b27d655",
       "style": "IPY_MODEL_89a398c8217f431ea4a51d7fbe9f240e",
       "tooltips": [
        "Organic Liquid Scintillator",
        "Sodium Iodide"
       ]
      }
     },
     "39d8364dc2564b2ebd83bafec9c69e43": {
      "model_module": "@jupyter-widgets/controls",
      "model_module_version": "1.1.0",
      "model_name": "CheckboxModel",
      "state": {
       "description": "PHITS simulated",
       "disabled": false,
       "layout": "IPY_MODEL_f6f17ed301d94057a0bc97f27e6b7024",
       "style": "IPY_MODEL_465429e0249e4ed895c7a339c506965d",
       "value": true
      }
     },
     "3a19cc5c39f047ad823d1c15fd11c6ba": {
      "model_module": "@jupyter-widgets/controls",
      "model_module_version": "1.1.0",
      "model_name": "DescriptionStyleModel",
      "state": {
       "description_width": ""
      }
     },
     "3a28181ffb7c48c8a0db5f7b94a0b7b9": {
      "model_module": "@jupyter-widgets/base",
      "model_module_version": "1.0.0",
      "model_name": "LayoutModel",
      "state": {}
     },
     "3aabbbe295924549ad6199485064a91b": {
      "model_module": "@jupyter-widgets/controls",
      "model_module_version": "1.1.0",
      "model_name": "DescriptionStyleModel",
      "state": {
       "description_width": ""
      }
     },
     "3b19f73ad74f454db3d139044ffae906": {
      "model_module": "@jupyter-widgets/controls",
      "model_module_version": "1.1.0",
      "model_name": "CheckboxModel",
      "state": {
       "description": "7.2°",
       "disabled": false,
       "layout": "IPY_MODEL_a809e08561f34af1bf29fb92f9f1b6c2",
       "style": "IPY_MODEL_21f5849d07b3473885fecce53d0e112c",
       "value": true
      }
     },
     "3c1a1d7cb0484238a4722a24501e0519": {
      "model_module": "@jupyter-widgets/controls",
      "model_module_version": "1.1.0",
      "model_name": "ToggleButtonsModel",
      "state": {
       "_options_labels": [
        "H",
        "He",
        "C",
        "Si",
        "Fe"
       ],
       "button_style": "",
       "description": "Ion:",
       "icons": [],
       "index": 1,
       "layout": "IPY_MODEL_87129d9865714036ae427bf5d22d6393",
       "style": "IPY_MODEL_65e71b95a6c041509430f4fb06897811",
       "tooltips": [
        "Hydrogen",
        "Helium",
        "Carbon",
        "Silicon",
        "Iron"
       ]
      }
     },
     "3cb83558997740aeb1dbac5417186059": {
      "model_module": "@jupyter-widgets/controls",
      "model_module_version": "1.1.0",
      "model_name": "DescriptionStyleModel",
      "state": {
       "description_width": ""
      }
     },
     "3ea7154df9b74a139506c0f40dc800f4": {
      "model_module": "@jupyter-widgets/controls",
      "model_module_version": "1.1.0",
      "model_name": "LabelModel",
      "state": {
       "layout": "IPY_MODEL_d7eefa870f8c4d0e9c21967a295082e0",
       "style": "IPY_MODEL_995e5fbf85fb4011ade0b12ae8d72130",
       "value": "Select a detector type."
      }
     },
     "3f11f31719bb4615b8e63eafeabda928": {
      "model_module": "@jupyter-widgets/base",
      "model_module_version": "1.0.0",
      "model_name": "LayoutModel",
      "state": {}
     },
     "3f3603034f324ad993c0645e021adfa3": {
      "model_module": "@jupyter-widgets/base",
      "model_module_version": "1.0.0",
      "model_name": "LayoutModel",
      "state": {}
     },
     "3f593129ac0c4ef0a9f064af47474b22": {
      "model_module": "@jupyter-widgets/base",
      "model_module_version": "1.0.0",
      "model_name": "LayoutModel",
      "state": {}
     },
     "3fa0dbfe0fbf4acf816f9fe48781f1e6": {
      "model_module": "@jupyter-widgets/controls",
      "model_module_version": "1.1.0",
      "model_name": "DescriptionStyleModel",
      "state": {
       "description_width": ""
      }
     },
     "3fa362803ddd4c109c430794792cdfe2": {
      "model_module": "@jupyter-widgets/controls",
      "model_module_version": "1.1.0",
      "model_name": "ToggleButtonsModel",
      "state": {
       "_options_labels": [
        "OLS",
        "NaI"
       ],
       "button_style": "",
       "description": "Type:",
       "icons": [],
       "index": 0,
       "layout": "IPY_MODEL_046224b054b0448ea8e0ed8ad64c4b05",
       "style": "IPY_MODEL_caccc658e39e4d8eab1327632eccbe34",
       "tooltips": [
        "Organic Liquid Scintillator",
        "Sodium Iodide"
       ]
      }
     },
     "4088ba6d018e4e63a876d816450947aa": {
      "model_module": "@jupyter-widgets/controls",
      "model_module_version": "1.1.0",
      "model_name": "DescriptionStyleModel",
      "state": {
       "description_width": ""
      }
     },
     "40ddbb06e0014ae08ff988866adf07c1": {
      "model_module": "@jupyter-widgets/base",
      "model_module_version": "1.0.0",
      "model_name": "LayoutModel",
      "state": {}
     },
     "41c6123353a245d989a8bde1b0c20baa": {
      "model_module": "@jupyter-widgets/base",
      "model_module_version": "1.0.0",
      "model_name": "LayoutModel",
      "state": {}
     },
     "41e3926362f243e19a8320c94d209953": {
      "model_module": "@jupyter-widgets/base",
      "model_module_version": "1.0.0",
      "model_name": "LayoutModel",
      "state": {}
     },
     "45ced6062b084a298ed3dcf78ffa98a6": {
      "model_module": "@jupyter-widgets/controls",
      "model_module_version": "1.1.0",
      "model_name": "CheckboxModel",
      "state": {
       "description": "30°",
       "disabled": false,
       "layout": "IPY_MODEL_93c0c364b777479483d8dde8303cd5c9",
       "style": "IPY_MODEL_d489953aa27748ca809f2bfa6fcbdbf6",
       "value": true
      }
     },
     "4613f06e102346389509918e945271e4": {
      "model_module": "@jupyter-widgets/base",
      "model_module_version": "1.0.0",
      "model_name": "LayoutModel",
      "state": {}
     },
     "465429e0249e4ed895c7a339c506965d": {
      "model_module": "@jupyter-widgets/controls",
      "model_module_version": "1.1.0",
      "model_name": "DescriptionStyleModel",
      "state": {
       "description_width": ""
      }
     },
     "4693c63a28be4976a31169004a8d002b": {
      "model_module": "@jupyter-widgets/base",
      "model_module_version": "1.0.0",
      "model_name": "LayoutModel",
      "state": {}
     },
     "46e450b0cee34e4fa614f8ded0109b65": {
      "model_module": "@jupyter-widgets/controls",
      "model_module_version": "1.1.0",
      "model_name": "CheckboxModel",
      "state": {
       "description": "60°",
       "disabled": false,
       "layout": "IPY_MODEL_151abc60134044d5a94d1ed2cc538c10",
       "style": "IPY_MODEL_c13fad6c897e49fc95a5190bb1a14f16",
       "value": true
      }
     },
     "47b451d0705f4e5a99278ecb7a32fa14": {
      "model_module": "@jupyter-widgets/controls",
      "model_module_version": "1.1.0",
      "model_name": "DescriptionStyleModel",
      "state": {
       "description_width": ""
      }
     },
     "47ba5787fa4d46a29489a5bff9350ee7": {
      "model_module": "@jupyter-widgets/controls",
      "model_module_version": "1.1.0",
      "model_name": "CheckboxModel",
      "state": {
       "description": "30°",
       "disabled": false,
       "layout": "IPY_MODEL_9c713958352b42d49e7d241ff01017a5",
       "style": "IPY_MODEL_7286703e5c1347568193beac71fefb31",
       "value": true
      }
     },
     "49015ebd8031493a918323f27b6acefc": {
      "model_module": "@jupyter-widgets/controls",
      "model_module_version": "1.1.0",
      "model_name": "ToggleButtonsModel",
      "state": {
       "_options_labels": [
        "OLS",
        "NaI"
       ],
       "button_style": "",
       "description": "Type:",
       "icons": [],
       "index": 1,
       "layout": "IPY_MODEL_0eefed4c26c24fdd9b4b7a338ffa2d06",
       "style": "IPY_MODEL_e975e26b0362471590a595e5711b6a02",
       "tooltips": [
        "Organic Liquid Scintillator",
        "Sodium Iodide"
       ]
      }
     },
     "491c68a6d7dc4e31a54fc9b25206b9e1": {
      "model_module": "@jupyter-widgets/controls",
      "model_module_version": "1.1.0",
      "model_name": "CheckboxModel",
      "state": {
       "description": "30°",
       "disabled": false,
       "layout": "IPY_MODEL_a6d31dec6d624b0f98c06300248662ea",
       "style": "IPY_MODEL_f8a211f64f1f4f378bcaa6dd3f50b1db",
       "value": true
      }
     },
     "494ed35864824a06877c2dfcc5d747f6": {
      "model_module": "@jupyter-widgets/base",
      "model_module_version": "1.0.0",
      "model_name": "LayoutModel",
      "state": {}
     },
     "49d97c629783467eaf05427d54689f46": {
      "model_module": "@jupyter-widgets/controls",
      "model_module_version": "1.1.0",
      "model_name": "DescriptionStyleModel",
      "state": {
       "description_width": ""
      }
     },
     "4a4c72c0f9b94ba490d720133e36dbf4": {
      "model_module": "@jupyter-widgets/controls",
      "model_module_version": "1.1.0",
      "model_name": "CheckboxModel",
      "state": {
       "description": "12.7°",
       "disabled": false,
       "layout": "IPY_MODEL_d045ed28e7f443a492a3b0a8c145e6bd",
       "style": "IPY_MODEL_29f318090a064ca9b5eec01d4439e4e1",
       "value": true
      }
     },
     "4a5c8be0fd00483fa1bdf40cefc5198e": {
      "model_module": "@jupyter-widgets/base",
      "model_module_version": "1.0.0",
      "model_name": "LayoutModel",
      "state": {}
     },
     "4aa68107177a4fe48b628bb095f66180": {
      "model_module": "@jupyter-widgets/controls",
      "model_module_version": "1.1.0",
      "model_name": "DescriptionStyleModel",
      "state": {
       "description_width": ""
      }
     },
     "4b22a219bb39429aadfbe3662ab9344e": {
      "model_module": "@jupyter-widgets/controls",
      "model_module_version": "1.1.0",
      "model_name": "ToggleButtonsStyleModel",
      "state": {
       "button_width": "",
       "description_width": ""
      }
     },
     "4b60212ad09e40aa9508e02ca4d54fdc": {
      "model_module": "@jupyter-widgets/base",
      "model_module_version": "1.0.0",
      "model_name": "LayoutModel",
      "state": {}
     },
     "4b608a358fb24ba08d1a806019468afe": {
      "model_module": "@jupyter-widgets/controls",
      "model_module_version": "1.1.0",
      "model_name": "DescriptionStyleModel",
      "state": {
       "description_width": ""
      }
     },
     "4e376709764449dcb347924ebfde00e6": {
      "model_module": "@jupyter-widgets/controls",
      "model_module_version": "1.1.0",
      "model_name": "DescriptionStyleModel",
      "state": {
       "description_width": ""
      }
     },
     "4f1190b8cbda46f889e0baa7d9929de6": {
      "model_module": "@jupyter-widgets/controls",
      "model_module_version": "1.1.0",
      "model_name": "DescriptionStyleModel",
      "state": {
       "description_width": ""
      }
     },
     "4f7ecca2fa244146b4cb33d2ca6396d3": {
      "model_module": "@jupyter-widgets/controls",
      "model_module_version": "1.1.0",
      "model_name": "ToggleButtonsModel",
      "state": {
       "_options_labels": [
        "Al",
        "HDPE",
        "AlPE"
       ],
       "button_style": "",
       "description": "Material:",
       "icons": [],
       "index": 0,
       "layout": "IPY_MODEL_a17c6908c7eb480ea1cd7598a0c8cf81",
       "style": "IPY_MODEL_943d6b62d3784ae79ad92e1c89bec15d",
       "tooltips": [
        "Aluminum",
        "Polyethylene",
        "Combination of Al and HDPE"
       ]
      }
     },
     "4ffd4cfb70074db8ac07d1d8cf7325d6": {
      "model_module": "@jupyter-widgets/base",
      "model_module_version": "1.0.0",
      "model_name": "LayoutModel",
      "state": {}
     },
     "5014b7d0d7cd4fffb76abe2230de4cc7": {
      "model_module": "@jupyter-widgets/controls",
      "model_module_version": "1.1.0",
      "model_name": "CheckboxModel",
      "state": {
       "description": "60°",
       "disabled": false,
       "layout": "IPY_MODEL_99c2da3db1304b69bdb9ff3d14c51e3e",
       "style": "IPY_MODEL_e276e5c685494292b6190b0bad23e9f6",
       "value": true
      }
     },
     "507aa9e67bd74d07bc90b72a6b489cb3": {
      "model_module": "@jupyter-widgets/controls",
      "model_module_version": "1.1.0",
      "model_name": "CheckboxModel",
      "state": {
       "description": "Experiment",
       "disabled": false,
       "layout": "IPY_MODEL_dddc16ed883246f0815715672f5991bf",
       "style": "IPY_MODEL_2a56e738a39c42b7ae89d38553519993",
       "value": true
      }
     },
     "50ac177e718e4ad88a72239deb018207": {
      "model_module": "@jupyter-widgets/controls",
      "model_module_version": "1.1.0",
      "model_name": "CheckboxModel",
      "state": {
       "description": "10°",
       "disabled": false,
       "layout": "IPY_MODEL_5bce7c35e254453d81e41fcc938c00ac",
       "style": "IPY_MODEL_fc3c7d1c3a824bc4a7ab4ae7d3a76502",
       "value": true
      }
     },
     "50bf5b82fdcf40549f30bc8f10000f32": {
      "model_module": "@jupyter-widgets/base",
      "model_module_version": "1.0.0",
      "model_name": "LayoutModel",
      "state": {}
     },
     "511397ef520f48a1bd18a902ecf23138": {
      "model_module": "@jupyter-widgets/controls",
      "model_module_version": "1.1.0",
      "model_name": "LabelModel",
      "state": {
       "layout": "IPY_MODEL_d921a36675004b3d9263529f7b8473c8",
       "style": "IPY_MODEL_4b608a358fb24ba08d1a806019468afe",
       "value": "Select which secondary particle to plot spectra for."
      }
     },
     "517769533b984abe859dc81af6864c67": {
      "model_module": "@jupyter-widgets/controls",
      "model_module_version": "1.1.0",
      "model_name": "DescriptionStyleModel",
      "state": {
       "description_width": ""
      }
     },
     "51b6948d26ac4208adc465035d6b9140": {
      "model_module": "@jupyter-widgets/base",
      "model_module_version": "1.0.0",
      "model_name": "LayoutModel",
      "state": {}
     },
     "5245f077e25a410482d2210652e901bf": {
      "model_module": "@jupyter-widgets/base",
      "model_module_version": "1.0.0",
      "model_name": "LayoutModel",
      "state": {}
     },
     "52ad8bb78cee422c90dad374940fe913": {
      "model_module": "@jupyter-widgets/base",
      "model_module_version": "1.0.0",
      "model_name": "LayoutModel",
      "state": {}
     },
     "53cb2360d4f441c387b3d5e6a9f15d9b": {
      "model_module": "@jupyter-widgets/controls",
      "model_module_version": "1.1.0",
      "model_name": "CheckboxModel",
      "state": {
       "description": "Experiment",
       "disabled": false,
       "layout": "IPY_MODEL_2166ce61f48441109f67d654dd830c66",
       "style": "IPY_MODEL_765e107b085741a78596fb1663fbafdb",
       "value": true
      }
     },
     "548e6d09d18b4f059585b74202e21847": {
      "model_module": "@jupyter-widgets/controls",
      "model_module_version": "1.1.0",
      "model_name": "CheckboxModel",
      "state": {
       "description": "30°",
       "disabled": false,
       "layout": "IPY_MODEL_9de1a2aa769f47d29e37631d7962d1c9",
       "style": "IPY_MODEL_6c4eb150c9cf4b37b964232ca3b5107b",
       "value": true
      }
     },
     "54a5c06de8ce4adcbd71df8fd771b4c4": {
      "model_module": "@jupyter-widgets/controls",
      "model_module_version": "1.1.0",
      "model_name": "CheckboxModel",
      "state": {
       "description": "Experiment",
       "disabled": false,
       "layout": "IPY_MODEL_fe5af945dcef46c08027357980776cea",
       "style": "IPY_MODEL_af90e3c5f03a4a37aec96c93311885e7",
       "value": true
      }
     },
     "54a6008ce254488abca9239c5aee6363": {
      "model_module": "@jupyter-widgets/controls",
      "model_module_version": "1.1.0",
      "model_name": "DescriptionStyleModel",
      "state": {
       "description_width": ""
      }
     },
     "54bb34b4459744c28505bd086292de89": {
      "model_module": "@jupyter-widgets/controls",
      "model_module_version": "1.1.0",
      "model_name": "LabelModel",
      "state": {
       "layout": "IPY_MODEL_38e556317afc4ef3b3e660e02239fc61",
       "style": "IPY_MODEL_69cb1aa93beb4082943a60af9ea045db",
       "value": "Select which secondary particle to plot spectra for."
      }
     },
     "55a5703aec6e4ddf86fb580bdcbfe484": {
      "model_module": "@jupyter-widgets/controls",
      "model_module_version": "1.1.0",
      "model_name": "ToggleButtonsStyleModel",
      "state": {
       "button_width": "",
       "description_width": ""
      }
     },
     "56c41aa0c12e46e6981fa32b272843b1": {
      "model_module": "@jupyter-widgets/controls",
      "model_module_version": "1.1.0",
      "model_name": "LabelModel",
      "state": {
       "layout": "IPY_MODEL_bd7e163492cd48788cd5ed22903d5cb0",
       "style": "IPY_MODEL_8481447982d94de88852576479b803bf",
       "value": "Select upstream target mass thickness."
      }
     },
     "571570d1fdb24024b81f8c526ee80215": {
      "model_module": "@jupyter-widgets/base",
      "model_module_version": "1.0.0",
      "model_name": "LayoutModel",
      "state": {}
     },
     "579b23b91a274968b23c4c340dc437c9": {
      "model_module": "@jupyter-widgets/controls",
      "model_module_version": "1.1.0",
      "model_name": "LabelModel",
      "state": {
       "layout": "IPY_MODEL_0337ce54a5744c2592c741f8bf0da893",
       "style": "IPY_MODEL_aa55f5a5dd764cc8a6295cbe1e5903bd",
       "value": "Select the detector angles to plot."
      }
     },
     "591983d72d9a4707a025102bf48ee6a2": {
      "model_module": "@jupyter-widgets/base",
      "model_module_version": "1.0.0",
      "model_name": "LayoutModel",
      "state": {}
     },
     "593b60d7d69a4650828cd601b908e6b9": {
      "model_module": "@jupyter-widgets/controls",
      "model_module_version": "1.1.0",
      "model_name": "DescriptionStyleModel",
      "state": {
       "description_width": ""
      }
     },
     "596ea217ac164fedaf51f67142124c58": {
      "model_module": "@jupyter-widgets/base",
      "model_module_version": "1.0.0",
      "model_name": "LayoutModel",
      "state": {}
     },
     "59d88d47bdd14c89a862b29a2a531ba7": {
      "model_module": "@jupyter-widgets/controls",
      "model_module_version": "1.1.0",
      "model_name": "DescriptionStyleModel",
      "state": {
       "description_width": ""
      }
     },
     "5a1015870ae041e78d2db8b9d6e4d69b": {
      "model_module": "@jupyter-widgets/controls",
      "model_module_version": "1.1.0",
      "model_name": "DescriptionStyleModel",
      "state": {
       "description_width": ""
      }
     },
     "5af719f86866423986c2dfaf7aaf50e7": {
      "model_module": "@jupyter-widgets/controls",
      "model_module_version": "1.1.0",
      "model_name": "DescriptionStyleModel",
      "state": {
       "description_width": ""
      }
     },
     "5b62b7eeb86143959158e4085d77bb88": {
      "model_module": "@jupyter-widgets/base",
      "model_module_version": "1.0.0",
      "model_name": "LayoutModel",
      "state": {}
     },
     "5bce7c35e254453d81e41fcc938c00ac": {
      "model_module": "@jupyter-widgets/base",
      "model_module_version": "1.0.0",
      "model_name": "LayoutModel",
      "state": {}
     },
     "5c0314f0e2ae4326abd5d4ac63c8dc35": {
      "model_module": "@jupyter-widgets/base",
      "model_module_version": "1.0.0",
      "model_name": "LayoutModel",
      "state": {}
     },
     "5db4a76a5eaf4c35be662857f3463261": {
      "model_module": "@jupyter-widgets/controls",
      "model_module_version": "1.1.0",
      "model_name": "ToggleButtonsStyleModel",
      "state": {
       "button_width": "",
       "description_width": ""
      }
     },
     "5ddedfa45f4d484bbf9c56c2604ab531": {
      "model_module": "@jupyter-widgets/base",
      "model_module_version": "1.0.0",
      "model_name": "LayoutModel",
      "state": {}
     },
     "5ddfe0cd2fbd43968f57d4aeffbcbffc": {
      "model_module": "@jupyter-widgets/controls",
      "model_module_version": "1.1.0",
      "model_name": "LabelModel",
      "state": {
       "layout": "IPY_MODEL_6fa780b99cce4d4dbb5783b0de1bf822",
       "style": "IPY_MODEL_eefe43499ee44524b93df0bdab9d7141",
       "value": "Select a detector type."
      }
     },
     "5de24e98135c4d4e84d09043ba2038ef": {
      "model_module": "@jupyter-widgets/controls",
      "model_module_version": "1.1.0",
      "model_name": "DescriptionStyleModel",
      "state": {
       "description_width": ""
      }
     },
     "5e26460dacad4849ad851395b6f30865": {
      "model_module": "@jupyter-widgets/base",
      "model_module_version": "1.0.0",
      "model_name": "LayoutModel",
      "state": {}
     },
     "5e4cae0c677c4d1292f81af524b4844e": {
      "model_module": "@jupyter-widgets/controls",
      "model_module_version": "1.1.0",
      "model_name": "ToggleButtonsModel",
      "state": {
       "_options_labels": [
        "Al",
        "HDPE",
        "AlPE"
       ],
       "button_style": "",
       "description": "Material:",
       "icons": [],
       "index": 0,
       "layout": "IPY_MODEL_9087e4c8a51d43b89f7b2d48774e20ca",
       "style": "IPY_MODEL_25054629341f40a6af0ec20bd4256753",
       "tooltips": [
        "Aluminum",
        "Polyethylene",
        "Combination of Al and HDPE"
       ]
      }
     },
     "5e74ab53a2d343b3b07119aa26b13b7a": {
      "model_module": "@jupyter-widgets/controls",
      "model_module_version": "1.1.0",
      "model_name": "ToggleButtonsModel",
      "state": {
       "_options_labels": [
        "20 g/cm²",
        "60 g/cm²"
       ],
       "button_style": "",
       "description": "Thickness:",
       "icons": [],
       "index": 0,
       "layout": "IPY_MODEL_c294a3be598c47f8aa914edf0fe7cf51",
       "style": "IPY_MODEL_909cf672f04645239c0c033e57f32d23",
       "tooltips": [
        "20 g/cm²",
        "60 g/cm²"
       ]
      }
     },
     "5eeab73556e944f6a02fc3c6602ab6db": {
      "model_module": "@jupyter-widgets/controls",
      "model_module_version": "1.1.0",
      "model_name": "CheckboxModel",
      "state": {
       "description": "Experiment",
       "disabled": false,
       "layout": "IPY_MODEL_b696018911824f1c86ca2809ef37ad9b",
       "style": "IPY_MODEL_ad36910402d448bea2dfcd829d332606",
       "value": true
      }
     },
     "5f3a3cd484814c62a6b32cfe26e22d07": {
      "model_module": "@jupyter-widgets/controls",
      "model_module_version": "1.1.0",
      "model_name": "DescriptionStyleModel",
      "state": {
       "description_width": ""
      }
     },
     "5f9da68bc4a6436881daf25b2d7fbca9": {
      "model_module": "@jupyter-widgets/controls",
      "model_module_version": "1.1.0",
      "model_name": "CheckboxModel",
      "state": {
       "description": "12.7°",
       "disabled": false,
       "layout": "IPY_MODEL_5fccd6f8a2e0437eb337d964df7d8bf8",
       "style": "IPY_MODEL_eb3bc749b5bd437384de45b0ff78c72e",
       "value": true
      }
     },
     "5fccd6f8a2e0437eb337d964df7d8bf8": {
      "model_module": "@jupyter-widgets/base",
      "model_module_version": "1.0.0",
      "model_name": "LayoutModel",
      "state": {}
     },
     "5fd143974646441e9efb80cf682ca8a5": {
      "model_module": "@jupyter-widgets/controls",
      "model_module_version": "1.1.0",
      "model_name": "DescriptionStyleModel",
      "state": {
       "description_width": ""
      }
     },
     "5fef06c9b18146629b8db9e6d8647388": {
      "model_module": "@jupyter-widgets/controls",
      "model_module_version": "1.1.0",
      "model_name": "CheckboxModel",
      "state": {
       "description": "MCNP simulated",
       "disabled": false,
       "layout": "IPY_MODEL_ee9508ad87874fd7b8be8d0efe9d98ad",
       "style": "IPY_MODEL_91d7a13d93c940ee9ac51d72694f32fa",
       "value": true
      }
     },
     "603f8ff406b4486193714d0ccbb23ada": {
      "model_module": "@jupyter-widgets/controls",
      "model_module_version": "1.1.0",
      "model_name": "LabelModel",
      "state": {
       "layout": "IPY_MODEL_f4bcbe0acbd54ece9fa7bc6babb7c729",
       "style": "IPY_MODEL_3fa0dbfe0fbf4acf816f9fe48781f1e6",
       "value": "Select how data sets for each detector should be spaced apart (if at all)."
      }
     },
     "60f108fd0bbb440a9b33994693046154": {
      "model_module": "@jupyter-widgets/base",
      "model_module_version": "1.0.0",
      "model_name": "LayoutModel",
      "state": {}
     },
     "6223168c1f55461595981e5ec71396fd": {
      "model_module": "@jupyter-widgets/controls",
      "model_module_version": "1.1.0",
      "model_name": "DescriptionStyleModel",
      "state": {
       "description_width": ""
      }
     },
     "62f47ee6e3cb4a56973a12d78275a05a": {
      "model_module": "@jupyter-widgets/base",
      "model_module_version": "1.0.0",
      "model_name": "LayoutModel",
      "state": {}
     },
     "637ed75ddebd43dbb94e0c153d7585d5": {
      "model_module": "@jupyter-widgets/base",
      "model_module_version": "1.0.0",
      "model_name": "LayoutModel",
      "state": {}
     },
     "63928daf6d25409caff26b7ab36d100a": {
      "model_module": "@jupyter-widgets/controls",
      "model_module_version": "1.1.0",
      "model_name": "DescriptionStyleModel",
      "state": {
       "description_width": ""
      }
     },
     "63fe9245ac9b425e8a327547db9f4687": {
      "model_module": "@jupyter-widgets/controls",
      "model_module_version": "1.1.0",
      "model_name": "DescriptionStyleModel",
      "state": {
       "description_width": ""
      }
     },
     "64153a858c854c5487553455c4b6aa81": {
      "model_module": "@jupyter-widgets/controls",
      "model_module_version": "1.1.0",
      "model_name": "LabelModel",
      "state": {
       "layout": "IPY_MODEL_92067cbd444b473d85b3f7076739fd9c",
       "style": "IPY_MODEL_7e3ae6fd17d4407687fec65ec250680a",
       "value": "Select upstream target mass thickness."
      }
     },
     "650cb3c7e70a4b00a1783df8732a0810": {
      "model_module": "@jupyter-widgets/controls",
      "model_module_version": "1.1.0",
      "model_name": "ToggleButtonsStyleModel",
      "state": {
       "button_width": "",
       "description_width": ""
      }
     },
     "65e71b95a6c041509430f4fb06897811": {
      "model_module": "@jupyter-widgets/controls",
      "model_module_version": "1.1.0",
      "model_name": "ToggleButtonsStyleModel",
      "state": {
       "button_width": "",
       "description_width": ""
      }
     },
     "66d22769793246faba407f3ea4cf3da2": {
      "model_module": "@jupyter-widgets/controls",
      "model_module_version": "1.1.0",
      "model_name": "CheckboxModel",
      "state": {
       "description": "28.2°",
       "disabled": false,
       "layout": "IPY_MODEL_016af3617c1540cb8e02cb71fbe0670e",
       "style": "IPY_MODEL_4e376709764449dcb347924ebfde00e6",
       "value": true
      }
     },
     "6724eacf71144ea5a9f173472ac5361d": {
      "model_module": "@jupyter-widgets/controls",
      "model_module_version": "1.1.0",
      "model_name": "ToggleButtonsModel",
      "state": {
       "_options_labels": [
        "H",
        "He",
        "C",
        "Si",
        "Fe"
       ],
       "button_style": "",
       "description": "Projectile ion:",
       "icons": [],
       "index": 0,
       "layout": "IPY_MODEL_3f593129ac0c4ef0a9f064af47474b22",
       "style": "IPY_MODEL_fa9b0c391269426f8023ac94e5b71181",
       "tooltips": [
        "Hydrogen",
        "Helium",
        "Carbon",
        "Silicon",
        "Iron"
       ]
      }
     },
     "68536405184d4a60ae304a6d135c72e0": {
      "model_module": "@jupyter-widgets/controls",
      "model_module_version": "1.1.0",
      "model_name": "ToggleButtonsModel",
      "state": {
       "_options_labels": [
        "OLS",
        "NaI"
       ],
       "button_style": "",
       "description": "Type:",
       "icons": [],
       "index": 0,
       "layout": "IPY_MODEL_3f3603034f324ad993c0645e021adfa3",
       "style": "IPY_MODEL_a2cdfab85bf5429c9102f70b25547dac",
       "tooltips": [
        "Organic Liquid Scintillator",
        "Sodium Iodide"
       ]
      }
     },
     "6883ad24f900455e8b32a6daa8bef498": {
      "model_module": "@jupyter-widgets/controls",
      "model_module_version": "1.1.0",
      "model_name": "LabelModel",
      "state": {
       "layout": "IPY_MODEL_95f6017c88ec4e5fa9ec9304f81b5c97",
       "style": "IPY_MODEL_e858a2e6bfff44c9a787a49521f4d6a5",
       "value": "Select the detector angles to plot."
      }
     },
     "69cb1aa93beb4082943a60af9ea045db": {
      "model_module": "@jupyter-widgets/controls",
      "model_module_version": "1.1.0",
      "model_name": "DescriptionStyleModel",
      "state": {
       "description_width": ""
      }
     },
     "69d6fc1b35cd4fd4889f882511b76af2": {
      "model_module": "@jupyter-widgets/base",
      "model_module_version": "1.0.0",
      "model_name": "LayoutModel",
      "state": {}
     },
     "6c4eb150c9cf4b37b964232ca3b5107b": {
      "model_module": "@jupyter-widgets/controls",
      "model_module_version": "1.1.0",
      "model_name": "DescriptionStyleModel",
      "state": {
       "description_width": ""
      }
     },
     "6d3d9cc92a434c7a8a960f204f02c617": {
      "model_module": "@jupyter-widgets/controls",
      "model_module_version": "1.1.0",
      "model_name": "CheckboxModel",
      "state": {
       "description": "80°",
       "disabled": false,
       "layout": "IPY_MODEL_340227b1db3b4b7e99a991a1fcad0316",
       "style": "IPY_MODEL_3cb83558997740aeb1dbac5417186059",
       "value": true
      }
     },
     "6d9d797b2c9e4b87a9e458e95b7feada": {
      "model_module": "@jupyter-widgets/controls",
      "model_module_version": "1.1.0",
      "model_name": "CheckboxModel",
      "state": {
       "description": "80°",
       "disabled": false,
       "layout": "IPY_MODEL_d2bfdaf8796e4f56a2b6c2179e47f23d",
       "style": "IPY_MODEL_a63bb1524dbf4b9bbf3bdf8f5fe2f5d3",
       "value": true
      }
     },
     "6ec086756d0f429ba60e593c5186f95a": {
      "model_module": "@jupyter-widgets/controls",
      "model_module_version": "1.1.0",
      "model_name": "CheckboxModel",
      "state": {
       "description": "30°",
       "disabled": false,
       "layout": "IPY_MODEL_8b7e46866cea4c38a77d25c015daca50",
       "style": "IPY_MODEL_3aabbbe295924549ad6199485064a91b",
       "value": true
      }
     },
     "6ed641be538448b99d6974cecabf6f90": {
      "model_module": "@jupyter-widgets/base",
      "model_module_version": "1.0.0",
      "model_name": "LayoutModel",
      "state": {}
     },
     "6efdb2340e02451a9552572577528872": {
      "model_module": "@jupyter-widgets/controls",
      "model_module_version": "1.1.0",
      "model_name": "DescriptionStyleModel",
      "state": {
       "description_width": ""
      }
     },
     "6f1323d47deb4b9686d9df89c7d7ac6f": {
      "model_module": "@jupyter-widgets/controls",
      "model_module_version": "1.1.0",
      "model_name": "LabelModel",
      "state": {
       "layout": "IPY_MODEL_1211d6f9f9e04653a3a58fdd718ac1ef",
       "style": "IPY_MODEL_c1389914301242d88e0eb8c9f2d979db",
       "value": "Select upstream target mass thickness."
      }
     },
     "6f33bde3f7e847a7afdbce2b29b2dce2": {
      "model_module": "@jupyter-widgets/base",
      "model_module_version": "1.0.0",
      "model_name": "LayoutModel",
      "state": {}
     },
     "6fa780b99cce4d4dbb5783b0de1bf822": {
      "model_module": "@jupyter-widgets/base",
      "model_module_version": "1.0.0",
      "model_name": "LayoutModel",
      "state": {}
     },
     "70e3e49badd545ee81554cf95865dfb5": {
      "model_module": "@jupyter-widgets/controls",
      "model_module_version": "1.1.0",
      "model_name": "DescriptionStyleModel",
      "state": {
       "description_width": ""
      }
     },
     "723b720721b24c5a8434a7ef826a2854": {
      "model_module": "@jupyter-widgets/controls",
      "model_module_version": "1.1.0",
      "model_name": "ToggleButtonsModel",
      "state": {
       "_options_labels": [
        "None",
        "Spaced by 10²"
       ],
       "button_style": "",
       "description": "Extra spectra spacing:",
       "icons": [],
       "index": 0,
       "layout": "IPY_MODEL_6ed641be538448b99d6974cecabf6f90",
       "style": "IPY_MODEL_1f772ee58afb4bd29003d5804c7a5fa8",
       "tooltips": [
        "All values are presented as is.",
        "Plots for different detectors are multiplied by powers of 10² for easier viewing."
       ]
      }
     },
     "7286703e5c1347568193beac71fefb31": {
      "model_module": "@jupyter-widgets/controls",
      "model_module_version": "1.1.0",
      "model_name": "DescriptionStyleModel",
      "state": {
       "description_width": ""
      }
     },
     "72b2eebf41ac4c2db75c3a52ac89f3c9": {
      "model_module": "@jupyter-widgets/controls",
      "model_module_version": "1.1.0",
      "model_name": "DescriptionStyleModel",
      "state": {
       "description_width": ""
      }
     },
     "74c570f03064412d9cf963cde7af81de": {
      "model_module": "@jupyter-widgets/base",
      "model_module_version": "1.0.0",
      "model_name": "LayoutModel",
      "state": {}
     },
     "74d5f9b4ab8d4302a37bd20f9f9f0e08": {
      "model_module": "@jupyter-widgets/controls",
      "model_module_version": "1.1.0",
      "model_name": "DescriptionStyleModel",
      "state": {
       "description_width": ""
      }
     },
     "765e107b085741a78596fb1663fbafdb": {
      "model_module": "@jupyter-widgets/controls",
      "model_module_version": "1.1.0",
      "model_name": "DescriptionStyleModel",
      "state": {
       "description_width": ""
      }
     },
     "7751e08282f645879d45fa1ef176160c": {
      "model_module": "@jupyter-widgets/base",
      "model_module_version": "1.0.0",
      "model_name": "LayoutModel",
      "state": {}
     },
     "782db87c193d436fa1ecbad3207aeda2": {
      "model_module": "@jupyter-widgets/controls",
      "model_module_version": "1.1.0",
      "model_name": "DescriptionStyleModel",
      "state": {
       "description_width": ""
      }
     },
     "78b356ec0e924239a93e39437f8718b1": {
      "model_module": "@jupyter-widgets/controls",
      "model_module_version": "1.1.0",
      "model_name": "DescriptionStyleModel",
      "state": {
       "description_width": ""
      }
     },
     "7b1bc3e9163a46f486adaca5822da113": {
      "model_module": "@jupyter-widgets/controls",
      "model_module_version": "1.1.0",
      "model_name": "CheckboxModel",
      "state": {
       "description": "45°",
       "disabled": false,
       "layout": "IPY_MODEL_2c85b3e482da47e086ca2c80ce8a29bb",
       "style": "IPY_MODEL_387c26afccf64375a0a6f06243572aea",
       "value": true
      }
     },
     "7b67634f3b2e4352a0589661be000b81": {
      "model_module": "@jupyter-widgets/base",
      "model_module_version": "1.0.0",
      "model_name": "LayoutModel",
      "state": {}
     },
     "7b9d7b7cf9c04c9a82cd16d7e2bb05b0": {
      "model_module": "@jupyter-widgets/base",
      "model_module_version": "1.0.0",
      "model_name": "LayoutModel",
      "state": {}
     },
     "7c06d94c93634ca3ba27341ff8025071": {
      "model_module": "@jupyter-widgets/controls",
      "model_module_version": "1.1.0",
      "model_name": "DescriptionStyleModel",
      "state": {
       "description_width": ""
      }
     },
     "7c5ed978785a429b9b206f69e356bafc": {
      "model_module": "@jupyter-widgets/controls",
      "model_module_version": "1.1.0",
      "model_name": "ToggleButtonsStyleModel",
      "state": {
       "button_width": "",
       "description_width": ""
      }
     },
     "7c70579abf784376b1a554b329e8f7fa": {
      "model_module": "@jupyter-widgets/controls",
      "model_module_version": "1.1.0",
      "model_name": "ToggleButtonsModel",
      "state": {
       "_options_labels": [
        "N",
        "NDC",
        "P (¹H)",
        "D (²H)",
        "T (³H)",
        "S (³He)",
        "A (⁴He)"
       ],
       "button_style": "",
       "description": "Type:",
       "icons": [],
       "index": 0,
       "layout": "IPY_MODEL_a9dc937c56c4411caf59d9830da98a11",
       "style": "IPY_MODEL_7e0c4c4bc7b84a30acea838ccc642b24",
       "tooltips": [
        "Neutron",
        "Neutron (deconvoluted)",
        "Proton",
        "Deuteron",
        "Triton",
        "Helium-3",
        "Helium-4"
       ]
      }
     },
     "7d2256d3eb4345e9aeaf404c39e8ce44": {
      "model_module": "@jupyter-widgets/base",
      "model_module_version": "1.0.0",
      "model_name": "LayoutModel",
      "state": {}
     },
     "7e0c4c4bc7b84a30acea838ccc642b24": {
      "model_module": "@jupyter-widgets/controls",
      "model_module_version": "1.1.0",
      "model_name": "ToggleButtonsStyleModel",
      "state": {
       "button_width": "",
       "description_width": ""
      }
     },
     "7e3ae6fd17d4407687fec65ec250680a": {
      "model_module": "@jupyter-widgets/controls",
      "model_module_version": "1.1.0",
      "model_name": "DescriptionStyleModel",
      "state": {
       "description_width": ""
      }
     },
     "7f1320fdde3a4eb58bb722ad2e189b3c": {
      "model_module": "@jupyter-widgets/controls",
      "model_module_version": "1.1.0",
      "model_name": "DescriptionStyleModel",
      "state": {
       "description_width": ""
      }
     },
     "8075994223b34609a39d25c6f20d044e": {
      "model_module": "@jupyter-widgets/controls",
      "model_module_version": "1.1.0",
      "model_name": "CheckboxModel",
      "state": {
       "description": "10°",
       "disabled": false,
       "layout": "IPY_MODEL_c4f62b72adc1452e8968212e837e738e",
       "style": "IPY_MODEL_a98d4fcb2b8848f49b8fe75c7e6d9315",
       "value": true
      }
     },
     "80c974a6982d4c27bab83c49568cae82": {
      "model_module": "@jupyter-widgets/base",
      "model_module_version": "1.0.0",
      "model_name": "LayoutModel",
      "state": {}
     },
     "81e2e55fa6dd422b914850ac73a26643": {
      "model_module": "@jupyter-widgets/controls",
      "model_module_version": "1.1.0",
      "model_name": "CheckboxModel",
      "state": {
       "description": "45°",
       "disabled": false,
       "layout": "IPY_MODEL_cfa5fbf828834cb7b861c2382ce6a0a5",
       "style": "IPY_MODEL_782db87c193d436fa1ecbad3207aeda2",
       "value": true
      }
     },
     "829f31e9b0c8410493c37e562657e989": {
      "model_module": "@jupyter-widgets/base",
      "model_module_version": "1.0.0",
      "model_name": "LayoutModel",
      "state": {}
     },
     "831f0e2103974ca39855e891d8bf9214": {
      "model_module": "@jupyter-widgets/controls",
      "model_module_version": "1.1.0",
      "model_name": "DescriptionStyleModel",
      "state": {
       "description_width": ""
      }
     },
     "832f07517fa54c4890183cf7f1373e1c": {
      "model_module": "@jupyter-widgets/base",
      "model_module_version": "1.0.0",
      "model_name": "LayoutModel",
      "state": {}
     },
     "834dbdd244e6451687709413ee684e3d": {
      "model_module": "@jupyter-widgets/base",
      "model_module_version": "1.0.0",
      "model_name": "LayoutModel",
      "state": {}
     },
     "83a3795ebf384c3b924e161522508d10": {
      "model_module": "@jupyter-widgets/base",
      "model_module_version": "1.0.0",
      "model_name": "LayoutModel",
      "state": {}
     },
     "8481447982d94de88852576479b803bf": {
      "model_module": "@jupyter-widgets/controls",
      "model_module_version": "1.1.0",
      "model_name": "DescriptionStyleModel",
      "state": {
       "description_width": ""
      }
     },
     "8619e2f92fc84b56bf2befcf9a623a64": {
      "model_module": "@jupyter-widgets/controls",
      "model_module_version": "1.1.0",
      "model_name": "ToggleButtonsModel",
      "state": {
       "_options_labels": [
        "H",
        "He",
        "C",
        "Si",
        "Fe"
       ],
       "button_style": "",
       "description": "Projectile ion:",
       "icons": [],
       "index": 0,
       "layout": "IPY_MODEL_1d26bbdb345e4228a599082eb1877107",
       "style": "IPY_MODEL_5db4a76a5eaf4c35be662857f3463261",
       "tooltips": [
        "Hydrogen",
        "Helium",
        "Carbon",
        "Silicon",
        "Iron"
       ]
      }
     },
     "8658947a8ee0460091989d36cf0c0b43": {
      "model_module": "@jupyter-widgets/controls",
      "model_module_version": "1.1.0",
      "model_name": "DescriptionStyleModel",
      "state": {
       "description_width": ""
      }
     },
     "87129d9865714036ae427bf5d22d6393": {
      "model_module": "@jupyter-widgets/base",
      "model_module_version": "1.0.0",
      "model_name": "LayoutModel",
      "state": {}
     },
     "889762aa4e644d949a48ea2d57dac50e": {
      "model_module": "@jupyter-widgets/base",
      "model_module_version": "1.0.0",
      "model_name": "LayoutModel",
      "state": {}
     },
     "88e010f0de57407a93a089228c7f5554": {
      "model_module": "@jupyter-widgets/controls",
      "model_module_version": "1.1.0",
      "model_name": "ToggleButtonsModel",
      "state": {
       "_options_labels": [
        "None",
        "Spaced by 10²"
       ],
       "button_style": "",
       "description": "Spacing:",
       "icons": [],
       "index": 0,
       "layout": "IPY_MODEL_e791ef4198404877b20852aa1f1999dd",
       "style": "IPY_MODEL_650cb3c7e70a4b00a1783df8732a0810",
       "tooltips": [
        "All values are presented as is.",
        "Plots for different detectors are multiplied by powers of 10² for easier viewing."
       ]
      }
     },
     "89059b10c6a14f46805eb8fe0deb3ddc": {
      "model_module": "@jupyter-widgets/controls",
      "model_module_version": "1.1.0",
      "model_name": "DescriptionStyleModel",
      "state": {
       "description_width": ""
      }
     },
     "89a398c8217f431ea4a51d7fbe9f240e": {
      "model_module": "@jupyter-widgets/controls",
      "model_module_version": "1.1.0",
      "model_name": "ToggleButtonsStyleModel",
      "state": {
       "button_width": "",
       "description_width": ""
      }
     },
     "89cf2fbe8d64429093636459b336560c": {
      "model_module": "@jupyter-widgets/base",
      "model_module_version": "1.0.0",
      "model_name": "LayoutModel",
      "state": {}
     },
     "8b103e180fa240dcbbf2cf875917e3e5": {
      "model_module": "@jupyter-widgets/controls",
      "model_module_version": "1.1.0",
      "model_name": "DescriptionStyleModel",
      "state": {
       "description_width": ""
      }
     },
     "8b7e46866cea4c38a77d25c015daca50": {
      "model_module": "@jupyter-widgets/base",
      "model_module_version": "1.0.0",
      "model_name": "LayoutModel",
      "state": {}
     },
     "8d13dbb28bb64adbb64c88da5363cfb1": {
      "model_module": "@jupyter-widgets/controls",
      "model_module_version": "1.1.0",
      "model_name": "LabelModel",
      "state": {
       "layout": "IPY_MODEL_ef12815c062c4b8abf7c166758a426b0",
       "style": "IPY_MODEL_9f3e98c443e24294963f92cb15216426",
       "value": "Select a detector type."
      }
     },
     "8edf04c32e7e45bf8d019403cd1fbd3e": {
      "model_module": "@jupyter-widgets/base",
      "model_module_version": "1.0.0",
      "model_name": "LayoutModel",
      "state": {}
     },
     "8ee2d601aedd46efac0ad7e07770d5af": {
      "model_module": "@jupyter-widgets/controls",
      "model_module_version": "1.1.0",
      "model_name": "CheckboxModel",
      "state": {
       "description": "10°",
       "disabled": false,
       "layout": "IPY_MODEL_0758ae860a9c4504adc31a0935c7f733",
       "style": "IPY_MODEL_fe09287dcce44265aedb2fbe5024622d",
       "value": true
      }
     },
     "904b2190653a462db698f9ee5d0e4b14": {
      "model_module": "@jupyter-widgets/controls",
      "model_module_version": "1.1.0",
      "model_name": "LabelModel",
      "state": {
       "layout": "IPY_MODEL_eb182ea4bdca40d1807c6f191db4fefa",
       "style": "IPY_MODEL_4aa68107177a4fe48b628bb095f66180",
       "value": "Select which secondary particle to plot spectra for."
      }
     },
     "904eb487b2aa4e4d9684c47cc7d7daa6": {
      "model_module": "@jupyter-widgets/controls",
      "model_module_version": "1.1.0",
      "model_name": "CheckboxModel",
      "state": {
       "description": "45°",
       "disabled": false,
       "layout": "IPY_MODEL_4b60212ad09e40aa9508e02ca4d54fdc",
       "style": "IPY_MODEL_5f3a3cd484814c62a6b32cfe26e22d07",
       "value": true
      }
     },
     "9078c4bcddb24a0c80ee96dce02c78cc": {
      "model_module": "@jupyter-widgets/base",
      "model_module_version": "1.0.0",
      "model_name": "LayoutModel",
      "state": {}
     },
     "9087e4c8a51d43b89f7b2d48774e20ca": {
      "model_module": "@jupyter-widgets/base",
      "model_module_version": "1.0.0",
      "model_name": "LayoutModel",
      "state": {}
     },
     "909cf672f04645239c0c033e57f32d23": {
      "model_module": "@jupyter-widgets/controls",
      "model_module_version": "1.1.0",
      "model_name": "ToggleButtonsStyleModel",
      "state": {
       "button_width": "",
       "description_width": ""
      }
     },
     "90e4cb21488d410886e5f278df600e84": {
      "model_module": "@jupyter-widgets/controls",
      "model_module_version": "1.1.0",
      "model_name": "ToggleButtonsStyleModel",
      "state": {
       "button_width": "",
       "description_width": ""
      }
     },
     "9179ac75c4824b0881dc3523718301e3": {
      "model_module": "@jupyter-widgets/controls",
      "model_module_version": "1.1.0",
      "model_name": "LabelModel",
      "state": {
       "layout": "IPY_MODEL_3f11f31719bb4615b8e63eafeabda928",
       "style": "IPY_MODEL_e4375cfc8ff54701b364e8158c74eebf",
       "value": "Select which sets of data to display."
      }
     },
     "91a8c6d91411460a994e09b91adedd71": {
      "model_module": "@jupyter-widgets/base",
      "model_module_version": "1.0.0",
      "model_name": "LayoutModel",
      "state": {}
     },
     "91d7a13d93c940ee9ac51d72694f32fa": {
      "model_module": "@jupyter-widgets/controls",
      "model_module_version": "1.1.0",
      "model_name": "DescriptionStyleModel",
      "state": {
       "description_width": ""
      }
     },
     "92067cbd444b473d85b3f7076739fd9c": {
      "model_module": "@jupyter-widgets/base",
      "model_module_version": "1.0.0",
      "model_name": "LayoutModel",
      "state": {}
     },
     "932eaf835f994e5d948a089f2d35674d": {
      "model_module": "@jupyter-widgets/controls",
      "model_module_version": "1.1.0",
      "model_name": "LabelModel",
      "state": {
       "layout": "IPY_MODEL_7d2256d3eb4345e9aeaf404c39e8ce44",
       "style": "IPY_MODEL_e02a6cabb30a4011baa7c08d86cd7266",
       "value": "Select projectile ion species."
      }
     },
     "9393d654bc5842bc8bb61310d8ae3c22": {
      "model_module": "@jupyter-widgets/base",
      "model_module_version": "1.0.0",
      "model_name": "LayoutModel",
      "state": {}
     },
     "93c0c364b777479483d8dde8303cd5c9": {
      "model_module": "@jupyter-widgets/base",
      "model_module_version": "1.0.0",
      "model_name": "LayoutModel",
      "state": {}
     },
     "943d6b62d3784ae79ad92e1c89bec15d": {
      "model_module": "@jupyter-widgets/controls",
      "model_module_version": "1.1.0",
      "model_name": "ToggleButtonsStyleModel",
      "state": {
       "button_width": "",
       "description_width": ""
      }
     },
     "94c73072c0264f19bd9cf1d113837836": {
      "model_module": "@jupyter-widgets/controls",
      "model_module_version": "1.1.0",
      "model_name": "CheckboxModel",
      "state": {
       "description": "80°",
       "disabled": false,
       "layout": "IPY_MODEL_03dcf3cd83ed429284cfc87240c360b6",
       "style": "IPY_MODEL_aef05aca02d349d3812d463aa0f14160",
       "value": true
      }
     },
     "94ec80295ac74b229dd0a7533a8c5bcd": {
      "model_module": "@jupyter-widgets/controls",
      "model_module_version": "1.1.0",
      "model_name": "DescriptionStyleModel",
      "state": {
       "description_width": ""
      }
     },
     "95f6017c88ec4e5fa9ec9304f81b5c97": {
      "model_module": "@jupyter-widgets/base",
      "model_module_version": "1.0.0",
      "model_name": "LayoutModel",
      "state": {}
     },
     "962bbe88146244f392152c1670e57a12": {
      "model_module": "@jupyter-widgets/controls",
      "model_module_version": "1.1.0",
      "model_name": "LabelModel",
      "state": {
       "layout": "IPY_MODEL_50bf5b82fdcf40549f30bc8f10000f32",
       "style": "IPY_MODEL_239861f2318746d8bd9cb83702437d0e",
       "value": "Select projectile ion species."
      }
     },
     "988a393cd5994582bb58756c59a2cec4": {
      "model_module": "@jupyter-widgets/base",
      "model_module_version": "1.0.0",
      "model_name": "LayoutModel",
      "state": {}
     },
     "995e5fbf85fb4011ade0b12ae8d72130": {
      "model_module": "@jupyter-widgets/controls",
      "model_module_version": "1.1.0",
      "model_name": "DescriptionStyleModel",
      "state": {
       "description_width": ""
      }
     },
     "99bd68cb67c647a19d309a72f54f1d43": {
      "model_module": "@jupyter-widgets/base",
      "model_module_version": "1.0.0",
      "model_name": "LayoutModel",
      "state": {}
     },
     "99c2da3db1304b69bdb9ff3d14c51e3e": {
      "model_module": "@jupyter-widgets/base",
      "model_module_version": "1.0.0",
      "model_name": "LayoutModel",
      "state": {}
     },
     "9a89e80c78b2450b85b47d51a615f9af": {
      "model_module": "@jupyter-widgets/controls",
      "model_module_version": "1.1.0",
      "model_name": "LabelModel",
      "state": {
       "layout": "IPY_MODEL_351ce5e01dad43c699861b74f5ad7e01",
       "style": "IPY_MODEL_befdd3e1c2ea49caa630c9a4812ac374",
       "value": "Select how data sets for each detector should be spaced apart (if at all)."
      }
     },
     "9b7f563911a44030b0c98b1e2b72fb10": {
      "model_module": "@jupyter-widgets/controls",
      "model_module_version": "1.1.0",
      "model_name": "LabelModel",
      "state": {
       "layout": "IPY_MODEL_e38bb0cddc9d419990656dfcee6803a8",
       "style": "IPY_MODEL_f13b3349550249a7a8a8925ed41d5a03",
       "value": "Select a detector type."
      }
     },
     "9bbc77fdd4154a78b93848e63b9411c7": {
      "model_module": "@jupyter-widgets/controls",
      "model_module_version": "1.1.0",
      "model_name": "DescriptionStyleModel",
      "state": {
       "description_width": ""
      }
     },
     "9c713958352b42d49e7d241ff01017a5": {
      "model_module": "@jupyter-widgets/base",
      "model_module_version": "1.0.0",
      "model_name": "LayoutModel",
      "state": {}
     },
     "9ca2baab08d14cfbbc0b308d87b7cf99": {
      "model_module": "@jupyter-widgets/controls",
      "model_module_version": "1.1.0",
      "model_name": "ToggleButtonsStyleModel",
      "state": {
       "button_width": "",
       "description_width": ""
      }
     },
     "9cb56a4403474b9f9d4b8590a8b207c0": {
      "model_module": "@jupyter-widgets/controls",
      "model_module_version": "1.1.0",
      "model_name": "DescriptionStyleModel",
      "state": {
       "description_width": ""
      }
     },
     "9cd3e6c6e5e242f89758ccc80cb5a2e7": {
      "model_module": "@jupyter-widgets/base",
      "model_module_version": "1.0.0",
      "model_name": "LayoutModel",
      "state": {}
     },
     "9d4f6d8efe3e403b85e88c1a136d41e8": {
      "model_module": "@jupyter-widgets/base",
      "model_module_version": "1.0.0",
      "model_name": "LayoutModel",
      "state": {}
     },
     "9de1a2aa769f47d29e37631d7962d1c9": {
      "model_module": "@jupyter-widgets/base",
      "model_module_version": "1.0.0",
      "model_name": "LayoutModel",
      "state": {}
     },
     "9e124599713245f492fe46f1ea8d03f2": {
      "model_module": "@jupyter-widgets/controls",
      "model_module_version": "1.1.0",
      "model_name": "DescriptionStyleModel",
      "state": {
       "description_width": ""
      }
     },
     "9e46b393d2354c6ab0055faf999d3900": {
      "model_module": "@jupyter-widgets/controls",
      "model_module_version": "1.1.0",
      "model_name": "LabelModel",
      "state": {
       "layout": "IPY_MODEL_2bd1282aaefa4b4a9f8b526e7564db41",
       "style": "IPY_MODEL_49d97c629783467eaf05427d54689f46",
       "value": "Select a detector type."
      }
     },
     "9e59dc885fa6447cbd7dd77fe6517959": {
      "model_module": "@jupyter-widgets/controls",
      "model_module_version": "1.1.0",
      "model_name": "CheckboxModel",
      "state": {
       "description": "12.7°",
       "disabled": false,
       "layout": "IPY_MODEL_c703ec114cbc40e39240096c9f44dd1e",
       "style": "IPY_MODEL_ab8cb460c1fc404e9ff28cce88456bd2",
       "value": true
      }
     },
     "9f3e98c443e24294963f92cb15216426": {
      "model_module": "@jupyter-widgets/controls",
      "model_module_version": "1.1.0",
      "model_name": "DescriptionStyleModel",
      "state": {
       "description_width": ""
      }
     },
     "9f6c28c005314a9b83e039513ce02007": {
      "model_module": "@jupyter-widgets/controls",
      "model_module_version": "1.1.0",
      "model_name": "DescriptionStyleModel",
      "state": {
       "description_width": ""
      }
     },
     "9f763b7c89ca49f8aea9558c5b5601d5": {
      "model_module": "@jupyter-widgets/controls",
      "model_module_version": "1.1.0",
      "model_name": "CheckboxModel",
      "state": {
       "description": "10°",
       "disabled": false,
       "layout": "IPY_MODEL_8edf04c32e7e45bf8d019403cd1fbd3e",
       "style": "IPY_MODEL_2696caeb870d4dfaaa013481d2df2f9b",
       "value": true
      }
     },
     "9f7e1d47276241ba979dbbfe1b08cad0": {
      "model_module": "@jupyter-widgets/controls",
      "model_module_version": "1.1.0",
      "model_name": "CheckboxModel",
      "state": {
       "description": "135°",
       "disabled": false,
       "layout": "IPY_MODEL_ac503fd9ea97473ea3b44c542ac48fab",
       "style": "IPY_MODEL_f7cd482253f94585a80d6bb115ec989f",
       "value": true
      }
     },
     "9f963bc2800f44bbbdd7bfbc77349a64": {
      "model_module": "@jupyter-widgets/base",
      "model_module_version": "1.0.0",
      "model_name": "LayoutModel",
      "state": {}
     },
     "9fa76948a41e42ddba6a054a4b238c5d": {
      "model_module": "@jupyter-widgets/controls",
      "model_module_version": "1.1.0",
      "model_name": "ToggleButtonsModel",
      "state": {
       "_options_labels": [
        "H",
        "He",
        "C",
        "Si",
        "Fe"
       ],
       "button_style": "",
       "description": "Ion:",
       "icons": [],
       "index": 3,
       "layout": "IPY_MODEL_1c30df6baca14be9b804620d10110d72",
       "style": "IPY_MODEL_e504e3870f2d434b9b3ce8047fb6ce6a",
       "tooltips": [
        "Hydrogen",
        "Helium",
        "Carbon",
        "Silicon",
        "Iron"
       ]
      }
     },
     "9fc2d2b3192b45b1aec9b17232629d68": {
      "model_module": "@jupyter-widgets/controls",
      "model_module_version": "1.1.0",
      "model_name": "ToggleButtonsModel",
      "state": {
       "_options_labels": [
        "OLS",
        "NaI"
       ],
       "button_style": "",
       "description": "Type:",
       "icons": [],
       "index": 0,
       "layout": "IPY_MODEL_2a0913dcf72e411ca80f20d125322405",
       "style": "IPY_MODEL_077e109affea4d699a6c5e1910bcab11",
       "tooltips": [
        "Organic Liquid Scintillator",
        "Sodium Iodide"
       ]
      }
     },
     "a0a70b01bf0f4416b4512dfbe503b768": {
      "model_module": "@jupyter-widgets/controls",
      "model_module_version": "1.1.0",
      "model_name": "LabelModel",
      "state": {
       "layout": "IPY_MODEL_15e42c4133524de2b2ea86582941de1f",
       "style": "IPY_MODEL_517769533b984abe859dc81af6864c67",
       "value": "Select the detector angles to plot."
      }
     },
     "a141122ae577468f8b3f1c79b03dc382": {
      "model_module": "@jupyter-widgets/controls",
      "model_module_version": "1.1.0",
      "model_name": "DescriptionStyleModel",
      "state": {
       "description_width": ""
      }
     },
     "a1568ebb0c4740f5bfb67411bb4921e5": {
      "model_module": "@jupyter-widgets/controls",
      "model_module_version": "1.1.0",
      "model_name": "ToggleButtonsModel",
      "state": {
       "_options_labels": [
        "400 MeV",
        "800 MeV",
        "2500 MeV"
       ],
       "button_style": "",
       "description": "Projectile energy:",
       "icons": [],
       "index": 0,
       "layout": "IPY_MODEL_d59349eafc6d4521ae99554754cf77ee",
       "style": "IPY_MODEL_23fb7853f7e54cb294e395420afca9f4",
       "tooltips": [
        "lowest energy",
        "middle energy",
        "highest energy"
       ]
      }
     },
     "a17c6908c7eb480ea1cd7598a0c8cf81": {
      "model_module": "@jupyter-widgets/base",
      "model_module_version": "1.0.0",
      "model_name": "LayoutModel",
      "state": {}
     },
     "a20b631d661f4e6a9754ccdd1b8279ae": {
      "model_module": "@jupyter-widgets/base",
      "model_module_version": "1.0.0",
      "model_name": "LayoutModel",
      "state": {}
     },
     "a2c7c3cfda034156a7273cf99e275eaa": {
      "model_module": "@jupyter-widgets/base",
      "model_module_version": "1.0.0",
      "model_name": "LayoutModel",
      "state": {}
     },
     "a2cdfab85bf5429c9102f70b25547dac": {
      "model_module": "@jupyter-widgets/controls",
      "model_module_version": "1.1.0",
      "model_name": "ToggleButtonsStyleModel",
      "state": {
       "button_width": "",
       "description_width": ""
      }
     },
     "a311037077c543ca9c84276971387c3d": {
      "model_module": "@jupyter-widgets/controls",
      "model_module_version": "1.1.0",
      "model_name": "DescriptionStyleModel",
      "state": {
       "description_width": ""
      }
     },
     "a3110c2fdc194605b45afce71bc335ff": {
      "model_module": "@jupyter-widgets/controls",
      "model_module_version": "1.1.0",
      "model_name": "ToggleButtonsStyleModel",
      "state": {
       "button_width": "",
       "description_width": ""
      }
     },
     "a39a0b6219a04e33ac8128e88b31eec9": {
      "model_module": "@jupyter-widgets/base",
      "model_module_version": "1.0.0",
      "model_name": "LayoutModel",
      "state": {}
     },
     "a3d9fd0254bb40da9e7e0e1e29c3dc3c": {
      "model_module": "@jupyter-widgets/base",
      "model_module_version": "1.0.0",
      "model_name": "LayoutModel",
      "state": {}
     },
     "a3f67666026247e1a13bf7408630e849": {
      "model_module": "@jupyter-widgets/controls",
      "model_module_version": "1.1.0",
      "model_name": "CheckboxModel",
      "state": {
       "description": "PHITS simulated",
       "disabled": false,
       "layout": "IPY_MODEL_4613f06e102346389509918e945271e4",
       "style": "IPY_MODEL_9cb56a4403474b9f9d4b8590a8b207c0",
       "value": true
      }
     },
     "a41aefaded0c42d8b1f36b278b07e298": {
      "model_module": "@jupyter-widgets/controls",
      "model_module_version": "1.1.0",
      "model_name": "DescriptionStyleModel",
      "state": {
       "description_width": ""
      }
     },
     "a43aaf853fea4dc18647a4ff3ec3114d": {
      "model_module": "@jupyter-widgets/base",
      "model_module_version": "1.0.0",
      "model_name": "LayoutModel",
      "state": {}
     },
     "a5371a7f7e1c47cfb165de66a8ce1d9c": {
      "model_module": "@jupyter-widgets/controls",
      "model_module_version": "1.1.0",
      "model_name": "DescriptionStyleModel",
      "state": {
       "description_width": ""
      }
     },
     "a5d0018f08da4128b67b1780ae21704a": {
      "model_module": "@jupyter-widgets/controls",
      "model_module_version": "1.1.0",
      "model_name": "DescriptionStyleModel",
      "state": {
       "description_width": ""
      }
     },
     "a63bb1524dbf4b9bbf3bdf8f5fe2f5d3": {
      "model_module": "@jupyter-widgets/controls",
      "model_module_version": "1.1.0",
      "model_name": "DescriptionStyleModel",
      "state": {
       "description_width": ""
      }
     },
     "a6511527a3ec4002aa89520eafdabe73": {
      "model_module": "@jupyter-widgets/base",
      "model_module_version": "1.0.0",
      "model_name": "LayoutModel",
      "state": {}
     },
     "a692bd63ab7c48f295ccea4406aef904": {
      "model_module": "@jupyter-widgets/base",
      "model_module_version": "1.0.0",
      "model_name": "LayoutModel",
      "state": {}
     },
     "a6d31dec6d624b0f98c06300248662ea": {
      "model_module": "@jupyter-widgets/base",
      "model_module_version": "1.0.0",
      "model_name": "LayoutModel",
      "state": {}
     },
     "a7271008a8924a56badb7451ba5fb3db": {
      "model_module": "@jupyter-widgets/base",
      "model_module_version": "1.0.0",
      "model_name": "LayoutModel",
      "state": {}
     },
     "a76fc7e48def40c6a67df56445524233": {
      "model_module": "@jupyter-widgets/controls",
      "model_module_version": "1.1.0",
      "model_name": "LabelModel",
      "state": {
       "layout": "IPY_MODEL_5ddedfa45f4d484bbf9c56c2604ab531",
       "style": "IPY_MODEL_8b103e180fa240dcbbf2cf875917e3e5",
       "value": "Select projectile ion species."
      }
     },
     "a7996541a0784400a55ad34301b75938": {
      "model_module": "@jupyter-widgets/controls",
      "model_module_version": "1.1.0",
      "model_name": "CheckboxModel",
      "state": {
       "description": "MCNP sim.",
       "disabled": false,
       "layout": "IPY_MODEL_3804a43a83904c60a62391076b5dbb2c",
       "style": "IPY_MODEL_89059b10c6a14f46805eb8fe0deb3ddc",
       "value": true
      }
     },
     "a809e08561f34af1bf29fb92f9f1b6c2": {
      "model_module": "@jupyter-widgets/base",
      "model_module_version": "1.0.0",
      "model_name": "LayoutModel",
      "state": {}
     },
     "a8e1f7f6b2d14d089727dea96ddd4fca": {
      "model_module": "@jupyter-widgets/controls",
      "model_module_version": "1.1.0",
      "model_name": "CheckboxModel",
      "state": {
       "description": "28.2°",
       "disabled": false,
       "layout": "IPY_MODEL_cc70111a19d94fc791c02b7ec4bbe159",
       "style": "IPY_MODEL_dc0ae02645da44c493796fb07d1b0888",
       "value": true
      }
     },
     "a98d4fcb2b8848f49b8fe75c7e6d9315": {
      "model_module": "@jupyter-widgets/controls",
      "model_module_version": "1.1.0",
      "model_name": "DescriptionStyleModel",
      "state": {
       "description_width": ""
      }
     },
     "a9dc937c56c4411caf59d9830da98a11": {
      "model_module": "@jupyter-widgets/base",
      "model_module_version": "1.0.0",
      "model_name": "LayoutModel",
      "state": {}
     },
     "aa2c1f5ef7a94d079d5ed5026d0aaa7c": {
      "model_module": "@jupyter-widgets/controls",
      "model_module_version": "1.1.0",
      "model_name": "DescriptionStyleModel",
      "state": {
       "description_width": ""
      }
     },
     "aa55f5a5dd764cc8a6295cbe1e5903bd": {
      "model_module": "@jupyter-widgets/controls",
      "model_module_version": "1.1.0",
      "model_name": "DescriptionStyleModel",
      "state": {
       "description_width": ""
      }
     },
     "aae4adf9553e4a9096373ce3db4ba1e4": {
      "model_module": "@jupyter-widgets/base",
      "model_module_version": "1.0.0",
      "model_name": "LayoutModel",
      "state": {}
     },
     "ab8cb460c1fc404e9ff28cce88456bd2": {
      "model_module": "@jupyter-widgets/controls",
      "model_module_version": "1.1.0",
      "model_name": "DescriptionStyleModel",
      "state": {
       "description_width": ""
      }
     },
     "ac503fd9ea97473ea3b44c542ac48fab": {
      "model_module": "@jupyter-widgets/base",
      "model_module_version": "1.0.0",
      "model_name": "LayoutModel",
      "state": {}
     },
     "acbc4eec12c84b1a95db9c9ea2c9b226": {
      "model_module": "@jupyter-widgets/base",
      "model_module_version": "1.0.0",
      "model_name": "LayoutModel",
      "state": {}
     },
     "ad0b604d2d204b1d89b67b5906a1102a": {
      "model_module": "@jupyter-widgets/controls",
      "model_module_version": "1.1.0",
      "model_name": "CheckboxModel",
      "state": {
       "description": "30°",
       "disabled": false,
       "layout": "IPY_MODEL_89cf2fbe8d64429093636459b336560c",
       "style": "IPY_MODEL_a5d0018f08da4128b67b1780ae21704a",
       "value": true
      }
     },
     "ad36910402d448bea2dfcd829d332606": {
      "model_module": "@jupyter-widgets/controls",
      "model_module_version": "1.1.0",
      "model_name": "DescriptionStyleModel",
      "state": {
       "description_width": ""
      }
     },
     "adef8af3dbef49b5bf0fe6ddeef89d06": {
      "model_module": "@jupyter-widgets/controls",
      "model_module_version": "1.1.0",
      "model_name": "DescriptionStyleModel",
      "state": {
       "description_width": ""
      }
     },
     "ae22be5c28e94de696808e167388ef1f": {
      "model_module": "@jupyter-widgets/base",
      "model_module_version": "1.0.0",
      "model_name": "LayoutModel",
      "state": {}
     },
     "ae58877b32bd4dd5ba8bfdb979bee38a": {
      "model_module": "@jupyter-widgets/base",
      "model_module_version": "1.0.0",
      "model_name": "LayoutModel",
      "state": {}
     },
     "ae5e40e17b574b05bbb72848898cb6a1": {
      "model_module": "@jupyter-widgets/controls",
      "model_module_version": "1.1.0",
      "model_name": "CheckboxModel",
      "state": {
       "description": "10°",
       "disabled": false,
       "layout": "IPY_MODEL_3a28181ffb7c48c8a0db5f7b94a0b7b9",
       "style": "IPY_MODEL_ecb67a303385458cb0a68adc15ac1fc7",
       "value": true
      }
     },
     "ae7c46f2f69f4776accd5fb7c29f2382": {
      "model_module": "@jupyter-widgets/controls",
      "model_module_version": "1.1.0",
      "model_name": "DescriptionStyleModel",
      "state": {
       "description_width": ""
      }
     },
     "aef05aca02d349d3812d463aa0f14160": {
      "model_module": "@jupyter-widgets/controls",
      "model_module_version": "1.1.0",
      "model_name": "DescriptionStyleModel",
      "state": {
       "description_width": ""
      }
     },
     "af5c2f359c3243a8ae68a070a614e44e": {
      "model_module": "@jupyter-widgets/controls",
      "model_module_version": "1.1.0",
      "model_name": "CheckboxModel",
      "state": {
       "description": "135°",
       "disabled": false,
       "layout": "IPY_MODEL_d5e2e35deb844291b27a458a0dc4ce24",
       "style": "IPY_MODEL_f233b0f7df684cf19f9a4b1a0e80fc0f",
       "value": true
      }
     },
     "af90e3c5f03a4a37aec96c93311885e7": {
      "model_module": "@jupyter-widgets/controls",
      "model_module_version": "1.1.0",
      "model_name": "DescriptionStyleModel",
      "state": {
       "description_width": ""
      }
     },
     "b1062ded5fbc4a64bd7545d7c37d46b0": {
      "model_module": "@jupyter-widgets/controls",
      "model_module_version": "1.1.0",
      "model_name": "CheckboxModel",
      "state": {
       "description": "60°",
       "disabled": false,
       "layout": "IPY_MODEL_1ccf22597e434af5bab9dad773320ed1",
       "style": "IPY_MODEL_63fe9245ac9b425e8a327547db9f4687",
       "value": true
      }
     },
     "b4224b2fafed4dcfadcf9665d1ea7e3d": {
      "model_module": "@jupyter-widgets/controls",
      "model_module_version": "1.1.0",
      "model_name": "LabelModel",
      "state": {
       "layout": "IPY_MODEL_0f76e3888d8341d28dd5fed39c244e0e",
       "style": "IPY_MODEL_35931f67715d4c6a9251af2ea03c446a",
       "value": "Select a detector type."
      }
     },
     "b5a3eda61acd460b9dd2c0c55b28a91f": {
      "model_module": "@jupyter-widgets/controls",
      "model_module_version": "1.1.0",
      "model_name": "CheckboxModel",
      "state": {
       "description": "10°",
       "disabled": false,
       "layout": "IPY_MODEL_15689425cbfc4a4c971397446beb65e8",
       "style": "IPY_MODEL_5de24e98135c4d4e84d09043ba2038ef",
       "value": true
      }
     },
     "b67d9bc72cb3401ea3dfc1053440b044": {
      "model_module": "@jupyter-widgets/controls",
      "model_module_version": "1.1.0",
      "model_name": "CheckboxModel",
      "state": {
       "description": "80°",
       "disabled": false,
       "layout": "IPY_MODEL_5245f077e25a410482d2210652e901bf",
       "style": "IPY_MODEL_ece4d2aad3f0431485bdbeb4ca86c6d4",
       "value": true
      }
     },
     "b696018911824f1c86ca2809ef37ad9b": {
      "model_module": "@jupyter-widgets/base",
      "model_module_version": "1.0.0",
      "model_name": "LayoutModel",
      "state": {}
     },
     "b6a2edf235af46d7b7886ef150bcd0a3": {
      "model_module": "@jupyter-widgets/controls",
      "model_module_version": "1.1.0",
      "model_name": "LabelModel",
      "state": {
       "layout": "IPY_MODEL_60f108fd0bbb440a9b33994693046154",
       "style": "IPY_MODEL_9e124599713245f492fe46f1ea8d03f2",
       "value": "Select the detector angles to plot."
      }
     },
     "b71c3a8d9a2f48ea8113db14d33ee897": {
      "model_module": "@jupyter-widgets/controls",
      "model_module_version": "1.1.0",
      "model_name": "DescriptionStyleModel",
      "state": {
       "description_width": ""
      }
     },
     "b71cf0c8c619417dbee68c5f6ac1d3c4": {
      "model_module": "@jupyter-widgets/controls",
      "model_module_version": "1.1.0",
      "model_name": "DescriptionStyleModel",
      "state": {
       "description_width": ""
      }
     },
     "b80eff2ecb82408c8635136c0345cbc7": {
      "model_module": "@jupyter-widgets/controls",
      "model_module_version": "1.1.0",
      "model_name": "CheckboxModel",
      "state": {
       "description": "60°",
       "disabled": false,
       "layout": "IPY_MODEL_74c570f03064412d9cf963cde7af81de",
       "style": "IPY_MODEL_63928daf6d25409caff26b7ab36d100a",
       "value": true
      }
     },
     "bb37a85d2fc24a6ab83c4651f26ddbbd": {
      "model_module": "@jupyter-widgets/controls",
      "model_module_version": "1.1.0",
      "model_name": "CheckboxModel",
      "state": {
       "description": "10°",
       "disabled": false,
       "layout": "IPY_MODEL_832f07517fa54c4890183cf7f1373e1c",
       "style": "IPY_MODEL_1ebf963a3f6c45cf90efcce937720a07",
       "value": true
      }
     },
     "bba782140ef64349a4ec8fbbe71012ab": {
      "model_module": "@jupyter-widgets/controls",
      "model_module_version": "1.1.0",
      "model_name": "LabelModel",
      "state": {
       "layout": "IPY_MODEL_4ffd4cfb70074db8ac07d1d8cf7325d6",
       "style": "IPY_MODEL_831f0e2103974ca39855e891d8bf9214",
       "value": "Select the detector angles to plot."
      }
     },
     "bba8bdcec8ad4732b08dec40c092396f": {
      "model_module": "@jupyter-widgets/controls",
      "model_module_version": "1.1.0",
      "model_name": "ToggleButtonsModel",
      "state": {
       "_options_labels": [
        "H",
        "He",
        "C",
        "Si",
        "Fe"
       ],
       "button_style": "",
       "description": "Ion:",
       "icons": [],
       "index": 1,
       "layout": "IPY_MODEL_a43aaf853fea4dc18647a4ff3ec3114d",
       "style": "IPY_MODEL_a3110c2fdc194605b45afce71bc335ff",
       "tooltips": [
        "Hydrogen",
        "Helium",
        "Carbon",
        "Silicon",
        "Iron"
       ]
      }
     },
     "bccc581e49014ff18c58effdb72679b3": {
      "model_module": "@jupyter-widgets/base",
      "model_module_version": "1.0.0",
      "model_name": "LayoutModel",
      "state": {}
     },
     "bd7e163492cd48788cd5ed22903d5cb0": {
      "model_module": "@jupyter-widgets/base",
      "model_module_version": "1.0.0",
      "model_name": "LayoutModel",
      "state": {}
     },
     "bdc22a99975b43b482241a7f79ff85ce": {
      "model_module": "@jupyter-widgets/controls",
      "model_module_version": "1.1.0",
      "model_name": "LabelModel",
      "state": {
       "layout": "IPY_MODEL_f3ad70d074f14fb29d3e3e092c92e272",
       "style": "IPY_MODEL_2f5368399fa8407bae759281254513f9",
       "value": "Select the detector angles to plot."
      }
     },
     "befdd3e1c2ea49caa630c9a4812ac374": {
      "model_module": "@jupyter-widgets/controls",
      "model_module_version": "1.1.0",
      "model_name": "DescriptionStyleModel",
      "state": {
       "description_width": ""
      }
     },
     "bfd76b866fce44aa921ab72cc6d1c12f": {
      "model_module": "@jupyter-widgets/controls",
      "model_module_version": "1.1.0",
      "model_name": "ToggleButtonsStyleModel",
      "state": {
       "button_width": "",
       "description_width": ""
      }
     },
     "c011c67b02e846f88f4fa9afc9ba4323": {
      "model_module": "@jupyter-widgets/controls",
      "model_module_version": "1.1.0",
      "model_name": "DescriptionStyleModel",
      "state": {
       "description_width": ""
      }
     },
     "c1389914301242d88e0eb8c9f2d979db": {
      "model_module": "@jupyter-widgets/controls",
      "model_module_version": "1.1.0",
      "model_name": "DescriptionStyleModel",
      "state": {
       "description_width": ""
      }
     },
     "c13fad6c897e49fc95a5190bb1a14f16": {
      "model_module": "@jupyter-widgets/controls",
      "model_module_version": "1.1.0",
      "model_name": "DescriptionStyleModel",
      "state": {
       "description_width": ""
      }
     },
     "c1b5218451a5463aaba4be6b444620f8": {
      "model_module": "@jupyter-widgets/controls",
      "model_module_version": "1.1.0",
      "model_name": "DescriptionStyleModel",
      "state": {
       "description_width": ""
      }
     },
     "c294a3be598c47f8aa914edf0fe7cf51": {
      "model_module": "@jupyter-widgets/base",
      "model_module_version": "1.0.0",
      "model_name": "LayoutModel",
      "state": {}
     },
     "c29cc05323c04386b96f17e5e883f3bb": {
      "model_module": "@jupyter-widgets/controls",
      "model_module_version": "1.1.0",
      "model_name": "CheckboxModel",
      "state": {
       "description": "45°",
       "disabled": false,
       "layout": "IPY_MODEL_23c05b24f4314aa78519265ec6bd84df",
       "style": "IPY_MODEL_94ec80295ac74b229dd0a7533a8c5bcd",
       "value": true
      }
     },
     "c4f62b72adc1452e8968212e837e738e": {
      "model_module": "@jupyter-widgets/base",
      "model_module_version": "1.0.0",
      "model_name": "LayoutModel",
      "state": {}
     },
     "c5651626f653475389ff56bd6d859053": {
      "model_module": "@jupyter-widgets/controls",
      "model_module_version": "1.1.0",
      "model_name": "LabelModel",
      "state": {
       "layout": "IPY_MODEL_834dbdd244e6451687709413ee684e3d",
       "style": "IPY_MODEL_47b451d0705f4e5a99278ecb7a32fa14",
       "value": "Select projectile ion energy."
      }
     },
     "c572f07533824369b06f5405baa71387": {
      "model_module": "@jupyter-widgets/controls",
      "model_module_version": "1.1.0",
      "model_name": "ToggleButtonsModel",
      "state": {
       "_options_labels": [
        "None",
        "Spaced by powers of 10²"
       ],
       "button_style": "",
       "description": "Extra spectra spacing:",
       "icons": [],
       "index": 0,
       "layout": "IPY_MODEL_9f963bc2800f44bbbdd7bfbc77349a64",
       "style": "IPY_MODEL_01f72b147b784cc9ba5906f2ca107057",
       "tooltips": [
        "All values are presented as is.",
        "Plots for different detectors are multiplied by powers of 10² for easier viewing."
       ]
      }
     },
     "c61e1f7869294918b86cef1ee53ffcf6": {
      "model_module": "@jupyter-widgets/controls",
      "model_module_version": "1.1.0",
      "model_name": "CheckboxModel",
      "state": {
       "description": "45°",
       "disabled": false,
       "layout": "IPY_MODEL_cea380802af2442091b4df88b4870f06",
       "style": "IPY_MODEL_a141122ae577468f8b3f1c79b03dc382",
       "value": true
      }
     },
     "c664c34b4b654a61976bd21113e6d4e2": {
      "model_module": "@jupyter-widgets/controls",
      "model_module_version": "1.1.0",
      "model_name": "DescriptionStyleModel",
      "state": {
       "description_width": ""
      }
     },
     "c669a7878a2f4b5998664f3d1a967d02": {
      "model_module": "@jupyter-widgets/base",
      "model_module_version": "1.0.0",
      "model_name": "LayoutModel",
      "state": {}
     },
     "c6a1b9433eb64e99a0423142484aa85c": {
      "model_module": "@jupyter-widgets/controls",
      "model_module_version": "1.1.0",
      "model_name": "ToggleButtonsStyleModel",
      "state": {
       "button_width": "",
       "description_width": ""
      }
     },
     "c703ec114cbc40e39240096c9f44dd1e": {
      "model_module": "@jupyter-widgets/base",
      "model_module_version": "1.0.0",
      "model_name": "LayoutModel",
      "state": {}
     },
     "c7742e8a78a045c891f17eec533ac65f": {
      "model_module": "@jupyter-widgets/controls",
      "model_module_version": "1.1.0",
      "model_name": "DescriptionStyleModel",
      "state": {
       "description_width": ""
      }
     },
     "c7f45aab52e94b24a10bf88e9e868291": {
      "model_module": "@jupyter-widgets/controls",
      "model_module_version": "1.1.0",
      "model_name": "CheckboxModel",
      "state": {
       "description": "80°",
       "disabled": false,
       "layout": "IPY_MODEL_1343ff4e746c4800991407de65ac09e2",
       "style": "IPY_MODEL_78b356ec0e924239a93e39437f8718b1",
       "value": true
      }
     },
     "ca0976282fdc4ea9a9e31a9f92113509": {
      "model_module": "@jupyter-widgets/controls",
      "model_module_version": "1.1.0",
      "model_name": "ToggleButtonsModel",
      "state": {
       "_options_labels": [
        "400 MeV",
        "800 MeV",
        "2500 MeV"
       ],
       "button_style": "",
       "description": "Energy:",
       "icons": [],
       "index": 0,
       "layout": "IPY_MODEL_d104df1b93dc4adead945d61dd03d6fe",
       "style": "IPY_MODEL_06b2f62874494d339bb90eea19176892",
       "tooltips": [
        "lowest energy",
        "middle energy",
        "highest energy"
       ]
      }
     },
     "caccc658e39e4d8eab1327632eccbe34": {
      "model_module": "@jupyter-widgets/controls",
      "model_module_version": "1.1.0",
      "model_name": "ToggleButtonsStyleModel",
      "state": {
       "button_width": "",
       "description_width": ""
      }
     },
     "cadd83c3db964467ad0683e6c33d3471": {
      "model_module": "@jupyter-widgets/controls",
      "model_module_version": "1.1.0",
      "model_name": "CheckboxModel",
      "state": {
       "description": "PHITS sim.",
       "disabled": false,
       "layout": "IPY_MODEL_06c0c365322742f782334733d0d37345",
       "style": "IPY_MODEL_54a6008ce254488abca9239c5aee6363",
       "value": true
      }
     },
     "cb43928a574448eca437bc4c9aa2a8d2": {
      "model_module": "@jupyter-widgets/controls",
      "model_module_version": "1.1.0",
      "model_name": "ToggleButtonsStyleModel",
      "state": {
       "button_width": "",
       "description_width": ""
      }
     },
     "cc70111a19d94fc791c02b7ec4bbe159": {
      "model_module": "@jupyter-widgets/base",
      "model_module_version": "1.0.0",
      "model_name": "LayoutModel",
      "state": {}
     },
     "cda96481692a4dd9a76548e1689bc85b": {
      "model_module": "@jupyter-widgets/controls",
      "model_module_version": "1.1.0",
      "model_name": "ToggleButtonsModel",
      "state": {
       "_options_labels": [
        "N",
        "NDC"
       ],
       "button_style": "",
       "description": "Type:",
       "icons": [],
       "index": 0,
       "layout": "IPY_MODEL_e1d61a68240847fcb89a97fa2945bff1",
       "style": "IPY_MODEL_4b22a219bb39429aadfbe3662ab9344e",
       "tooltips": [
        "Neutron",
        "Neutron (deconvoluted)"
       ]
      }
     },
     "cdd7b460ab6d497e89a40e54704e0405": {
      "model_module": "@jupyter-widgets/base",
      "model_module_version": "1.0.0",
      "model_name": "LayoutModel",
      "state": {}
     },
     "cea380802af2442091b4df88b4870f06": {
      "model_module": "@jupyter-widgets/base",
      "model_module_version": "1.0.0",
      "model_name": "LayoutModel",
      "state": {}
     },
     "cee140c0cf9e4148bdc534250e77adfa": {
      "model_module": "@jupyter-widgets/controls",
      "model_module_version": "1.1.0",
      "model_name": "LabelModel",
      "state": {
       "layout": "IPY_MODEL_591983d72d9a4707a025102bf48ee6a2",
       "style": "IPY_MODEL_d3829c4f0a5a42b1be5c79bdf71816d0",
       "value": "Select projectile ion species."
      }
     },
     "ceff1e71ac8a41e9a0f7e8232abb7060": {
      "model_module": "@jupyter-widgets/controls",
      "model_module_version": "1.1.0",
      "model_name": "CheckboxModel",
      "state": {
       "description": "60°",
       "disabled": false,
       "layout": "IPY_MODEL_d5d0d2ddcdd242f98557194e3bd76c0e",
       "style": "IPY_MODEL_07e26bfbdd264c5caa86997cd380255c",
       "value": true
      }
     },
     "cfa5fbf828834cb7b861c2382ce6a0a5": {
      "model_module": "@jupyter-widgets/base",
      "model_module_version": "1.0.0",
      "model_name": "LayoutModel",
      "state": {}
     },
     "d045ed28e7f443a492a3b0a8c145e6bd": {
      "model_module": "@jupyter-widgets/base",
      "model_module_version": "1.0.0",
      "model_name": "LayoutModel",
      "state": {}
     },
     "d0cf31ea782242468beb9758d21f489e": {
      "model_module": "@jupyter-widgets/controls",
      "model_module_version": "1.1.0",
      "model_name": "DescriptionStyleModel",
      "state": {
       "description_width": ""
      }
     },
     "d0e6052d8faf4b2698480ee34caee7d4": {
      "model_module": "@jupyter-widgets/base",
      "model_module_version": "1.0.0",
      "model_name": "LayoutModel",
      "state": {}
     },
     "d104df1b93dc4adead945d61dd03d6fe": {
      "model_module": "@jupyter-widgets/base",
      "model_module_version": "1.0.0",
      "model_name": "LayoutModel",
      "state": {}
     },
     "d1ffdb144a5d4c4c8c847ce9410f9e9a": {
      "model_module": "@jupyter-widgets/controls",
      "model_module_version": "1.1.0",
      "model_name": "CheckboxModel",
      "state": {
       "description": "10°",
       "disabled": false,
       "layout": "IPY_MODEL_9393d654bc5842bc8bb61310d8ae3c22",
       "style": "IPY_MODEL_8658947a8ee0460091989d36cf0c0b43",
       "value": true
      }
     },
     "d204c1db0c0a4f7dac17511c7217c255": {
      "model_module": "@jupyter-widgets/controls",
      "model_module_version": "1.1.0",
      "model_name": "CheckboxModel",
      "state": {
       "description": "30°",
       "disabled": false,
       "layout": "IPY_MODEL_69d6fc1b35cd4fd4889f882511b76af2",
       "style": "IPY_MODEL_f6ec50c9f8d14d6f8261e916602e59c9",
       "value": true
      }
     },
     "d254eb2e271643e3acda524c4794ccbf": {
      "model_module": "@jupyter-widgets/controls",
      "model_module_version": "1.1.0",
      "model_name": "CheckboxModel",
      "state": {
       "description": "32.7°",
       "disabled": false,
       "layout": "IPY_MODEL_fec67650c81745c4b3f268ff4c7b72a6",
       "style": "IPY_MODEL_ae7c46f2f69f4776accd5fb7c29f2382",
       "value": true
      }
     },
     "d2bfdaf8796e4f56a2b6c2179e47f23d": {
      "model_module": "@jupyter-widgets/base",
      "model_module_version": "1.0.0",
      "model_name": "LayoutModel",
      "state": {}
     },
     "d3829c4f0a5a42b1be5c79bdf71816d0": {
      "model_module": "@jupyter-widgets/controls",
      "model_module_version": "1.1.0",
      "model_name": "DescriptionStyleModel",
      "state": {
       "description_width": ""
      }
     },
     "d489953aa27748ca809f2bfa6fcbdbf6": {
      "model_module": "@jupyter-widgets/controls",
      "model_module_version": "1.1.0",
      "model_name": "DescriptionStyleModel",
      "state": {
       "description_width": ""
      }
     },
     "d59349eafc6d4521ae99554754cf77ee": {
      "model_module": "@jupyter-widgets/base",
      "model_module_version": "1.0.0",
      "model_name": "LayoutModel",
      "state": {}
     },
     "d5b795a688d941aaa9b25e3f0bb33293": {
      "model_module": "@jupyter-widgets/controls",
      "model_module_version": "1.1.0",
      "model_name": "CheckboxModel",
      "state": {
       "description": "80°",
       "disabled": false,
       "layout": "IPY_MODEL_0a9707392c6b4c3282af3dc874884ff5",
       "style": "IPY_MODEL_7f1320fdde3a4eb58bb722ad2e189b3c",
       "value": true
      }
     },
     "d5d0d2ddcdd242f98557194e3bd76c0e": {
      "model_module": "@jupyter-widgets/base",
      "model_module_version": "1.0.0",
      "model_name": "LayoutModel",
      "state": {}
     },
     "d5e2e35deb844291b27a458a0dc4ce24": {
      "model_module": "@jupyter-widgets/base",
      "model_module_version": "1.0.0",
      "model_name": "LayoutModel",
      "state": {}
     },
     "d6d4eecf671144bca4ba7e9fb9934af7": {
      "model_module": "@jupyter-widgets/controls",
      "model_module_version": "1.1.0",
      "model_name": "CheckboxModel",
      "state": {
       "description": "135°",
       "disabled": false,
       "layout": "IPY_MODEL_83a3795ebf384c3b924e161522508d10",
       "style": "IPY_MODEL_07757186b124423b90b6fc4a321a3839",
       "value": true
      }
     },
     "d7eefa870f8c4d0e9c21967a295082e0": {
      "model_module": "@jupyter-widgets/base",
      "model_module_version": "1.0.0",
      "model_name": "LayoutModel",
      "state": {}
     },
     "d7fa1e0a970542dfa0bcacd0af564385": {
      "model_module": "@jupyter-widgets/base",
      "model_module_version": "1.0.0",
      "model_name": "LayoutModel",
      "state": {}
     },
     "d921a36675004b3d9263529f7b8473c8": {
      "model_module": "@jupyter-widgets/base",
      "model_module_version": "1.0.0",
      "model_name": "LayoutModel",
      "state": {}
     },
     "da3c66a604a64b85afa9e3a60e7b1a1a": {
      "model_module": "@jupyter-widgets/controls",
      "model_module_version": "1.1.0",
      "model_name": "ToggleButtonsModel",
      "state": {
       "_options_labels": [
        "None",
        "Spaced by 10²"
       ],
       "button_style": "",
       "description": "Spacing:",
       "icons": [],
       "index": 0,
       "layout": "IPY_MODEL_a3d9fd0254bb40da9e7e0e1e29c3dc3c",
       "style": "IPY_MODEL_e6203a22b2264fb9805146732da77ef7",
       "tooltips": [
        "All values are presented as is.",
        "Plots for different detectors are multiplied by powers of 10² for easier viewing."
       ]
      }
     },
     "dbf31784806148b18cf007b56b054246": {
      "model_module": "@jupyter-widgets/controls",
      "model_module_version": "1.1.0",
      "model_name": "DescriptionStyleModel",
      "state": {
       "description_width": ""
      }
     },
     "dc0ae02645da44c493796fb07d1b0888": {
      "model_module": "@jupyter-widgets/controls",
      "model_module_version": "1.1.0",
      "model_name": "DescriptionStyleModel",
      "state": {
       "description_width": ""
      }
     },
     "dd243fe614ab4786a6036ba1cd7274c6": {
      "model_module": "@jupyter-widgets/controls",
      "model_module_version": "1.1.0",
      "model_name": "CheckboxModel",
      "state": {
       "description": "32.7°",
       "disabled": false,
       "layout": "IPY_MODEL_7b9d7b7cf9c04c9a82cd16d7e2bb05b0",
       "style": "IPY_MODEL_4088ba6d018e4e63a876d816450947aa",
       "value": true
      }
     },
     "dd3a3b31398e4a0e9aa1cddadb32dcea": {
      "model_module": "@jupyter-widgets/controls",
      "model_module_version": "1.1.0",
      "model_name": "DescriptionStyleModel",
      "state": {
       "description_width": ""
      }
     },
     "dd754a0dd2b94406836938aa9d8da6e9": {
      "model_module": "@jupyter-widgets/controls",
      "model_module_version": "1.1.0",
      "model_name": "CheckboxModel",
      "state": {
       "description": "135°",
       "disabled": false,
       "layout": "IPY_MODEL_1bb7f2c06922441089584949384b0a0c",
       "style": "IPY_MODEL_a5371a7f7e1c47cfb165de66a8ce1d9c",
       "value": true
      }
     },
     "dddc16ed883246f0815715672f5991bf": {
      "model_module": "@jupyter-widgets/base",
      "model_module_version": "1.0.0",
      "model_name": "LayoutModel",
      "state": {}
     },
     "de514ac198ee4f96a23947a300d166c6": {
      "model_module": "@jupyter-widgets/controls",
      "model_module_version": "1.1.0",
      "model_name": "DescriptionStyleModel",
      "state": {
       "description_width": ""
      }
     },
     "de8ca3a9d700404db62e943cbc02e6ce": {
      "model_module": "@jupyter-widgets/controls",
      "model_module_version": "1.1.0",
      "model_name": "ToggleButtonsModel",
      "state": {
       "_options_labels": [
        "20 g/cm²",
        "60 g/cm²"
       ],
       "button_style": "",
       "description": "Thickness:",
       "icons": [],
       "index": 0,
       "layout": "IPY_MODEL_9078c4bcddb24a0c80ee96dce02c78cc",
       "style": "IPY_MODEL_e3f0c8fd96aa4ab99322b59567b8161e",
       "tooltips": [
        "20 g/cm²",
        "60 g/cm²"
       ]
      }
     },
     "dfae9acdbe3d409db72fdff9ac916fc9": {
      "model_module": "@jupyter-widgets/controls",
      "model_module_version": "1.1.0",
      "model_name": "LabelModel",
      "state": {
       "layout": "IPY_MODEL_bccc581e49014ff18c58effdb72679b3",
       "style": "IPY_MODEL_0c5d38b2439f4de1b6158b9ce2c2de5c",
       "value": "Select the detector angles to plot."
      }
     },
     "dfb560290e0e403c9fccbde569a8aebc": {
      "model_module": "@jupyter-widgets/controls",
      "model_module_version": "1.1.0",
      "model_name": "LabelModel",
      "state": {
       "layout": "IPY_MODEL_acbc4eec12c84b1a95db9c9ea2c9b226",
       "style": "IPY_MODEL_5a1015870ae041e78d2db8b9d6e4d69b",
       "value": "Select the detector angles to plot."
      }
     },
     "e02a6cabb30a4011baa7c08d86cd7266": {
      "model_module": "@jupyter-widgets/controls",
      "model_module_version": "1.1.0",
      "model_name": "DescriptionStyleModel",
      "state": {
       "description_width": ""
      }
     },
     "e163e474f57f41afb1c80d3c76fe7cc2": {
      "model_module": "@jupyter-widgets/controls",
      "model_module_version": "1.1.0",
      "model_name": "ToggleButtonsModel",
      "state": {
       "_options_labels": [
        "OLS",
        "NaI"
       ],
       "button_style": "",
       "description": "Type:",
       "icons": [],
       "index": 0,
       "layout": "IPY_MODEL_988a393cd5994582bb58756c59a2cec4",
       "style": "IPY_MODEL_cb43928a574448eca437bc4c9aa2a8d2",
       "tooltips": [
        "Organic Liquid Scintillator",
        "Sodium Iodide"
       ]
      }
     },
     "e18a396c81f740bcb8fd470324b131d6": {
      "model_module": "@jupyter-widgets/controls",
      "model_module_version": "1.1.0",
      "model_name": "DescriptionStyleModel",
      "state": {
       "description_width": ""
      }
     },
     "e1d61a68240847fcb89a97fa2945bff1": {
      "model_module": "@jupyter-widgets/base",
      "model_module_version": "1.0.0",
      "model_name": "LayoutModel",
      "state": {}
     },
     "e276e5c685494292b6190b0bad23e9f6": {
      "model_module": "@jupyter-widgets/controls",
      "model_module_version": "1.1.0",
      "model_name": "DescriptionStyleModel",
      "state": {
       "description_width": ""
      }
     },
     "e2afa7cfcc1a41298897da78530a081d": {
      "model_module": "@jupyter-widgets/base",
      "model_module_version": "1.0.0",
      "model_name": "LayoutModel",
      "state": {}
     },
     "e38bb0cddc9d419990656dfcee6803a8": {
      "model_module": "@jupyter-widgets/base",
      "model_module_version": "1.0.0",
      "model_name": "LayoutModel",
      "state": {}
     },
     "e3c058a88a5b46e7a21cca77776b6f7b": {
      "model_module": "@jupyter-widgets/controls",
      "model_module_version": "1.1.0",
      "model_name": "CheckboxModel",
      "state": {
       "description": "135°",
       "disabled": false,
       "layout": "IPY_MODEL_571570d1fdb24024b81f8c526ee80215",
       "style": "IPY_MODEL_593b60d7d69a4650828cd601b908e6b9",
       "value": true
      }
     },
     "e3f0c8fd96aa4ab99322b59567b8161e": {
      "model_module": "@jupyter-widgets/controls",
      "model_module_version": "1.1.0",
      "model_name": "ToggleButtonsStyleModel",
      "state": {
       "button_width": "",
       "description_width": ""
      }
     },
     "e4375cfc8ff54701b364e8158c74eebf": {
      "model_module": "@jupyter-widgets/controls",
      "model_module_version": "1.1.0",
      "model_name": "DescriptionStyleModel",
      "state": {
       "description_width": ""
      }
     },
     "e47dd9537dee4e0a961986192547775b": {
      "model_module": "@jupyter-widgets/controls",
      "model_module_version": "1.1.0",
      "model_name": "CheckboxModel",
      "state": {
       "description": "10°",
       "disabled": false,
       "layout": "IPY_MODEL_c669a7878a2f4b5998664f3d1a967d02",
       "style": "IPY_MODEL_9bbc77fdd4154a78b93848e63b9411c7",
       "value": true
      }
     },
     "e4d4ee40e9634060ada1b1c42c9d84de": {
      "model_module": "@jupyter-widgets/controls",
      "model_module_version": "1.1.0",
      "model_name": "LabelModel",
      "state": {
       "layout": "IPY_MODEL_a20b631d661f4e6a9754ccdd1b8279ae",
       "style": "IPY_MODEL_b71c3a8d9a2f48ea8113db14d33ee897",
       "value": "Select which sets of data to display."
      }
     },
     "e504e3870f2d434b9b3ce8047fb6ce6a": {
      "model_module": "@jupyter-widgets/controls",
      "model_module_version": "1.1.0",
      "model_name": "ToggleButtonsStyleModel",
      "state": {
       "button_width": "",
       "description_width": ""
      }
     },
     "e6203a22b2264fb9805146732da77ef7": {
      "model_module": "@jupyter-widgets/controls",
      "model_module_version": "1.1.0",
      "model_name": "ToggleButtonsStyleModel",
      "state": {
       "button_width": "",
       "description_width": ""
      }
     },
     "e72b472b555f44c68890ff54d24fd189": {
      "model_module": "@jupyter-widgets/controls",
      "model_module_version": "1.1.0",
      "model_name": "ToggleButtonsModel",
      "state": {
       "_options_labels": [
        "400 MeV/n",
        "800 MeV/n",
        "1500 MeV/n"
       ],
       "button_style": "",
       "description": "Energy:",
       "icons": [],
       "index": 0,
       "layout": "IPY_MODEL_d0e6052d8faf4b2698480ee34caee7d4",
       "style": "IPY_MODEL_1ead81b4709043c994909a2b2b093b5f",
       "tooltips": [
        "lowest energy",
        "middle energy",
        "highest energy"
       ]
      }
     },
     "e791ef4198404877b20852aa1f1999dd": {
      "model_module": "@jupyter-widgets/base",
      "model_module_version": "1.0.0",
      "model_name": "LayoutModel",
      "state": {}
     },
     "e858a2e6bfff44c9a787a49521f4d6a5": {
      "model_module": "@jupyter-widgets/controls",
      "model_module_version": "1.1.0",
      "model_name": "DescriptionStyleModel",
      "state": {
       "description_width": ""
      }
     },
     "e9502940170d4e94abc6619254f97d23": {
      "model_module": "@jupyter-widgets/controls",
      "model_module_version": "1.1.0",
      "model_name": "CheckboxModel",
      "state": {
       "description": "45°",
       "disabled": false,
       "layout": "IPY_MODEL_4693c63a28be4976a31169004a8d002b",
       "style": "IPY_MODEL_143c0b0a8ded453daf70a006d44b7880",
       "value": true
      }
     },
     "e975e26b0362471590a595e5711b6a02": {
      "model_module": "@jupyter-widgets/controls",
      "model_module_version": "1.1.0",
      "model_name": "ToggleButtonsStyleModel",
      "state": {
       "button_width": "",
       "description_width": ""
      }
     },
     "ead1f9378a724f3fac29c1cdad541101": {
      "model_module": "@jupyter-widgets/controls",
      "model_module_version": "1.1.0",
      "model_name": "DescriptionStyleModel",
      "state": {
       "description_width": ""
      }
     },
     "eb182ea4bdca40d1807c6f191db4fefa": {
      "model_module": "@jupyter-widgets/base",
      "model_module_version": "1.0.0",
      "model_name": "LayoutModel",
      "state": {}
     },
     "eb3bc749b5bd437384de45b0ff78c72e": {
      "model_module": "@jupyter-widgets/controls",
      "model_module_version": "1.1.0",
      "model_name": "DescriptionStyleModel",
      "state": {
       "description_width": ""
      }
     },
     "ecb67a303385458cb0a68adc15ac1fc7": {
      "model_module": "@jupyter-widgets/controls",
      "model_module_version": "1.1.0",
      "model_name": "DescriptionStyleModel",
      "state": {
       "description_width": ""
      }
     },
     "ece4d2aad3f0431485bdbeb4ca86c6d4": {
      "model_module": "@jupyter-widgets/controls",
      "model_module_version": "1.1.0",
      "model_name": "DescriptionStyleModel",
      "state": {
       "description_width": ""
      }
     },
     "ecf53ae7c0fb4039bf6f58762a521630": {
      "model_module": "@jupyter-widgets/controls",
      "model_module_version": "1.1.0",
      "model_name": "LabelModel",
      "state": {
       "layout": "IPY_MODEL_f96537a5e7dc4e1a98b108b6f8434a3b",
       "style": "IPY_MODEL_28327983a7144dda802785386bf344e5",
       "value": "Select a detector type."
      }
     },
     "ed3c3afe7bb04260aa2cda37f2e479db": {
      "model_module": "@jupyter-widgets/controls",
      "model_module_version": "1.1.0",
      "model_name": "CheckboxModel",
      "state": {
       "description": "60°",
       "disabled": false,
       "layout": "IPY_MODEL_41e3926362f243e19a8320c94d209953",
       "style": "IPY_MODEL_25e876c3f90c4f3f8dfd969e5d91c1a4",
       "value": true
      }
     },
     "ed9b8aca428d4bfeb7962d86e3245961": {
      "model_module": "@jupyter-widgets/controls",
      "model_module_version": "1.1.0",
      "model_name": "CheckboxModel",
      "state": {
       "description": "80°",
       "disabled": false,
       "layout": "IPY_MODEL_234bc26d1bdc454db32ce045f42ba194",
       "style": "IPY_MODEL_0f09a72e9f9f4937bd8a9ecae88876c4",
       "value": true
      }
     },
     "edf26b31a5c04ae5ac5eb9360ccd15ef": {
      "model_module": "@jupyter-widgets/base",
      "model_module_version": "1.0.0",
      "model_name": "LayoutModel",
      "state": {}
     },
     "ee9508ad87874fd7b8be8d0efe9d98ad": {
      "model_module": "@jupyter-widgets/base",
      "model_module_version": "1.0.0",
      "model_name": "LayoutModel",
      "state": {}
     },
     "eefe43499ee44524b93df0bdab9d7141": {
      "model_module": "@jupyter-widgets/controls",
      "model_module_version": "1.1.0",
      "model_name": "DescriptionStyleModel",
      "state": {
       "description_width": ""
      }
     },
     "ef12815c062c4b8abf7c166758a426b0": {
      "model_module": "@jupyter-widgets/base",
      "model_module_version": "1.0.0",
      "model_name": "LayoutModel",
      "state": {}
     },
     "efdebc32c6d14475963f81083af48fc6": {
      "model_module": "@jupyter-widgets/controls",
      "model_module_version": "1.1.0",
      "model_name": "DescriptionStyleModel",
      "state": {
       "description_width": ""
      }
     },
     "f05a57fc2398413dacc5792e327cfeba": {
      "model_module": "@jupyter-widgets/controls",
      "model_module_version": "1.1.0",
      "model_name": "ToggleButtonsStyleModel",
      "state": {
       "button_width": "",
       "description_width": ""
      }
     },
     "f075aaa215ec4cfe944ca2bc67718f64": {
      "model_module": "@jupyter-widgets/base",
      "model_module_version": "1.0.0",
      "model_name": "LayoutModel",
      "state": {}
     },
     "f13b3349550249a7a8a8925ed41d5a03": {
      "model_module": "@jupyter-widgets/controls",
      "model_module_version": "1.1.0",
      "model_name": "DescriptionStyleModel",
      "state": {
       "description_width": ""
      }
     },
     "f198b3453e774f70bf273162d5d01d64": {
      "model_module": "@jupyter-widgets/base",
      "model_module_version": "1.0.0",
      "model_name": "LayoutModel",
      "state": {}
     },
     "f233b0f7df684cf19f9a4b1a0e80fc0f": {
      "model_module": "@jupyter-widgets/controls",
      "model_module_version": "1.1.0",
      "model_name": "DescriptionStyleModel",
      "state": {
       "description_width": ""
      }
     },
     "f2456de050614fe7ae7c3b92f8de9a80": {
      "model_module": "@jupyter-widgets/controls",
      "model_module_version": "1.1.0",
      "model_name": "LabelModel",
      "state": {
       "layout": "IPY_MODEL_1895e3bc6f044bb8afff35cdcfbc7aab",
       "style": "IPY_MODEL_efdebc32c6d14475963f81083af48fc6",
       "value": "Select upstream target mass thickness."
      }
     },
     "f2a30b5b168d4442829ced54e22cba51": {
      "model_module": "@jupyter-widgets/controls",
      "model_module_version": "1.1.0",
      "model_name": "CheckboxModel",
      "state": {
       "description": "32.7°",
       "disabled": false,
       "layout": "IPY_MODEL_5e26460dacad4849ad851395b6f30865",
       "style": "IPY_MODEL_70e3e49badd545ee81554cf95865dfb5",
       "value": true
      }
     },
     "f3ad70d074f14fb29d3e3e092c92e272": {
      "model_module": "@jupyter-widgets/base",
      "model_module_version": "1.0.0",
      "model_name": "LayoutModel",
      "state": {}
     },
     "f4124d13f85b4c338da0a16a8d35183d": {
      "model_module": "@jupyter-widgets/controls",
      "model_module_version": "1.1.0",
      "model_name": "ToggleButtonsModel",
      "state": {
       "_options_labels": [
        "20 g/cm²",
        "40 g/cm²",
        "60 g/cm²"
       ],
       "button_style": "",
       "description": "Thickness:",
       "icons": [],
       "index": 0,
       "layout": "IPY_MODEL_7751e08282f645879d45fa1ef176160c",
       "style": "IPY_MODEL_15a35212efc8475aaf0e98cf2b28246a",
       "tooltips": [
        "20 g/cm²",
        "40 g/cm²",
        "60 g/cm²"
       ]
      }
     },
     "f4462351516b49a5afd9a3b87837f79c": {
      "model_module": "@jupyter-widgets/controls",
      "model_module_version": "1.1.0",
      "model_name": "LabelModel",
      "state": {
       "layout": "IPY_MODEL_829f31e9b0c8410493c37e562657e989",
       "style": "IPY_MODEL_a311037077c543ca9c84276971387c3d",
       "value": "Select which sets of data to display."
      }
     },
     "f4bcbe0acbd54ece9fa7bc6babb7c729": {
      "model_module": "@jupyter-widgets/base",
      "model_module_version": "1.0.0",
      "model_name": "LayoutModel",
      "state": {}
     },
     "f4c2d755906e4acc82b4b2022cb7d83e": {
      "model_module": "@jupyter-widgets/base",
      "model_module_version": "1.0.0",
      "model_name": "LayoutModel",
      "state": {}
     },
     "f629ac463075401a82db4055047c696a": {
      "model_module": "@jupyter-widgets/controls",
      "model_module_version": "1.1.0",
      "model_name": "LabelModel",
      "state": {
       "layout": "IPY_MODEL_2b77daaeab2946b6ae613f67e7e60193",
       "style": "IPY_MODEL_dbf31784806148b18cf007b56b054246",
       "value": "Select which secondary particle to plot spectra for."
      }
     },
     "f6ec50c9f8d14d6f8261e916602e59c9": {
      "model_module": "@jupyter-widgets/controls",
      "model_module_version": "1.1.0",
      "model_name": "DescriptionStyleModel",
      "state": {
       "description_width": ""
      }
     },
     "f6f17ed301d94057a0bc97f27e6b7024": {
      "model_module": "@jupyter-widgets/base",
      "model_module_version": "1.0.0",
      "model_name": "LayoutModel",
      "state": {}
     },
     "f7774ba6a05344b1a3ec5335eb66bab7": {
      "model_module": "@jupyter-widgets/controls",
      "model_module_version": "1.1.0",
      "model_name": "ToggleButtonsModel",
      "state": {
       "_options_labels": [
        "N",
        "NDC",
        "P (¹ H)",
        "D (² H)",
        "T (³ H)",
        "S (³ He)",
        "A (⁴ He)"
       ],
       "button_style": "",
       "description": "Type:",
       "icons": [],
       "index": 0,
       "layout": "IPY_MODEL_193853f9a1684ec88fc80445d79e0ba9",
       "style": "IPY_MODEL_f05a57fc2398413dacc5792e327cfeba",
       "tooltips": [
        "Neutron",
        "Neutron (deconvoluted)",
        "Proton",
        "Deuteron",
        "Triton",
        "Helium-3",
        "Helium-4"
       ]
      }
     },
     "f7cd482253f94585a80d6bb115ec989f": {
      "model_module": "@jupyter-widgets/controls",
      "model_module_version": "1.1.0",
      "model_name": "DescriptionStyleModel",
      "state": {
       "description_width": ""
      }
     },
     "f8a211f64f1f4f378bcaa6dd3f50b1db": {
      "model_module": "@jupyter-widgets/controls",
      "model_module_version": "1.1.0",
      "model_name": "DescriptionStyleModel",
      "state": {
       "description_width": ""
      }
     },
     "f8c6878758504288a4ef98490a7bf179": {
      "model_module": "@jupyter-widgets/controls",
      "model_module_version": "1.1.0",
      "model_name": "ToggleButtonsStyleModel",
      "state": {
       "button_width": "",
       "description_width": ""
      }
     },
     "f96537a5e7dc4e1a98b108b6f8434a3b": {
      "model_module": "@jupyter-widgets/base",
      "model_module_version": "1.0.0",
      "model_name": "LayoutModel",
      "state": {}
     },
     "f9f8c52f431345f698c281574d22506e": {
      "model_module": "@jupyter-widgets/controls",
      "model_module_version": "1.1.0",
      "model_name": "CheckboxModel",
      "state": {
       "description": "60°",
       "disabled": false,
       "layout": "IPY_MODEL_a6511527a3ec4002aa89520eafdabe73",
       "style": "IPY_MODEL_adef8af3dbef49b5bf0fe6ddeef89d06",
       "value": true
      }
     },
     "fa9b0c391269426f8023ac94e5b71181": {
      "model_module": "@jupyter-widgets/controls",
      "model_module_version": "1.1.0",
      "model_name": "ToggleButtonsStyleModel",
      "state": {
       "button_width": "",
       "description_width": ""
      }
     },
     "fa9e86f21a4f40b6896d4d4df3581ea5": {
      "model_module": "@jupyter-widgets/base",
      "model_module_version": "1.0.0",
      "model_name": "LayoutModel",
      "state": {}
     },
     "fb4682e938f54eb68cf31372aa27daa2": {
      "model_module": "@jupyter-widgets/controls",
      "model_module_version": "1.1.0",
      "model_name": "CheckboxModel",
      "state": {
       "description": "7.2°",
       "disabled": false,
       "layout": "IPY_MODEL_fa9e86f21a4f40b6896d4d4df3581ea5",
       "style": "IPY_MODEL_3a19cc5c39f047ad823d1c15fd11c6ba",
       "value": true
      }
     },
     "fb9d46eb2d9f40789e7030ae2320e2fc": {
      "model_module": "@jupyter-widgets/controls",
      "model_module_version": "1.1.0",
      "model_name": "CheckboxModel",
      "state": {
       "description": "PHITS sim.",
       "disabled": false,
       "layout": "IPY_MODEL_ae58877b32bd4dd5ba8bfdb979bee38a",
       "style": "IPY_MODEL_0b9ff29894144d61b66453698de74215",
       "value": true
      }
     },
     "fbbb3d5744dd4f179f3cc78433cba9c1": {
      "model_module": "@jupyter-widgets/controls",
      "model_module_version": "1.1.0",
      "model_name": "LabelModel",
      "state": {
       "layout": "IPY_MODEL_04e0e02fd9424300a282ee8e21e6a088",
       "style": "IPY_MODEL_5af719f86866423986c2dfaf7aaf50e7",
       "value": "Select upstream target mass thickness."
      }
     },
     "fc3c7d1c3a824bc4a7ab4ae7d3a76502": {
      "model_module": "@jupyter-widgets/controls",
      "model_module_version": "1.1.0",
      "model_name": "DescriptionStyleModel",
      "state": {
       "description_width": ""
      }
     },
     "fe09287dcce44265aedb2fbe5024622d": {
      "model_module": "@jupyter-widgets/controls",
      "model_module_version": "1.1.0",
      "model_name": "DescriptionStyleModel",
      "state": {
       "description_width": ""
      }
     },
     "fe444945620d4fd68f0f58c5bde35180": {
      "model_module": "@jupyter-widgets/controls",
      "model_module_version": "1.1.0",
      "model_name": "CheckboxModel",
      "state": {
       "description": "135°",
       "disabled": false,
       "layout": "IPY_MODEL_f075aaa215ec4cfe944ca2bc67718f64",
       "style": "IPY_MODEL_c1b5218451a5463aaba4be6b444620f8",
       "value": true
      }
     },
     "fe5af945dcef46c08027357980776cea": {
      "model_module": "@jupyter-widgets/base",
      "model_module_version": "1.0.0",
      "model_name": "LayoutModel",
      "state": {}
     },
     "fec67650c81745c4b3f268ff4c7b72a6": {
      "model_module": "@jupyter-widgets/base",
      "model_module_version": "1.0.0",
      "model_name": "LayoutModel",
      "state": {}
     },
     "ff08751772c74d82b2870c4b2b9d7ac7": {
      "model_module": "@jupyter-widgets/controls",
      "model_module_version": "1.1.0",
      "model_name": "ToggleButtonsModel",
      "state": {
       "_options_labels": [
        "20 g/cm²",
        "60 g/cm²"
       ],
       "button_style": "",
       "description": "Thickness:",
       "icons": [],
       "index": 0,
       "layout": "IPY_MODEL_aae4adf9553e4a9096373ce3db4ba1e4",
       "style": "IPY_MODEL_9ca2baab08d14cfbbc0b308d87b7cf99",
       "tooltips": [
        "20 g/cm²",
        "60 g/cm²"
       ]
      }
     },
     "fff3f5f35d4b40bb988303683eb78bbb": {
      "model_module": "@jupyter-widgets/controls",
      "model_module_version": "1.1.0",
      "model_name": "ToggleButtonsModel",
      "state": {
       "_options_labels": [
        "H",
        "He",
        "C",
        "Si",
        "Fe"
       ],
       "button_style": "",
       "description": "Ion:",
       "icons": [],
       "index": 2,
       "layout": "IPY_MODEL_0b494dc80487406a9b61c6f01741dc0a",
       "style": "IPY_MODEL_120e79b40cc1437caea92ee8f745a440",
       "tooltips": [
        "Hydrogen",
        "Helium",
        "Carbon",
        "Silicon",
        "Iron"
       ]
      }
     },
     "fff6cf548d564635b9b9146c8655a150": {
      "model_module": "@jupyter-widgets/controls",
      "model_module_version": "1.1.0",
      "model_name": "DescriptionStyleModel",
      "state": {
       "description_width": ""
      }
     }
    },
    "version_major": 2,
    "version_minor": 0
   }
  }
 },
 "nbformat": 4,
 "nbformat_minor": 1
}
