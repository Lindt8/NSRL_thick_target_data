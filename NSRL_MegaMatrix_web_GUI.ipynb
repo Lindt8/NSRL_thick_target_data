{
 "cells": [
  {
   "cell_type": "code",
   "execution_count": 297,
   "metadata": {},
   "outputs": [
    {
     "data": {
      "application/vnd.jupyter.widget-view+json": {
       "model_id": "5f113d14fd52493d9eb5984ada6b2e42",
       "version_major": 2,
       "version_minor": 0
      },
      "text/html": [
       "<p>Failed to display Jupyter Widget of type <code>Label</code>.</p>\n",
       "<p>\n",
       "  If you're reading this message in the Jupyter Notebook or JupyterLab Notebook, it may mean\n",
       "  that the widgets JavaScript is still loading. If this message persists, it\n",
       "  likely means that the widgets JavaScript library is either not installed or\n",
       "  not enabled. See the <a href=\"https://ipywidgets.readthedocs.io/en/stable/user_install.html\">Jupyter\n",
       "  Widgets Documentation</a> for setup instructions.\n",
       "</p>\n",
       "<p>\n",
       "  If you're reading this message in another frontend (for example, a static\n",
       "  rendering on GitHub or <a href=\"https://nbviewer.jupyter.org/\">NBViewer</a>),\n",
       "  it may mean that your frontend doesn't currently support widgets.\n",
       "</p>\n"
      ],
      "text/plain": [
       "Label(value='Select projectile ion species.')"
      ]
     },
     "metadata": {},
     "output_type": "display_data"
    },
    {
     "data": {
      "application/vnd.jupyter.widget-view+json": {
       "model_id": "6a1f888fb187444b8b8816ece3163ab6",
       "version_major": 2,
       "version_minor": 0
      },
      "text/html": [
       "<p>Failed to display Jupyter Widget of type <code>ToggleButtons</code>.</p>\n",
       "<p>\n",
       "  If you're reading this message in the Jupyter Notebook or JupyterLab Notebook, it may mean\n",
       "  that the widgets JavaScript is still loading. If this message persists, it\n",
       "  likely means that the widgets JavaScript library is either not installed or\n",
       "  not enabled. See the <a href=\"https://ipywidgets.readthedocs.io/en/stable/user_install.html\">Jupyter\n",
       "  Widgets Documentation</a> for setup instructions.\n",
       "</p>\n",
       "<p>\n",
       "  If you're reading this message in another frontend (for example, a static\n",
       "  rendering on GitHub or <a href=\"https://nbviewer.jupyter.org/\">NBViewer</a>),\n",
       "  it may mean that your frontend doesn't currently support widgets.\n",
       "</p>\n"
      ],
      "text/plain": [
       "ToggleButtons(description='Ion:', options=('H', 'He', 'C', 'Si', 'Fe'), tooltips=['Hydrogen', 'Helium', 'Carbon', 'Silicon', 'Iron'], value='H')"
      ]
     },
     "metadata": {},
     "output_type": "display_data"
    },
    {
     "data": {
      "application/javascript": [
       "IPython.notebook.execute_cell_range(IPython.notebook.get_selected_index()+1, IPython.notebook.ncells())"
      ],
      "text/plain": [
       "<IPython.core.display.Javascript object>"
      ]
     },
     "metadata": {},
     "output_type": "display_data"
    }
   ],
   "source": [
    "%matplotlib notebook\n",
    "\n",
    "import numpy as np\n",
    "import matplotlib.pyplot as plt\n",
    "from matplotlib.collections import PatchCollection\n",
    "from matplotlib.patches import Rectangle\n",
    "import re\n",
    "from IPython.display import display\n",
    "from ipywidgets import interact, interactive, fixed, interact_manual\n",
    "import ipywidgets as widgets\n",
    "from IPython.display import Javascript\n",
    "\n",
    "def find(target, myList):\n",
    "    for i in range(len(myList)):\n",
    "        if myList[i] == target:\n",
    "            return i       \n",
    "\n",
    "def on_click(change):\n",
    "    #display(Javascript('IPython.notebook.execute_cells_below()'))  \n",
    "    display(Javascript('IPython.notebook.execute_cell_range(IPython.notebook.get_selected_index()+1, IPython.notebook.ncells())'))\n",
    "\n",
    "# Function to plot error boxes\n",
    "def makeErrorBoxes(xdata,ydata,xerror,yerror,fc='None',ec='k',alpha=1.0,lw=1):\n",
    "    # Create list for all the error patches\n",
    "    errorboxes = []\n",
    "\n",
    "    # Loop over data points; create box from errors at each point\n",
    "    for xc,yc,xe,ye in zip(xdata,ydata,xerror.T,yerror.T):\n",
    "        rect = Rectangle((xc-xe[0],yc-ye[0]),xe.sum(),ye.sum())\n",
    "        errorboxes.append(rect)\n",
    "\n",
    "    # Create patch collection with specified colour/alpha\n",
    "    pc = PatchCollection(errorboxes,facecolor=fc,alpha=alpha,edgecolor=ec,linewidth=lw)\n",
    "\n",
    "    # Add collection to axes\n",
    "    ax.add_collection(pc)    \n",
    "\n",
    "def detector_colors(di):\n",
    "    #colors_list = ['b','g','r','c','m','y'] # Python 3 old default\n",
    "    #colors_list = ['#b2182b','#d6604d','#f4a582','#92c5de','#4393c3','#2166ac'] # blue to red cold\n",
    "    #colors_list = ['#d73027','#f46d43','#fdae61','#abd9e9','#74add1','#4575b4'] # blue to red warm\n",
    "    #colors_list = ['#762a83','#9970ab','#c2a5cf','#a6dba0','#5aae61','#1b7837'] # purple to green\n",
    "    #colors_list = ['#40004b','#762a83','#9970ab','#5aae61','#1b7837','#00441b'] # purple to green darker\n",
    "    #colors_list = [\"#afa83a\",\"#7f63b8\",\"#56ae6c\",\"#b84c7d\",\"#ac863f\",\"#b94d3d\"] # iWantHue 1\n",
    "    #colors_list = ['#1b9e77','#d95f02','#7570b3','#e7298a','#66a61e','#e6ab02'] # qualitative dark 1\n",
    "    colors_list = ['#e41a1c','#377eb8','#4daf4a','#984ea3','#ff7f00','#a65628'] # qualitative dark 2\n",
    "    return colors_list[di]\n",
    "    \n",
    "data_version = 'v7'\n",
    "\n",
    "metadata_file = 'metadata_matrix_' + data_version + '.npy'\n",
    "mm_metadata = np.load(metadata_file) # data set, ion species, ion energy, target material, target thickness, secondary particle, detector, header meta data\n",
    "exists_file = 'exists_matrix_' + data_version + '.npy'\n",
    "mm_exists = np.load(exists_file) # data set, ion species, ion energy, target material, target thickness, secondary particle, detector\n",
    "\n",
    "#values_file = 'values_matrix_' + data_version + '.npy'\n",
    "#mm_values = np.load(values_file) # data set, ion species, ion energy, target material, target thickness, secondary particle, detector, column values, energy bins\n",
    "\n",
    "#print(mm_metadata[0,0,0,0,0,0,0,0])\n",
    "\n",
    "projectile_sym_str = ['H', 'He', 'C', 'Si', 'Fe']\n",
    "projectile_longnames_str = ['Hydrogen', 'Helium', 'Carbon', 'Silicon', 'Iron']\n",
    "\n",
    "mm_values_names_list = []\n",
    "for i in range(5):\n",
    "    mm_values_names_list.append('values_matrix_' + projectile_sym_str[i].lower() + \"_\" + data_version + '.npy')\n",
    "\n",
    "is_label = widgets.Label(value=\"Select projectile ion species.\")\n",
    "    \n",
    "ion_species = widgets.ToggleButtons(\n",
    "    options=projectile_sym_str,\n",
    "    description='Ion:',\n",
    "    disabled=False,\n",
    "    button_style='', # 'success', 'info', 'warning', 'danger' or ''\n",
    "    tooltips=projectile_longnames_str,\n",
    "#     icons=['check'] * 5\n",
    ")\n",
    "\n",
    "ion_species.observe(on_click, 'value')\n",
    "display(is_label,ion_species)\n"
   ]
  },
  {
   "cell_type": "code",
   "execution_count": 298,
   "metadata": {},
   "outputs": [
    {
     "data": {
      "application/vnd.jupyter.widget-view+json": {
       "model_id": "3a57a33f426241ed92167dd10a1e6a05",
       "version_major": 2,
       "version_minor": 0
      },
      "text/html": [
       "<p>Failed to display Jupyter Widget of type <code>Label</code>.</p>\n",
       "<p>\n",
       "  If you're reading this message in the Jupyter Notebook or JupyterLab Notebook, it may mean\n",
       "  that the widgets JavaScript is still loading. If this message persists, it\n",
       "  likely means that the widgets JavaScript library is either not installed or\n",
       "  not enabled. See the <a href=\"https://ipywidgets.readthedocs.io/en/stable/user_install.html\">Jupyter\n",
       "  Widgets Documentation</a> for setup instructions.\n",
       "</p>\n",
       "<p>\n",
       "  If you're reading this message in another frontend (for example, a static\n",
       "  rendering on GitHub or <a href=\"https://nbviewer.jupyter.org/\">NBViewer</a>),\n",
       "  it may mean that your frontend doesn't currently support widgets.\n",
       "</p>\n"
      ],
      "text/plain": [
       "Label(value='Select projectile ion energy.')"
      ]
     },
     "metadata": {},
     "output_type": "display_data"
    },
    {
     "data": {
      "application/vnd.jupyter.widget-view+json": {
       "model_id": "00cca51367df4bcfb354145d54057116",
       "version_major": 2,
       "version_minor": 0
      },
      "text/html": [
       "<p>Failed to display Jupyter Widget of type <code>ToggleButtons</code>.</p>\n",
       "<p>\n",
       "  If you're reading this message in the Jupyter Notebook or JupyterLab Notebook, it may mean\n",
       "  that the widgets JavaScript is still loading. If this message persists, it\n",
       "  likely means that the widgets JavaScript library is either not installed or\n",
       "  not enabled. See the <a href=\"https://ipywidgets.readthedocs.io/en/stable/user_install.html\">Jupyter\n",
       "  Widgets Documentation</a> for setup instructions.\n",
       "</p>\n",
       "<p>\n",
       "  If you're reading this message in another frontend (for example, a static\n",
       "  rendering on GitHub or <a href=\"https://nbviewer.jupyter.org/\">NBViewer</a>),\n",
       "  it may mean that your frontend doesn't currently support widgets.\n",
       "</p>\n"
      ],
      "text/plain": [
       "ToggleButtons(description='Energy:', options=('400 MeV/n', '800 MeV/n', '1500 MeV/n'), tooltips=['lowest energy', 'middle energy', 'highest energy'], value='400 MeV/n')"
      ]
     },
     "metadata": {},
     "output_type": "display_data"
    },
    {
     "data": {
      "application/javascript": [
       "IPython.notebook.execute_cell_range(IPython.notebook.get_selected_index()+1, IPython.notebook.ncells())"
      ],
      "text/plain": [
       "<IPython.core.display.Javascript object>"
      ]
     },
     "metadata": {},
     "output_type": "display_data"
    }
   ],
   "source": [
    "isi = find(ion_species.value,projectile_sym_str)\n",
    "mm_values = np.load(mm_values_names_list[isi])\n",
    "\n",
    "def erg_options(isi):\n",
    "    if isi == 0:\n",
    "        proj_E = ['400 MeV','800 MeV','2500 MeV']\n",
    "    else:\n",
    "        proj_E = ['400 MeV/n','800 MeV/n','1500 MeV/n']\n",
    "    return proj_E\n",
    "\n",
    "Projectile_E_tooltips = ['lowest energy','middle energy', 'highest energy']\n",
    "\n",
    "ie_label = widgets.Label(value=\"Select projectile ion energy.\")\n",
    "\n",
    "ion_energy = widgets.ToggleButtons(\n",
    "    options=erg_options(isi),\n",
    "    description='Energy:',\n",
    "    disabled=False,\n",
    "    button_style='', # 'success', 'info', 'warning', 'danger' or ''\n",
    "    tooltips=Projectile_E_tooltips,\n",
    "#     icons=['check'] * 5\n",
    ")\n",
    "\n",
    "ion_energy.observe(on_click, 'value')\n",
    "display(ie_label, ion_energy)\n"
   ]
  },
  {
   "cell_type": "code",
   "execution_count": 307,
   "metadata": {},
   "outputs": [
    {
     "data": {
      "application/vnd.jupyter.widget-view+json": {
       "model_id": "16958f9938ca436b9760d51d8004ab62",
       "version_major": 2,
       "version_minor": 0
      },
      "text/html": [
       "<p>Failed to display Jupyter Widget of type <code>Label</code>.</p>\n",
       "<p>\n",
       "  If you're reading this message in the Jupyter Notebook or JupyterLab Notebook, it may mean\n",
       "  that the widgets JavaScript is still loading. If this message persists, it\n",
       "  likely means that the widgets JavaScript library is either not installed or\n",
       "  not enabled. See the <a href=\"https://ipywidgets.readthedocs.io/en/stable/user_install.html\">Jupyter\n",
       "  Widgets Documentation</a> for setup instructions.\n",
       "</p>\n",
       "<p>\n",
       "  If you're reading this message in another frontend (for example, a static\n",
       "  rendering on GitHub or <a href=\"https://nbviewer.jupyter.org/\">NBViewer</a>),\n",
       "  it may mean that your frontend doesn't currently support widgets.\n",
       "</p>\n"
      ],
      "text/plain": [
       "Label(value='Select upstream target material.')"
      ]
     },
     "metadata": {},
     "output_type": "display_data"
    },
    {
     "data": {
      "application/vnd.jupyter.widget-view+json": {
       "model_id": "b1cb410054dc4e92b61894c3e6d6f34d",
       "version_major": 2,
       "version_minor": 0
      },
      "text/html": [
       "<p>Failed to display Jupyter Widget of type <code>ToggleButtons</code>.</p>\n",
       "<p>\n",
       "  If you're reading this message in the Jupyter Notebook or JupyterLab Notebook, it may mean\n",
       "  that the widgets JavaScript is still loading. If this message persists, it\n",
       "  likely means that the widgets JavaScript library is either not installed or\n",
       "  not enabled. See the <a href=\"https://ipywidgets.readthedocs.io/en/stable/user_install.html\">Jupyter\n",
       "  Widgets Documentation</a> for setup instructions.\n",
       "</p>\n",
       "<p>\n",
       "  If you're reading this message in another frontend (for example, a static\n",
       "  rendering on GitHub or <a href=\"https://nbviewer.jupyter.org/\">NBViewer</a>),\n",
       "  it may mean that your frontend doesn't currently support widgets.\n",
       "</p>\n"
      ],
      "text/plain": [
       "ToggleButtons(description='Material:', options=('Al', 'HDPE', 'AlPE'), tooltips=['Aluminum', 'Polyethylene', 'Combination of Al and HDPE'], value='Al')"
      ]
     },
     "metadata": {},
     "output_type": "display_data"
    },
    {
     "data": {
      "application/javascript": [
       "IPython.notebook.execute_cell_range(IPython.notebook.get_selected_index()+1, IPython.notebook.ncells())"
      ],
      "text/plain": [
       "<IPython.core.display.Javascript object>"
      ]
     },
     "metadata": {},
     "output_type": "display_data"
    }
   ],
   "source": [
    "iei = find(ion_energy.value,erg_options(isi))\n",
    "\n",
    "target_mats_long = ['Aluminum','Polyethylene','Combination of Al and HDPE']\n",
    "target_mats_short = ['Al','HDPE','AlPE']\n",
    "\n",
    "tm_label = widgets.Label(value=\"Select upstream target material.\")\n",
    "\n",
    "target_material = widgets.ToggleButtons(\n",
    "    options=target_mats_short,\n",
    "    description='Material:',\n",
    "    disabled=False,\n",
    "    button_style='', # 'success', 'info', 'warning', 'danger' or ''\n",
    "    tooltips=target_mats_long,\n",
    "#     icons=['check'] * 3\n",
    ")\n",
    "\n",
    "target_material.observe(on_click, 'value')\n",
    "display(tm_label, target_material)"
   ]
  },
  {
   "cell_type": "code",
   "execution_count": 315,
   "metadata": {},
   "outputs": [
    {
     "data": {
      "application/vnd.jupyter.widget-view+json": {
       "model_id": "a4e094b96e2e4b45af2c56f733103b88",
       "version_major": 2,
       "version_minor": 0
      },
      "text/html": [
       "<p>Failed to display Jupyter Widget of type <code>Label</code>.</p>\n",
       "<p>\n",
       "  If you're reading this message in the Jupyter Notebook or JupyterLab Notebook, it may mean\n",
       "  that the widgets JavaScript is still loading. If this message persists, it\n",
       "  likely means that the widgets JavaScript library is either not installed or\n",
       "  not enabled. See the <a href=\"https://ipywidgets.readthedocs.io/en/stable/user_install.html\">Jupyter\n",
       "  Widgets Documentation</a> for setup instructions.\n",
       "</p>\n",
       "<p>\n",
       "  If you're reading this message in another frontend (for example, a static\n",
       "  rendering on GitHub or <a href=\"https://nbviewer.jupyter.org/\">NBViewer</a>),\n",
       "  it may mean that your frontend doesn't currently support widgets.\n",
       "</p>\n"
      ],
      "text/plain": [
       "Label(value='Select upstream target mass thickness.')"
      ]
     },
     "metadata": {},
     "output_type": "display_data"
    },
    {
     "data": {
      "application/vnd.jupyter.widget-view+json": {
       "model_id": "22ab045ebac6415d8e002d58d6f6bba4",
       "version_major": 2,
       "version_minor": 0
      },
      "text/html": [
       "<p>Failed to display Jupyter Widget of type <code>ToggleButtons</code>.</p>\n",
       "<p>\n",
       "  If you're reading this message in the Jupyter Notebook or JupyterLab Notebook, it may mean\n",
       "  that the widgets JavaScript is still loading. If this message persists, it\n",
       "  likely means that the widgets JavaScript library is either not installed or\n",
       "  not enabled. See the <a href=\"https://ipywidgets.readthedocs.io/en/stable/user_install.html\">Jupyter\n",
       "  Widgets Documentation</a> for setup instructions.\n",
       "</p>\n",
       "<p>\n",
       "  If you're reading this message in another frontend (for example, a static\n",
       "  rendering on GitHub or <a href=\"https://nbviewer.jupyter.org/\">NBViewer</a>),\n",
       "  it may mean that your frontend doesn't currently support widgets.\n",
       "</p>\n"
      ],
      "text/plain": [
       "ToggleButtons(description='Thickness:', options=('20 g/cm²', '40 g/cm²', '60 g/cm²'), tooltips=['20 g/cm²', '40 g/cm²', '60 g/cm²'], value='20 g/cm²')"
      ]
     },
     "metadata": {},
     "output_type": "display_data"
    }
   ],
   "source": [
    "ftmi = find(target_material.value,target_mats_short)\n",
    "thicknesses = ['20 g/cm\\u00B2','40 g/cm\\u00B2','60 g/cm\\u00B2']\n",
    "def thickness_options(ftmi):\n",
    "    if ftmi == 2:\n",
    "        thicknesses = ['20 g/cm\\u00B2','60 g/cm\\u00B2']\n",
    "    else:\n",
    "        thicknesses = ['20 g/cm\\u00B2','40 g/cm\\u00B2','60 g/cm\\u00B2']\n",
    "    return thicknesses\n",
    "\n",
    "tt_label = widgets.Label(value=\"Select upstream target mass thickness.\")\n",
    "\n",
    "target_thickness = widgets.ToggleButtons(\n",
    "    options=thickness_options(ftmi),\n",
    "    description='Thickness:',\n",
    "    disabled=False,\n",
    "    button_style='', # 'success', 'info', 'warning', 'danger' or ''\n",
    "    tooltips=thickness_options(ftmi),\n",
    "#     icons=['check'] * 3\n",
    ")\n",
    "\n",
    "target_thickness.observe(on_click, 'value')\n",
    "display(tt_label, target_thickness)"
   ]
  },
  {
   "cell_type": "code",
   "execution_count": 316,
   "metadata": {},
   "outputs": [
    {
     "data": {
      "application/vnd.jupyter.widget-view+json": {
       "model_id": "4c329c8c4b0b495e86bbe2fa383fae89",
       "version_major": 2,
       "version_minor": 0
      },
      "text/html": [
       "<p>Failed to display Jupyter Widget of type <code>Label</code>.</p>\n",
       "<p>\n",
       "  If you're reading this message in the Jupyter Notebook or JupyterLab Notebook, it may mean\n",
       "  that the widgets JavaScript is still loading. If this message persists, it\n",
       "  likely means that the widgets JavaScript library is either not installed or\n",
       "  not enabled. See the <a href=\"https://ipywidgets.readthedocs.io/en/stable/user_install.html\">Jupyter\n",
       "  Widgets Documentation</a> for setup instructions.\n",
       "</p>\n",
       "<p>\n",
       "  If you're reading this message in another frontend (for example, a static\n",
       "  rendering on GitHub or <a href=\"https://nbviewer.jupyter.org/\">NBViewer</a>),\n",
       "  it may mean that your frontend doesn't currently support widgets.\n",
       "</p>\n"
      ],
      "text/plain": [
       "Label(value='Select a detector type.')"
      ]
     },
     "metadata": {},
     "output_type": "display_data"
    },
    {
     "data": {
      "application/vnd.jupyter.widget-view+json": {
       "model_id": "26ffa43042e44d0c8ee2334db024f302",
       "version_major": 2,
       "version_minor": 0
      },
      "text/html": [
       "<p>Failed to display Jupyter Widget of type <code>ToggleButtons</code>.</p>\n",
       "<p>\n",
       "  If you're reading this message in the Jupyter Notebook or JupyterLab Notebook, it may mean\n",
       "  that the widgets JavaScript is still loading. If this message persists, it\n",
       "  likely means that the widgets JavaScript library is either not installed or\n",
       "  not enabled. See the <a href=\"https://ipywidgets.readthedocs.io/en/stable/user_install.html\">Jupyter\n",
       "  Widgets Documentation</a> for setup instructions.\n",
       "</p>\n",
       "<p>\n",
       "  If you're reading this message in another frontend (for example, a static\n",
       "  rendering on GitHub or <a href=\"https://nbviewer.jupyter.org/\">NBViewer</a>),\n",
       "  it may mean that your frontend doesn't currently support widgets.\n",
       "</p>\n"
      ],
      "text/plain": [
       "ToggleButtons(description='Type:', options=('OLS', 'NaI'), tooltips=['Organic Liquid Scintillator', 'Sodium Iodide'], value='OLS')"
      ]
     },
     "metadata": {},
     "output_type": "display_data"
    }
   ],
   "source": [
    "ftti = find(target_thickness.value,thicknesses)\n",
    "\n",
    "detectors_short = ['OLS','NaI']\n",
    "detectors_long = ['Organic Liquid Scintillator','Sodium Iodide']\n",
    "\n",
    "dt_label = widgets.Label(value=\"Select a detector type.\")\n",
    "\n",
    "detector_type = widgets.ToggleButtons(\n",
    "    options=detectors_short,\n",
    "    description='Type:',\n",
    "    disabled=False,\n",
    "    button_style='', # 'success', 'info', 'warning', 'danger' or ''\n",
    "    tooltips=detectors_long,\n",
    "#     icons=['check'] * 3\n",
    ")\n",
    "\n",
    "detector_type.observe(on_click, 'value')\n",
    "display(dt_label,detector_type)"
   ]
  },
  {
   "cell_type": "code",
   "execution_count": 317,
   "metadata": {},
   "outputs": [
    {
     "data": {
      "application/vnd.jupyter.widget-view+json": {
       "model_id": "d3c2b7f0266048b9981ceeb075f28766",
       "version_major": 2,
       "version_minor": 0
      },
      "text/html": [
       "<p>Failed to display Jupyter Widget of type <code>Label</code>.</p>\n",
       "<p>\n",
       "  If you're reading this message in the Jupyter Notebook or JupyterLab Notebook, it may mean\n",
       "  that the widgets JavaScript is still loading. If this message persists, it\n",
       "  likely means that the widgets JavaScript library is either not installed or\n",
       "  not enabled. See the <a href=\"https://ipywidgets.readthedocs.io/en/stable/user_install.html\">Jupyter\n",
       "  Widgets Documentation</a> for setup instructions.\n",
       "</p>\n",
       "<p>\n",
       "  If you're reading this message in another frontend (for example, a static\n",
       "  rendering on GitHub or <a href=\"https://nbviewer.jupyter.org/\">NBViewer</a>),\n",
       "  it may mean that your frontend doesn't currently support widgets.\n",
       "</p>\n"
      ],
      "text/plain": [
       "Label(value='Select which secondary particle to plot spectra for.')"
      ]
     },
     "metadata": {},
     "output_type": "display_data"
    },
    {
     "data": {
      "application/vnd.jupyter.widget-view+json": {
       "model_id": "0db4e7aa83d24341845f403fa4e42475",
       "version_major": 2,
       "version_minor": 0
      },
      "text/html": [
       "<p>Failed to display Jupyter Widget of type <code>ToggleButtons</code>.</p>\n",
       "<p>\n",
       "  If you're reading this message in the Jupyter Notebook or JupyterLab Notebook, it may mean\n",
       "  that the widgets JavaScript is still loading. If this message persists, it\n",
       "  likely means that the widgets JavaScript library is either not installed or\n",
       "  not enabled. See the <a href=\"https://ipywidgets.readthedocs.io/en/stable/user_install.html\">Jupyter\n",
       "  Widgets Documentation</a> for setup instructions.\n",
       "</p>\n",
       "<p>\n",
       "  If you're reading this message in another frontend (for example, a static\n",
       "  rendering on GitHub or <a href=\"https://nbviewer.jupyter.org/\">NBViewer</a>),\n",
       "  it may mean that your frontend doesn't currently support widgets.\n",
       "</p>\n"
      ],
      "text/plain": [
       "ToggleButtons(description='Type:', options=('N', 'NDC'), tooltips=['Neutron', 'Back Target Neutron'], value='N')"
      ]
     },
     "metadata": {},
     "output_type": "display_data"
    }
   ],
   "source": [
    "detti = find(detector_type.value,detectors_short)\n",
    "if detti==1: \n",
    "    add2deti = 6 # offset in matrix for NaI detectors\n",
    "else:\n",
    "    add2deti = 0 \n",
    "\n",
    "# See which secondary particles exist\n",
    "existing_pars_i = []\n",
    "for i in range(np.shape(mm_exists[0,isi,iei,ftmi,ftti,:,add2deti:(add2deti+6)])[0]):\n",
    "    if np.any(mm_exists[0,isi,iei,ftmi,ftti,i,add2deti:(add2deti+6)]):\n",
    "        existing_pars_i.append(i)\n",
    "        \n",
    "particles_long = ['Neutron','Back Target Neutron','Proton','Deuteron','Triton','Helium-3','Helium-4'] # second 'Neutron' can be renamed to specify deconvoluted origin\n",
    "particles_short = ['N','NDC','H','D','T','S','A']\n",
    "particles_med = ['N','NDC','P (\\u00B9H)','D (\\u00B2H)','T (\\u00B3H)','S (\\u00B3He)','A (\\u2074He)']\n",
    "\n",
    "present_pars_long = [particles_long[i] for i in existing_pars_i]\n",
    "present_pars_med = [particles_med[i] for i in existing_pars_i]\n",
    "\n",
    "sp_label = widgets.Label(value=\"Select which secondary particle to plot spectra for.\")\n",
    "\n",
    "secondary_particle = widgets.ToggleButtons(\n",
    "    options=present_pars_med,\n",
    "    description='Type:',\n",
    "    disabled=False,\n",
    "    button_style='', # 'success', 'info', 'warning', 'danger' or ''\n",
    "    tooltips=present_pars_long,\n",
    "#     icons=['check'] * 3\n",
    ")\n",
    "\n",
    "secondary_particle.observe(on_click, 'value')\n",
    "display(sp_label,secondary_particle)\n"
   ]
  },
  {
   "cell_type": "code",
   "execution_count": 318,
   "metadata": {},
   "outputs": [
    {
     "data": {
      "application/vnd.jupyter.widget-view+json": {
       "model_id": "c91e164ea8734aae8cc2f3560fd30691",
       "version_major": 2,
       "version_minor": 0
      },
      "text/html": [
       "<p>Failed to display Jupyter Widget of type <code>Label</code>.</p>\n",
       "<p>\n",
       "  If you're reading this message in the Jupyter Notebook or JupyterLab Notebook, it may mean\n",
       "  that the widgets JavaScript is still loading. If this message persists, it\n",
       "  likely means that the widgets JavaScript library is either not installed or\n",
       "  not enabled. See the <a href=\"https://ipywidgets.readthedocs.io/en/stable/user_install.html\">Jupyter\n",
       "  Widgets Documentation</a> for setup instructions.\n",
       "</p>\n",
       "<p>\n",
       "  If you're reading this message in another frontend (for example, a static\n",
       "  rendering on GitHub or <a href=\"https://nbviewer.jupyter.org/\">NBViewer</a>),\n",
       "  it may mean that your frontend doesn't currently support widgets.\n",
       "</p>\n"
      ],
      "text/plain": [
       "Label(value='Select the detector angles to plot.')"
      ]
     },
     "metadata": {},
     "output_type": "display_data"
    },
    {
     "data": {
      "application/vnd.jupyter.widget-view+json": {
       "model_id": "bb8a3622c0254bdda0be7fd78bdc2cf2",
       "version_major": 2,
       "version_minor": 0
      },
      "text/html": [
       "<p>Failed to display Jupyter Widget of type <code>Checkbox</code>.</p>\n",
       "<p>\n",
       "  If you're reading this message in the Jupyter Notebook or JupyterLab Notebook, it may mean\n",
       "  that the widgets JavaScript is still loading. If this message persists, it\n",
       "  likely means that the widgets JavaScript library is either not installed or\n",
       "  not enabled. See the <a href=\"https://ipywidgets.readthedocs.io/en/stable/user_install.html\">Jupyter\n",
       "  Widgets Documentation</a> for setup instructions.\n",
       "</p>\n",
       "<p>\n",
       "  If you're reading this message in another frontend (for example, a static\n",
       "  rendering on GitHub or <a href=\"https://nbviewer.jupyter.org/\">NBViewer</a>),\n",
       "  it may mean that your frontend doesn't currently support widgets.\n",
       "</p>\n"
      ],
      "text/plain": [
       "Checkbox(value=True, description='10°')"
      ]
     },
     "metadata": {},
     "output_type": "display_data"
    },
    {
     "data": {
      "application/vnd.jupyter.widget-view+json": {
       "model_id": "73c8c9faa0f94da6903baf7c019de709",
       "version_major": 2,
       "version_minor": 0
      },
      "text/html": [
       "<p>Failed to display Jupyter Widget of type <code>Checkbox</code>.</p>\n",
       "<p>\n",
       "  If you're reading this message in the Jupyter Notebook or JupyterLab Notebook, it may mean\n",
       "  that the widgets JavaScript is still loading. If this message persists, it\n",
       "  likely means that the widgets JavaScript library is either not installed or\n",
       "  not enabled. See the <a href=\"https://ipywidgets.readthedocs.io/en/stable/user_install.html\">Jupyter\n",
       "  Widgets Documentation</a> for setup instructions.\n",
       "</p>\n",
       "<p>\n",
       "  If you're reading this message in another frontend (for example, a static\n",
       "  rendering on GitHub or <a href=\"https://nbviewer.jupyter.org/\">NBViewer</a>),\n",
       "  it may mean that your frontend doesn't currently support widgets.\n",
       "</p>\n"
      ],
      "text/plain": [
       "Checkbox(value=True, description='30°')"
      ]
     },
     "metadata": {},
     "output_type": "display_data"
    },
    {
     "data": {
      "application/vnd.jupyter.widget-view+json": {
       "model_id": "56065b7b17a24f8781fc26b87fe0b7fd",
       "version_major": 2,
       "version_minor": 0
      },
      "text/html": [
       "<p>Failed to display Jupyter Widget of type <code>Checkbox</code>.</p>\n",
       "<p>\n",
       "  If you're reading this message in the Jupyter Notebook or JupyterLab Notebook, it may mean\n",
       "  that the widgets JavaScript is still loading. If this message persists, it\n",
       "  likely means that the widgets JavaScript library is either not installed or\n",
       "  not enabled. See the <a href=\"https://ipywidgets.readthedocs.io/en/stable/user_install.html\">Jupyter\n",
       "  Widgets Documentation</a> for setup instructions.\n",
       "</p>\n",
       "<p>\n",
       "  If you're reading this message in another frontend (for example, a static\n",
       "  rendering on GitHub or <a href=\"https://nbviewer.jupyter.org/\">NBViewer</a>),\n",
       "  it may mean that your frontend doesn't currently support widgets.\n",
       "</p>\n"
      ],
      "text/plain": [
       "Checkbox(value=True, description='45°')"
      ]
     },
     "metadata": {},
     "output_type": "display_data"
    },
    {
     "data": {
      "application/vnd.jupyter.widget-view+json": {
       "model_id": "6a0186eb9caa4d1697d40f3a7f6f71c6",
       "version_major": 2,
       "version_minor": 0
      },
      "text/html": [
       "<p>Failed to display Jupyter Widget of type <code>Checkbox</code>.</p>\n",
       "<p>\n",
       "  If you're reading this message in the Jupyter Notebook or JupyterLab Notebook, it may mean\n",
       "  that the widgets JavaScript is still loading. If this message persists, it\n",
       "  likely means that the widgets JavaScript library is either not installed or\n",
       "  not enabled. See the <a href=\"https://ipywidgets.readthedocs.io/en/stable/user_install.html\">Jupyter\n",
       "  Widgets Documentation</a> for setup instructions.\n",
       "</p>\n",
       "<p>\n",
       "  If you're reading this message in another frontend (for example, a static\n",
       "  rendering on GitHub or <a href=\"https://nbviewer.jupyter.org/\">NBViewer</a>),\n",
       "  it may mean that your frontend doesn't currently support widgets.\n",
       "</p>\n"
      ],
      "text/plain": [
       "Checkbox(value=True, description='60°')"
      ]
     },
     "metadata": {},
     "output_type": "display_data"
    },
    {
     "data": {
      "application/vnd.jupyter.widget-view+json": {
       "model_id": "08c22b654e194d0087e2958f02d9476d",
       "version_major": 2,
       "version_minor": 0
      },
      "text/html": [
       "<p>Failed to display Jupyter Widget of type <code>Checkbox</code>.</p>\n",
       "<p>\n",
       "  If you're reading this message in the Jupyter Notebook or JupyterLab Notebook, it may mean\n",
       "  that the widgets JavaScript is still loading. If this message persists, it\n",
       "  likely means that the widgets JavaScript library is either not installed or\n",
       "  not enabled. See the <a href=\"https://ipywidgets.readthedocs.io/en/stable/user_install.html\">Jupyter\n",
       "  Widgets Documentation</a> for setup instructions.\n",
       "</p>\n",
       "<p>\n",
       "  If you're reading this message in another frontend (for example, a static\n",
       "  rendering on GitHub or <a href=\"https://nbviewer.jupyter.org/\">NBViewer</a>),\n",
       "  it may mean that your frontend doesn't currently support widgets.\n",
       "</p>\n"
      ],
      "text/plain": [
       "Checkbox(value=True, description='80°')"
      ]
     },
     "metadata": {},
     "output_type": "display_data"
    },
    {
     "data": {
      "application/vnd.jupyter.widget-view+json": {
       "model_id": "b16debb036fe4c71b7efe154ce5ed649",
       "version_major": 2,
       "version_minor": 0
      },
      "text/html": [
       "<p>Failed to display Jupyter Widget of type <code>Checkbox</code>.</p>\n",
       "<p>\n",
       "  If you're reading this message in the Jupyter Notebook or JupyterLab Notebook, it may mean\n",
       "  that the widgets JavaScript is still loading. If this message persists, it\n",
       "  likely means that the widgets JavaScript library is either not installed or\n",
       "  not enabled. See the <a href=\"https://ipywidgets.readthedocs.io/en/stable/user_install.html\">Jupyter\n",
       "  Widgets Documentation</a> for setup instructions.\n",
       "</p>\n",
       "<p>\n",
       "  If you're reading this message in another frontend (for example, a static\n",
       "  rendering on GitHub or <a href=\"https://nbviewer.jupyter.org/\">NBViewer</a>),\n",
       "  it may mean that your frontend doesn't currently support widgets.\n",
       "</p>\n"
      ],
      "text/plain": [
       "Checkbox(value=True, description='135°')"
      ]
     },
     "metadata": {},
     "output_type": "display_data"
    }
   ],
   "source": [
    "spi = find(secondary_particle.value,particles_med)\n",
    "\n",
    "detectors_angles = [['10\\u00B0','30\\u00B0','45\\u00B0','60\\u00B0','80\\u00B0','135\\u00B0'], ['7.2\\u00B0','10\\u00B0','12.7\\u00B0','28.2\\u00B0','30\\u00B0','32.7\\u00B0']]\n",
    "available_det_angles = []\n",
    "\n",
    "da_label = widgets.Label(value=\"Select the detector angles to plot.\")\n",
    "\n",
    "dets = []\n",
    "for i in range(6):\n",
    "    if mm_exists[0,isi,iei,ftmi,ftti,spi,(add2deti+i)]:\n",
    "        available_det_angles.append(detectors_angles[detti][i])\n",
    "        dets.append(widgets.Checkbox(\n",
    "            value=True,\n",
    "            description=detectors_angles[detti][i],\n",
    "            disabled=False\n",
    "        ))\n",
    "\n",
    "display(da_label)\n",
    "for i in range(6):\n",
    "    if mm_exists[0,isi,iei,ftmi,ftti,spi,(add2deti+i)]:\n",
    "        display(dets[i])"
   ]
  },
  {
   "cell_type": "code",
   "execution_count": 319,
   "metadata": {},
   "outputs": [
    {
     "data": {
      "application/vnd.jupyter.widget-view+json": {
       "model_id": "66a9f422535542c28f2da3a2408873a0",
       "version_major": 2,
       "version_minor": 0
      },
      "text/html": [
       "<p>Failed to display Jupyter Widget of type <code>Label</code>.</p>\n",
       "<p>\n",
       "  If you're reading this message in the Jupyter Notebook or JupyterLab Notebook, it may mean\n",
       "  that the widgets JavaScript is still loading. If this message persists, it\n",
       "  likely means that the widgets JavaScript library is either not installed or\n",
       "  not enabled. See the <a href=\"https://ipywidgets.readthedocs.io/en/stable/user_install.html\">Jupyter\n",
       "  Widgets Documentation</a> for setup instructions.\n",
       "</p>\n",
       "<p>\n",
       "  If you're reading this message in another frontend (for example, a static\n",
       "  rendering on GitHub or <a href=\"https://nbviewer.jupyter.org/\">NBViewer</a>),\n",
       "  it may mean that your frontend doesn't currently support widgets.\n",
       "</p>\n"
      ],
      "text/plain": [
       "Label(value='Select which sets of data to display.')"
      ]
     },
     "metadata": {},
     "output_type": "display_data"
    },
    {
     "data": {
      "application/vnd.jupyter.widget-view+json": {
       "model_id": "d9b7b6bd07c040a5a7cd8bfd84e13f0c",
       "version_major": 2,
       "version_minor": 0
      },
      "text/html": [
       "<p>Failed to display Jupyter Widget of type <code>Checkbox</code>.</p>\n",
       "<p>\n",
       "  If you're reading this message in the Jupyter Notebook or JupyterLab Notebook, it may mean\n",
       "  that the widgets JavaScript is still loading. If this message persists, it\n",
       "  likely means that the widgets JavaScript library is either not installed or\n",
       "  not enabled. See the <a href=\"https://ipywidgets.readthedocs.io/en/stable/user_install.html\">Jupyter\n",
       "  Widgets Documentation</a> for setup instructions.\n",
       "</p>\n",
       "<p>\n",
       "  If you're reading this message in another frontend (for example, a static\n",
       "  rendering on GitHub or <a href=\"https://nbviewer.jupyter.org/\">NBViewer</a>),\n",
       "  it may mean that your frontend doesn't currently support widgets.\n",
       "</p>\n"
      ],
      "text/plain": [
       "Checkbox(value=True, description='Experiment')"
      ]
     },
     "metadata": {},
     "output_type": "display_data"
    },
    {
     "data": {
      "application/vnd.jupyter.widget-view+json": {
       "model_id": "26fd007968554ad3a49266b831298264",
       "version_major": 2,
       "version_minor": 0
      },
      "text/html": [
       "<p>Failed to display Jupyter Widget of type <code>Checkbox</code>.</p>\n",
       "<p>\n",
       "  If you're reading this message in the Jupyter Notebook or JupyterLab Notebook, it may mean\n",
       "  that the widgets JavaScript is still loading. If this message persists, it\n",
       "  likely means that the widgets JavaScript library is either not installed or\n",
       "  not enabled. See the <a href=\"https://ipywidgets.readthedocs.io/en/stable/user_install.html\">Jupyter\n",
       "  Widgets Documentation</a> for setup instructions.\n",
       "</p>\n",
       "<p>\n",
       "  If you're reading this message in another frontend (for example, a static\n",
       "  rendering on GitHub or <a href=\"https://nbviewer.jupyter.org/\">NBViewer</a>),\n",
       "  it may mean that your frontend doesn't currently support widgets.\n",
       "</p>\n"
      ],
      "text/plain": [
       "Checkbox(value=True, description='MCNP simulated')"
      ]
     },
     "metadata": {},
     "output_type": "display_data"
    },
    {
     "data": {
      "application/vnd.jupyter.widget-view+json": {
       "model_id": "eb207c0c5b8046feac4f632552db09ed",
       "version_major": 2,
       "version_minor": 0
      },
      "text/html": [
       "<p>Failed to display Jupyter Widget of type <code>Checkbox</code>.</p>\n",
       "<p>\n",
       "  If you're reading this message in the Jupyter Notebook or JupyterLab Notebook, it may mean\n",
       "  that the widgets JavaScript is still loading. If this message persists, it\n",
       "  likely means that the widgets JavaScript library is either not installed or\n",
       "  not enabled. See the <a href=\"https://ipywidgets.readthedocs.io/en/stable/user_install.html\">Jupyter\n",
       "  Widgets Documentation</a> for setup instructions.\n",
       "</p>\n",
       "<p>\n",
       "  If you're reading this message in another frontend (for example, a static\n",
       "  rendering on GitHub or <a href=\"https://nbviewer.jupyter.org/\">NBViewer</a>),\n",
       "  it may mean that your frontend doesn't currently support widgets.\n",
       "</p>\n"
      ],
      "text/plain": [
       "Checkbox(value=True, description='PHITS simulated')"
      ]
     },
     "metadata": {},
     "output_type": "display_data"
    }
   ],
   "source": [
    "det_angle_i_list = []\n",
    "for i in range(len(available_det_angles)):\n",
    "    if dets[i].value:\n",
    "        if detti == 0:\n",
    "            det_angle_i_list.append(find(available_det_angles[i],detectors_angles[detti]))\n",
    "        else:\n",
    "            det_angle_i_list.append(find(available_det_angles[i],detectors_angles[detti])+6) # for NaI\n",
    "\n",
    "ds_label = widgets.Label(value='Select which sets of data to display.')            \n",
    "\n",
    "data_set_names = ['Experiment','MCNP simulated','PHITS simulated']\n",
    "data_sets = []\n",
    "for i in range(3):\n",
    "    data_sets.append(widgets.Checkbox(\n",
    "        value=True,\n",
    "        description=data_set_names[i],\n",
    "        disabled=False\n",
    "    ))\n",
    "\n",
    "display(ds_label)\n",
    "for i in range(3):\n",
    "    display(data_sets[i])\n",
    "\n"
   ]
  },
  {
   "cell_type": "code",
   "execution_count": 332,
   "metadata": {},
   "outputs": [
    {
     "data": {
      "application/vnd.jupyter.widget-view+json": {
       "model_id": "31b46db47c5e489083a2094d086afbcb",
       "version_major": 2,
       "version_minor": 0
      },
      "text/html": [
       "<p>Failed to display Jupyter Widget of type <code>Label</code>.</p>\n",
       "<p>\n",
       "  If you're reading this message in the Jupyter Notebook or JupyterLab Notebook, it may mean\n",
       "  that the widgets JavaScript is still loading. If this message persists, it\n",
       "  likely means that the widgets JavaScript library is either not installed or\n",
       "  not enabled. See the <a href=\"https://ipywidgets.readthedocs.io/en/stable/user_install.html\">Jupyter\n",
       "  Widgets Documentation</a> for setup instructions.\n",
       "</p>\n",
       "<p>\n",
       "  If you're reading this message in another frontend (for example, a static\n",
       "  rendering on GitHub or <a href=\"https://nbviewer.jupyter.org/\">NBViewer</a>),\n",
       "  it may mean that your frontend doesn't currently support widgets.\n",
       "</p>\n"
      ],
      "text/plain": [
       "Label(value='Select how data sets for each detector should be spaced apart (if at all).')"
      ]
     },
     "metadata": {},
     "output_type": "display_data"
    },
    {
     "data": {
      "application/vnd.jupyter.widget-view+json": {
       "model_id": "1b8355dff3274ebc9b0e8dc293d651e2",
       "version_major": 2,
       "version_minor": 0
      },
      "text/html": [
       "<p>Failed to display Jupyter Widget of type <code>ToggleButtons</code>.</p>\n",
       "<p>\n",
       "  If you're reading this message in the Jupyter Notebook or JupyterLab Notebook, it may mean\n",
       "  that the widgets JavaScript is still loading. If this message persists, it\n",
       "  likely means that the widgets JavaScript library is either not installed or\n",
       "  not enabled. See the <a href=\"https://ipywidgets.readthedocs.io/en/stable/user_install.html\">Jupyter\n",
       "  Widgets Documentation</a> for setup instructions.\n",
       "</p>\n",
       "<p>\n",
       "  If you're reading this message in another frontend (for example, a static\n",
       "  rendering on GitHub or <a href=\"https://nbviewer.jupyter.org/\">NBViewer</a>),\n",
       "  it may mean that your frontend doesn't currently support widgets.\n",
       "</p>\n"
      ],
      "text/plain": [
       "ToggleButtons(description='Spacing:', options=('Nada', 'Spaced by 10²'), tooltips=['All values are presented as is.', 'Plots for different detectors are multiplied by powers of 10² for easier viewing.'], value='Nada')"
      ]
     },
     "metadata": {},
     "output_type": "display_data"
    },
    {
     "data": {
      "application/javascript": [
       "IPython.notebook.execute_cell_range(IPython.notebook.get_selected_index()+1, IPython.notebook.ncells())"
      ],
      "text/plain": [
       "<IPython.core.display.Javascript object>"
      ]
     },
     "metadata": {},
     "output_type": "display_data"
    }
   ],
   "source": [
    "data_set_i_list = []\n",
    "for i in range(3):\n",
    "    if data_sets[i].value:\n",
    "        data_set_i_list.append(i)\n",
    "\n",
    "spacing_short = ['Nada','Spaced by 10\\u00B2']\n",
    "spacing_long = ['All values are presented as is.','Plots for different detectors are multiplied by powers of 10\\u00B2 for easier viewing.']\n",
    "\n",
    "spacing_label = widgets.Label(value='Select how data sets for each detector should be spaced apart (if at all).')  \n",
    "\n",
    "spacing_choice = widgets.ToggleButtons(\n",
    "    options=spacing_short,\n",
    "    description='Spacing:',\n",
    "    disabled=False,\n",
    "    button_style='', # 'success', 'info', 'warning', 'danger' or ''\n",
    "    tooltips=spacing_long,\n",
    "#     icons=['check'] * 3\n",
    ")\n",
    "\n",
    "spacing_choice.observe(on_click, 'value')\n",
    "display(spacing_label, spacing_choice)"
   ]
  },
  {
   "cell_type": "code",
   "execution_count": 349,
   "metadata": {},
   "outputs": [
    {
     "data": {
      "application/javascript": [
       "/* Put everything inside the global mpl namespace */\n",
       "window.mpl = {};\n",
       "\n",
       "\n",
       "mpl.get_websocket_type = function() {\n",
       "    if (typeof(WebSocket) !== 'undefined') {\n",
       "        return WebSocket;\n",
       "    } else if (typeof(MozWebSocket) !== 'undefined') {\n",
       "        return MozWebSocket;\n",
       "    } else {\n",
       "        alert('Your browser does not have WebSocket support.' +\n",
       "              'Please try Chrome, Safari or Firefox ≥ 6. ' +\n",
       "              'Firefox 4 and 5 are also supported but you ' +\n",
       "              'have to enable WebSockets in about:config.');\n",
       "    };\n",
       "}\n",
       "\n",
       "mpl.figure = function(figure_id, websocket, ondownload, parent_element) {\n",
       "    this.id = figure_id;\n",
       "\n",
       "    this.ws = websocket;\n",
       "\n",
       "    this.supports_binary = (this.ws.binaryType != undefined);\n",
       "\n",
       "    if (!this.supports_binary) {\n",
       "        var warnings = document.getElementById(\"mpl-warnings\");\n",
       "        if (warnings) {\n",
       "            warnings.style.display = 'block';\n",
       "            warnings.textContent = (\n",
       "                \"This browser does not support binary websocket messages. \" +\n",
       "                    \"Performance may be slow.\");\n",
       "        }\n",
       "    }\n",
       "\n",
       "    this.imageObj = new Image();\n",
       "\n",
       "    this.context = undefined;\n",
       "    this.message = undefined;\n",
       "    this.canvas = undefined;\n",
       "    this.rubberband_canvas = undefined;\n",
       "    this.rubberband_context = undefined;\n",
       "    this.format_dropdown = undefined;\n",
       "\n",
       "    this.image_mode = 'full';\n",
       "\n",
       "    this.root = $('<div/>');\n",
       "    this._root_extra_style(this.root)\n",
       "    this.root.attr('style', 'display: inline-block');\n",
       "\n",
       "    $(parent_element).append(this.root);\n",
       "\n",
       "    this._init_header(this);\n",
       "    this._init_canvas(this);\n",
       "    this._init_toolbar(this);\n",
       "\n",
       "    var fig = this;\n",
       "\n",
       "    this.waiting = false;\n",
       "\n",
       "    this.ws.onopen =  function () {\n",
       "            fig.send_message(\"supports_binary\", {value: fig.supports_binary});\n",
       "            fig.send_message(\"send_image_mode\", {});\n",
       "            if (mpl.ratio != 1) {\n",
       "                fig.send_message(\"set_dpi_ratio\", {'dpi_ratio': mpl.ratio});\n",
       "            }\n",
       "            fig.send_message(\"refresh\", {});\n",
       "        }\n",
       "\n",
       "    this.imageObj.onload = function() {\n",
       "            if (fig.image_mode == 'full') {\n",
       "                // Full images could contain transparency (where diff images\n",
       "                // almost always do), so we need to clear the canvas so that\n",
       "                // there is no ghosting.\n",
       "                fig.context.clearRect(0, 0, fig.canvas.width, fig.canvas.height);\n",
       "            }\n",
       "            fig.context.drawImage(fig.imageObj, 0, 0);\n",
       "        };\n",
       "\n",
       "    this.imageObj.onunload = function() {\n",
       "        fig.ws.close();\n",
       "    }\n",
       "\n",
       "    this.ws.onmessage = this._make_on_message_function(this);\n",
       "\n",
       "    this.ondownload = ondownload;\n",
       "}\n",
       "\n",
       "mpl.figure.prototype._init_header = function() {\n",
       "    var titlebar = $(\n",
       "        '<div class=\"ui-dialog-titlebar ui-widget-header ui-corner-all ' +\n",
       "        'ui-helper-clearfix\"/>');\n",
       "    var titletext = $(\n",
       "        '<div class=\"ui-dialog-title\" style=\"width: 100%; ' +\n",
       "        'text-align: center; padding: 3px;\"/>');\n",
       "    titlebar.append(titletext)\n",
       "    this.root.append(titlebar);\n",
       "    this.header = titletext[0];\n",
       "}\n",
       "\n",
       "\n",
       "\n",
       "mpl.figure.prototype._canvas_extra_style = function(canvas_div) {\n",
       "\n",
       "}\n",
       "\n",
       "\n",
       "mpl.figure.prototype._root_extra_style = function(canvas_div) {\n",
       "\n",
       "}\n",
       "\n",
       "mpl.figure.prototype._init_canvas = function() {\n",
       "    var fig = this;\n",
       "\n",
       "    var canvas_div = $('<div/>');\n",
       "\n",
       "    canvas_div.attr('style', 'position: relative; clear: both; outline: 0');\n",
       "\n",
       "    function canvas_keyboard_event(event) {\n",
       "        return fig.key_event(event, event['data']);\n",
       "    }\n",
       "\n",
       "    canvas_div.keydown('key_press', canvas_keyboard_event);\n",
       "    canvas_div.keyup('key_release', canvas_keyboard_event);\n",
       "    this.canvas_div = canvas_div\n",
       "    this._canvas_extra_style(canvas_div)\n",
       "    this.root.append(canvas_div);\n",
       "\n",
       "    var canvas = $('<canvas/>');\n",
       "    canvas.addClass('mpl-canvas');\n",
       "    canvas.attr('style', \"left: 0; top: 0; z-index: 0; outline: 0\")\n",
       "\n",
       "    this.canvas = canvas[0];\n",
       "    this.context = canvas[0].getContext(\"2d\");\n",
       "\n",
       "    var backingStore = this.context.backingStorePixelRatio ||\n",
       "\tthis.context.webkitBackingStorePixelRatio ||\n",
       "\tthis.context.mozBackingStorePixelRatio ||\n",
       "\tthis.context.msBackingStorePixelRatio ||\n",
       "\tthis.context.oBackingStorePixelRatio ||\n",
       "\tthis.context.backingStorePixelRatio || 1;\n",
       "\n",
       "    mpl.ratio = (window.devicePixelRatio || 1) / backingStore;\n",
       "\n",
       "    var rubberband = $('<canvas/>');\n",
       "    rubberband.attr('style', \"position: absolute; left: 0; top: 0; z-index: 1;\")\n",
       "\n",
       "    var pass_mouse_events = true;\n",
       "\n",
       "    canvas_div.resizable({\n",
       "        start: function(event, ui) {\n",
       "            pass_mouse_events = false;\n",
       "        },\n",
       "        resize: function(event, ui) {\n",
       "            fig.request_resize(ui.size.width, ui.size.height);\n",
       "        },\n",
       "        stop: function(event, ui) {\n",
       "            pass_mouse_events = true;\n",
       "            fig.request_resize(ui.size.width, ui.size.height);\n",
       "        },\n",
       "    });\n",
       "\n",
       "    function mouse_event_fn(event) {\n",
       "        if (pass_mouse_events)\n",
       "            return fig.mouse_event(event, event['data']);\n",
       "    }\n",
       "\n",
       "    rubberband.mousedown('button_press', mouse_event_fn);\n",
       "    rubberband.mouseup('button_release', mouse_event_fn);\n",
       "    // Throttle sequential mouse events to 1 every 20ms.\n",
       "    rubberband.mousemove('motion_notify', mouse_event_fn);\n",
       "\n",
       "    rubberband.mouseenter('figure_enter', mouse_event_fn);\n",
       "    rubberband.mouseleave('figure_leave', mouse_event_fn);\n",
       "\n",
       "    canvas_div.on(\"wheel\", function (event) {\n",
       "        event = event.originalEvent;\n",
       "        event['data'] = 'scroll'\n",
       "        if (event.deltaY < 0) {\n",
       "            event.step = 1;\n",
       "        } else {\n",
       "            event.step = -1;\n",
       "        }\n",
       "        mouse_event_fn(event);\n",
       "    });\n",
       "\n",
       "    canvas_div.append(canvas);\n",
       "    canvas_div.append(rubberband);\n",
       "\n",
       "    this.rubberband = rubberband;\n",
       "    this.rubberband_canvas = rubberband[0];\n",
       "    this.rubberband_context = rubberband[0].getContext(\"2d\");\n",
       "    this.rubberband_context.strokeStyle = \"#000000\";\n",
       "\n",
       "    this._resize_canvas = function(width, height) {\n",
       "        // Keep the size of the canvas, canvas container, and rubber band\n",
       "        // canvas in synch.\n",
       "        canvas_div.css('width', width)\n",
       "        canvas_div.css('height', height)\n",
       "\n",
       "        canvas.attr('width', width * mpl.ratio);\n",
       "        canvas.attr('height', height * mpl.ratio);\n",
       "        canvas.attr('style', 'width: ' + width + 'px; height: ' + height + 'px;');\n",
       "\n",
       "        rubberband.attr('width', width);\n",
       "        rubberband.attr('height', height);\n",
       "    }\n",
       "\n",
       "    // Set the figure to an initial 600x600px, this will subsequently be updated\n",
       "    // upon first draw.\n",
       "    this._resize_canvas(600, 600);\n",
       "\n",
       "    // Disable right mouse context menu.\n",
       "    $(this.rubberband_canvas).bind(\"contextmenu\",function(e){\n",
       "        return false;\n",
       "    });\n",
       "\n",
       "    function set_focus () {\n",
       "        canvas.focus();\n",
       "        canvas_div.focus();\n",
       "    }\n",
       "\n",
       "    window.setTimeout(set_focus, 100);\n",
       "}\n",
       "\n",
       "mpl.figure.prototype._init_toolbar = function() {\n",
       "    var fig = this;\n",
       "\n",
       "    var nav_element = $('<div/>')\n",
       "    nav_element.attr('style', 'width: 100%');\n",
       "    this.root.append(nav_element);\n",
       "\n",
       "    // Define a callback function for later on.\n",
       "    function toolbar_event(event) {\n",
       "        return fig.toolbar_button_onclick(event['data']);\n",
       "    }\n",
       "    function toolbar_mouse_event(event) {\n",
       "        return fig.toolbar_button_onmouseover(event['data']);\n",
       "    }\n",
       "\n",
       "    for(var toolbar_ind in mpl.toolbar_items) {\n",
       "        var name = mpl.toolbar_items[toolbar_ind][0];\n",
       "        var tooltip = mpl.toolbar_items[toolbar_ind][1];\n",
       "        var image = mpl.toolbar_items[toolbar_ind][2];\n",
       "        var method_name = mpl.toolbar_items[toolbar_ind][3];\n",
       "\n",
       "        if (!name) {\n",
       "            // put a spacer in here.\n",
       "            continue;\n",
       "        }\n",
       "        var button = $('<button/>');\n",
       "        button.addClass('ui-button ui-widget ui-state-default ui-corner-all ' +\n",
       "                        'ui-button-icon-only');\n",
       "        button.attr('role', 'button');\n",
       "        button.attr('aria-disabled', 'false');\n",
       "        button.click(method_name, toolbar_event);\n",
       "        button.mouseover(tooltip, toolbar_mouse_event);\n",
       "\n",
       "        var icon_img = $('<span/>');\n",
       "        icon_img.addClass('ui-button-icon-primary ui-icon');\n",
       "        icon_img.addClass(image);\n",
       "        icon_img.addClass('ui-corner-all');\n",
       "\n",
       "        var tooltip_span = $('<span/>');\n",
       "        tooltip_span.addClass('ui-button-text');\n",
       "        tooltip_span.html(tooltip);\n",
       "\n",
       "        button.append(icon_img);\n",
       "        button.append(tooltip_span);\n",
       "\n",
       "        nav_element.append(button);\n",
       "    }\n",
       "\n",
       "    var fmt_picker_span = $('<span/>');\n",
       "\n",
       "    var fmt_picker = $('<select/>');\n",
       "    fmt_picker.addClass('mpl-toolbar-option ui-widget ui-widget-content');\n",
       "    fmt_picker_span.append(fmt_picker);\n",
       "    nav_element.append(fmt_picker_span);\n",
       "    this.format_dropdown = fmt_picker[0];\n",
       "\n",
       "    for (var ind in mpl.extensions) {\n",
       "        var fmt = mpl.extensions[ind];\n",
       "        var option = $(\n",
       "            '<option/>', {selected: fmt === mpl.default_extension}).html(fmt);\n",
       "        fmt_picker.append(option)\n",
       "    }\n",
       "\n",
       "    // Add hover states to the ui-buttons\n",
       "    $( \".ui-button\" ).hover(\n",
       "        function() { $(this).addClass(\"ui-state-hover\");},\n",
       "        function() { $(this).removeClass(\"ui-state-hover\");}\n",
       "    );\n",
       "\n",
       "    var status_bar = $('<span class=\"mpl-message\"/>');\n",
       "    nav_element.append(status_bar);\n",
       "    this.message = status_bar[0];\n",
       "}\n",
       "\n",
       "mpl.figure.prototype.request_resize = function(x_pixels, y_pixels) {\n",
       "    // Request matplotlib to resize the figure. Matplotlib will then trigger a resize in the client,\n",
       "    // which will in turn request a refresh of the image.\n",
       "    this.send_message('resize', {'width': x_pixels, 'height': y_pixels});\n",
       "}\n",
       "\n",
       "mpl.figure.prototype.send_message = function(type, properties) {\n",
       "    properties['type'] = type;\n",
       "    properties['figure_id'] = this.id;\n",
       "    this.ws.send(JSON.stringify(properties));\n",
       "}\n",
       "\n",
       "mpl.figure.prototype.send_draw_message = function() {\n",
       "    if (!this.waiting) {\n",
       "        this.waiting = true;\n",
       "        this.ws.send(JSON.stringify({type: \"draw\", figure_id: this.id}));\n",
       "    }\n",
       "}\n",
       "\n",
       "\n",
       "mpl.figure.prototype.handle_save = function(fig, msg) {\n",
       "    var format_dropdown = fig.format_dropdown;\n",
       "    var format = format_dropdown.options[format_dropdown.selectedIndex].value;\n",
       "    fig.ondownload(fig, format);\n",
       "}\n",
       "\n",
       "\n",
       "mpl.figure.prototype.handle_resize = function(fig, msg) {\n",
       "    var size = msg['size'];\n",
       "    if (size[0] != fig.canvas.width || size[1] != fig.canvas.height) {\n",
       "        fig._resize_canvas(size[0], size[1]);\n",
       "        fig.send_message(\"refresh\", {});\n",
       "    };\n",
       "}\n",
       "\n",
       "mpl.figure.prototype.handle_rubberband = function(fig, msg) {\n",
       "    var x0 = msg['x0'] / mpl.ratio;\n",
       "    var y0 = (fig.canvas.height - msg['y0']) / mpl.ratio;\n",
       "    var x1 = msg['x1'] / mpl.ratio;\n",
       "    var y1 = (fig.canvas.height - msg['y1']) / mpl.ratio;\n",
       "    x0 = Math.floor(x0) + 0.5;\n",
       "    y0 = Math.floor(y0) + 0.5;\n",
       "    x1 = Math.floor(x1) + 0.5;\n",
       "    y1 = Math.floor(y1) + 0.5;\n",
       "    var min_x = Math.min(x0, x1);\n",
       "    var min_y = Math.min(y0, y1);\n",
       "    var width = Math.abs(x1 - x0);\n",
       "    var height = Math.abs(y1 - y0);\n",
       "\n",
       "    fig.rubberband_context.clearRect(\n",
       "        0, 0, fig.canvas.width, fig.canvas.height);\n",
       "\n",
       "    fig.rubberband_context.strokeRect(min_x, min_y, width, height);\n",
       "}\n",
       "\n",
       "mpl.figure.prototype.handle_figure_label = function(fig, msg) {\n",
       "    // Updates the figure title.\n",
       "    fig.header.textContent = msg['label'];\n",
       "}\n",
       "\n",
       "mpl.figure.prototype.handle_cursor = function(fig, msg) {\n",
       "    var cursor = msg['cursor'];\n",
       "    switch(cursor)\n",
       "    {\n",
       "    case 0:\n",
       "        cursor = 'pointer';\n",
       "        break;\n",
       "    case 1:\n",
       "        cursor = 'default';\n",
       "        break;\n",
       "    case 2:\n",
       "        cursor = 'crosshair';\n",
       "        break;\n",
       "    case 3:\n",
       "        cursor = 'move';\n",
       "        break;\n",
       "    }\n",
       "    fig.rubberband_canvas.style.cursor = cursor;\n",
       "}\n",
       "\n",
       "mpl.figure.prototype.handle_message = function(fig, msg) {\n",
       "    fig.message.textContent = msg['message'];\n",
       "}\n",
       "\n",
       "mpl.figure.prototype.handle_draw = function(fig, msg) {\n",
       "    // Request the server to send over a new figure.\n",
       "    fig.send_draw_message();\n",
       "}\n",
       "\n",
       "mpl.figure.prototype.handle_image_mode = function(fig, msg) {\n",
       "    fig.image_mode = msg['mode'];\n",
       "}\n",
       "\n",
       "mpl.figure.prototype.updated_canvas_event = function() {\n",
       "    // Called whenever the canvas gets updated.\n",
       "    this.send_message(\"ack\", {});\n",
       "}\n",
       "\n",
       "// A function to construct a web socket function for onmessage handling.\n",
       "// Called in the figure constructor.\n",
       "mpl.figure.prototype._make_on_message_function = function(fig) {\n",
       "    return function socket_on_message(evt) {\n",
       "        if (evt.data instanceof Blob) {\n",
       "            /* FIXME: We get \"Resource interpreted as Image but\n",
       "             * transferred with MIME type text/plain:\" errors on\n",
       "             * Chrome.  But how to set the MIME type?  It doesn't seem\n",
       "             * to be part of the websocket stream */\n",
       "            evt.data.type = \"image/png\";\n",
       "\n",
       "            /* Free the memory for the previous frames */\n",
       "            if (fig.imageObj.src) {\n",
       "                (window.URL || window.webkitURL).revokeObjectURL(\n",
       "                    fig.imageObj.src);\n",
       "            }\n",
       "\n",
       "            fig.imageObj.src = (window.URL || window.webkitURL).createObjectURL(\n",
       "                evt.data);\n",
       "            fig.updated_canvas_event();\n",
       "            fig.waiting = false;\n",
       "            return;\n",
       "        }\n",
       "        else if (typeof evt.data === 'string' && evt.data.slice(0, 21) == \"data:image/png;base64\") {\n",
       "            fig.imageObj.src = evt.data;\n",
       "            fig.updated_canvas_event();\n",
       "            fig.waiting = false;\n",
       "            return;\n",
       "        }\n",
       "\n",
       "        var msg = JSON.parse(evt.data);\n",
       "        var msg_type = msg['type'];\n",
       "\n",
       "        // Call the  \"handle_{type}\" callback, which takes\n",
       "        // the figure and JSON message as its only arguments.\n",
       "        try {\n",
       "            var callback = fig[\"handle_\" + msg_type];\n",
       "        } catch (e) {\n",
       "            console.log(\"No handler for the '\" + msg_type + \"' message type: \", msg);\n",
       "            return;\n",
       "        }\n",
       "\n",
       "        if (callback) {\n",
       "            try {\n",
       "                // console.log(\"Handling '\" + msg_type + \"' message: \", msg);\n",
       "                callback(fig, msg);\n",
       "            } catch (e) {\n",
       "                console.log(\"Exception inside the 'handler_\" + msg_type + \"' callback:\", e, e.stack, msg);\n",
       "            }\n",
       "        }\n",
       "    };\n",
       "}\n",
       "\n",
       "// from http://stackoverflow.com/questions/1114465/getting-mouse-location-in-canvas\n",
       "mpl.findpos = function(e) {\n",
       "    //this section is from http://www.quirksmode.org/js/events_properties.html\n",
       "    var targ;\n",
       "    if (!e)\n",
       "        e = window.event;\n",
       "    if (e.target)\n",
       "        targ = e.target;\n",
       "    else if (e.srcElement)\n",
       "        targ = e.srcElement;\n",
       "    if (targ.nodeType == 3) // defeat Safari bug\n",
       "        targ = targ.parentNode;\n",
       "\n",
       "    // jQuery normalizes the pageX and pageY\n",
       "    // pageX,Y are the mouse positions relative to the document\n",
       "    // offset() returns the position of the element relative to the document\n",
       "    var x = e.pageX - $(targ).offset().left;\n",
       "    var y = e.pageY - $(targ).offset().top;\n",
       "\n",
       "    return {\"x\": x, \"y\": y};\n",
       "};\n",
       "\n",
       "/*\n",
       " * return a copy of an object with only non-object keys\n",
       " * we need this to avoid circular references\n",
       " * http://stackoverflow.com/a/24161582/3208463\n",
       " */\n",
       "function simpleKeys (original) {\n",
       "  return Object.keys(original).reduce(function (obj, key) {\n",
       "    if (typeof original[key] !== 'object')\n",
       "        obj[key] = original[key]\n",
       "    return obj;\n",
       "  }, {});\n",
       "}\n",
       "\n",
       "mpl.figure.prototype.mouse_event = function(event, name) {\n",
       "    var canvas_pos = mpl.findpos(event)\n",
       "\n",
       "    if (name === 'button_press')\n",
       "    {\n",
       "        this.canvas.focus();\n",
       "        this.canvas_div.focus();\n",
       "    }\n",
       "\n",
       "    var x = canvas_pos.x * mpl.ratio;\n",
       "    var y = canvas_pos.y * mpl.ratio;\n",
       "\n",
       "    this.send_message(name, {x: x, y: y, button: event.button,\n",
       "                             step: event.step,\n",
       "                             guiEvent: simpleKeys(event)});\n",
       "\n",
       "    /* This prevents the web browser from automatically changing to\n",
       "     * the text insertion cursor when the button is pressed.  We want\n",
       "     * to control all of the cursor setting manually through the\n",
       "     * 'cursor' event from matplotlib */\n",
       "    event.preventDefault();\n",
       "    return false;\n",
       "}\n",
       "\n",
       "mpl.figure.prototype._key_event_extra = function(event, name) {\n",
       "    // Handle any extra behaviour associated with a key event\n",
       "}\n",
       "\n",
       "mpl.figure.prototype.key_event = function(event, name) {\n",
       "\n",
       "    // Prevent repeat events\n",
       "    if (name == 'key_press')\n",
       "    {\n",
       "        if (event.which === this._key)\n",
       "            return;\n",
       "        else\n",
       "            this._key = event.which;\n",
       "    }\n",
       "    if (name == 'key_release')\n",
       "        this._key = null;\n",
       "\n",
       "    var value = '';\n",
       "    if (event.ctrlKey && event.which != 17)\n",
       "        value += \"ctrl+\";\n",
       "    if (event.altKey && event.which != 18)\n",
       "        value += \"alt+\";\n",
       "    if (event.shiftKey && event.which != 16)\n",
       "        value += \"shift+\";\n",
       "\n",
       "    value += 'k';\n",
       "    value += event.which.toString();\n",
       "\n",
       "    this._key_event_extra(event, name);\n",
       "\n",
       "    this.send_message(name, {key: value,\n",
       "                             guiEvent: simpleKeys(event)});\n",
       "    return false;\n",
       "}\n",
       "\n",
       "mpl.figure.prototype.toolbar_button_onclick = function(name) {\n",
       "    if (name == 'download') {\n",
       "        this.handle_save(this, null);\n",
       "    } else {\n",
       "        this.send_message(\"toolbar_button\", {name: name});\n",
       "    }\n",
       "};\n",
       "\n",
       "mpl.figure.prototype.toolbar_button_onmouseover = function(tooltip) {\n",
       "    this.message.textContent = tooltip;\n",
       "};\n",
       "mpl.toolbar_items = [[\"Home\", \"Reset original view\", \"fa fa-home icon-home\", \"home\"], [\"Back\", \"Back to  previous view\", \"fa fa-arrow-left icon-arrow-left\", \"back\"], [\"Forward\", \"Forward to next view\", \"fa fa-arrow-right icon-arrow-right\", \"forward\"], [\"\", \"\", \"\", \"\"], [\"Pan\", \"Pan axes with left mouse, zoom with right\", \"fa fa-arrows icon-move\", \"pan\"], [\"Zoom\", \"Zoom to rectangle\", \"fa fa-square-o icon-check-empty\", \"zoom\"], [\"\", \"\", \"\", \"\"], [\"Download\", \"Download plot\", \"fa fa-floppy-o icon-save\", \"download\"]];\n",
       "\n",
       "mpl.extensions = [\"eps\", \"jpeg\", \"pdf\", \"png\", \"ps\", \"raw\", \"svg\", \"tif\"];\n",
       "\n",
       "mpl.default_extension = \"png\";var comm_websocket_adapter = function(comm) {\n",
       "    // Create a \"websocket\"-like object which calls the given IPython comm\n",
       "    // object with the appropriate methods. Currently this is a non binary\n",
       "    // socket, so there is still some room for performance tuning.\n",
       "    var ws = {};\n",
       "\n",
       "    ws.close = function() {\n",
       "        comm.close()\n",
       "    };\n",
       "    ws.send = function(m) {\n",
       "        //console.log('sending', m);\n",
       "        comm.send(m);\n",
       "    };\n",
       "    // Register the callback with on_msg.\n",
       "    comm.on_msg(function(msg) {\n",
       "        //console.log('receiving', msg['content']['data'], msg);\n",
       "        // Pass the mpl event to the overriden (by mpl) onmessage function.\n",
       "        ws.onmessage(msg['content']['data'])\n",
       "    });\n",
       "    return ws;\n",
       "}\n",
       "\n",
       "mpl.mpl_figure_comm = function(comm, msg) {\n",
       "    // This is the function which gets called when the mpl process\n",
       "    // starts-up an IPython Comm through the \"matplotlib\" channel.\n",
       "\n",
       "    var id = msg.content.data.id;\n",
       "    // Get hold of the div created by the display call when the Comm\n",
       "    // socket was opened in Python.\n",
       "    var element = $(\"#\" + id);\n",
       "    var ws_proxy = comm_websocket_adapter(comm)\n",
       "\n",
       "    function ondownload(figure, format) {\n",
       "        window.open(figure.imageObj.src);\n",
       "    }\n",
       "\n",
       "    var fig = new mpl.figure(id, ws_proxy,\n",
       "                           ondownload,\n",
       "                           element.get(0));\n",
       "\n",
       "    // Call onopen now - mpl needs it, as it is assuming we've passed it a real\n",
       "    // web socket which is closed, not our websocket->open comm proxy.\n",
       "    ws_proxy.onopen();\n",
       "\n",
       "    fig.parent_element = element.get(0);\n",
       "    fig.cell_info = mpl.find_output_cell(\"<div id='\" + id + \"'></div>\");\n",
       "    if (!fig.cell_info) {\n",
       "        console.error(\"Failed to find cell for figure\", id, fig);\n",
       "        return;\n",
       "    }\n",
       "\n",
       "    var output_index = fig.cell_info[2]\n",
       "    var cell = fig.cell_info[0];\n",
       "\n",
       "};\n",
       "\n",
       "mpl.figure.prototype.handle_close = function(fig, msg) {\n",
       "    var width = fig.canvas.width/mpl.ratio\n",
       "    fig.root.unbind('remove')\n",
       "\n",
       "    // Update the output cell to use the data from the current canvas.\n",
       "    fig.push_to_output();\n",
       "    var dataURL = fig.canvas.toDataURL();\n",
       "    // Re-enable the keyboard manager in IPython - without this line, in FF,\n",
       "    // the notebook keyboard shortcuts fail.\n",
       "    IPython.keyboard_manager.enable()\n",
       "    $(fig.parent_element).html('<img src=\"' + dataURL + '\" width=\"' + width + '\">');\n",
       "    fig.close_ws(fig, msg);\n",
       "}\n",
       "\n",
       "mpl.figure.prototype.close_ws = function(fig, msg){\n",
       "    fig.send_message('closing', msg);\n",
       "    // fig.ws.close()\n",
       "}\n",
       "\n",
       "mpl.figure.prototype.push_to_output = function(remove_interactive) {\n",
       "    // Turn the data on the canvas into data in the output cell.\n",
       "    var width = this.canvas.width/mpl.ratio\n",
       "    var dataURL = this.canvas.toDataURL();\n",
       "    this.cell_info[1]['text/html'] = '<img src=\"' + dataURL + '\" width=\"' + width + '\">';\n",
       "}\n",
       "\n",
       "mpl.figure.prototype.updated_canvas_event = function() {\n",
       "    // Tell IPython that the notebook contents must change.\n",
       "    IPython.notebook.set_dirty(true);\n",
       "    this.send_message(\"ack\", {});\n",
       "    var fig = this;\n",
       "    // Wait a second, then push the new image to the DOM so\n",
       "    // that it is saved nicely (might be nice to debounce this).\n",
       "    setTimeout(function () { fig.push_to_output() }, 1000);\n",
       "}\n",
       "\n",
       "mpl.figure.prototype._init_toolbar = function() {\n",
       "    var fig = this;\n",
       "\n",
       "    var nav_element = $('<div/>')\n",
       "    nav_element.attr('style', 'width: 100%');\n",
       "    this.root.append(nav_element);\n",
       "\n",
       "    // Define a callback function for later on.\n",
       "    function toolbar_event(event) {\n",
       "        return fig.toolbar_button_onclick(event['data']);\n",
       "    }\n",
       "    function toolbar_mouse_event(event) {\n",
       "        return fig.toolbar_button_onmouseover(event['data']);\n",
       "    }\n",
       "\n",
       "    for(var toolbar_ind in mpl.toolbar_items){\n",
       "        var name = mpl.toolbar_items[toolbar_ind][0];\n",
       "        var tooltip = mpl.toolbar_items[toolbar_ind][1];\n",
       "        var image = mpl.toolbar_items[toolbar_ind][2];\n",
       "        var method_name = mpl.toolbar_items[toolbar_ind][3];\n",
       "\n",
       "        if (!name) { continue; };\n",
       "\n",
       "        var button = $('<button class=\"btn btn-default\" href=\"#\" title=\"' + name + '\"><i class=\"fa ' + image + ' fa-lg\"></i></button>');\n",
       "        button.click(method_name, toolbar_event);\n",
       "        button.mouseover(tooltip, toolbar_mouse_event);\n",
       "        nav_element.append(button);\n",
       "    }\n",
       "\n",
       "    // Add the status bar.\n",
       "    var status_bar = $('<span class=\"mpl-message\" style=\"text-align:right; float: right;\"/>');\n",
       "    nav_element.append(status_bar);\n",
       "    this.message = status_bar[0];\n",
       "\n",
       "    // Add the close button to the window.\n",
       "    var buttongrp = $('<div class=\"btn-group inline pull-right\"></div>');\n",
       "    var button = $('<button class=\"btn btn-mini btn-primary\" href=\"#\" title=\"Stop Interaction\"><i class=\"fa fa-power-off icon-remove icon-large\"></i></button>');\n",
       "    button.click(function (evt) { fig.handle_close(fig, {}); } );\n",
       "    button.mouseover('Stop Interaction', toolbar_mouse_event);\n",
       "    buttongrp.append(button);\n",
       "    var titlebar = this.root.find($('.ui-dialog-titlebar'));\n",
       "    titlebar.prepend(buttongrp);\n",
       "}\n",
       "\n",
       "mpl.figure.prototype._root_extra_style = function(el){\n",
       "    var fig = this\n",
       "    el.on(\"remove\", function(){\n",
       "\tfig.close_ws(fig, {});\n",
       "    });\n",
       "}\n",
       "\n",
       "mpl.figure.prototype._canvas_extra_style = function(el){\n",
       "    // this is important to make the div 'focusable\n",
       "    el.attr('tabindex', 0)\n",
       "    // reach out to IPython and tell the keyboard manager to turn it's self\n",
       "    // off when our div gets focus\n",
       "\n",
       "    // location in version 3\n",
       "    if (IPython.notebook.keyboard_manager) {\n",
       "        IPython.notebook.keyboard_manager.register_events(el);\n",
       "    }\n",
       "    else {\n",
       "        // location in version 2\n",
       "        IPython.keyboard_manager.register_events(el);\n",
       "    }\n",
       "\n",
       "}\n",
       "\n",
       "mpl.figure.prototype._key_event_extra = function(event, name) {\n",
       "    var manager = IPython.notebook.keyboard_manager;\n",
       "    if (!manager)\n",
       "        manager = IPython.keyboard_manager;\n",
       "\n",
       "    // Check for shift+enter\n",
       "    if (event.shiftKey && event.which == 13) {\n",
       "        this.canvas_div.blur();\n",
       "        event.shiftKey = false;\n",
       "        // Send a \"J\" for go to next cell\n",
       "        event.which = 74;\n",
       "        event.keyCode = 74;\n",
       "        manager.command_mode();\n",
       "        manager.handle_keydown(event);\n",
       "    }\n",
       "}\n",
       "\n",
       "mpl.figure.prototype.handle_save = function(fig, msg) {\n",
       "    fig.ondownload(fig, null);\n",
       "}\n",
       "\n",
       "\n",
       "mpl.find_output_cell = function(html_output) {\n",
       "    // Return the cell and output element which can be found *uniquely* in the notebook.\n",
       "    // Note - this is a bit hacky, but it is done because the \"notebook_saving.Notebook\"\n",
       "    // IPython event is triggered only after the cells have been serialised, which for\n",
       "    // our purposes (turning an active figure into a static one), is too late.\n",
       "    var cells = IPython.notebook.get_cells();\n",
       "    var ncells = cells.length;\n",
       "    for (var i=0; i<ncells; i++) {\n",
       "        var cell = cells[i];\n",
       "        if (cell.cell_type === 'code'){\n",
       "            for (var j=0; j<cell.output_area.outputs.length; j++) {\n",
       "                var data = cell.output_area.outputs[j];\n",
       "                if (data.data) {\n",
       "                    // IPython >= 3 moved mimebundle to data attribute of output\n",
       "                    data = data.data;\n",
       "                }\n",
       "                if (data['text/html'] == html_output) {\n",
       "                    return [cell, data, j];\n",
       "                }\n",
       "            }\n",
       "        }\n",
       "    }\n",
       "}\n",
       "\n",
       "// Register the function which deals with the matplotlib target/channel.\n",
       "// The kernel may be null if the page has been refreshed.\n",
       "if (IPython.notebook.kernel != null) {\n",
       "    IPython.notebook.kernel.comm_manager.register_target('matplotlib', mpl.mpl_figure_comm);\n",
       "}\n"
      ],
      "text/plain": [
       "<IPython.core.display.Javascript object>"
      ]
     },
     "metadata": {},
     "output_type": "display_data"
    },
    {
     "data": {
      "text/html": [
       "<img src=\"data:image/png;base64,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\" width=\"525\">"
      ],
      "text/plain": [
       "<IPython.core.display.HTML object>"
      ]
     },
     "metadata": {},
     "output_type": "display_data"
    }
   ],
   "source": [
    "spacing_condition = find(spacing_choice.value,spacing_short)\n",
    "if spacing_condition == 0:\n",
    "    mult_factor_base = 1\n",
    "else:\n",
    "    mult_factor_base = 100\n",
    "\n",
    "fst = 16\n",
    "fs = 14\n",
    "beam_energy_text = erg_options(isi)[iei]\n",
    "beam_species_text = projectile_sym_str[isi]\n",
    "\n",
    "fig = plt.figure()\n",
    "ax = plt.subplot(111)\n",
    "# Axis labels\n",
    "title_text = particles_long[spi] + \" Energy Spectra for\" + \"\\n\" \n",
    "title_text += beam_energy_text +\" \"+ beam_species_text + \" on \"+ thicknesses[ftti] +\" \"+ target_mats_short[ftmi] \n",
    "plt.title(title_text,fontsize=fst)\n",
    "if spi <= 2:\n",
    "    plt.xlabel(\"Energy [MeV]\",fontsize=fs)\n",
    "else:\n",
    "    plt.xlabel(\"Energy [MeV/n]\",fontsize=fs)\n",
    "\n",
    "if spi == 1: # deconvoluted neutrons\n",
    "    leg_strings = [r'Experimental (deconvoluted)',r'MCNP (simulated)', r'PHITS (simulated)']\n",
    "    plt.ylabel(r\"Yield [#$\\cdot$/(MeV$\\cdot$s.p.)]\",fontsize=fs)\n",
    "else:\n",
    "    leg_strings = [r'Experimental (time-of-flight)',r'MCNP (simulated)', r'PHITS (simulated)']\n",
    "    if spi <= 2:\n",
    "        plt.ylabel(r\"Yield [#/(MeV$\\cdot$sr$\\cdot$s.p.)]\",fontsize=fs)\n",
    "    else:\n",
    "        plt.ylabel(r\"Yield [#/(MeV/n$\\cdot$sr$\\cdot$s.p.)]\",fontsize=fs)\n",
    "\n",
    "# Generate portion of legend specifying data sets\n",
    "if spi == 1:\n",
    "    exp_leg, = plt.errorbar(np.NaN, np.NaN,yerr=0, color='dimgrey', marker=\".\",markersize=3,linestyle=\":\",alpha=1.0), #, label=r'Deconvolued')\n",
    "else:\n",
    "    exp_leg,  = plt.errorbar(np.NaN, np.NaN,xerr=0,yerr=0,marker=\".\",c='dimgrey',markersize=2,linestyle=\"\",elinewidth=0.5,markeredgewidth=0.5,capsize=0), # , label=r'Experimental (ToF)') \n",
    "\n",
    "MCNP_leg, = plt.errorbar(np.NaN, np.NaN,yerr=0, color='dimgrey', marker=\"^\",markersize=3,linestyle=\"--\"), #, label=r'Simulated (MCNP)')\n",
    "PHITS_leg, = plt.errorbar(np.NaN, np.NaN,yerr=0, color='dimgrey', marker=\"s\",markersize=3,linestyle=\"--\"), #, label=r'Simulated (PHITS)')\n",
    "\n",
    "legs_for_ds = [exp_leg, MCNP_leg, PHITS_leg]\n",
    "used_ds_legs = []\n",
    "used_ds_leg_strs = []\n",
    "leg_handles1 = []\n",
    "leg_labels1 = []\n",
    "    \n",
    "for dsi in data_set_i_list:\n",
    "    used_ds_legs.append(legs_for_ds[dsi])\n",
    "    used_ds_leg_strs.append(leg_strings[dsi])\n",
    "    k=5\n",
    "    for di in det_angle_i_list:\n",
    "        ndet = str(di+1)\n",
    "        scale_power = 2*((len(det_angle_i_list)-1)-k)\n",
    "        mult_factor = mult_factor_base**scale_power\n",
    "        if spacing_condition == 0:\n",
    "            lab_text = detectors_angles[detti][di]\n",
    "        else:\n",
    "            lab_text = detectors_angles[detti][di] + r\" $\\times10^{{{0}}}$\".format(str(int(scale_power)))\n",
    "        k += 1\n",
    "        \n",
    "        # Make artificial legend for 6 detectors\n",
    "        ebp = ax.plot(np.NaN, np.NaN,c=detector_colors(di),marker=\"s\",markersize=8,linestyle=\"\") #,label=lab_text) #,label='Simulated (MCNP)')\n",
    "        leg_handles1.append(ebp[0])\n",
    "        leg_labels1.append(lab_text)\n",
    "        \n",
    "        nzi = np.nonzero(mm_values[dsi,iei,ftmi,ftti,spi,di,1,:])\n",
    "        xdata = mm_values[dsi,iei,ftmi,ftti,spi,di,1,:][nzi]\n",
    "        xbinw = [mm_values[dsi,iei,ftmi,ftti,spi,di,1,:][nzi]-mm_values[dsi,iei,ftmi,ftti,spi,di,0,:][nzi] , mm_values[dsi,iei,ftmi,ftti,spi,di,2,:][nzi]-mm_values[dsi,iei,ftmi,ftti,spi,di,1,:][nzi]]\n",
    "        ydata = mm_values[dsi,iei,ftmi,ftti,spi,di,3,:][nzi]\n",
    "        yerr_stat = mm_values[dsi,iei,ftmi,ftti,spi,di,4,:][nzi]\n",
    "        yerr_sys = mm_values[dsi,iei,ftmi,ftti,spi,di,5,:][nzi]\n",
    "        xerr = mm_values[dsi,iei,ftmi,ftti,spi,di,6,:][nzi]\n",
    "        \n",
    "        ydata = ydata*mult_factor\n",
    "        yerr_stat = yerr_stat*mult_factor\n",
    "        yerr_sys = yerr_sys*mult_factor\n",
    "        \n",
    "        # Generate plots\n",
    "        if dsi == 0: # experimental results\n",
    "            if spi == 1: # deconvoluted neutrons\n",
    "                alpha_val=1.0\n",
    "                marker_val = \".\"\n",
    "                p = plt.errorbar(xdata,ydata,yerr=yerr,c=detector_colors(di),marker=marker_val,markersize=3,linestyle=\":\",alpha=alpha_val,label=lab_text) #,label='Simulated (MCNP)')\n",
    "            else:\n",
    "                # x error bar (bin width)\n",
    "                xerrbar = xbinw\n",
    "                # x error box (energy resolution\n",
    "                xerrbox = xerr\n",
    "                xerrbox = np.array([xerrbox, xerrbox])\n",
    "                # y error bar (systematic uncertainty)\n",
    "                yerrbar = [yerr_sys, yerr_sys]\n",
    "                yerrbar[0][(ydata-yerrbar[0])<=0]=0 # get rid of negative error bars\n",
    "                yerrbar[1][(ydata)<=0]=0 # get rid of errorbars on negative points\n",
    "                # y error box (statistical uncertainty)\n",
    "                yerrbox = np.array([yerr_stat, yerr_stat])\n",
    "                \n",
    "                p = plt.errorbar(xdata,ydata,xerr=xerrbar,yerr=yerrbar,marker=\".\",c=detector_colors(di),markersize=2,linestyle=\"\",elinewidth=0.5,markeredgewidth=0.5,capsize=0,label=lab_text)\n",
    "                nx_color = detector_colors(di) #p[0].get_color()\n",
    "                makeErrorBoxes(xdata,ydata,xerrbox,yerrbox,fc='None',ec=nx_color,alpha=1.0,lw=0.5)\n",
    "                makeErrorBoxes(xdata,ydata,xerrbox,yerrbox,fc=nx_color,ec='None',alpha=0.1,lw=0.5)\n",
    "                \n",
    "        elif dsi == 1: # MCNP results\n",
    "            ebp = plt.errorbar(xdata,ydata,yerr=yerr_stat,c=detector_colors(di),marker=\"^\",markersize=3,linestyle=\"--\") #,label=lab_text) #,label='Simulated (MCNP)')\n",
    "        \n",
    "        elif dsi == 2: # PHITS results\n",
    "            ebp = plt.errorbar(xdata,ydata,yerr=yerr_stat,c=detector_colors(di),marker=\"s\",markersize=3,linestyle=\"--\") #,label=lab_text) #,label='Simulated (MCNP)')\n",
    "        \n",
    "        \n",
    "#handles, labels = ax.get_legend_handles_labels()\n",
    "if len(data_set_i_list)==3: # Three rows in named legend\n",
    "    box_h_multiplier = 0.92 # percentage of total height occupied by actual plot\n",
    "    box_h_offset = 0.12 # vertical offset left at the bottom for legend stuff\n",
    "    leg2_anchor = (0.5, -0.065)\n",
    "    leg1_anchor = (0.47, -0.155)\n",
    "elif len(data_set_i_list)==2: # Two rows of legend\n",
    "    box_h_multiplier = 0.92 # percentage of total height occupied by actual plot\n",
    "    box_h_offset = 0.12 # vertical offset left at the bottom for legend stuff\n",
    "    leg2_anchor = (0.5, -0.065)\n",
    "    leg1_anchor = (0.47, -0.155)\n",
    "else: # One row of legend\n",
    "    box_h_multiplier = 0.92 # percentage of total height occupied by actual plot\n",
    "    box_h_offset = 0.12 # vertical offset left at the bottom for legend stuff\n",
    "    leg2_anchor = (0.5, -0.065)\n",
    "    leg1_anchor = (0.47, -0.155)\n",
    "\n",
    "# Set size and location of the plot on the canvas\n",
    "box = ax.get_position()\n",
    "ax.set_position([box.x0 + box.width * 0.025, box.y0 + box.height * box_h_offset,box.width * 0.95, box.height * box_h_multiplier])\n",
    "\n",
    "# Put a legend below current axis\n",
    "legend2 = ax.legend(used_ds_legs,used_ds_leg_strs,loc='upper center', bbox_to_anchor=leg2_anchor, ncol=len(data_set_i_list))\n",
    "\n",
    "# Put a legend below current axis\n",
    "ax.legend(leg_handles1[:6],leg_labels1[:6],loc='upper center', bbox_to_anchor=leg1_anchor, ncol=3,handletextpad=0.1)\n",
    "ax.add_artist(legend2)\n",
    "\n",
    "window_title = mm_metadata[dsi,isi,iei,ftmi,ftti,spi,0,1] + \"_fig\"\n",
    "fig.canvas.set_window_title(window_title)\n",
    "if spacing_condition == 1: \n",
    "    fig.set_size_inches(5.25,10.25)\n",
    "        \n",
    "plt.xscale('log')\n",
    "plt.yscale('log')\n",
    "plt.grid(b=True, which='major', linestyle='-', alpha=0.25)\n",
    "plt.grid(b=True, which='minor', linestyle='-', alpha=0.10)\n",
    "plt.xlim([5,2000])\n",
    "        \n",
    "        \n",
    "        \n",
    "plt.show()        \n",
    "        \n",
    "    \n",
    "    \n"
   ]
  },
  {
   "cell_type": "code",
   "execution_count": null,
   "metadata": {},
   "outputs": [],
   "source": []
  }
 ],
 "metadata": {
  "kernelspec": {
   "display_name": "Python 3",
   "language": "python",
   "name": "python3"
  },
  "language_info": {
   "codemirror_mode": {
    "name": "ipython",
    "version": 3
   },
   "file_extension": ".py",
   "mimetype": "text/x-python",
   "name": "python",
   "nbconvert_exporter": "python",
   "pygments_lexer": "ipython3",
   "version": "3.6.4"
  },
  "widgets": {
   "application/vnd.jupyter.widget-state+json": {
    "state": {
     "015a24742f1046a68c1d4db057c366cf": {
      "model_module": "@jupyter-widgets/controls",
      "model_module_version": "1.1.0",
      "model_name": "CheckboxModel",
      "state": {
       "description": "MCNP sim.",
       "disabled": false,
       "layout": "IPY_MODEL_f4c2d755906e4acc82b4b2022cb7d83e",
       "style": "IPY_MODEL_59d88d47bdd14c89a862b29a2a531ba7",
       "value": true
      }
     },
     "016af3617c1540cb8e02cb71fbe0670e": {
      "model_module": "@jupyter-widgets/base",
      "model_module_version": "1.0.0",
      "model_name": "LayoutModel",
      "state": {}
     },
     "016af7d1f94149218d11f66c4a091e97": {
      "model_module": "@jupyter-widgets/controls",
      "model_module_version": "1.1.0",
      "model_name": "CheckboxModel",
      "state": {
       "description": "80°",
       "disabled": false,
       "layout": "IPY_MODEL_d7fa1e0a970542dfa0bcacd0af564385",
       "style": "IPY_MODEL_5fd143974646441e9efb80cf682ca8a5",
       "value": true
      }
     },
     "01d7e586b2a44ccb8a530a82fbf83230": {
      "model_module": "@jupyter-widgets/controls",
      "model_module_version": "1.1.0",
      "model_name": "ToggleButtonsModel",
      "state": {
       "_options_labels": [
        "20 g/cm²",
        "40 g/cm²",
        "60 g/cm²"
       ],
       "button_style": "",
       "description": "Upstream target thickness:",
       "icons": [],
       "index": 0,
       "layout": "IPY_MODEL_596ea217ac164fedaf51f67142124c58",
       "style": "IPY_MODEL_55a5703aec6e4ddf86fb580bdcbfe484",
       "tooltips": [
        "20 g/cm²",
        "40 g/cm²",
        "60 g/cm²"
       ]
      }
     },
     "01f72b147b784cc9ba5906f2ca107057": {
      "model_module": "@jupyter-widgets/controls",
      "model_module_version": "1.1.0",
      "model_name": "ToggleButtonsStyleModel",
      "state": {
       "button_width": "",
       "description_width": ""
      }
     },
     "02127c50231e4972b41b1271ccf9305d": {
      "model_module": "@jupyter-widgets/controls",
      "model_module_version": "1.1.0",
      "model_name": "DescriptionStyleModel",
      "state": {
       "description_width": ""
      }
     },
     "0212a0076bfb4fe9b444a577f12be42d": {
      "model_module": "@jupyter-widgets/controls",
      "model_module_version": "1.1.0",
      "model_name": "CheckboxModel",
      "state": {
       "description": "30°",
       "disabled": false,
       "layout": "IPY_MODEL_51b6948d26ac4208adc465035d6b9140",
       "style": "IPY_MODEL_4f1190b8cbda46f889e0baa7d9929de6",
       "value": true
      }
     },
     "0337ce54a5744c2592c741f8bf0da893": {
      "model_module": "@jupyter-widgets/base",
      "model_module_version": "1.0.0",
      "model_name": "LayoutModel",
      "state": {}
     },
     "03ae5818f0e94776ac03fe0d71608a92": {
      "model_module": "@jupyter-widgets/controls",
      "model_module_version": "1.1.0",
      "model_name": "LabelModel",
      "state": {
       "layout": "IPY_MODEL_637ed75ddebd43dbb94e0c153d7585d5",
       "style": "IPY_MODEL_085dff56f3114ea8938afe829535393f",
       "value": "Select upstream target material."
      }
     },
     "03dcf3cd83ed429284cfc87240c360b6": {
      "model_module": "@jupyter-widgets/base",
      "model_module_version": "1.0.0",
      "model_name": "LayoutModel",
      "state": {}
     },
     "046224b054b0448ea8e0ed8ad64c4b05": {
      "model_module": "@jupyter-widgets/base",
      "model_module_version": "1.0.0",
      "model_name": "LayoutModel",
      "state": {}
     },
     "04a447586dda4ee698d2fb2937a163eb": {
      "model_module": "@jupyter-widgets/controls",
      "model_module_version": "1.1.0",
      "model_name": "CheckboxModel",
      "state": {
       "description": "135°",
       "disabled": false,
       "layout": "IPY_MODEL_a692bd63ab7c48f295ccea4406aef904",
       "style": "IPY_MODEL_343114b504ce43fda824ef0816453850",
       "value": true
      }
     },
     "04e0e02fd9424300a282ee8e21e6a088": {
      "model_module": "@jupyter-widgets/base",
      "model_module_version": "1.0.0",
      "model_name": "LayoutModel",
      "state": {}
     },
     "0661377c3ce84078b39d999e286c34f4": {
      "model_module": "@jupyter-widgets/controls",
      "model_module_version": "1.1.0",
      "model_name": "CheckboxModel",
      "state": {
       "description": "10°",
       "disabled": false,
       "layout": "IPY_MODEL_80c974a6982d4c27bab83c49568cae82",
       "style": "IPY_MODEL_02127c50231e4972b41b1271ccf9305d",
       "value": true
      }
     },
     "06b2f62874494d339bb90eea19176892": {
      "model_module": "@jupyter-widgets/controls",
      "model_module_version": "1.1.0",
      "model_name": "ToggleButtonsStyleModel",
      "state": {
       "button_width": "",
       "description_width": ""
      }
     },
     "06c0c365322742f782334733d0d37345": {
      "model_module": "@jupyter-widgets/base",
      "model_module_version": "1.0.0",
      "model_name": "LayoutModel",
      "state": {}
     },
     "0758ae860a9c4504adc31a0935c7f733": {
      "model_module": "@jupyter-widgets/base",
      "model_module_version": "1.0.0",
      "model_name": "LayoutModel",
      "state": {}
     },
     "07755daa83fe4274b62c67d067d8f5c2": {
      "model_module": "@jupyter-widgets/controls",
      "model_module_version": "1.1.0",
      "model_name": "ToggleButtonsModel",
      "state": {
       "_options_labels": [
        "20 g/cm²",
        "40 g/cm²",
        "60 g/cm²"
       ],
       "button_style": "",
       "description": "Thickness:",
       "icons": [],
       "index": 0,
       "layout": "IPY_MODEL_40ddbb06e0014ae08ff988866adf07c1",
       "style": "IPY_MODEL_90e4cb21488d410886e5f278df600e84",
       "tooltips": [
        "20 g/cm²",
        "40 g/cm²",
        "60 g/cm²"
       ]
      }
     },
     "07757186b124423b90b6fc4a321a3839": {
      "model_module": "@jupyter-widgets/controls",
      "model_module_version": "1.1.0",
      "model_name": "DescriptionStyleModel",
      "state": {
       "description_width": ""
      }
     },
     "077e109affea4d699a6c5e1910bcab11": {
      "model_module": "@jupyter-widgets/controls",
      "model_module_version": "1.1.0",
      "model_name": "ToggleButtonsStyleModel",
      "state": {
       "button_width": "",
       "description_width": ""
      }
     },
     "07e26bfbdd264c5caa86997cd380255c": {
      "model_module": "@jupyter-widgets/controls",
      "model_module_version": "1.1.0",
      "model_name": "DescriptionStyleModel",
      "state": {
       "description_width": ""
      }
     },
     "0839726bcf934b2a8cabd4c883d639f1": {
      "model_module": "@jupyter-widgets/controls",
      "model_module_version": "1.1.0",
      "model_name": "LabelModel",
      "state": {
       "layout": "IPY_MODEL_325639152adf4b15b3b1051041ae68eb",
       "style": "IPY_MODEL_72b2eebf41ac4c2db75c3a52ac89f3c9",
       "value": "Select a detector type."
      }
     },
     "085dff56f3114ea8938afe829535393f": {
      "model_module": "@jupyter-widgets/controls",
      "model_module_version": "1.1.0",
      "model_name": "DescriptionStyleModel",
      "state": {
       "description_width": ""
      }
     },
     "093c5b828de249c78fddec2d5a864ef9": {
      "model_module": "@jupyter-widgets/base",
      "model_module_version": "1.0.0",
      "model_name": "LayoutModel",
      "state": {}
     },
     "0a00a4e4a38943d1be4af74db92ec146": {
      "model_module": "@jupyter-widgets/controls",
      "model_module_version": "1.1.0",
      "model_name": "DescriptionStyleModel",
      "state": {
       "description_width": ""
      }
     },
     "0a15630079c4457195034b328b2a52c7": {
      "model_module": "@jupyter-widgets/controls",
      "model_module_version": "1.1.0",
      "model_name": "ToggleButtonsModel",
      "state": {
       "_options_labels": [
        "H",
        "He",
        "C",
        "Si",
        "Fe"
       ],
       "button_style": "",
       "description": "Ion:",
       "icons": [],
       "index": 1,
       "layout": "IPY_MODEL_cdd7b460ab6d497e89a40e54704e0405",
       "style": "IPY_MODEL_2600d26c307b4d64b61cddbb1c9c8bf9",
       "tooltips": [
        "Hydrogen",
        "Helium",
        "Carbon",
        "Silicon",
        "Iron"
       ]
      }
     },
     "0a4e49250d1b4f6f98897b6d82eeb9a1": {
      "model_module": "@jupyter-widgets/controls",
      "model_module_version": "1.1.0",
      "model_name": "CheckboxModel",
      "state": {
       "description": "10°",
       "disabled": false,
       "layout": "IPY_MODEL_99bd68cb67c647a19d309a72f54f1d43",
       "style": "IPY_MODEL_1825297813484bcdac34bff4130870cc",
       "value": true
      }
     },
     "0a70fb9ba1734f81bf40a0d762dae042": {
      "model_module": "@jupyter-widgets/base",
      "model_module_version": "1.0.0",
      "model_name": "LayoutModel",
      "state": {}
     },
     "0a9707392c6b4c3282af3dc874884ff5": {
      "model_module": "@jupyter-widgets/base",
      "model_module_version": "1.0.0",
      "model_name": "LayoutModel",
      "state": {}
     },
     "0a991623230c4b9c9ef64ab68ea5d54d": {
      "model_module": "@jupyter-widgets/controls",
      "model_module_version": "1.1.0",
      "model_name": "DescriptionStyleModel",
      "state": {
       "description_width": ""
      }
     },
     "0b494dc80487406a9b61c6f01741dc0a": {
      "model_module": "@jupyter-widgets/base",
      "model_module_version": "1.0.0",
      "model_name": "LayoutModel",
      "state": {}
     },
     "0b9ff29894144d61b66453698de74215": {
      "model_module": "@jupyter-widgets/controls",
      "model_module_version": "1.1.0",
      "model_name": "DescriptionStyleModel",
      "state": {
       "description_width": ""
      }
     },
     "0c5612b8ca424f38baede82fdba62a08": {
      "model_module": "@jupyter-widgets/controls",
      "model_module_version": "1.1.0",
      "model_name": "DescriptionStyleModel",
      "state": {
       "description_width": ""
      }
     },
     "0c5d38b2439f4de1b6158b9ce2c2de5c": {
      "model_module": "@jupyter-widgets/controls",
      "model_module_version": "1.1.0",
      "model_name": "DescriptionStyleModel",
      "state": {
       "description_width": ""
      }
     },
     "0ce14b6fac51407f83c6f33e8133ce9d": {
      "model_module": "@jupyter-widgets/base",
      "model_module_version": "1.0.0",
      "model_name": "LayoutModel",
      "state": {}
     },
     "0d2323b67db544279e9b9cca4b235141": {
      "model_module": "@jupyter-widgets/controls",
      "model_module_version": "1.1.0",
      "model_name": "ToggleButtonsModel",
      "state": {
       "_options_labels": [
        "Al",
        "HDPE",
        "AlPE"
       ],
       "button_style": "",
       "description": "Upstream target material:",
       "icons": [],
       "index": 0,
       "layout": "IPY_MODEL_0f9a3a7ea3274908a4ba07dfeee17777",
       "style": "IPY_MODEL_c6a1b9433eb64e99a0423142484aa85c",
       "tooltips": [
        "Aluminum",
        "Polyethylene",
        "Combination of Al and HDPE"
       ]
      }
     },
     "0eefed4c26c24fdd9b4b7a338ffa2d06": {
      "model_module": "@jupyter-widgets/base",
      "model_module_version": "1.0.0",
      "model_name": "LayoutModel",
      "state": {}
     },
     "0f09a72e9f9f4937bd8a9ecae88876c4": {
      "model_module": "@jupyter-widgets/controls",
      "model_module_version": "1.1.0",
      "model_name": "DescriptionStyleModel",
      "state": {
       "description_width": ""
      }
     },
     "0f4bb8f40098437a8daeb753c0da2516": {
      "model_module": "@jupyter-widgets/controls",
      "model_module_version": "1.1.0",
      "model_name": "ToggleButtonsModel",
      "state": {
       "_options_labels": [
        "N",
        "NDC",
        "P (¹H)",
        "D (²H)",
        "T (³H)",
        "S (³He)",
        "A (⁴He)"
       ],
       "button_style": "",
       "description": "Type:",
       "icons": [],
       "index": 4,
       "layout": "IPY_MODEL_edf26b31a5c04ae5ac5eb9360ccd15ef",
       "style": "IPY_MODEL_13271da540d24704a926fec8f665e358",
       "tooltips": [
        "Neutron",
        "Neutron (deconvoluted)",
        "Proton",
        "Deuteron",
        "Triton",
        "Helium-3",
        "Helium-4"
       ]
      }
     },
     "0f76e3888d8341d28dd5fed39c244e0e": {
      "model_module": "@jupyter-widgets/base",
      "model_module_version": "1.0.0",
      "model_name": "LayoutModel",
      "state": {}
     },
     "0f9a3a7ea3274908a4ba07dfeee17777": {
      "model_module": "@jupyter-widgets/base",
      "model_module_version": "1.0.0",
      "model_name": "LayoutModel",
      "state": {}
     },
     "10ca3d80274042888db9704121729f77": {
      "model_module": "@jupyter-widgets/controls",
      "model_module_version": "1.1.0",
      "model_name": "LabelModel",
      "state": {
       "layout": "IPY_MODEL_ae22be5c28e94de696808e167388ef1f",
       "style": "IPY_MODEL_2e747fb81d244092853eacf0aec85b3a",
       "value": "Select projectile ion species."
      }
     },
     "10fad7c03c90440a974d7f485df8d67e": {
      "model_module": "@jupyter-widgets/controls",
      "model_module_version": "1.1.0",
      "model_name": "CheckboxModel",
      "state": {
       "description": "10°",
       "disabled": false,
       "layout": "IPY_MODEL_0a70fb9ba1734f81bf40a0d762dae042",
       "style": "IPY_MODEL_0a00a4e4a38943d1be4af74db92ec146",
       "value": true
      }
     },
     "120e79b40cc1437caea92ee8f745a440": {
      "model_module": "@jupyter-widgets/controls",
      "model_module_version": "1.1.0",
      "model_name": "ToggleButtonsStyleModel",
      "state": {
       "button_width": "",
       "description_width": ""
      }
     },
     "1211d6f9f9e04653a3a58fdd718ac1ef": {
      "model_module": "@jupyter-widgets/base",
      "model_module_version": "1.0.0",
      "model_name": "LayoutModel",
      "state": {}
     },
     "124b0a83e56f43c3afd1d745a3842523": {
      "model_module": "@jupyter-widgets/controls",
      "model_module_version": "1.1.0",
      "model_name": "CheckboxModel",
      "state": {
       "description": "7.2°",
       "disabled": false,
       "layout": "IPY_MODEL_9d4f6d8efe3e403b85e88c1a136d41e8",
       "style": "IPY_MODEL_0a991623230c4b9c9ef64ab68ea5d54d",
       "value": true
      }
     },
     "1266e2d15f2c4ed1a6ccfe7dfca2b24e": {
      "model_module": "@jupyter-widgets/controls",
      "model_module_version": "1.1.0",
      "model_name": "CheckboxModel",
      "state": {
       "description": "60°",
       "disabled": false,
       "layout": "IPY_MODEL_f198b3453e774f70bf273162d5d01d64",
       "style": "IPY_MODEL_dd3a3b31398e4a0e9aa1cddadb32dcea",
       "value": true
      }
     },
     "126934ddfa8e4192b3fd5ece72e96b59": {
      "model_module": "@jupyter-widgets/controls",
      "model_module_version": "1.1.0",
      "model_name": "CheckboxModel",
      "state": {
       "description": "30°",
       "disabled": false,
       "layout": "IPY_MODEL_a39a0b6219a04e33ac8128e88b31eec9",
       "style": "IPY_MODEL_aa2c1f5ef7a94d079d5ed5026d0aaa7c",
       "value": true
      }
     },
     "12d7b13808f14eada5e484820d7ef00e": {
      "model_module": "@jupyter-widgets/controls",
      "model_module_version": "1.1.0",
      "model_name": "CheckboxModel",
      "state": {
       "description": "45°",
       "disabled": false,
       "layout": "IPY_MODEL_1f0011445a274e36af5ba0d2d546cdf0",
       "style": "IPY_MODEL_0c5612b8ca424f38baede82fdba62a08",
       "value": true
      }
     },
     "13271da540d24704a926fec8f665e358": {
      "model_module": "@jupyter-widgets/controls",
      "model_module_version": "1.1.0",
      "model_name": "ToggleButtonsStyleModel",
      "state": {
       "button_width": "",
       "description_width": ""
      }
     },
     "1343ff4e746c4800991407de65ac09e2": {
      "model_module": "@jupyter-widgets/base",
      "model_module_version": "1.0.0",
      "model_name": "LayoutModel",
      "state": {}
     },
     "143c0b0a8ded453daf70a006d44b7880": {
      "model_module": "@jupyter-widgets/controls",
      "model_module_version": "1.1.0",
      "model_name": "DescriptionStyleModel",
      "state": {
       "description_width": ""
      }
     },
     "14656cbd39454997b90ef16224d21acc": {
      "model_module": "@jupyter-widgets/controls",
      "model_module_version": "1.1.0",
      "model_name": "LabelModel",
      "state": {
       "layout": "IPY_MODEL_5b62b7eeb86143959158e4085d77bb88",
       "style": "IPY_MODEL_de514ac198ee4f96a23947a300d166c6",
       "value": "Select upstream target material."
      }
     },
     "148bb584f6ef4e5e878a1b381fe79254": {
      "model_module": "@jupyter-widgets/controls",
      "model_module_version": "1.1.0",
      "model_name": "LabelModel",
      "state": {
       "layout": "IPY_MODEL_5c0314f0e2ae4326abd5d4ac63c8dc35",
       "style": "IPY_MODEL_370f4ee7c2e44db992d620b6a6ceb2dd",
       "value": "Select how data sets for each detector should be spaced apart (if at all)."
      }
     },
     "151abc60134044d5a94d1ed2cc538c10": {
      "model_module": "@jupyter-widgets/base",
      "model_module_version": "1.0.0",
      "model_name": "LayoutModel",
      "state": {}
     },
     "154fea893a0347a9b41097a0151ff2a7": {
      "model_module": "@jupyter-widgets/controls",
      "model_module_version": "1.1.0",
      "model_name": "LabelModel",
      "state": {
       "layout": "IPY_MODEL_494ed35864824a06877c2dfcc5d747f6",
       "style": "IPY_MODEL_e18a396c81f740bcb8fd470324b131d6",
       "value": "Select projectile ion energy."
      }
     },
     "15689425cbfc4a4c971397446beb65e8": {
      "model_module": "@jupyter-widgets/base",
      "model_module_version": "1.0.0",
      "model_name": "LayoutModel",
      "state": {}
     },
     "15a35212efc8475aaf0e98cf2b28246a": {
      "model_module": "@jupyter-widgets/controls",
      "model_module_version": "1.1.0",
      "model_name": "ToggleButtonsStyleModel",
      "state": {
       "button_width": "",
       "description_width": ""
      }
     },
     "15e42c4133524de2b2ea86582941de1f": {
      "model_module": "@jupyter-widgets/base",
      "model_module_version": "1.0.0",
      "model_name": "LayoutModel",
      "state": {}
     },
     "16315db0526c431084ebae78a9d1afad": {
      "model_module": "@jupyter-widgets/controls",
      "model_module_version": "1.1.0",
      "model_name": "DescriptionStyleModel",
      "state": {
       "description_width": ""
      }
     },
     "1825297813484bcdac34bff4130870cc": {
      "model_module": "@jupyter-widgets/controls",
      "model_module_version": "1.1.0",
      "model_name": "DescriptionStyleModel",
      "state": {
       "description_width": ""
      }
     },
     "1875e3dd5067473f88a51b8845b141ac": {
      "model_module": "@jupyter-widgets/controls",
      "model_module_version": "1.1.0",
      "model_name": "ToggleButtonsModel",
      "state": {
       "_options_labels": [
        "OLS",
        "NaI"
       ],
       "button_style": "",
       "description": "Type:",
       "icons": [],
       "index": 0,
       "layout": "IPY_MODEL_91a8c6d91411460a994e09b91adedd71",
       "style": "IPY_MODEL_bfd76b866fce44aa921ab72cc6d1c12f",
       "tooltips": [
        "Organic Liquid Scintillator",
        "Sodium Iodide"
       ]
      }
     },
     "188b644e780e4203a6132e97b46d6a85": {
      "model_module": "@jupyter-widgets/controls",
      "model_module_version": "1.1.0",
      "model_name": "CheckboxModel",
      "state": {
       "description": "45°",
       "disabled": false,
       "layout": "IPY_MODEL_7b67634f3b2e4352a0589661be000b81",
       "style": "IPY_MODEL_7c06d94c93634ca3ba27341ff8025071",
       "value": true
      }
     },
     "1895e3bc6f044bb8afff35cdcfbc7aab": {
      "model_module": "@jupyter-widgets/base",
      "model_module_version": "1.0.0",
      "model_name": "LayoutModel",
      "state": {}
     },
     "193853f9a1684ec88fc80445d79e0ba9": {
      "model_module": "@jupyter-widgets/base",
      "model_module_version": "1.0.0",
      "model_name": "LayoutModel",
      "state": {}
     },
     "19bd98574c554e07b4b537e9e84ecf7d": {
      "model_module": "@jupyter-widgets/controls",
      "model_module_version": "1.1.0",
      "model_name": "CheckboxModel",
      "state": {
       "description": "28.2°",
       "disabled": false,
       "layout": "IPY_MODEL_889762aa4e644d949a48ea2d57dac50e",
       "style": "IPY_MODEL_6223168c1f55461595981e5ec71396fd",
       "value": true
      }
     },
     "1bb7f2c06922441089584949384b0a0c": {
      "model_module": "@jupyter-widgets/base",
      "model_module_version": "1.0.0",
      "model_name": "LayoutModel",
      "state": {}
     },
     "1bc0fe1be6aa4c15aa1668a0dca5fca8": {
      "model_module": "@jupyter-widgets/base",
      "model_module_version": "1.0.0",
      "model_name": "LayoutModel",
      "state": {}
     },
     "1c30df6baca14be9b804620d10110d72": {
      "model_module": "@jupyter-widgets/base",
      "model_module_version": "1.0.0",
      "model_name": "LayoutModel",
      "state": {}
     },
     "1cb269111fbe40189e9390668bf98904": {
      "model_module": "@jupyter-widgets/controls",
      "model_module_version": "1.1.0",
      "model_name": "LabelModel",
      "state": {
       "layout": "IPY_MODEL_388644282a824885afb9277afeea4f70",
       "style": "IPY_MODEL_9f6c28c005314a9b83e039513ce02007",
       "value": "Select the detector angles to plot."
      }
     },
     "1ccf22597e434af5bab9dad773320ed1": {
      "model_module": "@jupyter-widgets/base",
      "model_module_version": "1.0.0",
      "model_name": "LayoutModel",
      "state": {}
     },
     "1d26bbdb345e4228a599082eb1877107": {
      "model_module": "@jupyter-widgets/base",
      "model_module_version": "1.0.0",
      "model_name": "LayoutModel",
      "state": {}
     },
     "1daced6103c9424ab2254a318ff9985a": {
      "model_module": "@jupyter-widgets/controls",
      "model_module_version": "1.1.0",
      "model_name": "CheckboxModel",
      "state": {
       "description": "30°",
       "disabled": false,
       "layout": "IPY_MODEL_9cd3e6c6e5e242f89758ccc80cb5a2e7",
       "style": "IPY_MODEL_a41aefaded0c42d8b1f36b278b07e298",
       "value": true
      }
     },
     "1ead81b4709043c994909a2b2b093b5f": {
      "model_module": "@jupyter-widgets/controls",
      "model_module_version": "1.1.0",
      "model_name": "ToggleButtonsStyleModel",
      "state": {
       "button_width": "",
       "description_width": ""
      }
     },
     "1ebf963a3f6c45cf90efcce937720a07": {
      "model_module": "@jupyter-widgets/controls",
      "model_module_version": "1.1.0",
      "model_name": "DescriptionStyleModel",
      "state": {
       "description_width": ""
      }
     },
     "1f0011445a274e36af5ba0d2d546cdf0": {
      "model_module": "@jupyter-widgets/base",
      "model_module_version": "1.0.0",
      "model_name": "LayoutModel",
      "state": {}
     },
     "1f772ee58afb4bd29003d5804c7a5fa8": {
      "model_module": "@jupyter-widgets/controls",
      "model_module_version": "1.1.0",
      "model_name": "ToggleButtonsStyleModel",
      "state": {
       "button_width": "",
       "description_width": ""
      }
     },
     "208ce91453bd48d9944ef67cb52ea58e": {
      "model_module": "@jupyter-widgets/controls",
      "model_module_version": "1.1.0",
      "model_name": "LabelModel",
      "state": {
       "layout": "IPY_MODEL_093c5b828de249c78fddec2d5a864ef9",
       "style": "IPY_MODEL_ead1f9378a724f3fac29c1cdad541101",
       "value": "Select the detector angles to plot."
      }
     },
     "2166ce61f48441109f67d654dd830c66": {
      "model_module": "@jupyter-widgets/base",
      "model_module_version": "1.0.0",
      "model_name": "LayoutModel",
      "state": {}
     },
     "21f5849d07b3473885fecce53d0e112c": {
      "model_module": "@jupyter-widgets/controls",
      "model_module_version": "1.1.0",
      "model_name": "DescriptionStyleModel",
      "state": {
       "description_width": ""
      }
     },
     "22f66ed53e8e423593a80dfdbe42d767": {
      "model_module": "@jupyter-widgets/controls",
      "model_module_version": "1.1.0",
      "model_name": "LabelModel",
      "state": {
       "layout": "IPY_MODEL_3072555a9e1f4fdba977666bb7ebfa77",
       "style": "IPY_MODEL_fff6cf548d564635b9b9146c8655a150",
       "value": "Select which secondary particle to plot spectra for."
      }
     },
     "234bc26d1bdc454db32ce045f42ba194": {
      "model_module": "@jupyter-widgets/base",
      "model_module_version": "1.0.0",
      "model_name": "LayoutModel",
      "state": {}
     },
     "239861f2318746d8bd9cb83702437d0e": {
      "model_module": "@jupyter-widgets/controls",
      "model_module_version": "1.1.0",
      "model_name": "DescriptionStyleModel",
      "state": {
       "description_width": ""
      }
     },
     "23c05b24f4314aa78519265ec6bd84df": {
      "model_module": "@jupyter-widgets/base",
      "model_module_version": "1.0.0",
      "model_name": "LayoutModel",
      "state": {}
     },
     "23fb7853f7e54cb294e395420afca9f4": {
      "model_module": "@jupyter-widgets/controls",
      "model_module_version": "1.1.0",
      "model_name": "ToggleButtonsStyleModel",
      "state": {
       "button_width": "",
       "description_width": ""
      }
     },
     "24ba17d9774d4073a4e994a25d40d51d": {
      "model_module": "@jupyter-widgets/controls",
      "model_module_version": "1.1.0",
      "model_name": "CheckboxModel",
      "state": {
       "description": "45°",
       "disabled": false,
       "layout": "IPY_MODEL_41c6123353a245d989a8bde1b0c20baa",
       "style": "IPY_MODEL_d0cf31ea782242468beb9758d21f489e",
       "value": true
      }
     },
     "25054629341f40a6af0ec20bd4256753": {
      "model_module": "@jupyter-widgets/controls",
      "model_module_version": "1.1.0",
      "model_name": "ToggleButtonsStyleModel",
      "state": {
       "button_width": "",
       "description_width": ""
      }
     },
     "25e876c3f90c4f3f8dfd969e5d91c1a4": {
      "model_module": "@jupyter-widgets/controls",
      "model_module_version": "1.1.0",
      "model_name": "DescriptionStyleModel",
      "state": {
       "description_width": ""
      }
     },
     "2600d26c307b4d64b61cddbb1c9c8bf9": {
      "model_module": "@jupyter-widgets/controls",
      "model_module_version": "1.1.0",
      "model_name": "ToggleButtonsStyleModel",
      "state": {
       "button_width": "",
       "description_width": ""
      }
     },
     "2696caeb870d4dfaaa013481d2df2f9b": {
      "model_module": "@jupyter-widgets/controls",
      "model_module_version": "1.1.0",
      "model_name": "DescriptionStyleModel",
      "state": {
       "description_width": ""
      }
     },
     "28327983a7144dda802785386bf344e5": {
      "model_module": "@jupyter-widgets/controls",
      "model_module_version": "1.1.0",
      "model_name": "DescriptionStyleModel",
      "state": {
       "description_width": ""
      }
     },
     "2858d126397546b8be1f6caa310f86de": {
      "model_module": "@jupyter-widgets/controls",
      "model_module_version": "1.1.0",
      "model_name": "LabelModel",
      "state": {
       "layout": "IPY_MODEL_0ce14b6fac51407f83c6f33e8133ce9d",
       "style": "IPY_MODEL_2bbc794ed60648fab66a3d5753df3d8d",
       "value": "Select which secondary particle to plot spectra for."
      }
     },
     "290f6517a4974413ac77c8839dbff117": {
      "model_module": "@jupyter-widgets/controls",
      "model_module_version": "1.1.0",
      "model_name": "LabelModel",
      "state": {
       "layout": "IPY_MODEL_30407ff8bcd242f292717ae55fc69e0f",
       "style": "IPY_MODEL_6efdb2340e02451a9552572577528872",
       "value": "Select the detector angles to plot."
      }
     },
     "295d5bb3ce65469a9acd54ef9b27d655": {
      "model_module": "@jupyter-widgets/base",
      "model_module_version": "1.0.0",
      "model_name": "LayoutModel",
      "state": {}
     },
     "29d3db93db314a9b95c0d4046ba54a75": {
      "model_module": "@jupyter-widgets/controls",
      "model_module_version": "1.1.0",
      "model_name": "LabelModel",
      "state": {
       "layout": "IPY_MODEL_a2c7c3cfda034156a7273cf99e275eaa",
       "style": "IPY_MODEL_b71cf0c8c619417dbee68c5f6ac1d3c4",
       "value": "Select which secondary particle to plot spectra for."
      }
     },
     "29f318090a064ca9b5eec01d4439e4e1": {
      "model_module": "@jupyter-widgets/controls",
      "model_module_version": "1.1.0",
      "model_name": "DescriptionStyleModel",
      "state": {
       "description_width": ""
      }
     },
     "2a0913dcf72e411ca80f20d125322405": {
      "model_module": "@jupyter-widgets/base",
      "model_module_version": "1.0.0",
      "model_name": "LayoutModel",
      "state": {}
     },
     "2a56e738a39c42b7ae89d38553519993": {
      "model_module": "@jupyter-widgets/controls",
      "model_module_version": "1.1.0",
      "model_name": "DescriptionStyleModel",
      "state": {
       "description_width": ""
      }
     },
     "2b77daaeab2946b6ae613f67e7e60193": {
      "model_module": "@jupyter-widgets/base",
      "model_module_version": "1.0.0",
      "model_name": "LayoutModel",
      "state": {}
     },
     "2bbc794ed60648fab66a3d5753df3d8d": {
      "model_module": "@jupyter-widgets/controls",
      "model_module_version": "1.1.0",
      "model_name": "DescriptionStyleModel",
      "state": {
       "description_width": ""
      }
     },
     "2bd1282aaefa4b4a9f8b526e7564db41": {
      "model_module": "@jupyter-widgets/base",
      "model_module_version": "1.0.0",
      "model_name": "LayoutModel",
      "state": {}
     },
     "2be8b6480e1545259a4a3740279c1431": {
      "model_module": "@jupyter-widgets/controls",
      "model_module_version": "1.1.0",
      "model_name": "ToggleButtonsModel",
      "state": {
       "_options_labels": [
        "OLS",
        "NaI"
       ],
       "button_style": "",
       "description": "Type:",
       "icons": [],
       "index": 1,
       "layout": "IPY_MODEL_1bc0fe1be6aa4c15aa1668a0dca5fca8",
       "style": "IPY_MODEL_7c5ed978785a429b9b206f69e356bafc",
       "tooltips": [
        "Organic Liquid Scintillator",
        "Sodium Iodide"
       ]
      }
     },
     "2c85b3e482da47e086ca2c80ce8a29bb": {
      "model_module": "@jupyter-widgets/base",
      "model_module_version": "1.0.0",
      "model_name": "LayoutModel",
      "state": {}
     },
     "2e747fb81d244092853eacf0aec85b3a": {
      "model_module": "@jupyter-widgets/controls",
      "model_module_version": "1.1.0",
      "model_name": "DescriptionStyleModel",
      "state": {
       "description_width": ""
      }
     },
     "2f5368399fa8407bae759281254513f9": {
      "model_module": "@jupyter-widgets/controls",
      "model_module_version": "1.1.0",
      "model_name": "DescriptionStyleModel",
      "state": {
       "description_width": ""
      }
     },
     "2f90a84a8e5c4438a30a321412b6b726": {
      "model_module": "@jupyter-widgets/controls",
      "model_module_version": "1.1.0",
      "model_name": "CheckboxModel",
      "state": {
       "description": "MCNP simulated",
       "disabled": false,
       "layout": "IPY_MODEL_e2afa7cfcc1a41298897da78530a081d",
       "style": "IPY_MODEL_c7742e8a78a045c891f17eec533ac65f",
       "value": true
      }
     },
     "3036287ca66040449e0295f0336a10af": {
      "model_module": "@jupyter-widgets/controls",
      "model_module_version": "1.1.0",
      "model_name": "LabelModel",
      "state": {
       "layout": "IPY_MODEL_62f47ee6e3cb4a56973a12d78275a05a",
       "style": "IPY_MODEL_c664c34b4b654a61976bd21113e6d4e2",
       "value": "Select projectile ion species."
      }
     },
     "30407ff8bcd242f292717ae55fc69e0f": {
      "model_module": "@jupyter-widgets/base",
      "model_module_version": "1.0.0",
      "model_name": "LayoutModel",
      "state": {}
     },
     "3063300bc4d141a08987333120dcb617": {
      "model_module": "@jupyter-widgets/controls",
      "model_module_version": "1.1.0",
      "model_name": "CheckboxModel",
      "state": {
       "description": "135°",
       "disabled": false,
       "layout": "IPY_MODEL_6f33bde3f7e847a7afdbce2b29b2dce2",
       "style": "IPY_MODEL_16315db0526c431084ebae78a9d1afad",
       "value": true
      }
     },
     "3072555a9e1f4fdba977666bb7ebfa77": {
      "model_module": "@jupyter-widgets/base",
      "model_module_version": "1.0.0",
      "model_name": "LayoutModel",
      "state": {}
     },
     "30eed5373ec5436fbf0a748621ee4f21": {
      "model_module": "@jupyter-widgets/controls",
      "model_module_version": "1.1.0",
      "model_name": "CheckboxModel",
      "state": {
       "description": "30°",
       "disabled": false,
       "layout": "IPY_MODEL_4a5c8be0fd00483fa1bdf40cefc5198e",
       "style": "IPY_MODEL_74d5f9b4ab8d4302a37bd20f9f9f0e08",
       "value": true
      }
     },
     "325639152adf4b15b3b1051041ae68eb": {
      "model_module": "@jupyter-widgets/base",
      "model_module_version": "1.0.0",
      "model_name": "LayoutModel",
      "state": {}
     },
     "340227b1db3b4b7e99a991a1fcad0316": {
      "model_module": "@jupyter-widgets/base",
      "model_module_version": "1.0.0",
      "model_name": "LayoutModel",
      "state": {}
     },
     "343114b504ce43fda824ef0816453850": {
      "model_module": "@jupyter-widgets/controls",
      "model_module_version": "1.1.0",
      "model_name": "DescriptionStyleModel",
      "state": {
       "description_width": ""
      }
     },
     "351ce5e01dad43c699861b74f5ad7e01": {
      "model_module": "@jupyter-widgets/base",
      "model_module_version": "1.0.0",
      "model_name": "LayoutModel",
      "state": {}
     },
     "35931f67715d4c6a9251af2ea03c446a": {
      "model_module": "@jupyter-widgets/controls",
      "model_module_version": "1.1.0",
      "model_name": "DescriptionStyleModel",
      "state": {
       "description_width": ""
      }
     },
     "370f4ee7c2e44db992d620b6a6ceb2dd": {
      "model_module": "@jupyter-widgets/controls",
      "model_module_version": "1.1.0",
      "model_name": "DescriptionStyleModel",
      "state": {
       "description_width": ""
      }
     },
     "37dbef5250e14c26b5ef5bd7f3fa56d6": {
      "model_module": "@jupyter-widgets/controls",
      "model_module_version": "1.1.0",
      "model_name": "ToggleButtonsModel",
      "state": {
       "_options_labels": [
        "OLS",
        "NaI"
       ],
       "button_style": "",
       "description": "Type:",
       "icons": [],
       "index": 0,
       "layout": "IPY_MODEL_a7271008a8924a56badb7451ba5fb3db",
       "style": "IPY_MODEL_f8c6878758504288a4ef98490a7bf179",
       "tooltips": [
        "Organic Liquid Scintillator",
        "Sodium Iodide"
       ]
      }
     },
     "3804a43a83904c60a62391076b5dbb2c": {
      "model_module": "@jupyter-widgets/base",
      "model_module_version": "1.0.0",
      "model_name": "LayoutModel",
      "state": {}
     },
     "387c26afccf64375a0a6f06243572aea": {
      "model_module": "@jupyter-widgets/controls",
      "model_module_version": "1.1.0",
      "model_name": "DescriptionStyleModel",
      "state": {
       "description_width": ""
      }
     },
     "388644282a824885afb9277afeea4f70": {
      "model_module": "@jupyter-widgets/base",
      "model_module_version": "1.0.0",
      "model_name": "LayoutModel",
      "state": {}
     },
     "38d579e3bb154fefb863b0dac675d366": {
      "model_module": "@jupyter-widgets/controls",
      "model_module_version": "1.1.0",
      "model_name": "CheckboxModel",
      "state": {
       "description": "30°",
       "disabled": false,
       "layout": "IPY_MODEL_52ad8bb78cee422c90dad374940fe913",
       "style": "IPY_MODEL_c011c67b02e846f88f4fa9afc9ba4323",
       "value": true
      }
     },
     "38e556317afc4ef3b3e660e02239fc61": {
      "model_module": "@jupyter-widgets/base",
      "model_module_version": "1.0.0",
      "model_name": "LayoutModel",
      "state": {}
     },
     "399c7aed982148b7812e34ed0bb543ff": {
      "model_module": "@jupyter-widgets/controls",
      "model_module_version": "1.1.0",
      "model_name": "ToggleButtonsModel",
      "state": {
       "_options_labels": [
        "OLS",
        "NaI"
       ],
       "button_style": "",
       "description": "Detectory type:",
       "icons": [],
       "index": 0,
       "layout": "IPY_MODEL_295d5bb3ce65469a9acd54ef9b27d655",
       "style": "IPY_MODEL_89a398c8217f431ea4a51d7fbe9f240e",
       "tooltips": [
        "Organic Liquid Scintillator",
        "Sodium Iodide"
       ]
      }
     },
     "39d8364dc2564b2ebd83bafec9c69e43": {
      "model_module": "@jupyter-widgets/controls",
      "model_module_version": "1.1.0",
      "model_name": "CheckboxModel",
      "state": {
       "description": "PHITS simulated",
       "disabled": false,
       "layout": "IPY_MODEL_f6f17ed301d94057a0bc97f27e6b7024",
       "style": "IPY_MODEL_465429e0249e4ed895c7a339c506965d",
       "value": true
      }
     },
     "3a19cc5c39f047ad823d1c15fd11c6ba": {
      "model_module": "@jupyter-widgets/controls",
      "model_module_version": "1.1.0",
      "model_name": "DescriptionStyleModel",
      "state": {
       "description_width": ""
      }
     },
     "3a28181ffb7c48c8a0db5f7b94a0b7b9": {
      "model_module": "@jupyter-widgets/base",
      "model_module_version": "1.0.0",
      "model_name": "LayoutModel",
      "state": {}
     },
     "3aabbbe295924549ad6199485064a91b": {
      "model_module": "@jupyter-widgets/controls",
      "model_module_version": "1.1.0",
      "model_name": "DescriptionStyleModel",
      "state": {
       "description_width": ""
      }
     },
     "3b19f73ad74f454db3d139044ffae906": {
      "model_module": "@jupyter-widgets/controls",
      "model_module_version": "1.1.0",
      "model_name": "CheckboxModel",
      "state": {
       "description": "7.2°",
       "disabled": false,
       "layout": "IPY_MODEL_a809e08561f34af1bf29fb92f9f1b6c2",
       "style": "IPY_MODEL_21f5849d07b3473885fecce53d0e112c",
       "value": true
      }
     },
     "3c1a1d7cb0484238a4722a24501e0519": {
      "model_module": "@jupyter-widgets/controls",
      "model_module_version": "1.1.0",
      "model_name": "ToggleButtonsModel",
      "state": {
       "_options_labels": [
        "H",
        "He",
        "C",
        "Si",
        "Fe"
       ],
       "button_style": "",
       "description": "Ion:",
       "icons": [],
       "index": 1,
       "layout": "IPY_MODEL_87129d9865714036ae427bf5d22d6393",
       "style": "IPY_MODEL_65e71b95a6c041509430f4fb06897811",
       "tooltips": [
        "Hydrogen",
        "Helium",
        "Carbon",
        "Silicon",
        "Iron"
       ]
      }
     },
     "3cb83558997740aeb1dbac5417186059": {
      "model_module": "@jupyter-widgets/controls",
      "model_module_version": "1.1.0",
      "model_name": "DescriptionStyleModel",
      "state": {
       "description_width": ""
      }
     },
     "3ea7154df9b74a139506c0f40dc800f4": {
      "model_module": "@jupyter-widgets/controls",
      "model_module_version": "1.1.0",
      "model_name": "LabelModel",
      "state": {
       "layout": "IPY_MODEL_d7eefa870f8c4d0e9c21967a295082e0",
       "style": "IPY_MODEL_995e5fbf85fb4011ade0b12ae8d72130",
       "value": "Select a detector type."
      }
     },
     "3f11f31719bb4615b8e63eafeabda928": {
      "model_module": "@jupyter-widgets/base",
      "model_module_version": "1.0.0",
      "model_name": "LayoutModel",
      "state": {}
     },
     "3f3603034f324ad993c0645e021adfa3": {
      "model_module": "@jupyter-widgets/base",
      "model_module_version": "1.0.0",
      "model_name": "LayoutModel",
      "state": {}
     },
     "3f593129ac0c4ef0a9f064af47474b22": {
      "model_module": "@jupyter-widgets/base",
      "model_module_version": "1.0.0",
      "model_name": "LayoutModel",
      "state": {}
     },
     "3fa0dbfe0fbf4acf816f9fe48781f1e6": {
      "model_module": "@jupyter-widgets/controls",
      "model_module_version": "1.1.0",
      "model_name": "DescriptionStyleModel",
      "state": {
       "description_width": ""
      }
     },
     "3fa362803ddd4c109c430794792cdfe2": {
      "model_module": "@jupyter-widgets/controls",
      "model_module_version": "1.1.0",
      "model_name": "ToggleButtonsModel",
      "state": {
       "_options_labels": [
        "OLS",
        "NaI"
       ],
       "button_style": "",
       "description": "Type:",
       "icons": [],
       "index": 0,
       "layout": "IPY_MODEL_046224b054b0448ea8e0ed8ad64c4b05",
       "style": "IPY_MODEL_caccc658e39e4d8eab1327632eccbe34",
       "tooltips": [
        "Organic Liquid Scintillator",
        "Sodium Iodide"
       ]
      }
     },
     "4088ba6d018e4e63a876d816450947aa": {
      "model_module": "@jupyter-widgets/controls",
      "model_module_version": "1.1.0",
      "model_name": "DescriptionStyleModel",
      "state": {
       "description_width": ""
      }
     },
     "40ddbb06e0014ae08ff988866adf07c1": {
      "model_module": "@jupyter-widgets/base",
      "model_module_version": "1.0.0",
      "model_name": "LayoutModel",
      "state": {}
     },
     "41c6123353a245d989a8bde1b0c20baa": {
      "model_module": "@jupyter-widgets/base",
      "model_module_version": "1.0.0",
      "model_name": "LayoutModel",
      "state": {}
     },
     "41e3926362f243e19a8320c94d209953": {
      "model_module": "@jupyter-widgets/base",
      "model_module_version": "1.0.0",
      "model_name": "LayoutModel",
      "state": {}
     },
     "45ced6062b084a298ed3dcf78ffa98a6": {
      "model_module": "@jupyter-widgets/controls",
      "model_module_version": "1.1.0",
      "model_name": "CheckboxModel",
      "state": {
       "description": "30°",
       "disabled": false,
       "layout": "IPY_MODEL_93c0c364b777479483d8dde8303cd5c9",
       "style": "IPY_MODEL_d489953aa27748ca809f2bfa6fcbdbf6",
       "value": true
      }
     },
     "4613f06e102346389509918e945271e4": {
      "model_module": "@jupyter-widgets/base",
      "model_module_version": "1.0.0",
      "model_name": "LayoutModel",
      "state": {}
     },
     "465429e0249e4ed895c7a339c506965d": {
      "model_module": "@jupyter-widgets/controls",
      "model_module_version": "1.1.0",
      "model_name": "DescriptionStyleModel",
      "state": {
       "description_width": ""
      }
     },
     "4693c63a28be4976a31169004a8d002b": {
      "model_module": "@jupyter-widgets/base",
      "model_module_version": "1.0.0",
      "model_name": "LayoutModel",
      "state": {}
     },
     "46e450b0cee34e4fa614f8ded0109b65": {
      "model_module": "@jupyter-widgets/controls",
      "model_module_version": "1.1.0",
      "model_name": "CheckboxModel",
      "state": {
       "description": "60°",
       "disabled": false,
       "layout": "IPY_MODEL_151abc60134044d5a94d1ed2cc538c10",
       "style": "IPY_MODEL_c13fad6c897e49fc95a5190bb1a14f16",
       "value": true
      }
     },
     "47b451d0705f4e5a99278ecb7a32fa14": {
      "model_module": "@jupyter-widgets/controls",
      "model_module_version": "1.1.0",
      "model_name": "DescriptionStyleModel",
      "state": {
       "description_width": ""
      }
     },
     "47ba5787fa4d46a29489a5bff9350ee7": {
      "model_module": "@jupyter-widgets/controls",
      "model_module_version": "1.1.0",
      "model_name": "CheckboxModel",
      "state": {
       "description": "30°",
       "disabled": false,
       "layout": "IPY_MODEL_9c713958352b42d49e7d241ff01017a5",
       "style": "IPY_MODEL_7286703e5c1347568193beac71fefb31",
       "value": true
      }
     },
     "49015ebd8031493a918323f27b6acefc": {
      "model_module": "@jupyter-widgets/controls",
      "model_module_version": "1.1.0",
      "model_name": "ToggleButtonsModel",
      "state": {
       "_options_labels": [
        "OLS",
        "NaI"
       ],
       "button_style": "",
       "description": "Type:",
       "icons": [],
       "index": 1,
       "layout": "IPY_MODEL_0eefed4c26c24fdd9b4b7a338ffa2d06",
       "style": "IPY_MODEL_e975e26b0362471590a595e5711b6a02",
       "tooltips": [
        "Organic Liquid Scintillator",
        "Sodium Iodide"
       ]
      }
     },
     "491c68a6d7dc4e31a54fc9b25206b9e1": {
      "model_module": "@jupyter-widgets/controls",
      "model_module_version": "1.1.0",
      "model_name": "CheckboxModel",
      "state": {
       "description": "30°",
       "disabled": false,
       "layout": "IPY_MODEL_a6d31dec6d624b0f98c06300248662ea",
       "style": "IPY_MODEL_f8a211f64f1f4f378bcaa6dd3f50b1db",
       "value": true
      }
     },
     "494ed35864824a06877c2dfcc5d747f6": {
      "model_module": "@jupyter-widgets/base",
      "model_module_version": "1.0.0",
      "model_name": "LayoutModel",
      "state": {}
     },
     "49d97c629783467eaf05427d54689f46": {
      "model_module": "@jupyter-widgets/controls",
      "model_module_version": "1.1.0",
      "model_name": "DescriptionStyleModel",
      "state": {
       "description_width": ""
      }
     },
     "4a4c72c0f9b94ba490d720133e36dbf4": {
      "model_module": "@jupyter-widgets/controls",
      "model_module_version": "1.1.0",
      "model_name": "CheckboxModel",
      "state": {
       "description": "12.7°",
       "disabled": false,
       "layout": "IPY_MODEL_d045ed28e7f443a492a3b0a8c145e6bd",
       "style": "IPY_MODEL_29f318090a064ca9b5eec01d4439e4e1",
       "value": true
      }
     },
     "4a5c8be0fd00483fa1bdf40cefc5198e": {
      "model_module": "@jupyter-widgets/base",
      "model_module_version": "1.0.0",
      "model_name": "LayoutModel",
      "state": {}
     },
     "4aa68107177a4fe48b628bb095f66180": {
      "model_module": "@jupyter-widgets/controls",
      "model_module_version": "1.1.0",
      "model_name": "DescriptionStyleModel",
      "state": {
       "description_width": ""
      }
     },
     "4b22a219bb39429aadfbe3662ab9344e": {
      "model_module": "@jupyter-widgets/controls",
      "model_module_version": "1.1.0",
      "model_name": "ToggleButtonsStyleModel",
      "state": {
       "button_width": "",
       "description_width": ""
      }
     },
     "4b60212ad09e40aa9508e02ca4d54fdc": {
      "model_module": "@jupyter-widgets/base",
      "model_module_version": "1.0.0",
      "model_name": "LayoutModel",
      "state": {}
     },
     "4b608a358fb24ba08d1a806019468afe": {
      "model_module": "@jupyter-widgets/controls",
      "model_module_version": "1.1.0",
      "model_name": "DescriptionStyleModel",
      "state": {
       "description_width": ""
      }
     },
     "4e376709764449dcb347924ebfde00e6": {
      "model_module": "@jupyter-widgets/controls",
      "model_module_version": "1.1.0",
      "model_name": "DescriptionStyleModel",
      "state": {
       "description_width": ""
      }
     },
     "4f1190b8cbda46f889e0baa7d9929de6": {
      "model_module": "@jupyter-widgets/controls",
      "model_module_version": "1.1.0",
      "model_name": "DescriptionStyleModel",
      "state": {
       "description_width": ""
      }
     },
     "4f7ecca2fa244146b4cb33d2ca6396d3": {
      "model_module": "@jupyter-widgets/controls",
      "model_module_version": "1.1.0",
      "model_name": "ToggleButtonsModel",
      "state": {
       "_options_labels": [
        "Al",
        "HDPE",
        "AlPE"
       ],
       "button_style": "",
       "description": "Material:",
       "icons": [],
       "index": 0,
       "layout": "IPY_MODEL_a17c6908c7eb480ea1cd7598a0c8cf81",
       "style": "IPY_MODEL_943d6b62d3784ae79ad92e1c89bec15d",
       "tooltips": [
        "Aluminum",
        "Polyethylene",
        "Combination of Al and HDPE"
       ]
      }
     },
     "4ffd4cfb70074db8ac07d1d8cf7325d6": {
      "model_module": "@jupyter-widgets/base",
      "model_module_version": "1.0.0",
      "model_name": "LayoutModel",
      "state": {}
     },
     "5014b7d0d7cd4fffb76abe2230de4cc7": {
      "model_module": "@jupyter-widgets/controls",
      "model_module_version": "1.1.0",
      "model_name": "CheckboxModel",
      "state": {
       "description": "60°",
       "disabled": false,
       "layout": "IPY_MODEL_99c2da3db1304b69bdb9ff3d14c51e3e",
       "style": "IPY_MODEL_e276e5c685494292b6190b0bad23e9f6",
       "value": true
      }
     },
     "507aa9e67bd74d07bc90b72a6b489cb3": {
      "model_module": "@jupyter-widgets/controls",
      "model_module_version": "1.1.0",
      "model_name": "CheckboxModel",
      "state": {
       "description": "Experiment",
       "disabled": false,
       "layout": "IPY_MODEL_dddc16ed883246f0815715672f5991bf",
       "style": "IPY_MODEL_2a56e738a39c42b7ae89d38553519993",
       "value": true
      }
     },
     "50ac177e718e4ad88a72239deb018207": {
      "model_module": "@jupyter-widgets/controls",
      "model_module_version": "1.1.0",
      "model_name": "CheckboxModel",
      "state": {
       "description": "10°",
       "disabled": false,
       "layout": "IPY_MODEL_5bce7c35e254453d81e41fcc938c00ac",
       "style": "IPY_MODEL_fc3c7d1c3a824bc4a7ab4ae7d3a76502",
       "value": true
      }
     },
     "50bf5b82fdcf40549f30bc8f10000f32": {
      "model_module": "@jupyter-widgets/base",
      "model_module_version": "1.0.0",
      "model_name": "LayoutModel",
      "state": {}
     },
     "511397ef520f48a1bd18a902ecf23138": {
      "model_module": "@jupyter-widgets/controls",
      "model_module_version": "1.1.0",
      "model_name": "LabelModel",
      "state": {
       "layout": "IPY_MODEL_d921a36675004b3d9263529f7b8473c8",
       "style": "IPY_MODEL_4b608a358fb24ba08d1a806019468afe",
       "value": "Select which secondary particle to plot spectra for."
      }
     },
     "517769533b984abe859dc81af6864c67": {
      "model_module": "@jupyter-widgets/controls",
      "model_module_version": "1.1.0",
      "model_name": "DescriptionStyleModel",
      "state": {
       "description_width": ""
      }
     },
     "51b6948d26ac4208adc465035d6b9140": {
      "model_module": "@jupyter-widgets/base",
      "model_module_version": "1.0.0",
      "model_name": "LayoutModel",
      "state": {}
     },
     "5245f077e25a410482d2210652e901bf": {
      "model_module": "@jupyter-widgets/base",
      "model_module_version": "1.0.0",
      "model_name": "LayoutModel",
      "state": {}
     },
     "52ad8bb78cee422c90dad374940fe913": {
      "model_module": "@jupyter-widgets/base",
      "model_module_version": "1.0.0",
      "model_name": "LayoutModel",
      "state": {}
     },
     "53cb2360d4f441c387b3d5e6a9f15d9b": {
      "model_module": "@jupyter-widgets/controls",
      "model_module_version": "1.1.0",
      "model_name": "CheckboxModel",
      "state": {
       "description": "Experiment",
       "disabled": false,
       "layout": "IPY_MODEL_2166ce61f48441109f67d654dd830c66",
       "style": "IPY_MODEL_765e107b085741a78596fb1663fbafdb",
       "value": true
      }
     },
     "548e6d09d18b4f059585b74202e21847": {
      "model_module": "@jupyter-widgets/controls",
      "model_module_version": "1.1.0",
      "model_name": "CheckboxModel",
      "state": {
       "description": "30°",
       "disabled": false,
       "layout": "IPY_MODEL_9de1a2aa769f47d29e37631d7962d1c9",
       "style": "IPY_MODEL_6c4eb150c9cf4b37b964232ca3b5107b",
       "value": true
      }
     },
     "54a5c06de8ce4adcbd71df8fd771b4c4": {
      "model_module": "@jupyter-widgets/controls",
      "model_module_version": "1.1.0",
      "model_name": "CheckboxModel",
      "state": {
       "description": "Experiment",
       "disabled": false,
       "layout": "IPY_MODEL_fe5af945dcef46c08027357980776cea",
       "style": "IPY_MODEL_af90e3c5f03a4a37aec96c93311885e7",
       "value": true
      }
     },
     "54a6008ce254488abca9239c5aee6363": {
      "model_module": "@jupyter-widgets/controls",
      "model_module_version": "1.1.0",
      "model_name": "DescriptionStyleModel",
      "state": {
       "description_width": ""
      }
     },
     "54bb34b4459744c28505bd086292de89": {
      "model_module": "@jupyter-widgets/controls",
      "model_module_version": "1.1.0",
      "model_name": "LabelModel",
      "state": {
       "layout": "IPY_MODEL_38e556317afc4ef3b3e660e02239fc61",
       "style": "IPY_MODEL_69cb1aa93beb4082943a60af9ea045db",
       "value": "Select which secondary particle to plot spectra for."
      }
     },
     "55a5703aec6e4ddf86fb580bdcbfe484": {
      "model_module": "@jupyter-widgets/controls",
      "model_module_version": "1.1.0",
      "model_name": "ToggleButtonsStyleModel",
      "state": {
       "button_width": "",
       "description_width": ""
      }
     },
     "56c41aa0c12e46e6981fa32b272843b1": {
      "model_module": "@jupyter-widgets/controls",
      "model_module_version": "1.1.0",
      "model_name": "LabelModel",
      "state": {
       "layout": "IPY_MODEL_bd7e163492cd48788cd5ed22903d5cb0",
       "style": "IPY_MODEL_8481447982d94de88852576479b803bf",
       "value": "Select upstream target mass thickness."
      }
     },
     "571570d1fdb24024b81f8c526ee80215": {
      "model_module": "@jupyter-widgets/base",
      "model_module_version": "1.0.0",
      "model_name": "LayoutModel",
      "state": {}
     },
     "579b23b91a274968b23c4c340dc437c9": {
      "model_module": "@jupyter-widgets/controls",
      "model_module_version": "1.1.0",
      "model_name": "LabelModel",
      "state": {
       "layout": "IPY_MODEL_0337ce54a5744c2592c741f8bf0da893",
       "style": "IPY_MODEL_aa55f5a5dd764cc8a6295cbe1e5903bd",
       "value": "Select the detector angles to plot."
      }
     },
     "591983d72d9a4707a025102bf48ee6a2": {
      "model_module": "@jupyter-widgets/base",
      "model_module_version": "1.0.0",
      "model_name": "LayoutModel",
      "state": {}
     },
     "593b60d7d69a4650828cd601b908e6b9": {
      "model_module": "@jupyter-widgets/controls",
      "model_module_version": "1.1.0",
      "model_name": "DescriptionStyleModel",
      "state": {
       "description_width": ""
      }
     },
     "596ea217ac164fedaf51f67142124c58": {
      "model_module": "@jupyter-widgets/base",
      "model_module_version": "1.0.0",
      "model_name": "LayoutModel",
      "state": {}
     },
     "59d88d47bdd14c89a862b29a2a531ba7": {
      "model_module": "@jupyter-widgets/controls",
      "model_module_version": "1.1.0",
      "model_name": "DescriptionStyleModel",
      "state": {
       "description_width": ""
      }
     },
     "5a1015870ae041e78d2db8b9d6e4d69b": {
      "model_module": "@jupyter-widgets/controls",
      "model_module_version": "1.1.0",
      "model_name": "DescriptionStyleModel",
      "state": {
       "description_width": ""
      }
     },
     "5af719f86866423986c2dfaf7aaf50e7": {
      "model_module": "@jupyter-widgets/controls",
      "model_module_version": "1.1.0",
      "model_name": "DescriptionStyleModel",
      "state": {
       "description_width": ""
      }
     },
     "5b62b7eeb86143959158e4085d77bb88": {
      "model_module": "@jupyter-widgets/base",
      "model_module_version": "1.0.0",
      "model_name": "LayoutModel",
      "state": {}
     },
     "5bce7c35e254453d81e41fcc938c00ac": {
      "model_module": "@jupyter-widgets/base",
      "model_module_version": "1.0.0",
      "model_name": "LayoutModel",
      "state": {}
     },
     "5c0314f0e2ae4326abd5d4ac63c8dc35": {
      "model_module": "@jupyter-widgets/base",
      "model_module_version": "1.0.0",
      "model_name": "LayoutModel",
      "state": {}
     },
     "5db4a76a5eaf4c35be662857f3463261": {
      "model_module": "@jupyter-widgets/controls",
      "model_module_version": "1.1.0",
      "model_name": "ToggleButtonsStyleModel",
      "state": {
       "button_width": "",
       "description_width": ""
      }
     },
     "5ddedfa45f4d484bbf9c56c2604ab531": {
      "model_module": "@jupyter-widgets/base",
      "model_module_version": "1.0.0",
      "model_name": "LayoutModel",
      "state": {}
     },
     "5ddfe0cd2fbd43968f57d4aeffbcbffc": {
      "model_module": "@jupyter-widgets/controls",
      "model_module_version": "1.1.0",
      "model_name": "LabelModel",
      "state": {
       "layout": "IPY_MODEL_6fa780b99cce4d4dbb5783b0de1bf822",
       "style": "IPY_MODEL_eefe43499ee44524b93df0bdab9d7141",
       "value": "Select a detector type."
      }
     },
     "5de24e98135c4d4e84d09043ba2038ef": {
      "model_module": "@jupyter-widgets/controls",
      "model_module_version": "1.1.0",
      "model_name": "DescriptionStyleModel",
      "state": {
       "description_width": ""
      }
     },
     "5e26460dacad4849ad851395b6f30865": {
      "model_module": "@jupyter-widgets/base",
      "model_module_version": "1.0.0",
      "model_name": "LayoutModel",
      "state": {}
     },
     "5e4cae0c677c4d1292f81af524b4844e": {
      "model_module": "@jupyter-widgets/controls",
      "model_module_version": "1.1.0",
      "model_name": "ToggleButtonsModel",
      "state": {
       "_options_labels": [
        "Al",
        "HDPE",
        "AlPE"
       ],
       "button_style": "",
       "description": "Material:",
       "icons": [],
       "index": 0,
       "layout": "IPY_MODEL_9087e4c8a51d43b89f7b2d48774e20ca",
       "style": "IPY_MODEL_25054629341f40a6af0ec20bd4256753",
       "tooltips": [
        "Aluminum",
        "Polyethylene",
        "Combination of Al and HDPE"
       ]
      }
     },
     "5e74ab53a2d343b3b07119aa26b13b7a": {
      "model_module": "@jupyter-widgets/controls",
      "model_module_version": "1.1.0",
      "model_name": "ToggleButtonsModel",
      "state": {
       "_options_labels": [
        "20 g/cm²",
        "60 g/cm²"
       ],
       "button_style": "",
       "description": "Thickness:",
       "icons": [],
       "index": 0,
       "layout": "IPY_MODEL_c294a3be598c47f8aa914edf0fe7cf51",
       "style": "IPY_MODEL_909cf672f04645239c0c033e57f32d23",
       "tooltips": [
        "20 g/cm²",
        "60 g/cm²"
       ]
      }
     },
     "5eeab73556e944f6a02fc3c6602ab6db": {
      "model_module": "@jupyter-widgets/controls",
      "model_module_version": "1.1.0",
      "model_name": "CheckboxModel",
      "state": {
       "description": "Experiment",
       "disabled": false,
       "layout": "IPY_MODEL_b696018911824f1c86ca2809ef37ad9b",
       "style": "IPY_MODEL_ad36910402d448bea2dfcd829d332606",
       "value": true
      }
     },
     "5f3a3cd484814c62a6b32cfe26e22d07": {
      "model_module": "@jupyter-widgets/controls",
      "model_module_version": "1.1.0",
      "model_name": "DescriptionStyleModel",
      "state": {
       "description_width": ""
      }
     },
     "5f9da68bc4a6436881daf25b2d7fbca9": {
      "model_module": "@jupyter-widgets/controls",
      "model_module_version": "1.1.0",
      "model_name": "CheckboxModel",
      "state": {
       "description": "12.7°",
       "disabled": false,
       "layout": "IPY_MODEL_5fccd6f8a2e0437eb337d964df7d8bf8",
       "style": "IPY_MODEL_eb3bc749b5bd437384de45b0ff78c72e",
       "value": true
      }
     },
     "5fccd6f8a2e0437eb337d964df7d8bf8": {
      "model_module": "@jupyter-widgets/base",
      "model_module_version": "1.0.0",
      "model_name": "LayoutModel",
      "state": {}
     },
     "5fd143974646441e9efb80cf682ca8a5": {
      "model_module": "@jupyter-widgets/controls",
      "model_module_version": "1.1.0",
      "model_name": "DescriptionStyleModel",
      "state": {
       "description_width": ""
      }
     },
     "5fef06c9b18146629b8db9e6d8647388": {
      "model_module": "@jupyter-widgets/controls",
      "model_module_version": "1.1.0",
      "model_name": "CheckboxModel",
      "state": {
       "description": "MCNP simulated",
       "disabled": false,
       "layout": "IPY_MODEL_ee9508ad87874fd7b8be8d0efe9d98ad",
       "style": "IPY_MODEL_91d7a13d93c940ee9ac51d72694f32fa",
       "value": true
      }
     },
     "603f8ff406b4486193714d0ccbb23ada": {
      "model_module": "@jupyter-widgets/controls",
      "model_module_version": "1.1.0",
      "model_name": "LabelModel",
      "state": {
       "layout": "IPY_MODEL_f4bcbe0acbd54ece9fa7bc6babb7c729",
       "style": "IPY_MODEL_3fa0dbfe0fbf4acf816f9fe48781f1e6",
       "value": "Select how data sets for each detector should be spaced apart (if at all)."
      }
     },
     "60f108fd0bbb440a9b33994693046154": {
      "model_module": "@jupyter-widgets/base",
      "model_module_version": "1.0.0",
      "model_name": "LayoutModel",
      "state": {}
     },
     "6223168c1f55461595981e5ec71396fd": {
      "model_module": "@jupyter-widgets/controls",
      "model_module_version": "1.1.0",
      "model_name": "DescriptionStyleModel",
      "state": {
       "description_width": ""
      }
     },
     "62f47ee6e3cb4a56973a12d78275a05a": {
      "model_module": "@jupyter-widgets/base",
      "model_module_version": "1.0.0",
      "model_name": "LayoutModel",
      "state": {}
     },
     "637ed75ddebd43dbb94e0c153d7585d5": {
      "model_module": "@jupyter-widgets/base",
      "model_module_version": "1.0.0",
      "model_name": "LayoutModel",
      "state": {}
     },
     "63928daf6d25409caff26b7ab36d100a": {
      "model_module": "@jupyter-widgets/controls",
      "model_module_version": "1.1.0",
      "model_name": "DescriptionStyleModel",
      "state": {
       "description_width": ""
      }
     },
     "63fe9245ac9b425e8a327547db9f4687": {
      "model_module": "@jupyter-widgets/controls",
      "model_module_version": "1.1.0",
      "model_name": "DescriptionStyleModel",
      "state": {
       "description_width": ""
      }
     },
     "64153a858c854c5487553455c4b6aa81": {
      "model_module": "@jupyter-widgets/controls",
      "model_module_version": "1.1.0",
      "model_name": "LabelModel",
      "state": {
       "layout": "IPY_MODEL_92067cbd444b473d85b3f7076739fd9c",
       "style": "IPY_MODEL_7e3ae6fd17d4407687fec65ec250680a",
       "value": "Select upstream target mass thickness."
      }
     },
     "650cb3c7e70a4b00a1783df8732a0810": {
      "model_module": "@jupyter-widgets/controls",
      "model_module_version": "1.1.0",
      "model_name": "ToggleButtonsStyleModel",
      "state": {
       "button_width": "",
       "description_width": ""
      }
     },
     "65e71b95a6c041509430f4fb06897811": {
      "model_module": "@jupyter-widgets/controls",
      "model_module_version": "1.1.0",
      "model_name": "ToggleButtonsStyleModel",
      "state": {
       "button_width": "",
       "description_width": ""
      }
     },
     "66d22769793246faba407f3ea4cf3da2": {
      "model_module": "@jupyter-widgets/controls",
      "model_module_version": "1.1.0",
      "model_name": "CheckboxModel",
      "state": {
       "description": "28.2°",
       "disabled": false,
       "layout": "IPY_MODEL_016af3617c1540cb8e02cb71fbe0670e",
       "style": "IPY_MODEL_4e376709764449dcb347924ebfde00e6",
       "value": true
      }
     },
     "6724eacf71144ea5a9f173472ac5361d": {
      "model_module": "@jupyter-widgets/controls",
      "model_module_version": "1.1.0",
      "model_name": "ToggleButtonsModel",
      "state": {
       "_options_labels": [
        "H",
        "He",
        "C",
        "Si",
        "Fe"
       ],
       "button_style": "",
       "description": "Projectile ion:",
       "icons": [],
       "index": 0,
       "layout": "IPY_MODEL_3f593129ac0c4ef0a9f064af47474b22",
       "style": "IPY_MODEL_fa9b0c391269426f8023ac94e5b71181",
       "tooltips": [
        "Hydrogen",
        "Helium",
        "Carbon",
        "Silicon",
        "Iron"
       ]
      }
     },
     "68536405184d4a60ae304a6d135c72e0": {
      "model_module": "@jupyter-widgets/controls",
      "model_module_version": "1.1.0",
      "model_name": "ToggleButtonsModel",
      "state": {
       "_options_labels": [
        "OLS",
        "NaI"
       ],
       "button_style": "",
       "description": "Type:",
       "icons": [],
       "index": 0,
       "layout": "IPY_MODEL_3f3603034f324ad993c0645e021adfa3",
       "style": "IPY_MODEL_a2cdfab85bf5429c9102f70b25547dac",
       "tooltips": [
        "Organic Liquid Scintillator",
        "Sodium Iodide"
       ]
      }
     },
     "6883ad24f900455e8b32a6daa8bef498": {
      "model_module": "@jupyter-widgets/controls",
      "model_module_version": "1.1.0",
      "model_name": "LabelModel",
      "state": {
       "layout": "IPY_MODEL_95f6017c88ec4e5fa9ec9304f81b5c97",
       "style": "IPY_MODEL_e858a2e6bfff44c9a787a49521f4d6a5",
       "value": "Select the detector angles to plot."
      }
     },
     "69cb1aa93beb4082943a60af9ea045db": {
      "model_module": "@jupyter-widgets/controls",
      "model_module_version": "1.1.0",
      "model_name": "DescriptionStyleModel",
      "state": {
       "description_width": ""
      }
     },
     "69d6fc1b35cd4fd4889f882511b76af2": {
      "model_module": "@jupyter-widgets/base",
      "model_module_version": "1.0.0",
      "model_name": "LayoutModel",
      "state": {}
     },
     "6c4eb150c9cf4b37b964232ca3b5107b": {
      "model_module": "@jupyter-widgets/controls",
      "model_module_version": "1.1.0",
      "model_name": "DescriptionStyleModel",
      "state": {
       "description_width": ""
      }
     },
     "6d3d9cc92a434c7a8a960f204f02c617": {
      "model_module": "@jupyter-widgets/controls",
      "model_module_version": "1.1.0",
      "model_name": "CheckboxModel",
      "state": {
       "description": "80°",
       "disabled": false,
       "layout": "IPY_MODEL_340227b1db3b4b7e99a991a1fcad0316",
       "style": "IPY_MODEL_3cb83558997740aeb1dbac5417186059",
       "value": true
      }
     },
     "6d9d797b2c9e4b87a9e458e95b7feada": {
      "model_module": "@jupyter-widgets/controls",
      "model_module_version": "1.1.0",
      "model_name": "CheckboxModel",
      "state": {
       "description": "80°",
       "disabled": false,
       "layout": "IPY_MODEL_d2bfdaf8796e4f56a2b6c2179e47f23d",
       "style": "IPY_MODEL_a63bb1524dbf4b9bbf3bdf8f5fe2f5d3",
       "value": true
      }
     },
     "6ec086756d0f429ba60e593c5186f95a": {
      "model_module": "@jupyter-widgets/controls",
      "model_module_version": "1.1.0",
      "model_name": "CheckboxModel",
      "state": {
       "description": "30°",
       "disabled": false,
       "layout": "IPY_MODEL_8b7e46866cea4c38a77d25c015daca50",
       "style": "IPY_MODEL_3aabbbe295924549ad6199485064a91b",
       "value": true
      }
     },
     "6ed641be538448b99d6974cecabf6f90": {
      "model_module": "@jupyter-widgets/base",
      "model_module_version": "1.0.0",
      "model_name": "LayoutModel",
      "state": {}
     },
     "6efdb2340e02451a9552572577528872": {
      "model_module": "@jupyter-widgets/controls",
      "model_module_version": "1.1.0",
      "model_name": "DescriptionStyleModel",
      "state": {
       "description_width": ""
      }
     },
     "6f1323d47deb4b9686d9df89c7d7ac6f": {
      "model_module": "@jupyter-widgets/controls",
      "model_module_version": "1.1.0",
      "model_name": "LabelModel",
      "state": {
       "layout": "IPY_MODEL_1211d6f9f9e04653a3a58fdd718ac1ef",
       "style": "IPY_MODEL_c1389914301242d88e0eb8c9f2d979db",
       "value": "Select upstream target mass thickness."
      }
     },
     "6f33bde3f7e847a7afdbce2b29b2dce2": {
      "model_module": "@jupyter-widgets/base",
      "model_module_version": "1.0.0",
      "model_name": "LayoutModel",
      "state": {}
     },
     "6fa780b99cce4d4dbb5783b0de1bf822": {
      "model_module": "@jupyter-widgets/base",
      "model_module_version": "1.0.0",
      "model_name": "LayoutModel",
      "state": {}
     },
     "70e3e49badd545ee81554cf95865dfb5": {
      "model_module": "@jupyter-widgets/controls",
      "model_module_version": "1.1.0",
      "model_name": "DescriptionStyleModel",
      "state": {
       "description_width": ""
      }
     },
     "723b720721b24c5a8434a7ef826a2854": {
      "model_module": "@jupyter-widgets/controls",
      "model_module_version": "1.1.0",
      "model_name": "ToggleButtonsModel",
      "state": {
       "_options_labels": [
        "None",
        "Spaced by 10²"
       ],
       "button_style": "",
       "description": "Extra spectra spacing:",
       "icons": [],
       "index": 0,
       "layout": "IPY_MODEL_6ed641be538448b99d6974cecabf6f90",
       "style": "IPY_MODEL_1f772ee58afb4bd29003d5804c7a5fa8",
       "tooltips": [
        "All values are presented as is.",
        "Plots for different detectors are multiplied by powers of 10² for easier viewing."
       ]
      }
     },
     "7286703e5c1347568193beac71fefb31": {
      "model_module": "@jupyter-widgets/controls",
      "model_module_version": "1.1.0",
      "model_name": "DescriptionStyleModel",
      "state": {
       "description_width": ""
      }
     },
     "72b2eebf41ac4c2db75c3a52ac89f3c9": {
      "model_module": "@jupyter-widgets/controls",
      "model_module_version": "1.1.0",
      "model_name": "DescriptionStyleModel",
      "state": {
       "description_width": ""
      }
     },
     "74c570f03064412d9cf963cde7af81de": {
      "model_module": "@jupyter-widgets/base",
      "model_module_version": "1.0.0",
      "model_name": "LayoutModel",
      "state": {}
     },
     "74d5f9b4ab8d4302a37bd20f9f9f0e08": {
      "model_module": "@jupyter-widgets/controls",
      "model_module_version": "1.1.0",
      "model_name": "DescriptionStyleModel",
      "state": {
       "description_width": ""
      }
     },
     "765e107b085741a78596fb1663fbafdb": {
      "model_module": "@jupyter-widgets/controls",
      "model_module_version": "1.1.0",
      "model_name": "DescriptionStyleModel",
      "state": {
       "description_width": ""
      }
     },
     "7751e08282f645879d45fa1ef176160c": {
      "model_module": "@jupyter-widgets/base",
      "model_module_version": "1.0.0",
      "model_name": "LayoutModel",
      "state": {}
     },
     "782db87c193d436fa1ecbad3207aeda2": {
      "model_module": "@jupyter-widgets/controls",
      "model_module_version": "1.1.0",
      "model_name": "DescriptionStyleModel",
      "state": {
       "description_width": ""
      }
     },
     "78b356ec0e924239a93e39437f8718b1": {
      "model_module": "@jupyter-widgets/controls",
      "model_module_version": "1.1.0",
      "model_name": "DescriptionStyleModel",
      "state": {
       "description_width": ""
      }
     },
     "7b1bc3e9163a46f486adaca5822da113": {
      "model_module": "@jupyter-widgets/controls",
      "model_module_version": "1.1.0",
      "model_name": "CheckboxModel",
      "state": {
       "description": "45°",
       "disabled": false,
       "layout": "IPY_MODEL_2c85b3e482da47e086ca2c80ce8a29bb",
       "style": "IPY_MODEL_387c26afccf64375a0a6f06243572aea",
       "value": true
      }
     },
     "7b67634f3b2e4352a0589661be000b81": {
      "model_module": "@jupyter-widgets/base",
      "model_module_version": "1.0.0",
      "model_name": "LayoutModel",
      "state": {}
     },
     "7b9d7b7cf9c04c9a82cd16d7e2bb05b0": {
      "model_module": "@jupyter-widgets/base",
      "model_module_version": "1.0.0",
      "model_name": "LayoutModel",
      "state": {}
     },
     "7c06d94c93634ca3ba27341ff8025071": {
      "model_module": "@jupyter-widgets/controls",
      "model_module_version": "1.1.0",
      "model_name": "DescriptionStyleModel",
      "state": {
       "description_width": ""
      }
     },
     "7c5ed978785a429b9b206f69e356bafc": {
      "model_module": "@jupyter-widgets/controls",
      "model_module_version": "1.1.0",
      "model_name": "ToggleButtonsStyleModel",
      "state": {
       "button_width": "",
       "description_width": ""
      }
     },
     "7c70579abf784376b1a554b329e8f7fa": {
      "model_module": "@jupyter-widgets/controls",
      "model_module_version": "1.1.0",
      "model_name": "ToggleButtonsModel",
      "state": {
       "_options_labels": [
        "N",
        "NDC",
        "P (¹H)",
        "D (²H)",
        "T (³H)",
        "S (³He)",
        "A (⁴He)"
       ],
       "button_style": "",
       "description": "Type:",
       "icons": [],
       "index": 0,
       "layout": "IPY_MODEL_a9dc937c56c4411caf59d9830da98a11",
       "style": "IPY_MODEL_7e0c4c4bc7b84a30acea838ccc642b24",
       "tooltips": [
        "Neutron",
        "Neutron (deconvoluted)",
        "Proton",
        "Deuteron",
        "Triton",
        "Helium-3",
        "Helium-4"
       ]
      }
     },
     "7d2256d3eb4345e9aeaf404c39e8ce44": {
      "model_module": "@jupyter-widgets/base",
      "model_module_version": "1.0.0",
      "model_name": "LayoutModel",
      "state": {}
     },
     "7e0c4c4bc7b84a30acea838ccc642b24": {
      "model_module": "@jupyter-widgets/controls",
      "model_module_version": "1.1.0",
      "model_name": "ToggleButtonsStyleModel",
      "state": {
       "button_width": "",
       "description_width": ""
      }
     },
     "7e3ae6fd17d4407687fec65ec250680a": {
      "model_module": "@jupyter-widgets/controls",
      "model_module_version": "1.1.0",
      "model_name": "DescriptionStyleModel",
      "state": {
       "description_width": ""
      }
     },
     "7f1320fdde3a4eb58bb722ad2e189b3c": {
      "model_module": "@jupyter-widgets/controls",
      "model_module_version": "1.1.0",
      "model_name": "DescriptionStyleModel",
      "state": {
       "description_width": ""
      }
     },
     "8075994223b34609a39d25c6f20d044e": {
      "model_module": "@jupyter-widgets/controls",
      "model_module_version": "1.1.0",
      "model_name": "CheckboxModel",
      "state": {
       "description": "10°",
       "disabled": false,
       "layout": "IPY_MODEL_c4f62b72adc1452e8968212e837e738e",
       "style": "IPY_MODEL_a98d4fcb2b8848f49b8fe75c7e6d9315",
       "value": true
      }
     },
     "80c974a6982d4c27bab83c49568cae82": {
      "model_module": "@jupyter-widgets/base",
      "model_module_version": "1.0.0",
      "model_name": "LayoutModel",
      "state": {}
     },
     "81e2e55fa6dd422b914850ac73a26643": {
      "model_module": "@jupyter-widgets/controls",
      "model_module_version": "1.1.0",
      "model_name": "CheckboxModel",
      "state": {
       "description": "45°",
       "disabled": false,
       "layout": "IPY_MODEL_cfa5fbf828834cb7b861c2382ce6a0a5",
       "style": "IPY_MODEL_782db87c193d436fa1ecbad3207aeda2",
       "value": true
      }
     },
     "829f31e9b0c8410493c37e562657e989": {
      "model_module": "@jupyter-widgets/base",
      "model_module_version": "1.0.0",
      "model_name": "LayoutModel",
      "state": {}
     },
     "831f0e2103974ca39855e891d8bf9214": {
      "model_module": "@jupyter-widgets/controls",
      "model_module_version": "1.1.0",
      "model_name": "DescriptionStyleModel",
      "state": {
       "description_width": ""
      }
     },
     "832f07517fa54c4890183cf7f1373e1c": {
      "model_module": "@jupyter-widgets/base",
      "model_module_version": "1.0.0",
      "model_name": "LayoutModel",
      "state": {}
     },
     "834dbdd244e6451687709413ee684e3d": {
      "model_module": "@jupyter-widgets/base",
      "model_module_version": "1.0.0",
      "model_name": "LayoutModel",
      "state": {}
     },
     "83a3795ebf384c3b924e161522508d10": {
      "model_module": "@jupyter-widgets/base",
      "model_module_version": "1.0.0",
      "model_name": "LayoutModel",
      "state": {}
     },
     "8481447982d94de88852576479b803bf": {
      "model_module": "@jupyter-widgets/controls",
      "model_module_version": "1.1.0",
      "model_name": "DescriptionStyleModel",
      "state": {
       "description_width": ""
      }
     },
     "8619e2f92fc84b56bf2befcf9a623a64": {
      "model_module": "@jupyter-widgets/controls",
      "model_module_version": "1.1.0",
      "model_name": "ToggleButtonsModel",
      "state": {
       "_options_labels": [
        "H",
        "He",
        "C",
        "Si",
        "Fe"
       ],
       "button_style": "",
       "description": "Projectile ion:",
       "icons": [],
       "index": 0,
       "layout": "IPY_MODEL_1d26bbdb345e4228a599082eb1877107",
       "style": "IPY_MODEL_5db4a76a5eaf4c35be662857f3463261",
       "tooltips": [
        "Hydrogen",
        "Helium",
        "Carbon",
        "Silicon",
        "Iron"
       ]
      }
     },
     "8658947a8ee0460091989d36cf0c0b43": {
      "model_module": "@jupyter-widgets/controls",
      "model_module_version": "1.1.0",
      "model_name": "DescriptionStyleModel",
      "state": {
       "description_width": ""
      }
     },
     "87129d9865714036ae427bf5d22d6393": {
      "model_module": "@jupyter-widgets/base",
      "model_module_version": "1.0.0",
      "model_name": "LayoutModel",
      "state": {}
     },
     "889762aa4e644d949a48ea2d57dac50e": {
      "model_module": "@jupyter-widgets/base",
      "model_module_version": "1.0.0",
      "model_name": "LayoutModel",
      "state": {}
     },
     "88e010f0de57407a93a089228c7f5554": {
      "model_module": "@jupyter-widgets/controls",
      "model_module_version": "1.1.0",
      "model_name": "ToggleButtonsModel",
      "state": {
       "_options_labels": [
        "None",
        "Spaced by 10²"
       ],
       "button_style": "",
       "description": "Spacing:",
       "icons": [],
       "index": 0,
       "layout": "IPY_MODEL_e791ef4198404877b20852aa1f1999dd",
       "style": "IPY_MODEL_650cb3c7e70a4b00a1783df8732a0810",
       "tooltips": [
        "All values are presented as is.",
        "Plots for different detectors are multiplied by powers of 10² for easier viewing."
       ]
      }
     },
     "89059b10c6a14f46805eb8fe0deb3ddc": {
      "model_module": "@jupyter-widgets/controls",
      "model_module_version": "1.1.0",
      "model_name": "DescriptionStyleModel",
      "state": {
       "description_width": ""
      }
     },
     "89a398c8217f431ea4a51d7fbe9f240e": {
      "model_module": "@jupyter-widgets/controls",
      "model_module_version": "1.1.0",
      "model_name": "ToggleButtonsStyleModel",
      "state": {
       "button_width": "",
       "description_width": ""
      }
     },
     "89cf2fbe8d64429093636459b336560c": {
      "model_module": "@jupyter-widgets/base",
      "model_module_version": "1.0.0",
      "model_name": "LayoutModel",
      "state": {}
     },
     "8b103e180fa240dcbbf2cf875917e3e5": {
      "model_module": "@jupyter-widgets/controls",
      "model_module_version": "1.1.0",
      "model_name": "DescriptionStyleModel",
      "state": {
       "description_width": ""
      }
     },
     "8b7e46866cea4c38a77d25c015daca50": {
      "model_module": "@jupyter-widgets/base",
      "model_module_version": "1.0.0",
      "model_name": "LayoutModel",
      "state": {}
     },
     "8d13dbb28bb64adbb64c88da5363cfb1": {
      "model_module": "@jupyter-widgets/controls",
      "model_module_version": "1.1.0",
      "model_name": "LabelModel",
      "state": {
       "layout": "IPY_MODEL_ef12815c062c4b8abf7c166758a426b0",
       "style": "IPY_MODEL_9f3e98c443e24294963f92cb15216426",
       "value": "Select a detector type."
      }
     },
     "8edf04c32e7e45bf8d019403cd1fbd3e": {
      "model_module": "@jupyter-widgets/base",
      "model_module_version": "1.0.0",
      "model_name": "LayoutModel",
      "state": {}
     },
     "8ee2d601aedd46efac0ad7e07770d5af": {
      "model_module": "@jupyter-widgets/controls",
      "model_module_version": "1.1.0",
      "model_name": "CheckboxModel",
      "state": {
       "description": "10°",
       "disabled": false,
       "layout": "IPY_MODEL_0758ae860a9c4504adc31a0935c7f733",
       "style": "IPY_MODEL_fe09287dcce44265aedb2fbe5024622d",
       "value": true
      }
     },
     "904b2190653a462db698f9ee5d0e4b14": {
      "model_module": "@jupyter-widgets/controls",
      "model_module_version": "1.1.0",
      "model_name": "LabelModel",
      "state": {
       "layout": "IPY_MODEL_eb182ea4bdca40d1807c6f191db4fefa",
       "style": "IPY_MODEL_4aa68107177a4fe48b628bb095f66180",
       "value": "Select which secondary particle to plot spectra for."
      }
     },
     "904eb487b2aa4e4d9684c47cc7d7daa6": {
      "model_module": "@jupyter-widgets/controls",
      "model_module_version": "1.1.0",
      "model_name": "CheckboxModel",
      "state": {
       "description": "45°",
       "disabled": false,
       "layout": "IPY_MODEL_4b60212ad09e40aa9508e02ca4d54fdc",
       "style": "IPY_MODEL_5f3a3cd484814c62a6b32cfe26e22d07",
       "value": true
      }
     },
     "9078c4bcddb24a0c80ee96dce02c78cc": {
      "model_module": "@jupyter-widgets/base",
      "model_module_version": "1.0.0",
      "model_name": "LayoutModel",
      "state": {}
     },
     "9087e4c8a51d43b89f7b2d48774e20ca": {
      "model_module": "@jupyter-widgets/base",
      "model_module_version": "1.0.0",
      "model_name": "LayoutModel",
      "state": {}
     },
     "909cf672f04645239c0c033e57f32d23": {
      "model_module": "@jupyter-widgets/controls",
      "model_module_version": "1.1.0",
      "model_name": "ToggleButtonsStyleModel",
      "state": {
       "button_width": "",
       "description_width": ""
      }
     },
     "90e4cb21488d410886e5f278df600e84": {
      "model_module": "@jupyter-widgets/controls",
      "model_module_version": "1.1.0",
      "model_name": "ToggleButtonsStyleModel",
      "state": {
       "button_width": "",
       "description_width": ""
      }
     },
     "9179ac75c4824b0881dc3523718301e3": {
      "model_module": "@jupyter-widgets/controls",
      "model_module_version": "1.1.0",
      "model_name": "LabelModel",
      "state": {
       "layout": "IPY_MODEL_3f11f31719bb4615b8e63eafeabda928",
       "style": "IPY_MODEL_e4375cfc8ff54701b364e8158c74eebf",
       "value": "Select which sets of data to display."
      }
     },
     "91a8c6d91411460a994e09b91adedd71": {
      "model_module": "@jupyter-widgets/base",
      "model_module_version": "1.0.0",
      "model_name": "LayoutModel",
      "state": {}
     },
     "91d7a13d93c940ee9ac51d72694f32fa": {
      "model_module": "@jupyter-widgets/controls",
      "model_module_version": "1.1.0",
      "model_name": "DescriptionStyleModel",
      "state": {
       "description_width": ""
      }
     },
     "92067cbd444b473d85b3f7076739fd9c": {
      "model_module": "@jupyter-widgets/base",
      "model_module_version": "1.0.0",
      "model_name": "LayoutModel",
      "state": {}
     },
     "932eaf835f994e5d948a089f2d35674d": {
      "model_module": "@jupyter-widgets/controls",
      "model_module_version": "1.1.0",
      "model_name": "LabelModel",
      "state": {
       "layout": "IPY_MODEL_7d2256d3eb4345e9aeaf404c39e8ce44",
       "style": "IPY_MODEL_e02a6cabb30a4011baa7c08d86cd7266",
       "value": "Select projectile ion species."
      }
     },
     "9393d654bc5842bc8bb61310d8ae3c22": {
      "model_module": "@jupyter-widgets/base",
      "model_module_version": "1.0.0",
      "model_name": "LayoutModel",
      "state": {}
     },
     "93c0c364b777479483d8dde8303cd5c9": {
      "model_module": "@jupyter-widgets/base",
      "model_module_version": "1.0.0",
      "model_name": "LayoutModel",
      "state": {}
     },
     "943d6b62d3784ae79ad92e1c89bec15d": {
      "model_module": "@jupyter-widgets/controls",
      "model_module_version": "1.1.0",
      "model_name": "ToggleButtonsStyleModel",
      "state": {
       "button_width": "",
       "description_width": ""
      }
     },
     "94c73072c0264f19bd9cf1d113837836": {
      "model_module": "@jupyter-widgets/controls",
      "model_module_version": "1.1.0",
      "model_name": "CheckboxModel",
      "state": {
       "description": "80°",
       "disabled": false,
       "layout": "IPY_MODEL_03dcf3cd83ed429284cfc87240c360b6",
       "style": "IPY_MODEL_aef05aca02d349d3812d463aa0f14160",
       "value": true
      }
     },
     "94ec80295ac74b229dd0a7533a8c5bcd": {
      "model_module": "@jupyter-widgets/controls",
      "model_module_version": "1.1.0",
      "model_name": "DescriptionStyleModel",
      "state": {
       "description_width": ""
      }
     },
     "95f6017c88ec4e5fa9ec9304f81b5c97": {
      "model_module": "@jupyter-widgets/base",
      "model_module_version": "1.0.0",
      "model_name": "LayoutModel",
      "state": {}
     },
     "962bbe88146244f392152c1670e57a12": {
      "model_module": "@jupyter-widgets/controls",
      "model_module_version": "1.1.0",
      "model_name": "LabelModel",
      "state": {
       "layout": "IPY_MODEL_50bf5b82fdcf40549f30bc8f10000f32",
       "style": "IPY_MODEL_239861f2318746d8bd9cb83702437d0e",
       "value": "Select projectile ion species."
      }
     },
     "988a393cd5994582bb58756c59a2cec4": {
      "model_module": "@jupyter-widgets/base",
      "model_module_version": "1.0.0",
      "model_name": "LayoutModel",
      "state": {}
     },
     "995e5fbf85fb4011ade0b12ae8d72130": {
      "model_module": "@jupyter-widgets/controls",
      "model_module_version": "1.1.0",
      "model_name": "DescriptionStyleModel",
      "state": {
       "description_width": ""
      }
     },
     "99bd68cb67c647a19d309a72f54f1d43": {
      "model_module": "@jupyter-widgets/base",
      "model_module_version": "1.0.0",
      "model_name": "LayoutModel",
      "state": {}
     },
     "99c2da3db1304b69bdb9ff3d14c51e3e": {
      "model_module": "@jupyter-widgets/base",
      "model_module_version": "1.0.0",
      "model_name": "LayoutModel",
      "state": {}
     },
     "9a89e80c78b2450b85b47d51a615f9af": {
      "model_module": "@jupyter-widgets/controls",
      "model_module_version": "1.1.0",
      "model_name": "LabelModel",
      "state": {
       "layout": "IPY_MODEL_351ce5e01dad43c699861b74f5ad7e01",
       "style": "IPY_MODEL_befdd3e1c2ea49caa630c9a4812ac374",
       "value": "Select how data sets for each detector should be spaced apart (if at all)."
      }
     },
     "9b7f563911a44030b0c98b1e2b72fb10": {
      "model_module": "@jupyter-widgets/controls",
      "model_module_version": "1.1.0",
      "model_name": "LabelModel",
      "state": {
       "layout": "IPY_MODEL_e38bb0cddc9d419990656dfcee6803a8",
       "style": "IPY_MODEL_f13b3349550249a7a8a8925ed41d5a03",
       "value": "Select a detector type."
      }
     },
     "9bbc77fdd4154a78b93848e63b9411c7": {
      "model_module": "@jupyter-widgets/controls",
      "model_module_version": "1.1.0",
      "model_name": "DescriptionStyleModel",
      "state": {
       "description_width": ""
      }
     },
     "9c713958352b42d49e7d241ff01017a5": {
      "model_module": "@jupyter-widgets/base",
      "model_module_version": "1.0.0",
      "model_name": "LayoutModel",
      "state": {}
     },
     "9ca2baab08d14cfbbc0b308d87b7cf99": {
      "model_module": "@jupyter-widgets/controls",
      "model_module_version": "1.1.0",
      "model_name": "ToggleButtonsStyleModel",
      "state": {
       "button_width": "",
       "description_width": ""
      }
     },
     "9cb56a4403474b9f9d4b8590a8b207c0": {
      "model_module": "@jupyter-widgets/controls",
      "model_module_version": "1.1.0",
      "model_name": "DescriptionStyleModel",
      "state": {
       "description_width": ""
      }
     },
     "9cd3e6c6e5e242f89758ccc80cb5a2e7": {
      "model_module": "@jupyter-widgets/base",
      "model_module_version": "1.0.0",
      "model_name": "LayoutModel",
      "state": {}
     },
     "9d4f6d8efe3e403b85e88c1a136d41e8": {
      "model_module": "@jupyter-widgets/base",
      "model_module_version": "1.0.0",
      "model_name": "LayoutModel",
      "state": {}
     },
     "9de1a2aa769f47d29e37631d7962d1c9": {
      "model_module": "@jupyter-widgets/base",
      "model_module_version": "1.0.0",
      "model_name": "LayoutModel",
      "state": {}
     },
     "9e124599713245f492fe46f1ea8d03f2": {
      "model_module": "@jupyter-widgets/controls",
      "model_module_version": "1.1.0",
      "model_name": "DescriptionStyleModel",
      "state": {
       "description_width": ""
      }
     },
     "9e46b393d2354c6ab0055faf999d3900": {
      "model_module": "@jupyter-widgets/controls",
      "model_module_version": "1.1.0",
      "model_name": "LabelModel",
      "state": {
       "layout": "IPY_MODEL_2bd1282aaefa4b4a9f8b526e7564db41",
       "style": "IPY_MODEL_49d97c629783467eaf05427d54689f46",
       "value": "Select a detector type."
      }
     },
     "9e59dc885fa6447cbd7dd77fe6517959": {
      "model_module": "@jupyter-widgets/controls",
      "model_module_version": "1.1.0",
      "model_name": "CheckboxModel",
      "state": {
       "description": "12.7°",
       "disabled": false,
       "layout": "IPY_MODEL_c703ec114cbc40e39240096c9f44dd1e",
       "style": "IPY_MODEL_ab8cb460c1fc404e9ff28cce88456bd2",
       "value": true
      }
     },
     "9f3e98c443e24294963f92cb15216426": {
      "model_module": "@jupyter-widgets/controls",
      "model_module_version": "1.1.0",
      "model_name": "DescriptionStyleModel",
      "state": {
       "description_width": ""
      }
     },
     "9f6c28c005314a9b83e039513ce02007": {
      "model_module": "@jupyter-widgets/controls",
      "model_module_version": "1.1.0",
      "model_name": "DescriptionStyleModel",
      "state": {
       "description_width": ""
      }
     },
     "9f763b7c89ca49f8aea9558c5b5601d5": {
      "model_module": "@jupyter-widgets/controls",
      "model_module_version": "1.1.0",
      "model_name": "CheckboxModel",
      "state": {
       "description": "10°",
       "disabled": false,
       "layout": "IPY_MODEL_8edf04c32e7e45bf8d019403cd1fbd3e",
       "style": "IPY_MODEL_2696caeb870d4dfaaa013481d2df2f9b",
       "value": true
      }
     },
     "9f7e1d47276241ba979dbbfe1b08cad0": {
      "model_module": "@jupyter-widgets/controls",
      "model_module_version": "1.1.0",
      "model_name": "CheckboxModel",
      "state": {
       "description": "135°",
       "disabled": false,
       "layout": "IPY_MODEL_ac503fd9ea97473ea3b44c542ac48fab",
       "style": "IPY_MODEL_f7cd482253f94585a80d6bb115ec989f",
       "value": true
      }
     },
     "9f963bc2800f44bbbdd7bfbc77349a64": {
      "model_module": "@jupyter-widgets/base",
      "model_module_version": "1.0.0",
      "model_name": "LayoutModel",
      "state": {}
     },
     "9fa76948a41e42ddba6a054a4b238c5d": {
      "model_module": "@jupyter-widgets/controls",
      "model_module_version": "1.1.0",
      "model_name": "ToggleButtonsModel",
      "state": {
       "_options_labels": [
        "H",
        "He",
        "C",
        "Si",
        "Fe"
       ],
       "button_style": "",
       "description": "Ion:",
       "icons": [],
       "index": 3,
       "layout": "IPY_MODEL_1c30df6baca14be9b804620d10110d72",
       "style": "IPY_MODEL_e504e3870f2d434b9b3ce8047fb6ce6a",
       "tooltips": [
        "Hydrogen",
        "Helium",
        "Carbon",
        "Silicon",
        "Iron"
       ]
      }
     },
     "9fc2d2b3192b45b1aec9b17232629d68": {
      "model_module": "@jupyter-widgets/controls",
      "model_module_version": "1.1.0",
      "model_name": "ToggleButtonsModel",
      "state": {
       "_options_labels": [
        "OLS",
        "NaI"
       ],
       "button_style": "",
       "description": "Type:",
       "icons": [],
       "index": 0,
       "layout": "IPY_MODEL_2a0913dcf72e411ca80f20d125322405",
       "style": "IPY_MODEL_077e109affea4d699a6c5e1910bcab11",
       "tooltips": [
        "Organic Liquid Scintillator",
        "Sodium Iodide"
       ]
      }
     },
     "a0a70b01bf0f4416b4512dfbe503b768": {
      "model_module": "@jupyter-widgets/controls",
      "model_module_version": "1.1.0",
      "model_name": "LabelModel",
      "state": {
       "layout": "IPY_MODEL_15e42c4133524de2b2ea86582941de1f",
       "style": "IPY_MODEL_517769533b984abe859dc81af6864c67",
       "value": "Select the detector angles to plot."
      }
     },
     "a141122ae577468f8b3f1c79b03dc382": {
      "model_module": "@jupyter-widgets/controls",
      "model_module_version": "1.1.0",
      "model_name": "DescriptionStyleModel",
      "state": {
       "description_width": ""
      }
     },
     "a1568ebb0c4740f5bfb67411bb4921e5": {
      "model_module": "@jupyter-widgets/controls",
      "model_module_version": "1.1.0",
      "model_name": "ToggleButtonsModel",
      "state": {
       "_options_labels": [
        "400 MeV",
        "800 MeV",
        "2500 MeV"
       ],
       "button_style": "",
       "description": "Projectile energy:",
       "icons": [],
       "index": 0,
       "layout": "IPY_MODEL_d59349eafc6d4521ae99554754cf77ee",
       "style": "IPY_MODEL_23fb7853f7e54cb294e395420afca9f4",
       "tooltips": [
        "lowest energy",
        "middle energy",
        "highest energy"
       ]
      }
     },
     "a17c6908c7eb480ea1cd7598a0c8cf81": {
      "model_module": "@jupyter-widgets/base",
      "model_module_version": "1.0.0",
      "model_name": "LayoutModel",
      "state": {}
     },
     "a20b631d661f4e6a9754ccdd1b8279ae": {
      "model_module": "@jupyter-widgets/base",
      "model_module_version": "1.0.0",
      "model_name": "LayoutModel",
      "state": {}
     },
     "a2c7c3cfda034156a7273cf99e275eaa": {
      "model_module": "@jupyter-widgets/base",
      "model_module_version": "1.0.0",
      "model_name": "LayoutModel",
      "state": {}
     },
     "a2cdfab85bf5429c9102f70b25547dac": {
      "model_module": "@jupyter-widgets/controls",
      "model_module_version": "1.1.0",
      "model_name": "ToggleButtonsStyleModel",
      "state": {
       "button_width": "",
       "description_width": ""
      }
     },
     "a311037077c543ca9c84276971387c3d": {
      "model_module": "@jupyter-widgets/controls",
      "model_module_version": "1.1.0",
      "model_name": "DescriptionStyleModel",
      "state": {
       "description_width": ""
      }
     },
     "a3110c2fdc194605b45afce71bc335ff": {
      "model_module": "@jupyter-widgets/controls",
      "model_module_version": "1.1.0",
      "model_name": "ToggleButtonsStyleModel",
      "state": {
       "button_width": "",
       "description_width": ""
      }
     },
     "a39a0b6219a04e33ac8128e88b31eec9": {
      "model_module": "@jupyter-widgets/base",
      "model_module_version": "1.0.0",
      "model_name": "LayoutModel",
      "state": {}
     },
     "a3d9fd0254bb40da9e7e0e1e29c3dc3c": {
      "model_module": "@jupyter-widgets/base",
      "model_module_version": "1.0.0",
      "model_name": "LayoutModel",
      "state": {}
     },
     "a3f67666026247e1a13bf7408630e849": {
      "model_module": "@jupyter-widgets/controls",
      "model_module_version": "1.1.0",
      "model_name": "CheckboxModel",
      "state": {
       "description": "PHITS simulated",
       "disabled": false,
       "layout": "IPY_MODEL_4613f06e102346389509918e945271e4",
       "style": "IPY_MODEL_9cb56a4403474b9f9d4b8590a8b207c0",
       "value": true
      }
     },
     "a41aefaded0c42d8b1f36b278b07e298": {
      "model_module": "@jupyter-widgets/controls",
      "model_module_version": "1.1.0",
      "model_name": "DescriptionStyleModel",
      "state": {
       "description_width": ""
      }
     },
     "a43aaf853fea4dc18647a4ff3ec3114d": {
      "model_module": "@jupyter-widgets/base",
      "model_module_version": "1.0.0",
      "model_name": "LayoutModel",
      "state": {}
     },
     "a5371a7f7e1c47cfb165de66a8ce1d9c": {
      "model_module": "@jupyter-widgets/controls",
      "model_module_version": "1.1.0",
      "model_name": "DescriptionStyleModel",
      "state": {
       "description_width": ""
      }
     },
     "a5d0018f08da4128b67b1780ae21704a": {
      "model_module": "@jupyter-widgets/controls",
      "model_module_version": "1.1.0",
      "model_name": "DescriptionStyleModel",
      "state": {
       "description_width": ""
      }
     },
     "a63bb1524dbf4b9bbf3bdf8f5fe2f5d3": {
      "model_module": "@jupyter-widgets/controls",
      "model_module_version": "1.1.0",
      "model_name": "DescriptionStyleModel",
      "state": {
       "description_width": ""
      }
     },
     "a6511527a3ec4002aa89520eafdabe73": {
      "model_module": "@jupyter-widgets/base",
      "model_module_version": "1.0.0",
      "model_name": "LayoutModel",
      "state": {}
     },
     "a692bd63ab7c48f295ccea4406aef904": {
      "model_module": "@jupyter-widgets/base",
      "model_module_version": "1.0.0",
      "model_name": "LayoutModel",
      "state": {}
     },
     "a6d31dec6d624b0f98c06300248662ea": {
      "model_module": "@jupyter-widgets/base",
      "model_module_version": "1.0.0",
      "model_name": "LayoutModel",
      "state": {}
     },
     "a7271008a8924a56badb7451ba5fb3db": {
      "model_module": "@jupyter-widgets/base",
      "model_module_version": "1.0.0",
      "model_name": "LayoutModel",
      "state": {}
     },
     "a76fc7e48def40c6a67df56445524233": {
      "model_module": "@jupyter-widgets/controls",
      "model_module_version": "1.1.0",
      "model_name": "LabelModel",
      "state": {
       "layout": "IPY_MODEL_5ddedfa45f4d484bbf9c56c2604ab531",
       "style": "IPY_MODEL_8b103e180fa240dcbbf2cf875917e3e5",
       "value": "Select projectile ion species."
      }
     },
     "a7996541a0784400a55ad34301b75938": {
      "model_module": "@jupyter-widgets/controls",
      "model_module_version": "1.1.0",
      "model_name": "CheckboxModel",
      "state": {
       "description": "MCNP sim.",
       "disabled": false,
       "layout": "IPY_MODEL_3804a43a83904c60a62391076b5dbb2c",
       "style": "IPY_MODEL_89059b10c6a14f46805eb8fe0deb3ddc",
       "value": true
      }
     },
     "a809e08561f34af1bf29fb92f9f1b6c2": {
      "model_module": "@jupyter-widgets/base",
      "model_module_version": "1.0.0",
      "model_name": "LayoutModel",
      "state": {}
     },
     "a8e1f7f6b2d14d089727dea96ddd4fca": {
      "model_module": "@jupyter-widgets/controls",
      "model_module_version": "1.1.0",
      "model_name": "CheckboxModel",
      "state": {
       "description": "28.2°",
       "disabled": false,
       "layout": "IPY_MODEL_cc70111a19d94fc791c02b7ec4bbe159",
       "style": "IPY_MODEL_dc0ae02645da44c493796fb07d1b0888",
       "value": true
      }
     },
     "a98d4fcb2b8848f49b8fe75c7e6d9315": {
      "model_module": "@jupyter-widgets/controls",
      "model_module_version": "1.1.0",
      "model_name": "DescriptionStyleModel",
      "state": {
       "description_width": ""
      }
     },
     "a9dc937c56c4411caf59d9830da98a11": {
      "model_module": "@jupyter-widgets/base",
      "model_module_version": "1.0.0",
      "model_name": "LayoutModel",
      "state": {}
     },
     "aa2c1f5ef7a94d079d5ed5026d0aaa7c": {
      "model_module": "@jupyter-widgets/controls",
      "model_module_version": "1.1.0",
      "model_name": "DescriptionStyleModel",
      "state": {
       "description_width": ""
      }
     },
     "aa55f5a5dd764cc8a6295cbe1e5903bd": {
      "model_module": "@jupyter-widgets/controls",
      "model_module_version": "1.1.0",
      "model_name": "DescriptionStyleModel",
      "state": {
       "description_width": ""
      }
     },
     "aae4adf9553e4a9096373ce3db4ba1e4": {
      "model_module": "@jupyter-widgets/base",
      "model_module_version": "1.0.0",
      "model_name": "LayoutModel",
      "state": {}
     },
     "ab8cb460c1fc404e9ff28cce88456bd2": {
      "model_module": "@jupyter-widgets/controls",
      "model_module_version": "1.1.0",
      "model_name": "DescriptionStyleModel",
      "state": {
       "description_width": ""
      }
     },
     "ac503fd9ea97473ea3b44c542ac48fab": {
      "model_module": "@jupyter-widgets/base",
      "model_module_version": "1.0.0",
      "model_name": "LayoutModel",
      "state": {}
     },
     "acbc4eec12c84b1a95db9c9ea2c9b226": {
      "model_module": "@jupyter-widgets/base",
      "model_module_version": "1.0.0",
      "model_name": "LayoutModel",
      "state": {}
     },
     "ad0b604d2d204b1d89b67b5906a1102a": {
      "model_module": "@jupyter-widgets/controls",
      "model_module_version": "1.1.0",
      "model_name": "CheckboxModel",
      "state": {
       "description": "30°",
       "disabled": false,
       "layout": "IPY_MODEL_89cf2fbe8d64429093636459b336560c",
       "style": "IPY_MODEL_a5d0018f08da4128b67b1780ae21704a",
       "value": true
      }
     },
     "ad36910402d448bea2dfcd829d332606": {
      "model_module": "@jupyter-widgets/controls",
      "model_module_version": "1.1.0",
      "model_name": "DescriptionStyleModel",
      "state": {
       "description_width": ""
      }
     },
     "adef8af3dbef49b5bf0fe6ddeef89d06": {
      "model_module": "@jupyter-widgets/controls",
      "model_module_version": "1.1.0",
      "model_name": "DescriptionStyleModel",
      "state": {
       "description_width": ""
      }
     },
     "ae22be5c28e94de696808e167388ef1f": {
      "model_module": "@jupyter-widgets/base",
      "model_module_version": "1.0.0",
      "model_name": "LayoutModel",
      "state": {}
     },
     "ae58877b32bd4dd5ba8bfdb979bee38a": {
      "model_module": "@jupyter-widgets/base",
      "model_module_version": "1.0.0",
      "model_name": "LayoutModel",
      "state": {}
     },
     "ae5e40e17b574b05bbb72848898cb6a1": {
      "model_module": "@jupyter-widgets/controls",
      "model_module_version": "1.1.0",
      "model_name": "CheckboxModel",
      "state": {
       "description": "10°",
       "disabled": false,
       "layout": "IPY_MODEL_3a28181ffb7c48c8a0db5f7b94a0b7b9",
       "style": "IPY_MODEL_ecb67a303385458cb0a68adc15ac1fc7",
       "value": true
      }
     },
     "ae7c46f2f69f4776accd5fb7c29f2382": {
      "model_module": "@jupyter-widgets/controls",
      "model_module_version": "1.1.0",
      "model_name": "DescriptionStyleModel",
      "state": {
       "description_width": ""
      }
     },
     "aef05aca02d349d3812d463aa0f14160": {
      "model_module": "@jupyter-widgets/controls",
      "model_module_version": "1.1.0",
      "model_name": "DescriptionStyleModel",
      "state": {
       "description_width": ""
      }
     },
     "af5c2f359c3243a8ae68a070a614e44e": {
      "model_module": "@jupyter-widgets/controls",
      "model_module_version": "1.1.0",
      "model_name": "CheckboxModel",
      "state": {
       "description": "135°",
       "disabled": false,
       "layout": "IPY_MODEL_d5e2e35deb844291b27a458a0dc4ce24",
       "style": "IPY_MODEL_f233b0f7df684cf19f9a4b1a0e80fc0f",
       "value": true
      }
     },
     "af90e3c5f03a4a37aec96c93311885e7": {
      "model_module": "@jupyter-widgets/controls",
      "model_module_version": "1.1.0",
      "model_name": "DescriptionStyleModel",
      "state": {
       "description_width": ""
      }
     },
     "b1062ded5fbc4a64bd7545d7c37d46b0": {
      "model_module": "@jupyter-widgets/controls",
      "model_module_version": "1.1.0",
      "model_name": "CheckboxModel",
      "state": {
       "description": "60°",
       "disabled": false,
       "layout": "IPY_MODEL_1ccf22597e434af5bab9dad773320ed1",
       "style": "IPY_MODEL_63fe9245ac9b425e8a327547db9f4687",
       "value": true
      }
     },
     "b4224b2fafed4dcfadcf9665d1ea7e3d": {
      "model_module": "@jupyter-widgets/controls",
      "model_module_version": "1.1.0",
      "model_name": "LabelModel",
      "state": {
       "layout": "IPY_MODEL_0f76e3888d8341d28dd5fed39c244e0e",
       "style": "IPY_MODEL_35931f67715d4c6a9251af2ea03c446a",
       "value": "Select a detector type."
      }
     },
     "b5a3eda61acd460b9dd2c0c55b28a91f": {
      "model_module": "@jupyter-widgets/controls",
      "model_module_version": "1.1.0",
      "model_name": "CheckboxModel",
      "state": {
       "description": "10°",
       "disabled": false,
       "layout": "IPY_MODEL_15689425cbfc4a4c971397446beb65e8",
       "style": "IPY_MODEL_5de24e98135c4d4e84d09043ba2038ef",
       "value": true
      }
     },
     "b67d9bc72cb3401ea3dfc1053440b044": {
      "model_module": "@jupyter-widgets/controls",
      "model_module_version": "1.1.0",
      "model_name": "CheckboxModel",
      "state": {
       "description": "80°",
       "disabled": false,
       "layout": "IPY_MODEL_5245f077e25a410482d2210652e901bf",
       "style": "IPY_MODEL_ece4d2aad3f0431485bdbeb4ca86c6d4",
       "value": true
      }
     },
     "b696018911824f1c86ca2809ef37ad9b": {
      "model_module": "@jupyter-widgets/base",
      "model_module_version": "1.0.0",
      "model_name": "LayoutModel",
      "state": {}
     },
     "b6a2edf235af46d7b7886ef150bcd0a3": {
      "model_module": "@jupyter-widgets/controls",
      "model_module_version": "1.1.0",
      "model_name": "LabelModel",
      "state": {
       "layout": "IPY_MODEL_60f108fd0bbb440a9b33994693046154",
       "style": "IPY_MODEL_9e124599713245f492fe46f1ea8d03f2",
       "value": "Select the detector angles to plot."
      }
     },
     "b71c3a8d9a2f48ea8113db14d33ee897": {
      "model_module": "@jupyter-widgets/controls",
      "model_module_version": "1.1.0",
      "model_name": "DescriptionStyleModel",
      "state": {
       "description_width": ""
      }
     },
     "b71cf0c8c619417dbee68c5f6ac1d3c4": {
      "model_module": "@jupyter-widgets/controls",
      "model_module_version": "1.1.0",
      "model_name": "DescriptionStyleModel",
      "state": {
       "description_width": ""
      }
     },
     "b80eff2ecb82408c8635136c0345cbc7": {
      "model_module": "@jupyter-widgets/controls",
      "model_module_version": "1.1.0",
      "model_name": "CheckboxModel",
      "state": {
       "description": "60°",
       "disabled": false,
       "layout": "IPY_MODEL_74c570f03064412d9cf963cde7af81de",
       "style": "IPY_MODEL_63928daf6d25409caff26b7ab36d100a",
       "value": true
      }
     },
     "bb37a85d2fc24a6ab83c4651f26ddbbd": {
      "model_module": "@jupyter-widgets/controls",
      "model_module_version": "1.1.0",
      "model_name": "CheckboxModel",
      "state": {
       "description": "10°",
       "disabled": false,
       "layout": "IPY_MODEL_832f07517fa54c4890183cf7f1373e1c",
       "style": "IPY_MODEL_1ebf963a3f6c45cf90efcce937720a07",
       "value": true
      }
     },
     "bba782140ef64349a4ec8fbbe71012ab": {
      "model_module": "@jupyter-widgets/controls",
      "model_module_version": "1.1.0",
      "model_name": "LabelModel",
      "state": {
       "layout": "IPY_MODEL_4ffd4cfb70074db8ac07d1d8cf7325d6",
       "style": "IPY_MODEL_831f0e2103974ca39855e891d8bf9214",
       "value": "Select the detector angles to plot."
      }
     },
     "bba8bdcec8ad4732b08dec40c092396f": {
      "model_module": "@jupyter-widgets/controls",
      "model_module_version": "1.1.0",
      "model_name": "ToggleButtonsModel",
      "state": {
       "_options_labels": [
        "H",
        "He",
        "C",
        "Si",
        "Fe"
       ],
       "button_style": "",
       "description": "Ion:",
       "icons": [],
       "index": 1,
       "layout": "IPY_MODEL_a43aaf853fea4dc18647a4ff3ec3114d",
       "style": "IPY_MODEL_a3110c2fdc194605b45afce71bc335ff",
       "tooltips": [
        "Hydrogen",
        "Helium",
        "Carbon",
        "Silicon",
        "Iron"
       ]
      }
     },
     "bccc581e49014ff18c58effdb72679b3": {
      "model_module": "@jupyter-widgets/base",
      "model_module_version": "1.0.0",
      "model_name": "LayoutModel",
      "state": {}
     },
     "bd7e163492cd48788cd5ed22903d5cb0": {
      "model_module": "@jupyter-widgets/base",
      "model_module_version": "1.0.0",
      "model_name": "LayoutModel",
      "state": {}
     },
     "bdc22a99975b43b482241a7f79ff85ce": {
      "model_module": "@jupyter-widgets/controls",
      "model_module_version": "1.1.0",
      "model_name": "LabelModel",
      "state": {
       "layout": "IPY_MODEL_f3ad70d074f14fb29d3e3e092c92e272",
       "style": "IPY_MODEL_2f5368399fa8407bae759281254513f9",
       "value": "Select the detector angles to plot."
      }
     },
     "befdd3e1c2ea49caa630c9a4812ac374": {
      "model_module": "@jupyter-widgets/controls",
      "model_module_version": "1.1.0",
      "model_name": "DescriptionStyleModel",
      "state": {
       "description_width": ""
      }
     },
     "bfd76b866fce44aa921ab72cc6d1c12f": {
      "model_module": "@jupyter-widgets/controls",
      "model_module_version": "1.1.0",
      "model_name": "ToggleButtonsStyleModel",
      "state": {
       "button_width": "",
       "description_width": ""
      }
     },
     "c011c67b02e846f88f4fa9afc9ba4323": {
      "model_module": "@jupyter-widgets/controls",
      "model_module_version": "1.1.0",
      "model_name": "DescriptionStyleModel",
      "state": {
       "description_width": ""
      }
     },
     "c1389914301242d88e0eb8c9f2d979db": {
      "model_module": "@jupyter-widgets/controls",
      "model_module_version": "1.1.0",
      "model_name": "DescriptionStyleModel",
      "state": {
       "description_width": ""
      }
     },
     "c13fad6c897e49fc95a5190bb1a14f16": {
      "model_module": "@jupyter-widgets/controls",
      "model_module_version": "1.1.0",
      "model_name": "DescriptionStyleModel",
      "state": {
       "description_width": ""
      }
     },
     "c1b5218451a5463aaba4be6b444620f8": {
      "model_module": "@jupyter-widgets/controls",
      "model_module_version": "1.1.0",
      "model_name": "DescriptionStyleModel",
      "state": {
       "description_width": ""
      }
     },
     "c294a3be598c47f8aa914edf0fe7cf51": {
      "model_module": "@jupyter-widgets/base",
      "model_module_version": "1.0.0",
      "model_name": "LayoutModel",
      "state": {}
     },
     "c29cc05323c04386b96f17e5e883f3bb": {
      "model_module": "@jupyter-widgets/controls",
      "model_module_version": "1.1.0",
      "model_name": "CheckboxModel",
      "state": {
       "description": "45°",
       "disabled": false,
       "layout": "IPY_MODEL_23c05b24f4314aa78519265ec6bd84df",
       "style": "IPY_MODEL_94ec80295ac74b229dd0a7533a8c5bcd",
       "value": true
      }
     },
     "c4f62b72adc1452e8968212e837e738e": {
      "model_module": "@jupyter-widgets/base",
      "model_module_version": "1.0.0",
      "model_name": "LayoutModel",
      "state": {}
     },
     "c5651626f653475389ff56bd6d859053": {
      "model_module": "@jupyter-widgets/controls",
      "model_module_version": "1.1.0",
      "model_name": "LabelModel",
      "state": {
       "layout": "IPY_MODEL_834dbdd244e6451687709413ee684e3d",
       "style": "IPY_MODEL_47b451d0705f4e5a99278ecb7a32fa14",
       "value": "Select projectile ion energy."
      }
     },
     "c572f07533824369b06f5405baa71387": {
      "model_module": "@jupyter-widgets/controls",
      "model_module_version": "1.1.0",
      "model_name": "ToggleButtonsModel",
      "state": {
       "_options_labels": [
        "None",
        "Spaced by powers of 10²"
       ],
       "button_style": "",
       "description": "Extra spectra spacing:",
       "icons": [],
       "index": 0,
       "layout": "IPY_MODEL_9f963bc2800f44bbbdd7bfbc77349a64",
       "style": "IPY_MODEL_01f72b147b784cc9ba5906f2ca107057",
       "tooltips": [
        "All values are presented as is.",
        "Plots for different detectors are multiplied by powers of 10² for easier viewing."
       ]
      }
     },
     "c61e1f7869294918b86cef1ee53ffcf6": {
      "model_module": "@jupyter-widgets/controls",
      "model_module_version": "1.1.0",
      "model_name": "CheckboxModel",
      "state": {
       "description": "45°",
       "disabled": false,
       "layout": "IPY_MODEL_cea380802af2442091b4df88b4870f06",
       "style": "IPY_MODEL_a141122ae577468f8b3f1c79b03dc382",
       "value": true
      }
     },
     "c664c34b4b654a61976bd21113e6d4e2": {
      "model_module": "@jupyter-widgets/controls",
      "model_module_version": "1.1.0",
      "model_name": "DescriptionStyleModel",
      "state": {
       "description_width": ""
      }
     },
     "c669a7878a2f4b5998664f3d1a967d02": {
      "model_module": "@jupyter-widgets/base",
      "model_module_version": "1.0.0",
      "model_name": "LayoutModel",
      "state": {}
     },
     "c6a1b9433eb64e99a0423142484aa85c": {
      "model_module": "@jupyter-widgets/controls",
      "model_module_version": "1.1.0",
      "model_name": "ToggleButtonsStyleModel",
      "state": {
       "button_width": "",
       "description_width": ""
      }
     },
     "c703ec114cbc40e39240096c9f44dd1e": {
      "model_module": "@jupyter-widgets/base",
      "model_module_version": "1.0.0",
      "model_name": "LayoutModel",
      "state": {}
     },
     "c7742e8a78a045c891f17eec533ac65f": {
      "model_module": "@jupyter-widgets/controls",
      "model_module_version": "1.1.0",
      "model_name": "DescriptionStyleModel",
      "state": {
       "description_width": ""
      }
     },
     "c7f45aab52e94b24a10bf88e9e868291": {
      "model_module": "@jupyter-widgets/controls",
      "model_module_version": "1.1.0",
      "model_name": "CheckboxModel",
      "state": {
       "description": "80°",
       "disabled": false,
       "layout": "IPY_MODEL_1343ff4e746c4800991407de65ac09e2",
       "style": "IPY_MODEL_78b356ec0e924239a93e39437f8718b1",
       "value": true
      }
     },
     "ca0976282fdc4ea9a9e31a9f92113509": {
      "model_module": "@jupyter-widgets/controls",
      "model_module_version": "1.1.0",
      "model_name": "ToggleButtonsModel",
      "state": {
       "_options_labels": [
        "400 MeV",
        "800 MeV",
        "2500 MeV"
       ],
       "button_style": "",
       "description": "Energy:",
       "icons": [],
       "index": 0,
       "layout": "IPY_MODEL_d104df1b93dc4adead945d61dd03d6fe",
       "style": "IPY_MODEL_06b2f62874494d339bb90eea19176892",
       "tooltips": [
        "lowest energy",
        "middle energy",
        "highest energy"
       ]
      }
     },
     "caccc658e39e4d8eab1327632eccbe34": {
      "model_module": "@jupyter-widgets/controls",
      "model_module_version": "1.1.0",
      "model_name": "ToggleButtonsStyleModel",
      "state": {
       "button_width": "",
       "description_width": ""
      }
     },
     "cadd83c3db964467ad0683e6c33d3471": {
      "model_module": "@jupyter-widgets/controls",
      "model_module_version": "1.1.0",
      "model_name": "CheckboxModel",
      "state": {
       "description": "PHITS sim.",
       "disabled": false,
       "layout": "IPY_MODEL_06c0c365322742f782334733d0d37345",
       "style": "IPY_MODEL_54a6008ce254488abca9239c5aee6363",
       "value": true
      }
     },
     "cb43928a574448eca437bc4c9aa2a8d2": {
      "model_module": "@jupyter-widgets/controls",
      "model_module_version": "1.1.0",
      "model_name": "ToggleButtonsStyleModel",
      "state": {
       "button_width": "",
       "description_width": ""
      }
     },
     "cc70111a19d94fc791c02b7ec4bbe159": {
      "model_module": "@jupyter-widgets/base",
      "model_module_version": "1.0.0",
      "model_name": "LayoutModel",
      "state": {}
     },
     "cda96481692a4dd9a76548e1689bc85b": {
      "model_module": "@jupyter-widgets/controls",
      "model_module_version": "1.1.0",
      "model_name": "ToggleButtonsModel",
      "state": {
       "_options_labels": [
        "N",
        "NDC"
       ],
       "button_style": "",
       "description": "Type:",
       "icons": [],
       "index": 0,
       "layout": "IPY_MODEL_e1d61a68240847fcb89a97fa2945bff1",
       "style": "IPY_MODEL_4b22a219bb39429aadfbe3662ab9344e",
       "tooltips": [
        "Neutron",
        "Neutron (deconvoluted)"
       ]
      }
     },
     "cdd7b460ab6d497e89a40e54704e0405": {
      "model_module": "@jupyter-widgets/base",
      "model_module_version": "1.0.0",
      "model_name": "LayoutModel",
      "state": {}
     },
     "cea380802af2442091b4df88b4870f06": {
      "model_module": "@jupyter-widgets/base",
      "model_module_version": "1.0.0",
      "model_name": "LayoutModel",
      "state": {}
     },
     "cee140c0cf9e4148bdc534250e77adfa": {
      "model_module": "@jupyter-widgets/controls",
      "model_module_version": "1.1.0",
      "model_name": "LabelModel",
      "state": {
       "layout": "IPY_MODEL_591983d72d9a4707a025102bf48ee6a2",
       "style": "IPY_MODEL_d3829c4f0a5a42b1be5c79bdf71816d0",
       "value": "Select projectile ion species."
      }
     },
     "ceff1e71ac8a41e9a0f7e8232abb7060": {
      "model_module": "@jupyter-widgets/controls",
      "model_module_version": "1.1.0",
      "model_name": "CheckboxModel",
      "state": {
       "description": "60°",
       "disabled": false,
       "layout": "IPY_MODEL_d5d0d2ddcdd242f98557194e3bd76c0e",
       "style": "IPY_MODEL_07e26bfbdd264c5caa86997cd380255c",
       "value": true
      }
     },
     "cfa5fbf828834cb7b861c2382ce6a0a5": {
      "model_module": "@jupyter-widgets/base",
      "model_module_version": "1.0.0",
      "model_name": "LayoutModel",
      "state": {}
     },
     "d045ed28e7f443a492a3b0a8c145e6bd": {
      "model_module": "@jupyter-widgets/base",
      "model_module_version": "1.0.0",
      "model_name": "LayoutModel",
      "state": {}
     },
     "d0cf31ea782242468beb9758d21f489e": {
      "model_module": "@jupyter-widgets/controls",
      "model_module_version": "1.1.0",
      "model_name": "DescriptionStyleModel",
      "state": {
       "description_width": ""
      }
     },
     "d0e6052d8faf4b2698480ee34caee7d4": {
      "model_module": "@jupyter-widgets/base",
      "model_module_version": "1.0.0",
      "model_name": "LayoutModel",
      "state": {}
     },
     "d104df1b93dc4adead945d61dd03d6fe": {
      "model_module": "@jupyter-widgets/base",
      "model_module_version": "1.0.0",
      "model_name": "LayoutModel",
      "state": {}
     },
     "d1ffdb144a5d4c4c8c847ce9410f9e9a": {
      "model_module": "@jupyter-widgets/controls",
      "model_module_version": "1.1.0",
      "model_name": "CheckboxModel",
      "state": {
       "description": "10°",
       "disabled": false,
       "layout": "IPY_MODEL_9393d654bc5842bc8bb61310d8ae3c22",
       "style": "IPY_MODEL_8658947a8ee0460091989d36cf0c0b43",
       "value": true
      }
     },
     "d204c1db0c0a4f7dac17511c7217c255": {
      "model_module": "@jupyter-widgets/controls",
      "model_module_version": "1.1.0",
      "model_name": "CheckboxModel",
      "state": {
       "description": "30°",
       "disabled": false,
       "layout": "IPY_MODEL_69d6fc1b35cd4fd4889f882511b76af2",
       "style": "IPY_MODEL_f6ec50c9f8d14d6f8261e916602e59c9",
       "value": true
      }
     },
     "d254eb2e271643e3acda524c4794ccbf": {
      "model_module": "@jupyter-widgets/controls",
      "model_module_version": "1.1.0",
      "model_name": "CheckboxModel",
      "state": {
       "description": "32.7°",
       "disabled": false,
       "layout": "IPY_MODEL_fec67650c81745c4b3f268ff4c7b72a6",
       "style": "IPY_MODEL_ae7c46f2f69f4776accd5fb7c29f2382",
       "value": true
      }
     },
     "d2bfdaf8796e4f56a2b6c2179e47f23d": {
      "model_module": "@jupyter-widgets/base",
      "model_module_version": "1.0.0",
      "model_name": "LayoutModel",
      "state": {}
     },
     "d3829c4f0a5a42b1be5c79bdf71816d0": {
      "model_module": "@jupyter-widgets/controls",
      "model_module_version": "1.1.0",
      "model_name": "DescriptionStyleModel",
      "state": {
       "description_width": ""
      }
     },
     "d489953aa27748ca809f2bfa6fcbdbf6": {
      "model_module": "@jupyter-widgets/controls",
      "model_module_version": "1.1.0",
      "model_name": "DescriptionStyleModel",
      "state": {
       "description_width": ""
      }
     },
     "d59349eafc6d4521ae99554754cf77ee": {
      "model_module": "@jupyter-widgets/base",
      "model_module_version": "1.0.0",
      "model_name": "LayoutModel",
      "state": {}
     },
     "d5b795a688d941aaa9b25e3f0bb33293": {
      "model_module": "@jupyter-widgets/controls",
      "model_module_version": "1.1.0",
      "model_name": "CheckboxModel",
      "state": {
       "description": "80°",
       "disabled": false,
       "layout": "IPY_MODEL_0a9707392c6b4c3282af3dc874884ff5",
       "style": "IPY_MODEL_7f1320fdde3a4eb58bb722ad2e189b3c",
       "value": true
      }
     },
     "d5d0d2ddcdd242f98557194e3bd76c0e": {
      "model_module": "@jupyter-widgets/base",
      "model_module_version": "1.0.0",
      "model_name": "LayoutModel",
      "state": {}
     },
     "d5e2e35deb844291b27a458a0dc4ce24": {
      "model_module": "@jupyter-widgets/base",
      "model_module_version": "1.0.0",
      "model_name": "LayoutModel",
      "state": {}
     },
     "d6d4eecf671144bca4ba7e9fb9934af7": {
      "model_module": "@jupyter-widgets/controls",
      "model_module_version": "1.1.0",
      "model_name": "CheckboxModel",
      "state": {
       "description": "135°",
       "disabled": false,
       "layout": "IPY_MODEL_83a3795ebf384c3b924e161522508d10",
       "style": "IPY_MODEL_07757186b124423b90b6fc4a321a3839",
       "value": true
      }
     },
     "d7eefa870f8c4d0e9c21967a295082e0": {
      "model_module": "@jupyter-widgets/base",
      "model_module_version": "1.0.0",
      "model_name": "LayoutModel",
      "state": {}
     },
     "d7fa1e0a970542dfa0bcacd0af564385": {
      "model_module": "@jupyter-widgets/base",
      "model_module_version": "1.0.0",
      "model_name": "LayoutModel",
      "state": {}
     },
     "d921a36675004b3d9263529f7b8473c8": {
      "model_module": "@jupyter-widgets/base",
      "model_module_version": "1.0.0",
      "model_name": "LayoutModel",
      "state": {}
     },
     "da3c66a604a64b85afa9e3a60e7b1a1a": {
      "model_module": "@jupyter-widgets/controls",
      "model_module_version": "1.1.0",
      "model_name": "ToggleButtonsModel",
      "state": {
       "_options_labels": [
        "None",
        "Spaced by 10²"
       ],
       "button_style": "",
       "description": "Spacing:",
       "icons": [],
       "index": 0,
       "layout": "IPY_MODEL_a3d9fd0254bb40da9e7e0e1e29c3dc3c",
       "style": "IPY_MODEL_e6203a22b2264fb9805146732da77ef7",
       "tooltips": [
        "All values are presented as is.",
        "Plots for different detectors are multiplied by powers of 10² for easier viewing."
       ]
      }
     },
     "dbf31784806148b18cf007b56b054246": {
      "model_module": "@jupyter-widgets/controls",
      "model_module_version": "1.1.0",
      "model_name": "DescriptionStyleModel",
      "state": {
       "description_width": ""
      }
     },
     "dc0ae02645da44c493796fb07d1b0888": {
      "model_module": "@jupyter-widgets/controls",
      "model_module_version": "1.1.0",
      "model_name": "DescriptionStyleModel",
      "state": {
       "description_width": ""
      }
     },
     "dd243fe614ab4786a6036ba1cd7274c6": {
      "model_module": "@jupyter-widgets/controls",
      "model_module_version": "1.1.0",
      "model_name": "CheckboxModel",
      "state": {
       "description": "32.7°",
       "disabled": false,
       "layout": "IPY_MODEL_7b9d7b7cf9c04c9a82cd16d7e2bb05b0",
       "style": "IPY_MODEL_4088ba6d018e4e63a876d816450947aa",
       "value": true
      }
     },
     "dd3a3b31398e4a0e9aa1cddadb32dcea": {
      "model_module": "@jupyter-widgets/controls",
      "model_module_version": "1.1.0",
      "model_name": "DescriptionStyleModel",
      "state": {
       "description_width": ""
      }
     },
     "dd754a0dd2b94406836938aa9d8da6e9": {
      "model_module": "@jupyter-widgets/controls",
      "model_module_version": "1.1.0",
      "model_name": "CheckboxModel",
      "state": {
       "description": "135°",
       "disabled": false,
       "layout": "IPY_MODEL_1bb7f2c06922441089584949384b0a0c",
       "style": "IPY_MODEL_a5371a7f7e1c47cfb165de66a8ce1d9c",
       "value": true
      }
     },
     "dddc16ed883246f0815715672f5991bf": {
      "model_module": "@jupyter-widgets/base",
      "model_module_version": "1.0.0",
      "model_name": "LayoutModel",
      "state": {}
     },
     "de514ac198ee4f96a23947a300d166c6": {
      "model_module": "@jupyter-widgets/controls",
      "model_module_version": "1.1.0",
      "model_name": "DescriptionStyleModel",
      "state": {
       "description_width": ""
      }
     },
     "de8ca3a9d700404db62e943cbc02e6ce": {
      "model_module": "@jupyter-widgets/controls",
      "model_module_version": "1.1.0",
      "model_name": "ToggleButtonsModel",
      "state": {
       "_options_labels": [
        "20 g/cm²",
        "60 g/cm²"
       ],
       "button_style": "",
       "description": "Thickness:",
       "icons": [],
       "index": 0,
       "layout": "IPY_MODEL_9078c4bcddb24a0c80ee96dce02c78cc",
       "style": "IPY_MODEL_e3f0c8fd96aa4ab99322b59567b8161e",
       "tooltips": [
        "20 g/cm²",
        "60 g/cm²"
       ]
      }
     },
     "dfae9acdbe3d409db72fdff9ac916fc9": {
      "model_module": "@jupyter-widgets/controls",
      "model_module_version": "1.1.0",
      "model_name": "LabelModel",
      "state": {
       "layout": "IPY_MODEL_bccc581e49014ff18c58effdb72679b3",
       "style": "IPY_MODEL_0c5d38b2439f4de1b6158b9ce2c2de5c",
       "value": "Select the detector angles to plot."
      }
     },
     "dfb560290e0e403c9fccbde569a8aebc": {
      "model_module": "@jupyter-widgets/controls",
      "model_module_version": "1.1.0",
      "model_name": "LabelModel",
      "state": {
       "layout": "IPY_MODEL_acbc4eec12c84b1a95db9c9ea2c9b226",
       "style": "IPY_MODEL_5a1015870ae041e78d2db8b9d6e4d69b",
       "value": "Select the detector angles to plot."
      }
     },
     "e02a6cabb30a4011baa7c08d86cd7266": {
      "model_module": "@jupyter-widgets/controls",
      "model_module_version": "1.1.0",
      "model_name": "DescriptionStyleModel",
      "state": {
       "description_width": ""
      }
     },
     "e163e474f57f41afb1c80d3c76fe7cc2": {
      "model_module": "@jupyter-widgets/controls",
      "model_module_version": "1.1.0",
      "model_name": "ToggleButtonsModel",
      "state": {
       "_options_labels": [
        "OLS",
        "NaI"
       ],
       "button_style": "",
       "description": "Type:",
       "icons": [],
       "index": 0,
       "layout": "IPY_MODEL_988a393cd5994582bb58756c59a2cec4",
       "style": "IPY_MODEL_cb43928a574448eca437bc4c9aa2a8d2",
       "tooltips": [
        "Organic Liquid Scintillator",
        "Sodium Iodide"
       ]
      }
     },
     "e18a396c81f740bcb8fd470324b131d6": {
      "model_module": "@jupyter-widgets/controls",
      "model_module_version": "1.1.0",
      "model_name": "DescriptionStyleModel",
      "state": {
       "description_width": ""
      }
     },
     "e1d61a68240847fcb89a97fa2945bff1": {
      "model_module": "@jupyter-widgets/base",
      "model_module_version": "1.0.0",
      "model_name": "LayoutModel",
      "state": {}
     },
     "e276e5c685494292b6190b0bad23e9f6": {
      "model_module": "@jupyter-widgets/controls",
      "model_module_version": "1.1.0",
      "model_name": "DescriptionStyleModel",
      "state": {
       "description_width": ""
      }
     },
     "e2afa7cfcc1a41298897da78530a081d": {
      "model_module": "@jupyter-widgets/base",
      "model_module_version": "1.0.0",
      "model_name": "LayoutModel",
      "state": {}
     },
     "e38bb0cddc9d419990656dfcee6803a8": {
      "model_module": "@jupyter-widgets/base",
      "model_module_version": "1.0.0",
      "model_name": "LayoutModel",
      "state": {}
     },
     "e3c058a88a5b46e7a21cca77776b6f7b": {
      "model_module": "@jupyter-widgets/controls",
      "model_module_version": "1.1.0",
      "model_name": "CheckboxModel",
      "state": {
       "description": "135°",
       "disabled": false,
       "layout": "IPY_MODEL_571570d1fdb24024b81f8c526ee80215",
       "style": "IPY_MODEL_593b60d7d69a4650828cd601b908e6b9",
       "value": true
      }
     },
     "e3f0c8fd96aa4ab99322b59567b8161e": {
      "model_module": "@jupyter-widgets/controls",
      "model_module_version": "1.1.0",
      "model_name": "ToggleButtonsStyleModel",
      "state": {
       "button_width": "",
       "description_width": ""
      }
     },
     "e4375cfc8ff54701b364e8158c74eebf": {
      "model_module": "@jupyter-widgets/controls",
      "model_module_version": "1.1.0",
      "model_name": "DescriptionStyleModel",
      "state": {
       "description_width": ""
      }
     },
     "e47dd9537dee4e0a961986192547775b": {
      "model_module": "@jupyter-widgets/controls",
      "model_module_version": "1.1.0",
      "model_name": "CheckboxModel",
      "state": {
       "description": "10°",
       "disabled": false,
       "layout": "IPY_MODEL_c669a7878a2f4b5998664f3d1a967d02",
       "style": "IPY_MODEL_9bbc77fdd4154a78b93848e63b9411c7",
       "value": true
      }
     },
     "e4d4ee40e9634060ada1b1c42c9d84de": {
      "model_module": "@jupyter-widgets/controls",
      "model_module_version": "1.1.0",
      "model_name": "LabelModel",
      "state": {
       "layout": "IPY_MODEL_a20b631d661f4e6a9754ccdd1b8279ae",
       "style": "IPY_MODEL_b71c3a8d9a2f48ea8113db14d33ee897",
       "value": "Select which sets of data to display."
      }
     },
     "e504e3870f2d434b9b3ce8047fb6ce6a": {
      "model_module": "@jupyter-widgets/controls",
      "model_module_version": "1.1.0",
      "model_name": "ToggleButtonsStyleModel",
      "state": {
       "button_width": "",
       "description_width": ""
      }
     },
     "e6203a22b2264fb9805146732da77ef7": {
      "model_module": "@jupyter-widgets/controls",
      "model_module_version": "1.1.0",
      "model_name": "ToggleButtonsStyleModel",
      "state": {
       "button_width": "",
       "description_width": ""
      }
     },
     "e72b472b555f44c68890ff54d24fd189": {
      "model_module": "@jupyter-widgets/controls",
      "model_module_version": "1.1.0",
      "model_name": "ToggleButtonsModel",
      "state": {
       "_options_labels": [
        "400 MeV/n",
        "800 MeV/n",
        "1500 MeV/n"
       ],
       "button_style": "",
       "description": "Energy:",
       "icons": [],
       "index": 0,
       "layout": "IPY_MODEL_d0e6052d8faf4b2698480ee34caee7d4",
       "style": "IPY_MODEL_1ead81b4709043c994909a2b2b093b5f",
       "tooltips": [
        "lowest energy",
        "middle energy",
        "highest energy"
       ]
      }
     },
     "e791ef4198404877b20852aa1f1999dd": {
      "model_module": "@jupyter-widgets/base",
      "model_module_version": "1.0.0",
      "model_name": "LayoutModel",
      "state": {}
     },
     "e858a2e6bfff44c9a787a49521f4d6a5": {
      "model_module": "@jupyter-widgets/controls",
      "model_module_version": "1.1.0",
      "model_name": "DescriptionStyleModel",
      "state": {
       "description_width": ""
      }
     },
     "e9502940170d4e94abc6619254f97d23": {
      "model_module": "@jupyter-widgets/controls",
      "model_module_version": "1.1.0",
      "model_name": "CheckboxModel",
      "state": {
       "description": "45°",
       "disabled": false,
       "layout": "IPY_MODEL_4693c63a28be4976a31169004a8d002b",
       "style": "IPY_MODEL_143c0b0a8ded453daf70a006d44b7880",
       "value": true
      }
     },
     "e975e26b0362471590a595e5711b6a02": {
      "model_module": "@jupyter-widgets/controls",
      "model_module_version": "1.1.0",
      "model_name": "ToggleButtonsStyleModel",
      "state": {
       "button_width": "",
       "description_width": ""
      }
     },
     "ead1f9378a724f3fac29c1cdad541101": {
      "model_module": "@jupyter-widgets/controls",
      "model_module_version": "1.1.0",
      "model_name": "DescriptionStyleModel",
      "state": {
       "description_width": ""
      }
     },
     "eb182ea4bdca40d1807c6f191db4fefa": {
      "model_module": "@jupyter-widgets/base",
      "model_module_version": "1.0.0",
      "model_name": "LayoutModel",
      "state": {}
     },
     "eb3bc749b5bd437384de45b0ff78c72e": {
      "model_module": "@jupyter-widgets/controls",
      "model_module_version": "1.1.0",
      "model_name": "DescriptionStyleModel",
      "state": {
       "description_width": ""
      }
     },
     "ecb67a303385458cb0a68adc15ac1fc7": {
      "model_module": "@jupyter-widgets/controls",
      "model_module_version": "1.1.0",
      "model_name": "DescriptionStyleModel",
      "state": {
       "description_width": ""
      }
     },
     "ece4d2aad3f0431485bdbeb4ca86c6d4": {
      "model_module": "@jupyter-widgets/controls",
      "model_module_version": "1.1.0",
      "model_name": "DescriptionStyleModel",
      "state": {
       "description_width": ""
      }
     },
     "ecf53ae7c0fb4039bf6f58762a521630": {
      "model_module": "@jupyter-widgets/controls",
      "model_module_version": "1.1.0",
      "model_name": "LabelModel",
      "state": {
       "layout": "IPY_MODEL_f96537a5e7dc4e1a98b108b6f8434a3b",
       "style": "IPY_MODEL_28327983a7144dda802785386bf344e5",
       "value": "Select a detector type."
      }
     },
     "ed3c3afe7bb04260aa2cda37f2e479db": {
      "model_module": "@jupyter-widgets/controls",
      "model_module_version": "1.1.0",
      "model_name": "CheckboxModel",
      "state": {
       "description": "60°",
       "disabled": false,
       "layout": "IPY_MODEL_41e3926362f243e19a8320c94d209953",
       "style": "IPY_MODEL_25e876c3f90c4f3f8dfd969e5d91c1a4",
       "value": true
      }
     },
     "ed9b8aca428d4bfeb7962d86e3245961": {
      "model_module": "@jupyter-widgets/controls",
      "model_module_version": "1.1.0",
      "model_name": "CheckboxModel",
      "state": {
       "description": "80°",
       "disabled": false,
       "layout": "IPY_MODEL_234bc26d1bdc454db32ce045f42ba194",
       "style": "IPY_MODEL_0f09a72e9f9f4937bd8a9ecae88876c4",
       "value": true
      }
     },
     "edf26b31a5c04ae5ac5eb9360ccd15ef": {
      "model_module": "@jupyter-widgets/base",
      "model_module_version": "1.0.0",
      "model_name": "LayoutModel",
      "state": {}
     },
     "ee9508ad87874fd7b8be8d0efe9d98ad": {
      "model_module": "@jupyter-widgets/base",
      "model_module_version": "1.0.0",
      "model_name": "LayoutModel",
      "state": {}
     },
     "eefe43499ee44524b93df0bdab9d7141": {
      "model_module": "@jupyter-widgets/controls",
      "model_module_version": "1.1.0",
      "model_name": "DescriptionStyleModel",
      "state": {
       "description_width": ""
      }
     },
     "ef12815c062c4b8abf7c166758a426b0": {
      "model_module": "@jupyter-widgets/base",
      "model_module_version": "1.0.0",
      "model_name": "LayoutModel",
      "state": {}
     },
     "efdebc32c6d14475963f81083af48fc6": {
      "model_module": "@jupyter-widgets/controls",
      "model_module_version": "1.1.0",
      "model_name": "DescriptionStyleModel",
      "state": {
       "description_width": ""
      }
     },
     "f05a57fc2398413dacc5792e327cfeba": {
      "model_module": "@jupyter-widgets/controls",
      "model_module_version": "1.1.0",
      "model_name": "ToggleButtonsStyleModel",
      "state": {
       "button_width": "",
       "description_width": ""
      }
     },
     "f075aaa215ec4cfe944ca2bc67718f64": {
      "model_module": "@jupyter-widgets/base",
      "model_module_version": "1.0.0",
      "model_name": "LayoutModel",
      "state": {}
     },
     "f13b3349550249a7a8a8925ed41d5a03": {
      "model_module": "@jupyter-widgets/controls",
      "model_module_version": "1.1.0",
      "model_name": "DescriptionStyleModel",
      "state": {
       "description_width": ""
      }
     },
     "f198b3453e774f70bf273162d5d01d64": {
      "model_module": "@jupyter-widgets/base",
      "model_module_version": "1.0.0",
      "model_name": "LayoutModel",
      "state": {}
     },
     "f233b0f7df684cf19f9a4b1a0e80fc0f": {
      "model_module": "@jupyter-widgets/controls",
      "model_module_version": "1.1.0",
      "model_name": "DescriptionStyleModel",
      "state": {
       "description_width": ""
      }
     },
     "f2456de050614fe7ae7c3b92f8de9a80": {
      "model_module": "@jupyter-widgets/controls",
      "model_module_version": "1.1.0",
      "model_name": "LabelModel",
      "state": {
       "layout": "IPY_MODEL_1895e3bc6f044bb8afff35cdcfbc7aab",
       "style": "IPY_MODEL_efdebc32c6d14475963f81083af48fc6",
       "value": "Select upstream target mass thickness."
      }
     },
     "f2a30b5b168d4442829ced54e22cba51": {
      "model_module": "@jupyter-widgets/controls",
      "model_module_version": "1.1.0",
      "model_name": "CheckboxModel",
      "state": {
       "description": "32.7°",
       "disabled": false,
       "layout": "IPY_MODEL_5e26460dacad4849ad851395b6f30865",
       "style": "IPY_MODEL_70e3e49badd545ee81554cf95865dfb5",
       "value": true
      }
     },
     "f3ad70d074f14fb29d3e3e092c92e272": {
      "model_module": "@jupyter-widgets/base",
      "model_module_version": "1.0.0",
      "model_name": "LayoutModel",
      "state": {}
     },
     "f4124d13f85b4c338da0a16a8d35183d": {
      "model_module": "@jupyter-widgets/controls",
      "model_module_version": "1.1.0",
      "model_name": "ToggleButtonsModel",
      "state": {
       "_options_labels": [
        "20 g/cm²",
        "40 g/cm²",
        "60 g/cm²"
       ],
       "button_style": "",
       "description": "Thickness:",
       "icons": [],
       "index": 0,
       "layout": "IPY_MODEL_7751e08282f645879d45fa1ef176160c",
       "style": "IPY_MODEL_15a35212efc8475aaf0e98cf2b28246a",
       "tooltips": [
        "20 g/cm²",
        "40 g/cm²",
        "60 g/cm²"
       ]
      }
     },
     "f4462351516b49a5afd9a3b87837f79c": {
      "model_module": "@jupyter-widgets/controls",
      "model_module_version": "1.1.0",
      "model_name": "LabelModel",
      "state": {
       "layout": "IPY_MODEL_829f31e9b0c8410493c37e562657e989",
       "style": "IPY_MODEL_a311037077c543ca9c84276971387c3d",
       "value": "Select which sets of data to display."
      }
     },
     "f4bcbe0acbd54ece9fa7bc6babb7c729": {
      "model_module": "@jupyter-widgets/base",
      "model_module_version": "1.0.0",
      "model_name": "LayoutModel",
      "state": {}
     },
     "f4c2d755906e4acc82b4b2022cb7d83e": {
      "model_module": "@jupyter-widgets/base",
      "model_module_version": "1.0.0",
      "model_name": "LayoutModel",
      "state": {}
     },
     "f629ac463075401a82db4055047c696a": {
      "model_module": "@jupyter-widgets/controls",
      "model_module_version": "1.1.0",
      "model_name": "LabelModel",
      "state": {
       "layout": "IPY_MODEL_2b77daaeab2946b6ae613f67e7e60193",
       "style": "IPY_MODEL_dbf31784806148b18cf007b56b054246",
       "value": "Select which secondary particle to plot spectra for."
      }
     },
     "f6ec50c9f8d14d6f8261e916602e59c9": {
      "model_module": "@jupyter-widgets/controls",
      "model_module_version": "1.1.0",
      "model_name": "DescriptionStyleModel",
      "state": {
       "description_width": ""
      }
     },
     "f6f17ed301d94057a0bc97f27e6b7024": {
      "model_module": "@jupyter-widgets/base",
      "model_module_version": "1.0.0",
      "model_name": "LayoutModel",
      "state": {}
     },
     "f7774ba6a05344b1a3ec5335eb66bab7": {
      "model_module": "@jupyter-widgets/controls",
      "model_module_version": "1.1.0",
      "model_name": "ToggleButtonsModel",
      "state": {
       "_options_labels": [
        "N",
        "NDC",
        "P (¹ H)",
        "D (² H)",
        "T (³ H)",
        "S (³ He)",
        "A (⁴ He)"
       ],
       "button_style": "",
       "description": "Type:",
       "icons": [],
       "index": 0,
       "layout": "IPY_MODEL_193853f9a1684ec88fc80445d79e0ba9",
       "style": "IPY_MODEL_f05a57fc2398413dacc5792e327cfeba",
       "tooltips": [
        "Neutron",
        "Neutron (deconvoluted)",
        "Proton",
        "Deuteron",
        "Triton",
        "Helium-3",
        "Helium-4"
       ]
      }
     },
     "f7cd482253f94585a80d6bb115ec989f": {
      "model_module": "@jupyter-widgets/controls",
      "model_module_version": "1.1.0",
      "model_name": "DescriptionStyleModel",
      "state": {
       "description_width": ""
      }
     },
     "f8a211f64f1f4f378bcaa6dd3f50b1db": {
      "model_module": "@jupyter-widgets/controls",
      "model_module_version": "1.1.0",
      "model_name": "DescriptionStyleModel",
      "state": {
       "description_width": ""
      }
     },
     "f8c6878758504288a4ef98490a7bf179": {
      "model_module": "@jupyter-widgets/controls",
      "model_module_version": "1.1.0",
      "model_name": "ToggleButtonsStyleModel",
      "state": {
       "button_width": "",
       "description_width": ""
      }
     },
     "f96537a5e7dc4e1a98b108b6f8434a3b": {
      "model_module": "@jupyter-widgets/base",
      "model_module_version": "1.0.0",
      "model_name": "LayoutModel",
      "state": {}
     },
     "f9f8c52f431345f698c281574d22506e": {
      "model_module": "@jupyter-widgets/controls",
      "model_module_version": "1.1.0",
      "model_name": "CheckboxModel",
      "state": {
       "description": "60°",
       "disabled": false,
       "layout": "IPY_MODEL_a6511527a3ec4002aa89520eafdabe73",
       "style": "IPY_MODEL_adef8af3dbef49b5bf0fe6ddeef89d06",
       "value": true
      }
     },
     "fa9b0c391269426f8023ac94e5b71181": {
      "model_module": "@jupyter-widgets/controls",
      "model_module_version": "1.1.0",
      "model_name": "ToggleButtonsStyleModel",
      "state": {
       "button_width": "",
       "description_width": ""
      }
     },
     "fa9e86f21a4f40b6896d4d4df3581ea5": {
      "model_module": "@jupyter-widgets/base",
      "model_module_version": "1.0.0",
      "model_name": "LayoutModel",
      "state": {}
     },
     "fb4682e938f54eb68cf31372aa27daa2": {
      "model_module": "@jupyter-widgets/controls",
      "model_module_version": "1.1.0",
      "model_name": "CheckboxModel",
      "state": {
       "description": "7.2°",
       "disabled": false,
       "layout": "IPY_MODEL_fa9e86f21a4f40b6896d4d4df3581ea5",
       "style": "IPY_MODEL_3a19cc5c39f047ad823d1c15fd11c6ba",
       "value": true
      }
     },
     "fb9d46eb2d9f40789e7030ae2320e2fc": {
      "model_module": "@jupyter-widgets/controls",
      "model_module_version": "1.1.0",
      "model_name": "CheckboxModel",
      "state": {
       "description": "PHITS sim.",
       "disabled": false,
       "layout": "IPY_MODEL_ae58877b32bd4dd5ba8bfdb979bee38a",
       "style": "IPY_MODEL_0b9ff29894144d61b66453698de74215",
       "value": true
      }
     },
     "fbbb3d5744dd4f179f3cc78433cba9c1": {
      "model_module": "@jupyter-widgets/controls",
      "model_module_version": "1.1.0",
      "model_name": "LabelModel",
      "state": {
       "layout": "IPY_MODEL_04e0e02fd9424300a282ee8e21e6a088",
       "style": "IPY_MODEL_5af719f86866423986c2dfaf7aaf50e7",
       "value": "Select upstream target mass thickness."
      }
     },
     "fc3c7d1c3a824bc4a7ab4ae7d3a76502": {
      "model_module": "@jupyter-widgets/controls",
      "model_module_version": "1.1.0",
      "model_name": "DescriptionStyleModel",
      "state": {
       "description_width": ""
      }
     },
     "fe09287dcce44265aedb2fbe5024622d": {
      "model_module": "@jupyter-widgets/controls",
      "model_module_version": "1.1.0",
      "model_name": "DescriptionStyleModel",
      "state": {
       "description_width": ""
      }
     },
     "fe444945620d4fd68f0f58c5bde35180": {
      "model_module": "@jupyter-widgets/controls",
      "model_module_version": "1.1.0",
      "model_name": "CheckboxModel",
      "state": {
       "description": "135°",
       "disabled": false,
       "layout": "IPY_MODEL_f075aaa215ec4cfe944ca2bc67718f64",
       "style": "IPY_MODEL_c1b5218451a5463aaba4be6b444620f8",
       "value": true
      }
     },
     "fe5af945dcef46c08027357980776cea": {
      "model_module": "@jupyter-widgets/base",
      "model_module_version": "1.0.0",
      "model_name": "LayoutModel",
      "state": {}
     },
     "fec67650c81745c4b3f268ff4c7b72a6": {
      "model_module": "@jupyter-widgets/base",
      "model_module_version": "1.0.0",
      "model_name": "LayoutModel",
      "state": {}
     },
     "ff08751772c74d82b2870c4b2b9d7ac7": {
      "model_module": "@jupyter-widgets/controls",
      "model_module_version": "1.1.0",
      "model_name": "ToggleButtonsModel",
      "state": {
       "_options_labels": [
        "20 g/cm²",
        "60 g/cm²"
       ],
       "button_style": "",
       "description": "Thickness:",
       "icons": [],
       "index": 0,
       "layout": "IPY_MODEL_aae4adf9553e4a9096373ce3db4ba1e4",
       "style": "IPY_MODEL_9ca2baab08d14cfbbc0b308d87b7cf99",
       "tooltips": [
        "20 g/cm²",
        "60 g/cm²"
       ]
      }
     },
     "fff3f5f35d4b40bb988303683eb78bbb": {
      "model_module": "@jupyter-widgets/controls",
      "model_module_version": "1.1.0",
      "model_name": "ToggleButtonsModel",
      "state": {
       "_options_labels": [
        "H",
        "He",
        "C",
        "Si",
        "Fe"
       ],
       "button_style": "",
       "description": "Ion:",
       "icons": [],
       "index": 2,
       "layout": "IPY_MODEL_0b494dc80487406a9b61c6f01741dc0a",
       "style": "IPY_MODEL_120e79b40cc1437caea92ee8f745a440",
       "tooltips": [
        "Hydrogen",
        "Helium",
        "Carbon",
        "Silicon",
        "Iron"
       ]
      }
     },
     "fff6cf548d564635b9b9146c8655a150": {
      "model_module": "@jupyter-widgets/controls",
      "model_module_version": "1.1.0",
      "model_name": "DescriptionStyleModel",
      "state": {
       "description_width": ""
      }
     }
    },
    "version_major": 2,
    "version_minor": 0
   }
  }
 },
 "nbformat": 4,
 "nbformat_minor": 1
}
