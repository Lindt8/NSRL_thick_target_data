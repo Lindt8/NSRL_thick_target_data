{
 "cells": [
  {
   "cell_type": "code",
   "execution_count": 131,
   "metadata": {},
   "outputs": [
    {
     "data": {
      "text/html": [
       "<script>\n",
       "  function code_toggle() {\n",
       "    if (code_shown){\n",
       "      $('div.input').hide('500');\n",
       "      $('#toggleButton').val('Show Code')\n",
       "    } else {\n",
       "      $('div.input').show('500');\n",
       "      $('#toggleButton').val('Hide Code')\n",
       "    }\n",
       "    code_shown = !code_shown\n",
       "  }\n",
       "\n",
       "  $( document ).ready(function(){\n",
       "    code_shown=false;\n",
       "    $('div.input').hide()\n",
       "  });\n",
       "</script>\n",
       "<form action=\"javascript:code_toggle()\"><input type=\"submit\" id=\"toggleButton\" value=\"Show Code\"></form>"
      ],
      "text/plain": [
       "<IPython.core.display.HTML object>"
      ]
     },
     "execution_count": 131,
     "metadata": {},
     "output_type": "execute_result"
    }
   ],
   "source": [
    "%matplotlib notebook\n",
    "from IPython.display import HTML\n",
    "import numpy as np\n",
    "import matplotlib.pyplot as plt\n",
    "from matplotlib.collections import PatchCollection\n",
    "from matplotlib.patches import Rectangle\n",
    "import re\n",
    "from IPython.display import display\n",
    "import ipywidgets as widgets\n",
    "from IPython.display import Javascript\n",
    "\n",
    "HTML('''<script>\n",
    "  function code_toggle() {\n",
    "    if (code_shown){\n",
    "      $('div.input').hide('500');\n",
    "      $('#toggleButton').val('Show Code')\n",
    "    } else {\n",
    "      $('div.input').show('500');\n",
    "      $('#toggleButton').val('Hide Code')\n",
    "    }\n",
    "    code_shown = !code_shown\n",
    "  }\n",
    "\n",
    "  $( document ).ready(function(){\n",
    "    code_shown=false;\n",
    "    $('div.input').hide()\n",
    "  });\n",
    "</script>\n",
    "<form action=\"javascript:code_toggle()\"><input type=\"submit\" id=\"toggleButton\" value=\"Show Code\"></form>''')\n"
   ]
  },
  {
   "cell_type": "code",
   "execution_count": 132,
   "metadata": {},
   "outputs": [
    {
     "data": {
      "application/vnd.jupyter.widget-view+json": {
       "model_id": "0739d71272ec4cc5825d86d934ffab43",
       "version_major": 2,
       "version_minor": 0
      },
      "text/html": [
       "<p>Failed to display Jupyter Widget of type <code>Label</code>.</p>\n",
       "<p>\n",
       "  If you're reading this message in the Jupyter Notebook or JupyterLab Notebook, it may mean\n",
       "  that the widgets JavaScript is still loading. If this message persists, it\n",
       "  likely means that the widgets JavaScript library is either not installed or\n",
       "  not enabled. See the <a href=\"https://ipywidgets.readthedocs.io/en/stable/user_install.html\">Jupyter\n",
       "  Widgets Documentation</a> for setup instructions.\n",
       "</p>\n",
       "<p>\n",
       "  If you're reading this message in another frontend (for example, a static\n",
       "  rendering on GitHub or <a href=\"https://nbviewer.jupyter.org/\">NBViewer</a>),\n",
       "  it may mean that your frontend doesn't currently support widgets.\n",
       "</p>\n"
      ],
      "text/plain": [
       "Label(value='Select projectile ion species.')"
      ]
     },
     "metadata": {},
     "output_type": "display_data"
    },
    {
     "data": {
      "application/vnd.jupyter.widget-view+json": {
       "model_id": "897477d3de7b4ac8af8ad3a9b12ad7ef",
       "version_major": 2,
       "version_minor": 0
      },
      "text/html": [
       "<p>Failed to display Jupyter Widget of type <code>ToggleButtons</code>.</p>\n",
       "<p>\n",
       "  If you're reading this message in the Jupyter Notebook or JupyterLab Notebook, it may mean\n",
       "  that the widgets JavaScript is still loading. If this message persists, it\n",
       "  likely means that the widgets JavaScript library is either not installed or\n",
       "  not enabled. See the <a href=\"https://ipywidgets.readthedocs.io/en/stable/user_install.html\">Jupyter\n",
       "  Widgets Documentation</a> for setup instructions.\n",
       "</p>\n",
       "<p>\n",
       "  If you're reading this message in another frontend (for example, a static\n",
       "  rendering on GitHub or <a href=\"https://nbviewer.jupyter.org/\">NBViewer</a>),\n",
       "  it may mean that your frontend doesn't currently support widgets.\n",
       "</p>\n"
      ],
      "text/plain": [
       "ToggleButtons(description='Ion:', options=('H', 'He', 'C', 'Si', 'Fe'), tooltips=['Hydrogen', 'Helium', 'Carbon', 'Silicon', 'Iron'], value='H')"
      ]
     },
     "metadata": {},
     "output_type": "display_data"
    },
    {
     "data": {
      "application/javascript": [
       "IPython.notebook.execute_cells([IPython.notebook.get_selected_index()+1,6,7])"
      ],
      "text/plain": [
       "<IPython.core.display.Javascript object>"
      ]
     },
     "metadata": {},
     "output_type": "display_data"
    },
    {
     "data": {
      "application/javascript": [
       "IPython.notebook.execute_cells([IPython.notebook.get_selected_index()+1,6,7])"
      ],
      "text/plain": [
       "<IPython.core.display.Javascript object>"
      ]
     },
     "metadata": {},
     "output_type": "display_data"
    },
    {
     "data": {
      "application/javascript": [
       "IPython.notebook.execute_cells([IPython.notebook.get_selected_index()+1,6,7])"
      ],
      "text/plain": [
       "<IPython.core.display.Javascript object>"
      ]
     },
     "metadata": {},
     "output_type": "display_data"
    },
    {
     "data": {
      "application/javascript": [
       "IPython.notebook.execute_cells([IPython.notebook.get_selected_index()+1,6,7])"
      ],
      "text/plain": [
       "<IPython.core.display.Javascript object>"
      ]
     },
     "metadata": {},
     "output_type": "display_data"
    },
    {
     "data": {
      "application/javascript": [
       "IPython.notebook.execute_cells([IPython.notebook.get_selected_index()+1,6,7])"
      ],
      "text/plain": [
       "<IPython.core.display.Javascript object>"
      ]
     },
     "metadata": {},
     "output_type": "display_data"
    },
    {
     "data": {
      "application/javascript": [
       "IPython.notebook.execute_cells([IPython.notebook.get_selected_index()+1,6,7])"
      ],
      "text/plain": [
       "<IPython.core.display.Javascript object>"
      ]
     },
     "metadata": {},
     "output_type": "display_data"
    },
    {
     "data": {
      "application/javascript": [
       "IPython.notebook.execute_cells([IPython.notebook.get_selected_index()+1,6,7])"
      ],
      "text/plain": [
       "<IPython.core.display.Javascript object>"
      ]
     },
     "metadata": {},
     "output_type": "display_data"
    },
    {
     "data": {
      "application/javascript": [
       "IPython.notebook.execute_cells([IPython.notebook.get_selected_index()+1,6,7])"
      ],
      "text/plain": [
       "<IPython.core.display.Javascript object>"
      ]
     },
     "metadata": {},
     "output_type": "display_data"
    }
   ],
   "source": [
    "def find(target, myList):\n",
    "    for i in range(len(myList)):\n",
    "        if myList[i] == target:\n",
    "            return i       \n",
    "\n",
    "def on_click(change):\n",
    "    #display(Javascript('IPython.notebook.execute_cells_below()'))  \n",
    "    #display(Javascript('IPython.notebook.execute_cell_range(IPython.notebook.get_selected_index()+1, IPython.notebook.ncells())'))\n",
    "    #display(Javascript('IPython.notebook.execute_cell_range(IPython.notebook.get_selected_index()+1, 6)'))\n",
    "    display(Javascript('IPython.notebook.execute_cells'))\n",
    "\n",
    "def on_click_next(change):\n",
    "    display(Javascript('IPython.notebook.execute_cells([IPython.notebook.get_selected_index()+1])'))\n",
    "    \n",
    "def on_click_7(change):\n",
    "    display(Javascript('IPython.notebook.execute_cells([7])'))\n",
    "\n",
    "def on_click_67(change):\n",
    "    display(Javascript('IPython.notebook.execute_cells([6,7])'))\n",
    "    \n",
    "def on_click_next_67(change):\n",
    "    display(Javascript('IPython.notebook.execute_cells([IPython.notebook.get_selected_index()+1,6,7])'))\n",
    "    \n",
    "# Function to plot error boxes\n",
    "def makeErrorBoxes(xdata,ydata,xerror,yerror,fc='None',ec='k',alpha=1.0,lw=1):\n",
    "    # Create list for all the error patches\n",
    "    errorboxes = []\n",
    "\n",
    "    # Loop over data points; create box from errors at each point\n",
    "    for xc,yc,xe,ye in zip(xdata,ydata,xerror.T,yerror.T):\n",
    "        rect = Rectangle((xc-xe[0],yc-ye[0]),xe.sum(),ye.sum())\n",
    "        errorboxes.append(rect)\n",
    "\n",
    "    # Create patch collection with specified colour/alpha\n",
    "    pc = PatchCollection(errorboxes,facecolor=fc,alpha=alpha,edgecolor=ec,linewidth=lw)\n",
    "\n",
    "    # Add collection to axes\n",
    "    ax.add_collection(pc)    \n",
    "\n",
    "def detector_colors(di):\n",
    "    #colors_list = ['b','g','r','c','m','y'] # Python 3 old default\n",
    "    #colors_list = ['#b2182b','#d6604d','#f4a582','#92c5de','#4393c3','#2166ac'] # blue to red cold\n",
    "    #colors_list = ['#d73027','#f46d43','#fdae61','#abd9e9','#74add1','#4575b4'] # blue to red warm\n",
    "    #colors_list = ['#762a83','#9970ab','#c2a5cf','#a6dba0','#5aae61','#1b7837'] # purple to green\n",
    "    #colors_list = ['#40004b','#762a83','#9970ab','#5aae61','#1b7837','#00441b'] # purple to green darker\n",
    "    #colors_list = [\"#afa83a\",\"#7f63b8\",\"#56ae6c\",\"#b84c7d\",\"#ac863f\",\"#b94d3d\"] # iWantHue 1\n",
    "    #colors_list = ['#1b9e77','#d95f02','#7570b3','#e7298a','#66a61e','#e6ab02'] # qualitative dark 1\n",
    "    colors_list = ['#e41a1c','#377eb8','#4daf4a','#984ea3','#ff7f00','#a65628'] # qualitative dark 2\n",
    "    return colors_list[di]\n",
    "    \n",
    "    \n",
    "    \n",
    "data_version = 'v7'\n",
    "\n",
    "metadata_file = 'metadata_matrix_' + data_version + '.npy'\n",
    "mm_metadata = np.load(metadata_file) # data set, ion species, ion energy, target material, target thickness, secondary particle, detector, header meta data\n",
    "exists_file = 'exists_matrix_' + data_version + '.npy'\n",
    "mm_exists = np.load(exists_file) # data set, ion species, ion energy, target material, target thickness, secondary particle, detector\n",
    "\n",
    "#values_file = 'values_matrix_' + data_version + '.npy'\n",
    "#mm_values = np.load(values_file) # data set, ion species, ion energy, target material, target thickness, secondary particle, detector, column values, energy bins\n",
    "\n",
    "#print(mm_metadata[0,0,0,0,0,0,0,0])\n",
    "\n",
    "projectile_sym_str = ['H', 'He', 'C', 'Si', 'Fe']\n",
    "projectile_longnames_str = ['Hydrogen', 'Helium', 'Carbon', 'Silicon', 'Iron']\n",
    "\n",
    "mm_values_names_list = []\n",
    "for i in range(5):\n",
    "    mm_values_names_list.append('values_matrix_' + projectile_sym_str[i].lower() + \"_\" + data_version + '.npy')\n",
    "\n",
    "is_label = widgets.Label(value=\"Select projectile ion species.\")\n",
    "    \n",
    "ion_species = widgets.ToggleButtons(\n",
    "    options=projectile_sym_str,\n",
    "    description='Ion:',\n",
    "    disabled=False,\n",
    "    button_style='', # 'success', 'info', 'warning', 'danger' or ''\n",
    "    tooltips=projectile_longnames_str,\n",
    "#     icons=['check'] * 5\n",
    ")\n",
    "\n",
    "ion_species.observe(on_click_next_67, 'value')\n",
    "display(is_label,ion_species)\n"
   ]
  },
  {
   "cell_type": "code",
   "execution_count": 306,
   "metadata": {},
   "outputs": [
    {
     "data": {
      "application/vnd.jupyter.widget-view+json": {
       "model_id": "ce44b19710484e669f048d00f72b2709",
       "version_major": 2,
       "version_minor": 0
      },
      "text/html": [
       "<p>Failed to display Jupyter Widget of type <code>Label</code>.</p>\n",
       "<p>\n",
       "  If you're reading this message in the Jupyter Notebook or JupyterLab Notebook, it may mean\n",
       "  that the widgets JavaScript is still loading. If this message persists, it\n",
       "  likely means that the widgets JavaScript library is either not installed or\n",
       "  not enabled. See the <a href=\"https://ipywidgets.readthedocs.io/en/stable/user_install.html\">Jupyter\n",
       "  Widgets Documentation</a> for setup instructions.\n",
       "</p>\n",
       "<p>\n",
       "  If you're reading this message in another frontend (for example, a static\n",
       "  rendering on GitHub or <a href=\"https://nbviewer.jupyter.org/\">NBViewer</a>),\n",
       "  it may mean that your frontend doesn't currently support widgets.\n",
       "</p>\n"
      ],
      "text/plain": [
       "Label(value='Select projectile ion energy.')"
      ]
     },
     "metadata": {},
     "output_type": "display_data"
    },
    {
     "data": {
      "application/vnd.jupyter.widget-view+json": {
       "model_id": "ffe7fbb835f54c229de91ad214c30cd3",
       "version_major": 2,
       "version_minor": 0
      },
      "text/html": [
       "<p>Failed to display Jupyter Widget of type <code>ToggleButtons</code>.</p>\n",
       "<p>\n",
       "  If you're reading this message in the Jupyter Notebook or JupyterLab Notebook, it may mean\n",
       "  that the widgets JavaScript is still loading. If this message persists, it\n",
       "  likely means that the widgets JavaScript library is either not installed or\n",
       "  not enabled. See the <a href=\"https://ipywidgets.readthedocs.io/en/stable/user_install.html\">Jupyter\n",
       "  Widgets Documentation</a> for setup instructions.\n",
       "</p>\n",
       "<p>\n",
       "  If you're reading this message in another frontend (for example, a static\n",
       "  rendering on GitHub or <a href=\"https://nbviewer.jupyter.org/\">NBViewer</a>),\n",
       "  it may mean that your frontend doesn't currently support widgets.\n",
       "</p>\n"
      ],
      "text/plain": [
       "ToggleButtons(description='Energy:', options=('400 MeV/n', '800 MeV/n', '1500 MeV/n'), tooltips=['lowest energy', 'middle energy', 'highest energy'], value='400 MeV/n')"
      ]
     },
     "metadata": {},
     "output_type": "display_data"
    },
    {
     "data": {
      "application/javascript": [
       "IPython.notebook.execute_cells([6,7])"
      ],
      "text/plain": [
       "<IPython.core.display.Javascript object>"
      ]
     },
     "metadata": {},
     "output_type": "display_data"
    }
   ],
   "source": [
    "isi = find(ion_species.value,projectile_sym_str)\n",
    "mm_values = np.load(mm_values_names_list[isi])\n",
    "\n",
    "def erg_options(isi):\n",
    "    if isi == 0:\n",
    "        proj_E = ['400 MeV','800 MeV','2500 MeV']\n",
    "    else:\n",
    "        proj_E = ['400 MeV/n','800 MeV/n','1500 MeV/n']\n",
    "    return proj_E\n",
    "\n",
    "Projectile_E_tooltips = ['lowest energy','middle energy', 'highest energy']\n",
    "\n",
    "ie_label = widgets.Label(value=\"Select projectile ion energy.\")\n",
    "\n",
    "ion_energy = widgets.ToggleButtons(\n",
    "    options=erg_options(isi),\n",
    "    description='Energy:',\n",
    "    disabled=False,\n",
    "    button_style='', # 'success', 'info', 'warning', 'danger' or ''\n",
    "    tooltips=Projectile_E_tooltips,\n",
    "#     icons=['check'] * 5\n",
    ")\n",
    "\n",
    "ion_energy.observe(on_click_67, 'value')\n",
    "display(ie_label, ion_energy)\n"
   ]
  },
  {
   "cell_type": "code",
   "execution_count": 134,
   "metadata": {},
   "outputs": [
    {
     "data": {
      "application/vnd.jupyter.widget-view+json": {
       "model_id": "bf807f82a6c641b498d5e94160e42d74",
       "version_major": 2,
       "version_minor": 0
      },
      "text/html": [
       "<p>Failed to display Jupyter Widget of type <code>Label</code>.</p>\n",
       "<p>\n",
       "  If you're reading this message in the Jupyter Notebook or JupyterLab Notebook, it may mean\n",
       "  that the widgets JavaScript is still loading. If this message persists, it\n",
       "  likely means that the widgets JavaScript library is either not installed or\n",
       "  not enabled. See the <a href=\"https://ipywidgets.readthedocs.io/en/stable/user_install.html\">Jupyter\n",
       "  Widgets Documentation</a> for setup instructions.\n",
       "</p>\n",
       "<p>\n",
       "  If you're reading this message in another frontend (for example, a static\n",
       "  rendering on GitHub or <a href=\"https://nbviewer.jupyter.org/\">NBViewer</a>),\n",
       "  it may mean that your frontend doesn't currently support widgets.\n",
       "</p>\n"
      ],
      "text/plain": [
       "Label(value='Select upstream target material.')"
      ]
     },
     "metadata": {},
     "output_type": "display_data"
    },
    {
     "data": {
      "application/vnd.jupyter.widget-view+json": {
       "model_id": "8b599aa8b09b49968fe4bdec49994183",
       "version_major": 2,
       "version_minor": 0
      },
      "text/html": [
       "<p>Failed to display Jupyter Widget of type <code>ToggleButtons</code>.</p>\n",
       "<p>\n",
       "  If you're reading this message in the Jupyter Notebook or JupyterLab Notebook, it may mean\n",
       "  that the widgets JavaScript is still loading. If this message persists, it\n",
       "  likely means that the widgets JavaScript library is either not installed or\n",
       "  not enabled. See the <a href=\"https://ipywidgets.readthedocs.io/en/stable/user_install.html\">Jupyter\n",
       "  Widgets Documentation</a> for setup instructions.\n",
       "</p>\n",
       "<p>\n",
       "  If you're reading this message in another frontend (for example, a static\n",
       "  rendering on GitHub or <a href=\"https://nbviewer.jupyter.org/\">NBViewer</a>),\n",
       "  it may mean that your frontend doesn't currently support widgets.\n",
       "</p>\n"
      ],
      "text/plain": [
       "ToggleButtons(description='Material:', options=('Al', 'HDPE', 'AlPE'), tooltips=['Aluminum', 'Polyethylene', 'Combination of Al and HDPE'], value='Al')"
      ]
     },
     "metadata": {},
     "output_type": "display_data"
    },
    {
     "data": {
      "application/javascript": [
       "IPython.notebook.execute_cells([IPython.notebook.get_selected_index()+1,6,7])"
      ],
      "text/plain": [
       "<IPython.core.display.Javascript object>"
      ]
     },
     "metadata": {},
     "output_type": "display_data"
    },
    {
     "data": {
      "application/javascript": [
       "IPython.notebook.execute_cells([IPython.notebook.get_selected_index()+1,6,7])"
      ],
      "text/plain": [
       "<IPython.core.display.Javascript object>"
      ]
     },
     "metadata": {},
     "output_type": "display_data"
    },
    {
     "data": {
      "application/javascript": [
       "IPython.notebook.execute_cells([IPython.notebook.get_selected_index()+1,6,7])"
      ],
      "text/plain": [
       "<IPython.core.display.Javascript object>"
      ]
     },
     "metadata": {},
     "output_type": "display_data"
    },
    {
     "data": {
      "application/javascript": [
       "IPython.notebook.execute_cells([IPython.notebook.get_selected_index()+1,6,7])"
      ],
      "text/plain": [
       "<IPython.core.display.Javascript object>"
      ]
     },
     "metadata": {},
     "output_type": "display_data"
    },
    {
     "data": {
      "application/javascript": [
       "IPython.notebook.execute_cells([IPython.notebook.get_selected_index()+1,6,7])"
      ],
      "text/plain": [
       "<IPython.core.display.Javascript object>"
      ]
     },
     "metadata": {},
     "output_type": "display_data"
    },
    {
     "data": {
      "application/javascript": [
       "IPython.notebook.execute_cells([IPython.notebook.get_selected_index()+1,6,7])"
      ],
      "text/plain": [
       "<IPython.core.display.Javascript object>"
      ]
     },
     "metadata": {},
     "output_type": "display_data"
    },
    {
     "data": {
      "application/javascript": [
       "IPython.notebook.execute_cells([IPython.notebook.get_selected_index()+1,6,7])"
      ],
      "text/plain": [
       "<IPython.core.display.Javascript object>"
      ]
     },
     "metadata": {},
     "output_type": "display_data"
    },
    {
     "data": {
      "application/javascript": [
       "IPython.notebook.execute_cells([IPython.notebook.get_selected_index()+1,6,7])"
      ],
      "text/plain": [
       "<IPython.core.display.Javascript object>"
      ]
     },
     "metadata": {},
     "output_type": "display_data"
    },
    {
     "data": {
      "application/javascript": [
       "IPython.notebook.execute_cells([IPython.notebook.get_selected_index()+1,6,7])"
      ],
      "text/plain": [
       "<IPython.core.display.Javascript object>"
      ]
     },
     "metadata": {},
     "output_type": "display_data"
    },
    {
     "data": {
      "application/javascript": [
       "IPython.notebook.execute_cells([IPython.notebook.get_selected_index()+1,6,7])"
      ],
      "text/plain": [
       "<IPython.core.display.Javascript object>"
      ]
     },
     "metadata": {},
     "output_type": "display_data"
    },
    {
     "data": {
      "application/javascript": [
       "IPython.notebook.execute_cells([IPython.notebook.get_selected_index()+1,6,7])"
      ],
      "text/plain": [
       "<IPython.core.display.Javascript object>"
      ]
     },
     "metadata": {},
     "output_type": "display_data"
    },
    {
     "data": {
      "application/javascript": [
       "IPython.notebook.execute_cells([IPython.notebook.get_selected_index()+1,6,7])"
      ],
      "text/plain": [
       "<IPython.core.display.Javascript object>"
      ]
     },
     "metadata": {},
     "output_type": "display_data"
    },
    {
     "data": {
      "application/javascript": [
       "IPython.notebook.execute_cells([IPython.notebook.get_selected_index()+1,6,7])"
      ],
      "text/plain": [
       "<IPython.core.display.Javascript object>"
      ]
     },
     "metadata": {},
     "output_type": "display_data"
    },
    {
     "data": {
      "application/javascript": [
       "IPython.notebook.execute_cells([IPython.notebook.get_selected_index()+1,6,7])"
      ],
      "text/plain": [
       "<IPython.core.display.Javascript object>"
      ]
     },
     "metadata": {},
     "output_type": "display_data"
    },
    {
     "data": {
      "application/javascript": [
       "IPython.notebook.execute_cells([IPython.notebook.get_selected_index()+1,6,7])"
      ],
      "text/plain": [
       "<IPython.core.display.Javascript object>"
      ]
     },
     "metadata": {},
     "output_type": "display_data"
    },
    {
     "data": {
      "application/javascript": [
       "IPython.notebook.execute_cells([IPython.notebook.get_selected_index()+1,6,7])"
      ],
      "text/plain": [
       "<IPython.core.display.Javascript object>"
      ]
     },
     "metadata": {},
     "output_type": "display_data"
    },
    {
     "data": {
      "application/javascript": [
       "IPython.notebook.execute_cells([IPython.notebook.get_selected_index()+1,6,7])"
      ],
      "text/plain": [
       "<IPython.core.display.Javascript object>"
      ]
     },
     "metadata": {},
     "output_type": "display_data"
    },
    {
     "data": {
      "application/javascript": [
       "IPython.notebook.execute_cells([IPython.notebook.get_selected_index()+1,6,7])"
      ],
      "text/plain": [
       "<IPython.core.display.Javascript object>"
      ]
     },
     "metadata": {},
     "output_type": "display_data"
    }
   ],
   "source": [
    "isi = find(ion_species.value,projectile_sym_str)\n",
    "iei = find(ion_energy.value,erg_options(isi))\n",
    "\n",
    "target_mats_long = ['Aluminum','Polyethylene','Combination of Al and HDPE']\n",
    "target_mats_short = ['Al','HDPE','AlPE']\n",
    "\n",
    "tm_label = widgets.Label(value=\"Select upstream target material.\")\n",
    "\n",
    "target_material = widgets.ToggleButtons(\n",
    "    options=target_mats_short,\n",
    "    description='Material:',\n",
    "    disabled=False,\n",
    "    button_style='', # 'success', 'info', 'warning', 'danger' or ''\n",
    "    tooltips=target_mats_long,\n",
    "#     icons=['check'] * 3\n",
    ")\n",
    "\n",
    "target_material.observe(on_click_next_67, 'value')\n",
    "display(tm_label, target_material)"
   ]
  },
  {
   "cell_type": "code",
   "execution_count": 295,
   "metadata": {},
   "outputs": [
    {
     "data": {
      "application/vnd.jupyter.widget-view+json": {
       "model_id": "da2008f55bf74ed185695507de8b9e5f",
       "version_major": 2,
       "version_minor": 0
      },
      "text/html": [
       "<p>Failed to display Jupyter Widget of type <code>Label</code>.</p>\n",
       "<p>\n",
       "  If you're reading this message in the Jupyter Notebook or JupyterLab Notebook, it may mean\n",
       "  that the widgets JavaScript is still loading. If this message persists, it\n",
       "  likely means that the widgets JavaScript library is either not installed or\n",
       "  not enabled. See the <a href=\"https://ipywidgets.readthedocs.io/en/stable/user_install.html\">Jupyter\n",
       "  Widgets Documentation</a> for setup instructions.\n",
       "</p>\n",
       "<p>\n",
       "  If you're reading this message in another frontend (for example, a static\n",
       "  rendering on GitHub or <a href=\"https://nbviewer.jupyter.org/\">NBViewer</a>),\n",
       "  it may mean that your frontend doesn't currently support widgets.\n",
       "</p>\n"
      ],
      "text/plain": [
       "Label(value='Select upstream target mass thickness.')"
      ]
     },
     "metadata": {},
     "output_type": "display_data"
    },
    {
     "data": {
      "application/vnd.jupyter.widget-view+json": {
       "model_id": "49b2694eb1f34c139dfd47a45fc4cf6f",
       "version_major": 2,
       "version_minor": 0
      },
      "text/html": [
       "<p>Failed to display Jupyter Widget of type <code>ToggleButtons</code>.</p>\n",
       "<p>\n",
       "  If you're reading this message in the Jupyter Notebook or JupyterLab Notebook, it may mean\n",
       "  that the widgets JavaScript is still loading. If this message persists, it\n",
       "  likely means that the widgets JavaScript library is either not installed or\n",
       "  not enabled. See the <a href=\"https://ipywidgets.readthedocs.io/en/stable/user_install.html\">Jupyter\n",
       "  Widgets Documentation</a> for setup instructions.\n",
       "</p>\n",
       "<p>\n",
       "  If you're reading this message in another frontend (for example, a static\n",
       "  rendering on GitHub or <a href=\"https://nbviewer.jupyter.org/\">NBViewer</a>),\n",
       "  it may mean that your frontend doesn't currently support widgets.\n",
       "</p>\n"
      ],
      "text/plain": [
       "ToggleButtons(description='Thickness:', options=('20 g/cm²', '40 g/cm²', '60 g/cm²'), tooltips=['20 g/cm²', '40 g/cm²', '60 g/cm²'], value='20 g/cm²')"
      ]
     },
     "metadata": {},
     "output_type": "display_data"
    }
   ],
   "source": [
    "isi = find(ion_species.value,projectile_sym_str)\n",
    "iei = find(ion_energy.value,erg_options(isi))\n",
    "ftmi = find(target_material.value,target_mats_short)\n",
    "thicknesses = ['20 g/cm\\u00B2','40 g/cm\\u00B2','60 g/cm\\u00B2']\n",
    "def thickness_options(ftmi):\n",
    "    if ftmi == 2:\n",
    "        thicknesses = ['20 g/cm\\u00B2','60 g/cm\\u00B2']\n",
    "    else:\n",
    "        thicknesses = ['20 g/cm\\u00B2','40 g/cm\\u00B2','60 g/cm\\u00B2']\n",
    "    return thicknesses\n",
    "\n",
    "tt_label = widgets.Label(value=\"Select upstream target mass thickness.\")\n",
    "\n",
    "target_thickness = widgets.ToggleButtons(\n",
    "    options=thickness_options(ftmi),\n",
    "    description='Thickness:',\n",
    "    disabled=False,\n",
    "    button_style='', # 'success', 'info', 'warning', 'danger' or ''\n",
    "    tooltips=thickness_options(ftmi),\n",
    "#     icons=['check'] * 3\n",
    ")\n",
    "\n",
    "target_thickness.observe(on_click_67, 'value')\n",
    "display(tt_label, target_thickness)"
   ]
  },
  {
   "cell_type": "code",
   "execution_count": 136,
   "metadata": {},
   "outputs": [
    {
     "data": {
      "application/vnd.jupyter.widget-view+json": {
       "model_id": "280e1034c0c54ed5bdf367a7ca608037",
       "version_major": 2,
       "version_minor": 0
      },
      "text/html": [
       "<p>Failed to display Jupyter Widget of type <code>Label</code>.</p>\n",
       "<p>\n",
       "  If you're reading this message in the Jupyter Notebook or JupyterLab Notebook, it may mean\n",
       "  that the widgets JavaScript is still loading. If this message persists, it\n",
       "  likely means that the widgets JavaScript library is either not installed or\n",
       "  not enabled. See the <a href=\"https://ipywidgets.readthedocs.io/en/stable/user_install.html\">Jupyter\n",
       "  Widgets Documentation</a> for setup instructions.\n",
       "</p>\n",
       "<p>\n",
       "  If you're reading this message in another frontend (for example, a static\n",
       "  rendering on GitHub or <a href=\"https://nbviewer.jupyter.org/\">NBViewer</a>),\n",
       "  it may mean that your frontend doesn't currently support widgets.\n",
       "</p>\n"
      ],
      "text/plain": [
       "Label(value='Select a detector type.')"
      ]
     },
     "metadata": {},
     "output_type": "display_data"
    },
    {
     "data": {
      "application/vnd.jupyter.widget-view+json": {
       "model_id": "eeff824cd7d447d7beef08d8d3278ca8",
       "version_major": 2,
       "version_minor": 0
      },
      "text/html": [
       "<p>Failed to display Jupyter Widget of type <code>ToggleButtons</code>.</p>\n",
       "<p>\n",
       "  If you're reading this message in the Jupyter Notebook or JupyterLab Notebook, it may mean\n",
       "  that the widgets JavaScript is still loading. If this message persists, it\n",
       "  likely means that the widgets JavaScript library is either not installed or\n",
       "  not enabled. See the <a href=\"https://ipywidgets.readthedocs.io/en/stable/user_install.html\">Jupyter\n",
       "  Widgets Documentation</a> for setup instructions.\n",
       "</p>\n",
       "<p>\n",
       "  If you're reading this message in another frontend (for example, a static\n",
       "  rendering on GitHub or <a href=\"https://nbviewer.jupyter.org/\">NBViewer</a>),\n",
       "  it may mean that your frontend doesn't currently support widgets.\n",
       "</p>\n"
      ],
      "text/plain": [
       "ToggleButtons(description='Type:', options=('OLS', 'NaI'), tooltips=['Organic Liquid Scintillator', 'Sodium Iodide'], value='OLS')"
      ]
     },
     "metadata": {},
     "output_type": "display_data"
    },
    {
     "data": {
      "application/javascript": [
       "IPython.notebook.execute_cells([6,7])"
      ],
      "text/plain": [
       "<IPython.core.display.Javascript object>"
      ]
     },
     "metadata": {},
     "output_type": "display_data"
    },
    {
     "data": {
      "application/javascript": [
       "IPython.notebook.execute_cells([6,7])"
      ],
      "text/plain": [
       "<IPython.core.display.Javascript object>"
      ]
     },
     "metadata": {},
     "output_type": "display_data"
    },
    {
     "data": {
      "application/javascript": [
       "IPython.notebook.execute_cells([6,7])"
      ],
      "text/plain": [
       "<IPython.core.display.Javascript object>"
      ]
     },
     "metadata": {},
     "output_type": "display_data"
    },
    {
     "data": {
      "application/javascript": [
       "IPython.notebook.execute_cells([6,7])"
      ],
      "text/plain": [
       "<IPython.core.display.Javascript object>"
      ]
     },
     "metadata": {},
     "output_type": "display_data"
    },
    {
     "data": {
      "application/javascript": [
       "IPython.notebook.execute_cells([6,7])"
      ],
      "text/plain": [
       "<IPython.core.display.Javascript object>"
      ]
     },
     "metadata": {},
     "output_type": "display_data"
    },
    {
     "data": {
      "application/javascript": [
       "IPython.notebook.execute_cells([6,7])"
      ],
      "text/plain": [
       "<IPython.core.display.Javascript object>"
      ]
     },
     "metadata": {},
     "output_type": "display_data"
    },
    {
     "data": {
      "application/javascript": [
       "IPython.notebook.execute_cells([6,7])"
      ],
      "text/plain": [
       "<IPython.core.display.Javascript object>"
      ]
     },
     "metadata": {},
     "output_type": "display_data"
    },
    {
     "data": {
      "application/javascript": [
       "IPython.notebook.execute_cells([6,7])"
      ],
      "text/plain": [
       "<IPython.core.display.Javascript object>"
      ]
     },
     "metadata": {},
     "output_type": "display_data"
    },
    {
     "data": {
      "application/javascript": [
       "IPython.notebook.execute_cells([6,7])"
      ],
      "text/plain": [
       "<IPython.core.display.Javascript object>"
      ]
     },
     "metadata": {},
     "output_type": "display_data"
    },
    {
     "data": {
      "application/javascript": [
       "IPython.notebook.execute_cells([6,7])"
      ],
      "text/plain": [
       "<IPython.core.display.Javascript object>"
      ]
     },
     "metadata": {},
     "output_type": "display_data"
    },
    {
     "data": {
      "application/javascript": [
       "IPython.notebook.execute_cells([6,7])"
      ],
      "text/plain": [
       "<IPython.core.display.Javascript object>"
      ]
     },
     "metadata": {},
     "output_type": "display_data"
    },
    {
     "data": {
      "application/javascript": [
       "IPython.notebook.execute_cells([6,7])"
      ],
      "text/plain": [
       "<IPython.core.display.Javascript object>"
      ]
     },
     "metadata": {},
     "output_type": "display_data"
    },
    {
     "data": {
      "application/javascript": [
       "IPython.notebook.execute_cells([6,7])"
      ],
      "text/plain": [
       "<IPython.core.display.Javascript object>"
      ]
     },
     "metadata": {},
     "output_type": "display_data"
    },
    {
     "data": {
      "application/javascript": [
       "IPython.notebook.execute_cells([6,7])"
      ],
      "text/plain": [
       "<IPython.core.display.Javascript object>"
      ]
     },
     "metadata": {},
     "output_type": "display_data"
    },
    {
     "data": {
      "application/javascript": [
       "IPython.notebook.execute_cells([6,7])"
      ],
      "text/plain": [
       "<IPython.core.display.Javascript object>"
      ]
     },
     "metadata": {},
     "output_type": "display_data"
    },
    {
     "data": {
      "application/javascript": [
       "IPython.notebook.execute_cells([6,7])"
      ],
      "text/plain": [
       "<IPython.core.display.Javascript object>"
      ]
     },
     "metadata": {},
     "output_type": "display_data"
    }
   ],
   "source": [
    "isi = find(ion_species.value,projectile_sym_str)\n",
    "iei = find(ion_energy.value,erg_options(isi))\n",
    "ftmi = find(target_material.value,target_mats_short)\n",
    "ftti = find(target_thickness.value,thicknesses)\n",
    "\n",
    "detectors_short = ['OLS','NaI']\n",
    "detectors_long = ['Organic Liquid Scintillator','Sodium Iodide']\n",
    "\n",
    "dt_label = widgets.Label(value=\"Select a detector type.\")\n",
    "\n",
    "detector_type = widgets.ToggleButtons(\n",
    "    options=detectors_short,\n",
    "    description='Type:',\n",
    "    disabled=False,\n",
    "    button_style='', # 'success', 'info', 'warning', 'danger' or ''\n",
    "    tooltips=detectors_long,\n",
    "#     icons=['check'] * 3\n",
    ")\n",
    "\n",
    "detector_type.observe(on_click_67, 'value')\n",
    "display(dt_label,detector_type)"
   ]
  },
  {
   "cell_type": "code",
   "execution_count": 309,
   "metadata": {},
   "outputs": [
    {
     "data": {
      "application/vnd.jupyter.widget-view+json": {
       "model_id": "c156efb012384375a9772a08949f86c8",
       "version_major": 2,
       "version_minor": 0
      },
      "text/html": [
       "<p>Failed to display Jupyter Widget of type <code>Label</code>.</p>\n",
       "<p>\n",
       "  If you're reading this message in the Jupyter Notebook or JupyterLab Notebook, it may mean\n",
       "  that the widgets JavaScript is still loading. If this message persists, it\n",
       "  likely means that the widgets JavaScript library is either not installed or\n",
       "  not enabled. See the <a href=\"https://ipywidgets.readthedocs.io/en/stable/user_install.html\">Jupyter\n",
       "  Widgets Documentation</a> for setup instructions.\n",
       "</p>\n",
       "<p>\n",
       "  If you're reading this message in another frontend (for example, a static\n",
       "  rendering on GitHub or <a href=\"https://nbviewer.jupyter.org/\">NBViewer</a>),\n",
       "  it may mean that your frontend doesn't currently support widgets.\n",
       "</p>\n"
      ],
      "text/plain": [
       "Label(value='Select which secondary particle to plot spectra for.')"
      ]
     },
     "metadata": {},
     "output_type": "display_data"
    },
    {
     "data": {
      "application/vnd.jupyter.widget-view+json": {
       "model_id": "b50737524002417384952cce5a46246d",
       "version_major": 2,
       "version_minor": 0
      },
      "text/html": [
       "<p>Failed to display Jupyter Widget of type <code>ToggleButtons</code>.</p>\n",
       "<p>\n",
       "  If you're reading this message in the Jupyter Notebook or JupyterLab Notebook, it may mean\n",
       "  that the widgets JavaScript is still loading. If this message persists, it\n",
       "  likely means that the widgets JavaScript library is either not installed or\n",
       "  not enabled. See the <a href=\"https://ipywidgets.readthedocs.io/en/stable/user_install.html\">Jupyter\n",
       "  Widgets Documentation</a> for setup instructions.\n",
       "</p>\n",
       "<p>\n",
       "  If you're reading this message in another frontend (for example, a static\n",
       "  rendering on GitHub or <a href=\"https://nbviewer.jupyter.org/\">NBViewer</a>),\n",
       "  it may mean that your frontend doesn't currently support widgets.\n",
       "</p>\n"
      ],
      "text/plain": [
       "ToggleButtons(description='Type:', options=('N', 'NDC', 'P (¹H)', 'D (²H)', 'T (³H)', 'S (³He)', 'A (⁴He)'), tooltips=['Neutron', 'Back Target Neutron', 'Proton', 'Deuteron', 'Triton', 'Helium-3', 'Helium-4'], value='N')"
      ]
     },
     "metadata": {},
     "output_type": "display_data"
    }
   ],
   "source": [
    "isi = find(ion_species.value,projectile_sym_str)\n",
    "iei = find(ion_energy.value,erg_options(isi))\n",
    "ftmi = find(target_material.value,target_mats_short)\n",
    "ftti = find(target_thickness.value,thicknesses)\n",
    "detti = find(detector_type.value,detectors_short)\n",
    "if detti==1: \n",
    "    add2deti = 6 # offset in matrix for NaI detectors\n",
    "else:\n",
    "    add2deti = 0 \n",
    "\n",
    "# See which secondary particles exist\n",
    "existing_pars_i = []\n",
    "for i in range(np.shape(mm_exists[0,isi,iei,ftmi,ftti,:,add2deti:(add2deti+6)])[0]):\n",
    "    if np.any(mm_exists[0,isi,iei,ftmi,ftti,i,add2deti:(add2deti+6)]):\n",
    "        existing_pars_i.append(i)\n",
    "        \n",
    "particles_long = ['Neutron','Back Target Neutron','Proton','Deuteron','Triton','Helium-3','Helium-4'] # second 'Neutron' can be renamed to specify deconvoluted origin\n",
    "particles_short = ['N','NDC','H','D','T','S','A']\n",
    "particles_med = ['N','NDC','P (\\u00B9H)','D (\\u00B2H)','T (\\u00B3H)','S (\\u00B3He)','A (\\u2074He)']\n",
    "\n",
    "present_pars_long = [particles_long[i] for i in existing_pars_i]\n",
    "present_pars_med = [particles_med[i] for i in existing_pars_i]\n",
    "\n",
    "sp_label = widgets.Label(value=\"Select which secondary particle to plot spectra for.\")\n",
    "\n",
    "secondary_particle = widgets.ToggleButtons(\n",
    "    options=present_pars_med,\n",
    "    description='Type:',\n",
    "    disabled=False,\n",
    "    button_style='', # 'success', 'info', 'warning', 'danger' or ''\n",
    "    tooltips=present_pars_long,\n",
    "#     icons=['check'] * 3\n",
    ")\n",
    "\n",
    "secondary_particle.observe(on_click_next, 'value')\n",
    "display(sp_label,secondary_particle)\n"
   ]
  },
  {
   "cell_type": "code",
   "execution_count": 310,
   "metadata": {},
   "outputs": [
    {
     "data": {
      "application/vnd.jupyter.widget-view+json": {
       "model_id": "b54cd38358294ce78244d9e7c728ace7",
       "version_major": 2,
       "version_minor": 0
      },
      "text/html": [
       "<p>Failed to display Jupyter Widget of type <code>Label</code>.</p>\n",
       "<p>\n",
       "  If you're reading this message in the Jupyter Notebook or JupyterLab Notebook, it may mean\n",
       "  that the widgets JavaScript is still loading. If this message persists, it\n",
       "  likely means that the widgets JavaScript library is either not installed or\n",
       "  not enabled. See the <a href=\"https://ipywidgets.readthedocs.io/en/stable/user_install.html\">Jupyter\n",
       "  Widgets Documentation</a> for setup instructions.\n",
       "</p>\n",
       "<p>\n",
       "  If you're reading this message in another frontend (for example, a static\n",
       "  rendering on GitHub or <a href=\"https://nbviewer.jupyter.org/\">NBViewer</a>),\n",
       "  it may mean that your frontend doesn't currently support widgets.\n",
       "</p>\n"
      ],
      "text/plain": [
       "Label(value='Select the detector angles to plot.')"
      ]
     },
     "metadata": {},
     "output_type": "display_data"
    },
    {
     "data": {
      "application/vnd.jupyter.widget-view+json": {
       "model_id": "36388920d45344afaf28795953003bb2",
       "version_major": 2,
       "version_minor": 0
      },
      "text/html": [
       "<p>Failed to display Jupyter Widget of type <code>Checkbox</code>.</p>\n",
       "<p>\n",
       "  If you're reading this message in the Jupyter Notebook or JupyterLab Notebook, it may mean\n",
       "  that the widgets JavaScript is still loading. If this message persists, it\n",
       "  likely means that the widgets JavaScript library is either not installed or\n",
       "  not enabled. See the <a href=\"https://ipywidgets.readthedocs.io/en/stable/user_install.html\">Jupyter\n",
       "  Widgets Documentation</a> for setup instructions.\n",
       "</p>\n",
       "<p>\n",
       "  If you're reading this message in another frontend (for example, a static\n",
       "  rendering on GitHub or <a href=\"https://nbviewer.jupyter.org/\">NBViewer</a>),\n",
       "  it may mean that your frontend doesn't currently support widgets.\n",
       "</p>\n"
      ],
      "text/plain": [
       "Checkbox(value=True, description='10°')"
      ]
     },
     "metadata": {},
     "output_type": "display_data"
    },
    {
     "data": {
      "application/vnd.jupyter.widget-view+json": {
       "model_id": "d66e9e1da2164125a564e01d377362dc",
       "version_major": 2,
       "version_minor": 0
      },
      "text/html": [
       "<p>Failed to display Jupyter Widget of type <code>Checkbox</code>.</p>\n",
       "<p>\n",
       "  If you're reading this message in the Jupyter Notebook or JupyterLab Notebook, it may mean\n",
       "  that the widgets JavaScript is still loading. If this message persists, it\n",
       "  likely means that the widgets JavaScript library is either not installed or\n",
       "  not enabled. See the <a href=\"https://ipywidgets.readthedocs.io/en/stable/user_install.html\">Jupyter\n",
       "  Widgets Documentation</a> for setup instructions.\n",
       "</p>\n",
       "<p>\n",
       "  If you're reading this message in another frontend (for example, a static\n",
       "  rendering on GitHub or <a href=\"https://nbviewer.jupyter.org/\">NBViewer</a>),\n",
       "  it may mean that your frontend doesn't currently support widgets.\n",
       "</p>\n"
      ],
      "text/plain": [
       "Checkbox(value=True, description='30°')"
      ]
     },
     "metadata": {},
     "output_type": "display_data"
    },
    {
     "data": {
      "application/vnd.jupyter.widget-view+json": {
       "model_id": "323f84bfbe314785a2ecd6c60cd1a770",
       "version_major": 2,
       "version_minor": 0
      },
      "text/html": [
       "<p>Failed to display Jupyter Widget of type <code>Checkbox</code>.</p>\n",
       "<p>\n",
       "  If you're reading this message in the Jupyter Notebook or JupyterLab Notebook, it may mean\n",
       "  that the widgets JavaScript is still loading. If this message persists, it\n",
       "  likely means that the widgets JavaScript library is either not installed or\n",
       "  not enabled. See the <a href=\"https://ipywidgets.readthedocs.io/en/stable/user_install.html\">Jupyter\n",
       "  Widgets Documentation</a> for setup instructions.\n",
       "</p>\n",
       "<p>\n",
       "  If you're reading this message in another frontend (for example, a static\n",
       "  rendering on GitHub or <a href=\"https://nbviewer.jupyter.org/\">NBViewer</a>),\n",
       "  it may mean that your frontend doesn't currently support widgets.\n",
       "</p>\n"
      ],
      "text/plain": [
       "Checkbox(value=True, description='45°')"
      ]
     },
     "metadata": {},
     "output_type": "display_data"
    },
    {
     "data": {
      "application/vnd.jupyter.widget-view+json": {
       "model_id": "25d18a439b1448f4aa9b1be7a72a3a9c",
       "version_major": 2,
       "version_minor": 0
      },
      "text/html": [
       "<p>Failed to display Jupyter Widget of type <code>Checkbox</code>.</p>\n",
       "<p>\n",
       "  If you're reading this message in the Jupyter Notebook or JupyterLab Notebook, it may mean\n",
       "  that the widgets JavaScript is still loading. If this message persists, it\n",
       "  likely means that the widgets JavaScript library is either not installed or\n",
       "  not enabled. See the <a href=\"https://ipywidgets.readthedocs.io/en/stable/user_install.html\">Jupyter\n",
       "  Widgets Documentation</a> for setup instructions.\n",
       "</p>\n",
       "<p>\n",
       "  If you're reading this message in another frontend (for example, a static\n",
       "  rendering on GitHub or <a href=\"https://nbviewer.jupyter.org/\">NBViewer</a>),\n",
       "  it may mean that your frontend doesn't currently support widgets.\n",
       "</p>\n"
      ],
      "text/plain": [
       "Checkbox(value=True, description='60°')"
      ]
     },
     "metadata": {},
     "output_type": "display_data"
    },
    {
     "data": {
      "application/vnd.jupyter.widget-view+json": {
       "model_id": "3c845cc2f9a644a0a84ab5c2544a2667",
       "version_major": 2,
       "version_minor": 0
      },
      "text/html": [
       "<p>Failed to display Jupyter Widget of type <code>Checkbox</code>.</p>\n",
       "<p>\n",
       "  If you're reading this message in the Jupyter Notebook or JupyterLab Notebook, it may mean\n",
       "  that the widgets JavaScript is still loading. If this message persists, it\n",
       "  likely means that the widgets JavaScript library is either not installed or\n",
       "  not enabled. See the <a href=\"https://ipywidgets.readthedocs.io/en/stable/user_install.html\">Jupyter\n",
       "  Widgets Documentation</a> for setup instructions.\n",
       "</p>\n",
       "<p>\n",
       "  If you're reading this message in another frontend (for example, a static\n",
       "  rendering on GitHub or <a href=\"https://nbviewer.jupyter.org/\">NBViewer</a>),\n",
       "  it may mean that your frontend doesn't currently support widgets.\n",
       "</p>\n"
      ],
      "text/plain": [
       "Checkbox(value=True, description='80°')"
      ]
     },
     "metadata": {},
     "output_type": "display_data"
    },
    {
     "data": {
      "application/vnd.jupyter.widget-view+json": {
       "model_id": "734c82d501444895a37836ded1539fe4",
       "version_major": 2,
       "version_minor": 0
      },
      "text/html": [
       "<p>Failed to display Jupyter Widget of type <code>Checkbox</code>.</p>\n",
       "<p>\n",
       "  If you're reading this message in the Jupyter Notebook or JupyterLab Notebook, it may mean\n",
       "  that the widgets JavaScript is still loading. If this message persists, it\n",
       "  likely means that the widgets JavaScript library is either not installed or\n",
       "  not enabled. See the <a href=\"https://ipywidgets.readthedocs.io/en/stable/user_install.html\">Jupyter\n",
       "  Widgets Documentation</a> for setup instructions.\n",
       "</p>\n",
       "<p>\n",
       "  If you're reading this message in another frontend (for example, a static\n",
       "  rendering on GitHub or <a href=\"https://nbviewer.jupyter.org/\">NBViewer</a>),\n",
       "  it may mean that your frontend doesn't currently support widgets.\n",
       "</p>\n"
      ],
      "text/plain": [
       "Checkbox(value=True, description='135°')"
      ]
     },
     "metadata": {},
     "output_type": "display_data"
    }
   ],
   "source": [
    "isi = find(ion_species.value,projectile_sym_str)\n",
    "iei = find(ion_energy.value,erg_options(isi))\n",
    "ftmi = find(target_material.value,target_mats_short)\n",
    "ftti = find(target_thickness.value,thicknesses)\n",
    "detti = find(detector_type.value,detectors_short)\n",
    "spi = find(secondary_particle.value,particles_med)\n",
    "\n",
    "detectors_angles = [['10\\u00B0','30\\u00B0','45\\u00B0','60\\u00B0','80\\u00B0','135\\u00B0'], ['7.2\\u00B0','10\\u00B0','12.7\\u00B0','28.2\\u00B0','30\\u00B0','32.7\\u00B0']]\n",
    "available_det_angles = []\n",
    "\n",
    "da_label = widgets.Label(value=\"Select the detector angles to plot.\")\n",
    "\n",
    "dets = []\n",
    "for i in range(6):\n",
    "    if mm_exists[0,isi,iei,ftmi,ftti,spi,(add2deti+i)]:\n",
    "        available_det_angles.append(detectors_angles[detti][i])\n",
    "        dets.append(widgets.Checkbox(\n",
    "            value=True,\n",
    "            description=detectors_angles[detti][i],\n",
    "            disabled=False\n",
    "        ))\n",
    "\n",
    "display(da_label)\n",
    "for i in range(6):\n",
    "    if mm_exists[0,isi,iei,ftmi,ftti,spi,(add2deti+i)]:\n",
    "        display(dets[i])"
   ]
  },
  {
   "cell_type": "code",
   "execution_count": 139,
   "metadata": {},
   "outputs": [
    {
     "data": {
      "application/vnd.jupyter.widget-view+json": {
       "model_id": "08d58697f638486b99cb49be5bfc44e1",
       "version_major": 2,
       "version_minor": 0
      },
      "text/html": [
       "<p>Failed to display Jupyter Widget of type <code>Label</code>.</p>\n",
       "<p>\n",
       "  If you're reading this message in the Jupyter Notebook or JupyterLab Notebook, it may mean\n",
       "  that the widgets JavaScript is still loading. If this message persists, it\n",
       "  likely means that the widgets JavaScript library is either not installed or\n",
       "  not enabled. See the <a href=\"https://ipywidgets.readthedocs.io/en/stable/user_install.html\">Jupyter\n",
       "  Widgets Documentation</a> for setup instructions.\n",
       "</p>\n",
       "<p>\n",
       "  If you're reading this message in another frontend (for example, a static\n",
       "  rendering on GitHub or <a href=\"https://nbviewer.jupyter.org/\">NBViewer</a>),\n",
       "  it may mean that your frontend doesn't currently support widgets.\n",
       "</p>\n"
      ],
      "text/plain": [
       "Label(value='Select which sets of data to display.')"
      ]
     },
     "metadata": {},
     "output_type": "display_data"
    },
    {
     "data": {
      "application/vnd.jupyter.widget-view+json": {
       "model_id": "e44d20033d354555bacf154b127e386b",
       "version_major": 2,
       "version_minor": 0
      },
      "text/html": [
       "<p>Failed to display Jupyter Widget of type <code>Checkbox</code>.</p>\n",
       "<p>\n",
       "  If you're reading this message in the Jupyter Notebook or JupyterLab Notebook, it may mean\n",
       "  that the widgets JavaScript is still loading. If this message persists, it\n",
       "  likely means that the widgets JavaScript library is either not installed or\n",
       "  not enabled. See the <a href=\"https://ipywidgets.readthedocs.io/en/stable/user_install.html\">Jupyter\n",
       "  Widgets Documentation</a> for setup instructions.\n",
       "</p>\n",
       "<p>\n",
       "  If you're reading this message in another frontend (for example, a static\n",
       "  rendering on GitHub or <a href=\"https://nbviewer.jupyter.org/\">NBViewer</a>),\n",
       "  it may mean that your frontend doesn't currently support widgets.\n",
       "</p>\n"
      ],
      "text/plain": [
       "Checkbox(value=True, description='Experiment')"
      ]
     },
     "metadata": {},
     "output_type": "display_data"
    },
    {
     "data": {
      "application/vnd.jupyter.widget-view+json": {
       "model_id": "6f351bd584ab450796da4736b674fe20",
       "version_major": 2,
       "version_minor": 0
      },
      "text/html": [
       "<p>Failed to display Jupyter Widget of type <code>Checkbox</code>.</p>\n",
       "<p>\n",
       "  If you're reading this message in the Jupyter Notebook or JupyterLab Notebook, it may mean\n",
       "  that the widgets JavaScript is still loading. If this message persists, it\n",
       "  likely means that the widgets JavaScript library is either not installed or\n",
       "  not enabled. See the <a href=\"https://ipywidgets.readthedocs.io/en/stable/user_install.html\">Jupyter\n",
       "  Widgets Documentation</a> for setup instructions.\n",
       "</p>\n",
       "<p>\n",
       "  If you're reading this message in another frontend (for example, a static\n",
       "  rendering on GitHub or <a href=\"https://nbviewer.jupyter.org/\">NBViewer</a>),\n",
       "  it may mean that your frontend doesn't currently support widgets.\n",
       "</p>\n"
      ],
      "text/plain": [
       "Checkbox(value=True, description='MCNP simulated')"
      ]
     },
     "metadata": {},
     "output_type": "display_data"
    },
    {
     "data": {
      "application/vnd.jupyter.widget-view+json": {
       "model_id": "4682b7b4e8994b67846f45c0cb5da7d6",
       "version_major": 2,
       "version_minor": 0
      },
      "text/html": [
       "<p>Failed to display Jupyter Widget of type <code>Checkbox</code>.</p>\n",
       "<p>\n",
       "  If you're reading this message in the Jupyter Notebook or JupyterLab Notebook, it may mean\n",
       "  that the widgets JavaScript is still loading. If this message persists, it\n",
       "  likely means that the widgets JavaScript library is either not installed or\n",
       "  not enabled. See the <a href=\"https://ipywidgets.readthedocs.io/en/stable/user_install.html\">Jupyter\n",
       "  Widgets Documentation</a> for setup instructions.\n",
       "</p>\n",
       "<p>\n",
       "  If you're reading this message in another frontend (for example, a static\n",
       "  rendering on GitHub or <a href=\"https://nbviewer.jupyter.org/\">NBViewer</a>),\n",
       "  it may mean that your frontend doesn't currently support widgets.\n",
       "</p>\n"
      ],
      "text/plain": [
       "Checkbox(value=True, description='PHITS simulated')"
      ]
     },
     "metadata": {},
     "output_type": "display_data"
    }
   ],
   "source": [
    "isi = find(ion_species.value,projectile_sym_str)\n",
    "iei = find(ion_energy.value,erg_options(isi))\n",
    "ftmi = find(target_material.value,target_mats_short)\n",
    "ftti = find(target_thickness.value,thicknesses)\n",
    "detti = find(detector_type.value,detectors_short)\n",
    "spi = find(secondary_particle.value,particles_med)\n",
    "\n",
    "det_angle_i_list = []\n",
    "for i in range(len(available_det_angles)):\n",
    "    if dets[i].value:\n",
    "        if detti == 0:\n",
    "            det_angle_i_list.append(find(available_det_angles[i],detectors_angles[detti]))\n",
    "        else:\n",
    "            det_angle_i_list.append(find(available_det_angles[i],detectors_angles[detti])+6) # for NaI\n",
    "\n",
    "ds_label = widgets.Label(value='Select which sets of data to display.')            \n",
    "\n",
    "data_set_names = ['Experiment','MCNP simulated','PHITS simulated']\n",
    "data_sets = []\n",
    "for i in range(3):\n",
    "    data_sets.append(widgets.Checkbox(\n",
    "        value=True,\n",
    "        description=data_set_names[i],\n",
    "        disabled=False\n",
    "    ))\n",
    "\n",
    "display(ds_label)\n",
    "for i in range(3):\n",
    "    display(data_sets[i])\n",
    "\n"
   ]
  },
  {
   "cell_type": "code",
   "execution_count": 140,
   "metadata": {},
   "outputs": [
    {
     "data": {
      "application/vnd.jupyter.widget-view+json": {
       "model_id": "ac94792156cc476d9591700ac59a1036",
       "version_major": 2,
       "version_minor": 0
      },
      "text/html": [
       "<p>Failed to display Jupyter Widget of type <code>Label</code>.</p>\n",
       "<p>\n",
       "  If you're reading this message in the Jupyter Notebook or JupyterLab Notebook, it may mean\n",
       "  that the widgets JavaScript is still loading. If this message persists, it\n",
       "  likely means that the widgets JavaScript library is either not installed or\n",
       "  not enabled. See the <a href=\"https://ipywidgets.readthedocs.io/en/stable/user_install.html\">Jupyter\n",
       "  Widgets Documentation</a> for setup instructions.\n",
       "</p>\n",
       "<p>\n",
       "  If you're reading this message in another frontend (for example, a static\n",
       "  rendering on GitHub or <a href=\"https://nbviewer.jupyter.org/\">NBViewer</a>),\n",
       "  it may mean that your frontend doesn't currently support widgets.\n",
       "</p>\n"
      ],
      "text/plain": [
       "Label(value='Select how data sets for each detector should be spaced apart (if at all).')"
      ]
     },
     "metadata": {},
     "output_type": "display_data"
    },
    {
     "data": {
      "application/vnd.jupyter.widget-view+json": {
       "model_id": "1bc46e5d5e1f48d5b641fbe1495dafa2",
       "version_major": 2,
       "version_minor": 0
      },
      "text/html": [
       "<p>Failed to display Jupyter Widget of type <code>ToggleButtons</code>.</p>\n",
       "<p>\n",
       "  If you're reading this message in the Jupyter Notebook or JupyterLab Notebook, it may mean\n",
       "  that the widgets JavaScript is still loading. If this message persists, it\n",
       "  likely means that the widgets JavaScript library is either not installed or\n",
       "  not enabled. See the <a href=\"https://ipywidgets.readthedocs.io/en/stable/user_install.html\">Jupyter\n",
       "  Widgets Documentation</a> for setup instructions.\n",
       "</p>\n",
       "<p>\n",
       "  If you're reading this message in another frontend (for example, a static\n",
       "  rendering on GitHub or <a href=\"https://nbviewer.jupyter.org/\">NBViewer</a>),\n",
       "  it may mean that your frontend doesn't currently support widgets.\n",
       "</p>\n"
      ],
      "text/plain": [
       "ToggleButtons(description='Spacing:', options=('None', 'Spaced by 10²'), tooltips=['All values are presented as is.', 'Plots for different detectors are multiplied by powers of 10² for easier viewing.'], value='None')"
      ]
     },
     "metadata": {},
     "output_type": "display_data"
    },
    {
     "data": {
      "application/javascript": [
       "IPython.notebook.execute_cells([IPython.notebook.get_selected_index()+1])"
      ],
      "text/plain": [
       "<IPython.core.display.Javascript object>"
      ]
     },
     "metadata": {},
     "output_type": "display_data"
    },
    {
     "data": {
      "application/javascript": [
       "IPython.notebook.execute_cells([IPython.notebook.get_selected_index()+1])"
      ],
      "text/plain": [
       "<IPython.core.display.Javascript object>"
      ]
     },
     "metadata": {},
     "output_type": "display_data"
    },
    {
     "data": {
      "application/javascript": [
       "IPython.notebook.execute_cells([IPython.notebook.get_selected_index()+1])"
      ],
      "text/plain": [
       "<IPython.core.display.Javascript object>"
      ]
     },
     "metadata": {},
     "output_type": "display_data"
    },
    {
     "data": {
      "application/javascript": [
       "IPython.notebook.execute_cells([IPython.notebook.get_selected_index()+1])"
      ],
      "text/plain": [
       "<IPython.core.display.Javascript object>"
      ]
     },
     "metadata": {},
     "output_type": "display_data"
    },
    {
     "data": {
      "application/javascript": [
       "IPython.notebook.execute_cells([IPython.notebook.get_selected_index()+1])"
      ],
      "text/plain": [
       "<IPython.core.display.Javascript object>"
      ]
     },
     "metadata": {},
     "output_type": "display_data"
    },
    {
     "data": {
      "application/javascript": [
       "IPython.notebook.execute_cells([IPython.notebook.get_selected_index()+1])"
      ],
      "text/plain": [
       "<IPython.core.display.Javascript object>"
      ]
     },
     "metadata": {},
     "output_type": "display_data"
    },
    {
     "data": {
      "application/javascript": [
       "IPython.notebook.execute_cells([IPython.notebook.get_selected_index()+1])"
      ],
      "text/plain": [
       "<IPython.core.display.Javascript object>"
      ]
     },
     "metadata": {},
     "output_type": "display_data"
    },
    {
     "data": {
      "application/javascript": [
       "IPython.notebook.execute_cells([IPython.notebook.get_selected_index()+1])"
      ],
      "text/plain": [
       "<IPython.core.display.Javascript object>"
      ]
     },
     "metadata": {},
     "output_type": "display_data"
    },
    {
     "data": {
      "application/javascript": [
       "IPython.notebook.execute_cells([IPython.notebook.get_selected_index()+1])"
      ],
      "text/plain": [
       "<IPython.core.display.Javascript object>"
      ]
     },
     "metadata": {},
     "output_type": "display_data"
    },
    {
     "data": {
      "application/javascript": [
       "IPython.notebook.execute_cells([IPython.notebook.get_selected_index()+1])"
      ],
      "text/plain": [
       "<IPython.core.display.Javascript object>"
      ]
     },
     "metadata": {},
     "output_type": "display_data"
    }
   ],
   "source": [
    "isi = find(ion_species.value,projectile_sym_str)\n",
    "iei = find(ion_energy.value,erg_options(isi))\n",
    "ftmi = find(target_material.value,target_mats_short)\n",
    "ftti = find(target_thickness.value,thicknesses)\n",
    "detti = find(detector_type.value,detectors_short)\n",
    "spi = find(secondary_particle.value,particles_med)\n",
    "\n",
    "det_angle_i_list = []\n",
    "for i in range(len(available_det_angles)):\n",
    "    if dets[i].value:\n",
    "        if detti == 0:\n",
    "            det_angle_i_list.append(find(available_det_angles[i],detectors_angles[detti]))\n",
    "        else:\n",
    "            det_angle_i_list.append(find(available_det_angles[i],detectors_angles[detti])+6) # for NaI\n",
    "            \n",
    "data_set_i_list = []\n",
    "for i in range(3):\n",
    "    if data_sets[i].value:\n",
    "        data_set_i_list.append(i)\n",
    "\n",
    "spacing_short = ['None','Spaced by 10\\u00B2']\n",
    "spacing_long = ['All values are presented as is.','Plots for different detectors are multiplied by powers of 10\\u00B2 for easier viewing.']\n",
    "\n",
    "spacing_label = widgets.Label(value='Select how data sets for each detector should be spaced apart (if at all).')  \n",
    "\n",
    "spacing_choice = widgets.ToggleButtons(\n",
    "    options=spacing_short,\n",
    "    description='Spacing:',\n",
    "    disabled=False,\n",
    "    button_style='', # 'success', 'info', 'warning', 'danger' or ''\n",
    "    tooltips=spacing_long,\n",
    "#     icons=['check'] * 3\n",
    ")\n",
    "\n",
    "spacing_choice.observe(on_click_next, 'value')\n",
    "display(spacing_label, spacing_choice)"
   ]
  },
  {
   "cell_type": "code",
   "execution_count": 364,
   "metadata": {},
   "outputs": [
    {
     "data": {
      "application/vnd.jupyter.widget-view+json": {
       "model_id": "2dc67586f2cd47719d04cad1f7a44a61",
       "version_major": 2,
       "version_minor": 0
      },
      "text/html": [
       "<p>Failed to display Jupyter Widget of type <code>Button</code>.</p>\n",
       "<p>\n",
       "  If you're reading this message in the Jupyter Notebook or JupyterLab Notebook, it may mean\n",
       "  that the widgets JavaScript is still loading. If this message persists, it\n",
       "  likely means that the widgets JavaScript library is either not installed or\n",
       "  not enabled. See the <a href=\"https://ipywidgets.readthedocs.io/en/stable/user_install.html\">Jupyter\n",
       "  Widgets Documentation</a> for setup instructions.\n",
       "</p>\n",
       "<p>\n",
       "  If you're reading this message in another frontend (for example, a static\n",
       "  rendering on GitHub or <a href=\"https://nbviewer.jupyter.org/\">NBViewer</a>),\n",
       "  it may mean that your frontend doesn't currently support widgets.\n",
       "</p>\n"
      ],
      "text/plain": [
       "Button(description='Update plot', icon='check', style=ButtonStyle(), tooltip='Click me')"
      ]
     },
     "metadata": {},
     "output_type": "display_data"
    },
    {
     "data": {
      "application/javascript": [
       "IPython.notebook.execute_cells([IPython.notebook.get_selected_index()+1])"
      ],
      "text/plain": [
       "<IPython.core.display.Javascript object>"
      ]
     },
     "metadata": {},
     "output_type": "display_data"
    }
   ],
   "source": [
    "make_plot_button = widgets.Button(\n",
    "    description='Update plot',\n",
    "    disabled=False,\n",
    "    button_style='', # 'success', 'info', 'warning', 'danger' or ''\n",
    "    tooltip='Click me',\n",
    "    icon='check'\n",
    ")\n",
    "\n",
    "#make_plot_button.observe(on_click_next, 'value')\n",
    "display(make_plot_button)\n",
    "make_plot_button.on_click(on_click_next)"
   ]
  },
  {
   "cell_type": "code",
   "execution_count": 366,
   "metadata": {},
   "outputs": [
    {
     "data": {
      "application/javascript": [
       "/* Put everything inside the global mpl namespace */\n",
       "window.mpl = {};\n",
       "\n",
       "\n",
       "mpl.get_websocket_type = function() {\n",
       "    if (typeof(WebSocket) !== 'undefined') {\n",
       "        return WebSocket;\n",
       "    } else if (typeof(MozWebSocket) !== 'undefined') {\n",
       "        return MozWebSocket;\n",
       "    } else {\n",
       "        alert('Your browser does not have WebSocket support.' +\n",
       "              'Please try Chrome, Safari or Firefox ≥ 6. ' +\n",
       "              'Firefox 4 and 5 are also supported but you ' +\n",
       "              'have to enable WebSockets in about:config.');\n",
       "    };\n",
       "}\n",
       "\n",
       "mpl.figure = function(figure_id, websocket, ondownload, parent_element) {\n",
       "    this.id = figure_id;\n",
       "\n",
       "    this.ws = websocket;\n",
       "\n",
       "    this.supports_binary = (this.ws.binaryType != undefined);\n",
       "\n",
       "    if (!this.supports_binary) {\n",
       "        var warnings = document.getElementById(\"mpl-warnings\");\n",
       "        if (warnings) {\n",
       "            warnings.style.display = 'block';\n",
       "            warnings.textContent = (\n",
       "                \"This browser does not support binary websocket messages. \" +\n",
       "                    \"Performance may be slow.\");\n",
       "        }\n",
       "    }\n",
       "\n",
       "    this.imageObj = new Image();\n",
       "\n",
       "    this.context = undefined;\n",
       "    this.message = undefined;\n",
       "    this.canvas = undefined;\n",
       "    this.rubberband_canvas = undefined;\n",
       "    this.rubberband_context = undefined;\n",
       "    this.format_dropdown = undefined;\n",
       "\n",
       "    this.image_mode = 'full';\n",
       "\n",
       "    this.root = $('<div/>');\n",
       "    this._root_extra_style(this.root)\n",
       "    this.root.attr('style', 'display: inline-block');\n",
       "\n",
       "    $(parent_element).append(this.root);\n",
       "\n",
       "    this._init_header(this);\n",
       "    this._init_canvas(this);\n",
       "    this._init_toolbar(this);\n",
       "\n",
       "    var fig = this;\n",
       "\n",
       "    this.waiting = false;\n",
       "\n",
       "    this.ws.onopen =  function () {\n",
       "            fig.send_message(\"supports_binary\", {value: fig.supports_binary});\n",
       "            fig.send_message(\"send_image_mode\", {});\n",
       "            if (mpl.ratio != 1) {\n",
       "                fig.send_message(\"set_dpi_ratio\", {'dpi_ratio': mpl.ratio});\n",
       "            }\n",
       "            fig.send_message(\"refresh\", {});\n",
       "        }\n",
       "\n",
       "    this.imageObj.onload = function() {\n",
       "            if (fig.image_mode == 'full') {\n",
       "                // Full images could contain transparency (where diff images\n",
       "                // almost always do), so we need to clear the canvas so that\n",
       "                // there is no ghosting.\n",
       "                fig.context.clearRect(0, 0, fig.canvas.width, fig.canvas.height);\n",
       "            }\n",
       "            fig.context.drawImage(fig.imageObj, 0, 0);\n",
       "        };\n",
       "\n",
       "    this.imageObj.onunload = function() {\n",
       "        fig.ws.close();\n",
       "    }\n",
       "\n",
       "    this.ws.onmessage = this._make_on_message_function(this);\n",
       "\n",
       "    this.ondownload = ondownload;\n",
       "}\n",
       "\n",
       "mpl.figure.prototype._init_header = function() {\n",
       "    var titlebar = $(\n",
       "        '<div class=\"ui-dialog-titlebar ui-widget-header ui-corner-all ' +\n",
       "        'ui-helper-clearfix\"/>');\n",
       "    var titletext = $(\n",
       "        '<div class=\"ui-dialog-title\" style=\"width: 100%; ' +\n",
       "        'text-align: center; padding: 3px;\"/>');\n",
       "    titlebar.append(titletext)\n",
       "    this.root.append(titlebar);\n",
       "    this.header = titletext[0];\n",
       "}\n",
       "\n",
       "\n",
       "\n",
       "mpl.figure.prototype._canvas_extra_style = function(canvas_div) {\n",
       "\n",
       "}\n",
       "\n",
       "\n",
       "mpl.figure.prototype._root_extra_style = function(canvas_div) {\n",
       "\n",
       "}\n",
       "\n",
       "mpl.figure.prototype._init_canvas = function() {\n",
       "    var fig = this;\n",
       "\n",
       "    var canvas_div = $('<div/>');\n",
       "\n",
       "    canvas_div.attr('style', 'position: relative; clear: both; outline: 0');\n",
       "\n",
       "    function canvas_keyboard_event(event) {\n",
       "        return fig.key_event(event, event['data']);\n",
       "    }\n",
       "\n",
       "    canvas_div.keydown('key_press', canvas_keyboard_event);\n",
       "    canvas_div.keyup('key_release', canvas_keyboard_event);\n",
       "    this.canvas_div = canvas_div\n",
       "    this._canvas_extra_style(canvas_div)\n",
       "    this.root.append(canvas_div);\n",
       "\n",
       "    var canvas = $('<canvas/>');\n",
       "    canvas.addClass('mpl-canvas');\n",
       "    canvas.attr('style', \"left: 0; top: 0; z-index: 0; outline: 0\")\n",
       "\n",
       "    this.canvas = canvas[0];\n",
       "    this.context = canvas[0].getContext(\"2d\");\n",
       "\n",
       "    var backingStore = this.context.backingStorePixelRatio ||\n",
       "\tthis.context.webkitBackingStorePixelRatio ||\n",
       "\tthis.context.mozBackingStorePixelRatio ||\n",
       "\tthis.context.msBackingStorePixelRatio ||\n",
       "\tthis.context.oBackingStorePixelRatio ||\n",
       "\tthis.context.backingStorePixelRatio || 1;\n",
       "\n",
       "    mpl.ratio = (window.devicePixelRatio || 1) / backingStore;\n",
       "\n",
       "    var rubberband = $('<canvas/>');\n",
       "    rubberband.attr('style', \"position: absolute; left: 0; top: 0; z-index: 1;\")\n",
       "\n",
       "    var pass_mouse_events = true;\n",
       "\n",
       "    canvas_div.resizable({\n",
       "        start: function(event, ui) {\n",
       "            pass_mouse_events = false;\n",
       "        },\n",
       "        resize: function(event, ui) {\n",
       "            fig.request_resize(ui.size.width, ui.size.height);\n",
       "        },\n",
       "        stop: function(event, ui) {\n",
       "            pass_mouse_events = true;\n",
       "            fig.request_resize(ui.size.width, ui.size.height);\n",
       "        },\n",
       "    });\n",
       "\n",
       "    function mouse_event_fn(event) {\n",
       "        if (pass_mouse_events)\n",
       "            return fig.mouse_event(event, event['data']);\n",
       "    }\n",
       "\n",
       "    rubberband.mousedown('button_press', mouse_event_fn);\n",
       "    rubberband.mouseup('button_release', mouse_event_fn);\n",
       "    // Throttle sequential mouse events to 1 every 20ms.\n",
       "    rubberband.mousemove('motion_notify', mouse_event_fn);\n",
       "\n",
       "    rubberband.mouseenter('figure_enter', mouse_event_fn);\n",
       "    rubberband.mouseleave('figure_leave', mouse_event_fn);\n",
       "\n",
       "    canvas_div.on(\"wheel\", function (event) {\n",
       "        event = event.originalEvent;\n",
       "        event['data'] = 'scroll'\n",
       "        if (event.deltaY < 0) {\n",
       "            event.step = 1;\n",
       "        } else {\n",
       "            event.step = -1;\n",
       "        }\n",
       "        mouse_event_fn(event);\n",
       "    });\n",
       "\n",
       "    canvas_div.append(canvas);\n",
       "    canvas_div.append(rubberband);\n",
       "\n",
       "    this.rubberband = rubberband;\n",
       "    this.rubberband_canvas = rubberband[0];\n",
       "    this.rubberband_context = rubberband[0].getContext(\"2d\");\n",
       "    this.rubberband_context.strokeStyle = \"#000000\";\n",
       "\n",
       "    this._resize_canvas = function(width, height) {\n",
       "        // Keep the size of the canvas, canvas container, and rubber band\n",
       "        // canvas in synch.\n",
       "        canvas_div.css('width', width)\n",
       "        canvas_div.css('height', height)\n",
       "\n",
       "        canvas.attr('width', width * mpl.ratio);\n",
       "        canvas.attr('height', height * mpl.ratio);\n",
       "        canvas.attr('style', 'width: ' + width + 'px; height: ' + height + 'px;');\n",
       "\n",
       "        rubberband.attr('width', width);\n",
       "        rubberband.attr('height', height);\n",
       "    }\n",
       "\n",
       "    // Set the figure to an initial 600x600px, this will subsequently be updated\n",
       "    // upon first draw.\n",
       "    this._resize_canvas(600, 600);\n",
       "\n",
       "    // Disable right mouse context menu.\n",
       "    $(this.rubberband_canvas).bind(\"contextmenu\",function(e){\n",
       "        return false;\n",
       "    });\n",
       "\n",
       "    function set_focus () {\n",
       "        canvas.focus();\n",
       "        canvas_div.focus();\n",
       "    }\n",
       "\n",
       "    window.setTimeout(set_focus, 100);\n",
       "}\n",
       "\n",
       "mpl.figure.prototype._init_toolbar = function() {\n",
       "    var fig = this;\n",
       "\n",
       "    var nav_element = $('<div/>')\n",
       "    nav_element.attr('style', 'width: 100%');\n",
       "    this.root.append(nav_element);\n",
       "\n",
       "    // Define a callback function for later on.\n",
       "    function toolbar_event(event) {\n",
       "        return fig.toolbar_button_onclick(event['data']);\n",
       "    }\n",
       "    function toolbar_mouse_event(event) {\n",
       "        return fig.toolbar_button_onmouseover(event['data']);\n",
       "    }\n",
       "\n",
       "    for(var toolbar_ind in mpl.toolbar_items) {\n",
       "        var name = mpl.toolbar_items[toolbar_ind][0];\n",
       "        var tooltip = mpl.toolbar_items[toolbar_ind][1];\n",
       "        var image = mpl.toolbar_items[toolbar_ind][2];\n",
       "        var method_name = mpl.toolbar_items[toolbar_ind][3];\n",
       "\n",
       "        if (!name) {\n",
       "            // put a spacer in here.\n",
       "            continue;\n",
       "        }\n",
       "        var button = $('<button/>');\n",
       "        button.addClass('ui-button ui-widget ui-state-default ui-corner-all ' +\n",
       "                        'ui-button-icon-only');\n",
       "        button.attr('role', 'button');\n",
       "        button.attr('aria-disabled', 'false');\n",
       "        button.click(method_name, toolbar_event);\n",
       "        button.mouseover(tooltip, toolbar_mouse_event);\n",
       "\n",
       "        var icon_img = $('<span/>');\n",
       "        icon_img.addClass('ui-button-icon-primary ui-icon');\n",
       "        icon_img.addClass(image);\n",
       "        icon_img.addClass('ui-corner-all');\n",
       "\n",
       "        var tooltip_span = $('<span/>');\n",
       "        tooltip_span.addClass('ui-button-text');\n",
       "        tooltip_span.html(tooltip);\n",
       "\n",
       "        button.append(icon_img);\n",
       "        button.append(tooltip_span);\n",
       "\n",
       "        nav_element.append(button);\n",
       "    }\n",
       "\n",
       "    var fmt_picker_span = $('<span/>');\n",
       "\n",
       "    var fmt_picker = $('<select/>');\n",
       "    fmt_picker.addClass('mpl-toolbar-option ui-widget ui-widget-content');\n",
       "    fmt_picker_span.append(fmt_picker);\n",
       "    nav_element.append(fmt_picker_span);\n",
       "    this.format_dropdown = fmt_picker[0];\n",
       "\n",
       "    for (var ind in mpl.extensions) {\n",
       "        var fmt = mpl.extensions[ind];\n",
       "        var option = $(\n",
       "            '<option/>', {selected: fmt === mpl.default_extension}).html(fmt);\n",
       "        fmt_picker.append(option)\n",
       "    }\n",
       "\n",
       "    // Add hover states to the ui-buttons\n",
       "    $( \".ui-button\" ).hover(\n",
       "        function() { $(this).addClass(\"ui-state-hover\");},\n",
       "        function() { $(this).removeClass(\"ui-state-hover\");}\n",
       "    );\n",
       "\n",
       "    var status_bar = $('<span class=\"mpl-message\"/>');\n",
       "    nav_element.append(status_bar);\n",
       "    this.message = status_bar[0];\n",
       "}\n",
       "\n",
       "mpl.figure.prototype.request_resize = function(x_pixels, y_pixels) {\n",
       "    // Request matplotlib to resize the figure. Matplotlib will then trigger a resize in the client,\n",
       "    // which will in turn request a refresh of the image.\n",
       "    this.send_message('resize', {'width': x_pixels, 'height': y_pixels});\n",
       "}\n",
       "\n",
       "mpl.figure.prototype.send_message = function(type, properties) {\n",
       "    properties['type'] = type;\n",
       "    properties['figure_id'] = this.id;\n",
       "    this.ws.send(JSON.stringify(properties));\n",
       "}\n",
       "\n",
       "mpl.figure.prototype.send_draw_message = function() {\n",
       "    if (!this.waiting) {\n",
       "        this.waiting = true;\n",
       "        this.ws.send(JSON.stringify({type: \"draw\", figure_id: this.id}));\n",
       "    }\n",
       "}\n",
       "\n",
       "\n",
       "mpl.figure.prototype.handle_save = function(fig, msg) {\n",
       "    var format_dropdown = fig.format_dropdown;\n",
       "    var format = format_dropdown.options[format_dropdown.selectedIndex].value;\n",
       "    fig.ondownload(fig, format);\n",
       "}\n",
       "\n",
       "\n",
       "mpl.figure.prototype.handle_resize = function(fig, msg) {\n",
       "    var size = msg['size'];\n",
       "    if (size[0] != fig.canvas.width || size[1] != fig.canvas.height) {\n",
       "        fig._resize_canvas(size[0], size[1]);\n",
       "        fig.send_message(\"refresh\", {});\n",
       "    };\n",
       "}\n",
       "\n",
       "mpl.figure.prototype.handle_rubberband = function(fig, msg) {\n",
       "    var x0 = msg['x0'] / mpl.ratio;\n",
       "    var y0 = (fig.canvas.height - msg['y0']) / mpl.ratio;\n",
       "    var x1 = msg['x1'] / mpl.ratio;\n",
       "    var y1 = (fig.canvas.height - msg['y1']) / mpl.ratio;\n",
       "    x0 = Math.floor(x0) + 0.5;\n",
       "    y0 = Math.floor(y0) + 0.5;\n",
       "    x1 = Math.floor(x1) + 0.5;\n",
       "    y1 = Math.floor(y1) + 0.5;\n",
       "    var min_x = Math.min(x0, x1);\n",
       "    var min_y = Math.min(y0, y1);\n",
       "    var width = Math.abs(x1 - x0);\n",
       "    var height = Math.abs(y1 - y0);\n",
       "\n",
       "    fig.rubberband_context.clearRect(\n",
       "        0, 0, fig.canvas.width, fig.canvas.height);\n",
       "\n",
       "    fig.rubberband_context.strokeRect(min_x, min_y, width, height);\n",
       "}\n",
       "\n",
       "mpl.figure.prototype.handle_figure_label = function(fig, msg) {\n",
       "    // Updates the figure title.\n",
       "    fig.header.textContent = msg['label'];\n",
       "}\n",
       "\n",
       "mpl.figure.prototype.handle_cursor = function(fig, msg) {\n",
       "    var cursor = msg['cursor'];\n",
       "    switch(cursor)\n",
       "    {\n",
       "    case 0:\n",
       "        cursor = 'pointer';\n",
       "        break;\n",
       "    case 1:\n",
       "        cursor = 'default';\n",
       "        break;\n",
       "    case 2:\n",
       "        cursor = 'crosshair';\n",
       "        break;\n",
       "    case 3:\n",
       "        cursor = 'move';\n",
       "        break;\n",
       "    }\n",
       "    fig.rubberband_canvas.style.cursor = cursor;\n",
       "}\n",
       "\n",
       "mpl.figure.prototype.handle_message = function(fig, msg) {\n",
       "    fig.message.textContent = msg['message'];\n",
       "}\n",
       "\n",
       "mpl.figure.prototype.handle_draw = function(fig, msg) {\n",
       "    // Request the server to send over a new figure.\n",
       "    fig.send_draw_message();\n",
       "}\n",
       "\n",
       "mpl.figure.prototype.handle_image_mode = function(fig, msg) {\n",
       "    fig.image_mode = msg['mode'];\n",
       "}\n",
       "\n",
       "mpl.figure.prototype.updated_canvas_event = function() {\n",
       "    // Called whenever the canvas gets updated.\n",
       "    this.send_message(\"ack\", {});\n",
       "}\n",
       "\n",
       "// A function to construct a web socket function for onmessage handling.\n",
       "// Called in the figure constructor.\n",
       "mpl.figure.prototype._make_on_message_function = function(fig) {\n",
       "    return function socket_on_message(evt) {\n",
       "        if (evt.data instanceof Blob) {\n",
       "            /* FIXME: We get \"Resource interpreted as Image but\n",
       "             * transferred with MIME type text/plain:\" errors on\n",
       "             * Chrome.  But how to set the MIME type?  It doesn't seem\n",
       "             * to be part of the websocket stream */\n",
       "            evt.data.type = \"image/png\";\n",
       "\n",
       "            /* Free the memory for the previous frames */\n",
       "            if (fig.imageObj.src) {\n",
       "                (window.URL || window.webkitURL).revokeObjectURL(\n",
       "                    fig.imageObj.src);\n",
       "            }\n",
       "\n",
       "            fig.imageObj.src = (window.URL || window.webkitURL).createObjectURL(\n",
       "                evt.data);\n",
       "            fig.updated_canvas_event();\n",
       "            fig.waiting = false;\n",
       "            return;\n",
       "        }\n",
       "        else if (typeof evt.data === 'string' && evt.data.slice(0, 21) == \"data:image/png;base64\") {\n",
       "            fig.imageObj.src = evt.data;\n",
       "            fig.updated_canvas_event();\n",
       "            fig.waiting = false;\n",
       "            return;\n",
       "        }\n",
       "\n",
       "        var msg = JSON.parse(evt.data);\n",
       "        var msg_type = msg['type'];\n",
       "\n",
       "        // Call the  \"handle_{type}\" callback, which takes\n",
       "        // the figure and JSON message as its only arguments.\n",
       "        try {\n",
       "            var callback = fig[\"handle_\" + msg_type];\n",
       "        } catch (e) {\n",
       "            console.log(\"No handler for the '\" + msg_type + \"' message type: \", msg);\n",
       "            return;\n",
       "        }\n",
       "\n",
       "        if (callback) {\n",
       "            try {\n",
       "                // console.log(\"Handling '\" + msg_type + \"' message: \", msg);\n",
       "                callback(fig, msg);\n",
       "            } catch (e) {\n",
       "                console.log(\"Exception inside the 'handler_\" + msg_type + \"' callback:\", e, e.stack, msg);\n",
       "            }\n",
       "        }\n",
       "    };\n",
       "}\n",
       "\n",
       "// from http://stackoverflow.com/questions/1114465/getting-mouse-location-in-canvas\n",
       "mpl.findpos = function(e) {\n",
       "    //this section is from http://www.quirksmode.org/js/events_properties.html\n",
       "    var targ;\n",
       "    if (!e)\n",
       "        e = window.event;\n",
       "    if (e.target)\n",
       "        targ = e.target;\n",
       "    else if (e.srcElement)\n",
       "        targ = e.srcElement;\n",
       "    if (targ.nodeType == 3) // defeat Safari bug\n",
       "        targ = targ.parentNode;\n",
       "\n",
       "    // jQuery normalizes the pageX and pageY\n",
       "    // pageX,Y are the mouse positions relative to the document\n",
       "    // offset() returns the position of the element relative to the document\n",
       "    var x = e.pageX - $(targ).offset().left;\n",
       "    var y = e.pageY - $(targ).offset().top;\n",
       "\n",
       "    return {\"x\": x, \"y\": y};\n",
       "};\n",
       "\n",
       "/*\n",
       " * return a copy of an object with only non-object keys\n",
       " * we need this to avoid circular references\n",
       " * http://stackoverflow.com/a/24161582/3208463\n",
       " */\n",
       "function simpleKeys (original) {\n",
       "  return Object.keys(original).reduce(function (obj, key) {\n",
       "    if (typeof original[key] !== 'object')\n",
       "        obj[key] = original[key]\n",
       "    return obj;\n",
       "  }, {});\n",
       "}\n",
       "\n",
       "mpl.figure.prototype.mouse_event = function(event, name) {\n",
       "    var canvas_pos = mpl.findpos(event)\n",
       "\n",
       "    if (name === 'button_press')\n",
       "    {\n",
       "        this.canvas.focus();\n",
       "        this.canvas_div.focus();\n",
       "    }\n",
       "\n",
       "    var x = canvas_pos.x * mpl.ratio;\n",
       "    var y = canvas_pos.y * mpl.ratio;\n",
       "\n",
       "    this.send_message(name, {x: x, y: y, button: event.button,\n",
       "                             step: event.step,\n",
       "                             guiEvent: simpleKeys(event)});\n",
       "\n",
       "    /* This prevents the web browser from automatically changing to\n",
       "     * the text insertion cursor when the button is pressed.  We want\n",
       "     * to control all of the cursor setting manually through the\n",
       "     * 'cursor' event from matplotlib */\n",
       "    event.preventDefault();\n",
       "    return false;\n",
       "}\n",
       "\n",
       "mpl.figure.prototype._key_event_extra = function(event, name) {\n",
       "    // Handle any extra behaviour associated with a key event\n",
       "}\n",
       "\n",
       "mpl.figure.prototype.key_event = function(event, name) {\n",
       "\n",
       "    // Prevent repeat events\n",
       "    if (name == 'key_press')\n",
       "    {\n",
       "        if (event.which === this._key)\n",
       "            return;\n",
       "        else\n",
       "            this._key = event.which;\n",
       "    }\n",
       "    if (name == 'key_release')\n",
       "        this._key = null;\n",
       "\n",
       "    var value = '';\n",
       "    if (event.ctrlKey && event.which != 17)\n",
       "        value += \"ctrl+\";\n",
       "    if (event.altKey && event.which != 18)\n",
       "        value += \"alt+\";\n",
       "    if (event.shiftKey && event.which != 16)\n",
       "        value += \"shift+\";\n",
       "\n",
       "    value += 'k';\n",
       "    value += event.which.toString();\n",
       "\n",
       "    this._key_event_extra(event, name);\n",
       "\n",
       "    this.send_message(name, {key: value,\n",
       "                             guiEvent: simpleKeys(event)});\n",
       "    return false;\n",
       "}\n",
       "\n",
       "mpl.figure.prototype.toolbar_button_onclick = function(name) {\n",
       "    if (name == 'download') {\n",
       "        this.handle_save(this, null);\n",
       "    } else {\n",
       "        this.send_message(\"toolbar_button\", {name: name});\n",
       "    }\n",
       "};\n",
       "\n",
       "mpl.figure.prototype.toolbar_button_onmouseover = function(tooltip) {\n",
       "    this.message.textContent = tooltip;\n",
       "};\n",
       "mpl.toolbar_items = [[\"Home\", \"Reset original view\", \"fa fa-home icon-home\", \"home\"], [\"Back\", \"Back to  previous view\", \"fa fa-arrow-left icon-arrow-left\", \"back\"], [\"Forward\", \"Forward to next view\", \"fa fa-arrow-right icon-arrow-right\", \"forward\"], [\"\", \"\", \"\", \"\"], [\"Pan\", \"Pan axes with left mouse, zoom with right\", \"fa fa-arrows icon-move\", \"pan\"], [\"Zoom\", \"Zoom to rectangle\", \"fa fa-square-o icon-check-empty\", \"zoom\"], [\"\", \"\", \"\", \"\"], [\"Download\", \"Download plot\", \"fa fa-floppy-o icon-save\", \"download\"]];\n",
       "\n",
       "mpl.extensions = [\"eps\", \"jpeg\", \"pdf\", \"png\", \"ps\", \"raw\", \"svg\", \"tif\"];\n",
       "\n",
       "mpl.default_extension = \"png\";var comm_websocket_adapter = function(comm) {\n",
       "    // Create a \"websocket\"-like object which calls the given IPython comm\n",
       "    // object with the appropriate methods. Currently this is a non binary\n",
       "    // socket, so there is still some room for performance tuning.\n",
       "    var ws = {};\n",
       "\n",
       "    ws.close = function() {\n",
       "        comm.close()\n",
       "    };\n",
       "    ws.send = function(m) {\n",
       "        //console.log('sending', m);\n",
       "        comm.send(m);\n",
       "    };\n",
       "    // Register the callback with on_msg.\n",
       "    comm.on_msg(function(msg) {\n",
       "        //console.log('receiving', msg['content']['data'], msg);\n",
       "        // Pass the mpl event to the overriden (by mpl) onmessage function.\n",
       "        ws.onmessage(msg['content']['data'])\n",
       "    });\n",
       "    return ws;\n",
       "}\n",
       "\n",
       "mpl.mpl_figure_comm = function(comm, msg) {\n",
       "    // This is the function which gets called when the mpl process\n",
       "    // starts-up an IPython Comm through the \"matplotlib\" channel.\n",
       "\n",
       "    var id = msg.content.data.id;\n",
       "    // Get hold of the div created by the display call when the Comm\n",
       "    // socket was opened in Python.\n",
       "    var element = $(\"#\" + id);\n",
       "    var ws_proxy = comm_websocket_adapter(comm)\n",
       "\n",
       "    function ondownload(figure, format) {\n",
       "        window.open(figure.imageObj.src);\n",
       "    }\n",
       "\n",
       "    var fig = new mpl.figure(id, ws_proxy,\n",
       "                           ondownload,\n",
       "                           element.get(0));\n",
       "\n",
       "    // Call onopen now - mpl needs it, as it is assuming we've passed it a real\n",
       "    // web socket which is closed, not our websocket->open comm proxy.\n",
       "    ws_proxy.onopen();\n",
       "\n",
       "    fig.parent_element = element.get(0);\n",
       "    fig.cell_info = mpl.find_output_cell(\"<div id='\" + id + \"'></div>\");\n",
       "    if (!fig.cell_info) {\n",
       "        console.error(\"Failed to find cell for figure\", id, fig);\n",
       "        return;\n",
       "    }\n",
       "\n",
       "    var output_index = fig.cell_info[2]\n",
       "    var cell = fig.cell_info[0];\n",
       "\n",
       "};\n",
       "\n",
       "mpl.figure.prototype.handle_close = function(fig, msg) {\n",
       "    var width = fig.canvas.width/mpl.ratio\n",
       "    fig.root.unbind('remove')\n",
       "\n",
       "    // Update the output cell to use the data from the current canvas.\n",
       "    fig.push_to_output();\n",
       "    var dataURL = fig.canvas.toDataURL();\n",
       "    // Re-enable the keyboard manager in IPython - without this line, in FF,\n",
       "    // the notebook keyboard shortcuts fail.\n",
       "    IPython.keyboard_manager.enable()\n",
       "    $(fig.parent_element).html('<img src=\"' + dataURL + '\" width=\"' + width + '\">');\n",
       "    fig.close_ws(fig, msg);\n",
       "}\n",
       "\n",
       "mpl.figure.prototype.close_ws = function(fig, msg){\n",
       "    fig.send_message('closing', msg);\n",
       "    // fig.ws.close()\n",
       "}\n",
       "\n",
       "mpl.figure.prototype.push_to_output = function(remove_interactive) {\n",
       "    // Turn the data on the canvas into data in the output cell.\n",
       "    var width = this.canvas.width/mpl.ratio\n",
       "    var dataURL = this.canvas.toDataURL();\n",
       "    this.cell_info[1]['text/html'] = '<img src=\"' + dataURL + '\" width=\"' + width + '\">';\n",
       "}\n",
       "\n",
       "mpl.figure.prototype.updated_canvas_event = function() {\n",
       "    // Tell IPython that the notebook contents must change.\n",
       "    IPython.notebook.set_dirty(true);\n",
       "    this.send_message(\"ack\", {});\n",
       "    var fig = this;\n",
       "    // Wait a second, then push the new image to the DOM so\n",
       "    // that it is saved nicely (might be nice to debounce this).\n",
       "    setTimeout(function () { fig.push_to_output() }, 1000);\n",
       "}\n",
       "\n",
       "mpl.figure.prototype._init_toolbar = function() {\n",
       "    var fig = this;\n",
       "\n",
       "    var nav_element = $('<div/>')\n",
       "    nav_element.attr('style', 'width: 100%');\n",
       "    this.root.append(nav_element);\n",
       "\n",
       "    // Define a callback function for later on.\n",
       "    function toolbar_event(event) {\n",
       "        return fig.toolbar_button_onclick(event['data']);\n",
       "    }\n",
       "    function toolbar_mouse_event(event) {\n",
       "        return fig.toolbar_button_onmouseover(event['data']);\n",
       "    }\n",
       "\n",
       "    for(var toolbar_ind in mpl.toolbar_items){\n",
       "        var name = mpl.toolbar_items[toolbar_ind][0];\n",
       "        var tooltip = mpl.toolbar_items[toolbar_ind][1];\n",
       "        var image = mpl.toolbar_items[toolbar_ind][2];\n",
       "        var method_name = mpl.toolbar_items[toolbar_ind][3];\n",
       "\n",
       "        if (!name) { continue; };\n",
       "\n",
       "        var button = $('<button class=\"btn btn-default\" href=\"#\" title=\"' + name + '\"><i class=\"fa ' + image + ' fa-lg\"></i></button>');\n",
       "        button.click(method_name, toolbar_event);\n",
       "        button.mouseover(tooltip, toolbar_mouse_event);\n",
       "        nav_element.append(button);\n",
       "    }\n",
       "\n",
       "    // Add the status bar.\n",
       "    var status_bar = $('<span class=\"mpl-message\" style=\"text-align:right; float: right;\"/>');\n",
       "    nav_element.append(status_bar);\n",
       "    this.message = status_bar[0];\n",
       "\n",
       "    // Add the close button to the window.\n",
       "    var buttongrp = $('<div class=\"btn-group inline pull-right\"></div>');\n",
       "    var button = $('<button class=\"btn btn-mini btn-primary\" href=\"#\" title=\"Stop Interaction\"><i class=\"fa fa-power-off icon-remove icon-large\"></i></button>');\n",
       "    button.click(function (evt) { fig.handle_close(fig, {}); } );\n",
       "    button.mouseover('Stop Interaction', toolbar_mouse_event);\n",
       "    buttongrp.append(button);\n",
       "    var titlebar = this.root.find($('.ui-dialog-titlebar'));\n",
       "    titlebar.prepend(buttongrp);\n",
       "}\n",
       "\n",
       "mpl.figure.prototype._root_extra_style = function(el){\n",
       "    var fig = this\n",
       "    el.on(\"remove\", function(){\n",
       "\tfig.close_ws(fig, {});\n",
       "    });\n",
       "}\n",
       "\n",
       "mpl.figure.prototype._canvas_extra_style = function(el){\n",
       "    // this is important to make the div 'focusable\n",
       "    el.attr('tabindex', 0)\n",
       "    // reach out to IPython and tell the keyboard manager to turn it's self\n",
       "    // off when our div gets focus\n",
       "\n",
       "    // location in version 3\n",
       "    if (IPython.notebook.keyboard_manager) {\n",
       "        IPython.notebook.keyboard_manager.register_events(el);\n",
       "    }\n",
       "    else {\n",
       "        // location in version 2\n",
       "        IPython.keyboard_manager.register_events(el);\n",
       "    }\n",
       "\n",
       "}\n",
       "\n",
       "mpl.figure.prototype._key_event_extra = function(event, name) {\n",
       "    var manager = IPython.notebook.keyboard_manager;\n",
       "    if (!manager)\n",
       "        manager = IPython.keyboard_manager;\n",
       "\n",
       "    // Check for shift+enter\n",
       "    if (event.shiftKey && event.which == 13) {\n",
       "        this.canvas_div.blur();\n",
       "        event.shiftKey = false;\n",
       "        // Send a \"J\" for go to next cell\n",
       "        event.which = 74;\n",
       "        event.keyCode = 74;\n",
       "        manager.command_mode();\n",
       "        manager.handle_keydown(event);\n",
       "    }\n",
       "}\n",
       "\n",
       "mpl.figure.prototype.handle_save = function(fig, msg) {\n",
       "    fig.ondownload(fig, null);\n",
       "}\n",
       "\n",
       "\n",
       "mpl.find_output_cell = function(html_output) {\n",
       "    // Return the cell and output element which can be found *uniquely* in the notebook.\n",
       "    // Note - this is a bit hacky, but it is done because the \"notebook_saving.Notebook\"\n",
       "    // IPython event is triggered only after the cells have been serialised, which for\n",
       "    // our purposes (turning an active figure into a static one), is too late.\n",
       "    var cells = IPython.notebook.get_cells();\n",
       "    var ncells = cells.length;\n",
       "    for (var i=0; i<ncells; i++) {\n",
       "        var cell = cells[i];\n",
       "        if (cell.cell_type === 'code'){\n",
       "            for (var j=0; j<cell.output_area.outputs.length; j++) {\n",
       "                var data = cell.output_area.outputs[j];\n",
       "                if (data.data) {\n",
       "                    // IPython >= 3 moved mimebundle to data attribute of output\n",
       "                    data = data.data;\n",
       "                }\n",
       "                if (data['text/html'] == html_output) {\n",
       "                    return [cell, data, j];\n",
       "                }\n",
       "            }\n",
       "        }\n",
       "    }\n",
       "}\n",
       "\n",
       "// Register the function which deals with the matplotlib target/channel.\n",
       "// The kernel may be null if the page has been refreshed.\n",
       "if (IPython.notebook.kernel != null) {\n",
       "    IPython.notebook.kernel.comm_manager.register_target('matplotlib', mpl.mpl_figure_comm);\n",
       "}\n"
      ],
      "text/plain": [
       "<IPython.core.display.Javascript object>"
      ]
     },
     "metadata": {},
     "output_type": "display_data"
    },
    {
     "data": {
      "text/html": [
       "<img src=\"data:image/png;base64,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\" width=\"944\">"
      ],
      "text/plain": [
       "<IPython.core.display.HTML object>"
      ]
     },
     "metadata": {},
     "output_type": "display_data"
    }
   ],
   "source": [
    "isi = find(ion_species.value,projectile_sym_str)\n",
    "iei = find(ion_energy.value,erg_options(isi))\n",
    "ftmi = find(target_material.value,target_mats_short)\n",
    "ftti = find(target_thickness.value,thicknesses)\n",
    "detti = find(detector_type.value,detectors_short)\n",
    "spi = find(secondary_particle.value,particles_med)\n",
    "\n",
    "det_angle_i_list = []\n",
    "for i in range(len(available_det_angles)):\n",
    "    if dets[i].value:\n",
    "        if detti == 0:\n",
    "            det_angle_i_list.append(find(available_det_angles[i],detectors_angles[detti]))\n",
    "        else:\n",
    "            det_angle_i_list.append(find(available_det_angles[i],detectors_angles[detti])+6) # for NaI\n",
    "            \n",
    "data_set_i_list = []\n",
    "for i in range(3):\n",
    "    if data_sets[i].value:\n",
    "        data_set_i_list.append(i)\n",
    "        \n",
    "spacing_condition = find(spacing_choice.value,spacing_short)\n",
    "if spacing_condition == 0:\n",
    "    mult_factor_base = 1\n",
    "else:\n",
    "    mult_factor_base = 100\n",
    "\n",
    "fst = 16\n",
    "fs = 14\n",
    "beam_energy_text = erg_options(isi)[iei]\n",
    "beam_species_text = projectile_sym_str[isi]\n",
    "\n",
    "fig = plt.figure()\n",
    "ax = plt.subplot(111)\n",
    "# Axis labels\n",
    "title_text = particles_long[spi] + \" Energy Spectra for\" + \"\\n\" \n",
    "title_text += beam_energy_text +\" \"+ beam_species_text + \" on \"+ thicknesses[ftti] +\" \"+ target_mats_short[ftmi] \n",
    "plt.title(title_text,fontsize=fst)\n",
    "if spi <= 2:\n",
    "    plt.xlabel(\"Energy [MeV]\",fontsize=fs)\n",
    "else:\n",
    "    plt.xlabel(\"Energy [MeV/n]\",fontsize=fs)\n",
    "\n",
    "if spi == 1: # deconvoluted neutrons\n",
    "    #leg_strings = [r'Experimental (deconvoluted)',r'MCNP (simulated)', r'PHITS (simulated)']\n",
    "    leg_strings = [r'Experimental (deconvoluted)',r'MCNP', r'PHITS']\n",
    "    plt.ylabel(r\"Yield [#$\\cdot$/(MeV$\\cdot$s.p.)]\",fontsize=fs)\n",
    "else:\n",
    "    #leg_strings = [r'Experimental (time-of-flight)',r'MCNP (simulated)', r'PHITS (simulated)']\n",
    "    leg_strings = [r'Experimental (time-of-flight)',r'MCNP', r'PHITS']\n",
    "    if spi <= 2:\n",
    "        plt.ylabel(r\"Yield [#/(MeV$\\cdot$sr$\\cdot$s.p.)]\",fontsize=fs)\n",
    "    else:\n",
    "        plt.ylabel(r\"Yield [#/(MeV/n$\\cdot$sr$\\cdot$s.p.)]\",fontsize=fs)\n",
    "\n",
    "# Generate portion of legend specifying data sets\n",
    "if spi == 1:\n",
    "    exp_leg, = plt.errorbar(np.NaN, np.NaN,yerr=0, color='dimgrey', marker=\".\",markersize=3,linestyle=\":\",alpha=1.0), #, label=r'Deconvolued')\n",
    "else:\n",
    "    exp_leg,  = plt.errorbar(np.NaN, np.NaN,xerr=0,yerr=0,marker=\".\",c='dimgrey',markersize=2,linestyle=\"\",elinewidth=0.5,markeredgewidth=0.5,capsize=0), # , label=r'Experimental (ToF)') \n",
    "\n",
    "MCNP_leg, = plt.errorbar(np.NaN, np.NaN,yerr=0, color='dimgrey', marker=\"^\",markersize=3,linestyle=\"--\"), #, label=r'Simulated (MCNP)')\n",
    "PHITS_leg, = plt.errorbar(np.NaN, np.NaN,yerr=0, color='dimgrey', marker=\"s\",markersize=3,linestyle=\"--\"), #, label=r'Simulated (PHITS)')\n",
    "\n",
    "legs_for_ds = [exp_leg, MCNP_leg, PHITS_leg]\n",
    "used_ds_legs = []\n",
    "used_ds_leg_strs = []\n",
    "leg_handles1 = []\n",
    "leg_labels1 = []\n",
    "\n",
    "y_min = 0.0001 # later used to set y-axis minimum\n",
    "y_max = 0.001 # later used to set y-axis maximum\n",
    "\n",
    "for dsi in data_set_i_list:\n",
    "    used_ds_legs.append(legs_for_ds[dsi])\n",
    "    used_ds_leg_strs.append(leg_strings[dsi])\n",
    "    k=0\n",
    "    for di in det_angle_i_list:\n",
    "        ndet = str(di+1)\n",
    "        scale_power = 2*((len(det_angle_i_list)-1)-k)\n",
    "        mult_factor = mult_factor_base**scale_power\n",
    "        if spacing_condition == 0:\n",
    "            lab_text = detectors_angles[detti][di]\n",
    "        else:\n",
    "            lab_text = detectors_angles[detti][di] + r\" $\\times10^{{{0}}}$\".format(str(int(scale_power)))\n",
    "        k += 1\n",
    "        \n",
    "        # Make artificial legend for 6 detectors\n",
    "        ebp = ax.plot(np.NaN, np.NaN,c=detector_colors(di),marker=\"s\",markersize=8,linestyle=\"\") #,label=lab_text) #,label='Simulated (MCNP)')\n",
    "        leg_handles1.append(ebp[0])\n",
    "        leg_labels1.append(lab_text)\n",
    "        \n",
    "        nzi = np.nonzero(mm_values[dsi,iei,ftmi,ftti,spi,di,1,:])\n",
    "        xdata = mm_values[dsi,iei,ftmi,ftti,spi,di,1,:][nzi]\n",
    "        xbinw = [mm_values[dsi,iei,ftmi,ftti,spi,di,1,:][nzi]-mm_values[dsi,iei,ftmi,ftti,spi,di,0,:][nzi] , mm_values[dsi,iei,ftmi,ftti,spi,di,2,:][nzi]-mm_values[dsi,iei,ftmi,ftti,spi,di,1,:][nzi]]\n",
    "        ydata = mm_values[dsi,iei,ftmi,ftti,spi,di,3,:][nzi]\n",
    "        yerr_stat = mm_values[dsi,iei,ftmi,ftti,spi,di,4,:][nzi]\n",
    "        yerr_sys = mm_values[dsi,iei,ftmi,ftti,spi,di,5,:][nzi]\n",
    "        xerr = mm_values[dsi,iei,ftmi,ftti,spi,di,6,:][nzi]\n",
    "        \n",
    "        ydata = ydata*mult_factor\n",
    "        yerr_stat = yerr_stat*mult_factor\n",
    "        yerr_sys = yerr_sys*mult_factor\n",
    "        \n",
    "        if len(ydata) != 0:\n",
    "            if min(ydata)<y_min: y_min = min(ydata)\n",
    "            if max(ydata)>y_max: y_max = max(ydata)\n",
    "        \n",
    "        # Generate plots\n",
    "        if dsi == 0: # experimental results\n",
    "            if spi == 1: # deconvoluted neutrons\n",
    "                alpha_val=1.0\n",
    "                marker_val = \".\"\n",
    "                p = plt.errorbar(xdata,ydata,yerr=yerr,c=detector_colors(di),marker=marker_val,markersize=3,linestyle=\":\",alpha=alpha_val,label=lab_text) #,label='Simulated (MCNP)')\n",
    "            else:\n",
    "                # x error bar (bin width)\n",
    "                xerrbar = xbinw\n",
    "                # x error box (energy resolution\n",
    "                xerrbox = xerr\n",
    "                xerrbox = np.array([xerrbox, xerrbox])\n",
    "                # y error bar (systematic uncertainty)\n",
    "                yerrbar = [yerr_sys, yerr_sys]\n",
    "                yerrbar[0][(ydata-yerrbar[0])<=0]=0 # get rid of negative error bars\n",
    "                yerrbar[1][(ydata)<=0]=0 # get rid of errorbars on negative points\n",
    "                # y error box (statistical uncertainty)\n",
    "                yerrbox = np.array([yerr_stat, yerr_stat])\n",
    "                \n",
    "                p = plt.errorbar(xdata,ydata,xerr=xerrbar,yerr=yerrbar,marker=\".\",c=detector_colors(di),markersize=2,linestyle=\"\",elinewidth=0.5,markeredgewidth=0.5,capsize=0,label=lab_text)\n",
    "                nx_color = detector_colors(di) #p[0].get_color()\n",
    "                makeErrorBoxes(xdata,ydata,xerrbox,yerrbox,fc='None',ec=nx_color,alpha=1.0,lw=0.5)\n",
    "                makeErrorBoxes(xdata,ydata,xerrbox,yerrbox,fc=nx_color,ec='None',alpha=0.1,lw=0.5)\n",
    "                \n",
    "        elif dsi == 1: # MCNP results\n",
    "            ebp = plt.errorbar(xdata,ydata,yerr=yerr_stat,c=detector_colors(di),marker=\"^\",markersize=3,linestyle=\"--\") #,label=lab_text) #,label='Simulated (MCNP)')\n",
    "        \n",
    "        elif dsi == 2: # PHITS results\n",
    "            ebp = plt.errorbar(xdata,ydata,yerr=yerr_stat,c=detector_colors(di),marker=\"s\",markersize=3,linestyle=\"--\") #,label=lab_text) #,label='Simulated (MCNP)')\n",
    "        \n",
    "\n",
    "if spacing_condition == 1:\n",
    "    box_h_offset = 0.14 - 0.005*len(det_angle_i_list) # vertical offset left at the bottom for legend stuff\n",
    "    leg_minus_y = -0.01*(6-len(det_angle_i_list))\n",
    "    leg2_anchor = (0.45, -0.065+leg_minus_y) # data sets\n",
    "    leg1_anchor = (0.47, -0.115+leg_minus_y) # detectors \n",
    "else:\n",
    "    box_h_offset = 0.11 + 0.02*np.floor((len(det_angle_i_list)-1)/3) # vertical offset left at the bottom for legend stuff\n",
    "    leg2_anchor = (0.45, -0.115) # data sets\n",
    "    leg1_anchor = (0.47, -0.175) # detectors \n",
    "\n",
    "box_h_multiplier = 1-box_h_offset #0.92 # percentage of total height occupied by actual plot\n",
    "\n",
    "#handles, labels = ax.get_legend_handles_labels()\n",
    "#if len(data_set_i_list)==3: # Three rows in named legend\n",
    "#    box_h_multiplier = 0.92 # percentage of total height occupied by actual plot\n",
    "#    box_h_offset = 0.12 # vertical offset left at the bottom for legend stuff\n",
    "#    leg2_anchor = (0.5, -0.065)\n",
    "#    leg1_anchor = (0.47, -0.155)\n",
    "#elif len(data_set_i_list)==2: # Two rows of legend\n",
    "#    box_h_multiplier = 0.92 # percentage of total height occupied by actual plot\n",
    "#    box_h_offset = 0.12 # vertical offset left at the bottom for legend stuff\n",
    "#    leg2_anchor = (0.5, -0.065)\n",
    "#    leg1_anchor = (0.47, -0.155)\n",
    "#else: # One row of legend\n",
    "#    box_h_multiplier = 0.92 # percentage of total height occupied by actual plot\n",
    "#    box_h_offset = 0.12 # vertical offset left at the bottom for legend stuff\n",
    "#    leg2_anchor = (0.5, -0.065)\n",
    "#    leg1_anchor = (0.47, -0.155)\n",
    "\n",
    "# Set size and location of the plot on the canvas\n",
    "box = ax.get_position()\n",
    "ax.set_position([box.x0 + box.width * 0.025, box.y0 + box.height * box_h_offset,box.width * 0.95, box.height * box_h_multiplier])\n",
    "\n",
    "# Put a legend below current axis\n",
    "legend2 = ax.legend(used_ds_legs,used_ds_leg_strs,loc='upper center', bbox_to_anchor=leg2_anchor, ncol=len(data_set_i_list))\n",
    "\n",
    "# Put a legend below current axis\n",
    "ax.legend(leg_handles1[:(len(det_angle_i_list))],leg_labels1[:(len(det_angle_i_list))],loc='upper center', bbox_to_anchor=leg1_anchor, ncol=3,handletextpad=0.1)\n",
    "ax.add_artist(legend2)\n",
    "\n",
    "window_title = mm_metadata[dsi,isi,iei,ftmi,ftti,spi,0,1] + \"_fig\"\n",
    "fig.canvas.set_window_title(window_title)\n",
    "if spacing_condition == 1: \n",
    "    height_val = 5.25 + len(det_angle_i_list)\n",
    "    fig.set_size_inches(5.25,height_val)\n",
    "else:\n",
    "    fig.set_size_inches(5.25,6.25)\n",
    "        \n",
    "plt.xscale('log')\n",
    "plt.yscale('log')\n",
    "plt.grid(b=True, which='major', linestyle='-', alpha=0.25)\n",
    "plt.grid(b=True, which='minor', linestyle='-', alpha=0.10)\n",
    "plt.xlim([5,2000])\n",
    "plt.ylim([10**np.floor(np.log10(y_min)),10**np.ceil(np.log10(y_max))])        \n",
    "\n",
    "plt.show()        \n",
    "        \n",
    "    \n",
    "    \n"
   ]
  },
  {
   "cell_type": "code",
   "execution_count": null,
   "metadata": {},
   "outputs": [],
   "source": []
  },
  {
   "cell_type": "code",
   "execution_count": null,
   "metadata": {},
   "outputs": [],
   "source": []
  }
 ],
 "metadata": {
  "kernelspec": {
   "display_name": "Python 3",
   "language": "python",
   "name": "python3"
  },
  "language_info": {
   "codemirror_mode": {
    "name": "ipython",
    "version": 3
   },
   "file_extension": ".py",
   "mimetype": "text/x-python",
   "name": "python",
   "nbconvert_exporter": "python",
   "pygments_lexer": "ipython3",
   "version": "3.6.4"
  }
 },
 "nbformat": 4,
 "nbformat_minor": 1
}
