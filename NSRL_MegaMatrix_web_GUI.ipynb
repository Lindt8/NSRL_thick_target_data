{
 "cells": [
  {
   "cell_type": "code",
   "execution_count": 131,
   "metadata": {},
   "outputs": [
    {
     "data": {
      "text/html": [
       "<script>\n",
       "  function code_toggle() {\n",
       "    if (code_shown){\n",
       "      $('div.input').hide('500');\n",
       "      $('#toggleButton').val('Show Code')\n",
       "    } else {\n",
       "      $('div.input').show('500');\n",
       "      $('#toggleButton').val('Hide Code')\n",
       "    }\n",
       "    code_shown = !code_shown\n",
       "  }\n",
       "\n",
       "  $( document ).ready(function(){\n",
       "    code_shown=false;\n",
       "    $('div.input').hide()\n",
       "  });\n",
       "</script>\n",
       "<form action=\"javascript:code_toggle()\"><input type=\"submit\" id=\"toggleButton\" value=\"Show Code\"></form>"
      ],
      "text/plain": [
       "<IPython.core.display.HTML object>"
      ]
     },
     "execution_count": 131,
     "metadata": {},
     "output_type": "execute_result"
    }
   ],
   "source": [
    "%matplotlib notebook\n",
    "from IPython.display import HTML\n",
    "import numpy as np\n",
    "import matplotlib.pyplot as plt\n",
    "from matplotlib.collections import PatchCollection\n",
    "from matplotlib.patches import Rectangle\n",
    "import re\n",
    "from IPython.display import display\n",
    "import ipywidgets as widgets\n",
    "from IPython.display import Javascript\n",
    "\n",
    "HTML('''<script>\n",
    "  function code_toggle() {\n",
    "    if (code_shown){\n",
    "      $('div.input').hide('500');\n",
    "      $('#toggleButton').val('Show Code')\n",
    "    } else {\n",
    "      $('div.input').show('500');\n",
    "      $('#toggleButton').val('Hide Code')\n",
    "    }\n",
    "    code_shown = !code_shown\n",
    "  }\n",
    "\n",
    "  $( document ).ready(function(){\n",
    "    code_shown=false;\n",
    "    $('div.input').hide()\n",
    "  });\n",
    "</script>\n",
    "<form action=\"javascript:code_toggle()\"><input type=\"submit\" id=\"toggleButton\" value=\"Show Code\"></form>''')\n"
   ]
  },
  {
   "cell_type": "code",
   "execution_count": 132,
   "metadata": {},
   "outputs": [
    {
     "data": {
      "application/vnd.jupyter.widget-view+json": {
       "model_id": "0739d71272ec4cc5825d86d934ffab43",
       "version_major": 2,
       "version_minor": 0
      },
      "text/html": [
       "<p>Failed to display Jupyter Widget of type <code>Label</code>.</p>\n",
       "<p>\n",
       "  If you're reading this message in the Jupyter Notebook or JupyterLab Notebook, it may mean\n",
       "  that the widgets JavaScript is still loading. If this message persists, it\n",
       "  likely means that the widgets JavaScript library is either not installed or\n",
       "  not enabled. See the <a href=\"https://ipywidgets.readthedocs.io/en/stable/user_install.html\">Jupyter\n",
       "  Widgets Documentation</a> for setup instructions.\n",
       "</p>\n",
       "<p>\n",
       "  If you're reading this message in another frontend (for example, a static\n",
       "  rendering on GitHub or <a href=\"https://nbviewer.jupyter.org/\">NBViewer</a>),\n",
       "  it may mean that your frontend doesn't currently support widgets.\n",
       "</p>\n"
      ],
      "text/plain": [
       "Label(value='Select projectile ion species.')"
      ]
     },
     "metadata": {},
     "output_type": "display_data"
    },
    {
     "data": {
      "application/vnd.jupyter.widget-view+json": {
       "model_id": "897477d3de7b4ac8af8ad3a9b12ad7ef",
       "version_major": 2,
       "version_minor": 0
      },
      "text/html": [
       "<p>Failed to display Jupyter Widget of type <code>ToggleButtons</code>.</p>\n",
       "<p>\n",
       "  If you're reading this message in the Jupyter Notebook or JupyterLab Notebook, it may mean\n",
       "  that the widgets JavaScript is still loading. If this message persists, it\n",
       "  likely means that the widgets JavaScript library is either not installed or\n",
       "  not enabled. See the <a href=\"https://ipywidgets.readthedocs.io/en/stable/user_install.html\">Jupyter\n",
       "  Widgets Documentation</a> for setup instructions.\n",
       "</p>\n",
       "<p>\n",
       "  If you're reading this message in another frontend (for example, a static\n",
       "  rendering on GitHub or <a href=\"https://nbviewer.jupyter.org/\">NBViewer</a>),\n",
       "  it may mean that your frontend doesn't currently support widgets.\n",
       "</p>\n"
      ],
      "text/plain": [
       "ToggleButtons(description='Ion:', options=('H', 'He', 'C', 'Si', 'Fe'), tooltips=['Hydrogen', 'Helium', 'Carbon', 'Silicon', 'Iron'], value='H')"
      ]
     },
     "metadata": {},
     "output_type": "display_data"
    },
    {
     "data": {
      "application/javascript": [
       "IPython.notebook.execute_cells([IPython.notebook.get_selected_index()+1,6,7])"
      ],
      "text/plain": [
       "<IPython.core.display.Javascript object>"
      ]
     },
     "metadata": {},
     "output_type": "display_data"
    },
    {
     "data": {
      "application/javascript": [
       "IPython.notebook.execute_cells([IPython.notebook.get_selected_index()+1,6,7])"
      ],
      "text/plain": [
       "<IPython.core.display.Javascript object>"
      ]
     },
     "metadata": {},
     "output_type": "display_data"
    }
   ],
   "source": [
    "def find(target, myList):\n",
    "    for i in range(len(myList)):\n",
    "        if myList[i] == target:\n",
    "            return i       \n",
    "\n",
    "def on_click(change):\n",
    "    #display(Javascript('IPython.notebook.execute_cells_below()'))  \n",
    "    #display(Javascript('IPython.notebook.execute_cell_range(IPython.notebook.get_selected_index()+1, IPython.notebook.ncells())'))\n",
    "    #display(Javascript('IPython.notebook.execute_cell_range(IPython.notebook.get_selected_index()+1, 6)'))\n",
    "    display(Javascript('IPython.notebook.execute_cells'))\n",
    "\n",
    "def on_click_next(change):\n",
    "    display(Javascript('IPython.notebook.execute_cells([IPython.notebook.get_selected_index()+1])'))\n",
    "    \n",
    "def on_click_7(change):\n",
    "    display(Javascript('IPython.notebook.execute_cells([7])'))\n",
    "\n",
    "def on_click_67(change):\n",
    "    display(Javascript('IPython.notebook.execute_cells([6,7])'))\n",
    "    \n",
    "def on_click_next_67(change):\n",
    "    display(Javascript('IPython.notebook.execute_cells([IPython.notebook.get_selected_index()+1,6,7])'))\n",
    "    \n",
    "# Function to plot error boxes\n",
    "def makeErrorBoxes(xdata,ydata,xerror,yerror,fc='None',ec='k',alpha=1.0,lw=1):\n",
    "    # Create list for all the error patches\n",
    "    errorboxes = []\n",
    "\n",
    "    # Loop over data points; create box from errors at each point\n",
    "    for xc,yc,xe,ye in zip(xdata,ydata,xerror.T,yerror.T):\n",
    "        rect = Rectangle((xc-xe[0],yc-ye[0]),xe.sum(),ye.sum())\n",
    "        errorboxes.append(rect)\n",
    "\n",
    "    # Create patch collection with specified colour/alpha\n",
    "    pc = PatchCollection(errorboxes,facecolor=fc,alpha=alpha,edgecolor=ec,linewidth=lw)\n",
    "\n",
    "    # Add collection to axes\n",
    "    ax.add_collection(pc)    \n",
    "\n",
    "def detector_colors(di):\n",
    "    #colors_list = ['b','g','r','c','m','y'] # Python 3 old default\n",
    "    #colors_list = ['#b2182b','#d6604d','#f4a582','#92c5de','#4393c3','#2166ac'] # blue to red cold\n",
    "    #colors_list = ['#d73027','#f46d43','#fdae61','#abd9e9','#74add1','#4575b4'] # blue to red warm\n",
    "    #colors_list = ['#762a83','#9970ab','#c2a5cf','#a6dba0','#5aae61','#1b7837'] # purple to green\n",
    "    #colors_list = ['#40004b','#762a83','#9970ab','#5aae61','#1b7837','#00441b'] # purple to green darker\n",
    "    #colors_list = [\"#afa83a\",\"#7f63b8\",\"#56ae6c\",\"#b84c7d\",\"#ac863f\",\"#b94d3d\"] # iWantHue 1\n",
    "    #colors_list = ['#1b9e77','#d95f02','#7570b3','#e7298a','#66a61e','#e6ab02'] # qualitative dark 1\n",
    "    colors_list = ['#e41a1c','#377eb8','#4daf4a','#984ea3','#ff7f00','#a65628'] # qualitative dark 2\n",
    "    return colors_list[di]\n",
    "    \n",
    "    \n",
    "    \n",
    "data_version = 'v7'\n",
    "\n",
    "metadata_file = 'metadata_matrix_' + data_version + '.npy'\n",
    "mm_metadata = np.load(metadata_file) # data set, ion species, ion energy, target material, target thickness, secondary particle, detector, header meta data\n",
    "exists_file = 'exists_matrix_' + data_version + '.npy'\n",
    "mm_exists = np.load(exists_file) # data set, ion species, ion energy, target material, target thickness, secondary particle, detector\n",
    "\n",
    "#values_file = 'values_matrix_' + data_version + '.npy'\n",
    "#mm_values = np.load(values_file) # data set, ion species, ion energy, target material, target thickness, secondary particle, detector, column values, energy bins\n",
    "\n",
    "#print(mm_metadata[0,0,0,0,0,0,0,0])\n",
    "\n",
    "projectile_sym_str = ['H', 'He', 'C', 'Si', 'Fe']\n",
    "projectile_longnames_str = ['Hydrogen', 'Helium', 'Carbon', 'Silicon', 'Iron']\n",
    "\n",
    "mm_values_names_list = []\n",
    "for i in range(5):\n",
    "    mm_values_names_list.append('values_matrix_' + projectile_sym_str[i].lower() + \"_\" + data_version + '.npy')\n",
    "\n",
    "is_label = widgets.Label(value=\"Select projectile ion species.\")\n",
    "    \n",
    "ion_species = widgets.ToggleButtons(\n",
    "    options=projectile_sym_str,\n",
    "    description='Ion:',\n",
    "    disabled=False,\n",
    "    button_style='', # 'success', 'info', 'warning', 'danger' or ''\n",
    "    tooltips=projectile_longnames_str,\n",
    "#     icons=['check'] * 5\n",
    ")\n",
    "\n",
    "ion_species.observe(on_click_next_67, 'value')\n",
    "display(is_label,ion_species)\n"
   ]
  },
  {
   "cell_type": "code",
   "execution_count": 227,
   "metadata": {},
   "outputs": [
    {
     "data": {
      "application/vnd.jupyter.widget-view+json": {
       "model_id": "3c5b05a8672b4489b7e4186bf2a7b1cb",
       "version_major": 2,
       "version_minor": 0
      },
      "text/html": [
       "<p>Failed to display Jupyter Widget of type <code>Label</code>.</p>\n",
       "<p>\n",
       "  If you're reading this message in the Jupyter Notebook or JupyterLab Notebook, it may mean\n",
       "  that the widgets JavaScript is still loading. If this message persists, it\n",
       "  likely means that the widgets JavaScript library is either not installed or\n",
       "  not enabled. See the <a href=\"https://ipywidgets.readthedocs.io/en/stable/user_install.html\">Jupyter\n",
       "  Widgets Documentation</a> for setup instructions.\n",
       "</p>\n",
       "<p>\n",
       "  If you're reading this message in another frontend (for example, a static\n",
       "  rendering on GitHub or <a href=\"https://nbviewer.jupyter.org/\">NBViewer</a>),\n",
       "  it may mean that your frontend doesn't currently support widgets.\n",
       "</p>\n"
      ],
      "text/plain": [
       "Label(value='Select projectile ion energy.')"
      ]
     },
     "metadata": {},
     "output_type": "display_data"
    },
    {
     "data": {
      "application/vnd.jupyter.widget-view+json": {
       "model_id": "20459177f2184e2c999fba072406c6e8",
       "version_major": 2,
       "version_minor": 0
      },
      "text/html": [
       "<p>Failed to display Jupyter Widget of type <code>ToggleButtons</code>.</p>\n",
       "<p>\n",
       "  If you're reading this message in the Jupyter Notebook or JupyterLab Notebook, it may mean\n",
       "  that the widgets JavaScript is still loading. If this message persists, it\n",
       "  likely means that the widgets JavaScript library is either not installed or\n",
       "  not enabled. See the <a href=\"https://ipywidgets.readthedocs.io/en/stable/user_install.html\">Jupyter\n",
       "  Widgets Documentation</a> for setup instructions.\n",
       "</p>\n",
       "<p>\n",
       "  If you're reading this message in another frontend (for example, a static\n",
       "  rendering on GitHub or <a href=\"https://nbviewer.jupyter.org/\">NBViewer</a>),\n",
       "  it may mean that your frontend doesn't currently support widgets.\n",
       "</p>\n"
      ],
      "text/plain": [
       "ToggleButtons(description='Energy:', options=('400 MeV/n', '800 MeV/n', '1500 MeV/n'), tooltips=['lowest energy', 'middle energy', 'highest energy'], value='400 MeV/n')"
      ]
     },
     "metadata": {},
     "output_type": "display_data"
    }
   ],
   "source": [
    "isi = find(ion_species.value,projectile_sym_str)\n",
    "mm_values = np.load(mm_values_names_list[isi])\n",
    "\n",
    "def erg_options(isi):\n",
    "    if isi == 0:\n",
    "        proj_E = ['400 MeV','800 MeV','2500 MeV']\n",
    "    else:\n",
    "        proj_E = ['400 MeV/n','800 MeV/n','1500 MeV/n']\n",
    "    return proj_E\n",
    "\n",
    "Projectile_E_tooltips = ['lowest energy','middle energy', 'highest energy']\n",
    "\n",
    "ie_label = widgets.Label(value=\"Select projectile ion energy.\")\n",
    "\n",
    "ion_energy = widgets.ToggleButtons(\n",
    "    options=erg_options(isi),\n",
    "    description='Energy:',\n",
    "    disabled=False,\n",
    "    button_style='', # 'success', 'info', 'warning', 'danger' or ''\n",
    "    tooltips=Projectile_E_tooltips,\n",
    "#     icons=['check'] * 5\n",
    ")\n",
    "\n",
    "ion_energy.observe(on_click_67, 'value')\n",
    "display(ie_label, ion_energy)\n"
   ]
  },
  {
   "cell_type": "code",
   "execution_count": 134,
   "metadata": {},
   "outputs": [
    {
     "data": {
      "application/vnd.jupyter.widget-view+json": {
       "model_id": "bf807f82a6c641b498d5e94160e42d74",
       "version_major": 2,
       "version_minor": 0
      },
      "text/html": [
       "<p>Failed to display Jupyter Widget of type <code>Label</code>.</p>\n",
       "<p>\n",
       "  If you're reading this message in the Jupyter Notebook or JupyterLab Notebook, it may mean\n",
       "  that the widgets JavaScript is still loading. If this message persists, it\n",
       "  likely means that the widgets JavaScript library is either not installed or\n",
       "  not enabled. See the <a href=\"https://ipywidgets.readthedocs.io/en/stable/user_install.html\">Jupyter\n",
       "  Widgets Documentation</a> for setup instructions.\n",
       "</p>\n",
       "<p>\n",
       "  If you're reading this message in another frontend (for example, a static\n",
       "  rendering on GitHub or <a href=\"https://nbviewer.jupyter.org/\">NBViewer</a>),\n",
       "  it may mean that your frontend doesn't currently support widgets.\n",
       "</p>\n"
      ],
      "text/plain": [
       "Label(value='Select upstream target material.')"
      ]
     },
     "metadata": {},
     "output_type": "display_data"
    },
    {
     "data": {
      "application/vnd.jupyter.widget-view+json": {
       "model_id": "8b599aa8b09b49968fe4bdec49994183",
       "version_major": 2,
       "version_minor": 0
      },
      "text/html": [
       "<p>Failed to display Jupyter Widget of type <code>ToggleButtons</code>.</p>\n",
       "<p>\n",
       "  If you're reading this message in the Jupyter Notebook or JupyterLab Notebook, it may mean\n",
       "  that the widgets JavaScript is still loading. If this message persists, it\n",
       "  likely means that the widgets JavaScript library is either not installed or\n",
       "  not enabled. See the <a href=\"https://ipywidgets.readthedocs.io/en/stable/user_install.html\">Jupyter\n",
       "  Widgets Documentation</a> for setup instructions.\n",
       "</p>\n",
       "<p>\n",
       "  If you're reading this message in another frontend (for example, a static\n",
       "  rendering on GitHub or <a href=\"https://nbviewer.jupyter.org/\">NBViewer</a>),\n",
       "  it may mean that your frontend doesn't currently support widgets.\n",
       "</p>\n"
      ],
      "text/plain": [
       "ToggleButtons(description='Material:', options=('Al', 'HDPE', 'AlPE'), tooltips=['Aluminum', 'Polyethylene', 'Combination of Al and HDPE'], value='Al')"
      ]
     },
     "metadata": {},
     "output_type": "display_data"
    },
    {
     "data": {
      "application/javascript": [
       "IPython.notebook.execute_cells([IPython.notebook.get_selected_index()+1,6,7])"
      ],
      "text/plain": [
       "<IPython.core.display.Javascript object>"
      ]
     },
     "metadata": {},
     "output_type": "display_data"
    },
    {
     "data": {
      "application/javascript": [
       "IPython.notebook.execute_cells([IPython.notebook.get_selected_index()+1,6,7])"
      ],
      "text/plain": [
       "<IPython.core.display.Javascript object>"
      ]
     },
     "metadata": {},
     "output_type": "display_data"
    },
    {
     "data": {
      "application/javascript": [
       "IPython.notebook.execute_cells([IPython.notebook.get_selected_index()+1,6,7])"
      ],
      "text/plain": [
       "<IPython.core.display.Javascript object>"
      ]
     },
     "metadata": {},
     "output_type": "display_data"
    },
    {
     "data": {
      "application/javascript": [
       "IPython.notebook.execute_cells([IPython.notebook.get_selected_index()+1,6,7])"
      ],
      "text/plain": [
       "<IPython.core.display.Javascript object>"
      ]
     },
     "metadata": {},
     "output_type": "display_data"
    },
    {
     "data": {
      "application/javascript": [
       "IPython.notebook.execute_cells([IPython.notebook.get_selected_index()+1,6,7])"
      ],
      "text/plain": [
       "<IPython.core.display.Javascript object>"
      ]
     },
     "metadata": {},
     "output_type": "display_data"
    },
    {
     "data": {
      "application/javascript": [
       "IPython.notebook.execute_cells([IPython.notebook.get_selected_index()+1,6,7])"
      ],
      "text/plain": [
       "<IPython.core.display.Javascript object>"
      ]
     },
     "metadata": {},
     "output_type": "display_data"
    },
    {
     "data": {
      "application/javascript": [
       "IPython.notebook.execute_cells([IPython.notebook.get_selected_index()+1,6,7])"
      ],
      "text/plain": [
       "<IPython.core.display.Javascript object>"
      ]
     },
     "metadata": {},
     "output_type": "display_data"
    },
    {
     "data": {
      "application/javascript": [
       "IPython.notebook.execute_cells([IPython.notebook.get_selected_index()+1,6,7])"
      ],
      "text/plain": [
       "<IPython.core.display.Javascript object>"
      ]
     },
     "metadata": {},
     "output_type": "display_data"
    },
    {
     "data": {
      "application/javascript": [
       "IPython.notebook.execute_cells([IPython.notebook.get_selected_index()+1,6,7])"
      ],
      "text/plain": [
       "<IPython.core.display.Javascript object>"
      ]
     },
     "metadata": {},
     "output_type": "display_data"
    },
    {
     "data": {
      "application/javascript": [
       "IPython.notebook.execute_cells([IPython.notebook.get_selected_index()+1,6,7])"
      ],
      "text/plain": [
       "<IPython.core.display.Javascript object>"
      ]
     },
     "metadata": {},
     "output_type": "display_data"
    },
    {
     "data": {
      "application/javascript": [
       "IPython.notebook.execute_cells([IPython.notebook.get_selected_index()+1,6,7])"
      ],
      "text/plain": [
       "<IPython.core.display.Javascript object>"
      ]
     },
     "metadata": {},
     "output_type": "display_data"
    },
    {
     "data": {
      "application/javascript": [
       "IPython.notebook.execute_cells([IPython.notebook.get_selected_index()+1,6,7])"
      ],
      "text/plain": [
       "<IPython.core.display.Javascript object>"
      ]
     },
     "metadata": {},
     "output_type": "display_data"
    },
    {
     "data": {
      "application/javascript": [
       "IPython.notebook.execute_cells([IPython.notebook.get_selected_index()+1,6,7])"
      ],
      "text/plain": [
       "<IPython.core.display.Javascript object>"
      ]
     },
     "metadata": {},
     "output_type": "display_data"
    }
   ],
   "source": [
    "isi = find(ion_species.value,projectile_sym_str)\n",
    "iei = find(ion_energy.value,erg_options(isi))\n",
    "\n",
    "target_mats_long = ['Aluminum','Polyethylene','Combination of Al and HDPE']\n",
    "target_mats_short = ['Al','HDPE','AlPE']\n",
    "\n",
    "tm_label = widgets.Label(value=\"Select upstream target material.\")\n",
    "\n",
    "target_material = widgets.ToggleButtons(\n",
    "    options=target_mats_short,\n",
    "    description='Material:',\n",
    "    disabled=False,\n",
    "    button_style='', # 'success', 'info', 'warning', 'danger' or ''\n",
    "    tooltips=target_mats_long,\n",
    "#     icons=['check'] * 3\n",
    ")\n",
    "\n",
    "target_material.observe(on_click_next_67, 'value')\n",
    "display(tm_label, target_material)"
   ]
  },
  {
   "cell_type": "code",
   "execution_count": 230,
   "metadata": {},
   "outputs": [
    {
     "data": {
      "application/vnd.jupyter.widget-view+json": {
       "model_id": "97780e05c6bf4e39a317525b7d37b1d0",
       "version_major": 2,
       "version_minor": 0
      },
      "text/html": [
       "<p>Failed to display Jupyter Widget of type <code>Label</code>.</p>\n",
       "<p>\n",
       "  If you're reading this message in the Jupyter Notebook or JupyterLab Notebook, it may mean\n",
       "  that the widgets JavaScript is still loading. If this message persists, it\n",
       "  likely means that the widgets JavaScript library is either not installed or\n",
       "  not enabled. See the <a href=\"https://ipywidgets.readthedocs.io/en/stable/user_install.html\">Jupyter\n",
       "  Widgets Documentation</a> for setup instructions.\n",
       "</p>\n",
       "<p>\n",
       "  If you're reading this message in another frontend (for example, a static\n",
       "  rendering on GitHub or <a href=\"https://nbviewer.jupyter.org/\">NBViewer</a>),\n",
       "  it may mean that your frontend doesn't currently support widgets.\n",
       "</p>\n"
      ],
      "text/plain": [
       "Label(value='Select upstream target mass thickness.')"
      ]
     },
     "metadata": {},
     "output_type": "display_data"
    },
    {
     "data": {
      "application/vnd.jupyter.widget-view+json": {
       "model_id": "c297ffba010d4fc7a7be4432bad6ab97",
       "version_major": 2,
       "version_minor": 0
      },
      "text/html": [
       "<p>Failed to display Jupyter Widget of type <code>ToggleButtons</code>.</p>\n",
       "<p>\n",
       "  If you're reading this message in the Jupyter Notebook or JupyterLab Notebook, it may mean\n",
       "  that the widgets JavaScript is still loading. If this message persists, it\n",
       "  likely means that the widgets JavaScript library is either not installed or\n",
       "  not enabled. See the <a href=\"https://ipywidgets.readthedocs.io/en/stable/user_install.html\">Jupyter\n",
       "  Widgets Documentation</a> for setup instructions.\n",
       "</p>\n",
       "<p>\n",
       "  If you're reading this message in another frontend (for example, a static\n",
       "  rendering on GitHub or <a href=\"https://nbviewer.jupyter.org/\">NBViewer</a>),\n",
       "  it may mean that your frontend doesn't currently support widgets.\n",
       "</p>\n"
      ],
      "text/plain": [
       "ToggleButtons(description='Thickness:', options=('20 g/cm²', '40 g/cm²', '60 g/cm²'), tooltips=['20 g/cm²', '40 g/cm²', '60 g/cm²'], value='20 g/cm²')"
      ]
     },
     "metadata": {},
     "output_type": "display_data"
    }
   ],
   "source": [
    "isi = find(ion_species.value,projectile_sym_str)\n",
    "iei = find(ion_energy.value,erg_options(isi))\n",
    "ftmi = find(target_material.value,target_mats_short)\n",
    "thicknesses = ['20 g/cm\\u00B2','40 g/cm\\u00B2','60 g/cm\\u00B2']\n",
    "def thickness_options(ftmi):\n",
    "    if ftmi == 2:\n",
    "        thicknesses = ['20 g/cm\\u00B2','60 g/cm\\u00B2']\n",
    "    else:\n",
    "        thicknesses = ['20 g/cm\\u00B2','40 g/cm\\u00B2','60 g/cm\\u00B2']\n",
    "    return thicknesses\n",
    "\n",
    "tt_label = widgets.Label(value=\"Select upstream target mass thickness.\")\n",
    "\n",
    "target_thickness = widgets.ToggleButtons(\n",
    "    options=thickness_options(ftmi),\n",
    "    description='Thickness:',\n",
    "    disabled=False,\n",
    "    button_style='', # 'success', 'info', 'warning', 'danger' or ''\n",
    "    tooltips=thickness_options(ftmi),\n",
    "#     icons=['check'] * 3\n",
    ")\n",
    "\n",
    "target_thickness.observe(on_click_67, 'value')\n",
    "display(tt_label, target_thickness)"
   ]
  },
  {
   "cell_type": "code",
   "execution_count": 136,
   "metadata": {},
   "outputs": [
    {
     "data": {
      "application/vnd.jupyter.widget-view+json": {
       "model_id": "280e1034c0c54ed5bdf367a7ca608037",
       "version_major": 2,
       "version_minor": 0
      },
      "text/html": [
       "<p>Failed to display Jupyter Widget of type <code>Label</code>.</p>\n",
       "<p>\n",
       "  If you're reading this message in the Jupyter Notebook or JupyterLab Notebook, it may mean\n",
       "  that the widgets JavaScript is still loading. If this message persists, it\n",
       "  likely means that the widgets JavaScript library is either not installed or\n",
       "  not enabled. See the <a href=\"https://ipywidgets.readthedocs.io/en/stable/user_install.html\">Jupyter\n",
       "  Widgets Documentation</a> for setup instructions.\n",
       "</p>\n",
       "<p>\n",
       "  If you're reading this message in another frontend (for example, a static\n",
       "  rendering on GitHub or <a href=\"https://nbviewer.jupyter.org/\">NBViewer</a>),\n",
       "  it may mean that your frontend doesn't currently support widgets.\n",
       "</p>\n"
      ],
      "text/plain": [
       "Label(value='Select a detector type.')"
      ]
     },
     "metadata": {},
     "output_type": "display_data"
    },
    {
     "data": {
      "application/vnd.jupyter.widget-view+json": {
       "model_id": "eeff824cd7d447d7beef08d8d3278ca8",
       "version_major": 2,
       "version_minor": 0
      },
      "text/html": [
       "<p>Failed to display Jupyter Widget of type <code>ToggleButtons</code>.</p>\n",
       "<p>\n",
       "  If you're reading this message in the Jupyter Notebook or JupyterLab Notebook, it may mean\n",
       "  that the widgets JavaScript is still loading. If this message persists, it\n",
       "  likely means that the widgets JavaScript library is either not installed or\n",
       "  not enabled. See the <a href=\"https://ipywidgets.readthedocs.io/en/stable/user_install.html\">Jupyter\n",
       "  Widgets Documentation</a> for setup instructions.\n",
       "</p>\n",
       "<p>\n",
       "  If you're reading this message in another frontend (for example, a static\n",
       "  rendering on GitHub or <a href=\"https://nbviewer.jupyter.org/\">NBViewer</a>),\n",
       "  it may mean that your frontend doesn't currently support widgets.\n",
       "</p>\n"
      ],
      "text/plain": [
       "ToggleButtons(description='Type:', options=('OLS', 'NaI'), tooltips=['Organic Liquid Scintillator', 'Sodium Iodide'], value='OLS')"
      ]
     },
     "metadata": {},
     "output_type": "display_data"
    },
    {
     "data": {
      "application/javascript": [
       "IPython.notebook.execute_cells([6,7])"
      ],
      "text/plain": [
       "<IPython.core.display.Javascript object>"
      ]
     },
     "metadata": {},
     "output_type": "display_data"
    },
    {
     "data": {
      "application/javascript": [
       "IPython.notebook.execute_cells([6,7])"
      ],
      "text/plain": [
       "<IPython.core.display.Javascript object>"
      ]
     },
     "metadata": {},
     "output_type": "display_data"
    },
    {
     "data": {
      "application/javascript": [
       "IPython.notebook.execute_cells([6,7])"
      ],
      "text/plain": [
       "<IPython.core.display.Javascript object>"
      ]
     },
     "metadata": {},
     "output_type": "display_data"
    },
    {
     "data": {
      "application/javascript": [
       "IPython.notebook.execute_cells([6,7])"
      ],
      "text/plain": [
       "<IPython.core.display.Javascript object>"
      ]
     },
     "metadata": {},
     "output_type": "display_data"
    },
    {
     "data": {
      "application/javascript": [
       "IPython.notebook.execute_cells([6,7])"
      ],
      "text/plain": [
       "<IPython.core.display.Javascript object>"
      ]
     },
     "metadata": {},
     "output_type": "display_data"
    },
    {
     "data": {
      "application/javascript": [
       "IPython.notebook.execute_cells([6,7])"
      ],
      "text/plain": [
       "<IPython.core.display.Javascript object>"
      ]
     },
     "metadata": {},
     "output_type": "display_data"
    },
    {
     "data": {
      "application/javascript": [
       "IPython.notebook.execute_cells([6,7])"
      ],
      "text/plain": [
       "<IPython.core.display.Javascript object>"
      ]
     },
     "metadata": {},
     "output_type": "display_data"
    },
    {
     "data": {
      "application/javascript": [
       "IPython.notebook.execute_cells([6,7])"
      ],
      "text/plain": [
       "<IPython.core.display.Javascript object>"
      ]
     },
     "metadata": {},
     "output_type": "display_data"
    }
   ],
   "source": [
    "isi = find(ion_species.value,projectile_sym_str)\n",
    "iei = find(ion_energy.value,erg_options(isi))\n",
    "ftmi = find(target_material.value,target_mats_short)\n",
    "ftti = find(target_thickness.value,thicknesses)\n",
    "\n",
    "detectors_short = ['OLS','NaI']\n",
    "detectors_long = ['Organic Liquid Scintillator','Sodium Iodide']\n",
    "\n",
    "dt_label = widgets.Label(value=\"Select a detector type.\")\n",
    "\n",
    "detector_type = widgets.ToggleButtons(\n",
    "    options=detectors_short,\n",
    "    description='Type:',\n",
    "    disabled=False,\n",
    "    button_style='', # 'success', 'info', 'warning', 'danger' or ''\n",
    "    tooltips=detectors_long,\n",
    "#     icons=['check'] * 3\n",
    ")\n",
    "\n",
    "detector_type.observe(on_click_67, 'value')\n",
    "display(dt_label,detector_type)"
   ]
  },
  {
   "cell_type": "code",
   "execution_count": 231,
   "metadata": {},
   "outputs": [
    {
     "data": {
      "application/vnd.jupyter.widget-view+json": {
       "model_id": "24768f7a20734d048591257d7f4c616f",
       "version_major": 2,
       "version_minor": 0
      },
      "text/html": [
       "<p>Failed to display Jupyter Widget of type <code>Label</code>.</p>\n",
       "<p>\n",
       "  If you're reading this message in the Jupyter Notebook or JupyterLab Notebook, it may mean\n",
       "  that the widgets JavaScript is still loading. If this message persists, it\n",
       "  likely means that the widgets JavaScript library is either not installed or\n",
       "  not enabled. See the <a href=\"https://ipywidgets.readthedocs.io/en/stable/user_install.html\">Jupyter\n",
       "  Widgets Documentation</a> for setup instructions.\n",
       "</p>\n",
       "<p>\n",
       "  If you're reading this message in another frontend (for example, a static\n",
       "  rendering on GitHub or <a href=\"https://nbviewer.jupyter.org/\">NBViewer</a>),\n",
       "  it may mean that your frontend doesn't currently support widgets.\n",
       "</p>\n"
      ],
      "text/plain": [
       "Label(value='Select which secondary particle to plot spectra for.')"
      ]
     },
     "metadata": {},
     "output_type": "display_data"
    },
    {
     "data": {
      "application/vnd.jupyter.widget-view+json": {
       "model_id": "b9c41a6bf4dc47fc957178f51de473ba",
       "version_major": 2,
       "version_minor": 0
      },
      "text/html": [
       "<p>Failed to display Jupyter Widget of type <code>ToggleButtons</code>.</p>\n",
       "<p>\n",
       "  If you're reading this message in the Jupyter Notebook or JupyterLab Notebook, it may mean\n",
       "  that the widgets JavaScript is still loading. If this message persists, it\n",
       "  likely means that the widgets JavaScript library is either not installed or\n",
       "  not enabled. See the <a href=\"https://ipywidgets.readthedocs.io/en/stable/user_install.html\">Jupyter\n",
       "  Widgets Documentation</a> for setup instructions.\n",
       "</p>\n",
       "<p>\n",
       "  If you're reading this message in another frontend (for example, a static\n",
       "  rendering on GitHub or <a href=\"https://nbviewer.jupyter.org/\">NBViewer</a>),\n",
       "  it may mean that your frontend doesn't currently support widgets.\n",
       "</p>\n"
      ],
      "text/plain": [
       "ToggleButtons(description='Type:', options=('N', 'NDC', 'P (¹H)', 'D (²H)', 'T (³H)', 'S (³He)', 'A (⁴He)'), tooltips=['Neutron', 'Back Target Neutron', 'Proton', 'Deuteron', 'Triton', 'Helium-3', 'Helium-4'], value='N')"
      ]
     },
     "metadata": {},
     "output_type": "display_data"
    }
   ],
   "source": [
    "isi = find(ion_species.value,projectile_sym_str)\n",
    "iei = find(ion_energy.value,erg_options(isi))\n",
    "ftmi = find(target_material.value,target_mats_short)\n",
    "ftti = find(target_thickness.value,thicknesses)\n",
    "detti = find(detector_type.value,detectors_short)\n",
    "if detti==1: \n",
    "    add2deti = 6 # offset in matrix for NaI detectors\n",
    "else:\n",
    "    add2deti = 0 \n",
    "\n",
    "# See which secondary particles exist\n",
    "existing_pars_i = []\n",
    "for i in range(np.shape(mm_exists[0,isi,iei,ftmi,ftti,:,add2deti:(add2deti+6)])[0]):\n",
    "    if np.any(mm_exists[0,isi,iei,ftmi,ftti,i,add2deti:(add2deti+6)]):\n",
    "        existing_pars_i.append(i)\n",
    "        \n",
    "particles_long = ['Neutron','Back Target Neutron','Proton','Deuteron','Triton','Helium-3','Helium-4'] # second 'Neutron' can be renamed to specify deconvoluted origin\n",
    "particles_short = ['N','NDC','H','D','T','S','A']\n",
    "particles_med = ['N','NDC','P (\\u00B9H)','D (\\u00B2H)','T (\\u00B3H)','S (\\u00B3He)','A (\\u2074He)']\n",
    "\n",
    "present_pars_long = [particles_long[i] for i in existing_pars_i]\n",
    "present_pars_med = [particles_med[i] for i in existing_pars_i]\n",
    "\n",
    "sp_label = widgets.Label(value=\"Select which secondary particle to plot spectra for.\")\n",
    "\n",
    "secondary_particle = widgets.ToggleButtons(\n",
    "    options=present_pars_med,\n",
    "    description='Type:',\n",
    "    disabled=False,\n",
    "    button_style='', # 'success', 'info', 'warning', 'danger' or ''\n",
    "    tooltips=present_pars_long,\n",
    "#     icons=['check'] * 3\n",
    ")\n",
    "\n",
    "secondary_particle.observe(on_click_next, 'value')\n",
    "display(sp_label,secondary_particle)\n"
   ]
  },
  {
   "cell_type": "code",
   "execution_count": 232,
   "metadata": {},
   "outputs": [
    {
     "data": {
      "application/vnd.jupyter.widget-view+json": {
       "model_id": "4659bade3cfe4b68b0facbe23d41c078",
       "version_major": 2,
       "version_minor": 0
      },
      "text/html": [
       "<p>Failed to display Jupyter Widget of type <code>Label</code>.</p>\n",
       "<p>\n",
       "  If you're reading this message in the Jupyter Notebook or JupyterLab Notebook, it may mean\n",
       "  that the widgets JavaScript is still loading. If this message persists, it\n",
       "  likely means that the widgets JavaScript library is either not installed or\n",
       "  not enabled. See the <a href=\"https://ipywidgets.readthedocs.io/en/stable/user_install.html\">Jupyter\n",
       "  Widgets Documentation</a> for setup instructions.\n",
       "</p>\n",
       "<p>\n",
       "  If you're reading this message in another frontend (for example, a static\n",
       "  rendering on GitHub or <a href=\"https://nbviewer.jupyter.org/\">NBViewer</a>),\n",
       "  it may mean that your frontend doesn't currently support widgets.\n",
       "</p>\n"
      ],
      "text/plain": [
       "Label(value='Select the detector angles to plot.')"
      ]
     },
     "metadata": {},
     "output_type": "display_data"
    },
    {
     "data": {
      "application/vnd.jupyter.widget-view+json": {
       "model_id": "8dd1a20bd20b476b8e6a4d57c12c817f",
       "version_major": 2,
       "version_minor": 0
      },
      "text/html": [
       "<p>Failed to display Jupyter Widget of type <code>Checkbox</code>.</p>\n",
       "<p>\n",
       "  If you're reading this message in the Jupyter Notebook or JupyterLab Notebook, it may mean\n",
       "  that the widgets JavaScript is still loading. If this message persists, it\n",
       "  likely means that the widgets JavaScript library is either not installed or\n",
       "  not enabled. See the <a href=\"https://ipywidgets.readthedocs.io/en/stable/user_install.html\">Jupyter\n",
       "  Widgets Documentation</a> for setup instructions.\n",
       "</p>\n",
       "<p>\n",
       "  If you're reading this message in another frontend (for example, a static\n",
       "  rendering on GitHub or <a href=\"https://nbviewer.jupyter.org/\">NBViewer</a>),\n",
       "  it may mean that your frontend doesn't currently support widgets.\n",
       "</p>\n"
      ],
      "text/plain": [
       "Checkbox(value=True, description='10°')"
      ]
     },
     "metadata": {},
     "output_type": "display_data"
    },
    {
     "data": {
      "application/vnd.jupyter.widget-view+json": {
       "model_id": "92ecb9b8bcf041cfa255361128110348",
       "version_major": 2,
       "version_minor": 0
      },
      "text/html": [
       "<p>Failed to display Jupyter Widget of type <code>Checkbox</code>.</p>\n",
       "<p>\n",
       "  If you're reading this message in the Jupyter Notebook or JupyterLab Notebook, it may mean\n",
       "  that the widgets JavaScript is still loading. If this message persists, it\n",
       "  likely means that the widgets JavaScript library is either not installed or\n",
       "  not enabled. See the <a href=\"https://ipywidgets.readthedocs.io/en/stable/user_install.html\">Jupyter\n",
       "  Widgets Documentation</a> for setup instructions.\n",
       "</p>\n",
       "<p>\n",
       "  If you're reading this message in another frontend (for example, a static\n",
       "  rendering on GitHub or <a href=\"https://nbviewer.jupyter.org/\">NBViewer</a>),\n",
       "  it may mean that your frontend doesn't currently support widgets.\n",
       "</p>\n"
      ],
      "text/plain": [
       "Checkbox(value=True, description='30°')"
      ]
     },
     "metadata": {},
     "output_type": "display_data"
    },
    {
     "data": {
      "application/vnd.jupyter.widget-view+json": {
       "model_id": "2729cef414364dccbbf399e85542cf41",
       "version_major": 2,
       "version_minor": 0
      },
      "text/html": [
       "<p>Failed to display Jupyter Widget of type <code>Checkbox</code>.</p>\n",
       "<p>\n",
       "  If you're reading this message in the Jupyter Notebook or JupyterLab Notebook, it may mean\n",
       "  that the widgets JavaScript is still loading. If this message persists, it\n",
       "  likely means that the widgets JavaScript library is either not installed or\n",
       "  not enabled. See the <a href=\"https://ipywidgets.readthedocs.io/en/stable/user_install.html\">Jupyter\n",
       "  Widgets Documentation</a> for setup instructions.\n",
       "</p>\n",
       "<p>\n",
       "  If you're reading this message in another frontend (for example, a static\n",
       "  rendering on GitHub or <a href=\"https://nbviewer.jupyter.org/\">NBViewer</a>),\n",
       "  it may mean that your frontend doesn't currently support widgets.\n",
       "</p>\n"
      ],
      "text/plain": [
       "Checkbox(value=True, description='45°')"
      ]
     },
     "metadata": {},
     "output_type": "display_data"
    },
    {
     "data": {
      "application/vnd.jupyter.widget-view+json": {
       "model_id": "a3c7a2ecc3d743c788dd2df5c84f435d",
       "version_major": 2,
       "version_minor": 0
      },
      "text/html": [
       "<p>Failed to display Jupyter Widget of type <code>Checkbox</code>.</p>\n",
       "<p>\n",
       "  If you're reading this message in the Jupyter Notebook or JupyterLab Notebook, it may mean\n",
       "  that the widgets JavaScript is still loading. If this message persists, it\n",
       "  likely means that the widgets JavaScript library is either not installed or\n",
       "  not enabled. See the <a href=\"https://ipywidgets.readthedocs.io/en/stable/user_install.html\">Jupyter\n",
       "  Widgets Documentation</a> for setup instructions.\n",
       "</p>\n",
       "<p>\n",
       "  If you're reading this message in another frontend (for example, a static\n",
       "  rendering on GitHub or <a href=\"https://nbviewer.jupyter.org/\">NBViewer</a>),\n",
       "  it may mean that your frontend doesn't currently support widgets.\n",
       "</p>\n"
      ],
      "text/plain": [
       "Checkbox(value=True, description='60°')"
      ]
     },
     "metadata": {},
     "output_type": "display_data"
    },
    {
     "data": {
      "application/vnd.jupyter.widget-view+json": {
       "model_id": "e24886d706394561ac624af417bb60fe",
       "version_major": 2,
       "version_minor": 0
      },
      "text/html": [
       "<p>Failed to display Jupyter Widget of type <code>Checkbox</code>.</p>\n",
       "<p>\n",
       "  If you're reading this message in the Jupyter Notebook or JupyterLab Notebook, it may mean\n",
       "  that the widgets JavaScript is still loading. If this message persists, it\n",
       "  likely means that the widgets JavaScript library is either not installed or\n",
       "  not enabled. See the <a href=\"https://ipywidgets.readthedocs.io/en/stable/user_install.html\">Jupyter\n",
       "  Widgets Documentation</a> for setup instructions.\n",
       "</p>\n",
       "<p>\n",
       "  If you're reading this message in another frontend (for example, a static\n",
       "  rendering on GitHub or <a href=\"https://nbviewer.jupyter.org/\">NBViewer</a>),\n",
       "  it may mean that your frontend doesn't currently support widgets.\n",
       "</p>\n"
      ],
      "text/plain": [
       "Checkbox(value=True, description='80°')"
      ]
     },
     "metadata": {},
     "output_type": "display_data"
    },
    {
     "data": {
      "application/vnd.jupyter.widget-view+json": {
       "model_id": "87bee76679fd4a89bec09ee3932e1eba",
       "version_major": 2,
       "version_minor": 0
      },
      "text/html": [
       "<p>Failed to display Jupyter Widget of type <code>Checkbox</code>.</p>\n",
       "<p>\n",
       "  If you're reading this message in the Jupyter Notebook or JupyterLab Notebook, it may mean\n",
       "  that the widgets JavaScript is still loading. If this message persists, it\n",
       "  likely means that the widgets JavaScript library is either not installed or\n",
       "  not enabled. See the <a href=\"https://ipywidgets.readthedocs.io/en/stable/user_install.html\">Jupyter\n",
       "  Widgets Documentation</a> for setup instructions.\n",
       "</p>\n",
       "<p>\n",
       "  If you're reading this message in another frontend (for example, a static\n",
       "  rendering on GitHub or <a href=\"https://nbviewer.jupyter.org/\">NBViewer</a>),\n",
       "  it may mean that your frontend doesn't currently support widgets.\n",
       "</p>\n"
      ],
      "text/plain": [
       "Checkbox(value=True, description='135°')"
      ]
     },
     "metadata": {},
     "output_type": "display_data"
    }
   ],
   "source": [
    "isi = find(ion_species.value,projectile_sym_str)\n",
    "iei = find(ion_energy.value,erg_options(isi))\n",
    "ftmi = find(target_material.value,target_mats_short)\n",
    "ftti = find(target_thickness.value,thicknesses)\n",
    "detti = find(detector_type.value,detectors_short)\n",
    "spi = find(secondary_particle.value,particles_med)\n",
    "\n",
    "detectors_angles = [['10\\u00B0','30\\u00B0','45\\u00B0','60\\u00B0','80\\u00B0','135\\u00B0'], ['7.2\\u00B0','10\\u00B0','12.7\\u00B0','28.2\\u00B0','30\\u00B0','32.7\\u00B0']]\n",
    "available_det_angles = []\n",
    "\n",
    "da_label = widgets.Label(value=\"Select the detector angles to plot.\")\n",
    "\n",
    "dets = []\n",
    "for i in range(6):\n",
    "    if mm_exists[0,isi,iei,ftmi,ftti,spi,(add2deti+i)]:\n",
    "        available_det_angles.append(detectors_angles[detti][i])\n",
    "        dets.append(widgets.Checkbox(\n",
    "            value=True,\n",
    "            description=detectors_angles[detti][i],\n",
    "            disabled=False\n",
    "        ))\n",
    "\n",
    "display(da_label)\n",
    "for i in range(6):\n",
    "    if mm_exists[0,isi,iei,ftmi,ftti,spi,(add2deti+i)]:\n",
    "        display(dets[i])"
   ]
  },
  {
   "cell_type": "code",
   "execution_count": 139,
   "metadata": {},
   "outputs": [
    {
     "data": {
      "application/vnd.jupyter.widget-view+json": {
       "model_id": "08d58697f638486b99cb49be5bfc44e1",
       "version_major": 2,
       "version_minor": 0
      },
      "text/html": [
       "<p>Failed to display Jupyter Widget of type <code>Label</code>.</p>\n",
       "<p>\n",
       "  If you're reading this message in the Jupyter Notebook or JupyterLab Notebook, it may mean\n",
       "  that the widgets JavaScript is still loading. If this message persists, it\n",
       "  likely means that the widgets JavaScript library is either not installed or\n",
       "  not enabled. See the <a href=\"https://ipywidgets.readthedocs.io/en/stable/user_install.html\">Jupyter\n",
       "  Widgets Documentation</a> for setup instructions.\n",
       "</p>\n",
       "<p>\n",
       "  If you're reading this message in another frontend (for example, a static\n",
       "  rendering on GitHub or <a href=\"https://nbviewer.jupyter.org/\">NBViewer</a>),\n",
       "  it may mean that your frontend doesn't currently support widgets.\n",
       "</p>\n"
      ],
      "text/plain": [
       "Label(value='Select which sets of data to display.')"
      ]
     },
     "metadata": {},
     "output_type": "display_data"
    },
    {
     "data": {
      "application/vnd.jupyter.widget-view+json": {
       "model_id": "e44d20033d354555bacf154b127e386b",
       "version_major": 2,
       "version_minor": 0
      },
      "text/html": [
       "<p>Failed to display Jupyter Widget of type <code>Checkbox</code>.</p>\n",
       "<p>\n",
       "  If you're reading this message in the Jupyter Notebook or JupyterLab Notebook, it may mean\n",
       "  that the widgets JavaScript is still loading. If this message persists, it\n",
       "  likely means that the widgets JavaScript library is either not installed or\n",
       "  not enabled. See the <a href=\"https://ipywidgets.readthedocs.io/en/stable/user_install.html\">Jupyter\n",
       "  Widgets Documentation</a> for setup instructions.\n",
       "</p>\n",
       "<p>\n",
       "  If you're reading this message in another frontend (for example, a static\n",
       "  rendering on GitHub or <a href=\"https://nbviewer.jupyter.org/\">NBViewer</a>),\n",
       "  it may mean that your frontend doesn't currently support widgets.\n",
       "</p>\n"
      ],
      "text/plain": [
       "Checkbox(value=True, description='Experiment')"
      ]
     },
     "metadata": {},
     "output_type": "display_data"
    },
    {
     "data": {
      "application/vnd.jupyter.widget-view+json": {
       "model_id": "6f351bd584ab450796da4736b674fe20",
       "version_major": 2,
       "version_minor": 0
      },
      "text/html": [
       "<p>Failed to display Jupyter Widget of type <code>Checkbox</code>.</p>\n",
       "<p>\n",
       "  If you're reading this message in the Jupyter Notebook or JupyterLab Notebook, it may mean\n",
       "  that the widgets JavaScript is still loading. If this message persists, it\n",
       "  likely means that the widgets JavaScript library is either not installed or\n",
       "  not enabled. See the <a href=\"https://ipywidgets.readthedocs.io/en/stable/user_install.html\">Jupyter\n",
       "  Widgets Documentation</a> for setup instructions.\n",
       "</p>\n",
       "<p>\n",
       "  If you're reading this message in another frontend (for example, a static\n",
       "  rendering on GitHub or <a href=\"https://nbviewer.jupyter.org/\">NBViewer</a>),\n",
       "  it may mean that your frontend doesn't currently support widgets.\n",
       "</p>\n"
      ],
      "text/plain": [
       "Checkbox(value=True, description='MCNP simulated')"
      ]
     },
     "metadata": {},
     "output_type": "display_data"
    },
    {
     "data": {
      "application/vnd.jupyter.widget-view+json": {
       "model_id": "4682b7b4e8994b67846f45c0cb5da7d6",
       "version_major": 2,
       "version_minor": 0
      },
      "text/html": [
       "<p>Failed to display Jupyter Widget of type <code>Checkbox</code>.</p>\n",
       "<p>\n",
       "  If you're reading this message in the Jupyter Notebook or JupyterLab Notebook, it may mean\n",
       "  that the widgets JavaScript is still loading. If this message persists, it\n",
       "  likely means that the widgets JavaScript library is either not installed or\n",
       "  not enabled. See the <a href=\"https://ipywidgets.readthedocs.io/en/stable/user_install.html\">Jupyter\n",
       "  Widgets Documentation</a> for setup instructions.\n",
       "</p>\n",
       "<p>\n",
       "  If you're reading this message in another frontend (for example, a static\n",
       "  rendering on GitHub or <a href=\"https://nbviewer.jupyter.org/\">NBViewer</a>),\n",
       "  it may mean that your frontend doesn't currently support widgets.\n",
       "</p>\n"
      ],
      "text/plain": [
       "Checkbox(value=True, description='PHITS simulated')"
      ]
     },
     "metadata": {},
     "output_type": "display_data"
    }
   ],
   "source": [
    "isi = find(ion_species.value,projectile_sym_str)\n",
    "iei = find(ion_energy.value,erg_options(isi))\n",
    "ftmi = find(target_material.value,target_mats_short)\n",
    "ftti = find(target_thickness.value,thicknesses)\n",
    "detti = find(detector_type.value,detectors_short)\n",
    "spi = find(secondary_particle.value,particles_med)\n",
    "\n",
    "det_angle_i_list = []\n",
    "for i in range(len(available_det_angles)):\n",
    "    if dets[i].value:\n",
    "        if detti == 0:\n",
    "            det_angle_i_list.append(find(available_det_angles[i],detectors_angles[detti]))\n",
    "        else:\n",
    "            det_angle_i_list.append(find(available_det_angles[i],detectors_angles[detti])+6) # for NaI\n",
    "\n",
    "ds_label = widgets.Label(value='Select which sets of data to display.')            \n",
    "\n",
    "data_set_names = ['Experiment','MCNP simulated','PHITS simulated']\n",
    "data_sets = []\n",
    "for i in range(3):\n",
    "    data_sets.append(widgets.Checkbox(\n",
    "        value=True,\n",
    "        description=data_set_names[i],\n",
    "        disabled=False\n",
    "    ))\n",
    "\n",
    "display(ds_label)\n",
    "for i in range(3):\n",
    "    display(data_sets[i])\n",
    "\n"
   ]
  },
  {
   "cell_type": "code",
   "execution_count": 140,
   "metadata": {},
   "outputs": [
    {
     "data": {
      "application/vnd.jupyter.widget-view+json": {
       "model_id": "ac94792156cc476d9591700ac59a1036",
       "version_major": 2,
       "version_minor": 0
      },
      "text/html": [
       "<p>Failed to display Jupyter Widget of type <code>Label</code>.</p>\n",
       "<p>\n",
       "  If you're reading this message in the Jupyter Notebook or JupyterLab Notebook, it may mean\n",
       "  that the widgets JavaScript is still loading. If this message persists, it\n",
       "  likely means that the widgets JavaScript library is either not installed or\n",
       "  not enabled. See the <a href=\"https://ipywidgets.readthedocs.io/en/stable/user_install.html\">Jupyter\n",
       "  Widgets Documentation</a> for setup instructions.\n",
       "</p>\n",
       "<p>\n",
       "  If you're reading this message in another frontend (for example, a static\n",
       "  rendering on GitHub or <a href=\"https://nbviewer.jupyter.org/\">NBViewer</a>),\n",
       "  it may mean that your frontend doesn't currently support widgets.\n",
       "</p>\n"
      ],
      "text/plain": [
       "Label(value='Select how data sets for each detector should be spaced apart (if at all).')"
      ]
     },
     "metadata": {},
     "output_type": "display_data"
    },
    {
     "data": {
      "application/vnd.jupyter.widget-view+json": {
       "model_id": "1bc46e5d5e1f48d5b641fbe1495dafa2",
       "version_major": 2,
       "version_minor": 0
      },
      "text/html": [
       "<p>Failed to display Jupyter Widget of type <code>ToggleButtons</code>.</p>\n",
       "<p>\n",
       "  If you're reading this message in the Jupyter Notebook or JupyterLab Notebook, it may mean\n",
       "  that the widgets JavaScript is still loading. If this message persists, it\n",
       "  likely means that the widgets JavaScript library is either not installed or\n",
       "  not enabled. See the <a href=\"https://ipywidgets.readthedocs.io/en/stable/user_install.html\">Jupyter\n",
       "  Widgets Documentation</a> for setup instructions.\n",
       "</p>\n",
       "<p>\n",
       "  If you're reading this message in another frontend (for example, a static\n",
       "  rendering on GitHub or <a href=\"https://nbviewer.jupyter.org/\">NBViewer</a>),\n",
       "  it may mean that your frontend doesn't currently support widgets.\n",
       "</p>\n"
      ],
      "text/plain": [
       "ToggleButtons(description='Spacing:', options=('None', 'Spaced by 10²'), tooltips=['All values are presented as is.', 'Plots for different detectors are multiplied by powers of 10² for easier viewing.'], value='None')"
      ]
     },
     "metadata": {},
     "output_type": "display_data"
    },
    {
     "data": {
      "application/javascript": [
       "IPython.notebook.execute_cells([IPython.notebook.get_selected_index()+1])"
      ],
      "text/plain": [
       "<IPython.core.display.Javascript object>"
      ]
     },
     "metadata": {},
     "output_type": "display_data"
    },
    {
     "data": {
      "application/javascript": [
       "IPython.notebook.execute_cells([IPython.notebook.get_selected_index()+1])"
      ],
      "text/plain": [
       "<IPython.core.display.Javascript object>"
      ]
     },
     "metadata": {},
     "output_type": "display_data"
    },
    {
     "data": {
      "application/javascript": [
       "IPython.notebook.execute_cells([IPython.notebook.get_selected_index()+1])"
      ],
      "text/plain": [
       "<IPython.core.display.Javascript object>"
      ]
     },
     "metadata": {},
     "output_type": "display_data"
    }
   ],
   "source": [
    "isi = find(ion_species.value,projectile_sym_str)\n",
    "iei = find(ion_energy.value,erg_options(isi))\n",
    "ftmi = find(target_material.value,target_mats_short)\n",
    "ftti = find(target_thickness.value,thicknesses)\n",
    "detti = find(detector_type.value,detectors_short)\n",
    "spi = find(secondary_particle.value,particles_med)\n",
    "\n",
    "det_angle_i_list = []\n",
    "for i in range(len(available_det_angles)):\n",
    "    if dets[i].value:\n",
    "        if detti == 0:\n",
    "            det_angle_i_list.append(find(available_det_angles[i],detectors_angles[detti]))\n",
    "        else:\n",
    "            det_angle_i_list.append(find(available_det_angles[i],detectors_angles[detti])+6) # for NaI\n",
    "            \n",
    "data_set_i_list = []\n",
    "for i in range(3):\n",
    "    if data_sets[i].value:\n",
    "        data_set_i_list.append(i)\n",
    "\n",
    "spacing_short = ['None','Spaced by 10\\u00B2']\n",
    "spacing_long = ['All values are presented as is.','Plots for different detectors are multiplied by powers of 10\\u00B2 for easier viewing.']\n",
    "\n",
    "spacing_label = widgets.Label(value='Select how data sets for each detector should be spaced apart (if at all).')  \n",
    "\n",
    "spacing_choice = widgets.ToggleButtons(\n",
    "    options=spacing_short,\n",
    "    description='Spacing:',\n",
    "    disabled=False,\n",
    "    button_style='', # 'success', 'info', 'warning', 'danger' or ''\n",
    "    tooltips=spacing_long,\n",
    "#     icons=['check'] * 3\n",
    ")\n",
    "\n",
    "spacing_choice.observe(on_click_next, 'value')\n",
    "display(spacing_label, spacing_choice)"
   ]
  },
  {
   "cell_type": "code",
   "execution_count": 233,
   "metadata": {},
   "outputs": [
    {
     "data": {
      "application/vnd.jupyter.widget-view+json": {
       "model_id": "da5bb6d98c73482e8cc465cd38fa5007",
       "version_major": 2,
       "version_minor": 0
      },
      "text/html": [
       "<p>Failed to display Jupyter Widget of type <code>Button</code>.</p>\n",
       "<p>\n",
       "  If you're reading this message in the Jupyter Notebook or JupyterLab Notebook, it may mean\n",
       "  that the widgets JavaScript is still loading. If this message persists, it\n",
       "  likely means that the widgets JavaScript library is either not installed or\n",
       "  not enabled. See the <a href=\"https://ipywidgets.readthedocs.io/en/stable/user_install.html\">Jupyter\n",
       "  Widgets Documentation</a> for setup instructions.\n",
       "</p>\n",
       "<p>\n",
       "  If you're reading this message in another frontend (for example, a static\n",
       "  rendering on GitHub or <a href=\"https://nbviewer.jupyter.org/\">NBViewer</a>),\n",
       "  it may mean that your frontend doesn't currently support widgets.\n",
       "</p>\n"
      ],
      "text/plain": [
       "Button(description='Update plot', icon='check', style=ButtonStyle(), tooltip='Click me')"
      ]
     },
     "metadata": {},
     "output_type": "display_data"
    },
    {
     "data": {
      "application/javascript": [
       "IPython.notebook.execute_cells([IPython.notebook.get_selected_index()+1])"
      ],
      "text/plain": [
       "<IPython.core.display.Javascript object>"
      ]
     },
     "metadata": {},
     "output_type": "display_data"
    }
   ],
   "source": [
    "make_plot_button = widgets.Button(\n",
    "    description='Update plot',\n",
    "    disabled=False,\n",
    "    button_style='', # 'success', 'info', 'warning', 'danger' or ''\n",
    "    tooltip='Click me',\n",
    "    icon='check'\n",
    ")\n",
    "\n",
    "#make_plot_button.observe(on_click_next, 'value')\n",
    "display(make_plot_button)\n",
    "make_plot_button.on_click(on_click_next)"
   ]
  },
  {
   "cell_type": "code",
   "execution_count": 234,
   "metadata": {},
   "outputs": [
    {
     "data": {
      "application/javascript": [
       "/* Put everything inside the global mpl namespace */\n",
       "window.mpl = {};\n",
       "\n",
       "\n",
       "mpl.get_websocket_type = function() {\n",
       "    if (typeof(WebSocket) !== 'undefined') {\n",
       "        return WebSocket;\n",
       "    } else if (typeof(MozWebSocket) !== 'undefined') {\n",
       "        return MozWebSocket;\n",
       "    } else {\n",
       "        alert('Your browser does not have WebSocket support.' +\n",
       "              'Please try Chrome, Safari or Firefox ≥ 6. ' +\n",
       "              'Firefox 4 and 5 are also supported but you ' +\n",
       "              'have to enable WebSockets in about:config.');\n",
       "    };\n",
       "}\n",
       "\n",
       "mpl.figure = function(figure_id, websocket, ondownload, parent_element) {\n",
       "    this.id = figure_id;\n",
       "\n",
       "    this.ws = websocket;\n",
       "\n",
       "    this.supports_binary = (this.ws.binaryType != undefined);\n",
       "\n",
       "    if (!this.supports_binary) {\n",
       "        var warnings = document.getElementById(\"mpl-warnings\");\n",
       "        if (warnings) {\n",
       "            warnings.style.display = 'block';\n",
       "            warnings.textContent = (\n",
       "                \"This browser does not support binary websocket messages. \" +\n",
       "                    \"Performance may be slow.\");\n",
       "        }\n",
       "    }\n",
       "\n",
       "    this.imageObj = new Image();\n",
       "\n",
       "    this.context = undefined;\n",
       "    this.message = undefined;\n",
       "    this.canvas = undefined;\n",
       "    this.rubberband_canvas = undefined;\n",
       "    this.rubberband_context = undefined;\n",
       "    this.format_dropdown = undefined;\n",
       "\n",
       "    this.image_mode = 'full';\n",
       "\n",
       "    this.root = $('<div/>');\n",
       "    this._root_extra_style(this.root)\n",
       "    this.root.attr('style', 'display: inline-block');\n",
       "\n",
       "    $(parent_element).append(this.root);\n",
       "\n",
       "    this._init_header(this);\n",
       "    this._init_canvas(this);\n",
       "    this._init_toolbar(this);\n",
       "\n",
       "    var fig = this;\n",
       "\n",
       "    this.waiting = false;\n",
       "\n",
       "    this.ws.onopen =  function () {\n",
       "            fig.send_message(\"supports_binary\", {value: fig.supports_binary});\n",
       "            fig.send_message(\"send_image_mode\", {});\n",
       "            if (mpl.ratio != 1) {\n",
       "                fig.send_message(\"set_dpi_ratio\", {'dpi_ratio': mpl.ratio});\n",
       "            }\n",
       "            fig.send_message(\"refresh\", {});\n",
       "        }\n",
       "\n",
       "    this.imageObj.onload = function() {\n",
       "            if (fig.image_mode == 'full') {\n",
       "                // Full images could contain transparency (where diff images\n",
       "                // almost always do), so we need to clear the canvas so that\n",
       "                // there is no ghosting.\n",
       "                fig.context.clearRect(0, 0, fig.canvas.width, fig.canvas.height);\n",
       "            }\n",
       "            fig.context.drawImage(fig.imageObj, 0, 0);\n",
       "        };\n",
       "\n",
       "    this.imageObj.onunload = function() {\n",
       "        fig.ws.close();\n",
       "    }\n",
       "\n",
       "    this.ws.onmessage = this._make_on_message_function(this);\n",
       "\n",
       "    this.ondownload = ondownload;\n",
       "}\n",
       "\n",
       "mpl.figure.prototype._init_header = function() {\n",
       "    var titlebar = $(\n",
       "        '<div class=\"ui-dialog-titlebar ui-widget-header ui-corner-all ' +\n",
       "        'ui-helper-clearfix\"/>');\n",
       "    var titletext = $(\n",
       "        '<div class=\"ui-dialog-title\" style=\"width: 100%; ' +\n",
       "        'text-align: center; padding: 3px;\"/>');\n",
       "    titlebar.append(titletext)\n",
       "    this.root.append(titlebar);\n",
       "    this.header = titletext[0];\n",
       "}\n",
       "\n",
       "\n",
       "\n",
       "mpl.figure.prototype._canvas_extra_style = function(canvas_div) {\n",
       "\n",
       "}\n",
       "\n",
       "\n",
       "mpl.figure.prototype._root_extra_style = function(canvas_div) {\n",
       "\n",
       "}\n",
       "\n",
       "mpl.figure.prototype._init_canvas = function() {\n",
       "    var fig = this;\n",
       "\n",
       "    var canvas_div = $('<div/>');\n",
       "\n",
       "    canvas_div.attr('style', 'position: relative; clear: both; outline: 0');\n",
       "\n",
       "    function canvas_keyboard_event(event) {\n",
       "        return fig.key_event(event, event['data']);\n",
       "    }\n",
       "\n",
       "    canvas_div.keydown('key_press', canvas_keyboard_event);\n",
       "    canvas_div.keyup('key_release', canvas_keyboard_event);\n",
       "    this.canvas_div = canvas_div\n",
       "    this._canvas_extra_style(canvas_div)\n",
       "    this.root.append(canvas_div);\n",
       "\n",
       "    var canvas = $('<canvas/>');\n",
       "    canvas.addClass('mpl-canvas');\n",
       "    canvas.attr('style', \"left: 0; top: 0; z-index: 0; outline: 0\")\n",
       "\n",
       "    this.canvas = canvas[0];\n",
       "    this.context = canvas[0].getContext(\"2d\");\n",
       "\n",
       "    var backingStore = this.context.backingStorePixelRatio ||\n",
       "\tthis.context.webkitBackingStorePixelRatio ||\n",
       "\tthis.context.mozBackingStorePixelRatio ||\n",
       "\tthis.context.msBackingStorePixelRatio ||\n",
       "\tthis.context.oBackingStorePixelRatio ||\n",
       "\tthis.context.backingStorePixelRatio || 1;\n",
       "\n",
       "    mpl.ratio = (window.devicePixelRatio || 1) / backingStore;\n",
       "\n",
       "    var rubberband = $('<canvas/>');\n",
       "    rubberband.attr('style', \"position: absolute; left: 0; top: 0; z-index: 1;\")\n",
       "\n",
       "    var pass_mouse_events = true;\n",
       "\n",
       "    canvas_div.resizable({\n",
       "        start: function(event, ui) {\n",
       "            pass_mouse_events = false;\n",
       "        },\n",
       "        resize: function(event, ui) {\n",
       "            fig.request_resize(ui.size.width, ui.size.height);\n",
       "        },\n",
       "        stop: function(event, ui) {\n",
       "            pass_mouse_events = true;\n",
       "            fig.request_resize(ui.size.width, ui.size.height);\n",
       "        },\n",
       "    });\n",
       "\n",
       "    function mouse_event_fn(event) {\n",
       "        if (pass_mouse_events)\n",
       "            return fig.mouse_event(event, event['data']);\n",
       "    }\n",
       "\n",
       "    rubberband.mousedown('button_press', mouse_event_fn);\n",
       "    rubberband.mouseup('button_release', mouse_event_fn);\n",
       "    // Throttle sequential mouse events to 1 every 20ms.\n",
       "    rubberband.mousemove('motion_notify', mouse_event_fn);\n",
       "\n",
       "    rubberband.mouseenter('figure_enter', mouse_event_fn);\n",
       "    rubberband.mouseleave('figure_leave', mouse_event_fn);\n",
       "\n",
       "    canvas_div.on(\"wheel\", function (event) {\n",
       "        event = event.originalEvent;\n",
       "        event['data'] = 'scroll'\n",
       "        if (event.deltaY < 0) {\n",
       "            event.step = 1;\n",
       "        } else {\n",
       "            event.step = -1;\n",
       "        }\n",
       "        mouse_event_fn(event);\n",
       "    });\n",
       "\n",
       "    canvas_div.append(canvas);\n",
       "    canvas_div.append(rubberband);\n",
       "\n",
       "    this.rubberband = rubberband;\n",
       "    this.rubberband_canvas = rubberband[0];\n",
       "    this.rubberband_context = rubberband[0].getContext(\"2d\");\n",
       "    this.rubberband_context.strokeStyle = \"#000000\";\n",
       "\n",
       "    this._resize_canvas = function(width, height) {\n",
       "        // Keep the size of the canvas, canvas container, and rubber band\n",
       "        // canvas in synch.\n",
       "        canvas_div.css('width', width)\n",
       "        canvas_div.css('height', height)\n",
       "\n",
       "        canvas.attr('width', width * mpl.ratio);\n",
       "        canvas.attr('height', height * mpl.ratio);\n",
       "        canvas.attr('style', 'width: ' + width + 'px; height: ' + height + 'px;');\n",
       "\n",
       "        rubberband.attr('width', width);\n",
       "        rubberband.attr('height', height);\n",
       "    }\n",
       "\n",
       "    // Set the figure to an initial 600x600px, this will subsequently be updated\n",
       "    // upon first draw.\n",
       "    this._resize_canvas(600, 600);\n",
       "\n",
       "    // Disable right mouse context menu.\n",
       "    $(this.rubberband_canvas).bind(\"contextmenu\",function(e){\n",
       "        return false;\n",
       "    });\n",
       "\n",
       "    function set_focus () {\n",
       "        canvas.focus();\n",
       "        canvas_div.focus();\n",
       "    }\n",
       "\n",
       "    window.setTimeout(set_focus, 100);\n",
       "}\n",
       "\n",
       "mpl.figure.prototype._init_toolbar = function() {\n",
       "    var fig = this;\n",
       "\n",
       "    var nav_element = $('<div/>')\n",
       "    nav_element.attr('style', 'width: 100%');\n",
       "    this.root.append(nav_element);\n",
       "\n",
       "    // Define a callback function for later on.\n",
       "    function toolbar_event(event) {\n",
       "        return fig.toolbar_button_onclick(event['data']);\n",
       "    }\n",
       "    function toolbar_mouse_event(event) {\n",
       "        return fig.toolbar_button_onmouseover(event['data']);\n",
       "    }\n",
       "\n",
       "    for(var toolbar_ind in mpl.toolbar_items) {\n",
       "        var name = mpl.toolbar_items[toolbar_ind][0];\n",
       "        var tooltip = mpl.toolbar_items[toolbar_ind][1];\n",
       "        var image = mpl.toolbar_items[toolbar_ind][2];\n",
       "        var method_name = mpl.toolbar_items[toolbar_ind][3];\n",
       "\n",
       "        if (!name) {\n",
       "            // put a spacer in here.\n",
       "            continue;\n",
       "        }\n",
       "        var button = $('<button/>');\n",
       "        button.addClass('ui-button ui-widget ui-state-default ui-corner-all ' +\n",
       "                        'ui-button-icon-only');\n",
       "        button.attr('role', 'button');\n",
       "        button.attr('aria-disabled', 'false');\n",
       "        button.click(method_name, toolbar_event);\n",
       "        button.mouseover(tooltip, toolbar_mouse_event);\n",
       "\n",
       "        var icon_img = $('<span/>');\n",
       "        icon_img.addClass('ui-button-icon-primary ui-icon');\n",
       "        icon_img.addClass(image);\n",
       "        icon_img.addClass('ui-corner-all');\n",
       "\n",
       "        var tooltip_span = $('<span/>');\n",
       "        tooltip_span.addClass('ui-button-text');\n",
       "        tooltip_span.html(tooltip);\n",
       "\n",
       "        button.append(icon_img);\n",
       "        button.append(tooltip_span);\n",
       "\n",
       "        nav_element.append(button);\n",
       "    }\n",
       "\n",
       "    var fmt_picker_span = $('<span/>');\n",
       "\n",
       "    var fmt_picker = $('<select/>');\n",
       "    fmt_picker.addClass('mpl-toolbar-option ui-widget ui-widget-content');\n",
       "    fmt_picker_span.append(fmt_picker);\n",
       "    nav_element.append(fmt_picker_span);\n",
       "    this.format_dropdown = fmt_picker[0];\n",
       "\n",
       "    for (var ind in mpl.extensions) {\n",
       "        var fmt = mpl.extensions[ind];\n",
       "        var option = $(\n",
       "            '<option/>', {selected: fmt === mpl.default_extension}).html(fmt);\n",
       "        fmt_picker.append(option)\n",
       "    }\n",
       "\n",
       "    // Add hover states to the ui-buttons\n",
       "    $( \".ui-button\" ).hover(\n",
       "        function() { $(this).addClass(\"ui-state-hover\");},\n",
       "        function() { $(this).removeClass(\"ui-state-hover\");}\n",
       "    );\n",
       "\n",
       "    var status_bar = $('<span class=\"mpl-message\"/>');\n",
       "    nav_element.append(status_bar);\n",
       "    this.message = status_bar[0];\n",
       "}\n",
       "\n",
       "mpl.figure.prototype.request_resize = function(x_pixels, y_pixels) {\n",
       "    // Request matplotlib to resize the figure. Matplotlib will then trigger a resize in the client,\n",
       "    // which will in turn request a refresh of the image.\n",
       "    this.send_message('resize', {'width': x_pixels, 'height': y_pixels});\n",
       "}\n",
       "\n",
       "mpl.figure.prototype.send_message = function(type, properties) {\n",
       "    properties['type'] = type;\n",
       "    properties['figure_id'] = this.id;\n",
       "    this.ws.send(JSON.stringify(properties));\n",
       "}\n",
       "\n",
       "mpl.figure.prototype.send_draw_message = function() {\n",
       "    if (!this.waiting) {\n",
       "        this.waiting = true;\n",
       "        this.ws.send(JSON.stringify({type: \"draw\", figure_id: this.id}));\n",
       "    }\n",
       "}\n",
       "\n",
       "\n",
       "mpl.figure.prototype.handle_save = function(fig, msg) {\n",
       "    var format_dropdown = fig.format_dropdown;\n",
       "    var format = format_dropdown.options[format_dropdown.selectedIndex].value;\n",
       "    fig.ondownload(fig, format);\n",
       "}\n",
       "\n",
       "\n",
       "mpl.figure.prototype.handle_resize = function(fig, msg) {\n",
       "    var size = msg['size'];\n",
       "    if (size[0] != fig.canvas.width || size[1] != fig.canvas.height) {\n",
       "        fig._resize_canvas(size[0], size[1]);\n",
       "        fig.send_message(\"refresh\", {});\n",
       "    };\n",
       "}\n",
       "\n",
       "mpl.figure.prototype.handle_rubberband = function(fig, msg) {\n",
       "    var x0 = msg['x0'] / mpl.ratio;\n",
       "    var y0 = (fig.canvas.height - msg['y0']) / mpl.ratio;\n",
       "    var x1 = msg['x1'] / mpl.ratio;\n",
       "    var y1 = (fig.canvas.height - msg['y1']) / mpl.ratio;\n",
       "    x0 = Math.floor(x0) + 0.5;\n",
       "    y0 = Math.floor(y0) + 0.5;\n",
       "    x1 = Math.floor(x1) + 0.5;\n",
       "    y1 = Math.floor(y1) + 0.5;\n",
       "    var min_x = Math.min(x0, x1);\n",
       "    var min_y = Math.min(y0, y1);\n",
       "    var width = Math.abs(x1 - x0);\n",
       "    var height = Math.abs(y1 - y0);\n",
       "\n",
       "    fig.rubberband_context.clearRect(\n",
       "        0, 0, fig.canvas.width, fig.canvas.height);\n",
       "\n",
       "    fig.rubberband_context.strokeRect(min_x, min_y, width, height);\n",
       "}\n",
       "\n",
       "mpl.figure.prototype.handle_figure_label = function(fig, msg) {\n",
       "    // Updates the figure title.\n",
       "    fig.header.textContent = msg['label'];\n",
       "}\n",
       "\n",
       "mpl.figure.prototype.handle_cursor = function(fig, msg) {\n",
       "    var cursor = msg['cursor'];\n",
       "    switch(cursor)\n",
       "    {\n",
       "    case 0:\n",
       "        cursor = 'pointer';\n",
       "        break;\n",
       "    case 1:\n",
       "        cursor = 'default';\n",
       "        break;\n",
       "    case 2:\n",
       "        cursor = 'crosshair';\n",
       "        break;\n",
       "    case 3:\n",
       "        cursor = 'move';\n",
       "        break;\n",
       "    }\n",
       "    fig.rubberband_canvas.style.cursor = cursor;\n",
       "}\n",
       "\n",
       "mpl.figure.prototype.handle_message = function(fig, msg) {\n",
       "    fig.message.textContent = msg['message'];\n",
       "}\n",
       "\n",
       "mpl.figure.prototype.handle_draw = function(fig, msg) {\n",
       "    // Request the server to send over a new figure.\n",
       "    fig.send_draw_message();\n",
       "}\n",
       "\n",
       "mpl.figure.prototype.handle_image_mode = function(fig, msg) {\n",
       "    fig.image_mode = msg['mode'];\n",
       "}\n",
       "\n",
       "mpl.figure.prototype.updated_canvas_event = function() {\n",
       "    // Called whenever the canvas gets updated.\n",
       "    this.send_message(\"ack\", {});\n",
       "}\n",
       "\n",
       "// A function to construct a web socket function for onmessage handling.\n",
       "// Called in the figure constructor.\n",
       "mpl.figure.prototype._make_on_message_function = function(fig) {\n",
       "    return function socket_on_message(evt) {\n",
       "        if (evt.data instanceof Blob) {\n",
       "            /* FIXME: We get \"Resource interpreted as Image but\n",
       "             * transferred with MIME type text/plain:\" errors on\n",
       "             * Chrome.  But how to set the MIME type?  It doesn't seem\n",
       "             * to be part of the websocket stream */\n",
       "            evt.data.type = \"image/png\";\n",
       "\n",
       "            /* Free the memory for the previous frames */\n",
       "            if (fig.imageObj.src) {\n",
       "                (window.URL || window.webkitURL).revokeObjectURL(\n",
       "                    fig.imageObj.src);\n",
       "            }\n",
       "\n",
       "            fig.imageObj.src = (window.URL || window.webkitURL).createObjectURL(\n",
       "                evt.data);\n",
       "            fig.updated_canvas_event();\n",
       "            fig.waiting = false;\n",
       "            return;\n",
       "        }\n",
       "        else if (typeof evt.data === 'string' && evt.data.slice(0, 21) == \"data:image/png;base64\") {\n",
       "            fig.imageObj.src = evt.data;\n",
       "            fig.updated_canvas_event();\n",
       "            fig.waiting = false;\n",
       "            return;\n",
       "        }\n",
       "\n",
       "        var msg = JSON.parse(evt.data);\n",
       "        var msg_type = msg['type'];\n",
       "\n",
       "        // Call the  \"handle_{type}\" callback, which takes\n",
       "        // the figure and JSON message as its only arguments.\n",
       "        try {\n",
       "            var callback = fig[\"handle_\" + msg_type];\n",
       "        } catch (e) {\n",
       "            console.log(\"No handler for the '\" + msg_type + \"' message type: \", msg);\n",
       "            return;\n",
       "        }\n",
       "\n",
       "        if (callback) {\n",
       "            try {\n",
       "                // console.log(\"Handling '\" + msg_type + \"' message: \", msg);\n",
       "                callback(fig, msg);\n",
       "            } catch (e) {\n",
       "                console.log(\"Exception inside the 'handler_\" + msg_type + \"' callback:\", e, e.stack, msg);\n",
       "            }\n",
       "        }\n",
       "    };\n",
       "}\n",
       "\n",
       "// from http://stackoverflow.com/questions/1114465/getting-mouse-location-in-canvas\n",
       "mpl.findpos = function(e) {\n",
       "    //this section is from http://www.quirksmode.org/js/events_properties.html\n",
       "    var targ;\n",
       "    if (!e)\n",
       "        e = window.event;\n",
       "    if (e.target)\n",
       "        targ = e.target;\n",
       "    else if (e.srcElement)\n",
       "        targ = e.srcElement;\n",
       "    if (targ.nodeType == 3) // defeat Safari bug\n",
       "        targ = targ.parentNode;\n",
       "\n",
       "    // jQuery normalizes the pageX and pageY\n",
       "    // pageX,Y are the mouse positions relative to the document\n",
       "    // offset() returns the position of the element relative to the document\n",
       "    var x = e.pageX - $(targ).offset().left;\n",
       "    var y = e.pageY - $(targ).offset().top;\n",
       "\n",
       "    return {\"x\": x, \"y\": y};\n",
       "};\n",
       "\n",
       "/*\n",
       " * return a copy of an object with only non-object keys\n",
       " * we need this to avoid circular references\n",
       " * http://stackoverflow.com/a/24161582/3208463\n",
       " */\n",
       "function simpleKeys (original) {\n",
       "  return Object.keys(original).reduce(function (obj, key) {\n",
       "    if (typeof original[key] !== 'object')\n",
       "        obj[key] = original[key]\n",
       "    return obj;\n",
       "  }, {});\n",
       "}\n",
       "\n",
       "mpl.figure.prototype.mouse_event = function(event, name) {\n",
       "    var canvas_pos = mpl.findpos(event)\n",
       "\n",
       "    if (name === 'button_press')\n",
       "    {\n",
       "        this.canvas.focus();\n",
       "        this.canvas_div.focus();\n",
       "    }\n",
       "\n",
       "    var x = canvas_pos.x * mpl.ratio;\n",
       "    var y = canvas_pos.y * mpl.ratio;\n",
       "\n",
       "    this.send_message(name, {x: x, y: y, button: event.button,\n",
       "                             step: event.step,\n",
       "                             guiEvent: simpleKeys(event)});\n",
       "\n",
       "    /* This prevents the web browser from automatically changing to\n",
       "     * the text insertion cursor when the button is pressed.  We want\n",
       "     * to control all of the cursor setting manually through the\n",
       "     * 'cursor' event from matplotlib */\n",
       "    event.preventDefault();\n",
       "    return false;\n",
       "}\n",
       "\n",
       "mpl.figure.prototype._key_event_extra = function(event, name) {\n",
       "    // Handle any extra behaviour associated with a key event\n",
       "}\n",
       "\n",
       "mpl.figure.prototype.key_event = function(event, name) {\n",
       "\n",
       "    // Prevent repeat events\n",
       "    if (name == 'key_press')\n",
       "    {\n",
       "        if (event.which === this._key)\n",
       "            return;\n",
       "        else\n",
       "            this._key = event.which;\n",
       "    }\n",
       "    if (name == 'key_release')\n",
       "        this._key = null;\n",
       "\n",
       "    var value = '';\n",
       "    if (event.ctrlKey && event.which != 17)\n",
       "        value += \"ctrl+\";\n",
       "    if (event.altKey && event.which != 18)\n",
       "        value += \"alt+\";\n",
       "    if (event.shiftKey && event.which != 16)\n",
       "        value += \"shift+\";\n",
       "\n",
       "    value += 'k';\n",
       "    value += event.which.toString();\n",
       "\n",
       "    this._key_event_extra(event, name);\n",
       "\n",
       "    this.send_message(name, {key: value,\n",
       "                             guiEvent: simpleKeys(event)});\n",
       "    return false;\n",
       "}\n",
       "\n",
       "mpl.figure.prototype.toolbar_button_onclick = function(name) {\n",
       "    if (name == 'download') {\n",
       "        this.handle_save(this, null);\n",
       "    } else {\n",
       "        this.send_message(\"toolbar_button\", {name: name});\n",
       "    }\n",
       "};\n",
       "\n",
       "mpl.figure.prototype.toolbar_button_onmouseover = function(tooltip) {\n",
       "    this.message.textContent = tooltip;\n",
       "};\n",
       "mpl.toolbar_items = [[\"Home\", \"Reset original view\", \"fa fa-home icon-home\", \"home\"], [\"Back\", \"Back to  previous view\", \"fa fa-arrow-left icon-arrow-left\", \"back\"], [\"Forward\", \"Forward to next view\", \"fa fa-arrow-right icon-arrow-right\", \"forward\"], [\"\", \"\", \"\", \"\"], [\"Pan\", \"Pan axes with left mouse, zoom with right\", \"fa fa-arrows icon-move\", \"pan\"], [\"Zoom\", \"Zoom to rectangle\", \"fa fa-square-o icon-check-empty\", \"zoom\"], [\"\", \"\", \"\", \"\"], [\"Download\", \"Download plot\", \"fa fa-floppy-o icon-save\", \"download\"]];\n",
       "\n",
       "mpl.extensions = [\"eps\", \"jpeg\", \"pdf\", \"png\", \"ps\", \"raw\", \"svg\", \"tif\"];\n",
       "\n",
       "mpl.default_extension = \"png\";var comm_websocket_adapter = function(comm) {\n",
       "    // Create a \"websocket\"-like object which calls the given IPython comm\n",
       "    // object with the appropriate methods. Currently this is a non binary\n",
       "    // socket, so there is still some room for performance tuning.\n",
       "    var ws = {};\n",
       "\n",
       "    ws.close = function() {\n",
       "        comm.close()\n",
       "    };\n",
       "    ws.send = function(m) {\n",
       "        //console.log('sending', m);\n",
       "        comm.send(m);\n",
       "    };\n",
       "    // Register the callback with on_msg.\n",
       "    comm.on_msg(function(msg) {\n",
       "        //console.log('receiving', msg['content']['data'], msg);\n",
       "        // Pass the mpl event to the overriden (by mpl) onmessage function.\n",
       "        ws.onmessage(msg['content']['data'])\n",
       "    });\n",
       "    return ws;\n",
       "}\n",
       "\n",
       "mpl.mpl_figure_comm = function(comm, msg) {\n",
       "    // This is the function which gets called when the mpl process\n",
       "    // starts-up an IPython Comm through the \"matplotlib\" channel.\n",
       "\n",
       "    var id = msg.content.data.id;\n",
       "    // Get hold of the div created by the display call when the Comm\n",
       "    // socket was opened in Python.\n",
       "    var element = $(\"#\" + id);\n",
       "    var ws_proxy = comm_websocket_adapter(comm)\n",
       "\n",
       "    function ondownload(figure, format) {\n",
       "        window.open(figure.imageObj.src);\n",
       "    }\n",
       "\n",
       "    var fig = new mpl.figure(id, ws_proxy,\n",
       "                           ondownload,\n",
       "                           element.get(0));\n",
       "\n",
       "    // Call onopen now - mpl needs it, as it is assuming we've passed it a real\n",
       "    // web socket which is closed, not our websocket->open comm proxy.\n",
       "    ws_proxy.onopen();\n",
       "\n",
       "    fig.parent_element = element.get(0);\n",
       "    fig.cell_info = mpl.find_output_cell(\"<div id='\" + id + \"'></div>\");\n",
       "    if (!fig.cell_info) {\n",
       "        console.error(\"Failed to find cell for figure\", id, fig);\n",
       "        return;\n",
       "    }\n",
       "\n",
       "    var output_index = fig.cell_info[2]\n",
       "    var cell = fig.cell_info[0];\n",
       "\n",
       "};\n",
       "\n",
       "mpl.figure.prototype.handle_close = function(fig, msg) {\n",
       "    var width = fig.canvas.width/mpl.ratio\n",
       "    fig.root.unbind('remove')\n",
       "\n",
       "    // Update the output cell to use the data from the current canvas.\n",
       "    fig.push_to_output();\n",
       "    var dataURL = fig.canvas.toDataURL();\n",
       "    // Re-enable the keyboard manager in IPython - without this line, in FF,\n",
       "    // the notebook keyboard shortcuts fail.\n",
       "    IPython.keyboard_manager.enable()\n",
       "    $(fig.parent_element).html('<img src=\"' + dataURL + '\" width=\"' + width + '\">');\n",
       "    fig.close_ws(fig, msg);\n",
       "}\n",
       "\n",
       "mpl.figure.prototype.close_ws = function(fig, msg){\n",
       "    fig.send_message('closing', msg);\n",
       "    // fig.ws.close()\n",
       "}\n",
       "\n",
       "mpl.figure.prototype.push_to_output = function(remove_interactive) {\n",
       "    // Turn the data on the canvas into data in the output cell.\n",
       "    var width = this.canvas.width/mpl.ratio\n",
       "    var dataURL = this.canvas.toDataURL();\n",
       "    this.cell_info[1]['text/html'] = '<img src=\"' + dataURL + '\" width=\"' + width + '\">';\n",
       "}\n",
       "\n",
       "mpl.figure.prototype.updated_canvas_event = function() {\n",
       "    // Tell IPython that the notebook contents must change.\n",
       "    IPython.notebook.set_dirty(true);\n",
       "    this.send_message(\"ack\", {});\n",
       "    var fig = this;\n",
       "    // Wait a second, then push the new image to the DOM so\n",
       "    // that it is saved nicely (might be nice to debounce this).\n",
       "    setTimeout(function () { fig.push_to_output() }, 1000);\n",
       "}\n",
       "\n",
       "mpl.figure.prototype._init_toolbar = function() {\n",
       "    var fig = this;\n",
       "\n",
       "    var nav_element = $('<div/>')\n",
       "    nav_element.attr('style', 'width: 100%');\n",
       "    this.root.append(nav_element);\n",
       "\n",
       "    // Define a callback function for later on.\n",
       "    function toolbar_event(event) {\n",
       "        return fig.toolbar_button_onclick(event['data']);\n",
       "    }\n",
       "    function toolbar_mouse_event(event) {\n",
       "        return fig.toolbar_button_onmouseover(event['data']);\n",
       "    }\n",
       "\n",
       "    for(var toolbar_ind in mpl.toolbar_items){\n",
       "        var name = mpl.toolbar_items[toolbar_ind][0];\n",
       "        var tooltip = mpl.toolbar_items[toolbar_ind][1];\n",
       "        var image = mpl.toolbar_items[toolbar_ind][2];\n",
       "        var method_name = mpl.toolbar_items[toolbar_ind][3];\n",
       "\n",
       "        if (!name) { continue; };\n",
       "\n",
       "        var button = $('<button class=\"btn btn-default\" href=\"#\" title=\"' + name + '\"><i class=\"fa ' + image + ' fa-lg\"></i></button>');\n",
       "        button.click(method_name, toolbar_event);\n",
       "        button.mouseover(tooltip, toolbar_mouse_event);\n",
       "        nav_element.append(button);\n",
       "    }\n",
       "\n",
       "    // Add the status bar.\n",
       "    var status_bar = $('<span class=\"mpl-message\" style=\"text-align:right; float: right;\"/>');\n",
       "    nav_element.append(status_bar);\n",
       "    this.message = status_bar[0];\n",
       "\n",
       "    // Add the close button to the window.\n",
       "    var buttongrp = $('<div class=\"btn-group inline pull-right\"></div>');\n",
       "    var button = $('<button class=\"btn btn-mini btn-primary\" href=\"#\" title=\"Stop Interaction\"><i class=\"fa fa-power-off icon-remove icon-large\"></i></button>');\n",
       "    button.click(function (evt) { fig.handle_close(fig, {}); } );\n",
       "    button.mouseover('Stop Interaction', toolbar_mouse_event);\n",
       "    buttongrp.append(button);\n",
       "    var titlebar = this.root.find($('.ui-dialog-titlebar'));\n",
       "    titlebar.prepend(buttongrp);\n",
       "}\n",
       "\n",
       "mpl.figure.prototype._root_extra_style = function(el){\n",
       "    var fig = this\n",
       "    el.on(\"remove\", function(){\n",
       "\tfig.close_ws(fig, {});\n",
       "    });\n",
       "}\n",
       "\n",
       "mpl.figure.prototype._canvas_extra_style = function(el){\n",
       "    // this is important to make the div 'focusable\n",
       "    el.attr('tabindex', 0)\n",
       "    // reach out to IPython and tell the keyboard manager to turn it's self\n",
       "    // off when our div gets focus\n",
       "\n",
       "    // location in version 3\n",
       "    if (IPython.notebook.keyboard_manager) {\n",
       "        IPython.notebook.keyboard_manager.register_events(el);\n",
       "    }\n",
       "    else {\n",
       "        // location in version 2\n",
       "        IPython.keyboard_manager.register_events(el);\n",
       "    }\n",
       "\n",
       "}\n",
       "\n",
       "mpl.figure.prototype._key_event_extra = function(event, name) {\n",
       "    var manager = IPython.notebook.keyboard_manager;\n",
       "    if (!manager)\n",
       "        manager = IPython.keyboard_manager;\n",
       "\n",
       "    // Check for shift+enter\n",
       "    if (event.shiftKey && event.which == 13) {\n",
       "        this.canvas_div.blur();\n",
       "        event.shiftKey = false;\n",
       "        // Send a \"J\" for go to next cell\n",
       "        event.which = 74;\n",
       "        event.keyCode = 74;\n",
       "        manager.command_mode();\n",
       "        manager.handle_keydown(event);\n",
       "    }\n",
       "}\n",
       "\n",
       "mpl.figure.prototype.handle_save = function(fig, msg) {\n",
       "    fig.ondownload(fig, null);\n",
       "}\n",
       "\n",
       "\n",
       "mpl.find_output_cell = function(html_output) {\n",
       "    // Return the cell and output element which can be found *uniquely* in the notebook.\n",
       "    // Note - this is a bit hacky, but it is done because the \"notebook_saving.Notebook\"\n",
       "    // IPython event is triggered only after the cells have been serialised, which for\n",
       "    // our purposes (turning an active figure into a static one), is too late.\n",
       "    var cells = IPython.notebook.get_cells();\n",
       "    var ncells = cells.length;\n",
       "    for (var i=0; i<ncells; i++) {\n",
       "        var cell = cells[i];\n",
       "        if (cell.cell_type === 'code'){\n",
       "            for (var j=0; j<cell.output_area.outputs.length; j++) {\n",
       "                var data = cell.output_area.outputs[j];\n",
       "                if (data.data) {\n",
       "                    // IPython >= 3 moved mimebundle to data attribute of output\n",
       "                    data = data.data;\n",
       "                }\n",
       "                if (data['text/html'] == html_output) {\n",
       "                    return [cell, data, j];\n",
       "                }\n",
       "            }\n",
       "        }\n",
       "    }\n",
       "}\n",
       "\n",
       "// Register the function which deals with the matplotlib target/channel.\n",
       "// The kernel may be null if the page has been refreshed.\n",
       "if (IPython.notebook.kernel != null) {\n",
       "    IPython.notebook.kernel.comm_manager.register_target('matplotlib', mpl.mpl_figure_comm);\n",
       "}\n"
      ],
      "text/plain": [
       "<IPython.core.display.Javascript object>"
      ]
     },
     "metadata": {},
     "output_type": "display_data"
    },
    {
     "data": {
      "text/html": [
       "<img src=\"data:image/png;base64,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\" width=\"525\">"
      ],
      "text/plain": [
       "<IPython.core.display.HTML object>"
      ]
     },
     "metadata": {},
     "output_type": "display_data"
    }
   ],
   "source": [
    "isi = find(ion_species.value,projectile_sym_str)\n",
    "iei = find(ion_energy.value,erg_options(isi))\n",
    "ftmi = find(target_material.value,target_mats_short)\n",
    "ftti = find(target_thickness.value,thicknesses)\n",
    "detti = find(detector_type.value,detectors_short)\n",
    "spi = find(secondary_particle.value,particles_med)\n",
    "\n",
    "det_angle_i_list = []\n",
    "for i in range(len(available_det_angles)):\n",
    "    if dets[i].value:\n",
    "        if detti == 0:\n",
    "            det_angle_i_list.append(find(available_det_angles[i],detectors_angles[detti]))\n",
    "        else:\n",
    "            det_angle_i_list.append(find(available_det_angles[i],detectors_angles[detti])+6) # for NaI\n",
    "            \n",
    "data_set_i_list = []\n",
    "for i in range(3):\n",
    "    if data_sets[i].value:\n",
    "        data_set_i_list.append(i)\n",
    "        \n",
    "spacing_condition = find(spacing_choice.value,spacing_short)\n",
    "if spacing_condition == 0:\n",
    "    mult_factor_base = 1\n",
    "else:\n",
    "    mult_factor_base = 100\n",
    "\n",
    "fst = 16\n",
    "fs = 14\n",
    "beam_energy_text = erg_options(isi)[iei]\n",
    "beam_species_text = projectile_sym_str[isi]\n",
    "\n",
    "fig = plt.figure()\n",
    "ax = plt.subplot(111)\n",
    "# Axis labels\n",
    "title_text = particles_long[spi] + \" Energy Spectra for\" + \"\\n\" \n",
    "title_text += beam_energy_text +\" \"+ beam_species_text + \" on \"+ thicknesses[ftti] +\" \"+ target_mats_short[ftmi] \n",
    "plt.title(title_text,fontsize=fst)\n",
    "if spi <= 2:\n",
    "    plt.xlabel(\"Energy [MeV]\",fontsize=fs)\n",
    "else:\n",
    "    plt.xlabel(\"Energy [MeV/n]\",fontsize=fs)\n",
    "\n",
    "if spi == 1: # deconvoluted neutrons\n",
    "    leg_strings = [r'Experimental (deconvoluted)',r'MCNP (simulated)', r'PHITS (simulated)']\n",
    "    plt.ylabel(r\"Yield [#$\\cdot$/(MeV$\\cdot$s.p.)]\",fontsize=fs)\n",
    "else:\n",
    "    leg_strings = [r'Experimental (time-of-flight)',r'MCNP (simulated)', r'PHITS (simulated)']\n",
    "    if spi <= 2:\n",
    "        plt.ylabel(r\"Yield [#/(MeV$\\cdot$sr$\\cdot$s.p.)]\",fontsize=fs)\n",
    "    else:\n",
    "        plt.ylabel(r\"Yield [#/(MeV/n$\\cdot$sr$\\cdot$s.p.)]\",fontsize=fs)\n",
    "\n",
    "# Generate portion of legend specifying data sets\n",
    "if spi == 1:\n",
    "    exp_leg, = plt.errorbar(np.NaN, np.NaN,yerr=0, color='dimgrey', marker=\".\",markersize=3,linestyle=\":\",alpha=1.0), #, label=r'Deconvolued')\n",
    "else:\n",
    "    exp_leg,  = plt.errorbar(np.NaN, np.NaN,xerr=0,yerr=0,marker=\".\",c='dimgrey',markersize=2,linestyle=\"\",elinewidth=0.5,markeredgewidth=0.5,capsize=0), # , label=r'Experimental (ToF)') \n",
    "\n",
    "MCNP_leg, = plt.errorbar(np.NaN, np.NaN,yerr=0, color='dimgrey', marker=\"^\",markersize=3,linestyle=\"--\"), #, label=r'Simulated (MCNP)')\n",
    "PHITS_leg, = plt.errorbar(np.NaN, np.NaN,yerr=0, color='dimgrey', marker=\"s\",markersize=3,linestyle=\"--\"), #, label=r'Simulated (PHITS)')\n",
    "\n",
    "legs_for_ds = [exp_leg, MCNP_leg, PHITS_leg]\n",
    "used_ds_legs = []\n",
    "used_ds_leg_strs = []\n",
    "leg_handles1 = []\n",
    "leg_labels1 = []\n",
    "    \n",
    "for dsi in data_set_i_list:\n",
    "    used_ds_legs.append(legs_for_ds[dsi])\n",
    "    used_ds_leg_strs.append(leg_strings[dsi])\n",
    "    k=0\n",
    "    for di in det_angle_i_list:\n",
    "        ndet = str(di+1)\n",
    "        scale_power = 2*((len(det_angle_i_list)-1)-k)\n",
    "        mult_factor = mult_factor_base**scale_power\n",
    "        if spacing_condition == 0:\n",
    "            lab_text = detectors_angles[detti][di]\n",
    "        else:\n",
    "            lab_text = detectors_angles[detti][di] + r\" $\\times10^{{{0}}}$\".format(str(int(scale_power)))\n",
    "        k += 1\n",
    "        \n",
    "        # Make artificial legend for 6 detectors\n",
    "        ebp = ax.plot(np.NaN, np.NaN,c=detector_colors(di),marker=\"s\",markersize=8,linestyle=\"\") #,label=lab_text) #,label='Simulated (MCNP)')\n",
    "        leg_handles1.append(ebp[0])\n",
    "        leg_labels1.append(lab_text)\n",
    "        \n",
    "        nzi = np.nonzero(mm_values[dsi,iei,ftmi,ftti,spi,di,1,:])\n",
    "        xdata = mm_values[dsi,iei,ftmi,ftti,spi,di,1,:][nzi]\n",
    "        xbinw = [mm_values[dsi,iei,ftmi,ftti,spi,di,1,:][nzi]-mm_values[dsi,iei,ftmi,ftti,spi,di,0,:][nzi] , mm_values[dsi,iei,ftmi,ftti,spi,di,2,:][nzi]-mm_values[dsi,iei,ftmi,ftti,spi,di,1,:][nzi]]\n",
    "        ydata = mm_values[dsi,iei,ftmi,ftti,spi,di,3,:][nzi]\n",
    "        yerr_stat = mm_values[dsi,iei,ftmi,ftti,spi,di,4,:][nzi]\n",
    "        yerr_sys = mm_values[dsi,iei,ftmi,ftti,spi,di,5,:][nzi]\n",
    "        xerr = mm_values[dsi,iei,ftmi,ftti,spi,di,6,:][nzi]\n",
    "        \n",
    "        ydata = ydata*mult_factor\n",
    "        yerr_stat = yerr_stat*mult_factor\n",
    "        yerr_sys = yerr_sys*mult_factor\n",
    "        \n",
    "        # Generate plots\n",
    "        if dsi == 0: # experimental results\n",
    "            if spi == 1: # deconvoluted neutrons\n",
    "                alpha_val=1.0\n",
    "                marker_val = \".\"\n",
    "                p = plt.errorbar(xdata,ydata,yerr=yerr,c=detector_colors(di),marker=marker_val,markersize=3,linestyle=\":\",alpha=alpha_val,label=lab_text) #,label='Simulated (MCNP)')\n",
    "            else:\n",
    "                # x error bar (bin width)\n",
    "                xerrbar = xbinw\n",
    "                # x error box (energy resolution\n",
    "                xerrbox = xerr\n",
    "                xerrbox = np.array([xerrbox, xerrbox])\n",
    "                # y error bar (systematic uncertainty)\n",
    "                yerrbar = [yerr_sys, yerr_sys]\n",
    "                yerrbar[0][(ydata-yerrbar[0])<=0]=0 # get rid of negative error bars\n",
    "                yerrbar[1][(ydata)<=0]=0 # get rid of errorbars on negative points\n",
    "                # y error box (statistical uncertainty)\n",
    "                yerrbox = np.array([yerr_stat, yerr_stat])\n",
    "                \n",
    "                p = plt.errorbar(xdata,ydata,xerr=xerrbar,yerr=yerrbar,marker=\".\",c=detector_colors(di),markersize=2,linestyle=\"\",elinewidth=0.5,markeredgewidth=0.5,capsize=0,label=lab_text)\n",
    "                nx_color = detector_colors(di) #p[0].get_color()\n",
    "                makeErrorBoxes(xdata,ydata,xerrbox,yerrbox,fc='None',ec=nx_color,alpha=1.0,lw=0.5)\n",
    "                makeErrorBoxes(xdata,ydata,xerrbox,yerrbox,fc=nx_color,ec='None',alpha=0.1,lw=0.5)\n",
    "                \n",
    "        elif dsi == 1: # MCNP results\n",
    "            ebp = plt.errorbar(xdata,ydata,yerr=yerr_stat,c=detector_colors(di),marker=\"^\",markersize=3,linestyle=\"--\") #,label=lab_text) #,label='Simulated (MCNP)')\n",
    "        \n",
    "        elif dsi == 2: # PHITS results\n",
    "            ebp = plt.errorbar(xdata,ydata,yerr=yerr_stat,c=detector_colors(di),marker=\"s\",markersize=3,linestyle=\"--\") #,label=lab_text) #,label='Simulated (MCNP)')\n",
    "        \n",
    "        \n",
    "#handles, labels = ax.get_legend_handles_labels()\n",
    "if len(data_set_i_list)==3: # Three rows in named legend\n",
    "    box_h_multiplier = 0.92 # percentage of total height occupied by actual plot\n",
    "    box_h_offset = 0.12 # vertical offset left at the bottom for legend stuff\n",
    "    leg2_anchor = (0.5, -0.065)\n",
    "    leg1_anchor = (0.47, -0.155)\n",
    "elif len(data_set_i_list)==2: # Two rows of legend\n",
    "    box_h_multiplier = 0.92 # percentage of total height occupied by actual plot\n",
    "    box_h_offset = 0.12 # vertical offset left at the bottom for legend stuff\n",
    "    leg2_anchor = (0.5, -0.065)\n",
    "    leg1_anchor = (0.47, -0.155)\n",
    "else: # One row of legend\n",
    "    box_h_multiplier = 0.92 # percentage of total height occupied by actual plot\n",
    "    box_h_offset = 0.12 # vertical offset left at the bottom for legend stuff\n",
    "    leg2_anchor = (0.5, -0.065)\n",
    "    leg1_anchor = (0.47, -0.155)\n",
    "\n",
    "# Set size and location of the plot on the canvas\n",
    "box = ax.get_position()\n",
    "ax.set_position([box.x0 + box.width * 0.025, box.y0 + box.height * box_h_offset,box.width * 0.95, box.height * box_h_multiplier])\n",
    "\n",
    "# Put a legend below current axis\n",
    "legend2 = ax.legend(used_ds_legs,used_ds_leg_strs,loc='upper center', bbox_to_anchor=leg2_anchor, ncol=1)\n",
    "\n",
    "# Put a legend below current axis\n",
    "ax.legend(leg_handles1[:(len(det_angle_i_list))],leg_labels1[:(len(det_angle_i_list))],loc='upper center', bbox_to_anchor=leg1_anchor, ncol=3,handletextpad=0.1)\n",
    "ax.add_artist(legend2)\n",
    "\n",
    "window_title = mm_metadata[dsi,isi,iei,ftmi,ftti,spi,0,1] + \"_fig\"\n",
    "fig.canvas.set_window_title(window_title)\n",
    "if spacing_condition == 1: \n",
    "    fig.set_size_inches(5.25,10.25)\n",
    "        \n",
    "plt.xscale('log')\n",
    "plt.yscale('log')\n",
    "plt.grid(b=True, which='major', linestyle='-', alpha=0.25)\n",
    "plt.grid(b=True, which='minor', linestyle='-', alpha=0.10)\n",
    "plt.xlim([5,2000])\n",
    "        \n",
    "        \n",
    "        \n",
    "plt.show()        \n",
    "        \n",
    "    \n",
    "    \n"
   ]
  },
  {
   "cell_type": "code",
   "execution_count": null,
   "metadata": {},
   "outputs": [],
   "source": []
  },
  {
   "cell_type": "code",
   "execution_count": null,
   "metadata": {},
   "outputs": [],
   "source": []
  }
 ],
 "metadata": {
  "kernelspec": {
   "display_name": "Python 3",
   "language": "python",
   "name": "python3"
  },
  "language_info": {
   "codemirror_mode": {
    "name": "ipython",
    "version": 3
   },
   "file_extension": ".py",
   "mimetype": "text/x-python",
   "name": "python",
   "nbconvert_exporter": "python",
   "pygments_lexer": "ipython3",
   "version": "3.6.4"
  }
 },
 "nbformat": 4,
 "nbformat_minor": 1
}
