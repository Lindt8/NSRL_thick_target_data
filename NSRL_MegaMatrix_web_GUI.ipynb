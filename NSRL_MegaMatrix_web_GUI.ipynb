{
 "cells": [
  {
   "cell_type": "code",
   "execution_count": 11,
   "metadata": {},
   "outputs": [
    {
     "data": {
      "application/vnd.jupyter.widget-view+json": {
       "model_id": "bb9487c84cdb4b749272a588e733e276",
       "version_major": 2,
       "version_minor": 0
      },
      "text/html": [
       "<p>Failed to display Jupyter Widget of type <code>Label</code>.</p>\n",
       "<p>\n",
       "  If you're reading this message in the Jupyter Notebook or JupyterLab Notebook, it may mean\n",
       "  that the widgets JavaScript is still loading. If this message persists, it\n",
       "  likely means that the widgets JavaScript library is either not installed or\n",
       "  not enabled. See the <a href=\"https://ipywidgets.readthedocs.io/en/stable/user_install.html\">Jupyter\n",
       "  Widgets Documentation</a> for setup instructions.\n",
       "</p>\n",
       "<p>\n",
       "  If you're reading this message in another frontend (for example, a static\n",
       "  rendering on GitHub or <a href=\"https://nbviewer.jupyter.org/\">NBViewer</a>),\n",
       "  it may mean that your frontend doesn't currently support widgets.\n",
       "</p>\n"
      ],
      "text/plain": [
       "Label(value='Select projectile ion species.')"
      ]
     },
     "metadata": {},
     "output_type": "display_data"
    },
    {
     "data": {
      "application/vnd.jupyter.widget-view+json": {
       "model_id": "0d722b11d61940fe98b4a405b6ac9318",
       "version_major": 2,
       "version_minor": 0
      },
      "text/html": [
       "<p>Failed to display Jupyter Widget of type <code>ToggleButtons</code>.</p>\n",
       "<p>\n",
       "  If you're reading this message in the Jupyter Notebook or JupyterLab Notebook, it may mean\n",
       "  that the widgets JavaScript is still loading. If this message persists, it\n",
       "  likely means that the widgets JavaScript library is either not installed or\n",
       "  not enabled. See the <a href=\"https://ipywidgets.readthedocs.io/en/stable/user_install.html\">Jupyter\n",
       "  Widgets Documentation</a> for setup instructions.\n",
       "</p>\n",
       "<p>\n",
       "  If you're reading this message in another frontend (for example, a static\n",
       "  rendering on GitHub or <a href=\"https://nbviewer.jupyter.org/\">NBViewer</a>),\n",
       "  it may mean that your frontend doesn't currently support widgets.\n",
       "</p>\n"
      ],
      "text/plain": [
       "ToggleButtons(description='Ion:', options=('H', 'He', 'C', 'Si', 'Fe'), tooltips=['Hydrogen', 'Helium', 'Carbon', 'Silicon', 'Iron'], value='H')"
      ]
     },
     "metadata": {},
     "output_type": "display_data"
    }
   ],
   "source": [
    "%matplotlib notebook\n",
    "\n",
    "import numpy as np\n",
    "import matplotlib.pyplot as plt\n",
    "from matplotlib.collections import PatchCollection\n",
    "from matplotlib.patches import Rectangle\n",
    "import re\n",
    "from IPython.display import display\n",
    "from ipywidgets import interact, interactive, fixed, interact_manual\n",
    "import ipywidgets as widgets\n",
    "from IPython.display import Javascript\n",
    "\n",
    "def find(target, myList):\n",
    "    for i in range(len(myList)):\n",
    "        if myList[i] == target:\n",
    "            return i       \n",
    "\n",
    "def on_click(change):\n",
    "    #display(Javascript('IPython.notebook.execute_cells_below()'))  \n",
    "    display(Javascript('IPython.notebook.execute_cell_range(IPython.notebook.get_selected_index()+1, IPython.notebook.ncells())'))\n",
    "\n",
    "# Function to plot error boxes\n",
    "def makeErrorBoxes(xdata,ydata,xerror,yerror,fc='None',ec='k',alpha=1.0,lw=1):\n",
    "    # Create list for all the error patches\n",
    "    errorboxes = []\n",
    "\n",
    "    # Loop over data points; create box from errors at each point\n",
    "    for xc,yc,xe,ye in zip(xdata,ydata,xerror.T,yerror.T):\n",
    "        rect = Rectangle((xc-xe[0],yc-ye[0]),xe.sum(),ye.sum())\n",
    "        errorboxes.append(rect)\n",
    "\n",
    "    # Create patch collection with specified colour/alpha\n",
    "    pc = PatchCollection(errorboxes,facecolor=fc,alpha=alpha,edgecolor=ec,linewidth=lw)\n",
    "\n",
    "    # Add collection to axes\n",
    "    ax.add_collection(pc)    \n",
    "\n",
    "def detector_colors(di):\n",
    "    #colors_list = ['b','g','r','c','m','y'] # Python 3 old default\n",
    "    #colors_list = ['#b2182b','#d6604d','#f4a582','#92c5de','#4393c3','#2166ac'] # blue to red cold\n",
    "    #colors_list = ['#d73027','#f46d43','#fdae61','#abd9e9','#74add1','#4575b4'] # blue to red warm\n",
    "    #colors_list = ['#762a83','#9970ab','#c2a5cf','#a6dba0','#5aae61','#1b7837'] # purple to green\n",
    "    #colors_list = ['#40004b','#762a83','#9970ab','#5aae61','#1b7837','#00441b'] # purple to green darker\n",
    "    #colors_list = [\"#afa83a\",\"#7f63b8\",\"#56ae6c\",\"#b84c7d\",\"#ac863f\",\"#b94d3d\"] # iWantHue 1\n",
    "    #colors_list = ['#1b9e77','#d95f02','#7570b3','#e7298a','#66a61e','#e6ab02'] # qualitative dark 1\n",
    "    colors_list = ['#e41a1c','#377eb8','#4daf4a','#984ea3','#ff7f00','#a65628'] # qualitative dark 2\n",
    "    return colors_list[di]\n",
    "    \n",
    "data_version = 'v7'\n",
    "\n",
    "metadata_file = 'metadata_matrix_' + data_version + '.npy'\n",
    "mm_metadata = np.load(metadata_file) # data set, ion species, ion energy, target material, target thickness, secondary particle, detector, header meta data\n",
    "exists_file = 'exists_matrix_' + data_version + '.npy'\n",
    "mm_exists = np.load(exists_file) # data set, ion species, ion energy, target material, target thickness, secondary particle, detector\n",
    "\n",
    "#values_file = 'values_matrix_' + data_version + '.npy'\n",
    "#mm_values = np.load(values_file) # data set, ion species, ion energy, target material, target thickness, secondary particle, detector, column values, energy bins\n",
    "\n",
    "#print(mm_metadata[0,0,0,0,0,0,0,0])\n",
    "\n",
    "projectile_sym_str = ['H', 'He', 'C', 'Si', 'Fe']\n",
    "projectile_longnames_str = ['Hydrogen', 'Helium', 'Carbon', 'Silicon', 'Iron']\n",
    "\n",
    "mm_values_names_list = []\n",
    "for i in range(5):\n",
    "    mm_values_names_list.append('values_matrix_' + projectile_sym_str[i].lower() + \"_\" + data_version + '.npy')\n",
    "\n",
    "is_label = widgets.Label(value=\"Select projectile ion species.\")\n",
    "    \n",
    "ion_species = widgets.ToggleButtons(\n",
    "    options=projectile_sym_str,\n",
    "    description='Ion:',\n",
    "    disabled=False,\n",
    "    button_style='', # 'success', 'info', 'warning', 'danger' or ''\n",
    "    tooltips=projectile_longnames_str,\n",
    "#     icons=['check'] * 5\n",
    ")\n",
    "display(is_label,ion_species)\n",
    "ion_species.observe(on_click, 'value')\n",
    "\n"
   ]
  },
  {
   "cell_type": "code",
   "execution_count": 2,
   "metadata": {},
   "outputs": [
    {
     "data": {
      "application/vnd.jupyter.widget-view+json": {
       "model_id": "f44e23684dba453dbfa89da2580e8edb",
       "version_major": 2,
       "version_minor": 0
      },
      "text/html": [
       "<p>Failed to display Jupyter Widget of type <code>Label</code>.</p>\n",
       "<p>\n",
       "  If you're reading this message in the Jupyter Notebook or JupyterLab Notebook, it may mean\n",
       "  that the widgets JavaScript is still loading. If this message persists, it\n",
       "  likely means that the widgets JavaScript library is either not installed or\n",
       "  not enabled. See the <a href=\"https://ipywidgets.readthedocs.io/en/stable/user_install.html\">Jupyter\n",
       "  Widgets Documentation</a> for setup instructions.\n",
       "</p>\n",
       "<p>\n",
       "  If you're reading this message in another frontend (for example, a static\n",
       "  rendering on GitHub or <a href=\"https://nbviewer.jupyter.org/\">NBViewer</a>),\n",
       "  it may mean that your frontend doesn't currently support widgets.\n",
       "</p>\n"
      ],
      "text/plain": [
       "Label(value='Select projectile ion energy.')"
      ]
     },
     "metadata": {},
     "output_type": "display_data"
    },
    {
     "data": {
      "application/vnd.jupyter.widget-view+json": {
       "model_id": "9ceee2a117ef4487b24a7e31d3c48d64",
       "version_major": 2,
       "version_minor": 0
      },
      "text/html": [
       "<p>Failed to display Jupyter Widget of type <code>ToggleButtons</code>.</p>\n",
       "<p>\n",
       "  If you're reading this message in the Jupyter Notebook or JupyterLab Notebook, it may mean\n",
       "  that the widgets JavaScript is still loading. If this message persists, it\n",
       "  likely means that the widgets JavaScript library is either not installed or\n",
       "  not enabled. See the <a href=\"https://ipywidgets.readthedocs.io/en/stable/user_install.html\">Jupyter\n",
       "  Widgets Documentation</a> for setup instructions.\n",
       "</p>\n",
       "<p>\n",
       "  If you're reading this message in another frontend (for example, a static\n",
       "  rendering on GitHub or <a href=\"https://nbviewer.jupyter.org/\">NBViewer</a>),\n",
       "  it may mean that your frontend doesn't currently support widgets.\n",
       "</p>\n"
      ],
      "text/plain": [
       "ToggleButtons(description='Energy:', options=('400 MeV', '800 MeV', '2500 MeV'), tooltips=['lowest energy', 'middle energy', 'highest energy'], value='400 MeV')"
      ]
     },
     "metadata": {},
     "output_type": "display_data"
    }
   ],
   "source": [
    "isi = find(ion_species.value,projectile_sym_str)\n",
    "mm_values = np.load(mm_values_names_list[isi])\n",
    "\n",
    "def erg_options(isi):\n",
    "    if isi == 0:\n",
    "        proj_E = ['400 MeV','800 MeV','2500 MeV']\n",
    "    else:\n",
    "        proj_E = ['400 MeV/n','800 MeV/n','1500 MeV/n']\n",
    "    return proj_E\n",
    "\n",
    "Projectile_E_tooltips = ['lowest energy','middle energy', 'highest energy']\n",
    "\n",
    "ie_label = widgets.Label(value=\"Select projectile ion energy.\")\n",
    "\n",
    "ion_energy = widgets.ToggleButtons(\n",
    "    options=erg_options(isi),\n",
    "    description='Energy:',\n",
    "    disabled=False,\n",
    "    button_style='', # 'success', 'info', 'warning', 'danger' or ''\n",
    "    tooltips=Projectile_E_tooltips,\n",
    "#     icons=['check'] * 5\n",
    ")\n",
    "\n",
    "ion_energy.observe(on_click, 'value')\n",
    "display(ie_label, ion_energy)\n"
   ]
  },
  {
   "cell_type": "code",
   "execution_count": 3,
   "metadata": {},
   "outputs": [
    {
     "data": {
      "application/vnd.jupyter.widget-view+json": {
       "model_id": "804b6431d99c42068f88741a2428ba94",
       "version_major": 2,
       "version_minor": 0
      },
      "text/html": [
       "<p>Failed to display Jupyter Widget of type <code>Label</code>.</p>\n",
       "<p>\n",
       "  If you're reading this message in the Jupyter Notebook or JupyterLab Notebook, it may mean\n",
       "  that the widgets JavaScript is still loading. If this message persists, it\n",
       "  likely means that the widgets JavaScript library is either not installed or\n",
       "  not enabled. See the <a href=\"https://ipywidgets.readthedocs.io/en/stable/user_install.html\">Jupyter\n",
       "  Widgets Documentation</a> for setup instructions.\n",
       "</p>\n",
       "<p>\n",
       "  If you're reading this message in another frontend (for example, a static\n",
       "  rendering on GitHub or <a href=\"https://nbviewer.jupyter.org/\">NBViewer</a>),\n",
       "  it may mean that your frontend doesn't currently support widgets.\n",
       "</p>\n"
      ],
      "text/plain": [
       "Label(value='Select upstream target material.')"
      ]
     },
     "metadata": {},
     "output_type": "display_data"
    },
    {
     "data": {
      "application/vnd.jupyter.widget-view+json": {
       "model_id": "2624421a15c5447c99a2362cce999444",
       "version_major": 2,
       "version_minor": 0
      },
      "text/html": [
       "<p>Failed to display Jupyter Widget of type <code>ToggleButtons</code>.</p>\n",
       "<p>\n",
       "  If you're reading this message in the Jupyter Notebook or JupyterLab Notebook, it may mean\n",
       "  that the widgets JavaScript is still loading. If this message persists, it\n",
       "  likely means that the widgets JavaScript library is either not installed or\n",
       "  not enabled. See the <a href=\"https://ipywidgets.readthedocs.io/en/stable/user_install.html\">Jupyter\n",
       "  Widgets Documentation</a> for setup instructions.\n",
       "</p>\n",
       "<p>\n",
       "  If you're reading this message in another frontend (for example, a static\n",
       "  rendering on GitHub or <a href=\"https://nbviewer.jupyter.org/\">NBViewer</a>),\n",
       "  it may mean that your frontend doesn't currently support widgets.\n",
       "</p>\n"
      ],
      "text/plain": [
       "ToggleButtons(description='Material:', options=('Al', 'HDPE', 'AlPE'), tooltips=['Aluminum', 'Polyethylene', 'Combination of Al and HDPE'], value='Al')"
      ]
     },
     "metadata": {},
     "output_type": "display_data"
    }
   ],
   "source": [
    "iei = find(ion_energy.value,erg_options(isi))\n",
    "\n",
    "target_mats_long = ['Aluminum','Polyethylene','Combination of Al and HDPE']\n",
    "target_mats_short = ['Al','HDPE','AlPE']\n",
    "\n",
    "tm_label = widgets.Label(value=\"Select upstream target material.\")\n",
    "\n",
    "target_material = widgets.ToggleButtons(\n",
    "    options=target_mats_short,\n",
    "    description='Material:',\n",
    "    disabled=False,\n",
    "    button_style='', # 'success', 'info', 'warning', 'danger' or ''\n",
    "    tooltips=target_mats_long,\n",
    "#     icons=['check'] * 3\n",
    ")\n",
    "\n",
    "target_material.observe(on_click, 'value')\n",
    "display(tm_label, target_material)"
   ]
  },
  {
   "cell_type": "code",
   "execution_count": 4,
   "metadata": {},
   "outputs": [
    {
     "data": {
      "application/vnd.jupyter.widget-view+json": {
       "model_id": "ae052f2b78ac4b2c864a5825278f2285",
       "version_major": 2,
       "version_minor": 0
      },
      "text/html": [
       "<p>Failed to display Jupyter Widget of type <code>Label</code>.</p>\n",
       "<p>\n",
       "  If you're reading this message in the Jupyter Notebook or JupyterLab Notebook, it may mean\n",
       "  that the widgets JavaScript is still loading. If this message persists, it\n",
       "  likely means that the widgets JavaScript library is either not installed or\n",
       "  not enabled. See the <a href=\"https://ipywidgets.readthedocs.io/en/stable/user_install.html\">Jupyter\n",
       "  Widgets Documentation</a> for setup instructions.\n",
       "</p>\n",
       "<p>\n",
       "  If you're reading this message in another frontend (for example, a static\n",
       "  rendering on GitHub or <a href=\"https://nbviewer.jupyter.org/\">NBViewer</a>),\n",
       "  it may mean that your frontend doesn't currently support widgets.\n",
       "</p>\n"
      ],
      "text/plain": [
       "Label(value='Select upstream target mass thickness.')"
      ]
     },
     "metadata": {},
     "output_type": "display_data"
    },
    {
     "data": {
      "application/vnd.jupyter.widget-view+json": {
       "model_id": "a636279c056d4425ac2e94383da593bb",
       "version_major": 2,
       "version_minor": 0
      },
      "text/html": [
       "<p>Failed to display Jupyter Widget of type <code>ToggleButtons</code>.</p>\n",
       "<p>\n",
       "  If you're reading this message in the Jupyter Notebook or JupyterLab Notebook, it may mean\n",
       "  that the widgets JavaScript is still loading. If this message persists, it\n",
       "  likely means that the widgets JavaScript library is either not installed or\n",
       "  not enabled. See the <a href=\"https://ipywidgets.readthedocs.io/en/stable/user_install.html\">Jupyter\n",
       "  Widgets Documentation</a> for setup instructions.\n",
       "</p>\n",
       "<p>\n",
       "  If you're reading this message in another frontend (for example, a static\n",
       "  rendering on GitHub or <a href=\"https://nbviewer.jupyter.org/\">NBViewer</a>),\n",
       "  it may mean that your frontend doesn't currently support widgets.\n",
       "</p>\n"
      ],
      "text/plain": [
       "ToggleButtons(description='Thickness:', options=('20 g/cm²', '40 g/cm²', '60 g/cm²'), tooltips=['20 g/cm²', '40 g/cm²', '60 g/cm²'], value='20 g/cm²')"
      ]
     },
     "metadata": {},
     "output_type": "display_data"
    }
   ],
   "source": [
    "ftmi = find(target_material.value,target_mats_short)\n",
    "thicknesses = ['20 g/cm\\u00B2','40 g/cm\\u00B2','60 g/cm\\u00B2']\n",
    "def thickness_options(ftmi):\n",
    "    if ftmi == 2:\n",
    "        thicknesses = ['20 g/cm\\u00B2','60 g/cm\\u00B2']\n",
    "    else:\n",
    "        thicknesses = ['20 g/cm\\u00B2','40 g/cm\\u00B2','60 g/cm\\u00B2']\n",
    "    return thicknesses\n",
    "\n",
    "tt_label = widgets.Label(value=\"Select upstream target mass thickness.\")\n",
    "\n",
    "target_thickness = widgets.ToggleButtons(\n",
    "    options=thickness_options(ftmi),\n",
    "    description='Thickness:',\n",
    "    disabled=False,\n",
    "    button_style='', # 'success', 'info', 'warning', 'danger' or ''\n",
    "    tooltips=thickness_options(ftmi),\n",
    "#     icons=['check'] * 3\n",
    ")\n",
    "\n",
    "target_thickness.observe(on_click, 'value')\n",
    "display(tt_label, target_thickness)"
   ]
  },
  {
   "cell_type": "code",
   "execution_count": 5,
   "metadata": {},
   "outputs": [
    {
     "data": {
      "application/vnd.jupyter.widget-view+json": {
       "model_id": "272381bc4daa491abb0aa5e6b2f490d9",
       "version_major": 2,
       "version_minor": 0
      },
      "text/html": [
       "<p>Failed to display Jupyter Widget of type <code>Label</code>.</p>\n",
       "<p>\n",
       "  If you're reading this message in the Jupyter Notebook or JupyterLab Notebook, it may mean\n",
       "  that the widgets JavaScript is still loading. If this message persists, it\n",
       "  likely means that the widgets JavaScript library is either not installed or\n",
       "  not enabled. See the <a href=\"https://ipywidgets.readthedocs.io/en/stable/user_install.html\">Jupyter\n",
       "  Widgets Documentation</a> for setup instructions.\n",
       "</p>\n",
       "<p>\n",
       "  If you're reading this message in another frontend (for example, a static\n",
       "  rendering on GitHub or <a href=\"https://nbviewer.jupyter.org/\">NBViewer</a>),\n",
       "  it may mean that your frontend doesn't currently support widgets.\n",
       "</p>\n"
      ],
      "text/plain": [
       "Label(value='Select a detector type.')"
      ]
     },
     "metadata": {},
     "output_type": "display_data"
    },
    {
     "data": {
      "application/vnd.jupyter.widget-view+json": {
       "model_id": "bffcb925abed41d59f522be60585118c",
       "version_major": 2,
       "version_minor": 0
      },
      "text/html": [
       "<p>Failed to display Jupyter Widget of type <code>ToggleButtons</code>.</p>\n",
       "<p>\n",
       "  If you're reading this message in the Jupyter Notebook or JupyterLab Notebook, it may mean\n",
       "  that the widgets JavaScript is still loading. If this message persists, it\n",
       "  likely means that the widgets JavaScript library is either not installed or\n",
       "  not enabled. See the <a href=\"https://ipywidgets.readthedocs.io/en/stable/user_install.html\">Jupyter\n",
       "  Widgets Documentation</a> for setup instructions.\n",
       "</p>\n",
       "<p>\n",
       "  If you're reading this message in another frontend (for example, a static\n",
       "  rendering on GitHub or <a href=\"https://nbviewer.jupyter.org/\">NBViewer</a>),\n",
       "  it may mean that your frontend doesn't currently support widgets.\n",
       "</p>\n"
      ],
      "text/plain": [
       "ToggleButtons(description='Type:', options=('OLS', 'NaI'), tooltips=['Organic Liquid Scintillator', 'Sodium Iodide'], value='OLS')"
      ]
     },
     "metadata": {},
     "output_type": "display_data"
    }
   ],
   "source": [
    "ftti = find(target_thickness.value,thicknesses)\n",
    "\n",
    "detectors_short = ['OLS','NaI']\n",
    "detectors_long = ['Organic Liquid Scintillator','Sodium Iodide']\n",
    "\n",
    "dt_label = widgets.Label(value=\"Select a detector type.\")\n",
    "\n",
    "detector_type = widgets.ToggleButtons(\n",
    "    options=detectors_short,\n",
    "    description='Type:',\n",
    "    disabled=False,\n",
    "    button_style='', # 'success', 'info', 'warning', 'danger' or ''\n",
    "    tooltips=detectors_long,\n",
    "#     icons=['check'] * 3\n",
    ")\n",
    "\n",
    "detector_type.observe(on_click, 'value')\n",
    "display(dt_label,detector_type)"
   ]
  },
  {
   "cell_type": "code",
   "execution_count": 6,
   "metadata": {},
   "outputs": [
    {
     "data": {
      "application/vnd.jupyter.widget-view+json": {
       "model_id": "fb2efb9a37d3425e9452934d415a3c07",
       "version_major": 2,
       "version_minor": 0
      },
      "text/html": [
       "<p>Failed to display Jupyter Widget of type <code>Label</code>.</p>\n",
       "<p>\n",
       "  If you're reading this message in the Jupyter Notebook or JupyterLab Notebook, it may mean\n",
       "  that the widgets JavaScript is still loading. If this message persists, it\n",
       "  likely means that the widgets JavaScript library is either not installed or\n",
       "  not enabled. See the <a href=\"https://ipywidgets.readthedocs.io/en/stable/user_install.html\">Jupyter\n",
       "  Widgets Documentation</a> for setup instructions.\n",
       "</p>\n",
       "<p>\n",
       "  If you're reading this message in another frontend (for example, a static\n",
       "  rendering on GitHub or <a href=\"https://nbviewer.jupyter.org/\">NBViewer</a>),\n",
       "  it may mean that your frontend doesn't currently support widgets.\n",
       "</p>\n"
      ],
      "text/plain": [
       "Label(value='Select which secondary particle to plot spectra for.')"
      ]
     },
     "metadata": {},
     "output_type": "display_data"
    },
    {
     "data": {
      "application/vnd.jupyter.widget-view+json": {
       "model_id": "ba9bcfe88dda4cc7a95d72dd5ad0b773",
       "version_major": 2,
       "version_minor": 0
      },
      "text/html": [
       "<p>Failed to display Jupyter Widget of type <code>ToggleButtons</code>.</p>\n",
       "<p>\n",
       "  If you're reading this message in the Jupyter Notebook or JupyterLab Notebook, it may mean\n",
       "  that the widgets JavaScript is still loading. If this message persists, it\n",
       "  likely means that the widgets JavaScript library is either not installed or\n",
       "  not enabled. See the <a href=\"https://ipywidgets.readthedocs.io/en/stable/user_install.html\">Jupyter\n",
       "  Widgets Documentation</a> for setup instructions.\n",
       "</p>\n",
       "<p>\n",
       "  If you're reading this message in another frontend (for example, a static\n",
       "  rendering on GitHub or <a href=\"https://nbviewer.jupyter.org/\">NBViewer</a>),\n",
       "  it may mean that your frontend doesn't currently support widgets.\n",
       "</p>\n"
      ],
      "text/plain": [
       "ToggleButtons(description='Type:', options=('N', 'NDC', 'P (¹H)', 'D (²H)'), tooltips=['Neutron', 'Back Target Neutron', 'Proton', 'Deuteron'], value='N')"
      ]
     },
     "metadata": {},
     "output_type": "display_data"
    }
   ],
   "source": [
    "detti = find(detector_type.value,detectors_short)\n",
    "if detti==1: \n",
    "    add2deti = 6 # offset in matrix for NaI detectors\n",
    "else:\n",
    "    add2deti = 0 \n",
    "\n",
    "# See which secondary particles exist\n",
    "existing_pars_i = []\n",
    "for i in range(np.shape(mm_exists[0,isi,iei,ftmi,ftti,:,add2deti:(add2deti+6)])[0]):\n",
    "    if np.any(mm_exists[0,isi,iei,ftmi,ftti,i,add2deti:(add2deti+6)]):\n",
    "        existing_pars_i.append(i)\n",
    "        \n",
    "particles_long = ['Neutron','Back Target Neutron','Proton','Deuteron','Triton','Helium-3','Helium-4'] # second 'Neutron' can be renamed to specify deconvoluted origin\n",
    "particles_short = ['N','NDC','H','D','T','S','A']\n",
    "particles_med = ['N','NDC','P (\\u00B9H)','D (\\u00B2H)','T (\\u00B3H)','S (\\u00B3He)','A (\\u2074He)']\n",
    "\n",
    "present_pars_long = [particles_long[i] for i in existing_pars_i]\n",
    "present_pars_med = [particles_med[i] for i in existing_pars_i]\n",
    "\n",
    "sp_label = widgets.Label(value=\"Select which secondary particle to plot spectra for.\")\n",
    "\n",
    "secondary_particle = widgets.ToggleButtons(\n",
    "    options=present_pars_med,\n",
    "    description='Type:',\n",
    "    disabled=False,\n",
    "    button_style='', # 'success', 'info', 'warning', 'danger' or ''\n",
    "    tooltips=present_pars_long,\n",
    "#     icons=['check'] * 3\n",
    ")\n",
    "\n",
    "secondary_particle.observe(on_click, 'value')\n",
    "display(sp_label,secondary_particle)\n"
   ]
  },
  {
   "cell_type": "code",
   "execution_count": 7,
   "metadata": {},
   "outputs": [
    {
     "data": {
      "application/vnd.jupyter.widget-view+json": {
       "model_id": "5e3c5a15b37546ce87125e47264e2d7e",
       "version_major": 2,
       "version_minor": 0
      },
      "text/html": [
       "<p>Failed to display Jupyter Widget of type <code>Label</code>.</p>\n",
       "<p>\n",
       "  If you're reading this message in the Jupyter Notebook or JupyterLab Notebook, it may mean\n",
       "  that the widgets JavaScript is still loading. If this message persists, it\n",
       "  likely means that the widgets JavaScript library is either not installed or\n",
       "  not enabled. See the <a href=\"https://ipywidgets.readthedocs.io/en/stable/user_install.html\">Jupyter\n",
       "  Widgets Documentation</a> for setup instructions.\n",
       "</p>\n",
       "<p>\n",
       "  If you're reading this message in another frontend (for example, a static\n",
       "  rendering on GitHub or <a href=\"https://nbviewer.jupyter.org/\">NBViewer</a>),\n",
       "  it may mean that your frontend doesn't currently support widgets.\n",
       "</p>\n"
      ],
      "text/plain": [
       "Label(value='Select the detector angles to plot.')"
      ]
     },
     "metadata": {},
     "output_type": "display_data"
    },
    {
     "data": {
      "application/vnd.jupyter.widget-view+json": {
       "model_id": "9ae0d12f30a948d0b6b10ceb0f4360f2",
       "version_major": 2,
       "version_minor": 0
      },
      "text/html": [
       "<p>Failed to display Jupyter Widget of type <code>Checkbox</code>.</p>\n",
       "<p>\n",
       "  If you're reading this message in the Jupyter Notebook or JupyterLab Notebook, it may mean\n",
       "  that the widgets JavaScript is still loading. If this message persists, it\n",
       "  likely means that the widgets JavaScript library is either not installed or\n",
       "  not enabled. See the <a href=\"https://ipywidgets.readthedocs.io/en/stable/user_install.html\">Jupyter\n",
       "  Widgets Documentation</a> for setup instructions.\n",
       "</p>\n",
       "<p>\n",
       "  If you're reading this message in another frontend (for example, a static\n",
       "  rendering on GitHub or <a href=\"https://nbviewer.jupyter.org/\">NBViewer</a>),\n",
       "  it may mean that your frontend doesn't currently support widgets.\n",
       "</p>\n"
      ],
      "text/plain": [
       "Checkbox(value=True, description='10°')"
      ]
     },
     "metadata": {},
     "output_type": "display_data"
    },
    {
     "data": {
      "application/vnd.jupyter.widget-view+json": {
       "model_id": "82416c6e8fb24fb8af23f622b07c639e",
       "version_major": 2,
       "version_minor": 0
      },
      "text/html": [
       "<p>Failed to display Jupyter Widget of type <code>Checkbox</code>.</p>\n",
       "<p>\n",
       "  If you're reading this message in the Jupyter Notebook or JupyterLab Notebook, it may mean\n",
       "  that the widgets JavaScript is still loading. If this message persists, it\n",
       "  likely means that the widgets JavaScript library is either not installed or\n",
       "  not enabled. See the <a href=\"https://ipywidgets.readthedocs.io/en/stable/user_install.html\">Jupyter\n",
       "  Widgets Documentation</a> for setup instructions.\n",
       "</p>\n",
       "<p>\n",
       "  If you're reading this message in another frontend (for example, a static\n",
       "  rendering on GitHub or <a href=\"https://nbviewer.jupyter.org/\">NBViewer</a>),\n",
       "  it may mean that your frontend doesn't currently support widgets.\n",
       "</p>\n"
      ],
      "text/plain": [
       "Checkbox(value=True, description='30°')"
      ]
     },
     "metadata": {},
     "output_type": "display_data"
    },
    {
     "data": {
      "application/vnd.jupyter.widget-view+json": {
       "model_id": "5a69cca0b2134734927f720f96a60d0e",
       "version_major": 2,
       "version_minor": 0
      },
      "text/html": [
       "<p>Failed to display Jupyter Widget of type <code>Checkbox</code>.</p>\n",
       "<p>\n",
       "  If you're reading this message in the Jupyter Notebook or JupyterLab Notebook, it may mean\n",
       "  that the widgets JavaScript is still loading. If this message persists, it\n",
       "  likely means that the widgets JavaScript library is either not installed or\n",
       "  not enabled. See the <a href=\"https://ipywidgets.readthedocs.io/en/stable/user_install.html\">Jupyter\n",
       "  Widgets Documentation</a> for setup instructions.\n",
       "</p>\n",
       "<p>\n",
       "  If you're reading this message in another frontend (for example, a static\n",
       "  rendering on GitHub or <a href=\"https://nbviewer.jupyter.org/\">NBViewer</a>),\n",
       "  it may mean that your frontend doesn't currently support widgets.\n",
       "</p>\n"
      ],
      "text/plain": [
       "Checkbox(value=True, description='45°')"
      ]
     },
     "metadata": {},
     "output_type": "display_data"
    },
    {
     "data": {
      "application/vnd.jupyter.widget-view+json": {
       "model_id": "15d1b357c5334b4c974e0ff92af9ebfd",
       "version_major": 2,
       "version_minor": 0
      },
      "text/html": [
       "<p>Failed to display Jupyter Widget of type <code>Checkbox</code>.</p>\n",
       "<p>\n",
       "  If you're reading this message in the Jupyter Notebook or JupyterLab Notebook, it may mean\n",
       "  that the widgets JavaScript is still loading. If this message persists, it\n",
       "  likely means that the widgets JavaScript library is either not installed or\n",
       "  not enabled. See the <a href=\"https://ipywidgets.readthedocs.io/en/stable/user_install.html\">Jupyter\n",
       "  Widgets Documentation</a> for setup instructions.\n",
       "</p>\n",
       "<p>\n",
       "  If you're reading this message in another frontend (for example, a static\n",
       "  rendering on GitHub or <a href=\"https://nbviewer.jupyter.org/\">NBViewer</a>),\n",
       "  it may mean that your frontend doesn't currently support widgets.\n",
       "</p>\n"
      ],
      "text/plain": [
       "Checkbox(value=True, description='60°')"
      ]
     },
     "metadata": {},
     "output_type": "display_data"
    },
    {
     "data": {
      "application/vnd.jupyter.widget-view+json": {
       "model_id": "530aa85ac99347cc919d8138235ed06e",
       "version_major": 2,
       "version_minor": 0
      },
      "text/html": [
       "<p>Failed to display Jupyter Widget of type <code>Checkbox</code>.</p>\n",
       "<p>\n",
       "  If you're reading this message in the Jupyter Notebook or JupyterLab Notebook, it may mean\n",
       "  that the widgets JavaScript is still loading. If this message persists, it\n",
       "  likely means that the widgets JavaScript library is either not installed or\n",
       "  not enabled. See the <a href=\"https://ipywidgets.readthedocs.io/en/stable/user_install.html\">Jupyter\n",
       "  Widgets Documentation</a> for setup instructions.\n",
       "</p>\n",
       "<p>\n",
       "  If you're reading this message in another frontend (for example, a static\n",
       "  rendering on GitHub or <a href=\"https://nbviewer.jupyter.org/\">NBViewer</a>),\n",
       "  it may mean that your frontend doesn't currently support widgets.\n",
       "</p>\n"
      ],
      "text/plain": [
       "Checkbox(value=True, description='80°')"
      ]
     },
     "metadata": {},
     "output_type": "display_data"
    },
    {
     "data": {
      "application/vnd.jupyter.widget-view+json": {
       "model_id": "45dcf7f3baf843129bec748c6cac1d46",
       "version_major": 2,
       "version_minor": 0
      },
      "text/html": [
       "<p>Failed to display Jupyter Widget of type <code>Checkbox</code>.</p>\n",
       "<p>\n",
       "  If you're reading this message in the Jupyter Notebook or JupyterLab Notebook, it may mean\n",
       "  that the widgets JavaScript is still loading. If this message persists, it\n",
       "  likely means that the widgets JavaScript library is either not installed or\n",
       "  not enabled. See the <a href=\"https://ipywidgets.readthedocs.io/en/stable/user_install.html\">Jupyter\n",
       "  Widgets Documentation</a> for setup instructions.\n",
       "</p>\n",
       "<p>\n",
       "  If you're reading this message in another frontend (for example, a static\n",
       "  rendering on GitHub or <a href=\"https://nbviewer.jupyter.org/\">NBViewer</a>),\n",
       "  it may mean that your frontend doesn't currently support widgets.\n",
       "</p>\n"
      ],
      "text/plain": [
       "Checkbox(value=True, description='135°')"
      ]
     },
     "metadata": {},
     "output_type": "display_data"
    }
   ],
   "source": [
    "spi = find(secondary_particle.value,particles_med)\n",
    "\n",
    "detectors_angles = [['10\\u00B0','30\\u00B0','45\\u00B0','60\\u00B0','80\\u00B0','135\\u00B0'], ['7.2\\u00B0','10\\u00B0','12.7\\u00B0','28.2\\u00B0','30\\u00B0','32.7\\u00B0']]\n",
    "available_det_angles = []\n",
    "\n",
    "da_label = widgets.Label(value=\"Select the detector angles to plot.\")\n",
    "\n",
    "dets = []\n",
    "for i in range(6):\n",
    "    if mm_exists[0,isi,iei,ftmi,ftti,spi,(add2deti+i)]:\n",
    "        available_det_angles.append(detectors_angles[detti][i])\n",
    "        dets.append(widgets.Checkbox(\n",
    "            value=True,\n",
    "            description=detectors_angles[detti][i],\n",
    "            disabled=False\n",
    "        ))\n",
    "\n",
    "display(da_label)\n",
    "for i in range(6):\n",
    "    if mm_exists[0,isi,iei,ftmi,ftti,spi,(add2deti+i)]:\n",
    "        display(dets[i])"
   ]
  },
  {
   "cell_type": "code",
   "execution_count": 8,
   "metadata": {},
   "outputs": [
    {
     "data": {
      "application/vnd.jupyter.widget-view+json": {
       "model_id": "32a885827d9b43cbb0fd97cd64001306",
       "version_major": 2,
       "version_minor": 0
      },
      "text/html": [
       "<p>Failed to display Jupyter Widget of type <code>Label</code>.</p>\n",
       "<p>\n",
       "  If you're reading this message in the Jupyter Notebook or JupyterLab Notebook, it may mean\n",
       "  that the widgets JavaScript is still loading. If this message persists, it\n",
       "  likely means that the widgets JavaScript library is either not installed or\n",
       "  not enabled. See the <a href=\"https://ipywidgets.readthedocs.io/en/stable/user_install.html\">Jupyter\n",
       "  Widgets Documentation</a> for setup instructions.\n",
       "</p>\n",
       "<p>\n",
       "  If you're reading this message in another frontend (for example, a static\n",
       "  rendering on GitHub or <a href=\"https://nbviewer.jupyter.org/\">NBViewer</a>),\n",
       "  it may mean that your frontend doesn't currently support widgets.\n",
       "</p>\n"
      ],
      "text/plain": [
       "Label(value='Select which sets of data to display.')"
      ]
     },
     "metadata": {},
     "output_type": "display_data"
    },
    {
     "data": {
      "application/vnd.jupyter.widget-view+json": {
       "model_id": "d990ea92b7af43d2ba4d7de081273b96",
       "version_major": 2,
       "version_minor": 0
      },
      "text/html": [
       "<p>Failed to display Jupyter Widget of type <code>Checkbox</code>.</p>\n",
       "<p>\n",
       "  If you're reading this message in the Jupyter Notebook or JupyterLab Notebook, it may mean\n",
       "  that the widgets JavaScript is still loading. If this message persists, it\n",
       "  likely means that the widgets JavaScript library is either not installed or\n",
       "  not enabled. See the <a href=\"https://ipywidgets.readthedocs.io/en/stable/user_install.html\">Jupyter\n",
       "  Widgets Documentation</a> for setup instructions.\n",
       "</p>\n",
       "<p>\n",
       "  If you're reading this message in another frontend (for example, a static\n",
       "  rendering on GitHub or <a href=\"https://nbviewer.jupyter.org/\">NBViewer</a>),\n",
       "  it may mean that your frontend doesn't currently support widgets.\n",
       "</p>\n"
      ],
      "text/plain": [
       "Checkbox(value=True, description='Experiment')"
      ]
     },
     "metadata": {},
     "output_type": "display_data"
    },
    {
     "data": {
      "application/vnd.jupyter.widget-view+json": {
       "model_id": "8157b3b40d284df586f2872187da5a62",
       "version_major": 2,
       "version_minor": 0
      },
      "text/html": [
       "<p>Failed to display Jupyter Widget of type <code>Checkbox</code>.</p>\n",
       "<p>\n",
       "  If you're reading this message in the Jupyter Notebook or JupyterLab Notebook, it may mean\n",
       "  that the widgets JavaScript is still loading. If this message persists, it\n",
       "  likely means that the widgets JavaScript library is either not installed or\n",
       "  not enabled. See the <a href=\"https://ipywidgets.readthedocs.io/en/stable/user_install.html\">Jupyter\n",
       "  Widgets Documentation</a> for setup instructions.\n",
       "</p>\n",
       "<p>\n",
       "  If you're reading this message in another frontend (for example, a static\n",
       "  rendering on GitHub or <a href=\"https://nbviewer.jupyter.org/\">NBViewer</a>),\n",
       "  it may mean that your frontend doesn't currently support widgets.\n",
       "</p>\n"
      ],
      "text/plain": [
       "Checkbox(value=True, description='MCNP simulated')"
      ]
     },
     "metadata": {},
     "output_type": "display_data"
    },
    {
     "data": {
      "application/vnd.jupyter.widget-view+json": {
       "model_id": "fe0feafb744343c9a16dcab2e3a3b50d",
       "version_major": 2,
       "version_minor": 0
      },
      "text/html": [
       "<p>Failed to display Jupyter Widget of type <code>Checkbox</code>.</p>\n",
       "<p>\n",
       "  If you're reading this message in the Jupyter Notebook or JupyterLab Notebook, it may mean\n",
       "  that the widgets JavaScript is still loading. If this message persists, it\n",
       "  likely means that the widgets JavaScript library is either not installed or\n",
       "  not enabled. See the <a href=\"https://ipywidgets.readthedocs.io/en/stable/user_install.html\">Jupyter\n",
       "  Widgets Documentation</a> for setup instructions.\n",
       "</p>\n",
       "<p>\n",
       "  If you're reading this message in another frontend (for example, a static\n",
       "  rendering on GitHub or <a href=\"https://nbviewer.jupyter.org/\">NBViewer</a>),\n",
       "  it may mean that your frontend doesn't currently support widgets.\n",
       "</p>\n"
      ],
      "text/plain": [
       "Checkbox(value=True, description='PHITS simulated')"
      ]
     },
     "metadata": {},
     "output_type": "display_data"
    }
   ],
   "source": [
    "det_angle_i_list = []\n",
    "for i in range(len(available_det_angles)):\n",
    "    if dets[i].value:\n",
    "        if detti == 0:\n",
    "            det_angle_i_list.append(find(available_det_angles[i],detectors_angles[detti]))\n",
    "        else:\n",
    "            det_angle_i_list.append(find(available_det_angles[i],detectors_angles[detti])+6) # for NaI\n",
    "\n",
    "ds_label = widgets.Label(value='Select which sets of data to display.')            \n",
    "\n",
    "data_set_names = ['Experiment','MCNP simulated','PHITS simulated']\n",
    "data_sets = []\n",
    "for i in range(3):\n",
    "    data_sets.append(widgets.Checkbox(\n",
    "        value=True,\n",
    "        description=data_set_names[i],\n",
    "        disabled=False\n",
    "    ))\n",
    "\n",
    "display(ds_label)\n",
    "for i in range(3):\n",
    "    display(data_sets[i])\n",
    "\n"
   ]
  },
  {
   "cell_type": "code",
   "execution_count": 9,
   "metadata": {},
   "outputs": [
    {
     "data": {
      "application/vnd.jupyter.widget-view+json": {
       "model_id": "655f2c6910ba415ea69a445eaaa9929d",
       "version_major": 2,
       "version_minor": 0
      },
      "text/html": [
       "<p>Failed to display Jupyter Widget of type <code>Label</code>.</p>\n",
       "<p>\n",
       "  If you're reading this message in the Jupyter Notebook or JupyterLab Notebook, it may mean\n",
       "  that the widgets JavaScript is still loading. If this message persists, it\n",
       "  likely means that the widgets JavaScript library is either not installed or\n",
       "  not enabled. See the <a href=\"https://ipywidgets.readthedocs.io/en/stable/user_install.html\">Jupyter\n",
       "  Widgets Documentation</a> for setup instructions.\n",
       "</p>\n",
       "<p>\n",
       "  If you're reading this message in another frontend (for example, a static\n",
       "  rendering on GitHub or <a href=\"https://nbviewer.jupyter.org/\">NBViewer</a>),\n",
       "  it may mean that your frontend doesn't currently support widgets.\n",
       "</p>\n"
      ],
      "text/plain": [
       "Label(value='Select how data sets for each detector should be spaced apart (if at all).')"
      ]
     },
     "metadata": {},
     "output_type": "display_data"
    },
    {
     "data": {
      "application/vnd.jupyter.widget-view+json": {
       "model_id": "b3bdaba1ec74432e9639cad972105113",
       "version_major": 2,
       "version_minor": 0
      },
      "text/html": [
       "<p>Failed to display Jupyter Widget of type <code>ToggleButtons</code>.</p>\n",
       "<p>\n",
       "  If you're reading this message in the Jupyter Notebook or JupyterLab Notebook, it may mean\n",
       "  that the widgets JavaScript is still loading. If this message persists, it\n",
       "  likely means that the widgets JavaScript library is either not installed or\n",
       "  not enabled. See the <a href=\"https://ipywidgets.readthedocs.io/en/stable/user_install.html\">Jupyter\n",
       "  Widgets Documentation</a> for setup instructions.\n",
       "</p>\n",
       "<p>\n",
       "  If you're reading this message in another frontend (for example, a static\n",
       "  rendering on GitHub or <a href=\"https://nbviewer.jupyter.org/\">NBViewer</a>),\n",
       "  it may mean that your frontend doesn't currently support widgets.\n",
       "</p>\n"
      ],
      "text/plain": [
       "ToggleButtons(description='Spacing:', options=('None', 'Spaced by 10²'), tooltips=['All values are presented as is.', 'Plots for different detectors are multiplied by powers of 10² for easier viewing.'], value='None')"
      ]
     },
     "metadata": {},
     "output_type": "display_data"
    }
   ],
   "source": [
    "data_set_i_list = []\n",
    "for i in range(3):\n",
    "    if data_sets[i].value:\n",
    "        data_set_i_list.append(i)\n",
    "\n",
    "spacing_short = ['None','Spaced by 10\\u00B2']\n",
    "spacing_long = ['All values are presented as is.','Plots for different detectors are multiplied by powers of 10\\u00B2 for easier viewing.']\n",
    "\n",
    "spacing_label = widgets.Label(value='Select how data sets for each detector should be spaced apart (if at all).')  \n",
    "\n",
    "spacing_choice = widgets.ToggleButtons(\n",
    "    options=spacing_short,\n",
    "    description='Spacing:',\n",
    "    disabled=False,\n",
    "    button_style='', # 'success', 'info', 'warning', 'danger' or ''\n",
    "    tooltips=spacing_long,\n",
    "#     icons=['check'] * 3\n",
    ")\n",
    "\n",
    "spacing_choice.observe(on_click, 'value')\n",
    "display(spacing_label, spacing_choice)"
   ]
  },
  {
   "cell_type": "code",
   "execution_count": 10,
   "metadata": {},
   "outputs": [
    {
     "data": {
      "application/javascript": [
       "/* Put everything inside the global mpl namespace */\n",
       "window.mpl = {};\n",
       "\n",
       "\n",
       "mpl.get_websocket_type = function() {\n",
       "    if (typeof(WebSocket) !== 'undefined') {\n",
       "        return WebSocket;\n",
       "    } else if (typeof(MozWebSocket) !== 'undefined') {\n",
       "        return MozWebSocket;\n",
       "    } else {\n",
       "        alert('Your browser does not have WebSocket support.' +\n",
       "              'Please try Chrome, Safari or Firefox ≥ 6. ' +\n",
       "              'Firefox 4 and 5 are also supported but you ' +\n",
       "              'have to enable WebSockets in about:config.');\n",
       "    };\n",
       "}\n",
       "\n",
       "mpl.figure = function(figure_id, websocket, ondownload, parent_element) {\n",
       "    this.id = figure_id;\n",
       "\n",
       "    this.ws = websocket;\n",
       "\n",
       "    this.supports_binary = (this.ws.binaryType != undefined);\n",
       "\n",
       "    if (!this.supports_binary) {\n",
       "        var warnings = document.getElementById(\"mpl-warnings\");\n",
       "        if (warnings) {\n",
       "            warnings.style.display = 'block';\n",
       "            warnings.textContent = (\n",
       "                \"This browser does not support binary websocket messages. \" +\n",
       "                    \"Performance may be slow.\");\n",
       "        }\n",
       "    }\n",
       "\n",
       "    this.imageObj = new Image();\n",
       "\n",
       "    this.context = undefined;\n",
       "    this.message = undefined;\n",
       "    this.canvas = undefined;\n",
       "    this.rubberband_canvas = undefined;\n",
       "    this.rubberband_context = undefined;\n",
       "    this.format_dropdown = undefined;\n",
       "\n",
       "    this.image_mode = 'full';\n",
       "\n",
       "    this.root = $('<div/>');\n",
       "    this._root_extra_style(this.root)\n",
       "    this.root.attr('style', 'display: inline-block');\n",
       "\n",
       "    $(parent_element).append(this.root);\n",
       "\n",
       "    this._init_header(this);\n",
       "    this._init_canvas(this);\n",
       "    this._init_toolbar(this);\n",
       "\n",
       "    var fig = this;\n",
       "\n",
       "    this.waiting = false;\n",
       "\n",
       "    this.ws.onopen =  function () {\n",
       "            fig.send_message(\"supports_binary\", {value: fig.supports_binary});\n",
       "            fig.send_message(\"send_image_mode\", {});\n",
       "            if (mpl.ratio != 1) {\n",
       "                fig.send_message(\"set_dpi_ratio\", {'dpi_ratio': mpl.ratio});\n",
       "            }\n",
       "            fig.send_message(\"refresh\", {});\n",
       "        }\n",
       "\n",
       "    this.imageObj.onload = function() {\n",
       "            if (fig.image_mode == 'full') {\n",
       "                // Full images could contain transparency (where diff images\n",
       "                // almost always do), so we need to clear the canvas so that\n",
       "                // there is no ghosting.\n",
       "                fig.context.clearRect(0, 0, fig.canvas.width, fig.canvas.height);\n",
       "            }\n",
       "            fig.context.drawImage(fig.imageObj, 0, 0);\n",
       "        };\n",
       "\n",
       "    this.imageObj.onunload = function() {\n",
       "        fig.ws.close();\n",
       "    }\n",
       "\n",
       "    this.ws.onmessage = this._make_on_message_function(this);\n",
       "\n",
       "    this.ondownload = ondownload;\n",
       "}\n",
       "\n",
       "mpl.figure.prototype._init_header = function() {\n",
       "    var titlebar = $(\n",
       "        '<div class=\"ui-dialog-titlebar ui-widget-header ui-corner-all ' +\n",
       "        'ui-helper-clearfix\"/>');\n",
       "    var titletext = $(\n",
       "        '<div class=\"ui-dialog-title\" style=\"width: 100%; ' +\n",
       "        'text-align: center; padding: 3px;\"/>');\n",
       "    titlebar.append(titletext)\n",
       "    this.root.append(titlebar);\n",
       "    this.header = titletext[0];\n",
       "}\n",
       "\n",
       "\n",
       "\n",
       "mpl.figure.prototype._canvas_extra_style = function(canvas_div) {\n",
       "\n",
       "}\n",
       "\n",
       "\n",
       "mpl.figure.prototype._root_extra_style = function(canvas_div) {\n",
       "\n",
       "}\n",
       "\n",
       "mpl.figure.prototype._init_canvas = function() {\n",
       "    var fig = this;\n",
       "\n",
       "    var canvas_div = $('<div/>');\n",
       "\n",
       "    canvas_div.attr('style', 'position: relative; clear: both; outline: 0');\n",
       "\n",
       "    function canvas_keyboard_event(event) {\n",
       "        return fig.key_event(event, event['data']);\n",
       "    }\n",
       "\n",
       "    canvas_div.keydown('key_press', canvas_keyboard_event);\n",
       "    canvas_div.keyup('key_release', canvas_keyboard_event);\n",
       "    this.canvas_div = canvas_div\n",
       "    this._canvas_extra_style(canvas_div)\n",
       "    this.root.append(canvas_div);\n",
       "\n",
       "    var canvas = $('<canvas/>');\n",
       "    canvas.addClass('mpl-canvas');\n",
       "    canvas.attr('style', \"left: 0; top: 0; z-index: 0; outline: 0\")\n",
       "\n",
       "    this.canvas = canvas[0];\n",
       "    this.context = canvas[0].getContext(\"2d\");\n",
       "\n",
       "    var backingStore = this.context.backingStorePixelRatio ||\n",
       "\tthis.context.webkitBackingStorePixelRatio ||\n",
       "\tthis.context.mozBackingStorePixelRatio ||\n",
       "\tthis.context.msBackingStorePixelRatio ||\n",
       "\tthis.context.oBackingStorePixelRatio ||\n",
       "\tthis.context.backingStorePixelRatio || 1;\n",
       "\n",
       "    mpl.ratio = (window.devicePixelRatio || 1) / backingStore;\n",
       "\n",
       "    var rubberband = $('<canvas/>');\n",
       "    rubberband.attr('style', \"position: absolute; left: 0; top: 0; z-index: 1;\")\n",
       "\n",
       "    var pass_mouse_events = true;\n",
       "\n",
       "    canvas_div.resizable({\n",
       "        start: function(event, ui) {\n",
       "            pass_mouse_events = false;\n",
       "        },\n",
       "        resize: function(event, ui) {\n",
       "            fig.request_resize(ui.size.width, ui.size.height);\n",
       "        },\n",
       "        stop: function(event, ui) {\n",
       "            pass_mouse_events = true;\n",
       "            fig.request_resize(ui.size.width, ui.size.height);\n",
       "        },\n",
       "    });\n",
       "\n",
       "    function mouse_event_fn(event) {\n",
       "        if (pass_mouse_events)\n",
       "            return fig.mouse_event(event, event['data']);\n",
       "    }\n",
       "\n",
       "    rubberband.mousedown('button_press', mouse_event_fn);\n",
       "    rubberband.mouseup('button_release', mouse_event_fn);\n",
       "    // Throttle sequential mouse events to 1 every 20ms.\n",
       "    rubberband.mousemove('motion_notify', mouse_event_fn);\n",
       "\n",
       "    rubberband.mouseenter('figure_enter', mouse_event_fn);\n",
       "    rubberband.mouseleave('figure_leave', mouse_event_fn);\n",
       "\n",
       "    canvas_div.on(\"wheel\", function (event) {\n",
       "        event = event.originalEvent;\n",
       "        event['data'] = 'scroll'\n",
       "        if (event.deltaY < 0) {\n",
       "            event.step = 1;\n",
       "        } else {\n",
       "            event.step = -1;\n",
       "        }\n",
       "        mouse_event_fn(event);\n",
       "    });\n",
       "\n",
       "    canvas_div.append(canvas);\n",
       "    canvas_div.append(rubberband);\n",
       "\n",
       "    this.rubberband = rubberband;\n",
       "    this.rubberband_canvas = rubberband[0];\n",
       "    this.rubberband_context = rubberband[0].getContext(\"2d\");\n",
       "    this.rubberband_context.strokeStyle = \"#000000\";\n",
       "\n",
       "    this._resize_canvas = function(width, height) {\n",
       "        // Keep the size of the canvas, canvas container, and rubber band\n",
       "        // canvas in synch.\n",
       "        canvas_div.css('width', width)\n",
       "        canvas_div.css('height', height)\n",
       "\n",
       "        canvas.attr('width', width * mpl.ratio);\n",
       "        canvas.attr('height', height * mpl.ratio);\n",
       "        canvas.attr('style', 'width: ' + width + 'px; height: ' + height + 'px;');\n",
       "\n",
       "        rubberband.attr('width', width);\n",
       "        rubberband.attr('height', height);\n",
       "    }\n",
       "\n",
       "    // Set the figure to an initial 600x600px, this will subsequently be updated\n",
       "    // upon first draw.\n",
       "    this._resize_canvas(600, 600);\n",
       "\n",
       "    // Disable right mouse context menu.\n",
       "    $(this.rubberband_canvas).bind(\"contextmenu\",function(e){\n",
       "        return false;\n",
       "    });\n",
       "\n",
       "    function set_focus () {\n",
       "        canvas.focus();\n",
       "        canvas_div.focus();\n",
       "    }\n",
       "\n",
       "    window.setTimeout(set_focus, 100);\n",
       "}\n",
       "\n",
       "mpl.figure.prototype._init_toolbar = function() {\n",
       "    var fig = this;\n",
       "\n",
       "    var nav_element = $('<div/>')\n",
       "    nav_element.attr('style', 'width: 100%');\n",
       "    this.root.append(nav_element);\n",
       "\n",
       "    // Define a callback function for later on.\n",
       "    function toolbar_event(event) {\n",
       "        return fig.toolbar_button_onclick(event['data']);\n",
       "    }\n",
       "    function toolbar_mouse_event(event) {\n",
       "        return fig.toolbar_button_onmouseover(event['data']);\n",
       "    }\n",
       "\n",
       "    for(var toolbar_ind in mpl.toolbar_items) {\n",
       "        var name = mpl.toolbar_items[toolbar_ind][0];\n",
       "        var tooltip = mpl.toolbar_items[toolbar_ind][1];\n",
       "        var image = mpl.toolbar_items[toolbar_ind][2];\n",
       "        var method_name = mpl.toolbar_items[toolbar_ind][3];\n",
       "\n",
       "        if (!name) {\n",
       "            // put a spacer in here.\n",
       "            continue;\n",
       "        }\n",
       "        var button = $('<button/>');\n",
       "        button.addClass('ui-button ui-widget ui-state-default ui-corner-all ' +\n",
       "                        'ui-button-icon-only');\n",
       "        button.attr('role', 'button');\n",
       "        button.attr('aria-disabled', 'false');\n",
       "        button.click(method_name, toolbar_event);\n",
       "        button.mouseover(tooltip, toolbar_mouse_event);\n",
       "\n",
       "        var icon_img = $('<span/>');\n",
       "        icon_img.addClass('ui-button-icon-primary ui-icon');\n",
       "        icon_img.addClass(image);\n",
       "        icon_img.addClass('ui-corner-all');\n",
       "\n",
       "        var tooltip_span = $('<span/>');\n",
       "        tooltip_span.addClass('ui-button-text');\n",
       "        tooltip_span.html(tooltip);\n",
       "\n",
       "        button.append(icon_img);\n",
       "        button.append(tooltip_span);\n",
       "\n",
       "        nav_element.append(button);\n",
       "    }\n",
       "\n",
       "    var fmt_picker_span = $('<span/>');\n",
       "\n",
       "    var fmt_picker = $('<select/>');\n",
       "    fmt_picker.addClass('mpl-toolbar-option ui-widget ui-widget-content');\n",
       "    fmt_picker_span.append(fmt_picker);\n",
       "    nav_element.append(fmt_picker_span);\n",
       "    this.format_dropdown = fmt_picker[0];\n",
       "\n",
       "    for (var ind in mpl.extensions) {\n",
       "        var fmt = mpl.extensions[ind];\n",
       "        var option = $(\n",
       "            '<option/>', {selected: fmt === mpl.default_extension}).html(fmt);\n",
       "        fmt_picker.append(option)\n",
       "    }\n",
       "\n",
       "    // Add hover states to the ui-buttons\n",
       "    $( \".ui-button\" ).hover(\n",
       "        function() { $(this).addClass(\"ui-state-hover\");},\n",
       "        function() { $(this).removeClass(\"ui-state-hover\");}\n",
       "    );\n",
       "\n",
       "    var status_bar = $('<span class=\"mpl-message\"/>');\n",
       "    nav_element.append(status_bar);\n",
       "    this.message = status_bar[0];\n",
       "}\n",
       "\n",
       "mpl.figure.prototype.request_resize = function(x_pixels, y_pixels) {\n",
       "    // Request matplotlib to resize the figure. Matplotlib will then trigger a resize in the client,\n",
       "    // which will in turn request a refresh of the image.\n",
       "    this.send_message('resize', {'width': x_pixels, 'height': y_pixels});\n",
       "}\n",
       "\n",
       "mpl.figure.prototype.send_message = function(type, properties) {\n",
       "    properties['type'] = type;\n",
       "    properties['figure_id'] = this.id;\n",
       "    this.ws.send(JSON.stringify(properties));\n",
       "}\n",
       "\n",
       "mpl.figure.prototype.send_draw_message = function() {\n",
       "    if (!this.waiting) {\n",
       "        this.waiting = true;\n",
       "        this.ws.send(JSON.stringify({type: \"draw\", figure_id: this.id}));\n",
       "    }\n",
       "}\n",
       "\n",
       "\n",
       "mpl.figure.prototype.handle_save = function(fig, msg) {\n",
       "    var format_dropdown = fig.format_dropdown;\n",
       "    var format = format_dropdown.options[format_dropdown.selectedIndex].value;\n",
       "    fig.ondownload(fig, format);\n",
       "}\n",
       "\n",
       "\n",
       "mpl.figure.prototype.handle_resize = function(fig, msg) {\n",
       "    var size = msg['size'];\n",
       "    if (size[0] != fig.canvas.width || size[1] != fig.canvas.height) {\n",
       "        fig._resize_canvas(size[0], size[1]);\n",
       "        fig.send_message(\"refresh\", {});\n",
       "    };\n",
       "}\n",
       "\n",
       "mpl.figure.prototype.handle_rubberband = function(fig, msg) {\n",
       "    var x0 = msg['x0'] / mpl.ratio;\n",
       "    var y0 = (fig.canvas.height - msg['y0']) / mpl.ratio;\n",
       "    var x1 = msg['x1'] / mpl.ratio;\n",
       "    var y1 = (fig.canvas.height - msg['y1']) / mpl.ratio;\n",
       "    x0 = Math.floor(x0) + 0.5;\n",
       "    y0 = Math.floor(y0) + 0.5;\n",
       "    x1 = Math.floor(x1) + 0.5;\n",
       "    y1 = Math.floor(y1) + 0.5;\n",
       "    var min_x = Math.min(x0, x1);\n",
       "    var min_y = Math.min(y0, y1);\n",
       "    var width = Math.abs(x1 - x0);\n",
       "    var height = Math.abs(y1 - y0);\n",
       "\n",
       "    fig.rubberband_context.clearRect(\n",
       "        0, 0, fig.canvas.width, fig.canvas.height);\n",
       "\n",
       "    fig.rubberband_context.strokeRect(min_x, min_y, width, height);\n",
       "}\n",
       "\n",
       "mpl.figure.prototype.handle_figure_label = function(fig, msg) {\n",
       "    // Updates the figure title.\n",
       "    fig.header.textContent = msg['label'];\n",
       "}\n",
       "\n",
       "mpl.figure.prototype.handle_cursor = function(fig, msg) {\n",
       "    var cursor = msg['cursor'];\n",
       "    switch(cursor)\n",
       "    {\n",
       "    case 0:\n",
       "        cursor = 'pointer';\n",
       "        break;\n",
       "    case 1:\n",
       "        cursor = 'default';\n",
       "        break;\n",
       "    case 2:\n",
       "        cursor = 'crosshair';\n",
       "        break;\n",
       "    case 3:\n",
       "        cursor = 'move';\n",
       "        break;\n",
       "    }\n",
       "    fig.rubberband_canvas.style.cursor = cursor;\n",
       "}\n",
       "\n",
       "mpl.figure.prototype.handle_message = function(fig, msg) {\n",
       "    fig.message.textContent = msg['message'];\n",
       "}\n",
       "\n",
       "mpl.figure.prototype.handle_draw = function(fig, msg) {\n",
       "    // Request the server to send over a new figure.\n",
       "    fig.send_draw_message();\n",
       "}\n",
       "\n",
       "mpl.figure.prototype.handle_image_mode = function(fig, msg) {\n",
       "    fig.image_mode = msg['mode'];\n",
       "}\n",
       "\n",
       "mpl.figure.prototype.updated_canvas_event = function() {\n",
       "    // Called whenever the canvas gets updated.\n",
       "    this.send_message(\"ack\", {});\n",
       "}\n",
       "\n",
       "// A function to construct a web socket function for onmessage handling.\n",
       "// Called in the figure constructor.\n",
       "mpl.figure.prototype._make_on_message_function = function(fig) {\n",
       "    return function socket_on_message(evt) {\n",
       "        if (evt.data instanceof Blob) {\n",
       "            /* FIXME: We get \"Resource interpreted as Image but\n",
       "             * transferred with MIME type text/plain:\" errors on\n",
       "             * Chrome.  But how to set the MIME type?  It doesn't seem\n",
       "             * to be part of the websocket stream */\n",
       "            evt.data.type = \"image/png\";\n",
       "\n",
       "            /* Free the memory for the previous frames */\n",
       "            if (fig.imageObj.src) {\n",
       "                (window.URL || window.webkitURL).revokeObjectURL(\n",
       "                    fig.imageObj.src);\n",
       "            }\n",
       "\n",
       "            fig.imageObj.src = (window.URL || window.webkitURL).createObjectURL(\n",
       "                evt.data);\n",
       "            fig.updated_canvas_event();\n",
       "            fig.waiting = false;\n",
       "            return;\n",
       "        }\n",
       "        else if (typeof evt.data === 'string' && evt.data.slice(0, 21) == \"data:image/png;base64\") {\n",
       "            fig.imageObj.src = evt.data;\n",
       "            fig.updated_canvas_event();\n",
       "            fig.waiting = false;\n",
       "            return;\n",
       "        }\n",
       "\n",
       "        var msg = JSON.parse(evt.data);\n",
       "        var msg_type = msg['type'];\n",
       "\n",
       "        // Call the  \"handle_{type}\" callback, which takes\n",
       "        // the figure and JSON message as its only arguments.\n",
       "        try {\n",
       "            var callback = fig[\"handle_\" + msg_type];\n",
       "        } catch (e) {\n",
       "            console.log(\"No handler for the '\" + msg_type + \"' message type: \", msg);\n",
       "            return;\n",
       "        }\n",
       "\n",
       "        if (callback) {\n",
       "            try {\n",
       "                // console.log(\"Handling '\" + msg_type + \"' message: \", msg);\n",
       "                callback(fig, msg);\n",
       "            } catch (e) {\n",
       "                console.log(\"Exception inside the 'handler_\" + msg_type + \"' callback:\", e, e.stack, msg);\n",
       "            }\n",
       "        }\n",
       "    };\n",
       "}\n",
       "\n",
       "// from http://stackoverflow.com/questions/1114465/getting-mouse-location-in-canvas\n",
       "mpl.findpos = function(e) {\n",
       "    //this section is from http://www.quirksmode.org/js/events_properties.html\n",
       "    var targ;\n",
       "    if (!e)\n",
       "        e = window.event;\n",
       "    if (e.target)\n",
       "        targ = e.target;\n",
       "    else if (e.srcElement)\n",
       "        targ = e.srcElement;\n",
       "    if (targ.nodeType == 3) // defeat Safari bug\n",
       "        targ = targ.parentNode;\n",
       "\n",
       "    // jQuery normalizes the pageX and pageY\n",
       "    // pageX,Y are the mouse positions relative to the document\n",
       "    // offset() returns the position of the element relative to the document\n",
       "    var x = e.pageX - $(targ).offset().left;\n",
       "    var y = e.pageY - $(targ).offset().top;\n",
       "\n",
       "    return {\"x\": x, \"y\": y};\n",
       "};\n",
       "\n",
       "/*\n",
       " * return a copy of an object with only non-object keys\n",
       " * we need this to avoid circular references\n",
       " * http://stackoverflow.com/a/24161582/3208463\n",
       " */\n",
       "function simpleKeys (original) {\n",
       "  return Object.keys(original).reduce(function (obj, key) {\n",
       "    if (typeof original[key] !== 'object')\n",
       "        obj[key] = original[key]\n",
       "    return obj;\n",
       "  }, {});\n",
       "}\n",
       "\n",
       "mpl.figure.prototype.mouse_event = function(event, name) {\n",
       "    var canvas_pos = mpl.findpos(event)\n",
       "\n",
       "    if (name === 'button_press')\n",
       "    {\n",
       "        this.canvas.focus();\n",
       "        this.canvas_div.focus();\n",
       "    }\n",
       "\n",
       "    var x = canvas_pos.x * mpl.ratio;\n",
       "    var y = canvas_pos.y * mpl.ratio;\n",
       "\n",
       "    this.send_message(name, {x: x, y: y, button: event.button,\n",
       "                             step: event.step,\n",
       "                             guiEvent: simpleKeys(event)});\n",
       "\n",
       "    /* This prevents the web browser from automatically changing to\n",
       "     * the text insertion cursor when the button is pressed.  We want\n",
       "     * to control all of the cursor setting manually through the\n",
       "     * 'cursor' event from matplotlib */\n",
       "    event.preventDefault();\n",
       "    return false;\n",
       "}\n",
       "\n",
       "mpl.figure.prototype._key_event_extra = function(event, name) {\n",
       "    // Handle any extra behaviour associated with a key event\n",
       "}\n",
       "\n",
       "mpl.figure.prototype.key_event = function(event, name) {\n",
       "\n",
       "    // Prevent repeat events\n",
       "    if (name == 'key_press')\n",
       "    {\n",
       "        if (event.which === this._key)\n",
       "            return;\n",
       "        else\n",
       "            this._key = event.which;\n",
       "    }\n",
       "    if (name == 'key_release')\n",
       "        this._key = null;\n",
       "\n",
       "    var value = '';\n",
       "    if (event.ctrlKey && event.which != 17)\n",
       "        value += \"ctrl+\";\n",
       "    if (event.altKey && event.which != 18)\n",
       "        value += \"alt+\";\n",
       "    if (event.shiftKey && event.which != 16)\n",
       "        value += \"shift+\";\n",
       "\n",
       "    value += 'k';\n",
       "    value += event.which.toString();\n",
       "\n",
       "    this._key_event_extra(event, name);\n",
       "\n",
       "    this.send_message(name, {key: value,\n",
       "                             guiEvent: simpleKeys(event)});\n",
       "    return false;\n",
       "}\n",
       "\n",
       "mpl.figure.prototype.toolbar_button_onclick = function(name) {\n",
       "    if (name == 'download') {\n",
       "        this.handle_save(this, null);\n",
       "    } else {\n",
       "        this.send_message(\"toolbar_button\", {name: name});\n",
       "    }\n",
       "};\n",
       "\n",
       "mpl.figure.prototype.toolbar_button_onmouseover = function(tooltip) {\n",
       "    this.message.textContent = tooltip;\n",
       "};\n",
       "mpl.toolbar_items = [[\"Home\", \"Reset original view\", \"fa fa-home icon-home\", \"home\"], [\"Back\", \"Back to  previous view\", \"fa fa-arrow-left icon-arrow-left\", \"back\"], [\"Forward\", \"Forward to next view\", \"fa fa-arrow-right icon-arrow-right\", \"forward\"], [\"\", \"\", \"\", \"\"], [\"Pan\", \"Pan axes with left mouse, zoom with right\", \"fa fa-arrows icon-move\", \"pan\"], [\"Zoom\", \"Zoom to rectangle\", \"fa fa-square-o icon-check-empty\", \"zoom\"], [\"\", \"\", \"\", \"\"], [\"Download\", \"Download plot\", \"fa fa-floppy-o icon-save\", \"download\"]];\n",
       "\n",
       "mpl.extensions = [\"eps\", \"jpeg\", \"pdf\", \"png\", \"ps\", \"raw\", \"svg\", \"tif\"];\n",
       "\n",
       "mpl.default_extension = \"png\";var comm_websocket_adapter = function(comm) {\n",
       "    // Create a \"websocket\"-like object which calls the given IPython comm\n",
       "    // object with the appropriate methods. Currently this is a non binary\n",
       "    // socket, so there is still some room for performance tuning.\n",
       "    var ws = {};\n",
       "\n",
       "    ws.close = function() {\n",
       "        comm.close()\n",
       "    };\n",
       "    ws.send = function(m) {\n",
       "        //console.log('sending', m);\n",
       "        comm.send(m);\n",
       "    };\n",
       "    // Register the callback with on_msg.\n",
       "    comm.on_msg(function(msg) {\n",
       "        //console.log('receiving', msg['content']['data'], msg);\n",
       "        // Pass the mpl event to the overriden (by mpl) onmessage function.\n",
       "        ws.onmessage(msg['content']['data'])\n",
       "    });\n",
       "    return ws;\n",
       "}\n",
       "\n",
       "mpl.mpl_figure_comm = function(comm, msg) {\n",
       "    // This is the function which gets called when the mpl process\n",
       "    // starts-up an IPython Comm through the \"matplotlib\" channel.\n",
       "\n",
       "    var id = msg.content.data.id;\n",
       "    // Get hold of the div created by the display call when the Comm\n",
       "    // socket was opened in Python.\n",
       "    var element = $(\"#\" + id);\n",
       "    var ws_proxy = comm_websocket_adapter(comm)\n",
       "\n",
       "    function ondownload(figure, format) {\n",
       "        window.open(figure.imageObj.src);\n",
       "    }\n",
       "\n",
       "    var fig = new mpl.figure(id, ws_proxy,\n",
       "                           ondownload,\n",
       "                           element.get(0));\n",
       "\n",
       "    // Call onopen now - mpl needs it, as it is assuming we've passed it a real\n",
       "    // web socket which is closed, not our websocket->open comm proxy.\n",
       "    ws_proxy.onopen();\n",
       "\n",
       "    fig.parent_element = element.get(0);\n",
       "    fig.cell_info = mpl.find_output_cell(\"<div id='\" + id + \"'></div>\");\n",
       "    if (!fig.cell_info) {\n",
       "        console.error(\"Failed to find cell for figure\", id, fig);\n",
       "        return;\n",
       "    }\n",
       "\n",
       "    var output_index = fig.cell_info[2]\n",
       "    var cell = fig.cell_info[0];\n",
       "\n",
       "};\n",
       "\n",
       "mpl.figure.prototype.handle_close = function(fig, msg) {\n",
       "    var width = fig.canvas.width/mpl.ratio\n",
       "    fig.root.unbind('remove')\n",
       "\n",
       "    // Update the output cell to use the data from the current canvas.\n",
       "    fig.push_to_output();\n",
       "    var dataURL = fig.canvas.toDataURL();\n",
       "    // Re-enable the keyboard manager in IPython - without this line, in FF,\n",
       "    // the notebook keyboard shortcuts fail.\n",
       "    IPython.keyboard_manager.enable()\n",
       "    $(fig.parent_element).html('<img src=\"' + dataURL + '\" width=\"' + width + '\">');\n",
       "    fig.close_ws(fig, msg);\n",
       "}\n",
       "\n",
       "mpl.figure.prototype.close_ws = function(fig, msg){\n",
       "    fig.send_message('closing', msg);\n",
       "    // fig.ws.close()\n",
       "}\n",
       "\n",
       "mpl.figure.prototype.push_to_output = function(remove_interactive) {\n",
       "    // Turn the data on the canvas into data in the output cell.\n",
       "    var width = this.canvas.width/mpl.ratio\n",
       "    var dataURL = this.canvas.toDataURL();\n",
       "    this.cell_info[1]['text/html'] = '<img src=\"' + dataURL + '\" width=\"' + width + '\">';\n",
       "}\n",
       "\n",
       "mpl.figure.prototype.updated_canvas_event = function() {\n",
       "    // Tell IPython that the notebook contents must change.\n",
       "    IPython.notebook.set_dirty(true);\n",
       "    this.send_message(\"ack\", {});\n",
       "    var fig = this;\n",
       "    // Wait a second, then push the new image to the DOM so\n",
       "    // that it is saved nicely (might be nice to debounce this).\n",
       "    setTimeout(function () { fig.push_to_output() }, 1000);\n",
       "}\n",
       "\n",
       "mpl.figure.prototype._init_toolbar = function() {\n",
       "    var fig = this;\n",
       "\n",
       "    var nav_element = $('<div/>')\n",
       "    nav_element.attr('style', 'width: 100%');\n",
       "    this.root.append(nav_element);\n",
       "\n",
       "    // Define a callback function for later on.\n",
       "    function toolbar_event(event) {\n",
       "        return fig.toolbar_button_onclick(event['data']);\n",
       "    }\n",
       "    function toolbar_mouse_event(event) {\n",
       "        return fig.toolbar_button_onmouseover(event['data']);\n",
       "    }\n",
       "\n",
       "    for(var toolbar_ind in mpl.toolbar_items){\n",
       "        var name = mpl.toolbar_items[toolbar_ind][0];\n",
       "        var tooltip = mpl.toolbar_items[toolbar_ind][1];\n",
       "        var image = mpl.toolbar_items[toolbar_ind][2];\n",
       "        var method_name = mpl.toolbar_items[toolbar_ind][3];\n",
       "\n",
       "        if (!name) { continue; };\n",
       "\n",
       "        var button = $('<button class=\"btn btn-default\" href=\"#\" title=\"' + name + '\"><i class=\"fa ' + image + ' fa-lg\"></i></button>');\n",
       "        button.click(method_name, toolbar_event);\n",
       "        button.mouseover(tooltip, toolbar_mouse_event);\n",
       "        nav_element.append(button);\n",
       "    }\n",
       "\n",
       "    // Add the status bar.\n",
       "    var status_bar = $('<span class=\"mpl-message\" style=\"text-align:right; float: right;\"/>');\n",
       "    nav_element.append(status_bar);\n",
       "    this.message = status_bar[0];\n",
       "\n",
       "    // Add the close button to the window.\n",
       "    var buttongrp = $('<div class=\"btn-group inline pull-right\"></div>');\n",
       "    var button = $('<button class=\"btn btn-mini btn-primary\" href=\"#\" title=\"Stop Interaction\"><i class=\"fa fa-power-off icon-remove icon-large\"></i></button>');\n",
       "    button.click(function (evt) { fig.handle_close(fig, {}); } );\n",
       "    button.mouseover('Stop Interaction', toolbar_mouse_event);\n",
       "    buttongrp.append(button);\n",
       "    var titlebar = this.root.find($('.ui-dialog-titlebar'));\n",
       "    titlebar.prepend(buttongrp);\n",
       "}\n",
       "\n",
       "mpl.figure.prototype._root_extra_style = function(el){\n",
       "    var fig = this\n",
       "    el.on(\"remove\", function(){\n",
       "\tfig.close_ws(fig, {});\n",
       "    });\n",
       "}\n",
       "\n",
       "mpl.figure.prototype._canvas_extra_style = function(el){\n",
       "    // this is important to make the div 'focusable\n",
       "    el.attr('tabindex', 0)\n",
       "    // reach out to IPython and tell the keyboard manager to turn it's self\n",
       "    // off when our div gets focus\n",
       "\n",
       "    // location in version 3\n",
       "    if (IPython.notebook.keyboard_manager) {\n",
       "        IPython.notebook.keyboard_manager.register_events(el);\n",
       "    }\n",
       "    else {\n",
       "        // location in version 2\n",
       "        IPython.keyboard_manager.register_events(el);\n",
       "    }\n",
       "\n",
       "}\n",
       "\n",
       "mpl.figure.prototype._key_event_extra = function(event, name) {\n",
       "    var manager = IPython.notebook.keyboard_manager;\n",
       "    if (!manager)\n",
       "        manager = IPython.keyboard_manager;\n",
       "\n",
       "    // Check for shift+enter\n",
       "    if (event.shiftKey && event.which == 13) {\n",
       "        this.canvas_div.blur();\n",
       "        event.shiftKey = false;\n",
       "        // Send a \"J\" for go to next cell\n",
       "        event.which = 74;\n",
       "        event.keyCode = 74;\n",
       "        manager.command_mode();\n",
       "        manager.handle_keydown(event);\n",
       "    }\n",
       "}\n",
       "\n",
       "mpl.figure.prototype.handle_save = function(fig, msg) {\n",
       "    fig.ondownload(fig, null);\n",
       "}\n",
       "\n",
       "\n",
       "mpl.find_output_cell = function(html_output) {\n",
       "    // Return the cell and output element which can be found *uniquely* in the notebook.\n",
       "    // Note - this is a bit hacky, but it is done because the \"notebook_saving.Notebook\"\n",
       "    // IPython event is triggered only after the cells have been serialised, which for\n",
       "    // our purposes (turning an active figure into a static one), is too late.\n",
       "    var cells = IPython.notebook.get_cells();\n",
       "    var ncells = cells.length;\n",
       "    for (var i=0; i<ncells; i++) {\n",
       "        var cell = cells[i];\n",
       "        if (cell.cell_type === 'code'){\n",
       "            for (var j=0; j<cell.output_area.outputs.length; j++) {\n",
       "                var data = cell.output_area.outputs[j];\n",
       "                if (data.data) {\n",
       "                    // IPython >= 3 moved mimebundle to data attribute of output\n",
       "                    data = data.data;\n",
       "                }\n",
       "                if (data['text/html'] == html_output) {\n",
       "                    return [cell, data, j];\n",
       "                }\n",
       "            }\n",
       "        }\n",
       "    }\n",
       "}\n",
       "\n",
       "// Register the function which deals with the matplotlib target/channel.\n",
       "// The kernel may be null if the page has been refreshed.\n",
       "if (IPython.notebook.kernel != null) {\n",
       "    IPython.notebook.kernel.comm_manager.register_target('matplotlib', mpl.mpl_figure_comm);\n",
       "}\n"
      ],
      "text/plain": [
       "<IPython.core.display.Javascript object>"
      ]
     },
     "metadata": {},
     "output_type": "display_data"
    },
    {
     "data": {
      "text/html": [
       "<img src=\"data:image/png;base64,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\" width=\"640\">"
      ],
      "text/plain": [
       "<IPython.core.display.HTML object>"
      ]
     },
     "metadata": {},
     "output_type": "display_data"
    }
   ],
   "source": [
    "spacing_condition = find(spacing_choice.value,spacing_short)\n",
    "if spacing_condition == 0:\n",
    "    mult_factor_base = 1\n",
    "else:\n",
    "    mult_factor_base = 100\n",
    "\n",
    "fst = 16\n",
    "fs = 14\n",
    "beam_energy_text = erg_options(isi)[iei]\n",
    "beam_species_text = projectile_sym_str[isi]\n",
    "\n",
    "fig = plt.figure()\n",
    "ax = plt.subplot(111)\n",
    "# Axis labels\n",
    "title_text = particles_long[spi] + \" Energy Spectra for\" + \"\\n\" \n",
    "title_text += beam_energy_text +\" \"+ beam_species_text + \" on \"+ thicknesses[ftti] +\" \"+ target_mats_short[ftmi] \n",
    "plt.title(title_text,fontsize=fst)\n",
    "if spi <= 2:\n",
    "    plt.xlabel(\"Energy [MeV]\",fontsize=fs)\n",
    "else:\n",
    "    plt.xlabel(\"Energy [MeV/n]\",fontsize=fs)\n",
    "\n",
    "if spi == 1: # deconvoluted neutrons\n",
    "    leg_strings = [r'Experimental (deconvoluted)',r'MCNP (simulated)', r'PHITS (simulated)']\n",
    "    plt.ylabel(r\"Yield [#$\\cdot$/(MeV$\\cdot$s.p.)]\",fontsize=fs)\n",
    "else:\n",
    "    leg_strings = [r'Experimental (time-of-flight)',r'MCNP (simulated)', r'PHITS (simulated)']\n",
    "    if spi <= 2:\n",
    "        plt.ylabel(r\"Yield [#/(MeV$\\cdot$sr$\\cdot$s.p.)]\",fontsize=fs)\n",
    "    else:\n",
    "        plt.ylabel(r\"Yield [#/(MeV/n$\\cdot$sr$\\cdot$s.p.)]\",fontsize=fs)\n",
    "\n",
    "# Generate portion of legend specifying data sets\n",
    "if spi == 1:\n",
    "    exp_leg, = plt.errorbar(np.NaN, np.NaN,yerr=0, color='dimgrey', marker=\".\",markersize=3,linestyle=\":\",alpha=1.0), #, label=r'Deconvolued')\n",
    "else:\n",
    "    exp_leg,  = plt.errorbar(np.NaN, np.NaN,xerr=0,yerr=0,marker=\".\",c='dimgrey',markersize=2,linestyle=\"\",elinewidth=0.5,markeredgewidth=0.5,capsize=0), # , label=r'Experimental (ToF)') \n",
    "\n",
    "MCNP_leg, = plt.errorbar(np.NaN, np.NaN,yerr=0, color='dimgrey', marker=\"^\",markersize=3,linestyle=\"--\"), #, label=r'Simulated (MCNP)')\n",
    "PHITS_leg, = plt.errorbar(np.NaN, np.NaN,yerr=0, color='dimgrey', marker=\"s\",markersize=3,linestyle=\"--\"), #, label=r'Simulated (PHITS)')\n",
    "\n",
    "legs_for_ds = [exp_leg, MCNP_leg, PHITS_leg]\n",
    "used_ds_legs = []\n",
    "used_ds_leg_strs = []\n",
    "leg_handles1 = []\n",
    "leg_labels1 = []\n",
    "    \n",
    "for dsi in data_set_i_list:\n",
    "    used_ds_legs.append(legs_for_ds[dsi])\n",
    "    used_ds_leg_strs.append(leg_strings[dsi])\n",
    "    k=0\n",
    "    for di in det_angle_i_list:\n",
    "        ndet = str(di+1)\n",
    "        scale_power = 2*((len(det_angle_i_list)-1)-k)\n",
    "        mult_factor = mult_factor_base**scale_power\n",
    "        if spacing_condition == 0:\n",
    "            lab_text = detectors_angles[detti][di]\n",
    "        else:\n",
    "            lab_text = detectors_angles[detti][di] + r\" $\\times10^{{{0}}}$\".format(str(int(scale_power)))\n",
    "        k += 1\n",
    "        \n",
    "        # Make artificial legend for 6 detectors\n",
    "        ebp = ax.plot(np.NaN, np.NaN,c=detector_colors(di),marker=\"s\",markersize=8,linestyle=\"\") #,label=lab_text) #,label='Simulated (MCNP)')\n",
    "        leg_handles1.append(ebp[0])\n",
    "        leg_labels1.append(lab_text)\n",
    "        \n",
    "        nzi = np.nonzero(mm_values[dsi,iei,ftmi,ftti,spi,di,1,:])\n",
    "        xdata = mm_values[dsi,iei,ftmi,ftti,spi,di,1,:][nzi]\n",
    "        xbinw = [mm_values[dsi,iei,ftmi,ftti,spi,di,1,:][nzi]-mm_values[dsi,iei,ftmi,ftti,spi,di,0,:][nzi] , mm_values[dsi,iei,ftmi,ftti,spi,di,2,:][nzi]-mm_values[dsi,iei,ftmi,ftti,spi,di,1,:][nzi]]\n",
    "        ydata = mm_values[dsi,iei,ftmi,ftti,spi,di,3,:][nzi]\n",
    "        yerr_stat = mm_values[dsi,iei,ftmi,ftti,spi,di,4,:][nzi]\n",
    "        yerr_sys = mm_values[dsi,iei,ftmi,ftti,spi,di,5,:][nzi]\n",
    "        xerr = mm_values[dsi,iei,ftmi,ftti,spi,di,6,:][nzi]\n",
    "        \n",
    "        ydata = ydata*mult_factor\n",
    "        yerr_stat = yerr_stat*mult_factor\n",
    "        yerr_sys = yerr_sys*mult_factor\n",
    "        \n",
    "        # Generate plots\n",
    "        if dsi == 0: # experimental results\n",
    "            if spi == 1: # deconvoluted neutrons\n",
    "                alpha_val=1.0\n",
    "                marker_val = \".\"\n",
    "                p = plt.errorbar(xdata,ydata,yerr=yerr,c=detector_colors(di),marker=marker_val,markersize=3,linestyle=\":\",alpha=alpha_val,label=lab_text) #,label='Simulated (MCNP)')\n",
    "            else:\n",
    "                # x error bar (bin width)\n",
    "                xerrbar = xbinw\n",
    "                # x error box (energy resolution\n",
    "                xerrbox = xerr\n",
    "                xerrbox = np.array([xerrbox, xerrbox])\n",
    "                # y error bar (systematic uncertainty)\n",
    "                yerrbar = [yerr_sys, yerr_sys]\n",
    "                yerrbar[0][(ydata-yerrbar[0])<=0]=0 # get rid of negative error bars\n",
    "                yerrbar[1][(ydata)<=0]=0 # get rid of errorbars on negative points\n",
    "                # y error box (statistical uncertainty)\n",
    "                yerrbox = np.array([yerr_stat, yerr_stat])\n",
    "                \n",
    "                p = plt.errorbar(xdata,ydata,xerr=xerrbar,yerr=yerrbar,marker=\".\",c=detector_colors(di),markersize=2,linestyle=\"\",elinewidth=0.5,markeredgewidth=0.5,capsize=0,label=lab_text)\n",
    "                nx_color = detector_colors(di) #p[0].get_color()\n",
    "                makeErrorBoxes(xdata,ydata,xerrbox,yerrbox,fc='None',ec=nx_color,alpha=1.0,lw=0.5)\n",
    "                makeErrorBoxes(xdata,ydata,xerrbox,yerrbox,fc=nx_color,ec='None',alpha=0.1,lw=0.5)\n",
    "                \n",
    "        elif dsi == 1: # MCNP results\n",
    "            ebp = plt.errorbar(xdata,ydata,yerr=yerr_stat,c=detector_colors(di),marker=\"^\",markersize=3,linestyle=\"--\") #,label=lab_text) #,label='Simulated (MCNP)')\n",
    "        \n",
    "        elif dsi == 2: # PHITS results\n",
    "            ebp = plt.errorbar(xdata,ydata,yerr=yerr_stat,c=detector_colors(di),marker=\"s\",markersize=3,linestyle=\"--\") #,label=lab_text) #,label='Simulated (MCNP)')\n",
    "        \n",
    "        \n",
    "#handles, labels = ax.get_legend_handles_labels()\n",
    "if len(data_set_i_list)==3: # Three rows in named legend\n",
    "    box_h_multiplier = 0.92 # percentage of total height occupied by actual plot\n",
    "    box_h_offset = 0.12 # vertical offset left at the bottom for legend stuff\n",
    "    leg2_anchor = (0.5, -0.065)\n",
    "    leg1_anchor = (0.47, -0.155)\n",
    "elif len(data_set_i_list)==2: # Two rows of legend\n",
    "    box_h_multiplier = 0.92 # percentage of total height occupied by actual plot\n",
    "    box_h_offset = 0.12 # vertical offset left at the bottom for legend stuff\n",
    "    leg2_anchor = (0.5, -0.065)\n",
    "    leg1_anchor = (0.47, -0.155)\n",
    "else: # One row of legend\n",
    "    box_h_multiplier = 0.92 # percentage of total height occupied by actual plot\n",
    "    box_h_offset = 0.12 # vertical offset left at the bottom for legend stuff\n",
    "    leg2_anchor = (0.5, -0.065)\n",
    "    leg1_anchor = (0.47, -0.155)\n",
    "\n",
    "# Set size and location of the plot on the canvas\n",
    "box = ax.get_position()\n",
    "ax.set_position([box.x0 + box.width * 0.025, box.y0 + box.height * box_h_offset,box.width * 0.95, box.height * box_h_multiplier])\n",
    "\n",
    "# Put a legend below current axis\n",
    "legend2 = ax.legend(used_ds_legs,used_ds_leg_strs,loc='upper center', bbox_to_anchor=leg2_anchor, ncol=1)\n",
    "\n",
    "# Put a legend below current axis\n",
    "ax.legend(leg_handles1[:6],leg_labels1[:6],loc='upper center', bbox_to_anchor=leg1_anchor, ncol=3,handletextpad=0.1)\n",
    "ax.add_artist(legend2)\n",
    "\n",
    "window_title = mm_metadata[dsi,isi,iei,ftmi,ftti,spi,0,1] + \"_fig\"\n",
    "fig.canvas.set_window_title(window_title)\n",
    "if spacing_condition == 1: \n",
    "    fig.set_size_inches(5.25,10.25)\n",
    "        \n",
    "plt.xscale('log')\n",
    "plt.yscale('log')\n",
    "plt.grid(b=True, which='major', linestyle='-', alpha=0.25)\n",
    "plt.grid(b=True, which='minor', linestyle='-', alpha=0.10)\n",
    "plt.xlim([5,2000])\n",
    "        \n",
    "        \n",
    "        \n",
    "plt.show()        \n",
    "        \n",
    "    \n",
    "    \n"
   ]
  },
  {
   "cell_type": "code",
   "execution_count": null,
   "metadata": {},
   "outputs": [],
   "source": []
  }
 ],
 "metadata": {
  "kernelspec": {
   "display_name": "Python 3",
   "language": "python",
   "name": "python3"
  },
  "language_info": {
   "codemirror_mode": {
    "name": "ipython",
    "version": 3
   },
   "file_extension": ".py",
   "mimetype": "text/x-python",
   "name": "python",
   "nbconvert_exporter": "python",
   "pygments_lexer": "ipython3",
   "version": "3.6.4"
  },
  "widgets": {
   "application/vnd.jupyter.widget-state+json": {
    "state": {
     "015a24742f1046a68c1d4db057c366cf": {
      "model_module": "@jupyter-widgets/controls",
      "model_module_version": "1.1.0",
      "model_name": "CheckboxModel",
      "state": {
       "description": "MCNP sim.",
       "disabled": false,
       "layout": "IPY_MODEL_f4c2d755906e4acc82b4b2022cb7d83e",
       "style": "IPY_MODEL_59d88d47bdd14c89a862b29a2a531ba7",
       "value": true
      }
     },
     "016af3617c1540cb8e02cb71fbe0670e": {
      "model_module": "@jupyter-widgets/base",
      "model_module_version": "1.0.0",
      "model_name": "LayoutModel",
      "state": {}
     },
     "016af7d1f94149218d11f66c4a091e97": {
      "model_module": "@jupyter-widgets/controls",
      "model_module_version": "1.1.0",
      "model_name": "CheckboxModel",
      "state": {
       "description": "80°",
       "disabled": false,
       "layout": "IPY_MODEL_d7fa1e0a970542dfa0bcacd0af564385",
       "style": "IPY_MODEL_5fd143974646441e9efb80cf682ca8a5",
       "value": true
      }
     },
     "01d7e586b2a44ccb8a530a82fbf83230": {
      "model_module": "@jupyter-widgets/controls",
      "model_module_version": "1.1.0",
      "model_name": "ToggleButtonsModel",
      "state": {
       "_options_labels": [
        "20 g/cm²",
        "40 g/cm²",
        "60 g/cm²"
       ],
       "button_style": "",
       "description": "Upstream target thickness:",
       "icons": [],
       "index": 0,
       "layout": "IPY_MODEL_596ea217ac164fedaf51f67142124c58",
       "style": "IPY_MODEL_55a5703aec6e4ddf86fb580bdcbfe484",
       "tooltips": [
        "20 g/cm²",
        "40 g/cm²",
        "60 g/cm²"
       ]
      }
     },
     "01f72b147b784cc9ba5906f2ca107057": {
      "model_module": "@jupyter-widgets/controls",
      "model_module_version": "1.1.0",
      "model_name": "ToggleButtonsStyleModel",
      "state": {
       "button_width": "",
       "description_width": ""
      }
     },
     "02127c50231e4972b41b1271ccf9305d": {
      "model_module": "@jupyter-widgets/controls",
      "model_module_version": "1.1.0",
      "model_name": "DescriptionStyleModel",
      "state": {
       "description_width": ""
      }
     },
     "0212a0076bfb4fe9b444a577f12be42d": {
      "model_module": "@jupyter-widgets/controls",
      "model_module_version": "1.1.0",
      "model_name": "CheckboxModel",
      "state": {
       "description": "30°",
       "disabled": false,
       "layout": "IPY_MODEL_51b6948d26ac4208adc465035d6b9140",
       "style": "IPY_MODEL_4f1190b8cbda46f889e0baa7d9929de6",
       "value": true
      }
     },
     "0337ce54a5744c2592c741f8bf0da893": {
      "model_module": "@jupyter-widgets/base",
      "model_module_version": "1.0.0",
      "model_name": "LayoutModel",
      "state": {}
     },
     "03ae5818f0e94776ac03fe0d71608a92": {
      "model_module": "@jupyter-widgets/controls",
      "model_module_version": "1.1.0",
      "model_name": "LabelModel",
      "state": {
       "layout": "IPY_MODEL_637ed75ddebd43dbb94e0c153d7585d5",
       "style": "IPY_MODEL_085dff56f3114ea8938afe829535393f",
       "value": "Select upstream target material."
      }
     },
     "03dcf3cd83ed429284cfc87240c360b6": {
      "model_module": "@jupyter-widgets/base",
      "model_module_version": "1.0.0",
      "model_name": "LayoutModel",
      "state": {}
     },
     "046224b054b0448ea8e0ed8ad64c4b05": {
      "model_module": "@jupyter-widgets/base",
      "model_module_version": "1.0.0",
      "model_name": "LayoutModel",
      "state": {}
     },
     "04a447586dda4ee698d2fb2937a163eb": {
      "model_module": "@jupyter-widgets/controls",
      "model_module_version": "1.1.0",
      "model_name": "CheckboxModel",
      "state": {
       "description": "135°",
       "disabled": false,
       "layout": "IPY_MODEL_a692bd63ab7c48f295ccea4406aef904",
       "style": "IPY_MODEL_343114b504ce43fda824ef0816453850",
       "value": true
      }
     },
     "04e0e02fd9424300a282ee8e21e6a088": {
      "model_module": "@jupyter-widgets/base",
      "model_module_version": "1.0.0",
      "model_name": "LayoutModel",
      "state": {}
     },
     "0661377c3ce84078b39d999e286c34f4": {
      "model_module": "@jupyter-widgets/controls",
      "model_module_version": "1.1.0",
      "model_name": "CheckboxModel",
      "state": {
       "description": "10°",
       "disabled": false,
       "layout": "IPY_MODEL_80c974a6982d4c27bab83c49568cae82",
       "style": "IPY_MODEL_02127c50231e4972b41b1271ccf9305d",
       "value": true
      }
     },
     "06b2f62874494d339bb90eea19176892": {
      "model_module": "@jupyter-widgets/controls",
      "model_module_version": "1.1.0",
      "model_name": "ToggleButtonsStyleModel",
      "state": {
       "button_width": "",
       "description_width": ""
      }
     },
     "06c0c365322742f782334733d0d37345": {
      "model_module": "@jupyter-widgets/base",
      "model_module_version": "1.0.0",
      "model_name": "LayoutModel",
      "state": {}
     },
     "0758ae860a9c4504adc31a0935c7f733": {
      "model_module": "@jupyter-widgets/base",
      "model_module_version": "1.0.0",
      "model_name": "LayoutModel",
      "state": {}
     },
     "07755daa83fe4274b62c67d067d8f5c2": {
      "model_module": "@jupyter-widgets/controls",
      "model_module_version": "1.1.0",
      "model_name": "ToggleButtonsModel",
      "state": {
       "_options_labels": [
        "20 g/cm²",
        "40 g/cm²",
        "60 g/cm²"
       ],
       "button_style": "",
       "description": "Thickness:",
       "icons": [],
       "index": 0,
       "layout": "IPY_MODEL_40ddbb06e0014ae08ff988866adf07c1",
       "style": "IPY_MODEL_90e4cb21488d410886e5f278df600e84",
       "tooltips": [
        "20 g/cm²",
        "40 g/cm²",
        "60 g/cm²"
       ]
      }
     },
     "07757186b124423b90b6fc4a321a3839": {
      "model_module": "@jupyter-widgets/controls",
      "model_module_version": "1.1.0",
      "model_name": "DescriptionStyleModel",
      "state": {
       "description_width": ""
      }
     },
     "077e109affea4d699a6c5e1910bcab11": {
      "model_module": "@jupyter-widgets/controls",
      "model_module_version": "1.1.0",
      "model_name": "ToggleButtonsStyleModel",
      "state": {
       "button_width": "",
       "description_width": ""
      }
     },
     "07e26bfbdd264c5caa86997cd380255c": {
      "model_module": "@jupyter-widgets/controls",
      "model_module_version": "1.1.0",
      "model_name": "DescriptionStyleModel",
      "state": {
       "description_width": ""
      }
     },
     "0839726bcf934b2a8cabd4c883d639f1": {
      "model_module": "@jupyter-widgets/controls",
      "model_module_version": "1.1.0",
      "model_name": "LabelModel",
      "state": {
       "layout": "IPY_MODEL_325639152adf4b15b3b1051041ae68eb",
       "style": "IPY_MODEL_72b2eebf41ac4c2db75c3a52ac89f3c9",
       "value": "Select a detector type."
      }
     },
     "085dff56f3114ea8938afe829535393f": {
      "model_module": "@jupyter-widgets/controls",
      "model_module_version": "1.1.0",
      "model_name": "DescriptionStyleModel",
      "state": {
       "description_width": ""
      }
     },
     "093c5b828de249c78fddec2d5a864ef9": {
      "model_module": "@jupyter-widgets/base",
      "model_module_version": "1.0.0",
      "model_name": "LayoutModel",
      "state": {}
     },
     "0a00a4e4a38943d1be4af74db92ec146": {
      "model_module": "@jupyter-widgets/controls",
      "model_module_version": "1.1.0",
      "model_name": "DescriptionStyleModel",
      "state": {
       "description_width": ""
      }
     },
     "0a15630079c4457195034b328b2a52c7": {
      "model_module": "@jupyter-widgets/controls",
      "model_module_version": "1.1.0",
      "model_name": "ToggleButtonsModel",
      "state": {
       "_options_labels": [
        "H",
        "He",
        "C",
        "Si",
        "Fe"
       ],
       "button_style": "",
       "description": "Ion:",
       "icons": [],
       "index": 1,
       "layout": "IPY_MODEL_cdd7b460ab6d497e89a40e54704e0405",
       "style": "IPY_MODEL_2600d26c307b4d64b61cddbb1c9c8bf9",
       "tooltips": [
        "Hydrogen",
        "Helium",
        "Carbon",
        "Silicon",
        "Iron"
       ]
      }
     },
     "0a4e49250d1b4f6f98897b6d82eeb9a1": {
      "model_module": "@jupyter-widgets/controls",
      "model_module_version": "1.1.0",
      "model_name": "CheckboxModel",
      "state": {
       "description": "10°",
       "disabled": false,
       "layout": "IPY_MODEL_99bd68cb67c647a19d309a72f54f1d43",
       "style": "IPY_MODEL_1825297813484bcdac34bff4130870cc",
       "value": true
      }
     },
     "0a70fb9ba1734f81bf40a0d762dae042": {
      "model_module": "@jupyter-widgets/base",
      "model_module_version": "1.0.0",
      "model_name": "LayoutModel",
      "state": {}
     },
     "0a9707392c6b4c3282af3dc874884ff5": {
      "model_module": "@jupyter-widgets/base",
      "model_module_version": "1.0.0",
      "model_name": "LayoutModel",
      "state": {}
     },
     "0a991623230c4b9c9ef64ab68ea5d54d": {
      "model_module": "@jupyter-widgets/controls",
      "model_module_version": "1.1.0",
      "model_name": "DescriptionStyleModel",
      "state": {
       "description_width": ""
      }
     },
     "0b494dc80487406a9b61c6f01741dc0a": {
      "model_module": "@jupyter-widgets/base",
      "model_module_version": "1.0.0",
      "model_name": "LayoutModel",
      "state": {}
     },
     "0b9ff29894144d61b66453698de74215": {
      "model_module": "@jupyter-widgets/controls",
      "model_module_version": "1.1.0",
      "model_name": "DescriptionStyleModel",
      "state": {
       "description_width": ""
      }
     },
     "0c5612b8ca424f38baede82fdba62a08": {
      "model_module": "@jupyter-widgets/controls",
      "model_module_version": "1.1.0",
      "model_name": "DescriptionStyleModel",
      "state": {
       "description_width": ""
      }
     },
     "0c5d38b2439f4de1b6158b9ce2c2de5c": {
      "model_module": "@jupyter-widgets/controls",
      "model_module_version": "1.1.0",
      "model_name": "DescriptionStyleModel",
      "state": {
       "description_width": ""
      }
     },
     "0ce14b6fac51407f83c6f33e8133ce9d": {
      "model_module": "@jupyter-widgets/base",
      "model_module_version": "1.0.0",
      "model_name": "LayoutModel",
      "state": {}
     },
     "0d2323b67db544279e9b9cca4b235141": {
      "model_module": "@jupyter-widgets/controls",
      "model_module_version": "1.1.0",
      "model_name": "ToggleButtonsModel",
      "state": {
       "_options_labels": [
        "Al",
        "HDPE",
        "AlPE"
       ],
       "button_style": "",
       "description": "Upstream target material:",
       "icons": [],
       "index": 0,
       "layout": "IPY_MODEL_0f9a3a7ea3274908a4ba07dfeee17777",
       "style": "IPY_MODEL_c6a1b9433eb64e99a0423142484aa85c",
       "tooltips": [
        "Aluminum",
        "Polyethylene",
        "Combination of Al and HDPE"
       ]
      }
     },
     "0eefed4c26c24fdd9b4b7a338ffa2d06": {
      "model_module": "@jupyter-widgets/base",
      "model_module_version": "1.0.0",
      "model_name": "LayoutModel",
      "state": {}
     },
     "0f09a72e9f9f4937bd8a9ecae88876c4": {
      "model_module": "@jupyter-widgets/controls",
      "model_module_version": "1.1.0",
      "model_name": "DescriptionStyleModel",
      "state": {
       "description_width": ""
      }
     },
     "0f4bb8f40098437a8daeb753c0da2516": {
      "model_module": "@jupyter-widgets/controls",
      "model_module_version": "1.1.0",
      "model_name": "ToggleButtonsModel",
      "state": {
       "_options_labels": [
        "N",
        "NDC",
        "P (¹H)",
        "D (²H)",
        "T (³H)",
        "S (³He)",
        "A (⁴He)"
       ],
       "button_style": "",
       "description": "Type:",
       "icons": [],
       "index": 4,
       "layout": "IPY_MODEL_edf26b31a5c04ae5ac5eb9360ccd15ef",
       "style": "IPY_MODEL_13271da540d24704a926fec8f665e358",
       "tooltips": [
        "Neutron",
        "Neutron (deconvoluted)",
        "Proton",
        "Deuteron",
        "Triton",
        "Helium-3",
        "Helium-4"
       ]
      }
     },
     "0f76e3888d8341d28dd5fed39c244e0e": {
      "model_module": "@jupyter-widgets/base",
      "model_module_version": "1.0.0",
      "model_name": "LayoutModel",
      "state": {}
     },
     "0f9a3a7ea3274908a4ba07dfeee17777": {
      "model_module": "@jupyter-widgets/base",
      "model_module_version": "1.0.0",
      "model_name": "LayoutModel",
      "state": {}
     },
     "10ca3d80274042888db9704121729f77": {
      "model_module": "@jupyter-widgets/controls",
      "model_module_version": "1.1.0",
      "model_name": "LabelModel",
      "state": {
       "layout": "IPY_MODEL_ae22be5c28e94de696808e167388ef1f",
       "style": "IPY_MODEL_2e747fb81d244092853eacf0aec85b3a",
       "value": "Select projectile ion species."
      }
     },
     "10fad7c03c90440a974d7f485df8d67e": {
      "model_module": "@jupyter-widgets/controls",
      "model_module_version": "1.1.0",
      "model_name": "CheckboxModel",
      "state": {
       "description": "10°",
       "disabled": false,
       "layout": "IPY_MODEL_0a70fb9ba1734f81bf40a0d762dae042",
       "style": "IPY_MODEL_0a00a4e4a38943d1be4af74db92ec146",
       "value": true
      }
     },
     "120e79b40cc1437caea92ee8f745a440": {
      "model_module": "@jupyter-widgets/controls",
      "model_module_version": "1.1.0",
      "model_name": "ToggleButtonsStyleModel",
      "state": {
       "button_width": "",
       "description_width": ""
      }
     },
     "1211d6f9f9e04653a3a58fdd718ac1ef": {
      "model_module": "@jupyter-widgets/base",
      "model_module_version": "1.0.0",
      "model_name": "LayoutModel",
      "state": {}
     },
     "124b0a83e56f43c3afd1d745a3842523": {
      "model_module": "@jupyter-widgets/controls",
      "model_module_version": "1.1.0",
      "model_name": "CheckboxModel",
      "state": {
       "description": "7.2°",
       "disabled": false,
       "layout": "IPY_MODEL_9d4f6d8efe3e403b85e88c1a136d41e8",
       "style": "IPY_MODEL_0a991623230c4b9c9ef64ab68ea5d54d",
       "value": true
      }
     },
     "1266e2d15f2c4ed1a6ccfe7dfca2b24e": {
      "model_module": "@jupyter-widgets/controls",
      "model_module_version": "1.1.0",
      "model_name": "CheckboxModel",
      "state": {
       "description": "60°",
       "disabled": false,
       "layout": "IPY_MODEL_f198b3453e774f70bf273162d5d01d64",
       "style": "IPY_MODEL_dd3a3b31398e4a0e9aa1cddadb32dcea",
       "value": true
      }
     },
     "126934ddfa8e4192b3fd5ece72e96b59": {
      "model_module": "@jupyter-widgets/controls",
      "model_module_version": "1.1.0",
      "model_name": "CheckboxModel",
      "state": {
       "description": "30°",
       "disabled": false,
       "layout": "IPY_MODEL_a39a0b6219a04e33ac8128e88b31eec9",
       "style": "IPY_MODEL_aa2c1f5ef7a94d079d5ed5026d0aaa7c",
       "value": true
      }
     },
     "12d7b13808f14eada5e484820d7ef00e": {
      "model_module": "@jupyter-widgets/controls",
      "model_module_version": "1.1.0",
      "model_name": "CheckboxModel",
      "state": {
       "description": "45°",
       "disabled": false,
       "layout": "IPY_MODEL_1f0011445a274e36af5ba0d2d546cdf0",
       "style": "IPY_MODEL_0c5612b8ca424f38baede82fdba62a08",
       "value": true
      }
     },
     "13271da540d24704a926fec8f665e358": {
      "model_module": "@jupyter-widgets/controls",
      "model_module_version": "1.1.0",
      "model_name": "ToggleButtonsStyleModel",
      "state": {
       "button_width": "",
       "description_width": ""
      }
     },
     "1343ff4e746c4800991407de65ac09e2": {
      "model_module": "@jupyter-widgets/base",
      "model_module_version": "1.0.0",
      "model_name": "LayoutModel",
      "state": {}
     },
     "143c0b0a8ded453daf70a006d44b7880": {
      "model_module": "@jupyter-widgets/controls",
      "model_module_version": "1.1.0",
      "model_name": "DescriptionStyleModel",
      "state": {
       "description_width": ""
      }
     },
     "14656cbd39454997b90ef16224d21acc": {
      "model_module": "@jupyter-widgets/controls",
      "model_module_version": "1.1.0",
      "model_name": "LabelModel",
      "state": {
       "layout": "IPY_MODEL_5b62b7eeb86143959158e4085d77bb88",
       "style": "IPY_MODEL_de514ac198ee4f96a23947a300d166c6",
       "value": "Select upstream target material."
      }
     },
     "148bb584f6ef4e5e878a1b381fe79254": {
      "model_module": "@jupyter-widgets/controls",
      "model_module_version": "1.1.0",
      "model_name": "LabelModel",
      "state": {
       "layout": "IPY_MODEL_5c0314f0e2ae4326abd5d4ac63c8dc35",
       "style": "IPY_MODEL_370f4ee7c2e44db992d620b6a6ceb2dd",
       "value": "Select how data sets for each detector should be spaced apart (if at all)."
      }
     },
     "151abc60134044d5a94d1ed2cc538c10": {
      "model_module": "@jupyter-widgets/base",
      "model_module_version": "1.0.0",
      "model_name": "LayoutModel",
      "state": {}
     },
     "154fea893a0347a9b41097a0151ff2a7": {
      "model_module": "@jupyter-widgets/controls",
      "model_module_version": "1.1.0",
      "model_name": "LabelModel",
      "state": {
       "layout": "IPY_MODEL_494ed35864824a06877c2dfcc5d747f6",
       "style": "IPY_MODEL_e18a396c81f740bcb8fd470324b131d6",
       "value": "Select projectile ion energy."
      }
     },
     "15689425cbfc4a4c971397446beb65e8": {
      "model_module": "@jupyter-widgets/base",
      "model_module_version": "1.0.0",
      "model_name": "LayoutModel",
      "state": {}
     },
     "15a35212efc8475aaf0e98cf2b28246a": {
      "model_module": "@jupyter-widgets/controls",
      "model_module_version": "1.1.0",
      "model_name": "ToggleButtonsStyleModel",
      "state": {
       "button_width": "",
       "description_width": ""
      }
     },
     "15e42c4133524de2b2ea86582941de1f": {
      "model_module": "@jupyter-widgets/base",
      "model_module_version": "1.0.0",
      "model_name": "LayoutModel",
      "state": {}
     },
     "16315db0526c431084ebae78a9d1afad": {
      "model_module": "@jupyter-widgets/controls",
      "model_module_version": "1.1.0",
      "model_name": "DescriptionStyleModel",
      "state": {
       "description_width": ""
      }
     },
     "1825297813484bcdac34bff4130870cc": {
      "model_module": "@jupyter-widgets/controls",
      "model_module_version": "1.1.0",
      "model_name": "DescriptionStyleModel",
      "state": {
       "description_width": ""
      }
     },
     "1875e3dd5067473f88a51b8845b141ac": {
      "model_module": "@jupyter-widgets/controls",
      "model_module_version": "1.1.0",
      "model_name": "ToggleButtonsModel",
      "state": {
       "_options_labels": [
        "OLS",
        "NaI"
       ],
       "button_style": "",
       "description": "Type:",
       "icons": [],
       "index": 0,
       "layout": "IPY_MODEL_91a8c6d91411460a994e09b91adedd71",
       "style": "IPY_MODEL_bfd76b866fce44aa921ab72cc6d1c12f",
       "tooltips": [
        "Organic Liquid Scintillator",
        "Sodium Iodide"
       ]
      }
     },
     "188b644e780e4203a6132e97b46d6a85": {
      "model_module": "@jupyter-widgets/controls",
      "model_module_version": "1.1.0",
      "model_name": "CheckboxModel",
      "state": {
       "description": "45°",
       "disabled": false,
       "layout": "IPY_MODEL_7b67634f3b2e4352a0589661be000b81",
       "style": "IPY_MODEL_7c06d94c93634ca3ba27341ff8025071",
       "value": true
      }
     },
     "1895e3bc6f044bb8afff35cdcfbc7aab": {
      "model_module": "@jupyter-widgets/base",
      "model_module_version": "1.0.0",
      "model_name": "LayoutModel",
      "state": {}
     },
     "193853f9a1684ec88fc80445d79e0ba9": {
      "model_module": "@jupyter-widgets/base",
      "model_module_version": "1.0.0",
      "model_name": "LayoutModel",
      "state": {}
     },
     "19bd98574c554e07b4b537e9e84ecf7d": {
      "model_module": "@jupyter-widgets/controls",
      "model_module_version": "1.1.0",
      "model_name": "CheckboxModel",
      "state": {
       "description": "28.2°",
       "disabled": false,
       "layout": "IPY_MODEL_889762aa4e644d949a48ea2d57dac50e",
       "style": "IPY_MODEL_6223168c1f55461595981e5ec71396fd",
       "value": true
      }
     },
     "1bb7f2c06922441089584949384b0a0c": {
      "model_module": "@jupyter-widgets/base",
      "model_module_version": "1.0.0",
      "model_name": "LayoutModel",
      "state": {}
     },
     "1bc0fe1be6aa4c15aa1668a0dca5fca8": {
      "model_module": "@jupyter-widgets/base",
      "model_module_version": "1.0.0",
      "model_name": "LayoutModel",
      "state": {}
     },
     "1c30df6baca14be9b804620d10110d72": {
      "model_module": "@jupyter-widgets/base",
      "model_module_version": "1.0.0",
      "model_name": "LayoutModel",
      "state": {}
     },
     "1cb269111fbe40189e9390668bf98904": {
      "model_module": "@jupyter-widgets/controls",
      "model_module_version": "1.1.0",
      "model_name": "LabelModel",
      "state": {
       "layout": "IPY_MODEL_388644282a824885afb9277afeea4f70",
       "style": "IPY_MODEL_9f6c28c005314a9b83e039513ce02007",
       "value": "Select the detector angles to plot."
      }
     },
     "1ccf22597e434af5bab9dad773320ed1": {
      "model_module": "@jupyter-widgets/base",
      "model_module_version": "1.0.0",
      "model_name": "LayoutModel",
      "state": {}
     },
     "1d26bbdb345e4228a599082eb1877107": {
      "model_module": "@jupyter-widgets/base",
      "model_module_version": "1.0.0",
      "model_name": "LayoutModel",
      "state": {}
     },
     "1daced6103c9424ab2254a318ff9985a": {
      "model_module": "@jupyter-widgets/controls",
      "model_module_version": "1.1.0",
      "model_name": "CheckboxModel",
      "state": {
       "description": "30°",
       "disabled": false,
       "layout": "IPY_MODEL_9cd3e6c6e5e242f89758ccc80cb5a2e7",
       "style": "IPY_MODEL_a41aefaded0c42d8b1f36b278b07e298",
       "value": true
      }
     },
     "1ead81b4709043c994909a2b2b093b5f": {
      "model_module": "@jupyter-widgets/controls",
      "model_module_version": "1.1.0",
      "model_name": "ToggleButtonsStyleModel",
      "state": {
       "button_width": "",
       "description_width": ""
      }
     },
     "1ebf963a3f6c45cf90efcce937720a07": {
      "model_module": "@jupyter-widgets/controls",
      "model_module_version": "1.1.0",
      "model_name": "DescriptionStyleModel",
      "state": {
       "description_width": ""
      }
     },
     "1f0011445a274e36af5ba0d2d546cdf0": {
      "model_module": "@jupyter-widgets/base",
      "model_module_version": "1.0.0",
      "model_name": "LayoutModel",
      "state": {}
     },
     "1f772ee58afb4bd29003d5804c7a5fa8": {
      "model_module": "@jupyter-widgets/controls",
      "model_module_version": "1.1.0",
      "model_name": "ToggleButtonsStyleModel",
      "state": {
       "button_width": "",
       "description_width": ""
      }
     },
     "208ce91453bd48d9944ef67cb52ea58e": {
      "model_module": "@jupyter-widgets/controls",
      "model_module_version": "1.1.0",
      "model_name": "LabelModel",
      "state": {
       "layout": "IPY_MODEL_093c5b828de249c78fddec2d5a864ef9",
       "style": "IPY_MODEL_ead1f9378a724f3fac29c1cdad541101",
       "value": "Select the detector angles to plot."
      }
     },
     "2166ce61f48441109f67d654dd830c66": {
      "model_module": "@jupyter-widgets/base",
      "model_module_version": "1.0.0",
      "model_name": "LayoutModel",
      "state": {}
     },
     "21f5849d07b3473885fecce53d0e112c": {
      "model_module": "@jupyter-widgets/controls",
      "model_module_version": "1.1.0",
      "model_name": "DescriptionStyleModel",
      "state": {
       "description_width": ""
      }
     },
     "22f66ed53e8e423593a80dfdbe42d767": {
      "model_module": "@jupyter-widgets/controls",
      "model_module_version": "1.1.0",
      "model_name": "LabelModel",
      "state": {
       "layout": "IPY_MODEL_3072555a9e1f4fdba977666bb7ebfa77",
       "style": "IPY_MODEL_fff6cf548d564635b9b9146c8655a150",
       "value": "Select which secondary particle to plot spectra for."
      }
     },
     "234bc26d1bdc454db32ce045f42ba194": {
      "model_module": "@jupyter-widgets/base",
      "model_module_version": "1.0.0",
      "model_name": "LayoutModel",
      "state": {}
     },
     "239861f2318746d8bd9cb83702437d0e": {
      "model_module": "@jupyter-widgets/controls",
      "model_module_version": "1.1.0",
      "model_name": "DescriptionStyleModel",
      "state": {
       "description_width": ""
      }
     },
     "23c05b24f4314aa78519265ec6bd84df": {
      "model_module": "@jupyter-widgets/base",
      "model_module_version": "1.0.0",
      "model_name": "LayoutModel",
      "state": {}
     },
     "23fb7853f7e54cb294e395420afca9f4": {
      "model_module": "@jupyter-widgets/controls",
      "model_module_version": "1.1.0",
      "model_name": "ToggleButtonsStyleModel",
      "state": {
       "button_width": "",
       "description_width": ""
      }
     },
     "24ba17d9774d4073a4e994a25d40d51d": {
      "model_module": "@jupyter-widgets/controls",
      "model_module_version": "1.1.0",
      "model_name": "CheckboxModel",
      "state": {
       "description": "45°",
       "disabled": false,
       "layout": "IPY_MODEL_41c6123353a245d989a8bde1b0c20baa",
       "style": "IPY_MODEL_d0cf31ea782242468beb9758d21f489e",
       "value": true
      }
     },
     "25054629341f40a6af0ec20bd4256753": {
      "model_module": "@jupyter-widgets/controls",
      "model_module_version": "1.1.0",
      "model_name": "ToggleButtonsStyleModel",
      "state": {
       "button_width": "",
       "description_width": ""
      }
     },
     "25e876c3f90c4f3f8dfd969e5d91c1a4": {
      "model_module": "@jupyter-widgets/controls",
      "model_module_version": "1.1.0",
      "model_name": "DescriptionStyleModel",
      "state": {
       "description_width": ""
      }
     },
     "2600d26c307b4d64b61cddbb1c9c8bf9": {
      "model_module": "@jupyter-widgets/controls",
      "model_module_version": "1.1.0",
      "model_name": "ToggleButtonsStyleModel",
      "state": {
       "button_width": "",
       "description_width": ""
      }
     },
     "2696caeb870d4dfaaa013481d2df2f9b": {
      "model_module": "@jupyter-widgets/controls",
      "model_module_version": "1.1.0",
      "model_name": "DescriptionStyleModel",
      "state": {
       "description_width": ""
      }
     },
     "28327983a7144dda802785386bf344e5": {
      "model_module": "@jupyter-widgets/controls",
      "model_module_version": "1.1.0",
      "model_name": "DescriptionStyleModel",
      "state": {
       "description_width": ""
      }
     },
     "2858d126397546b8be1f6caa310f86de": {
      "model_module": "@jupyter-widgets/controls",
      "model_module_version": "1.1.0",
      "model_name": "LabelModel",
      "state": {
       "layout": "IPY_MODEL_0ce14b6fac51407f83c6f33e8133ce9d",
       "style": "IPY_MODEL_2bbc794ed60648fab66a3d5753df3d8d",
       "value": "Select which secondary particle to plot spectra for."
      }
     },
     "290f6517a4974413ac77c8839dbff117": {
      "model_module": "@jupyter-widgets/controls",
      "model_module_version": "1.1.0",
      "model_name": "LabelModel",
      "state": {
       "layout": "IPY_MODEL_30407ff8bcd242f292717ae55fc69e0f",
       "style": "IPY_MODEL_6efdb2340e02451a9552572577528872",
       "value": "Select the detector angles to plot."
      }
     },
     "295d5bb3ce65469a9acd54ef9b27d655": {
      "model_module": "@jupyter-widgets/base",
      "model_module_version": "1.0.0",
      "model_name": "LayoutModel",
      "state": {}
     },
     "29d3db93db314a9b95c0d4046ba54a75": {
      "model_module": "@jupyter-widgets/controls",
      "model_module_version": "1.1.0",
      "model_name": "LabelModel",
      "state": {
       "layout": "IPY_MODEL_a2c7c3cfda034156a7273cf99e275eaa",
       "style": "IPY_MODEL_b71cf0c8c619417dbee68c5f6ac1d3c4",
       "value": "Select which secondary particle to plot spectra for."
      }
     },
     "29f318090a064ca9b5eec01d4439e4e1": {
      "model_module": "@jupyter-widgets/controls",
      "model_module_version": "1.1.0",
      "model_name": "DescriptionStyleModel",
      "state": {
       "description_width": ""
      }
     },
     "2a0913dcf72e411ca80f20d125322405": {
      "model_module": "@jupyter-widgets/base",
      "model_module_version": "1.0.0",
      "model_name": "LayoutModel",
      "state": {}
     },
     "2a56e738a39c42b7ae89d38553519993": {
      "model_module": "@jupyter-widgets/controls",
      "model_module_version": "1.1.0",
      "model_name": "DescriptionStyleModel",
      "state": {
       "description_width": ""
      }
     },
     "2b77daaeab2946b6ae613f67e7e60193": {
      "model_module": "@jupyter-widgets/base",
      "model_module_version": "1.0.0",
      "model_name": "LayoutModel",
      "state": {}
     },
     "2bbc794ed60648fab66a3d5753df3d8d": {
      "model_module": "@jupyter-widgets/controls",
      "model_module_version": "1.1.0",
      "model_name": "DescriptionStyleModel",
      "state": {
       "description_width": ""
      }
     },
     "2bd1282aaefa4b4a9f8b526e7564db41": {
      "model_module": "@jupyter-widgets/base",
      "model_module_version": "1.0.0",
      "model_name": "LayoutModel",
      "state": {}
     },
     "2be8b6480e1545259a4a3740279c1431": {
      "model_module": "@jupyter-widgets/controls",
      "model_module_version": "1.1.0",
      "model_name": "ToggleButtonsModel",
      "state": {
       "_options_labels": [
        "OLS",
        "NaI"
       ],
       "button_style": "",
       "description": "Type:",
       "icons": [],
       "index": 1,
       "layout": "IPY_MODEL_1bc0fe1be6aa4c15aa1668a0dca5fca8",
       "style": "IPY_MODEL_7c5ed978785a429b9b206f69e356bafc",
       "tooltips": [
        "Organic Liquid Scintillator",
        "Sodium Iodide"
       ]
      }
     },
     "2c85b3e482da47e086ca2c80ce8a29bb": {
      "model_module": "@jupyter-widgets/base",
      "model_module_version": "1.0.0",
      "model_name": "LayoutModel",
      "state": {}
     },
     "2e747fb81d244092853eacf0aec85b3a": {
      "model_module": "@jupyter-widgets/controls",
      "model_module_version": "1.1.0",
      "model_name": "DescriptionStyleModel",
      "state": {
       "description_width": ""
      }
     },
     "2f5368399fa8407bae759281254513f9": {
      "model_module": "@jupyter-widgets/controls",
      "model_module_version": "1.1.0",
      "model_name": "DescriptionStyleModel",
      "state": {
       "description_width": ""
      }
     },
     "2f90a84a8e5c4438a30a321412b6b726": {
      "model_module": "@jupyter-widgets/controls",
      "model_module_version": "1.1.0",
      "model_name": "CheckboxModel",
      "state": {
       "description": "MCNP simulated",
       "disabled": false,
       "layout": "IPY_MODEL_e2afa7cfcc1a41298897da78530a081d",
       "style": "IPY_MODEL_c7742e8a78a045c891f17eec533ac65f",
       "value": true
      }
     },
     "3036287ca66040449e0295f0336a10af": {
      "model_module": "@jupyter-widgets/controls",
      "model_module_version": "1.1.0",
      "model_name": "LabelModel",
      "state": {
       "layout": "IPY_MODEL_62f47ee6e3cb4a56973a12d78275a05a",
       "style": "IPY_MODEL_c664c34b4b654a61976bd21113e6d4e2",
       "value": "Select projectile ion species."
      }
     },
     "30407ff8bcd242f292717ae55fc69e0f": {
      "model_module": "@jupyter-widgets/base",
      "model_module_version": "1.0.0",
      "model_name": "LayoutModel",
      "state": {}
     },
     "3063300bc4d141a08987333120dcb617": {
      "model_module": "@jupyter-widgets/controls",
      "model_module_version": "1.1.0",
      "model_name": "CheckboxModel",
      "state": {
       "description": "135°",
       "disabled": false,
       "layout": "IPY_MODEL_6f33bde3f7e847a7afdbce2b29b2dce2",
       "style": "IPY_MODEL_16315db0526c431084ebae78a9d1afad",
       "value": true
      }
     },
     "3072555a9e1f4fdba977666bb7ebfa77": {
      "model_module": "@jupyter-widgets/base",
      "model_module_version": "1.0.0",
      "model_name": "LayoutModel",
      "state": {}
     },
     "30eed5373ec5436fbf0a748621ee4f21": {
      "model_module": "@jupyter-widgets/controls",
      "model_module_version": "1.1.0",
      "model_name": "CheckboxModel",
      "state": {
       "description": "30°",
       "disabled": false,
       "layout": "IPY_MODEL_4a5c8be0fd00483fa1bdf40cefc5198e",
       "style": "IPY_MODEL_74d5f9b4ab8d4302a37bd20f9f9f0e08",
       "value": true
      }
     },
     "325639152adf4b15b3b1051041ae68eb": {
      "model_module": "@jupyter-widgets/base",
      "model_module_version": "1.0.0",
      "model_name": "LayoutModel",
      "state": {}
     },
     "340227b1db3b4b7e99a991a1fcad0316": {
      "model_module": "@jupyter-widgets/base",
      "model_module_version": "1.0.0",
      "model_name": "LayoutModel",
      "state": {}
     },
     "343114b504ce43fda824ef0816453850": {
      "model_module": "@jupyter-widgets/controls",
      "model_module_version": "1.1.0",
      "model_name": "DescriptionStyleModel",
      "state": {
       "description_width": ""
      }
     },
     "351ce5e01dad43c699861b74f5ad7e01": {
      "model_module": "@jupyter-widgets/base",
      "model_module_version": "1.0.0",
      "model_name": "LayoutModel",
      "state": {}
     },
     "35931f67715d4c6a9251af2ea03c446a": {
      "model_module": "@jupyter-widgets/controls",
      "model_module_version": "1.1.0",
      "model_name": "DescriptionStyleModel",
      "state": {
       "description_width": ""
      }
     },
     "370f4ee7c2e44db992d620b6a6ceb2dd": {
      "model_module": "@jupyter-widgets/controls",
      "model_module_version": "1.1.0",
      "model_name": "DescriptionStyleModel",
      "state": {
       "description_width": ""
      }
     },
     "37dbef5250e14c26b5ef5bd7f3fa56d6": {
      "model_module": "@jupyter-widgets/controls",
      "model_module_version": "1.1.0",
      "model_name": "ToggleButtonsModel",
      "state": {
       "_options_labels": [
        "OLS",
        "NaI"
       ],
       "button_style": "",
       "description": "Type:",
       "icons": [],
       "index": 0,
       "layout": "IPY_MODEL_a7271008a8924a56badb7451ba5fb3db",
       "style": "IPY_MODEL_f8c6878758504288a4ef98490a7bf179",
       "tooltips": [
        "Organic Liquid Scintillator",
        "Sodium Iodide"
       ]
      }
     },
     "3804a43a83904c60a62391076b5dbb2c": {
      "model_module": "@jupyter-widgets/base",
      "model_module_version": "1.0.0",
      "model_name": "LayoutModel",
      "state": {}
     },
     "387c26afccf64375a0a6f06243572aea": {
      "model_module": "@jupyter-widgets/controls",
      "model_module_version": "1.1.0",
      "model_name": "DescriptionStyleModel",
      "state": {
       "description_width": ""
      }
     },
     "388644282a824885afb9277afeea4f70": {
      "model_module": "@jupyter-widgets/base",
      "model_module_version": "1.0.0",
      "model_name": "LayoutModel",
      "state": {}
     },
     "38d579e3bb154fefb863b0dac675d366": {
      "model_module": "@jupyter-widgets/controls",
      "model_module_version": "1.1.0",
      "model_name": "CheckboxModel",
      "state": {
       "description": "30°",
       "disabled": false,
       "layout": "IPY_MODEL_52ad8bb78cee422c90dad374940fe913",
       "style": "IPY_MODEL_c011c67b02e846f88f4fa9afc9ba4323",
       "value": true
      }
     },
     "38e556317afc4ef3b3e660e02239fc61": {
      "model_module": "@jupyter-widgets/base",
      "model_module_version": "1.0.0",
      "model_name": "LayoutModel",
      "state": {}
     },
     "399c7aed982148b7812e34ed0bb543ff": {
      "model_module": "@jupyter-widgets/controls",
      "model_module_version": "1.1.0",
      "model_name": "ToggleButtonsModel",
      "state": {
       "_options_labels": [
        "OLS",
        "NaI"
       ],
       "button_style": "",
       "description": "Detectory type:",
       "icons": [],
       "index": 0,
       "layout": "IPY_MODEL_295d5bb3ce65469a9acd54ef9b27d655",
       "style": "IPY_MODEL_89a398c8217f431ea4a51d7fbe9f240e",
       "tooltips": [
        "Organic Liquid Scintillator",
        "Sodium Iodide"
       ]
      }
     },
     "39d8364dc2564b2ebd83bafec9c69e43": {
      "model_module": "@jupyter-widgets/controls",
      "model_module_version": "1.1.0",
      "model_name": "CheckboxModel",
      "state": {
       "description": "PHITS simulated",
       "disabled": false,
       "layout": "IPY_MODEL_f6f17ed301d94057a0bc97f27e6b7024",
       "style": "IPY_MODEL_465429e0249e4ed895c7a339c506965d",
       "value": true
      }
     },
     "3a19cc5c39f047ad823d1c15fd11c6ba": {
      "model_module": "@jupyter-widgets/controls",
      "model_module_version": "1.1.0",
      "model_name": "DescriptionStyleModel",
      "state": {
       "description_width": ""
      }
     },
     "3a28181ffb7c48c8a0db5f7b94a0b7b9": {
      "model_module": "@jupyter-widgets/base",
      "model_module_version": "1.0.0",
      "model_name": "LayoutModel",
      "state": {}
     },
     "3aabbbe295924549ad6199485064a91b": {
      "model_module": "@jupyter-widgets/controls",
      "model_module_version": "1.1.0",
      "model_name": "DescriptionStyleModel",
      "state": {
       "description_width": ""
      }
     },
     "3b19f73ad74f454db3d139044ffae906": {
      "model_module": "@jupyter-widgets/controls",
      "model_module_version": "1.1.0",
      "model_name": "CheckboxModel",
      "state": {
       "description": "7.2°",
       "disabled": false,
       "layout": "IPY_MODEL_a809e08561f34af1bf29fb92f9f1b6c2",
       "style": "IPY_MODEL_21f5849d07b3473885fecce53d0e112c",
       "value": true
      }
     },
     "3c1a1d7cb0484238a4722a24501e0519": {
      "model_module": "@jupyter-widgets/controls",
      "model_module_version": "1.1.0",
      "model_name": "ToggleButtonsModel",
      "state": {
       "_options_labels": [
        "H",
        "He",
        "C",
        "Si",
        "Fe"
       ],
       "button_style": "",
       "description": "Ion:",
       "icons": [],
       "index": 1,
       "layout": "IPY_MODEL_87129d9865714036ae427bf5d22d6393",
       "style": "IPY_MODEL_65e71b95a6c041509430f4fb06897811",
       "tooltips": [
        "Hydrogen",
        "Helium",
        "Carbon",
        "Silicon",
        "Iron"
       ]
      }
     },
     "3cb83558997740aeb1dbac5417186059": {
      "model_module": "@jupyter-widgets/controls",
      "model_module_version": "1.1.0",
      "model_name": "DescriptionStyleModel",
      "state": {
       "description_width": ""
      }
     },
     "3ea7154df9b74a139506c0f40dc800f4": {
      "model_module": "@jupyter-widgets/controls",
      "model_module_version": "1.1.0",
      "model_name": "LabelModel",
      "state": {
       "layout": "IPY_MODEL_d7eefa870f8c4d0e9c21967a295082e0",
       "style": "IPY_MODEL_995e5fbf85fb4011ade0b12ae8d72130",
       "value": "Select a detector type."
      }
     },
     "3f11f31719bb4615b8e63eafeabda928": {
      "model_module": "@jupyter-widgets/base",
      "model_module_version": "1.0.0",
      "model_name": "LayoutModel",
      "state": {}
     },
     "3f3603034f324ad993c0645e021adfa3": {
      "model_module": "@jupyter-widgets/base",
      "model_module_version": "1.0.0",
      "model_name": "LayoutModel",
      "state": {}
     },
     "3f593129ac0c4ef0a9f064af47474b22": {
      "model_module": "@jupyter-widgets/base",
      "model_module_version": "1.0.0",
      "model_name": "LayoutModel",
      "state": {}
     },
     "3fa0dbfe0fbf4acf816f9fe48781f1e6": {
      "model_module": "@jupyter-widgets/controls",
      "model_module_version": "1.1.0",
      "model_name": "DescriptionStyleModel",
      "state": {
       "description_width": ""
      }
     },
     "3fa362803ddd4c109c430794792cdfe2": {
      "model_module": "@jupyter-widgets/controls",
      "model_module_version": "1.1.0",
      "model_name": "ToggleButtonsModel",
      "state": {
       "_options_labels": [
        "OLS",
        "NaI"
       ],
       "button_style": "",
       "description": "Type:",
       "icons": [],
       "index": 0,
       "layout": "IPY_MODEL_046224b054b0448ea8e0ed8ad64c4b05",
       "style": "IPY_MODEL_caccc658e39e4d8eab1327632eccbe34",
       "tooltips": [
        "Organic Liquid Scintillator",
        "Sodium Iodide"
       ]
      }
     },
     "4088ba6d018e4e63a876d816450947aa": {
      "model_module": "@jupyter-widgets/controls",
      "model_module_version": "1.1.0",
      "model_name": "DescriptionStyleModel",
      "state": {
       "description_width": ""
      }
     },
     "40ddbb06e0014ae08ff988866adf07c1": {
      "model_module": "@jupyter-widgets/base",
      "model_module_version": "1.0.0",
      "model_name": "LayoutModel",
      "state": {}
     },
     "41c6123353a245d989a8bde1b0c20baa": {
      "model_module": "@jupyter-widgets/base",
      "model_module_version": "1.0.0",
      "model_name": "LayoutModel",
      "state": {}
     },
     "41e3926362f243e19a8320c94d209953": {
      "model_module": "@jupyter-widgets/base",
      "model_module_version": "1.0.0",
      "model_name": "LayoutModel",
      "state": {}
     },
     "45ced6062b084a298ed3dcf78ffa98a6": {
      "model_module": "@jupyter-widgets/controls",
      "model_module_version": "1.1.0",
      "model_name": "CheckboxModel",
      "state": {
       "description": "30°",
       "disabled": false,
       "layout": "IPY_MODEL_93c0c364b777479483d8dde8303cd5c9",
       "style": "IPY_MODEL_d489953aa27748ca809f2bfa6fcbdbf6",
       "value": true
      }
     },
     "4613f06e102346389509918e945271e4": {
      "model_module": "@jupyter-widgets/base",
      "model_module_version": "1.0.0",
      "model_name": "LayoutModel",
      "state": {}
     },
     "465429e0249e4ed895c7a339c506965d": {
      "model_module": "@jupyter-widgets/controls",
      "model_module_version": "1.1.0",
      "model_name": "DescriptionStyleModel",
      "state": {
       "description_width": ""
      }
     },
     "4693c63a28be4976a31169004a8d002b": {
      "model_module": "@jupyter-widgets/base",
      "model_module_version": "1.0.0",
      "model_name": "LayoutModel",
      "state": {}
     },
     "46e450b0cee34e4fa614f8ded0109b65": {
      "model_module": "@jupyter-widgets/controls",
      "model_module_version": "1.1.0",
      "model_name": "CheckboxModel",
      "state": {
       "description": "60°",
       "disabled": false,
       "layout": "IPY_MODEL_151abc60134044d5a94d1ed2cc538c10",
       "style": "IPY_MODEL_c13fad6c897e49fc95a5190bb1a14f16",
       "value": true
      }
     },
     "47b451d0705f4e5a99278ecb7a32fa14": {
      "model_module": "@jupyter-widgets/controls",
      "model_module_version": "1.1.0",
      "model_name": "DescriptionStyleModel",
      "state": {
       "description_width": ""
      }
     },
     "47ba5787fa4d46a29489a5bff9350ee7": {
      "model_module": "@jupyter-widgets/controls",
      "model_module_version": "1.1.0",
      "model_name": "CheckboxModel",
      "state": {
       "description": "30°",
       "disabled": false,
       "layout": "IPY_MODEL_9c713958352b42d49e7d241ff01017a5",
       "style": "IPY_MODEL_7286703e5c1347568193beac71fefb31",
       "value": true
      }
     },
     "49015ebd8031493a918323f27b6acefc": {
      "model_module": "@jupyter-widgets/controls",
      "model_module_version": "1.1.0",
      "model_name": "ToggleButtonsModel",
      "state": {
       "_options_labels": [
        "OLS",
        "NaI"
       ],
       "button_style": "",
       "description": "Type:",
       "icons": [],
       "index": 1,
       "layout": "IPY_MODEL_0eefed4c26c24fdd9b4b7a338ffa2d06",
       "style": "IPY_MODEL_e975e26b0362471590a595e5711b6a02",
       "tooltips": [
        "Organic Liquid Scintillator",
        "Sodium Iodide"
       ]
      }
     },
     "491c68a6d7dc4e31a54fc9b25206b9e1": {
      "model_module": "@jupyter-widgets/controls",
      "model_module_version": "1.1.0",
      "model_name": "CheckboxModel",
      "state": {
       "description": "30°",
       "disabled": false,
       "layout": "IPY_MODEL_a6d31dec6d624b0f98c06300248662ea",
       "style": "IPY_MODEL_f8a211f64f1f4f378bcaa6dd3f50b1db",
       "value": true
      }
     },
     "494ed35864824a06877c2dfcc5d747f6": {
      "model_module": "@jupyter-widgets/base",
      "model_module_version": "1.0.0",
      "model_name": "LayoutModel",
      "state": {}
     },
     "49d97c629783467eaf05427d54689f46": {
      "model_module": "@jupyter-widgets/controls",
      "model_module_version": "1.1.0",
      "model_name": "DescriptionStyleModel",
      "state": {
       "description_width": ""
      }
     },
     "4a4c72c0f9b94ba490d720133e36dbf4": {
      "model_module": "@jupyter-widgets/controls",
      "model_module_version": "1.1.0",
      "model_name": "CheckboxModel",
      "state": {
       "description": "12.7°",
       "disabled": false,
       "layout": "IPY_MODEL_d045ed28e7f443a492a3b0a8c145e6bd",
       "style": "IPY_MODEL_29f318090a064ca9b5eec01d4439e4e1",
       "value": true
      }
     },
     "4a5c8be0fd00483fa1bdf40cefc5198e": {
      "model_module": "@jupyter-widgets/base",
      "model_module_version": "1.0.0",
      "model_name": "LayoutModel",
      "state": {}
     },
     "4aa68107177a4fe48b628bb095f66180": {
      "model_module": "@jupyter-widgets/controls",
      "model_module_version": "1.1.0",
      "model_name": "DescriptionStyleModel",
      "state": {
       "description_width": ""
      }
     },
     "4b22a219bb39429aadfbe3662ab9344e": {
      "model_module": "@jupyter-widgets/controls",
      "model_module_version": "1.1.0",
      "model_name": "ToggleButtonsStyleModel",
      "state": {
       "button_width": "",
       "description_width": ""
      }
     },
     "4b60212ad09e40aa9508e02ca4d54fdc": {
      "model_module": "@jupyter-widgets/base",
      "model_module_version": "1.0.0",
      "model_name": "LayoutModel",
      "state": {}
     },
     "4b608a358fb24ba08d1a806019468afe": {
      "model_module": "@jupyter-widgets/controls",
      "model_module_version": "1.1.0",
      "model_name": "DescriptionStyleModel",
      "state": {
       "description_width": ""
      }
     },
     "4e376709764449dcb347924ebfde00e6": {
      "model_module": "@jupyter-widgets/controls",
      "model_module_version": "1.1.0",
      "model_name": "DescriptionStyleModel",
      "state": {
       "description_width": ""
      }
     },
     "4f1190b8cbda46f889e0baa7d9929de6": {
      "model_module": "@jupyter-widgets/controls",
      "model_module_version": "1.1.0",
      "model_name": "DescriptionStyleModel",
      "state": {
       "description_width": ""
      }
     },
     "4f7ecca2fa244146b4cb33d2ca6396d3": {
      "model_module": "@jupyter-widgets/controls",
      "model_module_version": "1.1.0",
      "model_name": "ToggleButtonsModel",
      "state": {
       "_options_labels": [
        "Al",
        "HDPE",
        "AlPE"
       ],
       "button_style": "",
       "description": "Material:",
       "icons": [],
       "index": 0,
       "layout": "IPY_MODEL_a17c6908c7eb480ea1cd7598a0c8cf81",
       "style": "IPY_MODEL_943d6b62d3784ae79ad92e1c89bec15d",
       "tooltips": [
        "Aluminum",
        "Polyethylene",
        "Combination of Al and HDPE"
       ]
      }
     },
     "4ffd4cfb70074db8ac07d1d8cf7325d6": {
      "model_module": "@jupyter-widgets/base",
      "model_module_version": "1.0.0",
      "model_name": "LayoutModel",
      "state": {}
     },
     "5014b7d0d7cd4fffb76abe2230de4cc7": {
      "model_module": "@jupyter-widgets/controls",
      "model_module_version": "1.1.0",
      "model_name": "CheckboxModel",
      "state": {
       "description": "60°",
       "disabled": false,
       "layout": "IPY_MODEL_99c2da3db1304b69bdb9ff3d14c51e3e",
       "style": "IPY_MODEL_e276e5c685494292b6190b0bad23e9f6",
       "value": true
      }
     },
     "507aa9e67bd74d07bc90b72a6b489cb3": {
      "model_module": "@jupyter-widgets/controls",
      "model_module_version": "1.1.0",
      "model_name": "CheckboxModel",
      "state": {
       "description": "Experiment",
       "disabled": false,
       "layout": "IPY_MODEL_dddc16ed883246f0815715672f5991bf",
       "style": "IPY_MODEL_2a56e738a39c42b7ae89d38553519993",
       "value": true
      }
     },
     "50ac177e718e4ad88a72239deb018207": {
      "model_module": "@jupyter-widgets/controls",
      "model_module_version": "1.1.0",
      "model_name": "CheckboxModel",
      "state": {
       "description": "10°",
       "disabled": false,
       "layout": "IPY_MODEL_5bce7c35e254453d81e41fcc938c00ac",
       "style": "IPY_MODEL_fc3c7d1c3a824bc4a7ab4ae7d3a76502",
       "value": true
      }
     },
     "50bf5b82fdcf40549f30bc8f10000f32": {
      "model_module": "@jupyter-widgets/base",
      "model_module_version": "1.0.0",
      "model_name": "LayoutModel",
      "state": {}
     },
     "511397ef520f48a1bd18a902ecf23138": {
      "model_module": "@jupyter-widgets/controls",
      "model_module_version": "1.1.0",
      "model_name": "LabelModel",
      "state": {
       "layout": "IPY_MODEL_d921a36675004b3d9263529f7b8473c8",
       "style": "IPY_MODEL_4b608a358fb24ba08d1a806019468afe",
       "value": "Select which secondary particle to plot spectra for."
      }
     },
     "517769533b984abe859dc81af6864c67": {
      "model_module": "@jupyter-widgets/controls",
      "model_module_version": "1.1.0",
      "model_name": "DescriptionStyleModel",
      "state": {
       "description_width": ""
      }
     },
     "51b6948d26ac4208adc465035d6b9140": {
      "model_module": "@jupyter-widgets/base",
      "model_module_version": "1.0.0",
      "model_name": "LayoutModel",
      "state": {}
     },
     "5245f077e25a410482d2210652e901bf": {
      "model_module": "@jupyter-widgets/base",
      "model_module_version": "1.0.0",
      "model_name": "LayoutModel",
      "state": {}
     },
     "52ad8bb78cee422c90dad374940fe913": {
      "model_module": "@jupyter-widgets/base",
      "model_module_version": "1.0.0",
      "model_name": "LayoutModel",
      "state": {}
     },
     "53cb2360d4f441c387b3d5e6a9f15d9b": {
      "model_module": "@jupyter-widgets/controls",
      "model_module_version": "1.1.0",
      "model_name": "CheckboxModel",
      "state": {
       "description": "Experiment",
       "disabled": false,
       "layout": "IPY_MODEL_2166ce61f48441109f67d654dd830c66",
       "style": "IPY_MODEL_765e107b085741a78596fb1663fbafdb",
       "value": true
      }
     },
     "548e6d09d18b4f059585b74202e21847": {
      "model_module": "@jupyter-widgets/controls",
      "model_module_version": "1.1.0",
      "model_name": "CheckboxModel",
      "state": {
       "description": "30°",
       "disabled": false,
       "layout": "IPY_MODEL_9de1a2aa769f47d29e37631d7962d1c9",
       "style": "IPY_MODEL_6c4eb150c9cf4b37b964232ca3b5107b",
       "value": true
      }
     },
     "54a5c06de8ce4adcbd71df8fd771b4c4": {
      "model_module": "@jupyter-widgets/controls",
      "model_module_version": "1.1.0",
      "model_name": "CheckboxModel",
      "state": {
       "description": "Experiment",
       "disabled": false,
       "layout": "IPY_MODEL_fe5af945dcef46c08027357980776cea",
       "style": "IPY_MODEL_af90e3c5f03a4a37aec96c93311885e7",
       "value": true
      }
     },
     "54a6008ce254488abca9239c5aee6363": {
      "model_module": "@jupyter-widgets/controls",
      "model_module_version": "1.1.0",
      "model_name": "DescriptionStyleModel",
      "state": {
       "description_width": ""
      }
     },
     "54bb34b4459744c28505bd086292de89": {
      "model_module": "@jupyter-widgets/controls",
      "model_module_version": "1.1.0",
      "model_name": "LabelModel",
      "state": {
       "layout": "IPY_MODEL_38e556317afc4ef3b3e660e02239fc61",
       "style": "IPY_MODEL_69cb1aa93beb4082943a60af9ea045db",
       "value": "Select which secondary particle to plot spectra for."
      }
     },
     "55a5703aec6e4ddf86fb580bdcbfe484": {
      "model_module": "@jupyter-widgets/controls",
      "model_module_version": "1.1.0",
      "model_name": "ToggleButtonsStyleModel",
      "state": {
       "button_width": "",
       "description_width": ""
      }
     },
     "56c41aa0c12e46e6981fa32b272843b1": {
      "model_module": "@jupyter-widgets/controls",
      "model_module_version": "1.1.0",
      "model_name": "LabelModel",
      "state": {
       "layout": "IPY_MODEL_bd7e163492cd48788cd5ed22903d5cb0",
       "style": "IPY_MODEL_8481447982d94de88852576479b803bf",
       "value": "Select upstream target mass thickness."
      }
     },
     "571570d1fdb24024b81f8c526ee80215": {
      "model_module": "@jupyter-widgets/base",
      "model_module_version": "1.0.0",
      "model_name": "LayoutModel",
      "state": {}
     },
     "579b23b91a274968b23c4c340dc437c9": {
      "model_module": "@jupyter-widgets/controls",
      "model_module_version": "1.1.0",
      "model_name": "LabelModel",
      "state": {
       "layout": "IPY_MODEL_0337ce54a5744c2592c741f8bf0da893",
       "style": "IPY_MODEL_aa55f5a5dd764cc8a6295cbe1e5903bd",
       "value": "Select the detector angles to plot."
      }
     },
     "591983d72d9a4707a025102bf48ee6a2": {
      "model_module": "@jupyter-widgets/base",
      "model_module_version": "1.0.0",
      "model_name": "LayoutModel",
      "state": {}
     },
     "593b60d7d69a4650828cd601b908e6b9": {
      "model_module": "@jupyter-widgets/controls",
      "model_module_version": "1.1.0",
      "model_name": "DescriptionStyleModel",
      "state": {
       "description_width": ""
      }
     },
     "596ea217ac164fedaf51f67142124c58": {
      "model_module": "@jupyter-widgets/base",
      "model_module_version": "1.0.0",
      "model_name": "LayoutModel",
      "state": {}
     },
     "59d88d47bdd14c89a862b29a2a531ba7": {
      "model_module": "@jupyter-widgets/controls",
      "model_module_version": "1.1.0",
      "model_name": "DescriptionStyleModel",
      "state": {
       "description_width": ""
      }
     },
     "5a1015870ae041e78d2db8b9d6e4d69b": {
      "model_module": "@jupyter-widgets/controls",
      "model_module_version": "1.1.0",
      "model_name": "DescriptionStyleModel",
      "state": {
       "description_width": ""
      }
     },
     "5af719f86866423986c2dfaf7aaf50e7": {
      "model_module": "@jupyter-widgets/controls",
      "model_module_version": "1.1.0",
      "model_name": "DescriptionStyleModel",
      "state": {
       "description_width": ""
      }
     },
     "5b62b7eeb86143959158e4085d77bb88": {
      "model_module": "@jupyter-widgets/base",
      "model_module_version": "1.0.0",
      "model_name": "LayoutModel",
      "state": {}
     },
     "5bce7c35e254453d81e41fcc938c00ac": {
      "model_module": "@jupyter-widgets/base",
      "model_module_version": "1.0.0",
      "model_name": "LayoutModel",
      "state": {}
     },
     "5c0314f0e2ae4326abd5d4ac63c8dc35": {
      "model_module": "@jupyter-widgets/base",
      "model_module_version": "1.0.0",
      "model_name": "LayoutModel",
      "state": {}
     },
     "5db4a76a5eaf4c35be662857f3463261": {
      "model_module": "@jupyter-widgets/controls",
      "model_module_version": "1.1.0",
      "model_name": "ToggleButtonsStyleModel",
      "state": {
       "button_width": "",
       "description_width": ""
      }
     },
     "5ddedfa45f4d484bbf9c56c2604ab531": {
      "model_module": "@jupyter-widgets/base",
      "model_module_version": "1.0.0",
      "model_name": "LayoutModel",
      "state": {}
     },
     "5ddfe0cd2fbd43968f57d4aeffbcbffc": {
      "model_module": "@jupyter-widgets/controls",
      "model_module_version": "1.1.0",
      "model_name": "LabelModel",
      "state": {
       "layout": "IPY_MODEL_6fa780b99cce4d4dbb5783b0de1bf822",
       "style": "IPY_MODEL_eefe43499ee44524b93df0bdab9d7141",
       "value": "Select a detector type."
      }
     },
     "5de24e98135c4d4e84d09043ba2038ef": {
      "model_module": "@jupyter-widgets/controls",
      "model_module_version": "1.1.0",
      "model_name": "DescriptionStyleModel",
      "state": {
       "description_width": ""
      }
     },
     "5e26460dacad4849ad851395b6f30865": {
      "model_module": "@jupyter-widgets/base",
      "model_module_version": "1.0.0",
      "model_name": "LayoutModel",
      "state": {}
     },
     "5e4cae0c677c4d1292f81af524b4844e": {
      "model_module": "@jupyter-widgets/controls",
      "model_module_version": "1.1.0",
      "model_name": "ToggleButtonsModel",
      "state": {
       "_options_labels": [
        "Al",
        "HDPE",
        "AlPE"
       ],
       "button_style": "",
       "description": "Material:",
       "icons": [],
       "index": 0,
       "layout": "IPY_MODEL_9087e4c8a51d43b89f7b2d48774e20ca",
       "style": "IPY_MODEL_25054629341f40a6af0ec20bd4256753",
       "tooltips": [
        "Aluminum",
        "Polyethylene",
        "Combination of Al and HDPE"
       ]
      }
     },
     "5e74ab53a2d343b3b07119aa26b13b7a": {
      "model_module": "@jupyter-widgets/controls",
      "model_module_version": "1.1.0",
      "model_name": "ToggleButtonsModel",
      "state": {
       "_options_labels": [
        "20 g/cm²",
        "60 g/cm²"
       ],
       "button_style": "",
       "description": "Thickness:",
       "icons": [],
       "index": 0,
       "layout": "IPY_MODEL_c294a3be598c47f8aa914edf0fe7cf51",
       "style": "IPY_MODEL_909cf672f04645239c0c033e57f32d23",
       "tooltips": [
        "20 g/cm²",
        "60 g/cm²"
       ]
      }
     },
     "5eeab73556e944f6a02fc3c6602ab6db": {
      "model_module": "@jupyter-widgets/controls",
      "model_module_version": "1.1.0",
      "model_name": "CheckboxModel",
      "state": {
       "description": "Experiment",
       "disabled": false,
       "layout": "IPY_MODEL_b696018911824f1c86ca2809ef37ad9b",
       "style": "IPY_MODEL_ad36910402d448bea2dfcd829d332606",
       "value": true
      }
     },
     "5f3a3cd484814c62a6b32cfe26e22d07": {
      "model_module": "@jupyter-widgets/controls",
      "model_module_version": "1.1.0",
      "model_name": "DescriptionStyleModel",
      "state": {
       "description_width": ""
      }
     },
     "5f9da68bc4a6436881daf25b2d7fbca9": {
      "model_module": "@jupyter-widgets/controls",
      "model_module_version": "1.1.0",
      "model_name": "CheckboxModel",
      "state": {
       "description": "12.7°",
       "disabled": false,
       "layout": "IPY_MODEL_5fccd6f8a2e0437eb337d964df7d8bf8",
       "style": "IPY_MODEL_eb3bc749b5bd437384de45b0ff78c72e",
       "value": true
      }
     },
     "5fccd6f8a2e0437eb337d964df7d8bf8": {
      "model_module": "@jupyter-widgets/base",
      "model_module_version": "1.0.0",
      "model_name": "LayoutModel",
      "state": {}
     },
     "5fd143974646441e9efb80cf682ca8a5": {
      "model_module": "@jupyter-widgets/controls",
      "model_module_version": "1.1.0",
      "model_name": "DescriptionStyleModel",
      "state": {
       "description_width": ""
      }
     },
     "5fef06c9b18146629b8db9e6d8647388": {
      "model_module": "@jupyter-widgets/controls",
      "model_module_version": "1.1.0",
      "model_name": "CheckboxModel",
      "state": {
       "description": "MCNP simulated",
       "disabled": false,
       "layout": "IPY_MODEL_ee9508ad87874fd7b8be8d0efe9d98ad",
       "style": "IPY_MODEL_91d7a13d93c940ee9ac51d72694f32fa",
       "value": true
      }
     },
     "603f8ff406b4486193714d0ccbb23ada": {
      "model_module": "@jupyter-widgets/controls",
      "model_module_version": "1.1.0",
      "model_name": "LabelModel",
      "state": {
       "layout": "IPY_MODEL_f4bcbe0acbd54ece9fa7bc6babb7c729",
       "style": "IPY_MODEL_3fa0dbfe0fbf4acf816f9fe48781f1e6",
       "value": "Select how data sets for each detector should be spaced apart (if at all)."
      }
     },
     "60f108fd0bbb440a9b33994693046154": {
      "model_module": "@jupyter-widgets/base",
      "model_module_version": "1.0.0",
      "model_name": "LayoutModel",
      "state": {}
     },
     "6223168c1f55461595981e5ec71396fd": {
      "model_module": "@jupyter-widgets/controls",
      "model_module_version": "1.1.0",
      "model_name": "DescriptionStyleModel",
      "state": {
       "description_width": ""
      }
     },
     "62f47ee6e3cb4a56973a12d78275a05a": {
      "model_module": "@jupyter-widgets/base",
      "model_module_version": "1.0.0",
      "model_name": "LayoutModel",
      "state": {}
     },
     "637ed75ddebd43dbb94e0c153d7585d5": {
      "model_module": "@jupyter-widgets/base",
      "model_module_version": "1.0.0",
      "model_name": "LayoutModel",
      "state": {}
     },
     "63928daf6d25409caff26b7ab36d100a": {
      "model_module": "@jupyter-widgets/controls",
      "model_module_version": "1.1.0",
      "model_name": "DescriptionStyleModel",
      "state": {
       "description_width": ""
      }
     },
     "63fe9245ac9b425e8a327547db9f4687": {
      "model_module": "@jupyter-widgets/controls",
      "model_module_version": "1.1.0",
      "model_name": "DescriptionStyleModel",
      "state": {
       "description_width": ""
      }
     },
     "64153a858c854c5487553455c4b6aa81": {
      "model_module": "@jupyter-widgets/controls",
      "model_module_version": "1.1.0",
      "model_name": "LabelModel",
      "state": {
       "layout": "IPY_MODEL_92067cbd444b473d85b3f7076739fd9c",
       "style": "IPY_MODEL_7e3ae6fd17d4407687fec65ec250680a",
       "value": "Select upstream target mass thickness."
      }
     },
     "650cb3c7e70a4b00a1783df8732a0810": {
      "model_module": "@jupyter-widgets/controls",
      "model_module_version": "1.1.0",
      "model_name": "ToggleButtonsStyleModel",
      "state": {
       "button_width": "",
       "description_width": ""
      }
     },
     "65e71b95a6c041509430f4fb06897811": {
      "model_module": "@jupyter-widgets/controls",
      "model_module_version": "1.1.0",
      "model_name": "ToggleButtonsStyleModel",
      "state": {
       "button_width": "",
       "description_width": ""
      }
     },
     "66d22769793246faba407f3ea4cf3da2": {
      "model_module": "@jupyter-widgets/controls",
      "model_module_version": "1.1.0",
      "model_name": "CheckboxModel",
      "state": {
       "description": "28.2°",
       "disabled": false,
       "layout": "IPY_MODEL_016af3617c1540cb8e02cb71fbe0670e",
       "style": "IPY_MODEL_4e376709764449dcb347924ebfde00e6",
       "value": true
      }
     },
     "6724eacf71144ea5a9f173472ac5361d": {
      "model_module": "@jupyter-widgets/controls",
      "model_module_version": "1.1.0",
      "model_name": "ToggleButtonsModel",
      "state": {
       "_options_labels": [
        "H",
        "He",
        "C",
        "Si",
        "Fe"
       ],
       "button_style": "",
       "description": "Projectile ion:",
       "icons": [],
       "index": 0,
       "layout": "IPY_MODEL_3f593129ac0c4ef0a9f064af47474b22",
       "style": "IPY_MODEL_fa9b0c391269426f8023ac94e5b71181",
       "tooltips": [
        "Hydrogen",
        "Helium",
        "Carbon",
        "Silicon",
        "Iron"
       ]
      }
     },
     "68536405184d4a60ae304a6d135c72e0": {
      "model_module": "@jupyter-widgets/controls",
      "model_module_version": "1.1.0",
      "model_name": "ToggleButtonsModel",
      "state": {
       "_options_labels": [
        "OLS",
        "NaI"
       ],
       "button_style": "",
       "description": "Type:",
       "icons": [],
       "index": 0,
       "layout": "IPY_MODEL_3f3603034f324ad993c0645e021adfa3",
       "style": "IPY_MODEL_a2cdfab85bf5429c9102f70b25547dac",
       "tooltips": [
        "Organic Liquid Scintillator",
        "Sodium Iodide"
       ]
      }
     },
     "6883ad24f900455e8b32a6daa8bef498": {
      "model_module": "@jupyter-widgets/controls",
      "model_module_version": "1.1.0",
      "model_name": "LabelModel",
      "state": {
       "layout": "IPY_MODEL_95f6017c88ec4e5fa9ec9304f81b5c97",
       "style": "IPY_MODEL_e858a2e6bfff44c9a787a49521f4d6a5",
       "value": "Select the detector angles to plot."
      }
     },
     "69cb1aa93beb4082943a60af9ea045db": {
      "model_module": "@jupyter-widgets/controls",
      "model_module_version": "1.1.0",
      "model_name": "DescriptionStyleModel",
      "state": {
       "description_width": ""
      }
     },
     "69d6fc1b35cd4fd4889f882511b76af2": {
      "model_module": "@jupyter-widgets/base",
      "model_module_version": "1.0.0",
      "model_name": "LayoutModel",
      "state": {}
     },
     "6c4eb150c9cf4b37b964232ca3b5107b": {
      "model_module": "@jupyter-widgets/controls",
      "model_module_version": "1.1.0",
      "model_name": "DescriptionStyleModel",
      "state": {
       "description_width": ""
      }
     },
     "6d3d9cc92a434c7a8a960f204f02c617": {
      "model_module": "@jupyter-widgets/controls",
      "model_module_version": "1.1.0",
      "model_name": "CheckboxModel",
      "state": {
       "description": "80°",
       "disabled": false,
       "layout": "IPY_MODEL_340227b1db3b4b7e99a991a1fcad0316",
       "style": "IPY_MODEL_3cb83558997740aeb1dbac5417186059",
       "value": true
      }
     },
     "6d9d797b2c9e4b87a9e458e95b7feada": {
      "model_module": "@jupyter-widgets/controls",
      "model_module_version": "1.1.0",
      "model_name": "CheckboxModel",
      "state": {
       "description": "80°",
       "disabled": false,
       "layout": "IPY_MODEL_d2bfdaf8796e4f56a2b6c2179e47f23d",
       "style": "IPY_MODEL_a63bb1524dbf4b9bbf3bdf8f5fe2f5d3",
       "value": true
      }
     },
     "6ec086756d0f429ba60e593c5186f95a": {
      "model_module": "@jupyter-widgets/controls",
      "model_module_version": "1.1.0",
      "model_name": "CheckboxModel",
      "state": {
       "description": "30°",
       "disabled": false,
       "layout": "IPY_MODEL_8b7e46866cea4c38a77d25c015daca50",
       "style": "IPY_MODEL_3aabbbe295924549ad6199485064a91b",
       "value": true
      }
     },
     "6ed641be538448b99d6974cecabf6f90": {
      "model_module": "@jupyter-widgets/base",
      "model_module_version": "1.0.0",
      "model_name": "LayoutModel",
      "state": {}
     },
     "6efdb2340e02451a9552572577528872": {
      "model_module": "@jupyter-widgets/controls",
      "model_module_version": "1.1.0",
      "model_name": "DescriptionStyleModel",
      "state": {
       "description_width": ""
      }
     },
     "6f1323d47deb4b9686d9df89c7d7ac6f": {
      "model_module": "@jupyter-widgets/controls",
      "model_module_version": "1.1.0",
      "model_name": "LabelModel",
      "state": {
       "layout": "IPY_MODEL_1211d6f9f9e04653a3a58fdd718ac1ef",
       "style": "IPY_MODEL_c1389914301242d88e0eb8c9f2d979db",
       "value": "Select upstream target mass thickness."
      }
     },
     "6f33bde3f7e847a7afdbce2b29b2dce2": {
      "model_module": "@jupyter-widgets/base",
      "model_module_version": "1.0.0",
      "model_name": "LayoutModel",
      "state": {}
     },
     "6fa780b99cce4d4dbb5783b0de1bf822": {
      "model_module": "@jupyter-widgets/base",
      "model_module_version": "1.0.0",
      "model_name": "LayoutModel",
      "state": {}
     },
     "70e3e49badd545ee81554cf95865dfb5": {
      "model_module": "@jupyter-widgets/controls",
      "model_module_version": "1.1.0",
      "model_name": "DescriptionStyleModel",
      "state": {
       "description_width": ""
      }
     },
     "723b720721b24c5a8434a7ef826a2854": {
      "model_module": "@jupyter-widgets/controls",
      "model_module_version": "1.1.0",
      "model_name": "ToggleButtonsModel",
      "state": {
       "_options_labels": [
        "None",
        "Spaced by 10²"
       ],
       "button_style": "",
       "description": "Extra spectra spacing:",
       "icons": [],
       "index": 0,
       "layout": "IPY_MODEL_6ed641be538448b99d6974cecabf6f90",
       "style": "IPY_MODEL_1f772ee58afb4bd29003d5804c7a5fa8",
       "tooltips": [
        "All values are presented as is.",
        "Plots for different detectors are multiplied by powers of 10² for easier viewing."
       ]
      }
     },
     "7286703e5c1347568193beac71fefb31": {
      "model_module": "@jupyter-widgets/controls",
      "model_module_version": "1.1.0",
      "model_name": "DescriptionStyleModel",
      "state": {
       "description_width": ""
      }
     },
     "72b2eebf41ac4c2db75c3a52ac89f3c9": {
      "model_module": "@jupyter-widgets/controls",
      "model_module_version": "1.1.0",
      "model_name": "DescriptionStyleModel",
      "state": {
       "description_width": ""
      }
     },
     "74c570f03064412d9cf963cde7af81de": {
      "model_module": "@jupyter-widgets/base",
      "model_module_version": "1.0.0",
      "model_name": "LayoutModel",
      "state": {}
     },
     "74d5f9b4ab8d4302a37bd20f9f9f0e08": {
      "model_module": "@jupyter-widgets/controls",
      "model_module_version": "1.1.0",
      "model_name": "DescriptionStyleModel",
      "state": {
       "description_width": ""
      }
     },
     "765e107b085741a78596fb1663fbafdb": {
      "model_module": "@jupyter-widgets/controls",
      "model_module_version": "1.1.0",
      "model_name": "DescriptionStyleModel",
      "state": {
       "description_width": ""
      }
     },
     "7751e08282f645879d45fa1ef176160c": {
      "model_module": "@jupyter-widgets/base",
      "model_module_version": "1.0.0",
      "model_name": "LayoutModel",
      "state": {}
     },
     "782db87c193d436fa1ecbad3207aeda2": {
      "model_module": "@jupyter-widgets/controls",
      "model_module_version": "1.1.0",
      "model_name": "DescriptionStyleModel",
      "state": {
       "description_width": ""
      }
     },
     "78b356ec0e924239a93e39437f8718b1": {
      "model_module": "@jupyter-widgets/controls",
      "model_module_version": "1.1.0",
      "model_name": "DescriptionStyleModel",
      "state": {
       "description_width": ""
      }
     },
     "7b1bc3e9163a46f486adaca5822da113": {
      "model_module": "@jupyter-widgets/controls",
      "model_module_version": "1.1.0",
      "model_name": "CheckboxModel",
      "state": {
       "description": "45°",
       "disabled": false,
       "layout": "IPY_MODEL_2c85b3e482da47e086ca2c80ce8a29bb",
       "style": "IPY_MODEL_387c26afccf64375a0a6f06243572aea",
       "value": true
      }
     },
     "7b67634f3b2e4352a0589661be000b81": {
      "model_module": "@jupyter-widgets/base",
      "model_module_version": "1.0.0",
      "model_name": "LayoutModel",
      "state": {}
     },
     "7b9d7b7cf9c04c9a82cd16d7e2bb05b0": {
      "model_module": "@jupyter-widgets/base",
      "model_module_version": "1.0.0",
      "model_name": "LayoutModel",
      "state": {}
     },
     "7c06d94c93634ca3ba27341ff8025071": {
      "model_module": "@jupyter-widgets/controls",
      "model_module_version": "1.1.0",
      "model_name": "DescriptionStyleModel",
      "state": {
       "description_width": ""
      }
     },
     "7c5ed978785a429b9b206f69e356bafc": {
      "model_module": "@jupyter-widgets/controls",
      "model_module_version": "1.1.0",
      "model_name": "ToggleButtonsStyleModel",
      "state": {
       "button_width": "",
       "description_width": ""
      }
     },
     "7c70579abf784376b1a554b329e8f7fa": {
      "model_module": "@jupyter-widgets/controls",
      "model_module_version": "1.1.0",
      "model_name": "ToggleButtonsModel",
      "state": {
       "_options_labels": [
        "N",
        "NDC",
        "P (¹H)",
        "D (²H)",
        "T (³H)",
        "S (³He)",
        "A (⁴He)"
       ],
       "button_style": "",
       "description": "Type:",
       "icons": [],
       "index": 0,
       "layout": "IPY_MODEL_a9dc937c56c4411caf59d9830da98a11",
       "style": "IPY_MODEL_7e0c4c4bc7b84a30acea838ccc642b24",
       "tooltips": [
        "Neutron",
        "Neutron (deconvoluted)",
        "Proton",
        "Deuteron",
        "Triton",
        "Helium-3",
        "Helium-4"
       ]
      }
     },
     "7d2256d3eb4345e9aeaf404c39e8ce44": {
      "model_module": "@jupyter-widgets/base",
      "model_module_version": "1.0.0",
      "model_name": "LayoutModel",
      "state": {}
     },
     "7e0c4c4bc7b84a30acea838ccc642b24": {
      "model_module": "@jupyter-widgets/controls",
      "model_module_version": "1.1.0",
      "model_name": "ToggleButtonsStyleModel",
      "state": {
       "button_width": "",
       "description_width": ""
      }
     },
     "7e3ae6fd17d4407687fec65ec250680a": {
      "model_module": "@jupyter-widgets/controls",
      "model_module_version": "1.1.0",
      "model_name": "DescriptionStyleModel",
      "state": {
       "description_width": ""
      }
     },
     "7f1320fdde3a4eb58bb722ad2e189b3c": {
      "model_module": "@jupyter-widgets/controls",
      "model_module_version": "1.1.0",
      "model_name": "DescriptionStyleModel",
      "state": {
       "description_width": ""
      }
     },
     "8075994223b34609a39d25c6f20d044e": {
      "model_module": "@jupyter-widgets/controls",
      "model_module_version": "1.1.0",
      "model_name": "CheckboxModel",
      "state": {
       "description": "10°",
       "disabled": false,
       "layout": "IPY_MODEL_c4f62b72adc1452e8968212e837e738e",
       "style": "IPY_MODEL_a98d4fcb2b8848f49b8fe75c7e6d9315",
       "value": true
      }
     },
     "80c974a6982d4c27bab83c49568cae82": {
      "model_module": "@jupyter-widgets/base",
      "model_module_version": "1.0.0",
      "model_name": "LayoutModel",
      "state": {}
     },
     "81e2e55fa6dd422b914850ac73a26643": {
      "model_module": "@jupyter-widgets/controls",
      "model_module_version": "1.1.0",
      "model_name": "CheckboxModel",
      "state": {
       "description": "45°",
       "disabled": false,
       "layout": "IPY_MODEL_cfa5fbf828834cb7b861c2382ce6a0a5",
       "style": "IPY_MODEL_782db87c193d436fa1ecbad3207aeda2",
       "value": true
      }
     },
     "829f31e9b0c8410493c37e562657e989": {
      "model_module": "@jupyter-widgets/base",
      "model_module_version": "1.0.0",
      "model_name": "LayoutModel",
      "state": {}
     },
     "831f0e2103974ca39855e891d8bf9214": {
      "model_module": "@jupyter-widgets/controls",
      "model_module_version": "1.1.0",
      "model_name": "DescriptionStyleModel",
      "state": {
       "description_width": ""
      }
     },
     "832f07517fa54c4890183cf7f1373e1c": {
      "model_module": "@jupyter-widgets/base",
      "model_module_version": "1.0.0",
      "model_name": "LayoutModel",
      "state": {}
     },
     "834dbdd244e6451687709413ee684e3d": {
      "model_module": "@jupyter-widgets/base",
      "model_module_version": "1.0.0",
      "model_name": "LayoutModel",
      "state": {}
     },
     "83a3795ebf384c3b924e161522508d10": {
      "model_module": "@jupyter-widgets/base",
      "model_module_version": "1.0.0",
      "model_name": "LayoutModel",
      "state": {}
     },
     "8481447982d94de88852576479b803bf": {
      "model_module": "@jupyter-widgets/controls",
      "model_module_version": "1.1.0",
      "model_name": "DescriptionStyleModel",
      "state": {
       "description_width": ""
      }
     },
     "8619e2f92fc84b56bf2befcf9a623a64": {
      "model_module": "@jupyter-widgets/controls",
      "model_module_version": "1.1.0",
      "model_name": "ToggleButtonsModel",
      "state": {
       "_options_labels": [
        "H",
        "He",
        "C",
        "Si",
        "Fe"
       ],
       "button_style": "",
       "description": "Projectile ion:",
       "icons": [],
       "index": 0,
       "layout": "IPY_MODEL_1d26bbdb345e4228a599082eb1877107",
       "style": "IPY_MODEL_5db4a76a5eaf4c35be662857f3463261",
       "tooltips": [
        "Hydrogen",
        "Helium",
        "Carbon",
        "Silicon",
        "Iron"
       ]
      }
     },
     "8658947a8ee0460091989d36cf0c0b43": {
      "model_module": "@jupyter-widgets/controls",
      "model_module_version": "1.1.0",
      "model_name": "DescriptionStyleModel",
      "state": {
       "description_width": ""
      }
     },
     "87129d9865714036ae427bf5d22d6393": {
      "model_module": "@jupyter-widgets/base",
      "model_module_version": "1.0.0",
      "model_name": "LayoutModel",
      "state": {}
     },
     "889762aa4e644d949a48ea2d57dac50e": {
      "model_module": "@jupyter-widgets/base",
      "model_module_version": "1.0.0",
      "model_name": "LayoutModel",
      "state": {}
     },
     "88e010f0de57407a93a089228c7f5554": {
      "model_module": "@jupyter-widgets/controls",
      "model_module_version": "1.1.0",
      "model_name": "ToggleButtonsModel",
      "state": {
       "_options_labels": [
        "None",
        "Spaced by 10²"
       ],
       "button_style": "",
       "description": "Spacing:",
       "icons": [],
       "index": 0,
       "layout": "IPY_MODEL_e791ef4198404877b20852aa1f1999dd",
       "style": "IPY_MODEL_650cb3c7e70a4b00a1783df8732a0810",
       "tooltips": [
        "All values are presented as is.",
        "Plots for different detectors are multiplied by powers of 10² for easier viewing."
       ]
      }
     },
     "89059b10c6a14f46805eb8fe0deb3ddc": {
      "model_module": "@jupyter-widgets/controls",
      "model_module_version": "1.1.0",
      "model_name": "DescriptionStyleModel",
      "state": {
       "description_width": ""
      }
     },
     "89a398c8217f431ea4a51d7fbe9f240e": {
      "model_module": "@jupyter-widgets/controls",
      "model_module_version": "1.1.0",
      "model_name": "ToggleButtonsStyleModel",
      "state": {
       "button_width": "",
       "description_width": ""
      }
     },
     "89cf2fbe8d64429093636459b336560c": {
      "model_module": "@jupyter-widgets/base",
      "model_module_version": "1.0.0",
      "model_name": "LayoutModel",
      "state": {}
     },
     "8b103e180fa240dcbbf2cf875917e3e5": {
      "model_module": "@jupyter-widgets/controls",
      "model_module_version": "1.1.0",
      "model_name": "DescriptionStyleModel",
      "state": {
       "description_width": ""
      }
     },
     "8b7e46866cea4c38a77d25c015daca50": {
      "model_module": "@jupyter-widgets/base",
      "model_module_version": "1.0.0",
      "model_name": "LayoutModel",
      "state": {}
     },
     "8d13dbb28bb64adbb64c88da5363cfb1": {
      "model_module": "@jupyter-widgets/controls",
      "model_module_version": "1.1.0",
      "model_name": "LabelModel",
      "state": {
       "layout": "IPY_MODEL_ef12815c062c4b8abf7c166758a426b0",
       "style": "IPY_MODEL_9f3e98c443e24294963f92cb15216426",
       "value": "Select a detector type."
      }
     },
     "8edf04c32e7e45bf8d019403cd1fbd3e": {
      "model_module": "@jupyter-widgets/base",
      "model_module_version": "1.0.0",
      "model_name": "LayoutModel",
      "state": {}
     },
     "8ee2d601aedd46efac0ad7e07770d5af": {
      "model_module": "@jupyter-widgets/controls",
      "model_module_version": "1.1.0",
      "model_name": "CheckboxModel",
      "state": {
       "description": "10°",
       "disabled": false,
       "layout": "IPY_MODEL_0758ae860a9c4504adc31a0935c7f733",
       "style": "IPY_MODEL_fe09287dcce44265aedb2fbe5024622d",
       "value": true
      }
     },
     "904b2190653a462db698f9ee5d0e4b14": {
      "model_module": "@jupyter-widgets/controls",
      "model_module_version": "1.1.0",
      "model_name": "LabelModel",
      "state": {
       "layout": "IPY_MODEL_eb182ea4bdca40d1807c6f191db4fefa",
       "style": "IPY_MODEL_4aa68107177a4fe48b628bb095f66180",
       "value": "Select which secondary particle to plot spectra for."
      }
     },
     "904eb487b2aa4e4d9684c47cc7d7daa6": {
      "model_module": "@jupyter-widgets/controls",
      "model_module_version": "1.1.0",
      "model_name": "CheckboxModel",
      "state": {
       "description": "45°",
       "disabled": false,
       "layout": "IPY_MODEL_4b60212ad09e40aa9508e02ca4d54fdc",
       "style": "IPY_MODEL_5f3a3cd484814c62a6b32cfe26e22d07",
       "value": true
      }
     },
     "9078c4bcddb24a0c80ee96dce02c78cc": {
      "model_module": "@jupyter-widgets/base",
      "model_module_version": "1.0.0",
      "model_name": "LayoutModel",
      "state": {}
     },
     "9087e4c8a51d43b89f7b2d48774e20ca": {
      "model_module": "@jupyter-widgets/base",
      "model_module_version": "1.0.0",
      "model_name": "LayoutModel",
      "state": {}
     },
     "909cf672f04645239c0c033e57f32d23": {
      "model_module": "@jupyter-widgets/controls",
      "model_module_version": "1.1.0",
      "model_name": "ToggleButtonsStyleModel",
      "state": {
       "button_width": "",
       "description_width": ""
      }
     },
     "90e4cb21488d410886e5f278df600e84": {
      "model_module": "@jupyter-widgets/controls",
      "model_module_version": "1.1.0",
      "model_name": "ToggleButtonsStyleModel",
      "state": {
       "button_width": "",
       "description_width": ""
      }
     },
     "9179ac75c4824b0881dc3523718301e3": {
      "model_module": "@jupyter-widgets/controls",
      "model_module_version": "1.1.0",
      "model_name": "LabelModel",
      "state": {
       "layout": "IPY_MODEL_3f11f31719bb4615b8e63eafeabda928",
       "style": "IPY_MODEL_e4375cfc8ff54701b364e8158c74eebf",
       "value": "Select which sets of data to display."
      }
     },
     "91a8c6d91411460a994e09b91adedd71": {
      "model_module": "@jupyter-widgets/base",
      "model_module_version": "1.0.0",
      "model_name": "LayoutModel",
      "state": {}
     },
     "91d7a13d93c940ee9ac51d72694f32fa": {
      "model_module": "@jupyter-widgets/controls",
      "model_module_version": "1.1.0",
      "model_name": "DescriptionStyleModel",
      "state": {
       "description_width": ""
      }
     },
     "92067cbd444b473d85b3f7076739fd9c": {
      "model_module": "@jupyter-widgets/base",
      "model_module_version": "1.0.0",
      "model_name": "LayoutModel",
      "state": {}
     },
     "932eaf835f994e5d948a089f2d35674d": {
      "model_module": "@jupyter-widgets/controls",
      "model_module_version": "1.1.0",
      "model_name": "LabelModel",
      "state": {
       "layout": "IPY_MODEL_7d2256d3eb4345e9aeaf404c39e8ce44",
       "style": "IPY_MODEL_e02a6cabb30a4011baa7c08d86cd7266",
       "value": "Select projectile ion species."
      }
     },
     "9393d654bc5842bc8bb61310d8ae3c22": {
      "model_module": "@jupyter-widgets/base",
      "model_module_version": "1.0.0",
      "model_name": "LayoutModel",
      "state": {}
     },
     "93c0c364b777479483d8dde8303cd5c9": {
      "model_module": "@jupyter-widgets/base",
      "model_module_version": "1.0.0",
      "model_name": "LayoutModel",
      "state": {}
     },
     "943d6b62d3784ae79ad92e1c89bec15d": {
      "model_module": "@jupyter-widgets/controls",
      "model_module_version": "1.1.0",
      "model_name": "ToggleButtonsStyleModel",
      "state": {
       "button_width": "",
       "description_width": ""
      }
     },
     "94c73072c0264f19bd9cf1d113837836": {
      "model_module": "@jupyter-widgets/controls",
      "model_module_version": "1.1.0",
      "model_name": "CheckboxModel",
      "state": {
       "description": "80°",
       "disabled": false,
       "layout": "IPY_MODEL_03dcf3cd83ed429284cfc87240c360b6",
       "style": "IPY_MODEL_aef05aca02d349d3812d463aa0f14160",
       "value": true
      }
     },
     "94ec80295ac74b229dd0a7533a8c5bcd": {
      "model_module": "@jupyter-widgets/controls",
      "model_module_version": "1.1.0",
      "model_name": "DescriptionStyleModel",
      "state": {
       "description_width": ""
      }
     },
     "95f6017c88ec4e5fa9ec9304f81b5c97": {
      "model_module": "@jupyter-widgets/base",
      "model_module_version": "1.0.0",
      "model_name": "LayoutModel",
      "state": {}
     },
     "962bbe88146244f392152c1670e57a12": {
      "model_module": "@jupyter-widgets/controls",
      "model_module_version": "1.1.0",
      "model_name": "LabelModel",
      "state": {
       "layout": "IPY_MODEL_50bf5b82fdcf40549f30bc8f10000f32",
       "style": "IPY_MODEL_239861f2318746d8bd9cb83702437d0e",
       "value": "Select projectile ion species."
      }
     },
     "988a393cd5994582bb58756c59a2cec4": {
      "model_module": "@jupyter-widgets/base",
      "model_module_version": "1.0.0",
      "model_name": "LayoutModel",
      "state": {}
     },
     "995e5fbf85fb4011ade0b12ae8d72130": {
      "model_module": "@jupyter-widgets/controls",
      "model_module_version": "1.1.0",
      "model_name": "DescriptionStyleModel",
      "state": {
       "description_width": ""
      }
     },
     "99bd68cb67c647a19d309a72f54f1d43": {
      "model_module": "@jupyter-widgets/base",
      "model_module_version": "1.0.0",
      "model_name": "LayoutModel",
      "state": {}
     },
     "99c2da3db1304b69bdb9ff3d14c51e3e": {
      "model_module": "@jupyter-widgets/base",
      "model_module_version": "1.0.0",
      "model_name": "LayoutModel",
      "state": {}
     },
     "9a89e80c78b2450b85b47d51a615f9af": {
      "model_module": "@jupyter-widgets/controls",
      "model_module_version": "1.1.0",
      "model_name": "LabelModel",
      "state": {
       "layout": "IPY_MODEL_351ce5e01dad43c699861b74f5ad7e01",
       "style": "IPY_MODEL_befdd3e1c2ea49caa630c9a4812ac374",
       "value": "Select how data sets for each detector should be spaced apart (if at all)."
      }
     },
     "9b7f563911a44030b0c98b1e2b72fb10": {
      "model_module": "@jupyter-widgets/controls",
      "model_module_version": "1.1.0",
      "model_name": "LabelModel",
      "state": {
       "layout": "IPY_MODEL_e38bb0cddc9d419990656dfcee6803a8",
       "style": "IPY_MODEL_f13b3349550249a7a8a8925ed41d5a03",
       "value": "Select a detector type."
      }
     },
     "9bbc77fdd4154a78b93848e63b9411c7": {
      "model_module": "@jupyter-widgets/controls",
      "model_module_version": "1.1.0",
      "model_name": "DescriptionStyleModel",
      "state": {
       "description_width": ""
      }
     },
     "9c713958352b42d49e7d241ff01017a5": {
      "model_module": "@jupyter-widgets/base",
      "model_module_version": "1.0.0",
      "model_name": "LayoutModel",
      "state": {}
     },
     "9ca2baab08d14cfbbc0b308d87b7cf99": {
      "model_module": "@jupyter-widgets/controls",
      "model_module_version": "1.1.0",
      "model_name": "ToggleButtonsStyleModel",
      "state": {
       "button_width": "",
       "description_width": ""
      }
     },
     "9cb56a4403474b9f9d4b8590a8b207c0": {
      "model_module": "@jupyter-widgets/controls",
      "model_module_version": "1.1.0",
      "model_name": "DescriptionStyleModel",
      "state": {
       "description_width": ""
      }
     },
     "9cd3e6c6e5e242f89758ccc80cb5a2e7": {
      "model_module": "@jupyter-widgets/base",
      "model_module_version": "1.0.0",
      "model_name": "LayoutModel",
      "state": {}
     },
     "9d4f6d8efe3e403b85e88c1a136d41e8": {
      "model_module": "@jupyter-widgets/base",
      "model_module_version": "1.0.0",
      "model_name": "LayoutModel",
      "state": {}
     },
     "9de1a2aa769f47d29e37631d7962d1c9": {
      "model_module": "@jupyter-widgets/base",
      "model_module_version": "1.0.0",
      "model_name": "LayoutModel",
      "state": {}
     },
     "9e124599713245f492fe46f1ea8d03f2": {
      "model_module": "@jupyter-widgets/controls",
      "model_module_version": "1.1.0",
      "model_name": "DescriptionStyleModel",
      "state": {
       "description_width": ""
      }
     },
     "9e46b393d2354c6ab0055faf999d3900": {
      "model_module": "@jupyter-widgets/controls",
      "model_module_version": "1.1.0",
      "model_name": "LabelModel",
      "state": {
       "layout": "IPY_MODEL_2bd1282aaefa4b4a9f8b526e7564db41",
       "style": "IPY_MODEL_49d97c629783467eaf05427d54689f46",
       "value": "Select a detector type."
      }
     },
     "9e59dc885fa6447cbd7dd77fe6517959": {
      "model_module": "@jupyter-widgets/controls",
      "model_module_version": "1.1.0",
      "model_name": "CheckboxModel",
      "state": {
       "description": "12.7°",
       "disabled": false,
       "layout": "IPY_MODEL_c703ec114cbc40e39240096c9f44dd1e",
       "style": "IPY_MODEL_ab8cb460c1fc404e9ff28cce88456bd2",
       "value": true
      }
     },
     "9f3e98c443e24294963f92cb15216426": {
      "model_module": "@jupyter-widgets/controls",
      "model_module_version": "1.1.0",
      "model_name": "DescriptionStyleModel",
      "state": {
       "description_width": ""
      }
     },
     "9f6c28c005314a9b83e039513ce02007": {
      "model_module": "@jupyter-widgets/controls",
      "model_module_version": "1.1.0",
      "model_name": "DescriptionStyleModel",
      "state": {
       "description_width": ""
      }
     },
     "9f763b7c89ca49f8aea9558c5b5601d5": {
      "model_module": "@jupyter-widgets/controls",
      "model_module_version": "1.1.0",
      "model_name": "CheckboxModel",
      "state": {
       "description": "10°",
       "disabled": false,
       "layout": "IPY_MODEL_8edf04c32e7e45bf8d019403cd1fbd3e",
       "style": "IPY_MODEL_2696caeb870d4dfaaa013481d2df2f9b",
       "value": true
      }
     },
     "9f7e1d47276241ba979dbbfe1b08cad0": {
      "model_module": "@jupyter-widgets/controls",
      "model_module_version": "1.1.0",
      "model_name": "CheckboxModel",
      "state": {
       "description": "135°",
       "disabled": false,
       "layout": "IPY_MODEL_ac503fd9ea97473ea3b44c542ac48fab",
       "style": "IPY_MODEL_f7cd482253f94585a80d6bb115ec989f",
       "value": true
      }
     },
     "9f963bc2800f44bbbdd7bfbc77349a64": {
      "model_module": "@jupyter-widgets/base",
      "model_module_version": "1.0.0",
      "model_name": "LayoutModel",
      "state": {}
     },
     "9fa76948a41e42ddba6a054a4b238c5d": {
      "model_module": "@jupyter-widgets/controls",
      "model_module_version": "1.1.0",
      "model_name": "ToggleButtonsModel",
      "state": {
       "_options_labels": [
        "H",
        "He",
        "C",
        "Si",
        "Fe"
       ],
       "button_style": "",
       "description": "Ion:",
       "icons": [],
       "index": 3,
       "layout": "IPY_MODEL_1c30df6baca14be9b804620d10110d72",
       "style": "IPY_MODEL_e504e3870f2d434b9b3ce8047fb6ce6a",
       "tooltips": [
        "Hydrogen",
        "Helium",
        "Carbon",
        "Silicon",
        "Iron"
       ]
      }
     },
     "9fc2d2b3192b45b1aec9b17232629d68": {
      "model_module": "@jupyter-widgets/controls",
      "model_module_version": "1.1.0",
      "model_name": "ToggleButtonsModel",
      "state": {
       "_options_labels": [
        "OLS",
        "NaI"
       ],
       "button_style": "",
       "description": "Type:",
       "icons": [],
       "index": 0,
       "layout": "IPY_MODEL_2a0913dcf72e411ca80f20d125322405",
       "style": "IPY_MODEL_077e109affea4d699a6c5e1910bcab11",
       "tooltips": [
        "Organic Liquid Scintillator",
        "Sodium Iodide"
       ]
      }
     },
     "a0a70b01bf0f4416b4512dfbe503b768": {
      "model_module": "@jupyter-widgets/controls",
      "model_module_version": "1.1.0",
      "model_name": "LabelModel",
      "state": {
       "layout": "IPY_MODEL_15e42c4133524de2b2ea86582941de1f",
       "style": "IPY_MODEL_517769533b984abe859dc81af6864c67",
       "value": "Select the detector angles to plot."
      }
     },
     "a141122ae577468f8b3f1c79b03dc382": {
      "model_module": "@jupyter-widgets/controls",
      "model_module_version": "1.1.0",
      "model_name": "DescriptionStyleModel",
      "state": {
       "description_width": ""
      }
     },
     "a1568ebb0c4740f5bfb67411bb4921e5": {
      "model_module": "@jupyter-widgets/controls",
      "model_module_version": "1.1.0",
      "model_name": "ToggleButtonsModel",
      "state": {
       "_options_labels": [
        "400 MeV",
        "800 MeV",
        "2500 MeV"
       ],
       "button_style": "",
       "description": "Projectile energy:",
       "icons": [],
       "index": 0,
       "layout": "IPY_MODEL_d59349eafc6d4521ae99554754cf77ee",
       "style": "IPY_MODEL_23fb7853f7e54cb294e395420afca9f4",
       "tooltips": [
        "lowest energy",
        "middle energy",
        "highest energy"
       ]
      }
     },
     "a17c6908c7eb480ea1cd7598a0c8cf81": {
      "model_module": "@jupyter-widgets/base",
      "model_module_version": "1.0.0",
      "model_name": "LayoutModel",
      "state": {}
     },
     "a20b631d661f4e6a9754ccdd1b8279ae": {
      "model_module": "@jupyter-widgets/base",
      "model_module_version": "1.0.0",
      "model_name": "LayoutModel",
      "state": {}
     },
     "a2c7c3cfda034156a7273cf99e275eaa": {
      "model_module": "@jupyter-widgets/base",
      "model_module_version": "1.0.0",
      "model_name": "LayoutModel",
      "state": {}
     },
     "a2cdfab85bf5429c9102f70b25547dac": {
      "model_module": "@jupyter-widgets/controls",
      "model_module_version": "1.1.0",
      "model_name": "ToggleButtonsStyleModel",
      "state": {
       "button_width": "",
       "description_width": ""
      }
     },
     "a311037077c543ca9c84276971387c3d": {
      "model_module": "@jupyter-widgets/controls",
      "model_module_version": "1.1.0",
      "model_name": "DescriptionStyleModel",
      "state": {
       "description_width": ""
      }
     },
     "a3110c2fdc194605b45afce71bc335ff": {
      "model_module": "@jupyter-widgets/controls",
      "model_module_version": "1.1.0",
      "model_name": "ToggleButtonsStyleModel",
      "state": {
       "button_width": "",
       "description_width": ""
      }
     },
     "a39a0b6219a04e33ac8128e88b31eec9": {
      "model_module": "@jupyter-widgets/base",
      "model_module_version": "1.0.0",
      "model_name": "LayoutModel",
      "state": {}
     },
     "a3d9fd0254bb40da9e7e0e1e29c3dc3c": {
      "model_module": "@jupyter-widgets/base",
      "model_module_version": "1.0.0",
      "model_name": "LayoutModel",
      "state": {}
     },
     "a3f67666026247e1a13bf7408630e849": {
      "model_module": "@jupyter-widgets/controls",
      "model_module_version": "1.1.0",
      "model_name": "CheckboxModel",
      "state": {
       "description": "PHITS simulated",
       "disabled": false,
       "layout": "IPY_MODEL_4613f06e102346389509918e945271e4",
       "style": "IPY_MODEL_9cb56a4403474b9f9d4b8590a8b207c0",
       "value": true
      }
     },
     "a41aefaded0c42d8b1f36b278b07e298": {
      "model_module": "@jupyter-widgets/controls",
      "model_module_version": "1.1.0",
      "model_name": "DescriptionStyleModel",
      "state": {
       "description_width": ""
      }
     },
     "a43aaf853fea4dc18647a4ff3ec3114d": {
      "model_module": "@jupyter-widgets/base",
      "model_module_version": "1.0.0",
      "model_name": "LayoutModel",
      "state": {}
     },
     "a5371a7f7e1c47cfb165de66a8ce1d9c": {
      "model_module": "@jupyter-widgets/controls",
      "model_module_version": "1.1.0",
      "model_name": "DescriptionStyleModel",
      "state": {
       "description_width": ""
      }
     },
     "a5d0018f08da4128b67b1780ae21704a": {
      "model_module": "@jupyter-widgets/controls",
      "model_module_version": "1.1.0",
      "model_name": "DescriptionStyleModel",
      "state": {
       "description_width": ""
      }
     },
     "a63bb1524dbf4b9bbf3bdf8f5fe2f5d3": {
      "model_module": "@jupyter-widgets/controls",
      "model_module_version": "1.1.0",
      "model_name": "DescriptionStyleModel",
      "state": {
       "description_width": ""
      }
     },
     "a6511527a3ec4002aa89520eafdabe73": {
      "model_module": "@jupyter-widgets/base",
      "model_module_version": "1.0.0",
      "model_name": "LayoutModel",
      "state": {}
     },
     "a692bd63ab7c48f295ccea4406aef904": {
      "model_module": "@jupyter-widgets/base",
      "model_module_version": "1.0.0",
      "model_name": "LayoutModel",
      "state": {}
     },
     "a6d31dec6d624b0f98c06300248662ea": {
      "model_module": "@jupyter-widgets/base",
      "model_module_version": "1.0.0",
      "model_name": "LayoutModel",
      "state": {}
     },
     "a7271008a8924a56badb7451ba5fb3db": {
      "model_module": "@jupyter-widgets/base",
      "model_module_version": "1.0.0",
      "model_name": "LayoutModel",
      "state": {}
     },
     "a76fc7e48def40c6a67df56445524233": {
      "model_module": "@jupyter-widgets/controls",
      "model_module_version": "1.1.0",
      "model_name": "LabelModel",
      "state": {
       "layout": "IPY_MODEL_5ddedfa45f4d484bbf9c56c2604ab531",
       "style": "IPY_MODEL_8b103e180fa240dcbbf2cf875917e3e5",
       "value": "Select projectile ion species."
      }
     },
     "a7996541a0784400a55ad34301b75938": {
      "model_module": "@jupyter-widgets/controls",
      "model_module_version": "1.1.0",
      "model_name": "CheckboxModel",
      "state": {
       "description": "MCNP sim.",
       "disabled": false,
       "layout": "IPY_MODEL_3804a43a83904c60a62391076b5dbb2c",
       "style": "IPY_MODEL_89059b10c6a14f46805eb8fe0deb3ddc",
       "value": true
      }
     },
     "a809e08561f34af1bf29fb92f9f1b6c2": {
      "model_module": "@jupyter-widgets/base",
      "model_module_version": "1.0.0",
      "model_name": "LayoutModel",
      "state": {}
     },
     "a8e1f7f6b2d14d089727dea96ddd4fca": {
      "model_module": "@jupyter-widgets/controls",
      "model_module_version": "1.1.0",
      "model_name": "CheckboxModel",
      "state": {
       "description": "28.2°",
       "disabled": false,
       "layout": "IPY_MODEL_cc70111a19d94fc791c02b7ec4bbe159",
       "style": "IPY_MODEL_dc0ae02645da44c493796fb07d1b0888",
       "value": true
      }
     },
     "a98d4fcb2b8848f49b8fe75c7e6d9315": {
      "model_module": "@jupyter-widgets/controls",
      "model_module_version": "1.1.0",
      "model_name": "DescriptionStyleModel",
      "state": {
       "description_width": ""
      }
     },
     "a9dc937c56c4411caf59d9830da98a11": {
      "model_module": "@jupyter-widgets/base",
      "model_module_version": "1.0.0",
      "model_name": "LayoutModel",
      "state": {}
     },
     "aa2c1f5ef7a94d079d5ed5026d0aaa7c": {
      "model_module": "@jupyter-widgets/controls",
      "model_module_version": "1.1.0",
      "model_name": "DescriptionStyleModel",
      "state": {
       "description_width": ""
      }
     },
     "aa55f5a5dd764cc8a6295cbe1e5903bd": {
      "model_module": "@jupyter-widgets/controls",
      "model_module_version": "1.1.0",
      "model_name": "DescriptionStyleModel",
      "state": {
       "description_width": ""
      }
     },
     "aae4adf9553e4a9096373ce3db4ba1e4": {
      "model_module": "@jupyter-widgets/base",
      "model_module_version": "1.0.0",
      "model_name": "LayoutModel",
      "state": {}
     },
     "ab8cb460c1fc404e9ff28cce88456bd2": {
      "model_module": "@jupyter-widgets/controls",
      "model_module_version": "1.1.0",
      "model_name": "DescriptionStyleModel",
      "state": {
       "description_width": ""
      }
     },
     "ac503fd9ea97473ea3b44c542ac48fab": {
      "model_module": "@jupyter-widgets/base",
      "model_module_version": "1.0.0",
      "model_name": "LayoutModel",
      "state": {}
     },
     "acbc4eec12c84b1a95db9c9ea2c9b226": {
      "model_module": "@jupyter-widgets/base",
      "model_module_version": "1.0.0",
      "model_name": "LayoutModel",
      "state": {}
     },
     "ad0b604d2d204b1d89b67b5906a1102a": {
      "model_module": "@jupyter-widgets/controls",
      "model_module_version": "1.1.0",
      "model_name": "CheckboxModel",
      "state": {
       "description": "30°",
       "disabled": false,
       "layout": "IPY_MODEL_89cf2fbe8d64429093636459b336560c",
       "style": "IPY_MODEL_a5d0018f08da4128b67b1780ae21704a",
       "value": true
      }
     },
     "ad36910402d448bea2dfcd829d332606": {
      "model_module": "@jupyter-widgets/controls",
      "model_module_version": "1.1.0",
      "model_name": "DescriptionStyleModel",
      "state": {
       "description_width": ""
      }
     },
     "adef8af3dbef49b5bf0fe6ddeef89d06": {
      "model_module": "@jupyter-widgets/controls",
      "model_module_version": "1.1.0",
      "model_name": "DescriptionStyleModel",
      "state": {
       "description_width": ""
      }
     },
     "ae22be5c28e94de696808e167388ef1f": {
      "model_module": "@jupyter-widgets/base",
      "model_module_version": "1.0.0",
      "model_name": "LayoutModel",
      "state": {}
     },
     "ae58877b32bd4dd5ba8bfdb979bee38a": {
      "model_module": "@jupyter-widgets/base",
      "model_module_version": "1.0.0",
      "model_name": "LayoutModel",
      "state": {}
     },
     "ae5e40e17b574b05bbb72848898cb6a1": {
      "model_module": "@jupyter-widgets/controls",
      "model_module_version": "1.1.0",
      "model_name": "CheckboxModel",
      "state": {
       "description": "10°",
       "disabled": false,
       "layout": "IPY_MODEL_3a28181ffb7c48c8a0db5f7b94a0b7b9",
       "style": "IPY_MODEL_ecb67a303385458cb0a68adc15ac1fc7",
       "value": true
      }
     },
     "ae7c46f2f69f4776accd5fb7c29f2382": {
      "model_module": "@jupyter-widgets/controls",
      "model_module_version": "1.1.0",
      "model_name": "DescriptionStyleModel",
      "state": {
       "description_width": ""
      }
     },
     "aef05aca02d349d3812d463aa0f14160": {
      "model_module": "@jupyter-widgets/controls",
      "model_module_version": "1.1.0",
      "model_name": "DescriptionStyleModel",
      "state": {
       "description_width": ""
      }
     },
     "af5c2f359c3243a8ae68a070a614e44e": {
      "model_module": "@jupyter-widgets/controls",
      "model_module_version": "1.1.0",
      "model_name": "CheckboxModel",
      "state": {
       "description": "135°",
       "disabled": false,
       "layout": "IPY_MODEL_d5e2e35deb844291b27a458a0dc4ce24",
       "style": "IPY_MODEL_f233b0f7df684cf19f9a4b1a0e80fc0f",
       "value": true
      }
     },
     "af90e3c5f03a4a37aec96c93311885e7": {
      "model_module": "@jupyter-widgets/controls",
      "model_module_version": "1.1.0",
      "model_name": "DescriptionStyleModel",
      "state": {
       "description_width": ""
      }
     },
     "b1062ded5fbc4a64bd7545d7c37d46b0": {
      "model_module": "@jupyter-widgets/controls",
      "model_module_version": "1.1.0",
      "model_name": "CheckboxModel",
      "state": {
       "description": "60°",
       "disabled": false,
       "layout": "IPY_MODEL_1ccf22597e434af5bab9dad773320ed1",
       "style": "IPY_MODEL_63fe9245ac9b425e8a327547db9f4687",
       "value": true
      }
     },
     "b4224b2fafed4dcfadcf9665d1ea7e3d": {
      "model_module": "@jupyter-widgets/controls",
      "model_module_version": "1.1.0",
      "model_name": "LabelModel",
      "state": {
       "layout": "IPY_MODEL_0f76e3888d8341d28dd5fed39c244e0e",
       "style": "IPY_MODEL_35931f67715d4c6a9251af2ea03c446a",
       "value": "Select a detector type."
      }
     },
     "b5a3eda61acd460b9dd2c0c55b28a91f": {
      "model_module": "@jupyter-widgets/controls",
      "model_module_version": "1.1.0",
      "model_name": "CheckboxModel",
      "state": {
       "description": "10°",
       "disabled": false,
       "layout": "IPY_MODEL_15689425cbfc4a4c971397446beb65e8",
       "style": "IPY_MODEL_5de24e98135c4d4e84d09043ba2038ef",
       "value": true
      }
     },
     "b67d9bc72cb3401ea3dfc1053440b044": {
      "model_module": "@jupyter-widgets/controls",
      "model_module_version": "1.1.0",
      "model_name": "CheckboxModel",
      "state": {
       "description": "80°",
       "disabled": false,
       "layout": "IPY_MODEL_5245f077e25a410482d2210652e901bf",
       "style": "IPY_MODEL_ece4d2aad3f0431485bdbeb4ca86c6d4",
       "value": true
      }
     },
     "b696018911824f1c86ca2809ef37ad9b": {
      "model_module": "@jupyter-widgets/base",
      "model_module_version": "1.0.0",
      "model_name": "LayoutModel",
      "state": {}
     },
     "b6a2edf235af46d7b7886ef150bcd0a3": {
      "model_module": "@jupyter-widgets/controls",
      "model_module_version": "1.1.0",
      "model_name": "LabelModel",
      "state": {
       "layout": "IPY_MODEL_60f108fd0bbb440a9b33994693046154",
       "style": "IPY_MODEL_9e124599713245f492fe46f1ea8d03f2",
       "value": "Select the detector angles to plot."
      }
     },
     "b71c3a8d9a2f48ea8113db14d33ee897": {
      "model_module": "@jupyter-widgets/controls",
      "model_module_version": "1.1.0",
      "model_name": "DescriptionStyleModel",
      "state": {
       "description_width": ""
      }
     },
     "b71cf0c8c619417dbee68c5f6ac1d3c4": {
      "model_module": "@jupyter-widgets/controls",
      "model_module_version": "1.1.0",
      "model_name": "DescriptionStyleModel",
      "state": {
       "description_width": ""
      }
     },
     "b80eff2ecb82408c8635136c0345cbc7": {
      "model_module": "@jupyter-widgets/controls",
      "model_module_version": "1.1.0",
      "model_name": "CheckboxModel",
      "state": {
       "description": "60°",
       "disabled": false,
       "layout": "IPY_MODEL_74c570f03064412d9cf963cde7af81de",
       "style": "IPY_MODEL_63928daf6d25409caff26b7ab36d100a",
       "value": true
      }
     },
     "bb37a85d2fc24a6ab83c4651f26ddbbd": {
      "model_module": "@jupyter-widgets/controls",
      "model_module_version": "1.1.0",
      "model_name": "CheckboxModel",
      "state": {
       "description": "10°",
       "disabled": false,
       "layout": "IPY_MODEL_832f07517fa54c4890183cf7f1373e1c",
       "style": "IPY_MODEL_1ebf963a3f6c45cf90efcce937720a07",
       "value": true
      }
     },
     "bba782140ef64349a4ec8fbbe71012ab": {
      "model_module": "@jupyter-widgets/controls",
      "model_module_version": "1.1.0",
      "model_name": "LabelModel",
      "state": {
       "layout": "IPY_MODEL_4ffd4cfb70074db8ac07d1d8cf7325d6",
       "style": "IPY_MODEL_831f0e2103974ca39855e891d8bf9214",
       "value": "Select the detector angles to plot."
      }
     },
     "bba8bdcec8ad4732b08dec40c092396f": {
      "model_module": "@jupyter-widgets/controls",
      "model_module_version": "1.1.0",
      "model_name": "ToggleButtonsModel",
      "state": {
       "_options_labels": [
        "H",
        "He",
        "C",
        "Si",
        "Fe"
       ],
       "button_style": "",
       "description": "Ion:",
       "icons": [],
       "index": 1,
       "layout": "IPY_MODEL_a43aaf853fea4dc18647a4ff3ec3114d",
       "style": "IPY_MODEL_a3110c2fdc194605b45afce71bc335ff",
       "tooltips": [
        "Hydrogen",
        "Helium",
        "Carbon",
        "Silicon",
        "Iron"
       ]
      }
     },
     "bccc581e49014ff18c58effdb72679b3": {
      "model_module": "@jupyter-widgets/base",
      "model_module_version": "1.0.0",
      "model_name": "LayoutModel",
      "state": {}
     },
     "bd7e163492cd48788cd5ed22903d5cb0": {
      "model_module": "@jupyter-widgets/base",
      "model_module_version": "1.0.0",
      "model_name": "LayoutModel",
      "state": {}
     },
     "bdc22a99975b43b482241a7f79ff85ce": {
      "model_module": "@jupyter-widgets/controls",
      "model_module_version": "1.1.0",
      "model_name": "LabelModel",
      "state": {
       "layout": "IPY_MODEL_f3ad70d074f14fb29d3e3e092c92e272",
       "style": "IPY_MODEL_2f5368399fa8407bae759281254513f9",
       "value": "Select the detector angles to plot."
      }
     },
     "befdd3e1c2ea49caa630c9a4812ac374": {
      "model_module": "@jupyter-widgets/controls",
      "model_module_version": "1.1.0",
      "model_name": "DescriptionStyleModel",
      "state": {
       "description_width": ""
      }
     },
     "bfd76b866fce44aa921ab72cc6d1c12f": {
      "model_module": "@jupyter-widgets/controls",
      "model_module_version": "1.1.0",
      "model_name": "ToggleButtonsStyleModel",
      "state": {
       "button_width": "",
       "description_width": ""
      }
     },
     "c011c67b02e846f88f4fa9afc9ba4323": {
      "model_module": "@jupyter-widgets/controls",
      "model_module_version": "1.1.0",
      "model_name": "DescriptionStyleModel",
      "state": {
       "description_width": ""
      }
     },
     "c1389914301242d88e0eb8c9f2d979db": {
      "model_module": "@jupyter-widgets/controls",
      "model_module_version": "1.1.0",
      "model_name": "DescriptionStyleModel",
      "state": {
       "description_width": ""
      }
     },
     "c13fad6c897e49fc95a5190bb1a14f16": {
      "model_module": "@jupyter-widgets/controls",
      "model_module_version": "1.1.0",
      "model_name": "DescriptionStyleModel",
      "state": {
       "description_width": ""
      }
     },
     "c1b5218451a5463aaba4be6b444620f8": {
      "model_module": "@jupyter-widgets/controls",
      "model_module_version": "1.1.0",
      "model_name": "DescriptionStyleModel",
      "state": {
       "description_width": ""
      }
     },
     "c294a3be598c47f8aa914edf0fe7cf51": {
      "model_module": "@jupyter-widgets/base",
      "model_module_version": "1.0.0",
      "model_name": "LayoutModel",
      "state": {}
     },
     "c29cc05323c04386b96f17e5e883f3bb": {
      "model_module": "@jupyter-widgets/controls",
      "model_module_version": "1.1.0",
      "model_name": "CheckboxModel",
      "state": {
       "description": "45°",
       "disabled": false,
       "layout": "IPY_MODEL_23c05b24f4314aa78519265ec6bd84df",
       "style": "IPY_MODEL_94ec80295ac74b229dd0a7533a8c5bcd",
       "value": true
      }
     },
     "c4f62b72adc1452e8968212e837e738e": {
      "model_module": "@jupyter-widgets/base",
      "model_module_version": "1.0.0",
      "model_name": "LayoutModel",
      "state": {}
     },
     "c5651626f653475389ff56bd6d859053": {
      "model_module": "@jupyter-widgets/controls",
      "model_module_version": "1.1.0",
      "model_name": "LabelModel",
      "state": {
       "layout": "IPY_MODEL_834dbdd244e6451687709413ee684e3d",
       "style": "IPY_MODEL_47b451d0705f4e5a99278ecb7a32fa14",
       "value": "Select projectile ion energy."
      }
     },
     "c572f07533824369b06f5405baa71387": {
      "model_module": "@jupyter-widgets/controls",
      "model_module_version": "1.1.0",
      "model_name": "ToggleButtonsModel",
      "state": {
       "_options_labels": [
        "None",
        "Spaced by powers of 10²"
       ],
       "button_style": "",
       "description": "Extra spectra spacing:",
       "icons": [],
       "index": 0,
       "layout": "IPY_MODEL_9f963bc2800f44bbbdd7bfbc77349a64",
       "style": "IPY_MODEL_01f72b147b784cc9ba5906f2ca107057",
       "tooltips": [
        "All values are presented as is.",
        "Plots for different detectors are multiplied by powers of 10² for easier viewing."
       ]
      }
     },
     "c61e1f7869294918b86cef1ee53ffcf6": {
      "model_module": "@jupyter-widgets/controls",
      "model_module_version": "1.1.0",
      "model_name": "CheckboxModel",
      "state": {
       "description": "45°",
       "disabled": false,
       "layout": "IPY_MODEL_cea380802af2442091b4df88b4870f06",
       "style": "IPY_MODEL_a141122ae577468f8b3f1c79b03dc382",
       "value": true
      }
     },
     "c664c34b4b654a61976bd21113e6d4e2": {
      "model_module": "@jupyter-widgets/controls",
      "model_module_version": "1.1.0",
      "model_name": "DescriptionStyleModel",
      "state": {
       "description_width": ""
      }
     },
     "c669a7878a2f4b5998664f3d1a967d02": {
      "model_module": "@jupyter-widgets/base",
      "model_module_version": "1.0.0",
      "model_name": "LayoutModel",
      "state": {}
     },
     "c6a1b9433eb64e99a0423142484aa85c": {
      "model_module": "@jupyter-widgets/controls",
      "model_module_version": "1.1.0",
      "model_name": "ToggleButtonsStyleModel",
      "state": {
       "button_width": "",
       "description_width": ""
      }
     },
     "c703ec114cbc40e39240096c9f44dd1e": {
      "model_module": "@jupyter-widgets/base",
      "model_module_version": "1.0.0",
      "model_name": "LayoutModel",
      "state": {}
     },
     "c7742e8a78a045c891f17eec533ac65f": {
      "model_module": "@jupyter-widgets/controls",
      "model_module_version": "1.1.0",
      "model_name": "DescriptionStyleModel",
      "state": {
       "description_width": ""
      }
     },
     "c7f45aab52e94b24a10bf88e9e868291": {
      "model_module": "@jupyter-widgets/controls",
      "model_module_version": "1.1.0",
      "model_name": "CheckboxModel",
      "state": {
       "description": "80°",
       "disabled": false,
       "layout": "IPY_MODEL_1343ff4e746c4800991407de65ac09e2",
       "style": "IPY_MODEL_78b356ec0e924239a93e39437f8718b1",
       "value": true
      }
     },
     "ca0976282fdc4ea9a9e31a9f92113509": {
      "model_module": "@jupyter-widgets/controls",
      "model_module_version": "1.1.0",
      "model_name": "ToggleButtonsModel",
      "state": {
       "_options_labels": [
        "400 MeV",
        "800 MeV",
        "2500 MeV"
       ],
       "button_style": "",
       "description": "Energy:",
       "icons": [],
       "index": 0,
       "layout": "IPY_MODEL_d104df1b93dc4adead945d61dd03d6fe",
       "style": "IPY_MODEL_06b2f62874494d339bb90eea19176892",
       "tooltips": [
        "lowest energy",
        "middle energy",
        "highest energy"
       ]
      }
     },
     "caccc658e39e4d8eab1327632eccbe34": {
      "model_module": "@jupyter-widgets/controls",
      "model_module_version": "1.1.0",
      "model_name": "ToggleButtonsStyleModel",
      "state": {
       "button_width": "",
       "description_width": ""
      }
     },
     "cadd83c3db964467ad0683e6c33d3471": {
      "model_module": "@jupyter-widgets/controls",
      "model_module_version": "1.1.0",
      "model_name": "CheckboxModel",
      "state": {
       "description": "PHITS sim.",
       "disabled": false,
       "layout": "IPY_MODEL_06c0c365322742f782334733d0d37345",
       "style": "IPY_MODEL_54a6008ce254488abca9239c5aee6363",
       "value": true
      }
     },
     "cb43928a574448eca437bc4c9aa2a8d2": {
      "model_module": "@jupyter-widgets/controls",
      "model_module_version": "1.1.0",
      "model_name": "ToggleButtonsStyleModel",
      "state": {
       "button_width": "",
       "description_width": ""
      }
     },
     "cc70111a19d94fc791c02b7ec4bbe159": {
      "model_module": "@jupyter-widgets/base",
      "model_module_version": "1.0.0",
      "model_name": "LayoutModel",
      "state": {}
     },
     "cda96481692a4dd9a76548e1689bc85b": {
      "model_module": "@jupyter-widgets/controls",
      "model_module_version": "1.1.0",
      "model_name": "ToggleButtonsModel",
      "state": {
       "_options_labels": [
        "N",
        "NDC"
       ],
       "button_style": "",
       "description": "Type:",
       "icons": [],
       "index": 0,
       "layout": "IPY_MODEL_e1d61a68240847fcb89a97fa2945bff1",
       "style": "IPY_MODEL_4b22a219bb39429aadfbe3662ab9344e",
       "tooltips": [
        "Neutron",
        "Neutron (deconvoluted)"
       ]
      }
     },
     "cdd7b460ab6d497e89a40e54704e0405": {
      "model_module": "@jupyter-widgets/base",
      "model_module_version": "1.0.0",
      "model_name": "LayoutModel",
      "state": {}
     },
     "cea380802af2442091b4df88b4870f06": {
      "model_module": "@jupyter-widgets/base",
      "model_module_version": "1.0.0",
      "model_name": "LayoutModel",
      "state": {}
     },
     "cee140c0cf9e4148bdc534250e77adfa": {
      "model_module": "@jupyter-widgets/controls",
      "model_module_version": "1.1.0",
      "model_name": "LabelModel",
      "state": {
       "layout": "IPY_MODEL_591983d72d9a4707a025102bf48ee6a2",
       "style": "IPY_MODEL_d3829c4f0a5a42b1be5c79bdf71816d0",
       "value": "Select projectile ion species."
      }
     },
     "ceff1e71ac8a41e9a0f7e8232abb7060": {
      "model_module": "@jupyter-widgets/controls",
      "model_module_version": "1.1.0",
      "model_name": "CheckboxModel",
      "state": {
       "description": "60°",
       "disabled": false,
       "layout": "IPY_MODEL_d5d0d2ddcdd242f98557194e3bd76c0e",
       "style": "IPY_MODEL_07e26bfbdd264c5caa86997cd380255c",
       "value": true
      }
     },
     "cfa5fbf828834cb7b861c2382ce6a0a5": {
      "model_module": "@jupyter-widgets/base",
      "model_module_version": "1.0.0",
      "model_name": "LayoutModel",
      "state": {}
     },
     "d045ed28e7f443a492a3b0a8c145e6bd": {
      "model_module": "@jupyter-widgets/base",
      "model_module_version": "1.0.0",
      "model_name": "LayoutModel",
      "state": {}
     },
     "d0cf31ea782242468beb9758d21f489e": {
      "model_module": "@jupyter-widgets/controls",
      "model_module_version": "1.1.0",
      "model_name": "DescriptionStyleModel",
      "state": {
       "description_width": ""
      }
     },
     "d0e6052d8faf4b2698480ee34caee7d4": {
      "model_module": "@jupyter-widgets/base",
      "model_module_version": "1.0.0",
      "model_name": "LayoutModel",
      "state": {}
     },
     "d104df1b93dc4adead945d61dd03d6fe": {
      "model_module": "@jupyter-widgets/base",
      "model_module_version": "1.0.0",
      "model_name": "LayoutModel",
      "state": {}
     },
     "d1ffdb144a5d4c4c8c847ce9410f9e9a": {
      "model_module": "@jupyter-widgets/controls",
      "model_module_version": "1.1.0",
      "model_name": "CheckboxModel",
      "state": {
       "description": "10°",
       "disabled": false,
       "layout": "IPY_MODEL_9393d654bc5842bc8bb61310d8ae3c22",
       "style": "IPY_MODEL_8658947a8ee0460091989d36cf0c0b43",
       "value": true
      }
     },
     "d204c1db0c0a4f7dac17511c7217c255": {
      "model_module": "@jupyter-widgets/controls",
      "model_module_version": "1.1.0",
      "model_name": "CheckboxModel",
      "state": {
       "description": "30°",
       "disabled": false,
       "layout": "IPY_MODEL_69d6fc1b35cd4fd4889f882511b76af2",
       "style": "IPY_MODEL_f6ec50c9f8d14d6f8261e916602e59c9",
       "value": true
      }
     },
     "d254eb2e271643e3acda524c4794ccbf": {
      "model_module": "@jupyter-widgets/controls",
      "model_module_version": "1.1.0",
      "model_name": "CheckboxModel",
      "state": {
       "description": "32.7°",
       "disabled": false,
       "layout": "IPY_MODEL_fec67650c81745c4b3f268ff4c7b72a6",
       "style": "IPY_MODEL_ae7c46f2f69f4776accd5fb7c29f2382",
       "value": true
      }
     },
     "d2bfdaf8796e4f56a2b6c2179e47f23d": {
      "model_module": "@jupyter-widgets/base",
      "model_module_version": "1.0.0",
      "model_name": "LayoutModel",
      "state": {}
     },
     "d3829c4f0a5a42b1be5c79bdf71816d0": {
      "model_module": "@jupyter-widgets/controls",
      "model_module_version": "1.1.0",
      "model_name": "DescriptionStyleModel",
      "state": {
       "description_width": ""
      }
     },
     "d489953aa27748ca809f2bfa6fcbdbf6": {
      "model_module": "@jupyter-widgets/controls",
      "model_module_version": "1.1.0",
      "model_name": "DescriptionStyleModel",
      "state": {
       "description_width": ""
      }
     },
     "d59349eafc6d4521ae99554754cf77ee": {
      "model_module": "@jupyter-widgets/base",
      "model_module_version": "1.0.0",
      "model_name": "LayoutModel",
      "state": {}
     },
     "d5b795a688d941aaa9b25e3f0bb33293": {
      "model_module": "@jupyter-widgets/controls",
      "model_module_version": "1.1.0",
      "model_name": "CheckboxModel",
      "state": {
       "description": "80°",
       "disabled": false,
       "layout": "IPY_MODEL_0a9707392c6b4c3282af3dc874884ff5",
       "style": "IPY_MODEL_7f1320fdde3a4eb58bb722ad2e189b3c",
       "value": true
      }
     },
     "d5d0d2ddcdd242f98557194e3bd76c0e": {
      "model_module": "@jupyter-widgets/base",
      "model_module_version": "1.0.0",
      "model_name": "LayoutModel",
      "state": {}
     },
     "d5e2e35deb844291b27a458a0dc4ce24": {
      "model_module": "@jupyter-widgets/base",
      "model_module_version": "1.0.0",
      "model_name": "LayoutModel",
      "state": {}
     },
     "d6d4eecf671144bca4ba7e9fb9934af7": {
      "model_module": "@jupyter-widgets/controls",
      "model_module_version": "1.1.0",
      "model_name": "CheckboxModel",
      "state": {
       "description": "135°",
       "disabled": false,
       "layout": "IPY_MODEL_83a3795ebf384c3b924e161522508d10",
       "style": "IPY_MODEL_07757186b124423b90b6fc4a321a3839",
       "value": true
      }
     },
     "d7eefa870f8c4d0e9c21967a295082e0": {
      "model_module": "@jupyter-widgets/base",
      "model_module_version": "1.0.0",
      "model_name": "LayoutModel",
      "state": {}
     },
     "d7fa1e0a970542dfa0bcacd0af564385": {
      "model_module": "@jupyter-widgets/base",
      "model_module_version": "1.0.0",
      "model_name": "LayoutModel",
      "state": {}
     },
     "d921a36675004b3d9263529f7b8473c8": {
      "model_module": "@jupyter-widgets/base",
      "model_module_version": "1.0.0",
      "model_name": "LayoutModel",
      "state": {}
     },
     "da3c66a604a64b85afa9e3a60e7b1a1a": {
      "model_module": "@jupyter-widgets/controls",
      "model_module_version": "1.1.0",
      "model_name": "ToggleButtonsModel",
      "state": {
       "_options_labels": [
        "None",
        "Spaced by 10²"
       ],
       "button_style": "",
       "description": "Spacing:",
       "icons": [],
       "index": 0,
       "layout": "IPY_MODEL_a3d9fd0254bb40da9e7e0e1e29c3dc3c",
       "style": "IPY_MODEL_e6203a22b2264fb9805146732da77ef7",
       "tooltips": [
        "All values are presented as is.",
        "Plots for different detectors are multiplied by powers of 10² for easier viewing."
       ]
      }
     },
     "dbf31784806148b18cf007b56b054246": {
      "model_module": "@jupyter-widgets/controls",
      "model_module_version": "1.1.0",
      "model_name": "DescriptionStyleModel",
      "state": {
       "description_width": ""
      }
     },
     "dc0ae02645da44c493796fb07d1b0888": {
      "model_module": "@jupyter-widgets/controls",
      "model_module_version": "1.1.0",
      "model_name": "DescriptionStyleModel",
      "state": {
       "description_width": ""
      }
     },
     "dd243fe614ab4786a6036ba1cd7274c6": {
      "model_module": "@jupyter-widgets/controls",
      "model_module_version": "1.1.0",
      "model_name": "CheckboxModel",
      "state": {
       "description": "32.7°",
       "disabled": false,
       "layout": "IPY_MODEL_7b9d7b7cf9c04c9a82cd16d7e2bb05b0",
       "style": "IPY_MODEL_4088ba6d018e4e63a876d816450947aa",
       "value": true
      }
     },
     "dd3a3b31398e4a0e9aa1cddadb32dcea": {
      "model_module": "@jupyter-widgets/controls",
      "model_module_version": "1.1.0",
      "model_name": "DescriptionStyleModel",
      "state": {
       "description_width": ""
      }
     },
     "dd754a0dd2b94406836938aa9d8da6e9": {
      "model_module": "@jupyter-widgets/controls",
      "model_module_version": "1.1.0",
      "model_name": "CheckboxModel",
      "state": {
       "description": "135°",
       "disabled": false,
       "layout": "IPY_MODEL_1bb7f2c06922441089584949384b0a0c",
       "style": "IPY_MODEL_a5371a7f7e1c47cfb165de66a8ce1d9c",
       "value": true
      }
     },
     "dddc16ed883246f0815715672f5991bf": {
      "model_module": "@jupyter-widgets/base",
      "model_module_version": "1.0.0",
      "model_name": "LayoutModel",
      "state": {}
     },
     "de514ac198ee4f96a23947a300d166c6": {
      "model_module": "@jupyter-widgets/controls",
      "model_module_version": "1.1.0",
      "model_name": "DescriptionStyleModel",
      "state": {
       "description_width": ""
      }
     },
     "de8ca3a9d700404db62e943cbc02e6ce": {
      "model_module": "@jupyter-widgets/controls",
      "model_module_version": "1.1.0",
      "model_name": "ToggleButtonsModel",
      "state": {
       "_options_labels": [
        "20 g/cm²",
        "60 g/cm²"
       ],
       "button_style": "",
       "description": "Thickness:",
       "icons": [],
       "index": 0,
       "layout": "IPY_MODEL_9078c4bcddb24a0c80ee96dce02c78cc",
       "style": "IPY_MODEL_e3f0c8fd96aa4ab99322b59567b8161e",
       "tooltips": [
        "20 g/cm²",
        "60 g/cm²"
       ]
      }
     },
     "dfae9acdbe3d409db72fdff9ac916fc9": {
      "model_module": "@jupyter-widgets/controls",
      "model_module_version": "1.1.0",
      "model_name": "LabelModel",
      "state": {
       "layout": "IPY_MODEL_bccc581e49014ff18c58effdb72679b3",
       "style": "IPY_MODEL_0c5d38b2439f4de1b6158b9ce2c2de5c",
       "value": "Select the detector angles to plot."
      }
     },
     "dfb560290e0e403c9fccbde569a8aebc": {
      "model_module": "@jupyter-widgets/controls",
      "model_module_version": "1.1.0",
      "model_name": "LabelModel",
      "state": {
       "layout": "IPY_MODEL_acbc4eec12c84b1a95db9c9ea2c9b226",
       "style": "IPY_MODEL_5a1015870ae041e78d2db8b9d6e4d69b",
       "value": "Select the detector angles to plot."
      }
     },
     "e02a6cabb30a4011baa7c08d86cd7266": {
      "model_module": "@jupyter-widgets/controls",
      "model_module_version": "1.1.0",
      "model_name": "DescriptionStyleModel",
      "state": {
       "description_width": ""
      }
     },
     "e163e474f57f41afb1c80d3c76fe7cc2": {
      "model_module": "@jupyter-widgets/controls",
      "model_module_version": "1.1.0",
      "model_name": "ToggleButtonsModel",
      "state": {
       "_options_labels": [
        "OLS",
        "NaI"
       ],
       "button_style": "",
       "description": "Type:",
       "icons": [],
       "index": 0,
       "layout": "IPY_MODEL_988a393cd5994582bb58756c59a2cec4",
       "style": "IPY_MODEL_cb43928a574448eca437bc4c9aa2a8d2",
       "tooltips": [
        "Organic Liquid Scintillator",
        "Sodium Iodide"
       ]
      }
     },
     "e18a396c81f740bcb8fd470324b131d6": {
      "model_module": "@jupyter-widgets/controls",
      "model_module_version": "1.1.0",
      "model_name": "DescriptionStyleModel",
      "state": {
       "description_width": ""
      }
     },
     "e1d61a68240847fcb89a97fa2945bff1": {
      "model_module": "@jupyter-widgets/base",
      "model_module_version": "1.0.0",
      "model_name": "LayoutModel",
      "state": {}
     },
     "e276e5c685494292b6190b0bad23e9f6": {
      "model_module": "@jupyter-widgets/controls",
      "model_module_version": "1.1.0",
      "model_name": "DescriptionStyleModel",
      "state": {
       "description_width": ""
      }
     },
     "e2afa7cfcc1a41298897da78530a081d": {
      "model_module": "@jupyter-widgets/base",
      "model_module_version": "1.0.0",
      "model_name": "LayoutModel",
      "state": {}
     },
     "e38bb0cddc9d419990656dfcee6803a8": {
      "model_module": "@jupyter-widgets/base",
      "model_module_version": "1.0.0",
      "model_name": "LayoutModel",
      "state": {}
     },
     "e3c058a88a5b46e7a21cca77776b6f7b": {
      "model_module": "@jupyter-widgets/controls",
      "model_module_version": "1.1.0",
      "model_name": "CheckboxModel",
      "state": {
       "description": "135°",
       "disabled": false,
       "layout": "IPY_MODEL_571570d1fdb24024b81f8c526ee80215",
       "style": "IPY_MODEL_593b60d7d69a4650828cd601b908e6b9",
       "value": true
      }
     },
     "e3f0c8fd96aa4ab99322b59567b8161e": {
      "model_module": "@jupyter-widgets/controls",
      "model_module_version": "1.1.0",
      "model_name": "ToggleButtonsStyleModel",
      "state": {
       "button_width": "",
       "description_width": ""
      }
     },
     "e4375cfc8ff54701b364e8158c74eebf": {
      "model_module": "@jupyter-widgets/controls",
      "model_module_version": "1.1.0",
      "model_name": "DescriptionStyleModel",
      "state": {
       "description_width": ""
      }
     },
     "e47dd9537dee4e0a961986192547775b": {
      "model_module": "@jupyter-widgets/controls",
      "model_module_version": "1.1.0",
      "model_name": "CheckboxModel",
      "state": {
       "description": "10°",
       "disabled": false,
       "layout": "IPY_MODEL_c669a7878a2f4b5998664f3d1a967d02",
       "style": "IPY_MODEL_9bbc77fdd4154a78b93848e63b9411c7",
       "value": true
      }
     },
     "e4d4ee40e9634060ada1b1c42c9d84de": {
      "model_module": "@jupyter-widgets/controls",
      "model_module_version": "1.1.0",
      "model_name": "LabelModel",
      "state": {
       "layout": "IPY_MODEL_a20b631d661f4e6a9754ccdd1b8279ae",
       "style": "IPY_MODEL_b71c3a8d9a2f48ea8113db14d33ee897",
       "value": "Select which sets of data to display."
      }
     },
     "e504e3870f2d434b9b3ce8047fb6ce6a": {
      "model_module": "@jupyter-widgets/controls",
      "model_module_version": "1.1.0",
      "model_name": "ToggleButtonsStyleModel",
      "state": {
       "button_width": "",
       "description_width": ""
      }
     },
     "e6203a22b2264fb9805146732da77ef7": {
      "model_module": "@jupyter-widgets/controls",
      "model_module_version": "1.1.0",
      "model_name": "ToggleButtonsStyleModel",
      "state": {
       "button_width": "",
       "description_width": ""
      }
     },
     "e72b472b555f44c68890ff54d24fd189": {
      "model_module": "@jupyter-widgets/controls",
      "model_module_version": "1.1.0",
      "model_name": "ToggleButtonsModel",
      "state": {
       "_options_labels": [
        "400 MeV/n",
        "800 MeV/n",
        "1500 MeV/n"
       ],
       "button_style": "",
       "description": "Energy:",
       "icons": [],
       "index": 0,
       "layout": "IPY_MODEL_d0e6052d8faf4b2698480ee34caee7d4",
       "style": "IPY_MODEL_1ead81b4709043c994909a2b2b093b5f",
       "tooltips": [
        "lowest energy",
        "middle energy",
        "highest energy"
       ]
      }
     },
     "e791ef4198404877b20852aa1f1999dd": {
      "model_module": "@jupyter-widgets/base",
      "model_module_version": "1.0.0",
      "model_name": "LayoutModel",
      "state": {}
     },
     "e858a2e6bfff44c9a787a49521f4d6a5": {
      "model_module": "@jupyter-widgets/controls",
      "model_module_version": "1.1.0",
      "model_name": "DescriptionStyleModel",
      "state": {
       "description_width": ""
      }
     },
     "e9502940170d4e94abc6619254f97d23": {
      "model_module": "@jupyter-widgets/controls",
      "model_module_version": "1.1.0",
      "model_name": "CheckboxModel",
      "state": {
       "description": "45°",
       "disabled": false,
       "layout": "IPY_MODEL_4693c63a28be4976a31169004a8d002b",
       "style": "IPY_MODEL_143c0b0a8ded453daf70a006d44b7880",
       "value": true
      }
     },
     "e975e26b0362471590a595e5711b6a02": {
      "model_module": "@jupyter-widgets/controls",
      "model_module_version": "1.1.0",
      "model_name": "ToggleButtonsStyleModel",
      "state": {
       "button_width": "",
       "description_width": ""
      }
     },
     "ead1f9378a724f3fac29c1cdad541101": {
      "model_module": "@jupyter-widgets/controls",
      "model_module_version": "1.1.0",
      "model_name": "DescriptionStyleModel",
      "state": {
       "description_width": ""
      }
     },
     "eb182ea4bdca40d1807c6f191db4fefa": {
      "model_module": "@jupyter-widgets/base",
      "model_module_version": "1.0.0",
      "model_name": "LayoutModel",
      "state": {}
     },
     "eb3bc749b5bd437384de45b0ff78c72e": {
      "model_module": "@jupyter-widgets/controls",
      "model_module_version": "1.1.0",
      "model_name": "DescriptionStyleModel",
      "state": {
       "description_width": ""
      }
     },
     "ecb67a303385458cb0a68adc15ac1fc7": {
      "model_module": "@jupyter-widgets/controls",
      "model_module_version": "1.1.0",
      "model_name": "DescriptionStyleModel",
      "state": {
       "description_width": ""
      }
     },
     "ece4d2aad3f0431485bdbeb4ca86c6d4": {
      "model_module": "@jupyter-widgets/controls",
      "model_module_version": "1.1.0",
      "model_name": "DescriptionStyleModel",
      "state": {
       "description_width": ""
      }
     },
     "ecf53ae7c0fb4039bf6f58762a521630": {
      "model_module": "@jupyter-widgets/controls",
      "model_module_version": "1.1.0",
      "model_name": "LabelModel",
      "state": {
       "layout": "IPY_MODEL_f96537a5e7dc4e1a98b108b6f8434a3b",
       "style": "IPY_MODEL_28327983a7144dda802785386bf344e5",
       "value": "Select a detector type."
      }
     },
     "ed3c3afe7bb04260aa2cda37f2e479db": {
      "model_module": "@jupyter-widgets/controls",
      "model_module_version": "1.1.0",
      "model_name": "CheckboxModel",
      "state": {
       "description": "60°",
       "disabled": false,
       "layout": "IPY_MODEL_41e3926362f243e19a8320c94d209953",
       "style": "IPY_MODEL_25e876c3f90c4f3f8dfd969e5d91c1a4",
       "value": true
      }
     },
     "ed9b8aca428d4bfeb7962d86e3245961": {
      "model_module": "@jupyter-widgets/controls",
      "model_module_version": "1.1.0",
      "model_name": "CheckboxModel",
      "state": {
       "description": "80°",
       "disabled": false,
       "layout": "IPY_MODEL_234bc26d1bdc454db32ce045f42ba194",
       "style": "IPY_MODEL_0f09a72e9f9f4937bd8a9ecae88876c4",
       "value": true
      }
     },
     "edf26b31a5c04ae5ac5eb9360ccd15ef": {
      "model_module": "@jupyter-widgets/base",
      "model_module_version": "1.0.0",
      "model_name": "LayoutModel",
      "state": {}
     },
     "ee9508ad87874fd7b8be8d0efe9d98ad": {
      "model_module": "@jupyter-widgets/base",
      "model_module_version": "1.0.0",
      "model_name": "LayoutModel",
      "state": {}
     },
     "eefe43499ee44524b93df0bdab9d7141": {
      "model_module": "@jupyter-widgets/controls",
      "model_module_version": "1.1.0",
      "model_name": "DescriptionStyleModel",
      "state": {
       "description_width": ""
      }
     },
     "ef12815c062c4b8abf7c166758a426b0": {
      "model_module": "@jupyter-widgets/base",
      "model_module_version": "1.0.0",
      "model_name": "LayoutModel",
      "state": {}
     },
     "efdebc32c6d14475963f81083af48fc6": {
      "model_module": "@jupyter-widgets/controls",
      "model_module_version": "1.1.0",
      "model_name": "DescriptionStyleModel",
      "state": {
       "description_width": ""
      }
     },
     "f05a57fc2398413dacc5792e327cfeba": {
      "model_module": "@jupyter-widgets/controls",
      "model_module_version": "1.1.0",
      "model_name": "ToggleButtonsStyleModel",
      "state": {
       "button_width": "",
       "description_width": ""
      }
     },
     "f075aaa215ec4cfe944ca2bc67718f64": {
      "model_module": "@jupyter-widgets/base",
      "model_module_version": "1.0.0",
      "model_name": "LayoutModel",
      "state": {}
     },
     "f13b3349550249a7a8a8925ed41d5a03": {
      "model_module": "@jupyter-widgets/controls",
      "model_module_version": "1.1.0",
      "model_name": "DescriptionStyleModel",
      "state": {
       "description_width": ""
      }
     },
     "f198b3453e774f70bf273162d5d01d64": {
      "model_module": "@jupyter-widgets/base",
      "model_module_version": "1.0.0",
      "model_name": "LayoutModel",
      "state": {}
     },
     "f233b0f7df684cf19f9a4b1a0e80fc0f": {
      "model_module": "@jupyter-widgets/controls",
      "model_module_version": "1.1.0",
      "model_name": "DescriptionStyleModel",
      "state": {
       "description_width": ""
      }
     },
     "f2456de050614fe7ae7c3b92f8de9a80": {
      "model_module": "@jupyter-widgets/controls",
      "model_module_version": "1.1.0",
      "model_name": "LabelModel",
      "state": {
       "layout": "IPY_MODEL_1895e3bc6f044bb8afff35cdcfbc7aab",
       "style": "IPY_MODEL_efdebc32c6d14475963f81083af48fc6",
       "value": "Select upstream target mass thickness."
      }
     },
     "f2a30b5b168d4442829ced54e22cba51": {
      "model_module": "@jupyter-widgets/controls",
      "model_module_version": "1.1.0",
      "model_name": "CheckboxModel",
      "state": {
       "description": "32.7°",
       "disabled": false,
       "layout": "IPY_MODEL_5e26460dacad4849ad851395b6f30865",
       "style": "IPY_MODEL_70e3e49badd545ee81554cf95865dfb5",
       "value": true
      }
     },
     "f3ad70d074f14fb29d3e3e092c92e272": {
      "model_module": "@jupyter-widgets/base",
      "model_module_version": "1.0.0",
      "model_name": "LayoutModel",
      "state": {}
     },
     "f4124d13f85b4c338da0a16a8d35183d": {
      "model_module": "@jupyter-widgets/controls",
      "model_module_version": "1.1.0",
      "model_name": "ToggleButtonsModel",
      "state": {
       "_options_labels": [
        "20 g/cm²",
        "40 g/cm²",
        "60 g/cm²"
       ],
       "button_style": "",
       "description": "Thickness:",
       "icons": [],
       "index": 0,
       "layout": "IPY_MODEL_7751e08282f645879d45fa1ef176160c",
       "style": "IPY_MODEL_15a35212efc8475aaf0e98cf2b28246a",
       "tooltips": [
        "20 g/cm²",
        "40 g/cm²",
        "60 g/cm²"
       ]
      }
     },
     "f4462351516b49a5afd9a3b87837f79c": {
      "model_module": "@jupyter-widgets/controls",
      "model_module_version": "1.1.0",
      "model_name": "LabelModel",
      "state": {
       "layout": "IPY_MODEL_829f31e9b0c8410493c37e562657e989",
       "style": "IPY_MODEL_a311037077c543ca9c84276971387c3d",
       "value": "Select which sets of data to display."
      }
     },
     "f4bcbe0acbd54ece9fa7bc6babb7c729": {
      "model_module": "@jupyter-widgets/base",
      "model_module_version": "1.0.0",
      "model_name": "LayoutModel",
      "state": {}
     },
     "f4c2d755906e4acc82b4b2022cb7d83e": {
      "model_module": "@jupyter-widgets/base",
      "model_module_version": "1.0.0",
      "model_name": "LayoutModel",
      "state": {}
     },
     "f629ac463075401a82db4055047c696a": {
      "model_module": "@jupyter-widgets/controls",
      "model_module_version": "1.1.0",
      "model_name": "LabelModel",
      "state": {
       "layout": "IPY_MODEL_2b77daaeab2946b6ae613f67e7e60193",
       "style": "IPY_MODEL_dbf31784806148b18cf007b56b054246",
       "value": "Select which secondary particle to plot spectra for."
      }
     },
     "f6ec50c9f8d14d6f8261e916602e59c9": {
      "model_module": "@jupyter-widgets/controls",
      "model_module_version": "1.1.0",
      "model_name": "DescriptionStyleModel",
      "state": {
       "description_width": ""
      }
     },
     "f6f17ed301d94057a0bc97f27e6b7024": {
      "model_module": "@jupyter-widgets/base",
      "model_module_version": "1.0.0",
      "model_name": "LayoutModel",
      "state": {}
     },
     "f7774ba6a05344b1a3ec5335eb66bab7": {
      "model_module": "@jupyter-widgets/controls",
      "model_module_version": "1.1.0",
      "model_name": "ToggleButtonsModel",
      "state": {
       "_options_labels": [
        "N",
        "NDC",
        "P (¹ H)",
        "D (² H)",
        "T (³ H)",
        "S (³ He)",
        "A (⁴ He)"
       ],
       "button_style": "",
       "description": "Type:",
       "icons": [],
       "index": 0,
       "layout": "IPY_MODEL_193853f9a1684ec88fc80445d79e0ba9",
       "style": "IPY_MODEL_f05a57fc2398413dacc5792e327cfeba",
       "tooltips": [
        "Neutron",
        "Neutron (deconvoluted)",
        "Proton",
        "Deuteron",
        "Triton",
        "Helium-3",
        "Helium-4"
       ]
      }
     },
     "f7cd482253f94585a80d6bb115ec989f": {
      "model_module": "@jupyter-widgets/controls",
      "model_module_version": "1.1.0",
      "model_name": "DescriptionStyleModel",
      "state": {
       "description_width": ""
      }
     },
     "f8a211f64f1f4f378bcaa6dd3f50b1db": {
      "model_module": "@jupyter-widgets/controls",
      "model_module_version": "1.1.0",
      "model_name": "DescriptionStyleModel",
      "state": {
       "description_width": ""
      }
     },
     "f8c6878758504288a4ef98490a7bf179": {
      "model_module": "@jupyter-widgets/controls",
      "model_module_version": "1.1.0",
      "model_name": "ToggleButtonsStyleModel",
      "state": {
       "button_width": "",
       "description_width": ""
      }
     },
     "f96537a5e7dc4e1a98b108b6f8434a3b": {
      "model_module": "@jupyter-widgets/base",
      "model_module_version": "1.0.0",
      "model_name": "LayoutModel",
      "state": {}
     },
     "f9f8c52f431345f698c281574d22506e": {
      "model_module": "@jupyter-widgets/controls",
      "model_module_version": "1.1.0",
      "model_name": "CheckboxModel",
      "state": {
       "description": "60°",
       "disabled": false,
       "layout": "IPY_MODEL_a6511527a3ec4002aa89520eafdabe73",
       "style": "IPY_MODEL_adef8af3dbef49b5bf0fe6ddeef89d06",
       "value": true
      }
     },
     "fa9b0c391269426f8023ac94e5b71181": {
      "model_module": "@jupyter-widgets/controls",
      "model_module_version": "1.1.0",
      "model_name": "ToggleButtonsStyleModel",
      "state": {
       "button_width": "",
       "description_width": ""
      }
     },
     "fa9e86f21a4f40b6896d4d4df3581ea5": {
      "model_module": "@jupyter-widgets/base",
      "model_module_version": "1.0.0",
      "model_name": "LayoutModel",
      "state": {}
     },
     "fb4682e938f54eb68cf31372aa27daa2": {
      "model_module": "@jupyter-widgets/controls",
      "model_module_version": "1.1.0",
      "model_name": "CheckboxModel",
      "state": {
       "description": "7.2°",
       "disabled": false,
       "layout": "IPY_MODEL_fa9e86f21a4f40b6896d4d4df3581ea5",
       "style": "IPY_MODEL_3a19cc5c39f047ad823d1c15fd11c6ba",
       "value": true
      }
     },
     "fb9d46eb2d9f40789e7030ae2320e2fc": {
      "model_module": "@jupyter-widgets/controls",
      "model_module_version": "1.1.0",
      "model_name": "CheckboxModel",
      "state": {
       "description": "PHITS sim.",
       "disabled": false,
       "layout": "IPY_MODEL_ae58877b32bd4dd5ba8bfdb979bee38a",
       "style": "IPY_MODEL_0b9ff29894144d61b66453698de74215",
       "value": true
      }
     },
     "fbbb3d5744dd4f179f3cc78433cba9c1": {
      "model_module": "@jupyter-widgets/controls",
      "model_module_version": "1.1.0",
      "model_name": "LabelModel",
      "state": {
       "layout": "IPY_MODEL_04e0e02fd9424300a282ee8e21e6a088",
       "style": "IPY_MODEL_5af719f86866423986c2dfaf7aaf50e7",
       "value": "Select upstream target mass thickness."
      }
     },
     "fc3c7d1c3a824bc4a7ab4ae7d3a76502": {
      "model_module": "@jupyter-widgets/controls",
      "model_module_version": "1.1.0",
      "model_name": "DescriptionStyleModel",
      "state": {
       "description_width": ""
      }
     },
     "fe09287dcce44265aedb2fbe5024622d": {
      "model_module": "@jupyter-widgets/controls",
      "model_module_version": "1.1.0",
      "model_name": "DescriptionStyleModel",
      "state": {
       "description_width": ""
      }
     },
     "fe444945620d4fd68f0f58c5bde35180": {
      "model_module": "@jupyter-widgets/controls",
      "model_module_version": "1.1.0",
      "model_name": "CheckboxModel",
      "state": {
       "description": "135°",
       "disabled": false,
       "layout": "IPY_MODEL_f075aaa215ec4cfe944ca2bc67718f64",
       "style": "IPY_MODEL_c1b5218451a5463aaba4be6b444620f8",
       "value": true
      }
     },
     "fe5af945dcef46c08027357980776cea": {
      "model_module": "@jupyter-widgets/base",
      "model_module_version": "1.0.0",
      "model_name": "LayoutModel",
      "state": {}
     },
     "fec67650c81745c4b3f268ff4c7b72a6": {
      "model_module": "@jupyter-widgets/base",
      "model_module_version": "1.0.0",
      "model_name": "LayoutModel",
      "state": {}
     },
     "ff08751772c74d82b2870c4b2b9d7ac7": {
      "model_module": "@jupyter-widgets/controls",
      "model_module_version": "1.1.0",
      "model_name": "ToggleButtonsModel",
      "state": {
       "_options_labels": [
        "20 g/cm²",
        "60 g/cm²"
       ],
       "button_style": "",
       "description": "Thickness:",
       "icons": [],
       "index": 0,
       "layout": "IPY_MODEL_aae4adf9553e4a9096373ce3db4ba1e4",
       "style": "IPY_MODEL_9ca2baab08d14cfbbc0b308d87b7cf99",
       "tooltips": [
        "20 g/cm²",
        "60 g/cm²"
       ]
      }
     },
     "fff3f5f35d4b40bb988303683eb78bbb": {
      "model_module": "@jupyter-widgets/controls",
      "model_module_version": "1.1.0",
      "model_name": "ToggleButtonsModel",
      "state": {
       "_options_labels": [
        "H",
        "He",
        "C",
        "Si",
        "Fe"
       ],
       "button_style": "",
       "description": "Ion:",
       "icons": [],
       "index": 2,
       "layout": "IPY_MODEL_0b494dc80487406a9b61c6f01741dc0a",
       "style": "IPY_MODEL_120e79b40cc1437caea92ee8f745a440",
       "tooltips": [
        "Hydrogen",
        "Helium",
        "Carbon",
        "Silicon",
        "Iron"
       ]
      }
     },
     "fff6cf548d564635b9b9146c8655a150": {
      "model_module": "@jupyter-widgets/controls",
      "model_module_version": "1.1.0",
      "model_name": "DescriptionStyleModel",
      "state": {
       "description_width": ""
      }
     }
    },
    "version_major": 2,
    "version_minor": 0
   }
  }
 },
 "nbformat": 4,
 "nbformat_minor": 1
}
