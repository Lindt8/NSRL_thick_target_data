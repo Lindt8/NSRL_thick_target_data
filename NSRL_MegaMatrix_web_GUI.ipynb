{
 "cells": [
  {
   "cell_type": "code",
   "execution_count": 1,
   "metadata": {},
   "outputs": [
    {
     "data": {
      "text/html": [
       "<script>\n",
       "  function code_toggle() {\n",
       "    if (code_shown){\n",
       "      $('div.input').hide('500');\n",
       "      $('#toggleButton').val('Show Code')\n",
       "    } else {\n",
       "      $('div.input').show('500');\n",
       "      $('#toggleButton').val('Hide Code')\n",
       "    }\n",
       "    code_shown = !code_shown\n",
       "  }\n",
       "\n",
       "  $( document ).ready(function(){\n",
       "    code_shown=false;\n",
       "    $('div.input').hide()\n",
       "  });\n",
       "</script>\n",
       "<form action=\"javascript:code_toggle()\"><input type=\"submit\" id=\"toggleButton\" value=\"Show Code\"></form>"
      ],
      "text/plain": [
       "<IPython.core.display.HTML object>"
      ]
     },
     "execution_count": 1,
     "metadata": {},
     "output_type": "execute_result"
    }
   ],
   "source": [
    "%matplotlib notebook\n",
    "from IPython.display import HTML\n",
    "import numpy as np\n",
    "import matplotlib.pyplot as plt\n",
    "from matplotlib.collections import PatchCollection\n",
    "from matplotlib.patches import Rectangle\n",
    "import re\n",
    "from IPython.display import display\n",
    "import ipywidgets as widgets\n",
    "from IPython.display import Javascript\n",
    "\n",
    "HTML('''<script>\n",
    "  function code_toggle() {\n",
    "    if (code_shown){\n",
    "      $('div.input').hide('500');\n",
    "      $('#toggleButton').val('Show Code')\n",
    "    } else {\n",
    "      $('div.input').show('500');\n",
    "      $('#toggleButton').val('Hide Code')\n",
    "    }\n",
    "    code_shown = !code_shown\n",
    "  }\n",
    "\n",
    "  $( document ).ready(function(){\n",
    "    code_shown=false;\n",
    "    $('div.input').hide()\n",
    "  });\n",
    "</script>\n",
    "<form action=\"javascript:code_toggle()\"><input type=\"submit\" id=\"toggleButton\" value=\"Show Code\"></form>''')\n"
   ]
  },
  {
   "cell_type": "code",
   "execution_count": 159,
   "metadata": {
    "scrolled": true
   },
   "outputs": [
    {
     "data": {
      "application/vnd.jupyter.widget-view+json": {
       "model_id": "180b1185efac437da63d4e48062134ca",
       "version_major": 2,
       "version_minor": 0
      },
      "text/html": [
       "<p>Failed to display Jupyter Widget of type <code>Label</code>.</p>\n",
       "<p>\n",
       "  If you're reading this message in the Jupyter Notebook or JupyterLab Notebook, it may mean\n",
       "  that the widgets JavaScript is still loading. If this message persists, it\n",
       "  likely means that the widgets JavaScript library is either not installed or\n",
       "  not enabled. See the <a href=\"https://ipywidgets.readthedocs.io/en/stable/user_install.html\">Jupyter\n",
       "  Widgets Documentation</a> for setup instructions.\n",
       "</p>\n",
       "<p>\n",
       "  If you're reading this message in another frontend (for example, a static\n",
       "  rendering on GitHub or <a href=\"https://nbviewer.jupyter.org/\">NBViewer</a>),\n",
       "  it may mean that your frontend doesn't currently support widgets.\n",
       "</p>\n"
      ],
      "text/plain": [
       "Label(value='Select projectile ion species and energy.')"
      ]
     },
     "metadata": {},
     "output_type": "display_data"
    },
    {
     "data": {
      "application/vnd.jupyter.widget-view+json": {
       "model_id": "e3c0b9d7264d4dd38eb1038c6ebcc18d",
       "version_major": 2,
       "version_minor": 0
      },
      "text/html": [
       "<p>Failed to display Jupyter Widget of type <code>ToggleButtons</code>.</p>\n",
       "<p>\n",
       "  If you're reading this message in the Jupyter Notebook or JupyterLab Notebook, it may mean\n",
       "  that the widgets JavaScript is still loading. If this message persists, it\n",
       "  likely means that the widgets JavaScript library is either not installed or\n",
       "  not enabled. See the <a href=\"https://ipywidgets.readthedocs.io/en/stable/user_install.html\">Jupyter\n",
       "  Widgets Documentation</a> for setup instructions.\n",
       "</p>\n",
       "<p>\n",
       "  If you're reading this message in another frontend (for example, a static\n",
       "  rendering on GitHub or <a href=\"https://nbviewer.jupyter.org/\">NBViewer</a>),\n",
       "  it may mean that your frontend doesn't currently support widgets.\n",
       "</p>\n"
      ],
      "text/plain": [
       "ToggleButtons(description='Ion:', options=('H', 'He', 'C', 'Si', 'Fe'), tooltips=['Hydrogen', 'Helium', 'Carbon', 'Silicon', 'Iron'], value='H')"
      ]
     },
     "metadata": {},
     "output_type": "display_data"
    }
   ],
   "source": [
    "def find(target, myList):\n",
    "    for i in range(len(myList)):\n",
    "        if myList[i] == target:\n",
    "            return i       \n",
    "\n",
    "def on_click(change):\n",
    "    #display(Javascript('IPython.notebook.execute_cells_below()'))  \n",
    "    #display(Javascript('IPython.notebook.execute_cell_range(IPython.notebook.get_selected_index()+1, IPython.notebook.ncells())'))\n",
    "    #display(Javascript('IPython.notebook.execute_cell_range(IPython.notebook.get_selected_index()+1, 6)'))\n",
    "    display(Javascript('IPython.notebook.execute_cells'))\n",
    "\n",
    "def on_click_next(change):\n",
    "    display(Javascript('IPython.notebook.execute_cells([IPython.notebook.get_selected_index()+1])'))\n",
    "    \n",
    "def on_click_7(change):\n",
    "    display(Javascript('IPython.notebook.execute_cells([7])'))\n",
    "\n",
    "def on_click_67(change):\n",
    "    display(Javascript('IPython.notebook.execute_cells([6,7])'))\n",
    "    \n",
    "def on_click_next_67(change):\n",
    "    display(Javascript('IPython.notebook.execute_cells([IPython.notebook.get_selected_index()+1,6,7])'))\n",
    "    \n",
    "# Function to plot error boxes\n",
    "def makeErrorBoxes(xdata,ydata,xerror,yerror,fc='None',ec='k',alpha=1.0,lw=1):\n",
    "    # Create list for all the error patches\n",
    "    errorboxes = []\n",
    "\n",
    "    # Loop over data points; create box from errors at each point\n",
    "    for xc,yc,xe,ye in zip(xdata,ydata,xerror.T,yerror.T):\n",
    "        rect = Rectangle((xc-xe[0],yc-ye[0]),xe.sum(),ye.sum())\n",
    "        errorboxes.append(rect)\n",
    "\n",
    "    # Create patch collection with specified colour/alpha\n",
    "    pc = PatchCollection(errorboxes,facecolor=fc,alpha=alpha,edgecolor=ec,linewidth=lw)\n",
    "\n",
    "    # Add collection to axes\n",
    "    ax.add_collection(pc)    \n",
    "\n",
    "def detector_colors(di):\n",
    "    #colors_list = ['b','g','r','c','m','y'] # Python 3 old default\n",
    "    #colors_list = ['#b2182b','#d6604d','#f4a582','#92c5de','#4393c3','#2166ac'] # blue to red cold\n",
    "    #colors_list = ['#d73027','#f46d43','#fdae61','#abd9e9','#74add1','#4575b4'] # blue to red warm\n",
    "    #colors_list = ['#762a83','#9970ab','#c2a5cf','#a6dba0','#5aae61','#1b7837'] # purple to green\n",
    "    #colors_list = ['#40004b','#762a83','#9970ab','#5aae61','#1b7837','#00441b'] # purple to green darker\n",
    "    #colors_list = [\"#afa83a\",\"#7f63b8\",\"#56ae6c\",\"#b84c7d\",\"#ac863f\",\"#b94d3d\"] # iWantHue 1\n",
    "    #colors_list = ['#1b9e77','#d95f02','#7570b3','#e7298a','#66a61e','#e6ab02'] # qualitative dark 1\n",
    "    colors_list = ['#e41a1c','#377eb8','#4daf4a','#984ea3','#ff7f00','#a65628'] # qualitative dark 2\n",
    "    return colors_list[di]\n",
    "    \n",
    "    \n",
    "    \n",
    "data_version = 'v7'\n",
    "\n",
    "metadata_file = 'metadata_matrix_' + data_version + '.npy'\n",
    "mm_metadata = np.load(metadata_file) # data set, ion species, ion energy, target material, target thickness, secondary particle, detector, header meta data\n",
    "exists_file = 'exists_matrix_' + data_version + '.npy'\n",
    "mm_exists = np.load(exists_file) # data set, ion species, ion energy, target material, target thickness, secondary particle, detector\n",
    "\n",
    "#values_file = 'values_matrix_' + data_version + '.npy'\n",
    "#mm_values = np.load(values_file) # data set, ion species, ion energy, target material, target thickness, secondary particle, detector, column values, energy bins\n",
    "\n",
    "#print(mm_metadata[0,0,0,0,0,0,0,0])\n",
    "\n",
    "projectile_sym_str = ['H', 'He', 'C', 'Si', 'Fe']\n",
    "projectile_longnames_str = ['Hydrogen', 'Helium', 'Carbon', 'Silicon', 'Iron']\n",
    "\n",
    "mm_values_names_list = []\n",
    "for i in range(5):\n",
    "    mm_values_names_list.append('values_matrix_' + projectile_sym_str[i].lower() + \"_\" + data_version + '.npy')\n",
    "\n",
    "is_label = widgets.Label(value=\"Select projectile ion species and energy.\")\n",
    "    \n",
    "ion_species = widgets.ToggleButtons(\n",
    "    options=projectile_sym_str,\n",
    "    description='Ion:',\n",
    "    disabled=False,\n",
    "    button_style='', # 'success', 'info', 'warning', 'danger' or ''\n",
    "    tooltips=projectile_longnames_str,\n",
    "#     icons=['check'] * 5\n",
    ")\n",
    "\n",
    "ion_species.observe(on_click_next_67, 'value')\n",
    "display(is_label,ion_species)\n"
   ]
  },
  {
   "cell_type": "code",
   "execution_count": 160,
   "metadata": {},
   "outputs": [
    {
     "data": {
      "application/vnd.jupyter.widget-view+json": {
       "model_id": "7cebe4c1a6574ff6880871b9e8a9045c",
       "version_major": 2,
       "version_minor": 0
      },
      "text/html": [
       "<p>Failed to display Jupyter Widget of type <code>ToggleButtons</code>.</p>\n",
       "<p>\n",
       "  If you're reading this message in the Jupyter Notebook or JupyterLab Notebook, it may mean\n",
       "  that the widgets JavaScript is still loading. If this message persists, it\n",
       "  likely means that the widgets JavaScript library is either not installed or\n",
       "  not enabled. See the <a href=\"https://ipywidgets.readthedocs.io/en/stable/user_install.html\">Jupyter\n",
       "  Widgets Documentation</a> for setup instructions.\n",
       "</p>\n",
       "<p>\n",
       "  If you're reading this message in another frontend (for example, a static\n",
       "  rendering on GitHub or <a href=\"https://nbviewer.jupyter.org/\">NBViewer</a>),\n",
       "  it may mean that your frontend doesn't currently support widgets.\n",
       "</p>\n"
      ],
      "text/plain": [
       "ToggleButtons(description='Energy:', options=('400 MeV', '800 MeV', '2500 MeV'), tooltips=['lowest energy', 'middle energy', 'highest energy'], value='400 MeV')"
      ]
     },
     "metadata": {},
     "output_type": "display_data"
    }
   ],
   "source": [
    "isi = find(ion_species.value,projectile_sym_str)\n",
    "mm_values = np.load(mm_values_names_list[isi])\n",
    "\n",
    "def erg_options(isi):\n",
    "    if isi == 0:\n",
    "        proj_E = ['400 MeV','800 MeV','2500 MeV']\n",
    "    else:\n",
    "        proj_E = ['400 MeV/n','800 MeV/n','1500 MeV/n']\n",
    "    return proj_E\n",
    "\n",
    "Projectile_E_tooltips = ['lowest energy','middle energy', 'highest energy']\n",
    "\n",
    "ie_label = widgets.Label(value=\"Select projectile ion energy.\")\n",
    "\n",
    "ion_energy = widgets.ToggleButtons(\n",
    "    options=erg_options(isi),\n",
    "    description='Energy:',\n",
    "    disabled=False,\n",
    "    button_style='', # 'success', 'info', 'warning', 'danger' or ''\n",
    "    tooltips=Projectile_E_tooltips,\n",
    "#     icons=['check'] * 5\n",
    ")\n",
    "\n",
    "ion_energy.observe(on_click_67, 'value')\n",
    "#display(ie_label, ion_energy)\n",
    "display(ion_energy)\n"
   ]
  },
  {
   "cell_type": "code",
   "execution_count": 161,
   "metadata": {},
   "outputs": [
    {
     "data": {
      "application/vnd.jupyter.widget-view+json": {
       "model_id": "1902eba716b74c90bbd59002c4fa7e7e",
       "version_major": 2,
       "version_minor": 0
      },
      "text/html": [
       "<p>Failed to display Jupyter Widget of type <code>Label</code>.</p>\n",
       "<p>\n",
       "  If you're reading this message in the Jupyter Notebook or JupyterLab Notebook, it may mean\n",
       "  that the widgets JavaScript is still loading. If this message persists, it\n",
       "  likely means that the widgets JavaScript library is either not installed or\n",
       "  not enabled. See the <a href=\"https://ipywidgets.readthedocs.io/en/stable/user_install.html\">Jupyter\n",
       "  Widgets Documentation</a> for setup instructions.\n",
       "</p>\n",
       "<p>\n",
       "  If you're reading this message in another frontend (for example, a static\n",
       "  rendering on GitHub or <a href=\"https://nbviewer.jupyter.org/\">NBViewer</a>),\n",
       "  it may mean that your frontend doesn't currently support widgets.\n",
       "</p>\n"
      ],
      "text/plain": [
       "Label(value='Select upstream target material and thickness.')"
      ]
     },
     "metadata": {},
     "output_type": "display_data"
    },
    {
     "data": {
      "application/vnd.jupyter.widget-view+json": {
       "model_id": "1f4ce312528a4c30b50ca96cd4811801",
       "version_major": 2,
       "version_minor": 0
      },
      "text/html": [
       "<p>Failed to display Jupyter Widget of type <code>ToggleButtons</code>.</p>\n",
       "<p>\n",
       "  If you're reading this message in the Jupyter Notebook or JupyterLab Notebook, it may mean\n",
       "  that the widgets JavaScript is still loading. If this message persists, it\n",
       "  likely means that the widgets JavaScript library is either not installed or\n",
       "  not enabled. See the <a href=\"https://ipywidgets.readthedocs.io/en/stable/user_install.html\">Jupyter\n",
       "  Widgets Documentation</a> for setup instructions.\n",
       "</p>\n",
       "<p>\n",
       "  If you're reading this message in another frontend (for example, a static\n",
       "  rendering on GitHub or <a href=\"https://nbviewer.jupyter.org/\">NBViewer</a>),\n",
       "  it may mean that your frontend doesn't currently support widgets.\n",
       "</p>\n"
      ],
      "text/plain": [
       "ToggleButtons(description='Material:', options=('Al', 'HDPE', 'AlPE'), tooltips=['Aluminum', 'Polyethylene', 'Combination of Al and HDPE'], value='Al')"
      ]
     },
     "metadata": {},
     "output_type": "display_data"
    }
   ],
   "source": [
    "isi = find(ion_species.value,projectile_sym_str)\n",
    "iei = find(ion_energy.value,erg_options(isi))\n",
    "\n",
    "target_mats_long = ['Aluminum','Polyethylene','Combination of Al and HDPE']\n",
    "target_mats_short = ['Al','HDPE','AlPE']\n",
    "\n",
    "tm_label = widgets.Label(value=\"Select upstream target material and thickness.\")\n",
    "\n",
    "target_material = widgets.ToggleButtons(\n",
    "    options=target_mats_short,\n",
    "    description='Material:',\n",
    "    disabled=False,\n",
    "    button_style='', # 'success', 'info', 'warning', 'danger' or ''\n",
    "    tooltips=target_mats_long,\n",
    "#     icons=['check'] * 3\n",
    ")\n",
    "\n",
    "target_material.observe(on_click_next_67, 'value')\n",
    "display(tm_label, target_material)"
   ]
  },
  {
   "cell_type": "code",
   "execution_count": 162,
   "metadata": {},
   "outputs": [
    {
     "data": {
      "application/vnd.jupyter.widget-view+json": {
       "model_id": "b92f010ba6644ef09f689749aaef6c55",
       "version_major": 2,
       "version_minor": 0
      },
      "text/html": [
       "<p>Failed to display Jupyter Widget of type <code>ToggleButtons</code>.</p>\n",
       "<p>\n",
       "  If you're reading this message in the Jupyter Notebook or JupyterLab Notebook, it may mean\n",
       "  that the widgets JavaScript is still loading. If this message persists, it\n",
       "  likely means that the widgets JavaScript library is either not installed or\n",
       "  not enabled. See the <a href=\"https://ipywidgets.readthedocs.io/en/stable/user_install.html\">Jupyter\n",
       "  Widgets Documentation</a> for setup instructions.\n",
       "</p>\n",
       "<p>\n",
       "  If you're reading this message in another frontend (for example, a static\n",
       "  rendering on GitHub or <a href=\"https://nbviewer.jupyter.org/\">NBViewer</a>),\n",
       "  it may mean that your frontend doesn't currently support widgets.\n",
       "</p>\n"
      ],
      "text/plain": [
       "ToggleButtons(description='Thickness:', options=('20 g/cm²', '40 g/cm²', '60 g/cm²'), tooltips=['20 g/cm² Aluminum', '40 g/cm² Aluminum', '60 g/cm² Aluminum'], value='20 g/cm²')"
      ]
     },
     "metadata": {},
     "output_type": "display_data"
    }
   ],
   "source": [
    "isi = find(ion_species.value,projectile_sym_str)\n",
    "iei = find(ion_energy.value,erg_options(isi))\n",
    "ftmi = find(target_material.value,target_mats_short)\n",
    "thicknesses = ['20 g/cm\\u00B2','40 g/cm\\u00B2','60 g/cm\\u00B2']\n",
    "def thickness_options(ftmi):\n",
    "    if ftmi == 2:\n",
    "        thicknesses = ['20 g/cm\\u00B2','60 g/cm\\u00B2']\n",
    "        thick_mouseover = ['10 g/cm\\u00B2 Al upstream + 10 g/cm\\u00B2 HDPE downstream','10 g/cm\\u00B2 Al upstream + 50 g/cm\\u00B2 HDPE downstream']\n",
    "    else:\n",
    "        thicknesses = ['20 g/cm\\u00B2','40 g/cm\\u00B2','60 g/cm\\u00B2']\n",
    "        thick_mouseover = ['20 g/cm\\u00B2 '+target_mats_long[ftmi],'40 g/cm\\u00B2 '+target_mats_long[ftmi],'60 g/cm\\u00B2 '+target_mats_long[ftmi]]\n",
    "    return thicknesses, thick_mouseover\n",
    "\n",
    "tt_label = widgets.Label(value=\"Select upstream target mass thickness.\")\n",
    "\n",
    "target_thickness = widgets.ToggleButtons(\n",
    "    options=thickness_options(ftmi)[0],\n",
    "    description='Thickness:',\n",
    "    disabled=False,\n",
    "    button_style='', # 'success', 'info', 'warning', 'danger' or ''\n",
    "    tooltips=thickness_options(ftmi)[1],\n",
    "#     icons=['check'] * 3\n",
    ")\n",
    "\n",
    "target_thickness.observe(on_click_67, 'value')\n",
    "#display(tt_label, target_thickness)\n",
    "display(target_thickness)"
   ]
  },
  {
   "cell_type": "code",
   "execution_count": 163,
   "metadata": {},
   "outputs": [
    {
     "data": {
      "application/vnd.jupyter.widget-view+json": {
       "model_id": "cce19528bb244a56bb26001c0f9ab56b",
       "version_major": 2,
       "version_minor": 0
      },
      "text/html": [
       "<p>Failed to display Jupyter Widget of type <code>Label</code>.</p>\n",
       "<p>\n",
       "  If you're reading this message in the Jupyter Notebook or JupyterLab Notebook, it may mean\n",
       "  that the widgets JavaScript is still loading. If this message persists, it\n",
       "  likely means that the widgets JavaScript library is either not installed or\n",
       "  not enabled. See the <a href=\"https://ipywidgets.readthedocs.io/en/stable/user_install.html\">Jupyter\n",
       "  Widgets Documentation</a> for setup instructions.\n",
       "</p>\n",
       "<p>\n",
       "  If you're reading this message in another frontend (for example, a static\n",
       "  rendering on GitHub or <a href=\"https://nbviewer.jupyter.org/\">NBViewer</a>),\n",
       "  it may mean that your frontend doesn't currently support widgets.\n",
       "</p>\n"
      ],
      "text/plain": [
       "Label(value='Select a detector type.')"
      ]
     },
     "metadata": {},
     "output_type": "display_data"
    },
    {
     "data": {
      "application/vnd.jupyter.widget-view+json": {
       "model_id": "19ecf35209604accb1c26bee4e7667e4",
       "version_major": 2,
       "version_minor": 0
      },
      "text/html": [
       "<p>Failed to display Jupyter Widget of type <code>ToggleButtons</code>.</p>\n",
       "<p>\n",
       "  If you're reading this message in the Jupyter Notebook or JupyterLab Notebook, it may mean\n",
       "  that the widgets JavaScript is still loading. If this message persists, it\n",
       "  likely means that the widgets JavaScript library is either not installed or\n",
       "  not enabled. See the <a href=\"https://ipywidgets.readthedocs.io/en/stable/user_install.html\">Jupyter\n",
       "  Widgets Documentation</a> for setup instructions.\n",
       "</p>\n",
       "<p>\n",
       "  If you're reading this message in another frontend (for example, a static\n",
       "  rendering on GitHub or <a href=\"https://nbviewer.jupyter.org/\">NBViewer</a>),\n",
       "  it may mean that your frontend doesn't currently support widgets.\n",
       "</p>\n"
      ],
      "text/plain": [
       "ToggleButtons(description='Type:', options=('OLS', 'NaI'), tooltips=['Organic Liquid Scintillator', 'Sodium Iodide'], value='OLS')"
      ]
     },
     "metadata": {},
     "output_type": "display_data"
    }
   ],
   "source": [
    "isi = find(ion_species.value,projectile_sym_str)\n",
    "iei = find(ion_energy.value,erg_options(isi))\n",
    "ftmi = find(target_material.value,target_mats_short)\n",
    "ftti = find(target_thickness.value,thicknesses)\n",
    "\n",
    "detectors_short = ['OLS','NaI']\n",
    "detectors_long = ['Organic Liquid Scintillator','Sodium Iodide']\n",
    "\n",
    "dt_label = widgets.Label(value=\"Select a detector type.\")\n",
    "\n",
    "detector_type = widgets.ToggleButtons(\n",
    "    options=detectors_short,\n",
    "    description='Type:',\n",
    "    disabled=False,\n",
    "    button_style='', # 'success', 'info', 'warning', 'danger' or ''\n",
    "    tooltips=detectors_long,\n",
    "#     icons=['check'] * 3\n",
    ")\n",
    "\n",
    "detector_type.observe(on_click_67, 'value')\n",
    "display(dt_label,detector_type)"
   ]
  },
  {
   "cell_type": "code",
   "execution_count": 164,
   "metadata": {},
   "outputs": [
    {
     "data": {
      "application/vnd.jupyter.widget-view+json": {
       "model_id": "d12d91af368c443586afb28670757a6d",
       "version_major": 2,
       "version_minor": 0
      },
      "text/html": [
       "<p>Failed to display Jupyter Widget of type <code>Label</code>.</p>\n",
       "<p>\n",
       "  If you're reading this message in the Jupyter Notebook or JupyterLab Notebook, it may mean\n",
       "  that the widgets JavaScript is still loading. If this message persists, it\n",
       "  likely means that the widgets JavaScript library is either not installed or\n",
       "  not enabled. See the <a href=\"https://ipywidgets.readthedocs.io/en/stable/user_install.html\">Jupyter\n",
       "  Widgets Documentation</a> for setup instructions.\n",
       "</p>\n",
       "<p>\n",
       "  If you're reading this message in another frontend (for example, a static\n",
       "  rendering on GitHub or <a href=\"https://nbviewer.jupyter.org/\">NBViewer</a>),\n",
       "  it may mean that your frontend doesn't currently support widgets.\n",
       "</p>\n"
      ],
      "text/plain": [
       "Label(value='Select which secondary particle to plot spectra for.')"
      ]
     },
     "metadata": {},
     "output_type": "display_data"
    },
    {
     "data": {
      "application/vnd.jupyter.widget-view+json": {
       "model_id": "1ed0243d19a140a795e7c835cce9e2ab",
       "version_major": 2,
       "version_minor": 0
      },
      "text/html": [
       "<p>Failed to display Jupyter Widget of type <code>ToggleButtons</code>.</p>\n",
       "<p>\n",
       "  If you're reading this message in the Jupyter Notebook or JupyterLab Notebook, it may mean\n",
       "  that the widgets JavaScript is still loading. If this message persists, it\n",
       "  likely means that the widgets JavaScript library is either not installed or\n",
       "  not enabled. See the <a href=\"https://ipywidgets.readthedocs.io/en/stable/user_install.html\">Jupyter\n",
       "  Widgets Documentation</a> for setup instructions.\n",
       "</p>\n",
       "<p>\n",
       "  If you're reading this message in another frontend (for example, a static\n",
       "  rendering on GitHub or <a href=\"https://nbviewer.jupyter.org/\">NBViewer</a>),\n",
       "  it may mean that your frontend doesn't currently support widgets.\n",
       "</p>\n"
      ],
      "text/plain": [
       "ToggleButtons(description='Particle:', options=('N (¹n)', 'NDC (¹n)', 'P (¹H)', 'D (²H)'), tooltips=['Neutron', 'Back Target Neutron', 'Proton', 'Deuteron'], value='N (¹n)')"
      ]
     },
     "metadata": {},
     "output_type": "display_data"
    }
   ],
   "source": [
    "isi = find(ion_species.value,projectile_sym_str)\n",
    "iei = find(ion_energy.value,erg_options(isi))\n",
    "ftmi = find(target_material.value,target_mats_short)\n",
    "ftti = find(target_thickness.value,thicknesses)\n",
    "detti = find(detector_type.value,detectors_short)\n",
    "if detti==1: \n",
    "    add2deti = 6 # offset in matrix for NaI detectors\n",
    "else:\n",
    "    add2deti = 0 \n",
    "\n",
    "# See which secondary particles exist\n",
    "existing_pars_i = []\n",
    "for i in range(np.shape(mm_exists[0,isi,iei,ftmi,ftti,:,add2deti:(add2deti+6)])[0]):\n",
    "    if np.any(mm_exists[0,isi,iei,ftmi,ftti,i,add2deti:(add2deti+6)]):\n",
    "        existing_pars_i.append(i)\n",
    "        \n",
    "particles_long = ['Neutron','Back Target Neutron','Proton','Deuteron','Triton','Helium-3','Helium-4'] # second 'Neutron' can be renamed to specify deconvoluted origin\n",
    "particles_short = ['N','NDC','H','D','T','S','A']\n",
    "particles_med = ['N (\\u00B9n)','NDC (\\u00B9n)','P (\\u00B9H)','D (\\u00B2H)','T (\\u00B3H)','S (\\u00B3He)','A (\\u2074He)']\n",
    "\n",
    "present_pars_long = [particles_long[i] for i in existing_pars_i]\n",
    "present_pars_med = [particles_med[i] for i in existing_pars_i]\n",
    "\n",
    "sp_label = widgets.Label(value=\"Select which secondary particle to plot spectra for.\")\n",
    "\n",
    "secondary_particle = widgets.ToggleButtons(\n",
    "    options=present_pars_med,\n",
    "    description='Particle:',\n",
    "    disabled=False,\n",
    "    button_style='', # 'success', 'info', 'warning', 'danger' or ''\n",
    "    tooltips=present_pars_long,\n",
    "#     icons=['check'] * 3\n",
    ")\n",
    "\n",
    "secondary_particle.observe(on_click_next, 'value')\n",
    "display(sp_label,secondary_particle)\n"
   ]
  },
  {
   "cell_type": "code",
   "execution_count": 165,
   "metadata": {},
   "outputs": [
    {
     "data": {
      "application/vnd.jupyter.widget-view+json": {
       "model_id": "92f2d639f6fa407dbcd48928ff1edcf4",
       "version_major": 2,
       "version_minor": 0
      },
      "text/html": [
       "<p>Failed to display Jupyter Widget of type <code>Label</code>.</p>\n",
       "<p>\n",
       "  If you're reading this message in the Jupyter Notebook or JupyterLab Notebook, it may mean\n",
       "  that the widgets JavaScript is still loading. If this message persists, it\n",
       "  likely means that the widgets JavaScript library is either not installed or\n",
       "  not enabled. See the <a href=\"https://ipywidgets.readthedocs.io/en/stable/user_install.html\">Jupyter\n",
       "  Widgets Documentation</a> for setup instructions.\n",
       "</p>\n",
       "<p>\n",
       "  If you're reading this message in another frontend (for example, a static\n",
       "  rendering on GitHub or <a href=\"https://nbviewer.jupyter.org/\">NBViewer</a>),\n",
       "  it may mean that your frontend doesn't currently support widgets.\n",
       "</p>\n"
      ],
      "text/plain": [
       "Label(value='Select the detector angles to plot.')"
      ]
     },
     "metadata": {},
     "output_type": "display_data"
    },
    {
     "data": {
      "application/vnd.jupyter.widget-view+json": {
       "model_id": "acbc4bb96b4c494ab595aaeafc032f58",
       "version_major": 2,
       "version_minor": 0
      },
      "text/html": [
       "<p>Failed to display Jupyter Widget of type <code>Checkbox</code>.</p>\n",
       "<p>\n",
       "  If you're reading this message in the Jupyter Notebook or JupyterLab Notebook, it may mean\n",
       "  that the widgets JavaScript is still loading. If this message persists, it\n",
       "  likely means that the widgets JavaScript library is either not installed or\n",
       "  not enabled. See the <a href=\"https://ipywidgets.readthedocs.io/en/stable/user_install.html\">Jupyter\n",
       "  Widgets Documentation</a> for setup instructions.\n",
       "</p>\n",
       "<p>\n",
       "  If you're reading this message in another frontend (for example, a static\n",
       "  rendering on GitHub or <a href=\"https://nbviewer.jupyter.org/\">NBViewer</a>),\n",
       "  it may mean that your frontend doesn't currently support widgets.\n",
       "</p>\n"
      ],
      "text/plain": [
       "Checkbox(value=True, description='10°')"
      ]
     },
     "metadata": {},
     "output_type": "display_data"
    },
    {
     "data": {
      "application/vnd.jupyter.widget-view+json": {
       "model_id": "28915be44f144a8b8768044bbba38930",
       "version_major": 2,
       "version_minor": 0
      },
      "text/html": [
       "<p>Failed to display Jupyter Widget of type <code>Checkbox</code>.</p>\n",
       "<p>\n",
       "  If you're reading this message in the Jupyter Notebook or JupyterLab Notebook, it may mean\n",
       "  that the widgets JavaScript is still loading. If this message persists, it\n",
       "  likely means that the widgets JavaScript library is either not installed or\n",
       "  not enabled. See the <a href=\"https://ipywidgets.readthedocs.io/en/stable/user_install.html\">Jupyter\n",
       "  Widgets Documentation</a> for setup instructions.\n",
       "</p>\n",
       "<p>\n",
       "  If you're reading this message in another frontend (for example, a static\n",
       "  rendering on GitHub or <a href=\"https://nbviewer.jupyter.org/\">NBViewer</a>),\n",
       "  it may mean that your frontend doesn't currently support widgets.\n",
       "</p>\n"
      ],
      "text/plain": [
       "Checkbox(value=True, description='30°')"
      ]
     },
     "metadata": {},
     "output_type": "display_data"
    },
    {
     "data": {
      "application/vnd.jupyter.widget-view+json": {
       "model_id": "9796719f62764bd8bbf944fa40f90650",
       "version_major": 2,
       "version_minor": 0
      },
      "text/html": [
       "<p>Failed to display Jupyter Widget of type <code>Checkbox</code>.</p>\n",
       "<p>\n",
       "  If you're reading this message in the Jupyter Notebook or JupyterLab Notebook, it may mean\n",
       "  that the widgets JavaScript is still loading. If this message persists, it\n",
       "  likely means that the widgets JavaScript library is either not installed or\n",
       "  not enabled. See the <a href=\"https://ipywidgets.readthedocs.io/en/stable/user_install.html\">Jupyter\n",
       "  Widgets Documentation</a> for setup instructions.\n",
       "</p>\n",
       "<p>\n",
       "  If you're reading this message in another frontend (for example, a static\n",
       "  rendering on GitHub or <a href=\"https://nbviewer.jupyter.org/\">NBViewer</a>),\n",
       "  it may mean that your frontend doesn't currently support widgets.\n",
       "</p>\n"
      ],
      "text/plain": [
       "Checkbox(value=True, description='45°')"
      ]
     },
     "metadata": {},
     "output_type": "display_data"
    },
    {
     "data": {
      "application/vnd.jupyter.widget-view+json": {
       "model_id": "c1cd48b836b04ac39da55e011f815606",
       "version_major": 2,
       "version_minor": 0
      },
      "text/html": [
       "<p>Failed to display Jupyter Widget of type <code>Checkbox</code>.</p>\n",
       "<p>\n",
       "  If you're reading this message in the Jupyter Notebook or JupyterLab Notebook, it may mean\n",
       "  that the widgets JavaScript is still loading. If this message persists, it\n",
       "  likely means that the widgets JavaScript library is either not installed or\n",
       "  not enabled. See the <a href=\"https://ipywidgets.readthedocs.io/en/stable/user_install.html\">Jupyter\n",
       "  Widgets Documentation</a> for setup instructions.\n",
       "</p>\n",
       "<p>\n",
       "  If you're reading this message in another frontend (for example, a static\n",
       "  rendering on GitHub or <a href=\"https://nbviewer.jupyter.org/\">NBViewer</a>),\n",
       "  it may mean that your frontend doesn't currently support widgets.\n",
       "</p>\n"
      ],
      "text/plain": [
       "Checkbox(value=True, description='60°')"
      ]
     },
     "metadata": {},
     "output_type": "display_data"
    },
    {
     "data": {
      "application/vnd.jupyter.widget-view+json": {
       "model_id": "12dad28b0128407b921fd9caa9fb30b1",
       "version_major": 2,
       "version_minor": 0
      },
      "text/html": [
       "<p>Failed to display Jupyter Widget of type <code>Checkbox</code>.</p>\n",
       "<p>\n",
       "  If you're reading this message in the Jupyter Notebook or JupyterLab Notebook, it may mean\n",
       "  that the widgets JavaScript is still loading. If this message persists, it\n",
       "  likely means that the widgets JavaScript library is either not installed or\n",
       "  not enabled. See the <a href=\"https://ipywidgets.readthedocs.io/en/stable/user_install.html\">Jupyter\n",
       "  Widgets Documentation</a> for setup instructions.\n",
       "</p>\n",
       "<p>\n",
       "  If you're reading this message in another frontend (for example, a static\n",
       "  rendering on GitHub or <a href=\"https://nbviewer.jupyter.org/\">NBViewer</a>),\n",
       "  it may mean that your frontend doesn't currently support widgets.\n",
       "</p>\n"
      ],
      "text/plain": [
       "Checkbox(value=True, description='80°')"
      ]
     },
     "metadata": {},
     "output_type": "display_data"
    },
    {
     "data": {
      "application/vnd.jupyter.widget-view+json": {
       "model_id": "835d7d9788b141e0a8c4c72567a0dbba",
       "version_major": 2,
       "version_minor": 0
      },
      "text/html": [
       "<p>Failed to display Jupyter Widget of type <code>Checkbox</code>.</p>\n",
       "<p>\n",
       "  If you're reading this message in the Jupyter Notebook or JupyterLab Notebook, it may mean\n",
       "  that the widgets JavaScript is still loading. If this message persists, it\n",
       "  likely means that the widgets JavaScript library is either not installed or\n",
       "  not enabled. See the <a href=\"https://ipywidgets.readthedocs.io/en/stable/user_install.html\">Jupyter\n",
       "  Widgets Documentation</a> for setup instructions.\n",
       "</p>\n",
       "<p>\n",
       "  If you're reading this message in another frontend (for example, a static\n",
       "  rendering on GitHub or <a href=\"https://nbviewer.jupyter.org/\">NBViewer</a>),\n",
       "  it may mean that your frontend doesn't currently support widgets.\n",
       "</p>\n"
      ],
      "text/plain": [
       "Checkbox(value=True, description='135°')"
      ]
     },
     "metadata": {},
     "output_type": "display_data"
    }
   ],
   "source": [
    "isi = find(ion_species.value,projectile_sym_str)\n",
    "iei = find(ion_energy.value,erg_options(isi))\n",
    "ftmi = find(target_material.value,target_mats_short)\n",
    "ftti = find(target_thickness.value,thicknesses)\n",
    "detti = find(detector_type.value,detectors_short)\n",
    "spi = find(secondary_particle.value,particles_med)\n",
    "\n",
    "detectors_angles = [['10\\u00B0','30\\u00B0','45\\u00B0','60\\u00B0','80\\u00B0','135\\u00B0'], ['7.2\\u00B0','10\\u00B0','12.7\\u00B0','28.2\\u00B0','30\\u00B0','32.7\\u00B0']]\n",
    "available_det_angles = []\n",
    "\n",
    "da_label = widgets.Label(value=\"Select the detector angles to plot.\")\n",
    "\n",
    "dets = []\n",
    "for i in range(6):\n",
    "    if mm_exists[0,isi,iei,ftmi,ftti,spi,(add2deti+i)]:\n",
    "        available_det_angles.append(detectors_angles[detti][i])\n",
    "        dets.append(widgets.Checkbox(\n",
    "            value=True,\n",
    "            description=detectors_angles[detti][i],\n",
    "            disabled=False\n",
    "        ))\n",
    "\n",
    "display(da_label)\n",
    "for i in range(len(dets)):\n",
    "    display(dets[i])"
   ]
  },
  {
   "cell_type": "code",
   "execution_count": 166,
   "metadata": {},
   "outputs": [
    {
     "data": {
      "application/vnd.jupyter.widget-view+json": {
       "model_id": "b29216362c6d460ab5757f977fc97956",
       "version_major": 2,
       "version_minor": 0
      },
      "text/html": [
       "<p>Failed to display Jupyter Widget of type <code>Label</code>.</p>\n",
       "<p>\n",
       "  If you're reading this message in the Jupyter Notebook or JupyterLab Notebook, it may mean\n",
       "  that the widgets JavaScript is still loading. If this message persists, it\n",
       "  likely means that the widgets JavaScript library is either not installed or\n",
       "  not enabled. See the <a href=\"https://ipywidgets.readthedocs.io/en/stable/user_install.html\">Jupyter\n",
       "  Widgets Documentation</a> for setup instructions.\n",
       "</p>\n",
       "<p>\n",
       "  If you're reading this message in another frontend (for example, a static\n",
       "  rendering on GitHub or <a href=\"https://nbviewer.jupyter.org/\">NBViewer</a>),\n",
       "  it may mean that your frontend doesn't currently support widgets.\n",
       "</p>\n"
      ],
      "text/plain": [
       "Label(value='Select which sets of data to display.')"
      ]
     },
     "metadata": {},
     "output_type": "display_data"
    },
    {
     "data": {
      "application/vnd.jupyter.widget-view+json": {
       "model_id": "283922567ec24a658832eb328a06242b",
       "version_major": 2,
       "version_minor": 0
      },
      "text/html": [
       "<p>Failed to display Jupyter Widget of type <code>Checkbox</code>.</p>\n",
       "<p>\n",
       "  If you're reading this message in the Jupyter Notebook or JupyterLab Notebook, it may mean\n",
       "  that the widgets JavaScript is still loading. If this message persists, it\n",
       "  likely means that the widgets JavaScript library is either not installed or\n",
       "  not enabled. See the <a href=\"https://ipywidgets.readthedocs.io/en/stable/user_install.html\">Jupyter\n",
       "  Widgets Documentation</a> for setup instructions.\n",
       "</p>\n",
       "<p>\n",
       "  If you're reading this message in another frontend (for example, a static\n",
       "  rendering on GitHub or <a href=\"https://nbviewer.jupyter.org/\">NBViewer</a>),\n",
       "  it may mean that your frontend doesn't currently support widgets.\n",
       "</p>\n"
      ],
      "text/plain": [
       "Checkbox(value=True, description='Experiment')"
      ]
     },
     "metadata": {},
     "output_type": "display_data"
    },
    {
     "data": {
      "application/vnd.jupyter.widget-view+json": {
       "model_id": "38784f7386d84206aa346839bfd48dd1",
       "version_major": 2,
       "version_minor": 0
      },
      "text/html": [
       "<p>Failed to display Jupyter Widget of type <code>Checkbox</code>.</p>\n",
       "<p>\n",
       "  If you're reading this message in the Jupyter Notebook or JupyterLab Notebook, it may mean\n",
       "  that the widgets JavaScript is still loading. If this message persists, it\n",
       "  likely means that the widgets JavaScript library is either not installed or\n",
       "  not enabled. See the <a href=\"https://ipywidgets.readthedocs.io/en/stable/user_install.html\">Jupyter\n",
       "  Widgets Documentation</a> for setup instructions.\n",
       "</p>\n",
       "<p>\n",
       "  If you're reading this message in another frontend (for example, a static\n",
       "  rendering on GitHub or <a href=\"https://nbviewer.jupyter.org/\">NBViewer</a>),\n",
       "  it may mean that your frontend doesn't currently support widgets.\n",
       "</p>\n"
      ],
      "text/plain": [
       "Checkbox(value=True, description='MCNP simulated')"
      ]
     },
     "metadata": {},
     "output_type": "display_data"
    },
    {
     "data": {
      "application/vnd.jupyter.widget-view+json": {
       "model_id": "2bc9da5c0a8f480d89a14f33d0641517",
       "version_major": 2,
       "version_minor": 0
      },
      "text/html": [
       "<p>Failed to display Jupyter Widget of type <code>Checkbox</code>.</p>\n",
       "<p>\n",
       "  If you're reading this message in the Jupyter Notebook or JupyterLab Notebook, it may mean\n",
       "  that the widgets JavaScript is still loading. If this message persists, it\n",
       "  likely means that the widgets JavaScript library is either not installed or\n",
       "  not enabled. See the <a href=\"https://ipywidgets.readthedocs.io/en/stable/user_install.html\">Jupyter\n",
       "  Widgets Documentation</a> for setup instructions.\n",
       "</p>\n",
       "<p>\n",
       "  If you're reading this message in another frontend (for example, a static\n",
       "  rendering on GitHub or <a href=\"https://nbviewer.jupyter.org/\">NBViewer</a>),\n",
       "  it may mean that your frontend doesn't currently support widgets.\n",
       "</p>\n"
      ],
      "text/plain": [
       "Checkbox(value=True, description='PHITS simulated')"
      ]
     },
     "metadata": {},
     "output_type": "display_data"
    }
   ],
   "source": [
    "isi = find(ion_species.value,projectile_sym_str)\n",
    "iei = find(ion_energy.value,erg_options(isi))\n",
    "ftmi = find(target_material.value,target_mats_short)\n",
    "ftti = find(target_thickness.value,thicknesses)\n",
    "detti = find(detector_type.value,detectors_short)\n",
    "spi = find(secondary_particle.value,particles_med)\n",
    "\n",
    "det_angle_i_list = []\n",
    "for i in range(len(available_det_angles)):\n",
    "    if dets[i].value:\n",
    "        if detti == 0:\n",
    "            det_angle_i_list.append(find(available_det_angles[i],detectors_angles[detti]))\n",
    "        else:\n",
    "            det_angle_i_list.append(find(available_det_angles[i],detectors_angles[detti])+6) # for NaI\n",
    "\n",
    "ds_label = widgets.Label(value='Select which sets of data to display.')            \n",
    "\n",
    "data_set_names = ['Experiment','MCNP simulated','PHITS simulated']\n",
    "data_sets = []\n",
    "for i in range(3):\n",
    "    data_sets.append(widgets.Checkbox(\n",
    "        value=True,\n",
    "        description=data_set_names[i],\n",
    "        disabled=False\n",
    "    ))\n",
    "\n",
    "display(ds_label)\n",
    "for i in range(3):\n",
    "    display(data_sets[i])\n",
    "\n"
   ]
  },
  {
   "cell_type": "code",
   "execution_count": 167,
   "metadata": {},
   "outputs": [
    {
     "data": {
      "application/vnd.jupyter.widget-view+json": {
       "model_id": "2ec3f5d8d41943d7aaab4f5b79048404",
       "version_major": 2,
       "version_minor": 0
      },
      "text/html": [
       "<p>Failed to display Jupyter Widget of type <code>Label</code>.</p>\n",
       "<p>\n",
       "  If you're reading this message in the Jupyter Notebook or JupyterLab Notebook, it may mean\n",
       "  that the widgets JavaScript is still loading. If this message persists, it\n",
       "  likely means that the widgets JavaScript library is either not installed or\n",
       "  not enabled. See the <a href=\"https://ipywidgets.readthedocs.io/en/stable/user_install.html\">Jupyter\n",
       "  Widgets Documentation</a> for setup instructions.\n",
       "</p>\n",
       "<p>\n",
       "  If you're reading this message in another frontend (for example, a static\n",
       "  rendering on GitHub or <a href=\"https://nbviewer.jupyter.org/\">NBViewer</a>),\n",
       "  it may mean that your frontend doesn't currently support widgets.\n",
       "</p>\n"
      ],
      "text/plain": [
       "Label(value='Select how data sets for each detector should be spaced apart (if at all).')"
      ]
     },
     "metadata": {},
     "output_type": "display_data"
    },
    {
     "data": {
      "application/vnd.jupyter.widget-view+json": {
       "model_id": "06ffd4f5627f4e9aa530d9ff2d701525",
       "version_major": 2,
       "version_minor": 0
      },
      "text/html": [
       "<p>Failed to display Jupyter Widget of type <code>ToggleButtons</code>.</p>\n",
       "<p>\n",
       "  If you're reading this message in the Jupyter Notebook or JupyterLab Notebook, it may mean\n",
       "  that the widgets JavaScript is still loading. If this message persists, it\n",
       "  likely means that the widgets JavaScript library is either not installed or\n",
       "  not enabled. See the <a href=\"https://ipywidgets.readthedocs.io/en/stable/user_install.html\">Jupyter\n",
       "  Widgets Documentation</a> for setup instructions.\n",
       "</p>\n",
       "<p>\n",
       "  If you're reading this message in another frontend (for example, a static\n",
       "  rendering on GitHub or <a href=\"https://nbviewer.jupyter.org/\">NBViewer</a>),\n",
       "  it may mean that your frontend doesn't currently support widgets.\n",
       "</p>\n"
      ],
      "text/plain": [
       "ToggleButtons(description='Spacing:', options=('None', 'Spaced by 10²'), tooltips=['All values are presented as is.', 'Plots for different detectors are multiplied by powers of 10² for easier viewing.'], value='None')"
      ]
     },
     "metadata": {},
     "output_type": "display_data"
    }
   ],
   "source": [
    "isi = find(ion_species.value,projectile_sym_str)\n",
    "iei = find(ion_energy.value,erg_options(isi))\n",
    "ftmi = find(target_material.value,target_mats_short)\n",
    "ftti = find(target_thickness.value,thicknesses)\n",
    "detti = find(detector_type.value,detectors_short)\n",
    "spi = find(secondary_particle.value,particles_med)\n",
    "\n",
    "det_angle_i_list = []\n",
    "for i in range(len(available_det_angles)):\n",
    "    if dets[i].value:\n",
    "        if detti == 0:\n",
    "            det_angle_i_list.append(find(available_det_angles[i],detectors_angles[detti]))\n",
    "        else:\n",
    "            det_angle_i_list.append(find(available_det_angles[i],detectors_angles[detti])+6) # for NaI\n",
    "            \n",
    "data_set_i_list = []\n",
    "for i in range(3):\n",
    "    if data_sets[i].value:\n",
    "        data_set_i_list.append(i)\n",
    "\n",
    "spacing_short = ['None','Spaced by 10\\u00B2']\n",
    "spacing_long = ['All values are presented as is.','Plots for different detectors are multiplied by powers of 10\\u00B2 for easier viewing.']\n",
    "\n",
    "spacing_label = widgets.Label(value='Select how data sets for each detector should be spaced apart (if at all).')  \n",
    "\n",
    "spacing_choice = widgets.ToggleButtons(\n",
    "    options=spacing_short,\n",
    "    description='Spacing:',\n",
    "    disabled=False,\n",
    "    button_style='', # 'success', 'info', 'warning', 'danger' or ''\n",
    "    tooltips=spacing_long,\n",
    "#     icons=['check'] * 3\n",
    ")\n",
    "\n",
    "spacing_choice.observe(on_click_next, 'value')\n",
    "display(spacing_label, spacing_choice)"
   ]
  },
  {
   "cell_type": "code",
   "execution_count": 168,
   "metadata": {},
   "outputs": [
    {
     "data": {
      "application/vnd.jupyter.widget-view+json": {
       "model_id": "5879180fc1bd49a09297167b29351d56",
       "version_major": 2,
       "version_minor": 0
      },
      "text/html": [
       "<p>Failed to display Jupyter Widget of type <code>Button</code>.</p>\n",
       "<p>\n",
       "  If you're reading this message in the Jupyter Notebook or JupyterLab Notebook, it may mean\n",
       "  that the widgets JavaScript is still loading. If this message persists, it\n",
       "  likely means that the widgets JavaScript library is either not installed or\n",
       "  not enabled. See the <a href=\"https://ipywidgets.readthedocs.io/en/stable/user_install.html\">Jupyter\n",
       "  Widgets Documentation</a> for setup instructions.\n",
       "</p>\n",
       "<p>\n",
       "  If you're reading this message in another frontend (for example, a static\n",
       "  rendering on GitHub or <a href=\"https://nbviewer.jupyter.org/\">NBViewer</a>),\n",
       "  it may mean that your frontend doesn't currently support widgets.\n",
       "</p>\n"
      ],
      "text/plain": [
       "Button(button_style='success', description='Update plot', icon='paint-brush', style=ButtonStyle(), tooltip='Click to redraw the plot below with updated options from above.')"
      ]
     },
     "metadata": {},
     "output_type": "display_data"
    },
    {
     "data": {
      "application/javascript": [
       "IPython.notebook.execute_cells([IPython.notebook.get_selected_index()+1])"
      ],
      "text/plain": [
       "<IPython.core.display.Javascript object>"
      ]
     },
     "metadata": {},
     "output_type": "display_data"
    }
   ],
   "source": [
    "make_plot_button = widgets.Button(\n",
    "    description='Update plot',\n",
    "    disabled=False,\n",
    "    button_style='success', # 'success', 'info', 'warning', 'danger' or ''\n",
    "    tooltip='Click to redraw the plot below with updated options from above.',\n",
    "    icon='paint-brush' # pencil, rotate-right\n",
    ")\n",
    "\n",
    "#make_plot_button.observe(on_click_next, 'value')\n",
    "display(make_plot_button)\n",
    "make_plot_button.on_click(on_click_next)"
   ]
  },
  {
   "cell_type": "code",
   "execution_count": 169,
   "metadata": {},
   "outputs": [
    {
     "data": {
      "application/javascript": [
       "/* Put everything inside the global mpl namespace */\n",
       "window.mpl = {};\n",
       "\n",
       "\n",
       "mpl.get_websocket_type = function() {\n",
       "    if (typeof(WebSocket) !== 'undefined') {\n",
       "        return WebSocket;\n",
       "    } else if (typeof(MozWebSocket) !== 'undefined') {\n",
       "        return MozWebSocket;\n",
       "    } else {\n",
       "        alert('Your browser does not have WebSocket support.' +\n",
       "              'Please try Chrome, Safari or Firefox ≥ 6. ' +\n",
       "              'Firefox 4 and 5 are also supported but you ' +\n",
       "              'have to enable WebSockets in about:config.');\n",
       "    };\n",
       "}\n",
       "\n",
       "mpl.figure = function(figure_id, websocket, ondownload, parent_element) {\n",
       "    this.id = figure_id;\n",
       "\n",
       "    this.ws = websocket;\n",
       "\n",
       "    this.supports_binary = (this.ws.binaryType != undefined);\n",
       "\n",
       "    if (!this.supports_binary) {\n",
       "        var warnings = document.getElementById(\"mpl-warnings\");\n",
       "        if (warnings) {\n",
       "            warnings.style.display = 'block';\n",
       "            warnings.textContent = (\n",
       "                \"This browser does not support binary websocket messages. \" +\n",
       "                    \"Performance may be slow.\");\n",
       "        }\n",
       "    }\n",
       "\n",
       "    this.imageObj = new Image();\n",
       "\n",
       "    this.context = undefined;\n",
       "    this.message = undefined;\n",
       "    this.canvas = undefined;\n",
       "    this.rubberband_canvas = undefined;\n",
       "    this.rubberband_context = undefined;\n",
       "    this.format_dropdown = undefined;\n",
       "\n",
       "    this.image_mode = 'full';\n",
       "\n",
       "    this.root = $('<div/>');\n",
       "    this._root_extra_style(this.root)\n",
       "    this.root.attr('style', 'display: inline-block');\n",
       "\n",
       "    $(parent_element).append(this.root);\n",
       "\n",
       "    this._init_header(this);\n",
       "    this._init_canvas(this);\n",
       "    this._init_toolbar(this);\n",
       "\n",
       "    var fig = this;\n",
       "\n",
       "    this.waiting = false;\n",
       "\n",
       "    this.ws.onopen =  function () {\n",
       "            fig.send_message(\"supports_binary\", {value: fig.supports_binary});\n",
       "            fig.send_message(\"send_image_mode\", {});\n",
       "            if (mpl.ratio != 1) {\n",
       "                fig.send_message(\"set_dpi_ratio\", {'dpi_ratio': mpl.ratio});\n",
       "            }\n",
       "            fig.send_message(\"refresh\", {});\n",
       "        }\n",
       "\n",
       "    this.imageObj.onload = function() {\n",
       "            if (fig.image_mode == 'full') {\n",
       "                // Full images could contain transparency (where diff images\n",
       "                // almost always do), so we need to clear the canvas so that\n",
       "                // there is no ghosting.\n",
       "                fig.context.clearRect(0, 0, fig.canvas.width, fig.canvas.height);\n",
       "            }\n",
       "            fig.context.drawImage(fig.imageObj, 0, 0);\n",
       "        };\n",
       "\n",
       "    this.imageObj.onunload = function() {\n",
       "        fig.ws.close();\n",
       "    }\n",
       "\n",
       "    this.ws.onmessage = this._make_on_message_function(this);\n",
       "\n",
       "    this.ondownload = ondownload;\n",
       "}\n",
       "\n",
       "mpl.figure.prototype._init_header = function() {\n",
       "    var titlebar = $(\n",
       "        '<div class=\"ui-dialog-titlebar ui-widget-header ui-corner-all ' +\n",
       "        'ui-helper-clearfix\"/>');\n",
       "    var titletext = $(\n",
       "        '<div class=\"ui-dialog-title\" style=\"width: 100%; ' +\n",
       "        'text-align: center; padding: 3px;\"/>');\n",
       "    titlebar.append(titletext)\n",
       "    this.root.append(titlebar);\n",
       "    this.header = titletext[0];\n",
       "}\n",
       "\n",
       "\n",
       "\n",
       "mpl.figure.prototype._canvas_extra_style = function(canvas_div) {\n",
       "\n",
       "}\n",
       "\n",
       "\n",
       "mpl.figure.prototype._root_extra_style = function(canvas_div) {\n",
       "\n",
       "}\n",
       "\n",
       "mpl.figure.prototype._init_canvas = function() {\n",
       "    var fig = this;\n",
       "\n",
       "    var canvas_div = $('<div/>');\n",
       "\n",
       "    canvas_div.attr('style', 'position: relative; clear: both; outline: 0');\n",
       "\n",
       "    function canvas_keyboard_event(event) {\n",
       "        return fig.key_event(event, event['data']);\n",
       "    }\n",
       "\n",
       "    canvas_div.keydown('key_press', canvas_keyboard_event);\n",
       "    canvas_div.keyup('key_release', canvas_keyboard_event);\n",
       "    this.canvas_div = canvas_div\n",
       "    this._canvas_extra_style(canvas_div)\n",
       "    this.root.append(canvas_div);\n",
       "\n",
       "    var canvas = $('<canvas/>');\n",
       "    canvas.addClass('mpl-canvas');\n",
       "    canvas.attr('style', \"left: 0; top: 0; z-index: 0; outline: 0\")\n",
       "\n",
       "    this.canvas = canvas[0];\n",
       "    this.context = canvas[0].getContext(\"2d\");\n",
       "\n",
       "    var backingStore = this.context.backingStorePixelRatio ||\n",
       "\tthis.context.webkitBackingStorePixelRatio ||\n",
       "\tthis.context.mozBackingStorePixelRatio ||\n",
       "\tthis.context.msBackingStorePixelRatio ||\n",
       "\tthis.context.oBackingStorePixelRatio ||\n",
       "\tthis.context.backingStorePixelRatio || 1;\n",
       "\n",
       "    mpl.ratio = (window.devicePixelRatio || 1) / backingStore;\n",
       "\n",
       "    var rubberband = $('<canvas/>');\n",
       "    rubberband.attr('style', \"position: absolute; left: 0; top: 0; z-index: 1;\")\n",
       "\n",
       "    var pass_mouse_events = true;\n",
       "\n",
       "    canvas_div.resizable({\n",
       "        start: function(event, ui) {\n",
       "            pass_mouse_events = false;\n",
       "        },\n",
       "        resize: function(event, ui) {\n",
       "            fig.request_resize(ui.size.width, ui.size.height);\n",
       "        },\n",
       "        stop: function(event, ui) {\n",
       "            pass_mouse_events = true;\n",
       "            fig.request_resize(ui.size.width, ui.size.height);\n",
       "        },\n",
       "    });\n",
       "\n",
       "    function mouse_event_fn(event) {\n",
       "        if (pass_mouse_events)\n",
       "            return fig.mouse_event(event, event['data']);\n",
       "    }\n",
       "\n",
       "    rubberband.mousedown('button_press', mouse_event_fn);\n",
       "    rubberband.mouseup('button_release', mouse_event_fn);\n",
       "    // Throttle sequential mouse events to 1 every 20ms.\n",
       "    rubberband.mousemove('motion_notify', mouse_event_fn);\n",
       "\n",
       "    rubberband.mouseenter('figure_enter', mouse_event_fn);\n",
       "    rubberband.mouseleave('figure_leave', mouse_event_fn);\n",
       "\n",
       "    canvas_div.on(\"wheel\", function (event) {\n",
       "        event = event.originalEvent;\n",
       "        event['data'] = 'scroll'\n",
       "        if (event.deltaY < 0) {\n",
       "            event.step = 1;\n",
       "        } else {\n",
       "            event.step = -1;\n",
       "        }\n",
       "        mouse_event_fn(event);\n",
       "    });\n",
       "\n",
       "    canvas_div.append(canvas);\n",
       "    canvas_div.append(rubberband);\n",
       "\n",
       "    this.rubberband = rubberband;\n",
       "    this.rubberband_canvas = rubberband[0];\n",
       "    this.rubberband_context = rubberband[0].getContext(\"2d\");\n",
       "    this.rubberband_context.strokeStyle = \"#000000\";\n",
       "\n",
       "    this._resize_canvas = function(width, height) {\n",
       "        // Keep the size of the canvas, canvas container, and rubber band\n",
       "        // canvas in synch.\n",
       "        canvas_div.css('width', width)\n",
       "        canvas_div.css('height', height)\n",
       "\n",
       "        canvas.attr('width', width * mpl.ratio);\n",
       "        canvas.attr('height', height * mpl.ratio);\n",
       "        canvas.attr('style', 'width: ' + width + 'px; height: ' + height + 'px;');\n",
       "\n",
       "        rubberband.attr('width', width);\n",
       "        rubberband.attr('height', height);\n",
       "    }\n",
       "\n",
       "    // Set the figure to an initial 600x600px, this will subsequently be updated\n",
       "    // upon first draw.\n",
       "    this._resize_canvas(600, 600);\n",
       "\n",
       "    // Disable right mouse context menu.\n",
       "    $(this.rubberband_canvas).bind(\"contextmenu\",function(e){\n",
       "        return false;\n",
       "    });\n",
       "\n",
       "    function set_focus () {\n",
       "        canvas.focus();\n",
       "        canvas_div.focus();\n",
       "    }\n",
       "\n",
       "    window.setTimeout(set_focus, 100);\n",
       "}\n",
       "\n",
       "mpl.figure.prototype._init_toolbar = function() {\n",
       "    var fig = this;\n",
       "\n",
       "    var nav_element = $('<div/>')\n",
       "    nav_element.attr('style', 'width: 100%');\n",
       "    this.root.append(nav_element);\n",
       "\n",
       "    // Define a callback function for later on.\n",
       "    function toolbar_event(event) {\n",
       "        return fig.toolbar_button_onclick(event['data']);\n",
       "    }\n",
       "    function toolbar_mouse_event(event) {\n",
       "        return fig.toolbar_button_onmouseover(event['data']);\n",
       "    }\n",
       "\n",
       "    for(var toolbar_ind in mpl.toolbar_items) {\n",
       "        var name = mpl.toolbar_items[toolbar_ind][0];\n",
       "        var tooltip = mpl.toolbar_items[toolbar_ind][1];\n",
       "        var image = mpl.toolbar_items[toolbar_ind][2];\n",
       "        var method_name = mpl.toolbar_items[toolbar_ind][3];\n",
       "\n",
       "        if (!name) {\n",
       "            // put a spacer in here.\n",
       "            continue;\n",
       "        }\n",
       "        var button = $('<button/>');\n",
       "        button.addClass('ui-button ui-widget ui-state-default ui-corner-all ' +\n",
       "                        'ui-button-icon-only');\n",
       "        button.attr('role', 'button');\n",
       "        button.attr('aria-disabled', 'false');\n",
       "        button.click(method_name, toolbar_event);\n",
       "        button.mouseover(tooltip, toolbar_mouse_event);\n",
       "\n",
       "        var icon_img = $('<span/>');\n",
       "        icon_img.addClass('ui-button-icon-primary ui-icon');\n",
       "        icon_img.addClass(image);\n",
       "        icon_img.addClass('ui-corner-all');\n",
       "\n",
       "        var tooltip_span = $('<span/>');\n",
       "        tooltip_span.addClass('ui-button-text');\n",
       "        tooltip_span.html(tooltip);\n",
       "\n",
       "        button.append(icon_img);\n",
       "        button.append(tooltip_span);\n",
       "\n",
       "        nav_element.append(button);\n",
       "    }\n",
       "\n",
       "    var fmt_picker_span = $('<span/>');\n",
       "\n",
       "    var fmt_picker = $('<select/>');\n",
       "    fmt_picker.addClass('mpl-toolbar-option ui-widget ui-widget-content');\n",
       "    fmt_picker_span.append(fmt_picker);\n",
       "    nav_element.append(fmt_picker_span);\n",
       "    this.format_dropdown = fmt_picker[0];\n",
       "\n",
       "    for (var ind in mpl.extensions) {\n",
       "        var fmt = mpl.extensions[ind];\n",
       "        var option = $(\n",
       "            '<option/>', {selected: fmt === mpl.default_extension}).html(fmt);\n",
       "        fmt_picker.append(option)\n",
       "    }\n",
       "\n",
       "    // Add hover states to the ui-buttons\n",
       "    $( \".ui-button\" ).hover(\n",
       "        function() { $(this).addClass(\"ui-state-hover\");},\n",
       "        function() { $(this).removeClass(\"ui-state-hover\");}\n",
       "    );\n",
       "\n",
       "    var status_bar = $('<span class=\"mpl-message\"/>');\n",
       "    nav_element.append(status_bar);\n",
       "    this.message = status_bar[0];\n",
       "}\n",
       "\n",
       "mpl.figure.prototype.request_resize = function(x_pixels, y_pixels) {\n",
       "    // Request matplotlib to resize the figure. Matplotlib will then trigger a resize in the client,\n",
       "    // which will in turn request a refresh of the image.\n",
       "    this.send_message('resize', {'width': x_pixels, 'height': y_pixels});\n",
       "}\n",
       "\n",
       "mpl.figure.prototype.send_message = function(type, properties) {\n",
       "    properties['type'] = type;\n",
       "    properties['figure_id'] = this.id;\n",
       "    this.ws.send(JSON.stringify(properties));\n",
       "}\n",
       "\n",
       "mpl.figure.prototype.send_draw_message = function() {\n",
       "    if (!this.waiting) {\n",
       "        this.waiting = true;\n",
       "        this.ws.send(JSON.stringify({type: \"draw\", figure_id: this.id}));\n",
       "    }\n",
       "}\n",
       "\n",
       "\n",
       "mpl.figure.prototype.handle_save = function(fig, msg) {\n",
       "    var format_dropdown = fig.format_dropdown;\n",
       "    var format = format_dropdown.options[format_dropdown.selectedIndex].value;\n",
       "    fig.ondownload(fig, format);\n",
       "}\n",
       "\n",
       "\n",
       "mpl.figure.prototype.handle_resize = function(fig, msg) {\n",
       "    var size = msg['size'];\n",
       "    if (size[0] != fig.canvas.width || size[1] != fig.canvas.height) {\n",
       "        fig._resize_canvas(size[0], size[1]);\n",
       "        fig.send_message(\"refresh\", {});\n",
       "    };\n",
       "}\n",
       "\n",
       "mpl.figure.prototype.handle_rubberband = function(fig, msg) {\n",
       "    var x0 = msg['x0'] / mpl.ratio;\n",
       "    var y0 = (fig.canvas.height - msg['y0']) / mpl.ratio;\n",
       "    var x1 = msg['x1'] / mpl.ratio;\n",
       "    var y1 = (fig.canvas.height - msg['y1']) / mpl.ratio;\n",
       "    x0 = Math.floor(x0) + 0.5;\n",
       "    y0 = Math.floor(y0) + 0.5;\n",
       "    x1 = Math.floor(x1) + 0.5;\n",
       "    y1 = Math.floor(y1) + 0.5;\n",
       "    var min_x = Math.min(x0, x1);\n",
       "    var min_y = Math.min(y0, y1);\n",
       "    var width = Math.abs(x1 - x0);\n",
       "    var height = Math.abs(y1 - y0);\n",
       "\n",
       "    fig.rubberband_context.clearRect(\n",
       "        0, 0, fig.canvas.width, fig.canvas.height);\n",
       "\n",
       "    fig.rubberband_context.strokeRect(min_x, min_y, width, height);\n",
       "}\n",
       "\n",
       "mpl.figure.prototype.handle_figure_label = function(fig, msg) {\n",
       "    // Updates the figure title.\n",
       "    fig.header.textContent = msg['label'];\n",
       "}\n",
       "\n",
       "mpl.figure.prototype.handle_cursor = function(fig, msg) {\n",
       "    var cursor = msg['cursor'];\n",
       "    switch(cursor)\n",
       "    {\n",
       "    case 0:\n",
       "        cursor = 'pointer';\n",
       "        break;\n",
       "    case 1:\n",
       "        cursor = 'default';\n",
       "        break;\n",
       "    case 2:\n",
       "        cursor = 'crosshair';\n",
       "        break;\n",
       "    case 3:\n",
       "        cursor = 'move';\n",
       "        break;\n",
       "    }\n",
       "    fig.rubberband_canvas.style.cursor = cursor;\n",
       "}\n",
       "\n",
       "mpl.figure.prototype.handle_message = function(fig, msg) {\n",
       "    fig.message.textContent = msg['message'];\n",
       "}\n",
       "\n",
       "mpl.figure.prototype.handle_draw = function(fig, msg) {\n",
       "    // Request the server to send over a new figure.\n",
       "    fig.send_draw_message();\n",
       "}\n",
       "\n",
       "mpl.figure.prototype.handle_image_mode = function(fig, msg) {\n",
       "    fig.image_mode = msg['mode'];\n",
       "}\n",
       "\n",
       "mpl.figure.prototype.updated_canvas_event = function() {\n",
       "    // Called whenever the canvas gets updated.\n",
       "    this.send_message(\"ack\", {});\n",
       "}\n",
       "\n",
       "// A function to construct a web socket function for onmessage handling.\n",
       "// Called in the figure constructor.\n",
       "mpl.figure.prototype._make_on_message_function = function(fig) {\n",
       "    return function socket_on_message(evt) {\n",
       "        if (evt.data instanceof Blob) {\n",
       "            /* FIXME: We get \"Resource interpreted as Image but\n",
       "             * transferred with MIME type text/plain:\" errors on\n",
       "             * Chrome.  But how to set the MIME type?  It doesn't seem\n",
       "             * to be part of the websocket stream */\n",
       "            evt.data.type = \"image/png\";\n",
       "\n",
       "            /* Free the memory for the previous frames */\n",
       "            if (fig.imageObj.src) {\n",
       "                (window.URL || window.webkitURL).revokeObjectURL(\n",
       "                    fig.imageObj.src);\n",
       "            }\n",
       "\n",
       "            fig.imageObj.src = (window.URL || window.webkitURL).createObjectURL(\n",
       "                evt.data);\n",
       "            fig.updated_canvas_event();\n",
       "            fig.waiting = false;\n",
       "            return;\n",
       "        }\n",
       "        else if (typeof evt.data === 'string' && evt.data.slice(0, 21) == \"data:image/png;base64\") {\n",
       "            fig.imageObj.src = evt.data;\n",
       "            fig.updated_canvas_event();\n",
       "            fig.waiting = false;\n",
       "            return;\n",
       "        }\n",
       "\n",
       "        var msg = JSON.parse(evt.data);\n",
       "        var msg_type = msg['type'];\n",
       "\n",
       "        // Call the  \"handle_{type}\" callback, which takes\n",
       "        // the figure and JSON message as its only arguments.\n",
       "        try {\n",
       "            var callback = fig[\"handle_\" + msg_type];\n",
       "        } catch (e) {\n",
       "            console.log(\"No handler for the '\" + msg_type + \"' message type: \", msg);\n",
       "            return;\n",
       "        }\n",
       "\n",
       "        if (callback) {\n",
       "            try {\n",
       "                // console.log(\"Handling '\" + msg_type + \"' message: \", msg);\n",
       "                callback(fig, msg);\n",
       "            } catch (e) {\n",
       "                console.log(\"Exception inside the 'handler_\" + msg_type + \"' callback:\", e, e.stack, msg);\n",
       "            }\n",
       "        }\n",
       "    };\n",
       "}\n",
       "\n",
       "// from http://stackoverflow.com/questions/1114465/getting-mouse-location-in-canvas\n",
       "mpl.findpos = function(e) {\n",
       "    //this section is from http://www.quirksmode.org/js/events_properties.html\n",
       "    var targ;\n",
       "    if (!e)\n",
       "        e = window.event;\n",
       "    if (e.target)\n",
       "        targ = e.target;\n",
       "    else if (e.srcElement)\n",
       "        targ = e.srcElement;\n",
       "    if (targ.nodeType == 3) // defeat Safari bug\n",
       "        targ = targ.parentNode;\n",
       "\n",
       "    // jQuery normalizes the pageX and pageY\n",
       "    // pageX,Y are the mouse positions relative to the document\n",
       "    // offset() returns the position of the element relative to the document\n",
       "    var x = e.pageX - $(targ).offset().left;\n",
       "    var y = e.pageY - $(targ).offset().top;\n",
       "\n",
       "    return {\"x\": x, \"y\": y};\n",
       "};\n",
       "\n",
       "/*\n",
       " * return a copy of an object with only non-object keys\n",
       " * we need this to avoid circular references\n",
       " * http://stackoverflow.com/a/24161582/3208463\n",
       " */\n",
       "function simpleKeys (original) {\n",
       "  return Object.keys(original).reduce(function (obj, key) {\n",
       "    if (typeof original[key] !== 'object')\n",
       "        obj[key] = original[key]\n",
       "    return obj;\n",
       "  }, {});\n",
       "}\n",
       "\n",
       "mpl.figure.prototype.mouse_event = function(event, name) {\n",
       "    var canvas_pos = mpl.findpos(event)\n",
       "\n",
       "    if (name === 'button_press')\n",
       "    {\n",
       "        this.canvas.focus();\n",
       "        this.canvas_div.focus();\n",
       "    }\n",
       "\n",
       "    var x = canvas_pos.x * mpl.ratio;\n",
       "    var y = canvas_pos.y * mpl.ratio;\n",
       "\n",
       "    this.send_message(name, {x: x, y: y, button: event.button,\n",
       "                             step: event.step,\n",
       "                             guiEvent: simpleKeys(event)});\n",
       "\n",
       "    /* This prevents the web browser from automatically changing to\n",
       "     * the text insertion cursor when the button is pressed.  We want\n",
       "     * to control all of the cursor setting manually through the\n",
       "     * 'cursor' event from matplotlib */\n",
       "    event.preventDefault();\n",
       "    return false;\n",
       "}\n",
       "\n",
       "mpl.figure.prototype._key_event_extra = function(event, name) {\n",
       "    // Handle any extra behaviour associated with a key event\n",
       "}\n",
       "\n",
       "mpl.figure.prototype.key_event = function(event, name) {\n",
       "\n",
       "    // Prevent repeat events\n",
       "    if (name == 'key_press')\n",
       "    {\n",
       "        if (event.which === this._key)\n",
       "            return;\n",
       "        else\n",
       "            this._key = event.which;\n",
       "    }\n",
       "    if (name == 'key_release')\n",
       "        this._key = null;\n",
       "\n",
       "    var value = '';\n",
       "    if (event.ctrlKey && event.which != 17)\n",
       "        value += \"ctrl+\";\n",
       "    if (event.altKey && event.which != 18)\n",
       "        value += \"alt+\";\n",
       "    if (event.shiftKey && event.which != 16)\n",
       "        value += \"shift+\";\n",
       "\n",
       "    value += 'k';\n",
       "    value += event.which.toString();\n",
       "\n",
       "    this._key_event_extra(event, name);\n",
       "\n",
       "    this.send_message(name, {key: value,\n",
       "                             guiEvent: simpleKeys(event)});\n",
       "    return false;\n",
       "}\n",
       "\n",
       "mpl.figure.prototype.toolbar_button_onclick = function(name) {\n",
       "    if (name == 'download') {\n",
       "        this.handle_save(this, null);\n",
       "    } else {\n",
       "        this.send_message(\"toolbar_button\", {name: name});\n",
       "    }\n",
       "};\n",
       "\n",
       "mpl.figure.prototype.toolbar_button_onmouseover = function(tooltip) {\n",
       "    this.message.textContent = tooltip;\n",
       "};\n",
       "mpl.toolbar_items = [[\"Home\", \"Reset original view\", \"fa fa-home icon-home\", \"home\"], [\"Back\", \"Back to  previous view\", \"fa fa-arrow-left icon-arrow-left\", \"back\"], [\"Forward\", \"Forward to next view\", \"fa fa-arrow-right icon-arrow-right\", \"forward\"], [\"\", \"\", \"\", \"\"], [\"Pan\", \"Pan axes with left mouse, zoom with right\", \"fa fa-arrows icon-move\", \"pan\"], [\"Zoom\", \"Zoom to rectangle\", \"fa fa-square-o icon-check-empty\", \"zoom\"], [\"\", \"\", \"\", \"\"], [\"Download\", \"Download plot\", \"fa fa-floppy-o icon-save\", \"download\"]];\n",
       "\n",
       "mpl.extensions = [\"eps\", \"jpeg\", \"pdf\", \"png\", \"ps\", \"raw\", \"svg\", \"tif\"];\n",
       "\n",
       "mpl.default_extension = \"png\";var comm_websocket_adapter = function(comm) {\n",
       "    // Create a \"websocket\"-like object which calls the given IPython comm\n",
       "    // object with the appropriate methods. Currently this is a non binary\n",
       "    // socket, so there is still some room for performance tuning.\n",
       "    var ws = {};\n",
       "\n",
       "    ws.close = function() {\n",
       "        comm.close()\n",
       "    };\n",
       "    ws.send = function(m) {\n",
       "        //console.log('sending', m);\n",
       "        comm.send(m);\n",
       "    };\n",
       "    // Register the callback with on_msg.\n",
       "    comm.on_msg(function(msg) {\n",
       "        //console.log('receiving', msg['content']['data'], msg);\n",
       "        // Pass the mpl event to the overriden (by mpl) onmessage function.\n",
       "        ws.onmessage(msg['content']['data'])\n",
       "    });\n",
       "    return ws;\n",
       "}\n",
       "\n",
       "mpl.mpl_figure_comm = function(comm, msg) {\n",
       "    // This is the function which gets called when the mpl process\n",
       "    // starts-up an IPython Comm through the \"matplotlib\" channel.\n",
       "\n",
       "    var id = msg.content.data.id;\n",
       "    // Get hold of the div created by the display call when the Comm\n",
       "    // socket was opened in Python.\n",
       "    var element = $(\"#\" + id);\n",
       "    var ws_proxy = comm_websocket_adapter(comm)\n",
       "\n",
       "    function ondownload(figure, format) {\n",
       "        window.open(figure.imageObj.src);\n",
       "    }\n",
       "\n",
       "    var fig = new mpl.figure(id, ws_proxy,\n",
       "                           ondownload,\n",
       "                           element.get(0));\n",
       "\n",
       "    // Call onopen now - mpl needs it, as it is assuming we've passed it a real\n",
       "    // web socket which is closed, not our websocket->open comm proxy.\n",
       "    ws_proxy.onopen();\n",
       "\n",
       "    fig.parent_element = element.get(0);\n",
       "    fig.cell_info = mpl.find_output_cell(\"<div id='\" + id + \"'></div>\");\n",
       "    if (!fig.cell_info) {\n",
       "        console.error(\"Failed to find cell for figure\", id, fig);\n",
       "        return;\n",
       "    }\n",
       "\n",
       "    var output_index = fig.cell_info[2]\n",
       "    var cell = fig.cell_info[0];\n",
       "\n",
       "};\n",
       "\n",
       "mpl.figure.prototype.handle_close = function(fig, msg) {\n",
       "    var width = fig.canvas.width/mpl.ratio\n",
       "    fig.root.unbind('remove')\n",
       "\n",
       "    // Update the output cell to use the data from the current canvas.\n",
       "    fig.push_to_output();\n",
       "    var dataURL = fig.canvas.toDataURL();\n",
       "    // Re-enable the keyboard manager in IPython - without this line, in FF,\n",
       "    // the notebook keyboard shortcuts fail.\n",
       "    IPython.keyboard_manager.enable()\n",
       "    $(fig.parent_element).html('<img src=\"' + dataURL + '\" width=\"' + width + '\">');\n",
       "    fig.close_ws(fig, msg);\n",
       "}\n",
       "\n",
       "mpl.figure.prototype.close_ws = function(fig, msg){\n",
       "    fig.send_message('closing', msg);\n",
       "    // fig.ws.close()\n",
       "}\n",
       "\n",
       "mpl.figure.prototype.push_to_output = function(remove_interactive) {\n",
       "    // Turn the data on the canvas into data in the output cell.\n",
       "    var width = this.canvas.width/mpl.ratio\n",
       "    var dataURL = this.canvas.toDataURL();\n",
       "    this.cell_info[1]['text/html'] = '<img src=\"' + dataURL + '\" width=\"' + width + '\">';\n",
       "}\n",
       "\n",
       "mpl.figure.prototype.updated_canvas_event = function() {\n",
       "    // Tell IPython that the notebook contents must change.\n",
       "    IPython.notebook.set_dirty(true);\n",
       "    this.send_message(\"ack\", {});\n",
       "    var fig = this;\n",
       "    // Wait a second, then push the new image to the DOM so\n",
       "    // that it is saved nicely (might be nice to debounce this).\n",
       "    setTimeout(function () { fig.push_to_output() }, 1000);\n",
       "}\n",
       "\n",
       "mpl.figure.prototype._init_toolbar = function() {\n",
       "    var fig = this;\n",
       "\n",
       "    var nav_element = $('<div/>')\n",
       "    nav_element.attr('style', 'width: 100%');\n",
       "    this.root.append(nav_element);\n",
       "\n",
       "    // Define a callback function for later on.\n",
       "    function toolbar_event(event) {\n",
       "        return fig.toolbar_button_onclick(event['data']);\n",
       "    }\n",
       "    function toolbar_mouse_event(event) {\n",
       "        return fig.toolbar_button_onmouseover(event['data']);\n",
       "    }\n",
       "\n",
       "    for(var toolbar_ind in mpl.toolbar_items){\n",
       "        var name = mpl.toolbar_items[toolbar_ind][0];\n",
       "        var tooltip = mpl.toolbar_items[toolbar_ind][1];\n",
       "        var image = mpl.toolbar_items[toolbar_ind][2];\n",
       "        var method_name = mpl.toolbar_items[toolbar_ind][3];\n",
       "\n",
       "        if (!name) { continue; };\n",
       "\n",
       "        var button = $('<button class=\"btn btn-default\" href=\"#\" title=\"' + name + '\"><i class=\"fa ' + image + ' fa-lg\"></i></button>');\n",
       "        button.click(method_name, toolbar_event);\n",
       "        button.mouseover(tooltip, toolbar_mouse_event);\n",
       "        nav_element.append(button);\n",
       "    }\n",
       "\n",
       "    // Add the status bar.\n",
       "    var status_bar = $('<span class=\"mpl-message\" style=\"text-align:right; float: right;\"/>');\n",
       "    nav_element.append(status_bar);\n",
       "    this.message = status_bar[0];\n",
       "\n",
       "    // Add the close button to the window.\n",
       "    var buttongrp = $('<div class=\"btn-group inline pull-right\"></div>');\n",
       "    var button = $('<button class=\"btn btn-mini btn-primary\" href=\"#\" title=\"Stop Interaction\"><i class=\"fa fa-power-off icon-remove icon-large\"></i></button>');\n",
       "    button.click(function (evt) { fig.handle_close(fig, {}); } );\n",
       "    button.mouseover('Stop Interaction', toolbar_mouse_event);\n",
       "    buttongrp.append(button);\n",
       "    var titlebar = this.root.find($('.ui-dialog-titlebar'));\n",
       "    titlebar.prepend(buttongrp);\n",
       "}\n",
       "\n",
       "mpl.figure.prototype._root_extra_style = function(el){\n",
       "    var fig = this\n",
       "    el.on(\"remove\", function(){\n",
       "\tfig.close_ws(fig, {});\n",
       "    });\n",
       "}\n",
       "\n",
       "mpl.figure.prototype._canvas_extra_style = function(el){\n",
       "    // this is important to make the div 'focusable\n",
       "    el.attr('tabindex', 0)\n",
       "    // reach out to IPython and tell the keyboard manager to turn it's self\n",
       "    // off when our div gets focus\n",
       "\n",
       "    // location in version 3\n",
       "    if (IPython.notebook.keyboard_manager) {\n",
       "        IPython.notebook.keyboard_manager.register_events(el);\n",
       "    }\n",
       "    else {\n",
       "        // location in version 2\n",
       "        IPython.keyboard_manager.register_events(el);\n",
       "    }\n",
       "\n",
       "}\n",
       "\n",
       "mpl.figure.prototype._key_event_extra = function(event, name) {\n",
       "    var manager = IPython.notebook.keyboard_manager;\n",
       "    if (!manager)\n",
       "        manager = IPython.keyboard_manager;\n",
       "\n",
       "    // Check for shift+enter\n",
       "    if (event.shiftKey && event.which == 13) {\n",
       "        this.canvas_div.blur();\n",
       "        event.shiftKey = false;\n",
       "        // Send a \"J\" for go to next cell\n",
       "        event.which = 74;\n",
       "        event.keyCode = 74;\n",
       "        manager.command_mode();\n",
       "        manager.handle_keydown(event);\n",
       "    }\n",
       "}\n",
       "\n",
       "mpl.figure.prototype.handle_save = function(fig, msg) {\n",
       "    fig.ondownload(fig, null);\n",
       "}\n",
       "\n",
       "\n",
       "mpl.find_output_cell = function(html_output) {\n",
       "    // Return the cell and output element which can be found *uniquely* in the notebook.\n",
       "    // Note - this is a bit hacky, but it is done because the \"notebook_saving.Notebook\"\n",
       "    // IPython event is triggered only after the cells have been serialised, which for\n",
       "    // our purposes (turning an active figure into a static one), is too late.\n",
       "    var cells = IPython.notebook.get_cells();\n",
       "    var ncells = cells.length;\n",
       "    for (var i=0; i<ncells; i++) {\n",
       "        var cell = cells[i];\n",
       "        if (cell.cell_type === 'code'){\n",
       "            for (var j=0; j<cell.output_area.outputs.length; j++) {\n",
       "                var data = cell.output_area.outputs[j];\n",
       "                if (data.data) {\n",
       "                    // IPython >= 3 moved mimebundle to data attribute of output\n",
       "                    data = data.data;\n",
       "                }\n",
       "                if (data['text/html'] == html_output) {\n",
       "                    return [cell, data, j];\n",
       "                }\n",
       "            }\n",
       "        }\n",
       "    }\n",
       "}\n",
       "\n",
       "// Register the function which deals with the matplotlib target/channel.\n",
       "// The kernel may be null if the page has been refreshed.\n",
       "if (IPython.notebook.kernel != null) {\n",
       "    IPython.notebook.kernel.comm_manager.register_target('matplotlib', mpl.mpl_figure_comm);\n",
       "}\n"
      ],
      "text/plain": [
       "<IPython.core.display.Javascript object>"
      ]
     },
     "metadata": {},
     "output_type": "display_data"
    },
    {
     "data": {
      "text/html": [
       "<img src=\"data:image/png;base64,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\" width=\"525\">"
      ],
      "text/plain": [
       "<IPython.core.display.HTML object>"
      ]
     },
     "metadata": {},
     "output_type": "display_data"
    }
   ],
   "source": [
    "isi = find(ion_species.value,projectile_sym_str)\n",
    "iei = find(ion_energy.value,erg_options(isi))\n",
    "ftmi = find(target_material.value,target_mats_short)\n",
    "ftti = find(target_thickness.value,thicknesses)\n",
    "detti = find(detector_type.value,detectors_short)\n",
    "spi = find(secondary_particle.value,particles_med)\n",
    "\n",
    "det_angle_i_list = []\n",
    "for i in range(len(available_det_angles)):\n",
    "    if dets[i].value:\n",
    "        if detti == 0:\n",
    "            det_angle_i_list.append(find(available_det_angles[i],detectors_angles[detti]))\n",
    "        else:\n",
    "            det_angle_i_list.append(find(available_det_angles[i],detectors_angles[detti])+6) # for NaI\n",
    "            \n",
    "data_set_i_list = []\n",
    "for i in range(3):\n",
    "    if data_sets[i].value:\n",
    "        data_set_i_list.append(i)\n",
    "        \n",
    "spacing_condition = find(spacing_choice.value,spacing_short)\n",
    "if spacing_condition == 0:\n",
    "    mult_factor_base = 1\n",
    "else:\n",
    "    mult_factor_base = 100\n",
    "\n",
    "fst = 16\n",
    "fs = 14\n",
    "beam_energy_text = erg_options(isi)[iei]\n",
    "beam_species_text = projectile_sym_str[isi]\n",
    "\n",
    "fig = plt.figure()\n",
    "ax = plt.subplot(111)\n",
    "# Axis labels\n",
    "title_text = detectors_short[detti] + \" \" + particles_long[spi] + \" Energy Spectra for\" + \"\\n\" \n",
    "title_text += beam_energy_text +\" \"+ beam_species_text + \" on \"+ thicknesses[ftti] +\" \"+ target_mats_short[ftmi] \n",
    "plt.title(title_text,fontsize=fst)\n",
    "if spi <= 2:\n",
    "    plt.xlabel(\"Energy [MeV]\",fontsize=fs)\n",
    "else:\n",
    "    plt.xlabel(\"Energy [MeV/n]\",fontsize=fs)\n",
    "\n",
    "if spi == 1: # deconvoluted neutrons\n",
    "    #leg_strings = [r'Experimental (deconvoluted)',r'MCNP (simulated)', r'PHITS (simulated)']\n",
    "    leg_strings = [r'Experimental (deconvoluted)',r'MCNP', r'PHITS']\n",
    "    plt.ylabel(r\"Yield [#$\\cdot$/(MeV$\\cdot$s.p.)]\",fontsize=fs)\n",
    "else:\n",
    "    #leg_strings = [r'Experimental (time-of-flight)',r'MCNP (simulated)', r'PHITS (simulated)']\n",
    "    leg_strings = [r'Experimental (time-of-flight)',r'MCNP', r'PHITS']\n",
    "    if spi <= 2:\n",
    "        plt.ylabel(r\"Yield [#/(MeV$\\cdot$sr$\\cdot$s.p.)]\",fontsize=fs)\n",
    "    else:\n",
    "        plt.ylabel(r\"Yield [#/(MeV/n$\\cdot$sr$\\cdot$s.p.)]\",fontsize=fs)\n",
    "\n",
    "# Generate portion of legend specifying data sets\n",
    "if spi == 1:\n",
    "    exp_leg, = plt.errorbar(np.NaN, np.NaN,yerr=0, color='dimgrey', marker=\".\",markersize=3,linestyle=\":\",alpha=1.0), #, label=r'Deconvolued')\n",
    "else:\n",
    "    exp_leg,  = plt.errorbar(np.NaN, np.NaN,xerr=0,yerr=0,marker=\".\",c='dimgrey',markersize=2,linestyle=\"\",elinewidth=0.5,markeredgewidth=0.5,capsize=0), # , label=r'Experimental (ToF)') \n",
    "\n",
    "MCNP_leg, = plt.errorbar(np.NaN, np.NaN,yerr=0, color='dimgrey', marker=\"^\",markersize=3,linestyle=\"--\"), #, label=r'Simulated (MCNP)')\n",
    "PHITS_leg, = plt.errorbar(np.NaN, np.NaN,yerr=0, color='dimgrey', marker=\"s\",markersize=3,linestyle=\"--\"), #, label=r'Simulated (PHITS)')\n",
    "\n",
    "n_data_sets = len(data_set_i_list)\n",
    "abs_min_yield = 10**(-10)\n",
    "\n",
    "legs_for_ds = [exp_leg, MCNP_leg, PHITS_leg]\n",
    "used_ds_legs = []\n",
    "used_ds_leg_strs = []\n",
    "leg_handles1 = []\n",
    "leg_labels1 = []\n",
    "\n",
    "y_min = 0.0001 # later used to set y-axis minimum\n",
    "y_max = 0.001 # later used to set y-axis maximum\n",
    "\n",
    "for dsi in data_set_i_list:\n",
    "    # make sure dataset is populated first\n",
    "    if np.sum(mm_values[dsi,iei,ftmi,ftti,spi,:,3,:]) == 0: \n",
    "        n_data_sets += -1\n",
    "        continue\n",
    "    used_ds_legs.append(legs_for_ds[dsi])\n",
    "    used_ds_leg_strs.append(leg_strings[dsi])\n",
    "    k=0\n",
    "    for di in det_angle_i_list:\n",
    "        ndet = str(di+1)\n",
    "        scale_power = 2*((len(det_angle_i_list)-1)-k)\n",
    "        mult_factor = mult_factor_base**scale_power\n",
    "        if spacing_condition == 0:\n",
    "            lab_text = detectors_angles[detti][di%6]\n",
    "        else:\n",
    "            lab_text = detectors_angles[detti][di%6] + r\" $\\times10^{{{0}}}$\".format(str(int(scale_power)))\n",
    "        k += 1\n",
    "        \n",
    "        # Make artificial legend for 6 detectors\n",
    "        ebp = ax.plot(np.NaN, np.NaN,c=detector_colors(di%6),marker=\"s\",markersize=8,linestyle=\"\") #,label=lab_text) #,label='Simulated (MCNP)')\n",
    "        leg_handles1.append(ebp[0])\n",
    "        leg_labels1.append(lab_text)\n",
    "        \n",
    "        # Enforce minimum yield value\n",
    "        trash_y_vals = mm_values[dsi,iei,ftmi,ftti,spi,di,3,:] < abs_min_yield\n",
    "        mm_values[dsi,iei,ftmi,ftti,spi,di,3,:][trash_y_vals] = 0\n",
    "        \n",
    "        nzi = np.nonzero(mm_values[dsi,iei,ftmi,ftti,spi,di,3,:])\n",
    "        xdata = mm_values[dsi,iei,ftmi,ftti,spi,di,1,:][nzi]\n",
    "        xbinw = [mm_values[dsi,iei,ftmi,ftti,spi,di,1,:][nzi]-mm_values[dsi,iei,ftmi,ftti,spi,di,0,:][nzi] , mm_values[dsi,iei,ftmi,ftti,spi,di,2,:][nzi]-mm_values[dsi,iei,ftmi,ftti,spi,di,1,:][nzi]]\n",
    "        ydata = mm_values[dsi,iei,ftmi,ftti,spi,di,3,:][nzi]\n",
    "        yerr_stat = mm_values[dsi,iei,ftmi,ftti,spi,di,4,:][nzi]\n",
    "        yerr_sys = mm_values[dsi,iei,ftmi,ftti,spi,di,5,:][nzi]\n",
    "        xerr = mm_values[dsi,iei,ftmi,ftti,spi,di,6,:][nzi]\n",
    "        \n",
    "        \n",
    "        \n",
    "        ydata = ydata*mult_factor\n",
    "        yerr_stat = yerr_stat*mult_factor\n",
    "        yerr_sys = yerr_sys*mult_factor\n",
    "        \n",
    "        if len(ydata) != 0:\n",
    "            if min(ydata)<y_min: y_min = min(ydata)\n",
    "            if max(ydata)>y_max: y_max = max(ydata)\n",
    "        \n",
    "        # Generate plots\n",
    "        if dsi == 0: # experimental results\n",
    "            if spi == 1: # deconvoluted neutrons\n",
    "                alpha_val=1.0\n",
    "                marker_val = \".\"\n",
    "                p = plt.errorbar(xdata,ydata,yerr=yerr_stat,c=detector_colors(di%6),marker=marker_val,markersize=3,linestyle=\":\",alpha=alpha_val,label=lab_text) #,label='Simulated (MCNP)')\n",
    "            else:\n",
    "                # x error bar (bin width)\n",
    "                xerrbar = xbinw\n",
    "                # x error box (energy resolution\n",
    "                xerrbox = xerr\n",
    "                xerrbox = np.array([xerrbox, xerrbox])\n",
    "                # y error bar (systematic uncertainty)\n",
    "                yerrbar = [yerr_sys, yerr_sys]\n",
    "                yerrbar[0][(ydata-yerrbar[0])<=0]=0 # get rid of negative error bars\n",
    "                yerrbar[1][(ydata)<=0]=0 # get rid of errorbars on negative points\n",
    "                # y error box (statistical uncertainty)\n",
    "                yerrbox = np.array([yerr_stat, yerr_stat])\n",
    "                \n",
    "                p = plt.errorbar(xdata,ydata,xerr=xerrbar,yerr=yerrbar,marker=\".\",c=detector_colors(di%6),markersize=2,linestyle=\"\",elinewidth=0.5,markeredgewidth=0.5,capsize=0,label=lab_text)\n",
    "                nx_color = detector_colors(di%6) #p[0].get_color()\n",
    "                makeErrorBoxes(xdata,ydata,xerrbox,yerrbox,fc='None',ec=nx_color,alpha=1.0,lw=0.5)\n",
    "                makeErrorBoxes(xdata,ydata,xerrbox,yerrbox,fc=nx_color,ec='None',alpha=0.1,lw=0.5)\n",
    "                \n",
    "        elif dsi == 1: # MCNP results\n",
    "            ebp = plt.errorbar(xdata,ydata,yerr=yerr_stat,c=detector_colors(di%6),marker=\"^\",markersize=3,linestyle=\"--\") #,label=lab_text) #,label='Simulated (MCNP)')\n",
    "        \n",
    "        elif dsi == 2: # PHITS results\n",
    "            ebp = plt.errorbar(xdata,ydata,yerr=yerr_stat,c=detector_colors(di%6),marker=\"s\",markersize=3,linestyle=\"--\") #,label=lab_text) #,label='Simulated (PHITS)')\n",
    "        \n",
    "\n",
    "if spacing_condition == 1:\n",
    "    box_h_offset = 0.14 - 0.005*len(det_angle_i_list) # vertical offset left at the bottom for legend stuff\n",
    "    leg_minus_y = -0.01*(6-len(det_angle_i_list))\n",
    "    leg2_anchor = (0.45, -0.065+leg_minus_y) # data sets\n",
    "    leg1_anchor = (0.47, -0.115+leg_minus_y) # detectors \n",
    "else:\n",
    "    box_h_offset = 0.11 + 0.02*np.floor((len(det_angle_i_list)-1)/3) # vertical offset left at the bottom for legend stuff\n",
    "    leg2_anchor = (0.45, -0.115) # data sets\n",
    "    leg1_anchor = (0.47, -0.175) # detectors \n",
    "\n",
    "box_h_multiplier = 1-box_h_offset #0.92 # percentage of total height occupied by actual plot\n",
    "\n",
    "#handles, labels = ax.get_legend_handles_labels()\n",
    "#if len(data_set_i_list)==3: # Three rows in named legend\n",
    "#    box_h_multiplier = 0.92 # percentage of total height occupied by actual plot\n",
    "#    box_h_offset = 0.12 # vertical offset left at the bottom for legend stuff\n",
    "#    leg2_anchor = (0.5, -0.065)\n",
    "#    leg1_anchor = (0.47, -0.155)\n",
    "#elif len(data_set_i_list)==2: # Two rows of legend\n",
    "#    box_h_multiplier = 0.92 # percentage of total height occupied by actual plot\n",
    "#    box_h_offset = 0.12 # vertical offset left at the bottom for legend stuff\n",
    "#    leg2_anchor = (0.5, -0.065)\n",
    "#    leg1_anchor = (0.47, -0.155)\n",
    "#else: # One row of legend\n",
    "#    box_h_multiplier = 0.92 # percentage of total height occupied by actual plot\n",
    "#    box_h_offset = 0.12 # vertical offset left at the bottom for legend stuff\n",
    "#    leg2_anchor = (0.5, -0.065)\n",
    "#    leg1_anchor = (0.47, -0.155)\n",
    "\n",
    "# Set size and location of the plot on the canvas\n",
    "box = ax.get_position()\n",
    "ax.set_position([box.x0 + box.width * 0.025, box.y0 + box.height * box_h_offset,box.width * 0.95, box.height * box_h_multiplier])\n",
    "\n",
    "# Put a legend below current axis\n",
    "legend2 = ax.legend(used_ds_legs,used_ds_leg_strs,loc='upper center', bbox_to_anchor=leg2_anchor, ncol=n_data_sets)\n",
    "\n",
    "# Put a legend below current axis\n",
    "ax.legend(leg_handles1[:(len(det_angle_i_list))],leg_labels1[:(len(det_angle_i_list))],loc='upper center', bbox_to_anchor=leg1_anchor, ncol=3,handletextpad=0.1)\n",
    "ax.add_artist(legend2)\n",
    "\n",
    "window_title = mm_metadata[dsi,isi,iei,ftmi,ftti,spi,0,1] + \"_fig\"\n",
    "fig.canvas.set_window_title(window_title)\n",
    "if spacing_condition == 1: \n",
    "    height_val = 5.25 + len(det_angle_i_list)\n",
    "    fig.set_size_inches(5.25,height_val)\n",
    "else:\n",
    "    fig.set_size_inches(5.25,6.25)\n",
    "        \n",
    "plt.xscale('log')\n",
    "plt.yscale('log')\n",
    "plt.grid(b=True, which='major', linestyle='-', alpha=0.25)\n",
    "plt.grid(b=True, which='minor', linestyle='-', alpha=0.10)\n",
    "plt.xlim([5,2000])\n",
    "plt.ylim([10**np.floor(np.log10(y_min)),10**np.ceil(np.log10(y_max))])        \n",
    "\n",
    "plt.show()        \n",
    "        \n",
    "    \n",
    "    \n"
   ]
  },
  {
   "cell_type": "code",
   "execution_count": null,
   "metadata": {},
   "outputs": [],
   "source": []
  }
 ],
 "metadata": {
  "kernelspec": {
   "display_name": "Python 3",
   "language": "python",
   "name": "python3"
  },
  "language_info": {
   "codemirror_mode": {
    "name": "ipython",
    "version": 3
   },
   "file_extension": ".py",
   "mimetype": "text/x-python",
   "name": "python",
   "nbconvert_exporter": "python",
   "pygments_lexer": "ipython3",
   "version": "3.6.4"
  },
  "widgets": {
   "application/vnd.jupyter.widget-state+json": {
    "state": {
     "0017f825ac48419da4b51260e1acf358": {
      "model_module": "@jupyter-widgets/base",
      "model_module_version": "1.0.0",
      "model_name": "LayoutModel",
      "state": {}
     },
     "0070d4f6780e40d6b962f1dfc9e13934": {
      "model_module": "@jupyter-widgets/base",
      "model_module_version": "1.0.0",
      "model_name": "LayoutModel",
      "state": {}
     },
     "008a7696a1c74d4cb8ae1ca7c84e83e4": {
      "model_module": "@jupyter-widgets/controls",
      "model_module_version": "1.1.0",
      "model_name": "DescriptionStyleModel",
      "state": {
       "description_width": ""
      }
     },
     "008d4deaa4f24f778435821053645eab": {
      "model_module": "@jupyter-widgets/controls",
      "model_module_version": "1.1.0",
      "model_name": "DescriptionStyleModel",
      "state": {
       "description_width": ""
      }
     },
     "0097f451415149d5a8a5b91cd0fcde5b": {
      "model_module": "@jupyter-widgets/controls",
      "model_module_version": "1.1.0",
      "model_name": "DescriptionStyleModel",
      "state": {
       "description_width": ""
      }
     },
     "00ad944b06944d3ab809f24d2c5ca45d": {
      "model_module": "@jupyter-widgets/base",
      "model_module_version": "1.0.0",
      "model_name": "LayoutModel",
      "state": {}
     },
     "00d74a39d4c04a5fa369e9a5a81e7161": {
      "model_module": "@jupyter-widgets/controls",
      "model_module_version": "1.1.0",
      "model_name": "CheckboxModel",
      "state": {
       "description": "60°",
       "disabled": false,
       "layout": "IPY_MODEL_ff286a067c23439a868c7e18520be3c3",
       "style": "IPY_MODEL_b04672d85a424837b02b239fd6d93306",
       "value": false
      }
     },
     "00f95cd13fc5493dbd84db161aa668d2": {
      "model_module": "@jupyter-widgets/controls",
      "model_module_version": "1.1.0",
      "model_name": "ToggleButtonsStyleModel",
      "state": {
       "button_width": "",
       "description_width": ""
      }
     },
     "010886a935064dafbac5afac795dc090": {
      "model_module": "@jupyter-widgets/controls",
      "model_module_version": "1.1.0",
      "model_name": "ToggleButtonsModel",
      "state": {
       "_options_labels": [
        "20 g/cm²",
        "40 g/cm²",
        "60 g/cm²"
       ],
       "button_style": "",
       "description": "Thickness:",
       "icons": [],
       "index": 0,
       "layout": "IPY_MODEL_baf6d63299f54108a883c23ac2fe5f20",
       "style": "IPY_MODEL_cc8d38e0424c4fb483595feafc62784c",
       "tooltips": [
        "20 g/cm² Aluminum",
        "40 g/cm² Aluminum",
        "60 g/cm² Aluminum"
       ]
      }
     },
     "012702128d55420bb4f3a67906054542": {
      "model_module": "@jupyter-widgets/controls",
      "model_module_version": "1.1.0",
      "model_name": "ToggleButtonsStyleModel",
      "state": {
       "button_width": "",
       "description_width": ""
      }
     },
     "0134c3792d954a6fb8646afb9cd0529f": {
      "model_module": "@jupyter-widgets/controls",
      "model_module_version": "1.1.0",
      "model_name": "DescriptionStyleModel",
      "state": {
       "description_width": ""
      }
     },
     "01cfdf7a65f047b8a4c617630919767c": {
      "model_module": "@jupyter-widgets/controls",
      "model_module_version": "1.1.0",
      "model_name": "DescriptionStyleModel",
      "state": {
       "description_width": ""
      }
     },
     "01ffdb0f8e284eb5bc5ea005cd6710e7": {
      "model_module": "@jupyter-widgets/base",
      "model_module_version": "1.0.0",
      "model_name": "LayoutModel",
      "state": {}
     },
     "0216a4952183460e87f1704add98eb41": {
      "model_module": "@jupyter-widgets/controls",
      "model_module_version": "1.1.0",
      "model_name": "LabelModel",
      "state": {
       "layout": "IPY_MODEL_c4c4135d776f4acd9de51c55ac838f6e",
       "style": "IPY_MODEL_30f4d12206a246b7a77d5dc6a690b65f",
       "value": "Select which sets of data to display."
      }
     },
     "023d98986734416e92f986009753c584": {
      "model_module": "@jupyter-widgets/controls",
      "model_module_version": "1.1.0",
      "model_name": "DescriptionStyleModel",
      "state": {
       "description_width": ""
      }
     },
     "027fe3d5ff7043d781512933effbf2f7": {
      "model_module": "@jupyter-widgets/base",
      "model_module_version": "1.0.0",
      "model_name": "LayoutModel",
      "state": {}
     },
     "02aa7d90330a4b3696037f1f27886f8c": {
      "model_module": "@jupyter-widgets/controls",
      "model_module_version": "1.1.0",
      "model_name": "LabelModel",
      "state": {
       "layout": "IPY_MODEL_3cf480469a1c4902b53f1b2f7ff72c9d",
       "style": "IPY_MODEL_4e692a9a30684f1e9cf9f9eab12388e7",
       "value": "Select projectile ion energy."
      }
     },
     "02f0fec9ce024a018ce95422f807e9d9": {
      "model_module": "@jupyter-widgets/base",
      "model_module_version": "1.0.0",
      "model_name": "LayoutModel",
      "state": {}
     },
     "0325f1eb5b4447b2b246594279c8fe3a": {
      "model_module": "@jupyter-widgets/controls",
      "model_module_version": "1.1.0",
      "model_name": "CheckboxModel",
      "state": {
       "description": "80°",
       "disabled": false,
       "layout": "IPY_MODEL_a170331431ec446bb37fa1103c649671",
       "style": "IPY_MODEL_7b49faf0031b4bbd8bcfec5944e74490",
       "value": true
      }
     },
     "03712579db5b417eb16f345eff7e67a8": {
      "model_module": "@jupyter-widgets/controls",
      "model_module_version": "1.1.0",
      "model_name": "DescriptionStyleModel",
      "state": {
       "description_width": ""
      }
     },
     "038cd47bafb04d39a36cd5ab084c585d": {
      "model_module": "@jupyter-widgets/controls",
      "model_module_version": "1.1.0",
      "model_name": "DescriptionStyleModel",
      "state": {
       "description_width": ""
      }
     },
     "039f033d47cf409a828dd3e58c09ff31": {
      "model_module": "@jupyter-widgets/base",
      "model_module_version": "1.0.0",
      "model_name": "LayoutModel",
      "state": {}
     },
     "03a393a5b856453da2dc9e69bb9c625b": {
      "model_module": "@jupyter-widgets/controls",
      "model_module_version": "1.1.0",
      "model_name": "DescriptionStyleModel",
      "state": {
       "description_width": ""
      }
     },
     "03b19c06f12e4aadad7aec80c5d6b1ed": {
      "model_module": "@jupyter-widgets/base",
      "model_module_version": "1.0.0",
      "model_name": "LayoutModel",
      "state": {}
     },
     "03bce7f3e45942f3879e3634436c2d48": {
      "model_module": "@jupyter-widgets/controls",
      "model_module_version": "1.1.0",
      "model_name": "CheckboxModel",
      "state": {
       "description": "80°",
       "disabled": false,
       "layout": "IPY_MODEL_933c72475e084d81ac77d6da3209cd71",
       "style": "IPY_MODEL_19e0b081d42e4dccaf1e0c50fc67ddd5",
       "value": false
      }
     },
     "03fbf2b260454a4aba02e0841a431c22": {
      "model_module": "@jupyter-widgets/base",
      "model_module_version": "1.0.0",
      "model_name": "LayoutModel",
      "state": {}
     },
     "0405d139d80c4d2fb48d2bc080b29133": {
      "model_module": "@jupyter-widgets/base",
      "model_module_version": "1.0.0",
      "model_name": "LayoutModel",
      "state": {}
     },
     "047a017af03e49b6b3d64477ccdbb467": {
      "model_module": "@jupyter-widgets/base",
      "model_module_version": "1.0.0",
      "model_name": "LayoutModel",
      "state": {}
     },
     "04856c4da0f8470b965e9c90face4351": {
      "model_module": "@jupyter-widgets/controls",
      "model_module_version": "1.1.0",
      "model_name": "ToggleButtonsModel",
      "state": {
       "_options_labels": [
        "P (¹H)",
        "D (²H)"
       ],
       "button_style": "",
       "description": "Type:",
       "icons": [],
       "index": 0,
       "layout": "IPY_MODEL_c5d36e086e9d4cc3b7d1557ef0f7fa5e",
       "style": "IPY_MODEL_967b141189f74ccab36ab8014846abc2",
       "tooltips": [
        "Proton",
        "Deuteron"
       ]
      }
     },
     "048c1bcecd1d40c0884a177d5a9871b8": {
      "model_module": "@jupyter-widgets/controls",
      "model_module_version": "1.1.0",
      "model_name": "CheckboxModel",
      "state": {
       "description": "10°",
       "disabled": false,
       "layout": "IPY_MODEL_922f9e22784b4ae2bb657e36623d08f7",
       "style": "IPY_MODEL_6432281fb9754f448a6ef8b536a3b412",
       "value": true
      }
     },
     "048c97d7f51846b8a8fb4df0561446da": {
      "model_module": "@jupyter-widgets/controls",
      "model_module_version": "1.1.0",
      "model_name": "ToggleButtonsStyleModel",
      "state": {
       "button_width": "",
       "description_width": ""
      }
     },
     "04d1efb4970542e8a1080845ae9e2928": {
      "model_module": "@jupyter-widgets/controls",
      "model_module_version": "1.1.0",
      "model_name": "ToggleButtonsStyleModel",
      "state": {
       "button_width": "",
       "description_width": ""
      }
     },
     "04f6f0b7ec3144c382a4cc7cc0382006": {
      "model_module": "@jupyter-widgets/controls",
      "model_module_version": "1.1.0",
      "model_name": "DescriptionStyleModel",
      "state": {
       "description_width": ""
      }
     },
     "053cbccbe0f4414bad85c180627d0aa8": {
      "model_module": "@jupyter-widgets/base",
      "model_module_version": "1.0.0",
      "model_name": "LayoutModel",
      "state": {}
     },
     "056247fa572144639545bed9724d980c": {
      "model_module": "@jupyter-widgets/base",
      "model_module_version": "1.0.0",
      "model_name": "LayoutModel",
      "state": {}
     },
     "05cb3d47b34d471a8df96e77a72f430b": {
      "model_module": "@jupyter-widgets/controls",
      "model_module_version": "1.1.0",
      "model_name": "DescriptionStyleModel",
      "state": {
       "description_width": ""
      }
     },
     "05d44f7bd9aa41a9b3174967dca3017e": {
      "model_module": "@jupyter-widgets/controls",
      "model_module_version": "1.1.0",
      "model_name": "DescriptionStyleModel",
      "state": {
       "description_width": ""
      }
     },
     "0686d3b5c5b84f9092d04cdafdc19e38": {
      "model_module": "@jupyter-widgets/controls",
      "model_module_version": "1.1.0",
      "model_name": "CheckboxModel",
      "state": {
       "description": "135°",
       "disabled": false,
       "layout": "IPY_MODEL_65dc34305d364cc9aec224dba5542416",
       "style": "IPY_MODEL_bf46a752abcc4d5fbf32245fdf95c4c6",
       "value": true
      }
     },
     "0690a3e1cbc74d7187623275273dfd04": {
      "model_module": "@jupyter-widgets/controls",
      "model_module_version": "1.1.0",
      "model_name": "CheckboxModel",
      "state": {
       "description": "28.2°",
       "disabled": false,
       "layout": "IPY_MODEL_d2d4748d7e4a474f915d0d74bdbdd997",
       "style": "IPY_MODEL_7d96e7efeee54fd8a36c0a044393d5b5",
       "value": true
      }
     },
     "06911039ed2b4f93bbec1f3465e4792f": {
      "model_module": "@jupyter-widgets/controls",
      "model_module_version": "1.1.0",
      "model_name": "DescriptionStyleModel",
      "state": {
       "description_width": ""
      }
     },
     "06d7392df2194c34bd81733ab0f8cac0": {
      "model_module": "@jupyter-widgets/controls",
      "model_module_version": "1.1.0",
      "model_name": "CheckboxModel",
      "state": {
       "description": "10°",
       "disabled": false,
       "layout": "IPY_MODEL_5f33917099b84db99530cfe19a797a09",
       "style": "IPY_MODEL_cc25001962124cd0b19df67981cb178d",
       "value": true
      }
     },
     "06ffd4f5627f4e9aa530d9ff2d701525": {
      "model_module": "@jupyter-widgets/controls",
      "model_module_version": "1.1.0",
      "model_name": "ToggleButtonsModel",
      "state": {
       "_options_labels": [
        "None",
        "Spaced by 10²"
       ],
       "button_style": "",
       "description": "Spacing:",
       "icons": [],
       "index": 0,
       "layout": "IPY_MODEL_5db4f40a4ff340c792d454c100ac3ca1",
       "style": "IPY_MODEL_10a9f39e18144bbb8a1579af3ea8665d",
       "tooltips": [
        "All values are presented as is.",
        "Plots for different detectors are multiplied by powers of 10² for easier viewing."
       ]
      }
     },
     "0746464c2c8941e88c580ec518a56bda": {
      "model_module": "@jupyter-widgets/base",
      "model_module_version": "1.0.0",
      "model_name": "LayoutModel",
      "state": {}
     },
     "0746ca285bc24b84bbfb25149be57bd6": {
      "model_module": "@jupyter-widgets/controls",
      "model_module_version": "1.1.0",
      "model_name": "DescriptionStyleModel",
      "state": {
       "description_width": ""
      }
     },
     "074cb167ae664aa1a749896d67cfd459": {
      "model_module": "@jupyter-widgets/controls",
      "model_module_version": "1.1.0",
      "model_name": "DescriptionStyleModel",
      "state": {
       "description_width": ""
      }
     },
     "078ada0077324c248ec853179331469f": {
      "model_module": "@jupyter-widgets/controls",
      "model_module_version": "1.1.0",
      "model_name": "DescriptionStyleModel",
      "state": {
       "description_width": ""
      }
     },
     "07a353fb216b4b9d82518cf8f40c9a26": {
      "model_module": "@jupyter-widgets/controls",
      "model_module_version": "1.1.0",
      "model_name": "LabelModel",
      "state": {
       "layout": "IPY_MODEL_eacf4b0c30b94827b8e74e51c200c853",
       "style": "IPY_MODEL_a5ab1f2937214bd09dec3d87590ba417",
       "value": "Select which secondary particle to plot spectra for."
      }
     },
     "07d75c2623a14acaac5b43e08e71b559": {
      "model_module": "@jupyter-widgets/controls",
      "model_module_version": "1.1.0",
      "model_name": "DescriptionStyleModel",
      "state": {
       "description_width": ""
      }
     },
     "08166d77b35f43fd8598f6c8612cbcaa": {
      "model_module": "@jupyter-widgets/controls",
      "model_module_version": "1.1.0",
      "model_name": "DescriptionStyleModel",
      "state": {
       "description_width": ""
      }
     },
     "081eed35ebd6477f95c3abb50281bf35": {
      "model_module": "@jupyter-widgets/controls",
      "model_module_version": "1.1.0",
      "model_name": "ToggleButtonsStyleModel",
      "state": {
       "button_width": "",
       "description_width": ""
      }
     },
     "083d6cdb707a4e63bf282c13b7456a14": {
      "model_module": "@jupyter-widgets/base",
      "model_module_version": "1.0.0",
      "model_name": "LayoutModel",
      "state": {}
     },
     "087c346b7f9149a5bcd28c50dd1b4483": {
      "model_module": "@jupyter-widgets/controls",
      "model_module_version": "1.1.0",
      "model_name": "CheckboxModel",
      "state": {
       "description": "10°",
       "disabled": false,
       "layout": "IPY_MODEL_0dfa11fe74624d75989c09fe7f864bfe",
       "style": "IPY_MODEL_19147c5420c549e0b2700c357babc0f8",
       "value": true
      }
     },
     "08874af4f11e4866a1c963a34f169b7b": {
      "model_module": "@jupyter-widgets/controls",
      "model_module_version": "1.1.0",
      "model_name": "DescriptionStyleModel",
      "state": {
       "description_width": ""
      }
     },
     "08a9fee61c6045c59bcc75c4bd20081c": {
      "model_module": "@jupyter-widgets/controls",
      "model_module_version": "1.1.0",
      "model_name": "DescriptionStyleModel",
      "state": {
       "description_width": ""
      }
     },
     "08f0b78c47574a45ac876371dff017db": {
      "model_module": "@jupyter-widgets/base",
      "model_module_version": "1.0.0",
      "model_name": "LayoutModel",
      "state": {}
     },
     "0904d5c615004520b4addc0afd8f11c6": {
      "model_module": "@jupyter-widgets/base",
      "model_module_version": "1.0.0",
      "model_name": "LayoutModel",
      "state": {}
     },
     "090598d5c0c24f1f90f63baa520df67a": {
      "model_module": "@jupyter-widgets/base",
      "model_module_version": "1.0.0",
      "model_name": "LayoutModel",
      "state": {}
     },
     "09361aa9b2214dcb930e3afa4c30b797": {
      "model_module": "@jupyter-widgets/controls",
      "model_module_version": "1.1.0",
      "model_name": "CheckboxModel",
      "state": {
       "description": "10°",
       "disabled": false,
       "layout": "IPY_MODEL_1749abe25a594d598be919bca214e8ae",
       "style": "IPY_MODEL_c2605c1cb60749a7b7270bcd75f72b79",
       "value": true
      }
     },
     "094e31aacf7e473a919b5a57d531f347": {
      "model_module": "@jupyter-widgets/base",
      "model_module_version": "1.0.0",
      "model_name": "LayoutModel",
      "state": {}
     },
     "095b4ce3a3364cbaa4c0dbd459814f9a": {
      "model_module": "@jupyter-widgets/controls",
      "model_module_version": "1.1.0",
      "model_name": "DescriptionStyleModel",
      "state": {
       "description_width": ""
      }
     },
     "096edd4c560a4a609841cd291ee98d00": {
      "model_module": "@jupyter-widgets/controls",
      "model_module_version": "1.1.0",
      "model_name": "CheckboxModel",
      "state": {
       "description": "10°",
       "disabled": false,
       "layout": "IPY_MODEL_665fc08931fc44619afd3e1014cef644",
       "style": "IPY_MODEL_a59b588a6e0b4502b50c251055bfb406",
       "value": true
      }
     },
     "09f1f55f355d408eb0e5a49eba19f462": {
      "model_module": "@jupyter-widgets/base",
      "model_module_version": "1.0.0",
      "model_name": "LayoutModel",
      "state": {}
     },
     "09f55ebe75614576bc59d2f1dc4acb99": {
      "model_module": "@jupyter-widgets/controls",
      "model_module_version": "1.1.0",
      "model_name": "LabelModel",
      "state": {
       "layout": "IPY_MODEL_a32596ccc6844d88beffb3e6617460f0",
       "style": "IPY_MODEL_d356f5cd30dd499481e6418c369bd94c",
       "value": "Select the detector angles to plot."
      }
     },
     "0a097c151ddc43b782d890c5da15407d": {
      "model_module": "@jupyter-widgets/controls",
      "model_module_version": "1.1.0",
      "model_name": "CheckboxModel",
      "state": {
       "description": "10°",
       "disabled": false,
       "layout": "IPY_MODEL_9871518fbb424f9fb82122b1118f1676",
       "style": "IPY_MODEL_64bcc39945b54dc3845c9c8a5f663971",
       "value": true
      }
     },
     "0a0d9cee4f61455e902848baa25f71d3": {
      "model_module": "@jupyter-widgets/controls",
      "model_module_version": "1.1.0",
      "model_name": "DescriptionStyleModel",
      "state": {
       "description_width": ""
      }
     },
     "0a3b209bcf6841b9a433d6e5c3b1a795": {
      "model_module": "@jupyter-widgets/controls",
      "model_module_version": "1.1.0",
      "model_name": "ToggleButtonsStyleModel",
      "state": {
       "button_width": "",
       "description_width": ""
      }
     },
     "0a4648394cbd457b8e85c232f793fa03": {
      "model_module": "@jupyter-widgets/controls",
      "model_module_version": "1.1.0",
      "model_name": "CheckboxModel",
      "state": {
       "description": "30°",
       "disabled": false,
       "layout": "IPY_MODEL_b1b2e4a172a0450c8398fd8c63426533",
       "style": "IPY_MODEL_94f922cfd08645dbadb59353c980e910",
       "value": true
      }
     },
     "0a82ab59695f43bab8f1746b3a2e4905": {
      "model_module": "@jupyter-widgets/base",
      "model_module_version": "1.0.0",
      "model_name": "LayoutModel",
      "state": {}
     },
     "0abffa0061eb431eadd0b537a048d95d": {
      "model_module": "@jupyter-widgets/base",
      "model_module_version": "1.0.0",
      "model_name": "LayoutModel",
      "state": {}
     },
     "0b10e77ea73949b88d3e9b00e33b7c0c": {
      "model_module": "@jupyter-widgets/controls",
      "model_module_version": "1.1.0",
      "model_name": "CheckboxModel",
      "state": {
       "description": "80°",
       "disabled": false,
       "layout": "IPY_MODEL_384c2f9e6a9240a7aac3d6b7beeb3c2e",
       "style": "IPY_MODEL_008a7696a1c74d4cb8ae1ca7c84e83e4",
       "value": true
      }
     },
     "0b259ca278e647fdae7df89f47deff34": {
      "model_module": "@jupyter-widgets/base",
      "model_module_version": "1.0.0",
      "model_name": "LayoutModel",
      "state": {}
     },
     "0b27835f9ef445558cc2f963f85d4f87": {
      "model_module": "@jupyter-widgets/controls",
      "model_module_version": "1.1.0",
      "model_name": "DescriptionStyleModel",
      "state": {
       "description_width": ""
      }
     },
     "0b6e65836b254ff49828fe5d8fdca69f": {
      "model_module": "@jupyter-widgets/controls",
      "model_module_version": "1.1.0",
      "model_name": "CheckboxModel",
      "state": {
       "description": "45°",
       "disabled": false,
       "layout": "IPY_MODEL_56eef3271bf545989ce729f658001984",
       "style": "IPY_MODEL_2ca819c4502f4d179b97705857a3cea9",
       "value": true
      }
     },
     "0ba15f02a3e241cfb5554239e37e8a39": {
      "model_module": "@jupyter-widgets/base",
      "model_module_version": "1.0.0",
      "model_name": "LayoutModel",
      "state": {}
     },
     "0bb45028a61a44e6912f4379e8479fb2": {
      "model_module": "@jupyter-widgets/controls",
      "model_module_version": "1.1.0",
      "model_name": "CheckboxModel",
      "state": {
       "description": "30°",
       "disabled": false,
       "layout": "IPY_MODEL_a9eb32704977437e852c288bee57f477",
       "style": "IPY_MODEL_efcb746359c4475e975c88a99c210c04",
       "value": true
      }
     },
     "0be0b15171fb44f1af5f90865579e69a": {
      "model_module": "@jupyter-widgets/controls",
      "model_module_version": "1.1.0",
      "model_name": "CheckboxModel",
      "state": {
       "description": "30°",
       "disabled": false,
       "layout": "IPY_MODEL_ae04b1d2163a40a8bc5de76789e0d27d",
       "style": "IPY_MODEL_dc6d91722d5c44ff8bff9b0db1e2cff7",
       "value": true
      }
     },
     "0bf4a0d53fc74f159eaa0fe9e9553c72": {
      "model_module": "@jupyter-widgets/controls",
      "model_module_version": "1.1.0",
      "model_name": "DescriptionStyleModel",
      "state": {
       "description_width": ""
      }
     },
     "0c132da78fcf4a549f39d30e06c640a9": {
      "model_module": "@jupyter-widgets/base",
      "model_module_version": "1.0.0",
      "model_name": "LayoutModel",
      "state": {}
     },
     "0c250d6154444cb5aaca2a60f583c229": {
      "model_module": "@jupyter-widgets/controls",
      "model_module_version": "1.1.0",
      "model_name": "ToggleButtonsStyleModel",
      "state": {
       "button_width": "",
       "description_width": ""
      }
     },
     "0c3297f4aa9948278ef3e5ba45d189d8": {
      "model_module": "@jupyter-widgets/controls",
      "model_module_version": "1.1.0",
      "model_name": "DescriptionStyleModel",
      "state": {
       "description_width": ""
      }
     },
     "0c4497ae6e61401f93ba222bb92a4bec": {
      "model_module": "@jupyter-widgets/controls",
      "model_module_version": "1.1.0",
      "model_name": "LabelModel",
      "state": {
       "layout": "IPY_MODEL_4b6fa27e982d4d39a045f12e95015ba9",
       "style": "IPY_MODEL_4cc39a6a644b45c2ae23f45f0791d40f",
       "value": "Select projectile ion energy."
      }
     },
     "0c95bdbf92084f04ab1fb8409bf086a9": {
      "model_module": "@jupyter-widgets/controls",
      "model_module_version": "1.1.0",
      "model_name": "CheckboxModel",
      "state": {
       "description": "135°",
       "disabled": false,
       "layout": "IPY_MODEL_b1f1994c3de742f98d80525a0dc6cdb8",
       "style": "IPY_MODEL_15c535b975a647e4bedb7e06e6a77381",
       "value": true
      }
     },
     "0cc5ed2fc18449fb9cdba5cdc70bab69": {
      "model_module": "@jupyter-widgets/controls",
      "model_module_version": "1.1.0",
      "model_name": "DescriptionStyleModel",
      "state": {
       "description_width": ""
      }
     },
     "0d0ef56dfa2143b8afbd9dfe27c424f4": {
      "model_module": "@jupyter-widgets/controls",
      "model_module_version": "1.1.0",
      "model_name": "CheckboxModel",
      "state": {
       "description": "12.7°",
       "disabled": false,
       "layout": "IPY_MODEL_e006b153e8c04f7981c6ddc8c3678b96",
       "style": "IPY_MODEL_f606adc961c44f8b9755d1e03eb8449a",
       "value": false
      }
     },
     "0d391190abd44d54b833e58e653dc40b": {
      "model_module": "@jupyter-widgets/base",
      "model_module_version": "1.0.0",
      "model_name": "LayoutModel",
      "state": {}
     },
     "0d5b2c31b6ba45a5b485646040acbc1c": {
      "model_module": "@jupyter-widgets/controls",
      "model_module_version": "1.1.0",
      "model_name": "DescriptionStyleModel",
      "state": {
       "description_width": ""
      }
     },
     "0d68d719bd2542f7a4a21bfdbf9e730f": {
      "model_module": "@jupyter-widgets/controls",
      "model_module_version": "1.1.0",
      "model_name": "DescriptionStyleModel",
      "state": {
       "description_width": ""
      }
     },
     "0d751cb4f6e548f4b8ce129fb2a1948f": {
      "model_module": "@jupyter-widgets/base",
      "model_module_version": "1.0.0",
      "model_name": "LayoutModel",
      "state": {}
     },
     "0d9a471588b04f9abc437e7e66b87771": {
      "model_module": "@jupyter-widgets/controls",
      "model_module_version": "1.1.0",
      "model_name": "CheckboxModel",
      "state": {
       "description": "45°",
       "disabled": false,
       "layout": "IPY_MODEL_274735463f814b4bb41f95977294b805",
       "style": "IPY_MODEL_ddd4c7730c2943e088922ab80047a48e",
       "value": true
      }
     },
     "0dc535502f544ef18cef129a43da4899": {
      "model_module": "@jupyter-widgets/controls",
      "model_module_version": "1.1.0",
      "model_name": "DescriptionStyleModel",
      "state": {
       "description_width": ""
      }
     },
     "0df35494584e4aa2ae0f69fa4df9264c": {
      "model_module": "@jupyter-widgets/base",
      "model_module_version": "1.0.0",
      "model_name": "LayoutModel",
      "state": {}
     },
     "0dfa11fe74624d75989c09fe7f864bfe": {
      "model_module": "@jupyter-widgets/base",
      "model_module_version": "1.0.0",
      "model_name": "LayoutModel",
      "state": {}
     },
     "0e4a60466a5a4a2e8b39e6aa0b0e9b1d": {
      "model_module": "@jupyter-widgets/controls",
      "model_module_version": "1.1.0",
      "model_name": "CheckboxModel",
      "state": {
       "description": "45°",
       "disabled": false,
       "layout": "IPY_MODEL_21f02ba46e614e60a7ef3d5ddcb58c4d",
       "style": "IPY_MODEL_379905cd5a194accbe7b7a843105614d",
       "value": true
      }
     },
     "0e58a76a942e4d48a53853067b866527": {
      "model_module": "@jupyter-widgets/controls",
      "model_module_version": "1.1.0",
      "model_name": "ToggleButtonsModel",
      "state": {
       "_options_labels": [
        "N (¹n)",
        "NDC (¹n)",
        "P (¹H)",
        "D (²H)",
        "T (³H)",
        "S (³He)",
        "A (⁴He)"
       ],
       "button_style": "",
       "description": "Particle:",
       "icons": [],
       "index": 1,
       "layout": "IPY_MODEL_cf507ac9b5704ecda923c74581b54fa9",
       "style": "IPY_MODEL_42da148a2a3e4f1f9716cd92540ea132",
       "tooltips": [
        "Neutron",
        "Back Target Neutron",
        "Proton",
        "Deuteron",
        "Triton",
        "Helium-3",
        "Helium-4"
       ]
      }
     },
     "0e7c74024ab7459c89e88c6a6c6d58c7": {
      "model_module": "@jupyter-widgets/controls",
      "model_module_version": "1.1.0",
      "model_name": "DescriptionStyleModel",
      "state": {
       "description_width": ""
      }
     },
     "0e990f10fa3a4299b2d8194a6469a2da": {
      "model_module": "@jupyter-widgets/controls",
      "model_module_version": "1.1.0",
      "model_name": "DescriptionStyleModel",
      "state": {
       "description_width": ""
      }
     },
     "0ebc3162b4da49f3a6d4f7aa043c52d9": {
      "model_module": "@jupyter-widgets/base",
      "model_module_version": "1.0.0",
      "model_name": "LayoutModel",
      "state": {}
     },
     "0ed75108efaa44f5b4e6d73404bdf8f4": {
      "model_module": "@jupyter-widgets/controls",
      "model_module_version": "1.1.0",
      "model_name": "CheckboxModel",
      "state": {
       "description": "60°",
       "disabled": false,
       "layout": "IPY_MODEL_8ea468f235574c918668b197248fbf7d",
       "style": "IPY_MODEL_14cfeddecba7482199b9ea67847f885f",
       "value": true
      }
     },
     "0f4d8e82915342dea9c99fdf5cf9559b": {
      "model_module": "@jupyter-widgets/base",
      "model_module_version": "1.0.0",
      "model_name": "LayoutModel",
      "state": {}
     },
     "0f64b367e84944c6bb9f39de60b04729": {
      "model_module": "@jupyter-widgets/controls",
      "model_module_version": "1.1.0",
      "model_name": "DescriptionStyleModel",
      "state": {
       "description_width": ""
      }
     },
     "0faaac1d69f34135b1b9e3cc6ffeb29c": {
      "model_module": "@jupyter-widgets/controls",
      "model_module_version": "1.1.0",
      "model_name": "DescriptionStyleModel",
      "state": {
       "description_width": ""
      }
     },
     "0fd4e4d9a1e24438beae0580eb21cd0a": {
      "model_module": "@jupyter-widgets/controls",
      "model_module_version": "1.1.0",
      "model_name": "DescriptionStyleModel",
      "state": {
       "description_width": ""
      }
     },
     "0fee5ca72fa14b4591a7f674fc17f243": {
      "model_module": "@jupyter-widgets/controls",
      "model_module_version": "1.1.0",
      "model_name": "CheckboxModel",
      "state": {
       "description": "7.2°",
       "disabled": false,
       "layout": "IPY_MODEL_bbb5f1f4d7e24b1a81fd951913eb0c43",
       "style": "IPY_MODEL_1963e7eec4ae4110934c80444a00a43c",
       "value": true
      }
     },
     "10187d260a8f420e86a01fdd246b3b19": {
      "model_module": "@jupyter-widgets/controls",
      "model_module_version": "1.1.0",
      "model_name": "LabelModel",
      "state": {
       "layout": "IPY_MODEL_69b8433c4d3c4ff2811205a7b366fe96",
       "style": "IPY_MODEL_3ba19ebc170b40f2b661526b1e62419f",
       "value": "Select the detector angles to plot."
      }
     },
     "104d58e9449e48749b05fefce343f075": {
      "model_module": "@jupyter-widgets/base",
      "model_module_version": "1.0.0",
      "model_name": "LayoutModel",
      "state": {}
     },
     "105f5d8a905f448a8019eaa894cb6f2a": {
      "model_module": "@jupyter-widgets/controls",
      "model_module_version": "1.1.0",
      "model_name": "CheckboxModel",
      "state": {
       "description": "7.2°",
       "disabled": false,
       "layout": "IPY_MODEL_97954afcbea94f4f9fc07ecfe9a9f91d",
       "style": "IPY_MODEL_a02fa49cb30d40c4823416bf6ad3c976",
       "value": false
      }
     },
     "107b2e5c7cb84655ad1c8e6c784e2697": {
      "model_module": "@jupyter-widgets/controls",
      "model_module_version": "1.1.0",
      "model_name": "CheckboxModel",
      "state": {
       "description": "30°",
       "disabled": false,
       "layout": "IPY_MODEL_e497490ce55a47528fa6a34bf8452d68",
       "style": "IPY_MODEL_a7823db7be3f4cd48902bd8f6cbba005",
       "value": true
      }
     },
     "10a9f39e18144bbb8a1579af3ea8665d": {
      "model_module": "@jupyter-widgets/controls",
      "model_module_version": "1.1.0",
      "model_name": "ToggleButtonsStyleModel",
      "state": {
       "button_width": "",
       "description_width": ""
      }
     },
     "10b4f99509df485689b185a6e77913a5": {
      "model_module": "@jupyter-widgets/controls",
      "model_module_version": "1.1.0",
      "model_name": "DescriptionStyleModel",
      "state": {
       "description_width": ""
      }
     },
     "10bde275d29e4c31ad1864d67cdf153c": {
      "model_module": "@jupyter-widgets/controls",
      "model_module_version": "1.1.0",
      "model_name": "ToggleButtonsModel",
      "state": {
       "_options_labels": [
        "N (¹n)",
        "NDC (¹n)",
        "P (¹H)",
        "D (²H)"
       ],
       "button_style": "",
       "description": "Type:",
       "icons": [],
       "index": 0,
       "layout": "IPY_MODEL_3fa835cdaf12418f909ab21e9778b253",
       "style": "IPY_MODEL_8916808f573642e7a06afcd05d759af7",
       "tooltips": [
        "Neutron",
        "Back Target Neutron",
        "Proton",
        "Deuteron"
       ]
      }
     },
     "10eb4b649ea049f6a6685d6b048edfea": {
      "model_module": "@jupyter-widgets/base",
      "model_module_version": "1.0.0",
      "model_name": "LayoutModel",
      "state": {}
     },
     "10f183f605ce403daad19007e941f595": {
      "model_module": "@jupyter-widgets/controls",
      "model_module_version": "1.1.0",
      "model_name": "DescriptionStyleModel",
      "state": {
       "description_width": ""
      }
     },
     "114b096c8d2849e88380a0216538768e": {
      "model_module": "@jupyter-widgets/controls",
      "model_module_version": "1.1.0",
      "model_name": "DescriptionStyleModel",
      "state": {
       "description_width": ""
      }
     },
     "11595e0a202141b1a1810a8271297d9a": {
      "model_module": "@jupyter-widgets/controls",
      "model_module_version": "1.1.0",
      "model_name": "LabelModel",
      "state": {
       "layout": "IPY_MODEL_2c677bde966440d1ab1d799e4a999cc7",
       "style": "IPY_MODEL_56109a4f301b4e7eaf085b954adad9c5",
       "value": "Select the detector angles to plot."
      }
     },
     "116ac127c33a4645b99fbacd4acffcea": {
      "model_module": "@jupyter-widgets/base",
      "model_module_version": "1.0.0",
      "model_name": "LayoutModel",
      "state": {}
     },
     "117cc8277ad9466798b31d944957c9ea": {
      "model_module": "@jupyter-widgets/controls",
      "model_module_version": "1.1.0",
      "model_name": "LabelModel",
      "state": {
       "layout": "IPY_MODEL_6b777fc2776b4640a564e258100c4073",
       "style": "IPY_MODEL_d09da5f86ec0486cb0fbeaad7d0b924a",
       "value": "Select the detector angles to plot."
      }
     },
     "11ac6cd2c4e0425181ae145c624bb8f7": {
      "model_module": "@jupyter-widgets/controls",
      "model_module_version": "1.1.0",
      "model_name": "LabelModel",
      "state": {
       "layout": "IPY_MODEL_4bbd72c1fa0b40e69f7b7a8bbda3f824",
       "style": "IPY_MODEL_43912211b5184688b8ce478f1efbc6ef",
       "value": "Select the detector angles to plot."
      }
     },
     "11aea78791f04ca6adbc4af597e72e71": {
      "model_module": "@jupyter-widgets/base",
      "model_module_version": "1.0.0",
      "model_name": "LayoutModel",
      "state": {}
     },
     "11d6702a7a5f4943902e8121864bb3b1": {
      "model_module": "@jupyter-widgets/controls",
      "model_module_version": "1.1.0",
      "model_name": "ButtonModel",
      "state": {
       "button_style": "success",
       "description": "Update plot",
       "icon": "paint-brush",
       "layout": "IPY_MODEL_550a8b4a444a4dc8979aaff27f9aea77",
       "style": "IPY_MODEL_47bb9e4681e444679e939c70b022b30b",
       "tooltip": "Click to redraw the plot below with updated options from above."
      }
     },
     "11df27aa5e3847d59b5cbdd1ed1e833d": {
      "model_module": "@jupyter-widgets/base",
      "model_module_version": "1.0.0",
      "model_name": "LayoutModel",
      "state": {}
     },
     "11e5620c07cc43d8a2786e3639005438": {
      "model_module": "@jupyter-widgets/controls",
      "model_module_version": "1.1.0",
      "model_name": "DescriptionStyleModel",
      "state": {
       "description_width": ""
      }
     },
     "11f48d37a535475ca688e0905db3162f": {
      "model_module": "@jupyter-widgets/base",
      "model_module_version": "1.0.0",
      "model_name": "LayoutModel",
      "state": {}
     },
     "125eeccb2fdb4c41a531b1210628a84b": {
      "model_module": "@jupyter-widgets/controls",
      "model_module_version": "1.1.0",
      "model_name": "CheckboxModel",
      "state": {
       "description": "45°",
       "disabled": false,
       "layout": "IPY_MODEL_e4d804abadc14c74a33145526e02a3b7",
       "style": "IPY_MODEL_8e7f2696ab6a4fb79016841dd4e1fa51",
       "value": true
      }
     },
     "126979ad38054e0a8468ba5e307f9db5": {
      "model_module": "@jupyter-widgets/controls",
      "model_module_version": "1.1.0",
      "model_name": "ToggleButtonsModel",
      "state": {
       "_options_labels": [
        "N (¹n)",
        "NDC (¹n)",
        "P (¹H)",
        "D (²H)",
        "T (³H)",
        "S (³He)",
        "A (⁴He)"
       ],
       "button_style": "",
       "description": "Type:",
       "icons": [],
       "index": 5,
       "layout": "IPY_MODEL_f4a71d72724943bfaf0276bf593011e7",
       "style": "IPY_MODEL_4873b52e14fb4e01a2efc9b6ec9f4561",
       "tooltips": [
        "Neutron",
        "Back Target Neutron",
        "Proton",
        "Deuteron",
        "Triton",
        "Helium-3",
        "Helium-4"
       ]
      }
     },
     "128415027564430eb376c5398a76e9ed": {
      "model_module": "@jupyter-widgets/controls",
      "model_module_version": "1.1.0",
      "model_name": "CheckboxModel",
      "state": {
       "description": "80°",
       "disabled": false,
       "layout": "IPY_MODEL_7bd08e09b235419884b9026c8318d57b",
       "style": "IPY_MODEL_1d9e716883364df8a8ff753b2645afa2",
       "value": true
      }
     },
     "12cf0e3f5beb4e5db305b20b8628fea2": {
      "model_module": "@jupyter-widgets/controls",
      "model_module_version": "1.1.0",
      "model_name": "ToggleButtonsStyleModel",
      "state": {
       "button_width": "",
       "description_width": ""
      }
     },
     "12dad28b0128407b921fd9caa9fb30b1": {
      "model_module": "@jupyter-widgets/controls",
      "model_module_version": "1.1.0",
      "model_name": "CheckboxModel",
      "state": {
       "description": "80°",
       "disabled": false,
       "layout": "IPY_MODEL_f055cac736c0407b94d3e7ddcc082153",
       "style": "IPY_MODEL_1e81c5de21e34a69a2a2f8ab37580fa5",
       "value": true
      }
     },
     "134bc7054b404937bd3736cbe91e7b67": {
      "model_module": "@jupyter-widgets/base",
      "model_module_version": "1.0.0",
      "model_name": "LayoutModel",
      "state": {}
     },
     "134dbfaf626f4f0188ccfb5e92dc8b4c": {
      "model_module": "@jupyter-widgets/controls",
      "model_module_version": "1.1.0",
      "model_name": "DescriptionStyleModel",
      "state": {
       "description_width": ""
      }
     },
     "1365e00648e04d3e8ccd0cde2afb99d2": {
      "model_module": "@jupyter-widgets/controls",
      "model_module_version": "1.1.0",
      "model_name": "LabelModel",
      "state": {
       "layout": "IPY_MODEL_84775fd52f4349bfb087eae261842288",
       "style": "IPY_MODEL_aa3cfd405b92404eb2f19d71ca77330c",
       "value": "Select the detector angles to plot."
      }
     },
     "1390752cdc434e52b9f7bbcab6f4e297": {
      "model_module": "@jupyter-widgets/base",
      "model_module_version": "1.0.0",
      "model_name": "LayoutModel",
      "state": {}
     },
     "13ca9599e8a6458b9f877c77a465cadf": {
      "model_module": "@jupyter-widgets/base",
      "model_module_version": "1.0.0",
      "model_name": "LayoutModel",
      "state": {}
     },
     "13e8722c02124a1eb5386f71fef459c9": {
      "model_module": "@jupyter-widgets/base",
      "model_module_version": "1.0.0",
      "model_name": "LayoutModel",
      "state": {}
     },
     "1411d8279de942bcac29d5e365385d3c": {
      "model_module": "@jupyter-widgets/base",
      "model_module_version": "1.0.0",
      "model_name": "LayoutModel",
      "state": {}
     },
     "1438a40c9bcc4938b16e0f607404b957": {
      "model_module": "@jupyter-widgets/controls",
      "model_module_version": "1.1.0",
      "model_name": "ToggleButtonsModel",
      "state": {
       "_options_labels": [
        "400 MeV",
        "800 MeV",
        "2500 MeV"
       ],
       "button_style": "",
       "description": "Energy:",
       "icons": [],
       "index": 0,
       "layout": "IPY_MODEL_b897da7bbb4b482da822f91e6f777254",
       "style": "IPY_MODEL_6efc4b6151e242caaa8ab52d50bd5997",
       "tooltips": [
        "lowest energy",
        "middle energy",
        "highest energy"
       ]
      }
     },
     "1444a36731094071b713ff974db02236": {
      "model_module": "@jupyter-widgets/controls",
      "model_module_version": "1.1.0",
      "model_name": "DescriptionStyleModel",
      "state": {
       "description_width": ""
      }
     },
     "145a572af0524b2c966a392096088f62": {
      "model_module": "@jupyter-widgets/controls",
      "model_module_version": "1.1.0",
      "model_name": "CheckboxModel",
      "state": {
       "description": "30°",
       "disabled": false,
       "layout": "IPY_MODEL_1ffc5d883a454771a14c0ab9f328fcf3",
       "style": "IPY_MODEL_4ea59979a0084e069d4cfe7c617b86d8",
       "value": true
      }
     },
     "1464d343c35a4ef39cb521de45cc30a7": {
      "model_module": "@jupyter-widgets/base",
      "model_module_version": "1.0.0",
      "model_name": "LayoutModel",
      "state": {}
     },
     "14747b7132f64713b014ca83848cb75d": {
      "model_module": "@jupyter-widgets/base",
      "model_module_version": "1.0.0",
      "model_name": "LayoutModel",
      "state": {}
     },
     "1487e8abab6d47ebb0c49c2e27bd0fc5": {
      "model_module": "@jupyter-widgets/controls",
      "model_module_version": "1.1.0",
      "model_name": "DescriptionStyleModel",
      "state": {
       "description_width": ""
      }
     },
     "14a99f6b164c4d9299d9760d104c3d74": {
      "model_module": "@jupyter-widgets/base",
      "model_module_version": "1.0.0",
      "model_name": "LayoutModel",
      "state": {}
     },
     "14cfeddecba7482199b9ea67847f885f": {
      "model_module": "@jupyter-widgets/controls",
      "model_module_version": "1.1.0",
      "model_name": "DescriptionStyleModel",
      "state": {
       "description_width": ""
      }
     },
     "14fafc4eb4bf469cae61c06d8cce53bf": {
      "model_module": "@jupyter-widgets/base",
      "model_module_version": "1.0.0",
      "model_name": "LayoutModel",
      "state": {}
     },
     "150c190f1f854c3f99617e36a9d284b7": {
      "model_module": "@jupyter-widgets/controls",
      "model_module_version": "1.1.0",
      "model_name": "CheckboxModel",
      "state": {
       "description": "30°",
       "disabled": false,
       "layout": "IPY_MODEL_94435b3fbd774ecb9620eeafcda40e7b",
       "style": "IPY_MODEL_622b1dbaabd243b9843ca2f3fffb7666",
       "value": true
      }
     },
     "152c368039ae4f16b2ef95b826c218db": {
      "model_module": "@jupyter-widgets/controls",
      "model_module_version": "1.1.0",
      "model_name": "CheckboxModel",
      "state": {
       "description": "45°",
       "disabled": false,
       "layout": "IPY_MODEL_88c16b0b83314b6692444ec6c22caa7f",
       "style": "IPY_MODEL_4dc60796dc4d4b2fb291300a78b5e453",
       "value": true
      }
     },
     "156f2356d2f34394bd0ef2bbc9f4c5b0": {
      "model_module": "@jupyter-widgets/base",
      "model_module_version": "1.0.0",
      "model_name": "LayoutModel",
      "state": {}
     },
     "15be3f50cce94b91a4aa3def909f1e33": {
      "model_module": "@jupyter-widgets/base",
      "model_module_version": "1.0.0",
      "model_name": "LayoutModel",
      "state": {}
     },
     "15c535b975a647e4bedb7e06e6a77381": {
      "model_module": "@jupyter-widgets/controls",
      "model_module_version": "1.1.0",
      "model_name": "DescriptionStyleModel",
      "state": {
       "description_width": ""
      }
     },
     "1611a7e4b1b04daa83ba9fbdf40a6b48": {
      "model_module": "@jupyter-widgets/controls",
      "model_module_version": "1.1.0",
      "model_name": "DescriptionStyleModel",
      "state": {
       "description_width": ""
      }
     },
     "16645c168df54931bd863473f3de34b4": {
      "model_module": "@jupyter-widgets/base",
      "model_module_version": "1.0.0",
      "model_name": "LayoutModel",
      "state": {}
     },
     "1672aa49f4314ddf92f6e8228632b8df": {
      "model_module": "@jupyter-widgets/base",
      "model_module_version": "1.0.0",
      "model_name": "LayoutModel",
      "state": {}
     },
     "16826bc0ce984138840e74701681d5b5": {
      "model_module": "@jupyter-widgets/base",
      "model_module_version": "1.0.0",
      "model_name": "LayoutModel",
      "state": {}
     },
     "169917404f5542f0acc9e96eb4383c57": {
      "model_module": "@jupyter-widgets/controls",
      "model_module_version": "1.1.0",
      "model_name": "LabelModel",
      "state": {
       "layout": "IPY_MODEL_2c74d1c741714f67aa3c29cd6db0295b",
       "style": "IPY_MODEL_4df1a3837fc04729974df5c9012b3dde",
       "value": "Select upstream target mass thickness."
      }
     },
     "16a0a785c08a4f329604b9d7b46e1730": {
      "model_module": "@jupyter-widgets/controls",
      "model_module_version": "1.1.0",
      "model_name": "ToggleButtonsStyleModel",
      "state": {
       "button_width": "",
       "description_width": ""
      }
     },
     "16f670a283904513995b6aa8c48c5375": {
      "model_module": "@jupyter-widgets/base",
      "model_module_version": "1.0.0",
      "model_name": "LayoutModel",
      "state": {}
     },
     "16f7563b15f24961b00e03182136e5e0": {
      "model_module": "@jupyter-widgets/base",
      "model_module_version": "1.0.0",
      "model_name": "LayoutModel",
      "state": {}
     },
     "16fa1374555044cb9b5eb597982fd0c0": {
      "model_module": "@jupyter-widgets/controls",
      "model_module_version": "1.1.0",
      "model_name": "ToggleButtonsModel",
      "state": {
       "_options_labels": [
        "P (¹H)",
        "D (²H)",
        "T (³H)",
        "S (³He)",
        "A (⁴He)"
       ],
       "button_style": "",
       "description": "Type:",
       "icons": [],
       "index": 1,
       "layout": "IPY_MODEL_4ef0084a078247899fe9c9e4946364ae",
       "style": "IPY_MODEL_77f0a240fb514069b6c89a150a7abac9",
       "tooltips": [
        "Proton",
        "Deuteron",
        "Triton",
        "Helium-3",
        "Helium-4"
       ]
      }
     },
     "1719a77f518142a39ecc0dced8ab027f": {
      "model_module": "@jupyter-widgets/base",
      "model_module_version": "1.0.0",
      "model_name": "LayoutModel",
      "state": {}
     },
     "1749abe25a594d598be919bca214e8ae": {
      "model_module": "@jupyter-widgets/base",
      "model_module_version": "1.0.0",
      "model_name": "LayoutModel",
      "state": {}
     },
     "1757cdb3a11c42869812c07a7a3a6d56": {
      "model_module": "@jupyter-widgets/controls",
      "model_module_version": "1.1.0",
      "model_name": "DescriptionStyleModel",
      "state": {
       "description_width": ""
      }
     },
     "17bae485d4da4ee1af714e9f524d5da1": {
      "model_module": "@jupyter-widgets/base",
      "model_module_version": "1.0.0",
      "model_name": "LayoutModel",
      "state": {}
     },
     "180b1185efac437da63d4e48062134ca": {
      "model_module": "@jupyter-widgets/controls",
      "model_module_version": "1.1.0",
      "model_name": "LabelModel",
      "state": {
       "layout": "IPY_MODEL_1a7a00b0f1c743d288a666ab80835582",
       "style": "IPY_MODEL_ff2f94b2546b423daf13837d3bd365ab",
       "value": "Select projectile ion species and energy."
      }
     },
     "181d532fcf664ac59ef38448d3ac215c": {
      "model_module": "@jupyter-widgets/base",
      "model_module_version": "1.0.0",
      "model_name": "LayoutModel",
      "state": {}
     },
     "18863704081745a6b44ce17d97071696": {
      "model_module": "@jupyter-widgets/base",
      "model_module_version": "1.0.0",
      "model_name": "LayoutModel",
      "state": {}
     },
     "18b8c3c6b1d2459ab250e28c7d51c293": {
      "model_module": "@jupyter-widgets/controls",
      "model_module_version": "1.1.0",
      "model_name": "DescriptionStyleModel",
      "state": {
       "description_width": ""
      }
     },
     "18b949db5fe34bef96f34c741ec2e158": {
      "model_module": "@jupyter-widgets/controls",
      "model_module_version": "1.1.0",
      "model_name": "DescriptionStyleModel",
      "state": {
       "description_width": ""
      }
     },
     "18ec9503a0314fdfb4fd82944a091077": {
      "model_module": "@jupyter-widgets/controls",
      "model_module_version": "1.1.0",
      "model_name": "ToggleButtonsStyleModel",
      "state": {
       "button_width": "",
       "description_width": ""
      }
     },
     "1902eba716b74c90bbd59002c4fa7e7e": {
      "model_module": "@jupyter-widgets/controls",
      "model_module_version": "1.1.0",
      "model_name": "LabelModel",
      "state": {
       "layout": "IPY_MODEL_7eb4d549ff354d1d97bf02337d3d4441",
       "style": "IPY_MODEL_5551224bca5049e7be23f28c01e1dd3b",
       "value": "Select upstream target material and thickness."
      }
     },
     "19147c5420c549e0b2700c357babc0f8": {
      "model_module": "@jupyter-widgets/controls",
      "model_module_version": "1.1.0",
      "model_name": "DescriptionStyleModel",
      "state": {
       "description_width": ""
      }
     },
     "1954fcd499e84497b4865b733f2fe9a4": {
      "model_module": "@jupyter-widgets/base",
      "model_module_version": "1.0.0",
      "model_name": "LayoutModel",
      "state": {}
     },
     "1961e98b7ac3486ebc1961e8cfeef51c": {
      "model_module": "@jupyter-widgets/base",
      "model_module_version": "1.0.0",
      "model_name": "LayoutModel",
      "state": {}
     },
     "1963e7eec4ae4110934c80444a00a43c": {
      "model_module": "@jupyter-widgets/controls",
      "model_module_version": "1.1.0",
      "model_name": "DescriptionStyleModel",
      "state": {
       "description_width": ""
      }
     },
     "1969fd309e104c78be9910fab3e01e63": {
      "model_module": "@jupyter-widgets/controls",
      "model_module_version": "1.1.0",
      "model_name": "CheckboxModel",
      "state": {
       "description": "10°",
       "disabled": false,
       "layout": "IPY_MODEL_7361620793a041eb83e6cebabb392c82",
       "style": "IPY_MODEL_23dd98cd3a2f4af9b3fe95992b838186",
       "value": true
      }
     },
     "196b92fe93b14a5e9565d48f5aa1f5ce": {
      "model_module": "@jupyter-widgets/controls",
      "model_module_version": "1.1.0",
      "model_name": "ToggleButtonsStyleModel",
      "state": {
       "button_width": "",
       "description_width": ""
      }
     },
     "19ccf39af38349de8dfba6854f1eef09": {
      "model_module": "@jupyter-widgets/controls",
      "model_module_version": "1.1.0",
      "model_name": "CheckboxModel",
      "state": {
       "description": "30°",
       "disabled": false,
       "layout": "IPY_MODEL_f321083ddc564a30968b1d85bf33aa1b",
       "style": "IPY_MODEL_269da9fb17a54ca783dafdd295da5430",
       "value": true
      }
     },
     "19e0b081d42e4dccaf1e0c50fc67ddd5": {
      "model_module": "@jupyter-widgets/controls",
      "model_module_version": "1.1.0",
      "model_name": "DescriptionStyleModel",
      "state": {
       "description_width": ""
      }
     },
     "19ecf35209604accb1c26bee4e7667e4": {
      "model_module": "@jupyter-widgets/controls",
      "model_module_version": "1.1.0",
      "model_name": "ToggleButtonsModel",
      "state": {
       "_options_labels": [
        "OLS",
        "NaI"
       ],
       "button_style": "",
       "description": "Type:",
       "icons": [],
       "index": 0,
       "layout": "IPY_MODEL_053cbccbe0f4414bad85c180627d0aa8",
       "style": "IPY_MODEL_8e949d24e566410ab568643397076396",
       "tooltips": [
        "Organic Liquid Scintillator",
        "Sodium Iodide"
       ]
      }
     },
     "1a0b47557ddb471a9abef45ce46f53bc": {
      "model_module": "@jupyter-widgets/controls",
      "model_module_version": "1.1.0",
      "model_name": "DescriptionStyleModel",
      "state": {
       "description_width": ""
      }
     },
     "1a34ec5b142b45db90573b92d4c30f07": {
      "model_module": "@jupyter-widgets/controls",
      "model_module_version": "1.1.0",
      "model_name": "CheckboxModel",
      "state": {
       "description": "60°",
       "disabled": false,
       "layout": "IPY_MODEL_a86e995100d74316a3d0e3db7e535fcc",
       "style": "IPY_MODEL_a62492efc26142d39374db8dd98e3500",
       "value": true
      }
     },
     "1a377439799f4844b4b90a8aaa874093": {
      "model_module": "@jupyter-widgets/controls",
      "model_module_version": "1.1.0",
      "model_name": "LabelModel",
      "state": {
       "layout": "IPY_MODEL_1c2d0cb27cfc487392e4c839e8ece25f",
       "style": "IPY_MODEL_08166d77b35f43fd8598f6c8612cbcaa",
       "value": "Select projectile ion energy."
      }
     },
     "1a46dbed02354026a4326b00cab9b040": {
      "model_module": "@jupyter-widgets/controls",
      "model_module_version": "1.1.0",
      "model_name": "DescriptionStyleModel",
      "state": {
       "description_width": ""
      }
     },
     "1a5612b401944defb18e84f5e71fc199": {
      "model_module": "@jupyter-widgets/controls",
      "model_module_version": "1.1.0",
      "model_name": "ToggleButtonsStyleModel",
      "state": {
       "button_width": "",
       "description_width": ""
      }
     },
     "1a684b2eadf148cba283c44e38e6ec3c": {
      "model_module": "@jupyter-widgets/controls",
      "model_module_version": "1.1.0",
      "model_name": "ButtonStyleModel",
      "state": {}
     },
     "1a69e3aee3e14b7db2c3eaef0f27ff8c": {
      "model_module": "@jupyter-widgets/base",
      "model_module_version": "1.0.0",
      "model_name": "LayoutModel",
      "state": {}
     },
     "1a7a00b0f1c743d288a666ab80835582": {
      "model_module": "@jupyter-widgets/base",
      "model_module_version": "1.0.0",
      "model_name": "LayoutModel",
      "state": {}
     },
     "1a9341747b8a43e0a169c7d1d639c50f": {
      "model_module": "@jupyter-widgets/base",
      "model_module_version": "1.0.0",
      "model_name": "LayoutModel",
      "state": {}
     },
     "1aa273c7bdca4da191835a445d606065": {
      "model_module": "@jupyter-widgets/controls",
      "model_module_version": "1.1.0",
      "model_name": "DescriptionStyleModel",
      "state": {
       "description_width": ""
      }
     },
     "1abe2f30b79f4701a9f94cf1a438e122": {
      "model_module": "@jupyter-widgets/controls",
      "model_module_version": "1.1.0",
      "model_name": "ToggleButtonsStyleModel",
      "state": {
       "button_width": "",
       "description_width": ""
      }
     },
     "1acc6d4d97c0434783d57bd31fb7a9e1": {
      "model_module": "@jupyter-widgets/controls",
      "model_module_version": "1.1.0",
      "model_name": "DescriptionStyleModel",
      "state": {
       "description_width": ""
      }
     },
     "1aeb7dfc9e594c11861f86298ee1729a": {
      "model_module": "@jupyter-widgets/base",
      "model_module_version": "1.0.0",
      "model_name": "LayoutModel",
      "state": {}
     },
     "1af087b5218c4437920f90cb063ef0cb": {
      "model_module": "@jupyter-widgets/controls",
      "model_module_version": "1.1.0",
      "model_name": "DescriptionStyleModel",
      "state": {
       "description_width": ""
      }
     },
     "1b1c3c1a190840779c5277f754611eed": {
      "model_module": "@jupyter-widgets/controls",
      "model_module_version": "1.1.0",
      "model_name": "DescriptionStyleModel",
      "state": {
       "description_width": ""
      }
     },
     "1b3dff2e885b48e789134f537ebc787a": {
      "model_module": "@jupyter-widgets/controls",
      "model_module_version": "1.1.0",
      "model_name": "DescriptionStyleModel",
      "state": {
       "description_width": ""
      }
     },
     "1b46d062e7544ec0a153eeae4e600990": {
      "model_module": "@jupyter-widgets/controls",
      "model_module_version": "1.1.0",
      "model_name": "ToggleButtonsStyleModel",
      "state": {
       "button_width": "",
       "description_width": ""
      }
     },
     "1b7bbc4fc6784941b0bb170af22bc7b8": {
      "model_module": "@jupyter-widgets/base",
      "model_module_version": "1.0.0",
      "model_name": "LayoutModel",
      "state": {}
     },
     "1b864d38500245bc899a0f381f423c24": {
      "model_module": "@jupyter-widgets/base",
      "model_module_version": "1.0.0",
      "model_name": "LayoutModel",
      "state": {}
     },
     "1ba608492b364dd0bee498de820a823f": {
      "model_module": "@jupyter-widgets/controls",
      "model_module_version": "1.1.0",
      "model_name": "DescriptionStyleModel",
      "state": {
       "description_width": ""
      }
     },
     "1bbba88cc5794cd1ad6b502097c723e9": {
      "model_module": "@jupyter-widgets/base",
      "model_module_version": "1.0.0",
      "model_name": "LayoutModel",
      "state": {}
     },
     "1bc61067e7e84ec4893204250a69454a": {
      "model_module": "@jupyter-widgets/base",
      "model_module_version": "1.0.0",
      "model_name": "LayoutModel",
      "state": {}
     },
     "1bf04ec8e10246cc9d2df1f9e1f9e9b8": {
      "model_module": "@jupyter-widgets/base",
      "model_module_version": "1.0.0",
      "model_name": "LayoutModel",
      "state": {}
     },
     "1bf7f5567589498fa681752dbe53ef46": {
      "model_module": "@jupyter-widgets/base",
      "model_module_version": "1.0.0",
      "model_name": "LayoutModel",
      "state": {}
     },
     "1bfd2f44b7c2442090c992df698cee4c": {
      "model_module": "@jupyter-widgets/base",
      "model_module_version": "1.0.0",
      "model_name": "LayoutModel",
      "state": {}
     },
     "1c2d0cb27cfc487392e4c839e8ece25f": {
      "model_module": "@jupyter-widgets/base",
      "model_module_version": "1.0.0",
      "model_name": "LayoutModel",
      "state": {}
     },
     "1c450c8f804a47ec8b0823ee81fcc1a9": {
      "model_module": "@jupyter-widgets/controls",
      "model_module_version": "1.1.0",
      "model_name": "DescriptionStyleModel",
      "state": {
       "description_width": ""
      }
     },
     "1c7c9c5e98b14f00b81925a5e964572c": {
      "model_module": "@jupyter-widgets/controls",
      "model_module_version": "1.1.0",
      "model_name": "CheckboxModel",
      "state": {
       "description": "60°",
       "disabled": false,
       "layout": "IPY_MODEL_ec294333971b4af4bb4a5d8b139ab91f",
       "style": "IPY_MODEL_add3906993124ea1b4e1b692d9bd831b",
       "value": true
      }
     },
     "1d393d3627de4b8b9c225452fc52406f": {
      "model_module": "@jupyter-widgets/base",
      "model_module_version": "1.0.0",
      "model_name": "LayoutModel",
      "state": {}
     },
     "1d68b934178f43fc98da9e81f818c1c2": {
      "model_module": "@jupyter-widgets/base",
      "model_module_version": "1.0.0",
      "model_name": "LayoutModel",
      "state": {}
     },
     "1d72fdf622c6443bb22fe880f8a2aa5c": {
      "model_module": "@jupyter-widgets/base",
      "model_module_version": "1.0.0",
      "model_name": "LayoutModel",
      "state": {}
     },
     "1d9e716883364df8a8ff753b2645afa2": {
      "model_module": "@jupyter-widgets/controls",
      "model_module_version": "1.1.0",
      "model_name": "DescriptionStyleModel",
      "state": {
       "description_width": ""
      }
     },
     "1dad1907f0694a15b1777d2307d3c28f": {
      "model_module": "@jupyter-widgets/base",
      "model_module_version": "1.0.0",
      "model_name": "LayoutModel",
      "state": {}
     },
     "1e04ec5a3cd042a4ac1c828623d14d2e": {
      "model_module": "@jupyter-widgets/controls",
      "model_module_version": "1.1.0",
      "model_name": "CheckboxModel",
      "state": {
       "description": "45°",
       "disabled": false,
       "layout": "IPY_MODEL_9f10af26b0b44a58a854ace8e990c731",
       "style": "IPY_MODEL_e4e76739afdd42159e7d70cd8e35073f",
       "value": true
      }
     },
     "1e0609842ad847aaa5d3b11714eb181b": {
      "model_module": "@jupyter-widgets/controls",
      "model_module_version": "1.1.0",
      "model_name": "CheckboxModel",
      "state": {
       "description": "45°",
       "disabled": false,
       "layout": "IPY_MODEL_9fc3301f6be746b3b12b26b043f73985",
       "style": "IPY_MODEL_9180d374d3b3454293724d57c1893023",
       "value": true
      }
     },
     "1e0c3eaa0d044be580b73c12fea09940": {
      "model_module": "@jupyter-widgets/controls",
      "model_module_version": "1.1.0",
      "model_name": "DescriptionStyleModel",
      "state": {
       "description_width": ""
      }
     },
     "1e18632789c64ad58c9bdccadd49f03f": {
      "model_module": "@jupyter-widgets/controls",
      "model_module_version": "1.1.0",
      "model_name": "ToggleButtonsModel",
      "state": {
       "_options_labels": [
        "400 MeV/n",
        "800 MeV/n",
        "1500 MeV/n"
       ],
       "button_style": "",
       "description": "Energy:",
       "icons": [],
       "index": 0,
       "layout": "IPY_MODEL_4bd4fb3548f34dbbab78ecd8e9853177",
       "style": "IPY_MODEL_4000278a9d364b9f8b0aa3f29b94c1be",
       "tooltips": [
        "lowest energy",
        "middle energy",
        "highest energy"
       ]
      }
     },
     "1e5116bf86be4f1882bf20fcf6a6c465": {
      "model_module": "@jupyter-widgets/controls",
      "model_module_version": "1.1.0",
      "model_name": "DescriptionStyleModel",
      "state": {
       "description_width": ""
      }
     },
     "1e7bec4752ff40afa2b30faaa9181f59": {
      "model_module": "@jupyter-widgets/controls",
      "model_module_version": "1.1.0",
      "model_name": "DescriptionStyleModel",
      "state": {
       "description_width": ""
      }
     },
     "1e80c9c610b14a8cbdf136d7def2e4a6": {
      "model_module": "@jupyter-widgets/controls",
      "model_module_version": "1.1.0",
      "model_name": "DescriptionStyleModel",
      "state": {
       "description_width": ""
      }
     },
     "1e81c5de21e34a69a2a2f8ab37580fa5": {
      "model_module": "@jupyter-widgets/controls",
      "model_module_version": "1.1.0",
      "model_name": "DescriptionStyleModel",
      "state": {
       "description_width": ""
      }
     },
     "1e89315c30e2428fa595d6b42ebd4592": {
      "model_module": "@jupyter-widgets/base",
      "model_module_version": "1.0.0",
      "model_name": "LayoutModel",
      "state": {}
     },
     "1ea81ce3204a4d4c865e413aa9de17b2": {
      "model_module": "@jupyter-widgets/base",
      "model_module_version": "1.0.0",
      "model_name": "LayoutModel",
      "state": {}
     },
     "1ed0243d19a140a795e7c835cce9e2ab": {
      "model_module": "@jupyter-widgets/controls",
      "model_module_version": "1.1.0",
      "model_name": "ToggleButtonsModel",
      "state": {
       "_options_labels": [
        "N (¹n)",
        "NDC (¹n)",
        "P (¹H)",
        "D (²H)"
       ],
       "button_style": "",
       "description": "Particle:",
       "icons": [],
       "index": 0,
       "layout": "IPY_MODEL_67649ac06c0d44b7ba8bc7ab44f13d98",
       "style": "IPY_MODEL_45c7f6aa82f24df694b77ec71789ab46",
       "tooltips": [
        "Neutron",
        "Back Target Neutron",
        "Proton",
        "Deuteron"
       ]
      }
     },
     "1f1eb4c094934fe49153eebb19d3e67a": {
      "model_module": "@jupyter-widgets/controls",
      "model_module_version": "1.1.0",
      "model_name": "CheckboxModel",
      "state": {
       "description": "30°",
       "disabled": false,
       "layout": "IPY_MODEL_f4b34bb605b642bc92cabd5815758446",
       "style": "IPY_MODEL_84e53c0a403b446f8596a153fde52f6a",
       "value": false
      }
     },
     "1f4ce312528a4c30b50ca96cd4811801": {
      "model_module": "@jupyter-widgets/controls",
      "model_module_version": "1.1.0",
      "model_name": "ToggleButtonsModel",
      "state": {
       "_options_labels": [
        "Al",
        "HDPE",
        "AlPE"
       ],
       "button_style": "",
       "description": "Material:",
       "icons": [],
       "index": 0,
       "layout": "IPY_MODEL_be7e7da3f74547e9b6d4c1ebe08afb4a",
       "style": "IPY_MODEL_7f4e7685ff92449696edc9899475e79a",
       "tooltips": [
        "Aluminum",
        "Polyethylene",
        "Combination of Al and HDPE"
       ]
      }
     },
     "1f7b1312a8a44dbaa6d3bae6912929db": {
      "model_module": "@jupyter-widgets/controls",
      "model_module_version": "1.1.0",
      "model_name": "DescriptionStyleModel",
      "state": {
       "description_width": ""
      }
     },
     "1f855d3c7c5042aab4a2fc134c58855e": {
      "model_module": "@jupyter-widgets/controls",
      "model_module_version": "1.1.0",
      "model_name": "LabelModel",
      "state": {
       "layout": "IPY_MODEL_87f9d71af0c142c7b5caf8e56b9b61ca",
       "style": "IPY_MODEL_42c81fe8612b454e8f3f3342eb8dd9b6",
       "value": "Select the detector angles to plot."
      }
     },
     "1fe86901ff6444339b517145bf3c3899": {
      "model_module": "@jupyter-widgets/controls",
      "model_module_version": "1.1.0",
      "model_name": "DescriptionStyleModel",
      "state": {
       "description_width": ""
      }
     },
     "1fec3a2bae25428490df10b6f9630f15": {
      "model_module": "@jupyter-widgets/controls",
      "model_module_version": "1.1.0",
      "model_name": "ToggleButtonsStyleModel",
      "state": {
       "button_width": "",
       "description_width": ""
      }
     },
     "1ff29871f05948588bf13aad8cfafb46": {
      "model_module": "@jupyter-widgets/controls",
      "model_module_version": "1.1.0",
      "model_name": "CheckboxModel",
      "state": {
       "description": "135°",
       "disabled": false,
       "layout": "IPY_MODEL_9068b5b316bf413bac4f0c0b2795de4c",
       "style": "IPY_MODEL_7fe93f0e92f445f2b9eb26c37bb33e12",
       "value": true
      }
     },
     "1ffc5d883a454771a14c0ab9f328fcf3": {
      "model_module": "@jupyter-widgets/base",
      "model_module_version": "1.0.0",
      "model_name": "LayoutModel",
      "state": {}
     },
     "200b72eb0f634c9cb9872c64c4e231f8": {
      "model_module": "@jupyter-widgets/base",
      "model_module_version": "1.0.0",
      "model_name": "LayoutModel",
      "state": {}
     },
     "2061e11c43264be5ac072294cb7e5fa3": {
      "model_module": "@jupyter-widgets/controls",
      "model_module_version": "1.1.0",
      "model_name": "ToggleButtonsStyleModel",
      "state": {
       "button_width": "",
       "description_width": ""
      }
     },
     "2067999da50a4acda922fbebaef4a1f0": {
      "model_module": "@jupyter-widgets/controls",
      "model_module_version": "1.1.0",
      "model_name": "CheckboxModel",
      "state": {
       "description": "135°",
       "disabled": false,
       "layout": "IPY_MODEL_8b54b65353c24895a98b93779b430b43",
       "style": "IPY_MODEL_849c532214cc497bb60d08a05f612cf5",
       "value": true
      }
     },
     "206e7eb772a54f929bdcf9f5a5e09536": {
      "model_module": "@jupyter-widgets/controls",
      "model_module_version": "1.1.0",
      "model_name": "LabelModel",
      "state": {
       "layout": "IPY_MODEL_55114e30eaef4a0baf0b2c8825f04423",
       "style": "IPY_MODEL_69ea7f91f62f4a098c14805203339114",
       "value": "Select how data sets for each detector should be spaced apart (if at all)."
      }
     },
     "2071846215ec4748bdf788719240d122": {
      "model_module": "@jupyter-widgets/controls",
      "model_module_version": "1.1.0",
      "model_name": "CheckboxModel",
      "state": {
       "description": "30°",
       "disabled": false,
       "layout": "IPY_MODEL_b1fc77d5024944e49d73df03a1d5033b",
       "style": "IPY_MODEL_63b8575a0be8460e9235b4700552459c",
       "value": true
      }
     },
     "2071960dfd52469f9263e30e6e9bf0ec": {
      "model_module": "@jupyter-widgets/controls",
      "model_module_version": "1.1.0",
      "model_name": "LabelModel",
      "state": {
       "layout": "IPY_MODEL_9c2341159be54ea0a13ff26b90f2c396",
       "style": "IPY_MODEL_669362fe01604699a1d455ddf43ff835",
       "value": "Select which secondary particle to plot spectra for."
      }
     },
     "207711b6611e4f40ac75df3879820dc6": {
      "model_module": "@jupyter-widgets/controls",
      "model_module_version": "1.1.0",
      "model_name": "ToggleButtonsModel",
      "state": {
       "_options_labels": [
        "N (¹n)",
        "NDC (¹n)",
        "P (¹H)",
        "D (²H)"
       ],
       "button_style": "",
       "description": "Type:",
       "icons": [],
       "index": 0,
       "layout": "IPY_MODEL_a91084f9d3494b6a940831af3dd58f88",
       "style": "IPY_MODEL_4cbffe1b274f49ce81322da62902dd9c",
       "tooltips": [
        "Neutron",
        "Back Target Neutron",
        "Proton",
        "Deuteron"
       ]
      }
     },
     "20aad4b157da4f91bcbe7e43af14ce8c": {
      "model_module": "@jupyter-widgets/base",
      "model_module_version": "1.0.0",
      "model_name": "LayoutModel",
      "state": {}
     },
     "20da3b71f3e3411983b211b99d20ec80": {
      "model_module": "@jupyter-widgets/base",
      "model_module_version": "1.0.0",
      "model_name": "LayoutModel",
      "state": {}
     },
     "20dc665dc20c4b0d804b2fd06aea5e1f": {
      "model_module": "@jupyter-widgets/controls",
      "model_module_version": "1.1.0",
      "model_name": "DescriptionStyleModel",
      "state": {
       "description_width": ""
      }
     },
     "215b0b190f52448c9781d9b9d17ba7cd": {
      "model_module": "@jupyter-widgets/controls",
      "model_module_version": "1.1.0",
      "model_name": "DescriptionStyleModel",
      "state": {
       "description_width": ""
      }
     },
     "21c98fa0b913448fa02f309f8618c074": {
      "model_module": "@jupyter-widgets/base",
      "model_module_version": "1.0.0",
      "model_name": "LayoutModel",
      "state": {}
     },
     "21f02ba46e614e60a7ef3d5ddcb58c4d": {
      "model_module": "@jupyter-widgets/base",
      "model_module_version": "1.0.0",
      "model_name": "LayoutModel",
      "state": {}
     },
     "2203b0e36dc448a6a364d02d9ddc7b10": {
      "model_module": "@jupyter-widgets/controls",
      "model_module_version": "1.1.0",
      "model_name": "DescriptionStyleModel",
      "state": {
       "description_width": ""
      }
     },
     "221bea030d1f40a2b9b84b5abf1b088f": {
      "model_module": "@jupyter-widgets/base",
      "model_module_version": "1.0.0",
      "model_name": "LayoutModel",
      "state": {}
     },
     "2225873d1fc84b7c8f4477065572bcf8": {
      "model_module": "@jupyter-widgets/controls",
      "model_module_version": "1.1.0",
      "model_name": "DescriptionStyleModel",
      "state": {
       "description_width": ""
      }
     },
     "229e8079ccf74a729fedb12eca55d771": {
      "model_module": "@jupyter-widgets/base",
      "model_module_version": "1.0.0",
      "model_name": "LayoutModel",
      "state": {}
     },
     "22aa899d612646b8a6ea754ddf783fa2": {
      "model_module": "@jupyter-widgets/controls",
      "model_module_version": "1.1.0",
      "model_name": "CheckboxModel",
      "state": {
       "description": "10°",
       "disabled": false,
       "layout": "IPY_MODEL_64e57371413542b59172c6948348cc08",
       "style": "IPY_MODEL_2ef1a56ae5bc45fba52f854ad3a9b76f",
       "value": true
      }
     },
     "22f5fcb0e7c14fb49e8408d1f2bb3cb6": {
      "model_module": "@jupyter-widgets/base",
      "model_module_version": "1.0.0",
      "model_name": "LayoutModel",
      "state": {}
     },
     "236665dcbcc84145aec131dc47a4833b": {
      "model_module": "@jupyter-widgets/controls",
      "model_module_version": "1.1.0",
      "model_name": "DescriptionStyleModel",
      "state": {
       "description_width": ""
      }
     },
     "237c8b13f52c471ebb970a663c67e096": {
      "model_module": "@jupyter-widgets/controls",
      "model_module_version": "1.1.0",
      "model_name": "DescriptionStyleModel",
      "state": {
       "description_width": ""
      }
     },
     "237ce633442a44248c4af8d83c850476": {
      "model_module": "@jupyter-widgets/controls",
      "model_module_version": "1.1.0",
      "model_name": "DescriptionStyleModel",
      "state": {
       "description_width": ""
      }
     },
     "2384053242f84433b39229fbf2e2de3c": {
      "model_module": "@jupyter-widgets/controls",
      "model_module_version": "1.1.0",
      "model_name": "LabelModel",
      "state": {
       "layout": "IPY_MODEL_c9096cce08064afe9a49ae9c2fa7066b",
       "style": "IPY_MODEL_6d7ee98cf6a1461ba5df20b026c4f1d4",
       "value": "Select projectile ion energy."
      }
     },
     "23907f89d8224d0d8f8b6dff967d5a79": {
      "model_module": "@jupyter-widgets/base",
      "model_module_version": "1.0.0",
      "model_name": "LayoutModel",
      "state": {}
     },
     "2390edd9b3c642169437648801af5220": {
      "model_module": "@jupyter-widgets/base",
      "model_module_version": "1.0.0",
      "model_name": "LayoutModel",
      "state": {}
     },
     "23acda008ed343d999adf0515f15bae6": {
      "model_module": "@jupyter-widgets/base",
      "model_module_version": "1.0.0",
      "model_name": "LayoutModel",
      "state": {}
     },
     "23ad429477be4fe7beb80dd502064ac7": {
      "model_module": "@jupyter-widgets/controls",
      "model_module_version": "1.1.0",
      "model_name": "DescriptionStyleModel",
      "state": {
       "description_width": ""
      }
     },
     "23c1b57dfe8f4761b1563240ada6a5b9": {
      "model_module": "@jupyter-widgets/controls",
      "model_module_version": "1.1.0",
      "model_name": "DescriptionStyleModel",
      "state": {
       "description_width": ""
      }
     },
     "23dd98cd3a2f4af9b3fe95992b838186": {
      "model_module": "@jupyter-widgets/controls",
      "model_module_version": "1.1.0",
      "model_name": "DescriptionStyleModel",
      "state": {
       "description_width": ""
      }
     },
     "240653d15a9b498d883a307d46eff2db": {
      "model_module": "@jupyter-widgets/controls",
      "model_module_version": "1.1.0",
      "model_name": "CheckboxModel",
      "state": {
       "description": "80°",
       "disabled": false,
       "layout": "IPY_MODEL_4f5a6e8389cc492184cdfa2a1335dec7",
       "style": "IPY_MODEL_3b0b8b295c814436aa521b533e2e56c8",
       "value": true
      }
     },
     "243c9ba949cf4de2bb60bac6e9decc8d": {
      "model_module": "@jupyter-widgets/controls",
      "model_module_version": "1.1.0",
      "model_name": "ToggleButtonsStyleModel",
      "state": {
       "button_width": "",
       "description_width": ""
      }
     },
     "24be490ab1f64504993213f8766981ce": {
      "model_module": "@jupyter-widgets/base",
      "model_module_version": "1.0.0",
      "model_name": "LayoutModel",
      "state": {}
     },
     "24c22eb0e4364a34aadda045254d1dd3": {
      "model_module": "@jupyter-widgets/controls",
      "model_module_version": "1.1.0",
      "model_name": "CheckboxModel",
      "state": {
       "description": "7.2°",
       "disabled": false,
       "layout": "IPY_MODEL_46b255cfc70a4c64812173744a44a5da",
       "style": "IPY_MODEL_3c181b41a2aa40508ceff12b39798aef",
       "value": true
      }
     },
     "2514ad8ffa01480e8bd6dd3eb68113a7": {
      "model_module": "@jupyter-widgets/controls",
      "model_module_version": "1.1.0",
      "model_name": "DescriptionStyleModel",
      "state": {
       "description_width": ""
      }
     },
     "251dbee8118e4833a50c38ca3bb755d4": {
      "model_module": "@jupyter-widgets/base",
      "model_module_version": "1.0.0",
      "model_name": "LayoutModel",
      "state": {}
     },
     "255bd2ea37c443cdbf7c13594324e3ea": {
      "model_module": "@jupyter-widgets/controls",
      "model_module_version": "1.1.0",
      "model_name": "DescriptionStyleModel",
      "state": {
       "description_width": ""
      }
     },
     "2592cff594e84589b5bf39c835496b59": {
      "model_module": "@jupyter-widgets/base",
      "model_module_version": "1.0.0",
      "model_name": "LayoutModel",
      "state": {}
     },
     "2593de92f9be4007b1f4d477fd4a25a2": {
      "model_module": "@jupyter-widgets/controls",
      "model_module_version": "1.1.0",
      "model_name": "ToggleButtonsStyleModel",
      "state": {
       "button_width": "",
       "description_width": ""
      }
     },
     "259821b2286b437e9e4fe75c6f3d9880": {
      "model_module": "@jupyter-widgets/controls",
      "model_module_version": "1.1.0",
      "model_name": "LabelModel",
      "state": {
       "layout": "IPY_MODEL_1a9341747b8a43e0a169c7d1d639c50f",
       "style": "IPY_MODEL_b190e7ee1cc6456b9d4bb6b79f1a5050",
       "value": "Select which secondary particle to plot spectra for."
      }
     },
     "25a2ab9d4a05493d9ee1a481e7e8e612": {
      "model_module": "@jupyter-widgets/controls",
      "model_module_version": "1.1.0",
      "model_name": "ToggleButtonsStyleModel",
      "state": {
       "button_width": "",
       "description_width": ""
      }
     },
     "25baf2c5edf945f4a344d597340c6131": {
      "model_module": "@jupyter-widgets/controls",
      "model_module_version": "1.1.0",
      "model_name": "LabelModel",
      "state": {
       "layout": "IPY_MODEL_a629492428ad48ee8eb25a68ad4c270b",
       "style": "IPY_MODEL_75704df72b5f482e83d8caa24c07eb4a",
       "value": "Select which secondary particle to plot spectra for."
      }
     },
     "25d96007033c46ebaa20fafb1a8eedb6": {
      "model_module": "@jupyter-widgets/base",
      "model_module_version": "1.0.0",
      "model_name": "LayoutModel",
      "state": {}
     },
     "25f899f8d0f04abf8212ea7933f21da4": {
      "model_module": "@jupyter-widgets/base",
      "model_module_version": "1.0.0",
      "model_name": "LayoutModel",
      "state": {}
     },
     "261a0838854d461eb78da06486178e37": {
      "model_module": "@jupyter-widgets/controls",
      "model_module_version": "1.1.0",
      "model_name": "ToggleButtonsModel",
      "state": {
       "_options_labels": [
        "P (¹H)",
        "D (²H)",
        "T (³H)",
        "S (³He)",
        "A (⁴He)"
       ],
       "button_style": "",
       "description": "Type:",
       "icons": [],
       "index": 0,
       "layout": "IPY_MODEL_3fd3b2faeb074380b2729da5cdd95564",
       "style": "IPY_MODEL_a70b0e978e594f1399789e761e60afbf",
       "tooltips": [
        "Proton",
        "Deuteron",
        "Triton",
        "Helium-3",
        "Helium-4"
       ]
      }
     },
     "2676b29ceda14a4cafcf9ff791002a06": {
      "model_module": "@jupyter-widgets/controls",
      "model_module_version": "1.1.0",
      "model_name": "LabelModel",
      "state": {
       "layout": "IPY_MODEL_1411d8279de942bcac29d5e365385d3c",
       "style": "IPY_MODEL_0faaac1d69f34135b1b9e3cc6ffeb29c",
       "value": "Select the detector angles to plot."
      }
     },
     "268deff161c442f6baaa7d2a79d4c5a9": {
      "model_module": "@jupyter-widgets/base",
      "model_module_version": "1.0.0",
      "model_name": "LayoutModel",
      "state": {}
     },
     "269da9fb17a54ca783dafdd295da5430": {
      "model_module": "@jupyter-widgets/controls",
      "model_module_version": "1.1.0",
      "model_name": "DescriptionStyleModel",
      "state": {
       "description_width": ""
      }
     },
     "26c41cad8d4a41a7a7c9491a374f09c9": {
      "model_module": "@jupyter-widgets/controls",
      "model_module_version": "1.1.0",
      "model_name": "LabelModel",
      "state": {
       "layout": "IPY_MODEL_611f22c67c284b8a81ffc118bc58ad4b",
       "style": "IPY_MODEL_6e9bce0cd9c54094b088b7a7566773dd",
       "value": "Select projectile ion energy."
      }
     },
     "274735463f814b4bb41f95977294b805": {
      "model_module": "@jupyter-widgets/base",
      "model_module_version": "1.0.0",
      "model_name": "LayoutModel",
      "state": {}
     },
     "27bf5f266f9f45508684476bec9b8a23": {
      "model_module": "@jupyter-widgets/controls",
      "model_module_version": "1.1.0",
      "model_name": "CheckboxModel",
      "state": {
       "description": "10°",
       "disabled": false,
       "layout": "IPY_MODEL_f812ebabef9146fbb976efd2dd979889",
       "style": "IPY_MODEL_35ebebb3f77f4229bcefca9d8c5b1045",
       "value": true
      }
     },
     "27d06d8380564f648b4eb15a37593a14": {
      "model_module": "@jupyter-widgets/controls",
      "model_module_version": "1.1.0",
      "model_name": "CheckboxModel",
      "state": {
       "description": "80°",
       "disabled": false,
       "layout": "IPY_MODEL_bf3f53a943e7415d8dcc29ce937d5d99",
       "style": "IPY_MODEL_4a159ef5829140938004cae24842987b",
       "value": true
      }
     },
     "27d5cb4b25674bd8b42472f81f0d63cb": {
      "model_module": "@jupyter-widgets/controls",
      "model_module_version": "1.1.0",
      "model_name": "CheckboxModel",
      "state": {
       "description": "10°",
       "disabled": false,
       "layout": "IPY_MODEL_0a82ab59695f43bab8f1746b3a2e4905",
       "style": "IPY_MODEL_ba8a10037e434f2aa71abde4f5d250dd",
       "value": true
      }
     },
     "27e3cf1e50b545d29cf16088973aa139": {
      "model_module": "@jupyter-widgets/controls",
      "model_module_version": "1.1.0",
      "model_name": "DescriptionStyleModel",
      "state": {
       "description_width": ""
      }
     },
     "28216aa714064d369f4eb48ecb4ef60f": {
      "model_module": "@jupyter-widgets/controls",
      "model_module_version": "1.1.0",
      "model_name": "DescriptionStyleModel",
      "state": {
       "description_width": ""
      }
     },
     "283922567ec24a658832eb328a06242b": {
      "model_module": "@jupyter-widgets/controls",
      "model_module_version": "1.1.0",
      "model_name": "CheckboxModel",
      "state": {
       "description": "Experiment",
       "disabled": false,
       "layout": "IPY_MODEL_ae7dcbfed4f64731b92fa302d76824a5",
       "style": "IPY_MODEL_634950df2f1743129effab1a202ebd6c",
       "value": true
      }
     },
     "2840e65aec3c47d3837a37a936e92cd1": {
      "model_module": "@jupyter-widgets/controls",
      "model_module_version": "1.1.0",
      "model_name": "DescriptionStyleModel",
      "state": {
       "description_width": ""
      }
     },
     "28915be44f144a8b8768044bbba38930": {
      "model_module": "@jupyter-widgets/controls",
      "model_module_version": "1.1.0",
      "model_name": "CheckboxModel",
      "state": {
       "description": "30°",
       "disabled": false,
       "layout": "IPY_MODEL_b4570addcf0d4ba69011271c073dbf3c",
       "style": "IPY_MODEL_ce1ca5fc584746ed8a4fe751652309bd",
       "value": true
      }
     },
     "2893d9b3ad6d43bf8b2cc018f9be7175": {
      "model_module": "@jupyter-widgets/controls",
      "model_module_version": "1.1.0",
      "model_name": "LabelModel",
      "state": {
       "layout": "IPY_MODEL_f2747acdaa6146c7bfbced92bc3f8313",
       "style": "IPY_MODEL_5d0203b4421942389bb57b1c40fb9970",
       "value": "Select upstream target mass thickness."
      }
     },
     "28bd2382bcf44b14bbe23a831490798c": {
      "model_module": "@jupyter-widgets/controls",
      "model_module_version": "1.1.0",
      "model_name": "CheckboxModel",
      "state": {
       "description": "10°",
       "disabled": false,
       "layout": "IPY_MODEL_fd601da03285408d9dab1b4e589015f8",
       "style": "IPY_MODEL_27e3cf1e50b545d29cf16088973aa139",
       "value": true
      }
     },
     "28c3fe0386cf482fae9099e6ae852596": {
      "model_module": "@jupyter-widgets/base",
      "model_module_version": "1.0.0",
      "model_name": "LayoutModel",
      "state": {}
     },
     "28c6e8a53b30499788d694073344f160": {
      "model_module": "@jupyter-widgets/controls",
      "model_module_version": "1.1.0",
      "model_name": "ToggleButtonsStyleModel",
      "state": {
       "button_width": "",
       "description_width": ""
      }
     },
     "28cb64bf993548d4ac314cacc750404a": {
      "model_module": "@jupyter-widgets/controls",
      "model_module_version": "1.1.0",
      "model_name": "DescriptionStyleModel",
      "state": {
       "description_width": ""
      }
     },
     "2946f28d1a3b4f0d82cce7206869c124": {
      "model_module": "@jupyter-widgets/controls",
      "model_module_version": "1.1.0",
      "model_name": "CheckboxModel",
      "state": {
       "description": "30°",
       "disabled": false,
       "layout": "IPY_MODEL_a1ba6864738b4cca8debf4d5215d5213",
       "style": "IPY_MODEL_1c450c8f804a47ec8b0823ee81fcc1a9",
       "value": true
      }
     },
     "2959c5f6f302430584bab3b78b19d816": {
      "model_module": "@jupyter-widgets/controls",
      "model_module_version": "1.1.0",
      "model_name": "CheckboxModel",
      "state": {
       "description": "28.2°",
       "disabled": false,
       "layout": "IPY_MODEL_32e719f97d234a248bcbaf5d96dfd4a6",
       "style": "IPY_MODEL_7b0520fc4f674c48beda1fd2174f737c",
       "value": true
      }
     },
     "295a0c1f17204f57beb0788ecce78f07": {
      "model_module": "@jupyter-widgets/controls",
      "model_module_version": "1.1.0",
      "model_name": "DescriptionStyleModel",
      "state": {
       "description_width": ""
      }
     },
     "298021c8e8b04b778ba3e3be8f36f9d6": {
      "model_module": "@jupyter-widgets/base",
      "model_module_version": "1.0.0",
      "model_name": "LayoutModel",
      "state": {}
     },
     "2a459902ad7c4a8298153c85b011898a": {
      "model_module": "@jupyter-widgets/controls",
      "model_module_version": "1.1.0",
      "model_name": "DescriptionStyleModel",
      "state": {
       "description_width": ""
      }
     },
     "2a4f94f6fc7342c99b7ed5068f1975d8": {
      "model_module": "@jupyter-widgets/controls",
      "model_module_version": "1.1.0",
      "model_name": "DescriptionStyleModel",
      "state": {
       "description_width": ""
      }
     },
     "2a6a5bce17a946f98b9b7c3a32c9d1cd": {
      "model_module": "@jupyter-widgets/base",
      "model_module_version": "1.0.0",
      "model_name": "LayoutModel",
      "state": {}
     },
     "2aa9e62ef0e34d62baf0e57cb97ecb73": {
      "model_module": "@jupyter-widgets/base",
      "model_module_version": "1.0.0",
      "model_name": "LayoutModel",
      "state": {}
     },
     "2aac0176a49544ad9d78d854909dc5a1": {
      "model_module": "@jupyter-widgets/controls",
      "model_module_version": "1.1.0",
      "model_name": "ToggleButtonsStyleModel",
      "state": {
       "button_width": "",
       "description_width": ""
      }
     },
     "2ae593c4383e45e9ae578cacbd91a07c": {
      "model_module": "@jupyter-widgets/base",
      "model_module_version": "1.0.0",
      "model_name": "LayoutModel",
      "state": {}
     },
     "2b911a2ee8294942a8efb25e06c96439": {
      "model_module": "@jupyter-widgets/controls",
      "model_module_version": "1.1.0",
      "model_name": "DescriptionStyleModel",
      "state": {
       "description_width": ""
      }
     },
     "2b9c12ef12d14a3f9eddbac713076099": {
      "model_module": "@jupyter-widgets/controls",
      "model_module_version": "1.1.0",
      "model_name": "CheckboxModel",
      "state": {
       "description": "135°",
       "disabled": false,
       "layout": "IPY_MODEL_fca467fbacda4366ac6d71ccd5b56cfc",
       "style": "IPY_MODEL_d47e2aa139ec4bc48fe1cd293fbfea06",
       "value": true
      }
     },
     "2ba975e5fd8f40309db408fb0721daff": {
      "model_module": "@jupyter-widgets/controls",
      "model_module_version": "1.1.0",
      "model_name": "CheckboxModel",
      "state": {
       "description": "30°",
       "disabled": false,
       "layout": "IPY_MODEL_ffc0f64b49c84d55873df730ed3f2593",
       "style": "IPY_MODEL_89466c02b68748f8a436e8f91ceaa1c8",
       "value": true
      }
     },
     "2bc9da5c0a8f480d89a14f33d0641517": {
      "model_module": "@jupyter-widgets/controls",
      "model_module_version": "1.1.0",
      "model_name": "CheckboxModel",
      "state": {
       "description": "PHITS simulated",
       "disabled": false,
       "layout": "IPY_MODEL_494dabc7ce2945f19239370be71cc656",
       "style": "IPY_MODEL_dc2fd02629da40079836a46a6d085d52",
       "value": true
      }
     },
     "2bfba8157b8447fca9e7126134d36d87": {
      "model_module": "@jupyter-widgets/base",
      "model_module_version": "1.0.0",
      "model_name": "LayoutModel",
      "state": {}
     },
     "2c1995101fa74608bb3c56edc2c8d1c6": {
      "model_module": "@jupyter-widgets/base",
      "model_module_version": "1.0.0",
      "model_name": "LayoutModel",
      "state": {}
     },
     "2c1a48858de5405496aade8f31332dc4": {
      "model_module": "@jupyter-widgets/controls",
      "model_module_version": "1.1.0",
      "model_name": "DescriptionStyleModel",
      "state": {
       "description_width": ""
      }
     },
     "2c23d7a990ae4a2684dd296d88e9d850": {
      "model_module": "@jupyter-widgets/controls",
      "model_module_version": "1.1.0",
      "model_name": "CheckboxModel",
      "state": {
       "description": "80°",
       "disabled": false,
       "layout": "IPY_MODEL_24be490ab1f64504993213f8766981ce",
       "style": "IPY_MODEL_ea8cf577676a4f5c815dc001591cca70",
       "value": true
      }
     },
     "2c283eac07974b8c9dc6bcd92671f261": {
      "model_module": "@jupyter-widgets/controls",
      "model_module_version": "1.1.0",
      "model_name": "DescriptionStyleModel",
      "state": {
       "description_width": ""
      }
     },
     "2c2d8136b99342bb82edb55ff49b1e88": {
      "model_module": "@jupyter-widgets/controls",
      "model_module_version": "1.1.0",
      "model_name": "CheckboxModel",
      "state": {
       "description": "45°",
       "disabled": false,
       "layout": "IPY_MODEL_605082e0f753458887d4cb323c5f3cab",
       "style": "IPY_MODEL_a6db707717084bd98e064729160813cb",
       "value": true
      }
     },
     "2c319db6eb8d471b971609779e6b519d": {
      "model_module": "@jupyter-widgets/controls",
      "model_module_version": "1.1.0",
      "model_name": "CheckboxModel",
      "state": {
       "description": "30°",
       "disabled": false,
       "layout": "IPY_MODEL_d6a7cc457e3742c183d9af3d1a0aacbd",
       "style": "IPY_MODEL_6902a3d0f5ed4573bc62d9ca3b441fe5",
       "value": true
      }
     },
     "2c4ef4f3e5e44b1fb9824dfee73d8afe": {
      "model_module": "@jupyter-widgets/controls",
      "model_module_version": "1.1.0",
      "model_name": "CheckboxModel",
      "state": {
       "description": "PHITS simulated",
       "disabled": false,
       "layout": "IPY_MODEL_785390cd756d49a19e9964c3010cb559",
       "style": "IPY_MODEL_e5735cc6219041ce86e8dd86b310dc02",
       "value": true
      }
     },
     "2c677bde966440d1ab1d799e4a999cc7": {
      "model_module": "@jupyter-widgets/base",
      "model_module_version": "1.0.0",
      "model_name": "LayoutModel",
      "state": {}
     },
     "2c74d1c741714f67aa3c29cd6db0295b": {
      "model_module": "@jupyter-widgets/base",
      "model_module_version": "1.0.0",
      "model_name": "LayoutModel",
      "state": {}
     },
     "2c7ef81276354c359d1e6d8d4d7f776f": {
      "model_module": "@jupyter-widgets/base",
      "model_module_version": "1.0.0",
      "model_name": "LayoutModel",
      "state": {}
     },
     "2ca819c4502f4d179b97705857a3cea9": {
      "model_module": "@jupyter-widgets/controls",
      "model_module_version": "1.1.0",
      "model_name": "DescriptionStyleModel",
      "state": {
       "description_width": ""
      }
     },
     "2cbce1b442a14338ac65ea260a0b4912": {
      "model_module": "@jupyter-widgets/controls",
      "model_module_version": "1.1.0",
      "model_name": "DescriptionStyleModel",
      "state": {
       "description_width": ""
      }
     },
     "2d24c806205140ef98e9efaaaec68b3d": {
      "model_module": "@jupyter-widgets/controls",
      "model_module_version": "1.1.0",
      "model_name": "CheckboxModel",
      "state": {
       "description": "60°",
       "disabled": false,
       "layout": "IPY_MODEL_b8344f383a404edcbad1b84fd6237079",
       "style": "IPY_MODEL_134dbfaf626f4f0188ccfb5e92dc8b4c",
       "value": true
      }
     },
     "2d4746af358c4294b09b4b45f64dc14c": {
      "model_module": "@jupyter-widgets/controls",
      "model_module_version": "1.1.0",
      "model_name": "CheckboxModel",
      "state": {
       "description": "135°",
       "disabled": false,
       "layout": "IPY_MODEL_407138ee5cd64b1f823f611486fac5ef",
       "style": "IPY_MODEL_b576ea33eaae4f5881e5e4345ac108c8",
       "value": true
      }
     },
     "2d7a0f4e9d9247759bfa556484a8b8e5": {
      "model_module": "@jupyter-widgets/controls",
      "model_module_version": "1.1.0",
      "model_name": "DescriptionStyleModel",
      "state": {
       "description_width": ""
      }
     },
     "2dc29aad853f45168fd248a8554269c5": {
      "model_module": "@jupyter-widgets/base",
      "model_module_version": "1.0.0",
      "model_name": "LayoutModel",
      "state": {}
     },
     "2df331ed0947481499b39951a8f811cd": {
      "model_module": "@jupyter-widgets/controls",
      "model_module_version": "1.1.0",
      "model_name": "ToggleButtonsStyleModel",
      "state": {
       "button_width": "",
       "description_width": ""
      }
     },
     "2e3a847b8cec4b5dbe367728c18d5a57": {
      "model_module": "@jupyter-widgets/controls",
      "model_module_version": "1.1.0",
      "model_name": "DescriptionStyleModel",
      "state": {
       "description_width": ""
      }
     },
     "2e3b0853fda640c6afe772d88c2b942d": {
      "model_module": "@jupyter-widgets/controls",
      "model_module_version": "1.1.0",
      "model_name": "LabelModel",
      "state": {
       "layout": "IPY_MODEL_b3986e02e21e4ee1a1966105d74846a0",
       "style": "IPY_MODEL_2d7a0f4e9d9247759bfa556484a8b8e5",
       "value": "Select which secondary particle to plot spectra for."
      }
     },
     "2e428f21ef224ed19a67939436536d65": {
      "model_module": "@jupyter-widgets/base",
      "model_module_version": "1.0.0",
      "model_name": "LayoutModel",
      "state": {}
     },
     "2e656e4db9bd4b2e92f145a36c270073": {
      "model_module": "@jupyter-widgets/controls",
      "model_module_version": "1.1.0",
      "model_name": "CheckboxModel",
      "state": {
       "description": "30°",
       "disabled": false,
       "layout": "IPY_MODEL_01ffdb0f8e284eb5bc5ea005cd6710e7",
       "style": "IPY_MODEL_95bf02f7406a4d3195351765c5517c43",
       "value": true
      }
     },
     "2e6eb0dd8f87479ab08dc9000d5723d2": {
      "model_module": "@jupyter-widgets/base",
      "model_module_version": "1.0.0",
      "model_name": "LayoutModel",
      "state": {}
     },
     "2e728ca3c2034b8086741be0d71e3946": {
      "model_module": "@jupyter-widgets/controls",
      "model_module_version": "1.1.0",
      "model_name": "DescriptionStyleModel",
      "state": {
       "description_width": ""
      }
     },
     "2e83bb0670b34e6faa903e7ec596b2c0": {
      "model_module": "@jupyter-widgets/controls",
      "model_module_version": "1.1.0",
      "model_name": "LabelModel",
      "state": {
       "layout": "IPY_MODEL_f71727a8872d46bfa0995c5545823cfc",
       "style": "IPY_MODEL_0746ca285bc24b84bbfb25149be57bd6",
       "value": "Select the detector angles to plot."
      }
     },
     "2ec3f5d8d41943d7aaab4f5b79048404": {
      "model_module": "@jupyter-widgets/controls",
      "model_module_version": "1.1.0",
      "model_name": "LabelModel",
      "state": {
       "layout": "IPY_MODEL_a3a4a3661a1245309cad93b6359eb7e0",
       "style": "IPY_MODEL_4259e31010e14417960adc84dabd8764",
       "value": "Select how data sets for each detector should be spaced apart (if at all)."
      }
     },
     "2ef0fbe0efa748768c719411257d997f": {
      "model_module": "@jupyter-widgets/controls",
      "model_module_version": "1.1.0",
      "model_name": "LabelModel",
      "state": {
       "layout": "IPY_MODEL_4ff00da7b2f240d1a374a3fc4e320df3",
       "style": "IPY_MODEL_ba69a78e6aeb4bbea77b34d2f431ded8",
       "value": "Select the detector angles to plot."
      }
     },
     "2ef1a56ae5bc45fba52f854ad3a9b76f": {
      "model_module": "@jupyter-widgets/controls",
      "model_module_version": "1.1.0",
      "model_name": "DescriptionStyleModel",
      "state": {
       "description_width": ""
      }
     },
     "2f00624ce4034144b2028ac5b987042f": {
      "model_module": "@jupyter-widgets/controls",
      "model_module_version": "1.1.0",
      "model_name": "CheckboxModel",
      "state": {
       "description": "45°",
       "disabled": false,
       "layout": "IPY_MODEL_e992d12a9729434d8f31fc94ade3e124",
       "style": "IPY_MODEL_884bb46f7a954ce38ebb5635c40a21d2",
       "value": true
      }
     },
     "2f0f1b0111db437d8dc6c27d468e6a66": {
      "model_module": "@jupyter-widgets/controls",
      "model_module_version": "1.1.0",
      "model_name": "DescriptionStyleModel",
      "state": {
       "description_width": ""
      }
     },
     "2f9f375ed8694a78a0160c1848befb47": {
      "model_module": "@jupyter-widgets/base",
      "model_module_version": "1.0.0",
      "model_name": "LayoutModel",
      "state": {}
     },
     "2fcfc7521e804977b7d8840c05e78ec0": {
      "model_module": "@jupyter-widgets/controls",
      "model_module_version": "1.1.0",
      "model_name": "DescriptionStyleModel",
      "state": {
       "description_width": ""
      }
     },
     "2fdaee955b814f53adcb0097d9ca7d0a": {
      "model_module": "@jupyter-widgets/base",
      "model_module_version": "1.0.0",
      "model_name": "LayoutModel",
      "state": {}
     },
     "2fe070cfb385435db6261ac22e7b218f": {
      "model_module": "@jupyter-widgets/base",
      "model_module_version": "1.0.0",
      "model_name": "LayoutModel",
      "state": {}
     },
     "3011a48cf2e24233b89495b1c6d14e84": {
      "model_module": "@jupyter-widgets/controls",
      "model_module_version": "1.1.0",
      "model_name": "CheckboxModel",
      "state": {
       "description": "60°",
       "disabled": false,
       "layout": "IPY_MODEL_0b259ca278e647fdae7df89f47deff34",
       "style": "IPY_MODEL_10f183f605ce403daad19007e941f595",
       "value": true
      }
     },
     "3057daa3aeee4dd19e0ef7f89f0cf16c": {
      "model_module": "@jupyter-widgets/controls",
      "model_module_version": "1.1.0",
      "model_name": "DescriptionStyleModel",
      "state": {
       "description_width": ""
      }
     },
     "30a95d8f1e9243a7b1ba9dabdd13c516": {
      "model_module": "@jupyter-widgets/controls",
      "model_module_version": "1.1.0",
      "model_name": "DescriptionStyleModel",
      "state": {
       "description_width": ""
      }
     },
     "30f4d12206a246b7a77d5dc6a690b65f": {
      "model_module": "@jupyter-widgets/controls",
      "model_module_version": "1.1.0",
      "model_name": "DescriptionStyleModel",
      "state": {
       "description_width": ""
      }
     },
     "312d0650ec004f909b6f98ff9ccc158f": {
      "model_module": "@jupyter-widgets/base",
      "model_module_version": "1.0.0",
      "model_name": "LayoutModel",
      "state": {}
     },
     "3189369a0cac44e0a6e3b6b6d8657f93": {
      "model_module": "@jupyter-widgets/controls",
      "model_module_version": "1.1.0",
      "model_name": "ToggleButtonsStyleModel",
      "state": {
       "button_width": "",
       "description_width": ""
      }
     },
     "31903ee12cc046d4a5f3c48980d03de8": {
      "model_module": "@jupyter-widgets/base",
      "model_module_version": "1.0.0",
      "model_name": "LayoutModel",
      "state": {}
     },
     "31b5d3d06e6242c9b5a0fb11f5fd7319": {
      "model_module": "@jupyter-widgets/controls",
      "model_module_version": "1.1.0",
      "model_name": "CheckboxModel",
      "state": {
       "description": "60°",
       "disabled": false,
       "layout": "IPY_MODEL_e75e86304c0e43ab9315309c63aae2b6",
       "style": "IPY_MODEL_3e47058c1caa4142825ba25fd6d0dc58",
       "value": false
      }
     },
     "31bedefb041d45bc8089755ad4dee01e": {
      "model_module": "@jupyter-widgets/controls",
      "model_module_version": "1.1.0",
      "model_name": "DescriptionStyleModel",
      "state": {
       "description_width": ""
      }
     },
     "31e9545bb3694ca09a8d39eb049284a8": {
      "model_module": "@jupyter-widgets/base",
      "model_module_version": "1.0.0",
      "model_name": "LayoutModel",
      "state": {}
     },
     "31eccb51f3554686a99127acb7d976ab": {
      "model_module": "@jupyter-widgets/controls",
      "model_module_version": "1.1.0",
      "model_name": "DescriptionStyleModel",
      "state": {
       "description_width": ""
      }
     },
     "325e49be119544de8398173a30e3339c": {
      "model_module": "@jupyter-widgets/controls",
      "model_module_version": "1.1.0",
      "model_name": "DescriptionStyleModel",
      "state": {
       "description_width": ""
      }
     },
     "32ae16106a1c4496831fc9941be86476": {
      "model_module": "@jupyter-widgets/controls",
      "model_module_version": "1.1.0",
      "model_name": "DescriptionStyleModel",
      "state": {
       "description_width": ""
      }
     },
     "32e719f97d234a248bcbaf5d96dfd4a6": {
      "model_module": "@jupyter-widgets/base",
      "model_module_version": "1.0.0",
      "model_name": "LayoutModel",
      "state": {}
     },
     "33262a01067344d4b83158d52895aef4": {
      "model_module": "@jupyter-widgets/controls",
      "model_module_version": "1.1.0",
      "model_name": "CheckboxModel",
      "state": {
       "description": "28.2°",
       "disabled": false,
       "layout": "IPY_MODEL_71683c8b18754c3b99996c8c2f587ece",
       "style": "IPY_MODEL_f97258fbbb4c467ebb072327200c0105",
       "value": true
      }
     },
     "33472369a0234ea3a9dcf27c09cd7f7b": {
      "model_module": "@jupyter-widgets/base",
      "model_module_version": "1.0.0",
      "model_name": "LayoutModel",
      "state": {}
     },
     "3362abff56024a28bb3f806b1c8512b0": {
      "model_module": "@jupyter-widgets/base",
      "model_module_version": "1.0.0",
      "model_name": "LayoutModel",
      "state": {}
     },
     "3399a4c8e41742b19dc0a8b326200e48": {
      "model_module": "@jupyter-widgets/controls",
      "model_module_version": "1.1.0",
      "model_name": "DescriptionStyleModel",
      "state": {
       "description_width": ""
      }
     },
     "33c23a4720244974b92f5a5e7e3f3fd9": {
      "model_module": "@jupyter-widgets/controls",
      "model_module_version": "1.1.0",
      "model_name": "DescriptionStyleModel",
      "state": {
       "description_width": ""
      }
     },
     "3409f20a2b44478ca3f017d84b25150d": {
      "model_module": "@jupyter-widgets/controls",
      "model_module_version": "1.1.0",
      "model_name": "DescriptionStyleModel",
      "state": {
       "description_width": ""
      }
     },
     "340f34f609204242aa0bc073ad49ea85": {
      "model_module": "@jupyter-widgets/controls",
      "model_module_version": "1.1.0",
      "model_name": "CheckboxModel",
      "state": {
       "description": "32.7°",
       "disabled": false,
       "layout": "IPY_MODEL_20da3b71f3e3411983b211b99d20ec80",
       "style": "IPY_MODEL_f4ed453b5306419e94a21b49cba03d49",
       "value": true
      }
     },
     "3446711576864bc6be7fe4b295e27a95": {
      "model_module": "@jupyter-widgets/base",
      "model_module_version": "1.0.0",
      "model_name": "LayoutModel",
      "state": {}
     },
     "34c7f5a56df04a03a6dc535e5f75739a": {
      "model_module": "@jupyter-widgets/base",
      "model_module_version": "1.0.0",
      "model_name": "LayoutModel",
      "state": {}
     },
     "34ccd4af033749bbbecce75ec409970d": {
      "model_module": "@jupyter-widgets/controls",
      "model_module_version": "1.1.0",
      "model_name": "LabelModel",
      "state": {
       "layout": "IPY_MODEL_823ff30f4d3648aca3a0c04c4d588ac5",
       "style": "IPY_MODEL_6e5f793677974678bc6e7082c99effcc",
       "value": "Select the detector angles to plot."
      }
     },
     "34f5e5e0307f417ea79d6d97d9afd5f1": {
      "model_module": "@jupyter-widgets/base",
      "model_module_version": "1.0.0",
      "model_name": "LayoutModel",
      "state": {}
     },
     "35808e4c571c4f76a4628148a7a69c54": {
      "model_module": "@jupyter-widgets/controls",
      "model_module_version": "1.1.0",
      "model_name": "DescriptionStyleModel",
      "state": {
       "description_width": ""
      }
     },
     "358e4741551d4c4686ca6b750bcca1d4": {
      "model_module": "@jupyter-widgets/controls",
      "model_module_version": "1.1.0",
      "model_name": "DescriptionStyleModel",
      "state": {
       "description_width": ""
      }
     },
     "3593d7ffc1b94e93a5405f2cd90d0fa9": {
      "model_module": "@jupyter-widgets/controls",
      "model_module_version": "1.1.0",
      "model_name": "ToggleButtonsModel",
      "state": {
       "_options_labels": [
        "20 g/cm²",
        "40 g/cm²",
        "60 g/cm²"
       ],
       "button_style": "",
       "description": "Thickness:",
       "icons": [],
       "index": 0,
       "layout": "IPY_MODEL_a1c93c2d5f0a42e384fcdabc98b67ee2",
       "style": "IPY_MODEL_eefb103b46b840978229669dc9bbcdce",
       "tooltips": [
        "20 g/cm² Polyethylene",
        "40 g/cm² Polyethylene",
        "60 g/cm² Polyethylene"
       ]
      }
     },
     "35a028bfb2da4198a6a1346e8c14e8ab": {
      "model_module": "@jupyter-widgets/controls",
      "model_module_version": "1.1.0",
      "model_name": "CheckboxModel",
      "state": {
       "description": "45°",
       "disabled": false,
       "layout": "IPY_MODEL_98753889ae644f97a385da2841d81ec5",
       "style": "IPY_MODEL_b6ca782bee7b416ab05bbad8e0002595",
       "value": false
      }
     },
     "35c7769a9a5642218152dd0a873130f5": {
      "model_module": "@jupyter-widgets/base",
      "model_module_version": "1.0.0",
      "model_name": "LayoutModel",
      "state": {}
     },
     "35ced27b879c42d9b20e796e03c2f102": {
      "model_module": "@jupyter-widgets/controls",
      "model_module_version": "1.1.0",
      "model_name": "DescriptionStyleModel",
      "state": {
       "description_width": ""
      }
     },
     "35d60a1a4f4448bc854f51196b287f24": {
      "model_module": "@jupyter-widgets/controls",
      "model_module_version": "1.1.0",
      "model_name": "CheckboxModel",
      "state": {
       "description": "60°",
       "disabled": false,
       "layout": "IPY_MODEL_11df27aa5e3847d59b5cbdd1ed1e833d",
       "style": "IPY_MODEL_5c1891fc0f3e494bb2daac66c62f0605",
       "value": true
      }
     },
     "35ebebb3f77f4229bcefca9d8c5b1045": {
      "model_module": "@jupyter-widgets/controls",
      "model_module_version": "1.1.0",
      "model_name": "DescriptionStyleModel",
      "state": {
       "description_width": ""
      }
     },
     "35fa8266494c4442b543f10adf20caa1": {
      "model_module": "@jupyter-widgets/controls",
      "model_module_version": "1.1.0",
      "model_name": "CheckboxModel",
      "state": {
       "description": "30°",
       "disabled": false,
       "layout": "IPY_MODEL_b0850357b9f3483ebcb764038629e4b6",
       "style": "IPY_MODEL_ed728a04d4bc4e46bfe229bbe18d946c",
       "value": true
      }
     },
     "3619c3db11734ddeae8b2aa3f02f7023": {
      "model_module": "@jupyter-widgets/base",
      "model_module_version": "1.0.0",
      "model_name": "LayoutModel",
      "state": {}
     },
     "367b1a0957de43d1b458dacce96a2b0d": {
      "model_module": "@jupyter-widgets/controls",
      "model_module_version": "1.1.0",
      "model_name": "DescriptionStyleModel",
      "state": {
       "description_width": ""
      }
     },
     "36aaaf9c7c06486d942f2d4e58e395d1": {
      "model_module": "@jupyter-widgets/controls",
      "model_module_version": "1.1.0",
      "model_name": "ToggleButtonsModel",
      "state": {
       "_options_labels": [
        "N (¹n)",
        "NDC (¹n)",
        "P (¹H)",
        "D (²H)",
        "T (³H)",
        "S (³He)",
        "A (⁴He)"
       ],
       "button_style": "",
       "description": "Particle:",
       "icons": [],
       "index": 0,
       "layout": "IPY_MODEL_9a1f984c3c80443292067dab89b6fd20",
       "style": "IPY_MODEL_048c97d7f51846b8a8fb4df0561446da",
       "tooltips": [
        "Neutron",
        "Back Target Neutron",
        "Proton",
        "Deuteron",
        "Triton",
        "Helium-3",
        "Helium-4"
       ]
      }
     },
     "36edc3b7ec8a44099c8f8c0543d9f99a": {
      "model_module": "@jupyter-widgets/controls",
      "model_module_version": "1.1.0",
      "model_name": "DescriptionStyleModel",
      "state": {
       "description_width": ""
      }
     },
     "377f418dbd6a41b9b98c2d82f062e64e": {
      "model_module": "@jupyter-widgets/controls",
      "model_module_version": "1.1.0",
      "model_name": "ToggleButtonsStyleModel",
      "state": {
       "button_width": "",
       "description_width": ""
      }
     },
     "379905cd5a194accbe7b7a843105614d": {
      "model_module": "@jupyter-widgets/controls",
      "model_module_version": "1.1.0",
      "model_name": "DescriptionStyleModel",
      "state": {
       "description_width": ""
      }
     },
     "381a1152e0f54045a01f73deaa3a0891": {
      "model_module": "@jupyter-widgets/controls",
      "model_module_version": "1.1.0",
      "model_name": "DescriptionStyleModel",
      "state": {
       "description_width": ""
      }
     },
     "384c2f9e6a9240a7aac3d6b7beeb3c2e": {
      "model_module": "@jupyter-widgets/base",
      "model_module_version": "1.0.0",
      "model_name": "LayoutModel",
      "state": {}
     },
     "38784f7386d84206aa346839bfd48dd1": {
      "model_module": "@jupyter-widgets/controls",
      "model_module_version": "1.1.0",
      "model_name": "CheckboxModel",
      "state": {
       "description": "MCNP simulated",
       "disabled": false,
       "layout": "IPY_MODEL_f41b887ee0d948018f442ae216d31f95",
       "style": "IPY_MODEL_92154e0fd2d046869b4d0e4406a04164",
       "value": true
      }
     },
     "38c4777f06d8457d84f1bb3212e9c5a4": {
      "model_module": "@jupyter-widgets/base",
      "model_module_version": "1.0.0",
      "model_name": "LayoutModel",
      "state": {}
     },
     "39282a4457f7401399ee1d29a15a961f": {
      "model_module": "@jupyter-widgets/controls",
      "model_module_version": "1.1.0",
      "model_name": "DescriptionStyleModel",
      "state": {
       "description_width": ""
      }
     },
     "395446e8e7c2410bb4bc4027eae2a0f3": {
      "model_module": "@jupyter-widgets/base",
      "model_module_version": "1.0.0",
      "model_name": "LayoutModel",
      "state": {}
     },
     "395f4ed1396f41599458d76bd4a9f8b9": {
      "model_module": "@jupyter-widgets/controls",
      "model_module_version": "1.1.0",
      "model_name": "DescriptionStyleModel",
      "state": {
       "description_width": ""
      }
     },
     "397f029dfdd045229aed31a970cb9de4": {
      "model_module": "@jupyter-widgets/controls",
      "model_module_version": "1.1.0",
      "model_name": "ToggleButtonsModel",
      "state": {
       "_options_labels": [
        "N (¹n)",
        "NDC (¹n)",
        "P (¹H)",
        "D (²H)",
        "T (³H)",
        "S (³He)",
        "A (⁴He)"
       ],
       "button_style": "",
       "description": "Type:",
       "icons": [],
       "index": 0,
       "layout": "IPY_MODEL_9872c102cabd49cdb5f48220b334548f",
       "style": "IPY_MODEL_fc5e76d7b0d54b7fb864f43147295e4d",
       "tooltips": [
        "Neutron",
        "Back Target Neutron",
        "Proton",
        "Deuteron",
        "Triton",
        "Helium-3",
        "Helium-4"
       ]
      }
     },
     "39b823192d424a1aab87bcddeee16b3d": {
      "model_module": "@jupyter-widgets/controls",
      "model_module_version": "1.1.0",
      "model_name": "DescriptionStyleModel",
      "state": {
       "description_width": ""
      }
     },
     "39db90205a6a4dc681303dcbcf010a95": {
      "model_module": "@jupyter-widgets/controls",
      "model_module_version": "1.1.0",
      "model_name": "LabelModel",
      "state": {
       "layout": "IPY_MODEL_666947855c7b4a45a47d2346e06c6163",
       "style": "IPY_MODEL_502f0671d23f460a8945d09d5b4bd79c",
       "value": "Select upstream target mass thickness."
      }
     },
     "3a75bad443c149f2a33f91a7d69e457b": {
      "model_module": "@jupyter-widgets/controls",
      "model_module_version": "1.1.0",
      "model_name": "CheckboxModel",
      "state": {
       "description": "10°",
       "disabled": false,
       "layout": "IPY_MODEL_c3f3fef894c94cb3a2fed42e5d4f1d51",
       "style": "IPY_MODEL_44c9f51553bf44a9a592856322fac6fb",
       "value": true
      }
     },
     "3ab053ea2b48422690ce68b194f7ddce": {
      "model_module": "@jupyter-widgets/base",
      "model_module_version": "1.0.0",
      "model_name": "LayoutModel",
      "state": {}
     },
     "3ab5122a8d864d1d9bbb389b35e1ab2d": {
      "model_module": "@jupyter-widgets/controls",
      "model_module_version": "1.1.0",
      "model_name": "DescriptionStyleModel",
      "state": {
       "description_width": ""
      }
     },
     "3ae7edf9282c4bb29262fc74ed7457c6": {
      "model_module": "@jupyter-widgets/controls",
      "model_module_version": "1.1.0",
      "model_name": "DescriptionStyleModel",
      "state": {
       "description_width": ""
      }
     },
     "3b0965cfea5647cda8732d9283755930": {
      "model_module": "@jupyter-widgets/base",
      "model_module_version": "1.0.0",
      "model_name": "LayoutModel",
      "state": {}
     },
     "3b0b8b295c814436aa521b533e2e56c8": {
      "model_module": "@jupyter-widgets/controls",
      "model_module_version": "1.1.0",
      "model_name": "DescriptionStyleModel",
      "state": {
       "description_width": ""
      }
     },
     "3b5db79cca144685915a4b267b98c18b": {
      "model_module": "@jupyter-widgets/controls",
      "model_module_version": "1.1.0",
      "model_name": "CheckboxModel",
      "state": {
       "description": "28.2°",
       "disabled": false,
       "layout": "IPY_MODEL_5a127a21a9244a47962c8a41005dc6b8",
       "style": "IPY_MODEL_7a41df7279be47f19ff549ed07da1077",
       "value": false
      }
     },
     "3ba19ebc170b40f2b661526b1e62419f": {
      "model_module": "@jupyter-widgets/controls",
      "model_module_version": "1.1.0",
      "model_name": "DescriptionStyleModel",
      "state": {
       "description_width": ""
      }
     },
     "3bd60948f1b348798290769e44107797": {
      "model_module": "@jupyter-widgets/controls",
      "model_module_version": "1.1.0",
      "model_name": "CheckboxModel",
      "state": {
       "description": "10°",
       "disabled": false,
       "layout": "IPY_MODEL_027fe3d5ff7043d781512933effbf2f7",
       "style": "IPY_MODEL_36edc3b7ec8a44099c8f8c0543d9f99a",
       "value": true
      }
     },
     "3c09a4f787f24fb882051c5bbbc36f4a": {
      "model_module": "@jupyter-widgets/base",
      "model_module_version": "1.0.0",
      "model_name": "LayoutModel",
      "state": {}
     },
     "3c0a2da75dd243fc8e9cabdd1f16b48c": {
      "model_module": "@jupyter-widgets/base",
      "model_module_version": "1.0.0",
      "model_name": "LayoutModel",
      "state": {}
     },
     "3c181b41a2aa40508ceff12b39798aef": {
      "model_module": "@jupyter-widgets/controls",
      "model_module_version": "1.1.0",
      "model_name": "DescriptionStyleModel",
      "state": {
       "description_width": ""
      }
     },
     "3c1b163dce6341669f6824f4534d5835": {
      "model_module": "@jupyter-widgets/base",
      "model_module_version": "1.0.0",
      "model_name": "LayoutModel",
      "state": {}
     },
     "3c1dc53a568949c483b00aa912e2840e": {
      "model_module": "@jupyter-widgets/base",
      "model_module_version": "1.0.0",
      "model_name": "LayoutModel",
      "state": {}
     },
     "3c1f3f08990e48fa8891fc336116f9c7": {
      "model_module": "@jupyter-widgets/controls",
      "model_module_version": "1.1.0",
      "model_name": "DescriptionStyleModel",
      "state": {
       "description_width": ""
      }
     },
     "3c2e68c03a494d0e964b3a51e06f82e8": {
      "model_module": "@jupyter-widgets/controls",
      "model_module_version": "1.1.0",
      "model_name": "DescriptionStyleModel",
      "state": {
       "description_width": ""
      }
     },
     "3c8c6a6665a64aec97d8773312827237": {
      "model_module": "@jupyter-widgets/base",
      "model_module_version": "1.0.0",
      "model_name": "LayoutModel",
      "state": {}
     },
     "3cd124f1e9e744878abd76ecc1d9d390": {
      "model_module": "@jupyter-widgets/base",
      "model_module_version": "1.0.0",
      "model_name": "LayoutModel",
      "state": {}
     },
     "3cf480469a1c4902b53f1b2f7ff72c9d": {
      "model_module": "@jupyter-widgets/base",
      "model_module_version": "1.0.0",
      "model_name": "LayoutModel",
      "state": {}
     },
     "3d06230ad2b44d069ab9f4e393b17e87": {
      "model_module": "@jupyter-widgets/controls",
      "model_module_version": "1.1.0",
      "model_name": "CheckboxModel",
      "state": {
       "description": "135°",
       "disabled": false,
       "layout": "IPY_MODEL_62005fa6af354d3abb3d96cdd98641ee",
       "style": "IPY_MODEL_b06735c61c254823b8261980ec3395a3",
       "value": true
      }
     },
     "3d0f3c678ae9413bb5af523f0949b7a3": {
      "model_module": "@jupyter-widgets/controls",
      "model_module_version": "1.1.0",
      "model_name": "DescriptionStyleModel",
      "state": {
       "description_width": ""
      }
     },
     "3d4543f1be52411fb91d2d09ef6d396a": {
      "model_module": "@jupyter-widgets/controls",
      "model_module_version": "1.1.0",
      "model_name": "ToggleButtonsModel",
      "state": {
       "_options_labels": [
        "P (¹H)",
        "D (²H)",
        "T (³H)",
        "A (⁴He)"
       ],
       "button_style": "",
       "description": "Type:",
       "icons": [],
       "index": 0,
       "layout": "IPY_MODEL_b159994f2523454c849777345beef154",
       "style": "IPY_MODEL_1b46d062e7544ec0a153eeae4e600990",
       "tooltips": [
        "Proton",
        "Deuteron",
        "Triton",
        "Helium-4"
       ]
      }
     },
     "3d8b79afcd5346e89411d87b293cd799": {
      "model_module": "@jupyter-widgets/controls",
      "model_module_version": "1.1.0",
      "model_name": "ButtonStyleModel",
      "state": {}
     },
     "3d95b66ff94d442283299aecf4512049": {
      "model_module": "@jupyter-widgets/controls",
      "model_module_version": "1.1.0",
      "model_name": "DescriptionStyleModel",
      "state": {
       "description_width": ""
      }
     },
     "3d97e80d1c424d3e854e2b2106a1b287": {
      "model_module": "@jupyter-widgets/base",
      "model_module_version": "1.0.0",
      "model_name": "LayoutModel",
      "state": {}
     },
     "3e26dbb23950401caf73c17a05277c77": {
      "model_module": "@jupyter-widgets/controls",
      "model_module_version": "1.1.0",
      "model_name": "DescriptionStyleModel",
      "state": {
       "description_width": ""
      }
     },
     "3e445967598a49b49aafcad0214a1c29": {
      "model_module": "@jupyter-widgets/controls",
      "model_module_version": "1.1.0",
      "model_name": "CheckboxModel",
      "state": {
       "description": "60°",
       "disabled": false,
       "layout": "IPY_MODEL_c1b4698aaec643bf83f637a29587f2b2",
       "style": "IPY_MODEL_038cd47bafb04d39a36cd5ab084c585d",
       "value": true
      }
     },
     "3e47058c1caa4142825ba25fd6d0dc58": {
      "model_module": "@jupyter-widgets/controls",
      "model_module_version": "1.1.0",
      "model_name": "DescriptionStyleModel",
      "state": {
       "description_width": ""
      }
     },
     "3e6868e05b4d42438e495a1ad59c565b": {
      "model_module": "@jupyter-widgets/controls",
      "model_module_version": "1.1.0",
      "model_name": "DescriptionStyleModel",
      "state": {
       "description_width": ""
      }
     },
     "3e6d3a7685ca4313a9d12b60f362146d": {
      "model_module": "@jupyter-widgets/controls",
      "model_module_version": "1.1.0",
      "model_name": "CheckboxModel",
      "state": {
       "description": "80°",
       "disabled": false,
       "layout": "IPY_MODEL_31e9545bb3694ca09a8d39eb049284a8",
       "style": "IPY_MODEL_4252cd15596c400f98a374d31439c20c",
       "value": false
      }
     },
     "3ed8a03b12234f1f96c21be5fc89dbbf": {
      "model_module": "@jupyter-widgets/base",
      "model_module_version": "1.0.0",
      "model_name": "LayoutModel",
      "state": {}
     },
     "3f3126e11c2e4b25ab2b7ec236bfd29a": {
      "model_module": "@jupyter-widgets/controls",
      "model_module_version": "1.1.0",
      "model_name": "CheckboxModel",
      "state": {
       "description": "135°",
       "disabled": false,
       "layout": "IPY_MODEL_9e70dabc9cec4089a4b8308037cdecb1",
       "style": "IPY_MODEL_5d9f1e4f52be41468c9737671db6eeb7",
       "value": true
      }
     },
     "3f65a85a160a4441a7874fdb881d8141": {
      "model_module": "@jupyter-widgets/base",
      "model_module_version": "1.0.0",
      "model_name": "LayoutModel",
      "state": {}
     },
     "3f9b30d802344f01a03d47bc911046d3": {
      "model_module": "@jupyter-widgets/controls",
      "model_module_version": "1.1.0",
      "model_name": "DescriptionStyleModel",
      "state": {
       "description_width": ""
      }
     },
     "3fa835cdaf12418f909ab21e9778b253": {
      "model_module": "@jupyter-widgets/base",
      "model_module_version": "1.0.0",
      "model_name": "LayoutModel",
      "state": {}
     },
     "3fd3b2faeb074380b2729da5cdd95564": {
      "model_module": "@jupyter-widgets/base",
      "model_module_version": "1.0.0",
      "model_name": "LayoutModel",
      "state": {}
     },
     "3fe9779ece614d6c962a1ee84983c997": {
      "model_module": "@jupyter-widgets/controls",
      "model_module_version": "1.1.0",
      "model_name": "CheckboxModel",
      "state": {
       "description": "135°",
       "disabled": false,
       "layout": "IPY_MODEL_b1e44077f2bb4e8c83ec53c33e3658c0",
       "style": "IPY_MODEL_6c5ed0a01f1f418aba1e82fb20332402",
       "value": true
      }
     },
     "4000278a9d364b9f8b0aa3f29b94c1be": {
      "model_module": "@jupyter-widgets/controls",
      "model_module_version": "1.1.0",
      "model_name": "ToggleButtonsStyleModel",
      "state": {
       "button_width": "",
       "description_width": ""
      }
     },
     "403956e3427d41e39e4ca6ce37a021f3": {
      "model_module": "@jupyter-widgets/controls",
      "model_module_version": "1.1.0",
      "model_name": "ToggleButtonsStyleModel",
      "state": {
       "button_width": "",
       "description_width": ""
      }
     },
     "405608c1d3cb4a39bb86ffc579e68bcf": {
      "model_module": "@jupyter-widgets/controls",
      "model_module_version": "1.1.0",
      "model_name": "ToggleButtonsModel",
      "state": {
       "_options_labels": [
        "20 g/cm²",
        "60 g/cm²"
       ],
       "button_style": "",
       "description": "Thickness:",
       "icons": [],
       "index": 0,
       "layout": "IPY_MODEL_00ad944b06944d3ab809f24d2c5ca45d",
       "style": "IPY_MODEL_1a5612b401944defb18e84f5e71fc199",
       "tooltips": [
        "10 g/cm² Al upstream + 10 g/cm² HDPE downstream",
        "10 g/cm² Al upstream + 50 g/cm² HDPE downstream"
       ]
      }
     },
     "407138ee5cd64b1f823f611486fac5ef": {
      "model_module": "@jupyter-widgets/base",
      "model_module_version": "1.0.0",
      "model_name": "LayoutModel",
      "state": {}
     },
     "409f8d96f1b84958a16c4d20848f7289": {
      "model_module": "@jupyter-widgets/base",
      "model_module_version": "1.0.0",
      "model_name": "LayoutModel",
      "state": {}
     },
     "40ed2e091b2b4081b4b6623db8dcc3c8": {
      "model_module": "@jupyter-widgets/controls",
      "model_module_version": "1.1.0",
      "model_name": "CheckboxModel",
      "state": {
       "description": "30°",
       "disabled": false,
       "layout": "IPY_MODEL_3c1dc53a568949c483b00aa912e2840e",
       "style": "IPY_MODEL_a05914b55e5d40649e03350e6eb3630a",
       "value": true
      }
     },
     "412ccd07feee49cd84638f59c245fbbd": {
      "model_module": "@jupyter-widgets/controls",
      "model_module_version": "1.1.0",
      "model_name": "LabelModel",
      "state": {
       "layout": "IPY_MODEL_9d7a1428bf78413ab9bb86941080f268",
       "style": "IPY_MODEL_abba099c8d2346e3b5455ba8b4be4d26",
       "value": "Select projectile ion energy."
      }
     },
     "41466c3bcded4d6f827a87637d762f9d": {
      "model_module": "@jupyter-widgets/controls",
      "model_module_version": "1.1.0",
      "model_name": "ToggleButtonsModel",
      "state": {
       "_options_labels": [
        "N (¹n)",
        "NDC (¹n)",
        "P (¹H)",
        "D (²H)",
        "T (³H)",
        "S (³He)",
        "A (⁴He)"
       ],
       "button_style": "",
       "description": "Type:",
       "icons": [],
       "index": 0,
       "layout": "IPY_MODEL_770ceff503154f0a865b91c4c5f39af8",
       "style": "IPY_MODEL_a2de60ea094a4b74a1566c0c53e204dc",
       "tooltips": [
        "Neutron",
        "Back Target Neutron",
        "Proton",
        "Deuteron",
        "Triton",
        "Helium-3",
        "Helium-4"
       ]
      }
     },
     "415c20f1bd384f6e9750930c8c6d5586": {
      "model_module": "@jupyter-widgets/controls",
      "model_module_version": "1.1.0",
      "model_name": "LabelModel",
      "state": {
       "layout": "IPY_MODEL_81425f7945044f9dacb6d4144985be36",
       "style": "IPY_MODEL_20dc665dc20c4b0d804b2fd06aea5e1f",
       "value": "Select which secondary particle to plot spectra for."
      }
     },
     "41a0197ea3864f2f96cd56564c88d629": {
      "model_module": "@jupyter-widgets/controls",
      "model_module_version": "1.1.0",
      "model_name": "CheckboxModel",
      "state": {
       "description": "80°",
       "disabled": false,
       "layout": "IPY_MODEL_cdbb0ba078c340cf92d6e7d7f2d48a90",
       "style": "IPY_MODEL_5032c0a28bb84678ba8f7c98434b2fb8",
       "value": true
      }
     },
     "41c781fe96f6436fa3362dfde8270771": {
      "model_module": "@jupyter-widgets/controls",
      "model_module_version": "1.1.0",
      "model_name": "CheckboxModel",
      "state": {
       "description": "135°",
       "disabled": false,
       "layout": "IPY_MODEL_5fc3f122bf5a4e9f81f5da4f559639cc",
       "style": "IPY_MODEL_aeeface96ece4888a98b7db93c45d416",
       "value": false
      }
     },
     "422dba91792c4e14a40f86c2993d3b8d": {
      "model_module": "@jupyter-widgets/controls",
      "model_module_version": "1.1.0",
      "model_name": "LabelModel",
      "state": {
       "layout": "IPY_MODEL_cca342e79c6b4f2abd356205fe68475c",
       "style": "IPY_MODEL_0e990f10fa3a4299b2d8194a6469a2da",
       "value": "Select the detector angles to plot."
      }
     },
     "4252cd15596c400f98a374d31439c20c": {
      "model_module": "@jupyter-widgets/controls",
      "model_module_version": "1.1.0",
      "model_name": "DescriptionStyleModel",
      "state": {
       "description_width": ""
      }
     },
     "4259e31010e14417960adc84dabd8764": {
      "model_module": "@jupyter-widgets/controls",
      "model_module_version": "1.1.0",
      "model_name": "DescriptionStyleModel",
      "state": {
       "description_width": ""
      }
     },
     "428942ba674d46a2bf6cdd61a85e65eb": {
      "model_module": "@jupyter-widgets/base",
      "model_module_version": "1.0.0",
      "model_name": "LayoutModel",
      "state": {}
     },
     "42a55227a224471a814309854d725036": {
      "model_module": "@jupyter-widgets/controls",
      "model_module_version": "1.1.0",
      "model_name": "ToggleButtonsModel",
      "state": {
       "_options_labels": [
        "None",
        "Spaced by 10²"
       ],
       "button_style": "",
       "description": "Spacing:",
       "icons": [],
       "index": 0,
       "layout": "IPY_MODEL_a17e18225617407bad9ea54d14d3ff8f",
       "style": "IPY_MODEL_2593de92f9be4007b1f4d477fd4a25a2",
       "tooltips": [
        "All values are presented as is.",
        "Plots for different detectors are multiplied by powers of 10² for easier viewing."
       ]
      }
     },
     "42ac3994113648e7b1511b9da9417c54": {
      "model_module": "@jupyter-widgets/controls",
      "model_module_version": "1.1.0",
      "model_name": "DescriptionStyleModel",
      "state": {
       "description_width": ""
      }
     },
     "42c81fe8612b454e8f3f3342eb8dd9b6": {
      "model_module": "@jupyter-widgets/controls",
      "model_module_version": "1.1.0",
      "model_name": "DescriptionStyleModel",
      "state": {
       "description_width": ""
      }
     },
     "42da148a2a3e4f1f9716cd92540ea132": {
      "model_module": "@jupyter-widgets/controls",
      "model_module_version": "1.1.0",
      "model_name": "ToggleButtonsStyleModel",
      "state": {
       "button_width": "",
       "description_width": ""
      }
     },
     "4309eca1d42d41d0a0be80ee3ddcc7cf": {
      "model_module": "@jupyter-widgets/base",
      "model_module_version": "1.0.0",
      "model_name": "LayoutModel",
      "state": {}
     },
     "431cb5160efb42c1be6d872d56c3b795": {
      "model_module": "@jupyter-widgets/controls",
      "model_module_version": "1.1.0",
      "model_name": "DescriptionStyleModel",
      "state": {
       "description_width": ""
      }
     },
     "434eda9a3fdd4adc9d47d36d17c44992": {
      "model_module": "@jupyter-widgets/controls",
      "model_module_version": "1.1.0",
      "model_name": "DescriptionStyleModel",
      "state": {
       "description_width": ""
      }
     },
     "43912211b5184688b8ce478f1efbc6ef": {
      "model_module": "@jupyter-widgets/controls",
      "model_module_version": "1.1.0",
      "model_name": "DescriptionStyleModel",
      "state": {
       "description_width": ""
      }
     },
     "43db9ac0878c4c78b0c406c66ddf8b30": {
      "model_module": "@jupyter-widgets/controls",
      "model_module_version": "1.1.0",
      "model_name": "CheckboxModel",
      "state": {
       "description": "45°",
       "disabled": false,
       "layout": "IPY_MODEL_cf71b31f4cc440f89857fc5385661b21",
       "style": "IPY_MODEL_c364e5d45e4041ecb1b0e2902e992113",
       "value": true
      }
     },
     "442ac209cf4f4253a7d278fb37682d26": {
      "model_module": "@jupyter-widgets/controls",
      "model_module_version": "1.1.0",
      "model_name": "DescriptionStyleModel",
      "state": {
       "description_width": ""
      }
     },
     "447f53e19b2f4ddf9d2a3f12f6e5636f": {
      "model_module": "@jupyter-widgets/base",
      "model_module_version": "1.0.0",
      "model_name": "LayoutModel",
      "state": {}
     },
     "44c9f51553bf44a9a592856322fac6fb": {
      "model_module": "@jupyter-widgets/controls",
      "model_module_version": "1.1.0",
      "model_name": "DescriptionStyleModel",
      "state": {
       "description_width": ""
      }
     },
     "44d3c41f87914e6faf2379147d847721": {
      "model_module": "@jupyter-widgets/base",
      "model_module_version": "1.0.0",
      "model_name": "LayoutModel",
      "state": {}
     },
     "44e15962fb0a4f7c90805cc6a532bafd": {
      "model_module": "@jupyter-widgets/controls",
      "model_module_version": "1.1.0",
      "model_name": "CheckboxModel",
      "state": {
       "description": "80°",
       "disabled": false,
       "layout": "IPY_MODEL_f5265654bf1c43de820654cb0b360cae",
       "style": "IPY_MODEL_9b930e4743cd49ad892e2565cb83d894",
       "value": false
      }
     },
     "4511b1edad03417384805e5759312aa5": {
      "model_module": "@jupyter-widgets/controls",
      "model_module_version": "1.1.0",
      "model_name": "LabelModel",
      "state": {
       "layout": "IPY_MODEL_a430f5e1f8104030adc87152f743628c",
       "style": "IPY_MODEL_a0f8ff67cce34c4a927a05fb1ee2c88f",
       "value": "Select the detector angles to plot."
      }
     },
     "4517d2ec7e194ea2bbef18bb24682c51": {
      "model_module": "@jupyter-widgets/controls",
      "model_module_version": "1.1.0",
      "model_name": "CheckboxModel",
      "state": {
       "description": "80°",
       "disabled": false,
       "layout": "IPY_MODEL_bfd6c883ab654524b99c3f030206e901",
       "style": "IPY_MODEL_840cc699269c453caf5255b94c01977e",
       "value": true
      }
     },
     "4524981b64cd4317b83daa649d2fcda4": {
      "model_module": "@jupyter-widgets/controls",
      "model_module_version": "1.1.0",
      "model_name": "DescriptionStyleModel",
      "state": {
       "description_width": ""
      }
     },
     "453f31976f1745da8fe67203caf87d15": {
      "model_module": "@jupyter-widgets/controls",
      "model_module_version": "1.1.0",
      "model_name": "DescriptionStyleModel",
      "state": {
       "description_width": ""
      }
     },
     "458d0ff4e9c24a4fb84bc59a942eb7be": {
      "model_module": "@jupyter-widgets/controls",
      "model_module_version": "1.1.0",
      "model_name": "DescriptionStyleModel",
      "state": {
       "description_width": ""
      }
     },
     "45b9d236dbbf4356aafdb480f24a11d5": {
      "model_module": "@jupyter-widgets/controls",
      "model_module_version": "1.1.0",
      "model_name": "DescriptionStyleModel",
      "state": {
       "description_width": ""
      }
     },
     "45c7f6aa82f24df694b77ec71789ab46": {
      "model_module": "@jupyter-widgets/controls",
      "model_module_version": "1.1.0",
      "model_name": "ToggleButtonsStyleModel",
      "state": {
       "button_width": "",
       "description_width": ""
      }
     },
     "460c05ff88a1487bbc9076500df65cf9": {
      "model_module": "@jupyter-widgets/base",
      "model_module_version": "1.0.0",
      "model_name": "LayoutModel",
      "state": {}
     },
     "4624e853dfd54f939381d2e27047bb61": {
      "model_module": "@jupyter-widgets/controls",
      "model_module_version": "1.1.0",
      "model_name": "DescriptionStyleModel",
      "state": {
       "description_width": ""
      }
     },
     "4626e326d1fc43d4b1129ad66a98aade": {
      "model_module": "@jupyter-widgets/controls",
      "model_module_version": "1.1.0",
      "model_name": "CheckboxModel",
      "state": {
       "description": "45°",
       "disabled": false,
       "layout": "IPY_MODEL_84966235c9f94f55bd3807f3ac243f7c",
       "style": "IPY_MODEL_a8ff9a8265864ce6b8522a45b3a04d55",
       "value": true
      }
     },
     "462a79a9036144b8b3fe19cdc55eee8c": {
      "model_module": "@jupyter-widgets/controls",
      "model_module_version": "1.1.0",
      "model_name": "DescriptionStyleModel",
      "state": {
       "description_width": ""
      }
     },
     "4631bef8f06b44778e229ff134e96632": {
      "model_module": "@jupyter-widgets/controls",
      "model_module_version": "1.1.0",
      "model_name": "DescriptionStyleModel",
      "state": {
       "description_width": ""
      }
     },
     "46b255cfc70a4c64812173744a44a5da": {
      "model_module": "@jupyter-widgets/base",
      "model_module_version": "1.0.0",
      "model_name": "LayoutModel",
      "state": {}
     },
     "46da5a87136a4c1aab5938de6e45b620": {
      "model_module": "@jupyter-widgets/controls",
      "model_module_version": "1.1.0",
      "model_name": "DescriptionStyleModel",
      "state": {
       "description_width": ""
      }
     },
     "4723e6fd33cf4b678be4eff35656ddd8": {
      "model_module": "@jupyter-widgets/controls",
      "model_module_version": "1.1.0",
      "model_name": "CheckboxModel",
      "state": {
       "description": "12.7°",
       "disabled": false,
       "layout": "IPY_MODEL_d10acb0e71b24bb2b589371ee184085a",
       "style": "IPY_MODEL_c6e914b0c98940cfb5bdd881a7c06bf3",
       "value": true
      }
     },
     "4742d20d74b74d16b7c7a665f6dccd02": {
      "model_module": "@jupyter-widgets/controls",
      "model_module_version": "1.1.0",
      "model_name": "CheckboxModel",
      "state": {
       "description": "80°",
       "disabled": false,
       "layout": "IPY_MODEL_3c1b163dce6341669f6824f4534d5835",
       "style": "IPY_MODEL_b88e9620565a40ab941bc49f29829681",
       "value": true
      }
     },
     "47696c0e2de54cffb03295fdca3ba4f9": {
      "model_module": "@jupyter-widgets/controls",
      "model_module_version": "1.1.0",
      "model_name": "ButtonStyleModel",
      "state": {}
     },
     "47949500a1db4319892288bb8a0eaecd": {
      "model_module": "@jupyter-widgets/controls",
      "model_module_version": "1.1.0",
      "model_name": "LabelModel",
      "state": {
       "layout": "IPY_MODEL_1bfd2f44b7c2442090c992df698cee4c",
       "style": "IPY_MODEL_e79bd93ad5be4112858e8589b9072286",
       "value": "Select the detector angles to plot."
      }
     },
     "47bb9e4681e444679e939c70b022b30b": {
      "model_module": "@jupyter-widgets/controls",
      "model_module_version": "1.1.0",
      "model_name": "ButtonStyleModel",
      "state": {}
     },
     "48361456091047d39283a4c138e3abce": {
      "model_module": "@jupyter-widgets/controls",
      "model_module_version": "1.1.0",
      "model_name": "LabelModel",
      "state": {
       "layout": "IPY_MODEL_0017f825ac48419da4b51260e1acf358",
       "style": "IPY_MODEL_9b80b536f8134456afcfab7a234face8",
       "value": "Select projectile ion energy."
      }
     },
     "486a85212fc74b3c976559e6f202904e": {
      "model_module": "@jupyter-widgets/controls",
      "model_module_version": "1.1.0",
      "model_name": "DescriptionStyleModel",
      "state": {
       "description_width": ""
      }
     },
     "4873b52e14fb4e01a2efc9b6ec9f4561": {
      "model_module": "@jupyter-widgets/controls",
      "model_module_version": "1.1.0",
      "model_name": "ToggleButtonsStyleModel",
      "state": {
       "button_width": "",
       "description_width": ""
      }
     },
     "48a4c96a827e49d3beae6e2d1e8dace5": {
      "model_module": "@jupyter-widgets/controls",
      "model_module_version": "1.1.0",
      "model_name": "CheckboxModel",
      "state": {
       "description": "80°",
       "disabled": false,
       "layout": "IPY_MODEL_181d532fcf664ac59ef38448d3ac215c",
       "style": "IPY_MODEL_1b1c3c1a190840779c5277f754611eed",
       "value": true
      }
     },
     "48d3fdf0172048b78092b2e4fba35cc1": {
      "model_module": "@jupyter-widgets/base",
      "model_module_version": "1.0.0",
      "model_name": "LayoutModel",
      "state": {}
     },
     "48d6a29de3fe4b21a4933651013ca17c": {
      "model_module": "@jupyter-widgets/base",
      "model_module_version": "1.0.0",
      "model_name": "LayoutModel",
      "state": {}
     },
     "48dd3491bb6543ef97f3184f4dd04dc1": {
      "model_module": "@jupyter-widgets/base",
      "model_module_version": "1.0.0",
      "model_name": "LayoutModel",
      "state": {}
     },
     "494dabc7ce2945f19239370be71cc656": {
      "model_module": "@jupyter-widgets/base",
      "model_module_version": "1.0.0",
      "model_name": "LayoutModel",
      "state": {}
     },
     "496afe6a7255467882497c62a9934238": {
      "model_module": "@jupyter-widgets/controls",
      "model_module_version": "1.1.0",
      "model_name": "LabelModel",
      "state": {
       "layout": "IPY_MODEL_104d58e9449e48749b05fefce343f075",
       "style": "IPY_MODEL_5b022fe216604a93ac7675403a1dfe4f",
       "value": "Select which secondary particle to plot spectra for."
      }
     },
     "4983d2055aa540b09bf1671d230359fd": {
      "model_module": "@jupyter-widgets/base",
      "model_module_version": "1.0.0",
      "model_name": "LayoutModel",
      "state": {}
     },
     "49e9137e50f44813b72a45d69a659e96": {
      "model_module": "@jupyter-widgets/controls",
      "model_module_version": "1.1.0",
      "model_name": "CheckboxModel",
      "state": {
       "description": "60°",
       "disabled": false,
       "layout": "IPY_MODEL_6e5bfcd185424475abd072f9ff0da8ef",
       "style": "IPY_MODEL_07d75c2623a14acaac5b43e08e71b559",
       "value": false
      }
     },
     "4a159ef5829140938004cae24842987b": {
      "model_module": "@jupyter-widgets/controls",
      "model_module_version": "1.1.0",
      "model_name": "DescriptionStyleModel",
      "state": {
       "description_width": ""
      }
     },
     "4a48969b477c4bafabcfc6a9e4de6868": {
      "model_module": "@jupyter-widgets/controls",
      "model_module_version": "1.1.0",
      "model_name": "CheckboxModel",
      "state": {
       "description": "60°",
       "disabled": false,
       "layout": "IPY_MODEL_1d393d3627de4b8b9c225452fc52406f",
       "style": "IPY_MODEL_23ad429477be4fe7beb80dd502064ac7",
       "value": true
      }
     },
     "4aad6287ce5545179622eeec21873b28": {
      "model_module": "@jupyter-widgets/controls",
      "model_module_version": "1.1.0",
      "model_name": "CheckboxModel",
      "state": {
       "description": "80°",
       "disabled": false,
       "layout": "IPY_MODEL_dcac55fa47134e5a80e306325f646db6",
       "style": "IPY_MODEL_2c283eac07974b8c9dc6bcd92671f261",
       "value": true
      }
     },
     "4ad68fd1d95745479f05deef48a13dfe": {
      "model_module": "@jupyter-widgets/controls",
      "model_module_version": "1.1.0",
      "model_name": "CheckboxModel",
      "state": {
       "description": "80°",
       "disabled": false,
       "layout": "IPY_MODEL_268deff161c442f6baaa7d2a79d4c5a9",
       "style": "IPY_MODEL_3399a4c8e41742b19dc0a8b326200e48",
       "value": true
      }
     },
     "4aeafb61077d42808cef7e4da9b5abeb": {
      "model_module": "@jupyter-widgets/controls",
      "model_module_version": "1.1.0",
      "model_name": "CheckboxModel",
      "state": {
       "description": "28.2°",
       "disabled": false,
       "layout": "IPY_MODEL_0ba15f02a3e241cfb5554239e37e8a39",
       "style": "IPY_MODEL_3ae7edf9282c4bb29262fc74ed7457c6",
       "value": true
      }
     },
     "4b2dacfe18dc47e1a9d89b9d4d0d17ff": {
      "model_module": "@jupyter-widgets/base",
      "model_module_version": "1.0.0",
      "model_name": "LayoutModel",
      "state": {}
     },
     "4b313ade035346c08238c3d82576da2f": {
      "model_module": "@jupyter-widgets/base",
      "model_module_version": "1.0.0",
      "model_name": "LayoutModel",
      "state": {}
     },
     "4b395f57c6674e77b411277989eacd52": {
      "model_module": "@jupyter-widgets/controls",
      "model_module_version": "1.1.0",
      "model_name": "DescriptionStyleModel",
      "state": {
       "description_width": ""
      }
     },
     "4b3e0d7cc3a34cd19bab3b2ed36231f6": {
      "model_module": "@jupyter-widgets/base",
      "model_module_version": "1.0.0",
      "model_name": "LayoutModel",
      "state": {}
     },
     "4b6fa27e982d4d39a045f12e95015ba9": {
      "model_module": "@jupyter-widgets/base",
      "model_module_version": "1.0.0",
      "model_name": "LayoutModel",
      "state": {}
     },
     "4bbd72c1fa0b40e69f7b7a8bbda3f824": {
      "model_module": "@jupyter-widgets/base",
      "model_module_version": "1.0.0",
      "model_name": "LayoutModel",
      "state": {}
     },
     "4bd4fb3548f34dbbab78ecd8e9853177": {
      "model_module": "@jupyter-widgets/base",
      "model_module_version": "1.0.0",
      "model_name": "LayoutModel",
      "state": {}
     },
     "4be18702b7374d2bb6514893bc088c12": {
      "model_module": "@jupyter-widgets/controls",
      "model_module_version": "1.1.0",
      "model_name": "CheckboxModel",
      "state": {
       "description": "10°",
       "disabled": false,
       "layout": "IPY_MODEL_c3cab31f4d4f4a858cd9408d120aca09",
       "style": "IPY_MODEL_6e95f3508fc4499f871042d4040bd640",
       "value": true
      }
     },
     "4c2d056166914a319f1aa0a32c67856d": {
      "model_module": "@jupyter-widgets/base",
      "model_module_version": "1.0.0",
      "model_name": "LayoutModel",
      "state": {}
     },
     "4c4d18aa051748ab9c29e91c88c13ed2": {
      "model_module": "@jupyter-widgets/controls",
      "model_module_version": "1.1.0",
      "model_name": "CheckboxModel",
      "state": {
       "description": "135°",
       "disabled": false,
       "layout": "IPY_MODEL_5ad7cb92db9f426599a612e6cdbeb1ae",
       "style": "IPY_MODEL_3c2e68c03a494d0e964b3a51e06f82e8",
       "value": true
      }
     },
     "4cbffe1b274f49ce81322da62902dd9c": {
      "model_module": "@jupyter-widgets/controls",
      "model_module_version": "1.1.0",
      "model_name": "ToggleButtonsStyleModel",
      "state": {
       "button_width": "",
       "description_width": ""
      }
     },
     "4cc39a6a644b45c2ae23f45f0791d40f": {
      "model_module": "@jupyter-widgets/controls",
      "model_module_version": "1.1.0",
      "model_name": "DescriptionStyleModel",
      "state": {
       "description_width": ""
      }
     },
     "4ce6a61031ce4b2ebb66154499226a6b": {
      "model_module": "@jupyter-widgets/controls",
      "model_module_version": "1.1.0",
      "model_name": "CheckboxModel",
      "state": {
       "description": "10°",
       "disabled": false,
       "layout": "IPY_MODEL_7db1c715c27c426f9a9b3a5820d79b0c",
       "style": "IPY_MODEL_f49081b81392490a9d44ed5eda297dfb",
       "value": true
      }
     },
     "4d36206d20a544589047cb8ec209f141": {
      "model_module": "@jupyter-widgets/controls",
      "model_module_version": "1.1.0",
      "model_name": "ToggleButtonsModel",
      "state": {
       "_options_labels": [
        "N (¹n)",
        "NDC (¹n)",
        "P (¹H)",
        "D (²H)",
        "T (³H)",
        "S (³He)",
        "A (⁴He)"
       ],
       "button_style": "",
       "description": "Type:",
       "icons": [],
       "index": 0,
       "layout": "IPY_MODEL_4309eca1d42d41d0a0be80ee3ddcc7cf",
       "style": "IPY_MODEL_012702128d55420bb4f3a67906054542",
       "tooltips": [
        "Neutron",
        "Back Target Neutron",
        "Proton",
        "Deuteron",
        "Triton",
        "Helium-3",
        "Helium-4"
       ]
      }
     },
     "4d4fcad406be4ae3ad2925c4cfe5d079": {
      "model_module": "@jupyter-widgets/base",
      "model_module_version": "1.0.0",
      "model_name": "LayoutModel",
      "state": {}
     },
     "4d5a6bf6a7c64ae28eec32fa0a0c12f3": {
      "model_module": "@jupyter-widgets/controls",
      "model_module_version": "1.1.0",
      "model_name": "CheckboxModel",
      "state": {
       "description": "80°",
       "disabled": false,
       "layout": "IPY_MODEL_7a606f3c1ab14cb9839909e63914dd28",
       "style": "IPY_MODEL_9bc2ba7a19f74af4ae4a126910a7c81b",
       "value": true
      }
     },
     "4dc60796dc4d4b2fb291300a78b5e453": {
      "model_module": "@jupyter-widgets/controls",
      "model_module_version": "1.1.0",
      "model_name": "DescriptionStyleModel",
      "state": {
       "description_width": ""
      }
     },
     "4de496bb8bbb4886a778a02e718a549f": {
      "model_module": "@jupyter-widgets/controls",
      "model_module_version": "1.1.0",
      "model_name": "ToggleButtonsStyleModel",
      "state": {
       "button_width": "",
       "description_width": ""
      }
     },
     "4deedfd0f766471687a33b4eabf2c502": {
      "model_module": "@jupyter-widgets/controls",
      "model_module_version": "1.1.0",
      "model_name": "CheckboxModel",
      "state": {
       "description": "60°",
       "disabled": false,
       "layout": "IPY_MODEL_e13fe1343d144c94a41936009565334f",
       "style": "IPY_MODEL_f1f935c3adf24e1bb45e6f19d25d81c5",
       "value": true
      }
     },
     "4df1a3837fc04729974df5c9012b3dde": {
      "model_module": "@jupyter-widgets/controls",
      "model_module_version": "1.1.0",
      "model_name": "DescriptionStyleModel",
      "state": {
       "description_width": ""
      }
     },
     "4e0a5c89d71144109d42b533d4f7926c": {
      "model_module": "@jupyter-widgets/controls",
      "model_module_version": "1.1.0",
      "model_name": "LabelModel",
      "state": {
       "layout": "IPY_MODEL_75647d063fd343279bf2691272c87b29",
       "style": "IPY_MODEL_9615104881154fcfa004fddcec99c116",
       "value": "Select which secondary particle to plot spectra for."
      }
     },
     "4e11908df70c4c1baa0a0a0701c3b483": {
      "model_module": "@jupyter-widgets/controls",
      "model_module_version": "1.1.0",
      "model_name": "CheckboxModel",
      "state": {
       "description": "135°",
       "disabled": false,
       "layout": "IPY_MODEL_648e2abce8bd44749de5e0704c4e0f8c",
       "style": "IPY_MODEL_8560a6f02b604d1bb2516e19618938a6",
       "value": false
      }
     },
     "4e692a9a30684f1e9cf9f9eab12388e7": {
      "model_module": "@jupyter-widgets/controls",
      "model_module_version": "1.1.0",
      "model_name": "DescriptionStyleModel",
      "state": {
       "description_width": ""
      }
     },
     "4e95b30bf0064f74a6df13c94478640f": {
      "model_module": "@jupyter-widgets/controls",
      "model_module_version": "1.1.0",
      "model_name": "LabelModel",
      "state": {
       "layout": "IPY_MODEL_48d3fdf0172048b78092b2e4fba35cc1",
       "style": "IPY_MODEL_7459268c60e14cee93a95a83bb9c62cd",
       "value": "Select the detector angles to plot."
      }
     },
     "4ea59979a0084e069d4cfe7c617b86d8": {
      "model_module": "@jupyter-widgets/controls",
      "model_module_version": "1.1.0",
      "model_name": "DescriptionStyleModel",
      "state": {
       "description_width": ""
      }
     },
     "4ed288858c314b359ad89bbd11086fa4": {
      "model_module": "@jupyter-widgets/controls",
      "model_module_version": "1.1.0",
      "model_name": "LabelModel",
      "state": {
       "layout": "IPY_MODEL_25f899f8d0f04abf8212ea7933f21da4",
       "style": "IPY_MODEL_0fd4e4d9a1e24438beae0580eb21cd0a",
       "value": "Select which secondary particle to plot spectra for."
      }
     },
     "4ef0084a078247899fe9c9e4946364ae": {
      "model_module": "@jupyter-widgets/base",
      "model_module_version": "1.0.0",
      "model_name": "LayoutModel",
      "state": {}
     },
     "4ef169f780f5492d945394689c66c0f3": {
      "model_module": "@jupyter-widgets/controls",
      "model_module_version": "1.1.0",
      "model_name": "ToggleButtonsStyleModel",
      "state": {
       "button_width": "",
       "description_width": ""
      }
     },
     "4ef62c84f3b949ca9cc3d00b7cabcba9": {
      "model_module": "@jupyter-widgets/controls",
      "model_module_version": "1.1.0",
      "model_name": "CheckboxModel",
      "state": {
       "description": "30°",
       "disabled": false,
       "layout": "IPY_MODEL_1e89315c30e2428fa595d6b42ebd4592",
       "style": "IPY_MODEL_1b3dff2e885b48e789134f537ebc787a",
       "value": true
      }
     },
     "4f3f9f56808c4b14a26239ba5483cb60": {
      "model_module": "@jupyter-widgets/controls",
      "model_module_version": "1.1.0",
      "model_name": "ToggleButtonsModel",
      "state": {
       "_options_labels": [
        "400 MeV/n",
        "800 MeV/n",
        "1500 MeV/n"
       ],
       "button_style": "",
       "description": "Energy:",
       "icons": [],
       "index": 0,
       "layout": "IPY_MODEL_c427e3c1ea6549109d108f8a2ff7ce3d",
       "style": "IPY_MODEL_865a726d61fa47a29ff1bf6ab3cbb3c4",
       "tooltips": [
        "lowest energy",
        "middle energy",
        "highest energy"
       ]
      }
     },
     "4f5a6e8389cc492184cdfa2a1335dec7": {
      "model_module": "@jupyter-widgets/base",
      "model_module_version": "1.0.0",
      "model_name": "LayoutModel",
      "state": {}
     },
     "4fa6bd4d322749fe891b1e8b7edd436a": {
      "model_module": "@jupyter-widgets/controls",
      "model_module_version": "1.1.0",
      "model_name": "DescriptionStyleModel",
      "state": {
       "description_width": ""
      }
     },
     "4ff00da7b2f240d1a374a3fc4e320df3": {
      "model_module": "@jupyter-widgets/base",
      "model_module_version": "1.0.0",
      "model_name": "LayoutModel",
      "state": {}
     },
     "4ff53ed86afa4374ab630e0d485944b5": {
      "model_module": "@jupyter-widgets/controls",
      "model_module_version": "1.1.0",
      "model_name": "CheckboxModel",
      "state": {
       "description": "45°",
       "disabled": false,
       "layout": "IPY_MODEL_b65c01657bd649c8b8b1c5021cec090e",
       "style": "IPY_MODEL_fe1d1e90130247ac8121c825e79cb174",
       "value": true
      }
     },
     "501c96fa4327478bb850662111108f9e": {
      "model_module": "@jupyter-widgets/controls",
      "model_module_version": "1.1.0",
      "model_name": "CheckboxModel",
      "state": {
       "description": "60°",
       "disabled": false,
       "layout": "IPY_MODEL_7f6a97e5fbe24a3c9cbbb57009b519b5",
       "style": "IPY_MODEL_53b203c5bcf74a0689b75dca70294cd6",
       "value": false
      }
     },
     "502f0671d23f460a8945d09d5b4bd79c": {
      "model_module": "@jupyter-widgets/controls",
      "model_module_version": "1.1.0",
      "model_name": "DescriptionStyleModel",
      "state": {
       "description_width": ""
      }
     },
     "5032c0a28bb84678ba8f7c98434b2fb8": {
      "model_module": "@jupyter-widgets/controls",
      "model_module_version": "1.1.0",
      "model_name": "DescriptionStyleModel",
      "state": {
       "description_width": ""
      }
     },
     "5055ec73c4224306ade810760718b4c2": {
      "model_module": "@jupyter-widgets/controls",
      "model_module_version": "1.1.0",
      "model_name": "ToggleButtonsModel",
      "state": {
       "_options_labels": [
        "N (¹n)",
        "NDC (¹n)",
        "P (¹H)",
        "D (²H)",
        "T (³H)",
        "S (³He)",
        "A (⁴He)"
       ],
       "button_style": "",
       "description": "Type:",
       "icons": [],
       "index": 0,
       "layout": "IPY_MODEL_bdf78436e9c142c9a60aa393d33ca884",
       "style": "IPY_MODEL_12cf0e3f5beb4e5db305b20b8628fea2",
       "tooltips": [
        "Neutron",
        "Back Target Neutron",
        "Proton",
        "Deuteron",
        "Triton",
        "Helium-3",
        "Helium-4"
       ]
      }
     },
     "505d38a767e546989370b7597d6730a5": {
      "model_module": "@jupyter-widgets/controls",
      "model_module_version": "1.1.0",
      "model_name": "CheckboxModel",
      "state": {
       "description": "60°",
       "disabled": false,
       "layout": "IPY_MODEL_48dd3491bb6543ef97f3184f4dd04dc1",
       "style": "IPY_MODEL_095b4ce3a3364cbaa4c0dbd459814f9a",
       "value": true
      }
     },
     "50bb39ba82dd4e0f928548cbc1e56055": {
      "model_module": "@jupyter-widgets/controls",
      "model_module_version": "1.1.0",
      "model_name": "DescriptionStyleModel",
      "state": {
       "description_width": ""
      }
     },
     "5101c32fba2647e7b23b2c007b6a958d": {
      "model_module": "@jupyter-widgets/base",
      "model_module_version": "1.0.0",
      "model_name": "LayoutModel",
      "state": {}
     },
     "518cb1c97022473f8651c05ae7db2953": {
      "model_module": "@jupyter-widgets/controls",
      "model_module_version": "1.1.0",
      "model_name": "CheckboxModel",
      "state": {
       "description": "30°",
       "disabled": false,
       "layout": "IPY_MODEL_820dfd5d872b4d25b9c5ff1f806a7c09",
       "style": "IPY_MODEL_69ec8e82f79545b8b4db029164b7f4b6",
       "value": true
      }
     },
     "522fa2925391448985ebc11eba9e8583": {
      "model_module": "@jupyter-widgets/controls",
      "model_module_version": "1.1.0",
      "model_name": "CheckboxModel",
      "state": {
       "description": "60°",
       "disabled": false,
       "layout": "IPY_MODEL_4c2d056166914a319f1aa0a32c67856d",
       "style": "IPY_MODEL_3409f20a2b44478ca3f017d84b25150d",
       "value": true
      }
     },
     "525f48a576274f9ba23dc59a0dfa4897": {
      "model_module": "@jupyter-widgets/controls",
      "model_module_version": "1.1.0",
      "model_name": "CheckboxModel",
      "state": {
       "description": "60°",
       "disabled": false,
       "layout": "IPY_MODEL_3c8c6a6665a64aec97d8773312827237",
       "style": "IPY_MODEL_c341e551dd3f44e6b6220a52550cbe89",
       "value": true
      }
     },
     "52a96ac245a449098464e256ec1c8a46": {
      "model_module": "@jupyter-widgets/controls",
      "model_module_version": "1.1.0",
      "model_name": "CheckboxModel",
      "state": {
       "description": "10°",
       "disabled": false,
       "layout": "IPY_MODEL_6d7e8177703e4fc78b5724bb7c5f39e9",
       "style": "IPY_MODEL_c62d708d273e40c981235311559699b9",
       "value": true
      }
     },
     "52c16dd828a84e3c93385fd475420794": {
      "model_module": "@jupyter-widgets/base",
      "model_module_version": "1.0.0",
      "model_name": "LayoutModel",
      "state": {}
     },
     "52f2a682870d495c8df9b66819365ea9": {
      "model_module": "@jupyter-widgets/controls",
      "model_module_version": "1.1.0",
      "model_name": "CheckboxModel",
      "state": {
       "description": "80°",
       "disabled": false,
       "layout": "IPY_MODEL_71058c791b4b4cf791c34492ca167eab",
       "style": "IPY_MODEL_b3f675f793e84eb8af82213e3f6ecee1",
       "value": true
      }
     },
     "52f70f15ffa049e38c6a8b99a6efe1e2": {
      "model_module": "@jupyter-widgets/controls",
      "model_module_version": "1.1.0",
      "model_name": "CheckboxModel",
      "state": {
       "description": "10°",
       "disabled": false,
       "layout": "IPY_MODEL_c3ecc9526c494ff2a70d7aeab2d6a81a",
       "style": "IPY_MODEL_72e45cb336a54312a1aeef5f4c881553",
       "value": true
      }
     },
     "5334baa65f5a442abe5e6394834ac8d0": {
      "model_module": "@jupyter-widgets/controls",
      "model_module_version": "1.1.0",
      "model_name": "DescriptionStyleModel",
      "state": {
       "description_width": ""
      }
     },
     "53a07c9c5a044530a6200c5974dc52ca": {
      "model_module": "@jupyter-widgets/controls",
      "model_module_version": "1.1.0",
      "model_name": "ToggleButtonsModel",
      "state": {
       "_options_labels": [
        "N (¹n)",
        "NDC (¹n)",
        "P (¹H)",
        "D (²H)"
       ],
       "button_style": "",
       "description": "Type:",
       "icons": [],
       "index": 0,
       "layout": "IPY_MODEL_229e8079ccf74a729fedb12eca55d771",
       "style": "IPY_MODEL_2061e11c43264be5ac072294cb7e5fa3",
       "tooltips": [
        "Neutron",
        "Back Target Neutron",
        "Proton",
        "Deuteron"
       ]
      }
     },
     "53b203c5bcf74a0689b75dca70294cd6": {
      "model_module": "@jupyter-widgets/controls",
      "model_module_version": "1.1.0",
      "model_name": "DescriptionStyleModel",
      "state": {
       "description_width": ""
      }
     },
     "53f0713094b941d09069608eb0b7e26c": {
      "model_module": "@jupyter-widgets/base",
      "model_module_version": "1.0.0",
      "model_name": "LayoutModel",
      "state": {}
     },
     "54056f40661c4f7b81a0a27fb1dd94fd": {
      "model_module": "@jupyter-widgets/base",
      "model_module_version": "1.0.0",
      "model_name": "LayoutModel",
      "state": {}
     },
     "54255a5971c24871ac446ec831e675d5": {
      "model_module": "@jupyter-widgets/controls",
      "model_module_version": "1.1.0",
      "model_name": "ToggleButtonsModel",
      "state": {
       "_options_labels": [
        "400 MeV/n",
        "800 MeV/n",
        "1500 MeV/n"
       ],
       "button_style": "",
       "description": "Energy:",
       "icons": [],
       "index": 1,
       "layout": "IPY_MODEL_0d751cb4f6e548f4b8ce129fb2a1948f",
       "style": "IPY_MODEL_04d1efb4970542e8a1080845ae9e2928",
       "tooltips": [
        "lowest energy",
        "middle energy",
        "highest energy"
       ]
      }
     },
     "545ebc91c17c4aa6959b057a16b3ac92": {
      "model_module": "@jupyter-widgets/base",
      "model_module_version": "1.0.0",
      "model_name": "LayoutModel",
      "state": {}
     },
     "54de40efe30348c3a3f03c32f9a0bf20": {
      "model_module": "@jupyter-widgets/controls",
      "model_module_version": "1.1.0",
      "model_name": "CheckboxModel",
      "state": {
       "description": "135°",
       "disabled": false,
       "layout": "IPY_MODEL_eae064cb481f4388b3ecadccabebcbfd",
       "style": "IPY_MODEL_968d972512a14609a9d52d3d9e1341ca",
       "value": true
      }
     },
     "550a8b4a444a4dc8979aaff27f9aea77": {
      "model_module": "@jupyter-widgets/base",
      "model_module_version": "1.0.0",
      "model_name": "LayoutModel",
      "state": {}
     },
     "55114e30eaef4a0baf0b2c8825f04423": {
      "model_module": "@jupyter-widgets/base",
      "model_module_version": "1.0.0",
      "model_name": "LayoutModel",
      "state": {}
     },
     "5551224bca5049e7be23f28c01e1dd3b": {
      "model_module": "@jupyter-widgets/controls",
      "model_module_version": "1.1.0",
      "model_name": "DescriptionStyleModel",
      "state": {
       "description_width": ""
      }
     },
     "55619c5dea094e449247ceb4ea2afc58": {
      "model_module": "@jupyter-widgets/base",
      "model_module_version": "1.0.0",
      "model_name": "LayoutModel",
      "state": {}
     },
     "558f3cbb74f44270a0a0ffb1405db605": {
      "model_module": "@jupyter-widgets/controls",
      "model_module_version": "1.1.0",
      "model_name": "LabelModel",
      "state": {
       "layout": "IPY_MODEL_4d4fcad406be4ae3ad2925c4cfe5d079",
       "style": "IPY_MODEL_237ce633442a44248c4af8d83c850476",
       "value": "Select projectile ion energy."
      }
     },
     "55ad60edc3cc48cf803fdd35c03e02a8": {
      "model_module": "@jupyter-widgets/controls",
      "model_module_version": "1.1.0",
      "model_name": "DescriptionStyleModel",
      "state": {
       "description_width": ""
      }
     },
     "55e1e3be375a42268d92b16cccceeff0": {
      "model_module": "@jupyter-widgets/controls",
      "model_module_version": "1.1.0",
      "model_name": "DescriptionStyleModel",
      "state": {
       "description_width": ""
      }
     },
     "55ee168d048141bda5ad42eb6648dab2": {
      "model_module": "@jupyter-widgets/base",
      "model_module_version": "1.0.0",
      "model_name": "LayoutModel",
      "state": {}
     },
     "56109a4f301b4e7eaf085b954adad9c5": {
      "model_module": "@jupyter-widgets/controls",
      "model_module_version": "1.1.0",
      "model_name": "DescriptionStyleModel",
      "state": {
       "description_width": ""
      }
     },
     "562a8ee6c510478180bbe9768376706b": {
      "model_module": "@jupyter-widgets/controls",
      "model_module_version": "1.1.0",
      "model_name": "DescriptionStyleModel",
      "state": {
       "description_width": ""
      }
     },
     "5683570204824c2babd1bd671d01df2d": {
      "model_module": "@jupyter-widgets/base",
      "model_module_version": "1.0.0",
      "model_name": "LayoutModel",
      "state": {}
     },
     "5694c32fad5348a7814ee2f1077654e8": {
      "model_module": "@jupyter-widgets/controls",
      "model_module_version": "1.1.0",
      "model_name": "CheckboxModel",
      "state": {
       "description": "30°",
       "disabled": false,
       "layout": "IPY_MODEL_e705eb676ca84ed7bac6301486cf3fec",
       "style": "IPY_MODEL_0d5b2c31b6ba45a5b485646040acbc1c",
       "value": true
      }
     },
     "56b2779a2a6e424f8432ddcecd18d2b3": {
      "model_module": "@jupyter-widgets/controls",
      "model_module_version": "1.1.0",
      "model_name": "CheckboxModel",
      "state": {
       "description": "10°",
       "disabled": false,
       "layout": "IPY_MODEL_7fee16546f4e4ce698bb3676bbfe16a6",
       "style": "IPY_MODEL_458d0ff4e9c24a4fb84bc59a942eb7be",
       "value": true
      }
     },
     "56cdac3fdd604828adeb8bd2ce656bff": {
      "model_module": "@jupyter-widgets/controls",
      "model_module_version": "1.1.0",
      "model_name": "CheckboxModel",
      "state": {
       "description": "10°",
       "disabled": false,
       "layout": "IPY_MODEL_e4da8aed076e41fabc020df45f79166e",
       "style": "IPY_MODEL_1757cdb3a11c42869812c07a7a3a6d56",
       "value": true
      }
     },
     "56eef3271bf545989ce729f658001984": {
      "model_module": "@jupyter-widgets/base",
      "model_module_version": "1.0.0",
      "model_name": "LayoutModel",
      "state": {}
     },
     "57323ccaaacc4124a9d793bad87745c4": {
      "model_module": "@jupyter-widgets/controls",
      "model_module_version": "1.1.0",
      "model_name": "CheckboxModel",
      "state": {
       "description": "30°",
       "disabled": false,
       "layout": "IPY_MODEL_ba7e0728ba3d417ca8231f82f6648646",
       "style": "IPY_MODEL_1e5116bf86be4f1882bf20fcf6a6c465",
       "value": true
      }
     },
     "57d7e399c05046a98adea902f1be7d58": {
      "model_module": "@jupyter-widgets/controls",
      "model_module_version": "1.1.0",
      "model_name": "LabelModel",
      "state": {
       "layout": "IPY_MODEL_b9fe73a9d00447f5a6611838aa68771a",
       "style": "IPY_MODEL_f4861ab2161a41a481d4efd27777288f",
       "value": "Select the detector angles to plot."
      }
     },
     "5811319f0fa94ee481a92fc5fe368815": {
      "model_module": "@jupyter-widgets/controls",
      "model_module_version": "1.1.0",
      "model_name": "DescriptionStyleModel",
      "state": {
       "description_width": ""
      }
     },
     "582bd3b8586f48da886d7a868cac290f": {
      "model_module": "@jupyter-widgets/controls",
      "model_module_version": "1.1.0",
      "model_name": "CheckboxModel",
      "state": {
       "description": "10°",
       "disabled": false,
       "layout": "IPY_MODEL_b6a6026f9a484957a255fc96600c9c14",
       "style": "IPY_MODEL_5d79d6a3b83a4115bb61fac8d665d5cb",
       "value": true
      }
     },
     "582ecf8a072f42a7b3c5823cfde9d18c": {
      "model_module": "@jupyter-widgets/controls",
      "model_module_version": "1.1.0",
      "model_name": "CheckboxModel",
      "state": {
       "description": "30°",
       "disabled": false,
       "layout": "IPY_MODEL_e7c7ff147f5e4b0f9de2d24756f931c5",
       "style": "IPY_MODEL_42ac3994113648e7b1511b9da9417c54",
       "value": true
      }
     },
     "583bbba8ce624dd496a72160cfce3e3c": {
      "model_module": "@jupyter-widgets/controls",
      "model_module_version": "1.1.0",
      "model_name": "CheckboxModel",
      "state": {
       "description": "80°",
       "disabled": false,
       "layout": "IPY_MODEL_94458a1ede7b40a59b7adde0d00b199b",
       "style": "IPY_MODEL_87e57776ce1f4fd38470996dfe8cf8a5",
       "value": true
      }
     },
     "5879180fc1bd49a09297167b29351d56": {
      "model_module": "@jupyter-widgets/controls",
      "model_module_version": "1.1.0",
      "model_name": "ButtonModel",
      "state": {
       "button_style": "success",
       "description": "Update plot",
       "icon": "paint-brush",
       "layout": "IPY_MODEL_82f4562ddb4f464a84af5973022cc115",
       "style": "IPY_MODEL_7e8f437c1a4f4cb2a43386174f683062",
       "tooltip": "Click to redraw the plot below with updated options from above."
      }
     },
     "58d1a5ed88374eb2bc1af82624b9c785": {
      "model_module": "@jupyter-widgets/controls",
      "model_module_version": "1.1.0",
      "model_name": "ButtonStyleModel",
      "state": {}
     },
     "590c75c872914897a0b6cde58cca7b15": {
      "model_module": "@jupyter-widgets/base",
      "model_module_version": "1.0.0",
      "model_name": "LayoutModel",
      "state": {}
     },
     "5929c186d9eb48c99b0e76d2f047ecee": {
      "model_module": "@jupyter-widgets/base",
      "model_module_version": "1.0.0",
      "model_name": "LayoutModel",
      "state": {}
     },
     "592d2c0aa7504792bede385126d23000": {
      "model_module": "@jupyter-widgets/controls",
      "model_module_version": "1.1.0",
      "model_name": "DescriptionStyleModel",
      "state": {
       "description_width": ""
      }
     },
     "594d7f47aa2f4f3590683c7b2106522b": {
      "model_module": "@jupyter-widgets/controls",
      "model_module_version": "1.1.0",
      "model_name": "DescriptionStyleModel",
      "state": {
       "description_width": ""
      }
     },
     "599ca6b319364d34b100c6e2dbf5108f": {
      "model_module": "@jupyter-widgets/controls",
      "model_module_version": "1.1.0",
      "model_name": "LabelModel",
      "state": {
       "layout": "IPY_MODEL_a6f9e3ee75754eecb9e07499d61a606d",
       "style": "IPY_MODEL_0c3297f4aa9948278ef3e5ba45d189d8",
       "value": "Select which sets of data to display."
      }
     },
     "59cfb89d37c64c54a570ec8a8383a52e": {
      "model_module": "@jupyter-widgets/controls",
      "model_module_version": "1.1.0",
      "model_name": "CheckboxModel",
      "state": {
       "description": "10°",
       "disabled": false,
       "layout": "IPY_MODEL_9e76e71b2ce946968f7ea2d6d5db2441",
       "style": "IPY_MODEL_9ff423d239b843e9837184497a85d68c",
       "value": true
      }
     },
     "5a127a21a9244a47962c8a41005dc6b8": {
      "model_module": "@jupyter-widgets/base",
      "model_module_version": "1.0.0",
      "model_name": "LayoutModel",
      "state": {}
     },
     "5a8e1e58eef240009f3eaae78d7272fc": {
      "model_module": "@jupyter-widgets/controls",
      "model_module_version": "1.1.0",
      "model_name": "DescriptionStyleModel",
      "state": {
       "description_width": ""
      }
     },
     "5aa7313937f347f2a4f94727e15b94c1": {
      "model_module": "@jupyter-widgets/controls",
      "model_module_version": "1.1.0",
      "model_name": "CheckboxModel",
      "state": {
       "description": "60°",
       "disabled": false,
       "layout": "IPY_MODEL_14747b7132f64713b014ca83848cb75d",
       "style": "IPY_MODEL_325e49be119544de8398173a30e3339c",
       "value": true
      }
     },
     "5ad7cb92db9f426599a612e6cdbeb1ae": {
      "model_module": "@jupyter-widgets/base",
      "model_module_version": "1.0.0",
      "model_name": "LayoutModel",
      "state": {}
     },
     "5b022fe216604a93ac7675403a1dfe4f": {
      "model_module": "@jupyter-widgets/controls",
      "model_module_version": "1.1.0",
      "model_name": "DescriptionStyleModel",
      "state": {
       "description_width": ""
      }
     },
     "5b07f342793d451f93155c3dd066662f": {
      "model_module": "@jupyter-widgets/controls",
      "model_module_version": "1.1.0",
      "model_name": "ToggleButtonsStyleModel",
      "state": {
       "button_width": "",
       "description_width": ""
      }
     },
     "5b0e90bad91540f7964f171a4fb45504": {
      "model_module": "@jupyter-widgets/controls",
      "model_module_version": "1.1.0",
      "model_name": "LabelModel",
      "state": {
       "layout": "IPY_MODEL_23acda008ed343d999adf0515f15bae6",
       "style": "IPY_MODEL_8872a1a9dadf4cab9a7f77f2ceab455d",
       "value": "Select which secondary particle to plot spectra for."
      }
     },
     "5b750e632456459db070733b106ef94d": {
      "model_module": "@jupyter-widgets/controls",
      "model_module_version": "1.1.0",
      "model_name": "CheckboxModel",
      "state": {
       "description": "45°",
       "disabled": false,
       "layout": "IPY_MODEL_2c7ef81276354c359d1e6d8d4d7f776f",
       "style": "IPY_MODEL_b42f68c91453466f98cc3c71ddde5df8",
       "value": true
      }
     },
     "5be950c9798a433eac7c50d421058a45": {
      "model_module": "@jupyter-widgets/controls",
      "model_module_version": "1.1.0",
      "model_name": "DescriptionStyleModel",
      "state": {
       "description_width": ""
      }
     },
     "5bea036262aa45f88bd611b6d17bbf2c": {
      "model_module": "@jupyter-widgets/controls",
      "model_module_version": "1.1.0",
      "model_name": "CheckboxModel",
      "state": {
       "description": "45°",
       "disabled": false,
       "layout": "IPY_MODEL_3362abff56024a28bb3f806b1c8512b0",
       "style": "IPY_MODEL_1aa273c7bdca4da191835a445d606065",
       "value": true
      }
     },
     "5c1891fc0f3e494bb2daac66c62f0605": {
      "model_module": "@jupyter-widgets/controls",
      "model_module_version": "1.1.0",
      "model_name": "DescriptionStyleModel",
      "state": {
       "description_width": ""
      }
     },
     "5c709c28e7b1473a829030631e766267": {
      "model_module": "@jupyter-widgets/controls",
      "model_module_version": "1.1.0",
      "model_name": "LabelModel",
      "state": {
       "layout": "IPY_MODEL_0904d5c615004520b4addc0afd8f11c6",
       "style": "IPY_MODEL_85a02b30514244aaaf4f8a6d2a2c855b",
       "value": "Select projectile ion energy."
      }
     },
     "5c8ae25629bb45bfa1828369ead77402": {
      "model_module": "@jupyter-widgets/base",
      "model_module_version": "1.0.0",
      "model_name": "LayoutModel",
      "state": {}
     },
     "5cd1a0fc8f2b419cba318f2759e84300": {
      "model_module": "@jupyter-widgets/controls",
      "model_module_version": "1.1.0",
      "model_name": "CheckboxModel",
      "state": {
       "description": "45°",
       "disabled": false,
       "layout": "IPY_MODEL_aca553dec049411a9613a1df049c60f2",
       "style": "IPY_MODEL_1611a7e4b1b04daa83ba9fbdf40a6b48",
       "value": true
      }
     },
     "5d0203b4421942389bb57b1c40fb9970": {
      "model_module": "@jupyter-widgets/controls",
      "model_module_version": "1.1.0",
      "model_name": "DescriptionStyleModel",
      "state": {
       "description_width": ""
      }
     },
     "5d11473ee0a449d0b93f46057bb10c7e": {
      "model_module": "@jupyter-widgets/base",
      "model_module_version": "1.0.0",
      "model_name": "LayoutModel",
      "state": {}
     },
     "5d2d2ef1e6f84956a3c03ae6b9da9860": {
      "model_module": "@jupyter-widgets/base",
      "model_module_version": "1.0.0",
      "model_name": "LayoutModel",
      "state": {}
     },
     "5d45e9bedef14a86a1f78bb791530cec": {
      "model_module": "@jupyter-widgets/base",
      "model_module_version": "1.0.0",
      "model_name": "LayoutModel",
      "state": {}
     },
     "5d6f9298364a4b61a3f6781fd3f90728": {
      "model_module": "@jupyter-widgets/controls",
      "model_module_version": "1.1.0",
      "model_name": "CheckboxModel",
      "state": {
       "description": "10°",
       "disabled": false,
       "layout": "IPY_MODEL_945fd25c30d0494197276661c03dc671",
       "style": "IPY_MODEL_06911039ed2b4f93bbec1f3465e4792f",
       "value": true
      }
     },
     "5d79d6a3b83a4115bb61fac8d665d5cb": {
      "model_module": "@jupyter-widgets/controls",
      "model_module_version": "1.1.0",
      "model_name": "DescriptionStyleModel",
      "state": {
       "description_width": ""
      }
     },
     "5d9f1e4f52be41468c9737671db6eeb7": {
      "model_module": "@jupyter-widgets/controls",
      "model_module_version": "1.1.0",
      "model_name": "DescriptionStyleModel",
      "state": {
       "description_width": ""
      }
     },
     "5db4f40a4ff340c792d454c100ac3ca1": {
      "model_module": "@jupyter-widgets/base",
      "model_module_version": "1.0.0",
      "model_name": "LayoutModel",
      "state": {}
     },
     "5dba777f3ad5495984d9747a4e2eb10a": {
      "model_module": "@jupyter-widgets/controls",
      "model_module_version": "1.1.0",
      "model_name": "CheckboxModel",
      "state": {
       "description": "30°",
       "disabled": false,
       "layout": "IPY_MODEL_66c336724b0c43bba23e9be0854b7b87",
       "style": "IPY_MODEL_11e5620c07cc43d8a2786e3639005438",
       "value": false
      }
     },
     "5e226b0f37f9402c8351fac92816df33": {
      "model_module": "@jupyter-widgets/controls",
      "model_module_version": "1.1.0",
      "model_name": "CheckboxModel",
      "state": {
       "description": "10°",
       "disabled": false,
       "layout": "IPY_MODEL_a1508f29519446cb89354baa0c079653",
       "style": "IPY_MODEL_f7321fc4b17d4e829257afd40af2d5c2",
       "value": true
      }
     },
     "5e3355da7b9848ccac220d67e4854e00": {
      "model_module": "@jupyter-widgets/base",
      "model_module_version": "1.0.0",
      "model_name": "LayoutModel",
      "state": {}
     },
     "5e7db865bbac4ad993bb71f9c9d3c32c": {
      "model_module": "@jupyter-widgets/controls",
      "model_module_version": "1.1.0",
      "model_name": "CheckboxModel",
      "state": {
       "description": "80°",
       "disabled": false,
       "layout": "IPY_MODEL_14a99f6b164c4d9299d9760d104c3d74",
       "style": "IPY_MODEL_74afdf280b99481c91ec8638fcafbb6c",
       "value": true
      }
     },
     "5eae71481201469a9f41f176634ff53e": {
      "model_module": "@jupyter-widgets/controls",
      "model_module_version": "1.1.0",
      "model_name": "DescriptionStyleModel",
      "state": {
       "description_width": ""
      }
     },
     "5f33917099b84db99530cfe19a797a09": {
      "model_module": "@jupyter-widgets/base",
      "model_module_version": "1.0.0",
      "model_name": "LayoutModel",
      "state": {}
     },
     "5f3628b512394296a21837d4baf0cae3": {
      "model_module": "@jupyter-widgets/controls",
      "model_module_version": "1.1.0",
      "model_name": "ToggleButtonsStyleModel",
      "state": {
       "button_width": "",
       "description_width": ""
      }
     },
     "5f37362934e14109951258ad79a49283": {
      "model_module": "@jupyter-widgets/controls",
      "model_module_version": "1.1.0",
      "model_name": "LabelModel",
      "state": {
       "layout": "IPY_MODEL_3ed8a03b12234f1f96c21be5fc89dbbf",
       "style": "IPY_MODEL_5a8e1e58eef240009f3eaae78d7272fc",
       "value": "Select the detector angles to plot."
      }
     },
     "5f3b3e9281414288a0c60d8369ef055b": {
      "model_module": "@jupyter-widgets/controls",
      "model_module_version": "1.1.0",
      "model_name": "CheckboxModel",
      "state": {
       "description": "10°",
       "disabled": false,
       "layout": "IPY_MODEL_c056e640edce4c269d8bbf0f54262eae",
       "style": "IPY_MODEL_434eda9a3fdd4adc9d47d36d17c44992",
       "value": true
      }
     },
     "5f6d3b5ab3f94a0d9af8dd6912b4767b": {
      "model_module": "@jupyter-widgets/base",
      "model_module_version": "1.0.0",
      "model_name": "LayoutModel",
      "state": {}
     },
     "5f80d1cf22234e7594f18187386c28aa": {
      "model_module": "@jupyter-widgets/base",
      "model_module_version": "1.0.0",
      "model_name": "LayoutModel",
      "state": {}
     },
     "5f81c44e3d4f4848891cd99623046fe3": {
      "model_module": "@jupyter-widgets/controls",
      "model_module_version": "1.1.0",
      "model_name": "DescriptionStyleModel",
      "state": {
       "description_width": ""
      }
     },
     "5fc3f122bf5a4e9f81f5da4f559639cc": {
      "model_module": "@jupyter-widgets/base",
      "model_module_version": "1.0.0",
      "model_name": "LayoutModel",
      "state": {}
     },
     "5ffcfd3693164356858a0cf7f7f49abf": {
      "model_module": "@jupyter-widgets/controls",
      "model_module_version": "1.1.0",
      "model_name": "ToggleButtonsModel",
      "state": {
       "_options_labels": [
        "400 MeV",
        "800 MeV",
        "2500 MeV"
       ],
       "button_style": "",
       "description": "Energy:",
       "icons": [],
       "index": 0,
       "layout": "IPY_MODEL_4983d2055aa540b09bf1671d230359fd",
       "style": "IPY_MODEL_4de496bb8bbb4886a778a02e718a549f",
       "tooltips": [
        "lowest energy",
        "middle energy",
        "highest energy"
       ]
      }
     },
     "6019f206380e40869a36e7ed7440ff63": {
      "model_module": "@jupyter-widgets/controls",
      "model_module_version": "1.1.0",
      "model_name": "CheckboxModel",
      "state": {
       "description": "30°",
       "disabled": false,
       "layout": "IPY_MODEL_fe14d7b10f2e4a5c8d43b25464f2f8af",
       "style": "IPY_MODEL_c5319387ee0f448b983f45fd842808da",
       "value": true
      }
     },
     "6043f70a44fd4a4ab3da05f2351f5d16": {
      "model_module": "@jupyter-widgets/base",
      "model_module_version": "1.0.0",
      "model_name": "LayoutModel",
      "state": {}
     },
     "604b16220d6048ea886bfe88261bdf85": {
      "model_module": "@jupyter-widgets/controls",
      "model_module_version": "1.1.0",
      "model_name": "DescriptionStyleModel",
      "state": {
       "description_width": ""
      }
     },
     "605082e0f753458887d4cb323c5f3cab": {
      "model_module": "@jupyter-widgets/base",
      "model_module_version": "1.0.0",
      "model_name": "LayoutModel",
      "state": {}
     },
     "60640bc143d7461fa221ade3e9a1babf": {
      "model_module": "@jupyter-widgets/base",
      "model_module_version": "1.0.0",
      "model_name": "LayoutModel",
      "state": {}
     },
     "6084ee82670b45f2b72a203c656729a7": {
      "model_module": "@jupyter-widgets/controls",
      "model_module_version": "1.1.0",
      "model_name": "CheckboxModel",
      "state": {
       "description": "45°",
       "disabled": false,
       "layout": "IPY_MODEL_1a69e3aee3e14b7db2c3eaef0f27ff8c",
       "style": "IPY_MODEL_a0fb516231fc4c46bebbabd867d9dd0e",
       "value": true
      }
     },
     "60c6db45211e4b37a236fe435da7fd4a": {
      "model_module": "@jupyter-widgets/controls",
      "model_module_version": "1.1.0",
      "model_name": "CheckboxModel",
      "state": {
       "description": "60°",
       "disabled": false,
       "layout": "IPY_MODEL_cc72e4f4aa744945b46d2989b2c8382b",
       "style": "IPY_MODEL_d8e79c82101d4d939d3b239c270edb50",
       "value": true
      }
     },
     "60da9f76f87747409e60a24d11f5064e": {
      "model_module": "@jupyter-widgets/controls",
      "model_module_version": "1.1.0",
      "model_name": "CheckboxModel",
      "state": {
       "description": "30°",
       "disabled": false,
       "layout": "IPY_MODEL_f8d1defbf04d4c329688c00ad9b82081",
       "style": "IPY_MODEL_bb0ee65ce4894fc79a7cad5d70b7b308",
       "value": true
      }
     },
     "60e28aaf83044e78b416a7e4140081f9": {
      "model_module": "@jupyter-widgets/controls",
      "model_module_version": "1.1.0",
      "model_name": "ToggleButtonsModel",
      "state": {
       "_options_labels": [
        "Al",
        "HDPE",
        "AlPE"
       ],
       "button_style": "",
       "description": "Material:",
       "icons": [],
       "index": 0,
       "layout": "IPY_MODEL_1464d343c35a4ef39cb521de45cc30a7",
       "style": "IPY_MODEL_28c6e8a53b30499788d694073344f160",
       "tooltips": [
        "Aluminum",
        "Polyethylene",
        "Combination of Al and HDPE"
       ]
      }
     },
     "611f22c67c284b8a81ffc118bc58ad4b": {
      "model_module": "@jupyter-widgets/base",
      "model_module_version": "1.0.0",
      "model_name": "LayoutModel",
      "state": {}
     },
     "61335b6f99b3431594c37c7bacfd72c9": {
      "model_module": "@jupyter-widgets/base",
      "model_module_version": "1.0.0",
      "model_name": "LayoutModel",
      "state": {}
     },
     "61906c76664a41d496cc06fad94da3da": {
      "model_module": "@jupyter-widgets/controls",
      "model_module_version": "1.1.0",
      "model_name": "DescriptionStyleModel",
      "state": {
       "description_width": ""
      }
     },
     "619eb7b1a8ab4a82a15314965e6fe9a2": {
      "model_module": "@jupyter-widgets/base",
      "model_module_version": "1.0.0",
      "model_name": "LayoutModel",
      "state": {}
     },
     "61e3b1d974f54bdb9c326faeee0c314d": {
      "model_module": "@jupyter-widgets/controls",
      "model_module_version": "1.1.0",
      "model_name": "CheckboxModel",
      "state": {
       "description": "30°",
       "disabled": false,
       "layout": "IPY_MODEL_a6c3f474e4fc44af9c36e8c0cf3f1b5a",
       "style": "IPY_MODEL_03a393a5b856453da2dc9e69bb9c625b",
       "value": true
      }
     },
     "62005fa6af354d3abb3d96cdd98641ee": {
      "model_module": "@jupyter-widgets/base",
      "model_module_version": "1.0.0",
      "model_name": "LayoutModel",
      "state": {}
     },
     "622b1dbaabd243b9843ca2f3fffb7666": {
      "model_module": "@jupyter-widgets/controls",
      "model_module_version": "1.1.0",
      "model_name": "DescriptionStyleModel",
      "state": {
       "description_width": ""
      }
     },
     "625f3971a6524e3384d247f8736ed41c": {
      "model_module": "@jupyter-widgets/controls",
      "model_module_version": "1.1.0",
      "model_name": "CheckboxModel",
      "state": {
       "description": "10°",
       "disabled": false,
       "layout": "IPY_MODEL_9ebc4e97c55b459f85d9b769bce74ce0",
       "style": "IPY_MODEL_f3f69e1081784e57b0f53a13152b39c0",
       "value": true
      }
     },
     "626dcd99f79b46e4b93f117fd4b1db37": {
      "model_module": "@jupyter-widgets/controls",
      "model_module_version": "1.1.0",
      "model_name": "CheckboxModel",
      "state": {
       "description": "135°",
       "disabled": false,
       "layout": "IPY_MODEL_251dbee8118e4833a50c38ca3bb755d4",
       "style": "IPY_MODEL_5811319f0fa94ee481a92fc5fe368815",
       "value": true
      }
     },
     "62c0dff630c54a339359f4468590031f": {
      "model_module": "@jupyter-widgets/base",
      "model_module_version": "1.0.0",
      "model_name": "LayoutModel",
      "state": {}
     },
     "6301ab8a9251463b9ae21da49e69bd8c": {
      "model_module": "@jupyter-widgets/controls",
      "model_module_version": "1.1.0",
      "model_name": "DescriptionStyleModel",
      "state": {
       "description_width": ""
      }
     },
     "630a75892166422cb5a31e63e1a6c742": {
      "model_module": "@jupyter-widgets/controls",
      "model_module_version": "1.1.0",
      "model_name": "DescriptionStyleModel",
      "state": {
       "description_width": ""
      }
     },
     "631536be399348008a03b762521caa26": {
      "model_module": "@jupyter-widgets/controls",
      "model_module_version": "1.1.0",
      "model_name": "LabelModel",
      "state": {
       "layout": "IPY_MODEL_0c132da78fcf4a549f39d30e06c640a9",
       "style": "IPY_MODEL_dcc580c163444356988ae2cd34110f94",
       "value": "Select the detector angles to plot."
      }
     },
     "634950df2f1743129effab1a202ebd6c": {
      "model_module": "@jupyter-widgets/controls",
      "model_module_version": "1.1.0",
      "model_name": "DescriptionStyleModel",
      "state": {
       "description_width": ""
      }
     },
     "638b9a043e1e4701abfe86496606c417": {
      "model_module": "@jupyter-widgets/base",
      "model_module_version": "1.0.0",
      "model_name": "LayoutModel",
      "state": {}
     },
     "63b8575a0be8460e9235b4700552459c": {
      "model_module": "@jupyter-widgets/controls",
      "model_module_version": "1.1.0",
      "model_name": "DescriptionStyleModel",
      "state": {
       "description_width": ""
      }
     },
     "63bc4d3d272049c5b9b3cdbb4723fb43": {
      "model_module": "@jupyter-widgets/controls",
      "model_module_version": "1.1.0",
      "model_name": "LabelModel",
      "state": {
       "layout": "IPY_MODEL_2dc29aad853f45168fd248a8554269c5",
       "style": "IPY_MODEL_0134c3792d954a6fb8646afb9cd0529f",
       "value": "Select how data sets for each detector should be spaced apart (if at all)."
      }
     },
     "63d35644410f496587d7e4afc765a7ad": {
      "model_module": "@jupyter-widgets/controls",
      "model_module_version": "1.1.0",
      "model_name": "LabelModel",
      "state": {
       "layout": "IPY_MODEL_e9876dad0d064a82bb3810f9daf6dc78",
       "style": "IPY_MODEL_395f4ed1396f41599458d76bd4a9f8b9",
       "value": "Select upstream target mass thickness."
      }
     },
     "63d86dafd39f4b03988a50402ac33d4c": {
      "model_module": "@jupyter-widgets/controls",
      "model_module_version": "1.1.0",
      "model_name": "DescriptionStyleModel",
      "state": {
       "description_width": ""
      }
     },
     "63f3673c4a8d4904b8b4957354acdb7a": {
      "model_module": "@jupyter-widgets/controls",
      "model_module_version": "1.1.0",
      "model_name": "DescriptionStyleModel",
      "state": {
       "description_width": ""
      }
     },
     "6432281fb9754f448a6ef8b536a3b412": {
      "model_module": "@jupyter-widgets/controls",
      "model_module_version": "1.1.0",
      "model_name": "DescriptionStyleModel",
      "state": {
       "description_width": ""
      }
     },
     "644ed6cc3d2144fdaa33e0de942764ca": {
      "model_module": "@jupyter-widgets/controls",
      "model_module_version": "1.1.0",
      "model_name": "DescriptionStyleModel",
      "state": {
       "description_width": ""
      }
     },
     "648e2abce8bd44749de5e0704c4e0f8c": {
      "model_module": "@jupyter-widgets/base",
      "model_module_version": "1.0.0",
      "model_name": "LayoutModel",
      "state": {}
     },
     "64a39e5952b74d7d9eb1a3cdc4a824d1": {
      "model_module": "@jupyter-widgets/controls",
      "model_module_version": "1.1.0",
      "model_name": "CheckboxModel",
      "state": {
       "description": "10°",
       "disabled": false,
       "layout": "IPY_MODEL_bec0a54e31b749e9ad4b1152e11a6e85",
       "style": "IPY_MODEL_18b8c3c6b1d2459ab250e28c7d51c293",
       "value": true
      }
     },
     "64bcc39945b54dc3845c9c8a5f663971": {
      "model_module": "@jupyter-widgets/controls",
      "model_module_version": "1.1.0",
      "model_name": "DescriptionStyleModel",
      "state": {
       "description_width": ""
      }
     },
     "64cddb3db5b6461d93882d622d7c74e2": {
      "model_module": "@jupyter-widgets/base",
      "model_module_version": "1.0.0",
      "model_name": "LayoutModel",
      "state": {}
     },
     "64e57371413542b59172c6948348cc08": {
      "model_module": "@jupyter-widgets/base",
      "model_module_version": "1.0.0",
      "model_name": "LayoutModel",
      "state": {}
     },
     "652dafb0d07046108b2c23f2fb75432c": {
      "model_module": "@jupyter-widgets/controls",
      "model_module_version": "1.1.0",
      "model_name": "DescriptionStyleModel",
      "state": {
       "description_width": ""
      }
     },
     "6534c2495cb84bcebdd805f461b0f732": {
      "model_module": "@jupyter-widgets/controls",
      "model_module_version": "1.1.0",
      "model_name": "ToggleButtonsStyleModel",
      "state": {
       "button_width": "",
       "description_width": ""
      }
     },
     "6592682b66da430baa3d52e6c03c9f70": {
      "model_module": "@jupyter-widgets/base",
      "model_module_version": "1.0.0",
      "model_name": "LayoutModel",
      "state": {}
     },
     "65b9b514b21a4270bbe617e747d7d512": {
      "model_module": "@jupyter-widgets/controls",
      "model_module_version": "1.1.0",
      "model_name": "LabelModel",
      "state": {
       "layout": "IPY_MODEL_d787a6af00114089a18df01cc6832c33",
       "style": "IPY_MODEL_d6d67849279d4eec8fe5b047ef4db595",
       "value": "Select which secondary particle to plot spectra for."
      }
     },
     "65c67283abaa4187b143e98bc5c4bf8b": {
      "model_module": "@jupyter-widgets/controls",
      "model_module_version": "1.1.0",
      "model_name": "DescriptionStyleModel",
      "state": {
       "description_width": ""
      }
     },
     "65dc34305d364cc9aec224dba5542416": {
      "model_module": "@jupyter-widgets/base",
      "model_module_version": "1.0.0",
      "model_name": "LayoutModel",
      "state": {}
     },
     "65eb98388f3b425ca85e6efa4a4c4181": {
      "model_module": "@jupyter-widgets/controls",
      "model_module_version": "1.1.0",
      "model_name": "LabelModel",
      "state": {
       "layout": "IPY_MODEL_0f4d8e82915342dea9c99fdf5cf9559b",
       "style": "IPY_MODEL_ccb92fb4f4334ceab4beced3bde87ad2",
       "value": "Select the detector angles to plot."
      }
     },
     "6618fede54bc4ec88c1d1868043f5123": {
      "model_module": "@jupyter-widgets/controls",
      "model_module_version": "1.1.0",
      "model_name": "ToggleButtonsModel",
      "state": {
       "_options_labels": [
        "20 g/cm²",
        "40 g/cm²",
        "60 g/cm²"
       ],
       "button_style": "",
       "description": "Thickness:",
       "icons": [],
       "index": 0,
       "layout": "IPY_MODEL_c0771b671595474abd61daef2cdb5433",
       "style": "IPY_MODEL_c9cb879e1adc497faaf4f9487356048f",
       "tooltips": [
        "20 g/cm² Aluminum",
        "40 g/cm² Aluminum",
        "60 g/cm² Aluminum"
       ]
      }
     },
     "665fc08931fc44619afd3e1014cef644": {
      "model_module": "@jupyter-widgets/base",
      "model_module_version": "1.0.0",
      "model_name": "LayoutModel",
      "state": {}
     },
     "666947855c7b4a45a47d2346e06c6163": {
      "model_module": "@jupyter-widgets/base",
      "model_module_version": "1.0.0",
      "model_name": "LayoutModel",
      "state": {}
     },
     "6669aa29ed0549aca74d7019dc6c0e5f": {
      "model_module": "@jupyter-widgets/controls",
      "model_module_version": "1.1.0",
      "model_name": "DescriptionStyleModel",
      "state": {
       "description_width": ""
      }
     },
     "66780daaad254910a6361ece5f318824": {
      "model_module": "@jupyter-widgets/controls",
      "model_module_version": "1.1.0",
      "model_name": "CheckboxModel",
      "state": {
       "description": "80°",
       "disabled": false,
       "layout": "IPY_MODEL_71423ab69d8f4d27974054ce91340404",
       "style": "IPY_MODEL_8457014aa34643e0a25eff2ec3f6e208",
       "value": false
      }
     },
     "669362fe01604699a1d455ddf43ff835": {
      "model_module": "@jupyter-widgets/controls",
      "model_module_version": "1.1.0",
      "model_name": "DescriptionStyleModel",
      "state": {
       "description_width": ""
      }
     },
     "66c336724b0c43bba23e9be0854b7b87": {
      "model_module": "@jupyter-widgets/base",
      "model_module_version": "1.0.0",
      "model_name": "LayoutModel",
      "state": {}
     },
     "674ad855d31a46c995045aa6e30f60ca": {
      "model_module": "@jupyter-widgets/controls",
      "model_module_version": "1.1.0",
      "model_name": "LabelModel",
      "state": {
       "layout": "IPY_MODEL_2aa9e62ef0e34d62baf0e57cb97ecb73",
       "style": "IPY_MODEL_2e728ca3c2034b8086741be0d71e3946",
       "value": "Select upstream target mass thickness."
      }
     },
     "67649ac06c0d44b7ba8bc7ab44f13d98": {
      "model_module": "@jupyter-widgets/base",
      "model_module_version": "1.0.0",
      "model_name": "LayoutModel",
      "state": {}
     },
     "676c9ec4db9c4580a6d02dba2ee14cc3": {
      "model_module": "@jupyter-widgets/base",
      "model_module_version": "1.0.0",
      "model_name": "LayoutModel",
      "state": {}
     },
     "678505db90ca467f8138dcd59e60cab6": {
      "model_module": "@jupyter-widgets/controls",
      "model_module_version": "1.1.0",
      "model_name": "ToggleButtonsModel",
      "state": {
       "_options_labels": [
        "N (¹n)",
        "NDC (¹n)"
       ],
       "button_style": "",
       "description": "Type:",
       "icons": [],
       "index": 0,
       "layout": "IPY_MODEL_ff0752d0085a4a8693b2646507320ce7",
       "style": "IPY_MODEL_0c250d6154444cb5aaca2a60f583c229",
       "tooltips": [
        "Neutron",
        "Back Target Neutron"
       ]
      }
     },
     "67c7ff1eaa964102bb237a7e61175365": {
      "model_module": "@jupyter-widgets/base",
      "model_module_version": "1.0.0",
      "model_name": "LayoutModel",
      "state": {}
     },
     "6808932636854169abb96099d295094a": {
      "model_module": "@jupyter-widgets/controls",
      "model_module_version": "1.1.0",
      "model_name": "CheckboxModel",
      "state": {
       "description": "60°",
       "disabled": false,
       "layout": "IPY_MODEL_a8e63e1dcb4345d2b913355531ac989f",
       "style": "IPY_MODEL_7adde8f3afc7478e95f52a5ba89da941",
       "value": true
      }
     },
     "684604c74c48451cb8d88cce812fa285": {
      "model_module": "@jupyter-widgets/base",
      "model_module_version": "1.0.0",
      "model_name": "LayoutModel",
      "state": {}
     },
     "6860fc537c664772b30afb7ebfc841f2": {
      "model_module": "@jupyter-widgets/base",
      "model_module_version": "1.0.0",
      "model_name": "LayoutModel",
      "state": {}
     },
     "6863339bf1d24b64b0edd13d07bcda29": {
      "model_module": "@jupyter-widgets/controls",
      "model_module_version": "1.1.0",
      "model_name": "CheckboxModel",
      "state": {
       "description": "135°",
       "disabled": false,
       "layout": "IPY_MODEL_a918cb0bb85249d1b54b8565dad3f659",
       "style": "IPY_MODEL_35ced27b879c42d9b20e796e03c2f102",
       "value": true
      }
     },
     "6875058ca28d415ebf3402c09385b7de": {
      "model_module": "@jupyter-widgets/base",
      "model_module_version": "1.0.0",
      "model_name": "LayoutModel",
      "state": {}
     },
     "68933790a74a4b828811e6ca8c0609f0": {
      "model_module": "@jupyter-widgets/controls",
      "model_module_version": "1.1.0",
      "model_name": "CheckboxModel",
      "state": {
       "description": "MCNP simulated",
       "disabled": false,
       "layout": "IPY_MODEL_3d97e80d1c424d3e854e2b2106a1b287",
       "style": "IPY_MODEL_f808b8d841c64ede90b90c8d1d382ad7",
       "value": true
      }
     },
     "6896b4bd8afa4cdcbf69ee8bd652a294": {
      "model_module": "@jupyter-widgets/controls",
      "model_module_version": "1.1.0",
      "model_name": "DescriptionStyleModel",
      "state": {
       "description_width": ""
      }
     },
     "68ea0c8040b549ddbf28ba9ea85eccfa": {
      "model_module": "@jupyter-widgets/controls",
      "model_module_version": "1.1.0",
      "model_name": "DescriptionStyleModel",
      "state": {
       "description_width": ""
      }
     },
     "6902a3d0f5ed4573bc62d9ca3b441fe5": {
      "model_module": "@jupyter-widgets/controls",
      "model_module_version": "1.1.0",
      "model_name": "DescriptionStyleModel",
      "state": {
       "description_width": ""
      }
     },
     "6962c061d59045bb85f2b5cd341f4833": {
      "model_module": "@jupyter-widgets/controls",
      "model_module_version": "1.1.0",
      "model_name": "ToggleButtonsModel",
      "state": {
       "_options_labels": [
        "None",
        "Spaced by 10²"
       ],
       "button_style": "",
       "description": "Spacing:",
       "icons": [],
       "index": 0,
       "layout": "IPY_MODEL_c7cfcb5d67974ae0ba1f4bc0e90120d3",
       "style": "IPY_MODEL_5b07f342793d451f93155c3dd066662f",
       "tooltips": [
        "All values are presented as is.",
        "Plots for different detectors are multiplied by powers of 10² for easier viewing."
       ]
      }
     },
     "69a91690e7ca45c695f3d6199eae47b1": {
      "model_module": "@jupyter-widgets/controls",
      "model_module_version": "1.1.0",
      "model_name": "LabelModel",
      "state": {
       "layout": "IPY_MODEL_094e31aacf7e473a919b5a57d531f347",
       "style": "IPY_MODEL_8b743d4952b248f7a36eb844c64b0788",
       "value": "Select the detector angles to plot."
      }
     },
     "69b8433c4d3c4ff2811205a7b366fe96": {
      "model_module": "@jupyter-widgets/base",
      "model_module_version": "1.0.0",
      "model_name": "LayoutModel",
      "state": {}
     },
     "69bb322b76854ee69f4fe54e0100c26d": {
      "model_module": "@jupyter-widgets/controls",
      "model_module_version": "1.1.0",
      "model_name": "CheckboxModel",
      "state": {
       "description": "60°",
       "disabled": false,
       "layout": "IPY_MODEL_a736e35fa3074fa386911fcdb54f58e3",
       "style": "IPY_MODEL_0dc535502f544ef18cef129a43da4899",
       "value": true
      }
     },
     "69ea7f91f62f4a098c14805203339114": {
      "model_module": "@jupyter-widgets/controls",
      "model_module_version": "1.1.0",
      "model_name": "DescriptionStyleModel",
      "state": {
       "description_width": ""
      }
     },
     "69ec8e82f79545b8b4db029164b7f4b6": {
      "model_module": "@jupyter-widgets/controls",
      "model_module_version": "1.1.0",
      "model_name": "DescriptionStyleModel",
      "state": {
       "description_width": ""
      }
     },
     "6a2b921d39ac461dbc061b948af0ceea": {
      "model_module": "@jupyter-widgets/base",
      "model_module_version": "1.0.0",
      "model_name": "LayoutModel",
      "state": {}
     },
     "6b6887f98a3e425fb0be0ae08a8fee56": {
      "model_module": "@jupyter-widgets/base",
      "model_module_version": "1.0.0",
      "model_name": "LayoutModel",
      "state": {}
     },
     "6b777fc2776b4640a564e258100c4073": {
      "model_module": "@jupyter-widgets/base",
      "model_module_version": "1.0.0",
      "model_name": "LayoutModel",
      "state": {}
     },
     "6ba8174a3a714bbda95b620867e30c97": {
      "model_module": "@jupyter-widgets/controls",
      "model_module_version": "1.1.0",
      "model_name": "DescriptionStyleModel",
      "state": {
       "description_width": ""
      }
     },
     "6bbd384fbfe648a68d8e73cde9bacc5e": {
      "model_module": "@jupyter-widgets/controls",
      "model_module_version": "1.1.0",
      "model_name": "CheckboxModel",
      "state": {
       "description": "30°",
       "disabled": false,
       "layout": "IPY_MODEL_134bc7054b404937bd3736cbe91e7b67",
       "style": "IPY_MODEL_594d7f47aa2f4f3590683c7b2106522b",
       "value": true
      }
     },
     "6be0765a7f13412395f9dd9107685df5": {
      "model_module": "@jupyter-widgets/controls",
      "model_module_version": "1.1.0",
      "model_name": "CheckboxModel",
      "state": {
       "description": "80°",
       "disabled": false,
       "layout": "IPY_MODEL_b256a51a15734075b996a26f220eea7f",
       "style": "IPY_MODEL_3f9b30d802344f01a03d47bc911046d3",
       "value": true
      }
     },
     "6c11b79834094d31b0aff5194582caaf": {
      "model_module": "@jupyter-widgets/controls",
      "model_module_version": "1.1.0",
      "model_name": "CheckboxModel",
      "state": {
       "description": "135°",
       "disabled": false,
       "layout": "IPY_MODEL_64cddb3db5b6461d93882d622d7c74e2",
       "style": "IPY_MODEL_e7d5c0076bce489bb6ca680b9c77e9fb",
       "value": true
      }
     },
     "6c469ab7f87b44daa771ff9fc23ee140": {
      "model_module": "@jupyter-widgets/controls",
      "model_module_version": "1.1.0",
      "model_name": "LabelModel",
      "state": {
       "layout": "IPY_MODEL_b8dff6def2614a08a4261fa0559edf8f",
       "style": "IPY_MODEL_7b785eb9dea24458a4d1ac57bbfbe2fc",
       "value": "Select the detector angles to plot."
      }
     },
     "6c5ed0a01f1f418aba1e82fb20332402": {
      "model_module": "@jupyter-widgets/controls",
      "model_module_version": "1.1.0",
      "model_name": "DescriptionStyleModel",
      "state": {
       "description_width": ""
      }
     },
     "6c8998b14930415993effbd41bcf876c": {
      "model_module": "@jupyter-widgets/controls",
      "model_module_version": "1.1.0",
      "model_name": "ToggleButtonsModel",
      "state": {
       "_options_labels": [
        "400 MeV",
        "800 MeV",
        "2500 MeV"
       ],
       "button_style": "",
       "description": "Energy:",
       "icons": [],
       "index": 0,
       "layout": "IPY_MODEL_e8b1430b7a3246b5962a8ec757207553",
       "style": "IPY_MODEL_243c9ba949cf4de2bb60bac6e9decc8d",
       "tooltips": [
        "lowest energy",
        "middle energy",
        "highest energy"
       ]
      }
     },
     "6d7e8177703e4fc78b5724bb7c5f39e9": {
      "model_module": "@jupyter-widgets/base",
      "model_module_version": "1.0.0",
      "model_name": "LayoutModel",
      "state": {}
     },
     "6d7ee98cf6a1461ba5df20b026c4f1d4": {
      "model_module": "@jupyter-widgets/controls",
      "model_module_version": "1.1.0",
      "model_name": "DescriptionStyleModel",
      "state": {
       "description_width": ""
      }
     },
     "6d95059981624950879bdfebbe0d9296": {
      "model_module": "@jupyter-widgets/base",
      "model_module_version": "1.0.0",
      "model_name": "LayoutModel",
      "state": {}
     },
     "6db02d35a9c74e88ba5a58093a39757d": {
      "model_module": "@jupyter-widgets/controls",
      "model_module_version": "1.1.0",
      "model_name": "ToggleButtonsStyleModel",
      "state": {
       "button_width": "",
       "description_width": ""
      }
     },
     "6dc1d2dba536489e85ba12120a94c707": {
      "model_module": "@jupyter-widgets/base",
      "model_module_version": "1.0.0",
      "model_name": "LayoutModel",
      "state": {}
     },
     "6e2dd0d385234c758577ccd5cbbbcad0": {
      "model_module": "@jupyter-widgets/controls",
      "model_module_version": "1.1.0",
      "model_name": "DescriptionStyleModel",
      "state": {
       "description_width": ""
      }
     },
     "6e5bfcd185424475abd072f9ff0da8ef": {
      "model_module": "@jupyter-widgets/base",
      "model_module_version": "1.0.0",
      "model_name": "LayoutModel",
      "state": {}
     },
     "6e5f793677974678bc6e7082c99effcc": {
      "model_module": "@jupyter-widgets/controls",
      "model_module_version": "1.1.0",
      "model_name": "DescriptionStyleModel",
      "state": {
       "description_width": ""
      }
     },
     "6e95f3508fc4499f871042d4040bd640": {
      "model_module": "@jupyter-widgets/controls",
      "model_module_version": "1.1.0",
      "model_name": "DescriptionStyleModel",
      "state": {
       "description_width": ""
      }
     },
     "6e9bce0cd9c54094b088b7a7566773dd": {
      "model_module": "@jupyter-widgets/controls",
      "model_module_version": "1.1.0",
      "model_name": "DescriptionStyleModel",
      "state": {
       "description_width": ""
      }
     },
     "6e9fcd4b109c4f9bacdca54b688ff986": {
      "model_module": "@jupyter-widgets/controls",
      "model_module_version": "1.1.0",
      "model_name": "ToggleButtonsModel",
      "state": {
       "_options_labels": [
        "N (¹n)",
        "NDC (¹n)",
        "P (¹H)",
        "D (²H)"
       ],
       "button_style": "",
       "description": "Type:",
       "icons": [],
       "index": 0,
       "layout": "IPY_MODEL_5683570204824c2babd1bd671d01df2d",
       "style": "IPY_MODEL_c01c78719669455786f6a3d7f97a34f2",
       "tooltips": [
        "Neutron",
        "Back Target Neutron",
        "Proton",
        "Deuteron"
       ]
      }
     },
     "6eadeeb6bf074b6d8e522423bb2b05e9": {
      "model_module": "@jupyter-widgets/controls",
      "model_module_version": "1.1.0",
      "model_name": "ToggleButtonsModel",
      "state": {
       "_options_labels": [
        "N (¹n)",
        "NDC (¹n)",
        "P (¹H)",
        "D (²H)",
        "T (³H)",
        "S (³He)",
        "A (⁴He)"
       ],
       "button_style": "",
       "description": "Type:",
       "icons": [],
       "index": 0,
       "layout": "IPY_MODEL_c028581d290146adb6944ce81d6a8445",
       "style": "IPY_MODEL_081eed35ebd6477f95c3abb50281bf35",
       "tooltips": [
        "Neutron",
        "Back Target Neutron",
        "Proton",
        "Deuteron",
        "Triton",
        "Helium-3",
        "Helium-4"
       ]
      }
     },
     "6edb3e911d44441787d5be281679c7dd": {
      "model_module": "@jupyter-widgets/controls",
      "model_module_version": "1.1.0",
      "model_name": "ToggleButtonsStyleModel",
      "state": {
       "button_width": "",
       "description_width": ""
      }
     },
     "6efc4b6151e242caaa8ab52d50bd5997": {
      "model_module": "@jupyter-widgets/controls",
      "model_module_version": "1.1.0",
      "model_name": "ToggleButtonsStyleModel",
      "state": {
       "button_width": "",
       "description_width": ""
      }
     },
     "6f28b70a460e4dcc975c5927eef6500a": {
      "model_module": "@jupyter-widgets/controls",
      "model_module_version": "1.1.0",
      "model_name": "ToggleButtonsModel",
      "state": {
       "_options_labels": [
        "P (¹H)",
        "D (²H)",
        "T (³H)",
        "A (⁴He)"
       ],
       "button_style": "",
       "description": "Particle:",
       "icons": [],
       "index": 0,
       "layout": "IPY_MODEL_c0590248ff2b4526bf62006198a16f0e",
       "style": "IPY_MODEL_3189369a0cac44e0a6e3b6b6d8657f93",
       "tooltips": [
        "Proton",
        "Deuteron",
        "Triton",
        "Helium-4"
       ]
      }
     },
     "6f9154ad8ff347fd89ceb3941d61b861": {
      "model_module": "@jupyter-widgets/controls",
      "model_module_version": "1.1.0",
      "model_name": "CheckboxModel",
      "state": {
       "description": "30°",
       "disabled": false,
       "layout": "IPY_MODEL_31903ee12cc046d4a5f3c48980d03de8",
       "style": "IPY_MODEL_a6823a7ff4d644898a0521a67008d5ad",
       "value": true
      }
     },
     "6fb95e2154dd4900892693eac880a9bb": {
      "model_module": "@jupyter-widgets/base",
      "model_module_version": "1.0.0",
      "model_name": "LayoutModel",
      "state": {}
     },
     "701d737cb8f8401b810a0390210365f7": {
      "model_module": "@jupyter-widgets/base",
      "model_module_version": "1.0.0",
      "model_name": "LayoutModel",
      "state": {}
     },
     "703e3e569ff1498cb980c4dc4e985884": {
      "model_module": "@jupyter-widgets/base",
      "model_module_version": "1.0.0",
      "model_name": "LayoutModel",
      "state": {}
     },
     "708e8d7a766147bbbdf1d488d6ce12fb": {
      "model_module": "@jupyter-widgets/controls",
      "model_module_version": "1.1.0",
      "model_name": "DescriptionStyleModel",
      "state": {
       "description_width": ""
      }
     },
     "70b824cba41340ed8e61ad5455714f59": {
      "model_module": "@jupyter-widgets/controls",
      "model_module_version": "1.1.0",
      "model_name": "CheckboxModel",
      "state": {
       "description": "30°",
       "disabled": false,
       "layout": "IPY_MODEL_18863704081745a6b44ce17d97071696",
       "style": "IPY_MODEL_4624e853dfd54f939381d2e27047bb61",
       "value": true
      }
     },
     "71058c791b4b4cf791c34492ca167eab": {
      "model_module": "@jupyter-widgets/base",
      "model_module_version": "1.0.0",
      "model_name": "LayoutModel",
      "state": {}
     },
     "71423ab69d8f4d27974054ce91340404": {
      "model_module": "@jupyter-widgets/base",
      "model_module_version": "1.0.0",
      "model_name": "LayoutModel",
      "state": {}
     },
     "714e01f090034d61970e171f2b8e9078": {
      "model_module": "@jupyter-widgets/base",
      "model_module_version": "1.0.0",
      "model_name": "LayoutModel",
      "state": {}
     },
     "7152837967fc4c21933fab6a2245e295": {
      "model_module": "@jupyter-widgets/controls",
      "model_module_version": "1.1.0",
      "model_name": "CheckboxModel",
      "state": {
       "description": "60°",
       "disabled": false,
       "layout": "IPY_MODEL_b67cce65aca44fba99692642db417b07",
       "style": "IPY_MODEL_88b9e2d96d2b4c85b34b1b94c3341b79",
       "value": false
      }
     },
     "71683c8b18754c3b99996c8c2f587ece": {
      "model_module": "@jupyter-widgets/base",
      "model_module_version": "1.0.0",
      "model_name": "LayoutModel",
      "state": {}
     },
     "71895eaff71248569ce5c5c2395d428a": {
      "model_module": "@jupyter-widgets/controls",
      "model_module_version": "1.1.0",
      "model_name": "LabelModel",
      "state": {
       "layout": "IPY_MODEL_dacecf3f41d744dca9a326df46e03dc7",
       "style": "IPY_MODEL_782f8c48e0e94ab9987ffa22d3cd04eb",
       "value": "Select the detector angles to plot."
      }
     },
     "719506c3b9ad4f68ac43df3344c0f784": {
      "model_module": "@jupyter-widgets/controls",
      "model_module_version": "1.1.0",
      "model_name": "LabelModel",
      "state": {
       "layout": "IPY_MODEL_7de9b198346d4da2990ea6970b256c36",
       "style": "IPY_MODEL_de136a4347eb43718c46e90b77ba4eae",
       "value": "Select the detector angles to plot."
      }
     },
     "719a392596f7403392909a78c79f6fd3": {
      "model_module": "@jupyter-widgets/controls",
      "model_module_version": "1.1.0",
      "model_name": "CheckboxModel",
      "state": {
       "description": "7.2°",
       "disabled": false,
       "layout": "IPY_MODEL_dcd4ce5edb6c44989f20208388f10188",
       "style": "IPY_MODEL_28216aa714064d369f4eb48ecb4ef60f",
       "value": true
      }
     },
     "71a09e2397ff40e9a0688a8973dcf554": {
      "model_module": "@jupyter-widgets/base",
      "model_module_version": "1.0.0",
      "model_name": "LayoutModel",
      "state": {}
     },
     "71b7722d056a4b0f8361f2d9d50b1a9f": {
      "model_module": "@jupyter-widgets/base",
      "model_module_version": "1.0.0",
      "model_name": "LayoutModel",
      "state": {}
     },
     "71cef8f8d16d42af89b020492cc909ca": {
      "model_module": "@jupyter-widgets/controls",
      "model_module_version": "1.1.0",
      "model_name": "CheckboxModel",
      "state": {
       "description": "10°",
       "disabled": false,
       "layout": "IPY_MODEL_77e5cab77d8e412a837ede5657f7cae9",
       "style": "IPY_MODEL_ca45354f50c94677a51e2632ed6da418",
       "value": true
      }
     },
     "71ff93e143924a6cb887239f81683955": {
      "model_module": "@jupyter-widgets/controls",
      "model_module_version": "1.1.0",
      "model_name": "CheckboxModel",
      "state": {
       "description": "45°",
       "disabled": false,
       "layout": "IPY_MODEL_11aea78791f04ca6adbc4af597e72e71",
       "style": "IPY_MODEL_462a79a9036144b8b3fe19cdc55eee8c",
       "value": true
      }
     },
     "7226f67f91d7466385caf9785e71e0e7": {
      "model_module": "@jupyter-widgets/base",
      "model_module_version": "1.0.0",
      "model_name": "LayoutModel",
      "state": {}
     },
     "7266346fb06e49e89e893c7ad7383d17": {
      "model_module": "@jupyter-widgets/base",
      "model_module_version": "1.0.0",
      "model_name": "LayoutModel",
      "state": {}
     },
     "7267e33edf104e3d9d14f08c8907cb54": {
      "model_module": "@jupyter-widgets/controls",
      "model_module_version": "1.1.0",
      "model_name": "ToggleButtonsModel",
      "state": {
       "_options_labels": [
        "N (¹n)",
        "NDC (¹n)",
        "P (¹H)",
        "D (²H)",
        "T (³H)",
        "S (³He)",
        "A (⁴He)"
       ],
       "button_style": "",
       "description": "Type:",
       "icons": [],
       "index": 3,
       "layout": "IPY_MODEL_3c09a4f787f24fb882051c5bbbc36f4a",
       "style": "IPY_MODEL_4ef169f780f5492d945394689c66c0f3",
       "tooltips": [
        "Neutron",
        "Back Target Neutron",
        "Proton",
        "Deuteron",
        "Triton",
        "Helium-3",
        "Helium-4"
       ]
      }
     },
     "72730742a22448ee8cf55b8b6858e93c": {
      "model_module": "@jupyter-widgets/controls",
      "model_module_version": "1.1.0",
      "model_name": "CheckboxModel",
      "state": {
       "description": "135°",
       "disabled": false,
       "layout": "IPY_MODEL_d89d57eeb9ee413baad1cb61dc3a999b",
       "style": "IPY_MODEL_88cc195b5f6e4901bf6a0871b8ac57ab",
       "value": true
      }
     },
     "727e71bf8dd74063b25c39b8c26aab20": {
      "model_module": "@jupyter-widgets/controls",
      "model_module_version": "1.1.0",
      "model_name": "CheckboxModel",
      "state": {
       "description": "32.7°",
       "disabled": false,
       "layout": "IPY_MODEL_02f0fec9ce024a018ce95422f807e9d9",
       "style": "IPY_MODEL_6669aa29ed0549aca74d7019dc6c0e5f",
       "value": false
      }
     },
     "72d50bc804df4ca38022315156eda644": {
      "model_module": "@jupyter-widgets/controls",
      "model_module_version": "1.1.0",
      "model_name": "DescriptionStyleModel",
      "state": {
       "description_width": ""
      }
     },
     "72e45cb336a54312a1aeef5f4c881553": {
      "model_module": "@jupyter-widgets/controls",
      "model_module_version": "1.1.0",
      "model_name": "DescriptionStyleModel",
      "state": {
       "description_width": ""
      }
     },
     "72e9a796ad4b465882749d9c1f88720d": {
      "model_module": "@jupyter-widgets/base",
      "model_module_version": "1.0.0",
      "model_name": "LayoutModel",
      "state": {}
     },
     "72fe73391da34aa7b16dcf466b9d7dcc": {
      "model_module": "@jupyter-widgets/base",
      "model_module_version": "1.0.0",
      "model_name": "LayoutModel",
      "state": {}
     },
     "73138b754209406a8c76f8b0357ac687": {
      "model_module": "@jupyter-widgets/controls",
      "model_module_version": "1.1.0",
      "model_name": "DescriptionStyleModel",
      "state": {
       "description_width": ""
      }
     },
     "7356676fed21406e8f081dbe6e0a505a": {
      "model_module": "@jupyter-widgets/controls",
      "model_module_version": "1.1.0",
      "model_name": "ButtonStyleModel",
      "state": {}
     },
     "7361620793a041eb83e6cebabb392c82": {
      "model_module": "@jupyter-widgets/base",
      "model_module_version": "1.0.0",
      "model_name": "LayoutModel",
      "state": {}
     },
     "73ade60795d64355b51bcedccc4f3f2c": {
      "model_module": "@jupyter-widgets/controls",
      "model_module_version": "1.1.0",
      "model_name": "DescriptionStyleModel",
      "state": {
       "description_width": ""
      }
     },
     "73b7636d409349d39069f1f9c4c8bf66": {
      "model_module": "@jupyter-widgets/controls",
      "model_module_version": "1.1.0",
      "model_name": "CheckboxModel",
      "state": {
       "description": "7.2°",
       "disabled": false,
       "layout": "IPY_MODEL_55ee168d048141bda5ad42eb6648dab2",
       "style": "IPY_MODEL_c3a04ceeb2e74e89bb7895f0f5657097",
       "value": true
      }
     },
     "73e20f453cf440ec997671f6f69ed6e9": {
      "model_module": "@jupyter-widgets/controls",
      "model_module_version": "1.1.0",
      "model_name": "ToggleButtonsModel",
      "state": {
       "_options_labels": [
        "400 MeV/n",
        "800 MeV/n",
        "1500 MeV/n"
       ],
       "button_style": "",
       "description": "Energy:",
       "icons": [],
       "index": 1,
       "layout": "IPY_MODEL_7b02a5288922431db259df2fe6b48f66",
       "style": "IPY_MODEL_2df331ed0947481499b39951a8f811cd",
       "tooltips": [
        "lowest energy",
        "middle energy",
        "highest energy"
       ]
      }
     },
     "740b6967cafc441d9d1016cb0a8da55f": {
      "model_module": "@jupyter-widgets/controls",
      "model_module_version": "1.1.0",
      "model_name": "ToggleButtonsModel",
      "state": {
       "_options_labels": [
        "400 MeV/n",
        "800 MeV/n",
        "1500 MeV/n"
       ],
       "button_style": "",
       "description": "Energy:",
       "icons": [],
       "index": 0,
       "layout": "IPY_MODEL_f6398df354bc4679b689033928f3f329",
       "style": "IPY_MODEL_d552c1b61ca04e5a85526db6807b5d18",
       "tooltips": [
        "lowest energy",
        "middle energy",
        "highest energy"
       ]
      }
     },
     "7459268c60e14cee93a95a83bb9c62cd": {
      "model_module": "@jupyter-widgets/controls",
      "model_module_version": "1.1.0",
      "model_name": "DescriptionStyleModel",
      "state": {
       "description_width": ""
      }
     },
     "74a62dfbb06d4bb8a6ba3f1404f53361": {
      "model_module": "@jupyter-widgets/controls",
      "model_module_version": "1.1.0",
      "model_name": "CheckboxModel",
      "state": {
       "description": "80°",
       "disabled": false,
       "layout": "IPY_MODEL_28c3fe0386cf482fae9099e6ae852596",
       "style": "IPY_MODEL_b3311dbc66674b6daaee1b5cd76ce614",
       "value": true
      }
     },
     "74afdf280b99481c91ec8638fcafbb6c": {
      "model_module": "@jupyter-widgets/controls",
      "model_module_version": "1.1.0",
      "model_name": "DescriptionStyleModel",
      "state": {
       "description_width": ""
      }
     },
     "74b6b5d9bd6f4001bb6cff315454d14d": {
      "model_module": "@jupyter-widgets/controls",
      "model_module_version": "1.1.0",
      "model_name": "LabelModel",
      "state": {
       "layout": "IPY_MODEL_824e7021966a43c2bf175463c7dccf1a",
       "style": "IPY_MODEL_2f0f1b0111db437d8dc6c27d468e6a66",
       "value": "Select which secondary particle to plot spectra for."
      }
     },
     "74e3d297a3dd4837a6940d54ccb2fc04": {
      "model_module": "@jupyter-widgets/controls",
      "model_module_version": "1.1.0",
      "model_name": "DescriptionStyleModel",
      "state": {
       "description_width": ""
      }
     },
     "74ea0dc61073468e9e0226a6ea33f180": {
      "model_module": "@jupyter-widgets/base",
      "model_module_version": "1.0.0",
      "model_name": "LayoutModel",
      "state": {}
     },
     "752f436956fe47a4adbe7186aead7787": {
      "model_module": "@jupyter-widgets/controls",
      "model_module_version": "1.1.0",
      "model_name": "DescriptionStyleModel",
      "state": {
       "description_width": ""
      }
     },
     "75647d063fd343279bf2691272c87b29": {
      "model_module": "@jupyter-widgets/base",
      "model_module_version": "1.0.0",
      "model_name": "LayoutModel",
      "state": {}
     },
     "75704df72b5f482e83d8caa24c07eb4a": {
      "model_module": "@jupyter-widgets/controls",
      "model_module_version": "1.1.0",
      "model_name": "DescriptionStyleModel",
      "state": {
       "description_width": ""
      }
     },
     "75a30c3beb1940bf992f9033eee96e34": {
      "model_module": "@jupyter-widgets/controls",
      "model_module_version": "1.1.0",
      "model_name": "DescriptionStyleModel",
      "state": {
       "description_width": ""
      }
     },
     "75b462689dd34b93816d80b241ce3836": {
      "model_module": "@jupyter-widgets/controls",
      "model_module_version": "1.1.0",
      "model_name": "DescriptionStyleModel",
      "state": {
       "description_width": ""
      }
     },
     "75c02e8a80754bd2b432497f85d747be": {
      "model_module": "@jupyter-widgets/base",
      "model_module_version": "1.0.0",
      "model_name": "LayoutModel",
      "state": {}
     },
     "75cf49c4dab14f3b84f7207de3fb21cd": {
      "model_module": "@jupyter-widgets/controls",
      "model_module_version": "1.1.0",
      "model_name": "CheckboxModel",
      "state": {
       "description": "10°",
       "disabled": false,
       "layout": "IPY_MODEL_11f48d37a535475ca688e0905db3162f",
       "style": "IPY_MODEL_72d50bc804df4ca38022315156eda644",
       "value": true
      }
     },
     "7685285fbaaa496d82510a494b9d0a08": {
      "model_module": "@jupyter-widgets/controls",
      "model_module_version": "1.1.0",
      "model_name": "LabelModel",
      "state": {
       "layout": "IPY_MODEL_116ac127c33a4645b99fbacd4acffcea",
       "style": "IPY_MODEL_b453f597f5f747879bbb7e51d7941077",
       "value": "Select the detector angles to plot."
      }
     },
     "76ae31eb7d5640b8875c43b23fa9160d": {
      "model_module": "@jupyter-widgets/controls",
      "model_module_version": "1.1.0",
      "model_name": "CheckboxModel",
      "state": {
       "description": "135°",
       "disabled": false,
       "layout": "IPY_MODEL_8822a20bc3f94d66ab0dbfabcd77d959",
       "style": "IPY_MODEL_73ade60795d64355b51bcedccc4f3f2c",
       "value": true
      }
     },
     "76dd25d0d7e1441183913f076f0b20a8": {
      "model_module": "@jupyter-widgets/controls",
      "model_module_version": "1.1.0",
      "model_name": "ToggleButtonsModel",
      "state": {
       "_options_labels": [
        "N (¹n)",
        "NDC (¹n)",
        "P (¹H)",
        "D (²H)",
        "T (³H)",
        "S (³He)",
        "A (⁴He)"
       ],
       "button_style": "",
       "description": "Type:",
       "icons": [],
       "index": 0,
       "layout": "IPY_MODEL_a01d9af1cbfb457ca40b4d16191dd9f8",
       "style": "IPY_MODEL_a73ea27787e845ec9d670ffc57d5fe34",
       "tooltips": [
        "Neutron",
        "Back Target Neutron",
        "Proton",
        "Deuteron",
        "Triton",
        "Helium-3",
        "Helium-4"
       ]
      }
     },
     "770ceff503154f0a865b91c4c5f39af8": {
      "model_module": "@jupyter-widgets/base",
      "model_module_version": "1.0.0",
      "model_name": "LayoutModel",
      "state": {}
     },
     "772e5375e9884cc59b06095fd14fa29c": {
      "model_module": "@jupyter-widgets/controls",
      "model_module_version": "1.1.0",
      "model_name": "DescriptionStyleModel",
      "state": {
       "description_width": ""
      }
     },
     "77325e05ad2b433c87a9d5728f7d5981": {
      "model_module": "@jupyter-widgets/base",
      "model_module_version": "1.0.0",
      "model_name": "LayoutModel",
      "state": {}
     },
     "77792603d0cb409aa6a765665db2f609": {
      "model_module": "@jupyter-widgets/controls",
      "model_module_version": "1.1.0",
      "model_name": "CheckboxModel",
      "state": {
       "description": "135°",
       "disabled": false,
       "layout": "IPY_MODEL_7edd62daaafc4fde86cd3bd06b52ead0",
       "style": "IPY_MODEL_486a85212fc74b3c976559e6f202904e",
       "value": true
      }
     },
     "777b6c6ba30941cba126cc00438dd02d": {
      "model_module": "@jupyter-widgets/controls",
      "model_module_version": "1.1.0",
      "model_name": "CheckboxModel",
      "state": {
       "description": "45°",
       "disabled": false,
       "layout": "IPY_MODEL_f7f38f23b33c4fc9bedd89b58ecf6c4c",
       "style": "IPY_MODEL_592d2c0aa7504792bede385126d23000",
       "value": false
      }
     },
     "77a5fc8d2bb44899b412f27dbfc2d0b2": {
      "model_module": "@jupyter-widgets/controls",
      "model_module_version": "1.1.0",
      "model_name": "CheckboxModel",
      "state": {
       "description": "45°",
       "disabled": false,
       "layout": "IPY_MODEL_1954fcd499e84497b4865b733f2fe9a4",
       "style": "IPY_MODEL_b8c1fc0e080f4c32b4e9b22cf32efc54",
       "value": true
      }
     },
     "77df7263787a480793999b2d1bfbd4c8": {
      "model_module": "@jupyter-widgets/controls",
      "model_module_version": "1.1.0",
      "model_name": "DescriptionStyleModel",
      "state": {
       "description_width": ""
      }
     },
     "77e5cab77d8e412a837ede5657f7cae9": {
      "model_module": "@jupyter-widgets/base",
      "model_module_version": "1.0.0",
      "model_name": "LayoutModel",
      "state": {}
     },
     "77f0a240fb514069b6c89a150a7abac9": {
      "model_module": "@jupyter-widgets/controls",
      "model_module_version": "1.1.0",
      "model_name": "ToggleButtonsStyleModel",
      "state": {
       "button_width": "",
       "description_width": ""
      }
     },
     "781aaddf039d4c1fb96c9e97b02b4a98": {
      "model_module": "@jupyter-widgets/controls",
      "model_module_version": "1.1.0",
      "model_name": "LabelModel",
      "state": {
       "layout": "IPY_MODEL_ab51b1419f7546d9adedc7d98370b3be",
       "style": "IPY_MODEL_ac9577885a6643f3acdf6df98032a935",
       "value": "Select which secondary particle to plot spectra for."
      }
     },
     "782b9bfbb81b460284294695228ba7de": {
      "model_module": "@jupyter-widgets/controls",
      "model_module_version": "1.1.0",
      "model_name": "DescriptionStyleModel",
      "state": {
       "description_width": ""
      }
     },
     "782f50c4fba44e5797352f1f889b2404": {
      "model_module": "@jupyter-widgets/controls",
      "model_module_version": "1.1.0",
      "model_name": "CheckboxModel",
      "state": {
       "description": "30°",
       "disabled": false,
       "layout": "IPY_MODEL_90d0ad0b2cd144658a89409c7d844d9d",
       "style": "IPY_MODEL_d3c2d5b482364a8388e43e20541a6253",
       "value": true
      }
     },
     "782f8c48e0e94ab9987ffa22d3cd04eb": {
      "model_module": "@jupyter-widgets/controls",
      "model_module_version": "1.1.0",
      "model_name": "DescriptionStyleModel",
      "state": {
       "description_width": ""
      }
     },
     "785390cd756d49a19e9964c3010cb559": {
      "model_module": "@jupyter-widgets/base",
      "model_module_version": "1.0.0",
      "model_name": "LayoutModel",
      "state": {}
     },
     "7875ecdeb20f48b79e1db2aab5fe21d6": {
      "model_module": "@jupyter-widgets/controls",
      "model_module_version": "1.1.0",
      "model_name": "ToggleButtonsModel",
      "state": {
       "_options_labels": [
        "N (¹n)",
        "NDC (¹n)",
        "P (¹H)",
        "D (²H)",
        "T (³H)",
        "S (³He)",
        "A (⁴He)"
       ],
       "button_style": "",
       "description": "Particle:",
       "icons": [],
       "index": 1,
       "layout": "IPY_MODEL_b7d90552fa1a42b7b0e7aee76ca65e5f",
       "style": "IPY_MODEL_18ec9503a0314fdfb4fd82944a091077",
       "tooltips": [
        "Neutron",
        "Back Target Neutron",
        "Proton",
        "Deuteron",
        "Triton",
        "Helium-3",
        "Helium-4"
       ]
      }
     },
     "790ea7929fa54d4992b2693b6c88b714": {
      "model_module": "@jupyter-widgets/controls",
      "model_module_version": "1.1.0",
      "model_name": "LabelModel",
      "state": {
       "layout": "IPY_MODEL_9eba4cf6274048188693b18ae48e4e52",
       "style": "IPY_MODEL_deef3cc23c9e47b1a27184acabc313ff",
       "value": "Select which secondary particle to plot spectra for."
      }
     },
     "7a207b3f9e534394bfd8e158d669b063": {
      "model_module": "@jupyter-widgets/base",
      "model_module_version": "1.0.0",
      "model_name": "LayoutModel",
      "state": {}
     },
     "7a2ce427dc1c456da7309111a2b59ea4": {
      "model_module": "@jupyter-widgets/controls",
      "model_module_version": "1.1.0",
      "model_name": "LabelModel",
      "state": {
       "layout": "IPY_MODEL_daa1eb14b20f48a5a9aba4450376ed13",
       "style": "IPY_MODEL_caa204e113d1449080e1c516dedcc235",
       "value": "Select which secondary particle to plot spectra for."
      }
     },
     "7a41df7279be47f19ff549ed07da1077": {
      "model_module": "@jupyter-widgets/controls",
      "model_module_version": "1.1.0",
      "model_name": "DescriptionStyleModel",
      "state": {
       "description_width": ""
      }
     },
     "7a606f3c1ab14cb9839909e63914dd28": {
      "model_module": "@jupyter-widgets/base",
      "model_module_version": "1.0.0",
      "model_name": "LayoutModel",
      "state": {}
     },
     "7a60d2682c3349b0b202edf010c6c96c": {
      "model_module": "@jupyter-widgets/base",
      "model_module_version": "1.0.0",
      "model_name": "LayoutModel",
      "state": {}
     },
     "7a7ba5dbc4044b0fa55b390b45f1c3b3": {
      "model_module": "@jupyter-widgets/controls",
      "model_module_version": "1.1.0",
      "model_name": "DescriptionStyleModel",
      "state": {
       "description_width": ""
      }
     },
     "7ac59b7eca6641c8bcb498673e9b27bd": {
      "model_module": "@jupyter-widgets/base",
      "model_module_version": "1.0.0",
      "model_name": "LayoutModel",
      "state": {}
     },
     "7adde8f3afc7478e95f52a5ba89da941": {
      "model_module": "@jupyter-widgets/controls",
      "model_module_version": "1.1.0",
      "model_name": "DescriptionStyleModel",
      "state": {
       "description_width": ""
      }
     },
     "7af51936891d4c43b32e0c844abbed7b": {
      "model_module": "@jupyter-widgets/controls",
      "model_module_version": "1.1.0",
      "model_name": "LabelModel",
      "state": {
       "layout": "IPY_MODEL_52c16dd828a84e3c93385fd475420794",
       "style": "IPY_MODEL_a6e4e615cf024c96b0b19a74e84d6cef",
       "value": "Select which secondary particle to plot spectra for."
      }
     },
     "7b02a5288922431db259df2fe6b48f66": {
      "model_module": "@jupyter-widgets/base",
      "model_module_version": "1.0.0",
      "model_name": "LayoutModel",
      "state": {}
     },
     "7b0520fc4f674c48beda1fd2174f737c": {
      "model_module": "@jupyter-widgets/controls",
      "model_module_version": "1.1.0",
      "model_name": "DescriptionStyleModel",
      "state": {
       "description_width": ""
      }
     },
     "7b3e842f80114890b82b120bf12a2673": {
      "model_module": "@jupyter-widgets/controls",
      "model_module_version": "1.1.0",
      "model_name": "DescriptionStyleModel",
      "state": {
       "description_width": ""
      }
     },
     "7b49faf0031b4bbd8bcfec5944e74490": {
      "model_module": "@jupyter-widgets/controls",
      "model_module_version": "1.1.0",
      "model_name": "DescriptionStyleModel",
      "state": {
       "description_width": ""
      }
     },
     "7b785eb9dea24458a4d1ac57bbfbe2fc": {
      "model_module": "@jupyter-widgets/controls",
      "model_module_version": "1.1.0",
      "model_name": "DescriptionStyleModel",
      "state": {
       "description_width": ""
      }
     },
     "7bad699392d842d3b757e4dbfb597dc1": {
      "model_module": "@jupyter-widgets/controls",
      "model_module_version": "1.1.0",
      "model_name": "CheckboxModel",
      "state": {
       "description": "30°",
       "disabled": false,
       "layout": "IPY_MODEL_090598d5c0c24f1f90f63baa520df67a",
       "style": "IPY_MODEL_5f81c44e3d4f4848891cd99623046fe3",
       "value": true
      }
     },
     "7bc3fbb9ab3f45348de818119b4edb4a": {
      "model_module": "@jupyter-widgets/controls",
      "model_module_version": "1.1.0",
      "model_name": "DescriptionStyleModel",
      "state": {
       "description_width": ""
      }
     },
     "7bd08e09b235419884b9026c8318d57b": {
      "model_module": "@jupyter-widgets/base",
      "model_module_version": "1.0.0",
      "model_name": "LayoutModel",
      "state": {}
     },
     "7bd7ac599ac74a43b9d70028a1cfbf6b": {
      "model_module": "@jupyter-widgets/base",
      "model_module_version": "1.0.0",
      "model_name": "LayoutModel",
      "state": {}
     },
     "7c43f2d5b3524a36bebde9aaefaf52eb": {
      "model_module": "@jupyter-widgets/controls",
      "model_module_version": "1.1.0",
      "model_name": "CheckboxModel",
      "state": {
       "description": "80°",
       "disabled": false,
       "layout": "IPY_MODEL_d380f760dcf04c08bc4b7e227caf8416",
       "style": "IPY_MODEL_8ec9509eb399439fb841e212539d7916",
       "value": true
      }
     },
     "7c8840e84d034bf79f54e73f4acdb1c8": {
      "model_module": "@jupyter-widgets/controls",
      "model_module_version": "1.1.0",
      "model_name": "CheckboxModel",
      "state": {
       "description": "30°",
       "disabled": false,
       "layout": "IPY_MODEL_6043f70a44fd4a4ab3da05f2351f5d16",
       "style": "IPY_MODEL_782b9bfbb81b460284294695228ba7de",
       "value": true
      }
     },
     "7cb91ccf4d284053ad9237a1ec68b134": {
      "model_module": "@jupyter-widgets/controls",
      "model_module_version": "1.1.0",
      "model_name": "LabelModel",
      "state": {
       "layout": "IPY_MODEL_b34c0b45a9364bf4a77dbe00b1b856bf",
       "style": "IPY_MODEL_10b4f99509df485689b185a6e77913a5",
       "value": "Select the detector angles to plot."
      }
     },
     "7cebe4c1a6574ff6880871b9e8a9045c": {
      "model_module": "@jupyter-widgets/controls",
      "model_module_version": "1.1.0",
      "model_name": "ToggleButtonsModel",
      "state": {
       "_options_labels": [
        "400 MeV",
        "800 MeV",
        "2500 MeV"
       ],
       "button_style": "",
       "description": "Energy:",
       "icons": [],
       "index": 0,
       "layout": "IPY_MODEL_f3b020ca5d8f4d98bd0f82640535936e",
       "style": "IPY_MODEL_ab08f3b531ee4b92bbbe6ee1c754c252",
       "tooltips": [
        "lowest energy",
        "middle energy",
        "highest energy"
       ]
      }
     },
     "7d315670ef4f4b77a3c4bdbb3d99313c": {
      "model_module": "@jupyter-widgets/controls",
      "model_module_version": "1.1.0",
      "model_name": "ToggleButtonsStyleModel",
      "state": {
       "button_width": "",
       "description_width": ""
      }
     },
     "7d5da29f61a44934bf2ea94bc7ee10bd": {
      "model_module": "@jupyter-widgets/controls",
      "model_module_version": "1.1.0",
      "model_name": "CheckboxModel",
      "state": {
       "description": "10°",
       "disabled": false,
       "layout": "IPY_MODEL_a08b30dbe8df48e1b9b7d32efe18f57e",
       "style": "IPY_MODEL_3057daa3aeee4dd19e0ef7f89f0cf16c",
       "value": true
      }
     },
     "7d80945944f749c38f55ca99a4d8e702": {
      "model_module": "@jupyter-widgets/controls",
      "model_module_version": "1.1.0",
      "model_name": "DescriptionStyleModel",
      "state": {
       "description_width": ""
      }
     },
     "7d96e7efeee54fd8a36c0a044393d5b5": {
      "model_module": "@jupyter-widgets/controls",
      "model_module_version": "1.1.0",
      "model_name": "DescriptionStyleModel",
      "state": {
       "description_width": ""
      }
     },
     "7db1c715c27c426f9a9b3a5820d79b0c": {
      "model_module": "@jupyter-widgets/base",
      "model_module_version": "1.0.0",
      "model_name": "LayoutModel",
      "state": {}
     },
     "7de9b198346d4da2990ea6970b256c36": {
      "model_module": "@jupyter-widgets/base",
      "model_module_version": "1.0.0",
      "model_name": "LayoutModel",
      "state": {}
     },
     "7df21e8d5f964ee6940895fc16107d6f": {
      "model_module": "@jupyter-widgets/base",
      "model_module_version": "1.0.0",
      "model_name": "LayoutModel",
      "state": {}
     },
     "7e2371361e60439b81f3c95a4c29b3b7": {
      "model_module": "@jupyter-widgets/controls",
      "model_module_version": "1.1.0",
      "model_name": "ToggleButtonsStyleModel",
      "state": {
       "button_width": "",
       "description_width": ""
      }
     },
     "7e75049786dd41599baa59cfbe1fc39b": {
      "model_module": "@jupyter-widgets/base",
      "model_module_version": "1.0.0",
      "model_name": "LayoutModel",
      "state": {}
     },
     "7e8f437c1a4f4cb2a43386174f683062": {
      "model_module": "@jupyter-widgets/controls",
      "model_module_version": "1.1.0",
      "model_name": "ButtonStyleModel",
      "state": {}
     },
     "7ea5137a008f4bbeb1cf1b1fb8b59231": {
      "model_module": "@jupyter-widgets/controls",
      "model_module_version": "1.1.0",
      "model_name": "LabelModel",
      "state": {
       "layout": "IPY_MODEL_0070d4f6780e40d6b962f1dfc9e13934",
       "style": "IPY_MODEL_bae7a6f7fe1a4131a2844ed828976a30",
       "value": "Select projectile ion energy."
      }
     },
     "7eb4d549ff354d1d97bf02337d3d4441": {
      "model_module": "@jupyter-widgets/base",
      "model_module_version": "1.0.0",
      "model_name": "LayoutModel",
      "state": {}
     },
     "7eb78729568f4494b7bae7e61224211a": {
      "model_module": "@jupyter-widgets/controls",
      "model_module_version": "1.1.0",
      "model_name": "DescriptionStyleModel",
      "state": {
       "description_width": ""
      }
     },
     "7ece3efc3e354dbfafc81f8f5768649d": {
      "model_module": "@jupyter-widgets/base",
      "model_module_version": "1.0.0",
      "model_name": "LayoutModel",
      "state": {}
     },
     "7ed71805849a4f218564899a9ad4f788": {
      "model_module": "@jupyter-widgets/base",
      "model_module_version": "1.0.0",
      "model_name": "LayoutModel",
      "state": {}
     },
     "7edd62daaafc4fde86cd3bd06b52ead0": {
      "model_module": "@jupyter-widgets/base",
      "model_module_version": "1.0.0",
      "model_name": "LayoutModel",
      "state": {}
     },
     "7f0241e1d61d443d945055442dd2c9ac": {
      "model_module": "@jupyter-widgets/controls",
      "model_module_version": "1.1.0",
      "model_name": "LabelModel",
      "state": {
       "layout": "IPY_MODEL_e5de52a649a44006a5e4cb9bac808b33",
       "style": "IPY_MODEL_114b096c8d2849e88380a0216538768e",
       "value": "Select which secondary particle to plot spectra for."
      }
     },
     "7f3291f11caf4a628d72ab41a793e5c1": {
      "model_module": "@jupyter-widgets/controls",
      "model_module_version": "1.1.0",
      "model_name": "CheckboxModel",
      "state": {
       "description": "45°",
       "disabled": false,
       "layout": "IPY_MODEL_db23ea9742d24a9eb53dca9df0670822",
       "style": "IPY_MODEL_cfd89952bf0f4bc58f55bb5e034a9751",
       "value": false
      }
     },
     "7f4e7685ff92449696edc9899475e79a": {
      "model_module": "@jupyter-widgets/controls",
      "model_module_version": "1.1.0",
      "model_name": "ToggleButtonsStyleModel",
      "state": {
       "button_width": "",
       "description_width": ""
      }
     },
     "7f6a97e5fbe24a3c9cbbb57009b519b5": {
      "model_module": "@jupyter-widgets/base",
      "model_module_version": "1.0.0",
      "model_name": "LayoutModel",
      "state": {}
     },
     "7fda445d7820403baadc8a73574b6efa": {
      "model_module": "@jupyter-widgets/controls",
      "model_module_version": "1.1.0",
      "model_name": "DescriptionStyleModel",
      "state": {
       "description_width": ""
      }
     },
     "7fe93f0e92f445f2b9eb26c37bb33e12": {
      "model_module": "@jupyter-widgets/controls",
      "model_module_version": "1.1.0",
      "model_name": "DescriptionStyleModel",
      "state": {
       "description_width": ""
      }
     },
     "7fee16546f4e4ce698bb3676bbfe16a6": {
      "model_module": "@jupyter-widgets/base",
      "model_module_version": "1.0.0",
      "model_name": "LayoutModel",
      "state": {}
     },
     "80283625d8bf4c69b8c889786437052f": {
      "model_module": "@jupyter-widgets/base",
      "model_module_version": "1.0.0",
      "model_name": "LayoutModel",
      "state": {}
     },
     "806a3c65ff964a2982d166fcff8bb411": {
      "model_module": "@jupyter-widgets/controls",
      "model_module_version": "1.1.0",
      "model_name": "ButtonStyleModel",
      "state": {}
     },
     "807ae0ee6a3e486aa3da11e93793c20d": {
      "model_module": "@jupyter-widgets/controls",
      "model_module_version": "1.1.0",
      "model_name": "ToggleButtonsModel",
      "state": {
       "_options_labels": [
        "400 MeV/n",
        "800 MeV/n",
        "1500 MeV/n"
       ],
       "button_style": "",
       "description": "Energy:",
       "icons": [],
       "index": 0,
       "layout": "IPY_MODEL_d37cc067f1304cf2bc31222f899ce506",
       "style": "IPY_MODEL_83ecc67c12c3465fb7265072610ef8c1",
       "tooltips": [
        "lowest energy",
        "middle energy",
        "highest energy"
       ]
      }
     },
     "81425f7945044f9dacb6d4144985be36": {
      "model_module": "@jupyter-widgets/base",
      "model_module_version": "1.0.0",
      "model_name": "LayoutModel",
      "state": {}
     },
     "8177f473e8f641b79269f0ae8dd689c0": {
      "model_module": "@jupyter-widgets/controls",
      "model_module_version": "1.1.0",
      "model_name": "LabelModel",
      "state": {
       "layout": "IPY_MODEL_cab1869c6d1a4ab0bb065fd99a0140ad",
       "style": "IPY_MODEL_604b16220d6048ea886bfe88261bdf85",
       "value": "Select the detector angles to plot."
      }
     },
     "818e25e4cb0b4fec929f25ceebdb701b": {
      "model_module": "@jupyter-widgets/controls",
      "model_module_version": "1.1.0",
      "model_name": "ToggleButtonsStyleModel",
      "state": {
       "button_width": "",
       "description_width": ""
      }
     },
     "81becc4e02154e5988583dc8e548ffe7": {
      "model_module": "@jupyter-widgets/controls",
      "model_module_version": "1.1.0",
      "model_name": "CheckboxModel",
      "state": {
       "description": "80°",
       "disabled": false,
       "layout": "IPY_MODEL_1bbba88cc5794cd1ad6b502097c723e9",
       "style": "IPY_MODEL_883d12cde93144b8aacc6b532828c93c",
       "value": true
      }
     },
     "81e8aa979cf448faa0b4652b1370aebf": {
      "model_module": "@jupyter-widgets/controls",
      "model_module_version": "1.1.0",
      "model_name": "LabelModel",
      "state": {
       "layout": "IPY_MODEL_44d3c41f87914e6faf2379147d847721",
       "style": "IPY_MODEL_ee9bc543bebf4a9d802fb91e73d1002f",
       "value": "Select the detector angles to plot."
      }
     },
     "820dfd5d872b4d25b9c5ff1f806a7c09": {
      "model_module": "@jupyter-widgets/base",
      "model_module_version": "1.0.0",
      "model_name": "LayoutModel",
      "state": {}
     },
     "823ff30f4d3648aca3a0c04c4d588ac5": {
      "model_module": "@jupyter-widgets/base",
      "model_module_version": "1.0.0",
      "model_name": "LayoutModel",
      "state": {}
     },
     "824e7021966a43c2bf175463c7dccf1a": {
      "model_module": "@jupyter-widgets/base",
      "model_module_version": "1.0.0",
      "model_name": "LayoutModel",
      "state": {}
     },
     "827c1636df9f4da3b9e26740c6b7ea19": {
      "model_module": "@jupyter-widgets/controls",
      "model_module_version": "1.1.0",
      "model_name": "ToggleButtonsStyleModel",
      "state": {
       "button_width": "",
       "description_width": ""
      }
     },
     "82f4562ddb4f464a84af5973022cc115": {
      "model_module": "@jupyter-widgets/base",
      "model_module_version": "1.0.0",
      "model_name": "LayoutModel",
      "state": {}
     },
     "82fdb15c3b674b6292666eda2a30a34b": {
      "model_module": "@jupyter-widgets/controls",
      "model_module_version": "1.1.0",
      "model_name": "DescriptionStyleModel",
      "state": {
       "description_width": ""
      }
     },
     "8343888407d44945ae56701f2e2d6087": {
      "model_module": "@jupyter-widgets/base",
      "model_module_version": "1.0.0",
      "model_name": "LayoutModel",
      "state": {}
     },
     "834837e439a34d1fa4c89cc1e7e18944": {
      "model_module": "@jupyter-widgets/controls",
      "model_module_version": "1.1.0",
      "model_name": "DescriptionStyleModel",
      "state": {
       "description_width": ""
      }
     },
     "8357b76f17874ba08f6bdb034c92d17c": {
      "model_module": "@jupyter-widgets/controls",
      "model_module_version": "1.1.0",
      "model_name": "CheckboxModel",
      "state": {
       "description": "30°",
       "disabled": false,
       "layout": "IPY_MODEL_b6afb6b7e2334252b59396dc1689c01a",
       "style": "IPY_MODEL_6301ab8a9251463b9ae21da49e69bd8c",
       "value": true
      }
     },
     "835d7d9788b141e0a8c4c72567a0dbba": {
      "model_module": "@jupyter-widgets/controls",
      "model_module_version": "1.1.0",
      "model_name": "CheckboxModel",
      "state": {
       "description": "135°",
       "disabled": false,
       "layout": "IPY_MODEL_156f2356d2f34394bd0ef2bbc9f4c5b0",
       "style": "IPY_MODEL_d31cfd5f4c5f4ce290a396164e3ede08",
       "value": true
      }
     },
     "8379ac78c8d5412a85b9e64f7b08a6f1": {
      "model_module": "@jupyter-widgets/controls",
      "model_module_version": "1.1.0",
      "model_name": "DescriptionStyleModel",
      "state": {
       "description_width": ""
      }
     },
     "83da75659ac840289928e9f49a3879c0": {
      "model_module": "@jupyter-widgets/controls",
      "model_module_version": "1.1.0",
      "model_name": "LabelModel",
      "state": {
       "layout": "IPY_MODEL_b430db24d0cc4ea682e31554dad28dba",
       "style": "IPY_MODEL_7eb78729568f4494b7bae7e61224211a",
       "value": "Select a detector type."
      }
     },
     "83ecc67c12c3465fb7265072610ef8c1": {
      "model_module": "@jupyter-widgets/controls",
      "model_module_version": "1.1.0",
      "model_name": "ToggleButtonsStyleModel",
      "state": {
       "button_width": "",
       "description_width": ""
      }
     },
     "840cc699269c453caf5255b94c01977e": {
      "model_module": "@jupyter-widgets/controls",
      "model_module_version": "1.1.0",
      "model_name": "DescriptionStyleModel",
      "state": {
       "description_width": ""
      }
     },
     "8457014aa34643e0a25eff2ec3f6e208": {
      "model_module": "@jupyter-widgets/controls",
      "model_module_version": "1.1.0",
      "model_name": "DescriptionStyleModel",
      "state": {
       "description_width": ""
      }
     },
     "846897d5be034873bc66dd9153ee457a": {
      "model_module": "@jupyter-widgets/controls",
      "model_module_version": "1.1.0",
      "model_name": "DescriptionStyleModel",
      "state": {
       "description_width": ""
      }
     },
     "84775fd52f4349bfb087eae261842288": {
      "model_module": "@jupyter-widgets/base",
      "model_module_version": "1.0.0",
      "model_name": "LayoutModel",
      "state": {}
     },
     "8477bf0938fe492299303381dfe3f762": {
      "model_module": "@jupyter-widgets/controls",
      "model_module_version": "1.1.0",
      "model_name": "DescriptionStyleModel",
      "state": {
       "description_width": ""
      }
     },
     "84966235c9f94f55bd3807f3ac243f7c": {
      "model_module": "@jupyter-widgets/base",
      "model_module_version": "1.0.0",
      "model_name": "LayoutModel",
      "state": {}
     },
     "849807397d89425fb0fc2d9642622f81": {
      "model_module": "@jupyter-widgets/controls",
      "model_module_version": "1.1.0",
      "model_name": "CheckboxModel",
      "state": {
       "description": "80°",
       "disabled": false,
       "layout": "IPY_MODEL_8842f6d0a5a0491caa3de1c702a30d3b",
       "style": "IPY_MODEL_be7c1d76834143be9f8d17152e78cf48",
       "value": true
      }
     },
     "849c532214cc497bb60d08a05f612cf5": {
      "model_module": "@jupyter-widgets/controls",
      "model_module_version": "1.1.0",
      "model_name": "DescriptionStyleModel",
      "state": {
       "description_width": ""
      }
     },
     "84bb49288518474f8493046eb8864d73": {
      "model_module": "@jupyter-widgets/controls",
      "model_module_version": "1.1.0",
      "model_name": "DescriptionStyleModel",
      "state": {
       "description_width": ""
      }
     },
     "84dfdf7825024918a2f24ccbc66d7913": {
      "model_module": "@jupyter-widgets/controls",
      "model_module_version": "1.1.0",
      "model_name": "CheckboxModel",
      "state": {
       "description": "12.7°",
       "disabled": false,
       "layout": "IPY_MODEL_20aad4b157da4f91bcbe7e43af14ce8c",
       "style": "IPY_MODEL_8379ac78c8d5412a85b9e64f7b08a6f1",
       "value": true
      }
     },
     "84e53c0a403b446f8596a153fde52f6a": {
      "model_module": "@jupyter-widgets/controls",
      "model_module_version": "1.1.0",
      "model_name": "DescriptionStyleModel",
      "state": {
       "description_width": ""
      }
     },
     "851d0803bb734f5cb54c8d637c457fd7": {
      "model_module": "@jupyter-widgets/base",
      "model_module_version": "1.0.0",
      "model_name": "LayoutModel",
      "state": {}
     },
     "8525d04351b346d6849bdfd4e5df9061": {
      "model_module": "@jupyter-widgets/controls",
      "model_module_version": "1.1.0",
      "model_name": "CheckboxModel",
      "state": {
       "description": "30°",
       "disabled": false,
       "layout": "IPY_MODEL_c15c7534a6b2413885d8a67c1a50e638",
       "style": "IPY_MODEL_68ea0c8040b549ddbf28ba9ea85eccfa",
       "value": true
      }
     },
     "8560a6f02b604d1bb2516e19618938a6": {
      "model_module": "@jupyter-widgets/controls",
      "model_module_version": "1.1.0",
      "model_name": "DescriptionStyleModel",
      "state": {
       "description_width": ""
      }
     },
     "858ff6cb153941629070dce3e8eab120": {
      "model_module": "@jupyter-widgets/base",
      "model_module_version": "1.0.0",
      "model_name": "LayoutModel",
      "state": {}
     },
     "85a02b30514244aaaf4f8a6d2a2c855b": {
      "model_module": "@jupyter-widgets/controls",
      "model_module_version": "1.1.0",
      "model_name": "DescriptionStyleModel",
      "state": {
       "description_width": ""
      }
     },
     "85abee9894c242df832fed752adf6975": {
      "model_module": "@jupyter-widgets/controls",
      "model_module_version": "1.1.0",
      "model_name": "CheckboxModel",
      "state": {
       "description": "30°",
       "disabled": false,
       "layout": "IPY_MODEL_71a09e2397ff40e9a0688a8973dcf554",
       "style": "IPY_MODEL_1acc6d4d97c0434783d57bd31fb7a9e1",
       "value": true
      }
     },
     "85f344bca2d2496c920f8d78b4cd6a77": {
      "model_module": "@jupyter-widgets/base",
      "model_module_version": "1.0.0",
      "model_name": "LayoutModel",
      "state": {}
     },
     "86238e72635d4f7cad9efa91d7a2965f": {
      "model_module": "@jupyter-widgets/controls",
      "model_module_version": "1.1.0",
      "model_name": "CheckboxModel",
      "state": {
       "description": "PHITS simulated",
       "disabled": false,
       "layout": "IPY_MODEL_62c0dff630c54a339359f4468590031f",
       "style": "IPY_MODEL_2fcfc7521e804977b7d8840c05e78ec0",
       "value": true
      }
     },
     "865a726d61fa47a29ff1bf6ab3cbb3c4": {
      "model_module": "@jupyter-widgets/controls",
      "model_module_version": "1.1.0",
      "model_name": "ToggleButtonsStyleModel",
      "state": {
       "button_width": "",
       "description_width": ""
      }
     },
     "868daa6a513c4483b385e724afc38db6": {
      "model_module": "@jupyter-widgets/base",
      "model_module_version": "1.0.0",
      "model_name": "LayoutModel",
      "state": {}
     },
     "86a57d3d44574ca59515581038955997": {
      "model_module": "@jupyter-widgets/controls",
      "model_module_version": "1.1.0",
      "model_name": "DescriptionStyleModel",
      "state": {
       "description_width": ""
      }
     },
     "86ed2da1ad2640358387caa4b333ce6a": {
      "model_module": "@jupyter-widgets/controls",
      "model_module_version": "1.1.0",
      "model_name": "CheckboxModel",
      "state": {
       "description": "60°",
       "disabled": false,
       "layout": "IPY_MODEL_0ebc3162b4da49f3a6d4f7aa043c52d9",
       "style": "IPY_MODEL_01cfdf7a65f047b8a4c617630919767c",
       "value": true
      }
     },
     "879adfc53a3c462a9c3d51cf55c1adbe": {
      "model_module": "@jupyter-widgets/base",
      "model_module_version": "1.0.0",
      "model_name": "LayoutModel",
      "state": {}
     },
     "87b03a1bc88941419b080527b7fd800c": {
      "model_module": "@jupyter-widgets/base",
      "model_module_version": "1.0.0",
      "model_name": "LayoutModel",
      "state": {}
     },
     "87b2e69948374bef9d1952c9e4a06f02": {
      "model_module": "@jupyter-widgets/base",
      "model_module_version": "1.0.0",
      "model_name": "LayoutModel",
      "state": {}
     },
     "87e57776ce1f4fd38470996dfe8cf8a5": {
      "model_module": "@jupyter-widgets/controls",
      "model_module_version": "1.1.0",
      "model_name": "DescriptionStyleModel",
      "state": {
       "description_width": ""
      }
     },
     "87e9155972b8434b99ed4584a1a99d02": {
      "model_module": "@jupyter-widgets/controls",
      "model_module_version": "1.1.0",
      "model_name": "DescriptionStyleModel",
      "state": {
       "description_width": ""
      }
     },
     "87f9d71af0c142c7b5caf8e56b9b61ca": {
      "model_module": "@jupyter-widgets/base",
      "model_module_version": "1.0.0",
      "model_name": "LayoutModel",
      "state": {}
     },
     "8822a20bc3f94d66ab0dbfabcd77d959": {
      "model_module": "@jupyter-widgets/base",
      "model_module_version": "1.0.0",
      "model_name": "LayoutModel",
      "state": {}
     },
     "883d12cde93144b8aacc6b532828c93c": {
      "model_module": "@jupyter-widgets/controls",
      "model_module_version": "1.1.0",
      "model_name": "DescriptionStyleModel",
      "state": {
       "description_width": ""
      }
     },
     "8842f6d0a5a0491caa3de1c702a30d3b": {
      "model_module": "@jupyter-widgets/base",
      "model_module_version": "1.0.0",
      "model_name": "LayoutModel",
      "state": {}
     },
     "884bb46f7a954ce38ebb5635c40a21d2": {
      "model_module": "@jupyter-widgets/controls",
      "model_module_version": "1.1.0",
      "model_name": "DescriptionStyleModel",
      "state": {
       "description_width": ""
      }
     },
     "8872a1a9dadf4cab9a7f77f2ceab455d": {
      "model_module": "@jupyter-widgets/controls",
      "model_module_version": "1.1.0",
      "model_name": "DescriptionStyleModel",
      "state": {
       "description_width": ""
      }
     },
     "88b9e2d96d2b4c85b34b1b94c3341b79": {
      "model_module": "@jupyter-widgets/controls",
      "model_module_version": "1.1.0",
      "model_name": "DescriptionStyleModel",
      "state": {
       "description_width": ""
      }
     },
     "88badcd0a32141a2ab5db6a4c4d052f2": {
      "model_module": "@jupyter-widgets/controls",
      "model_module_version": "1.1.0",
      "model_name": "ToggleButtonsModel",
      "state": {
       "_options_labels": [
        "N (¹n)",
        "NDC (¹n)",
        "P (¹H)",
        "D (²H)"
       ],
       "button_style": "",
       "description": "Particle:",
       "icons": [],
       "index": 0,
       "layout": "IPY_MODEL_a4943de1efff43359180753e2490e53e",
       "style": "IPY_MODEL_6edb3e911d44441787d5be281679c7dd",
       "tooltips": [
        "Neutron",
        "Back Target Neutron",
        "Proton",
        "Deuteron"
       ]
      }
     },
     "88c16b0b83314b6692444ec6c22caa7f": {
      "model_module": "@jupyter-widgets/base",
      "model_module_version": "1.0.0",
      "model_name": "LayoutModel",
      "state": {}
     },
     "88cc195b5f6e4901bf6a0871b8ac57ab": {
      "model_module": "@jupyter-widgets/controls",
      "model_module_version": "1.1.0",
      "model_name": "DescriptionStyleModel",
      "state": {
       "description_width": ""
      }
     },
     "88cfa02151b34707990f8b6da4262858": {
      "model_module": "@jupyter-widgets/base",
      "model_module_version": "1.0.0",
      "model_name": "LayoutModel",
      "state": {}
     },
     "88ec45f597ab4cb1bda495f8be2aab17": {
      "model_module": "@jupyter-widgets/controls",
      "model_module_version": "1.1.0",
      "model_name": "LabelModel",
      "state": {
       "layout": "IPY_MODEL_f5ba8d79d7ac4a828e421fac15ac3d7a",
       "style": "IPY_MODEL_bf33cefc9a6c478fadc7163128193859",
       "value": "Select upstream target mass thickness."
      }
     },
     "8916808f573642e7a06afcd05d759af7": {
      "model_module": "@jupyter-widgets/controls",
      "model_module_version": "1.1.0",
      "model_name": "ToggleButtonsStyleModel",
      "state": {
       "button_width": "",
       "description_width": ""
      }
     },
     "89466c02b68748f8a436e8f91ceaa1c8": {
      "model_module": "@jupyter-widgets/controls",
      "model_module_version": "1.1.0",
      "model_name": "DescriptionStyleModel",
      "state": {
       "description_width": ""
      }
     },
     "895dda77f3cb4de99e970f760d35c69c": {
      "model_module": "@jupyter-widgets/controls",
      "model_module_version": "1.1.0",
      "model_name": "LabelModel",
      "state": {
       "layout": "IPY_MODEL_f46e27ea0a14453184f192527874afb7",
       "style": "IPY_MODEL_4b395f57c6674e77b411277989eacd52",
       "value": "Select which secondary particle to plot spectra for."
      }
     },
     "89ba51ac47ff491199111cd3336fdf93": {
      "model_module": "@jupyter-widgets/controls",
      "model_module_version": "1.1.0",
      "model_name": "DescriptionStyleModel",
      "state": {
       "description_width": ""
      }
     },
     "89d72556cc82438b93784ed100e9f5fc": {
      "model_module": "@jupyter-widgets/base",
      "model_module_version": "1.0.0",
      "model_name": "LayoutModel",
      "state": {}
     },
     "89eda586ef094d9e9d2cbe3f9c364b32": {
      "model_module": "@jupyter-widgets/controls",
      "model_module_version": "1.1.0",
      "model_name": "DescriptionStyleModel",
      "state": {
       "description_width": ""
      }
     },
     "8a3b8c64c63d4cc69d1a3a9b9f3d1edb": {
      "model_module": "@jupyter-widgets/controls",
      "model_module_version": "1.1.0",
      "model_name": "DescriptionStyleModel",
      "state": {
       "description_width": ""
      }
     },
     "8a8a3c66e387487d94d40df8daf3abec": {
      "model_module": "@jupyter-widgets/controls",
      "model_module_version": "1.1.0",
      "model_name": "ToggleButtonsStyleModel",
      "state": {
       "button_width": "",
       "description_width": ""
      }
     },
     "8b0eefb472c1489c9499bfca2575e77e": {
      "model_module": "@jupyter-widgets/base",
      "model_module_version": "1.0.0",
      "model_name": "LayoutModel",
      "state": {}
     },
     "8b392c0326854e5f93df8f993af5595f": {
      "model_module": "@jupyter-widgets/base",
      "model_module_version": "1.0.0",
      "model_name": "LayoutModel",
      "state": {}
     },
     "8b54b65353c24895a98b93779b430b43": {
      "model_module": "@jupyter-widgets/base",
      "model_module_version": "1.0.0",
      "model_name": "LayoutModel",
      "state": {}
     },
     "8b743d4952b248f7a36eb844c64b0788": {
      "model_module": "@jupyter-widgets/controls",
      "model_module_version": "1.1.0",
      "model_name": "DescriptionStyleModel",
      "state": {
       "description_width": ""
      }
     },
     "8bf2cf1a62d347b9847c01e5c3ab98b8": {
      "model_module": "@jupyter-widgets/controls",
      "model_module_version": "1.1.0",
      "model_name": "LabelModel",
      "state": {
       "layout": "IPY_MODEL_e6eec0d2d30c40cf81d419a89626b114",
       "style": "IPY_MODEL_4524981b64cd4317b83daa649d2fcda4",
       "value": "Select the detector angles to plot."
      }
     },
     "8c34c6dc7c9546548bfd9254a9e4b92d": {
      "model_module": "@jupyter-widgets/controls",
      "model_module_version": "1.1.0",
      "model_name": "LabelModel",
      "state": {
       "layout": "IPY_MODEL_bbfdb7e282fb4cf7a8c4f45ee8f7158b",
       "style": "IPY_MODEL_61906c76664a41d496cc06fad94da3da",
       "value": "Select which secondary particle to plot spectra for."
      }
     },
     "8c95c3d262bc46fa8546c9b5b76e652e": {
      "model_module": "@jupyter-widgets/controls",
      "model_module_version": "1.1.0",
      "model_name": "ToggleButtonsStyleModel",
      "state": {
       "button_width": "",
       "description_width": ""
      }
     },
     "8d01d2f5c2274b13984798d5294ef8a5": {
      "model_module": "@jupyter-widgets/base",
      "model_module_version": "1.0.0",
      "model_name": "LayoutModel",
      "state": {}
     },
     "8d81ca9c965a499a8da95886d9bab78d": {
      "model_module": "@jupyter-widgets/controls",
      "model_module_version": "1.1.0",
      "model_name": "CheckboxModel",
      "state": {
       "description": "32.7°",
       "disabled": false,
       "layout": "IPY_MODEL_3619c3db11734ddeae8b2aa3f02f7023",
       "style": "IPY_MODEL_fe443f51af184df68b3c56cf06f77457",
       "value": true
      }
     },
     "8d940d9289e04dd1a510e39ef6872793": {
      "model_module": "@jupyter-widgets/base",
      "model_module_version": "1.0.0",
      "model_name": "LayoutModel",
      "state": {}
     },
     "8de4e7cb679a44798964a2c36f75b7a3": {
      "model_module": "@jupyter-widgets/base",
      "model_module_version": "1.0.0",
      "model_name": "LayoutModel",
      "state": {}
     },
     "8e0c320fd5734317bb5f0a4dcabe63e9": {
      "model_module": "@jupyter-widgets/controls",
      "model_module_version": "1.1.0",
      "model_name": "DescriptionStyleModel",
      "state": {
       "description_width": ""
      }
     },
     "8e7f2696ab6a4fb79016841dd4e1fa51": {
      "model_module": "@jupyter-widgets/controls",
      "model_module_version": "1.1.0",
      "model_name": "DescriptionStyleModel",
      "state": {
       "description_width": ""
      }
     },
     "8e949d24e566410ab568643397076396": {
      "model_module": "@jupyter-widgets/controls",
      "model_module_version": "1.1.0",
      "model_name": "ToggleButtonsStyleModel",
      "state": {
       "button_width": "",
       "description_width": ""
      }
     },
     "8ea468f235574c918668b197248fbf7d": {
      "model_module": "@jupyter-widgets/base",
      "model_module_version": "1.0.0",
      "model_name": "LayoutModel",
      "state": {}
     },
     "8ec9509eb399439fb841e212539d7916": {
      "model_module": "@jupyter-widgets/controls",
      "model_module_version": "1.1.0",
      "model_name": "DescriptionStyleModel",
      "state": {
       "description_width": ""
      }
     },
     "8ed8b650b26e42d68204f2548436e14e": {
      "model_module": "@jupyter-widgets/controls",
      "model_module_version": "1.1.0",
      "model_name": "LabelModel",
      "state": {
       "layout": "IPY_MODEL_96f8ada5036e47b0bc92769bee94fae2",
       "style": "IPY_MODEL_e9543b4dab854cd4b3dc337b87fddb83",
       "value": "Select which secondary particle to plot spectra for."
      }
     },
     "8f29115be0cc42ca9b36a84cc9c75532": {
      "model_module": "@jupyter-widgets/controls",
      "model_module_version": "1.1.0",
      "model_name": "DescriptionStyleModel",
      "state": {
       "description_width": ""
      }
     },
     "8f66d762f6184414a9714cfc226381c1": {
      "model_module": "@jupyter-widgets/base",
      "model_module_version": "1.0.0",
      "model_name": "LayoutModel",
      "state": {}
     },
     "901472da340a4126b55be6bd6bcbdd1e": {
      "model_module": "@jupyter-widgets/controls",
      "model_module_version": "1.1.0",
      "model_name": "CheckboxModel",
      "state": {
       "description": "Experiment",
       "disabled": false,
       "layout": "IPY_MODEL_ebf7af92aa6d4d2d90ea7cdae6b2bd84",
       "style": "IPY_MODEL_8a3b8c64c63d4cc69d1a3a9b9f3d1edb",
       "value": true
      }
     },
     "90182fc3b98247dda06477453d580c02": {
      "model_module": "@jupyter-widgets/controls",
      "model_module_version": "1.1.0",
      "model_name": "DescriptionStyleModel",
      "state": {
       "description_width": ""
      }
     },
     "9068b5b316bf413bac4f0c0b2795de4c": {
      "model_module": "@jupyter-widgets/base",
      "model_module_version": "1.0.0",
      "model_name": "LayoutModel",
      "state": {}
     },
     "90d0ad0b2cd144658a89409c7d844d9d": {
      "model_module": "@jupyter-widgets/base",
      "model_module_version": "1.0.0",
      "model_name": "LayoutModel",
      "state": {}
     },
     "90ffbeb101af4bbd90b16067566474bf": {
      "model_module": "@jupyter-widgets/controls",
      "model_module_version": "1.1.0",
      "model_name": "ToggleButtonsModel",
      "state": {
       "_options_labels": [
        "N (¹n)",
        "NDC (¹n)",
        "P (¹H)",
        "D (²H)"
       ],
       "button_style": "",
       "description": "Type:",
       "icons": [],
       "index": 0,
       "layout": "IPY_MODEL_b607a8a1011f41e79657979eed2d5d47",
       "style": "IPY_MODEL_25a2ab9d4a05493d9ee1a481e7e8e612",
       "tooltips": [
        "Neutron",
        "Back Target Neutron",
        "Proton",
        "Deuteron"
       ]
      }
     },
     "914b47eafde94b19a9df65661a32de0e": {
      "model_module": "@jupyter-widgets/controls",
      "model_module_version": "1.1.0",
      "model_name": "LabelModel",
      "state": {
       "layout": "IPY_MODEL_fa76e56acdcd41718e0b25ba2bd643c5",
       "style": "IPY_MODEL_d8795ba803974c8c92ae1d6df80faf43",
       "value": "Select upstream target material and thickness."
      }
     },
     "915d6af61552476999a0a8e8c145399a": {
      "model_module": "@jupyter-widgets/controls",
      "model_module_version": "1.1.0",
      "model_name": "CheckboxModel",
      "state": {
       "description": "PHITS simulated",
       "disabled": false,
       "layout": "IPY_MODEL_5d11473ee0a449d0b93f46057bb10c7e",
       "style": "IPY_MODEL_c0499be5ef594524a3196add15ece8df",
       "value": true
      }
     },
     "9168e8c662ad4823a334127694bb01e1": {
      "model_module": "@jupyter-widgets/controls",
      "model_module_version": "1.1.0",
      "model_name": "ButtonModel",
      "state": {
       "button_style": "success",
       "description": "Update plot",
       "icon": "paint-brush",
       "layout": "IPY_MODEL_c760664bc998443bb84932afb31eaad6",
       "style": "IPY_MODEL_7356676fed21406e8f081dbe6e0a505a",
       "tooltip": "Click to redraw the plot below with updated options from above."
      }
     },
     "9180d374d3b3454293724d57c1893023": {
      "model_module": "@jupyter-widgets/controls",
      "model_module_version": "1.1.0",
      "model_name": "DescriptionStyleModel",
      "state": {
       "description_width": ""
      }
     },
     "9205c477a1be4469b22d1997d942407d": {
      "model_module": "@jupyter-widgets/base",
      "model_module_version": "1.0.0",
      "model_name": "LayoutModel",
      "state": {}
     },
     "92154e0fd2d046869b4d0e4406a04164": {
      "model_module": "@jupyter-widgets/controls",
      "model_module_version": "1.1.0",
      "model_name": "DescriptionStyleModel",
      "state": {
       "description_width": ""
      }
     },
     "92189b9cf45c4ed08fd8dd8ba2c3c3cf": {
      "model_module": "@jupyter-widgets/controls",
      "model_module_version": "1.1.0",
      "model_name": "CheckboxModel",
      "state": {
       "description": "45°",
       "disabled": false,
       "layout": "IPY_MODEL_fb2e1b8ea9c74243b274d3c0c73fb9f8",
       "style": "IPY_MODEL_c8211cb6300e44fa966325786ab29b71",
       "value": true
      }
     },
     "922f9e22784b4ae2bb657e36623d08f7": {
      "model_module": "@jupyter-widgets/base",
      "model_module_version": "1.0.0",
      "model_name": "LayoutModel",
      "state": {}
     },
     "92968da7fb804ac7905e1727770190f9": {
      "model_module": "@jupyter-widgets/controls",
      "model_module_version": "1.1.0",
      "model_name": "CheckboxModel",
      "state": {
       "description": "30°",
       "disabled": false,
       "layout": "IPY_MODEL_4b313ade035346c08238c3d82576da2f",
       "style": "IPY_MODEL_bcb669779e704f5bbc7005e2a8fe5f34",
       "value": true
      }
     },
     "92f2d639f6fa407dbcd48928ff1edcf4": {
      "model_module": "@jupyter-widgets/controls",
      "model_module_version": "1.1.0",
      "model_name": "LabelModel",
      "state": {
       "layout": "IPY_MODEL_48d6a29de3fe4b21a4933651013ca17c",
       "style": "IPY_MODEL_a410023c692b43789d99c69fccbf3d0c",
       "value": "Select the detector angles to plot."
      }
     },
     "933c72475e084d81ac77d6da3209cd71": {
      "model_module": "@jupyter-widgets/base",
      "model_module_version": "1.0.0",
      "model_name": "LayoutModel",
      "state": {}
     },
     "93943ba745a54fbdb76d8f83ca68e798": {
      "model_module": "@jupyter-widgets/controls",
      "model_module_version": "1.1.0",
      "model_name": "CheckboxModel",
      "state": {
       "description": "60°",
       "disabled": false,
       "layout": "IPY_MODEL_35c7769a9a5642218152dd0a873130f5",
       "style": "IPY_MODEL_82fdb15c3b674b6292666eda2a30a34b",
       "value": true
      }
     },
     "94435b3fbd774ecb9620eeafcda40e7b": {
      "model_module": "@jupyter-widgets/base",
      "model_module_version": "1.0.0",
      "model_name": "LayoutModel",
      "state": {}
     },
     "94458a1ede7b40a59b7adde0d00b199b": {
      "model_module": "@jupyter-widgets/base",
      "model_module_version": "1.0.0",
      "model_name": "LayoutModel",
      "state": {}
     },
     "945fd25c30d0494197276661c03dc671": {
      "model_module": "@jupyter-widgets/base",
      "model_module_version": "1.0.0",
      "model_name": "LayoutModel",
      "state": {}
     },
     "94b023f46072463da950114129668831": {
      "model_module": "@jupyter-widgets/controls",
      "model_module_version": "1.1.0",
      "model_name": "DescriptionStyleModel",
      "state": {
       "description_width": ""
      }
     },
     "94cb113af46b4b27bba6ea5bb092f01a": {
      "model_module": "@jupyter-widgets/controls",
      "model_module_version": "1.1.0",
      "model_name": "LabelModel",
      "state": {
       "layout": "IPY_MODEL_17bae485d4da4ee1af714e9f524d5da1",
       "style": "IPY_MODEL_fcdc8c835ef542a39bbe81e117c15446",
       "value": "Select how data sets for each detector should be spaced apart (if at all)."
      }
     },
     "94da22d978d74dd581dee928434555b2": {
      "model_module": "@jupyter-widgets/controls",
      "model_module_version": "1.1.0",
      "model_name": "CheckboxModel",
      "state": {
       "description": "80°",
       "disabled": false,
       "layout": "IPY_MODEL_6875058ca28d415ebf3402c09385b7de",
       "style": "IPY_MODEL_05d44f7bd9aa41a9b3174967dca3017e",
       "value": true
      }
     },
     "94f922cfd08645dbadb59353c980e910": {
      "model_module": "@jupyter-widgets/controls",
      "model_module_version": "1.1.0",
      "model_name": "DescriptionStyleModel",
      "state": {
       "description_width": ""
      }
     },
     "95bf02f7406a4d3195351765c5517c43": {
      "model_module": "@jupyter-widgets/controls",
      "model_module_version": "1.1.0",
      "model_name": "DescriptionStyleModel",
      "state": {
       "description_width": ""
      }
     },
     "9615104881154fcfa004fddcec99c116": {
      "model_module": "@jupyter-widgets/controls",
      "model_module_version": "1.1.0",
      "model_name": "DescriptionStyleModel",
      "state": {
       "description_width": ""
      }
     },
     "9628c678b21e4fbd866813c76412cb27": {
      "model_module": "@jupyter-widgets/controls",
      "model_module_version": "1.1.0",
      "model_name": "LabelModel",
      "state": {
       "layout": "IPY_MODEL_34f5e5e0307f417ea79d6d97d9afd5f1",
       "style": "IPY_MODEL_a3226dc7be214e14b368365138b0cf25",
       "value": "Select the detector angles to plot."
      }
     },
     "967b141189f74ccab36ab8014846abc2": {
      "model_module": "@jupyter-widgets/controls",
      "model_module_version": "1.1.0",
      "model_name": "ToggleButtonsStyleModel",
      "state": {
       "button_width": "",
       "description_width": ""
      }
     },
     "968d972512a14609a9d52d3d9e1341ca": {
      "model_module": "@jupyter-widgets/controls",
      "model_module_version": "1.1.0",
      "model_name": "DescriptionStyleModel",
      "state": {
       "description_width": ""
      }
     },
     "96da12b143364498a1f8e79fa09113ba": {
      "model_module": "@jupyter-widgets/base",
      "model_module_version": "1.0.0",
      "model_name": "LayoutModel",
      "state": {}
     },
     "96f8ada5036e47b0bc92769bee94fae2": {
      "model_module": "@jupyter-widgets/base",
      "model_module_version": "1.0.0",
      "model_name": "LayoutModel",
      "state": {}
     },
     "971f0dbff63f4d7081c8ea05f263b00d": {
      "model_module": "@jupyter-widgets/controls",
      "model_module_version": "1.1.0",
      "model_name": "ToggleButtonsModel",
      "state": {
       "_options_labels": [
        "N (¹n)",
        "NDC (¹n)",
        "P (¹H)",
        "D (²H)",
        "T (³H)",
        "S (³He)",
        "A (⁴He)"
       ],
       "button_style": "",
       "description": "Type:",
       "icons": [],
       "index": 3,
       "layout": "IPY_MODEL_1d72fdf622c6443bb22fe880f8a2aa5c",
       "style": "IPY_MODEL_8c95c3d262bc46fa8546c9b5b76e652e",
       "tooltips": [
        "Neutron",
        "Back Target Neutron",
        "Proton",
        "Deuteron",
        "Triton",
        "Helium-3",
        "Helium-4"
       ]
      }
     },
     "9730523592704f18b6013cd438afad49": {
      "model_module": "@jupyter-widgets/controls",
      "model_module_version": "1.1.0",
      "model_name": "LabelModel",
      "state": {
       "layout": "IPY_MODEL_89d72556cc82438b93784ed100e9f5fc",
       "style": "IPY_MODEL_078ada0077324c248ec853179331469f",
       "value": "Select projectile ion energy."
      }
     },
     "97943902601a413d9513a4e7bec6f8a8": {
      "model_module": "@jupyter-widgets/base",
      "model_module_version": "1.0.0",
      "model_name": "LayoutModel",
      "state": {}
     },
     "97954afcbea94f4f9fc07ecfe9a9f91d": {
      "model_module": "@jupyter-widgets/base",
      "model_module_version": "1.0.0",
      "model_name": "LayoutModel",
      "state": {}
     },
     "9796719f62764bd8bbf944fa40f90650": {
      "model_module": "@jupyter-widgets/controls",
      "model_module_version": "1.1.0",
      "model_name": "CheckboxModel",
      "state": {
       "description": "45°",
       "disabled": false,
       "layout": "IPY_MODEL_2fdaee955b814f53adcb0097d9ca7d0a",
       "style": "IPY_MODEL_03712579db5b417eb16f345eff7e67a8",
       "value": true
      }
     },
     "97998ff7c23540418583446728836fec": {
      "model_module": "@jupyter-widgets/controls",
      "model_module_version": "1.1.0",
      "model_name": "DescriptionStyleModel",
      "state": {
       "description_width": ""
      }
     },
     "97c4e769ee4341f494407bde8dbce5c5": {
      "model_module": "@jupyter-widgets/controls",
      "model_module_version": "1.1.0",
      "model_name": "LabelModel",
      "state": {
       "layout": "IPY_MODEL_fa1bd53915424fa1ab587c57ab48f080",
       "style": "IPY_MODEL_aa1a47aaec0f414d8480b69918503e93",
       "value": "Select upstream target mass thickness."
      }
     },
     "97e099afd8e64083a0da0bf3c9205a3b": {
      "model_module": "@jupyter-widgets/controls",
      "model_module_version": "1.1.0",
      "model_name": "CheckboxModel",
      "state": {
       "description": "60°",
       "disabled": false,
       "layout": "IPY_MODEL_2c1995101fa74608bb3c56edc2c8d1c6",
       "style": "IPY_MODEL_0f64b367e84944c6bb9f39de60b04729",
       "value": true
      }
     },
     "981cdde308eb4481983d9a466e0bac36": {
      "model_module": "@jupyter-widgets/base",
      "model_module_version": "1.0.0",
      "model_name": "LayoutModel",
      "state": {}
     },
     "9871518fbb424f9fb82122b1118f1676": {
      "model_module": "@jupyter-widgets/base",
      "model_module_version": "1.0.0",
      "model_name": "LayoutModel",
      "state": {}
     },
     "9872c102cabd49cdb5f48220b334548f": {
      "model_module": "@jupyter-widgets/base",
      "model_module_version": "1.0.0",
      "model_name": "LayoutModel",
      "state": {}
     },
     "98753889ae644f97a385da2841d81ec5": {
      "model_module": "@jupyter-widgets/base",
      "model_module_version": "1.0.0",
      "model_name": "LayoutModel",
      "state": {}
     },
     "98c085b49e204c9f976cb4af179fae94": {
      "model_module": "@jupyter-widgets/controls",
      "model_module_version": "1.1.0",
      "model_name": "DescriptionStyleModel",
      "state": {
       "description_width": ""
      }
     },
     "9935277d35c1402bb49416768a7b9ce1": {
      "model_module": "@jupyter-widgets/base",
      "model_module_version": "1.0.0",
      "model_name": "LayoutModel",
      "state": {}
     },
     "994c2a00c9b5436b91b975bafd760584": {
      "model_module": "@jupyter-widgets/base",
      "model_module_version": "1.0.0",
      "model_name": "LayoutModel",
      "state": {}
     },
     "99b698eb56d747a4b5796dc5533fe444": {
      "model_module": "@jupyter-widgets/base",
      "model_module_version": "1.0.0",
      "model_name": "LayoutModel",
      "state": {}
     },
     "9a0974ca170a48b6b4a0fcc84a2a35a4": {
      "model_module": "@jupyter-widgets/controls",
      "model_module_version": "1.1.0",
      "model_name": "ToggleButtonsStyleModel",
      "state": {
       "button_width": "",
       "description_width": ""
      }
     },
     "9a1f984c3c80443292067dab89b6fd20": {
      "model_module": "@jupyter-widgets/base",
      "model_module_version": "1.0.0",
      "model_name": "LayoutModel",
      "state": {}
     },
     "9a4aa930bbde477c81a91da2625757c7": {
      "model_module": "@jupyter-widgets/controls",
      "model_module_version": "1.1.0",
      "model_name": "CheckboxModel",
      "state": {
       "description": "60°",
       "disabled": false,
       "layout": "IPY_MODEL_aa9ce7dc21004692afd0bf9d3f368c59",
       "style": "IPY_MODEL_bb9f995dec93484fbc27fa706f5fd3f1",
       "value": true
      }
     },
     "9a782c49ef184e6187246afe41090552": {
      "model_module": "@jupyter-widgets/controls",
      "model_module_version": "1.1.0",
      "model_name": "DescriptionStyleModel",
      "state": {
       "description_width": ""
      }
     },
     "9b14279d18ab4f00abe0cb962671e9ff": {
      "model_module": "@jupyter-widgets/controls",
      "model_module_version": "1.1.0",
      "model_name": "CheckboxModel",
      "state": {
       "description": "10°",
       "disabled": false,
       "layout": "IPY_MODEL_1ea81ce3204a4d4c865e413aa9de17b2",
       "style": "IPY_MODEL_baa9ddbc265546269ba4c9d6de39ae5a",
       "value": true
      }
     },
     "9b80b536f8134456afcfab7a234face8": {
      "model_module": "@jupyter-widgets/controls",
      "model_module_version": "1.1.0",
      "model_name": "DescriptionStyleModel",
      "state": {
       "description_width": ""
      }
     },
     "9b930e4743cd49ad892e2565cb83d894": {
      "model_module": "@jupyter-widgets/controls",
      "model_module_version": "1.1.0",
      "model_name": "DescriptionStyleModel",
      "state": {
       "description_width": ""
      }
     },
     "9bc2ba7a19f74af4ae4a126910a7c81b": {
      "model_module": "@jupyter-widgets/controls",
      "model_module_version": "1.1.0",
      "model_name": "DescriptionStyleModel",
      "state": {
       "description_width": ""
      }
     },
     "9c0fbf4338534d459b3867084725c7ec": {
      "model_module": "@jupyter-widgets/controls",
      "model_module_version": "1.1.0",
      "model_name": "DescriptionStyleModel",
      "state": {
       "description_width": ""
      }
     },
     "9c2341159be54ea0a13ff26b90f2c396": {
      "model_module": "@jupyter-widgets/base",
      "model_module_version": "1.0.0",
      "model_name": "LayoutModel",
      "state": {}
     },
     "9c3d1a868c3744808e6abb20b62e5b3c": {
      "model_module": "@jupyter-widgets/base",
      "model_module_version": "1.0.0",
      "model_name": "LayoutModel",
      "state": {}
     },
     "9c67b4d755aa4501a1ed4aaaa4694fee": {
      "model_module": "@jupyter-widgets/controls",
      "model_module_version": "1.1.0",
      "model_name": "LabelModel",
      "state": {
       "layout": "IPY_MODEL_d656614de7e54e42afa5eab1410a0eca",
       "style": "IPY_MODEL_c55be318b618401aa49426e531b98d5a",
       "value": "Select which secondary particle to plot spectra for."
      }
     },
     "9c750331100c4339ba5cdad0d8689798": {
      "model_module": "@jupyter-widgets/controls",
      "model_module_version": "1.1.0",
      "model_name": "DescriptionStyleModel",
      "state": {
       "description_width": ""
      }
     },
     "9d2ca49e71084fcebda49271927b97a7": {
      "model_module": "@jupyter-widgets/controls",
      "model_module_version": "1.1.0",
      "model_name": "CheckboxModel",
      "state": {
       "description": "10°",
       "disabled": false,
       "layout": "IPY_MODEL_676c9ec4db9c4580a6d02dba2ee14cc3",
       "style": "IPY_MODEL_236665dcbcc84145aec131dc47a4833b",
       "value": true
      }
     },
     "9d4af918c79e4649b91b52b135f6205d": {
      "model_module": "@jupyter-widgets/controls",
      "model_module_version": "1.1.0",
      "model_name": "DescriptionStyleModel",
      "state": {
       "description_width": ""
      }
     },
     "9d7a1428bf78413ab9bb86941080f268": {
      "model_module": "@jupyter-widgets/base",
      "model_module_version": "1.0.0",
      "model_name": "LayoutModel",
      "state": {}
     },
     "9dd994dfe1494c828611dab8b7c1157e": {
      "model_module": "@jupyter-widgets/base",
      "model_module_version": "1.0.0",
      "model_name": "LayoutModel",
      "state": {}
     },
     "9de6726f2e004bd3877caf19cbe4426f": {
      "model_module": "@jupyter-widgets/controls",
      "model_module_version": "1.1.0",
      "model_name": "DescriptionStyleModel",
      "state": {
       "description_width": ""
      }
     },
     "9df5e30e52af4895a58f44d6d6a0c613": {
      "model_module": "@jupyter-widgets/controls",
      "model_module_version": "1.1.0",
      "model_name": "LabelModel",
      "state": {
       "layout": "IPY_MODEL_7226f67f91d7466385caf9785e71e0e7",
       "style": "IPY_MODEL_5eae71481201469a9f41f176634ff53e",
       "value": "Select which secondary particle to plot spectra for."
      }
     },
     "9e2c6f63a265431299c9ca9a10934306": {
      "model_module": "@jupyter-widgets/controls",
      "model_module_version": "1.1.0",
      "model_name": "ToggleButtonsModel",
      "state": {
       "_options_labels": [
        "400 MeV",
        "800 MeV",
        "2500 MeV"
       ],
       "button_style": "",
       "description": "Energy:",
       "icons": [],
       "index": 0,
       "layout": "IPY_MODEL_71b7722d056a4b0f8361f2d9d50b1a9f",
       "style": "IPY_MODEL_db5db616c7af47308fb873261c5e5e7b",
       "tooltips": [
        "lowest energy",
        "middle energy",
        "highest energy"
       ]
      }
     },
     "9e2e9bfe6f124f16b3ccb2a441fd477c": {
      "model_module": "@jupyter-widgets/controls",
      "model_module_version": "1.1.0",
      "model_name": "LabelModel",
      "state": {
       "layout": "IPY_MODEL_da1ae399ff994bd6917366e2a1af5b33",
       "style": "IPY_MODEL_431cb5160efb42c1be6d872d56c3b795",
       "value": "Select which secondary particle to plot spectra for."
      }
     },
     "9e70dabc9cec4089a4b8308037cdecb1": {
      "model_module": "@jupyter-widgets/base",
      "model_module_version": "1.0.0",
      "model_name": "LayoutModel",
      "state": {}
     },
     "9e76e71b2ce946968f7ea2d6d5db2441": {
      "model_module": "@jupyter-widgets/base",
      "model_module_version": "1.0.0",
      "model_name": "LayoutModel",
      "state": {}
     },
     "9e9d3da6a114417db755081c1119c914": {
      "model_module": "@jupyter-widgets/controls",
      "model_module_version": "1.1.0",
      "model_name": "ToggleButtonsModel",
      "state": {
       "_options_labels": [
        "N (¹n)",
        "NDC (¹n)",
        "P (¹H)",
        "D (²H)",
        "T (³H)",
        "S (³He)",
        "A (⁴He)"
       ],
       "button_style": "",
       "description": "Type:",
       "icons": [],
       "index": 0,
       "layout": "IPY_MODEL_61335b6f99b3431594c37c7bacfd72c9",
       "style": "IPY_MODEL_1abe2f30b79f4701a9f94cf1a438e122",
       "tooltips": [
        "Neutron",
        "Back Target Neutron",
        "Proton",
        "Deuteron",
        "Triton",
        "Helium-3",
        "Helium-4"
       ]
      }
     },
     "9eba4cf6274048188693b18ae48e4e52": {
      "model_module": "@jupyter-widgets/base",
      "model_module_version": "1.0.0",
      "model_name": "LayoutModel",
      "state": {}
     },
     "9ebc4e97c55b459f85d9b769bce74ce0": {
      "model_module": "@jupyter-widgets/base",
      "model_module_version": "1.0.0",
      "model_name": "LayoutModel",
      "state": {}
     },
     "9ecc5a915ae742e0a270e8e6ff0bf4bd": {
      "model_module": "@jupyter-widgets/base",
      "model_module_version": "1.0.0",
      "model_name": "LayoutModel",
      "state": {}
     },
     "9f10af26b0b44a58a854ace8e990c731": {
      "model_module": "@jupyter-widgets/base",
      "model_module_version": "1.0.0",
      "model_name": "LayoutModel",
      "state": {}
     },
     "9f147ccc43bd4e22aacf7fd9d70c69e9": {
      "model_module": "@jupyter-widgets/controls",
      "model_module_version": "1.1.0",
      "model_name": "LabelModel",
      "state": {
       "layout": "IPY_MODEL_de211141ed4840f4b0dbc62e00d0f764",
       "style": "IPY_MODEL_0cc5ed2fc18449fb9cdba5cdc70bab69",
       "value": "Select which secondary particle to plot spectra for."
      }
     },
     "9f3f0ab9fa1442c490c91b91cf27c121": {
      "model_module": "@jupyter-widgets/controls",
      "model_module_version": "1.1.0",
      "model_name": "LabelModel",
      "state": {
       "layout": "IPY_MODEL_2e428f21ef224ed19a67939436536d65",
       "style": "IPY_MODEL_1e80c9c610b14a8cbdf136d7def2e4a6",
       "value": "Select which secondary particle to plot spectra for."
      }
     },
     "9fb91dc68d1e42289c11d12858d52439": {
      "model_module": "@jupyter-widgets/controls",
      "model_module_version": "1.1.0",
      "model_name": "DescriptionStyleModel",
      "state": {
       "description_width": ""
      }
     },
     "9fc3301f6be746b3b12b26b043f73985": {
      "model_module": "@jupyter-widgets/base",
      "model_module_version": "1.0.0",
      "model_name": "LayoutModel",
      "state": {}
     },
     "9ff423d239b843e9837184497a85d68c": {
      "model_module": "@jupyter-widgets/controls",
      "model_module_version": "1.1.0",
      "model_name": "DescriptionStyleModel",
      "state": {
       "description_width": ""
      }
     },
     "a01d9af1cbfb457ca40b4d16191dd9f8": {
      "model_module": "@jupyter-widgets/base",
      "model_module_version": "1.0.0",
      "model_name": "LayoutModel",
      "state": {}
     },
     "a02324d66cae4bcdad77709c8ea30df5": {
      "model_module": "@jupyter-widgets/controls",
      "model_module_version": "1.1.0",
      "model_name": "DescriptionStyleModel",
      "state": {
       "description_width": ""
      }
     },
     "a02fa49cb30d40c4823416bf6ad3c976": {
      "model_module": "@jupyter-widgets/controls",
      "model_module_version": "1.1.0",
      "model_name": "DescriptionStyleModel",
      "state": {
       "description_width": ""
      }
     },
     "a03b342b4ee6435789e02660b392b643": {
      "model_module": "@jupyter-widgets/controls",
      "model_module_version": "1.1.0",
      "model_name": "CheckboxModel",
      "state": {
       "description": "32.7°",
       "disabled": false,
       "layout": "IPY_MODEL_5f80d1cf22234e7594f18187386c28aa",
       "style": "IPY_MODEL_7b3e842f80114890b82b120bf12a2673",
       "value": true
      }
     },
     "a04b56b70c6047e7b67fb614b236f0a7": {
      "model_module": "@jupyter-widgets/controls",
      "model_module_version": "1.1.0",
      "model_name": "DescriptionStyleModel",
      "state": {
       "description_width": ""
      }
     },
     "a05914b55e5d40649e03350e6eb3630a": {
      "model_module": "@jupyter-widgets/controls",
      "model_module_version": "1.1.0",
      "model_name": "DescriptionStyleModel",
      "state": {
       "description_width": ""
      }
     },
     "a08b30dbe8df48e1b9b7d32efe18f57e": {
      "model_module": "@jupyter-widgets/base",
      "model_module_version": "1.0.0",
      "model_name": "LayoutModel",
      "state": {}
     },
     "a0f6ed37f9f14faeb429c96a040ff9f6": {
      "model_module": "@jupyter-widgets/controls",
      "model_module_version": "1.1.0",
      "model_name": "LabelModel",
      "state": {
       "layout": "IPY_MODEL_6d95059981624950879bdfebbe0d9296",
       "style": "IPY_MODEL_45b9d236dbbf4356aafdb480f24a11d5",
       "value": "Select projectile ion species and energy."
      }
     },
     "a0f8ff67cce34c4a927a05fb1ee2c88f": {
      "model_module": "@jupyter-widgets/controls",
      "model_module_version": "1.1.0",
      "model_name": "DescriptionStyleModel",
      "state": {
       "description_width": ""
      }
     },
     "a0fb516231fc4c46bebbabd867d9dd0e": {
      "model_module": "@jupyter-widgets/controls",
      "model_module_version": "1.1.0",
      "model_name": "DescriptionStyleModel",
      "state": {
       "description_width": ""
      }
     },
     "a0fb67ecb4a942b7a78ee7c2ecd1bea7": {
      "model_module": "@jupyter-widgets/controls",
      "model_module_version": "1.1.0",
      "model_name": "LabelModel",
      "state": {
       "layout": "IPY_MODEL_feb773bb2249497ab65e8cae32c67021",
       "style": "IPY_MODEL_39282a4457f7401399ee1d29a15a961f",
       "value": "Select the detector angles to plot."
      }
     },
     "a1508f29519446cb89354baa0c079653": {
      "model_module": "@jupyter-widgets/base",
      "model_module_version": "1.0.0",
      "model_name": "LayoutModel",
      "state": {}
     },
     "a170331431ec446bb37fa1103c649671": {
      "model_module": "@jupyter-widgets/base",
      "model_module_version": "1.0.0",
      "model_name": "LayoutModel",
      "state": {}
     },
     "a17e18225617407bad9ea54d14d3ff8f": {
      "model_module": "@jupyter-widgets/base",
      "model_module_version": "1.0.0",
      "model_name": "LayoutModel",
      "state": {}
     },
     "a17e5aded5b64ba3a833ad45ea3a34bf": {
      "model_module": "@jupyter-widgets/controls",
      "model_module_version": "1.1.0",
      "model_name": "DescriptionStyleModel",
      "state": {
       "description_width": ""
      }
     },
     "a1859d0bd77940e8bff854c9cf2fdc28": {
      "model_module": "@jupyter-widgets/controls",
      "model_module_version": "1.1.0",
      "model_name": "ToggleButtonsModel",
      "state": {
       "_options_labels": [
        "H",
        "He",
        "C",
        "Si",
        "Fe"
       ],
       "button_style": "",
       "description": "Ion:",
       "icons": [],
       "index": 0,
       "layout": "IPY_MODEL_87b03a1bc88941419b080527b7fd800c",
       "style": "IPY_MODEL_00f95cd13fc5493dbd84db161aa668d2",
       "tooltips": [
        "Hydrogen",
        "Helium",
        "Carbon",
        "Silicon",
        "Iron"
       ]
      }
     },
     "a1ba6864738b4cca8debf4d5215d5213": {
      "model_module": "@jupyter-widgets/base",
      "model_module_version": "1.0.0",
      "model_name": "LayoutModel",
      "state": {}
     },
     "a1c93c2d5f0a42e384fcdabc98b67ee2": {
      "model_module": "@jupyter-widgets/base",
      "model_module_version": "1.0.0",
      "model_name": "LayoutModel",
      "state": {}
     },
     "a1d7582a334b4f618aeba1959ba1afa2": {
      "model_module": "@jupyter-widgets/controls",
      "model_module_version": "1.1.0",
      "model_name": "LabelModel",
      "state": {
       "layout": "IPY_MODEL_60640bc143d7461fa221ade3e9a1babf",
       "style": "IPY_MODEL_50bb39ba82dd4e0f928548cbc1e56055",
       "value": "Select the detector angles to plot."
      }
     },
     "a1f8d073dfd248cea3df0a3525424b95": {
      "model_module": "@jupyter-widgets/base",
      "model_module_version": "1.0.0",
      "model_name": "LayoutModel",
      "state": {}
     },
     "a2086798ef484598952202fa5e9685c9": {
      "model_module": "@jupyter-widgets/controls",
      "model_module_version": "1.1.0",
      "model_name": "CheckboxModel",
      "state": {
       "description": "32.7°",
       "disabled": false,
       "layout": "IPY_MODEL_1961e98b7ac3486ebc1961e8cfeef51c",
       "style": "IPY_MODEL_63f3673c4a8d4904b8b4957354acdb7a",
       "value": true
      }
     },
     "a21733351934434e81f1b8634ffd4249": {
      "model_module": "@jupyter-widgets/controls",
      "model_module_version": "1.1.0",
      "model_name": "CheckboxModel",
      "state": {
       "description": "10°",
       "disabled": false,
       "layout": "IPY_MODEL_ce360aefa9294facabe1ee60bc0862de",
       "style": "IPY_MODEL_e2c1797b522b46c098590f29c80eda32",
       "value": true
      }
     },
     "a26a19e574a74b3aad7172dac323e62c": {
      "model_module": "@jupyter-widgets/controls",
      "model_module_version": "1.1.0",
      "model_name": "ToggleButtonsStyleModel",
      "state": {
       "button_width": "",
       "description_width": ""
      }
     },
     "a2733a53a33c469f9e74e92e8a087019": {
      "model_module": "@jupyter-widgets/controls",
      "model_module_version": "1.1.0",
      "model_name": "DescriptionStyleModel",
      "state": {
       "description_width": ""
      }
     },
     "a2a45a749e3a406aaddcaffab4403d71": {
      "model_module": "@jupyter-widgets/controls",
      "model_module_version": "1.1.0",
      "model_name": "LabelModel",
      "state": {
       "layout": "IPY_MODEL_13ca9599e8a6458b9f877c77a465cadf",
       "style": "IPY_MODEL_31bedefb041d45bc8089755ad4dee01e",
       "value": "Select the detector angles to plot."
      }
     },
     "a2bdbe1494814ef3a232b1d38c24af35": {
      "model_module": "@jupyter-widgets/base",
      "model_module_version": "1.0.0",
      "model_name": "LayoutModel",
      "state": {}
     },
     "a2de60ea094a4b74a1566c0c53e204dc": {
      "model_module": "@jupyter-widgets/controls",
      "model_module_version": "1.1.0",
      "model_name": "ToggleButtonsStyleModel",
      "state": {
       "button_width": "",
       "description_width": ""
      }
     },
     "a321347d4d5f4ecb987a829fce03e8c4": {
      "model_module": "@jupyter-widgets/controls",
      "model_module_version": "1.1.0",
      "model_name": "DescriptionStyleModel",
      "state": {
       "description_width": ""
      }
     },
     "a3226dc7be214e14b368365138b0cf25": {
      "model_module": "@jupyter-widgets/controls",
      "model_module_version": "1.1.0",
      "model_name": "DescriptionStyleModel",
      "state": {
       "description_width": ""
      }
     },
     "a32596ccc6844d88beffb3e6617460f0": {
      "model_module": "@jupyter-widgets/base",
      "model_module_version": "1.0.0",
      "model_name": "LayoutModel",
      "state": {}
     },
     "a34bddacd7c846048547679dac7f6991": {
      "model_module": "@jupyter-widgets/controls",
      "model_module_version": "1.1.0",
      "model_name": "LabelModel",
      "state": {
       "layout": "IPY_MODEL_545ebc91c17c4aa6959b057a16b3ac92",
       "style": "IPY_MODEL_a778cf604d174f4d9efe53ae6dfcc98b",
       "value": "Select upstream target mass thickness."
      }
     },
     "a369064e5b44428d8172adba0d439f70": {
      "model_module": "@jupyter-widgets/controls",
      "model_module_version": "1.1.0",
      "model_name": "DescriptionStyleModel",
      "state": {
       "description_width": ""
      }
     },
     "a37c33a2be514ce6b6365c51523ce460": {
      "model_module": "@jupyter-widgets/controls",
      "model_module_version": "1.1.0",
      "model_name": "LabelModel",
      "state": {
       "layout": "IPY_MODEL_f8187533cbd64b0f92011819d7ecc492",
       "style": "IPY_MODEL_442ac209cf4f4253a7d278fb37682d26",
       "value": "Select projectile ion energy."
      }
     },
     "a38c5526261a44588ed4a03810dd74de": {
      "model_module": "@jupyter-widgets/controls",
      "model_module_version": "1.1.0",
      "model_name": "ToggleButtonsModel",
      "state": {
       "_options_labels": [
        "N (¹n)",
        "NDC (¹n)",
        "P (¹H)",
        "D (²H)",
        "T (³H)",
        "S (³He)",
        "A (⁴He)"
       ],
       "button_style": "",
       "description": "Type:",
       "icons": [],
       "index": 0,
       "layout": "IPY_MODEL_14fafc4eb4bf469cae61c06d8cce53bf",
       "style": "IPY_MODEL_403956e3427d41e39e4ca6ce37a021f3",
       "tooltips": [
        "Neutron",
        "Back Target Neutron",
        "Proton",
        "Deuteron",
        "Triton",
        "Helium-3",
        "Helium-4"
       ]
      }
     },
     "a3a4a3661a1245309cad93b6359eb7e0": {
      "model_module": "@jupyter-widgets/base",
      "model_module_version": "1.0.0",
      "model_name": "LayoutModel",
      "state": {}
     },
     "a3f03c52452f4040b71e2bb824bf4b8b": {
      "model_module": "@jupyter-widgets/controls",
      "model_module_version": "1.1.0",
      "model_name": "DescriptionStyleModel",
      "state": {
       "description_width": ""
      }
     },
     "a410023c692b43789d99c69fccbf3d0c": {
      "model_module": "@jupyter-widgets/controls",
      "model_module_version": "1.1.0",
      "model_name": "DescriptionStyleModel",
      "state": {
       "description_width": ""
      }
     },
     "a430f5e1f8104030adc87152f743628c": {
      "model_module": "@jupyter-widgets/base",
      "model_module_version": "1.0.0",
      "model_name": "LayoutModel",
      "state": {}
     },
     "a46faac67e3c484db0c7d7646c36f03c": {
      "model_module": "@jupyter-widgets/controls",
      "model_module_version": "1.1.0",
      "model_name": "LabelModel",
      "state": {
       "layout": "IPY_MODEL_2f9f375ed8694a78a0160c1848befb47",
       "style": "IPY_MODEL_d48a7a058fb447fab5d67609ac3ff4e6",
       "value": "Select a detector type."
      }
     },
     "a492ac76f1b94b6a9eb892afe1c19c06": {
      "model_module": "@jupyter-widgets/base",
      "model_module_version": "1.0.0",
      "model_name": "LayoutModel",
      "state": {}
     },
     "a4943de1efff43359180753e2490e53e": {
      "model_module": "@jupyter-widgets/base",
      "model_module_version": "1.0.0",
      "model_name": "LayoutModel",
      "state": {}
     },
     "a4b0d07e296942e08a63cd4351a1ad3d": {
      "model_module": "@jupyter-widgets/controls",
      "model_module_version": "1.1.0",
      "model_name": "CheckboxModel",
      "state": {
       "description": "45°",
       "disabled": false,
       "layout": "IPY_MODEL_2a6a5bce17a946f98b9b7c3a32c9d1cd",
       "style": "IPY_MODEL_73138b754209406a8c76f8b0357ac687",
       "value": true
      }
     },
     "a53084ae74bf4682b26cbdd8f14db5c5": {
      "model_module": "@jupyter-widgets/controls",
      "model_module_version": "1.1.0",
      "model_name": "ToggleButtonsModel",
      "state": {
       "_options_labels": [
        "N (¹n)",
        "NDC (¹n)",
        "P (¹H)",
        "D (²H)"
       ],
       "button_style": "",
       "description": "Particle:",
       "icons": [],
       "index": 0,
       "layout": "IPY_MODEL_96da12b143364498a1f8e79fa09113ba",
       "style": "IPY_MODEL_7d315670ef4f4b77a3c4bdbb3d99313c",
       "tooltips": [
        "Neutron",
        "Back Target Neutron",
        "Proton",
        "Deuteron"
       ]
      }
     },
     "a59b588a6e0b4502b50c251055bfb406": {
      "model_module": "@jupyter-widgets/controls",
      "model_module_version": "1.1.0",
      "model_name": "DescriptionStyleModel",
      "state": {
       "description_width": ""
      }
     },
     "a5ab0bc8e4894abf9f3ae4671f61de35": {
      "model_module": "@jupyter-widgets/base",
      "model_module_version": "1.0.0",
      "model_name": "LayoutModel",
      "state": {}
     },
     "a5ab1f2937214bd09dec3d87590ba417": {
      "model_module": "@jupyter-widgets/controls",
      "model_module_version": "1.1.0",
      "model_name": "DescriptionStyleModel",
      "state": {
       "description_width": ""
      }
     },
     "a61a0cdb903c499d8ff1ce3dd7f8ab10": {
      "model_module": "@jupyter-widgets/controls",
      "model_module_version": "1.1.0",
      "model_name": "CheckboxModel",
      "state": {
       "description": "PHITS simulated",
       "disabled": false,
       "layout": "IPY_MODEL_f2ad27baf4764943a64930549184f148",
       "style": "IPY_MODEL_b55ba0c4ae6f4a6799d320c9b45bfdf5",
       "value": true
      }
     },
     "a62492efc26142d39374db8dd98e3500": {
      "model_module": "@jupyter-widgets/controls",
      "model_module_version": "1.1.0",
      "model_name": "DescriptionStyleModel",
      "state": {
       "description_width": ""
      }
     },
     "a629492428ad48ee8eb25a68ad4c270b": {
      "model_module": "@jupyter-widgets/base",
      "model_module_version": "1.0.0",
      "model_name": "LayoutModel",
      "state": {}
     },
     "a6823a7ff4d644898a0521a67008d5ad": {
      "model_module": "@jupyter-widgets/controls",
      "model_module_version": "1.1.0",
      "model_name": "DescriptionStyleModel",
      "state": {
       "description_width": ""
      }
     },
     "a69908d8073948cb894f81841a272daa": {
      "model_module": "@jupyter-widgets/controls",
      "model_module_version": "1.1.0",
      "model_name": "CheckboxModel",
      "state": {
       "description": "10°",
       "disabled": false,
       "layout": "IPY_MODEL_5c8ae25629bb45bfa1828369ead77402",
       "style": "IPY_MODEL_1af087b5218c4437920f90cb063ef0cb",
       "value": true
      }
     },
     "a6c3f474e4fc44af9c36e8c0cf3f1b5a": {
      "model_module": "@jupyter-widgets/base",
      "model_module_version": "1.0.0",
      "model_name": "LayoutModel",
      "state": {}
     },
     "a6cbe10f2dfc4c23a6128fed72630ac7": {
      "model_module": "@jupyter-widgets/controls",
      "model_module_version": "1.1.0",
      "model_name": "DescriptionStyleModel",
      "state": {
       "description_width": ""
      }
     },
     "a6db707717084bd98e064729160813cb": {
      "model_module": "@jupyter-widgets/controls",
      "model_module_version": "1.1.0",
      "model_name": "DescriptionStyleModel",
      "state": {
       "description_width": ""
      }
     },
     "a6dde0c38fef49efb25f733d549d75f7": {
      "model_module": "@jupyter-widgets/controls",
      "model_module_version": "1.1.0",
      "model_name": "DescriptionStyleModel",
      "state": {
       "description_width": ""
      }
     },
     "a6e4e615cf024c96b0b19a74e84d6cef": {
      "model_module": "@jupyter-widgets/controls",
      "model_module_version": "1.1.0",
      "model_name": "DescriptionStyleModel",
      "state": {
       "description_width": ""
      }
     },
     "a6f9e3ee75754eecb9e07499d61a606d": {
      "model_module": "@jupyter-widgets/base",
      "model_module_version": "1.0.0",
      "model_name": "LayoutModel",
      "state": {}
     },
     "a6fc76628f134e61baecc5b2f935b09d": {
      "model_module": "@jupyter-widgets/controls",
      "model_module_version": "1.1.0",
      "model_name": "ToggleButtonsModel",
      "state": {
       "_options_labels": [
        "400 MeV/n",
        "800 MeV/n",
        "1500 MeV/n"
       ],
       "button_style": "",
       "description": "Energy:",
       "icons": [],
       "index": 0,
       "layout": "IPY_MODEL_8de4e7cb679a44798964a2c36f75b7a3",
       "style": "IPY_MODEL_e52c9ad6f0f94c16a168ca41d44d2b05",
       "tooltips": [
        "lowest energy",
        "middle energy",
        "highest energy"
       ]
      }
     },
     "a70b0e978e594f1399789e761e60afbf": {
      "model_module": "@jupyter-widgets/controls",
      "model_module_version": "1.1.0",
      "model_name": "ToggleButtonsStyleModel",
      "state": {
       "button_width": "",
       "description_width": ""
      }
     },
     "a715567199b948ed9bf18629dce166b8": {
      "model_module": "@jupyter-widgets/base",
      "model_module_version": "1.0.0",
      "model_name": "LayoutModel",
      "state": {}
     },
     "a736e35fa3074fa386911fcdb54f58e3": {
      "model_module": "@jupyter-widgets/base",
      "model_module_version": "1.0.0",
      "model_name": "LayoutModel",
      "state": {}
     },
     "a73ea27787e845ec9d670ffc57d5fe34": {
      "model_module": "@jupyter-widgets/controls",
      "model_module_version": "1.1.0",
      "model_name": "ToggleButtonsStyleModel",
      "state": {
       "button_width": "",
       "description_width": ""
      }
     },
     "a7559b98612a40d2b03ff7835e62fce8": {
      "model_module": "@jupyter-widgets/controls",
      "model_module_version": "1.1.0",
      "model_name": "CheckboxModel",
      "state": {
       "description": "30°",
       "disabled": false,
       "layout": "IPY_MODEL_e855032a03ab41298ecbce490692b442",
       "style": "IPY_MODEL_3e6868e05b4d42438e495a1ad59c565b",
       "value": true
      }
     },
     "a75b6cfabe5f49bebbcfef46c37b3617": {
      "model_module": "@jupyter-widgets/controls",
      "model_module_version": "1.1.0",
      "model_name": "CheckboxModel",
      "state": {
       "description": "135°",
       "disabled": false,
       "layout": "IPY_MODEL_858ff6cb153941629070dce3e8eab120",
       "style": "IPY_MODEL_4631bef8f06b44778e229ff134e96632",
       "value": true
      }
     },
     "a778cf604d174f4d9efe53ae6dfcc98b": {
      "model_module": "@jupyter-widgets/controls",
      "model_module_version": "1.1.0",
      "model_name": "DescriptionStyleModel",
      "state": {
       "description_width": ""
      }
     },
     "a7823db7be3f4cd48902bd8f6cbba005": {
      "model_module": "@jupyter-widgets/controls",
      "model_module_version": "1.1.0",
      "model_name": "DescriptionStyleModel",
      "state": {
       "description_width": ""
      }
     },
     "a7ac061fcead4b22aea85bf9a2788c5c": {
      "model_module": "@jupyter-widgets/controls",
      "model_module_version": "1.1.0",
      "model_name": "CheckboxModel",
      "state": {
       "description": "135°",
       "disabled": false,
       "layout": "IPY_MODEL_083d6cdb707a4e63bf282c13b7456a14",
       "style": "IPY_MODEL_2203b0e36dc448a6a364d02d9ddc7b10",
       "value": false
      }
     },
     "a7cf71167764452e83be627357958e79": {
      "model_module": "@jupyter-widgets/controls",
      "model_module_version": "1.1.0",
      "model_name": "CheckboxModel",
      "state": {
       "description": "10°",
       "disabled": false,
       "layout": "IPY_MODEL_55619c5dea094e449247ceb4ea2afc58",
       "style": "IPY_MODEL_9c750331100c4339ba5cdad0d8689798",
       "value": true
      }
     },
     "a7e1100ec75e45979025dd2ef79f9371": {
      "model_module": "@jupyter-widgets/controls",
      "model_module_version": "1.1.0",
      "model_name": "LabelModel",
      "state": {
       "layout": "IPY_MODEL_15be3f50cce94b91a4aa3def909f1e33",
       "style": "IPY_MODEL_023d98986734416e92f986009753c584",
       "value": "Select which secondary particle to plot spectra for."
      }
     },
     "a8527311491441dd8de9b71ddc09213b": {
      "model_module": "@jupyter-widgets/controls",
      "model_module_version": "1.1.0",
      "model_name": "ToggleButtonsModel",
      "state": {
       "_options_labels": [
        "P (¹H)",
        "D (²H)",
        "T (³H)",
        "A (⁴He)"
       ],
       "button_style": "",
       "description": "Type:",
       "icons": [],
       "index": 0,
       "layout": "IPY_MODEL_34c7f5a56df04a03a6dc535e5f75739a",
       "style": "IPY_MODEL_2aac0176a49544ad9d78d854909dc5a1",
       "tooltips": [
        "Proton",
        "Deuteron",
        "Triton",
        "Helium-4"
       ]
      }
     },
     "a86e995100d74316a3d0e3db7e535fcc": {
      "model_module": "@jupyter-widgets/base",
      "model_module_version": "1.0.0",
      "model_name": "LayoutModel",
      "state": {}
     },
     "a8841feafea14d99b95f53187891f2ae": {
      "model_module": "@jupyter-widgets/controls",
      "model_module_version": "1.1.0",
      "model_name": "ToggleButtonsModel",
      "state": {
       "_options_labels": [
        "20 g/cm²",
        "40 g/cm²",
        "60 g/cm²"
       ],
       "button_style": "",
       "description": "Thickness:",
       "icons": [],
       "index": 0,
       "layout": "IPY_MODEL_2390edd9b3c642169437648801af5220",
       "style": "IPY_MODEL_f199881453b040ecba836e9210e1e2bd",
       "tooltips": [
        "20 g/cm² Aluminum",
        "40 g/cm² Aluminum",
        "60 g/cm² Aluminum"
       ]
      }
     },
     "a8a2ca2e021d4049b9d303d2eeca3e14": {
      "model_module": "@jupyter-widgets/controls",
      "model_module_version": "1.1.0",
      "model_name": "CheckboxModel",
      "state": {
       "description": "80°",
       "disabled": false,
       "layout": "IPY_MODEL_b134c9403fea4574bd2840c454cb26d7",
       "style": "IPY_MODEL_1e7bec4752ff40afa2b30faaa9181f59",
       "value": false
      }
     },
     "a8c7d47f1a484630a29733c5b4b79d98": {
      "model_module": "@jupyter-widgets/controls",
      "model_module_version": "1.1.0",
      "model_name": "ToggleButtonsModel",
      "state": {
       "_options_labels": [
        "H",
        "He",
        "C",
        "Si",
        "Fe"
       ],
       "button_style": "",
       "description": "Ion:",
       "icons": [],
       "index": 0,
       "layout": "IPY_MODEL_e58a8f5499a64d7d8362340324127d7d",
       "style": "IPY_MODEL_827c1636df9f4da3b9e26740c6b7ea19",
       "tooltips": [
        "Hydrogen",
        "Helium",
        "Carbon",
        "Silicon",
        "Iron"
       ]
      }
     },
     "a8e419868feb40a79cfca7b3f532a7fa": {
      "model_module": "@jupyter-widgets/base",
      "model_module_version": "1.0.0",
      "model_name": "LayoutModel",
      "state": {}
     },
     "a8e63e1dcb4345d2b913355531ac989f": {
      "model_module": "@jupyter-widgets/base",
      "model_module_version": "1.0.0",
      "model_name": "LayoutModel",
      "state": {}
     },
     "a8ff9a8265864ce6b8522a45b3a04d55": {
      "model_module": "@jupyter-widgets/controls",
      "model_module_version": "1.1.0",
      "model_name": "DescriptionStyleModel",
      "state": {
       "description_width": ""
      }
     },
     "a900600b456b46a681fcc9494b7ece95": {
      "model_module": "@jupyter-widgets/controls",
      "model_module_version": "1.1.0",
      "model_name": "DescriptionStyleModel",
      "state": {
       "description_width": ""
      }
     },
     "a909c92eb1cd48299d3eaffaf12d2cc4": {
      "model_module": "@jupyter-widgets/controls",
      "model_module_version": "1.1.0",
      "model_name": "CheckboxModel",
      "state": {
       "description": "10°",
       "disabled": false,
       "layout": "IPY_MODEL_447f53e19b2f4ddf9d2a3f12f6e5636f",
       "style": "IPY_MODEL_7bc3fbb9ab3f45348de818119b4edb4a",
       "value": true
      }
     },
     "a91084f9d3494b6a940831af3dd58f88": {
      "model_module": "@jupyter-widgets/base",
      "model_module_version": "1.0.0",
      "model_name": "LayoutModel",
      "state": {}
     },
     "a918cb0bb85249d1b54b8565dad3f659": {
      "model_module": "@jupyter-widgets/base",
      "model_module_version": "1.0.0",
      "model_name": "LayoutModel",
      "state": {}
     },
     "a9e42351c8da44b9ad978d46ab3d72ab": {
      "model_module": "@jupyter-widgets/controls",
      "model_module_version": "1.1.0",
      "model_name": "DescriptionStyleModel",
      "state": {
       "description_width": ""
      }
     },
     "a9eb32704977437e852c288bee57f477": {
      "model_module": "@jupyter-widgets/base",
      "model_module_version": "1.0.0",
      "model_name": "LayoutModel",
      "state": {}
     },
     "a9ff3c6349dd4e3aa5f9024c95be5218": {
      "model_module": "@jupyter-widgets/controls",
      "model_module_version": "1.1.0",
      "model_name": "CheckboxModel",
      "state": {
       "description": "135°",
       "disabled": false,
       "layout": "IPY_MODEL_d0712f64deb44255bae5800bafb719c0",
       "style": "IPY_MODEL_89eda586ef094d9e9d2cbe3f9c364b32",
       "value": true
      }
     },
     "aa131432c11c43cd9c947c59d810af25": {
      "model_module": "@jupyter-widgets/controls",
      "model_module_version": "1.1.0",
      "model_name": "ToggleButtonsStyleModel",
      "state": {
       "button_width": "",
       "description_width": ""
      }
     },
     "aa1a47aaec0f414d8480b69918503e93": {
      "model_module": "@jupyter-widgets/controls",
      "model_module_version": "1.1.0",
      "model_name": "DescriptionStyleModel",
      "state": {
       "description_width": ""
      }
     },
     "aa35185bf3a34092a2bd1af2cf00e408": {
      "model_module": "@jupyter-widgets/controls",
      "model_module_version": "1.1.0",
      "model_name": "DescriptionStyleModel",
      "state": {
       "description_width": ""
      }
     },
     "aa3cfd405b92404eb2f19d71ca77330c": {
      "model_module": "@jupyter-widgets/controls",
      "model_module_version": "1.1.0",
      "model_name": "DescriptionStyleModel",
      "state": {
       "description_width": ""
      }
     },
     "aa576a24ff1e4532a1ab8eb9fca802c4": {
      "model_module": "@jupyter-widgets/controls",
      "model_module_version": "1.1.0",
      "model_name": "ToggleButtonsStyleModel",
      "state": {
       "button_width": "",
       "description_width": ""
      }
     },
     "aa9ce7dc21004692afd0bf9d3f368c59": {
      "model_module": "@jupyter-widgets/base",
      "model_module_version": "1.0.0",
      "model_name": "LayoutModel",
      "state": {}
     },
     "aaa3a47d844c4b0dac0107764300dd71": {
      "model_module": "@jupyter-widgets/controls",
      "model_module_version": "1.1.0",
      "model_name": "CheckboxModel",
      "state": {
       "description": "80°",
       "disabled": false,
       "layout": "IPY_MODEL_ae9a6cf6bb114d679211456db7d47d11",
       "style": "IPY_MODEL_367b1a0957de43d1b458dacce96a2b0d",
       "value": true
      }
     },
     "aaa63bbb5eb54110b6564cd3b6e94182": {
      "model_module": "@jupyter-widgets/controls",
      "model_module_version": "1.1.0",
      "model_name": "CheckboxModel",
      "state": {
       "description": "32.7°",
       "disabled": false,
       "layout": "IPY_MODEL_d7d04417ef3a4532976d037d0a51da0c",
       "style": "IPY_MODEL_e859ff3fab7f425f9d5d51bb08bb0418",
       "value": true
      }
     },
     "aac3db4e5d1e4f98a69d1cf4938a87d6": {
      "model_module": "@jupyter-widgets/base",
      "model_module_version": "1.0.0",
      "model_name": "LayoutModel",
      "state": {}
     },
     "aacbd410ba604eb5bfa744c5cca3a829": {
      "model_module": "@jupyter-widgets/controls",
      "model_module_version": "1.1.0",
      "model_name": "CheckboxModel",
      "state": {
       "description": "60°",
       "disabled": false,
       "layout": "IPY_MODEL_590c75c872914897a0b6cde58cca7b15",
       "style": "IPY_MODEL_834837e439a34d1fa4c89cc1e7e18944",
       "value": true
      }
     },
     "aae004f179e247eca0f69c2e845884f5": {
      "model_module": "@jupyter-widgets/controls",
      "model_module_version": "1.1.0",
      "model_name": "LabelModel",
      "state": {
       "layout": "IPY_MODEL_ff775fb71b26478da0e11f8d03b303f6",
       "style": "IPY_MODEL_de4ee6f855d746ea968143e1a598b77b",
       "value": "Select the detector angles to plot."
      }
     },
     "aae4131894c542f9a8804e5109bd7c6f": {
      "model_module": "@jupyter-widgets/controls",
      "model_module_version": "1.1.0",
      "model_name": "ToggleButtonsModel",
      "state": {
       "_options_labels": [
        "400 MeV",
        "800 MeV",
        "2500 MeV"
       ],
       "button_style": "",
       "description": "Energy:",
       "icons": [],
       "index": 0,
       "layout": "IPY_MODEL_2fe070cfb385435db6261ac22e7b218f",
       "style": "IPY_MODEL_0a3b209bcf6841b9a433d6e5c3b1a795",
       "tooltips": [
        "lowest energy",
        "middle energy",
        "highest energy"
       ]
      }
     },
     "ab08f3b531ee4b92bbbe6ee1c754c252": {
      "model_module": "@jupyter-widgets/controls",
      "model_module_version": "1.1.0",
      "model_name": "ToggleButtonsStyleModel",
      "state": {
       "button_width": "",
       "description_width": ""
      }
     },
     "ab316c5666524946ae0c172d4473ccf4": {
      "model_module": "@jupyter-widgets/controls",
      "model_module_version": "1.1.0",
      "model_name": "DescriptionStyleModel",
      "state": {
       "description_width": ""
      }
     },
     "ab51b1419f7546d9adedc7d98370b3be": {
      "model_module": "@jupyter-widgets/base",
      "model_module_version": "1.0.0",
      "model_name": "LayoutModel",
      "state": {}
     },
     "ab60a82ccdee43e69c1d0426c2e4b712": {
      "model_module": "@jupyter-widgets/controls",
      "model_module_version": "1.1.0",
      "model_name": "CheckboxModel",
      "state": {
       "description": "60°",
       "disabled": false,
       "layout": "IPY_MODEL_f673c3750a714ce6b241908ebc147d4d",
       "style": "IPY_MODEL_a6cbe10f2dfc4c23a6128fed72630ac7",
       "value": true
      }
     },
     "abba099c8d2346e3b5455ba8b4be4d26": {
      "model_module": "@jupyter-widgets/controls",
      "model_module_version": "1.1.0",
      "model_name": "DescriptionStyleModel",
      "state": {
       "description_width": ""
      }
     },
     "ac1392c5e79241cabcbe2f0b9cdd133a": {
      "model_module": "@jupyter-widgets/base",
      "model_module_version": "1.0.0",
      "model_name": "LayoutModel",
      "state": {}
     },
     "ac178c9f1ab74b948336cbfb2630dc42": {
      "model_module": "@jupyter-widgets/controls",
      "model_module_version": "1.1.0",
      "model_name": "ButtonModel",
      "state": {
       "button_style": "success",
       "description": "Update plot",
       "icon": "paint-brush",
       "layout": "IPY_MODEL_c24a1cfb75f44d6392ee6ea2874d43d0",
       "style": "IPY_MODEL_3d8b79afcd5346e89411d87b293cd799",
       "tooltip": "Click to redraw the plot below with updated options from above."
      }
     },
     "ac4aa1f1b1e8453d87f1df70ac524806": {
      "model_module": "@jupyter-widgets/controls",
      "model_module_version": "1.1.0",
      "model_name": "CheckboxModel",
      "state": {
       "description": "10°",
       "disabled": false,
       "layout": "IPY_MODEL_ac1392c5e79241cabcbe2f0b9cdd133a",
       "style": "IPY_MODEL_008d4deaa4f24f778435821053645eab",
       "value": true
      }
     },
     "ac5963eefc4a4f2787971df6efcec6f9": {
      "model_module": "@jupyter-widgets/controls",
      "model_module_version": "1.1.0",
      "model_name": "CheckboxModel",
      "state": {
       "description": "30°",
       "disabled": false,
       "layout": "IPY_MODEL_10eb4b649ea049f6a6685d6b048edfea",
       "style": "IPY_MODEL_b957fd9211284d609f9603993f986749",
       "value": false
      }
     },
     "ac9577885a6643f3acdf6df98032a935": {
      "model_module": "@jupyter-widgets/controls",
      "model_module_version": "1.1.0",
      "model_name": "DescriptionStyleModel",
      "state": {
       "description_width": ""
      }
     },
     "aca553dec049411a9613a1df049c60f2": {
      "model_module": "@jupyter-widgets/base",
      "model_module_version": "1.0.0",
      "model_name": "LayoutModel",
      "state": {}
     },
     "acbc4bb96b4c494ab595aaeafc032f58": {
      "model_module": "@jupyter-widgets/controls",
      "model_module_version": "1.1.0",
      "model_name": "CheckboxModel",
      "state": {
       "description": "10°",
       "disabled": false,
       "layout": "IPY_MODEL_6b6887f98a3e425fb0be0ae08a8fee56",
       "style": "IPY_MODEL_0097f451415149d5a8a5b91cd0fcde5b",
       "value": true
      }
     },
     "ad5645d902d742a1803f4b773391fcc6": {
      "model_module": "@jupyter-widgets/controls",
      "model_module_version": "1.1.0",
      "model_name": "CheckboxModel",
      "state": {
       "description": "60°",
       "disabled": false,
       "layout": "IPY_MODEL_e70fff3b1c7d496b87c0f5a08a5d3555",
       "style": "IPY_MODEL_f26b555c18674641ac56b038c0e17764",
       "value": true
      }
     },
     "ad97f50377b04667a22d5c1ff7f846a1": {
      "model_module": "@jupyter-widgets/controls",
      "model_module_version": "1.1.0",
      "model_name": "CheckboxModel",
      "state": {
       "description": "135°",
       "disabled": false,
       "layout": "IPY_MODEL_5929c186d9eb48c99b0e76d2f047ecee",
       "style": "IPY_MODEL_a6dde0c38fef49efb25f733d549d75f7",
       "value": true
      }
     },
     "adca284843d044cabca92fd491c10dac": {
      "model_module": "@jupyter-widgets/controls",
      "model_module_version": "1.1.0",
      "model_name": "CheckboxModel",
      "state": {
       "description": "30°",
       "disabled": false,
       "layout": "IPY_MODEL_ef4bd5c55a7c45cc9ef95a2d4270d9a7",
       "style": "IPY_MODEL_4fa6bd4d322749fe891b1e8b7edd436a",
       "value": false
      }
     },
     "add3906993124ea1b4e1b692d9bd831b": {
      "model_module": "@jupyter-widgets/controls",
      "model_module_version": "1.1.0",
      "model_name": "DescriptionStyleModel",
      "state": {
       "description_width": ""
      }
     },
     "adeb596f502d42449d8811e70bbae8b2": {
      "model_module": "@jupyter-widgets/base",
      "model_module_version": "1.0.0",
      "model_name": "LayoutModel",
      "state": {}
     },
     "ae00635134a94eb785d52a4eb527ed7a": {
      "model_module": "@jupyter-widgets/controls",
      "model_module_version": "1.1.0",
      "model_name": "DescriptionStyleModel",
      "state": {
       "description_width": ""
      }
     },
     "ae04b1d2163a40a8bc5de76789e0d27d": {
      "model_module": "@jupyter-widgets/base",
      "model_module_version": "1.0.0",
      "model_name": "LayoutModel",
      "state": {}
     },
     "ae7dcbfed4f64731b92fa302d76824a5": {
      "model_module": "@jupyter-widgets/base",
      "model_module_version": "1.0.0",
      "model_name": "LayoutModel",
      "state": {}
     },
     "ae9a6cf6bb114d679211456db7d47d11": {
      "model_module": "@jupyter-widgets/base",
      "model_module_version": "1.0.0",
      "model_name": "LayoutModel",
      "state": {}
     },
     "aeeface96ece4888a98b7db93c45d416": {
      "model_module": "@jupyter-widgets/controls",
      "model_module_version": "1.1.0",
      "model_name": "DescriptionStyleModel",
      "state": {
       "description_width": ""
      }
     },
     "aef07b9a3bf543f0ad01653eb45d6240": {
      "model_module": "@jupyter-widgets/controls",
      "model_module_version": "1.1.0",
      "model_name": "CheckboxModel",
      "state": {
       "description": "12.7°",
       "disabled": false,
       "layout": "IPY_MODEL_e7354a7351dc4a3eb056a1ebe167219f",
       "style": "IPY_MODEL_295a0c1f17204f57beb0788ecce78f07",
       "value": true
      }
     },
     "aef4391aa0ee4ab78258b8820f439057": {
      "model_module": "@jupyter-widgets/base",
      "model_module_version": "1.0.0",
      "model_name": "LayoutModel",
      "state": {}
     },
     "af0482e6032a4b5c895c578b92a107b1": {
      "model_module": "@jupyter-widgets/base",
      "model_module_version": "1.0.0",
      "model_name": "LayoutModel",
      "state": {}
     },
     "afd94890969542849d0014c83d9f710e": {
      "model_module": "@jupyter-widgets/controls",
      "model_module_version": "1.1.0",
      "model_name": "CheckboxModel",
      "state": {
       "description": "30°",
       "disabled": false,
       "layout": "IPY_MODEL_b8d668ae50cd4ec0b0e9768bf13ebaee",
       "style": "IPY_MODEL_644ed6cc3d2144fdaa33e0de942764ca",
       "value": false
      }
     },
     "b04672d85a424837b02b239fd6d93306": {
      "model_module": "@jupyter-widgets/controls",
      "model_module_version": "1.1.0",
      "model_name": "DescriptionStyleModel",
      "state": {
       "description_width": ""
      }
     },
     "b06735c61c254823b8261980ec3395a3": {
      "model_module": "@jupyter-widgets/controls",
      "model_module_version": "1.1.0",
      "model_name": "DescriptionStyleModel",
      "state": {
       "description_width": ""
      }
     },
     "b06e725ffc5a4f68af22e7bbbb5e9aa9": {
      "model_module": "@jupyter-widgets/controls",
      "model_module_version": "1.1.0",
      "model_name": "CheckboxModel",
      "state": {
       "description": "10°",
       "disabled": false,
       "layout": "IPY_MODEL_2ae593c4383e45e9ae578cacbd91a07c",
       "style": "IPY_MODEL_18b949db5fe34bef96f34c741ec2e158",
       "value": true
      }
     },
     "b0850357b9f3483ebcb764038629e4b6": {
      "model_module": "@jupyter-widgets/base",
      "model_module_version": "1.0.0",
      "model_name": "LayoutModel",
      "state": {}
     },
     "b134c9403fea4574bd2840c454cb26d7": {
      "model_module": "@jupyter-widgets/base",
      "model_module_version": "1.0.0",
      "model_name": "LayoutModel",
      "state": {}
     },
     "b156ec5fd56541f6830dddbad5917e66": {
      "model_module": "@jupyter-widgets/controls",
      "model_module_version": "1.1.0",
      "model_name": "CheckboxModel",
      "state": {
       "description": "80°",
       "disabled": false,
       "layout": "IPY_MODEL_1dad1907f0694a15b1777d2307d3c28f",
       "style": "IPY_MODEL_846897d5be034873bc66dd9153ee457a",
       "value": true
      }
     },
     "b159994f2523454c849777345beef154": {
      "model_module": "@jupyter-widgets/base",
      "model_module_version": "1.0.0",
      "model_name": "LayoutModel",
      "state": {}
     },
     "b190e7ee1cc6456b9d4bb6b79f1a5050": {
      "model_module": "@jupyter-widgets/controls",
      "model_module_version": "1.1.0",
      "model_name": "DescriptionStyleModel",
      "state": {
       "description_width": ""
      }
     },
     "b1b2e4a172a0450c8398fd8c63426533": {
      "model_module": "@jupyter-widgets/base",
      "model_module_version": "1.0.0",
      "model_name": "LayoutModel",
      "state": {}
     },
     "b1e44077f2bb4e8c83ec53c33e3658c0": {
      "model_module": "@jupyter-widgets/base",
      "model_module_version": "1.0.0",
      "model_name": "LayoutModel",
      "state": {}
     },
     "b1f1994c3de742f98d80525a0dc6cdb8": {
      "model_module": "@jupyter-widgets/base",
      "model_module_version": "1.0.0",
      "model_name": "LayoutModel",
      "state": {}
     },
     "b1fc77d5024944e49d73df03a1d5033b": {
      "model_module": "@jupyter-widgets/base",
      "model_module_version": "1.0.0",
      "model_name": "LayoutModel",
      "state": {}
     },
     "b256a51a15734075b996a26f220eea7f": {
      "model_module": "@jupyter-widgets/base",
      "model_module_version": "1.0.0",
      "model_name": "LayoutModel",
      "state": {}
     },
     "b25d8c8e0874442ab49817d2a1a7778b": {
      "model_module": "@jupyter-widgets/controls",
      "model_module_version": "1.1.0",
      "model_name": "LabelModel",
      "state": {
       "layout": "IPY_MODEL_8b0eefb472c1489c9499bfca2575e77e",
       "style": "IPY_MODEL_2840e65aec3c47d3837a37a936e92cd1",
       "value": "Select the detector angles to plot."
      }
     },
     "b27880a92be84b8ebaf17bc82d752646": {
      "model_module": "@jupyter-widgets/controls",
      "model_module_version": "1.1.0",
      "model_name": "CheckboxModel",
      "state": {
       "description": "135°",
       "disabled": false,
       "layout": "IPY_MODEL_428942ba674d46a2bf6cdd61a85e65eb",
       "style": "IPY_MODEL_33c23a4720244974b92f5a5e7e3f3fd9",
       "value": false
      }
     },
     "b29216362c6d460ab5757f977fc97956": {
      "model_module": "@jupyter-widgets/controls",
      "model_module_version": "1.1.0",
      "model_name": "LabelModel",
      "state": {
       "layout": "IPY_MODEL_0abffa0061eb431eadd0b537a048d95d",
       "style": "IPY_MODEL_1ba608492b364dd0bee498de820a823f",
       "value": "Select which sets of data to display."
      }
     },
     "b2a39a040a6544d99cfd7e4863d4a141": {
      "model_module": "@jupyter-widgets/base",
      "model_module_version": "1.0.0",
      "model_name": "LayoutModel",
      "state": {}
     },
     "b2c2393f3cc943afa4c0a599f866c96b": {
      "model_module": "@jupyter-widgets/base",
      "model_module_version": "1.0.0",
      "model_name": "LayoutModel",
      "state": {}
     },
     "b3311dbc66674b6daaee1b5cd76ce614": {
      "model_module": "@jupyter-widgets/controls",
      "model_module_version": "1.1.0",
      "model_name": "DescriptionStyleModel",
      "state": {
       "description_width": ""
      }
     },
     "b34c0b45a9364bf4a77dbe00b1b856bf": {
      "model_module": "@jupyter-widgets/base",
      "model_module_version": "1.0.0",
      "model_name": "LayoutModel",
      "state": {}
     },
     "b3660327e0444359a041733a7b545b85": {
      "model_module": "@jupyter-widgets/controls",
      "model_module_version": "1.1.0",
      "model_name": "LabelModel",
      "state": {
       "layout": "IPY_MODEL_1b7bbc4fc6784941b0bb170af22bc7b8",
       "style": "IPY_MODEL_46da5a87136a4c1aab5938de6e45b620",
       "value": "Select which secondary particle to plot spectra for."
      }
     },
     "b3986e02e21e4ee1a1966105d74846a0": {
      "model_module": "@jupyter-widgets/base",
      "model_module_version": "1.0.0",
      "model_name": "LayoutModel",
      "state": {}
     },
     "b3f675f793e84eb8af82213e3f6ecee1": {
      "model_module": "@jupyter-widgets/controls",
      "model_module_version": "1.1.0",
      "model_name": "DescriptionStyleModel",
      "state": {
       "description_width": ""
      }
     },
     "b3fd0342b9c746f09a3e932129aa511a": {
      "model_module": "@jupyter-widgets/controls",
      "model_module_version": "1.1.0",
      "model_name": "CheckboxModel",
      "state": {
       "description": "60°",
       "disabled": false,
       "layout": "IPY_MODEL_395446e8e7c2410bb4bc4027eae2a0f3",
       "style": "IPY_MODEL_0d68d719bd2542f7a4a21bfdbf9e730f",
       "value": true
      }
     },
     "b42f68c91453466f98cc3c71ddde5df8": {
      "model_module": "@jupyter-widgets/controls",
      "model_module_version": "1.1.0",
      "model_name": "DescriptionStyleModel",
      "state": {
       "description_width": ""
      }
     },
     "b430db24d0cc4ea682e31554dad28dba": {
      "model_module": "@jupyter-widgets/base",
      "model_module_version": "1.0.0",
      "model_name": "LayoutModel",
      "state": {}
     },
     "b453f597f5f747879bbb7e51d7941077": {
      "model_module": "@jupyter-widgets/controls",
      "model_module_version": "1.1.0",
      "model_name": "DescriptionStyleModel",
      "state": {
       "description_width": ""
      }
     },
     "b4570addcf0d4ba69011271c073dbf3c": {
      "model_module": "@jupyter-widgets/base",
      "model_module_version": "1.0.0",
      "model_name": "LayoutModel",
      "state": {}
     },
     "b47b0b519fa84394b5a2796345eee4c6": {
      "model_module": "@jupyter-widgets/base",
      "model_module_version": "1.0.0",
      "model_name": "LayoutModel",
      "state": {}
     },
     "b5217da0eb624c05840ab91ea1d96f4e": {
      "model_module": "@jupyter-widgets/controls",
      "model_module_version": "1.1.0",
      "model_name": "CheckboxModel",
      "state": {
       "description": "135°",
       "disabled": false,
       "layout": "IPY_MODEL_09f1f55f355d408eb0e5a49eba19f462",
       "style": "IPY_MODEL_23c1b57dfe8f4761b1563240ada6a5b9",
       "value": true
      }
     },
     "b53b7f65937342619cb1be0545c449f6": {
      "model_module": "@jupyter-widgets/controls",
      "model_module_version": "1.1.0",
      "model_name": "LabelModel",
      "state": {
       "layout": "IPY_MODEL_4b3e0d7cc3a34cd19bab3b2ed36231f6",
       "style": "IPY_MODEL_0a0d9cee4f61455e902848baa25f71d3",
       "value": "Select which secondary particle to plot spectra for."
      }
     },
     "b55ba0c4ae6f4a6799d320c9b45bfdf5": {
      "model_module": "@jupyter-widgets/controls",
      "model_module_version": "1.1.0",
      "model_name": "DescriptionStyleModel",
      "state": {
       "description_width": ""
      }
     },
     "b566ff860baa48be8cdc1426984241e2": {
      "model_module": "@jupyter-widgets/controls",
      "model_module_version": "1.1.0",
      "model_name": "CheckboxModel",
      "state": {
       "description": "12.7°",
       "disabled": false,
       "layout": "IPY_MODEL_047a017af03e49b6b3d64477ccdbb467",
       "style": "IPY_MODEL_237c8b13f52c471ebb970a663c67e096",
       "value": true
      }
     },
     "b576ea33eaae4f5881e5e4345ac108c8": {
      "model_module": "@jupyter-widgets/controls",
      "model_module_version": "1.1.0",
      "model_name": "DescriptionStyleModel",
      "state": {
       "description_width": ""
      }
     },
     "b57b30fb574d4bc390c13d021a91cb9f": {
      "model_module": "@jupyter-widgets/controls",
      "model_module_version": "1.1.0",
      "model_name": "ToggleButtonsStyleModel",
      "state": {
       "button_width": "",
       "description_width": ""
      }
     },
     "b5f2154c6ab6493891178428e440d1b4": {
      "model_module": "@jupyter-widgets/controls",
      "model_module_version": "1.1.0",
      "model_name": "LabelModel",
      "state": {
       "layout": "IPY_MODEL_9205c477a1be4469b22d1997d942407d",
       "style": "IPY_MODEL_7d80945944f749c38f55ca99a4d8e702",
       "value": "Select the detector angles to plot."
      }
     },
     "b607a8a1011f41e79657979eed2d5d47": {
      "model_module": "@jupyter-widgets/base",
      "model_module_version": "1.0.0",
      "model_name": "LayoutModel",
      "state": {}
     },
     "b61af8bb6c014c1685e4e5c56f1af885": {
      "model_module": "@jupyter-widgets/controls",
      "model_module_version": "1.1.0",
      "model_name": "CheckboxModel",
      "state": {
       "description": "45°",
       "disabled": false,
       "layout": "IPY_MODEL_0df35494584e4aa2ae0f69fa4df9264c",
       "style": "IPY_MODEL_772e5375e9884cc59b06095fd14fa29c",
       "value": true
      }
     },
     "b65c01657bd649c8b8b1c5021cec090e": {
      "model_module": "@jupyter-widgets/base",
      "model_module_version": "1.0.0",
      "model_name": "LayoutModel",
      "state": {}
     },
     "b674b2d7269d422ca8de761bb917d833": {
      "model_module": "@jupyter-widgets/controls",
      "model_module_version": "1.1.0",
      "model_name": "LabelModel",
      "state": {
       "layout": "IPY_MODEL_8d01d2f5c2274b13984798d5294ef8a5",
       "style": "IPY_MODEL_c8ae63bb7c01400db0e6029877fcd041",
       "value": "Select which secondary particle to plot spectra for."
      }
     },
     "b67cce65aca44fba99692642db417b07": {
      "model_module": "@jupyter-widgets/base",
      "model_module_version": "1.0.0",
      "model_name": "LayoutModel",
      "state": {}
     },
     "b6a6026f9a484957a255fc96600c9c14": {
      "model_module": "@jupyter-widgets/base",
      "model_module_version": "1.0.0",
      "model_name": "LayoutModel",
      "state": {}
     },
     "b6afb6b7e2334252b59396dc1689c01a": {
      "model_module": "@jupyter-widgets/base",
      "model_module_version": "1.0.0",
      "model_name": "LayoutModel",
      "state": {}
     },
     "b6c24efdc53a4660a49ce93bba5de96a": {
      "model_module": "@jupyter-widgets/controls",
      "model_module_version": "1.1.0",
      "model_name": "ToggleButtonsStyleModel",
      "state": {
       "button_width": "",
       "description_width": ""
      }
     },
     "b6ca782bee7b416ab05bbad8e0002595": {
      "model_module": "@jupyter-widgets/controls",
      "model_module_version": "1.1.0",
      "model_name": "DescriptionStyleModel",
      "state": {
       "description_width": ""
      }
     },
     "b7be33966ed84c308844b092b0c1794b": {
      "model_module": "@jupyter-widgets/controls",
      "model_module_version": "1.1.0",
      "model_name": "LabelModel",
      "state": {
       "layout": "IPY_MODEL_7e75049786dd41599baa59cfbe1fc39b",
       "style": "IPY_MODEL_c678569758de4f529b9236ee5c8403d5",
       "value": "Select which secondary particle to plot spectra for."
      }
     },
     "b7d90552fa1a42b7b0e7aee76ca65e5f": {
      "model_module": "@jupyter-widgets/base",
      "model_module_version": "1.0.0",
      "model_name": "LayoutModel",
      "state": {}
     },
     "b8108655ca854fd99c5f09e3351079e7": {
      "model_module": "@jupyter-widgets/controls",
      "model_module_version": "1.1.0",
      "model_name": "LabelModel",
      "state": {
       "layout": "IPY_MODEL_d5cea0698b5549ff91278b8edbf8403c",
       "style": "IPY_MODEL_94b023f46072463da950114129668831",
       "value": "Select which secondary particle to plot spectra for."
      }
     },
     "b8297bde69954b1fad28c2af975eeb32": {
      "model_module": "@jupyter-widgets/base",
      "model_module_version": "1.0.0",
      "model_name": "LayoutModel",
      "state": {}
     },
     "b8344f383a404edcbad1b84fd6237079": {
      "model_module": "@jupyter-widgets/base",
      "model_module_version": "1.0.0",
      "model_name": "LayoutModel",
      "state": {}
     },
     "b856131f1d914d269eb6add2af93b1da": {
      "model_module": "@jupyter-widgets/controls",
      "model_module_version": "1.1.0",
      "model_name": "CheckboxModel",
      "state": {
       "description": "45°",
       "disabled": false,
       "layout": "IPY_MODEL_056247fa572144639545bed9724d980c",
       "style": "IPY_MODEL_1444a36731094071b713ff974db02236",
       "value": true
      }
     },
     "b88e9620565a40ab941bc49f29829681": {
      "model_module": "@jupyter-widgets/controls",
      "model_module_version": "1.1.0",
      "model_name": "DescriptionStyleModel",
      "state": {
       "description_width": ""
      }
     },
     "b897da7bbb4b482da822f91e6f777254": {
      "model_module": "@jupyter-widgets/base",
      "model_module_version": "1.0.0",
      "model_name": "LayoutModel",
      "state": {}
     },
     "b8c1fc0e080f4c32b4e9b22cf32efc54": {
      "model_module": "@jupyter-widgets/controls",
      "model_module_version": "1.1.0",
      "model_name": "DescriptionStyleModel",
      "state": {
       "description_width": ""
      }
     },
     "b8d668ae50cd4ec0b0e9768bf13ebaee": {
      "model_module": "@jupyter-widgets/base",
      "model_module_version": "1.0.0",
      "model_name": "LayoutModel",
      "state": {}
     },
     "b8dff6def2614a08a4261fa0559edf8f": {
      "model_module": "@jupyter-widgets/base",
      "model_module_version": "1.0.0",
      "model_name": "LayoutModel",
      "state": {}
     },
     "b92f010ba6644ef09f689749aaef6c55": {
      "model_module": "@jupyter-widgets/controls",
      "model_module_version": "1.1.0",
      "model_name": "ToggleButtonsModel",
      "state": {
       "_options_labels": [
        "20 g/cm²",
        "40 g/cm²",
        "60 g/cm²"
       ],
       "button_style": "",
       "description": "Thickness:",
       "icons": [],
       "index": 0,
       "layout": "IPY_MODEL_684604c74c48451cb8d88cce812fa285",
       "style": "IPY_MODEL_a26a19e574a74b3aad7172dac323e62c",
       "tooltips": [
        "20 g/cm² Aluminum",
        "40 g/cm² Aluminum",
        "60 g/cm² Aluminum"
       ]
      }
     },
     "b9316152f11b4e6abb675239c77ba00d": {
      "model_module": "@jupyter-widgets/controls",
      "model_module_version": "1.1.0",
      "model_name": "CheckboxModel",
      "state": {
       "description": "60°",
       "disabled": false,
       "layout": "IPY_MODEL_c247e4d27db645cdbb1e7153192027f9",
       "style": "IPY_MODEL_d4b9f633fd8e436691e847affb28e00e",
       "value": true
      }
     },
     "b949026b8c67487686303947e66a0280": {
      "model_module": "@jupyter-widgets/controls",
      "model_module_version": "1.1.0",
      "model_name": "ToggleButtonsStyleModel",
      "state": {
       "button_width": "",
       "description_width": ""
      }
     },
     "b957fd9211284d609f9603993f986749": {
      "model_module": "@jupyter-widgets/controls",
      "model_module_version": "1.1.0",
      "model_name": "DescriptionStyleModel",
      "state": {
       "description_width": ""
      }
     },
     "b9990a2b49b6435698c983f95dffee98": {
      "model_module": "@jupyter-widgets/controls",
      "model_module_version": "1.1.0",
      "model_name": "CheckboxModel",
      "state": {
       "description": "45°",
       "disabled": false,
       "layout": "IPY_MODEL_c14dc0adba2447e4baf73e910a05fa09",
       "style": "IPY_MODEL_c215f301a28d414e99b205b3675a75b2",
       "value": true
      }
     },
     "b9a295703a434006a11d43612918cd24": {
      "model_module": "@jupyter-widgets/controls",
      "model_module_version": "1.1.0",
      "model_name": "LabelModel",
      "state": {
       "layout": "IPY_MODEL_d1ac398fa03e44a19539a04c4ceeade0",
       "style": "IPY_MODEL_562a8ee6c510478180bbe9768376706b",
       "value": "Select the detector angles to plot."
      }
     },
     "b9dab9d17bf64a35a64df1f99eb71dff": {
      "model_module": "@jupyter-widgets/controls",
      "model_module_version": "1.1.0",
      "model_name": "LabelModel",
      "state": {
       "layout": "IPY_MODEL_1bc61067e7e84ec4893204250a69454a",
       "style": "IPY_MODEL_75b462689dd34b93816d80b241ce3836",
       "value": "Select which secondary particle to plot spectra for."
      }
     },
     "b9fe73a9d00447f5a6611838aa68771a": {
      "model_module": "@jupyter-widgets/base",
      "model_module_version": "1.0.0",
      "model_name": "LayoutModel",
      "state": {}
     },
     "ba5974914274434e849a78b98524392b": {
      "model_module": "@jupyter-widgets/base",
      "model_module_version": "1.0.0",
      "model_name": "LayoutModel",
      "state": {}
     },
     "ba69a78e6aeb4bbea77b34d2f431ded8": {
      "model_module": "@jupyter-widgets/controls",
      "model_module_version": "1.1.0",
      "model_name": "DescriptionStyleModel",
      "state": {
       "description_width": ""
      }
     },
     "ba78bc8a1130442f9a4edeca1e7ac020": {
      "model_module": "@jupyter-widgets/controls",
      "model_module_version": "1.1.0",
      "model_name": "CheckboxModel",
      "state": {
       "description": "60°",
       "disabled": false,
       "layout": "IPY_MODEL_38c4777f06d8457d84f1bb3212e9c5a4",
       "style": "IPY_MODEL_2c1a48858de5405496aade8f31332dc4",
       "value": true
      }
     },
     "ba7e0728ba3d417ca8231f82f6648646": {
      "model_module": "@jupyter-widgets/base",
      "model_module_version": "1.0.0",
      "model_name": "LayoutModel",
      "state": {}
     },
     "ba8a10037e434f2aa71abde4f5d250dd": {
      "model_module": "@jupyter-widgets/controls",
      "model_module_version": "1.1.0",
      "model_name": "DescriptionStyleModel",
      "state": {
       "description_width": ""
      }
     },
     "baa9ddbc265546269ba4c9d6de39ae5a": {
      "model_module": "@jupyter-widgets/controls",
      "model_module_version": "1.1.0",
      "model_name": "DescriptionStyleModel",
      "state": {
       "description_width": ""
      }
     },
     "bae7a6f7fe1a4131a2844ed828976a30": {
      "model_module": "@jupyter-widgets/controls",
      "model_module_version": "1.1.0",
      "model_name": "DescriptionStyleModel",
      "state": {
       "description_width": ""
      }
     },
     "baf6d63299f54108a883c23ac2fe5f20": {
      "model_module": "@jupyter-widgets/base",
      "model_module_version": "1.0.0",
      "model_name": "LayoutModel",
      "state": {}
     },
     "bb0ee65ce4894fc79a7cad5d70b7b308": {
      "model_module": "@jupyter-widgets/controls",
      "model_module_version": "1.1.0",
      "model_name": "DescriptionStyleModel",
      "state": {
       "description_width": ""
      }
     },
     "bb2cd9b121534a8290c6451b95d7d29c": {
      "model_module": "@jupyter-widgets/controls",
      "model_module_version": "1.1.0",
      "model_name": "DescriptionStyleModel",
      "state": {
       "description_width": ""
      }
     },
     "bb9f995dec93484fbc27fa706f5fd3f1": {
      "model_module": "@jupyter-widgets/controls",
      "model_module_version": "1.1.0",
      "model_name": "DescriptionStyleModel",
      "state": {
       "description_width": ""
      }
     },
     "bbb5f1f4d7e24b1a81fd951913eb0c43": {
      "model_module": "@jupyter-widgets/base",
      "model_module_version": "1.0.0",
      "model_name": "LayoutModel",
      "state": {}
     },
     "bbfdb7e282fb4cf7a8c4f45ee8f7158b": {
      "model_module": "@jupyter-widgets/base",
      "model_module_version": "1.0.0",
      "model_name": "LayoutModel",
      "state": {}
     },
     "bc51dbf7d6b44cb0861568d60899abdf": {
      "model_module": "@jupyter-widgets/base",
      "model_module_version": "1.0.0",
      "model_name": "LayoutModel",
      "state": {}
     },
     "bc66069ba2424e408276de2b0e664572": {
      "model_module": "@jupyter-widgets/base",
      "model_module_version": "1.0.0",
      "model_name": "LayoutModel",
      "state": {}
     },
     "bcb669779e704f5bbc7005e2a8fe5f34": {
      "model_module": "@jupyter-widgets/controls",
      "model_module_version": "1.1.0",
      "model_name": "DescriptionStyleModel",
      "state": {
       "description_width": ""
      }
     },
     "bd362c07cd334d70bd7f4785fc3d74b8": {
      "model_module": "@jupyter-widgets/controls",
      "model_module_version": "1.1.0",
      "model_name": "LabelModel",
      "state": {
       "layout": "IPY_MODEL_3f65a85a160a4441a7874fdb881d8141",
       "style": "IPY_MODEL_9a782c49ef184e6187246afe41090552",
       "value": "Select projectile ion energy."
      }
     },
     "bd41122844de4aae8b4b30b5db539440": {
      "model_module": "@jupyter-widgets/controls",
      "model_module_version": "1.1.0",
      "model_name": "LabelModel",
      "state": {
       "layout": "IPY_MODEL_16826bc0ce984138840e74701681d5b5",
       "style": "IPY_MODEL_04f6f0b7ec3144c382a4cc7cc0382006",
       "value": "Select which secondary particle to plot spectra for."
      }
     },
     "bd483a3dc18d413ea212d738f4af43c7": {
      "model_module": "@jupyter-widgets/controls",
      "model_module_version": "1.1.0",
      "model_name": "LabelModel",
      "state": {
       "layout": "IPY_MODEL_16f7563b15f24961b00e03182136e5e0",
       "style": "IPY_MODEL_89ba51ac47ff491199111cd3336fdf93",
       "value": "Select projectile ion species and energy."
      }
     },
     "bd5febe9c93d4f3d9f7c0a2de919bdcd": {
      "model_module": "@jupyter-widgets/controls",
      "model_module_version": "1.1.0",
      "model_name": "LabelModel",
      "state": {
       "layout": "IPY_MODEL_7bd7ac599ac74a43b9d70028a1cfbf6b",
       "style": "IPY_MODEL_55e1e3be375a42268d92b16cccceeff0",
       "value": "Select projectile ion energy."
      }
     },
     "bda8a0b7dba3496ba7ce9e542d024565": {
      "model_module": "@jupyter-widgets/base",
      "model_module_version": "1.0.0",
      "model_name": "LayoutModel",
      "state": {}
     },
     "bdbce8b329e84bacadec6d2e96f30b1e": {
      "model_module": "@jupyter-widgets/base",
      "model_module_version": "1.0.0",
      "model_name": "LayoutModel",
      "state": {}
     },
     "bdf78436e9c142c9a60aa393d33ca884": {
      "model_module": "@jupyter-widgets/base",
      "model_module_version": "1.0.0",
      "model_name": "LayoutModel",
      "state": {}
     },
     "be7c1d76834143be9f8d17152e78cf48": {
      "model_module": "@jupyter-widgets/controls",
      "model_module_version": "1.1.0",
      "model_name": "DescriptionStyleModel",
      "state": {
       "description_width": ""
      }
     },
     "be7e7da3f74547e9b6d4c1ebe08afb4a": {
      "model_module": "@jupyter-widgets/base",
      "model_module_version": "1.0.0",
      "model_name": "LayoutModel",
      "state": {}
     },
     "beab15b6f69046b9a9896a6d4c041455": {
      "model_module": "@jupyter-widgets/controls",
      "model_module_version": "1.1.0",
      "model_name": "CheckboxModel",
      "state": {
       "description": "MCNP simulated",
       "disabled": false,
       "layout": "IPY_MODEL_85f344bca2d2496c920f8d78b4cd6a77",
       "style": "IPY_MODEL_3ab5122a8d864d1d9bbb389b35e1ab2d",
       "value": true
      }
     },
     "bec0a54e31b749e9ad4b1152e11a6e85": {
      "model_module": "@jupyter-widgets/base",
      "model_module_version": "1.0.0",
      "model_name": "LayoutModel",
      "state": {}
     },
     "bf33cefc9a6c478fadc7163128193859": {
      "model_module": "@jupyter-widgets/controls",
      "model_module_version": "1.1.0",
      "model_name": "DescriptionStyleModel",
      "state": {
       "description_width": ""
      }
     },
     "bf382fe9a9d94fe6afae769e4d07fb7e": {
      "model_module": "@jupyter-widgets/controls",
      "model_module_version": "1.1.0",
      "model_name": "DescriptionStyleModel",
      "state": {
       "description_width": ""
      }
     },
     "bf3f53a943e7415d8dcc29ce937d5d99": {
      "model_module": "@jupyter-widgets/base",
      "model_module_version": "1.0.0",
      "model_name": "LayoutModel",
      "state": {}
     },
     "bf46a752abcc4d5fbf32245fdf95c4c6": {
      "model_module": "@jupyter-widgets/controls",
      "model_module_version": "1.1.0",
      "model_name": "DescriptionStyleModel",
      "state": {
       "description_width": ""
      }
     },
     "bfa9678962414ce1a91370a38ecd8bea": {
      "model_module": "@jupyter-widgets/controls",
      "model_module_version": "1.1.0",
      "model_name": "CheckboxModel",
      "state": {
       "description": "45°",
       "disabled": false,
       "layout": "IPY_MODEL_72fe73391da34aa7b16dcf466b9d7dcc",
       "style": "IPY_MODEL_84bb49288518474f8493046eb8864d73",
       "value": true
      }
     },
     "bfd6c883ab654524b99c3f030206e901": {
      "model_module": "@jupyter-widgets/base",
      "model_module_version": "1.0.0",
      "model_name": "LayoutModel",
      "state": {}
     },
     "bffadc0fdad34452a4d2a071f33aced7": {
      "model_module": "@jupyter-widgets/controls",
      "model_module_version": "1.1.0",
      "model_name": "CheckboxModel",
      "state": {
       "description": "80°",
       "disabled": false,
       "layout": "IPY_MODEL_53f0713094b941d09069608eb0b7e26c",
       "style": "IPY_MODEL_e10661569efd495da1417ba600cbe9cb",
       "value": true
      }
     },
     "c0022b5007774bf79c4d4b1687aa6774": {
      "model_module": "@jupyter-widgets/controls",
      "model_module_version": "1.1.0",
      "model_name": "CheckboxModel",
      "state": {
       "description": "30°",
       "disabled": false,
       "layout": "IPY_MODEL_fb4e6dcac5164de5891986bbceb3509d",
       "style": "IPY_MODEL_3d95b66ff94d442283299aecf4512049",
       "value": false
      }
     },
     "c01c78719669455786f6a3d7f97a34f2": {
      "model_module": "@jupyter-widgets/controls",
      "model_module_version": "1.1.0",
      "model_name": "ToggleButtonsStyleModel",
      "state": {
       "button_width": "",
       "description_width": ""
      }
     },
     "c028581d290146adb6944ce81d6a8445": {
      "model_module": "@jupyter-widgets/base",
      "model_module_version": "1.0.0",
      "model_name": "LayoutModel",
      "state": {}
     },
     "c0499be5ef594524a3196add15ece8df": {
      "model_module": "@jupyter-widgets/controls",
      "model_module_version": "1.1.0",
      "model_name": "DescriptionStyleModel",
      "state": {
       "description_width": ""
      }
     },
     "c056e640edce4c269d8bbf0f54262eae": {
      "model_module": "@jupyter-widgets/base",
      "model_module_version": "1.0.0",
      "model_name": "LayoutModel",
      "state": {}
     },
     "c0590248ff2b4526bf62006198a16f0e": {
      "model_module": "@jupyter-widgets/base",
      "model_module_version": "1.0.0",
      "model_name": "LayoutModel",
      "state": {}
     },
     "c0771b671595474abd61daef2cdb5433": {
      "model_module": "@jupyter-widgets/base",
      "model_module_version": "1.0.0",
      "model_name": "LayoutModel",
      "state": {}
     },
     "c0f6777710504c2a9dc4db5719a18f44": {
      "model_module": "@jupyter-widgets/controls",
      "model_module_version": "1.1.0",
      "model_name": "LabelModel",
      "state": {
       "layout": "IPY_MODEL_9c3d1a868c3744808e6abb20b62e5b3c",
       "style": "IPY_MODEL_1487e8abab6d47ebb0c49c2e27bd0fc5",
       "value": "Select which secondary particle to plot spectra for."
      }
     },
     "c14dc0adba2447e4baf73e910a05fa09": {
      "model_module": "@jupyter-widgets/base",
      "model_module_version": "1.0.0",
      "model_name": "LayoutModel",
      "state": {}
     },
     "c15c7534a6b2413885d8a67c1a50e638": {
      "model_module": "@jupyter-widgets/base",
      "model_module_version": "1.0.0",
      "model_name": "LayoutModel",
      "state": {}
     },
     "c1aebeaac9fa4ea282b7974dbfe4b85e": {
      "model_module": "@jupyter-widgets/base",
      "model_module_version": "1.0.0",
      "model_name": "LayoutModel",
      "state": {}
     },
     "c1b4698aaec643bf83f637a29587f2b2": {
      "model_module": "@jupyter-widgets/base",
      "model_module_version": "1.0.0",
      "model_name": "LayoutModel",
      "state": {}
     },
     "c1b9929aef52467a8cb15e30ab6a6022": {
      "model_module": "@jupyter-widgets/controls",
      "model_module_version": "1.1.0",
      "model_name": "ToggleButtonsModel",
      "state": {
       "_options_labels": [
        "N (¹n)",
        "NDC (¹n)",
        "P (¹H)",
        "D (²H)",
        "T (³H)",
        "S (³He)",
        "A (⁴He)"
       ],
       "button_style": "",
       "description": "Type:",
       "icons": [],
       "index": 0,
       "layout": "IPY_MODEL_ba5974914274434e849a78b98524392b",
       "style": "IPY_MODEL_b57b30fb574d4bc390c13d021a91cb9f",
       "tooltips": [
        "Neutron",
        "Back Target Neutron",
        "Proton",
        "Deuteron",
        "Triton",
        "Helium-3",
        "Helium-4"
       ]
      }
     },
     "c1c5f6f054eb47afa07f81d79557c135": {
      "model_module": "@jupyter-widgets/controls",
      "model_module_version": "1.1.0",
      "model_name": "CheckboxModel",
      "state": {
       "description": "80°",
       "disabled": false,
       "layout": "IPY_MODEL_eb377fa66aa746eb968995e2f2ab0fb4",
       "style": "IPY_MODEL_a321347d4d5f4ecb987a829fce03e8c4",
       "value": true
      }
     },
     "c1cd48b836b04ac39da55e011f815606": {
      "model_module": "@jupyter-widgets/controls",
      "model_module_version": "1.1.0",
      "model_name": "CheckboxModel",
      "state": {
       "description": "60°",
       "disabled": false,
       "layout": "IPY_MODEL_d64a6f169766417687bda1456c4afe74",
       "style": "IPY_MODEL_d9522eb135c94484ab8c6f8eead3da76",
       "value": true
      }
     },
     "c1f0fe0e0033488dbc36898ea42ec496": {
      "model_module": "@jupyter-widgets/controls",
      "model_module_version": "1.1.0",
      "model_name": "CheckboxModel",
      "state": {
       "description": "135°",
       "disabled": false,
       "layout": "IPY_MODEL_e4b014e21c154a99a472d17155e7609e",
       "style": "IPY_MODEL_2cbce1b442a14338ac65ea260a0b4912",
       "value": true
      }
     },
     "c1ffa3b527a14f749db3767d28b3376e": {
      "model_module": "@jupyter-widgets/controls",
      "model_module_version": "1.1.0",
      "model_name": "CheckboxModel",
      "state": {
       "description": "135°",
       "disabled": false,
       "layout": "IPY_MODEL_6592682b66da430baa3d52e6c03c9f70",
       "style": "IPY_MODEL_a04b56b70c6047e7b67fb614b236f0a7",
       "value": true
      }
     },
     "c215f301a28d414e99b205b3675a75b2": {
      "model_module": "@jupyter-widgets/controls",
      "model_module_version": "1.1.0",
      "model_name": "DescriptionStyleModel",
      "state": {
       "description_width": ""
      }
     },
     "c228732bfbf743af860c7684138408c2": {
      "model_module": "@jupyter-widgets/controls",
      "model_module_version": "1.1.0",
      "model_name": "CheckboxModel",
      "state": {
       "description": "135°",
       "disabled": false,
       "layout": "IPY_MODEL_f53498484d3e4625ba5faed05d104562",
       "style": "IPY_MODEL_2225873d1fc84b7c8f4477065572bcf8",
       "value": true
      }
     },
     "c247e4d27db645cdbb1e7153192027f9": {
      "model_module": "@jupyter-widgets/base",
      "model_module_version": "1.0.0",
      "model_name": "LayoutModel",
      "state": {}
     },
     "c24a1cfb75f44d6392ee6ea2874d43d0": {
      "model_module": "@jupyter-widgets/base",
      "model_module_version": "1.0.0",
      "model_name": "LayoutModel",
      "state": {}
     },
     "c2605c1cb60749a7b7270bcd75f72b79": {
      "model_module": "@jupyter-widgets/controls",
      "model_module_version": "1.1.0",
      "model_name": "DescriptionStyleModel",
      "state": {
       "description_width": ""
      }
     },
     "c2da93c1248a406e97cdbda52cd4353e": {
      "model_module": "@jupyter-widgets/base",
      "model_module_version": "1.0.0",
      "model_name": "LayoutModel",
      "state": {}
     },
     "c318953cfd4243008e86467387d08b65": {
      "model_module": "@jupyter-widgets/controls",
      "model_module_version": "1.1.0",
      "model_name": "ToggleButtonsModel",
      "state": {
       "_options_labels": [
        "N (¹n)",
        "NDC (¹n)",
        "P (¹H)",
        "D (²H)",
        "T (³H)",
        "S (³He)",
        "A (⁴He)"
       ],
       "button_style": "",
       "description": "Type:",
       "icons": [],
       "index": 0,
       "layout": "IPY_MODEL_0746464c2c8941e88c580ec518a56bda",
       "style": "IPY_MODEL_6534c2495cb84bcebdd805f461b0f732",
       "tooltips": [
        "Neutron",
        "Back Target Neutron",
        "Proton",
        "Deuteron",
        "Triton",
        "Helium-3",
        "Helium-4"
       ]
      }
     },
     "c3400ef1c4144ff0a3d3f80ad347eef2": {
      "model_module": "@jupyter-widgets/controls",
      "model_module_version": "1.1.0",
      "model_name": "CheckboxModel",
      "state": {
       "description": "30°",
       "disabled": false,
       "layout": "IPY_MODEL_dbebba09632b483a9b1a0034cee0d6a2",
       "style": "IPY_MODEL_7fda445d7820403baadc8a73574b6efa",
       "value": false
      }
     },
     "c341e551dd3f44e6b6220a52550cbe89": {
      "model_module": "@jupyter-widgets/controls",
      "model_module_version": "1.1.0",
      "model_name": "DescriptionStyleModel",
      "state": {
       "description_width": ""
      }
     },
     "c364e5d45e4041ecb1b0e2902e992113": {
      "model_module": "@jupyter-widgets/controls",
      "model_module_version": "1.1.0",
      "model_name": "DescriptionStyleModel",
      "state": {
       "description_width": ""
      }
     },
     "c36ab799793746f6bc03bf2334ab97d9": {
      "model_module": "@jupyter-widgets/base",
      "model_module_version": "1.0.0",
      "model_name": "LayoutModel",
      "state": {}
     },
     "c3a04ceeb2e74e89bb7895f0f5657097": {
      "model_module": "@jupyter-widgets/controls",
      "model_module_version": "1.1.0",
      "model_name": "DescriptionStyleModel",
      "state": {
       "description_width": ""
      }
     },
     "c3cab31f4d4f4a858cd9408d120aca09": {
      "model_module": "@jupyter-widgets/base",
      "model_module_version": "1.0.0",
      "model_name": "LayoutModel",
      "state": {}
     },
     "c3ecc9526c494ff2a70d7aeab2d6a81a": {
      "model_module": "@jupyter-widgets/base",
      "model_module_version": "1.0.0",
      "model_name": "LayoutModel",
      "state": {}
     },
     "c3f3fef894c94cb3a2fed42e5d4f1d51": {
      "model_module": "@jupyter-widgets/base",
      "model_module_version": "1.0.0",
      "model_name": "LayoutModel",
      "state": {}
     },
     "c427e3c1ea6549109d108f8a2ff7ce3d": {
      "model_module": "@jupyter-widgets/base",
      "model_module_version": "1.0.0",
      "model_name": "LayoutModel",
      "state": {}
     },
     "c43587bf18fc4df3aa6cd8e0c6462a00": {
      "model_module": "@jupyter-widgets/controls",
      "model_module_version": "1.1.0",
      "model_name": "CheckboxModel",
      "state": {
       "description": "45°",
       "disabled": false,
       "layout": "IPY_MODEL_3b0965cfea5647cda8732d9283755930",
       "style": "IPY_MODEL_708e8d7a766147bbbdf1d488d6ce12fb",
       "value": true
      }
     },
     "c459114639ed4bc5a71cb01a38c3b60d": {
      "model_module": "@jupyter-widgets/controls",
      "model_module_version": "1.1.0",
      "model_name": "DescriptionStyleModel",
      "state": {
       "description_width": ""
      }
     },
     "c467599e69bc488e82d4f38a5ff5f2cb": {
      "model_module": "@jupyter-widgets/controls",
      "model_module_version": "1.1.0",
      "model_name": "CheckboxModel",
      "state": {
       "description": "60°",
       "disabled": false,
       "layout": "IPY_MODEL_221bea030d1f40a2b9b84b5abf1b088f",
       "style": "IPY_MODEL_2a459902ad7c4a8298153c85b011898a",
       "value": true
      }
     },
     "c4a1b29d0fb141bdbb5de598c0f0303c": {
      "model_module": "@jupyter-widgets/controls",
      "model_module_version": "1.1.0",
      "model_name": "DescriptionStyleModel",
      "state": {
       "description_width": ""
      }
     },
     "c4a57c92eebd4810aa0aa71fd8bd643b": {
      "model_module": "@jupyter-widgets/controls",
      "model_module_version": "1.1.0",
      "model_name": "ToggleButtonsModel",
      "state": {
       "_options_labels": [
        "N (¹n)",
        "NDC (¹n)",
        "P (¹H)",
        "D (²H)",
        "T (³H)",
        "S (³He)",
        "A (⁴He)"
       ],
       "button_style": "",
       "description": "Secondary:",
       "icons": [],
       "index": 0,
       "layout": "IPY_MODEL_701d737cb8f8401b810a0390210365f7",
       "style": "IPY_MODEL_6db02d35a9c74e88ba5a58093a39757d",
       "tooltips": [
        "Neutron",
        "Back Target Neutron",
        "Proton",
        "Deuteron",
        "Triton",
        "Helium-3",
        "Helium-4"
       ]
      }
     },
     "c4c4135d776f4acd9de51c55ac838f6e": {
      "model_module": "@jupyter-widgets/base",
      "model_module_version": "1.0.0",
      "model_name": "LayoutModel",
      "state": {}
     },
     "c5319387ee0f448b983f45fd842808da": {
      "model_module": "@jupyter-widgets/controls",
      "model_module_version": "1.1.0",
      "model_name": "DescriptionStyleModel",
      "state": {
       "description_width": ""
      }
     },
     "c55be318b618401aa49426e531b98d5a": {
      "model_module": "@jupyter-widgets/controls",
      "model_module_version": "1.1.0",
      "model_name": "DescriptionStyleModel",
      "state": {
       "description_width": ""
      }
     },
     "c562ef4f47e44ba4a25a1214067302a6": {
      "model_module": "@jupyter-widgets/controls",
      "model_module_version": "1.1.0",
      "model_name": "ToggleButtonsModel",
      "state": {
       "_options_labels": [
        "N (¹n)",
        "NDC (¹n)",
        "P (¹H)",
        "D (²H)",
        "T (³H)",
        "S (³He)",
        "A (⁴He)"
       ],
       "button_style": "",
       "description": "Type:",
       "icons": [],
       "index": 0,
       "layout": "IPY_MODEL_c1aebeaac9fa4ea282b7974dbfe4b85e",
       "style": "IPY_MODEL_f5ec4bafce8a47389fc36bbf380ff089",
       "tooltips": [
        "Neutron",
        "Back Target Neutron",
        "Proton",
        "Deuteron",
        "Triton",
        "Helium-3",
        "Helium-4"
       ]
      }
     },
     "c56ced0041c94f55aaa3a317d34c1d09": {
      "model_module": "@jupyter-widgets/controls",
      "model_module_version": "1.1.0",
      "model_name": "CheckboxModel",
      "state": {
       "description": "10°",
       "disabled": false,
       "layout": "IPY_MODEL_851d0803bb734f5cb54c8d637c457fd7",
       "style": "IPY_MODEL_652dafb0d07046108b2c23f2fb75432c",
       "value": true
      }
     },
     "c5ba512b65544eac8892c3d40dc607c7": {
      "model_module": "@jupyter-widgets/controls",
      "model_module_version": "1.1.0",
      "model_name": "CheckboxModel",
      "state": {
       "description": "80°",
       "disabled": false,
       "layout": "IPY_MODEL_5d2d2ef1e6f84956a3c03ae6b9da9860",
       "style": "IPY_MODEL_63d86dafd39f4b03988a50402ac33d4c",
       "value": true
      }
     },
     "c5d36e086e9d4cc3b7d1557ef0f7fa5e": {
      "model_module": "@jupyter-widgets/base",
      "model_module_version": "1.0.0",
      "model_name": "LayoutModel",
      "state": {}
     },
     "c6149c9d664341eeb822611421881604": {
      "model_module": "@jupyter-widgets/base",
      "model_module_version": "1.0.0",
      "model_name": "LayoutModel",
      "state": {}
     },
     "c62d708d273e40c981235311559699b9": {
      "model_module": "@jupyter-widgets/controls",
      "model_module_version": "1.1.0",
      "model_name": "DescriptionStyleModel",
      "state": {
       "description_width": ""
      }
     },
     "c65b04ff06e647c3a975ba85789edcdd": {
      "model_module": "@jupyter-widgets/controls",
      "model_module_version": "1.1.0",
      "model_name": "DescriptionStyleModel",
      "state": {
       "description_width": ""
      }
     },
     "c678569758de4f529b9236ee5c8403d5": {
      "model_module": "@jupyter-widgets/controls",
      "model_module_version": "1.1.0",
      "model_name": "DescriptionStyleModel",
      "state": {
       "description_width": ""
      }
     },
     "c6d34a4b256b4c58bd95617ca18f265f": {
      "model_module": "@jupyter-widgets/controls",
      "model_module_version": "1.1.0",
      "model_name": "CheckboxModel",
      "state": {
       "description": "10°",
       "disabled": false,
       "layout": "IPY_MODEL_99b698eb56d747a4b5796dc5533fe444",
       "style": "IPY_MODEL_90182fc3b98247dda06477453d580c02",
       "value": true
      }
     },
     "c6e914b0c98940cfb5bdd881a7c06bf3": {
      "model_module": "@jupyter-widgets/controls",
      "model_module_version": "1.1.0",
      "model_name": "DescriptionStyleModel",
      "state": {
       "description_width": ""
      }
     },
     "c72ecd5963ba4d40907396c95939e1c6": {
      "model_module": "@jupyter-widgets/base",
      "model_module_version": "1.0.0",
      "model_name": "LayoutModel",
      "state": {}
     },
     "c7328194159f4f2d85a4bda0a8139429": {
      "model_module": "@jupyter-widgets/controls",
      "model_module_version": "1.1.0",
      "model_name": "ButtonModel",
      "state": {
       "button_style": "success",
       "description": "Update plot",
       "icon": "paint-brush",
       "layout": "IPY_MODEL_5d45e9bedef14a86a1f78bb791530cec",
       "style": "IPY_MODEL_47696c0e2de54cffb03295fdca3ba4f9",
       "tooltip": "Click to redraw the plot below with updated options from above."
      }
     },
     "c758b050ef9b47c8b35069f92aa067b8": {
      "model_module": "@jupyter-widgets/base",
      "model_module_version": "1.0.0",
      "model_name": "LayoutModel",
      "state": {}
     },
     "c760664bc998443bb84932afb31eaad6": {
      "model_module": "@jupyter-widgets/base",
      "model_module_version": "1.0.0",
      "model_name": "LayoutModel",
      "state": {}
     },
     "c781799eb21a4af9aa79ac3f284d2c6c": {
      "model_module": "@jupyter-widgets/controls",
      "model_module_version": "1.1.0",
      "model_name": "LabelModel",
      "state": {
       "layout": "IPY_MODEL_88cfa02151b34707990f8b6da4262858",
       "style": "IPY_MODEL_d21dcefe518440e3b2bc50573c012adc",
       "value": "Select which secondary particle to plot spectra for."
      }
     },
     "c7c074fc033c4dddb885c5dd94e89828": {
      "model_module": "@jupyter-widgets/controls",
      "model_module_version": "1.1.0",
      "model_name": "LabelModel",
      "state": {
       "layout": "IPY_MODEL_c36ab799793746f6bc03bf2334ab97d9",
       "style": "IPY_MODEL_c459114639ed4bc5a71cb01a38c3b60d",
       "value": "Select which sets of data to display."
      }
     },
     "c7cfcb5d67974ae0ba1f4bc0e90120d3": {
      "model_module": "@jupyter-widgets/base",
      "model_module_version": "1.0.0",
      "model_name": "LayoutModel",
      "state": {}
     },
     "c816ae50e3264d988f545c5092782e7c": {
      "model_module": "@jupyter-widgets/controls",
      "model_module_version": "1.1.0",
      "model_name": "CheckboxModel",
      "state": {
       "description": "28.2°",
       "disabled": false,
       "layout": "IPY_MODEL_6860fc537c664772b30afb7ebfc841f2",
       "style": "IPY_MODEL_381a1152e0f54045a01f73deaa3a0891",
       "value": false
      }
     },
     "c8211cb6300e44fa966325786ab29b71": {
      "model_module": "@jupyter-widgets/controls",
      "model_module_version": "1.1.0",
      "model_name": "DescriptionStyleModel",
      "state": {
       "description_width": ""
      }
     },
     "c8511dd3661343c6858f5476e0b6fc22": {
      "model_module": "@jupyter-widgets/controls",
      "model_module_version": "1.1.0",
      "model_name": "CheckboxModel",
      "state": {
       "description": "45°",
       "disabled": false,
       "layout": "IPY_MODEL_7ece3efc3e354dbfafc81f8f5768649d",
       "style": "IPY_MODEL_3c1f3f08990e48fa8891fc336116f9c7",
       "value": true
      }
     },
     "c8572d550f764f4fa25c8affbd897b36": {
      "model_module": "@jupyter-widgets/controls",
      "model_module_version": "1.1.0",
      "model_name": "ButtonModel",
      "state": {
       "button_style": "success",
       "description": "Update plot",
       "icon": "paint-brush",
       "layout": "IPY_MODEL_aef4391aa0ee4ab78258b8820f439057",
       "style": "IPY_MODEL_1a684b2eadf148cba283c44e38e6ec3c",
       "tooltip": "Click to redraw the plot below with updated options from above."
      }
     },
     "c8ae63bb7c01400db0e6029877fcd041": {
      "model_module": "@jupyter-widgets/controls",
      "model_module_version": "1.1.0",
      "model_name": "DescriptionStyleModel",
      "state": {
       "description_width": ""
      }
     },
     "c9096cce08064afe9a49ae9c2fa7066b": {
      "model_module": "@jupyter-widgets/base",
      "model_module_version": "1.0.0",
      "model_name": "LayoutModel",
      "state": {}
     },
     "c91d206c71514e329592f5b2d7847ce1": {
      "model_module": "@jupyter-widgets/controls",
      "model_module_version": "1.1.0",
      "model_name": "ToggleButtonsModel",
      "state": {
       "_options_labels": [
        "OLS",
        "NaI"
       ],
       "button_style": "",
       "description": "Type:",
       "icons": [],
       "index": 0,
       "layout": "IPY_MODEL_bda8a0b7dba3496ba7ce9e542d024565",
       "style": "IPY_MODEL_5f3628b512394296a21837d4baf0cae3",
       "tooltips": [
        "Organic Liquid Scintillator",
        "Sodium Iodide"
       ]
      }
     },
     "c95e28d6844e45619a4a4d1857fd5165": {
      "model_module": "@jupyter-widgets/controls",
      "model_module_version": "1.1.0",
      "model_name": "DescriptionStyleModel",
      "state": {
       "description_width": ""
      }
     },
     "c9a56b89822e4c4fbe565ecbbd144637": {
      "model_module": "@jupyter-widgets/controls",
      "model_module_version": "1.1.0",
      "model_name": "DescriptionStyleModel",
      "state": {
       "description_width": ""
      }
     },
     "c9cb879e1adc497faaf4f9487356048f": {
      "model_module": "@jupyter-widgets/controls",
      "model_module_version": "1.1.0",
      "model_name": "ToggleButtonsStyleModel",
      "state": {
       "button_width": "",
       "description_width": ""
      }
     },
     "ca085263f9b244b0a4e6d635af9f2787": {
      "model_module": "@jupyter-widgets/controls",
      "model_module_version": "1.1.0",
      "model_name": "CheckboxModel",
      "state": {
       "description": "45°",
       "disabled": false,
       "layout": "IPY_MODEL_3c0a2da75dd243fc8e9cabdd1f16b48c",
       "style": "IPY_MODEL_6e2dd0d385234c758577ccd5cbbbcad0",
       "value": true
      }
     },
     "ca182e3a0f424fc68dfb41f48a7d9b02": {
      "model_module": "@jupyter-widgets/controls",
      "model_module_version": "1.1.0",
      "model_name": "ToggleButtonsModel",
      "state": {
       "_options_labels": [
        "N (¹n)",
        "NDC (¹n)"
       ],
       "button_style": "",
       "description": "Type:",
       "icons": [],
       "index": 0,
       "layout": "IPY_MODEL_5101c32fba2647e7b23b2c007b6a958d",
       "style": "IPY_MODEL_cc98f6ce25ae4f01a2d0186e181a2604",
       "tooltips": [
        "Neutron",
        "Back Target Neutron"
       ]
      }
     },
     "ca45354f50c94677a51e2632ed6da418": {
      "model_module": "@jupyter-widgets/controls",
      "model_module_version": "1.1.0",
      "model_name": "DescriptionStyleModel",
      "state": {
       "description_width": ""
      }
     },
     "ca97b7d91b494700a0f9d8dbcdc06288": {
      "model_module": "@jupyter-widgets/controls",
      "model_module_version": "1.1.0",
      "model_name": "CheckboxModel",
      "state": {
       "description": "45°",
       "disabled": false,
       "layout": "IPY_MODEL_3ab053ea2b48422690ce68b194f7ddce",
       "style": "IPY_MODEL_e68d8f144a094788886e98075cc5562e",
       "value": true
      }
     },
     "caa204e113d1449080e1c516dedcc235": {
      "model_module": "@jupyter-widgets/controls",
      "model_module_version": "1.1.0",
      "model_name": "DescriptionStyleModel",
      "state": {
       "description_width": ""
      }
     },
     "cab1869c6d1a4ab0bb065fd99a0140ad": {
      "model_module": "@jupyter-widgets/base",
      "model_module_version": "1.0.0",
      "model_name": "LayoutModel",
      "state": {}
     },
     "cb0a7974a4e34272921826b18fdb2d63": {
      "model_module": "@jupyter-widgets/controls",
      "model_module_version": "1.1.0",
      "model_name": "CheckboxModel",
      "state": {
       "description": "10°",
       "disabled": false,
       "layout": "IPY_MODEL_4b2dacfe18dc47e1a9d89b9d4d0d17ff",
       "style": "IPY_MODEL_6ba8174a3a714bbda95b620867e30c97",
       "value": true
      }
     },
     "cb181dab03d54ddba255fc96e4d2a1cd": {
      "model_module": "@jupyter-widgets/controls",
      "model_module_version": "1.1.0",
      "model_name": "LabelModel",
      "state": {
       "layout": "IPY_MODEL_298021c8e8b04b778ba3e3be8f36f9d6",
       "style": "IPY_MODEL_d9d5d8db352a493f88c715bae758c0a6",
       "value": "Select projectile ion energy."
      }
     },
     "cb570e4a32cf48c1b8b9eb2590302fbc": {
      "model_module": "@jupyter-widgets/controls",
      "model_module_version": "1.1.0",
      "model_name": "DescriptionStyleModel",
      "state": {
       "description_width": ""
      }
     },
     "cc25001962124cd0b19df67981cb178d": {
      "model_module": "@jupyter-widgets/controls",
      "model_module_version": "1.1.0",
      "model_name": "DescriptionStyleModel",
      "state": {
       "description_width": ""
      }
     },
     "cc5a322d499e45ec875485585e0187e8": {
      "model_module": "@jupyter-widgets/base",
      "model_module_version": "1.0.0",
      "model_name": "LayoutModel",
      "state": {}
     },
     "cc65ddbade114d65816325a44dc067e5": {
      "model_module": "@jupyter-widgets/controls",
      "model_module_version": "1.1.0",
      "model_name": "LabelModel",
      "state": {
       "layout": "IPY_MODEL_af0482e6032a4b5c895c578b92a107b1",
       "style": "IPY_MODEL_ef63fe9cf051472285a2119408a5362c",
       "value": "Select the detector angles to plot."
      }
     },
     "cc72e4f4aa744945b46d2989b2c8382b": {
      "model_module": "@jupyter-widgets/base",
      "model_module_version": "1.0.0",
      "model_name": "LayoutModel",
      "state": {}
     },
     "cc8d38e0424c4fb483595feafc62784c": {
      "model_module": "@jupyter-widgets/controls",
      "model_module_version": "1.1.0",
      "model_name": "ToggleButtonsStyleModel",
      "state": {
       "button_width": "",
       "description_width": ""
      }
     },
     "cc98f6ce25ae4f01a2d0186e181a2604": {
      "model_module": "@jupyter-widgets/controls",
      "model_module_version": "1.1.0",
      "model_name": "ToggleButtonsStyleModel",
      "state": {
       "button_width": "",
       "description_width": ""
      }
     },
     "cca342e79c6b4f2abd356205fe68475c": {
      "model_module": "@jupyter-widgets/base",
      "model_module_version": "1.0.0",
      "model_name": "LayoutModel",
      "state": {}
     },
     "cca5dfc34d4d45ccb86da44519b3d350": {
      "model_module": "@jupyter-widgets/controls",
      "model_module_version": "1.1.0",
      "model_name": "LabelModel",
      "state": {
       "layout": "IPY_MODEL_981cdde308eb4481983d9a466e0bac36",
       "style": "IPY_MODEL_a17e5aded5b64ba3a833ad45ea3a34bf",
       "value": "Select the detector angles to plot."
      }
     },
     "ccb28a988e3d4037916318232e82fdc2": {
      "model_module": "@jupyter-widgets/base",
      "model_module_version": "1.0.0",
      "model_name": "LayoutModel",
      "state": {}
     },
     "ccb92fb4f4334ceab4beced3bde87ad2": {
      "model_module": "@jupyter-widgets/controls",
      "model_module_version": "1.1.0",
      "model_name": "DescriptionStyleModel",
      "state": {
       "description_width": ""
      }
     },
     "ccc22dfa892845448f1f0d935789a00c": {
      "model_module": "@jupyter-widgets/controls",
      "model_module_version": "1.1.0",
      "model_name": "CheckboxModel",
      "state": {
       "description": "30°",
       "disabled": false,
       "layout": "IPY_MODEL_72e9a796ad4b465882749d9c1f88720d",
       "style": "IPY_MODEL_f4d47f670d944ed8aaa908b07c2eafa3",
       "value": true
      }
     },
     "cce19528bb244a56bb26001c0f9ab56b": {
      "model_module": "@jupyter-widgets/controls",
      "model_module_version": "1.1.0",
      "model_name": "LabelModel",
      "state": {
       "layout": "IPY_MODEL_7266346fb06e49e89e893c7ad7383d17",
       "style": "IPY_MODEL_752f436956fe47a4adbe7186aead7787",
       "value": "Select a detector type."
      }
     },
     "cd07564de7c04f08bf0f8be801547399": {
      "model_module": "@jupyter-widgets/controls",
      "model_module_version": "1.1.0",
      "model_name": "DescriptionStyleModel",
      "state": {
       "description_width": ""
      }
     },
     "cdbb0ba078c340cf92d6e7d7f2d48a90": {
      "model_module": "@jupyter-widgets/base",
      "model_module_version": "1.0.0",
      "model_name": "LayoutModel",
      "state": {}
     },
     "cdfea99b01064148b8409bc2880ccaac": {
      "model_module": "@jupyter-widgets/controls",
      "model_module_version": "1.1.0",
      "model_name": "CheckboxModel",
      "state": {
       "description": "135°",
       "disabled": false,
       "layout": "IPY_MODEL_a2bdbe1494814ef3a232b1d38c24af35",
       "style": "IPY_MODEL_5334baa65f5a442abe5e6394834ac8d0",
       "value": true
      }
     },
     "ce1ca5fc584746ed8a4fe751652309bd": {
      "model_module": "@jupyter-widgets/controls",
      "model_module_version": "1.1.0",
      "model_name": "DescriptionStyleModel",
      "state": {
       "description_width": ""
      }
     },
     "ce360aefa9294facabe1ee60bc0862de": {
      "model_module": "@jupyter-widgets/base",
      "model_module_version": "1.0.0",
      "model_name": "LayoutModel",
      "state": {}
     },
     "ce52ac3d56b948a78c6987a176d06f62": {
      "model_module": "@jupyter-widgets/controls",
      "model_module_version": "1.1.0",
      "model_name": "ToggleButtonsStyleModel",
      "state": {
       "button_width": "",
       "description_width": ""
      }
     },
     "ce59fc8fef4245e2920d77de606af00b": {
      "model_module": "@jupyter-widgets/controls",
      "model_module_version": "1.1.0",
      "model_name": "CheckboxModel",
      "state": {
       "description": "45°",
       "disabled": false,
       "layout": "IPY_MODEL_67c7ff1eaa964102bb237a7e61175365",
       "style": "IPY_MODEL_d0c61a6afc2348c698021a04935529b0",
       "value": true
      }
     },
     "ceb39673d4414fd298cd7f6f4aec66f0": {
      "model_module": "@jupyter-widgets/controls",
      "model_module_version": "1.1.0",
      "model_name": "DescriptionStyleModel",
      "state": {
       "description_width": ""
      }
     },
     "cf507ac9b5704ecda923c74581b54fa9": {
      "model_module": "@jupyter-widgets/base",
      "model_module_version": "1.0.0",
      "model_name": "LayoutModel",
      "state": {}
     },
     "cf5108288c424c15bfd42102e6b2c791": {
      "model_module": "@jupyter-widgets/controls",
      "model_module_version": "1.1.0",
      "model_name": "ToggleButtonsModel",
      "state": {
       "_options_labels": [
        "400 MeV/n",
        "800 MeV/n",
        "1500 MeV/n"
       ],
       "button_style": "",
       "description": "Energy:",
       "icons": [],
       "index": 0,
       "layout": "IPY_MODEL_16645c168df54931bd863473f3de34b4",
       "style": "IPY_MODEL_ce52ac3d56b948a78c6987a176d06f62",
       "tooltips": [
        "lowest energy",
        "middle energy",
        "highest energy"
       ]
      }
     },
     "cf71b31f4cc440f89857fc5385661b21": {
      "model_module": "@jupyter-widgets/base",
      "model_module_version": "1.0.0",
      "model_name": "LayoutModel",
      "state": {}
     },
     "cf8555f94a5a495ea3b65f53dda0e5e0": {
      "model_module": "@jupyter-widgets/controls",
      "model_module_version": "1.1.0",
      "model_name": "DescriptionStyleModel",
      "state": {
       "description_width": ""
      }
     },
     "cfd89952bf0f4bc58f55bb5e034a9751": {
      "model_module": "@jupyter-widgets/controls",
      "model_module_version": "1.1.0",
      "model_name": "DescriptionStyleModel",
      "state": {
       "description_width": ""
      }
     },
     "d03745aebfca42919e9524eda50fc4da": {
      "model_module": "@jupyter-widgets/controls",
      "model_module_version": "1.1.0",
      "model_name": "CheckboxModel",
      "state": {
       "description": "7.2°",
       "disabled": false,
       "layout": "IPY_MODEL_7df21e8d5f964ee6940895fc16107d6f",
       "style": "IPY_MODEL_1e0c3eaa0d044be580b73c12fea09940",
       "value": true
      }
     },
     "d06b4dfdfe6649a2ab46d63a4d205844": {
      "model_module": "@jupyter-widgets/controls",
      "model_module_version": "1.1.0",
      "model_name": "CheckboxModel",
      "state": {
       "description": "10°",
       "disabled": false,
       "layout": "IPY_MODEL_460c05ff88a1487bbc9076500df65cf9",
       "style": "IPY_MODEL_30a95d8f1e9243a7b1ba9dabdd13c516",
       "value": true
      }
     },
     "d0712f64deb44255bae5800bafb719c0": {
      "model_module": "@jupyter-widgets/base",
      "model_module_version": "1.0.0",
      "model_name": "LayoutModel",
      "state": {}
     },
     "d09da5f86ec0486cb0fbeaad7d0b924a": {
      "model_module": "@jupyter-widgets/controls",
      "model_module_version": "1.1.0",
      "model_name": "DescriptionStyleModel",
      "state": {
       "description_width": ""
      }
     },
     "d0b49198d9184be0be9fa847b872bf6a": {
      "model_module": "@jupyter-widgets/controls",
      "model_module_version": "1.1.0",
      "model_name": "CheckboxModel",
      "state": {
       "description": "32.7°",
       "disabled": false,
       "layout": "IPY_MODEL_eb4ab7313de148e7975c3fd05921afd6",
       "style": "IPY_MODEL_2a4f94f6fc7342c99b7ed5068f1975d8",
       "value": false
      }
     },
     "d0c61a6afc2348c698021a04935529b0": {
      "model_module": "@jupyter-widgets/controls",
      "model_module_version": "1.1.0",
      "model_name": "DescriptionStyleModel",
      "state": {
       "description_width": ""
      }
     },
     "d0e0b39e16a8469d991ae26667382082": {
      "model_module": "@jupyter-widgets/controls",
      "model_module_version": "1.1.0",
      "model_name": "LabelModel",
      "state": {
       "layout": "IPY_MODEL_21c98fa0b913448fa02f309f8618c074",
       "style": "IPY_MODEL_77df7263787a480793999b2d1bfbd4c8",
       "value": "Select the detector angles to plot."
      }
     },
     "d0e1fef06d624578ae9bcc6a340862b2": {
      "model_module": "@jupyter-widgets/controls",
      "model_module_version": "1.1.0",
      "model_name": "CheckboxModel",
      "state": {
       "description": "MCNP simulated",
       "disabled": false,
       "layout": "IPY_MODEL_f10bfd995f7d431d8b378fcd07b5c54e",
       "style": "IPY_MODEL_c4a1b29d0fb141bdbb5de598c0f0303c",
       "value": true
      }
     },
     "d10246cf9dd74b78a37796d6c119979c": {
      "model_module": "@jupyter-widgets/controls",
      "model_module_version": "1.1.0",
      "model_name": "DescriptionStyleModel",
      "state": {
       "description_width": ""
      }
     },
     "d10acb0e71b24bb2b589371ee184085a": {
      "model_module": "@jupyter-widgets/base",
      "model_module_version": "1.0.0",
      "model_name": "LayoutModel",
      "state": {}
     },
     "d11cbd2368a4449d85a3884279d92917": {
      "model_module": "@jupyter-widgets/controls",
      "model_module_version": "1.1.0",
      "model_name": "LabelModel",
      "state": {
       "layout": "IPY_MODEL_0405d139d80c4d2fb48d2bc080b29133",
       "style": "IPY_MODEL_ae00635134a94eb785d52a4eb527ed7a",
       "value": "Select projectile ion energy."
      }
     },
     "d12d91af368c443586afb28670757a6d": {
      "model_module": "@jupyter-widgets/controls",
      "model_module_version": "1.1.0",
      "model_name": "LabelModel",
      "state": {
       "layout": "IPY_MODEL_77325e05ad2b433c87a9d5728f7d5981",
       "style": "IPY_MODEL_f063c43e128244e0b1ce21cf847b324b",
       "value": "Select which secondary particle to plot spectra for."
      }
     },
     "d141f9622d7a4604a2f6c62bfabf5669": {
      "model_module": "@jupyter-widgets/base",
      "model_module_version": "1.0.0",
      "model_name": "LayoutModel",
      "state": {}
     },
     "d1ac398fa03e44a19539a04c4ceeade0": {
      "model_module": "@jupyter-widgets/base",
      "model_module_version": "1.0.0",
      "model_name": "LayoutModel",
      "state": {}
     },
     "d21dcefe518440e3b2bc50573c012adc": {
      "model_module": "@jupyter-widgets/controls",
      "model_module_version": "1.1.0",
      "model_name": "DescriptionStyleModel",
      "state": {
       "description_width": ""
      }
     },
     "d25f491b0e884a14a2edd32657745a70": {
      "model_module": "@jupyter-widgets/controls",
      "model_module_version": "1.1.0",
      "model_name": "DescriptionStyleModel",
      "state": {
       "description_width": ""
      }
     },
     "d2d4748d7e4a474f915d0d74bdbdd997": {
      "model_module": "@jupyter-widgets/base",
      "model_module_version": "1.0.0",
      "model_name": "LayoutModel",
      "state": {}
     },
     "d31cfd5f4c5f4ce290a396164e3ede08": {
      "model_module": "@jupyter-widgets/controls",
      "model_module_version": "1.1.0",
      "model_name": "DescriptionStyleModel",
      "state": {
       "description_width": ""
      }
     },
     "d356f5cd30dd499481e6418c369bd94c": {
      "model_module": "@jupyter-widgets/controls",
      "model_module_version": "1.1.0",
      "model_name": "DescriptionStyleModel",
      "state": {
       "description_width": ""
      }
     },
     "d35e5f77b41c4814bb56e1036ae4fbfe": {
      "model_module": "@jupyter-widgets/controls",
      "model_module_version": "1.1.0",
      "model_name": "CheckboxModel",
      "state": {
       "description": "80°",
       "disabled": false,
       "layout": "IPY_MODEL_6dc1d2dba536489e85ba12120a94c707",
       "style": "IPY_MODEL_a369064e5b44428d8172adba0d439f70",
       "value": true
      }
     },
     "d36a66cbb06a49fc8b0bd0d5f5fbd66b": {
      "model_module": "@jupyter-widgets/controls",
      "model_module_version": "1.1.0",
      "model_name": "LabelModel",
      "state": {
       "layout": "IPY_MODEL_5e3355da7b9848ccac220d67e4854e00",
       "style": "IPY_MODEL_87e9155972b8434b99ed4584a1a99d02",
       "value": "Select projectile ion energy."
      }
     },
     "d37cc067f1304cf2bc31222f899ce506": {
      "model_module": "@jupyter-widgets/base",
      "model_module_version": "1.0.0",
      "model_name": "LayoutModel",
      "state": {}
     },
     "d380f760dcf04c08bc4b7e227caf8416": {
      "model_module": "@jupyter-widgets/base",
      "model_module_version": "1.0.0",
      "model_name": "LayoutModel",
      "state": {}
     },
     "d3c2d5b482364a8388e43e20541a6253": {
      "model_module": "@jupyter-widgets/controls",
      "model_module_version": "1.1.0",
      "model_name": "DescriptionStyleModel",
      "state": {
       "description_width": ""
      }
     },
     "d43db88bfe454f5cba401e106d89ffff": {
      "model_module": "@jupyter-widgets/controls",
      "model_module_version": "1.1.0",
      "model_name": "ToggleButtonsModel",
      "state": {
       "_options_labels": [
        "400 MeV",
        "800 MeV",
        "2500 MeV"
       ],
       "button_style": "",
       "description": "Energy:",
       "icons": [],
       "index": 0,
       "layout": "IPY_MODEL_c72ecd5963ba4d40907396c95939e1c6",
       "style": "IPY_MODEL_818e25e4cb0b4fec929f25ceebdb701b",
       "tooltips": [
        "lowest energy",
        "middle energy",
        "highest energy"
       ]
      }
     },
     "d46fa8a32302462a999d0a7f559585a5": {
      "model_module": "@jupyter-widgets/controls",
      "model_module_version": "1.1.0",
      "model_name": "ToggleButtonsModel",
      "state": {
       "_options_labels": [
        "N (¹n)",
        "NDC (¹n)",
        "P (¹H)",
        "D (²H)",
        "T (³H)",
        "S (³He)",
        "A (⁴He)"
       ],
       "button_style": "",
       "description": "Type:",
       "icons": [],
       "index": 0,
       "layout": "IPY_MODEL_c6149c9d664341eeb822611421881604",
       "style": "IPY_MODEL_aa131432c11c43cd9c947c59d810af25",
       "tooltips": [
        "Neutron",
        "Back Target Neutron",
        "Proton",
        "Deuteron",
        "Triton",
        "Helium-3",
        "Helium-4"
       ]
      }
     },
     "d47e2aa139ec4bc48fe1cd293fbfea06": {
      "model_module": "@jupyter-widgets/controls",
      "model_module_version": "1.1.0",
      "model_name": "DescriptionStyleModel",
      "state": {
       "description_width": ""
      }
     },
     "d48a7a058fb447fab5d67609ac3ff4e6": {
      "model_module": "@jupyter-widgets/controls",
      "model_module_version": "1.1.0",
      "model_name": "DescriptionStyleModel",
      "state": {
       "description_width": ""
      }
     },
     "d4acb5713705428ab1aceb1e8772a660": {
      "model_module": "@jupyter-widgets/controls",
      "model_module_version": "1.1.0",
      "model_name": "LabelModel",
      "state": {
       "layout": "IPY_MODEL_74ea0dc61073468e9e0226a6ea33f180",
       "style": "IPY_MODEL_fb46bc84044a4051b90c55b7d4fbb1ab",
       "value": "Select the detector angles to plot."
      }
     },
     "d4b9f633fd8e436691e847affb28e00e": {
      "model_module": "@jupyter-widgets/controls",
      "model_module_version": "1.1.0",
      "model_name": "DescriptionStyleModel",
      "state": {
       "description_width": ""
      }
     },
     "d505af3d2b874d91afabc23a4681c26c": {
      "model_module": "@jupyter-widgets/controls",
      "model_module_version": "1.1.0",
      "model_name": "DescriptionStyleModel",
      "state": {
       "description_width": ""
      }
     },
     "d529fa62e7e94894b3d5a2100c861933": {
      "model_module": "@jupyter-widgets/controls",
      "model_module_version": "1.1.0",
      "model_name": "ToggleButtonsStyleModel",
      "state": {
       "button_width": "",
       "description_width": ""
      }
     },
     "d54378043d464adeb0c417cdf20b4616": {
      "model_module": "@jupyter-widgets/controls",
      "model_module_version": "1.1.0",
      "model_name": "DescriptionStyleModel",
      "state": {
       "description_width": ""
      }
     },
     "d54854d800e84617aacf520cbd7df79d": {
      "model_module": "@jupyter-widgets/base",
      "model_module_version": "1.0.0",
      "model_name": "LayoutModel",
      "state": {}
     },
     "d552c1b61ca04e5a85526db6807b5d18": {
      "model_module": "@jupyter-widgets/controls",
      "model_module_version": "1.1.0",
      "model_name": "ToggleButtonsStyleModel",
      "state": {
       "button_width": "",
       "description_width": ""
      }
     },
     "d5740c9c717f42e7b4dfa1b1d430d732": {
      "model_module": "@jupyter-widgets/controls",
      "model_module_version": "1.1.0",
      "model_name": "CheckboxModel",
      "state": {
       "description": "60°",
       "disabled": false,
       "layout": "IPY_MODEL_e8b835b886ea4c968b92fde00e855c21",
       "style": "IPY_MODEL_7a7ba5dbc4044b0fa55b390b45f1c3b3",
       "value": true
      }
     },
     "d5cea0698b5549ff91278b8edbf8403c": {
      "model_module": "@jupyter-widgets/base",
      "model_module_version": "1.0.0",
      "model_name": "LayoutModel",
      "state": {}
     },
     "d62ab8f41abe47f8859a1ed9e30b93eb": {
      "model_module": "@jupyter-widgets/controls",
      "model_module_version": "1.1.0",
      "model_name": "ToggleButtonsModel",
      "state": {
       "_options_labels": [
        "N (¹n)",
        "NDC (¹n)",
        "P (¹H)",
        "D (²H)"
       ],
       "button_style": "",
       "description": "Type:",
       "icons": [],
       "index": 0,
       "layout": "IPY_MODEL_54056f40661c4f7b81a0a27fb1dd94fd",
       "style": "IPY_MODEL_aa576a24ff1e4532a1ab8eb9fca802c4",
       "tooltips": [
        "Neutron",
        "Back Target Neutron",
        "Proton",
        "Deuteron"
       ]
      }
     },
     "d64a6f169766417687bda1456c4afe74": {
      "model_module": "@jupyter-widgets/base",
      "model_module_version": "1.0.0",
      "model_name": "LayoutModel",
      "state": {}
     },
     "d656614de7e54e42afa5eab1410a0eca": {
      "model_module": "@jupyter-widgets/base",
      "model_module_version": "1.0.0",
      "model_name": "LayoutModel",
      "state": {}
     },
     "d6a7cc457e3742c183d9af3d1a0aacbd": {
      "model_module": "@jupyter-widgets/base",
      "model_module_version": "1.0.0",
      "model_name": "LayoutModel",
      "state": {}
     },
     "d6d089e56ca14104aa87d92b54c8c5fd": {
      "model_module": "@jupyter-widgets/controls",
      "model_module_version": "1.1.0",
      "model_name": "CheckboxModel",
      "state": {
       "description": "30°",
       "disabled": false,
       "layout": "IPY_MODEL_8b392c0326854e5f93df8f993af5595f",
       "style": "IPY_MODEL_d10246cf9dd74b78a37796d6c119979c",
       "value": true
      }
     },
     "d6d67849279d4eec8fe5b047ef4db595": {
      "model_module": "@jupyter-widgets/controls",
      "model_module_version": "1.1.0",
      "model_name": "DescriptionStyleModel",
      "state": {
       "description_width": ""
      }
     },
     "d6eda2496fac475caf2e51fbacd7e9e4": {
      "model_module": "@jupyter-widgets/controls",
      "model_module_version": "1.1.0",
      "model_name": "CheckboxModel",
      "state": {
       "description": "12.7°",
       "disabled": false,
       "layout": "IPY_MODEL_75c02e8a80754bd2b432497f85d747be",
       "style": "IPY_MODEL_08a9fee61c6045c59bcc75c4bd20081c",
       "value": false
      }
     },
     "d787a6af00114089a18df01cc6832c33": {
      "model_module": "@jupyter-widgets/base",
      "model_module_version": "1.0.0",
      "model_name": "LayoutModel",
      "state": {}
     },
     "d7959efa2c654e6baf4d5e7d1100d24d": {
      "model_module": "@jupyter-widgets/controls",
      "model_module_version": "1.1.0",
      "model_name": "ToggleButtonsModel",
      "state": {
       "_options_labels": [
        "20 g/cm²",
        "40 g/cm²",
        "60 g/cm²"
       ],
       "button_style": "",
       "description": "Thickness:",
       "icons": [],
       "index": 1,
       "layout": "IPY_MODEL_8343888407d44945ae56701f2e2d6087",
       "style": "IPY_MODEL_9a0974ca170a48b6b4a0fcc84a2a35a4",
       "tooltips": [
        "20 g/cm² Aluminum",
        "40 g/cm² Aluminum",
        "60 g/cm² Aluminum"
       ]
      }
     },
     "d7c36f5ed1e24294ba35b69cf424710d": {
      "model_module": "@jupyter-widgets/controls",
      "model_module_version": "1.1.0",
      "model_name": "CheckboxModel",
      "state": {
       "description": "60°",
       "disabled": false,
       "layout": "IPY_MODEL_619eb7b1a8ab4a82a15314965e6fe9a2",
       "style": "IPY_MODEL_e325c6be398a42c2b945c5be78fb0c06",
       "value": true
      }
     },
     "d7c97b1ab1a3442b8d330c7f2321e3d2": {
      "model_module": "@jupyter-widgets/controls",
      "model_module_version": "1.1.0",
      "model_name": "CheckboxModel",
      "state": {
       "description": "30°",
       "disabled": false,
       "layout": "IPY_MODEL_fa831ea3f4b347af83e3d34696ccf9ba",
       "style": "IPY_MODEL_d7f5b22bf97648fc983661711776f422",
       "value": true
      }
     },
     "d7d04417ef3a4532976d037d0a51da0c": {
      "model_module": "@jupyter-widgets/base",
      "model_module_version": "1.0.0",
      "model_name": "LayoutModel",
      "state": {}
     },
     "d7f5b22bf97648fc983661711776f422": {
      "model_module": "@jupyter-widgets/controls",
      "model_module_version": "1.1.0",
      "model_name": "DescriptionStyleModel",
      "state": {
       "description_width": ""
      }
     },
     "d8795ba803974c8c92ae1d6df80faf43": {
      "model_module": "@jupyter-widgets/controls",
      "model_module_version": "1.1.0",
      "model_name": "DescriptionStyleModel",
      "state": {
       "description_width": ""
      }
     },
     "d87a5ba2965a4af2a2608a1a3332edb6": {
      "model_module": "@jupyter-widgets/controls",
      "model_module_version": "1.1.0",
      "model_name": "LabelModel",
      "state": {
       "layout": "IPY_MODEL_e7ecb71a6c3a41c7a7e8bd0ae54eff62",
       "style": "IPY_MODEL_9c0fbf4338534d459b3867084725c7ec",
       "value": "Select the detector angles to plot."
      }
     },
     "d89d57eeb9ee413baad1cb61dc3a999b": {
      "model_module": "@jupyter-widgets/base",
      "model_module_version": "1.0.0",
      "model_name": "LayoutModel",
      "state": {}
     },
     "d8ce672d8dbd42eda9a634d6c3226882": {
      "model_module": "@jupyter-widgets/controls",
      "model_module_version": "1.1.0",
      "model_name": "ToggleButtonsModel",
      "state": {
       "_options_labels": [
        "OLS",
        "NaI"
       ],
       "button_style": "",
       "description": "Type:",
       "icons": [],
       "index": 0,
       "layout": "IPY_MODEL_e48a0655d50b42b683d86c150a6e7824",
       "style": "IPY_MODEL_fa868bfc1e314c0ebe3116aa8acc6ef2",
       "tooltips": [
        "Organic Liquid Scintillator",
        "Sodium Iodide"
       ]
      }
     },
     "d8cf82f7923240cb886a4c0be92a65b1": {
      "model_module": "@jupyter-widgets/controls",
      "model_module_version": "1.1.0",
      "model_name": "LabelModel",
      "state": {
       "layout": "IPY_MODEL_80283625d8bf4c69b8c889786437052f",
       "style": "IPY_MODEL_074cb167ae664aa1a749896d67cfd459",
       "value": "Select the detector angles to plot."
      }
     },
     "d8e79c82101d4d939d3b239c270edb50": {
      "model_module": "@jupyter-widgets/controls",
      "model_module_version": "1.1.0",
      "model_name": "DescriptionStyleModel",
      "state": {
       "description_width": ""
      }
     },
     "d8f2b0c985bc447299b6419e1ceb7075": {
      "model_module": "@jupyter-widgets/base",
      "model_module_version": "1.0.0",
      "model_name": "LayoutModel",
      "state": {}
     },
     "d9522eb135c94484ab8c6f8eead3da76": {
      "model_module": "@jupyter-widgets/controls",
      "model_module_version": "1.1.0",
      "model_name": "DescriptionStyleModel",
      "state": {
       "description_width": ""
      }
     },
     "d99aff9ae3da4c99b9fc05e9620edc89": {
      "model_module": "@jupyter-widgets/base",
      "model_module_version": "1.0.0",
      "model_name": "LayoutModel",
      "state": {}
     },
     "d9b6254a1030432bbedb4417d10e52ec": {
      "model_module": "@jupyter-widgets/controls",
      "model_module_version": "1.1.0",
      "model_name": "ToggleButtonsModel",
      "state": {
       "_options_labels": [
        "None",
        "Spaced by 10²"
       ],
       "button_style": "",
       "description": "Spacing:",
       "icons": [],
       "index": 0,
       "layout": "IPY_MODEL_1719a77f518142a39ecc0dced8ab027f",
       "style": "IPY_MODEL_b949026b8c67487686303947e66a0280",
       "tooltips": [
        "All values are presented as is.",
        "Plots for different detectors are multiplied by powers of 10² for easier viewing."
       ]
      }
     },
     "d9d5d8db352a493f88c715bae758c0a6": {
      "model_module": "@jupyter-widgets/controls",
      "model_module_version": "1.1.0",
      "model_name": "DescriptionStyleModel",
      "state": {
       "description_width": ""
      }
     },
     "da1ae399ff994bd6917366e2a1af5b33": {
      "model_module": "@jupyter-widgets/base",
      "model_module_version": "1.0.0",
      "model_name": "LayoutModel",
      "state": {}
     },
     "daa1eb14b20f48a5a9aba4450376ed13": {
      "model_module": "@jupyter-widgets/base",
      "model_module_version": "1.0.0",
      "model_name": "LayoutModel",
      "state": {}
     },
     "dacecf3f41d744dca9a326df46e03dc7": {
      "model_module": "@jupyter-widgets/base",
      "model_module_version": "1.0.0",
      "model_name": "LayoutModel",
      "state": {}
     },
     "db12b09ac5ee42478514531637af188e": {
      "model_module": "@jupyter-widgets/controls",
      "model_module_version": "1.1.0",
      "model_name": "CheckboxModel",
      "state": {
       "description": "45°",
       "disabled": false,
       "layout": "IPY_MODEL_3cd124f1e9e744878abd76ecc1d9d390",
       "style": "IPY_MODEL_dff6c18cf37c44c2bd38a2be79fedc22",
       "value": true
      }
     },
     "db23ea9742d24a9eb53dca9df0670822": {
      "model_module": "@jupyter-widgets/base",
      "model_module_version": "1.0.0",
      "model_name": "LayoutModel",
      "state": {}
     },
     "db2556a40a264b19be782f90ab5a18ba": {
      "model_module": "@jupyter-widgets/controls",
      "model_module_version": "1.1.0",
      "model_name": "CheckboxModel",
      "state": {
       "description": "10°",
       "disabled": false,
       "layout": "IPY_MODEL_25d96007033c46ebaa20fafb1a8eedb6",
       "style": "IPY_MODEL_c95e28d6844e45619a4a4d1857fd5165",
       "value": true
      }
     },
     "db5db616c7af47308fb873261c5e5e7b": {
      "model_module": "@jupyter-widgets/controls",
      "model_module_version": "1.1.0",
      "model_name": "ToggleButtonsStyleModel",
      "state": {
       "button_width": "",
       "description_width": ""
      }
     },
     "dbebba09632b483a9b1a0034cee0d6a2": {
      "model_module": "@jupyter-widgets/base",
      "model_module_version": "1.0.0",
      "model_name": "LayoutModel",
      "state": {}
     },
     "dc1b2f7af7544418b6a168a31f72d912": {
      "model_module": "@jupyter-widgets/controls",
      "model_module_version": "1.1.0",
      "model_name": "CheckboxModel",
      "state": {
       "description": "MCNP simulated",
       "disabled": false,
       "layout": "IPY_MODEL_d8f2b0c985bc447299b6419e1ceb7075",
       "style": "IPY_MODEL_cd07564de7c04f08bf0f8be801547399",
       "value": true
      }
     },
     "dc2fd02629da40079836a46a6d085d52": {
      "model_module": "@jupyter-widgets/controls",
      "model_module_version": "1.1.0",
      "model_name": "DescriptionStyleModel",
      "state": {
       "description_width": ""
      }
     },
     "dc545899afba40ea8c875493c461fd48": {
      "model_module": "@jupyter-widgets/base",
      "model_module_version": "1.0.0",
      "model_name": "LayoutModel",
      "state": {}
     },
     "dc6d91722d5c44ff8bff9b0db1e2cff7": {
      "model_module": "@jupyter-widgets/controls",
      "model_module_version": "1.1.0",
      "model_name": "DescriptionStyleModel",
      "state": {
       "description_width": ""
      }
     },
     "dcac55fa47134e5a80e306325f646db6": {
      "model_module": "@jupyter-widgets/base",
      "model_module_version": "1.0.0",
      "model_name": "LayoutModel",
      "state": {}
     },
     "dcc580c163444356988ae2cd34110f94": {
      "model_module": "@jupyter-widgets/controls",
      "model_module_version": "1.1.0",
      "model_name": "DescriptionStyleModel",
      "state": {
       "description_width": ""
      }
     },
     "dcd4150ab35545e2ac72db780bab26ae": {
      "model_module": "@jupyter-widgets/controls",
      "model_module_version": "1.1.0",
      "model_name": "CheckboxModel",
      "state": {
       "description": "28.2°",
       "disabled": false,
       "layout": "IPY_MODEL_a1f8d073dfd248cea3df0a3525424b95",
       "style": "IPY_MODEL_e473009d463b4dd885e541ddf845313d",
       "value": true
      }
     },
     "dcd4ce5edb6c44989f20208388f10188": {
      "model_module": "@jupyter-widgets/base",
      "model_module_version": "1.0.0",
      "model_name": "LayoutModel",
      "state": {}
     },
     "ddd4c7730c2943e088922ab80047a48e": {
      "model_module": "@jupyter-widgets/controls",
      "model_module_version": "1.1.0",
      "model_name": "DescriptionStyleModel",
      "state": {
       "description_width": ""
      }
     },
     "de136a4347eb43718c46e90b77ba4eae": {
      "model_module": "@jupyter-widgets/controls",
      "model_module_version": "1.1.0",
      "model_name": "DescriptionStyleModel",
      "state": {
       "description_width": ""
      }
     },
     "de211141ed4840f4b0dbc62e00d0f764": {
      "model_module": "@jupyter-widgets/base",
      "model_module_version": "1.0.0",
      "model_name": "LayoutModel",
      "state": {}
     },
     "de4ee6f855d746ea968143e1a598b77b": {
      "model_module": "@jupyter-widgets/controls",
      "model_module_version": "1.1.0",
      "model_name": "DescriptionStyleModel",
      "state": {
       "description_width": ""
      }
     },
     "dea5b9bad1cd4b9db9b9fd149c0395ad": {
      "model_module": "@jupyter-widgets/controls",
      "model_module_version": "1.1.0",
      "model_name": "ToggleButtonsModel",
      "state": {
       "_options_labels": [
        "400 MeV/n",
        "800 MeV/n",
        "1500 MeV/n"
       ],
       "button_style": "",
       "description": "Energy:",
       "icons": [],
       "index": 0,
       "layout": "IPY_MODEL_2e6eb0dd8f87479ab08dc9000d5723d2",
       "style": "IPY_MODEL_d529fa62e7e94894b3d5a2100c861933",
       "tooltips": [
        "lowest energy",
        "middle energy",
        "highest energy"
       ]
      }
     },
     "deef3cc23c9e47b1a27184acabc313ff": {
      "model_module": "@jupyter-widgets/controls",
      "model_module_version": "1.1.0",
      "model_name": "DescriptionStyleModel",
      "state": {
       "description_width": ""
      }
     },
     "df026d70c59a450492e1245146cba983": {
      "model_module": "@jupyter-widgets/controls",
      "model_module_version": "1.1.0",
      "model_name": "LabelModel",
      "state": {
       "layout": "IPY_MODEL_e80e24a9feae43428877f7d17703b50b",
       "style": "IPY_MODEL_9fb91dc68d1e42289c11d12858d52439",
       "value": "Select the detector angles to plot."
      }
     },
     "df42854a99054e0ebb4bf73a9cf9e209": {
      "model_module": "@jupyter-widgets/base",
      "model_module_version": "1.0.0",
      "model_name": "LayoutModel",
      "state": {}
     },
     "df7a836d1bec4c7490c9e7f95433f9d2": {
      "model_module": "@jupyter-widgets/controls",
      "model_module_version": "1.1.0",
      "model_name": "LabelModel",
      "state": {
       "layout": "IPY_MODEL_3446711576864bc6be7fe4b295e27a95",
       "style": "IPY_MODEL_ab316c5666524946ae0c172d4473ccf4",
       "value": "Select the detector angles to plot."
      }
     },
     "dfd73c8a56494aa798b7a0969a38eaf1": {
      "model_module": "@jupyter-widgets/controls",
      "model_module_version": "1.1.0",
      "model_name": "LabelModel",
      "state": {
       "layout": "IPY_MODEL_f18d8c2733764bf5b324b901bc699368",
       "style": "IPY_MODEL_3d0f3c678ae9413bb5af523f0949b7a3",
       "value": "Select which secondary particle to plot spectra for."
      }
     },
     "dff6c18cf37c44c2bd38a2be79fedc22": {
      "model_module": "@jupyter-widgets/controls",
      "model_module_version": "1.1.0",
      "model_name": "DescriptionStyleModel",
      "state": {
       "description_width": ""
      }
     },
     "e006b153e8c04f7981c6ddc8c3678b96": {
      "model_module": "@jupyter-widgets/base",
      "model_module_version": "1.0.0",
      "model_name": "LayoutModel",
      "state": {}
     },
     "e042e945954041b693d6fc5b84ea9838": {
      "model_module": "@jupyter-widgets/controls",
      "model_module_version": "1.1.0",
      "model_name": "CheckboxModel",
      "state": {
       "description": "10°",
       "disabled": false,
       "layout": "IPY_MODEL_5f6d3b5ab3f94a0d9af8dd6912b4767b",
       "style": "IPY_MODEL_d54378043d464adeb0c417cdf20b4616",
       "value": true
      }
     },
     "e05c6d832beb42ca99a2ba56639c05f7": {
      "model_module": "@jupyter-widgets/controls",
      "model_module_version": "1.1.0",
      "model_name": "CheckboxModel",
      "state": {
       "description": "45°",
       "disabled": false,
       "layout": "IPY_MODEL_b47b0b519fa84394b5a2796345eee4c6",
       "style": "IPY_MODEL_a3f03c52452f4040b71e2bb824bf4b8b",
       "value": true
      }
     },
     "e0cffeab5479447b9f8f8b9db4a1f22c": {
      "model_module": "@jupyter-widgets/controls",
      "model_module_version": "1.1.0",
      "model_name": "LabelModel",
      "state": {
       "layout": "IPY_MODEL_8d940d9289e04dd1a510e39ef6872793",
       "style": "IPY_MODEL_c65b04ff06e647c3a975ba85789edcdd",
       "value": "Select the detector angles to plot."
      }
     },
     "e0d70ba7639749d2bd3e4f62eb617f72": {
      "model_module": "@jupyter-widgets/controls",
      "model_module_version": "1.1.0",
      "model_name": "CheckboxModel",
      "state": {
       "description": "30°",
       "disabled": false,
       "layout": "IPY_MODEL_1672aa49f4314ddf92f6e8228632b8df",
       "style": "IPY_MODEL_3e26dbb23950401caf73c17a05277c77",
       "value": true
      }
     },
     "e10661569efd495da1417ba600cbe9cb": {
      "model_module": "@jupyter-widgets/controls",
      "model_module_version": "1.1.0",
      "model_name": "DescriptionStyleModel",
      "state": {
       "description_width": ""
      }
     },
     "e108c6f8dc544560b790101082bb3f6d": {
      "model_module": "@jupyter-widgets/controls",
      "model_module_version": "1.1.0",
      "model_name": "CheckboxModel",
      "state": {
       "description": "10°",
       "disabled": false,
       "layout": "IPY_MODEL_d141f9622d7a4604a2f6c62bfabf5669",
       "style": "IPY_MODEL_d505af3d2b874d91afabc23a4681c26c",
       "value": true
      }
     },
     "e125556179c24374bb636b9f57260100": {
      "model_module": "@jupyter-widgets/base",
      "model_module_version": "1.0.0",
      "model_name": "LayoutModel",
      "state": {}
     },
     "e13fe1343d144c94a41936009565334f": {
      "model_module": "@jupyter-widgets/base",
      "model_module_version": "1.0.0",
      "model_name": "LayoutModel",
      "state": {}
     },
     "e1d70410966d4bf99a2e35490939c1d6": {
      "model_module": "@jupyter-widgets/controls",
      "model_module_version": "1.1.0",
      "model_name": "ToggleButtonsStyleModel",
      "state": {
       "button_width": "",
       "description_width": ""
      }
     },
     "e219c91422e84a828f877205b0db4d5b": {
      "model_module": "@jupyter-widgets/controls",
      "model_module_version": "1.1.0",
      "model_name": "ButtonModel",
      "state": {
       "button_style": "success",
       "description": "Update plot",
       "icon": "paint-brush",
       "layout": "IPY_MODEL_aac3db4e5d1e4f98a69d1cf4938a87d6",
       "style": "IPY_MODEL_58d1a5ed88374eb2bc1af82624b9c785",
       "tooltip": "Click to redraw the plot below with updated options from above."
      }
     },
     "e21af38f32404b8fa5826899896bb62e": {
      "model_module": "@jupyter-widgets/controls",
      "model_module_version": "1.1.0",
      "model_name": "CheckboxModel",
      "state": {
       "description": "135°",
       "disabled": false,
       "layout": "IPY_MODEL_e5e86d6c8dd849fc9f332d9f5d25bf96",
       "style": "IPY_MODEL_cb570e4a32cf48c1b8b9eb2590302fbc",
       "value": true
      }
     },
     "e2942bf36d6c4d1e9d9c1d946651f2dd": {
      "model_module": "@jupyter-widgets/controls",
      "model_module_version": "1.1.0",
      "model_name": "DescriptionStyleModel",
      "state": {
       "description_width": ""
      }
     },
     "e2c1797b522b46c098590f29c80eda32": {
      "model_module": "@jupyter-widgets/controls",
      "model_module_version": "1.1.0",
      "model_name": "DescriptionStyleModel",
      "state": {
       "description_width": ""
      }
     },
     "e2d01956c3e74b318902755915ffaa86": {
      "model_module": "@jupyter-widgets/controls",
      "model_module_version": "1.1.0",
      "model_name": "CheckboxModel",
      "state": {
       "description": "80°",
       "disabled": false,
       "layout": "IPY_MODEL_87b2e69948374bef9d1952c9e4a06f02",
       "style": "IPY_MODEL_a2733a53a33c469f9e74e92e8a087019",
       "value": true
      }
     },
     "e325c6be398a42c2b945c5be78fb0c06": {
      "model_module": "@jupyter-widgets/controls",
      "model_module_version": "1.1.0",
      "model_name": "DescriptionStyleModel",
      "state": {
       "description_width": ""
      }
     },
     "e36c4c9a05f2445fa793ef47e228c482": {
      "model_module": "@jupyter-widgets/controls",
      "model_module_version": "1.1.0",
      "model_name": "CheckboxModel",
      "state": {
       "description": "135°",
       "disabled": false,
       "layout": "IPY_MODEL_2bfba8157b8447fca9e7126134d36d87",
       "style": "IPY_MODEL_bf382fe9a9d94fe6afae769e4d07fb7e",
       "value": true
      }
     },
     "e3c0b9d7264d4dd38eb1038c6ebcc18d": {
      "model_module": "@jupyter-widgets/controls",
      "model_module_version": "1.1.0",
      "model_name": "ToggleButtonsModel",
      "state": {
       "_options_labels": [
        "H",
        "He",
        "C",
        "Si",
        "Fe"
       ],
       "button_style": "",
       "description": "Ion:",
       "icons": [],
       "index": 0,
       "layout": "IPY_MODEL_039f033d47cf409a828dd3e58c09ff31",
       "style": "IPY_MODEL_7e2371361e60439b81f3c95a4c29b3b7",
       "tooltips": [
        "Hydrogen",
        "Helium",
        "Carbon",
        "Silicon",
        "Iron"
       ]
      }
     },
     "e3f7300c89714ab39e4ee81c1ffd5e96": {
      "model_module": "@jupyter-widgets/controls",
      "model_module_version": "1.1.0",
      "model_name": "ToggleButtonsModel",
      "state": {
       "_options_labels": [
        "400 MeV",
        "800 MeV",
        "2500 MeV"
       ],
       "button_style": "",
       "description": "Energy:",
       "icons": [],
       "index": 0,
       "layout": "IPY_MODEL_ccb28a988e3d4037916318232e82fdc2",
       "style": "IPY_MODEL_196b92fe93b14a5e9565d48f5aa1f5ce",
       "tooltips": [
        "lowest energy",
        "middle energy",
        "highest energy"
       ]
      }
     },
     "e473009d463b4dd885e541ddf845313d": {
      "model_module": "@jupyter-widgets/controls",
      "model_module_version": "1.1.0",
      "model_name": "DescriptionStyleModel",
      "state": {
       "description_width": ""
      }
     },
     "e48a0655d50b42b683d86c150a6e7824": {
      "model_module": "@jupyter-widgets/base",
      "model_module_version": "1.0.0",
      "model_name": "LayoutModel",
      "state": {}
     },
     "e497490ce55a47528fa6a34bf8452d68": {
      "model_module": "@jupyter-widgets/base",
      "model_module_version": "1.0.0",
      "model_name": "LayoutModel",
      "state": {}
     },
     "e4b014e21c154a99a472d17155e7609e": {
      "model_module": "@jupyter-widgets/base",
      "model_module_version": "1.0.0",
      "model_name": "LayoutModel",
      "state": {}
     },
     "e4d804abadc14c74a33145526e02a3b7": {
      "model_module": "@jupyter-widgets/base",
      "model_module_version": "1.0.0",
      "model_name": "LayoutModel",
      "state": {}
     },
     "e4da8aed076e41fabc020df45f79166e": {
      "model_module": "@jupyter-widgets/base",
      "model_module_version": "1.0.0",
      "model_name": "LayoutModel",
      "state": {}
     },
     "e4e76739afdd42159e7d70cd8e35073f": {
      "model_module": "@jupyter-widgets/controls",
      "model_module_version": "1.1.0",
      "model_name": "DescriptionStyleModel",
      "state": {
       "description_width": ""
      }
     },
     "e5156cf9dd3c4c19a057626002130589": {
      "model_module": "@jupyter-widgets/controls",
      "model_module_version": "1.1.0",
      "model_name": "ToggleButtonsModel",
      "state": {
       "_options_labels": [
        "400 MeV",
        "800 MeV",
        "2500 MeV"
       ],
       "button_style": "",
       "description": "Energy:",
       "icons": [],
       "index": 0,
       "layout": "IPY_MODEL_200b72eb0f634c9cb9872c64c4e231f8",
       "style": "IPY_MODEL_ffd7ce5689fb467b967c87d2b0dcf965",
       "tooltips": [
        "lowest energy",
        "middle energy",
        "highest energy"
       ]
      }
     },
     "e52c9ad6f0f94c16a168ca41d44d2b05": {
      "model_module": "@jupyter-widgets/controls",
      "model_module_version": "1.1.0",
      "model_name": "ToggleButtonsStyleModel",
      "state": {
       "button_width": "",
       "description_width": ""
      }
     },
     "e5735cc6219041ce86e8dd86b310dc02": {
      "model_module": "@jupyter-widgets/controls",
      "model_module_version": "1.1.0",
      "model_name": "DescriptionStyleModel",
      "state": {
       "description_width": ""
      }
     },
     "e58a8f5499a64d7d8362340324127d7d": {
      "model_module": "@jupyter-widgets/base",
      "model_module_version": "1.0.0",
      "model_name": "LayoutModel",
      "state": {}
     },
     "e58b5b6d58df46fd91e1820fc099502d": {
      "model_module": "@jupyter-widgets/controls",
      "model_module_version": "1.1.0",
      "model_name": "LabelModel",
      "state": {
       "layout": "IPY_MODEL_df42854a99054e0ebb4bf73a9cf9e209",
       "style": "IPY_MODEL_65c67283abaa4187b143e98bc5c4bf8b",
       "value": "Select which secondary particle to plot spectra for."
      }
     },
     "e5b497fc7daa4375b00b1836253b25d0": {
      "model_module": "@jupyter-widgets/controls",
      "model_module_version": "1.1.0",
      "model_name": "LabelModel",
      "state": {
       "layout": "IPY_MODEL_a5ab0bc8e4894abf9f3ae4671f61de35",
       "style": "IPY_MODEL_f143c1e1d37e4c3e80e186452ecaae07",
       "value": "Select which sets of data to display."
      }
     },
     "e5de52a649a44006a5e4cb9bac808b33": {
      "model_module": "@jupyter-widgets/base",
      "model_module_version": "1.0.0",
      "model_name": "LayoutModel",
      "state": {}
     },
     "e5e86d6c8dd849fc9f332d9f5d25bf96": {
      "model_module": "@jupyter-widgets/base",
      "model_module_version": "1.0.0",
      "model_name": "LayoutModel",
      "state": {}
     },
     "e5f74c8d52ba473a915226f341c5467e": {
      "model_module": "@jupyter-widgets/controls",
      "model_module_version": "1.1.0",
      "model_name": "LabelModel",
      "state": {
       "layout": "IPY_MODEL_eae5e238dfcd487eaeb1739326df0d12",
       "style": "IPY_MODEL_8e0c320fd5734317bb5f0a4dcabe63e9",
       "value": "Select the detector angles to plot."
      }
     },
     "e65acee7afc542d6ad03ff99c879b497": {
      "model_module": "@jupyter-widgets/controls",
      "model_module_version": "1.1.0",
      "model_name": "CheckboxModel",
      "state": {
       "description": "30°",
       "disabled": false,
       "layout": "IPY_MODEL_7a207b3f9e534394bfd8e158d669b063",
       "style": "IPY_MODEL_358e4741551d4c4686ca6b750bcca1d4",
       "value": true
      }
     },
     "e66423a8657740bf85d4739442117038": {
      "model_module": "@jupyter-widgets/controls",
      "model_module_version": "1.1.0",
      "model_name": "ToggleButtonsStyleModel",
      "state": {
       "button_width": "",
       "description_width": ""
      }
     },
     "e68d8f144a094788886e98075cc5562e": {
      "model_module": "@jupyter-widgets/controls",
      "model_module_version": "1.1.0",
      "model_name": "DescriptionStyleModel",
      "state": {
       "description_width": ""
      }
     },
     "e6ab800a2c384e36a3b43de9083679e4": {
      "model_module": "@jupyter-widgets/controls",
      "model_module_version": "1.1.0",
      "model_name": "ButtonModel",
      "state": {
       "button_style": "success",
       "description": "Update plot",
       "icon": "paint-brush",
       "layout": "IPY_MODEL_a8e419868feb40a79cfca7b3f532a7fa",
       "style": "IPY_MODEL_806a3c65ff964a2982d166fcff8bb411",
       "tooltip": "Click to redraw the plot below with updated options from above."
      }
     },
     "e6eec0d2d30c40cf81d419a89626b114": {
      "model_module": "@jupyter-widgets/base",
      "model_module_version": "1.0.0",
      "model_name": "LayoutModel",
      "state": {}
     },
     "e705eb676ca84ed7bac6301486cf3fec": {
      "model_module": "@jupyter-widgets/base",
      "model_module_version": "1.0.0",
      "model_name": "LayoutModel",
      "state": {}
     },
     "e70fff3b1c7d496b87c0f5a08a5d3555": {
      "model_module": "@jupyter-widgets/base",
      "model_module_version": "1.0.0",
      "model_name": "LayoutModel",
      "state": {}
     },
     "e7354a7351dc4a3eb056a1ebe167219f": {
      "model_module": "@jupyter-widgets/base",
      "model_module_version": "1.0.0",
      "model_name": "LayoutModel",
      "state": {}
     },
     "e75e86304c0e43ab9315309c63aae2b6": {
      "model_module": "@jupyter-widgets/base",
      "model_module_version": "1.0.0",
      "model_name": "LayoutModel",
      "state": {}
     },
     "e79bd93ad5be4112858e8589b9072286": {
      "model_module": "@jupyter-widgets/controls",
      "model_module_version": "1.1.0",
      "model_name": "DescriptionStyleModel",
      "state": {
       "description_width": ""
      }
     },
     "e7c7ff147f5e4b0f9de2d24756f931c5": {
      "model_module": "@jupyter-widgets/base",
      "model_module_version": "1.0.0",
      "model_name": "LayoutModel",
      "state": {}
     },
     "e7d5c0076bce489bb6ca680b9c77e9fb": {
      "model_module": "@jupyter-widgets/controls",
      "model_module_version": "1.1.0",
      "model_name": "DescriptionStyleModel",
      "state": {
       "description_width": ""
      }
     },
     "e7e3aa5f333c4515a07b33e75a21e3aa": {
      "model_module": "@jupyter-widgets/controls",
      "model_module_version": "1.1.0",
      "model_name": "CheckboxModel",
      "state": {
       "description": "45°",
       "disabled": false,
       "layout": "IPY_MODEL_bdbce8b329e84bacadec6d2e96f30b1e",
       "style": "IPY_MODEL_2b911a2ee8294942a8efb25e06c96439",
       "value": false
      }
     },
     "e7ecb71a6c3a41c7a7e8bd0ae54eff62": {
      "model_module": "@jupyter-widgets/base",
      "model_module_version": "1.0.0",
      "model_name": "LayoutModel",
      "state": {}
     },
     "e80e24a9feae43428877f7d17703b50b": {
      "model_module": "@jupyter-widgets/base",
      "model_module_version": "1.0.0",
      "model_name": "LayoutModel",
      "state": {}
     },
     "e81ace7a9c8c47519c4ccc7e7135a833": {
      "model_module": "@jupyter-widgets/controls",
      "model_module_version": "1.1.0",
      "model_name": "LabelModel",
      "state": {
       "layout": "IPY_MODEL_9ecc5a915ae742e0a270e8e6ff0bf4bd",
       "style": "IPY_MODEL_cf8555f94a5a495ea3b65f53dda0e5e0",
       "value": "Select the detector angles to plot."
      }
     },
     "e853e0e4b83c4027ae57a1c216404402": {
      "model_module": "@jupyter-widgets/controls",
      "model_module_version": "1.1.0",
      "model_name": "CheckboxModel",
      "state": {
       "description": "30°",
       "disabled": false,
       "layout": "IPY_MODEL_6a2b921d39ac461dbc061b948af0ceea",
       "style": "IPY_MODEL_05cb3d47b34d471a8df96e77a72f430b",
       "value": true
      }
     },
     "e855032a03ab41298ecbce490692b442": {
      "model_module": "@jupyter-widgets/base",
      "model_module_version": "1.0.0",
      "model_name": "LayoutModel",
      "state": {}
     },
     "e859ff3fab7f425f9d5d51bb08bb0418": {
      "model_module": "@jupyter-widgets/controls",
      "model_module_version": "1.1.0",
      "model_name": "DescriptionStyleModel",
      "state": {
       "description_width": ""
      }
     },
     "e87b980a30d44b798d1e28f010ac8725": {
      "model_module": "@jupyter-widgets/controls",
      "model_module_version": "1.1.0",
      "model_name": "ToggleButtonsModel",
      "state": {
       "_options_labels": [
        "N (¹n)",
        "NDC (¹n)",
        "P (¹H)",
        "D (²H)",
        "T (³H)",
        "S (³He)",
        "A (⁴He)"
       ],
       "button_style": "",
       "description": "Type:",
       "icons": [],
       "index": 0,
       "layout": "IPY_MODEL_22f5fcb0e7c14fb49e8408d1f2bb3cb6",
       "style": "IPY_MODEL_8a8a3c66e387487d94d40df8daf3abec",
       "tooltips": [
        "Neutron",
        "Back Target Neutron",
        "Proton",
        "Deuteron",
        "Triton",
        "Helium-3",
        "Helium-4"
       ]
      }
     },
     "e8b1430b7a3246b5962a8ec757207553": {
      "model_module": "@jupyter-widgets/base",
      "model_module_version": "1.0.0",
      "model_name": "LayoutModel",
      "state": {}
     },
     "e8b835b886ea4c968b92fde00e855c21": {
      "model_module": "@jupyter-widgets/base",
      "model_module_version": "1.0.0",
      "model_name": "LayoutModel",
      "state": {}
     },
     "e92d26a0bad1454b9eb0b6fcb4761631": {
      "model_module": "@jupyter-widgets/controls",
      "model_module_version": "1.1.0",
      "model_name": "CheckboxModel",
      "state": {
       "description": "135°",
       "disabled": false,
       "layout": "IPY_MODEL_7a60d2682c3349b0b202edf010c6c96c",
       "style": "IPY_MODEL_98c085b49e204c9f976cb4af179fae94",
       "value": true
      }
     },
     "e9543b4dab854cd4b3dc337b87fddb83": {
      "model_module": "@jupyter-widgets/controls",
      "model_module_version": "1.1.0",
      "model_name": "DescriptionStyleModel",
      "state": {
       "description_width": ""
      }
     },
     "e9876dad0d064a82bb3810f9daf6dc78": {
      "model_module": "@jupyter-widgets/base",
      "model_module_version": "1.0.0",
      "model_name": "LayoutModel",
      "state": {}
     },
     "e992d12a9729434d8f31fc94ade3e124": {
      "model_module": "@jupyter-widgets/base",
      "model_module_version": "1.0.0",
      "model_name": "LayoutModel",
      "state": {}
     },
     "e9985931202d404a85b352978ff371ec": {
      "model_module": "@jupyter-widgets/controls",
      "model_module_version": "1.1.0",
      "model_name": "CheckboxModel",
      "state": {
       "description": "45°",
       "disabled": false,
       "layout": "IPY_MODEL_d54854d800e84617aacf520cbd7df79d",
       "style": "IPY_MODEL_0bf4a0d53fc74f159eaa0fe9e9553c72",
       "value": true
      }
     },
     "e9c632d108ec4bc5b7df6ee17e225966": {
      "model_module": "@jupyter-widgets/base",
      "model_module_version": "1.0.0",
      "model_name": "LayoutModel",
      "state": {}
     },
     "ea30e5a524454e1594f24ddc7f7f64e4": {
      "model_module": "@jupyter-widgets/controls",
      "model_module_version": "1.1.0",
      "model_name": "CheckboxModel",
      "state": {
       "description": "45°",
       "disabled": false,
       "layout": "IPY_MODEL_97943902601a413d9513a4e7bec6f8a8",
       "style": "IPY_MODEL_1a0b47557ddb471a9abef45ce46f53bc",
       "value": true
      }
     },
     "ea4664c6390d4cf0904b45b2b1efb2c9": {
      "model_module": "@jupyter-widgets/controls",
      "model_module_version": "1.1.0",
      "model_name": "CheckboxModel",
      "state": {
       "description": "80°",
       "disabled": false,
       "layout": "IPY_MODEL_9935277d35c1402bb49416768a7b9ce1",
       "style": "IPY_MODEL_a900600b456b46a681fcc9494b7ece95",
       "value": true
      }
     },
     "ea8cf577676a4f5c815dc001591cca70": {
      "model_module": "@jupyter-widgets/controls",
      "model_module_version": "1.1.0",
      "model_name": "DescriptionStyleModel",
      "state": {
       "description_width": ""
      }
     },
     "eacf4b0c30b94827b8e74e51c200c853": {
      "model_module": "@jupyter-widgets/base",
      "model_module_version": "1.0.0",
      "model_name": "LayoutModel",
      "state": {}
     },
     "eada671a9877489896c776f602c3d693": {
      "model_module": "@jupyter-widgets/controls",
      "model_module_version": "1.1.0",
      "model_name": "ToggleButtonsModel",
      "state": {
       "_options_labels": [
        "400 MeV/n",
        "800 MeV/n",
        "1500 MeV/n"
       ],
       "button_style": "",
       "description": "Energy:",
       "icons": [],
       "index": 0,
       "layout": "IPY_MODEL_03b19c06f12e4aadad7aec80c5d6b1ed",
       "style": "IPY_MODEL_1fec3a2bae25428490df10b6f9630f15",
       "tooltips": [
        "lowest energy",
        "middle energy",
        "highest energy"
       ]
      }
     },
     "eadefaf457884e77b775d9e9cef345f2": {
      "model_module": "@jupyter-widgets/controls",
      "model_module_version": "1.1.0",
      "model_name": "CheckboxModel",
      "state": {
       "description": "10°",
       "disabled": false,
       "layout": "IPY_MODEL_9dd994dfe1494c828611dab8b7c1157e",
       "style": "IPY_MODEL_74e3d297a3dd4837a6940d54ccb2fc04",
       "value": true
      }
     },
     "eae064cb481f4388b3ecadccabebcbfd": {
      "model_module": "@jupyter-widgets/base",
      "model_module_version": "1.0.0",
      "model_name": "LayoutModel",
      "state": {}
     },
     "eae5e238dfcd487eaeb1739326df0d12": {
      "model_module": "@jupyter-widgets/base",
      "model_module_version": "1.0.0",
      "model_name": "LayoutModel",
      "state": {}
     },
     "eb377fa66aa746eb968995e2f2ab0fb4": {
      "model_module": "@jupyter-widgets/base",
      "model_module_version": "1.0.0",
      "model_name": "LayoutModel",
      "state": {}
     },
     "eb4ab7313de148e7975c3fd05921afd6": {
      "model_module": "@jupyter-widgets/base",
      "model_module_version": "1.0.0",
      "model_name": "LayoutModel",
      "state": {}
     },
     "ebf7af92aa6d4d2d90ea7cdae6b2bd84": {
      "model_module": "@jupyter-widgets/base",
      "model_module_version": "1.0.0",
      "model_name": "LayoutModel",
      "state": {}
     },
     "ec294333971b4af4bb4a5d8b139ab91f": {
      "model_module": "@jupyter-widgets/base",
      "model_module_version": "1.0.0",
      "model_name": "LayoutModel",
      "state": {}
     },
     "ec376c2c6592463696df681b11201528": {
      "model_module": "@jupyter-widgets/controls",
      "model_module_version": "1.1.0",
      "model_name": "ToggleButtonsModel",
      "state": {
       "_options_labels": [
        "20 g/cm²",
        "60 g/cm²"
       ],
       "button_style": "",
       "description": "Thickness:",
       "icons": [],
       "index": 0,
       "layout": "IPY_MODEL_7ed71805849a4f218564899a9ad4f788",
       "style": "IPY_MODEL_e1d70410966d4bf99a2e35490939c1d6",
       "tooltips": [
        "10 g/cm² Al upstream + 10 g/cm² HDPE downstream",
        "10 g/cm² Al upstream + 50 g/cm² HDPE downstream"
       ]
      }
     },
     "ec5aaa4b954a43a097770055de9b89ef": {
      "model_module": "@jupyter-widgets/controls",
      "model_module_version": "1.1.0",
      "model_name": "CheckboxModel",
      "state": {
       "description": "Experiment",
       "disabled": false,
       "layout": "IPY_MODEL_1bf04ec8e10246cc9d2df1f9e1f9e9b8",
       "style": "IPY_MODEL_1a46dbed02354026a4326b00cab9b040",
       "value": true
      }
     },
     "ec670dbcc8b94de5b4410087759261e7": {
      "model_module": "@jupyter-widgets/controls",
      "model_module_version": "1.1.0",
      "model_name": "LabelModel",
      "state": {
       "layout": "IPY_MODEL_8f66d762f6184414a9714cfc226381c1",
       "style": "IPY_MODEL_2514ad8ffa01480e8bd6dd3eb68113a7",
       "value": "Select the detector angles to plot."
      }
     },
     "ed728a04d4bc4e46bfe229bbe18d946c": {
      "model_module": "@jupyter-widgets/controls",
      "model_module_version": "1.1.0",
      "model_name": "DescriptionStyleModel",
      "state": {
       "description_width": ""
      }
     },
     "ed78636499c449529f4f4ab3dbc73bdd": {
      "model_module": "@jupyter-widgets/controls",
      "model_module_version": "1.1.0",
      "model_name": "CheckboxModel",
      "state": {
       "description": "60°",
       "disabled": false,
       "layout": "IPY_MODEL_703e3e569ff1498cb980c4dc4e985884",
       "style": "IPY_MODEL_5be950c9798a433eac7c50d421058a45",
       "value": false
      }
     },
     "edc5a9e57f44467797d8f3c8d1368d47": {
      "model_module": "@jupyter-widgets/controls",
      "model_module_version": "1.1.0",
      "model_name": "LabelModel",
      "state": {
       "layout": "IPY_MODEL_714e01f090034d61970e171f2b8e9078",
       "style": "IPY_MODEL_9d4af918c79e4649b91b52b135f6205d",
       "value": "Select the detector angles to plot."
      }
     },
     "ee873eda4511449cbd85792796e66667": {
      "model_module": "@jupyter-widgets/controls",
      "model_module_version": "1.1.0",
      "model_name": "CheckboxModel",
      "state": {
       "description": "135°",
       "disabled": false,
       "layout": "IPY_MODEL_e9c632d108ec4bc5b7df6ee17e225966",
       "style": "IPY_MODEL_55ad60edc3cc48cf803fdd35c03e02a8",
       "value": true
      }
     },
     "ee8be8f473e143408da35f093c0b6df3": {
      "model_module": "@jupyter-widgets/controls",
      "model_module_version": "1.1.0",
      "model_name": "LabelModel",
      "state": {
       "layout": "IPY_MODEL_638b9a043e1e4701abfe86496606c417",
       "style": "IPY_MODEL_6896b4bd8afa4cdcbf69ee8bd652a294",
       "value": "Select which secondary particle to plot spectra for."
      }
     },
     "ee9165206ff64fd98ebeb4be3a4a7b45": {
      "model_module": "@jupyter-widgets/controls",
      "model_module_version": "1.1.0",
      "model_name": "CheckboxModel",
      "state": {
       "description": "12.7°",
       "disabled": false,
       "layout": "IPY_MODEL_1b864d38500245bc899a0f381f423c24",
       "style": "IPY_MODEL_aa35185bf3a34092a2bd1af2cf00e408",
       "value": true
      }
     },
     "ee98a1b776164c5e9d2f3111d8008ef9": {
      "model_module": "@jupyter-widgets/controls",
      "model_module_version": "1.1.0",
      "model_name": "LabelModel",
      "state": {
       "layout": "IPY_MODEL_994c2a00c9b5436b91b975bafd760584",
       "style": "IPY_MODEL_9de6726f2e004bd3877caf19cbe4426f",
       "value": "Select upstream target material and thickness."
      }
     },
     "ee9bc543bebf4a9d802fb91e73d1002f": {
      "model_module": "@jupyter-widgets/controls",
      "model_module_version": "1.1.0",
      "model_name": "DescriptionStyleModel",
      "state": {
       "description_width": ""
      }
     },
     "eea40b60cb2d4ebbbbf40e8521ee4f87": {
      "model_module": "@jupyter-widgets/controls",
      "model_module_version": "1.1.0",
      "model_name": "CheckboxModel",
      "state": {
       "description": "30°",
       "disabled": false,
       "layout": "IPY_MODEL_868daa6a513c4483b385e724afc38db6",
       "style": "IPY_MODEL_a02324d66cae4bcdad77709c8ea30df5",
       "value": true
      }
     },
     "eef836b841c54aca80d97b09e12e4b2e": {
      "model_module": "@jupyter-widgets/controls",
      "model_module_version": "1.1.0",
      "model_name": "LabelModel",
      "state": {
       "layout": "IPY_MODEL_7ac59b7eca6641c8bcb498673e9b27bd",
       "style": "IPY_MODEL_1fe86901ff6444339b517145bf3c3899",
       "value": "Select projectile ion energy."
      }
     },
     "eefb103b46b840978229669dc9bbcdce": {
      "model_module": "@jupyter-widgets/controls",
      "model_module_version": "1.1.0",
      "model_name": "ToggleButtonsStyleModel",
      "state": {
       "button_width": "",
       "description_width": ""
      }
     },
     "ef4bd5c55a7c45cc9ef95a2d4270d9a7": {
      "model_module": "@jupyter-widgets/base",
      "model_module_version": "1.0.0",
      "model_name": "LayoutModel",
      "state": {}
     },
     "ef63fe9cf051472285a2119408a5362c": {
      "model_module": "@jupyter-widgets/controls",
      "model_module_version": "1.1.0",
      "model_name": "DescriptionStyleModel",
      "state": {
       "description_width": ""
      }
     },
     "ef7272546b44403e83a8e89ec335c49b": {
      "model_module": "@jupyter-widgets/controls",
      "model_module_version": "1.1.0",
      "model_name": "CheckboxModel",
      "state": {
       "description": "60°",
       "disabled": false,
       "layout": "IPY_MODEL_dc545899afba40ea8c875493c461fd48",
       "style": "IPY_MODEL_28cb64bf993548d4ac314cacc750404a",
       "value": true
      }
     },
     "efcb746359c4475e975c88a99c210c04": {
      "model_module": "@jupyter-widgets/controls",
      "model_module_version": "1.1.0",
      "model_name": "DescriptionStyleModel",
      "state": {
       "description_width": ""
      }
     },
     "efd911ce47884c2e847c7597db96f675": {
      "model_module": "@jupyter-widgets/controls",
      "model_module_version": "1.1.0",
      "model_name": "CheckboxModel",
      "state": {
       "description": "60°",
       "disabled": false,
       "layout": "IPY_MODEL_faff79a189964b2d9547eac49f10b416",
       "style": "IPY_MODEL_c9a56b89822e4c4fbe565ecbbd144637",
       "value": true
      }
     },
     "f055cac736c0407b94d3e7ddcc082153": {
      "model_module": "@jupyter-widgets/base",
      "model_module_version": "1.0.0",
      "model_name": "LayoutModel",
      "state": {}
     },
     "f0566eea34404ef8ad5d91547f7d07d4": {
      "model_module": "@jupyter-widgets/controls",
      "model_module_version": "1.1.0",
      "model_name": "ToggleButtonsModel",
      "state": {
       "_options_labels": [
        "Al",
        "HDPE",
        "AlPE"
       ],
       "button_style": "",
       "description": "Material:",
       "icons": [],
       "index": 0,
       "layout": "IPY_MODEL_b8297bde69954b1fad28c2af975eeb32",
       "style": "IPY_MODEL_b6c24efdc53a4660a49ce93bba5de96a",
       "tooltips": [
        "Aluminum",
        "Polyethylene",
        "Combination of Al and HDPE"
       ]
      }
     },
     "f063c43e128244e0b1ce21cf847b324b": {
      "model_module": "@jupyter-widgets/controls",
      "model_module_version": "1.1.0",
      "model_name": "DescriptionStyleModel",
      "state": {
       "description_width": ""
      }
     },
     "f080737c4e2841fa9081b9ed3051a0cc": {
      "model_module": "@jupyter-widgets/controls",
      "model_module_version": "1.1.0",
      "model_name": "CheckboxModel",
      "state": {
       "description": "30°",
       "disabled": false,
       "layout": "IPY_MODEL_b2a39a040a6544d99cfd7e4863d4a141",
       "style": "IPY_MODEL_e2942bf36d6c4d1e9d9c1d946651f2dd",
       "value": false
      }
     },
     "f0969a67e3cd4b4bb9df5309f32120c8": {
      "model_module": "@jupyter-widgets/controls",
      "model_module_version": "1.1.0",
      "model_name": "LabelModel",
      "state": {
       "layout": "IPY_MODEL_33472369a0234ea3a9dcf27c09cd7f7b",
       "style": "IPY_MODEL_39b823192d424a1aab87bcddeee16b3d",
       "value": "Select the detector angles to plot."
      }
     },
     "f10bfd995f7d431d8b378fcd07b5c54e": {
      "model_module": "@jupyter-widgets/base",
      "model_module_version": "1.0.0",
      "model_name": "LayoutModel",
      "state": {}
     },
     "f143c1e1d37e4c3e80e186452ecaae07": {
      "model_module": "@jupyter-widgets/controls",
      "model_module_version": "1.1.0",
      "model_name": "DescriptionStyleModel",
      "state": {
       "description_width": ""
      }
     },
     "f18d8c2733764bf5b324b901bc699368": {
      "model_module": "@jupyter-widgets/base",
      "model_module_version": "1.0.0",
      "model_name": "LayoutModel",
      "state": {}
     },
     "f199881453b040ecba836e9210e1e2bd": {
      "model_module": "@jupyter-widgets/controls",
      "model_module_version": "1.1.0",
      "model_name": "ToggleButtonsStyleModel",
      "state": {
       "button_width": "",
       "description_width": ""
      }
     },
     "f1afb8dc5d4142d693c8d42b97cebaad": {
      "model_module": "@jupyter-widgets/controls",
      "model_module_version": "1.1.0",
      "model_name": "CheckboxModel",
      "state": {
       "description": "10°",
       "disabled": false,
       "layout": "IPY_MODEL_23907f89d8224d0d8f8b6dff967d5a79",
       "style": "IPY_MODEL_1f7b1312a8a44dbaa6d3bae6912929db",
       "value": true
      }
     },
     "f1eedb76081f4458b9c9a8c9e76dfeef": {
      "model_module": "@jupyter-widgets/controls",
      "model_module_version": "1.1.0",
      "model_name": "CheckboxModel",
      "state": {
       "description": "80°",
       "disabled": false,
       "layout": "IPY_MODEL_adeb596f502d42449d8811e70bbae8b2",
       "style": "IPY_MODEL_255bd2ea37c443cdbf7c13594324e3ea",
       "value": true
      }
     },
     "f1f935c3adf24e1bb45e6f19d25d81c5": {
      "model_module": "@jupyter-widgets/controls",
      "model_module_version": "1.1.0",
      "model_name": "DescriptionStyleModel",
      "state": {
       "description_width": ""
      }
     },
     "f252dec002114f79992adfffb78289bb": {
      "model_module": "@jupyter-widgets/controls",
      "model_module_version": "1.1.0",
      "model_name": "ToggleButtonsStyleModel",
      "state": {
       "button_width": "",
       "description_width": ""
      }
     },
     "f262556b66da4635872be828bcdb1607": {
      "model_module": "@jupyter-widgets/controls",
      "model_module_version": "1.1.0",
      "model_name": "CheckboxModel",
      "state": {
       "description": "80°",
       "disabled": false,
       "layout": "IPY_MODEL_c758b050ef9b47c8b35069f92aa067b8",
       "style": "IPY_MODEL_75a30c3beb1940bf992f9033eee96e34",
       "value": true
      }
     },
     "f26b555c18674641ac56b038c0e17764": {
      "model_module": "@jupyter-widgets/controls",
      "model_module_version": "1.1.0",
      "model_name": "DescriptionStyleModel",
      "state": {
       "description_width": ""
      }
     },
     "f26e2ec7560a4e578564c54c53c981f3": {
      "model_module": "@jupyter-widgets/controls",
      "model_module_version": "1.1.0",
      "model_name": "LabelModel",
      "state": {
       "layout": "IPY_MODEL_0d391190abd44d54b833e58e653dc40b",
       "style": "IPY_MODEL_86a57d3d44574ca59515581038955997",
       "value": "Select projectile ion energy."
      }
     },
     "f2747acdaa6146c7bfbced92bc3f8313": {
      "model_module": "@jupyter-widgets/base",
      "model_module_version": "1.0.0",
      "model_name": "LayoutModel",
      "state": {}
     },
     "f2ad27baf4764943a64930549184f148": {
      "model_module": "@jupyter-widgets/base",
      "model_module_version": "1.0.0",
      "model_name": "LayoutModel",
      "state": {}
     },
     "f2d9fac9be214bb79549c85432c23998": {
      "model_module": "@jupyter-widgets/controls",
      "model_module_version": "1.1.0",
      "model_name": "CheckboxModel",
      "state": {
       "description": "135°",
       "disabled": false,
       "layout": "IPY_MODEL_1bf7f5567589498fa681752dbe53ef46",
       "style": "IPY_MODEL_bb2cd9b121534a8290c6451b95d7d29c",
       "value": true
      }
     },
     "f321083ddc564a30968b1d85bf33aa1b": {
      "model_module": "@jupyter-widgets/base",
      "model_module_version": "1.0.0",
      "model_name": "LayoutModel",
      "state": {}
     },
     "f33936238f9141c9994990d8d2bc665a": {
      "model_module": "@jupyter-widgets/controls",
      "model_module_version": "1.1.0",
      "model_name": "CheckboxModel",
      "state": {
       "description": "7.2°",
       "disabled": false,
       "layout": "IPY_MODEL_bc66069ba2424e408276de2b0e664572",
       "style": "IPY_MODEL_0b27835f9ef445558cc2f963f85d4f87",
       "value": false
      }
     },
     "f3b020ca5d8f4d98bd0f82640535936e": {
      "model_module": "@jupyter-widgets/base",
      "model_module_version": "1.0.0",
      "model_name": "LayoutModel",
      "state": {}
     },
     "f3b324d2ef314550aa0da8d17a9f0043": {
      "model_module": "@jupyter-widgets/controls",
      "model_module_version": "1.1.0",
      "model_name": "CheckboxModel",
      "state": {
       "description": "80°",
       "disabled": false,
       "layout": "IPY_MODEL_1390752cdc434e52b9f7bbcab6f4e297",
       "style": "IPY_MODEL_fa6823fad2d748e99617d54f76e63bc8",
       "value": false
      }
     },
     "f3c9ffbfb328454d98e6b2a5ed3f03b4": {
      "model_module": "@jupyter-widgets/controls",
      "model_module_version": "1.1.0",
      "model_name": "CheckboxModel",
      "state": {
       "description": "135°",
       "disabled": false,
       "layout": "IPY_MODEL_bc51dbf7d6b44cb0861568d60899abdf",
       "style": "IPY_MODEL_97998ff7c23540418583446728836fec",
       "value": true
      }
     },
     "f3f69e1081784e57b0f53a13152b39c0": {
      "model_module": "@jupyter-widgets/controls",
      "model_module_version": "1.1.0",
      "model_name": "DescriptionStyleModel",
      "state": {
       "description_width": ""
      }
     },
     "f41b887ee0d948018f442ae216d31f95": {
      "model_module": "@jupyter-widgets/base",
      "model_module_version": "1.0.0",
      "model_name": "LayoutModel",
      "state": {}
     },
     "f46e27ea0a14453184f192527874afb7": {
      "model_module": "@jupyter-widgets/base",
      "model_module_version": "1.0.0",
      "model_name": "LayoutModel",
      "state": {}
     },
     "f485120e55c14545ac5b3960df305b8f": {
      "model_module": "@jupyter-widgets/controls",
      "model_module_version": "1.1.0",
      "model_name": "LabelModel",
      "state": {
       "layout": "IPY_MODEL_879adfc53a3c462a9c3d51cf55c1adbe",
       "style": "IPY_MODEL_8477bf0938fe492299303381dfe3f762",
       "value": "Select which secondary particle to plot spectra for."
      }
     },
     "f4861ab2161a41a481d4efd27777288f": {
      "model_module": "@jupyter-widgets/controls",
      "model_module_version": "1.1.0",
      "model_name": "DescriptionStyleModel",
      "state": {
       "description_width": ""
      }
     },
     "f49081b81392490a9d44ed5eda297dfb": {
      "model_module": "@jupyter-widgets/controls",
      "model_module_version": "1.1.0",
      "model_name": "DescriptionStyleModel",
      "state": {
       "description_width": ""
      }
     },
     "f4a71d72724943bfaf0276bf593011e7": {
      "model_module": "@jupyter-widgets/base",
      "model_module_version": "1.0.0",
      "model_name": "LayoutModel",
      "state": {}
     },
     "f4b34bb605b642bc92cabd5815758446": {
      "model_module": "@jupyter-widgets/base",
      "model_module_version": "1.0.0",
      "model_name": "LayoutModel",
      "state": {}
     },
     "f4d47f670d944ed8aaa908b07c2eafa3": {
      "model_module": "@jupyter-widgets/controls",
      "model_module_version": "1.1.0",
      "model_name": "DescriptionStyleModel",
      "state": {
       "description_width": ""
      }
     },
     "f4ed453b5306419e94a21b49cba03d49": {
      "model_module": "@jupyter-widgets/controls",
      "model_module_version": "1.1.0",
      "model_name": "DescriptionStyleModel",
      "state": {
       "description_width": ""
      }
     },
     "f5265654bf1c43de820654cb0b360cae": {
      "model_module": "@jupyter-widgets/base",
      "model_module_version": "1.0.0",
      "model_name": "LayoutModel",
      "state": {}
     },
     "f53498484d3e4625ba5faed05d104562": {
      "model_module": "@jupyter-widgets/base",
      "model_module_version": "1.0.0",
      "model_name": "LayoutModel",
      "state": {}
     },
     "f5b30e748dcd4e67b51e4e670d0c23eb": {
      "model_module": "@jupyter-widgets/controls",
      "model_module_version": "1.1.0",
      "model_name": "CheckboxModel",
      "state": {
       "description": "45°",
       "disabled": false,
       "layout": "IPY_MODEL_b2c2393f3cc943afa4c0a599f866c96b",
       "style": "IPY_MODEL_630a75892166422cb5a31e63e1a6c742",
       "value": true
      }
     },
     "f5ba8d79d7ac4a828e421fac15ac3d7a": {
      "model_module": "@jupyter-widgets/base",
      "model_module_version": "1.0.0",
      "model_name": "LayoutModel",
      "state": {}
     },
     "f5d62b0a3491487ebc3bae565842b5c4": {
      "model_module": "@jupyter-widgets/controls",
      "model_module_version": "1.1.0",
      "model_name": "CheckboxModel",
      "state": {
       "description": "60°",
       "disabled": false,
       "layout": "IPY_MODEL_1aeb7dfc9e594c11861f86298ee1729a",
       "style": "IPY_MODEL_a9e42351c8da44b9ad978d46ab3d72ab",
       "value": true
      }
     },
     "f5dfd514d516400ba5747fb5cf8a6269": {
      "model_module": "@jupyter-widgets/controls",
      "model_module_version": "1.1.0",
      "model_name": "CheckboxModel",
      "state": {
       "description": "10°",
       "disabled": false,
       "layout": "IPY_MODEL_1d68b934178f43fc98da9e81f818c1c2",
       "style": "IPY_MODEL_08874af4f11e4866a1c963a34f169b7b",
       "value": true
      }
     },
     "f5ec4bafce8a47389fc36bbf380ff089": {
      "model_module": "@jupyter-widgets/controls",
      "model_module_version": "1.1.0",
      "model_name": "ToggleButtonsStyleModel",
      "state": {
       "button_width": "",
       "description_width": ""
      }
     },
     "f606adc961c44f8b9755d1e03eb8449a": {
      "model_module": "@jupyter-widgets/controls",
      "model_module_version": "1.1.0",
      "model_name": "DescriptionStyleModel",
      "state": {
       "description_width": ""
      }
     },
     "f6398df354bc4679b689033928f3f329": {
      "model_module": "@jupyter-widgets/base",
      "model_module_version": "1.0.0",
      "model_name": "LayoutModel",
      "state": {}
     },
     "f673c3750a714ce6b241908ebc147d4d": {
      "model_module": "@jupyter-widgets/base",
      "model_module_version": "1.0.0",
      "model_name": "LayoutModel",
      "state": {}
     },
     "f71727a8872d46bfa0995c5545823cfc": {
      "model_module": "@jupyter-widgets/base",
      "model_module_version": "1.0.0",
      "model_name": "LayoutModel",
      "state": {}
     },
     "f7321fc4b17d4e829257afd40af2d5c2": {
      "model_module": "@jupyter-widgets/controls",
      "model_module_version": "1.1.0",
      "model_name": "DescriptionStyleModel",
      "state": {
       "description_width": ""
      }
     },
     "f753c75e2f27484493aa367682daa366": {
      "model_module": "@jupyter-widgets/controls",
      "model_module_version": "1.1.0",
      "model_name": "CheckboxModel",
      "state": {
       "description": "10°",
       "disabled": false,
       "layout": "IPY_MODEL_08f0b78c47574a45ac876371dff017db",
       "style": "IPY_MODEL_31eccb51f3554686a99127acb7d976ab",
       "value": true
      }
     },
     "f757fbb5e99d4a2d8befd8c12209d3d3": {
      "model_module": "@jupyter-widgets/controls",
      "model_module_version": "1.1.0",
      "model_name": "CheckboxModel",
      "state": {
       "description": "45°",
       "disabled": false,
       "layout": "IPY_MODEL_d99aff9ae3da4c99b9fc05e9620edc89",
       "style": "IPY_MODEL_32ae16106a1c4496831fc9941be86476",
       "value": true
      }
     },
     "f7f38f23b33c4fc9bedd89b58ecf6c4c": {
      "model_module": "@jupyter-widgets/base",
      "model_module_version": "1.0.0",
      "model_name": "LayoutModel",
      "state": {}
     },
     "f808b8d841c64ede90b90c8d1d382ad7": {
      "model_module": "@jupyter-widgets/controls",
      "model_module_version": "1.1.0",
      "model_name": "DescriptionStyleModel",
      "state": {
       "description_width": ""
      }
     },
     "f812ebabef9146fbb976efd2dd979889": {
      "model_module": "@jupyter-widgets/base",
      "model_module_version": "1.0.0",
      "model_name": "LayoutModel",
      "state": {}
     },
     "f8160d7eb5ec4e9e9e9be412fce32fd9": {
      "model_module": "@jupyter-widgets/controls",
      "model_module_version": "1.1.0",
      "model_name": "ToggleButtonsModel",
      "state": {
       "_options_labels": [
        "N (¹n)",
        "NDC (¹n)",
        "P (¹H)",
        "D (²H)",
        "T (³H)",
        "S (³He)",
        "A (⁴He)"
       ],
       "button_style": "",
       "description": "Type:",
       "icons": [],
       "index": 0,
       "layout": "IPY_MODEL_16f670a283904513995b6aa8c48c5375",
       "style": "IPY_MODEL_f252dec002114f79992adfffb78289bb",
       "tooltips": [
        "Neutron",
        "Back Target Neutron",
        "Proton",
        "Deuteron",
        "Triton",
        "Helium-3",
        "Helium-4"
       ]
      }
     },
     "f8187533cbd64b0f92011819d7ecc492": {
      "model_module": "@jupyter-widgets/base",
      "model_module_version": "1.0.0",
      "model_name": "LayoutModel",
      "state": {}
     },
     "f8d1defbf04d4c329688c00ad9b82081": {
      "model_module": "@jupyter-widgets/base",
      "model_module_version": "1.0.0",
      "model_name": "LayoutModel",
      "state": {}
     },
     "f9518e3aacac4605b4bb8e8e408a58f3": {
      "model_module": "@jupyter-widgets/controls",
      "model_module_version": "1.1.0",
      "model_name": "LabelModel",
      "state": {
       "layout": "IPY_MODEL_c2da93c1248a406e97cdbda52cd4353e",
       "style": "IPY_MODEL_8f29115be0cc42ca9b36a84cc9c75532",
       "value": "Select which secondary particle to plot spectra for."
      }
     },
     "f97258fbbb4c467ebb072327200c0105": {
      "model_module": "@jupyter-widgets/controls",
      "model_module_version": "1.1.0",
      "model_name": "DescriptionStyleModel",
      "state": {
       "description_width": ""
      }
     },
     "fa1bd53915424fa1ab587c57ab48f080": {
      "model_module": "@jupyter-widgets/base",
      "model_module_version": "1.0.0",
      "model_name": "LayoutModel",
      "state": {}
     },
     "fa6823fad2d748e99617d54f76e63bc8": {
      "model_module": "@jupyter-widgets/controls",
      "model_module_version": "1.1.0",
      "model_name": "DescriptionStyleModel",
      "state": {
       "description_width": ""
      }
     },
     "fa76e56acdcd41718e0b25ba2bd643c5": {
      "model_module": "@jupyter-widgets/base",
      "model_module_version": "1.0.0",
      "model_name": "LayoutModel",
      "state": {}
     },
     "fa831ea3f4b347af83e3d34696ccf9ba": {
      "model_module": "@jupyter-widgets/base",
      "model_module_version": "1.0.0",
      "model_name": "LayoutModel",
      "state": {}
     },
     "fa868bfc1e314c0ebe3116aa8acc6ef2": {
      "model_module": "@jupyter-widgets/controls",
      "model_module_version": "1.1.0",
      "model_name": "ToggleButtonsStyleModel",
      "state": {
       "button_width": "",
       "description_width": ""
      }
     },
     "faff79a189964b2d9547eac49f10b416": {
      "model_module": "@jupyter-widgets/base",
      "model_module_version": "1.0.0",
      "model_name": "LayoutModel",
      "state": {}
     },
     "fb064c7310ef43abbedd84003a322ca9": {
      "model_module": "@jupyter-widgets/controls",
      "model_module_version": "1.1.0",
      "model_name": "CheckboxModel",
      "state": {
       "description": "135°",
       "disabled": false,
       "layout": "IPY_MODEL_6fb95e2154dd4900892693eac880a9bb",
       "style": "IPY_MODEL_2e3a847b8cec4b5dbe367728c18d5a57",
       "value": true
      }
     },
     "fb164e172ac540ac81fc0ad566192df8": {
      "model_module": "@jupyter-widgets/controls",
      "model_module_version": "1.1.0",
      "model_name": "ToggleButtonsModel",
      "state": {
       "_options_labels": [
        "N (¹n)",
        "NDC (¹n)",
        "P (¹H)",
        "D (²H)",
        "T (³H)",
        "S (³He)",
        "A (⁴He)"
       ],
       "button_style": "",
       "description": "Particle:",
       "icons": [],
       "index": 2,
       "layout": "IPY_MODEL_13e8722c02124a1eb5386f71fef459c9",
       "style": "IPY_MODEL_16a0a785c08a4f329604b9d7b46e1730",
       "tooltips": [
        "Neutron",
        "Back Target Neutron",
        "Proton",
        "Deuteron",
        "Triton",
        "Helium-3",
        "Helium-4"
       ]
      }
     },
     "fb2e1b8ea9c74243b274d3c0c73fb9f8": {
      "model_module": "@jupyter-widgets/base",
      "model_module_version": "1.0.0",
      "model_name": "LayoutModel",
      "state": {}
     },
     "fb46bc84044a4051b90c55b7d4fbb1ab": {
      "model_module": "@jupyter-widgets/controls",
      "model_module_version": "1.1.0",
      "model_name": "DescriptionStyleModel",
      "state": {
       "description_width": ""
      }
     },
     "fb4e6dcac5164de5891986bbceb3509d": {
      "model_module": "@jupyter-widgets/base",
      "model_module_version": "1.0.0",
      "model_name": "LayoutModel",
      "state": {}
     },
     "fbac0d7df1d84bce9086128e146d7b02": {
      "model_module": "@jupyter-widgets/controls",
      "model_module_version": "1.1.0",
      "model_name": "ToggleButtonsModel",
      "state": {
       "_options_labels": [
        "N (¹n)",
        "NDC (¹n)",
        "P (¹H)",
        "D (²H)"
       ],
       "button_style": "",
       "description": "Type:",
       "icons": [],
       "index": 2,
       "layout": "IPY_MODEL_03fbf2b260454a4aba02e0841a431c22",
       "style": "IPY_MODEL_e66423a8657740bf85d4739442117038",
       "tooltips": [
        "Neutron",
        "Back Target Neutron",
        "Proton",
        "Deuteron"
       ]
      }
     },
     "fc21e1f76d594bbfb368d28398b75880": {
      "model_module": "@jupyter-widgets/controls",
      "model_module_version": "1.1.0",
      "model_name": "CheckboxModel",
      "state": {
       "description": "Experiment",
       "disabled": false,
       "layout": "IPY_MODEL_312d0650ec004f909b6f98ff9ccc158f",
       "style": "IPY_MODEL_ceb39673d4414fd298cd7f6f4aec66f0",
       "value": true
      }
     },
     "fc5e76d7b0d54b7fb864f43147295e4d": {
      "model_module": "@jupyter-widgets/controls",
      "model_module_version": "1.1.0",
      "model_name": "ToggleButtonsStyleModel",
      "state": {
       "button_width": "",
       "description_width": ""
      }
     },
     "fc5ff637033d46a79d10c9f739554db6": {
      "model_module": "@jupyter-widgets/controls",
      "model_module_version": "1.1.0",
      "model_name": "CheckboxModel",
      "state": {
       "description": "10°",
       "disabled": false,
       "layout": "IPY_MODEL_e125556179c24374bb636b9f57260100",
       "style": "IPY_MODEL_0e7c74024ab7459c89e88c6a6c6d58c7",
       "value": true
      }
     },
     "fca467fbacda4366ac6d71ccd5b56cfc": {
      "model_module": "@jupyter-widgets/base",
      "model_module_version": "1.0.0",
      "model_name": "LayoutModel",
      "state": {}
     },
     "fcdc8c835ef542a39bbe81e117c15446": {
      "model_module": "@jupyter-widgets/controls",
      "model_module_version": "1.1.0",
      "model_name": "DescriptionStyleModel",
      "state": {
       "description_width": ""
      }
     },
     "fd601da03285408d9dab1b4e589015f8": {
      "model_module": "@jupyter-widgets/base",
      "model_module_version": "1.0.0",
      "model_name": "LayoutModel",
      "state": {}
     },
     "fe14d7b10f2e4a5c8d43b25464f2f8af": {
      "model_module": "@jupyter-widgets/base",
      "model_module_version": "1.0.0",
      "model_name": "LayoutModel",
      "state": {}
     },
     "fe1c6ef13b8c446280dbc572670306df": {
      "model_module": "@jupyter-widgets/controls",
      "model_module_version": "1.1.0",
      "model_name": "ToggleButtonsModel",
      "state": {
       "_options_labels": [
        "N (¹n)",
        "NDC (¹n)",
        "P (¹H)",
        "D (²H)",
        "T (³H)",
        "S (³He)",
        "A (⁴He)"
       ],
       "button_style": "",
       "description": "Type:",
       "icons": [],
       "index": 0,
       "layout": "IPY_MODEL_cc5a322d499e45ec875485585e0187e8",
       "style": "IPY_MODEL_377f418dbd6a41b9b98c2d82f062e64e",
       "tooltips": [
        "Neutron",
        "Back Target Neutron",
        "Proton",
        "Deuteron",
        "Triton",
        "Helium-3",
        "Helium-4"
       ]
      }
     },
     "fe1d1e90130247ac8121c825e79cb174": {
      "model_module": "@jupyter-widgets/controls",
      "model_module_version": "1.1.0",
      "model_name": "DescriptionStyleModel",
      "state": {
       "description_width": ""
      }
     },
     "fe443f51af184df68b3c56cf06f77457": {
      "model_module": "@jupyter-widgets/controls",
      "model_module_version": "1.1.0",
      "model_name": "DescriptionStyleModel",
      "state": {
       "description_width": ""
      }
     },
     "feb773bb2249497ab65e8cae32c67021": {
      "model_module": "@jupyter-widgets/base",
      "model_module_version": "1.0.0",
      "model_name": "LayoutModel",
      "state": {}
     },
     "fee1b4be948d47cb972a0796e53ef5ad": {
      "model_module": "@jupyter-widgets/controls",
      "model_module_version": "1.1.0",
      "model_name": "CheckboxModel",
      "state": {
       "description": "10°",
       "disabled": false,
       "layout": "IPY_MODEL_2592cff594e84589b5bf39c835496b59",
       "style": "IPY_MODEL_35808e4c571c4f76a4628148a7a69c54",
       "value": true
      }
     },
     "ff0752d0085a4a8693b2646507320ce7": {
      "model_module": "@jupyter-widgets/base",
      "model_module_version": "1.0.0",
      "model_name": "LayoutModel",
      "state": {}
     },
     "ff286a067c23439a868c7e18520be3c3": {
      "model_module": "@jupyter-widgets/base",
      "model_module_version": "1.0.0",
      "model_name": "LayoutModel",
      "state": {}
     },
     "ff2f94b2546b423daf13837d3bd365ab": {
      "model_module": "@jupyter-widgets/controls",
      "model_module_version": "1.1.0",
      "model_name": "DescriptionStyleModel",
      "state": {
       "description_width": ""
      }
     },
     "ff356545a116431bb725754b20b707f1": {
      "model_module": "@jupyter-widgets/controls",
      "model_module_version": "1.1.0",
      "model_name": "CheckboxModel",
      "state": {
       "description": "Experiment",
       "disabled": false,
       "layout": "IPY_MODEL_a492ac76f1b94b6a9eb892afe1c19c06",
       "style": "IPY_MODEL_453f31976f1745da8fe67203caf87d15",
       "value": true
      }
     },
     "ff5a7bc49d2c426bba829600c3d89560": {
      "model_module": "@jupyter-widgets/controls",
      "model_module_version": "1.1.0",
      "model_name": "CheckboxModel",
      "state": {
       "description": "60°",
       "disabled": false,
       "layout": "IPY_MODEL_a715567199b948ed9bf18629dce166b8",
       "style": "IPY_MODEL_d25f491b0e884a14a2edd32657745a70",
       "value": true
      }
     },
     "ff775fb71b26478da0e11f8d03b303f6": {
      "model_module": "@jupyter-widgets/base",
      "model_module_version": "1.0.0",
      "model_name": "LayoutModel",
      "state": {}
     },
     "ffc0f64b49c84d55873df730ed3f2593": {
      "model_module": "@jupyter-widgets/base",
      "model_module_version": "1.0.0",
      "model_name": "LayoutModel",
      "state": {}
     },
     "ffd7ce5689fb467b967c87d2b0dcf965": {
      "model_module": "@jupyter-widgets/controls",
      "model_module_version": "1.1.0",
      "model_name": "ToggleButtonsStyleModel",
      "state": {
       "button_width": "",
       "description_width": ""
      }
     },
     "ffe283cda2964f5f85d8d9bed246eb8e": {
      "model_module": "@jupyter-widgets/controls",
      "model_module_version": "1.1.0",
      "model_name": "CheckboxModel",
      "state": {
       "description": "30°",
       "disabled": false,
       "layout": "IPY_MODEL_409f8d96f1b84958a16c4d20848f7289",
       "style": "IPY_MODEL_215b0b190f52448c9781d9b9d17ba7cd",
       "value": true
      }
     }
    },
    "version_major": 2,
    "version_minor": 0
   }
  }
 },
 "nbformat": 4,
 "nbformat_minor": 1
}
