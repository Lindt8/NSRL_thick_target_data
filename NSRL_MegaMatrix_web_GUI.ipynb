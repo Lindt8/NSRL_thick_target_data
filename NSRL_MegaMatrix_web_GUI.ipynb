{
 "cells": [
  {
   "cell_type": "code",
   "execution_count": 297,
   "metadata": {},
   "outputs": [
    {
     "data": {
      "application/vnd.jupyter.widget-view+json": {
       "model_id": "5f113d14fd52493d9eb5984ada6b2e42",
       "version_major": 2,
       "version_minor": 0
      },
      "text/html": [
       "<p>Failed to display Jupyter Widget of type <code>Label</code>.</p>\n",
       "<p>\n",
       "  If you're reading this message in the Jupyter Notebook or JupyterLab Notebook, it may mean\n",
       "  that the widgets JavaScript is still loading. If this message persists, it\n",
       "  likely means that the widgets JavaScript library is either not installed or\n",
       "  not enabled. See the <a href=\"https://ipywidgets.readthedocs.io/en/stable/user_install.html\">Jupyter\n",
       "  Widgets Documentation</a> for setup instructions.\n",
       "</p>\n",
       "<p>\n",
       "  If you're reading this message in another frontend (for example, a static\n",
       "  rendering on GitHub or <a href=\"https://nbviewer.jupyter.org/\">NBViewer</a>),\n",
       "  it may mean that your frontend doesn't currently support widgets.\n",
       "</p>\n"
      ],
      "text/plain": [
       "Label(value='Select projectile ion species.')"
      ]
     },
     "metadata": {},
     "output_type": "display_data"
    },
    {
     "data": {
      "application/vnd.jupyter.widget-view+json": {
       "model_id": "6a1f888fb187444b8b8816ece3163ab6",
       "version_major": 2,
       "version_minor": 0
      },
      "text/html": [
       "<p>Failed to display Jupyter Widget of type <code>ToggleButtons</code>.</p>\n",
       "<p>\n",
       "  If you're reading this message in the Jupyter Notebook or JupyterLab Notebook, it may mean\n",
       "  that the widgets JavaScript is still loading. If this message persists, it\n",
       "  likely means that the widgets JavaScript library is either not installed or\n",
       "  not enabled. See the <a href=\"https://ipywidgets.readthedocs.io/en/stable/user_install.html\">Jupyter\n",
       "  Widgets Documentation</a> for setup instructions.\n",
       "</p>\n",
       "<p>\n",
       "  If you're reading this message in another frontend (for example, a static\n",
       "  rendering on GitHub or <a href=\"https://nbviewer.jupyter.org/\">NBViewer</a>),\n",
       "  it may mean that your frontend doesn't currently support widgets.\n",
       "</p>\n"
      ],
      "text/plain": [
       "ToggleButtons(description='Ion:', options=('H', 'He', 'C', 'Si', 'Fe'), tooltips=['Hydrogen', 'Helium', 'Carbon', 'Silicon', 'Iron'], value='H')"
      ]
     },
     "metadata": {},
     "output_type": "display_data"
    },
    {
     "data": {
      "application/javascript": [
       "IPython.notebook.execute_cell_range(IPython.notebook.get_selected_index()+1, IPython.notebook.ncells())"
      ],
      "text/plain": [
       "<IPython.core.display.Javascript object>"
      ]
     },
     "metadata": {},
     "output_type": "display_data"
    }
   ],
   "source": [
    "%matplotlib notebook\n",
    "\n",
    "import numpy as np\n",
    "import matplotlib.pyplot as plt\n",
    "from matplotlib.collections import PatchCollection\n",
    "from matplotlib.patches import Rectangle\n",
    "import re\n",
    "from IPython.display import display\n",
    "from ipywidgets import interact, interactive, fixed, interact_manual\n",
    "import ipywidgets as widgets\n",
    "from IPython.display import Javascript\n",
    "\n",
    "def find(target, myList):\n",
    "    for i in range(len(myList)):\n",
    "        if myList[i] == target:\n",
    "            return i       \n",
    "\n",
    "def on_click(change):\n",
    "    #display(Javascript('IPython.notebook.execute_cells_below()'))  \n",
    "    display(Javascript('IPython.notebook.execute_cell_range(IPython.notebook.get_selected_index()+1, IPython.notebook.ncells())'))\n",
    "\n",
    "# Function to plot error boxes\n",
    "def makeErrorBoxes(xdata,ydata,xerror,yerror,fc='None',ec='k',alpha=1.0,lw=1):\n",
    "    # Create list for all the error patches\n",
    "    errorboxes = []\n",
    "\n",
    "    # Loop over data points; create box from errors at each point\n",
    "    for xc,yc,xe,ye in zip(xdata,ydata,xerror.T,yerror.T):\n",
    "        rect = Rectangle((xc-xe[0],yc-ye[0]),xe.sum(),ye.sum())\n",
    "        errorboxes.append(rect)\n",
    "\n",
    "    # Create patch collection with specified colour/alpha\n",
    "    pc = PatchCollection(errorboxes,facecolor=fc,alpha=alpha,edgecolor=ec,linewidth=lw)\n",
    "\n",
    "    # Add collection to axes\n",
    "    ax.add_collection(pc)    \n",
    "\n",
    "def detector_colors(di):\n",
    "    #colors_list = ['b','g','r','c','m','y'] # Python 3 old default\n",
    "    #colors_list = ['#b2182b','#d6604d','#f4a582','#92c5de','#4393c3','#2166ac'] # blue to red cold\n",
    "    #colors_list = ['#d73027','#f46d43','#fdae61','#abd9e9','#74add1','#4575b4'] # blue to red warm\n",
    "    #colors_list = ['#762a83','#9970ab','#c2a5cf','#a6dba0','#5aae61','#1b7837'] # purple to green\n",
    "    #colors_list = ['#40004b','#762a83','#9970ab','#5aae61','#1b7837','#00441b'] # purple to green darker\n",
    "    #colors_list = [\"#afa83a\",\"#7f63b8\",\"#56ae6c\",\"#b84c7d\",\"#ac863f\",\"#b94d3d\"] # iWantHue 1\n",
    "    #colors_list = ['#1b9e77','#d95f02','#7570b3','#e7298a','#66a61e','#e6ab02'] # qualitative dark 1\n",
    "    colors_list = ['#e41a1c','#377eb8','#4daf4a','#984ea3','#ff7f00','#a65628'] # qualitative dark 2\n",
    "    return colors_list[di]\n",
    "    \n",
    "data_version = 'v7'\n",
    "\n",
    "metadata_file = 'metadata_matrix_' + data_version + '.npy'\n",
    "mm_metadata = np.load(metadata_file) # data set, ion species, ion energy, target material, target thickness, secondary particle, detector, header meta data\n",
    "exists_file = 'exists_matrix_' + data_version + '.npy'\n",
    "mm_exists = np.load(exists_file) # data set, ion species, ion energy, target material, target thickness, secondary particle, detector\n",
    "\n",
    "#values_file = 'values_matrix_' + data_version + '.npy'\n",
    "#mm_values = np.load(values_file) # data set, ion species, ion energy, target material, target thickness, secondary particle, detector, column values, energy bins\n",
    "\n",
    "#print(mm_metadata[0,0,0,0,0,0,0,0])\n",
    "\n",
    "projectile_sym_str = ['H', 'He', 'C', 'Si', 'Fe']\n",
    "projectile_longnames_str = ['Hydrogen', 'Helium', 'Carbon', 'Silicon', 'Iron']\n",
    "\n",
    "mm_values_names_list = []\n",
    "for i in range(5):\n",
    "    mm_values_names_list.append('values_matrix_' + projectile_sym_str[i].lower() + \"_\" + data_version + '.npy')\n",
    "\n",
    "is_label = widgets.Label(value=\"Select projectile ion species.\")\n",
    "    \n",
    "ion_species = widgets.ToggleButtons(\n",
    "    options=projectile_sym_str,\n",
    "    description='Ion:',\n",
    "    disabled=False,\n",
    "    button_style='', # 'success', 'info', 'warning', 'danger' or ''\n",
    "    tooltips=projectile_longnames_str,\n",
    "#     icons=['check'] * 5\n",
    ")\n",
    "\n",
    "ion_species.observe(on_click, 'value')\n",
    "display(is_label,ion_species)\n"
   ]
  },
  {
   "cell_type": "code",
   "execution_count": 298,
   "metadata": {},
   "outputs": [
    {
     "data": {
      "application/vnd.jupyter.widget-view+json": {
       "model_id": "3a57a33f426241ed92167dd10a1e6a05",
       "version_major": 2,
       "version_minor": 0
      },
      "text/html": [
       "<p>Failed to display Jupyter Widget of type <code>Label</code>.</p>\n",
       "<p>\n",
       "  If you're reading this message in the Jupyter Notebook or JupyterLab Notebook, it may mean\n",
       "  that the widgets JavaScript is still loading. If this message persists, it\n",
       "  likely means that the widgets JavaScript library is either not installed or\n",
       "  not enabled. See the <a href=\"https://ipywidgets.readthedocs.io/en/stable/user_install.html\">Jupyter\n",
       "  Widgets Documentation</a> for setup instructions.\n",
       "</p>\n",
       "<p>\n",
       "  If you're reading this message in another frontend (for example, a static\n",
       "  rendering on GitHub or <a href=\"https://nbviewer.jupyter.org/\">NBViewer</a>),\n",
       "  it may mean that your frontend doesn't currently support widgets.\n",
       "</p>\n"
      ],
      "text/plain": [
       "Label(value='Select projectile ion energy.')"
      ]
     },
     "metadata": {},
     "output_type": "display_data"
    },
    {
     "data": {
      "application/vnd.jupyter.widget-view+json": {
       "model_id": "00cca51367df4bcfb354145d54057116",
       "version_major": 2,
       "version_minor": 0
      },
      "text/html": [
       "<p>Failed to display Jupyter Widget of type <code>ToggleButtons</code>.</p>\n",
       "<p>\n",
       "  If you're reading this message in the Jupyter Notebook or JupyterLab Notebook, it may mean\n",
       "  that the widgets JavaScript is still loading. If this message persists, it\n",
       "  likely means that the widgets JavaScript library is either not installed or\n",
       "  not enabled. See the <a href=\"https://ipywidgets.readthedocs.io/en/stable/user_install.html\">Jupyter\n",
       "  Widgets Documentation</a> for setup instructions.\n",
       "</p>\n",
       "<p>\n",
       "  If you're reading this message in another frontend (for example, a static\n",
       "  rendering on GitHub or <a href=\"https://nbviewer.jupyter.org/\">NBViewer</a>),\n",
       "  it may mean that your frontend doesn't currently support widgets.\n",
       "</p>\n"
      ],
      "text/plain": [
       "ToggleButtons(description='Energy:', options=('400 MeV/n', '800 MeV/n', '1500 MeV/n'), tooltips=['lowest energy', 'middle energy', 'highest energy'], value='400 MeV/n')"
      ]
     },
     "metadata": {},
     "output_type": "display_data"
    },
    {
     "data": {
      "application/javascript": [
       "IPython.notebook.execute_cell_range(IPython.notebook.get_selected_index()+1, IPython.notebook.ncells())"
      ],
      "text/plain": [
       "<IPython.core.display.Javascript object>"
      ]
     },
     "metadata": {},
     "output_type": "display_data"
    }
   ],
   "source": [
    "isi = find(ion_species.value,projectile_sym_str)\n",
    "mm_values = np.load(mm_values_names_list[isi])\n",
    "\n",
    "def erg_options(isi):\n",
    "    if isi == 0:\n",
    "        proj_E = ['400 MeV','800 MeV','2500 MeV']\n",
    "    else:\n",
    "        proj_E = ['400 MeV/n','800 MeV/n','1500 MeV/n']\n",
    "    return proj_E\n",
    "\n",
    "Projectile_E_tooltips = ['lowest energy','middle energy', 'highest energy']\n",
    "\n",
    "ie_label = widgets.Label(value=\"Select projectile ion energy.\")\n",
    "\n",
    "ion_energy = widgets.ToggleButtons(\n",
    "    options=erg_options(isi),\n",
    "    description='Energy:',\n",
    "    disabled=False,\n",
    "    button_style='', # 'success', 'info', 'warning', 'danger' or ''\n",
    "    tooltips=Projectile_E_tooltips,\n",
    "#     icons=['check'] * 5\n",
    ")\n",
    "\n",
    "ion_energy.observe(on_click, 'value')\n",
    "display(ie_label, ion_energy)\n"
   ]
  },
  {
   "cell_type": "code",
   "execution_count": 307,
   "metadata": {},
   "outputs": [
    {
     "data": {
      "application/vnd.jupyter.widget-view+json": {
       "model_id": "16958f9938ca436b9760d51d8004ab62",
       "version_major": 2,
       "version_minor": 0
      },
      "text/html": [
       "<p>Failed to display Jupyter Widget of type <code>Label</code>.</p>\n",
       "<p>\n",
       "  If you're reading this message in the Jupyter Notebook or JupyterLab Notebook, it may mean\n",
       "  that the widgets JavaScript is still loading. If this message persists, it\n",
       "  likely means that the widgets JavaScript library is either not installed or\n",
       "  not enabled. See the <a href=\"https://ipywidgets.readthedocs.io/en/stable/user_install.html\">Jupyter\n",
       "  Widgets Documentation</a> for setup instructions.\n",
       "</p>\n",
       "<p>\n",
       "  If you're reading this message in another frontend (for example, a static\n",
       "  rendering on GitHub or <a href=\"https://nbviewer.jupyter.org/\">NBViewer</a>),\n",
       "  it may mean that your frontend doesn't currently support widgets.\n",
       "</p>\n"
      ],
      "text/plain": [
       "Label(value='Select upstream target material.')"
      ]
     },
     "metadata": {},
     "output_type": "display_data"
    },
    {
     "data": {
      "application/vnd.jupyter.widget-view+json": {
       "model_id": "b1cb410054dc4e92b61894c3e6d6f34d",
       "version_major": 2,
       "version_minor": 0
      },
      "text/html": [
       "<p>Failed to display Jupyter Widget of type <code>ToggleButtons</code>.</p>\n",
       "<p>\n",
       "  If you're reading this message in the Jupyter Notebook or JupyterLab Notebook, it may mean\n",
       "  that the widgets JavaScript is still loading. If this message persists, it\n",
       "  likely means that the widgets JavaScript library is either not installed or\n",
       "  not enabled. See the <a href=\"https://ipywidgets.readthedocs.io/en/stable/user_install.html\">Jupyter\n",
       "  Widgets Documentation</a> for setup instructions.\n",
       "</p>\n",
       "<p>\n",
       "  If you're reading this message in another frontend (for example, a static\n",
       "  rendering on GitHub or <a href=\"https://nbviewer.jupyter.org/\">NBViewer</a>),\n",
       "  it may mean that your frontend doesn't currently support widgets.\n",
       "</p>\n"
      ],
      "text/plain": [
       "ToggleButtons(description='Material:', options=('Al', 'HDPE', 'AlPE'), tooltips=['Aluminum', 'Polyethylene', 'Combination of Al and HDPE'], value='Al')"
      ]
     },
     "metadata": {},
     "output_type": "display_data"
    },
    {
     "data": {
      "application/javascript": [
       "IPython.notebook.execute_cell_range(IPython.notebook.get_selected_index()+1, IPython.notebook.ncells())"
      ],
      "text/plain": [
       "<IPython.core.display.Javascript object>"
      ]
     },
     "metadata": {},
     "output_type": "display_data"
    }
   ],
   "source": [
    "iei = find(ion_energy.value,erg_options(isi))\n",
    "\n",
    "target_mats_long = ['Aluminum','Polyethylene','Combination of Al and HDPE']\n",
    "target_mats_short = ['Al','HDPE','AlPE']\n",
    "\n",
    "tm_label = widgets.Label(value=\"Select upstream target material.\")\n",
    "\n",
    "target_material = widgets.ToggleButtons(\n",
    "    options=target_mats_short,\n",
    "    description='Material:',\n",
    "    disabled=False,\n",
    "    button_style='', # 'success', 'info', 'warning', 'danger' or ''\n",
    "    tooltips=target_mats_long,\n",
    "#     icons=['check'] * 3\n",
    ")\n",
    "\n",
    "target_material.observe(on_click, 'value')\n",
    "display(tm_label, target_material)"
   ]
  },
  {
   "cell_type": "code",
   "execution_count": 315,
   "metadata": {},
   "outputs": [
    {
     "data": {
      "application/vnd.jupyter.widget-view+json": {
       "model_id": "a4e094b96e2e4b45af2c56f733103b88",
       "version_major": 2,
       "version_minor": 0
      },
      "text/html": [
       "<p>Failed to display Jupyter Widget of type <code>Label</code>.</p>\n",
       "<p>\n",
       "  If you're reading this message in the Jupyter Notebook or JupyterLab Notebook, it may mean\n",
       "  that the widgets JavaScript is still loading. If this message persists, it\n",
       "  likely means that the widgets JavaScript library is either not installed or\n",
       "  not enabled. See the <a href=\"https://ipywidgets.readthedocs.io/en/stable/user_install.html\">Jupyter\n",
       "  Widgets Documentation</a> for setup instructions.\n",
       "</p>\n",
       "<p>\n",
       "  If you're reading this message in another frontend (for example, a static\n",
       "  rendering on GitHub or <a href=\"https://nbviewer.jupyter.org/\">NBViewer</a>),\n",
       "  it may mean that your frontend doesn't currently support widgets.\n",
       "</p>\n"
      ],
      "text/plain": [
       "Label(value='Select upstream target mass thickness.')"
      ]
     },
     "metadata": {},
     "output_type": "display_data"
    },
    {
     "data": {
      "application/vnd.jupyter.widget-view+json": {
       "model_id": "22ab045ebac6415d8e002d58d6f6bba4",
       "version_major": 2,
       "version_minor": 0
      },
      "text/html": [
       "<p>Failed to display Jupyter Widget of type <code>ToggleButtons</code>.</p>\n",
       "<p>\n",
       "  If you're reading this message in the Jupyter Notebook or JupyterLab Notebook, it may mean\n",
       "  that the widgets JavaScript is still loading. If this message persists, it\n",
       "  likely means that the widgets JavaScript library is either not installed or\n",
       "  not enabled. See the <a href=\"https://ipywidgets.readthedocs.io/en/stable/user_install.html\">Jupyter\n",
       "  Widgets Documentation</a> for setup instructions.\n",
       "</p>\n",
       "<p>\n",
       "  If you're reading this message in another frontend (for example, a static\n",
       "  rendering on GitHub or <a href=\"https://nbviewer.jupyter.org/\">NBViewer</a>),\n",
       "  it may mean that your frontend doesn't currently support widgets.\n",
       "</p>\n"
      ],
      "text/plain": [
       "ToggleButtons(description='Thickness:', options=('20 g/cm²', '40 g/cm²', '60 g/cm²'), tooltips=['20 g/cm²', '40 g/cm²', '60 g/cm²'], value='20 g/cm²')"
      ]
     },
     "metadata": {},
     "output_type": "display_data"
    }
   ],
   "source": [
    "ftmi = find(target_material.value,target_mats_short)\n",
    "thicknesses = ['20 g/cm\\u00B2','40 g/cm\\u00B2','60 g/cm\\u00B2']\n",
    "def thickness_options(ftmi):\n",
    "    if ftmi == 2:\n",
    "        thicknesses = ['20 g/cm\\u00B2','60 g/cm\\u00B2']\n",
    "    else:\n",
    "        thicknesses = ['20 g/cm\\u00B2','40 g/cm\\u00B2','60 g/cm\\u00B2']\n",
    "    return thicknesses\n",
    "\n",
    "tt_label = widgets.Label(value=\"Select upstream target mass thickness.\")\n",
    "\n",
    "target_thickness = widgets.ToggleButtons(\n",
    "    options=thickness_options(ftmi),\n",
    "    description='Thickness:',\n",
    "    disabled=False,\n",
    "    button_style='', # 'success', 'info', 'warning', 'danger' or ''\n",
    "    tooltips=thickness_options(ftmi),\n",
    "#     icons=['check'] * 3\n",
    ")\n",
    "\n",
    "target_thickness.observe(on_click, 'value')\n",
    "display(tt_label, target_thickness)"
   ]
  },
  {
   "cell_type": "code",
   "execution_count": 316,
   "metadata": {},
   "outputs": [
    {
     "data": {
      "application/vnd.jupyter.widget-view+json": {
       "model_id": "4c329c8c4b0b495e86bbe2fa383fae89",
       "version_major": 2,
       "version_minor": 0
      },
      "text/html": [
       "<p>Failed to display Jupyter Widget of type <code>Label</code>.</p>\n",
       "<p>\n",
       "  If you're reading this message in the Jupyter Notebook or JupyterLab Notebook, it may mean\n",
       "  that the widgets JavaScript is still loading. If this message persists, it\n",
       "  likely means that the widgets JavaScript library is either not installed or\n",
       "  not enabled. See the <a href=\"https://ipywidgets.readthedocs.io/en/stable/user_install.html\">Jupyter\n",
       "  Widgets Documentation</a> for setup instructions.\n",
       "</p>\n",
       "<p>\n",
       "  If you're reading this message in another frontend (for example, a static\n",
       "  rendering on GitHub or <a href=\"https://nbviewer.jupyter.org/\">NBViewer</a>),\n",
       "  it may mean that your frontend doesn't currently support widgets.\n",
       "</p>\n"
      ],
      "text/plain": [
       "Label(value='Select a detector type.')"
      ]
     },
     "metadata": {},
     "output_type": "display_data"
    },
    {
     "data": {
      "application/vnd.jupyter.widget-view+json": {
       "model_id": "26ffa43042e44d0c8ee2334db024f302",
       "version_major": 2,
       "version_minor": 0
      },
      "text/html": [
       "<p>Failed to display Jupyter Widget of type <code>ToggleButtons</code>.</p>\n",
       "<p>\n",
       "  If you're reading this message in the Jupyter Notebook or JupyterLab Notebook, it may mean\n",
       "  that the widgets JavaScript is still loading. If this message persists, it\n",
       "  likely means that the widgets JavaScript library is either not installed or\n",
       "  not enabled. See the <a href=\"https://ipywidgets.readthedocs.io/en/stable/user_install.html\">Jupyter\n",
       "  Widgets Documentation</a> for setup instructions.\n",
       "</p>\n",
       "<p>\n",
       "  If you're reading this message in another frontend (for example, a static\n",
       "  rendering on GitHub or <a href=\"https://nbviewer.jupyter.org/\">NBViewer</a>),\n",
       "  it may mean that your frontend doesn't currently support widgets.\n",
       "</p>\n"
      ],
      "text/plain": [
       "ToggleButtons(description='Type:', options=('OLS', 'NaI'), tooltips=['Organic Liquid Scintillator', 'Sodium Iodide'], value='OLS')"
      ]
     },
     "metadata": {},
     "output_type": "display_data"
    }
   ],
   "source": [
    "ftti = find(target_thickness.value,thicknesses)\n",
    "\n",
    "detectors_short = ['OLS','NaI']\n",
    "detectors_long = ['Organic Liquid Scintillator','Sodium Iodide']\n",
    "\n",
    "dt_label = widgets.Label(value=\"Select a detector type.\")\n",
    "\n",
    "detector_type = widgets.ToggleButtons(\n",
    "    options=detectors_short,\n",
    "    description='Type:',\n",
    "    disabled=False,\n",
    "    button_style='', # 'success', 'info', 'warning', 'danger' or ''\n",
    "    tooltips=detectors_long,\n",
    "#     icons=['check'] * 3\n",
    ")\n",
    "\n",
    "detector_type.observe(on_click, 'value')\n",
    "display(dt_label,detector_type)"
   ]
  },
  {
   "cell_type": "code",
   "execution_count": 317,
   "metadata": {},
   "outputs": [
    {
     "data": {
      "application/vnd.jupyter.widget-view+json": {
       "model_id": "d3c2b7f0266048b9981ceeb075f28766",
       "version_major": 2,
       "version_minor": 0
      },
      "text/html": [
       "<p>Failed to display Jupyter Widget of type <code>Label</code>.</p>\n",
       "<p>\n",
       "  If you're reading this message in the Jupyter Notebook or JupyterLab Notebook, it may mean\n",
       "  that the widgets JavaScript is still loading. If this message persists, it\n",
       "  likely means that the widgets JavaScript library is either not installed or\n",
       "  not enabled. See the <a href=\"https://ipywidgets.readthedocs.io/en/stable/user_install.html\">Jupyter\n",
       "  Widgets Documentation</a> for setup instructions.\n",
       "</p>\n",
       "<p>\n",
       "  If you're reading this message in another frontend (for example, a static\n",
       "  rendering on GitHub or <a href=\"https://nbviewer.jupyter.org/\">NBViewer</a>),\n",
       "  it may mean that your frontend doesn't currently support widgets.\n",
       "</p>\n"
      ],
      "text/plain": [
       "Label(value='Select which secondary particle to plot spectra for.')"
      ]
     },
     "metadata": {},
     "output_type": "display_data"
    },
    {
     "data": {
      "application/vnd.jupyter.widget-view+json": {
       "model_id": "0db4e7aa83d24341845f403fa4e42475",
       "version_major": 2,
       "version_minor": 0
      },
      "text/html": [
       "<p>Failed to display Jupyter Widget of type <code>ToggleButtons</code>.</p>\n",
       "<p>\n",
       "  If you're reading this message in the Jupyter Notebook or JupyterLab Notebook, it may mean\n",
       "  that the widgets JavaScript is still loading. If this message persists, it\n",
       "  likely means that the widgets JavaScript library is either not installed or\n",
       "  not enabled. See the <a href=\"https://ipywidgets.readthedocs.io/en/stable/user_install.html\">Jupyter\n",
       "  Widgets Documentation</a> for setup instructions.\n",
       "</p>\n",
       "<p>\n",
       "  If you're reading this message in another frontend (for example, a static\n",
       "  rendering on GitHub or <a href=\"https://nbviewer.jupyter.org/\">NBViewer</a>),\n",
       "  it may mean that your frontend doesn't currently support widgets.\n",
       "</p>\n"
      ],
      "text/plain": [
       "ToggleButtons(description='Type:', options=('N', 'NDC'), tooltips=['Neutron', 'Back Target Neutron'], value='N')"
      ]
     },
     "metadata": {},
     "output_type": "display_data"
    }
   ],
   "source": [
    "detti = find(detector_type.value,detectors_short)\n",
    "if detti==1: \n",
    "    add2deti = 6 # offset in matrix for NaI detectors\n",
    "else:\n",
    "    add2deti = 0 \n",
    "\n",
    "# See which secondary particles exist\n",
    "existing_pars_i = []\n",
    "for i in range(np.shape(mm_exists[0,isi,iei,ftmi,ftti,:,add2deti:(add2deti+6)])[0]):\n",
    "    if np.any(mm_exists[0,isi,iei,ftmi,ftti,i,add2deti:(add2deti+6)]):\n",
    "        existing_pars_i.append(i)\n",
    "        \n",
    "particles_long = ['Neutron','Back Target Neutron','Proton','Deuteron','Triton','Helium-3','Helium-4'] # second 'Neutron' can be renamed to specify deconvoluted origin\n",
    "particles_short = ['N','NDC','H','D','T','S','A']\n",
    "particles_med = ['N','NDC','P (\\u00B9H)','D (\\u00B2H)','T (\\u00B3H)','S (\\u00B3He)','A (\\u2074He)']\n",
    "\n",
    "present_pars_long = [particles_long[i] for i in existing_pars_i]\n",
    "present_pars_med = [particles_med[i] for i in existing_pars_i]\n",
    "\n",
    "sp_label = widgets.Label(value=\"Select which secondary particle to plot spectra for.\")\n",
    "\n",
    "secondary_particle = widgets.ToggleButtons(\n",
    "    options=present_pars_med,\n",
    "    description='Type:',\n",
    "    disabled=False,\n",
    "    button_style='', # 'success', 'info', 'warning', 'danger' or ''\n",
    "    tooltips=present_pars_long,\n",
    "#     icons=['check'] * 3\n",
    ")\n",
    "\n",
    "secondary_particle.observe(on_click, 'value')\n",
    "display(sp_label,secondary_particle)\n"
   ]
  },
  {
   "cell_type": "code",
   "execution_count": 318,
   "metadata": {},
   "outputs": [
    {
     "data": {
      "application/vnd.jupyter.widget-view+json": {
       "model_id": "c91e164ea8734aae8cc2f3560fd30691",
       "version_major": 2,
       "version_minor": 0
      },
      "text/html": [
       "<p>Failed to display Jupyter Widget of type <code>Label</code>.</p>\n",
       "<p>\n",
       "  If you're reading this message in the Jupyter Notebook or JupyterLab Notebook, it may mean\n",
       "  that the widgets JavaScript is still loading. If this message persists, it\n",
       "  likely means that the widgets JavaScript library is either not installed or\n",
       "  not enabled. See the <a href=\"https://ipywidgets.readthedocs.io/en/stable/user_install.html\">Jupyter\n",
       "  Widgets Documentation</a> for setup instructions.\n",
       "</p>\n",
       "<p>\n",
       "  If you're reading this message in another frontend (for example, a static\n",
       "  rendering on GitHub or <a href=\"https://nbviewer.jupyter.org/\">NBViewer</a>),\n",
       "  it may mean that your frontend doesn't currently support widgets.\n",
       "</p>\n"
      ],
      "text/plain": [
       "Label(value='Select the detector angles to plot.')"
      ]
     },
     "metadata": {},
     "output_type": "display_data"
    },
    {
     "data": {
      "application/vnd.jupyter.widget-view+json": {
       "model_id": "bb8a3622c0254bdda0be7fd78bdc2cf2",
       "version_major": 2,
       "version_minor": 0
      },
      "text/html": [
       "<p>Failed to display Jupyter Widget of type <code>Checkbox</code>.</p>\n",
       "<p>\n",
       "  If you're reading this message in the Jupyter Notebook or JupyterLab Notebook, it may mean\n",
       "  that the widgets JavaScript is still loading. If this message persists, it\n",
       "  likely means that the widgets JavaScript library is either not installed or\n",
       "  not enabled. See the <a href=\"https://ipywidgets.readthedocs.io/en/stable/user_install.html\">Jupyter\n",
       "  Widgets Documentation</a> for setup instructions.\n",
       "</p>\n",
       "<p>\n",
       "  If you're reading this message in another frontend (for example, a static\n",
       "  rendering on GitHub or <a href=\"https://nbviewer.jupyter.org/\">NBViewer</a>),\n",
       "  it may mean that your frontend doesn't currently support widgets.\n",
       "</p>\n"
      ],
      "text/plain": [
       "Checkbox(value=True, description='10°')"
      ]
     },
     "metadata": {},
     "output_type": "display_data"
    },
    {
     "data": {
      "application/vnd.jupyter.widget-view+json": {
       "model_id": "73c8c9faa0f94da6903baf7c019de709",
       "version_major": 2,
       "version_minor": 0
      },
      "text/html": [
       "<p>Failed to display Jupyter Widget of type <code>Checkbox</code>.</p>\n",
       "<p>\n",
       "  If you're reading this message in the Jupyter Notebook or JupyterLab Notebook, it may mean\n",
       "  that the widgets JavaScript is still loading. If this message persists, it\n",
       "  likely means that the widgets JavaScript library is either not installed or\n",
       "  not enabled. See the <a href=\"https://ipywidgets.readthedocs.io/en/stable/user_install.html\">Jupyter\n",
       "  Widgets Documentation</a> for setup instructions.\n",
       "</p>\n",
       "<p>\n",
       "  If you're reading this message in another frontend (for example, a static\n",
       "  rendering on GitHub or <a href=\"https://nbviewer.jupyter.org/\">NBViewer</a>),\n",
       "  it may mean that your frontend doesn't currently support widgets.\n",
       "</p>\n"
      ],
      "text/plain": [
       "Checkbox(value=True, description='30°')"
      ]
     },
     "metadata": {},
     "output_type": "display_data"
    },
    {
     "data": {
      "application/vnd.jupyter.widget-view+json": {
       "model_id": "56065b7b17a24f8781fc26b87fe0b7fd",
       "version_major": 2,
       "version_minor": 0
      },
      "text/html": [
       "<p>Failed to display Jupyter Widget of type <code>Checkbox</code>.</p>\n",
       "<p>\n",
       "  If you're reading this message in the Jupyter Notebook or JupyterLab Notebook, it may mean\n",
       "  that the widgets JavaScript is still loading. If this message persists, it\n",
       "  likely means that the widgets JavaScript library is either not installed or\n",
       "  not enabled. See the <a href=\"https://ipywidgets.readthedocs.io/en/stable/user_install.html\">Jupyter\n",
       "  Widgets Documentation</a> for setup instructions.\n",
       "</p>\n",
       "<p>\n",
       "  If you're reading this message in another frontend (for example, a static\n",
       "  rendering on GitHub or <a href=\"https://nbviewer.jupyter.org/\">NBViewer</a>),\n",
       "  it may mean that your frontend doesn't currently support widgets.\n",
       "</p>\n"
      ],
      "text/plain": [
       "Checkbox(value=True, description='45°')"
      ]
     },
     "metadata": {},
     "output_type": "display_data"
    },
    {
     "data": {
      "application/vnd.jupyter.widget-view+json": {
       "model_id": "6a0186eb9caa4d1697d40f3a7f6f71c6",
       "version_major": 2,
       "version_minor": 0
      },
      "text/html": [
       "<p>Failed to display Jupyter Widget of type <code>Checkbox</code>.</p>\n",
       "<p>\n",
       "  If you're reading this message in the Jupyter Notebook or JupyterLab Notebook, it may mean\n",
       "  that the widgets JavaScript is still loading. If this message persists, it\n",
       "  likely means that the widgets JavaScript library is either not installed or\n",
       "  not enabled. See the <a href=\"https://ipywidgets.readthedocs.io/en/stable/user_install.html\">Jupyter\n",
       "  Widgets Documentation</a> for setup instructions.\n",
       "</p>\n",
       "<p>\n",
       "  If you're reading this message in another frontend (for example, a static\n",
       "  rendering on GitHub or <a href=\"https://nbviewer.jupyter.org/\">NBViewer</a>),\n",
       "  it may mean that your frontend doesn't currently support widgets.\n",
       "</p>\n"
      ],
      "text/plain": [
       "Checkbox(value=True, description='60°')"
      ]
     },
     "metadata": {},
     "output_type": "display_data"
    },
    {
     "data": {
      "application/vnd.jupyter.widget-view+json": {
       "model_id": "08c22b654e194d0087e2958f02d9476d",
       "version_major": 2,
       "version_minor": 0
      },
      "text/html": [
       "<p>Failed to display Jupyter Widget of type <code>Checkbox</code>.</p>\n",
       "<p>\n",
       "  If you're reading this message in the Jupyter Notebook or JupyterLab Notebook, it may mean\n",
       "  that the widgets JavaScript is still loading. If this message persists, it\n",
       "  likely means that the widgets JavaScript library is either not installed or\n",
       "  not enabled. See the <a href=\"https://ipywidgets.readthedocs.io/en/stable/user_install.html\">Jupyter\n",
       "  Widgets Documentation</a> for setup instructions.\n",
       "</p>\n",
       "<p>\n",
       "  If you're reading this message in another frontend (for example, a static\n",
       "  rendering on GitHub or <a href=\"https://nbviewer.jupyter.org/\">NBViewer</a>),\n",
       "  it may mean that your frontend doesn't currently support widgets.\n",
       "</p>\n"
      ],
      "text/plain": [
       "Checkbox(value=True, description='80°')"
      ]
     },
     "metadata": {},
     "output_type": "display_data"
    },
    {
     "data": {
      "application/vnd.jupyter.widget-view+json": {
       "model_id": "b16debb036fe4c71b7efe154ce5ed649",
       "version_major": 2,
       "version_minor": 0
      },
      "text/html": [
       "<p>Failed to display Jupyter Widget of type <code>Checkbox</code>.</p>\n",
       "<p>\n",
       "  If you're reading this message in the Jupyter Notebook or JupyterLab Notebook, it may mean\n",
       "  that the widgets JavaScript is still loading. If this message persists, it\n",
       "  likely means that the widgets JavaScript library is either not installed or\n",
       "  not enabled. See the <a href=\"https://ipywidgets.readthedocs.io/en/stable/user_install.html\">Jupyter\n",
       "  Widgets Documentation</a> for setup instructions.\n",
       "</p>\n",
       "<p>\n",
       "  If you're reading this message in another frontend (for example, a static\n",
       "  rendering on GitHub or <a href=\"https://nbviewer.jupyter.org/\">NBViewer</a>),\n",
       "  it may mean that your frontend doesn't currently support widgets.\n",
       "</p>\n"
      ],
      "text/plain": [
       "Checkbox(value=True, description='135°')"
      ]
     },
     "metadata": {},
     "output_type": "display_data"
    }
   ],
   "source": [
    "spi = find(secondary_particle.value,particles_med)\n",
    "\n",
    "detectors_angles = [['10\\u00B0','30\\u00B0','45\\u00B0','60\\u00B0','80\\u00B0','135\\u00B0'], ['7.2\\u00B0','10\\u00B0','12.7\\u00B0','28.2\\u00B0','30\\u00B0','32.7\\u00B0']]\n",
    "available_det_angles = []\n",
    "\n",
    "da_label = widgets.Label(value=\"Select the detector angles to plot.\")\n",
    "\n",
    "dets = []\n",
    "for i in range(6):\n",
    "    if mm_exists[0,isi,iei,ftmi,ftti,spi,(add2deti+i)]:\n",
    "        available_det_angles.append(detectors_angles[detti][i])\n",
    "        dets.append(widgets.Checkbox(\n",
    "            value=True,\n",
    "            description=detectors_angles[detti][i],\n",
    "            disabled=False\n",
    "        ))\n",
    "\n",
    "display(da_label)\n",
    "for i in range(6):\n",
    "    if mm_exists[0,isi,iei,ftmi,ftti,spi,(add2deti+i)]:\n",
    "        display(dets[i])"
   ]
  },
  {
   "cell_type": "code",
   "execution_count": 319,
   "metadata": {},
   "outputs": [
    {
     "data": {
      "application/vnd.jupyter.widget-view+json": {
       "model_id": "66a9f422535542c28f2da3a2408873a0",
       "version_major": 2,
       "version_minor": 0
      },
      "text/html": [
       "<p>Failed to display Jupyter Widget of type <code>Label</code>.</p>\n",
       "<p>\n",
       "  If you're reading this message in the Jupyter Notebook or JupyterLab Notebook, it may mean\n",
       "  that the widgets JavaScript is still loading. If this message persists, it\n",
       "  likely means that the widgets JavaScript library is either not installed or\n",
       "  not enabled. See the <a href=\"https://ipywidgets.readthedocs.io/en/stable/user_install.html\">Jupyter\n",
       "  Widgets Documentation</a> for setup instructions.\n",
       "</p>\n",
       "<p>\n",
       "  If you're reading this message in another frontend (for example, a static\n",
       "  rendering on GitHub or <a href=\"https://nbviewer.jupyter.org/\">NBViewer</a>),\n",
       "  it may mean that your frontend doesn't currently support widgets.\n",
       "</p>\n"
      ],
      "text/plain": [
       "Label(value='Select which sets of data to display.')"
      ]
     },
     "metadata": {},
     "output_type": "display_data"
    },
    {
     "data": {
      "application/vnd.jupyter.widget-view+json": {
       "model_id": "d9b7b6bd07c040a5a7cd8bfd84e13f0c",
       "version_major": 2,
       "version_minor": 0
      },
      "text/html": [
       "<p>Failed to display Jupyter Widget of type <code>Checkbox</code>.</p>\n",
       "<p>\n",
       "  If you're reading this message in the Jupyter Notebook or JupyterLab Notebook, it may mean\n",
       "  that the widgets JavaScript is still loading. If this message persists, it\n",
       "  likely means that the widgets JavaScript library is either not installed or\n",
       "  not enabled. See the <a href=\"https://ipywidgets.readthedocs.io/en/stable/user_install.html\">Jupyter\n",
       "  Widgets Documentation</a> for setup instructions.\n",
       "</p>\n",
       "<p>\n",
       "  If you're reading this message in another frontend (for example, a static\n",
       "  rendering on GitHub or <a href=\"https://nbviewer.jupyter.org/\">NBViewer</a>),\n",
       "  it may mean that your frontend doesn't currently support widgets.\n",
       "</p>\n"
      ],
      "text/plain": [
       "Checkbox(value=True, description='Experiment')"
      ]
     },
     "metadata": {},
     "output_type": "display_data"
    },
    {
     "data": {
      "application/vnd.jupyter.widget-view+json": {
       "model_id": "26fd007968554ad3a49266b831298264",
       "version_major": 2,
       "version_minor": 0
      },
      "text/html": [
       "<p>Failed to display Jupyter Widget of type <code>Checkbox</code>.</p>\n",
       "<p>\n",
       "  If you're reading this message in the Jupyter Notebook or JupyterLab Notebook, it may mean\n",
       "  that the widgets JavaScript is still loading. If this message persists, it\n",
       "  likely means that the widgets JavaScript library is either not installed or\n",
       "  not enabled. See the <a href=\"https://ipywidgets.readthedocs.io/en/stable/user_install.html\">Jupyter\n",
       "  Widgets Documentation</a> for setup instructions.\n",
       "</p>\n",
       "<p>\n",
       "  If you're reading this message in another frontend (for example, a static\n",
       "  rendering on GitHub or <a href=\"https://nbviewer.jupyter.org/\">NBViewer</a>),\n",
       "  it may mean that your frontend doesn't currently support widgets.\n",
       "</p>\n"
      ],
      "text/plain": [
       "Checkbox(value=True, description='MCNP simulated')"
      ]
     },
     "metadata": {},
     "output_type": "display_data"
    },
    {
     "data": {
      "application/vnd.jupyter.widget-view+json": {
       "model_id": "eb207c0c5b8046feac4f632552db09ed",
       "version_major": 2,
       "version_minor": 0
      },
      "text/html": [
       "<p>Failed to display Jupyter Widget of type <code>Checkbox</code>.</p>\n",
       "<p>\n",
       "  If you're reading this message in the Jupyter Notebook or JupyterLab Notebook, it may mean\n",
       "  that the widgets JavaScript is still loading. If this message persists, it\n",
       "  likely means that the widgets JavaScript library is either not installed or\n",
       "  not enabled. See the <a href=\"https://ipywidgets.readthedocs.io/en/stable/user_install.html\">Jupyter\n",
       "  Widgets Documentation</a> for setup instructions.\n",
       "</p>\n",
       "<p>\n",
       "  If you're reading this message in another frontend (for example, a static\n",
       "  rendering on GitHub or <a href=\"https://nbviewer.jupyter.org/\">NBViewer</a>),\n",
       "  it may mean that your frontend doesn't currently support widgets.\n",
       "</p>\n"
      ],
      "text/plain": [
       "Checkbox(value=True, description='PHITS simulated')"
      ]
     },
     "metadata": {},
     "output_type": "display_data"
    }
   ],
   "source": [
    "det_angle_i_list = []\n",
    "for i in range(len(available_det_angles)):\n",
    "    if dets[i].value:\n",
    "        if detti == 0:\n",
    "            det_angle_i_list.append(find(available_det_angles[i],detectors_angles[detti]))\n",
    "        else:\n",
    "            det_angle_i_list.append(find(available_det_angles[i],detectors_angles[detti])+6) # for NaI\n",
    "\n",
    "ds_label = widgets.Label(value='Select which sets of data to display.')            \n",
    "\n",
    "data_set_names = ['Experiment','MCNP simulated','PHITS simulated']\n",
    "data_sets = []\n",
    "for i in range(3):\n",
    "    data_sets.append(widgets.Checkbox(\n",
    "        value=True,\n",
    "        description=data_set_names[i],\n",
    "        disabled=False\n",
    "    ))\n",
    "\n",
    "display(ds_label)\n",
    "for i in range(3):\n",
    "    display(data_sets[i])\n",
    "\n"
   ]
  },
  {
   "cell_type": "code",
   "execution_count": 332,
   "metadata": {},
   "outputs": [
    {
     "data": {
      "application/vnd.jupyter.widget-view+json": {
       "model_id": "31b46db47c5e489083a2094d086afbcb",
       "version_major": 2,
       "version_minor": 0
      },
      "text/html": [
       "<p>Failed to display Jupyter Widget of type <code>Label</code>.</p>\n",
       "<p>\n",
       "  If you're reading this message in the Jupyter Notebook or JupyterLab Notebook, it may mean\n",
       "  that the widgets JavaScript is still loading. If this message persists, it\n",
       "  likely means that the widgets JavaScript library is either not installed or\n",
       "  not enabled. See the <a href=\"https://ipywidgets.readthedocs.io/en/stable/user_install.html\">Jupyter\n",
       "  Widgets Documentation</a> for setup instructions.\n",
       "</p>\n",
       "<p>\n",
       "  If you're reading this message in another frontend (for example, a static\n",
       "  rendering on GitHub or <a href=\"https://nbviewer.jupyter.org/\">NBViewer</a>),\n",
       "  it may mean that your frontend doesn't currently support widgets.\n",
       "</p>\n"
      ],
      "text/plain": [
       "Label(value='Select how data sets for each detector should be spaced apart (if at all).')"
      ]
     },
     "metadata": {},
     "output_type": "display_data"
    },
    {
     "data": {
      "application/vnd.jupyter.widget-view+json": {
       "model_id": "1b8355dff3274ebc9b0e8dc293d651e2",
       "version_major": 2,
       "version_minor": 0
      },
      "text/html": [
       "<p>Failed to display Jupyter Widget of type <code>ToggleButtons</code>.</p>\n",
       "<p>\n",
       "  If you're reading this message in the Jupyter Notebook or JupyterLab Notebook, it may mean\n",
       "  that the widgets JavaScript is still loading. If this message persists, it\n",
       "  likely means that the widgets JavaScript library is either not installed or\n",
       "  not enabled. See the <a href=\"https://ipywidgets.readthedocs.io/en/stable/user_install.html\">Jupyter\n",
       "  Widgets Documentation</a> for setup instructions.\n",
       "</p>\n",
       "<p>\n",
       "  If you're reading this message in another frontend (for example, a static\n",
       "  rendering on GitHub or <a href=\"https://nbviewer.jupyter.org/\">NBViewer</a>),\n",
       "  it may mean that your frontend doesn't currently support widgets.\n",
       "</p>\n"
      ],
      "text/plain": [
       "ToggleButtons(description='Spacing:', options=('Nada', 'Spaced by 10²'), tooltips=['All values are presented as is.', 'Plots for different detectors are multiplied by powers of 10² for easier viewing.'], value='Nada')"
      ]
     },
     "metadata": {},
     "output_type": "display_data"
    },
    {
     "data": {
      "application/javascript": [
       "IPython.notebook.execute_cell_range(IPython.notebook.get_selected_index()+1, IPython.notebook.ncells())"
      ],
      "text/plain": [
       "<IPython.core.display.Javascript object>"
      ]
     },
     "metadata": {},
     "output_type": "display_data"
    }
   ],
   "source": [
    "data_set_i_list = []\n",
    "for i in range(3):\n",
    "    if data_sets[i].value:\n",
    "        data_set_i_list.append(i)\n",
    "\n",
    "spacing_short = ['Nada','Spaced by 10\\u00B2']\n",
    "spacing_long = ['All values are presented as is.','Plots for different detectors are multiplied by powers of 10\\u00B2 for easier viewing.']\n",
    "\n",
    "spacing_label = widgets.Label(value='Select how data sets for each detector should be spaced apart (if at all).')  \n",
    "\n",
    "spacing_choice = widgets.ToggleButtons(\n",
    "    options=spacing_short,\n",
    "    description='Spacing:',\n",
    "    disabled=False,\n",
    "    button_style='', # 'success', 'info', 'warning', 'danger' or ''\n",
    "    tooltips=spacing_long,\n",
    "#     icons=['check'] * 3\n",
    ")\n",
    "\n",
    "spacing_choice.observe(on_click, 'value')\n",
    "display(spacing_label, spacing_choice)"
   ]
  },
  {
   "cell_type": "code",
   "execution_count": 350,
   "metadata": {},
   "outputs": [
    {
     "data": {
      "application/javascript": [
       "/* Put everything inside the global mpl namespace */\n",
       "window.mpl = {};\n",
       "\n",
       "\n",
       "mpl.get_websocket_type = function() {\n",
       "    if (typeof(WebSocket) !== 'undefined') {\n",
       "        return WebSocket;\n",
       "    } else if (typeof(MozWebSocket) !== 'undefined') {\n",
       "        return MozWebSocket;\n",
       "    } else {\n",
       "        alert('Your browser does not have WebSocket support.' +\n",
       "              'Please try Chrome, Safari or Firefox ≥ 6. ' +\n",
       "              'Firefox 4 and 5 are also supported but you ' +\n",
       "              'have to enable WebSockets in about:config.');\n",
       "    };\n",
       "}\n",
       "\n",
       "mpl.figure = function(figure_id, websocket, ondownload, parent_element) {\n",
       "    this.id = figure_id;\n",
       "\n",
       "    this.ws = websocket;\n",
       "\n",
       "    this.supports_binary = (this.ws.binaryType != undefined);\n",
       "\n",
       "    if (!this.supports_binary) {\n",
       "        var warnings = document.getElementById(\"mpl-warnings\");\n",
       "        if (warnings) {\n",
       "            warnings.style.display = 'block';\n",
       "            warnings.textContent = (\n",
       "                \"This browser does not support binary websocket messages. \" +\n",
       "                    \"Performance may be slow.\");\n",
       "        }\n",
       "    }\n",
       "\n",
       "    this.imageObj = new Image();\n",
       "\n",
       "    this.context = undefined;\n",
       "    this.message = undefined;\n",
       "    this.canvas = undefined;\n",
       "    this.rubberband_canvas = undefined;\n",
       "    this.rubberband_context = undefined;\n",
       "    this.format_dropdown = undefined;\n",
       "\n",
       "    this.image_mode = 'full';\n",
       "\n",
       "    this.root = $('<div/>');\n",
       "    this._root_extra_style(this.root)\n",
       "    this.root.attr('style', 'display: inline-block');\n",
       "\n",
       "    $(parent_element).append(this.root);\n",
       "\n",
       "    this._init_header(this);\n",
       "    this._init_canvas(this);\n",
       "    this._init_toolbar(this);\n",
       "\n",
       "    var fig = this;\n",
       "\n",
       "    this.waiting = false;\n",
       "\n",
       "    this.ws.onopen =  function () {\n",
       "            fig.send_message(\"supports_binary\", {value: fig.supports_binary});\n",
       "            fig.send_message(\"send_image_mode\", {});\n",
       "            if (mpl.ratio != 1) {\n",
       "                fig.send_message(\"set_dpi_ratio\", {'dpi_ratio': mpl.ratio});\n",
       "            }\n",
       "            fig.send_message(\"refresh\", {});\n",
       "        }\n",
       "\n",
       "    this.imageObj.onload = function() {\n",
       "            if (fig.image_mode == 'full') {\n",
       "                // Full images could contain transparency (where diff images\n",
       "                // almost always do), so we need to clear the canvas so that\n",
       "                // there is no ghosting.\n",
       "                fig.context.clearRect(0, 0, fig.canvas.width, fig.canvas.height);\n",
       "            }\n",
       "            fig.context.drawImage(fig.imageObj, 0, 0);\n",
       "        };\n",
       "\n",
       "    this.imageObj.onunload = function() {\n",
       "        fig.ws.close();\n",
       "    }\n",
       "\n",
       "    this.ws.onmessage = this._make_on_message_function(this);\n",
       "\n",
       "    this.ondownload = ondownload;\n",
       "}\n",
       "\n",
       "mpl.figure.prototype._init_header = function() {\n",
       "    var titlebar = $(\n",
       "        '<div class=\"ui-dialog-titlebar ui-widget-header ui-corner-all ' +\n",
       "        'ui-helper-clearfix\"/>');\n",
       "    var titletext = $(\n",
       "        '<div class=\"ui-dialog-title\" style=\"width: 100%; ' +\n",
       "        'text-align: center; padding: 3px;\"/>');\n",
       "    titlebar.append(titletext)\n",
       "    this.root.append(titlebar);\n",
       "    this.header = titletext[0];\n",
       "}\n",
       "\n",
       "\n",
       "\n",
       "mpl.figure.prototype._canvas_extra_style = function(canvas_div) {\n",
       "\n",
       "}\n",
       "\n",
       "\n",
       "mpl.figure.prototype._root_extra_style = function(canvas_div) {\n",
       "\n",
       "}\n",
       "\n",
       "mpl.figure.prototype._init_canvas = function() {\n",
       "    var fig = this;\n",
       "\n",
       "    var canvas_div = $('<div/>');\n",
       "\n",
       "    canvas_div.attr('style', 'position: relative; clear: both; outline: 0');\n",
       "\n",
       "    function canvas_keyboard_event(event) {\n",
       "        return fig.key_event(event, event['data']);\n",
       "    }\n",
       "\n",
       "    canvas_div.keydown('key_press', canvas_keyboard_event);\n",
       "    canvas_div.keyup('key_release', canvas_keyboard_event);\n",
       "    this.canvas_div = canvas_div\n",
       "    this._canvas_extra_style(canvas_div)\n",
       "    this.root.append(canvas_div);\n",
       "\n",
       "    var canvas = $('<canvas/>');\n",
       "    canvas.addClass('mpl-canvas');\n",
       "    canvas.attr('style', \"left: 0; top: 0; z-index: 0; outline: 0\")\n",
       "\n",
       "    this.canvas = canvas[0];\n",
       "    this.context = canvas[0].getContext(\"2d\");\n",
       "\n",
       "    var backingStore = this.context.backingStorePixelRatio ||\n",
       "\tthis.context.webkitBackingStorePixelRatio ||\n",
       "\tthis.context.mozBackingStorePixelRatio ||\n",
       "\tthis.context.msBackingStorePixelRatio ||\n",
       "\tthis.context.oBackingStorePixelRatio ||\n",
       "\tthis.context.backingStorePixelRatio || 1;\n",
       "\n",
       "    mpl.ratio = (window.devicePixelRatio || 1) / backingStore;\n",
       "\n",
       "    var rubberband = $('<canvas/>');\n",
       "    rubberband.attr('style', \"position: absolute; left: 0; top: 0; z-index: 1;\")\n",
       "\n",
       "    var pass_mouse_events = true;\n",
       "\n",
       "    canvas_div.resizable({\n",
       "        start: function(event, ui) {\n",
       "            pass_mouse_events = false;\n",
       "        },\n",
       "        resize: function(event, ui) {\n",
       "            fig.request_resize(ui.size.width, ui.size.height);\n",
       "        },\n",
       "        stop: function(event, ui) {\n",
       "            pass_mouse_events = true;\n",
       "            fig.request_resize(ui.size.width, ui.size.height);\n",
       "        },\n",
       "    });\n",
       "\n",
       "    function mouse_event_fn(event) {\n",
       "        if (pass_mouse_events)\n",
       "            return fig.mouse_event(event, event['data']);\n",
       "    }\n",
       "\n",
       "    rubberband.mousedown('button_press', mouse_event_fn);\n",
       "    rubberband.mouseup('button_release', mouse_event_fn);\n",
       "    // Throttle sequential mouse events to 1 every 20ms.\n",
       "    rubberband.mousemove('motion_notify', mouse_event_fn);\n",
       "\n",
       "    rubberband.mouseenter('figure_enter', mouse_event_fn);\n",
       "    rubberband.mouseleave('figure_leave', mouse_event_fn);\n",
       "\n",
       "    canvas_div.on(\"wheel\", function (event) {\n",
       "        event = event.originalEvent;\n",
       "        event['data'] = 'scroll'\n",
       "        if (event.deltaY < 0) {\n",
       "            event.step = 1;\n",
       "        } else {\n",
       "            event.step = -1;\n",
       "        }\n",
       "        mouse_event_fn(event);\n",
       "    });\n",
       "\n",
       "    canvas_div.append(canvas);\n",
       "    canvas_div.append(rubberband);\n",
       "\n",
       "    this.rubberband = rubberband;\n",
       "    this.rubberband_canvas = rubberband[0];\n",
       "    this.rubberband_context = rubberband[0].getContext(\"2d\");\n",
       "    this.rubberband_context.strokeStyle = \"#000000\";\n",
       "\n",
       "    this._resize_canvas = function(width, height) {\n",
       "        // Keep the size of the canvas, canvas container, and rubber band\n",
       "        // canvas in synch.\n",
       "        canvas_div.css('width', width)\n",
       "        canvas_div.css('height', height)\n",
       "\n",
       "        canvas.attr('width', width * mpl.ratio);\n",
       "        canvas.attr('height', height * mpl.ratio);\n",
       "        canvas.attr('style', 'width: ' + width + 'px; height: ' + height + 'px;');\n",
       "\n",
       "        rubberband.attr('width', width);\n",
       "        rubberband.attr('height', height);\n",
       "    }\n",
       "\n",
       "    // Set the figure to an initial 600x600px, this will subsequently be updated\n",
       "    // upon first draw.\n",
       "    this._resize_canvas(600, 600);\n",
       "\n",
       "    // Disable right mouse context menu.\n",
       "    $(this.rubberband_canvas).bind(\"contextmenu\",function(e){\n",
       "        return false;\n",
       "    });\n",
       "\n",
       "    function set_focus () {\n",
       "        canvas.focus();\n",
       "        canvas_div.focus();\n",
       "    }\n",
       "\n",
       "    window.setTimeout(set_focus, 100);\n",
       "}\n",
       "\n",
       "mpl.figure.prototype._init_toolbar = function() {\n",
       "    var fig = this;\n",
       "\n",
       "    var nav_element = $('<div/>')\n",
       "    nav_element.attr('style', 'width: 100%');\n",
       "    this.root.append(nav_element);\n",
       "\n",
       "    // Define a callback function for later on.\n",
       "    function toolbar_event(event) {\n",
       "        return fig.toolbar_button_onclick(event['data']);\n",
       "    }\n",
       "    function toolbar_mouse_event(event) {\n",
       "        return fig.toolbar_button_onmouseover(event['data']);\n",
       "    }\n",
       "\n",
       "    for(var toolbar_ind in mpl.toolbar_items) {\n",
       "        var name = mpl.toolbar_items[toolbar_ind][0];\n",
       "        var tooltip = mpl.toolbar_items[toolbar_ind][1];\n",
       "        var image = mpl.toolbar_items[toolbar_ind][2];\n",
       "        var method_name = mpl.toolbar_items[toolbar_ind][3];\n",
       "\n",
       "        if (!name) {\n",
       "            // put a spacer in here.\n",
       "            continue;\n",
       "        }\n",
       "        var button = $('<button/>');\n",
       "        button.addClass('ui-button ui-widget ui-state-default ui-corner-all ' +\n",
       "                        'ui-button-icon-only');\n",
       "        button.attr('role', 'button');\n",
       "        button.attr('aria-disabled', 'false');\n",
       "        button.click(method_name, toolbar_event);\n",
       "        button.mouseover(tooltip, toolbar_mouse_event);\n",
       "\n",
       "        var icon_img = $('<span/>');\n",
       "        icon_img.addClass('ui-button-icon-primary ui-icon');\n",
       "        icon_img.addClass(image);\n",
       "        icon_img.addClass('ui-corner-all');\n",
       "\n",
       "        var tooltip_span = $('<span/>');\n",
       "        tooltip_span.addClass('ui-button-text');\n",
       "        tooltip_span.html(tooltip);\n",
       "\n",
       "        button.append(icon_img);\n",
       "        button.append(tooltip_span);\n",
       "\n",
       "        nav_element.append(button);\n",
       "    }\n",
       "\n",
       "    var fmt_picker_span = $('<span/>');\n",
       "\n",
       "    var fmt_picker = $('<select/>');\n",
       "    fmt_picker.addClass('mpl-toolbar-option ui-widget ui-widget-content');\n",
       "    fmt_picker_span.append(fmt_picker);\n",
       "    nav_element.append(fmt_picker_span);\n",
       "    this.format_dropdown = fmt_picker[0];\n",
       "\n",
       "    for (var ind in mpl.extensions) {\n",
       "        var fmt = mpl.extensions[ind];\n",
       "        var option = $(\n",
       "            '<option/>', {selected: fmt === mpl.default_extension}).html(fmt);\n",
       "        fmt_picker.append(option)\n",
       "    }\n",
       "\n",
       "    // Add hover states to the ui-buttons\n",
       "    $( \".ui-button\" ).hover(\n",
       "        function() { $(this).addClass(\"ui-state-hover\");},\n",
       "        function() { $(this).removeClass(\"ui-state-hover\");}\n",
       "    );\n",
       "\n",
       "    var status_bar = $('<span class=\"mpl-message\"/>');\n",
       "    nav_element.append(status_bar);\n",
       "    this.message = status_bar[0];\n",
       "}\n",
       "\n",
       "mpl.figure.prototype.request_resize = function(x_pixels, y_pixels) {\n",
       "    // Request matplotlib to resize the figure. Matplotlib will then trigger a resize in the client,\n",
       "    // which will in turn request a refresh of the image.\n",
       "    this.send_message('resize', {'width': x_pixels, 'height': y_pixels});\n",
       "}\n",
       "\n",
       "mpl.figure.prototype.send_message = function(type, properties) {\n",
       "    properties['type'] = type;\n",
       "    properties['figure_id'] = this.id;\n",
       "    this.ws.send(JSON.stringify(properties));\n",
       "}\n",
       "\n",
       "mpl.figure.prototype.send_draw_message = function() {\n",
       "    if (!this.waiting) {\n",
       "        this.waiting = true;\n",
       "        this.ws.send(JSON.stringify({type: \"draw\", figure_id: this.id}));\n",
       "    }\n",
       "}\n",
       "\n",
       "\n",
       "mpl.figure.prototype.handle_save = function(fig, msg) {\n",
       "    var format_dropdown = fig.format_dropdown;\n",
       "    var format = format_dropdown.options[format_dropdown.selectedIndex].value;\n",
       "    fig.ondownload(fig, format);\n",
       "}\n",
       "\n",
       "\n",
       "mpl.figure.prototype.handle_resize = function(fig, msg) {\n",
       "    var size = msg['size'];\n",
       "    if (size[0] != fig.canvas.width || size[1] != fig.canvas.height) {\n",
       "        fig._resize_canvas(size[0], size[1]);\n",
       "        fig.send_message(\"refresh\", {});\n",
       "    };\n",
       "}\n",
       "\n",
       "mpl.figure.prototype.handle_rubberband = function(fig, msg) {\n",
       "    var x0 = msg['x0'] / mpl.ratio;\n",
       "    var y0 = (fig.canvas.height - msg['y0']) / mpl.ratio;\n",
       "    var x1 = msg['x1'] / mpl.ratio;\n",
       "    var y1 = (fig.canvas.height - msg['y1']) / mpl.ratio;\n",
       "    x0 = Math.floor(x0) + 0.5;\n",
       "    y0 = Math.floor(y0) + 0.5;\n",
       "    x1 = Math.floor(x1) + 0.5;\n",
       "    y1 = Math.floor(y1) + 0.5;\n",
       "    var min_x = Math.min(x0, x1);\n",
       "    var min_y = Math.min(y0, y1);\n",
       "    var width = Math.abs(x1 - x0);\n",
       "    var height = Math.abs(y1 - y0);\n",
       "\n",
       "    fig.rubberband_context.clearRect(\n",
       "        0, 0, fig.canvas.width, fig.canvas.height);\n",
       "\n",
       "    fig.rubberband_context.strokeRect(min_x, min_y, width, height);\n",
       "}\n",
       "\n",
       "mpl.figure.prototype.handle_figure_label = function(fig, msg) {\n",
       "    // Updates the figure title.\n",
       "    fig.header.textContent = msg['label'];\n",
       "}\n",
       "\n",
       "mpl.figure.prototype.handle_cursor = function(fig, msg) {\n",
       "    var cursor = msg['cursor'];\n",
       "    switch(cursor)\n",
       "    {\n",
       "    case 0:\n",
       "        cursor = 'pointer';\n",
       "        break;\n",
       "    case 1:\n",
       "        cursor = 'default';\n",
       "        break;\n",
       "    case 2:\n",
       "        cursor = 'crosshair';\n",
       "        break;\n",
       "    case 3:\n",
       "        cursor = 'move';\n",
       "        break;\n",
       "    }\n",
       "    fig.rubberband_canvas.style.cursor = cursor;\n",
       "}\n",
       "\n",
       "mpl.figure.prototype.handle_message = function(fig, msg) {\n",
       "    fig.message.textContent = msg['message'];\n",
       "}\n",
       "\n",
       "mpl.figure.prototype.handle_draw = function(fig, msg) {\n",
       "    // Request the server to send over a new figure.\n",
       "    fig.send_draw_message();\n",
       "}\n",
       "\n",
       "mpl.figure.prototype.handle_image_mode = function(fig, msg) {\n",
       "    fig.image_mode = msg['mode'];\n",
       "}\n",
       "\n",
       "mpl.figure.prototype.updated_canvas_event = function() {\n",
       "    // Called whenever the canvas gets updated.\n",
       "    this.send_message(\"ack\", {});\n",
       "}\n",
       "\n",
       "// A function to construct a web socket function for onmessage handling.\n",
       "// Called in the figure constructor.\n",
       "mpl.figure.prototype._make_on_message_function = function(fig) {\n",
       "    return function socket_on_message(evt) {\n",
       "        if (evt.data instanceof Blob) {\n",
       "            /* FIXME: We get \"Resource interpreted as Image but\n",
       "             * transferred with MIME type text/plain:\" errors on\n",
       "             * Chrome.  But how to set the MIME type?  It doesn't seem\n",
       "             * to be part of the websocket stream */\n",
       "            evt.data.type = \"image/png\";\n",
       "\n",
       "            /* Free the memory for the previous frames */\n",
       "            if (fig.imageObj.src) {\n",
       "                (window.URL || window.webkitURL).revokeObjectURL(\n",
       "                    fig.imageObj.src);\n",
       "            }\n",
       "\n",
       "            fig.imageObj.src = (window.URL || window.webkitURL).createObjectURL(\n",
       "                evt.data);\n",
       "            fig.updated_canvas_event();\n",
       "            fig.waiting = false;\n",
       "            return;\n",
       "        }\n",
       "        else if (typeof evt.data === 'string' && evt.data.slice(0, 21) == \"data:image/png;base64\") {\n",
       "            fig.imageObj.src = evt.data;\n",
       "            fig.updated_canvas_event();\n",
       "            fig.waiting = false;\n",
       "            return;\n",
       "        }\n",
       "\n",
       "        var msg = JSON.parse(evt.data);\n",
       "        var msg_type = msg['type'];\n",
       "\n",
       "        // Call the  \"handle_{type}\" callback, which takes\n",
       "        // the figure and JSON message as its only arguments.\n",
       "        try {\n",
       "            var callback = fig[\"handle_\" + msg_type];\n",
       "        } catch (e) {\n",
       "            console.log(\"No handler for the '\" + msg_type + \"' message type: \", msg);\n",
       "            return;\n",
       "        }\n",
       "\n",
       "        if (callback) {\n",
       "            try {\n",
       "                // console.log(\"Handling '\" + msg_type + \"' message: \", msg);\n",
       "                callback(fig, msg);\n",
       "            } catch (e) {\n",
       "                console.log(\"Exception inside the 'handler_\" + msg_type + \"' callback:\", e, e.stack, msg);\n",
       "            }\n",
       "        }\n",
       "    };\n",
       "}\n",
       "\n",
       "// from http://stackoverflow.com/questions/1114465/getting-mouse-location-in-canvas\n",
       "mpl.findpos = function(e) {\n",
       "    //this section is from http://www.quirksmode.org/js/events_properties.html\n",
       "    var targ;\n",
       "    if (!e)\n",
       "        e = window.event;\n",
       "    if (e.target)\n",
       "        targ = e.target;\n",
       "    else if (e.srcElement)\n",
       "        targ = e.srcElement;\n",
       "    if (targ.nodeType == 3) // defeat Safari bug\n",
       "        targ = targ.parentNode;\n",
       "\n",
       "    // jQuery normalizes the pageX and pageY\n",
       "    // pageX,Y are the mouse positions relative to the document\n",
       "    // offset() returns the position of the element relative to the document\n",
       "    var x = e.pageX - $(targ).offset().left;\n",
       "    var y = e.pageY - $(targ).offset().top;\n",
       "\n",
       "    return {\"x\": x, \"y\": y};\n",
       "};\n",
       "\n",
       "/*\n",
       " * return a copy of an object with only non-object keys\n",
       " * we need this to avoid circular references\n",
       " * http://stackoverflow.com/a/24161582/3208463\n",
       " */\n",
       "function simpleKeys (original) {\n",
       "  return Object.keys(original).reduce(function (obj, key) {\n",
       "    if (typeof original[key] !== 'object')\n",
       "        obj[key] = original[key]\n",
       "    return obj;\n",
       "  }, {});\n",
       "}\n",
       "\n",
       "mpl.figure.prototype.mouse_event = function(event, name) {\n",
       "    var canvas_pos = mpl.findpos(event)\n",
       "\n",
       "    if (name === 'button_press')\n",
       "    {\n",
       "        this.canvas.focus();\n",
       "        this.canvas_div.focus();\n",
       "    }\n",
       "\n",
       "    var x = canvas_pos.x * mpl.ratio;\n",
       "    var y = canvas_pos.y * mpl.ratio;\n",
       "\n",
       "    this.send_message(name, {x: x, y: y, button: event.button,\n",
       "                             step: event.step,\n",
       "                             guiEvent: simpleKeys(event)});\n",
       "\n",
       "    /* This prevents the web browser from automatically changing to\n",
       "     * the text insertion cursor when the button is pressed.  We want\n",
       "     * to control all of the cursor setting manually through the\n",
       "     * 'cursor' event from matplotlib */\n",
       "    event.preventDefault();\n",
       "    return false;\n",
       "}\n",
       "\n",
       "mpl.figure.prototype._key_event_extra = function(event, name) {\n",
       "    // Handle any extra behaviour associated with a key event\n",
       "}\n",
       "\n",
       "mpl.figure.prototype.key_event = function(event, name) {\n",
       "\n",
       "    // Prevent repeat events\n",
       "    if (name == 'key_press')\n",
       "    {\n",
       "        if (event.which === this._key)\n",
       "            return;\n",
       "        else\n",
       "            this._key = event.which;\n",
       "    }\n",
       "    if (name == 'key_release')\n",
       "        this._key = null;\n",
       "\n",
       "    var value = '';\n",
       "    if (event.ctrlKey && event.which != 17)\n",
       "        value += \"ctrl+\";\n",
       "    if (event.altKey && event.which != 18)\n",
       "        value += \"alt+\";\n",
       "    if (event.shiftKey && event.which != 16)\n",
       "        value += \"shift+\";\n",
       "\n",
       "    value += 'k';\n",
       "    value += event.which.toString();\n",
       "\n",
       "    this._key_event_extra(event, name);\n",
       "\n",
       "    this.send_message(name, {key: value,\n",
       "                             guiEvent: simpleKeys(event)});\n",
       "    return false;\n",
       "}\n",
       "\n",
       "mpl.figure.prototype.toolbar_button_onclick = function(name) {\n",
       "    if (name == 'download') {\n",
       "        this.handle_save(this, null);\n",
       "    } else {\n",
       "        this.send_message(\"toolbar_button\", {name: name});\n",
       "    }\n",
       "};\n",
       "\n",
       "mpl.figure.prototype.toolbar_button_onmouseover = function(tooltip) {\n",
       "    this.message.textContent = tooltip;\n",
       "};\n",
       "mpl.toolbar_items = [[\"Home\", \"Reset original view\", \"fa fa-home icon-home\", \"home\"], [\"Back\", \"Back to  previous view\", \"fa fa-arrow-left icon-arrow-left\", \"back\"], [\"Forward\", \"Forward to next view\", \"fa fa-arrow-right icon-arrow-right\", \"forward\"], [\"\", \"\", \"\", \"\"], [\"Pan\", \"Pan axes with left mouse, zoom with right\", \"fa fa-arrows icon-move\", \"pan\"], [\"Zoom\", \"Zoom to rectangle\", \"fa fa-square-o icon-check-empty\", \"zoom\"], [\"\", \"\", \"\", \"\"], [\"Download\", \"Download plot\", \"fa fa-floppy-o icon-save\", \"download\"]];\n",
       "\n",
       "mpl.extensions = [\"eps\", \"jpeg\", \"pdf\", \"png\", \"ps\", \"raw\", \"svg\", \"tif\"];\n",
       "\n",
       "mpl.default_extension = \"png\";var comm_websocket_adapter = function(comm) {\n",
       "    // Create a \"websocket\"-like object which calls the given IPython comm\n",
       "    // object with the appropriate methods. Currently this is a non binary\n",
       "    // socket, so there is still some room for performance tuning.\n",
       "    var ws = {};\n",
       "\n",
       "    ws.close = function() {\n",
       "        comm.close()\n",
       "    };\n",
       "    ws.send = function(m) {\n",
       "        //console.log('sending', m);\n",
       "        comm.send(m);\n",
       "    };\n",
       "    // Register the callback with on_msg.\n",
       "    comm.on_msg(function(msg) {\n",
       "        //console.log('receiving', msg['content']['data'], msg);\n",
       "        // Pass the mpl event to the overriden (by mpl) onmessage function.\n",
       "        ws.onmessage(msg['content']['data'])\n",
       "    });\n",
       "    return ws;\n",
       "}\n",
       "\n",
       "mpl.mpl_figure_comm = function(comm, msg) {\n",
       "    // This is the function which gets called when the mpl process\n",
       "    // starts-up an IPython Comm through the \"matplotlib\" channel.\n",
       "\n",
       "    var id = msg.content.data.id;\n",
       "    // Get hold of the div created by the display call when the Comm\n",
       "    // socket was opened in Python.\n",
       "    var element = $(\"#\" + id);\n",
       "    var ws_proxy = comm_websocket_adapter(comm)\n",
       "\n",
       "    function ondownload(figure, format) {\n",
       "        window.open(figure.imageObj.src);\n",
       "    }\n",
       "\n",
       "    var fig = new mpl.figure(id, ws_proxy,\n",
       "                           ondownload,\n",
       "                           element.get(0));\n",
       "\n",
       "    // Call onopen now - mpl needs it, as it is assuming we've passed it a real\n",
       "    // web socket which is closed, not our websocket->open comm proxy.\n",
       "    ws_proxy.onopen();\n",
       "\n",
       "    fig.parent_element = element.get(0);\n",
       "    fig.cell_info = mpl.find_output_cell(\"<div id='\" + id + \"'></div>\");\n",
       "    if (!fig.cell_info) {\n",
       "        console.error(\"Failed to find cell for figure\", id, fig);\n",
       "        return;\n",
       "    }\n",
       "\n",
       "    var output_index = fig.cell_info[2]\n",
       "    var cell = fig.cell_info[0];\n",
       "\n",
       "};\n",
       "\n",
       "mpl.figure.prototype.handle_close = function(fig, msg) {\n",
       "    var width = fig.canvas.width/mpl.ratio\n",
       "    fig.root.unbind('remove')\n",
       "\n",
       "    // Update the output cell to use the data from the current canvas.\n",
       "    fig.push_to_output();\n",
       "    var dataURL = fig.canvas.toDataURL();\n",
       "    // Re-enable the keyboard manager in IPython - without this line, in FF,\n",
       "    // the notebook keyboard shortcuts fail.\n",
       "    IPython.keyboard_manager.enable()\n",
       "    $(fig.parent_element).html('<img src=\"' + dataURL + '\" width=\"' + width + '\">');\n",
       "    fig.close_ws(fig, msg);\n",
       "}\n",
       "\n",
       "mpl.figure.prototype.close_ws = function(fig, msg){\n",
       "    fig.send_message('closing', msg);\n",
       "    // fig.ws.close()\n",
       "}\n",
       "\n",
       "mpl.figure.prototype.push_to_output = function(remove_interactive) {\n",
       "    // Turn the data on the canvas into data in the output cell.\n",
       "    var width = this.canvas.width/mpl.ratio\n",
       "    var dataURL = this.canvas.toDataURL();\n",
       "    this.cell_info[1]['text/html'] = '<img src=\"' + dataURL + '\" width=\"' + width + '\">';\n",
       "}\n",
       "\n",
       "mpl.figure.prototype.updated_canvas_event = function() {\n",
       "    // Tell IPython that the notebook contents must change.\n",
       "    IPython.notebook.set_dirty(true);\n",
       "    this.send_message(\"ack\", {});\n",
       "    var fig = this;\n",
       "    // Wait a second, then push the new image to the DOM so\n",
       "    // that it is saved nicely (might be nice to debounce this).\n",
       "    setTimeout(function () { fig.push_to_output() }, 1000);\n",
       "}\n",
       "\n",
       "mpl.figure.prototype._init_toolbar = function() {\n",
       "    var fig = this;\n",
       "\n",
       "    var nav_element = $('<div/>')\n",
       "    nav_element.attr('style', 'width: 100%');\n",
       "    this.root.append(nav_element);\n",
       "\n",
       "    // Define a callback function for later on.\n",
       "    function toolbar_event(event) {\n",
       "        return fig.toolbar_button_onclick(event['data']);\n",
       "    }\n",
       "    function toolbar_mouse_event(event) {\n",
       "        return fig.toolbar_button_onmouseover(event['data']);\n",
       "    }\n",
       "\n",
       "    for(var toolbar_ind in mpl.toolbar_items){\n",
       "        var name = mpl.toolbar_items[toolbar_ind][0];\n",
       "        var tooltip = mpl.toolbar_items[toolbar_ind][1];\n",
       "        var image = mpl.toolbar_items[toolbar_ind][2];\n",
       "        var method_name = mpl.toolbar_items[toolbar_ind][3];\n",
       "\n",
       "        if (!name) { continue; };\n",
       "\n",
       "        var button = $('<button class=\"btn btn-default\" href=\"#\" title=\"' + name + '\"><i class=\"fa ' + image + ' fa-lg\"></i></button>');\n",
       "        button.click(method_name, toolbar_event);\n",
       "        button.mouseover(tooltip, toolbar_mouse_event);\n",
       "        nav_element.append(button);\n",
       "    }\n",
       "\n",
       "    // Add the status bar.\n",
       "    var status_bar = $('<span class=\"mpl-message\" style=\"text-align:right; float: right;\"/>');\n",
       "    nav_element.append(status_bar);\n",
       "    this.message = status_bar[0];\n",
       "\n",
       "    // Add the close button to the window.\n",
       "    var buttongrp = $('<div class=\"btn-group inline pull-right\"></div>');\n",
       "    var button = $('<button class=\"btn btn-mini btn-primary\" href=\"#\" title=\"Stop Interaction\"><i class=\"fa fa-power-off icon-remove icon-large\"></i></button>');\n",
       "    button.click(function (evt) { fig.handle_close(fig, {}); } );\n",
       "    button.mouseover('Stop Interaction', toolbar_mouse_event);\n",
       "    buttongrp.append(button);\n",
       "    var titlebar = this.root.find($('.ui-dialog-titlebar'));\n",
       "    titlebar.prepend(buttongrp);\n",
       "}\n",
       "\n",
       "mpl.figure.prototype._root_extra_style = function(el){\n",
       "    var fig = this\n",
       "    el.on(\"remove\", function(){\n",
       "\tfig.close_ws(fig, {});\n",
       "    });\n",
       "}\n",
       "\n",
       "mpl.figure.prototype._canvas_extra_style = function(el){\n",
       "    // this is important to make the div 'focusable\n",
       "    el.attr('tabindex', 0)\n",
       "    // reach out to IPython and tell the keyboard manager to turn it's self\n",
       "    // off when our div gets focus\n",
       "\n",
       "    // location in version 3\n",
       "    if (IPython.notebook.keyboard_manager) {\n",
       "        IPython.notebook.keyboard_manager.register_events(el);\n",
       "    }\n",
       "    else {\n",
       "        // location in version 2\n",
       "        IPython.keyboard_manager.register_events(el);\n",
       "    }\n",
       "\n",
       "}\n",
       "\n",
       "mpl.figure.prototype._key_event_extra = function(event, name) {\n",
       "    var manager = IPython.notebook.keyboard_manager;\n",
       "    if (!manager)\n",
       "        manager = IPython.keyboard_manager;\n",
       "\n",
       "    // Check for shift+enter\n",
       "    if (event.shiftKey && event.which == 13) {\n",
       "        this.canvas_div.blur();\n",
       "        event.shiftKey = false;\n",
       "        // Send a \"J\" for go to next cell\n",
       "        event.which = 74;\n",
       "        event.keyCode = 74;\n",
       "        manager.command_mode();\n",
       "        manager.handle_keydown(event);\n",
       "    }\n",
       "}\n",
       "\n",
       "mpl.figure.prototype.handle_save = function(fig, msg) {\n",
       "    fig.ondownload(fig, null);\n",
       "}\n",
       "\n",
       "\n",
       "mpl.find_output_cell = function(html_output) {\n",
       "    // Return the cell and output element which can be found *uniquely* in the notebook.\n",
       "    // Note - this is a bit hacky, but it is done because the \"notebook_saving.Notebook\"\n",
       "    // IPython event is triggered only after the cells have been serialised, which for\n",
       "    // our purposes (turning an active figure into a static one), is too late.\n",
       "    var cells = IPython.notebook.get_cells();\n",
       "    var ncells = cells.length;\n",
       "    for (var i=0; i<ncells; i++) {\n",
       "        var cell = cells[i];\n",
       "        if (cell.cell_type === 'code'){\n",
       "            for (var j=0; j<cell.output_area.outputs.length; j++) {\n",
       "                var data = cell.output_area.outputs[j];\n",
       "                if (data.data) {\n",
       "                    // IPython >= 3 moved mimebundle to data attribute of output\n",
       "                    data = data.data;\n",
       "                }\n",
       "                if (data['text/html'] == html_output) {\n",
       "                    return [cell, data, j];\n",
       "                }\n",
       "            }\n",
       "        }\n",
       "    }\n",
       "}\n",
       "\n",
       "// Register the function which deals with the matplotlib target/channel.\n",
       "// The kernel may be null if the page has been refreshed.\n",
       "if (IPython.notebook.kernel != null) {\n",
       "    IPython.notebook.kernel.comm_manager.register_target('matplotlib', mpl.mpl_figure_comm);\n",
       "}\n"
      ],
      "text/plain": [
       "<IPython.core.display.Javascript object>"
      ]
     },
     "metadata": {},
     "output_type": "display_data"
    },
    {
     "data": {
      "text/html": [
       "<img src=\"data:image/png;base64,iVBORw0KGgoAAAANSUhEUgAAAg0AAAQBCAYAAACpCrnVAAAgAElEQVR4Xux9B5glR3X12dmd2dmcFHYVwRJKqwAiRwEmmyByMBhskwQYk4OETTI2AgMGTLTBZBMFAv9EY0wSBoEQQkIogSRQ3px3Zmfm/05P12xPb79X976qefve7KnvW1tMnbpdfeu+qlOnQs+BkjwgD8gD8oA8IA/IAwYPzDFgBJEH5AF5QB6QB+QBeQAiDQoCeUAekAfkAXlAHjB5QKTB5CaB5AF5QB6QB+QBeUCkQTEgD8gD8oA8IA/IAyYPiDSY3CSQPCAPyAPygDwgD4g0KAbkAXlAHpAH5AF5wOQBkQaTmwSSB+QBeUAekAfkAZEGxYA8IA/IA/KAPCAPmDwg0mByk0DygDwgD8gD8oA8INKgGJAH5AF5QB6QB+QBkwdEGkxuEkgekAfkAXlAHpAHRBoUA/KAPCAPyAPygDxg8oBIg8lNAskD8oA8IA/IA/KASINiQB6QB+QBeUAekAdMHhBpMLlJIHlAHpAH5AF5QB4QaVAMyAPygDwgD8gD8oDJAyINJjcJJA/IA/KAPCAPyAMiDYoBeUAekAfkAXlAHjB5QKTB5CaB5AF5QB6QB+QBeUCkQTEgD8gD8oA8IA/IAyYPiDSY3CSQPCAPyAPygDwgD4g0KAbkAXlAHpAH5AF5wOQBkQaTmwSSB+QBeUAekAfkAZEGxYA8IA/IA/KAPCAPmDwg0mByk0DygDwgD8gD8oA8INKgGJAH5AF5QB6QB+QBkwdEGkxuEkgekAfkAXlAHpAHRBoUA/KAPCAPyAPygDxg8oBIg8lNAskD8oA8IA/IA/KASINiQB6QB+QBeUAekAdMHhBpMLlJIHlAHpAH5AF5QB4QaVAMyAPygDwgD8gD8oDJAyINJjcJJA/IA/KAPCAPyAMiDYoBeUAekAfkAXlAHjB5QKTB5CaB5AF5QB6QB+QBeUCkQTEgD8gD8oA8IA/IAyYPiDSY3CSQPCAPyAPygDwgD4g0KAbkAXlAHpAHYh44DcBbANwLwHIAHDseAOB/YwWVP7s8INIwu9qz+jbXAji6/MNjAXylxav+N4A/BfCXAD62H93xLAC3K+vAus+GNGF8CXW+RkeVsFUA/hbAIwHcAcAQgHUAbgTwf+VA9mUA4z6z+xV9JoA7lr/Ti/drTfZ9+CEAfgtgBYAbAFwHgLH9NwB+2WN1VXVm2AMiDTPs4P1ovkoafgXgTuUPvV6lXiENnLGcMctmL4E0XApgc5tYUOdr/6GcAuA7AA4ti/wRwE0AlgA4FsC88u/839vsZvc7koT9mT1A3psc8WIA7wZwPoDH9RkZ2+8NO9sqINIw21p07/sE0jAGYC6AJwL4YsPrijTMXAwE0iAlIY+PBwCQgJ0I4KcA/hrAZRXTiwA8HMDzAHDmvj3PY7tipZdJw/sBnAXgBQA+0BVv6CE96wGRhp5tmuSKBdLwKQBPLzvbUxvUBpGGZFe3NCDSkNe39wDwk9LkkQCoMsyW1Muk4T8AcPlwfy9hzpa27uv3EGno6+ZrW/lAGh4I4KPlfoGnAPhcrVSMNJwA4FUAaGdNKfly3fgdAP6noQZhoGwVW6FetwfA/74/gO+1eZPQUXG/w+/L9VT+93MAPBcA67e43JgVzHDG+VIATwJwDACqLZcD+ASADwHYU3teqMP3y/fkcgHtU+7mssJ/AXgNgNuc4dIJaai/JwnfSwCcBGAXgO8CeDWA37Woy8JyrZnK0nGlXH8lgE8DeA+A3bVybwDwegBvBPC+8r+5V+DwsgwHi5C49+UcAHcpJepflJvjWJdq2xD/MADfAPBrACSrTYl7Ebi0sBLAyTXVoAn/tLJO3L9wsLMtqstfO8r3vCeA+QC4fPe2Nvt++Ki7AXgZgPuWz94I4AcA/rHNuj6XShi/rDd9wLjkvgvuA2AsUu4P7d3qddgubCOm6m/r8eW+DtpdBiD8nlaXqiLb8HgA/N87AVwC4N8BfNLhtxAbTUX4W+HvJqSjALy2bPfDAGwFcGEZc4yDevLEnaPKgs60B0QaZtrD+89+GJzZyXFg/bdy4GTnXN0g1o40cNBlJ8POnZ3ANWUnxI6IHRg3o7239ope0sC9FrTBteqlpSJSXf/njm12OtXBlP/7+QD+AOCWcnDnJi0mDiYcWGmP70k5e7CUtJnP9fBHlwNwqHqVNHCjFzv5qwCMlB0vO3/K4HduGHTbtXAqafjPkqxw49mmsh05yHGg5WDBwbOaONB/uyQYJEaMgdFysyDf4UcAHlIOIqFc6LwpQQeyECT/n5dLAMT+RblJlX0Gn0uS8Cfl5jiSmLdXCB3xXErg86kI0G8XNTiKAx+XzPicuxp+Kqzf18rYI6FrRZyaTAXS8PcAXle2LTf30Wckw0wvB/DOhsIkoCTJfPcN5XtykOSGTPqXZPy8WjnGI+t67/LvbEOSTpbjxkL+b8Y0f0v0ATd08u+Mu1srtkj4+Y8pxBMJ7FvL2L++tENSQ3/z3d5ctjEJCskN7fK5TB8slxoM7sZfAcW/prqR+JBcM90dwDfLUxVcEqJfuefkiDKf9aHfq8kad5Z6CtNFD4g0dNHZXX5UlTRQGbii7OT/HMBnKnVpRRo4KP2s7Ki4EeojFbLxKABc9uDMiQMCZ2oheUlDKBfbCBlIA1UDzrg5sH+1LLygMhCyA+ZgxIHvMSXRIYyzYyoG7Mw4q+RAF1IgDRwA2LHztAnfnYmzdZIQdoBc12Wna00ppIGDPmfEHJDCTI0DzLdKwnBuSShCXThI/7A8EvfZUp0goWJi3dnmJJD/DOCVlRcInTf9yncmUQyy/3Dpaw44VGqoYvxDOfMlnkSEAwIHWxKzMBAG88RSmaDCQYJZT2w/xtKLSpUj5lce9WPdGHdXl3X5ulEBCvFFvzJGnl3ueWAfyOezjsxjnFTjmYoJn7G+3CtRJQfcU8F44Eyes3qSuZB4eoP7Kki0+ZvjHoyQSHgYYyRaIVmWJ0I8kcyyzlQO+Lew+ZP1v0/ZFlRB2EYh8ffMuOB+EMY7lQJralc3xgRjgzHy+dKvnGAwcWMn+w3uqXpEJY6ZZ4k7a/2E66IHRBq66OwuP6pKGjjDpMzMtUmSh7WVDqUVafhSuVOanT071Hpip0WFgLMgdp4hzTRp4HNazQg5I+L7Ma5Pb5CNKdmzY+NsiLPL0LlVl0hIOOqzRs6o6AMOciQi1mQ5cklVhYNhSFW5uuk9OciyHpSbeXY+pPB3SsI8S19fguH7cpmCiTNPDnRMofPmsgWVA85O6+mfSoLCWHlwQ34YkOukgfY4uHPApWRNUhYSFSE+i2oQ68YZvCVR8WDMcSAKiaoHB2WqSF+otGvVXqgjZ/E8ikziWU0h3rlswMEuJC7BMJbY7oGkVsuRhLGdOJMmgWKiakICRp9S8aJ6EEse0sDfHYm8N3F5iW1I1ZFLe9bUrm4kX7RHgsrYrfuVS17cQElCe7/KAy1xZ62fcF30gEhDF53d5UfVSQM7Wc4IOLCyU2TnyNREGrgcwcGMs0euN29pqDtnFhwkOJPizCmkbpAGDjh1aZ7PZ+fETookibPqeuJsnHXmzJu77CmpMgXSQCmX71tPYQMelzo4CFiT5cgliQvrElKVNJBM1I9qUm3gjJbHCXmsMKSwWe2FALjU0JS4B4UnOegb+ogpdN7/r1yeaCrH5QMqSnWVKmAZTxxY6qSB+WGw5qyba/ghcZ/Gu8pZP8mcJ3FJi0oRiRJnutVEgkJFiOShmkI9SIDObnhYGFA5+NHHTCQX/B2RaIQjnvWiHAg5a6ca9aAyMygsnNk/1fhiHtJAUsI2aZUYF1SoqDqQkFGJY1/PpS0qKSQ0XFKwpnZ1Iwln+/Gd/67BIJU6EnmqHtx7EU60WOLOWj/huugBkYYuOrvLj6qTBj7+GSVZ4OyPMiVno02kgfseuIGNMihnrk2JscMZLWcW7JRCmmnS0G4T3L+UMviHSym5qd6cjbJzryoogTS0WlvnjJnkiD7lhjNrSlmeaPWeJD5Bdq7+fsPA3u5OCHbgJFzVDbGh864vW1TfkcSF+01ImGi/njiIc89CE2mgMvBxAJTrecY/JK6J8zIj7lMgYekkkdTy2VzP5zIC92vwb1Qv2MbVDbaBNLA+TZsBqYRwPwsTBzcS5bCHgv/N30NT4hIOCRXX8fmbYgqqBYkR7zewJA9p4MbfVsdJ6Q8uw/F9WiX+/jl5sKZ2deNFVFS8uFzIPTj1xBhlH8GJCHFUyJgscWetn3Bd9IBIQxed3eVHNZEGqg1c6+f6Kzc4cXbaRBq4eSvMRC3VrsbRTJOGpoEp1JFrvFwqaTXrIY57MThj5oYxbrJkqm6ErO4ID3brJxosPiEmhTS0e88mH1MCryo+7epYPTpX3cUedunXy5JcMnboB9arnvhcPr+pzlQCqIyQWHLWSyWA6+vcN3BzqfpU196tvm3CcdmNG0E5YNaXUgJpILngvpB64r6AsHxCJYoEgnHCeLGk6rsHYsolQRImS/KQhlb9NtuI5IXtwX0Y3PfC3zs30dLH7dqpXR3b1Y0EhCeUSNKotjQl7kPhhlMqHz8uAZa4s/hNmC57QKShyw7v4uOaSAMfH46tcR2YM09K9PVrpDkj4AyCHWfYAW2tehjQOCNuWtPnRsODKkfEgl3rRsh2g2mq0lA/Rhbq1g+kIczcueeAA6Y1WTrvoDS0OhbZTmlgPaj88Agr94b8a3kSgccX26kb1vrXcWGJiuoAFYN6fFFtayICJDRhP0dQGriPgdevc6DjgGdN3BPDjY4zpTS06rd5hPSCkrxxYlA/XsulKS5RtfsNNb3jTCoN1SOlVv8Ktx89INKwH50/w49uRRo4mFNq5bl/duSUquukgbNDzk44c6Gcbd2kxlfiWjt3t3MNuHp0jHnsjGmXKZwrD26glMxZfqvbEy0Dd+qehn4mDbyHgYSQxwNJnqzJQhq4RMW18FYSdFiCaDUYhT0h3FTI/+bMk/FhuZvB+h4BF+6HqC+bBVLKexV4oqOeeA8JZ8rVPQ2U8Ll5lPHP34H1WxbcEEkly7OnwXKBUkzF4/4JnpIhaeGG3noK+0hykobUPQ0iDd4I3894kYb93AAz+PhWpIGP5LE6XvLEzoP/uJmrftsbz5hzTdf7o+aaJde+m9aqucucs8sm0kA5lRsC60ezgosspIHyKzv5VqcnnlBukGt1eqKfSUO484DyNGf+9V3srULNQho40PLiHkr/D20wFDZYthuMKJOTqNIONyNa72aoPo53H3DjaP1kSBXzpnJDXv1SqUAaSAq4wbE+Cw9HdbnfgSQoJNohufHchsg9Dnw/tgHLcj9MLFmuao6RBm425d6RJmWEez24hMR3z0kauBzIZcFWpyeoLHFzLo+A8tsyIVniLuYz5e8HD4g07Aend+mR7UgD251ryhzcw7cp6p0iN6nxfgeu9XLWxA1d4ZgeX4FyLskHO9/q3QVcR+UNklze4Kwv3BXA/yZRoYpBm3WlIXQu9fsHPKSB2ND5c8Me5eVwARCPzXGDGOtdf8Zs2NNABYmDBWfyXJ7gCQKuN4fEnfNcdya54H4WT+ddvaeBJJIz6XBPAzt/tnfTPQ3VUH9FeS8BB3y2v/VuhqoNDoq8ZImxwhlu2LhIDPdMUDnj3QfcdMflD57OCKl6TwPjkN+nIHnkb4G+ok0qCVRUql+ZJIll3DD2uXmWUn2VtHCTLGf4PJlUPaoblig4UHNvRHVDMckt3yUQaNYx+IfqBBWdpqW9GGngqQ9eeEb/Vk9IUeHjsUieNuHGzZykoXpPA/3KI5jhQ2G8zZQKCuvT6p4G76SkS92nHtPKAyINszc22pEGvnWYmQYPNM2kuC7L9V92DJw1cRbLExUceHnTH1N9AKaMS7WBHRgJBTtTHh2kUsBb7NjBcrZTJw08BsjZCBPVAm6SYyfJMtx3YVEaWLZ6IyQHtnAjJGe5TBxQ2XlWZ+IzTRpiX7kkIQtHBC3v2WrwYLvwJAKVBqZwR0L4AiQH06r8Tox1xsdBiAMA+wzuSwknSXhElTcU8sIsEjRuimtKvBuCyxIkFyGGPMtetBn2GAT74QuXPE3AmArHLznwcu9CdXCv3wjJ2ORRQG6aDCcNSH6qFy6F53CmzDbich2VDsYn24C/gXAUs37xF1URtgX3GTDRXzwRE8rUB2767Tcl4WEeb3okiSFJCZ+sj5EGPof1JwFhog22FWOfAzfvduAHp3KSBj6Hxze5uTQcqeRvnn4JfUTTxmRr3LUIJ/15f3lApGF/eX7mnxsjDWx7HpOjosDUSn5lZ8x1csrS/G8OxJzhsYPjJjFeeBP2KYS34uyLgz1ntpzZkGzwciR2fvVvT1Q9QULBdVfugue+iGq9LINpsMWynGmGb0+w82V9w7cnqpcMscxMk4ZYa1f3IVjes93gQUWBSgL3qlBJoi9IFDhQhMuP2KmH5Om82Z7h2xOsA+OHJ1C4gZDEiOpViKemd+Y9DbzCm2qQ924G2qOawuOVXMai1E0FJFwBTZLJ2TxPKzQd4ax/e4LvXf/2BKX9VonLDFQauPeBJIOkg6SFBJmqApfXeINnNZEgUf2gcsDy4Qpw7u1gPalgVBOPjPIOCZI+Ej3+Rlt9e6JVPVmG5IDXrPN3yA2h/MgX24lxUP9GSCw2mW852cG+IXx7gm1CFYftQbJF39STJ+4sdRSmSx4QaeiSo/UYeWAWeyCoViQFlN1bJS53cVaacjdDp26Mnc7p1K7KyQMHlAdEGg6o5tbLygMz4gHOmP+s3NvQJO/zoVSPqEbwzgbK1rnuZrC+kEiD1VPCyQNtPCDSoPCQB+QBiweoJnAzINeuw4DPPQSUmfkBLMrR3ODHZYJ64l4A3pLIPQn7a+ObSIOllYWRByIeEGlQiMgD8oDFA2ENmhtIeYSQa/q8NpmnFkgiuFGSd0VUE0/McJMk19apLnBNnWX4jY9uJ5GGbntcz5uVHhBpmJXNqpeSB7J7gJvzeIqAd3pwZzzJAnfm8+uFPAbZ9I2S8GVVqhD8SBI3uYZvD2SvYMSgSEO3Pa7nzUoPiDTMymbVS8kD8oA8IA/IA/k9INKQ36eyKA/IA/KAPCAPzEoPiDTMymbVS8kD8oA8IA/IA/k9INKQ36eyKA/IA/KAPCAPzEoPiDTMymbVS80yD4QNhbxFkP+tJA/IA/LAfvGASMN+cXvxUN7Fz7vueSUuv8PAK3J5PTM/z8t7/KsfG6rXktff8ijbvQDw3n1eDfuf5b3z7b5ueDiA15fP5PN5BO4bAPhlwOrHfyxeCdcdByyvB+aXMVslXtEbbgts9TVJy3OJOa78bkD4b34UqF3idb68VGhVebV0+M5DtQxPAdy7vJY4fGTLWh8Pjt8A4JcBec3zqQCWlkcQ+Ux+KIm7/HktcfVYYr+TBl6JzDsaeAST10Dz+CWvoWbc8orhd5bt08qP/G3wA1e86pxtz+OevMKapzYYv/sj8XPy/I4Jv07JUyWzJYUr1fk+7caH6u+//h2ZcO101Se842NzeZ05vwDK/oBfR236MBfLhSO+VRu8Dp7fK+HvhN9B4WfAq6la91h7aOyLeahFvhzXoeMSix1ffpyJAze/g8AP/fD/83IcfquBd9jzq3AcXOuJX8zjjJMX5nCgv7W8154DI4+98YdTvwOfNvjRGg6M/MAQf7w8a8+P5PAjM+sB3Kf8RoT11eqkgQMxv/XQlPjxHl76ww8mMaWSBtoIVxKT8JAItUskNLzimO/ND2nViRV9Qj/ymwC85nimEgkCP74VPmLEDxjxq4QcFNn24Xsb/KBW9bsE/HAYPyfNjpb3+/db4uem+cVDJn7wibHHd+X9DYxjxh/Jc9OxTeaz7XjjJAcN3ipJEsKBiokXS1W/Ftkt3/ALmjxC2upT7t2qR/U5/NYIv/lyWulfxjsJKH8f9Lsl5SQN/E0FQk+yzA/Xsc3ZVzHxWyX8sBg/P15PgTTw2xkhn+XuAID9CRPvBWH5QDyqdecXX9sl9ndKHXhApKEDp2UowhkKZyoMbM44+eEbJs6EP1p+1IezMA7qVSbOgZoff+KHb6hSsLNkPj8Ww5v6SEbeV87KqtVkx8vz8SQOvJnvL0piwY6bH3F6XJnPs/jsmC0pkAZe7MOPUFHF4IDMjqqe+PEcfl2PXxVkHXOQBs7u+DljDkAccNslfkaZH0j69/IDQnUsiRi/5vn35WefLe/fCeZDAJ5bfu2QnR0JREhsIyodVBU4g2KMzJZE0kBFjO3Ftg9fn2R8812pPpA8MTaqn1/n+1NRI2GiEsOPpnGgYeJHoGiXfRiJXhPhmEn/8UuXjHn+ZtupezNZh7ptftab6hWJAj8ixy/H8uNdVHPYz1hSTtLQtJzG+z1IEEkKSHI4weEA/sta5QJpqPcVJNj8IFf47Dk/csevmjJZ627xgzAtPCDS0P3Q4NW7ZP0Mfv7A6yybLJozL7YNB/nqFwlJCF4A4NtlB1qtPZcqSEKoWITb90I+B0wOnLTLGVp11sFZGwkKOz+Sh3Zf+qs+r0oa+OlbzmaeDeAjDS79UbmUQgyVgRykgfXlkgNnH5y5U3loSpzdc8ChgsMvI4bPb1exXNphp3p6Q+eVK0I402JHTqLGWXf99sRcz+lFO1RyWn0Gm7HKpTiqUPX449+oUPE3QZLAdqqmD5ckkF9a5fJHt1JYHuv2czt5P36JloMpZ/mWZB14LcsT7fbgkDxwOZOTJ7b/CbXvkbQiDeEdwhdTq21grbvFD8KINPRMDPDHG9arOfvibXn1RNmag2KVVJBEcDmCn519ckkC6uVIMPjjex4AdqghhUGRs32Sjnri36kGEMfO2ZKqpIHPpAzZRAZIUrj8QuLAmTZnh61IAwnV35SqADtmDrSc0XGA5ae1uZZdTaHjaFJXAo6fiSaR4aehWZf6Gipn+LzZkDOeIyrGqzcIcuB6M4AHlIM+P7N9bos2aOU7fk457BvhZ5Ivszi5xKTsaeDno8Mni1kHEkbOyunPpv0A1U8WczbHb0VwMOctkFQDOBBw5h/UAsdrtIRSPWCsU1WgX0OiskA1hhL1QSUhrhqhwkCyyLg42CHB0waXBtmmXAoiqaFaxnfjB7eo8pBgsr0ZB/X08lLlo2r0b7VM2uIntLkkRiWFkwP6jTHP+K/OqKufOOcSFJda6Af2CXzvV1e+5cH9HNzXwd8a86kmML9J2QtVovLHPoG3cdKXlmQdeFNJA+vC+tHvVE6rigHzYqQhtAHfj5MrJmvdLX4QpoUHpDTsn9C4vlQDHgLgO7UqUKLlEgRnpSQIQfrkEgR/YEwc3Jo2LlJ+5yY7LnHw/4dEJYE/8lYzXP6dgzkHd3Z0llQlDRzcf1LKxPw73y+kvyvVBRIZDsytSAOlXioo7AA4IPFdqZpwDZP2STror6p8/QQA3EtBkkVfNQ1k3GzFzv8tAF7X8GIcHDgwkGSxjiEF0vCKsgNjB08Cw0GYAxQTlxi4rGFJVHTYwfM3RyLDjVzW1Clp4KDKwYdElQMN44qDfyBHHDS5JFNNobP+l3Kgof+5j4A22LZMrZZ5rO9Tx3HZiiSRgy3JTEhUplgfDuIPbjDOuCAJoorE6625Z8eS+P5U5diWjDG+HxUg1oFElO/ajjR8r8ynnRsrD+ReAi4FkJxxmY/+HinX8al41WfegTRQbud7c5mSaiCJAQdSktM7l0SKGP4+Gf/sI/juJCKM7abNhFRpuGR51/JfVbFs5yPrwJuDNLAeXFrgJIi/I/6eQoqRBv4uSfBEGiwRnxEj0pDRmQ5T3FPADoSdBDdTcYDigHcPAOys2SlwAKvOYh5UEgzOqijtNXUUZ5eDIztPdqJM7DzY0XDGwyUMDu71FJY22NGxA2ZHGkt10kAFgzN+1oEz0ZA4IJDwcFDnZrYm0sC6sc6sBzsR+iScYGDHzHVvrs9yDwdnYyGxY6UKwE7+keX6bbXeJCIkMLTPjph1qSd2POyA6qc/AmmgLzhD5HNJ4Pib4ftxlscBgwOP9TPPJD7ct8CB7h8BfDFySibUtRPSQNWGHSrrx6UpLh2FZSl+XIrqC1WW+ka+0FnzvRkrnAGGgZGzci5fsRw/PMVBMTVxoOVueCauyXMzakgcSLjfpE7oqs8kkSOxCWTZUp/wKW/u4ucMP+wpYoxR7iaB4LJXk9LAjcNUprisyAE9JJIC/o3+JlF7TsUuMbTNvOqyVPgNk9ARH5ZfGPMkJtyrw+UF1oNfGeXJKibuBWB8UtVo2ojJ9uHviEs2/Oc5YdJt0kD15L3lb5O/0ZBipCGojFzi4G+XyVp3S4wI08IDIg37LzQo+XIWfsdaFbhhkQNSdZMcIWFfAgdTynpN6azyCBhnTuxYmDgr5i5mplYdPf/OWQ0TZWDOdmKpThrCHgOuTwa5MMjHlFLZ6QVFo748wcGInTVlcxKHumJAwsHBgYmyclVtCJsL2UlygKsmbhal3E273GzXlDiw8l1Y/+qpk0AaKJ1zr0N1gygHFJIRtoNnHwSlZyoffFZIVElYPz6Pgwal7HrqhDSQJJB0Ml74fvXNemF/TJVg8rmhs6aPOfMOA2qoEzfSMnZfVtmMFouVVvkc3Dg4ckClX7i+XU3cxMdBkW3IpYum9NOybUn8eAQzloKSR1LE/6YKV03B1/xbE2ngrJixVj+1Q1LJo9KMJ24ori+lNdUrkIZ3l0S5iuHSB2Ob6aXlZKKaT+JKn1ChoEITEmOTJJsEnX0GfehJnmOLwW6rI5eWe0VIakiMuGRLEhRSK9LAMYvvGzZCVtU+a91JOMLxb49vhI2cw5WDZs4DDHyuyVFypJTJjosyJmcWlB0Z1Oz0q5vH+OPgSQcOKpyxNKWwfl89UcCNZmG5gEsPlDjricegWIaJ+PpA0fSsOmkgJrB/zsB4jp4zCM4kOJtjx9CKNFCqZ2fNExE8996UwjIDBxjO2EPizmsOfBzwOYhXN3mSgDWkNx4AACAASURBVJE80c+sS6v3pqTMTraaAmmoS+YBQ1LHdWIukXAgtSbWkWSGe0e4VFBNHMiofJBMVklKJ6QhnBjhJlXaq6ewmY8qCWfPYW9N6KypKJAc1FM4zcCTENx/kpJIBugLthkH2hCDwSZn1g8s9x7Ul1EChhtbGRN8R75rLIWZLZcFudxVT1Ta+LujmtdEGsLxUZLQ6omNoCJxb1AY7GN1CaShaUM07ZMQMbF9uK+jmni8+XPl0VySbiYqb2x3/iY4GFd/J7G6hHzrsUU+i8oQUwppCAoqJwrhKCZttjpyyT4ykAv+7uiH8Fux1p0xQ0VUqQMPSGnowGkZioTZ8QWl/Br2KnAWTdmYUjsHPM5ig/Td60oD3RLqyCUWzrwoa3M2SaWApKgVaaBMTKJBhaTVxi4OclRNeMqBnWVIjGEONuy4KLuTWDGRLNCH7IxIzCgp1xMJAevKpRVuBq2mQBqalj2I43NI5Digc0bVSaLCwzVnzrApsYYd7uGUSbDZCWmg5E/pv+nUAe3Sb1QfuHxFXPhkdeis60tBoS6BmPICH27O6zSFY7hsH876mmbEM6E0cFZPEklVgupEUwobM+ukgctcVG5CTFWXCKnOcTCjchiOhcZ8E8pzOaR+t0rYQMy4Zb9QT6wbiTTjlP/NFJY9qRLV7ZGUNalYdbtWiT/Xnga2PQkqiVpVgWt1uRP3ejFW+ftjDFbbwFr3WLsov40HRBq6Hx7soLmDmh0PZ/71HzLXRjkIcpmg2uH3+p4GepKzNO4x4GDEQYGdwQcBcNmEqRVp4MmL2F0LoaU4ULGzqCZKxZxpVmePlIpJXLh+HWZi9dYmnn7lnovq5k3iqqcnmnbQh1vvmurTSVSxw+QskTNrzvr5v4PE3Qlp4DIR44vvF9bC6/WiosR9H5yZhstwqqcn+N/11Eld6jYo8VNCZ/9D4tXq+OlM7GkIm4X5bjwZ0pSCalAnDdyPwrz6RmPaoEpElZCDKU/qWFL19EQdHwZl2gobUKuYMEDmOL7cZJd/S70R0rI8QQJHIsf9MSTRIcX2NDT5V6TBEnWJGJGGRAd2UDxsGOSROx69a0phhsXrdbmMwdTrpyfCe3AdnUsrHIS5jMKOlooKUyvSQBLFGRp3yHdyqRE3wnHPA1WZcEcFO1tuKGt1PJWnGbifgJ0ViVw9dZs08PncCxKOYlb3SnQyUKcqDRxQZ4I0cI8Cl6ooRbdbjqI/LKcntpWyvPX0RFAaWikpfG4rpSHsI2i6z4QzZd4n0YnS0NQPHyikISyjUTmgUijS0MGg0s0iIg3d9Pbks7jJkVe9tiMNXGPnrWnVe+3ZVpT7uSbuvachHGuaqXsaOMMKKRxh5P+uH+FsRRo406Sq0rThy9pC3OnP0yfcoMdOn7NrrgNz30DTjX3cmMnTCzzFcE6PkAYqNWGTJ98lrGl3QhpS9zTMBGngwM69INwvwLsj+Dtol/itCu78j93TwKUvKnOWq5LDTaJNF6SxLlyr56a8pj0NPB3BZTKqQCQr1cR9NVRsOtnTcKCSBi5bcj8XfV7v06Q0WHu+LuNEGrrs8HJzGTfwUM6MLU/w6CFnRiGRRFDqj90IyRk+lwlCCpumYjdCciDlSQdLatoIyXKMKQ7G3LzF/8/liZBakYYwgHPWz7XXTq7lDQoON2CSNHDZgPtDqHo0pbD5stUx1NxKA4kV1Y3qh6jq9eLSBMkON3aR7FAJYeqENPAIIqX4VqcnuJGRAyg3hZHohTRTyxPcs8I1eC6/ccZu2YjGwYS3fsZuhKweu4vFbtgAGu4AqS8lhH0BtFNdnuBvithWZCNcNsTJAFUiEplYOpCXJ6o3QlIlpMpWPbos0hCLnv2UL9LQfceHr1JyZtRuIyQHTq7zVy9x4uYoDqzcvNbq2xNNagI3I3KTIc9B1789wXVHDtrMp0zfybcnqkpDO4+2Ig3cYMY1dc6uuTxBYlT9yicHD67Ns57ciNeUqtdK03ectXONs+mjX4x7Dkb0CwfnpnfOTRq4yZGDTrgVk/6uDho8vcG245JK/XriTkhD9Z4GbhwleQqzY7YDSRPbrdU9DTmVBh5t5F4Axrz3q5Dh7hGSYCoPTd+e4DXiQZWx/KLDPQ28KZEne8I9FFxKo+9J7ur3NASFotVJHJahEsFlRC4v8p6V6m+XKgTzmu5pOJCUBpIFtiPji5uVuX+Hfq9vHhVpsETyfsCINOwHp5dLD5zRc2Aju65+5ZKEgJsk2ck37crnTIgdfviUdvUrl7wYh7PGpqupuX+Cs0rO2nhCgYMySQkVAa7H8thauKvB4pVWSkMnpIFlKFWys6XSwMT6URlhZ8x60i/t7qhgGa6Vh28QcE8F69h0CVa4P6K+jlqte27SQD9z53dIVBx4aobtyFls+HIfyQT3dlSVok5IA5/D9+StgOFIJe8QIEnivg+mpuOYM6E0sA483si24DJSq88hc4Mh/1UTiQ2VBA404SuXJN48JsxkWeaox2T9RkgO9jzBQHJD0kCCx6WU6j4JLpOwDnxu/W6HYJ+km8svXEJkXelvKhok+2yDVjdCzlbSUP3KJQk6Y7z6lUvuu+FGWMZ8PaWShthXLvmbqk5MLH2eMLqnYb/GAGVSSpqUpNmJh9kvB3YeA6TM3ipRUmdnyf/Pzo6DDy8G4rn3dtI+n8Pz7twvweOLPM7F/RM8fWC5m6Fan9ykgbapKFBJ4LFKzkL4biQKnKHzpAOvjG53HW5Y5qCtdhI4r0/mldJctqHNppSbNPAZ3LDJmT1JAYkQj4KGewF4jIxEkoNmXdrulDTwmZzdhm9PkJiRUPJ+AS57se1bddY5lYbgy9gPrtUzOeDwfgUuOdGHHIhJkLlR2Ht5UagDyRPjnkddOZiRZPIOBu6zoALIOwhIYDmwUbUhgSW5Xxt5CSpe/F3TLskCJwX8bdEHVJmqM+rZvjxRdRX7JU5W2FfxiDVPVrU61cNyqaQhFmuhbWM45dc8IKVBIXEgeoCnNdj5Uy6vX5pzIPpD77zXA1R+qLxRGeC9C1SEwq2FPMbLjcxK8sAB6wGRhgO26Q/YFw9fm2y6tviAdYpefMoD4SNoXKoLqkL4BLf1WKfcKQ/MWg+INMzaptWLyQPyQAsPcGkifLSr+p0V7lnghVJcYmi14VFOlQcOaA+INBzQza+XlwcOSA+E/TjcU8D9Btx0ys2R3PPBxH0SXJKwfr30gHSiXvrA9IBIw4HZ7npreeBA9gA3NvLIMpUFblbkRkh+q4G7+LkZkvd71L+0eiD7S+8uD0x5QKRBwSAPyAPygDwgD8gDJg+INJjcJJA8IA/IA/KAPCAPiDT4YoD+4u57yx33PstCywPygDwgD/SLB3jpHG8SbXVRWb+8h7ueIg0+l/Ezwt5LkHxPEFoekAfkAXmgHzzAzbPVq8L7oc7JdRRp8LmQH9vZfP3112PZMt790j5NTExg165dGB4expw5rV0dw6Xkj4+PY+PGjVixYgUGBnhvTW+n2Lvmqn3O53Rqy1vOirfg2mHa5fVbPDFeLP7IEVe5npNix1vWio/hUvL7LaY2b96Mo47ize/FBWAH3OVwIg2+3qIgDZs2beor0rBhwwasXLlSpKHS1rFOzhMWndrylrPiLbgU0tBP8STS0B8Tm36KKZKG5cv5eRKRBk8/eaBiRRpmuOUtA16OKuR8Tqe2vOWseAtOpCFHFE23YfG75akpdrxlrfgYLiWfSoNIgyUyegMjpcHXDiINPn+50bHOx22wRYGcz+nUlrecFW/BiTTkiqS9dix+tzw1xY63rBUfw6XkizRYoqJ3MCINvrYQafD5y42OdT5ugyINjR4QacgVSSINliWgdvEm0pA/FmfSokiDz7siDT5/udEiDa1dZvWNBSfS4A7NaAGL36NGEjdueutgxcdwKfkiDZao6B2MSIOvLUQafP5yo2Odj9uglAYpDcZTTKmxlSt2U+x4y1rxMVxKvkhDauR1t7xIg8/fIg0+f7nRsc7HbVCkQaRBpKHlz8b6e4vhUvJFGnL1at2xI9Lg87NIg89fbnSs83EbFGkQaRBpEGnI1XHwzL2OXGb05uw3JdIww20s0tDawVbfWHDa05A/kC1+tzw1xY63rBUfw6XkS2mwREXvYKQ0+NpCpMHnLzc61vm4DUppkNIgpUFKQ66OQ0oDRBp8wSTS4POXGy3SIKXBHTSRAv0WUyn19Za14mO4lHwpDbkjfmbtiTT4/CvS4POXGx3rfNwGpTRIaZDSIKUhV8chpUFKgzOWRBqcDvPCRRqkNHhjJobvt5hKqa+3rBUfw6XkS2mIRXBv5Utp8LWHSIPPX250rPNxG5TSIKVBSoOUhlwdh5QGKQ3OWBJpcDrMCxdpkNLgjZkYvt9iKqW+3rJWfAyXki+lIRbBvZUvpcHXHiINPn+50bHOx21QSoOUBikNUhpydRxSGqQ0OGNJpMHpMC9cpEFKgzdmYvh+i6mU+nrLWvExXEq+lIZYBPdWvpQGX3uINPj85UbHOh+3QSkNUhqkNEhpyNVxSGmQ0uCMJZEGp8O8cJEGKQ3emInh+y2mUurrLWvFx3Ap+VIaYhHcW/lSGnztIdLg85cbHet83AalNEhpkNIgpSFXxyGlQUqDM5ZEGpwO88JFGqQ0eGMmhu+3mEqpr7esFR/DpeRLaYhFcG/lS2nwtYdIg89fbnSs83EblNIgpUFKg5SGXB2HlAYpDc5YEmlwOswLF2mQ0uCNmRi+32Iqpb7eslZ8DJeSL6UhFsG9lS+lwdceIg0+f7nRsc7HbVBKg5QGKQ1SGnJ1HFIapDQ4Y0mkwekwL1ykQUqDN2Zi+H6LqZT6esta8TFcSr6UhlgE91a+lAZfe4g0+PzlRsc6H7dBKQ1SGqQ0SGnI1XFIaZDS4IwlkQanw7xwkQYpDd6YieH7LaZS6usta8XHcCn5UhpiEdxb+VIafO0h0uDzlxsd63zcBqU0SGmQ0iClIVfHIaVBSoMzlkQanA7zwkUapDR4YyaG77eYSqmvt6wVH8Ol5EtpiEVwb+VLafC1h0iDz19udKzzcRuU0iCl4QBTGrZ87WvY8bq/x/K3n4sFD31o25+M9fcWw6XkizTk6tW6Y0ekwednkQafv9zoWOfjNijSINJwAJCGiZER7LnmGuy+7DfY+tZzMX7TTZh3/HE45L+/gzkDA1qeyNVxaHlCyxPOWBJpcDrMCxdp0PKEN2Zi+H6LqXb1Zd7Epk0YWLFi6rVve+zjMHLRL4E9e/Zxxcp//zAWPPzhIg2xIHHkb968GcuXL2eJZQC2OIrOCqiUBl8zijT4/OVG91sHzxfstM7ecla8BRcbmHbt2oXh4WHMmTO9i+g3KTmlfbzBa/G7xWawMzQ6ij1XXIE9l/8Wo7/9LUYvvxyjV1yJgZUrsfpHP9hLGs58HEYuvBBYvHiSOOzaNZk3MIB5dzi2rdpgrXMMl5LfbzEl0mCJYmGCB0QaZjgWYp1PrsfnfE6ntrzlrHgLTqQhVyTttWPxe9NTJ/bswdgf/4h5t7tdkU07tz3jmRj93veaKzk0hMMuvwxzhoeLfBKKOUuWYM6CBbj5LncDdu/eW27+fKz5xYXTlImqUWudY7iUfJGG/LE4kxalNPi8K9Lg85cbHet83AZbFMj5nE5tectZ8RacSEOuSPKRhrENG7D9Pz6GbR/8EAZPOw0Tmzdj9OqryRRw2FVXYM7gYEEa1v3tSzDypfMwsHo1Bk86EYMnnDD578QTMe+YP8Gc+fMbX2Dk0kux84YbMTQ0BIpEAwcdjKGT17Z8WUusBCLTSn1KzRdpyB+LM2lRpMHnXZEGn7/caGsn5jZcK5DzOZ3a8paz4i04kYbUCNq3fNWnzB274QbMPfzwqSWeja96NXZ8+jOND56zaBEO+fY3C7WBdnZcdx2Gly7D3JV79y5YamxpeykNFk+2xmh5Is1/B1rprpOGnd/8Jja96jVY+A9vxtJHPXKfNeYYy+83Fu/t9DoNwJzP6dSWt5wVb8GJNHQaOQ1kYWwMe373O4z8+lLs+tWvMM79B5deVmxYPPSCH2He0UcXhba++z3Y8ra3TzOw+IUvwKKn/znmHnHE1CkHS/u1qr23rBUfw6Xk91sfJdKQ77dzIFjqKmmYGB/HrX/6YOy58krMWbYMi573XAwefjjmrllT/BtYsxoDCxa03YjXbz/IWOeTK8hyPqdTW95yVrwFJ9LQWSRNcL/AwECxjMC07WMfx5Z/eAsmdu7c1+C8eVj1iY9h+IwzijwuTax77OOw55rfFcsRrTYqWtpPpKGz9stRSqQhhxcPHBtdJQ3bv/wVbHrR37T17pzly3Hwf30Ve1avLna7j/zsZ9hz7bVTxGLOoYdi08gIVq5ciYE257V7pQlTOkzPO+R8Tqe2vOWseAtOpKF1tAR1b9mb3oC5q1cXqsHopZdi5NLLsOeqq6YRgR1f/Ro2nvWCYhPivJNOwsAJx2P4tNMwdMrJGDz++Gl7D8Y2bMTNd7lrdKOipf1EGjy/9rxYkYa8/pzt1rpGGqZUhquumpyVAJizdCkGTz0V4zffjLEbb8TEjh3F31dffhlGBgcL0rDpNWdjx6c+Nb0dFi/GvMMOw9zD1mDFu96JuYccUuSTXHCGRNWCSkb9eN3+aMyUDtNT35zP6dSWt5wVb8EdyKRhYnQU4+vXY2zdeoyvX4fxdesxeOopGLzDHcDf3S33vg/Grv9Dy3Ba+vd/hyXPe26RP75lC8ZuvRXzbn/7Qjlot1mQeBKP8XW3Tdlu2qhoaT+RBs+vPS9WpCGvP2e7ta6RhtishB3LxNatGOPNb8cdN9VZcWf2ru9+t/j72E03Y2LL9LtH1lxxOQZ4nhvAxle/dopgcKa0d9mDyx+rseQFZ2Fg6VJMzbzO/ScsbHNRTI7GT+kwPc/P+ZxObXnLWfEW3GwiDcVvYdMmjK1fj/F1kyRgbN06zL/rXTG49qRi+W7rBT/BzrPPwdi62zCxafM+obLs9X+Pxc99DnZ+/RvY8JxJQsDEOxGG7noXDJ58MgZPXovBtScX5LuJYFv8bonRFDveslZ8DJeS329LqCINligWJniga6ShOiuh0DAyMoIFhx+GoZNP3qc12v1g92zZgg1XXIElO3Zi4rbbsPAJj58qv+mc12Hn+V/F+MaNjS1MgkGN4+bjT5zK53LI3IMOwsDKFRhYtQoDK/lvBZa86IVTZGTs5psxMTaGuStXFrKtJ8U6H4+tdticz+nUlrecFW/B9TppGN+5syQA66YpAvPvex8MnXZa0bS7f/pTbHjBCwuS0HQbYlAE+K7bfvYzbHncE/aGxMDAZPwetApzVx2EhU99MhY8+tGTe4iCujdnDuYdd4foVczBqMXvlvhNseMta8XHcCn5Ig2WqOgdjI5c+tqiq6TB2hm1+8FafpBcouBAT2ViUqG4qZipLX/D6/eZebVy15qrrsDAwoVF9saXvwI7Pvu54r9JGorOedXKYtZGkrH8zW/EwDLewAqMXnFFIfEOrFiJuatWAkuXYvfISONthL6mao+OdXKeZ3Vqy1vOirfgukka+F0EEtOd3/4Otrz1XCz+67/CvNvfbkoRGH7QgzD/rneZJAI/+jHW/+VfTS291dth6d+9Dkue/7zizyMXX4zb/uxRewnt0qVFrBWk9qBVWPi4x2HBIx5eKA0716/HwBVXYu7BzDuoiL85c+dOMx9T92IxYfF7zAbzU+x4y1rxMVxKvqWPsvitWxgpDd3y9Ox4zqwkDa2aZp99FXPmYO7RR2H5uediYuPGYjf4OP9t2oTlb3zDlJmNL3kpdnzlfGB0tNH0NILx0pdhx+e/sBc3dy4m1QwqGCux8sMfnjqrvvvCC4u9HCQYe357Bba8+91Y+sqXY/597gveZDPvdkdPDQSsW7Hno7gGec6knDwwZ/J/z5mDOStXYvfoaEFOJnjtLv8VmIEpzBSW1ymXm0ipoBR7TEos7TZ1mGFJp92XBqvlCgeMj0/6gfar//g37tafM6dYhprPwY6+DZh6mQULsHt8vHg3jIxgx1e/is1vejOWvubVmH/3u2Ni1+7inXdv3YqFa0/CvLDH5brrsPv7P8D47l0Y3bYdc/muu3eDJwZYZuETH4/BO98ZGzZswOLf/774MFLIm8KV+GWvO6c4SlgQgR9fgHVPenLLHmDp352DJc9//iQR+NWvcNsjHjmJnT9/igAMrDqoiIkFj3wkhv/0gZPu2rkTe66+ulAKSEpbXXgUG9CqFbPsOWj5e8n0YSxPfet18Za14mO4lHyRhv4aHKU0+NrrgCINKTMvdiLcc1GQivUbSoKxHuMbN03NFOn6zW98E3Z+61sY37CxwNfTYVdfObXEsbFOMGrgNZdeMnVdbruLdFjs0J/9H0ZXriwG1s1veCO2//tHWkbCId//Xwwee0yRv+Xct2Hre967L7YkIwd//b8wuHbt1FHZAjhv3r5kAMCq876IiVNOKeqw/SMfxebX7yVe9Qes+synMP9+9ytIw9iXzsPmV7+mZX1XfPhDmPPABxR2d5x3Hja9+CUtscv/9b1Y9Ngzi/yd3/gGNjx773p+vdDyt52LBU99SkEaFv36Umx4+jNa2g17BAjYfeHPi6OGYUNv4RLebnj8ccWsf/jBD8bwfe9T2CKZoerFv/PCoxybc2MDmq8LaI3O9ZwUO96yVnwMl5Iv0pArArtjR6TB5+cDijTQNSkzL59rUcxax9ZvwM6bb8Lgtm0FwVj4mEdPmdn6vvdj1/f+F3uuuxbjN9601/zChZgzbx5W/98FU8se3K/BJRJ2ZtNm7ZzNT0zg0J+SNKyYJA2vfyO2f8RGGja/9Vxse++/tny1g7/1jWLnfXUzXStwQRpOPdVGGj79Scw/4ww3adj8xjdi+79V3m3hQgwsWVzMyicGh7Ds7Ndi4cMeWlSRs/yt//o+zBmaj7F58zBv0UIM8Lri+fML/PCD/hTz1q4tSMMyXmj0swsn86jEDE9iwr9iSWopfy7A+NgYbnsQ9wpMXpds+ZCSN3ba4WMDWq5n5XpOih1vWSs+hkvJF2nIFYHdsSPS4PPzAUcafO5JR0c7n3DhVdisZviSX1Otpi0NcCAjmSgJRSAZgXBwX8bU8sTOncVsePIU7GQ5LuPs5rLB0FChdNz2sEdM30x3+9tj1Wc/M7l0Er4aySWSZcv2LiPs2oXxnbumssPSyNQSCTeUzp27d3libGzvd+1LlSMUnpg7t9gXwvq0GqzDUkfTlyzbtUEnHXyKYpUeUWl7BDzPj8Vu1daOr3wFC8+cVHjqyWOnqSyvoN5x9uuw8p3/XNwzkYNQxeqUkt9JTHnaJTdWexpye3R22xNpmOH2jXU+uQag2HM8r1m1RXXEcoFPQTmca+BWfMAN7dzZ8quH3DfS6k6B3KShUDEM9xN4fO7BWv3msWkZ7Nc/6y+LvSD7DOy7dxeqDk+BNO3DmLN8GRa+651Tm4FJMHZyj1CZwqblVvUd374d4A2Vw8NTJ5qqWB6nDmSC3Hd8bBwDcwf2ktAKeMGZjynITcyHKfkiDamR193yUhp8/hZp8PnLjY51PrkGIMtzrJWv27IOkN46WPFV3Ohlv2m8TKidrZkgDVZfzgTO6rfUZ4fnjH/zW9h1/vkYueTXADeT1tL4tm2TG29bDOpUlOauXTs1kIeB21I/1kFKg8VTnWOkNHTuuwOxpEjDDLd6tzv4Jnne+4qd1tlbzoq34EQavK0cx1v8TitUCja8/BVY+Y7m5QOrHYvaEau19VkxXEq+lIZYK/VWvpQGX3uINPj85UbHOh+3wRYFcj6nU1veclY8cTed9QIMbtpcSM7cYDp65ZUYPO64KTm8LoFX3SSlobMos7ZPzHqKHW9ZKz6GS8kXaYhFRG/lizT42kOkwecvNzrW+bgN9ilpqK9j8zVi68/hVYnbffHFGDrhxGJv5OjV12Cc91scdtjU0dHR31yOuaee2riW3e45w49+NHbe77598wG0wm/OvSMs026jYqsY7OQ5OdQCK+FLeVbs3Zi/+QtfxLInPsF9xbZIQ65erTt2RBp8fhZp8PnLjY51Tm6DXSYNG3ibIS9Pqs3uB5Yvw8oPfmBabbzvasUTd+Nf/TUO/ce3FB342G23Yf1fPRurPvrvmHvwwUUdNr7mtVj0gfc33rx5ICkNTZsV2XZNGxWb2jBlwJ4J8mGNkSmCaSRUMbvMv+0vnoWDP/ExkYZcnVSP2hFp8DWMSIPPX250rHNyGzSQhp3nnz9td7r3GdWZ+egvLio+bFSf3XNmP3SnO04nDW12rjdtfrP6hribX/JSDG6eXJ5g4hXh3DU/lYaHp+3Qtw5+3llhfVDmFyHDV1b5zNhAbG2LJmVmamBs4+eRsr2qz2lSZpjf1IbT/FY+Z9HjHjt1YZa1/lb/x+xZY0SkIebJ1vnaCNm57w7EkiINM9zq3k6v0+rkfE7V1vqn/jlW/Ms795ndb3rNa7HqY/8xnTQYZ3m5O3jaa/f+OZWGdU95WuGPgrg0KB5Nfum0TVuVa/c+1fqF8k31ZF6srrliKsWOt6wVH8Ptuekm3Hrm43DIV87DvDVr9mmKnDGVOz689kQavB47sPEiDTPc/rHOKdfjcz6namvjWS+Y/JZFbXbPWxO7uTzR6g4GCwFp55vt530ZW774RQwODu29iKpNo1Rn8q32VtQVmE7auN2xxHbvs+H5Z021V/W5+ygz/IJJQxvmUghy2fHGdQx/60MfXnzvhWraBO9yGBtvvM+huBti9+7ihtCBRYv2JQ3V8oODGDr1lCkML0obHR2ZFlOeY6adxEtKGZGGFO8deGVFGma4zWOdWJC7LXsG2lU19hzPa3Zqy1vOirfguqU0VAdl7vUYuewyDK1dW1w7zRQbiD3t0InSkMO+hYh5nmNpv1zvGntWaD+ShpHhYQzt2tVMGti2P/85hu5ynlNUDwAAIABJREFUFwyUbTuNCFXKD9TIl3fJy+PLmcCKNMyEV2evTZGGhLZtt+481fFGbqgLM1fLnoG2pKHynIXlrXedvlqs4+1WB+8ZvLpFGjr1ac5ynbaPtw65npNix1vWio/hmK+NkN6I6U+8NkL62u2AJQ2dHEHzuXYSHeucpmY+tVmrd8Yae46n7p3a8paz4i04kQZPC9uwFr9bLKXY8Za14mM4kQZLy84OjEiDrx0PKNJQXQqoHkHLteO9yfWxzsnXXK3ROZ/TqS1vOSveghNpyBVJe+1Y/G55aoodb1krPoYTabC07OzAzGbS8GUA9wfwXQBPKJvreACfqzQd//dTAXzF2Jx9TRp2ffWrrqOFuZYCgm8tm5tinZOxnaKwnM/p1Ja3nBVvwYk0REPEDbD43WI0xY63rBUfw4k0WFp2dmBmM2l4AIDFAJ5ZIQ3VVmPetQCOBrDd2Jx9TRoGBgaMrzkJqy4F7L7wQsy/612LDWzepQDPQ2Odk8dWO2zO53Rqy1vOirfgRBpyRZKUBnpApCF/PPWqxdlMGuhzKg0vakEangbgMQCe7GicA4o0VP3SK3saHG3VFmoZWK3P6tSWt5wVb8GJNFhb146z+N1iLcWOt6wVH8OJNFhadnZgepU03A/AKwHcGQBvCnlswxLCC0oM8y8D8BIAP6w1SzvSwCWJTwA4z9GUByxpcPgoCRrrnJKMVwrnfE6ntrzlrHgLTqQhVyRJaQhKg749kT+metFir5KGhwO4N4CLAHypgTRQHfgkABKHHwN4HoBnAzgJwPUVR7ciDRz8rwFwJIDJm3hsSaTB5qeOUZYBr2PjIg1THhBpyBFF023kit0UO96yVnwMl5Kvexryx+JMWuxV0lB9Z94rUlcafloSirMqwMtLNeK1BtLwDAAPBfD0iHN5A83kLTSTaQmAP27YsAHLli2LtkvshxQMxHAp+fxBbty4EStWrIB3T0P0BWcAEHvXXI/M+ZxObXnLWfEWXApp6Kd4YrxY/JEjrnI9J8WOt6wVH8Ol5PdbH8XLnVauXMmQ4SCwJUfs9JONfiQNQ/xyLYAnAuAJiZDeDYBfBDrDQBq+BuDDAPj/26U3AHh9HXDNNddg6VKKDu0Tf0gjIyMYGuKVu61dHcOl5PMHuXXrVixZsqRvSIPFZzHfx/JjPo2Vr+Z3astbzoq34Nph2uX1WzwF0tBPMWVpv1bx6S1rxcdwKfn9FlNbtmzBMcccI9Lg6SS7jK0rDYcBuKFcvrigUpezy5MSPEbJ9C0ApwPgRegbSrXiwpIdXlkuTYxE3kVKQ7cb2/kRp06rF5sZeex2astbzoq34KQ0eFrYhrX43WIpxY63rBUfw6XkS2mwREXvYPpRaQik4V4AflJx5TkAuOxwwgy6V3saZtC5YVYY+9hSjirEOjnPMzq15S1nxVtwKaSBy3OUZ/thuasfY8rSfu2UBs/vx/qsGC4lX3saPL3N/sf2I2nwLE/k9rBIQ26P1uzFOp9cj8/5nE5tectZ8RacSEOuSNprx+J3y1NT7HjLWvExXEq+SIMlKnoH04+kgd7jRshflKcngjd/A+B8ANWNkLk9LdKQ26MiDRgeHm675yW4KNYxe3AiDfkD2do+sSen2PGWteJjuJR8kYZYRPRWfq+SBt7WeGzpql8CeBmA75V7E3ikMhy5fH65RPFcAM8BsBbAdTPoYpGGGXRuP0rJKXWOdbR1V1vxFpxIQ/5Atvjd8tQUO96yVnwMl5Iv0mCJit7B9Cpp4P0KJAn19HEAzyr/yDsaXlVe/nQpgJcC+MEMu3a/kIbtX/4KBh720JYz0nY/2H77QcY6n1ztm/M5ndrylrPiLTiRhlyRtNeOxe+Wp6bY8Za14mO4lPx+66N45HL58uVsSh25tAT0AY7ZL6Rh3bP+Eos+8H6RhozBF+vkPI/q1Ja3nBVvwYk0eFrYhrX43WIpxY63rBUfw6XkizRYoqJ3ML2qNPSOh6bXpGukof5Zatz9bhiaAOYuX4aVH/zAtFpJafCHS6yT81js1Ja3nBVvwYk0eFrYhrX43WIpxY63rBUfw6XkizRYoqJ3MCINvrbomDTsPP/8lp+l5kUU42PjGJg7gNAg9c9Sz1mzBoPHHos9l1+OoTvxDquKLNpQPuROTACjoyMYHBzCwsc+BgvPPNP3xl1GxzqfXNXJ+ZxObXnLWfEWnEhDrkjS8gQ9EIu52TSx0fJE/t/ObLbYMWmI3QhZP1td/yw17nuf4j7rgeFhKQ0ZIizWyXke0aktbzkr3oITafC0sA1r8bvFUoodb1krPoZLyZfSYImK3sFIafC1RddIQ7Va2tPgayQLOtbJWWzsVXMm4LlQp9Ny1jpbcCINnha2YS1+t1hKseMta8XHcCn5Ig2WqOgdjEiDry1EGnz+cqNjnY/bYIsCOZ/TqS1vOSveghNpyBVJWp7Q8kT+WOpliyINvtYRafD5y422DHhuow0Fcj6nU1vecla8BSfSkCOKptuw+N3y1BQ73rJWfAyXki+lwRIVvYMRafC1hUiDz19udKzzcRuU0tDoAZGGXJEkpUFKQ/5Y6mWLIg2+1tkvpEGXO/kayYLOSU46teUtZ8VbcCINlijxYSx+t1hMseMta8XHcCn5UhosUdE7GJEGX1vsF9JwIP0gY+/qa67W6JzP6dSWt5wVb8GJNOSKJCkNUhryx1IvWxRp8LWOSIPPX260ZcBzG20okPM5ndrylrPiLTiRhhxRNN2Gxe+Wp6bY8Za14mO4lHwpDZao6B2MSIOvLUQafP5yo2Odj9tgiwI5n9OpLW85K96CE2nIFUlSGqQ05I+lXrYo0uBrHZEGn7/caMuA5zYqpWEfD4g05IgiKQ3BA7Hfbbt8KQ35Y3EmLYo0+Lwr0uDzlxsd63zcBqU0NHpApCFXJElpkNKQP5Z62aJIg691RBp8/nKjRRpau8zqGwtOpMEdmtECFr9HjRi+49DOhrcOVnwMl5IvpcESFb2DEWnwtYVIg89fbnSs83EblNIgpWGis2u+vbGWK3ZT7HjLWvExXEq+SIM30vYvXqTB53+RBp+/3OhY5+M2KNIg0iDS0PJnY/29xXAp+SINuXq17tgRafD5WaTB5y83Otb5uA2KNIg0iDSINOTqOADo09gZnXkAmBJpmOFGFmlo7WCrbyw47WnIH8gWv1uemmLHW9aKj+FS8qU0WKKidzBSGnxtIdLg85cbHet83AalNEhpkNIgpSFXxyGlASINvmASafD5y40WaZDS4A6aSIF+i6mU+nrLWvExXEq+lIbcET+z9kQafP4VafD5y42OdT5ug1IapDRIaZDSkKvjkNIgpcEZSyINTod54SINUhq8MRPD91tMpdTXW9aKj+FS8qU0xCK4t/KlNPjaQ6TB5y83Otb5uA1KaZDSIKVBSkOujkNKg5QGZyyJNDgd5oWLNEhp8MZMDN9vMZVSX29ZKz6GS8mX0hCL4N7Kl9Lgaw+RBp+/3OhY5+M2KKVBSoOUBikNuToOKQ1SGpyxJNLgdJgXLtIgpcEbMzF8v8VUSn29Za34GC4lX0pDLIJ7K19Kg689RBp8/nKjY52P26CUBikNUhqkNOTqOKQ0SGlwxpJIg9NhXrhIg5QGb8zE8P0WUyn19Za14mO4lHwpDbEI7q18KQ2+9hBp8PnLjY51Pm6DUhqkNEhpkNKQq+OQ0iClwRlLIg1Oh3nhIg1SGrwxE8P3W0yl1Ndb1oqP4VLypTTEIri38qU0+NpDpMHnLzc61vm4DUppkNIgpUFKQ66OQ0qDlAZnLIk0OB3mhYs0SGnwxkwM328xlVJfb1krPoZLyZfSEIvg3sqX0uBrD5EGn7/c6Fjn4zYopUFKg5QGKQ25Og4pDVIanLEk0uB0mBcu0iClwRszMXy/xVRKfb1lrfgYLiVfSkMsgnsrX0qDrz1EGnz+cqNjnY/boJQGKQ1SGqQ05Oo4pDRIaXDGkkiD02FeuEiDlAZvzMTw/RZTKfX1lrXiY7iUfCkNsQjurXwpDb72EGnw+cuNjnU+boNSGqQ0SGmQ0pCr45DSIKXBGUsiDU6HeeEiDVIavDETw/dbTKXU11vWio/hUvKlNMQiuLfypTT42kOkwecvNzrW+bgNSmmQ0iClQUpDro5DSoOUBmcsiTQ4HeaFizRIafDGTAzfbzGVUl9vWSs+hkvJl9IQi+DeypfS4GsPkQafv9zoWOfjNiilQUqDlAYpDbk6DikNUhqcsSTS4HSYFy7SIKXBGzMxfL/FVEp9vWWt+BguJV9KQyyCeytfSoOvPUQafP5yo2Odj9uglAYpDVIapDTk6jikNEhpcMaSSIPTYV64SIOUBm/MxPD9FlMp9fWWteJjuJR8KQ2xCO6tfCkNvvYQafD5y42OdT5ug1IapDRIaZDSkKvjkNIgpcEZSyINTod54SINUhq8MRPD91tMpdTXW9aKj+FS8qU0xCK4t/KlNPjaQ6TB5y83Otb5uA1KaZDSIKVBSkOujkNKg5QGZyyJNDgd5oWLNEhp8MZMDN9vMZVSX29ZKz6GS8mX0hCL4N7Kl9Lgaw+RBp+/3OhY5+M2KKVBSoOUBikNuToOKQ1SGpyxJNLgdJgXLtIgpcEbMzF8v8VUSn29Za34GC4lX0pDLIJ7K19Kg689RBp8/nKjY52P26CUBikNUhqkNOTqOKQ0SGlwxpJIg9NhXrhIg5QGb8zE8P0WUyn19Za14mO4lHwpDbEI7q18KQ2+9hBp8PnLjY51Pm6DUhqkNEhpkNKQq+OQ0iClwRlLIg1Oh3nhIg1SGrwxE8P3W0yl1Ndb1oqP4VLypTTEIri38qU0+NpDpMHnLzc61vm4DUppkNIgpUFKQ66OQ0qDlAZnLIk0OB3mhYs0SGnwxkwM328xlVJfb1krPoZLyZfSEIvg3sqX0uBrD5EGn7/c6Fjn4zYopUFKg5QGKQ25Og4pDVIanLEk0uB0mBcu0iClwRszMXy/xVRKfb1lrfgYLiVfSkMsgnsrX0qDrz1EGnz+cqNjnY/boJQGKQ1SGqQ05Oo4pDRIaXDGkkiD02FeuEiDlAZvzMTw/RZTKfX1lrXiY7iUfCkNsQjurXwpDb72EGnw+cuNjnU+boNSGqQ0SGmQ0pCr45DSIKXBGUsiDU6HeeEiDVIavDETw/dbTKXU11vWio/hUvKlNMQiuLfypTT42kOkwecvNzrW+bgNSmmQ0iClQUpDro5DSoOUBmcsiTQ4HeaFizRIafDGTAzfbzGVUl9vWSs+hkvJl9IQi+DeypfS4GsPkQafv9zoWOfjNiilQUqDlAYpDbk6DikNUhqcsSTS4HSYFy7SIKXBGzMxfL/FVEp9vWWt+BguJV9KQyyCeytfSoOvPUQafP5yo2Odj9uglAYpDVIapDTk6jikNEhpcMaSSIPTYV64SIOUBm/MxPD9FlMp9fWWteJjuJR8KQ2xCO6tfCkNvvYQafD5y42OdT5ug1IapDRIaZDSkKvjkNIgpcEZSyINTod54SINUhq8MRPD91tMpdTXW9aKj+FS8qU0xCK4t/Jns9LwZQD3B/BdAE+ouX0hgMsBfAHAKxxNItLgcFYn0Fjn04nNpjI5n9OpLW85K96Ca4dpl9dvHTzb3uKPHHGV6zkpdrxlrfgYLiW/32Jq8+bNWL58OUNmGYAtOWKnn2zMZtLwAACLATyzgTS8BcAdAFwv0tBb4RrrfHLVNudzOrXlLWfFW3AiDbkiaa8di98tT02x4y1rxcdwKfkiDZao6B3MbCYN9DKVhhfVSAPJwlsBfA3AySINvROM/TgrTKlzrKOtt4wVb8GJNOSPe4vfLU9NseMta8XHcCn5Ig2WqOgdTK+ShvsBeCWAOwNYA+CxAL5Sc9sLSgzzLwPwEgA/rGGaSMP5Zbl7dUoaLvv9jTh6zcFYODQXc+a0dmHshxTqGsOl5PfbDzL2rrl+Ojmf06ktbzkr3oITacgVSVIaLMS5Xbz1Wx+l5Yn8v50cFh8O4N4ALgLwpQbS8GQAnwRA4vBjAM8D8GwAJ5VLDqEOddLwGAD3KUnDszolDXd+9Zcwb/4izJ83gBWLhop/T7z7UXjEHQ8vnrt5xwh+fOVt+MP6Hfjiz67H3z7seDzitMMxMNBMMGKdfEp+v/0gY++aI7gsnZznOZ3W2VvOirfgRBo8LWzDWvxusZRix1vWio/hUvL7rY8SabBE8f7FTDSQhp+WhOKsStW4sZFqxGsrf6uThn8C8HQAY+V+h0EA7wDwphavOB8A/4W0BMAf73POVzA6d3hakZc87Hg86e5HFX/79R824XkfvXBaPvnCqsXzcdCS+XjC3Y7Ew087rMjftmsUv7puExYPAYetWoKVi+djbo1cpP4gN27ciBUrVmBgYGD/tqTh6bF3NZgwQXI+p1Nb3nJWvAWXQhr6KZ5yE8R2wWXxuyU4U+x4y1rxMVxKPklDP8UUScPKlSvZlNoIaQno/YCpk4YhADsAPBEAT0iE9G4AdwRwRhvSUK2+RWl4A4DX19/5mmuuwdCCRdi8cw827diDzTtHcdTKBVi9bJJfXHXLdrznu9fi9+t3Nbrrefc7Eo867ZAi7zc3bsOrvnTFFI58YfnCQaxcNIgVCwfxkJMOwj3+ZBlGRkYwhrm4YdNurCjzArm44JqNeN//XIcXPfBo3POYFdOeyR/k1q1bsWTJkr4hDXzXoaGhtks/qXHITi7Xczq15S1nxVtw7TDt8votngJpyNXWMdKQ4zmW9mtVD29ZKz6GS8nvt5jasmULjjnmGJGG1E54BsvXSQOn6DeUyxcXVJ57dnlS4vjyb98CcDqARQA2lGpFdfpvIQ2NSsOGDRuwbBlJZnMan5jAMz7wE1y7bjsmJgBuezhy5UK87sy12LBtBMccuhiHr+CpT+CS6zfhXd/8LW7bsgubdoxinG9bSS97+PF4/F2PxK5du3Dlrbtw1sd+XuRyoWP5oiGsWjyEGzbuxM6RMaxZPowvvPg+GKjss+g3Fh+bseSKs5zP6dSWt5wVb8FJacgVSXvtWPxueWqKHW9ZKz6GS8nvtz5KSoMlivcvphVp4EbGn1Sqdg6AZwA4YQara7qngXsaHvWO72Nkz/hUVYbmDeBrLz8DyxZSKJmewg9u3uBQoV6s27oL67buLv6ddvQK3O6gRQVpuOSG7fiH8y8tiMdYnV2UJt/6lDvi/iceit/dug0f+p+rcMwhi7F6IXDaMatx5KrFLfdVzKDPXKZjnY/LWBtwzud0astbzoq34FJIA0kz5dl+WO5iCFj8kSOucj0nxY63rBUfw6Xka09Djujrno1ePT1R9UDK8kRuT5pIAx965U1bsH7b7ikJnPsZjlvD4vsm7w9ufHwCG3eMFOrEqz97MW7dvAt0Ehvz9ocsxqfOuhe+ccmNePOXL532sOHBufiTQxbj2EMX43F3PRInHNZaLcntOKu9mC+sdmK4nM/p1Ja3nBVvwYk0xCLEn2/xu8Vqih1vWSs+hkvJF2mwREXvYPqRNNB73Aj5i/L0RPDmbwDwOGV1I2RuT5tJg2eG0+kPrp2isXnHKC646jZcdfNWXHnjJly3Ydc05eNdTz8d97zDwYV/LrjyNnzhZ9cXqsSxq5fg2EOX4OhVizA4r/sbJ2O+yNWgOZ/TqS1vOSveghNpyBVJe+1Y/G55aoodb1krPoZLyRdpsERF72B6lTTwJsdjSzf9EsDLAHyv3JvAWxzDkcvnl0sUzwXwHABrAVw3g+7tKdJgUTTCD3LZ8hW4cdMuXH3LVlx989biiChPajB96LtX4T9+8Ltpbps3dw6OPmhRQSD++oxj8PvbtuGtX/sNXvlnJxbLH62Oj6b6Ptb5pNoP5XM+p1Nb3nJWvAUn0pArkkQaLBOkdvEm0pA/FmfSYq+SBh6VJEmop48D4AZGJt7R8Kry8ifq8C8F8IOZdBaAniMNsR+s5QdJQnDxtRsnCUXxbxu2794z5cpPPP8e+IsP/l/xv5cuGMSWnaNYMjwPi4bnYcnwIBbPn4fF5X8//0F3wCFLJ4+jXnXzFvxhw459MMTOm9usYlgGvBxtnPM5ndrylrPiLTiRhhxRNN2Gxe+Wp6bY8Za14mO4lHxLH2XxW7cwuqehW56eHc+ZlaSh3jTsAG7evAvX3LIV19yyDUeuWoizP/8rUwue95L74bAVCwrse799BT7942sby3F/xUeec3cccyivvgD++9Kb8f3LbynIx/C8OVi+aBhLFgwW/5v/Tj1yORYP81oNFJtAeTS1ehsny1IJee2j1+J+J0weZ22XYp1crHw1v1Nb3nJWvAUn0uBpYRvW4neLpRQ73rJWfAyXki/SYImK3sH0qtLQOx6aXpOeIg2v+PRF2D3Ge6omsHnbLixbzBn+HCwdHsJbnnRaUfPUHyQ3Xf75+3887fjoUSsX4q1PvRN27N6Dbbv2YOsu/v/R4r8ff7cjsWBoXvHsL/z0Onzn0puLv0/+G8WOEdZ3MlUJxr9++wp8qgXBIPYTz7/n1EbSj//gd/jw964u1A4SiUXz5+K6dduxa3S8+NtHnnsPHLWKJ21RbBJdt213cffFsgVDWDh/8urvWCfnCcBObXnLWfEWnEiDp4VtWIvfLZZS7HjLWvExXEp+ah9l8WlOjJSGnN6c/bZ6ijT8zScuxN+feUpxRPPV//lLnPvUO+GgJcM4979+g39+Gq+oSCcN3uOjsRDYMzZeLH2QRBy6bHhqmeKS6zfiNzdsLv6+adsu7NwzMUk0dpOUjOLtT70TDl02qWDECMaLH3ocnnav2xfYT/zwd3j/f181VS3u1Vi2YLA4+rpk/ly84pEn4Q6rJ0+1cGmGp16Yt6wgGYNYvnCoUDpyfGOk7ptYR9sp3mJXpCEWqf58i98tVlPseMta8TFcSr5IgyUqegcjpcHXFjNGGv7fRdfjf3+7fvLc5D6jBQf/MQwMzJ2Wf+kfNuG41Utx3bptuGXLbhy6dD6OPmhxMfiddER5nJI3H46OYmhwcPKWqTI95JQ14D9L4kC6YfvIFHTloqGWx0ct9tphYp0Py+4aGSv2VZBM8DbON57366ljp8znBs7/fOG9i82an7ngWnz2J9cV3wPZXbk3I9Th48+7B44vj55SwfjAd/cSjIDhzZvcy/G2p94Jpxy5vPjzxddtLE6dBHKxYB5w8PJFBcng3y66diPe9l/tl0ss71r1lRVfxf3gt7c2Ltt0izR4l406jZ92z7H6rdNnh3K5npNix1vWio/hUvJFGlIjr7vlRRp8/p4x0sDLm4aHhxtntK1+kOd8/lfYvWcMu/fswdU3bcWxa5Zg/rx5mD9vbrblCZ970tGxzqf+BI8SQrKxeedIcfPmpu0jWLd5O8446TAsXjC5V+Kbl9yIb1x8Y5FPHI+t8qbNkD551j2nVIlWBCNgVy8bLvaF8F6MR59+OD78P1fvrXr5q5tTMMSJgozc+farivyvXfTHYi9IHVzwvQng7Ecdj/uddFgRJ9wH8o6v85Mr09MkdAKv/LOT8G/fuxq/v207WJ/RsfG98TUxiSnqMAf424cejweXJPLCa9YVRIwks95B8D6Qp91tNZ5yn+OKy51IXF/7uYsbG55tSfz6bSOFH974+FPwms9eXNSBRIzvxNtLuT+F//8xdz4Cj7/b5Pdbbt60E6//0iWT+dOwk/gzTjy0wDNt2LYbT3zPjwoFi4Ttqfc4GkupJC2Yh6XDg1izfAEOXjTQ8veVHrWTFryx2+q5KXa8Za34GC4lX6QhVwR2x45Ig8/PPUUaQtXb/WD77QcZ63yamqsTJcT6nN2jJBqjBYE4atVCzB+cW1Thp9esK5SGgmDsGMHGbbuxddcYNu0cwY7de4kGsY84bQ2+/qubWkbae//izrjrMQcV+V/62fV4+//blwiEwv/4hLV4wMmHFwPv1y++AW+qXeBVfchT7nl0obJY0jmPWYtHnT45CF9w5a142ad50rk58dspz3zACQVp+OW1G3DWf0z/OFurci988HF433eubGmXR3uf88DJk9a/v3Ubnvo+fsC2OT3tXrfDix86eWP85/7vWrzrG1WiNb0MycVLHvwnBWng/psz3/n9YpMt97/w9M/Ufy8YxKlHLccDT1pdbMrlxton3/0o3Ou4g7Fo/rypf63uL7HGVKw9Uux4y1rxMVxKfr/1UdrTEItg5Vc9INIww/EQ63xyPT7nc6q2+K2Rp73vx7hu/d7vjnBT5tufdqdi1kwsU/F/Jyawe/cIjjhoKRbMn9w8unXn6NRS0DRsiV86BKxctrggDVyi4a2gU/YmTRb/Z+fuXXjLV6/A9Rt2TH3/5LDlCwoFKtSj+nEl7i8JV5xv2zmK39+yqfGjYfyuyuDYDtz+cN7VMVBshuWx2noijkrYTZt2Tj2fF4ad/Zi1xbuznsRwoy1vROe78tTNkeUG1u279uBnv1s/iaFiMTF5aoY44qlcnHT4sqI8yQU3wobEPSinH70CW7kfZudosQz3xLusKUjDjRt34vHv/mHLMHrsXY7Aix5yHP70H/+nJWb+vAEsnD8PDzllNV768BMLHOv25i//ujj5s3ThfNy6ZRe4NPT0+9wejzn9CKxcbP8AW0psesta8TFcSr5IQ65erTt2pDT4/CzS4POXGx3rfNwGWxTI+ZyqLQ7k1u+OeOtgxRN3y8ateNL7ftry+yftbOVQrjzLRiltanlO9X04uJPIUHEgodj7/0cLErb2iMk9K9UlF5KQPWMT2DU6XUE6885H4DWP5n1yk2TvwW9tTTQecNKh+Kcn8yO8kwTpfy+/FUesXFgcZ+bx42qytnOT37xlrfgYLiVfpCHlF9D9siINPp+LNPj85UbHOh+3wS6TBioA1uUS77ta8cSd858/xy3becR1HH9Ytx1HHrQIC4fmFjNkHsn9hyeeWnwErWkfTQ7SQLdb/ZDaprHnWP3GejQdMb79wZPfc6HiwSPsyBz1AAAgAElEQVTD4fQPj/oeVn6tlorLeRf+AZu378I1t+3ABVetm3otdrJcKvrbh01+S2/j9hE8/G2Td9dxX8fqZQtw9EELi2PCRx20CCcfsQxHrxjqaA+G510DgWm3nyq8RMxuSr5IQ+ovoLvlRRp8/hZp8PnLjY51Pm6DXSYNr/zML4u7M/iFU67L8wNi/MJp9e4Ma0f87V/fBP6bSpT0G07R7POKE8Blf9xYbNqkbF89WUNscbqmkPb3PZFT2GrznAetPRR3OXz+rP3KpUW5aBWDjN0dO3fi2R+9aNq9JvxK7Yf++m5YumDyC7fXr9+ON53366JtqHTU05PufhTOesDtCtJAgsJTOCQUPBV029bdxTHisx9zcuMlZt7fjxUfw6XkizTk6tW6Y0ekwednkQafv9zoWOfjNmgkDfsM0J4HVQbZS/9oOAY7xRrak4D6sVirb4h74xcuwrY9KI6ZXnLdJpx69PLiVA0T/383lAaPC2cSa/VbqENMuWhHGmLLQtWyrBdVh+vX7ygIxPXrthd7YR5y8mrc9w4rCtJw2Q2b8ex/4/f5pifu6aD6Uf8GjPddrfgYLiVfpGEmoz+/bZEGn0/dpIH3L/zZ6UclXQ60P3+Q4dZJy8zZ58pmdOxdczyjmExPTLSU573PqNp68Sd/Xly4xc+iv+ebV+DFDzse/Cx69cKtKc7grIO1znUcCVH9To52tlKXJ/beVIp9FBe+e5Pq4vW5B2/1m8dmEzY85/qNI9i4Y3QK4r3XpFpfbqj89q9vLgjFJX/YiOvW7d10+tan3LH4eFydiFiWG7wxGPNhSr5IQ2rkdbe8SIPP327S8PJP/RzvePpdeo40WGfWpgukHD6MXSoV63zaPappcGw3K/R0ru2eW63z675wSXF3Rj1V787wdthevMWHnZKGb/7qBnz9l3/Y57Kw6vuGmOHf6heP8W/TLh9r49hYrNSLtmp/iz+aquGJp5xEtKm+7fZaVNUG77ta8TFcSr5Ig6MD7QGoSIOvEWYNabC+9t4LpMZw1U1bcYfiAqm50y6Qstqy4GKdT91GVQm5/I+bceIRy1ruIUiZkVlJQ7vrpus2vO9qxVtwnZIGSwcfrjfn+1JxCVecU3FhalJdLLFRxVTVDP6dSli1/fm3oGjE/FG31cpe1WZTfWPPsb5jkx3rXgtvHaz4GC4l3xJTVt91A6d7Grrh5dnzDBNp2DuQjeHyP27BiUcsxUGLJ8/Id9LZzKYfZFThsG72Kx3ZsRJSe453VpuDgMTatVOSYbE7k6QhEM1Qf94lcXD5uXT+rUl1afpdtIuVqprBsm0VjTYxxZsyebMmr2OvpiZ7zK+rJNW4sfjd0hW2smPZa+GtgxUfw6XkizRYoqJ3MFIafG1RkIYXffj7mL9occuSTQPZ6NjE3u9B7DMaAPc/YVXLvQ8H0g8y9q5113WqhHif0y5MOrXlLWfFW3AzSRp8P6nO0HViwiWhpg2fJOoxf9RtsUa0V1XWQi2bCE/1a7NDc8YxMjGAkT0T007PVN8ytqcjVt+csWh9VgyXki/S0NlvYH+VEmnwed6kNDR9ffIj3//d1JcnvTPIA+kHGXtXX3O1Rud8Tqe2vOWseAuu30lDK2Wi6SNsFn90GldUQ9759ctLpYI3XI4XN2U2HXUNz2i1pyOoFin19Za14mO4lHyRhk6jb/+UE2nw+d1EGvbOXCbw2xs244TDlxUfktLyRNzZsc4nbsGGyPmcTm15y1nxFtxsJA2tWt7iD1vUNKOqv/egNPCoa5NSQQux5ZmU+nrLWvExXEq+SENK9HW/rEiDz+cm0hBM8ofUq6cnfK/dPXSs88lVk5zP6dSWt5wVb8GJNOSKpL12LH63PDXFjresFR/DpeSLNFiioncwIg2+thBp8PnLjY51Pm6DLQrkfE6ntrzlrHgLTqQhVyTlJw2v+PQvMDE+WuyNKL5bXkn1+1L2fYsJrBqei9c/8fS2x7yrExvL0eNYTKXkizTkj8WZtCjS4POuSIPPX250rPNxGxRpaPSASEOuSMpHGsJpEW6kPvaQRcXeiDppaHWqo1IL/O7WrTjhsOX1ogUk5ZbRduQi9rttly/SkD8WZ9KiSIPPuyINPn+50bHOx21QpEGkwXnzZqcxlit2z/n8xZgYa1Yamk6JTK/vBBbPg5SGThvRUE73NBicJMiUB0QaZjgYcnW8sWrmfE6ntrzlrHgLTkpDLEL8+Ra/W6zG7LS7qTJWtv58Kz6GS8mX0mCJit7BSGnwtYWbNPT7tyd87klHxzqf9CdMWsj5nE5tectZ8RacSEOuSNprx+J3y1NT7HjLWvExXEq+SIMlKnoHI9Lgaws3adAmI5+DY52Pz1prdM7ndGrLW86Kt+BEGnJFkkiDhYS3izeRhvyxOJMWRRp83hVp8PnLjbYMeG6jDQVyPqdTW95yVrwFJ9KQI4qm27D43fLUFDveslZ8DJeSL9JgiYrewYg0+NpCpMHnLzc61vm4DbYokPM5ndrylrPiLTiRhlyRJKVBSkP+WOpliyINvtYRafD5y422DHhuo1Ia9vGASEOOKJLSEDwQ+91qeSJ/vO0viyINPs+LNPj85UbHOh+3QSkNjR4QacgVSVIapDTkj6VetijS4GsdkQafv9xokYbWLrP6xoITaXCHZrSAxe9RI4kne7x1sOJjuJR87WmwREXvYEQafG0h0uDzlxsd63zcBqU0SGnos8udUn4D3rJWfAyXki/SkKtX644dkQafn0UafP5yo2Odj9ugSINIg0hDy5+N9fcWw6XkizTk6tW6Y0ekwednkQafv9zoWOfjNijSINIg0iDSkKvjAKBrpDM68wAwJdIww40s0tDawVbfWHDa05A/kC1+tzw1xY63bAwfrqyO4VLypTRYoqJ3MFIafG0h0uDzlxsd63zcBqU0SGmQ0tCx0vCKz1yEf37a6dFr12O/23b5Ig25erXu2BFp8PlZpMHnLzc61vm4DYo0iDSINEyLgVd8+iLsHhsr/zaBoTnjGJnY9zPcI3vGcfkfN+PEI5ZhaN6cljgaWjo8iNc96ngMDw9jzpx9hxWRhlw91/63I9LgawORBp+/3GiRBi1PuIMmUqDfYiqlvrGyXG5459cvx3Gr2ZUxTYAz/YGBfUnDdeu24ZYtu3Ho0vk4+qBFLXG0cvUtW3HCmsUYGJgLNI0qE8D4+NhU/kNOWQP+Y5LSkDviZ9aeSIPPvyINPn+50bFOz21QSoOUBikN02LgnM//Crv3xJUGYi65bhNOPXo55s8baKs0MF9KQ67eqbftiDT42kekwecvN1qkQUqDO2ikNEx5wPv7ieG1p2Hf4NLpidy/0NltT6Rhhts31onlenzO53Rqy1vOirfgdHoiVyTttWPxu+WpKXa8ZWN4kQaRhroHpDRYfsV7MSINPn+50bFOzG1QyxNantDyRMufTez3JtIg0iDSkDbqiDSk+S9aOtaJRQ0YATmf06ktbzkr3oKT0mAMFAfM4neLuRQ73rIxvO5pEGkQabD8altjRBrS/BctHevEogaMgJzP6dSWt5wVb8GJNBgDxQGz+N1iLsWOt6wVH8Ol5Ov0hCUqegej5QlfW4g0+PzlRsc6H7dBLU9oeULLEx0vT4SCsd9lSr5IQ65erTt2RBp8fhZp8PnLjY51Pm6DIg0iDSINIg25Og59e6LxGo6M7p11pkQaZrhJRRpaO9jqGwtOyxP5A9nid8tTU+x4y1rxMVxKvpQGS1T0DkZKg68tRBp8/nKjY52P26CUBikNUhqkNOTqOKQ0SGlwxpJIg9NhXrhIg5QGb8zE8P0WUyn19Za14mO4lHwpDbEI7q18KQ2+9hBp8PnLjY51Pm6DUhqkNEhpkNKQq+OQ0iClwRlLIg1Oh3nhIg1SGrwxE8P3W0yl1Ndb1oqP4VLypTTEIri38qU0+NpDpMHnLzc61vm4DUppkNIgpUFKQ66OQ0qDlAZnLIk0OB3mhYs0SGnwxkwM328xlVJfb1krPoZLyZfSEIvg3sqX0uBrD5EGn7/c6Fjn4zYopUFKg5QGKQ25Og4pDVIanLEk0uB0mBcu0iClwRszMXy/xVRKfb1lrfgYLiVfSkMsgnsrX0qDrz1EGnz+cqNjnY/boJQGKQ1SGqQ05Oo4pDRIaXDGkkiD02FeuEiDlAZvzMTw/RZTKfX1lrXiY7iUfCkNsQjurXwpDb72EGnw+cuNjnU+boNSGqQ0SGmQ0pCr45DSIKXBGUsiDU6HeeEiDVIavDETw/dbTKXU11vWio/hUvKlNMQiuLfypTT42kOkwecvNzrW+bgNSmmQ0iClQUpDro5DSoOUBmcsiTQ4HeaFizRIafDGTAzfbzGVUl9vWSs+hkvJl9IQi+DeypfS4GsPkQafv9zoWOfjNiilQUqDlAYpDbk6DikNUhqcsSTS4HSYFy7SIKXBGzMxfL/FVEp9vWWt+BguJV9KQyyCeytfSoOvPUQafP5yo2Odj9uglAYpDVIapDTk6jikNEhpcMaSSIPTYV64SIOUBm/MxPD9FlMp9fWWteJjuJR8KQ2xCO6tfCkNvvYQafD5y42OdT5ug1IapDRIaZDSkKvjkNIgpcEZSyINTod54SINUhq8MRPD91tMpdTXW9aKj+FS8qU0xCK4t/KlNPjaQ6TB5y83Otb5uA1KaZDSIKVBSkOujkNKg5QGZyyJNDgd5oWLNEhp8MZMDN9vMZVSX29ZKz6GS8mX0hCL4N7Kl9Lgaw+RBp+/3OhY5+M2KKVBSoOUBikNuToOKQ1SGpyxJNLgdJgXLtIgpcEbMzF8v8VUSn29Za34GC4lX0pDLIJ7K19Kg689RBp8/nKjY52P26CUBikNUhqkNOTqOKQ0SGlwxpJIg9NhXrhIg5QGb8zE8P0WUyn19Za14mO4lHwpDbEI7q382aw0fBnA/QF8F8ATKm5v9XdLy4g0WLyUgIl1PgmmpxXN+ZxObXnLWfEWXDtMu7x+6+DZ6BZ/5IirXM9JseMta8XHcCn5/RZTmzdvxvLlyxkyywBsyRE7/WRjNpOGBwBYDOCZNdLQ6u+WdhNpsHgpARPrfBJMizRUPCDSkCuS9trJFbspdrxlrfgYLiVfpCF/LM6kxdlMGug3Kg0vqpGGdn+P+VqkIeahxPxY55Nofqp4zud0astbzoq34EQackWSSINFzZlN6pWUhvy/nRwW7wfglQDuDGANgMcC+ErN8AtKDPMvA/ASAD+sYUQaxsexYcMGrFy5EgMDAznaZkZtWAa8HBXI+ZxObXnLWfEWnEhDjiiabsPid8tTU+x4y1rxMVxKvpQGS1T0DqZXlYaHA7g3gIsAfKmBNDwZwCcBkDj8GMDzADwbwEkArq+4V6RBpKHx1xbr5Dw/0U5tectZ8RacSIOnhW1Yi98tllLseMta8TFcSr5IgyUqegfTq6Sh6qGJBtLw05JQnFUBXl6qEa/NSBrmA+C/kJYA+CNn7suWcQ9M+xT7IYXSMVxKPn+QGzduxIoVK6Q0VJor5tNY204L0A6P9HnrYMVbcCmkoZ/iie1k8YenvVthcz0nxY63rBUfw6Xk91sfxeUJKrfaCJnjVzMzNuqkYQjADgBPBMCTECG9G8AdAZyRkTS8AcDr6691zTXXYOlSbm+Ik4aRkREMDQ1hzpzW/Iw/uHa4lHz+ILdu3YolS5b0DWmw+Czm+1h+zKex8nXS0EmdvXWw4i24dph2ef0WT4E0dNI+nhjI+RxL+7UjLp53tT4rhkvJ77eY2rJlC4455hiRBu8PpIv4Omk4DMAN5fLFBZV6nF2elDi+/Nu3AJwOYBGADaVacSGAVn9veiUpDV1s6H6cFabUOTY7q7veirfgpDTkD2yL3y1PTbHjLWvFx3Ap+VIaLFHRO5h+XJ4IpOFeAH5SceU5AJ4B4IQZdK9OT8ygc1MGYG+1Yp2cx16ntrzlrHgLLoU09NPG2n6MKUv7tVMadu3aheHh4bbqZihvfVYMl5KvPQ2e3mb/Y/uRNHiWJ3J7WKQht0dr9mKdT67H53xOp7a85ax4C06kIVck7bVj8bvlqSl2vGWt+BguJV+kwRIVvYPpR9JA73Ej5C/K0xPBm78BcD6A6kbI3J4WacjtUZGGrs8KY7PvdgNAv3XwsXfNGc6xgdP6rBQ73rJWfAyXkt9vMaV7GqyR3F0cb3I8tnzkLwG8DMD3yr0JPFIZjlw+v1yieC6A5wBYC+C6GayqSMMMOrcfO/iUOsc62rqrrXgLTkpD/kC2+N3y1BQ73rJWfAyXki/SYImK3sH0qtLA+xVIEurp4wCeVf6RdzS8qrz86VIALwXwgxl2rUjDDDs41vnkenzO53Rqy1vOirfgRBpyRdJeOxa/W56aYsdb1oqP4VLyRRosUdE7mF4lDb3joek1EWmY4ZaJdT65Hp/zOZ3a8paz4i04kYZckSTSYFHb2sWbSEP+WJxJiyINPu+KNPj85UZbBjy30YYCOZ/TqS1vOSveghNpyBFF021Y/G55aoodb1krPoZLyRdpsERF72BEGnxtIdLg85cbHet83AZbFMj5nE5tectZ8RacSEOuSJLSIKUhfyz1skWRBl/riDT4/OVGWwY8t1EpDft4QKQhRxRJaQgeiP1utTyRP972l0WRBp/nRRp8/nKjY52P26CUhkYPiDTkiiQpDVIa8sdSL1sUafC1jkiDz19utEhDa5dZfWPBiTS4QzNawOL3qJHED2x562DFx3Ap+drTYImK3sGINPjaQqTB5y83Otb5uA1KaZDS0OFXSL2xlit2U+x4y1rxMVxKvkiDN9L2L16kwed/kQafv9zoWOfjNijSINIg0tDyZ2P9vcVwKfkiDbl6te7YEWnw+VmkwecvNzrW+bgNijSINIg0iDTk6jgA6BrpjM48AEyJNMxwI4s0tHaw1TcWnPY05A9ki98tT02x4y1rxcdwKflSGixR0TsYKQ2+thBp8PnLjY51Pm6DUhqkNEhpkNKQq+OQ0gCRBl8wiTT4/OVGizRIaXAHTaRAv8VUSn29Za34GC4lX0pD7oifWXsiDT7/ijT4/OVGxzoft0EpDVIapDRIacjVcUhpkNLgjCWRBqfDvHCRBikN3piJ4fstplLq6y1rxcdwKflSGmIR3Fv5Uhp87SHS4POXGx3rfNwGpTRIaZDSIKUhV8chpaGl0vC7DD7+FwDvyWCnl0wUpOHs/34NFiwa3qde9z3iDJxxxP2n/m4dAGO4lPx+Y/Gxd80VDDmf06ktbzkr3oJrh2mX12/xxHix+CNHXOV6Toodb1krPoZLye+3mNKRy+ZfyzgHRwCbOvwxHQXgjQDe1GH5Xi0mpWGGWybW+eR6fM7ndGrLW86Kt+BEGnJF0l47Fr9bnppix1vWio/hUvJFGixR0TuYVssTJA1vSBj0U8v3joem10SkYYZb5v+zdyVgdhTV+r+zTzKTzEwWyEpIIOz7voZFQUQFH6KAz4fihiCCKLiAuPAUBBVRgfdEUeGJCyoIqCAKBGQJyL4nBBISSEKSmayzz9z3nb59Z+7c3HvrnK7TM32T0983hKT+85/qU6er/6mqrnJ1PlruNf1E5ZLacfEcnIkGrUwy0cAZzdmcRq9spKH4SIOJhk1jY6JBv68dwsh54WlUQdNPVC6pHRfPwZlo0MiioRycuHO8+vBIbbl4F86n3EYaOFmRHEyxkYZZAFoBtEWsqq99RLexm5loiDnErs5Hy72mn6hcUjsunoMz0aCVSTbSYCMN+rmUZEb7ekLWOoFo+NUTv8Spe5yG6srqktacztv3gXPZl5uK58ZM1mybojX9ROWS2nHxHJyJBt8Mii+nOO1XrPZSWy7ehfMpL7c+yqYn9J+dzZkxEA3vufk4/PmUO1GRqgju9fv/vhIvt76EiaMmYnz9REwcNQET6icGP2Mqx2Dblm1RUZHBFrp8HjgTDdHSzRVzCWtULqkdF8/BmWiQtDAPy4k7h8mHR2rLxbtwPuUmGjhZkRyMjTTI2iIQDT96+Ic456BzByy/OPd8zG97pSBTZaoKf3jvn1BZURmU//nVW7GqY3UgMCbUT8CEQGiMR3VfNerr6zFv2aO45ukf4+y9zsGBkw4KbLakB9J1r7LmKo7W9BOVS2rHxXNwJhq0MmmQhxN3jlcfHqktF+/C+ZSbaOBkRXIwXNFwNICjABwMYCqA8QDaAawE8ByAuQDuBLA8ObcWS00KrmlY3bEKK9pX4O32t7GyYyVWhn/S31PpFH589DVIpTKh/uLcz2N+2/xNKldbWYdJo7ZGH/qxZP0bmN64Db6474UYXT0a4+rGoaurC3V1dQM8uQSlHthyeyBdnY9Wq2r6icoltePiOTgTDVqZZKJhS/vFxqYnij87DQA+B+CTAGjfhazA6AwXSdYDGAsgO+7eC+B2AFcBeEj/kUwEo/dCyH8svgdvrF+cERjtK/F2x9tY25XZDmNszVis7abtMTLX5NFT8NbGN1FXWYetR03CtDHTMKVhKqY2TsXUhqmY2UTrTUuPRJhoKJw3nBcrN+OickntuHgOzkQDt3X5OE7cOWw+PFJbLt6F8ykvtz7KREPhLD4z3KdhIoBnAPwewCMA/g1gQ44JCYntARwA4BgAJwAYTaPwAL4A4HXOQ1JGGG/RUOheO3s7saRtCa546rJATKSRRgopVFdUo6e/J/h7/jWxfiJ+duwvBkTDH16+BXU1dYGgIGFBUx605qLcHkhX56OVK5p+onJJ7bh4Ds5Eg1Ym2UiD6xcXV3m59VEmGgo/Oz0Afg3gSgAvCB4vGn04FcBXANzksTmUwOWwQmMRDdSBr1y3EmfN/TS6+7sHbqimogY/Pebn2Ni9Aa+3vY6VXW/jzQ1vBj8kCi7Y70sDouEjfzsN67rXDdpW1mLK6MmY3DAF02qn4ZTdTttkMeajbz2yyfqJYY1mAWecF55GHTX9ROWS2nHxHJyJBo0sGsrBiTvHqw+P1JaLd+F8yk00cLIiOZhS+zQs9KgmrfqjtQ+LPTiSaBqbaOjs7MRbXW8NTFXQzTfVNgVTEK4Hsre/F7967hdY3rE8mM5YtmEZetM0W5S5dhq7My6b890B0XD+/eeirrIei9a9jg09G4I1E+ftfX6wKHNc/TjUVtaOWOxd96pVMU0/Ubmkdlw8B2eiQSuTbKTBNZLgKjfRoJ+LcTJyF0LGWYdy4o5VNERZ6Fjogezr78OK9uXBiMSSdUtQ01uDd+94fCAa2nvaccpfTi4a8z0n7IVvHfLfA+U/e+6naKwZg/F14zCufnwwwtFSNw6jqkc52+3SR7+Jnr5u9PT14I1gced0NNe34ML9vlzUlvPCczpmADT9ROWS2nHxHJyJBkaSCCGcuHMofXiktly8C+dTbqKBkxXJwZhokLVFWYiG3FvKfyBpVGJB23x89/HL0dq5egBaVVGFFCpw+NQ5OHfv84J/7+rrwsl3/EfBCNVU1gQLN7cdu+1AOS3spA2vaFqFyhe0LcCspu2wcM2rWN+zHo3VjcGnp7ObZxcXDQD6+/pRUZmpS+6pobKmKo12dXISX1G5pHZcPAdnokHSwjwsJ+4cJh8eqS0X78L5lJto4GRFcjBaooGmI6aEt/VGcm5PvSZlLxooIrT24Yy7Tt9k/cQNx/4K9VX1Aztd0qjEba/eitWdq7CqYxVWd6wGfV66sXdjENh3TH8nPpcVGL2dOPnOk4YEnBZiVqcyizn70R98BbLPVvsGIw2PLHsYY2rGYkzNGIytHYuGmgZUpiqdUzFaLerq5CR+onJJ7bh4Ds5Eg6SFeVhO3DlMPjxSWy7ehfMpN9HAyYrkYLREww4AXqJfEgFUJef21GuyWYgGispraxZiTfipJ/09u36CEzESEzRKQaMTW4+eFJis7VqLq5+8KhAVqzpXY33Oosxczq/sfxH2nLgXPnTnB4a4oq9FGmoaMbZmDPadsB8+tvvHgz0pqDP6y2t3ZMpqSWSMDf8cE4xmRF3M6erkOHHIYqJySe24eA7ORIOkhXlYTtw5TD48Ulsu3oXzKTfRwMmK5GC0RMNMAPfSlgEABserk3OfWjXZbERDNiBzl94fyxQATW3QdMU3Hv5asBcFXSQMpjVOx6WHfBuXP/YdrOteG4gNWoyZex055Wict+/nA9HQ0duxicDIYmnkgqY7NvZsDDbDuuqIq/Gdx/47+FSVfqqCP6syf6+sxrZjZuLI6bRHWWZvizsX3IG6mlpUV9YM2BCO8CROpo+h7UkyF42ykEga5K4a2GjrkbcexjVP/wSf3fMcHDg5s4sn53J1tPkcXDwHZ6KB00IyDCfuHEYfHqktF+/C+ZSbaOBkRXIwWqIhOXcUb002C9GQu0Bx/pr5mN0027lAMUpYi02D/OJdN6KxpnGAktZZ0MgE4dd0rkUtarDDhB2Dl/L67vX4n2euDcQFlWeFRl+6b5MqfWGfC/D9J+gr4cLXwZMPwZf3/2pQSB3Vibe/tyh274n74BsHf2ug/IN3nITOPtrXbPAiEVGVygysURkt9PzRUdfgF8//PNhbo6G6EWNqGoOFpDRSQv9PIzq0oJQuV0droiFK1m1qI41zVK9afnx4pLZcvAvnU26iIWrGjYydiQZZ3BMnGmik4IGlcwcWD+Y3aDoN9PR0o7q6BuFO1ni59WXMHDsLS9cvwarOVRhfNz74RLPUAsX8MB3GXKQonQZxdT7Zly2NTpxx9+nBYs3sRZ+KTmuYjmNmHBusoxj46cv8/zZjtsFR02lHdKC3rxeXzfs2+lP96A2wvcFXHlmbXcfvirP3PGeAmxaE5voqljY0/fLDJ38QjJAUurZvmo3vH0GbpmZEw9f+dRF60Rus7WiobggEBokLEhl0PsleE/ceoKH69Xb3DmwnXmxqhhtD+sy30Bc7pezLrYOPIs5kXcIgmhN3DrcPj9SWi3fhfMrLLadscydOFg/F0K9WtPydtpCmPY/pIF+b+R8AACAASURBVIXBTQHkfOVkkTjR4OoUCz2QVzx+Obr7utDd143X1r6GmWNnBi+pUp9CDlcjuTqfbD1o1OEjfz1tyG6ZNHWw2/jd8I2DL3VWl+snl6g/TQKjd0BYdPV24pKHL8byjcsHdvGc1jgNR047Ght61gejJAM/4d+3b9oeFx34tQHRcMqdJ6Ojr7DAIBH3vTkZgUHXJ+7+WLDNeDByUd2AZRvfCoTM6KrReN+sE3HqTqcN8P5lwR3or0ijpqoGtRU0BVMd7L9B60DoPJNZY7dDVjTQKA8tWq2prA2mXx5dRpt+FZ5uiaODj7ouxdnIISBKW3O5c3Fafnx4pLZcvAvnUx5HTkVpP66NiQZupIAJAL4T7vhIOz9mL+rxbgZwUXiAFZ+x/JCbhWhIcthzO58H3pyLB5fSWWiFrxdWvRB8cbGuZx3GVI/B1g2T8Hb7CtaIyWFT5mD/8QcUPQSME6OvP3wxnn776SHCpQIVuOndNw+ZfinGRff6+JuPoQtdwboOenmv787+uR5TGqfgjF0/MWD+wTs+gM4iAoM+c91/0gGB8CPeM+7+aPDVS6GL1pX85KhrB0TDZ+/9DJasX7IJlNag0Geyu0/cY0BQPrBkLtrWtWFSy6RgQWpmZGQMnlv1LK59+idDTmelL2429mxAR28nOns7QNulk0Dq6u0K1qK8c5tjQELsnHvPDg5po6mb/9zpvwYWuo4JFr6OCURO9hh6TrvkY1wvtCichWy0/PjwSG25eBfOp9xEg1YGDg8Pd3qCPqekQ6hoZRidbPkEgBUAtgKwDzKCgnZ/PBTAm8NT9RHxEptouPzh76Aj3R78Fpu/EdKW9EC67jW31WnEZEP3+oHREvotmn5b5oyYzF1yP+5/475gPwjuQ5CfcTTNQ1+PLN+wbEC40KelO4/bmZWctGo4uycF1WF8/USsCheNFiIIplB6M6NDPenMVEr2ohGCUVWjsEPLDsFq5MVrFwVTTvRSph+KK9WN/p9exNPHbDPg+9mVzxSdeqHFpA3VoweE2HOrnis69UJ1ocWpOzTvEKxHodNc23vpMNxNL9okjD7xpXYotQ6FLGkk5TfvoeNvMtfvXvltcJLsuu71eOrtJ3HI5EOwXdN2wcLXuqo6HDHtyAHswjUL0d6zEf29aTTUjQ4WvWYXtD676hn88vkbhggdVsMVAUlyt5QfHx6pLRfvwvmUm2jwybrht+X2l3QOBZ0p8fXwPIrcFWF1AC4MD7iiEYf/HP7bGDaPJUUDrS/I/c04/6VQrJaEW7B6PmY0zcDS9Us3WWdQiofWFhw+Zc7Ab43ZI7izvsrtgXR1PlotreFnYJqntxuvr3092OiqoZY/zSOtQxb/g2e+h8eWzxsywkGjAjTScNEBX2MtsMz1TTH97uOXobOnAy+2vjhkwSeNYOy39f740v50nAzwP09fi8VrFqMj3RGMDtAIQP5aj8/u+blgP47P3Xt2UE4v8rqqetTTn5X1wd+baptx5h6fCUYZaG1N9lA2Eh1TG6YF0zs0BUWiY+KorfCzY24YaPov3P95LFiz6fHyBKBpm5uP/90A9uJ/fRUkDkpd9OXNj476CZZtXBaMEJGoinJJ27Nof5BOF32eXfWS1oGLd+F8ysutj7LpCVcWZspp68B5AN5dAn4XgP0AjONRliUqtpGGH8z7PjrSG4MNl/LXGWxJD6TrXrWyRtNPVC6pXS7+9bWvFd1ng8NbCMP52iW3gz/3vs8GL/+X214aIhwyow07YvH6RUOmivIXz3L80WhKR087aKoie9HoBImmB998YODfdmzZKdihlATJF/a9YODff/jED/BK2yvB+h1aj0KjL7TwlaZIaOQle9EC1r+8dmcgMGj0iEZLtm+ejdnNOwRrfmgUy3Vx4u7ioHIfHqktF+/C+ZSbaOBkRXIw3JGG9QCuBnBxiap/G8DnAAx+S5ec+9SqSWyiodhKdk4nUuqBLbcH0tX5aDWkpp+oXFI7Lp6DK4ahr13autrQ3d2DmppqNNc2B4emZa/cfPreE1cEaxby13XQqMdeE/fCqOrRRaeKsp/90khCV09XsJcHHfdeW10bTLOUWpibXQeRHaHI7v9BowWF1j7k32sxe5riWbj21U1SjD6r3W3C7vimY4EtJ+6c/PXhkdpy8S6cT3m59VE20sDJYuB+ALSqaug2fkNt/xiOMhzBoyxLlImGmJvN1floudf0E5VLasfFc3ClMFIRyv2sNnf6LvvZL7Vn7qe/UxunBU1MJ7DmfgJMoxT0aTEdgEYjBi+sfmGT6Zldxu2CprrmTYRK/v2UGuEg36+uWYBXWl8JzmiZ3/ZK8MUKffqaKxrOve+cYGSDRiJoHQlx0vqIT+7yaRw2/fCBjb+i5Cun/YrxSm25eBfOp9xEQ5QsGTkb7kjDYQDuAXAmgF8WqO4ZAK4B8E4A/xq524nds4mGmEPs6ny03Gv6icoltePiOThN0RClTbLrQcg299Pf7DRA/oJWEhzXP/u/wf4idNEIRe4CVPpyhkYoComNQmt+uEKH4vR2+9vBVyvbjJkR+G7rbMPpdxVeujV59BRcc/R1wdchUS9O+5loiBpdfzsbaeDF8BIAtD/uMQBeCb+koL2BJwI4BACdPfF3AI/k0dEaPvdH87w6JAFloiHmVvDpMCVV0/QTlUtqx8VzcCMtGiRtlcXmCg2u2CAcJx6S+tDR84vWLQpGIeiHpmdyP289ZfZpOG3nD0soh2B96iu15eJdOJ9yG2mInCojYsgdaRhcMSSrJomG6JJb5ms40CYaYo6yq/PRcq/pJyqX1I6L5+DKUTREbXtOPKJy56+PIB7ayfOn7/x55L0lfOorteXiXTifchMNUbNvZOy4omGOR/WK787jQTpCpiYaYg68q/PRcq/pJyqX1I6L5+BMNOhkkusLENotdOvRW4uccdqvGKHUlot34XzKTTSI0mPEwVzRMOIVTUgFTDTE3BCuzkfLvaafqFxSOy6egzPRkMkkjVNes+sjaK8J+upkYuNEzGqaFez7QPtQ7L/1/vj07p8JdrrkXJz2M9HAiWQ8GFvTEE9cN1dWEw0xt6xPhympmqafqFxSOy6eg9sSRcP3nr4CPf3dA2lCB4BlT3mlszno8jmDJT+m/1x8D3789I8GduEk4XDolMOcX1Zw2s9Eg+Rp18WaaNCN5+bOZqIh5hb26TAlVdP0E5VLasfFc3BbimjIPQV2wdr5A19fUK5wPvXMzans5lTZPSZyy0iA0PbvM0fPRKoqhcG9yVPBJlz0VQddB046CJ/Z4yw017UUTVdO+5lokDztulgTDTrxpMWOdD4FXW/oUCaSxURDzM3i02FKqqbpJyqX1I6L5+C2FNFAOZG91x8/dzW6+wePUud86pmbU9l9JnL3mMiWZwXIuNrxmDZmKrKqgcQCnYtBUxVvbXgr2FuCdsykY9fnTCu8pQ2n/Uw0SJ52XayJBp140ieXL9H5OwDo6OzN9TLREHPL+nSYkqpp+onKJbXj4jm4LVE01NXVOacGODl0yUMX4dy9zx8Cpb0bvjPvUnxxzy9h4piJA36ue+YnuPhAOrIHoK2/r37yh3ht7UJ8aIdT8OGdPlLQHaf9TDRwWioejIkGnbjOBHAviXoA2+pQJpLFREPMzeLTYUqqpuknKpfUjovn4Ew0SLJlKDZ/v4hs6er21diqdiv0VvQOTE/kb1JFu1n+fdFdeOeMY0HbVtNFX2DQEeTZw+Y47WeiIXr7+VqaaPCN4JZlb6Ih5vb26TAlVdP0E5VLasfFc3AmGiTZwsNy4p7PRCLii3PPD76s+Oye52DCqIlem1FJ68DFu3A+5fbJJS+/koKyTy5lLWGiQRYvMdrV+YgJixho+onKJbXj4jk4Ew1amTTIw4l7vldaH3HRv74MOs2zvqoeH9vl4zhmm2PR1dWFKNMp0jpw8S6cT7mJBv1cjJPRVzSQ/XYAOmgxcpwVTQi3iYaYG8LV+Wi51/QTlUtqx8VzcCYatDLJTzSQ9dL1S/Gjp36Il1tpWRiw+/jdsf+EA3HLwt/h7L3OCb644F6cts/l4uJdOJ9yEw3c1k0GjisaTgBAP1+g81rCqtPpLXcC2Cn8+28B0MqeqFtOJyMipWthoiHmVnJ1PlruNf1E5ZLacfEcnIkGrUzyFw3E0Jfuw50L78BNL92I7r4u0HHf9KXF9MZtUOzI70J3wGl7Ew1+bW9rGnjx+xsA+o5otxz4bQDeFy6AHEcCGcCnAPycR1mWKBMNMTebtNOLWh1NP1G5pHZcPAdnoiFq5hS348Td5ZU+y6R9IN7cMDhw+5X9L8JBkw92mQbl0jpw8S6cT7mNNLCaNjEg7kgD7b1AR2N/PKw57Ye6EsAfAZwKgJYBP0ULgQHwsjsxIRBVxESDKFxysKvzkTMWttD0E5VLasfFc3AmGrQySWekIcsSHID1z7OwdMPSYKSBRhymNU5njzZw2t5GGvza3kYaePGjNQvfB3BxCD8ewB0ATgRwe/hvVwGg82DpuOzN9TLREHPLSju9qNXR9BOVS2rHxXNwJhqiZk68Iw2uA7Bctea0vYkGVxRLl5to4MVvBYA/AfhMCL8SwOcBTMhZ43AFgLMBjOZRliXKREPMzSbt9KJWR9NPVC6pHRfPwZloiJo5uqKh0JbU7T3t6OnpwfLO5ZhYPxG11bUYVTVqwHGp8zE4bW+iwa/tTTTw4kfHW88K1y30AXgewDIA++eY/w7AfgBoo6fN9TLREHPLSju9qNXR9BOVS2rHxXNwJhqiZo6/aMhuR01Mhbakpj3ylqxbitVdqzC+bjymNk4b4pS2pp7dPLtgRWh3vf6+flRUVuDwqXMwZ2rhraqzxpxcIawL51Nuaxr0czFORu6ahpMA3AKANm7vCUcTPgnghrBydPYErXt4DMD746zwCHObaIi5AVydj5Z7TT9RuaR2XDwHZ6JBK5MGeThxz/dacHfJNNDf04/56+djZtNM1FTWDDHL32UyysiBiYbo7W8jDfzY0dREdiHk7wHQdET2OgYAjTR8GcD/8inLDmmiIeYmi9LxRqmSpp+oXFI7Lp6DM9EQJWtK23DizvHqwyO15eJdOJ9yG2ngZEVyMNyRhuTUeGRrYqIh5vi7Oh8t95p+onJJ7bh4Ds5Eg1Ym+Y00FKoFp/2K1V5qy8W7cD7lJhr0czFORhMNsuiaaJDFS4x2dT5iwiIGmn6ickntuHgOzkSDViaZaKAIuHKuVLmJBv1cjJMximiYHlZoNYCNcVYugdwmGmJuFFfno+Ve009ULqkdF8/BmWjQyiQTDSYa9HMpyYxRRANtE00/ZwH4aZJvLoa6mWiIIai5lJwXnkYVNP1E5ZLacfEcnIkGjSwaysGJO8erD4/Ulot34XzKbaSBkxXJwUQRDYtoNArAVwH8Jjm3Miw1MdEQc5hdnY+We00/Ubmkdlw8B2eiQSuTbKTBRhr0cynJjFFEQ5LvJ+66mWiIOcKcF55GFTT9ROWS2nHxHJyJBo0sspGGbARcOVeq3EYa9HMxTkYTDbLommiQxUuMdnU+YsIiBpp+onJJ7bh4Ds5Eg1Ym2UiDjTTo51KSGbmigXaBpKOv6WyJLfky0RBz63NeeBpV0PQTlUtqx8VzcCYaNLLIRhpspCE4pHGLuriioS3ctIk2byr3i87M+AQAuvd/ADg3XKPBuS8TDZwoeWA4LzwP+gFTTT9RuaR2XDwHZ6JBI4tMNJhoMNFQ7Em6O/xi4jj9R21YGemArUcB7BJuh/0AgC8CeIRZCxMNzEBFhXFeeFG5c+00/UTlktpx8RyciQaNLDLRYKLBREOxJ+lAAHRo1acA/Er/cRs2RhIN/wawB4BOACQaTgWwkFkDEw3MQEWFcV54UblNNAxGwESDRhaZaDDRYKKh2JN0CYBDALwDwFPhwVR0XDZ9ejmkLwZwqf7jOMB4OIALAOwDYFJ4ONZtef5o/wjCUPkLAM4D8GAO5hwA3wbQC+B/wk9HuVU20cCNVESciYbigePGhoMz0RAxQUuYceLO8erDI7Xl4l04n3L7eoKTFcnBcNc00GZOnItEBJ14GddF0yMkXp4E8McCouFDAG4KN556CMCnw/ULO4encDaHCzppdKEDwN8AkCCiEQfOZaKBEyUPjKvz8aAeqm7TaXR2dqKurg6pFPcxKOw9ap2ldlw8B2eiQSuTBnk4ced49eGR2nLxLpxPuYkGTlYkB8PtLecIqkzTGMNxkUChY7hzRxrmhYKCTuTMXi+FmK8AOBkAHTB/dlhIIxIUg9wTO3PrXguAfrJXI4Clra2tGDt2rPMeXQ9SlsCF8ymnB7KtrQ3Nzc2oqKhw1nmkAa571aqfpp+oXFI7Lp6D8xEN5ZRPlC+ceGjklZYfHx6pLRfvwvmUl1sfRUdjt7S0UMrQS8C+ntB4eIaJI1800KHz7aEwuDWnDlcD2BMACR9am3EdgIPChZC3h1th/7lInb8B4Ov5ZQsXLsSYMTToUPqiB6m7uxs1NTUlf5t14XzK6YFcv349Ghsby0Y0cGLmir2r3BVTl31ueVQuqR0Xz8GVwpQqK7d8yoqGcsopTvsVy0+pLRfvwvmUl1tOrVu3DrNmzTLRIOkkc7D0W/p24VD/0ogcUc3yRcNkAG+G0xcP55DSdtenA9gh/Ddaz/Af4dcg/3R8cmkjDVFbJ6Kd6zeWiLSbmGn6icoltePiOTgbadDKpEEeTtw5Xn14pLZcvAvnU24jDZysSA6GOz1xAgD6+QIA2rOBrhkA7gSwU/h32vzpI+HLeDjusJhoODjvE8qLwnrtqFApW9OgEMRSFK7OR8u9pp+oXFI7Lp6D8xENND1Hw7PlMN2VHWnQWr8yHLnLab9SIw2Se8319cCbczFnKs3ebnq56uRTbmsatHq14eHhigZaMDgVwG451aK1BO8DcC+AcQB2Dz/J/PnwVD34ciN3TQNnesK3aiYafCPosHd1PlruNf1E5ZLacfEcnIkGrUwqj5GGSx/9Jnr6uguoAaC6vxrt6XbMXzsfs5tmo7qyuiiutq4OF+6/6R5/rpwrVW6iQT8X42TkioY3ANwD4ONhZWgByMrwCwb6EoGyjD7FpEUh9Jv+cFzFFkI+EX49ka3DiwBozQIthPS9TDT4RtBEw0AEXB1tfqi4eA7ORIN+InPizvHqw5M/cvDg0sy69JdbX8bMscE8fN6VRn9/Gm9tfBOrOldhfN14TG2cVhT3xvrFmN0yuwAL0N/Xj4rKimBl+aZeBssPnzpnyIiGiQZOViQHwxUN9Hni9wFcHFb9eAB3ADgRAC0mpOuq8GyKiTHeXkO4hoJckEg5H8B9AFrDTyqzn1yeGU5R0GZUnwx3gFysUC8TDQpBLEXh02FKqqbpJyqX1I6L5+BMNEiyhYflxJ3D5MNTzPaShy7CuXtTdzn0Inx3Vzc2pjfissf+G1894GtorqMv0wvjbnj5elx80CZrw51fqNhIA6flywPDFQ20kdOfAGQ/ZbwSAJ3hQDssZtc40GeL9Cnj6BhvnSbcSCTkX7RL5UfDf6TNnS4MN3d6Pqwndx8GV9VNNLgi5Fnu02FKXGv6icoltePiOTgTDZJs4WE5cecw+fAUs73i8cvR3de1qfs0UNVfhd6KXsxfMx+zmzcdRQiMQlxFdaVNT6xdi6amJoqKfXJZIqFpjIvGtmjdAp14SS/jZQD2z7H5HYD9AMzkPBhlijHREHPD+XSYkqpp+onKJbXj4jk4Ew2SbOFhOXHnMPnwSG1z8bYQktM6AO3TYKLBHauTANwCgKRqTziaQMP+N4SmtAskrXt4LFyc6GYsT4SJhpjbTdrpRa2Opp+oXFI7Lp6DM9EQNXOK23HizvHqwyO15eJdOJ9yW9PAyYrkYLjTE1RjmprILoT8fd4uiscAoJEGWlb7v8m5PfWamGhQD+lQQlfno+Ve009ULqkdF8/BmWjQyqRBHk7cOV59eKS2XLwL51NuooGTFcnBSERDcmo9cjUx0RBz7F2dj5Z7TT9RuaR2XDwHZ6JBK5NMNFAEXDlXqtxEg34uxslookEWXRMNsniJ0a7OR0xYxEDTT1QuqR0Xz8GZaNDKJBMNJhr0cynJjFFEw/TwhlYD2Jjkm4uhbiYaYghqLiXnhadRBU0/Ubmkdlw8B2eiQSOLhnJw4s7x6sMjteXiXTifchtp4GRFcjBRRAMdk00/9GnjT5NzK8NSExMNMYfZ1floudf0E5VLasfFc3AmGrQyyUYabKRBP5eSzBhFNCzKfLULOgjqN0m+uRjqZqIhhqDaSENdyVNQs/HhiAFOB+7CbE7zz6571Uxnbvu4fPrwSG25eBfOp9xGGlwZkazyKKIhWXcwvLUx0RBzvF2dj5Z7TT9RuaR2XDwHZyMNWplkIw0cYbY5CVHbp0H/2dmcGU00xNy6nBeeRhU0/UTlktpx8RyciQaNLBrKwYk7x6sPj9SWi3fhfMptpIGTFcnBlBppqALQm5yqJqImJhpibgZX56PlXtNPVC6pHRfPwZlo0MokG2mwkQb9XEoyYynR8DaAG8NdH+mkSLsAEw0xZwHnhadRBU0/Ubmkdlw8B2eiQSOLbKQhGwFXztn0hH6+jRRjKdFAW0bTkde06HEegJ+Huz5uGKnKJsCviYaYG8HV+Wi51/QTlUtqx8VzcCYatDLJRhpspEE/l5LMWEo0tAD4CICPhQdVkXhoB0BbSP8CwL+SfGMx1c1EQ0yB5f7GouWe82Ll+orKJbXj4jk4Ew3c1uXjOHHnsPnwSG25eBfOp9zWNHCyIjkY7tcTewM4A8CpAOiwdRIQ88OpC5rCoKOzt4TLREPMrezqfLTca/qJyiW14+I5OBMNWplkIw020qCfS0lm5IqG7D3UAPiPUEAcBYDs6ajsv4TTF38NN35K8j371M1Eg0/0GLacFx6DxgnR9BOVS2rHxXNwJhqcKSIGcOLOIfXhkdpy8S6cT7mNNHCyIjkYqWjIrfnUcOriowC2DUcflgOYkpzbU6+JiQb1kA4ldHU+Wu41/UTlktpx8RyciQatTLKRBhtp0M+lJDP6iIbsfe0A4GcADgmFQ2WSb9izbiYaPAPoMue88FwcnHJNP1G5pHZcPAdnooGTJTIMJ+4cRh8eqS0X78L5lNtIAycrkoOJKhpGA/hgOE1xcDhNQYsk/wCARh4218tEQ8wt6+p8tNxr+onKJbXj4jk4Ew1amWQjDTbSoJ9LSWaUiobDQqHwAQCjQrHweLiegc6hWJ/km1Wom4kGhSCWouC88DSqoOknKpfUjovn4Ew0aGTRUA5O3DlefXiktly8C+dTbiMNnKxIDoYjGmiNwunhCMKsUCjQsdj/F4qF55NzO7HXxERDzCF2dT5a7jX9ROWS2nHxHJyJBq1MspEGG2nQz6UkM5YSDTT9QHs0vAMArVOg47DvCT+zvA1AT5JvLKa6mWiIKbBZWs4LT6MKmn6ickntuHgOzkSDRhbZSAP3uS2VbzbSoJ+LcTKWEg0kEuiio7BpMyf6WRpnZcqA20RDzI3EeeFpVEHTT1QuqR0Xz8GZaNDIIhMNJhqwTj+Tks1YSjTcHE4//DPZtzCstTPREHO4OS88jSpo+onKJbXj4jk4Ew0aWWSiwUSDiQb9J2nzYjTREHN7cl54GlXQ9BOVS2rHxXNwJho0sshEg4kGEw2lniQ6KvuccCvpHcOvJ+jf6NoTwKcA/DDcXlr/iUwGo4mGmNuB88LTqIKmn6hcUjsunoMz0aCRRSYaTDSYaCj2JNUD+DsA2pNhVbgIclK4QJJsxgKg3SC/D+Bi/ccxMYwmGmJuCs4LT6MKmn6ickntuHgOzkSDRhaZaDDRYKKh2JN0KYCLAHwZwJUAvg7gazmigezuAjAOwH76j2NiGE00xNwUnBeeRhU0/UTlktpx8RyciQaNLDLRYKLBREOxJ4lOtKQvJ+iQKrpINFySJxquBXASgK30H8fEMJpoiLkpOC88jSpo+onKJbXj4jk4Ew0aWWSiwUSDiYZiT1IngKsBfKmEaLgcwHkA6vQfx8QwmmiIuSk4LzyNKmj6icoltePiOTgTDRpZZKLBRIOJhmJP0koAd4RbSBcbabgFwIEApuk/jolhNNEQc1NwXngaVdD0E5VLasfFc3AmGjSyyESDiQYTDcWeJBIMJAi2A7C2wPQEHZP9CgDaKfLD+o9jYhhNNMTcFJwXnkYVNP1E5ZLacfEcnIkGjSwy0WCiwURDsSfpcAD3AXgSwLkAjgPwVQCNAA4C8ONQUND/P6H/OCaG0URDzE3BeeFpVEHTT1QuqR0Xz8GZaNDIIhMNJhpMNJR6ks4E8KO8xY9ZfB+AswD8TP9RTBSjiYaYm4PzwtOogqafqFxSOy6egzPRoJFFJhpMNJhocD1JOwEg8XAAgBYgCNg8APTlxAsu482g3ERDzI3IeeFpVEHTT1QuqR0Xz8GZaNDIIhMNJhpMNOg/SZsXo4mGmNuT88LTqIKmn6hcUjsunoMz0aCRRSYaTDSYaNB/kjYvRhMNMbcn54WnUQVNP1G5pHZcPAdnokEji0w0mGgw0ZD7FLwY4bFKA9glgl25mJhoiLmlOC88jSpo+onKJbXj4jk4Ew0aWWSiwUSDiYbcp6AfAImAUsdnF3ryKvQfx8QwmmiIuSk4LzyNKmj6icoltePiOTgTDRpZZKLBRIOJhnzR0APgrwB+AeBOACQktuTLREPMrc954WlUQdNPVC6pHRfPwZlo0MgiEw0mGkw05D4FuwL4BIDTwoOo3gZwI4Abwo2c9J+65DOaaIi5jTgvPI0qaPqJyiW14+I5OBMNGllkosFEg4mGQk9SNYATwi2k3wmAph/oM0sSD78FsEH/8Usso4mGmJuG88LTqIKmn6hcUjsunoMz0aCRRSYaTDSYaHA9SZMBfAzA6eEOkO0A/gDg4vAUTJd9uZebaIi5BTkvPI0qaPqJ1os/UQAAIABJREFUyiW14+I5OBMNGllkosFEg4kGyZN0DICfAyAh8X4At0uMyxRroiHmhuO88DSqoOknKpfUjovn4Ew0aGSRiQYTDSYaOE/SXuFUxanhrpDLAbx3Mz9zIhsXEw2cDPHAcF54HvQDppp+onJJ7bh4Ds5Eg0YWmWgw0WCiodiTRFtG0+mVZwDYHUBv+FUFrWugryvo7Ikt4TLREHMrc154GlXQ9BOVS2rHxXNwJho0sshEg4kGEw25TwHtz3BsKBRoJKE2PF+CPr+8CcBK/ccu8YwmGmJuIs4LT6MKmn6ickntuHgOzkSDRhaZaDDRYKIh9ylYEq5XWAvgd+HXEo/rP2plxWiiIebm4rzwNKqg6Scql9SOi+fgTDRoZJGJBhMNJhpynwLayIk2d3oYQAfzEaMdJI9nYssRZqIh5lbjvPA0qqDpJyqX1I6L5+BMNGhkkYkGEw0mGvJFg/TJItFQKTUqI7yJhpgbi/PC06iCpp+oXFI7Lp6DM9GgkUUmGkw0mGjIfQq2ifhYLY5oVw5mJhpibiXOC0+jCpp+onJJ7bh4Ds5Eg0YWmWgw0WCiQf9J2rwYTTTE3J6cF55GFTT9ROWS2nHxHJyJBo0sMtFgosFEg/6TtHkxmmiIuT05LzyNKmj6icoltePiOTgTDRpZZKLBRIOJBv0nafNiNNEQc3tyXngaVdD0E5VLasfFc3AmGjSyyESDiQYTDdkcoGOwvx5xl8d6AGcD2AjgOv1Hc0QZA9GwdOFbGD+xBVV11aisovO7Cl+czpssXTif8v7+frS2tqKlpQUVFcXrOqJRzXHuuletemr6icoltePiOTgTDVqZNMjDiTvHqw+P1JaLd+F8ysutj1q7di2ampqoKccCJhqyOf0MADoa+/5wI6c/MYKzL4D/DI/SbggPtbqF85CUESYQDVcd91PUV5M2AiqqKlBdX4XqumpU1VZh39N2x6xDMmtIW99Yg6dufR51o2pRXV+N6roqrFu+Hgv/tRg7HzcbO79rNsZs1RCIhvYN7aiqrEZNXTVSFbSvFr8zKvXAltsD6ep8tHJF009ULqkdF8/BmWjQyiT+c8r1yGk/319UuCMEXJyrzptTH2WioXD20VuLTrO8BMB0ALRnw8sAngSwAkAbAHpr0vbS2wMgwUCqi3C/B3ARgEXch6SMcIFouPq916M2VVew2keeezBmHzUzKFv02BLc/e25RW/v4E/ui93es2MgGhY/tQR3f/MBIIVAgNSMqg6ERg0JklHV2O7IbbDDEdshlUphY2s7Ftz3ekashDhU9mP02NGoGVWDUc11wZ90kWh47h8v4en/exFzzj4QMw6Yluhwuzofrcpr+onKJbXj4jk4Ew1amWSigSLgyjkTDfr5NlKMQ3+l3bQWNJ5NmzV9FMCcUCTko0goPAvgNgA/A/DWSN3MMPgdWNPQMKoBvV296OnoRU9nL3o76c8ejJ0yBqNbRgVVaVu6FgseeA3pXgTlNPLw1nOkuTLXniftggP+a6/ggXv14ddx7xW0j1bha7+P7oG9Ttw1EA3LXnwbt3/l78WxH94De39wt6B81eut+NP5f0O6P42quirMOGAqRjXXZ36a6jF+Vguap5HeS8bl6ny0aqnpJyqX1I6L5+BMNGhlkokGEw36uZRkRpdoyK/7TgCmAhgX7hJJ50+8QL99J/kmFesWeSEk0sAtn7szEBL0/zSiQC/rk69+T/D/HR0dqK6oRm9nH7o7etDd3h0Iku72zP+PmdaArWZOCERD2xtr8PStL6InwPUEf3Zt7M4Il45e7PfhPbDre3YMbvuxXz+Np37/fNEQ7HPq7tj3FDqDDFizdC3uvOSfqG+qC0VFHeqbSGDUob65HuO3bcbYyRSC+C7OC0/Du6afqFxSOy6egzPRoJFFQzk4ced49eGR2nLxLpxPeblNodr0RPEspukJWhC5JR5MVSwqkUVD1/pu/N/H/4S+7sEDQStrKvGfN/wHahtq0NnZibq6ukAU5F9RH0gaXfj9Z+/AmrfWDQiV+rF12O7wGehY04n2NZ3Y+V3bD6zBeOu55bjj4n8UzYh9T90d++QIjL9det+gqMiKC/qzqQ4tM5qD9RqvP7oED1z7KHtqxHWvnE6Xg9H0E5VLasfFc3AmGjhZIsNw4s5h9OGR2nLxLpxPuYkGTlYkB1NqpIGmHegN92g49XA7gAXJqfqI1CSyaCAxsOq11uBlnb3oN/rxM1u85gOJq9gD27muq6hQqWukQ0uHXjRisWbpOrSv6UB7W8eAsOho6wj+bZd374DtDpsRGL357HLc+bUSAuO03bH3ybtlRleWrEVFZSqYuqkdXZNZrzEqs26D1l5M23sypuy+dcBLoypLX1iGhqbM+owMphoksAoJqqhZ4OrkJLxRuaR2XDwHZ6JB0sI8LCfuHCYfHqktF+/C+ZSbaOBkRXIwpUTDgQBOAPA+ADQtQYPq8wHcCoAEBImJLe3yEg3FguXzwJUSDVS2cuFqrFjyNhobG1GRqgimHkio+F70cm9dvAbtbZ2hwCBh0YmMwOjE7u/bKRAz9/7gIaer/f5zT+x9Mn2sk6kvrcHIv0h0kNDY48SdsdcHMlgSNo/c8MSA+BgQIvXVwTTQS39fgCPOOShY/NnX04d1Kzagsroy+EyWvnrp6e/B6IZRwf/7CJLXH3kDD1w7D4effQC2PZDWDfMuV7vns3Dx+bhCoz0mGnhtJEFx28fF6cMjteXiXTifchMNroxIVjl3TcMsAO8PBcTBmRl5vB2Khz8D+CeArmTdWiy1KTvRMFIPJE2N5K/haJgwGgd+dO/BtRjBeo0eTN93ysBIA4mGe696KLPANFyzEcjV8MoVGKtfb8MfzvtLyYZumjoGH/zxewPB8NszKVULXCkEa0AO+QR9BAR0rO3EbRfehYqqSlRWV2SERnVGaND/08jIrsfvEGBpEeyvP/4ndG3oRt2YWux07PaoqqlERSXhU2ia1oTpe08OsBQT+tyWeEgEpSpT6O3vRf2ousBX/ZjagTUj9KKf+5NHsO+pe2CrHccH01o9Xb3oWN+BClSgfmz9QMyI+/FfPx3ErLe7D73dtBamG+m+dFC/1kVrgvo1T8+sofnH9x4MYptOAVXVVUFdgvpWVmDM1g3Y+0O7DUyXPf3HF4I2ymJQkUJnVwcaGhsCATr7iMyXQnQtfnwp3np2BV7+x6s47OwDsN2hmVGpkb5cLzSt+mn58eGR2nLxLpxP+Uj1UVHb3dY0yCNHiyBp9IFGId4RfnrZDoCW89MXFNSLt8ppy8LCRAOzmaRTI1na/M6HXrT04ssKiNrGmuCrD7popOHVBxZlFo5u7EYPiZCOHqx9cx1WL1ozUNNjvnw4mqc34dYL7kJ/bx/6evqDF3jutfsJO+GgM/YJ/mn9yo24+RM0oFb4ImFw+FkHBIUv3jUfD173WFHsdnNm4OjzDw3KabTjZx/4TVEsjYgc+9U5Qd2y0zrFwNP3mYzjLjlqoPjnJ/8mEAyui2Ix95pHQWtsCl0Ttx+HE69814BooDhsWEWP96YXiRASZNnrt2fdHsQ+uFII1s5sP2dbTNljUslN0Fx19i13vdB8+bP2Wn58eKS2XLwL51NuokErA4eHhzvSUKw2tFnBMaGAoE8zJ4brIGhM+ojhuYVh9WKiQRDuYms4SlG4Oh+X+0IjHNmvVHI3zerr7Qs21KqurEZ/bzoYQaAFqXTRy3fVwtbgJd/X24/+8E/6e39Pf7A2Y9LOE4OX++/PuSNYB5K9iGPGQdOC3/L7+/qx9U4TsctxszO8Xb2gxaP07+Szv7cfvT29SPcD6b5+TN1rMg47c3+89sgbuOfyB4Zw1jbWZkYwqlKorq/BVjuMDz7XzV7zbnwqmECsqq0M1n+kU/2oHV2HJ3/7LDa2dgz5Yoc+x6WRi67OLlRWVAb+qS5ULxJk2x+57YBoeOqW50ECsL8/HdSR4tHZ3oHqqhqMHj8KB56+90Ad7rj4niGfFGcLaASGNjKjr3pG4vLNKW6dtfz48EhtuXgXzqfcRAM3w5KB8xUNuXdBXAcBODEcich887d5XSYaYm5PV+fjcs8d4fD1Q/Xg+ipW50J1KCV66Lf3Ul/ZZP1kedGdwq8/cav4i51SsSnWwReqNy16JaFGcaLpnEM+tV9QRcLSniUt2zR5rSVx5UJ+PIp9ncTlceE0ciqITzrNaudC9ZHacvEunE+5iQZXZiWrXFM0JOvO4qmNiYZ44jrA6up8OO45Ixwafqgu5Iu+LOnu7kZNTWbqhLvQtFAdSgkR16e5hV6StO5D+sVOFNFQrN6nXX8iqA6NE0ajaWpmE7Hsp700vbHd4dsG0xj0eW5cl1Zbu+qn5ceHR2rLxbtwPuUmGlyZlaxyEw2y9jDRIIuXGO3qfMSERQw0/UTlKmYX9dNcyW/WpeocRTRkBVQhgZLfBC/8bT4e/tm/gymR7DVxh/HY/vAZmHnoNgNrVpLY1qXqFDUP8jl9eKS2XLwL51NuokEr04eHhysa6DsyOrzqMwDuHp6qJdJL2YmGv156L7rRibaX16NlelM4d1+Ld154WOwBpvn74NPMN9aiZfpYlm9X56NVaU0/Ubmkdlw8BxeHaJC0DX3N8fqjbwQLWWlr9ezCVJrOOPnq44OFq1oXJx4avrT8+PBIbbl4F86n3ESDRvYNHwdXNNAnl7Sx0wcA0ImXdJ0e/gwu4R6+eo+Up0SIhlcfeD3obAd+swwPpqKjr/MbdPkrK4PFcx2tXRg9vj4YIqZP8GiVvOSizyU3rKTTzvnXildWobKmAhtXdbB90zcN1Ilk74WGrmkIW/tydXISf1G5pHZcPAc30qIhN750ANtrD72BV+e+js71XTjlf04YWOvw4t0Lgk9Rp+0zJVgIGuXixCMKb76Nlh8fHqktF+/C+ZSbaNDIvuHjKCUa7gJwL4D7wmOxX8oTDV8PT8GM9iQP3z1qekqEaJB0Vn+/4gF09bdjxROtwUp+6ngra6qGZaThzkv+Eazwv/uy+3HsV44IzrN48Lp5eNfFRxZtE1fno9WYmn6ickntuHgOLkmiIbdNaWQqe0Irfa1y00f/GOwxUTO6Otg4i0Tk5N22CvaU4F6ceHC5SuG0/PjwSG25eBfOp9xEg0b2DR9HKdFAH5/TN130dNLGTbTv8C8A/BTAEwAuLlPR0Asge4LTvwF8QhDushMN2Qey9YV1mD1ncCMewT1Hht5zxYPo6+7FxtXtGD0uc/KnS7C4Oh9XZWhKJPhUsqev5LSIr5/cekTlktpx8RxcUkVDblzpEDb65HPhg4uG7BVBB6jNPHQGdjhqJmvRKScerrzilGv58eGR2nLxLpxPuYkGTnYlB+OanqCXJO23QJs5nRFWm0aQabcX2j2Htro7BAC9fOllXA7XKgDjI1a0bEVDS0tLMOSf9Cu/88mfinHVn6ZExs1sDk7sLDUtkj8Nks/LmRbJCpQ00mhf14FRY+qRQgq1Dbw1I66OVjKiJBUx5SAasvdE6x2Wv7QSlAsLH1o8sDEVbSe+/0f2DGB0P8W2ApfG2ZVjxcq1/PjwSG25eBfOp9xEQ9SMGxk7l2jI1mq78NyJT4bbR5OQoP0YaLKZ+t8OAI8AmAvgv0fmVtheTTSwQzX8QFfn46oRTYkcee7BwW6RpaZFfP1QPbK+aE7+7svm4tivzMHollHOKZiBl6Hwe3xunTm4chINuW1OI0hLn1mGV+cuwl4n7xos7qVr0bwl+Pdvng2mL+jT1Mf+7+mBk1U58XDlFadcy48Pj9SWi3fhfMpNNHCyKzmYUqLhs+F6hhcAFFoImV3TQKMQcwDQcnyazqBdIuO6DgdwAQDa73dSeB4GbV2de50VYqic6n4egAdzALR/7nOh0LkoFDrc+tpIAzdSEXGuzsdFm50SIVypaRGXH84IB3dUo1Cd6eU267AZok18XHWWiJFyFQ3F2v+f3//XkMXBhMuetcHdFMuVW65ybvvEySOtAxfvwvmUm2hwZUSyyl1HY9MoAv1m/nR4zgS9kP83vIVCCyHpUAAadYjrOi6cDnkSwB8LiIYPAbgJANWTtrL+dLhmYWcAb4SVoimVtwDQUYl0TsZu4UJPTp1NNHCi5IFxdT4e1ENMNfxkBUpPdy9WL2rDuBnNqK6pcq7bkLzccyvNrTPh/nb5vejr6A+mSwqt73jHBYcWFSyl/CS1g6fNpV57eDGeu/NlrFkyuK03nbUx48BpInEWNce47ePi9+GR2nLxLpxPeVJzqlg72YFVxTN4CgD6nJJGEWi5e3YqgkQETUPQN3s0TTFSX0+QoKGTN3NHGuYBIEFB+0lkL/rqgzBfKXCrdAbz18I1GYUiQYs/6Sd7NQJY2trairFjM7vblbpcDxL35eHicXXybW1taG5uLss1Da4YRy13xVTCG5WrkN1d375/YCFn2xtrg9+W6VwMumoaanDo2fui0HbIrz64CAsfXJypdhpYsWAlxs/IHIG+5s2c9R1TxqJ1cRsmbDceff19wdkT+d/pzjp0Oqbst3VBP9TBJzWfaO3DH877a7CeJZg0TQHNU8fiP646Dl3dXQXvR9LOLmzUPMjn9eGR2nLxLpxPeZJzqlCbk2igNWIA6CUwqFBdCbKZlEvXNNAoQ1UoFmjKIjsSQcP/dMIO/dCoxHBc+aKBThuiBZonA8g9ovBqALRaisRPc4ihr0GmhqMRNKVS7FTObwCgEZUh18KFCzFmDA06uEVDdnvhYou0gj4+nR7YhrgQzqecHsj169ejsbGxbEQDJ2au2LvKXTF12eeWR+FaMu8tvDFvGdL9/Ujl7K9BG2GNndyI9cs2BHtr1LfUonFSZovldcvXB2W5+Gw9ph0wCdMOCI/gTqfxyE3/xl4n0GBaCp1ru/DIj5/EQefsjbqxtXju9pdAR4wXi3Op+0lyPtGnmX/94v3BoWLZq6K6Au++cg5Qg2Cb71LPoaTNC2Gj5IE2j7QOXLwL51Oe5Jwq1D7r1q3DrFn0+jPRUOqZKbSm4TsAvhR+gkkvZDqgil7kwzXykC8aqMd8M5y+eDjnZr4abkK1A4CDw+kV6lXInkRB/pqI3DjYSINvTyq0d/3GIqQrCtf0E5WrkN1fvvFPHPG5g4KFnHTS5Tu/fHiwvwVdD/7PPMz5/IHO35iJ954fPoj+jr5geoKu/PUdR3/hkMjTE0kdaaD7pHMu6CyQ7EVngbTMaLLpiSJPAjd3XTifchtp0OrVhoeHO9JQaiFkViRMCH+b/8PwVD146edOT2RFAwkD+pIje9Fix4+Eosa3asGahif/8gz2evfuTi7Xg5QlcOF8ysttvtB1r86gMwGafqJyFbIrtpCTbquiphKHnbMfSzS4TsMsVedSZeWWTxS3qO3DTKUBmJYfHx6pLRfvwvmUl1tO2ZoG3pNB46MnhTtELglNRnpHyCjTE7y7LY6yhZC+EXTYuzofLfeafqJySe24eA7ORINWJg3ycOLO8erDI7Xl4l04n3ITDZysSA6GO9JQqMY0JUELIb85QrdTbCEk7VZJX09krxcB/LnIQkhp1U00SCMmxLs6HyFdUbimn6hcUjsunoMz0aCVSSYaOKM5m9PolY006D87cTLSiAdtNEXXUwDOD/eSoIWM9Ell9pPLM8Mpik8BoA2pdgEQLi33qp6JBq/wuY05Lzw3ixuh6Scql9SOi+fgTDS4c0SK4MSdw+nDI7Xl4l04n3IbaeBkRXIwPiMNI3EXNLJBB2jlX78C8NHwH2mU4cJw8yc6Y+Lz4VcdGvU10aARxRIcrs5Hy72mn6hcUjsunoMz0aCVSTbSYCMN+rmUZMZiouFmALSgMXsMtvQefO2l/oYLryIaaLfB3OOeXZ28T3m5qXjXvWo1tKafqFxSOy6egzPRoJVJJhpMNOjnUpIZi4kG+iSRPkf8VsTK+9pHdBu7WWTRcNd/D27a8/aC1Zi4/TiMah4VHFHt6uR9yk00FM4JV0wlmRSVS2rHxXNwJhokLczDcuLOYfLhkdpy8S6cT3m59VG2pqFwFtNLn/YvKLWHQan8/6Wn6OA8WyOBGfjkcsWTq53+c09SfLvA6Yv9velAPLhOXMwvzz+BsdQDW24PpKvzcQadCdD0E5VLasfFc3CaoiF72ieFPn/Lavo37qmfzKYTwzjxEJMWMNDy48MjteXiXTif8nLro0w0FBcNwahThIcpO3rhM1IRwe2wmEQeafjHlf9CX3cverv7sPylt7H1ThMHOlOfB841NFhuD6QrFlqtrOknKpfUjovn4EphFsx9HfPnvhbsIJo/FEkdQk93N6ppd8WwMbIHd9Ff848kp39rXbQmEMfci3MsOZfL9XxIeFxYTtxdHL71ldaBi3fhfMrLrY8y0VA4i0/nJLcDQ9tJP6PAkySKyKIhd/taW9NQvEldnY9WMmj6icoltePiOTjNkYbsEeHUNvlHktO/PXjdPLzrYjq+ZmQuTjw0aqblx4dHasvFu3A+5SYaNLJv+DjK7euJ4YtMYU8qoiGf2ueBc/1mUm4PpCsWWgmg6Scql9SOi+fgNEVD7i6W1D65W1bT3ytrqoK1OyN1ceKhUTctPz48Ulsu3oXzKS+3PspGGjSeli2Hw0RDzG3t6ny03Gv6icoltePiOThN0aDVJnHxcOKh4VvLjw+P1JaLd+F8yk00aGTf8HHYSIMs1iYaZPESo12dj5iwiIGmn6hcUjsunoMz0aCVSYM8nLhzvPrwSG25eBfOp9xEAycrkoMx0SBrCxMNsniJ0a7OR0xooqFgBEw0aGWSiQaKgOu5LVVuokE/F+NkNNEgi66JBlm8xGhX5yMmNNFgoiGdtqOxPZ8D13PpU26iQatXGx4eEw2yOJtokMVLjHZ1PmJCz86S4y9qnaV2XDwHt7mPNOR+ocSJB6edXRgtPz48Ulsu3oXzKTfR4MqsZJWbaJC1h4kGWbzEaFfnIyY00bDZjzTkbi5FN0sbTGV3Xa2srkSatpupTqO2tg7HXHi4VgptwqOVuz48Ulsu3oXzKTfREFtKxkJsokEWVhMNsniJ0a7OR0xooqHsRAONErz6wCJ2U+duLkVGm2wwlQboxbRmyVpM3H48mzcf6Np0Sit3fXiktly8C+dTbqIhckqOiKGJBlnYTTTI4iVGuzofMaGJhrITDdI2zt8nInfX1aqacKShKo3KimobacgLLvd5c+F8yk00SDN+ZPHFRMMNEatFu8x+PKJtOZiZaIi5lVydj5Z7TT9RuaR2XDwHZ2satDJpkIcTd45XHx6pLRfvwvmUm2jgZEVyMKVOuSxUSxIFhWyy/05/Vibn9tRrYqJBPaRDCV2dj5Z7TT9RuaR2XDwHt7mLhtw84cRDI6+0/PjwSG25eBfOp9xEg0b2DR9HMdGwTV4VKgBcDeDA8M8HAawAsBUAWln0OQCPAPg8gNeGr/rD7slEQ8whd3U+Wu41/UTlktpx8RyciQatTLKRBoqAK+dKlZto0M/FOBm5axq+HAqCPQEsK1ChKQCeAvA9AFfEWeER5jbREHMDuDofLfeafqJySe24eA7ORINWJploMNGgn0tJZuSKhgUA7gJwTomb+QmAYwFsn+Qb9qybiQbPALrMOS88FwenXNNPVC6pHRfPwZlo4GSJDMOJO4fRh0dqy8W7cD7lNtLAyYrkYLiioQMAiYILSlSdRhnOBlCfnNtTr4mJBvWQDiV0dT5a7jX9ROWS2nHxHJyJBq1MspEGG2nQz6UkM3JFA400EHZXAJ0FbmgUgOcA9NtIg7wTcXXyPuXlpuJd96r1MGn6icoltePiOTgTDVqZJH/eXZ457VeMQ2rLxbtwPuXl1kfZ0diuDM6UfwnAZeG6hW8B+BeA1QDGATgMwCUA9gDwFVvTIO9EfB44l8ovtwfSFQteurpRmn6ickntuHgOzkSDO0ekCE7cOZw+PFJbLt6F8ykvtz7KRAMniwH6euJ6AB+jhbKhCY0q0L/TRaMQvwDwiZxyHnN5oWx6Iub2cnU+Wu41/UTlktpx8RyciQatTJL/kuDyzGk/G2lwRTG+chMNstjOAXA6gN0BjAWwFsAzAG4EMFdGVZZoEw0xN5tPhympmqafqFxSOy6egzPRIMkWHpYTdw6TD4/Ulot34XzKbaSBkxXJwXDXNCSnxiNbExMNMcff1floudf0E5VLasfFc3AmGrQyyUYaKAKunCtVbqJBPxfjZDTRIIuuiQZZvMRoV+cjJixioOknKpfUjovn4Ew0aGWSiQYTDfq5lGRGO3tC1jomGmTxEqM5LzwxaQEDTT9RuaR2XDwHZ6JBI4uGcnDizvHqwyO15eJdOJ9yG2ngZEVyMNKzJ1w1t7MnciLkepCyUBfOp7zcHkjXvboSkFuu6Scql9SOi+fgTDRwM4WP48Sdw+bDI7Xl4l04n/Jy66NsIWThLM4/e4KT61nMYgm4zLA20hBzg7k6Hy33mn6ickntuHgOzkSDVibZ9IRNT+jnUpIZbU2DrHVMNMjiJUZzXnhiUpue2CQCJho0ssimJzRGS22kQT8X42Q00SCLrokGWbzEaBMNxUPGjQ0HZ6JBnJpOA07cnSSMLxFKcUjrwMW7cD7lJho4WZEcjEQ0VIUHVp0KYEcAtHU0/RtddPrlpwD8EMD85Nyeek1MNKiHNJ7f1lzVdHVyLvvc8qhcUjsunoMz0SBpYR6WE3cOkw+P1JaLd+F8yk00cLIiORiuaKBDqP4O4GAAqwD0AJgEoDK8FdroaTmA7wO4ODm3p14TEw3qITXRUFdXh1TK/Si6OuZsJDk4Ew36icyJO8erD4/Ulot34XzKTTRwsiI5GHdPlanrpQAuAvBlAFcC+DqAr+WIBsLQ0dl0FsV+ybk99ZqYaFAPqYkGEw3xJpXrhablXcuPD4/Ulot34XzKTTRoZeDw8HBFA005LAVwVFgtEg10SFV2pIH++VoAJwHYanif3qvFAAAgAElEQVSqPiJeTDTEHHZX56PlXtNPVC6pHRfPwdlIg1YmDfJw4s7x6sMjteXiXTifchMNnKxIDoYrGug47KvD0y6p9oVEw+UAzgNQl5zbU6+JiQb1kNpIg400xJtUrhealnctPz48Ulsu3oXzKTfRoJWBw8PDFQ0rAdwB4IwSIw23ADgQwLThqfqIeDHREHPYXZ2PlntNP1G5pHZcPAdnIw1amWQjDRQBV86VKjfRoJ+LcTJyRQMJBhIE24UnW+aPNEwF8AqA2wB8OM4KjzC3iYaYG8DV+Wi51/QTlUtqx8VzcCYatDKpuGj426X3oa+nT+SotqEW77jgUHR2doI7ApXrgNP2UfAuXp9yEw2iFBlxMFc0HA7gPgBPAjgXwHEAvgqgEcBBAH4cCgr6/ydG/K7iq4CJhvhiGzC7Oh8t95p+onJJ7bh4Ds5Eg1YmFRcNd17yDxx5Ln1wtun1+qNLsO2Bmw7KPnjdPBx70REmGvSbR43RtpHmh/JMAD/KW/yYtSY5fRaAn/HpyhJpoiHmZuO88DSqoOknKpfUjovn4Ew0aGTRUI78mBYTDe1tHbj7svtx7FeOwKhm+pp98DLRUKHfMMqMJhpkAd0JAImHAwC0AFgHYF745cQLMqqyRJtoiLnZOC88jSpo+onKJbXj4jk4Ew3yLHr1gdfx6gOLihrSaX001F5RUQEawl3xyiqMm9m8CX7N0rXYuKoDo8fXo2kqbXEzeLUuWoMJ248bwiOpaX4dXLZc/KzDZmDq/lsXnTJx5VypcpuecLVSssq50xPJqvXI1cZEQ8yxd3U+Wu41/UTlktpx8RyciQatTBrksZGG4uswTDTo59tIMZpokEXeRIMsXmI054UnJi1goOknKpfUjovn4Ew0aGTRUI78mN5zxYPo6+4t6Gjj6naMHkc78Q+9KmuqbCGkftOoMtr0hGo4N3syEw0xNzHnhadRBU0/Ubmkdlw8B2eiQSOLSouGqB447VeMW2rLxbtwPuU2PRE1U0bGrthIww20kD38QmIFAPo75yKbj3OAZYox0RBzw7k6Hy33mn6ickntuHgOzkSDViYN8nDizvHqwyO15eJdOJ9yEw2crEgOppho6A9FAy18pC2k6e+ci0RD7tbSHJtywphoiLm1XJ2PlntNP1G5pHZcPAdnokErk0w0UARcOVeq3ESDfi7GyVhMNGwTOn0TAE3KZf/OqctiDqhMMSYaYm44V+ej5V7TT1QuqR0Xz8GZaNDKJBMNJhr0cynJjKUWQn43POaajsG2KxMBEw0xZwLnhadRBU0/Ubmkdlw8B2eiQSOLhnJw4s7x6sMjteXiXTifchtp4GRFcjClRANNSTwP4CMAnklOlUe0JiYaYg6/q/PRcq/pJyqX1I6L5+BMNGhlko002EiDfi4lmbGUaLg0PNWS1il8C8BlgrUNSb5nn7qZaPCJHsOW88Jj0Dghmn6ickntuHgOzkSDM0XEAE7cOaQ+PFJbLt6F8ym3kQZOViQH49qnYR8AvwJACyIfD0cdFiSn+sNeExMNMYfc1floudf0E5VLasfFc3AmGrQyyUYabKRBP5eSzOgSDVT3mnCk4QsAugF8OTygKsn3FVfdTDTEFdmQl/PC06iCpp+oXFI7Lp6DM9GgkUVDOThx53j14ZHacvEunE+5jTRwsiI5GI5oyNaWzpv4JYDZAJYD6CpwGzSVMSs5t6deExMN6iGNp+N1VdPVybnsc8ujckntuHgOzkSDpIV5WE7cOUw+PFJbLt6F8yk30cDJiuRgJKJhJoCbwqOwS91B8o8pix5/Ew3RY8eydHU+LBIGSNNPVC6pHRfPwZloYCSJEMKJO4fSh0dqy8W7cD7lJho4WZEcDFc00LHX9AkmbZb+43CKojM5tzFsNTHREHOoXZ2PlntNP1G5pHZcPAdnokErkwZ5OHHnePXhkdpy8S6cT7mJBk5WJAfjEg1Twy2kjwawBMBHAdyfnOoPe01MNMQcclfno+Ve009ULqkdF8/BmWjQyiQTDRQBV86VKjfRoJ+LcTKWEg0kEK4CQAe+01qGcwGsj7MyZcBtoiHmRnJ1PlruNf1E5ZLacfEcnIkGrUwy0WCiQT+Xkszo2tyJDqv6FIA7knwTw1g3Ew0xB5vzwtOogqafqFxSOy6egzPRoJFFQzk4ced49eGR2nLxLpxPuY00cLIiOZhSouEWAGcCWJ2c6o54TUw0xNwErs5Hy72mn6hcUjsunoMz0aCVSTbSYCMN+rmUZEbXmoYk130k6maiIeaoc154GlXQ9BOVS2rHxXNwJho0sshGGrIRcOVcqXIbadDPxTgZTTTIomuiQRYvMdrV+YgJixho+onKJbXj4jk4Ew1amWQjDTbSoJ9LSWY00SBrHRMNsniJ0ZwXnpi0gIGmn6hcUjsunoMz0aCRRTbSYCMNWKefSclmNNEgax8TDbJ4idGcF56Y1ETDJhEw0aCRRSYaTDSYaNB/kjYvRhMNMbeniYbiAebGhoMz0aCfyJy4c7z68EhtuXgXzqfc1jRwsiI5GBtpkLWFiQZZvMRoV+cjJixioOknKpfUjovn4Ew0aGXSIA8n7hyvPjxSWy7ehfMpN9HAyYrkYEw0yNrCRIMsXmK0q/MRE5poKBgBEw1amWSigSLgem5LlZto0M/FOBlNNMiia6JBFi8x2tX5iAlNNJhoSKfR2dmJuro6pFLxdXlauevDI7Xl4l04n3ITDVq92vDwxPcEDU/9h9uLiYaYI+7qfLTca/qJyiW14+I5OBtp0MokG2mwkQb9XEoyo4kGWeuYaJDFS4zmvPDEpAUMNP1E5ZLacfEcnIkGjSwaysGJO8erD4/Ulot34XzKbaSBkxXJwZhokLWFiQZZvMRoV+cjJrTpCZuesOmJoo8N93lz4XzKTTRo9WrDw2OiQRZnEw2yeInRrs5HTGiiwUSDiQYTDVodB4C1a9eiqamJGOkEaNvcSTG2myOViYaYW9VEQ/EAc2PDwdn0hH4ic+LO8erDI7Xl4l04n3IbaeBkRXIwW9pIwzQANwGYCKAXwKUA6DRP7mWigRupiDhX5xORdhMzTT9RuaR2XDwHZ6JBK5MGeThx53j14ZHacvEunE+5iQZOViQHs6WJhkkAtgLwdCgcngSwA4CNzCYx0cAMVFSYq/OJyptvp+knKpfUjovn4Ew0aGWSiQaKgCvnSpWbaNDPxTgZtzTRkB/LZwEcD2AJM8gmGpiBigpzdT5ReU00DI2AiQatTDLRYKJBP5eSzFhuouFwABcA2AcAjRq8H8BteQE+K8RQ+QsAzgPwYIFG2BfALwHsKmggEw2CYEWBmmgoHjVubDg4Ew1RsrO0DSfuHK8+PFJbLt6F8ym3kQZOViQHU26i4TgAhwCgaYU/FhANHwrXLJBweAjApwF8AsDOAN7ICfu4UEhQ2cOC5jDRIAhWFKir84nCWchG009ULqkdF8/BmWjQyiQbabCRBv1cSjJjuYmG3FimC4iGeaGg+EwO8KVwNOIr4b/VArgHwPWhwCjVPoSln+zVCGBpa2srxo6lr210fvNwdfI+5aTi29ra0NzcjIqKCleVR7zcda9aFdT0E5VLasfFc3A+oqGc8onzQktaTnHar1idpbZcvAvnU15ufRR9ctnS0kJNYJ9caj08w8STLxpqALQDOBnArTl1uBrAngDmACCRdDOAVwB8g1FPwnw9H7dw4UKMGUODDm7R0N3djZqampJ73tMDVwrnU04P5Pr169HY2Fg2ooETM1fsXeWumLrsh6hXR/uV6uAl98qtMwdXClOqrNzyKSsaJHGWtL1GHuT747Rf0nLKVefNKafWrVuHWbNmmWiI+qCMoF2+aJgM4M1w+iJ3yuGrAE4Pv5I4FMADAGgBZPb6CIDnityHjTQMcwO7fmPRqo6mn6hcUjsunoOzkQatTBrk4cSd49WHR2rLxbtwPuU20sDJiuRgNqfpiaxoOBjAIzkhvggACYMdFcJuaxoUgliKwtX5aLnX9BOVS2rHxXNwPqKBpudoeLYcpruyIw12ymXhJ4eTK5wYunhKldtCSK1ebXh4NifRwJme8I2qiQbfCDrsXZ2PlntNP1G5pHZcPAdnokErk2ykwVdUmGjQz8U4GTcn0UBxooWQTwCgryey14sA/gwguxDSJ54mGnyix7DlvPAYNE6Ipp+oXFI7Lp6DM9HgTBExgBN3DqkPj9SWi3fhfMpNNHCyIjmYchMNDQC2C8P3FIDzAdwHoDX8pDL7yeWZ4RTFpwB8EsAuABYrhN1Eg0IQS1G4Oh8t95p+onJJ7bh4Ds5Eg1Ym2UiDjTTo51KSGctNNBwRioT8mP4KwEfDf6RRhgvDzZ+eB/D5cPGjRjuYaNCIYgkOzgtPowqafqJySe24eA7ORINGFg3l4MSd49WHR2rLxbtwPuU20sDJiuRgyk00jHTkTDTE3AKuzkfLvaafqFxSOy6egzPRoJVJNtJgIw36uZRkRhMNstbJiIaHrsfYg2kzydIXp/P2feBc9uWm4rkxc8XeVa7pJyqX1I6L5+BMNLgyRF7OiTuH1YdHasvFu3A+5eXWR9HmTk1NTdSUtrkTJ6G3cIyNNMScAK7OR8u9pp+oXFI7Lp6DM9GglUk20uD6xcVVbqJBPxfjZLSRBll0TTTI4iVGc154YtICBpp+onJJ7bh4Ds5Eg0YWDeXgxJ3j1YdHasvFu3A+5SYaOFmRHIyJBllbmGiQxUuMdnU+YsIiBpp+onJJ7bh4Ds5Eg1Ym2UiDayTBVW6iQT8X42Q00SCLrokGWbzEaM4LT0xqIw2bRMBEg0YW2UhDNgKu57ZUuYkG/VyMk9FEgyy68YuG35wAdK4BVr4ATNgFaJyE9Ad+i1Lb4G5OD6Sr85E1V3G0pp+oXFI7Lp6DM9GglUk20uAaSXCVm2jQz8U4GU00yKKrJxqe+w1APwDo5K3+/j5UVFQitfQRoKoeWLcEGDMN6OtGesr+g+W59d3tVGC3U2GiQdaIrk5MysZ5SRfilNpx8RyciQZpK7vxnLi7WVDyeXbZS+vAxbtwPuUmGlytmqxyEw2y9siIhrZWjG1qdlq6HqSCQ3t/OAXoaAOWPQ1M2hOob7aRBmek5QBu23CYo3JJ7bh4Ds5EA6dlZRhO3DmMPjxSWy7ehfMpN9HAyYrkYEw0yNpi05GGP5yaGRHY9ihg+qFALe10nblcDxIX5+KxkQZZI0rahsPsap9iHFI7Lp6DM9HAaVkZhhN3DqMPj9SWi3fhfMpNNHCyIjkYEw2ythgqGja8DXxvq0GGiipg8n4ATTGQaHj3Nejc7WOoq6tDKlU81D4PnOsFWG4PpCsWsuYqjtb0E5VLasfFc3AmGrQyaZCHE3eOVx8eqS0X78L5lJdbH2WbO3Gy2DDZCAwVDV0bgFf+DLx+L/DaP4G1Q8/EStc1o/NzS1BXPwqp7g3AIz8Axu8EjN8RGDcbqK5jjUh4PZA3n4A1PbVoXn4vUhN2DhZW4uTfJbZFXfeqVXFNP1G5pHZcPAdnokErk0w0uH5xcZWbaNDPxTgZbaRBFt3SCyHbXgd+MSeziDG8uqYdgZoz7kXqzceBnx2Q4y0FNG8biIj0+B3QPfN41Gx3ZGZE4qXbgDs/Dbz3p8COJxSf5ggXUw5ZSJl3P+mlj6KvogZVG94cWFiJKfvz7jpcaMkD66A4LzwNT5p+onJJ7bh4Ds5Eg0YWDeXgxJ3j1YdHasvFu3A+5SYaOFmRHIyJBllbDJ49sej2TS3TaeDVvwHpvswIAv0nVQVs967MSEPbQoD+7F4P9PcOse8+6gpUH/bFDO4ycgOgqg6YvD/S1fXoT1WhonY0UvRve/wXMPPoDGbNYqSf/T/0pqtQVd+QKc/56X/8Omxcvw4Ny/+F1MTdgPGzgQ/eIrvrYUS7Oh+tqmj6icoltePiOTgTDVqZNMjDiTvHqw+P1JaLd+F8yk00cLIiORgTDbK2KD3S0L4auHIikO4fYE2nKoELViA1alxu7wJsWAGsehlY9RLSK19C144no3bbQ5Gi0YM/fbh0rY6/DtjvzAyGpkVufEdRfP8R30LF/Zdkypu2BdYsAhq2AhomAQ1bZ6Yr6E/6Oy3kpC82AsWTBkqsw5CFjY92dT58ptJITT9RuaR2XDwHZ6JBK5NMNGS6i/QWs5eMrWnQf3Y2Z0b3Pg30qeTGFeF7N42u6ibUbnMAbyFkbQ1S1+6aERPBlQLGTEH6yG+hp7Md1ak+pPq6gFnHAFvvkYGseB7pR69CX1c7KtGLVG8nMPDThf7J+6Hi39fy2uQdlwOHfimDXfZUZqpliLAIxQX929QDgAk78XgFKFfnI6AqCdX0E5VLasfFc3AmGrQyyUSDiQb9XEoyo400yFrHLRpy+Did95AHrn8jUldNy7z0s1dVHdLnL0VnalTRrzCK+unvR/q63YCVLyOFfiBVAbRsD5z068xIx4bl4c+yzJ97fRzY/l0Zzwv+Bvz63cWj847vAodeGAqMpzPY3FGLXLHRvgq475LMGo2Z7wTWLQUqKgEahaE65fx/umY0OvsqMvdKox193WF5RQarNPqRfulW4I7MupHUTifKsiAPzW3nfCdSOy6egzPR4NXkBY05ced49eGR2nLxLpxPuU1PcLIiORgTDbK2iFc00Ity+TMDIxVB1UZvhfTWe0Qb+mtfjfQPpmZGH3JECM5/ExjVUvrOezqBtW8MFRXrQ3FBAuOAc4DZx2c45v8VuDn8/1Ks9OXI8dcCvzqyKCp99HfQue95GdGw7Engp/sOxQbCIRQbh30VOCKcelm9APj5ITkCo3KoMNn744OjKOveQvpHs4K4pGsakNrx/QBNH9WPy/y59Z7AtIMyfkm49LQD1aOKChZXh1nsZqV2XDwHZ6JB9uBz0Jy4x80jrQMX78L5lJto4GRFcjAmGmRtEb9oKPCbtNcD+daTWL/sVTQ2NqKioiIQIQPrFmT3XhxNn56ung9sCEXFgLhYBrz9fKYsex31beChKzKLRWntRz/92Zf5E2mk3/FddO5zTkY0vPVv4PoSX3rMuQQ48psZ5rdfAGhqp9h18BeBY67MlD5yNXD3ecWx+34GeE84pUPrVK4YD1TWAvUtobhoGRQYM45EerdTM6KOppfeeGgopqqmuEByzAPnG7ryIIvn4Ew0aCX/IA8n7hyvPjxSWy7ehfMpN9HAyYrkYEw0yNqi/ERDfz9aW1vR0tKSEQ3DefX3A5ePzXwxkr1qxwBfagMK1SWdziyo6uoKpyf6ge6NmwqMrNggrvqmDDONjLS+mhEiWRGSK0waJwMtM+mQD+DaXZBe9QpSJFKQQmr0xMwXKR2tmR8aQaGRCbpWzQd+skNJgZE+/pqMaKDppSsnDMXWNGTEBo1i7HwScPhFmfL+PqTn/Qg9VY2oXvc6Uk9cD7zv+uAT22KXq2M20VA4cty4+T4aWn58eKS2XLwL51NuosE384bX3kSDLN5blmjIOVRLFqYQTesRFt69qemsY4HKwr+Bl9pzIiDy3TuCRg5+MHWTdSNFp2xoeoKESyAoVgNkT3/S3+n/J++D9HbvyoiGrpVI3fTOzL93tg35iiao+35nAcdfk4nHxlVAvsCg6Zuzni8sqBgr1E00mGhwvbzzI8TFu3A+5SYaIvWuI2ZkokEW+i1LNMhiUxh9/UHA7h8G5n4TmPN14IVbgDPmev827VW1ZU8jvWE5uru7UVNTgxQt2sx+ahqBuGCHSSMadMR5rtgYM2Xwq5cNbyN917noX/ECKlc+N+j1Q38Cdnp/wVq4OmYTDSYauDkiyRXCunh9yk00ROh0RtDERIMs+CYaZPECbvkQ0NMBrKMdKacA1fUlt7F2dT5S98Xwmn6icqVpiuKa3ZBqfQUpmlahRZ402vCZZwuONnD9cHC2pkErkwZ5OHHnePXhkdpy8S6cT7mJBk5WJAdjokHWFiYaZPESo12dj5iwiIGmn6hcaZqiuGoa++sWrh8OzkSDViaZaPAdiTDRoJ+LcTKaaJBF10SDLF5iNOeFJyYtYKDpJyoX2XUtnofanjWDm3+V+LqF64eDM9GgkUVDOThx53j14ZHacvEunE+5iQZOViQHY6JB1hYmGmTxEqNdnY+YMMkjDfbJpVZzluQpt5zyqa/Ulot34XzKTTQMy2Og5sREgyyUJhpk8RKjXZ2PmNBEQ8EI2EiDVibZ9IRNT+jnUpIZTTTIWsdEgyxeYrSJhuIh48aGgzPRIE5NpwEn7k4SxpcKpTikdeDiXTifchtp4GRFcjAmGmRtYaJBFi8x2tX5iAltpMFGGoTTQFFzTCt3fXiktly8C+dTbqIhasaNjJ2JBlncTTTI4iVGuzofMaGJBhMNJhqKPjbc582F8yk30aDVqw0Pj4kGWZxNNMjiJUa7Oh8xoYkGEw0mGkw0aHUcANauXYumpmD7+rEA1ilSlwWViQZZM5lokMVLjB4W0XDz+5Du7UTPhlZUN7QgeAjqm0tuOlXqRqLWWWrHxXNwtqZBnJpOA07cnSS2poETohHFmGgY0fCXnXMTDTE3mVbHW7KaNx6D9NGXIf3bE5E65TakGicBd54JnHZ7pLuLWmepHRfPwZloiNTUJY04ced49eGR2nLxLpxPuU1PcLIiORgbaZC1hYkGWbzEaFfnA99DtKhGSx9BuqoeqXVLkB4zDanxOwIrngWmlDiGu8Sd0CFbPTuchOq9/2twkybGnTvvNY+Di+fgTDQwGkgI4cSdQ+nDI7Xl4l04n3ITDZysSA7GRIOsLUw0yOIlRrs6HzFhIYNbPoR0Rxv6lz+Liq13R6qqznkmRim/UesstePiOTgTDSqZNISEE3eOVx8eqS0X78L5lJto4GRFcjAmGmRtYaJBFi8x2tX5iAmLGGj6icoltePiOTgTDVqZNMjDiTvHqw+P1JaLd+F8yk00cLIiORgTDbK2MNEgi5cY7ep8xIQmGgpGwESDViaZaKAIuJ7bUuUmGvRzMU5GEw2y6JpokMVLjHZ1PmJCEw0mGuyTy6KPDfd5c+F8yk00aPVqw8NjokEWZxMNsniJ0a7OR0xoosFEg4kGEw1aHYft05D5RN0udgRMNLBDFQ24RYmGm9+Hzr4K1KXbhz6IRfaM4MaGg7PpiWj5WcqKE3eOVx8eqS0X78L5lNtIAycrkoMx0SBrCxMNsniJ0a7OR0yY5JGGG49B53E/RV33aqT+/kXg2O8DDVsX3TOCGxsOzkSDViYN8nDizvHqwyO15eJdOJ9yEw2crEgOxkSDrC1MNMjiJUa7Oh8x4TCJhp4nb0T1K38UDd2llz6C/ol7oKJ1frBnBMZMA0rsGUH7QfT396GiorKknwHc7h9GavfTbHrCpidsekKr47DpCVEfpxj2sqUy0RBz05WraOjs7ERdXZ1scycbaYg5mzL05ZZTPvWV2nLxLpxPuY00DMtjoObERhpkoTTRIIuXGO3qfMSEwzTSEEk03PIhdPamNl3TUF1f8BwMbmw4OJue0Mokm57gCLNS+WaiQT8X42Q00SCLrokGWbzEaM4LT0xawEDTT1QuqR0Xz8GZaNDIoqEcnLhzvPrwSG25eBfOp9xEAycrkoMx0SBrCxMNsniJ0a7OR0yY5JEG4Vw7NzYcnIkGrUyykQYbadDPpSQzmmiQtY6JBlm8xGjOC09MaiMNm0TARINGFtlIQzYCrufWpif0822kGE00yCJvokEWLzHa1fmICW2koWAETDRoZZKNNNhIg34uJZnRRIOsdUw0yOIlRptoKB4ybmw4OBMN4tR0GnDi7iTx/NpDWgcu3oXzKbc1DZysSA7GRIOsLUw0yOIlRrs6HzGhjTTYSINw7UjUHNPKXR8eqS0X78L5lJtoiJpxI2NnokEWdxMNsniJ0a7OR0xoosFEg4mGoo8N93lz4XzKTTRo9WrDw2OiQRZnEw2yeInRrs5HTGiiwUSDiQYTDVodh+0IaTtCCnPJRIMwYFK4iYbiEePGhoOzNQ3SzHTjOXF3s/jtYCmtAxfvwvmU20gDJyuSg7GRBllbmGiQxUuMdnU+YkIbabCRBhtpsJEGrY7DRhpspEGYSyYahAGTwk002EiDNGdc+HLLKZ/6Sm25eBfOp9xGGlwZnKxyG2mQtYeJBlm8xGhX5yMmtJEGG2mwkQYbadDqOGykwUYahLlkokEYMCncRIONNEhzxoUvt5zyqa/Ulot34XzKbaTBlcHJKreRBll7mGiQxUuMdnU+YkIbabCRBhtpsJEGrY7DRhpspEGYSyYahAGTwk00JHyk4eYT0JpuRkvfMlRseAtomDRY4frmgkd6S3NAG19uOeVTX6ktF+/C+ZTbSIN2xsfLZyMNsviaaJDFS4x2dT5iQhtp0B1puPFYtM65Gi1jG1Fx+8eAE385yH/nmcBpt2s1kRpPueWUT32ltly8C+dTbqJBLdWHhchEgyzMJhpk8RKjXZ2PmNBEQzyioXIjKn7/fuCU24CGrTM+TDSgs7MTdXV1SKWid60+z4DUlot34XzKTTRo9WrDwxM9s4enfknzYqIh5hZxdT5a7jX9ROWS2nHxA7gFtyL1/G8LiwYA/f19qKio3GSOMl2qbOmj6B63K2rWvorUuiXAmGnA+B0zPlY8C0zZX6uJ/p+96wCvqti6OwlJIIEUQiCEDgmdANIUQVRU7MpTf9tDsTx8goqAIsWCiqCAYgMUFJ+gWFHsIhZEQGmiEHoHE3pCAmkkIf+3r/fES7jJzD7n3OTcZN3v43vPzNp7ZtbsM2edPTPn2OanrP5Qh5vJ9c+Gn+74qKqy4kdqq4tX4ayUQzSoIsJZ5RANsvGAaJDxJUarJh+xQ2QakGnARshSLxvd602Fs1IO0WDXrFY+fiAaZDxDNMj4EqNVk4/YIUSDvaLho5sorTCCap86SIEpK07PLATXwEZILE94XZop67qGaLBrVisfPxANMp4hGmR8idEQDaKHz0UAACAASURBVKVTpsuNDq4sjPYEv+ED21L74kARGOjwIXBn+aldVZeV9kptdfEqnJVyiAZVRDirHKJBNh4QDTK+xGjV5CN2iEyDvZmGU6coLS2NateuTYGBgXYNh0/9+FtMWWmv1FYXr8JZKYdo8Gn42+4cokFGKUSDjC8xWjX5iB1CNEA0YE+D5eyI6rq0Ug7RYNesVj5+IBpkPEM0yPgSo1WTj9ghRANEA0QDRINdEwfeCIk3QgpjCaJBSJgUDtFQOmO63OjgbNnTgOWJ0wZLh3ed68GKH6mtLl6Fs1KOTINOVDgHg0yDbCwgGmR8idGqyUfsEJkGZBqQaUCmwa6JA5kGZBqEsQTRICRMCodoQKZBGjMqvL/FlJX2Sm118SqclXJkGlQR7Kzyqphp+JSIzieiH4joeuFwQDQICZPCVZOP1F9peDvrMetLaqeL18FhecKuSPrHjw7vOrVa8SO11cWrcFbKIRp0osI5mKooGi4goppEdDtEg3MC0WiJavKxq8V21mPWl9ROF6+Dg2iwK5IgGpgBVcyVVQ7RYH8s+tJjVRQNzCdnGu6DaPBlaJnzrZp8zHk908rOesz6ktrp4nVwEA12RRJEA0SD/bHkZI9OEw3nEdHDRNSFiOoTUX8iWlCCwMFuDJdvIKIHiegXIckQDULCyguuc8Ozoy121mPWl9ROF6+Dg2iwI4pO96HDu06tVvxIbXXxKpyVcmQadKLCORiniYbLiOhcIvqdiOZ7EQ03EtFcImLhsIyI7iGiu4moLRHtddO6hohCvVB8CRGluv8O0eCcGDytJarJx65m21mPWV9SO128Dg6iwa5IQqYBmQb7Y8nJHp0mGjy54i/alsw0rHALins9gJvc2YjRAqJ1RQOLD08BUouI/uLX6EZGRiqr05m8rV5wKntW8enp6RQdHe0Xr/3V5UxJvgJgZz1mfUntdPE6OCuiwZ/iSXV9WI2j0yYsm4526oxfae2W2uriVTgr5f42R2VkZLheo05EfBPItDOG/MGXP4mGECLKJqIbiIhPQBi/l4ioExH1ERCuKxrGEdETJf3u2LGDIiL4IEXZP76QTp48SSEhIV6//GZYq3BWyvmCPH78ONWqVctvRIMOZyruVeUqTlX2JW8WZtosbYMuXgdXFqasMn+LJ0M0mBkfSQzYWY/O+JUlGiR91a1LhbNS7m8xlZmZSS1atIBokF4g5YAvmWmIJ6IU9/LFco/6x7hPQrTSbNNCIjqLiMKJKM2dzVhVii0yDZqk2gVTPbE4sR6zbZba6eJ1cMg02BVJ//jR4V2nVit+pLa6eBXOSjkyDTpR4RyMP2UaDNHQk4h+9aBwLBENIKLW5UAr3tPgY5JVk49d1dtZj1lfUjtdvA7OimjAVy69R6EO7zrxa8WP1FYXr8JZKcdGSJ2ocA7Gn0SDncsTZkcAosEsc5p2qslH040SZmc9Zn1J7XTxOjiIBmWIiAE6vOs4teJHaquLV+GslEM06ESFczD+JBqYNd4Iyacj+PSE8dtIRJ8RkWQjpNkRgGgwy5ymnWry0XSjhNlZj1lfUjtdvA4OokEZImKADu86Tq34kdrq4lU4K+UQDTpR4RyM00QDv6kxwU3PWiIaTkQ/ufce8JFK48jlf91LFIOI6D9E1I6I9pQDrRANPiZZNfnYVb2d9Zj1JbXTxevgIBrsiqR//OjwrlOrFT9SW128CmelHKJBJyqcg3GaaOBTDSwSSv7eJqKB7j9ylmGk++VPyUQ0jIiWlBOlEA0+Jlo1+dhVvZ31mPUltdPF6+AgGuyKJIgGZkAVc2WVQzTYH4u+9Og00eDLvtrhG6LBDhbL8KGafOyq3s56zPqS2unidXAQDXZFEkQDRIP9seRkjxANstGBaJDxJUbr3PDETr0Y2FmPWV9SO128Dg6iwY4oOt2HDu86tVrxI7XVxatwVsqRadCJCudgIBpkYwHRIONLjFZNPmKHpRjYWY9ZX1I7XbwODqLBrkhCpgGZBvtjyckeIRpkowPRIONLjNa54YmdItNwBgMQDXZEETINBgOq6xZ7GuyPt4ryCNEgYx6iQcaXGK2afMQOkWnwygBEg12RhEwDMg32x5KTPUI0yEYHokHGlxgN0VA6Zbrc6OAgGsShqTTQ4V3pROMkQlk+pG3QxatwVsqxp0EnKpyDgWiQjQVEg4wvMVo1+YgdItOATINNX59UxZ5dsWvFj9RWF6/CWSmHaFBFlrPKIRpk4wHRIONLjFZNPmKHEA0QDRANpV42utebCmelHKLBrlmtfPxANMh4hmiQ8SVGqyYfsUOIBogGiAaIBrsmDiLKyMigqKgo9hhJRJk2uvYLVxANsmGCaJDxJUZDNJROmS43OjjsaRCHptJAh3elE+xp0KGoQjEQDRVKv99VDtHg4yGza+JVNdPOesz6ktrp4nVwEA2qCJGX6/Cu49WKH6mtLl6Fs1KO5QmdqHAOBpkG2VhANMj4EqNVk4/YIZYnsDyB5QksT9g1cWB5giAaZMEE0SDjS4yGaMDyhDhoFAb+FlNW2iu11cWrcFbKkWmwO+J96w+iQcYvRIOMLzFaNfmIHSLTgEwDMg3INNg1cSDTgEyDMJYgGoSESeEQDcg0SGNGhfe3mLLSXqmtLl6Fs1KOTIMqgp1VjkyDbDwgGmR8idGqyUfsEJkGZBqQaUCmwa6JA5kGZBqEsQTRICRMCodoQKZBGjMqvL/FlJX2Sm118SqclXJkGlQR7KxyZBpk4wHRIONLjFZNPmKHyDQg04BMAzINdk0cyDQg0yCMJYgGIWFSOEQDMg3SmFHh/S2mrLRXaquLV+GslCPToIpgZ5Uj0yAbD4gGGV9itGryETtEpgGZBmQakGmwa+JApgGZBmEsQTQICZPCIRqQaZDGjArvbzFlpb1SW128CmelHJkGVQQ7qxyZBtl4QDTI+BKjVZOP2CEyDcg0INOATINdEwcyDcg0CGMJokFImBQO0YBMgzRmVHh/iykr7ZXa6uJVOCvlyDSoIthZ5cg0yMYDokHGlxitmnzEDpFpQKYBmQZkGuyaOJBpQKZBGEsQDULCpHCIBmQapDGjwvtbTFlpr9RWF6/CWSlHpkEVwc4qR6ZBNh4QDTK+xGjV5CN2iEwDMg3INCDTYNfEgUwDMg3CWIJoEBImhUM0INMgjRkV3t9iykp7pba6eBXOSjkyDaoIdlY5Mg2y8YBokPElRqsmH7FDZBqQaUCmAZkGuyYOZBqQaRDGEkSDkDApHKIBmQZpzKjw/hZTVtortdXFq3BWypFpUEWws8qRaZCNB0SDjC8xWjX5iB0i04BMAzINyDTYNXEg04BMgzCWIBqEhEnhEA3INEhjRoX3t5iy0l6prS5ehbNSjkyDKoKdVY5Mg2w8IBpkfInRqslH7BCZBmQakGlApsGuiQOZBmQahLFkSjQcWb+UVs0aR90HPUUNu/U9o0rVjdJKub+peFVfheNlebLUqc9sm6V2ungdXFmYssr8LZ54/HT40BlnFcaueqz4kdrq4lU4K+X+FlMZGRkUFRXF4RBJRJmquKhs5cg0yEbUJRrWzH+DagQHUuHJXNe/grwcim7Smppf8C+Xt8KCk7T4mbupIC+XTmYfpxP7d7v+HhwWQR1vGUZ1Wnam6Catimu2csGpJkV/uyBVXMiGy3qqX6c+s22W2unidXAQDTojK8Po8K7j0Yofqa0uXoWzUu5vcxREg04UA2Mw4BINb/RPpLDgoNNYadSjH/Ua/qLrb3wBvX9T21JZq9+pN50/emZx+c7Fn1L1uo2pbkJ7qhYSamsmwt8uSNXkY1co2lmPWV9SO128Dg6iwa5I+sePDu86tVrxI7XVxatwVsr9bY6CaNCJYmBOEw3fjL+HIiMjKCikuutftdAaFNW4JTU594pipvb+tpACgqrRmreeoZy0A6wkXGWMbXfdYGp7zd2u/845dpgW3HOe6/8HBlWjyMYtqXbzdlS7WTuKbt7O5TewWjDl5uZS9erVKSDgzORQWResv12QqsnHrlC0sx6zvqR2ungdHESDXZEE0WA8KFWVOQqiwf5rpzJ7FO1pyM1Mp88GX0Cn8vOKOQkKDqVrXltMoTVda2KUmbqLVs8eT2k7N1B+VsYZ3LW89N901sAxLtEQHBhA2xa+S5s+f5O63/N08f4IiAZ5yOncWHW9mvUltdPF6+AgGnRHVx+nw7uONyt+pLa6eBXOSrm/PdhANOhEMTCnZRqOHTtGkZG8B6bsH19IB7b8SUW5xynAvee0elQMRTdtc5oh43JycqjweBod273RJSBc/3ZtoM4DHqFm513jEg3pW1bTzxMH/W0bEEiRDRMoPLY+hdWOo+DIOtS424VUu9npyyL+dkGqJh8V57rldtZj1pfUThevg4No0I0UfZwO7zrerPiR2uriVTgr5f42R0E06EQxMKZFA9/sV7wynLIPpVBkwxZ07oNTz2CztAuO/150qpACAoNcomHjBy/S1m/mlDoa3QY9RQl9b3CVH0xeQcteHEY1YuIouFYMRdZvROF16lNYDIuMehTZKIFCa0U7bmRVk49dDbazHrO+pHa6eB0cRINdkfSPHx3edWq14kdqq4tX4ayUQzToRIVzMDg9IRsL0fKEcSEtfXYQZR3+iyLjm9MFj76pLRoMoCsTkZ1NPz1+I2Wm7Px7f0RAgEsAtO3/H8o5eoiOH/qLWl32b6qTkOQy2/XzAvpt+uhSe8fHP1u4BcbRHcm08dPX6VRhPh3auIraXvMfSux3C4WEc3fL96eafOxqjZ31mPUltdPF6+AgGuyKJIgGZkAVc2WVQzTYH4u+9AjRIGPXJRq+evIuqlk95DTLsDrxlH0k9bS/8dbHU4WFdGjDb3Qq/yQFhoRS/Q49zxQNblyz3ldR015XehUVmUcO0MJhl1Ghl/0RIeGRZ2yUzM/NohMH9lHWkVQ6vG8nBeQep5yjByjb/a/bf8ZRXIdzXHXt/HkBrfAiMMJjG1BUk9bU5uq7KLZVZxlTJtGqycekW7FQk9Rjts1SO128Dg6iQTLCelgd3nU8WfEjtdXFq3BWyiEadKLCORiIBtlYmMo0rHxlOB1Y/6vrJt1n5IxSb2AH1/xAe5d/XaqoKMzLpiNb/6CiwgIKqBZMdRI7UkhYLTLESWBQ0Glv62p87hXU+JzLKC0tjWrXrk2BgYFee8ubMTd9MZt2/vix1/ILxr5JcUl/i519KxfRlq/epqgmrVzvpmBREdk4kaqFVJcxWQpaNfnYUonGk5GkHrNtltrp4nVwEA2SEdbD6vCu48mKH6mtLl6Fs1IO0aATFc7BQDTIxsKUaOCjknuWf01NPY5kelYrueCWTB5MR7b+SXVadiwWIFZTf0WnTtHXD19DmSk73EsfgRRRvyl1vfsxOrZnq2sjZkjNvzd+/jHvedr02RunsRYQEEi14ptRdNPW1OH/7qdacU1krHqgVVyYdlzC0M56zPqS2unidXAQDXZF0j9+dHjXqdWKH6mtLl6Fs1IO0aATFc7BQDTIxsK0aPD2fgWjaisXHPuwKhryjqfTZ/de4HXpwzgaarT1xMF9dHjrWjq2ezOl79ns+l+2N35XvfI91azbwPWfW76ZS6lrl7jefskZCRYVteo3db2PorSfigvZcJWOtrMes76kdrp4HRxEg12RBNGgmoNU5RAN9seiLz1CNMjYrZSigSlI372Jco8dLWbD29FQb1TxzScn/TAd27OZMvZto9ZX3Vn8Aqpfnn+A/lq56DQzfk8Fn9xgEdF5wMgzNlvq3PBkQ+YdbWc9Zn1J7XTxOjiIBjui6HQfOrzr1GrFj9RWF6/CWSmHaNCJCudgIBpkY1FpRYOMBj10+u7NdHT7OpcgObZni+tfQV62yzgwOIRueHtNcdbhj3en0PH9u11iIi87i/b8soB63DPe6we+9GovG6Wa5CR1mPUltdPF6+AgGiQjrIfV4V3HkxU/UltdvApnpRyiQScqnIOBaJCNRaUWDT+Ov5PSd22kOq06e92wKaPqTDTvnThxaB+xmMjNOEIt+91aDPrm4Wvp2N4tpxmxsOA3YvK3Ouq16+H1Fdpm26Sa5CR+zfqS2unidXAQDZIR1sPq8K7jyYofqa0uXoWzUg7RoBMVzsFANMjGwq9Ew+5lX9GepV/Syfx8CgkOVt50969bVubRUF2q+NRGaZs+S/PB74dI27WRUlb/SIc2rjwNVrNeI7rq5e+K/5aTfoiqR8Uq+1NWe1WTnG5fGWfWl9ROF6+Dg2iQjLAeVod3HU9W/EhtdfEqnJVyiAadqHAOBqJBNhZ+JRq4a5IL8vsnBtCJMl5CJaNKjv77FMfVp73AKrhGTdeLpjre9KDL4amCfPrk7p4UHF6L6nfsRXFJ51Jc+7OLT3fo1qqa5HT9QDRImKoYrJ1jXR5C1Ep7pba6eBXOSrlkjqqYCDq9VrxG2gmj4D9tqNSigV87ffzAXqoV19jr6659PUw6pziO7d1KC0df7xIPxo+PfMYkJrkERKMel7i+DKr6qSY5lb1nuVlfUjtdvA4OmQbJCOthdXjX8WTFj9RWF6/CWSmHaNCJCudgkGmQjUWlFg0yKnyD5iWKzMP7KSQkxPWRL2+nOAryclyvuz6wbhnt/3PZ3++XcP/4PRHtrxvs+q+C3GzKO3GMwuvEn9FY1SQn6Z1ZX1I7XbwODqJBMsJ6WB3edTxZ8SO11cWrcFbKIRp0osI5GIgG2VhANMj4EqNVk483h/yq7APrlrsERNtr7qbazdu5YHt//db10S5+8RQvZdTveC7VbdONqlUPM70PwVv9ZtrMfqR2ungdHESDODSVBjq8K52YiAsrWS/dNqtwVsohGnSiwjkYiAbZWEA0yPgSo1WTj8Thhk9n0voPX3Z9KdT4BVYLptjWXSiuQ0+KP+cKiqxb39KGSjM3f6Mt0r7q4nVwEA2SSNLD6vCu48mKH6mtLl6Fs1IO0aATFc7BQDTIxgKiQcaXGK2afKQOT2Zl0sHk31xZiAPrllLW4X8+KnbJ819R7QbNXKKBv78RHFaLakTVkVYhzhhANIgptmRgd0yV1hi76rHiR2qri1fhrJRDNFgK73I3hmiQUQ7RIONLjFZNPmKHHgbsm18gxUsZx/ZtpQ7/HkX8XRAWDT8/e4/rldf8cilexojr2ItiW51FQcGnf83UW/1m2yy108Xr4JBpsBJJ3m11eNep1Yofqa0uXoWzUg7RoBMVzsFANMjGAqJBxpcYrZp8xA5LMfCshyE/jBtAhzevOQ0dFFqD6rXtRvFnnU81omNp5cwnqPugp854S6XZNkvtdPE6OIgGuyLpHz86vOvUasWP1FYXr8JZKYdo0IkK52AgGmRjAdEg40uMVk0+YocaosH4mFhuxtG/N1Su46WMZZR77IjLuk7rLnTELSgiGrSgy6d8TgEenxk322apnS5eBwfRYFckQTQwA6qYK6scosH+WPSlR4gGGbsQDTK+xGjV5CN2KBANnlBuB78T4sCfSyn7yH7auvDd4uJeI16mRt0vLv5vs22W2unidXAQDXZFEkQDRIP9seRkjxANstGBaJDxJUbr3PDETr0Y6Nbz91sqr/n7XRBFRUQBgRTZoDldNvmz4myDrq+SzZDa6eJ1cBANdkTR6T50eNep1Yofqa0uXoWzUo5Mg05UOAcD0SAbC4gGGV9itGryETs0mWkwzHTeUmm2zVI7XbwODqLBrkhCpgGZBvtjyckeIRpkowPRIONLjDZuZgfX/EBNe10pttc10LmxGr740965x44Wuy75lkqJL8/2Se108To4iAbdSNHH6fCu482KH6mtLl6Fs1KOTINOVDgHA9EgGwuIBhlfYvTiSffSybyTlL5lNcUl9fTJJ7p1nowkDVdNmKX5ktrp4nVwEA2SEdbD6vCu48mKH6mtLl6Fs1IO0aATFc7BQDTIxgKiQYMv/iT33mVfaSDPhBze+gcFBodQbtpBCgwJpfodepry483I85PdqklOUqlZX1I7XbwODqJBMsJ6WB3edTxZ8SO11cWrcFbKIRp0osI5GIgG2VhANMj4EqN/HH8Xtb7+flr58jCKjG9OFzz6ptiHjoFqktPxYWDM+pLa6eJ1cBANkhHWw+rwruPJih+prS5ehbNSDtGgExXOwUA0yMYCokHGlxi99MVhVFBIlLZllevFSuc+OFXsQ8dANcl5+vh50r106uRJyjl2mGpExVJIzYjT2iXx5elXaqeL18FBNOhEiQyjw7uORyt+pLa6eBXOSjlEg05UOAcD0SAbC4gGGV9itDH5OGkj5E/j76KkW0bQL1OGUO+HptGGj1+l80ZOL+6basIsjQSpnS5eBwfRIA5NpYEO70onGi9KKsuHtA26eBXOSjlEg05UOAcD0SAbC4gGGV9itGryETv0MPDca1FERKcKCykwKIhUF8ER3mcREko5Rw9QjZg4KirIp5iEpH9Eg8DXaZkGIorvdjElnH+t1pc2dbnRwUE0WIkk77Y6vOvUasWP1FYXr8JZKYdo0IkK52BU86VzWuqMlkA0+HgcVJOPXdVL6ln24jA6eSKT0nZvotpN22B5Ii2NateuTYEer9K2a1x84Ucy1lbqt6seK36ktrp4Fc5KOUSDlagrf1uIBhnnEA0yvsRo1eQjdliKgZ31mPUltdPF6+CQabArkv7xo8O7Tq1W/EhtdfEqnJVyiAadqHAOBqJBNhYQDTK+xGjV5CN2CNHglQGIBrsiCaKBGVBdt2WVQzTYH4u+9AjRIGMXokHGlxitmnzEDiEaIBqKiig3N5eqV6+utXfEbIzZFbtW/EhtdfEqnJVyiAazEVcxdlVVNIQR0SYi+oiIHhJQD9EgIMsMVDX5mPHpzcbOesz6ktrp4nVwyDTYFUnINCDTYH8sOdljVRUNzxBRIhHthWhwVnjq3PDsaLGd9Zj1JbXTxevgIBrsiKLTfejwrlOrFT9SW128CmelHJkGnahwDqYqigYWC88S0RdE1B6iwTnBqPPEYldrVZOcpB6zvqR2ungdHESDZIT1sDq863iy4kdqq4tX4ayUQzToRIVzME4TDecR0cNE1IWI6hNRfyJaUIKuwW4Ml28gogeJ6BcBpZ+57fmjBhANAuLKA6qafOxqg531mPUltdPF6+AgGuyKJCxP6Ij9suINosH+WPSlR6eJhsuI6Fwi+p2I5nsRDTcS0VwiYuGwjIjuIaK7iaite6mBuVpDRKFeSLuEiLoRUS+3aBgI0eDL0DLnW+eGZ86zb1LJOhNmae2V9lUXr4ODaLAjinwTUzrj57SYUrUZosH+eKsoj04TDZ488Ev7SmYaVrgFxb0eQN7QyNmI0RokTiSifxNRIRHVJKJgInqeiJ7SsGUINkJqEmUWppp8zPotaWdnPWZ9Se108To4iAa7IgmZBh3hDNFgf7xVlEd/Eg0hRJRNRDcQ0acehL1ERJ2IqI+QRJ1MA2csPLMWtYjor7S0NIqMjFRWpzN5W73gVPac+ktPT6fo6Gi/eIOfLmdK8hUAO+sx60tqp4vXwVkRDf4UT6rrw2ocnfaUY9PRTp3xq2yZBn+KqYyMDNcbUYmIbwKZdsaQP/jyJ9EQT0Qp7uWL5R7kjiGi24molZBwHdEwjoieKOl3x44dFBHBSYeyf3zxnzx5kkJCQso8H67CWSln0XD8+HGqVauW34gGHc5U3KvKVZyq7EveLMy0WdoGXbwOrixMWWX+Fk+GaDAzPpIYsLMenfErSzRI+qpblwpnpdzfYiozM5NatGgB0SC9QMoBX3J5whANvIHxV4/6xxLRACJq7YM2IdPgA1LLcmnlKUvSVDvrMetLaqeL18Eh0yCJFj2sDu86nqz4kdrq4lU4K+X+lg1FpkEniisGU1I02L08YaZX2NNghjWBjWryEbgqE2pnPWZ9Se108To4K6KBl+fwwaozw0uHd534teJHaquLV+GslOP0hE5UOAfjT8sTzBpvhOTTEXx6wvhtJCI+RqmzEdIq8xANVhlU2KsmH7uqt7Mes76kdrp4HRxEg12R9I8fHd51arXiR2qri1fhrJRDNOhEhXMwThMNfKIhwU3PWiIaTkQ/EVGa+0ilceTyv+4likFE9B8iakdEe8qBVogGH5Osmnzsqt7Oesz6ktrp4nVwEA12RRJEAzOgirmyyiEa7I9FX3p0mmg43y0SSvb5bSLijYv84yzDSPfLn5KJaBgRLfElSR6+IRp8TLRq8rGrejvrMetLaqeL18FBNNgVSRANEA32x5KTPTpNNDiZK24bRIOPR0jnhmdHE+ysx6wvqZ0uXgcH0WBHFJ3uQ4d3nVqt+JHa6uJVOCvlyDToRIVzMBANsrGAaJDxJUarJh+xw1IM7KzHrC+pnS5eBwfRYFckIdOATIP9seRkjxANstGBaJDxJUbr3PDETr0Y2FmPWV9SO128Dg6iwY4oQqbBYEAVc2WVI9Ngfyz60iNEg4xdiAYZX2K0avIRO0SmwSsDEA12RRIyDcg02B9LTvYI0SAbHYgGGV9iNERD6ZTpcqODg2gQh6bSQId3pRONkwhl+ZC2QRevwlkpR6ZBJyqcg4FokI0FRIOMLzFaNfmIHSLTgEyDTd+EUMWeXbFrxY/UVhevwlkph2hQRZazyiEaZOMB0SDjS4xWTT5ihxANEA0QDaVeNrrXmwpnpRyiwa5ZrXz8QDTIeIZokPElRqsmH7FDiAaIBogGiAa7Jg4i4m9PREVFsUd85dJGXiurK4gGH48sREPpBOtyo4PDngb7A1mHd51arfiR2uriVTgr5cg06ESFczDINMjGAqJBxpcYrZp8xA6RaUCmAZkGZBrsmjiQaSCIBlkwQTTI+BKjIRqQaRAHjcLA32LKSnultrp4Fc5KOTINdke8b/1BNMj4hWiQ8SVGqyYfsUNkGpBpQKYBmQa7Jg5kGpBpEMYSRIOQMCkcogGZBmnMqPD+FlNW2iu11cWrrjcWFQAAIABJREFUcFbKkWlQRbCzypFpkI0HRIOMLzFaNfmIHSLTgEwDMg3INNg1cSDTgEyDMJYgGoSESeEQDcg0SGNGhfe3mLLSXqmtLl6Fs1KOTIMqgp1VjkyDbDwgGmR8idGqyUfssJJnGnYv+4qannvFab3U4bAsTFll/jbBMzE6fNgRV3bVY8WP1FYXr8JZKfe3mMJ7Guy4WqqOD4gGH4+1avKxq3o76zHrS2rnDb9k0mA6b+R0iIYyAkPKs9kYs6seK36ktrp4Fc5KOUSD2YirGDtkGmS8QzTI+BKjVZOP2GElzzRANKgjwt9iykp7pba6eBXOSjlEgzqGnYSAaJCNBkSDjC8xWjX5iB1WUtGwZPJgOnXyJKXv3kTRTdu4ehlSM4LOfXCqVjoeyxN2RdI/fuyKXSt+pLa6eBXOSjlEg/2x6EuPEA0ydiEaZHyJ0arJR+ywkoqGxc/cTUm3jKBfpgyh3g9NoxpRdWj1G+NcSxU6HEI02BVJEA3MgCrmyiqHaLA/Fn3pEaJBxi5Eg4wvMVo1+YgdOlw0bF+8gFJXLdI6xlRERKcKCykwKIiObv2DAkNCKefoAaoRE0eR8c3p2N4tFJOQRJ640i7wsjBllhUV0cn8fAoJDqaAAP+YPnT4sCOupPU0PveKMzax6tyAy2qr9PrRxatwVsohGuyIvvLz4R9XffnxoaoJokHFkMVy1eRj0X2xuZ31mPUltfPEI9OgHwlSnvU9n460qx4rfqS2ungVzko5RIPZiKsYO4gGGe8QDTK+xGjV5CN26PBMQ25uLlWvXl3rqb2kaOgxeCKtmD6a+H/5h+UJ74PtbzFlpb1SW128CmelHKLBrlmtfPxANMh4hmiQ8SVGqyYfscNKKhqWvzScCk/m0dHt61xLEvwLCgnFRkgv4+1vMWWlvVJbXbwKZ6UcosGuWa18/EA0yHiGaJDxJUarJh+xw0oqGoz9BDhyqY4If4spK+2V2uriVTgr5RAN6hh2EgKiQTYaEA0yvsRo1eQjdgjR4JWBsnguq8zfJnjuvL/FlJX2Sm118SqclXJ/iym8EdKuWbhq+IFo8PE4qyYfu6q3sx6zvqR23vDINKgjQsqz2qN3hF31WPEjtdXFq3BWyiEazEZcxdgh0yDjHaJBxpcYrZp8xA6RaUCmAV+5LPWy0b3eVDgr5RANds1q5eMHokHGM0SDjC8xWjX5iB1CNEA0QDRANNg1ceDT2FrvlLGRbr93BdHg4yGEaCidYG/c4CuX6oD0t5iy0l6prS5ehbNSjkyDOoadhECmQTYaEA0yvsRo1eQjdljJMw3euqfDYVmYssr8bYJnfnT4sCOu7KrHih+prS5ehbNS7m8xhY2QdlwtVccHRIOPx1o1+dhVvZ31mPUltdPF6+AgGuyKpH/86PCuU6sVP1JbXbwKZ6UcokEnKpyDQaZBNhYQDTK+xGjV5CN2iEwD9jRgTwP2NNg1cWBPA/Y0CGMJokFImBQO0SDb04DlCXWE+VtMWWmv1FYXr8JZKUemQR3DTkIg0yAbDYgGGV9itGryETtEpgGZBmQakGmwa+JApgGZBmEsQTQICZPCIRqQaZDGjArvbzFlpb1SW128CmelHJkGVQQ7qxyZBtl4QDTI+BKjVZOP2CEyDcg0INOATINdEwcyDcg0CGMJokFImBQO0YBMgzRmVHh/iykr7ZXa6uJVOCvlyDSoIthZ5cg0yMYDokHGlxitmnzEDpFpQKYBmQZkGuyaOJBpQKZBGEsQDULCpHCIBmQapDGjwvtbTFlpr9RWF6/CWSlHpkEVwc4qR6ZBNh4QDTK+xGjV5CN2iEwDMg3INCDTYNfEgUwDMg3CWIJoEBImhUM0INMgjRkV3t9iykp7pba6eBXOSjkyDaoIdlY5Mg2y8YBokPElRqsmH7FDZBqQaUCmAZkGuyYOZBqQaRDGEkSDkDApHKIBmQZpzKjw/hZTVtortdXFq3BWypFpUEWws8qRaZCNB0SDjC8xWjX5iB0i04BMAzINyDTYNXEg04BMgzCWIBqEhEnhEA3INEhjRoX3t5iy0l6prS5ehbNSjkyDKoKdVY5Mg2w8IBpkfInRqslH7BCZBmQakGlApsGuiQOZBmQahLEE0SAkTAqHaECmQRozKry/xZSV9kptdfEqnJVyZBpUEeyscmQaZOMB0SDjS4xWTT5ih8g0INOATAMyDXZNHMg0INMgjCWIBiFhUjhEAzIN0phR4f0tpqy0V2qri1fhrJQj06CKYGeVI9MgGw+IBhlfYrRq8hE7RKYBmQZkGpBpsGviQKYBmQZhLEE0CAmTwiEakGmQxowK728xZaW9UltdvApnpRyZBlUEO6scmQbZeEA0yPgSo1WTj9ghMg3INCDTgEyDXRMHMg3INAhjCaJBSJgUDtGATIM0ZlR4f4spK+2V2uriVTgr5cg0qCLYWeXINMjGA6JBxpcYrZp8xA6RaUCmAZkGZBrsmjiQaUCmQRhLEA1CwqRwiAZkGqQxo8L7W0xZaa/UVhevwlkpR6ZBFcHOKkemQTYeEA0yvsRo1eQjdohMAzINyDQg02DXxIFMAzINwliCaBASJoVDNCDTII0ZFd7fYspKe6W2ungVzko5Mg2qCHZWOTINsvGAaJDxJUarJh+xQ2QakGlApgGZBrsmDmQakGkQxhJEg5AwKRyiAZkGacyo8P4WU1baK7XVxatwVsqRaVBFsLPKkWmQjQdEg4wvMVo1+YgdItOATAMyDcg02DVxINOATIMwllyiYe/evRQZGak01b0BqnBWylnFp6enU3R0NAUGBirbXNEAVV/tap+d9Zj1JbXTxevgysKUVeZv8cTxosOHHXFlVz1W/EhtdfEqnJVyf4upjIwMaty4MYcM3wQy7Ygdf/KBTINstBoQ0V8yE6DBABgAA2CgEjLQkIhSKmG/yuwSRINsxJmvLUTUVWC2koi6a+BVOLPltdxChwP8uEY7nABR9dWuNtpZj1lfUjtdvA6uLExpZf4YTxwvOnzYEVd21WPFj9RWF6/CmS33x5haTUStOJFlR9D4kw+IBvlobSSitgIzXbwKZ7bctaTiZ6k0VV8F9JcJtbMes76kdrp4HVxZmNLK/DGeOAh0+LAjruyqx4ofqa0uXoUzW+6PMaXqqx2x5EgfEA3yYRlCRNMEZrp4Fc5suT9ekKq+CugvE2pnPWZ9Se108Tq4sjCllfljPHEQ6PBhR1zZVY8VP1JbXbwKZ7bcH2NK1Vc7YsmRPiAaHDkstjbKHy9IWwmAM1sZQDzZSiecERFiyo/CAKLBjwbLZFNDiWg0EU0kojyTPmAGBgwGEE+IBbsZQEzZzagP/UE0+JBcuAYDYAAMgAEwUJkYgGioTKOJvoABMAAGwAAY8CEDEA0+JBeuwQAYAANgAAxUJgYgGirTaKIvYAAMgAEwAAZ8yABEgw/JhWswAAbAABgAA5WJAYiGyjSa8r58SkTnE9EPRHS93BwWYOA0BhoR0VwiqktEBUT0NBF9BI7AgEkG+E2RPxJRMBEFEdHLRDTLpC+Y2cQARINNRPqpmwuIqCYR3Q7R4Kcj6Kxm1yeiekT0h1s4/O5+1W6Ws5qJ1vgJAywU+DhmNhGFEVEyEXUjoqN+0v5K2UyIhko5rKJOcabhPogGEWcA6zGwjoiuIKJ9enCgwECpDNQmorVE1IWIjoCnimMAoqHiuLda83lE9LD7IuInvP5EtKCE08FuDJdvIKIHieiXEhiIBqsjUXns7YopZoQ/6vY/ImpfeehBT4QM2BFPUUT0MxEluucyySv8hc0FXIcBiAYdlpyJuYyIziUiTgHP9yIabnSvL7NwWEZE9xDR3e6Pbe316BJEgzPHtyJaZVdMxbjFKcfb8oroCOp0BAN2xRN3hpe9PiGifxHRQUf0roo2AqKhcgw8f561ZKZhhVtQ3OvRxU3ubAS/Vtr4QTRUjhiwuxdmY4rXoBe5N6zxpkj8wAAzYDaePNmb4d4Yic21FRhTEA0VSL6NVZe8IEPcm4duICI+IWH8XiKiTkTUB6LBRvYrpyszMcXzyTwi2kJE4yonLeiVSQbMxBNnF3KIKNP9UatfiehmIuK9MvhVEAMQDRVEvM3Vlrwg44koxb184ZkeHuM+KdHKXf9CIjqLiMKJKM2drVhlc9vgzj8ZMBNTvYhoSYlJfQARrfdPCtBqGxkwE0+86fFNIuL7FP/jTAP/w68CGYBoqEDybay6tAuyJxGxOjd+Y4mIJ/HWNtYNV5WTAcRU5RzXiuoV4qmimLe5XogGmwmtIHdmUn8V1FRU6ycMIKb8ZKD8pJmIJz8ZKFUzIRpUDPlHeWmbjNYQEZ+eMH4biegzIvLcCOkfPUQry5sBxFR5M16560M8VZLxhWjw34HkNzkmuJvPLz0ZTkQ/ufcm8JFK48jlf91LFIOI6D9E1I6I9vhvt9FyHzKAmPIhuVXQNeKpEg46RIP/DioflWSRUPL3NhENdP+RswwjiYhf7sSvYB3m3qjmv71Gy33JAGLKl+xWPd+Ip0o45hANlXBQ0SUwAAbAABgAA75gAKLBF6zCJxgAA2AADICBSsgAREMlHFR0CQyAATAABsCALxiAaPAFq/AJBsAAGAADYKASMgDRUAkHFV0CA2AADIABMOALBiAafMEqfIIBMAAGwAAYqIQMQDRUwkFFl8AAGAADYAAM+IIBiAZfsAqfYAAMgAEwAAYqIQMQDZVwUNElMAAGwAAYAAO+YACiwReswicYAAPMwGIi6uNBxWVE9K2fUVONiPJLtBnzpp8NIpprHwMIfvu4hKeqwUBTItql6OqfRNSpatBRZi8N0fCkG/UOEW33sOCPGPEv1/2q82NevMUQUSoRhRBRHhFVN8krfyL+bCI6h4h+K8NHeyJa7/6XRESBRPS4G8+vZ29CRJg3TQ4CzPyfAQS//48helC+DBiiYQcR8U3Q2+8AEb1Wvs1yZG2GaChtnmHRUEBE/DQ/hIime+nFg0Q01Y0rtCAa7iaiWUQ0k4juKYMtrovr5H8vlcCp+uPIQUCjwICdDEA02MkmfFUFBgzRsJCILq0KHbbQR9VNlkXDFveT+3Ei6uqlLs7a8C+SiOIsiIZaRLSfiFh4sJ8cL3UFE1GKu654IjoK0WBh9GFaKRmAaKiUw4pO+ZABM6KBb44/E9ENRPQcEV1JRHwT4xviKPfaf8kmc/lDRHQ9ETV3p+Y5rT6eiJaWcjPj1P1YIrrFnUZ/hojGubHcbq77Yneqfw0RPUZEFxLRE0R0gbsd/L8/up/6+em/5K8tEW0gos+J6BoFz7qigb/MOoGIOhLROg+fLCJWub/Oyk/+pYkGbscDRHQWEdVwL4H8z52hYJFg/GYT0R1ENKCULNF1RPQxEX3o/rR8ye6p+uPDsINrMOAMBiAanDEOaIX/MGBWNLBACCOiTCL6hYjqum9MfFPr4v50ucFCbfcnzNu5savdT798c+QnbhYfCzwoM25mX7tvvJwFSXOvy88hogbumy9/Ip0x3JZWRHSF+/PqnDExRAO75af/eu59BiWfyF9w38SvIqIvbRINLFz2EtErbt+GW16uuMvdfubAm2hgsTGaiP4iIu4383uem1MWAMyV8TvXLbj4k/JcZ8kf94c56UdE33kph2jwn+sULfURAxANPiIWbistAzp7Gjgj4HlKwNjwxzfB+4nolJsdviG+QUSvE9F/PRh7150tuJOI3vL4O9/I+cmbMwqN3RsIudi4mf1BRH3dgsFzAOYS0b+J6GEimuJRwBv7DP+eooEzHJOJ6HYiYtFh/HgzIqfveUMibwj0fIr3NuCqm6yxPNGaiL4iou5ExMsCfFqB+8jLCT+4sy27vYgGzprwzf0bNybb3Qie15hr5pQzNfM9GreZiFq6szfs0/ixoNrn7l8zjzHy7JeqP5U26NExMGAwANGAWAADMgZ0Tk/wBjpOpxs/vjlmuW96Jzz+zhsA+UmeU/KcbeBfHSLijZR8g7rIS9NYdLxMRJ5P+sbNjDMRvGzg+Qslogwi4pMJLDROehTy9b+RiPim7SkauA385L7S/dRumPBTO6fueYmElzZUP9VN1lM0GEsDxk3+VvcSAj/5c3bEm2j4jIiudveLb/ieP87IpBPRJ27hYJSNdC/TPOVeljH+zstEE4mIT3oYSzol+6fqj4oPlIMBv2cAosHvhxAdKGcGzC5PcBags5e28s2Zn9xbuMv4XQZ8k1xGRN97wSe6sxCeWQPjZsZPyyw4PH98bJCXI/hJnvdSlPwZ6/yeooEx84joZvcyxla3EWdPLvHylF7aEKhusp6igTch8tFKFiosFDjDwGKGhQ5nNLyJhoNEFF4ie+LZFuaIj8fyMUrjx9ka5pwzJpxRMLJApWUgPP2p+lPOoYjqwED5MwDRUP6co0b/ZsCsaOCNkOd76bqRIme//DOesFUs8dOw8f4D42bG7xQwboKGfS/3vgjeGMibAEv++Oman7JLigZuK6/98zIFP53zzZtvwHwzZ+Gg81PdZD1FA/t7kYjuc2c3eLMnb9zk/Qr88yYaeBmDszVl/diOxYHnj/eDcFaGMzncH4MjFmm85FHaT9UfHU6AAQN+zQBEg18PHxpfAQz4WjTwsgMvMTzvPj2h08WybmZmMw1cLz99RxFRI/epDD5l8X9E9JFOozz2WpT1ngbedMkZBf51cC/VcBaAN2/y3oNtZYgGPhLJwoOXUyQ/g2POprBIe5OIeP8IZ1beh2iQUAlsVWMAoqGqjTj6a5UBX4sGPiHAaXp+gyHv9tf5lSUajD0NvL7PmxdL7mng45NtvGQauN4R7tQ/72VgEcOnP/hm7umjrPapnsxLZhrYF5+S4P0dnGno7eHcW6aBl3F4OcdTXOjwFeTe9MiCiJd7WBxx1oKXd3ipqLSfqj86dQMDBvyaAYgGvx4+NL4CGPC1aOAu8dPuje5lAT7tUHLJoYf7OKVxWkB1M+M3V/ITdcnTE3w6gpct+FdyeYL/xq9w5qd+fqLnUw2S7Afbq9rlTTTwMVPjRs43c+PnTTTwUVE+OcEC41ovL2NiARZNRJu8xImxLMN7R1ic8XFPfteDFRFUAeGIKsFA+TIA0VC+fKM2/2dA58gl99JzB77xciedPQ1sy+9p4LV2/n4FfweBsw58AoKXCfgpnG+qnpseVTdntuOjmrwJkJ/OeVMmv6eBN0byvgW++fKHpZZ4GR7j+CcXcUbC80auGk1Vu7yJhtJ8ehMNjOVTEHySg0+H8EbNPW6xk+DOVDxKRM96ccocGhs8uZg3qTIvEA2qUUV5lWYAoqFKDz86b4IBnSOX7Nbz2pKKBrbnNxvypkDOOPCaP29y5JMRfBKCjxG+5/4eA2NVN2fG8GZA3ljImxj5pAK/EZJvqLz0wPWUdtNkPL80qeRygQ51qnbZIRq4HbyhkbME/EEqXnLgzAhv2mSBxG+bLHkc02g7b07lF0H97nHkFaJBZ2SBqbIMQDRU2aFHx8GAiwEWA/zlR36vgec7JAx6jPcalHzRkw59KtGg48NJmMrWHydxi7b4CQMQDX4yUGgmGLDIAC9n8BsWPX/G8U5+qyK/Ornkj9/KyKcbahJRw1I+8qTzZG5geNOi55syLXapXMz5SCdvkvT8Yd4sF+pRiRMZQPA7cVTQJjBgPwOcsl/rfgMkvyyJ90vwHgv+uiRvBOS9E8aP31vAexxYSPAJBn6PAy9tSH/8mmrj/RNsyxsyt0udVDCel4UeL9GG0t4YWcFNRfVgwPcMQDT4nmPUAAacwAB/8ZLfT8AvaeK3KB52b4J82svmRr4p8jsZjhARf7eClygKnNAJtAEMgIGKZQCioWL5R+1gAAyAATAABvyGgUojGoqKigLXrVtXJzc3NyooKIhTiviBATAABsAAGPA7BgoLC09Vr179WFJS0pGAgADjq7iO6EelEA1//PFHg8LCwqcCAwP7BAQEqN5F7wji0QgwAAbAABgAA6UxUFRUVHDq1Kmfg4KCHu/UqRO/ZM0RP78XDRs2bAjJy8tbWqNGjcZ169bNDA0NPRkQ4PfdckRwoBFgAAyAATBQ/gwUFRVRXl5eyKFDhyJycnL2hoaG9mrXrp3u69t92mC/v7uuXbs2MSAg4LsWLVpk16xZM8enbME5GAADYAAMgIFyYuDEiRM1duzYEVZYWHhxly5dHHHyyO9Fw+rVq1tXq1bt28TExBNhYWG55TSWqAYMgAEwAAbAgE8ZyM7Orr5t27aaBQUFl3bt2lXyCneftQuiwQu1v/zyS+3evXun+Yx1OAYDYMAvGcjJyQkcMWIEv3Kbnn/++bU1atRw1CY1vyQVjS6VAYgGHwSHLzINL774YsKDDz7oiFSQDyjTdnndddc1zcjICPr+++93aBs5DNigQYMO99xzz8HHH3/8UGlNy8vLC0hMTGz3xhtv7LrkkkuySsM5nY+5c+dGjR07tmFKSkro7bfffmj27Nlev7kwZcqUOlOmTIk/dOhQ8Lhx4/YdO3as2tdffx21efPmjdx3M/3U4dkbr4MGDWp48uTJgP/973+lfR/CUREF0eCo4aj0jYFo8MEQ+7No4Mn5k08+4c8Pn/br1atX5i+//LLNB3SJXKalpQWdOnWK6tSpw28QrNBfQEBAlzlz5uwYMGAAf81Q+6dzM5swYULsF198Ef3rr7+6vnq4ZcuWkNatW3dYvnz5xnPOOad4n4yT+PBGQExMTMcbb7zxyMiRIw9FRkYWRkdHn/EUfPTo0cC4uLhOTz755L5bb731WHR0dOG4cePiPEWDmX6qeC6N05SUlGotW7bssGbNmg2tW7d2xEavsoILokHv0jt48GBQmzZt2v/666+bWrVqVea4lhYbejXJUGbnEVkt3tHDhw+P97zOdAQzRIMdzJfw4e+i4fDhw8Hvvvsuf5Gv+Fe9evWi2NjYCrtRFxQUUGBgoOufU35mL3bVzYz717Rp0/ajR49Oveeee1xLUuU5idnFb0ZGRmBUVFTnzz77bOvVV1/Nr4b2+lu1alX17t27t9u0adN64yZdcjIz0yYVz2Vx2q9fvxbNmzfPnTFjhmOOlZXGQXmLBuPB4uabbz48b968vZ7tGjBgQON33nkn9l//+tfR+fPn86fDXb99+/ZVe/TRR+v/8MMPUZxNql27dkHbtm2zhw4devCaa65xxQaPV2pqasgPP/yw+cILLyzOrt15552NNmzYELZixQr+5ghxbEydOpW/W+KaD2JjY/P79OmTMXXq1JT4+PhS3xLKN8Rjx44Fffjhh/yp8jJ/PN/s37+/WlxcXEFwMH+A1Xc/6Txix7Vh9KakLx3BDNHgg1jwd9FQVvr/yy+/rNW/f//EL774Yuull17q+gLhE088Ue/ll1+O++OPPzY2adIkv0ePHq1atWrlehr+9NNPawcFBdFtt9126MUXX0w1bvqcfh86dGiDTz75pPbx48eDEhMTcyZMmJBy5ZVXuiaQl19+OWbs2LGNZs2atYvT23v27KmenJy8fuzYsfGe7eO6Wrdunc11fPzxxzHBwcFFo0ePThk0aFDanXfe2fibb76Jrl27dv6UKVP23njjjZnGcK9Zs6b68OHDG65ataoWrwH37t07c8aMGfvq16/vmnTYb5s2bbJZLL333nt12O9tt912+IUXXkj1nOAMf/Hx8SdTUlLWJycnhw4dOrThH3/8UZMnc77xjB8//q9rr722+KapupktXbo0rE+fPm0OHTq0NiYmxvVkzhOLZ6h27979BE+iJdP2vuLD22Vy+PDhoEGDBjXiG0F+fn5At27dTkybNm1vhw4d8jhOrrrqqpaedhwzxvgaf+dxHjp0qOe3IGjz5s3rX3/99TplLU+kp6cH3n777U0WLVoUVbNmzcL77rvvwNdffx3drl27bGMJhHkeMGDA4R07dlTnsoiIiIIRI0bsf+ihh/hV1KVyymWvvPJKzIQJE+L379/v+f0LH8wW1l1WhGhYvnx5rRMnTgTt37//z5o1a/LnxCk7OzsgLi6uI4/HOeecc9wQDSzOevfu3ToiIqJw7NixqV26dMnm5Z8vv/wy8u23366za9euDcY1dfTo0eAOHTpkrVq1yiUQ+OdNNHAW7scff9xSUFAQsGLFirAhQ4Y05bFfsmSJ12zoiRMnAuLj4zt+8skn2y666KJSl/usj4bcg5NEA7deJZghGuRjrLSozKKBO//f//63IV+069ev38gTwvnnn99m1qxZO2+77TZXmp5vXMnJyWGclh46dOih5cuXhw8fPrzJ+PHj940YMcI1YV999dXN/vrrr9AJEyb81bBhw/wPP/ww6rnnnmuwevXqDXzT4ZvJiBEjmnTo0CH7ueee21e3bt2CZs2a5d9xxx2NS4oGfgoZPHjwgQEDBqTNnTu39vPPPx/fq1evjKuvvvrYJZdccnzSpEn1vvzyy+g9e/asj4iIOLVnz57gTp06tb311luP3HXXXUd5shs5cmTDwsLCgN9++821HMB92LhxY41BgwYdHDhwYNqSJUtq3n///U3nz5+/rX///pmpqanVGjRo0PGll17a3b9//wwWLfyU8+uvv9ZYunRpeJ8+fbJYjMyaNStm5syZccnJyckJCQmulKhKNDz11FN1//e//8Xu3LnTNZny7+effw5jnhcsWLD1rLPOygkJCSmqV69eoTfR4As+vAV93759W+zevbv6tGnT9vDSA3O4d+/e0K1bt7razbHRsWPH9v/73/92XHjhhSfq1q1bGBoa6rrBGD+ezH/44Yea1157bcvFixdvat68+UkWbiNHjjwtbVqynzfddFOTX375JWL69Om74+Pj88eOHdtg+fLlEf/3f/93xFM0ZGVlBY0aNYrFaOa8efOijRjr3LlzbmmccttYVHbt2rXdli1b1rds2bJclyhYBJQ2yQQFBRXx2BvljM3NzQ0cO3ZsR/7bDTfcsOvss892XYeBgYFyblQwAAAgAElEQVRFnnyX5le6cdIYCx7rYcOGHbj33ntd2bAZM2bUnjp1alzjxo3zOB4M0dCnT5+EzZs3h23bti2Zrz/Pvh05ciTIWGrk66Jfv37HOFMxd+7cHTfeeGNGaaLBU1AyZtSoUXGTJ09ukJGR8bshYjzrefvtt6MefPDBJunp6X8af2fRe9dddzXmOMrJyQmqV6/eyeHDh+8fOnTo0ZJZKEMEf/zxx9seffTRhrt27areqVOnE/Pnz9/JIn/06NGNDh06FHLBBRcce/fdd/cY/fR2rbdu3brt5Zdffsx4ACkpGu69994G/LBz8ODB4JiYmILrrrvu6KRJk/bzWHoT2TwHPfDAA0d5CW/IkCENFy5cGHXy5MnA9u3bZ02dOnWf53LmmDFj4l5//fV6HDNXXHFFWp06dQp+/PHHSGPvEHOjEswQDUoJIAfYLRqOHDkS/Pzzz7ceMWLE5jp16pT8JK68gWVY8ITw2WefxYSEhJx2cQ8ZMuTA5MmTXZ8x5ixB586dWzdr1ixv69atNbp06XLi/fffL0758Q33yJEj1bZt27bByCwMHjy4AQfzjh07NvDTeFJSUvudO3eua9q0aXF/evbs2fKss87KevXVV1OMi6PkGr63mySnEtesWeN6MuH/HxER0blfv37pn376qSs9yqnRxo0bdzTSng8++GD86tWrw5cuXVr8VLJjx47ghISEpD///DM5KSkpj/vg6Zf9dOjQoQ1nJKZPn+5KWes+ISQkJLS78847D40ZM4Y/yKQUDfxktWnTphrGfgbjBuxtT0N58VEyZNavX+8aw++++27zxRdf7Hpy4zXjpk2bJk2bNm33nXfemc43hNjY2E7eMgye/lho9ezZsy1nGIy15pJpU89+cpahbt26nWbOnLnrjjvuSGdfPGE2aNAg6eabbz5NNHD2Y8GCBa6lNt4LExsb2/GRRx5JHTly5OGylid4n0WdOnU6f/HFF1uuvPJKV0atvH6DBw8+LavkWW9iYmLGsGHDijdEDx06tHN+fr5XkdGkSZMTjzzySPET+4gRIzrm5OSc8Xba6dOnr5H0zRiL3r17H+drevny5S6hzdfvpZdeemzJkiW1DNHAMVG/fv1OjzzySMrEiRMPlFWPcYPdtWtXKGcyNm3atJHnD2+ZhpKiYdy4cfWefPLJhmlpaWu97ZthH9u3b6/umYm47bbbGq9atarm66+/vrtevXoFmzZtCs3Ozg685ZZbMkoTDR07dsyaNGnSvvDw8FO33HJLi7i4uPzg4OBTzz333F+cMb355ptbDB48+OAzzzzj6qsZ0TBy5Mj6F198cWbjxo3z16xZU+OBBx5oes899xx45plnDrLIHj58eIOffvopkjMtXAfvAQoLCyvq1q1bK+Z93Lhxqfy3V155Jfajjz6K2bx5czI/YLzxxhvRgwcPbvbss8/u7du37/E333wzZvbs2fUaNmyY5ykaVIIZokFytWhizYoGPla5Zs2a2iWrOXjwYI2MjIyQyMjIk/Xq1TvjZVFdunRJs+s4Jk8I+/fvD545c+Zpa5WxsbEFHHhG2ziwevTo0a5+/fp5GzZs2Oj5BME3XH7a+Oijj4rXNN95552ogQMHNs/Nzf19zpw50XfddVfzkk84nLLkJ42vvvpqJ4uGhx56qAnjPfcxeLtJtmzZMmfu3LnF7Y2Pj+9w1113HXr66acPGjeLoKCgLu+88872W2+9NeP8889PWLZsWQQvOXhyzU9i77///jZexuA+lPTLT9a1a9cuNPrlTTRkZmYG8lPyokWLInntlrMXeXl5gf/5z38Ovvbaa3/piIZbbrmlSWpqavDixYuLbw6l3eDKg4+0tLRqnPUxuOIU79GjR4Nuv/32Fjw+1ar9cx9q06ZN2yuuuCJ9ypQp+72JhrCwMNfRQP5de+21R3lNXCoaDPy2bdvWG9kb9te2bds2Z5999gnPTAOLNSMOGNOqVau2V111lat9ZYkGFsbVq1c/y4gHzUvfFpi/iIa5c+fuYZG4bt26ZH7jLYvIXbt2rRswYEATQzT8+OOPYX379m3z9ttv7zAykaWRZNxg77777jTeiPrcc8/tGTJkCC8znrGnwVM0rF27tvq1116bEBkZWbBu3Tqv7w246KKL+Not8NzPcOGFFybwk7znPGW0rTTRwJk+Yw8GP7VPnDixwYYNG9a3bdvWlY265ZZbGu/bty/U2DRuRjSU5Oexxx6rx8u8ycnJm7jM256Gzz//vNatt97a4tChQ3/WqFGjeF5r3Lhx+wceeOAAL8nxgx7vI3n33XeL58qOHTu25vnJUzSoBDNEgy2X+elOzIqG0ppS3pkGnSONL7zwQp2RI0c2CQsLK+Rd5omJicUZA5VomD17Nive5mvWrEnmtL7njyebRo0aFRh7Go4fP/6HZ7m3m6TnOnZpN2XPG/x5552XyILl+eefd93EPX+s7lkAcR9K+uWJxzPt6k008EawxYsXRzzzzDN/tW7dOi8sLOzU9ddf36Jnz57HPW9mZR25vP/++xssXbq01tq1a4snQIlosJuPwsJCSklJKd4N1rRp05MLFiyINESgp2jg1CvflDkr5U00cJbJ4Jufhho0aOBa0pFkGgz81q1b13nGHQsWXksvi2fP1HBZosHITv3888+bzjvvvGwfTBOlupQsT2RlZQVOnDixTVpaWnV2yDfvmJiY3EceeWRTtWrVfLo8wceeef27ffv22UVFRQEbN26s/u233+70vE5+/PHH8L59+7bWOWXkeYN96KGH6vNeop07dybfe++9DUtuhHzppZfqh4aGnjp16lQAP2x07979+BtvvLGnffv2ed6I7dWrVyJnRj0fLj744IOIgQMHtmjSpEne+eefn3ndddelG1mz0kRDSkrKn8Zmy5deeilm1KhRjXNyctYadQ4bNix+4cKFkRs3bnTd4M2Ihrfeeiv61Vdfrcv7uDjzwQ8e4eHhhWlpaa6lFW+igYXFhAkTGjInnv1nQTBo0KADvKE3IiKi08SJE/cNGTLkqIG56667Gi1btqyWp2hQCWaIBh/MBnaLBm5ieb2nQec8PE/8PXr0aDthwoS98+fPr81Bxql0IyNgLE/wUoRB75AhQxp8++23ruWJdevWhfJa9zfffLPF2ExZchh8KRr4pvzll19G8dp7aTujdURDcHDwWbyXY+DAgcVHLlu2bNn2mmuucd00uU98gqBhw4ZJN9xww1Fd0cCThnv99Q+D0927dwc3a9YsacmSJZt69+5dfBOzQ0Tp8FFyfMpanuB9Brxs4OvlCU/u+emoUaNGHW+66abTlidKijNP0VAap9zXzz77rNb111+fmJ6evtbbGrkPpg1TLjMzM4N4PwPfWAwHLBbGjx//J288NOVUYeQZc++//37kiBEjGrPJCy+8wJuNMzxFg5nlCX5/CV83zZs37zB06ND9u3fvDi0pGj777LPozz77bDv3lTdfez5de2s+76Hibyd88cUXp50K471JH3/8ceT3338f8d1330Xzhu2ZM2f+VZpoOHz48B/GHgxvc1TJG3rDhg07cJbxiSeeKH4nCy9XXn311ene9jSwyLrkkktaP/TQQymXX355JgvrOXPm1H7ttdfqGQ9Q3kTD2LFj49544426P/zwQ/FylMFDTExMIe8T0hUNKsEM0eCDq8rfRYO3I5f8NMmBx+v83bp1a123bt38hQsX7uAAS0pKase71400sLERko9k3X///Yd/++238GHDhjXhc/gPP/xw8UbINWvW1JwwYcK+Hj16ZB88eLDad999F5GUlJTDE48vRQPfLM4666y2PXr0OP7www8f4GNVmzdvrv7ee+/Vfu+993ZzX3VEAx+L5D0OEyZMSDWOpF588cUteIPn7NmzXZMTb9BbuXJlrZIb9MrKNPBEyzfAZcuWbezWrZvrNeT5+fmuvRo8iQ4ZMuRIeHh4ES+V2CEadPjwdpnwzcHYCMk3qEceeYRPubg2QvKmLV+JBm4Lb4RcunRp8UbIRx99NH7p0qWRvPn2zTffdL2USfWUVxqnxtPcr7/+WtNzX4kPpgpbXG7cuDH81Vdfbc3Obr/99u2xsbEnmzdv7rNv3njGHM8H8fHxSVx3amrqOr52SmbkOLO3ZcuWGjobIT2vC35XyeTJk+MvuuiiDN506XnksuSeBhWRjz/+eL0PP/yQ1/ddLwvz9ps8eXKdJ598stGJEyfW2iUakpKSWvfs2fOEsTTJ4rZhw4Yd77333oPeRAOfRJs9e3bsvn37ko023njjjU349I8hGnjTJ58627p1a3FfPv3004gbbrghkZdKSnsHBS9PcFbIM9vSqVOn1rwp0pMXlWCGaFBFm4lyfxcN3l7u1LRp01w+GsVpwzlz5sSuX79+g7HHgfcr3Hnnnc05lcs7dY39ALzx7PPPP6/NT8v//ve/D7/yyispnkcuR40aVZ8vZF77j4qKKujcuXPW+PHjU7t3757jS9HAQ8pPyiNGjGj422+/1eLjgvXr1z95wQUXZM6aNWsft1FHNMybNy+Sd02npKSE1KtXL5+PXPJkc/vttzf9888/w7lPvJ64YMGC2iWPAqreCHnVVVc1a9y48clp06YVvyeAl4QmT55cn3dpd+3atdQjl9LlCR0+vF0GxpHL77//PoqPvnGbpk+f7jpyyXhfigZvRy4568Wb8wzOVKLB/XR8Bqf8dxaEY8aM4aO7ro2WTv5VxJFLzyVMvhEyP8bx4JKiYfPmza4jl7y09+ijj6Z06dIlh5cUvvnmmwi+QRqnhEqOl/FWVI533oBoRTSsXLmSl8Da8BFR430zvCG6a9eu2Z06dcrJzc11naDiDdy8L8Iu0cAZVp7j5s6du5P3T4wZM8Z1yoevf2+iwdj7NX369F09e/bM5mVAflMqLxEaooFPqfAeI97YzRvJo6KiXKeSeCMknxbipdH27dvn7t27N/iLL76IvP7664/xEtvMmTOj77///ma8V4RPM7311lsxs2bNOmMjJGcyyhLMEA0+mA38WTTYQYe3G64dfquSD57kLrvsspbbt29f7203eFXiQqevvAGVT0889dRTfw0bNsyVzTL745Q7vxtk8+bNpS5fmfXtC7uKFg0l+1RSNHA5H3N+7LHH+OVOkZzJjI6OLuAjgcOGDTtkvLvDm8h7/fXXa//3v/9tZryXhH2ZfbkRP1XzMWsj28mnFFho8gul+KbbtWvX46+++uo+fsGYXaKBBdVtt93WdMmSJRH8/ooxY8akTps2rV5ZRy75SPsHH3wQw8cmL7jgggzuO2dcDNGQk5MT0L9//2YsPvjEhnHkkoX0sGHDGnBWIj09vRqftOPTQ7x3y9j7w1kKPnLJvi+99NJ0zhjzSQzPTINKMEM0+OAqhmg4cxOhD2iu9C75vDQv3XDmpdJ3VtjBZcuW1UhOTq5x7rnnZvFb/saNG1d/xYoVtbZu3ZpsvKBL6LIYzkfT+H0Rnm8lNOurPOzKWzSUR598UccHH3wQOWbMmIaeR8F9UY8/+9QRzBANPhhhX4gGf/rKJTINPggquDyNARYNgwYNasov2eGjs+3atct68cUX/4LAQqCUxcDTTz9d96abbkr3PHUDxv5hQEcwQzT4IGJ8IRp80Ey4BANgAAyAATAgYgCiQUSXHhiiQY8noMAAGAADYMC/GIBo8MF4QTT4gFS4BANgAAyAgQpnAKLBB0OwYsWKlqGhoQsTEhKyw8PDsYnNBxzDJRgAA2AADJQ/A1lZWTW2b98elpeX169Hjx6u745U9K/4zWYV3RCz9f/2228RoaGhq+Pj44Pr1q1b/MpOs/5gBwbAABgAA2DACQwcOnQoJjU1NT8rK6tLr169jjuhTX4vGpjE1atXPxocHHxvXFzcyfDw8OyAgIDTPo7kBKLRBjAABsAAGAADOgzw90WysrLCDhw4EJKfnz+ja9eu43XsygNTKURDUVFR4Jo1a8YEBQXdFhAQwB/7qRT9Ko8AQB1gAAyAATDgOAaKioqK8gsLC+d06dJlQkBAwGkfx6rI1laqmyt/rTA4OLh+UFCQ12/eVyTRqBsMgAEwAAbAgA4DhYWFp/Lz8/c7ZUnCs82VSjToDAYwYAAMgAEwAAbAgDkGIBrM8QYrMAAGwAAYAANVjgGIhio35OgwGAADYAAMgAFzDEA0mOMNVmAADIABMAAGqhwDEA1VbsjRYTAABsAAGAAD5hiAaDDHG6zAABgAA2AADFQ5BiAaqtyQo8NgAAyAATAABswxANFgjjdYgQEwAAbAABiocgxANFS5IUeHwQAYAANgAAyYYwCiwRxvsAIDYAAMgAEwUOUYgGiockOODoMBMAAGwAAYMMcARIM53mAFBsAAGAADYKDKMQDRUOWGHB0GA2AADIABMGCOAYgGc7zBCgyAATAABsBAlWMAoqHKDTk6DAbAABgAA2DAHAMQDeZ4gxUYAANgAAyAgSrHAERDlRtydBgMgAEwAAbAgDkGIBrM8QYrMAAGwAAYAANVjgGIhio35OgwGAADYAAMgAFzDEA0mOMNVmAADIABMAAGqhwDEA1VbsjRYTAABsAAGAAD5hiAaDDHG6zAABgAA2AADFQ5BiAaqtyQo8NgAAyAATAABswxANFgjjdYgQEwAAbAABiocgxANFS5IUeHwQAYAANgAAyYYwCiwRxvsAIDYAAMgAEwUOUYgGiockOODoMBMAAGwAAYMMcARIM53mAFBsAAGAADYKDKMQDRUOWGHB0GA2AADIABMGCOAYgGc7zBCgyAATAABsBAlWMAoqHKDTk6DAbAABgAA2DAHAMQDeZ4gxUYAANgAAyAgSrHAERDlRtydBgMgAEwAAbAgDkGIBrM8QYrMAAGwAAYAANVjgGIhio35OgwGAADYAAMgAFzDEA0mOMNVmAADIABMAAGqhwDEA1VbsjRYTAABsAAGAAD5hiAaBDytnTp0lrBwcH1g4KCAoWmgIMBMAAGwEA5MFBYWHgqPz9/f69evY6XQ3VVqgqIBs3hLioqClyzZs2YoKCg2wICAoKJCNxpcgcYGAADYKCcGSgqKirKLywsnNOlS5cJAQEBp8q5/kpbHW58mkO7evXqR4ODg++Ni4s7GR4enh0QEFCkaQoYGAADYAAMlCMDRUVFAVlZWWEHDhwIyc/Pn9G1a9fx5Vh9pa4KokFjeH/77beI0NDQ1fHx8cF169Y9qmECCBgAA2AADFQwA4cOHYpJTU3Nz8rK6oKlCnsGA6JBg8cVK1a0DA0NXZiQkJAdHh6eo2ECCBgAA2AADFQwA1lZWTW2b98elpeX169Hjx5bK7g5laJ6iAaNYVy9enXratWqfZuYmHgiLCwsV8MEEDAABsAAGKhgBrKzs6tv27atZkFBwaVdu3bdXMHNqRTVQzRoDCNEgwZJgIABMAAGHMYARIP9AwLRoMEpRIMGSYCAATAABhzGAESD/QMC0aDBKUSDBkk+hFx88cUtVqxYUatnz56Z33777U6jqvfffz9y1KhRjYqKimjo0KEHhg8ffsSHzYDrCmRg8+bNIbfffnvTI0eOBAcFBRWtXr16c0REBI7RVeCY+KLqbdu2Bf/73/9ufuTIkWo8zqNGjdp/5513pputC6LBLHOl20E0aHAK0aBBkg8hn3/+ea0TJ04EzpkzJ8YQDfn5+ZSYmNj+p59+2hIVFVXYqVOntitXrtxUr169Qh82Ba4riIFu3bq1evrpp1MuvfTSEwcPHgyqXbt2YXAwvy4Fv8rEwJ49e4JTU1OrnXPOOTkpKSnVzjrrrLbbtm1LNisQIRrsjw6IBg1OzYqGgl27QgoPH62mUYULEhQbU1CtWbOTuviqhPvyyy9rvfrqq7GGaFi0aFH4pEmT4hYtWrSDebjjjjsanX322Vn33HNPmpN42X9if0h6Xpp2DESH1i6oX7M+YsBjEFevXl39gQceaLx8+XJn734/uj2Esg5ojzWFxxVQTALGuowLtmXLlm2/+uqrbYmJiflmrmuIBjOslW0D0aDBqRnRwILh4AV921N+vj7HwcFF9X76IVlXOHzzzTc1J0+eHJecnBx2+PDh4Dlz5uwYMGDAMc8uPfvss7GvvPJKHKd1ExIScp5//vl9/LRmYDIyMgJvvfXWpitWrKjZo0ePE/PmzdttVtWXpFKnfWyjaiNjSoqGt956K/qnn36qNWfOnL1c/thjj9ULCAigp5566qDGkJYLhAXDkB//277gVIF2DFQLrFY07cLXks0Ih9GjR8c9++yzDe64445Ds2fP3sedHD58ePzUqVPre3Y4Jiam4MiRI3/6SwzMnTs36u233445depUwIEDB4Kvvvrq9GefffZAuQyibiUsGKa3a0+FJ7XHmoJCimjwhmRd4cDZtREjRsTPnz8/5ujRo8F16tTJv+mmm45MmjRpf2Dg32+1V11L/nK9c1+WLFkSdtdddzXbtm3bBt1hKImDaDDLXOl2+gFuf91+49GMaMhbuTrsSP/+baSdrPPpp5tCu3fN1rH74IMPIpYtW1azS5cu2QMHDmxRUjTMnDkzesiQIc2ee+65vX369Dkxbdq02Pfff7/OunXrNiQk/P2EM3LkyPp79uwJGTFixKHJkyfXa9GiRa5qQv7uu+/C+/Tpkx0aGnraWzHXrl1bvU6dOgWNGjUqYN+q9jFGp43eRMPs2bOjFy9efJpo4InzySefdIxo2Hh0Q9ioX0aKY+DZ3pM2tY1ppxUDRpz8/PPPYbfcckuLmjVrFp577rnHPUXDF198Ef3jjz9uMbBBQUEUHx/vGiN/iAEe6+HDhzdZtWrVhoYNGxacf/75iaNGjTrQv3//TJ3rpFwwe5eG0eze4rGmO3/ZRI17aY31qFGj4l5//fV6M2bM2N25c+ec5cuXh993331NR40alfLYY48d0rmW/OV65yWonj17tn7ttdd2X3zxxVlmxxCiwSxzEA2WmHOqaPDsVEBAQJeSoiEpKal1hw4dst99913X0zj/mjdv3u6yyy47Nm3atBT+70GDBjWMjY3Nf+aZZw6OHTu2Hj/BvPbaa3+VRtipU6eobdu2bZs1a5b7xRdf7KxW7e9s7Lp160L79u3batCgQQfZV0l7b+1jjE4bvYkGb8sT3bt3z7r33nsdszxRXqKBnx47duzY9sUXX9wzceLE+Hbt2mV7ioavv/46avPmzRtLG1Onx8D3338f/uSTT8b/8ssv27gPnFXi/3366acdIxCpHETDBRdckMDX6ocffrjHGMt+/fq1qFGjxqkFCxbs0rmWnD7W3K+cnJyA3r17t7zjjjsODxkyxNL1DNFg6dbn1RiZBg1O/VE05OXlBYSHh581e/bsHbfddlvxkgWv/fNyxqpVq1xPnlu2bAm56KKLWu7fvz+kcePGeT/88MPWZs2albl+uHv37uDzzjuvVadOnbJ4stq4caNLMPTt2zdj3rx5xROaStTottGbaOBUbUJCQvvFixc7diNkeYmGf/3rX02jo6ML33zzzX09evRoVVI0zJgxo16tWrV442BR586dsyZNmvRX27Zti9fSnR4DPNZJSUltlyxZsiUmJqbwoosuShg0aNDhm266KUPj8i0fSDmIhjFjxsS9/fbbsd98883WpKSkvF9//bXGlVde2XLChAn7Bg4cmF4Zrnd+KLnmmmuaJSYm5r3wwgupVgcPosEqg2faQzRocOqPooFv7M2aNUv67rvvNnum9zjFyUsUu3fvTja6zhcq71Ru0KBBgbE2qqJl+/btIX369GnFN6Hff/89/Oyzzz7+8ccf7y7N3lumQbeNvXr1StywYUNYbm5uYEREROGHH364nZdH3n333cixY8c24vY/8MADBx566CFHHbksD9HAKenJkyfH//nnnxvDwsKKSooGXiLKyckJbNu2bR7vSudMxI4dO6pv2LAh2fOkidNjgPvx2GOPNeQPEfXp0yfjjTfeKDUbpopdn5SXg2jgMbr//vsbzJgxIy4wMLCI93g88sgjKRMnTjygey1x35081gsXLqx52WWXtWrZsmXx6/rnzJmzq3v37qZe3w/RYH+0QzRocOrPomHRokWbL7roouI1QRYNH3zwQcyuXbtMby4yKOONjpdffnmrhg0b5u3cuTO5rCNwZYkGX7ZRY3h9BvG1aOAz7WeffXbbL7/8cisfUeOOlBQNJTuXmZkZ2Lx58w733XffgXHjxllO7yMG3AyXg2hggfj44483euqpp/Z16tQpd9WqVTXGjh3b+Omnn9531VVXZfJDgi+vJX8ca4gG+6c3iAYNTv1RNEhS/xoUnAHZt29fNV6iaNasWd769evDLr/88vS3337btWPf28+baPB1G830y04bX4sGPlVw2223teCNjcavsLCQ+BQJZ3xyc3PXGHtOPPvVs2fPRB43z70uZvqNGPBgrRxEQ1xcXNLQoUP3jx49+rBRM29s/Oijj2rznhWd5Qkz48w2/jrWEA1mR7x0O4gGDU79UTRwt3hjVMeOHbPnzp1bvBGyRYsW7S699NLijZAa3T8Dsn//fpdgaNq0ae7XX3+9Y926ddUvueSSVtddd93RmTNnek0bl7UR0hdtNNMvu218LRrS09MDeZnIs9133HFHs4SEhNyxY8fu79at2xkfV+NNZk2bNu0wYMCAw1OmTNlvts+IgRLMlYNoiIqK6jR69OiURx55pFg08DHb9957z7XciOv9zGiGaDB7hUM0WGLOqaKBd83zJkTuXM+ePduOGzdu3yWXXHI8Nja2kI9UGkewJk+evKd3795Z06dPj+UJ5o8//tjQsmVLUy+V4fXQpKSkNnxGfOHChTuMY5crV66s0a9fv5YPPvjg/ieeeOIQt0nVPsb4oo2WBttGY1+LBm9NLbk8wbvlr7766mMcD6mpqcHjx4+vv3Llylq///47YsDGsS6P0xPXXXdd06VLl0a89NJLe/jI5YoVK8KGDh3ahBHmwQIAABC/SURBVN/VMGPGjBRfXEv+fr1DNNgZ5H/7QqZBg1OnigZ+4dFVV13VsmQX/vWvfx2dP3/+bv678bIXfvlTYmJizpQpU/ZddtllxS930uj+GZBPP/00ol+/fsd5451nIe/m5vc0GG9v02mfr9popl922zhBNFx55ZXNV65cWTM9Pb1adHR0AW9cnTBhQkqXLl0sfeIdMVD+mQbOLI0YMaLBt99+G5WWlhYcGxt7sn///mmTJ0/eb4h3XO+njwtEg92zGkSDFqNOFQ1ajQeowhioCNFQYZ2t6hWXw/JEVafYTP8hGsywVrYNMg0anEI0aJAEyBkMQDRUoaCAaHDkYEM02D8sEA0anJoRDeXx7QmNpgNSgQyU97cnKrCrqLocvj0BkuUMQDTIOVNZQDSoGCIiM6KB3eIrlxrkVnIIvnJZyQfYs3v4yqXjBhuiwf4hgWjQ4NSsaNBwDQgYAANgAAz4iAGIBvuJhWjQ4BSiQYMkQMAAGAADDmMAosH+AYFo0OAUokGDJEDAABgAAw5jAKLB/gGBaNDgFKJBgyRAwAAYAAMOYwCiwf4BgWjQ4BSiQYMkQMAAGAADDmMAosH+AYFo0OAUokGDJEDAABgAAw5jAKLB/gGBaNDgFKJBgyRAwAAYAAMOYwCiwf4BgWjQ4BSiQYMkQMAAGAADDmMAosH+AYFo0OAUokGDJEDAABgAAw5jAKLB/gGBaNDgFKJBgyQfQp588sm6c+fOjS0qKqLevXtnzp49e19gYKAPa4RrJzKQmZkZ2Lp163ZXXnll+syZM/9yYhvRpvJh4P33348cNWpUI54Thg4demD48OFHvNUM0WD/eEA0aHAK0aBBko8gqamp1Xr06NF6y5YtG0JCQoq6d+/eetKkSfsuuuiiLB9VCbcOZeD+++9vsGPHjtCGDRuehGhw6CCVQ7Py8/MpMTGx/U8//bQlKiqqsFOnTm1Xrly5qV69eoUlq4dosH9AIBo0ODUrGvYdzQpJP3GymkYVLkh0zZCCRjHhJ3XxVQHHoqFr165t1q1btzEsLOwUC4j33ntvZ/v27fP8of8Z+zNCstP1YyAsOqQgsn4kYqDE4K5fvz70oYceanjFFVccS05OruFE0XB8/+6Q3GNHta/36lExBbXqN8VYCy/kRYsWhU+aNClu0aJFO9j0jjvuaHT22Wdn3XPPPWkQDUIyTcAhGjRIMyMaWDDcMm1Z+/zCIm2Og4MCiuYNOTdZVzg899xzsW+++WZsampqKHcjISEhZ/To0ak33nhjptGtZ599NvaVV16JO3LkSDCXP//88/suvfTSE0Z5RkZG4K233tp0xYoVNXv06HFi3rx5uyMiIk5p0KKEfPPNNzUnT54cl5ycHHb48OHgOXPm7BgwYMCxkoaqNj7zzDN1J06c2CAoKKhowIABh1999dUUZeUOALBg+PC+r9qfKjilHQOB1QKL/u/VK5IlwmHXrl3BQ4cObbhkyZLIvLy8gCZNmuTNmjVrd+/evbOZBhW//hADffv2bTF16tS/Fi9eXNOJooEFw9cPXd3+VEG+YKyDiy6f8nmyrnBQXU8688Hw4cPjp06dWt/z8oiJiSk4cuTIn/4yJ7z11lvRP/30U605c+bs5TY/9thj9QICAuipp546CNHg+4lPO8B93xTn1mBGNKzbkx42aPbKNtJezbyz+6akJtGuyV71mzdvXmRQUBC1adMml7GzZs2q89prr9X79ddfN3bt2jV35syZ0UOGDGn23HPP7e3Tp8+JadOmxb7//vt11q1btyEhIcH1hDNy5Mj6e/bsCRkxYsShyZMn12vRokXus88+e6Csur/77rvwPn36ZIeGhhZ54tauXVu9Tp06BY0aNSrgv3/wwQcRy5Ytq9mlS5fsgQMHtvAmGlRtPHz4cFD//v2bz58/f2d4ePipvn37thw3blzKZZddVix8VDxVVPn+jYfDPh+9UBwDV0/st6l+21itGGB+OD17zjnnHB88ePChBg0aFGzevDm0RYsWJzkbo+LXH2LgnXfe+f/27j+kqfWPA7hT5/LXLb9q3jvLNs0fd6ZpQpT0Q9C0TIMKikAiyIxyRD8MAqnWl35AaX8EWUEY4VdjoCRYQr/E8Fa0UIdl6beWek1Nv5nXfrg7de7L422y1Lnn7Myz6Xn3ZzznnOd5fc55fO+c52zzampqvK5du/bh0qVLvo4YGv73ptbjoSKDca2TFP954/97HFWtLV1PluYDUmsSGioqKnyqqqqajdcFmUPEYvHoNWvN+UA7H9hqTigsLPSprq7+KTSQNU6nTp1CaOBgskNooEB21NAwWdfnzp0bo1AoPhw6dOhTdHR0RFRU1EBxcfFoIif/goODIzds2PDX5cuXRz+tZ2VlLfD39x86c+ZMd25ubkBvb6/w6tWrZheZjYyMOMlkMplUKv27oqLivavrP3djGxoaRImJieFZWVndZF/j+yYQCOImCw2W+kgmCPKpoqioaOxTBenDZMegKCWnTbgIDfv37w8kd4lqa2vH/giYDtKS70w4B7KzswPLysp8yZ2mgYEB5+HhYcHevXu78/Lyujgt6BQH4yI0mB7e3PU0voum84ExNFRWVs5ramp6bW44TOYEa+cDcmxr54TJHk8sX778+759+/B4goMLAqGBAnkmhIbh4WEn8gdWLpdLyZ0G8inT09NzWWFhoWbnzp1jjwTI8z/yuODFixejf2Sam5vdkpKSwrq6utyCgoJ0jx49+q9UKh2aiqW1tVW4Zs2a8JiYmO/l5eUtr1+/Hg0MiYmJ/SUlJW2TbTvZBEFupVvqY1VVlWd2dvai2traN2QhZFJS0uLMzMxPGRkZEx5zUJSS0yZchIaQkJDIhISEL52dncLnz597BwQEDGVmZvYcOXLkE43vTDgHTIvG5zsNTELD+PkgLi5u9G4kudNw5cqVAG9vb71QKDTExsZ+P3/+/AeZTDa2toLpnGDNfGAuNNCcs2Qh5OLFi5dUV1djISSnM9o/B0NooEB35NCgUqncExISIgYHB53d3d31169fb9m+fXs/uZClUmn0/fv3m9atWzf2psGxY8d+JY8oWltbXxmHTj4tdHR0uJJb27SvMr57985t7dq14WTSqaur81yxYsXX0tLSVnPbTxYaaPtIVs3fvXt3Htn3qlWrZswrl1yEBpFItIzUcc+ePd07duz4/PTpU8/jx48H5efnt23cuPHLbDkHjOcqQsOPidvMnTtz84HRjzzi0Gq1zjKZTEcWGZ87d06s0WjmNDY2vjJ9+4DpnMB0PjAXGmjnhOLi4rm5ubkLST8PHDjwMScnB69cUvwts0UThAYKRUcODSSZv3371u3z588uSqXSp6SkxO/hw4fNvr6+evIH48GDB02mryeS0KBUKn1bWloaKYY+ZROyMCs1NTV8wYIFuvfv378SCoVm208VGqazj2zHyGZ7LkKDUChctmTJkoH6+vomY1937dq1UK1We5aXl2twDrCpIP22jvJ4wtx8YLzTMH5E5LsvgoODo+Ry+UeFQjHhsSK9gJMTk/nAUmiw1ZyAVy6ZVJCuLUIDhZMjh4bx3Y+Pjw+TSCS6Gzdu/Gnp1j/F0M02aW9vdyWPKKRSqe7ly5ceqampfTdv3mw3t4G1jyfY9NHe23IRGsRicRT5wiulUjn2WIisos/Pz/+tvb39Jc4Bbs4CRwkN5uYDc48NSfv4+PhQch2brn1iqsZ0PjAXGmgeTzDpG0IDEy26tggNFE4zKTSsXLkyTCwWD5aVlbWSRXBLly4dMC4iJEMlz8DXr18/thCSYvgTmnR1dY0GBolE8ndlZaWmoaFhTnJycvjWrVt7zb0/P9Wip+noozXjsvU2XISG9PR0aWdnp5vpQsjdu3cvJI+MyN0HnAO2rurk+3PU0GA6H0zWc61WK5BIJFHkVWZrF5ZaMx+YCw3k/215ziI02P78R2igMHXU0CCXywPT0tL6pVLpYH9/v0tRUdG/CgoKfi0tLX27efPmL8bX7S5cuNC2evXq7wUFBf63bt3yU6vVjWFhYVZ9qQx5hhgdHf27n5/f0L179zTG1y7Js9SUlJSwgwcPdp08ebKHsJL3/8kiyR+fZmQKhaI9OTn5q7+/v974yud09JGipJw04SI0PH782CMxMTEiJyenMyMjo6+mpsbz8OHDiy5evNhGVpNPhy/OgYmnDxehwdL1ZGk+IL0mb0Zs2rTpL3L9kcWzp0+f/k2lUnnX1dVZNScwORfsMScgNNh+qkNooDB11NCwbdu2RU+ePPmFfHGSl5eXPiIiQnv06NGPJDAYh2X8Yh/SJjQ0VJuXl9fO9jsObt++/UtKSspXDw+Pn76n4dmzZ+7kexpCQ0NH3764c+eOd3p6eth44i1btvSSOyHT2UeKsk57Ey5CAxkE+R7+EydOBLa1tc0JDAzUZWdnd5O3J6bTF+fAz6cPF6HB0vVEMx+kpaUFq1Qqr76+PlcfH59hspD57NmzHebWPNBcJLTngj3mBIQGmgoya4PQQOHlqKGBoutoYkcBrkKDHYeIQ/8Q4CI0AJu5AEIDczNLWyA0WBJycnJCaKBAQpMJAggN/DkpEBocs9YIDbavC0IDhak1oYGL356g6Dqa2FGAq9+esOMQcegfAlz89gSwmQsgNDA3s7QFQoMlISvvNJDd4lcuKXBneRP8yuUsL7DJ8PArl45Xa4QG29cEoYHC1Jo7DRS7RRMIQAACEJhGAYQG2+MiNFCYIjRQIKEJBCAAAQcTQGiwfUEQGihMERookNAEAhCAgIMJIDTYviAIDRSm9fX1oQKB4H5ISMiAl5eXlmITNIEABCAAATsLfPv2zV2j0Xjo9fp1cXFx7+zcnVlxeIQGijI2Nja66XS6P9zd3YPmz5//RSQSDQoEoKOgQxMIQAACnAsYDAYnnU7n1tPTQ37V80+RSLQqMjLSqm/B5bzzDn5A/OWjLJBarQ7U6/X/dnZ2XisQCFwpN0MzCEAAAhCwg4DBYBgeGRl57OLiciImJqbDDl2YlYdEaGBQVoPB4FxfX+87NDTk4+Li4sxgUzSFAAQgAAGOBPR6/YhQKOyLjY3tFQgEIxwdlheHQWjgRZkxSAhAAAIQgAB7AYQG9obYAwQgAAEIQIAXAggNvCgzBgkBCEAAAhBgL4DQwN4Qe4AABCAAAQjwQgChgRdlxiAhAAEIQAAC7AUQGtgbYg8QgAAEIAABXgggNPCizBgkBCAAAQhAgL0AQgN7Q+wBAhCAAAQgwAsBhAZelBmDhAAEIAABCLAXQGhgb4g9QAACEIAABHghgNDAizJjkBCAAAQgAAH2AggN7A2xBwhAAAIQgAAvBBAaeFFmDBICEIAABCDAXgChgb0h9gABCEAAAhDghQBCAy/KjEFCAAIQgAAE2AsgNLA3xB4gAAEIQAACvBBAaOBFmTFICEAAAhCAAHsBhAb2htgDBCAAAQhAgBcCCA28KDMGCQEIQAACEGAvgNDA3hB7gAAEIAABCPBCAKGBF2XGICEAAQhAAALsBRAa2BtiDxCAAAQgAAFeCCA08KLMGCQEIAABCECAvQBCA3tD7AECEIAABCDACwGEBl6UGYOEAAQgAAEIsBdAaGBviD1AAAIQgAAEeCGA0MCLMmOQEIAABCAAAfYCCA3sDbEHCEAAAhCAAC8EEBp4UWYMEgIQgAAEIMBeAKGBvSH2AAEIQAACEOCFAEIDL8qMQUIAAhCAAATYC/wfdkLDA9TUCoIAAAAASUVORK5CYII=\" width=\"525\">"
      ],
      "text/plain": [
       "<IPython.core.display.HTML object>"
      ]
     },
     "metadata": {},
     "output_type": "display_data"
    }
   ],
   "source": [
    "spacing_condition = find(spacing_choice.value,spacing_short)\n",
    "if spacing_condition == 0:\n",
    "    mult_factor_base = 1\n",
    "else:\n",
    "    mult_factor_base = 100\n",
    "\n",
    "fst = 16\n",
    "fs = 14\n",
    "beam_energy_text = erg_options(isi)[iei]\n",
    "beam_species_text = projectile_sym_str[isi]\n",
    "\n",
    "fig = plt.figure()\n",
    "ax = plt.subplot(111)\n",
    "# Axis labels\n",
    "title_text = particles_long[spi] + \" Energy Spectra for\" + \"\\n\" \n",
    "title_text += beam_energy_text +\" \"+ beam_species_text + \" on \"+ thicknesses[ftti] +\" \"+ target_mats_short[ftmi] \n",
    "plt.title(title_text,fontsize=fst)\n",
    "if spi <= 2:\n",
    "    plt.xlabel(\"Energy [MeV]\",fontsize=fs)\n",
    "else:\n",
    "    plt.xlabel(\"Energy [MeV/n]\",fontsize=fs)\n",
    "\n",
    "if spi == 1: # deconvoluted neutrons\n",
    "    leg_strings = [r'Experimental (deconvoluted)',r'MCNP (simulated)', r'PHITS (simulated)']\n",
    "    plt.ylabel(r\"Yield [#$\\cdot$/(MeV$\\cdot$s.p.)]\",fontsize=fs)\n",
    "else:\n",
    "    leg_strings = [r'Experimental (time-of-flight)',r'MCNP (simulated)', r'PHITS (simulated)']\n",
    "    if spi <= 2:\n",
    "        plt.ylabel(r\"Yield [#/(MeV$\\cdot$sr$\\cdot$s.p.)]\",fontsize=fs)\n",
    "    else:\n",
    "        plt.ylabel(r\"Yield [#/(MeV/n$\\cdot$sr$\\cdot$s.p.)]\",fontsize=fs)\n",
    "\n",
    "# Generate portion of legend specifying data sets\n",
    "if spi == 1:\n",
    "    exp_leg, = plt.errorbar(np.NaN, np.NaN,yerr=0, color='dimgrey', marker=\".\",markersize=3,linestyle=\":\",alpha=1.0), #, label=r'Deconvolued')\n",
    "else:\n",
    "    exp_leg,  = plt.errorbar(np.NaN, np.NaN,xerr=0,yerr=0,marker=\".\",c='dimgrey',markersize=2,linestyle=\"\",elinewidth=0.5,markeredgewidth=0.5,capsize=0), # , label=r'Experimental (ToF)') \n",
    "\n",
    "MCNP_leg, = plt.errorbar(np.NaN, np.NaN,yerr=0, color='dimgrey', marker=\"^\",markersize=3,linestyle=\"--\"), #, label=r'Simulated (MCNP)')\n",
    "PHITS_leg, = plt.errorbar(np.NaN, np.NaN,yerr=0, color='dimgrey', marker=\"s\",markersize=3,linestyle=\"--\"), #, label=r'Simulated (PHITS)')\n",
    "\n",
    "legs_for_ds = [exp_leg, MCNP_leg, PHITS_leg]\n",
    "used_ds_legs = []\n",
    "used_ds_leg_strs = []\n",
    "leg_handles1 = []\n",
    "leg_labels1 = []\n",
    "    \n",
    "for dsi in data_set_i_list:\n",
    "    used_ds_legs.append(legs_for_ds[dsi])\n",
    "    used_ds_leg_strs.append(leg_strings[dsi])\n",
    "    k=0\n",
    "    for di in det_angle_i_list:\n",
    "        ndet = str(di+1)\n",
    "        scale_power = 2*((len(det_angle_i_list)-1)-k)\n",
    "        mult_factor = mult_factor_base**scale_power\n",
    "        if spacing_condition == 0:\n",
    "            lab_text = detectors_angles[detti][di]\n",
    "        else:\n",
    "            lab_text = detectors_angles[detti][di] + r\" $\\times10^{{{0}}}$\".format(str(int(scale_power)))\n",
    "        k += 1\n",
    "        \n",
    "        # Make artificial legend for 6 detectors\n",
    "        ebp = ax.plot(np.NaN, np.NaN,c=detector_colors(di),marker=\"s\",markersize=8,linestyle=\"\") #,label=lab_text) #,label='Simulated (MCNP)')\n",
    "        leg_handles1.append(ebp[0])\n",
    "        leg_labels1.append(lab_text)\n",
    "        \n",
    "        nzi = np.nonzero(mm_values[dsi,iei,ftmi,ftti,spi,di,1,:])\n",
    "        xdata = mm_values[dsi,iei,ftmi,ftti,spi,di,1,:][nzi]\n",
    "        xbinw = [mm_values[dsi,iei,ftmi,ftti,spi,di,1,:][nzi]-mm_values[dsi,iei,ftmi,ftti,spi,di,0,:][nzi] , mm_values[dsi,iei,ftmi,ftti,spi,di,2,:][nzi]-mm_values[dsi,iei,ftmi,ftti,spi,di,1,:][nzi]]\n",
    "        ydata = mm_values[dsi,iei,ftmi,ftti,spi,di,3,:][nzi]\n",
    "        yerr_stat = mm_values[dsi,iei,ftmi,ftti,spi,di,4,:][nzi]\n",
    "        yerr_sys = mm_values[dsi,iei,ftmi,ftti,spi,di,5,:][nzi]\n",
    "        xerr = mm_values[dsi,iei,ftmi,ftti,spi,di,6,:][nzi]\n",
    "        \n",
    "        ydata = ydata*mult_factor\n",
    "        yerr_stat = yerr_stat*mult_factor\n",
    "        yerr_sys = yerr_sys*mult_factor\n",
    "        \n",
    "        # Generate plots\n",
    "        if dsi == 0: # experimental results\n",
    "            if spi == 1: # deconvoluted neutrons\n",
    "                alpha_val=1.0\n",
    "                marker_val = \".\"\n",
    "                p = plt.errorbar(xdata,ydata,yerr=yerr,c=detector_colors(di),marker=marker_val,markersize=3,linestyle=\":\",alpha=alpha_val,label=lab_text) #,label='Simulated (MCNP)')\n",
    "            else:\n",
    "                # x error bar (bin width)\n",
    "                xerrbar = xbinw\n",
    "                # x error box (energy resolution\n",
    "                xerrbox = xerr\n",
    "                xerrbox = np.array([xerrbox, xerrbox])\n",
    "                # y error bar (systematic uncertainty)\n",
    "                yerrbar = [yerr_sys, yerr_sys]\n",
    "                yerrbar[0][(ydata-yerrbar[0])<=0]=0 # get rid of negative error bars\n",
    "                yerrbar[1][(ydata)<=0]=0 # get rid of errorbars on negative points\n",
    "                # y error box (statistical uncertainty)\n",
    "                yerrbox = np.array([yerr_stat, yerr_stat])\n",
    "                \n",
    "                p = plt.errorbar(xdata,ydata,xerr=xerrbar,yerr=yerrbar,marker=\".\",c=detector_colors(di),markersize=2,linestyle=\"\",elinewidth=0.5,markeredgewidth=0.5,capsize=0,label=lab_text)\n",
    "                nx_color = detector_colors(di) #p[0].get_color()\n",
    "                makeErrorBoxes(xdata,ydata,xerrbox,yerrbox,fc='None',ec=nx_color,alpha=1.0,lw=0.5)\n",
    "                makeErrorBoxes(xdata,ydata,xerrbox,yerrbox,fc=nx_color,ec='None',alpha=0.1,lw=0.5)\n",
    "                \n",
    "        elif dsi == 1: # MCNP results\n",
    "            ebp = plt.errorbar(xdata,ydata,yerr=yerr_stat,c=detector_colors(di),marker=\"^\",markersize=3,linestyle=\"--\") #,label=lab_text) #,label='Simulated (MCNP)')\n",
    "        \n",
    "        elif dsi == 2: # PHITS results\n",
    "            ebp = plt.errorbar(xdata,ydata,yerr=yerr_stat,c=detector_colors(di),marker=\"s\",markersize=3,linestyle=\"--\") #,label=lab_text) #,label='Simulated (MCNP)')\n",
    "        \n",
    "        \n",
    "#handles, labels = ax.get_legend_handles_labels()\n",
    "if len(data_set_i_list)==3: # Three rows in named legend\n",
    "    box_h_multiplier = 0.92 # percentage of total height occupied by actual plot\n",
    "    box_h_offset = 0.12 # vertical offset left at the bottom for legend stuff\n",
    "    leg2_anchor = (0.5, -0.065)\n",
    "    leg1_anchor = (0.47, -0.155)\n",
    "elif len(data_set_i_list)==2: # Two rows of legend\n",
    "    box_h_multiplier = 0.92 # percentage of total height occupied by actual plot\n",
    "    box_h_offset = 0.12 # vertical offset left at the bottom for legend stuff\n",
    "    leg2_anchor = (0.5, -0.065)\n",
    "    leg1_anchor = (0.47, -0.155)\n",
    "else: # One row of legend\n",
    "    box_h_multiplier = 0.92 # percentage of total height occupied by actual plot\n",
    "    box_h_offset = 0.12 # vertical offset left at the bottom for legend stuff\n",
    "    leg2_anchor = (0.5, -0.065)\n",
    "    leg1_anchor = (0.47, -0.155)\n",
    "\n",
    "# Set size and location of the plot on the canvas\n",
    "box = ax.get_position()\n",
    "ax.set_position([box.x0 + box.width * 0.025, box.y0 + box.height * box_h_offset,box.width * 0.95, box.height * box_h_multiplier])\n",
    "\n",
    "# Put a legend below current axis\n",
    "legend2 = ax.legend(used_ds_legs,used_ds_leg_strs,loc='upper center', bbox_to_anchor=leg2_anchor, ncol=len(data_set_i_list))\n",
    "\n",
    "# Put a legend below current axis\n",
    "ax.legend(leg_handles1[:6],leg_labels1[:6],loc='upper center', bbox_to_anchor=leg1_anchor, ncol=3,handletextpad=0.1)\n",
    "ax.add_artist(legend2)\n",
    "\n",
    "window_title = mm_metadata[dsi,isi,iei,ftmi,ftti,spi,0,1] + \"_fig\"\n",
    "fig.canvas.set_window_title(window_title)\n",
    "if spacing_condition == 1: \n",
    "    fig.set_size_inches(5.25,10.25)\n",
    "        \n",
    "plt.xscale('log')\n",
    "plt.yscale('log')\n",
    "plt.grid(b=True, which='major', linestyle='-', alpha=0.25)\n",
    "plt.grid(b=True, which='minor', linestyle='-', alpha=0.10)\n",
    "plt.xlim([5,2000])\n",
    "        \n",
    "        \n",
    "        \n",
    "plt.show()        \n",
    "        \n",
    "    \n",
    "    \n"
   ]
  },
  {
   "cell_type": "code",
   "execution_count": null,
   "metadata": {},
   "outputs": [],
   "source": []
  }
 ],
 "metadata": {
  "kernelspec": {
   "display_name": "Python 3",
   "language": "python",
   "name": "python3"
  },
  "language_info": {
   "codemirror_mode": {
    "name": "ipython",
    "version": 3
   },
   "file_extension": ".py",
   "mimetype": "text/x-python",
   "name": "python",
   "nbconvert_exporter": "python",
   "pygments_lexer": "ipython3",
   "version": "3.6.4"
  },
  "widgets": {
   "application/vnd.jupyter.widget-state+json": {
    "state": {
     "015a24742f1046a68c1d4db057c366cf": {
      "model_module": "@jupyter-widgets/controls",
      "model_module_version": "1.1.0",
      "model_name": "CheckboxModel",
      "state": {
       "description": "MCNP sim.",
       "disabled": false,
       "layout": "IPY_MODEL_f4c2d755906e4acc82b4b2022cb7d83e",
       "style": "IPY_MODEL_59d88d47bdd14c89a862b29a2a531ba7",
       "value": true
      }
     },
     "016af3617c1540cb8e02cb71fbe0670e": {
      "model_module": "@jupyter-widgets/base",
      "model_module_version": "1.0.0",
      "model_name": "LayoutModel",
      "state": {}
     },
     "016af7d1f94149218d11f66c4a091e97": {
      "model_module": "@jupyter-widgets/controls",
      "model_module_version": "1.1.0",
      "model_name": "CheckboxModel",
      "state": {
       "description": "80°",
       "disabled": false,
       "layout": "IPY_MODEL_d7fa1e0a970542dfa0bcacd0af564385",
       "style": "IPY_MODEL_5fd143974646441e9efb80cf682ca8a5",
       "value": true
      }
     },
     "01d7e586b2a44ccb8a530a82fbf83230": {
      "model_module": "@jupyter-widgets/controls",
      "model_module_version": "1.1.0",
      "model_name": "ToggleButtonsModel",
      "state": {
       "_options_labels": [
        "20 g/cm²",
        "40 g/cm²",
        "60 g/cm²"
       ],
       "button_style": "",
       "description": "Upstream target thickness:",
       "icons": [],
       "index": 0,
       "layout": "IPY_MODEL_596ea217ac164fedaf51f67142124c58",
       "style": "IPY_MODEL_55a5703aec6e4ddf86fb580bdcbfe484",
       "tooltips": [
        "20 g/cm²",
        "40 g/cm²",
        "60 g/cm²"
       ]
      }
     },
     "01f72b147b784cc9ba5906f2ca107057": {
      "model_module": "@jupyter-widgets/controls",
      "model_module_version": "1.1.0",
      "model_name": "ToggleButtonsStyleModel",
      "state": {
       "button_width": "",
       "description_width": ""
      }
     },
     "02127c50231e4972b41b1271ccf9305d": {
      "model_module": "@jupyter-widgets/controls",
      "model_module_version": "1.1.0",
      "model_name": "DescriptionStyleModel",
      "state": {
       "description_width": ""
      }
     },
     "0212a0076bfb4fe9b444a577f12be42d": {
      "model_module": "@jupyter-widgets/controls",
      "model_module_version": "1.1.0",
      "model_name": "CheckboxModel",
      "state": {
       "description": "30°",
       "disabled": false,
       "layout": "IPY_MODEL_51b6948d26ac4208adc465035d6b9140",
       "style": "IPY_MODEL_4f1190b8cbda46f889e0baa7d9929de6",
       "value": true
      }
     },
     "0337ce54a5744c2592c741f8bf0da893": {
      "model_module": "@jupyter-widgets/base",
      "model_module_version": "1.0.0",
      "model_name": "LayoutModel",
      "state": {}
     },
     "03ae5818f0e94776ac03fe0d71608a92": {
      "model_module": "@jupyter-widgets/controls",
      "model_module_version": "1.1.0",
      "model_name": "LabelModel",
      "state": {
       "layout": "IPY_MODEL_637ed75ddebd43dbb94e0c153d7585d5",
       "style": "IPY_MODEL_085dff56f3114ea8938afe829535393f",
       "value": "Select upstream target material."
      }
     },
     "03dcf3cd83ed429284cfc87240c360b6": {
      "model_module": "@jupyter-widgets/base",
      "model_module_version": "1.0.0",
      "model_name": "LayoutModel",
      "state": {}
     },
     "046224b054b0448ea8e0ed8ad64c4b05": {
      "model_module": "@jupyter-widgets/base",
      "model_module_version": "1.0.0",
      "model_name": "LayoutModel",
      "state": {}
     },
     "04a447586dda4ee698d2fb2937a163eb": {
      "model_module": "@jupyter-widgets/controls",
      "model_module_version": "1.1.0",
      "model_name": "CheckboxModel",
      "state": {
       "description": "135°",
       "disabled": false,
       "layout": "IPY_MODEL_a692bd63ab7c48f295ccea4406aef904",
       "style": "IPY_MODEL_343114b504ce43fda824ef0816453850",
       "value": true
      }
     },
     "04e0e02fd9424300a282ee8e21e6a088": {
      "model_module": "@jupyter-widgets/base",
      "model_module_version": "1.0.0",
      "model_name": "LayoutModel",
      "state": {}
     },
     "0661377c3ce84078b39d999e286c34f4": {
      "model_module": "@jupyter-widgets/controls",
      "model_module_version": "1.1.0",
      "model_name": "CheckboxModel",
      "state": {
       "description": "10°",
       "disabled": false,
       "layout": "IPY_MODEL_80c974a6982d4c27bab83c49568cae82",
       "style": "IPY_MODEL_02127c50231e4972b41b1271ccf9305d",
       "value": true
      }
     },
     "06b2f62874494d339bb90eea19176892": {
      "model_module": "@jupyter-widgets/controls",
      "model_module_version": "1.1.0",
      "model_name": "ToggleButtonsStyleModel",
      "state": {
       "button_width": "",
       "description_width": ""
      }
     },
     "06c0c365322742f782334733d0d37345": {
      "model_module": "@jupyter-widgets/base",
      "model_module_version": "1.0.0",
      "model_name": "LayoutModel",
      "state": {}
     },
     "0758ae860a9c4504adc31a0935c7f733": {
      "model_module": "@jupyter-widgets/base",
      "model_module_version": "1.0.0",
      "model_name": "LayoutModel",
      "state": {}
     },
     "07755daa83fe4274b62c67d067d8f5c2": {
      "model_module": "@jupyter-widgets/controls",
      "model_module_version": "1.1.0",
      "model_name": "ToggleButtonsModel",
      "state": {
       "_options_labels": [
        "20 g/cm²",
        "40 g/cm²",
        "60 g/cm²"
       ],
       "button_style": "",
       "description": "Thickness:",
       "icons": [],
       "index": 0,
       "layout": "IPY_MODEL_40ddbb06e0014ae08ff988866adf07c1",
       "style": "IPY_MODEL_90e4cb21488d410886e5f278df600e84",
       "tooltips": [
        "20 g/cm²",
        "40 g/cm²",
        "60 g/cm²"
       ]
      }
     },
     "07757186b124423b90b6fc4a321a3839": {
      "model_module": "@jupyter-widgets/controls",
      "model_module_version": "1.1.0",
      "model_name": "DescriptionStyleModel",
      "state": {
       "description_width": ""
      }
     },
     "077e109affea4d699a6c5e1910bcab11": {
      "model_module": "@jupyter-widgets/controls",
      "model_module_version": "1.1.0",
      "model_name": "ToggleButtonsStyleModel",
      "state": {
       "button_width": "",
       "description_width": ""
      }
     },
     "07e26bfbdd264c5caa86997cd380255c": {
      "model_module": "@jupyter-widgets/controls",
      "model_module_version": "1.1.0",
      "model_name": "DescriptionStyleModel",
      "state": {
       "description_width": ""
      }
     },
     "0839726bcf934b2a8cabd4c883d639f1": {
      "model_module": "@jupyter-widgets/controls",
      "model_module_version": "1.1.0",
      "model_name": "LabelModel",
      "state": {
       "layout": "IPY_MODEL_325639152adf4b15b3b1051041ae68eb",
       "style": "IPY_MODEL_72b2eebf41ac4c2db75c3a52ac89f3c9",
       "value": "Select a detector type."
      }
     },
     "085dff56f3114ea8938afe829535393f": {
      "model_module": "@jupyter-widgets/controls",
      "model_module_version": "1.1.0",
      "model_name": "DescriptionStyleModel",
      "state": {
       "description_width": ""
      }
     },
     "093c5b828de249c78fddec2d5a864ef9": {
      "model_module": "@jupyter-widgets/base",
      "model_module_version": "1.0.0",
      "model_name": "LayoutModel",
      "state": {}
     },
     "0a00a4e4a38943d1be4af74db92ec146": {
      "model_module": "@jupyter-widgets/controls",
      "model_module_version": "1.1.0",
      "model_name": "DescriptionStyleModel",
      "state": {
       "description_width": ""
      }
     },
     "0a15630079c4457195034b328b2a52c7": {
      "model_module": "@jupyter-widgets/controls",
      "model_module_version": "1.1.0",
      "model_name": "ToggleButtonsModel",
      "state": {
       "_options_labels": [
        "H",
        "He",
        "C",
        "Si",
        "Fe"
       ],
       "button_style": "",
       "description": "Ion:",
       "icons": [],
       "index": 1,
       "layout": "IPY_MODEL_cdd7b460ab6d497e89a40e54704e0405",
       "style": "IPY_MODEL_2600d26c307b4d64b61cddbb1c9c8bf9",
       "tooltips": [
        "Hydrogen",
        "Helium",
        "Carbon",
        "Silicon",
        "Iron"
       ]
      }
     },
     "0a4e49250d1b4f6f98897b6d82eeb9a1": {
      "model_module": "@jupyter-widgets/controls",
      "model_module_version": "1.1.0",
      "model_name": "CheckboxModel",
      "state": {
       "description": "10°",
       "disabled": false,
       "layout": "IPY_MODEL_99bd68cb67c647a19d309a72f54f1d43",
       "style": "IPY_MODEL_1825297813484bcdac34bff4130870cc",
       "value": true
      }
     },
     "0a70fb9ba1734f81bf40a0d762dae042": {
      "model_module": "@jupyter-widgets/base",
      "model_module_version": "1.0.0",
      "model_name": "LayoutModel",
      "state": {}
     },
     "0a9707392c6b4c3282af3dc874884ff5": {
      "model_module": "@jupyter-widgets/base",
      "model_module_version": "1.0.0",
      "model_name": "LayoutModel",
      "state": {}
     },
     "0a991623230c4b9c9ef64ab68ea5d54d": {
      "model_module": "@jupyter-widgets/controls",
      "model_module_version": "1.1.0",
      "model_name": "DescriptionStyleModel",
      "state": {
       "description_width": ""
      }
     },
     "0b494dc80487406a9b61c6f01741dc0a": {
      "model_module": "@jupyter-widgets/base",
      "model_module_version": "1.0.0",
      "model_name": "LayoutModel",
      "state": {}
     },
     "0b9ff29894144d61b66453698de74215": {
      "model_module": "@jupyter-widgets/controls",
      "model_module_version": "1.1.0",
      "model_name": "DescriptionStyleModel",
      "state": {
       "description_width": ""
      }
     },
     "0c5612b8ca424f38baede82fdba62a08": {
      "model_module": "@jupyter-widgets/controls",
      "model_module_version": "1.1.0",
      "model_name": "DescriptionStyleModel",
      "state": {
       "description_width": ""
      }
     },
     "0c5d38b2439f4de1b6158b9ce2c2de5c": {
      "model_module": "@jupyter-widgets/controls",
      "model_module_version": "1.1.0",
      "model_name": "DescriptionStyleModel",
      "state": {
       "description_width": ""
      }
     },
     "0ce14b6fac51407f83c6f33e8133ce9d": {
      "model_module": "@jupyter-widgets/base",
      "model_module_version": "1.0.0",
      "model_name": "LayoutModel",
      "state": {}
     },
     "0d2323b67db544279e9b9cca4b235141": {
      "model_module": "@jupyter-widgets/controls",
      "model_module_version": "1.1.0",
      "model_name": "ToggleButtonsModel",
      "state": {
       "_options_labels": [
        "Al",
        "HDPE",
        "AlPE"
       ],
       "button_style": "",
       "description": "Upstream target material:",
       "icons": [],
       "index": 0,
       "layout": "IPY_MODEL_0f9a3a7ea3274908a4ba07dfeee17777",
       "style": "IPY_MODEL_c6a1b9433eb64e99a0423142484aa85c",
       "tooltips": [
        "Aluminum",
        "Polyethylene",
        "Combination of Al and HDPE"
       ]
      }
     },
     "0eefed4c26c24fdd9b4b7a338ffa2d06": {
      "model_module": "@jupyter-widgets/base",
      "model_module_version": "1.0.0",
      "model_name": "LayoutModel",
      "state": {}
     },
     "0f09a72e9f9f4937bd8a9ecae88876c4": {
      "model_module": "@jupyter-widgets/controls",
      "model_module_version": "1.1.0",
      "model_name": "DescriptionStyleModel",
      "state": {
       "description_width": ""
      }
     },
     "0f4bb8f40098437a8daeb753c0da2516": {
      "model_module": "@jupyter-widgets/controls",
      "model_module_version": "1.1.0",
      "model_name": "ToggleButtonsModel",
      "state": {
       "_options_labels": [
        "N",
        "NDC",
        "P (¹H)",
        "D (²H)",
        "T (³H)",
        "S (³He)",
        "A (⁴He)"
       ],
       "button_style": "",
       "description": "Type:",
       "icons": [],
       "index": 4,
       "layout": "IPY_MODEL_edf26b31a5c04ae5ac5eb9360ccd15ef",
       "style": "IPY_MODEL_13271da540d24704a926fec8f665e358",
       "tooltips": [
        "Neutron",
        "Neutron (deconvoluted)",
        "Proton",
        "Deuteron",
        "Triton",
        "Helium-3",
        "Helium-4"
       ]
      }
     },
     "0f76e3888d8341d28dd5fed39c244e0e": {
      "model_module": "@jupyter-widgets/base",
      "model_module_version": "1.0.0",
      "model_name": "LayoutModel",
      "state": {}
     },
     "0f9a3a7ea3274908a4ba07dfeee17777": {
      "model_module": "@jupyter-widgets/base",
      "model_module_version": "1.0.0",
      "model_name": "LayoutModel",
      "state": {}
     },
     "10ca3d80274042888db9704121729f77": {
      "model_module": "@jupyter-widgets/controls",
      "model_module_version": "1.1.0",
      "model_name": "LabelModel",
      "state": {
       "layout": "IPY_MODEL_ae22be5c28e94de696808e167388ef1f",
       "style": "IPY_MODEL_2e747fb81d244092853eacf0aec85b3a",
       "value": "Select projectile ion species."
      }
     },
     "10fad7c03c90440a974d7f485df8d67e": {
      "model_module": "@jupyter-widgets/controls",
      "model_module_version": "1.1.0",
      "model_name": "CheckboxModel",
      "state": {
       "description": "10°",
       "disabled": false,
       "layout": "IPY_MODEL_0a70fb9ba1734f81bf40a0d762dae042",
       "style": "IPY_MODEL_0a00a4e4a38943d1be4af74db92ec146",
       "value": true
      }
     },
     "120e79b40cc1437caea92ee8f745a440": {
      "model_module": "@jupyter-widgets/controls",
      "model_module_version": "1.1.0",
      "model_name": "ToggleButtonsStyleModel",
      "state": {
       "button_width": "",
       "description_width": ""
      }
     },
     "1211d6f9f9e04653a3a58fdd718ac1ef": {
      "model_module": "@jupyter-widgets/base",
      "model_module_version": "1.0.0",
      "model_name": "LayoutModel",
      "state": {}
     },
     "124b0a83e56f43c3afd1d745a3842523": {
      "model_module": "@jupyter-widgets/controls",
      "model_module_version": "1.1.0",
      "model_name": "CheckboxModel",
      "state": {
       "description": "7.2°",
       "disabled": false,
       "layout": "IPY_MODEL_9d4f6d8efe3e403b85e88c1a136d41e8",
       "style": "IPY_MODEL_0a991623230c4b9c9ef64ab68ea5d54d",
       "value": true
      }
     },
     "1266e2d15f2c4ed1a6ccfe7dfca2b24e": {
      "model_module": "@jupyter-widgets/controls",
      "model_module_version": "1.1.0",
      "model_name": "CheckboxModel",
      "state": {
       "description": "60°",
       "disabled": false,
       "layout": "IPY_MODEL_f198b3453e774f70bf273162d5d01d64",
       "style": "IPY_MODEL_dd3a3b31398e4a0e9aa1cddadb32dcea",
       "value": true
      }
     },
     "126934ddfa8e4192b3fd5ece72e96b59": {
      "model_module": "@jupyter-widgets/controls",
      "model_module_version": "1.1.0",
      "model_name": "CheckboxModel",
      "state": {
       "description": "30°",
       "disabled": false,
       "layout": "IPY_MODEL_a39a0b6219a04e33ac8128e88b31eec9",
       "style": "IPY_MODEL_aa2c1f5ef7a94d079d5ed5026d0aaa7c",
       "value": true
      }
     },
     "12d7b13808f14eada5e484820d7ef00e": {
      "model_module": "@jupyter-widgets/controls",
      "model_module_version": "1.1.0",
      "model_name": "CheckboxModel",
      "state": {
       "description": "45°",
       "disabled": false,
       "layout": "IPY_MODEL_1f0011445a274e36af5ba0d2d546cdf0",
       "style": "IPY_MODEL_0c5612b8ca424f38baede82fdba62a08",
       "value": true
      }
     },
     "13271da540d24704a926fec8f665e358": {
      "model_module": "@jupyter-widgets/controls",
      "model_module_version": "1.1.0",
      "model_name": "ToggleButtonsStyleModel",
      "state": {
       "button_width": "",
       "description_width": ""
      }
     },
     "1343ff4e746c4800991407de65ac09e2": {
      "model_module": "@jupyter-widgets/base",
      "model_module_version": "1.0.0",
      "model_name": "LayoutModel",
      "state": {}
     },
     "143c0b0a8ded453daf70a006d44b7880": {
      "model_module": "@jupyter-widgets/controls",
      "model_module_version": "1.1.0",
      "model_name": "DescriptionStyleModel",
      "state": {
       "description_width": ""
      }
     },
     "14656cbd39454997b90ef16224d21acc": {
      "model_module": "@jupyter-widgets/controls",
      "model_module_version": "1.1.0",
      "model_name": "LabelModel",
      "state": {
       "layout": "IPY_MODEL_5b62b7eeb86143959158e4085d77bb88",
       "style": "IPY_MODEL_de514ac198ee4f96a23947a300d166c6",
       "value": "Select upstream target material."
      }
     },
     "148bb584f6ef4e5e878a1b381fe79254": {
      "model_module": "@jupyter-widgets/controls",
      "model_module_version": "1.1.0",
      "model_name": "LabelModel",
      "state": {
       "layout": "IPY_MODEL_5c0314f0e2ae4326abd5d4ac63c8dc35",
       "style": "IPY_MODEL_370f4ee7c2e44db992d620b6a6ceb2dd",
       "value": "Select how data sets for each detector should be spaced apart (if at all)."
      }
     },
     "151abc60134044d5a94d1ed2cc538c10": {
      "model_module": "@jupyter-widgets/base",
      "model_module_version": "1.0.0",
      "model_name": "LayoutModel",
      "state": {}
     },
     "154fea893a0347a9b41097a0151ff2a7": {
      "model_module": "@jupyter-widgets/controls",
      "model_module_version": "1.1.0",
      "model_name": "LabelModel",
      "state": {
       "layout": "IPY_MODEL_494ed35864824a06877c2dfcc5d747f6",
       "style": "IPY_MODEL_e18a396c81f740bcb8fd470324b131d6",
       "value": "Select projectile ion energy."
      }
     },
     "15689425cbfc4a4c971397446beb65e8": {
      "model_module": "@jupyter-widgets/base",
      "model_module_version": "1.0.0",
      "model_name": "LayoutModel",
      "state": {}
     },
     "15a35212efc8475aaf0e98cf2b28246a": {
      "model_module": "@jupyter-widgets/controls",
      "model_module_version": "1.1.0",
      "model_name": "ToggleButtonsStyleModel",
      "state": {
       "button_width": "",
       "description_width": ""
      }
     },
     "15e42c4133524de2b2ea86582941de1f": {
      "model_module": "@jupyter-widgets/base",
      "model_module_version": "1.0.0",
      "model_name": "LayoutModel",
      "state": {}
     },
     "16315db0526c431084ebae78a9d1afad": {
      "model_module": "@jupyter-widgets/controls",
      "model_module_version": "1.1.0",
      "model_name": "DescriptionStyleModel",
      "state": {
       "description_width": ""
      }
     },
     "1825297813484bcdac34bff4130870cc": {
      "model_module": "@jupyter-widgets/controls",
      "model_module_version": "1.1.0",
      "model_name": "DescriptionStyleModel",
      "state": {
       "description_width": ""
      }
     },
     "1875e3dd5067473f88a51b8845b141ac": {
      "model_module": "@jupyter-widgets/controls",
      "model_module_version": "1.1.0",
      "model_name": "ToggleButtonsModel",
      "state": {
       "_options_labels": [
        "OLS",
        "NaI"
       ],
       "button_style": "",
       "description": "Type:",
       "icons": [],
       "index": 0,
       "layout": "IPY_MODEL_91a8c6d91411460a994e09b91adedd71",
       "style": "IPY_MODEL_bfd76b866fce44aa921ab72cc6d1c12f",
       "tooltips": [
        "Organic Liquid Scintillator",
        "Sodium Iodide"
       ]
      }
     },
     "188b644e780e4203a6132e97b46d6a85": {
      "model_module": "@jupyter-widgets/controls",
      "model_module_version": "1.1.0",
      "model_name": "CheckboxModel",
      "state": {
       "description": "45°",
       "disabled": false,
       "layout": "IPY_MODEL_7b67634f3b2e4352a0589661be000b81",
       "style": "IPY_MODEL_7c06d94c93634ca3ba27341ff8025071",
       "value": true
      }
     },
     "1895e3bc6f044bb8afff35cdcfbc7aab": {
      "model_module": "@jupyter-widgets/base",
      "model_module_version": "1.0.0",
      "model_name": "LayoutModel",
      "state": {}
     },
     "193853f9a1684ec88fc80445d79e0ba9": {
      "model_module": "@jupyter-widgets/base",
      "model_module_version": "1.0.0",
      "model_name": "LayoutModel",
      "state": {}
     },
     "19bd98574c554e07b4b537e9e84ecf7d": {
      "model_module": "@jupyter-widgets/controls",
      "model_module_version": "1.1.0",
      "model_name": "CheckboxModel",
      "state": {
       "description": "28.2°",
       "disabled": false,
       "layout": "IPY_MODEL_889762aa4e644d949a48ea2d57dac50e",
       "style": "IPY_MODEL_6223168c1f55461595981e5ec71396fd",
       "value": true
      }
     },
     "1bb7f2c06922441089584949384b0a0c": {
      "model_module": "@jupyter-widgets/base",
      "model_module_version": "1.0.0",
      "model_name": "LayoutModel",
      "state": {}
     },
     "1bc0fe1be6aa4c15aa1668a0dca5fca8": {
      "model_module": "@jupyter-widgets/base",
      "model_module_version": "1.0.0",
      "model_name": "LayoutModel",
      "state": {}
     },
     "1c30df6baca14be9b804620d10110d72": {
      "model_module": "@jupyter-widgets/base",
      "model_module_version": "1.0.0",
      "model_name": "LayoutModel",
      "state": {}
     },
     "1cb269111fbe40189e9390668bf98904": {
      "model_module": "@jupyter-widgets/controls",
      "model_module_version": "1.1.0",
      "model_name": "LabelModel",
      "state": {
       "layout": "IPY_MODEL_388644282a824885afb9277afeea4f70",
       "style": "IPY_MODEL_9f6c28c005314a9b83e039513ce02007",
       "value": "Select the detector angles to plot."
      }
     },
     "1ccf22597e434af5bab9dad773320ed1": {
      "model_module": "@jupyter-widgets/base",
      "model_module_version": "1.0.0",
      "model_name": "LayoutModel",
      "state": {}
     },
     "1d26bbdb345e4228a599082eb1877107": {
      "model_module": "@jupyter-widgets/base",
      "model_module_version": "1.0.0",
      "model_name": "LayoutModel",
      "state": {}
     },
     "1daced6103c9424ab2254a318ff9985a": {
      "model_module": "@jupyter-widgets/controls",
      "model_module_version": "1.1.0",
      "model_name": "CheckboxModel",
      "state": {
       "description": "30°",
       "disabled": false,
       "layout": "IPY_MODEL_9cd3e6c6e5e242f89758ccc80cb5a2e7",
       "style": "IPY_MODEL_a41aefaded0c42d8b1f36b278b07e298",
       "value": true
      }
     },
     "1ead81b4709043c994909a2b2b093b5f": {
      "model_module": "@jupyter-widgets/controls",
      "model_module_version": "1.1.0",
      "model_name": "ToggleButtonsStyleModel",
      "state": {
       "button_width": "",
       "description_width": ""
      }
     },
     "1ebf963a3f6c45cf90efcce937720a07": {
      "model_module": "@jupyter-widgets/controls",
      "model_module_version": "1.1.0",
      "model_name": "DescriptionStyleModel",
      "state": {
       "description_width": ""
      }
     },
     "1f0011445a274e36af5ba0d2d546cdf0": {
      "model_module": "@jupyter-widgets/base",
      "model_module_version": "1.0.0",
      "model_name": "LayoutModel",
      "state": {}
     },
     "1f772ee58afb4bd29003d5804c7a5fa8": {
      "model_module": "@jupyter-widgets/controls",
      "model_module_version": "1.1.0",
      "model_name": "ToggleButtonsStyleModel",
      "state": {
       "button_width": "",
       "description_width": ""
      }
     },
     "208ce91453bd48d9944ef67cb52ea58e": {
      "model_module": "@jupyter-widgets/controls",
      "model_module_version": "1.1.0",
      "model_name": "LabelModel",
      "state": {
       "layout": "IPY_MODEL_093c5b828de249c78fddec2d5a864ef9",
       "style": "IPY_MODEL_ead1f9378a724f3fac29c1cdad541101",
       "value": "Select the detector angles to plot."
      }
     },
     "2166ce61f48441109f67d654dd830c66": {
      "model_module": "@jupyter-widgets/base",
      "model_module_version": "1.0.0",
      "model_name": "LayoutModel",
      "state": {}
     },
     "21f5849d07b3473885fecce53d0e112c": {
      "model_module": "@jupyter-widgets/controls",
      "model_module_version": "1.1.0",
      "model_name": "DescriptionStyleModel",
      "state": {
       "description_width": ""
      }
     },
     "22f66ed53e8e423593a80dfdbe42d767": {
      "model_module": "@jupyter-widgets/controls",
      "model_module_version": "1.1.0",
      "model_name": "LabelModel",
      "state": {
       "layout": "IPY_MODEL_3072555a9e1f4fdba977666bb7ebfa77",
       "style": "IPY_MODEL_fff6cf548d564635b9b9146c8655a150",
       "value": "Select which secondary particle to plot spectra for."
      }
     },
     "234bc26d1bdc454db32ce045f42ba194": {
      "model_module": "@jupyter-widgets/base",
      "model_module_version": "1.0.0",
      "model_name": "LayoutModel",
      "state": {}
     },
     "239861f2318746d8bd9cb83702437d0e": {
      "model_module": "@jupyter-widgets/controls",
      "model_module_version": "1.1.0",
      "model_name": "DescriptionStyleModel",
      "state": {
       "description_width": ""
      }
     },
     "23c05b24f4314aa78519265ec6bd84df": {
      "model_module": "@jupyter-widgets/base",
      "model_module_version": "1.0.0",
      "model_name": "LayoutModel",
      "state": {}
     },
     "23fb7853f7e54cb294e395420afca9f4": {
      "model_module": "@jupyter-widgets/controls",
      "model_module_version": "1.1.0",
      "model_name": "ToggleButtonsStyleModel",
      "state": {
       "button_width": "",
       "description_width": ""
      }
     },
     "24ba17d9774d4073a4e994a25d40d51d": {
      "model_module": "@jupyter-widgets/controls",
      "model_module_version": "1.1.0",
      "model_name": "CheckboxModel",
      "state": {
       "description": "45°",
       "disabled": false,
       "layout": "IPY_MODEL_41c6123353a245d989a8bde1b0c20baa",
       "style": "IPY_MODEL_d0cf31ea782242468beb9758d21f489e",
       "value": true
      }
     },
     "25054629341f40a6af0ec20bd4256753": {
      "model_module": "@jupyter-widgets/controls",
      "model_module_version": "1.1.0",
      "model_name": "ToggleButtonsStyleModel",
      "state": {
       "button_width": "",
       "description_width": ""
      }
     },
     "25e876c3f90c4f3f8dfd969e5d91c1a4": {
      "model_module": "@jupyter-widgets/controls",
      "model_module_version": "1.1.0",
      "model_name": "DescriptionStyleModel",
      "state": {
       "description_width": ""
      }
     },
     "2600d26c307b4d64b61cddbb1c9c8bf9": {
      "model_module": "@jupyter-widgets/controls",
      "model_module_version": "1.1.0",
      "model_name": "ToggleButtonsStyleModel",
      "state": {
       "button_width": "",
       "description_width": ""
      }
     },
     "2696caeb870d4dfaaa013481d2df2f9b": {
      "model_module": "@jupyter-widgets/controls",
      "model_module_version": "1.1.0",
      "model_name": "DescriptionStyleModel",
      "state": {
       "description_width": ""
      }
     },
     "28327983a7144dda802785386bf344e5": {
      "model_module": "@jupyter-widgets/controls",
      "model_module_version": "1.1.0",
      "model_name": "DescriptionStyleModel",
      "state": {
       "description_width": ""
      }
     },
     "2858d126397546b8be1f6caa310f86de": {
      "model_module": "@jupyter-widgets/controls",
      "model_module_version": "1.1.0",
      "model_name": "LabelModel",
      "state": {
       "layout": "IPY_MODEL_0ce14b6fac51407f83c6f33e8133ce9d",
       "style": "IPY_MODEL_2bbc794ed60648fab66a3d5753df3d8d",
       "value": "Select which secondary particle to plot spectra for."
      }
     },
     "290f6517a4974413ac77c8839dbff117": {
      "model_module": "@jupyter-widgets/controls",
      "model_module_version": "1.1.0",
      "model_name": "LabelModel",
      "state": {
       "layout": "IPY_MODEL_30407ff8bcd242f292717ae55fc69e0f",
       "style": "IPY_MODEL_6efdb2340e02451a9552572577528872",
       "value": "Select the detector angles to plot."
      }
     },
     "295d5bb3ce65469a9acd54ef9b27d655": {
      "model_module": "@jupyter-widgets/base",
      "model_module_version": "1.0.0",
      "model_name": "LayoutModel",
      "state": {}
     },
     "29d3db93db314a9b95c0d4046ba54a75": {
      "model_module": "@jupyter-widgets/controls",
      "model_module_version": "1.1.0",
      "model_name": "LabelModel",
      "state": {
       "layout": "IPY_MODEL_a2c7c3cfda034156a7273cf99e275eaa",
       "style": "IPY_MODEL_b71cf0c8c619417dbee68c5f6ac1d3c4",
       "value": "Select which secondary particle to plot spectra for."
      }
     },
     "29f318090a064ca9b5eec01d4439e4e1": {
      "model_module": "@jupyter-widgets/controls",
      "model_module_version": "1.1.0",
      "model_name": "DescriptionStyleModel",
      "state": {
       "description_width": ""
      }
     },
     "2a0913dcf72e411ca80f20d125322405": {
      "model_module": "@jupyter-widgets/base",
      "model_module_version": "1.0.0",
      "model_name": "LayoutModel",
      "state": {}
     },
     "2a56e738a39c42b7ae89d38553519993": {
      "model_module": "@jupyter-widgets/controls",
      "model_module_version": "1.1.0",
      "model_name": "DescriptionStyleModel",
      "state": {
       "description_width": ""
      }
     },
     "2b77daaeab2946b6ae613f67e7e60193": {
      "model_module": "@jupyter-widgets/base",
      "model_module_version": "1.0.0",
      "model_name": "LayoutModel",
      "state": {}
     },
     "2bbc794ed60648fab66a3d5753df3d8d": {
      "model_module": "@jupyter-widgets/controls",
      "model_module_version": "1.1.0",
      "model_name": "DescriptionStyleModel",
      "state": {
       "description_width": ""
      }
     },
     "2bd1282aaefa4b4a9f8b526e7564db41": {
      "model_module": "@jupyter-widgets/base",
      "model_module_version": "1.0.0",
      "model_name": "LayoutModel",
      "state": {}
     },
     "2be8b6480e1545259a4a3740279c1431": {
      "model_module": "@jupyter-widgets/controls",
      "model_module_version": "1.1.0",
      "model_name": "ToggleButtonsModel",
      "state": {
       "_options_labels": [
        "OLS",
        "NaI"
       ],
       "button_style": "",
       "description": "Type:",
       "icons": [],
       "index": 1,
       "layout": "IPY_MODEL_1bc0fe1be6aa4c15aa1668a0dca5fca8",
       "style": "IPY_MODEL_7c5ed978785a429b9b206f69e356bafc",
       "tooltips": [
        "Organic Liquid Scintillator",
        "Sodium Iodide"
       ]
      }
     },
     "2c85b3e482da47e086ca2c80ce8a29bb": {
      "model_module": "@jupyter-widgets/base",
      "model_module_version": "1.0.0",
      "model_name": "LayoutModel",
      "state": {}
     },
     "2e747fb81d244092853eacf0aec85b3a": {
      "model_module": "@jupyter-widgets/controls",
      "model_module_version": "1.1.0",
      "model_name": "DescriptionStyleModel",
      "state": {
       "description_width": ""
      }
     },
     "2f5368399fa8407bae759281254513f9": {
      "model_module": "@jupyter-widgets/controls",
      "model_module_version": "1.1.0",
      "model_name": "DescriptionStyleModel",
      "state": {
       "description_width": ""
      }
     },
     "2f90a84a8e5c4438a30a321412b6b726": {
      "model_module": "@jupyter-widgets/controls",
      "model_module_version": "1.1.0",
      "model_name": "CheckboxModel",
      "state": {
       "description": "MCNP simulated",
       "disabled": false,
       "layout": "IPY_MODEL_e2afa7cfcc1a41298897da78530a081d",
       "style": "IPY_MODEL_c7742e8a78a045c891f17eec533ac65f",
       "value": true
      }
     },
     "3036287ca66040449e0295f0336a10af": {
      "model_module": "@jupyter-widgets/controls",
      "model_module_version": "1.1.0",
      "model_name": "LabelModel",
      "state": {
       "layout": "IPY_MODEL_62f47ee6e3cb4a56973a12d78275a05a",
       "style": "IPY_MODEL_c664c34b4b654a61976bd21113e6d4e2",
       "value": "Select projectile ion species."
      }
     },
     "30407ff8bcd242f292717ae55fc69e0f": {
      "model_module": "@jupyter-widgets/base",
      "model_module_version": "1.0.0",
      "model_name": "LayoutModel",
      "state": {}
     },
     "3063300bc4d141a08987333120dcb617": {
      "model_module": "@jupyter-widgets/controls",
      "model_module_version": "1.1.0",
      "model_name": "CheckboxModel",
      "state": {
       "description": "135°",
       "disabled": false,
       "layout": "IPY_MODEL_6f33bde3f7e847a7afdbce2b29b2dce2",
       "style": "IPY_MODEL_16315db0526c431084ebae78a9d1afad",
       "value": true
      }
     },
     "3072555a9e1f4fdba977666bb7ebfa77": {
      "model_module": "@jupyter-widgets/base",
      "model_module_version": "1.0.0",
      "model_name": "LayoutModel",
      "state": {}
     },
     "30eed5373ec5436fbf0a748621ee4f21": {
      "model_module": "@jupyter-widgets/controls",
      "model_module_version": "1.1.0",
      "model_name": "CheckboxModel",
      "state": {
       "description": "30°",
       "disabled": false,
       "layout": "IPY_MODEL_4a5c8be0fd00483fa1bdf40cefc5198e",
       "style": "IPY_MODEL_74d5f9b4ab8d4302a37bd20f9f9f0e08",
       "value": true
      }
     },
     "325639152adf4b15b3b1051041ae68eb": {
      "model_module": "@jupyter-widgets/base",
      "model_module_version": "1.0.0",
      "model_name": "LayoutModel",
      "state": {}
     },
     "340227b1db3b4b7e99a991a1fcad0316": {
      "model_module": "@jupyter-widgets/base",
      "model_module_version": "1.0.0",
      "model_name": "LayoutModel",
      "state": {}
     },
     "343114b504ce43fda824ef0816453850": {
      "model_module": "@jupyter-widgets/controls",
      "model_module_version": "1.1.0",
      "model_name": "DescriptionStyleModel",
      "state": {
       "description_width": ""
      }
     },
     "351ce5e01dad43c699861b74f5ad7e01": {
      "model_module": "@jupyter-widgets/base",
      "model_module_version": "1.0.0",
      "model_name": "LayoutModel",
      "state": {}
     },
     "35931f67715d4c6a9251af2ea03c446a": {
      "model_module": "@jupyter-widgets/controls",
      "model_module_version": "1.1.0",
      "model_name": "DescriptionStyleModel",
      "state": {
       "description_width": ""
      }
     },
     "370f4ee7c2e44db992d620b6a6ceb2dd": {
      "model_module": "@jupyter-widgets/controls",
      "model_module_version": "1.1.0",
      "model_name": "DescriptionStyleModel",
      "state": {
       "description_width": ""
      }
     },
     "37dbef5250e14c26b5ef5bd7f3fa56d6": {
      "model_module": "@jupyter-widgets/controls",
      "model_module_version": "1.1.0",
      "model_name": "ToggleButtonsModel",
      "state": {
       "_options_labels": [
        "OLS",
        "NaI"
       ],
       "button_style": "",
       "description": "Type:",
       "icons": [],
       "index": 0,
       "layout": "IPY_MODEL_a7271008a8924a56badb7451ba5fb3db",
       "style": "IPY_MODEL_f8c6878758504288a4ef98490a7bf179",
       "tooltips": [
        "Organic Liquid Scintillator",
        "Sodium Iodide"
       ]
      }
     },
     "3804a43a83904c60a62391076b5dbb2c": {
      "model_module": "@jupyter-widgets/base",
      "model_module_version": "1.0.0",
      "model_name": "LayoutModel",
      "state": {}
     },
     "387c26afccf64375a0a6f06243572aea": {
      "model_module": "@jupyter-widgets/controls",
      "model_module_version": "1.1.0",
      "model_name": "DescriptionStyleModel",
      "state": {
       "description_width": ""
      }
     },
     "388644282a824885afb9277afeea4f70": {
      "model_module": "@jupyter-widgets/base",
      "model_module_version": "1.0.0",
      "model_name": "LayoutModel",
      "state": {}
     },
     "38d579e3bb154fefb863b0dac675d366": {
      "model_module": "@jupyter-widgets/controls",
      "model_module_version": "1.1.0",
      "model_name": "CheckboxModel",
      "state": {
       "description": "30°",
       "disabled": false,
       "layout": "IPY_MODEL_52ad8bb78cee422c90dad374940fe913",
       "style": "IPY_MODEL_c011c67b02e846f88f4fa9afc9ba4323",
       "value": true
      }
     },
     "38e556317afc4ef3b3e660e02239fc61": {
      "model_module": "@jupyter-widgets/base",
      "model_module_version": "1.0.0",
      "model_name": "LayoutModel",
      "state": {}
     },
     "399c7aed982148b7812e34ed0bb543ff": {
      "model_module": "@jupyter-widgets/controls",
      "model_module_version": "1.1.0",
      "model_name": "ToggleButtonsModel",
      "state": {
       "_options_labels": [
        "OLS",
        "NaI"
       ],
       "button_style": "",
       "description": "Detectory type:",
       "icons": [],
       "index": 0,
       "layout": "IPY_MODEL_295d5bb3ce65469a9acd54ef9b27d655",
       "style": "IPY_MODEL_89a398c8217f431ea4a51d7fbe9f240e",
       "tooltips": [
        "Organic Liquid Scintillator",
        "Sodium Iodide"
       ]
      }
     },
     "39d8364dc2564b2ebd83bafec9c69e43": {
      "model_module": "@jupyter-widgets/controls",
      "model_module_version": "1.1.0",
      "model_name": "CheckboxModel",
      "state": {
       "description": "PHITS simulated",
       "disabled": false,
       "layout": "IPY_MODEL_f6f17ed301d94057a0bc97f27e6b7024",
       "style": "IPY_MODEL_465429e0249e4ed895c7a339c506965d",
       "value": true
      }
     },
     "3a19cc5c39f047ad823d1c15fd11c6ba": {
      "model_module": "@jupyter-widgets/controls",
      "model_module_version": "1.1.0",
      "model_name": "DescriptionStyleModel",
      "state": {
       "description_width": ""
      }
     },
     "3a28181ffb7c48c8a0db5f7b94a0b7b9": {
      "model_module": "@jupyter-widgets/base",
      "model_module_version": "1.0.0",
      "model_name": "LayoutModel",
      "state": {}
     },
     "3aabbbe295924549ad6199485064a91b": {
      "model_module": "@jupyter-widgets/controls",
      "model_module_version": "1.1.0",
      "model_name": "DescriptionStyleModel",
      "state": {
       "description_width": ""
      }
     },
     "3b19f73ad74f454db3d139044ffae906": {
      "model_module": "@jupyter-widgets/controls",
      "model_module_version": "1.1.0",
      "model_name": "CheckboxModel",
      "state": {
       "description": "7.2°",
       "disabled": false,
       "layout": "IPY_MODEL_a809e08561f34af1bf29fb92f9f1b6c2",
       "style": "IPY_MODEL_21f5849d07b3473885fecce53d0e112c",
       "value": true
      }
     },
     "3c1a1d7cb0484238a4722a24501e0519": {
      "model_module": "@jupyter-widgets/controls",
      "model_module_version": "1.1.0",
      "model_name": "ToggleButtonsModel",
      "state": {
       "_options_labels": [
        "H",
        "He",
        "C",
        "Si",
        "Fe"
       ],
       "button_style": "",
       "description": "Ion:",
       "icons": [],
       "index": 1,
       "layout": "IPY_MODEL_87129d9865714036ae427bf5d22d6393",
       "style": "IPY_MODEL_65e71b95a6c041509430f4fb06897811",
       "tooltips": [
        "Hydrogen",
        "Helium",
        "Carbon",
        "Silicon",
        "Iron"
       ]
      }
     },
     "3cb83558997740aeb1dbac5417186059": {
      "model_module": "@jupyter-widgets/controls",
      "model_module_version": "1.1.0",
      "model_name": "DescriptionStyleModel",
      "state": {
       "description_width": ""
      }
     },
     "3ea7154df9b74a139506c0f40dc800f4": {
      "model_module": "@jupyter-widgets/controls",
      "model_module_version": "1.1.0",
      "model_name": "LabelModel",
      "state": {
       "layout": "IPY_MODEL_d7eefa870f8c4d0e9c21967a295082e0",
       "style": "IPY_MODEL_995e5fbf85fb4011ade0b12ae8d72130",
       "value": "Select a detector type."
      }
     },
     "3f11f31719bb4615b8e63eafeabda928": {
      "model_module": "@jupyter-widgets/base",
      "model_module_version": "1.0.0",
      "model_name": "LayoutModel",
      "state": {}
     },
     "3f3603034f324ad993c0645e021adfa3": {
      "model_module": "@jupyter-widgets/base",
      "model_module_version": "1.0.0",
      "model_name": "LayoutModel",
      "state": {}
     },
     "3f593129ac0c4ef0a9f064af47474b22": {
      "model_module": "@jupyter-widgets/base",
      "model_module_version": "1.0.0",
      "model_name": "LayoutModel",
      "state": {}
     },
     "3fa0dbfe0fbf4acf816f9fe48781f1e6": {
      "model_module": "@jupyter-widgets/controls",
      "model_module_version": "1.1.0",
      "model_name": "DescriptionStyleModel",
      "state": {
       "description_width": ""
      }
     },
     "3fa362803ddd4c109c430794792cdfe2": {
      "model_module": "@jupyter-widgets/controls",
      "model_module_version": "1.1.0",
      "model_name": "ToggleButtonsModel",
      "state": {
       "_options_labels": [
        "OLS",
        "NaI"
       ],
       "button_style": "",
       "description": "Type:",
       "icons": [],
       "index": 0,
       "layout": "IPY_MODEL_046224b054b0448ea8e0ed8ad64c4b05",
       "style": "IPY_MODEL_caccc658e39e4d8eab1327632eccbe34",
       "tooltips": [
        "Organic Liquid Scintillator",
        "Sodium Iodide"
       ]
      }
     },
     "4088ba6d018e4e63a876d816450947aa": {
      "model_module": "@jupyter-widgets/controls",
      "model_module_version": "1.1.0",
      "model_name": "DescriptionStyleModel",
      "state": {
       "description_width": ""
      }
     },
     "40ddbb06e0014ae08ff988866adf07c1": {
      "model_module": "@jupyter-widgets/base",
      "model_module_version": "1.0.0",
      "model_name": "LayoutModel",
      "state": {}
     },
     "41c6123353a245d989a8bde1b0c20baa": {
      "model_module": "@jupyter-widgets/base",
      "model_module_version": "1.0.0",
      "model_name": "LayoutModel",
      "state": {}
     },
     "41e3926362f243e19a8320c94d209953": {
      "model_module": "@jupyter-widgets/base",
      "model_module_version": "1.0.0",
      "model_name": "LayoutModel",
      "state": {}
     },
     "45ced6062b084a298ed3dcf78ffa98a6": {
      "model_module": "@jupyter-widgets/controls",
      "model_module_version": "1.1.0",
      "model_name": "CheckboxModel",
      "state": {
       "description": "30°",
       "disabled": false,
       "layout": "IPY_MODEL_93c0c364b777479483d8dde8303cd5c9",
       "style": "IPY_MODEL_d489953aa27748ca809f2bfa6fcbdbf6",
       "value": true
      }
     },
     "4613f06e102346389509918e945271e4": {
      "model_module": "@jupyter-widgets/base",
      "model_module_version": "1.0.0",
      "model_name": "LayoutModel",
      "state": {}
     },
     "465429e0249e4ed895c7a339c506965d": {
      "model_module": "@jupyter-widgets/controls",
      "model_module_version": "1.1.0",
      "model_name": "DescriptionStyleModel",
      "state": {
       "description_width": ""
      }
     },
     "4693c63a28be4976a31169004a8d002b": {
      "model_module": "@jupyter-widgets/base",
      "model_module_version": "1.0.0",
      "model_name": "LayoutModel",
      "state": {}
     },
     "46e450b0cee34e4fa614f8ded0109b65": {
      "model_module": "@jupyter-widgets/controls",
      "model_module_version": "1.1.0",
      "model_name": "CheckboxModel",
      "state": {
       "description": "60°",
       "disabled": false,
       "layout": "IPY_MODEL_151abc60134044d5a94d1ed2cc538c10",
       "style": "IPY_MODEL_c13fad6c897e49fc95a5190bb1a14f16",
       "value": true
      }
     },
     "47b451d0705f4e5a99278ecb7a32fa14": {
      "model_module": "@jupyter-widgets/controls",
      "model_module_version": "1.1.0",
      "model_name": "DescriptionStyleModel",
      "state": {
       "description_width": ""
      }
     },
     "47ba5787fa4d46a29489a5bff9350ee7": {
      "model_module": "@jupyter-widgets/controls",
      "model_module_version": "1.1.0",
      "model_name": "CheckboxModel",
      "state": {
       "description": "30°",
       "disabled": false,
       "layout": "IPY_MODEL_9c713958352b42d49e7d241ff01017a5",
       "style": "IPY_MODEL_7286703e5c1347568193beac71fefb31",
       "value": true
      }
     },
     "49015ebd8031493a918323f27b6acefc": {
      "model_module": "@jupyter-widgets/controls",
      "model_module_version": "1.1.0",
      "model_name": "ToggleButtonsModel",
      "state": {
       "_options_labels": [
        "OLS",
        "NaI"
       ],
       "button_style": "",
       "description": "Type:",
       "icons": [],
       "index": 1,
       "layout": "IPY_MODEL_0eefed4c26c24fdd9b4b7a338ffa2d06",
       "style": "IPY_MODEL_e975e26b0362471590a595e5711b6a02",
       "tooltips": [
        "Organic Liquid Scintillator",
        "Sodium Iodide"
       ]
      }
     },
     "491c68a6d7dc4e31a54fc9b25206b9e1": {
      "model_module": "@jupyter-widgets/controls",
      "model_module_version": "1.1.0",
      "model_name": "CheckboxModel",
      "state": {
       "description": "30°",
       "disabled": false,
       "layout": "IPY_MODEL_a6d31dec6d624b0f98c06300248662ea",
       "style": "IPY_MODEL_f8a211f64f1f4f378bcaa6dd3f50b1db",
       "value": true
      }
     },
     "494ed35864824a06877c2dfcc5d747f6": {
      "model_module": "@jupyter-widgets/base",
      "model_module_version": "1.0.0",
      "model_name": "LayoutModel",
      "state": {}
     },
     "49d97c629783467eaf05427d54689f46": {
      "model_module": "@jupyter-widgets/controls",
      "model_module_version": "1.1.0",
      "model_name": "DescriptionStyleModel",
      "state": {
       "description_width": ""
      }
     },
     "4a4c72c0f9b94ba490d720133e36dbf4": {
      "model_module": "@jupyter-widgets/controls",
      "model_module_version": "1.1.0",
      "model_name": "CheckboxModel",
      "state": {
       "description": "12.7°",
       "disabled": false,
       "layout": "IPY_MODEL_d045ed28e7f443a492a3b0a8c145e6bd",
       "style": "IPY_MODEL_29f318090a064ca9b5eec01d4439e4e1",
       "value": true
      }
     },
     "4a5c8be0fd00483fa1bdf40cefc5198e": {
      "model_module": "@jupyter-widgets/base",
      "model_module_version": "1.0.0",
      "model_name": "LayoutModel",
      "state": {}
     },
     "4aa68107177a4fe48b628bb095f66180": {
      "model_module": "@jupyter-widgets/controls",
      "model_module_version": "1.1.0",
      "model_name": "DescriptionStyleModel",
      "state": {
       "description_width": ""
      }
     },
     "4b22a219bb39429aadfbe3662ab9344e": {
      "model_module": "@jupyter-widgets/controls",
      "model_module_version": "1.1.0",
      "model_name": "ToggleButtonsStyleModel",
      "state": {
       "button_width": "",
       "description_width": ""
      }
     },
     "4b60212ad09e40aa9508e02ca4d54fdc": {
      "model_module": "@jupyter-widgets/base",
      "model_module_version": "1.0.0",
      "model_name": "LayoutModel",
      "state": {}
     },
     "4b608a358fb24ba08d1a806019468afe": {
      "model_module": "@jupyter-widgets/controls",
      "model_module_version": "1.1.0",
      "model_name": "DescriptionStyleModel",
      "state": {
       "description_width": ""
      }
     },
     "4e376709764449dcb347924ebfde00e6": {
      "model_module": "@jupyter-widgets/controls",
      "model_module_version": "1.1.0",
      "model_name": "DescriptionStyleModel",
      "state": {
       "description_width": ""
      }
     },
     "4f1190b8cbda46f889e0baa7d9929de6": {
      "model_module": "@jupyter-widgets/controls",
      "model_module_version": "1.1.0",
      "model_name": "DescriptionStyleModel",
      "state": {
       "description_width": ""
      }
     },
     "4f7ecca2fa244146b4cb33d2ca6396d3": {
      "model_module": "@jupyter-widgets/controls",
      "model_module_version": "1.1.0",
      "model_name": "ToggleButtonsModel",
      "state": {
       "_options_labels": [
        "Al",
        "HDPE",
        "AlPE"
       ],
       "button_style": "",
       "description": "Material:",
       "icons": [],
       "index": 0,
       "layout": "IPY_MODEL_a17c6908c7eb480ea1cd7598a0c8cf81",
       "style": "IPY_MODEL_943d6b62d3784ae79ad92e1c89bec15d",
       "tooltips": [
        "Aluminum",
        "Polyethylene",
        "Combination of Al and HDPE"
       ]
      }
     },
     "4ffd4cfb70074db8ac07d1d8cf7325d6": {
      "model_module": "@jupyter-widgets/base",
      "model_module_version": "1.0.0",
      "model_name": "LayoutModel",
      "state": {}
     },
     "5014b7d0d7cd4fffb76abe2230de4cc7": {
      "model_module": "@jupyter-widgets/controls",
      "model_module_version": "1.1.0",
      "model_name": "CheckboxModel",
      "state": {
       "description": "60°",
       "disabled": false,
       "layout": "IPY_MODEL_99c2da3db1304b69bdb9ff3d14c51e3e",
       "style": "IPY_MODEL_e276e5c685494292b6190b0bad23e9f6",
       "value": true
      }
     },
     "507aa9e67bd74d07bc90b72a6b489cb3": {
      "model_module": "@jupyter-widgets/controls",
      "model_module_version": "1.1.0",
      "model_name": "CheckboxModel",
      "state": {
       "description": "Experiment",
       "disabled": false,
       "layout": "IPY_MODEL_dddc16ed883246f0815715672f5991bf",
       "style": "IPY_MODEL_2a56e738a39c42b7ae89d38553519993",
       "value": true
      }
     },
     "50ac177e718e4ad88a72239deb018207": {
      "model_module": "@jupyter-widgets/controls",
      "model_module_version": "1.1.0",
      "model_name": "CheckboxModel",
      "state": {
       "description": "10°",
       "disabled": false,
       "layout": "IPY_MODEL_5bce7c35e254453d81e41fcc938c00ac",
       "style": "IPY_MODEL_fc3c7d1c3a824bc4a7ab4ae7d3a76502",
       "value": true
      }
     },
     "50bf5b82fdcf40549f30bc8f10000f32": {
      "model_module": "@jupyter-widgets/base",
      "model_module_version": "1.0.0",
      "model_name": "LayoutModel",
      "state": {}
     },
     "511397ef520f48a1bd18a902ecf23138": {
      "model_module": "@jupyter-widgets/controls",
      "model_module_version": "1.1.0",
      "model_name": "LabelModel",
      "state": {
       "layout": "IPY_MODEL_d921a36675004b3d9263529f7b8473c8",
       "style": "IPY_MODEL_4b608a358fb24ba08d1a806019468afe",
       "value": "Select which secondary particle to plot spectra for."
      }
     },
     "517769533b984abe859dc81af6864c67": {
      "model_module": "@jupyter-widgets/controls",
      "model_module_version": "1.1.0",
      "model_name": "DescriptionStyleModel",
      "state": {
       "description_width": ""
      }
     },
     "51b6948d26ac4208adc465035d6b9140": {
      "model_module": "@jupyter-widgets/base",
      "model_module_version": "1.0.0",
      "model_name": "LayoutModel",
      "state": {}
     },
     "5245f077e25a410482d2210652e901bf": {
      "model_module": "@jupyter-widgets/base",
      "model_module_version": "1.0.0",
      "model_name": "LayoutModel",
      "state": {}
     },
     "52ad8bb78cee422c90dad374940fe913": {
      "model_module": "@jupyter-widgets/base",
      "model_module_version": "1.0.0",
      "model_name": "LayoutModel",
      "state": {}
     },
     "53cb2360d4f441c387b3d5e6a9f15d9b": {
      "model_module": "@jupyter-widgets/controls",
      "model_module_version": "1.1.0",
      "model_name": "CheckboxModel",
      "state": {
       "description": "Experiment",
       "disabled": false,
       "layout": "IPY_MODEL_2166ce61f48441109f67d654dd830c66",
       "style": "IPY_MODEL_765e107b085741a78596fb1663fbafdb",
       "value": true
      }
     },
     "548e6d09d18b4f059585b74202e21847": {
      "model_module": "@jupyter-widgets/controls",
      "model_module_version": "1.1.0",
      "model_name": "CheckboxModel",
      "state": {
       "description": "30°",
       "disabled": false,
       "layout": "IPY_MODEL_9de1a2aa769f47d29e37631d7962d1c9",
       "style": "IPY_MODEL_6c4eb150c9cf4b37b964232ca3b5107b",
       "value": true
      }
     },
     "54a5c06de8ce4adcbd71df8fd771b4c4": {
      "model_module": "@jupyter-widgets/controls",
      "model_module_version": "1.1.0",
      "model_name": "CheckboxModel",
      "state": {
       "description": "Experiment",
       "disabled": false,
       "layout": "IPY_MODEL_fe5af945dcef46c08027357980776cea",
       "style": "IPY_MODEL_af90e3c5f03a4a37aec96c93311885e7",
       "value": true
      }
     },
     "54a6008ce254488abca9239c5aee6363": {
      "model_module": "@jupyter-widgets/controls",
      "model_module_version": "1.1.0",
      "model_name": "DescriptionStyleModel",
      "state": {
       "description_width": ""
      }
     },
     "54bb34b4459744c28505bd086292de89": {
      "model_module": "@jupyter-widgets/controls",
      "model_module_version": "1.1.0",
      "model_name": "LabelModel",
      "state": {
       "layout": "IPY_MODEL_38e556317afc4ef3b3e660e02239fc61",
       "style": "IPY_MODEL_69cb1aa93beb4082943a60af9ea045db",
       "value": "Select which secondary particle to plot spectra for."
      }
     },
     "55a5703aec6e4ddf86fb580bdcbfe484": {
      "model_module": "@jupyter-widgets/controls",
      "model_module_version": "1.1.0",
      "model_name": "ToggleButtonsStyleModel",
      "state": {
       "button_width": "",
       "description_width": ""
      }
     },
     "56c41aa0c12e46e6981fa32b272843b1": {
      "model_module": "@jupyter-widgets/controls",
      "model_module_version": "1.1.0",
      "model_name": "LabelModel",
      "state": {
       "layout": "IPY_MODEL_bd7e163492cd48788cd5ed22903d5cb0",
       "style": "IPY_MODEL_8481447982d94de88852576479b803bf",
       "value": "Select upstream target mass thickness."
      }
     },
     "571570d1fdb24024b81f8c526ee80215": {
      "model_module": "@jupyter-widgets/base",
      "model_module_version": "1.0.0",
      "model_name": "LayoutModel",
      "state": {}
     },
     "579b23b91a274968b23c4c340dc437c9": {
      "model_module": "@jupyter-widgets/controls",
      "model_module_version": "1.1.0",
      "model_name": "LabelModel",
      "state": {
       "layout": "IPY_MODEL_0337ce54a5744c2592c741f8bf0da893",
       "style": "IPY_MODEL_aa55f5a5dd764cc8a6295cbe1e5903bd",
       "value": "Select the detector angles to plot."
      }
     },
     "591983d72d9a4707a025102bf48ee6a2": {
      "model_module": "@jupyter-widgets/base",
      "model_module_version": "1.0.0",
      "model_name": "LayoutModel",
      "state": {}
     },
     "593b60d7d69a4650828cd601b908e6b9": {
      "model_module": "@jupyter-widgets/controls",
      "model_module_version": "1.1.0",
      "model_name": "DescriptionStyleModel",
      "state": {
       "description_width": ""
      }
     },
     "596ea217ac164fedaf51f67142124c58": {
      "model_module": "@jupyter-widgets/base",
      "model_module_version": "1.0.0",
      "model_name": "LayoutModel",
      "state": {}
     },
     "59d88d47bdd14c89a862b29a2a531ba7": {
      "model_module": "@jupyter-widgets/controls",
      "model_module_version": "1.1.0",
      "model_name": "DescriptionStyleModel",
      "state": {
       "description_width": ""
      }
     },
     "5a1015870ae041e78d2db8b9d6e4d69b": {
      "model_module": "@jupyter-widgets/controls",
      "model_module_version": "1.1.0",
      "model_name": "DescriptionStyleModel",
      "state": {
       "description_width": ""
      }
     },
     "5af719f86866423986c2dfaf7aaf50e7": {
      "model_module": "@jupyter-widgets/controls",
      "model_module_version": "1.1.0",
      "model_name": "DescriptionStyleModel",
      "state": {
       "description_width": ""
      }
     },
     "5b62b7eeb86143959158e4085d77bb88": {
      "model_module": "@jupyter-widgets/base",
      "model_module_version": "1.0.0",
      "model_name": "LayoutModel",
      "state": {}
     },
     "5bce7c35e254453d81e41fcc938c00ac": {
      "model_module": "@jupyter-widgets/base",
      "model_module_version": "1.0.0",
      "model_name": "LayoutModel",
      "state": {}
     },
     "5c0314f0e2ae4326abd5d4ac63c8dc35": {
      "model_module": "@jupyter-widgets/base",
      "model_module_version": "1.0.0",
      "model_name": "LayoutModel",
      "state": {}
     },
     "5db4a76a5eaf4c35be662857f3463261": {
      "model_module": "@jupyter-widgets/controls",
      "model_module_version": "1.1.0",
      "model_name": "ToggleButtonsStyleModel",
      "state": {
       "button_width": "",
       "description_width": ""
      }
     },
     "5ddedfa45f4d484bbf9c56c2604ab531": {
      "model_module": "@jupyter-widgets/base",
      "model_module_version": "1.0.0",
      "model_name": "LayoutModel",
      "state": {}
     },
     "5ddfe0cd2fbd43968f57d4aeffbcbffc": {
      "model_module": "@jupyter-widgets/controls",
      "model_module_version": "1.1.0",
      "model_name": "LabelModel",
      "state": {
       "layout": "IPY_MODEL_6fa780b99cce4d4dbb5783b0de1bf822",
       "style": "IPY_MODEL_eefe43499ee44524b93df0bdab9d7141",
       "value": "Select a detector type."
      }
     },
     "5de24e98135c4d4e84d09043ba2038ef": {
      "model_module": "@jupyter-widgets/controls",
      "model_module_version": "1.1.0",
      "model_name": "DescriptionStyleModel",
      "state": {
       "description_width": ""
      }
     },
     "5e26460dacad4849ad851395b6f30865": {
      "model_module": "@jupyter-widgets/base",
      "model_module_version": "1.0.0",
      "model_name": "LayoutModel",
      "state": {}
     },
     "5e4cae0c677c4d1292f81af524b4844e": {
      "model_module": "@jupyter-widgets/controls",
      "model_module_version": "1.1.0",
      "model_name": "ToggleButtonsModel",
      "state": {
       "_options_labels": [
        "Al",
        "HDPE",
        "AlPE"
       ],
       "button_style": "",
       "description": "Material:",
       "icons": [],
       "index": 0,
       "layout": "IPY_MODEL_9087e4c8a51d43b89f7b2d48774e20ca",
       "style": "IPY_MODEL_25054629341f40a6af0ec20bd4256753",
       "tooltips": [
        "Aluminum",
        "Polyethylene",
        "Combination of Al and HDPE"
       ]
      }
     },
     "5e74ab53a2d343b3b07119aa26b13b7a": {
      "model_module": "@jupyter-widgets/controls",
      "model_module_version": "1.1.0",
      "model_name": "ToggleButtonsModel",
      "state": {
       "_options_labels": [
        "20 g/cm²",
        "60 g/cm²"
       ],
       "button_style": "",
       "description": "Thickness:",
       "icons": [],
       "index": 0,
       "layout": "IPY_MODEL_c294a3be598c47f8aa914edf0fe7cf51",
       "style": "IPY_MODEL_909cf672f04645239c0c033e57f32d23",
       "tooltips": [
        "20 g/cm²",
        "60 g/cm²"
       ]
      }
     },
     "5eeab73556e944f6a02fc3c6602ab6db": {
      "model_module": "@jupyter-widgets/controls",
      "model_module_version": "1.1.0",
      "model_name": "CheckboxModel",
      "state": {
       "description": "Experiment",
       "disabled": false,
       "layout": "IPY_MODEL_b696018911824f1c86ca2809ef37ad9b",
       "style": "IPY_MODEL_ad36910402d448bea2dfcd829d332606",
       "value": true
      }
     },
     "5f3a3cd484814c62a6b32cfe26e22d07": {
      "model_module": "@jupyter-widgets/controls",
      "model_module_version": "1.1.0",
      "model_name": "DescriptionStyleModel",
      "state": {
       "description_width": ""
      }
     },
     "5f9da68bc4a6436881daf25b2d7fbca9": {
      "model_module": "@jupyter-widgets/controls",
      "model_module_version": "1.1.0",
      "model_name": "CheckboxModel",
      "state": {
       "description": "12.7°",
       "disabled": false,
       "layout": "IPY_MODEL_5fccd6f8a2e0437eb337d964df7d8bf8",
       "style": "IPY_MODEL_eb3bc749b5bd437384de45b0ff78c72e",
       "value": true
      }
     },
     "5fccd6f8a2e0437eb337d964df7d8bf8": {
      "model_module": "@jupyter-widgets/base",
      "model_module_version": "1.0.0",
      "model_name": "LayoutModel",
      "state": {}
     },
     "5fd143974646441e9efb80cf682ca8a5": {
      "model_module": "@jupyter-widgets/controls",
      "model_module_version": "1.1.0",
      "model_name": "DescriptionStyleModel",
      "state": {
       "description_width": ""
      }
     },
     "5fef06c9b18146629b8db9e6d8647388": {
      "model_module": "@jupyter-widgets/controls",
      "model_module_version": "1.1.0",
      "model_name": "CheckboxModel",
      "state": {
       "description": "MCNP simulated",
       "disabled": false,
       "layout": "IPY_MODEL_ee9508ad87874fd7b8be8d0efe9d98ad",
       "style": "IPY_MODEL_91d7a13d93c940ee9ac51d72694f32fa",
       "value": true
      }
     },
     "603f8ff406b4486193714d0ccbb23ada": {
      "model_module": "@jupyter-widgets/controls",
      "model_module_version": "1.1.0",
      "model_name": "LabelModel",
      "state": {
       "layout": "IPY_MODEL_f4bcbe0acbd54ece9fa7bc6babb7c729",
       "style": "IPY_MODEL_3fa0dbfe0fbf4acf816f9fe48781f1e6",
       "value": "Select how data sets for each detector should be spaced apart (if at all)."
      }
     },
     "60f108fd0bbb440a9b33994693046154": {
      "model_module": "@jupyter-widgets/base",
      "model_module_version": "1.0.0",
      "model_name": "LayoutModel",
      "state": {}
     },
     "6223168c1f55461595981e5ec71396fd": {
      "model_module": "@jupyter-widgets/controls",
      "model_module_version": "1.1.0",
      "model_name": "DescriptionStyleModel",
      "state": {
       "description_width": ""
      }
     },
     "62f47ee6e3cb4a56973a12d78275a05a": {
      "model_module": "@jupyter-widgets/base",
      "model_module_version": "1.0.0",
      "model_name": "LayoutModel",
      "state": {}
     },
     "637ed75ddebd43dbb94e0c153d7585d5": {
      "model_module": "@jupyter-widgets/base",
      "model_module_version": "1.0.0",
      "model_name": "LayoutModel",
      "state": {}
     },
     "63928daf6d25409caff26b7ab36d100a": {
      "model_module": "@jupyter-widgets/controls",
      "model_module_version": "1.1.0",
      "model_name": "DescriptionStyleModel",
      "state": {
       "description_width": ""
      }
     },
     "63fe9245ac9b425e8a327547db9f4687": {
      "model_module": "@jupyter-widgets/controls",
      "model_module_version": "1.1.0",
      "model_name": "DescriptionStyleModel",
      "state": {
       "description_width": ""
      }
     },
     "64153a858c854c5487553455c4b6aa81": {
      "model_module": "@jupyter-widgets/controls",
      "model_module_version": "1.1.0",
      "model_name": "LabelModel",
      "state": {
       "layout": "IPY_MODEL_92067cbd444b473d85b3f7076739fd9c",
       "style": "IPY_MODEL_7e3ae6fd17d4407687fec65ec250680a",
       "value": "Select upstream target mass thickness."
      }
     },
     "650cb3c7e70a4b00a1783df8732a0810": {
      "model_module": "@jupyter-widgets/controls",
      "model_module_version": "1.1.0",
      "model_name": "ToggleButtonsStyleModel",
      "state": {
       "button_width": "",
       "description_width": ""
      }
     },
     "65e71b95a6c041509430f4fb06897811": {
      "model_module": "@jupyter-widgets/controls",
      "model_module_version": "1.1.0",
      "model_name": "ToggleButtonsStyleModel",
      "state": {
       "button_width": "",
       "description_width": ""
      }
     },
     "66d22769793246faba407f3ea4cf3da2": {
      "model_module": "@jupyter-widgets/controls",
      "model_module_version": "1.1.0",
      "model_name": "CheckboxModel",
      "state": {
       "description": "28.2°",
       "disabled": false,
       "layout": "IPY_MODEL_016af3617c1540cb8e02cb71fbe0670e",
       "style": "IPY_MODEL_4e376709764449dcb347924ebfde00e6",
       "value": true
      }
     },
     "6724eacf71144ea5a9f173472ac5361d": {
      "model_module": "@jupyter-widgets/controls",
      "model_module_version": "1.1.0",
      "model_name": "ToggleButtonsModel",
      "state": {
       "_options_labels": [
        "H",
        "He",
        "C",
        "Si",
        "Fe"
       ],
       "button_style": "",
       "description": "Projectile ion:",
       "icons": [],
       "index": 0,
       "layout": "IPY_MODEL_3f593129ac0c4ef0a9f064af47474b22",
       "style": "IPY_MODEL_fa9b0c391269426f8023ac94e5b71181",
       "tooltips": [
        "Hydrogen",
        "Helium",
        "Carbon",
        "Silicon",
        "Iron"
       ]
      }
     },
     "68536405184d4a60ae304a6d135c72e0": {
      "model_module": "@jupyter-widgets/controls",
      "model_module_version": "1.1.0",
      "model_name": "ToggleButtonsModel",
      "state": {
       "_options_labels": [
        "OLS",
        "NaI"
       ],
       "button_style": "",
       "description": "Type:",
       "icons": [],
       "index": 0,
       "layout": "IPY_MODEL_3f3603034f324ad993c0645e021adfa3",
       "style": "IPY_MODEL_a2cdfab85bf5429c9102f70b25547dac",
       "tooltips": [
        "Organic Liquid Scintillator",
        "Sodium Iodide"
       ]
      }
     },
     "6883ad24f900455e8b32a6daa8bef498": {
      "model_module": "@jupyter-widgets/controls",
      "model_module_version": "1.1.0",
      "model_name": "LabelModel",
      "state": {
       "layout": "IPY_MODEL_95f6017c88ec4e5fa9ec9304f81b5c97",
       "style": "IPY_MODEL_e858a2e6bfff44c9a787a49521f4d6a5",
       "value": "Select the detector angles to plot."
      }
     },
     "69cb1aa93beb4082943a60af9ea045db": {
      "model_module": "@jupyter-widgets/controls",
      "model_module_version": "1.1.0",
      "model_name": "DescriptionStyleModel",
      "state": {
       "description_width": ""
      }
     },
     "69d6fc1b35cd4fd4889f882511b76af2": {
      "model_module": "@jupyter-widgets/base",
      "model_module_version": "1.0.0",
      "model_name": "LayoutModel",
      "state": {}
     },
     "6c4eb150c9cf4b37b964232ca3b5107b": {
      "model_module": "@jupyter-widgets/controls",
      "model_module_version": "1.1.0",
      "model_name": "DescriptionStyleModel",
      "state": {
       "description_width": ""
      }
     },
     "6d3d9cc92a434c7a8a960f204f02c617": {
      "model_module": "@jupyter-widgets/controls",
      "model_module_version": "1.1.0",
      "model_name": "CheckboxModel",
      "state": {
       "description": "80°",
       "disabled": false,
       "layout": "IPY_MODEL_340227b1db3b4b7e99a991a1fcad0316",
       "style": "IPY_MODEL_3cb83558997740aeb1dbac5417186059",
       "value": true
      }
     },
     "6d9d797b2c9e4b87a9e458e95b7feada": {
      "model_module": "@jupyter-widgets/controls",
      "model_module_version": "1.1.0",
      "model_name": "CheckboxModel",
      "state": {
       "description": "80°",
       "disabled": false,
       "layout": "IPY_MODEL_d2bfdaf8796e4f56a2b6c2179e47f23d",
       "style": "IPY_MODEL_a63bb1524dbf4b9bbf3bdf8f5fe2f5d3",
       "value": true
      }
     },
     "6ec086756d0f429ba60e593c5186f95a": {
      "model_module": "@jupyter-widgets/controls",
      "model_module_version": "1.1.0",
      "model_name": "CheckboxModel",
      "state": {
       "description": "30°",
       "disabled": false,
       "layout": "IPY_MODEL_8b7e46866cea4c38a77d25c015daca50",
       "style": "IPY_MODEL_3aabbbe295924549ad6199485064a91b",
       "value": true
      }
     },
     "6ed641be538448b99d6974cecabf6f90": {
      "model_module": "@jupyter-widgets/base",
      "model_module_version": "1.0.0",
      "model_name": "LayoutModel",
      "state": {}
     },
     "6efdb2340e02451a9552572577528872": {
      "model_module": "@jupyter-widgets/controls",
      "model_module_version": "1.1.0",
      "model_name": "DescriptionStyleModel",
      "state": {
       "description_width": ""
      }
     },
     "6f1323d47deb4b9686d9df89c7d7ac6f": {
      "model_module": "@jupyter-widgets/controls",
      "model_module_version": "1.1.0",
      "model_name": "LabelModel",
      "state": {
       "layout": "IPY_MODEL_1211d6f9f9e04653a3a58fdd718ac1ef",
       "style": "IPY_MODEL_c1389914301242d88e0eb8c9f2d979db",
       "value": "Select upstream target mass thickness."
      }
     },
     "6f33bde3f7e847a7afdbce2b29b2dce2": {
      "model_module": "@jupyter-widgets/base",
      "model_module_version": "1.0.0",
      "model_name": "LayoutModel",
      "state": {}
     },
     "6fa780b99cce4d4dbb5783b0de1bf822": {
      "model_module": "@jupyter-widgets/base",
      "model_module_version": "1.0.0",
      "model_name": "LayoutModel",
      "state": {}
     },
     "70e3e49badd545ee81554cf95865dfb5": {
      "model_module": "@jupyter-widgets/controls",
      "model_module_version": "1.1.0",
      "model_name": "DescriptionStyleModel",
      "state": {
       "description_width": ""
      }
     },
     "723b720721b24c5a8434a7ef826a2854": {
      "model_module": "@jupyter-widgets/controls",
      "model_module_version": "1.1.0",
      "model_name": "ToggleButtonsModel",
      "state": {
       "_options_labels": [
        "None",
        "Spaced by 10²"
       ],
       "button_style": "",
       "description": "Extra spectra spacing:",
       "icons": [],
       "index": 0,
       "layout": "IPY_MODEL_6ed641be538448b99d6974cecabf6f90",
       "style": "IPY_MODEL_1f772ee58afb4bd29003d5804c7a5fa8",
       "tooltips": [
        "All values are presented as is.",
        "Plots for different detectors are multiplied by powers of 10² for easier viewing."
       ]
      }
     },
     "7286703e5c1347568193beac71fefb31": {
      "model_module": "@jupyter-widgets/controls",
      "model_module_version": "1.1.0",
      "model_name": "DescriptionStyleModel",
      "state": {
       "description_width": ""
      }
     },
     "72b2eebf41ac4c2db75c3a52ac89f3c9": {
      "model_module": "@jupyter-widgets/controls",
      "model_module_version": "1.1.0",
      "model_name": "DescriptionStyleModel",
      "state": {
       "description_width": ""
      }
     },
     "74c570f03064412d9cf963cde7af81de": {
      "model_module": "@jupyter-widgets/base",
      "model_module_version": "1.0.0",
      "model_name": "LayoutModel",
      "state": {}
     },
     "74d5f9b4ab8d4302a37bd20f9f9f0e08": {
      "model_module": "@jupyter-widgets/controls",
      "model_module_version": "1.1.0",
      "model_name": "DescriptionStyleModel",
      "state": {
       "description_width": ""
      }
     },
     "765e107b085741a78596fb1663fbafdb": {
      "model_module": "@jupyter-widgets/controls",
      "model_module_version": "1.1.0",
      "model_name": "DescriptionStyleModel",
      "state": {
       "description_width": ""
      }
     },
     "7751e08282f645879d45fa1ef176160c": {
      "model_module": "@jupyter-widgets/base",
      "model_module_version": "1.0.0",
      "model_name": "LayoutModel",
      "state": {}
     },
     "782db87c193d436fa1ecbad3207aeda2": {
      "model_module": "@jupyter-widgets/controls",
      "model_module_version": "1.1.0",
      "model_name": "DescriptionStyleModel",
      "state": {
       "description_width": ""
      }
     },
     "78b356ec0e924239a93e39437f8718b1": {
      "model_module": "@jupyter-widgets/controls",
      "model_module_version": "1.1.0",
      "model_name": "DescriptionStyleModel",
      "state": {
       "description_width": ""
      }
     },
     "7b1bc3e9163a46f486adaca5822da113": {
      "model_module": "@jupyter-widgets/controls",
      "model_module_version": "1.1.0",
      "model_name": "CheckboxModel",
      "state": {
       "description": "45°",
       "disabled": false,
       "layout": "IPY_MODEL_2c85b3e482da47e086ca2c80ce8a29bb",
       "style": "IPY_MODEL_387c26afccf64375a0a6f06243572aea",
       "value": true
      }
     },
     "7b67634f3b2e4352a0589661be000b81": {
      "model_module": "@jupyter-widgets/base",
      "model_module_version": "1.0.0",
      "model_name": "LayoutModel",
      "state": {}
     },
     "7b9d7b7cf9c04c9a82cd16d7e2bb05b0": {
      "model_module": "@jupyter-widgets/base",
      "model_module_version": "1.0.0",
      "model_name": "LayoutModel",
      "state": {}
     },
     "7c06d94c93634ca3ba27341ff8025071": {
      "model_module": "@jupyter-widgets/controls",
      "model_module_version": "1.1.0",
      "model_name": "DescriptionStyleModel",
      "state": {
       "description_width": ""
      }
     },
     "7c5ed978785a429b9b206f69e356bafc": {
      "model_module": "@jupyter-widgets/controls",
      "model_module_version": "1.1.0",
      "model_name": "ToggleButtonsStyleModel",
      "state": {
       "button_width": "",
       "description_width": ""
      }
     },
     "7c70579abf784376b1a554b329e8f7fa": {
      "model_module": "@jupyter-widgets/controls",
      "model_module_version": "1.1.0",
      "model_name": "ToggleButtonsModel",
      "state": {
       "_options_labels": [
        "N",
        "NDC",
        "P (¹H)",
        "D (²H)",
        "T (³H)",
        "S (³He)",
        "A (⁴He)"
       ],
       "button_style": "",
       "description": "Type:",
       "icons": [],
       "index": 0,
       "layout": "IPY_MODEL_a9dc937c56c4411caf59d9830da98a11",
       "style": "IPY_MODEL_7e0c4c4bc7b84a30acea838ccc642b24",
       "tooltips": [
        "Neutron",
        "Neutron (deconvoluted)",
        "Proton",
        "Deuteron",
        "Triton",
        "Helium-3",
        "Helium-4"
       ]
      }
     },
     "7d2256d3eb4345e9aeaf404c39e8ce44": {
      "model_module": "@jupyter-widgets/base",
      "model_module_version": "1.0.0",
      "model_name": "LayoutModel",
      "state": {}
     },
     "7e0c4c4bc7b84a30acea838ccc642b24": {
      "model_module": "@jupyter-widgets/controls",
      "model_module_version": "1.1.0",
      "model_name": "ToggleButtonsStyleModel",
      "state": {
       "button_width": "",
       "description_width": ""
      }
     },
     "7e3ae6fd17d4407687fec65ec250680a": {
      "model_module": "@jupyter-widgets/controls",
      "model_module_version": "1.1.0",
      "model_name": "DescriptionStyleModel",
      "state": {
       "description_width": ""
      }
     },
     "7f1320fdde3a4eb58bb722ad2e189b3c": {
      "model_module": "@jupyter-widgets/controls",
      "model_module_version": "1.1.0",
      "model_name": "DescriptionStyleModel",
      "state": {
       "description_width": ""
      }
     },
     "8075994223b34609a39d25c6f20d044e": {
      "model_module": "@jupyter-widgets/controls",
      "model_module_version": "1.1.0",
      "model_name": "CheckboxModel",
      "state": {
       "description": "10°",
       "disabled": false,
       "layout": "IPY_MODEL_c4f62b72adc1452e8968212e837e738e",
       "style": "IPY_MODEL_a98d4fcb2b8848f49b8fe75c7e6d9315",
       "value": true
      }
     },
     "80c974a6982d4c27bab83c49568cae82": {
      "model_module": "@jupyter-widgets/base",
      "model_module_version": "1.0.0",
      "model_name": "LayoutModel",
      "state": {}
     },
     "81e2e55fa6dd422b914850ac73a26643": {
      "model_module": "@jupyter-widgets/controls",
      "model_module_version": "1.1.0",
      "model_name": "CheckboxModel",
      "state": {
       "description": "45°",
       "disabled": false,
       "layout": "IPY_MODEL_cfa5fbf828834cb7b861c2382ce6a0a5",
       "style": "IPY_MODEL_782db87c193d436fa1ecbad3207aeda2",
       "value": true
      }
     },
     "829f31e9b0c8410493c37e562657e989": {
      "model_module": "@jupyter-widgets/base",
      "model_module_version": "1.0.0",
      "model_name": "LayoutModel",
      "state": {}
     },
     "831f0e2103974ca39855e891d8bf9214": {
      "model_module": "@jupyter-widgets/controls",
      "model_module_version": "1.1.0",
      "model_name": "DescriptionStyleModel",
      "state": {
       "description_width": ""
      }
     },
     "832f07517fa54c4890183cf7f1373e1c": {
      "model_module": "@jupyter-widgets/base",
      "model_module_version": "1.0.0",
      "model_name": "LayoutModel",
      "state": {}
     },
     "834dbdd244e6451687709413ee684e3d": {
      "model_module": "@jupyter-widgets/base",
      "model_module_version": "1.0.0",
      "model_name": "LayoutModel",
      "state": {}
     },
     "83a3795ebf384c3b924e161522508d10": {
      "model_module": "@jupyter-widgets/base",
      "model_module_version": "1.0.0",
      "model_name": "LayoutModel",
      "state": {}
     },
     "8481447982d94de88852576479b803bf": {
      "model_module": "@jupyter-widgets/controls",
      "model_module_version": "1.1.0",
      "model_name": "DescriptionStyleModel",
      "state": {
       "description_width": ""
      }
     },
     "8619e2f92fc84b56bf2befcf9a623a64": {
      "model_module": "@jupyter-widgets/controls",
      "model_module_version": "1.1.0",
      "model_name": "ToggleButtonsModel",
      "state": {
       "_options_labels": [
        "H",
        "He",
        "C",
        "Si",
        "Fe"
       ],
       "button_style": "",
       "description": "Projectile ion:",
       "icons": [],
       "index": 0,
       "layout": "IPY_MODEL_1d26bbdb345e4228a599082eb1877107",
       "style": "IPY_MODEL_5db4a76a5eaf4c35be662857f3463261",
       "tooltips": [
        "Hydrogen",
        "Helium",
        "Carbon",
        "Silicon",
        "Iron"
       ]
      }
     },
     "8658947a8ee0460091989d36cf0c0b43": {
      "model_module": "@jupyter-widgets/controls",
      "model_module_version": "1.1.0",
      "model_name": "DescriptionStyleModel",
      "state": {
       "description_width": ""
      }
     },
     "87129d9865714036ae427bf5d22d6393": {
      "model_module": "@jupyter-widgets/base",
      "model_module_version": "1.0.0",
      "model_name": "LayoutModel",
      "state": {}
     },
     "889762aa4e644d949a48ea2d57dac50e": {
      "model_module": "@jupyter-widgets/base",
      "model_module_version": "1.0.0",
      "model_name": "LayoutModel",
      "state": {}
     },
     "88e010f0de57407a93a089228c7f5554": {
      "model_module": "@jupyter-widgets/controls",
      "model_module_version": "1.1.0",
      "model_name": "ToggleButtonsModel",
      "state": {
       "_options_labels": [
        "None",
        "Spaced by 10²"
       ],
       "button_style": "",
       "description": "Spacing:",
       "icons": [],
       "index": 0,
       "layout": "IPY_MODEL_e791ef4198404877b20852aa1f1999dd",
       "style": "IPY_MODEL_650cb3c7e70a4b00a1783df8732a0810",
       "tooltips": [
        "All values are presented as is.",
        "Plots for different detectors are multiplied by powers of 10² for easier viewing."
       ]
      }
     },
     "89059b10c6a14f46805eb8fe0deb3ddc": {
      "model_module": "@jupyter-widgets/controls",
      "model_module_version": "1.1.0",
      "model_name": "DescriptionStyleModel",
      "state": {
       "description_width": ""
      }
     },
     "89a398c8217f431ea4a51d7fbe9f240e": {
      "model_module": "@jupyter-widgets/controls",
      "model_module_version": "1.1.0",
      "model_name": "ToggleButtonsStyleModel",
      "state": {
       "button_width": "",
       "description_width": ""
      }
     },
     "89cf2fbe8d64429093636459b336560c": {
      "model_module": "@jupyter-widgets/base",
      "model_module_version": "1.0.0",
      "model_name": "LayoutModel",
      "state": {}
     },
     "8b103e180fa240dcbbf2cf875917e3e5": {
      "model_module": "@jupyter-widgets/controls",
      "model_module_version": "1.1.0",
      "model_name": "DescriptionStyleModel",
      "state": {
       "description_width": ""
      }
     },
     "8b7e46866cea4c38a77d25c015daca50": {
      "model_module": "@jupyter-widgets/base",
      "model_module_version": "1.0.0",
      "model_name": "LayoutModel",
      "state": {}
     },
     "8d13dbb28bb64adbb64c88da5363cfb1": {
      "model_module": "@jupyter-widgets/controls",
      "model_module_version": "1.1.0",
      "model_name": "LabelModel",
      "state": {
       "layout": "IPY_MODEL_ef12815c062c4b8abf7c166758a426b0",
       "style": "IPY_MODEL_9f3e98c443e24294963f92cb15216426",
       "value": "Select a detector type."
      }
     },
     "8edf04c32e7e45bf8d019403cd1fbd3e": {
      "model_module": "@jupyter-widgets/base",
      "model_module_version": "1.0.0",
      "model_name": "LayoutModel",
      "state": {}
     },
     "8ee2d601aedd46efac0ad7e07770d5af": {
      "model_module": "@jupyter-widgets/controls",
      "model_module_version": "1.1.0",
      "model_name": "CheckboxModel",
      "state": {
       "description": "10°",
       "disabled": false,
       "layout": "IPY_MODEL_0758ae860a9c4504adc31a0935c7f733",
       "style": "IPY_MODEL_fe09287dcce44265aedb2fbe5024622d",
       "value": true
      }
     },
     "904b2190653a462db698f9ee5d0e4b14": {
      "model_module": "@jupyter-widgets/controls",
      "model_module_version": "1.1.0",
      "model_name": "LabelModel",
      "state": {
       "layout": "IPY_MODEL_eb182ea4bdca40d1807c6f191db4fefa",
       "style": "IPY_MODEL_4aa68107177a4fe48b628bb095f66180",
       "value": "Select which secondary particle to plot spectra for."
      }
     },
     "904eb487b2aa4e4d9684c47cc7d7daa6": {
      "model_module": "@jupyter-widgets/controls",
      "model_module_version": "1.1.0",
      "model_name": "CheckboxModel",
      "state": {
       "description": "45°",
       "disabled": false,
       "layout": "IPY_MODEL_4b60212ad09e40aa9508e02ca4d54fdc",
       "style": "IPY_MODEL_5f3a3cd484814c62a6b32cfe26e22d07",
       "value": true
      }
     },
     "9078c4bcddb24a0c80ee96dce02c78cc": {
      "model_module": "@jupyter-widgets/base",
      "model_module_version": "1.0.0",
      "model_name": "LayoutModel",
      "state": {}
     },
     "9087e4c8a51d43b89f7b2d48774e20ca": {
      "model_module": "@jupyter-widgets/base",
      "model_module_version": "1.0.0",
      "model_name": "LayoutModel",
      "state": {}
     },
     "909cf672f04645239c0c033e57f32d23": {
      "model_module": "@jupyter-widgets/controls",
      "model_module_version": "1.1.0",
      "model_name": "ToggleButtonsStyleModel",
      "state": {
       "button_width": "",
       "description_width": ""
      }
     },
     "90e4cb21488d410886e5f278df600e84": {
      "model_module": "@jupyter-widgets/controls",
      "model_module_version": "1.1.0",
      "model_name": "ToggleButtonsStyleModel",
      "state": {
       "button_width": "",
       "description_width": ""
      }
     },
     "9179ac75c4824b0881dc3523718301e3": {
      "model_module": "@jupyter-widgets/controls",
      "model_module_version": "1.1.0",
      "model_name": "LabelModel",
      "state": {
       "layout": "IPY_MODEL_3f11f31719bb4615b8e63eafeabda928",
       "style": "IPY_MODEL_e4375cfc8ff54701b364e8158c74eebf",
       "value": "Select which sets of data to display."
      }
     },
     "91a8c6d91411460a994e09b91adedd71": {
      "model_module": "@jupyter-widgets/base",
      "model_module_version": "1.0.0",
      "model_name": "LayoutModel",
      "state": {}
     },
     "91d7a13d93c940ee9ac51d72694f32fa": {
      "model_module": "@jupyter-widgets/controls",
      "model_module_version": "1.1.0",
      "model_name": "DescriptionStyleModel",
      "state": {
       "description_width": ""
      }
     },
     "92067cbd444b473d85b3f7076739fd9c": {
      "model_module": "@jupyter-widgets/base",
      "model_module_version": "1.0.0",
      "model_name": "LayoutModel",
      "state": {}
     },
     "932eaf835f994e5d948a089f2d35674d": {
      "model_module": "@jupyter-widgets/controls",
      "model_module_version": "1.1.0",
      "model_name": "LabelModel",
      "state": {
       "layout": "IPY_MODEL_7d2256d3eb4345e9aeaf404c39e8ce44",
       "style": "IPY_MODEL_e02a6cabb30a4011baa7c08d86cd7266",
       "value": "Select projectile ion species."
      }
     },
     "9393d654bc5842bc8bb61310d8ae3c22": {
      "model_module": "@jupyter-widgets/base",
      "model_module_version": "1.0.0",
      "model_name": "LayoutModel",
      "state": {}
     },
     "93c0c364b777479483d8dde8303cd5c9": {
      "model_module": "@jupyter-widgets/base",
      "model_module_version": "1.0.0",
      "model_name": "LayoutModel",
      "state": {}
     },
     "943d6b62d3784ae79ad92e1c89bec15d": {
      "model_module": "@jupyter-widgets/controls",
      "model_module_version": "1.1.0",
      "model_name": "ToggleButtonsStyleModel",
      "state": {
       "button_width": "",
       "description_width": ""
      }
     },
     "94c73072c0264f19bd9cf1d113837836": {
      "model_module": "@jupyter-widgets/controls",
      "model_module_version": "1.1.0",
      "model_name": "CheckboxModel",
      "state": {
       "description": "80°",
       "disabled": false,
       "layout": "IPY_MODEL_03dcf3cd83ed429284cfc87240c360b6",
       "style": "IPY_MODEL_aef05aca02d349d3812d463aa0f14160",
       "value": true
      }
     },
     "94ec80295ac74b229dd0a7533a8c5bcd": {
      "model_module": "@jupyter-widgets/controls",
      "model_module_version": "1.1.0",
      "model_name": "DescriptionStyleModel",
      "state": {
       "description_width": ""
      }
     },
     "95f6017c88ec4e5fa9ec9304f81b5c97": {
      "model_module": "@jupyter-widgets/base",
      "model_module_version": "1.0.0",
      "model_name": "LayoutModel",
      "state": {}
     },
     "962bbe88146244f392152c1670e57a12": {
      "model_module": "@jupyter-widgets/controls",
      "model_module_version": "1.1.0",
      "model_name": "LabelModel",
      "state": {
       "layout": "IPY_MODEL_50bf5b82fdcf40549f30bc8f10000f32",
       "style": "IPY_MODEL_239861f2318746d8bd9cb83702437d0e",
       "value": "Select projectile ion species."
      }
     },
     "988a393cd5994582bb58756c59a2cec4": {
      "model_module": "@jupyter-widgets/base",
      "model_module_version": "1.0.0",
      "model_name": "LayoutModel",
      "state": {}
     },
     "995e5fbf85fb4011ade0b12ae8d72130": {
      "model_module": "@jupyter-widgets/controls",
      "model_module_version": "1.1.0",
      "model_name": "DescriptionStyleModel",
      "state": {
       "description_width": ""
      }
     },
     "99bd68cb67c647a19d309a72f54f1d43": {
      "model_module": "@jupyter-widgets/base",
      "model_module_version": "1.0.0",
      "model_name": "LayoutModel",
      "state": {}
     },
     "99c2da3db1304b69bdb9ff3d14c51e3e": {
      "model_module": "@jupyter-widgets/base",
      "model_module_version": "1.0.0",
      "model_name": "LayoutModel",
      "state": {}
     },
     "9a89e80c78b2450b85b47d51a615f9af": {
      "model_module": "@jupyter-widgets/controls",
      "model_module_version": "1.1.0",
      "model_name": "LabelModel",
      "state": {
       "layout": "IPY_MODEL_351ce5e01dad43c699861b74f5ad7e01",
       "style": "IPY_MODEL_befdd3e1c2ea49caa630c9a4812ac374",
       "value": "Select how data sets for each detector should be spaced apart (if at all)."
      }
     },
     "9b7f563911a44030b0c98b1e2b72fb10": {
      "model_module": "@jupyter-widgets/controls",
      "model_module_version": "1.1.0",
      "model_name": "LabelModel",
      "state": {
       "layout": "IPY_MODEL_e38bb0cddc9d419990656dfcee6803a8",
       "style": "IPY_MODEL_f13b3349550249a7a8a8925ed41d5a03",
       "value": "Select a detector type."
      }
     },
     "9bbc77fdd4154a78b93848e63b9411c7": {
      "model_module": "@jupyter-widgets/controls",
      "model_module_version": "1.1.0",
      "model_name": "DescriptionStyleModel",
      "state": {
       "description_width": ""
      }
     },
     "9c713958352b42d49e7d241ff01017a5": {
      "model_module": "@jupyter-widgets/base",
      "model_module_version": "1.0.0",
      "model_name": "LayoutModel",
      "state": {}
     },
     "9ca2baab08d14cfbbc0b308d87b7cf99": {
      "model_module": "@jupyter-widgets/controls",
      "model_module_version": "1.1.0",
      "model_name": "ToggleButtonsStyleModel",
      "state": {
       "button_width": "",
       "description_width": ""
      }
     },
     "9cb56a4403474b9f9d4b8590a8b207c0": {
      "model_module": "@jupyter-widgets/controls",
      "model_module_version": "1.1.0",
      "model_name": "DescriptionStyleModel",
      "state": {
       "description_width": ""
      }
     },
     "9cd3e6c6e5e242f89758ccc80cb5a2e7": {
      "model_module": "@jupyter-widgets/base",
      "model_module_version": "1.0.0",
      "model_name": "LayoutModel",
      "state": {}
     },
     "9d4f6d8efe3e403b85e88c1a136d41e8": {
      "model_module": "@jupyter-widgets/base",
      "model_module_version": "1.0.0",
      "model_name": "LayoutModel",
      "state": {}
     },
     "9de1a2aa769f47d29e37631d7962d1c9": {
      "model_module": "@jupyter-widgets/base",
      "model_module_version": "1.0.0",
      "model_name": "LayoutModel",
      "state": {}
     },
     "9e124599713245f492fe46f1ea8d03f2": {
      "model_module": "@jupyter-widgets/controls",
      "model_module_version": "1.1.0",
      "model_name": "DescriptionStyleModel",
      "state": {
       "description_width": ""
      }
     },
     "9e46b393d2354c6ab0055faf999d3900": {
      "model_module": "@jupyter-widgets/controls",
      "model_module_version": "1.1.0",
      "model_name": "LabelModel",
      "state": {
       "layout": "IPY_MODEL_2bd1282aaefa4b4a9f8b526e7564db41",
       "style": "IPY_MODEL_49d97c629783467eaf05427d54689f46",
       "value": "Select a detector type."
      }
     },
     "9e59dc885fa6447cbd7dd77fe6517959": {
      "model_module": "@jupyter-widgets/controls",
      "model_module_version": "1.1.0",
      "model_name": "CheckboxModel",
      "state": {
       "description": "12.7°",
       "disabled": false,
       "layout": "IPY_MODEL_c703ec114cbc40e39240096c9f44dd1e",
       "style": "IPY_MODEL_ab8cb460c1fc404e9ff28cce88456bd2",
       "value": true
      }
     },
     "9f3e98c443e24294963f92cb15216426": {
      "model_module": "@jupyter-widgets/controls",
      "model_module_version": "1.1.0",
      "model_name": "DescriptionStyleModel",
      "state": {
       "description_width": ""
      }
     },
     "9f6c28c005314a9b83e039513ce02007": {
      "model_module": "@jupyter-widgets/controls",
      "model_module_version": "1.1.0",
      "model_name": "DescriptionStyleModel",
      "state": {
       "description_width": ""
      }
     },
     "9f763b7c89ca49f8aea9558c5b5601d5": {
      "model_module": "@jupyter-widgets/controls",
      "model_module_version": "1.1.0",
      "model_name": "CheckboxModel",
      "state": {
       "description": "10°",
       "disabled": false,
       "layout": "IPY_MODEL_8edf04c32e7e45bf8d019403cd1fbd3e",
       "style": "IPY_MODEL_2696caeb870d4dfaaa013481d2df2f9b",
       "value": true
      }
     },
     "9f7e1d47276241ba979dbbfe1b08cad0": {
      "model_module": "@jupyter-widgets/controls",
      "model_module_version": "1.1.0",
      "model_name": "CheckboxModel",
      "state": {
       "description": "135°",
       "disabled": false,
       "layout": "IPY_MODEL_ac503fd9ea97473ea3b44c542ac48fab",
       "style": "IPY_MODEL_f7cd482253f94585a80d6bb115ec989f",
       "value": true
      }
     },
     "9f963bc2800f44bbbdd7bfbc77349a64": {
      "model_module": "@jupyter-widgets/base",
      "model_module_version": "1.0.0",
      "model_name": "LayoutModel",
      "state": {}
     },
     "9fa76948a41e42ddba6a054a4b238c5d": {
      "model_module": "@jupyter-widgets/controls",
      "model_module_version": "1.1.0",
      "model_name": "ToggleButtonsModel",
      "state": {
       "_options_labels": [
        "H",
        "He",
        "C",
        "Si",
        "Fe"
       ],
       "button_style": "",
       "description": "Ion:",
       "icons": [],
       "index": 3,
       "layout": "IPY_MODEL_1c30df6baca14be9b804620d10110d72",
       "style": "IPY_MODEL_e504e3870f2d434b9b3ce8047fb6ce6a",
       "tooltips": [
        "Hydrogen",
        "Helium",
        "Carbon",
        "Silicon",
        "Iron"
       ]
      }
     },
     "9fc2d2b3192b45b1aec9b17232629d68": {
      "model_module": "@jupyter-widgets/controls",
      "model_module_version": "1.1.0",
      "model_name": "ToggleButtonsModel",
      "state": {
       "_options_labels": [
        "OLS",
        "NaI"
       ],
       "button_style": "",
       "description": "Type:",
       "icons": [],
       "index": 0,
       "layout": "IPY_MODEL_2a0913dcf72e411ca80f20d125322405",
       "style": "IPY_MODEL_077e109affea4d699a6c5e1910bcab11",
       "tooltips": [
        "Organic Liquid Scintillator",
        "Sodium Iodide"
       ]
      }
     },
     "a0a70b01bf0f4416b4512dfbe503b768": {
      "model_module": "@jupyter-widgets/controls",
      "model_module_version": "1.1.0",
      "model_name": "LabelModel",
      "state": {
       "layout": "IPY_MODEL_15e42c4133524de2b2ea86582941de1f",
       "style": "IPY_MODEL_517769533b984abe859dc81af6864c67",
       "value": "Select the detector angles to plot."
      }
     },
     "a141122ae577468f8b3f1c79b03dc382": {
      "model_module": "@jupyter-widgets/controls",
      "model_module_version": "1.1.0",
      "model_name": "DescriptionStyleModel",
      "state": {
       "description_width": ""
      }
     },
     "a1568ebb0c4740f5bfb67411bb4921e5": {
      "model_module": "@jupyter-widgets/controls",
      "model_module_version": "1.1.0",
      "model_name": "ToggleButtonsModel",
      "state": {
       "_options_labels": [
        "400 MeV",
        "800 MeV",
        "2500 MeV"
       ],
       "button_style": "",
       "description": "Projectile energy:",
       "icons": [],
       "index": 0,
       "layout": "IPY_MODEL_d59349eafc6d4521ae99554754cf77ee",
       "style": "IPY_MODEL_23fb7853f7e54cb294e395420afca9f4",
       "tooltips": [
        "lowest energy",
        "middle energy",
        "highest energy"
       ]
      }
     },
     "a17c6908c7eb480ea1cd7598a0c8cf81": {
      "model_module": "@jupyter-widgets/base",
      "model_module_version": "1.0.0",
      "model_name": "LayoutModel",
      "state": {}
     },
     "a20b631d661f4e6a9754ccdd1b8279ae": {
      "model_module": "@jupyter-widgets/base",
      "model_module_version": "1.0.0",
      "model_name": "LayoutModel",
      "state": {}
     },
     "a2c7c3cfda034156a7273cf99e275eaa": {
      "model_module": "@jupyter-widgets/base",
      "model_module_version": "1.0.0",
      "model_name": "LayoutModel",
      "state": {}
     },
     "a2cdfab85bf5429c9102f70b25547dac": {
      "model_module": "@jupyter-widgets/controls",
      "model_module_version": "1.1.0",
      "model_name": "ToggleButtonsStyleModel",
      "state": {
       "button_width": "",
       "description_width": ""
      }
     },
     "a311037077c543ca9c84276971387c3d": {
      "model_module": "@jupyter-widgets/controls",
      "model_module_version": "1.1.0",
      "model_name": "DescriptionStyleModel",
      "state": {
       "description_width": ""
      }
     },
     "a3110c2fdc194605b45afce71bc335ff": {
      "model_module": "@jupyter-widgets/controls",
      "model_module_version": "1.1.0",
      "model_name": "ToggleButtonsStyleModel",
      "state": {
       "button_width": "",
       "description_width": ""
      }
     },
     "a39a0b6219a04e33ac8128e88b31eec9": {
      "model_module": "@jupyter-widgets/base",
      "model_module_version": "1.0.0",
      "model_name": "LayoutModel",
      "state": {}
     },
     "a3d9fd0254bb40da9e7e0e1e29c3dc3c": {
      "model_module": "@jupyter-widgets/base",
      "model_module_version": "1.0.0",
      "model_name": "LayoutModel",
      "state": {}
     },
     "a3f67666026247e1a13bf7408630e849": {
      "model_module": "@jupyter-widgets/controls",
      "model_module_version": "1.1.0",
      "model_name": "CheckboxModel",
      "state": {
       "description": "PHITS simulated",
       "disabled": false,
       "layout": "IPY_MODEL_4613f06e102346389509918e945271e4",
       "style": "IPY_MODEL_9cb56a4403474b9f9d4b8590a8b207c0",
       "value": true
      }
     },
     "a41aefaded0c42d8b1f36b278b07e298": {
      "model_module": "@jupyter-widgets/controls",
      "model_module_version": "1.1.0",
      "model_name": "DescriptionStyleModel",
      "state": {
       "description_width": ""
      }
     },
     "a43aaf853fea4dc18647a4ff3ec3114d": {
      "model_module": "@jupyter-widgets/base",
      "model_module_version": "1.0.0",
      "model_name": "LayoutModel",
      "state": {}
     },
     "a5371a7f7e1c47cfb165de66a8ce1d9c": {
      "model_module": "@jupyter-widgets/controls",
      "model_module_version": "1.1.0",
      "model_name": "DescriptionStyleModel",
      "state": {
       "description_width": ""
      }
     },
     "a5d0018f08da4128b67b1780ae21704a": {
      "model_module": "@jupyter-widgets/controls",
      "model_module_version": "1.1.0",
      "model_name": "DescriptionStyleModel",
      "state": {
       "description_width": ""
      }
     },
     "a63bb1524dbf4b9bbf3bdf8f5fe2f5d3": {
      "model_module": "@jupyter-widgets/controls",
      "model_module_version": "1.1.0",
      "model_name": "DescriptionStyleModel",
      "state": {
       "description_width": ""
      }
     },
     "a6511527a3ec4002aa89520eafdabe73": {
      "model_module": "@jupyter-widgets/base",
      "model_module_version": "1.0.0",
      "model_name": "LayoutModel",
      "state": {}
     },
     "a692bd63ab7c48f295ccea4406aef904": {
      "model_module": "@jupyter-widgets/base",
      "model_module_version": "1.0.0",
      "model_name": "LayoutModel",
      "state": {}
     },
     "a6d31dec6d624b0f98c06300248662ea": {
      "model_module": "@jupyter-widgets/base",
      "model_module_version": "1.0.0",
      "model_name": "LayoutModel",
      "state": {}
     },
     "a7271008a8924a56badb7451ba5fb3db": {
      "model_module": "@jupyter-widgets/base",
      "model_module_version": "1.0.0",
      "model_name": "LayoutModel",
      "state": {}
     },
     "a76fc7e48def40c6a67df56445524233": {
      "model_module": "@jupyter-widgets/controls",
      "model_module_version": "1.1.0",
      "model_name": "LabelModel",
      "state": {
       "layout": "IPY_MODEL_5ddedfa45f4d484bbf9c56c2604ab531",
       "style": "IPY_MODEL_8b103e180fa240dcbbf2cf875917e3e5",
       "value": "Select projectile ion species."
      }
     },
     "a7996541a0784400a55ad34301b75938": {
      "model_module": "@jupyter-widgets/controls",
      "model_module_version": "1.1.0",
      "model_name": "CheckboxModel",
      "state": {
       "description": "MCNP sim.",
       "disabled": false,
       "layout": "IPY_MODEL_3804a43a83904c60a62391076b5dbb2c",
       "style": "IPY_MODEL_89059b10c6a14f46805eb8fe0deb3ddc",
       "value": true
      }
     },
     "a809e08561f34af1bf29fb92f9f1b6c2": {
      "model_module": "@jupyter-widgets/base",
      "model_module_version": "1.0.0",
      "model_name": "LayoutModel",
      "state": {}
     },
     "a8e1f7f6b2d14d089727dea96ddd4fca": {
      "model_module": "@jupyter-widgets/controls",
      "model_module_version": "1.1.0",
      "model_name": "CheckboxModel",
      "state": {
       "description": "28.2°",
       "disabled": false,
       "layout": "IPY_MODEL_cc70111a19d94fc791c02b7ec4bbe159",
       "style": "IPY_MODEL_dc0ae02645da44c493796fb07d1b0888",
       "value": true
      }
     },
     "a98d4fcb2b8848f49b8fe75c7e6d9315": {
      "model_module": "@jupyter-widgets/controls",
      "model_module_version": "1.1.0",
      "model_name": "DescriptionStyleModel",
      "state": {
       "description_width": ""
      }
     },
     "a9dc937c56c4411caf59d9830da98a11": {
      "model_module": "@jupyter-widgets/base",
      "model_module_version": "1.0.0",
      "model_name": "LayoutModel",
      "state": {}
     },
     "aa2c1f5ef7a94d079d5ed5026d0aaa7c": {
      "model_module": "@jupyter-widgets/controls",
      "model_module_version": "1.1.0",
      "model_name": "DescriptionStyleModel",
      "state": {
       "description_width": ""
      }
     },
     "aa55f5a5dd764cc8a6295cbe1e5903bd": {
      "model_module": "@jupyter-widgets/controls",
      "model_module_version": "1.1.0",
      "model_name": "DescriptionStyleModel",
      "state": {
       "description_width": ""
      }
     },
     "aae4adf9553e4a9096373ce3db4ba1e4": {
      "model_module": "@jupyter-widgets/base",
      "model_module_version": "1.0.0",
      "model_name": "LayoutModel",
      "state": {}
     },
     "ab8cb460c1fc404e9ff28cce88456bd2": {
      "model_module": "@jupyter-widgets/controls",
      "model_module_version": "1.1.0",
      "model_name": "DescriptionStyleModel",
      "state": {
       "description_width": ""
      }
     },
     "ac503fd9ea97473ea3b44c542ac48fab": {
      "model_module": "@jupyter-widgets/base",
      "model_module_version": "1.0.0",
      "model_name": "LayoutModel",
      "state": {}
     },
     "acbc4eec12c84b1a95db9c9ea2c9b226": {
      "model_module": "@jupyter-widgets/base",
      "model_module_version": "1.0.0",
      "model_name": "LayoutModel",
      "state": {}
     },
     "ad0b604d2d204b1d89b67b5906a1102a": {
      "model_module": "@jupyter-widgets/controls",
      "model_module_version": "1.1.0",
      "model_name": "CheckboxModel",
      "state": {
       "description": "30°",
       "disabled": false,
       "layout": "IPY_MODEL_89cf2fbe8d64429093636459b336560c",
       "style": "IPY_MODEL_a5d0018f08da4128b67b1780ae21704a",
       "value": true
      }
     },
     "ad36910402d448bea2dfcd829d332606": {
      "model_module": "@jupyter-widgets/controls",
      "model_module_version": "1.1.0",
      "model_name": "DescriptionStyleModel",
      "state": {
       "description_width": ""
      }
     },
     "adef8af3dbef49b5bf0fe6ddeef89d06": {
      "model_module": "@jupyter-widgets/controls",
      "model_module_version": "1.1.0",
      "model_name": "DescriptionStyleModel",
      "state": {
       "description_width": ""
      }
     },
     "ae22be5c28e94de696808e167388ef1f": {
      "model_module": "@jupyter-widgets/base",
      "model_module_version": "1.0.0",
      "model_name": "LayoutModel",
      "state": {}
     },
     "ae58877b32bd4dd5ba8bfdb979bee38a": {
      "model_module": "@jupyter-widgets/base",
      "model_module_version": "1.0.0",
      "model_name": "LayoutModel",
      "state": {}
     },
     "ae5e40e17b574b05bbb72848898cb6a1": {
      "model_module": "@jupyter-widgets/controls",
      "model_module_version": "1.1.0",
      "model_name": "CheckboxModel",
      "state": {
       "description": "10°",
       "disabled": false,
       "layout": "IPY_MODEL_3a28181ffb7c48c8a0db5f7b94a0b7b9",
       "style": "IPY_MODEL_ecb67a303385458cb0a68adc15ac1fc7",
       "value": true
      }
     },
     "ae7c46f2f69f4776accd5fb7c29f2382": {
      "model_module": "@jupyter-widgets/controls",
      "model_module_version": "1.1.0",
      "model_name": "DescriptionStyleModel",
      "state": {
       "description_width": ""
      }
     },
     "aef05aca02d349d3812d463aa0f14160": {
      "model_module": "@jupyter-widgets/controls",
      "model_module_version": "1.1.0",
      "model_name": "DescriptionStyleModel",
      "state": {
       "description_width": ""
      }
     },
     "af5c2f359c3243a8ae68a070a614e44e": {
      "model_module": "@jupyter-widgets/controls",
      "model_module_version": "1.1.0",
      "model_name": "CheckboxModel",
      "state": {
       "description": "135°",
       "disabled": false,
       "layout": "IPY_MODEL_d5e2e35deb844291b27a458a0dc4ce24",
       "style": "IPY_MODEL_f233b0f7df684cf19f9a4b1a0e80fc0f",
       "value": true
      }
     },
     "af90e3c5f03a4a37aec96c93311885e7": {
      "model_module": "@jupyter-widgets/controls",
      "model_module_version": "1.1.0",
      "model_name": "DescriptionStyleModel",
      "state": {
       "description_width": ""
      }
     },
     "b1062ded5fbc4a64bd7545d7c37d46b0": {
      "model_module": "@jupyter-widgets/controls",
      "model_module_version": "1.1.0",
      "model_name": "CheckboxModel",
      "state": {
       "description": "60°",
       "disabled": false,
       "layout": "IPY_MODEL_1ccf22597e434af5bab9dad773320ed1",
       "style": "IPY_MODEL_63fe9245ac9b425e8a327547db9f4687",
       "value": true
      }
     },
     "b4224b2fafed4dcfadcf9665d1ea7e3d": {
      "model_module": "@jupyter-widgets/controls",
      "model_module_version": "1.1.0",
      "model_name": "LabelModel",
      "state": {
       "layout": "IPY_MODEL_0f76e3888d8341d28dd5fed39c244e0e",
       "style": "IPY_MODEL_35931f67715d4c6a9251af2ea03c446a",
       "value": "Select a detector type."
      }
     },
     "b5a3eda61acd460b9dd2c0c55b28a91f": {
      "model_module": "@jupyter-widgets/controls",
      "model_module_version": "1.1.0",
      "model_name": "CheckboxModel",
      "state": {
       "description": "10°",
       "disabled": false,
       "layout": "IPY_MODEL_15689425cbfc4a4c971397446beb65e8",
       "style": "IPY_MODEL_5de24e98135c4d4e84d09043ba2038ef",
       "value": true
      }
     },
     "b67d9bc72cb3401ea3dfc1053440b044": {
      "model_module": "@jupyter-widgets/controls",
      "model_module_version": "1.1.0",
      "model_name": "CheckboxModel",
      "state": {
       "description": "80°",
       "disabled": false,
       "layout": "IPY_MODEL_5245f077e25a410482d2210652e901bf",
       "style": "IPY_MODEL_ece4d2aad3f0431485bdbeb4ca86c6d4",
       "value": true
      }
     },
     "b696018911824f1c86ca2809ef37ad9b": {
      "model_module": "@jupyter-widgets/base",
      "model_module_version": "1.0.0",
      "model_name": "LayoutModel",
      "state": {}
     },
     "b6a2edf235af46d7b7886ef150bcd0a3": {
      "model_module": "@jupyter-widgets/controls",
      "model_module_version": "1.1.0",
      "model_name": "LabelModel",
      "state": {
       "layout": "IPY_MODEL_60f108fd0bbb440a9b33994693046154",
       "style": "IPY_MODEL_9e124599713245f492fe46f1ea8d03f2",
       "value": "Select the detector angles to plot."
      }
     },
     "b71c3a8d9a2f48ea8113db14d33ee897": {
      "model_module": "@jupyter-widgets/controls",
      "model_module_version": "1.1.0",
      "model_name": "DescriptionStyleModel",
      "state": {
       "description_width": ""
      }
     },
     "b71cf0c8c619417dbee68c5f6ac1d3c4": {
      "model_module": "@jupyter-widgets/controls",
      "model_module_version": "1.1.0",
      "model_name": "DescriptionStyleModel",
      "state": {
       "description_width": ""
      }
     },
     "b80eff2ecb82408c8635136c0345cbc7": {
      "model_module": "@jupyter-widgets/controls",
      "model_module_version": "1.1.0",
      "model_name": "CheckboxModel",
      "state": {
       "description": "60°",
       "disabled": false,
       "layout": "IPY_MODEL_74c570f03064412d9cf963cde7af81de",
       "style": "IPY_MODEL_63928daf6d25409caff26b7ab36d100a",
       "value": true
      }
     },
     "bb37a85d2fc24a6ab83c4651f26ddbbd": {
      "model_module": "@jupyter-widgets/controls",
      "model_module_version": "1.1.0",
      "model_name": "CheckboxModel",
      "state": {
       "description": "10°",
       "disabled": false,
       "layout": "IPY_MODEL_832f07517fa54c4890183cf7f1373e1c",
       "style": "IPY_MODEL_1ebf963a3f6c45cf90efcce937720a07",
       "value": true
      }
     },
     "bba782140ef64349a4ec8fbbe71012ab": {
      "model_module": "@jupyter-widgets/controls",
      "model_module_version": "1.1.0",
      "model_name": "LabelModel",
      "state": {
       "layout": "IPY_MODEL_4ffd4cfb70074db8ac07d1d8cf7325d6",
       "style": "IPY_MODEL_831f0e2103974ca39855e891d8bf9214",
       "value": "Select the detector angles to plot."
      }
     },
     "bba8bdcec8ad4732b08dec40c092396f": {
      "model_module": "@jupyter-widgets/controls",
      "model_module_version": "1.1.0",
      "model_name": "ToggleButtonsModel",
      "state": {
       "_options_labels": [
        "H",
        "He",
        "C",
        "Si",
        "Fe"
       ],
       "button_style": "",
       "description": "Ion:",
       "icons": [],
       "index": 1,
       "layout": "IPY_MODEL_a43aaf853fea4dc18647a4ff3ec3114d",
       "style": "IPY_MODEL_a3110c2fdc194605b45afce71bc335ff",
       "tooltips": [
        "Hydrogen",
        "Helium",
        "Carbon",
        "Silicon",
        "Iron"
       ]
      }
     },
     "bccc581e49014ff18c58effdb72679b3": {
      "model_module": "@jupyter-widgets/base",
      "model_module_version": "1.0.0",
      "model_name": "LayoutModel",
      "state": {}
     },
     "bd7e163492cd48788cd5ed22903d5cb0": {
      "model_module": "@jupyter-widgets/base",
      "model_module_version": "1.0.0",
      "model_name": "LayoutModel",
      "state": {}
     },
     "bdc22a99975b43b482241a7f79ff85ce": {
      "model_module": "@jupyter-widgets/controls",
      "model_module_version": "1.1.0",
      "model_name": "LabelModel",
      "state": {
       "layout": "IPY_MODEL_f3ad70d074f14fb29d3e3e092c92e272",
       "style": "IPY_MODEL_2f5368399fa8407bae759281254513f9",
       "value": "Select the detector angles to plot."
      }
     },
     "befdd3e1c2ea49caa630c9a4812ac374": {
      "model_module": "@jupyter-widgets/controls",
      "model_module_version": "1.1.0",
      "model_name": "DescriptionStyleModel",
      "state": {
       "description_width": ""
      }
     },
     "bfd76b866fce44aa921ab72cc6d1c12f": {
      "model_module": "@jupyter-widgets/controls",
      "model_module_version": "1.1.0",
      "model_name": "ToggleButtonsStyleModel",
      "state": {
       "button_width": "",
       "description_width": ""
      }
     },
     "c011c67b02e846f88f4fa9afc9ba4323": {
      "model_module": "@jupyter-widgets/controls",
      "model_module_version": "1.1.0",
      "model_name": "DescriptionStyleModel",
      "state": {
       "description_width": ""
      }
     },
     "c1389914301242d88e0eb8c9f2d979db": {
      "model_module": "@jupyter-widgets/controls",
      "model_module_version": "1.1.0",
      "model_name": "DescriptionStyleModel",
      "state": {
       "description_width": ""
      }
     },
     "c13fad6c897e49fc95a5190bb1a14f16": {
      "model_module": "@jupyter-widgets/controls",
      "model_module_version": "1.1.0",
      "model_name": "DescriptionStyleModel",
      "state": {
       "description_width": ""
      }
     },
     "c1b5218451a5463aaba4be6b444620f8": {
      "model_module": "@jupyter-widgets/controls",
      "model_module_version": "1.1.0",
      "model_name": "DescriptionStyleModel",
      "state": {
       "description_width": ""
      }
     },
     "c294a3be598c47f8aa914edf0fe7cf51": {
      "model_module": "@jupyter-widgets/base",
      "model_module_version": "1.0.0",
      "model_name": "LayoutModel",
      "state": {}
     },
     "c29cc05323c04386b96f17e5e883f3bb": {
      "model_module": "@jupyter-widgets/controls",
      "model_module_version": "1.1.0",
      "model_name": "CheckboxModel",
      "state": {
       "description": "45°",
       "disabled": false,
       "layout": "IPY_MODEL_23c05b24f4314aa78519265ec6bd84df",
       "style": "IPY_MODEL_94ec80295ac74b229dd0a7533a8c5bcd",
       "value": true
      }
     },
     "c4f62b72adc1452e8968212e837e738e": {
      "model_module": "@jupyter-widgets/base",
      "model_module_version": "1.0.0",
      "model_name": "LayoutModel",
      "state": {}
     },
     "c5651626f653475389ff56bd6d859053": {
      "model_module": "@jupyter-widgets/controls",
      "model_module_version": "1.1.0",
      "model_name": "LabelModel",
      "state": {
       "layout": "IPY_MODEL_834dbdd244e6451687709413ee684e3d",
       "style": "IPY_MODEL_47b451d0705f4e5a99278ecb7a32fa14",
       "value": "Select projectile ion energy."
      }
     },
     "c572f07533824369b06f5405baa71387": {
      "model_module": "@jupyter-widgets/controls",
      "model_module_version": "1.1.0",
      "model_name": "ToggleButtonsModel",
      "state": {
       "_options_labels": [
        "None",
        "Spaced by powers of 10²"
       ],
       "button_style": "",
       "description": "Extra spectra spacing:",
       "icons": [],
       "index": 0,
       "layout": "IPY_MODEL_9f963bc2800f44bbbdd7bfbc77349a64",
       "style": "IPY_MODEL_01f72b147b784cc9ba5906f2ca107057",
       "tooltips": [
        "All values are presented as is.",
        "Plots for different detectors are multiplied by powers of 10² for easier viewing."
       ]
      }
     },
     "c61e1f7869294918b86cef1ee53ffcf6": {
      "model_module": "@jupyter-widgets/controls",
      "model_module_version": "1.1.0",
      "model_name": "CheckboxModel",
      "state": {
       "description": "45°",
       "disabled": false,
       "layout": "IPY_MODEL_cea380802af2442091b4df88b4870f06",
       "style": "IPY_MODEL_a141122ae577468f8b3f1c79b03dc382",
       "value": true
      }
     },
     "c664c34b4b654a61976bd21113e6d4e2": {
      "model_module": "@jupyter-widgets/controls",
      "model_module_version": "1.1.0",
      "model_name": "DescriptionStyleModel",
      "state": {
       "description_width": ""
      }
     },
     "c669a7878a2f4b5998664f3d1a967d02": {
      "model_module": "@jupyter-widgets/base",
      "model_module_version": "1.0.0",
      "model_name": "LayoutModel",
      "state": {}
     },
     "c6a1b9433eb64e99a0423142484aa85c": {
      "model_module": "@jupyter-widgets/controls",
      "model_module_version": "1.1.0",
      "model_name": "ToggleButtonsStyleModel",
      "state": {
       "button_width": "",
       "description_width": ""
      }
     },
     "c703ec114cbc40e39240096c9f44dd1e": {
      "model_module": "@jupyter-widgets/base",
      "model_module_version": "1.0.0",
      "model_name": "LayoutModel",
      "state": {}
     },
     "c7742e8a78a045c891f17eec533ac65f": {
      "model_module": "@jupyter-widgets/controls",
      "model_module_version": "1.1.0",
      "model_name": "DescriptionStyleModel",
      "state": {
       "description_width": ""
      }
     },
     "c7f45aab52e94b24a10bf88e9e868291": {
      "model_module": "@jupyter-widgets/controls",
      "model_module_version": "1.1.0",
      "model_name": "CheckboxModel",
      "state": {
       "description": "80°",
       "disabled": false,
       "layout": "IPY_MODEL_1343ff4e746c4800991407de65ac09e2",
       "style": "IPY_MODEL_78b356ec0e924239a93e39437f8718b1",
       "value": true
      }
     },
     "ca0976282fdc4ea9a9e31a9f92113509": {
      "model_module": "@jupyter-widgets/controls",
      "model_module_version": "1.1.0",
      "model_name": "ToggleButtonsModel",
      "state": {
       "_options_labels": [
        "400 MeV",
        "800 MeV",
        "2500 MeV"
       ],
       "button_style": "",
       "description": "Energy:",
       "icons": [],
       "index": 0,
       "layout": "IPY_MODEL_d104df1b93dc4adead945d61dd03d6fe",
       "style": "IPY_MODEL_06b2f62874494d339bb90eea19176892",
       "tooltips": [
        "lowest energy",
        "middle energy",
        "highest energy"
       ]
      }
     },
     "caccc658e39e4d8eab1327632eccbe34": {
      "model_module": "@jupyter-widgets/controls",
      "model_module_version": "1.1.0",
      "model_name": "ToggleButtonsStyleModel",
      "state": {
       "button_width": "",
       "description_width": ""
      }
     },
     "cadd83c3db964467ad0683e6c33d3471": {
      "model_module": "@jupyter-widgets/controls",
      "model_module_version": "1.1.0",
      "model_name": "CheckboxModel",
      "state": {
       "description": "PHITS sim.",
       "disabled": false,
       "layout": "IPY_MODEL_06c0c365322742f782334733d0d37345",
       "style": "IPY_MODEL_54a6008ce254488abca9239c5aee6363",
       "value": true
      }
     },
     "cb43928a574448eca437bc4c9aa2a8d2": {
      "model_module": "@jupyter-widgets/controls",
      "model_module_version": "1.1.0",
      "model_name": "ToggleButtonsStyleModel",
      "state": {
       "button_width": "",
       "description_width": ""
      }
     },
     "cc70111a19d94fc791c02b7ec4bbe159": {
      "model_module": "@jupyter-widgets/base",
      "model_module_version": "1.0.0",
      "model_name": "LayoutModel",
      "state": {}
     },
     "cda96481692a4dd9a76548e1689bc85b": {
      "model_module": "@jupyter-widgets/controls",
      "model_module_version": "1.1.0",
      "model_name": "ToggleButtonsModel",
      "state": {
       "_options_labels": [
        "N",
        "NDC"
       ],
       "button_style": "",
       "description": "Type:",
       "icons": [],
       "index": 0,
       "layout": "IPY_MODEL_e1d61a68240847fcb89a97fa2945bff1",
       "style": "IPY_MODEL_4b22a219bb39429aadfbe3662ab9344e",
       "tooltips": [
        "Neutron",
        "Neutron (deconvoluted)"
       ]
      }
     },
     "cdd7b460ab6d497e89a40e54704e0405": {
      "model_module": "@jupyter-widgets/base",
      "model_module_version": "1.0.0",
      "model_name": "LayoutModel",
      "state": {}
     },
     "cea380802af2442091b4df88b4870f06": {
      "model_module": "@jupyter-widgets/base",
      "model_module_version": "1.0.0",
      "model_name": "LayoutModel",
      "state": {}
     },
     "cee140c0cf9e4148bdc534250e77adfa": {
      "model_module": "@jupyter-widgets/controls",
      "model_module_version": "1.1.0",
      "model_name": "LabelModel",
      "state": {
       "layout": "IPY_MODEL_591983d72d9a4707a025102bf48ee6a2",
       "style": "IPY_MODEL_d3829c4f0a5a42b1be5c79bdf71816d0",
       "value": "Select projectile ion species."
      }
     },
     "ceff1e71ac8a41e9a0f7e8232abb7060": {
      "model_module": "@jupyter-widgets/controls",
      "model_module_version": "1.1.0",
      "model_name": "CheckboxModel",
      "state": {
       "description": "60°",
       "disabled": false,
       "layout": "IPY_MODEL_d5d0d2ddcdd242f98557194e3bd76c0e",
       "style": "IPY_MODEL_07e26bfbdd264c5caa86997cd380255c",
       "value": true
      }
     },
     "cfa5fbf828834cb7b861c2382ce6a0a5": {
      "model_module": "@jupyter-widgets/base",
      "model_module_version": "1.0.0",
      "model_name": "LayoutModel",
      "state": {}
     },
     "d045ed28e7f443a492a3b0a8c145e6bd": {
      "model_module": "@jupyter-widgets/base",
      "model_module_version": "1.0.0",
      "model_name": "LayoutModel",
      "state": {}
     },
     "d0cf31ea782242468beb9758d21f489e": {
      "model_module": "@jupyter-widgets/controls",
      "model_module_version": "1.1.0",
      "model_name": "DescriptionStyleModel",
      "state": {
       "description_width": ""
      }
     },
     "d0e6052d8faf4b2698480ee34caee7d4": {
      "model_module": "@jupyter-widgets/base",
      "model_module_version": "1.0.0",
      "model_name": "LayoutModel",
      "state": {}
     },
     "d104df1b93dc4adead945d61dd03d6fe": {
      "model_module": "@jupyter-widgets/base",
      "model_module_version": "1.0.0",
      "model_name": "LayoutModel",
      "state": {}
     },
     "d1ffdb144a5d4c4c8c847ce9410f9e9a": {
      "model_module": "@jupyter-widgets/controls",
      "model_module_version": "1.1.0",
      "model_name": "CheckboxModel",
      "state": {
       "description": "10°",
       "disabled": false,
       "layout": "IPY_MODEL_9393d654bc5842bc8bb61310d8ae3c22",
       "style": "IPY_MODEL_8658947a8ee0460091989d36cf0c0b43",
       "value": true
      }
     },
     "d204c1db0c0a4f7dac17511c7217c255": {
      "model_module": "@jupyter-widgets/controls",
      "model_module_version": "1.1.0",
      "model_name": "CheckboxModel",
      "state": {
       "description": "30°",
       "disabled": false,
       "layout": "IPY_MODEL_69d6fc1b35cd4fd4889f882511b76af2",
       "style": "IPY_MODEL_f6ec50c9f8d14d6f8261e916602e59c9",
       "value": true
      }
     },
     "d254eb2e271643e3acda524c4794ccbf": {
      "model_module": "@jupyter-widgets/controls",
      "model_module_version": "1.1.0",
      "model_name": "CheckboxModel",
      "state": {
       "description": "32.7°",
       "disabled": false,
       "layout": "IPY_MODEL_fec67650c81745c4b3f268ff4c7b72a6",
       "style": "IPY_MODEL_ae7c46f2f69f4776accd5fb7c29f2382",
       "value": true
      }
     },
     "d2bfdaf8796e4f56a2b6c2179e47f23d": {
      "model_module": "@jupyter-widgets/base",
      "model_module_version": "1.0.0",
      "model_name": "LayoutModel",
      "state": {}
     },
     "d3829c4f0a5a42b1be5c79bdf71816d0": {
      "model_module": "@jupyter-widgets/controls",
      "model_module_version": "1.1.0",
      "model_name": "DescriptionStyleModel",
      "state": {
       "description_width": ""
      }
     },
     "d489953aa27748ca809f2bfa6fcbdbf6": {
      "model_module": "@jupyter-widgets/controls",
      "model_module_version": "1.1.0",
      "model_name": "DescriptionStyleModel",
      "state": {
       "description_width": ""
      }
     },
     "d59349eafc6d4521ae99554754cf77ee": {
      "model_module": "@jupyter-widgets/base",
      "model_module_version": "1.0.0",
      "model_name": "LayoutModel",
      "state": {}
     },
     "d5b795a688d941aaa9b25e3f0bb33293": {
      "model_module": "@jupyter-widgets/controls",
      "model_module_version": "1.1.0",
      "model_name": "CheckboxModel",
      "state": {
       "description": "80°",
       "disabled": false,
       "layout": "IPY_MODEL_0a9707392c6b4c3282af3dc874884ff5",
       "style": "IPY_MODEL_7f1320fdde3a4eb58bb722ad2e189b3c",
       "value": true
      }
     },
     "d5d0d2ddcdd242f98557194e3bd76c0e": {
      "model_module": "@jupyter-widgets/base",
      "model_module_version": "1.0.0",
      "model_name": "LayoutModel",
      "state": {}
     },
     "d5e2e35deb844291b27a458a0dc4ce24": {
      "model_module": "@jupyter-widgets/base",
      "model_module_version": "1.0.0",
      "model_name": "LayoutModel",
      "state": {}
     },
     "d6d4eecf671144bca4ba7e9fb9934af7": {
      "model_module": "@jupyter-widgets/controls",
      "model_module_version": "1.1.0",
      "model_name": "CheckboxModel",
      "state": {
       "description": "135°",
       "disabled": false,
       "layout": "IPY_MODEL_83a3795ebf384c3b924e161522508d10",
       "style": "IPY_MODEL_07757186b124423b90b6fc4a321a3839",
       "value": true
      }
     },
     "d7eefa870f8c4d0e9c21967a295082e0": {
      "model_module": "@jupyter-widgets/base",
      "model_module_version": "1.0.0",
      "model_name": "LayoutModel",
      "state": {}
     },
     "d7fa1e0a970542dfa0bcacd0af564385": {
      "model_module": "@jupyter-widgets/base",
      "model_module_version": "1.0.0",
      "model_name": "LayoutModel",
      "state": {}
     },
     "d921a36675004b3d9263529f7b8473c8": {
      "model_module": "@jupyter-widgets/base",
      "model_module_version": "1.0.0",
      "model_name": "LayoutModel",
      "state": {}
     },
     "da3c66a604a64b85afa9e3a60e7b1a1a": {
      "model_module": "@jupyter-widgets/controls",
      "model_module_version": "1.1.0",
      "model_name": "ToggleButtonsModel",
      "state": {
       "_options_labels": [
        "None",
        "Spaced by 10²"
       ],
       "button_style": "",
       "description": "Spacing:",
       "icons": [],
       "index": 0,
       "layout": "IPY_MODEL_a3d9fd0254bb40da9e7e0e1e29c3dc3c",
       "style": "IPY_MODEL_e6203a22b2264fb9805146732da77ef7",
       "tooltips": [
        "All values are presented as is.",
        "Plots for different detectors are multiplied by powers of 10² for easier viewing."
       ]
      }
     },
     "dbf31784806148b18cf007b56b054246": {
      "model_module": "@jupyter-widgets/controls",
      "model_module_version": "1.1.0",
      "model_name": "DescriptionStyleModel",
      "state": {
       "description_width": ""
      }
     },
     "dc0ae02645da44c493796fb07d1b0888": {
      "model_module": "@jupyter-widgets/controls",
      "model_module_version": "1.1.0",
      "model_name": "DescriptionStyleModel",
      "state": {
       "description_width": ""
      }
     },
     "dd243fe614ab4786a6036ba1cd7274c6": {
      "model_module": "@jupyter-widgets/controls",
      "model_module_version": "1.1.0",
      "model_name": "CheckboxModel",
      "state": {
       "description": "32.7°",
       "disabled": false,
       "layout": "IPY_MODEL_7b9d7b7cf9c04c9a82cd16d7e2bb05b0",
       "style": "IPY_MODEL_4088ba6d018e4e63a876d816450947aa",
       "value": true
      }
     },
     "dd3a3b31398e4a0e9aa1cddadb32dcea": {
      "model_module": "@jupyter-widgets/controls",
      "model_module_version": "1.1.0",
      "model_name": "DescriptionStyleModel",
      "state": {
       "description_width": ""
      }
     },
     "dd754a0dd2b94406836938aa9d8da6e9": {
      "model_module": "@jupyter-widgets/controls",
      "model_module_version": "1.1.0",
      "model_name": "CheckboxModel",
      "state": {
       "description": "135°",
       "disabled": false,
       "layout": "IPY_MODEL_1bb7f2c06922441089584949384b0a0c",
       "style": "IPY_MODEL_a5371a7f7e1c47cfb165de66a8ce1d9c",
       "value": true
      }
     },
     "dddc16ed883246f0815715672f5991bf": {
      "model_module": "@jupyter-widgets/base",
      "model_module_version": "1.0.0",
      "model_name": "LayoutModel",
      "state": {}
     },
     "de514ac198ee4f96a23947a300d166c6": {
      "model_module": "@jupyter-widgets/controls",
      "model_module_version": "1.1.0",
      "model_name": "DescriptionStyleModel",
      "state": {
       "description_width": ""
      }
     },
     "de8ca3a9d700404db62e943cbc02e6ce": {
      "model_module": "@jupyter-widgets/controls",
      "model_module_version": "1.1.0",
      "model_name": "ToggleButtonsModel",
      "state": {
       "_options_labels": [
        "20 g/cm²",
        "60 g/cm²"
       ],
       "button_style": "",
       "description": "Thickness:",
       "icons": [],
       "index": 0,
       "layout": "IPY_MODEL_9078c4bcddb24a0c80ee96dce02c78cc",
       "style": "IPY_MODEL_e3f0c8fd96aa4ab99322b59567b8161e",
       "tooltips": [
        "20 g/cm²",
        "60 g/cm²"
       ]
      }
     },
     "dfae9acdbe3d409db72fdff9ac916fc9": {
      "model_module": "@jupyter-widgets/controls",
      "model_module_version": "1.1.0",
      "model_name": "LabelModel",
      "state": {
       "layout": "IPY_MODEL_bccc581e49014ff18c58effdb72679b3",
       "style": "IPY_MODEL_0c5d38b2439f4de1b6158b9ce2c2de5c",
       "value": "Select the detector angles to plot."
      }
     },
     "dfb560290e0e403c9fccbde569a8aebc": {
      "model_module": "@jupyter-widgets/controls",
      "model_module_version": "1.1.0",
      "model_name": "LabelModel",
      "state": {
       "layout": "IPY_MODEL_acbc4eec12c84b1a95db9c9ea2c9b226",
       "style": "IPY_MODEL_5a1015870ae041e78d2db8b9d6e4d69b",
       "value": "Select the detector angles to plot."
      }
     },
     "e02a6cabb30a4011baa7c08d86cd7266": {
      "model_module": "@jupyter-widgets/controls",
      "model_module_version": "1.1.0",
      "model_name": "DescriptionStyleModel",
      "state": {
       "description_width": ""
      }
     },
     "e163e474f57f41afb1c80d3c76fe7cc2": {
      "model_module": "@jupyter-widgets/controls",
      "model_module_version": "1.1.0",
      "model_name": "ToggleButtonsModel",
      "state": {
       "_options_labels": [
        "OLS",
        "NaI"
       ],
       "button_style": "",
       "description": "Type:",
       "icons": [],
       "index": 0,
       "layout": "IPY_MODEL_988a393cd5994582bb58756c59a2cec4",
       "style": "IPY_MODEL_cb43928a574448eca437bc4c9aa2a8d2",
       "tooltips": [
        "Organic Liquid Scintillator",
        "Sodium Iodide"
       ]
      }
     },
     "e18a396c81f740bcb8fd470324b131d6": {
      "model_module": "@jupyter-widgets/controls",
      "model_module_version": "1.1.0",
      "model_name": "DescriptionStyleModel",
      "state": {
       "description_width": ""
      }
     },
     "e1d61a68240847fcb89a97fa2945bff1": {
      "model_module": "@jupyter-widgets/base",
      "model_module_version": "1.0.0",
      "model_name": "LayoutModel",
      "state": {}
     },
     "e276e5c685494292b6190b0bad23e9f6": {
      "model_module": "@jupyter-widgets/controls",
      "model_module_version": "1.1.0",
      "model_name": "DescriptionStyleModel",
      "state": {
       "description_width": ""
      }
     },
     "e2afa7cfcc1a41298897da78530a081d": {
      "model_module": "@jupyter-widgets/base",
      "model_module_version": "1.0.0",
      "model_name": "LayoutModel",
      "state": {}
     },
     "e38bb0cddc9d419990656dfcee6803a8": {
      "model_module": "@jupyter-widgets/base",
      "model_module_version": "1.0.0",
      "model_name": "LayoutModel",
      "state": {}
     },
     "e3c058a88a5b46e7a21cca77776b6f7b": {
      "model_module": "@jupyter-widgets/controls",
      "model_module_version": "1.1.0",
      "model_name": "CheckboxModel",
      "state": {
       "description": "135°",
       "disabled": false,
       "layout": "IPY_MODEL_571570d1fdb24024b81f8c526ee80215",
       "style": "IPY_MODEL_593b60d7d69a4650828cd601b908e6b9",
       "value": true
      }
     },
     "e3f0c8fd96aa4ab99322b59567b8161e": {
      "model_module": "@jupyter-widgets/controls",
      "model_module_version": "1.1.0",
      "model_name": "ToggleButtonsStyleModel",
      "state": {
       "button_width": "",
       "description_width": ""
      }
     },
     "e4375cfc8ff54701b364e8158c74eebf": {
      "model_module": "@jupyter-widgets/controls",
      "model_module_version": "1.1.0",
      "model_name": "DescriptionStyleModel",
      "state": {
       "description_width": ""
      }
     },
     "e47dd9537dee4e0a961986192547775b": {
      "model_module": "@jupyter-widgets/controls",
      "model_module_version": "1.1.0",
      "model_name": "CheckboxModel",
      "state": {
       "description": "10°",
       "disabled": false,
       "layout": "IPY_MODEL_c669a7878a2f4b5998664f3d1a967d02",
       "style": "IPY_MODEL_9bbc77fdd4154a78b93848e63b9411c7",
       "value": true
      }
     },
     "e4d4ee40e9634060ada1b1c42c9d84de": {
      "model_module": "@jupyter-widgets/controls",
      "model_module_version": "1.1.0",
      "model_name": "LabelModel",
      "state": {
       "layout": "IPY_MODEL_a20b631d661f4e6a9754ccdd1b8279ae",
       "style": "IPY_MODEL_b71c3a8d9a2f48ea8113db14d33ee897",
       "value": "Select which sets of data to display."
      }
     },
     "e504e3870f2d434b9b3ce8047fb6ce6a": {
      "model_module": "@jupyter-widgets/controls",
      "model_module_version": "1.1.0",
      "model_name": "ToggleButtonsStyleModel",
      "state": {
       "button_width": "",
       "description_width": ""
      }
     },
     "e6203a22b2264fb9805146732da77ef7": {
      "model_module": "@jupyter-widgets/controls",
      "model_module_version": "1.1.0",
      "model_name": "ToggleButtonsStyleModel",
      "state": {
       "button_width": "",
       "description_width": ""
      }
     },
     "e72b472b555f44c68890ff54d24fd189": {
      "model_module": "@jupyter-widgets/controls",
      "model_module_version": "1.1.0",
      "model_name": "ToggleButtonsModel",
      "state": {
       "_options_labels": [
        "400 MeV/n",
        "800 MeV/n",
        "1500 MeV/n"
       ],
       "button_style": "",
       "description": "Energy:",
       "icons": [],
       "index": 0,
       "layout": "IPY_MODEL_d0e6052d8faf4b2698480ee34caee7d4",
       "style": "IPY_MODEL_1ead81b4709043c994909a2b2b093b5f",
       "tooltips": [
        "lowest energy",
        "middle energy",
        "highest energy"
       ]
      }
     },
     "e791ef4198404877b20852aa1f1999dd": {
      "model_module": "@jupyter-widgets/base",
      "model_module_version": "1.0.0",
      "model_name": "LayoutModel",
      "state": {}
     },
     "e858a2e6bfff44c9a787a49521f4d6a5": {
      "model_module": "@jupyter-widgets/controls",
      "model_module_version": "1.1.0",
      "model_name": "DescriptionStyleModel",
      "state": {
       "description_width": ""
      }
     },
     "e9502940170d4e94abc6619254f97d23": {
      "model_module": "@jupyter-widgets/controls",
      "model_module_version": "1.1.0",
      "model_name": "CheckboxModel",
      "state": {
       "description": "45°",
       "disabled": false,
       "layout": "IPY_MODEL_4693c63a28be4976a31169004a8d002b",
       "style": "IPY_MODEL_143c0b0a8ded453daf70a006d44b7880",
       "value": true
      }
     },
     "e975e26b0362471590a595e5711b6a02": {
      "model_module": "@jupyter-widgets/controls",
      "model_module_version": "1.1.0",
      "model_name": "ToggleButtonsStyleModel",
      "state": {
       "button_width": "",
       "description_width": ""
      }
     },
     "ead1f9378a724f3fac29c1cdad541101": {
      "model_module": "@jupyter-widgets/controls",
      "model_module_version": "1.1.0",
      "model_name": "DescriptionStyleModel",
      "state": {
       "description_width": ""
      }
     },
     "eb182ea4bdca40d1807c6f191db4fefa": {
      "model_module": "@jupyter-widgets/base",
      "model_module_version": "1.0.0",
      "model_name": "LayoutModel",
      "state": {}
     },
     "eb3bc749b5bd437384de45b0ff78c72e": {
      "model_module": "@jupyter-widgets/controls",
      "model_module_version": "1.1.0",
      "model_name": "DescriptionStyleModel",
      "state": {
       "description_width": ""
      }
     },
     "ecb67a303385458cb0a68adc15ac1fc7": {
      "model_module": "@jupyter-widgets/controls",
      "model_module_version": "1.1.0",
      "model_name": "DescriptionStyleModel",
      "state": {
       "description_width": ""
      }
     },
     "ece4d2aad3f0431485bdbeb4ca86c6d4": {
      "model_module": "@jupyter-widgets/controls",
      "model_module_version": "1.1.0",
      "model_name": "DescriptionStyleModel",
      "state": {
       "description_width": ""
      }
     },
     "ecf53ae7c0fb4039bf6f58762a521630": {
      "model_module": "@jupyter-widgets/controls",
      "model_module_version": "1.1.0",
      "model_name": "LabelModel",
      "state": {
       "layout": "IPY_MODEL_f96537a5e7dc4e1a98b108b6f8434a3b",
       "style": "IPY_MODEL_28327983a7144dda802785386bf344e5",
       "value": "Select a detector type."
      }
     },
     "ed3c3afe7bb04260aa2cda37f2e479db": {
      "model_module": "@jupyter-widgets/controls",
      "model_module_version": "1.1.0",
      "model_name": "CheckboxModel",
      "state": {
       "description": "60°",
       "disabled": false,
       "layout": "IPY_MODEL_41e3926362f243e19a8320c94d209953",
       "style": "IPY_MODEL_25e876c3f90c4f3f8dfd969e5d91c1a4",
       "value": true
      }
     },
     "ed9b8aca428d4bfeb7962d86e3245961": {
      "model_module": "@jupyter-widgets/controls",
      "model_module_version": "1.1.0",
      "model_name": "CheckboxModel",
      "state": {
       "description": "80°",
       "disabled": false,
       "layout": "IPY_MODEL_234bc26d1bdc454db32ce045f42ba194",
       "style": "IPY_MODEL_0f09a72e9f9f4937bd8a9ecae88876c4",
       "value": true
      }
     },
     "edf26b31a5c04ae5ac5eb9360ccd15ef": {
      "model_module": "@jupyter-widgets/base",
      "model_module_version": "1.0.0",
      "model_name": "LayoutModel",
      "state": {}
     },
     "ee9508ad87874fd7b8be8d0efe9d98ad": {
      "model_module": "@jupyter-widgets/base",
      "model_module_version": "1.0.0",
      "model_name": "LayoutModel",
      "state": {}
     },
     "eefe43499ee44524b93df0bdab9d7141": {
      "model_module": "@jupyter-widgets/controls",
      "model_module_version": "1.1.0",
      "model_name": "DescriptionStyleModel",
      "state": {
       "description_width": ""
      }
     },
     "ef12815c062c4b8abf7c166758a426b0": {
      "model_module": "@jupyter-widgets/base",
      "model_module_version": "1.0.0",
      "model_name": "LayoutModel",
      "state": {}
     },
     "efdebc32c6d14475963f81083af48fc6": {
      "model_module": "@jupyter-widgets/controls",
      "model_module_version": "1.1.0",
      "model_name": "DescriptionStyleModel",
      "state": {
       "description_width": ""
      }
     },
     "f05a57fc2398413dacc5792e327cfeba": {
      "model_module": "@jupyter-widgets/controls",
      "model_module_version": "1.1.0",
      "model_name": "ToggleButtonsStyleModel",
      "state": {
       "button_width": "",
       "description_width": ""
      }
     },
     "f075aaa215ec4cfe944ca2bc67718f64": {
      "model_module": "@jupyter-widgets/base",
      "model_module_version": "1.0.0",
      "model_name": "LayoutModel",
      "state": {}
     },
     "f13b3349550249a7a8a8925ed41d5a03": {
      "model_module": "@jupyter-widgets/controls",
      "model_module_version": "1.1.0",
      "model_name": "DescriptionStyleModel",
      "state": {
       "description_width": ""
      }
     },
     "f198b3453e774f70bf273162d5d01d64": {
      "model_module": "@jupyter-widgets/base",
      "model_module_version": "1.0.0",
      "model_name": "LayoutModel",
      "state": {}
     },
     "f233b0f7df684cf19f9a4b1a0e80fc0f": {
      "model_module": "@jupyter-widgets/controls",
      "model_module_version": "1.1.0",
      "model_name": "DescriptionStyleModel",
      "state": {
       "description_width": ""
      }
     },
     "f2456de050614fe7ae7c3b92f8de9a80": {
      "model_module": "@jupyter-widgets/controls",
      "model_module_version": "1.1.0",
      "model_name": "LabelModel",
      "state": {
       "layout": "IPY_MODEL_1895e3bc6f044bb8afff35cdcfbc7aab",
       "style": "IPY_MODEL_efdebc32c6d14475963f81083af48fc6",
       "value": "Select upstream target mass thickness."
      }
     },
     "f2a30b5b168d4442829ced54e22cba51": {
      "model_module": "@jupyter-widgets/controls",
      "model_module_version": "1.1.0",
      "model_name": "CheckboxModel",
      "state": {
       "description": "32.7°",
       "disabled": false,
       "layout": "IPY_MODEL_5e26460dacad4849ad851395b6f30865",
       "style": "IPY_MODEL_70e3e49badd545ee81554cf95865dfb5",
       "value": true
      }
     },
     "f3ad70d074f14fb29d3e3e092c92e272": {
      "model_module": "@jupyter-widgets/base",
      "model_module_version": "1.0.0",
      "model_name": "LayoutModel",
      "state": {}
     },
     "f4124d13f85b4c338da0a16a8d35183d": {
      "model_module": "@jupyter-widgets/controls",
      "model_module_version": "1.1.0",
      "model_name": "ToggleButtonsModel",
      "state": {
       "_options_labels": [
        "20 g/cm²",
        "40 g/cm²",
        "60 g/cm²"
       ],
       "button_style": "",
       "description": "Thickness:",
       "icons": [],
       "index": 0,
       "layout": "IPY_MODEL_7751e08282f645879d45fa1ef176160c",
       "style": "IPY_MODEL_15a35212efc8475aaf0e98cf2b28246a",
       "tooltips": [
        "20 g/cm²",
        "40 g/cm²",
        "60 g/cm²"
       ]
      }
     },
     "f4462351516b49a5afd9a3b87837f79c": {
      "model_module": "@jupyter-widgets/controls",
      "model_module_version": "1.1.0",
      "model_name": "LabelModel",
      "state": {
       "layout": "IPY_MODEL_829f31e9b0c8410493c37e562657e989",
       "style": "IPY_MODEL_a311037077c543ca9c84276971387c3d",
       "value": "Select which sets of data to display."
      }
     },
     "f4bcbe0acbd54ece9fa7bc6babb7c729": {
      "model_module": "@jupyter-widgets/base",
      "model_module_version": "1.0.0",
      "model_name": "LayoutModel",
      "state": {}
     },
     "f4c2d755906e4acc82b4b2022cb7d83e": {
      "model_module": "@jupyter-widgets/base",
      "model_module_version": "1.0.0",
      "model_name": "LayoutModel",
      "state": {}
     },
     "f629ac463075401a82db4055047c696a": {
      "model_module": "@jupyter-widgets/controls",
      "model_module_version": "1.1.0",
      "model_name": "LabelModel",
      "state": {
       "layout": "IPY_MODEL_2b77daaeab2946b6ae613f67e7e60193",
       "style": "IPY_MODEL_dbf31784806148b18cf007b56b054246",
       "value": "Select which secondary particle to plot spectra for."
      }
     },
     "f6ec50c9f8d14d6f8261e916602e59c9": {
      "model_module": "@jupyter-widgets/controls",
      "model_module_version": "1.1.0",
      "model_name": "DescriptionStyleModel",
      "state": {
       "description_width": ""
      }
     },
     "f6f17ed301d94057a0bc97f27e6b7024": {
      "model_module": "@jupyter-widgets/base",
      "model_module_version": "1.0.0",
      "model_name": "LayoutModel",
      "state": {}
     },
     "f7774ba6a05344b1a3ec5335eb66bab7": {
      "model_module": "@jupyter-widgets/controls",
      "model_module_version": "1.1.0",
      "model_name": "ToggleButtonsModel",
      "state": {
       "_options_labels": [
        "N",
        "NDC",
        "P (¹ H)",
        "D (² H)",
        "T (³ H)",
        "S (³ He)",
        "A (⁴ He)"
       ],
       "button_style": "",
       "description": "Type:",
       "icons": [],
       "index": 0,
       "layout": "IPY_MODEL_193853f9a1684ec88fc80445d79e0ba9",
       "style": "IPY_MODEL_f05a57fc2398413dacc5792e327cfeba",
       "tooltips": [
        "Neutron",
        "Neutron (deconvoluted)",
        "Proton",
        "Deuteron",
        "Triton",
        "Helium-3",
        "Helium-4"
       ]
      }
     },
     "f7cd482253f94585a80d6bb115ec989f": {
      "model_module": "@jupyter-widgets/controls",
      "model_module_version": "1.1.0",
      "model_name": "DescriptionStyleModel",
      "state": {
       "description_width": ""
      }
     },
     "f8a211f64f1f4f378bcaa6dd3f50b1db": {
      "model_module": "@jupyter-widgets/controls",
      "model_module_version": "1.1.0",
      "model_name": "DescriptionStyleModel",
      "state": {
       "description_width": ""
      }
     },
     "f8c6878758504288a4ef98490a7bf179": {
      "model_module": "@jupyter-widgets/controls",
      "model_module_version": "1.1.0",
      "model_name": "ToggleButtonsStyleModel",
      "state": {
       "button_width": "",
       "description_width": ""
      }
     },
     "f96537a5e7dc4e1a98b108b6f8434a3b": {
      "model_module": "@jupyter-widgets/base",
      "model_module_version": "1.0.0",
      "model_name": "LayoutModel",
      "state": {}
     },
     "f9f8c52f431345f698c281574d22506e": {
      "model_module": "@jupyter-widgets/controls",
      "model_module_version": "1.1.0",
      "model_name": "CheckboxModel",
      "state": {
       "description": "60°",
       "disabled": false,
       "layout": "IPY_MODEL_a6511527a3ec4002aa89520eafdabe73",
       "style": "IPY_MODEL_adef8af3dbef49b5bf0fe6ddeef89d06",
       "value": true
      }
     },
     "fa9b0c391269426f8023ac94e5b71181": {
      "model_module": "@jupyter-widgets/controls",
      "model_module_version": "1.1.0",
      "model_name": "ToggleButtonsStyleModel",
      "state": {
       "button_width": "",
       "description_width": ""
      }
     },
     "fa9e86f21a4f40b6896d4d4df3581ea5": {
      "model_module": "@jupyter-widgets/base",
      "model_module_version": "1.0.0",
      "model_name": "LayoutModel",
      "state": {}
     },
     "fb4682e938f54eb68cf31372aa27daa2": {
      "model_module": "@jupyter-widgets/controls",
      "model_module_version": "1.1.0",
      "model_name": "CheckboxModel",
      "state": {
       "description": "7.2°",
       "disabled": false,
       "layout": "IPY_MODEL_fa9e86f21a4f40b6896d4d4df3581ea5",
       "style": "IPY_MODEL_3a19cc5c39f047ad823d1c15fd11c6ba",
       "value": true
      }
     },
     "fb9d46eb2d9f40789e7030ae2320e2fc": {
      "model_module": "@jupyter-widgets/controls",
      "model_module_version": "1.1.0",
      "model_name": "CheckboxModel",
      "state": {
       "description": "PHITS sim.",
       "disabled": false,
       "layout": "IPY_MODEL_ae58877b32bd4dd5ba8bfdb979bee38a",
       "style": "IPY_MODEL_0b9ff29894144d61b66453698de74215",
       "value": true
      }
     },
     "fbbb3d5744dd4f179f3cc78433cba9c1": {
      "model_module": "@jupyter-widgets/controls",
      "model_module_version": "1.1.0",
      "model_name": "LabelModel",
      "state": {
       "layout": "IPY_MODEL_04e0e02fd9424300a282ee8e21e6a088",
       "style": "IPY_MODEL_5af719f86866423986c2dfaf7aaf50e7",
       "value": "Select upstream target mass thickness."
      }
     },
     "fc3c7d1c3a824bc4a7ab4ae7d3a76502": {
      "model_module": "@jupyter-widgets/controls",
      "model_module_version": "1.1.0",
      "model_name": "DescriptionStyleModel",
      "state": {
       "description_width": ""
      }
     },
     "fe09287dcce44265aedb2fbe5024622d": {
      "model_module": "@jupyter-widgets/controls",
      "model_module_version": "1.1.0",
      "model_name": "DescriptionStyleModel",
      "state": {
       "description_width": ""
      }
     },
     "fe444945620d4fd68f0f58c5bde35180": {
      "model_module": "@jupyter-widgets/controls",
      "model_module_version": "1.1.0",
      "model_name": "CheckboxModel",
      "state": {
       "description": "135°",
       "disabled": false,
       "layout": "IPY_MODEL_f075aaa215ec4cfe944ca2bc67718f64",
       "style": "IPY_MODEL_c1b5218451a5463aaba4be6b444620f8",
       "value": true
      }
     },
     "fe5af945dcef46c08027357980776cea": {
      "model_module": "@jupyter-widgets/base",
      "model_module_version": "1.0.0",
      "model_name": "LayoutModel",
      "state": {}
     },
     "fec67650c81745c4b3f268ff4c7b72a6": {
      "model_module": "@jupyter-widgets/base",
      "model_module_version": "1.0.0",
      "model_name": "LayoutModel",
      "state": {}
     },
     "ff08751772c74d82b2870c4b2b9d7ac7": {
      "model_module": "@jupyter-widgets/controls",
      "model_module_version": "1.1.0",
      "model_name": "ToggleButtonsModel",
      "state": {
       "_options_labels": [
        "20 g/cm²",
        "60 g/cm²"
       ],
       "button_style": "",
       "description": "Thickness:",
       "icons": [],
       "index": 0,
       "layout": "IPY_MODEL_aae4adf9553e4a9096373ce3db4ba1e4",
       "style": "IPY_MODEL_9ca2baab08d14cfbbc0b308d87b7cf99",
       "tooltips": [
        "20 g/cm²",
        "60 g/cm²"
       ]
      }
     },
     "fff3f5f35d4b40bb988303683eb78bbb": {
      "model_module": "@jupyter-widgets/controls",
      "model_module_version": "1.1.0",
      "model_name": "ToggleButtonsModel",
      "state": {
       "_options_labels": [
        "H",
        "He",
        "C",
        "Si",
        "Fe"
       ],
       "button_style": "",
       "description": "Ion:",
       "icons": [],
       "index": 2,
       "layout": "IPY_MODEL_0b494dc80487406a9b61c6f01741dc0a",
       "style": "IPY_MODEL_120e79b40cc1437caea92ee8f745a440",
       "tooltips": [
        "Hydrogen",
        "Helium",
        "Carbon",
        "Silicon",
        "Iron"
       ]
      }
     },
     "fff6cf548d564635b9b9146c8655a150": {
      "model_module": "@jupyter-widgets/controls",
      "model_module_version": "1.1.0",
      "model_name": "DescriptionStyleModel",
      "state": {
       "description_width": ""
      }
     }
    },
    "version_major": 2,
    "version_minor": 0
   }
  }
 },
 "nbformat": 4,
 "nbformat_minor": 1
}
