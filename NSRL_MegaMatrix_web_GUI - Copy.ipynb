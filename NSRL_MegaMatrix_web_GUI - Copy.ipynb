{
 "cells": [
  {
   "cell_type": "code",
   "execution_count": 25,
   "metadata": {},
   "outputs": [
    {
     "data": {
      "text/html": [
       "<script>\n",
       "  function code_toggle() {\n",
       "    if (code_shown){\n",
       "      $('div.input').hide('500');\n",
       "      $('#toggleButton').val('Show Code')\n",
       "    } else {\n",
       "      $('div.input').show('500');\n",
       "      $('#toggleButton').val('Hide Code')\n",
       "    }\n",
       "    code_shown = !code_shown\n",
       "  }\n",
       "\n",
       "  $( document ).ready(function(){\n",
       "    code_shown=false;\n",
       "    $('div.input').hide()\n",
       "  });\n",
       "</script>\n",
       "<form action=\"javascript:code_toggle()\"><input type=\"submit\" id=\"toggleButton\" value=\"Show Code\"></form>"
      ],
      "text/plain": [
       "<IPython.core.display.HTML object>"
      ]
     },
     "execution_count": 25,
     "metadata": {},
     "output_type": "execute_result"
    }
   ],
   "source": [
    "%matplotlib notebook\n",
    "from IPython.display import HTML\n",
    "import numpy as np\n",
    "import matplotlib.pyplot as plt\n",
    "from matplotlib.collections import PatchCollection\n",
    "from matplotlib.patches import Rectangle\n",
    "import re\n",
    "from IPython.display import display\n",
    "import ipywidgets as widgets\n",
    "from IPython.display import Javascript\n",
    "\n",
    "HTML('''<script>\n",
    "  function code_toggle() {\n",
    "    if (code_shown){\n",
    "      $('div.input').hide('500');\n",
    "      $('#toggleButton').val('Show Code')\n",
    "    } else {\n",
    "      $('div.input').show('500');\n",
    "      $('#toggleButton').val('Hide Code')\n",
    "    }\n",
    "    code_shown = !code_shown\n",
    "  }\n",
    "\n",
    "  $( document ).ready(function(){\n",
    "    code_shown=false;\n",
    "    $('div.input').hide()\n",
    "  });\n",
    "</script>\n",
    "<form action=\"javascript:code_toggle()\"><input type=\"submit\" id=\"toggleButton\" value=\"Show Code\"></form>''')\n"
   ]
  },
  {
   "cell_type": "code",
   "execution_count": 140,
   "metadata": {
    "scrolled": true
   },
   "outputs": [
    {
     "data": {
      "application/vnd.jupyter.widget-view+json": {
       "model_id": "460ce3b671394e0fb4d90e68e0ecb1a1",
       "version_major": 2,
       "version_minor": 0
      },
      "text/html": [
       "<p>Failed to display Jupyter Widget of type <code>Label</code>.</p>\n",
       "<p>\n",
       "  If you're reading this message in the Jupyter Notebook or JupyterLab Notebook, it may mean\n",
       "  that the widgets JavaScript is still loading. If this message persists, it\n",
       "  likely means that the widgets JavaScript library is either not installed or\n",
       "  not enabled. See the <a href=\"https://ipywidgets.readthedocs.io/en/stable/user_install.html\">Jupyter\n",
       "  Widgets Documentation</a> for setup instructions.\n",
       "</p>\n",
       "<p>\n",
       "  If you're reading this message in another frontend (for example, a static\n",
       "  rendering on GitHub or <a href=\"https://nbviewer.jupyter.org/\">NBViewer</a>),\n",
       "  it may mean that your frontend doesn't currently support widgets.\n",
       "</p>\n"
      ],
      "text/plain": [
       "Label(value='Select projectile ion species and energy.')"
      ]
     },
     "metadata": {},
     "output_type": "display_data"
    },
    {
     "data": {
      "application/vnd.jupyter.widget-view+json": {
       "model_id": "10b5174f5704402a86d73d4e91ed9a69",
       "version_major": 2,
       "version_minor": 0
      },
      "text/html": [
       "<p>Failed to display Jupyter Widget of type <code>ToggleButtons</code>.</p>\n",
       "<p>\n",
       "  If you're reading this message in the Jupyter Notebook or JupyterLab Notebook, it may mean\n",
       "  that the widgets JavaScript is still loading. If this message persists, it\n",
       "  likely means that the widgets JavaScript library is either not installed or\n",
       "  not enabled. See the <a href=\"https://ipywidgets.readthedocs.io/en/stable/user_install.html\">Jupyter\n",
       "  Widgets Documentation</a> for setup instructions.\n",
       "</p>\n",
       "<p>\n",
       "  If you're reading this message in another frontend (for example, a static\n",
       "  rendering on GitHub or <a href=\"https://nbviewer.jupyter.org/\">NBViewer</a>),\n",
       "  it may mean that your frontend doesn't currently support widgets.\n",
       "</p>\n"
      ],
      "text/plain": [
       "ToggleButtons(description='Ion:', options=('H', 'He', 'C', 'Si', 'Fe'), tooltips=['Hydrogen', 'Helium', 'Carbon', 'Silicon', 'Iron'], value='H')"
      ]
     },
     "metadata": {},
     "output_type": "display_data"
    },
    {
     "data": {
      "application/javascript": [
       "IPython.notebook.execute_cells([IPython.notebook.get_selected_index()+1,6,7])"
      ],
      "text/plain": [
       "<IPython.core.display.Javascript object>"
      ]
     },
     "metadata": {},
     "output_type": "display_data"
    },
    {
     "data": {
      "application/javascript": [
       "IPython.notebook.execute_cells([IPython.notebook.get_selected_index()+1,6,7])"
      ],
      "text/plain": [
       "<IPython.core.display.Javascript object>"
      ]
     },
     "metadata": {},
     "output_type": "display_data"
    },
    {
     "data": {
      "application/javascript": [
       "IPython.notebook.execute_cells([IPython.notebook.get_selected_index()+1,6,7])"
      ],
      "text/plain": [
       "<IPython.core.display.Javascript object>"
      ]
     },
     "metadata": {},
     "output_type": "display_data"
    },
    {
     "data": {
      "application/javascript": [
       "IPython.notebook.execute_cells([IPython.notebook.get_selected_index()+1,6,7])"
      ],
      "text/plain": [
       "<IPython.core.display.Javascript object>"
      ]
     },
     "metadata": {},
     "output_type": "display_data"
    },
    {
     "data": {
      "application/javascript": [
       "IPython.notebook.execute_cells([IPython.notebook.get_selected_index()+1,6,7])"
      ],
      "text/plain": [
       "<IPython.core.display.Javascript object>"
      ]
     },
     "metadata": {},
     "output_type": "display_data"
    },
    {
     "data": {
      "application/javascript": [
       "IPython.notebook.execute_cells([IPython.notebook.get_selected_index()+1,6,7])"
      ],
      "text/plain": [
       "<IPython.core.display.Javascript object>"
      ]
     },
     "metadata": {},
     "output_type": "display_data"
    }
   ],
   "source": [
    "def find(target, myList):\n",
    "    for i in range(len(myList)):\n",
    "        if myList[i] == target:\n",
    "            return i       \n",
    "\n",
    "def on_click(change):\n",
    "    #display(Javascript('IPython.notebook.execute_cells_below()'))  \n",
    "    #display(Javascript('IPython.notebook.execute_cell_range(IPython.notebook.get_selected_index()+1, IPython.notebook.ncells())'))\n",
    "    #display(Javascript('IPython.notebook.execute_cell_range(IPython.notebook.get_selected_index()+1, 6)'))\n",
    "    display(Javascript('IPython.notebook.execute_cells'))\n",
    "\n",
    "def on_click_next(change):\n",
    "    display(Javascript('IPython.notebook.execute_cells([IPython.notebook.get_selected_index()+1])'))\n",
    "    \n",
    "def on_click_7(change):\n",
    "    display(Javascript('IPython.notebook.execute_cells([7])'))\n",
    "\n",
    "def on_click_67(change):\n",
    "    display(Javascript('IPython.notebook.execute_cells([6,7])'))\n",
    "    \n",
    "def on_click_next_67(change):\n",
    "    display(Javascript('IPython.notebook.execute_cells([IPython.notebook.get_selected_index()+1,6,7])'))\n",
    "    \n",
    "# Function to plot error boxes\n",
    "def makeErrorBoxes(xdata,ydata,xerror,yerror,fc='None',ec='k',alpha=1.0,lw=1):\n",
    "    # Create list for all the error patches\n",
    "    errorboxes = []\n",
    "\n",
    "    # Loop over data points; create box from errors at each point\n",
    "    for xc,yc,xe,ye in zip(xdata,ydata,xerror.T,yerror.T):\n",
    "        rect = Rectangle((xc-xe[0],yc-ye[0]),xe.sum(),ye.sum())\n",
    "        errorboxes.append(rect)\n",
    "\n",
    "    # Create patch collection with specified colour/alpha\n",
    "    pc = PatchCollection(errorboxes,facecolor=fc,alpha=alpha,edgecolor=ec,linewidth=lw)\n",
    "\n",
    "    # Add collection to axes\n",
    "    ax.add_collection(pc)    \n",
    "\n",
    "def detector_colors(di):\n",
    "    #colors_list = ['b','g','r','c','m','y'] # Python 3 old default\n",
    "    #colors_list = ['#b2182b','#d6604d','#f4a582','#92c5de','#4393c3','#2166ac'] # blue to red cold\n",
    "    #colors_list = ['#d73027','#f46d43','#fdae61','#abd9e9','#74add1','#4575b4'] # blue to red warm\n",
    "    #colors_list = ['#762a83','#9970ab','#c2a5cf','#a6dba0','#5aae61','#1b7837'] # purple to green\n",
    "    #colors_list = ['#40004b','#762a83','#9970ab','#5aae61','#1b7837','#00441b'] # purple to green darker\n",
    "    #colors_list = [\"#afa83a\",\"#7f63b8\",\"#56ae6c\",\"#b84c7d\",\"#ac863f\",\"#b94d3d\"] # iWantHue 1\n",
    "    #colors_list = ['#1b9e77','#d95f02','#7570b3','#e7298a','#66a61e','#e6ab02'] # qualitative dark 1\n",
    "    colors_list = ['#e41a1c','#377eb8','#4daf4a','#984ea3','#ff7f00','#a65628'] # qualitative dark 2\n",
    "    return colors_list[di]\n",
    "    \n",
    "    \n",
    "    \n",
    "data_version = 'v7b'\n",
    "\n",
    "metadata_file = 'metadata_matrix_' + data_version + '.npy'\n",
    "mm_metadata = np.load(metadata_file) # data set, ion species, ion energy, target material, target thickness, secondary particle, detector, header meta data\n",
    "exists_file = 'exists_matrix_' + data_version + '.npy'\n",
    "mm_exists = np.load(exists_file) # data set, ion species, ion energy, target material, target thickness, secondary particle, detector\n",
    "\n",
    "#values_file = 'values_matrix_' + data_version + '.npy'\n",
    "#mm_values = np.load(values_file) # data set, ion species, ion energy, target material, target thickness, secondary particle, detector, column values, energy bins\n",
    "\n",
    "#print(mm_metadata[0,0,0,0,0,0,0,0])\n",
    "\n",
    "projectile_sym_str = ['H', 'He', 'C', 'Si', 'Fe']\n",
    "projectile_longnames_str = ['Hydrogen', 'Helium', 'Carbon', 'Silicon', 'Iron']\n",
    "\n",
    "mm_values_names_list = []\n",
    "for i in range(5):\n",
    "    mm_values_names_list.append('values_matrix_' + projectile_sym_str[i].lower() + \"_\" + data_version + '.npy')\n",
    "\n",
    "is_label = widgets.Label(value=\"Select projectile ion species and energy.\")\n",
    "    \n",
    "ion_species = widgets.ToggleButtons(\n",
    "    options=projectile_sym_str,\n",
    "    description='Ion:',\n",
    "    disabled=False,\n",
    "    button_style='', # 'success', 'info', 'warning', 'danger' or ''\n",
    "    tooltips=projectile_longnames_str,\n",
    "#     icons=['check'] * 5\n",
    ")\n",
    "\n",
    "ion_species.observe(on_click_next_67, 'value')\n",
    "display(is_label,ion_species)\n"
   ]
  },
  {
   "cell_type": "code",
   "execution_count": 229,
   "metadata": {},
   "outputs": [
    {
     "data": {
      "application/vnd.jupyter.widget-view+json": {
       "model_id": "c255a0a335244efe86fcb5418d8ae419",
       "version_major": 2,
       "version_minor": 0
      },
      "text/html": [
       "<p>Failed to display Jupyter Widget of type <code>ToggleButtons</code>.</p>\n",
       "<p>\n",
       "  If you're reading this message in the Jupyter Notebook or JupyterLab Notebook, it may mean\n",
       "  that the widgets JavaScript is still loading. If this message persists, it\n",
       "  likely means that the widgets JavaScript library is either not installed or\n",
       "  not enabled. See the <a href=\"https://ipywidgets.readthedocs.io/en/stable/user_install.html\">Jupyter\n",
       "  Widgets Documentation</a> for setup instructions.\n",
       "</p>\n",
       "<p>\n",
       "  If you're reading this message in another frontend (for example, a static\n",
       "  rendering on GitHub or <a href=\"https://nbviewer.jupyter.org/\">NBViewer</a>),\n",
       "  it may mean that your frontend doesn't currently support widgets.\n",
       "</p>\n"
      ],
      "text/plain": [
       "ToggleButtons(description='Energy:', options=('400 MeV/n', '800 MeV/n', '1500 MeV/n'), tooltips=['lowest energy', 'middle energy', 'highest energy'], value='400 MeV/n')"
      ]
     },
     "metadata": {},
     "output_type": "display_data"
    }
   ],
   "source": [
    "isi = find(ion_species.value,projectile_sym_str)\n",
    "mm_values = np.load(mm_values_names_list[isi])\n",
    "\n",
    "def erg_options(isi):\n",
    "    if isi == 0:\n",
    "        proj_E = ['400 MeV','800 MeV','2500 MeV']\n",
    "    else:\n",
    "        proj_E = ['400 MeV/n','800 MeV/n','1500 MeV/n']\n",
    "    return proj_E\n",
    "\n",
    "Projectile_E_tooltips = ['lowest energy','middle energy', 'highest energy']\n",
    "\n",
    "ie_label = widgets.Label(value=\"Select projectile ion energy.\")\n",
    "\n",
    "ion_energy = widgets.ToggleButtons(\n",
    "    options=erg_options(isi),\n",
    "    description='Energy:',\n",
    "    disabled=False,\n",
    "    button_style='', # 'success', 'info', 'warning', 'danger' or ''\n",
    "    tooltips=Projectile_E_tooltips,\n",
    "#     icons=['check'] * 5\n",
    ")\n",
    "\n",
    "ion_energy.observe(on_click_67, 'value')\n",
    "#display(ie_label, ion_energy)\n",
    "display(ion_energy)\n"
   ]
  },
  {
   "cell_type": "code",
   "execution_count": 142,
   "metadata": {},
   "outputs": [
    {
     "data": {
      "application/vnd.jupyter.widget-view+json": {
       "model_id": "729a98f1325a4d999226899a9bb9a92b",
       "version_major": 2,
       "version_minor": 0
      },
      "text/html": [
       "<p>Failed to display Jupyter Widget of type <code>Label</code>.</p>\n",
       "<p>\n",
       "  If you're reading this message in the Jupyter Notebook or JupyterLab Notebook, it may mean\n",
       "  that the widgets JavaScript is still loading. If this message persists, it\n",
       "  likely means that the widgets JavaScript library is either not installed or\n",
       "  not enabled. See the <a href=\"https://ipywidgets.readthedocs.io/en/stable/user_install.html\">Jupyter\n",
       "  Widgets Documentation</a> for setup instructions.\n",
       "</p>\n",
       "<p>\n",
       "  If you're reading this message in another frontend (for example, a static\n",
       "  rendering on GitHub or <a href=\"https://nbviewer.jupyter.org/\">NBViewer</a>),\n",
       "  it may mean that your frontend doesn't currently support widgets.\n",
       "</p>\n"
      ],
      "text/plain": [
       "Label(value='Select upstream target material and thickness.')"
      ]
     },
     "metadata": {},
     "output_type": "display_data"
    },
    {
     "data": {
      "application/vnd.jupyter.widget-view+json": {
       "model_id": "85f0ea9b01d04439960012244a15a7f1",
       "version_major": 2,
       "version_minor": 0
      },
      "text/html": [
       "<p>Failed to display Jupyter Widget of type <code>ToggleButtons</code>.</p>\n",
       "<p>\n",
       "  If you're reading this message in the Jupyter Notebook or JupyterLab Notebook, it may mean\n",
       "  that the widgets JavaScript is still loading. If this message persists, it\n",
       "  likely means that the widgets JavaScript library is either not installed or\n",
       "  not enabled. See the <a href=\"https://ipywidgets.readthedocs.io/en/stable/user_install.html\">Jupyter\n",
       "  Widgets Documentation</a> for setup instructions.\n",
       "</p>\n",
       "<p>\n",
       "  If you're reading this message in another frontend (for example, a static\n",
       "  rendering on GitHub or <a href=\"https://nbviewer.jupyter.org/\">NBViewer</a>),\n",
       "  it may mean that your frontend doesn't currently support widgets.\n",
       "</p>\n"
      ],
      "text/plain": [
       "ToggleButtons(description='Material:', options=('Al', 'HDPE', 'AlPE'), tooltips=['Aluminum', 'Polyethylene', 'Combination of Al and HDPE'], value='Al')"
      ]
     },
     "metadata": {},
     "output_type": "display_data"
    },
    {
     "data": {
      "application/javascript": [
       "IPython.notebook.execute_cells([IPython.notebook.get_selected_index()+1,6,7])"
      ],
      "text/plain": [
       "<IPython.core.display.Javascript object>"
      ]
     },
     "metadata": {},
     "output_type": "display_data"
    },
    {
     "data": {
      "application/javascript": [
       "IPython.notebook.execute_cells([IPython.notebook.get_selected_index()+1,6,7])"
      ],
      "text/plain": [
       "<IPython.core.display.Javascript object>"
      ]
     },
     "metadata": {},
     "output_type": "display_data"
    },
    {
     "data": {
      "application/javascript": [
       "IPython.notebook.execute_cells([IPython.notebook.get_selected_index()+1,6,7])"
      ],
      "text/plain": [
       "<IPython.core.display.Javascript object>"
      ]
     },
     "metadata": {},
     "output_type": "display_data"
    },
    {
     "data": {
      "application/javascript": [
       "IPython.notebook.execute_cells([IPython.notebook.get_selected_index()+1,6,7])"
      ],
      "text/plain": [
       "<IPython.core.display.Javascript object>"
      ]
     },
     "metadata": {},
     "output_type": "display_data"
    },
    {
     "data": {
      "application/javascript": [
       "IPython.notebook.execute_cells([IPython.notebook.get_selected_index()+1,6,7])"
      ],
      "text/plain": [
       "<IPython.core.display.Javascript object>"
      ]
     },
     "metadata": {},
     "output_type": "display_data"
    },
    {
     "data": {
      "application/javascript": [
       "IPython.notebook.execute_cells([IPython.notebook.get_selected_index()+1,6,7])"
      ],
      "text/plain": [
       "<IPython.core.display.Javascript object>"
      ]
     },
     "metadata": {},
     "output_type": "display_data"
    },
    {
     "data": {
      "application/javascript": [
       "IPython.notebook.execute_cells([IPython.notebook.get_selected_index()+1,6,7])"
      ],
      "text/plain": [
       "<IPython.core.display.Javascript object>"
      ]
     },
     "metadata": {},
     "output_type": "display_data"
    },
    {
     "data": {
      "application/javascript": [
       "IPython.notebook.execute_cells([IPython.notebook.get_selected_index()+1,6,7])"
      ],
      "text/plain": [
       "<IPython.core.display.Javascript object>"
      ]
     },
     "metadata": {},
     "output_type": "display_data"
    }
   ],
   "source": [
    "isi = find(ion_species.value,projectile_sym_str)\n",
    "iei = find(ion_energy.value,erg_options(isi))\n",
    "\n",
    "target_mats_long = ['Aluminum','Polyethylene','Combination of Al and HDPE']\n",
    "target_mats_short = ['Al','HDPE','AlPE']\n",
    "\n",
    "tm_label = widgets.Label(value=\"Select upstream target material and thickness.\")\n",
    "\n",
    "target_material = widgets.ToggleButtons(\n",
    "    options=target_mats_short,\n",
    "    description='Material:',\n",
    "    disabled=False,\n",
    "    button_style='', # 'success', 'info', 'warning', 'danger' or ''\n",
    "    tooltips=target_mats_long,\n",
    "#     icons=['check'] * 3\n",
    ")\n",
    "\n",
    "target_material.observe(on_click_next_67, 'value')\n",
    "display(tm_label, target_material)"
   ]
  },
  {
   "cell_type": "code",
   "execution_count": 225,
   "metadata": {},
   "outputs": [
    {
     "data": {
      "application/vnd.jupyter.widget-view+json": {
       "model_id": "55d8ef65507a44f09cad7a9b2ece517c",
       "version_major": 2,
       "version_minor": 0
      },
      "text/html": [
       "<p>Failed to display Jupyter Widget of type <code>ToggleButtons</code>.</p>\n",
       "<p>\n",
       "  If you're reading this message in the Jupyter Notebook or JupyterLab Notebook, it may mean\n",
       "  that the widgets JavaScript is still loading. If this message persists, it\n",
       "  likely means that the widgets JavaScript library is either not installed or\n",
       "  not enabled. See the <a href=\"https://ipywidgets.readthedocs.io/en/stable/user_install.html\">Jupyter\n",
       "  Widgets Documentation</a> for setup instructions.\n",
       "</p>\n",
       "<p>\n",
       "  If you're reading this message in another frontend (for example, a static\n",
       "  rendering on GitHub or <a href=\"https://nbviewer.jupyter.org/\">NBViewer</a>),\n",
       "  it may mean that your frontend doesn't currently support widgets.\n",
       "</p>\n"
      ],
      "text/plain": [
       "ToggleButtons(description='Thickness:', options=('20 g/cm²', '40 g/cm²', '60 g/cm²'), tooltips=['20 g/cm² Polyethylene', '40 g/cm² Polyethylene', '60 g/cm² Polyethylene'], value='20 g/cm²')"
      ]
     },
     "metadata": {},
     "output_type": "display_data"
    }
   ],
   "source": [
    "isi = find(ion_species.value,projectile_sym_str)\n",
    "iei = find(ion_energy.value,erg_options(isi))\n",
    "ftmi = find(target_material.value,target_mats_short)\n",
    "thicknesses = ['20 g/cm\\u00B2','40 g/cm\\u00B2','60 g/cm\\u00B2']\n",
    "def thickness_options(ftmi):\n",
    "    if ftmi == 2:\n",
    "        thicknesses = ['20 g/cm\\u00B2','60 g/cm\\u00B2']\n",
    "        thick_mouseover = ['10 g/cm\\u00B2 Al upstream + 10 g/cm\\u00B2 HDPE downstream','10 g/cm\\u00B2 Al upstream + 50 g/cm\\u00B2 HDPE downstream']\n",
    "    else:\n",
    "        thicknesses = ['20 g/cm\\u00B2','40 g/cm\\u00B2','60 g/cm\\u00B2']\n",
    "        thick_mouseover = ['20 g/cm\\u00B2 '+target_mats_long[ftmi],'40 g/cm\\u00B2 '+target_mats_long[ftmi],'60 g/cm\\u00B2 '+target_mats_long[ftmi]]\n",
    "    return thicknesses, thick_mouseover\n",
    "\n",
    "tt_label = widgets.Label(value=\"Select upstream target mass thickness.\")\n",
    "\n",
    "target_thickness = widgets.ToggleButtons(\n",
    "    options=thickness_options(ftmi)[0],\n",
    "    description='Thickness:',\n",
    "    disabled=False,\n",
    "    button_style='', # 'success', 'info', 'warning', 'danger' or ''\n",
    "    tooltips=thickness_options(ftmi)[1],\n",
    "#     icons=['check'] * 3\n",
    ")\n",
    "\n",
    "target_thickness.observe(on_click_67, 'value')\n",
    "#display(tt_label, target_thickness)\n",
    "display(target_thickness)"
   ]
  },
  {
   "cell_type": "code",
   "execution_count": 144,
   "metadata": {},
   "outputs": [
    {
     "data": {
      "application/vnd.jupyter.widget-view+json": {
       "model_id": "1d31e76992c649269674affbdb7f13f9",
       "version_major": 2,
       "version_minor": 0
      },
      "text/html": [
       "<p>Failed to display Jupyter Widget of type <code>Label</code>.</p>\n",
       "<p>\n",
       "  If you're reading this message in the Jupyter Notebook or JupyterLab Notebook, it may mean\n",
       "  that the widgets JavaScript is still loading. If this message persists, it\n",
       "  likely means that the widgets JavaScript library is either not installed or\n",
       "  not enabled. See the <a href=\"https://ipywidgets.readthedocs.io/en/stable/user_install.html\">Jupyter\n",
       "  Widgets Documentation</a> for setup instructions.\n",
       "</p>\n",
       "<p>\n",
       "  If you're reading this message in another frontend (for example, a static\n",
       "  rendering on GitHub or <a href=\"https://nbviewer.jupyter.org/\">NBViewer</a>),\n",
       "  it may mean that your frontend doesn't currently support widgets.\n",
       "</p>\n"
      ],
      "text/plain": [
       "Label(value='Select a detector type.')"
      ]
     },
     "metadata": {},
     "output_type": "display_data"
    },
    {
     "data": {
      "application/vnd.jupyter.widget-view+json": {
       "model_id": "0f9992dd76184f00ba451e0667393955",
       "version_major": 2,
       "version_minor": 0
      },
      "text/html": [
       "<p>Failed to display Jupyter Widget of type <code>ToggleButtons</code>.</p>\n",
       "<p>\n",
       "  If you're reading this message in the Jupyter Notebook or JupyterLab Notebook, it may mean\n",
       "  that the widgets JavaScript is still loading. If this message persists, it\n",
       "  likely means that the widgets JavaScript library is either not installed or\n",
       "  not enabled. See the <a href=\"https://ipywidgets.readthedocs.io/en/stable/user_install.html\">Jupyter\n",
       "  Widgets Documentation</a> for setup instructions.\n",
       "</p>\n",
       "<p>\n",
       "  If you're reading this message in another frontend (for example, a static\n",
       "  rendering on GitHub or <a href=\"https://nbviewer.jupyter.org/\">NBViewer</a>),\n",
       "  it may mean that your frontend doesn't currently support widgets.\n",
       "</p>\n"
      ],
      "text/plain": [
       "ToggleButtons(description='Type:', options=('OLS', 'NaI'), tooltips=['Organic Liquid Scintillator', 'Sodium Iodide'], value='OLS')"
      ]
     },
     "metadata": {},
     "output_type": "display_data"
    },
    {
     "data": {
      "application/javascript": [
       "IPython.notebook.execute_cells([6,7])"
      ],
      "text/plain": [
       "<IPython.core.display.Javascript object>"
      ]
     },
     "metadata": {},
     "output_type": "display_data"
    },
    {
     "data": {
      "application/javascript": [
       "IPython.notebook.execute_cells([6,7])"
      ],
      "text/plain": [
       "<IPython.core.display.Javascript object>"
      ]
     },
     "metadata": {},
     "output_type": "display_data"
    }
   ],
   "source": [
    "isi = find(ion_species.value,projectile_sym_str)\n",
    "iei = find(ion_energy.value,erg_options(isi))\n",
    "ftmi = find(target_material.value,target_mats_short)\n",
    "ftti = find(target_thickness.value,thicknesses)\n",
    "\n",
    "detectors_short = ['OLS','NaI']\n",
    "detectors_long = ['Organic Liquid Scintillator','Sodium Iodide']\n",
    "\n",
    "dt_label = widgets.Label(value=\"Select a detector type.\")\n",
    "\n",
    "detector_type = widgets.ToggleButtons(\n",
    "    options=detectors_short,\n",
    "    description='Type:',\n",
    "    disabled=False,\n",
    "    button_style='', # 'success', 'info', 'warning', 'danger' or ''\n",
    "    tooltips=detectors_long,\n",
    "#     icons=['check'] * 3\n",
    ")\n",
    "\n",
    "detector_type.observe(on_click_67, 'value')\n",
    "display(dt_label,detector_type)"
   ]
  },
  {
   "cell_type": "code",
   "execution_count": 230,
   "metadata": {},
   "outputs": [
    {
     "data": {
      "application/vnd.jupyter.widget-view+json": {
       "model_id": "283eec98d9de4335939dc4e07d8c511b",
       "version_major": 2,
       "version_minor": 0
      },
      "text/html": [
       "<p>Failed to display Jupyter Widget of type <code>Label</code>.</p>\n",
       "<p>\n",
       "  If you're reading this message in the Jupyter Notebook or JupyterLab Notebook, it may mean\n",
       "  that the widgets JavaScript is still loading. If this message persists, it\n",
       "  likely means that the widgets JavaScript library is either not installed or\n",
       "  not enabled. See the <a href=\"https://ipywidgets.readthedocs.io/en/stable/user_install.html\">Jupyter\n",
       "  Widgets Documentation</a> for setup instructions.\n",
       "</p>\n",
       "<p>\n",
       "  If you're reading this message in another frontend (for example, a static\n",
       "  rendering on GitHub or <a href=\"https://nbviewer.jupyter.org/\">NBViewer</a>),\n",
       "  it may mean that your frontend doesn't currently support widgets.\n",
       "</p>\n"
      ],
      "text/plain": [
       "Label(value='Select which secondary particle to plot spectra for.')"
      ]
     },
     "metadata": {},
     "output_type": "display_data"
    },
    {
     "data": {
      "application/vnd.jupyter.widget-view+json": {
       "model_id": "fd910d93869945a192b02f432903701e",
       "version_major": 2,
       "version_minor": 0
      },
      "text/html": [
       "<p>Failed to display Jupyter Widget of type <code>ToggleButtons</code>.</p>\n",
       "<p>\n",
       "  If you're reading this message in the Jupyter Notebook or JupyterLab Notebook, it may mean\n",
       "  that the widgets JavaScript is still loading. If this message persists, it\n",
       "  likely means that the widgets JavaScript library is either not installed or\n",
       "  not enabled. See the <a href=\"https://ipywidgets.readthedocs.io/en/stable/user_install.html\">Jupyter\n",
       "  Widgets Documentation</a> for setup instructions.\n",
       "</p>\n",
       "<p>\n",
       "  If you're reading this message in another frontend (for example, a static\n",
       "  rendering on GitHub or <a href=\"https://nbviewer.jupyter.org/\">NBViewer</a>),\n",
       "  it may mean that your frontend doesn't currently support widgets.\n",
       "</p>\n"
      ],
      "text/plain": [
       "ToggleButtons(description='Particle:', options=('N (¹n)', 'NDC (¹n)'), tooltips=['Neutron', 'Back Target Neutron'], value='N (¹n)')"
      ]
     },
     "metadata": {},
     "output_type": "display_data"
    }
   ],
   "source": [
    "isi = find(ion_species.value,projectile_sym_str)\n",
    "iei = find(ion_energy.value,erg_options(isi))\n",
    "ftmi = find(target_material.value,target_mats_short)\n",
    "ftti = find(target_thickness.value,thicknesses)\n",
    "detti = find(detector_type.value,detectors_short)\n",
    "if detti==1: \n",
    "    add2deti = 6 # offset in matrix for NaI detectors\n",
    "else:\n",
    "    add2deti = 0 \n",
    "\n",
    "# See which secondary particles exist\n",
    "existing_pars_i = []\n",
    "for i in range(np.shape(mm_exists[0,isi,iei,ftmi,ftti,:,add2deti:(add2deti+6)])[0]):\n",
    "    if np.any(mm_exists[0,isi,iei,ftmi,ftti,i,add2deti:(add2deti+6)]):\n",
    "        existing_pars_i.append(i)\n",
    "        \n",
    "particles_long = ['Neutron','Back Target Neutron','Proton','Deuteron','Triton','Helium-3','Helium-4'] # second 'Neutron' can be renamed to specify deconvoluted origin\n",
    "particles_short = ['N','NDC','H','D','T','S','A']\n",
    "particles_med = ['N (\\u00B9n)','NDC (\\u00B9n)','P (\\u00B9H)','D (\\u00B2H)','T (\\u00B3H)','S (\\u00B3He)','A (\\u2074He)']\n",
    "\n",
    "present_pars_long = [particles_long[i] for i in existing_pars_i]\n",
    "present_pars_med = [particles_med[i] for i in existing_pars_i]\n",
    "\n",
    "sp_label = widgets.Label(value=\"Select which secondary particle to plot spectra for.\")\n",
    "\n",
    "secondary_particle = widgets.ToggleButtons(\n",
    "    options=present_pars_med,\n",
    "    description='Particle:',\n",
    "    disabled=False,\n",
    "    button_style='', # 'success', 'info', 'warning', 'danger' or ''\n",
    "    tooltips=present_pars_long,\n",
    "#     icons=['check'] * 3\n",
    ")\n",
    "\n",
    "secondary_particle.observe(on_click_next, 'value')\n",
    "display(sp_label,secondary_particle)\n"
   ]
  },
  {
   "cell_type": "code",
   "execution_count": 231,
   "metadata": {},
   "outputs": [
    {
     "data": {
      "application/vnd.jupyter.widget-view+json": {
       "model_id": "19925c1c4a19433c81df1be94189b493",
       "version_major": 2,
       "version_minor": 0
      },
      "text/html": [
       "<p>Failed to display Jupyter Widget of type <code>Label</code>.</p>\n",
       "<p>\n",
       "  If you're reading this message in the Jupyter Notebook or JupyterLab Notebook, it may mean\n",
       "  that the widgets JavaScript is still loading. If this message persists, it\n",
       "  likely means that the widgets JavaScript library is either not installed or\n",
       "  not enabled. See the <a href=\"https://ipywidgets.readthedocs.io/en/stable/user_install.html\">Jupyter\n",
       "  Widgets Documentation</a> for setup instructions.\n",
       "</p>\n",
       "<p>\n",
       "  If you're reading this message in another frontend (for example, a static\n",
       "  rendering on GitHub or <a href=\"https://nbviewer.jupyter.org/\">NBViewer</a>),\n",
       "  it may mean that your frontend doesn't currently support widgets.\n",
       "</p>\n"
      ],
      "text/plain": [
       "Label(value='Select the detector angles to plot.')"
      ]
     },
     "metadata": {},
     "output_type": "display_data"
    },
    {
     "data": {
      "application/vnd.jupyter.widget-view+json": {
       "model_id": "69986f8750634e4c97f2046d65d467f3",
       "version_major": 2,
       "version_minor": 0
      },
      "text/html": [
       "<p>Failed to display Jupyter Widget of type <code>Checkbox</code>.</p>\n",
       "<p>\n",
       "  If you're reading this message in the Jupyter Notebook or JupyterLab Notebook, it may mean\n",
       "  that the widgets JavaScript is still loading. If this message persists, it\n",
       "  likely means that the widgets JavaScript library is either not installed or\n",
       "  not enabled. See the <a href=\"https://ipywidgets.readthedocs.io/en/stable/user_install.html\">Jupyter\n",
       "  Widgets Documentation</a> for setup instructions.\n",
       "</p>\n",
       "<p>\n",
       "  If you're reading this message in another frontend (for example, a static\n",
       "  rendering on GitHub or <a href=\"https://nbviewer.jupyter.org/\">NBViewer</a>),\n",
       "  it may mean that your frontend doesn't currently support widgets.\n",
       "</p>\n"
      ],
      "text/plain": [
       "Checkbox(value=True, description='10°')"
      ]
     },
     "metadata": {},
     "output_type": "display_data"
    },
    {
     "data": {
      "application/vnd.jupyter.widget-view+json": {
       "model_id": "12f05d9d46874351935efa6fede6ffeb",
       "version_major": 2,
       "version_minor": 0
      },
      "text/html": [
       "<p>Failed to display Jupyter Widget of type <code>Checkbox</code>.</p>\n",
       "<p>\n",
       "  If you're reading this message in the Jupyter Notebook or JupyterLab Notebook, it may mean\n",
       "  that the widgets JavaScript is still loading. If this message persists, it\n",
       "  likely means that the widgets JavaScript library is either not installed or\n",
       "  not enabled. See the <a href=\"https://ipywidgets.readthedocs.io/en/stable/user_install.html\">Jupyter\n",
       "  Widgets Documentation</a> for setup instructions.\n",
       "</p>\n",
       "<p>\n",
       "  If you're reading this message in another frontend (for example, a static\n",
       "  rendering on GitHub or <a href=\"https://nbviewer.jupyter.org/\">NBViewer</a>),\n",
       "  it may mean that your frontend doesn't currently support widgets.\n",
       "</p>\n"
      ],
      "text/plain": [
       "Checkbox(value=True, description='30°')"
      ]
     },
     "metadata": {},
     "output_type": "display_data"
    },
    {
     "data": {
      "application/vnd.jupyter.widget-view+json": {
       "model_id": "d63e1136b6de4da793a771609aa88802",
       "version_major": 2,
       "version_minor": 0
      },
      "text/html": [
       "<p>Failed to display Jupyter Widget of type <code>Checkbox</code>.</p>\n",
       "<p>\n",
       "  If you're reading this message in the Jupyter Notebook or JupyterLab Notebook, it may mean\n",
       "  that the widgets JavaScript is still loading. If this message persists, it\n",
       "  likely means that the widgets JavaScript library is either not installed or\n",
       "  not enabled. See the <a href=\"https://ipywidgets.readthedocs.io/en/stable/user_install.html\">Jupyter\n",
       "  Widgets Documentation</a> for setup instructions.\n",
       "</p>\n",
       "<p>\n",
       "  If you're reading this message in another frontend (for example, a static\n",
       "  rendering on GitHub or <a href=\"https://nbviewer.jupyter.org/\">NBViewer</a>),\n",
       "  it may mean that your frontend doesn't currently support widgets.\n",
       "</p>\n"
      ],
      "text/plain": [
       "Checkbox(value=True, description='45°')"
      ]
     },
     "metadata": {},
     "output_type": "display_data"
    },
    {
     "data": {
      "application/vnd.jupyter.widget-view+json": {
       "model_id": "424923f8821a47e0801f99a3863e7c9e",
       "version_major": 2,
       "version_minor": 0
      },
      "text/html": [
       "<p>Failed to display Jupyter Widget of type <code>Checkbox</code>.</p>\n",
       "<p>\n",
       "  If you're reading this message in the Jupyter Notebook or JupyterLab Notebook, it may mean\n",
       "  that the widgets JavaScript is still loading. If this message persists, it\n",
       "  likely means that the widgets JavaScript library is either not installed or\n",
       "  not enabled. See the <a href=\"https://ipywidgets.readthedocs.io/en/stable/user_install.html\">Jupyter\n",
       "  Widgets Documentation</a> for setup instructions.\n",
       "</p>\n",
       "<p>\n",
       "  If you're reading this message in another frontend (for example, a static\n",
       "  rendering on GitHub or <a href=\"https://nbviewer.jupyter.org/\">NBViewer</a>),\n",
       "  it may mean that your frontend doesn't currently support widgets.\n",
       "</p>\n"
      ],
      "text/plain": [
       "Checkbox(value=True, description='60°')"
      ]
     },
     "metadata": {},
     "output_type": "display_data"
    },
    {
     "data": {
      "application/vnd.jupyter.widget-view+json": {
       "model_id": "8d38a04f684342d7850ae0e71107a1a3",
       "version_major": 2,
       "version_minor": 0
      },
      "text/html": [
       "<p>Failed to display Jupyter Widget of type <code>Checkbox</code>.</p>\n",
       "<p>\n",
       "  If you're reading this message in the Jupyter Notebook or JupyterLab Notebook, it may mean\n",
       "  that the widgets JavaScript is still loading. If this message persists, it\n",
       "  likely means that the widgets JavaScript library is either not installed or\n",
       "  not enabled. See the <a href=\"https://ipywidgets.readthedocs.io/en/stable/user_install.html\">Jupyter\n",
       "  Widgets Documentation</a> for setup instructions.\n",
       "</p>\n",
       "<p>\n",
       "  If you're reading this message in another frontend (for example, a static\n",
       "  rendering on GitHub or <a href=\"https://nbviewer.jupyter.org/\">NBViewer</a>),\n",
       "  it may mean that your frontend doesn't currently support widgets.\n",
       "</p>\n"
      ],
      "text/plain": [
       "Checkbox(value=True, description='80°')"
      ]
     },
     "metadata": {},
     "output_type": "display_data"
    },
    {
     "data": {
      "application/vnd.jupyter.widget-view+json": {
       "model_id": "e9ef8103596541f699aeb04002dd5acb",
       "version_major": 2,
       "version_minor": 0
      },
      "text/html": [
       "<p>Failed to display Jupyter Widget of type <code>Checkbox</code>.</p>\n",
       "<p>\n",
       "  If you're reading this message in the Jupyter Notebook or JupyterLab Notebook, it may mean\n",
       "  that the widgets JavaScript is still loading. If this message persists, it\n",
       "  likely means that the widgets JavaScript library is either not installed or\n",
       "  not enabled. See the <a href=\"https://ipywidgets.readthedocs.io/en/stable/user_install.html\">Jupyter\n",
       "  Widgets Documentation</a> for setup instructions.\n",
       "</p>\n",
       "<p>\n",
       "  If you're reading this message in another frontend (for example, a static\n",
       "  rendering on GitHub or <a href=\"https://nbviewer.jupyter.org/\">NBViewer</a>),\n",
       "  it may mean that your frontend doesn't currently support widgets.\n",
       "</p>\n"
      ],
      "text/plain": [
       "Checkbox(value=True, description='135°')"
      ]
     },
     "metadata": {},
     "output_type": "display_data"
    }
   ],
   "source": [
    "isi = find(ion_species.value,projectile_sym_str)\n",
    "iei = find(ion_energy.value,erg_options(isi))\n",
    "ftmi = find(target_material.value,target_mats_short)\n",
    "ftti = find(target_thickness.value,thicknesses)\n",
    "detti = find(detector_type.value,detectors_short)\n",
    "spi = find(secondary_particle.value,particles_med)\n",
    "\n",
    "detectors_angles = [['10\\u00B0','30\\u00B0','45\\u00B0','60\\u00B0','80\\u00B0','135\\u00B0'], ['7.2\\u00B0','10\\u00B0','12.7\\u00B0','28.2\\u00B0','30\\u00B0','32.7\\u00B0']]\n",
    "available_det_angles = []\n",
    "\n",
    "da_label = widgets.Label(value=\"Select the detector angles to plot.\")\n",
    "\n",
    "dets = []\n",
    "for i in range(6):\n",
    "    if mm_exists[0,isi,iei,ftmi,ftti,spi,(add2deti+i)]:\n",
    "        available_det_angles.append(detectors_angles[detti][i])\n",
    "        dets.append(widgets.Checkbox(\n",
    "            value=True,\n",
    "            description=detectors_angles[detti][i],\n",
    "            disabled=False\n",
    "        ))\n",
    "\n",
    "display(da_label)\n",
    "for i in range(len(dets)):\n",
    "    display(dets[i])"
   ]
  },
  {
   "cell_type": "code",
   "execution_count": 147,
   "metadata": {},
   "outputs": [
    {
     "data": {
      "application/vnd.jupyter.widget-view+json": {
       "model_id": "727afd7ae31f401eb6b663db0498c673",
       "version_major": 2,
       "version_minor": 0
      },
      "text/html": [
       "<p>Failed to display Jupyter Widget of type <code>Label</code>.</p>\n",
       "<p>\n",
       "  If you're reading this message in the Jupyter Notebook or JupyterLab Notebook, it may mean\n",
       "  that the widgets JavaScript is still loading. If this message persists, it\n",
       "  likely means that the widgets JavaScript library is either not installed or\n",
       "  not enabled. See the <a href=\"https://ipywidgets.readthedocs.io/en/stable/user_install.html\">Jupyter\n",
       "  Widgets Documentation</a> for setup instructions.\n",
       "</p>\n",
       "<p>\n",
       "  If you're reading this message in another frontend (for example, a static\n",
       "  rendering on GitHub or <a href=\"https://nbviewer.jupyter.org/\">NBViewer</a>),\n",
       "  it may mean that your frontend doesn't currently support widgets.\n",
       "</p>\n"
      ],
      "text/plain": [
       "Label(value='Select which sets of data to display.')"
      ]
     },
     "metadata": {},
     "output_type": "display_data"
    },
    {
     "data": {
      "application/vnd.jupyter.widget-view+json": {
       "model_id": "982dba4a2aeb41cd9da9cb9051520c76",
       "version_major": 2,
       "version_minor": 0
      },
      "text/html": [
       "<p>Failed to display Jupyter Widget of type <code>Checkbox</code>.</p>\n",
       "<p>\n",
       "  If you're reading this message in the Jupyter Notebook or JupyterLab Notebook, it may mean\n",
       "  that the widgets JavaScript is still loading. If this message persists, it\n",
       "  likely means that the widgets JavaScript library is either not installed or\n",
       "  not enabled. See the <a href=\"https://ipywidgets.readthedocs.io/en/stable/user_install.html\">Jupyter\n",
       "  Widgets Documentation</a> for setup instructions.\n",
       "</p>\n",
       "<p>\n",
       "  If you're reading this message in another frontend (for example, a static\n",
       "  rendering on GitHub or <a href=\"https://nbviewer.jupyter.org/\">NBViewer</a>),\n",
       "  it may mean that your frontend doesn't currently support widgets.\n",
       "</p>\n"
      ],
      "text/plain": [
       "Checkbox(value=True, description='Experiment')"
      ]
     },
     "metadata": {},
     "output_type": "display_data"
    },
    {
     "data": {
      "application/vnd.jupyter.widget-view+json": {
       "model_id": "7027145e94054b25be96d7f5664f8bef",
       "version_major": 2,
       "version_minor": 0
      },
      "text/html": [
       "<p>Failed to display Jupyter Widget of type <code>Checkbox</code>.</p>\n",
       "<p>\n",
       "  If you're reading this message in the Jupyter Notebook or JupyterLab Notebook, it may mean\n",
       "  that the widgets JavaScript is still loading. If this message persists, it\n",
       "  likely means that the widgets JavaScript library is either not installed or\n",
       "  not enabled. See the <a href=\"https://ipywidgets.readthedocs.io/en/stable/user_install.html\">Jupyter\n",
       "  Widgets Documentation</a> for setup instructions.\n",
       "</p>\n",
       "<p>\n",
       "  If you're reading this message in another frontend (for example, a static\n",
       "  rendering on GitHub or <a href=\"https://nbviewer.jupyter.org/\">NBViewer</a>),\n",
       "  it may mean that your frontend doesn't currently support widgets.\n",
       "</p>\n"
      ],
      "text/plain": [
       "Checkbox(value=True, description='MCNP simulated')"
      ]
     },
     "metadata": {},
     "output_type": "display_data"
    },
    {
     "data": {
      "application/vnd.jupyter.widget-view+json": {
       "model_id": "017238d8bcbb44daad516aa3f5c14840",
       "version_major": 2,
       "version_minor": 0
      },
      "text/html": [
       "<p>Failed to display Jupyter Widget of type <code>Checkbox</code>.</p>\n",
       "<p>\n",
       "  If you're reading this message in the Jupyter Notebook or JupyterLab Notebook, it may mean\n",
       "  that the widgets JavaScript is still loading. If this message persists, it\n",
       "  likely means that the widgets JavaScript library is either not installed or\n",
       "  not enabled. See the <a href=\"https://ipywidgets.readthedocs.io/en/stable/user_install.html\">Jupyter\n",
       "  Widgets Documentation</a> for setup instructions.\n",
       "</p>\n",
       "<p>\n",
       "  If you're reading this message in another frontend (for example, a static\n",
       "  rendering on GitHub or <a href=\"https://nbviewer.jupyter.org/\">NBViewer</a>),\n",
       "  it may mean that your frontend doesn't currently support widgets.\n",
       "</p>\n"
      ],
      "text/plain": [
       "Checkbox(value=True, description='PHITS simulated')"
      ]
     },
     "metadata": {},
     "output_type": "display_data"
    }
   ],
   "source": [
    "isi = find(ion_species.value,projectile_sym_str)\n",
    "iei = find(ion_energy.value,erg_options(isi))\n",
    "ftmi = find(target_material.value,target_mats_short)\n",
    "ftti = find(target_thickness.value,thicknesses)\n",
    "detti = find(detector_type.value,detectors_short)\n",
    "spi = find(secondary_particle.value,particles_med)\n",
    "\n",
    "det_angle_i_list = []\n",
    "for i in range(len(available_det_angles)):\n",
    "    if dets[i].value:\n",
    "        if detti == 0:\n",
    "            det_angle_i_list.append(find(available_det_angles[i],detectors_angles[detti]))\n",
    "        else:\n",
    "            det_angle_i_list.append(find(available_det_angles[i],detectors_angles[detti])+6) # for NaI\n",
    "\n",
    "ds_label = widgets.Label(value='Select which sets of data to display.')            \n",
    "\n",
    "data_set_names = ['Experiment','MCNP simulated','PHITS simulated']\n",
    "data_sets = []\n",
    "for i in range(3):\n",
    "    data_sets.append(widgets.Checkbox(\n",
    "        value=True,\n",
    "        description=data_set_names[i],\n",
    "        disabled=False\n",
    "    ))\n",
    "\n",
    "display(ds_label)\n",
    "for i in range(3):\n",
    "    display(data_sets[i])\n",
    "\n"
   ]
  },
  {
   "cell_type": "code",
   "execution_count": 148,
   "metadata": {},
   "outputs": [
    {
     "data": {
      "application/vnd.jupyter.widget-view+json": {
       "model_id": "da098afdde57461eb217110cf66872d5",
       "version_major": 2,
       "version_minor": 0
      },
      "text/html": [
       "<p>Failed to display Jupyter Widget of type <code>Label</code>.</p>\n",
       "<p>\n",
       "  If you're reading this message in the Jupyter Notebook or JupyterLab Notebook, it may mean\n",
       "  that the widgets JavaScript is still loading. If this message persists, it\n",
       "  likely means that the widgets JavaScript library is either not installed or\n",
       "  not enabled. See the <a href=\"https://ipywidgets.readthedocs.io/en/stable/user_install.html\">Jupyter\n",
       "  Widgets Documentation</a> for setup instructions.\n",
       "</p>\n",
       "<p>\n",
       "  If you're reading this message in another frontend (for example, a static\n",
       "  rendering on GitHub or <a href=\"https://nbviewer.jupyter.org/\">NBViewer</a>),\n",
       "  it may mean that your frontend doesn't currently support widgets.\n",
       "</p>\n"
      ],
      "text/plain": [
       "Label(value='Select how data sets for each detector should be spaced apart (if at all).')"
      ]
     },
     "metadata": {},
     "output_type": "display_data"
    },
    {
     "data": {
      "application/vnd.jupyter.widget-view+json": {
       "model_id": "1ee2024ffb6c4ba88a45dfe6463a327d",
       "version_major": 2,
       "version_minor": 0
      },
      "text/html": [
       "<p>Failed to display Jupyter Widget of type <code>ToggleButtons</code>.</p>\n",
       "<p>\n",
       "  If you're reading this message in the Jupyter Notebook or JupyterLab Notebook, it may mean\n",
       "  that the widgets JavaScript is still loading. If this message persists, it\n",
       "  likely means that the widgets JavaScript library is either not installed or\n",
       "  not enabled. See the <a href=\"https://ipywidgets.readthedocs.io/en/stable/user_install.html\">Jupyter\n",
       "  Widgets Documentation</a> for setup instructions.\n",
       "</p>\n",
       "<p>\n",
       "  If you're reading this message in another frontend (for example, a static\n",
       "  rendering on GitHub or <a href=\"https://nbviewer.jupyter.org/\">NBViewer</a>),\n",
       "  it may mean that your frontend doesn't currently support widgets.\n",
       "</p>\n"
      ],
      "text/plain": [
       "ToggleButtons(description='Spacing:', options=('None', 'Spaced by 10²'), tooltips=['All values are presented as is.', 'Plots for different detectors are multiplied by powers of 10² for easier viewing.'], value='None')"
      ]
     },
     "metadata": {},
     "output_type": "display_data"
    },
    {
     "data": {
      "application/javascript": [
       "IPython.notebook.execute_cells([IPython.notebook.get_selected_index()+1])"
      ],
      "text/plain": [
       "<IPython.core.display.Javascript object>"
      ]
     },
     "metadata": {},
     "output_type": "display_data"
    },
    {
     "data": {
      "application/javascript": [
       "IPython.notebook.execute_cells([IPython.notebook.get_selected_index()+1])"
      ],
      "text/plain": [
       "<IPython.core.display.Javascript object>"
      ]
     },
     "metadata": {},
     "output_type": "display_data"
    },
    {
     "data": {
      "application/javascript": [
       "IPython.notebook.execute_cells([IPython.notebook.get_selected_index()+1])"
      ],
      "text/plain": [
       "<IPython.core.display.Javascript object>"
      ]
     },
     "metadata": {},
     "output_type": "display_data"
    }
   ],
   "source": [
    "isi = find(ion_species.value,projectile_sym_str)\n",
    "iei = find(ion_energy.value,erg_options(isi))\n",
    "ftmi = find(target_material.value,target_mats_short)\n",
    "ftti = find(target_thickness.value,thicknesses)\n",
    "detti = find(detector_type.value,detectors_short)\n",
    "spi = find(secondary_particle.value,particles_med)\n",
    "\n",
    "det_angle_i_list = []\n",
    "for i in range(len(available_det_angles)):\n",
    "    if dets[i].value:\n",
    "        if detti == 0:\n",
    "            det_angle_i_list.append(find(available_det_angles[i],detectors_angles[detti]))\n",
    "        else:\n",
    "            det_angle_i_list.append(find(available_det_angles[i],detectors_angles[detti])+6) # for NaI\n",
    "            \n",
    "data_set_i_list = []\n",
    "for i in range(3):\n",
    "    if data_sets[i].value:\n",
    "        data_set_i_list.append(i)\n",
    "\n",
    "spacing_short = ['None','Spaced by 10\\u00B2']\n",
    "spacing_long = ['All values are presented as is.','Plots for different detectors are multiplied by powers of 10\\u00B2 for easier viewing.']\n",
    "\n",
    "spacing_label = widgets.Label(value='Select how data sets for each detector should be spaced apart (if at all).')  \n",
    "\n",
    "spacing_choice = widgets.ToggleButtons(\n",
    "    options=spacing_short,\n",
    "    description='Spacing:',\n",
    "    disabled=False,\n",
    "    button_style='', # 'success', 'info', 'warning', 'danger' or ''\n",
    "    tooltips=spacing_long,\n",
    "#     icons=['check'] * 3\n",
    ")\n",
    "\n",
    "spacing_choice.observe(on_click_next, 'value')\n",
    "display(spacing_label, spacing_choice)"
   ]
  },
  {
   "cell_type": "code",
   "execution_count": 201,
   "metadata": {},
   "outputs": [
    {
     "data": {
      "application/vnd.jupyter.widget-view+json": {
       "model_id": "19f34b54340045a3a819c1d5e914fd82",
       "version_major": 2,
       "version_minor": 0
      },
      "text/html": [
       "<p>Failed to display Jupyter Widget of type <code>Button</code>.</p>\n",
       "<p>\n",
       "  If you're reading this message in the Jupyter Notebook or JupyterLab Notebook, it may mean\n",
       "  that the widgets JavaScript is still loading. If this message persists, it\n",
       "  likely means that the widgets JavaScript library is either not installed or\n",
       "  not enabled. See the <a href=\"https://ipywidgets.readthedocs.io/en/stable/user_install.html\">Jupyter\n",
       "  Widgets Documentation</a> for setup instructions.\n",
       "</p>\n",
       "<p>\n",
       "  If you're reading this message in another frontend (for example, a static\n",
       "  rendering on GitHub or <a href=\"https://nbviewer.jupyter.org/\">NBViewer</a>),\n",
       "  it may mean that your frontend doesn't currently support widgets.\n",
       "</p>\n"
      ],
      "text/plain": [
       "Button(button_style='success', description='Update plot', icon='paint-brush', style=ButtonStyle(), tooltip='Click to redraw the plot below with updated options from above.')"
      ]
     },
     "metadata": {},
     "output_type": "display_data"
    },
    {
     "data": {
      "application/javascript": [
       "IPython.notebook.execute_cells([IPython.notebook.get_selected_index()+1])"
      ],
      "text/plain": [
       "<IPython.core.display.Javascript object>"
      ]
     },
     "metadata": {},
     "output_type": "display_data"
    },
    {
     "data": {
      "application/javascript": [
       "IPython.notebook.execute_cells([IPython.notebook.get_selected_index()+1])"
      ],
      "text/plain": [
       "<IPython.core.display.Javascript object>"
      ]
     },
     "metadata": {},
     "output_type": "display_data"
    },
    {
     "data": {
      "application/javascript": [
       "IPython.notebook.execute_cells([IPython.notebook.get_selected_index()+1])"
      ],
      "text/plain": [
       "<IPython.core.display.Javascript object>"
      ]
     },
     "metadata": {},
     "output_type": "display_data"
    },
    {
     "data": {
      "application/javascript": [
       "IPython.notebook.execute_cells([IPython.notebook.get_selected_index()+1])"
      ],
      "text/plain": [
       "<IPython.core.display.Javascript object>"
      ]
     },
     "metadata": {},
     "output_type": "display_data"
    },
    {
     "data": {
      "application/javascript": [
       "IPython.notebook.execute_cells([IPython.notebook.get_selected_index()+1])"
      ],
      "text/plain": [
       "<IPython.core.display.Javascript object>"
      ]
     },
     "metadata": {},
     "output_type": "display_data"
    },
    {
     "data": {
      "application/javascript": [
       "IPython.notebook.execute_cells([IPython.notebook.get_selected_index()+1])"
      ],
      "text/plain": [
       "<IPython.core.display.Javascript object>"
      ]
     },
     "metadata": {},
     "output_type": "display_data"
    }
   ],
   "source": [
    "make_plot_button = widgets.Button(\n",
    "    description='Update plot',\n",
    "    disabled=False,\n",
    "    button_style='success', # 'success', 'info', 'warning', 'danger' or ''\n",
    "    tooltip='Click to redraw the plot below with updated options from above.',\n",
    "    icon='paint-brush' # pencil, rotate-right\n",
    ")\n",
    "\n",
    "#make_plot_button.observe(on_click_next, 'value')\n",
    "display(make_plot_button)\n",
    "make_plot_button.on_click(on_click_next)"
   ]
  },
  {
   "cell_type": "code",
   "execution_count": 232,
   "metadata": {},
   "outputs": [
    {
     "data": {
      "application/javascript": [
       "/* Put everything inside the global mpl namespace */\n",
       "window.mpl = {};\n",
       "\n",
       "\n",
       "mpl.get_websocket_type = function() {\n",
       "    if (typeof(WebSocket) !== 'undefined') {\n",
       "        return WebSocket;\n",
       "    } else if (typeof(MozWebSocket) !== 'undefined') {\n",
       "        return MozWebSocket;\n",
       "    } else {\n",
       "        alert('Your browser does not have WebSocket support.' +\n",
       "              'Please try Chrome, Safari or Firefox ≥ 6. ' +\n",
       "              'Firefox 4 and 5 are also supported but you ' +\n",
       "              'have to enable WebSockets in about:config.');\n",
       "    };\n",
       "}\n",
       "\n",
       "mpl.figure = function(figure_id, websocket, ondownload, parent_element) {\n",
       "    this.id = figure_id;\n",
       "\n",
       "    this.ws = websocket;\n",
       "\n",
       "    this.supports_binary = (this.ws.binaryType != undefined);\n",
       "\n",
       "    if (!this.supports_binary) {\n",
       "        var warnings = document.getElementById(\"mpl-warnings\");\n",
       "        if (warnings) {\n",
       "            warnings.style.display = 'block';\n",
       "            warnings.textContent = (\n",
       "                \"This browser does not support binary websocket messages. \" +\n",
       "                    \"Performance may be slow.\");\n",
       "        }\n",
       "    }\n",
       "\n",
       "    this.imageObj = new Image();\n",
       "\n",
       "    this.context = undefined;\n",
       "    this.message = undefined;\n",
       "    this.canvas = undefined;\n",
       "    this.rubberband_canvas = undefined;\n",
       "    this.rubberband_context = undefined;\n",
       "    this.format_dropdown = undefined;\n",
       "\n",
       "    this.image_mode = 'full';\n",
       "\n",
       "    this.root = $('<div/>');\n",
       "    this._root_extra_style(this.root)\n",
       "    this.root.attr('style', 'display: inline-block');\n",
       "\n",
       "    $(parent_element).append(this.root);\n",
       "\n",
       "    this._init_header(this);\n",
       "    this._init_canvas(this);\n",
       "    this._init_toolbar(this);\n",
       "\n",
       "    var fig = this;\n",
       "\n",
       "    this.waiting = false;\n",
       "\n",
       "    this.ws.onopen =  function () {\n",
       "            fig.send_message(\"supports_binary\", {value: fig.supports_binary});\n",
       "            fig.send_message(\"send_image_mode\", {});\n",
       "            if (mpl.ratio != 1) {\n",
       "                fig.send_message(\"set_dpi_ratio\", {'dpi_ratio': mpl.ratio});\n",
       "            }\n",
       "            fig.send_message(\"refresh\", {});\n",
       "        }\n",
       "\n",
       "    this.imageObj.onload = function() {\n",
       "            if (fig.image_mode == 'full') {\n",
       "                // Full images could contain transparency (where diff images\n",
       "                // almost always do), so we need to clear the canvas so that\n",
       "                // there is no ghosting.\n",
       "                fig.context.clearRect(0, 0, fig.canvas.width, fig.canvas.height);\n",
       "            }\n",
       "            fig.context.drawImage(fig.imageObj, 0, 0);\n",
       "        };\n",
       "\n",
       "    this.imageObj.onunload = function() {\n",
       "        fig.ws.close();\n",
       "    }\n",
       "\n",
       "    this.ws.onmessage = this._make_on_message_function(this);\n",
       "\n",
       "    this.ondownload = ondownload;\n",
       "}\n",
       "\n",
       "mpl.figure.prototype._init_header = function() {\n",
       "    var titlebar = $(\n",
       "        '<div class=\"ui-dialog-titlebar ui-widget-header ui-corner-all ' +\n",
       "        'ui-helper-clearfix\"/>');\n",
       "    var titletext = $(\n",
       "        '<div class=\"ui-dialog-title\" style=\"width: 100%; ' +\n",
       "        'text-align: center; padding: 3px;\"/>');\n",
       "    titlebar.append(titletext)\n",
       "    this.root.append(titlebar);\n",
       "    this.header = titletext[0];\n",
       "}\n",
       "\n",
       "\n",
       "\n",
       "mpl.figure.prototype._canvas_extra_style = function(canvas_div) {\n",
       "\n",
       "}\n",
       "\n",
       "\n",
       "mpl.figure.prototype._root_extra_style = function(canvas_div) {\n",
       "\n",
       "}\n",
       "\n",
       "mpl.figure.prototype._init_canvas = function() {\n",
       "    var fig = this;\n",
       "\n",
       "    var canvas_div = $('<div/>');\n",
       "\n",
       "    canvas_div.attr('style', 'position: relative; clear: both; outline: 0');\n",
       "\n",
       "    function canvas_keyboard_event(event) {\n",
       "        return fig.key_event(event, event['data']);\n",
       "    }\n",
       "\n",
       "    canvas_div.keydown('key_press', canvas_keyboard_event);\n",
       "    canvas_div.keyup('key_release', canvas_keyboard_event);\n",
       "    this.canvas_div = canvas_div\n",
       "    this._canvas_extra_style(canvas_div)\n",
       "    this.root.append(canvas_div);\n",
       "\n",
       "    var canvas = $('<canvas/>');\n",
       "    canvas.addClass('mpl-canvas');\n",
       "    canvas.attr('style', \"left: 0; top: 0; z-index: 0; outline: 0\")\n",
       "\n",
       "    this.canvas = canvas[0];\n",
       "    this.context = canvas[0].getContext(\"2d\");\n",
       "\n",
       "    var backingStore = this.context.backingStorePixelRatio ||\n",
       "\tthis.context.webkitBackingStorePixelRatio ||\n",
       "\tthis.context.mozBackingStorePixelRatio ||\n",
       "\tthis.context.msBackingStorePixelRatio ||\n",
       "\tthis.context.oBackingStorePixelRatio ||\n",
       "\tthis.context.backingStorePixelRatio || 1;\n",
       "\n",
       "    mpl.ratio = (window.devicePixelRatio || 1) / backingStore;\n",
       "\n",
       "    var rubberband = $('<canvas/>');\n",
       "    rubberband.attr('style', \"position: absolute; left: 0; top: 0; z-index: 1;\")\n",
       "\n",
       "    var pass_mouse_events = true;\n",
       "\n",
       "    canvas_div.resizable({\n",
       "        start: function(event, ui) {\n",
       "            pass_mouse_events = false;\n",
       "        },\n",
       "        resize: function(event, ui) {\n",
       "            fig.request_resize(ui.size.width, ui.size.height);\n",
       "        },\n",
       "        stop: function(event, ui) {\n",
       "            pass_mouse_events = true;\n",
       "            fig.request_resize(ui.size.width, ui.size.height);\n",
       "        },\n",
       "    });\n",
       "\n",
       "    function mouse_event_fn(event) {\n",
       "        if (pass_mouse_events)\n",
       "            return fig.mouse_event(event, event['data']);\n",
       "    }\n",
       "\n",
       "    rubberband.mousedown('button_press', mouse_event_fn);\n",
       "    rubberband.mouseup('button_release', mouse_event_fn);\n",
       "    // Throttle sequential mouse events to 1 every 20ms.\n",
       "    rubberband.mousemove('motion_notify', mouse_event_fn);\n",
       "\n",
       "    rubberband.mouseenter('figure_enter', mouse_event_fn);\n",
       "    rubberband.mouseleave('figure_leave', mouse_event_fn);\n",
       "\n",
       "    canvas_div.on(\"wheel\", function (event) {\n",
       "        event = event.originalEvent;\n",
       "        event['data'] = 'scroll'\n",
       "        if (event.deltaY < 0) {\n",
       "            event.step = 1;\n",
       "        } else {\n",
       "            event.step = -1;\n",
       "        }\n",
       "        mouse_event_fn(event);\n",
       "    });\n",
       "\n",
       "    canvas_div.append(canvas);\n",
       "    canvas_div.append(rubberband);\n",
       "\n",
       "    this.rubberband = rubberband;\n",
       "    this.rubberband_canvas = rubberband[0];\n",
       "    this.rubberband_context = rubberband[0].getContext(\"2d\");\n",
       "    this.rubberband_context.strokeStyle = \"#000000\";\n",
       "\n",
       "    this._resize_canvas = function(width, height) {\n",
       "        // Keep the size of the canvas, canvas container, and rubber band\n",
       "        // canvas in synch.\n",
       "        canvas_div.css('width', width)\n",
       "        canvas_div.css('height', height)\n",
       "\n",
       "        canvas.attr('width', width * mpl.ratio);\n",
       "        canvas.attr('height', height * mpl.ratio);\n",
       "        canvas.attr('style', 'width: ' + width + 'px; height: ' + height + 'px;');\n",
       "\n",
       "        rubberband.attr('width', width);\n",
       "        rubberband.attr('height', height);\n",
       "    }\n",
       "\n",
       "    // Set the figure to an initial 600x600px, this will subsequently be updated\n",
       "    // upon first draw.\n",
       "    this._resize_canvas(600, 600);\n",
       "\n",
       "    // Disable right mouse context menu.\n",
       "    $(this.rubberband_canvas).bind(\"contextmenu\",function(e){\n",
       "        return false;\n",
       "    });\n",
       "\n",
       "    function set_focus () {\n",
       "        canvas.focus();\n",
       "        canvas_div.focus();\n",
       "    }\n",
       "\n",
       "    window.setTimeout(set_focus, 100);\n",
       "}\n",
       "\n",
       "mpl.figure.prototype._init_toolbar = function() {\n",
       "    var fig = this;\n",
       "\n",
       "    var nav_element = $('<div/>')\n",
       "    nav_element.attr('style', 'width: 100%');\n",
       "    this.root.append(nav_element);\n",
       "\n",
       "    // Define a callback function for later on.\n",
       "    function toolbar_event(event) {\n",
       "        return fig.toolbar_button_onclick(event['data']);\n",
       "    }\n",
       "    function toolbar_mouse_event(event) {\n",
       "        return fig.toolbar_button_onmouseover(event['data']);\n",
       "    }\n",
       "\n",
       "    for(var toolbar_ind in mpl.toolbar_items) {\n",
       "        var name = mpl.toolbar_items[toolbar_ind][0];\n",
       "        var tooltip = mpl.toolbar_items[toolbar_ind][1];\n",
       "        var image = mpl.toolbar_items[toolbar_ind][2];\n",
       "        var method_name = mpl.toolbar_items[toolbar_ind][3];\n",
       "\n",
       "        if (!name) {\n",
       "            // put a spacer in here.\n",
       "            continue;\n",
       "        }\n",
       "        var button = $('<button/>');\n",
       "        button.addClass('ui-button ui-widget ui-state-default ui-corner-all ' +\n",
       "                        'ui-button-icon-only');\n",
       "        button.attr('role', 'button');\n",
       "        button.attr('aria-disabled', 'false');\n",
       "        button.click(method_name, toolbar_event);\n",
       "        button.mouseover(tooltip, toolbar_mouse_event);\n",
       "\n",
       "        var icon_img = $('<span/>');\n",
       "        icon_img.addClass('ui-button-icon-primary ui-icon');\n",
       "        icon_img.addClass(image);\n",
       "        icon_img.addClass('ui-corner-all');\n",
       "\n",
       "        var tooltip_span = $('<span/>');\n",
       "        tooltip_span.addClass('ui-button-text');\n",
       "        tooltip_span.html(tooltip);\n",
       "\n",
       "        button.append(icon_img);\n",
       "        button.append(tooltip_span);\n",
       "\n",
       "        nav_element.append(button);\n",
       "    }\n",
       "\n",
       "    var fmt_picker_span = $('<span/>');\n",
       "\n",
       "    var fmt_picker = $('<select/>');\n",
       "    fmt_picker.addClass('mpl-toolbar-option ui-widget ui-widget-content');\n",
       "    fmt_picker_span.append(fmt_picker);\n",
       "    nav_element.append(fmt_picker_span);\n",
       "    this.format_dropdown = fmt_picker[0];\n",
       "\n",
       "    for (var ind in mpl.extensions) {\n",
       "        var fmt = mpl.extensions[ind];\n",
       "        var option = $(\n",
       "            '<option/>', {selected: fmt === mpl.default_extension}).html(fmt);\n",
       "        fmt_picker.append(option)\n",
       "    }\n",
       "\n",
       "    // Add hover states to the ui-buttons\n",
       "    $( \".ui-button\" ).hover(\n",
       "        function() { $(this).addClass(\"ui-state-hover\");},\n",
       "        function() { $(this).removeClass(\"ui-state-hover\");}\n",
       "    );\n",
       "\n",
       "    var status_bar = $('<span class=\"mpl-message\"/>');\n",
       "    nav_element.append(status_bar);\n",
       "    this.message = status_bar[0];\n",
       "}\n",
       "\n",
       "mpl.figure.prototype.request_resize = function(x_pixels, y_pixels) {\n",
       "    // Request matplotlib to resize the figure. Matplotlib will then trigger a resize in the client,\n",
       "    // which will in turn request a refresh of the image.\n",
       "    this.send_message('resize', {'width': x_pixels, 'height': y_pixels});\n",
       "}\n",
       "\n",
       "mpl.figure.prototype.send_message = function(type, properties) {\n",
       "    properties['type'] = type;\n",
       "    properties['figure_id'] = this.id;\n",
       "    this.ws.send(JSON.stringify(properties));\n",
       "}\n",
       "\n",
       "mpl.figure.prototype.send_draw_message = function() {\n",
       "    if (!this.waiting) {\n",
       "        this.waiting = true;\n",
       "        this.ws.send(JSON.stringify({type: \"draw\", figure_id: this.id}));\n",
       "    }\n",
       "}\n",
       "\n",
       "\n",
       "mpl.figure.prototype.handle_save = function(fig, msg) {\n",
       "    var format_dropdown = fig.format_dropdown;\n",
       "    var format = format_dropdown.options[format_dropdown.selectedIndex].value;\n",
       "    fig.ondownload(fig, format);\n",
       "}\n",
       "\n",
       "\n",
       "mpl.figure.prototype.handle_resize = function(fig, msg) {\n",
       "    var size = msg['size'];\n",
       "    if (size[0] != fig.canvas.width || size[1] != fig.canvas.height) {\n",
       "        fig._resize_canvas(size[0], size[1]);\n",
       "        fig.send_message(\"refresh\", {});\n",
       "    };\n",
       "}\n",
       "\n",
       "mpl.figure.prototype.handle_rubberband = function(fig, msg) {\n",
       "    var x0 = msg['x0'] / mpl.ratio;\n",
       "    var y0 = (fig.canvas.height - msg['y0']) / mpl.ratio;\n",
       "    var x1 = msg['x1'] / mpl.ratio;\n",
       "    var y1 = (fig.canvas.height - msg['y1']) / mpl.ratio;\n",
       "    x0 = Math.floor(x0) + 0.5;\n",
       "    y0 = Math.floor(y0) + 0.5;\n",
       "    x1 = Math.floor(x1) + 0.5;\n",
       "    y1 = Math.floor(y1) + 0.5;\n",
       "    var min_x = Math.min(x0, x1);\n",
       "    var min_y = Math.min(y0, y1);\n",
       "    var width = Math.abs(x1 - x0);\n",
       "    var height = Math.abs(y1 - y0);\n",
       "\n",
       "    fig.rubberband_context.clearRect(\n",
       "        0, 0, fig.canvas.width, fig.canvas.height);\n",
       "\n",
       "    fig.rubberband_context.strokeRect(min_x, min_y, width, height);\n",
       "}\n",
       "\n",
       "mpl.figure.prototype.handle_figure_label = function(fig, msg) {\n",
       "    // Updates the figure title.\n",
       "    fig.header.textContent = msg['label'];\n",
       "}\n",
       "\n",
       "mpl.figure.prototype.handle_cursor = function(fig, msg) {\n",
       "    var cursor = msg['cursor'];\n",
       "    switch(cursor)\n",
       "    {\n",
       "    case 0:\n",
       "        cursor = 'pointer';\n",
       "        break;\n",
       "    case 1:\n",
       "        cursor = 'default';\n",
       "        break;\n",
       "    case 2:\n",
       "        cursor = 'crosshair';\n",
       "        break;\n",
       "    case 3:\n",
       "        cursor = 'move';\n",
       "        break;\n",
       "    }\n",
       "    fig.rubberband_canvas.style.cursor = cursor;\n",
       "}\n",
       "\n",
       "mpl.figure.prototype.handle_message = function(fig, msg) {\n",
       "    fig.message.textContent = msg['message'];\n",
       "}\n",
       "\n",
       "mpl.figure.prototype.handle_draw = function(fig, msg) {\n",
       "    // Request the server to send over a new figure.\n",
       "    fig.send_draw_message();\n",
       "}\n",
       "\n",
       "mpl.figure.prototype.handle_image_mode = function(fig, msg) {\n",
       "    fig.image_mode = msg['mode'];\n",
       "}\n",
       "\n",
       "mpl.figure.prototype.updated_canvas_event = function() {\n",
       "    // Called whenever the canvas gets updated.\n",
       "    this.send_message(\"ack\", {});\n",
       "}\n",
       "\n",
       "// A function to construct a web socket function for onmessage handling.\n",
       "// Called in the figure constructor.\n",
       "mpl.figure.prototype._make_on_message_function = function(fig) {\n",
       "    return function socket_on_message(evt) {\n",
       "        if (evt.data instanceof Blob) {\n",
       "            /* FIXME: We get \"Resource interpreted as Image but\n",
       "             * transferred with MIME type text/plain:\" errors on\n",
       "             * Chrome.  But how to set the MIME type?  It doesn't seem\n",
       "             * to be part of the websocket stream */\n",
       "            evt.data.type = \"image/png\";\n",
       "\n",
       "            /* Free the memory for the previous frames */\n",
       "            if (fig.imageObj.src) {\n",
       "                (window.URL || window.webkitURL).revokeObjectURL(\n",
       "                    fig.imageObj.src);\n",
       "            }\n",
       "\n",
       "            fig.imageObj.src = (window.URL || window.webkitURL).createObjectURL(\n",
       "                evt.data);\n",
       "            fig.updated_canvas_event();\n",
       "            fig.waiting = false;\n",
       "            return;\n",
       "        }\n",
       "        else if (typeof evt.data === 'string' && evt.data.slice(0, 21) == \"data:image/png;base64\") {\n",
       "            fig.imageObj.src = evt.data;\n",
       "            fig.updated_canvas_event();\n",
       "            fig.waiting = false;\n",
       "            return;\n",
       "        }\n",
       "\n",
       "        var msg = JSON.parse(evt.data);\n",
       "        var msg_type = msg['type'];\n",
       "\n",
       "        // Call the  \"handle_{type}\" callback, which takes\n",
       "        // the figure and JSON message as its only arguments.\n",
       "        try {\n",
       "            var callback = fig[\"handle_\" + msg_type];\n",
       "        } catch (e) {\n",
       "            console.log(\"No handler for the '\" + msg_type + \"' message type: \", msg);\n",
       "            return;\n",
       "        }\n",
       "\n",
       "        if (callback) {\n",
       "            try {\n",
       "                // console.log(\"Handling '\" + msg_type + \"' message: \", msg);\n",
       "                callback(fig, msg);\n",
       "            } catch (e) {\n",
       "                console.log(\"Exception inside the 'handler_\" + msg_type + \"' callback:\", e, e.stack, msg);\n",
       "            }\n",
       "        }\n",
       "    };\n",
       "}\n",
       "\n",
       "// from http://stackoverflow.com/questions/1114465/getting-mouse-location-in-canvas\n",
       "mpl.findpos = function(e) {\n",
       "    //this section is from http://www.quirksmode.org/js/events_properties.html\n",
       "    var targ;\n",
       "    if (!e)\n",
       "        e = window.event;\n",
       "    if (e.target)\n",
       "        targ = e.target;\n",
       "    else if (e.srcElement)\n",
       "        targ = e.srcElement;\n",
       "    if (targ.nodeType == 3) // defeat Safari bug\n",
       "        targ = targ.parentNode;\n",
       "\n",
       "    // jQuery normalizes the pageX and pageY\n",
       "    // pageX,Y are the mouse positions relative to the document\n",
       "    // offset() returns the position of the element relative to the document\n",
       "    var x = e.pageX - $(targ).offset().left;\n",
       "    var y = e.pageY - $(targ).offset().top;\n",
       "\n",
       "    return {\"x\": x, \"y\": y};\n",
       "};\n",
       "\n",
       "/*\n",
       " * return a copy of an object with only non-object keys\n",
       " * we need this to avoid circular references\n",
       " * http://stackoverflow.com/a/24161582/3208463\n",
       " */\n",
       "function simpleKeys (original) {\n",
       "  return Object.keys(original).reduce(function (obj, key) {\n",
       "    if (typeof original[key] !== 'object')\n",
       "        obj[key] = original[key]\n",
       "    return obj;\n",
       "  }, {});\n",
       "}\n",
       "\n",
       "mpl.figure.prototype.mouse_event = function(event, name) {\n",
       "    var canvas_pos = mpl.findpos(event)\n",
       "\n",
       "    if (name === 'button_press')\n",
       "    {\n",
       "        this.canvas.focus();\n",
       "        this.canvas_div.focus();\n",
       "    }\n",
       "\n",
       "    var x = canvas_pos.x * mpl.ratio;\n",
       "    var y = canvas_pos.y * mpl.ratio;\n",
       "\n",
       "    this.send_message(name, {x: x, y: y, button: event.button,\n",
       "                             step: event.step,\n",
       "                             guiEvent: simpleKeys(event)});\n",
       "\n",
       "    /* This prevents the web browser from automatically changing to\n",
       "     * the text insertion cursor when the button is pressed.  We want\n",
       "     * to control all of the cursor setting manually through the\n",
       "     * 'cursor' event from matplotlib */\n",
       "    event.preventDefault();\n",
       "    return false;\n",
       "}\n",
       "\n",
       "mpl.figure.prototype._key_event_extra = function(event, name) {\n",
       "    // Handle any extra behaviour associated with a key event\n",
       "}\n",
       "\n",
       "mpl.figure.prototype.key_event = function(event, name) {\n",
       "\n",
       "    // Prevent repeat events\n",
       "    if (name == 'key_press')\n",
       "    {\n",
       "        if (event.which === this._key)\n",
       "            return;\n",
       "        else\n",
       "            this._key = event.which;\n",
       "    }\n",
       "    if (name == 'key_release')\n",
       "        this._key = null;\n",
       "\n",
       "    var value = '';\n",
       "    if (event.ctrlKey && event.which != 17)\n",
       "        value += \"ctrl+\";\n",
       "    if (event.altKey && event.which != 18)\n",
       "        value += \"alt+\";\n",
       "    if (event.shiftKey && event.which != 16)\n",
       "        value += \"shift+\";\n",
       "\n",
       "    value += 'k';\n",
       "    value += event.which.toString();\n",
       "\n",
       "    this._key_event_extra(event, name);\n",
       "\n",
       "    this.send_message(name, {key: value,\n",
       "                             guiEvent: simpleKeys(event)});\n",
       "    return false;\n",
       "}\n",
       "\n",
       "mpl.figure.prototype.toolbar_button_onclick = function(name) {\n",
       "    if (name == 'download') {\n",
       "        this.handle_save(this, null);\n",
       "    } else {\n",
       "        this.send_message(\"toolbar_button\", {name: name});\n",
       "    }\n",
       "};\n",
       "\n",
       "mpl.figure.prototype.toolbar_button_onmouseover = function(tooltip) {\n",
       "    this.message.textContent = tooltip;\n",
       "};\n",
       "mpl.toolbar_items = [[\"Home\", \"Reset original view\", \"fa fa-home icon-home\", \"home\"], [\"Back\", \"Back to  previous view\", \"fa fa-arrow-left icon-arrow-left\", \"back\"], [\"Forward\", \"Forward to next view\", \"fa fa-arrow-right icon-arrow-right\", \"forward\"], [\"\", \"\", \"\", \"\"], [\"Pan\", \"Pan axes with left mouse, zoom with right\", \"fa fa-arrows icon-move\", \"pan\"], [\"Zoom\", \"Zoom to rectangle\", \"fa fa-square-o icon-check-empty\", \"zoom\"], [\"\", \"\", \"\", \"\"], [\"Download\", \"Download plot\", \"fa fa-floppy-o icon-save\", \"download\"]];\n",
       "\n",
       "mpl.extensions = [\"eps\", \"jpeg\", \"pdf\", \"png\", \"ps\", \"raw\", \"svg\", \"tif\"];\n",
       "\n",
       "mpl.default_extension = \"png\";var comm_websocket_adapter = function(comm) {\n",
       "    // Create a \"websocket\"-like object which calls the given IPython comm\n",
       "    // object with the appropriate methods. Currently this is a non binary\n",
       "    // socket, so there is still some room for performance tuning.\n",
       "    var ws = {};\n",
       "\n",
       "    ws.close = function() {\n",
       "        comm.close()\n",
       "    };\n",
       "    ws.send = function(m) {\n",
       "        //console.log('sending', m);\n",
       "        comm.send(m);\n",
       "    };\n",
       "    // Register the callback with on_msg.\n",
       "    comm.on_msg(function(msg) {\n",
       "        //console.log('receiving', msg['content']['data'], msg);\n",
       "        // Pass the mpl event to the overriden (by mpl) onmessage function.\n",
       "        ws.onmessage(msg['content']['data'])\n",
       "    });\n",
       "    return ws;\n",
       "}\n",
       "\n",
       "mpl.mpl_figure_comm = function(comm, msg) {\n",
       "    // This is the function which gets called when the mpl process\n",
       "    // starts-up an IPython Comm through the \"matplotlib\" channel.\n",
       "\n",
       "    var id = msg.content.data.id;\n",
       "    // Get hold of the div created by the display call when the Comm\n",
       "    // socket was opened in Python.\n",
       "    var element = $(\"#\" + id);\n",
       "    var ws_proxy = comm_websocket_adapter(comm)\n",
       "\n",
       "    function ondownload(figure, format) {\n",
       "        window.open(figure.imageObj.src);\n",
       "    }\n",
       "\n",
       "    var fig = new mpl.figure(id, ws_proxy,\n",
       "                           ondownload,\n",
       "                           element.get(0));\n",
       "\n",
       "    // Call onopen now - mpl needs it, as it is assuming we've passed it a real\n",
       "    // web socket which is closed, not our websocket->open comm proxy.\n",
       "    ws_proxy.onopen();\n",
       "\n",
       "    fig.parent_element = element.get(0);\n",
       "    fig.cell_info = mpl.find_output_cell(\"<div id='\" + id + \"'></div>\");\n",
       "    if (!fig.cell_info) {\n",
       "        console.error(\"Failed to find cell for figure\", id, fig);\n",
       "        return;\n",
       "    }\n",
       "\n",
       "    var output_index = fig.cell_info[2]\n",
       "    var cell = fig.cell_info[0];\n",
       "\n",
       "};\n",
       "\n",
       "mpl.figure.prototype.handle_close = function(fig, msg) {\n",
       "    var width = fig.canvas.width/mpl.ratio\n",
       "    fig.root.unbind('remove')\n",
       "\n",
       "    // Update the output cell to use the data from the current canvas.\n",
       "    fig.push_to_output();\n",
       "    var dataURL = fig.canvas.toDataURL();\n",
       "    // Re-enable the keyboard manager in IPython - without this line, in FF,\n",
       "    // the notebook keyboard shortcuts fail.\n",
       "    IPython.keyboard_manager.enable()\n",
       "    $(fig.parent_element).html('<img src=\"' + dataURL + '\" width=\"' + width + '\">');\n",
       "    fig.close_ws(fig, msg);\n",
       "}\n",
       "\n",
       "mpl.figure.prototype.close_ws = function(fig, msg){\n",
       "    fig.send_message('closing', msg);\n",
       "    // fig.ws.close()\n",
       "}\n",
       "\n",
       "mpl.figure.prototype.push_to_output = function(remove_interactive) {\n",
       "    // Turn the data on the canvas into data in the output cell.\n",
       "    var width = this.canvas.width/mpl.ratio\n",
       "    var dataURL = this.canvas.toDataURL();\n",
       "    this.cell_info[1]['text/html'] = '<img src=\"' + dataURL + '\" width=\"' + width + '\">';\n",
       "}\n",
       "\n",
       "mpl.figure.prototype.updated_canvas_event = function() {\n",
       "    // Tell IPython that the notebook contents must change.\n",
       "    IPython.notebook.set_dirty(true);\n",
       "    this.send_message(\"ack\", {});\n",
       "    var fig = this;\n",
       "    // Wait a second, then push the new image to the DOM so\n",
       "    // that it is saved nicely (might be nice to debounce this).\n",
       "    setTimeout(function () { fig.push_to_output() }, 1000);\n",
       "}\n",
       "\n",
       "mpl.figure.prototype._init_toolbar = function() {\n",
       "    var fig = this;\n",
       "\n",
       "    var nav_element = $('<div/>')\n",
       "    nav_element.attr('style', 'width: 100%');\n",
       "    this.root.append(nav_element);\n",
       "\n",
       "    // Define a callback function for later on.\n",
       "    function toolbar_event(event) {\n",
       "        return fig.toolbar_button_onclick(event['data']);\n",
       "    }\n",
       "    function toolbar_mouse_event(event) {\n",
       "        return fig.toolbar_button_onmouseover(event['data']);\n",
       "    }\n",
       "\n",
       "    for(var toolbar_ind in mpl.toolbar_items){\n",
       "        var name = mpl.toolbar_items[toolbar_ind][0];\n",
       "        var tooltip = mpl.toolbar_items[toolbar_ind][1];\n",
       "        var image = mpl.toolbar_items[toolbar_ind][2];\n",
       "        var method_name = mpl.toolbar_items[toolbar_ind][3];\n",
       "\n",
       "        if (!name) { continue; };\n",
       "\n",
       "        var button = $('<button class=\"btn btn-default\" href=\"#\" title=\"' + name + '\"><i class=\"fa ' + image + ' fa-lg\"></i></button>');\n",
       "        button.click(method_name, toolbar_event);\n",
       "        button.mouseover(tooltip, toolbar_mouse_event);\n",
       "        nav_element.append(button);\n",
       "    }\n",
       "\n",
       "    // Add the status bar.\n",
       "    var status_bar = $('<span class=\"mpl-message\" style=\"text-align:right; float: right;\"/>');\n",
       "    nav_element.append(status_bar);\n",
       "    this.message = status_bar[0];\n",
       "\n",
       "    // Add the close button to the window.\n",
       "    var buttongrp = $('<div class=\"btn-group inline pull-right\"></div>');\n",
       "    var button = $('<button class=\"btn btn-mini btn-primary\" href=\"#\" title=\"Stop Interaction\"><i class=\"fa fa-power-off icon-remove icon-large\"></i></button>');\n",
       "    button.click(function (evt) { fig.handle_close(fig, {}); } );\n",
       "    button.mouseover('Stop Interaction', toolbar_mouse_event);\n",
       "    buttongrp.append(button);\n",
       "    var titlebar = this.root.find($('.ui-dialog-titlebar'));\n",
       "    titlebar.prepend(buttongrp);\n",
       "}\n",
       "\n",
       "mpl.figure.prototype._root_extra_style = function(el){\n",
       "    var fig = this\n",
       "    el.on(\"remove\", function(){\n",
       "\tfig.close_ws(fig, {});\n",
       "    });\n",
       "}\n",
       "\n",
       "mpl.figure.prototype._canvas_extra_style = function(el){\n",
       "    // this is important to make the div 'focusable\n",
       "    el.attr('tabindex', 0)\n",
       "    // reach out to IPython and tell the keyboard manager to turn it's self\n",
       "    // off when our div gets focus\n",
       "\n",
       "    // location in version 3\n",
       "    if (IPython.notebook.keyboard_manager) {\n",
       "        IPython.notebook.keyboard_manager.register_events(el);\n",
       "    }\n",
       "    else {\n",
       "        // location in version 2\n",
       "        IPython.keyboard_manager.register_events(el);\n",
       "    }\n",
       "\n",
       "}\n",
       "\n",
       "mpl.figure.prototype._key_event_extra = function(event, name) {\n",
       "    var manager = IPython.notebook.keyboard_manager;\n",
       "    if (!manager)\n",
       "        manager = IPython.keyboard_manager;\n",
       "\n",
       "    // Check for shift+enter\n",
       "    if (event.shiftKey && event.which == 13) {\n",
       "        this.canvas_div.blur();\n",
       "        event.shiftKey = false;\n",
       "        // Send a \"J\" for go to next cell\n",
       "        event.which = 74;\n",
       "        event.keyCode = 74;\n",
       "        manager.command_mode();\n",
       "        manager.handle_keydown(event);\n",
       "    }\n",
       "}\n",
       "\n",
       "mpl.figure.prototype.handle_save = function(fig, msg) {\n",
       "    fig.ondownload(fig, null);\n",
       "}\n",
       "\n",
       "\n",
       "mpl.find_output_cell = function(html_output) {\n",
       "    // Return the cell and output element which can be found *uniquely* in the notebook.\n",
       "    // Note - this is a bit hacky, but it is done because the \"notebook_saving.Notebook\"\n",
       "    // IPython event is triggered only after the cells have been serialised, which for\n",
       "    // our purposes (turning an active figure into a static one), is too late.\n",
       "    var cells = IPython.notebook.get_cells();\n",
       "    var ncells = cells.length;\n",
       "    for (var i=0; i<ncells; i++) {\n",
       "        var cell = cells[i];\n",
       "        if (cell.cell_type === 'code'){\n",
       "            for (var j=0; j<cell.output_area.outputs.length; j++) {\n",
       "                var data = cell.output_area.outputs[j];\n",
       "                if (data.data) {\n",
       "                    // IPython >= 3 moved mimebundle to data attribute of output\n",
       "                    data = data.data;\n",
       "                }\n",
       "                if (data['text/html'] == html_output) {\n",
       "                    return [cell, data, j];\n",
       "                }\n",
       "            }\n",
       "        }\n",
       "    }\n",
       "}\n",
       "\n",
       "// Register the function which deals with the matplotlib target/channel.\n",
       "// The kernel may be null if the page has been refreshed.\n",
       "if (IPython.notebook.kernel != null) {\n",
       "    IPython.notebook.kernel.comm_manager.register_target('matplotlib', mpl.mpl_figure_comm);\n",
       "}\n"
      ],
      "text/plain": [
       "<IPython.core.display.Javascript object>"
      ]
     },
     "metadata": {},
     "output_type": "display_data"
    },
    {
     "data": {
      "text/html": [
       "<img src=\"data:image/png;base64,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\" width=\"525\">"
      ],
      "text/plain": [
       "<IPython.core.display.HTML object>"
      ]
     },
     "metadata": {},
     "output_type": "display_data"
    }
   ],
   "source": [
    "isi = find(ion_species.value,projectile_sym_str)\n",
    "iei = find(ion_energy.value,erg_options(isi))\n",
    "ftmi = find(target_material.value,target_mats_short)\n",
    "ftti = find(target_thickness.value,thicknesses)\n",
    "detti = find(detector_type.value,detectors_short)\n",
    "spi = find(secondary_particle.value,particles_med)\n",
    "\n",
    "det_angle_i_list = []\n",
    "for i in range(len(available_det_angles)):\n",
    "    if dets[i].value:\n",
    "        if detti == 0:\n",
    "            det_angle_i_list.append(find(available_det_angles[i],detectors_angles[detti]))\n",
    "        else:\n",
    "            det_angle_i_list.append(find(available_det_angles[i],detectors_angles[detti])+6) # for NaI\n",
    "            \n",
    "data_set_i_list = []\n",
    "for i in range(3):\n",
    "    if data_sets[i].value:\n",
    "        data_set_i_list.append(i)\n",
    "        \n",
    "spacing_condition = find(spacing_choice.value,spacing_short)\n",
    "if spacing_condition == 0:\n",
    "    mult_factor_base = 1\n",
    "else:\n",
    "    mult_factor_base = 100\n",
    "\n",
    "fst = 16\n",
    "fs = 14\n",
    "beam_energy_text = erg_options(isi)[iei]\n",
    "beam_species_text = projectile_sym_str[isi]\n",
    "\n",
    "fig = plt.figure()\n",
    "ax = plt.subplot(111)\n",
    "# Axis labels\n",
    "title_text = detectors_short[detti] + \" \" + particles_long[spi] + \" Energy Spectra for\" + \"\\n\" \n",
    "title_text += beam_energy_text +\" \"+ beam_species_text + \" on \"+ thicknesses[ftti] +\" \"+ target_mats_short[ftmi] \n",
    "plt.title(title_text,fontsize=fst)\n",
    "if spi <= 2:\n",
    "    plt.xlabel(\"Energy [MeV]\",fontsize=fs)\n",
    "else:\n",
    "    plt.xlabel(\"Energy [MeV/n]\",fontsize=fs)\n",
    "\n",
    "if spi == 1: # deconvoluted neutrons\n",
    "    #leg_strings = [r'Experimental (deconvoluted)',r'MCNP (simulated)', r'PHITS (simulated)']\n",
    "    leg_strings = [r'Experimental (deconvoluted)',r'MCNP', r'PHITS']\n",
    "    plt.ylabel(r\"Yield [#$\\cdot$/(MeV$\\cdot$s.p.)]\",fontsize=fs)\n",
    "else:\n",
    "    #leg_strings = [r'Experimental (time-of-flight)',r'MCNP (simulated)', r'PHITS (simulated)']\n",
    "    leg_strings = [r'Experimental (time-of-flight)',r'MCNP', r'PHITS']\n",
    "    if spi <= 2:\n",
    "        plt.ylabel(r\"Yield [#/(MeV$\\cdot$sr$\\cdot$s.p.)]\",fontsize=fs)\n",
    "    else:\n",
    "        plt.ylabel(r\"Yield [#/(MeV/n$\\cdot$sr$\\cdot$s.p.)]\",fontsize=fs)\n",
    "\n",
    "# Generate portion of legend specifying data sets\n",
    "if spi == 1:\n",
    "    exp_leg, = plt.errorbar(np.NaN, np.NaN,yerr=0, color='dimgrey', marker=\".\",markersize=3,linestyle=\":\",alpha=1.0), #, label=r'Deconvolued')\n",
    "else:\n",
    "    exp_leg,  = plt.errorbar(np.NaN, np.NaN,xerr=0,yerr=0,marker=\".\",c='dimgrey',markersize=2,linestyle=\"\",elinewidth=0.5,markeredgewidth=0.5,capsize=0), # , label=r'Experimental (ToF)') \n",
    "\n",
    "MCNP_leg, = plt.errorbar(np.NaN, np.NaN,yerr=0, color='dimgrey', marker=\"^\",markersize=3,linestyle=\"--\"), #, label=r'Simulated (MCNP)')\n",
    "PHITS_leg, = plt.errorbar(np.NaN, np.NaN,yerr=0, color='dimgrey', marker=\"s\",markersize=3,linestyle=\"--\"), #, label=r'Simulated (PHITS)')\n",
    "\n",
    "n_data_sets = len(data_set_i_list)\n",
    "abs_min_yield = 10**(-10)\n",
    "\n",
    "legs_for_ds = [exp_leg, MCNP_leg, PHITS_leg]\n",
    "used_ds_legs = []\n",
    "used_ds_leg_strs = []\n",
    "leg_handles1 = []\n",
    "leg_labels1 = []\n",
    "\n",
    "y_min = 0.0001 # later used to set y-axis minimum\n",
    "y_max = 0.001 # later used to set y-axis maximum\n",
    "\n",
    "for dsi in data_set_i_list:\n",
    "    # make sure dataset is populated first\n",
    "    if np.sum(mm_values[dsi,iei,ftmi,ftti,spi,:,3,:]) == 0: \n",
    "        n_data_sets += -1\n",
    "        continue\n",
    "    used_ds_legs.append(legs_for_ds[dsi])\n",
    "    used_ds_leg_strs.append(leg_strings[dsi])\n",
    "    k=0\n",
    "    for di in det_angle_i_list:\n",
    "        ndet = str(di+1)\n",
    "        scale_power = 2*((len(det_angle_i_list)-1)-k)\n",
    "        mult_factor = mult_factor_base**scale_power\n",
    "        if spacing_condition == 0:\n",
    "            lab_text = detectors_angles[detti][di%6]\n",
    "        else:\n",
    "            lab_text = detectors_angles[detti][di%6] + r\" $\\times10^{{{0}}}$\".format(str(int(scale_power)))\n",
    "        k += 1\n",
    "        \n",
    "        # Make artificial legend for 6 detectors\n",
    "        ebp = ax.plot(np.NaN, np.NaN,c=detector_colors(di%6),marker=\"s\",markersize=8,linestyle=\"\") #,label=lab_text) #,label='Simulated (MCNP)')\n",
    "        leg_handles1.append(ebp[0])\n",
    "        leg_labels1.append(lab_text)\n",
    "        \n",
    "        # Enforce minimum yield value\n",
    "        trash_y_vals = mm_values[dsi,iei,ftmi,ftti,spi,di,3,:] < abs_min_yield\n",
    "        mm_values[dsi,iei,ftmi,ftti,spi,di,3,:][trash_y_vals] = 0\n",
    "        \n",
    "        nzi = np.nonzero(mm_values[dsi,iei,ftmi,ftti,spi,di,3,:])\n",
    "        xdata = mm_values[dsi,iei,ftmi,ftti,spi,di,1,:][nzi]\n",
    "        xbinw = [mm_values[dsi,iei,ftmi,ftti,spi,di,1,:][nzi]-mm_values[dsi,iei,ftmi,ftti,spi,di,0,:][nzi] , mm_values[dsi,iei,ftmi,ftti,spi,di,2,:][nzi]-mm_values[dsi,iei,ftmi,ftti,spi,di,1,:][nzi]]\n",
    "        ydata = mm_values[dsi,iei,ftmi,ftti,spi,di,3,:][nzi]\n",
    "        yerr_stat = mm_values[dsi,iei,ftmi,ftti,spi,di,4,:][nzi]\n",
    "        yerr_sys = mm_values[dsi,iei,ftmi,ftti,spi,di,5,:][nzi]\n",
    "        xerr = mm_values[dsi,iei,ftmi,ftti,spi,di,6,:][nzi]\n",
    "        \n",
    "        \n",
    "        \n",
    "        ydata = ydata*mult_factor\n",
    "        yerr_stat = yerr_stat*mult_factor\n",
    "        yerr_sys = yerr_sys*mult_factor\n",
    "        \n",
    "        if len(ydata) != 0:\n",
    "            if min(ydata)<y_min: y_min = min(ydata)\n",
    "            if max(ydata)>y_max: y_max = max(ydata)\n",
    "        \n",
    "        # Generate plots\n",
    "        if dsi == 0: # experimental results\n",
    "            if spi == 1: # deconvoluted neutrons\n",
    "                alpha_val=1.0\n",
    "                marker_val = \".\"\n",
    "                p = plt.errorbar(xdata,ydata,yerr=yerr_stat,c=detector_colors(di%6),marker=marker_val,markersize=3,linestyle=\":\",alpha=alpha_val,label=lab_text) #,label='Simulated (MCNP)')\n",
    "            else:\n",
    "                # x error bar (bin width)\n",
    "                xerrbar = xbinw\n",
    "                # x error box (energy resolution\n",
    "                xerrbox = xerr\n",
    "                xerrbox = np.array([xerrbox, xerrbox])\n",
    "                # y error bar (systematic uncertainty)\n",
    "                yerrbar = [yerr_sys, yerr_sys]\n",
    "                yerrbar[0][(ydata-yerrbar[0])<=0]=0 # get rid of negative error bars\n",
    "                yerrbar[1][(ydata)<=0]=0 # get rid of errorbars on negative points\n",
    "                # y error box (statistical uncertainty)\n",
    "                yerrbox = np.array([yerr_stat, yerr_stat])\n",
    "                \n",
    "                p = plt.errorbar(xdata,ydata,xerr=xerrbar,yerr=yerrbar,marker=\".\",c=detector_colors(di%6),markersize=2,linestyle=\"\",elinewidth=0.5,markeredgewidth=0.5,capsize=0,label=lab_text)\n",
    "                nx_color = detector_colors(di%6) #p[0].get_color()\n",
    "                makeErrorBoxes(xdata,ydata,xerrbox,yerrbox,fc='None',ec=nx_color,alpha=1.0,lw=0.5)\n",
    "                makeErrorBoxes(xdata,ydata,xerrbox,yerrbox,fc=nx_color,ec='None',alpha=0.1,lw=0.5)\n",
    "                \n",
    "        elif dsi == 1: # MCNP results\n",
    "            ebp = plt.errorbar(xdata,ydata,yerr=yerr_stat,c=detector_colors(di%6),marker=\"^\",markersize=3,linestyle=\"--\") #,label=lab_text) #,label='Simulated (MCNP)')\n",
    "        \n",
    "        elif dsi == 2: # PHITS results\n",
    "            ebp = plt.errorbar(xdata,ydata,yerr=yerr_stat,c=detector_colors(di%6),marker=\"s\",markersize=3,linestyle=\"--\") #,label=lab_text) #,label='Simulated (PHITS)')\n",
    "        \n",
    "\n",
    "if spacing_condition == 1:\n",
    "    box_h_offset = 0.14 - 0.005*len(det_angle_i_list) # vertical offset left at the bottom for legend stuff\n",
    "    leg_minus_y = -0.01*(6-len(det_angle_i_list))\n",
    "    leg2_anchor = (0.45, -0.065+leg_minus_y) # data sets\n",
    "    leg1_anchor = (0.47, -0.115+leg_minus_y) # detectors \n",
    "else:\n",
    "    box_h_offset = 0.11 + 0.02*np.floor((len(det_angle_i_list)-1)/3) # vertical offset left at the bottom for legend stuff\n",
    "    leg2_anchor = (0.45, -0.115) # data sets\n",
    "    leg1_anchor = (0.47, -0.175) # detectors \n",
    "\n",
    "box_h_multiplier = 1-box_h_offset #0.92 # percentage of total height occupied by actual plot\n",
    "\n",
    "#handles, labels = ax.get_legend_handles_labels()\n",
    "#if len(data_set_i_list)==3: # Three rows in named legend\n",
    "#    box_h_multiplier = 0.92 # percentage of total height occupied by actual plot\n",
    "#    box_h_offset = 0.12 # vertical offset left at the bottom for legend stuff\n",
    "#    leg2_anchor = (0.5, -0.065)\n",
    "#    leg1_anchor = (0.47, -0.155)\n",
    "#elif len(data_set_i_list)==2: # Two rows of legend\n",
    "#    box_h_multiplier = 0.92 # percentage of total height occupied by actual plot\n",
    "#    box_h_offset = 0.12 # vertical offset left at the bottom for legend stuff\n",
    "#    leg2_anchor = (0.5, -0.065)\n",
    "#    leg1_anchor = (0.47, -0.155)\n",
    "#else: # One row of legend\n",
    "#    box_h_multiplier = 0.92 # percentage of total height occupied by actual plot\n",
    "#    box_h_offset = 0.12 # vertical offset left at the bottom for legend stuff\n",
    "#    leg2_anchor = (0.5, -0.065)\n",
    "#    leg1_anchor = (0.47, -0.155)\n",
    "\n",
    "# Set size and location of the plot on the canvas\n",
    "box = ax.get_position()\n",
    "ax.set_position([box.x0 + box.width * 0.025, box.y0 + box.height * box_h_offset,box.width * 0.95, box.height * box_h_multiplier])\n",
    "\n",
    "# Put a legend below current axis\n",
    "legend2 = ax.legend(used_ds_legs,used_ds_leg_strs,loc='upper center', bbox_to_anchor=leg2_anchor, ncol=n_data_sets)\n",
    "\n",
    "# Put a legend below current axis\n",
    "ax.legend(leg_handles1[:(len(det_angle_i_list))],leg_labels1[:(len(det_angle_i_list))],loc='upper center', bbox_to_anchor=leg1_anchor, ncol=3,handletextpad=0.1)\n",
    "ax.add_artist(legend2)\n",
    "\n",
    "window_title = mm_metadata[dsi,isi,iei,ftmi,ftti,spi,0,1] + \"_fig\"\n",
    "fig.canvas.set_window_title(window_title)\n",
    "if spacing_condition == 1: \n",
    "    height_val = 5.25 + len(det_angle_i_list)\n",
    "    fig.set_size_inches(5.25,height_val)\n",
    "else:\n",
    "    fig.set_size_inches(5.25,6.25)\n",
    "        \n",
    "plt.xscale('log')\n",
    "plt.yscale('log')\n",
    "plt.grid(b=True, which='major', linestyle='-', alpha=0.25)\n",
    "plt.grid(b=True, which='minor', linestyle='-', alpha=0.10)\n",
    "plt.xlim([5,2000])\n",
    "plt.ylim([10**np.floor(np.log10(y_min)),10**np.ceil(np.log10(y_max))])        \n",
    "\n",
    "plt.show()        \n",
    "        \n",
    "    \n",
    "    \n"
   ]
  },
  {
   "cell_type": "code",
   "execution_count": null,
   "metadata": {},
   "outputs": [],
   "source": []
  }
 ],
 "metadata": {
  "kernelspec": {
   "display_name": "Python 3",
   "language": "python",
   "name": "python3"
  },
  "language_info": {
   "codemirror_mode": {
    "name": "ipython",
    "version": 3
   },
   "file_extension": ".py",
   "mimetype": "text/x-python",
   "name": "python",
   "nbconvert_exporter": "python",
   "pygments_lexer": "ipython3",
   "version": "3.6.4"
  },
  "widgets": {
   "application/vnd.jupyter.widget-state+json": {
    "state": {
     "0017f825ac48419da4b51260e1acf358": {
      "model_module": "@jupyter-widgets/base",
      "model_module_version": "1.0.0",
      "model_name": "LayoutModel",
      "state": {}
     },
     "0070d4f6780e40d6b962f1dfc9e13934": {
      "model_module": "@jupyter-widgets/base",
      "model_module_version": "1.0.0",
      "model_name": "LayoutModel",
      "state": {}
     },
     "008a7696a1c74d4cb8ae1ca7c84e83e4": {
      "model_module": "@jupyter-widgets/controls",
      "model_module_version": "1.1.0",
      "model_name": "DescriptionStyleModel",
      "state": {
       "description_width": ""
      }
     },
     "008d4deaa4f24f778435821053645eab": {
      "model_module": "@jupyter-widgets/controls",
      "model_module_version": "1.1.0",
      "model_name": "DescriptionStyleModel",
      "state": {
       "description_width": ""
      }
     },
     "0097f451415149d5a8a5b91cd0fcde5b": {
      "model_module": "@jupyter-widgets/controls",
      "model_module_version": "1.1.0",
      "model_name": "DescriptionStyleModel",
      "state": {
       "description_width": ""
      }
     },
     "00ad944b06944d3ab809f24d2c5ca45d": {
      "model_module": "@jupyter-widgets/base",
      "model_module_version": "1.0.0",
      "model_name": "LayoutModel",
      "state": {}
     },
     "00d74a39d4c04a5fa369e9a5a81e7161": {
      "model_module": "@jupyter-widgets/controls",
      "model_module_version": "1.1.0",
      "model_name": "CheckboxModel",
      "state": {
       "description": "60°",
       "disabled": false,
       "layout": "IPY_MODEL_ff286a067c23439a868c7e18520be3c3",
       "style": "IPY_MODEL_b04672d85a424837b02b239fd6d93306",
       "value": false
      }
     },
     "00f95cd13fc5493dbd84db161aa668d2": {
      "model_module": "@jupyter-widgets/controls",
      "model_module_version": "1.1.0",
      "model_name": "ToggleButtonsStyleModel",
      "state": {
       "button_width": "",
       "description_width": ""
      }
     },
     "010886a935064dafbac5afac795dc090": {
      "model_module": "@jupyter-widgets/controls",
      "model_module_version": "1.1.0",
      "model_name": "ToggleButtonsModel",
      "state": {
       "_options_labels": [
        "20 g/cm²",
        "40 g/cm²",
        "60 g/cm²"
       ],
       "button_style": "",
       "description": "Thickness:",
       "icons": [],
       "index": 0,
       "layout": "IPY_MODEL_baf6d63299f54108a883c23ac2fe5f20",
       "style": "IPY_MODEL_cc8d38e0424c4fb483595feafc62784c",
       "tooltips": [
        "20 g/cm² Aluminum",
        "40 g/cm² Aluminum",
        "60 g/cm² Aluminum"
       ]
      }
     },
     "012702128d55420bb4f3a67906054542": {
      "model_module": "@jupyter-widgets/controls",
      "model_module_version": "1.1.0",
      "model_name": "ToggleButtonsStyleModel",
      "state": {
       "button_width": "",
       "description_width": ""
      }
     },
     "0134c3792d954a6fb8646afb9cd0529f": {
      "model_module": "@jupyter-widgets/controls",
      "model_module_version": "1.1.0",
      "model_name": "DescriptionStyleModel",
      "state": {
       "description_width": ""
      }
     },
     "01cfdf7a65f047b8a4c617630919767c": {
      "model_module": "@jupyter-widgets/controls",
      "model_module_version": "1.1.0",
      "model_name": "DescriptionStyleModel",
      "state": {
       "description_width": ""
      }
     },
     "01ffdb0f8e284eb5bc5ea005cd6710e7": {
      "model_module": "@jupyter-widgets/base",
      "model_module_version": "1.0.0",
      "model_name": "LayoutModel",
      "state": {}
     },
     "0216a4952183460e87f1704add98eb41": {
      "model_module": "@jupyter-widgets/controls",
      "model_module_version": "1.1.0",
      "model_name": "LabelModel",
      "state": {
       "layout": "IPY_MODEL_c4c4135d776f4acd9de51c55ac838f6e",
       "style": "IPY_MODEL_30f4d12206a246b7a77d5dc6a690b65f",
       "value": "Select which sets of data to display."
      }
     },
     "023d98986734416e92f986009753c584": {
      "model_module": "@jupyter-widgets/controls",
      "model_module_version": "1.1.0",
      "model_name": "DescriptionStyleModel",
      "state": {
       "description_width": ""
      }
     },
     "027fe3d5ff7043d781512933effbf2f7": {
      "model_module": "@jupyter-widgets/base",
      "model_module_version": "1.0.0",
      "model_name": "LayoutModel",
      "state": {}
     },
     "02aa7d90330a4b3696037f1f27886f8c": {
      "model_module": "@jupyter-widgets/controls",
      "model_module_version": "1.1.0",
      "model_name": "LabelModel",
      "state": {
       "layout": "IPY_MODEL_3cf480469a1c4902b53f1b2f7ff72c9d",
       "style": "IPY_MODEL_4e692a9a30684f1e9cf9f9eab12388e7",
       "value": "Select projectile ion energy."
      }
     },
     "02f0fec9ce024a018ce95422f807e9d9": {
      "model_module": "@jupyter-widgets/base",
      "model_module_version": "1.0.0",
      "model_name": "LayoutModel",
      "state": {}
     },
     "0325f1eb5b4447b2b246594279c8fe3a": {
      "model_module": "@jupyter-widgets/controls",
      "model_module_version": "1.1.0",
      "model_name": "CheckboxModel",
      "state": {
       "description": "80°",
       "disabled": false,
       "layout": "IPY_MODEL_a170331431ec446bb37fa1103c649671",
       "style": "IPY_MODEL_7b49faf0031b4bbd8bcfec5944e74490",
       "value": true
      }
     },
     "03712579db5b417eb16f345eff7e67a8": {
      "model_module": "@jupyter-widgets/controls",
      "model_module_version": "1.1.0",
      "model_name": "DescriptionStyleModel",
      "state": {
       "description_width": ""
      }
     },
     "038cd47bafb04d39a36cd5ab084c585d": {
      "model_module": "@jupyter-widgets/controls",
      "model_module_version": "1.1.0",
      "model_name": "DescriptionStyleModel",
      "state": {
       "description_width": ""
      }
     },
     "039f033d47cf409a828dd3e58c09ff31": {
      "model_module": "@jupyter-widgets/base",
      "model_module_version": "1.0.0",
      "model_name": "LayoutModel",
      "state": {}
     },
     "03a393a5b856453da2dc9e69bb9c625b": {
      "model_module": "@jupyter-widgets/controls",
      "model_module_version": "1.1.0",
      "model_name": "DescriptionStyleModel",
      "state": {
       "description_width": ""
      }
     },
     "03b19c06f12e4aadad7aec80c5d6b1ed": {
      "model_module": "@jupyter-widgets/base",
      "model_module_version": "1.0.0",
      "model_name": "LayoutModel",
      "state": {}
     },
     "03bce7f3e45942f3879e3634436c2d48": {
      "model_module": "@jupyter-widgets/controls",
      "model_module_version": "1.1.0",
      "model_name": "CheckboxModel",
      "state": {
       "description": "80°",
       "disabled": false,
       "layout": "IPY_MODEL_933c72475e084d81ac77d6da3209cd71",
       "style": "IPY_MODEL_19e0b081d42e4dccaf1e0c50fc67ddd5",
       "value": false
      }
     },
     "03fbf2b260454a4aba02e0841a431c22": {
      "model_module": "@jupyter-widgets/base",
      "model_module_version": "1.0.0",
      "model_name": "LayoutModel",
      "state": {}
     },
     "0405d139d80c4d2fb48d2bc080b29133": {
      "model_module": "@jupyter-widgets/base",
      "model_module_version": "1.0.0",
      "model_name": "LayoutModel",
      "state": {}
     },
     "0454756e6ff34fae97b8cbffb2800fb8": {
      "model_module": "@jupyter-widgets/controls",
      "model_module_version": "1.1.0",
      "model_name": "ToggleButtonsModel",
      "state": {
       "_options_labels": [
        "H",
        "He",
        "C",
        "Si",
        "Fe"
       ],
       "button_style": "",
       "description": "Ion:",
       "icons": [],
       "index": 0,
       "layout": "IPY_MODEL_6656e479c3aa402088a708dc7886b481",
       "style": "IPY_MODEL_ec4904e2908944e1b622c2574f0e912a",
       "tooltips": [
        "Hydrogen",
        "Helium",
        "Carbon",
        "Silicon",
        "Iron"
       ]
      }
     },
     "047a017af03e49b6b3d64477ccdbb467": {
      "model_module": "@jupyter-widgets/base",
      "model_module_version": "1.0.0",
      "model_name": "LayoutModel",
      "state": {}
     },
     "04856c4da0f8470b965e9c90face4351": {
      "model_module": "@jupyter-widgets/controls",
      "model_module_version": "1.1.0",
      "model_name": "ToggleButtonsModel",
      "state": {
       "_options_labels": [
        "P (¹H)",
        "D (²H)"
       ],
       "button_style": "",
       "description": "Type:",
       "icons": [],
       "index": 0,
       "layout": "IPY_MODEL_c5d36e086e9d4cc3b7d1557ef0f7fa5e",
       "style": "IPY_MODEL_967b141189f74ccab36ab8014846abc2",
       "tooltips": [
        "Proton",
        "Deuteron"
       ]
      }
     },
     "048b5560dcc54ec0965d27a0b4adde42": {
      "model_module": "@jupyter-widgets/controls",
      "model_module_version": "1.1.0",
      "model_name": "CheckboxModel",
      "state": {
       "description": "Experiment",
       "disabled": false,
       "layout": "IPY_MODEL_3cb589dd6b2345fa9a81a2223dc97ce9",
       "style": "IPY_MODEL_75d2183c47ac4eb8a8ab256a36a9db1d",
       "value": true
      }
     },
     "048c1bcecd1d40c0884a177d5a9871b8": {
      "model_module": "@jupyter-widgets/controls",
      "model_module_version": "1.1.0",
      "model_name": "CheckboxModel",
      "state": {
       "description": "10°",
       "disabled": false,
       "layout": "IPY_MODEL_922f9e22784b4ae2bb657e36623d08f7",
       "style": "IPY_MODEL_6432281fb9754f448a6ef8b536a3b412",
       "value": true
      }
     },
     "048c97d7f51846b8a8fb4df0561446da": {
      "model_module": "@jupyter-widgets/controls",
      "model_module_version": "1.1.0",
      "model_name": "ToggleButtonsStyleModel",
      "state": {
       "button_width": "",
       "description_width": ""
      }
     },
     "04d1efb4970542e8a1080845ae9e2928": {
      "model_module": "@jupyter-widgets/controls",
      "model_module_version": "1.1.0",
      "model_name": "ToggleButtonsStyleModel",
      "state": {
       "button_width": "",
       "description_width": ""
      }
     },
     "04f6f0b7ec3144c382a4cc7cc0382006": {
      "model_module": "@jupyter-widgets/controls",
      "model_module_version": "1.1.0",
      "model_name": "DescriptionStyleModel",
      "state": {
       "description_width": ""
      }
     },
     "053cbccbe0f4414bad85c180627d0aa8": {
      "model_module": "@jupyter-widgets/base",
      "model_module_version": "1.0.0",
      "model_name": "LayoutModel",
      "state": {}
     },
     "056247fa572144639545bed9724d980c": {
      "model_module": "@jupyter-widgets/base",
      "model_module_version": "1.0.0",
      "model_name": "LayoutModel",
      "state": {}
     },
     "05cb3d47b34d471a8df96e77a72f430b": {
      "model_module": "@jupyter-widgets/controls",
      "model_module_version": "1.1.0",
      "model_name": "DescriptionStyleModel",
      "state": {
       "description_width": ""
      }
     },
     "05d44f7bd9aa41a9b3174967dca3017e": {
      "model_module": "@jupyter-widgets/controls",
      "model_module_version": "1.1.0",
      "model_name": "DescriptionStyleModel",
      "state": {
       "description_width": ""
      }
     },
     "0686d3b5c5b84f9092d04cdafdc19e38": {
      "model_module": "@jupyter-widgets/controls",
      "model_module_version": "1.1.0",
      "model_name": "CheckboxModel",
      "state": {
       "description": "135°",
       "disabled": false,
       "layout": "IPY_MODEL_65dc34305d364cc9aec224dba5542416",
       "style": "IPY_MODEL_bf46a752abcc4d5fbf32245fdf95c4c6",
       "value": true
      }
     },
     "0690a3e1cbc74d7187623275273dfd04": {
      "model_module": "@jupyter-widgets/controls",
      "model_module_version": "1.1.0",
      "model_name": "CheckboxModel",
      "state": {
       "description": "28.2°",
       "disabled": false,
       "layout": "IPY_MODEL_d2d4748d7e4a474f915d0d74bdbdd997",
       "style": "IPY_MODEL_7d96e7efeee54fd8a36c0a044393d5b5",
       "value": true
      }
     },
     "06911039ed2b4f93bbec1f3465e4792f": {
      "model_module": "@jupyter-widgets/controls",
      "model_module_version": "1.1.0",
      "model_name": "DescriptionStyleModel",
      "state": {
       "description_width": ""
      }
     },
     "06d7392df2194c34bd81733ab0f8cac0": {
      "model_module": "@jupyter-widgets/controls",
      "model_module_version": "1.1.0",
      "model_name": "CheckboxModel",
      "state": {
       "description": "10°",
       "disabled": false,
       "layout": "IPY_MODEL_5f33917099b84db99530cfe19a797a09",
       "style": "IPY_MODEL_cc25001962124cd0b19df67981cb178d",
       "value": true
      }
     },
     "06ffd4f5627f4e9aa530d9ff2d701525": {
      "model_module": "@jupyter-widgets/controls",
      "model_module_version": "1.1.0",
      "model_name": "ToggleButtonsModel",
      "state": {
       "_options_labels": [
        "None",
        "Spaced by 10²"
       ],
       "button_style": "",
       "description": "Spacing:",
       "icons": [],
       "index": 0,
       "layout": "IPY_MODEL_5db4f40a4ff340c792d454c100ac3ca1",
       "style": "IPY_MODEL_10a9f39e18144bbb8a1579af3ea8665d",
       "tooltips": [
        "All values are presented as is.",
        "Plots for different detectors are multiplied by powers of 10² for easier viewing."
       ]
      }
     },
     "0746464c2c8941e88c580ec518a56bda": {
      "model_module": "@jupyter-widgets/base",
      "model_module_version": "1.0.0",
      "model_name": "LayoutModel",
      "state": {}
     },
     "0746ca285bc24b84bbfb25149be57bd6": {
      "model_module": "@jupyter-widgets/controls",
      "model_module_version": "1.1.0",
      "model_name": "DescriptionStyleModel",
      "state": {
       "description_width": ""
      }
     },
     "074cb167ae664aa1a749896d67cfd459": {
      "model_module": "@jupyter-widgets/controls",
      "model_module_version": "1.1.0",
      "model_name": "DescriptionStyleModel",
      "state": {
       "description_width": ""
      }
     },
     "078ada0077324c248ec853179331469f": {
      "model_module": "@jupyter-widgets/controls",
      "model_module_version": "1.1.0",
      "model_name": "DescriptionStyleModel",
      "state": {
       "description_width": ""
      }
     },
     "07a353fb216b4b9d82518cf8f40c9a26": {
      "model_module": "@jupyter-widgets/controls",
      "model_module_version": "1.1.0",
      "model_name": "LabelModel",
      "state": {
       "layout": "IPY_MODEL_eacf4b0c30b94827b8e74e51c200c853",
       "style": "IPY_MODEL_a5ab1f2937214bd09dec3d87590ba417",
       "value": "Select which secondary particle to plot spectra for."
      }
     },
     "07d75c2623a14acaac5b43e08e71b559": {
      "model_module": "@jupyter-widgets/controls",
      "model_module_version": "1.1.0",
      "model_name": "DescriptionStyleModel",
      "state": {
       "description_width": ""
      }
     },
     "08166d77b35f43fd8598f6c8612cbcaa": {
      "model_module": "@jupyter-widgets/controls",
      "model_module_version": "1.1.0",
      "model_name": "DescriptionStyleModel",
      "state": {
       "description_width": ""
      }
     },
     "081eed35ebd6477f95c3abb50281bf35": {
      "model_module": "@jupyter-widgets/controls",
      "model_module_version": "1.1.0",
      "model_name": "ToggleButtonsStyleModel",
      "state": {
       "button_width": "",
       "description_width": ""
      }
     },
     "083d6cdb707a4e63bf282c13b7456a14": {
      "model_module": "@jupyter-widgets/base",
      "model_module_version": "1.0.0",
      "model_name": "LayoutModel",
      "state": {}
     },
     "087c346b7f9149a5bcd28c50dd1b4483": {
      "model_module": "@jupyter-widgets/controls",
      "model_module_version": "1.1.0",
      "model_name": "CheckboxModel",
      "state": {
       "description": "10°",
       "disabled": false,
       "layout": "IPY_MODEL_0dfa11fe74624d75989c09fe7f864bfe",
       "style": "IPY_MODEL_19147c5420c549e0b2700c357babc0f8",
       "value": true
      }
     },
     "08874af4f11e4866a1c963a34f169b7b": {
      "model_module": "@jupyter-widgets/controls",
      "model_module_version": "1.1.0",
      "model_name": "DescriptionStyleModel",
      "state": {
       "description_width": ""
      }
     },
     "08a9fee61c6045c59bcc75c4bd20081c": {
      "model_module": "@jupyter-widgets/controls",
      "model_module_version": "1.1.0",
      "model_name": "DescriptionStyleModel",
      "state": {
       "description_width": ""
      }
     },
     "08f0b78c47574a45ac876371dff017db": {
      "model_module": "@jupyter-widgets/base",
      "model_module_version": "1.0.0",
      "model_name": "LayoutModel",
      "state": {}
     },
     "0904d5c615004520b4addc0afd8f11c6": {
      "model_module": "@jupyter-widgets/base",
      "model_module_version": "1.0.0",
      "model_name": "LayoutModel",
      "state": {}
     },
     "090598d5c0c24f1f90f63baa520df67a": {
      "model_module": "@jupyter-widgets/base",
      "model_module_version": "1.0.0",
      "model_name": "LayoutModel",
      "state": {}
     },
     "09361aa9b2214dcb930e3afa4c30b797": {
      "model_module": "@jupyter-widgets/controls",
      "model_module_version": "1.1.0",
      "model_name": "CheckboxModel",
      "state": {
       "description": "10°",
       "disabled": false,
       "layout": "IPY_MODEL_1749abe25a594d598be919bca214e8ae",
       "style": "IPY_MODEL_c2605c1cb60749a7b7270bcd75f72b79",
       "value": true
      }
     },
     "094e31aacf7e473a919b5a57d531f347": {
      "model_module": "@jupyter-widgets/base",
      "model_module_version": "1.0.0",
      "model_name": "LayoutModel",
      "state": {}
     },
     "095b4ce3a3364cbaa4c0dbd459814f9a": {
      "model_module": "@jupyter-widgets/controls",
      "model_module_version": "1.1.0",
      "model_name": "DescriptionStyleModel",
      "state": {
       "description_width": ""
      }
     },
     "096edd4c560a4a609841cd291ee98d00": {
      "model_module": "@jupyter-widgets/controls",
      "model_module_version": "1.1.0",
      "model_name": "CheckboxModel",
      "state": {
       "description": "10°",
       "disabled": false,
       "layout": "IPY_MODEL_665fc08931fc44619afd3e1014cef644",
       "style": "IPY_MODEL_a59b588a6e0b4502b50c251055bfb406",
       "value": true
      }
     },
     "09f1f55f355d408eb0e5a49eba19f462": {
      "model_module": "@jupyter-widgets/base",
      "model_module_version": "1.0.0",
      "model_name": "LayoutModel",
      "state": {}
     },
     "09f55ebe75614576bc59d2f1dc4acb99": {
      "model_module": "@jupyter-widgets/controls",
      "model_module_version": "1.1.0",
      "model_name": "LabelModel",
      "state": {
       "layout": "IPY_MODEL_a32596ccc6844d88beffb3e6617460f0",
       "style": "IPY_MODEL_d356f5cd30dd499481e6418c369bd94c",
       "value": "Select the detector angles to plot."
      }
     },
     "0a097c151ddc43b782d890c5da15407d": {
      "model_module": "@jupyter-widgets/controls",
      "model_module_version": "1.1.0",
      "model_name": "CheckboxModel",
      "state": {
       "description": "10°",
       "disabled": false,
       "layout": "IPY_MODEL_9871518fbb424f9fb82122b1118f1676",
       "style": "IPY_MODEL_64bcc39945b54dc3845c9c8a5f663971",
       "value": true
      }
     },
     "0a0d9cee4f61455e902848baa25f71d3": {
      "model_module": "@jupyter-widgets/controls",
      "model_module_version": "1.1.0",
      "model_name": "DescriptionStyleModel",
      "state": {
       "description_width": ""
      }
     },
     "0a2b6bf867184cf09ab1315bfa560c20": {
      "model_module": "@jupyter-widgets/controls",
      "model_module_version": "1.1.0",
      "model_name": "CheckboxModel",
      "state": {
       "description": "30°",
       "disabled": false,
       "layout": "IPY_MODEL_58077b879af64e7dbc37ed3f0b737f2b",
       "style": "IPY_MODEL_fafd0e3b04b4483f90d356ced0c29506",
       "value": true
      }
     },
     "0a3b209bcf6841b9a433d6e5c3b1a795": {
      "model_module": "@jupyter-widgets/controls",
      "model_module_version": "1.1.0",
      "model_name": "ToggleButtonsStyleModel",
      "state": {
       "button_width": "",
       "description_width": ""
      }
     },
     "0a4648394cbd457b8e85c232f793fa03": {
      "model_module": "@jupyter-widgets/controls",
      "model_module_version": "1.1.0",
      "model_name": "CheckboxModel",
      "state": {
       "description": "30°",
       "disabled": false,
       "layout": "IPY_MODEL_b1b2e4a172a0450c8398fd8c63426533",
       "style": "IPY_MODEL_94f922cfd08645dbadb59353c980e910",
       "value": true
      }
     },
     "0a82ab59695f43bab8f1746b3a2e4905": {
      "model_module": "@jupyter-widgets/base",
      "model_module_version": "1.0.0",
      "model_name": "LayoutModel",
      "state": {}
     },
     "0a892fe9e1af434dbee48a0fe6ed30f0": {
      "model_module": "@jupyter-widgets/base",
      "model_module_version": "1.0.0",
      "model_name": "LayoutModel",
      "state": {}
     },
     "0abffa0061eb431eadd0b537a048d95d": {
      "model_module": "@jupyter-widgets/base",
      "model_module_version": "1.0.0",
      "model_name": "LayoutModel",
      "state": {}
     },
     "0b10e77ea73949b88d3e9b00e33b7c0c": {
      "model_module": "@jupyter-widgets/controls",
      "model_module_version": "1.1.0",
      "model_name": "CheckboxModel",
      "state": {
       "description": "80°",
       "disabled": false,
       "layout": "IPY_MODEL_384c2f9e6a9240a7aac3d6b7beeb3c2e",
       "style": "IPY_MODEL_008a7696a1c74d4cb8ae1ca7c84e83e4",
       "value": true
      }
     },
     "0b259ca278e647fdae7df89f47deff34": {
      "model_module": "@jupyter-widgets/base",
      "model_module_version": "1.0.0",
      "model_name": "LayoutModel",
      "state": {}
     },
     "0b27835f9ef445558cc2f963f85d4f87": {
      "model_module": "@jupyter-widgets/controls",
      "model_module_version": "1.1.0",
      "model_name": "DescriptionStyleModel",
      "state": {
       "description_width": ""
      }
     },
     "0b6e65836b254ff49828fe5d8fdca69f": {
      "model_module": "@jupyter-widgets/controls",
      "model_module_version": "1.1.0",
      "model_name": "CheckboxModel",
      "state": {
       "description": "45°",
       "disabled": false,
       "layout": "IPY_MODEL_56eef3271bf545989ce729f658001984",
       "style": "IPY_MODEL_2ca819c4502f4d179b97705857a3cea9",
       "value": true
      }
     },
     "0ba15f02a3e241cfb5554239e37e8a39": {
      "model_module": "@jupyter-widgets/base",
      "model_module_version": "1.0.0",
      "model_name": "LayoutModel",
      "state": {}
     },
     "0bb45028a61a44e6912f4379e8479fb2": {
      "model_module": "@jupyter-widgets/controls",
      "model_module_version": "1.1.0",
      "model_name": "CheckboxModel",
      "state": {
       "description": "30°",
       "disabled": false,
       "layout": "IPY_MODEL_a9eb32704977437e852c288bee57f477",
       "style": "IPY_MODEL_efcb746359c4475e975c88a99c210c04",
       "value": true
      }
     },
     "0be0b15171fb44f1af5f90865579e69a": {
      "model_module": "@jupyter-widgets/controls",
      "model_module_version": "1.1.0",
      "model_name": "CheckboxModel",
      "state": {
       "description": "30°",
       "disabled": false,
       "layout": "IPY_MODEL_ae04b1d2163a40a8bc5de76789e0d27d",
       "style": "IPY_MODEL_dc6d91722d5c44ff8bff9b0db1e2cff7",
       "value": true
      }
     },
     "0bf4a0d53fc74f159eaa0fe9e9553c72": {
      "model_module": "@jupyter-widgets/controls",
      "model_module_version": "1.1.0",
      "model_name": "DescriptionStyleModel",
      "state": {
       "description_width": ""
      }
     },
     "0c132da78fcf4a549f39d30e06c640a9": {
      "model_module": "@jupyter-widgets/base",
      "model_module_version": "1.0.0",
      "model_name": "LayoutModel",
      "state": {}
     },
     "0c250d6154444cb5aaca2a60f583c229": {
      "model_module": "@jupyter-widgets/controls",
      "model_module_version": "1.1.0",
      "model_name": "ToggleButtonsStyleModel",
      "state": {
       "button_width": "",
       "description_width": ""
      }
     },
     "0c3297f4aa9948278ef3e5ba45d189d8": {
      "model_module": "@jupyter-widgets/controls",
      "model_module_version": "1.1.0",
      "model_name": "DescriptionStyleModel",
      "state": {
       "description_width": ""
      }
     },
     "0c4497ae6e61401f93ba222bb92a4bec": {
      "model_module": "@jupyter-widgets/controls",
      "model_module_version": "1.1.0",
      "model_name": "LabelModel",
      "state": {
       "layout": "IPY_MODEL_4b6fa27e982d4d39a045f12e95015ba9",
       "style": "IPY_MODEL_4cc39a6a644b45c2ae23f45f0791d40f",
       "value": "Select projectile ion energy."
      }
     },
     "0c95bdbf92084f04ab1fb8409bf086a9": {
      "model_module": "@jupyter-widgets/controls",
      "model_module_version": "1.1.0",
      "model_name": "CheckboxModel",
      "state": {
       "description": "135°",
       "disabled": false,
       "layout": "IPY_MODEL_b1f1994c3de742f98d80525a0dc6cdb8",
       "style": "IPY_MODEL_15c535b975a647e4bedb7e06e6a77381",
       "value": true
      }
     },
     "0cc5ed2fc18449fb9cdba5cdc70bab69": {
      "model_module": "@jupyter-widgets/controls",
      "model_module_version": "1.1.0",
      "model_name": "DescriptionStyleModel",
      "state": {
       "description_width": ""
      }
     },
     "0d0ef56dfa2143b8afbd9dfe27c424f4": {
      "model_module": "@jupyter-widgets/controls",
      "model_module_version": "1.1.0",
      "model_name": "CheckboxModel",
      "state": {
       "description": "12.7°",
       "disabled": false,
       "layout": "IPY_MODEL_e006b153e8c04f7981c6ddc8c3678b96",
       "style": "IPY_MODEL_f606adc961c44f8b9755d1e03eb8449a",
       "value": false
      }
     },
     "0d391190abd44d54b833e58e653dc40b": {
      "model_module": "@jupyter-widgets/base",
      "model_module_version": "1.0.0",
      "model_name": "LayoutModel",
      "state": {}
     },
     "0d5b2c31b6ba45a5b485646040acbc1c": {
      "model_module": "@jupyter-widgets/controls",
      "model_module_version": "1.1.0",
      "model_name": "DescriptionStyleModel",
      "state": {
       "description_width": ""
      }
     },
     "0d68d719bd2542f7a4a21bfdbf9e730f": {
      "model_module": "@jupyter-widgets/controls",
      "model_module_version": "1.1.0",
      "model_name": "DescriptionStyleModel",
      "state": {
       "description_width": ""
      }
     },
     "0d751cb4f6e548f4b8ce129fb2a1948f": {
      "model_module": "@jupyter-widgets/base",
      "model_module_version": "1.0.0",
      "model_name": "LayoutModel",
      "state": {}
     },
     "0d9a471588b04f9abc437e7e66b87771": {
      "model_module": "@jupyter-widgets/controls",
      "model_module_version": "1.1.0",
      "model_name": "CheckboxModel",
      "state": {
       "description": "45°",
       "disabled": false,
       "layout": "IPY_MODEL_274735463f814b4bb41f95977294b805",
       "style": "IPY_MODEL_ddd4c7730c2943e088922ab80047a48e",
       "value": true
      }
     },
     "0dc535502f544ef18cef129a43da4899": {
      "model_module": "@jupyter-widgets/controls",
      "model_module_version": "1.1.0",
      "model_name": "DescriptionStyleModel",
      "state": {
       "description_width": ""
      }
     },
     "0df35494584e4aa2ae0f69fa4df9264c": {
      "model_module": "@jupyter-widgets/base",
      "model_module_version": "1.0.0",
      "model_name": "LayoutModel",
      "state": {}
     },
     "0dfa11fe74624d75989c09fe7f864bfe": {
      "model_module": "@jupyter-widgets/base",
      "model_module_version": "1.0.0",
      "model_name": "LayoutModel",
      "state": {}
     },
     "0e32b3e38b3b49b8af1d0d38aad130b8": {
      "model_module": "@jupyter-widgets/controls",
      "model_module_version": "1.1.0",
      "model_name": "DescriptionStyleModel",
      "state": {
       "description_width": ""
      }
     },
     "0e4a60466a5a4a2e8b39e6aa0b0e9b1d": {
      "model_module": "@jupyter-widgets/controls",
      "model_module_version": "1.1.0",
      "model_name": "CheckboxModel",
      "state": {
       "description": "45°",
       "disabled": false,
       "layout": "IPY_MODEL_21f02ba46e614e60a7ef3d5ddcb58c4d",
       "style": "IPY_MODEL_379905cd5a194accbe7b7a843105614d",
       "value": true
      }
     },
     "0e58a76a942e4d48a53853067b866527": {
      "model_module": "@jupyter-widgets/controls",
      "model_module_version": "1.1.0",
      "model_name": "ToggleButtonsModel",
      "state": {
       "_options_labels": [
        "N (¹n)",
        "NDC (¹n)",
        "P (¹H)",
        "D (²H)",
        "T (³H)",
        "S (³He)",
        "A (⁴He)"
       ],
       "button_style": "",
       "description": "Particle:",
       "icons": [],
       "index": 1,
       "layout": "IPY_MODEL_cf507ac9b5704ecda923c74581b54fa9",
       "style": "IPY_MODEL_42da148a2a3e4f1f9716cd92540ea132",
       "tooltips": [
        "Neutron",
        "Back Target Neutron",
        "Proton",
        "Deuteron",
        "Triton",
        "Helium-3",
        "Helium-4"
       ]
      }
     },
     "0e7c74024ab7459c89e88c6a6c6d58c7": {
      "model_module": "@jupyter-widgets/controls",
      "model_module_version": "1.1.0",
      "model_name": "DescriptionStyleModel",
      "state": {
       "description_width": ""
      }
     },
     "0e990f10fa3a4299b2d8194a6469a2da": {
      "model_module": "@jupyter-widgets/controls",
      "model_module_version": "1.1.0",
      "model_name": "DescriptionStyleModel",
      "state": {
       "description_width": ""
      }
     },
     "0ebc3162b4da49f3a6d4f7aa043c52d9": {
      "model_module": "@jupyter-widgets/base",
      "model_module_version": "1.0.0",
      "model_name": "LayoutModel",
      "state": {}
     },
     "0ed75108efaa44f5b4e6d73404bdf8f4": {
      "model_module": "@jupyter-widgets/controls",
      "model_module_version": "1.1.0",
      "model_name": "CheckboxModel",
      "state": {
       "description": "60°",
       "disabled": false,
       "layout": "IPY_MODEL_8ea468f235574c918668b197248fbf7d",
       "style": "IPY_MODEL_14cfeddecba7482199b9ea67847f885f",
       "value": true
      }
     },
     "0f4d8e82915342dea9c99fdf5cf9559b": {
      "model_module": "@jupyter-widgets/base",
      "model_module_version": "1.0.0",
      "model_name": "LayoutModel",
      "state": {}
     },
     "0f64b367e84944c6bb9f39de60b04729": {
      "model_module": "@jupyter-widgets/controls",
      "model_module_version": "1.1.0",
      "model_name": "DescriptionStyleModel",
      "state": {
       "description_width": ""
      }
     },
     "0faaac1d69f34135b1b9e3cc6ffeb29c": {
      "model_module": "@jupyter-widgets/controls",
      "model_module_version": "1.1.0",
      "model_name": "DescriptionStyleModel",
      "state": {
       "description_width": ""
      }
     },
     "0fd4e4d9a1e24438beae0580eb21cd0a": {
      "model_module": "@jupyter-widgets/controls",
      "model_module_version": "1.1.0",
      "model_name": "DescriptionStyleModel",
      "state": {
       "description_width": ""
      }
     },
     "0fee5ca72fa14b4591a7f674fc17f243": {
      "model_module": "@jupyter-widgets/controls",
      "model_module_version": "1.1.0",
      "model_name": "CheckboxModel",
      "state": {
       "description": "7.2°",
       "disabled": false,
       "layout": "IPY_MODEL_bbb5f1f4d7e24b1a81fd951913eb0c43",
       "style": "IPY_MODEL_1963e7eec4ae4110934c80444a00a43c",
       "value": true
      }
     },
     "10187d260a8f420e86a01fdd246b3b19": {
      "model_module": "@jupyter-widgets/controls",
      "model_module_version": "1.1.0",
      "model_name": "LabelModel",
      "state": {
       "layout": "IPY_MODEL_69b8433c4d3c4ff2811205a7b366fe96",
       "style": "IPY_MODEL_3ba19ebc170b40f2b661526b1e62419f",
       "value": "Select the detector angles to plot."
      }
     },
     "104d58e9449e48749b05fefce343f075": {
      "model_module": "@jupyter-widgets/base",
      "model_module_version": "1.0.0",
      "model_name": "LayoutModel",
      "state": {}
     },
     "105f5d8a905f448a8019eaa894cb6f2a": {
      "model_module": "@jupyter-widgets/controls",
      "model_module_version": "1.1.0",
      "model_name": "CheckboxModel",
      "state": {
       "description": "7.2°",
       "disabled": false,
       "layout": "IPY_MODEL_97954afcbea94f4f9fc07ecfe9a9f91d",
       "style": "IPY_MODEL_a02fa49cb30d40c4823416bf6ad3c976",
       "value": false
      }
     },
     "107b2e5c7cb84655ad1c8e6c784e2697": {
      "model_module": "@jupyter-widgets/controls",
      "model_module_version": "1.1.0",
      "model_name": "CheckboxModel",
      "state": {
       "description": "30°",
       "disabled": false,
       "layout": "IPY_MODEL_e497490ce55a47528fa6a34bf8452d68",
       "style": "IPY_MODEL_a7823db7be3f4cd48902bd8f6cbba005",
       "value": true
      }
     },
     "10a9f39e18144bbb8a1579af3ea8665d": {
      "model_module": "@jupyter-widgets/controls",
      "model_module_version": "1.1.0",
      "model_name": "ToggleButtonsStyleModel",
      "state": {
       "button_width": "",
       "description_width": ""
      }
     },
     "10b4f99509df485689b185a6e77913a5": {
      "model_module": "@jupyter-widgets/controls",
      "model_module_version": "1.1.0",
      "model_name": "DescriptionStyleModel",
      "state": {
       "description_width": ""
      }
     },
     "10bde275d29e4c31ad1864d67cdf153c": {
      "model_module": "@jupyter-widgets/controls",
      "model_module_version": "1.1.0",
      "model_name": "ToggleButtonsModel",
      "state": {
       "_options_labels": [
        "N (¹n)",
        "NDC (¹n)",
        "P (¹H)",
        "D (²H)"
       ],
       "button_style": "",
       "description": "Type:",
       "icons": [],
       "index": 0,
       "layout": "IPY_MODEL_3fa835cdaf12418f909ab21e9778b253",
       "style": "IPY_MODEL_8916808f573642e7a06afcd05d759af7",
       "tooltips": [
        "Neutron",
        "Back Target Neutron",
        "Proton",
        "Deuteron"
       ]
      }
     },
     "10eb4b649ea049f6a6685d6b048edfea": {
      "model_module": "@jupyter-widgets/base",
      "model_module_version": "1.0.0",
      "model_name": "LayoutModel",
      "state": {}
     },
     "10f183f605ce403daad19007e941f595": {
      "model_module": "@jupyter-widgets/controls",
      "model_module_version": "1.1.0",
      "model_name": "DescriptionStyleModel",
      "state": {
       "description_width": ""
      }
     },
     "114b096c8d2849e88380a0216538768e": {
      "model_module": "@jupyter-widgets/controls",
      "model_module_version": "1.1.0",
      "model_name": "DescriptionStyleModel",
      "state": {
       "description_width": ""
      }
     },
     "11595e0a202141b1a1810a8271297d9a": {
      "model_module": "@jupyter-widgets/controls",
      "model_module_version": "1.1.0",
      "model_name": "LabelModel",
      "state": {
       "layout": "IPY_MODEL_2c677bde966440d1ab1d799e4a999cc7",
       "style": "IPY_MODEL_56109a4f301b4e7eaf085b954adad9c5",
       "value": "Select the detector angles to plot."
      }
     },
     "116ac127c33a4645b99fbacd4acffcea": {
      "model_module": "@jupyter-widgets/base",
      "model_module_version": "1.0.0",
      "model_name": "LayoutModel",
      "state": {}
     },
     "117cc8277ad9466798b31d944957c9ea": {
      "model_module": "@jupyter-widgets/controls",
      "model_module_version": "1.1.0",
      "model_name": "LabelModel",
      "state": {
       "layout": "IPY_MODEL_6b777fc2776b4640a564e258100c4073",
       "style": "IPY_MODEL_d09da5f86ec0486cb0fbeaad7d0b924a",
       "value": "Select the detector angles to plot."
      }
     },
     "11ac6cd2c4e0425181ae145c624bb8f7": {
      "model_module": "@jupyter-widgets/controls",
      "model_module_version": "1.1.0",
      "model_name": "LabelModel",
      "state": {
       "layout": "IPY_MODEL_4bbd72c1fa0b40e69f7b7a8bbda3f824",
       "style": "IPY_MODEL_43912211b5184688b8ce478f1efbc6ef",
       "value": "Select the detector angles to plot."
      }
     },
     "11aea78791f04ca6adbc4af597e72e71": {
      "model_module": "@jupyter-widgets/base",
      "model_module_version": "1.0.0",
      "model_name": "LayoutModel",
      "state": {}
     },
     "11d6702a7a5f4943902e8121864bb3b1": {
      "model_module": "@jupyter-widgets/controls",
      "model_module_version": "1.1.0",
      "model_name": "ButtonModel",
      "state": {
       "button_style": "success",
       "description": "Update plot",
       "icon": "paint-brush",
       "layout": "IPY_MODEL_550a8b4a444a4dc8979aaff27f9aea77",
       "style": "IPY_MODEL_47bb9e4681e444679e939c70b022b30b",
       "tooltip": "Click to redraw the plot below with updated options from above."
      }
     },
     "11df27aa5e3847d59b5cbdd1ed1e833d": {
      "model_module": "@jupyter-widgets/base",
      "model_module_version": "1.0.0",
      "model_name": "LayoutModel",
      "state": {}
     },
     "11e5620c07cc43d8a2786e3639005438": {
      "model_module": "@jupyter-widgets/controls",
      "model_module_version": "1.1.0",
      "model_name": "DescriptionStyleModel",
      "state": {
       "description_width": ""
      }
     },
     "11f48d37a535475ca688e0905db3162f": {
      "model_module": "@jupyter-widgets/base",
      "model_module_version": "1.0.0",
      "model_name": "LayoutModel",
      "state": {}
     },
     "1245431019ef4cbaa2e0848f14663203": {
      "model_module": "@jupyter-widgets/controls",
      "model_module_version": "1.1.0",
      "model_name": "DescriptionStyleModel",
      "state": {
       "description_width": ""
      }
     },
     "125eeccb2fdb4c41a531b1210628a84b": {
      "model_module": "@jupyter-widgets/controls",
      "model_module_version": "1.1.0",
      "model_name": "CheckboxModel",
      "state": {
       "description": "45°",
       "disabled": false,
       "layout": "IPY_MODEL_e4d804abadc14c74a33145526e02a3b7",
       "style": "IPY_MODEL_8e7f2696ab6a4fb79016841dd4e1fa51",
       "value": true
      }
     },
     "126979ad38054e0a8468ba5e307f9db5": {
      "model_module": "@jupyter-widgets/controls",
      "model_module_version": "1.1.0",
      "model_name": "ToggleButtonsModel",
      "state": {
       "_options_labels": [
        "N (¹n)",
        "NDC (¹n)",
        "P (¹H)",
        "D (²H)",
        "T (³H)",
        "S (³He)",
        "A (⁴He)"
       ],
       "button_style": "",
       "description": "Type:",
       "icons": [],
       "index": 5,
       "layout": "IPY_MODEL_f4a71d72724943bfaf0276bf593011e7",
       "style": "IPY_MODEL_4873b52e14fb4e01a2efc9b6ec9f4561",
       "tooltips": [
        "Neutron",
        "Back Target Neutron",
        "Proton",
        "Deuteron",
        "Triton",
        "Helium-3",
        "Helium-4"
       ]
      }
     },
     "128415027564430eb376c5398a76e9ed": {
      "model_module": "@jupyter-widgets/controls",
      "model_module_version": "1.1.0",
      "model_name": "CheckboxModel",
      "state": {
       "description": "80°",
       "disabled": false,
       "layout": "IPY_MODEL_7bd08e09b235419884b9026c8318d57b",
       "style": "IPY_MODEL_1d9e716883364df8a8ff753b2645afa2",
       "value": true
      }
     },
     "12cf0e3f5beb4e5db305b20b8628fea2": {
      "model_module": "@jupyter-widgets/controls",
      "model_module_version": "1.1.0",
      "model_name": "ToggleButtonsStyleModel",
      "state": {
       "button_width": "",
       "description_width": ""
      }
     },
     "12dad28b0128407b921fd9caa9fb30b1": {
      "model_module": "@jupyter-widgets/controls",
      "model_module_version": "1.1.0",
      "model_name": "CheckboxModel",
      "state": {
       "description": "80°",
       "disabled": false,
       "layout": "IPY_MODEL_f055cac736c0407b94d3e7ddcc082153",
       "style": "IPY_MODEL_1e81c5de21e34a69a2a2f8ab37580fa5",
       "value": true
      }
     },
     "134bc7054b404937bd3736cbe91e7b67": {
      "model_module": "@jupyter-widgets/base",
      "model_module_version": "1.0.0",
      "model_name": "LayoutModel",
      "state": {}
     },
     "134dbfaf626f4f0188ccfb5e92dc8b4c": {
      "model_module": "@jupyter-widgets/controls",
      "model_module_version": "1.1.0",
      "model_name": "DescriptionStyleModel",
      "state": {
       "description_width": ""
      }
     },
     "1365e00648e04d3e8ccd0cde2afb99d2": {
      "model_module": "@jupyter-widgets/controls",
      "model_module_version": "1.1.0",
      "model_name": "LabelModel",
      "state": {
       "layout": "IPY_MODEL_84775fd52f4349bfb087eae261842288",
       "style": "IPY_MODEL_aa3cfd405b92404eb2f19d71ca77330c",
       "value": "Select the detector angles to plot."
      }
     },
     "1390752cdc434e52b9f7bbcab6f4e297": {
      "model_module": "@jupyter-widgets/base",
      "model_module_version": "1.0.0",
      "model_name": "LayoutModel",
      "state": {}
     },
     "13ca9599e8a6458b9f877c77a465cadf": {
      "model_module": "@jupyter-widgets/base",
      "model_module_version": "1.0.0",
      "model_name": "LayoutModel",
      "state": {}
     },
     "13e8722c02124a1eb5386f71fef459c9": {
      "model_module": "@jupyter-widgets/base",
      "model_module_version": "1.0.0",
      "model_name": "LayoutModel",
      "state": {}
     },
     "1411d8279de942bcac29d5e365385d3c": {
      "model_module": "@jupyter-widgets/base",
      "model_module_version": "1.0.0",
      "model_name": "LayoutModel",
      "state": {}
     },
     "1438a40c9bcc4938b16e0f607404b957": {
      "model_module": "@jupyter-widgets/controls",
      "model_module_version": "1.1.0",
      "model_name": "ToggleButtonsModel",
      "state": {
       "_options_labels": [
        "400 MeV",
        "800 MeV",
        "2500 MeV"
       ],
       "button_style": "",
       "description": "Energy:",
       "icons": [],
       "index": 0,
       "layout": "IPY_MODEL_b897da7bbb4b482da822f91e6f777254",
       "style": "IPY_MODEL_6efc4b6151e242caaa8ab52d50bd5997",
       "tooltips": [
        "lowest energy",
        "middle energy",
        "highest energy"
       ]
      }
     },
     "1444a36731094071b713ff974db02236": {
      "model_module": "@jupyter-widgets/controls",
      "model_module_version": "1.1.0",
      "model_name": "DescriptionStyleModel",
      "state": {
       "description_width": ""
      }
     },
     "145a572af0524b2c966a392096088f62": {
      "model_module": "@jupyter-widgets/controls",
      "model_module_version": "1.1.0",
      "model_name": "CheckboxModel",
      "state": {
       "description": "30°",
       "disabled": false,
       "layout": "IPY_MODEL_1ffc5d883a454771a14c0ab9f328fcf3",
       "style": "IPY_MODEL_4ea59979a0084e069d4cfe7c617b86d8",
       "value": true
      }
     },
     "1464d343c35a4ef39cb521de45cc30a7": {
      "model_module": "@jupyter-widgets/base",
      "model_module_version": "1.0.0",
      "model_name": "LayoutModel",
      "state": {}
     },
     "14747b7132f64713b014ca83848cb75d": {
      "model_module": "@jupyter-widgets/base",
      "model_module_version": "1.0.0",
      "model_name": "LayoutModel",
      "state": {}
     },
     "1487e8abab6d47ebb0c49c2e27bd0fc5": {
      "model_module": "@jupyter-widgets/controls",
      "model_module_version": "1.1.0",
      "model_name": "DescriptionStyleModel",
      "state": {
       "description_width": ""
      }
     },
     "14a99f6b164c4d9299d9760d104c3d74": {
      "model_module": "@jupyter-widgets/base",
      "model_module_version": "1.0.0",
      "model_name": "LayoutModel",
      "state": {}
     },
     "14cfeddecba7482199b9ea67847f885f": {
      "model_module": "@jupyter-widgets/controls",
      "model_module_version": "1.1.0",
      "model_name": "DescriptionStyleModel",
      "state": {
       "description_width": ""
      }
     },
     "14fafc4eb4bf469cae61c06d8cce53bf": {
      "model_module": "@jupyter-widgets/base",
      "model_module_version": "1.0.0",
      "model_name": "LayoutModel",
      "state": {}
     },
     "150c190f1f854c3f99617e36a9d284b7": {
      "model_module": "@jupyter-widgets/controls",
      "model_module_version": "1.1.0",
      "model_name": "CheckboxModel",
      "state": {
       "description": "30°",
       "disabled": false,
       "layout": "IPY_MODEL_94435b3fbd774ecb9620eeafcda40e7b",
       "style": "IPY_MODEL_622b1dbaabd243b9843ca2f3fffb7666",
       "value": true
      }
     },
     "152c368039ae4f16b2ef95b826c218db": {
      "model_module": "@jupyter-widgets/controls",
      "model_module_version": "1.1.0",
      "model_name": "CheckboxModel",
      "state": {
       "description": "45°",
       "disabled": false,
       "layout": "IPY_MODEL_88c16b0b83314b6692444ec6c22caa7f",
       "style": "IPY_MODEL_4dc60796dc4d4b2fb291300a78b5e453",
       "value": true
      }
     },
     "156f2356d2f34394bd0ef2bbc9f4c5b0": {
      "model_module": "@jupyter-widgets/base",
      "model_module_version": "1.0.0",
      "model_name": "LayoutModel",
      "state": {}
     },
     "15be3f50cce94b91a4aa3def909f1e33": {
      "model_module": "@jupyter-widgets/base",
      "model_module_version": "1.0.0",
      "model_name": "LayoutModel",
      "state": {}
     },
     "15c535b975a647e4bedb7e06e6a77381": {
      "model_module": "@jupyter-widgets/controls",
      "model_module_version": "1.1.0",
      "model_name": "DescriptionStyleModel",
      "state": {
       "description_width": ""
      }
     },
     "15ee170653c240fb99340a790479ce12": {
      "model_module": "@jupyter-widgets/controls",
      "model_module_version": "1.1.0",
      "model_name": "DescriptionStyleModel",
      "state": {
       "description_width": ""
      }
     },
     "1611a7e4b1b04daa83ba9fbdf40a6b48": {
      "model_module": "@jupyter-widgets/controls",
      "model_module_version": "1.1.0",
      "model_name": "DescriptionStyleModel",
      "state": {
       "description_width": ""
      }
     },
     "16645c168df54931bd863473f3de34b4": {
      "model_module": "@jupyter-widgets/base",
      "model_module_version": "1.0.0",
      "model_name": "LayoutModel",
      "state": {}
     },
     "1672aa49f4314ddf92f6e8228632b8df": {
      "model_module": "@jupyter-widgets/base",
      "model_module_version": "1.0.0",
      "model_name": "LayoutModel",
      "state": {}
     },
     "16826bc0ce984138840e74701681d5b5": {
      "model_module": "@jupyter-widgets/base",
      "model_module_version": "1.0.0",
      "model_name": "LayoutModel",
      "state": {}
     },
     "169917404f5542f0acc9e96eb4383c57": {
      "model_module": "@jupyter-widgets/controls",
      "model_module_version": "1.1.0",
      "model_name": "LabelModel",
      "state": {
       "layout": "IPY_MODEL_2c74d1c741714f67aa3c29cd6db0295b",
       "style": "IPY_MODEL_4df1a3837fc04729974df5c9012b3dde",
       "value": "Select upstream target mass thickness."
      }
     },
     "16a0a785c08a4f329604b9d7b46e1730": {
      "model_module": "@jupyter-widgets/controls",
      "model_module_version": "1.1.0",
      "model_name": "ToggleButtonsStyleModel",
      "state": {
       "button_width": "",
       "description_width": ""
      }
     },
     "16f670a283904513995b6aa8c48c5375": {
      "model_module": "@jupyter-widgets/base",
      "model_module_version": "1.0.0",
      "model_name": "LayoutModel",
      "state": {}
     },
     "16f7563b15f24961b00e03182136e5e0": {
      "model_module": "@jupyter-widgets/base",
      "model_module_version": "1.0.0",
      "model_name": "LayoutModel",
      "state": {}
     },
     "16fa1374555044cb9b5eb597982fd0c0": {
      "model_module": "@jupyter-widgets/controls",
      "model_module_version": "1.1.0",
      "model_name": "ToggleButtonsModel",
      "state": {
       "_options_labels": [
        "P (¹H)",
        "D (²H)",
        "T (³H)",
        "S (³He)",
        "A (⁴He)"
       ],
       "button_style": "",
       "description": "Type:",
       "icons": [],
       "index": 1,
       "layout": "IPY_MODEL_4ef0084a078247899fe9c9e4946364ae",
       "style": "IPY_MODEL_77f0a240fb514069b6c89a150a7abac9",
       "tooltips": [
        "Proton",
        "Deuteron",
        "Triton",
        "Helium-3",
        "Helium-4"
       ]
      }
     },
     "1719a77f518142a39ecc0dced8ab027f": {
      "model_module": "@jupyter-widgets/base",
      "model_module_version": "1.0.0",
      "model_name": "LayoutModel",
      "state": {}
     },
     "1749abe25a594d598be919bca214e8ae": {
      "model_module": "@jupyter-widgets/base",
      "model_module_version": "1.0.0",
      "model_name": "LayoutModel",
      "state": {}
     },
     "1757cdb3a11c42869812c07a7a3a6d56": {
      "model_module": "@jupyter-widgets/controls",
      "model_module_version": "1.1.0",
      "model_name": "DescriptionStyleModel",
      "state": {
       "description_width": ""
      }
     },
     "17bae485d4da4ee1af714e9f524d5da1": {
      "model_module": "@jupyter-widgets/base",
      "model_module_version": "1.0.0",
      "model_name": "LayoutModel",
      "state": {}
     },
     "180b1185efac437da63d4e48062134ca": {
      "model_module": "@jupyter-widgets/controls",
      "model_module_version": "1.1.0",
      "model_name": "LabelModel",
      "state": {
       "layout": "IPY_MODEL_1a7a00b0f1c743d288a666ab80835582",
       "style": "IPY_MODEL_ff2f94b2546b423daf13837d3bd365ab",
       "value": "Select projectile ion species and energy."
      }
     },
     "181d532fcf664ac59ef38448d3ac215c": {
      "model_module": "@jupyter-widgets/base",
      "model_module_version": "1.0.0",
      "model_name": "LayoutModel",
      "state": {}
     },
     "18863704081745a6b44ce17d97071696": {
      "model_module": "@jupyter-widgets/base",
      "model_module_version": "1.0.0",
      "model_name": "LayoutModel",
      "state": {}
     },
     "18b8c3c6b1d2459ab250e28c7d51c293": {
      "model_module": "@jupyter-widgets/controls",
      "model_module_version": "1.1.0",
      "model_name": "DescriptionStyleModel",
      "state": {
       "description_width": ""
      }
     },
     "18b949db5fe34bef96f34c741ec2e158": {
      "model_module": "@jupyter-widgets/controls",
      "model_module_version": "1.1.0",
      "model_name": "DescriptionStyleModel",
      "state": {
       "description_width": ""
      }
     },
     "18ec9503a0314fdfb4fd82944a091077": {
      "model_module": "@jupyter-widgets/controls",
      "model_module_version": "1.1.0",
      "model_name": "ToggleButtonsStyleModel",
      "state": {
       "button_width": "",
       "description_width": ""
      }
     },
     "1902eba716b74c90bbd59002c4fa7e7e": {
      "model_module": "@jupyter-widgets/controls",
      "model_module_version": "1.1.0",
      "model_name": "LabelModel",
      "state": {
       "layout": "IPY_MODEL_7eb4d549ff354d1d97bf02337d3d4441",
       "style": "IPY_MODEL_5551224bca5049e7be23f28c01e1dd3b",
       "value": "Select upstream target material and thickness."
      }
     },
     "19147c5420c549e0b2700c357babc0f8": {
      "model_module": "@jupyter-widgets/controls",
      "model_module_version": "1.1.0",
      "model_name": "DescriptionStyleModel",
      "state": {
       "description_width": ""
      }
     },
     "1954fcd499e84497b4865b733f2fe9a4": {
      "model_module": "@jupyter-widgets/base",
      "model_module_version": "1.0.0",
      "model_name": "LayoutModel",
      "state": {}
     },
     "195d94cd3ae042f0960a238e7d83b52f": {
      "model_module": "@jupyter-widgets/base",
      "model_module_version": "1.0.0",
      "model_name": "LayoutModel",
      "state": {}
     },
     "1961e98b7ac3486ebc1961e8cfeef51c": {
      "model_module": "@jupyter-widgets/base",
      "model_module_version": "1.0.0",
      "model_name": "LayoutModel",
      "state": {}
     },
     "1963e7eec4ae4110934c80444a00a43c": {
      "model_module": "@jupyter-widgets/controls",
      "model_module_version": "1.1.0",
      "model_name": "DescriptionStyleModel",
      "state": {
       "description_width": ""
      }
     },
     "1969fd309e104c78be9910fab3e01e63": {
      "model_module": "@jupyter-widgets/controls",
      "model_module_version": "1.1.0",
      "model_name": "CheckboxModel",
      "state": {
       "description": "10°",
       "disabled": false,
       "layout": "IPY_MODEL_7361620793a041eb83e6cebabb392c82",
       "style": "IPY_MODEL_23dd98cd3a2f4af9b3fe95992b838186",
       "value": true
      }
     },
     "196b92fe93b14a5e9565d48f5aa1f5ce": {
      "model_module": "@jupyter-widgets/controls",
      "model_module_version": "1.1.0",
      "model_name": "ToggleButtonsStyleModel",
      "state": {
       "button_width": "",
       "description_width": ""
      }
     },
     "197075fb586e4734965179c897e4f958": {
      "model_module": "@jupyter-widgets/controls",
      "model_module_version": "1.1.0",
      "model_name": "DescriptionStyleModel",
      "state": {
       "description_width": ""
      }
     },
     "19ccf39af38349de8dfba6854f1eef09": {
      "model_module": "@jupyter-widgets/controls",
      "model_module_version": "1.1.0",
      "model_name": "CheckboxModel",
      "state": {
       "description": "30°",
       "disabled": false,
       "layout": "IPY_MODEL_f321083ddc564a30968b1d85bf33aa1b",
       "style": "IPY_MODEL_269da9fb17a54ca783dafdd295da5430",
       "value": true
      }
     },
     "19e0b081d42e4dccaf1e0c50fc67ddd5": {
      "model_module": "@jupyter-widgets/controls",
      "model_module_version": "1.1.0",
      "model_name": "DescriptionStyleModel",
      "state": {
       "description_width": ""
      }
     },
     "19ecf35209604accb1c26bee4e7667e4": {
      "model_module": "@jupyter-widgets/controls",
      "model_module_version": "1.1.0",
      "model_name": "ToggleButtonsModel",
      "state": {
       "_options_labels": [
        "OLS",
        "NaI"
       ],
       "button_style": "",
       "description": "Type:",
       "icons": [],
       "index": 0,
       "layout": "IPY_MODEL_053cbccbe0f4414bad85c180627d0aa8",
       "style": "IPY_MODEL_8e949d24e566410ab568643397076396",
       "tooltips": [
        "Organic Liquid Scintillator",
        "Sodium Iodide"
       ]
      }
     },
     "1a0b47557ddb471a9abef45ce46f53bc": {
      "model_module": "@jupyter-widgets/controls",
      "model_module_version": "1.1.0",
      "model_name": "DescriptionStyleModel",
      "state": {
       "description_width": ""
      }
     },
     "1a34ec5b142b45db90573b92d4c30f07": {
      "model_module": "@jupyter-widgets/controls",
      "model_module_version": "1.1.0",
      "model_name": "CheckboxModel",
      "state": {
       "description": "60°",
       "disabled": false,
       "layout": "IPY_MODEL_a86e995100d74316a3d0e3db7e535fcc",
       "style": "IPY_MODEL_a62492efc26142d39374db8dd98e3500",
       "value": true
      }
     },
     "1a377439799f4844b4b90a8aaa874093": {
      "model_module": "@jupyter-widgets/controls",
      "model_module_version": "1.1.0",
      "model_name": "LabelModel",
      "state": {
       "layout": "IPY_MODEL_1c2d0cb27cfc487392e4c839e8ece25f",
       "style": "IPY_MODEL_08166d77b35f43fd8598f6c8612cbcaa",
       "value": "Select projectile ion energy."
      }
     },
     "1a46dbed02354026a4326b00cab9b040": {
      "model_module": "@jupyter-widgets/controls",
      "model_module_version": "1.1.0",
      "model_name": "DescriptionStyleModel",
      "state": {
       "description_width": ""
      }
     },
     "1a5612b401944defb18e84f5e71fc199": {
      "model_module": "@jupyter-widgets/controls",
      "model_module_version": "1.1.0",
      "model_name": "ToggleButtonsStyleModel",
      "state": {
       "button_width": "",
       "description_width": ""
      }
     },
     "1a684b2eadf148cba283c44e38e6ec3c": {
      "model_module": "@jupyter-widgets/controls",
      "model_module_version": "1.1.0",
      "model_name": "ButtonStyleModel",
      "state": {}
     },
     "1a69e3aee3e14b7db2c3eaef0f27ff8c": {
      "model_module": "@jupyter-widgets/base",
      "model_module_version": "1.0.0",
      "model_name": "LayoutModel",
      "state": {}
     },
     "1a7a00b0f1c743d288a666ab80835582": {
      "model_module": "@jupyter-widgets/base",
      "model_module_version": "1.0.0",
      "model_name": "LayoutModel",
      "state": {}
     },
     "1a9341747b8a43e0a169c7d1d639c50f": {
      "model_module": "@jupyter-widgets/base",
      "model_module_version": "1.0.0",
      "model_name": "LayoutModel",
      "state": {}
     },
     "1aa273c7bdca4da191835a445d606065": {
      "model_module": "@jupyter-widgets/controls",
      "model_module_version": "1.1.0",
      "model_name": "DescriptionStyleModel",
      "state": {
       "description_width": ""
      }
     },
     "1abe2f30b79f4701a9f94cf1a438e122": {
      "model_module": "@jupyter-widgets/controls",
      "model_module_version": "1.1.0",
      "model_name": "ToggleButtonsStyleModel",
      "state": {
       "button_width": "",
       "description_width": ""
      }
     },
     "1acc6d4d97c0434783d57bd31fb7a9e1": {
      "model_module": "@jupyter-widgets/controls",
      "model_module_version": "1.1.0",
      "model_name": "DescriptionStyleModel",
      "state": {
       "description_width": ""
      }
     },
     "1aeb7dfc9e594c11861f86298ee1729a": {
      "model_module": "@jupyter-widgets/base",
      "model_module_version": "1.0.0",
      "model_name": "LayoutModel",
      "state": {}
     },
     "1af087b5218c4437920f90cb063ef0cb": {
      "model_module": "@jupyter-widgets/controls",
      "model_module_version": "1.1.0",
      "model_name": "DescriptionStyleModel",
      "state": {
       "description_width": ""
      }
     },
     "1b1c3c1a190840779c5277f754611eed": {
      "model_module": "@jupyter-widgets/controls",
      "model_module_version": "1.1.0",
      "model_name": "DescriptionStyleModel",
      "state": {
       "description_width": ""
      }
     },
     "1b3dff2e885b48e789134f537ebc787a": {
      "model_module": "@jupyter-widgets/controls",
      "model_module_version": "1.1.0",
      "model_name": "DescriptionStyleModel",
      "state": {
       "description_width": ""
      }
     },
     "1b46d062e7544ec0a153eeae4e600990": {
      "model_module": "@jupyter-widgets/controls",
      "model_module_version": "1.1.0",
      "model_name": "ToggleButtonsStyleModel",
      "state": {
       "button_width": "",
       "description_width": ""
      }
     },
     "1b7bbc4fc6784941b0bb170af22bc7b8": {
      "model_module": "@jupyter-widgets/base",
      "model_module_version": "1.0.0",
      "model_name": "LayoutModel",
      "state": {}
     },
     "1b864d38500245bc899a0f381f423c24": {
      "model_module": "@jupyter-widgets/base",
      "model_module_version": "1.0.0",
      "model_name": "LayoutModel",
      "state": {}
     },
     "1ba608492b364dd0bee498de820a823f": {
      "model_module": "@jupyter-widgets/controls",
      "model_module_version": "1.1.0",
      "model_name": "DescriptionStyleModel",
      "state": {
       "description_width": ""
      }
     },
     "1bbba88cc5794cd1ad6b502097c723e9": {
      "model_module": "@jupyter-widgets/base",
      "model_module_version": "1.0.0",
      "model_name": "LayoutModel",
      "state": {}
     },
     "1bc61067e7e84ec4893204250a69454a": {
      "model_module": "@jupyter-widgets/base",
      "model_module_version": "1.0.0",
      "model_name": "LayoutModel",
      "state": {}
     },
     "1bf04ec8e10246cc9d2df1f9e1f9e9b8": {
      "model_module": "@jupyter-widgets/base",
      "model_module_version": "1.0.0",
      "model_name": "LayoutModel",
      "state": {}
     },
     "1bf7f5567589498fa681752dbe53ef46": {
      "model_module": "@jupyter-widgets/base",
      "model_module_version": "1.0.0",
      "model_name": "LayoutModel",
      "state": {}
     },
     "1bfd2f44b7c2442090c992df698cee4c": {
      "model_module": "@jupyter-widgets/base",
      "model_module_version": "1.0.0",
      "model_name": "LayoutModel",
      "state": {}
     },
     "1c014d4e1a954966b4781964ef79ab9d": {
      "model_module": "@jupyter-widgets/base",
      "model_module_version": "1.0.0",
      "model_name": "LayoutModel",
      "state": {}
     },
     "1c2d0cb27cfc487392e4c839e8ece25f": {
      "model_module": "@jupyter-widgets/base",
      "model_module_version": "1.0.0",
      "model_name": "LayoutModel",
      "state": {}
     },
     "1c450c8f804a47ec8b0823ee81fcc1a9": {
      "model_module": "@jupyter-widgets/controls",
      "model_module_version": "1.1.0",
      "model_name": "DescriptionStyleModel",
      "state": {
       "description_width": ""
      }
     },
     "1c7c9c5e98b14f00b81925a5e964572c": {
      "model_module": "@jupyter-widgets/controls",
      "model_module_version": "1.1.0",
      "model_name": "CheckboxModel",
      "state": {
       "description": "60°",
       "disabled": false,
       "layout": "IPY_MODEL_ec294333971b4af4bb4a5d8b139ab91f",
       "style": "IPY_MODEL_add3906993124ea1b4e1b692d9bd831b",
       "value": true
      }
     },
     "1d393d3627de4b8b9c225452fc52406f": {
      "model_module": "@jupyter-widgets/base",
      "model_module_version": "1.0.0",
      "model_name": "LayoutModel",
      "state": {}
     },
     "1d68b934178f43fc98da9e81f818c1c2": {
      "model_module": "@jupyter-widgets/base",
      "model_module_version": "1.0.0",
      "model_name": "LayoutModel",
      "state": {}
     },
     "1d72fdf622c6443bb22fe880f8a2aa5c": {
      "model_module": "@jupyter-widgets/base",
      "model_module_version": "1.0.0",
      "model_name": "LayoutModel",
      "state": {}
     },
     "1d9e716883364df8a8ff753b2645afa2": {
      "model_module": "@jupyter-widgets/controls",
      "model_module_version": "1.1.0",
      "model_name": "DescriptionStyleModel",
      "state": {
       "description_width": ""
      }
     },
     "1dad1907f0694a15b1777d2307d3c28f": {
      "model_module": "@jupyter-widgets/base",
      "model_module_version": "1.0.0",
      "model_name": "LayoutModel",
      "state": {}
     },
     "1e04ec5a3cd042a4ac1c828623d14d2e": {
      "model_module": "@jupyter-widgets/controls",
      "model_module_version": "1.1.0",
      "model_name": "CheckboxModel",
      "state": {
       "description": "45°",
       "disabled": false,
       "layout": "IPY_MODEL_9f10af26b0b44a58a854ace8e990c731",
       "style": "IPY_MODEL_e4e76739afdd42159e7d70cd8e35073f",
       "value": true
      }
     },
     "1e0609842ad847aaa5d3b11714eb181b": {
      "model_module": "@jupyter-widgets/controls",
      "model_module_version": "1.1.0",
      "model_name": "CheckboxModel",
      "state": {
       "description": "45°",
       "disabled": false,
       "layout": "IPY_MODEL_9fc3301f6be746b3b12b26b043f73985",
       "style": "IPY_MODEL_9180d374d3b3454293724d57c1893023",
       "value": true
      }
     },
     "1e0c3eaa0d044be580b73c12fea09940": {
      "model_module": "@jupyter-widgets/controls",
      "model_module_version": "1.1.0",
      "model_name": "DescriptionStyleModel",
      "state": {
       "description_width": ""
      }
     },
     "1e18632789c64ad58c9bdccadd49f03f": {
      "model_module": "@jupyter-widgets/controls",
      "model_module_version": "1.1.0",
      "model_name": "ToggleButtonsModel",
      "state": {
       "_options_labels": [
        "400 MeV/n",
        "800 MeV/n",
        "1500 MeV/n"
       ],
       "button_style": "",
       "description": "Energy:",
       "icons": [],
       "index": 0,
       "layout": "IPY_MODEL_4bd4fb3548f34dbbab78ecd8e9853177",
       "style": "IPY_MODEL_4000278a9d364b9f8b0aa3f29b94c1be",
       "tooltips": [
        "lowest energy",
        "middle energy",
        "highest energy"
       ]
      }
     },
     "1e5116bf86be4f1882bf20fcf6a6c465": {
      "model_module": "@jupyter-widgets/controls",
      "model_module_version": "1.1.0",
      "model_name": "DescriptionStyleModel",
      "state": {
       "description_width": ""
      }
     },
     "1e7bec4752ff40afa2b30faaa9181f59": {
      "model_module": "@jupyter-widgets/controls",
      "model_module_version": "1.1.0",
      "model_name": "DescriptionStyleModel",
      "state": {
       "description_width": ""
      }
     },
     "1e80c9c610b14a8cbdf136d7def2e4a6": {
      "model_module": "@jupyter-widgets/controls",
      "model_module_version": "1.1.0",
      "model_name": "DescriptionStyleModel",
      "state": {
       "description_width": ""
      }
     },
     "1e81c5de21e34a69a2a2f8ab37580fa5": {
      "model_module": "@jupyter-widgets/controls",
      "model_module_version": "1.1.0",
      "model_name": "DescriptionStyleModel",
      "state": {
       "description_width": ""
      }
     },
     "1e89315c30e2428fa595d6b42ebd4592": {
      "model_module": "@jupyter-widgets/base",
      "model_module_version": "1.0.0",
      "model_name": "LayoutModel",
      "state": {}
     },
     "1ea81ce3204a4d4c865e413aa9de17b2": {
      "model_module": "@jupyter-widgets/base",
      "model_module_version": "1.0.0",
      "model_name": "LayoutModel",
      "state": {}
     },
     "1ed0243d19a140a795e7c835cce9e2ab": {
      "model_module": "@jupyter-widgets/controls",
      "model_module_version": "1.1.0",
      "model_name": "ToggleButtonsModel",
      "state": {
       "_options_labels": [
        "N (¹n)",
        "NDC (¹n)",
        "P (¹H)",
        "D (²H)"
       ],
       "button_style": "",
       "description": "Particle:",
       "icons": [],
       "index": 0,
       "layout": "IPY_MODEL_67649ac06c0d44b7ba8bc7ab44f13d98",
       "style": "IPY_MODEL_45c7f6aa82f24df694b77ec71789ab46",
       "tooltips": [
        "Neutron",
        "Back Target Neutron",
        "Proton",
        "Deuteron"
       ]
      }
     },
     "1f1eb4c094934fe49153eebb19d3e67a": {
      "model_module": "@jupyter-widgets/controls",
      "model_module_version": "1.1.0",
      "model_name": "CheckboxModel",
      "state": {
       "description": "30°",
       "disabled": false,
       "layout": "IPY_MODEL_f4b34bb605b642bc92cabd5815758446",
       "style": "IPY_MODEL_84e53c0a403b446f8596a153fde52f6a",
       "value": false
      }
     },
     "1f4ce312528a4c30b50ca96cd4811801": {
      "model_module": "@jupyter-widgets/controls",
      "model_module_version": "1.1.0",
      "model_name": "ToggleButtonsModel",
      "state": {
       "_options_labels": [
        "Al",
        "HDPE",
        "AlPE"
       ],
       "button_style": "",
       "description": "Material:",
       "icons": [],
       "index": 0,
       "layout": "IPY_MODEL_be7e7da3f74547e9b6d4c1ebe08afb4a",
       "style": "IPY_MODEL_7f4e7685ff92449696edc9899475e79a",
       "tooltips": [
        "Aluminum",
        "Polyethylene",
        "Combination of Al and HDPE"
       ]
      }
     },
     "1f7b1312a8a44dbaa6d3bae6912929db": {
      "model_module": "@jupyter-widgets/controls",
      "model_module_version": "1.1.0",
      "model_name": "DescriptionStyleModel",
      "state": {
       "description_width": ""
      }
     },
     "1f855d3c7c5042aab4a2fc134c58855e": {
      "model_module": "@jupyter-widgets/controls",
      "model_module_version": "1.1.0",
      "model_name": "LabelModel",
      "state": {
       "layout": "IPY_MODEL_87f9d71af0c142c7b5caf8e56b9b61ca",
       "style": "IPY_MODEL_42c81fe8612b454e8f3f3342eb8dd9b6",
       "value": "Select the detector angles to plot."
      }
     },
     "1fe86901ff6444339b517145bf3c3899": {
      "model_module": "@jupyter-widgets/controls",
      "model_module_version": "1.1.0",
      "model_name": "DescriptionStyleModel",
      "state": {
       "description_width": ""
      }
     },
     "1fec3a2bae25428490df10b6f9630f15": {
      "model_module": "@jupyter-widgets/controls",
      "model_module_version": "1.1.0",
      "model_name": "ToggleButtonsStyleModel",
      "state": {
       "button_width": "",
       "description_width": ""
      }
     },
     "1ff29871f05948588bf13aad8cfafb46": {
      "model_module": "@jupyter-widgets/controls",
      "model_module_version": "1.1.0",
      "model_name": "CheckboxModel",
      "state": {
       "description": "135°",
       "disabled": false,
       "layout": "IPY_MODEL_9068b5b316bf413bac4f0c0b2795de4c",
       "style": "IPY_MODEL_7fe93f0e92f445f2b9eb26c37bb33e12",
       "value": true
      }
     },
     "1ffc5d883a454771a14c0ab9f328fcf3": {
      "model_module": "@jupyter-widgets/base",
      "model_module_version": "1.0.0",
      "model_name": "LayoutModel",
      "state": {}
     },
     "200b72eb0f634c9cb9872c64c4e231f8": {
      "model_module": "@jupyter-widgets/base",
      "model_module_version": "1.0.0",
      "model_name": "LayoutModel",
      "state": {}
     },
     "2061e11c43264be5ac072294cb7e5fa3": {
      "model_module": "@jupyter-widgets/controls",
      "model_module_version": "1.1.0",
      "model_name": "ToggleButtonsStyleModel",
      "state": {
       "button_width": "",
       "description_width": ""
      }
     },
     "2067999da50a4acda922fbebaef4a1f0": {
      "model_module": "@jupyter-widgets/controls",
      "model_module_version": "1.1.0",
      "model_name": "CheckboxModel",
      "state": {
       "description": "135°",
       "disabled": false,
       "layout": "IPY_MODEL_8b54b65353c24895a98b93779b430b43",
       "style": "IPY_MODEL_849c532214cc497bb60d08a05f612cf5",
       "value": true
      }
     },
     "206e7eb772a54f929bdcf9f5a5e09536": {
      "model_module": "@jupyter-widgets/controls",
      "model_module_version": "1.1.0",
      "model_name": "LabelModel",
      "state": {
       "layout": "IPY_MODEL_55114e30eaef4a0baf0b2c8825f04423",
       "style": "IPY_MODEL_69ea7f91f62f4a098c14805203339114",
       "value": "Select how data sets for each detector should be spaced apart (if at all)."
      }
     },
     "2071846215ec4748bdf788719240d122": {
      "model_module": "@jupyter-widgets/controls",
      "model_module_version": "1.1.0",
      "model_name": "CheckboxModel",
      "state": {
       "description": "30°",
       "disabled": false,
       "layout": "IPY_MODEL_b1fc77d5024944e49d73df03a1d5033b",
       "style": "IPY_MODEL_63b8575a0be8460e9235b4700552459c",
       "value": true
      }
     },
     "2071960dfd52469f9263e30e6e9bf0ec": {
      "model_module": "@jupyter-widgets/controls",
      "model_module_version": "1.1.0",
      "model_name": "LabelModel",
      "state": {
       "layout": "IPY_MODEL_9c2341159be54ea0a13ff26b90f2c396",
       "style": "IPY_MODEL_669362fe01604699a1d455ddf43ff835",
       "value": "Select which secondary particle to plot spectra for."
      }
     },
     "207711b6611e4f40ac75df3879820dc6": {
      "model_module": "@jupyter-widgets/controls",
      "model_module_version": "1.1.0",
      "model_name": "ToggleButtonsModel",
      "state": {
       "_options_labels": [
        "N (¹n)",
        "NDC (¹n)",
        "P (¹H)",
        "D (²H)"
       ],
       "button_style": "",
       "description": "Type:",
       "icons": [],
       "index": 0,
       "layout": "IPY_MODEL_a91084f9d3494b6a940831af3dd58f88",
       "style": "IPY_MODEL_4cbffe1b274f49ce81322da62902dd9c",
       "tooltips": [
        "Neutron",
        "Back Target Neutron",
        "Proton",
        "Deuteron"
       ]
      }
     },
     "20aad4b157da4f91bcbe7e43af14ce8c": {
      "model_module": "@jupyter-widgets/base",
      "model_module_version": "1.0.0",
      "model_name": "LayoutModel",
      "state": {}
     },
     "20da3b71f3e3411983b211b99d20ec80": {
      "model_module": "@jupyter-widgets/base",
      "model_module_version": "1.0.0",
      "model_name": "LayoutModel",
      "state": {}
     },
     "20dc665dc20c4b0d804b2fd06aea5e1f": {
      "model_module": "@jupyter-widgets/controls",
      "model_module_version": "1.1.0",
      "model_name": "DescriptionStyleModel",
      "state": {
       "description_width": ""
      }
     },
     "215b0b190f52448c9781d9b9d17ba7cd": {
      "model_module": "@jupyter-widgets/controls",
      "model_module_version": "1.1.0",
      "model_name": "DescriptionStyleModel",
      "state": {
       "description_width": ""
      }
     },
     "21c98fa0b913448fa02f309f8618c074": {
      "model_module": "@jupyter-widgets/base",
      "model_module_version": "1.0.0",
      "model_name": "LayoutModel",
      "state": {}
     },
     "21f02ba46e614e60a7ef3d5ddcb58c4d": {
      "model_module": "@jupyter-widgets/base",
      "model_module_version": "1.0.0",
      "model_name": "LayoutModel",
      "state": {}
     },
     "2203b0e36dc448a6a364d02d9ddc7b10": {
      "model_module": "@jupyter-widgets/controls",
      "model_module_version": "1.1.0",
      "model_name": "DescriptionStyleModel",
      "state": {
       "description_width": ""
      }
     },
     "221bea030d1f40a2b9b84b5abf1b088f": {
      "model_module": "@jupyter-widgets/base",
      "model_module_version": "1.0.0",
      "model_name": "LayoutModel",
      "state": {}
     },
     "2225873d1fc84b7c8f4477065572bcf8": {
      "model_module": "@jupyter-widgets/controls",
      "model_module_version": "1.1.0",
      "model_name": "DescriptionStyleModel",
      "state": {
       "description_width": ""
      }
     },
     "229e8079ccf74a729fedb12eca55d771": {
      "model_module": "@jupyter-widgets/base",
      "model_module_version": "1.0.0",
      "model_name": "LayoutModel",
      "state": {}
     },
     "22aa899d612646b8a6ea754ddf783fa2": {
      "model_module": "@jupyter-widgets/controls",
      "model_module_version": "1.1.0",
      "model_name": "CheckboxModel",
      "state": {
       "description": "10°",
       "disabled": false,
       "layout": "IPY_MODEL_64e57371413542b59172c6948348cc08",
       "style": "IPY_MODEL_2ef1a56ae5bc45fba52f854ad3a9b76f",
       "value": true
      }
     },
     "22e34764293b49aa9522e3c37405d838": {
      "model_module": "@jupyter-widgets/controls",
      "model_module_version": "1.1.0",
      "model_name": "LabelModel",
      "state": {
       "layout": "IPY_MODEL_4e2a53e9f2794258a9dc672297ae031b",
       "style": "IPY_MODEL_a157ce7d887847e0a3fed77d2b0f750a",
       "value": "Select projectile ion energy."
      }
     },
     "22f5fcb0e7c14fb49e8408d1f2bb3cb6": {
      "model_module": "@jupyter-widgets/base",
      "model_module_version": "1.0.0",
      "model_name": "LayoutModel",
      "state": {}
     },
     "236665dcbcc84145aec131dc47a4833b": {
      "model_module": "@jupyter-widgets/controls",
      "model_module_version": "1.1.0",
      "model_name": "DescriptionStyleModel",
      "state": {
       "description_width": ""
      }
     },
     "237c8b13f52c471ebb970a663c67e096": {
      "model_module": "@jupyter-widgets/controls",
      "model_module_version": "1.1.0",
      "model_name": "DescriptionStyleModel",
      "state": {
       "description_width": ""
      }
     },
     "237ce633442a44248c4af8d83c850476": {
      "model_module": "@jupyter-widgets/controls",
      "model_module_version": "1.1.0",
      "model_name": "DescriptionStyleModel",
      "state": {
       "description_width": ""
      }
     },
     "2384053242f84433b39229fbf2e2de3c": {
      "model_module": "@jupyter-widgets/controls",
      "model_module_version": "1.1.0",
      "model_name": "LabelModel",
      "state": {
       "layout": "IPY_MODEL_c9096cce08064afe9a49ae9c2fa7066b",
       "style": "IPY_MODEL_6d7ee98cf6a1461ba5df20b026c4f1d4",
       "value": "Select projectile ion energy."
      }
     },
     "23907f89d8224d0d8f8b6dff967d5a79": {
      "model_module": "@jupyter-widgets/base",
      "model_module_version": "1.0.0",
      "model_name": "LayoutModel",
      "state": {}
     },
     "2390edd9b3c642169437648801af5220": {
      "model_module": "@jupyter-widgets/base",
      "model_module_version": "1.0.0",
      "model_name": "LayoutModel",
      "state": {}
     },
     "23acda008ed343d999adf0515f15bae6": {
      "model_module": "@jupyter-widgets/base",
      "model_module_version": "1.0.0",
      "model_name": "LayoutModel",
      "state": {}
     },
     "23ad429477be4fe7beb80dd502064ac7": {
      "model_module": "@jupyter-widgets/controls",
      "model_module_version": "1.1.0",
      "model_name": "DescriptionStyleModel",
      "state": {
       "description_width": ""
      }
     },
     "23c1b57dfe8f4761b1563240ada6a5b9": {
      "model_module": "@jupyter-widgets/controls",
      "model_module_version": "1.1.0",
      "model_name": "DescriptionStyleModel",
      "state": {
       "description_width": ""
      }
     },
     "23dd98cd3a2f4af9b3fe95992b838186": {
      "model_module": "@jupyter-widgets/controls",
      "model_module_version": "1.1.0",
      "model_name": "DescriptionStyleModel",
      "state": {
       "description_width": ""
      }
     },
     "240653d15a9b498d883a307d46eff2db": {
      "model_module": "@jupyter-widgets/controls",
      "model_module_version": "1.1.0",
      "model_name": "CheckboxModel",
      "state": {
       "description": "80°",
       "disabled": false,
       "layout": "IPY_MODEL_4f5a6e8389cc492184cdfa2a1335dec7",
       "style": "IPY_MODEL_3b0b8b295c814436aa521b533e2e56c8",
       "value": true
      }
     },
     "243c9ba949cf4de2bb60bac6e9decc8d": {
      "model_module": "@jupyter-widgets/controls",
      "model_module_version": "1.1.0",
      "model_name": "ToggleButtonsStyleModel",
      "state": {
       "button_width": "",
       "description_width": ""
      }
     },
     "24be490ab1f64504993213f8766981ce": {
      "model_module": "@jupyter-widgets/base",
      "model_module_version": "1.0.0",
      "model_name": "LayoutModel",
      "state": {}
     },
     "24c22eb0e4364a34aadda045254d1dd3": {
      "model_module": "@jupyter-widgets/controls",
      "model_module_version": "1.1.0",
      "model_name": "CheckboxModel",
      "state": {
       "description": "7.2°",
       "disabled": false,
       "layout": "IPY_MODEL_46b255cfc70a4c64812173744a44a5da",
       "style": "IPY_MODEL_3c181b41a2aa40508ceff12b39798aef",
       "value": true
      }
     },
     "2514ad8ffa01480e8bd6dd3eb68113a7": {
      "model_module": "@jupyter-widgets/controls",
      "model_module_version": "1.1.0",
      "model_name": "DescriptionStyleModel",
      "state": {
       "description_width": ""
      }
     },
     "251dbee8118e4833a50c38ca3bb755d4": {
      "model_module": "@jupyter-widgets/base",
      "model_module_version": "1.0.0",
      "model_name": "LayoutModel",
      "state": {}
     },
     "255bd2ea37c443cdbf7c13594324e3ea": {
      "model_module": "@jupyter-widgets/controls",
      "model_module_version": "1.1.0",
      "model_name": "DescriptionStyleModel",
      "state": {
       "description_width": ""
      }
     },
     "2592cff594e84589b5bf39c835496b59": {
      "model_module": "@jupyter-widgets/base",
      "model_module_version": "1.0.0",
      "model_name": "LayoutModel",
      "state": {}
     },
     "2593de92f9be4007b1f4d477fd4a25a2": {
      "model_module": "@jupyter-widgets/controls",
      "model_module_version": "1.1.0",
      "model_name": "ToggleButtonsStyleModel",
      "state": {
       "button_width": "",
       "description_width": ""
      }
     },
     "259821b2286b437e9e4fe75c6f3d9880": {
      "model_module": "@jupyter-widgets/controls",
      "model_module_version": "1.1.0",
      "model_name": "LabelModel",
      "state": {
       "layout": "IPY_MODEL_1a9341747b8a43e0a169c7d1d639c50f",
       "style": "IPY_MODEL_b190e7ee1cc6456b9d4bb6b79f1a5050",
       "value": "Select which secondary particle to plot spectra for."
      }
     },
     "25a2ab9d4a05493d9ee1a481e7e8e612": {
      "model_module": "@jupyter-widgets/controls",
      "model_module_version": "1.1.0",
      "model_name": "ToggleButtonsStyleModel",
      "state": {
       "button_width": "",
       "description_width": ""
      }
     },
     "25baf2c5edf945f4a344d597340c6131": {
      "model_module": "@jupyter-widgets/controls",
      "model_module_version": "1.1.0",
      "model_name": "LabelModel",
      "state": {
       "layout": "IPY_MODEL_a629492428ad48ee8eb25a68ad4c270b",
       "style": "IPY_MODEL_75704df72b5f482e83d8caa24c07eb4a",
       "value": "Select which secondary particle to plot spectra for."
      }
     },
     "25d96007033c46ebaa20fafb1a8eedb6": {
      "model_module": "@jupyter-widgets/base",
      "model_module_version": "1.0.0",
      "model_name": "LayoutModel",
      "state": {}
     },
     "25f899f8d0f04abf8212ea7933f21da4": {
      "model_module": "@jupyter-widgets/base",
      "model_module_version": "1.0.0",
      "model_name": "LayoutModel",
      "state": {}
     },
     "261a0838854d461eb78da06486178e37": {
      "model_module": "@jupyter-widgets/controls",
      "model_module_version": "1.1.0",
      "model_name": "ToggleButtonsModel",
      "state": {
       "_options_labels": [
        "P (¹H)",
        "D (²H)",
        "T (³H)",
        "S (³He)",
        "A (⁴He)"
       ],
       "button_style": "",
       "description": "Type:",
       "icons": [],
       "index": 0,
       "layout": "IPY_MODEL_3fd3b2faeb074380b2729da5cdd95564",
       "style": "IPY_MODEL_a70b0e978e594f1399789e761e60afbf",
       "tooltips": [
        "Proton",
        "Deuteron",
        "Triton",
        "Helium-3",
        "Helium-4"
       ]
      }
     },
     "261c847ff5c240b2931f0d21e32a7ac2": {
      "model_module": "@jupyter-widgets/controls",
      "model_module_version": "1.1.0",
      "model_name": "LabelModel",
      "state": {
       "layout": "IPY_MODEL_a04090affc934abca24a590fc6019c01",
       "style": "IPY_MODEL_1245431019ef4cbaa2e0848f14663203",
       "value": "Select upstream target mass thickness."
      }
     },
     "2676b29ceda14a4cafcf9ff791002a06": {
      "model_module": "@jupyter-widgets/controls",
      "model_module_version": "1.1.0",
      "model_name": "LabelModel",
      "state": {
       "layout": "IPY_MODEL_1411d8279de942bcac29d5e365385d3c",
       "style": "IPY_MODEL_0faaac1d69f34135b1b9e3cc6ffeb29c",
       "value": "Select the detector angles to plot."
      }
     },
     "268deff161c442f6baaa7d2a79d4c5a9": {
      "model_module": "@jupyter-widgets/base",
      "model_module_version": "1.0.0",
      "model_name": "LayoutModel",
      "state": {}
     },
     "269da9fb17a54ca783dafdd295da5430": {
      "model_module": "@jupyter-widgets/controls",
      "model_module_version": "1.1.0",
      "model_name": "DescriptionStyleModel",
      "state": {
       "description_width": ""
      }
     },
     "26c41cad8d4a41a7a7c9491a374f09c9": {
      "model_module": "@jupyter-widgets/controls",
      "model_module_version": "1.1.0",
      "model_name": "LabelModel",
      "state": {
       "layout": "IPY_MODEL_611f22c67c284b8a81ffc118bc58ad4b",
       "style": "IPY_MODEL_6e9bce0cd9c54094b088b7a7566773dd",
       "value": "Select projectile ion energy."
      }
     },
     "274735463f814b4bb41f95977294b805": {
      "model_module": "@jupyter-widgets/base",
      "model_module_version": "1.0.0",
      "model_name": "LayoutModel",
      "state": {}
     },
     "2791d37e0d2848a1a800234bdda11304": {
      "model_module": "@jupyter-widgets/base",
      "model_module_version": "1.0.0",
      "model_name": "LayoutModel",
      "state": {}
     },
     "27bf5f266f9f45508684476bec9b8a23": {
      "model_module": "@jupyter-widgets/controls",
      "model_module_version": "1.1.0",
      "model_name": "CheckboxModel",
      "state": {
       "description": "10°",
       "disabled": false,
       "layout": "IPY_MODEL_f812ebabef9146fbb976efd2dd979889",
       "style": "IPY_MODEL_35ebebb3f77f4229bcefca9d8c5b1045",
       "value": true
      }
     },
     "27d06d8380564f648b4eb15a37593a14": {
      "model_module": "@jupyter-widgets/controls",
      "model_module_version": "1.1.0",
      "model_name": "CheckboxModel",
      "state": {
       "description": "80°",
       "disabled": false,
       "layout": "IPY_MODEL_bf3f53a943e7415d8dcc29ce937d5d99",
       "style": "IPY_MODEL_4a159ef5829140938004cae24842987b",
       "value": true
      }
     },
     "27d5cb4b25674bd8b42472f81f0d63cb": {
      "model_module": "@jupyter-widgets/controls",
      "model_module_version": "1.1.0",
      "model_name": "CheckboxModel",
      "state": {
       "description": "10°",
       "disabled": false,
       "layout": "IPY_MODEL_0a82ab59695f43bab8f1746b3a2e4905",
       "style": "IPY_MODEL_ba8a10037e434f2aa71abde4f5d250dd",
       "value": true
      }
     },
     "27e3cf1e50b545d29cf16088973aa139": {
      "model_module": "@jupyter-widgets/controls",
      "model_module_version": "1.1.0",
      "model_name": "DescriptionStyleModel",
      "state": {
       "description_width": ""
      }
     },
     "28216aa714064d369f4eb48ecb4ef60f": {
      "model_module": "@jupyter-widgets/controls",
      "model_module_version": "1.1.0",
      "model_name": "DescriptionStyleModel",
      "state": {
       "description_width": ""
      }
     },
     "283922567ec24a658832eb328a06242b": {
      "model_module": "@jupyter-widgets/controls",
      "model_module_version": "1.1.0",
      "model_name": "CheckboxModel",
      "state": {
       "description": "Experiment",
       "disabled": false,
       "layout": "IPY_MODEL_ae7dcbfed4f64731b92fa302d76824a5",
       "style": "IPY_MODEL_634950df2f1743129effab1a202ebd6c",
       "value": true
      }
     },
     "2840e65aec3c47d3837a37a936e92cd1": {
      "model_module": "@jupyter-widgets/controls",
      "model_module_version": "1.1.0",
      "model_name": "DescriptionStyleModel",
      "state": {
       "description_width": ""
      }
     },
     "28915be44f144a8b8768044bbba38930": {
      "model_module": "@jupyter-widgets/controls",
      "model_module_version": "1.1.0",
      "model_name": "CheckboxModel",
      "state": {
       "description": "30°",
       "disabled": false,
       "layout": "IPY_MODEL_b4570addcf0d4ba69011271c073dbf3c",
       "style": "IPY_MODEL_ce1ca5fc584746ed8a4fe751652309bd",
       "value": true
      }
     },
     "2893d9b3ad6d43bf8b2cc018f9be7175": {
      "model_module": "@jupyter-widgets/controls",
      "model_module_version": "1.1.0",
      "model_name": "LabelModel",
      "state": {
       "layout": "IPY_MODEL_f2747acdaa6146c7bfbced92bc3f8313",
       "style": "IPY_MODEL_5d0203b4421942389bb57b1c40fb9970",
       "value": "Select upstream target mass thickness."
      }
     },
     "28bd2382bcf44b14bbe23a831490798c": {
      "model_module": "@jupyter-widgets/controls",
      "model_module_version": "1.1.0",
      "model_name": "CheckboxModel",
      "state": {
       "description": "10°",
       "disabled": false,
       "layout": "IPY_MODEL_fd601da03285408d9dab1b4e589015f8",
       "style": "IPY_MODEL_27e3cf1e50b545d29cf16088973aa139",
       "value": true
      }
     },
     "28c3fe0386cf482fae9099e6ae852596": {
      "model_module": "@jupyter-widgets/base",
      "model_module_version": "1.0.0",
      "model_name": "LayoutModel",
      "state": {}
     },
     "28c6e8a53b30499788d694073344f160": {
      "model_module": "@jupyter-widgets/controls",
      "model_module_version": "1.1.0",
      "model_name": "ToggleButtonsStyleModel",
      "state": {
       "button_width": "",
       "description_width": ""
      }
     },
     "28cb64bf993548d4ac314cacc750404a": {
      "model_module": "@jupyter-widgets/controls",
      "model_module_version": "1.1.0",
      "model_name": "DescriptionStyleModel",
      "state": {
       "description_width": ""
      }
     },
     "2946f28d1a3b4f0d82cce7206869c124": {
      "model_module": "@jupyter-widgets/controls",
      "model_module_version": "1.1.0",
      "model_name": "CheckboxModel",
      "state": {
       "description": "30°",
       "disabled": false,
       "layout": "IPY_MODEL_a1ba6864738b4cca8debf4d5215d5213",
       "style": "IPY_MODEL_1c450c8f804a47ec8b0823ee81fcc1a9",
       "value": true
      }
     },
     "2959c5f6f302430584bab3b78b19d816": {
      "model_module": "@jupyter-widgets/controls",
      "model_module_version": "1.1.0",
      "model_name": "CheckboxModel",
      "state": {
       "description": "28.2°",
       "disabled": false,
       "layout": "IPY_MODEL_32e719f97d234a248bcbaf5d96dfd4a6",
       "style": "IPY_MODEL_7b0520fc4f674c48beda1fd2174f737c",
       "value": true
      }
     },
     "295a0c1f17204f57beb0788ecce78f07": {
      "model_module": "@jupyter-widgets/controls",
      "model_module_version": "1.1.0",
      "model_name": "DescriptionStyleModel",
      "state": {
       "description_width": ""
      }
     },
     "298021c8e8b04b778ba3e3be8f36f9d6": {
      "model_module": "@jupyter-widgets/base",
      "model_module_version": "1.0.0",
      "model_name": "LayoutModel",
      "state": {}
     },
     "2a459902ad7c4a8298153c85b011898a": {
      "model_module": "@jupyter-widgets/controls",
      "model_module_version": "1.1.0",
      "model_name": "DescriptionStyleModel",
      "state": {
       "description_width": ""
      }
     },
     "2a4f94f6fc7342c99b7ed5068f1975d8": {
      "model_module": "@jupyter-widgets/controls",
      "model_module_version": "1.1.0",
      "model_name": "DescriptionStyleModel",
      "state": {
       "description_width": ""
      }
     },
     "2a6a5bce17a946f98b9b7c3a32c9d1cd": {
      "model_module": "@jupyter-widgets/base",
      "model_module_version": "1.0.0",
      "model_name": "LayoutModel",
      "state": {}
     },
     "2aa9e62ef0e34d62baf0e57cb97ecb73": {
      "model_module": "@jupyter-widgets/base",
      "model_module_version": "1.0.0",
      "model_name": "LayoutModel",
      "state": {}
     },
     "2aac0176a49544ad9d78d854909dc5a1": {
      "model_module": "@jupyter-widgets/controls",
      "model_module_version": "1.1.0",
      "model_name": "ToggleButtonsStyleModel",
      "state": {
       "button_width": "",
       "description_width": ""
      }
     },
     "2ae593c4383e45e9ae578cacbd91a07c": {
      "model_module": "@jupyter-widgets/base",
      "model_module_version": "1.0.0",
      "model_name": "LayoutModel",
      "state": {}
     },
     "2b911a2ee8294942a8efb25e06c96439": {
      "model_module": "@jupyter-widgets/controls",
      "model_module_version": "1.1.0",
      "model_name": "DescriptionStyleModel",
      "state": {
       "description_width": ""
      }
     },
     "2b9c12ef12d14a3f9eddbac713076099": {
      "model_module": "@jupyter-widgets/controls",
      "model_module_version": "1.1.0",
      "model_name": "CheckboxModel",
      "state": {
       "description": "135°",
       "disabled": false,
       "layout": "IPY_MODEL_fca467fbacda4366ac6d71ccd5b56cfc",
       "style": "IPY_MODEL_d47e2aa139ec4bc48fe1cd293fbfea06",
       "value": true
      }
     },
     "2ba975e5fd8f40309db408fb0721daff": {
      "model_module": "@jupyter-widgets/controls",
      "model_module_version": "1.1.0",
      "model_name": "CheckboxModel",
      "state": {
       "description": "30°",
       "disabled": false,
       "layout": "IPY_MODEL_ffc0f64b49c84d55873df730ed3f2593",
       "style": "IPY_MODEL_89466c02b68748f8a436e8f91ceaa1c8",
       "value": true
      }
     },
     "2bc9da5c0a8f480d89a14f33d0641517": {
      "model_module": "@jupyter-widgets/controls",
      "model_module_version": "1.1.0",
      "model_name": "CheckboxModel",
      "state": {
       "description": "PHITS simulated",
       "disabled": false,
       "layout": "IPY_MODEL_494dabc7ce2945f19239370be71cc656",
       "style": "IPY_MODEL_dc2fd02629da40079836a46a6d085d52",
       "value": true
      }
     },
     "2bfba8157b8447fca9e7126134d36d87": {
      "model_module": "@jupyter-widgets/base",
      "model_module_version": "1.0.0",
      "model_name": "LayoutModel",
      "state": {}
     },
     "2c1995101fa74608bb3c56edc2c8d1c6": {
      "model_module": "@jupyter-widgets/base",
      "model_module_version": "1.0.0",
      "model_name": "LayoutModel",
      "state": {}
     },
     "2c1a48858de5405496aade8f31332dc4": {
      "model_module": "@jupyter-widgets/controls",
      "model_module_version": "1.1.0",
      "model_name": "DescriptionStyleModel",
      "state": {
       "description_width": ""
      }
     },
     "2c23d7a990ae4a2684dd296d88e9d850": {
      "model_module": "@jupyter-widgets/controls",
      "model_module_version": "1.1.0",
      "model_name": "CheckboxModel",
      "state": {
       "description": "80°",
       "disabled": false,
       "layout": "IPY_MODEL_24be490ab1f64504993213f8766981ce",
       "style": "IPY_MODEL_ea8cf577676a4f5c815dc001591cca70",
       "value": true
      }
     },
     "2c283eac07974b8c9dc6bcd92671f261": {
      "model_module": "@jupyter-widgets/controls",
      "model_module_version": "1.1.0",
      "model_name": "DescriptionStyleModel",
      "state": {
       "description_width": ""
      }
     },
     "2c2d8136b99342bb82edb55ff49b1e88": {
      "model_module": "@jupyter-widgets/controls",
      "model_module_version": "1.1.0",
      "model_name": "CheckboxModel",
      "state": {
       "description": "45°",
       "disabled": false,
       "layout": "IPY_MODEL_605082e0f753458887d4cb323c5f3cab",
       "style": "IPY_MODEL_a6db707717084bd98e064729160813cb",
       "value": true
      }
     },
     "2c319db6eb8d471b971609779e6b519d": {
      "model_module": "@jupyter-widgets/controls",
      "model_module_version": "1.1.0",
      "model_name": "CheckboxModel",
      "state": {
       "description": "30°",
       "disabled": false,
       "layout": "IPY_MODEL_d6a7cc457e3742c183d9af3d1a0aacbd",
       "style": "IPY_MODEL_6902a3d0f5ed4573bc62d9ca3b441fe5",
       "value": true
      }
     },
     "2c4ef4f3e5e44b1fb9824dfee73d8afe": {
      "model_module": "@jupyter-widgets/controls",
      "model_module_version": "1.1.0",
      "model_name": "CheckboxModel",
      "state": {
       "description": "PHITS simulated",
       "disabled": false,
       "layout": "IPY_MODEL_785390cd756d49a19e9964c3010cb559",
       "style": "IPY_MODEL_e5735cc6219041ce86e8dd86b310dc02",
       "value": true
      }
     },
     "2c677bde966440d1ab1d799e4a999cc7": {
      "model_module": "@jupyter-widgets/base",
      "model_module_version": "1.0.0",
      "model_name": "LayoutModel",
      "state": {}
     },
     "2c74d1c741714f67aa3c29cd6db0295b": {
      "model_module": "@jupyter-widgets/base",
      "model_module_version": "1.0.0",
      "model_name": "LayoutModel",
      "state": {}
     },
     "2c7ef81276354c359d1e6d8d4d7f776f": {
      "model_module": "@jupyter-widgets/base",
      "model_module_version": "1.0.0",
      "model_name": "LayoutModel",
      "state": {}
     },
     "2ca819c4502f4d179b97705857a3cea9": {
      "model_module": "@jupyter-widgets/controls",
      "model_module_version": "1.1.0",
      "model_name": "DescriptionStyleModel",
      "state": {
       "description_width": ""
      }
     },
     "2cbce1b442a14338ac65ea260a0b4912": {
      "model_module": "@jupyter-widgets/controls",
      "model_module_version": "1.1.0",
      "model_name": "DescriptionStyleModel",
      "state": {
       "description_width": ""
      }
     },
     "2d24c806205140ef98e9efaaaec68b3d": {
      "model_module": "@jupyter-widgets/controls",
      "model_module_version": "1.1.0",
      "model_name": "CheckboxModel",
      "state": {
       "description": "60°",
       "disabled": false,
       "layout": "IPY_MODEL_b8344f383a404edcbad1b84fd6237079",
       "style": "IPY_MODEL_134dbfaf626f4f0188ccfb5e92dc8b4c",
       "value": true
      }
     },
     "2d4746af358c4294b09b4b45f64dc14c": {
      "model_module": "@jupyter-widgets/controls",
      "model_module_version": "1.1.0",
      "model_name": "CheckboxModel",
      "state": {
       "description": "135°",
       "disabled": false,
       "layout": "IPY_MODEL_407138ee5cd64b1f823f611486fac5ef",
       "style": "IPY_MODEL_b576ea33eaae4f5881e5e4345ac108c8",
       "value": true
      }
     },
     "2d7a0f4e9d9247759bfa556484a8b8e5": {
      "model_module": "@jupyter-widgets/controls",
      "model_module_version": "1.1.0",
      "model_name": "DescriptionStyleModel",
      "state": {
       "description_width": ""
      }
     },
     "2dc29aad853f45168fd248a8554269c5": {
      "model_module": "@jupyter-widgets/base",
      "model_module_version": "1.0.0",
      "model_name": "LayoutModel",
      "state": {}
     },
     "2df331ed0947481499b39951a8f811cd": {
      "model_module": "@jupyter-widgets/controls",
      "model_module_version": "1.1.0",
      "model_name": "ToggleButtonsStyleModel",
      "state": {
       "button_width": "",
       "description_width": ""
      }
     },
     "2e3a847b8cec4b5dbe367728c18d5a57": {
      "model_module": "@jupyter-widgets/controls",
      "model_module_version": "1.1.0",
      "model_name": "DescriptionStyleModel",
      "state": {
       "description_width": ""
      }
     },
     "2e3b0853fda640c6afe772d88c2b942d": {
      "model_module": "@jupyter-widgets/controls",
      "model_module_version": "1.1.0",
      "model_name": "LabelModel",
      "state": {
       "layout": "IPY_MODEL_b3986e02e21e4ee1a1966105d74846a0",
       "style": "IPY_MODEL_2d7a0f4e9d9247759bfa556484a8b8e5",
       "value": "Select which secondary particle to plot spectra for."
      }
     },
     "2e428f21ef224ed19a67939436536d65": {
      "model_module": "@jupyter-widgets/base",
      "model_module_version": "1.0.0",
      "model_name": "LayoutModel",
      "state": {}
     },
     "2e656e4db9bd4b2e92f145a36c270073": {
      "model_module": "@jupyter-widgets/controls",
      "model_module_version": "1.1.0",
      "model_name": "CheckboxModel",
      "state": {
       "description": "30°",
       "disabled": false,
       "layout": "IPY_MODEL_01ffdb0f8e284eb5bc5ea005cd6710e7",
       "style": "IPY_MODEL_95bf02f7406a4d3195351765c5517c43",
       "value": true
      }
     },
     "2e6eb0dd8f87479ab08dc9000d5723d2": {
      "model_module": "@jupyter-widgets/base",
      "model_module_version": "1.0.0",
      "model_name": "LayoutModel",
      "state": {}
     },
     "2e728ca3c2034b8086741be0d71e3946": {
      "model_module": "@jupyter-widgets/controls",
      "model_module_version": "1.1.0",
      "model_name": "DescriptionStyleModel",
      "state": {
       "description_width": ""
      }
     },
     "2e83bb0670b34e6faa903e7ec596b2c0": {
      "model_module": "@jupyter-widgets/controls",
      "model_module_version": "1.1.0",
      "model_name": "LabelModel",
      "state": {
       "layout": "IPY_MODEL_f71727a8872d46bfa0995c5545823cfc",
       "style": "IPY_MODEL_0746ca285bc24b84bbfb25149be57bd6",
       "value": "Select the detector angles to plot."
      }
     },
     "2ec3f5d8d41943d7aaab4f5b79048404": {
      "model_module": "@jupyter-widgets/controls",
      "model_module_version": "1.1.0",
      "model_name": "LabelModel",
      "state": {
       "layout": "IPY_MODEL_a3a4a3661a1245309cad93b6359eb7e0",
       "style": "IPY_MODEL_4259e31010e14417960adc84dabd8764",
       "value": "Select how data sets for each detector should be spaced apart (if at all)."
      }
     },
     "2ef0fbe0efa748768c719411257d997f": {
      "model_module": "@jupyter-widgets/controls",
      "model_module_version": "1.1.0",
      "model_name": "LabelModel",
      "state": {
       "layout": "IPY_MODEL_4ff00da7b2f240d1a374a3fc4e320df3",
       "style": "IPY_MODEL_ba69a78e6aeb4bbea77b34d2f431ded8",
       "value": "Select the detector angles to plot."
      }
     },
     "2ef1a56ae5bc45fba52f854ad3a9b76f": {
      "model_module": "@jupyter-widgets/controls",
      "model_module_version": "1.1.0",
      "model_name": "DescriptionStyleModel",
      "state": {
       "description_width": ""
      }
     },
     "2f00624ce4034144b2028ac5b987042f": {
      "model_module": "@jupyter-widgets/controls",
      "model_module_version": "1.1.0",
      "model_name": "CheckboxModel",
      "state": {
       "description": "45°",
       "disabled": false,
       "layout": "IPY_MODEL_e992d12a9729434d8f31fc94ade3e124",
       "style": "IPY_MODEL_884bb46f7a954ce38ebb5635c40a21d2",
       "value": true
      }
     },
     "2f0f1b0111db437d8dc6c27d468e6a66": {
      "model_module": "@jupyter-widgets/controls",
      "model_module_version": "1.1.0",
      "model_name": "DescriptionStyleModel",
      "state": {
       "description_width": ""
      }
     },
     "2f59f0148d4b4c318a233e7549c7a124": {
      "model_module": "@jupyter-widgets/controls",
      "model_module_version": "1.1.0",
      "model_name": "DescriptionStyleModel",
      "state": {
       "description_width": ""
      }
     },
     "2f9f375ed8694a78a0160c1848befb47": {
      "model_module": "@jupyter-widgets/base",
      "model_module_version": "1.0.0",
      "model_name": "LayoutModel",
      "state": {}
     },
     "2fcfc7521e804977b7d8840c05e78ec0": {
      "model_module": "@jupyter-widgets/controls",
      "model_module_version": "1.1.0",
      "model_name": "DescriptionStyleModel",
      "state": {
       "description_width": ""
      }
     },
     "2fdaee955b814f53adcb0097d9ca7d0a": {
      "model_module": "@jupyter-widgets/base",
      "model_module_version": "1.0.0",
      "model_name": "LayoutModel",
      "state": {}
     },
     "2fe070cfb385435db6261ac22e7b218f": {
      "model_module": "@jupyter-widgets/base",
      "model_module_version": "1.0.0",
      "model_name": "LayoutModel",
      "state": {}
     },
     "3011a48cf2e24233b89495b1c6d14e84": {
      "model_module": "@jupyter-widgets/controls",
      "model_module_version": "1.1.0",
      "model_name": "CheckboxModel",
      "state": {
       "description": "60°",
       "disabled": false,
       "layout": "IPY_MODEL_0b259ca278e647fdae7df89f47deff34",
       "style": "IPY_MODEL_10f183f605ce403daad19007e941f595",
       "value": true
      }
     },
     "3057daa3aeee4dd19e0ef7f89f0cf16c": {
      "model_module": "@jupyter-widgets/controls",
      "model_module_version": "1.1.0",
      "model_name": "DescriptionStyleModel",
      "state": {
       "description_width": ""
      }
     },
     "306d5473b29a48398ef0a64fa3a4e3b9": {
      "model_module": "@jupyter-widgets/controls",
      "model_module_version": "1.1.0",
      "model_name": "ToggleButtonsModel",
      "state": {
       "_options_labels": [
        "400 MeV",
        "800 MeV",
        "2500 MeV"
       ],
       "button_style": "",
       "description": "Energy:",
       "icons": [],
       "index": 0,
       "layout": "IPY_MODEL_c194486c042d403cbe2d0be71a136b56",
       "style": "IPY_MODEL_e366da6eff8946f28914cb82be8ba5eb",
       "tooltips": [
        "lowest energy",
        "middle energy",
        "highest energy"
       ]
      }
     },
     "30a95d8f1e9243a7b1ba9dabdd13c516": {
      "model_module": "@jupyter-widgets/controls",
      "model_module_version": "1.1.0",
      "model_name": "DescriptionStyleModel",
      "state": {
       "description_width": ""
      }
     },
     "30f4d12206a246b7a77d5dc6a690b65f": {
      "model_module": "@jupyter-widgets/controls",
      "model_module_version": "1.1.0",
      "model_name": "DescriptionStyleModel",
      "state": {
       "description_width": ""
      }
     },
     "31095c058b584486b014ec783168439c": {
      "model_module": "@jupyter-widgets/controls",
      "model_module_version": "1.1.0",
      "model_name": "CheckboxModel",
      "state": {
       "description": "10°",
       "disabled": false,
       "layout": "IPY_MODEL_2791d37e0d2848a1a800234bdda11304",
       "style": "IPY_MODEL_42b67d4ab06f47b4961cd3afdd00554c",
       "value": true
      }
     },
     "312d0650ec004f909b6f98ff9ccc158f": {
      "model_module": "@jupyter-widgets/base",
      "model_module_version": "1.0.0",
      "model_name": "LayoutModel",
      "state": {}
     },
     "3189369a0cac44e0a6e3b6b6d8657f93": {
      "model_module": "@jupyter-widgets/controls",
      "model_module_version": "1.1.0",
      "model_name": "ToggleButtonsStyleModel",
      "state": {
       "button_width": "",
       "description_width": ""
      }
     },
     "31903ee12cc046d4a5f3c48980d03de8": {
      "model_module": "@jupyter-widgets/base",
      "model_module_version": "1.0.0",
      "model_name": "LayoutModel",
      "state": {}
     },
     "31b5d3d06e6242c9b5a0fb11f5fd7319": {
      "model_module": "@jupyter-widgets/controls",
      "model_module_version": "1.1.0",
      "model_name": "CheckboxModel",
      "state": {
       "description": "60°",
       "disabled": false,
       "layout": "IPY_MODEL_e75e86304c0e43ab9315309c63aae2b6",
       "style": "IPY_MODEL_3e47058c1caa4142825ba25fd6d0dc58",
       "value": false
      }
     },
     "31bedefb041d45bc8089755ad4dee01e": {
      "model_module": "@jupyter-widgets/controls",
      "model_module_version": "1.1.0",
      "model_name": "DescriptionStyleModel",
      "state": {
       "description_width": ""
      }
     },
     "31e9545bb3694ca09a8d39eb049284a8": {
      "model_module": "@jupyter-widgets/base",
      "model_module_version": "1.0.0",
      "model_name": "LayoutModel",
      "state": {}
     },
     "31eccb51f3554686a99127acb7d976ab": {
      "model_module": "@jupyter-widgets/controls",
      "model_module_version": "1.1.0",
      "model_name": "DescriptionStyleModel",
      "state": {
       "description_width": ""
      }
     },
     "322ac2354e984c30b66e0b21793eded5": {
      "model_module": "@jupyter-widgets/controls",
      "model_module_version": "1.1.0",
      "model_name": "CheckboxModel",
      "state": {
       "description": "60°",
       "disabled": false,
       "layout": "IPY_MODEL_551f1768743d48d6b4d9eabce3889290",
       "style": "IPY_MODEL_4bfd016f6b254de38d2ec87c639a380d",
       "value": true
      }
     },
     "325e49be119544de8398173a30e3339c": {
      "model_module": "@jupyter-widgets/controls",
      "model_module_version": "1.1.0",
      "model_name": "DescriptionStyleModel",
      "state": {
       "description_width": ""
      }
     },
     "32ae16106a1c4496831fc9941be86476": {
      "model_module": "@jupyter-widgets/controls",
      "model_module_version": "1.1.0",
      "model_name": "DescriptionStyleModel",
      "state": {
       "description_width": ""
      }
     },
     "32e719f97d234a248bcbaf5d96dfd4a6": {
      "model_module": "@jupyter-widgets/base",
      "model_module_version": "1.0.0",
      "model_name": "LayoutModel",
      "state": {}
     },
     "33262a01067344d4b83158d52895aef4": {
      "model_module": "@jupyter-widgets/controls",
      "model_module_version": "1.1.0",
      "model_name": "CheckboxModel",
      "state": {
       "description": "28.2°",
       "disabled": false,
       "layout": "IPY_MODEL_71683c8b18754c3b99996c8c2f587ece",
       "style": "IPY_MODEL_f97258fbbb4c467ebb072327200c0105",
       "value": true
      }
     },
     "33472369a0234ea3a9dcf27c09cd7f7b": {
      "model_module": "@jupyter-widgets/base",
      "model_module_version": "1.0.0",
      "model_name": "LayoutModel",
      "state": {}
     },
     "3362abff56024a28bb3f806b1c8512b0": {
      "model_module": "@jupyter-widgets/base",
      "model_module_version": "1.0.0",
      "model_name": "LayoutModel",
      "state": {}
     },
     "3390f09b3a6d4015a170c63a418e3897": {
      "model_module": "@jupyter-widgets/base",
      "model_module_version": "1.0.0",
      "model_name": "LayoutModel",
      "state": {}
     },
     "3399a4c8e41742b19dc0a8b326200e48": {
      "model_module": "@jupyter-widgets/controls",
      "model_module_version": "1.1.0",
      "model_name": "DescriptionStyleModel",
      "state": {
       "description_width": ""
      }
     },
     "33c23a4720244974b92f5a5e7e3f3fd9": {
      "model_module": "@jupyter-widgets/controls",
      "model_module_version": "1.1.0",
      "model_name": "DescriptionStyleModel",
      "state": {
       "description_width": ""
      }
     },
     "3409f20a2b44478ca3f017d84b25150d": {
      "model_module": "@jupyter-widgets/controls",
      "model_module_version": "1.1.0",
      "model_name": "DescriptionStyleModel",
      "state": {
       "description_width": ""
      }
     },
     "340f34f609204242aa0bc073ad49ea85": {
      "model_module": "@jupyter-widgets/controls",
      "model_module_version": "1.1.0",
      "model_name": "CheckboxModel",
      "state": {
       "description": "32.7°",
       "disabled": false,
       "layout": "IPY_MODEL_20da3b71f3e3411983b211b99d20ec80",
       "style": "IPY_MODEL_f4ed453b5306419e94a21b49cba03d49",
       "value": true
      }
     },
     "3446711576864bc6be7fe4b295e27a95": {
      "model_module": "@jupyter-widgets/base",
      "model_module_version": "1.0.0",
      "model_name": "LayoutModel",
      "state": {}
     },
     "34c7f5a56df04a03a6dc535e5f75739a": {
      "model_module": "@jupyter-widgets/base",
      "model_module_version": "1.0.0",
      "model_name": "LayoutModel",
      "state": {}
     },
     "34ccd4af033749bbbecce75ec409970d": {
      "model_module": "@jupyter-widgets/controls",
      "model_module_version": "1.1.0",
      "model_name": "LabelModel",
      "state": {
       "layout": "IPY_MODEL_823ff30f4d3648aca3a0c04c4d588ac5",
       "style": "IPY_MODEL_6e5f793677974678bc6e7082c99effcc",
       "value": "Select the detector angles to plot."
      }
     },
     "34f5e5e0307f417ea79d6d97d9afd5f1": {
      "model_module": "@jupyter-widgets/base",
      "model_module_version": "1.0.0",
      "model_name": "LayoutModel",
      "state": {}
     },
     "35808e4c571c4f76a4628148a7a69c54": {
      "model_module": "@jupyter-widgets/controls",
      "model_module_version": "1.1.0",
      "model_name": "DescriptionStyleModel",
      "state": {
       "description_width": ""
      }
     },
     "358e4741551d4c4686ca6b750bcca1d4": {
      "model_module": "@jupyter-widgets/controls",
      "model_module_version": "1.1.0",
      "model_name": "DescriptionStyleModel",
      "state": {
       "description_width": ""
      }
     },
     "3593d7ffc1b94e93a5405f2cd90d0fa9": {
      "model_module": "@jupyter-widgets/controls",
      "model_module_version": "1.1.0",
      "model_name": "ToggleButtonsModel",
      "state": {
       "_options_labels": [
        "20 g/cm²",
        "40 g/cm²",
        "60 g/cm²"
       ],
       "button_style": "",
       "description": "Thickness:",
       "icons": [],
       "index": 0,
       "layout": "IPY_MODEL_a1c93c2d5f0a42e384fcdabc98b67ee2",
       "style": "IPY_MODEL_eefb103b46b840978229669dc9bbcdce",
       "tooltips": [
        "20 g/cm² Polyethylene",
        "40 g/cm² Polyethylene",
        "60 g/cm² Polyethylene"
       ]
      }
     },
     "35a028bfb2da4198a6a1346e8c14e8ab": {
      "model_module": "@jupyter-widgets/controls",
      "model_module_version": "1.1.0",
      "model_name": "CheckboxModel",
      "state": {
       "description": "45°",
       "disabled": false,
       "layout": "IPY_MODEL_98753889ae644f97a385da2841d81ec5",
       "style": "IPY_MODEL_b6ca782bee7b416ab05bbad8e0002595",
       "value": false
      }
     },
     "35c7769a9a5642218152dd0a873130f5": {
      "model_module": "@jupyter-widgets/base",
      "model_module_version": "1.0.0",
      "model_name": "LayoutModel",
      "state": {}
     },
     "35ced27b879c42d9b20e796e03c2f102": {
      "model_module": "@jupyter-widgets/controls",
      "model_module_version": "1.1.0",
      "model_name": "DescriptionStyleModel",
      "state": {
       "description_width": ""
      }
     },
     "35d60a1a4f4448bc854f51196b287f24": {
      "model_module": "@jupyter-widgets/controls",
      "model_module_version": "1.1.0",
      "model_name": "CheckboxModel",
      "state": {
       "description": "60°",
       "disabled": false,
       "layout": "IPY_MODEL_11df27aa5e3847d59b5cbdd1ed1e833d",
       "style": "IPY_MODEL_5c1891fc0f3e494bb2daac66c62f0605",
       "value": true
      }
     },
     "35ebebb3f77f4229bcefca9d8c5b1045": {
      "model_module": "@jupyter-widgets/controls",
      "model_module_version": "1.1.0",
      "model_name": "DescriptionStyleModel",
      "state": {
       "description_width": ""
      }
     },
     "35fa8266494c4442b543f10adf20caa1": {
      "model_module": "@jupyter-widgets/controls",
      "model_module_version": "1.1.0",
      "model_name": "CheckboxModel",
      "state": {
       "description": "30°",
       "disabled": false,
       "layout": "IPY_MODEL_b0850357b9f3483ebcb764038629e4b6",
       "style": "IPY_MODEL_ed728a04d4bc4e46bfe229bbe18d946c",
       "value": true
      }
     },
     "3619c3db11734ddeae8b2aa3f02f7023": {
      "model_module": "@jupyter-widgets/base",
      "model_module_version": "1.0.0",
      "model_name": "LayoutModel",
      "state": {}
     },
     "365cc349dabc4ae5a0219329152a8f57": {
      "model_module": "@jupyter-widgets/controls",
      "model_module_version": "1.1.0",
      "model_name": "ToggleButtonsStyleModel",
      "state": {
       "button_width": "",
       "description_width": ""
      }
     },
     "367b1a0957de43d1b458dacce96a2b0d": {
      "model_module": "@jupyter-widgets/controls",
      "model_module_version": "1.1.0",
      "model_name": "DescriptionStyleModel",
      "state": {
       "description_width": ""
      }
     },
     "36aaaf9c7c06486d942f2d4e58e395d1": {
      "model_module": "@jupyter-widgets/controls",
      "model_module_version": "1.1.0",
      "model_name": "ToggleButtonsModel",
      "state": {
       "_options_labels": [
        "N (¹n)",
        "NDC (¹n)",
        "P (¹H)",
        "D (²H)",
        "T (³H)",
        "S (³He)",
        "A (⁴He)"
       ],
       "button_style": "",
       "description": "Particle:",
       "icons": [],
       "index": 0,
       "layout": "IPY_MODEL_9a1f984c3c80443292067dab89b6fd20",
       "style": "IPY_MODEL_048c97d7f51846b8a8fb4df0561446da",
       "tooltips": [
        "Neutron",
        "Back Target Neutron",
        "Proton",
        "Deuteron",
        "Triton",
        "Helium-3",
        "Helium-4"
       ]
      }
     },
     "36edc3b7ec8a44099c8f8c0543d9f99a": {
      "model_module": "@jupyter-widgets/controls",
      "model_module_version": "1.1.0",
      "model_name": "DescriptionStyleModel",
      "state": {
       "description_width": ""
      }
     },
     "377f418dbd6a41b9b98c2d82f062e64e": {
      "model_module": "@jupyter-widgets/controls",
      "model_module_version": "1.1.0",
      "model_name": "ToggleButtonsStyleModel",
      "state": {
       "button_width": "",
       "description_width": ""
      }
     },
     "379905cd5a194accbe7b7a843105614d": {
      "model_module": "@jupyter-widgets/controls",
      "model_module_version": "1.1.0",
      "model_name": "DescriptionStyleModel",
      "state": {
       "description_width": ""
      }
     },
     "381a1152e0f54045a01f73deaa3a0891": {
      "model_module": "@jupyter-widgets/controls",
      "model_module_version": "1.1.0",
      "model_name": "DescriptionStyleModel",
      "state": {
       "description_width": ""
      }
     },
     "383081b3ad19498490196aa4c2e92f84": {
      "model_module": "@jupyter-widgets/base",
      "model_module_version": "1.0.0",
      "model_name": "LayoutModel",
      "state": {}
     },
     "384c2f9e6a9240a7aac3d6b7beeb3c2e": {
      "model_module": "@jupyter-widgets/base",
      "model_module_version": "1.0.0",
      "model_name": "LayoutModel",
      "state": {}
     },
     "38784f7386d84206aa346839bfd48dd1": {
      "model_module": "@jupyter-widgets/controls",
      "model_module_version": "1.1.0",
      "model_name": "CheckboxModel",
      "state": {
       "description": "MCNP simulated",
       "disabled": false,
       "layout": "IPY_MODEL_f41b887ee0d948018f442ae216d31f95",
       "style": "IPY_MODEL_92154e0fd2d046869b4d0e4406a04164",
       "value": true
      }
     },
     "38c4777f06d8457d84f1bb3212e9c5a4": {
      "model_module": "@jupyter-widgets/base",
      "model_module_version": "1.0.0",
      "model_name": "LayoutModel",
      "state": {}
     },
     "39282a4457f7401399ee1d29a15a961f": {
      "model_module": "@jupyter-widgets/controls",
      "model_module_version": "1.1.0",
      "model_name": "DescriptionStyleModel",
      "state": {
       "description_width": ""
      }
     },
     "395446e8e7c2410bb4bc4027eae2a0f3": {
      "model_module": "@jupyter-widgets/base",
      "model_module_version": "1.0.0",
      "model_name": "LayoutModel",
      "state": {}
     },
     "395f4ed1396f41599458d76bd4a9f8b9": {
      "model_module": "@jupyter-widgets/controls",
      "model_module_version": "1.1.0",
      "model_name": "DescriptionStyleModel",
      "state": {
       "description_width": ""
      }
     },
     "397f029dfdd045229aed31a970cb9de4": {
      "model_module": "@jupyter-widgets/controls",
      "model_module_version": "1.1.0",
      "model_name": "ToggleButtonsModel",
      "state": {
       "_options_labels": [
        "N (¹n)",
        "NDC (¹n)",
        "P (¹H)",
        "D (²H)",
        "T (³H)",
        "S (³He)",
        "A (⁴He)"
       ],
       "button_style": "",
       "description": "Type:",
       "icons": [],
       "index": 0,
       "layout": "IPY_MODEL_9872c102cabd49cdb5f48220b334548f",
       "style": "IPY_MODEL_fc5e76d7b0d54b7fb864f43147295e4d",
       "tooltips": [
        "Neutron",
        "Back Target Neutron",
        "Proton",
        "Deuteron",
        "Triton",
        "Helium-3",
        "Helium-4"
       ]
      }
     },
     "39b823192d424a1aab87bcddeee16b3d": {
      "model_module": "@jupyter-widgets/controls",
      "model_module_version": "1.1.0",
      "model_name": "DescriptionStyleModel",
      "state": {
       "description_width": ""
      }
     },
     "39db90205a6a4dc681303dcbcf010a95": {
      "model_module": "@jupyter-widgets/controls",
      "model_module_version": "1.1.0",
      "model_name": "LabelModel",
      "state": {
       "layout": "IPY_MODEL_666947855c7b4a45a47d2346e06c6163",
       "style": "IPY_MODEL_502f0671d23f460a8945d09d5b4bd79c",
       "value": "Select upstream target mass thickness."
      }
     },
     "3a75bad443c149f2a33f91a7d69e457b": {
      "model_module": "@jupyter-widgets/controls",
      "model_module_version": "1.1.0",
      "model_name": "CheckboxModel",
      "state": {
       "description": "10°",
       "disabled": false,
       "layout": "IPY_MODEL_c3f3fef894c94cb3a2fed42e5d4f1d51",
       "style": "IPY_MODEL_44c9f51553bf44a9a592856322fac6fb",
       "value": true
      }
     },
     "3ab053ea2b48422690ce68b194f7ddce": {
      "model_module": "@jupyter-widgets/base",
      "model_module_version": "1.0.0",
      "model_name": "LayoutModel",
      "state": {}
     },
     "3ab5122a8d864d1d9bbb389b35e1ab2d": {
      "model_module": "@jupyter-widgets/controls",
      "model_module_version": "1.1.0",
      "model_name": "DescriptionStyleModel",
      "state": {
       "description_width": ""
      }
     },
     "3ae7edf9282c4bb29262fc74ed7457c6": {
      "model_module": "@jupyter-widgets/controls",
      "model_module_version": "1.1.0",
      "model_name": "DescriptionStyleModel",
      "state": {
       "description_width": ""
      }
     },
     "3b0965cfea5647cda8732d9283755930": {
      "model_module": "@jupyter-widgets/base",
      "model_module_version": "1.0.0",
      "model_name": "LayoutModel",
      "state": {}
     },
     "3b0b8b295c814436aa521b533e2e56c8": {
      "model_module": "@jupyter-widgets/controls",
      "model_module_version": "1.1.0",
      "model_name": "DescriptionStyleModel",
      "state": {
       "description_width": ""
      }
     },
     "3b5db79cca144685915a4b267b98c18b": {
      "model_module": "@jupyter-widgets/controls",
      "model_module_version": "1.1.0",
      "model_name": "CheckboxModel",
      "state": {
       "description": "28.2°",
       "disabled": false,
       "layout": "IPY_MODEL_5a127a21a9244a47962c8a41005dc6b8",
       "style": "IPY_MODEL_7a41df7279be47f19ff549ed07da1077",
       "value": false
      }
     },
     "3ba19ebc170b40f2b661526b1e62419f": {
      "model_module": "@jupyter-widgets/controls",
      "model_module_version": "1.1.0",
      "model_name": "DescriptionStyleModel",
      "state": {
       "description_width": ""
      }
     },
     "3bd60948f1b348798290769e44107797": {
      "model_module": "@jupyter-widgets/controls",
      "model_module_version": "1.1.0",
      "model_name": "CheckboxModel",
      "state": {
       "description": "10°",
       "disabled": false,
       "layout": "IPY_MODEL_027fe3d5ff7043d781512933effbf2f7",
       "style": "IPY_MODEL_36edc3b7ec8a44099c8f8c0543d9f99a",
       "value": true
      }
     },
     "3c09a4f787f24fb882051c5bbbc36f4a": {
      "model_module": "@jupyter-widgets/base",
      "model_module_version": "1.0.0",
      "model_name": "LayoutModel",
      "state": {}
     },
     "3c0a2da75dd243fc8e9cabdd1f16b48c": {
      "model_module": "@jupyter-widgets/base",
      "model_module_version": "1.0.0",
      "model_name": "LayoutModel",
      "state": {}
     },
     "3c181b41a2aa40508ceff12b39798aef": {
      "model_module": "@jupyter-widgets/controls",
      "model_module_version": "1.1.0",
      "model_name": "DescriptionStyleModel",
      "state": {
       "description_width": ""
      }
     },
     "3c1b163dce6341669f6824f4534d5835": {
      "model_module": "@jupyter-widgets/base",
      "model_module_version": "1.0.0",
      "model_name": "LayoutModel",
      "state": {}
     },
     "3c1dc53a568949c483b00aa912e2840e": {
      "model_module": "@jupyter-widgets/base",
      "model_module_version": "1.0.0",
      "model_name": "LayoutModel",
      "state": {}
     },
     "3c1f3f08990e48fa8891fc336116f9c7": {
      "model_module": "@jupyter-widgets/controls",
      "model_module_version": "1.1.0",
      "model_name": "DescriptionStyleModel",
      "state": {
       "description_width": ""
      }
     },
     "3c2e68c03a494d0e964b3a51e06f82e8": {
      "model_module": "@jupyter-widgets/controls",
      "model_module_version": "1.1.0",
      "model_name": "DescriptionStyleModel",
      "state": {
       "description_width": ""
      }
     },
     "3c8c6a6665a64aec97d8773312827237": {
      "model_module": "@jupyter-widgets/base",
      "model_module_version": "1.0.0",
      "model_name": "LayoutModel",
      "state": {}
     },
     "3cb589dd6b2345fa9a81a2223dc97ce9": {
      "model_module": "@jupyter-widgets/base",
      "model_module_version": "1.0.0",
      "model_name": "LayoutModel",
      "state": {}
     },
     "3cd124f1e9e744878abd76ecc1d9d390": {
      "model_module": "@jupyter-widgets/base",
      "model_module_version": "1.0.0",
      "model_name": "LayoutModel",
      "state": {}
     },
     "3cf480469a1c4902b53f1b2f7ff72c9d": {
      "model_module": "@jupyter-widgets/base",
      "model_module_version": "1.0.0",
      "model_name": "LayoutModel",
      "state": {}
     },
     "3d06230ad2b44d069ab9f4e393b17e87": {
      "model_module": "@jupyter-widgets/controls",
      "model_module_version": "1.1.0",
      "model_name": "CheckboxModel",
      "state": {
       "description": "135°",
       "disabled": false,
       "layout": "IPY_MODEL_62005fa6af354d3abb3d96cdd98641ee",
       "style": "IPY_MODEL_b06735c61c254823b8261980ec3395a3",
       "value": true
      }
     },
     "3d0f3c678ae9413bb5af523f0949b7a3": {
      "model_module": "@jupyter-widgets/controls",
      "model_module_version": "1.1.0",
      "model_name": "DescriptionStyleModel",
      "state": {
       "description_width": ""
      }
     },
     "3d4543f1be52411fb91d2d09ef6d396a": {
      "model_module": "@jupyter-widgets/controls",
      "model_module_version": "1.1.0",
      "model_name": "ToggleButtonsModel",
      "state": {
       "_options_labels": [
        "P (¹H)",
        "D (²H)",
        "T (³H)",
        "A (⁴He)"
       ],
       "button_style": "",
       "description": "Type:",
       "icons": [],
       "index": 0,
       "layout": "IPY_MODEL_b159994f2523454c849777345beef154",
       "style": "IPY_MODEL_1b46d062e7544ec0a153eeae4e600990",
       "tooltips": [
        "Proton",
        "Deuteron",
        "Triton",
        "Helium-4"
       ]
      }
     },
     "3d8b79afcd5346e89411d87b293cd799": {
      "model_module": "@jupyter-widgets/controls",
      "model_module_version": "1.1.0",
      "model_name": "ButtonStyleModel",
      "state": {}
     },
     "3d95b66ff94d442283299aecf4512049": {
      "model_module": "@jupyter-widgets/controls",
      "model_module_version": "1.1.0",
      "model_name": "DescriptionStyleModel",
      "state": {
       "description_width": ""
      }
     },
     "3d97e80d1c424d3e854e2b2106a1b287": {
      "model_module": "@jupyter-widgets/base",
      "model_module_version": "1.0.0",
      "model_name": "LayoutModel",
      "state": {}
     },
     "3e26dbb23950401caf73c17a05277c77": {
      "model_module": "@jupyter-widgets/controls",
      "model_module_version": "1.1.0",
      "model_name": "DescriptionStyleModel",
      "state": {
       "description_width": ""
      }
     },
     "3e445967598a49b49aafcad0214a1c29": {
      "model_module": "@jupyter-widgets/controls",
      "model_module_version": "1.1.0",
      "model_name": "CheckboxModel",
      "state": {
       "description": "60°",
       "disabled": false,
       "layout": "IPY_MODEL_c1b4698aaec643bf83f637a29587f2b2",
       "style": "IPY_MODEL_038cd47bafb04d39a36cd5ab084c585d",
       "value": true
      }
     },
     "3e47058c1caa4142825ba25fd6d0dc58": {
      "model_module": "@jupyter-widgets/controls",
      "model_module_version": "1.1.0",
      "model_name": "DescriptionStyleModel",
      "state": {
       "description_width": ""
      }
     },
     "3e6868e05b4d42438e495a1ad59c565b": {
      "model_module": "@jupyter-widgets/controls",
      "model_module_version": "1.1.0",
      "model_name": "DescriptionStyleModel",
      "state": {
       "description_width": ""
      }
     },
     "3e6d3a7685ca4313a9d12b60f362146d": {
      "model_module": "@jupyter-widgets/controls",
      "model_module_version": "1.1.0",
      "model_name": "CheckboxModel",
      "state": {
       "description": "80°",
       "disabled": false,
       "layout": "IPY_MODEL_31e9545bb3694ca09a8d39eb049284a8",
       "style": "IPY_MODEL_4252cd15596c400f98a374d31439c20c",
       "value": false
      }
     },
     "3ed8a03b12234f1f96c21be5fc89dbbf": {
      "model_module": "@jupyter-widgets/base",
      "model_module_version": "1.0.0",
      "model_name": "LayoutModel",
      "state": {}
     },
     "3f3126e11c2e4b25ab2b7ec236bfd29a": {
      "model_module": "@jupyter-widgets/controls",
      "model_module_version": "1.1.0",
      "model_name": "CheckboxModel",
      "state": {
       "description": "135°",
       "disabled": false,
       "layout": "IPY_MODEL_9e70dabc9cec4089a4b8308037cdecb1",
       "style": "IPY_MODEL_5d9f1e4f52be41468c9737671db6eeb7",
       "value": true
      }
     },
     "3f65a85a160a4441a7874fdb881d8141": {
      "model_module": "@jupyter-widgets/base",
      "model_module_version": "1.0.0",
      "model_name": "LayoutModel",
      "state": {}
     },
     "3f9b30d802344f01a03d47bc911046d3": {
      "model_module": "@jupyter-widgets/controls",
      "model_module_version": "1.1.0",
      "model_name": "DescriptionStyleModel",
      "state": {
       "description_width": ""
      }
     },
     "3fa835cdaf12418f909ab21e9778b253": {
      "model_module": "@jupyter-widgets/base",
      "model_module_version": "1.0.0",
      "model_name": "LayoutModel",
      "state": {}
     },
     "3fd3b2faeb074380b2729da5cdd95564": {
      "model_module": "@jupyter-widgets/base",
      "model_module_version": "1.0.0",
      "model_name": "LayoutModel",
      "state": {}
     },
     "3fe9779ece614d6c962a1ee84983c997": {
      "model_module": "@jupyter-widgets/controls",
      "model_module_version": "1.1.0",
      "model_name": "CheckboxModel",
      "state": {
       "description": "135°",
       "disabled": false,
       "layout": "IPY_MODEL_b1e44077f2bb4e8c83ec53c33e3658c0",
       "style": "IPY_MODEL_6c5ed0a01f1f418aba1e82fb20332402",
       "value": true
      }
     },
     "4000278a9d364b9f8b0aa3f29b94c1be": {
      "model_module": "@jupyter-widgets/controls",
      "model_module_version": "1.1.0",
      "model_name": "ToggleButtonsStyleModel",
      "state": {
       "button_width": "",
       "description_width": ""
      }
     },
     "403956e3427d41e39e4ca6ce37a021f3": {
      "model_module": "@jupyter-widgets/controls",
      "model_module_version": "1.1.0",
      "model_name": "ToggleButtonsStyleModel",
      "state": {
       "button_width": "",
       "description_width": ""
      }
     },
     "405608c1d3cb4a39bb86ffc579e68bcf": {
      "model_module": "@jupyter-widgets/controls",
      "model_module_version": "1.1.0",
      "model_name": "ToggleButtonsModel",
      "state": {
       "_options_labels": [
        "20 g/cm²",
        "60 g/cm²"
       ],
       "button_style": "",
       "description": "Thickness:",
       "icons": [],
       "index": 0,
       "layout": "IPY_MODEL_00ad944b06944d3ab809f24d2c5ca45d",
       "style": "IPY_MODEL_1a5612b401944defb18e84f5e71fc199",
       "tooltips": [
        "10 g/cm² Al upstream + 10 g/cm² HDPE downstream",
        "10 g/cm² Al upstream + 50 g/cm² HDPE downstream"
       ]
      }
     },
     "407138ee5cd64b1f823f611486fac5ef": {
      "model_module": "@jupyter-widgets/base",
      "model_module_version": "1.0.0",
      "model_name": "LayoutModel",
      "state": {}
     },
     "409f8d96f1b84958a16c4d20848f7289": {
      "model_module": "@jupyter-widgets/base",
      "model_module_version": "1.0.0",
      "model_name": "LayoutModel",
      "state": {}
     },
     "40ed2e091b2b4081b4b6623db8dcc3c8": {
      "model_module": "@jupyter-widgets/controls",
      "model_module_version": "1.1.0",
      "model_name": "CheckboxModel",
      "state": {
       "description": "30°",
       "disabled": false,
       "layout": "IPY_MODEL_3c1dc53a568949c483b00aa912e2840e",
       "style": "IPY_MODEL_a05914b55e5d40649e03350e6eb3630a",
       "value": true
      }
     },
     "412ccd07feee49cd84638f59c245fbbd": {
      "model_module": "@jupyter-widgets/controls",
      "model_module_version": "1.1.0",
      "model_name": "LabelModel",
      "state": {
       "layout": "IPY_MODEL_9d7a1428bf78413ab9bb86941080f268",
       "style": "IPY_MODEL_abba099c8d2346e3b5455ba8b4be4d26",
       "value": "Select projectile ion energy."
      }
     },
     "41466c3bcded4d6f827a87637d762f9d": {
      "model_module": "@jupyter-widgets/controls",
      "model_module_version": "1.1.0",
      "model_name": "ToggleButtonsModel",
      "state": {
       "_options_labels": [
        "N (¹n)",
        "NDC (¹n)",
        "P (¹H)",
        "D (²H)",
        "T (³H)",
        "S (³He)",
        "A (⁴He)"
       ],
       "button_style": "",
       "description": "Type:",
       "icons": [],
       "index": 0,
       "layout": "IPY_MODEL_770ceff503154f0a865b91c4c5f39af8",
       "style": "IPY_MODEL_a2de60ea094a4b74a1566c0c53e204dc",
       "tooltips": [
        "Neutron",
        "Back Target Neutron",
        "Proton",
        "Deuteron",
        "Triton",
        "Helium-3",
        "Helium-4"
       ]
      }
     },
     "415c20f1bd384f6e9750930c8c6d5586": {
      "model_module": "@jupyter-widgets/controls",
      "model_module_version": "1.1.0",
      "model_name": "LabelModel",
      "state": {
       "layout": "IPY_MODEL_81425f7945044f9dacb6d4144985be36",
       "style": "IPY_MODEL_20dc665dc20c4b0d804b2fd06aea5e1f",
       "value": "Select which secondary particle to plot spectra for."
      }
     },
     "41a0197ea3864f2f96cd56564c88d629": {
      "model_module": "@jupyter-widgets/controls",
      "model_module_version": "1.1.0",
      "model_name": "CheckboxModel",
      "state": {
       "description": "80°",
       "disabled": false,
       "layout": "IPY_MODEL_cdbb0ba078c340cf92d6e7d7f2d48a90",
       "style": "IPY_MODEL_5032c0a28bb84678ba8f7c98434b2fb8",
       "value": true
      }
     },
     "41c781fe96f6436fa3362dfde8270771": {
      "model_module": "@jupyter-widgets/controls",
      "model_module_version": "1.1.0",
      "model_name": "CheckboxModel",
      "state": {
       "description": "135°",
       "disabled": false,
       "layout": "IPY_MODEL_5fc3f122bf5a4e9f81f5da4f559639cc",
       "style": "IPY_MODEL_aeeface96ece4888a98b7db93c45d416",
       "value": false
      }
     },
     "421425277dc24c669526e22b1bd57aa2": {
      "model_module": "@jupyter-widgets/controls",
      "model_module_version": "1.1.0",
      "model_name": "ToggleButtonsStyleModel",
      "state": {
       "button_width": "",
       "description_width": ""
      }
     },
     "422dba91792c4e14a40f86c2993d3b8d": {
      "model_module": "@jupyter-widgets/controls",
      "model_module_version": "1.1.0",
      "model_name": "LabelModel",
      "state": {
       "layout": "IPY_MODEL_cca342e79c6b4f2abd356205fe68475c",
       "style": "IPY_MODEL_0e990f10fa3a4299b2d8194a6469a2da",
       "value": "Select the detector angles to plot."
      }
     },
     "4252cd15596c400f98a374d31439c20c": {
      "model_module": "@jupyter-widgets/controls",
      "model_module_version": "1.1.0",
      "model_name": "DescriptionStyleModel",
      "state": {
       "description_width": ""
      }
     },
     "4259e31010e14417960adc84dabd8764": {
      "model_module": "@jupyter-widgets/controls",
      "model_module_version": "1.1.0",
      "model_name": "DescriptionStyleModel",
      "state": {
       "description_width": ""
      }
     },
     "428942ba674d46a2bf6cdd61a85e65eb": {
      "model_module": "@jupyter-widgets/base",
      "model_module_version": "1.0.0",
      "model_name": "LayoutModel",
      "state": {}
     },
     "42a55227a224471a814309854d725036": {
      "model_module": "@jupyter-widgets/controls",
      "model_module_version": "1.1.0",
      "model_name": "ToggleButtonsModel",
      "state": {
       "_options_labels": [
        "None",
        "Spaced by 10²"
       ],
       "button_style": "",
       "description": "Spacing:",
       "icons": [],
       "index": 0,
       "layout": "IPY_MODEL_a17e18225617407bad9ea54d14d3ff8f",
       "style": "IPY_MODEL_2593de92f9be4007b1f4d477fd4a25a2",
       "tooltips": [
        "All values are presented as is.",
        "Plots for different detectors are multiplied by powers of 10² for easier viewing."
       ]
      }
     },
     "42ac3994113648e7b1511b9da9417c54": {
      "model_module": "@jupyter-widgets/controls",
      "model_module_version": "1.1.0",
      "model_name": "DescriptionStyleModel",
      "state": {
       "description_width": ""
      }
     },
     "42b67d4ab06f47b4961cd3afdd00554c": {
      "model_module": "@jupyter-widgets/controls",
      "model_module_version": "1.1.0",
      "model_name": "DescriptionStyleModel",
      "state": {
       "description_width": ""
      }
     },
     "42c81fe8612b454e8f3f3342eb8dd9b6": {
      "model_module": "@jupyter-widgets/controls",
      "model_module_version": "1.1.0",
      "model_name": "DescriptionStyleModel",
      "state": {
       "description_width": ""
      }
     },
     "42da148a2a3e4f1f9716cd92540ea132": {
      "model_module": "@jupyter-widgets/controls",
      "model_module_version": "1.1.0",
      "model_name": "ToggleButtonsStyleModel",
      "state": {
       "button_width": "",
       "description_width": ""
      }
     },
     "4309eca1d42d41d0a0be80ee3ddcc7cf": {
      "model_module": "@jupyter-widgets/base",
      "model_module_version": "1.0.0",
      "model_name": "LayoutModel",
      "state": {}
     },
     "431cb5160efb42c1be6d872d56c3b795": {
      "model_module": "@jupyter-widgets/controls",
      "model_module_version": "1.1.0",
      "model_name": "DescriptionStyleModel",
      "state": {
       "description_width": ""
      }
     },
     "434eda9a3fdd4adc9d47d36d17c44992": {
      "model_module": "@jupyter-widgets/controls",
      "model_module_version": "1.1.0",
      "model_name": "DescriptionStyleModel",
      "state": {
       "description_width": ""
      }
     },
     "43912211b5184688b8ce478f1efbc6ef": {
      "model_module": "@jupyter-widgets/controls",
      "model_module_version": "1.1.0",
      "model_name": "DescriptionStyleModel",
      "state": {
       "description_width": ""
      }
     },
     "43db9ac0878c4c78b0c406c66ddf8b30": {
      "model_module": "@jupyter-widgets/controls",
      "model_module_version": "1.1.0",
      "model_name": "CheckboxModel",
      "state": {
       "description": "45°",
       "disabled": false,
       "layout": "IPY_MODEL_cf71b31f4cc440f89857fc5385661b21",
       "style": "IPY_MODEL_c364e5d45e4041ecb1b0e2902e992113",
       "value": true
      }
     },
     "442ac209cf4f4253a7d278fb37682d26": {
      "model_module": "@jupyter-widgets/controls",
      "model_module_version": "1.1.0",
      "model_name": "DescriptionStyleModel",
      "state": {
       "description_width": ""
      }
     },
     "4476cc8007dc41c292862aa4975e03ca": {
      "model_module": "@jupyter-widgets/controls",
      "model_module_version": "1.1.0",
      "model_name": "LabelModel",
      "state": {
       "layout": "IPY_MODEL_d7301efcfaf240e7a25f464811b3aaee",
       "style": "IPY_MODEL_e7c50db298be473eac5d8bfb179b664c",
       "value": "Select projectile ion species and energy."
      }
     },
     "447f53e19b2f4ddf9d2a3f12f6e5636f": {
      "model_module": "@jupyter-widgets/base",
      "model_module_version": "1.0.0",
      "model_name": "LayoutModel",
      "state": {}
     },
     "44c9f51553bf44a9a592856322fac6fb": {
      "model_module": "@jupyter-widgets/controls",
      "model_module_version": "1.1.0",
      "model_name": "DescriptionStyleModel",
      "state": {
       "description_width": ""
      }
     },
     "44d3c41f87914e6faf2379147d847721": {
      "model_module": "@jupyter-widgets/base",
      "model_module_version": "1.0.0",
      "model_name": "LayoutModel",
      "state": {}
     },
     "44e15962fb0a4f7c90805cc6a532bafd": {
      "model_module": "@jupyter-widgets/controls",
      "model_module_version": "1.1.0",
      "model_name": "CheckboxModel",
      "state": {
       "description": "80°",
       "disabled": false,
       "layout": "IPY_MODEL_f5265654bf1c43de820654cb0b360cae",
       "style": "IPY_MODEL_9b930e4743cd49ad892e2565cb83d894",
       "value": false
      }
     },
     "44e313e4526743ceb8af6da255f65ad1": {
      "model_module": "@jupyter-widgets/controls",
      "model_module_version": "1.1.0",
      "model_name": "DescriptionStyleModel",
      "state": {
       "description_width": ""
      }
     },
     "4511b1edad03417384805e5759312aa5": {
      "model_module": "@jupyter-widgets/controls",
      "model_module_version": "1.1.0",
      "model_name": "LabelModel",
      "state": {
       "layout": "IPY_MODEL_a430f5e1f8104030adc87152f743628c",
       "style": "IPY_MODEL_a0f8ff67cce34c4a927a05fb1ee2c88f",
       "value": "Select the detector angles to plot."
      }
     },
     "4517d2ec7e194ea2bbef18bb24682c51": {
      "model_module": "@jupyter-widgets/controls",
      "model_module_version": "1.1.0",
      "model_name": "CheckboxModel",
      "state": {
       "description": "80°",
       "disabled": false,
       "layout": "IPY_MODEL_bfd6c883ab654524b99c3f030206e901",
       "style": "IPY_MODEL_840cc699269c453caf5255b94c01977e",
       "value": true
      }
     },
     "4524981b64cd4317b83daa649d2fcda4": {
      "model_module": "@jupyter-widgets/controls",
      "model_module_version": "1.1.0",
      "model_name": "DescriptionStyleModel",
      "state": {
       "description_width": ""
      }
     },
     "453f31976f1745da8fe67203caf87d15": {
      "model_module": "@jupyter-widgets/controls",
      "model_module_version": "1.1.0",
      "model_name": "DescriptionStyleModel",
      "state": {
       "description_width": ""
      }
     },
     "458d0ff4e9c24a4fb84bc59a942eb7be": {
      "model_module": "@jupyter-widgets/controls",
      "model_module_version": "1.1.0",
      "model_name": "DescriptionStyleModel",
      "state": {
       "description_width": ""
      }
     },
     "45b9d236dbbf4356aafdb480f24a11d5": {
      "model_module": "@jupyter-widgets/controls",
      "model_module_version": "1.1.0",
      "model_name": "DescriptionStyleModel",
      "state": {
       "description_width": ""
      }
     },
     "45c7f6aa82f24df694b77ec71789ab46": {
      "model_module": "@jupyter-widgets/controls",
      "model_module_version": "1.1.0",
      "model_name": "ToggleButtonsStyleModel",
      "state": {
       "button_width": "",
       "description_width": ""
      }
     },
     "460c05ff88a1487bbc9076500df65cf9": {
      "model_module": "@jupyter-widgets/base",
      "model_module_version": "1.0.0",
      "model_name": "LayoutModel",
      "state": {}
     },
     "46158989dffc448fbbd4cbe5f5e4dd4f": {
      "model_module": "@jupyter-widgets/base",
      "model_module_version": "1.0.0",
      "model_name": "LayoutModel",
      "state": {}
     },
     "4624e853dfd54f939381d2e27047bb61": {
      "model_module": "@jupyter-widgets/controls",
      "model_module_version": "1.1.0",
      "model_name": "DescriptionStyleModel",
      "state": {
       "description_width": ""
      }
     },
     "4626e326d1fc43d4b1129ad66a98aade": {
      "model_module": "@jupyter-widgets/controls",
      "model_module_version": "1.1.0",
      "model_name": "CheckboxModel",
      "state": {
       "description": "45°",
       "disabled": false,
       "layout": "IPY_MODEL_84966235c9f94f55bd3807f3ac243f7c",
       "style": "IPY_MODEL_a8ff9a8265864ce6b8522a45b3a04d55",
       "value": true
      }
     },
     "462a79a9036144b8b3fe19cdc55eee8c": {
      "model_module": "@jupyter-widgets/controls",
      "model_module_version": "1.1.0",
      "model_name": "DescriptionStyleModel",
      "state": {
       "description_width": ""
      }
     },
     "4631bef8f06b44778e229ff134e96632": {
      "model_module": "@jupyter-widgets/controls",
      "model_module_version": "1.1.0",
      "model_name": "DescriptionStyleModel",
      "state": {
       "description_width": ""
      }
     },
     "46b255cfc70a4c64812173744a44a5da": {
      "model_module": "@jupyter-widgets/base",
      "model_module_version": "1.0.0",
      "model_name": "LayoutModel",
      "state": {}
     },
     "46da5a87136a4c1aab5938de6e45b620": {
      "model_module": "@jupyter-widgets/controls",
      "model_module_version": "1.1.0",
      "model_name": "DescriptionStyleModel",
      "state": {
       "description_width": ""
      }
     },
     "47059e5beca54edaad373a3aae00fc54": {
      "model_module": "@jupyter-widgets/controls",
      "model_module_version": "1.1.0",
      "model_name": "CheckboxModel",
      "state": {
       "description": "135°",
       "disabled": false,
       "layout": "IPY_MODEL_ba722835f7ba445792a8f5734717ca5e",
       "style": "IPY_MODEL_98237bf22d114ff39d165b4678e54734",
       "value": true
      }
     },
     "4723e6fd33cf4b678be4eff35656ddd8": {
      "model_module": "@jupyter-widgets/controls",
      "model_module_version": "1.1.0",
      "model_name": "CheckboxModel",
      "state": {
       "description": "12.7°",
       "disabled": false,
       "layout": "IPY_MODEL_d10acb0e71b24bb2b589371ee184085a",
       "style": "IPY_MODEL_c6e914b0c98940cfb5bdd881a7c06bf3",
       "value": true
      }
     },
     "4742d20d74b74d16b7c7a665f6dccd02": {
      "model_module": "@jupyter-widgets/controls",
      "model_module_version": "1.1.0",
      "model_name": "CheckboxModel",
      "state": {
       "description": "80°",
       "disabled": false,
       "layout": "IPY_MODEL_3c1b163dce6341669f6824f4534d5835",
       "style": "IPY_MODEL_b88e9620565a40ab941bc49f29829681",
       "value": true
      }
     },
     "47696c0e2de54cffb03295fdca3ba4f9": {
      "model_module": "@jupyter-widgets/controls",
      "model_module_version": "1.1.0",
      "model_name": "ButtonStyleModel",
      "state": {}
     },
     "47949500a1db4319892288bb8a0eaecd": {
      "model_module": "@jupyter-widgets/controls",
      "model_module_version": "1.1.0",
      "model_name": "LabelModel",
      "state": {
       "layout": "IPY_MODEL_1bfd2f44b7c2442090c992df698cee4c",
       "style": "IPY_MODEL_e79bd93ad5be4112858e8589b9072286",
       "value": "Select the detector angles to plot."
      }
     },
     "47bb9e4681e444679e939c70b022b30b": {
      "model_module": "@jupyter-widgets/controls",
      "model_module_version": "1.1.0",
      "model_name": "ButtonStyleModel",
      "state": {}
     },
     "48361456091047d39283a4c138e3abce": {
      "model_module": "@jupyter-widgets/controls",
      "model_module_version": "1.1.0",
      "model_name": "LabelModel",
      "state": {
       "layout": "IPY_MODEL_0017f825ac48419da4b51260e1acf358",
       "style": "IPY_MODEL_9b80b536f8134456afcfab7a234face8",
       "value": "Select projectile ion energy."
      }
     },
     "486a85212fc74b3c976559e6f202904e": {
      "model_module": "@jupyter-widgets/controls",
      "model_module_version": "1.1.0",
      "model_name": "DescriptionStyleModel",
      "state": {
       "description_width": ""
      }
     },
     "4873b52e14fb4e01a2efc9b6ec9f4561": {
      "model_module": "@jupyter-widgets/controls",
      "model_module_version": "1.1.0",
      "model_name": "ToggleButtonsStyleModel",
      "state": {
       "button_width": "",
       "description_width": ""
      }
     },
     "48a4c96a827e49d3beae6e2d1e8dace5": {
      "model_module": "@jupyter-widgets/controls",
      "model_module_version": "1.1.0",
      "model_name": "CheckboxModel",
      "state": {
       "description": "80°",
       "disabled": false,
       "layout": "IPY_MODEL_181d532fcf664ac59ef38448d3ac215c",
       "style": "IPY_MODEL_1b1c3c1a190840779c5277f754611eed",
       "value": true
      }
     },
     "48d3fdf0172048b78092b2e4fba35cc1": {
      "model_module": "@jupyter-widgets/base",
      "model_module_version": "1.0.0",
      "model_name": "LayoutModel",
      "state": {}
     },
     "48d6a29de3fe4b21a4933651013ca17c": {
      "model_module": "@jupyter-widgets/base",
      "model_module_version": "1.0.0",
      "model_name": "LayoutModel",
      "state": {}
     },
     "48dd3491bb6543ef97f3184f4dd04dc1": {
      "model_module": "@jupyter-widgets/base",
      "model_module_version": "1.0.0",
      "model_name": "LayoutModel",
      "state": {}
     },
     "494dabc7ce2945f19239370be71cc656": {
      "model_module": "@jupyter-widgets/base",
      "model_module_version": "1.0.0",
      "model_name": "LayoutModel",
      "state": {}
     },
     "496afe6a7255467882497c62a9934238": {
      "model_module": "@jupyter-widgets/controls",
      "model_module_version": "1.1.0",
      "model_name": "LabelModel",
      "state": {
       "layout": "IPY_MODEL_104d58e9449e48749b05fefce343f075",
       "style": "IPY_MODEL_5b022fe216604a93ac7675403a1dfe4f",
       "value": "Select which secondary particle to plot spectra for."
      }
     },
     "4983d2055aa540b09bf1671d230359fd": {
      "model_module": "@jupyter-widgets/base",
      "model_module_version": "1.0.0",
      "model_name": "LayoutModel",
      "state": {}
     },
     "49e9137e50f44813b72a45d69a659e96": {
      "model_module": "@jupyter-widgets/controls",
      "model_module_version": "1.1.0",
      "model_name": "CheckboxModel",
      "state": {
       "description": "60°",
       "disabled": false,
       "layout": "IPY_MODEL_6e5bfcd185424475abd072f9ff0da8ef",
       "style": "IPY_MODEL_07d75c2623a14acaac5b43e08e71b559",
       "value": false
      }
     },
     "4a159ef5829140938004cae24842987b": {
      "model_module": "@jupyter-widgets/controls",
      "model_module_version": "1.1.0",
      "model_name": "DescriptionStyleModel",
      "state": {
       "description_width": ""
      }
     },
     "4a48969b477c4bafabcfc6a9e4de6868": {
      "model_module": "@jupyter-widgets/controls",
      "model_module_version": "1.1.0",
      "model_name": "CheckboxModel",
      "state": {
       "description": "60°",
       "disabled": false,
       "layout": "IPY_MODEL_1d393d3627de4b8b9c225452fc52406f",
       "style": "IPY_MODEL_23ad429477be4fe7beb80dd502064ac7",
       "value": true
      }
     },
     "4aad6287ce5545179622eeec21873b28": {
      "model_module": "@jupyter-widgets/controls",
      "model_module_version": "1.1.0",
      "model_name": "CheckboxModel",
      "state": {
       "description": "80°",
       "disabled": false,
       "layout": "IPY_MODEL_dcac55fa47134e5a80e306325f646db6",
       "style": "IPY_MODEL_2c283eac07974b8c9dc6bcd92671f261",
       "value": true
      }
     },
     "4ad68fd1d95745479f05deef48a13dfe": {
      "model_module": "@jupyter-widgets/controls",
      "model_module_version": "1.1.0",
      "model_name": "CheckboxModel",
      "state": {
       "description": "80°",
       "disabled": false,
       "layout": "IPY_MODEL_268deff161c442f6baaa7d2a79d4c5a9",
       "style": "IPY_MODEL_3399a4c8e41742b19dc0a8b326200e48",
       "value": true
      }
     },
     "4aeafb61077d42808cef7e4da9b5abeb": {
      "model_module": "@jupyter-widgets/controls",
      "model_module_version": "1.1.0",
      "model_name": "CheckboxModel",
      "state": {
       "description": "28.2°",
       "disabled": false,
       "layout": "IPY_MODEL_0ba15f02a3e241cfb5554239e37e8a39",
       "style": "IPY_MODEL_3ae7edf9282c4bb29262fc74ed7457c6",
       "value": true
      }
     },
     "4b2dacfe18dc47e1a9d89b9d4d0d17ff": {
      "model_module": "@jupyter-widgets/base",
      "model_module_version": "1.0.0",
      "model_name": "LayoutModel",
      "state": {}
     },
     "4b313ade035346c08238c3d82576da2f": {
      "model_module": "@jupyter-widgets/base",
      "model_module_version": "1.0.0",
      "model_name": "LayoutModel",
      "state": {}
     },
     "4b395f57c6674e77b411277989eacd52": {
      "model_module": "@jupyter-widgets/controls",
      "model_module_version": "1.1.0",
      "model_name": "DescriptionStyleModel",
      "state": {
       "description_width": ""
      }
     },
     "4b3e0d7cc3a34cd19bab3b2ed36231f6": {
      "model_module": "@jupyter-widgets/base",
      "model_module_version": "1.0.0",
      "model_name": "LayoutModel",
      "state": {}
     },
     "4b6fa27e982d4d39a045f12e95015ba9": {
      "model_module": "@jupyter-widgets/base",
      "model_module_version": "1.0.0",
      "model_name": "LayoutModel",
      "state": {}
     },
     "4bbd72c1fa0b40e69f7b7a8bbda3f824": {
      "model_module": "@jupyter-widgets/base",
      "model_module_version": "1.0.0",
      "model_name": "LayoutModel",
      "state": {}
     },
     "4bd4fb3548f34dbbab78ecd8e9853177": {
      "model_module": "@jupyter-widgets/base",
      "model_module_version": "1.0.0",
      "model_name": "LayoutModel",
      "state": {}
     },
     "4be18702b7374d2bb6514893bc088c12": {
      "model_module": "@jupyter-widgets/controls",
      "model_module_version": "1.1.0",
      "model_name": "CheckboxModel",
      "state": {
       "description": "10°",
       "disabled": false,
       "layout": "IPY_MODEL_c3cab31f4d4f4a858cd9408d120aca09",
       "style": "IPY_MODEL_6e95f3508fc4499f871042d4040bd640",
       "value": true
      }
     },
     "4bfd016f6b254de38d2ec87c639a380d": {
      "model_module": "@jupyter-widgets/controls",
      "model_module_version": "1.1.0",
      "model_name": "DescriptionStyleModel",
      "state": {
       "description_width": ""
      }
     },
     "4c2d056166914a319f1aa0a32c67856d": {
      "model_module": "@jupyter-widgets/base",
      "model_module_version": "1.0.0",
      "model_name": "LayoutModel",
      "state": {}
     },
     "4c4d18aa051748ab9c29e91c88c13ed2": {
      "model_module": "@jupyter-widgets/controls",
      "model_module_version": "1.1.0",
      "model_name": "CheckboxModel",
      "state": {
       "description": "135°",
       "disabled": false,
       "layout": "IPY_MODEL_5ad7cb92db9f426599a612e6cdbeb1ae",
       "style": "IPY_MODEL_3c2e68c03a494d0e964b3a51e06f82e8",
       "value": true
      }
     },
     "4cbffe1b274f49ce81322da62902dd9c": {
      "model_module": "@jupyter-widgets/controls",
      "model_module_version": "1.1.0",
      "model_name": "ToggleButtonsStyleModel",
      "state": {
       "button_width": "",
       "description_width": ""
      }
     },
     "4cc39a6a644b45c2ae23f45f0791d40f": {
      "model_module": "@jupyter-widgets/controls",
      "model_module_version": "1.1.0",
      "model_name": "DescriptionStyleModel",
      "state": {
       "description_width": ""
      }
     },
     "4ce6a61031ce4b2ebb66154499226a6b": {
      "model_module": "@jupyter-widgets/controls",
      "model_module_version": "1.1.0",
      "model_name": "CheckboxModel",
      "state": {
       "description": "10°",
       "disabled": false,
       "layout": "IPY_MODEL_7db1c715c27c426f9a9b3a5820d79b0c",
       "style": "IPY_MODEL_f49081b81392490a9d44ed5eda297dfb",
       "value": true
      }
     },
     "4d36206d20a544589047cb8ec209f141": {
      "model_module": "@jupyter-widgets/controls",
      "model_module_version": "1.1.0",
      "model_name": "ToggleButtonsModel",
      "state": {
       "_options_labels": [
        "N (¹n)",
        "NDC (¹n)",
        "P (¹H)",
        "D (²H)",
        "T (³H)",
        "S (³He)",
        "A (⁴He)"
       ],
       "button_style": "",
       "description": "Type:",
       "icons": [],
       "index": 0,
       "layout": "IPY_MODEL_4309eca1d42d41d0a0be80ee3ddcc7cf",
       "style": "IPY_MODEL_012702128d55420bb4f3a67906054542",
       "tooltips": [
        "Neutron",
        "Back Target Neutron",
        "Proton",
        "Deuteron",
        "Triton",
        "Helium-3",
        "Helium-4"
       ]
      }
     },
     "4d4fcad406be4ae3ad2925c4cfe5d079": {
      "model_module": "@jupyter-widgets/base",
      "model_module_version": "1.0.0",
      "model_name": "LayoutModel",
      "state": {}
     },
     "4d5a6bf6a7c64ae28eec32fa0a0c12f3": {
      "model_module": "@jupyter-widgets/controls",
      "model_module_version": "1.1.0",
      "model_name": "CheckboxModel",
      "state": {
       "description": "80°",
       "disabled": false,
       "layout": "IPY_MODEL_7a606f3c1ab14cb9839909e63914dd28",
       "style": "IPY_MODEL_9bc2ba7a19f74af4ae4a126910a7c81b",
       "value": true
      }
     },
     "4dc60796dc4d4b2fb291300a78b5e453": {
      "model_module": "@jupyter-widgets/controls",
      "model_module_version": "1.1.0",
      "model_name": "DescriptionStyleModel",
      "state": {
       "description_width": ""
      }
     },
     "4de496bb8bbb4886a778a02e718a549f": {
      "model_module": "@jupyter-widgets/controls",
      "model_module_version": "1.1.0",
      "model_name": "ToggleButtonsStyleModel",
      "state": {
       "button_width": "",
       "description_width": ""
      }
     },
     "4deedfd0f766471687a33b4eabf2c502": {
      "model_module": "@jupyter-widgets/controls",
      "model_module_version": "1.1.0",
      "model_name": "CheckboxModel",
      "state": {
       "description": "60°",
       "disabled": false,
       "layout": "IPY_MODEL_e13fe1343d144c94a41936009565334f",
       "style": "IPY_MODEL_f1f935c3adf24e1bb45e6f19d25d81c5",
       "value": true
      }
     },
     "4df1a3837fc04729974df5c9012b3dde": {
      "model_module": "@jupyter-widgets/controls",
      "model_module_version": "1.1.0",
      "model_name": "DescriptionStyleModel",
      "state": {
       "description_width": ""
      }
     },
     "4e0a5c89d71144109d42b533d4f7926c": {
      "model_module": "@jupyter-widgets/controls",
      "model_module_version": "1.1.0",
      "model_name": "LabelModel",
      "state": {
       "layout": "IPY_MODEL_75647d063fd343279bf2691272c87b29",
       "style": "IPY_MODEL_9615104881154fcfa004fddcec99c116",
       "value": "Select which secondary particle to plot spectra for."
      }
     },
     "4e11908df70c4c1baa0a0a0701c3b483": {
      "model_module": "@jupyter-widgets/controls",
      "model_module_version": "1.1.0",
      "model_name": "CheckboxModel",
      "state": {
       "description": "135°",
       "disabled": false,
       "layout": "IPY_MODEL_648e2abce8bd44749de5e0704c4e0f8c",
       "style": "IPY_MODEL_8560a6f02b604d1bb2516e19618938a6",
       "value": false
      }
     },
     "4e2a53e9f2794258a9dc672297ae031b": {
      "model_module": "@jupyter-widgets/base",
      "model_module_version": "1.0.0",
      "model_name": "LayoutModel",
      "state": {}
     },
     "4e692a9a30684f1e9cf9f9eab12388e7": {
      "model_module": "@jupyter-widgets/controls",
      "model_module_version": "1.1.0",
      "model_name": "DescriptionStyleModel",
      "state": {
       "description_width": ""
      }
     },
     "4e95b30bf0064f74a6df13c94478640f": {
      "model_module": "@jupyter-widgets/controls",
      "model_module_version": "1.1.0",
      "model_name": "LabelModel",
      "state": {
       "layout": "IPY_MODEL_48d3fdf0172048b78092b2e4fba35cc1",
       "style": "IPY_MODEL_7459268c60e14cee93a95a83bb9c62cd",
       "value": "Select the detector angles to plot."
      }
     },
     "4ea59979a0084e069d4cfe7c617b86d8": {
      "model_module": "@jupyter-widgets/controls",
      "model_module_version": "1.1.0",
      "model_name": "DescriptionStyleModel",
      "state": {
       "description_width": ""
      }
     },
     "4ed288858c314b359ad89bbd11086fa4": {
      "model_module": "@jupyter-widgets/controls",
      "model_module_version": "1.1.0",
      "model_name": "LabelModel",
      "state": {
       "layout": "IPY_MODEL_25f899f8d0f04abf8212ea7933f21da4",
       "style": "IPY_MODEL_0fd4e4d9a1e24438beae0580eb21cd0a",
       "value": "Select which secondary particle to plot spectra for."
      }
     },
     "4ef0084a078247899fe9c9e4946364ae": {
      "model_module": "@jupyter-widgets/base",
      "model_module_version": "1.0.0",
      "model_name": "LayoutModel",
      "state": {}
     },
     "4ef169f780f5492d945394689c66c0f3": {
      "model_module": "@jupyter-widgets/controls",
      "model_module_version": "1.1.0",
      "model_name": "ToggleButtonsStyleModel",
      "state": {
       "button_width": "",
       "description_width": ""
      }
     },
     "4ef62c84f3b949ca9cc3d00b7cabcba9": {
      "model_module": "@jupyter-widgets/controls",
      "model_module_version": "1.1.0",
      "model_name": "CheckboxModel",
      "state": {
       "description": "30°",
       "disabled": false,
       "layout": "IPY_MODEL_1e89315c30e2428fa595d6b42ebd4592",
       "style": "IPY_MODEL_1b3dff2e885b48e789134f537ebc787a",
       "value": true
      }
     },
     "4f3f9f56808c4b14a26239ba5483cb60": {
      "model_module": "@jupyter-widgets/controls",
      "model_module_version": "1.1.0",
      "model_name": "ToggleButtonsModel",
      "state": {
       "_options_labels": [
        "400 MeV/n",
        "800 MeV/n",
        "1500 MeV/n"
       ],
       "button_style": "",
       "description": "Energy:",
       "icons": [],
       "index": 0,
       "layout": "IPY_MODEL_c427e3c1ea6549109d108f8a2ff7ce3d",
       "style": "IPY_MODEL_865a726d61fa47a29ff1bf6ab3cbb3c4",
       "tooltips": [
        "lowest energy",
        "middle energy",
        "highest energy"
       ]
      }
     },
     "4f5a6e8389cc492184cdfa2a1335dec7": {
      "model_module": "@jupyter-widgets/base",
      "model_module_version": "1.0.0",
      "model_name": "LayoutModel",
      "state": {}
     },
     "4fa6bd4d322749fe891b1e8b7edd436a": {
      "model_module": "@jupyter-widgets/controls",
      "model_module_version": "1.1.0",
      "model_name": "DescriptionStyleModel",
      "state": {
       "description_width": ""
      }
     },
     "4ff00da7b2f240d1a374a3fc4e320df3": {
      "model_module": "@jupyter-widgets/base",
      "model_module_version": "1.0.0",
      "model_name": "LayoutModel",
      "state": {}
     },
     "4ff53ed86afa4374ab630e0d485944b5": {
      "model_module": "@jupyter-widgets/controls",
      "model_module_version": "1.1.0",
      "model_name": "CheckboxModel",
      "state": {
       "description": "45°",
       "disabled": false,
       "layout": "IPY_MODEL_b65c01657bd649c8b8b1c5021cec090e",
       "style": "IPY_MODEL_fe1d1e90130247ac8121c825e79cb174",
       "value": true
      }
     },
     "501c96fa4327478bb850662111108f9e": {
      "model_module": "@jupyter-widgets/controls",
      "model_module_version": "1.1.0",
      "model_name": "CheckboxModel",
      "state": {
       "description": "60°",
       "disabled": false,
       "layout": "IPY_MODEL_7f6a97e5fbe24a3c9cbbb57009b519b5",
       "style": "IPY_MODEL_53b203c5bcf74a0689b75dca70294cd6",
       "value": false
      }
     },
     "502f0671d23f460a8945d09d5b4bd79c": {
      "model_module": "@jupyter-widgets/controls",
      "model_module_version": "1.1.0",
      "model_name": "DescriptionStyleModel",
      "state": {
       "description_width": ""
      }
     },
     "5032c0a28bb84678ba8f7c98434b2fb8": {
      "model_module": "@jupyter-widgets/controls",
      "model_module_version": "1.1.0",
      "model_name": "DescriptionStyleModel",
      "state": {
       "description_width": ""
      }
     },
     "5055ec73c4224306ade810760718b4c2": {
      "model_module": "@jupyter-widgets/controls",
      "model_module_version": "1.1.0",
      "model_name": "ToggleButtonsModel",
      "state": {
       "_options_labels": [
        "N (¹n)",
        "NDC (¹n)",
        "P (¹H)",
        "D (²H)",
        "T (³H)",
        "S (³He)",
        "A (⁴He)"
       ],
       "button_style": "",
       "description": "Type:",
       "icons": [],
       "index": 0,
       "layout": "IPY_MODEL_bdf78436e9c142c9a60aa393d33ca884",
       "style": "IPY_MODEL_12cf0e3f5beb4e5db305b20b8628fea2",
       "tooltips": [
        "Neutron",
        "Back Target Neutron",
        "Proton",
        "Deuteron",
        "Triton",
        "Helium-3",
        "Helium-4"
       ]
      }
     },
     "505d38a767e546989370b7597d6730a5": {
      "model_module": "@jupyter-widgets/controls",
      "model_module_version": "1.1.0",
      "model_name": "CheckboxModel",
      "state": {
       "description": "60°",
       "disabled": false,
       "layout": "IPY_MODEL_48dd3491bb6543ef97f3184f4dd04dc1",
       "style": "IPY_MODEL_095b4ce3a3364cbaa4c0dbd459814f9a",
       "value": true
      }
     },
     "50bb39ba82dd4e0f928548cbc1e56055": {
      "model_module": "@jupyter-widgets/controls",
      "model_module_version": "1.1.0",
      "model_name": "DescriptionStyleModel",
      "state": {
       "description_width": ""
      }
     },
     "5101c32fba2647e7b23b2c007b6a958d": {
      "model_module": "@jupyter-widgets/base",
      "model_module_version": "1.0.0",
      "model_name": "LayoutModel",
      "state": {}
     },
     "518cb1c97022473f8651c05ae7db2953": {
      "model_module": "@jupyter-widgets/controls",
      "model_module_version": "1.1.0",
      "model_name": "CheckboxModel",
      "state": {
       "description": "30°",
       "disabled": false,
       "layout": "IPY_MODEL_820dfd5d872b4d25b9c5ff1f806a7c09",
       "style": "IPY_MODEL_69ec8e82f79545b8b4db029164b7f4b6",
       "value": true
      }
     },
     "522fa2925391448985ebc11eba9e8583": {
      "model_module": "@jupyter-widgets/controls",
      "model_module_version": "1.1.0",
      "model_name": "CheckboxModel",
      "state": {
       "description": "60°",
       "disabled": false,
       "layout": "IPY_MODEL_4c2d056166914a319f1aa0a32c67856d",
       "style": "IPY_MODEL_3409f20a2b44478ca3f017d84b25150d",
       "value": true
      }
     },
     "525f48a576274f9ba23dc59a0dfa4897": {
      "model_module": "@jupyter-widgets/controls",
      "model_module_version": "1.1.0",
      "model_name": "CheckboxModel",
      "state": {
       "description": "60°",
       "disabled": false,
       "layout": "IPY_MODEL_3c8c6a6665a64aec97d8773312827237",
       "style": "IPY_MODEL_c341e551dd3f44e6b6220a52550cbe89",
       "value": true
      }
     },
     "52a96ac245a449098464e256ec1c8a46": {
      "model_module": "@jupyter-widgets/controls",
      "model_module_version": "1.1.0",
      "model_name": "CheckboxModel",
      "state": {
       "description": "10°",
       "disabled": false,
       "layout": "IPY_MODEL_6d7e8177703e4fc78b5724bb7c5f39e9",
       "style": "IPY_MODEL_c62d708d273e40c981235311559699b9",
       "value": true
      }
     },
     "52c16dd828a84e3c93385fd475420794": {
      "model_module": "@jupyter-widgets/base",
      "model_module_version": "1.0.0",
      "model_name": "LayoutModel",
      "state": {}
     },
     "52f2a682870d495c8df9b66819365ea9": {
      "model_module": "@jupyter-widgets/controls",
      "model_module_version": "1.1.0",
      "model_name": "CheckboxModel",
      "state": {
       "description": "80°",
       "disabled": false,
       "layout": "IPY_MODEL_71058c791b4b4cf791c34492ca167eab",
       "style": "IPY_MODEL_b3f675f793e84eb8af82213e3f6ecee1",
       "value": true
      }
     },
     "52f70f15ffa049e38c6a8b99a6efe1e2": {
      "model_module": "@jupyter-widgets/controls",
      "model_module_version": "1.1.0",
      "model_name": "CheckboxModel",
      "state": {
       "description": "10°",
       "disabled": false,
       "layout": "IPY_MODEL_c3ecc9526c494ff2a70d7aeab2d6a81a",
       "style": "IPY_MODEL_72e45cb336a54312a1aeef5f4c881553",
       "value": true
      }
     },
     "5334baa65f5a442abe5e6394834ac8d0": {
      "model_module": "@jupyter-widgets/controls",
      "model_module_version": "1.1.0",
      "model_name": "DescriptionStyleModel",
      "state": {
       "description_width": ""
      }
     },
     "53519e7ebbf249e681459daa23be4e3f": {
      "model_module": "@jupyter-widgets/base",
      "model_module_version": "1.0.0",
      "model_name": "LayoutModel",
      "state": {}
     },
     "53a07c9c5a044530a6200c5974dc52ca": {
      "model_module": "@jupyter-widgets/controls",
      "model_module_version": "1.1.0",
      "model_name": "ToggleButtonsModel",
      "state": {
       "_options_labels": [
        "N (¹n)",
        "NDC (¹n)",
        "P (¹H)",
        "D (²H)"
       ],
       "button_style": "",
       "description": "Type:",
       "icons": [],
       "index": 0,
       "layout": "IPY_MODEL_229e8079ccf74a729fedb12eca55d771",
       "style": "IPY_MODEL_2061e11c43264be5ac072294cb7e5fa3",
       "tooltips": [
        "Neutron",
        "Back Target Neutron",
        "Proton",
        "Deuteron"
       ]
      }
     },
     "53b203c5bcf74a0689b75dca70294cd6": {
      "model_module": "@jupyter-widgets/controls",
      "model_module_version": "1.1.0",
      "model_name": "DescriptionStyleModel",
      "state": {
       "description_width": ""
      }
     },
     "53f0713094b941d09069608eb0b7e26c": {
      "model_module": "@jupyter-widgets/base",
      "model_module_version": "1.0.0",
      "model_name": "LayoutModel",
      "state": {}
     },
     "54056f40661c4f7b81a0a27fb1dd94fd": {
      "model_module": "@jupyter-widgets/base",
      "model_module_version": "1.0.0",
      "model_name": "LayoutModel",
      "state": {}
     },
     "54255a5971c24871ac446ec831e675d5": {
      "model_module": "@jupyter-widgets/controls",
      "model_module_version": "1.1.0",
      "model_name": "ToggleButtonsModel",
      "state": {
       "_options_labels": [
        "400 MeV/n",
        "800 MeV/n",
        "1500 MeV/n"
       ],
       "button_style": "",
       "description": "Energy:",
       "icons": [],
       "index": 1,
       "layout": "IPY_MODEL_0d751cb4f6e548f4b8ce129fb2a1948f",
       "style": "IPY_MODEL_04d1efb4970542e8a1080845ae9e2928",
       "tooltips": [
        "lowest energy",
        "middle energy",
        "highest energy"
       ]
      }
     },
     "545ebc91c17c4aa6959b057a16b3ac92": {
      "model_module": "@jupyter-widgets/base",
      "model_module_version": "1.0.0",
      "model_name": "LayoutModel",
      "state": {}
     },
     "54de40efe30348c3a3f03c32f9a0bf20": {
      "model_module": "@jupyter-widgets/controls",
      "model_module_version": "1.1.0",
      "model_name": "CheckboxModel",
      "state": {
       "description": "135°",
       "disabled": false,
       "layout": "IPY_MODEL_eae064cb481f4388b3ecadccabebcbfd",
       "style": "IPY_MODEL_968d972512a14609a9d52d3d9e1341ca",
       "value": true
      }
     },
     "550a8b4a444a4dc8979aaff27f9aea77": {
      "model_module": "@jupyter-widgets/base",
      "model_module_version": "1.0.0",
      "model_name": "LayoutModel",
      "state": {}
     },
     "55114e30eaef4a0baf0b2c8825f04423": {
      "model_module": "@jupyter-widgets/base",
      "model_module_version": "1.0.0",
      "model_name": "LayoutModel",
      "state": {}
     },
     "551f1768743d48d6b4d9eabce3889290": {
      "model_module": "@jupyter-widgets/base",
      "model_module_version": "1.0.0",
      "model_name": "LayoutModel",
      "state": {}
     },
     "5551224bca5049e7be23f28c01e1dd3b": {
      "model_module": "@jupyter-widgets/controls",
      "model_module_version": "1.1.0",
      "model_name": "DescriptionStyleModel",
      "state": {
       "description_width": ""
      }
     },
     "55619c5dea094e449247ceb4ea2afc58": {
      "model_module": "@jupyter-widgets/base",
      "model_module_version": "1.0.0",
      "model_name": "LayoutModel",
      "state": {}
     },
     "558f3cbb74f44270a0a0ffb1405db605": {
      "model_module": "@jupyter-widgets/controls",
      "model_module_version": "1.1.0",
      "model_name": "LabelModel",
      "state": {
       "layout": "IPY_MODEL_4d4fcad406be4ae3ad2925c4cfe5d079",
       "style": "IPY_MODEL_237ce633442a44248c4af8d83c850476",
       "value": "Select projectile ion energy."
      }
     },
     "55ad60edc3cc48cf803fdd35c03e02a8": {
      "model_module": "@jupyter-widgets/controls",
      "model_module_version": "1.1.0",
      "model_name": "DescriptionStyleModel",
      "state": {
       "description_width": ""
      }
     },
     "55e1e3be375a42268d92b16cccceeff0": {
      "model_module": "@jupyter-widgets/controls",
      "model_module_version": "1.1.0",
      "model_name": "DescriptionStyleModel",
      "state": {
       "description_width": ""
      }
     },
     "55ee168d048141bda5ad42eb6648dab2": {
      "model_module": "@jupyter-widgets/base",
      "model_module_version": "1.0.0",
      "model_name": "LayoutModel",
      "state": {}
     },
     "56109a4f301b4e7eaf085b954adad9c5": {
      "model_module": "@jupyter-widgets/controls",
      "model_module_version": "1.1.0",
      "model_name": "DescriptionStyleModel",
      "state": {
       "description_width": ""
      }
     },
     "562a8ee6c510478180bbe9768376706b": {
      "model_module": "@jupyter-widgets/controls",
      "model_module_version": "1.1.0",
      "model_name": "DescriptionStyleModel",
      "state": {
       "description_width": ""
      }
     },
     "5683570204824c2babd1bd671d01df2d": {
      "model_module": "@jupyter-widgets/base",
      "model_module_version": "1.0.0",
      "model_name": "LayoutModel",
      "state": {}
     },
     "5694c32fad5348a7814ee2f1077654e8": {
      "model_module": "@jupyter-widgets/controls",
      "model_module_version": "1.1.0",
      "model_name": "CheckboxModel",
      "state": {
       "description": "30°",
       "disabled": false,
       "layout": "IPY_MODEL_e705eb676ca84ed7bac6301486cf3fec",
       "style": "IPY_MODEL_0d5b2c31b6ba45a5b485646040acbc1c",
       "value": true
      }
     },
     "56b2779a2a6e424f8432ddcecd18d2b3": {
      "model_module": "@jupyter-widgets/controls",
      "model_module_version": "1.1.0",
      "model_name": "CheckboxModel",
      "state": {
       "description": "10°",
       "disabled": false,
       "layout": "IPY_MODEL_7fee16546f4e4ce698bb3676bbfe16a6",
       "style": "IPY_MODEL_458d0ff4e9c24a4fb84bc59a942eb7be",
       "value": true
      }
     },
     "56cdac3fdd604828adeb8bd2ce656bff": {
      "model_module": "@jupyter-widgets/controls",
      "model_module_version": "1.1.0",
      "model_name": "CheckboxModel",
      "state": {
       "description": "10°",
       "disabled": false,
       "layout": "IPY_MODEL_e4da8aed076e41fabc020df45f79166e",
       "style": "IPY_MODEL_1757cdb3a11c42869812c07a7a3a6d56",
       "value": true
      }
     },
     "56eef3271bf545989ce729f658001984": {
      "model_module": "@jupyter-widgets/base",
      "model_module_version": "1.0.0",
      "model_name": "LayoutModel",
      "state": {}
     },
     "57323ccaaacc4124a9d793bad87745c4": {
      "model_module": "@jupyter-widgets/controls",
      "model_module_version": "1.1.0",
      "model_name": "CheckboxModel",
      "state": {
       "description": "30°",
       "disabled": false,
       "layout": "IPY_MODEL_ba7e0728ba3d417ca8231f82f6648646",
       "style": "IPY_MODEL_1e5116bf86be4f1882bf20fcf6a6c465",
       "value": true
      }
     },
     "57d7e399c05046a98adea902f1be7d58": {
      "model_module": "@jupyter-widgets/controls",
      "model_module_version": "1.1.0",
      "model_name": "LabelModel",
      "state": {
       "layout": "IPY_MODEL_b9fe73a9d00447f5a6611838aa68771a",
       "style": "IPY_MODEL_f4861ab2161a41a481d4efd27777288f",
       "value": "Select the detector angles to plot."
      }
     },
     "58077b879af64e7dbc37ed3f0b737f2b": {
      "model_module": "@jupyter-widgets/base",
      "model_module_version": "1.0.0",
      "model_name": "LayoutModel",
      "state": {}
     },
     "5811319f0fa94ee481a92fc5fe368815": {
      "model_module": "@jupyter-widgets/controls",
      "model_module_version": "1.1.0",
      "model_name": "DescriptionStyleModel",
      "state": {
       "description_width": ""
      }
     },
     "582bd3b8586f48da886d7a868cac290f": {
      "model_module": "@jupyter-widgets/controls",
      "model_module_version": "1.1.0",
      "model_name": "CheckboxModel",
      "state": {
       "description": "10°",
       "disabled": false,
       "layout": "IPY_MODEL_b6a6026f9a484957a255fc96600c9c14",
       "style": "IPY_MODEL_5d79d6a3b83a4115bb61fac8d665d5cb",
       "value": true
      }
     },
     "582ecf8a072f42a7b3c5823cfde9d18c": {
      "model_module": "@jupyter-widgets/controls",
      "model_module_version": "1.1.0",
      "model_name": "CheckboxModel",
      "state": {
       "description": "30°",
       "disabled": false,
       "layout": "IPY_MODEL_e7c7ff147f5e4b0f9de2d24756f931c5",
       "style": "IPY_MODEL_42ac3994113648e7b1511b9da9417c54",
       "value": true
      }
     },
     "583bbba8ce624dd496a72160cfce3e3c": {
      "model_module": "@jupyter-widgets/controls",
      "model_module_version": "1.1.0",
      "model_name": "CheckboxModel",
      "state": {
       "description": "80°",
       "disabled": false,
       "layout": "IPY_MODEL_94458a1ede7b40a59b7adde0d00b199b",
       "style": "IPY_MODEL_87e57776ce1f4fd38470996dfe8cf8a5",
       "value": true
      }
     },
     "5879180fc1bd49a09297167b29351d56": {
      "model_module": "@jupyter-widgets/controls",
      "model_module_version": "1.1.0",
      "model_name": "ButtonModel",
      "state": {
       "button_style": "success",
       "description": "Update plot",
       "icon": "paint-brush",
       "layout": "IPY_MODEL_82f4562ddb4f464a84af5973022cc115",
       "style": "IPY_MODEL_7e8f437c1a4f4cb2a43386174f683062",
       "tooltip": "Click to redraw the plot below with updated options from above."
      }
     },
     "58d1a5ed88374eb2bc1af82624b9c785": {
      "model_module": "@jupyter-widgets/controls",
      "model_module_version": "1.1.0",
      "model_name": "ButtonStyleModel",
      "state": {}
     },
     "590c75c872914897a0b6cde58cca7b15": {
      "model_module": "@jupyter-widgets/base",
      "model_module_version": "1.0.0",
      "model_name": "LayoutModel",
      "state": {}
     },
     "5929c186d9eb48c99b0e76d2f047ecee": {
      "model_module": "@jupyter-widgets/base",
      "model_module_version": "1.0.0",
      "model_name": "LayoutModel",
      "state": {}
     },
     "592d2c0aa7504792bede385126d23000": {
      "model_module": "@jupyter-widgets/controls",
      "model_module_version": "1.1.0",
      "model_name": "DescriptionStyleModel",
      "state": {
       "description_width": ""
      }
     },
     "594d7f47aa2f4f3590683c7b2106522b": {
      "model_module": "@jupyter-widgets/controls",
      "model_module_version": "1.1.0",
      "model_name": "DescriptionStyleModel",
      "state": {
       "description_width": ""
      }
     },
     "599ca6b319364d34b100c6e2dbf5108f": {
      "model_module": "@jupyter-widgets/controls",
      "model_module_version": "1.1.0",
      "model_name": "LabelModel",
      "state": {
       "layout": "IPY_MODEL_a6f9e3ee75754eecb9e07499d61a606d",
       "style": "IPY_MODEL_0c3297f4aa9948278ef3e5ba45d189d8",
       "value": "Select which sets of data to display."
      }
     },
     "59cfb89d37c64c54a570ec8a8383a52e": {
      "model_module": "@jupyter-widgets/controls",
      "model_module_version": "1.1.0",
      "model_name": "CheckboxModel",
      "state": {
       "description": "10°",
       "disabled": false,
       "layout": "IPY_MODEL_9e76e71b2ce946968f7ea2d6d5db2441",
       "style": "IPY_MODEL_9ff423d239b843e9837184497a85d68c",
       "value": true
      }
     },
     "5a127a21a9244a47962c8a41005dc6b8": {
      "model_module": "@jupyter-widgets/base",
      "model_module_version": "1.0.0",
      "model_name": "LayoutModel",
      "state": {}
     },
     "5a8e1e58eef240009f3eaae78d7272fc": {
      "model_module": "@jupyter-widgets/controls",
      "model_module_version": "1.1.0",
      "model_name": "DescriptionStyleModel",
      "state": {
       "description_width": ""
      }
     },
     "5aa7313937f347f2a4f94727e15b94c1": {
      "model_module": "@jupyter-widgets/controls",
      "model_module_version": "1.1.0",
      "model_name": "CheckboxModel",
      "state": {
       "description": "60°",
       "disabled": false,
       "layout": "IPY_MODEL_14747b7132f64713b014ca83848cb75d",
       "style": "IPY_MODEL_325e49be119544de8398173a30e3339c",
       "value": true
      }
     },
     "5ad7cb92db9f426599a612e6cdbeb1ae": {
      "model_module": "@jupyter-widgets/base",
      "model_module_version": "1.0.0",
      "model_name": "LayoutModel",
      "state": {}
     },
     "5b022fe216604a93ac7675403a1dfe4f": {
      "model_module": "@jupyter-widgets/controls",
      "model_module_version": "1.1.0",
      "model_name": "DescriptionStyleModel",
      "state": {
       "description_width": ""
      }
     },
     "5b07f342793d451f93155c3dd066662f": {
      "model_module": "@jupyter-widgets/controls",
      "model_module_version": "1.1.0",
      "model_name": "ToggleButtonsStyleModel",
      "state": {
       "button_width": "",
       "description_width": ""
      }
     },
     "5b0e90bad91540f7964f171a4fb45504": {
      "model_module": "@jupyter-widgets/controls",
      "model_module_version": "1.1.0",
      "model_name": "LabelModel",
      "state": {
       "layout": "IPY_MODEL_23acda008ed343d999adf0515f15bae6",
       "style": "IPY_MODEL_8872a1a9dadf4cab9a7f77f2ceab455d",
       "value": "Select which secondary particle to plot spectra for."
      }
     },
     "5b750e632456459db070733b106ef94d": {
      "model_module": "@jupyter-widgets/controls",
      "model_module_version": "1.1.0",
      "model_name": "CheckboxModel",
      "state": {
       "description": "45°",
       "disabled": false,
       "layout": "IPY_MODEL_2c7ef81276354c359d1e6d8d4d7f776f",
       "style": "IPY_MODEL_b42f68c91453466f98cc3c71ddde5df8",
       "value": true
      }
     },
     "5be950c9798a433eac7c50d421058a45": {
      "model_module": "@jupyter-widgets/controls",
      "model_module_version": "1.1.0",
      "model_name": "DescriptionStyleModel",
      "state": {
       "description_width": ""
      }
     },
     "5bea036262aa45f88bd611b6d17bbf2c": {
      "model_module": "@jupyter-widgets/controls",
      "model_module_version": "1.1.0",
      "model_name": "CheckboxModel",
      "state": {
       "description": "45°",
       "disabled": false,
       "layout": "IPY_MODEL_3362abff56024a28bb3f806b1c8512b0",
       "style": "IPY_MODEL_1aa273c7bdca4da191835a445d606065",
       "value": true
      }
     },
     "5c1891fc0f3e494bb2daac66c62f0605": {
      "model_module": "@jupyter-widgets/controls",
      "model_module_version": "1.1.0",
      "model_name": "DescriptionStyleModel",
      "state": {
       "description_width": ""
      }
     },
     "5c709c28e7b1473a829030631e766267": {
      "model_module": "@jupyter-widgets/controls",
      "model_module_version": "1.1.0",
      "model_name": "LabelModel",
      "state": {
       "layout": "IPY_MODEL_0904d5c615004520b4addc0afd8f11c6",
       "style": "IPY_MODEL_85a02b30514244aaaf4f8a6d2a2c855b",
       "value": "Select projectile ion energy."
      }
     },
     "5c8ae25629bb45bfa1828369ead77402": {
      "model_module": "@jupyter-widgets/base",
      "model_module_version": "1.0.0",
      "model_name": "LayoutModel",
      "state": {}
     },
     "5cd1a0fc8f2b419cba318f2759e84300": {
      "model_module": "@jupyter-widgets/controls",
      "model_module_version": "1.1.0",
      "model_name": "CheckboxModel",
      "state": {
       "description": "45°",
       "disabled": false,
       "layout": "IPY_MODEL_aca553dec049411a9613a1df049c60f2",
       "style": "IPY_MODEL_1611a7e4b1b04daa83ba9fbdf40a6b48",
       "value": true
      }
     },
     "5d0203b4421942389bb57b1c40fb9970": {
      "model_module": "@jupyter-widgets/controls",
      "model_module_version": "1.1.0",
      "model_name": "DescriptionStyleModel",
      "state": {
       "description_width": ""
      }
     },
     "5d11473ee0a449d0b93f46057bb10c7e": {
      "model_module": "@jupyter-widgets/base",
      "model_module_version": "1.0.0",
      "model_name": "LayoutModel",
      "state": {}
     },
     "5d2d2ef1e6f84956a3c03ae6b9da9860": {
      "model_module": "@jupyter-widgets/base",
      "model_module_version": "1.0.0",
      "model_name": "LayoutModel",
      "state": {}
     },
     "5d45e9bedef14a86a1f78bb791530cec": {
      "model_module": "@jupyter-widgets/base",
      "model_module_version": "1.0.0",
      "model_name": "LayoutModel",
      "state": {}
     },
     "5d6f9298364a4b61a3f6781fd3f90728": {
      "model_module": "@jupyter-widgets/controls",
      "model_module_version": "1.1.0",
      "model_name": "CheckboxModel",
      "state": {
       "description": "10°",
       "disabled": false,
       "layout": "IPY_MODEL_945fd25c30d0494197276661c03dc671",
       "style": "IPY_MODEL_06911039ed2b4f93bbec1f3465e4792f",
       "value": true
      }
     },
     "5d79d6a3b83a4115bb61fac8d665d5cb": {
      "model_module": "@jupyter-widgets/controls",
      "model_module_version": "1.1.0",
      "model_name": "DescriptionStyleModel",
      "state": {
       "description_width": ""
      }
     },
     "5d9f1e4f52be41468c9737671db6eeb7": {
      "model_module": "@jupyter-widgets/controls",
      "model_module_version": "1.1.0",
      "model_name": "DescriptionStyleModel",
      "state": {
       "description_width": ""
      }
     },
     "5db4f40a4ff340c792d454c100ac3ca1": {
      "model_module": "@jupyter-widgets/base",
      "model_module_version": "1.0.0",
      "model_name": "LayoutModel",
      "state": {}
     },
     "5dba777f3ad5495984d9747a4e2eb10a": {
      "model_module": "@jupyter-widgets/controls",
      "model_module_version": "1.1.0",
      "model_name": "CheckboxModel",
      "state": {
       "description": "30°",
       "disabled": false,
       "layout": "IPY_MODEL_66c336724b0c43bba23e9be0854b7b87",
       "style": "IPY_MODEL_11e5620c07cc43d8a2786e3639005438",
       "value": false
      }
     },
     "5e226b0f37f9402c8351fac92816df33": {
      "model_module": "@jupyter-widgets/controls",
      "model_module_version": "1.1.0",
      "model_name": "CheckboxModel",
      "state": {
       "description": "10°",
       "disabled": false,
       "layout": "IPY_MODEL_a1508f29519446cb89354baa0c079653",
       "style": "IPY_MODEL_f7321fc4b17d4e829257afd40af2d5c2",
       "value": true
      }
     },
     "5e3355da7b9848ccac220d67e4854e00": {
      "model_module": "@jupyter-widgets/base",
      "model_module_version": "1.0.0",
      "model_name": "LayoutModel",
      "state": {}
     },
     "5e7db865bbac4ad993bb71f9c9d3c32c": {
      "model_module": "@jupyter-widgets/controls",
      "model_module_version": "1.1.0",
      "model_name": "CheckboxModel",
      "state": {
       "description": "80°",
       "disabled": false,
       "layout": "IPY_MODEL_14a99f6b164c4d9299d9760d104c3d74",
       "style": "IPY_MODEL_74afdf280b99481c91ec8638fcafbb6c",
       "value": true
      }
     },
     "5eae71481201469a9f41f176634ff53e": {
      "model_module": "@jupyter-widgets/controls",
      "model_module_version": "1.1.0",
      "model_name": "DescriptionStyleModel",
      "state": {
       "description_width": ""
      }
     },
     "5f33917099b84db99530cfe19a797a09": {
      "model_module": "@jupyter-widgets/base",
      "model_module_version": "1.0.0",
      "model_name": "LayoutModel",
      "state": {}
     },
     "5f3628b512394296a21837d4baf0cae3": {
      "model_module": "@jupyter-widgets/controls",
      "model_module_version": "1.1.0",
      "model_name": "ToggleButtonsStyleModel",
      "state": {
       "button_width": "",
       "description_width": ""
      }
     },
     "5f37362934e14109951258ad79a49283": {
      "model_module": "@jupyter-widgets/controls",
      "model_module_version": "1.1.0",
      "model_name": "LabelModel",
      "state": {
       "layout": "IPY_MODEL_3ed8a03b12234f1f96c21be5fc89dbbf",
       "style": "IPY_MODEL_5a8e1e58eef240009f3eaae78d7272fc",
       "value": "Select the detector angles to plot."
      }
     },
     "5f3b3e9281414288a0c60d8369ef055b": {
      "model_module": "@jupyter-widgets/controls",
      "model_module_version": "1.1.0",
      "model_name": "CheckboxModel",
      "state": {
       "description": "10°",
       "disabled": false,
       "layout": "IPY_MODEL_c056e640edce4c269d8bbf0f54262eae",
       "style": "IPY_MODEL_434eda9a3fdd4adc9d47d36d17c44992",
       "value": true
      }
     },
     "5f6d3b5ab3f94a0d9af8dd6912b4767b": {
      "model_module": "@jupyter-widgets/base",
      "model_module_version": "1.0.0",
      "model_name": "LayoutModel",
      "state": {}
     },
     "5f80d1cf22234e7594f18187386c28aa": {
      "model_module": "@jupyter-widgets/base",
      "model_module_version": "1.0.0",
      "model_name": "LayoutModel",
      "state": {}
     },
     "5f81c44e3d4f4848891cd99623046fe3": {
      "model_module": "@jupyter-widgets/controls",
      "model_module_version": "1.1.0",
      "model_name": "DescriptionStyleModel",
      "state": {
       "description_width": ""
      }
     },
     "5fc3f122bf5a4e9f81f5da4f559639cc": {
      "model_module": "@jupyter-widgets/base",
      "model_module_version": "1.0.0",
      "model_name": "LayoutModel",
      "state": {}
     },
     "5ffcfd3693164356858a0cf7f7f49abf": {
      "model_module": "@jupyter-widgets/controls",
      "model_module_version": "1.1.0",
      "model_name": "ToggleButtonsModel",
      "state": {
       "_options_labels": [
        "400 MeV",
        "800 MeV",
        "2500 MeV"
       ],
       "button_style": "",
       "description": "Energy:",
       "icons": [],
       "index": 0,
       "layout": "IPY_MODEL_4983d2055aa540b09bf1671d230359fd",
       "style": "IPY_MODEL_4de496bb8bbb4886a778a02e718a549f",
       "tooltips": [
        "lowest energy",
        "middle energy",
        "highest energy"
       ]
      }
     },
     "6019f206380e40869a36e7ed7440ff63": {
      "model_module": "@jupyter-widgets/controls",
      "model_module_version": "1.1.0",
      "model_name": "CheckboxModel",
      "state": {
       "description": "30°",
       "disabled": false,
       "layout": "IPY_MODEL_fe14d7b10f2e4a5c8d43b25464f2f8af",
       "style": "IPY_MODEL_c5319387ee0f448b983f45fd842808da",
       "value": true
      }
     },
     "6043f70a44fd4a4ab3da05f2351f5d16": {
      "model_module": "@jupyter-widgets/base",
      "model_module_version": "1.0.0",
      "model_name": "LayoutModel",
      "state": {}
     },
     "604b16220d6048ea886bfe88261bdf85": {
      "model_module": "@jupyter-widgets/controls",
      "model_module_version": "1.1.0",
      "model_name": "DescriptionStyleModel",
      "state": {
       "description_width": ""
      }
     },
     "605082e0f753458887d4cb323c5f3cab": {
      "model_module": "@jupyter-widgets/base",
      "model_module_version": "1.0.0",
      "model_name": "LayoutModel",
      "state": {}
     },
     "60640bc143d7461fa221ade3e9a1babf": {
      "model_module": "@jupyter-widgets/base",
      "model_module_version": "1.0.0",
      "model_name": "LayoutModel",
      "state": {}
     },
     "6084ee82670b45f2b72a203c656729a7": {
      "model_module": "@jupyter-widgets/controls",
      "model_module_version": "1.1.0",
      "model_name": "CheckboxModel",
      "state": {
       "description": "45°",
       "disabled": false,
       "layout": "IPY_MODEL_1a69e3aee3e14b7db2c3eaef0f27ff8c",
       "style": "IPY_MODEL_a0fb516231fc4c46bebbabd867d9dd0e",
       "value": true
      }
     },
     "60c6db45211e4b37a236fe435da7fd4a": {
      "model_module": "@jupyter-widgets/controls",
      "model_module_version": "1.1.0",
      "model_name": "CheckboxModel",
      "state": {
       "description": "60°",
       "disabled": false,
       "layout": "IPY_MODEL_cc72e4f4aa744945b46d2989b2c8382b",
       "style": "IPY_MODEL_d8e79c82101d4d939d3b239c270edb50",
       "value": true
      }
     },
     "60da9f76f87747409e60a24d11f5064e": {
      "model_module": "@jupyter-widgets/controls",
      "model_module_version": "1.1.0",
      "model_name": "CheckboxModel",
      "state": {
       "description": "30°",
       "disabled": false,
       "layout": "IPY_MODEL_f8d1defbf04d4c329688c00ad9b82081",
       "style": "IPY_MODEL_bb0ee65ce4894fc79a7cad5d70b7b308",
       "value": true
      }
     },
     "60e28aaf83044e78b416a7e4140081f9": {
      "model_module": "@jupyter-widgets/controls",
      "model_module_version": "1.1.0",
      "model_name": "ToggleButtonsModel",
      "state": {
       "_options_labels": [
        "Al",
        "HDPE",
        "AlPE"
       ],
       "button_style": "",
       "description": "Material:",
       "icons": [],
       "index": 0,
       "layout": "IPY_MODEL_1464d343c35a4ef39cb521de45cc30a7",
       "style": "IPY_MODEL_28c6e8a53b30499788d694073344f160",
       "tooltips": [
        "Aluminum",
        "Polyethylene",
        "Combination of Al and HDPE"
       ]
      }
     },
     "60e581ed69f348ada1f183e02e3a1501": {
      "model_module": "@jupyter-widgets/controls",
      "model_module_version": "1.1.0",
      "model_name": "ToggleButtonsModel",
      "state": {
       "_options_labels": [
        "None",
        "Spaced by 10²"
       ],
       "button_style": "",
       "description": "Spacing:",
       "icons": [],
       "index": 0,
       "layout": "IPY_MODEL_978237f274d2476b8418648f0228b9e7",
       "style": "IPY_MODEL_365cc349dabc4ae5a0219329152a8f57",
       "tooltips": [
        "All values are presented as is.",
        "Plots for different detectors are multiplied by powers of 10² for easier viewing."
       ]
      }
     },
     "611f22c67c284b8a81ffc118bc58ad4b": {
      "model_module": "@jupyter-widgets/base",
      "model_module_version": "1.0.0",
      "model_name": "LayoutModel",
      "state": {}
     },
     "61335b6f99b3431594c37c7bacfd72c9": {
      "model_module": "@jupyter-widgets/base",
      "model_module_version": "1.0.0",
      "model_name": "LayoutModel",
      "state": {}
     },
     "61530f17cf0a4a869cc3326b3400bd36": {
      "model_module": "@jupyter-widgets/controls",
      "model_module_version": "1.1.0",
      "model_name": "ToggleButtonsModel",
      "state": {
       "_options_labels": [
        "20 g/cm²",
        "40 g/cm²",
        "60 g/cm²"
       ],
       "button_style": "",
       "description": "Thickness:",
       "icons": [],
       "index": 0,
       "layout": "IPY_MODEL_383081b3ad19498490196aa4c2e92f84",
       "style": "IPY_MODEL_f4e068f26b124e70aee3d4ed6f1a1f11",
       "tooltips": [
        "20 g/cm² Aluminum",
        "40 g/cm² Aluminum",
        "60 g/cm² Aluminum"
       ]
      }
     },
     "61906c76664a41d496cc06fad94da3da": {
      "model_module": "@jupyter-widgets/controls",
      "model_module_version": "1.1.0",
      "model_name": "DescriptionStyleModel",
      "state": {
       "description_width": ""
      }
     },
     "619eb7b1a8ab4a82a15314965e6fe9a2": {
      "model_module": "@jupyter-widgets/base",
      "model_module_version": "1.0.0",
      "model_name": "LayoutModel",
      "state": {}
     },
     "61e3b1d974f54bdb9c326faeee0c314d": {
      "model_module": "@jupyter-widgets/controls",
      "model_module_version": "1.1.0",
      "model_name": "CheckboxModel",
      "state": {
       "description": "30°",
       "disabled": false,
       "layout": "IPY_MODEL_a6c3f474e4fc44af9c36e8c0cf3f1b5a",
       "style": "IPY_MODEL_03a393a5b856453da2dc9e69bb9c625b",
       "value": true
      }
     },
     "62005fa6af354d3abb3d96cdd98641ee": {
      "model_module": "@jupyter-widgets/base",
      "model_module_version": "1.0.0",
      "model_name": "LayoutModel",
      "state": {}
     },
     "622b1dbaabd243b9843ca2f3fffb7666": {
      "model_module": "@jupyter-widgets/controls",
      "model_module_version": "1.1.0",
      "model_name": "DescriptionStyleModel",
      "state": {
       "description_width": ""
      }
     },
     "625f3971a6524e3384d247f8736ed41c": {
      "model_module": "@jupyter-widgets/controls",
      "model_module_version": "1.1.0",
      "model_name": "CheckboxModel",
      "state": {
       "description": "10°",
       "disabled": false,
       "layout": "IPY_MODEL_9ebc4e97c55b459f85d9b769bce74ce0",
       "style": "IPY_MODEL_f3f69e1081784e57b0f53a13152b39c0",
       "value": true
      }
     },
     "626dcd99f79b46e4b93f117fd4b1db37": {
      "model_module": "@jupyter-widgets/controls",
      "model_module_version": "1.1.0",
      "model_name": "CheckboxModel",
      "state": {
       "description": "135°",
       "disabled": false,
       "layout": "IPY_MODEL_251dbee8118e4833a50c38ca3bb755d4",
       "style": "IPY_MODEL_5811319f0fa94ee481a92fc5fe368815",
       "value": true
      }
     },
     "62c0dff630c54a339359f4468590031f": {
      "model_module": "@jupyter-widgets/base",
      "model_module_version": "1.0.0",
      "model_name": "LayoutModel",
      "state": {}
     },
     "6301ab8a9251463b9ae21da49e69bd8c": {
      "model_module": "@jupyter-widgets/controls",
      "model_module_version": "1.1.0",
      "model_name": "DescriptionStyleModel",
      "state": {
       "description_width": ""
      }
     },
     "630a75892166422cb5a31e63e1a6c742": {
      "model_module": "@jupyter-widgets/controls",
      "model_module_version": "1.1.0",
      "model_name": "DescriptionStyleModel",
      "state": {
       "description_width": ""
      }
     },
     "631536be399348008a03b762521caa26": {
      "model_module": "@jupyter-widgets/controls",
      "model_module_version": "1.1.0",
      "model_name": "LabelModel",
      "state": {
       "layout": "IPY_MODEL_0c132da78fcf4a549f39d30e06c640a9",
       "style": "IPY_MODEL_dcc580c163444356988ae2cd34110f94",
       "value": "Select the detector angles to plot."
      }
     },
     "634950df2f1743129effab1a202ebd6c": {
      "model_module": "@jupyter-widgets/controls",
      "model_module_version": "1.1.0",
      "model_name": "DescriptionStyleModel",
      "state": {
       "description_width": ""
      }
     },
     "638b9a043e1e4701abfe86496606c417": {
      "model_module": "@jupyter-widgets/base",
      "model_module_version": "1.0.0",
      "model_name": "LayoutModel",
      "state": {}
     },
     "63b8575a0be8460e9235b4700552459c": {
      "model_module": "@jupyter-widgets/controls",
      "model_module_version": "1.1.0",
      "model_name": "DescriptionStyleModel",
      "state": {
       "description_width": ""
      }
     },
     "63bc4d3d272049c5b9b3cdbb4723fb43": {
      "model_module": "@jupyter-widgets/controls",
      "model_module_version": "1.1.0",
      "model_name": "LabelModel",
      "state": {
       "layout": "IPY_MODEL_2dc29aad853f45168fd248a8554269c5",
       "style": "IPY_MODEL_0134c3792d954a6fb8646afb9cd0529f",
       "value": "Select how data sets for each detector should be spaced apart (if at all)."
      }
     },
     "63d35644410f496587d7e4afc765a7ad": {
      "model_module": "@jupyter-widgets/controls",
      "model_module_version": "1.1.0",
      "model_name": "LabelModel",
      "state": {
       "layout": "IPY_MODEL_e9876dad0d064a82bb3810f9daf6dc78",
       "style": "IPY_MODEL_395f4ed1396f41599458d76bd4a9f8b9",
       "value": "Select upstream target mass thickness."
      }
     },
     "63d86dafd39f4b03988a50402ac33d4c": {
      "model_module": "@jupyter-widgets/controls",
      "model_module_version": "1.1.0",
      "model_name": "DescriptionStyleModel",
      "state": {
       "description_width": ""
      }
     },
     "63f3673c4a8d4904b8b4957354acdb7a": {
      "model_module": "@jupyter-widgets/controls",
      "model_module_version": "1.1.0",
      "model_name": "DescriptionStyleModel",
      "state": {
       "description_width": ""
      }
     },
     "6432281fb9754f448a6ef8b536a3b412": {
      "model_module": "@jupyter-widgets/controls",
      "model_module_version": "1.1.0",
      "model_name": "DescriptionStyleModel",
      "state": {
       "description_width": ""
      }
     },
     "644ed6cc3d2144fdaa33e0de942764ca": {
      "model_module": "@jupyter-widgets/controls",
      "model_module_version": "1.1.0",
      "model_name": "DescriptionStyleModel",
      "state": {
       "description_width": ""
      }
     },
     "648e2abce8bd44749de5e0704c4e0f8c": {
      "model_module": "@jupyter-widgets/base",
      "model_module_version": "1.0.0",
      "model_name": "LayoutModel",
      "state": {}
     },
     "64a39e5952b74d7d9eb1a3cdc4a824d1": {
      "model_module": "@jupyter-widgets/controls",
      "model_module_version": "1.1.0",
      "model_name": "CheckboxModel",
      "state": {
       "description": "10°",
       "disabled": false,
       "layout": "IPY_MODEL_bec0a54e31b749e9ad4b1152e11a6e85",
       "style": "IPY_MODEL_18b8c3c6b1d2459ab250e28c7d51c293",
       "value": true
      }
     },
     "64bcc39945b54dc3845c9c8a5f663971": {
      "model_module": "@jupyter-widgets/controls",
      "model_module_version": "1.1.0",
      "model_name": "DescriptionStyleModel",
      "state": {
       "description_width": ""
      }
     },
     "64cddb3db5b6461d93882d622d7c74e2": {
      "model_module": "@jupyter-widgets/base",
      "model_module_version": "1.0.0",
      "model_name": "LayoutModel",
      "state": {}
     },
     "64e57371413542b59172c6948348cc08": {
      "model_module": "@jupyter-widgets/base",
      "model_module_version": "1.0.0",
      "model_name": "LayoutModel",
      "state": {}
     },
     "652dafb0d07046108b2c23f2fb75432c": {
      "model_module": "@jupyter-widgets/controls",
      "model_module_version": "1.1.0",
      "model_name": "DescriptionStyleModel",
      "state": {
       "description_width": ""
      }
     },
     "6534c2495cb84bcebdd805f461b0f732": {
      "model_module": "@jupyter-widgets/controls",
      "model_module_version": "1.1.0",
      "model_name": "ToggleButtonsStyleModel",
      "state": {
       "button_width": "",
       "description_width": ""
      }
     },
     "6592682b66da430baa3d52e6c03c9f70": {
      "model_module": "@jupyter-widgets/base",
      "model_module_version": "1.0.0",
      "model_name": "LayoutModel",
      "state": {}
     },
     "65ac9ffa46e74c519cea167a6f7c9e00": {
      "model_module": "@jupyter-widgets/controls",
      "model_module_version": "1.1.0",
      "model_name": "LabelModel",
      "state": {
       "layout": "IPY_MODEL_0a892fe9e1af434dbee48a0fe6ed30f0",
       "style": "IPY_MODEL_d7728d7f18734d9985528ec5cc7e6bb9",
       "value": "Select which secondary particle to plot spectra for."
      }
     },
     "65b9b514b21a4270bbe617e747d7d512": {
      "model_module": "@jupyter-widgets/controls",
      "model_module_version": "1.1.0",
      "model_name": "LabelModel",
      "state": {
       "layout": "IPY_MODEL_d787a6af00114089a18df01cc6832c33",
       "style": "IPY_MODEL_d6d67849279d4eec8fe5b047ef4db595",
       "value": "Select which secondary particle to plot spectra for."
      }
     },
     "65c67283abaa4187b143e98bc5c4bf8b": {
      "model_module": "@jupyter-widgets/controls",
      "model_module_version": "1.1.0",
      "model_name": "DescriptionStyleModel",
      "state": {
       "description_width": ""
      }
     },
     "65dc34305d364cc9aec224dba5542416": {
      "model_module": "@jupyter-widgets/base",
      "model_module_version": "1.0.0",
      "model_name": "LayoutModel",
      "state": {}
     },
     "65eb98388f3b425ca85e6efa4a4c4181": {
      "model_module": "@jupyter-widgets/controls",
      "model_module_version": "1.1.0",
      "model_name": "LabelModel",
      "state": {
       "layout": "IPY_MODEL_0f4d8e82915342dea9c99fdf5cf9559b",
       "style": "IPY_MODEL_ccb92fb4f4334ceab4beced3bde87ad2",
       "value": "Select the detector angles to plot."
      }
     },
     "6618fede54bc4ec88c1d1868043f5123": {
      "model_module": "@jupyter-widgets/controls",
      "model_module_version": "1.1.0",
      "model_name": "ToggleButtonsModel",
      "state": {
       "_options_labels": [
        "20 g/cm²",
        "40 g/cm²",
        "60 g/cm²"
       ],
       "button_style": "",
       "description": "Thickness:",
       "icons": [],
       "index": 0,
       "layout": "IPY_MODEL_c0771b671595474abd61daef2cdb5433",
       "style": "IPY_MODEL_c9cb879e1adc497faaf4f9487356048f",
       "tooltips": [
        "20 g/cm² Aluminum",
        "40 g/cm² Aluminum",
        "60 g/cm² Aluminum"
       ]
      }
     },
     "6656e479c3aa402088a708dc7886b481": {
      "model_module": "@jupyter-widgets/base",
      "model_module_version": "1.0.0",
      "model_name": "LayoutModel",
      "state": {}
     },
     "665fc08931fc44619afd3e1014cef644": {
      "model_module": "@jupyter-widgets/base",
      "model_module_version": "1.0.0",
      "model_name": "LayoutModel",
      "state": {}
     },
     "666947855c7b4a45a47d2346e06c6163": {
      "model_module": "@jupyter-widgets/base",
      "model_module_version": "1.0.0",
      "model_name": "LayoutModel",
      "state": {}
     },
     "6669aa29ed0549aca74d7019dc6c0e5f": {
      "model_module": "@jupyter-widgets/controls",
      "model_module_version": "1.1.0",
      "model_name": "DescriptionStyleModel",
      "state": {
       "description_width": ""
      }
     },
     "66780daaad254910a6361ece5f318824": {
      "model_module": "@jupyter-widgets/controls",
      "model_module_version": "1.1.0",
      "model_name": "CheckboxModel",
      "state": {
       "description": "80°",
       "disabled": false,
       "layout": "IPY_MODEL_71423ab69d8f4d27974054ce91340404",
       "style": "IPY_MODEL_8457014aa34643e0a25eff2ec3f6e208",
       "value": false
      }
     },
     "669362fe01604699a1d455ddf43ff835": {
      "model_module": "@jupyter-widgets/controls",
      "model_module_version": "1.1.0",
      "model_name": "DescriptionStyleModel",
      "state": {
       "description_width": ""
      }
     },
     "66c336724b0c43bba23e9be0854b7b87": {
      "model_module": "@jupyter-widgets/base",
      "model_module_version": "1.0.0",
      "model_name": "LayoutModel",
      "state": {}
     },
     "674ad855d31a46c995045aa6e30f60ca": {
      "model_module": "@jupyter-widgets/controls",
      "model_module_version": "1.1.0",
      "model_name": "LabelModel",
      "state": {
       "layout": "IPY_MODEL_2aa9e62ef0e34d62baf0e57cb97ecb73",
       "style": "IPY_MODEL_2e728ca3c2034b8086741be0d71e3946",
       "value": "Select upstream target mass thickness."
      }
     },
     "67649ac06c0d44b7ba8bc7ab44f13d98": {
      "model_module": "@jupyter-widgets/base",
      "model_module_version": "1.0.0",
      "model_name": "LayoutModel",
      "state": {}
     },
     "676c9ec4db9c4580a6d02dba2ee14cc3": {
      "model_module": "@jupyter-widgets/base",
      "model_module_version": "1.0.0",
      "model_name": "LayoutModel",
      "state": {}
     },
     "678505db90ca467f8138dcd59e60cab6": {
      "model_module": "@jupyter-widgets/controls",
      "model_module_version": "1.1.0",
      "model_name": "ToggleButtonsModel",
      "state": {
       "_options_labels": [
        "N (¹n)",
        "NDC (¹n)"
       ],
       "button_style": "",
       "description": "Type:",
       "icons": [],
       "index": 0,
       "layout": "IPY_MODEL_ff0752d0085a4a8693b2646507320ce7",
       "style": "IPY_MODEL_0c250d6154444cb5aaca2a60f583c229",
       "tooltips": [
        "Neutron",
        "Back Target Neutron"
       ]
      }
     },
     "67c7ff1eaa964102bb237a7e61175365": {
      "model_module": "@jupyter-widgets/base",
      "model_module_version": "1.0.0",
      "model_name": "LayoutModel",
      "state": {}
     },
     "6808932636854169abb96099d295094a": {
      "model_module": "@jupyter-widgets/controls",
      "model_module_version": "1.1.0",
      "model_name": "CheckboxModel",
      "state": {
       "description": "60°",
       "disabled": false,
       "layout": "IPY_MODEL_a8e63e1dcb4345d2b913355531ac989f",
       "style": "IPY_MODEL_7adde8f3afc7478e95f52a5ba89da941",
       "value": true
      }
     },
     "684604c74c48451cb8d88cce812fa285": {
      "model_module": "@jupyter-widgets/base",
      "model_module_version": "1.0.0",
      "model_name": "LayoutModel",
      "state": {}
     },
     "6860fc537c664772b30afb7ebfc841f2": {
      "model_module": "@jupyter-widgets/base",
      "model_module_version": "1.0.0",
      "model_name": "LayoutModel",
      "state": {}
     },
     "6863339bf1d24b64b0edd13d07bcda29": {
      "model_module": "@jupyter-widgets/controls",
      "model_module_version": "1.1.0",
      "model_name": "CheckboxModel",
      "state": {
       "description": "135°",
       "disabled": false,
       "layout": "IPY_MODEL_a918cb0bb85249d1b54b8565dad3f659",
       "style": "IPY_MODEL_35ced27b879c42d9b20e796e03c2f102",
       "value": true
      }
     },
     "6875058ca28d415ebf3402c09385b7de": {
      "model_module": "@jupyter-widgets/base",
      "model_module_version": "1.0.0",
      "model_name": "LayoutModel",
      "state": {}
     },
     "68933790a74a4b828811e6ca8c0609f0": {
      "model_module": "@jupyter-widgets/controls",
      "model_module_version": "1.1.0",
      "model_name": "CheckboxModel",
      "state": {
       "description": "MCNP simulated",
       "disabled": false,
       "layout": "IPY_MODEL_3d97e80d1c424d3e854e2b2106a1b287",
       "style": "IPY_MODEL_f808b8d841c64ede90b90c8d1d382ad7",
       "value": true
      }
     },
     "6896b4bd8afa4cdcbf69ee8bd652a294": {
      "model_module": "@jupyter-widgets/controls",
      "model_module_version": "1.1.0",
      "model_name": "DescriptionStyleModel",
      "state": {
       "description_width": ""
      }
     },
     "68ea0c8040b549ddbf28ba9ea85eccfa": {
      "model_module": "@jupyter-widgets/controls",
      "model_module_version": "1.1.0",
      "model_name": "DescriptionStyleModel",
      "state": {
       "description_width": ""
      }
     },
     "6902a3d0f5ed4573bc62d9ca3b441fe5": {
      "model_module": "@jupyter-widgets/controls",
      "model_module_version": "1.1.0",
      "model_name": "DescriptionStyleModel",
      "state": {
       "description_width": ""
      }
     },
     "6962c061d59045bb85f2b5cd341f4833": {
      "model_module": "@jupyter-widgets/controls",
      "model_module_version": "1.1.0",
      "model_name": "ToggleButtonsModel",
      "state": {
       "_options_labels": [
        "None",
        "Spaced by 10²"
       ],
       "button_style": "",
       "description": "Spacing:",
       "icons": [],
       "index": 0,
       "layout": "IPY_MODEL_c7cfcb5d67974ae0ba1f4bc0e90120d3",
       "style": "IPY_MODEL_5b07f342793d451f93155c3dd066662f",
       "tooltips": [
        "All values are presented as is.",
        "Plots for different detectors are multiplied by powers of 10² for easier viewing."
       ]
      }
     },
     "69a91690e7ca45c695f3d6199eae47b1": {
      "model_module": "@jupyter-widgets/controls",
      "model_module_version": "1.1.0",
      "model_name": "LabelModel",
      "state": {
       "layout": "IPY_MODEL_094e31aacf7e473a919b5a57d531f347",
       "style": "IPY_MODEL_8b743d4952b248f7a36eb844c64b0788",
       "value": "Select the detector angles to plot."
      }
     },
     "69b8433c4d3c4ff2811205a7b366fe96": {
      "model_module": "@jupyter-widgets/base",
      "model_module_version": "1.0.0",
      "model_name": "LayoutModel",
      "state": {}
     },
     "69bb322b76854ee69f4fe54e0100c26d": {
      "model_module": "@jupyter-widgets/controls",
      "model_module_version": "1.1.0",
      "model_name": "CheckboxModel",
      "state": {
       "description": "60°",
       "disabled": false,
       "layout": "IPY_MODEL_a736e35fa3074fa386911fcdb54f58e3",
       "style": "IPY_MODEL_0dc535502f544ef18cef129a43da4899",
       "value": true
      }
     },
     "69ccb38d5d6d4e90a6f6b4b35c0f2e8f": {
      "model_module": "@jupyter-widgets/controls",
      "model_module_version": "1.1.0",
      "model_name": "CheckboxModel",
      "state": {
       "description": "MCNP simulated",
       "disabled": false,
       "layout": "IPY_MODEL_195d94cd3ae042f0960a238e7d83b52f",
       "style": "IPY_MODEL_15ee170653c240fb99340a790479ce12",
       "value": true
      }
     },
     "69ea7f91f62f4a098c14805203339114": {
      "model_module": "@jupyter-widgets/controls",
      "model_module_version": "1.1.0",
      "model_name": "DescriptionStyleModel",
      "state": {
       "description_width": ""
      }
     },
     "69ec8e82f79545b8b4db029164b7f4b6": {
      "model_module": "@jupyter-widgets/controls",
      "model_module_version": "1.1.0",
      "model_name": "DescriptionStyleModel",
      "state": {
       "description_width": ""
      }
     },
     "6a2b921d39ac461dbc061b948af0ceea": {
      "model_module": "@jupyter-widgets/base",
      "model_module_version": "1.0.0",
      "model_name": "LayoutModel",
      "state": {}
     },
     "6b6887f98a3e425fb0be0ae08a8fee56": {
      "model_module": "@jupyter-widgets/base",
      "model_module_version": "1.0.0",
      "model_name": "LayoutModel",
      "state": {}
     },
     "6b777fc2776b4640a564e258100c4073": {
      "model_module": "@jupyter-widgets/base",
      "model_module_version": "1.0.0",
      "model_name": "LayoutModel",
      "state": {}
     },
     "6ba8174a3a714bbda95b620867e30c97": {
      "model_module": "@jupyter-widgets/controls",
      "model_module_version": "1.1.0",
      "model_name": "DescriptionStyleModel",
      "state": {
       "description_width": ""
      }
     },
     "6bbd384fbfe648a68d8e73cde9bacc5e": {
      "model_module": "@jupyter-widgets/controls",
      "model_module_version": "1.1.0",
      "model_name": "CheckboxModel",
      "state": {
       "description": "30°",
       "disabled": false,
       "layout": "IPY_MODEL_134bc7054b404937bd3736cbe91e7b67",
       "style": "IPY_MODEL_594d7f47aa2f4f3590683c7b2106522b",
       "value": true
      }
     },
     "6be0765a7f13412395f9dd9107685df5": {
      "model_module": "@jupyter-widgets/controls",
      "model_module_version": "1.1.0",
      "model_name": "CheckboxModel",
      "state": {
       "description": "80°",
       "disabled": false,
       "layout": "IPY_MODEL_b256a51a15734075b996a26f220eea7f",
       "style": "IPY_MODEL_3f9b30d802344f01a03d47bc911046d3",
       "value": true
      }
     },
     "6c11b79834094d31b0aff5194582caaf": {
      "model_module": "@jupyter-widgets/controls",
      "model_module_version": "1.1.0",
      "model_name": "CheckboxModel",
      "state": {
       "description": "135°",
       "disabled": false,
       "layout": "IPY_MODEL_64cddb3db5b6461d93882d622d7c74e2",
       "style": "IPY_MODEL_e7d5c0076bce489bb6ca680b9c77e9fb",
       "value": true
      }
     },
     "6c469ab7f87b44daa771ff9fc23ee140": {
      "model_module": "@jupyter-widgets/controls",
      "model_module_version": "1.1.0",
      "model_name": "LabelModel",
      "state": {
       "layout": "IPY_MODEL_b8dff6def2614a08a4261fa0559edf8f",
       "style": "IPY_MODEL_7b785eb9dea24458a4d1ac57bbfbe2fc",
       "value": "Select the detector angles to plot."
      }
     },
     "6c5ed0a01f1f418aba1e82fb20332402": {
      "model_module": "@jupyter-widgets/controls",
      "model_module_version": "1.1.0",
      "model_name": "DescriptionStyleModel",
      "state": {
       "description_width": ""
      }
     },
     "6c8998b14930415993effbd41bcf876c": {
      "model_module": "@jupyter-widgets/controls",
      "model_module_version": "1.1.0",
      "model_name": "ToggleButtonsModel",
      "state": {
       "_options_labels": [
        "400 MeV",
        "800 MeV",
        "2500 MeV"
       ],
       "button_style": "",
       "description": "Energy:",
       "icons": [],
       "index": 0,
       "layout": "IPY_MODEL_e8b1430b7a3246b5962a8ec757207553",
       "style": "IPY_MODEL_243c9ba949cf4de2bb60bac6e9decc8d",
       "tooltips": [
        "lowest energy",
        "middle energy",
        "highest energy"
       ]
      }
     },
     "6d7e8177703e4fc78b5724bb7c5f39e9": {
      "model_module": "@jupyter-widgets/base",
      "model_module_version": "1.0.0",
      "model_name": "LayoutModel",
      "state": {}
     },
     "6d7ee98cf6a1461ba5df20b026c4f1d4": {
      "model_module": "@jupyter-widgets/controls",
      "model_module_version": "1.1.0",
      "model_name": "DescriptionStyleModel",
      "state": {
       "description_width": ""
      }
     },
     "6d95059981624950879bdfebbe0d9296": {
      "model_module": "@jupyter-widgets/base",
      "model_module_version": "1.0.0",
      "model_name": "LayoutModel",
      "state": {}
     },
     "6db02d35a9c74e88ba5a58093a39757d": {
      "model_module": "@jupyter-widgets/controls",
      "model_module_version": "1.1.0",
      "model_name": "ToggleButtonsStyleModel",
      "state": {
       "button_width": "",
       "description_width": ""
      }
     },
     "6dc1d2dba536489e85ba12120a94c707": {
      "model_module": "@jupyter-widgets/base",
      "model_module_version": "1.0.0",
      "model_name": "LayoutModel",
      "state": {}
     },
     "6e2dd0d385234c758577ccd5cbbbcad0": {
      "model_module": "@jupyter-widgets/controls",
      "model_module_version": "1.1.0",
      "model_name": "DescriptionStyleModel",
      "state": {
       "description_width": ""
      }
     },
     "6e5bfcd185424475abd072f9ff0da8ef": {
      "model_module": "@jupyter-widgets/base",
      "model_module_version": "1.0.0",
      "model_name": "LayoutModel",
      "state": {}
     },
     "6e5f793677974678bc6e7082c99effcc": {
      "model_module": "@jupyter-widgets/controls",
      "model_module_version": "1.1.0",
      "model_name": "DescriptionStyleModel",
      "state": {
       "description_width": ""
      }
     },
     "6e95f3508fc4499f871042d4040bd640": {
      "model_module": "@jupyter-widgets/controls",
      "model_module_version": "1.1.0",
      "model_name": "DescriptionStyleModel",
      "state": {
       "description_width": ""
      }
     },
     "6e9bce0cd9c54094b088b7a7566773dd": {
      "model_module": "@jupyter-widgets/controls",
      "model_module_version": "1.1.0",
      "model_name": "DescriptionStyleModel",
      "state": {
       "description_width": ""
      }
     },
     "6e9fcd4b109c4f9bacdca54b688ff986": {
      "model_module": "@jupyter-widgets/controls",
      "model_module_version": "1.1.0",
      "model_name": "ToggleButtonsModel",
      "state": {
       "_options_labels": [
        "N (¹n)",
        "NDC (¹n)",
        "P (¹H)",
        "D (²H)"
       ],
       "button_style": "",
       "description": "Type:",
       "icons": [],
       "index": 0,
       "layout": "IPY_MODEL_5683570204824c2babd1bd671d01df2d",
       "style": "IPY_MODEL_c01c78719669455786f6a3d7f97a34f2",
       "tooltips": [
        "Neutron",
        "Back Target Neutron",
        "Proton",
        "Deuteron"
       ]
      }
     },
     "6eadeeb6bf074b6d8e522423bb2b05e9": {
      "model_module": "@jupyter-widgets/controls",
      "model_module_version": "1.1.0",
      "model_name": "ToggleButtonsModel",
      "state": {
       "_options_labels": [
        "N (¹n)",
        "NDC (¹n)",
        "P (¹H)",
        "D (²H)",
        "T (³H)",
        "S (³He)",
        "A (⁴He)"
       ],
       "button_style": "",
       "description": "Type:",
       "icons": [],
       "index": 0,
       "layout": "IPY_MODEL_c028581d290146adb6944ce81d6a8445",
       "style": "IPY_MODEL_081eed35ebd6477f95c3abb50281bf35",
       "tooltips": [
        "Neutron",
        "Back Target Neutron",
        "Proton",
        "Deuteron",
        "Triton",
        "Helium-3",
        "Helium-4"
       ]
      }
     },
     "6edb3e911d44441787d5be281679c7dd": {
      "model_module": "@jupyter-widgets/controls",
      "model_module_version": "1.1.0",
      "model_name": "ToggleButtonsStyleModel",
      "state": {
       "button_width": "",
       "description_width": ""
      }
     },
     "6efc4b6151e242caaa8ab52d50bd5997": {
      "model_module": "@jupyter-widgets/controls",
      "model_module_version": "1.1.0",
      "model_name": "ToggleButtonsStyleModel",
      "state": {
       "button_width": "",
       "description_width": ""
      }
     },
     "6f28b70a460e4dcc975c5927eef6500a": {
      "model_module": "@jupyter-widgets/controls",
      "model_module_version": "1.1.0",
      "model_name": "ToggleButtonsModel",
      "state": {
       "_options_labels": [
        "P (¹H)",
        "D (²H)",
        "T (³H)",
        "A (⁴He)"
       ],
       "button_style": "",
       "description": "Particle:",
       "icons": [],
       "index": 0,
       "layout": "IPY_MODEL_c0590248ff2b4526bf62006198a16f0e",
       "style": "IPY_MODEL_3189369a0cac44e0a6e3b6b6d8657f93",
       "tooltips": [
        "Proton",
        "Deuteron",
        "Triton",
        "Helium-4"
       ]
      }
     },
     "6f9154ad8ff347fd89ceb3941d61b861": {
      "model_module": "@jupyter-widgets/controls",
      "model_module_version": "1.1.0",
      "model_name": "CheckboxModel",
      "state": {
       "description": "30°",
       "disabled": false,
       "layout": "IPY_MODEL_31903ee12cc046d4a5f3c48980d03de8",
       "style": "IPY_MODEL_a6823a7ff4d644898a0521a67008d5ad",
       "value": true
      }
     },
     "6fb95e2154dd4900892693eac880a9bb": {
      "model_module": "@jupyter-widgets/base",
      "model_module_version": "1.0.0",
      "model_name": "LayoutModel",
      "state": {}
     },
     "701d737cb8f8401b810a0390210365f7": {
      "model_module": "@jupyter-widgets/base",
      "model_module_version": "1.0.0",
      "model_name": "LayoutModel",
      "state": {}
     },
     "703e3e569ff1498cb980c4dc4e985884": {
      "model_module": "@jupyter-widgets/base",
      "model_module_version": "1.0.0",
      "model_name": "LayoutModel",
      "state": {}
     },
     "708e8d7a766147bbbdf1d488d6ce12fb": {
      "model_module": "@jupyter-widgets/controls",
      "model_module_version": "1.1.0",
      "model_name": "DescriptionStyleModel",
      "state": {
       "description_width": ""
      }
     },
     "70b824cba41340ed8e61ad5455714f59": {
      "model_module": "@jupyter-widgets/controls",
      "model_module_version": "1.1.0",
      "model_name": "CheckboxModel",
      "state": {
       "description": "30°",
       "disabled": false,
       "layout": "IPY_MODEL_18863704081745a6b44ce17d97071696",
       "style": "IPY_MODEL_4624e853dfd54f939381d2e27047bb61",
       "value": true
      }
     },
     "71058c791b4b4cf791c34492ca167eab": {
      "model_module": "@jupyter-widgets/base",
      "model_module_version": "1.0.0",
      "model_name": "LayoutModel",
      "state": {}
     },
     "71423ab69d8f4d27974054ce91340404": {
      "model_module": "@jupyter-widgets/base",
      "model_module_version": "1.0.0",
      "model_name": "LayoutModel",
      "state": {}
     },
     "714e01f090034d61970e171f2b8e9078": {
      "model_module": "@jupyter-widgets/base",
      "model_module_version": "1.0.0",
      "model_name": "LayoutModel",
      "state": {}
     },
     "7152837967fc4c21933fab6a2245e295": {
      "model_module": "@jupyter-widgets/controls",
      "model_module_version": "1.1.0",
      "model_name": "CheckboxModel",
      "state": {
       "description": "60°",
       "disabled": false,
       "layout": "IPY_MODEL_b67cce65aca44fba99692642db417b07",
       "style": "IPY_MODEL_88b9e2d96d2b4c85b34b1b94c3341b79",
       "value": false
      }
     },
     "71683c8b18754c3b99996c8c2f587ece": {
      "model_module": "@jupyter-widgets/base",
      "model_module_version": "1.0.0",
      "model_name": "LayoutModel",
      "state": {}
     },
     "71895eaff71248569ce5c5c2395d428a": {
      "model_module": "@jupyter-widgets/controls",
      "model_module_version": "1.1.0",
      "model_name": "LabelModel",
      "state": {
       "layout": "IPY_MODEL_dacecf3f41d744dca9a326df46e03dc7",
       "style": "IPY_MODEL_782f8c48e0e94ab9987ffa22d3cd04eb",
       "value": "Select the detector angles to plot."
      }
     },
     "719506c3b9ad4f68ac43df3344c0f784": {
      "model_module": "@jupyter-widgets/controls",
      "model_module_version": "1.1.0",
      "model_name": "LabelModel",
      "state": {
       "layout": "IPY_MODEL_7de9b198346d4da2990ea6970b256c36",
       "style": "IPY_MODEL_de136a4347eb43718c46e90b77ba4eae",
       "value": "Select the detector angles to plot."
      }
     },
     "719a392596f7403392909a78c79f6fd3": {
      "model_module": "@jupyter-widgets/controls",
      "model_module_version": "1.1.0",
      "model_name": "CheckboxModel",
      "state": {
       "description": "7.2°",
       "disabled": false,
       "layout": "IPY_MODEL_dcd4ce5edb6c44989f20208388f10188",
       "style": "IPY_MODEL_28216aa714064d369f4eb48ecb4ef60f",
       "value": true
      }
     },
     "71a09e2397ff40e9a0688a8973dcf554": {
      "model_module": "@jupyter-widgets/base",
      "model_module_version": "1.0.0",
      "model_name": "LayoutModel",
      "state": {}
     },
     "71b7722d056a4b0f8361f2d9d50b1a9f": {
      "model_module": "@jupyter-widgets/base",
      "model_module_version": "1.0.0",
      "model_name": "LayoutModel",
      "state": {}
     },
     "71cef8f8d16d42af89b020492cc909ca": {
      "model_module": "@jupyter-widgets/controls",
      "model_module_version": "1.1.0",
      "model_name": "CheckboxModel",
      "state": {
       "description": "10°",
       "disabled": false,
       "layout": "IPY_MODEL_77e5cab77d8e412a837ede5657f7cae9",
       "style": "IPY_MODEL_ca45354f50c94677a51e2632ed6da418",
       "value": true
      }
     },
     "71ff93e143924a6cb887239f81683955": {
      "model_module": "@jupyter-widgets/controls",
      "model_module_version": "1.1.0",
      "model_name": "CheckboxModel",
      "state": {
       "description": "45°",
       "disabled": false,
       "layout": "IPY_MODEL_11aea78791f04ca6adbc4af597e72e71",
       "style": "IPY_MODEL_462a79a9036144b8b3fe19cdc55eee8c",
       "value": true
      }
     },
     "7226f67f91d7466385caf9785e71e0e7": {
      "model_module": "@jupyter-widgets/base",
      "model_module_version": "1.0.0",
      "model_name": "LayoutModel",
      "state": {}
     },
     "7266346fb06e49e89e893c7ad7383d17": {
      "model_module": "@jupyter-widgets/base",
      "model_module_version": "1.0.0",
      "model_name": "LayoutModel",
      "state": {}
     },
     "7267e33edf104e3d9d14f08c8907cb54": {
      "model_module": "@jupyter-widgets/controls",
      "model_module_version": "1.1.0",
      "model_name": "ToggleButtonsModel",
      "state": {
       "_options_labels": [
        "N (¹n)",
        "NDC (¹n)",
        "P (¹H)",
        "D (²H)",
        "T (³H)",
        "S (³He)",
        "A (⁴He)"
       ],
       "button_style": "",
       "description": "Type:",
       "icons": [],
       "index": 3,
       "layout": "IPY_MODEL_3c09a4f787f24fb882051c5bbbc36f4a",
       "style": "IPY_MODEL_4ef169f780f5492d945394689c66c0f3",
       "tooltips": [
        "Neutron",
        "Back Target Neutron",
        "Proton",
        "Deuteron",
        "Triton",
        "Helium-3",
        "Helium-4"
       ]
      }
     },
     "7269c215af174c58ad8c5c71aa27e07a": {
      "model_module": "@jupyter-widgets/controls",
      "model_module_version": "1.1.0",
      "model_name": "ToggleButtonsStyleModel",
      "state": {
       "button_width": "",
       "description_width": ""
      }
     },
     "72730742a22448ee8cf55b8b6858e93c": {
      "model_module": "@jupyter-widgets/controls",
      "model_module_version": "1.1.0",
      "model_name": "CheckboxModel",
      "state": {
       "description": "135°",
       "disabled": false,
       "layout": "IPY_MODEL_d89d57eeb9ee413baad1cb61dc3a999b",
       "style": "IPY_MODEL_88cc195b5f6e4901bf6a0871b8ac57ab",
       "value": true
      }
     },
     "727e71bf8dd74063b25c39b8c26aab20": {
      "model_module": "@jupyter-widgets/controls",
      "model_module_version": "1.1.0",
      "model_name": "CheckboxModel",
      "state": {
       "description": "32.7°",
       "disabled": false,
       "layout": "IPY_MODEL_02f0fec9ce024a018ce95422f807e9d9",
       "style": "IPY_MODEL_6669aa29ed0549aca74d7019dc6c0e5f",
       "value": false
      }
     },
     "72d50bc804df4ca38022315156eda644": {
      "model_module": "@jupyter-widgets/controls",
      "model_module_version": "1.1.0",
      "model_name": "DescriptionStyleModel",
      "state": {
       "description_width": ""
      }
     },
     "72e45cb336a54312a1aeef5f4c881553": {
      "model_module": "@jupyter-widgets/controls",
      "model_module_version": "1.1.0",
      "model_name": "DescriptionStyleModel",
      "state": {
       "description_width": ""
      }
     },
     "72e9a796ad4b465882749d9c1f88720d": {
      "model_module": "@jupyter-widgets/base",
      "model_module_version": "1.0.0",
      "model_name": "LayoutModel",
      "state": {}
     },
     "72fe73391da34aa7b16dcf466b9d7dcc": {
      "model_module": "@jupyter-widgets/base",
      "model_module_version": "1.0.0",
      "model_name": "LayoutModel",
      "state": {}
     },
     "73138b754209406a8c76f8b0357ac687": {
      "model_module": "@jupyter-widgets/controls",
      "model_module_version": "1.1.0",
      "model_name": "DescriptionStyleModel",
      "state": {
       "description_width": ""
      }
     },
     "7356676fed21406e8f081dbe6e0a505a": {
      "model_module": "@jupyter-widgets/controls",
      "model_module_version": "1.1.0",
      "model_name": "ButtonStyleModel",
      "state": {}
     },
     "7361620793a041eb83e6cebabb392c82": {
      "model_module": "@jupyter-widgets/base",
      "model_module_version": "1.0.0",
      "model_name": "LayoutModel",
      "state": {}
     },
     "73ade60795d64355b51bcedccc4f3f2c": {
      "model_module": "@jupyter-widgets/controls",
      "model_module_version": "1.1.0",
      "model_name": "DescriptionStyleModel",
      "state": {
       "description_width": ""
      }
     },
     "73b7636d409349d39069f1f9c4c8bf66": {
      "model_module": "@jupyter-widgets/controls",
      "model_module_version": "1.1.0",
      "model_name": "CheckboxModel",
      "state": {
       "description": "7.2°",
       "disabled": false,
       "layout": "IPY_MODEL_55ee168d048141bda5ad42eb6648dab2",
       "style": "IPY_MODEL_c3a04ceeb2e74e89bb7895f0f5657097",
       "value": true
      }
     },
     "73e20f453cf440ec997671f6f69ed6e9": {
      "model_module": "@jupyter-widgets/controls",
      "model_module_version": "1.1.0",
      "model_name": "ToggleButtonsModel",
      "state": {
       "_options_labels": [
        "400 MeV/n",
        "800 MeV/n",
        "1500 MeV/n"
       ],
       "button_style": "",
       "description": "Energy:",
       "icons": [],
       "index": 1,
       "layout": "IPY_MODEL_7b02a5288922431db259df2fe6b48f66",
       "style": "IPY_MODEL_2df331ed0947481499b39951a8f811cd",
       "tooltips": [
        "lowest energy",
        "middle energy",
        "highest energy"
       ]
      }
     },
     "740b6967cafc441d9d1016cb0a8da55f": {
      "model_module": "@jupyter-widgets/controls",
      "model_module_version": "1.1.0",
      "model_name": "ToggleButtonsModel",
      "state": {
       "_options_labels": [
        "400 MeV/n",
        "800 MeV/n",
        "1500 MeV/n"
       ],
       "button_style": "",
       "description": "Energy:",
       "icons": [],
       "index": 0,
       "layout": "IPY_MODEL_f6398df354bc4679b689033928f3f329",
       "style": "IPY_MODEL_d552c1b61ca04e5a85526db6807b5d18",
       "tooltips": [
        "lowest energy",
        "middle energy",
        "highest energy"
       ]
      }
     },
     "7459268c60e14cee93a95a83bb9c62cd": {
      "model_module": "@jupyter-widgets/controls",
      "model_module_version": "1.1.0",
      "model_name": "DescriptionStyleModel",
      "state": {
       "description_width": ""
      }
     },
     "74a62dfbb06d4bb8a6ba3f1404f53361": {
      "model_module": "@jupyter-widgets/controls",
      "model_module_version": "1.1.0",
      "model_name": "CheckboxModel",
      "state": {
       "description": "80°",
       "disabled": false,
       "layout": "IPY_MODEL_28c3fe0386cf482fae9099e6ae852596",
       "style": "IPY_MODEL_b3311dbc66674b6daaee1b5cd76ce614",
       "value": true
      }
     },
     "74afdf280b99481c91ec8638fcafbb6c": {
      "model_module": "@jupyter-widgets/controls",
      "model_module_version": "1.1.0",
      "model_name": "DescriptionStyleModel",
      "state": {
       "description_width": ""
      }
     },
     "74b6b5d9bd6f4001bb6cff315454d14d": {
      "model_module": "@jupyter-widgets/controls",
      "model_module_version": "1.1.0",
      "model_name": "LabelModel",
      "state": {
       "layout": "IPY_MODEL_824e7021966a43c2bf175463c7dccf1a",
       "style": "IPY_MODEL_2f0f1b0111db437d8dc6c27d468e6a66",
       "value": "Select which secondary particle to plot spectra for."
      }
     },
     "74e3d297a3dd4837a6940d54ccb2fc04": {
      "model_module": "@jupyter-widgets/controls",
      "model_module_version": "1.1.0",
      "model_name": "DescriptionStyleModel",
      "state": {
       "description_width": ""
      }
     },
     "74ea0dc61073468e9e0226a6ea33f180": {
      "model_module": "@jupyter-widgets/base",
      "model_module_version": "1.0.0",
      "model_name": "LayoutModel",
      "state": {}
     },
     "752f436956fe47a4adbe7186aead7787": {
      "model_module": "@jupyter-widgets/controls",
      "model_module_version": "1.1.0",
      "model_name": "DescriptionStyleModel",
      "state": {
       "description_width": ""
      }
     },
     "75647d063fd343279bf2691272c87b29": {
      "model_module": "@jupyter-widgets/base",
      "model_module_version": "1.0.0",
      "model_name": "LayoutModel",
      "state": {}
     },
     "75704df72b5f482e83d8caa24c07eb4a": {
      "model_module": "@jupyter-widgets/controls",
      "model_module_version": "1.1.0",
      "model_name": "DescriptionStyleModel",
      "state": {
       "description_width": ""
      }
     },
     "75a30c3beb1940bf992f9033eee96e34": {
      "model_module": "@jupyter-widgets/controls",
      "model_module_version": "1.1.0",
      "model_name": "DescriptionStyleModel",
      "state": {
       "description_width": ""
      }
     },
     "75b462689dd34b93816d80b241ce3836": {
      "model_module": "@jupyter-widgets/controls",
      "model_module_version": "1.1.0",
      "model_name": "DescriptionStyleModel",
      "state": {
       "description_width": ""
      }
     },
     "75c02e8a80754bd2b432497f85d747be": {
      "model_module": "@jupyter-widgets/base",
      "model_module_version": "1.0.0",
      "model_name": "LayoutModel",
      "state": {}
     },
     "75cf49c4dab14f3b84f7207de3fb21cd": {
      "model_module": "@jupyter-widgets/controls",
      "model_module_version": "1.1.0",
      "model_name": "CheckboxModel",
      "state": {
       "description": "10°",
       "disabled": false,
       "layout": "IPY_MODEL_11f48d37a535475ca688e0905db3162f",
       "style": "IPY_MODEL_72d50bc804df4ca38022315156eda644",
       "value": true
      }
     },
     "75d2183c47ac4eb8a8ab256a36a9db1d": {
      "model_module": "@jupyter-widgets/controls",
      "model_module_version": "1.1.0",
      "model_name": "DescriptionStyleModel",
      "state": {
       "description_width": ""
      }
     },
     "763c51d9be4c4ae09c6185e631146395": {
      "model_module": "@jupyter-widgets/controls",
      "model_module_version": "1.1.0",
      "model_name": "LabelModel",
      "state": {
       "layout": "IPY_MODEL_1c014d4e1a954966b4781964ef79ab9d",
       "style": "IPY_MODEL_197075fb586e4734965179c897e4f958",
       "value": "Select a detector type."
      }
     },
     "7685285fbaaa496d82510a494b9d0a08": {
      "model_module": "@jupyter-widgets/controls",
      "model_module_version": "1.1.0",
      "model_name": "LabelModel",
      "state": {
       "layout": "IPY_MODEL_116ac127c33a4645b99fbacd4acffcea",
       "style": "IPY_MODEL_b453f597f5f747879bbb7e51d7941077",
       "value": "Select the detector angles to plot."
      }
     },
     "76ae31eb7d5640b8875c43b23fa9160d": {
      "model_module": "@jupyter-widgets/controls",
      "model_module_version": "1.1.0",
      "model_name": "CheckboxModel",
      "state": {
       "description": "135°",
       "disabled": false,
       "layout": "IPY_MODEL_8822a20bc3f94d66ab0dbfabcd77d959",
       "style": "IPY_MODEL_73ade60795d64355b51bcedccc4f3f2c",
       "value": true
      }
     },
     "76dd25d0d7e1441183913f076f0b20a8": {
      "model_module": "@jupyter-widgets/controls",
      "model_module_version": "1.1.0",
      "model_name": "ToggleButtonsModel",
      "state": {
       "_options_labels": [
        "N (¹n)",
        "NDC (¹n)",
        "P (¹H)",
        "D (²H)",
        "T (³H)",
        "S (³He)",
        "A (⁴He)"
       ],
       "button_style": "",
       "description": "Type:",
       "icons": [],
       "index": 0,
       "layout": "IPY_MODEL_a01d9af1cbfb457ca40b4d16191dd9f8",
       "style": "IPY_MODEL_a73ea27787e845ec9d670ffc57d5fe34",
       "tooltips": [
        "Neutron",
        "Back Target Neutron",
        "Proton",
        "Deuteron",
        "Triton",
        "Helium-3",
        "Helium-4"
       ]
      }
     },
     "770ceff503154f0a865b91c4c5f39af8": {
      "model_module": "@jupyter-widgets/base",
      "model_module_version": "1.0.0",
      "model_name": "LayoutModel",
      "state": {}
     },
     "772e5375e9884cc59b06095fd14fa29c": {
      "model_module": "@jupyter-widgets/controls",
      "model_module_version": "1.1.0",
      "model_name": "DescriptionStyleModel",
      "state": {
       "description_width": ""
      }
     },
     "77325e05ad2b433c87a9d5728f7d5981": {
      "model_module": "@jupyter-widgets/base",
      "model_module_version": "1.0.0",
      "model_name": "LayoutModel",
      "state": {}
     },
     "77792603d0cb409aa6a765665db2f609": {
      "model_module": "@jupyter-widgets/controls",
      "model_module_version": "1.1.0",
      "model_name": "CheckboxModel",
      "state": {
       "description": "135°",
       "disabled": false,
       "layout": "IPY_MODEL_7edd62daaafc4fde86cd3bd06b52ead0",
       "style": "IPY_MODEL_486a85212fc74b3c976559e6f202904e",
       "value": true
      }
     },
     "777b6c6ba30941cba126cc00438dd02d": {
      "model_module": "@jupyter-widgets/controls",
      "model_module_version": "1.1.0",
      "model_name": "CheckboxModel",
      "state": {
       "description": "45°",
       "disabled": false,
       "layout": "IPY_MODEL_f7f38f23b33c4fc9bedd89b58ecf6c4c",
       "style": "IPY_MODEL_592d2c0aa7504792bede385126d23000",
       "value": false
      }
     },
     "77a5fc8d2bb44899b412f27dbfc2d0b2": {
      "model_module": "@jupyter-widgets/controls",
      "model_module_version": "1.1.0",
      "model_name": "CheckboxModel",
      "state": {
       "description": "45°",
       "disabled": false,
       "layout": "IPY_MODEL_1954fcd499e84497b4865b733f2fe9a4",
       "style": "IPY_MODEL_b8c1fc0e080f4c32b4e9b22cf32efc54",
       "value": true
      }
     },
     "77df7263787a480793999b2d1bfbd4c8": {
      "model_module": "@jupyter-widgets/controls",
      "model_module_version": "1.1.0",
      "model_name": "DescriptionStyleModel",
      "state": {
       "description_width": ""
      }
     },
     "77e5cab77d8e412a837ede5657f7cae9": {
      "model_module": "@jupyter-widgets/base",
      "model_module_version": "1.0.0",
      "model_name": "LayoutModel",
      "state": {}
     },
     "77f0a240fb514069b6c89a150a7abac9": {
      "model_module": "@jupyter-widgets/controls",
      "model_module_version": "1.1.0",
      "model_name": "ToggleButtonsStyleModel",
      "state": {
       "button_width": "",
       "description_width": ""
      }
     },
     "781aaddf039d4c1fb96c9e97b02b4a98": {
      "model_module": "@jupyter-widgets/controls",
      "model_module_version": "1.1.0",
      "model_name": "LabelModel",
      "state": {
       "layout": "IPY_MODEL_ab51b1419f7546d9adedc7d98370b3be",
       "style": "IPY_MODEL_ac9577885a6643f3acdf6df98032a935",
       "value": "Select which secondary particle to plot spectra for."
      }
     },
     "782b9bfbb81b460284294695228ba7de": {
      "model_module": "@jupyter-widgets/controls",
      "model_module_version": "1.1.0",
      "model_name": "DescriptionStyleModel",
      "state": {
       "description_width": ""
      }
     },
     "782f50c4fba44e5797352f1f889b2404": {
      "model_module": "@jupyter-widgets/controls",
      "model_module_version": "1.1.0",
      "model_name": "CheckboxModel",
      "state": {
       "description": "30°",
       "disabled": false,
       "layout": "IPY_MODEL_90d0ad0b2cd144658a89409c7d844d9d",
       "style": "IPY_MODEL_d3c2d5b482364a8388e43e20541a6253",
       "value": true
      }
     },
     "782f8c48e0e94ab9987ffa22d3cd04eb": {
      "model_module": "@jupyter-widgets/controls",
      "model_module_version": "1.1.0",
      "model_name": "DescriptionStyleModel",
      "state": {
       "description_width": ""
      }
     },
     "785390cd756d49a19e9964c3010cb559": {
      "model_module": "@jupyter-widgets/base",
      "model_module_version": "1.0.0",
      "model_name": "LayoutModel",
      "state": {}
     },
     "7875ecdeb20f48b79e1db2aab5fe21d6": {
      "model_module": "@jupyter-widgets/controls",
      "model_module_version": "1.1.0",
      "model_name": "ToggleButtonsModel",
      "state": {
       "_options_labels": [
        "N (¹n)",
        "NDC (¹n)",
        "P (¹H)",
        "D (²H)",
        "T (³H)",
        "S (³He)",
        "A (⁴He)"
       ],
       "button_style": "",
       "description": "Particle:",
       "icons": [],
       "index": 1,
       "layout": "IPY_MODEL_b7d90552fa1a42b7b0e7aee76ca65e5f",
       "style": "IPY_MODEL_18ec9503a0314fdfb4fd82944a091077",
       "tooltips": [
        "Neutron",
        "Back Target Neutron",
        "Proton",
        "Deuteron",
        "Triton",
        "Helium-3",
        "Helium-4"
       ]
      }
     },
     "790ea7929fa54d4992b2693b6c88b714": {
      "model_module": "@jupyter-widgets/controls",
      "model_module_version": "1.1.0",
      "model_name": "LabelModel",
      "state": {
       "layout": "IPY_MODEL_9eba4cf6274048188693b18ae48e4e52",
       "style": "IPY_MODEL_deef3cc23c9e47b1a27184acabc313ff",
       "value": "Select which secondary particle to plot spectra for."
      }
     },
     "7a207b3f9e534394bfd8e158d669b063": {
      "model_module": "@jupyter-widgets/base",
      "model_module_version": "1.0.0",
      "model_name": "LayoutModel",
      "state": {}
     },
     "7a2ce427dc1c456da7309111a2b59ea4": {
      "model_module": "@jupyter-widgets/controls",
      "model_module_version": "1.1.0",
      "model_name": "LabelModel",
      "state": {
       "layout": "IPY_MODEL_daa1eb14b20f48a5a9aba4450376ed13",
       "style": "IPY_MODEL_caa204e113d1449080e1c516dedcc235",
       "value": "Select which secondary particle to plot spectra for."
      }
     },
     "7a41df7279be47f19ff549ed07da1077": {
      "model_module": "@jupyter-widgets/controls",
      "model_module_version": "1.1.0",
      "model_name": "DescriptionStyleModel",
      "state": {
       "description_width": ""
      }
     },
     "7a606f3c1ab14cb9839909e63914dd28": {
      "model_module": "@jupyter-widgets/base",
      "model_module_version": "1.0.0",
      "model_name": "LayoutModel",
      "state": {}
     },
     "7a60d2682c3349b0b202edf010c6c96c": {
      "model_module": "@jupyter-widgets/base",
      "model_module_version": "1.0.0",
      "model_name": "LayoutModel",
      "state": {}
     },
     "7a7ba5dbc4044b0fa55b390b45f1c3b3": {
      "model_module": "@jupyter-widgets/controls",
      "model_module_version": "1.1.0",
      "model_name": "DescriptionStyleModel",
      "state": {
       "description_width": ""
      }
     },
     "7ac59b7eca6641c8bcb498673e9b27bd": {
      "model_module": "@jupyter-widgets/base",
      "model_module_version": "1.0.0",
      "model_name": "LayoutModel",
      "state": {}
     },
     "7adde8f3afc7478e95f52a5ba89da941": {
      "model_module": "@jupyter-widgets/controls",
      "model_module_version": "1.1.0",
      "model_name": "DescriptionStyleModel",
      "state": {
       "description_width": ""
      }
     },
     "7af51936891d4c43b32e0c844abbed7b": {
      "model_module": "@jupyter-widgets/controls",
      "model_module_version": "1.1.0",
      "model_name": "LabelModel",
      "state": {
       "layout": "IPY_MODEL_52c16dd828a84e3c93385fd475420794",
       "style": "IPY_MODEL_a6e4e615cf024c96b0b19a74e84d6cef",
       "value": "Select which secondary particle to plot spectra for."
      }
     },
     "7b02a5288922431db259df2fe6b48f66": {
      "model_module": "@jupyter-widgets/base",
      "model_module_version": "1.0.0",
      "model_name": "LayoutModel",
      "state": {}
     },
     "7b0520fc4f674c48beda1fd2174f737c": {
      "model_module": "@jupyter-widgets/controls",
      "model_module_version": "1.1.0",
      "model_name": "DescriptionStyleModel",
      "state": {
       "description_width": ""
      }
     },
     "7b3e842f80114890b82b120bf12a2673": {
      "model_module": "@jupyter-widgets/controls",
      "model_module_version": "1.1.0",
      "model_name": "DescriptionStyleModel",
      "state": {
       "description_width": ""
      }
     },
     "7b49faf0031b4bbd8bcfec5944e74490": {
      "model_module": "@jupyter-widgets/controls",
      "model_module_version": "1.1.0",
      "model_name": "DescriptionStyleModel",
      "state": {
       "description_width": ""
      }
     },
     "7b785eb9dea24458a4d1ac57bbfbe2fc": {
      "model_module": "@jupyter-widgets/controls",
      "model_module_version": "1.1.0",
      "model_name": "DescriptionStyleModel",
      "state": {
       "description_width": ""
      }
     },
     "7bad699392d842d3b757e4dbfb597dc1": {
      "model_module": "@jupyter-widgets/controls",
      "model_module_version": "1.1.0",
      "model_name": "CheckboxModel",
      "state": {
       "description": "30°",
       "disabled": false,
       "layout": "IPY_MODEL_090598d5c0c24f1f90f63baa520df67a",
       "style": "IPY_MODEL_5f81c44e3d4f4848891cd99623046fe3",
       "value": true
      }
     },
     "7bc3fbb9ab3f45348de818119b4edb4a": {
      "model_module": "@jupyter-widgets/controls",
      "model_module_version": "1.1.0",
      "model_name": "DescriptionStyleModel",
      "state": {
       "description_width": ""
      }
     },
     "7bd08e09b235419884b9026c8318d57b": {
      "model_module": "@jupyter-widgets/base",
      "model_module_version": "1.0.0",
      "model_name": "LayoutModel",
      "state": {}
     },
     "7bd7ac599ac74a43b9d70028a1cfbf6b": {
      "model_module": "@jupyter-widgets/base",
      "model_module_version": "1.0.0",
      "model_name": "LayoutModel",
      "state": {}
     },
     "7c43f2d5b3524a36bebde9aaefaf52eb": {
      "model_module": "@jupyter-widgets/controls",
      "model_module_version": "1.1.0",
      "model_name": "CheckboxModel",
      "state": {
       "description": "80°",
       "disabled": false,
       "layout": "IPY_MODEL_d380f760dcf04c08bc4b7e227caf8416",
       "style": "IPY_MODEL_8ec9509eb399439fb841e212539d7916",
       "value": true
      }
     },
     "7c8840e84d034bf79f54e73f4acdb1c8": {
      "model_module": "@jupyter-widgets/controls",
      "model_module_version": "1.1.0",
      "model_name": "CheckboxModel",
      "state": {
       "description": "30°",
       "disabled": false,
       "layout": "IPY_MODEL_6043f70a44fd4a4ab3da05f2351f5d16",
       "style": "IPY_MODEL_782b9bfbb81b460284294695228ba7de",
       "value": true
      }
     },
     "7cb91ccf4d284053ad9237a1ec68b134": {
      "model_module": "@jupyter-widgets/controls",
      "model_module_version": "1.1.0",
      "model_name": "LabelModel",
      "state": {
       "layout": "IPY_MODEL_b34c0b45a9364bf4a77dbe00b1b856bf",
       "style": "IPY_MODEL_10b4f99509df485689b185a6e77913a5",
       "value": "Select the detector angles to plot."
      }
     },
     "7cebe4c1a6574ff6880871b9e8a9045c": {
      "model_module": "@jupyter-widgets/controls",
      "model_module_version": "1.1.0",
      "model_name": "ToggleButtonsModel",
      "state": {
       "_options_labels": [
        "400 MeV",
        "800 MeV",
        "2500 MeV"
       ],
       "button_style": "",
       "description": "Energy:",
       "icons": [],
       "index": 0,
       "layout": "IPY_MODEL_f3b020ca5d8f4d98bd0f82640535936e",
       "style": "IPY_MODEL_ab08f3b531ee4b92bbbe6ee1c754c252",
       "tooltips": [
        "lowest energy",
        "middle energy",
        "highest energy"
       ]
      }
     },
     "7d315670ef4f4b77a3c4bdbb3d99313c": {
      "model_module": "@jupyter-widgets/controls",
      "model_module_version": "1.1.0",
      "model_name": "ToggleButtonsStyleModel",
      "state": {
       "button_width": "",
       "description_width": ""
      }
     },
     "7d5da29f61a44934bf2ea94bc7ee10bd": {
      "model_module": "@jupyter-widgets/controls",
      "model_module_version": "1.1.0",
      "model_name": "CheckboxModel",
      "state": {
       "description": "10°",
       "disabled": false,
       "layout": "IPY_MODEL_a08b30dbe8df48e1b9b7d32efe18f57e",
       "style": "IPY_MODEL_3057daa3aeee4dd19e0ef7f89f0cf16c",
       "value": true
      }
     },
     "7d80945944f749c38f55ca99a4d8e702": {
      "model_module": "@jupyter-widgets/controls",
      "model_module_version": "1.1.0",
      "model_name": "DescriptionStyleModel",
      "state": {
       "description_width": ""
      }
     },
     "7d96e7efeee54fd8a36c0a044393d5b5": {
      "model_module": "@jupyter-widgets/controls",
      "model_module_version": "1.1.0",
      "model_name": "DescriptionStyleModel",
      "state": {
       "description_width": ""
      }
     },
     "7db1c715c27c426f9a9b3a5820d79b0c": {
      "model_module": "@jupyter-widgets/base",
      "model_module_version": "1.0.0",
      "model_name": "LayoutModel",
      "state": {}
     },
     "7de9b198346d4da2990ea6970b256c36": {
      "model_module": "@jupyter-widgets/base",
      "model_module_version": "1.0.0",
      "model_name": "LayoutModel",
      "state": {}
     },
     "7df21e8d5f964ee6940895fc16107d6f": {
      "model_module": "@jupyter-widgets/base",
      "model_module_version": "1.0.0",
      "model_name": "LayoutModel",
      "state": {}
     },
     "7e2371361e60439b81f3c95a4c29b3b7": {
      "model_module": "@jupyter-widgets/controls",
      "model_module_version": "1.1.0",
      "model_name": "ToggleButtonsStyleModel",
      "state": {
       "button_width": "",
       "description_width": ""
      }
     },
     "7e75049786dd41599baa59cfbe1fc39b": {
      "model_module": "@jupyter-widgets/base",
      "model_module_version": "1.0.0",
      "model_name": "LayoutModel",
      "state": {}
     },
     "7e8f437c1a4f4cb2a43386174f683062": {
      "model_module": "@jupyter-widgets/controls",
      "model_module_version": "1.1.0",
      "model_name": "ButtonStyleModel",
      "state": {}
     },
     "7ea5137a008f4bbeb1cf1b1fb8b59231": {
      "model_module": "@jupyter-widgets/controls",
      "model_module_version": "1.1.0",
      "model_name": "LabelModel",
      "state": {
       "layout": "IPY_MODEL_0070d4f6780e40d6b962f1dfc9e13934",
       "style": "IPY_MODEL_bae7a6f7fe1a4131a2844ed828976a30",
       "value": "Select projectile ion energy."
      }
     },
     "7eb4d549ff354d1d97bf02337d3d4441": {
      "model_module": "@jupyter-widgets/base",
      "model_module_version": "1.0.0",
      "model_name": "LayoutModel",
      "state": {}
     },
     "7eb78729568f4494b7bae7e61224211a": {
      "model_module": "@jupyter-widgets/controls",
      "model_module_version": "1.1.0",
      "model_name": "DescriptionStyleModel",
      "state": {
       "description_width": ""
      }
     },
     "7ece3efc3e354dbfafc81f8f5768649d": {
      "model_module": "@jupyter-widgets/base",
      "model_module_version": "1.0.0",
      "model_name": "LayoutModel",
      "state": {}
     },
     "7ed71805849a4f218564899a9ad4f788": {
      "model_module": "@jupyter-widgets/base",
      "model_module_version": "1.0.0",
      "model_name": "LayoutModel",
      "state": {}
     },
     "7edd62daaafc4fde86cd3bd06b52ead0": {
      "model_module": "@jupyter-widgets/base",
      "model_module_version": "1.0.0",
      "model_name": "LayoutModel",
      "state": {}
     },
     "7f0241e1d61d443d945055442dd2c9ac": {
      "model_module": "@jupyter-widgets/controls",
      "model_module_version": "1.1.0",
      "model_name": "LabelModel",
      "state": {
       "layout": "IPY_MODEL_e5de52a649a44006a5e4cb9bac808b33",
       "style": "IPY_MODEL_114b096c8d2849e88380a0216538768e",
       "value": "Select which secondary particle to plot spectra for."
      }
     },
     "7f3291f11caf4a628d72ab41a793e5c1": {
      "model_module": "@jupyter-widgets/controls",
      "model_module_version": "1.1.0",
      "model_name": "CheckboxModel",
      "state": {
       "description": "45°",
       "disabled": false,
       "layout": "IPY_MODEL_db23ea9742d24a9eb53dca9df0670822",
       "style": "IPY_MODEL_cfd89952bf0f4bc58f55bb5e034a9751",
       "value": false
      }
     },
     "7f4e7685ff92449696edc9899475e79a": {
      "model_module": "@jupyter-widgets/controls",
      "model_module_version": "1.1.0",
      "model_name": "ToggleButtonsStyleModel",
      "state": {
       "button_width": "",
       "description_width": ""
      }
     },
     "7f6a97e5fbe24a3c9cbbb57009b519b5": {
      "model_module": "@jupyter-widgets/base",
      "model_module_version": "1.0.0",
      "model_name": "LayoutModel",
      "state": {}
     },
     "7fda445d7820403baadc8a73574b6efa": {
      "model_module": "@jupyter-widgets/controls",
      "model_module_version": "1.1.0",
      "model_name": "DescriptionStyleModel",
      "state": {
       "description_width": ""
      }
     },
     "7fe93f0e92f445f2b9eb26c37bb33e12": {
      "model_module": "@jupyter-widgets/controls",
      "model_module_version": "1.1.0",
      "model_name": "DescriptionStyleModel",
      "state": {
       "description_width": ""
      }
     },
     "7fee16546f4e4ce698bb3676bbfe16a6": {
      "model_module": "@jupyter-widgets/base",
      "model_module_version": "1.0.0",
      "model_name": "LayoutModel",
      "state": {}
     },
     "80283625d8bf4c69b8c889786437052f": {
      "model_module": "@jupyter-widgets/base",
      "model_module_version": "1.0.0",
      "model_name": "LayoutModel",
      "state": {}
     },
     "806a3c65ff964a2982d166fcff8bb411": {
      "model_module": "@jupyter-widgets/controls",
      "model_module_version": "1.1.0",
      "model_name": "ButtonStyleModel",
      "state": {}
     },
     "807ae0ee6a3e486aa3da11e93793c20d": {
      "model_module": "@jupyter-widgets/controls",
      "model_module_version": "1.1.0",
      "model_name": "ToggleButtonsModel",
      "state": {
       "_options_labels": [
        "400 MeV/n",
        "800 MeV/n",
        "1500 MeV/n"
       ],
       "button_style": "",
       "description": "Energy:",
       "icons": [],
       "index": 0,
       "layout": "IPY_MODEL_d37cc067f1304cf2bc31222f899ce506",
       "style": "IPY_MODEL_83ecc67c12c3465fb7265072610ef8c1",
       "tooltips": [
        "lowest energy",
        "middle energy",
        "highest energy"
       ]
      }
     },
     "81425f7945044f9dacb6d4144985be36": {
      "model_module": "@jupyter-widgets/base",
      "model_module_version": "1.0.0",
      "model_name": "LayoutModel",
      "state": {}
     },
     "8177f473e8f641b79269f0ae8dd689c0": {
      "model_module": "@jupyter-widgets/controls",
      "model_module_version": "1.1.0",
      "model_name": "LabelModel",
      "state": {
       "layout": "IPY_MODEL_cab1869c6d1a4ab0bb065fd99a0140ad",
       "style": "IPY_MODEL_604b16220d6048ea886bfe88261bdf85",
       "value": "Select the detector angles to plot."
      }
     },
     "818e25e4cb0b4fec929f25ceebdb701b": {
      "model_module": "@jupyter-widgets/controls",
      "model_module_version": "1.1.0",
      "model_name": "ToggleButtonsStyleModel",
      "state": {
       "button_width": "",
       "description_width": ""
      }
     },
     "81becc4e02154e5988583dc8e548ffe7": {
      "model_module": "@jupyter-widgets/controls",
      "model_module_version": "1.1.0",
      "model_name": "CheckboxModel",
      "state": {
       "description": "80°",
       "disabled": false,
       "layout": "IPY_MODEL_1bbba88cc5794cd1ad6b502097c723e9",
       "style": "IPY_MODEL_883d12cde93144b8aacc6b532828c93c",
       "value": true
      }
     },
     "81e8aa979cf448faa0b4652b1370aebf": {
      "model_module": "@jupyter-widgets/controls",
      "model_module_version": "1.1.0",
      "model_name": "LabelModel",
      "state": {
       "layout": "IPY_MODEL_44d3c41f87914e6faf2379147d847721",
       "style": "IPY_MODEL_ee9bc543bebf4a9d802fb91e73d1002f",
       "value": "Select the detector angles to plot."
      }
     },
     "820dfd5d872b4d25b9c5ff1f806a7c09": {
      "model_module": "@jupyter-widgets/base",
      "model_module_version": "1.0.0",
      "model_name": "LayoutModel",
      "state": {}
     },
     "823ff30f4d3648aca3a0c04c4d588ac5": {
      "model_module": "@jupyter-widgets/base",
      "model_module_version": "1.0.0",
      "model_name": "LayoutModel",
      "state": {}
     },
     "824e7021966a43c2bf175463c7dccf1a": {
      "model_module": "@jupyter-widgets/base",
      "model_module_version": "1.0.0",
      "model_name": "LayoutModel",
      "state": {}
     },
     "827c1636df9f4da3b9e26740c6b7ea19": {
      "model_module": "@jupyter-widgets/controls",
      "model_module_version": "1.1.0",
      "model_name": "ToggleButtonsStyleModel",
      "state": {
       "button_width": "",
       "description_width": ""
      }
     },
     "82f4562ddb4f464a84af5973022cc115": {
      "model_module": "@jupyter-widgets/base",
      "model_module_version": "1.0.0",
      "model_name": "LayoutModel",
      "state": {}
     },
     "82fdb15c3b674b6292666eda2a30a34b": {
      "model_module": "@jupyter-widgets/controls",
      "model_module_version": "1.1.0",
      "model_name": "DescriptionStyleModel",
      "state": {
       "description_width": ""
      }
     },
     "8343888407d44945ae56701f2e2d6087": {
      "model_module": "@jupyter-widgets/base",
      "model_module_version": "1.0.0",
      "model_name": "LayoutModel",
      "state": {}
     },
     "834837e439a34d1fa4c89cc1e7e18944": {
      "model_module": "@jupyter-widgets/controls",
      "model_module_version": "1.1.0",
      "model_name": "DescriptionStyleModel",
      "state": {
       "description_width": ""
      }
     },
     "8357b76f17874ba08f6bdb034c92d17c": {
      "model_module": "@jupyter-widgets/controls",
      "model_module_version": "1.1.0",
      "model_name": "CheckboxModel",
      "state": {
       "description": "30°",
       "disabled": false,
       "layout": "IPY_MODEL_b6afb6b7e2334252b59396dc1689c01a",
       "style": "IPY_MODEL_6301ab8a9251463b9ae21da49e69bd8c",
       "value": true
      }
     },
     "835d7d9788b141e0a8c4c72567a0dbba": {
      "model_module": "@jupyter-widgets/controls",
      "model_module_version": "1.1.0",
      "model_name": "CheckboxModel",
      "state": {
       "description": "135°",
       "disabled": false,
       "layout": "IPY_MODEL_156f2356d2f34394bd0ef2bbc9f4c5b0",
       "style": "IPY_MODEL_d31cfd5f4c5f4ce290a396164e3ede08",
       "value": true
      }
     },
     "8379ac78c8d5412a85b9e64f7b08a6f1": {
      "model_module": "@jupyter-widgets/controls",
      "model_module_version": "1.1.0",
      "model_name": "DescriptionStyleModel",
      "state": {
       "description_width": ""
      }
     },
     "83da75659ac840289928e9f49a3879c0": {
      "model_module": "@jupyter-widgets/controls",
      "model_module_version": "1.1.0",
      "model_name": "LabelModel",
      "state": {
       "layout": "IPY_MODEL_b430db24d0cc4ea682e31554dad28dba",
       "style": "IPY_MODEL_7eb78729568f4494b7bae7e61224211a",
       "value": "Select a detector type."
      }
     },
     "83ecc67c12c3465fb7265072610ef8c1": {
      "model_module": "@jupyter-widgets/controls",
      "model_module_version": "1.1.0",
      "model_name": "ToggleButtonsStyleModel",
      "state": {
       "button_width": "",
       "description_width": ""
      }
     },
     "840cc699269c453caf5255b94c01977e": {
      "model_module": "@jupyter-widgets/controls",
      "model_module_version": "1.1.0",
      "model_name": "DescriptionStyleModel",
      "state": {
       "description_width": ""
      }
     },
     "8457014aa34643e0a25eff2ec3f6e208": {
      "model_module": "@jupyter-widgets/controls",
      "model_module_version": "1.1.0",
      "model_name": "DescriptionStyleModel",
      "state": {
       "description_width": ""
      }
     },
     "846897d5be034873bc66dd9153ee457a": {
      "model_module": "@jupyter-widgets/controls",
      "model_module_version": "1.1.0",
      "model_name": "DescriptionStyleModel",
      "state": {
       "description_width": ""
      }
     },
     "84775fd52f4349bfb087eae261842288": {
      "model_module": "@jupyter-widgets/base",
      "model_module_version": "1.0.0",
      "model_name": "LayoutModel",
      "state": {}
     },
     "8477bf0938fe492299303381dfe3f762": {
      "model_module": "@jupyter-widgets/controls",
      "model_module_version": "1.1.0",
      "model_name": "DescriptionStyleModel",
      "state": {
       "description_width": ""
      }
     },
     "84966235c9f94f55bd3807f3ac243f7c": {
      "model_module": "@jupyter-widgets/base",
      "model_module_version": "1.0.0",
      "model_name": "LayoutModel",
      "state": {}
     },
     "849807397d89425fb0fc2d9642622f81": {
      "model_module": "@jupyter-widgets/controls",
      "model_module_version": "1.1.0",
      "model_name": "CheckboxModel",
      "state": {
       "description": "80°",
       "disabled": false,
       "layout": "IPY_MODEL_8842f6d0a5a0491caa3de1c702a30d3b",
       "style": "IPY_MODEL_be7c1d76834143be9f8d17152e78cf48",
       "value": true
      }
     },
     "849c532214cc497bb60d08a05f612cf5": {
      "model_module": "@jupyter-widgets/controls",
      "model_module_version": "1.1.0",
      "model_name": "DescriptionStyleModel",
      "state": {
       "description_width": ""
      }
     },
     "84bb49288518474f8493046eb8864d73": {
      "model_module": "@jupyter-widgets/controls",
      "model_module_version": "1.1.0",
      "model_name": "DescriptionStyleModel",
      "state": {
       "description_width": ""
      }
     },
     "84dfdf7825024918a2f24ccbc66d7913": {
      "model_module": "@jupyter-widgets/controls",
      "model_module_version": "1.1.0",
      "model_name": "CheckboxModel",
      "state": {
       "description": "12.7°",
       "disabled": false,
       "layout": "IPY_MODEL_20aad4b157da4f91bcbe7e43af14ce8c",
       "style": "IPY_MODEL_8379ac78c8d5412a85b9e64f7b08a6f1",
       "value": true
      }
     },
     "84e53c0a403b446f8596a153fde52f6a": {
      "model_module": "@jupyter-widgets/controls",
      "model_module_version": "1.1.0",
      "model_name": "DescriptionStyleModel",
      "state": {
       "description_width": ""
      }
     },
     "851d0803bb734f5cb54c8d637c457fd7": {
      "model_module": "@jupyter-widgets/base",
      "model_module_version": "1.0.0",
      "model_name": "LayoutModel",
      "state": {}
     },
     "8525d04351b346d6849bdfd4e5df9061": {
      "model_module": "@jupyter-widgets/controls",
      "model_module_version": "1.1.0",
      "model_name": "CheckboxModel",
      "state": {
       "description": "30°",
       "disabled": false,
       "layout": "IPY_MODEL_c15c7534a6b2413885d8a67c1a50e638",
       "style": "IPY_MODEL_68ea0c8040b549ddbf28ba9ea85eccfa",
       "value": true
      }
     },
     "8560a6f02b604d1bb2516e19618938a6": {
      "model_module": "@jupyter-widgets/controls",
      "model_module_version": "1.1.0",
      "model_name": "DescriptionStyleModel",
      "state": {
       "description_width": ""
      }
     },
     "858ff6cb153941629070dce3e8eab120": {
      "model_module": "@jupyter-widgets/base",
      "model_module_version": "1.0.0",
      "model_name": "LayoutModel",
      "state": {}
     },
     "85a02b30514244aaaf4f8a6d2a2c855b": {
      "model_module": "@jupyter-widgets/controls",
      "model_module_version": "1.1.0",
      "model_name": "DescriptionStyleModel",
      "state": {
       "description_width": ""
      }
     },
     "85abee9894c242df832fed752adf6975": {
      "model_module": "@jupyter-widgets/controls",
      "model_module_version": "1.1.0",
      "model_name": "CheckboxModel",
      "state": {
       "description": "30°",
       "disabled": false,
       "layout": "IPY_MODEL_71a09e2397ff40e9a0688a8973dcf554",
       "style": "IPY_MODEL_1acc6d4d97c0434783d57bd31fb7a9e1",
       "value": true
      }
     },
     "85f344bca2d2496c920f8d78b4cd6a77": {
      "model_module": "@jupyter-widgets/base",
      "model_module_version": "1.0.0",
      "model_name": "LayoutModel",
      "state": {}
     },
     "86238e72635d4f7cad9efa91d7a2965f": {
      "model_module": "@jupyter-widgets/controls",
      "model_module_version": "1.1.0",
      "model_name": "CheckboxModel",
      "state": {
       "description": "PHITS simulated",
       "disabled": false,
       "layout": "IPY_MODEL_62c0dff630c54a339359f4468590031f",
       "style": "IPY_MODEL_2fcfc7521e804977b7d8840c05e78ec0",
       "value": true
      }
     },
     "863893332e2e4a1ea3beeeb0e14183ca": {
      "model_module": "@jupyter-widgets/base",
      "model_module_version": "1.0.0",
      "model_name": "LayoutModel",
      "state": {}
     },
     "865a726d61fa47a29ff1bf6ab3cbb3c4": {
      "model_module": "@jupyter-widgets/controls",
      "model_module_version": "1.1.0",
      "model_name": "ToggleButtonsStyleModel",
      "state": {
       "button_width": "",
       "description_width": ""
      }
     },
     "868daa6a513c4483b385e724afc38db6": {
      "model_module": "@jupyter-widgets/base",
      "model_module_version": "1.0.0",
      "model_name": "LayoutModel",
      "state": {}
     },
     "86a57d3d44574ca59515581038955997": {
      "model_module": "@jupyter-widgets/controls",
      "model_module_version": "1.1.0",
      "model_name": "DescriptionStyleModel",
      "state": {
       "description_width": ""
      }
     },
     "86ed2da1ad2640358387caa4b333ce6a": {
      "model_module": "@jupyter-widgets/controls",
      "model_module_version": "1.1.0",
      "model_name": "CheckboxModel",
      "state": {
       "description": "60°",
       "disabled": false,
       "layout": "IPY_MODEL_0ebc3162b4da49f3a6d4f7aa043c52d9",
       "style": "IPY_MODEL_01cfdf7a65f047b8a4c617630919767c",
       "value": true
      }
     },
     "879adfc53a3c462a9c3d51cf55c1adbe": {
      "model_module": "@jupyter-widgets/base",
      "model_module_version": "1.0.0",
      "model_name": "LayoutModel",
      "state": {}
     },
     "87b03a1bc88941419b080527b7fd800c": {
      "model_module": "@jupyter-widgets/base",
      "model_module_version": "1.0.0",
      "model_name": "LayoutModel",
      "state": {}
     },
     "87b2e69948374bef9d1952c9e4a06f02": {
      "model_module": "@jupyter-widgets/base",
      "model_module_version": "1.0.0",
      "model_name": "LayoutModel",
      "state": {}
     },
     "87c459b78b604640909d7f732feb1b01": {
      "model_module": "@jupyter-widgets/base",
      "model_module_version": "1.0.0",
      "model_name": "LayoutModel",
      "state": {}
     },
     "87e57776ce1f4fd38470996dfe8cf8a5": {
      "model_module": "@jupyter-widgets/controls",
      "model_module_version": "1.1.0",
      "model_name": "DescriptionStyleModel",
      "state": {
       "description_width": ""
      }
     },
     "87e9155972b8434b99ed4584a1a99d02": {
      "model_module": "@jupyter-widgets/controls",
      "model_module_version": "1.1.0",
      "model_name": "DescriptionStyleModel",
      "state": {
       "description_width": ""
      }
     },
     "87f9d71af0c142c7b5caf8e56b9b61ca": {
      "model_module": "@jupyter-widgets/base",
      "model_module_version": "1.0.0",
      "model_name": "LayoutModel",
      "state": {}
     },
     "8822a20bc3f94d66ab0dbfabcd77d959": {
      "model_module": "@jupyter-widgets/base",
      "model_module_version": "1.0.0",
      "model_name": "LayoutModel",
      "state": {}
     },
     "883d12cde93144b8aacc6b532828c93c": {
      "model_module": "@jupyter-widgets/controls",
      "model_module_version": "1.1.0",
      "model_name": "DescriptionStyleModel",
      "state": {
       "description_width": ""
      }
     },
     "8842f6d0a5a0491caa3de1c702a30d3b": {
      "model_module": "@jupyter-widgets/base",
      "model_module_version": "1.0.0",
      "model_name": "LayoutModel",
      "state": {}
     },
     "884bb46f7a954ce38ebb5635c40a21d2": {
      "model_module": "@jupyter-widgets/controls",
      "model_module_version": "1.1.0",
      "model_name": "DescriptionStyleModel",
      "state": {
       "description_width": ""
      }
     },
     "8872a1a9dadf4cab9a7f77f2ceab455d": {
      "model_module": "@jupyter-widgets/controls",
      "model_module_version": "1.1.0",
      "model_name": "DescriptionStyleModel",
      "state": {
       "description_width": ""
      }
     },
     "88b9e2d96d2b4c85b34b1b94c3341b79": {
      "model_module": "@jupyter-widgets/controls",
      "model_module_version": "1.1.0",
      "model_name": "DescriptionStyleModel",
      "state": {
       "description_width": ""
      }
     },
     "88badcd0a32141a2ab5db6a4c4d052f2": {
      "model_module": "@jupyter-widgets/controls",
      "model_module_version": "1.1.0",
      "model_name": "ToggleButtonsModel",
      "state": {
       "_options_labels": [
        "N (¹n)",
        "NDC (¹n)",
        "P (¹H)",
        "D (²H)"
       ],
       "button_style": "",
       "description": "Particle:",
       "icons": [],
       "index": 0,
       "layout": "IPY_MODEL_a4943de1efff43359180753e2490e53e",
       "style": "IPY_MODEL_6edb3e911d44441787d5be281679c7dd",
       "tooltips": [
        "Neutron",
        "Back Target Neutron",
        "Proton",
        "Deuteron"
       ]
      }
     },
     "88c16b0b83314b6692444ec6c22caa7f": {
      "model_module": "@jupyter-widgets/base",
      "model_module_version": "1.0.0",
      "model_name": "LayoutModel",
      "state": {}
     },
     "88cc195b5f6e4901bf6a0871b8ac57ab": {
      "model_module": "@jupyter-widgets/controls",
      "model_module_version": "1.1.0",
      "model_name": "DescriptionStyleModel",
      "state": {
       "description_width": ""
      }
     },
     "88cfa02151b34707990f8b6da4262858": {
      "model_module": "@jupyter-widgets/base",
      "model_module_version": "1.0.0",
      "model_name": "LayoutModel",
      "state": {}
     },
     "88ec45f597ab4cb1bda495f8be2aab17": {
      "model_module": "@jupyter-widgets/controls",
      "model_module_version": "1.1.0",
      "model_name": "LabelModel",
      "state": {
       "layout": "IPY_MODEL_f5ba8d79d7ac4a828e421fac15ac3d7a",
       "style": "IPY_MODEL_bf33cefc9a6c478fadc7163128193859",
       "value": "Select upstream target mass thickness."
      }
     },
     "8916808f573642e7a06afcd05d759af7": {
      "model_module": "@jupyter-widgets/controls",
      "model_module_version": "1.1.0",
      "model_name": "ToggleButtonsStyleModel",
      "state": {
       "button_width": "",
       "description_width": ""
      }
     },
     "89466c02b68748f8a436e8f91ceaa1c8": {
      "model_module": "@jupyter-widgets/controls",
      "model_module_version": "1.1.0",
      "model_name": "DescriptionStyleModel",
      "state": {
       "description_width": ""
      }
     },
     "895dda77f3cb4de99e970f760d35c69c": {
      "model_module": "@jupyter-widgets/controls",
      "model_module_version": "1.1.0",
      "model_name": "LabelModel",
      "state": {
       "layout": "IPY_MODEL_f46e27ea0a14453184f192527874afb7",
       "style": "IPY_MODEL_4b395f57c6674e77b411277989eacd52",
       "value": "Select which secondary particle to plot spectra for."
      }
     },
     "89ba51ac47ff491199111cd3336fdf93": {
      "model_module": "@jupyter-widgets/controls",
      "model_module_version": "1.1.0",
      "model_name": "DescriptionStyleModel",
      "state": {
       "description_width": ""
      }
     },
     "89d72556cc82438b93784ed100e9f5fc": {
      "model_module": "@jupyter-widgets/base",
      "model_module_version": "1.0.0",
      "model_name": "LayoutModel",
      "state": {}
     },
     "89eda586ef094d9e9d2cbe3f9c364b32": {
      "model_module": "@jupyter-widgets/controls",
      "model_module_version": "1.1.0",
      "model_name": "DescriptionStyleModel",
      "state": {
       "description_width": ""
      }
     },
     "8a3b8c64c63d4cc69d1a3a9b9f3d1edb": {
      "model_module": "@jupyter-widgets/controls",
      "model_module_version": "1.1.0",
      "model_name": "DescriptionStyleModel",
      "state": {
       "description_width": ""
      }
     },
     "8a8a3c66e387487d94d40df8daf3abec": {
      "model_module": "@jupyter-widgets/controls",
      "model_module_version": "1.1.0",
      "model_name": "ToggleButtonsStyleModel",
      "state": {
       "button_width": "",
       "description_width": ""
      }
     },
     "8b0eefb472c1489c9499bfca2575e77e": {
      "model_module": "@jupyter-widgets/base",
      "model_module_version": "1.0.0",
      "model_name": "LayoutModel",
      "state": {}
     },
     "8b392c0326854e5f93df8f993af5595f": {
      "model_module": "@jupyter-widgets/base",
      "model_module_version": "1.0.0",
      "model_name": "LayoutModel",
      "state": {}
     },
     "8b54b65353c24895a98b93779b430b43": {
      "model_module": "@jupyter-widgets/base",
      "model_module_version": "1.0.0",
      "model_name": "LayoutModel",
      "state": {}
     },
     "8b743d4952b248f7a36eb844c64b0788": {
      "model_module": "@jupyter-widgets/controls",
      "model_module_version": "1.1.0",
      "model_name": "DescriptionStyleModel",
      "state": {
       "description_width": ""
      }
     },
     "8bf2cf1a62d347b9847c01e5c3ab98b8": {
      "model_module": "@jupyter-widgets/controls",
      "model_module_version": "1.1.0",
      "model_name": "LabelModel",
      "state": {
       "layout": "IPY_MODEL_e6eec0d2d30c40cf81d419a89626b114",
       "style": "IPY_MODEL_4524981b64cd4317b83daa649d2fcda4",
       "value": "Select the detector angles to plot."
      }
     },
     "8c34c6dc7c9546548bfd9254a9e4b92d": {
      "model_module": "@jupyter-widgets/controls",
      "model_module_version": "1.1.0",
      "model_name": "LabelModel",
      "state": {
       "layout": "IPY_MODEL_bbfdb7e282fb4cf7a8c4f45ee8f7158b",
       "style": "IPY_MODEL_61906c76664a41d496cc06fad94da3da",
       "value": "Select which secondary particle to plot spectra for."
      }
     },
     "8c95c3d262bc46fa8546c9b5b76e652e": {
      "model_module": "@jupyter-widgets/controls",
      "model_module_version": "1.1.0",
      "model_name": "ToggleButtonsStyleModel",
      "state": {
       "button_width": "",
       "description_width": ""
      }
     },
     "8d01d2f5c2274b13984798d5294ef8a5": {
      "model_module": "@jupyter-widgets/base",
      "model_module_version": "1.0.0",
      "model_name": "LayoutModel",
      "state": {}
     },
     "8d81ca9c965a499a8da95886d9bab78d": {
      "model_module": "@jupyter-widgets/controls",
      "model_module_version": "1.1.0",
      "model_name": "CheckboxModel",
      "state": {
       "description": "32.7°",
       "disabled": false,
       "layout": "IPY_MODEL_3619c3db11734ddeae8b2aa3f02f7023",
       "style": "IPY_MODEL_fe443f51af184df68b3c56cf06f77457",
       "value": true
      }
     },
     "8d940d9289e04dd1a510e39ef6872793": {
      "model_module": "@jupyter-widgets/base",
      "model_module_version": "1.0.0",
      "model_name": "LayoutModel",
      "state": {}
     },
     "8de4e7cb679a44798964a2c36f75b7a3": {
      "model_module": "@jupyter-widgets/base",
      "model_module_version": "1.0.0",
      "model_name": "LayoutModel",
      "state": {}
     },
     "8e0c320fd5734317bb5f0a4dcabe63e9": {
      "model_module": "@jupyter-widgets/controls",
      "model_module_version": "1.1.0",
      "model_name": "DescriptionStyleModel",
      "state": {
       "description_width": ""
      }
     },
     "8e7f2696ab6a4fb79016841dd4e1fa51": {
      "model_module": "@jupyter-widgets/controls",
      "model_module_version": "1.1.0",
      "model_name": "DescriptionStyleModel",
      "state": {
       "description_width": ""
      }
     },
     "8e949d24e566410ab568643397076396": {
      "model_module": "@jupyter-widgets/controls",
      "model_module_version": "1.1.0",
      "model_name": "ToggleButtonsStyleModel",
      "state": {
       "button_width": "",
       "description_width": ""
      }
     },
     "8ea468f235574c918668b197248fbf7d": {
      "model_module": "@jupyter-widgets/base",
      "model_module_version": "1.0.0",
      "model_name": "LayoutModel",
      "state": {}
     },
     "8ec9509eb399439fb841e212539d7916": {
      "model_module": "@jupyter-widgets/controls",
      "model_module_version": "1.1.0",
      "model_name": "DescriptionStyleModel",
      "state": {
       "description_width": ""
      }
     },
     "8ed8b650b26e42d68204f2548436e14e": {
      "model_module": "@jupyter-widgets/controls",
      "model_module_version": "1.1.0",
      "model_name": "LabelModel",
      "state": {
       "layout": "IPY_MODEL_96f8ada5036e47b0bc92769bee94fae2",
       "style": "IPY_MODEL_e9543b4dab854cd4b3dc337b87fddb83",
       "value": "Select which secondary particle to plot spectra for."
      }
     },
     "8f29115be0cc42ca9b36a84cc9c75532": {
      "model_module": "@jupyter-widgets/controls",
      "model_module_version": "1.1.0",
      "model_name": "DescriptionStyleModel",
      "state": {
       "description_width": ""
      }
     },
     "8f66d762f6184414a9714cfc226381c1": {
      "model_module": "@jupyter-widgets/base",
      "model_module_version": "1.0.0",
      "model_name": "LayoutModel",
      "state": {}
     },
     "901472da340a4126b55be6bd6bcbdd1e": {
      "model_module": "@jupyter-widgets/controls",
      "model_module_version": "1.1.0",
      "model_name": "CheckboxModel",
      "state": {
       "description": "Experiment",
       "disabled": false,
       "layout": "IPY_MODEL_ebf7af92aa6d4d2d90ea7cdae6b2bd84",
       "style": "IPY_MODEL_8a3b8c64c63d4cc69d1a3a9b9f3d1edb",
       "value": true
      }
     },
     "90182fc3b98247dda06477453d580c02": {
      "model_module": "@jupyter-widgets/controls",
      "model_module_version": "1.1.0",
      "model_name": "DescriptionStyleModel",
      "state": {
       "description_width": ""
      }
     },
     "9068b5b316bf413bac4f0c0b2795de4c": {
      "model_module": "@jupyter-widgets/base",
      "model_module_version": "1.0.0",
      "model_name": "LayoutModel",
      "state": {}
     },
     "90d0ad0b2cd144658a89409c7d844d9d": {
      "model_module": "@jupyter-widgets/base",
      "model_module_version": "1.0.0",
      "model_name": "LayoutModel",
      "state": {}
     },
     "90ffbeb101af4bbd90b16067566474bf": {
      "model_module": "@jupyter-widgets/controls",
      "model_module_version": "1.1.0",
      "model_name": "ToggleButtonsModel",
      "state": {
       "_options_labels": [
        "N (¹n)",
        "NDC (¹n)",
        "P (¹H)",
        "D (²H)"
       ],
       "button_style": "",
       "description": "Type:",
       "icons": [],
       "index": 0,
       "layout": "IPY_MODEL_b607a8a1011f41e79657979eed2d5d47",
       "style": "IPY_MODEL_25a2ab9d4a05493d9ee1a481e7e8e612",
       "tooltips": [
        "Neutron",
        "Back Target Neutron",
        "Proton",
        "Deuteron"
       ]
      }
     },
     "914b47eafde94b19a9df65661a32de0e": {
      "model_module": "@jupyter-widgets/controls",
      "model_module_version": "1.1.0",
      "model_name": "LabelModel",
      "state": {
       "layout": "IPY_MODEL_fa76e56acdcd41718e0b25ba2bd643c5",
       "style": "IPY_MODEL_d8795ba803974c8c92ae1d6df80faf43",
       "value": "Select upstream target material and thickness."
      }
     },
     "915d6af61552476999a0a8e8c145399a": {
      "model_module": "@jupyter-widgets/controls",
      "model_module_version": "1.1.0",
      "model_name": "CheckboxModel",
      "state": {
       "description": "PHITS simulated",
       "disabled": false,
       "layout": "IPY_MODEL_5d11473ee0a449d0b93f46057bb10c7e",
       "style": "IPY_MODEL_c0499be5ef594524a3196add15ece8df",
       "value": true
      }
     },
     "9168e8c662ad4823a334127694bb01e1": {
      "model_module": "@jupyter-widgets/controls",
      "model_module_version": "1.1.0",
      "model_name": "ButtonModel",
      "state": {
       "button_style": "success",
       "description": "Update plot",
       "icon": "paint-brush",
       "layout": "IPY_MODEL_c760664bc998443bb84932afb31eaad6",
       "style": "IPY_MODEL_7356676fed21406e8f081dbe6e0a505a",
       "tooltip": "Click to redraw the plot below with updated options from above."
      }
     },
     "9180d374d3b3454293724d57c1893023": {
      "model_module": "@jupyter-widgets/controls",
      "model_module_version": "1.1.0",
      "model_name": "DescriptionStyleModel",
      "state": {
       "description_width": ""
      }
     },
     "9205c477a1be4469b22d1997d942407d": {
      "model_module": "@jupyter-widgets/base",
      "model_module_version": "1.0.0",
      "model_name": "LayoutModel",
      "state": {}
     },
     "92154e0fd2d046869b4d0e4406a04164": {
      "model_module": "@jupyter-widgets/controls",
      "model_module_version": "1.1.0",
      "model_name": "DescriptionStyleModel",
      "state": {
       "description_width": ""
      }
     },
     "92189b9cf45c4ed08fd8dd8ba2c3c3cf": {
      "model_module": "@jupyter-widgets/controls",
      "model_module_version": "1.1.0",
      "model_name": "CheckboxModel",
      "state": {
       "description": "45°",
       "disabled": false,
       "layout": "IPY_MODEL_fb2e1b8ea9c74243b274d3c0c73fb9f8",
       "style": "IPY_MODEL_c8211cb6300e44fa966325786ab29b71",
       "value": true
      }
     },
     "922f9e22784b4ae2bb657e36623d08f7": {
      "model_module": "@jupyter-widgets/base",
      "model_module_version": "1.0.0",
      "model_name": "LayoutModel",
      "state": {}
     },
     "92968da7fb804ac7905e1727770190f9": {
      "model_module": "@jupyter-widgets/controls",
      "model_module_version": "1.1.0",
      "model_name": "CheckboxModel",
      "state": {
       "description": "30°",
       "disabled": false,
       "layout": "IPY_MODEL_4b313ade035346c08238c3d82576da2f",
       "style": "IPY_MODEL_bcb669779e704f5bbc7005e2a8fe5f34",
       "value": true
      }
     },
     "92f2d639f6fa407dbcd48928ff1edcf4": {
      "model_module": "@jupyter-widgets/controls",
      "model_module_version": "1.1.0",
      "model_name": "LabelModel",
      "state": {
       "layout": "IPY_MODEL_48d6a29de3fe4b21a4933651013ca17c",
       "style": "IPY_MODEL_a410023c692b43789d99c69fccbf3d0c",
       "value": "Select the detector angles to plot."
      }
     },
     "93187ff29a454bffa64ddd10403e4b64": {
      "model_module": "@jupyter-widgets/controls",
      "model_module_version": "1.1.0",
      "model_name": "DescriptionStyleModel",
      "state": {
       "description_width": ""
      }
     },
     "933c72475e084d81ac77d6da3209cd71": {
      "model_module": "@jupyter-widgets/base",
      "model_module_version": "1.0.0",
      "model_name": "LayoutModel",
      "state": {}
     },
     "93943ba745a54fbdb76d8f83ca68e798": {
      "model_module": "@jupyter-widgets/controls",
      "model_module_version": "1.1.0",
      "model_name": "CheckboxModel",
      "state": {
       "description": "60°",
       "disabled": false,
       "layout": "IPY_MODEL_35c7769a9a5642218152dd0a873130f5",
       "style": "IPY_MODEL_82fdb15c3b674b6292666eda2a30a34b",
       "value": true
      }
     },
     "94435b3fbd774ecb9620eeafcda40e7b": {
      "model_module": "@jupyter-widgets/base",
      "model_module_version": "1.0.0",
      "model_name": "LayoutModel",
      "state": {}
     },
     "94458a1ede7b40a59b7adde0d00b199b": {
      "model_module": "@jupyter-widgets/base",
      "model_module_version": "1.0.0",
      "model_name": "LayoutModel",
      "state": {}
     },
     "945fd25c30d0494197276661c03dc671": {
      "model_module": "@jupyter-widgets/base",
      "model_module_version": "1.0.0",
      "model_name": "LayoutModel",
      "state": {}
     },
     "94b023f46072463da950114129668831": {
      "model_module": "@jupyter-widgets/controls",
      "model_module_version": "1.1.0",
      "model_name": "DescriptionStyleModel",
      "state": {
       "description_width": ""
      }
     },
     "94cb113af46b4b27bba6ea5bb092f01a": {
      "model_module": "@jupyter-widgets/controls",
      "model_module_version": "1.1.0",
      "model_name": "LabelModel",
      "state": {
       "layout": "IPY_MODEL_17bae485d4da4ee1af714e9f524d5da1",
       "style": "IPY_MODEL_fcdc8c835ef542a39bbe81e117c15446",
       "value": "Select how data sets for each detector should be spaced apart (if at all)."
      }
     },
     "94d08ba6cbcb4a43af16990ab2c249cd": {
      "model_module": "@jupyter-widgets/controls",
      "model_module_version": "1.1.0",
      "model_name": "CheckboxModel",
      "state": {
       "description": "80°",
       "disabled": false,
       "layout": "IPY_MODEL_d9cc632b94b840ef8142b19040133b67",
       "style": "IPY_MODEL_44e313e4526743ceb8af6da255f65ad1",
       "value": true
      }
     },
     "94da22d978d74dd581dee928434555b2": {
      "model_module": "@jupyter-widgets/controls",
      "model_module_version": "1.1.0",
      "model_name": "CheckboxModel",
      "state": {
       "description": "80°",
       "disabled": false,
       "layout": "IPY_MODEL_6875058ca28d415ebf3402c09385b7de",
       "style": "IPY_MODEL_05d44f7bd9aa41a9b3174967dca3017e",
       "value": true
      }
     },
     "94f922cfd08645dbadb59353c980e910": {
      "model_module": "@jupyter-widgets/controls",
      "model_module_version": "1.1.0",
      "model_name": "DescriptionStyleModel",
      "state": {
       "description_width": ""
      }
     },
     "95bf02f7406a4d3195351765c5517c43": {
      "model_module": "@jupyter-widgets/controls",
      "model_module_version": "1.1.0",
      "model_name": "DescriptionStyleModel",
      "state": {
       "description_width": ""
      }
     },
     "95fa7347cc184ca68dc4e17717d1ea43": {
      "model_module": "@jupyter-widgets/controls",
      "model_module_version": "1.1.0",
      "model_name": "DescriptionStyleModel",
      "state": {
       "description_width": ""
      }
     },
     "9615104881154fcfa004fddcec99c116": {
      "model_module": "@jupyter-widgets/controls",
      "model_module_version": "1.1.0",
      "model_name": "DescriptionStyleModel",
      "state": {
       "description_width": ""
      }
     },
     "9628c678b21e4fbd866813c76412cb27": {
      "model_module": "@jupyter-widgets/controls",
      "model_module_version": "1.1.0",
      "model_name": "LabelModel",
      "state": {
       "layout": "IPY_MODEL_34f5e5e0307f417ea79d6d97d9afd5f1",
       "style": "IPY_MODEL_a3226dc7be214e14b368365138b0cf25",
       "value": "Select the detector angles to plot."
      }
     },
     "967b141189f74ccab36ab8014846abc2": {
      "model_module": "@jupyter-widgets/controls",
      "model_module_version": "1.1.0",
      "model_name": "ToggleButtonsStyleModel",
      "state": {
       "button_width": "",
       "description_width": ""
      }
     },
     "968d972512a14609a9d52d3d9e1341ca": {
      "model_module": "@jupyter-widgets/controls",
      "model_module_version": "1.1.0",
      "model_name": "DescriptionStyleModel",
      "state": {
       "description_width": ""
      }
     },
     "96da12b143364498a1f8e79fa09113ba": {
      "model_module": "@jupyter-widgets/base",
      "model_module_version": "1.0.0",
      "model_name": "LayoutModel",
      "state": {}
     },
     "96f8ada5036e47b0bc92769bee94fae2": {
      "model_module": "@jupyter-widgets/base",
      "model_module_version": "1.0.0",
      "model_name": "LayoutModel",
      "state": {}
     },
     "971f0dbff63f4d7081c8ea05f263b00d": {
      "model_module": "@jupyter-widgets/controls",
      "model_module_version": "1.1.0",
      "model_name": "ToggleButtonsModel",
      "state": {
       "_options_labels": [
        "N (¹n)",
        "NDC (¹n)",
        "P (¹H)",
        "D (²H)",
        "T (³H)",
        "S (³He)",
        "A (⁴He)"
       ],
       "button_style": "",
       "description": "Type:",
       "icons": [],
       "index": 3,
       "layout": "IPY_MODEL_1d72fdf622c6443bb22fe880f8a2aa5c",
       "style": "IPY_MODEL_8c95c3d262bc46fa8546c9b5b76e652e",
       "tooltips": [
        "Neutron",
        "Back Target Neutron",
        "Proton",
        "Deuteron",
        "Triton",
        "Helium-3",
        "Helium-4"
       ]
      }
     },
     "9730523592704f18b6013cd438afad49": {
      "model_module": "@jupyter-widgets/controls",
      "model_module_version": "1.1.0",
      "model_name": "LabelModel",
      "state": {
       "layout": "IPY_MODEL_89d72556cc82438b93784ed100e9f5fc",
       "style": "IPY_MODEL_078ada0077324c248ec853179331469f",
       "value": "Select projectile ion energy."
      }
     },
     "978237f274d2476b8418648f0228b9e7": {
      "model_module": "@jupyter-widgets/base",
      "model_module_version": "1.0.0",
      "model_name": "LayoutModel",
      "state": {}
     },
     "97943902601a413d9513a4e7bec6f8a8": {
      "model_module": "@jupyter-widgets/base",
      "model_module_version": "1.0.0",
      "model_name": "LayoutModel",
      "state": {}
     },
     "97954afcbea94f4f9fc07ecfe9a9f91d": {
      "model_module": "@jupyter-widgets/base",
      "model_module_version": "1.0.0",
      "model_name": "LayoutModel",
      "state": {}
     },
     "9796719f62764bd8bbf944fa40f90650": {
      "model_module": "@jupyter-widgets/controls",
      "model_module_version": "1.1.0",
      "model_name": "CheckboxModel",
      "state": {
       "description": "45°",
       "disabled": false,
       "layout": "IPY_MODEL_2fdaee955b814f53adcb0097d9ca7d0a",
       "style": "IPY_MODEL_03712579db5b417eb16f345eff7e67a8",
       "value": true
      }
     },
     "97998ff7c23540418583446728836fec": {
      "model_module": "@jupyter-widgets/controls",
      "model_module_version": "1.1.0",
      "model_name": "DescriptionStyleModel",
      "state": {
       "description_width": ""
      }
     },
     "97c4e769ee4341f494407bde8dbce5c5": {
      "model_module": "@jupyter-widgets/controls",
      "model_module_version": "1.1.0",
      "model_name": "LabelModel",
      "state": {
       "layout": "IPY_MODEL_fa1bd53915424fa1ab587c57ab48f080",
       "style": "IPY_MODEL_aa1a47aaec0f414d8480b69918503e93",
       "value": "Select upstream target mass thickness."
      }
     },
     "97e099afd8e64083a0da0bf3c9205a3b": {
      "model_module": "@jupyter-widgets/controls",
      "model_module_version": "1.1.0",
      "model_name": "CheckboxModel",
      "state": {
       "description": "60°",
       "disabled": false,
       "layout": "IPY_MODEL_2c1995101fa74608bb3c56edc2c8d1c6",
       "style": "IPY_MODEL_0f64b367e84944c6bb9f39de60b04729",
       "value": true
      }
     },
     "981cdde308eb4481983d9a466e0bac36": {
      "model_module": "@jupyter-widgets/base",
      "model_module_version": "1.0.0",
      "model_name": "LayoutModel",
      "state": {}
     },
     "98237bf22d114ff39d165b4678e54734": {
      "model_module": "@jupyter-widgets/controls",
      "model_module_version": "1.1.0",
      "model_name": "DescriptionStyleModel",
      "state": {
       "description_width": ""
      }
     },
     "9871518fbb424f9fb82122b1118f1676": {
      "model_module": "@jupyter-widgets/base",
      "model_module_version": "1.0.0",
      "model_name": "LayoutModel",
      "state": {}
     },
     "9872c102cabd49cdb5f48220b334548f": {
      "model_module": "@jupyter-widgets/base",
      "model_module_version": "1.0.0",
      "model_name": "LayoutModel",
      "state": {}
     },
     "98753889ae644f97a385da2841d81ec5": {
      "model_module": "@jupyter-widgets/base",
      "model_module_version": "1.0.0",
      "model_name": "LayoutModel",
      "state": {}
     },
     "98c085b49e204c9f976cb4af179fae94": {
      "model_module": "@jupyter-widgets/controls",
      "model_module_version": "1.1.0",
      "model_name": "DescriptionStyleModel",
      "state": {
       "description_width": ""
      }
     },
     "9935277d35c1402bb49416768a7b9ce1": {
      "model_module": "@jupyter-widgets/base",
      "model_module_version": "1.0.0",
      "model_name": "LayoutModel",
      "state": {}
     },
     "994c2a00c9b5436b91b975bafd760584": {
      "model_module": "@jupyter-widgets/base",
      "model_module_version": "1.0.0",
      "model_name": "LayoutModel",
      "state": {}
     },
     "99b698eb56d747a4b5796dc5533fe444": {
      "model_module": "@jupyter-widgets/base",
      "model_module_version": "1.0.0",
      "model_name": "LayoutModel",
      "state": {}
     },
     "9a0974ca170a48b6b4a0fcc84a2a35a4": {
      "model_module": "@jupyter-widgets/controls",
      "model_module_version": "1.1.0",
      "model_name": "ToggleButtonsStyleModel",
      "state": {
       "button_width": "",
       "description_width": ""
      }
     },
     "9a1f984c3c80443292067dab89b6fd20": {
      "model_module": "@jupyter-widgets/base",
      "model_module_version": "1.0.0",
      "model_name": "LayoutModel",
      "state": {}
     },
     "9a4aa930bbde477c81a91da2625757c7": {
      "model_module": "@jupyter-widgets/controls",
      "model_module_version": "1.1.0",
      "model_name": "CheckboxModel",
      "state": {
       "description": "60°",
       "disabled": false,
       "layout": "IPY_MODEL_aa9ce7dc21004692afd0bf9d3f368c59",
       "style": "IPY_MODEL_bb9f995dec93484fbc27fa706f5fd3f1",
       "value": true
      }
     },
     "9a782c49ef184e6187246afe41090552": {
      "model_module": "@jupyter-widgets/controls",
      "model_module_version": "1.1.0",
      "model_name": "DescriptionStyleModel",
      "state": {
       "description_width": ""
      }
     },
     "9b14279d18ab4f00abe0cb962671e9ff": {
      "model_module": "@jupyter-widgets/controls",
      "model_module_version": "1.1.0",
      "model_name": "CheckboxModel",
      "state": {
       "description": "10°",
       "disabled": false,
       "layout": "IPY_MODEL_1ea81ce3204a4d4c865e413aa9de17b2",
       "style": "IPY_MODEL_baa9ddbc265546269ba4c9d6de39ae5a",
       "value": true
      }
     },
     "9b80b536f8134456afcfab7a234face8": {
      "model_module": "@jupyter-widgets/controls",
      "model_module_version": "1.1.0",
      "model_name": "DescriptionStyleModel",
      "state": {
       "description_width": ""
      }
     },
     "9b930e4743cd49ad892e2565cb83d894": {
      "model_module": "@jupyter-widgets/controls",
      "model_module_version": "1.1.0",
      "model_name": "DescriptionStyleModel",
      "state": {
       "description_width": ""
      }
     },
     "9bc2ba7a19f74af4ae4a126910a7c81b": {
      "model_module": "@jupyter-widgets/controls",
      "model_module_version": "1.1.0",
      "model_name": "DescriptionStyleModel",
      "state": {
       "description_width": ""
      }
     },
     "9c0fbf4338534d459b3867084725c7ec": {
      "model_module": "@jupyter-widgets/controls",
      "model_module_version": "1.1.0",
      "model_name": "DescriptionStyleModel",
      "state": {
       "description_width": ""
      }
     },
     "9c2341159be54ea0a13ff26b90f2c396": {
      "model_module": "@jupyter-widgets/base",
      "model_module_version": "1.0.0",
      "model_name": "LayoutModel",
      "state": {}
     },
     "9c3d1a868c3744808e6abb20b62e5b3c": {
      "model_module": "@jupyter-widgets/base",
      "model_module_version": "1.0.0",
      "model_name": "LayoutModel",
      "state": {}
     },
     "9c67b4d755aa4501a1ed4aaaa4694fee": {
      "model_module": "@jupyter-widgets/controls",
      "model_module_version": "1.1.0",
      "model_name": "LabelModel",
      "state": {
       "layout": "IPY_MODEL_d656614de7e54e42afa5eab1410a0eca",
       "style": "IPY_MODEL_c55be318b618401aa49426e531b98d5a",
       "value": "Select which secondary particle to plot spectra for."
      }
     },
     "9c750331100c4339ba5cdad0d8689798": {
      "model_module": "@jupyter-widgets/controls",
      "model_module_version": "1.1.0",
      "model_name": "DescriptionStyleModel",
      "state": {
       "description_width": ""
      }
     },
     "9d2ca49e71084fcebda49271927b97a7": {
      "model_module": "@jupyter-widgets/controls",
      "model_module_version": "1.1.0",
      "model_name": "CheckboxModel",
      "state": {
       "description": "10°",
       "disabled": false,
       "layout": "IPY_MODEL_676c9ec4db9c4580a6d02dba2ee14cc3",
       "style": "IPY_MODEL_236665dcbcc84145aec131dc47a4833b",
       "value": true
      }
     },
     "9d4af918c79e4649b91b52b135f6205d": {
      "model_module": "@jupyter-widgets/controls",
      "model_module_version": "1.1.0",
      "model_name": "DescriptionStyleModel",
      "state": {
       "description_width": ""
      }
     },
     "9d7a1428bf78413ab9bb86941080f268": {
      "model_module": "@jupyter-widgets/base",
      "model_module_version": "1.0.0",
      "model_name": "LayoutModel",
      "state": {}
     },
     "9dd994dfe1494c828611dab8b7c1157e": {
      "model_module": "@jupyter-widgets/base",
      "model_module_version": "1.0.0",
      "model_name": "LayoutModel",
      "state": {}
     },
     "9de6726f2e004bd3877caf19cbe4426f": {
      "model_module": "@jupyter-widgets/controls",
      "model_module_version": "1.1.0",
      "model_name": "DescriptionStyleModel",
      "state": {
       "description_width": ""
      }
     },
     "9df5e30e52af4895a58f44d6d6a0c613": {
      "model_module": "@jupyter-widgets/controls",
      "model_module_version": "1.1.0",
      "model_name": "LabelModel",
      "state": {
       "layout": "IPY_MODEL_7226f67f91d7466385caf9785e71e0e7",
       "style": "IPY_MODEL_5eae71481201469a9f41f176634ff53e",
       "value": "Select which secondary particle to plot spectra for."
      }
     },
     "9e2c6f63a265431299c9ca9a10934306": {
      "model_module": "@jupyter-widgets/controls",
      "model_module_version": "1.1.0",
      "model_name": "ToggleButtonsModel",
      "state": {
       "_options_labels": [
        "400 MeV",
        "800 MeV",
        "2500 MeV"
       ],
       "button_style": "",
       "description": "Energy:",
       "icons": [],
       "index": 0,
       "layout": "IPY_MODEL_71b7722d056a4b0f8361f2d9d50b1a9f",
       "style": "IPY_MODEL_db5db616c7af47308fb873261c5e5e7b",
       "tooltips": [
        "lowest energy",
        "middle energy",
        "highest energy"
       ]
      }
     },
     "9e2e9bfe6f124f16b3ccb2a441fd477c": {
      "model_module": "@jupyter-widgets/controls",
      "model_module_version": "1.1.0",
      "model_name": "LabelModel",
      "state": {
       "layout": "IPY_MODEL_da1ae399ff994bd6917366e2a1af5b33",
       "style": "IPY_MODEL_431cb5160efb42c1be6d872d56c3b795",
       "value": "Select which secondary particle to plot spectra for."
      }
     },
     "9e70dabc9cec4089a4b8308037cdecb1": {
      "model_module": "@jupyter-widgets/base",
      "model_module_version": "1.0.0",
      "model_name": "LayoutModel",
      "state": {}
     },
     "9e76e71b2ce946968f7ea2d6d5db2441": {
      "model_module": "@jupyter-widgets/base",
      "model_module_version": "1.0.0",
      "model_name": "LayoutModel",
      "state": {}
     },
     "9e9d3da6a114417db755081c1119c914": {
      "model_module": "@jupyter-widgets/controls",
      "model_module_version": "1.1.0",
      "model_name": "ToggleButtonsModel",
      "state": {
       "_options_labels": [
        "N (¹n)",
        "NDC (¹n)",
        "P (¹H)",
        "D (²H)",
        "T (³H)",
        "S (³He)",
        "A (⁴He)"
       ],
       "button_style": "",
       "description": "Type:",
       "icons": [],
       "index": 0,
       "layout": "IPY_MODEL_61335b6f99b3431594c37c7bacfd72c9",
       "style": "IPY_MODEL_1abe2f30b79f4701a9f94cf1a438e122",
       "tooltips": [
        "Neutron",
        "Back Target Neutron",
        "Proton",
        "Deuteron",
        "Triton",
        "Helium-3",
        "Helium-4"
       ]
      }
     },
     "9eba4cf6274048188693b18ae48e4e52": {
      "model_module": "@jupyter-widgets/base",
      "model_module_version": "1.0.0",
      "model_name": "LayoutModel",
      "state": {}
     },
     "9ebc4e97c55b459f85d9b769bce74ce0": {
      "model_module": "@jupyter-widgets/base",
      "model_module_version": "1.0.0",
      "model_name": "LayoutModel",
      "state": {}
     },
     "9ecc5a915ae742e0a270e8e6ff0bf4bd": {
      "model_module": "@jupyter-widgets/base",
      "model_module_version": "1.0.0",
      "model_name": "LayoutModel",
      "state": {}
     },
     "9f10af26b0b44a58a854ace8e990c731": {
      "model_module": "@jupyter-widgets/base",
      "model_module_version": "1.0.0",
      "model_name": "LayoutModel",
      "state": {}
     },
     "9f147ccc43bd4e22aacf7fd9d70c69e9": {
      "model_module": "@jupyter-widgets/controls",
      "model_module_version": "1.1.0",
      "model_name": "LabelModel",
      "state": {
       "layout": "IPY_MODEL_de211141ed4840f4b0dbc62e00d0f764",
       "style": "IPY_MODEL_0cc5ed2fc18449fb9cdba5cdc70bab69",
       "value": "Select which secondary particle to plot spectra for."
      }
     },
     "9f3f0ab9fa1442c490c91b91cf27c121": {
      "model_module": "@jupyter-widgets/controls",
      "model_module_version": "1.1.0",
      "model_name": "LabelModel",
      "state": {
       "layout": "IPY_MODEL_2e428f21ef224ed19a67939436536d65",
       "style": "IPY_MODEL_1e80c9c610b14a8cbdf136d7def2e4a6",
       "value": "Select which secondary particle to plot spectra for."
      }
     },
     "9fb91dc68d1e42289c11d12858d52439": {
      "model_module": "@jupyter-widgets/controls",
      "model_module_version": "1.1.0",
      "model_name": "DescriptionStyleModel",
      "state": {
       "description_width": ""
      }
     },
     "9fc3301f6be746b3b12b26b043f73985": {
      "model_module": "@jupyter-widgets/base",
      "model_module_version": "1.0.0",
      "model_name": "LayoutModel",
      "state": {}
     },
     "9ff423d239b843e9837184497a85d68c": {
      "model_module": "@jupyter-widgets/controls",
      "model_module_version": "1.1.0",
      "model_name": "DescriptionStyleModel",
      "state": {
       "description_width": ""
      }
     },
     "a01d9af1cbfb457ca40b4d16191dd9f8": {
      "model_module": "@jupyter-widgets/base",
      "model_module_version": "1.0.0",
      "model_name": "LayoutModel",
      "state": {}
     },
     "a02324d66cae4bcdad77709c8ea30df5": {
      "model_module": "@jupyter-widgets/controls",
      "model_module_version": "1.1.0",
      "model_name": "DescriptionStyleModel",
      "state": {
       "description_width": ""
      }
     },
     "a02fa49cb30d40c4823416bf6ad3c976": {
      "model_module": "@jupyter-widgets/controls",
      "model_module_version": "1.1.0",
      "model_name": "DescriptionStyleModel",
      "state": {
       "description_width": ""
      }
     },
     "a03b342b4ee6435789e02660b392b643": {
      "model_module": "@jupyter-widgets/controls",
      "model_module_version": "1.1.0",
      "model_name": "CheckboxModel",
      "state": {
       "description": "32.7°",
       "disabled": false,
       "layout": "IPY_MODEL_5f80d1cf22234e7594f18187386c28aa",
       "style": "IPY_MODEL_7b3e842f80114890b82b120bf12a2673",
       "value": true
      }
     },
     "a04090affc934abca24a590fc6019c01": {
      "model_module": "@jupyter-widgets/base",
      "model_module_version": "1.0.0",
      "model_name": "LayoutModel",
      "state": {}
     },
     "a04b56b70c6047e7b67fb614b236f0a7": {
      "model_module": "@jupyter-widgets/controls",
      "model_module_version": "1.1.0",
      "model_name": "DescriptionStyleModel",
      "state": {
       "description_width": ""
      }
     },
     "a05914b55e5d40649e03350e6eb3630a": {
      "model_module": "@jupyter-widgets/controls",
      "model_module_version": "1.1.0",
      "model_name": "DescriptionStyleModel",
      "state": {
       "description_width": ""
      }
     },
     "a08b30dbe8df48e1b9b7d32efe18f57e": {
      "model_module": "@jupyter-widgets/base",
      "model_module_version": "1.0.0",
      "model_name": "LayoutModel",
      "state": {}
     },
     "a0f6ed37f9f14faeb429c96a040ff9f6": {
      "model_module": "@jupyter-widgets/controls",
      "model_module_version": "1.1.0",
      "model_name": "LabelModel",
      "state": {
       "layout": "IPY_MODEL_6d95059981624950879bdfebbe0d9296",
       "style": "IPY_MODEL_45b9d236dbbf4356aafdb480f24a11d5",
       "value": "Select projectile ion species and energy."
      }
     },
     "a0f8ff67cce34c4a927a05fb1ee2c88f": {
      "model_module": "@jupyter-widgets/controls",
      "model_module_version": "1.1.0",
      "model_name": "DescriptionStyleModel",
      "state": {
       "description_width": ""
      }
     },
     "a0fb516231fc4c46bebbabd867d9dd0e": {
      "model_module": "@jupyter-widgets/controls",
      "model_module_version": "1.1.0",
      "model_name": "DescriptionStyleModel",
      "state": {
       "description_width": ""
      }
     },
     "a0fb67ecb4a942b7a78ee7c2ecd1bea7": {
      "model_module": "@jupyter-widgets/controls",
      "model_module_version": "1.1.0",
      "model_name": "LabelModel",
      "state": {
       "layout": "IPY_MODEL_feb773bb2249497ab65e8cae32c67021",
       "style": "IPY_MODEL_39282a4457f7401399ee1d29a15a961f",
       "value": "Select the detector angles to plot."
      }
     },
     "a1508f29519446cb89354baa0c079653": {
      "model_module": "@jupyter-widgets/base",
      "model_module_version": "1.0.0",
      "model_name": "LayoutModel",
      "state": {}
     },
     "a157ce7d887847e0a3fed77d2b0f750a": {
      "model_module": "@jupyter-widgets/controls",
      "model_module_version": "1.1.0",
      "model_name": "DescriptionStyleModel",
      "state": {
       "description_width": ""
      }
     },
     "a170331431ec446bb37fa1103c649671": {
      "model_module": "@jupyter-widgets/base",
      "model_module_version": "1.0.0",
      "model_name": "LayoutModel",
      "state": {}
     },
     "a17e18225617407bad9ea54d14d3ff8f": {
      "model_module": "@jupyter-widgets/base",
      "model_module_version": "1.0.0",
      "model_name": "LayoutModel",
      "state": {}
     },
     "a17e5aded5b64ba3a833ad45ea3a34bf": {
      "model_module": "@jupyter-widgets/controls",
      "model_module_version": "1.1.0",
      "model_name": "DescriptionStyleModel",
      "state": {
       "description_width": ""
      }
     },
     "a1859d0bd77940e8bff854c9cf2fdc28": {
      "model_module": "@jupyter-widgets/controls",
      "model_module_version": "1.1.0",
      "model_name": "ToggleButtonsModel",
      "state": {
       "_options_labels": [
        "H",
        "He",
        "C",
        "Si",
        "Fe"
       ],
       "button_style": "",
       "description": "Ion:",
       "icons": [],
       "index": 0,
       "layout": "IPY_MODEL_87b03a1bc88941419b080527b7fd800c",
       "style": "IPY_MODEL_00f95cd13fc5493dbd84db161aa668d2",
       "tooltips": [
        "Hydrogen",
        "Helium",
        "Carbon",
        "Silicon",
        "Iron"
       ]
      }
     },
     "a1ba6864738b4cca8debf4d5215d5213": {
      "model_module": "@jupyter-widgets/base",
      "model_module_version": "1.0.0",
      "model_name": "LayoutModel",
      "state": {}
     },
     "a1c93c2d5f0a42e384fcdabc98b67ee2": {
      "model_module": "@jupyter-widgets/base",
      "model_module_version": "1.0.0",
      "model_name": "LayoutModel",
      "state": {}
     },
     "a1d7582a334b4f618aeba1959ba1afa2": {
      "model_module": "@jupyter-widgets/controls",
      "model_module_version": "1.1.0",
      "model_name": "LabelModel",
      "state": {
       "layout": "IPY_MODEL_60640bc143d7461fa221ade3e9a1babf",
       "style": "IPY_MODEL_50bb39ba82dd4e0f928548cbc1e56055",
       "value": "Select the detector angles to plot."
      }
     },
     "a1f8d073dfd248cea3df0a3525424b95": {
      "model_module": "@jupyter-widgets/base",
      "model_module_version": "1.0.0",
      "model_name": "LayoutModel",
      "state": {}
     },
     "a2086798ef484598952202fa5e9685c9": {
      "model_module": "@jupyter-widgets/controls",
      "model_module_version": "1.1.0",
      "model_name": "CheckboxModel",
      "state": {
       "description": "32.7°",
       "disabled": false,
       "layout": "IPY_MODEL_1961e98b7ac3486ebc1961e8cfeef51c",
       "style": "IPY_MODEL_63f3673c4a8d4904b8b4957354acdb7a",
       "value": true
      }
     },
     "a21733351934434e81f1b8634ffd4249": {
      "model_module": "@jupyter-widgets/controls",
      "model_module_version": "1.1.0",
      "model_name": "CheckboxModel",
      "state": {
       "description": "10°",
       "disabled": false,
       "layout": "IPY_MODEL_ce360aefa9294facabe1ee60bc0862de",
       "style": "IPY_MODEL_e2c1797b522b46c098590f29c80eda32",
       "value": true
      }
     },
     "a26a19e574a74b3aad7172dac323e62c": {
      "model_module": "@jupyter-widgets/controls",
      "model_module_version": "1.1.0",
      "model_name": "ToggleButtonsStyleModel",
      "state": {
       "button_width": "",
       "description_width": ""
      }
     },
     "a2733a53a33c469f9e74e92e8a087019": {
      "model_module": "@jupyter-widgets/controls",
      "model_module_version": "1.1.0",
      "model_name": "DescriptionStyleModel",
      "state": {
       "description_width": ""
      }
     },
     "a2a45a749e3a406aaddcaffab4403d71": {
      "model_module": "@jupyter-widgets/controls",
      "model_module_version": "1.1.0",
      "model_name": "LabelModel",
      "state": {
       "layout": "IPY_MODEL_13ca9599e8a6458b9f877c77a465cadf",
       "style": "IPY_MODEL_31bedefb041d45bc8089755ad4dee01e",
       "value": "Select the detector angles to plot."
      }
     },
     "a2bdbe1494814ef3a232b1d38c24af35": {
      "model_module": "@jupyter-widgets/base",
      "model_module_version": "1.0.0",
      "model_name": "LayoutModel",
      "state": {}
     },
     "a2de60ea094a4b74a1566c0c53e204dc": {
      "model_module": "@jupyter-widgets/controls",
      "model_module_version": "1.1.0",
      "model_name": "ToggleButtonsStyleModel",
      "state": {
       "button_width": "",
       "description_width": ""
      }
     },
     "a321347d4d5f4ecb987a829fce03e8c4": {
      "model_module": "@jupyter-widgets/controls",
      "model_module_version": "1.1.0",
      "model_name": "DescriptionStyleModel",
      "state": {
       "description_width": ""
      }
     },
     "a3226dc7be214e14b368365138b0cf25": {
      "model_module": "@jupyter-widgets/controls",
      "model_module_version": "1.1.0",
      "model_name": "DescriptionStyleModel",
      "state": {
       "description_width": ""
      }
     },
     "a32596ccc6844d88beffb3e6617460f0": {
      "model_module": "@jupyter-widgets/base",
      "model_module_version": "1.0.0",
      "model_name": "LayoutModel",
      "state": {}
     },
     "a34bddacd7c846048547679dac7f6991": {
      "model_module": "@jupyter-widgets/controls",
      "model_module_version": "1.1.0",
      "model_name": "LabelModel",
      "state": {
       "layout": "IPY_MODEL_545ebc91c17c4aa6959b057a16b3ac92",
       "style": "IPY_MODEL_a778cf604d174f4d9efe53ae6dfcc98b",
       "value": "Select upstream target mass thickness."
      }
     },
     "a369064e5b44428d8172adba0d439f70": {
      "model_module": "@jupyter-widgets/controls",
      "model_module_version": "1.1.0",
      "model_name": "DescriptionStyleModel",
      "state": {
       "description_width": ""
      }
     },
     "a37c33a2be514ce6b6365c51523ce460": {
      "model_module": "@jupyter-widgets/controls",
      "model_module_version": "1.1.0",
      "model_name": "LabelModel",
      "state": {
       "layout": "IPY_MODEL_f8187533cbd64b0f92011819d7ecc492",
       "style": "IPY_MODEL_442ac209cf4f4253a7d278fb37682d26",
       "value": "Select projectile ion energy."
      }
     },
     "a38c5526261a44588ed4a03810dd74de": {
      "model_module": "@jupyter-widgets/controls",
      "model_module_version": "1.1.0",
      "model_name": "ToggleButtonsModel",
      "state": {
       "_options_labels": [
        "N (¹n)",
        "NDC (¹n)",
        "P (¹H)",
        "D (²H)",
        "T (³H)",
        "S (³He)",
        "A (⁴He)"
       ],
       "button_style": "",
       "description": "Type:",
       "icons": [],
       "index": 0,
       "layout": "IPY_MODEL_14fafc4eb4bf469cae61c06d8cce53bf",
       "style": "IPY_MODEL_403956e3427d41e39e4ca6ce37a021f3",
       "tooltips": [
        "Neutron",
        "Back Target Neutron",
        "Proton",
        "Deuteron",
        "Triton",
        "Helium-3",
        "Helium-4"
       ]
      }
     },
     "a3a4a3661a1245309cad93b6359eb7e0": {
      "model_module": "@jupyter-widgets/base",
      "model_module_version": "1.0.0",
      "model_name": "LayoutModel",
      "state": {}
     },
     "a3f03c52452f4040b71e2bb824bf4b8b": {
      "model_module": "@jupyter-widgets/controls",
      "model_module_version": "1.1.0",
      "model_name": "DescriptionStyleModel",
      "state": {
       "description_width": ""
      }
     },
     "a410023c692b43789d99c69fccbf3d0c": {
      "model_module": "@jupyter-widgets/controls",
      "model_module_version": "1.1.0",
      "model_name": "DescriptionStyleModel",
      "state": {
       "description_width": ""
      }
     },
     "a430f5e1f8104030adc87152f743628c": {
      "model_module": "@jupyter-widgets/base",
      "model_module_version": "1.0.0",
      "model_name": "LayoutModel",
      "state": {}
     },
     "a46faac67e3c484db0c7d7646c36f03c": {
      "model_module": "@jupyter-widgets/controls",
      "model_module_version": "1.1.0",
      "model_name": "LabelModel",
      "state": {
       "layout": "IPY_MODEL_2f9f375ed8694a78a0160c1848befb47",
       "style": "IPY_MODEL_d48a7a058fb447fab5d67609ac3ff4e6",
       "value": "Select a detector type."
      }
     },
     "a492ac76f1b94b6a9eb892afe1c19c06": {
      "model_module": "@jupyter-widgets/base",
      "model_module_version": "1.0.0",
      "model_name": "LayoutModel",
      "state": {}
     },
     "a4943de1efff43359180753e2490e53e": {
      "model_module": "@jupyter-widgets/base",
      "model_module_version": "1.0.0",
      "model_name": "LayoutModel",
      "state": {}
     },
     "a4b0d07e296942e08a63cd4351a1ad3d": {
      "model_module": "@jupyter-widgets/controls",
      "model_module_version": "1.1.0",
      "model_name": "CheckboxModel",
      "state": {
       "description": "45°",
       "disabled": false,
       "layout": "IPY_MODEL_2a6a5bce17a946f98b9b7c3a32c9d1cd",
       "style": "IPY_MODEL_73138b754209406a8c76f8b0357ac687",
       "value": true
      }
     },
     "a53084ae74bf4682b26cbdd8f14db5c5": {
      "model_module": "@jupyter-widgets/controls",
      "model_module_version": "1.1.0",
      "model_name": "ToggleButtonsModel",
      "state": {
       "_options_labels": [
        "N (¹n)",
        "NDC (¹n)",
        "P (¹H)",
        "D (²H)"
       ],
       "button_style": "",
       "description": "Particle:",
       "icons": [],
       "index": 0,
       "layout": "IPY_MODEL_96da12b143364498a1f8e79fa09113ba",
       "style": "IPY_MODEL_7d315670ef4f4b77a3c4bdbb3d99313c",
       "tooltips": [
        "Neutron",
        "Back Target Neutron",
        "Proton",
        "Deuteron"
       ]
      }
     },
     "a59b588a6e0b4502b50c251055bfb406": {
      "model_module": "@jupyter-widgets/controls",
      "model_module_version": "1.1.0",
      "model_name": "DescriptionStyleModel",
      "state": {
       "description_width": ""
      }
     },
     "a5ab0bc8e4894abf9f3ae4671f61de35": {
      "model_module": "@jupyter-widgets/base",
      "model_module_version": "1.0.0",
      "model_name": "LayoutModel",
      "state": {}
     },
     "a5ab1f2937214bd09dec3d87590ba417": {
      "model_module": "@jupyter-widgets/controls",
      "model_module_version": "1.1.0",
      "model_name": "DescriptionStyleModel",
      "state": {
       "description_width": ""
      }
     },
     "a61a0cdb903c499d8ff1ce3dd7f8ab10": {
      "model_module": "@jupyter-widgets/controls",
      "model_module_version": "1.1.0",
      "model_name": "CheckboxModel",
      "state": {
       "description": "PHITS simulated",
       "disabled": false,
       "layout": "IPY_MODEL_f2ad27baf4764943a64930549184f148",
       "style": "IPY_MODEL_b55ba0c4ae6f4a6799d320c9b45bfdf5",
       "value": true
      }
     },
     "a62492efc26142d39374db8dd98e3500": {
      "model_module": "@jupyter-widgets/controls",
      "model_module_version": "1.1.0",
      "model_name": "DescriptionStyleModel",
      "state": {
       "description_width": ""
      }
     },
     "a629492428ad48ee8eb25a68ad4c270b": {
      "model_module": "@jupyter-widgets/base",
      "model_module_version": "1.0.0",
      "model_name": "LayoutModel",
      "state": {}
     },
     "a6823a7ff4d644898a0521a67008d5ad": {
      "model_module": "@jupyter-widgets/controls",
      "model_module_version": "1.1.0",
      "model_name": "DescriptionStyleModel",
      "state": {
       "description_width": ""
      }
     },
     "a69908d8073948cb894f81841a272daa": {
      "model_module": "@jupyter-widgets/controls",
      "model_module_version": "1.1.0",
      "model_name": "CheckboxModel",
      "state": {
       "description": "10°",
       "disabled": false,
       "layout": "IPY_MODEL_5c8ae25629bb45bfa1828369ead77402",
       "style": "IPY_MODEL_1af087b5218c4437920f90cb063ef0cb",
       "value": true
      }
     },
     "a6c3f474e4fc44af9c36e8c0cf3f1b5a": {
      "model_module": "@jupyter-widgets/base",
      "model_module_version": "1.0.0",
      "model_name": "LayoutModel",
      "state": {}
     },
     "a6cbe10f2dfc4c23a6128fed72630ac7": {
      "model_module": "@jupyter-widgets/controls",
      "model_module_version": "1.1.0",
      "model_name": "DescriptionStyleModel",
      "state": {
       "description_width": ""
      }
     },
     "a6db707717084bd98e064729160813cb": {
      "model_module": "@jupyter-widgets/controls",
      "model_module_version": "1.1.0",
      "model_name": "DescriptionStyleModel",
      "state": {
       "description_width": ""
      }
     },
     "a6dde0c38fef49efb25f733d549d75f7": {
      "model_module": "@jupyter-widgets/controls",
      "model_module_version": "1.1.0",
      "model_name": "DescriptionStyleModel",
      "state": {
       "description_width": ""
      }
     },
     "a6e4e615cf024c96b0b19a74e84d6cef": {
      "model_module": "@jupyter-widgets/controls",
      "model_module_version": "1.1.0",
      "model_name": "DescriptionStyleModel",
      "state": {
       "description_width": ""
      }
     },
     "a6f9e3ee75754eecb9e07499d61a606d": {
      "model_module": "@jupyter-widgets/base",
      "model_module_version": "1.0.0",
      "model_name": "LayoutModel",
      "state": {}
     },
     "a6fc76628f134e61baecc5b2f935b09d": {
      "model_module": "@jupyter-widgets/controls",
      "model_module_version": "1.1.0",
      "model_name": "ToggleButtonsModel",
      "state": {
       "_options_labels": [
        "400 MeV/n",
        "800 MeV/n",
        "1500 MeV/n"
       ],
       "button_style": "",
       "description": "Energy:",
       "icons": [],
       "index": 0,
       "layout": "IPY_MODEL_8de4e7cb679a44798964a2c36f75b7a3",
       "style": "IPY_MODEL_e52c9ad6f0f94c16a168ca41d44d2b05",
       "tooltips": [
        "lowest energy",
        "middle energy",
        "highest energy"
       ]
      }
     },
     "a70b0e978e594f1399789e761e60afbf": {
      "model_module": "@jupyter-widgets/controls",
      "model_module_version": "1.1.0",
      "model_name": "ToggleButtonsStyleModel",
      "state": {
       "button_width": "",
       "description_width": ""
      }
     },
     "a715567199b948ed9bf18629dce166b8": {
      "model_module": "@jupyter-widgets/base",
      "model_module_version": "1.0.0",
      "model_name": "LayoutModel",
      "state": {}
     },
     "a736e35fa3074fa386911fcdb54f58e3": {
      "model_module": "@jupyter-widgets/base",
      "model_module_version": "1.0.0",
      "model_name": "LayoutModel",
      "state": {}
     },
     "a73ea27787e845ec9d670ffc57d5fe34": {
      "model_module": "@jupyter-widgets/controls",
      "model_module_version": "1.1.0",
      "model_name": "ToggleButtonsStyleModel",
      "state": {
       "button_width": "",
       "description_width": ""
      }
     },
     "a7559b98612a40d2b03ff7835e62fce8": {
      "model_module": "@jupyter-widgets/controls",
      "model_module_version": "1.1.0",
      "model_name": "CheckboxModel",
      "state": {
       "description": "30°",
       "disabled": false,
       "layout": "IPY_MODEL_e855032a03ab41298ecbce490692b442",
       "style": "IPY_MODEL_3e6868e05b4d42438e495a1ad59c565b",
       "value": true
      }
     },
     "a75b6cfabe5f49bebbcfef46c37b3617": {
      "model_module": "@jupyter-widgets/controls",
      "model_module_version": "1.1.0",
      "model_name": "CheckboxModel",
      "state": {
       "description": "135°",
       "disabled": false,
       "layout": "IPY_MODEL_858ff6cb153941629070dce3e8eab120",
       "style": "IPY_MODEL_4631bef8f06b44778e229ff134e96632",
       "value": true
      }
     },
     "a778cf604d174f4d9efe53ae6dfcc98b": {
      "model_module": "@jupyter-widgets/controls",
      "model_module_version": "1.1.0",
      "model_name": "DescriptionStyleModel",
      "state": {
       "description_width": ""
      }
     },
     "a7823db7be3f4cd48902bd8f6cbba005": {
      "model_module": "@jupyter-widgets/controls",
      "model_module_version": "1.1.0",
      "model_name": "DescriptionStyleModel",
      "state": {
       "description_width": ""
      }
     },
     "a7ac061fcead4b22aea85bf9a2788c5c": {
      "model_module": "@jupyter-widgets/controls",
      "model_module_version": "1.1.0",
      "model_name": "CheckboxModel",
      "state": {
       "description": "135°",
       "disabled": false,
       "layout": "IPY_MODEL_083d6cdb707a4e63bf282c13b7456a14",
       "style": "IPY_MODEL_2203b0e36dc448a6a364d02d9ddc7b10",
       "value": false
      }
     },
     "a7cf71167764452e83be627357958e79": {
      "model_module": "@jupyter-widgets/controls",
      "model_module_version": "1.1.0",
      "model_name": "CheckboxModel",
      "state": {
       "description": "10°",
       "disabled": false,
       "layout": "IPY_MODEL_55619c5dea094e449247ceb4ea2afc58",
       "style": "IPY_MODEL_9c750331100c4339ba5cdad0d8689798",
       "value": true
      }
     },
     "a7e1100ec75e45979025dd2ef79f9371": {
      "model_module": "@jupyter-widgets/controls",
      "model_module_version": "1.1.0",
      "model_name": "LabelModel",
      "state": {
       "layout": "IPY_MODEL_15be3f50cce94b91a4aa3def909f1e33",
       "style": "IPY_MODEL_023d98986734416e92f986009753c584",
       "value": "Select which secondary particle to plot spectra for."
      }
     },
     "a8527311491441dd8de9b71ddc09213b": {
      "model_module": "@jupyter-widgets/controls",
      "model_module_version": "1.1.0",
      "model_name": "ToggleButtonsModel",
      "state": {
       "_options_labels": [
        "P (¹H)",
        "D (²H)",
        "T (³H)",
        "A (⁴He)"
       ],
       "button_style": "",
       "description": "Type:",
       "icons": [],
       "index": 0,
       "layout": "IPY_MODEL_34c7f5a56df04a03a6dc535e5f75739a",
       "style": "IPY_MODEL_2aac0176a49544ad9d78d854909dc5a1",
       "tooltips": [
        "Proton",
        "Deuteron",
        "Triton",
        "Helium-4"
       ]
      }
     },
     "a86e995100d74316a3d0e3db7e535fcc": {
      "model_module": "@jupyter-widgets/base",
      "model_module_version": "1.0.0",
      "model_name": "LayoutModel",
      "state": {}
     },
     "a8841feafea14d99b95f53187891f2ae": {
      "model_module": "@jupyter-widgets/controls",
      "model_module_version": "1.1.0",
      "model_name": "ToggleButtonsModel",
      "state": {
       "_options_labels": [
        "20 g/cm²",
        "40 g/cm²",
        "60 g/cm²"
       ],
       "button_style": "",
       "description": "Thickness:",
       "icons": [],
       "index": 0,
       "layout": "IPY_MODEL_2390edd9b3c642169437648801af5220",
       "style": "IPY_MODEL_f199881453b040ecba836e9210e1e2bd",
       "tooltips": [
        "20 g/cm² Aluminum",
        "40 g/cm² Aluminum",
        "60 g/cm² Aluminum"
       ]
      }
     },
     "a8a2ca2e021d4049b9d303d2eeca3e14": {
      "model_module": "@jupyter-widgets/controls",
      "model_module_version": "1.1.0",
      "model_name": "CheckboxModel",
      "state": {
       "description": "80°",
       "disabled": false,
       "layout": "IPY_MODEL_b134c9403fea4574bd2840c454cb26d7",
       "style": "IPY_MODEL_1e7bec4752ff40afa2b30faaa9181f59",
       "value": false
      }
     },
     "a8c7d47f1a484630a29733c5b4b79d98": {
      "model_module": "@jupyter-widgets/controls",
      "model_module_version": "1.1.0",
      "model_name": "ToggleButtonsModel",
      "state": {
       "_options_labels": [
        "H",
        "He",
        "C",
        "Si",
        "Fe"
       ],
       "button_style": "",
       "description": "Ion:",
       "icons": [],
       "index": 0,
       "layout": "IPY_MODEL_e58a8f5499a64d7d8362340324127d7d",
       "style": "IPY_MODEL_827c1636df9f4da3b9e26740c6b7ea19",
       "tooltips": [
        "Hydrogen",
        "Helium",
        "Carbon",
        "Silicon",
        "Iron"
       ]
      }
     },
     "a8e419868feb40a79cfca7b3f532a7fa": {
      "model_module": "@jupyter-widgets/base",
      "model_module_version": "1.0.0",
      "model_name": "LayoutModel",
      "state": {}
     },
     "a8e63e1dcb4345d2b913355531ac989f": {
      "model_module": "@jupyter-widgets/base",
      "model_module_version": "1.0.0",
      "model_name": "LayoutModel",
      "state": {}
     },
     "a8ff9a8265864ce6b8522a45b3a04d55": {
      "model_module": "@jupyter-widgets/controls",
      "model_module_version": "1.1.0",
      "model_name": "DescriptionStyleModel",
      "state": {
       "description_width": ""
      }
     },
     "a900600b456b46a681fcc9494b7ece95": {
      "model_module": "@jupyter-widgets/controls",
      "model_module_version": "1.1.0",
      "model_name": "DescriptionStyleModel",
      "state": {
       "description_width": ""
      }
     },
     "a909c92eb1cd48299d3eaffaf12d2cc4": {
      "model_module": "@jupyter-widgets/controls",
      "model_module_version": "1.1.0",
      "model_name": "CheckboxModel",
      "state": {
       "description": "10°",
       "disabled": false,
       "layout": "IPY_MODEL_447f53e19b2f4ddf9d2a3f12f6e5636f",
       "style": "IPY_MODEL_7bc3fbb9ab3f45348de818119b4edb4a",
       "value": true
      }
     },
     "a91084f9d3494b6a940831af3dd58f88": {
      "model_module": "@jupyter-widgets/base",
      "model_module_version": "1.0.0",
      "model_name": "LayoutModel",
      "state": {}
     },
     "a918cb0bb85249d1b54b8565dad3f659": {
      "model_module": "@jupyter-widgets/base",
      "model_module_version": "1.0.0",
      "model_name": "LayoutModel",
      "state": {}
     },
     "a9e42351c8da44b9ad978d46ab3d72ab": {
      "model_module": "@jupyter-widgets/controls",
      "model_module_version": "1.1.0",
      "model_name": "DescriptionStyleModel",
      "state": {
       "description_width": ""
      }
     },
     "a9eb32704977437e852c288bee57f477": {
      "model_module": "@jupyter-widgets/base",
      "model_module_version": "1.0.0",
      "model_name": "LayoutModel",
      "state": {}
     },
     "a9ff3c6349dd4e3aa5f9024c95be5218": {
      "model_module": "@jupyter-widgets/controls",
      "model_module_version": "1.1.0",
      "model_name": "CheckboxModel",
      "state": {
       "description": "135°",
       "disabled": false,
       "layout": "IPY_MODEL_d0712f64deb44255bae5800bafb719c0",
       "style": "IPY_MODEL_89eda586ef094d9e9d2cbe3f9c364b32",
       "value": true
      }
     },
     "aa131432c11c43cd9c947c59d810af25": {
      "model_module": "@jupyter-widgets/controls",
      "model_module_version": "1.1.0",
      "model_name": "ToggleButtonsStyleModel",
      "state": {
       "button_width": "",
       "description_width": ""
      }
     },
     "aa1a47aaec0f414d8480b69918503e93": {
      "model_module": "@jupyter-widgets/controls",
      "model_module_version": "1.1.0",
      "model_name": "DescriptionStyleModel",
      "state": {
       "description_width": ""
      }
     },
     "aa35185bf3a34092a2bd1af2cf00e408": {
      "model_module": "@jupyter-widgets/controls",
      "model_module_version": "1.1.0",
      "model_name": "DescriptionStyleModel",
      "state": {
       "description_width": ""
      }
     },
     "aa3cfd405b92404eb2f19d71ca77330c": {
      "model_module": "@jupyter-widgets/controls",
      "model_module_version": "1.1.0",
      "model_name": "DescriptionStyleModel",
      "state": {
       "description_width": ""
      }
     },
     "aa576a24ff1e4532a1ab8eb9fca802c4": {
      "model_module": "@jupyter-widgets/controls",
      "model_module_version": "1.1.0",
      "model_name": "ToggleButtonsStyleModel",
      "state": {
       "button_width": "",
       "description_width": ""
      }
     },
     "aa9ce7dc21004692afd0bf9d3f368c59": {
      "model_module": "@jupyter-widgets/base",
      "model_module_version": "1.0.0",
      "model_name": "LayoutModel",
      "state": {}
     },
     "aaa3a47d844c4b0dac0107764300dd71": {
      "model_module": "@jupyter-widgets/controls",
      "model_module_version": "1.1.0",
      "model_name": "CheckboxModel",
      "state": {
       "description": "80°",
       "disabled": false,
       "layout": "IPY_MODEL_ae9a6cf6bb114d679211456db7d47d11",
       "style": "IPY_MODEL_367b1a0957de43d1b458dacce96a2b0d",
       "value": true
      }
     },
     "aaa63bbb5eb54110b6564cd3b6e94182": {
      "model_module": "@jupyter-widgets/controls",
      "model_module_version": "1.1.0",
      "model_name": "CheckboxModel",
      "state": {
       "description": "32.7°",
       "disabled": false,
       "layout": "IPY_MODEL_d7d04417ef3a4532976d037d0a51da0c",
       "style": "IPY_MODEL_e859ff3fab7f425f9d5d51bb08bb0418",
       "value": true
      }
     },
     "aac3db4e5d1e4f98a69d1cf4938a87d6": {
      "model_module": "@jupyter-widgets/base",
      "model_module_version": "1.0.0",
      "model_name": "LayoutModel",
      "state": {}
     },
     "aacbd410ba604eb5bfa744c5cca3a829": {
      "model_module": "@jupyter-widgets/controls",
      "model_module_version": "1.1.0",
      "model_name": "CheckboxModel",
      "state": {
       "description": "60°",
       "disabled": false,
       "layout": "IPY_MODEL_590c75c872914897a0b6cde58cca7b15",
       "style": "IPY_MODEL_834837e439a34d1fa4c89cc1e7e18944",
       "value": true
      }
     },
     "aae004f179e247eca0f69c2e845884f5": {
      "model_module": "@jupyter-widgets/controls",
      "model_module_version": "1.1.0",
      "model_name": "LabelModel",
      "state": {
       "layout": "IPY_MODEL_ff775fb71b26478da0e11f8d03b303f6",
       "style": "IPY_MODEL_de4ee6f855d746ea968143e1a598b77b",
       "value": "Select the detector angles to plot."
      }
     },
     "aae4131894c542f9a8804e5109bd7c6f": {
      "model_module": "@jupyter-widgets/controls",
      "model_module_version": "1.1.0",
      "model_name": "ToggleButtonsModel",
      "state": {
       "_options_labels": [
        "400 MeV",
        "800 MeV",
        "2500 MeV"
       ],
       "button_style": "",
       "description": "Energy:",
       "icons": [],
       "index": 0,
       "layout": "IPY_MODEL_2fe070cfb385435db6261ac22e7b218f",
       "style": "IPY_MODEL_0a3b209bcf6841b9a433d6e5c3b1a795",
       "tooltips": [
        "lowest energy",
        "middle energy",
        "highest energy"
       ]
      }
     },
     "ab08f3b531ee4b92bbbe6ee1c754c252": {
      "model_module": "@jupyter-widgets/controls",
      "model_module_version": "1.1.0",
      "model_name": "ToggleButtonsStyleModel",
      "state": {
       "button_width": "",
       "description_width": ""
      }
     },
     "ab316c5666524946ae0c172d4473ccf4": {
      "model_module": "@jupyter-widgets/controls",
      "model_module_version": "1.1.0",
      "model_name": "DescriptionStyleModel",
      "state": {
       "description_width": ""
      }
     },
     "ab51b1419f7546d9adedc7d98370b3be": {
      "model_module": "@jupyter-widgets/base",
      "model_module_version": "1.0.0",
      "model_name": "LayoutModel",
      "state": {}
     },
     "ab60a82ccdee43e69c1d0426c2e4b712": {
      "model_module": "@jupyter-widgets/controls",
      "model_module_version": "1.1.0",
      "model_name": "CheckboxModel",
      "state": {
       "description": "60°",
       "disabled": false,
       "layout": "IPY_MODEL_f673c3750a714ce6b241908ebc147d4d",
       "style": "IPY_MODEL_a6cbe10f2dfc4c23a6128fed72630ac7",
       "value": true
      }
     },
     "abba099c8d2346e3b5455ba8b4be4d26": {
      "model_module": "@jupyter-widgets/controls",
      "model_module_version": "1.1.0",
      "model_name": "DescriptionStyleModel",
      "state": {
       "description_width": ""
      }
     },
     "ac1392c5e79241cabcbe2f0b9cdd133a": {
      "model_module": "@jupyter-widgets/base",
      "model_module_version": "1.0.0",
      "model_name": "LayoutModel",
      "state": {}
     },
     "ac178c9f1ab74b948336cbfb2630dc42": {
      "model_module": "@jupyter-widgets/controls",
      "model_module_version": "1.1.0",
      "model_name": "ButtonModel",
      "state": {
       "button_style": "success",
       "description": "Update plot",
       "icon": "paint-brush",
       "layout": "IPY_MODEL_c24a1cfb75f44d6392ee6ea2874d43d0",
       "style": "IPY_MODEL_3d8b79afcd5346e89411d87b293cd799",
       "tooltip": "Click to redraw the plot below with updated options from above."
      }
     },
     "ac2f0828c98f4d179cf83ddf27166b0b": {
      "model_module": "@jupyter-widgets/base",
      "model_module_version": "1.0.0",
      "model_name": "LayoutModel",
      "state": {}
     },
     "ac4aa1f1b1e8453d87f1df70ac524806": {
      "model_module": "@jupyter-widgets/controls",
      "model_module_version": "1.1.0",
      "model_name": "CheckboxModel",
      "state": {
       "description": "10°",
       "disabled": false,
       "layout": "IPY_MODEL_ac1392c5e79241cabcbe2f0b9cdd133a",
       "style": "IPY_MODEL_008d4deaa4f24f778435821053645eab",
       "value": true
      }
     },
     "ac5963eefc4a4f2787971df6efcec6f9": {
      "model_module": "@jupyter-widgets/controls",
      "model_module_version": "1.1.0",
      "model_name": "CheckboxModel",
      "state": {
       "description": "30°",
       "disabled": false,
       "layout": "IPY_MODEL_10eb4b649ea049f6a6685d6b048edfea",
       "style": "IPY_MODEL_b957fd9211284d609f9603993f986749",
       "value": false
      }
     },
     "ac824a4a151342f982e4269c702e3713": {
      "model_module": "@jupyter-widgets/controls",
      "model_module_version": "1.1.0",
      "model_name": "CheckboxModel",
      "state": {
       "description": "PHITS simulated",
       "disabled": false,
       "layout": "IPY_MODEL_87c459b78b604640909d7f732feb1b01",
       "style": "IPY_MODEL_93187ff29a454bffa64ddd10403e4b64",
       "value": true
      }
     },
     "ac9577885a6643f3acdf6df98032a935": {
      "model_module": "@jupyter-widgets/controls",
      "model_module_version": "1.1.0",
      "model_name": "DescriptionStyleModel",
      "state": {
       "description_width": ""
      }
     },
     "aca553dec049411a9613a1df049c60f2": {
      "model_module": "@jupyter-widgets/base",
      "model_module_version": "1.0.0",
      "model_name": "LayoutModel",
      "state": {}
     },
     "acbc4bb96b4c494ab595aaeafc032f58": {
      "model_module": "@jupyter-widgets/controls",
      "model_module_version": "1.1.0",
      "model_name": "CheckboxModel",
      "state": {
       "description": "10°",
       "disabled": false,
       "layout": "IPY_MODEL_6b6887f98a3e425fb0be0ae08a8fee56",
       "style": "IPY_MODEL_0097f451415149d5a8a5b91cd0fcde5b",
       "value": true
      }
     },
     "ad5645d902d742a1803f4b773391fcc6": {
      "model_module": "@jupyter-widgets/controls",
      "model_module_version": "1.1.0",
      "model_name": "CheckboxModel",
      "state": {
       "description": "60°",
       "disabled": false,
       "layout": "IPY_MODEL_e70fff3b1c7d496b87c0f5a08a5d3555",
       "style": "IPY_MODEL_f26b555c18674641ac56b038c0e17764",
       "value": true
      }
     },
     "ad97f50377b04667a22d5c1ff7f846a1": {
      "model_module": "@jupyter-widgets/controls",
      "model_module_version": "1.1.0",
      "model_name": "CheckboxModel",
      "state": {
       "description": "135°",
       "disabled": false,
       "layout": "IPY_MODEL_5929c186d9eb48c99b0e76d2f047ecee",
       "style": "IPY_MODEL_a6dde0c38fef49efb25f733d549d75f7",
       "value": true
      }
     },
     "adca284843d044cabca92fd491c10dac": {
      "model_module": "@jupyter-widgets/controls",
      "model_module_version": "1.1.0",
      "model_name": "CheckboxModel",
      "state": {
       "description": "30°",
       "disabled": false,
       "layout": "IPY_MODEL_ef4bd5c55a7c45cc9ef95a2d4270d9a7",
       "style": "IPY_MODEL_4fa6bd4d322749fe891b1e8b7edd436a",
       "value": false
      }
     },
     "add3906993124ea1b4e1b692d9bd831b": {
      "model_module": "@jupyter-widgets/controls",
      "model_module_version": "1.1.0",
      "model_name": "DescriptionStyleModel",
      "state": {
       "description_width": ""
      }
     },
     "adeb596f502d42449d8811e70bbae8b2": {
      "model_module": "@jupyter-widgets/base",
      "model_module_version": "1.0.0",
      "model_name": "LayoutModel",
      "state": {}
     },
     "ae00635134a94eb785d52a4eb527ed7a": {
      "model_module": "@jupyter-widgets/controls",
      "model_module_version": "1.1.0",
      "model_name": "DescriptionStyleModel",
      "state": {
       "description_width": ""
      }
     },
     "ae04b1d2163a40a8bc5de76789e0d27d": {
      "model_module": "@jupyter-widgets/base",
      "model_module_version": "1.0.0",
      "model_name": "LayoutModel",
      "state": {}
     },
     "ae7dcbfed4f64731b92fa302d76824a5": {
      "model_module": "@jupyter-widgets/base",
      "model_module_version": "1.0.0",
      "model_name": "LayoutModel",
      "state": {}
     },
     "ae817525d46844a189196d2f31d7ef57": {
      "model_module": "@jupyter-widgets/controls",
      "model_module_version": "1.1.0",
      "model_name": "ToggleButtonsModel",
      "state": {
       "_options_labels": [
        "N (¹n)",
        "NDC (¹n)",
        "P (¹H)",
        "D (²H)"
       ],
       "button_style": "",
       "description": "Particle:",
       "icons": [],
       "index": 0,
       "layout": "IPY_MODEL_46158989dffc448fbbd4cbe5f5e4dd4f",
       "style": "IPY_MODEL_b2a470e8f4a848a08760b7e4ce68216b",
       "tooltips": [
        "Neutron",
        "Back Target Neutron",
        "Proton",
        "Deuteron"
       ]
      }
     },
     "ae9a6cf6bb114d679211456db7d47d11": {
      "model_module": "@jupyter-widgets/base",
      "model_module_version": "1.0.0",
      "model_name": "LayoutModel",
      "state": {}
     },
     "aeeface96ece4888a98b7db93c45d416": {
      "model_module": "@jupyter-widgets/controls",
      "model_module_version": "1.1.0",
      "model_name": "DescriptionStyleModel",
      "state": {
       "description_width": ""
      }
     },
     "aef07b9a3bf543f0ad01653eb45d6240": {
      "model_module": "@jupyter-widgets/controls",
      "model_module_version": "1.1.0",
      "model_name": "CheckboxModel",
      "state": {
       "description": "12.7°",
       "disabled": false,
       "layout": "IPY_MODEL_e7354a7351dc4a3eb056a1ebe167219f",
       "style": "IPY_MODEL_295a0c1f17204f57beb0788ecce78f07",
       "value": true
      }
     },
     "aef4391aa0ee4ab78258b8820f439057": {
      "model_module": "@jupyter-widgets/base",
      "model_module_version": "1.0.0",
      "model_name": "LayoutModel",
      "state": {}
     },
     "af0482e6032a4b5c895c578b92a107b1": {
      "model_module": "@jupyter-widgets/base",
      "model_module_version": "1.0.0",
      "model_name": "LayoutModel",
      "state": {}
     },
     "af447f0dfaba4018b93633549c50a98c": {
      "model_module": "@jupyter-widgets/base",
      "model_module_version": "1.0.0",
      "model_name": "LayoutModel",
      "state": {}
     },
     "afd94890969542849d0014c83d9f710e": {
      "model_module": "@jupyter-widgets/controls",
      "model_module_version": "1.1.0",
      "model_name": "CheckboxModel",
      "state": {
       "description": "30°",
       "disabled": false,
       "layout": "IPY_MODEL_b8d668ae50cd4ec0b0e9768bf13ebaee",
       "style": "IPY_MODEL_644ed6cc3d2144fdaa33e0de942764ca",
       "value": false
      }
     },
     "b04672d85a424837b02b239fd6d93306": {
      "model_module": "@jupyter-widgets/controls",
      "model_module_version": "1.1.0",
      "model_name": "DescriptionStyleModel",
      "state": {
       "description_width": ""
      }
     },
     "b066e3a83ac34f1a8f7719e1454d5875": {
      "model_module": "@jupyter-widgets/base",
      "model_module_version": "1.0.0",
      "model_name": "LayoutModel",
      "state": {}
     },
     "b06735c61c254823b8261980ec3395a3": {
      "model_module": "@jupyter-widgets/controls",
      "model_module_version": "1.1.0",
      "model_name": "DescriptionStyleModel",
      "state": {
       "description_width": ""
      }
     },
     "b06e725ffc5a4f68af22e7bbbb5e9aa9": {
      "model_module": "@jupyter-widgets/controls",
      "model_module_version": "1.1.0",
      "model_name": "CheckboxModel",
      "state": {
       "description": "10°",
       "disabled": false,
       "layout": "IPY_MODEL_2ae593c4383e45e9ae578cacbd91a07c",
       "style": "IPY_MODEL_18b949db5fe34bef96f34c741ec2e158",
       "value": true
      }
     },
     "b0850357b9f3483ebcb764038629e4b6": {
      "model_module": "@jupyter-widgets/base",
      "model_module_version": "1.0.0",
      "model_name": "LayoutModel",
      "state": {}
     },
     "b134c9403fea4574bd2840c454cb26d7": {
      "model_module": "@jupyter-widgets/base",
      "model_module_version": "1.0.0",
      "model_name": "LayoutModel",
      "state": {}
     },
     "b156ec5fd56541f6830dddbad5917e66": {
      "model_module": "@jupyter-widgets/controls",
      "model_module_version": "1.1.0",
      "model_name": "CheckboxModel",
      "state": {
       "description": "80°",
       "disabled": false,
       "layout": "IPY_MODEL_1dad1907f0694a15b1777d2307d3c28f",
       "style": "IPY_MODEL_846897d5be034873bc66dd9153ee457a",
       "value": true
      }
     },
     "b159994f2523454c849777345beef154": {
      "model_module": "@jupyter-widgets/base",
      "model_module_version": "1.0.0",
      "model_name": "LayoutModel",
      "state": {}
     },
     "b190e7ee1cc6456b9d4bb6b79f1a5050": {
      "model_module": "@jupyter-widgets/controls",
      "model_module_version": "1.1.0",
      "model_name": "DescriptionStyleModel",
      "state": {
       "description_width": ""
      }
     },
     "b1b2e4a172a0450c8398fd8c63426533": {
      "model_module": "@jupyter-widgets/base",
      "model_module_version": "1.0.0",
      "model_name": "LayoutModel",
      "state": {}
     },
     "b1e44077f2bb4e8c83ec53c33e3658c0": {
      "model_module": "@jupyter-widgets/base",
      "model_module_version": "1.0.0",
      "model_name": "LayoutModel",
      "state": {}
     },
     "b1f1994c3de742f98d80525a0dc6cdb8": {
      "model_module": "@jupyter-widgets/base",
      "model_module_version": "1.0.0",
      "model_name": "LayoutModel",
      "state": {}
     },
     "b1fc77d5024944e49d73df03a1d5033b": {
      "model_module": "@jupyter-widgets/base",
      "model_module_version": "1.0.0",
      "model_name": "LayoutModel",
      "state": {}
     },
     "b256a51a15734075b996a26f220eea7f": {
      "model_module": "@jupyter-widgets/base",
      "model_module_version": "1.0.0",
      "model_name": "LayoutModel",
      "state": {}
     },
     "b25d8c8e0874442ab49817d2a1a7778b": {
      "model_module": "@jupyter-widgets/controls",
      "model_module_version": "1.1.0",
      "model_name": "LabelModel",
      "state": {
       "layout": "IPY_MODEL_8b0eefb472c1489c9499bfca2575e77e",
       "style": "IPY_MODEL_2840e65aec3c47d3837a37a936e92cd1",
       "value": "Select the detector angles to plot."
      }
     },
     "b27880a92be84b8ebaf17bc82d752646": {
      "model_module": "@jupyter-widgets/controls",
      "model_module_version": "1.1.0",
      "model_name": "CheckboxModel",
      "state": {
       "description": "135°",
       "disabled": false,
       "layout": "IPY_MODEL_428942ba674d46a2bf6cdd61a85e65eb",
       "style": "IPY_MODEL_33c23a4720244974b92f5a5e7e3f3fd9",
       "value": false
      }
     },
     "b29216362c6d460ab5757f977fc97956": {
      "model_module": "@jupyter-widgets/controls",
      "model_module_version": "1.1.0",
      "model_name": "LabelModel",
      "state": {
       "layout": "IPY_MODEL_0abffa0061eb431eadd0b537a048d95d",
       "style": "IPY_MODEL_1ba608492b364dd0bee498de820a823f",
       "value": "Select which sets of data to display."
      }
     },
     "b2a39a040a6544d99cfd7e4863d4a141": {
      "model_module": "@jupyter-widgets/base",
      "model_module_version": "1.0.0",
      "model_name": "LayoutModel",
      "state": {}
     },
     "b2a470e8f4a848a08760b7e4ce68216b": {
      "model_module": "@jupyter-widgets/controls",
      "model_module_version": "1.1.0",
      "model_name": "ToggleButtonsStyleModel",
      "state": {
       "button_width": "",
       "description_width": ""
      }
     },
     "b2c2393f3cc943afa4c0a599f866c96b": {
      "model_module": "@jupyter-widgets/base",
      "model_module_version": "1.0.0",
      "model_name": "LayoutModel",
      "state": {}
     },
     "b3311dbc66674b6daaee1b5cd76ce614": {
      "model_module": "@jupyter-widgets/controls",
      "model_module_version": "1.1.0",
      "model_name": "DescriptionStyleModel",
      "state": {
       "description_width": ""
      }
     },
     "b34c0b45a9364bf4a77dbe00b1b856bf": {
      "model_module": "@jupyter-widgets/base",
      "model_module_version": "1.0.0",
      "model_name": "LayoutModel",
      "state": {}
     },
     "b3660327e0444359a041733a7b545b85": {
      "model_module": "@jupyter-widgets/controls",
      "model_module_version": "1.1.0",
      "model_name": "LabelModel",
      "state": {
       "layout": "IPY_MODEL_1b7bbc4fc6784941b0bb170af22bc7b8",
       "style": "IPY_MODEL_46da5a87136a4c1aab5938de6e45b620",
       "value": "Select which secondary particle to plot spectra for."
      }
     },
     "b3986e02e21e4ee1a1966105d74846a0": {
      "model_module": "@jupyter-widgets/base",
      "model_module_version": "1.0.0",
      "model_name": "LayoutModel",
      "state": {}
     },
     "b3f675f793e84eb8af82213e3f6ecee1": {
      "model_module": "@jupyter-widgets/controls",
      "model_module_version": "1.1.0",
      "model_name": "DescriptionStyleModel",
      "state": {
       "description_width": ""
      }
     },
     "b3fd0342b9c746f09a3e932129aa511a": {
      "model_module": "@jupyter-widgets/controls",
      "model_module_version": "1.1.0",
      "model_name": "CheckboxModel",
      "state": {
       "description": "60°",
       "disabled": false,
       "layout": "IPY_MODEL_395446e8e7c2410bb4bc4027eae2a0f3",
       "style": "IPY_MODEL_0d68d719bd2542f7a4a21bfdbf9e730f",
       "value": true
      }
     },
     "b42f68c91453466f98cc3c71ddde5df8": {
      "model_module": "@jupyter-widgets/controls",
      "model_module_version": "1.1.0",
      "model_name": "DescriptionStyleModel",
      "state": {
       "description_width": ""
      }
     },
     "b430db24d0cc4ea682e31554dad28dba": {
      "model_module": "@jupyter-widgets/base",
      "model_module_version": "1.0.0",
      "model_name": "LayoutModel",
      "state": {}
     },
     "b453f597f5f747879bbb7e51d7941077": {
      "model_module": "@jupyter-widgets/controls",
      "model_module_version": "1.1.0",
      "model_name": "DescriptionStyleModel",
      "state": {
       "description_width": ""
      }
     },
     "b4570addcf0d4ba69011271c073dbf3c": {
      "model_module": "@jupyter-widgets/base",
      "model_module_version": "1.0.0",
      "model_name": "LayoutModel",
      "state": {}
     },
     "b47b0b519fa84394b5a2796345eee4c6": {
      "model_module": "@jupyter-widgets/base",
      "model_module_version": "1.0.0",
      "model_name": "LayoutModel",
      "state": {}
     },
     "b5217da0eb624c05840ab91ea1d96f4e": {
      "model_module": "@jupyter-widgets/controls",
      "model_module_version": "1.1.0",
      "model_name": "CheckboxModel",
      "state": {
       "description": "135°",
       "disabled": false,
       "layout": "IPY_MODEL_09f1f55f355d408eb0e5a49eba19f462",
       "style": "IPY_MODEL_23c1b57dfe8f4761b1563240ada6a5b9",
       "value": true
      }
     },
     "b53b7f65937342619cb1be0545c449f6": {
      "model_module": "@jupyter-widgets/controls",
      "model_module_version": "1.1.0",
      "model_name": "LabelModel",
      "state": {
       "layout": "IPY_MODEL_4b3e0d7cc3a34cd19bab3b2ed36231f6",
       "style": "IPY_MODEL_0a0d9cee4f61455e902848baa25f71d3",
       "value": "Select which secondary particle to plot spectra for."
      }
     },
     "b55ba0c4ae6f4a6799d320c9b45bfdf5": {
      "model_module": "@jupyter-widgets/controls",
      "model_module_version": "1.1.0",
      "model_name": "DescriptionStyleModel",
      "state": {
       "description_width": ""
      }
     },
     "b566ff860baa48be8cdc1426984241e2": {
      "model_module": "@jupyter-widgets/controls",
      "model_module_version": "1.1.0",
      "model_name": "CheckboxModel",
      "state": {
       "description": "12.7°",
       "disabled": false,
       "layout": "IPY_MODEL_047a017af03e49b6b3d64477ccdbb467",
       "style": "IPY_MODEL_237c8b13f52c471ebb970a663c67e096",
       "value": true
      }
     },
     "b576ea33eaae4f5881e5e4345ac108c8": {
      "model_module": "@jupyter-widgets/controls",
      "model_module_version": "1.1.0",
      "model_name": "DescriptionStyleModel",
      "state": {
       "description_width": ""
      }
     },
     "b57b30fb574d4bc390c13d021a91cb9f": {
      "model_module": "@jupyter-widgets/controls",
      "model_module_version": "1.1.0",
      "model_name": "ToggleButtonsStyleModel",
      "state": {
       "button_width": "",
       "description_width": ""
      }
     },
     "b5f2154c6ab6493891178428e440d1b4": {
      "model_module": "@jupyter-widgets/controls",
      "model_module_version": "1.1.0",
      "model_name": "LabelModel",
      "state": {
       "layout": "IPY_MODEL_9205c477a1be4469b22d1997d942407d",
       "style": "IPY_MODEL_7d80945944f749c38f55ca99a4d8e702",
       "value": "Select the detector angles to plot."
      }
     },
     "b607a8a1011f41e79657979eed2d5d47": {
      "model_module": "@jupyter-widgets/base",
      "model_module_version": "1.0.0",
      "model_name": "LayoutModel",
      "state": {}
     },
     "b61af8bb6c014c1685e4e5c56f1af885": {
      "model_module": "@jupyter-widgets/controls",
      "model_module_version": "1.1.0",
      "model_name": "CheckboxModel",
      "state": {
       "description": "45°",
       "disabled": false,
       "layout": "IPY_MODEL_0df35494584e4aa2ae0f69fa4df9264c",
       "style": "IPY_MODEL_772e5375e9884cc59b06095fd14fa29c",
       "value": true
      }
     },
     "b65c01657bd649c8b8b1c5021cec090e": {
      "model_module": "@jupyter-widgets/base",
      "model_module_version": "1.0.0",
      "model_name": "LayoutModel",
      "state": {}
     },
     "b674b2d7269d422ca8de761bb917d833": {
      "model_module": "@jupyter-widgets/controls",
      "model_module_version": "1.1.0",
      "model_name": "LabelModel",
      "state": {
       "layout": "IPY_MODEL_8d01d2f5c2274b13984798d5294ef8a5",
       "style": "IPY_MODEL_c8ae63bb7c01400db0e6029877fcd041",
       "value": "Select which secondary particle to plot spectra for."
      }
     },
     "b67cce65aca44fba99692642db417b07": {
      "model_module": "@jupyter-widgets/base",
      "model_module_version": "1.0.0",
      "model_name": "LayoutModel",
      "state": {}
     },
     "b6a6026f9a484957a255fc96600c9c14": {
      "model_module": "@jupyter-widgets/base",
      "model_module_version": "1.0.0",
      "model_name": "LayoutModel",
      "state": {}
     },
     "b6afb6b7e2334252b59396dc1689c01a": {
      "model_module": "@jupyter-widgets/base",
      "model_module_version": "1.0.0",
      "model_name": "LayoutModel",
      "state": {}
     },
     "b6c24efdc53a4660a49ce93bba5de96a": {
      "model_module": "@jupyter-widgets/controls",
      "model_module_version": "1.1.0",
      "model_name": "ToggleButtonsStyleModel",
      "state": {
       "button_width": "",
       "description_width": ""
      }
     },
     "b6ca782bee7b416ab05bbad8e0002595": {
      "model_module": "@jupyter-widgets/controls",
      "model_module_version": "1.1.0",
      "model_name": "DescriptionStyleModel",
      "state": {
       "description_width": ""
      }
     },
     "b7be33966ed84c308844b092b0c1794b": {
      "model_module": "@jupyter-widgets/controls",
      "model_module_version": "1.1.0",
      "model_name": "LabelModel",
      "state": {
       "layout": "IPY_MODEL_7e75049786dd41599baa59cfbe1fc39b",
       "style": "IPY_MODEL_c678569758de4f529b9236ee5c8403d5",
       "value": "Select which secondary particle to plot spectra for."
      }
     },
     "b7d90552fa1a42b7b0e7aee76ca65e5f": {
      "model_module": "@jupyter-widgets/base",
      "model_module_version": "1.0.0",
      "model_name": "LayoutModel",
      "state": {}
     },
     "b8108655ca854fd99c5f09e3351079e7": {
      "model_module": "@jupyter-widgets/controls",
      "model_module_version": "1.1.0",
      "model_name": "LabelModel",
      "state": {
       "layout": "IPY_MODEL_d5cea0698b5549ff91278b8edbf8403c",
       "style": "IPY_MODEL_94b023f46072463da950114129668831",
       "value": "Select which secondary particle to plot spectra for."
      }
     },
     "b8297bde69954b1fad28c2af975eeb32": {
      "model_module": "@jupyter-widgets/base",
      "model_module_version": "1.0.0",
      "model_name": "LayoutModel",
      "state": {}
     },
     "b8344f383a404edcbad1b84fd6237079": {
      "model_module": "@jupyter-widgets/base",
      "model_module_version": "1.0.0",
      "model_name": "LayoutModel",
      "state": {}
     },
     "b856131f1d914d269eb6add2af93b1da": {
      "model_module": "@jupyter-widgets/controls",
      "model_module_version": "1.1.0",
      "model_name": "CheckboxModel",
      "state": {
       "description": "45°",
       "disabled": false,
       "layout": "IPY_MODEL_056247fa572144639545bed9724d980c",
       "style": "IPY_MODEL_1444a36731094071b713ff974db02236",
       "value": true
      }
     },
     "b88e9620565a40ab941bc49f29829681": {
      "model_module": "@jupyter-widgets/controls",
      "model_module_version": "1.1.0",
      "model_name": "DescriptionStyleModel",
      "state": {
       "description_width": ""
      }
     },
     "b897da7bbb4b482da822f91e6f777254": {
      "model_module": "@jupyter-widgets/base",
      "model_module_version": "1.0.0",
      "model_name": "LayoutModel",
      "state": {}
     },
     "b8c1fc0e080f4c32b4e9b22cf32efc54": {
      "model_module": "@jupyter-widgets/controls",
      "model_module_version": "1.1.0",
      "model_name": "DescriptionStyleModel",
      "state": {
       "description_width": ""
      }
     },
     "b8d668ae50cd4ec0b0e9768bf13ebaee": {
      "model_module": "@jupyter-widgets/base",
      "model_module_version": "1.0.0",
      "model_name": "LayoutModel",
      "state": {}
     },
     "b8dff6def2614a08a4261fa0559edf8f": {
      "model_module": "@jupyter-widgets/base",
      "model_module_version": "1.0.0",
      "model_name": "LayoutModel",
      "state": {}
     },
     "b92f010ba6644ef09f689749aaef6c55": {
      "model_module": "@jupyter-widgets/controls",
      "model_module_version": "1.1.0",
      "model_name": "ToggleButtonsModel",
      "state": {
       "_options_labels": [
        "20 g/cm²",
        "40 g/cm²",
        "60 g/cm²"
       ],
       "button_style": "",
       "description": "Thickness:",
       "icons": [],
       "index": 0,
       "layout": "IPY_MODEL_684604c74c48451cb8d88cce812fa285",
       "style": "IPY_MODEL_a26a19e574a74b3aad7172dac323e62c",
       "tooltips": [
        "20 g/cm² Aluminum",
        "40 g/cm² Aluminum",
        "60 g/cm² Aluminum"
       ]
      }
     },
     "b9316152f11b4e6abb675239c77ba00d": {
      "model_module": "@jupyter-widgets/controls",
      "model_module_version": "1.1.0",
      "model_name": "CheckboxModel",
      "state": {
       "description": "60°",
       "disabled": false,
       "layout": "IPY_MODEL_c247e4d27db645cdbb1e7153192027f9",
       "style": "IPY_MODEL_d4b9f633fd8e436691e847affb28e00e",
       "value": true
      }
     },
     "b949026b8c67487686303947e66a0280": {
      "model_module": "@jupyter-widgets/controls",
      "model_module_version": "1.1.0",
      "model_name": "ToggleButtonsStyleModel",
      "state": {
       "button_width": "",
       "description_width": ""
      }
     },
     "b957fd9211284d609f9603993f986749": {
      "model_module": "@jupyter-widgets/controls",
      "model_module_version": "1.1.0",
      "model_name": "DescriptionStyleModel",
      "state": {
       "description_width": ""
      }
     },
     "b9990a2b49b6435698c983f95dffee98": {
      "model_module": "@jupyter-widgets/controls",
      "model_module_version": "1.1.0",
      "model_name": "CheckboxModel",
      "state": {
       "description": "45°",
       "disabled": false,
       "layout": "IPY_MODEL_c14dc0adba2447e4baf73e910a05fa09",
       "style": "IPY_MODEL_c215f301a28d414e99b205b3675a75b2",
       "value": true
      }
     },
     "b9a295703a434006a11d43612918cd24": {
      "model_module": "@jupyter-widgets/controls",
      "model_module_version": "1.1.0",
      "model_name": "LabelModel",
      "state": {
       "layout": "IPY_MODEL_d1ac398fa03e44a19539a04c4ceeade0",
       "style": "IPY_MODEL_562a8ee6c510478180bbe9768376706b",
       "value": "Select the detector angles to plot."
      }
     },
     "b9dab9d17bf64a35a64df1f99eb71dff": {
      "model_module": "@jupyter-widgets/controls",
      "model_module_version": "1.1.0",
      "model_name": "LabelModel",
      "state": {
       "layout": "IPY_MODEL_1bc61067e7e84ec4893204250a69454a",
       "style": "IPY_MODEL_75b462689dd34b93816d80b241ce3836",
       "value": "Select which secondary particle to plot spectra for."
      }
     },
     "b9fe73a9d00447f5a6611838aa68771a": {
      "model_module": "@jupyter-widgets/base",
      "model_module_version": "1.0.0",
      "model_name": "LayoutModel",
      "state": {}
     },
     "ba5974914274434e849a78b98524392b": {
      "model_module": "@jupyter-widgets/base",
      "model_module_version": "1.0.0",
      "model_name": "LayoutModel",
      "state": {}
     },
     "ba69a78e6aeb4bbea77b34d2f431ded8": {
      "model_module": "@jupyter-widgets/controls",
      "model_module_version": "1.1.0",
      "model_name": "DescriptionStyleModel",
      "state": {
       "description_width": ""
      }
     },
     "ba722835f7ba445792a8f5734717ca5e": {
      "model_module": "@jupyter-widgets/base",
      "model_module_version": "1.0.0",
      "model_name": "LayoutModel",
      "state": {}
     },
     "ba78bc8a1130442f9a4edeca1e7ac020": {
      "model_module": "@jupyter-widgets/controls",
      "model_module_version": "1.1.0",
      "model_name": "CheckboxModel",
      "state": {
       "description": "60°",
       "disabled": false,
       "layout": "IPY_MODEL_38c4777f06d8457d84f1bb3212e9c5a4",
       "style": "IPY_MODEL_2c1a48858de5405496aade8f31332dc4",
       "value": true
      }
     },
     "ba7e0728ba3d417ca8231f82f6648646": {
      "model_module": "@jupyter-widgets/base",
      "model_module_version": "1.0.0",
      "model_name": "LayoutModel",
      "state": {}
     },
     "ba8a10037e434f2aa71abde4f5d250dd": {
      "model_module": "@jupyter-widgets/controls",
      "model_module_version": "1.1.0",
      "model_name": "DescriptionStyleModel",
      "state": {
       "description_width": ""
      }
     },
     "baa9ddbc265546269ba4c9d6de39ae5a": {
      "model_module": "@jupyter-widgets/controls",
      "model_module_version": "1.1.0",
      "model_name": "DescriptionStyleModel",
      "state": {
       "description_width": ""
      }
     },
     "bae7a6f7fe1a4131a2844ed828976a30": {
      "model_module": "@jupyter-widgets/controls",
      "model_module_version": "1.1.0",
      "model_name": "DescriptionStyleModel",
      "state": {
       "description_width": ""
      }
     },
     "baf6d63299f54108a883c23ac2fe5f20": {
      "model_module": "@jupyter-widgets/base",
      "model_module_version": "1.0.0",
      "model_name": "LayoutModel",
      "state": {}
     },
     "bb0ee65ce4894fc79a7cad5d70b7b308": {
      "model_module": "@jupyter-widgets/controls",
      "model_module_version": "1.1.0",
      "model_name": "DescriptionStyleModel",
      "state": {
       "description_width": ""
      }
     },
     "bb2cd9b121534a8290c6451b95d7d29c": {
      "model_module": "@jupyter-widgets/controls",
      "model_module_version": "1.1.0",
      "model_name": "DescriptionStyleModel",
      "state": {
       "description_width": ""
      }
     },
     "bb9f995dec93484fbc27fa706f5fd3f1": {
      "model_module": "@jupyter-widgets/controls",
      "model_module_version": "1.1.0",
      "model_name": "DescriptionStyleModel",
      "state": {
       "description_width": ""
      }
     },
     "bbb5f1f4d7e24b1a81fd951913eb0c43": {
      "model_module": "@jupyter-widgets/base",
      "model_module_version": "1.0.0",
      "model_name": "LayoutModel",
      "state": {}
     },
     "bbfdb7e282fb4cf7a8c4f45ee8f7158b": {
      "model_module": "@jupyter-widgets/base",
      "model_module_version": "1.0.0",
      "model_name": "LayoutModel",
      "state": {}
     },
     "bc51dbf7d6b44cb0861568d60899abdf": {
      "model_module": "@jupyter-widgets/base",
      "model_module_version": "1.0.0",
      "model_name": "LayoutModel",
      "state": {}
     },
     "bc66069ba2424e408276de2b0e664572": {
      "model_module": "@jupyter-widgets/base",
      "model_module_version": "1.0.0",
      "model_name": "LayoutModel",
      "state": {}
     },
     "bcb669779e704f5bbc7005e2a8fe5f34": {
      "model_module": "@jupyter-widgets/controls",
      "model_module_version": "1.1.0",
      "model_name": "DescriptionStyleModel",
      "state": {
       "description_width": ""
      }
     },
     "bd362c07cd334d70bd7f4785fc3d74b8": {
      "model_module": "@jupyter-widgets/controls",
      "model_module_version": "1.1.0",
      "model_name": "LabelModel",
      "state": {
       "layout": "IPY_MODEL_3f65a85a160a4441a7874fdb881d8141",
       "style": "IPY_MODEL_9a782c49ef184e6187246afe41090552",
       "value": "Select projectile ion energy."
      }
     },
     "bd41122844de4aae8b4b30b5db539440": {
      "model_module": "@jupyter-widgets/controls",
      "model_module_version": "1.1.0",
      "model_name": "LabelModel",
      "state": {
       "layout": "IPY_MODEL_16826bc0ce984138840e74701681d5b5",
       "style": "IPY_MODEL_04f6f0b7ec3144c382a4cc7cc0382006",
       "value": "Select which secondary particle to plot spectra for."
      }
     },
     "bd483a3dc18d413ea212d738f4af43c7": {
      "model_module": "@jupyter-widgets/controls",
      "model_module_version": "1.1.0",
      "model_name": "LabelModel",
      "state": {
       "layout": "IPY_MODEL_16f7563b15f24961b00e03182136e5e0",
       "style": "IPY_MODEL_89ba51ac47ff491199111cd3336fdf93",
       "value": "Select projectile ion species and energy."
      }
     },
     "bd5febe9c93d4f3d9f7c0a2de919bdcd": {
      "model_module": "@jupyter-widgets/controls",
      "model_module_version": "1.1.0",
      "model_name": "LabelModel",
      "state": {
       "layout": "IPY_MODEL_7bd7ac599ac74a43b9d70028a1cfbf6b",
       "style": "IPY_MODEL_55e1e3be375a42268d92b16cccceeff0",
       "value": "Select projectile ion energy."
      }
     },
     "bda8a0b7dba3496ba7ce9e542d024565": {
      "model_module": "@jupyter-widgets/base",
      "model_module_version": "1.0.0",
      "model_name": "LayoutModel",
      "state": {}
     },
     "bdbce8b329e84bacadec6d2e96f30b1e": {
      "model_module": "@jupyter-widgets/base",
      "model_module_version": "1.0.0",
      "model_name": "LayoutModel",
      "state": {}
     },
     "bdf78436e9c142c9a60aa393d33ca884": {
      "model_module": "@jupyter-widgets/base",
      "model_module_version": "1.0.0",
      "model_name": "LayoutModel",
      "state": {}
     },
     "be7c1d76834143be9f8d17152e78cf48": {
      "model_module": "@jupyter-widgets/controls",
      "model_module_version": "1.1.0",
      "model_name": "DescriptionStyleModel",
      "state": {
       "description_width": ""
      }
     },
     "be7e7da3f74547e9b6d4c1ebe08afb4a": {
      "model_module": "@jupyter-widgets/base",
      "model_module_version": "1.0.0",
      "model_name": "LayoutModel",
      "state": {}
     },
     "beab15b6f69046b9a9896a6d4c041455": {
      "model_module": "@jupyter-widgets/controls",
      "model_module_version": "1.1.0",
      "model_name": "CheckboxModel",
      "state": {
       "description": "MCNP simulated",
       "disabled": false,
       "layout": "IPY_MODEL_85f344bca2d2496c920f8d78b4cd6a77",
       "style": "IPY_MODEL_3ab5122a8d864d1d9bbb389b35e1ab2d",
       "value": true
      }
     },
     "bec0a54e31b749e9ad4b1152e11a6e85": {
      "model_module": "@jupyter-widgets/base",
      "model_module_version": "1.0.0",
      "model_name": "LayoutModel",
      "state": {}
     },
     "bf33cefc9a6c478fadc7163128193859": {
      "model_module": "@jupyter-widgets/controls",
      "model_module_version": "1.1.0",
      "model_name": "DescriptionStyleModel",
      "state": {
       "description_width": ""
      }
     },
     "bf382fe9a9d94fe6afae769e4d07fb7e": {
      "model_module": "@jupyter-widgets/controls",
      "model_module_version": "1.1.0",
      "model_name": "DescriptionStyleModel",
      "state": {
       "description_width": ""
      }
     },
     "bf3f53a943e7415d8dcc29ce937d5d99": {
      "model_module": "@jupyter-widgets/base",
      "model_module_version": "1.0.0",
      "model_name": "LayoutModel",
      "state": {}
     },
     "bf46a752abcc4d5fbf32245fdf95c4c6": {
      "model_module": "@jupyter-widgets/controls",
      "model_module_version": "1.1.0",
      "model_name": "DescriptionStyleModel",
      "state": {
       "description_width": ""
      }
     },
     "bfa9678962414ce1a91370a38ecd8bea": {
      "model_module": "@jupyter-widgets/controls",
      "model_module_version": "1.1.0",
      "model_name": "CheckboxModel",
      "state": {
       "description": "45°",
       "disabled": false,
       "layout": "IPY_MODEL_72fe73391da34aa7b16dcf466b9d7dcc",
       "style": "IPY_MODEL_84bb49288518474f8493046eb8864d73",
       "value": true
      }
     },
     "bfd6c883ab654524b99c3f030206e901": {
      "model_module": "@jupyter-widgets/base",
      "model_module_version": "1.0.0",
      "model_name": "LayoutModel",
      "state": {}
     },
     "bffadc0fdad34452a4d2a071f33aced7": {
      "model_module": "@jupyter-widgets/controls",
      "model_module_version": "1.1.0",
      "model_name": "CheckboxModel",
      "state": {
       "description": "80°",
       "disabled": false,
       "layout": "IPY_MODEL_53f0713094b941d09069608eb0b7e26c",
       "style": "IPY_MODEL_e10661569efd495da1417ba600cbe9cb",
       "value": true
      }
     },
     "c0022b5007774bf79c4d4b1687aa6774": {
      "model_module": "@jupyter-widgets/controls",
      "model_module_version": "1.1.0",
      "model_name": "CheckboxModel",
      "state": {
       "description": "30°",
       "disabled": false,
       "layout": "IPY_MODEL_fb4e6dcac5164de5891986bbceb3509d",
       "style": "IPY_MODEL_3d95b66ff94d442283299aecf4512049",
       "value": false
      }
     },
     "c01c78719669455786f6a3d7f97a34f2": {
      "model_module": "@jupyter-widgets/controls",
      "model_module_version": "1.1.0",
      "model_name": "ToggleButtonsStyleModel",
      "state": {
       "button_width": "",
       "description_width": ""
      }
     },
     "c028581d290146adb6944ce81d6a8445": {
      "model_module": "@jupyter-widgets/base",
      "model_module_version": "1.0.0",
      "model_name": "LayoutModel",
      "state": {}
     },
     "c0499be5ef594524a3196add15ece8df": {
      "model_module": "@jupyter-widgets/controls",
      "model_module_version": "1.1.0",
      "model_name": "DescriptionStyleModel",
      "state": {
       "description_width": ""
      }
     },
     "c056e640edce4c269d8bbf0f54262eae": {
      "model_module": "@jupyter-widgets/base",
      "model_module_version": "1.0.0",
      "model_name": "LayoutModel",
      "state": {}
     },
     "c0590248ff2b4526bf62006198a16f0e": {
      "model_module": "@jupyter-widgets/base",
      "model_module_version": "1.0.0",
      "model_name": "LayoutModel",
      "state": {}
     },
     "c0771b671595474abd61daef2cdb5433": {
      "model_module": "@jupyter-widgets/base",
      "model_module_version": "1.0.0",
      "model_name": "LayoutModel",
      "state": {}
     },
     "c0f6777710504c2a9dc4db5719a18f44": {
      "model_module": "@jupyter-widgets/controls",
      "model_module_version": "1.1.0",
      "model_name": "LabelModel",
      "state": {
       "layout": "IPY_MODEL_9c3d1a868c3744808e6abb20b62e5b3c",
       "style": "IPY_MODEL_1487e8abab6d47ebb0c49c2e27bd0fc5",
       "value": "Select which secondary particle to plot spectra for."
      }
     },
     "c14dc0adba2447e4baf73e910a05fa09": {
      "model_module": "@jupyter-widgets/base",
      "model_module_version": "1.0.0",
      "model_name": "LayoutModel",
      "state": {}
     },
     "c15c7534a6b2413885d8a67c1a50e638": {
      "model_module": "@jupyter-widgets/base",
      "model_module_version": "1.0.0",
      "model_name": "LayoutModel",
      "state": {}
     },
     "c194486c042d403cbe2d0be71a136b56": {
      "model_module": "@jupyter-widgets/base",
      "model_module_version": "1.0.0",
      "model_name": "LayoutModel",
      "state": {}
     },
     "c1aebeaac9fa4ea282b7974dbfe4b85e": {
      "model_module": "@jupyter-widgets/base",
      "model_module_version": "1.0.0",
      "model_name": "LayoutModel",
      "state": {}
     },
     "c1b4698aaec643bf83f637a29587f2b2": {
      "model_module": "@jupyter-widgets/base",
      "model_module_version": "1.0.0",
      "model_name": "LayoutModel",
      "state": {}
     },
     "c1b9929aef52467a8cb15e30ab6a6022": {
      "model_module": "@jupyter-widgets/controls",
      "model_module_version": "1.1.0",
      "model_name": "ToggleButtonsModel",
      "state": {
       "_options_labels": [
        "N (¹n)",
        "NDC (¹n)",
        "P (¹H)",
        "D (²H)",
        "T (³H)",
        "S (³He)",
        "A (⁴He)"
       ],
       "button_style": "",
       "description": "Type:",
       "icons": [],
       "index": 0,
       "layout": "IPY_MODEL_ba5974914274434e849a78b98524392b",
       "style": "IPY_MODEL_b57b30fb574d4bc390c13d021a91cb9f",
       "tooltips": [
        "Neutron",
        "Back Target Neutron",
        "Proton",
        "Deuteron",
        "Triton",
        "Helium-3",
        "Helium-4"
       ]
      }
     },
     "c1c5f6f054eb47afa07f81d79557c135": {
      "model_module": "@jupyter-widgets/controls",
      "model_module_version": "1.1.0",
      "model_name": "CheckboxModel",
      "state": {
       "description": "80°",
       "disabled": false,
       "layout": "IPY_MODEL_eb377fa66aa746eb968995e2f2ab0fb4",
       "style": "IPY_MODEL_a321347d4d5f4ecb987a829fce03e8c4",
       "value": true
      }
     },
     "c1cd48b836b04ac39da55e011f815606": {
      "model_module": "@jupyter-widgets/controls",
      "model_module_version": "1.1.0",
      "model_name": "CheckboxModel",
      "state": {
       "description": "60°",
       "disabled": false,
       "layout": "IPY_MODEL_d64a6f169766417687bda1456c4afe74",
       "style": "IPY_MODEL_d9522eb135c94484ab8c6f8eead3da76",
       "value": true
      }
     },
     "c1f0fe0e0033488dbc36898ea42ec496": {
      "model_module": "@jupyter-widgets/controls",
      "model_module_version": "1.1.0",
      "model_name": "CheckboxModel",
      "state": {
       "description": "135°",
       "disabled": false,
       "layout": "IPY_MODEL_e4b014e21c154a99a472d17155e7609e",
       "style": "IPY_MODEL_2cbce1b442a14338ac65ea260a0b4912",
       "value": true
      }
     },
     "c1ffa3b527a14f749db3767d28b3376e": {
      "model_module": "@jupyter-widgets/controls",
      "model_module_version": "1.1.0",
      "model_name": "CheckboxModel",
      "state": {
       "description": "135°",
       "disabled": false,
       "layout": "IPY_MODEL_6592682b66da430baa3d52e6c03c9f70",
       "style": "IPY_MODEL_a04b56b70c6047e7b67fb614b236f0a7",
       "value": true
      }
     },
     "c215f301a28d414e99b205b3675a75b2": {
      "model_module": "@jupyter-widgets/controls",
      "model_module_version": "1.1.0",
      "model_name": "DescriptionStyleModel",
      "state": {
       "description_width": ""
      }
     },
     "c228732bfbf743af860c7684138408c2": {
      "model_module": "@jupyter-widgets/controls",
      "model_module_version": "1.1.0",
      "model_name": "CheckboxModel",
      "state": {
       "description": "135°",
       "disabled": false,
       "layout": "IPY_MODEL_f53498484d3e4625ba5faed05d104562",
       "style": "IPY_MODEL_2225873d1fc84b7c8f4477065572bcf8",
       "value": true
      }
     },
     "c247e4d27db645cdbb1e7153192027f9": {
      "model_module": "@jupyter-widgets/base",
      "model_module_version": "1.0.0",
      "model_name": "LayoutModel",
      "state": {}
     },
     "c24a1cfb75f44d6392ee6ea2874d43d0": {
      "model_module": "@jupyter-widgets/base",
      "model_module_version": "1.0.0",
      "model_name": "LayoutModel",
      "state": {}
     },
     "c2605c1cb60749a7b7270bcd75f72b79": {
      "model_module": "@jupyter-widgets/controls",
      "model_module_version": "1.1.0",
      "model_name": "DescriptionStyleModel",
      "state": {
       "description_width": ""
      }
     },
     "c2da93c1248a406e97cdbda52cd4353e": {
      "model_module": "@jupyter-widgets/base",
      "model_module_version": "1.0.0",
      "model_name": "LayoutModel",
      "state": {}
     },
     "c318953cfd4243008e86467387d08b65": {
      "model_module": "@jupyter-widgets/controls",
      "model_module_version": "1.1.0",
      "model_name": "ToggleButtonsModel",
      "state": {
       "_options_labels": [
        "N (¹n)",
        "NDC (¹n)",
        "P (¹H)",
        "D (²H)",
        "T (³H)",
        "S (³He)",
        "A (⁴He)"
       ],
       "button_style": "",
       "description": "Type:",
       "icons": [],
       "index": 0,
       "layout": "IPY_MODEL_0746464c2c8941e88c580ec518a56bda",
       "style": "IPY_MODEL_6534c2495cb84bcebdd805f461b0f732",
       "tooltips": [
        "Neutron",
        "Back Target Neutron",
        "Proton",
        "Deuteron",
        "Triton",
        "Helium-3",
        "Helium-4"
       ]
      }
     },
     "c3400ef1c4144ff0a3d3f80ad347eef2": {
      "model_module": "@jupyter-widgets/controls",
      "model_module_version": "1.1.0",
      "model_name": "CheckboxModel",
      "state": {
       "description": "30°",
       "disabled": false,
       "layout": "IPY_MODEL_dbebba09632b483a9b1a0034cee0d6a2",
       "style": "IPY_MODEL_7fda445d7820403baadc8a73574b6efa",
       "value": false
      }
     },
     "c341e551dd3f44e6b6220a52550cbe89": {
      "model_module": "@jupyter-widgets/controls",
      "model_module_version": "1.1.0",
      "model_name": "DescriptionStyleModel",
      "state": {
       "description_width": ""
      }
     },
     "c364e5d45e4041ecb1b0e2902e992113": {
      "model_module": "@jupyter-widgets/controls",
      "model_module_version": "1.1.0",
      "model_name": "DescriptionStyleModel",
      "state": {
       "description_width": ""
      }
     },
     "c36ab799793746f6bc03bf2334ab97d9": {
      "model_module": "@jupyter-widgets/base",
      "model_module_version": "1.0.0",
      "model_name": "LayoutModel",
      "state": {}
     },
     "c3a04ceeb2e74e89bb7895f0f5657097": {
      "model_module": "@jupyter-widgets/controls",
      "model_module_version": "1.1.0",
      "model_name": "DescriptionStyleModel",
      "state": {
       "description_width": ""
      }
     },
     "c3cab31f4d4f4a858cd9408d120aca09": {
      "model_module": "@jupyter-widgets/base",
      "model_module_version": "1.0.0",
      "model_name": "LayoutModel",
      "state": {}
     },
     "c3ecc9526c494ff2a70d7aeab2d6a81a": {
      "model_module": "@jupyter-widgets/base",
      "model_module_version": "1.0.0",
      "model_name": "LayoutModel",
      "state": {}
     },
     "c3f3fef894c94cb3a2fed42e5d4f1d51": {
      "model_module": "@jupyter-widgets/base",
      "model_module_version": "1.0.0",
      "model_name": "LayoutModel",
      "state": {}
     },
     "c427e3c1ea6549109d108f8a2ff7ce3d": {
      "model_module": "@jupyter-widgets/base",
      "model_module_version": "1.0.0",
      "model_name": "LayoutModel",
      "state": {}
     },
     "c43587bf18fc4df3aa6cd8e0c6462a00": {
      "model_module": "@jupyter-widgets/controls",
      "model_module_version": "1.1.0",
      "model_name": "CheckboxModel",
      "state": {
       "description": "45°",
       "disabled": false,
       "layout": "IPY_MODEL_3b0965cfea5647cda8732d9283755930",
       "style": "IPY_MODEL_708e8d7a766147bbbdf1d488d6ce12fb",
       "value": true
      }
     },
     "c459114639ed4bc5a71cb01a38c3b60d": {
      "model_module": "@jupyter-widgets/controls",
      "model_module_version": "1.1.0",
      "model_name": "DescriptionStyleModel",
      "state": {
       "description_width": ""
      }
     },
     "c467599e69bc488e82d4f38a5ff5f2cb": {
      "model_module": "@jupyter-widgets/controls",
      "model_module_version": "1.1.0",
      "model_name": "CheckboxModel",
      "state": {
       "description": "60°",
       "disabled": false,
       "layout": "IPY_MODEL_221bea030d1f40a2b9b84b5abf1b088f",
       "style": "IPY_MODEL_2a459902ad7c4a8298153c85b011898a",
       "value": true
      }
     },
     "c4a1b29d0fb141bdbb5de598c0f0303c": {
      "model_module": "@jupyter-widgets/controls",
      "model_module_version": "1.1.0",
      "model_name": "DescriptionStyleModel",
      "state": {
       "description_width": ""
      }
     },
     "c4a57c92eebd4810aa0aa71fd8bd643b": {
      "model_module": "@jupyter-widgets/controls",
      "model_module_version": "1.1.0",
      "model_name": "ToggleButtonsModel",
      "state": {
       "_options_labels": [
        "N (¹n)",
        "NDC (¹n)",
        "P (¹H)",
        "D (²H)",
        "T (³H)",
        "S (³He)",
        "A (⁴He)"
       ],
       "button_style": "",
       "description": "Secondary:",
       "icons": [],
       "index": 0,
       "layout": "IPY_MODEL_701d737cb8f8401b810a0390210365f7",
       "style": "IPY_MODEL_6db02d35a9c74e88ba5a58093a39757d",
       "tooltips": [
        "Neutron",
        "Back Target Neutron",
        "Proton",
        "Deuteron",
        "Triton",
        "Helium-3",
        "Helium-4"
       ]
      }
     },
     "c4c4135d776f4acd9de51c55ac838f6e": {
      "model_module": "@jupyter-widgets/base",
      "model_module_version": "1.0.0",
      "model_name": "LayoutModel",
      "state": {}
     },
     "c5319387ee0f448b983f45fd842808da": {
      "model_module": "@jupyter-widgets/controls",
      "model_module_version": "1.1.0",
      "model_name": "DescriptionStyleModel",
      "state": {
       "description_width": ""
      }
     },
     "c54c9d51da38459b8157bb4c4af075a8": {
      "model_module": "@jupyter-widgets/controls",
      "model_module_version": "1.1.0",
      "model_name": "ButtonModel",
      "state": {
       "button_style": "success",
       "description": "Update plot",
       "icon": "paint-brush",
       "layout": "IPY_MODEL_b066e3a83ac34f1a8f7719e1454d5875",
       "style": "IPY_MODEL_dad9cd6404314951aeb9cf470121a8d4",
       "tooltip": "Click to redraw the plot below with updated options from above."
      }
     },
     "c55be318b618401aa49426e531b98d5a": {
      "model_module": "@jupyter-widgets/controls",
      "model_module_version": "1.1.0",
      "model_name": "DescriptionStyleModel",
      "state": {
       "description_width": ""
      }
     },
     "c562ef4f47e44ba4a25a1214067302a6": {
      "model_module": "@jupyter-widgets/controls",
      "model_module_version": "1.1.0",
      "model_name": "ToggleButtonsModel",
      "state": {
       "_options_labels": [
        "N (¹n)",
        "NDC (¹n)",
        "P (¹H)",
        "D (²H)",
        "T (³H)",
        "S (³He)",
        "A (⁴He)"
       ],
       "button_style": "",
       "description": "Type:",
       "icons": [],
       "index": 0,
       "layout": "IPY_MODEL_c1aebeaac9fa4ea282b7974dbfe4b85e",
       "style": "IPY_MODEL_f5ec4bafce8a47389fc36bbf380ff089",
       "tooltips": [
        "Neutron",
        "Back Target Neutron",
        "Proton",
        "Deuteron",
        "Triton",
        "Helium-3",
        "Helium-4"
       ]
      }
     },
     "c56ced0041c94f55aaa3a317d34c1d09": {
      "model_module": "@jupyter-widgets/controls",
      "model_module_version": "1.1.0",
      "model_name": "CheckboxModel",
      "state": {
       "description": "10°",
       "disabled": false,
       "layout": "IPY_MODEL_851d0803bb734f5cb54c8d637c457fd7",
       "style": "IPY_MODEL_652dafb0d07046108b2c23f2fb75432c",
       "value": true
      }
     },
     "c5ba512b65544eac8892c3d40dc607c7": {
      "model_module": "@jupyter-widgets/controls",
      "model_module_version": "1.1.0",
      "model_name": "CheckboxModel",
      "state": {
       "description": "80°",
       "disabled": false,
       "layout": "IPY_MODEL_5d2d2ef1e6f84956a3c03ae6b9da9860",
       "style": "IPY_MODEL_63d86dafd39f4b03988a50402ac33d4c",
       "value": true
      }
     },
     "c5d36e086e9d4cc3b7d1557ef0f7fa5e": {
      "model_module": "@jupyter-widgets/base",
      "model_module_version": "1.0.0",
      "model_name": "LayoutModel",
      "state": {}
     },
     "c6149c9d664341eeb822611421881604": {
      "model_module": "@jupyter-widgets/base",
      "model_module_version": "1.0.0",
      "model_name": "LayoutModel",
      "state": {}
     },
     "c62d708d273e40c981235311559699b9": {
      "model_module": "@jupyter-widgets/controls",
      "model_module_version": "1.1.0",
      "model_name": "DescriptionStyleModel",
      "state": {
       "description_width": ""
      }
     },
     "c65b04ff06e647c3a975ba85789edcdd": {
      "model_module": "@jupyter-widgets/controls",
      "model_module_version": "1.1.0",
      "model_name": "DescriptionStyleModel",
      "state": {
       "description_width": ""
      }
     },
     "c678569758de4f529b9236ee5c8403d5": {
      "model_module": "@jupyter-widgets/controls",
      "model_module_version": "1.1.0",
      "model_name": "DescriptionStyleModel",
      "state": {
       "description_width": ""
      }
     },
     "c6d34a4b256b4c58bd95617ca18f265f": {
      "model_module": "@jupyter-widgets/controls",
      "model_module_version": "1.1.0",
      "model_name": "CheckboxModel",
      "state": {
       "description": "10°",
       "disabled": false,
       "layout": "IPY_MODEL_99b698eb56d747a4b5796dc5533fe444",
       "style": "IPY_MODEL_90182fc3b98247dda06477453d580c02",
       "value": true
      }
     },
     "c6e914b0c98940cfb5bdd881a7c06bf3": {
      "model_module": "@jupyter-widgets/controls",
      "model_module_version": "1.1.0",
      "model_name": "DescriptionStyleModel",
      "state": {
       "description_width": ""
      }
     },
     "c72ecd5963ba4d40907396c95939e1c6": {
      "model_module": "@jupyter-widgets/base",
      "model_module_version": "1.0.0",
      "model_name": "LayoutModel",
      "state": {}
     },
     "c7328194159f4f2d85a4bda0a8139429": {
      "model_module": "@jupyter-widgets/controls",
      "model_module_version": "1.1.0",
      "model_name": "ButtonModel",
      "state": {
       "button_style": "success",
       "description": "Update plot",
       "icon": "paint-brush",
       "layout": "IPY_MODEL_5d45e9bedef14a86a1f78bb791530cec",
       "style": "IPY_MODEL_47696c0e2de54cffb03295fdca3ba4f9",
       "tooltip": "Click to redraw the plot below with updated options from above."
      }
     },
     "c758b050ef9b47c8b35069f92aa067b8": {
      "model_module": "@jupyter-widgets/base",
      "model_module_version": "1.0.0",
      "model_name": "LayoutModel",
      "state": {}
     },
     "c760664bc998443bb84932afb31eaad6": {
      "model_module": "@jupyter-widgets/base",
      "model_module_version": "1.0.0",
      "model_name": "LayoutModel",
      "state": {}
     },
     "c781799eb21a4af9aa79ac3f284d2c6c": {
      "model_module": "@jupyter-widgets/controls",
      "model_module_version": "1.1.0",
      "model_name": "LabelModel",
      "state": {
       "layout": "IPY_MODEL_88cfa02151b34707990f8b6da4262858",
       "style": "IPY_MODEL_d21dcefe518440e3b2bc50573c012adc",
       "value": "Select which secondary particle to plot spectra for."
      }
     },
     "c7c074fc033c4dddb885c5dd94e89828": {
      "model_module": "@jupyter-widgets/controls",
      "model_module_version": "1.1.0",
      "model_name": "LabelModel",
      "state": {
       "layout": "IPY_MODEL_c36ab799793746f6bc03bf2334ab97d9",
       "style": "IPY_MODEL_c459114639ed4bc5a71cb01a38c3b60d",
       "value": "Select which sets of data to display."
      }
     },
     "c7cfcb5d67974ae0ba1f4bc0e90120d3": {
      "model_module": "@jupyter-widgets/base",
      "model_module_version": "1.0.0",
      "model_name": "LayoutModel",
      "state": {}
     },
     "c7efe43aa3db4c0ca7e119d893945ce5": {
      "model_module": "@jupyter-widgets/controls",
      "model_module_version": "1.1.0",
      "model_name": "DescriptionStyleModel",
      "state": {
       "description_width": ""
      }
     },
     "c816ae50e3264d988f545c5092782e7c": {
      "model_module": "@jupyter-widgets/controls",
      "model_module_version": "1.1.0",
      "model_name": "CheckboxModel",
      "state": {
       "description": "28.2°",
       "disabled": false,
       "layout": "IPY_MODEL_6860fc537c664772b30afb7ebfc841f2",
       "style": "IPY_MODEL_381a1152e0f54045a01f73deaa3a0891",
       "value": false
      }
     },
     "c8211cb6300e44fa966325786ab29b71": {
      "model_module": "@jupyter-widgets/controls",
      "model_module_version": "1.1.0",
      "model_name": "DescriptionStyleModel",
      "state": {
       "description_width": ""
      }
     },
     "c8511dd3661343c6858f5476e0b6fc22": {
      "model_module": "@jupyter-widgets/controls",
      "model_module_version": "1.1.0",
      "model_name": "CheckboxModel",
      "state": {
       "description": "45°",
       "disabled": false,
       "layout": "IPY_MODEL_7ece3efc3e354dbfafc81f8f5768649d",
       "style": "IPY_MODEL_3c1f3f08990e48fa8891fc336116f9c7",
       "value": true
      }
     },
     "c8572d550f764f4fa25c8affbd897b36": {
      "model_module": "@jupyter-widgets/controls",
      "model_module_version": "1.1.0",
      "model_name": "ButtonModel",
      "state": {
       "button_style": "success",
       "description": "Update plot",
       "icon": "paint-brush",
       "layout": "IPY_MODEL_aef4391aa0ee4ab78258b8820f439057",
       "style": "IPY_MODEL_1a684b2eadf148cba283c44e38e6ec3c",
       "tooltip": "Click to redraw the plot below with updated options from above."
      }
     },
     "c8ae63bb7c01400db0e6029877fcd041": {
      "model_module": "@jupyter-widgets/controls",
      "model_module_version": "1.1.0",
      "model_name": "DescriptionStyleModel",
      "state": {
       "description_width": ""
      }
     },
     "c9096cce08064afe9a49ae9c2fa7066b": {
      "model_module": "@jupyter-widgets/base",
      "model_module_version": "1.0.0",
      "model_name": "LayoutModel",
      "state": {}
     },
     "c91d206c71514e329592f5b2d7847ce1": {
      "model_module": "@jupyter-widgets/controls",
      "model_module_version": "1.1.0",
      "model_name": "ToggleButtonsModel",
      "state": {
       "_options_labels": [
        "OLS",
        "NaI"
       ],
       "button_style": "",
       "description": "Type:",
       "icons": [],
       "index": 0,
       "layout": "IPY_MODEL_bda8a0b7dba3496ba7ce9e542d024565",
       "style": "IPY_MODEL_5f3628b512394296a21837d4baf0cae3",
       "tooltips": [
        "Organic Liquid Scintillator",
        "Sodium Iodide"
       ]
      }
     },
     "c95e28d6844e45619a4a4d1857fd5165": {
      "model_module": "@jupyter-widgets/controls",
      "model_module_version": "1.1.0",
      "model_name": "DescriptionStyleModel",
      "state": {
       "description_width": ""
      }
     },
     "c9a56b89822e4c4fbe565ecbbd144637": {
      "model_module": "@jupyter-widgets/controls",
      "model_module_version": "1.1.0",
      "model_name": "DescriptionStyleModel",
      "state": {
       "description_width": ""
      }
     },
     "c9cb879e1adc497faaf4f9487356048f": {
      "model_module": "@jupyter-widgets/controls",
      "model_module_version": "1.1.0",
      "model_name": "ToggleButtonsStyleModel",
      "state": {
       "button_width": "",
       "description_width": ""
      }
     },
     "ca085263f9b244b0a4e6d635af9f2787": {
      "model_module": "@jupyter-widgets/controls",
      "model_module_version": "1.1.0",
      "model_name": "CheckboxModel",
      "state": {
       "description": "45°",
       "disabled": false,
       "layout": "IPY_MODEL_3c0a2da75dd243fc8e9cabdd1f16b48c",
       "style": "IPY_MODEL_6e2dd0d385234c758577ccd5cbbbcad0",
       "value": true
      }
     },
     "ca182e3a0f424fc68dfb41f48a7d9b02": {
      "model_module": "@jupyter-widgets/controls",
      "model_module_version": "1.1.0",
      "model_name": "ToggleButtonsModel",
      "state": {
       "_options_labels": [
        "N (¹n)",
        "NDC (¹n)"
       ],
       "button_style": "",
       "description": "Type:",
       "icons": [],
       "index": 0,
       "layout": "IPY_MODEL_5101c32fba2647e7b23b2c007b6a958d",
       "style": "IPY_MODEL_cc98f6ce25ae4f01a2d0186e181a2604",
       "tooltips": [
        "Neutron",
        "Back Target Neutron"
       ]
      }
     },
     "ca45354f50c94677a51e2632ed6da418": {
      "model_module": "@jupyter-widgets/controls",
      "model_module_version": "1.1.0",
      "model_name": "DescriptionStyleModel",
      "state": {
       "description_width": ""
      }
     },
     "ca4e9777b07947ecabbda0ab4c227933": {
      "model_module": "@jupyter-widgets/controls",
      "model_module_version": "1.1.0",
      "model_name": "ToggleButtonsModel",
      "state": {
       "_options_labels": [
        "OLS",
        "NaI"
       ],
       "button_style": "",
       "description": "Type:",
       "icons": [],
       "index": 0,
       "layout": "IPY_MODEL_863893332e2e4a1ea3beeeb0e14183ca",
       "style": "IPY_MODEL_421425277dc24c669526e22b1bd57aa2",
       "tooltips": [
        "Organic Liquid Scintillator",
        "Sodium Iodide"
       ]
      }
     },
     "ca97b7d91b494700a0f9d8dbcdc06288": {
      "model_module": "@jupyter-widgets/controls",
      "model_module_version": "1.1.0",
      "model_name": "CheckboxModel",
      "state": {
       "description": "45°",
       "disabled": false,
       "layout": "IPY_MODEL_3ab053ea2b48422690ce68b194f7ddce",
       "style": "IPY_MODEL_e68d8f144a094788886e98075cc5562e",
       "value": true
      }
     },
     "caa204e113d1449080e1c516dedcc235": {
      "model_module": "@jupyter-widgets/controls",
      "model_module_version": "1.1.0",
      "model_name": "DescriptionStyleModel",
      "state": {
       "description_width": ""
      }
     },
     "cab1869c6d1a4ab0bb065fd99a0140ad": {
      "model_module": "@jupyter-widgets/base",
      "model_module_version": "1.0.0",
      "model_name": "LayoutModel",
      "state": {}
     },
     "cb0a7974a4e34272921826b18fdb2d63": {
      "model_module": "@jupyter-widgets/controls",
      "model_module_version": "1.1.0",
      "model_name": "CheckboxModel",
      "state": {
       "description": "10°",
       "disabled": false,
       "layout": "IPY_MODEL_4b2dacfe18dc47e1a9d89b9d4d0d17ff",
       "style": "IPY_MODEL_6ba8174a3a714bbda95b620867e30c97",
       "value": true
      }
     },
     "cb181dab03d54ddba255fc96e4d2a1cd": {
      "model_module": "@jupyter-widgets/controls",
      "model_module_version": "1.1.0",
      "model_name": "LabelModel",
      "state": {
       "layout": "IPY_MODEL_298021c8e8b04b778ba3e3be8f36f9d6",
       "style": "IPY_MODEL_d9d5d8db352a493f88c715bae758c0a6",
       "value": "Select projectile ion energy."
      }
     },
     "cb570e4a32cf48c1b8b9eb2590302fbc": {
      "model_module": "@jupyter-widgets/controls",
      "model_module_version": "1.1.0",
      "model_name": "DescriptionStyleModel",
      "state": {
       "description_width": ""
      }
     },
     "cc25001962124cd0b19df67981cb178d": {
      "model_module": "@jupyter-widgets/controls",
      "model_module_version": "1.1.0",
      "model_name": "DescriptionStyleModel",
      "state": {
       "description_width": ""
      }
     },
     "cc5a322d499e45ec875485585e0187e8": {
      "model_module": "@jupyter-widgets/base",
      "model_module_version": "1.0.0",
      "model_name": "LayoutModel",
      "state": {}
     },
     "cc65ddbade114d65816325a44dc067e5": {
      "model_module": "@jupyter-widgets/controls",
      "model_module_version": "1.1.0",
      "model_name": "LabelModel",
      "state": {
       "layout": "IPY_MODEL_af0482e6032a4b5c895c578b92a107b1",
       "style": "IPY_MODEL_ef63fe9cf051472285a2119408a5362c",
       "value": "Select the detector angles to plot."
      }
     },
     "cc72e4f4aa744945b46d2989b2c8382b": {
      "model_module": "@jupyter-widgets/base",
      "model_module_version": "1.0.0",
      "model_name": "LayoutModel",
      "state": {}
     },
     "cc8d38e0424c4fb483595feafc62784c": {
      "model_module": "@jupyter-widgets/controls",
      "model_module_version": "1.1.0",
      "model_name": "ToggleButtonsStyleModel",
      "state": {
       "button_width": "",
       "description_width": ""
      }
     },
     "cc98f6ce25ae4f01a2d0186e181a2604": {
      "model_module": "@jupyter-widgets/controls",
      "model_module_version": "1.1.0",
      "model_name": "ToggleButtonsStyleModel",
      "state": {
       "button_width": "",
       "description_width": ""
      }
     },
     "cca342e79c6b4f2abd356205fe68475c": {
      "model_module": "@jupyter-widgets/base",
      "model_module_version": "1.0.0",
      "model_name": "LayoutModel",
      "state": {}
     },
     "cca5dfc34d4d45ccb86da44519b3d350": {
      "model_module": "@jupyter-widgets/controls",
      "model_module_version": "1.1.0",
      "model_name": "LabelModel",
      "state": {
       "layout": "IPY_MODEL_981cdde308eb4481983d9a466e0bac36",
       "style": "IPY_MODEL_a17e5aded5b64ba3a833ad45ea3a34bf",
       "value": "Select the detector angles to plot."
      }
     },
     "ccb28a988e3d4037916318232e82fdc2": {
      "model_module": "@jupyter-widgets/base",
      "model_module_version": "1.0.0",
      "model_name": "LayoutModel",
      "state": {}
     },
     "ccb92fb4f4334ceab4beced3bde87ad2": {
      "model_module": "@jupyter-widgets/controls",
      "model_module_version": "1.1.0",
      "model_name": "DescriptionStyleModel",
      "state": {
       "description_width": ""
      }
     },
     "ccc22dfa892845448f1f0d935789a00c": {
      "model_module": "@jupyter-widgets/controls",
      "model_module_version": "1.1.0",
      "model_name": "CheckboxModel",
      "state": {
       "description": "30°",
       "disabled": false,
       "layout": "IPY_MODEL_72e9a796ad4b465882749d9c1f88720d",
       "style": "IPY_MODEL_f4d47f670d944ed8aaa908b07c2eafa3",
       "value": true
      }
     },
     "cce19528bb244a56bb26001c0f9ab56b": {
      "model_module": "@jupyter-widgets/controls",
      "model_module_version": "1.1.0",
      "model_name": "LabelModel",
      "state": {
       "layout": "IPY_MODEL_7266346fb06e49e89e893c7ad7383d17",
       "style": "IPY_MODEL_752f436956fe47a4adbe7186aead7787",
       "value": "Select a detector type."
      }
     },
     "cd07564de7c04f08bf0f8be801547399": {
      "model_module": "@jupyter-widgets/controls",
      "model_module_version": "1.1.0",
      "model_name": "DescriptionStyleModel",
      "state": {
       "description_width": ""
      }
     },
     "cdbb0ba078c340cf92d6e7d7f2d48a90": {
      "model_module": "@jupyter-widgets/base",
      "model_module_version": "1.0.0",
      "model_name": "LayoutModel",
      "state": {}
     },
     "cdfea99b01064148b8409bc2880ccaac": {
      "model_module": "@jupyter-widgets/controls",
      "model_module_version": "1.1.0",
      "model_name": "CheckboxModel",
      "state": {
       "description": "135°",
       "disabled": false,
       "layout": "IPY_MODEL_a2bdbe1494814ef3a232b1d38c24af35",
       "style": "IPY_MODEL_5334baa65f5a442abe5e6394834ac8d0",
       "value": true
      }
     },
     "ce1ca5fc584746ed8a4fe751652309bd": {
      "model_module": "@jupyter-widgets/controls",
      "model_module_version": "1.1.0",
      "model_name": "DescriptionStyleModel",
      "state": {
       "description_width": ""
      }
     },
     "ce360aefa9294facabe1ee60bc0862de": {
      "model_module": "@jupyter-widgets/base",
      "model_module_version": "1.0.0",
      "model_name": "LayoutModel",
      "state": {}
     },
     "ce52ac3d56b948a78c6987a176d06f62": {
      "model_module": "@jupyter-widgets/controls",
      "model_module_version": "1.1.0",
      "model_name": "ToggleButtonsStyleModel",
      "state": {
       "button_width": "",
       "description_width": ""
      }
     },
     "ce59fc8fef4245e2920d77de606af00b": {
      "model_module": "@jupyter-widgets/controls",
      "model_module_version": "1.1.0",
      "model_name": "CheckboxModel",
      "state": {
       "description": "45°",
       "disabled": false,
       "layout": "IPY_MODEL_67c7ff1eaa964102bb237a7e61175365",
       "style": "IPY_MODEL_d0c61a6afc2348c698021a04935529b0",
       "value": true
      }
     },
     "ceb39673d4414fd298cd7f6f4aec66f0": {
      "model_module": "@jupyter-widgets/controls",
      "model_module_version": "1.1.0",
      "model_name": "DescriptionStyleModel",
      "state": {
       "description_width": ""
      }
     },
     "cf507ac9b5704ecda923c74581b54fa9": {
      "model_module": "@jupyter-widgets/base",
      "model_module_version": "1.0.0",
      "model_name": "LayoutModel",
      "state": {}
     },
     "cf5108288c424c15bfd42102e6b2c791": {
      "model_module": "@jupyter-widgets/controls",
      "model_module_version": "1.1.0",
      "model_name": "ToggleButtonsModel",
      "state": {
       "_options_labels": [
        "400 MeV/n",
        "800 MeV/n",
        "1500 MeV/n"
       ],
       "button_style": "",
       "description": "Energy:",
       "icons": [],
       "index": 0,
       "layout": "IPY_MODEL_16645c168df54931bd863473f3de34b4",
       "style": "IPY_MODEL_ce52ac3d56b948a78c6987a176d06f62",
       "tooltips": [
        "lowest energy",
        "middle energy",
        "highest energy"
       ]
      }
     },
     "cf71b31f4cc440f89857fc5385661b21": {
      "model_module": "@jupyter-widgets/base",
      "model_module_version": "1.0.0",
      "model_name": "LayoutModel",
      "state": {}
     },
     "cf8555f94a5a495ea3b65f53dda0e5e0": {
      "model_module": "@jupyter-widgets/controls",
      "model_module_version": "1.1.0",
      "model_name": "DescriptionStyleModel",
      "state": {
       "description_width": ""
      }
     },
     "cfd89952bf0f4bc58f55bb5e034a9751": {
      "model_module": "@jupyter-widgets/controls",
      "model_module_version": "1.1.0",
      "model_name": "DescriptionStyleModel",
      "state": {
       "description_width": ""
      }
     },
     "d03745aebfca42919e9524eda50fc4da": {
      "model_module": "@jupyter-widgets/controls",
      "model_module_version": "1.1.0",
      "model_name": "CheckboxModel",
      "state": {
       "description": "7.2°",
       "disabled": false,
       "layout": "IPY_MODEL_7df21e8d5f964ee6940895fc16107d6f",
       "style": "IPY_MODEL_1e0c3eaa0d044be580b73c12fea09940",
       "value": true
      }
     },
     "d06b4dfdfe6649a2ab46d63a4d205844": {
      "model_module": "@jupyter-widgets/controls",
      "model_module_version": "1.1.0",
      "model_name": "CheckboxModel",
      "state": {
       "description": "10°",
       "disabled": false,
       "layout": "IPY_MODEL_460c05ff88a1487bbc9076500df65cf9",
       "style": "IPY_MODEL_30a95d8f1e9243a7b1ba9dabdd13c516",
       "value": true
      }
     },
     "d0712f64deb44255bae5800bafb719c0": {
      "model_module": "@jupyter-widgets/base",
      "model_module_version": "1.0.0",
      "model_name": "LayoutModel",
      "state": {}
     },
     "d09da5f86ec0486cb0fbeaad7d0b924a": {
      "model_module": "@jupyter-widgets/controls",
      "model_module_version": "1.1.0",
      "model_name": "DescriptionStyleModel",
      "state": {
       "description_width": ""
      }
     },
     "d0b49198d9184be0be9fa847b872bf6a": {
      "model_module": "@jupyter-widgets/controls",
      "model_module_version": "1.1.0",
      "model_name": "CheckboxModel",
      "state": {
       "description": "32.7°",
       "disabled": false,
       "layout": "IPY_MODEL_eb4ab7313de148e7975c3fd05921afd6",
       "style": "IPY_MODEL_2a4f94f6fc7342c99b7ed5068f1975d8",
       "value": false
      }
     },
     "d0c61a6afc2348c698021a04935529b0": {
      "model_module": "@jupyter-widgets/controls",
      "model_module_version": "1.1.0",
      "model_name": "DescriptionStyleModel",
      "state": {
       "description_width": ""
      }
     },
     "d0e0b39e16a8469d991ae26667382082": {
      "model_module": "@jupyter-widgets/controls",
      "model_module_version": "1.1.0",
      "model_name": "LabelModel",
      "state": {
       "layout": "IPY_MODEL_21c98fa0b913448fa02f309f8618c074",
       "style": "IPY_MODEL_77df7263787a480793999b2d1bfbd4c8",
       "value": "Select the detector angles to plot."
      }
     },
     "d0e1fef06d624578ae9bcc6a340862b2": {
      "model_module": "@jupyter-widgets/controls",
      "model_module_version": "1.1.0",
      "model_name": "CheckboxModel",
      "state": {
       "description": "MCNP simulated",
       "disabled": false,
       "layout": "IPY_MODEL_f10bfd995f7d431d8b378fcd07b5c54e",
       "style": "IPY_MODEL_c4a1b29d0fb141bdbb5de598c0f0303c",
       "value": true
      }
     },
     "d10246cf9dd74b78a37796d6c119979c": {
      "model_module": "@jupyter-widgets/controls",
      "model_module_version": "1.1.0",
      "model_name": "DescriptionStyleModel",
      "state": {
       "description_width": ""
      }
     },
     "d10acb0e71b24bb2b589371ee184085a": {
      "model_module": "@jupyter-widgets/base",
      "model_module_version": "1.0.0",
      "model_name": "LayoutModel",
      "state": {}
     },
     "d11cbd2368a4449d85a3884279d92917": {
      "model_module": "@jupyter-widgets/controls",
      "model_module_version": "1.1.0",
      "model_name": "LabelModel",
      "state": {
       "layout": "IPY_MODEL_0405d139d80c4d2fb48d2bc080b29133",
       "style": "IPY_MODEL_ae00635134a94eb785d52a4eb527ed7a",
       "value": "Select projectile ion energy."
      }
     },
     "d12d91af368c443586afb28670757a6d": {
      "model_module": "@jupyter-widgets/controls",
      "model_module_version": "1.1.0",
      "model_name": "LabelModel",
      "state": {
       "layout": "IPY_MODEL_77325e05ad2b433c87a9d5728f7d5981",
       "style": "IPY_MODEL_f063c43e128244e0b1ce21cf847b324b",
       "value": "Select which secondary particle to plot spectra for."
      }
     },
     "d1331ffa41c94abdacbc2ece91c03a7e": {
      "model_module": "@jupyter-widgets/base",
      "model_module_version": "1.0.0",
      "model_name": "LayoutModel",
      "state": {}
     },
     "d141f9622d7a4604a2f6c62bfabf5669": {
      "model_module": "@jupyter-widgets/base",
      "model_module_version": "1.0.0",
      "model_name": "LayoutModel",
      "state": {}
     },
     "d1ac398fa03e44a19539a04c4ceeade0": {
      "model_module": "@jupyter-widgets/base",
      "model_module_version": "1.0.0",
      "model_name": "LayoutModel",
      "state": {}
     },
     "d21dcefe518440e3b2bc50573c012adc": {
      "model_module": "@jupyter-widgets/controls",
      "model_module_version": "1.1.0",
      "model_name": "DescriptionStyleModel",
      "state": {
       "description_width": ""
      }
     },
     "d25f491b0e884a14a2edd32657745a70": {
      "model_module": "@jupyter-widgets/controls",
      "model_module_version": "1.1.0",
      "model_name": "DescriptionStyleModel",
      "state": {
       "description_width": ""
      }
     },
     "d2d4748d7e4a474f915d0d74bdbdd997": {
      "model_module": "@jupyter-widgets/base",
      "model_module_version": "1.0.0",
      "model_name": "LayoutModel",
      "state": {}
     },
     "d31cfd5f4c5f4ce290a396164e3ede08": {
      "model_module": "@jupyter-widgets/controls",
      "model_module_version": "1.1.0",
      "model_name": "DescriptionStyleModel",
      "state": {
       "description_width": ""
      }
     },
     "d356f5cd30dd499481e6418c369bd94c": {
      "model_module": "@jupyter-widgets/controls",
      "model_module_version": "1.1.0",
      "model_name": "DescriptionStyleModel",
      "state": {
       "description_width": ""
      }
     },
     "d35e5f77b41c4814bb56e1036ae4fbfe": {
      "model_module": "@jupyter-widgets/controls",
      "model_module_version": "1.1.0",
      "model_name": "CheckboxModel",
      "state": {
       "description": "80°",
       "disabled": false,
       "layout": "IPY_MODEL_6dc1d2dba536489e85ba12120a94c707",
       "style": "IPY_MODEL_a369064e5b44428d8172adba0d439f70",
       "value": true
      }
     },
     "d36a66cbb06a49fc8b0bd0d5f5fbd66b": {
      "model_module": "@jupyter-widgets/controls",
      "model_module_version": "1.1.0",
      "model_name": "LabelModel",
      "state": {
       "layout": "IPY_MODEL_5e3355da7b9848ccac220d67e4854e00",
       "style": "IPY_MODEL_87e9155972b8434b99ed4584a1a99d02",
       "value": "Select projectile ion energy."
      }
     },
     "d37cc067f1304cf2bc31222f899ce506": {
      "model_module": "@jupyter-widgets/base",
      "model_module_version": "1.0.0",
      "model_name": "LayoutModel",
      "state": {}
     },
     "d380f760dcf04c08bc4b7e227caf8416": {
      "model_module": "@jupyter-widgets/base",
      "model_module_version": "1.0.0",
      "model_name": "LayoutModel",
      "state": {}
     },
     "d3c2d5b482364a8388e43e20541a6253": {
      "model_module": "@jupyter-widgets/controls",
      "model_module_version": "1.1.0",
      "model_name": "DescriptionStyleModel",
      "state": {
       "description_width": ""
      }
     },
     "d43db88bfe454f5cba401e106d89ffff": {
      "model_module": "@jupyter-widgets/controls",
      "model_module_version": "1.1.0",
      "model_name": "ToggleButtonsModel",
      "state": {
       "_options_labels": [
        "400 MeV",
        "800 MeV",
        "2500 MeV"
       ],
       "button_style": "",
       "description": "Energy:",
       "icons": [],
       "index": 0,
       "layout": "IPY_MODEL_c72ecd5963ba4d40907396c95939e1c6",
       "style": "IPY_MODEL_818e25e4cb0b4fec929f25ceebdb701b",
       "tooltips": [
        "lowest energy",
        "middle energy",
        "highest energy"
       ]
      }
     },
     "d46fa8a32302462a999d0a7f559585a5": {
      "model_module": "@jupyter-widgets/controls",
      "model_module_version": "1.1.0",
      "model_name": "ToggleButtonsModel",
      "state": {
       "_options_labels": [
        "N (¹n)",
        "NDC (¹n)",
        "P (¹H)",
        "D (²H)",
        "T (³H)",
        "S (³He)",
        "A (⁴He)"
       ],
       "button_style": "",
       "description": "Type:",
       "icons": [],
       "index": 0,
       "layout": "IPY_MODEL_c6149c9d664341eeb822611421881604",
       "style": "IPY_MODEL_aa131432c11c43cd9c947c59d810af25",
       "tooltips": [
        "Neutron",
        "Back Target Neutron",
        "Proton",
        "Deuteron",
        "Triton",
        "Helium-3",
        "Helium-4"
       ]
      }
     },
     "d47e2aa139ec4bc48fe1cd293fbfea06": {
      "model_module": "@jupyter-widgets/controls",
      "model_module_version": "1.1.0",
      "model_name": "DescriptionStyleModel",
      "state": {
       "description_width": ""
      }
     },
     "d48a7a058fb447fab5d67609ac3ff4e6": {
      "model_module": "@jupyter-widgets/controls",
      "model_module_version": "1.1.0",
      "model_name": "DescriptionStyleModel",
      "state": {
       "description_width": ""
      }
     },
     "d4acb5713705428ab1aceb1e8772a660": {
      "model_module": "@jupyter-widgets/controls",
      "model_module_version": "1.1.0",
      "model_name": "LabelModel",
      "state": {
       "layout": "IPY_MODEL_74ea0dc61073468e9e0226a6ea33f180",
       "style": "IPY_MODEL_fb46bc84044a4051b90c55b7d4fbb1ab",
       "value": "Select the detector angles to plot."
      }
     },
     "d4b9f633fd8e436691e847affb28e00e": {
      "model_module": "@jupyter-widgets/controls",
      "model_module_version": "1.1.0",
      "model_name": "DescriptionStyleModel",
      "state": {
       "description_width": ""
      }
     },
     "d505af3d2b874d91afabc23a4681c26c": {
      "model_module": "@jupyter-widgets/controls",
      "model_module_version": "1.1.0",
      "model_name": "DescriptionStyleModel",
      "state": {
       "description_width": ""
      }
     },
     "d529fa62e7e94894b3d5a2100c861933": {
      "model_module": "@jupyter-widgets/controls",
      "model_module_version": "1.1.0",
      "model_name": "ToggleButtonsStyleModel",
      "state": {
       "button_width": "",
       "description_width": ""
      }
     },
     "d54378043d464adeb0c417cdf20b4616": {
      "model_module": "@jupyter-widgets/controls",
      "model_module_version": "1.1.0",
      "model_name": "DescriptionStyleModel",
      "state": {
       "description_width": ""
      }
     },
     "d54854d800e84617aacf520cbd7df79d": {
      "model_module": "@jupyter-widgets/base",
      "model_module_version": "1.0.0",
      "model_name": "LayoutModel",
      "state": {}
     },
     "d552c1b61ca04e5a85526db6807b5d18": {
      "model_module": "@jupyter-widgets/controls",
      "model_module_version": "1.1.0",
      "model_name": "ToggleButtonsStyleModel",
      "state": {
       "button_width": "",
       "description_width": ""
      }
     },
     "d5740c9c717f42e7b4dfa1b1d430d732": {
      "model_module": "@jupyter-widgets/controls",
      "model_module_version": "1.1.0",
      "model_name": "CheckboxModel",
      "state": {
       "description": "60°",
       "disabled": false,
       "layout": "IPY_MODEL_e8b835b886ea4c968b92fde00e855c21",
       "style": "IPY_MODEL_7a7ba5dbc4044b0fa55b390b45f1c3b3",
       "value": true
      }
     },
     "d5a9329f81924f0ea96d106012f994ab": {
      "model_module": "@jupyter-widgets/controls",
      "model_module_version": "1.1.0",
      "model_name": "CheckboxModel",
      "state": {
       "description": "45°",
       "disabled": false,
       "layout": "IPY_MODEL_53519e7ebbf249e681459daa23be4e3f",
       "style": "IPY_MODEL_95fa7347cc184ca68dc4e17717d1ea43",
       "value": true
      }
     },
     "d5cea0698b5549ff91278b8edbf8403c": {
      "model_module": "@jupyter-widgets/base",
      "model_module_version": "1.0.0",
      "model_name": "LayoutModel",
      "state": {}
     },
     "d62ab8f41abe47f8859a1ed9e30b93eb": {
      "model_module": "@jupyter-widgets/controls",
      "model_module_version": "1.1.0",
      "model_name": "ToggleButtonsModel",
      "state": {
       "_options_labels": [
        "N (¹n)",
        "NDC (¹n)",
        "P (¹H)",
        "D (²H)"
       ],
       "button_style": "",
       "description": "Type:",
       "icons": [],
       "index": 0,
       "layout": "IPY_MODEL_54056f40661c4f7b81a0a27fb1dd94fd",
       "style": "IPY_MODEL_aa576a24ff1e4532a1ab8eb9fca802c4",
       "tooltips": [
        "Neutron",
        "Back Target Neutron",
        "Proton",
        "Deuteron"
       ]
      }
     },
     "d64a6f169766417687bda1456c4afe74": {
      "model_module": "@jupyter-widgets/base",
      "model_module_version": "1.0.0",
      "model_name": "LayoutModel",
      "state": {}
     },
     "d656614de7e54e42afa5eab1410a0eca": {
      "model_module": "@jupyter-widgets/base",
      "model_module_version": "1.0.0",
      "model_name": "LayoutModel",
      "state": {}
     },
     "d6a7cc457e3742c183d9af3d1a0aacbd": {
      "model_module": "@jupyter-widgets/base",
      "model_module_version": "1.0.0",
      "model_name": "LayoutModel",
      "state": {}
     },
     "d6d089e56ca14104aa87d92b54c8c5fd": {
      "model_module": "@jupyter-widgets/controls",
      "model_module_version": "1.1.0",
      "model_name": "CheckboxModel",
      "state": {
       "description": "30°",
       "disabled": false,
       "layout": "IPY_MODEL_8b392c0326854e5f93df8f993af5595f",
       "style": "IPY_MODEL_d10246cf9dd74b78a37796d6c119979c",
       "value": true
      }
     },
     "d6d67849279d4eec8fe5b047ef4db595": {
      "model_module": "@jupyter-widgets/controls",
      "model_module_version": "1.1.0",
      "model_name": "DescriptionStyleModel",
      "state": {
       "description_width": ""
      }
     },
     "d6eda2496fac475caf2e51fbacd7e9e4": {
      "model_module": "@jupyter-widgets/controls",
      "model_module_version": "1.1.0",
      "model_name": "CheckboxModel",
      "state": {
       "description": "12.7°",
       "disabled": false,
       "layout": "IPY_MODEL_75c02e8a80754bd2b432497f85d747be",
       "style": "IPY_MODEL_08a9fee61c6045c59bcc75c4bd20081c",
       "value": false
      }
     },
     "d7301efcfaf240e7a25f464811b3aaee": {
      "model_module": "@jupyter-widgets/base",
      "model_module_version": "1.0.0",
      "model_name": "LayoutModel",
      "state": {}
     },
     "d7728d7f18734d9985528ec5cc7e6bb9": {
      "model_module": "@jupyter-widgets/controls",
      "model_module_version": "1.1.0",
      "model_name": "DescriptionStyleModel",
      "state": {
       "description_width": ""
      }
     },
     "d787a6af00114089a18df01cc6832c33": {
      "model_module": "@jupyter-widgets/base",
      "model_module_version": "1.0.0",
      "model_name": "LayoutModel",
      "state": {}
     },
     "d7959efa2c654e6baf4d5e7d1100d24d": {
      "model_module": "@jupyter-widgets/controls",
      "model_module_version": "1.1.0",
      "model_name": "ToggleButtonsModel",
      "state": {
       "_options_labels": [
        "20 g/cm²",
        "40 g/cm²",
        "60 g/cm²"
       ],
       "button_style": "",
       "description": "Thickness:",
       "icons": [],
       "index": 1,
       "layout": "IPY_MODEL_8343888407d44945ae56701f2e2d6087",
       "style": "IPY_MODEL_9a0974ca170a48b6b4a0fcc84a2a35a4",
       "tooltips": [
        "20 g/cm² Aluminum",
        "40 g/cm² Aluminum",
        "60 g/cm² Aluminum"
       ]
      }
     },
     "d7c36f5ed1e24294ba35b69cf424710d": {
      "model_module": "@jupyter-widgets/controls",
      "model_module_version": "1.1.0",
      "model_name": "CheckboxModel",
      "state": {
       "description": "60°",
       "disabled": false,
       "layout": "IPY_MODEL_619eb7b1a8ab4a82a15314965e6fe9a2",
       "style": "IPY_MODEL_e325c6be398a42c2b945c5be78fb0c06",
       "value": true
      }
     },
     "d7c97b1ab1a3442b8d330c7f2321e3d2": {
      "model_module": "@jupyter-widgets/controls",
      "model_module_version": "1.1.0",
      "model_name": "CheckboxModel",
      "state": {
       "description": "30°",
       "disabled": false,
       "layout": "IPY_MODEL_fa831ea3f4b347af83e3d34696ccf9ba",
       "style": "IPY_MODEL_d7f5b22bf97648fc983661711776f422",
       "value": true
      }
     },
     "d7d04417ef3a4532976d037d0a51da0c": {
      "model_module": "@jupyter-widgets/base",
      "model_module_version": "1.0.0",
      "model_name": "LayoutModel",
      "state": {}
     },
     "d7e0e5a003b4402f8fbab141e943e4c4": {
      "model_module": "@jupyter-widgets/controls",
      "model_module_version": "1.1.0",
      "model_name": "DescriptionStyleModel",
      "state": {
       "description_width": ""
      }
     },
     "d7f5b22bf97648fc983661711776f422": {
      "model_module": "@jupyter-widgets/controls",
      "model_module_version": "1.1.0",
      "model_name": "DescriptionStyleModel",
      "state": {
       "description_width": ""
      }
     },
     "d8795ba803974c8c92ae1d6df80faf43": {
      "model_module": "@jupyter-widgets/controls",
      "model_module_version": "1.1.0",
      "model_name": "DescriptionStyleModel",
      "state": {
       "description_width": ""
      }
     },
     "d87a5ba2965a4af2a2608a1a3332edb6": {
      "model_module": "@jupyter-widgets/controls",
      "model_module_version": "1.1.0",
      "model_name": "LabelModel",
      "state": {
       "layout": "IPY_MODEL_e7ecb71a6c3a41c7a7e8bd0ae54eff62",
       "style": "IPY_MODEL_9c0fbf4338534d459b3867084725c7ec",
       "value": "Select the detector angles to plot."
      }
     },
     "d89d57eeb9ee413baad1cb61dc3a999b": {
      "model_module": "@jupyter-widgets/base",
      "model_module_version": "1.0.0",
      "model_name": "LayoutModel",
      "state": {}
     },
     "d8ce672d8dbd42eda9a634d6c3226882": {
      "model_module": "@jupyter-widgets/controls",
      "model_module_version": "1.1.0",
      "model_name": "ToggleButtonsModel",
      "state": {
       "_options_labels": [
        "OLS",
        "NaI"
       ],
       "button_style": "",
       "description": "Type:",
       "icons": [],
       "index": 0,
       "layout": "IPY_MODEL_e48a0655d50b42b683d86c150a6e7824",
       "style": "IPY_MODEL_fa868bfc1e314c0ebe3116aa8acc6ef2",
       "tooltips": [
        "Organic Liquid Scintillator",
        "Sodium Iodide"
       ]
      }
     },
     "d8cf82f7923240cb886a4c0be92a65b1": {
      "model_module": "@jupyter-widgets/controls",
      "model_module_version": "1.1.0",
      "model_name": "LabelModel",
      "state": {
       "layout": "IPY_MODEL_80283625d8bf4c69b8c889786437052f",
       "style": "IPY_MODEL_074cb167ae664aa1a749896d67cfd459",
       "value": "Select the detector angles to plot."
      }
     },
     "d8e79c82101d4d939d3b239c270edb50": {
      "model_module": "@jupyter-widgets/controls",
      "model_module_version": "1.1.0",
      "model_name": "DescriptionStyleModel",
      "state": {
       "description_width": ""
      }
     },
     "d8f2b0c985bc447299b6419e1ceb7075": {
      "model_module": "@jupyter-widgets/base",
      "model_module_version": "1.0.0",
      "model_name": "LayoutModel",
      "state": {}
     },
     "d9522eb135c94484ab8c6f8eead3da76": {
      "model_module": "@jupyter-widgets/controls",
      "model_module_version": "1.1.0",
      "model_name": "DescriptionStyleModel",
      "state": {
       "description_width": ""
      }
     },
     "d99aff9ae3da4c99b9fc05e9620edc89": {
      "model_module": "@jupyter-widgets/base",
      "model_module_version": "1.0.0",
      "model_name": "LayoutModel",
      "state": {}
     },
     "d9b6254a1030432bbedb4417d10e52ec": {
      "model_module": "@jupyter-widgets/controls",
      "model_module_version": "1.1.0",
      "model_name": "ToggleButtonsModel",
      "state": {
       "_options_labels": [
        "None",
        "Spaced by 10²"
       ],
       "button_style": "",
       "description": "Spacing:",
       "icons": [],
       "index": 0,
       "layout": "IPY_MODEL_1719a77f518142a39ecc0dced8ab027f",
       "style": "IPY_MODEL_b949026b8c67487686303947e66a0280",
       "tooltips": [
        "All values are presented as is.",
        "Plots for different detectors are multiplied by powers of 10² for easier viewing."
       ]
      }
     },
     "d9cc632b94b840ef8142b19040133b67": {
      "model_module": "@jupyter-widgets/base",
      "model_module_version": "1.0.0",
      "model_name": "LayoutModel",
      "state": {}
     },
     "d9d5d8db352a493f88c715bae758c0a6": {
      "model_module": "@jupyter-widgets/controls",
      "model_module_version": "1.1.0",
      "model_name": "DescriptionStyleModel",
      "state": {
       "description_width": ""
      }
     },
     "da1ae399ff994bd6917366e2a1af5b33": {
      "model_module": "@jupyter-widgets/base",
      "model_module_version": "1.0.0",
      "model_name": "LayoutModel",
      "state": {}
     },
     "daa1eb14b20f48a5a9aba4450376ed13": {
      "model_module": "@jupyter-widgets/base",
      "model_module_version": "1.0.0",
      "model_name": "LayoutModel",
      "state": {}
     },
     "dacecf3f41d744dca9a326df46e03dc7": {
      "model_module": "@jupyter-widgets/base",
      "model_module_version": "1.0.0",
      "model_name": "LayoutModel",
      "state": {}
     },
     "dad9cd6404314951aeb9cf470121a8d4": {
      "model_module": "@jupyter-widgets/controls",
      "model_module_version": "1.1.0",
      "model_name": "ButtonStyleModel",
      "state": {}
     },
     "db12b09ac5ee42478514531637af188e": {
      "model_module": "@jupyter-widgets/controls",
      "model_module_version": "1.1.0",
      "model_name": "CheckboxModel",
      "state": {
       "description": "45°",
       "disabled": false,
       "layout": "IPY_MODEL_3cd124f1e9e744878abd76ecc1d9d390",
       "style": "IPY_MODEL_dff6c18cf37c44c2bd38a2be79fedc22",
       "value": true
      }
     },
     "db23ea9742d24a9eb53dca9df0670822": {
      "model_module": "@jupyter-widgets/base",
      "model_module_version": "1.0.0",
      "model_name": "LayoutModel",
      "state": {}
     },
     "db2556a40a264b19be782f90ab5a18ba": {
      "model_module": "@jupyter-widgets/controls",
      "model_module_version": "1.1.0",
      "model_name": "CheckboxModel",
      "state": {
       "description": "10°",
       "disabled": false,
       "layout": "IPY_MODEL_25d96007033c46ebaa20fafb1a8eedb6",
       "style": "IPY_MODEL_c95e28d6844e45619a4a4d1857fd5165",
       "value": true
      }
     },
     "db5db616c7af47308fb873261c5e5e7b": {
      "model_module": "@jupyter-widgets/controls",
      "model_module_version": "1.1.0",
      "model_name": "ToggleButtonsStyleModel",
      "state": {
       "button_width": "",
       "description_width": ""
      }
     },
     "dbebba09632b483a9b1a0034cee0d6a2": {
      "model_module": "@jupyter-widgets/base",
      "model_module_version": "1.0.0",
      "model_name": "LayoutModel",
      "state": {}
     },
     "dc1b2f7af7544418b6a168a31f72d912": {
      "model_module": "@jupyter-widgets/controls",
      "model_module_version": "1.1.0",
      "model_name": "CheckboxModel",
      "state": {
       "description": "MCNP simulated",
       "disabled": false,
       "layout": "IPY_MODEL_d8f2b0c985bc447299b6419e1ceb7075",
       "style": "IPY_MODEL_cd07564de7c04f08bf0f8be801547399",
       "value": true
      }
     },
     "dc2fd02629da40079836a46a6d085d52": {
      "model_module": "@jupyter-widgets/controls",
      "model_module_version": "1.1.0",
      "model_name": "DescriptionStyleModel",
      "state": {
       "description_width": ""
      }
     },
     "dc4083201fbe4d7b947a7e16b3ea3e09": {
      "model_module": "@jupyter-widgets/controls",
      "model_module_version": "1.1.0",
      "model_name": "LabelModel",
      "state": {
       "layout": "IPY_MODEL_e535cc5b301040faa3ea82d0ab3d6376",
       "style": "IPY_MODEL_c7efe43aa3db4c0ca7e119d893945ce5",
       "value": "Select how data sets for each detector should be spaced apart (if at all)."
      }
     },
     "dc545899afba40ea8c875493c461fd48": {
      "model_module": "@jupyter-widgets/base",
      "model_module_version": "1.0.0",
      "model_name": "LayoutModel",
      "state": {}
     },
     "dc6d91722d5c44ff8bff9b0db1e2cff7": {
      "model_module": "@jupyter-widgets/controls",
      "model_module_version": "1.1.0",
      "model_name": "DescriptionStyleModel",
      "state": {
       "description_width": ""
      }
     },
     "dcac55fa47134e5a80e306325f646db6": {
      "model_module": "@jupyter-widgets/base",
      "model_module_version": "1.0.0",
      "model_name": "LayoutModel",
      "state": {}
     },
     "dcc580c163444356988ae2cd34110f94": {
      "model_module": "@jupyter-widgets/controls",
      "model_module_version": "1.1.0",
      "model_name": "DescriptionStyleModel",
      "state": {
       "description_width": ""
      }
     },
     "dcd4150ab35545e2ac72db780bab26ae": {
      "model_module": "@jupyter-widgets/controls",
      "model_module_version": "1.1.0",
      "model_name": "CheckboxModel",
      "state": {
       "description": "28.2°",
       "disabled": false,
       "layout": "IPY_MODEL_a1f8d073dfd248cea3df0a3525424b95",
       "style": "IPY_MODEL_e473009d463b4dd885e541ddf845313d",
       "value": true
      }
     },
     "dcd4ce5edb6c44989f20208388f10188": {
      "model_module": "@jupyter-widgets/base",
      "model_module_version": "1.0.0",
      "model_name": "LayoutModel",
      "state": {}
     },
     "ddd4c7730c2943e088922ab80047a48e": {
      "model_module": "@jupyter-widgets/controls",
      "model_module_version": "1.1.0",
      "model_name": "DescriptionStyleModel",
      "state": {
       "description_width": ""
      }
     },
     "de136a4347eb43718c46e90b77ba4eae": {
      "model_module": "@jupyter-widgets/controls",
      "model_module_version": "1.1.0",
      "model_name": "DescriptionStyleModel",
      "state": {
       "description_width": ""
      }
     },
     "de211141ed4840f4b0dbc62e00d0f764": {
      "model_module": "@jupyter-widgets/base",
      "model_module_version": "1.0.0",
      "model_name": "LayoutModel",
      "state": {}
     },
     "de4ee6f855d746ea968143e1a598b77b": {
      "model_module": "@jupyter-widgets/controls",
      "model_module_version": "1.1.0",
      "model_name": "DescriptionStyleModel",
      "state": {
       "description_width": ""
      }
     },
     "dea5b9bad1cd4b9db9b9fd149c0395ad": {
      "model_module": "@jupyter-widgets/controls",
      "model_module_version": "1.1.0",
      "model_name": "ToggleButtonsModel",
      "state": {
       "_options_labels": [
        "400 MeV/n",
        "800 MeV/n",
        "1500 MeV/n"
       ],
       "button_style": "",
       "description": "Energy:",
       "icons": [],
       "index": 0,
       "layout": "IPY_MODEL_2e6eb0dd8f87479ab08dc9000d5723d2",
       "style": "IPY_MODEL_d529fa62e7e94894b3d5a2100c861933",
       "tooltips": [
        "lowest energy",
        "middle energy",
        "highest energy"
       ]
      }
     },
     "deef3cc23c9e47b1a27184acabc313ff": {
      "model_module": "@jupyter-widgets/controls",
      "model_module_version": "1.1.0",
      "model_name": "DescriptionStyleModel",
      "state": {
       "description_width": ""
      }
     },
     "df026d70c59a450492e1245146cba983": {
      "model_module": "@jupyter-widgets/controls",
      "model_module_version": "1.1.0",
      "model_name": "LabelModel",
      "state": {
       "layout": "IPY_MODEL_e80e24a9feae43428877f7d17703b50b",
       "style": "IPY_MODEL_9fb91dc68d1e42289c11d12858d52439",
       "value": "Select the detector angles to plot."
      }
     },
     "df42854a99054e0ebb4bf73a9cf9e209": {
      "model_module": "@jupyter-widgets/base",
      "model_module_version": "1.0.0",
      "model_name": "LayoutModel",
      "state": {}
     },
     "df7a836d1bec4c7490c9e7f95433f9d2": {
      "model_module": "@jupyter-widgets/controls",
      "model_module_version": "1.1.0",
      "model_name": "LabelModel",
      "state": {
       "layout": "IPY_MODEL_3446711576864bc6be7fe4b295e27a95",
       "style": "IPY_MODEL_ab316c5666524946ae0c172d4473ccf4",
       "value": "Select the detector angles to plot."
      }
     },
     "dfd73c8a56494aa798b7a0969a38eaf1": {
      "model_module": "@jupyter-widgets/controls",
      "model_module_version": "1.1.0",
      "model_name": "LabelModel",
      "state": {
       "layout": "IPY_MODEL_f18d8c2733764bf5b324b901bc699368",
       "style": "IPY_MODEL_3d0f3c678ae9413bb5af523f0949b7a3",
       "value": "Select which secondary particle to plot spectra for."
      }
     },
     "dff6c18cf37c44c2bd38a2be79fedc22": {
      "model_module": "@jupyter-widgets/controls",
      "model_module_version": "1.1.0",
      "model_name": "DescriptionStyleModel",
      "state": {
       "description_width": ""
      }
     },
     "e006b153e8c04f7981c6ddc8c3678b96": {
      "model_module": "@jupyter-widgets/base",
      "model_module_version": "1.0.0",
      "model_name": "LayoutModel",
      "state": {}
     },
     "e042e945954041b693d6fc5b84ea9838": {
      "model_module": "@jupyter-widgets/controls",
      "model_module_version": "1.1.0",
      "model_name": "CheckboxModel",
      "state": {
       "description": "10°",
       "disabled": false,
       "layout": "IPY_MODEL_5f6d3b5ab3f94a0d9af8dd6912b4767b",
       "style": "IPY_MODEL_d54378043d464adeb0c417cdf20b4616",
       "value": true
      }
     },
     "e05c6d832beb42ca99a2ba56639c05f7": {
      "model_module": "@jupyter-widgets/controls",
      "model_module_version": "1.1.0",
      "model_name": "CheckboxModel",
      "state": {
       "description": "45°",
       "disabled": false,
       "layout": "IPY_MODEL_b47b0b519fa84394b5a2796345eee4c6",
       "style": "IPY_MODEL_a3f03c52452f4040b71e2bb824bf4b8b",
       "value": true
      }
     },
     "e07cc0fb0d2244aba73b172fc1d793fb": {
      "model_module": "@jupyter-widgets/controls",
      "model_module_version": "1.1.0",
      "model_name": "LabelModel",
      "state": {
       "layout": "IPY_MODEL_af447f0dfaba4018b93633549c50a98c",
       "style": "IPY_MODEL_2f59f0148d4b4c318a233e7549c7a124",
       "value": "Select upstream target material and thickness."
      }
     },
     "e0cffeab5479447b9f8f8b9db4a1f22c": {
      "model_module": "@jupyter-widgets/controls",
      "model_module_version": "1.1.0",
      "model_name": "LabelModel",
      "state": {
       "layout": "IPY_MODEL_8d940d9289e04dd1a510e39ef6872793",
       "style": "IPY_MODEL_c65b04ff06e647c3a975ba85789edcdd",
       "value": "Select the detector angles to plot."
      }
     },
     "e0d70ba7639749d2bd3e4f62eb617f72": {
      "model_module": "@jupyter-widgets/controls",
      "model_module_version": "1.1.0",
      "model_name": "CheckboxModel",
      "state": {
       "description": "30°",
       "disabled": false,
       "layout": "IPY_MODEL_1672aa49f4314ddf92f6e8228632b8df",
       "style": "IPY_MODEL_3e26dbb23950401caf73c17a05277c77",
       "value": true
      }
     },
     "e10661569efd495da1417ba600cbe9cb": {
      "model_module": "@jupyter-widgets/controls",
      "model_module_version": "1.1.0",
      "model_name": "DescriptionStyleModel",
      "state": {
       "description_width": ""
      }
     },
     "e108c6f8dc544560b790101082bb3f6d": {
      "model_module": "@jupyter-widgets/controls",
      "model_module_version": "1.1.0",
      "model_name": "CheckboxModel",
      "state": {
       "description": "10°",
       "disabled": false,
       "layout": "IPY_MODEL_d141f9622d7a4604a2f6c62bfabf5669",
       "style": "IPY_MODEL_d505af3d2b874d91afabc23a4681c26c",
       "value": true
      }
     },
     "e125556179c24374bb636b9f57260100": {
      "model_module": "@jupyter-widgets/base",
      "model_module_version": "1.0.0",
      "model_name": "LayoutModel",
      "state": {}
     },
     "e13fe1343d144c94a41936009565334f": {
      "model_module": "@jupyter-widgets/base",
      "model_module_version": "1.0.0",
      "model_name": "LayoutModel",
      "state": {}
     },
     "e1d70410966d4bf99a2e35490939c1d6": {
      "model_module": "@jupyter-widgets/controls",
      "model_module_version": "1.1.0",
      "model_name": "ToggleButtonsStyleModel",
      "state": {
       "button_width": "",
       "description_width": ""
      }
     },
     "e219c91422e84a828f877205b0db4d5b": {
      "model_module": "@jupyter-widgets/controls",
      "model_module_version": "1.1.0",
      "model_name": "ButtonModel",
      "state": {
       "button_style": "success",
       "description": "Update plot",
       "icon": "paint-brush",
       "layout": "IPY_MODEL_aac3db4e5d1e4f98a69d1cf4938a87d6",
       "style": "IPY_MODEL_58d1a5ed88374eb2bc1af82624b9c785",
       "tooltip": "Click to redraw the plot below with updated options from above."
      }
     },
     "e21af38f32404b8fa5826899896bb62e": {
      "model_module": "@jupyter-widgets/controls",
      "model_module_version": "1.1.0",
      "model_name": "CheckboxModel",
      "state": {
       "description": "135°",
       "disabled": false,
       "layout": "IPY_MODEL_e5e86d6c8dd849fc9f332d9f5d25bf96",
       "style": "IPY_MODEL_cb570e4a32cf48c1b8b9eb2590302fbc",
       "value": true
      }
     },
     "e2942bf36d6c4d1e9d9c1d946651f2dd": {
      "model_module": "@jupyter-widgets/controls",
      "model_module_version": "1.1.0",
      "model_name": "DescriptionStyleModel",
      "state": {
       "description_width": ""
      }
     },
     "e2c1797b522b46c098590f29c80eda32": {
      "model_module": "@jupyter-widgets/controls",
      "model_module_version": "1.1.0",
      "model_name": "DescriptionStyleModel",
      "state": {
       "description_width": ""
      }
     },
     "e2d01956c3e74b318902755915ffaa86": {
      "model_module": "@jupyter-widgets/controls",
      "model_module_version": "1.1.0",
      "model_name": "CheckboxModel",
      "state": {
       "description": "80°",
       "disabled": false,
       "layout": "IPY_MODEL_87b2e69948374bef9d1952c9e4a06f02",
       "style": "IPY_MODEL_a2733a53a33c469f9e74e92e8a087019",
       "value": true
      }
     },
     "e325c6be398a42c2b945c5be78fb0c06": {
      "model_module": "@jupyter-widgets/controls",
      "model_module_version": "1.1.0",
      "model_name": "DescriptionStyleModel",
      "state": {
       "description_width": ""
      }
     },
     "e366da6eff8946f28914cb82be8ba5eb": {
      "model_module": "@jupyter-widgets/controls",
      "model_module_version": "1.1.0",
      "model_name": "ToggleButtonsStyleModel",
      "state": {
       "button_width": "",
       "description_width": ""
      }
     },
     "e36c4c9a05f2445fa793ef47e228c482": {
      "model_module": "@jupyter-widgets/controls",
      "model_module_version": "1.1.0",
      "model_name": "CheckboxModel",
      "state": {
       "description": "135°",
       "disabled": false,
       "layout": "IPY_MODEL_2bfba8157b8447fca9e7126134d36d87",
       "style": "IPY_MODEL_bf382fe9a9d94fe6afae769e4d07fb7e",
       "value": true
      }
     },
     "e3c0b9d7264d4dd38eb1038c6ebcc18d": {
      "model_module": "@jupyter-widgets/controls",
      "model_module_version": "1.1.0",
      "model_name": "ToggleButtonsModel",
      "state": {
       "_options_labels": [
        "H",
        "He",
        "C",
        "Si",
        "Fe"
       ],
       "button_style": "",
       "description": "Ion:",
       "icons": [],
       "index": 0,
       "layout": "IPY_MODEL_039f033d47cf409a828dd3e58c09ff31",
       "style": "IPY_MODEL_7e2371361e60439b81f3c95a4c29b3b7",
       "tooltips": [
        "Hydrogen",
        "Helium",
        "Carbon",
        "Silicon",
        "Iron"
       ]
      }
     },
     "e3f7300c89714ab39e4ee81c1ffd5e96": {
      "model_module": "@jupyter-widgets/controls",
      "model_module_version": "1.1.0",
      "model_name": "ToggleButtonsModel",
      "state": {
       "_options_labels": [
        "400 MeV",
        "800 MeV",
        "2500 MeV"
       ],
       "button_style": "",
       "description": "Energy:",
       "icons": [],
       "index": 0,
       "layout": "IPY_MODEL_ccb28a988e3d4037916318232e82fdc2",
       "style": "IPY_MODEL_196b92fe93b14a5e9565d48f5aa1f5ce",
       "tooltips": [
        "lowest energy",
        "middle energy",
        "highest energy"
       ]
      }
     },
     "e473009d463b4dd885e541ddf845313d": {
      "model_module": "@jupyter-widgets/controls",
      "model_module_version": "1.1.0",
      "model_name": "DescriptionStyleModel",
      "state": {
       "description_width": ""
      }
     },
     "e48a0655d50b42b683d86c150a6e7824": {
      "model_module": "@jupyter-widgets/base",
      "model_module_version": "1.0.0",
      "model_name": "LayoutModel",
      "state": {}
     },
     "e497490ce55a47528fa6a34bf8452d68": {
      "model_module": "@jupyter-widgets/base",
      "model_module_version": "1.0.0",
      "model_name": "LayoutModel",
      "state": {}
     },
     "e4b014e21c154a99a472d17155e7609e": {
      "model_module": "@jupyter-widgets/base",
      "model_module_version": "1.0.0",
      "model_name": "LayoutModel",
      "state": {}
     },
     "e4d804abadc14c74a33145526e02a3b7": {
      "model_module": "@jupyter-widgets/base",
      "model_module_version": "1.0.0",
      "model_name": "LayoutModel",
      "state": {}
     },
     "e4da8aed076e41fabc020df45f79166e": {
      "model_module": "@jupyter-widgets/base",
      "model_module_version": "1.0.0",
      "model_name": "LayoutModel",
      "state": {}
     },
     "e4e76739afdd42159e7d70cd8e35073f": {
      "model_module": "@jupyter-widgets/controls",
      "model_module_version": "1.1.0",
      "model_name": "DescriptionStyleModel",
      "state": {
       "description_width": ""
      }
     },
     "e5156cf9dd3c4c19a057626002130589": {
      "model_module": "@jupyter-widgets/controls",
      "model_module_version": "1.1.0",
      "model_name": "ToggleButtonsModel",
      "state": {
       "_options_labels": [
        "400 MeV",
        "800 MeV",
        "2500 MeV"
       ],
       "button_style": "",
       "description": "Energy:",
       "icons": [],
       "index": 0,
       "layout": "IPY_MODEL_200b72eb0f634c9cb9872c64c4e231f8",
       "style": "IPY_MODEL_ffd7ce5689fb467b967c87d2b0dcf965",
       "tooltips": [
        "lowest energy",
        "middle energy",
        "highest energy"
       ]
      }
     },
     "e52c9ad6f0f94c16a168ca41d44d2b05": {
      "model_module": "@jupyter-widgets/controls",
      "model_module_version": "1.1.0",
      "model_name": "ToggleButtonsStyleModel",
      "state": {
       "button_width": "",
       "description_width": ""
      }
     },
     "e535cc5b301040faa3ea82d0ab3d6376": {
      "model_module": "@jupyter-widgets/base",
      "model_module_version": "1.0.0",
      "model_name": "LayoutModel",
      "state": {}
     },
     "e5735cc6219041ce86e8dd86b310dc02": {
      "model_module": "@jupyter-widgets/controls",
      "model_module_version": "1.1.0",
      "model_name": "DescriptionStyleModel",
      "state": {
       "description_width": ""
      }
     },
     "e58a8f5499a64d7d8362340324127d7d": {
      "model_module": "@jupyter-widgets/base",
      "model_module_version": "1.0.0",
      "model_name": "LayoutModel",
      "state": {}
     },
     "e58b5b6d58df46fd91e1820fc099502d": {
      "model_module": "@jupyter-widgets/controls",
      "model_module_version": "1.1.0",
      "model_name": "LabelModel",
      "state": {
       "layout": "IPY_MODEL_df42854a99054e0ebb4bf73a9cf9e209",
       "style": "IPY_MODEL_65c67283abaa4187b143e98bc5c4bf8b",
       "value": "Select which secondary particle to plot spectra for."
      }
     },
     "e5b497fc7daa4375b00b1836253b25d0": {
      "model_module": "@jupyter-widgets/controls",
      "model_module_version": "1.1.0",
      "model_name": "LabelModel",
      "state": {
       "layout": "IPY_MODEL_a5ab0bc8e4894abf9f3ae4671f61de35",
       "style": "IPY_MODEL_f143c1e1d37e4c3e80e186452ecaae07",
       "value": "Select which sets of data to display."
      }
     },
     "e5de52a649a44006a5e4cb9bac808b33": {
      "model_module": "@jupyter-widgets/base",
      "model_module_version": "1.0.0",
      "model_name": "LayoutModel",
      "state": {}
     },
     "e5e86d6c8dd849fc9f332d9f5d25bf96": {
      "model_module": "@jupyter-widgets/base",
      "model_module_version": "1.0.0",
      "model_name": "LayoutModel",
      "state": {}
     },
     "e5f74c8d52ba473a915226f341c5467e": {
      "model_module": "@jupyter-widgets/controls",
      "model_module_version": "1.1.0",
      "model_name": "LabelModel",
      "state": {
       "layout": "IPY_MODEL_eae5e238dfcd487eaeb1739326df0d12",
       "style": "IPY_MODEL_8e0c320fd5734317bb5f0a4dcabe63e9",
       "value": "Select the detector angles to plot."
      }
     },
     "e65acee7afc542d6ad03ff99c879b497": {
      "model_module": "@jupyter-widgets/controls",
      "model_module_version": "1.1.0",
      "model_name": "CheckboxModel",
      "state": {
       "description": "30°",
       "disabled": false,
       "layout": "IPY_MODEL_7a207b3f9e534394bfd8e158d669b063",
       "style": "IPY_MODEL_358e4741551d4c4686ca6b750bcca1d4",
       "value": true
      }
     },
     "e66423a8657740bf85d4739442117038": {
      "model_module": "@jupyter-widgets/controls",
      "model_module_version": "1.1.0",
      "model_name": "ToggleButtonsStyleModel",
      "state": {
       "button_width": "",
       "description_width": ""
      }
     },
     "e68d8f144a094788886e98075cc5562e": {
      "model_module": "@jupyter-widgets/controls",
      "model_module_version": "1.1.0",
      "model_name": "DescriptionStyleModel",
      "state": {
       "description_width": ""
      }
     },
     "e6ab800a2c384e36a3b43de9083679e4": {
      "model_module": "@jupyter-widgets/controls",
      "model_module_version": "1.1.0",
      "model_name": "ButtonModel",
      "state": {
       "button_style": "success",
       "description": "Update plot",
       "icon": "paint-brush",
       "layout": "IPY_MODEL_a8e419868feb40a79cfca7b3f532a7fa",
       "style": "IPY_MODEL_806a3c65ff964a2982d166fcff8bb411",
       "tooltip": "Click to redraw the plot below with updated options from above."
      }
     },
     "e6eec0d2d30c40cf81d419a89626b114": {
      "model_module": "@jupyter-widgets/base",
      "model_module_version": "1.0.0",
      "model_name": "LayoutModel",
      "state": {}
     },
     "e705eb676ca84ed7bac6301486cf3fec": {
      "model_module": "@jupyter-widgets/base",
      "model_module_version": "1.0.0",
      "model_name": "LayoutModel",
      "state": {}
     },
     "e70fff3b1c7d496b87c0f5a08a5d3555": {
      "model_module": "@jupyter-widgets/base",
      "model_module_version": "1.0.0",
      "model_name": "LayoutModel",
      "state": {}
     },
     "e7354a7351dc4a3eb056a1ebe167219f": {
      "model_module": "@jupyter-widgets/base",
      "model_module_version": "1.0.0",
      "model_name": "LayoutModel",
      "state": {}
     },
     "e75e86304c0e43ab9315309c63aae2b6": {
      "model_module": "@jupyter-widgets/base",
      "model_module_version": "1.0.0",
      "model_name": "LayoutModel",
      "state": {}
     },
     "e79bd93ad5be4112858e8589b9072286": {
      "model_module": "@jupyter-widgets/controls",
      "model_module_version": "1.1.0",
      "model_name": "DescriptionStyleModel",
      "state": {
       "description_width": ""
      }
     },
     "e7c50db298be473eac5d8bfb179b664c": {
      "model_module": "@jupyter-widgets/controls",
      "model_module_version": "1.1.0",
      "model_name": "DescriptionStyleModel",
      "state": {
       "description_width": ""
      }
     },
     "e7c7ff147f5e4b0f9de2d24756f931c5": {
      "model_module": "@jupyter-widgets/base",
      "model_module_version": "1.0.0",
      "model_name": "LayoutModel",
      "state": {}
     },
     "e7d5c0076bce489bb6ca680b9c77e9fb": {
      "model_module": "@jupyter-widgets/controls",
      "model_module_version": "1.1.0",
      "model_name": "DescriptionStyleModel",
      "state": {
       "description_width": ""
      }
     },
     "e7e3aa5f333c4515a07b33e75a21e3aa": {
      "model_module": "@jupyter-widgets/controls",
      "model_module_version": "1.1.0",
      "model_name": "CheckboxModel",
      "state": {
       "description": "45°",
       "disabled": false,
       "layout": "IPY_MODEL_bdbce8b329e84bacadec6d2e96f30b1e",
       "style": "IPY_MODEL_2b911a2ee8294942a8efb25e06c96439",
       "value": false
      }
     },
     "e7ecb71a6c3a41c7a7e8bd0ae54eff62": {
      "model_module": "@jupyter-widgets/base",
      "model_module_version": "1.0.0",
      "model_name": "LayoutModel",
      "state": {}
     },
     "e80e24a9feae43428877f7d17703b50b": {
      "model_module": "@jupyter-widgets/base",
      "model_module_version": "1.0.0",
      "model_name": "LayoutModel",
      "state": {}
     },
     "e81ace7a9c8c47519c4ccc7e7135a833": {
      "model_module": "@jupyter-widgets/controls",
      "model_module_version": "1.1.0",
      "model_name": "LabelModel",
      "state": {
       "layout": "IPY_MODEL_9ecc5a915ae742e0a270e8e6ff0bf4bd",
       "style": "IPY_MODEL_cf8555f94a5a495ea3b65f53dda0e5e0",
       "value": "Select the detector angles to plot."
      }
     },
     "e853e0e4b83c4027ae57a1c216404402": {
      "model_module": "@jupyter-widgets/controls",
      "model_module_version": "1.1.0",
      "model_name": "CheckboxModel",
      "state": {
       "description": "30°",
       "disabled": false,
       "layout": "IPY_MODEL_6a2b921d39ac461dbc061b948af0ceea",
       "style": "IPY_MODEL_05cb3d47b34d471a8df96e77a72f430b",
       "value": true
      }
     },
     "e855032a03ab41298ecbce490692b442": {
      "model_module": "@jupyter-widgets/base",
      "model_module_version": "1.0.0",
      "model_name": "LayoutModel",
      "state": {}
     },
     "e859ff3fab7f425f9d5d51bb08bb0418": {
      "model_module": "@jupyter-widgets/controls",
      "model_module_version": "1.1.0",
      "model_name": "DescriptionStyleModel",
      "state": {
       "description_width": ""
      }
     },
     "e87b980a30d44b798d1e28f010ac8725": {
      "model_module": "@jupyter-widgets/controls",
      "model_module_version": "1.1.0",
      "model_name": "ToggleButtonsModel",
      "state": {
       "_options_labels": [
        "N (¹n)",
        "NDC (¹n)",
        "P (¹H)",
        "D (²H)",
        "T (³H)",
        "S (³He)",
        "A (⁴He)"
       ],
       "button_style": "",
       "description": "Type:",
       "icons": [],
       "index": 0,
       "layout": "IPY_MODEL_22f5fcb0e7c14fb49e8408d1f2bb3cb6",
       "style": "IPY_MODEL_8a8a3c66e387487d94d40df8daf3abec",
       "tooltips": [
        "Neutron",
        "Back Target Neutron",
        "Proton",
        "Deuteron",
        "Triton",
        "Helium-3",
        "Helium-4"
       ]
      }
     },
     "e8b1430b7a3246b5962a8ec757207553": {
      "model_module": "@jupyter-widgets/base",
      "model_module_version": "1.0.0",
      "model_name": "LayoutModel",
      "state": {}
     },
     "e8b835b886ea4c968b92fde00e855c21": {
      "model_module": "@jupyter-widgets/base",
      "model_module_version": "1.0.0",
      "model_name": "LayoutModel",
      "state": {}
     },
     "e92d26a0bad1454b9eb0b6fcb4761631": {
      "model_module": "@jupyter-widgets/controls",
      "model_module_version": "1.1.0",
      "model_name": "CheckboxModel",
      "state": {
       "description": "135°",
       "disabled": false,
       "layout": "IPY_MODEL_7a60d2682c3349b0b202edf010c6c96c",
       "style": "IPY_MODEL_98c085b49e204c9f976cb4af179fae94",
       "value": true
      }
     },
     "e9543b4dab854cd4b3dc337b87fddb83": {
      "model_module": "@jupyter-widgets/controls",
      "model_module_version": "1.1.0",
      "model_name": "DescriptionStyleModel",
      "state": {
       "description_width": ""
      }
     },
     "e9876dad0d064a82bb3810f9daf6dc78": {
      "model_module": "@jupyter-widgets/base",
      "model_module_version": "1.0.0",
      "model_name": "LayoutModel",
      "state": {}
     },
     "e992d12a9729434d8f31fc94ade3e124": {
      "model_module": "@jupyter-widgets/base",
      "model_module_version": "1.0.0",
      "model_name": "LayoutModel",
      "state": {}
     },
     "e9985931202d404a85b352978ff371ec": {
      "model_module": "@jupyter-widgets/controls",
      "model_module_version": "1.1.0",
      "model_name": "CheckboxModel",
      "state": {
       "description": "45°",
       "disabled": false,
       "layout": "IPY_MODEL_d54854d800e84617aacf520cbd7df79d",
       "style": "IPY_MODEL_0bf4a0d53fc74f159eaa0fe9e9553c72",
       "value": true
      }
     },
     "e9c632d108ec4bc5b7df6ee17e225966": {
      "model_module": "@jupyter-widgets/base",
      "model_module_version": "1.0.0",
      "model_name": "LayoutModel",
      "state": {}
     },
     "ea30e5a524454e1594f24ddc7f7f64e4": {
      "model_module": "@jupyter-widgets/controls",
      "model_module_version": "1.1.0",
      "model_name": "CheckboxModel",
      "state": {
       "description": "45°",
       "disabled": false,
       "layout": "IPY_MODEL_97943902601a413d9513a4e7bec6f8a8",
       "style": "IPY_MODEL_1a0b47557ddb471a9abef45ce46f53bc",
       "value": true
      }
     },
     "ea4664c6390d4cf0904b45b2b1efb2c9": {
      "model_module": "@jupyter-widgets/controls",
      "model_module_version": "1.1.0",
      "model_name": "CheckboxModel",
      "state": {
       "description": "80°",
       "disabled": false,
       "layout": "IPY_MODEL_9935277d35c1402bb49416768a7b9ce1",
       "style": "IPY_MODEL_a900600b456b46a681fcc9494b7ece95",
       "value": true
      }
     },
     "ea8cf577676a4f5c815dc001591cca70": {
      "model_module": "@jupyter-widgets/controls",
      "model_module_version": "1.1.0",
      "model_name": "DescriptionStyleModel",
      "state": {
       "description_width": ""
      }
     },
     "eacf4b0c30b94827b8e74e51c200c853": {
      "model_module": "@jupyter-widgets/base",
      "model_module_version": "1.0.0",
      "model_name": "LayoutModel",
      "state": {}
     },
     "eada671a9877489896c776f602c3d693": {
      "model_module": "@jupyter-widgets/controls",
      "model_module_version": "1.1.0",
      "model_name": "ToggleButtonsModel",
      "state": {
       "_options_labels": [
        "400 MeV/n",
        "800 MeV/n",
        "1500 MeV/n"
       ],
       "button_style": "",
       "description": "Energy:",
       "icons": [],
       "index": 0,
       "layout": "IPY_MODEL_03b19c06f12e4aadad7aec80c5d6b1ed",
       "style": "IPY_MODEL_1fec3a2bae25428490df10b6f9630f15",
       "tooltips": [
        "lowest energy",
        "middle energy",
        "highest energy"
       ]
      }
     },
     "eadefaf457884e77b775d9e9cef345f2": {
      "model_module": "@jupyter-widgets/controls",
      "model_module_version": "1.1.0",
      "model_name": "CheckboxModel",
      "state": {
       "description": "10°",
       "disabled": false,
       "layout": "IPY_MODEL_9dd994dfe1494c828611dab8b7c1157e",
       "style": "IPY_MODEL_74e3d297a3dd4837a6940d54ccb2fc04",
       "value": true
      }
     },
     "eae064cb481f4388b3ecadccabebcbfd": {
      "model_module": "@jupyter-widgets/base",
      "model_module_version": "1.0.0",
      "model_name": "LayoutModel",
      "state": {}
     },
     "eae5e238dfcd487eaeb1739326df0d12": {
      "model_module": "@jupyter-widgets/base",
      "model_module_version": "1.0.0",
      "model_name": "LayoutModel",
      "state": {}
     },
     "eb377fa66aa746eb968995e2f2ab0fb4": {
      "model_module": "@jupyter-widgets/base",
      "model_module_version": "1.0.0",
      "model_name": "LayoutModel",
      "state": {}
     },
     "eb4ab7313de148e7975c3fd05921afd6": {
      "model_module": "@jupyter-widgets/base",
      "model_module_version": "1.0.0",
      "model_name": "LayoutModel",
      "state": {}
     },
     "ebf7af92aa6d4d2d90ea7cdae6b2bd84": {
      "model_module": "@jupyter-widgets/base",
      "model_module_version": "1.0.0",
      "model_name": "LayoutModel",
      "state": {}
     },
     "ec294333971b4af4bb4a5d8b139ab91f": {
      "model_module": "@jupyter-widgets/base",
      "model_module_version": "1.0.0",
      "model_name": "LayoutModel",
      "state": {}
     },
     "ec376c2c6592463696df681b11201528": {
      "model_module": "@jupyter-widgets/controls",
      "model_module_version": "1.1.0",
      "model_name": "ToggleButtonsModel",
      "state": {
       "_options_labels": [
        "20 g/cm²",
        "60 g/cm²"
       ],
       "button_style": "",
       "description": "Thickness:",
       "icons": [],
       "index": 0,
       "layout": "IPY_MODEL_7ed71805849a4f218564899a9ad4f788",
       "style": "IPY_MODEL_e1d70410966d4bf99a2e35490939c1d6",
       "tooltips": [
        "10 g/cm² Al upstream + 10 g/cm² HDPE downstream",
        "10 g/cm² Al upstream + 50 g/cm² HDPE downstream"
       ]
      }
     },
     "ec4904e2908944e1b622c2574f0e912a": {
      "model_module": "@jupyter-widgets/controls",
      "model_module_version": "1.1.0",
      "model_name": "ToggleButtonsStyleModel",
      "state": {
       "button_width": "",
       "description_width": ""
      }
     },
     "ec5aaa4b954a43a097770055de9b89ef": {
      "model_module": "@jupyter-widgets/controls",
      "model_module_version": "1.1.0",
      "model_name": "CheckboxModel",
      "state": {
       "description": "Experiment",
       "disabled": false,
       "layout": "IPY_MODEL_1bf04ec8e10246cc9d2df1f9e1f9e9b8",
       "style": "IPY_MODEL_1a46dbed02354026a4326b00cab9b040",
       "value": true
      }
     },
     "ec670dbcc8b94de5b4410087759261e7": {
      "model_module": "@jupyter-widgets/controls",
      "model_module_version": "1.1.0",
      "model_name": "LabelModel",
      "state": {
       "layout": "IPY_MODEL_8f66d762f6184414a9714cfc226381c1",
       "style": "IPY_MODEL_2514ad8ffa01480e8bd6dd3eb68113a7",
       "value": "Select the detector angles to plot."
      }
     },
     "ed728a04d4bc4e46bfe229bbe18d946c": {
      "model_module": "@jupyter-widgets/controls",
      "model_module_version": "1.1.0",
      "model_name": "DescriptionStyleModel",
      "state": {
       "description_width": ""
      }
     },
     "ed78636499c449529f4f4ab3dbc73bdd": {
      "model_module": "@jupyter-widgets/controls",
      "model_module_version": "1.1.0",
      "model_name": "CheckboxModel",
      "state": {
       "description": "60°",
       "disabled": false,
       "layout": "IPY_MODEL_703e3e569ff1498cb980c4dc4e985884",
       "style": "IPY_MODEL_5be950c9798a433eac7c50d421058a45",
       "value": false
      }
     },
     "edc5a9e57f44467797d8f3c8d1368d47": {
      "model_module": "@jupyter-widgets/controls",
      "model_module_version": "1.1.0",
      "model_name": "LabelModel",
      "state": {
       "layout": "IPY_MODEL_714e01f090034d61970e171f2b8e9078",
       "style": "IPY_MODEL_9d4af918c79e4649b91b52b135f6205d",
       "value": "Select the detector angles to plot."
      }
     },
     "ee873eda4511449cbd85792796e66667": {
      "model_module": "@jupyter-widgets/controls",
      "model_module_version": "1.1.0",
      "model_name": "CheckboxModel",
      "state": {
       "description": "135°",
       "disabled": false,
       "layout": "IPY_MODEL_e9c632d108ec4bc5b7df6ee17e225966",
       "style": "IPY_MODEL_55ad60edc3cc48cf803fdd35c03e02a8",
       "value": true
      }
     },
     "ee8be8f473e143408da35f093c0b6df3": {
      "model_module": "@jupyter-widgets/controls",
      "model_module_version": "1.1.0",
      "model_name": "LabelModel",
      "state": {
       "layout": "IPY_MODEL_638b9a043e1e4701abfe86496606c417",
       "style": "IPY_MODEL_6896b4bd8afa4cdcbf69ee8bd652a294",
       "value": "Select which secondary particle to plot spectra for."
      }
     },
     "ee9165206ff64fd98ebeb4be3a4a7b45": {
      "model_module": "@jupyter-widgets/controls",
      "model_module_version": "1.1.0",
      "model_name": "CheckboxModel",
      "state": {
       "description": "12.7°",
       "disabled": false,
       "layout": "IPY_MODEL_1b864d38500245bc899a0f381f423c24",
       "style": "IPY_MODEL_aa35185bf3a34092a2bd1af2cf00e408",
       "value": true
      }
     },
     "ee98a1b776164c5e9d2f3111d8008ef9": {
      "model_module": "@jupyter-widgets/controls",
      "model_module_version": "1.1.0",
      "model_name": "LabelModel",
      "state": {
       "layout": "IPY_MODEL_994c2a00c9b5436b91b975bafd760584",
       "style": "IPY_MODEL_9de6726f2e004bd3877caf19cbe4426f",
       "value": "Select upstream target material and thickness."
      }
     },
     "ee9bc543bebf4a9d802fb91e73d1002f": {
      "model_module": "@jupyter-widgets/controls",
      "model_module_version": "1.1.0",
      "model_name": "DescriptionStyleModel",
      "state": {
       "description_width": ""
      }
     },
     "eea40b60cb2d4ebbbbf40e8521ee4f87": {
      "model_module": "@jupyter-widgets/controls",
      "model_module_version": "1.1.0",
      "model_name": "CheckboxModel",
      "state": {
       "description": "30°",
       "disabled": false,
       "layout": "IPY_MODEL_868daa6a513c4483b385e724afc38db6",
       "style": "IPY_MODEL_a02324d66cae4bcdad77709c8ea30df5",
       "value": true
      }
     },
     "eef836b841c54aca80d97b09e12e4b2e": {
      "model_module": "@jupyter-widgets/controls",
      "model_module_version": "1.1.0",
      "model_name": "LabelModel",
      "state": {
       "layout": "IPY_MODEL_7ac59b7eca6641c8bcb498673e9b27bd",
       "style": "IPY_MODEL_1fe86901ff6444339b517145bf3c3899",
       "value": "Select projectile ion energy."
      }
     },
     "eefb103b46b840978229669dc9bbcdce": {
      "model_module": "@jupyter-widgets/controls",
      "model_module_version": "1.1.0",
      "model_name": "ToggleButtonsStyleModel",
      "state": {
       "button_width": "",
       "description_width": ""
      }
     },
     "ef4bd5c55a7c45cc9ef95a2d4270d9a7": {
      "model_module": "@jupyter-widgets/base",
      "model_module_version": "1.0.0",
      "model_name": "LayoutModel",
      "state": {}
     },
     "ef63fe9cf051472285a2119408a5362c": {
      "model_module": "@jupyter-widgets/controls",
      "model_module_version": "1.1.0",
      "model_name": "DescriptionStyleModel",
      "state": {
       "description_width": ""
      }
     },
     "ef7272546b44403e83a8e89ec335c49b": {
      "model_module": "@jupyter-widgets/controls",
      "model_module_version": "1.1.0",
      "model_name": "CheckboxModel",
      "state": {
       "description": "60°",
       "disabled": false,
       "layout": "IPY_MODEL_dc545899afba40ea8c875493c461fd48",
       "style": "IPY_MODEL_28cb64bf993548d4ac314cacc750404a",
       "value": true
      }
     },
     "efcb746359c4475e975c88a99c210c04": {
      "model_module": "@jupyter-widgets/controls",
      "model_module_version": "1.1.0",
      "model_name": "DescriptionStyleModel",
      "state": {
       "description_width": ""
      }
     },
     "efd911ce47884c2e847c7597db96f675": {
      "model_module": "@jupyter-widgets/controls",
      "model_module_version": "1.1.0",
      "model_name": "CheckboxModel",
      "state": {
       "description": "60°",
       "disabled": false,
       "layout": "IPY_MODEL_faff79a189964b2d9547eac49f10b416",
       "style": "IPY_MODEL_c9a56b89822e4c4fbe565ecbbd144637",
       "value": true
      }
     },
     "f02c0822dab04f28a080936218b5ede4": {
      "model_module": "@jupyter-widgets/controls",
      "model_module_version": "1.1.0",
      "model_name": "LabelModel",
      "state": {
       "layout": "IPY_MODEL_ac2f0828c98f4d179cf83ddf27166b0b",
       "style": "IPY_MODEL_0e32b3e38b3b49b8af1d0d38aad130b8",
       "value": "Select the detector angles to plot."
      }
     },
     "f055cac736c0407b94d3e7ddcc082153": {
      "model_module": "@jupyter-widgets/base",
      "model_module_version": "1.0.0",
      "model_name": "LayoutModel",
      "state": {}
     },
     "f0566eea34404ef8ad5d91547f7d07d4": {
      "model_module": "@jupyter-widgets/controls",
      "model_module_version": "1.1.0",
      "model_name": "ToggleButtonsModel",
      "state": {
       "_options_labels": [
        "Al",
        "HDPE",
        "AlPE"
       ],
       "button_style": "",
       "description": "Material:",
       "icons": [],
       "index": 0,
       "layout": "IPY_MODEL_b8297bde69954b1fad28c2af975eeb32",
       "style": "IPY_MODEL_b6c24efdc53a4660a49ce93bba5de96a",
       "tooltips": [
        "Aluminum",
        "Polyethylene",
        "Combination of Al and HDPE"
       ]
      }
     },
     "f063c43e128244e0b1ce21cf847b324b": {
      "model_module": "@jupyter-widgets/controls",
      "model_module_version": "1.1.0",
      "model_name": "DescriptionStyleModel",
      "state": {
       "description_width": ""
      }
     },
     "f080737c4e2841fa9081b9ed3051a0cc": {
      "model_module": "@jupyter-widgets/controls",
      "model_module_version": "1.1.0",
      "model_name": "CheckboxModel",
      "state": {
       "description": "30°",
       "disabled": false,
       "layout": "IPY_MODEL_b2a39a040a6544d99cfd7e4863d4a141",
       "style": "IPY_MODEL_e2942bf36d6c4d1e9d9c1d946651f2dd",
       "value": false
      }
     },
     "f0969a67e3cd4b4bb9df5309f32120c8": {
      "model_module": "@jupyter-widgets/controls",
      "model_module_version": "1.1.0",
      "model_name": "LabelModel",
      "state": {
       "layout": "IPY_MODEL_33472369a0234ea3a9dcf27c09cd7f7b",
       "style": "IPY_MODEL_39b823192d424a1aab87bcddeee16b3d",
       "value": "Select the detector angles to plot."
      }
     },
     "f10bfd995f7d431d8b378fcd07b5c54e": {
      "model_module": "@jupyter-widgets/base",
      "model_module_version": "1.0.0",
      "model_name": "LayoutModel",
      "state": {}
     },
     "f143c1e1d37e4c3e80e186452ecaae07": {
      "model_module": "@jupyter-widgets/controls",
      "model_module_version": "1.1.0",
      "model_name": "DescriptionStyleModel",
      "state": {
       "description_width": ""
      }
     },
     "f18d8c2733764bf5b324b901bc699368": {
      "model_module": "@jupyter-widgets/base",
      "model_module_version": "1.0.0",
      "model_name": "LayoutModel",
      "state": {}
     },
     "f199881453b040ecba836e9210e1e2bd": {
      "model_module": "@jupyter-widgets/controls",
      "model_module_version": "1.1.0",
      "model_name": "ToggleButtonsStyleModel",
      "state": {
       "button_width": "",
       "description_width": ""
      }
     },
     "f1afb8dc5d4142d693c8d42b97cebaad": {
      "model_module": "@jupyter-widgets/controls",
      "model_module_version": "1.1.0",
      "model_name": "CheckboxModel",
      "state": {
       "description": "10°",
       "disabled": false,
       "layout": "IPY_MODEL_23907f89d8224d0d8f8b6dff967d5a79",
       "style": "IPY_MODEL_1f7b1312a8a44dbaa6d3bae6912929db",
       "value": true
      }
     },
     "f1eedb76081f4458b9c9a8c9e76dfeef": {
      "model_module": "@jupyter-widgets/controls",
      "model_module_version": "1.1.0",
      "model_name": "CheckboxModel",
      "state": {
       "description": "80°",
       "disabled": false,
       "layout": "IPY_MODEL_adeb596f502d42449d8811e70bbae8b2",
       "style": "IPY_MODEL_255bd2ea37c443cdbf7c13594324e3ea",
       "value": true
      }
     },
     "f1f935c3adf24e1bb45e6f19d25d81c5": {
      "model_module": "@jupyter-widgets/controls",
      "model_module_version": "1.1.0",
      "model_name": "DescriptionStyleModel",
      "state": {
       "description_width": ""
      }
     },
     "f252dec002114f79992adfffb78289bb": {
      "model_module": "@jupyter-widgets/controls",
      "model_module_version": "1.1.0",
      "model_name": "ToggleButtonsStyleModel",
      "state": {
       "button_width": "",
       "description_width": ""
      }
     },
     "f262556b66da4635872be828bcdb1607": {
      "model_module": "@jupyter-widgets/controls",
      "model_module_version": "1.1.0",
      "model_name": "CheckboxModel",
      "state": {
       "description": "80°",
       "disabled": false,
       "layout": "IPY_MODEL_c758b050ef9b47c8b35069f92aa067b8",
       "style": "IPY_MODEL_75a30c3beb1940bf992f9033eee96e34",
       "value": true
      }
     },
     "f26b555c18674641ac56b038c0e17764": {
      "model_module": "@jupyter-widgets/controls",
      "model_module_version": "1.1.0",
      "model_name": "DescriptionStyleModel",
      "state": {
       "description_width": ""
      }
     },
     "f26e2ec7560a4e578564c54c53c981f3": {
      "model_module": "@jupyter-widgets/controls",
      "model_module_version": "1.1.0",
      "model_name": "LabelModel",
      "state": {
       "layout": "IPY_MODEL_0d391190abd44d54b833e58e653dc40b",
       "style": "IPY_MODEL_86a57d3d44574ca59515581038955997",
       "value": "Select projectile ion energy."
      }
     },
     "f2747acdaa6146c7bfbced92bc3f8313": {
      "model_module": "@jupyter-widgets/base",
      "model_module_version": "1.0.0",
      "model_name": "LayoutModel",
      "state": {}
     },
     "f2ad27baf4764943a64930549184f148": {
      "model_module": "@jupyter-widgets/base",
      "model_module_version": "1.0.0",
      "model_name": "LayoutModel",
      "state": {}
     },
     "f2d9fac9be214bb79549c85432c23998": {
      "model_module": "@jupyter-widgets/controls",
      "model_module_version": "1.1.0",
      "model_name": "CheckboxModel",
      "state": {
       "description": "135°",
       "disabled": false,
       "layout": "IPY_MODEL_1bf7f5567589498fa681752dbe53ef46",
       "style": "IPY_MODEL_bb2cd9b121534a8290c6451b95d7d29c",
       "value": true
      }
     },
     "f321083ddc564a30968b1d85bf33aa1b": {
      "model_module": "@jupyter-widgets/base",
      "model_module_version": "1.0.0",
      "model_name": "LayoutModel",
      "state": {}
     },
     "f33936238f9141c9994990d8d2bc665a": {
      "model_module": "@jupyter-widgets/controls",
      "model_module_version": "1.1.0",
      "model_name": "CheckboxModel",
      "state": {
       "description": "7.2°",
       "disabled": false,
       "layout": "IPY_MODEL_bc66069ba2424e408276de2b0e664572",
       "style": "IPY_MODEL_0b27835f9ef445558cc2f963f85d4f87",
       "value": false
      }
     },
     "f3b020ca5d8f4d98bd0f82640535936e": {
      "model_module": "@jupyter-widgets/base",
      "model_module_version": "1.0.0",
      "model_name": "LayoutModel",
      "state": {}
     },
     "f3b324d2ef314550aa0da8d17a9f0043": {
      "model_module": "@jupyter-widgets/controls",
      "model_module_version": "1.1.0",
      "model_name": "CheckboxModel",
      "state": {
       "description": "80°",
       "disabled": false,
       "layout": "IPY_MODEL_1390752cdc434e52b9f7bbcab6f4e297",
       "style": "IPY_MODEL_fa6823fad2d748e99617d54f76e63bc8",
       "value": false
      }
     },
     "f3c9ffbfb328454d98e6b2a5ed3f03b4": {
      "model_module": "@jupyter-widgets/controls",
      "model_module_version": "1.1.0",
      "model_name": "CheckboxModel",
      "state": {
       "description": "135°",
       "disabled": false,
       "layout": "IPY_MODEL_bc51dbf7d6b44cb0861568d60899abdf",
       "style": "IPY_MODEL_97998ff7c23540418583446728836fec",
       "value": true
      }
     },
     "f3f69e1081784e57b0f53a13152b39c0": {
      "model_module": "@jupyter-widgets/controls",
      "model_module_version": "1.1.0",
      "model_name": "DescriptionStyleModel",
      "state": {
       "description_width": ""
      }
     },
     "f41b887ee0d948018f442ae216d31f95": {
      "model_module": "@jupyter-widgets/base",
      "model_module_version": "1.0.0",
      "model_name": "LayoutModel",
      "state": {}
     },
     "f46e27ea0a14453184f192527874afb7": {
      "model_module": "@jupyter-widgets/base",
      "model_module_version": "1.0.0",
      "model_name": "LayoutModel",
      "state": {}
     },
     "f485120e55c14545ac5b3960df305b8f": {
      "model_module": "@jupyter-widgets/controls",
      "model_module_version": "1.1.0",
      "model_name": "LabelModel",
      "state": {
       "layout": "IPY_MODEL_879adfc53a3c462a9c3d51cf55c1adbe",
       "style": "IPY_MODEL_8477bf0938fe492299303381dfe3f762",
       "value": "Select which secondary particle to plot spectra for."
      }
     },
     "f4861ab2161a41a481d4efd27777288f": {
      "model_module": "@jupyter-widgets/controls",
      "model_module_version": "1.1.0",
      "model_name": "DescriptionStyleModel",
      "state": {
       "description_width": ""
      }
     },
     "f49081b81392490a9d44ed5eda297dfb": {
      "model_module": "@jupyter-widgets/controls",
      "model_module_version": "1.1.0",
      "model_name": "DescriptionStyleModel",
      "state": {
       "description_width": ""
      }
     },
     "f4a71d72724943bfaf0276bf593011e7": {
      "model_module": "@jupyter-widgets/base",
      "model_module_version": "1.0.0",
      "model_name": "LayoutModel",
      "state": {}
     },
     "f4b34bb605b642bc92cabd5815758446": {
      "model_module": "@jupyter-widgets/base",
      "model_module_version": "1.0.0",
      "model_name": "LayoutModel",
      "state": {}
     },
     "f4d47f670d944ed8aaa908b07c2eafa3": {
      "model_module": "@jupyter-widgets/controls",
      "model_module_version": "1.1.0",
      "model_name": "DescriptionStyleModel",
      "state": {
       "description_width": ""
      }
     },
     "f4e068f26b124e70aee3d4ed6f1a1f11": {
      "model_module": "@jupyter-widgets/controls",
      "model_module_version": "1.1.0",
      "model_name": "ToggleButtonsStyleModel",
      "state": {
       "button_width": "",
       "description_width": ""
      }
     },
     "f4ed453b5306419e94a21b49cba03d49": {
      "model_module": "@jupyter-widgets/controls",
      "model_module_version": "1.1.0",
      "model_name": "DescriptionStyleModel",
      "state": {
       "description_width": ""
      }
     },
     "f5265654bf1c43de820654cb0b360cae": {
      "model_module": "@jupyter-widgets/base",
      "model_module_version": "1.0.0",
      "model_name": "LayoutModel",
      "state": {}
     },
     "f53498484d3e4625ba5faed05d104562": {
      "model_module": "@jupyter-widgets/base",
      "model_module_version": "1.0.0",
      "model_name": "LayoutModel",
      "state": {}
     },
     "f5b30e748dcd4e67b51e4e670d0c23eb": {
      "model_module": "@jupyter-widgets/controls",
      "model_module_version": "1.1.0",
      "model_name": "CheckboxModel",
      "state": {
       "description": "45°",
       "disabled": false,
       "layout": "IPY_MODEL_b2c2393f3cc943afa4c0a599f866c96b",
       "style": "IPY_MODEL_630a75892166422cb5a31e63e1a6c742",
       "value": true
      }
     },
     "f5ba8d79d7ac4a828e421fac15ac3d7a": {
      "model_module": "@jupyter-widgets/base",
      "model_module_version": "1.0.0",
      "model_name": "LayoutModel",
      "state": {}
     },
     "f5d62b0a3491487ebc3bae565842b5c4": {
      "model_module": "@jupyter-widgets/controls",
      "model_module_version": "1.1.0",
      "model_name": "CheckboxModel",
      "state": {
       "description": "60°",
       "disabled": false,
       "layout": "IPY_MODEL_1aeb7dfc9e594c11861f86298ee1729a",
       "style": "IPY_MODEL_a9e42351c8da44b9ad978d46ab3d72ab",
       "value": true
      }
     },
     "f5dfd514d516400ba5747fb5cf8a6269": {
      "model_module": "@jupyter-widgets/controls",
      "model_module_version": "1.1.0",
      "model_name": "CheckboxModel",
      "state": {
       "description": "10°",
       "disabled": false,
       "layout": "IPY_MODEL_1d68b934178f43fc98da9e81f818c1c2",
       "style": "IPY_MODEL_08874af4f11e4866a1c963a34f169b7b",
       "value": true
      }
     },
     "f5ec4bafce8a47389fc36bbf380ff089": {
      "model_module": "@jupyter-widgets/controls",
      "model_module_version": "1.1.0",
      "model_name": "ToggleButtonsStyleModel",
      "state": {
       "button_width": "",
       "description_width": ""
      }
     },
     "f606adc961c44f8b9755d1e03eb8449a": {
      "model_module": "@jupyter-widgets/controls",
      "model_module_version": "1.1.0",
      "model_name": "DescriptionStyleModel",
      "state": {
       "description_width": ""
      }
     },
     "f6398df354bc4679b689033928f3f329": {
      "model_module": "@jupyter-widgets/base",
      "model_module_version": "1.0.0",
      "model_name": "LayoutModel",
      "state": {}
     },
     "f673c3750a714ce6b241908ebc147d4d": {
      "model_module": "@jupyter-widgets/base",
      "model_module_version": "1.0.0",
      "model_name": "LayoutModel",
      "state": {}
     },
     "f71727a8872d46bfa0995c5545823cfc": {
      "model_module": "@jupyter-widgets/base",
      "model_module_version": "1.0.0",
      "model_name": "LayoutModel",
      "state": {}
     },
     "f7321fc4b17d4e829257afd40af2d5c2": {
      "model_module": "@jupyter-widgets/controls",
      "model_module_version": "1.1.0",
      "model_name": "DescriptionStyleModel",
      "state": {
       "description_width": ""
      }
     },
     "f753c75e2f27484493aa367682daa366": {
      "model_module": "@jupyter-widgets/controls",
      "model_module_version": "1.1.0",
      "model_name": "CheckboxModel",
      "state": {
       "description": "10°",
       "disabled": false,
       "layout": "IPY_MODEL_08f0b78c47574a45ac876371dff017db",
       "style": "IPY_MODEL_31eccb51f3554686a99127acb7d976ab",
       "value": true
      }
     },
     "f757fbb5e99d4a2d8befd8c12209d3d3": {
      "model_module": "@jupyter-widgets/controls",
      "model_module_version": "1.1.0",
      "model_name": "CheckboxModel",
      "state": {
       "description": "45°",
       "disabled": false,
       "layout": "IPY_MODEL_d99aff9ae3da4c99b9fc05e9620edc89",
       "style": "IPY_MODEL_32ae16106a1c4496831fc9941be86476",
       "value": true
      }
     },
     "f7f38f23b33c4fc9bedd89b58ecf6c4c": {
      "model_module": "@jupyter-widgets/base",
      "model_module_version": "1.0.0",
      "model_name": "LayoutModel",
      "state": {}
     },
     "f808b8d841c64ede90b90c8d1d382ad7": {
      "model_module": "@jupyter-widgets/controls",
      "model_module_version": "1.1.0",
      "model_name": "DescriptionStyleModel",
      "state": {
       "description_width": ""
      }
     },
     "f812ebabef9146fbb976efd2dd979889": {
      "model_module": "@jupyter-widgets/base",
      "model_module_version": "1.0.0",
      "model_name": "LayoutModel",
      "state": {}
     },
     "f8160d7eb5ec4e9e9e9be412fce32fd9": {
      "model_module": "@jupyter-widgets/controls",
      "model_module_version": "1.1.0",
      "model_name": "ToggleButtonsModel",
      "state": {
       "_options_labels": [
        "N (¹n)",
        "NDC (¹n)",
        "P (¹H)",
        "D (²H)",
        "T (³H)",
        "S (³He)",
        "A (⁴He)"
       ],
       "button_style": "",
       "description": "Type:",
       "icons": [],
       "index": 0,
       "layout": "IPY_MODEL_16f670a283904513995b6aa8c48c5375",
       "style": "IPY_MODEL_f252dec002114f79992adfffb78289bb",
       "tooltips": [
        "Neutron",
        "Back Target Neutron",
        "Proton",
        "Deuteron",
        "Triton",
        "Helium-3",
        "Helium-4"
       ]
      }
     },
     "f8187533cbd64b0f92011819d7ecc492": {
      "model_module": "@jupyter-widgets/base",
      "model_module_version": "1.0.0",
      "model_name": "LayoutModel",
      "state": {}
     },
     "f81a967a4e904b57bc79fffca0847c4a": {
      "model_module": "@jupyter-widgets/controls",
      "model_module_version": "1.1.0",
      "model_name": "ToggleButtonsModel",
      "state": {
       "_options_labels": [
        "Al",
        "HDPE",
        "AlPE"
       ],
       "button_style": "",
       "description": "Material:",
       "icons": [],
       "index": 0,
       "layout": "IPY_MODEL_d1331ffa41c94abdacbc2ece91c03a7e",
       "style": "IPY_MODEL_7269c215af174c58ad8c5c71aa27e07a",
       "tooltips": [
        "Aluminum",
        "Polyethylene",
        "Combination of Al and HDPE"
       ]
      }
     },
     "f8d1defbf04d4c329688c00ad9b82081": {
      "model_module": "@jupyter-widgets/base",
      "model_module_version": "1.0.0",
      "model_name": "LayoutModel",
      "state": {}
     },
     "f9518e3aacac4605b4bb8e8e408a58f3": {
      "model_module": "@jupyter-widgets/controls",
      "model_module_version": "1.1.0",
      "model_name": "LabelModel",
      "state": {
       "layout": "IPY_MODEL_c2da93c1248a406e97cdbda52cd4353e",
       "style": "IPY_MODEL_8f29115be0cc42ca9b36a84cc9c75532",
       "value": "Select which secondary particle to plot spectra for."
      }
     },
     "f97258fbbb4c467ebb072327200c0105": {
      "model_module": "@jupyter-widgets/controls",
      "model_module_version": "1.1.0",
      "model_name": "DescriptionStyleModel",
      "state": {
       "description_width": ""
      }
     },
     "fa1bd53915424fa1ab587c57ab48f080": {
      "model_module": "@jupyter-widgets/base",
      "model_module_version": "1.0.0",
      "model_name": "LayoutModel",
      "state": {}
     },
     "fa6823fad2d748e99617d54f76e63bc8": {
      "model_module": "@jupyter-widgets/controls",
      "model_module_version": "1.1.0",
      "model_name": "DescriptionStyleModel",
      "state": {
       "description_width": ""
      }
     },
     "fa76e56acdcd41718e0b25ba2bd643c5": {
      "model_module": "@jupyter-widgets/base",
      "model_module_version": "1.0.0",
      "model_name": "LayoutModel",
      "state": {}
     },
     "fa831ea3f4b347af83e3d34696ccf9ba": {
      "model_module": "@jupyter-widgets/base",
      "model_module_version": "1.0.0",
      "model_name": "LayoutModel",
      "state": {}
     },
     "fa868bfc1e314c0ebe3116aa8acc6ef2": {
      "model_module": "@jupyter-widgets/controls",
      "model_module_version": "1.1.0",
      "model_name": "ToggleButtonsStyleModel",
      "state": {
       "button_width": "",
       "description_width": ""
      }
     },
     "fafd0e3b04b4483f90d356ced0c29506": {
      "model_module": "@jupyter-widgets/controls",
      "model_module_version": "1.1.0",
      "model_name": "DescriptionStyleModel",
      "state": {
       "description_width": ""
      }
     },
     "faff79a189964b2d9547eac49f10b416": {
      "model_module": "@jupyter-widgets/base",
      "model_module_version": "1.0.0",
      "model_name": "LayoutModel",
      "state": {}
     },
     "fb064c7310ef43abbedd84003a322ca9": {
      "model_module": "@jupyter-widgets/controls",
      "model_module_version": "1.1.0",
      "model_name": "CheckboxModel",
      "state": {
       "description": "135°",
       "disabled": false,
       "layout": "IPY_MODEL_6fb95e2154dd4900892693eac880a9bb",
       "style": "IPY_MODEL_2e3a847b8cec4b5dbe367728c18d5a57",
       "value": true
      }
     },
     "fb164e172ac540ac81fc0ad566192df8": {
      "model_module": "@jupyter-widgets/controls",
      "model_module_version": "1.1.0",
      "model_name": "ToggleButtonsModel",
      "state": {
       "_options_labels": [
        "N (¹n)",
        "NDC (¹n)",
        "P (¹H)",
        "D (²H)",
        "T (³H)",
        "S (³He)",
        "A (⁴He)"
       ],
       "button_style": "",
       "description": "Particle:",
       "icons": [],
       "index": 2,
       "layout": "IPY_MODEL_13e8722c02124a1eb5386f71fef459c9",
       "style": "IPY_MODEL_16a0a785c08a4f329604b9d7b46e1730",
       "tooltips": [
        "Neutron",
        "Back Target Neutron",
        "Proton",
        "Deuteron",
        "Triton",
        "Helium-3",
        "Helium-4"
       ]
      }
     },
     "fb2e1b8ea9c74243b274d3c0c73fb9f8": {
      "model_module": "@jupyter-widgets/base",
      "model_module_version": "1.0.0",
      "model_name": "LayoutModel",
      "state": {}
     },
     "fb46bc84044a4051b90c55b7d4fbb1ab": {
      "model_module": "@jupyter-widgets/controls",
      "model_module_version": "1.1.0",
      "model_name": "DescriptionStyleModel",
      "state": {
       "description_width": ""
      }
     },
     "fb4e6dcac5164de5891986bbceb3509d": {
      "model_module": "@jupyter-widgets/base",
      "model_module_version": "1.0.0",
      "model_name": "LayoutModel",
      "state": {}
     },
     "fbac0d7df1d84bce9086128e146d7b02": {
      "model_module": "@jupyter-widgets/controls",
      "model_module_version": "1.1.0",
      "model_name": "ToggleButtonsModel",
      "state": {
       "_options_labels": [
        "N (¹n)",
        "NDC (¹n)",
        "P (¹H)",
        "D (²H)"
       ],
       "button_style": "",
       "description": "Type:",
       "icons": [],
       "index": 2,
       "layout": "IPY_MODEL_03fbf2b260454a4aba02e0841a431c22",
       "style": "IPY_MODEL_e66423a8657740bf85d4739442117038",
       "tooltips": [
        "Neutron",
        "Back Target Neutron",
        "Proton",
        "Deuteron"
       ]
      }
     },
     "fc21e1f76d594bbfb368d28398b75880": {
      "model_module": "@jupyter-widgets/controls",
      "model_module_version": "1.1.0",
      "model_name": "CheckboxModel",
      "state": {
       "description": "Experiment",
       "disabled": false,
       "layout": "IPY_MODEL_312d0650ec004f909b6f98ff9ccc158f",
       "style": "IPY_MODEL_ceb39673d4414fd298cd7f6f4aec66f0",
       "value": true
      }
     },
     "fc5e76d7b0d54b7fb864f43147295e4d": {
      "model_module": "@jupyter-widgets/controls",
      "model_module_version": "1.1.0",
      "model_name": "ToggleButtonsStyleModel",
      "state": {
       "button_width": "",
       "description_width": ""
      }
     },
     "fc5ff637033d46a79d10c9f739554db6": {
      "model_module": "@jupyter-widgets/controls",
      "model_module_version": "1.1.0",
      "model_name": "CheckboxModel",
      "state": {
       "description": "10°",
       "disabled": false,
       "layout": "IPY_MODEL_e125556179c24374bb636b9f57260100",
       "style": "IPY_MODEL_0e7c74024ab7459c89e88c6a6c6d58c7",
       "value": true
      }
     },
     "fca467fbacda4366ac6d71ccd5b56cfc": {
      "model_module": "@jupyter-widgets/base",
      "model_module_version": "1.0.0",
      "model_name": "LayoutModel",
      "state": {}
     },
     "fcdc8c835ef542a39bbe81e117c15446": {
      "model_module": "@jupyter-widgets/controls",
      "model_module_version": "1.1.0",
      "model_name": "DescriptionStyleModel",
      "state": {
       "description_width": ""
      }
     },
     "fd601da03285408d9dab1b4e589015f8": {
      "model_module": "@jupyter-widgets/base",
      "model_module_version": "1.0.0",
      "model_name": "LayoutModel",
      "state": {}
     },
     "fe14d7b10f2e4a5c8d43b25464f2f8af": {
      "model_module": "@jupyter-widgets/base",
      "model_module_version": "1.0.0",
      "model_name": "LayoutModel",
      "state": {}
     },
     "fe1c6ef13b8c446280dbc572670306df": {
      "model_module": "@jupyter-widgets/controls",
      "model_module_version": "1.1.0",
      "model_name": "ToggleButtonsModel",
      "state": {
       "_options_labels": [
        "N (¹n)",
        "NDC (¹n)",
        "P (¹H)",
        "D (²H)",
        "T (³H)",
        "S (³He)",
        "A (⁴He)"
       ],
       "button_style": "",
       "description": "Type:",
       "icons": [],
       "index": 0,
       "layout": "IPY_MODEL_cc5a322d499e45ec875485585e0187e8",
       "style": "IPY_MODEL_377f418dbd6a41b9b98c2d82f062e64e",
       "tooltips": [
        "Neutron",
        "Back Target Neutron",
        "Proton",
        "Deuteron",
        "Triton",
        "Helium-3",
        "Helium-4"
       ]
      }
     },
     "fe1d1e90130247ac8121c825e79cb174": {
      "model_module": "@jupyter-widgets/controls",
      "model_module_version": "1.1.0",
      "model_name": "DescriptionStyleModel",
      "state": {
       "description_width": ""
      }
     },
     "fe443f51af184df68b3c56cf06f77457": {
      "model_module": "@jupyter-widgets/controls",
      "model_module_version": "1.1.0",
      "model_name": "DescriptionStyleModel",
      "state": {
       "description_width": ""
      }
     },
     "feb773bb2249497ab65e8cae32c67021": {
      "model_module": "@jupyter-widgets/base",
      "model_module_version": "1.0.0",
      "model_name": "LayoutModel",
      "state": {}
     },
     "fee1b4be948d47cb972a0796e53ef5ad": {
      "model_module": "@jupyter-widgets/controls",
      "model_module_version": "1.1.0",
      "model_name": "CheckboxModel",
      "state": {
       "description": "10°",
       "disabled": false,
       "layout": "IPY_MODEL_2592cff594e84589b5bf39c835496b59",
       "style": "IPY_MODEL_35808e4c571c4f76a4628148a7a69c54",
       "value": true
      }
     },
     "ff0752d0085a4a8693b2646507320ce7": {
      "model_module": "@jupyter-widgets/base",
      "model_module_version": "1.0.0",
      "model_name": "LayoutModel",
      "state": {}
     },
     "ff286a067c23439a868c7e18520be3c3": {
      "model_module": "@jupyter-widgets/base",
      "model_module_version": "1.0.0",
      "model_name": "LayoutModel",
      "state": {}
     },
     "ff2f94b2546b423daf13837d3bd365ab": {
      "model_module": "@jupyter-widgets/controls",
      "model_module_version": "1.1.0",
      "model_name": "DescriptionStyleModel",
      "state": {
       "description_width": ""
      }
     },
     "ff356545a116431bb725754b20b707f1": {
      "model_module": "@jupyter-widgets/controls",
      "model_module_version": "1.1.0",
      "model_name": "CheckboxModel",
      "state": {
       "description": "Experiment",
       "disabled": false,
       "layout": "IPY_MODEL_a492ac76f1b94b6a9eb892afe1c19c06",
       "style": "IPY_MODEL_453f31976f1745da8fe67203caf87d15",
       "value": true
      }
     },
     "ff4624ac0a444ec2a1650e86cf483e1b": {
      "model_module": "@jupyter-widgets/controls",
      "model_module_version": "1.1.0",
      "model_name": "LabelModel",
      "state": {
       "layout": "IPY_MODEL_3390f09b3a6d4015a170c63a418e3897",
       "style": "IPY_MODEL_d7e0e5a003b4402f8fbab141e943e4c4",
       "value": "Select which sets of data to display."
      }
     },
     "ff5a7bc49d2c426bba829600c3d89560": {
      "model_module": "@jupyter-widgets/controls",
      "model_module_version": "1.1.0",
      "model_name": "CheckboxModel",
      "state": {
       "description": "60°",
       "disabled": false,
       "layout": "IPY_MODEL_a715567199b948ed9bf18629dce166b8",
       "style": "IPY_MODEL_d25f491b0e884a14a2edd32657745a70",
       "value": true
      }
     },
     "ff775fb71b26478da0e11f8d03b303f6": {
      "model_module": "@jupyter-widgets/base",
      "model_module_version": "1.0.0",
      "model_name": "LayoutModel",
      "state": {}
     },
     "ffc0f64b49c84d55873df730ed3f2593": {
      "model_module": "@jupyter-widgets/base",
      "model_module_version": "1.0.0",
      "model_name": "LayoutModel",
      "state": {}
     },
     "ffd7ce5689fb467b967c87d2b0dcf965": {
      "model_module": "@jupyter-widgets/controls",
      "model_module_version": "1.1.0",
      "model_name": "ToggleButtonsStyleModel",
      "state": {
       "button_width": "",
       "description_width": ""
      }
     },
     "ffe283cda2964f5f85d8d9bed246eb8e": {
      "model_module": "@jupyter-widgets/controls",
      "model_module_version": "1.1.0",
      "model_name": "CheckboxModel",
      "state": {
       "description": "30°",
       "disabled": false,
       "layout": "IPY_MODEL_409f8d96f1b84958a16c4d20848f7289",
       "style": "IPY_MODEL_215b0b190f52448c9781d9b9d17ba7cd",
       "value": true
      }
     }
    },
    "version_major": 2,
    "version_minor": 0
   }
  }
 },
 "nbformat": 4,
 "nbformat_minor": 1
}
